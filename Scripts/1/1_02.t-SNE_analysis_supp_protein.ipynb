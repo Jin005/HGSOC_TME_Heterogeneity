{
 "cells": [
  {
   "cell_type": "markdown",
   "metadata": {},
   "source": [
    "# Perform t-SNE analysis for treatment naive samples using only protein coding genes"
   ]
  },
  {
   "cell_type": "markdown",
   "metadata": {},
   "source": [
    "Script related to figure s1a\n",
    "\n",
    "### Aim:\n",
    "- See if by using only protein coding genes the patient-wise clustering is retained"
   ]
  },
  {
   "cell_type": "code",
   "execution_count": 1,
   "metadata": {},
   "outputs": [
    {
     "name": "stdout",
     "output_type": "stream",
     "text": [
      "Python 3.6.8 :: Anaconda custom (64-bit)\r\n"
     ]
    }
   ],
   "source": [
    "!python --version"
   ]
  },
  {
   "cell_type": "markdown",
   "metadata": {},
   "source": [
    "## Import packages"
   ]
  },
  {
   "cell_type": "code",
   "execution_count": 1,
   "metadata": {},
   "outputs": [],
   "source": [
    "import pyensembl\n",
    "import numpy as np\n",
    "import pandas as pd\n",
    "import seaborn as sns\n",
    "import sklearn.manifold as tsne\n",
    "import matplotlib.pyplot as plt"
   ]
  },
  {
   "cell_type": "code",
   "execution_count": 2,
   "metadata": {},
   "outputs": [],
   "source": [
    "home = \"~/git_repos/HGSOC_TME_Heterogeneity/\" # home"
   ]
  },
  {
   "cell_type": "markdown",
   "metadata": {},
   "source": [
    "## Get sample labels"
   ]
  },
  {
   "cell_type": "markdown",
   "metadata": {},
   "source": [
    "### Load file"
   ]
  },
  {
   "cell_type": "code",
   "execution_count": 5,
   "metadata": {},
   "outputs": [],
   "source": [
    "file_keys = home + \"Data/1/TreatmentNaive_SampleLabels_WESTumourCellularity.txt\"\n",
    "\n",
    "sample_labels = pd.read_csv(file_keys, sep='\\t', index_col='Well')"
   ]
  },
  {
   "cell_type": "code",
   "execution_count": 6,
   "metadata": {},
   "outputs": [
    {
     "data": {
      "text/html": [
       "<div>\n",
       "<style scoped>\n",
       "    .dataframe tbody tr th:only-of-type {\n",
       "        vertical-align: middle;\n",
       "    }\n",
       "\n",
       "    .dataframe tbody tr th {\n",
       "        vertical-align: top;\n",
       "    }\n",
       "\n",
       "    .dataframe thead th {\n",
       "        text-align: right;\n",
       "    }\n",
       "</style>\n",
       "<table border=\"1\" class=\"dataframe\">\n",
       "  <thead>\n",
       "    <tr style=\"text-align: right;\">\n",
       "      <th></th>\n",
       "      <th>Label</th>\n",
       "      <th>Key</th>\n",
       "      <th>Case_mRNA</th>\n",
       "      <th>Site</th>\n",
       "      <th>Habitat</th>\n",
       "      <th>Case_WES</th>\n",
       "      <th>Tumour_WES</th>\n",
       "      <th>Colour</th>\n",
       "      <th>Site_marker</th>\n",
       "      <th>TumourCellularity_WES</th>\n",
       "    </tr>\n",
       "    <tr>\n",
       "      <th>Well</th>\n",
       "      <th></th>\n",
       "      <th></th>\n",
       "      <th></th>\n",
       "      <th></th>\n",
       "      <th></th>\n",
       "      <th></th>\n",
       "      <th></th>\n",
       "      <th></th>\n",
       "      <th></th>\n",
       "      <th></th>\n",
       "    </tr>\n",
       "  </thead>\n",
       "  <tbody>\n",
       "    <tr>\n",
       "      <th>A01</th>\n",
       "      <td>A01_3640_5_Omentum</td>\n",
       "      <td>case10_omentum_green</td>\n",
       "      <td>10</td>\n",
       "      <td>omentum</td>\n",
       "      <td>green</td>\n",
       "      <td>10.0</td>\n",
       "      <td>5</td>\n",
       "      <td>#ff7f00</td>\n",
       "      <td>^</td>\n",
       "      <td>0.5973</td>\n",
       "    </tr>\n",
       "    <tr>\n",
       "      <th>A02</th>\n",
       "      <td>A02_3640_7_Omentum</td>\n",
       "      <td>case10_omentum_blue</td>\n",
       "      <td>10</td>\n",
       "      <td>omentum</td>\n",
       "      <td>blue</td>\n",
       "      <td>10.0</td>\n",
       "      <td>7</td>\n",
       "      <td>#ff7f00</td>\n",
       "      <td>^</td>\n",
       "      <td>0.5065</td>\n",
       "    </tr>\n",
       "    <tr>\n",
       "      <th>A03</th>\n",
       "      <td>A03_3640_9_Paracolic_Gutter</td>\n",
       "      <td>case10_paracolic_yellow</td>\n",
       "      <td>10</td>\n",
       "      <td>other</td>\n",
       "      <td>yellow</td>\n",
       "      <td>10.0</td>\n",
       "      <td>8</td>\n",
       "      <td>#ff7f00</td>\n",
       "      <td>s</td>\n",
       "      <td>0.4551</td>\n",
       "    </tr>\n",
       "    <tr>\n",
       "      <th>A04</th>\n",
       "      <td>A04_3640_17_R_Adnexa</td>\n",
       "      <td>case10_Radnexa_yellow</td>\n",
       "      <td>10</td>\n",
       "      <td>ovary</td>\n",
       "      <td>yellow</td>\n",
       "      <td>10.0</td>\n",
       "      <td>17</td>\n",
       "      <td>#ff7f00</td>\n",
       "      <td>o</td>\n",
       "      <td>0.6496</td>\n",
       "    </tr>\n",
       "    <tr>\n",
       "      <th>A05</th>\n",
       "      <td>A05_3640_18_R_Adnexa</td>\n",
       "      <td>case10_Radnexa_blue</td>\n",
       "      <td>10</td>\n",
       "      <td>ovary</td>\n",
       "      <td>blue</td>\n",
       "      <td>10.0</td>\n",
       "      <td>18</td>\n",
       "      <td>#ff7f00</td>\n",
       "      <td>o</td>\n",
       "      <td>0.6706</td>\n",
       "    </tr>\n",
       "  </tbody>\n",
       "</table>\n",
       "</div>"
      ],
      "text/plain": [
       "                            Label                      Key  Case_mRNA  \\\n",
       "Well                                                                    \n",
       "A01            A01_3640_5_Omentum     case10_omentum_green         10   \n",
       "A02            A02_3640_7_Omentum      case10_omentum_blue         10   \n",
       "A03   A03_3640_9_Paracolic_Gutter  case10_paracolic_yellow         10   \n",
       "A04          A04_3640_17_R_Adnexa    case10_Radnexa_yellow         10   \n",
       "A05          A05_3640_18_R_Adnexa      case10_Radnexa_blue         10   \n",
       "\n",
       "         Site Habitat  Case_WES Tumour_WES   Colour Site_marker  \\\n",
       "Well                                                              \n",
       "A01   omentum   green      10.0          5  #ff7f00           ^   \n",
       "A02   omentum    blue      10.0          7  #ff7f00           ^   \n",
       "A03     other  yellow      10.0          8  #ff7f00           s   \n",
       "A04     ovary  yellow      10.0         17  #ff7f00           o   \n",
       "A05     ovary    blue      10.0         18  #ff7f00           o   \n",
       "\n",
       "      TumourCellularity_WES  \n",
       "Well                         \n",
       "A01                  0.5973  \n",
       "A02                  0.5065  \n",
       "A03                  0.4551  \n",
       "A04                  0.6496  \n",
       "A05                  0.6706  "
      ]
     },
     "execution_count": 6,
     "metadata": {},
     "output_type": "execute_result"
    }
   ],
   "source": [
    "sample_labels.head()"
   ]
  },
  {
   "cell_type": "markdown",
   "metadata": {},
   "source": [
    "### Define sample colours"
   ]
  },
  {
   "cell_type": "code",
   "execution_count": 7,
   "metadata": {},
   "outputs": [],
   "source": [
    "case_mrna = list(set(sample_labels['Case_mRNA']))\n",
    "\n",
    "colours = sns.color_palette(\"Set1\", 8).as_hex()\n",
    "\n",
    "sample_labels['Colour'] = sample_labels['Case_mRNA'].replace(case_mrna, colours)"
   ]
  },
  {
   "cell_type": "markdown",
   "metadata": {},
   "source": [
    "### Define sample markers"
   ]
  },
  {
   "cell_type": "code",
   "execution_count": 8,
   "metadata": {},
   "outputs": [],
   "source": [
    "sites = ['ovary','omentum','other']\n",
    "markers = ['o','^','s']\n",
    "\n",
    "sample_labels['Site_marker'] = sample_labels['Site'].replace(sites,markers)"
   ]
  },
  {
   "cell_type": "code",
   "execution_count": 9,
   "metadata": {},
   "outputs": [
    {
     "data": {
      "text/html": [
       "<div>\n",
       "<style scoped>\n",
       "    .dataframe tbody tr th:only-of-type {\n",
       "        vertical-align: middle;\n",
       "    }\n",
       "\n",
       "    .dataframe tbody tr th {\n",
       "        vertical-align: top;\n",
       "    }\n",
       "\n",
       "    .dataframe thead th {\n",
       "        text-align: right;\n",
       "    }\n",
       "</style>\n",
       "<table border=\"1\" class=\"dataframe\">\n",
       "  <thead>\n",
       "    <tr style=\"text-align: right;\">\n",
       "      <th></th>\n",
       "      <th>Label</th>\n",
       "      <th>Key</th>\n",
       "      <th>Case_mRNA</th>\n",
       "      <th>Site</th>\n",
       "      <th>Habitat</th>\n",
       "      <th>Case_WES</th>\n",
       "      <th>Tumour_WES</th>\n",
       "      <th>Colour</th>\n",
       "      <th>Site_marker</th>\n",
       "      <th>TumourCellularity_WES</th>\n",
       "    </tr>\n",
       "    <tr>\n",
       "      <th>Well</th>\n",
       "      <th></th>\n",
       "      <th></th>\n",
       "      <th></th>\n",
       "      <th></th>\n",
       "      <th></th>\n",
       "      <th></th>\n",
       "      <th></th>\n",
       "      <th></th>\n",
       "      <th></th>\n",
       "      <th></th>\n",
       "    </tr>\n",
       "  </thead>\n",
       "  <tbody>\n",
       "    <tr>\n",
       "      <th>A01</th>\n",
       "      <td>A01_3640_5_Omentum</td>\n",
       "      <td>case10_omentum_green</td>\n",
       "      <td>10</td>\n",
       "      <td>omentum</td>\n",
       "      <td>green</td>\n",
       "      <td>10.0</td>\n",
       "      <td>5</td>\n",
       "      <td>#ff7f00</td>\n",
       "      <td>^</td>\n",
       "      <td>0.5973</td>\n",
       "    </tr>\n",
       "    <tr>\n",
       "      <th>A02</th>\n",
       "      <td>A02_3640_7_Omentum</td>\n",
       "      <td>case10_omentum_blue</td>\n",
       "      <td>10</td>\n",
       "      <td>omentum</td>\n",
       "      <td>blue</td>\n",
       "      <td>10.0</td>\n",
       "      <td>7</td>\n",
       "      <td>#ff7f00</td>\n",
       "      <td>^</td>\n",
       "      <td>0.5065</td>\n",
       "    </tr>\n",
       "    <tr>\n",
       "      <th>A03</th>\n",
       "      <td>A03_3640_9_Paracolic_Gutter</td>\n",
       "      <td>case10_paracolic_yellow</td>\n",
       "      <td>10</td>\n",
       "      <td>other</td>\n",
       "      <td>yellow</td>\n",
       "      <td>10.0</td>\n",
       "      <td>8</td>\n",
       "      <td>#ff7f00</td>\n",
       "      <td>s</td>\n",
       "      <td>0.4551</td>\n",
       "    </tr>\n",
       "    <tr>\n",
       "      <th>A04</th>\n",
       "      <td>A04_3640_17_R_Adnexa</td>\n",
       "      <td>case10_Radnexa_yellow</td>\n",
       "      <td>10</td>\n",
       "      <td>ovary</td>\n",
       "      <td>yellow</td>\n",
       "      <td>10.0</td>\n",
       "      <td>17</td>\n",
       "      <td>#ff7f00</td>\n",
       "      <td>o</td>\n",
       "      <td>0.6496</td>\n",
       "    </tr>\n",
       "    <tr>\n",
       "      <th>A05</th>\n",
       "      <td>A05_3640_18_R_Adnexa</td>\n",
       "      <td>case10_Radnexa_blue</td>\n",
       "      <td>10</td>\n",
       "      <td>ovary</td>\n",
       "      <td>blue</td>\n",
       "      <td>10.0</td>\n",
       "      <td>18</td>\n",
       "      <td>#ff7f00</td>\n",
       "      <td>o</td>\n",
       "      <td>0.6706</td>\n",
       "    </tr>\n",
       "  </tbody>\n",
       "</table>\n",
       "</div>"
      ],
      "text/plain": [
       "                            Label                      Key  Case_mRNA  \\\n",
       "Well                                                                    \n",
       "A01            A01_3640_5_Omentum     case10_omentum_green         10   \n",
       "A02            A02_3640_7_Omentum      case10_omentum_blue         10   \n",
       "A03   A03_3640_9_Paracolic_Gutter  case10_paracolic_yellow         10   \n",
       "A04          A04_3640_17_R_Adnexa    case10_Radnexa_yellow         10   \n",
       "A05          A05_3640_18_R_Adnexa      case10_Radnexa_blue         10   \n",
       "\n",
       "         Site Habitat  Case_WES Tumour_WES   Colour Site_marker  \\\n",
       "Well                                                              \n",
       "A01   omentum   green      10.0          5  #ff7f00           ^   \n",
       "A02   omentum    blue      10.0          7  #ff7f00           ^   \n",
       "A03     other  yellow      10.0          8  #ff7f00           s   \n",
       "A04     ovary  yellow      10.0         17  #ff7f00           o   \n",
       "A05     ovary    blue      10.0         18  #ff7f00           o   \n",
       "\n",
       "      TumourCellularity_WES  \n",
       "Well                         \n",
       "A01                  0.5973  \n",
       "A02                  0.5065  \n",
       "A03                  0.4551  \n",
       "A04                  0.6496  \n",
       "A05                  0.6706  "
      ]
     },
     "execution_count": 9,
     "metadata": {},
     "output_type": "execute_result"
    }
   ],
   "source": [
    "sample_labels.head()"
   ]
  },
  {
   "cell_type": "markdown",
   "metadata": {},
   "source": [
    "## Load expression data"
   ]
  },
  {
   "cell_type": "code",
   "execution_count": 10,
   "metadata": {},
   "outputs": [],
   "source": [
    "data_file = home + \"Data/1/TreatmentNaive_log2exp_loess_norm.txt\"\n",
    "\n",
    "data = pd.read_csv(data_file, sep='\\t', index_col='Hugo_Symbol')"
   ]
  },
  {
   "cell_type": "code",
   "execution_count": 11,
   "metadata": {},
   "outputs": [
    {
     "data": {
      "text/html": [
       "<div>\n",
       "<style scoped>\n",
       "    .dataframe tbody tr th:only-of-type {\n",
       "        vertical-align: middle;\n",
       "    }\n",
       "\n",
       "    .dataframe tbody tr th {\n",
       "        vertical-align: top;\n",
       "    }\n",
       "\n",
       "    .dataframe thead th {\n",
       "        text-align: right;\n",
       "    }\n",
       "</style>\n",
       "<table border=\"1\" class=\"dataframe\">\n",
       "  <thead>\n",
       "    <tr style=\"text-align: right;\">\n",
       "      <th></th>\n",
       "      <th>A01</th>\n",
       "      <th>A02</th>\n",
       "      <th>A03</th>\n",
       "      <th>A04</th>\n",
       "      <th>A05</th>\n",
       "      <th>A06</th>\n",
       "      <th>A07</th>\n",
       "      <th>A08</th>\n",
       "      <th>A09</th>\n",
       "      <th>A10</th>\n",
       "      <th>...</th>\n",
       "      <th>C06</th>\n",
       "      <th>C07</th>\n",
       "      <th>C08</th>\n",
       "      <th>C09</th>\n",
       "      <th>C10</th>\n",
       "      <th>C11</th>\n",
       "      <th>C12</th>\n",
       "      <th>D01</th>\n",
       "      <th>D02</th>\n",
       "      <th>D03</th>\n",
       "    </tr>\n",
       "    <tr>\n",
       "      <th>Hugo_Symbol</th>\n",
       "      <th></th>\n",
       "      <th></th>\n",
       "      <th></th>\n",
       "      <th></th>\n",
       "      <th></th>\n",
       "      <th></th>\n",
       "      <th></th>\n",
       "      <th></th>\n",
       "      <th></th>\n",
       "      <th></th>\n",
       "      <th></th>\n",
       "      <th></th>\n",
       "      <th></th>\n",
       "      <th></th>\n",
       "      <th></th>\n",
       "      <th></th>\n",
       "      <th></th>\n",
       "      <th></th>\n",
       "      <th></th>\n",
       "      <th></th>\n",
       "      <th></th>\n",
       "    </tr>\n",
       "  </thead>\n",
       "  <tbody>\n",
       "    <tr>\n",
       "      <th>A1BG</th>\n",
       "      <td>4.124711</td>\n",
       "      <td>3.880633</td>\n",
       "      <td>4.864973</td>\n",
       "      <td>4.167882</td>\n",
       "      <td>4.317845</td>\n",
       "      <td>3.679057</td>\n",
       "      <td>4.092837</td>\n",
       "      <td>4.370571</td>\n",
       "      <td>4.252637</td>\n",
       "      <td>4.174694</td>\n",
       "      <td>...</td>\n",
       "      <td>3.804537</td>\n",
       "      <td>4.416981</td>\n",
       "      <td>4.169014</td>\n",
       "      <td>4.503313</td>\n",
       "      <td>4.146333</td>\n",
       "      <td>4.078398</td>\n",
       "      <td>4.011369</td>\n",
       "      <td>3.845128</td>\n",
       "      <td>3.600927</td>\n",
       "      <td>4.521857</td>\n",
       "    </tr>\n",
       "    <tr>\n",
       "      <th>A2BP1</th>\n",
       "      <td>3.960924</td>\n",
       "      <td>4.033715</td>\n",
       "      <td>3.721251</td>\n",
       "      <td>3.916073</td>\n",
       "      <td>4.338194</td>\n",
       "      <td>3.357396</td>\n",
       "      <td>3.872447</td>\n",
       "      <td>3.803388</td>\n",
       "      <td>3.484735</td>\n",
       "      <td>4.427405</td>\n",
       "      <td>...</td>\n",
       "      <td>4.991068</td>\n",
       "      <td>3.799913</td>\n",
       "      <td>4.117883</td>\n",
       "      <td>4.122134</td>\n",
       "      <td>4.221760</td>\n",
       "      <td>3.648326</td>\n",
       "      <td>3.675317</td>\n",
       "      <td>3.546925</td>\n",
       "      <td>3.788279</td>\n",
       "      <td>4.920841</td>\n",
       "    </tr>\n",
       "    <tr>\n",
       "      <th>A2M</th>\n",
       "      <td>12.603155</td>\n",
       "      <td>10.859838</td>\n",
       "      <td>12.612923</td>\n",
       "      <td>9.176999</td>\n",
       "      <td>10.548790</td>\n",
       "      <td>11.840776</td>\n",
       "      <td>7.200547</td>\n",
       "      <td>11.835658</td>\n",
       "      <td>11.535547</td>\n",
       "      <td>7.080118</td>\n",
       "      <td>...</td>\n",
       "      <td>9.061598</td>\n",
       "      <td>9.189459</td>\n",
       "      <td>8.844728</td>\n",
       "      <td>7.464440</td>\n",
       "      <td>6.726233</td>\n",
       "      <td>9.265911</td>\n",
       "      <td>10.740486</td>\n",
       "      <td>9.735582</td>\n",
       "      <td>10.781599</td>\n",
       "      <td>8.734304</td>\n",
       "    </tr>\n",
       "    <tr>\n",
       "      <th>A2ML1</th>\n",
       "      <td>3.945877</td>\n",
       "      <td>4.000621</td>\n",
       "      <td>3.767932</td>\n",
       "      <td>3.789729</td>\n",
       "      <td>3.543204</td>\n",
       "      <td>3.805520</td>\n",
       "      <td>4.336280</td>\n",
       "      <td>4.031757</td>\n",
       "      <td>4.166018</td>\n",
       "      <td>3.673146</td>\n",
       "      <td>...</td>\n",
       "      <td>4.231174</td>\n",
       "      <td>3.871651</td>\n",
       "      <td>3.287232</td>\n",
       "      <td>3.721093</td>\n",
       "      <td>3.723801</td>\n",
       "      <td>3.884499</td>\n",
       "      <td>3.694111</td>\n",
       "      <td>3.937682</td>\n",
       "      <td>3.600471</td>\n",
       "      <td>3.402861</td>\n",
       "    </tr>\n",
       "    <tr>\n",
       "      <th>A4GALT</th>\n",
       "      <td>3.597277</td>\n",
       "      <td>3.863757</td>\n",
       "      <td>4.051844</td>\n",
       "      <td>4.113169</td>\n",
       "      <td>3.975144</td>\n",
       "      <td>3.991293</td>\n",
       "      <td>5.439960</td>\n",
       "      <td>4.696177</td>\n",
       "      <td>4.171788</td>\n",
       "      <td>4.041633</td>\n",
       "      <td>...</td>\n",
       "      <td>4.183089</td>\n",
       "      <td>4.699729</td>\n",
       "      <td>4.019537</td>\n",
       "      <td>3.739865</td>\n",
       "      <td>4.591953</td>\n",
       "      <td>4.997860</td>\n",
       "      <td>4.099630</td>\n",
       "      <td>5.001239</td>\n",
       "      <td>4.714710</td>\n",
       "      <td>4.145119</td>\n",
       "    </tr>\n",
       "  </tbody>\n",
       "</table>\n",
       "<p>5 rows × 38 columns</p>\n",
       "</div>"
      ],
      "text/plain": [
       "                   A01        A02        A03       A04        A05        A06  \\\n",
       "Hugo_Symbol                                                                    \n",
       "A1BG          4.124711   3.880633   4.864973  4.167882   4.317845   3.679057   \n",
       "A2BP1         3.960924   4.033715   3.721251  3.916073   4.338194   3.357396   \n",
       "A2M          12.603155  10.859838  12.612923  9.176999  10.548790  11.840776   \n",
       "A2ML1         3.945877   4.000621   3.767932  3.789729   3.543204   3.805520   \n",
       "A4GALT        3.597277   3.863757   4.051844  4.113169   3.975144   3.991293   \n",
       "\n",
       "                  A07        A08        A09       A10  ...       C06  \\\n",
       "Hugo_Symbol                                            ...             \n",
       "A1BG         4.092837   4.370571   4.252637  4.174694  ...  3.804537   \n",
       "A2BP1        3.872447   3.803388   3.484735  4.427405  ...  4.991068   \n",
       "A2M          7.200547  11.835658  11.535547  7.080118  ...  9.061598   \n",
       "A2ML1        4.336280   4.031757   4.166018  3.673146  ...  4.231174   \n",
       "A4GALT       5.439960   4.696177   4.171788  4.041633  ...  4.183089   \n",
       "\n",
       "                  C07       C08       C09       C10       C11        C12  \\\n",
       "Hugo_Symbol                                                                \n",
       "A1BG         4.416981  4.169014  4.503313  4.146333  4.078398   4.011369   \n",
       "A2BP1        3.799913  4.117883  4.122134  4.221760  3.648326   3.675317   \n",
       "A2M          9.189459  8.844728  7.464440  6.726233  9.265911  10.740486   \n",
       "A2ML1        3.871651  3.287232  3.721093  3.723801  3.884499   3.694111   \n",
       "A4GALT       4.699729  4.019537  3.739865  4.591953  4.997860   4.099630   \n",
       "\n",
       "                  D01        D02       D03  \n",
       "Hugo_Symbol                                 \n",
       "A1BG         3.845128   3.600927  4.521857  \n",
       "A2BP1        3.546925   3.788279  4.920841  \n",
       "A2M          9.735582  10.781599  8.734304  \n",
       "A2ML1        3.937682   3.600471  3.402861  \n",
       "A4GALT       5.001239   4.714710  4.145119  \n",
       "\n",
       "[5 rows x 38 columns]"
      ]
     },
     "execution_count": 11,
     "metadata": {},
     "output_type": "execute_result"
    }
   ],
   "source": [
    "data.head()"
   ]
  },
  {
   "cell_type": "markdown",
   "metadata": {},
   "source": [
    "## Filter-out non-protein coding genes"
   ]
  },
  {
   "cell_type": "markdown",
   "metadata": {},
   "source": [
    "### Select ensembl release"
   ]
  },
  {
   "cell_type": "code",
   "execution_count": 12,
   "metadata": {},
   "outputs": [],
   "source": [
    "ensembl = pyensembl.EnsemblRelease(release=75)\n",
    "genes = ensembl.genes() # genes object"
   ]
  },
  {
   "cell_type": "markdown",
   "metadata": {},
   "source": [
    "### Filter-in protein coding genes"
   ]
  },
  {
   "cell_type": "code",
   "execution_count": 13,
   "metadata": {},
   "outputs": [],
   "source": [
    "prot_cod_genes = []\n",
    "for gene in genes:\n",
    "    \n",
    "    if gene.biotype == 'protein_coding':\n",
    "        \n",
    "        prot_cod_genes.append(str(gene.name))"
   ]
  },
  {
   "cell_type": "code",
   "execution_count": 14,
   "metadata": {},
   "outputs": [
    {
     "data": {
      "text/plain": [
       "['TSPAN6', 'TNMD', 'DPM1', 'SCYL3', 'C1orf112']"
      ]
     },
     "execution_count": 14,
     "metadata": {},
     "output_type": "execute_result"
    }
   ],
   "source": [
    "prot_cod_genes[:5]"
   ]
  },
  {
   "cell_type": "code",
   "execution_count": 15,
   "metadata": {},
   "outputs": [
    {
     "data": {
      "text/plain": [
       "22810"
      ]
     },
     "execution_count": 15,
     "metadata": {},
     "output_type": "execute_result"
    }
   ],
   "source": [
    "len(prot_cod_genes)"
   ]
  },
  {
   "cell_type": "code",
   "execution_count": 16,
   "metadata": {},
   "outputs": [],
   "source": [
    "data_protCod = data[data.index.isin(set(prot_cod_genes))]"
   ]
  },
  {
   "cell_type": "markdown",
   "metadata": {},
   "source": [
    "### What fraction of genes do we retain?"
   ]
  },
  {
   "cell_type": "code",
   "execution_count": 17,
   "metadata": {},
   "outputs": [
    {
     "data": {
      "text/plain": [
       "0.985001363512408"
      ]
     },
     "execution_count": 17,
     "metadata": {},
     "output_type": "execute_result"
    }
   ],
   "source": [
    "len(data_protCod.index) / len(data.index)"
   ]
  },
  {
   "cell_type": "markdown",
   "metadata": {},
   "source": [
    "## Calculate t-SNE"
   ]
  },
  {
   "cell_type": "markdown",
   "metadata": {},
   "source": [
    "### Transpose data frame"
   ]
  },
  {
   "cell_type": "code",
   "execution_count": 18,
   "metadata": {},
   "outputs": [
    {
     "data": {
      "text/html": [
       "<div>\n",
       "<style scoped>\n",
       "    .dataframe tbody tr th:only-of-type {\n",
       "        vertical-align: middle;\n",
       "    }\n",
       "\n",
       "    .dataframe tbody tr th {\n",
       "        vertical-align: top;\n",
       "    }\n",
       "\n",
       "    .dataframe thead th {\n",
       "        text-align: right;\n",
       "    }\n",
       "</style>\n",
       "<table border=\"1\" class=\"dataframe\">\n",
       "  <thead>\n",
       "    <tr style=\"text-align: right;\">\n",
       "      <th></th>\n",
       "      <th>A01</th>\n",
       "      <th>A02</th>\n",
       "      <th>A03</th>\n",
       "      <th>A04</th>\n",
       "      <th>A05</th>\n",
       "      <th>A06</th>\n",
       "      <th>A07</th>\n",
       "      <th>A08</th>\n",
       "      <th>A09</th>\n",
       "      <th>A10</th>\n",
       "      <th>...</th>\n",
       "      <th>C06</th>\n",
       "      <th>C07</th>\n",
       "      <th>C08</th>\n",
       "      <th>C09</th>\n",
       "      <th>C10</th>\n",
       "      <th>C11</th>\n",
       "      <th>C12</th>\n",
       "      <th>D01</th>\n",
       "      <th>D02</th>\n",
       "      <th>D03</th>\n",
       "    </tr>\n",
       "    <tr>\n",
       "      <th>Hugo_Symbol</th>\n",
       "      <th></th>\n",
       "      <th></th>\n",
       "      <th></th>\n",
       "      <th></th>\n",
       "      <th></th>\n",
       "      <th></th>\n",
       "      <th></th>\n",
       "      <th></th>\n",
       "      <th></th>\n",
       "      <th></th>\n",
       "      <th></th>\n",
       "      <th></th>\n",
       "      <th></th>\n",
       "      <th></th>\n",
       "      <th></th>\n",
       "      <th></th>\n",
       "      <th></th>\n",
       "      <th></th>\n",
       "      <th></th>\n",
       "      <th></th>\n",
       "      <th></th>\n",
       "    </tr>\n",
       "  </thead>\n",
       "  <tbody>\n",
       "    <tr>\n",
       "      <th>A1BG</th>\n",
       "      <td>4.124711</td>\n",
       "      <td>3.880633</td>\n",
       "      <td>4.864973</td>\n",
       "      <td>4.167882</td>\n",
       "      <td>4.317845</td>\n",
       "      <td>3.679057</td>\n",
       "      <td>4.092837</td>\n",
       "      <td>4.370571</td>\n",
       "      <td>4.252637</td>\n",
       "      <td>4.174694</td>\n",
       "      <td>...</td>\n",
       "      <td>3.804537</td>\n",
       "      <td>4.416981</td>\n",
       "      <td>4.169014</td>\n",
       "      <td>4.503313</td>\n",
       "      <td>4.146333</td>\n",
       "      <td>4.078398</td>\n",
       "      <td>4.011369</td>\n",
       "      <td>3.845128</td>\n",
       "      <td>3.600927</td>\n",
       "      <td>4.521857</td>\n",
       "    </tr>\n",
       "    <tr>\n",
       "      <th>A2M</th>\n",
       "      <td>12.603155</td>\n",
       "      <td>10.859838</td>\n",
       "      <td>12.612923</td>\n",
       "      <td>9.176999</td>\n",
       "      <td>10.548790</td>\n",
       "      <td>11.840776</td>\n",
       "      <td>7.200547</td>\n",
       "      <td>11.835658</td>\n",
       "      <td>11.535547</td>\n",
       "      <td>7.080118</td>\n",
       "      <td>...</td>\n",
       "      <td>9.061598</td>\n",
       "      <td>9.189459</td>\n",
       "      <td>8.844728</td>\n",
       "      <td>7.464440</td>\n",
       "      <td>6.726233</td>\n",
       "      <td>9.265911</td>\n",
       "      <td>10.740486</td>\n",
       "      <td>9.735582</td>\n",
       "      <td>10.781599</td>\n",
       "      <td>8.734304</td>\n",
       "    </tr>\n",
       "    <tr>\n",
       "      <th>A2ML1</th>\n",
       "      <td>3.945877</td>\n",
       "      <td>4.000621</td>\n",
       "      <td>3.767932</td>\n",
       "      <td>3.789729</td>\n",
       "      <td>3.543204</td>\n",
       "      <td>3.805520</td>\n",
       "      <td>4.336280</td>\n",
       "      <td>4.031757</td>\n",
       "      <td>4.166018</td>\n",
       "      <td>3.673146</td>\n",
       "      <td>...</td>\n",
       "      <td>4.231174</td>\n",
       "      <td>3.871651</td>\n",
       "      <td>3.287232</td>\n",
       "      <td>3.721093</td>\n",
       "      <td>3.723801</td>\n",
       "      <td>3.884499</td>\n",
       "      <td>3.694111</td>\n",
       "      <td>3.937682</td>\n",
       "      <td>3.600471</td>\n",
       "      <td>3.402861</td>\n",
       "    </tr>\n",
       "    <tr>\n",
       "      <th>A4GALT</th>\n",
       "      <td>3.597277</td>\n",
       "      <td>3.863757</td>\n",
       "      <td>4.051844</td>\n",
       "      <td>4.113169</td>\n",
       "      <td>3.975144</td>\n",
       "      <td>3.991293</td>\n",
       "      <td>5.439960</td>\n",
       "      <td>4.696177</td>\n",
       "      <td>4.171788</td>\n",
       "      <td>4.041633</td>\n",
       "      <td>...</td>\n",
       "      <td>4.183089</td>\n",
       "      <td>4.699729</td>\n",
       "      <td>4.019537</td>\n",
       "      <td>3.739865</td>\n",
       "      <td>4.591953</td>\n",
       "      <td>4.997860</td>\n",
       "      <td>4.099630</td>\n",
       "      <td>5.001239</td>\n",
       "      <td>4.714710</td>\n",
       "      <td>4.145119</td>\n",
       "    </tr>\n",
       "    <tr>\n",
       "      <th>A4GNT</th>\n",
       "      <td>3.714481</td>\n",
       "      <td>3.593169</td>\n",
       "      <td>3.241352</td>\n",
       "      <td>3.515850</td>\n",
       "      <td>3.364447</td>\n",
       "      <td>3.767865</td>\n",
       "      <td>3.768695</td>\n",
       "      <td>3.163977</td>\n",
       "      <td>3.423377</td>\n",
       "      <td>3.205154</td>\n",
       "      <td>...</td>\n",
       "      <td>3.896812</td>\n",
       "      <td>3.915653</td>\n",
       "      <td>3.351422</td>\n",
       "      <td>3.719759</td>\n",
       "      <td>3.641028</td>\n",
       "      <td>3.114521</td>\n",
       "      <td>3.560199</td>\n",
       "      <td>3.539738</td>\n",
       "      <td>3.760903</td>\n",
       "      <td>3.479266</td>\n",
       "    </tr>\n",
       "  </tbody>\n",
       "</table>\n",
       "<p>5 rows × 38 columns</p>\n",
       "</div>"
      ],
      "text/plain": [
       "                   A01        A02        A03       A04        A05        A06  \\\n",
       "Hugo_Symbol                                                                    \n",
       "A1BG          4.124711   3.880633   4.864973  4.167882   4.317845   3.679057   \n",
       "A2M          12.603155  10.859838  12.612923  9.176999  10.548790  11.840776   \n",
       "A2ML1         3.945877   4.000621   3.767932  3.789729   3.543204   3.805520   \n",
       "A4GALT        3.597277   3.863757   4.051844  4.113169   3.975144   3.991293   \n",
       "A4GNT         3.714481   3.593169   3.241352  3.515850   3.364447   3.767865   \n",
       "\n",
       "                  A07        A08        A09       A10  ...       C06  \\\n",
       "Hugo_Symbol                                            ...             \n",
       "A1BG         4.092837   4.370571   4.252637  4.174694  ...  3.804537   \n",
       "A2M          7.200547  11.835658  11.535547  7.080118  ...  9.061598   \n",
       "A2ML1        4.336280   4.031757   4.166018  3.673146  ...  4.231174   \n",
       "A4GALT       5.439960   4.696177   4.171788  4.041633  ...  4.183089   \n",
       "A4GNT        3.768695   3.163977   3.423377  3.205154  ...  3.896812   \n",
       "\n",
       "                  C07       C08       C09       C10       C11        C12  \\\n",
       "Hugo_Symbol                                                                \n",
       "A1BG         4.416981  4.169014  4.503313  4.146333  4.078398   4.011369   \n",
       "A2M          9.189459  8.844728  7.464440  6.726233  9.265911  10.740486   \n",
       "A2ML1        3.871651  3.287232  3.721093  3.723801  3.884499   3.694111   \n",
       "A4GALT       4.699729  4.019537  3.739865  4.591953  4.997860   4.099630   \n",
       "A4GNT        3.915653  3.351422  3.719759  3.641028  3.114521   3.560199   \n",
       "\n",
       "                  D01        D02       D03  \n",
       "Hugo_Symbol                                 \n",
       "A1BG         3.845128   3.600927  4.521857  \n",
       "A2M          9.735582  10.781599  8.734304  \n",
       "A2ML1        3.937682   3.600471  3.402861  \n",
       "A4GALT       5.001239   4.714710  4.145119  \n",
       "A4GNT        3.539738   3.760903  3.479266  \n",
       "\n",
       "[5 rows x 38 columns]"
      ]
     },
     "execution_count": 18,
     "metadata": {},
     "output_type": "execute_result"
    }
   ],
   "source": [
    "data_protCod.head()"
   ]
  },
  {
   "cell_type": "code",
   "execution_count": 19,
   "metadata": {},
   "outputs": [],
   "source": [
    "data_protCod_t = data_protCod.T"
   ]
  },
  {
   "cell_type": "code",
   "execution_count": 20,
   "metadata": {},
   "outputs": [],
   "source": [
    "data_protCod_tsne = tsne.TSNE(learning_rate=100,\n",
    "                              n_iter=5000,\n",
    "                              perplexity=5).fit_transform(data_protCod_t.values)"
   ]
  },
  {
   "cell_type": "markdown",
   "metadata": {},
   "source": [
    "## Plot t-SNE"
   ]
  },
  {
   "cell_type": "markdown",
   "metadata": {},
   "source": [
    "### Create custom colormaps (a.k.a. cmaps)"
   ]
  },
  {
   "cell_type": "code",
   "execution_count": 21,
   "metadata": {},
   "outputs": [],
   "source": [
    "def make_cmap(colors, position=None, bit=False):\n",
    "    \n",
    "    '''\n",
    "    make_cmap takes a list of tuples which contain RGB values. The RGB\n",
    "    values may either be in 8-bit [0 to 255] (in which bit must be set to\n",
    "    True when called) or arithmetic [0 to 1] (default). make_cmap returns\n",
    "    a cmap with equally spaced colors.\n",
    "    Arrange your tuples so that the first color is the lowest value for the\n",
    "    colorbar and the last is the highest.\n",
    "    position contains values from 0 to 1 to dictate the location of each color.\n",
    "    '''\n",
    "    import matplotlib as mpl\n",
    "    import numpy as np\n",
    "    bit_rgb = np.linspace(0,1,256)\n",
    "    if position == None:\n",
    "        position = np.linspace(0,1,len(colors))\n",
    "    else:\n",
    "        if len(position) != len(colors):\n",
    "            sys.exit(\"position length must be the same as colors\")\n",
    "        elif position[0] != 0 or position[-1] != 1:\n",
    "            sys.exit(\"position must start with 0 and end with 1\")\n",
    "    if bit:\n",
    "        for i in range(len(colors)):\n",
    "            colors[i] = (bit_rgb[colors[i][0]],\n",
    "                         bit_rgb[colors[i][1]],\n",
    "                         bit_rgb[colors[i][2]])\n",
    "    cdict = {'red':[], 'green':[], 'blue':[]}\n",
    "    for pos, color in zip(position, colors):\n",
    "        cdict['red'].append((pos, color[0], color[0]))\n",
    "        cdict['green'].append((pos, color[1], color[1]))\n",
    "        cdict['blue'].append((pos, color[2], color[2]))\n",
    "\n",
    "    cmap = mpl.colors.LinearSegmentedColormap('my_colormap',cdict,256)\n",
    "    \n",
    "    return cmap"
   ]
  },
  {
   "cell_type": "markdown",
   "metadata": {},
   "source": [
    "### Convert hex to rgb colour"
   ]
  },
  {
   "cell_type": "code",
   "execution_count": 22,
   "metadata": {},
   "outputs": [],
   "source": [
    "def hex_to_rgb(value):\n",
    "    \n",
    "    '''Return (red, green, blue) for the color given as #rrggbb.'''\n",
    "    \n",
    "    value = value.lstrip('#')\n",
    "    lv = len(value)\n",
    "    \n",
    "    return tuple(int(value[i:i + lv // 3], 16) for i in range(0, lv, lv // 3))"
   ]
  },
  {
   "cell_type": "markdown",
   "metadata": {},
   "source": [
    "### Define cmaps for patient kernel densities"
   ]
  },
  {
   "cell_type": "code",
   "execution_count": 23,
   "metadata": {},
   "outputs": [],
   "source": [
    "white = (255,255,255)\n",
    "\n",
    "reds    = make_cmap([white, hex_to_rgb('#e41a1c')], bit=True)\n",
    "blues   = make_cmap([white, hex_to_rgb('#377eb8')], bit=True)\n",
    "greens  = make_cmap([white, hex_to_rgb('#4eae4b')], bit=True)\n",
    "purples = make_cmap([white, hex_to_rgb('#994fa1')], bit=True)\n",
    "oranges = make_cmap([white, hex_to_rgb('#ff8101')], bit=True)\n",
    "yellows = make_cmap([white, hex_to_rgb('#fdfc33')], bit=True)\n",
    "browns  = make_cmap([white, hex_to_rgb('#a8572c')], bit=True)\n",
    "pinks   = make_cmap([white, hex_to_rgb('#f482be')], bit=True)\n",
    "\n",
    "reds_r    = make_cmap([hex_to_rgb('#e41a1c'), white], bit=True)\n",
    "blues_r   = make_cmap([hex_to_rgb('#377eb8'), white], bit=True)\n",
    "greens_r  = make_cmap([hex_to_rgb('#4eae4b'), white], bit=True)\n",
    "purples_r = make_cmap([hex_to_rgb('#994fa1'), white], bit=True)\n",
    "oranges_r = make_cmap([hex_to_rgb('#ff8101'), white], bit=True)\n",
    "yellows_r = make_cmap([hex_to_rgb('#fdfc33'), white], bit=True)\n",
    "browns_r  = make_cmap([hex_to_rgb('#a8572c'), white], bit=True)\n",
    "pinks_r   = make_cmap([hex_to_rgb('#f482be'), white], bit=True)"
   ]
  },
  {
   "cell_type": "markdown",
   "metadata": {},
   "source": [
    "### Colour-sample correspondence"
   ]
  },
  {
   "cell_type": "code",
   "execution_count": 24,
   "metadata": {},
   "outputs": [],
   "source": [
    "color_case_d = {1:reds,\n",
    "                4:blues,\n",
    "                5:greens,\n",
    "                6:purples,\n",
    "                10:oranges,\n",
    "                13:yellows,\n",
    "                16:browns,\n",
    "                17:pinks}\n",
    "\n",
    "color_case_dr = {1:reds_r,\n",
    "                 4:blues_r,\n",
    "                 5:greens_r,\n",
    "                 6:purples_r,\n",
    "                 10:oranges_r,\n",
    "                 13:yellows_r,\n",
    "                 16:browns_r,\n",
    "                 17:pinks_r}"
   ]
  },
  {
   "cell_type": "markdown",
   "metadata": {},
   "source": [
    "### Plot"
   ]
  },
  {
   "cell_type": "code",
   "execution_count": 25,
   "metadata": {},
   "outputs": [
    {
     "data": {
      "text/plain": [
       "(-300, 300)"
      ]
     },
     "execution_count": 25,
     "metadata": {},
     "output_type": "execute_result"
    },
    {
     "data": {
      "image/png": "[encoded data removed]",
      "text/plain": [
       "<Figure size 360x360 with 1 Axes>"
      ]
     },
     "metadata": {},
     "output_type": "display_data"
    }
   ],
   "source": [
    "fig = plt.figure(figsize=(5, 5))\n",
    "\n",
    "plt.title('t-SNE')\n",
    "\n",
    "d_kde = {}\n",
    "for i in range(len(data_protCod_tsne[:, 0])):\n",
    "    \n",
    "    plt.scatter(data_protCod_tsne[:, 0][i],\n",
    "                data_protCod_tsne[:, 1][i],\n",
    "                c=list(sample_labels['Colour'])[i],\n",
    "                edgecolors=list(sample_labels['Colour'])[i],\n",
    "                marker=list(sample_labels['Site_marker'])[i],\n",
    "                zorder=1,\n",
    "                lw=1,\n",
    "                s=50)\n",
    "    \n",
    "    if list(sample_labels['Case_mRNA'])[i] not in d_kde:\n",
    "        \n",
    "        d_kde[list(sample_labels['Case_mRNA'])[i]] = {'x':[data_protCod_tsne[:, 0][i]],\n",
    "                                                      'y':[data_protCod_tsne[:, 1][i]],\n",
    "                                                      'c':list(sample_labels['Colour'])[i]}\n",
    "    else:\n",
    "        \n",
    "        d_kde[list(sample_labels['Case_mRNA'])[i]]['x'].append(data_protCod_tsne[:, 0][i])\n",
    "        d_kde[list(sample_labels['Case_mRNA'])[i]]['y'].append(data_protCod_tsne[:, 1][i])\n",
    "      \n",
    "for j in d_kde:\n",
    "\n",
    "    sns.kdeplot(np.array(d_kde[j]['x']),\n",
    "                np.array(d_kde[j]['y']),\n",
    "                cmap=color_case_d[j],\n",
    "                n_levels=27,\n",
    "                alpha=.2,\n",
    "                zorder=0,\n",
    "                cut=3)\n",
    "   \n",
    "    sns.kdeplot(np.array(d_kde[j]['x']),\n",
    "                np.array(d_kde[j]['y']), \n",
    "                cmap=color_case_dr[j],\n",
    "                n_levels=1,\n",
    "                alpha=.7,\n",
    "                zorder=0,\n",
    "                cut=3)\n",
    "    \n",
    "plt.xlim(-300,300)    \n",
    "plt.ylim(-300,300) "
   ]
  },
  {
   "cell_type": "markdown",
   "metadata": {},
   "source": [
    "### Save plot"
   ]
  },
  {
   "cell_type": "code",
   "execution_count": 26,
   "metadata": {},
   "outputs": [
    {
     "name": "stdout",
     "output_type": "stream",
     "text": [
      "OVCT_Fig_s1.pdf  OVCT_Fig_s1.png  README.md        \u001b[34mpanels\u001b[m\u001b[m/\r\n"
     ]
    }
   ],
   "source": [
    "ls ../../Figures/supplementary/1/"
   ]
  },
  {
   "cell_type": "code",
   "execution_count": 27,
   "metadata": {},
   "outputs": [],
   "source": [
    "FILE = \"../../Figures/supplementary/1/panels/s1a_TreatmentNaive_proteinCod_tSNE.pdf\"\n",
    "\n",
    "fig.savefig(FILE, bbox='tight')"
   ]
  },
  {
   "cell_type": "markdown",
   "metadata": {},
   "source": [
    "# End of script"
   ]
  }
 ],
 "metadata": {
  "kernelspec": {
   "display_name": "Python 3",
   "language": "python",
   "name": "python3"
  },
  "language_info": {
   "codemirror_mode": {
    "name": "ipython",
    "version": 3
   },
   "file_extension": ".py",
   "mimetype": "text/x-python",
   "name": "python",
   "nbconvert_exporter": "python",
   "pygments_lexer": "ipython3",
   "version": "3.6.8"
  }
 },
 "nbformat": 4,
 "nbformat_minor": 2
}

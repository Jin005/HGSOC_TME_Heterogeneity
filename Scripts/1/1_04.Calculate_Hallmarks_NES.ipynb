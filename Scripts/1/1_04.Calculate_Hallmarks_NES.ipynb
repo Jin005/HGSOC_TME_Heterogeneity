{
 "cells": [
  {
   "cell_type": "markdown",
   "metadata": {},
   "source": [
    "# Calculate normalised enrichment scores of hallmarks"
   ]
  },
  {
   "cell_type": "markdown",
   "metadata": {},
   "source": [
    "Script related to figure 1d, e\n",
    "\n",
    "### Aim:\n",
    "- Calculate NES of Hallmark Gene Sets"
   ]
  },
  {
   "cell_type": "code",
   "execution_count": 1,
   "metadata": {},
   "outputs": [
    {
     "data": {
      "text/plain": [
       "R version 3.5.0 (2018-04-23)\n",
       "Platform: x86_64-apple-darwin15.6.0 (64-bit)\n",
       "Running under: macOS High Sierra 10.13.6\n",
       "\n",
       "Matrix products: default\n",
       "BLAS: /Library/Frameworks/R.framework/Versions/3.5/Resources/lib/libRblas.0.dylib\n",
       "LAPACK: /Library/Frameworks/R.framework/Versions/3.5/Resources/lib/libRlapack.dylib\n",
       "\n",
       "locale:\n",
       "[1] C/UTF-8/C/C/C/C\n",
       "\n",
       "attached base packages:\n",
       "[1] stats     graphics  grDevices utils     datasets  methods   base     \n",
       "\n",
       "loaded via a namespace (and not attached):\n",
       " [1] compiler_3.5.0  IRdisplay_0.6.1 pbdZMQ_0.3-3    tools_3.5.0    \n",
       " [5] htmltools_0.3.6 base64enc_0.1-3 crayon_1.3.4    Rcpp_1.0.1     \n",
       " [9] uuid_0.1-2      IRkernel_0.8.14 jsonlite_1.6    digest_0.6.18  \n",
       "[13] repr_0.17       evaluate_0.13  "
      ]
     },
     "metadata": {},
     "output_type": "display_data"
    }
   ],
   "source": [
    "sessionInfo()"
   ]
  },
  {
   "cell_type": "markdown",
   "metadata": {},
   "source": [
    "## Install packages"
   ]
  },
  {
   "cell_type": "code",
   "execution_count": null,
   "metadata": {},
   "outputs": [],
   "source": [
    "#source(\"https://bioconductor.org/biocLite.R\")"
   ]
  },
  {
   "cell_type": "code",
   "execution_count": null,
   "metadata": {},
   "outputs": [],
   "source": [
    "#biocLite(\"GSVA\")"
   ]
  },
  {
   "cell_type": "code",
   "execution_count": null,
   "metadata": {},
   "outputs": [],
   "source": [
    "#biocLite(\"BBmisc\")"
   ]
  },
  {
   "cell_type": "code",
   "execution_count": null,
   "metadata": {},
   "outputs": [],
   "source": [
    "#biocLite(\"nortest\")"
   ]
  },
  {
   "cell_type": "markdown",
   "metadata": {},
   "source": [
    "## Load packages"
   ]
  },
  {
   "cell_type": "code",
   "execution_count": 3,
   "metadata": {},
   "outputs": [],
   "source": [
    "setwd(\"~/git_repos/HGSOC_TME_Heterogeneity/Scripts/1/\")"
   ]
  },
  {
   "cell_type": "code",
   "execution_count": 2,
   "metadata": {},
   "outputs": [
    {
     "name": "stderr",
     "output_type": "stream",
     "text": [
      "Warning message:\n",
      "“package ‘GSVA’ was built under R version 3.5.1”\n",
      "Attaching package: ‘BBmisc’\n",
      "\n",
      "The following object is masked from ‘package:base’:\n",
      "\n",
      "    isFALSE\n",
      "\n"
     ]
    }
   ],
   "source": [
    "library(GSVA)\n",
    "library(BBmisc)\n",
    "library(nortest)"
   ]
  },
  {
   "cell_type": "markdown",
   "metadata": {},
   "source": [
    "## Load expression data"
   ]
  },
  {
   "cell_type": "code",
   "execution_count": 4,
   "metadata": {},
   "outputs": [],
   "source": [
    "data <- read.csv(\"~/git_repos/HGSOC_TME_Heterogeneity/Data/1/TreatmentNaive_log2exp_loess_norm.txt\",\n",
    "                 sep='\\t',\n",
    "                 header=T,\n",
    "                 row.names='Hugo_Symbol')"
   ]
  },
  {
   "cell_type": "code",
   "execution_count": 5,
   "metadata": {},
   "outputs": [
    {
     "data": {
      "text/html": [
       "<table>\n",
       "<thead><tr><th></th><th scope=col>A01</th><th scope=col>A02</th><th scope=col>A03</th><th scope=col>A04</th><th scope=col>A05</th><th scope=col>A06</th><th scope=col>A07</th><th scope=col>A08</th><th scope=col>A09</th><th scope=col>A10</th><th scope=col>⋯</th><th scope=col>C06</th><th scope=col>C07</th><th scope=col>C08</th><th scope=col>C09</th><th scope=col>C10</th><th scope=col>C11</th><th scope=col>C12</th><th scope=col>D01</th><th scope=col>D02</th><th scope=col>D03</th></tr></thead>\n",
       "<tbody>\n",
       "\t<tr><th scope=row>A1BG</th><td> 4.124711</td><td> 3.880633</td><td> 4.864973</td><td>4.167882 </td><td> 4.317845</td><td> 3.679057</td><td>4.092837 </td><td> 4.370571</td><td> 4.252637</td><td>4.174694 </td><td>⋯        </td><td>3.804537 </td><td>4.416981 </td><td>4.169014 </td><td>4.503313 </td><td>4.146333 </td><td>4.078398 </td><td> 4.011369</td><td>3.845128 </td><td> 3.600927</td><td>4.521857 </td></tr>\n",
       "\t<tr><th scope=row>A2BP1</th><td> 3.960924</td><td> 4.033715</td><td> 3.721251</td><td>3.916073 </td><td> 4.338194</td><td> 3.357396</td><td>3.872447 </td><td> 3.803388</td><td> 3.484735</td><td>4.427405 </td><td>⋯        </td><td>4.991068 </td><td>3.799913 </td><td>4.117883 </td><td>4.122134 </td><td>4.221760 </td><td>3.648326 </td><td> 3.675317</td><td>3.546925 </td><td> 3.788279</td><td>4.920841 </td></tr>\n",
       "\t<tr><th scope=row>A2M</th><td>12.603155</td><td>10.859838</td><td>12.612923</td><td>9.176999 </td><td>10.548790</td><td>11.840776</td><td>7.200547 </td><td>11.835658</td><td>11.535547</td><td>7.080118 </td><td>⋯        </td><td>9.061598 </td><td>9.189459 </td><td>8.844728 </td><td>7.464440 </td><td>6.726233 </td><td>9.265911 </td><td>10.740486</td><td>9.735582 </td><td>10.781599</td><td>8.734304 </td></tr>\n",
       "\t<tr><th scope=row>A2ML1</th><td> 3.945877</td><td> 4.000621</td><td> 3.767932</td><td>3.789729 </td><td> 3.543204</td><td> 3.805520</td><td>4.336280 </td><td> 4.031757</td><td> 4.166018</td><td>3.673146 </td><td>⋯        </td><td>4.231174 </td><td>3.871651 </td><td>3.287232 </td><td>3.721093 </td><td>3.723801 </td><td>3.884499 </td><td> 3.694111</td><td>3.937682 </td><td> 3.600471</td><td>3.402861 </td></tr>\n",
       "\t<tr><th scope=row>A4GALT</th><td> 3.597277</td><td> 3.863757</td><td> 4.051844</td><td>4.113169 </td><td> 3.975144</td><td> 3.991293</td><td>5.439960 </td><td> 4.696177</td><td> 4.171788</td><td>4.041633 </td><td>⋯        </td><td>4.183089 </td><td>4.699729 </td><td>4.019537 </td><td>3.739865 </td><td>4.591953 </td><td>4.997860 </td><td> 4.099630</td><td>5.001239 </td><td> 4.714710</td><td>4.145119 </td></tr>\n",
       "\t<tr><th scope=row>A4GNT</th><td> 3.714481</td><td> 3.593169</td><td> 3.241352</td><td>3.515850 </td><td> 3.364447</td><td> 3.767865</td><td>3.768695 </td><td> 3.163977</td><td> 3.423377</td><td>3.205154 </td><td>⋯        </td><td>3.896812 </td><td>3.915653 </td><td>3.351422 </td><td>3.719759 </td><td>3.641028 </td><td>3.114521 </td><td> 3.560199</td><td>3.539738 </td><td> 3.760903</td><td>3.479266 </td></tr>\n",
       "</tbody>\n",
       "</table>\n"
      ],
      "text/latex": [
       "\\begin{tabular}{r|llllllllllllllllllllllllllllllllllllll}\n",
       "  & A01 & A02 & A03 & A04 & A05 & A06 & A07 & A08 & A09 & A10 & ⋯ & C06 & C07 & C08 & C09 & C10 & C11 & C12 & D01 & D02 & D03\\\\\n",
       "\\hline\n",
       "\tA1BG &  4.124711 &  3.880633 &  4.864973 & 4.167882  &  4.317845 &  3.679057 & 4.092837  &  4.370571 &  4.252637 & 4.174694  & ⋯         & 3.804537  & 4.416981  & 4.169014  & 4.503313  & 4.146333  & 4.078398  &  4.011369 & 3.845128  &  3.600927 & 4.521857 \\\\\n",
       "\tA2BP1 &  3.960924 &  4.033715 &  3.721251 & 3.916073  &  4.338194 &  3.357396 & 3.872447  &  3.803388 &  3.484735 & 4.427405  & ⋯         & 4.991068  & 3.799913  & 4.117883  & 4.122134  & 4.221760  & 3.648326  &  3.675317 & 3.546925  &  3.788279 & 4.920841 \\\\\n",
       "\tA2M & 12.603155 & 10.859838 & 12.612923 & 9.176999  & 10.548790 & 11.840776 & 7.200547  & 11.835658 & 11.535547 & 7.080118  & ⋯         & 9.061598  & 9.189459  & 8.844728  & 7.464440  & 6.726233  & 9.265911  & 10.740486 & 9.735582  & 10.781599 & 8.734304 \\\\\n",
       "\tA2ML1 &  3.945877 &  4.000621 &  3.767932 & 3.789729  &  3.543204 &  3.805520 & 4.336280  &  4.031757 &  4.166018 & 3.673146  & ⋯         & 4.231174  & 3.871651  & 3.287232  & 3.721093  & 3.723801  & 3.884499  &  3.694111 & 3.937682  &  3.600471 & 3.402861 \\\\\n",
       "\tA4GALT &  3.597277 &  3.863757 &  4.051844 & 4.113169  &  3.975144 &  3.991293 & 5.439960  &  4.696177 &  4.171788 & 4.041633  & ⋯         & 4.183089  & 4.699729  & 4.019537  & 3.739865  & 4.591953  & 4.997860  &  4.099630 & 5.001239  &  4.714710 & 4.145119 \\\\\n",
       "\tA4GNT &  3.714481 &  3.593169 &  3.241352 & 3.515850  &  3.364447 &  3.767865 & 3.768695  &  3.163977 &  3.423377 & 3.205154  & ⋯         & 3.896812  & 3.915653  & 3.351422  & 3.719759  & 3.641028  & 3.114521  &  3.560199 & 3.539738  &  3.760903 & 3.479266 \\\\\n",
       "\\end{tabular}\n"
      ],
      "text/markdown": [
       "\n",
       "| <!--/--> | A01 | A02 | A03 | A04 | A05 | A06 | A07 | A08 | A09 | A10 | ⋯ | C06 | C07 | C08 | C09 | C10 | C11 | C12 | D01 | D02 | D03 | \n",
       "|---|---|---|---|---|---|\n",
       "| A1BG |  4.124711 |  3.880633 |  4.864973 | 4.167882  |  4.317845 |  3.679057 | 4.092837  |  4.370571 |  4.252637 | 4.174694  | ⋯         | 3.804537  | 4.416981  | 4.169014  | 4.503313  | 4.146333  | 4.078398  |  4.011369 | 3.845128  |  3.600927 | 4.521857  | \n",
       "| A2BP1 |  3.960924 |  4.033715 |  3.721251 | 3.916073  |  4.338194 |  3.357396 | 3.872447  |  3.803388 |  3.484735 | 4.427405  | ⋯         | 4.991068  | 3.799913  | 4.117883  | 4.122134  | 4.221760  | 3.648326  |  3.675317 | 3.546925  |  3.788279 | 4.920841  | \n",
       "| A2M | 12.603155 | 10.859838 | 12.612923 | 9.176999  | 10.548790 | 11.840776 | 7.200547  | 11.835658 | 11.535547 | 7.080118  | ⋯         | 9.061598  | 9.189459  | 8.844728  | 7.464440  | 6.726233  | 9.265911  | 10.740486 | 9.735582  | 10.781599 | 8.734304  | \n",
       "| A2ML1 |  3.945877 |  4.000621 |  3.767932 | 3.789729  |  3.543204 |  3.805520 | 4.336280  |  4.031757 |  4.166018 | 3.673146  | ⋯         | 4.231174  | 3.871651  | 3.287232  | 3.721093  | 3.723801  | 3.884499  |  3.694111 | 3.937682  |  3.600471 | 3.402861  | \n",
       "| A4GALT |  3.597277 |  3.863757 |  4.051844 | 4.113169  |  3.975144 |  3.991293 | 5.439960  |  4.696177 |  4.171788 | 4.041633  | ⋯         | 4.183089  | 4.699729  | 4.019537  | 3.739865  | 4.591953  | 4.997860  |  4.099630 | 5.001239  |  4.714710 | 4.145119  | \n",
       "| A4GNT |  3.714481 |  3.593169 |  3.241352 | 3.515850  |  3.364447 |  3.767865 | 3.768695  |  3.163977 |  3.423377 | 3.205154  | ⋯         | 3.896812  | 3.915653  | 3.351422  | 3.719759  | 3.641028  | 3.114521  |  3.560199 | 3.539738  |  3.760903 | 3.479266  | \n",
       "\n",
       "\n"
      ],
      "text/plain": [
       "       A01       A02       A03       A04      A05       A06       A07     \n",
       "A1BG    4.124711  3.880633  4.864973 4.167882  4.317845  3.679057 4.092837\n",
       "A2BP1   3.960924  4.033715  3.721251 3.916073  4.338194  3.357396 3.872447\n",
       "A2M    12.603155 10.859838 12.612923 9.176999 10.548790 11.840776 7.200547\n",
       "A2ML1   3.945877  4.000621  3.767932 3.789729  3.543204  3.805520 4.336280\n",
       "A4GALT  3.597277  3.863757  4.051844 4.113169  3.975144  3.991293 5.439960\n",
       "A4GNT   3.714481  3.593169  3.241352 3.515850  3.364447  3.767865 3.768695\n",
       "       A08       A09       A10      ⋯ C06      C07      C08      C09     \n",
       "A1BG    4.370571  4.252637 4.174694 ⋯ 3.804537 4.416981 4.169014 4.503313\n",
       "A2BP1   3.803388  3.484735 4.427405 ⋯ 4.991068 3.799913 4.117883 4.122134\n",
       "A2M    11.835658 11.535547 7.080118 ⋯ 9.061598 9.189459 8.844728 7.464440\n",
       "A2ML1   4.031757  4.166018 3.673146 ⋯ 4.231174 3.871651 3.287232 3.721093\n",
       "A4GALT  4.696177  4.171788 4.041633 ⋯ 4.183089 4.699729 4.019537 3.739865\n",
       "A4GNT   3.163977  3.423377 3.205154 ⋯ 3.896812 3.915653 3.351422 3.719759\n",
       "       C10      C11      C12       D01      D02       D03     \n",
       "A1BG   4.146333 4.078398  4.011369 3.845128  3.600927 4.521857\n",
       "A2BP1  4.221760 3.648326  3.675317 3.546925  3.788279 4.920841\n",
       "A2M    6.726233 9.265911 10.740486 9.735582 10.781599 8.734304\n",
       "A2ML1  3.723801 3.884499  3.694111 3.937682  3.600471 3.402861\n",
       "A4GALT 4.591953 4.997860  4.099630 5.001239  4.714710 4.145119\n",
       "A4GNT  3.641028 3.114521  3.560199 3.539738  3.760903 3.479266"
      ]
     },
     "metadata": {},
     "output_type": "display_data"
    }
   ],
   "source": [
    "head(data)"
   ]
  },
  {
   "cell_type": "code",
   "execution_count": 6,
   "metadata": {},
   "outputs": [],
   "source": [
    "data_mtx <- as.matrix(data)"
   ]
  },
  {
   "cell_type": "markdown",
   "metadata": {},
   "source": [
    "## Load hallmark gene sets"
   ]
  },
  {
   "cell_type": "code",
   "execution_count": 11,
   "metadata": {},
   "outputs": [],
   "source": [
    "Hallmark_geneSets <- read.csv(\"~/git_repos/HGSOC_TME_Heterogeneity/Data/1/HallmarksStromaImmune_GeneSets.txt\",\n",
    "                              sep='\\t',\n",
    "                              header=F,\n",
    "                              row.names=1)"
   ]
  },
  {
   "cell_type": "code",
   "execution_count": 12,
   "metadata": {},
   "outputs": [
    {
     "data": {
      "text/html": [
       "<table>\n",
       "<thead><tr><th></th><th scope=col>V2</th><th scope=col>V3</th><th scope=col>V4</th><th scope=col>V5</th><th scope=col>V6</th><th scope=col>V7</th><th scope=col>V8</th><th scope=col>V9</th><th scope=col>V10</th><th scope=col>V11</th><th scope=col>⋯</th><th scope=col>V193</th><th scope=col>V194</th><th scope=col>V195</th><th scope=col>V196</th><th scope=col>V197</th><th scope=col>V198</th><th scope=col>V199</th><th scope=col>V200</th><th scope=col>V201</th><th scope=col>V202</th></tr></thead>\n",
       "<tbody>\n",
       "\t<tr><th scope=row>HALLMARK_TNFA_SIGNALING_VIA_NFKB</th><td>http://www.broadinstitute.org/gsea/msigdb/cards/HALLMARK_TNFA_SIGNALING_VIA_NFKB   </td><td>JUNB                                                                               </td><td>CXCL2                                                                              </td><td>ATF3                                                                               </td><td>NFKBIA                                                                             </td><td>TNFAIP3                                                                            </td><td>PTGS2                                                                              </td><td>CXCL1                                                                              </td><td>IER3                                                                               </td><td>CD83                                                                               </td><td>⋯                                                                                  </td><td>EIF1                                                                               </td><td>BMP2                                                                               </td><td>DUSP4                                                                              </td><td>PDLIM5                                                                             </td><td>ICOSLG                                                                             </td><td>GFPT2                                                                              </td><td>KLF2                                                                               </td><td>TNC                                                                                </td><td>SERPINB8                                                                           </td><td>MXD1                                                                               </td></tr>\n",
       "\t<tr><th scope=row>HALLMARK_HYPOXIA</th><td>http://www.broadinstitute.org/gsea/msigdb/cards/HALLMARK_HYPOXIA                   </td><td>PGK1                                                                               </td><td>PDK1                                                                               </td><td>GBE1                                                                               </td><td>PFKL                                                                               </td><td>ALDOA                                                                              </td><td>ENO2                                                                               </td><td>PGM1                                                                               </td><td>NDRG1                                                                              </td><td>HK2                                                                                </td><td>⋯                                                                                  </td><td>HDLBP                                                                              </td><td>ILVBL                                                                              </td><td>NCAN                                                                               </td><td>TGM2                                                                               </td><td>ETS1                                                                               </td><td>HOXB9                                                                              </td><td>SELENBP1                                                                           </td><td>FOSL2                                                                              </td><td>SULT2B1                                                                            </td><td>TGFB3                                                                              </td></tr>\n",
       "\t<tr><th scope=row>HALLMARK_CHOLESTEROL_HOMEOSTASIS</th><td>http://www.broadinstitute.org/gsea/msigdb/cards/HALLMARK_CHOLESTEROL_HOMEOSTASIS   </td><td>FDPS                                                                               </td><td>CYP51A1                                                                            </td><td>IDI1                                                                               </td><td>FDFT1                                                                              </td><td>DHCR7                                                                              </td><td>SQLE                                                                               </td><td>HMGCS1                                                                             </td><td>NSDHL                                                                              </td><td>LSS                                                                                </td><td>⋯                                                                                  </td><td>                                                                                   </td><td>                                                                                   </td><td>                                                                                   </td><td>                                                                                   </td><td>                                                                                   </td><td>                                                                                   </td><td>                                                                                   </td><td>                                                                                   </td><td>                                                                                   </td><td>                                                                                   </td></tr>\n",
       "\t<tr><th scope=row>HALLMARK_MITOTIC_SPINDLE</th><td>http://www.broadinstitute.org/gsea/msigdb/cards/HALLMARK_MITOTIC_SPINDLE           </td><td>ARHGEF2                                                                            </td><td>CLASP1                                                                             </td><td>KIF11                                                                              </td><td>KIF23                                                                              </td><td>ALS2                                                                               </td><td>ARF6                                                                               </td><td>MYO9B                                                                              </td><td>MYH9                                                                               </td><td>TUBGCP3                                                                            </td><td>⋯                                                                                  </td><td>RHOT2                                                                              </td><td>SORBS2                                                                             </td><td>CDC42EP1                                                                           </td><td>VCL                                                                                </td><td>CLIP1                                                                              </td><td>STK38L                                                                             </td><td>YWHAE                                                                              </td><td>RAPGEF5                                                                            </td><td>CEP72                                                                              </td><td>CSNK1D                                                                             </td></tr>\n",
       "\t<tr><th scope=row>HALLMARK_WNT_BETA_CATENIN_SIGNALING</th><td>http://www.broadinstitute.org/gsea/msigdb/cards/HALLMARK_WNT_BETA_CATENIN_SIGNALING</td><td>MYC                                                                                </td><td>CTNNB1                                                                             </td><td>JAG2                                                                               </td><td>NOTCH1                                                                             </td><td>DLL1                                                                               </td><td>AXIN2                                                                              </td><td>PSEN2                                                                              </td><td>FZD1                                                                               </td><td>NOTCH4                                                                             </td><td>⋯                                                                                  </td><td>                                                                                   </td><td>                                                                                   </td><td>                                                                                   </td><td>                                                                                   </td><td>                                                                                   </td><td>                                                                                   </td><td>                                                                                   </td><td>                                                                                   </td><td>                                                                                   </td><td>                                                                                   </td></tr>\n",
       "\t<tr><th scope=row>HALLMARK_TGF_BETA_SIGNALING</th><td>http://www.broadinstitute.org/gsea/msigdb/cards/HALLMARK_TGF_BETA_SIGNALING        </td><td>TGFBR1                                                                             </td><td>SMAD7                                                                              </td><td>TGFB1                                                                              </td><td>SMURF2                                                                             </td><td>SMURF1                                                                             </td><td>BMPR2                                                                              </td><td>SKIL                                                                               </td><td>SKI                                                                                </td><td>ACVR1                                                                              </td><td>⋯                                                                                  </td><td>                                                                                   </td><td>                                                                                   </td><td>                                                                                   </td><td>                                                                                   </td><td>                                                                                   </td><td>                                                                                   </td><td>                                                                                   </td><td>                                                                                   </td><td>                                                                                   </td><td>                                                                                   </td></tr>\n",
       "</tbody>\n",
       "</table>\n"
      ],
      "text/latex": [
       "\\begin{tabular}{r|lllllllllllllllllllllllllllllllllllllllllllllllllllllllllllllllllllllllllllllllllllllllllllllllllllllllllllllllllllllllllllllllllllllllllllllllllllllllllllllllllllllllllllllllllllllllllllllllllllllllll}\n",
       "  & V2 & V3 & V4 & V5 & V6 & V7 & V8 & V9 & V10 & V11 & ⋯ & V193 & V194 & V195 & V196 & V197 & V198 & V199 & V200 & V201 & V202\\\\\n",
       "\\hline\n",
       "\tHALLMARK\\_TNFA\\_SIGNALING\\_VIA\\_NFKB & http://www.broadinstitute.org/gsea/msigdb/cards/HALLMARK\\_TNFA\\_SIGNALING\\_VIA\\_NFKB    & JUNB                                                                                        & CXCL2                                                                                       & ATF3                                                                                        & NFKBIA                                                                                      & TNFAIP3                                                                                     & PTGS2                                                                                       & CXCL1                                                                                       & IER3                                                                                        & CD83                                                                                        & ⋯                                                                                           & EIF1                                                                                        & BMP2                                                                                        & DUSP4                                                                                       & PDLIM5                                                                                      & ICOSLG                                                                                      & GFPT2                                                                                       & KLF2                                                                                        & TNC                                                                                         & SERPINB8                                                                                    & MXD1                                                                                       \\\\\n",
       "\tHALLMARK\\_HYPOXIA & http://www.broadinstitute.org/gsea/msigdb/cards/HALLMARK\\_HYPOXIA                    & PGK1                                                                                  & PDK1                                                                                  & GBE1                                                                                  & PFKL                                                                                  & ALDOA                                                                                 & ENO2                                                                                  & PGM1                                                                                  & NDRG1                                                                                 & HK2                                                                                   & ⋯                                                                                     & HDLBP                                                                                 & ILVBL                                                                                 & NCAN                                                                                  & TGM2                                                                                  & ETS1                                                                                  & HOXB9                                                                                 & SELENBP1                                                                              & FOSL2                                                                                 & SULT2B1                                                                               & TGFB3                                                                                \\\\\n",
       "\tHALLMARK\\_CHOLESTEROL\\_HOMEOSTASIS & http://www.broadinstitute.org/gsea/msigdb/cards/HALLMARK\\_CHOLESTEROL\\_HOMEOSTASIS    & FDPS                                                                                    & CYP51A1                                                                                 & IDI1                                                                                    & FDFT1                                                                                   & DHCR7                                                                                   & SQLE                                                                                    & HMGCS1                                                                                  & NSDHL                                                                                   & LSS                                                                                     & ⋯                                                                                       &                                                                                         &                                                                                         &                                                                                         &                                                                                         &                                                                                         &                                                                                         &                                                                                         &                                                                                         &                                                                                         &                                                                                        \\\\\n",
       "\tHALLMARK\\_MITOTIC\\_SPINDLE & http://www.broadinstitute.org/gsea/msigdb/cards/HALLMARK\\_MITOTIC\\_SPINDLE            & ARHGEF2                                                                                 & CLASP1                                                                                  & KIF11                                                                                   & KIF23                                                                                   & ALS2                                                                                    & ARF6                                                                                    & MYO9B                                                                                   & MYH9                                                                                    & TUBGCP3                                                                                 & ⋯                                                                                       & RHOT2                                                                                   & SORBS2                                                                                  & CDC42EP1                                                                                & VCL                                                                                     & CLIP1                                                                                   & STK38L                                                                                  & YWHAE                                                                                   & RAPGEF5                                                                                 & CEP72                                                                                   & CSNK1D                                                                                 \\\\\n",
       "\tHALLMARK\\_WNT\\_BETA\\_CATENIN\\_SIGNALING & http://www.broadinstitute.org/gsea/msigdb/cards/HALLMARK\\_WNT\\_BETA\\_CATENIN\\_SIGNALING & MYC                                                                                         & CTNNB1                                                                                      & JAG2                                                                                        & NOTCH1                                                                                      & DLL1                                                                                        & AXIN2                                                                                       & PSEN2                                                                                       & FZD1                                                                                        & NOTCH4                                                                                      & ⋯                                                                                           &                                                                                             &                                                                                             &                                                                                             &                                                                                             &                                                                                             &                                                                                             &                                                                                             &                                                                                             &                                                                                             &                                                                                            \\\\\n",
       "\tHALLMARK\\_TGF\\_BETA\\_SIGNALING & http://www.broadinstitute.org/gsea/msigdb/cards/HALLMARK\\_TGF\\_BETA\\_SIGNALING         & TGFBR1                                                                                    & SMAD7                                                                                     & TGFB1                                                                                     & SMURF2                                                                                    & SMURF1                                                                                    & BMPR2                                                                                     & SKIL                                                                                      & SKI                                                                                       & ACVR1                                                                                     & ⋯                                                                                         &                                                                                           &                                                                                           &                                                                                           &                                                                                           &                                                                                           &                                                                                           &                                                                                           &                                                                                           &                                                                                           &                                                                                          \\\\\n",
       "\\end{tabular}\n"
      ],
      "text/markdown": [
       "\n",
       "| <!--/--> | V2 | V3 | V4 | V5 | V6 | V7 | V8 | V9 | V10 | V11 | ⋯ | V193 | V194 | V195 | V196 | V197 | V198 | V199 | V200 | V201 | V202 | \n",
       "|---|---|---|---|---|---|\n",
       "| HALLMARK_TNFA_SIGNALING_VIA_NFKB | http://www.broadinstitute.org/gsea/msigdb/cards/HALLMARK_TNFA_SIGNALING_VIA_NFKB    | JUNB                                                                                | CXCL2                                                                               | ATF3                                                                                | NFKBIA                                                                              | TNFAIP3                                                                             | PTGS2                                                                               | CXCL1                                                                               | IER3                                                                                | CD83                                                                                | ⋯                                                                                   | EIF1                                                                                | BMP2                                                                                | DUSP4                                                                               | PDLIM5                                                                              | ICOSLG                                                                              | GFPT2                                                                               | KLF2                                                                                | TNC                                                                                 | SERPINB8                                                                            | MXD1                                                                                | \n",
       "| HALLMARK_HYPOXIA | http://www.broadinstitute.org/gsea/msigdb/cards/HALLMARK_HYPOXIA                    | PGK1                                                                                | PDK1                                                                                | GBE1                                                                                | PFKL                                                                                | ALDOA                                                                               | ENO2                                                                                | PGM1                                                                                | NDRG1                                                                               | HK2                                                                                 | ⋯                                                                                   | HDLBP                                                                               | ILVBL                                                                               | NCAN                                                                                | TGM2                                                                                | ETS1                                                                                | HOXB9                                                                               | SELENBP1                                                                            | FOSL2                                                                               | SULT2B1                                                                             | TGFB3                                                                               | \n",
       "| HALLMARK_CHOLESTEROL_HOMEOSTASIS | http://www.broadinstitute.org/gsea/msigdb/cards/HALLMARK_CHOLESTEROL_HOMEOSTASIS    | FDPS                                                                                | CYP51A1                                                                             | IDI1                                                                                | FDFT1                                                                               | DHCR7                                                                               | SQLE                                                                                | HMGCS1                                                                              | NSDHL                                                                               | LSS                                                                                 | ⋯                                                                                   |                                                                                     |                                                                                     |                                                                                     |                                                                                     |                                                                                     |                                                                                     |                                                                                     |                                                                                     |                                                                                     |                                                                                     | \n",
       "| HALLMARK_MITOTIC_SPINDLE | http://www.broadinstitute.org/gsea/msigdb/cards/HALLMARK_MITOTIC_SPINDLE            | ARHGEF2                                                                             | CLASP1                                                                              | KIF11                                                                               | KIF23                                                                               | ALS2                                                                                | ARF6                                                                                | MYO9B                                                                               | MYH9                                                                                | TUBGCP3                                                                             | ⋯                                                                                   | RHOT2                                                                               | SORBS2                                                                              | CDC42EP1                                                                            | VCL                                                                                 | CLIP1                                                                               | STK38L                                                                              | YWHAE                                                                               | RAPGEF5                                                                             | CEP72                                                                               | CSNK1D                                                                              | \n",
       "| HALLMARK_WNT_BETA_CATENIN_SIGNALING | http://www.broadinstitute.org/gsea/msigdb/cards/HALLMARK_WNT_BETA_CATENIN_SIGNALING | MYC                                                                                 | CTNNB1                                                                              | JAG2                                                                                | NOTCH1                                                                              | DLL1                                                                                | AXIN2                                                                               | PSEN2                                                                               | FZD1                                                                                | NOTCH4                                                                              | ⋯                                                                                   |                                                                                     |                                                                                     |                                                                                     |                                                                                     |                                                                                     |                                                                                     |                                                                                     |                                                                                     |                                                                                     |                                                                                     | \n",
       "| HALLMARK_TGF_BETA_SIGNALING | http://www.broadinstitute.org/gsea/msigdb/cards/HALLMARK_TGF_BETA_SIGNALING         | TGFBR1                                                                              | SMAD7                                                                               | TGFB1                                                                               | SMURF2                                                                              | SMURF1                                                                              | BMPR2                                                                               | SKIL                                                                                | SKI                                                                                 | ACVR1                                                                               | ⋯                                                                                   |                                                                                     |                                                                                     |                                                                                     |                                                                                     |                                                                                     |                                                                                     |                                                                                     |                                                                                     |                                                                                     |                                                                                     | \n",
       "\n",
       "\n"
      ],
      "text/plain": [
       "                                    V2                                                                                 \n",
       "HALLMARK_TNFA_SIGNALING_VIA_NFKB    http://www.broadinstitute.org/gsea/msigdb/cards/HALLMARK_TNFA_SIGNALING_VIA_NFKB   \n",
       "HALLMARK_HYPOXIA                    http://www.broadinstitute.org/gsea/msigdb/cards/HALLMARK_HYPOXIA                   \n",
       "HALLMARK_CHOLESTEROL_HOMEOSTASIS    http://www.broadinstitute.org/gsea/msigdb/cards/HALLMARK_CHOLESTEROL_HOMEOSTASIS   \n",
       "HALLMARK_MITOTIC_SPINDLE            http://www.broadinstitute.org/gsea/msigdb/cards/HALLMARK_MITOTIC_SPINDLE           \n",
       "HALLMARK_WNT_BETA_CATENIN_SIGNALING http://www.broadinstitute.org/gsea/msigdb/cards/HALLMARK_WNT_BETA_CATENIN_SIGNALING\n",
       "HALLMARK_TGF_BETA_SIGNALING         http://www.broadinstitute.org/gsea/msigdb/cards/HALLMARK_TGF_BETA_SIGNALING        \n",
       "                                    V3      V4      V5    V6     V7      V8   \n",
       "HALLMARK_TNFA_SIGNALING_VIA_NFKB    JUNB    CXCL2   ATF3  NFKBIA TNFAIP3 PTGS2\n",
       "HALLMARK_HYPOXIA                    PGK1    PDK1    GBE1  PFKL   ALDOA   ENO2 \n",
       "HALLMARK_CHOLESTEROL_HOMEOSTASIS    FDPS    CYP51A1 IDI1  FDFT1  DHCR7   SQLE \n",
       "HALLMARK_MITOTIC_SPINDLE            ARHGEF2 CLASP1  KIF11 KIF23  ALS2    ARF6 \n",
       "HALLMARK_WNT_BETA_CATENIN_SIGNALING MYC     CTNNB1  JAG2  NOTCH1 DLL1    AXIN2\n",
       "HALLMARK_TGF_BETA_SIGNALING         TGFBR1  SMAD7   TGFB1 SMURF2 SMURF1  BMPR2\n",
       "                                    V9     V10   V11     ⋯ V193  V194  \n",
       "HALLMARK_TNFA_SIGNALING_VIA_NFKB    CXCL1  IER3  CD83    ⋯ EIF1  BMP2  \n",
       "HALLMARK_HYPOXIA                    PGM1   NDRG1 HK2     ⋯ HDLBP ILVBL \n",
       "HALLMARK_CHOLESTEROL_HOMEOSTASIS    HMGCS1 NSDHL LSS     ⋯             \n",
       "HALLMARK_MITOTIC_SPINDLE            MYO9B  MYH9  TUBGCP3 ⋯ RHOT2 SORBS2\n",
       "HALLMARK_WNT_BETA_CATENIN_SIGNALING PSEN2  FZD1  NOTCH4  ⋯             \n",
       "HALLMARK_TGF_BETA_SIGNALING         SKIL   SKI   ACVR1   ⋯             \n",
       "                                    V195     V196   V197   V198   V199    \n",
       "HALLMARK_TNFA_SIGNALING_VIA_NFKB    DUSP4    PDLIM5 ICOSLG GFPT2  KLF2    \n",
       "HALLMARK_HYPOXIA                    NCAN     TGM2   ETS1   HOXB9  SELENBP1\n",
       "HALLMARK_CHOLESTEROL_HOMEOSTASIS                                          \n",
       "HALLMARK_MITOTIC_SPINDLE            CDC42EP1 VCL    CLIP1  STK38L YWHAE   \n",
       "HALLMARK_WNT_BETA_CATENIN_SIGNALING                                       \n",
       "HALLMARK_TGF_BETA_SIGNALING                                               \n",
       "                                    V200    V201     V202  \n",
       "HALLMARK_TNFA_SIGNALING_VIA_NFKB    TNC     SERPINB8 MXD1  \n",
       "HALLMARK_HYPOXIA                    FOSL2   SULT2B1  TGFB3 \n",
       "HALLMARK_CHOLESTEROL_HOMEOSTASIS                           \n",
       "HALLMARK_MITOTIC_SPINDLE            RAPGEF5 CEP72    CSNK1D\n",
       "HALLMARK_WNT_BETA_CATENIN_SIGNALING                        \n",
       "HALLMARK_TGF_BETA_SIGNALING                                "
      ]
     },
     "metadata": {},
     "output_type": "display_data"
    }
   ],
   "source": [
    "head(Hallmark_geneSets)"
   ]
  },
  {
   "cell_type": "markdown",
   "metadata": {},
   "source": [
    "### Remove website column"
   ]
  },
  {
   "cell_type": "code",
   "execution_count": 13,
   "metadata": {},
   "outputs": [],
   "source": [
    "Hallmark_geneSets <- Hallmark_geneSets[-1]"
   ]
  },
  {
   "cell_type": "code",
   "execution_count": 14,
   "metadata": {},
   "outputs": [
    {
     "data": {
      "text/html": [
       "<table>\n",
       "<thead><tr><th></th><th scope=col>V3</th><th scope=col>V4</th><th scope=col>V5</th><th scope=col>V6</th><th scope=col>V7</th><th scope=col>V8</th><th scope=col>V9</th><th scope=col>V10</th><th scope=col>V11</th><th scope=col>V12</th><th scope=col>⋯</th><th scope=col>V193</th><th scope=col>V194</th><th scope=col>V195</th><th scope=col>V196</th><th scope=col>V197</th><th scope=col>V198</th><th scope=col>V199</th><th scope=col>V200</th><th scope=col>V201</th><th scope=col>V202</th></tr></thead>\n",
       "<tbody>\n",
       "\t<tr><th scope=row>HALLMARK_TNFA_SIGNALING_VIA_NFKB</th><td>JUNB    </td><td>CXCL2   </td><td>ATF3    </td><td>NFKBIA  </td><td>TNFAIP3 </td><td>PTGS2   </td><td>CXCL1   </td><td>IER3    </td><td>CD83    </td><td>CCL20   </td><td>⋯       </td><td>EIF1    </td><td>BMP2    </td><td>DUSP4   </td><td>PDLIM5  </td><td>ICOSLG  </td><td>GFPT2   </td><td>KLF2    </td><td>TNC     </td><td>SERPINB8</td><td>MXD1    </td></tr>\n",
       "\t<tr><th scope=row>HALLMARK_HYPOXIA</th><td>PGK1    </td><td>PDK1    </td><td>GBE1    </td><td>PFKL    </td><td>ALDOA   </td><td>ENO2    </td><td>PGM1    </td><td>NDRG1   </td><td>HK2     </td><td>ALDOC   </td><td>⋯       </td><td>HDLBP   </td><td>ILVBL   </td><td>NCAN    </td><td>TGM2    </td><td>ETS1    </td><td>HOXB9   </td><td>SELENBP1</td><td>FOSL2   </td><td>SULT2B1 </td><td>TGFB3   </td></tr>\n",
       "\t<tr><th scope=row>HALLMARK_CHOLESTEROL_HOMEOSTASIS</th><td>FDPS    </td><td>CYP51A1 </td><td>IDI1    </td><td>FDFT1   </td><td>DHCR7   </td><td>SQLE    </td><td>HMGCS1  </td><td>NSDHL   </td><td>LSS     </td><td>MVD     </td><td>⋯       </td><td>        </td><td>        </td><td>        </td><td>        </td><td>        </td><td>        </td><td>        </td><td>        </td><td>        </td><td>        </td></tr>\n",
       "\t<tr><th scope=row>HALLMARK_MITOTIC_SPINDLE</th><td>ARHGEF2 </td><td>CLASP1  </td><td>KIF11   </td><td>KIF23   </td><td>ALS2    </td><td>ARF6    </td><td>MYO9B   </td><td>MYH9    </td><td>TUBGCP3 </td><td>CKAP5   </td><td>⋯       </td><td>RHOT2   </td><td>SORBS2  </td><td>CDC42EP1</td><td>VCL     </td><td>CLIP1   </td><td>STK38L  </td><td>YWHAE   </td><td>RAPGEF5 </td><td>CEP72   </td><td>CSNK1D  </td></tr>\n",
       "\t<tr><th scope=row>HALLMARK_WNT_BETA_CATENIN_SIGNALING</th><td>MYC     </td><td>CTNNB1  </td><td>JAG2    </td><td>NOTCH1  </td><td>DLL1    </td><td>AXIN2   </td><td>PSEN2   </td><td>FZD1    </td><td>NOTCH4  </td><td>LEF1    </td><td>⋯       </td><td>        </td><td>        </td><td>        </td><td>        </td><td>        </td><td>        </td><td>        </td><td>        </td><td>        </td><td>        </td></tr>\n",
       "\t<tr><th scope=row>HALLMARK_TGF_BETA_SIGNALING</th><td>TGFBR1  </td><td>SMAD7   </td><td>TGFB1   </td><td>SMURF2  </td><td>SMURF1  </td><td>BMPR2   </td><td>SKIL    </td><td>SKI     </td><td>ACVR1   </td><td>PMEPA1  </td><td>⋯       </td><td>        </td><td>        </td><td>        </td><td>        </td><td>        </td><td>        </td><td>        </td><td>        </td><td>        </td><td>        </td></tr>\n",
       "</tbody>\n",
       "</table>\n"
      ],
      "text/latex": [
       "\\begin{tabular}{r|llllllllllllllllllllllllllllllllllllllllllllllllllllllllllllllllllllllllllllllllllllllllllllllllllllllllllllllllllllllllllllllllllllllllllllllllllllllllllllllllllllllllllllllllllllllllllllllllllllllll}\n",
       "  & V3 & V4 & V5 & V6 & V7 & V8 & V9 & V10 & V11 & V12 & ⋯ & V193 & V194 & V195 & V196 & V197 & V198 & V199 & V200 & V201 & V202\\\\\n",
       "\\hline\n",
       "\tHALLMARK\\_TNFA\\_SIGNALING\\_VIA\\_NFKB & JUNB     & CXCL2    & ATF3     & NFKBIA   & TNFAIP3  & PTGS2    & CXCL1    & IER3     & CD83     & CCL20    & ⋯        & EIF1     & BMP2     & DUSP4    & PDLIM5   & ICOSLG   & GFPT2    & KLF2     & TNC      & SERPINB8 & MXD1    \\\\\n",
       "\tHALLMARK\\_HYPOXIA & PGK1     & PDK1     & GBE1     & PFKL     & ALDOA    & ENO2     & PGM1     & NDRG1    & HK2      & ALDOC    & ⋯        & HDLBP    & ILVBL    & NCAN     & TGM2     & ETS1     & HOXB9    & SELENBP1 & FOSL2    & SULT2B1  & TGFB3   \\\\\n",
       "\tHALLMARK\\_CHOLESTEROL\\_HOMEOSTASIS & FDPS     & CYP51A1  & IDI1     & FDFT1    & DHCR7    & SQLE     & HMGCS1   & NSDHL    & LSS      & MVD      & ⋯        &          &          &          &          &          &          &          &          &          &         \\\\\n",
       "\tHALLMARK\\_MITOTIC\\_SPINDLE & ARHGEF2  & CLASP1   & KIF11    & KIF23    & ALS2     & ARF6     & MYO9B    & MYH9     & TUBGCP3  & CKAP5    & ⋯        & RHOT2    & SORBS2   & CDC42EP1 & VCL      & CLIP1    & STK38L   & YWHAE    & RAPGEF5  & CEP72    & CSNK1D  \\\\\n",
       "\tHALLMARK\\_WNT\\_BETA\\_CATENIN\\_SIGNALING & MYC      & CTNNB1   & JAG2     & NOTCH1   & DLL1     & AXIN2    & PSEN2    & FZD1     & NOTCH4   & LEF1     & ⋯        &          &          &          &          &          &          &          &          &          &         \\\\\n",
       "\tHALLMARK\\_TGF\\_BETA\\_SIGNALING & TGFBR1   & SMAD7    & TGFB1    & SMURF2   & SMURF1   & BMPR2    & SKIL     & SKI      & ACVR1    & PMEPA1   & ⋯        &          &          &          &          &          &          &          &          &          &         \\\\\n",
       "\\end{tabular}\n"
      ],
      "text/markdown": [
       "\n",
       "| <!--/--> | V3 | V4 | V5 | V6 | V7 | V8 | V9 | V10 | V11 | V12 | ⋯ | V193 | V194 | V195 | V196 | V197 | V198 | V199 | V200 | V201 | V202 | \n",
       "|---|---|---|---|---|---|\n",
       "| HALLMARK_TNFA_SIGNALING_VIA_NFKB | JUNB     | CXCL2    | ATF3     | NFKBIA   | TNFAIP3  | PTGS2    | CXCL1    | IER3     | CD83     | CCL20    | ⋯        | EIF1     | BMP2     | DUSP4    | PDLIM5   | ICOSLG   | GFPT2    | KLF2     | TNC      | SERPINB8 | MXD1     | \n",
       "| HALLMARK_HYPOXIA | PGK1     | PDK1     | GBE1     | PFKL     | ALDOA    | ENO2     | PGM1     | NDRG1    | HK2      | ALDOC    | ⋯        | HDLBP    | ILVBL    | NCAN     | TGM2     | ETS1     | HOXB9    | SELENBP1 | FOSL2    | SULT2B1  | TGFB3    | \n",
       "| HALLMARK_CHOLESTEROL_HOMEOSTASIS | FDPS     | CYP51A1  | IDI1     | FDFT1    | DHCR7    | SQLE     | HMGCS1   | NSDHL    | LSS      | MVD      | ⋯        |          |          |          |          |          |          |          |          |          |          | \n",
       "| HALLMARK_MITOTIC_SPINDLE | ARHGEF2  | CLASP1   | KIF11    | KIF23    | ALS2     | ARF6     | MYO9B    | MYH9     | TUBGCP3  | CKAP5    | ⋯        | RHOT2    | SORBS2   | CDC42EP1 | VCL      | CLIP1    | STK38L   | YWHAE    | RAPGEF5  | CEP72    | CSNK1D   | \n",
       "| HALLMARK_WNT_BETA_CATENIN_SIGNALING | MYC      | CTNNB1   | JAG2     | NOTCH1   | DLL1     | AXIN2    | PSEN2    | FZD1     | NOTCH4   | LEF1     | ⋯        |          |          |          |          |          |          |          |          |          |          | \n",
       "| HALLMARK_TGF_BETA_SIGNALING | TGFBR1   | SMAD7    | TGFB1    | SMURF2   | SMURF1   | BMPR2    | SKIL     | SKI      | ACVR1    | PMEPA1   | ⋯        |          |          |          |          |          |          |          |          |          |          | \n",
       "\n",
       "\n"
      ],
      "text/plain": [
       "                                    V3      V4      V5    V6     V7      V8   \n",
       "HALLMARK_TNFA_SIGNALING_VIA_NFKB    JUNB    CXCL2   ATF3  NFKBIA TNFAIP3 PTGS2\n",
       "HALLMARK_HYPOXIA                    PGK1    PDK1    GBE1  PFKL   ALDOA   ENO2 \n",
       "HALLMARK_CHOLESTEROL_HOMEOSTASIS    FDPS    CYP51A1 IDI1  FDFT1  DHCR7   SQLE \n",
       "HALLMARK_MITOTIC_SPINDLE            ARHGEF2 CLASP1  KIF11 KIF23  ALS2    ARF6 \n",
       "HALLMARK_WNT_BETA_CATENIN_SIGNALING MYC     CTNNB1  JAG2  NOTCH1 DLL1    AXIN2\n",
       "HALLMARK_TGF_BETA_SIGNALING         TGFBR1  SMAD7   TGFB1 SMURF2 SMURF1  BMPR2\n",
       "                                    V9     V10   V11     V12    ⋯ V193  V194  \n",
       "HALLMARK_TNFA_SIGNALING_VIA_NFKB    CXCL1  IER3  CD83    CCL20  ⋯ EIF1  BMP2  \n",
       "HALLMARK_HYPOXIA                    PGM1   NDRG1 HK2     ALDOC  ⋯ HDLBP ILVBL \n",
       "HALLMARK_CHOLESTEROL_HOMEOSTASIS    HMGCS1 NSDHL LSS     MVD    ⋯             \n",
       "HALLMARK_MITOTIC_SPINDLE            MYO9B  MYH9  TUBGCP3 CKAP5  ⋯ RHOT2 SORBS2\n",
       "HALLMARK_WNT_BETA_CATENIN_SIGNALING PSEN2  FZD1  NOTCH4  LEF1   ⋯             \n",
       "HALLMARK_TGF_BETA_SIGNALING         SKIL   SKI   ACVR1   PMEPA1 ⋯             \n",
       "                                    V195     V196   V197   V198   V199    \n",
       "HALLMARK_TNFA_SIGNALING_VIA_NFKB    DUSP4    PDLIM5 ICOSLG GFPT2  KLF2    \n",
       "HALLMARK_HYPOXIA                    NCAN     TGM2   ETS1   HOXB9  SELENBP1\n",
       "HALLMARK_CHOLESTEROL_HOMEOSTASIS                                          \n",
       "HALLMARK_MITOTIC_SPINDLE            CDC42EP1 VCL    CLIP1  STK38L YWHAE   \n",
       "HALLMARK_WNT_BETA_CATENIN_SIGNALING                                       \n",
       "HALLMARK_TGF_BETA_SIGNALING                                               \n",
       "                                    V200    V201     V202  \n",
       "HALLMARK_TNFA_SIGNALING_VIA_NFKB    TNC     SERPINB8 MXD1  \n",
       "HALLMARK_HYPOXIA                    FOSL2   SULT2B1  TGFB3 \n",
       "HALLMARK_CHOLESTEROL_HOMEOSTASIS                           \n",
       "HALLMARK_MITOTIC_SPINDLE            RAPGEF5 CEP72    CSNK1D\n",
       "HALLMARK_WNT_BETA_CATENIN_SIGNALING                        \n",
       "HALLMARK_TGF_BETA_SIGNALING                                "
      ]
     },
     "metadata": {},
     "output_type": "display_data"
    }
   ],
   "source": [
    "head(Hallmark_geneSets)"
   ]
  },
  {
   "cell_type": "code",
   "execution_count": 15,
   "metadata": {},
   "outputs": [],
   "source": [
    "Hallmark_geneSets <- convertRowsToList(Hallmark_geneSets)"
   ]
  },
  {
   "cell_type": "markdown",
   "metadata": {},
   "source": [
    "## Run ssGSEA"
   ]
  },
  {
   "cell_type": "code",
   "execution_count": 16,
   "metadata": {},
   "outputs": [
    {
     "name": "stdout",
     "output_type": "stream",
     "text": [
      "Estimating ssGSEA scores for 52 gene sets.\n",
      "  |                                                                      |   0%Using parallel with 4 cores\n",
      "  |======================================================================| 100%\n"
     ]
    }
   ],
   "source": [
    "hsi_NES <- gsva(data_mtx,\n",
    "                Hallmark_geneSets,\n",
    "                method='ssgsea',\n",
    "                min.sz=0,\n",
    "                max.sz=1000,\n",
    "                ssgsea.norm=T)"
   ]
  },
  {
   "cell_type": "code",
   "execution_count": 17,
   "metadata": {},
   "outputs": [],
   "source": [
    "hsi_NES <- data.frame(\"Term\"=rownames(hsi_NES),\n",
    "                      hsi_NES)\n",
    "\n",
    "rownames(hsi_NES) <- NULL"
   ]
  },
  {
   "cell_type": "code",
   "execution_count": 18,
   "metadata": {},
   "outputs": [
    {
     "data": {
      "text/html": [
       "<table>\n",
       "<thead><tr><th scope=col>Term</th><th scope=col>A01</th><th scope=col>A02</th><th scope=col>A03</th><th scope=col>A04</th><th scope=col>A05</th><th scope=col>A06</th><th scope=col>A07</th><th scope=col>A08</th><th scope=col>A09</th><th scope=col>⋯</th><th scope=col>C06</th><th scope=col>C07</th><th scope=col>C08</th><th scope=col>C09</th><th scope=col>C10</th><th scope=col>C11</th><th scope=col>C12</th><th scope=col>D01</th><th scope=col>D02</th><th scope=col>D03</th></tr></thead>\n",
       "<tbody>\n",
       "\t<tr><td>HALLMARK_TNFA_SIGNALING_VIA_NFKB   </td><td>0.1365760                          </td><td>0.1622527                          </td><td>0.1679446                          </td><td>0.1658720                          </td><td>0.1082707                          </td><td>0.1033835                          </td><td>0.0683624                          </td><td>0.07016183                         </td><td>0.1115274                          </td><td>⋯                                  </td><td>0.1281450                          </td><td>0.2591543                          </td><td>0.2156885                          </td><td>0.1126508                          </td><td>0.2002938                          </td><td>0.2419946                          </td><td>0.1914320                          </td><td>0.1947142                          </td><td>0.1893358                          </td><td>0.06965322                         </td></tr>\n",
       "\t<tr><td>HALLMARK_HYPOXIA                   </td><td>0.1777680                          </td><td>0.2182873                          </td><td>0.2066369                          </td><td>0.2280754                          </td><td>0.2133397                          </td><td>0.1951075                          </td><td>0.1847733                          </td><td>0.17668794                         </td><td>0.2085090                          </td><td>⋯                                  </td><td>0.2329528                          </td><td>0.2851864                          </td><td>0.2588453                          </td><td>0.2423339                          </td><td>0.2801138                          </td><td>0.2631574                          </td><td>0.2612868                          </td><td>0.2541697                          </td><td>0.2550989                          </td><td>0.17013909                         </td></tr>\n",
       "\t<tr><td>HALLMARK_CHOLESTEROL_HOMEOSTASIS   </td><td>0.2910560                          </td><td>0.3071711                          </td><td>0.3040415                          </td><td>0.3029025                          </td><td>0.2912912                          </td><td>0.3026668                          </td><td>0.2503074                          </td><td>0.30745975                         </td><td>0.3366550                          </td><td>⋯                                  </td><td>0.2978222                          </td><td>0.3115737                          </td><td>0.3149536                          </td><td>0.3273641                          </td><td>0.3572007                          </td><td>0.3259694                          </td><td>0.3283077                          </td><td>0.3103078                          </td><td>0.3337639                          </td><td>0.30601647                         </td></tr>\n",
       "\t<tr><td>HALLMARK_MITOTIC_SPINDLE           </td><td>0.2913235                          </td><td>0.3417554                          </td><td>0.3326834                          </td><td>0.3580851                          </td><td>0.3194368                          </td><td>0.3505266                          </td><td>0.4386014                          </td><td>0.35965903                         </td><td>0.3657099                          </td><td>⋯                                  </td><td>0.3476544                          </td><td>0.3396198                          </td><td>0.3564771                          </td><td>0.3548904                          </td><td>0.3991286                          </td><td>0.3552740                          </td><td>0.3375994                          </td><td>0.3293698                          </td><td>0.3324187                          </td><td>0.31162160                         </td></tr>\n",
       "\t<tr><td>HALLMARK_WNT_BETA_CATENIN_SIGNALING</td><td>0.1512311                          </td><td>0.1841402                          </td><td>0.1867324                          </td><td>0.2632747                          </td><td>0.2154267                          </td><td>0.2244500                          </td><td>0.2460888                          </td><td>0.24303028                         </td><td>0.2285515                          </td><td>⋯                                  </td><td>0.1262571                          </td><td>0.1893952                          </td><td>0.1804980                          </td><td>0.1666257                          </td><td>0.2367696                          </td><td>0.1856328                          </td><td>0.1475494                          </td><td>0.1423987                          </td><td>0.1268914                          </td><td>0.11033910                         </td></tr>\n",
       "\t<tr><td>HALLMARK_TGF_BETA_SIGNALING        </td><td>0.3601273                          </td><td>0.4052729                          </td><td>0.3830989                          </td><td>0.4405695                          </td><td>0.3904583                          </td><td>0.3544433                          </td><td>0.3731478                          </td><td>0.35217498                         </td><td>0.3921855                          </td><td>⋯                                  </td><td>0.4162216                          </td><td>0.4551743                          </td><td>0.4727299                          </td><td>0.3769614                          </td><td>0.4335947                          </td><td>0.4230834                          </td><td>0.4160767                          </td><td>0.4071078                          </td><td>0.4056907                          </td><td>0.32461787                         </td></tr>\n",
       "</tbody>\n",
       "</table>\n"
      ],
      "text/latex": [
       "\\begin{tabular}{r|lllllllllllllllllllllllllllllllllllllll}\n",
       " Term & A01 & A02 & A03 & A04 & A05 & A06 & A07 & A08 & A09 & ⋯ & C06 & C07 & C08 & C09 & C10 & C11 & C12 & D01 & D02 & D03\\\\\n",
       "\\hline\n",
       "\t HALLMARK\\_TNFA\\_SIGNALING\\_VIA\\_NFKB    & 0.1365760                                   & 0.1622527                                   & 0.1679446                                   & 0.1658720                                   & 0.1082707                                   & 0.1033835                                   & 0.0683624                                   & 0.07016183                                  & 0.1115274                                   & ⋯                                           & 0.1281450                                   & 0.2591543                                   & 0.2156885                                   & 0.1126508                                   & 0.2002938                                   & 0.2419946                                   & 0.1914320                                   & 0.1947142                                   & 0.1893358                                   & 0.06965322                                 \\\\\n",
       "\t HALLMARK\\_HYPOXIA                    & 0.1777680                             & 0.2182873                             & 0.2066369                             & 0.2280754                             & 0.2133397                             & 0.1951075                             & 0.1847733                             & 0.17668794                            & 0.2085090                             & ⋯                                     & 0.2329528                             & 0.2851864                             & 0.2588453                             & 0.2423339                             & 0.2801138                             & 0.2631574                             & 0.2612868                             & 0.2541697                             & 0.2550989                             & 0.17013909                           \\\\\n",
       "\t HALLMARK\\_CHOLESTEROL\\_HOMEOSTASIS    & 0.2910560                               & 0.3071711                               & 0.3040415                               & 0.3029025                               & 0.2912912                               & 0.3026668                               & 0.2503074                               & 0.30745975                              & 0.3366550                               & ⋯                                       & 0.2978222                               & 0.3115737                               & 0.3149536                               & 0.3273641                               & 0.3572007                               & 0.3259694                               & 0.3283077                               & 0.3103078                               & 0.3337639                               & 0.30601647                             \\\\\n",
       "\t HALLMARK\\_MITOTIC\\_SPINDLE            & 0.2913235                               & 0.3417554                               & 0.3326834                               & 0.3580851                               & 0.3194368                               & 0.3505266                               & 0.4386014                               & 0.35965903                              & 0.3657099                               & ⋯                                       & 0.3476544                               & 0.3396198                               & 0.3564771                               & 0.3548904                               & 0.3991286                               & 0.3552740                               & 0.3375994                               & 0.3293698                               & 0.3324187                               & 0.31162160                             \\\\\n",
       "\t HALLMARK\\_WNT\\_BETA\\_CATENIN\\_SIGNALING & 0.1512311                                   & 0.1841402                                   & 0.1867324                                   & 0.2632747                                   & 0.2154267                                   & 0.2244500                                   & 0.2460888                                   & 0.24303028                                  & 0.2285515                                   & ⋯                                           & 0.1262571                                   & 0.1893952                                   & 0.1804980                                   & 0.1666257                                   & 0.2367696                                   & 0.1856328                                   & 0.1475494                                   & 0.1423987                                   & 0.1268914                                   & 0.11033910                                 \\\\\n",
       "\t HALLMARK\\_TGF\\_BETA\\_SIGNALING         & 0.3601273                                 & 0.4052729                                 & 0.3830989                                 & 0.4405695                                 & 0.3904583                                 & 0.3544433                                 & 0.3731478                                 & 0.35217498                                & 0.3921855                                 & ⋯                                         & 0.4162216                                 & 0.4551743                                 & 0.4727299                                 & 0.3769614                                 & 0.4335947                                 & 0.4230834                                 & 0.4160767                                 & 0.4071078                                 & 0.4056907                                 & 0.32461787                               \\\\\n",
       "\\end{tabular}\n"
      ],
      "text/markdown": [
       "\n",
       "Term | A01 | A02 | A03 | A04 | A05 | A06 | A07 | A08 | A09 | ⋯ | C06 | C07 | C08 | C09 | C10 | C11 | C12 | D01 | D02 | D03 | \n",
       "|---|---|---|---|---|---|\n",
       "| HALLMARK_TNFA_SIGNALING_VIA_NFKB    | 0.1365760                           | 0.1622527                           | 0.1679446                           | 0.1658720                           | 0.1082707                           | 0.1033835                           | 0.0683624                           | 0.07016183                          | 0.1115274                           | ⋯                                   | 0.1281450                           | 0.2591543                           | 0.2156885                           | 0.1126508                           | 0.2002938                           | 0.2419946                           | 0.1914320                           | 0.1947142                           | 0.1893358                           | 0.06965322                          | \n",
       "| HALLMARK_HYPOXIA                    | 0.1777680                           | 0.2182873                           | 0.2066369                           | 0.2280754                           | 0.2133397                           | 0.1951075                           | 0.1847733                           | 0.17668794                          | 0.2085090                           | ⋯                                   | 0.2329528                           | 0.2851864                           | 0.2588453                           | 0.2423339                           | 0.2801138                           | 0.2631574                           | 0.2612868                           | 0.2541697                           | 0.2550989                           | 0.17013909                          | \n",
       "| HALLMARK_CHOLESTEROL_HOMEOSTASIS    | 0.2910560                           | 0.3071711                           | 0.3040415                           | 0.3029025                           | 0.2912912                           | 0.3026668                           | 0.2503074                           | 0.30745975                          | 0.3366550                           | ⋯                                   | 0.2978222                           | 0.3115737                           | 0.3149536                           | 0.3273641                           | 0.3572007                           | 0.3259694                           | 0.3283077                           | 0.3103078                           | 0.3337639                           | 0.30601647                          | \n",
       "| HALLMARK_MITOTIC_SPINDLE            | 0.2913235                           | 0.3417554                           | 0.3326834                           | 0.3580851                           | 0.3194368                           | 0.3505266                           | 0.4386014                           | 0.35965903                          | 0.3657099                           | ⋯                                   | 0.3476544                           | 0.3396198                           | 0.3564771                           | 0.3548904                           | 0.3991286                           | 0.3552740                           | 0.3375994                           | 0.3293698                           | 0.3324187                           | 0.31162160                          | \n",
       "| HALLMARK_WNT_BETA_CATENIN_SIGNALING | 0.1512311                           | 0.1841402                           | 0.1867324                           | 0.2632747                           | 0.2154267                           | 0.2244500                           | 0.2460888                           | 0.24303028                          | 0.2285515                           | ⋯                                   | 0.1262571                           | 0.1893952                           | 0.1804980                           | 0.1666257                           | 0.2367696                           | 0.1856328                           | 0.1475494                           | 0.1423987                           | 0.1268914                           | 0.11033910                          | \n",
       "| HALLMARK_TGF_BETA_SIGNALING         | 0.3601273                           | 0.4052729                           | 0.3830989                           | 0.4405695                           | 0.3904583                           | 0.3544433                           | 0.3731478                           | 0.35217498                          | 0.3921855                           | ⋯                                   | 0.4162216                           | 0.4551743                           | 0.4727299                           | 0.3769614                           | 0.4335947                           | 0.4230834                           | 0.4160767                           | 0.4071078                           | 0.4056907                           | 0.32461787                          | \n",
       "\n",
       "\n"
      ],
      "text/plain": [
       "  Term                                A01       A02       A03       A04      \n",
       "1 HALLMARK_TNFA_SIGNALING_VIA_NFKB    0.1365760 0.1622527 0.1679446 0.1658720\n",
       "2 HALLMARK_HYPOXIA                    0.1777680 0.2182873 0.2066369 0.2280754\n",
       "3 HALLMARK_CHOLESTEROL_HOMEOSTASIS    0.2910560 0.3071711 0.3040415 0.3029025\n",
       "4 HALLMARK_MITOTIC_SPINDLE            0.2913235 0.3417554 0.3326834 0.3580851\n",
       "5 HALLMARK_WNT_BETA_CATENIN_SIGNALING 0.1512311 0.1841402 0.1867324 0.2632747\n",
       "6 HALLMARK_TGF_BETA_SIGNALING         0.3601273 0.4052729 0.3830989 0.4405695\n",
       "  A05       A06       A07       A08        A09       ⋯ C06       C07      \n",
       "1 0.1082707 0.1033835 0.0683624 0.07016183 0.1115274 ⋯ 0.1281450 0.2591543\n",
       "2 0.2133397 0.1951075 0.1847733 0.17668794 0.2085090 ⋯ 0.2329528 0.2851864\n",
       "3 0.2912912 0.3026668 0.2503074 0.30745975 0.3366550 ⋯ 0.2978222 0.3115737\n",
       "4 0.3194368 0.3505266 0.4386014 0.35965903 0.3657099 ⋯ 0.3476544 0.3396198\n",
       "5 0.2154267 0.2244500 0.2460888 0.24303028 0.2285515 ⋯ 0.1262571 0.1893952\n",
       "6 0.3904583 0.3544433 0.3731478 0.35217498 0.3921855 ⋯ 0.4162216 0.4551743\n",
       "  C08       C09       C10       C11       C12       D01       D02      \n",
       "1 0.2156885 0.1126508 0.2002938 0.2419946 0.1914320 0.1947142 0.1893358\n",
       "2 0.2588453 0.2423339 0.2801138 0.2631574 0.2612868 0.2541697 0.2550989\n",
       "3 0.3149536 0.3273641 0.3572007 0.3259694 0.3283077 0.3103078 0.3337639\n",
       "4 0.3564771 0.3548904 0.3991286 0.3552740 0.3375994 0.3293698 0.3324187\n",
       "5 0.1804980 0.1666257 0.2367696 0.1856328 0.1475494 0.1423987 0.1268914\n",
       "6 0.4727299 0.3769614 0.4335947 0.4230834 0.4160767 0.4071078 0.4056907\n",
       "  D03       \n",
       "1 0.06965322\n",
       "2 0.17013909\n",
       "3 0.30601647\n",
       "4 0.31162160\n",
       "5 0.11033910\n",
       "6 0.32461787"
      ]
     },
     "metadata": {},
     "output_type": "display_data"
    }
   ],
   "source": [
    "head(hsi_NES)"
   ]
  },
  {
   "cell_type": "code",
   "execution_count": 19,
   "metadata": {},
   "outputs": [],
   "source": [
    "write.table(hsi_NES,\n",
    "            file=\"~/git_repos/HGSOC_TME_Heterogeneity/Data/1/HallmarksStromaImmune_NES.txt\",\n",
    "            sep='\\t',\n",
    "            row.names=F,\n",
    "            col.names=T)"
   ]
  },
  {
   "cell_type": "markdown",
   "metadata": {},
   "source": [
    "# End script"
   ]
  }
 ],
 "metadata": {
  "kernelspec": {
   "display_name": "R",
   "language": "R",
   "name": "ir"
  },
  "language_info": {
   "codemirror_mode": "r",
   "file_extension": ".r",
   "mimetype": "text/x-r-source",
   "name": "R",
   "pygments_lexer": "r",
   "version": "3.5.0"
  }
 },
 "nbformat": 4,
 "nbformat_minor": 2
}

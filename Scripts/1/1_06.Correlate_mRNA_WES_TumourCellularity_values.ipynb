{
 "cells": [
  {
   "cell_type": "markdown",
   "metadata": {},
   "source": [
    "# Correlate mRNA and WES tumour cellularity values"
   ]
  },
  {
   "cell_type": "markdown",
   "metadata": {},
   "source": [
    "Script related to figure s1b\n",
    "\n",
    "### Aim:\n",
    "- Plot correlation of WES and mRNA derived tumour cellularity values"
   ]
  },
  {
   "cell_type": "code",
   "execution_count": 1,
   "metadata": {},
   "outputs": [
    {
     "name": "stdout",
     "output_type": "stream",
     "text": [
      "Python 3.6.8 :: Anaconda custom (64-bit)\r\n"
     ]
    }
   ],
   "source": [
    "!python --version"
   ]
  },
  {
   "cell_type": "markdown",
   "metadata": {},
   "source": [
    "## Import packages"
   ]
  },
  {
   "cell_type": "code",
   "execution_count": 2,
   "metadata": {},
   "outputs": [],
   "source": [
    "import pandas as pd\n",
    "import seaborn as sns\n",
    "import matplotlib.pyplot as plt\n",
    "from scipy.stats import kendalltau"
   ]
  },
  {
   "cell_type": "code",
   "execution_count": 3,
   "metadata": {},
   "outputs": [],
   "source": [
    "home = \"~/git_repos/HGSOC_TME_Heterogeneity/\""
   ]
  },
  {
   "cell_type": "markdown",
   "metadata": {},
   "source": [
    "## Get sample labels"
   ]
  },
  {
   "cell_type": "markdown",
   "metadata": {},
   "source": [
    "### Load file"
   ]
  },
  {
   "cell_type": "code",
   "execution_count": 4,
   "metadata": {},
   "outputs": [],
   "source": [
    "file_keys = home + 'Data/1/TreatmentNaive_SampleLabels_WESTumourCellularity.txt'\n",
    "\n",
    "sample_labels = pd.read_csv(file_keys,\n",
    "                            sep='\\t',\n",
    "                            index_col='Well')"
   ]
  },
  {
   "cell_type": "code",
   "execution_count": 5,
   "metadata": {},
   "outputs": [
    {
     "data": {
      "text/html": [
       "<div>\n",
       "<style scoped>\n",
       "    .dataframe tbody tr th:only-of-type {\n",
       "        vertical-align: middle;\n",
       "    }\n",
       "\n",
       "    .dataframe tbody tr th {\n",
       "        vertical-align: top;\n",
       "    }\n",
       "\n",
       "    .dataframe thead th {\n",
       "        text-align: right;\n",
       "    }\n",
       "</style>\n",
       "<table border=\"1\" class=\"dataframe\">\n",
       "  <thead>\n",
       "    <tr style=\"text-align: right;\">\n",
       "      <th></th>\n",
       "      <th>Label</th>\n",
       "      <th>Key</th>\n",
       "      <th>Case_mRNA</th>\n",
       "      <th>Site</th>\n",
       "      <th>Habitat</th>\n",
       "      <th>Case_WES</th>\n",
       "      <th>Tumour_WES</th>\n",
       "      <th>Colour</th>\n",
       "      <th>Site_marker</th>\n",
       "      <th>TumourCellularity_WES</th>\n",
       "    </tr>\n",
       "    <tr>\n",
       "      <th>Well</th>\n",
       "      <th></th>\n",
       "      <th></th>\n",
       "      <th></th>\n",
       "      <th></th>\n",
       "      <th></th>\n",
       "      <th></th>\n",
       "      <th></th>\n",
       "      <th></th>\n",
       "      <th></th>\n",
       "      <th></th>\n",
       "    </tr>\n",
       "  </thead>\n",
       "  <tbody>\n",
       "    <tr>\n",
       "      <th>A01</th>\n",
       "      <td>A01_3640_5_Omentum</td>\n",
       "      <td>case10_omentum_green</td>\n",
       "      <td>10</td>\n",
       "      <td>omentum</td>\n",
       "      <td>green</td>\n",
       "      <td>10.0</td>\n",
       "      <td>5</td>\n",
       "      <td>#ff7f00</td>\n",
       "      <td>^</td>\n",
       "      <td>0.5973</td>\n",
       "    </tr>\n",
       "    <tr>\n",
       "      <th>A02</th>\n",
       "      <td>A02_3640_7_Omentum</td>\n",
       "      <td>case10_omentum_blue</td>\n",
       "      <td>10</td>\n",
       "      <td>omentum</td>\n",
       "      <td>blue</td>\n",
       "      <td>10.0</td>\n",
       "      <td>7</td>\n",
       "      <td>#ff7f00</td>\n",
       "      <td>^</td>\n",
       "      <td>0.5065</td>\n",
       "    </tr>\n",
       "    <tr>\n",
       "      <th>A03</th>\n",
       "      <td>A03_3640_9_Paracolic_Gutter</td>\n",
       "      <td>case10_paracolic_yellow</td>\n",
       "      <td>10</td>\n",
       "      <td>other</td>\n",
       "      <td>yellow</td>\n",
       "      <td>10.0</td>\n",
       "      <td>8</td>\n",
       "      <td>#ff7f00</td>\n",
       "      <td>s</td>\n",
       "      <td>0.4551</td>\n",
       "    </tr>\n",
       "    <tr>\n",
       "      <th>A04</th>\n",
       "      <td>A04_3640_17_R_Adnexa</td>\n",
       "      <td>case10_Radnexa_yellow</td>\n",
       "      <td>10</td>\n",
       "      <td>ovary</td>\n",
       "      <td>yellow</td>\n",
       "      <td>10.0</td>\n",
       "      <td>17</td>\n",
       "      <td>#ff7f00</td>\n",
       "      <td>o</td>\n",
       "      <td>0.6496</td>\n",
       "    </tr>\n",
       "    <tr>\n",
       "      <th>A05</th>\n",
       "      <td>A05_3640_18_R_Adnexa</td>\n",
       "      <td>case10_Radnexa_blue</td>\n",
       "      <td>10</td>\n",
       "      <td>ovary</td>\n",
       "      <td>blue</td>\n",
       "      <td>10.0</td>\n",
       "      <td>18</td>\n",
       "      <td>#ff7f00</td>\n",
       "      <td>o</td>\n",
       "      <td>0.6706</td>\n",
       "    </tr>\n",
       "  </tbody>\n",
       "</table>\n",
       "</div>"
      ],
      "text/plain": [
       "                            Label                      Key  Case_mRNA  \\\n",
       "Well                                                                    \n",
       "A01            A01_3640_5_Omentum     case10_omentum_green         10   \n",
       "A02            A02_3640_7_Omentum      case10_omentum_blue         10   \n",
       "A03   A03_3640_9_Paracolic_Gutter  case10_paracolic_yellow         10   \n",
       "A04          A04_3640_17_R_Adnexa    case10_Radnexa_yellow         10   \n",
       "A05          A05_3640_18_R_Adnexa      case10_Radnexa_blue         10   \n",
       "\n",
       "         Site Habitat  Case_WES Tumour_WES   Colour Site_marker  \\\n",
       "Well                                                              \n",
       "A01   omentum   green      10.0          5  #ff7f00           ^   \n",
       "A02   omentum    blue      10.0          7  #ff7f00           ^   \n",
       "A03     other  yellow      10.0          8  #ff7f00           s   \n",
       "A04     ovary  yellow      10.0         17  #ff7f00           o   \n",
       "A05     ovary    blue      10.0         18  #ff7f00           o   \n",
       "\n",
       "      TumourCellularity_WES  \n",
       "Well                         \n",
       "A01                  0.5973  \n",
       "A02                  0.5065  \n",
       "A03                  0.4551  \n",
       "A04                  0.6496  \n",
       "A05                  0.6706  "
      ]
     },
     "execution_count": 5,
     "metadata": {},
     "output_type": "execute_result"
    }
   ],
   "source": [
    "sample_labels.head()"
   ]
  },
  {
   "cell_type": "markdown",
   "metadata": {},
   "source": [
    "### Define sample colours"
   ]
  },
  {
   "cell_type": "code",
   "execution_count": 6,
   "metadata": {},
   "outputs": [],
   "source": [
    "case_mrna = list(set(sample_labels['Case_mRNA']))\n",
    "\n",
    "colours = sns.color_palette(\"Set1\", 8).as_hex()\n",
    "\n",
    "sample_labels['Colour'] = sample_labels['Case_mRNA'].replace(case_mrna, colours)"
   ]
  },
  {
   "cell_type": "markdown",
   "metadata": {},
   "source": [
    "### Define sample markers"
   ]
  },
  {
   "cell_type": "code",
   "execution_count": 7,
   "metadata": {},
   "outputs": [],
   "source": [
    "sites = ['ovary','omentum','other']\n",
    "markers = ['o','^','s']\n",
    "\n",
    "sample_labels['Site_marker'] = sample_labels['Site'].replace(sites,markers)"
   ]
  },
  {
   "cell_type": "code",
   "execution_count": 8,
   "metadata": {},
   "outputs": [
    {
     "data": {
      "text/html": [
       "<div>\n",
       "<style scoped>\n",
       "    .dataframe tbody tr th:only-of-type {\n",
       "        vertical-align: middle;\n",
       "    }\n",
       "\n",
       "    .dataframe tbody tr th {\n",
       "        vertical-align: top;\n",
       "    }\n",
       "\n",
       "    .dataframe thead th {\n",
       "        text-align: right;\n",
       "    }\n",
       "</style>\n",
       "<table border=\"1\" class=\"dataframe\">\n",
       "  <thead>\n",
       "    <tr style=\"text-align: right;\">\n",
       "      <th></th>\n",
       "      <th>Label</th>\n",
       "      <th>Key</th>\n",
       "      <th>Case_mRNA</th>\n",
       "      <th>Site</th>\n",
       "      <th>Habitat</th>\n",
       "      <th>Case_WES</th>\n",
       "      <th>Tumour_WES</th>\n",
       "      <th>Colour</th>\n",
       "      <th>Site_marker</th>\n",
       "      <th>TumourCellularity_WES</th>\n",
       "    </tr>\n",
       "    <tr>\n",
       "      <th>Well</th>\n",
       "      <th></th>\n",
       "      <th></th>\n",
       "      <th></th>\n",
       "      <th></th>\n",
       "      <th></th>\n",
       "      <th></th>\n",
       "      <th></th>\n",
       "      <th></th>\n",
       "      <th></th>\n",
       "      <th></th>\n",
       "    </tr>\n",
       "  </thead>\n",
       "  <tbody>\n",
       "    <tr>\n",
       "      <th>A01</th>\n",
       "      <td>A01_3640_5_Omentum</td>\n",
       "      <td>case10_omentum_green</td>\n",
       "      <td>10</td>\n",
       "      <td>omentum</td>\n",
       "      <td>green</td>\n",
       "      <td>10.0</td>\n",
       "      <td>5</td>\n",
       "      <td>#ff7f00</td>\n",
       "      <td>^</td>\n",
       "      <td>0.5973</td>\n",
       "    </tr>\n",
       "    <tr>\n",
       "      <th>A02</th>\n",
       "      <td>A02_3640_7_Omentum</td>\n",
       "      <td>case10_omentum_blue</td>\n",
       "      <td>10</td>\n",
       "      <td>omentum</td>\n",
       "      <td>blue</td>\n",
       "      <td>10.0</td>\n",
       "      <td>7</td>\n",
       "      <td>#ff7f00</td>\n",
       "      <td>^</td>\n",
       "      <td>0.5065</td>\n",
       "    </tr>\n",
       "    <tr>\n",
       "      <th>A03</th>\n",
       "      <td>A03_3640_9_Paracolic_Gutter</td>\n",
       "      <td>case10_paracolic_yellow</td>\n",
       "      <td>10</td>\n",
       "      <td>other</td>\n",
       "      <td>yellow</td>\n",
       "      <td>10.0</td>\n",
       "      <td>8</td>\n",
       "      <td>#ff7f00</td>\n",
       "      <td>s</td>\n",
       "      <td>0.4551</td>\n",
       "    </tr>\n",
       "    <tr>\n",
       "      <th>A04</th>\n",
       "      <td>A04_3640_17_R_Adnexa</td>\n",
       "      <td>case10_Radnexa_yellow</td>\n",
       "      <td>10</td>\n",
       "      <td>ovary</td>\n",
       "      <td>yellow</td>\n",
       "      <td>10.0</td>\n",
       "      <td>17</td>\n",
       "      <td>#ff7f00</td>\n",
       "      <td>o</td>\n",
       "      <td>0.6496</td>\n",
       "    </tr>\n",
       "    <tr>\n",
       "      <th>A05</th>\n",
       "      <td>A05_3640_18_R_Adnexa</td>\n",
       "      <td>case10_Radnexa_blue</td>\n",
       "      <td>10</td>\n",
       "      <td>ovary</td>\n",
       "      <td>blue</td>\n",
       "      <td>10.0</td>\n",
       "      <td>18</td>\n",
       "      <td>#ff7f00</td>\n",
       "      <td>o</td>\n",
       "      <td>0.6706</td>\n",
       "    </tr>\n",
       "  </tbody>\n",
       "</table>\n",
       "</div>"
      ],
      "text/plain": [
       "                            Label                      Key  Case_mRNA  \\\n",
       "Well                                                                    \n",
       "A01            A01_3640_5_Omentum     case10_omentum_green         10   \n",
       "A02            A02_3640_7_Omentum      case10_omentum_blue         10   \n",
       "A03   A03_3640_9_Paracolic_Gutter  case10_paracolic_yellow         10   \n",
       "A04          A04_3640_17_R_Adnexa    case10_Radnexa_yellow         10   \n",
       "A05          A05_3640_18_R_Adnexa      case10_Radnexa_blue         10   \n",
       "\n",
       "         Site Habitat  Case_WES Tumour_WES   Colour Site_marker  \\\n",
       "Well                                                              \n",
       "A01   omentum   green      10.0          5  #ff7f00           ^   \n",
       "A02   omentum    blue      10.0          7  #ff7f00           ^   \n",
       "A03     other  yellow      10.0          8  #ff7f00           s   \n",
       "A04     ovary  yellow      10.0         17  #ff7f00           o   \n",
       "A05     ovary    blue      10.0         18  #ff7f00           o   \n",
       "\n",
       "      TumourCellularity_WES  \n",
       "Well                         \n",
       "A01                  0.5973  \n",
       "A02                  0.5065  \n",
       "A03                  0.4551  \n",
       "A04                  0.6496  \n",
       "A05                  0.6706  "
      ]
     },
     "execution_count": 8,
     "metadata": {},
     "output_type": "execute_result"
    }
   ],
   "source": [
    "sample_labels.head()"
   ]
  },
  {
   "cell_type": "markdown",
   "metadata": {},
   "source": [
    "## Load mRNA tumour cellularity data"
   ]
  },
  {
   "cell_type": "code",
   "execution_count": 9,
   "metadata": {},
   "outputs": [],
   "source": [
    "mRNA_tumcell_file = home + \"Data/1/TreatmentNaive_log2exp_loess_norm_filtered_ESTIMATE.txt\"\n",
    "\n",
    "mRNA_tumcell = pd.read_csv(mRNA_tumcell_file,\n",
    "                           skiprows=2,\n",
    "                           sep='\\t',\n",
    "                           index_col='NAME')\n",
    "\n",
    "del(mRNA_tumcell['Description'])"
   ]
  },
  {
   "cell_type": "code",
   "execution_count": 10,
   "metadata": {},
   "outputs": [
    {
     "data": {
      "text/html": [
       "<div>\n",
       "<style scoped>\n",
       "    .dataframe tbody tr th:only-of-type {\n",
       "        vertical-align: middle;\n",
       "    }\n",
       "\n",
       "    .dataframe tbody tr th {\n",
       "        vertical-align: top;\n",
       "    }\n",
       "\n",
       "    .dataframe thead th {\n",
       "        text-align: right;\n",
       "    }\n",
       "</style>\n",
       "<table border=\"1\" class=\"dataframe\">\n",
       "  <thead>\n",
       "    <tr style=\"text-align: right;\">\n",
       "      <th></th>\n",
       "      <th>A01</th>\n",
       "      <th>A02</th>\n",
       "      <th>A03</th>\n",
       "      <th>A04</th>\n",
       "      <th>A05</th>\n",
       "      <th>A06</th>\n",
       "      <th>A07</th>\n",
       "      <th>A08</th>\n",
       "      <th>A09</th>\n",
       "      <th>A10</th>\n",
       "      <th>...</th>\n",
       "      <th>C06</th>\n",
       "      <th>C07</th>\n",
       "      <th>C08</th>\n",
       "      <th>C09</th>\n",
       "      <th>C10</th>\n",
       "      <th>C11</th>\n",
       "      <th>C12</th>\n",
       "      <th>D01</th>\n",
       "      <th>D02</th>\n",
       "      <th>D03</th>\n",
       "    </tr>\n",
       "    <tr>\n",
       "      <th>NAME</th>\n",
       "      <th></th>\n",
       "      <th></th>\n",
       "      <th></th>\n",
       "      <th></th>\n",
       "      <th></th>\n",
       "      <th></th>\n",
       "      <th></th>\n",
       "      <th></th>\n",
       "      <th></th>\n",
       "      <th></th>\n",
       "      <th></th>\n",
       "      <th></th>\n",
       "      <th></th>\n",
       "      <th></th>\n",
       "      <th></th>\n",
       "      <th></th>\n",
       "      <th></th>\n",
       "      <th></th>\n",
       "      <th></th>\n",
       "      <th></th>\n",
       "      <th></th>\n",
       "    </tr>\n",
       "  </thead>\n",
       "  <tbody>\n",
       "    <tr>\n",
       "      <th>StromalScore</th>\n",
       "      <td>213.898183</td>\n",
       "      <td>441.185072</td>\n",
       "      <td>627.161634</td>\n",
       "      <td>-257.879171</td>\n",
       "      <td>-105.932457</td>\n",
       "      <td>-179.742309</td>\n",
       "      <td>-667.871861</td>\n",
       "      <td>-554.187271</td>\n",
       "      <td>-467.547274</td>\n",
       "      <td>-424.048973</td>\n",
       "      <td>...</td>\n",
       "      <td>276.215651</td>\n",
       "      <td>819.700176</td>\n",
       "      <td>542.094611</td>\n",
       "      <td>446.049523</td>\n",
       "      <td>100.214812</td>\n",
       "      <td>640.683420</td>\n",
       "      <td>1028.302292</td>\n",
       "      <td>631.494907</td>\n",
       "      <td>843.594952</td>\n",
       "      <td>-393.705822</td>\n",
       "    </tr>\n",
       "    <tr>\n",
       "      <th>ImmuneScore</th>\n",
       "      <td>789.397143</td>\n",
       "      <td>1103.963967</td>\n",
       "      <td>996.569838</td>\n",
       "      <td>119.238243</td>\n",
       "      <td>354.124225</td>\n",
       "      <td>197.378769</td>\n",
       "      <td>-395.243536</td>\n",
       "      <td>-16.422432</td>\n",
       "      <td>-469.452988</td>\n",
       "      <td>-563.011739</td>\n",
       "      <td>...</td>\n",
       "      <td>-18.442529</td>\n",
       "      <td>526.734281</td>\n",
       "      <td>-25.089182</td>\n",
       "      <td>238.412959</td>\n",
       "      <td>-60.730519</td>\n",
       "      <td>890.081437</td>\n",
       "      <td>776.296638</td>\n",
       "      <td>680.327079</td>\n",
       "      <td>892.726571</td>\n",
       "      <td>-226.504212</td>\n",
       "    </tr>\n",
       "    <tr>\n",
       "      <th>ESTIMATEScore</th>\n",
       "      <td>1003.295326</td>\n",
       "      <td>1545.149039</td>\n",
       "      <td>1623.731472</td>\n",
       "      <td>-138.640928</td>\n",
       "      <td>248.191767</td>\n",
       "      <td>17.636459</td>\n",
       "      <td>-1063.115397</td>\n",
       "      <td>-570.609703</td>\n",
       "      <td>-937.000262</td>\n",
       "      <td>-987.060713</td>\n",
       "      <td>...</td>\n",
       "      <td>257.773122</td>\n",
       "      <td>1346.434456</td>\n",
       "      <td>517.005428</td>\n",
       "      <td>684.462482</td>\n",
       "      <td>39.484294</td>\n",
       "      <td>1530.764858</td>\n",
       "      <td>1804.598930</td>\n",
       "      <td>1311.821985</td>\n",
       "      <td>1736.321523</td>\n",
       "      <td>-620.210034</td>\n",
       "    </tr>\n",
       "    <tr>\n",
       "      <th>TumorPurity</th>\n",
       "      <td>0.730147</td>\n",
       "      <td>0.673548</td>\n",
       "      <td>0.664978</td>\n",
       "      <td>0.833913</td>\n",
       "      <td>0.801248</td>\n",
       "      <td>0.821034</td>\n",
       "      <td>0.900910</td>\n",
       "      <td>0.867208</td>\n",
       "      <td>0.892722</td>\n",
       "      <td>0.896009</td>\n",
       "      <td>...</td>\n",
       "      <td>0.800405</td>\n",
       "      <td>0.694819</td>\n",
       "      <td>0.777021</td>\n",
       "      <td>0.761314</td>\n",
       "      <td>0.819199</td>\n",
       "      <td>0.675108</td>\n",
       "      <td>0.644917</td>\n",
       "      <td>0.698464</td>\n",
       "      <td>0.652544</td>\n",
       "      <td>0.870811</td>\n",
       "    </tr>\n",
       "  </tbody>\n",
       "</table>\n",
       "<p>4 rows × 38 columns</p>\n",
       "</div>"
      ],
      "text/plain": [
       "                       A01          A02          A03         A04         A05  \\\n",
       "NAME                                                                           \n",
       "StromalScore    213.898183   441.185072   627.161634 -257.879171 -105.932457   \n",
       "ImmuneScore     789.397143  1103.963967   996.569838  119.238243  354.124225   \n",
       "ESTIMATEScore  1003.295326  1545.149039  1623.731472 -138.640928  248.191767   \n",
       "TumorPurity       0.730147     0.673548     0.664978    0.833913    0.801248   \n",
       "\n",
       "                      A06          A07         A08         A09         A10  \\\n",
       "NAME                                                                         \n",
       "StromalScore  -179.742309  -667.871861 -554.187271 -467.547274 -424.048973   \n",
       "ImmuneScore    197.378769  -395.243536  -16.422432 -469.452988 -563.011739   \n",
       "ESTIMATEScore   17.636459 -1063.115397 -570.609703 -937.000262 -987.060713   \n",
       "TumorPurity      0.821034     0.900910    0.867208    0.892722    0.896009   \n",
       "\n",
       "               ...         C06          C07         C08         C09  \\\n",
       "NAME           ...                                                    \n",
       "StromalScore   ...  276.215651   819.700176  542.094611  446.049523   \n",
       "ImmuneScore    ...  -18.442529   526.734281  -25.089182  238.412959   \n",
       "ESTIMATEScore  ...  257.773122  1346.434456  517.005428  684.462482   \n",
       "TumorPurity    ...    0.800405     0.694819    0.777021    0.761314   \n",
       "\n",
       "                      C10          C11          C12          D01          D02  \\\n",
       "NAME                                                                            \n",
       "StromalScore   100.214812   640.683420  1028.302292   631.494907   843.594952   \n",
       "ImmuneScore    -60.730519   890.081437   776.296638   680.327079   892.726571   \n",
       "ESTIMATEScore   39.484294  1530.764858  1804.598930  1311.821985  1736.321523   \n",
       "TumorPurity      0.819199     0.675108     0.644917     0.698464     0.652544   \n",
       "\n",
       "                      D03  \n",
       "NAME                       \n",
       "StromalScore  -393.705822  \n",
       "ImmuneScore   -226.504212  \n",
       "ESTIMATEScore -620.210034  \n",
       "TumorPurity      0.870811  \n",
       "\n",
       "[4 rows x 38 columns]"
      ]
     },
     "execution_count": 10,
     "metadata": {},
     "output_type": "execute_result"
    }
   ],
   "source": [
    "mRNA_tumcell.head()"
   ]
  },
  {
   "cell_type": "code",
   "execution_count": 11,
   "metadata": {},
   "outputs": [],
   "source": [
    "sample_labels['TumourCellularity_mRNA'] = mRNA_tumcell.loc['TumorPurity']"
   ]
  },
  {
   "cell_type": "markdown",
   "metadata": {},
   "source": [
    "### Plot correlation"
   ]
  },
  {
   "cell_type": "code",
   "execution_count": 12,
   "metadata": {},
   "outputs": [
    {
     "data": {
      "image/png": "[encoded data removed]",
      "text/plain": [
       "<Figure size 360x360 with 1 Axes>"
      ]
     },
     "metadata": {},
     "output_type": "display_data"
    }
   ],
   "source": [
    "g = sns.lmplot(x='TumourCellularity_WES',\n",
    "               y='TumourCellularity_mRNA',\n",
    "               data=sample_labels,\n",
    "               truncate=True,\n",
    "               scatter_kws={'color':'None'},\n",
    "               line_kws={'color':'k',\n",
    "                         'zorder':0})\n",
    "\n",
    "for sample in sample_labels.index:\n",
    "    \n",
    "    wes_tumcell = sample_labels.TumourCellularity_WES[sample]\n",
    "    rna_tumcell = sample_labels.TumourCellularity_mRNA[sample]\n",
    "    colour = sample_labels.Colour[sample]\n",
    "    marker = sample_labels.Site_marker[sample]\n",
    "    \n",
    "    plt.scatter(wes_tumcell,\n",
    "                rna_tumcell,\n",
    "                marker=marker,\n",
    "                c=colour,\n",
    "                zorder=1)\n",
    "    \n",
    "sns.despine(trim=False)"
   ]
  },
  {
   "cell_type": "markdown",
   "metadata": {},
   "source": [
    "### Save plot"
   ]
  },
  {
   "cell_type": "code",
   "execution_count": 13,
   "metadata": {},
   "outputs": [
    {
     "name": "stdout",
     "output_type": "stream",
     "text": [
      "OVCT_Fig_m1.pdf  OVCT_Fig_m1.png  README.md        \u001b[34mpanels\u001b[m\u001b[m/\r\n"
     ]
    }
   ],
   "source": [
    "ls ../../Figures/main/1/"
   ]
  },
  {
   "cell_type": "code",
   "execution_count": 14,
   "metadata": {},
   "outputs": [],
   "source": [
    "FILE = \"../../Figures/supplementary/1/panels/s1b_TreatmentNaive_TumourCellularity_WES_mRNA_corr.pdf\"\n",
    "\n",
    "g.savefig(FILE, bbox='tight')"
   ]
  },
  {
   "cell_type": "markdown",
   "metadata": {},
   "source": [
    "### Calculate normality of distribution"
   ]
  },
  {
   "cell_type": "code",
   "execution_count": 15,
   "metadata": {},
   "outputs": [],
   "source": [
    "import scipy.stats\n",
    "from statsmodels.graphics.gofplots import qqplot"
   ]
  },
  {
   "cell_type": "code",
   "execution_count": 16,
   "metadata": {},
   "outputs": [
    {
     "data": {
      "text/plain": [
       "<matplotlib.axes._subplots.AxesSubplot at 0x1a1a60bcf8>"
      ]
     },
     "execution_count": 16,
     "metadata": {},
     "output_type": "execute_result"
    },
    {
     "data": {
      "image/png": "[encoded data removed]",
      "text/plain": [
       "<Figure size 432x288 with 1 Axes>"
      ]
     },
     "metadata": {},
     "output_type": "display_data"
    }
   ],
   "source": [
    "sample_labels[\"TumourCellularity_WES\"].dropna().plot(kind=\"kde\")"
   ]
  },
  {
   "cell_type": "code",
   "execution_count": 17,
   "metadata": {},
   "outputs": [
    {
     "data": {
      "text/plain": [
       "<matplotlib.axes._subplots.AxesSubplot at 0x1a1a36dd30>"
      ]
     },
     "execution_count": 17,
     "metadata": {},
     "output_type": "execute_result"
    },
    {
     "data": {
      "image/png": "[encoded data removed]",
      "text/plain": [
       "<Figure size 432x288 with 1 Axes>"
      ]
     },
     "metadata": {},
     "output_type": "display_data"
    }
   ],
   "source": [
    "sample_labels[\"TumourCellularity_mRNA\"].dropna().plot(kind=\"kde\")"
   ]
  },
  {
   "cell_type": "code",
   "execution_count": 19,
   "metadata": {},
   "outputs": [
    {
     "data": {
      "image/png": "[encoded data removed]",
      "text/plain": [
       "<Figure size 432x288 with 1 Axes>"
      ]
     },
     "metadata": {},
     "output_type": "display_data"
    }
   ],
   "source": [
    "qqplot(sample_labels[\"TumourCellularity_WES\"].dropna(),\n",
    "       line='s')\n",
    "\n",
    "plt.show()"
   ]
  },
  {
   "cell_type": "code",
   "execution_count": 20,
   "metadata": {},
   "outputs": [
    {
     "data": {
      "image/png": "[encoded data removed]",
      "text/plain": [
       "<Figure size 432x288 with 1 Axes>"
      ]
     },
     "metadata": {},
     "output_type": "display_data"
    }
   ],
   "source": [
    "qqplot(sample_labels[\"TumourCellularity_mRNA\"].dropna(),\n",
    "       line='s')\n",
    "\n",
    "plt.show()"
   ]
  },
  {
   "cell_type": "code",
   "execution_count": 21,
   "metadata": {},
   "outputs": [
    {
     "data": {
      "text/plain": [
       "(0.9907388091087341, 0.9883953928947449)"
      ]
     },
     "execution_count": 21,
     "metadata": {},
     "output_type": "execute_result"
    }
   ],
   "source": [
    "scipy.stats.shapiro(sample_labels[\"TumourCellularity_WES\"].dropna())\n",
    "\n",
    "# Looks normal"
   ]
  },
  {
   "cell_type": "code",
   "execution_count": 22,
   "metadata": {},
   "outputs": [
    {
     "data": {
      "text/plain": [
       "(0.9616340398788452, 0.2144736647605896)"
      ]
     },
     "execution_count": 22,
     "metadata": {},
     "output_type": "execute_result"
    }
   ],
   "source": [
    "scipy.stats.shapiro(sample_labels[\"TumourCellularity_mRNA\"].dropna())\n",
    "\n",
    "# Looks normal"
   ]
  },
  {
   "cell_type": "code",
   "execution_count": 23,
   "metadata": {},
   "outputs": [
    {
     "data": {
      "text/plain": [
       "NormaltestResult(statistic=0.20407543126534242, pvalue=0.9029954939802725)"
      ]
     },
     "execution_count": 23,
     "metadata": {},
     "output_type": "execute_result"
    }
   ],
   "source": [
    "scipy.stats.normaltest(sample_labels[\"TumourCellularity_WES\"].dropna())\n",
    "\n",
    "# Looks normal"
   ]
  },
  {
   "cell_type": "code",
   "execution_count": 24,
   "metadata": {},
   "outputs": [
    {
     "data": {
      "text/plain": [
       "NormaltestResult(statistic=2.594404545802352, pvalue=0.2732953302029545)"
      ]
     },
     "execution_count": 24,
     "metadata": {},
     "output_type": "execute_result"
    }
   ],
   "source": [
    "scipy.stats.normaltest(sample_labels[\"TumourCellularity_mRNA\"].dropna())\n",
    "\n",
    "# Looks normal"
   ]
  },
  {
   "cell_type": "code",
   "execution_count": 25,
   "metadata": {},
   "outputs": [
    {
     "data": {
      "text/plain": [
       "AndersonResult(statistic=0.13777017781481504, critical_values=array([0.528, 0.601, 0.721, 0.841, 1.   ]), significance_level=array([15. , 10. ,  5. ,  2.5,  1. ]))"
      ]
     },
     "execution_count": 25,
     "metadata": {},
     "output_type": "execute_result"
    }
   ],
   "source": [
    "scipy.stats.anderson(sample_labels[\"TumourCellularity_WES\"].dropna(), 'norm')\n",
    "\n",
    "# Looks normal"
   ]
  },
  {
   "cell_type": "code",
   "execution_count": 26,
   "metadata": {},
   "outputs": [
    {
     "data": {
      "text/plain": [
       "AndersonResult(statistic=0.44562252003415637, critical_values=array([0.529, 0.603, 0.723, 0.844, 1.004]), significance_level=array([15. , 10. ,  5. ,  2.5,  1. ]))"
      ]
     },
     "execution_count": 26,
     "metadata": {},
     "output_type": "execute_result"
    }
   ],
   "source": [
    "scipy.stats.anderson(sample_labels[\"TumourCellularity_mRNA\"].dropna(), 'norm')\n",
    "\n",
    "# Looks normal"
   ]
  },
  {
   "cell_type": "code",
   "execution_count": 27,
   "metadata": {},
   "outputs": [
    {
     "data": {
      "text/plain": [
       "BartlettResult(statistic=2.2594286400006784, pvalue=0.13280305044469412)"
      ]
     },
     "execution_count": 27,
     "metadata": {},
     "output_type": "execute_result"
    }
   ],
   "source": [
    "scipy.stats.bartlett(\n",
    "    sample_labels[\"TumourCellularity_mRNA\"].dropna(),\n",
    "    sample_labels[\"TumourCellularity_WES\"].dropna()\n",
    ")\n",
    "\n",
    "# same variance (homoscedasticity)"
   ]
  },
  {
   "cell_type": "markdown",
   "metadata": {},
   "source": [
    "Conclusion: Use pearson"
   ]
  },
  {
   "cell_type": "markdown",
   "metadata": {},
   "source": [
    "### Calculate correlation"
   ]
  },
  {
   "cell_type": "code",
   "execution_count": 29,
   "metadata": {},
   "outputs": [
    {
     "data": {
      "text/plain": [
       "<function scipy.stats.stats.pearsonr>"
      ]
     },
     "execution_count": 29,
     "metadata": {},
     "output_type": "execute_result"
    }
   ],
   "source": [
    "scipy.stats.pearsonr"
   ]
  },
  {
   "cell_type": "code",
   "execution_count": 30,
   "metadata": {},
   "outputs": [
    {
     "data": {
      "text/plain": [
       "(0.7845388088425139, 1.4940261848767453e-08)"
      ]
     },
     "execution_count": 30,
     "metadata": {},
     "output_type": "execute_result"
    }
   ],
   "source": [
    "scipy.stats.pearsonr(\n",
    "    list(sample_labels.dropna()['TumourCellularity_WES']),\n",
    "    list(sample_labels.dropna()['TumourCellularity_mRNA'])\n",
    ")"
   ]
  },
  {
   "cell_type": "code",
   "execution_count": 31,
   "metadata": {},
   "outputs": [
    {
     "data": {
      "text/plain": [
       "KendalltauResult(correlation=0.5682539682539683, pvalue=1.0810507627276314e-06)"
      ]
     },
     "execution_count": 31,
     "metadata": {},
     "output_type": "execute_result"
    }
   ],
   "source": [
    "kendalltau(list(sample_labels.dropna()['TumourCellularity_WES']),\n",
    "           list(sample_labels.dropna()['TumourCellularity_mRNA']))"
   ]
  },
  {
   "cell_type": "markdown",
   "metadata": {},
   "source": [
    "### Save data"
   ]
  },
  {
   "cell_type": "code",
   "execution_count": 32,
   "metadata": {},
   "outputs": [
    {
     "data": {
      "text/html": [
       "<div>\n",
       "<style scoped>\n",
       "    .dataframe tbody tr th:only-of-type {\n",
       "        vertical-align: middle;\n",
       "    }\n",
       "\n",
       "    .dataframe tbody tr th {\n",
       "        vertical-align: top;\n",
       "    }\n",
       "\n",
       "    .dataframe thead th {\n",
       "        text-align: right;\n",
       "    }\n",
       "</style>\n",
       "<table border=\"1\" class=\"dataframe\">\n",
       "  <thead>\n",
       "    <tr style=\"text-align: right;\">\n",
       "      <th></th>\n",
       "      <th>Label</th>\n",
       "      <th>Key</th>\n",
       "      <th>Case_mRNA</th>\n",
       "      <th>Site</th>\n",
       "      <th>Habitat</th>\n",
       "      <th>Case_WES</th>\n",
       "      <th>Tumour_WES</th>\n",
       "      <th>Colour</th>\n",
       "      <th>Site_marker</th>\n",
       "      <th>TumourCellularity_WES</th>\n",
       "      <th>TumourCellularity_mRNA</th>\n",
       "    </tr>\n",
       "    <tr>\n",
       "      <th>Well</th>\n",
       "      <th></th>\n",
       "      <th></th>\n",
       "      <th></th>\n",
       "      <th></th>\n",
       "      <th></th>\n",
       "      <th></th>\n",
       "      <th></th>\n",
       "      <th></th>\n",
       "      <th></th>\n",
       "      <th></th>\n",
       "      <th></th>\n",
       "    </tr>\n",
       "  </thead>\n",
       "  <tbody>\n",
       "    <tr>\n",
       "      <th>A01</th>\n",
       "      <td>A01_3640_5_Omentum</td>\n",
       "      <td>case10_omentum_green</td>\n",
       "      <td>10</td>\n",
       "      <td>omentum</td>\n",
       "      <td>green</td>\n",
       "      <td>10.0</td>\n",
       "      <td>5</td>\n",
       "      <td>#ff7f00</td>\n",
       "      <td>^</td>\n",
       "      <td>0.5973</td>\n",
       "      <td>0.730147</td>\n",
       "    </tr>\n",
       "    <tr>\n",
       "      <th>A02</th>\n",
       "      <td>A02_3640_7_Omentum</td>\n",
       "      <td>case10_omentum_blue</td>\n",
       "      <td>10</td>\n",
       "      <td>omentum</td>\n",
       "      <td>blue</td>\n",
       "      <td>10.0</td>\n",
       "      <td>7</td>\n",
       "      <td>#ff7f00</td>\n",
       "      <td>^</td>\n",
       "      <td>0.5065</td>\n",
       "      <td>0.673548</td>\n",
       "    </tr>\n",
       "    <tr>\n",
       "      <th>A03</th>\n",
       "      <td>A03_3640_9_Paracolic_Gutter</td>\n",
       "      <td>case10_paracolic_yellow</td>\n",
       "      <td>10</td>\n",
       "      <td>other</td>\n",
       "      <td>yellow</td>\n",
       "      <td>10.0</td>\n",
       "      <td>8</td>\n",
       "      <td>#ff7f00</td>\n",
       "      <td>s</td>\n",
       "      <td>0.4551</td>\n",
       "      <td>0.664978</td>\n",
       "    </tr>\n",
       "    <tr>\n",
       "      <th>A04</th>\n",
       "      <td>A04_3640_17_R_Adnexa</td>\n",
       "      <td>case10_Radnexa_yellow</td>\n",
       "      <td>10</td>\n",
       "      <td>ovary</td>\n",
       "      <td>yellow</td>\n",
       "      <td>10.0</td>\n",
       "      <td>17</td>\n",
       "      <td>#ff7f00</td>\n",
       "      <td>o</td>\n",
       "      <td>0.6496</td>\n",
       "      <td>0.833913</td>\n",
       "    </tr>\n",
       "    <tr>\n",
       "      <th>A05</th>\n",
       "      <td>A05_3640_18_R_Adnexa</td>\n",
       "      <td>case10_Radnexa_blue</td>\n",
       "      <td>10</td>\n",
       "      <td>ovary</td>\n",
       "      <td>blue</td>\n",
       "      <td>10.0</td>\n",
       "      <td>18</td>\n",
       "      <td>#ff7f00</td>\n",
       "      <td>o</td>\n",
       "      <td>0.6706</td>\n",
       "      <td>0.801248</td>\n",
       "    </tr>\n",
       "  </tbody>\n",
       "</table>\n",
       "</div>"
      ],
      "text/plain": [
       "                            Label                      Key  Case_mRNA  \\\n",
       "Well                                                                    \n",
       "A01            A01_3640_5_Omentum     case10_omentum_green         10   \n",
       "A02            A02_3640_7_Omentum      case10_omentum_blue         10   \n",
       "A03   A03_3640_9_Paracolic_Gutter  case10_paracolic_yellow         10   \n",
       "A04          A04_3640_17_R_Adnexa    case10_Radnexa_yellow         10   \n",
       "A05          A05_3640_18_R_Adnexa      case10_Radnexa_blue         10   \n",
       "\n",
       "         Site Habitat  Case_WES Tumour_WES   Colour Site_marker  \\\n",
       "Well                                                              \n",
       "A01   omentum   green      10.0          5  #ff7f00           ^   \n",
       "A02   omentum    blue      10.0          7  #ff7f00           ^   \n",
       "A03     other  yellow      10.0          8  #ff7f00           s   \n",
       "A04     ovary  yellow      10.0         17  #ff7f00           o   \n",
       "A05     ovary    blue      10.0         18  #ff7f00           o   \n",
       "\n",
       "      TumourCellularity_WES  TumourCellularity_mRNA  \n",
       "Well                                                 \n",
       "A01                  0.5973                0.730147  \n",
       "A02                  0.5065                0.673548  \n",
       "A03                  0.4551                0.664978  \n",
       "A04                  0.6496                0.833913  \n",
       "A05                  0.6706                0.801248  "
      ]
     },
     "execution_count": 32,
     "metadata": {},
     "output_type": "execute_result"
    }
   ],
   "source": [
    "sample_labels.head()"
   ]
  },
  {
   "cell_type": "markdown",
   "metadata": {},
   "source": [
    "### Assign High/Low based on median mRNA Tumor Cellularity"
   ]
  },
  {
   "cell_type": "code",
   "execution_count": 33,
   "metadata": {},
   "outputs": [
    {
     "data": {
      "text/html": [
       "<div>\n",
       "<style scoped>\n",
       "    .dataframe tbody tr th:only-of-type {\n",
       "        vertical-align: middle;\n",
       "    }\n",
       "\n",
       "    .dataframe tbody tr th {\n",
       "        vertical-align: top;\n",
       "    }\n",
       "\n",
       "    .dataframe thead th {\n",
       "        text-align: right;\n",
       "    }\n",
       "</style>\n",
       "<table border=\"1\" class=\"dataframe\">\n",
       "  <thead>\n",
       "    <tr style=\"text-align: right;\">\n",
       "      <th></th>\n",
       "      <th>Label</th>\n",
       "      <th>Key</th>\n",
       "      <th>Case_mRNA</th>\n",
       "      <th>Site</th>\n",
       "      <th>Habitat</th>\n",
       "      <th>Case_WES</th>\n",
       "      <th>Tumour_WES</th>\n",
       "      <th>Colour</th>\n",
       "      <th>Site_marker</th>\n",
       "      <th>TumourCellularity_WES</th>\n",
       "      <th>TumourCellularity_mRNA</th>\n",
       "      <th>mRNA_binary_TumourCellularity</th>\n",
       "    </tr>\n",
       "    <tr>\n",
       "      <th>Well</th>\n",
       "      <th></th>\n",
       "      <th></th>\n",
       "      <th></th>\n",
       "      <th></th>\n",
       "      <th></th>\n",
       "      <th></th>\n",
       "      <th></th>\n",
       "      <th></th>\n",
       "      <th></th>\n",
       "      <th></th>\n",
       "      <th></th>\n",
       "      <th></th>\n",
       "    </tr>\n",
       "  </thead>\n",
       "  <tbody>\n",
       "    <tr>\n",
       "      <th>A01</th>\n",
       "      <td>A01_3640_5_Omentum</td>\n",
       "      <td>case10_omentum_green</td>\n",
       "      <td>10</td>\n",
       "      <td>omentum</td>\n",
       "      <td>green</td>\n",
       "      <td>10.0</td>\n",
       "      <td>5</td>\n",
       "      <td>#ff7f00</td>\n",
       "      <td>^</td>\n",
       "      <td>0.5973</td>\n",
       "      <td>0.730147</td>\n",
       "      <td>Low</td>\n",
       "    </tr>\n",
       "    <tr>\n",
       "      <th>A02</th>\n",
       "      <td>A02_3640_7_Omentum</td>\n",
       "      <td>case10_omentum_blue</td>\n",
       "      <td>10</td>\n",
       "      <td>omentum</td>\n",
       "      <td>blue</td>\n",
       "      <td>10.0</td>\n",
       "      <td>7</td>\n",
       "      <td>#ff7f00</td>\n",
       "      <td>^</td>\n",
       "      <td>0.5065</td>\n",
       "      <td>0.673548</td>\n",
       "      <td>Low</td>\n",
       "    </tr>\n",
       "    <tr>\n",
       "      <th>A03</th>\n",
       "      <td>A03_3640_9_Paracolic_Gutter</td>\n",
       "      <td>case10_paracolic_yellow</td>\n",
       "      <td>10</td>\n",
       "      <td>other</td>\n",
       "      <td>yellow</td>\n",
       "      <td>10.0</td>\n",
       "      <td>8</td>\n",
       "      <td>#ff7f00</td>\n",
       "      <td>s</td>\n",
       "      <td>0.4551</td>\n",
       "      <td>0.664978</td>\n",
       "      <td>Low</td>\n",
       "    </tr>\n",
       "    <tr>\n",
       "      <th>A04</th>\n",
       "      <td>A04_3640_17_R_Adnexa</td>\n",
       "      <td>case10_Radnexa_yellow</td>\n",
       "      <td>10</td>\n",
       "      <td>ovary</td>\n",
       "      <td>yellow</td>\n",
       "      <td>10.0</td>\n",
       "      <td>17</td>\n",
       "      <td>#ff7f00</td>\n",
       "      <td>o</td>\n",
       "      <td>0.6496</td>\n",
       "      <td>0.833913</td>\n",
       "      <td>High</td>\n",
       "    </tr>\n",
       "    <tr>\n",
       "      <th>A05</th>\n",
       "      <td>A05_3640_18_R_Adnexa</td>\n",
       "      <td>case10_Radnexa_blue</td>\n",
       "      <td>10</td>\n",
       "      <td>ovary</td>\n",
       "      <td>blue</td>\n",
       "      <td>10.0</td>\n",
       "      <td>18</td>\n",
       "      <td>#ff7f00</td>\n",
       "      <td>o</td>\n",
       "      <td>0.6706</td>\n",
       "      <td>0.801248</td>\n",
       "      <td>High</td>\n",
       "    </tr>\n",
       "  </tbody>\n",
       "</table>\n",
       "</div>"
      ],
      "text/plain": [
       "                            Label                      Key  Case_mRNA  \\\n",
       "Well                                                                    \n",
       "A01            A01_3640_5_Omentum     case10_omentum_green         10   \n",
       "A02            A02_3640_7_Omentum      case10_omentum_blue         10   \n",
       "A03   A03_3640_9_Paracolic_Gutter  case10_paracolic_yellow         10   \n",
       "A04          A04_3640_17_R_Adnexa    case10_Radnexa_yellow         10   \n",
       "A05          A05_3640_18_R_Adnexa      case10_Radnexa_blue         10   \n",
       "\n",
       "         Site Habitat  Case_WES Tumour_WES   Colour Site_marker  \\\n",
       "Well                                                              \n",
       "A01   omentum   green      10.0          5  #ff7f00           ^   \n",
       "A02   omentum    blue      10.0          7  #ff7f00           ^   \n",
       "A03     other  yellow      10.0          8  #ff7f00           s   \n",
       "A04     ovary  yellow      10.0         17  #ff7f00           o   \n",
       "A05     ovary    blue      10.0         18  #ff7f00           o   \n",
       "\n",
       "      TumourCellularity_WES  TumourCellularity_mRNA  \\\n",
       "Well                                                  \n",
       "A01                  0.5973                0.730147   \n",
       "A02                  0.5065                0.673548   \n",
       "A03                  0.4551                0.664978   \n",
       "A04                  0.6496                0.833913   \n",
       "A05                  0.6706                0.801248   \n",
       "\n",
       "     mRNA_binary_TumourCellularity  \n",
       "Well                                \n",
       "A01                            Low  \n",
       "A02                            Low  \n",
       "A03                            Low  \n",
       "A04                           High  \n",
       "A05                           High  "
      ]
     },
     "execution_count": 33,
     "metadata": {},
     "output_type": "execute_result"
    }
   ],
   "source": [
    "sample_labels['mRNA_binary_TumourCellularity'] = (sample_labels['TumourCellularity_mRNA'] > sample_labels['TumourCellularity_mRNA'].median()).replace([True,False],['High','Low'])\n",
    "\n",
    "sample_labels.head()"
   ]
  },
  {
   "cell_type": "code",
   "execution_count": 35,
   "metadata": {},
   "outputs": [],
   "source": [
    "FILE = \"../../Data/1/TreatmentNaive_SampleLabels_WESTumourCellularity_mRNAtumourCellularity.txt\"\n",
    "\n",
    "sample_labels.to_csv(FILE, sep='\\t')"
   ]
  },
  {
   "cell_type": "markdown",
   "metadata": {},
   "source": [
    "# End script"
   ]
  }
 ],
 "metadata": {
  "kernelspec": {
   "display_name": "Python 3",
   "language": "python",
   "name": "python3"
  },
  "language_info": {
   "codemirror_mode": {
    "name": "ipython",
    "version": 3
   },
   "file_extension": ".py",
   "mimetype": "text/x-python",
   "name": "python",
   "nbconvert_exporter": "python",
   "pygments_lexer": "ipython3",
   "version": "3.6.8"
  }
 },
 "nbformat": 4,
 "nbformat_minor": 2
}

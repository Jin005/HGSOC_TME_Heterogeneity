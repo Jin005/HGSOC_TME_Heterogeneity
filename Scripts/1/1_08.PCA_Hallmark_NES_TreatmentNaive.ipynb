{
 "cells": [
  {
   "cell_type": "markdown",
   "metadata": {},
   "source": [
    "# Perform PCA of treatment naive samples hallmark NES"
   ]
  },
  {
   "cell_type": "markdown",
   "metadata": {},
   "source": [
    "Script related to figure 1d, e\n",
    "\n",
    "### Aim:\n",
    "- See how Hallmark NES cluster across patients"
   ]
  },
  {
   "cell_type": "code",
   "execution_count": 2,
   "metadata": {},
   "outputs": [
    {
     "name": "stdout",
     "output_type": "stream",
     "text": [
      "Python 3.6.8 :: Anaconda custom (64-bit)\r\n"
     ]
    }
   ],
   "source": [
    "!python --version"
   ]
  },
  {
   "cell_type": "markdown",
   "metadata": {},
   "source": [
    "## Import packages"
   ]
  },
  {
   "cell_type": "code",
   "execution_count": 3,
   "metadata": {},
   "outputs": [],
   "source": [
    "import numpy as np\n",
    "import pandas as pd\n",
    "import seaborn as sns\n",
    "import matplotlib.pyplot as plt\n",
    "from sklearn.decomposition import PCA"
   ]
  },
  {
   "cell_type": "code",
   "execution_count": 4,
   "metadata": {},
   "outputs": [],
   "source": [
    "home = \"~/git_repos/HGSOC_TME_Heterogeneity/\""
   ]
  },
  {
   "cell_type": "markdown",
   "metadata": {},
   "source": [
    "## Get sample labels"
   ]
  },
  {
   "cell_type": "markdown",
   "metadata": {},
   "source": [
    "### Load file"
   ]
  },
  {
   "cell_type": "code",
   "execution_count": 6,
   "metadata": {},
   "outputs": [],
   "source": [
    "file_keys = home + \"/Data/1/TreatmentNaive_SampleLabels_WESTumourCellularity.txt\"\n",
    "\n",
    "sample_labels = pd.read_csv(file_keys,\n",
    "                            sep='\\t',\n",
    "                            index_col='Well')"
   ]
  },
  {
   "cell_type": "code",
   "execution_count": 7,
   "metadata": {},
   "outputs": [
    {
     "data": {
      "text/html": [
       "<div>\n",
       "<style scoped>\n",
       "    .dataframe tbody tr th:only-of-type {\n",
       "        vertical-align: middle;\n",
       "    }\n",
       "\n",
       "    .dataframe tbody tr th {\n",
       "        vertical-align: top;\n",
       "    }\n",
       "\n",
       "    .dataframe thead th {\n",
       "        text-align: right;\n",
       "    }\n",
       "</style>\n",
       "<table border=\"1\" class=\"dataframe\">\n",
       "  <thead>\n",
       "    <tr style=\"text-align: right;\">\n",
       "      <th></th>\n",
       "      <th>Label</th>\n",
       "      <th>Key</th>\n",
       "      <th>Case_mRNA</th>\n",
       "      <th>Site</th>\n",
       "      <th>Habitat</th>\n",
       "      <th>Case_WES</th>\n",
       "      <th>Tumour_WES</th>\n",
       "      <th>Colour</th>\n",
       "      <th>Site_marker</th>\n",
       "      <th>TumourCellularity_WES</th>\n",
       "    </tr>\n",
       "    <tr>\n",
       "      <th>Well</th>\n",
       "      <th></th>\n",
       "      <th></th>\n",
       "      <th></th>\n",
       "      <th></th>\n",
       "      <th></th>\n",
       "      <th></th>\n",
       "      <th></th>\n",
       "      <th></th>\n",
       "      <th></th>\n",
       "      <th></th>\n",
       "    </tr>\n",
       "  </thead>\n",
       "  <tbody>\n",
       "    <tr>\n",
       "      <th>A01</th>\n",
       "      <td>A01_3640_5_Omentum</td>\n",
       "      <td>case10_omentum_green</td>\n",
       "      <td>10</td>\n",
       "      <td>omentum</td>\n",
       "      <td>green</td>\n",
       "      <td>10.0</td>\n",
       "      <td>5</td>\n",
       "      <td>#ff7f00</td>\n",
       "      <td>^</td>\n",
       "      <td>0.5973</td>\n",
       "    </tr>\n",
       "    <tr>\n",
       "      <th>A02</th>\n",
       "      <td>A02_3640_7_Omentum</td>\n",
       "      <td>case10_omentum_blue</td>\n",
       "      <td>10</td>\n",
       "      <td>omentum</td>\n",
       "      <td>blue</td>\n",
       "      <td>10.0</td>\n",
       "      <td>7</td>\n",
       "      <td>#ff7f00</td>\n",
       "      <td>^</td>\n",
       "      <td>0.5065</td>\n",
       "    </tr>\n",
       "    <tr>\n",
       "      <th>A03</th>\n",
       "      <td>A03_3640_9_Paracolic_Gutter</td>\n",
       "      <td>case10_paracolic_yellow</td>\n",
       "      <td>10</td>\n",
       "      <td>other</td>\n",
       "      <td>yellow</td>\n",
       "      <td>10.0</td>\n",
       "      <td>8</td>\n",
       "      <td>#ff7f00</td>\n",
       "      <td>s</td>\n",
       "      <td>0.4551</td>\n",
       "    </tr>\n",
       "    <tr>\n",
       "      <th>A04</th>\n",
       "      <td>A04_3640_17_R_Adnexa</td>\n",
       "      <td>case10_Radnexa_yellow</td>\n",
       "      <td>10</td>\n",
       "      <td>ovary</td>\n",
       "      <td>yellow</td>\n",
       "      <td>10.0</td>\n",
       "      <td>17</td>\n",
       "      <td>#ff7f00</td>\n",
       "      <td>o</td>\n",
       "      <td>0.6496</td>\n",
       "    </tr>\n",
       "    <tr>\n",
       "      <th>A05</th>\n",
       "      <td>A05_3640_18_R_Adnexa</td>\n",
       "      <td>case10_Radnexa_blue</td>\n",
       "      <td>10</td>\n",
       "      <td>ovary</td>\n",
       "      <td>blue</td>\n",
       "      <td>10.0</td>\n",
       "      <td>18</td>\n",
       "      <td>#ff7f00</td>\n",
       "      <td>o</td>\n",
       "      <td>0.6706</td>\n",
       "    </tr>\n",
       "  </tbody>\n",
       "</table>\n",
       "</div>"
      ],
      "text/plain": [
       "                            Label                      Key  Case_mRNA  \\\n",
       "Well                                                                    \n",
       "A01            A01_3640_5_Omentum     case10_omentum_green         10   \n",
       "A02            A02_3640_7_Omentum      case10_omentum_blue         10   \n",
       "A03   A03_3640_9_Paracolic_Gutter  case10_paracolic_yellow         10   \n",
       "A04          A04_3640_17_R_Adnexa    case10_Radnexa_yellow         10   \n",
       "A05          A05_3640_18_R_Adnexa      case10_Radnexa_blue         10   \n",
       "\n",
       "         Site Habitat  Case_WES Tumour_WES   Colour Site_marker  \\\n",
       "Well                                                              \n",
       "A01   omentum   green      10.0          5  #ff7f00           ^   \n",
       "A02   omentum    blue      10.0          7  #ff7f00           ^   \n",
       "A03     other  yellow      10.0          8  #ff7f00           s   \n",
       "A04     ovary  yellow      10.0         17  #ff7f00           o   \n",
       "A05     ovary    blue      10.0         18  #ff7f00           o   \n",
       "\n",
       "      TumourCellularity_WES  \n",
       "Well                         \n",
       "A01                  0.5973  \n",
       "A02                  0.5065  \n",
       "A03                  0.4551  \n",
       "A04                  0.6496  \n",
       "A05                  0.6706  "
      ]
     },
     "execution_count": 7,
     "metadata": {},
     "output_type": "execute_result"
    }
   ],
   "source": [
    "sample_labels.head()"
   ]
  },
  {
   "cell_type": "markdown",
   "metadata": {},
   "source": [
    "### Define sample colours"
   ]
  },
  {
   "cell_type": "code",
   "execution_count": 8,
   "metadata": {},
   "outputs": [],
   "source": [
    "case_mrna = list(set(sample_labels['Case_mRNA']))\n",
    "\n",
    "colours = sns.color_palette(\"Set1\", 8).as_hex()\n",
    "\n",
    "sample_labels['Colour'] = sample_labels['Case_mRNA'].replace(case_mrna, colours)"
   ]
  },
  {
   "cell_type": "markdown",
   "metadata": {},
   "source": [
    "### Define sample markers"
   ]
  },
  {
   "cell_type": "code",
   "execution_count": 9,
   "metadata": {},
   "outputs": [],
   "source": [
    "sites = ['ovary','omentum','other']\n",
    "markers = ['o','^','s']\n",
    "\n",
    "sample_labels['Site_marker'] = sample_labels['Site'].replace(sites,markers)"
   ]
  },
  {
   "cell_type": "code",
   "execution_count": 10,
   "metadata": {},
   "outputs": [
    {
     "data": {
      "text/html": [
       "<div>\n",
       "<style scoped>\n",
       "    .dataframe tbody tr th:only-of-type {\n",
       "        vertical-align: middle;\n",
       "    }\n",
       "\n",
       "    .dataframe tbody tr th {\n",
       "        vertical-align: top;\n",
       "    }\n",
       "\n",
       "    .dataframe thead th {\n",
       "        text-align: right;\n",
       "    }\n",
       "</style>\n",
       "<table border=\"1\" class=\"dataframe\">\n",
       "  <thead>\n",
       "    <tr style=\"text-align: right;\">\n",
       "      <th></th>\n",
       "      <th>Label</th>\n",
       "      <th>Key</th>\n",
       "      <th>Case_mRNA</th>\n",
       "      <th>Site</th>\n",
       "      <th>Habitat</th>\n",
       "      <th>Case_WES</th>\n",
       "      <th>Tumour_WES</th>\n",
       "      <th>Colour</th>\n",
       "      <th>Site_marker</th>\n",
       "      <th>TumourCellularity_WES</th>\n",
       "    </tr>\n",
       "    <tr>\n",
       "      <th>Well</th>\n",
       "      <th></th>\n",
       "      <th></th>\n",
       "      <th></th>\n",
       "      <th></th>\n",
       "      <th></th>\n",
       "      <th></th>\n",
       "      <th></th>\n",
       "      <th></th>\n",
       "      <th></th>\n",
       "      <th></th>\n",
       "    </tr>\n",
       "  </thead>\n",
       "  <tbody>\n",
       "    <tr>\n",
       "      <th>A01</th>\n",
       "      <td>A01_3640_5_Omentum</td>\n",
       "      <td>case10_omentum_green</td>\n",
       "      <td>10</td>\n",
       "      <td>omentum</td>\n",
       "      <td>green</td>\n",
       "      <td>10.0</td>\n",
       "      <td>5</td>\n",
       "      <td>#ff7f00</td>\n",
       "      <td>^</td>\n",
       "      <td>0.5973</td>\n",
       "    </tr>\n",
       "    <tr>\n",
       "      <th>A02</th>\n",
       "      <td>A02_3640_7_Omentum</td>\n",
       "      <td>case10_omentum_blue</td>\n",
       "      <td>10</td>\n",
       "      <td>omentum</td>\n",
       "      <td>blue</td>\n",
       "      <td>10.0</td>\n",
       "      <td>7</td>\n",
       "      <td>#ff7f00</td>\n",
       "      <td>^</td>\n",
       "      <td>0.5065</td>\n",
       "    </tr>\n",
       "    <tr>\n",
       "      <th>A03</th>\n",
       "      <td>A03_3640_9_Paracolic_Gutter</td>\n",
       "      <td>case10_paracolic_yellow</td>\n",
       "      <td>10</td>\n",
       "      <td>other</td>\n",
       "      <td>yellow</td>\n",
       "      <td>10.0</td>\n",
       "      <td>8</td>\n",
       "      <td>#ff7f00</td>\n",
       "      <td>s</td>\n",
       "      <td>0.4551</td>\n",
       "    </tr>\n",
       "    <tr>\n",
       "      <th>A04</th>\n",
       "      <td>A04_3640_17_R_Adnexa</td>\n",
       "      <td>case10_Radnexa_yellow</td>\n",
       "      <td>10</td>\n",
       "      <td>ovary</td>\n",
       "      <td>yellow</td>\n",
       "      <td>10.0</td>\n",
       "      <td>17</td>\n",
       "      <td>#ff7f00</td>\n",
       "      <td>o</td>\n",
       "      <td>0.6496</td>\n",
       "    </tr>\n",
       "    <tr>\n",
       "      <th>A05</th>\n",
       "      <td>A05_3640_18_R_Adnexa</td>\n",
       "      <td>case10_Radnexa_blue</td>\n",
       "      <td>10</td>\n",
       "      <td>ovary</td>\n",
       "      <td>blue</td>\n",
       "      <td>10.0</td>\n",
       "      <td>18</td>\n",
       "      <td>#ff7f00</td>\n",
       "      <td>o</td>\n",
       "      <td>0.6706</td>\n",
       "    </tr>\n",
       "  </tbody>\n",
       "</table>\n",
       "</div>"
      ],
      "text/plain": [
       "                            Label                      Key  Case_mRNA  \\\n",
       "Well                                                                    \n",
       "A01            A01_3640_5_Omentum     case10_omentum_green         10   \n",
       "A02            A02_3640_7_Omentum      case10_omentum_blue         10   \n",
       "A03   A03_3640_9_Paracolic_Gutter  case10_paracolic_yellow         10   \n",
       "A04          A04_3640_17_R_Adnexa    case10_Radnexa_yellow         10   \n",
       "A05          A05_3640_18_R_Adnexa      case10_Radnexa_blue         10   \n",
       "\n",
       "         Site Habitat  Case_WES Tumour_WES   Colour Site_marker  \\\n",
       "Well                                                              \n",
       "A01   omentum   green      10.0          5  #ff7f00           ^   \n",
       "A02   omentum    blue      10.0          7  #ff7f00           ^   \n",
       "A03     other  yellow      10.0          8  #ff7f00           s   \n",
       "A04     ovary  yellow      10.0         17  #ff7f00           o   \n",
       "A05     ovary    blue      10.0         18  #ff7f00           o   \n",
       "\n",
       "      TumourCellularity_WES  \n",
       "Well                         \n",
       "A01                  0.5973  \n",
       "A02                  0.5065  \n",
       "A03                  0.4551  \n",
       "A04                  0.6496  \n",
       "A05                  0.6706  "
      ]
     },
     "execution_count": 10,
     "metadata": {},
     "output_type": "execute_result"
    }
   ],
   "source": [
    "sample_labels.head()"
   ]
  },
  {
   "cell_type": "markdown",
   "metadata": {},
   "source": [
    "## Load ssGSEA results"
   ]
  },
  {
   "cell_type": "code",
   "execution_count": 11,
   "metadata": {},
   "outputs": [],
   "source": [
    "file_nes = home + \"/Data/1/HallmarksStromaImmune_NES.txt\"\n",
    "\n",
    "data_nes = pd.read_csv(file_nes,\n",
    "                       sep='\\t')\n",
    "\n",
    "data_nes.set_index('Term',\n",
    "                   inplace=True)"
   ]
  },
  {
   "cell_type": "code",
   "execution_count": 12,
   "metadata": {},
   "outputs": [
    {
     "data": {
      "text/html": [
       "<div>\n",
       "<style scoped>\n",
       "    .dataframe tbody tr th:only-of-type {\n",
       "        vertical-align: middle;\n",
       "    }\n",
       "\n",
       "    .dataframe tbody tr th {\n",
       "        vertical-align: top;\n",
       "    }\n",
       "\n",
       "    .dataframe thead th {\n",
       "        text-align: right;\n",
       "    }\n",
       "</style>\n",
       "<table border=\"1\" class=\"dataframe\">\n",
       "  <thead>\n",
       "    <tr style=\"text-align: right;\">\n",
       "      <th></th>\n",
       "      <th>A01</th>\n",
       "      <th>A02</th>\n",
       "      <th>A03</th>\n",
       "      <th>A04</th>\n",
       "      <th>A05</th>\n",
       "      <th>A06</th>\n",
       "      <th>A07</th>\n",
       "      <th>A08</th>\n",
       "      <th>A09</th>\n",
       "      <th>A10</th>\n",
       "      <th>...</th>\n",
       "      <th>C06</th>\n",
       "      <th>C07</th>\n",
       "      <th>C08</th>\n",
       "      <th>C09</th>\n",
       "      <th>C10</th>\n",
       "      <th>C11</th>\n",
       "      <th>C12</th>\n",
       "      <th>D01</th>\n",
       "      <th>D02</th>\n",
       "      <th>D03</th>\n",
       "    </tr>\n",
       "    <tr>\n",
       "      <th>Term</th>\n",
       "      <th></th>\n",
       "      <th></th>\n",
       "      <th></th>\n",
       "      <th></th>\n",
       "      <th></th>\n",
       "      <th></th>\n",
       "      <th></th>\n",
       "      <th></th>\n",
       "      <th></th>\n",
       "      <th></th>\n",
       "      <th></th>\n",
       "      <th></th>\n",
       "      <th></th>\n",
       "      <th></th>\n",
       "      <th></th>\n",
       "      <th></th>\n",
       "      <th></th>\n",
       "      <th></th>\n",
       "      <th></th>\n",
       "      <th></th>\n",
       "      <th></th>\n",
       "    </tr>\n",
       "  </thead>\n",
       "  <tbody>\n",
       "    <tr>\n",
       "      <th>HALLMARK_TNFA_SIGNALING_VIA_NFKB</th>\n",
       "      <td>0.136576</td>\n",
       "      <td>0.162253</td>\n",
       "      <td>0.167945</td>\n",
       "      <td>0.165872</td>\n",
       "      <td>0.108271</td>\n",
       "      <td>0.103383</td>\n",
       "      <td>0.068362</td>\n",
       "      <td>0.070162</td>\n",
       "      <td>0.111527</td>\n",
       "      <td>0.099024</td>\n",
       "      <td>...</td>\n",
       "      <td>0.128145</td>\n",
       "      <td>0.259154</td>\n",
       "      <td>0.215689</td>\n",
       "      <td>0.112651</td>\n",
       "      <td>0.200294</td>\n",
       "      <td>0.241995</td>\n",
       "      <td>0.191432</td>\n",
       "      <td>0.194714</td>\n",
       "      <td>0.189336</td>\n",
       "      <td>0.069653</td>\n",
       "    </tr>\n",
       "    <tr>\n",
       "      <th>HALLMARK_HYPOXIA</th>\n",
       "      <td>0.177768</td>\n",
       "      <td>0.218287</td>\n",
       "      <td>0.206637</td>\n",
       "      <td>0.228075</td>\n",
       "      <td>0.213340</td>\n",
       "      <td>0.195107</td>\n",
       "      <td>0.184773</td>\n",
       "      <td>0.176688</td>\n",
       "      <td>0.208509</td>\n",
       "      <td>0.224903</td>\n",
       "      <td>...</td>\n",
       "      <td>0.232953</td>\n",
       "      <td>0.285186</td>\n",
       "      <td>0.258845</td>\n",
       "      <td>0.242334</td>\n",
       "      <td>0.280114</td>\n",
       "      <td>0.263157</td>\n",
       "      <td>0.261287</td>\n",
       "      <td>0.254170</td>\n",
       "      <td>0.255099</td>\n",
       "      <td>0.170139</td>\n",
       "    </tr>\n",
       "    <tr>\n",
       "      <th>HALLMARK_CHOLESTEROL_HOMEOSTASIS</th>\n",
       "      <td>0.291056</td>\n",
       "      <td>0.307171</td>\n",
       "      <td>0.304042</td>\n",
       "      <td>0.302902</td>\n",
       "      <td>0.291291</td>\n",
       "      <td>0.302667</td>\n",
       "      <td>0.250307</td>\n",
       "      <td>0.307460</td>\n",
       "      <td>0.336655</td>\n",
       "      <td>0.289155</td>\n",
       "      <td>...</td>\n",
       "      <td>0.297822</td>\n",
       "      <td>0.311574</td>\n",
       "      <td>0.314954</td>\n",
       "      <td>0.327364</td>\n",
       "      <td>0.357201</td>\n",
       "      <td>0.325969</td>\n",
       "      <td>0.328308</td>\n",
       "      <td>0.310308</td>\n",
       "      <td>0.333764</td>\n",
       "      <td>0.306016</td>\n",
       "    </tr>\n",
       "    <tr>\n",
       "      <th>HALLMARK_MITOTIC_SPINDLE</th>\n",
       "      <td>0.291324</td>\n",
       "      <td>0.341755</td>\n",
       "      <td>0.332683</td>\n",
       "      <td>0.358085</td>\n",
       "      <td>0.319437</td>\n",
       "      <td>0.350527</td>\n",
       "      <td>0.438601</td>\n",
       "      <td>0.359659</td>\n",
       "      <td>0.365710</td>\n",
       "      <td>0.397053</td>\n",
       "      <td>...</td>\n",
       "      <td>0.347654</td>\n",
       "      <td>0.339620</td>\n",
       "      <td>0.356477</td>\n",
       "      <td>0.354890</td>\n",
       "      <td>0.399129</td>\n",
       "      <td>0.355274</td>\n",
       "      <td>0.337599</td>\n",
       "      <td>0.329370</td>\n",
       "      <td>0.332419</td>\n",
       "      <td>0.311622</td>\n",
       "    </tr>\n",
       "    <tr>\n",
       "      <th>HALLMARK_WNT_BETA_CATENIN_SIGNALING</th>\n",
       "      <td>0.151231</td>\n",
       "      <td>0.184140</td>\n",
       "      <td>0.186732</td>\n",
       "      <td>0.263275</td>\n",
       "      <td>0.215427</td>\n",
       "      <td>0.224450</td>\n",
       "      <td>0.246089</td>\n",
       "      <td>0.243030</td>\n",
       "      <td>0.228552</td>\n",
       "      <td>0.258536</td>\n",
       "      <td>...</td>\n",
       "      <td>0.126257</td>\n",
       "      <td>0.189395</td>\n",
       "      <td>0.180498</td>\n",
       "      <td>0.166626</td>\n",
       "      <td>0.236770</td>\n",
       "      <td>0.185633</td>\n",
       "      <td>0.147549</td>\n",
       "      <td>0.142399</td>\n",
       "      <td>0.126891</td>\n",
       "      <td>0.110339</td>\n",
       "    </tr>\n",
       "  </tbody>\n",
       "</table>\n",
       "<p>5 rows × 38 columns</p>\n",
       "</div>"
      ],
      "text/plain": [
       "                                          A01       A02       A03       A04  \\\n",
       "Term                                                                          \n",
       "HALLMARK_TNFA_SIGNALING_VIA_NFKB     0.136576  0.162253  0.167945  0.165872   \n",
       "HALLMARK_HYPOXIA                     0.177768  0.218287  0.206637  0.228075   \n",
       "HALLMARK_CHOLESTEROL_HOMEOSTASIS     0.291056  0.307171  0.304042  0.302902   \n",
       "HALLMARK_MITOTIC_SPINDLE             0.291324  0.341755  0.332683  0.358085   \n",
       "HALLMARK_WNT_BETA_CATENIN_SIGNALING  0.151231  0.184140  0.186732  0.263275   \n",
       "\n",
       "                                          A05       A06       A07       A08  \\\n",
       "Term                                                                          \n",
       "HALLMARK_TNFA_SIGNALING_VIA_NFKB     0.108271  0.103383  0.068362  0.070162   \n",
       "HALLMARK_HYPOXIA                     0.213340  0.195107  0.184773  0.176688   \n",
       "HALLMARK_CHOLESTEROL_HOMEOSTASIS     0.291291  0.302667  0.250307  0.307460   \n",
       "HALLMARK_MITOTIC_SPINDLE             0.319437  0.350527  0.438601  0.359659   \n",
       "HALLMARK_WNT_BETA_CATENIN_SIGNALING  0.215427  0.224450  0.246089  0.243030   \n",
       "\n",
       "                                          A09       A10  ...       C06  \\\n",
       "Term                                                     ...             \n",
       "HALLMARK_TNFA_SIGNALING_VIA_NFKB     0.111527  0.099024  ...  0.128145   \n",
       "HALLMARK_HYPOXIA                     0.208509  0.224903  ...  0.232953   \n",
       "HALLMARK_CHOLESTEROL_HOMEOSTASIS     0.336655  0.289155  ...  0.297822   \n",
       "HALLMARK_MITOTIC_SPINDLE             0.365710  0.397053  ...  0.347654   \n",
       "HALLMARK_WNT_BETA_CATENIN_SIGNALING  0.228552  0.258536  ...  0.126257   \n",
       "\n",
       "                                          C07       C08       C09       C10  \\\n",
       "Term                                                                          \n",
       "HALLMARK_TNFA_SIGNALING_VIA_NFKB     0.259154  0.215689  0.112651  0.200294   \n",
       "HALLMARK_HYPOXIA                     0.285186  0.258845  0.242334  0.280114   \n",
       "HALLMARK_CHOLESTEROL_HOMEOSTASIS     0.311574  0.314954  0.327364  0.357201   \n",
       "HALLMARK_MITOTIC_SPINDLE             0.339620  0.356477  0.354890  0.399129   \n",
       "HALLMARK_WNT_BETA_CATENIN_SIGNALING  0.189395  0.180498  0.166626  0.236770   \n",
       "\n",
       "                                          C11       C12       D01       D02  \\\n",
       "Term                                                                          \n",
       "HALLMARK_TNFA_SIGNALING_VIA_NFKB     0.241995  0.191432  0.194714  0.189336   \n",
       "HALLMARK_HYPOXIA                     0.263157  0.261287  0.254170  0.255099   \n",
       "HALLMARK_CHOLESTEROL_HOMEOSTASIS     0.325969  0.328308  0.310308  0.333764   \n",
       "HALLMARK_MITOTIC_SPINDLE             0.355274  0.337599  0.329370  0.332419   \n",
       "HALLMARK_WNT_BETA_CATENIN_SIGNALING  0.185633  0.147549  0.142399  0.126891   \n",
       "\n",
       "                                          D03  \n",
       "Term                                           \n",
       "HALLMARK_TNFA_SIGNALING_VIA_NFKB     0.069653  \n",
       "HALLMARK_HYPOXIA                     0.170139  \n",
       "HALLMARK_CHOLESTEROL_HOMEOSTASIS     0.306016  \n",
       "HALLMARK_MITOTIC_SPINDLE             0.311622  \n",
       "HALLMARK_WNT_BETA_CATENIN_SIGNALING  0.110339  \n",
       "\n",
       "[5 rows x 38 columns]"
      ]
     },
     "execution_count": 12,
     "metadata": {},
     "output_type": "execute_result"
    }
   ],
   "source": [
    "data_nes.head()"
   ]
  },
  {
   "cell_type": "markdown",
   "metadata": {},
   "source": [
    "### Check empty cells"
   ]
  },
  {
   "cell_type": "code",
   "execution_count": 13,
   "metadata": {},
   "outputs": [
    {
     "data": {
      "text/plain": [
       "{0}"
      ]
     },
     "execution_count": 13,
     "metadata": {},
     "output_type": "execute_result"
    }
   ],
   "source": [
    "set(data_nes.isnull().sum())"
   ]
  },
  {
   "cell_type": "markdown",
   "metadata": {},
   "source": [
    "## Load mRNA tumour cellularity data"
   ]
  },
  {
   "cell_type": "code",
   "execution_count": 15,
   "metadata": {},
   "outputs": [],
   "source": [
    "mRNA_tumcell_file = home + \"/Data/1/TreatmentNaive_log2exp_loess_norm_filtered_ESTIMATE.txt\"\n",
    "\n",
    "mRNA_tumcell = pd.read_csv(mRNA_tumcell_file,\n",
    "                           skiprows=2,\n",
    "                           sep='\\t',\n",
    "                           index_col='NAME')\n",
    "\n",
    "del(mRNA_tumcell['Description'])"
   ]
  },
  {
   "cell_type": "code",
   "execution_count": 16,
   "metadata": {},
   "outputs": [
    {
     "data": {
      "text/html": [
       "<div>\n",
       "<style scoped>\n",
       "    .dataframe tbody tr th:only-of-type {\n",
       "        vertical-align: middle;\n",
       "    }\n",
       "\n",
       "    .dataframe tbody tr th {\n",
       "        vertical-align: top;\n",
       "    }\n",
       "\n",
       "    .dataframe thead th {\n",
       "        text-align: right;\n",
       "    }\n",
       "</style>\n",
       "<table border=\"1\" class=\"dataframe\">\n",
       "  <thead>\n",
       "    <tr style=\"text-align: right;\">\n",
       "      <th></th>\n",
       "      <th>A01</th>\n",
       "      <th>A02</th>\n",
       "      <th>A03</th>\n",
       "      <th>A04</th>\n",
       "      <th>A05</th>\n",
       "      <th>A06</th>\n",
       "      <th>A07</th>\n",
       "      <th>A08</th>\n",
       "      <th>A09</th>\n",
       "      <th>A10</th>\n",
       "      <th>...</th>\n",
       "      <th>C06</th>\n",
       "      <th>C07</th>\n",
       "      <th>C08</th>\n",
       "      <th>C09</th>\n",
       "      <th>C10</th>\n",
       "      <th>C11</th>\n",
       "      <th>C12</th>\n",
       "      <th>D01</th>\n",
       "      <th>D02</th>\n",
       "      <th>D03</th>\n",
       "    </tr>\n",
       "    <tr>\n",
       "      <th>NAME</th>\n",
       "      <th></th>\n",
       "      <th></th>\n",
       "      <th></th>\n",
       "      <th></th>\n",
       "      <th></th>\n",
       "      <th></th>\n",
       "      <th></th>\n",
       "      <th></th>\n",
       "      <th></th>\n",
       "      <th></th>\n",
       "      <th></th>\n",
       "      <th></th>\n",
       "      <th></th>\n",
       "      <th></th>\n",
       "      <th></th>\n",
       "      <th></th>\n",
       "      <th></th>\n",
       "      <th></th>\n",
       "      <th></th>\n",
       "      <th></th>\n",
       "      <th></th>\n",
       "    </tr>\n",
       "  </thead>\n",
       "  <tbody>\n",
       "    <tr>\n",
       "      <th>StromalScore</th>\n",
       "      <td>213.898183</td>\n",
       "      <td>441.185072</td>\n",
       "      <td>627.161634</td>\n",
       "      <td>-257.879171</td>\n",
       "      <td>-105.932457</td>\n",
       "      <td>-179.742309</td>\n",
       "      <td>-667.871861</td>\n",
       "      <td>-554.187271</td>\n",
       "      <td>-467.547274</td>\n",
       "      <td>-424.048973</td>\n",
       "      <td>...</td>\n",
       "      <td>276.215651</td>\n",
       "      <td>819.700176</td>\n",
       "      <td>542.094611</td>\n",
       "      <td>446.049523</td>\n",
       "      <td>100.214812</td>\n",
       "      <td>640.683420</td>\n",
       "      <td>1028.302292</td>\n",
       "      <td>631.494907</td>\n",
       "      <td>843.594952</td>\n",
       "      <td>-393.705822</td>\n",
       "    </tr>\n",
       "    <tr>\n",
       "      <th>ImmuneScore</th>\n",
       "      <td>789.397143</td>\n",
       "      <td>1103.963967</td>\n",
       "      <td>996.569838</td>\n",
       "      <td>119.238243</td>\n",
       "      <td>354.124225</td>\n",
       "      <td>197.378769</td>\n",
       "      <td>-395.243536</td>\n",
       "      <td>-16.422432</td>\n",
       "      <td>-469.452988</td>\n",
       "      <td>-563.011739</td>\n",
       "      <td>...</td>\n",
       "      <td>-18.442529</td>\n",
       "      <td>526.734281</td>\n",
       "      <td>-25.089182</td>\n",
       "      <td>238.412959</td>\n",
       "      <td>-60.730519</td>\n",
       "      <td>890.081437</td>\n",
       "      <td>776.296638</td>\n",
       "      <td>680.327079</td>\n",
       "      <td>892.726571</td>\n",
       "      <td>-226.504212</td>\n",
       "    </tr>\n",
       "    <tr>\n",
       "      <th>ESTIMATEScore</th>\n",
       "      <td>1003.295326</td>\n",
       "      <td>1545.149039</td>\n",
       "      <td>1623.731472</td>\n",
       "      <td>-138.640928</td>\n",
       "      <td>248.191767</td>\n",
       "      <td>17.636459</td>\n",
       "      <td>-1063.115397</td>\n",
       "      <td>-570.609703</td>\n",
       "      <td>-937.000262</td>\n",
       "      <td>-987.060713</td>\n",
       "      <td>...</td>\n",
       "      <td>257.773122</td>\n",
       "      <td>1346.434456</td>\n",
       "      <td>517.005428</td>\n",
       "      <td>684.462482</td>\n",
       "      <td>39.484294</td>\n",
       "      <td>1530.764858</td>\n",
       "      <td>1804.598930</td>\n",
       "      <td>1311.821985</td>\n",
       "      <td>1736.321523</td>\n",
       "      <td>-620.210034</td>\n",
       "    </tr>\n",
       "    <tr>\n",
       "      <th>TumorPurity</th>\n",
       "      <td>0.730147</td>\n",
       "      <td>0.673548</td>\n",
       "      <td>0.664978</td>\n",
       "      <td>0.833913</td>\n",
       "      <td>0.801248</td>\n",
       "      <td>0.821034</td>\n",
       "      <td>0.900910</td>\n",
       "      <td>0.867208</td>\n",
       "      <td>0.892722</td>\n",
       "      <td>0.896009</td>\n",
       "      <td>...</td>\n",
       "      <td>0.800405</td>\n",
       "      <td>0.694819</td>\n",
       "      <td>0.777021</td>\n",
       "      <td>0.761314</td>\n",
       "      <td>0.819199</td>\n",
       "      <td>0.675108</td>\n",
       "      <td>0.644917</td>\n",
       "      <td>0.698464</td>\n",
       "      <td>0.652544</td>\n",
       "      <td>0.870811</td>\n",
       "    </tr>\n",
       "  </tbody>\n",
       "</table>\n",
       "<p>4 rows × 38 columns</p>\n",
       "</div>"
      ],
      "text/plain": [
       "                       A01          A02          A03         A04         A05  \\\n",
       "NAME                                                                           \n",
       "StromalScore    213.898183   441.185072   627.161634 -257.879171 -105.932457   \n",
       "ImmuneScore     789.397143  1103.963967   996.569838  119.238243  354.124225   \n",
       "ESTIMATEScore  1003.295326  1545.149039  1623.731472 -138.640928  248.191767   \n",
       "TumorPurity       0.730147     0.673548     0.664978    0.833913    0.801248   \n",
       "\n",
       "                      A06          A07         A08         A09         A10  \\\n",
       "NAME                                                                         \n",
       "StromalScore  -179.742309  -667.871861 -554.187271 -467.547274 -424.048973   \n",
       "ImmuneScore    197.378769  -395.243536  -16.422432 -469.452988 -563.011739   \n",
       "ESTIMATEScore   17.636459 -1063.115397 -570.609703 -937.000262 -987.060713   \n",
       "TumorPurity      0.821034     0.900910    0.867208    0.892722    0.896009   \n",
       "\n",
       "               ...         C06          C07         C08         C09  \\\n",
       "NAME           ...                                                    \n",
       "StromalScore   ...  276.215651   819.700176  542.094611  446.049523   \n",
       "ImmuneScore    ...  -18.442529   526.734281  -25.089182  238.412959   \n",
       "ESTIMATEScore  ...  257.773122  1346.434456  517.005428  684.462482   \n",
       "TumorPurity    ...    0.800405     0.694819    0.777021    0.761314   \n",
       "\n",
       "                      C10          C11          C12          D01          D02  \\\n",
       "NAME                                                                            \n",
       "StromalScore   100.214812   640.683420  1028.302292   631.494907   843.594952   \n",
       "ImmuneScore    -60.730519   890.081437   776.296638   680.327079   892.726571   \n",
       "ESTIMATEScore   39.484294  1530.764858  1804.598930  1311.821985  1736.321523   \n",
       "TumorPurity      0.819199     0.675108     0.644917     0.698464     0.652544   \n",
       "\n",
       "                      D03  \n",
       "NAME                       \n",
       "StromalScore  -393.705822  \n",
       "ImmuneScore   -226.504212  \n",
       "ESTIMATEScore -620.210034  \n",
       "TumorPurity      0.870811  \n",
       "\n",
       "[4 rows x 38 columns]"
      ]
     },
     "execution_count": 16,
     "metadata": {},
     "output_type": "execute_result"
    }
   ],
   "source": [
    "mRNA_tumcell.head()"
   ]
  },
  {
   "cell_type": "markdown",
   "metadata": {},
   "source": [
    "### Add mRNA tumour cellularity to NES dataframe"
   ]
  },
  {
   "cell_type": "code",
   "execution_count": 17,
   "metadata": {},
   "outputs": [],
   "source": [
    "data_nes_t = data_nes.T "
   ]
  },
  {
   "cell_type": "markdown",
   "metadata": {},
   "source": [
    "#### Multiply tumour cellularity times a small number to reduce it's impact in the PCA"
   ]
  },
  {
   "cell_type": "code",
   "execution_count": 18,
   "metadata": {},
   "outputs": [],
   "source": [
    "data_nes_t['TumourCellularity_mRNA'] = mRNA_tumcell.loc['TumorPurity'] * 0.0001"
   ]
  },
  {
   "cell_type": "code",
   "execution_count": 19,
   "metadata": {},
   "outputs": [],
   "source": [
    "data_nes = data_nes_t.T"
   ]
  },
  {
   "cell_type": "code",
   "execution_count": 20,
   "metadata": {},
   "outputs": [
    {
     "data": {
      "text/html": [
       "<div>\n",
       "<style scoped>\n",
       "    .dataframe tbody tr th:only-of-type {\n",
       "        vertical-align: middle;\n",
       "    }\n",
       "\n",
       "    .dataframe tbody tr th {\n",
       "        vertical-align: top;\n",
       "    }\n",
       "\n",
       "    .dataframe thead th {\n",
       "        text-align: right;\n",
       "    }\n",
       "</style>\n",
       "<table border=\"1\" class=\"dataframe\">\n",
       "  <thead>\n",
       "    <tr style=\"text-align: right;\">\n",
       "      <th></th>\n",
       "      <th>A01</th>\n",
       "      <th>A02</th>\n",
       "      <th>A03</th>\n",
       "      <th>A04</th>\n",
       "      <th>A05</th>\n",
       "      <th>A06</th>\n",
       "      <th>A07</th>\n",
       "      <th>A08</th>\n",
       "      <th>A09</th>\n",
       "      <th>A10</th>\n",
       "      <th>...</th>\n",
       "      <th>C06</th>\n",
       "      <th>C07</th>\n",
       "      <th>C08</th>\n",
       "      <th>C09</th>\n",
       "      <th>C10</th>\n",
       "      <th>C11</th>\n",
       "      <th>C12</th>\n",
       "      <th>D01</th>\n",
       "      <th>D02</th>\n",
       "      <th>D03</th>\n",
       "    </tr>\n",
       "    <tr>\n",
       "      <th>Term</th>\n",
       "      <th></th>\n",
       "      <th></th>\n",
       "      <th></th>\n",
       "      <th></th>\n",
       "      <th></th>\n",
       "      <th></th>\n",
       "      <th></th>\n",
       "      <th></th>\n",
       "      <th></th>\n",
       "      <th></th>\n",
       "      <th></th>\n",
       "      <th></th>\n",
       "      <th></th>\n",
       "      <th></th>\n",
       "      <th></th>\n",
       "      <th></th>\n",
       "      <th></th>\n",
       "      <th></th>\n",
       "      <th></th>\n",
       "      <th></th>\n",
       "      <th></th>\n",
       "    </tr>\n",
       "  </thead>\n",
       "  <tbody>\n",
       "    <tr>\n",
       "      <th>HALLMARK_KRAS_SIGNALING_DN</th>\n",
       "      <td>-0.240767</td>\n",
       "      <td>-0.274158</td>\n",
       "      <td>-0.231857</td>\n",
       "      <td>-0.240881</td>\n",
       "      <td>-0.228270</td>\n",
       "      <td>-0.240445</td>\n",
       "      <td>-0.196578</td>\n",
       "      <td>-0.239584</td>\n",
       "      <td>-0.238470</td>\n",
       "      <td>-0.236185</td>\n",
       "      <td>...</td>\n",
       "      <td>-0.242543</td>\n",
       "      <td>-0.231446</td>\n",
       "      <td>-0.232364</td>\n",
       "      <td>-0.218667</td>\n",
       "      <td>-0.252284</td>\n",
       "      <td>-0.214025</td>\n",
       "      <td>-0.224493</td>\n",
       "      <td>-0.195860</td>\n",
       "      <td>-0.218489</td>\n",
       "      <td>-0.198529</td>\n",
       "    </tr>\n",
       "    <tr>\n",
       "      <th>HALLMARK_PANCREAS_BETA_CELLS</th>\n",
       "      <td>-0.170571</td>\n",
       "      <td>-0.158940</td>\n",
       "      <td>-0.230501</td>\n",
       "      <td>-0.147195</td>\n",
       "      <td>-0.209698</td>\n",
       "      <td>-0.166047</td>\n",
       "      <td>-0.163780</td>\n",
       "      <td>-0.171125</td>\n",
       "      <td>-0.128802</td>\n",
       "      <td>-0.200665</td>\n",
       "      <td>...</td>\n",
       "      <td>-0.181282</td>\n",
       "      <td>-0.161556</td>\n",
       "      <td>-0.172433</td>\n",
       "      <td>-0.101169</td>\n",
       "      <td>-0.136589</td>\n",
       "      <td>-0.175828</td>\n",
       "      <td>-0.131121</td>\n",
       "      <td>-0.125134</td>\n",
       "      <td>-0.137935</td>\n",
       "      <td>-0.160385</td>\n",
       "    </tr>\n",
       "    <tr>\n",
       "      <th>StromalSignature</th>\n",
       "      <td>0.087415</td>\n",
       "      <td>0.136906</td>\n",
       "      <td>0.166492</td>\n",
       "      <td>0.010237</td>\n",
       "      <td>0.034615</td>\n",
       "      <td>0.021982</td>\n",
       "      <td>-0.067309</td>\n",
       "      <td>-0.046947</td>\n",
       "      <td>-0.026127</td>\n",
       "      <td>-0.022315</td>\n",
       "      <td>...</td>\n",
       "      <td>0.109234</td>\n",
       "      <td>0.203958</td>\n",
       "      <td>0.155354</td>\n",
       "      <td>0.134444</td>\n",
       "      <td>0.076000</td>\n",
       "      <td>0.175493</td>\n",
       "      <td>0.250390</td>\n",
       "      <td>0.172685</td>\n",
       "      <td>0.212197</td>\n",
       "      <td>-0.014386</td>\n",
       "    </tr>\n",
       "    <tr>\n",
       "      <th>ImmuneSignature</th>\n",
       "      <td>0.192483</td>\n",
       "      <td>0.256464</td>\n",
       "      <td>0.230664</td>\n",
       "      <td>0.080746</td>\n",
       "      <td>0.117609</td>\n",
       "      <td>0.089100</td>\n",
       "      <td>-0.014748</td>\n",
       "      <td>0.049217</td>\n",
       "      <td>-0.023908</td>\n",
       "      <td>-0.045061</td>\n",
       "      <td>...</td>\n",
       "      <td>0.053588</td>\n",
       "      <td>0.152762</td>\n",
       "      <td>0.052564</td>\n",
       "      <td>0.097643</td>\n",
       "      <td>0.051716</td>\n",
       "      <td>0.220956</td>\n",
       "      <td>0.205281</td>\n",
       "      <td>0.183085</td>\n",
       "      <td>0.224095</td>\n",
       "      <td>0.012900</td>\n",
       "    </tr>\n",
       "    <tr>\n",
       "      <th>TumourCellularity_mRNA</th>\n",
       "      <td>0.000073</td>\n",
       "      <td>0.000067</td>\n",
       "      <td>0.000066</td>\n",
       "      <td>0.000083</td>\n",
       "      <td>0.000080</td>\n",
       "      <td>0.000082</td>\n",
       "      <td>0.000090</td>\n",
       "      <td>0.000087</td>\n",
       "      <td>0.000089</td>\n",
       "      <td>0.000090</td>\n",
       "      <td>...</td>\n",
       "      <td>0.000080</td>\n",
       "      <td>0.000069</td>\n",
       "      <td>0.000078</td>\n",
       "      <td>0.000076</td>\n",
       "      <td>0.000082</td>\n",
       "      <td>0.000068</td>\n",
       "      <td>0.000064</td>\n",
       "      <td>0.000070</td>\n",
       "      <td>0.000065</td>\n",
       "      <td>0.000087</td>\n",
       "    </tr>\n",
       "  </tbody>\n",
       "</table>\n",
       "<p>5 rows × 38 columns</p>\n",
       "</div>"
      ],
      "text/plain": [
       "                                   A01       A02       A03       A04  \\\n",
       "Term                                                                   \n",
       "HALLMARK_KRAS_SIGNALING_DN   -0.240767 -0.274158 -0.231857 -0.240881   \n",
       "HALLMARK_PANCREAS_BETA_CELLS -0.170571 -0.158940 -0.230501 -0.147195   \n",
       "StromalSignature              0.087415  0.136906  0.166492  0.010237   \n",
       "ImmuneSignature               0.192483  0.256464  0.230664  0.080746   \n",
       "TumourCellularity_mRNA        0.000073  0.000067  0.000066  0.000083   \n",
       "\n",
       "                                   A05       A06       A07       A08  \\\n",
       "Term                                                                   \n",
       "HALLMARK_KRAS_SIGNALING_DN   -0.228270 -0.240445 -0.196578 -0.239584   \n",
       "HALLMARK_PANCREAS_BETA_CELLS -0.209698 -0.166047 -0.163780 -0.171125   \n",
       "StromalSignature              0.034615  0.021982 -0.067309 -0.046947   \n",
       "ImmuneSignature               0.117609  0.089100 -0.014748  0.049217   \n",
       "TumourCellularity_mRNA        0.000080  0.000082  0.000090  0.000087   \n",
       "\n",
       "                                   A09       A10  ...       C06       C07  \\\n",
       "Term                                              ...                       \n",
       "HALLMARK_KRAS_SIGNALING_DN   -0.238470 -0.236185  ... -0.242543 -0.231446   \n",
       "HALLMARK_PANCREAS_BETA_CELLS -0.128802 -0.200665  ... -0.181282 -0.161556   \n",
       "StromalSignature             -0.026127 -0.022315  ...  0.109234  0.203958   \n",
       "ImmuneSignature              -0.023908 -0.045061  ...  0.053588  0.152762   \n",
       "TumourCellularity_mRNA        0.000089  0.000090  ...  0.000080  0.000069   \n",
       "\n",
       "                                   C08       C09       C10       C11  \\\n",
       "Term                                                                   \n",
       "HALLMARK_KRAS_SIGNALING_DN   -0.232364 -0.218667 -0.252284 -0.214025   \n",
       "HALLMARK_PANCREAS_BETA_CELLS -0.172433 -0.101169 -0.136589 -0.175828   \n",
       "StromalSignature              0.155354  0.134444  0.076000  0.175493   \n",
       "ImmuneSignature               0.052564  0.097643  0.051716  0.220956   \n",
       "TumourCellularity_mRNA        0.000078  0.000076  0.000082  0.000068   \n",
       "\n",
       "                                   C12       D01       D02       D03  \n",
       "Term                                                                  \n",
       "HALLMARK_KRAS_SIGNALING_DN   -0.224493 -0.195860 -0.218489 -0.198529  \n",
       "HALLMARK_PANCREAS_BETA_CELLS -0.131121 -0.125134 -0.137935 -0.160385  \n",
       "StromalSignature              0.250390  0.172685  0.212197 -0.014386  \n",
       "ImmuneSignature               0.205281  0.183085  0.224095  0.012900  \n",
       "TumourCellularity_mRNA        0.000064  0.000070  0.000065  0.000087  \n",
       "\n",
       "[5 rows x 38 columns]"
      ]
     },
     "execution_count": 20,
     "metadata": {},
     "output_type": "execute_result"
    }
   ],
   "source": [
    "data_nes.tail()"
   ]
  },
  {
   "cell_type": "markdown",
   "metadata": {},
   "source": [
    "### Visulase NES"
   ]
  },
  {
   "cell_type": "markdown",
   "metadata": {},
   "source": [
    "#### Samples"
   ]
  },
  {
   "cell_type": "code",
   "execution_count": 21,
   "metadata": {},
   "outputs": [
    {
     "data": {
      "text/plain": [
       "<matplotlib.axes._subplots.AxesSubplot at 0x1a1d6ab710>"
      ]
     },
     "execution_count": 21,
     "metadata": {},
     "output_type": "execute_result"
    },
    {
     "data": {
      "image/png": "[encoded data removed]",
      "text/plain": [
       "<Figure size 288x360 with 1 Axes>"
      ]
     },
     "metadata": {},
     "output_type": "display_data"
    }
   ],
   "source": [
    "data_nes.plot(kind='box',\n",
    "              vert=False,\n",
    "              figsize=(4,5))"
   ]
  },
  {
   "cell_type": "markdown",
   "metadata": {},
   "source": [
    "#### Variables"
   ]
  },
  {
   "cell_type": "code",
   "execution_count": 22,
   "metadata": {},
   "outputs": [
    {
     "data": {
      "text/plain": [
       "<matplotlib.axes._subplots.AxesSubplot at 0x1a1dc64da0>"
      ]
     },
     "execution_count": 22,
     "metadata": {},
     "output_type": "execute_result"
    },
    {
     "data": {
      "image/png": "[encoded data removed]",
      "text/plain": [
       "<Figure size 432x576 with 1 Axes>"
      ]
     },
     "metadata": {},
     "output_type": "display_data"
    }
   ],
   "source": [
    "data_nes.transpose().plot(kind='box',\n",
    "                          vert=False,\n",
    "                          figsize=(6,8))"
   ]
  },
  {
   "cell_type": "markdown",
   "metadata": {},
   "source": [
    "## Calculate PCA"
   ]
  },
  {
   "cell_type": "code",
   "execution_count": 23,
   "metadata": {},
   "outputs": [],
   "source": [
    "pca = PCA(n_components=7)"
   ]
  },
  {
   "cell_type": "code",
   "execution_count": 24,
   "metadata": {},
   "outputs": [],
   "source": [
    "pca_nes = pca.fit_transform(data_nes.transpose())"
   ]
  },
  {
   "cell_type": "code",
   "execution_count": 25,
   "metadata": {},
   "outputs": [
    {
     "data": {
      "text/plain": [
       "38"
      ]
     },
     "execution_count": 25,
     "metadata": {},
     "output_type": "execute_result"
    }
   ],
   "source": [
    "len(pca_nes) # check number of data points"
   ]
  },
  {
   "cell_type": "markdown",
   "metadata": {},
   "source": [
    "#### Get PCA loadings"
   ]
  },
  {
   "cell_type": "code",
   "execution_count": 26,
   "metadata": {},
   "outputs": [
    {
     "data": {
      "text/plain": [
       "array([0.47349103, 0.15671211, 0.11890077, 0.05959022, 0.03633084,\n",
       "       0.0354101 , 0.01995393])"
      ]
     },
     "execution_count": 26,
     "metadata": {},
     "output_type": "execute_result"
    }
   ],
   "source": [
    "var_exp = pca.explained_variance_ratio_\n",
    "var_exp"
   ]
  },
  {
   "cell_type": "markdown",
   "metadata": {},
   "source": [
    "## Plot PCA"
   ]
  },
  {
   "cell_type": "markdown",
   "metadata": {},
   "source": [
    "### Create custom colormaps (a.k.a. cmaps)"
   ]
  },
  {
   "cell_type": "code",
   "execution_count": 27,
   "metadata": {},
   "outputs": [],
   "source": [
    "def make_cmap(colors, position=None, bit=False):\n",
    "    \n",
    "    '''\n",
    "    make_cmap takes a list of tuples which contain RGB values. The RGB\n",
    "    values may either be in 8-bit [0 to 255] (in which bit must be set to\n",
    "    True when called) or arithmetic [0 to 1] (default). make_cmap returns\n",
    "    a cmap with equally spaced colors.\n",
    "    Arrange your tuples so that the first color is the lowest value for the\n",
    "    colorbar and the last is the highest.\n",
    "    position contains values from 0 to 1 to dictate the location of each color.\n",
    "    '''\n",
    "    import matplotlib as mpl\n",
    "    import numpy as np\n",
    "    bit_rgb = np.linspace(0,1,256)\n",
    "    if position == None:\n",
    "        position = np.linspace(0,1,len(colors))\n",
    "    else:\n",
    "        if len(position) != len(colors):\n",
    "            sys.exit(\"position length must be the same as colors\")\n",
    "        elif position[0] != 0 or position[-1] != 1:\n",
    "            sys.exit(\"position must start with 0 and end with 1\")\n",
    "    if bit:\n",
    "        for i in range(len(colors)):\n",
    "            colors[i] = (bit_rgb[colors[i][0]],\n",
    "                         bit_rgb[colors[i][1]],\n",
    "                         bit_rgb[colors[i][2]])\n",
    "    cdict = {'red':[], 'green':[], 'blue':[]}\n",
    "    for pos, color in zip(position, colors):\n",
    "        cdict['red'].append((pos, color[0], color[0]))\n",
    "        cdict['green'].append((pos, color[1], color[1]))\n",
    "        cdict['blue'].append((pos, color[2], color[2]))\n",
    "\n",
    "    cmap = mpl.colors.LinearSegmentedColormap('my_colormap',cdict,256)\n",
    "    \n",
    "    return cmap"
   ]
  },
  {
   "cell_type": "markdown",
   "metadata": {},
   "source": [
    "### Convert hex to rgb colour"
   ]
  },
  {
   "cell_type": "code",
   "execution_count": 28,
   "metadata": {},
   "outputs": [],
   "source": [
    "def hex_to_rgb(value):\n",
    "    \n",
    "    '''Return (red, green, blue) for the color given as #rrggbb.'''\n",
    "    \n",
    "    value = value.lstrip('#')\n",
    "    lv = len(value)\n",
    "    \n",
    "    return tuple(int(value[i:i + lv // 3], 16) for i in range(0, lv, lv // 3))"
   ]
  },
  {
   "cell_type": "markdown",
   "metadata": {},
   "source": [
    "### Define cmaps for patient kernel densities"
   ]
  },
  {
   "cell_type": "code",
   "execution_count": 29,
   "metadata": {},
   "outputs": [],
   "source": [
    "white = (255,255,255)\n",
    "\n",
    "reds    = make_cmap([white, hex_to_rgb('#e41a1c')], bit=True)\n",
    "blues   = make_cmap([white, hex_to_rgb('#377eb8')], bit=True)\n",
    "greens  = make_cmap([white, hex_to_rgb('#4eae4b')], bit=True)\n",
    "purples = make_cmap([white, hex_to_rgb('#994fa1')], bit=True)\n",
    "oranges = make_cmap([white, hex_to_rgb('#ff8101')], bit=True)\n",
    "yellows = make_cmap([white, hex_to_rgb('#fdfc33')], bit=True)\n",
    "browns  = make_cmap([white, hex_to_rgb('#a8572c')], bit=True)\n",
    "pinks   = make_cmap([white, hex_to_rgb('#f482be')], bit=True)\n",
    "\n",
    "reds_r    = make_cmap([hex_to_rgb('#e41a1c'), white], bit=True)\n",
    "blues_r   = make_cmap([hex_to_rgb('#377eb8'), white], bit=True)\n",
    "greens_r  = make_cmap([hex_to_rgb('#4eae4b'), white], bit=True)\n",
    "purples_r = make_cmap([hex_to_rgb('#994fa1'), white], bit=True)\n",
    "oranges_r = make_cmap([hex_to_rgb('#ff8101'), white], bit=True)\n",
    "yellows_r = make_cmap([hex_to_rgb('#fdfc33'), white], bit=True)\n",
    "browns_r  = make_cmap([hex_to_rgb('#a8572c'), white], bit=True)\n",
    "pinks_r   = make_cmap([hex_to_rgb('#f482be'), white], bit=True)"
   ]
  },
  {
   "cell_type": "markdown",
   "metadata": {},
   "source": [
    "### Colour-sample correspondence"
   ]
  },
  {
   "cell_type": "code",
   "execution_count": 30,
   "metadata": {},
   "outputs": [],
   "source": [
    "color_case_d = {1:reds,\n",
    "                4:blues,\n",
    "                5:greens,\n",
    "                6:purples,\n",
    "                10:oranges,\n",
    "                13:yellows,\n",
    "                16:browns,\n",
    "                17:pinks}\n",
    "\n",
    "color_case_dr = {1:reds_r,\n",
    "                 4:blues_r,\n",
    "                 5:greens_r,\n",
    "                 6:purples_r,\n",
    "                 10:oranges_r,\n",
    "                 13:yellows_r,\n",
    "                 16:browns_r,\n",
    "                 17:pinks_r}"
   ]
  },
  {
   "cell_type": "markdown",
   "metadata": {},
   "source": [
    "### Plot PCA"
   ]
  },
  {
   "cell_type": "code",
   "execution_count": 31,
   "metadata": {},
   "outputs": [],
   "source": [
    "pcx=0\n",
    "pcy=1"
   ]
  },
  {
   "cell_type": "code",
   "execution_count": 32,
   "metadata": {},
   "outputs": [
    {
     "data": {
      "image/png": "[encoded data removed]",
      "text/plain": [
       "<Figure size 360x360 with 1 Axes>"
      ]
     },
     "metadata": {},
     "output_type": "display_data"
    }
   ],
   "source": [
    "fig = plt.figure(figsize=(5, 5))\n",
    "\n",
    "plt.title('PCA')\n",
    "\n",
    "d_kde = {}\n",
    "for i in range(len(pca_nes[:, 0])):\n",
    "    \n",
    "    plt.scatter(pca_nes[:,pcx][i],\n",
    "                pca_nes[:,pcy][i],\n",
    "                c=list(sample_labels['Colour'])[i],\n",
    "                edgecolors=list(sample_labels['Colour'])[i],\n",
    "                marker=list(sample_labels['Site_marker'])[i],\n",
    "                zorder=1,\n",
    "                lw=1,\n",
    "                s=50)\n",
    "    \n",
    "    if list(sample_labels['Case_mRNA'])[i] not in d_kde:\n",
    "        \n",
    "        d_kde[list(sample_labels['Case_mRNA'])[i]] = {'x':[pca_nes[:,pcx][i]],\n",
    "                                                      'y':[pca_nes[:,pcy][i]]}\n",
    "    else:\n",
    "        \n",
    "        d_kde[list(sample_labels['Case_mRNA'])[i]]['x'].append(pca_nes[:,pcx][i])\n",
    "        d_kde[list(sample_labels['Case_mRNA'])[i]]['y'].append(pca_nes[:,pcy][i])\n",
    "      \n",
    "for j in d_kde:\n",
    "    \n",
    "    # shadow\n",
    "    sns.kdeplot(np.array(d_kde[j]['x']),\n",
    "                np.array(d_kde[j]['y']),\n",
    "                cmap=color_case_d[j],\n",
    "                n_levels=27,\n",
    "                alpha=.2,\n",
    "                zorder=0,\n",
    "                cut=3,\n",
    "                shade=False)\n",
    "    \n",
    "    # circles\n",
    "    sns.kdeplot(np.array(d_kde[j]['x']),\n",
    "                np.array(d_kde[j]['y']), \n",
    "                cmap=color_case_dr[j],\n",
    "                n_levels=1,\n",
    "                alpha=.7,\n",
    "                zorder=0,\n",
    "                cut=3,\n",
    "                shade=False)\n",
    "\n",
    "xlabel = 'PC%i(%i%s)' % (pcx+1,var_exp[pcx]*100,'%')\n",
    "ylabel = 'PC%i(%i%s)' % (pcy+1,var_exp[pcy]*100,'%')\n",
    "\n",
    "plt.xlabel(xlabel)\n",
    "plt.ylabel(ylabel)\n",
    "sns.despine(trim=True)"
   ]
  },
  {
   "cell_type": "markdown",
   "metadata": {},
   "source": [
    "### Save plot"
   ]
  },
  {
   "cell_type": "code",
   "execution_count": 33,
   "metadata": {},
   "outputs": [
    {
     "name": "stdout",
     "output_type": "stream",
     "text": [
      "OVCT_Fig_m1.pdf  OVCT_Fig_m1.png  README.md        \u001b[34mpanels\u001b[m\u001b[m/\r\n"
     ]
    }
   ],
   "source": [
    "ls ../../Figures/main/1/"
   ]
  },
  {
   "cell_type": "code",
   "execution_count": 36,
   "metadata": {},
   "outputs": [],
   "source": [
    "FILE = \"../../Figures/main/1/panels/1d_TreatmentNaive_Hallmarks_PCA_%s_%s.pdf\" % (pcx,pcy)\n",
    "\n",
    "fig.savefig(FILE, bbox='tight')"
   ]
  },
  {
   "cell_type": "markdown",
   "metadata": {},
   "source": [
    "### Plot PCA loadings"
   ]
  },
  {
   "cell_type": "code",
   "execution_count": 38,
   "metadata": {},
   "outputs": [
    {
     "data": {
      "text/plain": [
       "[<matplotlib.lines.Line2D at 0x1a1d573cc0>]"
      ]
     },
     "execution_count": 38,
     "metadata": {},
     "output_type": "execute_result"
    },
    {
     "data": {
      "image/png": "[encoded data removed]",
      "text/plain": [
       "<Figure size 432x288 with 1 Axes>"
      ]
     },
     "metadata": {},
     "output_type": "display_data"
    }
   ],
   "source": [
    "fig = plt.figure()\n",
    "\n",
    "plt.title('PCA loadings')\n",
    "\n",
    "plt.plot(var_exp, 'o', mfc='w', c='k', zorder=2, ms=7)\n",
    "plt.plot(var_exp, '-', c='k', zorder=1)"
   ]
  },
  {
   "cell_type": "markdown",
   "metadata": {},
   "source": [
    "### Save plot"
   ]
  },
  {
   "cell_type": "code",
   "execution_count": 40,
   "metadata": {},
   "outputs": [],
   "source": [
    "FILE = \"../../Figures/supplementary/1/panels/s1c_TreatmentNaive_Hallmarks_PCA_loadings.pdf\"\n",
    "\n",
    "fig.savefig(FILE, bbox='tight')"
   ]
  },
  {
   "cell_type": "markdown",
   "metadata": {},
   "source": [
    "# End script"
   ]
  }
 ],
 "metadata": {
  "kernelspec": {
   "display_name": "Python 3",
   "language": "python",
   "name": "python3"
  },
  "language_info": {
   "codemirror_mode": {
    "name": "ipython",
    "version": 3
   },
   "file_extension": ".py",
   "mimetype": "text/x-python",
   "name": "python",
   "nbconvert_exporter": "python",
   "pygments_lexer": "ipython3",
   "version": "3.6.8"
  }
 },
 "nbformat": 4,
 "nbformat_minor": 2
}

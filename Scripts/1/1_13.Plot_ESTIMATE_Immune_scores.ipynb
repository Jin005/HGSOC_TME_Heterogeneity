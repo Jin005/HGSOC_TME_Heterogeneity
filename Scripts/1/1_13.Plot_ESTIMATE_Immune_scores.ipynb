{
 "cells": [
  {
   "cell_type": "markdown",
   "metadata": {},
   "source": [
    "# Plot ESTIMATE immune scores"
   ]
  },
  {
   "cell_type": "markdown",
   "metadata": {},
   "source": [
    "Script related to figure 1f\n",
    "\n",
    "### Aim:\n",
    "- Plot ESTIMATE immune scores"
   ]
  },
  {
   "cell_type": "code",
   "execution_count": 1,
   "metadata": {},
   "outputs": [
    {
     "name": "stdout",
     "output_type": "stream",
     "text": [
      "Python 3.6.8 :: Anaconda custom (64-bit)\r\n"
     ]
    }
   ],
   "source": [
    "!python --version"
   ]
  },
  {
   "cell_type": "markdown",
   "metadata": {},
   "source": [
    "## Import packages"
   ]
  },
  {
   "cell_type": "code",
   "execution_count": 2,
   "metadata": {},
   "outputs": [],
   "source": [
    "import pandas as pd\n",
    "import seaborn as sns\n",
    "import matplotlib.pyplot as plt"
   ]
  },
  {
   "cell_type": "code",
   "execution_count": 3,
   "metadata": {},
   "outputs": [],
   "source": [
    "home = \"~/git_repos/HGSOC_TME_Heterogeneity/\""
   ]
  },
  {
   "cell_type": "markdown",
   "metadata": {},
   "source": [
    "## Get sample labels"
   ]
  },
  {
   "cell_type": "markdown",
   "metadata": {},
   "source": [
    "### Load file"
   ]
  },
  {
   "cell_type": "code",
   "execution_count": 4,
   "metadata": {},
   "outputs": [],
   "source": [
    "file_keys = home + \"/Data/1/TreatmentNaive_SampleLabels_WESTumourCellularity.txt\"\n",
    "\n",
    "sample_labels = pd.read_csv(file_keys,\n",
    "                            sep='\\t',\n",
    "                            index_col='Well')"
   ]
  },
  {
   "cell_type": "code",
   "execution_count": 5,
   "metadata": {},
   "outputs": [
    {
     "data": {
      "text/html": [
       "<div>\n",
       "<style scoped>\n",
       "    .dataframe tbody tr th:only-of-type {\n",
       "        vertical-align: middle;\n",
       "    }\n",
       "\n",
       "    .dataframe tbody tr th {\n",
       "        vertical-align: top;\n",
       "    }\n",
       "\n",
       "    .dataframe thead th {\n",
       "        text-align: right;\n",
       "    }\n",
       "</style>\n",
       "<table border=\"1\" class=\"dataframe\">\n",
       "  <thead>\n",
       "    <tr style=\"text-align: right;\">\n",
       "      <th></th>\n",
       "      <th>Label</th>\n",
       "      <th>Key</th>\n",
       "      <th>Case_mRNA</th>\n",
       "      <th>Site</th>\n",
       "      <th>Habitat</th>\n",
       "      <th>Case_WES</th>\n",
       "      <th>Tumour_WES</th>\n",
       "      <th>Colour</th>\n",
       "      <th>Site_marker</th>\n",
       "      <th>TumourCellularity_WES</th>\n",
       "    </tr>\n",
       "    <tr>\n",
       "      <th>Well</th>\n",
       "      <th></th>\n",
       "      <th></th>\n",
       "      <th></th>\n",
       "      <th></th>\n",
       "      <th></th>\n",
       "      <th></th>\n",
       "      <th></th>\n",
       "      <th></th>\n",
       "      <th></th>\n",
       "      <th></th>\n",
       "    </tr>\n",
       "  </thead>\n",
       "  <tbody>\n",
       "    <tr>\n",
       "      <th>A01</th>\n",
       "      <td>A01_3640_5_Omentum</td>\n",
       "      <td>case10_omentum_green</td>\n",
       "      <td>10</td>\n",
       "      <td>omentum</td>\n",
       "      <td>green</td>\n",
       "      <td>10.0</td>\n",
       "      <td>5</td>\n",
       "      <td>#ff7f00</td>\n",
       "      <td>^</td>\n",
       "      <td>0.5973</td>\n",
       "    </tr>\n",
       "    <tr>\n",
       "      <th>A02</th>\n",
       "      <td>A02_3640_7_Omentum</td>\n",
       "      <td>case10_omentum_blue</td>\n",
       "      <td>10</td>\n",
       "      <td>omentum</td>\n",
       "      <td>blue</td>\n",
       "      <td>10.0</td>\n",
       "      <td>7</td>\n",
       "      <td>#ff7f00</td>\n",
       "      <td>^</td>\n",
       "      <td>0.5065</td>\n",
       "    </tr>\n",
       "    <tr>\n",
       "      <th>A03</th>\n",
       "      <td>A03_3640_9_Paracolic_Gutter</td>\n",
       "      <td>case10_paracolic_yellow</td>\n",
       "      <td>10</td>\n",
       "      <td>other</td>\n",
       "      <td>yellow</td>\n",
       "      <td>10.0</td>\n",
       "      <td>8</td>\n",
       "      <td>#ff7f00</td>\n",
       "      <td>s</td>\n",
       "      <td>0.4551</td>\n",
       "    </tr>\n",
       "    <tr>\n",
       "      <th>A04</th>\n",
       "      <td>A04_3640_17_R_Adnexa</td>\n",
       "      <td>case10_Radnexa_yellow</td>\n",
       "      <td>10</td>\n",
       "      <td>ovary</td>\n",
       "      <td>yellow</td>\n",
       "      <td>10.0</td>\n",
       "      <td>17</td>\n",
       "      <td>#ff7f00</td>\n",
       "      <td>o</td>\n",
       "      <td>0.6496</td>\n",
       "    </tr>\n",
       "    <tr>\n",
       "      <th>A05</th>\n",
       "      <td>A05_3640_18_R_Adnexa</td>\n",
       "      <td>case10_Radnexa_blue</td>\n",
       "      <td>10</td>\n",
       "      <td>ovary</td>\n",
       "      <td>blue</td>\n",
       "      <td>10.0</td>\n",
       "      <td>18</td>\n",
       "      <td>#ff7f00</td>\n",
       "      <td>o</td>\n",
       "      <td>0.6706</td>\n",
       "    </tr>\n",
       "  </tbody>\n",
       "</table>\n",
       "</div>"
      ],
      "text/plain": [
       "                            Label                      Key  Case_mRNA  \\\n",
       "Well                                                                    \n",
       "A01            A01_3640_5_Omentum     case10_omentum_green         10   \n",
       "A02            A02_3640_7_Omentum      case10_omentum_blue         10   \n",
       "A03   A03_3640_9_Paracolic_Gutter  case10_paracolic_yellow         10   \n",
       "A04          A04_3640_17_R_Adnexa    case10_Radnexa_yellow         10   \n",
       "A05          A05_3640_18_R_Adnexa      case10_Radnexa_blue         10   \n",
       "\n",
       "         Site Habitat  Case_WES Tumour_WES   Colour Site_marker  \\\n",
       "Well                                                              \n",
       "A01   omentum   green      10.0          5  #ff7f00           ^   \n",
       "A02   omentum    blue      10.0          7  #ff7f00           ^   \n",
       "A03     other  yellow      10.0          8  #ff7f00           s   \n",
       "A04     ovary  yellow      10.0         17  #ff7f00           o   \n",
       "A05     ovary    blue      10.0         18  #ff7f00           o   \n",
       "\n",
       "      TumourCellularity_WES  \n",
       "Well                         \n",
       "A01                  0.5973  \n",
       "A02                  0.5065  \n",
       "A03                  0.4551  \n",
       "A04                  0.6496  \n",
       "A05                  0.6706  "
      ]
     },
     "execution_count": 5,
     "metadata": {},
     "output_type": "execute_result"
    }
   ],
   "source": [
    "sample_labels.head()"
   ]
  },
  {
   "cell_type": "markdown",
   "metadata": {},
   "source": [
    "### Define sample colours"
   ]
  },
  {
   "cell_type": "code",
   "execution_count": 6,
   "metadata": {},
   "outputs": [],
   "source": [
    "case_mrna = list(set(sample_labels['Case_mRNA']))\n",
    "\n",
    "colours = sns.color_palette(\"Set1\", 8).as_hex()\n",
    "\n",
    "sample_labels['Colour'] = sample_labels['Case_mRNA'].replace(case_mrna, colours)"
   ]
  },
  {
   "cell_type": "markdown",
   "metadata": {},
   "source": [
    "### Define sample markers"
   ]
  },
  {
   "cell_type": "code",
   "execution_count": 7,
   "metadata": {},
   "outputs": [],
   "source": [
    "sites = ['ovary','omentum','other']\n",
    "markers = ['o','^','s']\n",
    "\n",
    "sample_labels['Site_marker'] = sample_labels['Site'].replace(sites,markers)"
   ]
  },
  {
   "cell_type": "code",
   "execution_count": 8,
   "metadata": {},
   "outputs": [
    {
     "data": {
      "text/html": [
       "<div>\n",
       "<style scoped>\n",
       "    .dataframe tbody tr th:only-of-type {\n",
       "        vertical-align: middle;\n",
       "    }\n",
       "\n",
       "    .dataframe tbody tr th {\n",
       "        vertical-align: top;\n",
       "    }\n",
       "\n",
       "    .dataframe thead th {\n",
       "        text-align: right;\n",
       "    }\n",
       "</style>\n",
       "<table border=\"1\" class=\"dataframe\">\n",
       "  <thead>\n",
       "    <tr style=\"text-align: right;\">\n",
       "      <th></th>\n",
       "      <th>Label</th>\n",
       "      <th>Key</th>\n",
       "      <th>Case_mRNA</th>\n",
       "      <th>Site</th>\n",
       "      <th>Habitat</th>\n",
       "      <th>Case_WES</th>\n",
       "      <th>Tumour_WES</th>\n",
       "      <th>Colour</th>\n",
       "      <th>Site_marker</th>\n",
       "      <th>TumourCellularity_WES</th>\n",
       "    </tr>\n",
       "    <tr>\n",
       "      <th>Well</th>\n",
       "      <th></th>\n",
       "      <th></th>\n",
       "      <th></th>\n",
       "      <th></th>\n",
       "      <th></th>\n",
       "      <th></th>\n",
       "      <th></th>\n",
       "      <th></th>\n",
       "      <th></th>\n",
       "      <th></th>\n",
       "    </tr>\n",
       "  </thead>\n",
       "  <tbody>\n",
       "    <tr>\n",
       "      <th>A01</th>\n",
       "      <td>A01_3640_5_Omentum</td>\n",
       "      <td>case10_omentum_green</td>\n",
       "      <td>10</td>\n",
       "      <td>omentum</td>\n",
       "      <td>green</td>\n",
       "      <td>10.0</td>\n",
       "      <td>5</td>\n",
       "      <td>#ff7f00</td>\n",
       "      <td>^</td>\n",
       "      <td>0.5973</td>\n",
       "    </tr>\n",
       "    <tr>\n",
       "      <th>A02</th>\n",
       "      <td>A02_3640_7_Omentum</td>\n",
       "      <td>case10_omentum_blue</td>\n",
       "      <td>10</td>\n",
       "      <td>omentum</td>\n",
       "      <td>blue</td>\n",
       "      <td>10.0</td>\n",
       "      <td>7</td>\n",
       "      <td>#ff7f00</td>\n",
       "      <td>^</td>\n",
       "      <td>0.5065</td>\n",
       "    </tr>\n",
       "    <tr>\n",
       "      <th>A03</th>\n",
       "      <td>A03_3640_9_Paracolic_Gutter</td>\n",
       "      <td>case10_paracolic_yellow</td>\n",
       "      <td>10</td>\n",
       "      <td>other</td>\n",
       "      <td>yellow</td>\n",
       "      <td>10.0</td>\n",
       "      <td>8</td>\n",
       "      <td>#ff7f00</td>\n",
       "      <td>s</td>\n",
       "      <td>0.4551</td>\n",
       "    </tr>\n",
       "    <tr>\n",
       "      <th>A04</th>\n",
       "      <td>A04_3640_17_R_Adnexa</td>\n",
       "      <td>case10_Radnexa_yellow</td>\n",
       "      <td>10</td>\n",
       "      <td>ovary</td>\n",
       "      <td>yellow</td>\n",
       "      <td>10.0</td>\n",
       "      <td>17</td>\n",
       "      <td>#ff7f00</td>\n",
       "      <td>o</td>\n",
       "      <td>0.6496</td>\n",
       "    </tr>\n",
       "    <tr>\n",
       "      <th>A05</th>\n",
       "      <td>A05_3640_18_R_Adnexa</td>\n",
       "      <td>case10_Radnexa_blue</td>\n",
       "      <td>10</td>\n",
       "      <td>ovary</td>\n",
       "      <td>blue</td>\n",
       "      <td>10.0</td>\n",
       "      <td>18</td>\n",
       "      <td>#ff7f00</td>\n",
       "      <td>o</td>\n",
       "      <td>0.6706</td>\n",
       "    </tr>\n",
       "  </tbody>\n",
       "</table>\n",
       "</div>"
      ],
      "text/plain": [
       "                            Label                      Key  Case_mRNA  \\\n",
       "Well                                                                    \n",
       "A01            A01_3640_5_Omentum     case10_omentum_green         10   \n",
       "A02            A02_3640_7_Omentum      case10_omentum_blue         10   \n",
       "A03   A03_3640_9_Paracolic_Gutter  case10_paracolic_yellow         10   \n",
       "A04          A04_3640_17_R_Adnexa    case10_Radnexa_yellow         10   \n",
       "A05          A05_3640_18_R_Adnexa      case10_Radnexa_blue         10   \n",
       "\n",
       "         Site Habitat  Case_WES Tumour_WES   Colour Site_marker  \\\n",
       "Well                                                              \n",
       "A01   omentum   green      10.0          5  #ff7f00           ^   \n",
       "A02   omentum    blue      10.0          7  #ff7f00           ^   \n",
       "A03     other  yellow      10.0          8  #ff7f00           s   \n",
       "A04     ovary  yellow      10.0         17  #ff7f00           o   \n",
       "A05     ovary    blue      10.0         18  #ff7f00           o   \n",
       "\n",
       "      TumourCellularity_WES  \n",
       "Well                         \n",
       "A01                  0.5973  \n",
       "A02                  0.5065  \n",
       "A03                  0.4551  \n",
       "A04                  0.6496  \n",
       "A05                  0.6706  "
      ]
     },
     "execution_count": 8,
     "metadata": {},
     "output_type": "execute_result"
    }
   ],
   "source": [
    "sample_labels.head()"
   ]
  },
  {
   "cell_type": "code",
   "execution_count": 9,
   "metadata": {},
   "outputs": [
    {
     "data": {
      "text/html": [
       "<div>\n",
       "<style scoped>\n",
       "    .dataframe tbody tr th:only-of-type {\n",
       "        vertical-align: middle;\n",
       "    }\n",
       "\n",
       "    .dataframe tbody tr th {\n",
       "        vertical-align: top;\n",
       "    }\n",
       "\n",
       "    .dataframe thead th {\n",
       "        text-align: right;\n",
       "    }\n",
       "</style>\n",
       "<table border=\"1\" class=\"dataframe\">\n",
       "  <thead>\n",
       "    <tr style=\"text-align: right;\">\n",
       "      <th></th>\n",
       "      <th>Case_mRNA</th>\n",
       "      <th>Site</th>\n",
       "      <th>Colour</th>\n",
       "      <th>Site_marker</th>\n",
       "    </tr>\n",
       "    <tr>\n",
       "      <th>Well</th>\n",
       "      <th></th>\n",
       "      <th></th>\n",
       "      <th></th>\n",
       "      <th></th>\n",
       "    </tr>\n",
       "  </thead>\n",
       "  <tbody>\n",
       "    <tr>\n",
       "      <th>A01</th>\n",
       "      <td>10</td>\n",
       "      <td>omentum</td>\n",
       "      <td>#ff7f00</td>\n",
       "      <td>^</td>\n",
       "    </tr>\n",
       "    <tr>\n",
       "      <th>A02</th>\n",
       "      <td>10</td>\n",
       "      <td>omentum</td>\n",
       "      <td>#ff7f00</td>\n",
       "      <td>^</td>\n",
       "    </tr>\n",
       "    <tr>\n",
       "      <th>A03</th>\n",
       "      <td>10</td>\n",
       "      <td>other</td>\n",
       "      <td>#ff7f00</td>\n",
       "      <td>s</td>\n",
       "    </tr>\n",
       "    <tr>\n",
       "      <th>A04</th>\n",
       "      <td>10</td>\n",
       "      <td>ovary</td>\n",
       "      <td>#ff7f00</td>\n",
       "      <td>o</td>\n",
       "    </tr>\n",
       "    <tr>\n",
       "      <th>A05</th>\n",
       "      <td>10</td>\n",
       "      <td>ovary</td>\n",
       "      <td>#ff7f00</td>\n",
       "      <td>o</td>\n",
       "    </tr>\n",
       "  </tbody>\n",
       "</table>\n",
       "</div>"
      ],
      "text/plain": [
       "      Case_mRNA     Site   Colour Site_marker\n",
       "Well                                         \n",
       "A01          10  omentum  #ff7f00           ^\n",
       "A02          10  omentum  #ff7f00           ^\n",
       "A03          10    other  #ff7f00           s\n",
       "A04          10    ovary  #ff7f00           o\n",
       "A05          10    ovary  #ff7f00           o"
      ]
     },
     "execution_count": 9,
     "metadata": {},
     "output_type": "execute_result"
    }
   ],
   "source": [
    "sample_labels.loc[:,['Case_mRNA',\n",
    "                     'Site',\n",
    "                     'Colour',\n",
    "                     'Site_marker']].head()"
   ]
  },
  {
   "cell_type": "markdown",
   "metadata": {},
   "source": [
    "## Load ImmuneScore Data"
   ]
  },
  {
   "cell_type": "markdown",
   "metadata": {},
   "source": [
    "### TreatmentNaive ESTIMATEs"
   ]
  },
  {
   "cell_type": "code",
   "execution_count": 11,
   "metadata": {},
   "outputs": [],
   "source": [
    "TxNaive_file = home + \"/Data/1/TreatmentNaive_log2exp_loess_norm_filtered_ESTIMATE.txt\"\n",
    "\n",
    "TxNaive_ESTIMATES = pd.read_csv(TxNaive_file,\n",
    "                                skiprows=2,\n",
    "                                sep='\\t',\n",
    "                                index_col='NAME').iloc[:,1:].transpose()"
   ]
  },
  {
   "cell_type": "code",
   "execution_count": 12,
   "metadata": {},
   "outputs": [
    {
     "data": {
      "text/html": [
       "<div>\n",
       "<style scoped>\n",
       "    .dataframe tbody tr th:only-of-type {\n",
       "        vertical-align: middle;\n",
       "    }\n",
       "\n",
       "    .dataframe tbody tr th {\n",
       "        vertical-align: top;\n",
       "    }\n",
       "\n",
       "    .dataframe thead th {\n",
       "        text-align: right;\n",
       "    }\n",
       "</style>\n",
       "<table border=\"1\" class=\"dataframe\">\n",
       "  <thead>\n",
       "    <tr style=\"text-align: right;\">\n",
       "      <th>NAME</th>\n",
       "      <th>StromalScore</th>\n",
       "      <th>ImmuneScore</th>\n",
       "      <th>ESTIMATEScore</th>\n",
       "      <th>TumorPurity</th>\n",
       "    </tr>\n",
       "  </thead>\n",
       "  <tbody>\n",
       "    <tr>\n",
       "      <th>A01</th>\n",
       "      <td>213.898183</td>\n",
       "      <td>789.397143</td>\n",
       "      <td>1003.295326</td>\n",
       "      <td>0.730147</td>\n",
       "    </tr>\n",
       "    <tr>\n",
       "      <th>A02</th>\n",
       "      <td>441.185072</td>\n",
       "      <td>1103.963967</td>\n",
       "      <td>1545.149039</td>\n",
       "      <td>0.673548</td>\n",
       "    </tr>\n",
       "    <tr>\n",
       "      <th>A03</th>\n",
       "      <td>627.161634</td>\n",
       "      <td>996.569838</td>\n",
       "      <td>1623.731472</td>\n",
       "      <td>0.664978</td>\n",
       "    </tr>\n",
       "    <tr>\n",
       "      <th>A04</th>\n",
       "      <td>-257.879171</td>\n",
       "      <td>119.238243</td>\n",
       "      <td>-138.640928</td>\n",
       "      <td>0.833913</td>\n",
       "    </tr>\n",
       "    <tr>\n",
       "      <th>A05</th>\n",
       "      <td>-105.932457</td>\n",
       "      <td>354.124225</td>\n",
       "      <td>248.191767</td>\n",
       "      <td>0.801248</td>\n",
       "    </tr>\n",
       "  </tbody>\n",
       "</table>\n",
       "</div>"
      ],
      "text/plain": [
       "NAME  StromalScore  ImmuneScore  ESTIMATEScore  TumorPurity\n",
       "A01     213.898183   789.397143    1003.295326     0.730147\n",
       "A02     441.185072  1103.963967    1545.149039     0.673548\n",
       "A03     627.161634   996.569838    1623.731472     0.664978\n",
       "A04    -257.879171   119.238243    -138.640928     0.833913\n",
       "A05    -105.932457   354.124225     248.191767     0.801248"
      ]
     },
     "execution_count": 12,
     "metadata": {},
     "output_type": "execute_result"
    }
   ],
   "source": [
    "TxNaive_ESTIMATES.head()"
   ]
  },
  {
   "cell_type": "code",
   "execution_count": 13,
   "metadata": {},
   "outputs": [],
   "source": [
    "headers = ['Case_mRNA','Site','Colour','Site_marker']\n",
    "\n",
    "TxNaive_ImmuneScore = pd.concat([TxNaive_ESTIMATES.ImmuneScore,\n",
    "                                 sample_labels.loc[:,headers]],\n",
    "                                 axis=1)"
   ]
  },
  {
   "cell_type": "code",
   "execution_count": 14,
   "metadata": {},
   "outputs": [],
   "source": [
    "TxNaive_ImmuneScore.rename(columns={'Case_mRNA':'Data'},\n",
    "                           inplace=True)"
   ]
  },
  {
   "cell_type": "code",
   "execution_count": 15,
   "metadata": {},
   "outputs": [
    {
     "data": {
      "text/html": [
       "<div>\n",
       "<style scoped>\n",
       "    .dataframe tbody tr th:only-of-type {\n",
       "        vertical-align: middle;\n",
       "    }\n",
       "\n",
       "    .dataframe tbody tr th {\n",
       "        vertical-align: top;\n",
       "    }\n",
       "\n",
       "    .dataframe thead th {\n",
       "        text-align: right;\n",
       "    }\n",
       "</style>\n",
       "<table border=\"1\" class=\"dataframe\">\n",
       "  <thead>\n",
       "    <tr style=\"text-align: right;\">\n",
       "      <th></th>\n",
       "      <th>ImmuneScore</th>\n",
       "      <th>Data</th>\n",
       "      <th>Site</th>\n",
       "      <th>Colour</th>\n",
       "      <th>Site_marker</th>\n",
       "    </tr>\n",
       "    <tr>\n",
       "      <th>Well</th>\n",
       "      <th></th>\n",
       "      <th></th>\n",
       "      <th></th>\n",
       "      <th></th>\n",
       "      <th></th>\n",
       "    </tr>\n",
       "  </thead>\n",
       "  <tbody>\n",
       "    <tr>\n",
       "      <th>A01</th>\n",
       "      <td>789.397143</td>\n",
       "      <td>10</td>\n",
       "      <td>omentum</td>\n",
       "      <td>#ff7f00</td>\n",
       "      <td>^</td>\n",
       "    </tr>\n",
       "    <tr>\n",
       "      <th>A02</th>\n",
       "      <td>1103.963967</td>\n",
       "      <td>10</td>\n",
       "      <td>omentum</td>\n",
       "      <td>#ff7f00</td>\n",
       "      <td>^</td>\n",
       "    </tr>\n",
       "    <tr>\n",
       "      <th>A03</th>\n",
       "      <td>996.569838</td>\n",
       "      <td>10</td>\n",
       "      <td>other</td>\n",
       "      <td>#ff7f00</td>\n",
       "      <td>s</td>\n",
       "    </tr>\n",
       "    <tr>\n",
       "      <th>A04</th>\n",
       "      <td>119.238243</td>\n",
       "      <td>10</td>\n",
       "      <td>ovary</td>\n",
       "      <td>#ff7f00</td>\n",
       "      <td>o</td>\n",
       "    </tr>\n",
       "    <tr>\n",
       "      <th>A05</th>\n",
       "      <td>354.124225</td>\n",
       "      <td>10</td>\n",
       "      <td>ovary</td>\n",
       "      <td>#ff7f00</td>\n",
       "      <td>o</td>\n",
       "    </tr>\n",
       "  </tbody>\n",
       "</table>\n",
       "</div>"
      ],
      "text/plain": [
       "      ImmuneScore  Data     Site   Colour Site_marker\n",
       "Well                                                 \n",
       "A01    789.397143    10  omentum  #ff7f00           ^\n",
       "A02   1103.963967    10  omentum  #ff7f00           ^\n",
       "A03    996.569838    10    other  #ff7f00           s\n",
       "A04    119.238243    10    ovary  #ff7f00           o\n",
       "A05    354.124225    10    ovary  #ff7f00           o"
      ]
     },
     "execution_count": 15,
     "metadata": {},
     "output_type": "execute_result"
    }
   ],
   "source": [
    "TxNaive_ImmuneScore.head()"
   ]
  },
  {
   "cell_type": "code",
   "execution_count": 16,
   "metadata": {},
   "outputs": [
    {
     "data": {
      "text/plain": [
       "ovary      21\n",
       "omentum    11\n",
       "other       6\n",
       "Name: Site, dtype: int64"
      ]
     },
     "execution_count": 16,
     "metadata": {},
     "output_type": "execute_result"
    }
   ],
   "source": [
    "TxNaive_ImmuneScore.Site.value_counts()"
   ]
  },
  {
   "cell_type": "markdown",
   "metadata": {},
   "source": [
    "### TCGA OV ESTIMATEs"
   ]
  },
  {
   "cell_type": "code",
   "execution_count": 18,
   "metadata": {},
   "outputs": [],
   "source": [
    "TCGAov_file = home + \"/Data/1/TCGAov_RNAseq_filtered_ESTIMATE.txt\"\n",
    "\n",
    "TCGAov_ESTIMATES = pd.read_csv(TCGAov_file,\n",
    "                               skiprows=2,\n",
    "                               sep='\\t',\n",
    "                               index_col='NAME').iloc[:,1:].transpose()"
   ]
  },
  {
   "cell_type": "code",
   "execution_count": 19,
   "metadata": {},
   "outputs": [
    {
     "data": {
      "text/html": [
       "<div>\n",
       "<style scoped>\n",
       "    .dataframe tbody tr th:only-of-type {\n",
       "        vertical-align: middle;\n",
       "    }\n",
       "\n",
       "    .dataframe tbody tr th {\n",
       "        vertical-align: top;\n",
       "    }\n",
       "\n",
       "    .dataframe thead th {\n",
       "        text-align: right;\n",
       "    }\n",
       "</style>\n",
       "<table border=\"1\" class=\"dataframe\">\n",
       "  <thead>\n",
       "    <tr style=\"text-align: right;\">\n",
       "      <th>NAME</th>\n",
       "      <th>StromalScore</th>\n",
       "      <th>ImmuneScore</th>\n",
       "      <th>ESTIMATEScore</th>\n",
       "    </tr>\n",
       "  </thead>\n",
       "  <tbody>\n",
       "    <tr>\n",
       "      <th>TCGA.04.1348.01</th>\n",
       "      <td>-750.107248</td>\n",
       "      <td>829.829565</td>\n",
       "      <td>79.722317</td>\n",
       "    </tr>\n",
       "    <tr>\n",
       "      <th>TCGA.04.1357.01</th>\n",
       "      <td>-33.645571</td>\n",
       "      <td>1743.313601</td>\n",
       "      <td>1709.668030</td>\n",
       "    </tr>\n",
       "    <tr>\n",
       "      <th>TCGA.04.1362.01</th>\n",
       "      <td>-1233.143230</td>\n",
       "      <td>-395.854756</td>\n",
       "      <td>-1628.997986</td>\n",
       "    </tr>\n",
       "    <tr>\n",
       "      <th>TCGA.04.1364.01</th>\n",
       "      <td>-1813.901326</td>\n",
       "      <td>-1748.400131</td>\n",
       "      <td>-3562.301457</td>\n",
       "    </tr>\n",
       "    <tr>\n",
       "      <th>TCGA.04.1365.01</th>\n",
       "      <td>-924.334966</td>\n",
       "      <td>497.225037</td>\n",
       "      <td>-427.109929</td>\n",
       "    </tr>\n",
       "  </tbody>\n",
       "</table>\n",
       "</div>"
      ],
      "text/plain": [
       "NAME             StromalScore  ImmuneScore  ESTIMATEScore\n",
       "TCGA.04.1348.01   -750.107248   829.829565      79.722317\n",
       "TCGA.04.1357.01    -33.645571  1743.313601    1709.668030\n",
       "TCGA.04.1362.01  -1233.143230  -395.854756   -1628.997986\n",
       "TCGA.04.1364.01  -1813.901326 -1748.400131   -3562.301457\n",
       "TCGA.04.1365.01   -924.334966   497.225037    -427.109929"
      ]
     },
     "execution_count": 19,
     "metadata": {},
     "output_type": "execute_result"
    }
   ],
   "source": [
    "TCGAov_ESTIMATES.head()"
   ]
  },
  {
   "cell_type": "code",
   "execution_count": 20,
   "metadata": {},
   "outputs": [],
   "source": [
    "TCGAov_ESTIMATES['Sample_ID'] = TCGAov_ESTIMATES.index.str.replace('.','-').str[:-3]"
   ]
  },
  {
   "cell_type": "code",
   "execution_count": 21,
   "metadata": {},
   "outputs": [
    {
     "data": {
      "text/html": [
       "<div>\n",
       "<style scoped>\n",
       "    .dataframe tbody tr th:only-of-type {\n",
       "        vertical-align: middle;\n",
       "    }\n",
       "\n",
       "    .dataframe tbody tr th {\n",
       "        vertical-align: top;\n",
       "    }\n",
       "\n",
       "    .dataframe thead th {\n",
       "        text-align: right;\n",
       "    }\n",
       "</style>\n",
       "<table border=\"1\" class=\"dataframe\">\n",
       "  <thead>\n",
       "    <tr style=\"text-align: right;\">\n",
       "      <th>NAME</th>\n",
       "      <th>StromalScore</th>\n",
       "      <th>ImmuneScore</th>\n",
       "      <th>ESTIMATEScore</th>\n",
       "      <th>Sample_ID</th>\n",
       "    </tr>\n",
       "  </thead>\n",
       "  <tbody>\n",
       "    <tr>\n",
       "      <th>TCGA.04.1348.01</th>\n",
       "      <td>-750.107248</td>\n",
       "      <td>829.829565</td>\n",
       "      <td>79.722317</td>\n",
       "      <td>TCGA-04-1348</td>\n",
       "    </tr>\n",
       "    <tr>\n",
       "      <th>TCGA.04.1357.01</th>\n",
       "      <td>-33.645571</td>\n",
       "      <td>1743.313601</td>\n",
       "      <td>1709.668030</td>\n",
       "      <td>TCGA-04-1357</td>\n",
       "    </tr>\n",
       "    <tr>\n",
       "      <th>TCGA.04.1362.01</th>\n",
       "      <td>-1233.143230</td>\n",
       "      <td>-395.854756</td>\n",
       "      <td>-1628.997986</td>\n",
       "      <td>TCGA-04-1362</td>\n",
       "    </tr>\n",
       "    <tr>\n",
       "      <th>TCGA.04.1364.01</th>\n",
       "      <td>-1813.901326</td>\n",
       "      <td>-1748.400131</td>\n",
       "      <td>-3562.301457</td>\n",
       "      <td>TCGA-04-1364</td>\n",
       "    </tr>\n",
       "    <tr>\n",
       "      <th>TCGA.04.1365.01</th>\n",
       "      <td>-924.334966</td>\n",
       "      <td>497.225037</td>\n",
       "      <td>-427.109929</td>\n",
       "      <td>TCGA-04-1365</td>\n",
       "    </tr>\n",
       "  </tbody>\n",
       "</table>\n",
       "</div>"
      ],
      "text/plain": [
       "NAME             StromalScore  ImmuneScore  ESTIMATEScore     Sample_ID\n",
       "TCGA.04.1348.01   -750.107248   829.829565      79.722317  TCGA-04-1348\n",
       "TCGA.04.1357.01    -33.645571  1743.313601    1709.668030  TCGA-04-1357\n",
       "TCGA.04.1362.01  -1233.143230  -395.854756   -1628.997986  TCGA-04-1362\n",
       "TCGA.04.1364.01  -1813.901326 -1748.400131   -3562.301457  TCGA-04-1364\n",
       "TCGA.04.1365.01   -924.334966   497.225037    -427.109929  TCGA-04-1365"
      ]
     },
     "execution_count": 21,
     "metadata": {},
     "output_type": "execute_result"
    }
   ],
   "source": [
    "TCGAov_ESTIMATES.head()"
   ]
  },
  {
   "cell_type": "code",
   "execution_count": 22,
   "metadata": {},
   "outputs": [],
   "source": [
    "TCGAov_ESTIMATES.set_index('Sample_ID', inplace=True)"
   ]
  },
  {
   "cell_type": "markdown",
   "metadata": {},
   "source": [
    "### Add TCGA OV site data"
   ]
  },
  {
   "cell_type": "code",
   "execution_count": 24,
   "metadata": {},
   "outputs": [],
   "source": [
    "TCGAovSite_file = home + \"/Data/1/data_bcr_clinical_data_patient.txt\"\n",
    "\n",
    "TCGAov_clin_data = pd.read_csv(TCGAovSite_file,\n",
    "                               sep='\\t',\n",
    "                               skiprows=4,\n",
    "                               index_col='PATIENT_ID')"
   ]
  },
  {
   "cell_type": "code",
   "execution_count": 25,
   "metadata": {},
   "outputs": [
    {
     "data": {
      "text/plain": [
       "(586, 58)"
      ]
     },
     "execution_count": 25,
     "metadata": {},
     "output_type": "execute_result"
    }
   ],
   "source": [
    "TCGAov_clin_data.shape"
   ]
  },
  {
   "cell_type": "code",
   "execution_count": 26,
   "metadata": {},
   "outputs": [
    {
     "data": {
      "text/plain": [
       "Index(['TCGA-04-1332', 'TCGA-04-1335', 'TCGA-04-1336', 'TCGA-04-1337',\n",
       "       'TCGA-04-1338'],\n",
       "      dtype='object', name='PATIENT_ID')"
      ]
     },
     "execution_count": 26,
     "metadata": {},
     "output_type": "execute_result"
    }
   ],
   "source": [
    "TCGAov_clin_data.index[:5]"
   ]
  },
  {
   "cell_type": "markdown",
   "metadata": {},
   "source": [
    "#### Append site info"
   ]
  },
  {
   "cell_type": "code",
   "execution_count": 27,
   "metadata": {},
   "outputs": [],
   "source": [
    "TCGAov_ImmuneScore = pd.concat([TCGAov_ESTIMATES.ImmuneScore,\n",
    "                                TCGAov_clin_data.TUMOR_TISSUE_SITE],\n",
    "                               axis=1,\n",
    "                               join='inner')\n",
    "\n",
    "TCGAov_ImmuneScore.rename(columns={'TUMOR_TISSUE_SITE':'Site'},\n",
    "                          inplace=True)"
   ]
  },
  {
   "cell_type": "code",
   "execution_count": 28,
   "metadata": {},
   "outputs": [],
   "source": [
    "TCGAov_ImmuneScore['Site'] = TCGAov_ImmuneScore.Site.str.lower()"
   ]
  },
  {
   "cell_type": "code",
   "execution_count": 29,
   "metadata": {},
   "outputs": [],
   "source": [
    "sites = ['ovary','omentum','other']\n",
    "markers = ['o','^','s']\n",
    "\n",
    "TCGAov_ImmuneScore['Site_marker'] = TCGAov_ImmuneScore['Site'].replace(sites,markers)"
   ]
  },
  {
   "cell_type": "code",
   "execution_count": 30,
   "metadata": {},
   "outputs": [],
   "source": [
    "TCGAov_ImmuneScore['Data'] = 'TCGA_OV'"
   ]
  },
  {
   "cell_type": "code",
   "execution_count": 31,
   "metadata": {},
   "outputs": [],
   "source": [
    "TCGAov_ImmuneScore['Colour'] = 'grey'"
   ]
  },
  {
   "cell_type": "code",
   "execution_count": 32,
   "metadata": {},
   "outputs": [
    {
     "data": {
      "text/html": [
       "<div>\n",
       "<style scoped>\n",
       "    .dataframe tbody tr th:only-of-type {\n",
       "        vertical-align: middle;\n",
       "    }\n",
       "\n",
       "    .dataframe tbody tr th {\n",
       "        vertical-align: top;\n",
       "    }\n",
       "\n",
       "    .dataframe thead th {\n",
       "        text-align: right;\n",
       "    }\n",
       "</style>\n",
       "<table border=\"1\" class=\"dataframe\">\n",
       "  <thead>\n",
       "    <tr style=\"text-align: right;\">\n",
       "      <th></th>\n",
       "      <th>ImmuneScore</th>\n",
       "      <th>Site</th>\n",
       "      <th>Site_marker</th>\n",
       "      <th>Data</th>\n",
       "      <th>Colour</th>\n",
       "    </tr>\n",
       "  </thead>\n",
       "  <tbody>\n",
       "    <tr>\n",
       "      <th>TCGA-04-1348</th>\n",
       "      <td>829.829565</td>\n",
       "      <td>ovary</td>\n",
       "      <td>o</td>\n",
       "      <td>TCGA_OV</td>\n",
       "      <td>grey</td>\n",
       "    </tr>\n",
       "    <tr>\n",
       "      <th>TCGA-04-1357</th>\n",
       "      <td>1743.313601</td>\n",
       "      <td>ovary</td>\n",
       "      <td>o</td>\n",
       "      <td>TCGA_OV</td>\n",
       "      <td>grey</td>\n",
       "    </tr>\n",
       "    <tr>\n",
       "      <th>TCGA-04-1362</th>\n",
       "      <td>-395.854756</td>\n",
       "      <td>ovary</td>\n",
       "      <td>o</td>\n",
       "      <td>TCGA_OV</td>\n",
       "      <td>grey</td>\n",
       "    </tr>\n",
       "    <tr>\n",
       "      <th>TCGA-04-1364</th>\n",
       "      <td>-1748.400131</td>\n",
       "      <td>ovary</td>\n",
       "      <td>o</td>\n",
       "      <td>TCGA_OV</td>\n",
       "      <td>grey</td>\n",
       "    </tr>\n",
       "    <tr>\n",
       "      <th>TCGA-04-1365</th>\n",
       "      <td>497.225037</td>\n",
       "      <td>ovary</td>\n",
       "      <td>o</td>\n",
       "      <td>TCGA_OV</td>\n",
       "      <td>grey</td>\n",
       "    </tr>\n",
       "  </tbody>\n",
       "</table>\n",
       "</div>"
      ],
      "text/plain": [
       "              ImmuneScore   Site Site_marker     Data Colour\n",
       "TCGA-04-1348   829.829565  ovary           o  TCGA_OV   grey\n",
       "TCGA-04-1357  1743.313601  ovary           o  TCGA_OV   grey\n",
       "TCGA-04-1362  -395.854756  ovary           o  TCGA_OV   grey\n",
       "TCGA-04-1364 -1748.400131  ovary           o  TCGA_OV   grey\n",
       "TCGA-04-1365   497.225037  ovary           o  TCGA_OV   grey"
      ]
     },
     "execution_count": 32,
     "metadata": {},
     "output_type": "execute_result"
    }
   ],
   "source": [
    "TCGAov_ImmuneScore.head()"
   ]
  },
  {
   "cell_type": "markdown",
   "metadata": {},
   "source": [
    "### Add Case Study data"
   ]
  },
  {
   "cell_type": "code",
   "execution_count": 34,
   "metadata": {},
   "outputs": [],
   "source": [
    "CaseStudy_file = home + \"/Data/1/CaseStudy_ESTIMATE.txt\"\n",
    "\n",
    "CaseStudy_ESTIMATES = pd.read_csv(CaseStudy_file,\n",
    "                                  skiprows=2,\n",
    "                                  sep='\\t',\n",
    "                                  index_col='NAME').iloc[:,1:].transpose()"
   ]
  },
  {
   "cell_type": "code",
   "execution_count": 35,
   "metadata": {},
   "outputs": [],
   "source": [
    "CaseStudy_ESTIMATES['Site'] = CaseStudy_ESTIMATES.index"
   ]
  },
  {
   "cell_type": "code",
   "execution_count": 36,
   "metadata": {},
   "outputs": [
    {
     "data": {
      "text/html": [
       "<div>\n",
       "<style scoped>\n",
       "    .dataframe tbody tr th:only-of-type {\n",
       "        vertical-align: middle;\n",
       "    }\n",
       "\n",
       "    .dataframe tbody tr th {\n",
       "        vertical-align: top;\n",
       "    }\n",
       "\n",
       "    .dataframe thead th {\n",
       "        text-align: right;\n",
       "    }\n",
       "</style>\n",
       "<table border=\"1\" class=\"dataframe\">\n",
       "  <thead>\n",
       "    <tr style=\"text-align: right;\">\n",
       "      <th>NAME</th>\n",
       "      <th>StromalScore</th>\n",
       "      <th>ImmuneScore</th>\n",
       "      <th>ESTIMATEScore</th>\n",
       "      <th>TumorPurity</th>\n",
       "      <th>Site</th>\n",
       "    </tr>\n",
       "  </thead>\n",
       "  <tbody>\n",
       "    <tr>\n",
       "      <th>liver</th>\n",
       "      <td>275.079190</td>\n",
       "      <td>678.327109</td>\n",
       "      <td>953.406298</td>\n",
       "      <td>0.735131</td>\n",
       "      <td>liver</td>\n",
       "    </tr>\n",
       "    <tr>\n",
       "      <th>primary</th>\n",
       "      <td>-74.654293</td>\n",
       "      <td>128.425490</td>\n",
       "      <td>53.771197</td>\n",
       "      <td>0.817995</td>\n",
       "      <td>primary</td>\n",
       "    </tr>\n",
       "    <tr>\n",
       "      <th>ruq</th>\n",
       "      <td>853.906808</td>\n",
       "      <td>1023.109208</td>\n",
       "      <td>1877.016015</td>\n",
       "      <td>0.636757</td>\n",
       "      <td>ruq</td>\n",
       "    </tr>\n",
       "    <tr>\n",
       "      <th>spleen</th>\n",
       "      <td>592.826879</td>\n",
       "      <td>1186.727065</td>\n",
       "      <td>1779.553945</td>\n",
       "      <td>0.647722</td>\n",
       "      <td>spleen</td>\n",
       "    </tr>\n",
       "    <tr>\n",
       "      <th>vagcuff</th>\n",
       "      <td>377.399954</td>\n",
       "      <td>356.856246</td>\n",
       "      <td>734.256200</td>\n",
       "      <td>0.756555</td>\n",
       "      <td>vagcuff</td>\n",
       "    </tr>\n",
       "  </tbody>\n",
       "</table>\n",
       "</div>"
      ],
      "text/plain": [
       "NAME     StromalScore  ImmuneScore  ESTIMATEScore  TumorPurity     Site\n",
       "liver      275.079190   678.327109     953.406298     0.735131    liver\n",
       "primary    -74.654293   128.425490      53.771197     0.817995  primary\n",
       "ruq        853.906808  1023.109208    1877.016015     0.636757      ruq\n",
       "spleen     592.826879  1186.727065    1779.553945     0.647722   spleen\n",
       "vagcuff    377.399954   356.856246     734.256200     0.756555  vagcuff"
      ]
     },
     "execution_count": 36,
     "metadata": {},
     "output_type": "execute_result"
    }
   ],
   "source": [
    "CaseStudy_ESTIMATES.head()"
   ]
  },
  {
   "cell_type": "code",
   "execution_count": 37,
   "metadata": {},
   "outputs": [],
   "source": [
    "CaseStudy_ImmuneScore = CaseStudy_ESTIMATES[['ImmuneScore',\n",
    "                                             'Site']]"
   ]
  },
  {
   "cell_type": "code",
   "execution_count": 38,
   "metadata": {},
   "outputs": [
    {
     "data": {
      "text/html": [
       "<div>\n",
       "<style scoped>\n",
       "    .dataframe tbody tr th:only-of-type {\n",
       "        vertical-align: middle;\n",
       "    }\n",
       "\n",
       "    .dataframe tbody tr th {\n",
       "        vertical-align: top;\n",
       "    }\n",
       "\n",
       "    .dataframe thead th {\n",
       "        text-align: right;\n",
       "    }\n",
       "</style>\n",
       "<table border=\"1\" class=\"dataframe\">\n",
       "  <thead>\n",
       "    <tr style=\"text-align: right;\">\n",
       "      <th>NAME</th>\n",
       "      <th>ImmuneScore</th>\n",
       "      <th>Site</th>\n",
       "    </tr>\n",
       "  </thead>\n",
       "  <tbody>\n",
       "    <tr>\n",
       "      <th>liver</th>\n",
       "      <td>678.327109</td>\n",
       "      <td>liver</td>\n",
       "    </tr>\n",
       "    <tr>\n",
       "      <th>primary</th>\n",
       "      <td>128.425490</td>\n",
       "      <td>primary</td>\n",
       "    </tr>\n",
       "    <tr>\n",
       "      <th>ruq</th>\n",
       "      <td>1023.109208</td>\n",
       "      <td>ruq</td>\n",
       "    </tr>\n",
       "    <tr>\n",
       "      <th>spleen</th>\n",
       "      <td>1186.727065</td>\n",
       "      <td>spleen</td>\n",
       "    </tr>\n",
       "    <tr>\n",
       "      <th>vagcuff</th>\n",
       "      <td>356.856246</td>\n",
       "      <td>vagcuff</td>\n",
       "    </tr>\n",
       "  </tbody>\n",
       "</table>\n",
       "</div>"
      ],
      "text/plain": [
       "NAME     ImmuneScore     Site\n",
       "liver     678.327109    liver\n",
       "primary   128.425490  primary\n",
       "ruq      1023.109208      ruq\n",
       "spleen   1186.727065   spleen\n",
       "vagcuff   356.856246  vagcuff"
      ]
     },
     "execution_count": 38,
     "metadata": {},
     "output_type": "execute_result"
    }
   ],
   "source": [
    "CaseStudy_ImmuneScore.head()"
   ]
  },
  {
   "cell_type": "code",
   "execution_count": 39,
   "metadata": {},
   "outputs": [
    {
     "name": "stderr",
     "output_type": "stream",
     "text": [
      "/anaconda3/lib/python3.6/site-packages/ipykernel_launcher.py:12: SettingWithCopyWarning: \n",
      "A value is trying to be set on a copy of a slice from a DataFrame.\n",
      "Try using .loc[row_indexer,col_indexer] = value instead\n",
      "\n",
      "See the caveats in the documentation: http://pandas.pydata.org/pandas-docs/stable/indexing.html#indexing-view-versus-copy\n",
      "  if sys.path[0] == '':\n"
     ]
    }
   ],
   "source": [
    "CaseStudy_sites = list(CaseStudy_ImmuneScore.Site)\n",
    "\n",
    "Class_sites = []\n",
    "for site in CaseStudy_sites:\n",
    "    \n",
    "    if site == 'primary':\n",
    "        Class_sites.append('ovary')\n",
    "    else:\n",
    "        Class_sites.append('other')\n",
    "\n",
    "CaseStudy_ImmuneScore['Site'] = CaseStudy_ImmuneScore['Site'].replace(CaseStudy_sites,\n",
    "                                                                   Class_sites)"
   ]
  },
  {
   "cell_type": "code",
   "execution_count": 40,
   "metadata": {},
   "outputs": [
    {
     "name": "stderr",
     "output_type": "stream",
     "text": [
      "/anaconda3/lib/python3.6/site-packages/ipykernel_launcher.py:4: SettingWithCopyWarning: \n",
      "A value is trying to be set on a copy of a slice from a DataFrame.\n",
      "Try using .loc[row_indexer,col_indexer] = value instead\n",
      "\n",
      "See the caveats in the documentation: http://pandas.pydata.org/pandas-docs/stable/indexing.html#indexing-view-versus-copy\n",
      "  after removing the cwd from sys.path.\n"
     ]
    }
   ],
   "source": [
    "sites = ['ovary','omentum','other']\n",
    "markers = ['o','^','s']\n",
    "\n",
    "CaseStudy_ImmuneScore['Site_marker'] = CaseStudy_ImmuneScore['Site'].replace(sites,markers)"
   ]
  },
  {
   "cell_type": "code",
   "execution_count": 41,
   "metadata": {},
   "outputs": [
    {
     "name": "stderr",
     "output_type": "stream",
     "text": [
      "/anaconda3/lib/python3.6/site-packages/ipykernel_launcher.py:1: SettingWithCopyWarning: \n",
      "A value is trying to be set on a copy of a slice from a DataFrame.\n",
      "Try using .loc[row_indexer,col_indexer] = value instead\n",
      "\n",
      "See the caveats in the documentation: http://pandas.pydata.org/pandas-docs/stable/indexing.html#indexing-view-versus-copy\n",
      "  \"\"\"Entry point for launching an IPython kernel.\n"
     ]
    }
   ],
   "source": [
    "CaseStudy_ImmuneScore['Data'] = 'CaseStudy'"
   ]
  },
  {
   "cell_type": "code",
   "execution_count": 42,
   "metadata": {},
   "outputs": [],
   "source": [
    "CaseStudy_ImmuneScore['Colour'] = 'k'"
   ]
  },
  {
   "cell_type": "code",
   "execution_count": 43,
   "metadata": {},
   "outputs": [
    {
     "data": {
      "text/html": [
       "<div>\n",
       "<style scoped>\n",
       "    .dataframe tbody tr th:only-of-type {\n",
       "        vertical-align: middle;\n",
       "    }\n",
       "\n",
       "    .dataframe tbody tr th {\n",
       "        vertical-align: top;\n",
       "    }\n",
       "\n",
       "    .dataframe thead th {\n",
       "        text-align: right;\n",
       "    }\n",
       "</style>\n",
       "<table border=\"1\" class=\"dataframe\">\n",
       "  <thead>\n",
       "    <tr style=\"text-align: right;\">\n",
       "      <th>NAME</th>\n",
       "      <th>ImmuneScore</th>\n",
       "      <th>Site</th>\n",
       "      <th>Site_marker</th>\n",
       "      <th>Data</th>\n",
       "      <th>Colour</th>\n",
       "    </tr>\n",
       "  </thead>\n",
       "  <tbody>\n",
       "    <tr>\n",
       "      <th>liver</th>\n",
       "      <td>678.327109</td>\n",
       "      <td>other</td>\n",
       "      <td>s</td>\n",
       "      <td>CaseStudy</td>\n",
       "      <td>k</td>\n",
       "    </tr>\n",
       "    <tr>\n",
       "      <th>primary</th>\n",
       "      <td>128.425490</td>\n",
       "      <td>ovary</td>\n",
       "      <td>o</td>\n",
       "      <td>CaseStudy</td>\n",
       "      <td>k</td>\n",
       "    </tr>\n",
       "    <tr>\n",
       "      <th>ruq</th>\n",
       "      <td>1023.109208</td>\n",
       "      <td>other</td>\n",
       "      <td>s</td>\n",
       "      <td>CaseStudy</td>\n",
       "      <td>k</td>\n",
       "    </tr>\n",
       "    <tr>\n",
       "      <th>spleen</th>\n",
       "      <td>1186.727065</td>\n",
       "      <td>other</td>\n",
       "      <td>s</td>\n",
       "      <td>CaseStudy</td>\n",
       "      <td>k</td>\n",
       "    </tr>\n",
       "    <tr>\n",
       "      <th>vagcuff</th>\n",
       "      <td>356.856246</td>\n",
       "      <td>other</td>\n",
       "      <td>s</td>\n",
       "      <td>CaseStudy</td>\n",
       "      <td>k</td>\n",
       "    </tr>\n",
       "  </tbody>\n",
       "</table>\n",
       "</div>"
      ],
      "text/plain": [
       "NAME     ImmuneScore   Site Site_marker       Data Colour\n",
       "liver     678.327109  other           s  CaseStudy      k\n",
       "primary   128.425490  ovary           o  CaseStudy      k\n",
       "ruq      1023.109208  other           s  CaseStudy      k\n",
       "spleen   1186.727065  other           s  CaseStudy      k\n",
       "vagcuff   356.856246  other           s  CaseStudy      k"
      ]
     },
     "execution_count": 43,
     "metadata": {},
     "output_type": "execute_result"
    }
   ],
   "source": [
    "CaseStudy_ImmuneScore.head()"
   ]
  },
  {
   "cell_type": "markdown",
   "metadata": {},
   "source": [
    "## Merge TCGA_OV, TxNaive, and Case Study"
   ]
  },
  {
   "cell_type": "code",
   "execution_count": 44,
   "metadata": {},
   "outputs": [
    {
     "data": {
      "text/html": [
       "<div>\n",
       "<style scoped>\n",
       "    .dataframe tbody tr th:only-of-type {\n",
       "        vertical-align: middle;\n",
       "    }\n",
       "\n",
       "    .dataframe tbody tr th {\n",
       "        vertical-align: top;\n",
       "    }\n",
       "\n",
       "    .dataframe thead th {\n",
       "        text-align: right;\n",
       "    }\n",
       "</style>\n",
       "<table border=\"1\" class=\"dataframe\">\n",
       "  <thead>\n",
       "    <tr style=\"text-align: right;\">\n",
       "      <th>NAME</th>\n",
       "      <th>ImmuneScore</th>\n",
       "      <th>Site</th>\n",
       "      <th>Site_marker</th>\n",
       "      <th>Data</th>\n",
       "      <th>Colour</th>\n",
       "    </tr>\n",
       "  </thead>\n",
       "  <tbody>\n",
       "    <tr>\n",
       "      <th>liver</th>\n",
       "      <td>678.327109</td>\n",
       "      <td>other</td>\n",
       "      <td>s</td>\n",
       "      <td>CaseStudy</td>\n",
       "      <td>k</td>\n",
       "    </tr>\n",
       "    <tr>\n",
       "      <th>primary</th>\n",
       "      <td>128.425490</td>\n",
       "      <td>ovary</td>\n",
       "      <td>o</td>\n",
       "      <td>CaseStudy</td>\n",
       "      <td>k</td>\n",
       "    </tr>\n",
       "    <tr>\n",
       "      <th>ruq</th>\n",
       "      <td>1023.109208</td>\n",
       "      <td>other</td>\n",
       "      <td>s</td>\n",
       "      <td>CaseStudy</td>\n",
       "      <td>k</td>\n",
       "    </tr>\n",
       "    <tr>\n",
       "      <th>spleen</th>\n",
       "      <td>1186.727065</td>\n",
       "      <td>other</td>\n",
       "      <td>s</td>\n",
       "      <td>CaseStudy</td>\n",
       "      <td>k</td>\n",
       "    </tr>\n",
       "    <tr>\n",
       "      <th>vagcuff</th>\n",
       "      <td>356.856246</td>\n",
       "      <td>other</td>\n",
       "      <td>s</td>\n",
       "      <td>CaseStudy</td>\n",
       "      <td>k</td>\n",
       "    </tr>\n",
       "  </tbody>\n",
       "</table>\n",
       "</div>"
      ],
      "text/plain": [
       "NAME     ImmuneScore   Site Site_marker       Data Colour\n",
       "liver     678.327109  other           s  CaseStudy      k\n",
       "primary   128.425490  ovary           o  CaseStudy      k\n",
       "ruq      1023.109208  other           s  CaseStudy      k\n",
       "spleen   1186.727065  other           s  CaseStudy      k\n",
       "vagcuff   356.856246  other           s  CaseStudy      k"
      ]
     },
     "execution_count": 44,
     "metadata": {},
     "output_type": "execute_result"
    }
   ],
   "source": [
    "CaseStudy_ImmuneScore.head()"
   ]
  },
  {
   "cell_type": "code",
   "execution_count": 45,
   "metadata": {},
   "outputs": [
    {
     "data": {
      "text/html": [
       "<div>\n",
       "<style scoped>\n",
       "    .dataframe tbody tr th:only-of-type {\n",
       "        vertical-align: middle;\n",
       "    }\n",
       "\n",
       "    .dataframe tbody tr th {\n",
       "        vertical-align: top;\n",
       "    }\n",
       "\n",
       "    .dataframe thead th {\n",
       "        text-align: right;\n",
       "    }\n",
       "</style>\n",
       "<table border=\"1\" class=\"dataframe\">\n",
       "  <thead>\n",
       "    <tr style=\"text-align: right;\">\n",
       "      <th></th>\n",
       "      <th>ImmuneScore</th>\n",
       "      <th>Site</th>\n",
       "      <th>Site_marker</th>\n",
       "      <th>Data</th>\n",
       "      <th>Colour</th>\n",
       "    </tr>\n",
       "  </thead>\n",
       "  <tbody>\n",
       "    <tr>\n",
       "      <th>TCGA-04-1348</th>\n",
       "      <td>829.829565</td>\n",
       "      <td>ovary</td>\n",
       "      <td>o</td>\n",
       "      <td>TCGA_OV</td>\n",
       "      <td>grey</td>\n",
       "    </tr>\n",
       "    <tr>\n",
       "      <th>TCGA-04-1357</th>\n",
       "      <td>1743.313601</td>\n",
       "      <td>ovary</td>\n",
       "      <td>o</td>\n",
       "      <td>TCGA_OV</td>\n",
       "      <td>grey</td>\n",
       "    </tr>\n",
       "    <tr>\n",
       "      <th>TCGA-04-1362</th>\n",
       "      <td>-395.854756</td>\n",
       "      <td>ovary</td>\n",
       "      <td>o</td>\n",
       "      <td>TCGA_OV</td>\n",
       "      <td>grey</td>\n",
       "    </tr>\n",
       "    <tr>\n",
       "      <th>TCGA-04-1364</th>\n",
       "      <td>-1748.400131</td>\n",
       "      <td>ovary</td>\n",
       "      <td>o</td>\n",
       "      <td>TCGA_OV</td>\n",
       "      <td>grey</td>\n",
       "    </tr>\n",
       "    <tr>\n",
       "      <th>TCGA-04-1365</th>\n",
       "      <td>497.225037</td>\n",
       "      <td>ovary</td>\n",
       "      <td>o</td>\n",
       "      <td>TCGA_OV</td>\n",
       "      <td>grey</td>\n",
       "    </tr>\n",
       "  </tbody>\n",
       "</table>\n",
       "</div>"
      ],
      "text/plain": [
       "              ImmuneScore   Site Site_marker     Data Colour\n",
       "TCGA-04-1348   829.829565  ovary           o  TCGA_OV   grey\n",
       "TCGA-04-1357  1743.313601  ovary           o  TCGA_OV   grey\n",
       "TCGA-04-1362  -395.854756  ovary           o  TCGA_OV   grey\n",
       "TCGA-04-1364 -1748.400131  ovary           o  TCGA_OV   grey\n",
       "TCGA-04-1365   497.225037  ovary           o  TCGA_OV   grey"
      ]
     },
     "execution_count": 45,
     "metadata": {},
     "output_type": "execute_result"
    }
   ],
   "source": [
    "TCGAov_ImmuneScore.head()"
   ]
  },
  {
   "cell_type": "code",
   "execution_count": 46,
   "metadata": {},
   "outputs": [
    {
     "data": {
      "text/html": [
       "<div>\n",
       "<style scoped>\n",
       "    .dataframe tbody tr th:only-of-type {\n",
       "        vertical-align: middle;\n",
       "    }\n",
       "\n",
       "    .dataframe tbody tr th {\n",
       "        vertical-align: top;\n",
       "    }\n",
       "\n",
       "    .dataframe thead th {\n",
       "        text-align: right;\n",
       "    }\n",
       "</style>\n",
       "<table border=\"1\" class=\"dataframe\">\n",
       "  <thead>\n",
       "    <tr style=\"text-align: right;\">\n",
       "      <th></th>\n",
       "      <th>ImmuneScore</th>\n",
       "      <th>Data</th>\n",
       "      <th>Site</th>\n",
       "      <th>Colour</th>\n",
       "      <th>Site_marker</th>\n",
       "    </tr>\n",
       "    <tr>\n",
       "      <th>Well</th>\n",
       "      <th></th>\n",
       "      <th></th>\n",
       "      <th></th>\n",
       "      <th></th>\n",
       "      <th></th>\n",
       "    </tr>\n",
       "  </thead>\n",
       "  <tbody>\n",
       "    <tr>\n",
       "      <th>A01</th>\n",
       "      <td>789.397143</td>\n",
       "      <td>10</td>\n",
       "      <td>omentum</td>\n",
       "      <td>#ff7f00</td>\n",
       "      <td>^</td>\n",
       "    </tr>\n",
       "    <tr>\n",
       "      <th>A02</th>\n",
       "      <td>1103.963967</td>\n",
       "      <td>10</td>\n",
       "      <td>omentum</td>\n",
       "      <td>#ff7f00</td>\n",
       "      <td>^</td>\n",
       "    </tr>\n",
       "    <tr>\n",
       "      <th>A03</th>\n",
       "      <td>996.569838</td>\n",
       "      <td>10</td>\n",
       "      <td>other</td>\n",
       "      <td>#ff7f00</td>\n",
       "      <td>s</td>\n",
       "    </tr>\n",
       "    <tr>\n",
       "      <th>A04</th>\n",
       "      <td>119.238243</td>\n",
       "      <td>10</td>\n",
       "      <td>ovary</td>\n",
       "      <td>#ff7f00</td>\n",
       "      <td>o</td>\n",
       "    </tr>\n",
       "    <tr>\n",
       "      <th>A05</th>\n",
       "      <td>354.124225</td>\n",
       "      <td>10</td>\n",
       "      <td>ovary</td>\n",
       "      <td>#ff7f00</td>\n",
       "      <td>o</td>\n",
       "    </tr>\n",
       "  </tbody>\n",
       "</table>\n",
       "</div>"
      ],
      "text/plain": [
       "      ImmuneScore  Data     Site   Colour Site_marker\n",
       "Well                                                 \n",
       "A01    789.397143    10  omentum  #ff7f00           ^\n",
       "A02   1103.963967    10  omentum  #ff7f00           ^\n",
       "A03    996.569838    10    other  #ff7f00           s\n",
       "A04    119.238243    10    ovary  #ff7f00           o\n",
       "A05    354.124225    10    ovary  #ff7f00           o"
      ]
     },
     "execution_count": 46,
     "metadata": {},
     "output_type": "execute_result"
    }
   ],
   "source": [
    "TxNaive_ImmuneScore.head()"
   ]
  },
  {
   "cell_type": "markdown",
   "metadata": {},
   "source": [
    "### Append dataframes"
   ]
  },
  {
   "cell_type": "code",
   "execution_count": 47,
   "metadata": {},
   "outputs": [
    {
     "name": "stderr",
     "output_type": "stream",
     "text": [
      "/anaconda3/lib/python3.6/site-packages/ipykernel_launcher.py:5: FutureWarning: Sorting because non-concatenation axis is not aligned. A future version\n",
      "of pandas will change to not sort by default.\n",
      "\n",
      "To accept the future behavior, pass 'sort=False'.\n",
      "\n",
      "To retain the current behavior and silence the warning, pass 'sort=True'.\n",
      "\n",
      "  \"\"\"\n"
     ]
    }
   ],
   "source": [
    "dfs = [CaseStudy_ImmuneScore,\n",
    "       TxNaive_ImmuneScore,\n",
    "       TCGAov_ImmuneScore]\n",
    "\n",
    "dfs = pd.concat(dfs)"
   ]
  },
  {
   "cell_type": "code",
   "execution_count": 48,
   "metadata": {},
   "outputs": [
    {
     "data": {
      "text/html": [
       "<div>\n",
       "<style scoped>\n",
       "    .dataframe tbody tr th:only-of-type {\n",
       "        vertical-align: middle;\n",
       "    }\n",
       "\n",
       "    .dataframe tbody tr th {\n",
       "        vertical-align: top;\n",
       "    }\n",
       "\n",
       "    .dataframe thead th {\n",
       "        text-align: right;\n",
       "    }\n",
       "</style>\n",
       "<table border=\"1\" class=\"dataframe\">\n",
       "  <thead>\n",
       "    <tr style=\"text-align: right;\">\n",
       "      <th></th>\n",
       "      <th>Colour</th>\n",
       "      <th>Data</th>\n",
       "      <th>ImmuneScore</th>\n",
       "      <th>Site</th>\n",
       "      <th>Site_marker</th>\n",
       "    </tr>\n",
       "  </thead>\n",
       "  <tbody>\n",
       "    <tr>\n",
       "      <th>liver</th>\n",
       "      <td>k</td>\n",
       "      <td>CaseStudy</td>\n",
       "      <td>678.327109</td>\n",
       "      <td>other</td>\n",
       "      <td>s</td>\n",
       "    </tr>\n",
       "    <tr>\n",
       "      <th>primary</th>\n",
       "      <td>k</td>\n",
       "      <td>CaseStudy</td>\n",
       "      <td>128.425490</td>\n",
       "      <td>ovary</td>\n",
       "      <td>o</td>\n",
       "    </tr>\n",
       "    <tr>\n",
       "      <th>ruq</th>\n",
       "      <td>k</td>\n",
       "      <td>CaseStudy</td>\n",
       "      <td>1023.109208</td>\n",
       "      <td>other</td>\n",
       "      <td>s</td>\n",
       "    </tr>\n",
       "    <tr>\n",
       "      <th>spleen</th>\n",
       "      <td>k</td>\n",
       "      <td>CaseStudy</td>\n",
       "      <td>1186.727065</td>\n",
       "      <td>other</td>\n",
       "      <td>s</td>\n",
       "    </tr>\n",
       "    <tr>\n",
       "      <th>vagcuff</th>\n",
       "      <td>k</td>\n",
       "      <td>CaseStudy</td>\n",
       "      <td>356.856246</td>\n",
       "      <td>other</td>\n",
       "      <td>s</td>\n",
       "    </tr>\n",
       "  </tbody>\n",
       "</table>\n",
       "</div>"
      ],
      "text/plain": [
       "        Colour       Data  ImmuneScore   Site Site_marker\n",
       "liver        k  CaseStudy   678.327109  other           s\n",
       "primary      k  CaseStudy   128.425490  ovary           o\n",
       "ruq          k  CaseStudy  1023.109208  other           s\n",
       "spleen       k  CaseStudy  1186.727065  other           s\n",
       "vagcuff      k  CaseStudy   356.856246  other           s"
      ]
     },
     "execution_count": 48,
     "metadata": {},
     "output_type": "execute_result"
    }
   ],
   "source": [
    "dfs.head()"
   ]
  },
  {
   "cell_type": "code",
   "execution_count": 49,
   "metadata": {},
   "outputs": [
    {
     "data": {
      "text/html": [
       "<div>\n",
       "<style scoped>\n",
       "    .dataframe tbody tr th:only-of-type {\n",
       "        vertical-align: middle;\n",
       "    }\n",
       "\n",
       "    .dataframe tbody tr th {\n",
       "        vertical-align: top;\n",
       "    }\n",
       "\n",
       "    .dataframe thead th {\n",
       "        text-align: right;\n",
       "    }\n",
       "</style>\n",
       "<table border=\"1\" class=\"dataframe\">\n",
       "  <thead>\n",
       "    <tr style=\"text-align: right;\">\n",
       "      <th></th>\n",
       "      <th>Colour</th>\n",
       "      <th>Data</th>\n",
       "      <th>ImmuneScore</th>\n",
       "      <th>Site</th>\n",
       "      <th>Site_marker</th>\n",
       "    </tr>\n",
       "  </thead>\n",
       "  <tbody>\n",
       "    <tr>\n",
       "      <th>TCGA-61-2113</th>\n",
       "      <td>grey</td>\n",
       "      <td>TCGA_OV</td>\n",
       "      <td>273.545678</td>\n",
       "      <td>ovary</td>\n",
       "      <td>o</td>\n",
       "    </tr>\n",
       "    <tr>\n",
       "      <th>TCGA-OY-A56P</th>\n",
       "      <td>grey</td>\n",
       "      <td>TCGA_OV</td>\n",
       "      <td>-1827.914462</td>\n",
       "      <td>ovary</td>\n",
       "      <td>o</td>\n",
       "    </tr>\n",
       "    <tr>\n",
       "      <th>TCGA-OY-A56Q</th>\n",
       "      <td>grey</td>\n",
       "      <td>TCGA_OV</td>\n",
       "      <td>-1888.738012</td>\n",
       "      <td>ovary</td>\n",
       "      <td>o</td>\n",
       "    </tr>\n",
       "    <tr>\n",
       "      <th>TCGA-VG-A8LO</th>\n",
       "      <td>grey</td>\n",
       "      <td>TCGA_OV</td>\n",
       "      <td>-1189.501000</td>\n",
       "      <td>ovary</td>\n",
       "      <td>o</td>\n",
       "    </tr>\n",
       "    <tr>\n",
       "      <th>TCGA-WR-A838</th>\n",
       "      <td>grey</td>\n",
       "      <td>TCGA_OV</td>\n",
       "      <td>-1649.636238</td>\n",
       "      <td>ovary</td>\n",
       "      <td>o</td>\n",
       "    </tr>\n",
       "  </tbody>\n",
       "</table>\n",
       "</div>"
      ],
      "text/plain": [
       "             Colour     Data  ImmuneScore   Site Site_marker\n",
       "TCGA-61-2113   grey  TCGA_OV   273.545678  ovary           o\n",
       "TCGA-OY-A56P   grey  TCGA_OV -1827.914462  ovary           o\n",
       "TCGA-OY-A56Q   grey  TCGA_OV -1888.738012  ovary           o\n",
       "TCGA-VG-A8LO   grey  TCGA_OV -1189.501000  ovary           o\n",
       "TCGA-WR-A838   grey  TCGA_OV -1649.636238  ovary           o"
      ]
     },
     "execution_count": 49,
     "metadata": {},
     "output_type": "execute_result"
    }
   ],
   "source": [
    "dfs.tail()"
   ]
  },
  {
   "cell_type": "code",
   "execution_count": 50,
   "metadata": {},
   "outputs": [
    {
     "data": {
      "text/plain": [
       "350"
      ]
     },
     "execution_count": 50,
     "metadata": {},
     "output_type": "execute_result"
    }
   ],
   "source": [
    "len(dfs)"
   ]
  },
  {
   "cell_type": "code",
   "execution_count": 51,
   "metadata": {},
   "outputs": [
    {
     "data": {
      "text/plain": [
       "-71.81636840131459"
      ]
     },
     "execution_count": 51,
     "metadata": {},
     "output_type": "execute_result"
    }
   ],
   "source": [
    "dfs[dfs.Data == 'TCGA_OV'].median()[0]"
   ]
  },
  {
   "cell_type": "code",
   "execution_count": 52,
   "metadata": {},
   "outputs": [
    {
     "data": {
      "text/plain": [
       "678.327108792188"
      ]
     },
     "execution_count": 52,
     "metadata": {},
     "output_type": "execute_result"
    }
   ],
   "source": [
    "dfs[dfs.Data == 'CaseStudy'].median()[0]"
   ]
  },
  {
   "cell_type": "code",
   "execution_count": 53,
   "metadata": {},
   "outputs": [],
   "source": [
    "medians = []\n",
    "for data in set(dfs.Data):\n",
    "    \n",
    "    if data not in ['TCGA_OV','CaseStudy']:\n",
    "    \n",
    "        med = dfs[dfs.Data == data].median()[0]\n",
    "    \n",
    "        medians.append((data, med))"
   ]
  },
  {
   "cell_type": "code",
   "execution_count": 54,
   "metadata": {},
   "outputs": [
    {
     "data": {
      "text/plain": [
       "[(6, -432.348262094897),\n",
       " (16, -18.4425285896238),\n",
       " (4, -17.4125652680702),\n",
       " (1, 122.63576851115351),\n",
       " (5, 211.3452727641485),\n",
       " (10, 571.7606839574751),\n",
       " (13, 638.447734197535),\n",
       " (17, 776.29663768968)]"
      ]
     },
     "execution_count": 54,
     "metadata": {},
     "output_type": "execute_result"
    }
   ],
   "source": [
    "sorted_medians = sorted(medians, key=lambda x: x[1])\n",
    "sorted_medians"
   ]
  },
  {
   "cell_type": "code",
   "execution_count": 55,
   "metadata": {},
   "outputs": [
    {
     "data": {
      "text/plain": [
       "[6, 16, 4, 1, 5, 10, 13, 17]"
      ]
     },
     "execution_count": 55,
     "metadata": {},
     "output_type": "execute_result"
    }
   ],
   "source": [
    "sorted_samples = [sample[0] for sample in sorted_medians]\n",
    "sorted_samples"
   ]
  },
  {
   "cell_type": "code",
   "execution_count": 56,
   "metadata": {},
   "outputs": [
    {
     "data": {
      "text/plain": [
       "['TCGA_OV', 6, 16, 4, 1, 5, 10, 13, 17, 'CaseStudy']"
      ]
     },
     "execution_count": 56,
     "metadata": {},
     "output_type": "execute_result"
    }
   ],
   "source": [
    "order = ['TCGA_OV']+sorted_samples+['CaseStudy']\n",
    "order"
   ]
  },
  {
   "cell_type": "markdown",
   "metadata": {},
   "source": [
    "## Boxplots"
   ]
  },
  {
   "cell_type": "code",
   "execution_count": 57,
   "metadata": {},
   "outputs": [
    {
     "data": {
      "text/plain": [
       "<matplotlib.axes._subplots.AxesSubplot at 0x1a1b54e518>"
      ]
     },
     "execution_count": 57,
     "metadata": {},
     "output_type": "execute_result"
    },
    {
     "data": {
      "image/png": "[encoded data removed]",
      "text/plain": [
       "<Figure size 504x504 with 1 Axes>"
      ]
     },
     "metadata": {},
     "output_type": "display_data"
    }
   ],
   "source": [
    "fig = plt.figure(figsize=(7,7))\n",
    "\n",
    "sns.boxplot(x='Data',\n",
    "            y='ImmuneScore',\n",
    "            data=dfs,\n",
    "            color='white',\n",
    "            order=order)\n",
    "\n",
    "sns.swarmplot(x='Data',\n",
    "              y='ImmuneScore',\n",
    "              data=dfs,\n",
    "              order=order,\n",
    "              hue='Site')"
   ]
  },
  {
   "cell_type": "code",
   "execution_count": 58,
   "metadata": {},
   "outputs": [
    {
     "data": {
      "text/plain": [
       "TCGA_OV      307\n",
       "10             6\n",
       "CaseStudy      5\n",
       "17             5\n",
       "16             5\n",
       "13             5\n",
       "4              5\n",
       "6              4\n",
       "5              4\n",
       "1              4\n",
       "Name: Data, dtype: int64"
      ]
     },
     "execution_count": 58,
     "metadata": {},
     "output_type": "execute_result"
    }
   ],
   "source": [
    "dfs[\"Data\"].value_counts()"
   ]
  },
  {
   "cell_type": "markdown",
   "metadata": {},
   "source": [
    "##### Change colours and markers in illustrator"
   ]
  },
  {
   "cell_type": "markdown",
   "metadata": {},
   "source": [
    "### Save plot"
   ]
  },
  {
   "cell_type": "code",
   "execution_count": 59,
   "metadata": {},
   "outputs": [
    {
     "name": "stdout",
     "output_type": "stream",
     "text": [
      "OVCT_Fig_m1.pdf  OVCT_Fig_m1.png  README.md        \u001b[34mpanels\u001b[m\u001b[m/\r\n"
     ]
    }
   ],
   "source": [
    "ls ../../Figures/main/1/"
   ]
  },
  {
   "cell_type": "code",
   "execution_count": 61,
   "metadata": {},
   "outputs": [],
   "source": [
    "FILE = \"../../Figures/main/1/panels/1f_TreatmentNaive_ImmuneScores.pdf\"\n",
    "\n",
    "fig.savefig(FILE, bbox='tight')"
   ]
  },
  {
   "cell_type": "markdown",
   "metadata": {},
   "source": [
    "# End script"
   ]
  }
 ],
 "metadata": {
  "kernelspec": {
   "display_name": "Python 3",
   "language": "python",
   "name": "python3"
  },
  "language_info": {
   "codemirror_mode": {
    "name": "ipython",
    "version": 3
   },
   "file_extension": ".py",
   "mimetype": "text/x-python",
   "name": "python",
   "nbconvert_exporter": "python",
   "pygments_lexer": "ipython3",
   "version": "3.6.8"
  }
 },
 "nbformat": 4,
 "nbformat_minor": 2
}

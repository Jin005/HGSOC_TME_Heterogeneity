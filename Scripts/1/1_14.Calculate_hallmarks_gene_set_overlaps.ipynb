{
 "cells": [
  {
   "cell_type": "markdown",
   "metadata": {},
   "source": [
    "# Calculate hallmark gene set overlaps"
   ]
  },
  {
   "cell_type": "markdown",
   "metadata": {},
   "source": [
    "Script related to figure s1f\n",
    "\n",
    "### Aim:\n",
    "- Calculate clustermap of hallmark gene set overlaps"
   ]
  },
  {
   "cell_type": "code",
   "execution_count": 1,
   "metadata": {},
   "outputs": [
    {
     "data": {
      "text/plain": [
       "R version 3.5.0 (2018-04-23)\n",
       "Platform: x86_64-apple-darwin15.6.0 (64-bit)\n",
       "Running under: macOS High Sierra 10.13.6\n",
       "\n",
       "Matrix products: default\n",
       "BLAS: /Library/Frameworks/R.framework/Versions/3.5/Resources/lib/libRblas.0.dylib\n",
       "LAPACK: /Library/Frameworks/R.framework/Versions/3.5/Resources/lib/libRlapack.dylib\n",
       "\n",
       "locale:\n",
       "[1] C/UTF-8/C/C/C/C\n",
       "\n",
       "attached base packages:\n",
       "[1] stats     graphics  grDevices utils     datasets  methods   base     \n",
       "\n",
       "loaded via a namespace (and not attached):\n",
       " [1] compiler_3.5.0  IRdisplay_0.6.1 pbdZMQ_0.3-3    tools_3.5.0    \n",
       " [5] htmltools_0.3.6 base64enc_0.1-3 crayon_1.3.4    Rcpp_1.0.1     \n",
       " [9] uuid_0.1-2      IRkernel_0.8.14 jsonlite_1.6    digest_0.6.18  \n",
       "[13] repr_0.17       evaluate_0.13  "
      ]
     },
     "metadata": {},
     "output_type": "display_data"
    }
   ],
   "source": [
    "sessionInfo()"
   ]
  },
  {
   "cell_type": "markdown",
   "metadata": {},
   "source": [
    "## Load packages"
   ]
  },
  {
   "cell_type": "code",
   "execution_count": 2,
   "metadata": {},
   "outputs": [
    {
     "name": "stderr",
     "output_type": "stream",
     "text": [
      "Warning message:\n",
      "“package ‘GSVA’ was built under R version 3.5.1”\n",
      "Attaching package: ‘BBmisc’\n",
      "\n",
      "The following object is masked from ‘package:base’:\n",
      "\n",
      "    isFALSE\n",
      "\n"
     ]
    }
   ],
   "source": [
    "library(GSVA)\n",
    "library(BBmisc)"
   ]
  },
  {
   "cell_type": "code",
   "execution_count": 3,
   "metadata": {},
   "outputs": [],
   "source": [
    "setwd(\"~/git_repos/HGSOC_TME_Heterogeneity/Scripts/1/\")"
   ]
  },
  {
   "cell_type": "markdown",
   "metadata": {},
   "source": [
    "## Load hallmark gene sets"
   ]
  },
  {
   "cell_type": "code",
   "execution_count": 4,
   "metadata": {},
   "outputs": [],
   "source": [
    "Hallmark_geneSets <- read.csv(\"~/git_repos/HGSOC_TME_Heterogeneity/Data/1/HallmarksStromaImmune_GeneSets.txt\",\n",
    "                              sep='\\t',\n",
    "                              header=F,\n",
    "                              row.names=1)"
   ]
  },
  {
   "cell_type": "code",
   "execution_count": 5,
   "metadata": {},
   "outputs": [
    {
     "data": {
      "text/html": [
       "<table>\n",
       "<thead><tr><th></th><th scope=col>V2</th><th scope=col>V3</th><th scope=col>V4</th><th scope=col>V5</th><th scope=col>V6</th><th scope=col>V7</th><th scope=col>V8</th><th scope=col>V9</th><th scope=col>V10</th><th scope=col>V11</th><th scope=col>⋯</th><th scope=col>V193</th><th scope=col>V194</th><th scope=col>V195</th><th scope=col>V196</th><th scope=col>V197</th><th scope=col>V198</th><th scope=col>V199</th><th scope=col>V200</th><th scope=col>V201</th><th scope=col>V202</th></tr></thead>\n",
       "<tbody>\n",
       "\t<tr><th scope=row>HALLMARK_TNFA_SIGNALING_VIA_NFKB</th><td>http://www.broadinstitute.org/gsea/msigdb/cards/HALLMARK_TNFA_SIGNALING_VIA_NFKB   </td><td>JUNB                                                                               </td><td>CXCL2                                                                              </td><td>ATF3                                                                               </td><td>NFKBIA                                                                             </td><td>TNFAIP3                                                                            </td><td>PTGS2                                                                              </td><td>CXCL1                                                                              </td><td>IER3                                                                               </td><td>CD83                                                                               </td><td>⋯                                                                                  </td><td>EIF1                                                                               </td><td>BMP2                                                                               </td><td>DUSP4                                                                              </td><td>PDLIM5                                                                             </td><td>ICOSLG                                                                             </td><td>GFPT2                                                                              </td><td>KLF2                                                                               </td><td>TNC                                                                                </td><td>SERPINB8                                                                           </td><td>MXD1                                                                               </td></tr>\n",
       "\t<tr><th scope=row>HALLMARK_HYPOXIA</th><td>http://www.broadinstitute.org/gsea/msigdb/cards/HALLMARK_HYPOXIA                   </td><td>PGK1                                                                               </td><td>PDK1                                                                               </td><td>GBE1                                                                               </td><td>PFKL                                                                               </td><td>ALDOA                                                                              </td><td>ENO2                                                                               </td><td>PGM1                                                                               </td><td>NDRG1                                                                              </td><td>HK2                                                                                </td><td>⋯                                                                                  </td><td>HDLBP                                                                              </td><td>ILVBL                                                                              </td><td>NCAN                                                                               </td><td>TGM2                                                                               </td><td>ETS1                                                                               </td><td>HOXB9                                                                              </td><td>SELENBP1                                                                           </td><td>FOSL2                                                                              </td><td>SULT2B1                                                                            </td><td>TGFB3                                                                              </td></tr>\n",
       "\t<tr><th scope=row>HALLMARK_CHOLESTEROL_HOMEOSTASIS</th><td>http://www.broadinstitute.org/gsea/msigdb/cards/HALLMARK_CHOLESTEROL_HOMEOSTASIS   </td><td>FDPS                                                                               </td><td>CYP51A1                                                                            </td><td>IDI1                                                                               </td><td>FDFT1                                                                              </td><td>DHCR7                                                                              </td><td>SQLE                                                                               </td><td>HMGCS1                                                                             </td><td>NSDHL                                                                              </td><td>LSS                                                                                </td><td>⋯                                                                                  </td><td>                                                                                   </td><td>                                                                                   </td><td>                                                                                   </td><td>                                                                                   </td><td>                                                                                   </td><td>                                                                                   </td><td>                                                                                   </td><td>                                                                                   </td><td>                                                                                   </td><td>                                                                                   </td></tr>\n",
       "\t<tr><th scope=row>HALLMARK_MITOTIC_SPINDLE</th><td>http://www.broadinstitute.org/gsea/msigdb/cards/HALLMARK_MITOTIC_SPINDLE           </td><td>ARHGEF2                                                                            </td><td>CLASP1                                                                             </td><td>KIF11                                                                              </td><td>KIF23                                                                              </td><td>ALS2                                                                               </td><td>ARF6                                                                               </td><td>MYO9B                                                                              </td><td>MYH9                                                                               </td><td>TUBGCP3                                                                            </td><td>⋯                                                                                  </td><td>RHOT2                                                                              </td><td>SORBS2                                                                             </td><td>CDC42EP1                                                                           </td><td>VCL                                                                                </td><td>CLIP1                                                                              </td><td>STK38L                                                                             </td><td>YWHAE                                                                              </td><td>RAPGEF5                                                                            </td><td>CEP72                                                                              </td><td>CSNK1D                                                                             </td></tr>\n",
       "\t<tr><th scope=row>HALLMARK_WNT_BETA_CATENIN_SIGNALING</th><td>http://www.broadinstitute.org/gsea/msigdb/cards/HALLMARK_WNT_BETA_CATENIN_SIGNALING</td><td>MYC                                                                                </td><td>CTNNB1                                                                             </td><td>JAG2                                                                               </td><td>NOTCH1                                                                             </td><td>DLL1                                                                               </td><td>AXIN2                                                                              </td><td>PSEN2                                                                              </td><td>FZD1                                                                               </td><td>NOTCH4                                                                             </td><td>⋯                                                                                  </td><td>                                                                                   </td><td>                                                                                   </td><td>                                                                                   </td><td>                                                                                   </td><td>                                                                                   </td><td>                                                                                   </td><td>                                                                                   </td><td>                                                                                   </td><td>                                                                                   </td><td>                                                                                   </td></tr>\n",
       "\t<tr><th scope=row>HALLMARK_TGF_BETA_SIGNALING</th><td>http://www.broadinstitute.org/gsea/msigdb/cards/HALLMARK_TGF_BETA_SIGNALING        </td><td>TGFBR1                                                                             </td><td>SMAD7                                                                              </td><td>TGFB1                                                                              </td><td>SMURF2                                                                             </td><td>SMURF1                                                                             </td><td>BMPR2                                                                              </td><td>SKIL                                                                               </td><td>SKI                                                                                </td><td>ACVR1                                                                              </td><td>⋯                                                                                  </td><td>                                                                                   </td><td>                                                                                   </td><td>                                                                                   </td><td>                                                                                   </td><td>                                                                                   </td><td>                                                                                   </td><td>                                                                                   </td><td>                                                                                   </td><td>                                                                                   </td><td>                                                                                   </td></tr>\n",
       "</tbody>\n",
       "</table>\n"
      ],
      "text/latex": [
       "\\begin{tabular}{r|lllllllllllllllllllllllllllllllllllllllllllllllllllllllllllllllllllllllllllllllllllllllllllllllllllllllllllllllllllllllllllllllllllllllllllllllllllllllllllllllllllllllllllllllllllllllllllllllllllllllll}\n",
       "  & V2 & V3 & V4 & V5 & V6 & V7 & V8 & V9 & V10 & V11 & ⋯ & V193 & V194 & V195 & V196 & V197 & V198 & V199 & V200 & V201 & V202\\\\\n",
       "\\hline\n",
       "\tHALLMARK\\_TNFA\\_SIGNALING\\_VIA\\_NFKB & http://www.broadinstitute.org/gsea/msigdb/cards/HALLMARK\\_TNFA\\_SIGNALING\\_VIA\\_NFKB    & JUNB                                                                                        & CXCL2                                                                                       & ATF3                                                                                        & NFKBIA                                                                                      & TNFAIP3                                                                                     & PTGS2                                                                                       & CXCL1                                                                                       & IER3                                                                                        & CD83                                                                                        & ⋯                                                                                           & EIF1                                                                                        & BMP2                                                                                        & DUSP4                                                                                       & PDLIM5                                                                                      & ICOSLG                                                                                      & GFPT2                                                                                       & KLF2                                                                                        & TNC                                                                                         & SERPINB8                                                                                    & MXD1                                                                                       \\\\\n",
       "\tHALLMARK\\_HYPOXIA & http://www.broadinstitute.org/gsea/msigdb/cards/HALLMARK\\_HYPOXIA                    & PGK1                                                                                  & PDK1                                                                                  & GBE1                                                                                  & PFKL                                                                                  & ALDOA                                                                                 & ENO2                                                                                  & PGM1                                                                                  & NDRG1                                                                                 & HK2                                                                                   & ⋯                                                                                     & HDLBP                                                                                 & ILVBL                                                                                 & NCAN                                                                                  & TGM2                                                                                  & ETS1                                                                                  & HOXB9                                                                                 & SELENBP1                                                                              & FOSL2                                                                                 & SULT2B1                                                                               & TGFB3                                                                                \\\\\n",
       "\tHALLMARK\\_CHOLESTEROL\\_HOMEOSTASIS & http://www.broadinstitute.org/gsea/msigdb/cards/HALLMARK\\_CHOLESTEROL\\_HOMEOSTASIS    & FDPS                                                                                    & CYP51A1                                                                                 & IDI1                                                                                    & FDFT1                                                                                   & DHCR7                                                                                   & SQLE                                                                                    & HMGCS1                                                                                  & NSDHL                                                                                   & LSS                                                                                     & ⋯                                                                                       &                                                                                         &                                                                                         &                                                                                         &                                                                                         &                                                                                         &                                                                                         &                                                                                         &                                                                                         &                                                                                         &                                                                                        \\\\\n",
       "\tHALLMARK\\_MITOTIC\\_SPINDLE & http://www.broadinstitute.org/gsea/msigdb/cards/HALLMARK\\_MITOTIC\\_SPINDLE            & ARHGEF2                                                                                 & CLASP1                                                                                  & KIF11                                                                                   & KIF23                                                                                   & ALS2                                                                                    & ARF6                                                                                    & MYO9B                                                                                   & MYH9                                                                                    & TUBGCP3                                                                                 & ⋯                                                                                       & RHOT2                                                                                   & SORBS2                                                                                  & CDC42EP1                                                                                & VCL                                                                                     & CLIP1                                                                                   & STK38L                                                                                  & YWHAE                                                                                   & RAPGEF5                                                                                 & CEP72                                                                                   & CSNK1D                                                                                 \\\\\n",
       "\tHALLMARK\\_WNT\\_BETA\\_CATENIN\\_SIGNALING & http://www.broadinstitute.org/gsea/msigdb/cards/HALLMARK\\_WNT\\_BETA\\_CATENIN\\_SIGNALING & MYC                                                                                         & CTNNB1                                                                                      & JAG2                                                                                        & NOTCH1                                                                                      & DLL1                                                                                        & AXIN2                                                                                       & PSEN2                                                                                       & FZD1                                                                                        & NOTCH4                                                                                      & ⋯                                                                                           &                                                                                             &                                                                                             &                                                                                             &                                                                                             &                                                                                             &                                                                                             &                                                                                             &                                                                                             &                                                                                             &                                                                                            \\\\\n",
       "\tHALLMARK\\_TGF\\_BETA\\_SIGNALING & http://www.broadinstitute.org/gsea/msigdb/cards/HALLMARK\\_TGF\\_BETA\\_SIGNALING         & TGFBR1                                                                                    & SMAD7                                                                                     & TGFB1                                                                                     & SMURF2                                                                                    & SMURF1                                                                                    & BMPR2                                                                                     & SKIL                                                                                      & SKI                                                                                       & ACVR1                                                                                     & ⋯                                                                                         &                                                                                           &                                                                                           &                                                                                           &                                                                                           &                                                                                           &                                                                                           &                                                                                           &                                                                                           &                                                                                           &                                                                                          \\\\\n",
       "\\end{tabular}\n"
      ],
      "text/markdown": [
       "\n",
       "| <!--/--> | V2 | V3 | V4 | V5 | V6 | V7 | V8 | V9 | V10 | V11 | ⋯ | V193 | V194 | V195 | V196 | V197 | V198 | V199 | V200 | V201 | V202 | \n",
       "|---|---|---|---|---|---|\n",
       "| HALLMARK_TNFA_SIGNALING_VIA_NFKB | http://www.broadinstitute.org/gsea/msigdb/cards/HALLMARK_TNFA_SIGNALING_VIA_NFKB    | JUNB                                                                                | CXCL2                                                                               | ATF3                                                                                | NFKBIA                                                                              | TNFAIP3                                                                             | PTGS2                                                                               | CXCL1                                                                               | IER3                                                                                | CD83                                                                                | ⋯                                                                                   | EIF1                                                                                | BMP2                                                                                | DUSP4                                                                               | PDLIM5                                                                              | ICOSLG                                                                              | GFPT2                                                                               | KLF2                                                                                | TNC                                                                                 | SERPINB8                                                                            | MXD1                                                                                | \n",
       "| HALLMARK_HYPOXIA | http://www.broadinstitute.org/gsea/msigdb/cards/HALLMARK_HYPOXIA                    | PGK1                                                                                | PDK1                                                                                | GBE1                                                                                | PFKL                                                                                | ALDOA                                                                               | ENO2                                                                                | PGM1                                                                                | NDRG1                                                                               | HK2                                                                                 | ⋯                                                                                   | HDLBP                                                                               | ILVBL                                                                               | NCAN                                                                                | TGM2                                                                                | ETS1                                                                                | HOXB9                                                                               | SELENBP1                                                                            | FOSL2                                                                               | SULT2B1                                                                             | TGFB3                                                                               | \n",
       "| HALLMARK_CHOLESTEROL_HOMEOSTASIS | http://www.broadinstitute.org/gsea/msigdb/cards/HALLMARK_CHOLESTEROL_HOMEOSTASIS    | FDPS                                                                                | CYP51A1                                                                             | IDI1                                                                                | FDFT1                                                                               | DHCR7                                                                               | SQLE                                                                                | HMGCS1                                                                              | NSDHL                                                                               | LSS                                                                                 | ⋯                                                                                   |                                                                                     |                                                                                     |                                                                                     |                                                                                     |                                                                                     |                                                                                     |                                                                                     |                                                                                     |                                                                                     |                                                                                     | \n",
       "| HALLMARK_MITOTIC_SPINDLE | http://www.broadinstitute.org/gsea/msigdb/cards/HALLMARK_MITOTIC_SPINDLE            | ARHGEF2                                                                             | CLASP1                                                                              | KIF11                                                                               | KIF23                                                                               | ALS2                                                                                | ARF6                                                                                | MYO9B                                                                               | MYH9                                                                                | TUBGCP3                                                                             | ⋯                                                                                   | RHOT2                                                                               | SORBS2                                                                              | CDC42EP1                                                                            | VCL                                                                                 | CLIP1                                                                               | STK38L                                                                              | YWHAE                                                                               | RAPGEF5                                                                             | CEP72                                                                               | CSNK1D                                                                              | \n",
       "| HALLMARK_WNT_BETA_CATENIN_SIGNALING | http://www.broadinstitute.org/gsea/msigdb/cards/HALLMARK_WNT_BETA_CATENIN_SIGNALING | MYC                                                                                 | CTNNB1                                                                              | JAG2                                                                                | NOTCH1                                                                              | DLL1                                                                                | AXIN2                                                                               | PSEN2                                                                               | FZD1                                                                                | NOTCH4                                                                              | ⋯                                                                                   |                                                                                     |                                                                                     |                                                                                     |                                                                                     |                                                                                     |                                                                                     |                                                                                     |                                                                                     |                                                                                     |                                                                                     | \n",
       "| HALLMARK_TGF_BETA_SIGNALING | http://www.broadinstitute.org/gsea/msigdb/cards/HALLMARK_TGF_BETA_SIGNALING         | TGFBR1                                                                              | SMAD7                                                                               | TGFB1                                                                               | SMURF2                                                                              | SMURF1                                                                              | BMPR2                                                                               | SKIL                                                                                | SKI                                                                                 | ACVR1                                                                               | ⋯                                                                                   |                                                                                     |                                                                                     |                                                                                     |                                                                                     |                                                                                     |                                                                                     |                                                                                     |                                                                                     |                                                                                     |                                                                                     | \n",
       "\n",
       "\n"
      ],
      "text/plain": [
       "                                    V2                                                                                 \n",
       "HALLMARK_TNFA_SIGNALING_VIA_NFKB    http://www.broadinstitute.org/gsea/msigdb/cards/HALLMARK_TNFA_SIGNALING_VIA_NFKB   \n",
       "HALLMARK_HYPOXIA                    http://www.broadinstitute.org/gsea/msigdb/cards/HALLMARK_HYPOXIA                   \n",
       "HALLMARK_CHOLESTEROL_HOMEOSTASIS    http://www.broadinstitute.org/gsea/msigdb/cards/HALLMARK_CHOLESTEROL_HOMEOSTASIS   \n",
       "HALLMARK_MITOTIC_SPINDLE            http://www.broadinstitute.org/gsea/msigdb/cards/HALLMARK_MITOTIC_SPINDLE           \n",
       "HALLMARK_WNT_BETA_CATENIN_SIGNALING http://www.broadinstitute.org/gsea/msigdb/cards/HALLMARK_WNT_BETA_CATENIN_SIGNALING\n",
       "HALLMARK_TGF_BETA_SIGNALING         http://www.broadinstitute.org/gsea/msigdb/cards/HALLMARK_TGF_BETA_SIGNALING        \n",
       "                                    V3      V4      V5    V6     V7      V8   \n",
       "HALLMARK_TNFA_SIGNALING_VIA_NFKB    JUNB    CXCL2   ATF3  NFKBIA TNFAIP3 PTGS2\n",
       "HALLMARK_HYPOXIA                    PGK1    PDK1    GBE1  PFKL   ALDOA   ENO2 \n",
       "HALLMARK_CHOLESTEROL_HOMEOSTASIS    FDPS    CYP51A1 IDI1  FDFT1  DHCR7   SQLE \n",
       "HALLMARK_MITOTIC_SPINDLE            ARHGEF2 CLASP1  KIF11 KIF23  ALS2    ARF6 \n",
       "HALLMARK_WNT_BETA_CATENIN_SIGNALING MYC     CTNNB1  JAG2  NOTCH1 DLL1    AXIN2\n",
       "HALLMARK_TGF_BETA_SIGNALING         TGFBR1  SMAD7   TGFB1 SMURF2 SMURF1  BMPR2\n",
       "                                    V9     V10   V11     ⋯ V193  V194  \n",
       "HALLMARK_TNFA_SIGNALING_VIA_NFKB    CXCL1  IER3  CD83    ⋯ EIF1  BMP2  \n",
       "HALLMARK_HYPOXIA                    PGM1   NDRG1 HK2     ⋯ HDLBP ILVBL \n",
       "HALLMARK_CHOLESTEROL_HOMEOSTASIS    HMGCS1 NSDHL LSS     ⋯             \n",
       "HALLMARK_MITOTIC_SPINDLE            MYO9B  MYH9  TUBGCP3 ⋯ RHOT2 SORBS2\n",
       "HALLMARK_WNT_BETA_CATENIN_SIGNALING PSEN2  FZD1  NOTCH4  ⋯             \n",
       "HALLMARK_TGF_BETA_SIGNALING         SKIL   SKI   ACVR1   ⋯             \n",
       "                                    V195     V196   V197   V198   V199    \n",
       "HALLMARK_TNFA_SIGNALING_VIA_NFKB    DUSP4    PDLIM5 ICOSLG GFPT2  KLF2    \n",
       "HALLMARK_HYPOXIA                    NCAN     TGM2   ETS1   HOXB9  SELENBP1\n",
       "HALLMARK_CHOLESTEROL_HOMEOSTASIS                                          \n",
       "HALLMARK_MITOTIC_SPINDLE            CDC42EP1 VCL    CLIP1  STK38L YWHAE   \n",
       "HALLMARK_WNT_BETA_CATENIN_SIGNALING                                       \n",
       "HALLMARK_TGF_BETA_SIGNALING                                               \n",
       "                                    V200    V201     V202  \n",
       "HALLMARK_TNFA_SIGNALING_VIA_NFKB    TNC     SERPINB8 MXD1  \n",
       "HALLMARK_HYPOXIA                    FOSL2   SULT2B1  TGFB3 \n",
       "HALLMARK_CHOLESTEROL_HOMEOSTASIS                           \n",
       "HALLMARK_MITOTIC_SPINDLE            RAPGEF5 CEP72    CSNK1D\n",
       "HALLMARK_WNT_BETA_CATENIN_SIGNALING                        \n",
       "HALLMARK_TGF_BETA_SIGNALING                                "
      ]
     },
     "metadata": {},
     "output_type": "display_data"
    }
   ],
   "source": [
    "head(Hallmark_geneSets)"
   ]
  },
  {
   "cell_type": "markdown",
   "metadata": {},
   "source": [
    "### Remove website column"
   ]
  },
  {
   "cell_type": "code",
   "execution_count": 6,
   "metadata": {},
   "outputs": [],
   "source": [
    "Hallmark_geneSets <- Hallmark_geneSets[-1]"
   ]
  },
  {
   "cell_type": "code",
   "execution_count": 7,
   "metadata": {},
   "outputs": [
    {
     "data": {
      "text/html": [
       "<table>\n",
       "<thead><tr><th></th><th scope=col>V3</th><th scope=col>V4</th><th scope=col>V5</th><th scope=col>V6</th><th scope=col>V7</th><th scope=col>V8</th><th scope=col>V9</th><th scope=col>V10</th><th scope=col>V11</th><th scope=col>V12</th><th scope=col>⋯</th><th scope=col>V193</th><th scope=col>V194</th><th scope=col>V195</th><th scope=col>V196</th><th scope=col>V197</th><th scope=col>V198</th><th scope=col>V199</th><th scope=col>V200</th><th scope=col>V201</th><th scope=col>V202</th></tr></thead>\n",
       "<tbody>\n",
       "\t<tr><th scope=row>HALLMARK_TNFA_SIGNALING_VIA_NFKB</th><td>JUNB    </td><td>CXCL2   </td><td>ATF3    </td><td>NFKBIA  </td><td>TNFAIP3 </td><td>PTGS2   </td><td>CXCL1   </td><td>IER3    </td><td>CD83    </td><td>CCL20   </td><td>⋯       </td><td>EIF1    </td><td>BMP2    </td><td>DUSP4   </td><td>PDLIM5  </td><td>ICOSLG  </td><td>GFPT2   </td><td>KLF2    </td><td>TNC     </td><td>SERPINB8</td><td>MXD1    </td></tr>\n",
       "\t<tr><th scope=row>HALLMARK_HYPOXIA</th><td>PGK1    </td><td>PDK1    </td><td>GBE1    </td><td>PFKL    </td><td>ALDOA   </td><td>ENO2    </td><td>PGM1    </td><td>NDRG1   </td><td>HK2     </td><td>ALDOC   </td><td>⋯       </td><td>HDLBP   </td><td>ILVBL   </td><td>NCAN    </td><td>TGM2    </td><td>ETS1    </td><td>HOXB9   </td><td>SELENBP1</td><td>FOSL2   </td><td>SULT2B1 </td><td>TGFB3   </td></tr>\n",
       "\t<tr><th scope=row>HALLMARK_CHOLESTEROL_HOMEOSTASIS</th><td>FDPS    </td><td>CYP51A1 </td><td>IDI1    </td><td>FDFT1   </td><td>DHCR7   </td><td>SQLE    </td><td>HMGCS1  </td><td>NSDHL   </td><td>LSS     </td><td>MVD     </td><td>⋯       </td><td>        </td><td>        </td><td>        </td><td>        </td><td>        </td><td>        </td><td>        </td><td>        </td><td>        </td><td>        </td></tr>\n",
       "\t<tr><th scope=row>HALLMARK_MITOTIC_SPINDLE</th><td>ARHGEF2 </td><td>CLASP1  </td><td>KIF11   </td><td>KIF23   </td><td>ALS2    </td><td>ARF6    </td><td>MYO9B   </td><td>MYH9    </td><td>TUBGCP3 </td><td>CKAP5   </td><td>⋯       </td><td>RHOT2   </td><td>SORBS2  </td><td>CDC42EP1</td><td>VCL     </td><td>CLIP1   </td><td>STK38L  </td><td>YWHAE   </td><td>RAPGEF5 </td><td>CEP72   </td><td>CSNK1D  </td></tr>\n",
       "\t<tr><th scope=row>HALLMARK_WNT_BETA_CATENIN_SIGNALING</th><td>MYC     </td><td>CTNNB1  </td><td>JAG2    </td><td>NOTCH1  </td><td>DLL1    </td><td>AXIN2   </td><td>PSEN2   </td><td>FZD1    </td><td>NOTCH4  </td><td>LEF1    </td><td>⋯       </td><td>        </td><td>        </td><td>        </td><td>        </td><td>        </td><td>        </td><td>        </td><td>        </td><td>        </td><td>        </td></tr>\n",
       "\t<tr><th scope=row>HALLMARK_TGF_BETA_SIGNALING</th><td>TGFBR1  </td><td>SMAD7   </td><td>TGFB1   </td><td>SMURF2  </td><td>SMURF1  </td><td>BMPR2   </td><td>SKIL    </td><td>SKI     </td><td>ACVR1   </td><td>PMEPA1  </td><td>⋯       </td><td>        </td><td>        </td><td>        </td><td>        </td><td>        </td><td>        </td><td>        </td><td>        </td><td>        </td><td>        </td></tr>\n",
       "</tbody>\n",
       "</table>\n"
      ],
      "text/latex": [
       "\\begin{tabular}{r|llllllllllllllllllllllllllllllllllllllllllllllllllllllllllllllllllllllllllllllllllllllllllllllllllllllllllllllllllllllllllllllllllllllllllllllllllllllllllllllllllllllllllllllllllllllllllllllllllllllll}\n",
       "  & V3 & V4 & V5 & V6 & V7 & V8 & V9 & V10 & V11 & V12 & ⋯ & V193 & V194 & V195 & V196 & V197 & V198 & V199 & V200 & V201 & V202\\\\\n",
       "\\hline\n",
       "\tHALLMARK\\_TNFA\\_SIGNALING\\_VIA\\_NFKB & JUNB     & CXCL2    & ATF3     & NFKBIA   & TNFAIP3  & PTGS2    & CXCL1    & IER3     & CD83     & CCL20    & ⋯        & EIF1     & BMP2     & DUSP4    & PDLIM5   & ICOSLG   & GFPT2    & KLF2     & TNC      & SERPINB8 & MXD1    \\\\\n",
       "\tHALLMARK\\_HYPOXIA & PGK1     & PDK1     & GBE1     & PFKL     & ALDOA    & ENO2     & PGM1     & NDRG1    & HK2      & ALDOC    & ⋯        & HDLBP    & ILVBL    & NCAN     & TGM2     & ETS1     & HOXB9    & SELENBP1 & FOSL2    & SULT2B1  & TGFB3   \\\\\n",
       "\tHALLMARK\\_CHOLESTEROL\\_HOMEOSTASIS & FDPS     & CYP51A1  & IDI1     & FDFT1    & DHCR7    & SQLE     & HMGCS1   & NSDHL    & LSS      & MVD      & ⋯        &          &          &          &          &          &          &          &          &          &         \\\\\n",
       "\tHALLMARK\\_MITOTIC\\_SPINDLE & ARHGEF2  & CLASP1   & KIF11    & KIF23    & ALS2     & ARF6     & MYO9B    & MYH9     & TUBGCP3  & CKAP5    & ⋯        & RHOT2    & SORBS2   & CDC42EP1 & VCL      & CLIP1    & STK38L   & YWHAE    & RAPGEF5  & CEP72    & CSNK1D  \\\\\n",
       "\tHALLMARK\\_WNT\\_BETA\\_CATENIN\\_SIGNALING & MYC      & CTNNB1   & JAG2     & NOTCH1   & DLL1     & AXIN2    & PSEN2    & FZD1     & NOTCH4   & LEF1     & ⋯        &          &          &          &          &          &          &          &          &          &         \\\\\n",
       "\tHALLMARK\\_TGF\\_BETA\\_SIGNALING & TGFBR1   & SMAD7    & TGFB1    & SMURF2   & SMURF1   & BMPR2    & SKIL     & SKI      & ACVR1    & PMEPA1   & ⋯        &          &          &          &          &          &          &          &          &          &         \\\\\n",
       "\\end{tabular}\n"
      ],
      "text/markdown": [
       "\n",
       "| <!--/--> | V3 | V4 | V5 | V6 | V7 | V8 | V9 | V10 | V11 | V12 | ⋯ | V193 | V194 | V195 | V196 | V197 | V198 | V199 | V200 | V201 | V202 | \n",
       "|---|---|---|---|---|---|\n",
       "| HALLMARK_TNFA_SIGNALING_VIA_NFKB | JUNB     | CXCL2    | ATF3     | NFKBIA   | TNFAIP3  | PTGS2    | CXCL1    | IER3     | CD83     | CCL20    | ⋯        | EIF1     | BMP2     | DUSP4    | PDLIM5   | ICOSLG   | GFPT2    | KLF2     | TNC      | SERPINB8 | MXD1     | \n",
       "| HALLMARK_HYPOXIA | PGK1     | PDK1     | GBE1     | PFKL     | ALDOA    | ENO2     | PGM1     | NDRG1    | HK2      | ALDOC    | ⋯        | HDLBP    | ILVBL    | NCAN     | TGM2     | ETS1     | HOXB9    | SELENBP1 | FOSL2    | SULT2B1  | TGFB3    | \n",
       "| HALLMARK_CHOLESTEROL_HOMEOSTASIS | FDPS     | CYP51A1  | IDI1     | FDFT1    | DHCR7    | SQLE     | HMGCS1   | NSDHL    | LSS      | MVD      | ⋯        |          |          |          |          |          |          |          |          |          |          | \n",
       "| HALLMARK_MITOTIC_SPINDLE | ARHGEF2  | CLASP1   | KIF11    | KIF23    | ALS2     | ARF6     | MYO9B    | MYH9     | TUBGCP3  | CKAP5    | ⋯        | RHOT2    | SORBS2   | CDC42EP1 | VCL      | CLIP1    | STK38L   | YWHAE    | RAPGEF5  | CEP72    | CSNK1D   | \n",
       "| HALLMARK_WNT_BETA_CATENIN_SIGNALING | MYC      | CTNNB1   | JAG2     | NOTCH1   | DLL1     | AXIN2    | PSEN2    | FZD1     | NOTCH4   | LEF1     | ⋯        |          |          |          |          |          |          |          |          |          |          | \n",
       "| HALLMARK_TGF_BETA_SIGNALING | TGFBR1   | SMAD7    | TGFB1    | SMURF2   | SMURF1   | BMPR2    | SKIL     | SKI      | ACVR1    | PMEPA1   | ⋯        |          |          |          |          |          |          |          |          |          |          | \n",
       "\n",
       "\n"
      ],
      "text/plain": [
       "                                    V3      V4      V5    V6     V7      V8   \n",
       "HALLMARK_TNFA_SIGNALING_VIA_NFKB    JUNB    CXCL2   ATF3  NFKBIA TNFAIP3 PTGS2\n",
       "HALLMARK_HYPOXIA                    PGK1    PDK1    GBE1  PFKL   ALDOA   ENO2 \n",
       "HALLMARK_CHOLESTEROL_HOMEOSTASIS    FDPS    CYP51A1 IDI1  FDFT1  DHCR7   SQLE \n",
       "HALLMARK_MITOTIC_SPINDLE            ARHGEF2 CLASP1  KIF11 KIF23  ALS2    ARF6 \n",
       "HALLMARK_WNT_BETA_CATENIN_SIGNALING MYC     CTNNB1  JAG2  NOTCH1 DLL1    AXIN2\n",
       "HALLMARK_TGF_BETA_SIGNALING         TGFBR1  SMAD7   TGFB1 SMURF2 SMURF1  BMPR2\n",
       "                                    V9     V10   V11     V12    ⋯ V193  V194  \n",
       "HALLMARK_TNFA_SIGNALING_VIA_NFKB    CXCL1  IER3  CD83    CCL20  ⋯ EIF1  BMP2  \n",
       "HALLMARK_HYPOXIA                    PGM1   NDRG1 HK2     ALDOC  ⋯ HDLBP ILVBL \n",
       "HALLMARK_CHOLESTEROL_HOMEOSTASIS    HMGCS1 NSDHL LSS     MVD    ⋯             \n",
       "HALLMARK_MITOTIC_SPINDLE            MYO9B  MYH9  TUBGCP3 CKAP5  ⋯ RHOT2 SORBS2\n",
       "HALLMARK_WNT_BETA_CATENIN_SIGNALING PSEN2  FZD1  NOTCH4  LEF1   ⋯             \n",
       "HALLMARK_TGF_BETA_SIGNALING         SKIL   SKI   ACVR1   PMEPA1 ⋯             \n",
       "                                    V195     V196   V197   V198   V199    \n",
       "HALLMARK_TNFA_SIGNALING_VIA_NFKB    DUSP4    PDLIM5 ICOSLG GFPT2  KLF2    \n",
       "HALLMARK_HYPOXIA                    NCAN     TGM2   ETS1   HOXB9  SELENBP1\n",
       "HALLMARK_CHOLESTEROL_HOMEOSTASIS                                          \n",
       "HALLMARK_MITOTIC_SPINDLE            CDC42EP1 VCL    CLIP1  STK38L YWHAE   \n",
       "HALLMARK_WNT_BETA_CATENIN_SIGNALING                                       \n",
       "HALLMARK_TGF_BETA_SIGNALING                                               \n",
       "                                    V200    V201     V202  \n",
       "HALLMARK_TNFA_SIGNALING_VIA_NFKB    TNC     SERPINB8 MXD1  \n",
       "HALLMARK_HYPOXIA                    FOSL2   SULT2B1  TGFB3 \n",
       "HALLMARK_CHOLESTEROL_HOMEOSTASIS                           \n",
       "HALLMARK_MITOTIC_SPINDLE            RAPGEF5 CEP72    CSNK1D\n",
       "HALLMARK_WNT_BETA_CATENIN_SIGNALING                        \n",
       "HALLMARK_TGF_BETA_SIGNALING                                "
      ]
     },
     "metadata": {},
     "output_type": "display_data"
    }
   ],
   "source": [
    "head(Hallmark_geneSets)"
   ]
  },
  {
   "cell_type": "code",
   "execution_count": 8,
   "metadata": {},
   "outputs": [],
   "source": [
    "Hallmark_geneSets <- convertRowsToList(Hallmark_geneSets)"
   ]
  },
  {
   "cell_type": "markdown",
   "metadata": {},
   "source": [
    "## Compute gene sets overlap"
   ]
  },
  {
   "cell_type": "markdown",
   "metadata": {},
   "source": [
    "#### The overlap between two gene sets is calculated as the number of common genes between the two gene sets divided by the smallest size of the two gene sets.\n",
    "#### https://www.rdocumentation.org/packages/GSVA/versions/1.20.0/topics/computeGeneSetsOverlap"
   ]
  },
  {
   "cell_type": "code",
   "execution_count": 9,
   "metadata": {},
   "outputs": [],
   "source": [
    "geneSetOverlap <- computeGeneSetsOverlap(Hallmark_geneSets,\n",
    "                                         unique(unlist(Hallmark_geneSets)))"
   ]
  },
  {
   "cell_type": "code",
   "execution_count": 10,
   "metadata": {},
   "outputs": [
    {
     "data": {
      "text/html": [
       "<table>\n",
       "<thead><tr><th></th><th scope=col>HALLMARK_TNFA_SIGNALING_VIA_NFKB</th><th scope=col>HALLMARK_HYPOXIA</th><th scope=col>HALLMARK_CHOLESTEROL_HOMEOSTASIS</th><th scope=col>HALLMARK_MITOTIC_SPINDLE</th><th scope=col>HALLMARK_WNT_BETA_CATENIN_SIGNALING</th><th scope=col>HALLMARK_TGF_BETA_SIGNALING</th><th scope=col>HALLMARK_IL6_JAK_STAT3_SIGNALING</th><th scope=col>HALLMARK_DNA_REPAIR</th><th scope=col>HALLMARK_G2M_CHECKPOINT</th><th scope=col>HALLMARK_APOPTOSIS</th><th scope=col>⋯</th><th scope=col>HALLMARK_IL2_STAT5_SIGNALING</th><th scope=col>HALLMARK_BILE_ACID_METABOLISM</th><th scope=col>HALLMARK_PEROXISOME</th><th scope=col>HALLMARK_ALLOGRAFT_REJECTION</th><th scope=col>HALLMARK_SPERMATOGENESIS</th><th scope=col>HALLMARK_KRAS_SIGNALING_UP</th><th scope=col>HALLMARK_KRAS_SIGNALING_DN</th><th scope=col>HALLMARK_PANCREAS_BETA_CELLS</th><th scope=col>StromalSignature</th><th scope=col>ImmuneSignature</th></tr></thead>\n",
       "<tbody>\n",
       "\t<tr><th scope=row>HALLMARK_TNFA_SIGNALING_VIA_NFKB</th><td>1.00000000 </td><td>0.14500000 </td><td>0.08000000 </td><td>0.01000000 </td><td>0.04651163 </td><td>0.18181818 </td><td>0.20454545 </td><td>0.006622517</td><td>0.02500000 </td><td>0.17901235 </td><td>⋯          </td><td>0.10500000 </td><td>0.008849558</td><td>0.00952381 </td><td>0.09500000 </td><td>0.00000000 </td><td>0.11500000 </td><td>0.04000000 </td><td>0.00000000 </td><td>0.01408451 </td><td>0.070422535</td></tr>\n",
       "\t<tr><th scope=row>HALLMARK_HYPOXIA</th><td>0.14500000 </td><td>1.00000000 </td><td>0.09333333 </td><td>0.00500000 </td><td>0.02325581 </td><td>0.05454545 </td><td>0.04545455 </td><td>0.000000000</td><td>0.01500000 </td><td>0.09259259 </td><td>⋯          </td><td>0.08000000 </td><td>0.017699115</td><td>0.01904762 </td><td>0.02000000 </td><td>0.02941176 </td><td>0.05500000 </td><td>0.01500000 </td><td>0.04878049 </td><td>0.01408451 </td><td>0.021126761</td></tr>\n",
       "\t<tr><th scope=row>HALLMARK_CHOLESTEROL_HOMEOSTASIS</th><td>0.08000000 </td><td>0.09333333 </td><td>1.00000000 </td><td>0.00000000 </td><td>0.09302326 </td><td>0.03636364 </td><td>0.04000000 </td><td>0.013333333</td><td>0.02666667 </td><td>0.12000000 </td><td>⋯          </td><td>0.04000000 </td><td>0.053333333</td><td>0.05333333 </td><td>0.00000000 </td><td>0.01333333 </td><td>0.02666667 </td><td>0.00000000 </td><td>0.02439024 </td><td>0.01333333 </td><td>0.013333333</td></tr>\n",
       "\t<tr><th scope=row>HALLMARK_MITOTIC_SPINDLE</th><td>0.01000000 </td><td>0.00500000 </td><td>0.00000000 </td><td>1.00000000 </td><td>0.00000000 </td><td>0.03636364 </td><td>0.00000000 </td><td>0.006622517</td><td>0.19500000 </td><td>0.04320988 </td><td>⋯          </td><td>0.01000000 </td><td>0.000000000</td><td>0.00952381 </td><td>0.01500000 </td><td>0.05147059 </td><td>0.01000000 </td><td>0.00500000 </td><td>0.00000000 </td><td>0.00000000 </td><td>0.007042254</td></tr>\n",
       "\t<tr><th scope=row>HALLMARK_WNT_BETA_CATENIN_SIGNALING</th><td>0.04651163 </td><td>0.02325581 </td><td>0.09302326 </td><td>0.00000000 </td><td>1.00000000 </td><td>0.06976744 </td><td>0.02325581 </td><td>0.046511628</td><td>0.04651163 </td><td>0.11627907 </td><td>⋯          </td><td>0.06976744 </td><td>0.023255814</td><td>0.02325581 </td><td>0.02325581 </td><td>0.02325581 </td><td>0.04651163 </td><td>0.00000000 </td><td>0.02439024 </td><td>0.02325581 </td><td>0.023255814</td></tr>\n",
       "\t<tr><th scope=row>HALLMARK_TGF_BETA_SIGNALING</th><td>0.18181818 </td><td>0.05454545 </td><td>0.03636364 </td><td>0.03636364 </td><td>0.06976744 </td><td>1.00000000 </td><td>0.05454545 </td><td>0.018181818</td><td>0.03636364 </td><td>0.10909091 </td><td>⋯          </td><td>0.09090909 </td><td>0.036363636</td><td>0.01818182 </td><td>0.05454545 </td><td>0.01818182 </td><td>0.07272727 </td><td>0.01818182 </td><td>0.02439024 </td><td>0.01818182 </td><td>0.036363636</td></tr>\n",
       "</tbody>\n",
       "</table>\n"
      ],
      "text/latex": [
       "\\begin{tabular}{r|llllllllllllllllllllllllllllllllllllllllllllllllllll}\n",
       "  & HALLMARK\\_TNFA\\_SIGNALING\\_VIA\\_NFKB & HALLMARK\\_HYPOXIA & HALLMARK\\_CHOLESTEROL\\_HOMEOSTASIS & HALLMARK\\_MITOTIC\\_SPINDLE & HALLMARK\\_WNT\\_BETA\\_CATENIN\\_SIGNALING & HALLMARK\\_TGF\\_BETA\\_SIGNALING & HALLMARK\\_IL6\\_JAK\\_STAT3\\_SIGNALING & HALLMARK\\_DNA\\_REPAIR & HALLMARK\\_G2M\\_CHECKPOINT & HALLMARK\\_APOPTOSIS & ⋯ & HALLMARK\\_IL2\\_STAT5\\_SIGNALING & HALLMARK\\_BILE\\_ACID\\_METABOLISM & HALLMARK\\_PEROXISOME & HALLMARK\\_ALLOGRAFT\\_REJECTION & HALLMARK\\_SPERMATOGENESIS & HALLMARK\\_KRAS\\_SIGNALING\\_UP & HALLMARK\\_KRAS\\_SIGNALING\\_DN & HALLMARK\\_PANCREAS\\_BETA\\_CELLS & StromalSignature & ImmuneSignature\\\\\n",
       "\\hline\n",
       "\tHALLMARK\\_TNFA\\_SIGNALING\\_VIA\\_NFKB & 1.00000000  & 0.14500000  & 0.08000000  & 0.01000000  & 0.04651163  & 0.18181818  & 0.20454545  & 0.006622517 & 0.02500000  & 0.17901235  & ⋯           & 0.10500000  & 0.008849558 & 0.00952381  & 0.09500000  & 0.00000000  & 0.11500000  & 0.04000000  & 0.00000000  & 0.01408451  & 0.070422535\\\\\n",
       "\tHALLMARK\\_HYPOXIA & 0.14500000  & 1.00000000  & 0.09333333  & 0.00500000  & 0.02325581  & 0.05454545  & 0.04545455  & 0.000000000 & 0.01500000  & 0.09259259  & ⋯           & 0.08000000  & 0.017699115 & 0.01904762  & 0.02000000  & 0.02941176  & 0.05500000  & 0.01500000  & 0.04878049  & 0.01408451  & 0.021126761\\\\\n",
       "\tHALLMARK\\_CHOLESTEROL\\_HOMEOSTASIS & 0.08000000  & 0.09333333  & 1.00000000  & 0.00000000  & 0.09302326  & 0.03636364  & 0.04000000  & 0.013333333 & 0.02666667  & 0.12000000  & ⋯           & 0.04000000  & 0.053333333 & 0.05333333  & 0.00000000  & 0.01333333  & 0.02666667  & 0.00000000  & 0.02439024  & 0.01333333  & 0.013333333\\\\\n",
       "\tHALLMARK\\_MITOTIC\\_SPINDLE & 0.01000000  & 0.00500000  & 0.00000000  & 1.00000000  & 0.00000000  & 0.03636364  & 0.00000000  & 0.006622517 & 0.19500000  & 0.04320988  & ⋯           & 0.01000000  & 0.000000000 & 0.00952381  & 0.01500000  & 0.05147059  & 0.01000000  & 0.00500000  & 0.00000000  & 0.00000000  & 0.007042254\\\\\n",
       "\tHALLMARK\\_WNT\\_BETA\\_CATENIN\\_SIGNALING & 0.04651163  & 0.02325581  & 0.09302326  & 0.00000000  & 1.00000000  & 0.06976744  & 0.02325581  & 0.046511628 & 0.04651163  & 0.11627907  & ⋯           & 0.06976744  & 0.023255814 & 0.02325581  & 0.02325581  & 0.02325581  & 0.04651163  & 0.00000000  & 0.02439024  & 0.02325581  & 0.023255814\\\\\n",
       "\tHALLMARK\\_TGF\\_BETA\\_SIGNALING & 0.18181818  & 0.05454545  & 0.03636364  & 0.03636364  & 0.06976744  & 1.00000000  & 0.05454545  & 0.018181818 & 0.03636364  & 0.10909091  & ⋯           & 0.09090909  & 0.036363636 & 0.01818182  & 0.05454545  & 0.01818182  & 0.07272727  & 0.01818182  & 0.02439024  & 0.01818182  & 0.036363636\\\\\n",
       "\\end{tabular}\n"
      ],
      "text/markdown": [
       "\n",
       "| <!--/--> | HALLMARK_TNFA_SIGNALING_VIA_NFKB | HALLMARK_HYPOXIA | HALLMARK_CHOLESTEROL_HOMEOSTASIS | HALLMARK_MITOTIC_SPINDLE | HALLMARK_WNT_BETA_CATENIN_SIGNALING | HALLMARK_TGF_BETA_SIGNALING | HALLMARK_IL6_JAK_STAT3_SIGNALING | HALLMARK_DNA_REPAIR | HALLMARK_G2M_CHECKPOINT | HALLMARK_APOPTOSIS | ⋯ | HALLMARK_IL2_STAT5_SIGNALING | HALLMARK_BILE_ACID_METABOLISM | HALLMARK_PEROXISOME | HALLMARK_ALLOGRAFT_REJECTION | HALLMARK_SPERMATOGENESIS | HALLMARK_KRAS_SIGNALING_UP | HALLMARK_KRAS_SIGNALING_DN | HALLMARK_PANCREAS_BETA_CELLS | StromalSignature | ImmuneSignature | \n",
       "|---|---|---|---|---|---|\n",
       "| HALLMARK_TNFA_SIGNALING_VIA_NFKB | 1.00000000  | 0.14500000  | 0.08000000  | 0.01000000  | 0.04651163  | 0.18181818  | 0.20454545  | 0.006622517 | 0.02500000  | 0.17901235  | ⋯           | 0.10500000  | 0.008849558 | 0.00952381  | 0.09500000  | 0.00000000  | 0.11500000  | 0.04000000  | 0.00000000  | 0.01408451  | 0.070422535 | \n",
       "| HALLMARK_HYPOXIA | 0.14500000  | 1.00000000  | 0.09333333  | 0.00500000  | 0.02325581  | 0.05454545  | 0.04545455  | 0.000000000 | 0.01500000  | 0.09259259  | ⋯           | 0.08000000  | 0.017699115 | 0.01904762  | 0.02000000  | 0.02941176  | 0.05500000  | 0.01500000  | 0.04878049  | 0.01408451  | 0.021126761 | \n",
       "| HALLMARK_CHOLESTEROL_HOMEOSTASIS | 0.08000000  | 0.09333333  | 1.00000000  | 0.00000000  | 0.09302326  | 0.03636364  | 0.04000000  | 0.013333333 | 0.02666667  | 0.12000000  | ⋯           | 0.04000000  | 0.053333333 | 0.05333333  | 0.00000000  | 0.01333333  | 0.02666667  | 0.00000000  | 0.02439024  | 0.01333333  | 0.013333333 | \n",
       "| HALLMARK_MITOTIC_SPINDLE | 0.01000000  | 0.00500000  | 0.00000000  | 1.00000000  | 0.00000000  | 0.03636364  | 0.00000000  | 0.006622517 | 0.19500000  | 0.04320988  | ⋯           | 0.01000000  | 0.000000000 | 0.00952381  | 0.01500000  | 0.05147059  | 0.01000000  | 0.00500000  | 0.00000000  | 0.00000000  | 0.007042254 | \n",
       "| HALLMARK_WNT_BETA_CATENIN_SIGNALING | 0.04651163  | 0.02325581  | 0.09302326  | 0.00000000  | 1.00000000  | 0.06976744  | 0.02325581  | 0.046511628 | 0.04651163  | 0.11627907  | ⋯           | 0.06976744  | 0.023255814 | 0.02325581  | 0.02325581  | 0.02325581  | 0.04651163  | 0.00000000  | 0.02439024  | 0.02325581  | 0.023255814 | \n",
       "| HALLMARK_TGF_BETA_SIGNALING | 0.18181818  | 0.05454545  | 0.03636364  | 0.03636364  | 0.06976744  | 1.00000000  | 0.05454545  | 0.018181818 | 0.03636364  | 0.10909091  | ⋯           | 0.09090909  | 0.036363636 | 0.01818182  | 0.05454545  | 0.01818182  | 0.07272727  | 0.01818182  | 0.02439024  | 0.01818182  | 0.036363636 | \n",
       "\n",
       "\n"
      ],
      "text/plain": [
       "                                    HALLMARK_TNFA_SIGNALING_VIA_NFKB\n",
       "HALLMARK_TNFA_SIGNALING_VIA_NFKB    1.00000000                      \n",
       "HALLMARK_HYPOXIA                    0.14500000                      \n",
       "HALLMARK_CHOLESTEROL_HOMEOSTASIS    0.08000000                      \n",
       "HALLMARK_MITOTIC_SPINDLE            0.01000000                      \n",
       "HALLMARK_WNT_BETA_CATENIN_SIGNALING 0.04651163                      \n",
       "HALLMARK_TGF_BETA_SIGNALING         0.18181818                      \n",
       "                                    HALLMARK_HYPOXIA\n",
       "HALLMARK_TNFA_SIGNALING_VIA_NFKB    0.14500000      \n",
       "HALLMARK_HYPOXIA                    1.00000000      \n",
       "HALLMARK_CHOLESTEROL_HOMEOSTASIS    0.09333333      \n",
       "HALLMARK_MITOTIC_SPINDLE            0.00500000      \n",
       "HALLMARK_WNT_BETA_CATENIN_SIGNALING 0.02325581      \n",
       "HALLMARK_TGF_BETA_SIGNALING         0.05454545      \n",
       "                                    HALLMARK_CHOLESTEROL_HOMEOSTASIS\n",
       "HALLMARK_TNFA_SIGNALING_VIA_NFKB    0.08000000                      \n",
       "HALLMARK_HYPOXIA                    0.09333333                      \n",
       "HALLMARK_CHOLESTEROL_HOMEOSTASIS    1.00000000                      \n",
       "HALLMARK_MITOTIC_SPINDLE            0.00000000                      \n",
       "HALLMARK_WNT_BETA_CATENIN_SIGNALING 0.09302326                      \n",
       "HALLMARK_TGF_BETA_SIGNALING         0.03636364                      \n",
       "                                    HALLMARK_MITOTIC_SPINDLE\n",
       "HALLMARK_TNFA_SIGNALING_VIA_NFKB    0.01000000              \n",
       "HALLMARK_HYPOXIA                    0.00500000              \n",
       "HALLMARK_CHOLESTEROL_HOMEOSTASIS    0.00000000              \n",
       "HALLMARK_MITOTIC_SPINDLE            1.00000000              \n",
       "HALLMARK_WNT_BETA_CATENIN_SIGNALING 0.00000000              \n",
       "HALLMARK_TGF_BETA_SIGNALING         0.03636364              \n",
       "                                    HALLMARK_WNT_BETA_CATENIN_SIGNALING\n",
       "HALLMARK_TNFA_SIGNALING_VIA_NFKB    0.04651163                         \n",
       "HALLMARK_HYPOXIA                    0.02325581                         \n",
       "HALLMARK_CHOLESTEROL_HOMEOSTASIS    0.09302326                         \n",
       "HALLMARK_MITOTIC_SPINDLE            0.00000000                         \n",
       "HALLMARK_WNT_BETA_CATENIN_SIGNALING 1.00000000                         \n",
       "HALLMARK_TGF_BETA_SIGNALING         0.06976744                         \n",
       "                                    HALLMARK_TGF_BETA_SIGNALING\n",
       "HALLMARK_TNFA_SIGNALING_VIA_NFKB    0.18181818                 \n",
       "HALLMARK_HYPOXIA                    0.05454545                 \n",
       "HALLMARK_CHOLESTEROL_HOMEOSTASIS    0.03636364                 \n",
       "HALLMARK_MITOTIC_SPINDLE            0.03636364                 \n",
       "HALLMARK_WNT_BETA_CATENIN_SIGNALING 0.06976744                 \n",
       "HALLMARK_TGF_BETA_SIGNALING         1.00000000                 \n",
       "                                    HALLMARK_IL6_JAK_STAT3_SIGNALING\n",
       "HALLMARK_TNFA_SIGNALING_VIA_NFKB    0.20454545                      \n",
       "HALLMARK_HYPOXIA                    0.04545455                      \n",
       "HALLMARK_CHOLESTEROL_HOMEOSTASIS    0.04000000                      \n",
       "HALLMARK_MITOTIC_SPINDLE            0.00000000                      \n",
       "HALLMARK_WNT_BETA_CATENIN_SIGNALING 0.02325581                      \n",
       "HALLMARK_TGF_BETA_SIGNALING         0.05454545                      \n",
       "                                    HALLMARK_DNA_REPAIR HALLMARK_G2M_CHECKPOINT\n",
       "HALLMARK_TNFA_SIGNALING_VIA_NFKB    0.006622517         0.02500000             \n",
       "HALLMARK_HYPOXIA                    0.000000000         0.01500000             \n",
       "HALLMARK_CHOLESTEROL_HOMEOSTASIS    0.013333333         0.02666667             \n",
       "HALLMARK_MITOTIC_SPINDLE            0.006622517         0.19500000             \n",
       "HALLMARK_WNT_BETA_CATENIN_SIGNALING 0.046511628         0.04651163             \n",
       "HALLMARK_TGF_BETA_SIGNALING         0.018181818         0.03636364             \n",
       "                                    HALLMARK_APOPTOSIS ⋯\n",
       "HALLMARK_TNFA_SIGNALING_VIA_NFKB    0.17901235         ⋯\n",
       "HALLMARK_HYPOXIA                    0.09259259         ⋯\n",
       "HALLMARK_CHOLESTEROL_HOMEOSTASIS    0.12000000         ⋯\n",
       "HALLMARK_MITOTIC_SPINDLE            0.04320988         ⋯\n",
       "HALLMARK_WNT_BETA_CATENIN_SIGNALING 0.11627907         ⋯\n",
       "HALLMARK_TGF_BETA_SIGNALING         0.10909091         ⋯\n",
       "                                    HALLMARK_IL2_STAT5_SIGNALING\n",
       "HALLMARK_TNFA_SIGNALING_VIA_NFKB    0.10500000                  \n",
       "HALLMARK_HYPOXIA                    0.08000000                  \n",
       "HALLMARK_CHOLESTEROL_HOMEOSTASIS    0.04000000                  \n",
       "HALLMARK_MITOTIC_SPINDLE            0.01000000                  \n",
       "HALLMARK_WNT_BETA_CATENIN_SIGNALING 0.06976744                  \n",
       "HALLMARK_TGF_BETA_SIGNALING         0.09090909                  \n",
       "                                    HALLMARK_BILE_ACID_METABOLISM\n",
       "HALLMARK_TNFA_SIGNALING_VIA_NFKB    0.008849558                  \n",
       "HALLMARK_HYPOXIA                    0.017699115                  \n",
       "HALLMARK_CHOLESTEROL_HOMEOSTASIS    0.053333333                  \n",
       "HALLMARK_MITOTIC_SPINDLE            0.000000000                  \n",
       "HALLMARK_WNT_BETA_CATENIN_SIGNALING 0.023255814                  \n",
       "HALLMARK_TGF_BETA_SIGNALING         0.036363636                  \n",
       "                                    HALLMARK_PEROXISOME\n",
       "HALLMARK_TNFA_SIGNALING_VIA_NFKB    0.00952381         \n",
       "HALLMARK_HYPOXIA                    0.01904762         \n",
       "HALLMARK_CHOLESTEROL_HOMEOSTASIS    0.05333333         \n",
       "HALLMARK_MITOTIC_SPINDLE            0.00952381         \n",
       "HALLMARK_WNT_BETA_CATENIN_SIGNALING 0.02325581         \n",
       "HALLMARK_TGF_BETA_SIGNALING         0.01818182         \n",
       "                                    HALLMARK_ALLOGRAFT_REJECTION\n",
       "HALLMARK_TNFA_SIGNALING_VIA_NFKB    0.09500000                  \n",
       "HALLMARK_HYPOXIA                    0.02000000                  \n",
       "HALLMARK_CHOLESTEROL_HOMEOSTASIS    0.00000000                  \n",
       "HALLMARK_MITOTIC_SPINDLE            0.01500000                  \n",
       "HALLMARK_WNT_BETA_CATENIN_SIGNALING 0.02325581                  \n",
       "HALLMARK_TGF_BETA_SIGNALING         0.05454545                  \n",
       "                                    HALLMARK_SPERMATOGENESIS\n",
       "HALLMARK_TNFA_SIGNALING_VIA_NFKB    0.00000000              \n",
       "HALLMARK_HYPOXIA                    0.02941176              \n",
       "HALLMARK_CHOLESTEROL_HOMEOSTASIS    0.01333333              \n",
       "HALLMARK_MITOTIC_SPINDLE            0.05147059              \n",
       "HALLMARK_WNT_BETA_CATENIN_SIGNALING 0.02325581              \n",
       "HALLMARK_TGF_BETA_SIGNALING         0.01818182              \n",
       "                                    HALLMARK_KRAS_SIGNALING_UP\n",
       "HALLMARK_TNFA_SIGNALING_VIA_NFKB    0.11500000                \n",
       "HALLMARK_HYPOXIA                    0.05500000                \n",
       "HALLMARK_CHOLESTEROL_HOMEOSTASIS    0.02666667                \n",
       "HALLMARK_MITOTIC_SPINDLE            0.01000000                \n",
       "HALLMARK_WNT_BETA_CATENIN_SIGNALING 0.04651163                \n",
       "HALLMARK_TGF_BETA_SIGNALING         0.07272727                \n",
       "                                    HALLMARK_KRAS_SIGNALING_DN\n",
       "HALLMARK_TNFA_SIGNALING_VIA_NFKB    0.04000000                \n",
       "HALLMARK_HYPOXIA                    0.01500000                \n",
       "HALLMARK_CHOLESTEROL_HOMEOSTASIS    0.00000000                \n",
       "HALLMARK_MITOTIC_SPINDLE            0.00500000                \n",
       "HALLMARK_WNT_BETA_CATENIN_SIGNALING 0.00000000                \n",
       "HALLMARK_TGF_BETA_SIGNALING         0.01818182                \n",
       "                                    HALLMARK_PANCREAS_BETA_CELLS\n",
       "HALLMARK_TNFA_SIGNALING_VIA_NFKB    0.00000000                  \n",
       "HALLMARK_HYPOXIA                    0.04878049                  \n",
       "HALLMARK_CHOLESTEROL_HOMEOSTASIS    0.02439024                  \n",
       "HALLMARK_MITOTIC_SPINDLE            0.00000000                  \n",
       "HALLMARK_WNT_BETA_CATENIN_SIGNALING 0.02439024                  \n",
       "HALLMARK_TGF_BETA_SIGNALING         0.02439024                  \n",
       "                                    StromalSignature ImmuneSignature\n",
       "HALLMARK_TNFA_SIGNALING_VIA_NFKB    0.01408451       0.070422535    \n",
       "HALLMARK_HYPOXIA                    0.01408451       0.021126761    \n",
       "HALLMARK_CHOLESTEROL_HOMEOSTASIS    0.01333333       0.013333333    \n",
       "HALLMARK_MITOTIC_SPINDLE            0.00000000       0.007042254    \n",
       "HALLMARK_WNT_BETA_CATENIN_SIGNALING 0.02325581       0.023255814    \n",
       "HALLMARK_TGF_BETA_SIGNALING         0.01818182       0.036363636    "
      ]
     },
     "metadata": {},
     "output_type": "display_data"
    }
   ],
   "source": [
    "head(geneSetOverlap)"
   ]
  },
  {
   "cell_type": "code",
   "execution_count": 11,
   "metadata": {},
   "outputs": [],
   "source": [
    "write.table(geneSetOverlap,\n",
    "            file=\"~/git_repos/HGSOC_TME_Heterogeneity/Data/1/Hallmark_geneset_overlap.txt\",\n",
    "            sep='\\t',\n",
    "            row.names=T,\n",
    "            col.names=T)"
   ]
  },
  {
   "cell_type": "markdown",
   "metadata": {},
   "source": [
    "# End script"
   ]
  }
 ],
 "metadata": {
  "kernelspec": {
   "display_name": "R",
   "language": "R",
   "name": "ir"
  },
  "language_info": {
   "codemirror_mode": "r",
   "file_extension": ".r",
   "mimetype": "text/x-r-source",
   "name": "R",
   "pygments_lexer": "r",
   "version": "3.5.0"
  }
 },
 "nbformat": 4,
 "nbformat_minor": 2
}

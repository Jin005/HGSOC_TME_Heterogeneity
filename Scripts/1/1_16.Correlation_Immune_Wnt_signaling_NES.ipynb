{
 "cells": [
  {
   "cell_type": "markdown",
   "metadata": {},
   "source": [
    "# Correlate immune and Wnt signaling NES"
   ]
  },
  {
   "cell_type": "markdown",
   "metadata": {},
   "source": [
    "Script related to figure s1g, h\n",
    "\n",
    "### Aim:\n",
    "- Evaluate correlation of immune and Wnt signaling NES"
   ]
  },
  {
   "cell_type": "code",
   "execution_count": 1,
   "metadata": {},
   "outputs": [
    {
     "name": "stdout",
     "output_type": "stream",
     "text": [
      "Python 3.6.8 :: Anaconda custom (64-bit)\r\n"
     ]
    }
   ],
   "source": [
    "!python --version"
   ]
  },
  {
   "cell_type": "markdown",
   "metadata": {},
   "source": [
    "## Import packages"
   ]
  },
  {
   "cell_type": "code",
   "execution_count": 2,
   "metadata": {},
   "outputs": [],
   "source": [
    "import pandas as pd\n",
    "import seaborn as sns\n",
    "import matplotlib.pyplot as plt\n",
    "from scipy.stats import kendalltau"
   ]
  },
  {
   "cell_type": "code",
   "execution_count": 3,
   "metadata": {},
   "outputs": [],
   "source": [
    "home = \"~/git_repos/HGSOC_TME_Heterogeneity/\""
   ]
  },
  {
   "cell_type": "markdown",
   "metadata": {},
   "source": [
    "## Load data"
   ]
  },
  {
   "cell_type": "code",
   "execution_count": 5,
   "metadata": {},
   "outputs": [],
   "source": [
    "file_keys = home + \"/Data/1/TreatmentNaive_SampleLabels_WESTumourCellularity.txt\"\n",
    "\n",
    "sample_labels = pd.read_csv(file_keys,\n",
    "                            sep='\\t',\n",
    "                            index_col='Well')"
   ]
  },
  {
   "cell_type": "code",
   "execution_count": 6,
   "metadata": {},
   "outputs": [
    {
     "data": {
      "text/html": [
       "<div>\n",
       "<style scoped>\n",
       "    .dataframe tbody tr th:only-of-type {\n",
       "        vertical-align: middle;\n",
       "    }\n",
       "\n",
       "    .dataframe tbody tr th {\n",
       "        vertical-align: top;\n",
       "    }\n",
       "\n",
       "    .dataframe thead th {\n",
       "        text-align: right;\n",
       "    }\n",
       "</style>\n",
       "<table border=\"1\" class=\"dataframe\">\n",
       "  <thead>\n",
       "    <tr style=\"text-align: right;\">\n",
       "      <th></th>\n",
       "      <th>Label</th>\n",
       "      <th>Key</th>\n",
       "      <th>Case_mRNA</th>\n",
       "      <th>Site</th>\n",
       "      <th>Habitat</th>\n",
       "      <th>Case_WES</th>\n",
       "      <th>Tumour_WES</th>\n",
       "      <th>Colour</th>\n",
       "      <th>Site_marker</th>\n",
       "      <th>TumourCellularity_WES</th>\n",
       "    </tr>\n",
       "    <tr>\n",
       "      <th>Well</th>\n",
       "      <th></th>\n",
       "      <th></th>\n",
       "      <th></th>\n",
       "      <th></th>\n",
       "      <th></th>\n",
       "      <th></th>\n",
       "      <th></th>\n",
       "      <th></th>\n",
       "      <th></th>\n",
       "      <th></th>\n",
       "    </tr>\n",
       "  </thead>\n",
       "  <tbody>\n",
       "    <tr>\n",
       "      <th>A01</th>\n",
       "      <td>A01_3640_5_Omentum</td>\n",
       "      <td>case10_omentum_green</td>\n",
       "      <td>10</td>\n",
       "      <td>omentum</td>\n",
       "      <td>green</td>\n",
       "      <td>10.0</td>\n",
       "      <td>5</td>\n",
       "      <td>#ff7f00</td>\n",
       "      <td>^</td>\n",
       "      <td>0.5973</td>\n",
       "    </tr>\n",
       "    <tr>\n",
       "      <th>A02</th>\n",
       "      <td>A02_3640_7_Omentum</td>\n",
       "      <td>case10_omentum_blue</td>\n",
       "      <td>10</td>\n",
       "      <td>omentum</td>\n",
       "      <td>blue</td>\n",
       "      <td>10.0</td>\n",
       "      <td>7</td>\n",
       "      <td>#ff7f00</td>\n",
       "      <td>^</td>\n",
       "      <td>0.5065</td>\n",
       "    </tr>\n",
       "    <tr>\n",
       "      <th>A03</th>\n",
       "      <td>A03_3640_9_Paracolic_Gutter</td>\n",
       "      <td>case10_paracolic_yellow</td>\n",
       "      <td>10</td>\n",
       "      <td>other</td>\n",
       "      <td>yellow</td>\n",
       "      <td>10.0</td>\n",
       "      <td>8</td>\n",
       "      <td>#ff7f00</td>\n",
       "      <td>s</td>\n",
       "      <td>0.4551</td>\n",
       "    </tr>\n",
       "    <tr>\n",
       "      <th>A04</th>\n",
       "      <td>A04_3640_17_R_Adnexa</td>\n",
       "      <td>case10_Radnexa_yellow</td>\n",
       "      <td>10</td>\n",
       "      <td>ovary</td>\n",
       "      <td>yellow</td>\n",
       "      <td>10.0</td>\n",
       "      <td>17</td>\n",
       "      <td>#ff7f00</td>\n",
       "      <td>o</td>\n",
       "      <td>0.6496</td>\n",
       "    </tr>\n",
       "    <tr>\n",
       "      <th>A05</th>\n",
       "      <td>A05_3640_18_R_Adnexa</td>\n",
       "      <td>case10_Radnexa_blue</td>\n",
       "      <td>10</td>\n",
       "      <td>ovary</td>\n",
       "      <td>blue</td>\n",
       "      <td>10.0</td>\n",
       "      <td>18</td>\n",
       "      <td>#ff7f00</td>\n",
       "      <td>o</td>\n",
       "      <td>0.6706</td>\n",
       "    </tr>\n",
       "  </tbody>\n",
       "</table>\n",
       "</div>"
      ],
      "text/plain": [
       "                            Label                      Key  Case_mRNA  \\\n",
       "Well                                                                    \n",
       "A01            A01_3640_5_Omentum     case10_omentum_green         10   \n",
       "A02            A02_3640_7_Omentum      case10_omentum_blue         10   \n",
       "A03   A03_3640_9_Paracolic_Gutter  case10_paracolic_yellow         10   \n",
       "A04          A04_3640_17_R_Adnexa    case10_Radnexa_yellow         10   \n",
       "A05          A05_3640_18_R_Adnexa      case10_Radnexa_blue         10   \n",
       "\n",
       "         Site Habitat  Case_WES Tumour_WES   Colour Site_marker  \\\n",
       "Well                                                              \n",
       "A01   omentum   green      10.0          5  #ff7f00           ^   \n",
       "A02   omentum    blue      10.0          7  #ff7f00           ^   \n",
       "A03     other  yellow      10.0          8  #ff7f00           s   \n",
       "A04     ovary  yellow      10.0         17  #ff7f00           o   \n",
       "A05     ovary    blue      10.0         18  #ff7f00           o   \n",
       "\n",
       "      TumourCellularity_WES  \n",
       "Well                         \n",
       "A01                  0.5973  \n",
       "A02                  0.5065  \n",
       "A03                  0.4551  \n",
       "A04                  0.6496  \n",
       "A05                  0.6706  "
      ]
     },
     "execution_count": 6,
     "metadata": {},
     "output_type": "execute_result"
    }
   ],
   "source": [
    "sample_labels.head()"
   ]
  },
  {
   "cell_type": "code",
   "execution_count": 7,
   "metadata": {},
   "outputs": [
    {
     "data": {
      "text/plain": [
       "Index(['A01', 'A02', 'A03', 'A04', 'A05', 'A06', 'A07', 'A08', 'A09', 'A10',\n",
       "       'A11', 'B01', 'B02', 'B03', 'B04', 'B05', 'B06', 'B07', 'B08', 'B09',\n",
       "       'B10', 'B11', 'B12', 'C01', 'C02', 'C03', 'C04', 'C05', 'C06', 'C07',\n",
       "       'C08', 'C09', 'C10', 'C11', 'C12', 'D01', 'D02', 'D03'],\n",
       "      dtype='object', name='Well')"
      ]
     },
     "execution_count": 7,
     "metadata": {},
     "output_type": "execute_result"
    }
   ],
   "source": [
    "sample_labels.index"
   ]
  },
  {
   "cell_type": "code",
   "execution_count": 8,
   "metadata": {},
   "outputs": [],
   "source": [
    "case_mrna = list(set(sample_labels['Case_mRNA']))\n",
    "\n",
    "colours = sns.color_palette(\"Set1\", 8).as_hex()\n",
    "\n",
    "sample_labels['Colour'] = sample_labels['Case_mRNA'].replace(case_mrna, colours)"
   ]
  },
  {
   "cell_type": "code",
   "execution_count": 9,
   "metadata": {},
   "outputs": [],
   "source": [
    "sites = ['ovary','omentum','other']\n",
    "markers = ['o','^','s']\n",
    "\n",
    "sample_labels['Site_marker'] = sample_labels['Site'].replace(sites,markers)"
   ]
  },
  {
   "cell_type": "code",
   "execution_count": 10,
   "metadata": {},
   "outputs": [
    {
     "data": {
      "text/html": [
       "<div>\n",
       "<style scoped>\n",
       "    .dataframe tbody tr th:only-of-type {\n",
       "        vertical-align: middle;\n",
       "    }\n",
       "\n",
       "    .dataframe tbody tr th {\n",
       "        vertical-align: top;\n",
       "    }\n",
       "\n",
       "    .dataframe thead th {\n",
       "        text-align: right;\n",
       "    }\n",
       "</style>\n",
       "<table border=\"1\" class=\"dataframe\">\n",
       "  <thead>\n",
       "    <tr style=\"text-align: right;\">\n",
       "      <th></th>\n",
       "      <th>Label</th>\n",
       "      <th>Key</th>\n",
       "      <th>Case_mRNA</th>\n",
       "      <th>Site</th>\n",
       "      <th>Habitat</th>\n",
       "      <th>Case_WES</th>\n",
       "      <th>Tumour_WES</th>\n",
       "      <th>Colour</th>\n",
       "      <th>Site_marker</th>\n",
       "      <th>TumourCellularity_WES</th>\n",
       "    </tr>\n",
       "    <tr>\n",
       "      <th>Well</th>\n",
       "      <th></th>\n",
       "      <th></th>\n",
       "      <th></th>\n",
       "      <th></th>\n",
       "      <th></th>\n",
       "      <th></th>\n",
       "      <th></th>\n",
       "      <th></th>\n",
       "      <th></th>\n",
       "      <th></th>\n",
       "    </tr>\n",
       "  </thead>\n",
       "  <tbody>\n",
       "    <tr>\n",
       "      <th>A01</th>\n",
       "      <td>A01_3640_5_Omentum</td>\n",
       "      <td>case10_omentum_green</td>\n",
       "      <td>10</td>\n",
       "      <td>omentum</td>\n",
       "      <td>green</td>\n",
       "      <td>10.0</td>\n",
       "      <td>5</td>\n",
       "      <td>#ff7f00</td>\n",
       "      <td>^</td>\n",
       "      <td>0.5973</td>\n",
       "    </tr>\n",
       "    <tr>\n",
       "      <th>A02</th>\n",
       "      <td>A02_3640_7_Omentum</td>\n",
       "      <td>case10_omentum_blue</td>\n",
       "      <td>10</td>\n",
       "      <td>omentum</td>\n",
       "      <td>blue</td>\n",
       "      <td>10.0</td>\n",
       "      <td>7</td>\n",
       "      <td>#ff7f00</td>\n",
       "      <td>^</td>\n",
       "      <td>0.5065</td>\n",
       "    </tr>\n",
       "    <tr>\n",
       "      <th>A03</th>\n",
       "      <td>A03_3640_9_Paracolic_Gutter</td>\n",
       "      <td>case10_paracolic_yellow</td>\n",
       "      <td>10</td>\n",
       "      <td>other</td>\n",
       "      <td>yellow</td>\n",
       "      <td>10.0</td>\n",
       "      <td>8</td>\n",
       "      <td>#ff7f00</td>\n",
       "      <td>s</td>\n",
       "      <td>0.4551</td>\n",
       "    </tr>\n",
       "    <tr>\n",
       "      <th>A04</th>\n",
       "      <td>A04_3640_17_R_Adnexa</td>\n",
       "      <td>case10_Radnexa_yellow</td>\n",
       "      <td>10</td>\n",
       "      <td>ovary</td>\n",
       "      <td>yellow</td>\n",
       "      <td>10.0</td>\n",
       "      <td>17</td>\n",
       "      <td>#ff7f00</td>\n",
       "      <td>o</td>\n",
       "      <td>0.6496</td>\n",
       "    </tr>\n",
       "    <tr>\n",
       "      <th>A05</th>\n",
       "      <td>A05_3640_18_R_Adnexa</td>\n",
       "      <td>case10_Radnexa_blue</td>\n",
       "      <td>10</td>\n",
       "      <td>ovary</td>\n",
       "      <td>blue</td>\n",
       "      <td>10.0</td>\n",
       "      <td>18</td>\n",
       "      <td>#ff7f00</td>\n",
       "      <td>o</td>\n",
       "      <td>0.6706</td>\n",
       "    </tr>\n",
       "  </tbody>\n",
       "</table>\n",
       "</div>"
      ],
      "text/plain": [
       "                            Label                      Key  Case_mRNA  \\\n",
       "Well                                                                    \n",
       "A01            A01_3640_5_Omentum     case10_omentum_green         10   \n",
       "A02            A02_3640_7_Omentum      case10_omentum_blue         10   \n",
       "A03   A03_3640_9_Paracolic_Gutter  case10_paracolic_yellow         10   \n",
       "A04          A04_3640_17_R_Adnexa    case10_Radnexa_yellow         10   \n",
       "A05          A05_3640_18_R_Adnexa      case10_Radnexa_blue         10   \n",
       "\n",
       "         Site Habitat  Case_WES Tumour_WES   Colour Site_marker  \\\n",
       "Well                                                              \n",
       "A01   omentum   green      10.0          5  #ff7f00           ^   \n",
       "A02   omentum    blue      10.0          7  #ff7f00           ^   \n",
       "A03     other  yellow      10.0          8  #ff7f00           s   \n",
       "A04     ovary  yellow      10.0         17  #ff7f00           o   \n",
       "A05     ovary    blue      10.0         18  #ff7f00           o   \n",
       "\n",
       "      TumourCellularity_WES  \n",
       "Well                         \n",
       "A01                  0.5973  \n",
       "A02                  0.5065  \n",
       "A03                  0.4551  \n",
       "A04                  0.6496  \n",
       "A05                  0.6706  "
      ]
     },
     "execution_count": 10,
     "metadata": {},
     "output_type": "execute_result"
    }
   ],
   "source": [
    "sample_labels.head()"
   ]
  },
  {
   "cell_type": "code",
   "execution_count": 12,
   "metadata": {},
   "outputs": [],
   "source": [
    "mRNA_tumcell_file = home + \"/Data/1/TreatmentNaive_log2exp_loess_norm_filtered_ESTIMATE.txt\"\n",
    "\n",
    "mRNA_tumcell = pd.read_csv(mRNA_tumcell_file,\n",
    "                           skiprows=2,\n",
    "                           sep='\\t',\n",
    "                           index_col='NAME')\n",
    "\n",
    "del(mRNA_tumcell['Description'])"
   ]
  },
  {
   "cell_type": "code",
   "execution_count": 13,
   "metadata": {},
   "outputs": [
    {
     "data": {
      "text/html": [
       "<div>\n",
       "<style scoped>\n",
       "    .dataframe tbody tr th:only-of-type {\n",
       "        vertical-align: middle;\n",
       "    }\n",
       "\n",
       "    .dataframe tbody tr th {\n",
       "        vertical-align: top;\n",
       "    }\n",
       "\n",
       "    .dataframe thead th {\n",
       "        text-align: right;\n",
       "    }\n",
       "</style>\n",
       "<table border=\"1\" class=\"dataframe\">\n",
       "  <thead>\n",
       "    <tr style=\"text-align: right;\">\n",
       "      <th></th>\n",
       "      <th>A01</th>\n",
       "      <th>A02</th>\n",
       "      <th>A03</th>\n",
       "      <th>A04</th>\n",
       "      <th>A05</th>\n",
       "      <th>A06</th>\n",
       "      <th>A07</th>\n",
       "      <th>A08</th>\n",
       "      <th>A09</th>\n",
       "      <th>A10</th>\n",
       "      <th>...</th>\n",
       "      <th>C06</th>\n",
       "      <th>C07</th>\n",
       "      <th>C08</th>\n",
       "      <th>C09</th>\n",
       "      <th>C10</th>\n",
       "      <th>C11</th>\n",
       "      <th>C12</th>\n",
       "      <th>D01</th>\n",
       "      <th>D02</th>\n",
       "      <th>D03</th>\n",
       "    </tr>\n",
       "    <tr>\n",
       "      <th>NAME</th>\n",
       "      <th></th>\n",
       "      <th></th>\n",
       "      <th></th>\n",
       "      <th></th>\n",
       "      <th></th>\n",
       "      <th></th>\n",
       "      <th></th>\n",
       "      <th></th>\n",
       "      <th></th>\n",
       "      <th></th>\n",
       "      <th></th>\n",
       "      <th></th>\n",
       "      <th></th>\n",
       "      <th></th>\n",
       "      <th></th>\n",
       "      <th></th>\n",
       "      <th></th>\n",
       "      <th></th>\n",
       "      <th></th>\n",
       "      <th></th>\n",
       "      <th></th>\n",
       "    </tr>\n",
       "  </thead>\n",
       "  <tbody>\n",
       "    <tr>\n",
       "      <th>StromalScore</th>\n",
       "      <td>213.898183</td>\n",
       "      <td>441.185072</td>\n",
       "      <td>627.161634</td>\n",
       "      <td>-257.879171</td>\n",
       "      <td>-105.932457</td>\n",
       "      <td>-179.742309</td>\n",
       "      <td>-667.871861</td>\n",
       "      <td>-554.187271</td>\n",
       "      <td>-467.547274</td>\n",
       "      <td>-424.048973</td>\n",
       "      <td>...</td>\n",
       "      <td>276.215651</td>\n",
       "      <td>819.700176</td>\n",
       "      <td>542.094611</td>\n",
       "      <td>446.049523</td>\n",
       "      <td>100.214812</td>\n",
       "      <td>640.683420</td>\n",
       "      <td>1028.302292</td>\n",
       "      <td>631.494907</td>\n",
       "      <td>843.594952</td>\n",
       "      <td>-393.705822</td>\n",
       "    </tr>\n",
       "    <tr>\n",
       "      <th>ImmuneScore</th>\n",
       "      <td>789.397143</td>\n",
       "      <td>1103.963967</td>\n",
       "      <td>996.569838</td>\n",
       "      <td>119.238243</td>\n",
       "      <td>354.124225</td>\n",
       "      <td>197.378769</td>\n",
       "      <td>-395.243536</td>\n",
       "      <td>-16.422432</td>\n",
       "      <td>-469.452988</td>\n",
       "      <td>-563.011739</td>\n",
       "      <td>...</td>\n",
       "      <td>-18.442529</td>\n",
       "      <td>526.734281</td>\n",
       "      <td>-25.089182</td>\n",
       "      <td>238.412959</td>\n",
       "      <td>-60.730519</td>\n",
       "      <td>890.081437</td>\n",
       "      <td>776.296638</td>\n",
       "      <td>680.327079</td>\n",
       "      <td>892.726571</td>\n",
       "      <td>-226.504212</td>\n",
       "    </tr>\n",
       "    <tr>\n",
       "      <th>ESTIMATEScore</th>\n",
       "      <td>1003.295326</td>\n",
       "      <td>1545.149039</td>\n",
       "      <td>1623.731472</td>\n",
       "      <td>-138.640928</td>\n",
       "      <td>248.191767</td>\n",
       "      <td>17.636459</td>\n",
       "      <td>-1063.115397</td>\n",
       "      <td>-570.609703</td>\n",
       "      <td>-937.000262</td>\n",
       "      <td>-987.060713</td>\n",
       "      <td>...</td>\n",
       "      <td>257.773122</td>\n",
       "      <td>1346.434456</td>\n",
       "      <td>517.005428</td>\n",
       "      <td>684.462482</td>\n",
       "      <td>39.484294</td>\n",
       "      <td>1530.764858</td>\n",
       "      <td>1804.598930</td>\n",
       "      <td>1311.821985</td>\n",
       "      <td>1736.321523</td>\n",
       "      <td>-620.210034</td>\n",
       "    </tr>\n",
       "    <tr>\n",
       "      <th>TumorPurity</th>\n",
       "      <td>0.730147</td>\n",
       "      <td>0.673548</td>\n",
       "      <td>0.664978</td>\n",
       "      <td>0.833913</td>\n",
       "      <td>0.801248</td>\n",
       "      <td>0.821034</td>\n",
       "      <td>0.900910</td>\n",
       "      <td>0.867208</td>\n",
       "      <td>0.892722</td>\n",
       "      <td>0.896009</td>\n",
       "      <td>...</td>\n",
       "      <td>0.800405</td>\n",
       "      <td>0.694819</td>\n",
       "      <td>0.777021</td>\n",
       "      <td>0.761314</td>\n",
       "      <td>0.819199</td>\n",
       "      <td>0.675108</td>\n",
       "      <td>0.644917</td>\n",
       "      <td>0.698464</td>\n",
       "      <td>0.652544</td>\n",
       "      <td>0.870811</td>\n",
       "    </tr>\n",
       "  </tbody>\n",
       "</table>\n",
       "<p>4 rows × 38 columns</p>\n",
       "</div>"
      ],
      "text/plain": [
       "                       A01          A02          A03         A04         A05  \\\n",
       "NAME                                                                           \n",
       "StromalScore    213.898183   441.185072   627.161634 -257.879171 -105.932457   \n",
       "ImmuneScore     789.397143  1103.963967   996.569838  119.238243  354.124225   \n",
       "ESTIMATEScore  1003.295326  1545.149039  1623.731472 -138.640928  248.191767   \n",
       "TumorPurity       0.730147     0.673548     0.664978    0.833913    0.801248   \n",
       "\n",
       "                      A06          A07         A08         A09         A10  \\\n",
       "NAME                                                                         \n",
       "StromalScore  -179.742309  -667.871861 -554.187271 -467.547274 -424.048973   \n",
       "ImmuneScore    197.378769  -395.243536  -16.422432 -469.452988 -563.011739   \n",
       "ESTIMATEScore   17.636459 -1063.115397 -570.609703 -937.000262 -987.060713   \n",
       "TumorPurity      0.821034     0.900910    0.867208    0.892722    0.896009   \n",
       "\n",
       "               ...         C06          C07         C08         C09  \\\n",
       "NAME           ...                                                    \n",
       "StromalScore   ...  276.215651   819.700176  542.094611  446.049523   \n",
       "ImmuneScore    ...  -18.442529   526.734281  -25.089182  238.412959   \n",
       "ESTIMATEScore  ...  257.773122  1346.434456  517.005428  684.462482   \n",
       "TumorPurity    ...    0.800405     0.694819    0.777021    0.761314   \n",
       "\n",
       "                      C10          C11          C12          D01          D02  \\\n",
       "NAME                                                                            \n",
       "StromalScore   100.214812   640.683420  1028.302292   631.494907   843.594952   \n",
       "ImmuneScore    -60.730519   890.081437   776.296638   680.327079   892.726571   \n",
       "ESTIMATEScore   39.484294  1530.764858  1804.598930  1311.821985  1736.321523   \n",
       "TumorPurity      0.819199     0.675108     0.644917     0.698464     0.652544   \n",
       "\n",
       "                      D03  \n",
       "NAME                       \n",
       "StromalScore  -393.705822  \n",
       "ImmuneScore   -226.504212  \n",
       "ESTIMATEScore -620.210034  \n",
       "TumorPurity      0.870811  \n",
       "\n",
       "[4 rows x 38 columns]"
      ]
     },
     "execution_count": 13,
     "metadata": {},
     "output_type": "execute_result"
    }
   ],
   "source": [
    "mRNA_tumcell.head()"
   ]
  },
  {
   "cell_type": "code",
   "execution_count": 14,
   "metadata": {},
   "outputs": [],
   "source": [
    "sample_labels['TumourCellularity_mRNA'] = mRNA_tumcell.loc['TumorPurity']"
   ]
  },
  {
   "cell_type": "code",
   "execution_count": 15,
   "metadata": {},
   "outputs": [],
   "source": [
    "file_nes = home + \"/Data/1/HallmarksStromaImmune_NES.txt\"\n",
    "\n",
    "data_nes = pd.read_csv(file_nes,\n",
    "                       sep='\\t')\n",
    "\n",
    "data_nes.set_index('Term',\n",
    "                   inplace=True)"
   ]
  },
  {
   "cell_type": "code",
   "execution_count": 16,
   "metadata": {},
   "outputs": [
    {
     "data": {
      "text/plain": [
       "Index(['HALLMARK_TNFA_SIGNALING_VIA_NFKB', 'HALLMARK_HYPOXIA',\n",
       "       'HALLMARK_CHOLESTEROL_HOMEOSTASIS', 'HALLMARK_MITOTIC_SPINDLE',\n",
       "       'HALLMARK_WNT_BETA_CATENIN_SIGNALING', 'HALLMARK_TGF_BETA_SIGNALING',\n",
       "       'HALLMARK_IL6_JAK_STAT3_SIGNALING', 'HALLMARK_DNA_REPAIR',\n",
       "       'HALLMARK_G2M_CHECKPOINT', 'HALLMARK_APOPTOSIS',\n",
       "       'HALLMARK_NOTCH_SIGNALING', 'HALLMARK_ADIPOGENESIS',\n",
       "       'HALLMARK_ESTROGEN_RESPONSE_EARLY', 'HALLMARK_ESTROGEN_RESPONSE_LATE',\n",
       "       'HALLMARK_ANDROGEN_RESPONSE', 'HALLMARK_MYOGENESIS',\n",
       "       'HALLMARK_PROTEIN_SECRETION', 'HALLMARK_INTERFERON_ALPHA_RESPONSE',\n",
       "       'HALLMARK_INTERFERON_GAMMA_RESPONSE', 'HALLMARK_APICAL_JUNCTION',\n",
       "       'HALLMARK_APICAL_SURFACE', 'HALLMARK_HEDGEHOG_SIGNALING',\n",
       "       'HALLMARK_COMPLEMENT', 'HALLMARK_UNFOLDED_PROTEIN_RESPONSE',\n",
       "       'HALLMARK_PI3K_AKT_MTOR_SIGNALING', 'HALLMARK_MTORC1_SIGNALING',\n",
       "       'HALLMARK_E2F_TARGETS', 'HALLMARK_MYC_TARGETS_V1',\n",
       "       'HALLMARK_MYC_TARGETS_V2', 'HALLMARK_EPITHELIAL_MESENCHYMAL_TRANSITION',\n",
       "       'HALLMARK_INFLAMMATORY_RESPONSE', 'HALLMARK_XENOBIOTIC_METABOLISM',\n",
       "       'HALLMARK_FATTY_ACID_METABOLISM', 'HALLMARK_OXIDATIVE_PHOSPHORYLATION',\n",
       "       'HALLMARK_GLYCOLYSIS', 'HALLMARK_REACTIVE_OXIGEN_SPECIES_PATHWAY',\n",
       "       'HALLMARK_P53_PATHWAY', 'HALLMARK_UV_RESPONSE_UP',\n",
       "       'HALLMARK_UV_RESPONSE_DN', 'HALLMARK_ANGIOGENESIS',\n",
       "       'HALLMARK_HEME_METABOLISM', 'HALLMARK_COAGULATION',\n",
       "       'HALLMARK_IL2_STAT5_SIGNALING', 'HALLMARK_BILE_ACID_METABOLISM',\n",
       "       'HALLMARK_PEROXISOME', 'HALLMARK_ALLOGRAFT_REJECTION',\n",
       "       'HALLMARK_SPERMATOGENESIS', 'HALLMARK_KRAS_SIGNALING_UP',\n",
       "       'HALLMARK_KRAS_SIGNALING_DN', 'HALLMARK_PANCREAS_BETA_CELLS',\n",
       "       'StromalSignature', 'ImmuneSignature'],\n",
       "      dtype='object', name='Term')"
      ]
     },
     "execution_count": 16,
     "metadata": {},
     "output_type": "execute_result"
    }
   ],
   "source": [
    "data_nes.index"
   ]
  },
  {
   "cell_type": "code",
   "execution_count": 19,
   "metadata": {},
   "outputs": [],
   "source": [
    "sample_labels['WNT'] = data_nes.loc['HALLMARK_WNT_BETA_CATENIN_SIGNALING']"
   ]
  },
  {
   "cell_type": "code",
   "execution_count": 20,
   "metadata": {},
   "outputs": [],
   "source": [
    "sample_labels['Immune'] = data_nes.loc['ImmuneSignature']"
   ]
  },
  {
   "cell_type": "code",
   "execution_count": 21,
   "metadata": {},
   "outputs": [],
   "source": [
    "x = \"WNT\"\n",
    "y = \"Immune\""
   ]
  },
  {
   "cell_type": "code",
   "execution_count": 22,
   "metadata": {},
   "outputs": [
    {
     "data": {
      "image/png": "[encoded data removed]",
      "text/plain": [
       "<Figure size 360x360 with 1 Axes>"
      ]
     },
     "metadata": {},
     "output_type": "display_data"
    }
   ],
   "source": [
    "g = sns.lmplot(x=x,\n",
    "               y=y,\n",
    "               data=sample_labels,\n",
    "               truncate=True,\n",
    "               scatter_kws={'color':'None'},\n",
    "               line_kws={'color':'k',\n",
    "                         'zorder':0})\n",
    "\n",
    "for sample in sample_labels.index:\n",
    "    \n",
    "    x_tumcell = sample_labels[x][sample]\n",
    "    y_tumcell = sample_labels[y][sample]\n",
    "    colour = sample_labels.Colour[sample]\n",
    "    marker = sample_labels.Site_marker[sample]\n",
    "    \n",
    "    plt.scatter(x_tumcell,\n",
    "                y_tumcell,\n",
    "                marker=marker,\n",
    "                c=colour,\n",
    "                zorder=1)\n",
    "    \n",
    "sns.despine(trim=False)"
   ]
  },
  {
   "cell_type": "code",
   "execution_count": 23,
   "metadata": {},
   "outputs": [
    {
     "name": "stdout",
     "output_type": "stream",
     "text": [
      "OVCT_Fig_m1.pdf  OVCT_Fig_m1.png  README.md        \u001b[34mpanels\u001b[m\u001b[m/\r\n"
     ]
    }
   ],
   "source": [
    "ls ../../Figures/main/1/"
   ]
  },
  {
   "cell_type": "code",
   "execution_count": 24,
   "metadata": {},
   "outputs": [],
   "source": [
    "FILE = \"../../Figures/supplementary/1/panels/s1g_WNT_Immune_corr.pdf\"\n",
    "\n",
    "g.savefig(FILE, bbox='tight')"
   ]
  },
  {
   "cell_type": "markdown",
   "metadata": {},
   "source": [
    "### Calculate normality of distribution\n"
   ]
  },
  {
   "cell_type": "code",
   "execution_count": 25,
   "metadata": {},
   "outputs": [],
   "source": [
    "import scipy.stats\n",
    "from statsmodels.graphics.gofplots import qqplot"
   ]
  },
  {
   "cell_type": "code",
   "execution_count": 26,
   "metadata": {},
   "outputs": [
    {
     "data": {
      "text/plain": [
       "<matplotlib.axes._subplots.AxesSubplot at 0x1a1a702e10>"
      ]
     },
     "execution_count": 26,
     "metadata": {},
     "output_type": "execute_result"
    },
    {
     "data": {
      "image/png": "[encoded data removed]",
      "text/plain": [
       "<Figure size 432x288 with 1 Axes>"
      ]
     },
     "metadata": {},
     "output_type": "display_data"
    }
   ],
   "source": [
    "sample_labels[x].dropna().plot(kind=\"kde\")"
   ]
  },
  {
   "cell_type": "code",
   "execution_count": 27,
   "metadata": {},
   "outputs": [
    {
     "data": {
      "text/plain": [
       "<matplotlib.axes._subplots.AxesSubplot at 0x1a1a1d7198>"
      ]
     },
     "execution_count": 27,
     "metadata": {},
     "output_type": "execute_result"
    },
    {
     "data": {
      "image/png": "[encoded data removed]",
      "text/plain": [
       "<Figure size 432x288 with 1 Axes>"
      ]
     },
     "metadata": {},
     "output_type": "display_data"
    }
   ],
   "source": [
    "sample_labels[y].dropna().plot(kind=\"kde\")"
   ]
  },
  {
   "cell_type": "code",
   "execution_count": 28,
   "metadata": {},
   "outputs": [
    {
     "data": {
      "image/png": "[encoded data removed]",
      "text/plain": [
       "<Figure size 432x288 with 1 Axes>"
      ]
     },
     "metadata": {},
     "output_type": "display_data"
    }
   ],
   "source": [
    "f = qqplot(sample_labels[x].dropna(),\n",
    "       line='s')"
   ]
  },
  {
   "cell_type": "code",
   "execution_count": 29,
   "metadata": {},
   "outputs": [
    {
     "data": {
      "image/png": "[encoded data removed]",
      "text/plain": [
       "<Figure size 432x288 with 1 Axes>"
      ]
     },
     "metadata": {},
     "output_type": "display_data"
    }
   ],
   "source": [
    "f = qqplot(sample_labels[y].dropna(),line='s')"
   ]
  },
  {
   "cell_type": "code",
   "execution_count": 31,
   "metadata": {},
   "outputs": [
    {
     "data": {
      "text/plain": [
       "(0.969440758228302, 0.37687063217163086)"
      ]
     },
     "execution_count": 31,
     "metadata": {},
     "output_type": "execute_result"
    }
   ],
   "source": [
    "scipy.stats.shapiro(sample_labels[x].dropna())\n",
    "\n",
    "# Looks normal"
   ]
  },
  {
   "cell_type": "code",
   "execution_count": 32,
   "metadata": {},
   "outputs": [
    {
     "data": {
      "text/plain": [
       "(0.9881640672683716, 0.9531522393226624)"
      ]
     },
     "execution_count": 32,
     "metadata": {},
     "output_type": "execute_result"
    }
   ],
   "source": [
    "scipy.stats.shapiro(sample_labels[y].dropna())\n",
    "\n",
    "# Looks normal"
   ]
  },
  {
   "cell_type": "code",
   "execution_count": 33,
   "metadata": {},
   "outputs": [
    {
     "data": {
      "text/plain": [
       "NormaltestResult(statistic=3.00942779215568, pvalue=0.22208082293803197)"
      ]
     },
     "execution_count": 33,
     "metadata": {},
     "output_type": "execute_result"
    }
   ],
   "source": [
    "scipy.stats.normaltest(sample_labels[x].dropna())\n",
    "\n",
    "# Looks normal"
   ]
  },
  {
   "cell_type": "code",
   "execution_count": 34,
   "metadata": {},
   "outputs": [
    {
     "data": {
      "text/plain": [
       "NormaltestResult(statistic=0.5585690659583893, pvalue=0.7563246732839647)"
      ]
     },
     "execution_count": 34,
     "metadata": {},
     "output_type": "execute_result"
    }
   ],
   "source": [
    "scipy.stats.normaltest(sample_labels[y].dropna())\n",
    "\n",
    "# Looks normal"
   ]
  },
  {
   "cell_type": "code",
   "execution_count": 35,
   "metadata": {},
   "outputs": [
    {
     "data": {
      "text/plain": [
       "AndersonResult(statistic=0.3397931278484734, critical_values=array([0.529, 0.603, 0.723, 0.844, 1.004]), significance_level=array([15. , 10. ,  5. ,  2.5,  1. ]))"
      ]
     },
     "execution_count": 35,
     "metadata": {},
     "output_type": "execute_result"
    }
   ],
   "source": [
    "scipy.stats.anderson(sample_labels[x].dropna(), 'norm')\n",
    "\n",
    "# Looks normal"
   ]
  },
  {
   "cell_type": "code",
   "execution_count": 36,
   "metadata": {},
   "outputs": [
    {
     "data": {
      "text/plain": [
       "AndersonResult(statistic=0.18480817937317084, critical_values=array([0.529, 0.603, 0.723, 0.844, 1.004]), significance_level=array([15. , 10. ,  5. ,  2.5,  1. ]))"
      ]
     },
     "execution_count": 36,
     "metadata": {},
     "output_type": "execute_result"
    }
   ],
   "source": [
    "scipy.stats.anderson(sample_labels[y].dropna(), 'norm')\n",
    "\n",
    "# Looks normal"
   ]
  },
  {
   "cell_type": "code",
   "execution_count": 37,
   "metadata": {},
   "outputs": [
    {
     "data": {
      "text/plain": [
       "BartlettResult(statistic=19.450528298430154, pvalue=1.0323927972177562e-05)"
      ]
     },
     "execution_count": 37,
     "metadata": {},
     "output_type": "execute_result"
    }
   ],
   "source": [
    "scipy.stats.bartlett(\n",
    "    sample_labels[x],\n",
    "    sample_labels[y]\n",
    ")\n",
    "\n",
    "# not same variance (heteroscedastic)"
   ]
  },
  {
   "cell_type": "code",
   "execution_count": 38,
   "metadata": {},
   "outputs": [
    {
     "data": {
      "text/plain": [
       "LeveneResult(statistic=19.054915478437366, pvalue=4.059763142020858e-05)"
      ]
     },
     "execution_count": 38,
     "metadata": {},
     "output_type": "execute_result"
    }
   ],
   "source": [
    "scipy.stats.levene(\n",
    "    sample_labels[x],\n",
    "    sample_labels[y]\n",
    ")\n",
    "\n",
    "# not same variance (heteroscedastic)"
   ]
  },
  {
   "cell_type": "markdown",
   "metadata": {},
   "source": [
    "Use kendall"
   ]
  },
  {
   "cell_type": "code",
   "execution_count": 39,
   "metadata": {},
   "outputs": [
    {
     "data": {
      "text/plain": [
       "KendalltauResult(correlation=-0.34285714285714286, pvalue=0.0032598081188732436)"
      ]
     },
     "execution_count": 39,
     "metadata": {},
     "output_type": "execute_result"
    }
   ],
   "source": [
    "kendalltau(list(sample_labels.dropna()[x]),\n",
    "           list(sample_labels.dropna()[y]), method=\"asymptotic\")"
   ]
  },
  {
   "cell_type": "code",
   "execution_count": 40,
   "metadata": {},
   "outputs": [
    {
     "data": {
      "text/plain": [
       "{1, 4, 5, 6, 10, 13, 16, 17}"
      ]
     },
     "execution_count": 40,
     "metadata": {},
     "output_type": "execute_result"
    }
   ],
   "source": [
    "set(sample_labels[\"Case_mRNA\"])"
   ]
  },
  {
   "cell_type": "markdown",
   "metadata": {},
   "source": [
    "### Plot each patient independently"
   ]
  },
  {
   "cell_type": "code",
   "execution_count": 45,
   "metadata": {
    "scrolled": false
   },
   "outputs": [
    {
     "name": "stdout",
     "output_type": "stream",
     "text": [
      "1\n",
      "4\n",
      "5\n",
      "6\n",
      "10\n",
      "13\n",
      "16\n",
      "17\n"
     ]
    },
    {
     "data": {
      "image/png": "[encoded data removed]",
      "text/plain": [
       "<Figure size 360x360 with 1 Axes>"
      ]
     },
     "metadata": {},
     "output_type": "display_data"
    },
    {
     "data": {
      "image/png": "[encoded data removed]",
      "text/plain": [
       "<Figure size 360x360 with 1 Axes>"
      ]
     },
     "metadata": {},
     "output_type": "display_data"
    },
    {
     "data": {
      "image/png": "[encoded data removed]",
      "text/plain": [
       "<Figure size 360x360 with 1 Axes>"
      ]
     },
     "metadata": {},
     "output_type": "display_data"
    },
    {
     "data": {
      "image/png": "[encoded data removed]",
      "text/plain": [
       "<Figure size 360x360 with 1 Axes>"
      ]
     },
     "metadata": {},
     "output_type": "display_data"
    },
    {
     "data": {
      "image/png": "[encoded data removed]",
      "text/plain": [
       "<Figure size 360x360 with 1 Axes>"
      ]
     },
     "metadata": {},
     "output_type": "display_data"
    },
    {
     "data": {
      "image/png": "[encoded data removed]",
      "text/plain": [
       "<Figure size 360x360 with 1 Axes>"
      ]
     },
     "metadata": {},
     "output_type": "display_data"
    },
    {
     "data": {
      "image/png": "[encoded data removed]",
      "text/plain": [
       "<Figure size 360x360 with 1 Axes>"
      ]
     },
     "metadata": {},
     "output_type": "display_data"
    },
    {
     "data": {
      "image/png": "[encoded data removed]",
      "text/plain": [
       "<Figure size 360x360 with 1 Axes>"
      ]
     },
     "metadata": {},
     "output_type": "display_data"
    }
   ],
   "source": [
    "correlations = []\n",
    "for case in set(sample_labels[\"Case_mRNA\"]):\n",
    "    \n",
    "    print(case)\n",
    "    \n",
    "    df = sample_labels[sample_labels[\"Case_mRNA\"] == case]\n",
    "\n",
    "    g = sns.lmplot(x=x,\n",
    "                   y=y,\n",
    "                   data=df,\n",
    "                   truncate=True,\n",
    "                   ci=None,\n",
    "                   scatter_kws={'color':'None'},\n",
    "                   line_kws={'color':'k',\n",
    "                             'zorder':0})\n",
    "\n",
    "    for sample in df.index:\n",
    "\n",
    "        x_tumcell = df[x][sample]\n",
    "        y_tumcell = df[y][sample]\n",
    "        colour = df.Colour[sample]\n",
    "        marker = df.Site_marker[sample]\n",
    "\n",
    "        plt.scatter(x_tumcell,\n",
    "                    y_tumcell,\n",
    "                    marker=marker,\n",
    "                    c=colour,\n",
    "                    zorder=1)\n",
    "\n",
    "    sns.despine(trim=False)\n",
    "    \n",
    "    axes = g.axes\n",
    "\n",
    "    axes[0,0].set_xlim(0.1,0.3)\n",
    "    axes[0,0].set_ylim(-0.1,0.3)\n",
    "    \n",
    "    f = \"../../Figures/supplementary/1/panels/s1g_WNT_Immune_corr_%s.pdf\" % case\n",
    "    \n",
    "    g.savefig(f, bbox='tight')"
   ]
  },
  {
   "cell_type": "code",
   "execution_count": 46,
   "metadata": {},
   "outputs": [],
   "source": [
    "import scipy.stats"
   ]
  },
  {
   "cell_type": "code",
   "execution_count": 47,
   "metadata": {},
   "outputs": [],
   "source": [
    "df = sample_labels[sample_labels[\"Case_mRNA\"] == 1]"
   ]
  },
  {
   "cell_type": "code",
   "execution_count": 48,
   "metadata": {},
   "outputs": [
    {
     "data": {
      "text/plain": [
       "NormaltestResult(statistic=3.00942779215568, pvalue=0.22208082293803197)"
      ]
     },
     "execution_count": 48,
     "metadata": {},
     "output_type": "execute_result"
    }
   ],
   "source": [
    "scipy.stats.normaltest(sample_labels[x].dropna())"
   ]
  },
  {
   "cell_type": "code",
   "execution_count": 49,
   "metadata": {},
   "outputs": [
    {
     "data": {
      "text/plain": [
       "0.5444501042366028"
      ]
     },
     "execution_count": 49,
     "metadata": {},
     "output_type": "execute_result"
    }
   ],
   "source": [
    "scipy.stats.shapiro(df[x].dropna())[1]"
   ]
  },
  {
   "cell_type": "code",
   "execution_count": 50,
   "metadata": {},
   "outputs": [
    {
     "name": "stdout",
     "output_type": "stream",
     "text": [
      "1\n",
      "\n",
      "Normal\n",
      "HOMOscedastic\n",
      "\n",
      "anderson\n",
      "0.26160603825789686 [1.317 1.499 1.799 2.098 2.496]\n",
      "0.16657957840905535 [1.317 1.499 1.799 2.098 2.496]\n",
      "\n",
      "\n",
      "PEARSON\n",
      "(0.22232237062332744, 0.7776776293766725)\n",
      "\n",
      "\n",
      "4\n",
      "\n",
      "Normal\n",
      "HOMOscedastic\n",
      "\n",
      "anderson\n",
      "0.26763929568196687 [0.72  0.82  0.984 1.148 1.365]\n",
      "0.39356816077509205 [0.72  0.82  0.984 1.148 1.365]\n",
      "\n",
      "\n",
      "PEARSON\n",
      "(-0.9462719966524533, 0.014828716316070334)\n",
      "\n",
      "\n",
      "5\n",
      "\n",
      "Normal\n",
      "HOMOscedastic\n",
      "\n",
      "anderson\n",
      "0.27194120476146466 [1.317 1.499 1.799 2.098 2.496]\n",
      "0.407338716145472 [1.317 1.499 1.799 2.098 2.496]\n",
      "\n",
      "\n",
      "PEARSON\n",
      "(0.20540373672160364, 0.7945962632783964)\n",
      "\n",
      "\n",
      "6\n",
      "\n",
      "Normal\n",
      "HOMOscedastic\n",
      "\n",
      "anderson\n",
      "0.20696541707660998 [1.317 1.499 1.799 2.098 2.496]\n",
      "0.3468550866746778 [1.317 1.499 1.799 2.098 2.496]\n",
      "\n",
      "\n",
      "PEARSON\n",
      "(-0.2415688742325786, 0.7584311257674214)\n",
      "\n",
      "\n",
      "10\n",
      "\n",
      "Normal\n",
      "HOMOscedastic\n",
      "\n",
      "anderson\n",
      "0.18520444514903378 [0.592 0.675 0.809 0.944 1.123]\n",
      "0.3339377657805853 [0.592 0.675 0.809 0.944 1.123]\n",
      "\n",
      "\n",
      "PEARSON\n",
      "(-0.7841008142339718, 0.06488689171253635)\n",
      "\n",
      "\n",
      "13\n",
      "\n",
      "Normal\n",
      "HOMOscedastic\n",
      "\n",
      "anderson\n",
      "0.4168490786655461 [0.72  0.82  0.984 1.148 1.365]\n",
      "0.42882940794668656 [0.72  0.82  0.984 1.148 1.365]\n",
      "\n",
      "\n",
      "PEARSON\n",
      "(-0.8423023735190344, 0.07337061250319571)\n",
      "\n",
      "\n",
      "16\n",
      "\n",
      "Normal\n",
      "HOMOscedastic\n",
      "\n",
      "anderson\n",
      "0.20814982758229394 [0.72  0.82  0.984 1.148 1.365]\n",
      "0.5872484329065415 [0.72  0.82  0.984 1.148 1.365]\n",
      "\n",
      "\n",
      "PEARSON\n",
      "(0.035140196703983245, 0.9552673217828516)\n",
      "\n",
      "\n",
      "17\n",
      "\n",
      "NOT normal\n",
      "HOMOscedastic\n",
      "\n",
      "KENDALL\n",
      "KendalltauResult(correlation=0.39999999999999997, pvalue=0.32718687779030586)\n"
     ]
    }
   ],
   "source": [
    "correlations = []\n",
    "for case in set(sample_labels[\"Case_mRNA\"]):\n",
    "\n",
    "    print(str(case)+\"\\n\")\n",
    "    \n",
    "    df = sample_labels[sample_labels[\"Case_mRNA\"] == case]\n",
    "\n",
    "    x_values = df[x].values\n",
    "    y_values = df[y].values\n",
    "\n",
    "    n1 = scipy.stats.shapiro(x_values)[1]\n",
    "    n2 = scipy.stats.shapiro(y_values)[1]\n",
    "\n",
    "    #n3 = scipy.stats.normaltest(x)[1]\n",
    "    #n4 = scipy.stats.normaltest(y)[1]\n",
    "\n",
    "    n5 = scipy.stats.anderson(x_values)\n",
    "    n6 = scipy.stats.anderson(y_values)\n",
    "\n",
    "    if min([n1,n2]) < 0.05: # it's not normal\n",
    "\n",
    "        print(\"NOT normal\")\n",
    "\n",
    "        h1 = scipy.stats.levene(x_values, y_values)[1]\n",
    "\n",
    "        if h1 < 0.05:\n",
    "            print(\"HETEROscedastic\\n\")\n",
    "            #print(h1)\n",
    "        else:\n",
    "            print(\"HOMOscedastic\\n\")\n",
    "\n",
    "    else:\n",
    "\n",
    "        print(\"Normal\")\n",
    "\n",
    "        h1 = scipy.stats.bartlett(x_values,y_values)[1]\n",
    "\n",
    "        if h1 < 0.05:\n",
    "            print(\"HETEROscedastic\\n\")\n",
    "        else:\n",
    "            print(\"HOMOscedastic\\n\")\n",
    "\n",
    "    if min([n1,n2,h1]) < 0.05:\n",
    "\n",
    "        print(\"KENDALL\")\n",
    "\n",
    "        print(scipy.stats.kendalltau(x_values,y_values,method=\"asymptotic\"))\n",
    "        \n",
    "        cor, p_val = scipy.stats.kendalltau(x_values,y_values)\n",
    "\n",
    "    else:\n",
    "\n",
    "        print(\"anderson\")\n",
    "\n",
    "        print(n5[0], n5[1])\n",
    "        print(n6[0], n6[1])\n",
    "        print(\"\\n\")\n",
    "\n",
    "        print(\"PEARSON\")\n",
    "        print(scipy.stats.pearsonr(x_values,y_values))\n",
    "\n",
    "        print(\"\\n\")\n",
    "        \n",
    "        cor, p_val = scipy.stats.pearsonr(x_values,y_values)\n",
    "                \n",
    "    correlations.append((str(case),cor,p_val))"
   ]
  },
  {
   "cell_type": "code",
   "execution_count": 51,
   "metadata": {},
   "outputs": [
    {
     "data": {
      "text/plain": [
       "[('1', 0.22232237062332744, 0.7776776293766725),\n",
       " ('4', -0.9462719966524533, 0.014828716316070334),\n",
       " ('5', 0.20540373672160364, 0.7945962632783964),\n",
       " ('6', -0.2415688742325786, 0.7584311257674214),\n",
       " ('10', -0.7841008142339718, 0.06488689171253635),\n",
       " ('13', -0.8423023735190344, 0.07337061250319571),\n",
       " ('16', 0.035140196703983245, 0.9552673217828516),\n",
       " ('17', 0.39999999999999997, 0.48333333333333334)]"
      ]
     },
     "execution_count": 51,
     "metadata": {},
     "output_type": "execute_result"
    }
   ],
   "source": [
    "correlations"
   ]
  },
  {
   "cell_type": "code",
   "execution_count": 52,
   "metadata": {},
   "outputs": [
    {
     "data": {
      "text/plain": [
       "[0.7776776293766725,\n",
       " 0.014828716316070334,\n",
       " 0.7945962632783964,\n",
       " 0.7584311257674214,\n",
       " 0.06488689171253635,\n",
       " 0.07337061250319571,\n",
       " 0.9552673217828516,\n",
       " 0.48333333333333334]"
      ]
     },
     "execution_count": 52,
     "metadata": {},
     "output_type": "execute_result"
    }
   ],
   "source": [
    "pvals = [corr[2] for corr in correlations]\n",
    "\n",
    "pvals"
   ]
  },
  {
   "cell_type": "markdown",
   "metadata": {},
   "source": [
    "## Compare Wnt NEAS between Low vs High tumor cellularity"
   ]
  },
  {
   "cell_type": "code",
   "execution_count": 53,
   "metadata": {},
   "outputs": [
    {
     "data": {
      "text/html": [
       "<div>\n",
       "<style scoped>\n",
       "    .dataframe tbody tr th:only-of-type {\n",
       "        vertical-align: middle;\n",
       "    }\n",
       "\n",
       "    .dataframe tbody tr th {\n",
       "        vertical-align: top;\n",
       "    }\n",
       "\n",
       "    .dataframe thead th {\n",
       "        text-align: right;\n",
       "    }\n",
       "</style>\n",
       "<table border=\"1\" class=\"dataframe\">\n",
       "  <thead>\n",
       "    <tr style=\"text-align: right;\">\n",
       "      <th></th>\n",
       "      <th>Label</th>\n",
       "      <th>Key</th>\n",
       "      <th>Case_mRNA</th>\n",
       "      <th>Site</th>\n",
       "      <th>Habitat</th>\n",
       "      <th>Case_WES</th>\n",
       "      <th>Tumour_WES</th>\n",
       "      <th>Colour</th>\n",
       "      <th>Site_marker</th>\n",
       "      <th>TumourCellularity_WES</th>\n",
       "      <th>TumourCellularity_mRNA</th>\n",
       "      <th>WNT</th>\n",
       "      <th>MYC1</th>\n",
       "      <th>MYC2</th>\n",
       "      <th>Immune</th>\n",
       "    </tr>\n",
       "    <tr>\n",
       "      <th>Well</th>\n",
       "      <th></th>\n",
       "      <th></th>\n",
       "      <th></th>\n",
       "      <th></th>\n",
       "      <th></th>\n",
       "      <th></th>\n",
       "      <th></th>\n",
       "      <th></th>\n",
       "      <th></th>\n",
       "      <th></th>\n",
       "      <th></th>\n",
       "      <th></th>\n",
       "      <th></th>\n",
       "      <th></th>\n",
       "      <th></th>\n",
       "    </tr>\n",
       "  </thead>\n",
       "  <tbody>\n",
       "    <tr>\n",
       "      <th>A01</th>\n",
       "      <td>A01_3640_5_Omentum</td>\n",
       "      <td>case10_omentum_green</td>\n",
       "      <td>10</td>\n",
       "      <td>omentum</td>\n",
       "      <td>green</td>\n",
       "      <td>10.0</td>\n",
       "      <td>5</td>\n",
       "      <td>#ff7f00</td>\n",
       "      <td>^</td>\n",
       "      <td>0.5973</td>\n",
       "      <td>0.730147</td>\n",
       "      <td>0.151231</td>\n",
       "      <td>0.638069</td>\n",
       "      <td>0.233093</td>\n",
       "      <td>0.192483</td>\n",
       "    </tr>\n",
       "    <tr>\n",
       "      <th>A02</th>\n",
       "      <td>A02_3640_7_Omentum</td>\n",
       "      <td>case10_omentum_blue</td>\n",
       "      <td>10</td>\n",
       "      <td>omentum</td>\n",
       "      <td>blue</td>\n",
       "      <td>10.0</td>\n",
       "      <td>7</td>\n",
       "      <td>#ff7f00</td>\n",
       "      <td>^</td>\n",
       "      <td>0.5065</td>\n",
       "      <td>0.673548</td>\n",
       "      <td>0.184140</td>\n",
       "      <td>0.636311</td>\n",
       "      <td>0.211932</td>\n",
       "      <td>0.256464</td>\n",
       "    </tr>\n",
       "    <tr>\n",
       "      <th>A03</th>\n",
       "      <td>A03_3640_9_Paracolic_Gutter</td>\n",
       "      <td>case10_paracolic_yellow</td>\n",
       "      <td>10</td>\n",
       "      <td>other</td>\n",
       "      <td>yellow</td>\n",
       "      <td>10.0</td>\n",
       "      <td>8</td>\n",
       "      <td>#ff7f00</td>\n",
       "      <td>s</td>\n",
       "      <td>0.4551</td>\n",
       "      <td>0.664978</td>\n",
       "      <td>0.186732</td>\n",
       "      <td>0.623494</td>\n",
       "      <td>0.230913</td>\n",
       "      <td>0.230664</td>\n",
       "    </tr>\n",
       "    <tr>\n",
       "      <th>A04</th>\n",
       "      <td>A04_3640_17_R_Adnexa</td>\n",
       "      <td>case10_Radnexa_yellow</td>\n",
       "      <td>10</td>\n",
       "      <td>ovary</td>\n",
       "      <td>yellow</td>\n",
       "      <td>10.0</td>\n",
       "      <td>17</td>\n",
       "      <td>#ff7f00</td>\n",
       "      <td>o</td>\n",
       "      <td>0.6496</td>\n",
       "      <td>0.833913</td>\n",
       "      <td>0.263275</td>\n",
       "      <td>0.587537</td>\n",
       "      <td>0.265719</td>\n",
       "      <td>0.080746</td>\n",
       "    </tr>\n",
       "    <tr>\n",
       "      <th>A05</th>\n",
       "      <td>A05_3640_18_R_Adnexa</td>\n",
       "      <td>case10_Radnexa_blue</td>\n",
       "      <td>10</td>\n",
       "      <td>ovary</td>\n",
       "      <td>blue</td>\n",
       "      <td>10.0</td>\n",
       "      <td>18</td>\n",
       "      <td>#ff7f00</td>\n",
       "      <td>o</td>\n",
       "      <td>0.6706</td>\n",
       "      <td>0.801248</td>\n",
       "      <td>0.215427</td>\n",
       "      <td>0.609915</td>\n",
       "      <td>0.236332</td>\n",
       "      <td>0.117609</td>\n",
       "    </tr>\n",
       "    <tr>\n",
       "      <th>A06</th>\n",
       "      <td>A06_3640_19_R_Adnexa</td>\n",
       "      <td>case10_Radnexa_green</td>\n",
       "      <td>10</td>\n",
       "      <td>ovary</td>\n",
       "      <td>green</td>\n",
       "      <td>10.0</td>\n",
       "      <td>19</td>\n",
       "      <td>#ff7f00</td>\n",
       "      <td>o</td>\n",
       "      <td>0.6695</td>\n",
       "      <td>0.821034</td>\n",
       "      <td>0.224450</td>\n",
       "      <td>0.668097</td>\n",
       "      <td>0.253874</td>\n",
       "      <td>0.089100</td>\n",
       "    </tr>\n",
       "    <tr>\n",
       "      <th>A07</th>\n",
       "      <td>A07_3436_3_Omentum</td>\n",
       "      <td>case6_omentum_blue</td>\n",
       "      <td>6</td>\n",
       "      <td>omentum</td>\n",
       "      <td>blue</td>\n",
       "      <td>6.0</td>\n",
       "      <td>3</td>\n",
       "      <td>#984ea3</td>\n",
       "      <td>^</td>\n",
       "      <td>0.7275</td>\n",
       "      <td>0.900910</td>\n",
       "      <td>0.246089</td>\n",
       "      <td>0.631927</td>\n",
       "      <td>0.323947</td>\n",
       "      <td>-0.014748</td>\n",
       "    </tr>\n",
       "    <tr>\n",
       "      <th>A08</th>\n",
       "      <td>A08_3436_12_Ovary</td>\n",
       "      <td>case6_ovary_yellow</td>\n",
       "      <td>6</td>\n",
       "      <td>ovary</td>\n",
       "      <td>yellow</td>\n",
       "      <td>6.0</td>\n",
       "      <td>12</td>\n",
       "      <td>#984ea3</td>\n",
       "      <td>o</td>\n",
       "      <td>0.7929</td>\n",
       "      <td>0.867208</td>\n",
       "      <td>0.243030</td>\n",
       "      <td>0.671235</td>\n",
       "      <td>0.273274</td>\n",
       "      <td>0.049217</td>\n",
       "    </tr>\n",
       "    <tr>\n",
       "      <th>A09</th>\n",
       "      <td>A09_3436_13_Ovary</td>\n",
       "      <td>case6_ovary_blue</td>\n",
       "      <td>6</td>\n",
       "      <td>ovary</td>\n",
       "      <td>blue</td>\n",
       "      <td>6.0</td>\n",
       "      <td>13</td>\n",
       "      <td>#984ea3</td>\n",
       "      <td>o</td>\n",
       "      <td>0.7211</td>\n",
       "      <td>0.892722</td>\n",
       "      <td>0.228552</td>\n",
       "      <td>0.725842</td>\n",
       "      <td>0.357547</td>\n",
       "      <td>-0.023908</td>\n",
       "    </tr>\n",
       "    <tr>\n",
       "      <th>A10</th>\n",
       "      <td>A10_3436_15_Ovary</td>\n",
       "      <td>case6_ovary_white</td>\n",
       "      <td>6</td>\n",
       "      <td>ovary</td>\n",
       "      <td>green</td>\n",
       "      <td>6.0</td>\n",
       "      <td>16</td>\n",
       "      <td>#984ea3</td>\n",
       "      <td>o</td>\n",
       "      <td>0.7920</td>\n",
       "      <td>0.896009</td>\n",
       "      <td>0.258536</td>\n",
       "      <td>0.680477</td>\n",
       "      <td>0.345214</td>\n",
       "      <td>-0.045061</td>\n",
       "    </tr>\n",
       "    <tr>\n",
       "      <th>A11</th>\n",
       "      <td>A11_3387_1_3_Omentum</td>\n",
       "      <td>case1_omentum_blue</td>\n",
       "      <td>1</td>\n",
       "      <td>omentum</td>\n",
       "      <td>blue</td>\n",
       "      <td>1.0</td>\n",
       "      <td>3</td>\n",
       "      <td>#e41a1c</td>\n",
       "      <td>^</td>\n",
       "      <td>0.7017</td>\n",
       "      <td>0.791027</td>\n",
       "      <td>0.259500</td>\n",
       "      <td>0.569857</td>\n",
       "      <td>0.238484</td>\n",
       "      <td>0.136299</td>\n",
       "    </tr>\n",
       "    <tr>\n",
       "      <th>B01</th>\n",
       "      <td>B01_3387_2_5_Ovary</td>\n",
       "      <td>case1_ovary_blue</td>\n",
       "      <td>1</td>\n",
       "      <td>ovary</td>\n",
       "      <td>blue</td>\n",
       "      <td>1.0</td>\n",
       "      <td>5</td>\n",
       "      <td>#e41a1c</td>\n",
       "      <td>o</td>\n",
       "      <td>0.5246</td>\n",
       "      <td>0.644850</td>\n",
       "      <td>0.184879</td>\n",
       "      <td>0.693365</td>\n",
       "      <td>0.314207</td>\n",
       "      <td>0.287914</td>\n",
       "    </tr>\n",
       "    <tr>\n",
       "      <th>B02</th>\n",
       "      <td>B02_3387_2_6_Ovary</td>\n",
       "      <td>case1_ovary_yellow</td>\n",
       "      <td>1</td>\n",
       "      <td>ovary</td>\n",
       "      <td>yellow</td>\n",
       "      <td>1.0</td>\n",
       "      <td>6</td>\n",
       "      <td>#e41a1c</td>\n",
       "      <td>o</td>\n",
       "      <td>0.8579</td>\n",
       "      <td>0.947584</td>\n",
       "      <td>0.149654</td>\n",
       "      <td>0.708793</td>\n",
       "      <td>0.360539</td>\n",
       "      <td>-0.087233</td>\n",
       "    </tr>\n",
       "    <tr>\n",
       "      <th>B03</th>\n",
       "      <td>B03_3387_2_7_Ovary</td>\n",
       "      <td>case1_ovary_green</td>\n",
       "      <td>1</td>\n",
       "      <td>ovary</td>\n",
       "      <td>green</td>\n",
       "      <td>1.0</td>\n",
       "      <td>7</td>\n",
       "      <td>#e41a1c</td>\n",
       "      <td>o</td>\n",
       "      <td>0.7423</td>\n",
       "      <td>0.890087</td>\n",
       "      <td>0.244631</td>\n",
       "      <td>0.629784</td>\n",
       "      <td>0.325733</td>\n",
       "      <td>0.018071</td>\n",
       "    </tr>\n",
       "    <tr>\n",
       "      <th>B04</th>\n",
       "      <td>B04_2839_1_Omentum</td>\n",
       "      <td>case4_omentum_yellow</td>\n",
       "      <td>4</td>\n",
       "      <td>omentum</td>\n",
       "      <td>yellow</td>\n",
       "      <td>4.0</td>\n",
       "      <td>1</td>\n",
       "      <td>#377eb8</td>\n",
       "      <td>^</td>\n",
       "      <td>0.7183</td>\n",
       "      <td>0.904696</td>\n",
       "      <td>0.212855</td>\n",
       "      <td>0.622310</td>\n",
       "      <td>0.354122</td>\n",
       "      <td>0.022793</td>\n",
       "    </tr>\n",
       "    <tr>\n",
       "      <th>B05</th>\n",
       "      <td>B05_2839_2_Omentum</td>\n",
       "      <td>case4_omentum_blue</td>\n",
       "      <td>4</td>\n",
       "      <td>omentum</td>\n",
       "      <td>blue</td>\n",
       "      <td>4.0</td>\n",
       "      <td>2</td>\n",
       "      <td>#377eb8</td>\n",
       "      <td>^</td>\n",
       "      <td>0.7157</td>\n",
       "      <td>0.876039</td>\n",
       "      <td>0.212715</td>\n",
       "      <td>0.614403</td>\n",
       "      <td>0.328790</td>\n",
       "      <td>0.052996</td>\n",
       "    </tr>\n",
       "    <tr>\n",
       "      <th>B06</th>\n",
       "      <td>B06_2839_3_Omentum</td>\n",
       "      <td>case4_omentum_green</td>\n",
       "      <td>4</td>\n",
       "      <td>omentum</td>\n",
       "      <td>green</td>\n",
       "      <td>4.0</td>\n",
       "      <td>3</td>\n",
       "      <td>#377eb8</td>\n",
       "      <td>^</td>\n",
       "      <td>0.6561</td>\n",
       "      <td>0.821542</td>\n",
       "      <td>0.237543</td>\n",
       "      <td>0.611038</td>\n",
       "      <td>0.283739</td>\n",
       "      <td>0.033941</td>\n",
       "    </tr>\n",
       "    <tr>\n",
       "      <th>B07</th>\n",
       "      <td>B07_2839_4_L_ovary_tube_pelvic_side_wall</td>\n",
       "      <td>case4_antNXC_yellow</td>\n",
       "      <td>4</td>\n",
       "      <td>ovary</td>\n",
       "      <td>yellow</td>\n",
       "      <td>4.0</td>\n",
       "      <td>4</td>\n",
       "      <td>#377eb8</td>\n",
       "      <td>o</td>\n",
       "      <td>0.6437</td>\n",
       "      <td>0.704962</td>\n",
       "      <td>0.146712</td>\n",
       "      <td>0.652504</td>\n",
       "      <td>0.270355</td>\n",
       "      <td>0.182113</td>\n",
       "    </tr>\n",
       "    <tr>\n",
       "      <th>B08</th>\n",
       "      <td>B08_2839_6_L_fallopian_tube</td>\n",
       "      <td>case4_postNXC_blue</td>\n",
       "      <td>4</td>\n",
       "      <td>ovary</td>\n",
       "      <td>blue</td>\n",
       "      <td>4.0</td>\n",
       "      <td>5</td>\n",
       "      <td>#377eb8</td>\n",
       "      <td>o</td>\n",
       "      <td>0.6137</td>\n",
       "      <td>0.769271</td>\n",
       "      <td>0.177905</td>\n",
       "      <td>0.604754</td>\n",
       "      <td>0.270843</td>\n",
       "      <td>0.142322</td>\n",
       "    </tr>\n",
       "    <tr>\n",
       "      <th>B09</th>\n",
       "      <td>B09_2489_12_L_Ovary</td>\n",
       "      <td>case5_ovary_blue</td>\n",
       "      <td>5</td>\n",
       "      <td>ovary</td>\n",
       "      <td>blue</td>\n",
       "      <td>5.0</td>\n",
       "      <td>Replicates (12/13)</td>\n",
       "      <td>#4daf4a</td>\n",
       "      <td>o</td>\n",
       "      <td>0.6085</td>\n",
       "      <td>0.820899</td>\n",
       "      <td>0.231615</td>\n",
       "      <td>0.583634</td>\n",
       "      <td>0.231821</td>\n",
       "      <td>0.089837</td>\n",
       "    </tr>\n",
       "    <tr>\n",
       "      <th>B10</th>\n",
       "      <td>B10_2489_14_L_Ovary</td>\n",
       "      <td>case5_ovary_yellow</td>\n",
       "      <td>5</td>\n",
       "      <td>ovary</td>\n",
       "      <td>yellow</td>\n",
       "      <td>5.0</td>\n",
       "      <td>Replicates (14/15)</td>\n",
       "      <td>#4daf4a</td>\n",
       "      <td>o</td>\n",
       "      <td>0.5533</td>\n",
       "      <td>0.793649</td>\n",
       "      <td>0.170827</td>\n",
       "      <td>0.631143</td>\n",
       "      <td>0.224783</td>\n",
       "      <td>0.092952</td>\n",
       "    </tr>\n",
       "    <tr>\n",
       "      <th>B11</th>\n",
       "      <td>B11_2489_16_L_Ovary</td>\n",
       "      <td>case5_ovary_green</td>\n",
       "      <td>5</td>\n",
       "      <td>ovary</td>\n",
       "      <td>green</td>\n",
       "      <td>5.0</td>\n",
       "      <td>Replicates (16/17)</td>\n",
       "      <td>#4daf4a</td>\n",
       "      <td>o</td>\n",
       "      <td>0.5763</td>\n",
       "      <td>0.817112</td>\n",
       "      <td>0.164771</td>\n",
       "      <td>0.618988</td>\n",
       "      <td>0.263005</td>\n",
       "      <td>0.086879</td>\n",
       "    </tr>\n",
       "    <tr>\n",
       "      <th>B12</th>\n",
       "      <td>B12_2489_23_Adnexa</td>\n",
       "      <td>case5_adnexa_yellow</td>\n",
       "      <td>5</td>\n",
       "      <td>other</td>\n",
       "      <td>yellow</td>\n",
       "      <td>5.0</td>\n",
       "      <td>24</td>\n",
       "      <td>#4daf4a</td>\n",
       "      <td>s</td>\n",
       "      <td>NaN</td>\n",
       "      <td>0.805409</td>\n",
       "      <td>0.201081</td>\n",
       "      <td>0.614384</td>\n",
       "      <td>0.200788</td>\n",
       "      <td>0.108816</td>\n",
       "    </tr>\n",
       "    <tr>\n",
       "      <th>C01</th>\n",
       "      <td>C01_7971_10_Omentum</td>\n",
       "      <td>case13_omentum_green</td>\n",
       "      <td>13</td>\n",
       "      <td>omentum</td>\n",
       "      <td>green</td>\n",
       "      <td>13.0</td>\n",
       "      <td>10</td>\n",
       "      <td>#ffff33</td>\n",
       "      <td>^</td>\n",
       "      <td>0.6405</td>\n",
       "      <td>0.716420</td>\n",
       "      <td>0.156838</td>\n",
       "      <td>0.644106</td>\n",
       "      <td>0.229830</td>\n",
       "      <td>0.194895</td>\n",
       "    </tr>\n",
       "    <tr>\n",
       "      <th>C02</th>\n",
       "      <td>C02_7971_11_Omentum</td>\n",
       "      <td>case13_omentum_blue</td>\n",
       "      <td>13</td>\n",
       "      <td>omentum</td>\n",
       "      <td>blue</td>\n",
       "      <td>13.0</td>\n",
       "      <td>11</td>\n",
       "      <td>#ffff33</td>\n",
       "      <td>^</td>\n",
       "      <td>0.6084</td>\n",
       "      <td>0.789794</td>\n",
       "      <td>0.195614</td>\n",
       "      <td>0.613076</td>\n",
       "      <td>0.282491</td>\n",
       "      <td>0.137787</td>\n",
       "    </tr>\n",
       "    <tr>\n",
       "      <th>C03</th>\n",
       "      <td>C03_7971_12_R_Ovary</td>\n",
       "      <td>case13_Rovary_green</td>\n",
       "      <td>13</td>\n",
       "      <td>ovary</td>\n",
       "      <td>green</td>\n",
       "      <td>13.0</td>\n",
       "      <td>122</td>\n",
       "      <td>#ffff33</td>\n",
       "      <td>o</td>\n",
       "      <td>0.5633</td>\n",
       "      <td>0.717236</td>\n",
       "      <td>0.144902</td>\n",
       "      <td>0.595826</td>\n",
       "      <td>0.217033</td>\n",
       "      <td>0.194331</td>\n",
       "    </tr>\n",
       "    <tr>\n",
       "      <th>C04</th>\n",
       "      <td>C04_7971_13_R_Ovary</td>\n",
       "      <td>case13_Rovary_blue</td>\n",
       "      <td>13</td>\n",
       "      <td>ovary</td>\n",
       "      <td>blue</td>\n",
       "      <td>13.0</td>\n",
       "      <td>13</td>\n",
       "      <td>#ffff33</td>\n",
       "      <td>o</td>\n",
       "      <td>0.5549</td>\n",
       "      <td>0.770388</td>\n",
       "      <td>0.187307</td>\n",
       "      <td>0.624953</td>\n",
       "      <td>0.239506</td>\n",
       "      <td>0.137921</td>\n",
       "    </tr>\n",
       "    <tr>\n",
       "      <th>C05</th>\n",
       "      <td>C05_7971_14_R_Ovary</td>\n",
       "      <td>case13_Rovary_yellow</td>\n",
       "      <td>13</td>\n",
       "      <td>ovary</td>\n",
       "      <td>yellow</td>\n",
       "      <td>13.0</td>\n",
       "      <td>14</td>\n",
       "      <td>#ffff33</td>\n",
       "      <td>o</td>\n",
       "      <td>0.4650</td>\n",
       "      <td>0.784785</td>\n",
       "      <td>0.197250</td>\n",
       "      <td>0.650746</td>\n",
       "      <td>0.267412</td>\n",
       "      <td>0.166680</td>\n",
       "    </tr>\n",
       "    <tr>\n",
       "      <th>C06</th>\n",
       "      <td>C06_0482_1_L_Ovary</td>\n",
       "      <td>case16_Lovary_blue</td>\n",
       "      <td>16</td>\n",
       "      <td>ovary</td>\n",
       "      <td>blue</td>\n",
       "      <td>16.0</td>\n",
       "      <td>1</td>\n",
       "      <td>#a65628</td>\n",
       "      <td>o</td>\n",
       "      <td>0.6625</td>\n",
       "      <td>0.800405</td>\n",
       "      <td>0.126257</td>\n",
       "      <td>0.654579</td>\n",
       "      <td>0.208376</td>\n",
       "      <td>0.053588</td>\n",
       "    </tr>\n",
       "    <tr>\n",
       "      <th>C07</th>\n",
       "      <td>C07_0482_3_L_Ovary</td>\n",
       "      <td>case16_Lovary_orange</td>\n",
       "      <td>16</td>\n",
       "      <td>ovary</td>\n",
       "      <td>yellow</td>\n",
       "      <td>16.0</td>\n",
       "      <td>3</td>\n",
       "      <td>#a65628</td>\n",
       "      <td>o</td>\n",
       "      <td>0.6217</td>\n",
       "      <td>0.694819</td>\n",
       "      <td>0.189395</td>\n",
       "      <td>0.586450</td>\n",
       "      <td>0.169763</td>\n",
       "      <td>0.152762</td>\n",
       "    </tr>\n",
       "    <tr>\n",
       "      <th>C08</th>\n",
       "      <td>C08_0482_4_L_Ovary</td>\n",
       "      <td>case16_Lovary</td>\n",
       "      <td>16</td>\n",
       "      <td>ovary</td>\n",
       "      <td>NaN</td>\n",
       "      <td>NaN</td>\n",
       "      <td>NaN</td>\n",
       "      <td>#a65628</td>\n",
       "      <td>o</td>\n",
       "      <td>NaN</td>\n",
       "      <td>0.777021</td>\n",
       "      <td>0.180498</td>\n",
       "      <td>0.595963</td>\n",
       "      <td>0.208399</td>\n",
       "      <td>0.052564</td>\n",
       "    </tr>\n",
       "    <tr>\n",
       "      <th>C09</th>\n",
       "      <td>C09_0482_5_Pouch_of_Douglas</td>\n",
       "      <td>case16_pofd_blue</td>\n",
       "      <td>16</td>\n",
       "      <td>other</td>\n",
       "      <td>blue</td>\n",
       "      <td>16.0</td>\n",
       "      <td>5</td>\n",
       "      <td>#a65628</td>\n",
       "      <td>s</td>\n",
       "      <td>0.7377</td>\n",
       "      <td>0.761314</td>\n",
       "      <td>0.166626</td>\n",
       "      <td>0.641718</td>\n",
       "      <td>0.229699</td>\n",
       "      <td>0.097643</td>\n",
       "    </tr>\n",
       "    <tr>\n",
       "      <th>C10</th>\n",
       "      <td>C10_0482_9_R_Anterior_Psoas</td>\n",
       "      <td>case16_Rantpsoas_orange</td>\n",
       "      <td>16</td>\n",
       "      <td>other</td>\n",
       "      <td>yellow</td>\n",
       "      <td>16.0</td>\n",
       "      <td>9</td>\n",
       "      <td>#a65628</td>\n",
       "      <td>s</td>\n",
       "      <td>0.7359</td>\n",
       "      <td>0.819199</td>\n",
       "      <td>0.236770</td>\n",
       "      <td>0.611674</td>\n",
       "      <td>0.231874</td>\n",
       "      <td>0.051716</td>\n",
       "    </tr>\n",
       "    <tr>\n",
       "      <th>C11</th>\n",
       "      <td>C11_1860_6_L_Omentum</td>\n",
       "      <td>case17_Lomentum_yellow</td>\n",
       "      <td>17</td>\n",
       "      <td>omentum</td>\n",
       "      <td>yellow</td>\n",
       "      <td>17.0</td>\n",
       "      <td>6</td>\n",
       "      <td>#f781bf</td>\n",
       "      <td>^</td>\n",
       "      <td>0.3932</td>\n",
       "      <td>0.675108</td>\n",
       "      <td>0.185633</td>\n",
       "      <td>0.599983</td>\n",
       "      <td>0.226895</td>\n",
       "      <td>0.220956</td>\n",
       "    </tr>\n",
       "    <tr>\n",
       "      <th>C12</th>\n",
       "      <td>C12_1860_9_L_Omentum</td>\n",
       "      <td>case17_Lomentum_blue</td>\n",
       "      <td>17</td>\n",
       "      <td>omentum</td>\n",
       "      <td>blue</td>\n",
       "      <td>17.0</td>\n",
       "      <td>9</td>\n",
       "      <td>#f781bf</td>\n",
       "      <td>^</td>\n",
       "      <td>0.4936</td>\n",
       "      <td>0.644917</td>\n",
       "      <td>0.147549</td>\n",
       "      <td>0.666565</td>\n",
       "      <td>0.285409</td>\n",
       "      <td>0.205281</td>\n",
       "    </tr>\n",
       "    <tr>\n",
       "      <th>D01</th>\n",
       "      <td>D01_1860_13_Sigmoid_Serosa</td>\n",
       "      <td>case17_sigmoidser_green</td>\n",
       "      <td>17</td>\n",
       "      <td>other</td>\n",
       "      <td>green</td>\n",
       "      <td>17.0</td>\n",
       "      <td>13</td>\n",
       "      <td>#f781bf</td>\n",
       "      <td>s</td>\n",
       "      <td>0.5690</td>\n",
       "      <td>0.698464</td>\n",
       "      <td>0.142399</td>\n",
       "      <td>0.667343</td>\n",
       "      <td>0.238720</td>\n",
       "      <td>0.183085</td>\n",
       "    </tr>\n",
       "    <tr>\n",
       "      <th>D02</th>\n",
       "      <td>D02_1860_14_Sigmoid_Serosa</td>\n",
       "      <td>case17_sigmoidser_blue</td>\n",
       "      <td>17</td>\n",
       "      <td>other</td>\n",
       "      <td>blue</td>\n",
       "      <td>17.0</td>\n",
       "      <td>14</td>\n",
       "      <td>#f781bf</td>\n",
       "      <td>s</td>\n",
       "      <td>0.5998</td>\n",
       "      <td>0.652544</td>\n",
       "      <td>0.126891</td>\n",
       "      <td>0.677815</td>\n",
       "      <td>0.268175</td>\n",
       "      <td>0.224095</td>\n",
       "    </tr>\n",
       "    <tr>\n",
       "      <th>D03</th>\n",
       "      <td>D03_1860_19_R_Ovary</td>\n",
       "      <td>case17_Rovary_blue</td>\n",
       "      <td>17</td>\n",
       "      <td>ovary</td>\n",
       "      <td>blue</td>\n",
       "      <td>17.0</td>\n",
       "      <td>19</td>\n",
       "      <td>#f781bf</td>\n",
       "      <td>o</td>\n",
       "      <td>0.8010</td>\n",
       "      <td>0.870811</td>\n",
       "      <td>0.110339</td>\n",
       "      <td>0.659430</td>\n",
       "      <td>0.271935</td>\n",
       "      <td>0.012900</td>\n",
       "    </tr>\n",
       "  </tbody>\n",
       "</table>\n",
       "</div>"
      ],
      "text/plain": [
       "                                         Label                      Key  \\\n",
       "Well                                                                      \n",
       "A01                         A01_3640_5_Omentum     case10_omentum_green   \n",
       "A02                         A02_3640_7_Omentum      case10_omentum_blue   \n",
       "A03                A03_3640_9_Paracolic_Gutter  case10_paracolic_yellow   \n",
       "A04                       A04_3640_17_R_Adnexa    case10_Radnexa_yellow   \n",
       "A05                       A05_3640_18_R_Adnexa      case10_Radnexa_blue   \n",
       "A06                       A06_3640_19_R_Adnexa     case10_Radnexa_green   \n",
       "A07                         A07_3436_3_Omentum       case6_omentum_blue   \n",
       "A08                          A08_3436_12_Ovary       case6_ovary_yellow   \n",
       "A09                          A09_3436_13_Ovary         case6_ovary_blue   \n",
       "A10                          A10_3436_15_Ovary        case6_ovary_white   \n",
       "A11                       A11_3387_1_3_Omentum       case1_omentum_blue   \n",
       "B01                         B01_3387_2_5_Ovary         case1_ovary_blue   \n",
       "B02                         B02_3387_2_6_Ovary       case1_ovary_yellow   \n",
       "B03                         B03_3387_2_7_Ovary        case1_ovary_green   \n",
       "B04                         B04_2839_1_Omentum     case4_omentum_yellow   \n",
       "B05                         B05_2839_2_Omentum       case4_omentum_blue   \n",
       "B06                         B06_2839_3_Omentum      case4_omentum_green   \n",
       "B07   B07_2839_4_L_ovary_tube_pelvic_side_wall      case4_antNXC_yellow   \n",
       "B08                B08_2839_6_L_fallopian_tube       case4_postNXC_blue   \n",
       "B09                        B09_2489_12_L_Ovary         case5_ovary_blue   \n",
       "B10                        B10_2489_14_L_Ovary       case5_ovary_yellow   \n",
       "B11                        B11_2489_16_L_Ovary        case5_ovary_green   \n",
       "B12                         B12_2489_23_Adnexa      case5_adnexa_yellow   \n",
       "C01                        C01_7971_10_Omentum     case13_omentum_green   \n",
       "C02                        C02_7971_11_Omentum      case13_omentum_blue   \n",
       "C03                        C03_7971_12_R_Ovary      case13_Rovary_green   \n",
       "C04                        C04_7971_13_R_Ovary       case13_Rovary_blue   \n",
       "C05                        C05_7971_14_R_Ovary     case13_Rovary_yellow   \n",
       "C06                         C06_0482_1_L_Ovary       case16_Lovary_blue   \n",
       "C07                         C07_0482_3_L_Ovary     case16_Lovary_orange   \n",
       "C08                         C08_0482_4_L_Ovary            case16_Lovary   \n",
       "C09                C09_0482_5_Pouch_of_Douglas         case16_pofd_blue   \n",
       "C10                C10_0482_9_R_Anterior_Psoas  case16_Rantpsoas_orange   \n",
       "C11                       C11_1860_6_L_Omentum   case17_Lomentum_yellow   \n",
       "C12                       C12_1860_9_L_Omentum     case17_Lomentum_blue   \n",
       "D01                 D01_1860_13_Sigmoid_Serosa  case17_sigmoidser_green   \n",
       "D02                 D02_1860_14_Sigmoid_Serosa   case17_sigmoidser_blue   \n",
       "D03                        D03_1860_19_R_Ovary       case17_Rovary_blue   \n",
       "\n",
       "      Case_mRNA     Site Habitat  Case_WES          Tumour_WES   Colour  \\\n",
       "Well                                                                      \n",
       "A01          10  omentum   green      10.0                   5  #ff7f00   \n",
       "A02          10  omentum    blue      10.0                   7  #ff7f00   \n",
       "A03          10    other  yellow      10.0                   8  #ff7f00   \n",
       "A04          10    ovary  yellow      10.0                  17  #ff7f00   \n",
       "A05          10    ovary    blue      10.0                  18  #ff7f00   \n",
       "A06          10    ovary   green      10.0                  19  #ff7f00   \n",
       "A07           6  omentum    blue       6.0                   3  #984ea3   \n",
       "A08           6    ovary  yellow       6.0                  12  #984ea3   \n",
       "A09           6    ovary    blue       6.0                  13  #984ea3   \n",
       "A10           6    ovary   green       6.0                  16  #984ea3   \n",
       "A11           1  omentum    blue       1.0                   3  #e41a1c   \n",
       "B01           1    ovary    blue       1.0                   5  #e41a1c   \n",
       "B02           1    ovary  yellow       1.0                   6  #e41a1c   \n",
       "B03           1    ovary   green       1.0                   7  #e41a1c   \n",
       "B04           4  omentum  yellow       4.0                   1  #377eb8   \n",
       "B05           4  omentum    blue       4.0                   2  #377eb8   \n",
       "B06           4  omentum   green       4.0                   3  #377eb8   \n",
       "B07           4    ovary  yellow       4.0                   4  #377eb8   \n",
       "B08           4    ovary    blue       4.0                   5  #377eb8   \n",
       "B09           5    ovary    blue       5.0  Replicates (12/13)  #4daf4a   \n",
       "B10           5    ovary  yellow       5.0  Replicates (14/15)  #4daf4a   \n",
       "B11           5    ovary   green       5.0  Replicates (16/17)  #4daf4a   \n",
       "B12           5    other  yellow       5.0                  24  #4daf4a   \n",
       "C01          13  omentum   green      13.0                  10  #ffff33   \n",
       "C02          13  omentum    blue      13.0                  11  #ffff33   \n",
       "C03          13    ovary   green      13.0                 122  #ffff33   \n",
       "C04          13    ovary    blue      13.0                  13  #ffff33   \n",
       "C05          13    ovary  yellow      13.0                  14  #ffff33   \n",
       "C06          16    ovary    blue      16.0                   1  #a65628   \n",
       "C07          16    ovary  yellow      16.0                   3  #a65628   \n",
       "C08          16    ovary     NaN       NaN                 NaN  #a65628   \n",
       "C09          16    other    blue      16.0                   5  #a65628   \n",
       "C10          16    other  yellow      16.0                   9  #a65628   \n",
       "C11          17  omentum  yellow      17.0                   6  #f781bf   \n",
       "C12          17  omentum    blue      17.0                   9  #f781bf   \n",
       "D01          17    other   green      17.0                  13  #f781bf   \n",
       "D02          17    other    blue      17.0                  14  #f781bf   \n",
       "D03          17    ovary    blue      17.0                  19  #f781bf   \n",
       "\n",
       "     Site_marker  TumourCellularity_WES  TumourCellularity_mRNA       WNT  \\\n",
       "Well                                                                        \n",
       "A01            ^                 0.5973                0.730147  0.151231   \n",
       "A02            ^                 0.5065                0.673548  0.184140   \n",
       "A03            s                 0.4551                0.664978  0.186732   \n",
       "A04            o                 0.6496                0.833913  0.263275   \n",
       "A05            o                 0.6706                0.801248  0.215427   \n",
       "A06            o                 0.6695                0.821034  0.224450   \n",
       "A07            ^                 0.7275                0.900910  0.246089   \n",
       "A08            o                 0.7929                0.867208  0.243030   \n",
       "A09            o                 0.7211                0.892722  0.228552   \n",
       "A10            o                 0.7920                0.896009  0.258536   \n",
       "A11            ^                 0.7017                0.791027  0.259500   \n",
       "B01            o                 0.5246                0.644850  0.184879   \n",
       "B02            o                 0.8579                0.947584  0.149654   \n",
       "B03            o                 0.7423                0.890087  0.244631   \n",
       "B04            ^                 0.7183                0.904696  0.212855   \n",
       "B05            ^                 0.7157                0.876039  0.212715   \n",
       "B06            ^                 0.6561                0.821542  0.237543   \n",
       "B07            o                 0.6437                0.704962  0.146712   \n",
       "B08            o                 0.6137                0.769271  0.177905   \n",
       "B09            o                 0.6085                0.820899  0.231615   \n",
       "B10            o                 0.5533                0.793649  0.170827   \n",
       "B11            o                 0.5763                0.817112  0.164771   \n",
       "B12            s                    NaN                0.805409  0.201081   \n",
       "C01            ^                 0.6405                0.716420  0.156838   \n",
       "C02            ^                 0.6084                0.789794  0.195614   \n",
       "C03            o                 0.5633                0.717236  0.144902   \n",
       "C04            o                 0.5549                0.770388  0.187307   \n",
       "C05            o                 0.4650                0.784785  0.197250   \n",
       "C06            o                 0.6625                0.800405  0.126257   \n",
       "C07            o                 0.6217                0.694819  0.189395   \n",
       "C08            o                    NaN                0.777021  0.180498   \n",
       "C09            s                 0.7377                0.761314  0.166626   \n",
       "C10            s                 0.7359                0.819199  0.236770   \n",
       "C11            ^                 0.3932                0.675108  0.185633   \n",
       "C12            ^                 0.4936                0.644917  0.147549   \n",
       "D01            s                 0.5690                0.698464  0.142399   \n",
       "D02            s                 0.5998                0.652544  0.126891   \n",
       "D03            o                 0.8010                0.870811  0.110339   \n",
       "\n",
       "          MYC1      MYC2    Immune  \n",
       "Well                                \n",
       "A01   0.638069  0.233093  0.192483  \n",
       "A02   0.636311  0.211932  0.256464  \n",
       "A03   0.623494  0.230913  0.230664  \n",
       "A04   0.587537  0.265719  0.080746  \n",
       "A05   0.609915  0.236332  0.117609  \n",
       "A06   0.668097  0.253874  0.089100  \n",
       "A07   0.631927  0.323947 -0.014748  \n",
       "A08   0.671235  0.273274  0.049217  \n",
       "A09   0.725842  0.357547 -0.023908  \n",
       "A10   0.680477  0.345214 -0.045061  \n",
       "A11   0.569857  0.238484  0.136299  \n",
       "B01   0.693365  0.314207  0.287914  \n",
       "B02   0.708793  0.360539 -0.087233  \n",
       "B03   0.629784  0.325733  0.018071  \n",
       "B04   0.622310  0.354122  0.022793  \n",
       "B05   0.614403  0.328790  0.052996  \n",
       "B06   0.611038  0.283739  0.033941  \n",
       "B07   0.652504  0.270355  0.182113  \n",
       "B08   0.604754  0.270843  0.142322  \n",
       "B09   0.583634  0.231821  0.089837  \n",
       "B10   0.631143  0.224783  0.092952  \n",
       "B11   0.618988  0.263005  0.086879  \n",
       "B12   0.614384  0.200788  0.108816  \n",
       "C01   0.644106  0.229830  0.194895  \n",
       "C02   0.613076  0.282491  0.137787  \n",
       "C03   0.595826  0.217033  0.194331  \n",
       "C04   0.624953  0.239506  0.137921  \n",
       "C05   0.650746  0.267412  0.166680  \n",
       "C06   0.654579  0.208376  0.053588  \n",
       "C07   0.586450  0.169763  0.152762  \n",
       "C08   0.595963  0.208399  0.052564  \n",
       "C09   0.641718  0.229699  0.097643  \n",
       "C10   0.611674  0.231874  0.051716  \n",
       "C11   0.599983  0.226895  0.220956  \n",
       "C12   0.666565  0.285409  0.205281  \n",
       "D01   0.667343  0.238720  0.183085  \n",
       "D02   0.677815  0.268175  0.224095  \n",
       "D03   0.659430  0.271935  0.012900  "
      ]
     },
     "execution_count": 53,
     "metadata": {},
     "output_type": "execute_result"
    }
   ],
   "source": [
    "sample_labels"
   ]
  },
  {
   "cell_type": "code",
   "execution_count": 54,
   "metadata": {},
   "outputs": [],
   "source": [
    "TumourCellularity_WES_med = sample_labels[\"TumourCellularity_WES\"].median()"
   ]
  },
  {
   "cell_type": "code",
   "execution_count": 55,
   "metadata": {},
   "outputs": [],
   "source": [
    "import numpy as np"
   ]
  },
  {
   "cell_type": "code",
   "execution_count": 56,
   "metadata": {},
   "outputs": [],
   "source": [
    "low = []\n",
    "high = []\n",
    "for well in sample_labels.index:\n",
    "    \n",
    "    if np.isnan(sample_labels[\"TumourCellularity_WES\"][well]) == False:\n",
    "    \n",
    "        TumorCellularity = sample_labels[\"TumourCellularity_WES\"][well]\n",
    "\n",
    "        if TumorCellularity > TumourCellularity_WES_med:\n",
    "\n",
    "            high.append(sample_labels[x][well])\n",
    "\n",
    "        else:\n",
    "\n",
    "            low.append(sample_labels[x][well])"
   ]
  },
  {
   "cell_type": "code",
   "execution_count": 57,
   "metadata": {},
   "outputs": [
    {
     "data": {
      "text/plain": [
       "False"
      ]
     },
     "execution_count": 57,
     "metadata": {},
     "output_type": "execute_result"
    }
   ],
   "source": [
    "np.isnan(sample_labels[\"TumourCellularity_WES\"][well])"
   ]
  },
  {
   "cell_type": "code",
   "execution_count": 58,
   "metadata": {},
   "outputs": [],
   "source": [
    "label = []\n",
    "for i in range(len(low)):\n",
    "    \n",
    "    label.append(\"low\")"
   ]
  },
  {
   "cell_type": "code",
   "execution_count": 59,
   "metadata": {},
   "outputs": [],
   "source": [
    "for i in range(len(high)):\n",
    "    \n",
    "    label.append(\"high\")"
   ]
  },
  {
   "cell_type": "code",
   "execution_count": 60,
   "metadata": {},
   "outputs": [
    {
     "data": {
      "text/html": [
       "<div>\n",
       "<style scoped>\n",
       "    .dataframe tbody tr th:only-of-type {\n",
       "        vertical-align: middle;\n",
       "    }\n",
       "\n",
       "    .dataframe tbody tr th {\n",
       "        vertical-align: top;\n",
       "    }\n",
       "\n",
       "    .dataframe thead th {\n",
       "        text-align: right;\n",
       "    }\n",
       "</style>\n",
       "<table border=\"1\" class=\"dataframe\">\n",
       "  <thead>\n",
       "    <tr style=\"text-align: right;\">\n",
       "      <th></th>\n",
       "      <th>label</th>\n",
       "      <th>WNT</th>\n",
       "    </tr>\n",
       "  </thead>\n",
       "  <tbody>\n",
       "    <tr>\n",
       "      <th>0</th>\n",
       "      <td>low</td>\n",
       "      <td>0.151231</td>\n",
       "    </tr>\n",
       "    <tr>\n",
       "      <th>1</th>\n",
       "      <td>low</td>\n",
       "      <td>0.184140</td>\n",
       "    </tr>\n",
       "    <tr>\n",
       "      <th>2</th>\n",
       "      <td>low</td>\n",
       "      <td>0.186732</td>\n",
       "    </tr>\n",
       "    <tr>\n",
       "      <th>3</th>\n",
       "      <td>low</td>\n",
       "      <td>0.184879</td>\n",
       "    </tr>\n",
       "    <tr>\n",
       "      <th>4</th>\n",
       "      <td>low</td>\n",
       "      <td>0.177905</td>\n",
       "    </tr>\n",
       "    <tr>\n",
       "      <th>5</th>\n",
       "      <td>low</td>\n",
       "      <td>0.231615</td>\n",
       "    </tr>\n",
       "    <tr>\n",
       "      <th>6</th>\n",
       "      <td>low</td>\n",
       "      <td>0.170827</td>\n",
       "    </tr>\n",
       "    <tr>\n",
       "      <th>7</th>\n",
       "      <td>low</td>\n",
       "      <td>0.164771</td>\n",
       "    </tr>\n",
       "    <tr>\n",
       "      <th>8</th>\n",
       "      <td>low</td>\n",
       "      <td>0.156838</td>\n",
       "    </tr>\n",
       "    <tr>\n",
       "      <th>9</th>\n",
       "      <td>low</td>\n",
       "      <td>0.195614</td>\n",
       "    </tr>\n",
       "    <tr>\n",
       "      <th>10</th>\n",
       "      <td>low</td>\n",
       "      <td>0.144902</td>\n",
       "    </tr>\n",
       "    <tr>\n",
       "      <th>11</th>\n",
       "      <td>low</td>\n",
       "      <td>0.187307</td>\n",
       "    </tr>\n",
       "    <tr>\n",
       "      <th>12</th>\n",
       "      <td>low</td>\n",
       "      <td>0.197250</td>\n",
       "    </tr>\n",
       "    <tr>\n",
       "      <th>13</th>\n",
       "      <td>low</td>\n",
       "      <td>0.189395</td>\n",
       "    </tr>\n",
       "    <tr>\n",
       "      <th>14</th>\n",
       "      <td>low</td>\n",
       "      <td>0.185633</td>\n",
       "    </tr>\n",
       "    <tr>\n",
       "      <th>15</th>\n",
       "      <td>low</td>\n",
       "      <td>0.147549</td>\n",
       "    </tr>\n",
       "    <tr>\n",
       "      <th>16</th>\n",
       "      <td>low</td>\n",
       "      <td>0.142399</td>\n",
       "    </tr>\n",
       "    <tr>\n",
       "      <th>17</th>\n",
       "      <td>low</td>\n",
       "      <td>0.126891</td>\n",
       "    </tr>\n",
       "    <tr>\n",
       "      <th>18</th>\n",
       "      <td>high</td>\n",
       "      <td>0.263275</td>\n",
       "    </tr>\n",
       "    <tr>\n",
       "      <th>19</th>\n",
       "      <td>high</td>\n",
       "      <td>0.215427</td>\n",
       "    </tr>\n",
       "    <tr>\n",
       "      <th>20</th>\n",
       "      <td>high</td>\n",
       "      <td>0.224450</td>\n",
       "    </tr>\n",
       "    <tr>\n",
       "      <th>21</th>\n",
       "      <td>high</td>\n",
       "      <td>0.246089</td>\n",
       "    </tr>\n",
       "    <tr>\n",
       "      <th>22</th>\n",
       "      <td>high</td>\n",
       "      <td>0.243030</td>\n",
       "    </tr>\n",
       "    <tr>\n",
       "      <th>23</th>\n",
       "      <td>high</td>\n",
       "      <td>0.228552</td>\n",
       "    </tr>\n",
       "    <tr>\n",
       "      <th>24</th>\n",
       "      <td>high</td>\n",
       "      <td>0.258536</td>\n",
       "    </tr>\n",
       "    <tr>\n",
       "      <th>25</th>\n",
       "      <td>high</td>\n",
       "      <td>0.259500</td>\n",
       "    </tr>\n",
       "    <tr>\n",
       "      <th>26</th>\n",
       "      <td>high</td>\n",
       "      <td>0.149654</td>\n",
       "    </tr>\n",
       "    <tr>\n",
       "      <th>27</th>\n",
       "      <td>high</td>\n",
       "      <td>0.244631</td>\n",
       "    </tr>\n",
       "    <tr>\n",
       "      <th>28</th>\n",
       "      <td>high</td>\n",
       "      <td>0.212855</td>\n",
       "    </tr>\n",
       "    <tr>\n",
       "      <th>29</th>\n",
       "      <td>high</td>\n",
       "      <td>0.212715</td>\n",
       "    </tr>\n",
       "    <tr>\n",
       "      <th>30</th>\n",
       "      <td>high</td>\n",
       "      <td>0.237543</td>\n",
       "    </tr>\n",
       "    <tr>\n",
       "      <th>31</th>\n",
       "      <td>high</td>\n",
       "      <td>0.146712</td>\n",
       "    </tr>\n",
       "    <tr>\n",
       "      <th>32</th>\n",
       "      <td>high</td>\n",
       "      <td>0.126257</td>\n",
       "    </tr>\n",
       "    <tr>\n",
       "      <th>33</th>\n",
       "      <td>high</td>\n",
       "      <td>0.166626</td>\n",
       "    </tr>\n",
       "    <tr>\n",
       "      <th>34</th>\n",
       "      <td>high</td>\n",
       "      <td>0.236770</td>\n",
       "    </tr>\n",
       "    <tr>\n",
       "      <th>35</th>\n",
       "      <td>high</td>\n",
       "      <td>0.110339</td>\n",
       "    </tr>\n",
       "  </tbody>\n",
       "</table>\n",
       "</div>"
      ],
      "text/plain": [
       "   label       WNT\n",
       "0    low  0.151231\n",
       "1    low  0.184140\n",
       "2    low  0.186732\n",
       "3    low  0.184879\n",
       "4    low  0.177905\n",
       "5    low  0.231615\n",
       "6    low  0.170827\n",
       "7    low  0.164771\n",
       "8    low  0.156838\n",
       "9    low  0.195614\n",
       "10   low  0.144902\n",
       "11   low  0.187307\n",
       "12   low  0.197250\n",
       "13   low  0.189395\n",
       "14   low  0.185633\n",
       "15   low  0.147549\n",
       "16   low  0.142399\n",
       "17   low  0.126891\n",
       "18  high  0.263275\n",
       "19  high  0.215427\n",
       "20  high  0.224450\n",
       "21  high  0.246089\n",
       "22  high  0.243030\n",
       "23  high  0.228552\n",
       "24  high  0.258536\n",
       "25  high  0.259500\n",
       "26  high  0.149654\n",
       "27  high  0.244631\n",
       "28  high  0.212855\n",
       "29  high  0.212715\n",
       "30  high  0.237543\n",
       "31  high  0.146712\n",
       "32  high  0.126257\n",
       "33  high  0.166626\n",
       "34  high  0.236770\n",
       "35  high  0.110339"
      ]
     },
     "execution_count": 60,
     "metadata": {},
     "output_type": "execute_result"
    }
   ],
   "source": [
    "cold_hot_df = pd.DataFrame({\n",
    "    \"label\" : pd.Series(label),\n",
    "    \"WNT\" : pd.Series(low+high)\n",
    "})\n",
    "\n",
    "cold_hot_df"
   ]
  },
  {
   "cell_type": "code",
   "execution_count": 61,
   "metadata": {},
   "outputs": [
    {
     "data": {
      "text/plain": [
       "<matplotlib.axes._subplots.AxesSubplot at 0x1a1b115f60>"
      ]
     },
     "execution_count": 61,
     "metadata": {},
     "output_type": "execute_result"
    },
    {
     "data": {
      "image/png": "[encoded data removed]",
      "text/plain": [
       "<Figure size 432x288 with 1 Axes>"
      ]
     },
     "metadata": {},
     "output_type": "display_data"
    }
   ],
   "source": [
    "fig, ax = plt.subplots()\n",
    "\n",
    "sns.violinplot(x=\"label\",\n",
    "               y=\"WNT\",\n",
    "               data=cold_hot_df,\n",
    "               inner=None,\n",
    "               split=False,\n",
    "               scale=\"count\",\n",
    "               zorder=0,\n",
    "               width=0.7,\n",
    "               alpha=0.3)\n",
    "\n",
    "sns.boxplot(x=\"label\",\n",
    "            y=\"WNT\",\n",
    "            data=cold_hot_df,\n",
    "            notch=True\n",
    "           )\n",
    "\n",
    "#ax.set_ylim(0.1,0.3)"
   ]
  },
  {
   "cell_type": "code",
   "execution_count": 62,
   "metadata": {},
   "outputs": [],
   "source": [
    "fig = ax.get_figure()"
   ]
  },
  {
   "cell_type": "code",
   "execution_count": 63,
   "metadata": {},
   "outputs": [],
   "source": [
    "fig.savefig(\"../../Figures/supplementary/1/panels/s1h_WNT_WESTumCell_diff.pdf\")"
   ]
  },
  {
   "cell_type": "code",
   "execution_count": 64,
   "metadata": {},
   "outputs": [],
   "source": [
    "import scipy.stats"
   ]
  },
  {
   "cell_type": "code",
   "execution_count": 65,
   "metadata": {},
   "outputs": [
    {
     "data": {
      "text/html": [
       "<div>\n",
       "<style scoped>\n",
       "    .dataframe tbody tr th:only-of-type {\n",
       "        vertical-align: middle;\n",
       "    }\n",
       "\n",
       "    .dataframe tbody tr th {\n",
       "        vertical-align: top;\n",
       "    }\n",
       "\n",
       "    .dataframe thead th {\n",
       "        text-align: right;\n",
       "    }\n",
       "</style>\n",
       "<table border=\"1\" class=\"dataframe\">\n",
       "  <thead>\n",
       "    <tr style=\"text-align: right;\">\n",
       "      <th></th>\n",
       "      <th>label</th>\n",
       "      <th>WNT</th>\n",
       "    </tr>\n",
       "  </thead>\n",
       "  <tbody>\n",
       "    <tr>\n",
       "      <th>0</th>\n",
       "      <td>low</td>\n",
       "      <td>0.151231</td>\n",
       "    </tr>\n",
       "    <tr>\n",
       "      <th>1</th>\n",
       "      <td>low</td>\n",
       "      <td>0.184140</td>\n",
       "    </tr>\n",
       "    <tr>\n",
       "      <th>2</th>\n",
       "      <td>low</td>\n",
       "      <td>0.186732</td>\n",
       "    </tr>\n",
       "    <tr>\n",
       "      <th>3</th>\n",
       "      <td>low</td>\n",
       "      <td>0.184879</td>\n",
       "    </tr>\n",
       "    <tr>\n",
       "      <th>4</th>\n",
       "      <td>low</td>\n",
       "      <td>0.177905</td>\n",
       "    </tr>\n",
       "    <tr>\n",
       "      <th>5</th>\n",
       "      <td>low</td>\n",
       "      <td>0.231615</td>\n",
       "    </tr>\n",
       "    <tr>\n",
       "      <th>6</th>\n",
       "      <td>low</td>\n",
       "      <td>0.170827</td>\n",
       "    </tr>\n",
       "    <tr>\n",
       "      <th>7</th>\n",
       "      <td>low</td>\n",
       "      <td>0.164771</td>\n",
       "    </tr>\n",
       "    <tr>\n",
       "      <th>8</th>\n",
       "      <td>low</td>\n",
       "      <td>0.156838</td>\n",
       "    </tr>\n",
       "    <tr>\n",
       "      <th>9</th>\n",
       "      <td>low</td>\n",
       "      <td>0.195614</td>\n",
       "    </tr>\n",
       "    <tr>\n",
       "      <th>10</th>\n",
       "      <td>low</td>\n",
       "      <td>0.144902</td>\n",
       "    </tr>\n",
       "    <tr>\n",
       "      <th>11</th>\n",
       "      <td>low</td>\n",
       "      <td>0.187307</td>\n",
       "    </tr>\n",
       "    <tr>\n",
       "      <th>12</th>\n",
       "      <td>low</td>\n",
       "      <td>0.197250</td>\n",
       "    </tr>\n",
       "    <tr>\n",
       "      <th>13</th>\n",
       "      <td>low</td>\n",
       "      <td>0.189395</td>\n",
       "    </tr>\n",
       "    <tr>\n",
       "      <th>14</th>\n",
       "      <td>low</td>\n",
       "      <td>0.185633</td>\n",
       "    </tr>\n",
       "    <tr>\n",
       "      <th>15</th>\n",
       "      <td>low</td>\n",
       "      <td>0.147549</td>\n",
       "    </tr>\n",
       "    <tr>\n",
       "      <th>16</th>\n",
       "      <td>low</td>\n",
       "      <td>0.142399</td>\n",
       "    </tr>\n",
       "    <tr>\n",
       "      <th>17</th>\n",
       "      <td>low</td>\n",
       "      <td>0.126891</td>\n",
       "    </tr>\n",
       "    <tr>\n",
       "      <th>18</th>\n",
       "      <td>high</td>\n",
       "      <td>0.263275</td>\n",
       "    </tr>\n",
       "    <tr>\n",
       "      <th>19</th>\n",
       "      <td>high</td>\n",
       "      <td>0.215427</td>\n",
       "    </tr>\n",
       "    <tr>\n",
       "      <th>20</th>\n",
       "      <td>high</td>\n",
       "      <td>0.224450</td>\n",
       "    </tr>\n",
       "    <tr>\n",
       "      <th>21</th>\n",
       "      <td>high</td>\n",
       "      <td>0.246089</td>\n",
       "    </tr>\n",
       "    <tr>\n",
       "      <th>22</th>\n",
       "      <td>high</td>\n",
       "      <td>0.243030</td>\n",
       "    </tr>\n",
       "    <tr>\n",
       "      <th>23</th>\n",
       "      <td>high</td>\n",
       "      <td>0.228552</td>\n",
       "    </tr>\n",
       "    <tr>\n",
       "      <th>24</th>\n",
       "      <td>high</td>\n",
       "      <td>0.258536</td>\n",
       "    </tr>\n",
       "    <tr>\n",
       "      <th>25</th>\n",
       "      <td>high</td>\n",
       "      <td>0.259500</td>\n",
       "    </tr>\n",
       "    <tr>\n",
       "      <th>26</th>\n",
       "      <td>high</td>\n",
       "      <td>0.149654</td>\n",
       "    </tr>\n",
       "    <tr>\n",
       "      <th>27</th>\n",
       "      <td>high</td>\n",
       "      <td>0.244631</td>\n",
       "    </tr>\n",
       "    <tr>\n",
       "      <th>28</th>\n",
       "      <td>high</td>\n",
       "      <td>0.212855</td>\n",
       "    </tr>\n",
       "    <tr>\n",
       "      <th>29</th>\n",
       "      <td>high</td>\n",
       "      <td>0.212715</td>\n",
       "    </tr>\n",
       "    <tr>\n",
       "      <th>30</th>\n",
       "      <td>high</td>\n",
       "      <td>0.237543</td>\n",
       "    </tr>\n",
       "    <tr>\n",
       "      <th>31</th>\n",
       "      <td>high</td>\n",
       "      <td>0.146712</td>\n",
       "    </tr>\n",
       "    <tr>\n",
       "      <th>32</th>\n",
       "      <td>high</td>\n",
       "      <td>0.126257</td>\n",
       "    </tr>\n",
       "    <tr>\n",
       "      <th>33</th>\n",
       "      <td>high</td>\n",
       "      <td>0.166626</td>\n",
       "    </tr>\n",
       "    <tr>\n",
       "      <th>34</th>\n",
       "      <td>high</td>\n",
       "      <td>0.236770</td>\n",
       "    </tr>\n",
       "    <tr>\n",
       "      <th>35</th>\n",
       "      <td>high</td>\n",
       "      <td>0.110339</td>\n",
       "    </tr>\n",
       "  </tbody>\n",
       "</table>\n",
       "</div>"
      ],
      "text/plain": [
       "   label       WNT\n",
       "0    low  0.151231\n",
       "1    low  0.184140\n",
       "2    low  0.186732\n",
       "3    low  0.184879\n",
       "4    low  0.177905\n",
       "5    low  0.231615\n",
       "6    low  0.170827\n",
       "7    low  0.164771\n",
       "8    low  0.156838\n",
       "9    low  0.195614\n",
       "10   low  0.144902\n",
       "11   low  0.187307\n",
       "12   low  0.197250\n",
       "13   low  0.189395\n",
       "14   low  0.185633\n",
       "15   low  0.147549\n",
       "16   low  0.142399\n",
       "17   low  0.126891\n",
       "18  high  0.263275\n",
       "19  high  0.215427\n",
       "20  high  0.224450\n",
       "21  high  0.246089\n",
       "22  high  0.243030\n",
       "23  high  0.228552\n",
       "24  high  0.258536\n",
       "25  high  0.259500\n",
       "26  high  0.149654\n",
       "27  high  0.244631\n",
       "28  high  0.212855\n",
       "29  high  0.212715\n",
       "30  high  0.237543\n",
       "31  high  0.146712\n",
       "32  high  0.126257\n",
       "33  high  0.166626\n",
       "34  high  0.236770\n",
       "35  high  0.110339"
      ]
     },
     "execution_count": 65,
     "metadata": {},
     "output_type": "execute_result"
    }
   ],
   "source": [
    "cold_hot_df"
   ]
  },
  {
   "cell_type": "code",
   "execution_count": 67,
   "metadata": {},
   "outputs": [
    {
     "data": {
      "text/plain": [
       "<matplotlib.axes._subplots.AxesSubplot at 0x1a1b0c0080>"
      ]
     },
     "execution_count": 67,
     "metadata": {},
     "output_type": "execute_result"
    },
    {
     "data": {
      "image/png": "[encoded data removed]",
      "text/plain": [
       "<Figure size 432x288 with 1 Axes>"
      ]
     },
     "metadata": {},
     "output_type": "display_data"
    }
   ],
   "source": [
    "cold_hot_df[cold_hot_df[\"label\"]==\"low\"][\"WNT\"].dropna().plot(kind=\"kde\")"
   ]
  },
  {
   "cell_type": "code",
   "execution_count": 68,
   "metadata": {},
   "outputs": [
    {
     "data": {
      "text/plain": [
       "<matplotlib.axes._subplots.AxesSubplot at 0x1a1a4d9c88>"
      ]
     },
     "execution_count": 68,
     "metadata": {},
     "output_type": "execute_result"
    },
    {
     "data": {
      "image/png": "[encoded data removed]",
      "text/plain": [
       "<Figure size 432x288 with 1 Axes>"
      ]
     },
     "metadata": {},
     "output_type": "display_data"
    }
   ],
   "source": [
    "cold_hot_df[cold_hot_df[\"label\"]==\"high\"][\"WNT\"].dropna().plot(kind=\"kde\")"
   ]
  },
  {
   "cell_type": "code",
   "execution_count": 69,
   "metadata": {},
   "outputs": [
    {
     "data": {
      "image/png": "[encoded data removed]",
      "text/plain": [
       "<Figure size 432x288 with 1 Axes>"
      ]
     },
     "metadata": {},
     "output_type": "display_data"
    }
   ],
   "source": [
    "f = qqplot(cold_hot_df[cold_hot_df[\"label\"]==\"low\"][\"WNT\"].dropna(),line='s')"
   ]
  },
  {
   "cell_type": "code",
   "execution_count": 70,
   "metadata": {},
   "outputs": [
    {
     "data": {
      "image/png": "[encoded data removed]",
      "text/plain": [
       "<Figure size 432x288 with 1 Axes>"
      ]
     },
     "metadata": {},
     "output_type": "display_data"
    }
   ],
   "source": [
    "f = qqplot(cold_hot_df[cold_hot_df[\"label\"]==\"high\"][\"WNT\"].dropna(),line='s')"
   ]
  },
  {
   "cell_type": "code",
   "execution_count": 71,
   "metadata": {},
   "outputs": [
    {
     "data": {
      "text/plain": [
       "(0.955740749835968, 0.521945059299469)"
      ]
     },
     "execution_count": 71,
     "metadata": {},
     "output_type": "execute_result"
    }
   ],
   "source": [
    "scipy.stats.shapiro(cold_hot_df[cold_hot_df[\"label\"]==\"low\"][\"WNT\"].dropna())\n",
    "\n",
    "# Looks normal"
   ]
  },
  {
   "cell_type": "code",
   "execution_count": 72,
   "metadata": {},
   "outputs": [
    {
     "data": {
      "text/plain": [
       "(0.8634982109069824, 0.013927695341408253)"
      ]
     },
     "execution_count": 72,
     "metadata": {},
     "output_type": "execute_result"
    }
   ],
   "source": [
    "scipy.stats.shapiro(cold_hot_df[cold_hot_df[\"label\"]==\"high\"][\"WNT\"].dropna())\n",
    "\n",
    "# Looks NOT normal"
   ]
  },
  {
   "cell_type": "code",
   "execution_count": 73,
   "metadata": {},
   "outputs": [
    {
     "name": "stderr",
     "output_type": "stream",
     "text": [
      "/anaconda3/lib/python3.6/site-packages/scipy/stats/stats.py:1535: UserWarning: kurtosistest only valid for n>=20 ... continuing anyway, n=18\n",
      "  \"anyway, n=%i\" % int(n))\n"
     ]
    },
    {
     "data": {
      "text/plain": [
       "NormaltestResult(statistic=0.35528702133609513, pvalue=0.8372408377217851)"
      ]
     },
     "execution_count": 73,
     "metadata": {},
     "output_type": "execute_result"
    }
   ],
   "source": [
    "scipy.stats.normaltest(cold_hot_df[cold_hot_df[\"label\"]==\"low\"][\"WNT\"].dropna())\n",
    "\n",
    "# Looks normal"
   ]
  },
  {
   "cell_type": "code",
   "execution_count": 74,
   "metadata": {},
   "outputs": [
    {
     "name": "stderr",
     "output_type": "stream",
     "text": [
      "/anaconda3/lib/python3.6/site-packages/scipy/stats/stats.py:1535: UserWarning: kurtosistest only valid for n>=20 ... continuing anyway, n=18\n",
      "  \"anyway, n=%i\" % int(n))\n"
     ]
    },
    {
     "data": {
      "text/plain": [
       "NormaltestResult(statistic=3.100335080681467, pvalue=0.21221241670759725)"
      ]
     },
     "execution_count": 74,
     "metadata": {},
     "output_type": "execute_result"
    }
   ],
   "source": [
    "scipy.stats.normaltest(cold_hot_df[cold_hot_df[\"label\"]==\"high\"][\"WNT\"].dropna())\n",
    "\n",
    "# Looks normal"
   ]
  },
  {
   "cell_type": "code",
   "execution_count": 75,
   "metadata": {},
   "outputs": [
    {
     "data": {
      "text/plain": [
       "AndersonResult(statistic=0.41375499956610895, critical_values=array([0.503, 0.573, 0.687, 0.802, 0.954]), significance_level=array([15. , 10. ,  5. ,  2.5,  1. ]))"
      ]
     },
     "execution_count": 75,
     "metadata": {},
     "output_type": "execute_result"
    }
   ],
   "source": [
    "scipy.stats.anderson(cold_hot_df[cold_hot_df[\"label\"]==\"low\"][\"WNT\"].dropna(), 'norm')\n",
    "\n",
    "# Looks normal"
   ]
  },
  {
   "cell_type": "code",
   "execution_count": 76,
   "metadata": {},
   "outputs": [
    {
     "data": {
      "text/plain": [
       "AndersonResult(statistic=1.0177206420673315, critical_values=array([0.503, 0.573, 0.687, 0.802, 0.954]), significance_level=array([15. , 10. ,  5. ,  2.5,  1. ]))"
      ]
     },
     "execution_count": 76,
     "metadata": {},
     "output_type": "execute_result"
    }
   ],
   "source": [
    "scipy.stats.anderson(cold_hot_df[cold_hot_df[\"label\"]==\"high\"][\"WNT\"].dropna(), 'norm')\n",
    "\n",
    "# Looks normal"
   ]
  },
  {
   "cell_type": "code",
   "execution_count": 77,
   "metadata": {},
   "outputs": [
    {
     "data": {
      "text/plain": [
       "BartlettResult(statistic=6.445775878007007, pvalue=0.011121645954425052)"
      ]
     },
     "execution_count": 77,
     "metadata": {},
     "output_type": "execute_result"
    }
   ],
   "source": [
    "scipy.stats.bartlett( # for normal distribution\n",
    "    cold_hot_df[cold_hot_df[\"label\"]==\"low\"][\"WNT\"].dropna(),\n",
    "    cold_hot_df[cold_hot_df[\"label\"]==\"high\"][\"WNT\"].dropna()\n",
    ")\n",
    "\n",
    "# NOT same variance (heteroscedasticity)"
   ]
  },
  {
   "cell_type": "markdown",
   "metadata": {},
   "source": [
    "Doesn't look normal and not homoscedasticity, so let's use "
   ]
  },
  {
   "cell_type": "code",
   "execution_count": 79,
   "metadata": {},
   "outputs": [
    {
     "data": {
      "text/plain": [
       "MannwhitneyuResult(statistic=81.0, pvalue=0.010868230307152529)"
      ]
     },
     "execution_count": 79,
     "metadata": {},
     "output_type": "execute_result"
    }
   ],
   "source": [
    "scipy.stats.mannwhitneyu(\n",
    "    cold_hot_df[cold_hot_df[\"label\"]==\"low\"][x].dropna(),\n",
    "    cold_hot_df[cold_hot_df[\"label\"]==\"high\"][x].dropna(),\n",
    "    alternative=\"two-sided\", use_continuity=True\n",
    ")"
   ]
  },
  {
   "cell_type": "markdown",
   "metadata": {},
   "source": [
    "# End script"
   ]
  }
 ],
 "metadata": {
  "kernelspec": {
   "display_name": "Python 3",
   "language": "python",
   "name": "python3"
  },
  "language_info": {
   "codemirror_mode": {
    "name": "ipython",
    "version": 3
   },
   "file_extension": ".py",
   "mimetype": "text/x-python",
   "name": "python",
   "nbconvert_exporter": "python",
   "pygments_lexer": "ipython3",
   "version": "3.6.8"
  }
 },
 "nbformat": 4,
 "nbformat_minor": 2
}

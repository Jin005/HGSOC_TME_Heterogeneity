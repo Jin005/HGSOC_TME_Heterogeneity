{
 "cells": [
  {
   "cell_type": "markdown",
   "metadata": {},
   "source": [
    "# Plot T cell counts per patient"
   ]
  },
  {
   "cell_type": "markdown",
   "metadata": {},
   "source": [
    "Script related to figure s2b\n",
    "\n",
    "### Aim:\n",
    "- Plot T cell counts across patients"
   ]
  },
  {
   "cell_type": "code",
   "execution_count": 1,
   "metadata": {},
   "outputs": [
    {
     "name": "stdout",
     "output_type": "stream",
     "text": [
      "Python 3.6.8 :: Anaconda custom (64-bit)\r\n"
     ]
    }
   ],
   "source": [
    "!python --version"
   ]
  },
  {
   "cell_type": "markdown",
   "metadata": {},
   "source": [
    "## Import packages"
   ]
  },
  {
   "cell_type": "code",
   "execution_count": 2,
   "metadata": {},
   "outputs": [],
   "source": [
    "import numpy as np\n",
    "import pandas as pd\n",
    "import seaborn as sns\n",
    "import matplotlib.pyplot as plt\n",
    "from pandas.api.types import CategoricalDtype"
   ]
  },
  {
   "cell_type": "code",
   "execution_count": 3,
   "metadata": {},
   "outputs": [],
   "source": [
    "home = \"~/git_repos/HGSOC_TME_Heterogeneity/\""
   ]
  },
  {
   "cell_type": "markdown",
   "metadata": {},
   "source": [
    "## Get sample labels"
   ]
  },
  {
   "cell_type": "markdown",
   "metadata": {},
   "source": [
    "### Load file"
   ]
  },
  {
   "cell_type": "code",
   "execution_count": 5,
   "metadata": {},
   "outputs": [],
   "source": [
    "file_keys = home + \"/Data/1/TreatmentNaive_SampleLabels.txt\"\n",
    "\n",
    "sample_labels = pd.read_csv(file_keys,\n",
    "                            sep='\\t',\n",
    "                            index_col='Well')"
   ]
  },
  {
   "cell_type": "code",
   "execution_count": 6,
   "metadata": {},
   "outputs": [
    {
     "data": {
      "text/html": [
       "<div>\n",
       "<style scoped>\n",
       "    .dataframe tbody tr th:only-of-type {\n",
       "        vertical-align: middle;\n",
       "    }\n",
       "\n",
       "    .dataframe tbody tr th {\n",
       "        vertical-align: top;\n",
       "    }\n",
       "\n",
       "    .dataframe thead th {\n",
       "        text-align: right;\n",
       "    }\n",
       "</style>\n",
       "<table border=\"1\" class=\"dataframe\">\n",
       "  <thead>\n",
       "    <tr style=\"text-align: right;\">\n",
       "      <th></th>\n",
       "      <th>Label</th>\n",
       "      <th>Key</th>\n",
       "      <th>Case_mRNA</th>\n",
       "      <th>Site</th>\n",
       "      <th>Habitat</th>\n",
       "      <th>Case_WES</th>\n",
       "      <th>Tumour_WES</th>\n",
       "    </tr>\n",
       "    <tr>\n",
       "      <th>Well</th>\n",
       "      <th></th>\n",
       "      <th></th>\n",
       "      <th></th>\n",
       "      <th></th>\n",
       "      <th></th>\n",
       "      <th></th>\n",
       "      <th></th>\n",
       "    </tr>\n",
       "  </thead>\n",
       "  <tbody>\n",
       "    <tr>\n",
       "      <th>A01</th>\n",
       "      <td>A01_3640_5_Omentum</td>\n",
       "      <td>case10_omentum_green</td>\n",
       "      <td>10</td>\n",
       "      <td>omentum</td>\n",
       "      <td>green</td>\n",
       "      <td>10.0</td>\n",
       "      <td>5</td>\n",
       "    </tr>\n",
       "    <tr>\n",
       "      <th>A02</th>\n",
       "      <td>A02_3640_7_Omentum</td>\n",
       "      <td>case10_omentum_blue</td>\n",
       "      <td>10</td>\n",
       "      <td>omentum</td>\n",
       "      <td>blue</td>\n",
       "      <td>10.0</td>\n",
       "      <td>7</td>\n",
       "    </tr>\n",
       "    <tr>\n",
       "      <th>A03</th>\n",
       "      <td>A03_3640_9_Paracolic_Gutter</td>\n",
       "      <td>case10_paracolic_yellow</td>\n",
       "      <td>10</td>\n",
       "      <td>other</td>\n",
       "      <td>yellow</td>\n",
       "      <td>10.0</td>\n",
       "      <td>8</td>\n",
       "    </tr>\n",
       "    <tr>\n",
       "      <th>A04</th>\n",
       "      <td>A04_3640_17_R_Adnexa</td>\n",
       "      <td>case10_Radnexa_yellow</td>\n",
       "      <td>10</td>\n",
       "      <td>ovary</td>\n",
       "      <td>yellow</td>\n",
       "      <td>10.0</td>\n",
       "      <td>17</td>\n",
       "    </tr>\n",
       "    <tr>\n",
       "      <th>A05</th>\n",
       "      <td>A05_3640_18_R_Adnexa</td>\n",
       "      <td>case10_Radnexa_blue</td>\n",
       "      <td>10</td>\n",
       "      <td>ovary</td>\n",
       "      <td>blue</td>\n",
       "      <td>10.0</td>\n",
       "      <td>18</td>\n",
       "    </tr>\n",
       "  </tbody>\n",
       "</table>\n",
       "</div>"
      ],
      "text/plain": [
       "                            Label                      Key  Case_mRNA  \\\n",
       "Well                                                                    \n",
       "A01            A01_3640_5_Omentum     case10_omentum_green         10   \n",
       "A02            A02_3640_7_Omentum      case10_omentum_blue         10   \n",
       "A03   A03_3640_9_Paracolic_Gutter  case10_paracolic_yellow         10   \n",
       "A04          A04_3640_17_R_Adnexa    case10_Radnexa_yellow         10   \n",
       "A05          A05_3640_18_R_Adnexa      case10_Radnexa_blue         10   \n",
       "\n",
       "         Site Habitat  Case_WES Tumour_WES  \n",
       "Well                                        \n",
       "A01   omentum   green      10.0          5  \n",
       "A02   omentum    blue      10.0          7  \n",
       "A03     other  yellow      10.0          8  \n",
       "A04     ovary  yellow      10.0         17  \n",
       "A05     ovary    blue      10.0         18  "
      ]
     },
     "execution_count": 6,
     "metadata": {},
     "output_type": "execute_result"
    }
   ],
   "source": [
    "sample_labels.head()"
   ]
  },
  {
   "cell_type": "markdown",
   "metadata": {},
   "source": [
    "### Define sample colours"
   ]
  },
  {
   "cell_type": "code",
   "execution_count": 7,
   "metadata": {},
   "outputs": [],
   "source": [
    "case_mrna = list(set(sample_labels['Case_mRNA']))\n",
    "\n",
    "colours = sns.color_palette(\"Set1\", 8).as_hex()\n",
    "\n",
    "sample_labels['Colour'] = sample_labels['Case_mRNA'].replace(case_mrna, colours)"
   ]
  },
  {
   "cell_type": "code",
   "execution_count": 8,
   "metadata": {},
   "outputs": [],
   "source": [
    "case_colour_dict = pd.Series(sample_labels.Colour.values,\n",
    "                             index=sample_labels.Case_mRNA).to_dict()"
   ]
  },
  {
   "cell_type": "code",
   "execution_count": 9,
   "metadata": {},
   "outputs": [
    {
     "data": {
      "text/plain": [
       "{1: '#e41a1c',\n",
       " 4: '#377eb8',\n",
       " 5: '#4daf4a',\n",
       " 6: '#984ea3',\n",
       " 10: '#ff7f00',\n",
       " 13: '#ffff33',\n",
       " 16: '#a65628',\n",
       " 17: '#f781bf'}"
      ]
     },
     "execution_count": 9,
     "metadata": {},
     "output_type": "execute_result"
    }
   ],
   "source": [
    "case_colour_dict"
   ]
  },
  {
   "cell_type": "markdown",
   "metadata": {},
   "source": [
    "### Define sample markers"
   ]
  },
  {
   "cell_type": "code",
   "execution_count": 10,
   "metadata": {},
   "outputs": [],
   "source": [
    "sites = ['ovary','omentum','other']\n",
    "markers = ['o','^','s']\n",
    "\n",
    "sample_labels['Site_marker'] = sample_labels['Site'].replace(sites,markers)"
   ]
  },
  {
   "cell_type": "code",
   "execution_count": 11,
   "metadata": {},
   "outputs": [
    {
     "data": {
      "text/html": [
       "<div>\n",
       "<style scoped>\n",
       "    .dataframe tbody tr th:only-of-type {\n",
       "        vertical-align: middle;\n",
       "    }\n",
       "\n",
       "    .dataframe tbody tr th {\n",
       "        vertical-align: top;\n",
       "    }\n",
       "\n",
       "    .dataframe thead th {\n",
       "        text-align: right;\n",
       "    }\n",
       "</style>\n",
       "<table border=\"1\" class=\"dataframe\">\n",
       "  <thead>\n",
       "    <tr style=\"text-align: right;\">\n",
       "      <th></th>\n",
       "      <th>Label</th>\n",
       "      <th>Key</th>\n",
       "      <th>Case_mRNA</th>\n",
       "      <th>Site</th>\n",
       "      <th>Habitat</th>\n",
       "      <th>Case_WES</th>\n",
       "      <th>Tumour_WES</th>\n",
       "      <th>Colour</th>\n",
       "      <th>Site_marker</th>\n",
       "    </tr>\n",
       "    <tr>\n",
       "      <th>Well</th>\n",
       "      <th></th>\n",
       "      <th></th>\n",
       "      <th></th>\n",
       "      <th></th>\n",
       "      <th></th>\n",
       "      <th></th>\n",
       "      <th></th>\n",
       "      <th></th>\n",
       "      <th></th>\n",
       "    </tr>\n",
       "  </thead>\n",
       "  <tbody>\n",
       "    <tr>\n",
       "      <th>A01</th>\n",
       "      <td>A01_3640_5_Omentum</td>\n",
       "      <td>case10_omentum_green</td>\n",
       "      <td>10</td>\n",
       "      <td>omentum</td>\n",
       "      <td>green</td>\n",
       "      <td>10.0</td>\n",
       "      <td>5</td>\n",
       "      <td>#ff7f00</td>\n",
       "      <td>^</td>\n",
       "    </tr>\n",
       "    <tr>\n",
       "      <th>A02</th>\n",
       "      <td>A02_3640_7_Omentum</td>\n",
       "      <td>case10_omentum_blue</td>\n",
       "      <td>10</td>\n",
       "      <td>omentum</td>\n",
       "      <td>blue</td>\n",
       "      <td>10.0</td>\n",
       "      <td>7</td>\n",
       "      <td>#ff7f00</td>\n",
       "      <td>^</td>\n",
       "    </tr>\n",
       "    <tr>\n",
       "      <th>A03</th>\n",
       "      <td>A03_3640_9_Paracolic_Gutter</td>\n",
       "      <td>case10_paracolic_yellow</td>\n",
       "      <td>10</td>\n",
       "      <td>other</td>\n",
       "      <td>yellow</td>\n",
       "      <td>10.0</td>\n",
       "      <td>8</td>\n",
       "      <td>#ff7f00</td>\n",
       "      <td>s</td>\n",
       "    </tr>\n",
       "    <tr>\n",
       "      <th>A04</th>\n",
       "      <td>A04_3640_17_R_Adnexa</td>\n",
       "      <td>case10_Radnexa_yellow</td>\n",
       "      <td>10</td>\n",
       "      <td>ovary</td>\n",
       "      <td>yellow</td>\n",
       "      <td>10.0</td>\n",
       "      <td>17</td>\n",
       "      <td>#ff7f00</td>\n",
       "      <td>o</td>\n",
       "    </tr>\n",
       "    <tr>\n",
       "      <th>A05</th>\n",
       "      <td>A05_3640_18_R_Adnexa</td>\n",
       "      <td>case10_Radnexa_blue</td>\n",
       "      <td>10</td>\n",
       "      <td>ovary</td>\n",
       "      <td>blue</td>\n",
       "      <td>10.0</td>\n",
       "      <td>18</td>\n",
       "      <td>#ff7f00</td>\n",
       "      <td>o</td>\n",
       "    </tr>\n",
       "  </tbody>\n",
       "</table>\n",
       "</div>"
      ],
      "text/plain": [
       "                            Label                      Key  Case_mRNA  \\\n",
       "Well                                                                    \n",
       "A01            A01_3640_5_Omentum     case10_omentum_green         10   \n",
       "A02            A02_3640_7_Omentum      case10_omentum_blue         10   \n",
       "A03   A03_3640_9_Paracolic_Gutter  case10_paracolic_yellow         10   \n",
       "A04          A04_3640_17_R_Adnexa    case10_Radnexa_yellow         10   \n",
       "A05          A05_3640_18_R_Adnexa      case10_Radnexa_blue         10   \n",
       "\n",
       "         Site Habitat  Case_WES Tumour_WES   Colour Site_marker  \n",
       "Well                                                             \n",
       "A01   omentum   green      10.0          5  #ff7f00           ^  \n",
       "A02   omentum    blue      10.0          7  #ff7f00           ^  \n",
       "A03     other  yellow      10.0          8  #ff7f00           s  \n",
       "A04     ovary  yellow      10.0         17  #ff7f00           o  \n",
       "A05     ovary    blue      10.0         18  #ff7f00           o  "
      ]
     },
     "execution_count": 11,
     "metadata": {},
     "output_type": "execute_result"
    }
   ],
   "source": [
    "sample_labels.head()"
   ]
  },
  {
   "cell_type": "markdown",
   "metadata": {},
   "source": [
    "## Plot T cell count fractions"
   ]
  },
  {
   "cell_type": "markdown",
   "metadata": {},
   "source": [
    "### Load T cell counts"
   ]
  },
  {
   "cell_type": "markdown",
   "metadata": {},
   "source": [
    "#### Select cell to plot"
   ]
  },
  {
   "cell_type": "code",
   "execution_count": 91,
   "metadata": {},
   "outputs": [],
   "source": [
    "cell = 'CD4' # CD8, CD4, CD4FoxP3"
   ]
  },
  {
   "cell_type": "code",
   "execution_count": 92,
   "metadata": {},
   "outputs": [],
   "source": [
    "file_Tcells = home + \"/Data/2/T_cell_counts.txt\"\n",
    "\n",
    "Tcell_counts = pd.read_csv(file_Tcells,\n",
    "                           sep='\\t',\n",
    "                           index_col=None)"
   ]
  },
  {
   "cell_type": "code",
   "execution_count": 93,
   "metadata": {},
   "outputs": [
    {
     "data": {
      "text/html": [
       "<div>\n",
       "<style scoped>\n",
       "    .dataframe tbody tr th:only-of-type {\n",
       "        vertical-align: middle;\n",
       "    }\n",
       "\n",
       "    .dataframe tbody tr th {\n",
       "        vertical-align: top;\n",
       "    }\n",
       "\n",
       "    .dataframe thead th {\n",
       "        text-align: right;\n",
       "    }\n",
       "</style>\n",
       "<table border=\"1\" class=\"dataframe\">\n",
       "  <thead>\n",
       "    <tr style=\"text-align: right;\">\n",
       "      <th></th>\n",
       "      <th>Well</th>\n",
       "      <th>Case</th>\n",
       "      <th>Label</th>\n",
       "      <th>Site</th>\n",
       "      <th>Habitat</th>\n",
       "      <th>IF_index_file</th>\n",
       "      <th>CD8</th>\n",
       "      <th>FoxP3</th>\n",
       "      <th>CD4FoxP3</th>\n",
       "      <th>CD4</th>\n",
       "      <th>Cell_counts</th>\n",
       "    </tr>\n",
       "  </thead>\n",
       "  <tbody>\n",
       "    <tr>\n",
       "      <th>0</th>\n",
       "      <td>A01</td>\n",
       "      <td>10</td>\n",
       "      <td>omentum green</td>\n",
       "      <td>omentum</td>\n",
       "      <td>green</td>\n",
       "      <td>23.0</td>\n",
       "      <td>5216.0</td>\n",
       "      <td>430.0</td>\n",
       "      <td>81.0</td>\n",
       "      <td>2340.0</td>\n",
       "      <td>41027.0</td>\n",
       "    </tr>\n",
       "    <tr>\n",
       "      <th>1</th>\n",
       "      <td>A01</td>\n",
       "      <td>10</td>\n",
       "      <td>omentum green</td>\n",
       "      <td>omentum</td>\n",
       "      <td>green</td>\n",
       "      <td>24.0</td>\n",
       "      <td>4956.0</td>\n",
       "      <td>404.0</td>\n",
       "      <td>47.0</td>\n",
       "      <td>761.0</td>\n",
       "      <td>33929.0</td>\n",
       "    </tr>\n",
       "    <tr>\n",
       "      <th>2</th>\n",
       "      <td>A01</td>\n",
       "      <td>10</td>\n",
       "      <td>omentum green</td>\n",
       "      <td>omentum</td>\n",
       "      <td>green</td>\n",
       "      <td>25.0</td>\n",
       "      <td>2485.0</td>\n",
       "      <td>197.0</td>\n",
       "      <td>58.0</td>\n",
       "      <td>1824.0</td>\n",
       "      <td>20667.0</td>\n",
       "    </tr>\n",
       "    <tr>\n",
       "      <th>3</th>\n",
       "      <td>A01</td>\n",
       "      <td>10</td>\n",
       "      <td>omentum green</td>\n",
       "      <td>omentum</td>\n",
       "      <td>green</td>\n",
       "      <td>26.0</td>\n",
       "      <td>1826.0</td>\n",
       "      <td>195.0</td>\n",
       "      <td>52.0</td>\n",
       "      <td>680.0</td>\n",
       "      <td>11491.0</td>\n",
       "    </tr>\n",
       "    <tr>\n",
       "      <th>4</th>\n",
       "      <td>A01</td>\n",
       "      <td>10</td>\n",
       "      <td>omentum green</td>\n",
       "      <td>omentum</td>\n",
       "      <td>green</td>\n",
       "      <td>27.0</td>\n",
       "      <td>1961.0</td>\n",
       "      <td>183.0</td>\n",
       "      <td>49.0</td>\n",
       "      <td>892.0</td>\n",
       "      <td>19348.0</td>\n",
       "    </tr>\n",
       "  </tbody>\n",
       "</table>\n",
       "</div>"
      ],
      "text/plain": [
       "  Well  Case          Label     Site Habitat  IF_index_file     CD8  FoxP3  \\\n",
       "0  A01    10  omentum green  omentum   green           23.0  5216.0  430.0   \n",
       "1  A01    10  omentum green  omentum   green           24.0  4956.0  404.0   \n",
       "2  A01    10  omentum green  omentum   green           25.0  2485.0  197.0   \n",
       "3  A01    10  omentum green  omentum   green           26.0  1826.0  195.0   \n",
       "4  A01    10  omentum green  omentum   green           27.0  1961.0  183.0   \n",
       "\n",
       "   CD4FoxP3     CD4  Cell_counts  \n",
       "0      81.0  2340.0      41027.0  \n",
       "1      47.0   761.0      33929.0  \n",
       "2      58.0  1824.0      20667.0  \n",
       "3      52.0   680.0      11491.0  \n",
       "4      49.0   892.0      19348.0  "
      ]
     },
     "execution_count": 93,
     "metadata": {},
     "output_type": "execute_result"
    }
   ],
   "source": [
    "Tcell_counts.head()"
   ]
  },
  {
   "cell_type": "markdown",
   "metadata": {},
   "source": [
    "## Plot counts per patient, distingushing samples by marker"
   ]
  },
  {
   "cell_type": "markdown",
   "metadata": {},
   "source": [
    "#### CD4FoxP3 cells were counted as a subset of CD4 positive cells"
   ]
  },
  {
   "cell_type": "code",
   "execution_count": 94,
   "metadata": {},
   "outputs": [
    {
     "data": {
      "text/html": [
       "<div>\n",
       "<style scoped>\n",
       "    .dataframe tbody tr th:only-of-type {\n",
       "        vertical-align: middle;\n",
       "    }\n",
       "\n",
       "    .dataframe tbody tr th {\n",
       "        vertical-align: top;\n",
       "    }\n",
       "\n",
       "    .dataframe thead th {\n",
       "        text-align: right;\n",
       "    }\n",
       "</style>\n",
       "<table border=\"1\" class=\"dataframe\">\n",
       "  <thead>\n",
       "    <tr style=\"text-align: right;\">\n",
       "      <th></th>\n",
       "      <th>Well</th>\n",
       "      <th>Case</th>\n",
       "      <th>Label</th>\n",
       "      <th>Site</th>\n",
       "      <th>Habitat</th>\n",
       "      <th>IF_index_file</th>\n",
       "      <th>CD8</th>\n",
       "      <th>FoxP3</th>\n",
       "      <th>CD4FoxP3</th>\n",
       "      <th>CD4</th>\n",
       "      <th>Cell_counts</th>\n",
       "    </tr>\n",
       "  </thead>\n",
       "  <tbody>\n",
       "    <tr>\n",
       "      <th>0</th>\n",
       "      <td>A01</td>\n",
       "      <td>10</td>\n",
       "      <td>omentum green</td>\n",
       "      <td>omentum</td>\n",
       "      <td>green</td>\n",
       "      <td>23.0</td>\n",
       "      <td>5216.0</td>\n",
       "      <td>430.0</td>\n",
       "      <td>81.0</td>\n",
       "      <td>2259.0</td>\n",
       "      <td>41027.0</td>\n",
       "    </tr>\n",
       "    <tr>\n",
       "      <th>1</th>\n",
       "      <td>A01</td>\n",
       "      <td>10</td>\n",
       "      <td>omentum green</td>\n",
       "      <td>omentum</td>\n",
       "      <td>green</td>\n",
       "      <td>24.0</td>\n",
       "      <td>4956.0</td>\n",
       "      <td>404.0</td>\n",
       "      <td>47.0</td>\n",
       "      <td>714.0</td>\n",
       "      <td>33929.0</td>\n",
       "    </tr>\n",
       "    <tr>\n",
       "      <th>2</th>\n",
       "      <td>A01</td>\n",
       "      <td>10</td>\n",
       "      <td>omentum green</td>\n",
       "      <td>omentum</td>\n",
       "      <td>green</td>\n",
       "      <td>25.0</td>\n",
       "      <td>2485.0</td>\n",
       "      <td>197.0</td>\n",
       "      <td>58.0</td>\n",
       "      <td>1766.0</td>\n",
       "      <td>20667.0</td>\n",
       "    </tr>\n",
       "    <tr>\n",
       "      <th>3</th>\n",
       "      <td>A01</td>\n",
       "      <td>10</td>\n",
       "      <td>omentum green</td>\n",
       "      <td>omentum</td>\n",
       "      <td>green</td>\n",
       "      <td>26.0</td>\n",
       "      <td>1826.0</td>\n",
       "      <td>195.0</td>\n",
       "      <td>52.0</td>\n",
       "      <td>628.0</td>\n",
       "      <td>11491.0</td>\n",
       "    </tr>\n",
       "    <tr>\n",
       "      <th>4</th>\n",
       "      <td>A01</td>\n",
       "      <td>10</td>\n",
       "      <td>omentum green</td>\n",
       "      <td>omentum</td>\n",
       "      <td>green</td>\n",
       "      <td>27.0</td>\n",
       "      <td>1961.0</td>\n",
       "      <td>183.0</td>\n",
       "      <td>49.0</td>\n",
       "      <td>843.0</td>\n",
       "      <td>19348.0</td>\n",
       "    </tr>\n",
       "  </tbody>\n",
       "</table>\n",
       "</div>"
      ],
      "text/plain": [
       "  Well  Case          Label     Site Habitat  IF_index_file     CD8  FoxP3  \\\n",
       "0  A01    10  omentum green  omentum   green           23.0  5216.0  430.0   \n",
       "1  A01    10  omentum green  omentum   green           24.0  4956.0  404.0   \n",
       "2  A01    10  omentum green  omentum   green           25.0  2485.0  197.0   \n",
       "3  A01    10  omentum green  omentum   green           26.0  1826.0  195.0   \n",
       "4  A01    10  omentum green  omentum   green           27.0  1961.0  183.0   \n",
       "\n",
       "   CD4FoxP3     CD4  Cell_counts  \n",
       "0      81.0  2259.0      41027.0  \n",
       "1      47.0   714.0      33929.0  \n",
       "2      58.0  1766.0      20667.0  \n",
       "3      52.0   628.0      11491.0  \n",
       "4      49.0   843.0      19348.0  "
      ]
     },
     "execution_count": 94,
     "metadata": {},
     "output_type": "execute_result"
    }
   ],
   "source": [
    "if cell == 'CD4':\n",
    "    \n",
    "        Tcell_counts[cell] = Tcell_counts[cell]-Tcell_counts['CD4FoxP3']\n",
    "        \n",
    "Tcell_counts.head()"
   ]
  },
  {
   "cell_type": "markdown",
   "metadata": {},
   "source": [
    "#### Log10 counts"
   ]
  },
  {
   "cell_type": "code",
   "execution_count": 95,
   "metadata": {},
   "outputs": [],
   "source": [
    "Tcell_counts[cell] = Tcell_counts[cell].apply(np.log10).replace(float('-inf'),0)"
   ]
  },
  {
   "cell_type": "code",
   "execution_count": 96,
   "metadata": {},
   "outputs": [],
   "source": [
    "cases = [6,16,5,13,17,1,4,10]\n",
    "\n",
    "case_cat = CategoricalDtype(categories=cases,\n",
    "                            ordered=True)"
   ]
  },
  {
   "cell_type": "code",
   "execution_count": 97,
   "metadata": {},
   "outputs": [],
   "source": [
    "Tcell_counts['Case'] = Tcell_counts['Case'].astype(case_cat)\n",
    "\n",
    "Tcell_counts.dropna(inplace=True,\n",
    "                    how='any')        \n",
    "\n",
    "Tcell_counts.sort_values(by=['Case',cell],\n",
    "                         inplace=True)"
   ]
  },
  {
   "cell_type": "markdown",
   "metadata": {},
   "source": [
    "### Get swarmplot coordinates"
   ]
  },
  {
   "cell_type": "code",
   "execution_count": 98,
   "metadata": {},
   "outputs": [
    {
     "data": {
      "image/png": "[encoded data removed]",
      "text/plain": [
       "<Figure size 432x288 with 1 Axes>"
      ]
     },
     "metadata": {},
     "output_type": "display_data"
    }
   ],
   "source": [
    "axs = sns.swarmplot(x='Case',\n",
    "                    y=cell,\n",
    "                    data=Tcell_counts,\n",
    "                    hue='Site',\n",
    "                    zorder=1,\n",
    "                    hue_order=['ovary','omentum','other'])"
   ]
  },
  {
   "cell_type": "code",
   "execution_count": 99,
   "metadata": {},
   "outputs": [],
   "source": [
    "case_colors = []\n",
    "for case in Tcell_counts.Case:\n",
    "    \n",
    "    c = case_colour_dict[case]\n",
    "    \n",
    "    if c not in case_colors:\n",
    "        case_colors.append(c)"
   ]
  },
  {
   "cell_type": "code",
   "execution_count": 100,
   "metadata": {},
   "outputs": [],
   "source": [
    "swarm_x = []\n",
    "swarm_c = []\n",
    "for i in range(len(axs.collections)):\n",
    "    \n",
    "    for j in axs.collections[i].get_offsets():\n",
    "        \n",
    "        swarm_x.append(j[0])  \n",
    "        swarm_c.append(case_colors[i])"
   ]
  },
  {
   "cell_type": "code",
   "execution_count": 101,
   "metadata": {},
   "outputs": [
    {
     "data": {
      "text/plain": [
       "True"
      ]
     },
     "execution_count": 101,
     "metadata": {},
     "output_type": "execute_result"
    }
   ],
   "source": [
    "len(swarm_x) == len(Tcell_counts.index) # This should be trueb"
   ]
  },
  {
   "cell_type": "code",
   "execution_count": 102,
   "metadata": {},
   "outputs": [
    {
     "data": {
      "text/plain": [
       "<seaborn.axisgrid.JointGrid at 0x1a1ecec630>"
      ]
     },
     "execution_count": 102,
     "metadata": {},
     "output_type": "execute_result"
    },
    {
     "data": {
      "image/png": "[encoded data removed]",
      "text/plain": [
       "<Figure size 432x432 with 3 Axes>"
      ]
     },
     "metadata": {},
     "output_type": "display_data"
    }
   ],
   "source": [
    "swarm_x_df = pd.DataFrame({'index':Tcell_counts.index,\n",
    "                           'swarm_x':pd.Series(swarm_x),\n",
    "                           'swarm_c':pd.Series(swarm_c)})\n",
    "\n",
    "swarm_x_df.set_index('index', inplace=True)\n",
    "\n",
    "Tcell_counts = pd.concat([Tcell_counts,\n",
    "                          swarm_x_df],\n",
    "                          axis=1)\n",
    "\n",
    "# check the coordinates are like swarmplot\n",
    "sns.jointplot(x='swarm_x',\n",
    "              y=cell,\n",
    "              data=Tcell_counts)"
   ]
  },
  {
   "cell_type": "markdown",
   "metadata": {},
   "source": [
    "### Divide T cell counts by site"
   ]
  },
  {
   "cell_type": "code",
   "execution_count": 103,
   "metadata": {},
   "outputs": [],
   "source": [
    "Tcell_counts_OV = Tcell_counts[Tcell_counts.Site=='ovary']\n",
    "Tcell_counts_OM = Tcell_counts[Tcell_counts.Site=='omentum']\n",
    "Tcell_counts_OT = Tcell_counts[Tcell_counts.Site=='other']"
   ]
  },
  {
   "cell_type": "markdown",
   "metadata": {},
   "source": [
    "### Plot swarmplot"
   ]
  },
  {
   "cell_type": "code",
   "execution_count": 104,
   "metadata": {},
   "outputs": [
    {
     "data": {
      "image/png": "[encoded data removed]",
      "text/plain": [
       "<Figure size 504x504 with 1 Axes>"
      ]
     },
     "metadata": {},
     "output_type": "display_data"
    }
   ],
   "source": [
    "markersize=17\n",
    "\n",
    "plt.figure(figsize=(7,7))\n",
    "\n",
    "# Plot boxplots\n",
    "ax = sns.boxplot(x='Case',\n",
    "                 y=cell,\n",
    "                 data=Tcell_counts,\n",
    "                 color='white',\n",
    "                 palette=case_colors,\n",
    "                 showfliers=False,\n",
    "                 zorder=0,\n",
    "                 notch=True)\n",
    "           \n",
    "# Make boxplots to be coloured only on the edges\n",
    "for i,artist in enumerate(ax.artists):\n",
    "    \n",
    "    # Set the linecolor on the artist to the facecolor, and set the facecolor to None\n",
    "    col = artist.get_facecolor()\n",
    "    artist.set_edgecolor(col)\n",
    "    artist.set_facecolor(col)\n",
    "    artist.set_alpha(0.25)\n",
    "\n",
    "    # Each box has 6 associated Line2D objects (to make the whiskers, fliers, etc.)\n",
    "    # Loop over them here, and use the same colour as above\n",
    "    for j in range(i*5,i*5+5):\n",
    "    \n",
    "        line = ax.lines[j]\n",
    "        line.set_color(col)\n",
    "        line.set_mfc(col)\n",
    "        line.set_mec(col)\n",
    "        \n",
    "        if (j+1) % 5 == 0:\n",
    "            line.set_alpha(0)\n",
    "        else:\n",
    "            line.set_alpha(0.75)\n",
    "\n",
    "# Add markers for each site\n",
    "\n",
    "# Ovary\n",
    "sns.regplot(x='swarm_x',\n",
    "            y=cell,\n",
    "            data=Tcell_counts_OV,\n",
    "            fit_reg=False,\n",
    "            marker='o',\n",
    "            ax=ax,\n",
    "            scatter_kws={'s':markersize+1,\n",
    "                         'lw':1,\n",
    "                         'alpha':1, \n",
    "                         'color':list(Tcell_counts_OV.swarm_c)})\n",
    "\n",
    "# Omentum\n",
    "sns.regplot(x='swarm_x',\n",
    "            y=cell,\n",
    "            data=Tcell_counts_OM,\n",
    "            fit_reg=False,\n",
    "            marker='^',\n",
    "            ax=ax,\n",
    "            scatter_kws={'s':markersize+3,\n",
    "                         'lw':1,\n",
    "                         'alpha':1, \n",
    "                         'color':list(Tcell_counts_OM.swarm_c)})\n",
    "\n",
    "# Other\n",
    "sns.regplot(x='swarm_x',\n",
    "            y=cell,\n",
    "            data=Tcell_counts_OT,\n",
    "            fit_reg=False,\n",
    "            marker='s',\n",
    "            ax=ax,\n",
    "            scatter_kws={'s':markersize,\n",
    "                         'lw':1,\n",
    "                         'alpha':1, \n",
    "                         'color':list(Tcell_counts_OT.swarm_c)})\n",
    "\n",
    "plt.ylim(-0.2, 4.5)\n",
    "\n",
    "sns.despine(offset=0, trim=True)"
   ]
  },
  {
   "cell_type": "markdown",
   "metadata": {},
   "source": [
    "### Save plot"
   ]
  },
  {
   "cell_type": "code",
   "execution_count": 105,
   "metadata": {},
   "outputs": [
    {
     "name": "stdout",
     "output_type": "stream",
     "text": [
      "OVCT_Fig_s2.pdf  OVCT_Fig_s2.png  README.md        \u001b[34mpanels\u001b[m\u001b[m/\r\n"
     ]
    }
   ],
   "source": [
    "ls ../../Figures/supplementary/2/"
   ]
  },
  {
   "cell_type": "code",
   "execution_count": 106,
   "metadata": {},
   "outputs": [],
   "source": [
    "fig = ax.get_figure()\n",
    "\n",
    "FILE = '../../Figures/supplementary/2/panels/s2b_TreatmentNaive_%s_Tcell_counts.pdf' % (cell)\n",
    "\n",
    "fig.savefig(FILE, bbox='tight')"
   ]
  },
  {
   "cell_type": "markdown",
   "metadata": {},
   "source": [
    "# End script"
   ]
  }
 ],
 "metadata": {
  "kernelspec": {
   "display_name": "Python 3",
   "language": "python",
   "name": "python3"
  },
  "language_info": {
   "codemirror_mode": {
    "name": "ipython",
    "version": 3
   },
   "file_extension": ".py",
   "mimetype": "text/x-python",
   "name": "python",
   "nbconvert_exporter": "python",
   "pygments_lexer": "ipython3",
   "version": "3.6.8"
  }
 },
 "nbformat": 4,
 "nbformat_minor": 2
}

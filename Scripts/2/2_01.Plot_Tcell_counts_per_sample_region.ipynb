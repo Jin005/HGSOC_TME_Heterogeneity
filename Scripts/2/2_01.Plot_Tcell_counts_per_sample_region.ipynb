{
 "cells": [
  {
   "cell_type": "markdown",
   "metadata": {},
   "source": [
    "# Plot T cell counts per sample and region within sample"
   ]
  },
  {
   "cell_type": "markdown",
   "metadata": {},
   "source": [
    "Script related to figure 2a\n",
    "\n",
    "### Aim:\n",
    "- Plot T cell counts across samples and regions within samples"
   ]
  },
  {
   "cell_type": "code",
   "execution_count": 1,
   "metadata": {},
   "outputs": [
    {
     "name": "stdout",
     "output_type": "stream",
     "text": [
      "Python 3.6.8 :: Anaconda custom (64-bit)\r\n"
     ]
    }
   ],
   "source": [
    "!python --version"
   ]
  },
  {
   "cell_type": "markdown",
   "metadata": {},
   "source": [
    "## Import packages"
   ]
  },
  {
   "cell_type": "code",
   "execution_count": 2,
   "metadata": {},
   "outputs": [],
   "source": [
    "import math\n",
    "import numpy as np\n",
    "import pandas as pd\n",
    "import seaborn as sns\n",
    "import matplotlib.pyplot as plt"
   ]
  },
  {
   "cell_type": "code",
   "execution_count": 3,
   "metadata": {},
   "outputs": [],
   "source": [
    "home = \"~/git_repos/HGSOC_TME_Heterogeneity/\""
   ]
  },
  {
   "cell_type": "markdown",
   "metadata": {},
   "source": [
    "## Get sample labels"
   ]
  },
  {
   "cell_type": "markdown",
   "metadata": {},
   "source": [
    "### Load file"
   ]
  },
  {
   "cell_type": "code",
   "execution_count": 4,
   "metadata": {},
   "outputs": [],
   "source": [
    "file_keys = home + \"/Data/1/TreatmentNaive_SampleLabels.txt\"\n",
    "\n",
    "sample_labels = pd.read_csv(file_keys,\n",
    "                            sep='\\t',\n",
    "                            index_col='Well')"
   ]
  },
  {
   "cell_type": "code",
   "execution_count": 5,
   "metadata": {},
   "outputs": [
    {
     "data": {
      "text/html": [
       "<div>\n",
       "<style scoped>\n",
       "    .dataframe tbody tr th:only-of-type {\n",
       "        vertical-align: middle;\n",
       "    }\n",
       "\n",
       "    .dataframe tbody tr th {\n",
       "        vertical-align: top;\n",
       "    }\n",
       "\n",
       "    .dataframe thead th {\n",
       "        text-align: right;\n",
       "    }\n",
       "</style>\n",
       "<table border=\"1\" class=\"dataframe\">\n",
       "  <thead>\n",
       "    <tr style=\"text-align: right;\">\n",
       "      <th></th>\n",
       "      <th>Label</th>\n",
       "      <th>Key</th>\n",
       "      <th>Case_mRNA</th>\n",
       "      <th>Site</th>\n",
       "      <th>Habitat</th>\n",
       "      <th>Case_WES</th>\n",
       "      <th>Tumour_WES</th>\n",
       "    </tr>\n",
       "    <tr>\n",
       "      <th>Well</th>\n",
       "      <th></th>\n",
       "      <th></th>\n",
       "      <th></th>\n",
       "      <th></th>\n",
       "      <th></th>\n",
       "      <th></th>\n",
       "      <th></th>\n",
       "    </tr>\n",
       "  </thead>\n",
       "  <tbody>\n",
       "    <tr>\n",
       "      <th>A01</th>\n",
       "      <td>A01_3640_5_Omentum</td>\n",
       "      <td>case10_omentum_green</td>\n",
       "      <td>10</td>\n",
       "      <td>omentum</td>\n",
       "      <td>green</td>\n",
       "      <td>10.0</td>\n",
       "      <td>5</td>\n",
       "    </tr>\n",
       "    <tr>\n",
       "      <th>A02</th>\n",
       "      <td>A02_3640_7_Omentum</td>\n",
       "      <td>case10_omentum_blue</td>\n",
       "      <td>10</td>\n",
       "      <td>omentum</td>\n",
       "      <td>blue</td>\n",
       "      <td>10.0</td>\n",
       "      <td>7</td>\n",
       "    </tr>\n",
       "    <tr>\n",
       "      <th>A03</th>\n",
       "      <td>A03_3640_9_Paracolic_Gutter</td>\n",
       "      <td>case10_paracolic_yellow</td>\n",
       "      <td>10</td>\n",
       "      <td>other</td>\n",
       "      <td>yellow</td>\n",
       "      <td>10.0</td>\n",
       "      <td>8</td>\n",
       "    </tr>\n",
       "    <tr>\n",
       "      <th>A04</th>\n",
       "      <td>A04_3640_17_R_Adnexa</td>\n",
       "      <td>case10_Radnexa_yellow</td>\n",
       "      <td>10</td>\n",
       "      <td>ovary</td>\n",
       "      <td>yellow</td>\n",
       "      <td>10.0</td>\n",
       "      <td>17</td>\n",
       "    </tr>\n",
       "    <tr>\n",
       "      <th>A05</th>\n",
       "      <td>A05_3640_18_R_Adnexa</td>\n",
       "      <td>case10_Radnexa_blue</td>\n",
       "      <td>10</td>\n",
       "      <td>ovary</td>\n",
       "      <td>blue</td>\n",
       "      <td>10.0</td>\n",
       "      <td>18</td>\n",
       "    </tr>\n",
       "  </tbody>\n",
       "</table>\n",
       "</div>"
      ],
      "text/plain": [
       "                            Label                      Key  Case_mRNA  \\\n",
       "Well                                                                    \n",
       "A01            A01_3640_5_Omentum     case10_omentum_green         10   \n",
       "A02            A02_3640_7_Omentum      case10_omentum_blue         10   \n",
       "A03   A03_3640_9_Paracolic_Gutter  case10_paracolic_yellow         10   \n",
       "A04          A04_3640_17_R_Adnexa    case10_Radnexa_yellow         10   \n",
       "A05          A05_3640_18_R_Adnexa      case10_Radnexa_blue         10   \n",
       "\n",
       "         Site Habitat  Case_WES Tumour_WES  \n",
       "Well                                        \n",
       "A01   omentum   green      10.0          5  \n",
       "A02   omentum    blue      10.0          7  \n",
       "A03     other  yellow      10.0          8  \n",
       "A04     ovary  yellow      10.0         17  \n",
       "A05     ovary    blue      10.0         18  "
      ]
     },
     "execution_count": 5,
     "metadata": {},
     "output_type": "execute_result"
    }
   ],
   "source": [
    "sample_labels.head()"
   ]
  },
  {
   "cell_type": "markdown",
   "metadata": {},
   "source": [
    "### Define sample colours"
   ]
  },
  {
   "cell_type": "code",
   "execution_count": 6,
   "metadata": {},
   "outputs": [],
   "source": [
    "case_mrna = list(set(sample_labels['Case_mRNA']))\n",
    "\n",
    "colours = sns.color_palette(\"Set1\", 8).as_hex()\n",
    "\n",
    "sample_labels['Colour'] = sample_labels['Case_mRNA'].replace(case_mrna, colours)"
   ]
  },
  {
   "cell_type": "markdown",
   "metadata": {},
   "source": [
    "### Define sample markers"
   ]
  },
  {
   "cell_type": "code",
   "execution_count": 7,
   "metadata": {},
   "outputs": [],
   "source": [
    "sites = ['ovary','omentum','other']\n",
    "markers = ['o','^','s']\n",
    "\n",
    "sample_labels['Site_marker'] = sample_labels['Site'].replace(sites,markers)"
   ]
  },
  {
   "cell_type": "code",
   "execution_count": 8,
   "metadata": {},
   "outputs": [
    {
     "data": {
      "text/html": [
       "<div>\n",
       "<style scoped>\n",
       "    .dataframe tbody tr th:only-of-type {\n",
       "        vertical-align: middle;\n",
       "    }\n",
       "\n",
       "    .dataframe tbody tr th {\n",
       "        vertical-align: top;\n",
       "    }\n",
       "\n",
       "    .dataframe thead th {\n",
       "        text-align: right;\n",
       "    }\n",
       "</style>\n",
       "<table border=\"1\" class=\"dataframe\">\n",
       "  <thead>\n",
       "    <tr style=\"text-align: right;\">\n",
       "      <th></th>\n",
       "      <th>Label</th>\n",
       "      <th>Key</th>\n",
       "      <th>Case_mRNA</th>\n",
       "      <th>Site</th>\n",
       "      <th>Habitat</th>\n",
       "      <th>Case_WES</th>\n",
       "      <th>Tumour_WES</th>\n",
       "      <th>Colour</th>\n",
       "      <th>Site_marker</th>\n",
       "    </tr>\n",
       "    <tr>\n",
       "      <th>Well</th>\n",
       "      <th></th>\n",
       "      <th></th>\n",
       "      <th></th>\n",
       "      <th></th>\n",
       "      <th></th>\n",
       "      <th></th>\n",
       "      <th></th>\n",
       "      <th></th>\n",
       "      <th></th>\n",
       "    </tr>\n",
       "  </thead>\n",
       "  <tbody>\n",
       "    <tr>\n",
       "      <th>A01</th>\n",
       "      <td>A01_3640_5_Omentum</td>\n",
       "      <td>case10_omentum_green</td>\n",
       "      <td>10</td>\n",
       "      <td>omentum</td>\n",
       "      <td>green</td>\n",
       "      <td>10.0</td>\n",
       "      <td>5</td>\n",
       "      <td>#ff7f00</td>\n",
       "      <td>^</td>\n",
       "    </tr>\n",
       "    <tr>\n",
       "      <th>A02</th>\n",
       "      <td>A02_3640_7_Omentum</td>\n",
       "      <td>case10_omentum_blue</td>\n",
       "      <td>10</td>\n",
       "      <td>omentum</td>\n",
       "      <td>blue</td>\n",
       "      <td>10.0</td>\n",
       "      <td>7</td>\n",
       "      <td>#ff7f00</td>\n",
       "      <td>^</td>\n",
       "    </tr>\n",
       "    <tr>\n",
       "      <th>A03</th>\n",
       "      <td>A03_3640_9_Paracolic_Gutter</td>\n",
       "      <td>case10_paracolic_yellow</td>\n",
       "      <td>10</td>\n",
       "      <td>other</td>\n",
       "      <td>yellow</td>\n",
       "      <td>10.0</td>\n",
       "      <td>8</td>\n",
       "      <td>#ff7f00</td>\n",
       "      <td>s</td>\n",
       "    </tr>\n",
       "    <tr>\n",
       "      <th>A04</th>\n",
       "      <td>A04_3640_17_R_Adnexa</td>\n",
       "      <td>case10_Radnexa_yellow</td>\n",
       "      <td>10</td>\n",
       "      <td>ovary</td>\n",
       "      <td>yellow</td>\n",
       "      <td>10.0</td>\n",
       "      <td>17</td>\n",
       "      <td>#ff7f00</td>\n",
       "      <td>o</td>\n",
       "    </tr>\n",
       "    <tr>\n",
       "      <th>A05</th>\n",
       "      <td>A05_3640_18_R_Adnexa</td>\n",
       "      <td>case10_Radnexa_blue</td>\n",
       "      <td>10</td>\n",
       "      <td>ovary</td>\n",
       "      <td>blue</td>\n",
       "      <td>10.0</td>\n",
       "      <td>18</td>\n",
       "      <td>#ff7f00</td>\n",
       "      <td>o</td>\n",
       "    </tr>\n",
       "  </tbody>\n",
       "</table>\n",
       "</div>"
      ],
      "text/plain": [
       "                            Label                      Key  Case_mRNA  \\\n",
       "Well                                                                    \n",
       "A01            A01_3640_5_Omentum     case10_omentum_green         10   \n",
       "A02            A02_3640_7_Omentum      case10_omentum_blue         10   \n",
       "A03   A03_3640_9_Paracolic_Gutter  case10_paracolic_yellow         10   \n",
       "A04          A04_3640_17_R_Adnexa    case10_Radnexa_yellow         10   \n",
       "A05          A05_3640_18_R_Adnexa      case10_Radnexa_blue         10   \n",
       "\n",
       "         Site Habitat  Case_WES Tumour_WES   Colour Site_marker  \n",
       "Well                                                             \n",
       "A01   omentum   green      10.0          5  #ff7f00           ^  \n",
       "A02   omentum    blue      10.0          7  #ff7f00           ^  \n",
       "A03     other  yellow      10.0          8  #ff7f00           s  \n",
       "A04     ovary  yellow      10.0         17  #ff7f00           o  \n",
       "A05     ovary    blue      10.0         18  #ff7f00           o  "
      ]
     },
     "execution_count": 8,
     "metadata": {},
     "output_type": "execute_result"
    }
   ],
   "source": [
    "sample_labels.head()"
   ]
  },
  {
   "cell_type": "markdown",
   "metadata": {},
   "source": [
    "## Load T cell counts"
   ]
  },
  {
   "cell_type": "code",
   "execution_count": 9,
   "metadata": {},
   "outputs": [],
   "source": [
    "file_Tcells = home + \"/Data/2/T_cell_counts.txt\"\n",
    "\n",
    "Tcell_counts = pd.read_csv(file_Tcells,\n",
    "                           sep='\\t',\n",
    "                           index_col=None)"
   ]
  },
  {
   "cell_type": "code",
   "execution_count": 10,
   "metadata": {},
   "outputs": [
    {
     "data": {
      "text/html": [
       "<div>\n",
       "<style scoped>\n",
       "    .dataframe tbody tr th:only-of-type {\n",
       "        vertical-align: middle;\n",
       "    }\n",
       "\n",
       "    .dataframe tbody tr th {\n",
       "        vertical-align: top;\n",
       "    }\n",
       "\n",
       "    .dataframe thead th {\n",
       "        text-align: right;\n",
       "    }\n",
       "</style>\n",
       "<table border=\"1\" class=\"dataframe\">\n",
       "  <thead>\n",
       "    <tr style=\"text-align: right;\">\n",
       "      <th></th>\n",
       "      <th>Well</th>\n",
       "      <th>Case</th>\n",
       "      <th>Label</th>\n",
       "      <th>Site</th>\n",
       "      <th>Habitat</th>\n",
       "      <th>IF_index_file</th>\n",
       "      <th>CD8</th>\n",
       "      <th>FoxP3</th>\n",
       "      <th>CD4FoxP3</th>\n",
       "      <th>CD4</th>\n",
       "      <th>Cell_counts</th>\n",
       "    </tr>\n",
       "  </thead>\n",
       "  <tbody>\n",
       "    <tr>\n",
       "      <th>0</th>\n",
       "      <td>A01</td>\n",
       "      <td>10</td>\n",
       "      <td>omentum green</td>\n",
       "      <td>omentum</td>\n",
       "      <td>green</td>\n",
       "      <td>23.0</td>\n",
       "      <td>5216.0</td>\n",
       "      <td>430.0</td>\n",
       "      <td>81.0</td>\n",
       "      <td>2340.0</td>\n",
       "      <td>41027.0</td>\n",
       "    </tr>\n",
       "    <tr>\n",
       "      <th>1</th>\n",
       "      <td>A01</td>\n",
       "      <td>10</td>\n",
       "      <td>omentum green</td>\n",
       "      <td>omentum</td>\n",
       "      <td>green</td>\n",
       "      <td>24.0</td>\n",
       "      <td>4956.0</td>\n",
       "      <td>404.0</td>\n",
       "      <td>47.0</td>\n",
       "      <td>761.0</td>\n",
       "      <td>33929.0</td>\n",
       "    </tr>\n",
       "    <tr>\n",
       "      <th>2</th>\n",
       "      <td>A01</td>\n",
       "      <td>10</td>\n",
       "      <td>omentum green</td>\n",
       "      <td>omentum</td>\n",
       "      <td>green</td>\n",
       "      <td>25.0</td>\n",
       "      <td>2485.0</td>\n",
       "      <td>197.0</td>\n",
       "      <td>58.0</td>\n",
       "      <td>1824.0</td>\n",
       "      <td>20667.0</td>\n",
       "    </tr>\n",
       "    <tr>\n",
       "      <th>3</th>\n",
       "      <td>A01</td>\n",
       "      <td>10</td>\n",
       "      <td>omentum green</td>\n",
       "      <td>omentum</td>\n",
       "      <td>green</td>\n",
       "      <td>26.0</td>\n",
       "      <td>1826.0</td>\n",
       "      <td>195.0</td>\n",
       "      <td>52.0</td>\n",
       "      <td>680.0</td>\n",
       "      <td>11491.0</td>\n",
       "    </tr>\n",
       "    <tr>\n",
       "      <th>4</th>\n",
       "      <td>A01</td>\n",
       "      <td>10</td>\n",
       "      <td>omentum green</td>\n",
       "      <td>omentum</td>\n",
       "      <td>green</td>\n",
       "      <td>27.0</td>\n",
       "      <td>1961.0</td>\n",
       "      <td>183.0</td>\n",
       "      <td>49.0</td>\n",
       "      <td>892.0</td>\n",
       "      <td>19348.0</td>\n",
       "    </tr>\n",
       "  </tbody>\n",
       "</table>\n",
       "</div>"
      ],
      "text/plain": [
       "  Well  Case          Label     Site Habitat  IF_index_file     CD8  FoxP3  \\\n",
       "0  A01    10  omentum green  omentum   green           23.0  5216.0  430.0   \n",
       "1  A01    10  omentum green  omentum   green           24.0  4956.0  404.0   \n",
       "2  A01    10  omentum green  omentum   green           25.0  2485.0  197.0   \n",
       "3  A01    10  omentum green  omentum   green           26.0  1826.0  195.0   \n",
       "4  A01    10  omentum green  omentum   green           27.0  1961.0  183.0   \n",
       "\n",
       "   CD4FoxP3     CD4  Cell_counts  \n",
       "0      81.0  2340.0      41027.0  \n",
       "1      47.0   761.0      33929.0  \n",
       "2      58.0  1824.0      20667.0  \n",
       "3      52.0   680.0      11491.0  \n",
       "4      49.0   892.0      19348.0  "
      ]
     },
     "execution_count": 10,
     "metadata": {},
     "output_type": "execute_result"
    }
   ],
   "source": [
    "Tcell_counts.head()"
   ]
  },
  {
   "cell_type": "code",
   "execution_count": 11,
   "metadata": {},
   "outputs": [
    {
     "data": {
      "text/plain": [
       "(441, 11)"
      ]
     },
     "execution_count": 11,
     "metadata": {},
     "output_type": "execute_result"
    }
   ],
   "source": [
    "Tcell_counts.shape"
   ]
  },
  {
   "cell_type": "markdown",
   "metadata": {},
   "source": [
    "### Organise data"
   ]
  },
  {
   "cell_type": "code",
   "execution_count": 12,
   "metadata": {},
   "outputs": [],
   "source": [
    "cd8_fraction = []\n",
    "cd4_fraction = []\n",
    "cd4Tregs_fraction = []\n",
    "wells = []\n",
    "cases = []\n",
    "sites = []\n",
    "for i in Tcell_counts.index:\n",
    "\n",
    "    well = Tcell_counts.Well[i]\n",
    "\n",
    "    cd8 = Tcell_counts.CD8[i]\n",
    "    \n",
    "    # CD4FoxP3 counted as subset of CD4\n",
    "    cd4 = Tcell_counts.CD4[i] - Tcell_counts.CD4FoxP3[i] \n",
    "    \n",
    "    cd4Tregs = Tcell_counts.CD4FoxP3[i]\n",
    "    cells = Tcell_counts.Cell_counts[i]\n",
    "\n",
    "    cd8_fraction.append(cd8/cells)\n",
    "    cd4_fraction.append(cd4/cells)\n",
    "    cd4Tregs_fraction.append(cd4Tregs/cells)\n",
    "    \n",
    "    wells.append(well)\n",
    "    cases.append(Tcell_counts.Case[i])\n",
    "    sites.append(Tcell_counts.Site[i])"
   ]
  },
  {
   "cell_type": "code",
   "execution_count": 13,
   "metadata": {},
   "outputs": [],
   "source": [
    "data_toplot = pd.DataFrame({'Well':pd.Series(wells),\n",
    "                            'Case':pd.Series(cases),\n",
    "                            'Site':pd.Series(sites),\n",
    "                            'CD8_fraction':pd.Series(cd8_fraction),\n",
    "                            'CD4_fraction':pd.Series(cd4_fraction),\n",
    "                            'CD4FoxP3_fraction':pd.Series(cd4Tregs_fraction)})"
   ]
  },
  {
   "cell_type": "code",
   "execution_count": 14,
   "metadata": {},
   "outputs": [
    {
     "data": {
      "text/plain": [
       "B12    24\n",
       "B01    23\n",
       "C04    22\n",
       "C10    21\n",
       "B04    19\n",
       "Name: Well, dtype: int64"
      ]
     },
     "execution_count": 14,
     "metadata": {},
     "output_type": "execute_result"
    }
   ],
   "source": [
    "data_toplot.Well.value_counts().head()"
   ]
  },
  {
   "cell_type": "code",
   "execution_count": 15,
   "metadata": {},
   "outputs": [
    {
     "data": {
      "text/html": [
       "<div>\n",
       "<style scoped>\n",
       "    .dataframe tbody tr th:only-of-type {\n",
       "        vertical-align: middle;\n",
       "    }\n",
       "\n",
       "    .dataframe tbody tr th {\n",
       "        vertical-align: top;\n",
       "    }\n",
       "\n",
       "    .dataframe thead th {\n",
       "        text-align: right;\n",
       "    }\n",
       "</style>\n",
       "<table border=\"1\" class=\"dataframe\">\n",
       "  <thead>\n",
       "    <tr style=\"text-align: right;\">\n",
       "      <th></th>\n",
       "      <th>Well</th>\n",
       "      <th>Case</th>\n",
       "      <th>Site</th>\n",
       "      <th>CD8_fraction</th>\n",
       "      <th>CD4_fraction</th>\n",
       "      <th>CD4FoxP3_fraction</th>\n",
       "    </tr>\n",
       "  </thead>\n",
       "  <tbody>\n",
       "    <tr>\n",
       "      <th>0</th>\n",
       "      <td>A01</td>\n",
       "      <td>10</td>\n",
       "      <td>omentum</td>\n",
       "      <td>0.127136</td>\n",
       "      <td>0.055061</td>\n",
       "      <td>0.001974</td>\n",
       "    </tr>\n",
       "    <tr>\n",
       "      <th>1</th>\n",
       "      <td>A01</td>\n",
       "      <td>10</td>\n",
       "      <td>omentum</td>\n",
       "      <td>0.146070</td>\n",
       "      <td>0.021044</td>\n",
       "      <td>0.001385</td>\n",
       "    </tr>\n",
       "    <tr>\n",
       "      <th>2</th>\n",
       "      <td>A01</td>\n",
       "      <td>10</td>\n",
       "      <td>omentum</td>\n",
       "      <td>0.120240</td>\n",
       "      <td>0.085450</td>\n",
       "      <td>0.002806</td>\n",
       "    </tr>\n",
       "    <tr>\n",
       "      <th>3</th>\n",
       "      <td>A01</td>\n",
       "      <td>10</td>\n",
       "      <td>omentum</td>\n",
       "      <td>0.158907</td>\n",
       "      <td>0.054651</td>\n",
       "      <td>0.004525</td>\n",
       "    </tr>\n",
       "    <tr>\n",
       "      <th>4</th>\n",
       "      <td>A01</td>\n",
       "      <td>10</td>\n",
       "      <td>omentum</td>\n",
       "      <td>0.101354</td>\n",
       "      <td>0.043570</td>\n",
       "      <td>0.002533</td>\n",
       "    </tr>\n",
       "  </tbody>\n",
       "</table>\n",
       "</div>"
      ],
      "text/plain": [
       "  Well  Case     Site  CD8_fraction  CD4_fraction  CD4FoxP3_fraction\n",
       "0  A01    10  omentum      0.127136      0.055061           0.001974\n",
       "1  A01    10  omentum      0.146070      0.021044           0.001385\n",
       "2  A01    10  omentum      0.120240      0.085450           0.002806\n",
       "3  A01    10  omentum      0.158907      0.054651           0.004525\n",
       "4  A01    10  omentum      0.101354      0.043570           0.002533"
      ]
     },
     "execution_count": 15,
     "metadata": {},
     "output_type": "execute_result"
    }
   ],
   "source": [
    "data_toplot.head()"
   ]
  },
  {
   "cell_type": "code",
   "execution_count": 16,
   "metadata": {},
   "outputs": [
    {
     "data": {
      "text/plain": [
       "8"
      ]
     },
     "execution_count": 16,
     "metadata": {},
     "output_type": "execute_result"
    }
   ],
   "source": [
    "len(set(data_toplot[\"Case\"]))"
   ]
  },
  {
   "cell_type": "code",
   "execution_count": 17,
   "metadata": {},
   "outputs": [
    {
     "data": {
      "text/plain": [
       "441"
      ]
     },
     "execution_count": 17,
     "metadata": {},
     "output_type": "execute_result"
    }
   ],
   "source": [
    "len(data_toplot[\"Well\"])"
   ]
  },
  {
   "cell_type": "markdown",
   "metadata": {},
   "source": [
    "### Save data"
   ]
  },
  {
   "cell_type": "code",
   "execution_count": 18,
   "metadata": {},
   "outputs": [],
   "source": [
    "dfs = [Tcell_counts,data_toplot]\n",
    "\n",
    "Tcell_counts_fractions = pd.concat(dfs,\n",
    "                                   axis=1)\n",
    "\n",
    "Tcell_counts_fractions = Tcell_counts_fractions.loc[:,~Tcell_counts_fractions.columns.duplicated()]"
   ]
  },
  {
   "cell_type": "code",
   "execution_count": 19,
   "metadata": {},
   "outputs": [
    {
     "data": {
      "text/html": [
       "<div>\n",
       "<style scoped>\n",
       "    .dataframe tbody tr th:only-of-type {\n",
       "        vertical-align: middle;\n",
       "    }\n",
       "\n",
       "    .dataframe tbody tr th {\n",
       "        vertical-align: top;\n",
       "    }\n",
       "\n",
       "    .dataframe thead th {\n",
       "        text-align: right;\n",
       "    }\n",
       "</style>\n",
       "<table border=\"1\" class=\"dataframe\">\n",
       "  <thead>\n",
       "    <tr style=\"text-align: right;\">\n",
       "      <th></th>\n",
       "      <th>Well</th>\n",
       "      <th>Case</th>\n",
       "      <th>Label</th>\n",
       "      <th>Site</th>\n",
       "      <th>Habitat</th>\n",
       "      <th>IF_index_file</th>\n",
       "      <th>CD8</th>\n",
       "      <th>FoxP3</th>\n",
       "      <th>CD4FoxP3</th>\n",
       "      <th>CD4</th>\n",
       "      <th>Cell_counts</th>\n",
       "      <th>CD8_fraction</th>\n",
       "      <th>CD4_fraction</th>\n",
       "      <th>CD4FoxP3_fraction</th>\n",
       "    </tr>\n",
       "  </thead>\n",
       "  <tbody>\n",
       "    <tr>\n",
       "      <th>436</th>\n",
       "      <td>D03</td>\n",
       "      <td>17</td>\n",
       "      <td>Left Omentum Yellow Right Ovary Blue</td>\n",
       "      <td>ovary</td>\n",
       "      <td>blue</td>\n",
       "      <td>17.0</td>\n",
       "      <td>1020.0</td>\n",
       "      <td>105.0</td>\n",
       "      <td>29.0</td>\n",
       "      <td>594.0</td>\n",
       "      <td>105583.0</td>\n",
       "      <td>0.009661</td>\n",
       "      <td>0.005351</td>\n",
       "      <td>0.000275</td>\n",
       "    </tr>\n",
       "    <tr>\n",
       "      <th>437</th>\n",
       "      <td>D03</td>\n",
       "      <td>17</td>\n",
       "      <td>Left Omentum Yellow Right Ovary Blue</td>\n",
       "      <td>ovary</td>\n",
       "      <td>blue</td>\n",
       "      <td>18.0</td>\n",
       "      <td>89.0</td>\n",
       "      <td>5.0</td>\n",
       "      <td>2.0</td>\n",
       "      <td>99.0</td>\n",
       "      <td>30221.0</td>\n",
       "      <td>0.002945</td>\n",
       "      <td>0.003210</td>\n",
       "      <td>0.000066</td>\n",
       "    </tr>\n",
       "    <tr>\n",
       "      <th>438</th>\n",
       "      <td>D03</td>\n",
       "      <td>17</td>\n",
       "      <td>Left Omentum Yellow Right Ovary Blue</td>\n",
       "      <td>ovary</td>\n",
       "      <td>blue</td>\n",
       "      <td>19.0</td>\n",
       "      <td>123.0</td>\n",
       "      <td>23.0</td>\n",
       "      <td>4.0</td>\n",
       "      <td>77.0</td>\n",
       "      <td>28551.0</td>\n",
       "      <td>0.004308</td>\n",
       "      <td>0.002557</td>\n",
       "      <td>0.000140</td>\n",
       "    </tr>\n",
       "    <tr>\n",
       "      <th>439</th>\n",
       "      <td>D03</td>\n",
       "      <td>17</td>\n",
       "      <td>Left Omentum Yellow Right Ovary Blue</td>\n",
       "      <td>ovary</td>\n",
       "      <td>blue</td>\n",
       "      <td>20.0</td>\n",
       "      <td>218.0</td>\n",
       "      <td>19.0</td>\n",
       "      <td>7.0</td>\n",
       "      <td>266.0</td>\n",
       "      <td>27024.0</td>\n",
       "      <td>0.008067</td>\n",
       "      <td>0.009584</td>\n",
       "      <td>0.000259</td>\n",
       "    </tr>\n",
       "    <tr>\n",
       "      <th>440</th>\n",
       "      <td>D03</td>\n",
       "      <td>17</td>\n",
       "      <td>Left Omentum Yellow Right Ovary Blue</td>\n",
       "      <td>ovary</td>\n",
       "      <td>blue</td>\n",
       "      <td>21.0</td>\n",
       "      <td>300.0</td>\n",
       "      <td>34.0</td>\n",
       "      <td>11.0</td>\n",
       "      <td>248.0</td>\n",
       "      <td>49708.0</td>\n",
       "      <td>0.006035</td>\n",
       "      <td>0.004768</td>\n",
       "      <td>0.000221</td>\n",
       "    </tr>\n",
       "  </tbody>\n",
       "</table>\n",
       "</div>"
      ],
      "text/plain": [
       "    Well  Case                                 Label   Site Habitat  \\\n",
       "436  D03    17  Left Omentum Yellow Right Ovary Blue  ovary    blue   \n",
       "437  D03    17  Left Omentum Yellow Right Ovary Blue  ovary    blue   \n",
       "438  D03    17  Left Omentum Yellow Right Ovary Blue  ovary    blue   \n",
       "439  D03    17  Left Omentum Yellow Right Ovary Blue  ovary    blue   \n",
       "440  D03    17  Left Omentum Yellow Right Ovary Blue  ovary    blue   \n",
       "\n",
       "     IF_index_file     CD8  FoxP3  CD4FoxP3    CD4  Cell_counts  CD8_fraction  \\\n",
       "436           17.0  1020.0  105.0      29.0  594.0     105583.0      0.009661   \n",
       "437           18.0    89.0    5.0       2.0   99.0      30221.0      0.002945   \n",
       "438           19.0   123.0   23.0       4.0   77.0      28551.0      0.004308   \n",
       "439           20.0   218.0   19.0       7.0  266.0      27024.0      0.008067   \n",
       "440           21.0   300.0   34.0      11.0  248.0      49708.0      0.006035   \n",
       "\n",
       "     CD4_fraction  CD4FoxP3_fraction  \n",
       "436      0.005351           0.000275  \n",
       "437      0.003210           0.000066  \n",
       "438      0.002557           0.000140  \n",
       "439      0.009584           0.000259  \n",
       "440      0.004768           0.000221  "
      ]
     },
     "execution_count": 19,
     "metadata": {},
     "output_type": "execute_result"
    }
   ],
   "source": [
    "Tcell_counts_fractions.tail()"
   ]
  },
  {
   "cell_type": "code",
   "execution_count": 20,
   "metadata": {},
   "outputs": [
    {
     "data": {
      "text/plain": [
       "(441, 14)"
      ]
     },
     "execution_count": 20,
     "metadata": {},
     "output_type": "execute_result"
    }
   ],
   "source": [
    "Tcell_counts_fractions.shape"
   ]
  },
  {
   "cell_type": "code",
   "execution_count": 21,
   "metadata": {},
   "outputs": [
    {
     "name": "stdout",
     "output_type": "stream",
     "text": [
      "T_cell_counts.txt\r\n"
     ]
    }
   ],
   "source": [
    "ls ../../Data/2/"
   ]
  },
  {
   "cell_type": "code",
   "execution_count": 22,
   "metadata": {},
   "outputs": [],
   "source": [
    "FILE = \"../../Data/2/T_cell_counts_fractions.txt\"\n",
    "\n",
    "Tcell_counts_fractions.to_csv(FILE,\n",
    "                              sep='\\t',\n",
    "                              index=False)"
   ]
  },
  {
   "cell_type": "markdown",
   "metadata": {},
   "source": [
    "### Sort data by median CD8 values"
   ]
  },
  {
   "cell_type": "code",
   "execution_count": 23,
   "metadata": {},
   "outputs": [
    {
     "name": "stdout",
     "output_type": "stream",
     "text": [
      "0.02722991891769717\n",
      "0.07954190118824266\n",
      "0.017788351307288987\n",
      "0.021864933435958835\n",
      "0.027325959661678594\n",
      "0.019435694658534952\n",
      "0.004646624227498722\n",
      "0.050710870270892175\n",
      "0.017023945924867126\n",
      "0.032624113475177303\n",
      "0.054085229093239345\n",
      "0.007408456535239195\n",
      "0.016348318024210717\n",
      "0.07244931871053506\n",
      "0.07253716165927585\n",
      "0.004605321966146479\n",
      "0.027860190358097836\n",
      "0.0058314314431372576\n",
      "0.00574449842812232\n",
      "0.010758105884307416\n",
      "0.04339994486938929\n",
      "0.030519083932242196\n",
      "0.0175465599507465\n",
      "0.0850907029478458\n",
      "0.12713578862700173\n",
      "0.019168441522363182\n",
      "0.015457854942593111\n",
      "0.020846827989320735\n",
      "0.055930815446630436\n",
      "0.007051074664435806\n",
      "0.012475818879307519\n",
      "0.024937800150436847\n",
      "0.0\n",
      "0.03924231451891731\n",
      "0.07003527261909821\n",
      "0.006156308348893038\n",
      "0.027027390625840822\n",
      "nan\n"
     ]
    }
   ],
   "source": [
    "med_well_cd8_fraction = []\n",
    "for well in data_toplot.Well.value_counts().index:\n",
    "    \n",
    "    data = data_toplot[data_toplot['Well'] == well].CD8_fraction.dropna()\n",
    "    \n",
    "    if len(data) > 0:\n",
    "    \n",
    "        median_frac = np.median(data_toplot[data_toplot['Well'] == well].CD8_fraction)\n",
    "    \n",
    "        for i in range(len(data_toplot[data_toplot['Well'] == well])):\n",
    "            \n",
    "            med_well_cd8_fraction.append(median_frac)\n",
    "\n",
    "        print(median_frac)\n",
    "            \n",
    "    else:\n",
    "        \n",
    "        for i in range(len(data_toplot[data_toplot['Well'] == well])):\n",
    "            \n",
    "            med_well_cd8_fraction.append(float('nan'))\n",
    "            \n",
    "        print(float('nan'))"
   ]
  },
  {
   "cell_type": "code",
   "execution_count": 24,
   "metadata": {},
   "outputs": [
    {
     "data": {
      "text/plain": [
       "441"
      ]
     },
     "execution_count": 24,
     "metadata": {},
     "output_type": "execute_result"
    }
   ],
   "source": [
    "len(data_toplot)"
   ]
  },
  {
   "cell_type": "code",
   "execution_count": 25,
   "metadata": {},
   "outputs": [
    {
     "data": {
      "text/plain": [
       "441"
      ]
     },
     "execution_count": 25,
     "metadata": {},
     "output_type": "execute_result"
    }
   ],
   "source": [
    "len(med_well_cd8_fraction)"
   ]
  },
  {
   "cell_type": "code",
   "execution_count": 26,
   "metadata": {},
   "outputs": [],
   "source": [
    "data_toplot['Med_well_cd8_fraction'] = pd.Series(med_well_cd8_fraction)"
   ]
  },
  {
   "cell_type": "code",
   "execution_count": 27,
   "metadata": {},
   "outputs": [
    {
     "data": {
      "text/html": [
       "<div>\n",
       "<style scoped>\n",
       "    .dataframe tbody tr th:only-of-type {\n",
       "        vertical-align: middle;\n",
       "    }\n",
       "\n",
       "    .dataframe tbody tr th {\n",
       "        vertical-align: top;\n",
       "    }\n",
       "\n",
       "    .dataframe thead th {\n",
       "        text-align: right;\n",
       "    }\n",
       "</style>\n",
       "<table border=\"1\" class=\"dataframe\">\n",
       "  <thead>\n",
       "    <tr style=\"text-align: right;\">\n",
       "      <th></th>\n",
       "      <th>Well</th>\n",
       "      <th>Case</th>\n",
       "      <th>Site</th>\n",
       "      <th>CD8_fraction</th>\n",
       "      <th>CD4_fraction</th>\n",
       "      <th>CD4FoxP3_fraction</th>\n",
       "      <th>Med_well_cd8_fraction</th>\n",
       "    </tr>\n",
       "  </thead>\n",
       "  <tbody>\n",
       "    <tr>\n",
       "      <th>0</th>\n",
       "      <td>A01</td>\n",
       "      <td>10</td>\n",
       "      <td>omentum</td>\n",
       "      <td>0.127136</td>\n",
       "      <td>0.055061</td>\n",
       "      <td>0.001974</td>\n",
       "      <td>0.02723</td>\n",
       "    </tr>\n",
       "    <tr>\n",
       "      <th>1</th>\n",
       "      <td>A01</td>\n",
       "      <td>10</td>\n",
       "      <td>omentum</td>\n",
       "      <td>0.146070</td>\n",
       "      <td>0.021044</td>\n",
       "      <td>0.001385</td>\n",
       "      <td>0.02723</td>\n",
       "    </tr>\n",
       "    <tr>\n",
       "      <th>2</th>\n",
       "      <td>A01</td>\n",
       "      <td>10</td>\n",
       "      <td>omentum</td>\n",
       "      <td>0.120240</td>\n",
       "      <td>0.085450</td>\n",
       "      <td>0.002806</td>\n",
       "      <td>0.02723</td>\n",
       "    </tr>\n",
       "    <tr>\n",
       "      <th>3</th>\n",
       "      <td>A01</td>\n",
       "      <td>10</td>\n",
       "      <td>omentum</td>\n",
       "      <td>0.158907</td>\n",
       "      <td>0.054651</td>\n",
       "      <td>0.004525</td>\n",
       "      <td>0.02723</td>\n",
       "    </tr>\n",
       "    <tr>\n",
       "      <th>4</th>\n",
       "      <td>A01</td>\n",
       "      <td>10</td>\n",
       "      <td>omentum</td>\n",
       "      <td>0.101354</td>\n",
       "      <td>0.043570</td>\n",
       "      <td>0.002533</td>\n",
       "      <td>0.02723</td>\n",
       "    </tr>\n",
       "  </tbody>\n",
       "</table>\n",
       "</div>"
      ],
      "text/plain": [
       "  Well  Case     Site  CD8_fraction  CD4_fraction  CD4FoxP3_fraction  \\\n",
       "0  A01    10  omentum      0.127136      0.055061           0.001974   \n",
       "1  A01    10  omentum      0.146070      0.021044           0.001385   \n",
       "2  A01    10  omentum      0.120240      0.085450           0.002806   \n",
       "3  A01    10  omentum      0.158907      0.054651           0.004525   \n",
       "4  A01    10  omentum      0.101354      0.043570           0.002533   \n",
       "\n",
       "   Med_well_cd8_fraction  \n",
       "0                0.02723  \n",
       "1                0.02723  \n",
       "2                0.02723  \n",
       "3                0.02723  \n",
       "4                0.02723  "
      ]
     },
     "execution_count": 27,
     "metadata": {},
     "output_type": "execute_result"
    }
   ],
   "source": [
    "data_toplot.head()"
   ]
  },
  {
   "cell_type": "code",
   "execution_count": 28,
   "metadata": {},
   "outputs": [],
   "source": [
    "case_order = [6, 16, 5, 13, 17, 1, 4, 10]\n",
    "well_order = ['A10','A09','A07','A08','C08','C06','C09','C07','C10','B09','B10','B12','B11','C03','C05','C04',\n",
    "              'C02','C01','D03','D01','C12','C11','D02','B03','B02','A11','B01','B06','B05','B04','B07','B08',\n",
    "              'A05','A04','A03','A06','A02','A01']\n",
    "\n",
    "data_toplot['Case'] = pd.Categorical(data_toplot['Case'],\n",
    "                                     categories=case_order,\n",
    "                                     ordered=True)\n",
    "\n",
    "data_toplot['Well'] = pd.Categorical(data_toplot['Well'],\n",
    "                                     categories=well_order,\n",
    "                                     ordered=True)"
   ]
  },
  {
   "cell_type": "code",
   "execution_count": 29,
   "metadata": {},
   "outputs": [],
   "source": [
    "data_toplot.sort_values(['Case','Well'],\n",
    "                        inplace=True,\n",
    "                        ascending=[True,True])"
   ]
  },
  {
   "cell_type": "code",
   "execution_count": 30,
   "metadata": {},
   "outputs": [
    {
     "data": {
      "text/html": [
       "<div>\n",
       "<style scoped>\n",
       "    .dataframe tbody tr th:only-of-type {\n",
       "        vertical-align: middle;\n",
       "    }\n",
       "\n",
       "    .dataframe tbody tr th {\n",
       "        vertical-align: top;\n",
       "    }\n",
       "\n",
       "    .dataframe thead th {\n",
       "        text-align: right;\n",
       "    }\n",
       "</style>\n",
       "<table border=\"1\" class=\"dataframe\">\n",
       "  <thead>\n",
       "    <tr style=\"text-align: right;\">\n",
       "      <th></th>\n",
       "      <th>Well</th>\n",
       "      <th>Case</th>\n",
       "      <th>Site</th>\n",
       "      <th>CD8_fraction</th>\n",
       "      <th>CD4_fraction</th>\n",
       "      <th>CD4FoxP3_fraction</th>\n",
       "      <th>Med_well_cd8_fraction</th>\n",
       "    </tr>\n",
       "  </thead>\n",
       "  <tbody>\n",
       "    <tr>\n",
       "      <th>107</th>\n",
       "      <td>A10</td>\n",
       "      <td>6</td>\n",
       "      <td>ovary</td>\n",
       "      <td>0.008352</td>\n",
       "      <td>0.031033</td>\n",
       "      <td>0.000938</td>\n",
       "      <td>0.027326</td>\n",
       "    </tr>\n",
       "    <tr>\n",
       "      <th>108</th>\n",
       "      <td>A10</td>\n",
       "      <td>6</td>\n",
       "      <td>ovary</td>\n",
       "      <td>0.005775</td>\n",
       "      <td>0.020889</td>\n",
       "      <td>0.000517</td>\n",
       "      <td>0.027326</td>\n",
       "    </tr>\n",
       "    <tr>\n",
       "      <th>109</th>\n",
       "      <td>A10</td>\n",
       "      <td>6</td>\n",
       "      <td>ovary</td>\n",
       "      <td>0.003362</td>\n",
       "      <td>0.008322</td>\n",
       "      <td>0.001402</td>\n",
       "      <td>0.019436</td>\n",
       "    </tr>\n",
       "    <tr>\n",
       "      <th>110</th>\n",
       "      <td>A10</td>\n",
       "      <td>6</td>\n",
       "      <td>ovary</td>\n",
       "      <td>0.008185</td>\n",
       "      <td>0.016644</td>\n",
       "      <td>0.000747</td>\n",
       "      <td>0.019436</td>\n",
       "    </tr>\n",
       "    <tr>\n",
       "      <th>111</th>\n",
       "      <td>A10</td>\n",
       "      <td>6</td>\n",
       "      <td>ovary</td>\n",
       "      <td>0.006436</td>\n",
       "      <td>0.024539</td>\n",
       "      <td>0.000566</td>\n",
       "      <td>0.019436</td>\n",
       "    </tr>\n",
       "  </tbody>\n",
       "</table>\n",
       "</div>"
      ],
      "text/plain": [
       "    Well Case   Site  CD8_fraction  CD4_fraction  CD4FoxP3_fraction  \\\n",
       "107  A10    6  ovary      0.008352      0.031033           0.000938   \n",
       "108  A10    6  ovary      0.005775      0.020889           0.000517   \n",
       "109  A10    6  ovary      0.003362      0.008322           0.001402   \n",
       "110  A10    6  ovary      0.008185      0.016644           0.000747   \n",
       "111  A10    6  ovary      0.006436      0.024539           0.000566   \n",
       "\n",
       "     Med_well_cd8_fraction  \n",
       "107               0.027326  \n",
       "108               0.027326  \n",
       "109               0.019436  \n",
       "110               0.019436  \n",
       "111               0.019436  "
      ]
     },
     "execution_count": 30,
     "metadata": {},
     "output_type": "execute_result"
    }
   ],
   "source": [
    "data_toplot.head()"
   ]
  },
  {
   "cell_type": "code",
   "execution_count": 31,
   "metadata": {},
   "outputs": [],
   "source": [
    "case_colour_dict = pd.Series(sample_labels.Colour.values,\n",
    "                             index=sample_labels.Case_mRNA).to_dict()"
   ]
  },
  {
   "cell_type": "code",
   "execution_count": 32,
   "metadata": {},
   "outputs": [
    {
     "data": {
      "text/plain": [
       "{1: '#e41a1c',\n",
       " 4: '#377eb8',\n",
       " 5: '#4daf4a',\n",
       " 6: '#984ea3',\n",
       " 10: '#ff7f00',\n",
       " 13: '#ffff33',\n",
       " 16: '#a65628',\n",
       " 17: '#f781bf'}"
      ]
     },
     "execution_count": 32,
     "metadata": {},
     "output_type": "execute_result"
    }
   ],
   "source": [
    "case_colour_dict"
   ]
  },
  {
   "cell_type": "markdown",
   "metadata": {},
   "source": [
    "### Add case colour and sample marker info"
   ]
  },
  {
   "cell_type": "code",
   "execution_count": 33,
   "metadata": {},
   "outputs": [],
   "source": [
    "colors_lst = []\n",
    "for case in data_toplot.Case:\n",
    "    colors_lst.append(case_colour_dict[case])\n",
    "\n",
    "marker_cases = {'ovary':'o', 'omentum':'^', 'other':'s'}\n",
    "\n",
    "markers_lst = []\n",
    "for site in data_toplot.Site:\n",
    "    markers_lst.append(marker_cases[site])\n",
    "\n",
    "data_toplot['Color_case'] = pd.Series(colors_lst)\n",
    "data_toplot['Markr_site'] = pd.Series(markers_lst)"
   ]
  },
  {
   "cell_type": "code",
   "execution_count": 34,
   "metadata": {},
   "outputs": [],
   "source": [
    "data_toplot_OV = data_toplot[data_toplot.Site == 'ovary']\n",
    "data_toplot_OM = data_toplot[data_toplot.Site == 'omentum']\n",
    "data_toplot_OT = data_toplot[data_toplot.Site == 'other']"
   ]
  },
  {
   "cell_type": "markdown",
   "metadata": {},
   "source": [
    "## Plot counts"
   ]
  },
  {
   "cell_type": "markdown",
   "metadata": {},
   "source": [
    "### Create custom colour palette acroding to sample order"
   ]
  },
  {
   "cell_type": "code",
   "execution_count": 35,
   "metadata": {},
   "outputs": [],
   "source": [
    "colour_palette = []\n",
    "for colour in colors_lst:\n",
    "    \n",
    "    if colour not in colour_palette:\n",
    "        colour_palette.append(colour)"
   ]
  },
  {
   "cell_type": "code",
   "execution_count": 36,
   "metadata": {},
   "outputs": [],
   "source": [
    "ordered_palette = sns.color_palette(colour_palette)"
   ]
  },
  {
   "cell_type": "markdown",
   "metadata": {},
   "source": [
    "### Select cell to plot"
   ]
  },
  {
   "cell_type": "code",
   "execution_count": 37,
   "metadata": {},
   "outputs": [],
   "source": [
    "cd8_max = max(data_toplot_OV.CD8_fraction.max(),\n",
    "              data_toplot_OM.CD8_fraction.max(),\n",
    "              data_toplot_OT.CD8_fraction.max())\n",
    "\n",
    "cd4_max = max(data_toplot_OV.CD4_fraction.max(),\n",
    "              data_toplot_OM.CD4_fraction.max(),\n",
    "              data_toplot_OT.CD4_fraction.max())\n",
    "\n",
    "cd4foxp3_max = max(data_toplot_OV.CD4FoxP3_fraction.max(),\n",
    "                   data_toplot_OM.CD4FoxP3_fraction.max(),\n",
    "                   data_toplot_OT.CD4FoxP3_fraction.max())"
   ]
  },
  {
   "cell_type": "code",
   "execution_count": 38,
   "metadata": {},
   "outputs": [],
   "source": [
    "y_lim_dict={'CD8_fraction'     :math.ceil(cd8_max * 100) / 100,\n",
    "            'CD4_fraction'     :math.ceil(cd4_max * 100) / 100,\n",
    "            'CD4FoxP3_fraction':math.ceil(cd4foxp3_max * 100) / 100}"
   ]
  },
  {
   "cell_type": "markdown",
   "metadata": {},
   "source": [
    "### Select cell"
   ]
  },
  {
   "cell_type": "code",
   "execution_count": 52,
   "metadata": {},
   "outputs": [],
   "source": [
    "cell_type='CD4_fraction' # CD4FoxP3_fraction, CD4_fraction, CD8_fraction"
   ]
  },
  {
   "cell_type": "code",
   "execution_count": 53,
   "metadata": {},
   "outputs": [],
   "source": [
    "def transparent_bx(bx):\n",
    "    # Make boxplots fill transparent\n",
    "    for patch in bx.artists:\n",
    "        r, g, b, a = patch.get_facecolor()\n",
    "        patch.set_facecolor((r, g, b, 0))\n",
    "\n",
    "def colour_bx_edges(bx, colours):\n",
    "    # Colour each box according to each patient\n",
    "    for i,box_col in enumerate(colours):\n",
    "        mybox = bx.artists[i]\n",
    "        mybox.set_edgecolor(box_col)\n",
    "\n",
    "        # whiskers\n",
    "        for j in range(i*6,i*6+6):\n",
    "            line = bx.lines[j]\n",
    "            line.set_color(box_col)\n",
    "            line.set_mfc(box_col)\n",
    "            line.set_mec(box_col)"
   ]
  },
  {
   "cell_type": "code",
   "execution_count": 54,
   "metadata": {},
   "outputs": [
    {
     "data": {
      "image/png": "[encoded data removed]",
      "text/plain": [
       "<Figure size 1512x504 with 1 Axes>"
      ]
     },
     "metadata": {},
     "output_type": "display_data"
    }
   ],
   "source": [
    "case_colours = []\n",
    "\n",
    "plt.figure(figsize=(21,7))\n",
    "\n",
    "# Ovary\n",
    "ax = sns.boxplot(x='Well',\n",
    "                  y=cell_type,\n",
    "                  data=data_toplot_OV,\n",
    "                  fliersize=0,\n",
    "                  color='w',\n",
    "                  zorder=1,\n",
    "                  linewidth=3)\n",
    "\n",
    "# Get colour for each case\n",
    "for w in data_toplot_OV.Well.unique():    \n",
    "    if w != 'C08': # no radiomics data for C08\n",
    "        case_colours.append(sample_labels.Colour[w])\n",
    "\n",
    "ax = sns.swarmplot(x='Well',\n",
    "                    y=cell_type,\n",
    "                    data=data_toplot_OV,\n",
    "                    alpha=1,\n",
    "                    hue='Case',\n",
    "                    palette=ordered_palette,\n",
    "                    zorder=0)\n",
    "\n",
    "plt.ylim(0,y_lim_dict[cell_type])\n",
    "ax.legend_.remove()\n",
    "\n",
    "# Omentum\n",
    "ax = sns.boxplot(x='Well',\n",
    "                  y=cell_type,\n",
    "                  data=data_toplot_OM,\n",
    "                  fliersize=0,\n",
    "                  color='w',\n",
    "                  zorder=1,\n",
    "                  linewidth=3)\n",
    "\n",
    "# Get colour for each case\n",
    "for w in data_toplot_OM.Well.unique():    \n",
    "    if w != 'C08': # no radiomics data for C08\n",
    "        case_colours.append(sample_labels.Colour[w])\n",
    "\n",
    "ax = sns.swarmplot(x='Well',\n",
    "                    y=cell_type,\n",
    "                    data=data_toplot_OM,\n",
    "                    marker='^',\n",
    "                    alpha=1,\n",
    "                    hue='Case',\n",
    "                    palette=ordered_palette,\n",
    "                    zorder=0)\n",
    "\n",
    "plt.ylim(0,y_lim_dict[cell_type])\n",
    "ax.legend_.remove()\n",
    "\n",
    "# Other\n",
    "ax = sns.boxplot(x='Well',\n",
    "                  y=cell_type,\n",
    "                  data=data_toplot_OT,\n",
    "                  fliersize=0,\n",
    "                  color='w',\n",
    "                  zorder=1,\n",
    "                  linewidth=3)\n",
    "\n",
    "# Get colour for each case\n",
    "for w in data_toplot_OT.Well.unique():    \n",
    "    if w != 'C08': # no radiomics data for C08\n",
    "        case_colours.append(sample_labels.Colour[w])\n",
    "\n",
    "transparent_bx(ax)\n",
    "colour_bx_edges(ax, case_colours)\n",
    "\n",
    "ax = sns.swarmplot(x='Well',\n",
    "                    y=cell_type,\n",
    "                    data=data_toplot_OT,\n",
    "                    hue='Case',\n",
    "                    marker='s',\n",
    "                    alpha=1,\n",
    "                    palette=ordered_palette,\n",
    "                    zorder=0)\n",
    "\n",
    "plt.ylim(0,y_lim_dict[cell_type])\n",
    "ax.legend_.remove()"
   ]
  },
  {
   "cell_type": "markdown",
   "metadata": {},
   "source": [
    "### Save plot"
   ]
  },
  {
   "cell_type": "code",
   "execution_count": 55,
   "metadata": {},
   "outputs": [
    {
     "name": "stdout",
     "output_type": "stream",
     "text": [
      "OVCT_Fig_m2.pdf  OVCT_Fig_m2.png  README.md        \u001b[34mpanels\u001b[m\u001b[m/\r\n"
     ]
    }
   ],
   "source": [
    "ls ../../Figures/main/2/"
   ]
  },
  {
   "cell_type": "code",
   "execution_count": 56,
   "metadata": {},
   "outputs": [],
   "source": [
    "fig = ax.get_figure()\n",
    "\n",
    "FILE = \"../../Figures/main/2/panels/2a_TreatmentNaive_%s_Tcell_fractions.pdf\" % (cell_type)\n",
    "\n",
    "fig.savefig(FILE, bbox='tight')"
   ]
  },
  {
   "cell_type": "markdown",
   "metadata": {},
   "source": [
    "# End script"
   ]
  }
 ],
 "metadata": {
  "kernelspec": {
   "display_name": "Python 3",
   "language": "python",
   "name": "python3"
  },
  "language_info": {
   "codemirror_mode": {
    "name": "ipython",
    "version": 3
   },
   "file_extension": ".py",
   "mimetype": "text/x-python",
   "name": "python",
   "nbconvert_exporter": "python",
   "pygments_lexer": "ipython3",
   "version": "3.6.8"
  }
 },
 "nbformat": 4,
 "nbformat_minor": 2
}

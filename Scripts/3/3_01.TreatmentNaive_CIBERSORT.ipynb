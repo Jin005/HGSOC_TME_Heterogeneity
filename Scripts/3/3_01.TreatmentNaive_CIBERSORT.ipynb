{
 "cells": [
  {
   "cell_type": "markdown",
   "metadata": {},
   "source": [
    "# Run CIBERSORT on treatment naive samples"
   ]
  },
  {
   "cell_type": "markdown",
   "metadata": {},
   "source": [
    "Script related to figure 3a, 3b, s3c \n",
    "\n",
    "### Aim:\n",
    "- Estimate cells of the tumour microenvironment using CIBERSORT"
   ]
  },
  {
   "cell_type": "code",
   "execution_count": 3,
   "metadata": {},
   "outputs": [
    {
     "data": {
      "text/plain": [
       "R version 3.5.0 (2018-04-23)\n",
       "Platform: x86_64-apple-darwin15.6.0 (64-bit)\n",
       "Running under: macOS High Sierra 10.13.6\n",
       "\n",
       "Matrix products: default\n",
       "BLAS: /Library/Frameworks/R.framework/Versions/3.5/Resources/lib/libRblas.0.dylib\n",
       "LAPACK: /Library/Frameworks/R.framework/Versions/3.5/Resources/lib/libRlapack.dylib\n",
       "\n",
       "locale:\n",
       "[1] C/UTF-8/C/C/C/C\n",
       "\n",
       "attached base packages:\n",
       "[1] stats     graphics  grDevices utils     datasets  methods   base     \n",
       "\n",
       "other attached packages:\n",
       "[1] BiocInstaller_1.32.1\n",
       "\n",
       "loaded via a namespace (and not attached):\n",
       " [1] compiler_3.5.0  IRdisplay_0.6.1 pbdZMQ_0.3-3    tools_3.5.0    \n",
       " [5] htmltools_0.3.6 base64enc_0.1-3 crayon_1.3.4    Rcpp_1.0.1     \n",
       " [9] uuid_0.1-2      IRkernel_0.8.14 jsonlite_1.6    digest_0.6.18  \n",
       "[13] repr_0.17       evaluate_0.13  "
      ]
     },
     "metadata": {},
     "output_type": "display_data"
    }
   ],
   "source": [
    "sessionInfo()"
   ]
  },
  {
   "cell_type": "markdown",
   "metadata": {},
   "source": [
    "## Install packages"
   ]
  },
  {
   "cell_type": "code",
   "execution_count": null,
   "metadata": {},
   "outputs": [],
   "source": [
    "#install.packages('e1071')\n",
    "#install.packages('parallel')\n",
    "#install.packages('preprocessCore')"
   ]
  },
  {
   "cell_type": "markdown",
   "metadata": {},
   "source": [
    "## Load packages"
   ]
  },
  {
   "cell_type": "code",
   "execution_count": 1,
   "metadata": {},
   "outputs": [
    {
     "name": "stderr",
     "output_type": "stream",
     "text": [
      "Warning message:\n",
      "“'BiocInstaller' and 'biocLite()' are deprecated, use the 'BiocManager' CRAN\n",
      "  package instead.”Bioconductor version 3.8 (BiocInstaller 1.32.1), ?biocLite for help\n"
     ]
    }
   ],
   "source": [
    "source(\"http://bioconductor.org/biocLite.R\")"
   ]
  },
  {
   "cell_type": "code",
   "execution_count": 2,
   "metadata": {},
   "outputs": [
    {
     "name": "stderr",
     "output_type": "stream",
     "text": [
      "Warning message:\n",
      "“'biocLite' is deprecated.\n",
      "Use 'BiocManager::install' instead.\n",
      "See help(\"Deprecated\")”BioC_mirror: https://bioconductor.org\n",
      "Using Bioconductor 3.8 (BiocInstaller 1.32.1), R 3.5.0 (2018-04-23).\n",
      "Installing package(s) ‘preprocessCore’\n"
     ]
    },
    {
     "name": "stdout",
     "output_type": "stream",
     "text": [
      "\n",
      "The downloaded binary packages are in\n",
      "\t/var/folders/0x/_9tqxlf13mq9dnj3mvt0kr94vsllz0/T//RtmpCfFxlz/downloaded_packages\n"
     ]
    },
    {
     "name": "stderr",
     "output_type": "stream",
     "text": [
      "Old packages: 'BH', 'BiocManager', 'BiocParallel', 'Biostrings', 'CDM', 'CePa',\n",
      "  'DBI', 'Deriv', 'FNN', 'FlowSOM', 'GenomeInfoDb', 'GenomicAlignments',\n",
      "  'GenomicFeatures', 'GetoptLong', 'GlobalOptions', 'Hmisc', 'IDPmisc',\n",
      "  'IRdisplay', 'IRkernel', 'KernSmooth', 'MASS', 'Matrix', 'NMF',\n",
      "  'R.methodsS3', 'R.oo', 'R.utils', 'R6', 'RANN', 'RBGL', 'RCurl', 'RSQLite',\n",
      "  'Rcpp', 'RcppArmadillo', 'RcppEigen', 'Rhdf5lib', 'Rsamtools', 'SparseM',\n",
      "  'TAM', 'TH.data', 'TTR', 'TeachingDemos', 'VGAM', 'VIM', 'XML', 'annotate',\n",
      "  'backports', 'bibtex', 'bit', 'blob', 'bookdown', 'boot', 'broom', 'callr',\n",
      "  'car', 'carData', 'checkmate', 'chron', 'circlize', 'class', 'cli', 'clipr',\n",
      "  'clue', 'cluster', 'coda', 'codetools', 'cowplot', 'curl', 'cytofWorkflow',\n",
      "  'cytolib', 'data.table', 'destiny', 'devtools', 'digest', 'doParallel',\n",
      "  'dplyr', 'e1071', 'ellipsis', 'evaluate', 'fansi', 'farver', 'fda',\n",
      "  'flextable', 'flowClust', 'flowCore', 'flowStats', 'flowUtils', 'flowViz',\n",
      "  'flowWorkspace', 'forcats', 'foreach', 'formatR', 'fs', 'gamlss',\n",
      "  'gamlss.data', 'gamlss.dist', 'gdtools', 'ggforce', 'ggiraph', 'ggplot2',\n",
      "  'ggrepel', 'ggridges', 'ggthemes', 'gh', 'git2r', 'glue', 'gplots', 'gtools',\n",
      "  'haven', 'hexbin', 'hms', 'htmlTable', 'htmltools', 'htmlwidgets', 'httpuv',\n",
      "  'httr', 'igraph', 'insight', 'intervals', 'iterators', 'jomo', 'jsonlite',\n",
      "  'kernlab', 'knitr', 'ks', 'laeken', 'lambda.r', 'later', 'lattice', 'lavaan',\n",
      "  'leaps', 'limma', 'lme4', 'lmerTest', 'locfit', 'maptools', 'markdown',\n",
      "  'matrixStats', 'mclust', 'mgcv', 'mice', 'miceadds', 'mime', 'mitools',\n",
      "  'mnormt', 'multcomp', 'multicool', 'mvtnorm', 'ncdfFlow', 'nlme', 'nloptr',\n",
      "  'nnet', 'numDeriv', 'officer', 'openCyto', 'openssl', 'openxlsx', 'ordinal',\n",
      "  'permute', 'pheatmap', 'pillar', 'pkgbuild', 'pkgconfig', 'pkgmaker',\n",
      "  'plotmo', 'plotrix', 'plyr', 'polycor', 'prettyunits', 'processx',\n",
      "  'progress', 'promises', 'proxy', 'ps', 'psych', 'purrr', 'quantreg',\n",
      "  'rcmdcheck', 'readxl', 'registry', 'remotes', 'repr', 'reshape2', 'rio',\n",
      "  'rlang', 'rmarkdown', 'rngtools', 'robustbase', 'rpart', 'rrcov',\n",
      "  'rstudioapi', 'rtracklayer', 'sandwich', 'scales', 'sfsmisc', 'shiny',\n",
      "  'shinyFiles', 'shinyjs', 'sirt', 'sjlabelled', 'sjmisc', 'sp', 'spatial',\n",
      "  'statmod', 'stringi', 'survey', 'survival', 'tibble', 'tidyr', 'tidyselect',\n",
      "  'tinytex', 'usethis', 'uuid', 'vcd', 'vegan', 'webshot', 'whisker', 'withr',\n",
      "  'xfun', 'xml2', 'xtable', 'xts', 'yaml', 'zip', 'zoo'\n"
     ]
    }
   ],
   "source": [
    "biocLite(\"preprocessCore\")"
   ]
  },
  {
   "cell_type": "code",
   "execution_count": 4,
   "metadata": {},
   "outputs": [],
   "source": [
    "setwd(\"~/git_repos/HGSOC_TME_Heterogeneity/Scripts/3/\")"
   ]
  },
  {
   "cell_type": "code",
   "execution_count": 5,
   "metadata": {},
   "outputs": [
    {
     "name": "stderr",
     "output_type": "stream",
     "text": [
      "Warning message:\n",
      "“package ‘e1071’ was built under R version 3.5.2”Warning message:\n",
      "“package ‘preprocessCore’ was built under R version 3.5.1”"
     ]
    }
   ],
   "source": [
    "source('./CIBERSORT.R')"
   ]
  },
  {
   "cell_type": "markdown",
   "metadata": {},
   "source": [
    "## CIBERSORT"
   ]
  },
  {
   "cell_type": "markdown",
   "metadata": {},
   "source": [
    "### Relative method"
   ]
  },
  {
   "cell_type": "code",
   "execution_count": 6,
   "metadata": {},
   "outputs": [],
   "source": [
    "sig <- \"../../Data/3/LM22.txt\"\n",
    "mix <- \"../../Data/1/TreatmentNaive_log2exp_loess_norm.txt\""
   ]
  },
  {
   "cell_type": "code",
   "execution_count": 7,
   "metadata": {},
   "outputs": [],
   "source": [
    "Tnaive_cib_r <- CIBERSORT(sig_matrix=sig,\n",
    "                          mixture_file=mix,\n",
    "                          perm=1000,\n",
    "                          QN=TRUE,        # Quantile norm true for microarray\n",
    "                          absolute=FALSE) # Absolute beta version method not used"
   ]
  },
  {
   "cell_type": "markdown",
   "metadata": {},
   "source": [
    "#### Output file is by default stored in Scripts/3/ Rename and move to Data/3/"
   ]
  },
  {
   "cell_type": "markdown",
   "metadata": {},
   "source": [
    "### Absolute method"
   ]
  },
  {
   "cell_type": "code",
   "execution_count": 7,
   "metadata": {},
   "outputs": [],
   "source": [
    "Tnaive_cib_a <- CIBERSORT(sig_matrix='../1.Data/LM22.txt',\n",
    "                          mixture_file='../1.Data/TreatmentNaive_log2exp_loess_norm.txt',\n",
    "                          perm=1000,\n",
    "                          QN=TRUE,       # Quantile norm true for microarray\n",
    "                          absolute=TRUE) # Absolute beta version method used"
   ]
  },
  {
   "cell_type": "markdown",
   "metadata": {},
   "source": [
    "#### Output file is by default stored in Scripts/3/ Rename and move to Data/3/"
   ]
  },
  {
   "cell_type": "markdown",
   "metadata": {},
   "source": [
    "# End script"
   ]
  }
 ],
 "metadata": {
  "kernelspec": {
   "display_name": "R",
   "language": "R",
   "name": "ir"
  },
  "language_info": {
   "codemirror_mode": "r",
   "file_extension": ".r",
   "mimetype": "text/x-r-source",
   "name": "R",
   "pygments_lexer": "r",
   "version": "3.5.0"
  }
 },
 "nbformat": 4,
 "nbformat_minor": 2
}

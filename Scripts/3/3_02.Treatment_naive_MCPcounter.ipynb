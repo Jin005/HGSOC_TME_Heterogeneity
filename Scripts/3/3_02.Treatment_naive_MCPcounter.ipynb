{
 "cells": [
  {
   "cell_type": "markdown",
   "metadata": {},
   "source": [
    "# Run MCP counter on treatment naive samples"
   ]
  },
  {
   "cell_type": "markdown",
   "metadata": {},
   "source": [
    "Script related to figure 3a, 3b, s3c \n",
    "\n",
    "### Aim:\n",
    "- Estimate cells of the tumour microenvironment using MCP counter"
   ]
  },
  {
   "cell_type": "code",
   "execution_count": 1,
   "metadata": {},
   "outputs": [
    {
     "data": {
      "text/plain": [
       "R version 3.5.0 (2018-04-23)\n",
       "Platform: x86_64-apple-darwin15.6.0 (64-bit)\n",
       "Running under: macOS High Sierra 10.13.6\n",
       "\n",
       "Matrix products: default\n",
       "BLAS: /Library/Frameworks/R.framework/Versions/3.5/Resources/lib/libRblas.0.dylib\n",
       "LAPACK: /Library/Frameworks/R.framework/Versions/3.5/Resources/lib/libRlapack.dylib\n",
       "\n",
       "locale:\n",
       "[1] C/UTF-8/C/C/C/C\n",
       "\n",
       "attached base packages:\n",
       "[1] stats     graphics  grDevices utils     datasets  methods   base     \n",
       "\n",
       "loaded via a namespace (and not attached):\n",
       " [1] compiler_3.5.0  IRdisplay_0.6.1 pbdZMQ_0.3-3    tools_3.5.0    \n",
       " [5] htmltools_0.3.6 base64enc_0.1-3 crayon_1.3.4    Rcpp_1.0.1     \n",
       " [9] uuid_0.1-2      IRkernel_0.8.14 jsonlite_1.6    digest_0.6.18  \n",
       "[13] repr_0.17       evaluate_0.13  "
      ]
     },
     "metadata": {},
     "output_type": "display_data"
    }
   ],
   "source": [
    "sessionInfo()"
   ]
  },
  {
   "cell_type": "markdown",
   "metadata": {},
   "source": [
    "## Install packages"
   ]
  },
  {
   "cell_type": "code",
   "execution_count": null,
   "metadata": {},
   "outputs": [],
   "source": [
    "#install.packages(c(\"curl\",\"devtools\"))"
   ]
  },
  {
   "cell_type": "code",
   "execution_count": null,
   "metadata": {},
   "outputs": [],
   "source": [
    "#library(devtools)"
   ]
  },
  {
   "cell_type": "code",
   "execution_count": null,
   "metadata": {},
   "outputs": [],
   "source": [
    "#install_github(\"ebecht/MCPcounter\",ref=\"master\", subdir=\"Source\")"
   ]
  },
  {
   "cell_type": "markdown",
   "metadata": {},
   "source": [
    "## Load packages"
   ]
  },
  {
   "cell_type": "code",
   "execution_count": 1,
   "metadata": {},
   "outputs": [],
   "source": [
    "library(curl)\n",
    "library(MCPcounter)"
   ]
  },
  {
   "cell_type": "code",
   "execution_count": 2,
   "metadata": {},
   "outputs": [],
   "source": [
    "setwd(\"~/git_repos/HGSOC_TME_Heterogeneity/Scripts/3/\")"
   ]
  },
  {
   "cell_type": "markdown",
   "metadata": {},
   "source": [
    "## Load expression data"
   ]
  },
  {
   "cell_type": "code",
   "execution_count": null,
   "metadata": {},
   "outputs": [],
   "source": [
    "mix <- \"../../Data/1/TreatmentNaive_log2exp_loess_norm.txt\""
   ]
  },
  {
   "cell_type": "code",
   "execution_count": 3,
   "metadata": {},
   "outputs": [],
   "source": [
    "TxNaive_data <- read.table(mix,\n",
    "                           header=T,\n",
    "                           sep='\\t',\n",
    "                           row.names='Hugo_Symbol')"
   ]
  },
  {
   "cell_type": "code",
   "execution_count": 4,
   "metadata": {},
   "outputs": [
    {
     "data": {
      "text/html": [
       "<table>\n",
       "<thead><tr><th></th><th scope=col>A01</th><th scope=col>A02</th><th scope=col>A03</th><th scope=col>A04</th><th scope=col>A05</th><th scope=col>A06</th><th scope=col>A07</th><th scope=col>A08</th><th scope=col>A09</th><th scope=col>A10</th><th scope=col>⋯</th><th scope=col>C06</th><th scope=col>C07</th><th scope=col>C08</th><th scope=col>C09</th><th scope=col>C10</th><th scope=col>C11</th><th scope=col>C12</th><th scope=col>D01</th><th scope=col>D02</th><th scope=col>D03</th></tr></thead>\n",
       "<tbody>\n",
       "\t<tr><th scope=row>A1BG</th><td> 4.124711</td><td> 3.880633</td><td> 4.864973</td><td>4.167882 </td><td> 4.317845</td><td> 3.679057</td><td>4.092837 </td><td> 4.370571</td><td> 4.252637</td><td>4.174694 </td><td>⋯        </td><td>3.804537 </td><td>4.416981 </td><td>4.169014 </td><td>4.503313 </td><td>4.146333 </td><td>4.078398 </td><td> 4.011369</td><td>3.845128 </td><td> 3.600927</td><td>4.521857 </td></tr>\n",
       "\t<tr><th scope=row>A2BP1</th><td> 3.960924</td><td> 4.033715</td><td> 3.721251</td><td>3.916073 </td><td> 4.338194</td><td> 3.357396</td><td>3.872447 </td><td> 3.803388</td><td> 3.484735</td><td>4.427405 </td><td>⋯        </td><td>4.991068 </td><td>3.799913 </td><td>4.117883 </td><td>4.122134 </td><td>4.221760 </td><td>3.648326 </td><td> 3.675317</td><td>3.546925 </td><td> 3.788279</td><td>4.920841 </td></tr>\n",
       "\t<tr><th scope=row>A2M</th><td>12.603155</td><td>10.859838</td><td>12.612923</td><td>9.176999 </td><td>10.548790</td><td>11.840776</td><td>7.200547 </td><td>11.835658</td><td>11.535547</td><td>7.080118 </td><td>⋯        </td><td>9.061598 </td><td>9.189459 </td><td>8.844728 </td><td>7.464440 </td><td>6.726233 </td><td>9.265911 </td><td>10.740486</td><td>9.735582 </td><td>10.781599</td><td>8.734304 </td></tr>\n",
       "\t<tr><th scope=row>A2ML1</th><td> 3.945877</td><td> 4.000621</td><td> 3.767932</td><td>3.789729 </td><td> 3.543204</td><td> 3.805520</td><td>4.336280 </td><td> 4.031757</td><td> 4.166018</td><td>3.673146 </td><td>⋯        </td><td>4.231174 </td><td>3.871651 </td><td>3.287232 </td><td>3.721093 </td><td>3.723801 </td><td>3.884499 </td><td> 3.694111</td><td>3.937682 </td><td> 3.600471</td><td>3.402861 </td></tr>\n",
       "\t<tr><th scope=row>A4GALT</th><td> 3.597277</td><td> 3.863757</td><td> 4.051844</td><td>4.113169 </td><td> 3.975144</td><td> 3.991293</td><td>5.439960 </td><td> 4.696177</td><td> 4.171788</td><td>4.041633 </td><td>⋯        </td><td>4.183089 </td><td>4.699729 </td><td>4.019537 </td><td>3.739865 </td><td>4.591953 </td><td>4.997860 </td><td> 4.099630</td><td>5.001239 </td><td> 4.714710</td><td>4.145119 </td></tr>\n",
       "\t<tr><th scope=row>A4GNT</th><td> 3.714481</td><td> 3.593169</td><td> 3.241352</td><td>3.515850 </td><td> 3.364447</td><td> 3.767865</td><td>3.768695 </td><td> 3.163977</td><td> 3.423377</td><td>3.205154 </td><td>⋯        </td><td>3.896812 </td><td>3.915653 </td><td>3.351422 </td><td>3.719759 </td><td>3.641028 </td><td>3.114521 </td><td> 3.560199</td><td>3.539738 </td><td> 3.760903</td><td>3.479266 </td></tr>\n",
       "</tbody>\n",
       "</table>\n"
      ],
      "text/latex": [
       "\\begin{tabular}{r|llllllllllllllllllllllllllllllllllllll}\n",
       "  & A01 & A02 & A03 & A04 & A05 & A06 & A07 & A08 & A09 & A10 & ⋯ & C06 & C07 & C08 & C09 & C10 & C11 & C12 & D01 & D02 & D03\\\\\n",
       "\\hline\n",
       "\tA1BG &  4.124711 &  3.880633 &  4.864973 & 4.167882  &  4.317845 &  3.679057 & 4.092837  &  4.370571 &  4.252637 & 4.174694  & ⋯         & 3.804537  & 4.416981  & 4.169014  & 4.503313  & 4.146333  & 4.078398  &  4.011369 & 3.845128  &  3.600927 & 4.521857 \\\\\n",
       "\tA2BP1 &  3.960924 &  4.033715 &  3.721251 & 3.916073  &  4.338194 &  3.357396 & 3.872447  &  3.803388 &  3.484735 & 4.427405  & ⋯         & 4.991068  & 3.799913  & 4.117883  & 4.122134  & 4.221760  & 3.648326  &  3.675317 & 3.546925  &  3.788279 & 4.920841 \\\\\n",
       "\tA2M & 12.603155 & 10.859838 & 12.612923 & 9.176999  & 10.548790 & 11.840776 & 7.200547  & 11.835658 & 11.535547 & 7.080118  & ⋯         & 9.061598  & 9.189459  & 8.844728  & 7.464440  & 6.726233  & 9.265911  & 10.740486 & 9.735582  & 10.781599 & 8.734304 \\\\\n",
       "\tA2ML1 &  3.945877 &  4.000621 &  3.767932 & 3.789729  &  3.543204 &  3.805520 & 4.336280  &  4.031757 &  4.166018 & 3.673146  & ⋯         & 4.231174  & 3.871651  & 3.287232  & 3.721093  & 3.723801  & 3.884499  &  3.694111 & 3.937682  &  3.600471 & 3.402861 \\\\\n",
       "\tA4GALT &  3.597277 &  3.863757 &  4.051844 & 4.113169  &  3.975144 &  3.991293 & 5.439960  &  4.696177 &  4.171788 & 4.041633  & ⋯         & 4.183089  & 4.699729  & 4.019537  & 3.739865  & 4.591953  & 4.997860  &  4.099630 & 5.001239  &  4.714710 & 4.145119 \\\\\n",
       "\tA4GNT &  3.714481 &  3.593169 &  3.241352 & 3.515850  &  3.364447 &  3.767865 & 3.768695  &  3.163977 &  3.423377 & 3.205154  & ⋯         & 3.896812  & 3.915653  & 3.351422  & 3.719759  & 3.641028  & 3.114521  &  3.560199 & 3.539738  &  3.760903 & 3.479266 \\\\\n",
       "\\end{tabular}\n"
      ],
      "text/markdown": [
       "\n",
       "| <!--/--> | A01 | A02 | A03 | A04 | A05 | A06 | A07 | A08 | A09 | A10 | ⋯ | C06 | C07 | C08 | C09 | C10 | C11 | C12 | D01 | D02 | D03 | \n",
       "|---|---|---|---|---|---|\n",
       "| A1BG |  4.124711 |  3.880633 |  4.864973 | 4.167882  |  4.317845 |  3.679057 | 4.092837  |  4.370571 |  4.252637 | 4.174694  | ⋯         | 3.804537  | 4.416981  | 4.169014  | 4.503313  | 4.146333  | 4.078398  |  4.011369 | 3.845128  |  3.600927 | 4.521857  | \n",
       "| A2BP1 |  3.960924 |  4.033715 |  3.721251 | 3.916073  |  4.338194 |  3.357396 | 3.872447  |  3.803388 |  3.484735 | 4.427405  | ⋯         | 4.991068  | 3.799913  | 4.117883  | 4.122134  | 4.221760  | 3.648326  |  3.675317 | 3.546925  |  3.788279 | 4.920841  | \n",
       "| A2M | 12.603155 | 10.859838 | 12.612923 | 9.176999  | 10.548790 | 11.840776 | 7.200547  | 11.835658 | 11.535547 | 7.080118  | ⋯         | 9.061598  | 9.189459  | 8.844728  | 7.464440  | 6.726233  | 9.265911  | 10.740486 | 9.735582  | 10.781599 | 8.734304  | \n",
       "| A2ML1 |  3.945877 |  4.000621 |  3.767932 | 3.789729  |  3.543204 |  3.805520 | 4.336280  |  4.031757 |  4.166018 | 3.673146  | ⋯         | 4.231174  | 3.871651  | 3.287232  | 3.721093  | 3.723801  | 3.884499  |  3.694111 | 3.937682  |  3.600471 | 3.402861  | \n",
       "| A4GALT |  3.597277 |  3.863757 |  4.051844 | 4.113169  |  3.975144 |  3.991293 | 5.439960  |  4.696177 |  4.171788 | 4.041633  | ⋯         | 4.183089  | 4.699729  | 4.019537  | 3.739865  | 4.591953  | 4.997860  |  4.099630 | 5.001239  |  4.714710 | 4.145119  | \n",
       "| A4GNT |  3.714481 |  3.593169 |  3.241352 | 3.515850  |  3.364447 |  3.767865 | 3.768695  |  3.163977 |  3.423377 | 3.205154  | ⋯         | 3.896812  | 3.915653  | 3.351422  | 3.719759  | 3.641028  | 3.114521  |  3.560199 | 3.539738  |  3.760903 | 3.479266  | \n",
       "\n",
       "\n"
      ],
      "text/plain": [
       "       A01       A02       A03       A04      A05       A06       A07     \n",
       "A1BG    4.124711  3.880633  4.864973 4.167882  4.317845  3.679057 4.092837\n",
       "A2BP1   3.960924  4.033715  3.721251 3.916073  4.338194  3.357396 3.872447\n",
       "A2M    12.603155 10.859838 12.612923 9.176999 10.548790 11.840776 7.200547\n",
       "A2ML1   3.945877  4.000621  3.767932 3.789729  3.543204  3.805520 4.336280\n",
       "A4GALT  3.597277  3.863757  4.051844 4.113169  3.975144  3.991293 5.439960\n",
       "A4GNT   3.714481  3.593169  3.241352 3.515850  3.364447  3.767865 3.768695\n",
       "       A08       A09       A10      ⋯ C06      C07      C08      C09     \n",
       "A1BG    4.370571  4.252637 4.174694 ⋯ 3.804537 4.416981 4.169014 4.503313\n",
       "A2BP1   3.803388  3.484735 4.427405 ⋯ 4.991068 3.799913 4.117883 4.122134\n",
       "A2M    11.835658 11.535547 7.080118 ⋯ 9.061598 9.189459 8.844728 7.464440\n",
       "A2ML1   4.031757  4.166018 3.673146 ⋯ 4.231174 3.871651 3.287232 3.721093\n",
       "A4GALT  4.696177  4.171788 4.041633 ⋯ 4.183089 4.699729 4.019537 3.739865\n",
       "A4GNT   3.163977  3.423377 3.205154 ⋯ 3.896812 3.915653 3.351422 3.719759\n",
       "       C10      C11      C12       D01      D02       D03     \n",
       "A1BG   4.146333 4.078398  4.011369 3.845128  3.600927 4.521857\n",
       "A2BP1  4.221760 3.648326  3.675317 3.546925  3.788279 4.920841\n",
       "A2M    6.726233 9.265911 10.740486 9.735582 10.781599 8.734304\n",
       "A2ML1  3.723801 3.884499  3.694111 3.937682  3.600471 3.402861\n",
       "A4GALT 4.591953 4.997860  4.099630 5.001239  4.714710 4.145119\n",
       "A4GNT  3.641028 3.114521  3.560199 3.539738  3.760903 3.479266"
      ]
     },
     "metadata": {},
     "output_type": "display_data"
    }
   ],
   "source": [
    "head(TxNaive_data)"
   ]
  },
  {
   "cell_type": "markdown",
   "metadata": {},
   "source": [
    "## MCP counter"
   ]
  },
  {
   "cell_type": "code",
   "execution_count": 5,
   "metadata": {},
   "outputs": [],
   "source": [
    "probesets <- \"http://raw.githubusercontent.com/ebecht/MCPcounter/master/Signatures/probesets.txt\"\n",
    "genes <- \"http://raw.githubusercontent.com/ebecht/MCPcounter/master/Signatures/genes.txt\"\n",
    "\n",
    "MCP_result = MCPcounter.estimate(TxNaive_data,\n",
    "                                 featuresType=c(\"affy133P2_probesets\",\n",
    "                                                \"HUGO_symbols\",\n",
    "                                                \"ENTREZ_ID\")[2],\n",
    "                                 probesets=read.table(curl(probesets),\n",
    "                                                      sep=\"\\t\",\n",
    "                                                      stringsAsFactors=FALSE,\n",
    "                                                      colClasses=\"character\"),\n",
    "                                 genes=read.table(curl(genes),\n",
    "                                                  sep=\"\\t\",\n",
    "                                                  stringsAsFactors=FALSE,\n",
    "                                                  header=TRUE,\n",
    "                                                  colClasses=\"character\",\n",
    "                                                  check.names=FALSE))"
   ]
  },
  {
   "cell_type": "code",
   "execution_count": 6,
   "metadata": {},
   "outputs": [
    {
     "data": {
      "image/png": "[encoded data removed]",
      "text/plain": [
       "plot without title"
      ]
     },
     "metadata": {},
     "output_type": "display_data"
    }
   ],
   "source": [
    "heatmap(as.matrix(MCP_result),\n",
    "        col=colorRampPalette(c(\"blue\",\"white\",\"red\"))(100))"
   ]
  },
  {
   "cell_type": "code",
   "execution_count": 7,
   "metadata": {},
   "outputs": [
    {
     "data": {
      "text/html": [
       "<table>\n",
       "<thead><tr><th></th><th scope=col>A01</th><th scope=col>A02</th><th scope=col>A03</th><th scope=col>A04</th><th scope=col>A05</th><th scope=col>A06</th><th scope=col>A07</th><th scope=col>A08</th><th scope=col>A09</th><th scope=col>A10</th><th scope=col>⋯</th><th scope=col>C06</th><th scope=col>C07</th><th scope=col>C08</th><th scope=col>C09</th><th scope=col>C10</th><th scope=col>C11</th><th scope=col>C12</th><th scope=col>D01</th><th scope=col>D02</th><th scope=col>D03</th></tr></thead>\n",
       "<tbody>\n",
       "\t<tr><th scope=row>T cells</th><td>4.528487</td><td>5.207708</td><td>4.683623</td><td>4.609657</td><td>4.414914</td><td>4.199644</td><td>4.593121</td><td>4.254721</td><td>4.055357</td><td>4.658334</td><td>⋯       </td><td>4.541452</td><td>4.662020</td><td>4.272964</td><td>4.653528</td><td>4.557505</td><td>5.281122</td><td>5.016379</td><td>4.551343</td><td>4.833545</td><td>4.343201</td></tr>\n",
       "\t<tr><th scope=row>CD8 T cells</th><td>3.362125</td><td>3.340149</td><td>3.170813</td><td>3.210788</td><td>3.267672</td><td>3.141570</td><td>3.251608</td><td>3.181663</td><td>3.164478</td><td>3.618108</td><td>⋯       </td><td>2.878650</td><td>3.171745</td><td>2.830048</td><td>3.357170</td><td>3.062634</td><td>3.138733</td><td>2.860706</td><td>3.219622</td><td>2.840067</td><td>2.810478</td></tr>\n",
       "\t<tr><th scope=row>Cytotoxic lymphocytes</th><td>4.839624</td><td>4.830298</td><td>4.607910</td><td>4.295373</td><td>4.642049</td><td>4.386060</td><td>4.000044</td><td>4.588757</td><td>4.031320</td><td>4.245466</td><td>⋯       </td><td>4.265814</td><td>4.001872</td><td>3.889891</td><td>4.239514</td><td>4.249442</td><td>4.613459</td><td>4.607575</td><td>4.331030</td><td>4.217703</td><td>4.114927</td></tr>\n",
       "\t<tr><th scope=row>NK cells</th><td>4.044117</td><td>4.034815</td><td>4.192092</td><td>4.004696</td><td>4.145191</td><td>4.038369</td><td>3.972244</td><td>4.185339</td><td>3.796969</td><td>3.818561</td><td>⋯       </td><td>4.074165</td><td>3.861065</td><td>4.096786</td><td>4.199403</td><td>4.016601</td><td>4.018716</td><td>4.005642</td><td>4.036763</td><td>3.940997</td><td>3.898257</td></tr>\n",
       "\t<tr><th scope=row>B lineage</th><td>6.192896</td><td>6.174202</td><td>6.383181</td><td>5.801224</td><td>5.881343</td><td>5.424083</td><td>5.611007</td><td>5.250402</td><td>4.903956</td><td>6.366628</td><td>⋯       </td><td>5.257515</td><td>5.498879</td><td>5.306347</td><td>5.182485</td><td>5.085177</td><td>7.219469</td><td>6.323789</td><td>5.284524</td><td>6.140568</td><td>5.183236</td></tr>\n",
       "\t<tr><th scope=row>Monocytic lineage</th><td>5.626397</td><td>6.374711</td><td>6.394080</td><td>5.295973</td><td>5.899579</td><td>6.034623</td><td>5.596401</td><td>5.368361</td><td>5.245905</td><td>5.647246</td><td>⋯       </td><td>5.533017</td><td>5.981235</td><td>5.451456</td><td>5.615400</td><td>5.495068</td><td>6.091733</td><td>6.295456</td><td>6.217020</td><td>6.574160</td><td>6.051246</td></tr>\n",
       "</tbody>\n",
       "</table>\n"
      ],
      "text/latex": [
       "\\begin{tabular}{r|llllllllllllllllllllllllllllllllllllll}\n",
       "  & A01 & A02 & A03 & A04 & A05 & A06 & A07 & A08 & A09 & A10 & ⋯ & C06 & C07 & C08 & C09 & C10 & C11 & C12 & D01 & D02 & D03\\\\\n",
       "\\hline\n",
       "\tT cells & 4.528487 & 5.207708 & 4.683623 & 4.609657 & 4.414914 & 4.199644 & 4.593121 & 4.254721 & 4.055357 & 4.658334 & ⋯        & 4.541452 & 4.662020 & 4.272964 & 4.653528 & 4.557505 & 5.281122 & 5.016379 & 4.551343 & 4.833545 & 4.343201\\\\\n",
       "\tCD8 T cells & 3.362125 & 3.340149 & 3.170813 & 3.210788 & 3.267672 & 3.141570 & 3.251608 & 3.181663 & 3.164478 & 3.618108 & ⋯        & 2.878650 & 3.171745 & 2.830048 & 3.357170 & 3.062634 & 3.138733 & 2.860706 & 3.219622 & 2.840067 & 2.810478\\\\\n",
       "\tCytotoxic lymphocytes & 4.839624 & 4.830298 & 4.607910 & 4.295373 & 4.642049 & 4.386060 & 4.000044 & 4.588757 & 4.031320 & 4.245466 & ⋯        & 4.265814 & 4.001872 & 3.889891 & 4.239514 & 4.249442 & 4.613459 & 4.607575 & 4.331030 & 4.217703 & 4.114927\\\\\n",
       "\tNK cells & 4.044117 & 4.034815 & 4.192092 & 4.004696 & 4.145191 & 4.038369 & 3.972244 & 4.185339 & 3.796969 & 3.818561 & ⋯        & 4.074165 & 3.861065 & 4.096786 & 4.199403 & 4.016601 & 4.018716 & 4.005642 & 4.036763 & 3.940997 & 3.898257\\\\\n",
       "\tB lineage & 6.192896 & 6.174202 & 6.383181 & 5.801224 & 5.881343 & 5.424083 & 5.611007 & 5.250402 & 4.903956 & 6.366628 & ⋯        & 5.257515 & 5.498879 & 5.306347 & 5.182485 & 5.085177 & 7.219469 & 6.323789 & 5.284524 & 6.140568 & 5.183236\\\\\n",
       "\tMonocytic lineage & 5.626397 & 6.374711 & 6.394080 & 5.295973 & 5.899579 & 6.034623 & 5.596401 & 5.368361 & 5.245905 & 5.647246 & ⋯        & 5.533017 & 5.981235 & 5.451456 & 5.615400 & 5.495068 & 6.091733 & 6.295456 & 6.217020 & 6.574160 & 6.051246\\\\\n",
       "\\end{tabular}\n"
      ],
      "text/markdown": [
       "\n",
       "| <!--/--> | A01 | A02 | A03 | A04 | A05 | A06 | A07 | A08 | A09 | A10 | ⋯ | C06 | C07 | C08 | C09 | C10 | C11 | C12 | D01 | D02 | D03 | \n",
       "|---|---|---|---|---|---|\n",
       "| T cells | 4.528487 | 5.207708 | 4.683623 | 4.609657 | 4.414914 | 4.199644 | 4.593121 | 4.254721 | 4.055357 | 4.658334 | ⋯        | 4.541452 | 4.662020 | 4.272964 | 4.653528 | 4.557505 | 5.281122 | 5.016379 | 4.551343 | 4.833545 | 4.343201 | \n",
       "| CD8 T cells | 3.362125 | 3.340149 | 3.170813 | 3.210788 | 3.267672 | 3.141570 | 3.251608 | 3.181663 | 3.164478 | 3.618108 | ⋯        | 2.878650 | 3.171745 | 2.830048 | 3.357170 | 3.062634 | 3.138733 | 2.860706 | 3.219622 | 2.840067 | 2.810478 | \n",
       "| Cytotoxic lymphocytes | 4.839624 | 4.830298 | 4.607910 | 4.295373 | 4.642049 | 4.386060 | 4.000044 | 4.588757 | 4.031320 | 4.245466 | ⋯        | 4.265814 | 4.001872 | 3.889891 | 4.239514 | 4.249442 | 4.613459 | 4.607575 | 4.331030 | 4.217703 | 4.114927 | \n",
       "| NK cells | 4.044117 | 4.034815 | 4.192092 | 4.004696 | 4.145191 | 4.038369 | 3.972244 | 4.185339 | 3.796969 | 3.818561 | ⋯        | 4.074165 | 3.861065 | 4.096786 | 4.199403 | 4.016601 | 4.018716 | 4.005642 | 4.036763 | 3.940997 | 3.898257 | \n",
       "| B lineage | 6.192896 | 6.174202 | 6.383181 | 5.801224 | 5.881343 | 5.424083 | 5.611007 | 5.250402 | 4.903956 | 6.366628 | ⋯        | 5.257515 | 5.498879 | 5.306347 | 5.182485 | 5.085177 | 7.219469 | 6.323789 | 5.284524 | 6.140568 | 5.183236 | \n",
       "| Monocytic lineage | 5.626397 | 6.374711 | 6.394080 | 5.295973 | 5.899579 | 6.034623 | 5.596401 | 5.368361 | 5.245905 | 5.647246 | ⋯        | 5.533017 | 5.981235 | 5.451456 | 5.615400 | 5.495068 | 6.091733 | 6.295456 | 6.217020 | 6.574160 | 6.051246 | \n",
       "\n",
       "\n"
      ],
      "text/plain": [
       "                      A01      A02      A03      A04      A05      A06     \n",
       "T cells               4.528487 5.207708 4.683623 4.609657 4.414914 4.199644\n",
       "CD8 T cells           3.362125 3.340149 3.170813 3.210788 3.267672 3.141570\n",
       "Cytotoxic lymphocytes 4.839624 4.830298 4.607910 4.295373 4.642049 4.386060\n",
       "NK cells              4.044117 4.034815 4.192092 4.004696 4.145191 4.038369\n",
       "B lineage             6.192896 6.174202 6.383181 5.801224 5.881343 5.424083\n",
       "Monocytic lineage     5.626397 6.374711 6.394080 5.295973 5.899579 6.034623\n",
       "                      A07      A08      A09      A10      ⋯ C06      C07     \n",
       "T cells               4.593121 4.254721 4.055357 4.658334 ⋯ 4.541452 4.662020\n",
       "CD8 T cells           3.251608 3.181663 3.164478 3.618108 ⋯ 2.878650 3.171745\n",
       "Cytotoxic lymphocytes 4.000044 4.588757 4.031320 4.245466 ⋯ 4.265814 4.001872\n",
       "NK cells              3.972244 4.185339 3.796969 3.818561 ⋯ 4.074165 3.861065\n",
       "B lineage             5.611007 5.250402 4.903956 6.366628 ⋯ 5.257515 5.498879\n",
       "Monocytic lineage     5.596401 5.368361 5.245905 5.647246 ⋯ 5.533017 5.981235\n",
       "                      C08      C09      C10      C11      C12      D01     \n",
       "T cells               4.272964 4.653528 4.557505 5.281122 5.016379 4.551343\n",
       "CD8 T cells           2.830048 3.357170 3.062634 3.138733 2.860706 3.219622\n",
       "Cytotoxic lymphocytes 3.889891 4.239514 4.249442 4.613459 4.607575 4.331030\n",
       "NK cells              4.096786 4.199403 4.016601 4.018716 4.005642 4.036763\n",
       "B lineage             5.306347 5.182485 5.085177 7.219469 6.323789 5.284524\n",
       "Monocytic lineage     5.451456 5.615400 5.495068 6.091733 6.295456 6.217020\n",
       "                      D02      D03     \n",
       "T cells               4.833545 4.343201\n",
       "CD8 T cells           2.840067 2.810478\n",
       "Cytotoxic lymphocytes 4.217703 4.114927\n",
       "NK cells              3.940997 3.898257\n",
       "B lineage             6.140568 5.183236\n",
       "Monocytic lineage     6.574160 6.051246"
      ]
     },
     "metadata": {},
     "output_type": "display_data"
    }
   ],
   "source": [
    "head(MCP_result)"
   ]
  },
  {
   "cell_type": "code",
   "execution_count": 8,
   "metadata": {},
   "outputs": [],
   "source": [
    "MCP_result <- data.frame(\"Term\"=rownames(MCP_result),\n",
    "                         MCP_result)\n",
    "\n",
    "rownames(MCP_result) <- NULL"
   ]
  },
  {
   "cell_type": "code",
   "execution_count": 9,
   "metadata": {},
   "outputs": [
    {
     "data": {
      "text/html": [
       "<table>\n",
       "<thead><tr><th scope=col>Term</th><th scope=col>A01</th><th scope=col>A02</th><th scope=col>A03</th><th scope=col>A04</th><th scope=col>A05</th><th scope=col>A06</th><th scope=col>A07</th><th scope=col>A08</th><th scope=col>A09</th><th scope=col>⋯</th><th scope=col>C06</th><th scope=col>C07</th><th scope=col>C08</th><th scope=col>C09</th><th scope=col>C10</th><th scope=col>C11</th><th scope=col>C12</th><th scope=col>D01</th><th scope=col>D02</th><th scope=col>D03</th></tr></thead>\n",
       "<tbody>\n",
       "\t<tr><td>T cells              </td><td>4.528487             </td><td>5.207708             </td><td>4.683623             </td><td>4.609657             </td><td>4.414914             </td><td>4.199644             </td><td>4.593121             </td><td>4.254721             </td><td>4.055357             </td><td>⋯                    </td><td>4.541452             </td><td>4.662020             </td><td>4.272964             </td><td>4.653528             </td><td>4.557505             </td><td>5.281122             </td><td>5.016379             </td><td>4.551343             </td><td>4.833545             </td><td>4.343201             </td></tr>\n",
       "\t<tr><td>CD8 T cells          </td><td>3.362125             </td><td>3.340149             </td><td>3.170813             </td><td>3.210788             </td><td>3.267672             </td><td>3.141570             </td><td>3.251608             </td><td>3.181663             </td><td>3.164478             </td><td>⋯                    </td><td>2.878650             </td><td>3.171745             </td><td>2.830048             </td><td>3.357170             </td><td>3.062634             </td><td>3.138733             </td><td>2.860706             </td><td>3.219622             </td><td>2.840067             </td><td>2.810478             </td></tr>\n",
       "\t<tr><td>Cytotoxic lymphocytes</td><td>4.839624             </td><td>4.830298             </td><td>4.607910             </td><td>4.295373             </td><td>4.642049             </td><td>4.386060             </td><td>4.000044             </td><td>4.588757             </td><td>4.031320             </td><td>⋯                    </td><td>4.265814             </td><td>4.001872             </td><td>3.889891             </td><td>4.239514             </td><td>4.249442             </td><td>4.613459             </td><td>4.607575             </td><td>4.331030             </td><td>4.217703             </td><td>4.114927             </td></tr>\n",
       "\t<tr><td>NK cells             </td><td>4.044117             </td><td>4.034815             </td><td>4.192092             </td><td>4.004696             </td><td>4.145191             </td><td>4.038369             </td><td>3.972244             </td><td>4.185339             </td><td>3.796969             </td><td>⋯                    </td><td>4.074165             </td><td>3.861065             </td><td>4.096786             </td><td>4.199403             </td><td>4.016601             </td><td>4.018716             </td><td>4.005642             </td><td>4.036763             </td><td>3.940997             </td><td>3.898257             </td></tr>\n",
       "\t<tr><td>B lineage            </td><td>6.192896             </td><td>6.174202             </td><td>6.383181             </td><td>5.801224             </td><td>5.881343             </td><td>5.424083             </td><td>5.611007             </td><td>5.250402             </td><td>4.903956             </td><td>⋯                    </td><td>5.257515             </td><td>5.498879             </td><td>5.306347             </td><td>5.182485             </td><td>5.085177             </td><td>7.219469             </td><td>6.323789             </td><td>5.284524             </td><td>6.140568             </td><td>5.183236             </td></tr>\n",
       "\t<tr><td>Monocytic lineage    </td><td>5.626397             </td><td>6.374711             </td><td>6.394080             </td><td>5.295973             </td><td>5.899579             </td><td>6.034623             </td><td>5.596401             </td><td>5.368361             </td><td>5.245905             </td><td>⋯                    </td><td>5.533017             </td><td>5.981235             </td><td>5.451456             </td><td>5.615400             </td><td>5.495068             </td><td>6.091733             </td><td>6.295456             </td><td>6.217020             </td><td>6.574160             </td><td>6.051246             </td></tr>\n",
       "</tbody>\n",
       "</table>\n"
      ],
      "text/latex": [
       "\\begin{tabular}{r|lllllllllllllllllllllllllllllllllllllll}\n",
       " Term & A01 & A02 & A03 & A04 & A05 & A06 & A07 & A08 & A09 & ⋯ & C06 & C07 & C08 & C09 & C10 & C11 & C12 & D01 & D02 & D03\\\\\n",
       "\\hline\n",
       "\t T cells               & 4.528487              & 5.207708              & 4.683623              & 4.609657              & 4.414914              & 4.199644              & 4.593121              & 4.254721              & 4.055357              & ⋯                     & 4.541452              & 4.662020              & 4.272964              & 4.653528              & 4.557505              & 5.281122              & 5.016379              & 4.551343              & 4.833545              & 4.343201             \\\\\n",
       "\t CD8 T cells           & 3.362125              & 3.340149              & 3.170813              & 3.210788              & 3.267672              & 3.141570              & 3.251608              & 3.181663              & 3.164478              & ⋯                     & 2.878650              & 3.171745              & 2.830048              & 3.357170              & 3.062634              & 3.138733              & 2.860706              & 3.219622              & 2.840067              & 2.810478             \\\\\n",
       "\t Cytotoxic lymphocytes & 4.839624              & 4.830298              & 4.607910              & 4.295373              & 4.642049              & 4.386060              & 4.000044              & 4.588757              & 4.031320              & ⋯                     & 4.265814              & 4.001872              & 3.889891              & 4.239514              & 4.249442              & 4.613459              & 4.607575              & 4.331030              & 4.217703              & 4.114927             \\\\\n",
       "\t NK cells              & 4.044117              & 4.034815              & 4.192092              & 4.004696              & 4.145191              & 4.038369              & 3.972244              & 4.185339              & 3.796969              & ⋯                     & 4.074165              & 3.861065              & 4.096786              & 4.199403              & 4.016601              & 4.018716              & 4.005642              & 4.036763              & 3.940997              & 3.898257             \\\\\n",
       "\t B lineage             & 6.192896              & 6.174202              & 6.383181              & 5.801224              & 5.881343              & 5.424083              & 5.611007              & 5.250402              & 4.903956              & ⋯                     & 5.257515              & 5.498879              & 5.306347              & 5.182485              & 5.085177              & 7.219469              & 6.323789              & 5.284524              & 6.140568              & 5.183236             \\\\\n",
       "\t Monocytic lineage     & 5.626397              & 6.374711              & 6.394080              & 5.295973              & 5.899579              & 6.034623              & 5.596401              & 5.368361              & 5.245905              & ⋯                     & 5.533017              & 5.981235              & 5.451456              & 5.615400              & 5.495068              & 6.091733              & 6.295456              & 6.217020              & 6.574160              & 6.051246             \\\\\n",
       "\\end{tabular}\n"
      ],
      "text/markdown": [
       "\n",
       "Term | A01 | A02 | A03 | A04 | A05 | A06 | A07 | A08 | A09 | ⋯ | C06 | C07 | C08 | C09 | C10 | C11 | C12 | D01 | D02 | D03 | \n",
       "|---|---|---|---|---|---|\n",
       "| T cells               | 4.528487              | 5.207708              | 4.683623              | 4.609657              | 4.414914              | 4.199644              | 4.593121              | 4.254721              | 4.055357              | ⋯                     | 4.541452              | 4.662020              | 4.272964              | 4.653528              | 4.557505              | 5.281122              | 5.016379              | 4.551343              | 4.833545              | 4.343201              | \n",
       "| CD8 T cells           | 3.362125              | 3.340149              | 3.170813              | 3.210788              | 3.267672              | 3.141570              | 3.251608              | 3.181663              | 3.164478              | ⋯                     | 2.878650              | 3.171745              | 2.830048              | 3.357170              | 3.062634              | 3.138733              | 2.860706              | 3.219622              | 2.840067              | 2.810478              | \n",
       "| Cytotoxic lymphocytes | 4.839624              | 4.830298              | 4.607910              | 4.295373              | 4.642049              | 4.386060              | 4.000044              | 4.588757              | 4.031320              | ⋯                     | 4.265814              | 4.001872              | 3.889891              | 4.239514              | 4.249442              | 4.613459              | 4.607575              | 4.331030              | 4.217703              | 4.114927              | \n",
       "| NK cells              | 4.044117              | 4.034815              | 4.192092              | 4.004696              | 4.145191              | 4.038369              | 3.972244              | 4.185339              | 3.796969              | ⋯                     | 4.074165              | 3.861065              | 4.096786              | 4.199403              | 4.016601              | 4.018716              | 4.005642              | 4.036763              | 3.940997              | 3.898257              | \n",
       "| B lineage             | 6.192896              | 6.174202              | 6.383181              | 5.801224              | 5.881343              | 5.424083              | 5.611007              | 5.250402              | 4.903956              | ⋯                     | 5.257515              | 5.498879              | 5.306347              | 5.182485              | 5.085177              | 7.219469              | 6.323789              | 5.284524              | 6.140568              | 5.183236              | \n",
       "| Monocytic lineage     | 5.626397              | 6.374711              | 6.394080              | 5.295973              | 5.899579              | 6.034623              | 5.596401              | 5.368361              | 5.245905              | ⋯                     | 5.533017              | 5.981235              | 5.451456              | 5.615400              | 5.495068              | 6.091733              | 6.295456              | 6.217020              | 6.574160              | 6.051246              | \n",
       "\n",
       "\n"
      ],
      "text/plain": [
       "  Term                  A01      A02      A03      A04      A05      A06     \n",
       "1 T cells               4.528487 5.207708 4.683623 4.609657 4.414914 4.199644\n",
       "2 CD8 T cells           3.362125 3.340149 3.170813 3.210788 3.267672 3.141570\n",
       "3 Cytotoxic lymphocytes 4.839624 4.830298 4.607910 4.295373 4.642049 4.386060\n",
       "4 NK cells              4.044117 4.034815 4.192092 4.004696 4.145191 4.038369\n",
       "5 B lineage             6.192896 6.174202 6.383181 5.801224 5.881343 5.424083\n",
       "6 Monocytic lineage     5.626397 6.374711 6.394080 5.295973 5.899579 6.034623\n",
       "  A07      A08      A09      ⋯ C06      C07      C08      C09      C10     \n",
       "1 4.593121 4.254721 4.055357 ⋯ 4.541452 4.662020 4.272964 4.653528 4.557505\n",
       "2 3.251608 3.181663 3.164478 ⋯ 2.878650 3.171745 2.830048 3.357170 3.062634\n",
       "3 4.000044 4.588757 4.031320 ⋯ 4.265814 4.001872 3.889891 4.239514 4.249442\n",
       "4 3.972244 4.185339 3.796969 ⋯ 4.074165 3.861065 4.096786 4.199403 4.016601\n",
       "5 5.611007 5.250402 4.903956 ⋯ 5.257515 5.498879 5.306347 5.182485 5.085177\n",
       "6 5.596401 5.368361 5.245905 ⋯ 5.533017 5.981235 5.451456 5.615400 5.495068\n",
       "  C11      C12      D01      D02      D03     \n",
       "1 5.281122 5.016379 4.551343 4.833545 4.343201\n",
       "2 3.138733 2.860706 3.219622 2.840067 2.810478\n",
       "3 4.613459 4.607575 4.331030 4.217703 4.114927\n",
       "4 4.018716 4.005642 4.036763 3.940997 3.898257\n",
       "5 7.219469 6.323789 5.284524 6.140568 5.183236\n",
       "6 6.091733 6.295456 6.217020 6.574160 6.051246"
      ]
     },
     "metadata": {},
     "output_type": "display_data"
    }
   ],
   "source": [
    "head(MCP_result)"
   ]
  },
  {
   "cell_type": "markdown",
   "metadata": {},
   "source": [
    "### Save results"
   ]
  },
  {
   "cell_type": "code",
   "execution_count": 11,
   "metadata": {},
   "outputs": [],
   "source": [
    "write.table(MCP_result,\n",
    "            file='../../Data/3/MCPcounterImmuneCells_TreatmentNaive_Results.txt',\n",
    "            sep='\\t',\n",
    "            row.names=FALSE)"
   ]
  },
  {
   "cell_type": "markdown",
   "metadata": {},
   "source": [
    "# End script"
   ]
  }
 ],
 "metadata": {
  "kernelspec": {
   "display_name": "R",
   "language": "R",
   "name": "ir"
  },
  "language_info": {
   "codemirror_mode": "r",
   "file_extension": ".r",
   "mimetype": "text/x-r-source",
   "name": "R",
   "pygments_lexer": "r",
   "version": "3.5.0"
  }
 },
 "nbformat": 4,
 "nbformat_minor": 2
}

{
 "cells": [
  {
   "cell_type": "markdown",
   "metadata": {},
   "source": [
    "# Calculate normalised enrichment scores of Bindea gene sets"
   ]
  },
  {
   "cell_type": "markdown",
   "metadata": {},
   "source": [
    "Script related to figure 3a, 3b, s3c \n",
    "\n",
    "### Aim:\n",
    "- Calculate NES of Bindea Gene Sets"
   ]
  },
  {
   "cell_type": "code",
   "execution_count": 1,
   "metadata": {},
   "outputs": [
    {
     "data": {
      "text/plain": [
       "R version 3.5.0 (2018-04-23)\n",
       "Platform: x86_64-apple-darwin15.6.0 (64-bit)\n",
       "Running under: macOS High Sierra 10.13.6\n",
       "\n",
       "Matrix products: default\n",
       "BLAS: /Library/Frameworks/R.framework/Versions/3.5/Resources/lib/libRblas.0.dylib\n",
       "LAPACK: /Library/Frameworks/R.framework/Versions/3.5/Resources/lib/libRlapack.dylib\n",
       "\n",
       "locale:\n",
       "[1] C/UTF-8/C/C/C/C\n",
       "\n",
       "attached base packages:\n",
       "[1] stats     graphics  grDevices utils     datasets  methods   base     \n",
       "\n",
       "loaded via a namespace (and not attached):\n",
       " [1] compiler_3.5.0  IRdisplay_0.6.1 pbdZMQ_0.3-3    tools_3.5.0    \n",
       " [5] htmltools_0.3.6 base64enc_0.1-3 crayon_1.3.4    Rcpp_1.0.1     \n",
       " [9] uuid_0.1-2      IRkernel_0.8.14 jsonlite_1.6    digest_0.6.18  \n",
       "[13] repr_0.17       evaluate_0.13  "
      ]
     },
     "metadata": {},
     "output_type": "display_data"
    }
   ],
   "source": [
    "sessionInfo()"
   ]
  },
  {
   "cell_type": "markdown",
   "metadata": {},
   "source": [
    "## Load packages"
   ]
  },
  {
   "cell_type": "code",
   "execution_count": 1,
   "metadata": {},
   "outputs": [
    {
     "name": "stderr",
     "output_type": "stream",
     "text": [
      "Warning message:\n",
      "“package ‘GSVA’ was built under R version 3.5.1”\n",
      "Attaching package: ‘BBmisc’\n",
      "\n",
      "The following object is masked from ‘package:base’:\n",
      "\n",
      "    isFALSE\n",
      "\n"
     ]
    }
   ],
   "source": [
    "library(GSVA)\n",
    "library(BBmisc)\n",
    "library(nortest)"
   ]
  },
  {
   "cell_type": "code",
   "execution_count": 2,
   "metadata": {},
   "outputs": [],
   "source": [
    "setwd(\"~/git_repos/HGSOC_TME_Heterogeneity/Scripts/3/\")"
   ]
  },
  {
   "cell_type": "markdown",
   "metadata": {},
   "source": [
    "## Load expression data"
   ]
  },
  {
   "cell_type": "code",
   "execution_count": 2,
   "metadata": {},
   "outputs": [],
   "source": [
    "mix <- \"../../Data/1/TreatmentNaive_log2exp_loess_norm.txt\""
   ]
  },
  {
   "cell_type": "code",
   "execution_count": 3,
   "metadata": {},
   "outputs": [],
   "source": [
    "data <- read.csv(mix,\n",
    "                 sep='\\t',\n",
    "                 header=T,\n",
    "                 row.names='Hugo_Symbol')"
   ]
  },
  {
   "cell_type": "code",
   "execution_count": 4,
   "metadata": {},
   "outputs": [
    {
     "data": {
      "text/html": [
       "<table>\n",
       "<thead><tr><th></th><th scope=col>A01</th><th scope=col>A02</th><th scope=col>A03</th><th scope=col>A04</th><th scope=col>A05</th><th scope=col>A06</th><th scope=col>A07</th><th scope=col>A08</th><th scope=col>A09</th><th scope=col>A10</th><th scope=col>⋯</th><th scope=col>C06</th><th scope=col>C07</th><th scope=col>C08</th><th scope=col>C09</th><th scope=col>C10</th><th scope=col>C11</th><th scope=col>C12</th><th scope=col>D01</th><th scope=col>D02</th><th scope=col>D03</th></tr></thead>\n",
       "<tbody>\n",
       "\t<tr><th scope=row>A1BG</th><td> 4.124711</td><td> 3.880633</td><td> 4.864973</td><td>4.167882 </td><td> 4.317845</td><td> 3.679057</td><td>4.092837 </td><td> 4.370571</td><td> 4.252637</td><td>4.174694 </td><td>⋯        </td><td>3.804537 </td><td>4.416981 </td><td>4.169014 </td><td>4.503313 </td><td>4.146333 </td><td>4.078398 </td><td> 4.011369</td><td>3.845128 </td><td> 3.600927</td><td>4.521857 </td></tr>\n",
       "\t<tr><th scope=row>A2BP1</th><td> 3.960924</td><td> 4.033715</td><td> 3.721251</td><td>3.916073 </td><td> 4.338194</td><td> 3.357396</td><td>3.872447 </td><td> 3.803388</td><td> 3.484735</td><td>4.427405 </td><td>⋯        </td><td>4.991068 </td><td>3.799913 </td><td>4.117883 </td><td>4.122134 </td><td>4.221760 </td><td>3.648326 </td><td> 3.675317</td><td>3.546925 </td><td> 3.788279</td><td>4.920841 </td></tr>\n",
       "\t<tr><th scope=row>A2M</th><td>12.603155</td><td>10.859838</td><td>12.612923</td><td>9.176999 </td><td>10.548790</td><td>11.840776</td><td>7.200547 </td><td>11.835658</td><td>11.535547</td><td>7.080118 </td><td>⋯        </td><td>9.061598 </td><td>9.189459 </td><td>8.844728 </td><td>7.464440 </td><td>6.726233 </td><td>9.265911 </td><td>10.740486</td><td>9.735582 </td><td>10.781599</td><td>8.734304 </td></tr>\n",
       "\t<tr><th scope=row>A2ML1</th><td> 3.945877</td><td> 4.000621</td><td> 3.767932</td><td>3.789729 </td><td> 3.543204</td><td> 3.805520</td><td>4.336280 </td><td> 4.031757</td><td> 4.166018</td><td>3.673146 </td><td>⋯        </td><td>4.231174 </td><td>3.871651 </td><td>3.287232 </td><td>3.721093 </td><td>3.723801 </td><td>3.884499 </td><td> 3.694111</td><td>3.937682 </td><td> 3.600471</td><td>3.402861 </td></tr>\n",
       "\t<tr><th scope=row>A4GALT</th><td> 3.597277</td><td> 3.863757</td><td> 4.051844</td><td>4.113169 </td><td> 3.975144</td><td> 3.991293</td><td>5.439960 </td><td> 4.696177</td><td> 4.171788</td><td>4.041633 </td><td>⋯        </td><td>4.183089 </td><td>4.699729 </td><td>4.019537 </td><td>3.739865 </td><td>4.591953 </td><td>4.997860 </td><td> 4.099630</td><td>5.001239 </td><td> 4.714710</td><td>4.145119 </td></tr>\n",
       "\t<tr><th scope=row>A4GNT</th><td> 3.714481</td><td> 3.593169</td><td> 3.241352</td><td>3.515850 </td><td> 3.364447</td><td> 3.767865</td><td>3.768695 </td><td> 3.163977</td><td> 3.423377</td><td>3.205154 </td><td>⋯        </td><td>3.896812 </td><td>3.915653 </td><td>3.351422 </td><td>3.719759 </td><td>3.641028 </td><td>3.114521 </td><td> 3.560199</td><td>3.539738 </td><td> 3.760903</td><td>3.479266 </td></tr>\n",
       "</tbody>\n",
       "</table>\n"
      ],
      "text/latex": [
       "\\begin{tabular}{r|llllllllllllllllllllllllllllllllllllll}\n",
       "  & A01 & A02 & A03 & A04 & A05 & A06 & A07 & A08 & A09 & A10 & ⋯ & C06 & C07 & C08 & C09 & C10 & C11 & C12 & D01 & D02 & D03\\\\\n",
       "\\hline\n",
       "\tA1BG &  4.124711 &  3.880633 &  4.864973 & 4.167882  &  4.317845 &  3.679057 & 4.092837  &  4.370571 &  4.252637 & 4.174694  & ⋯         & 3.804537  & 4.416981  & 4.169014  & 4.503313  & 4.146333  & 4.078398  &  4.011369 & 3.845128  &  3.600927 & 4.521857 \\\\\n",
       "\tA2BP1 &  3.960924 &  4.033715 &  3.721251 & 3.916073  &  4.338194 &  3.357396 & 3.872447  &  3.803388 &  3.484735 & 4.427405  & ⋯         & 4.991068  & 3.799913  & 4.117883  & 4.122134  & 4.221760  & 3.648326  &  3.675317 & 3.546925  &  3.788279 & 4.920841 \\\\\n",
       "\tA2M & 12.603155 & 10.859838 & 12.612923 & 9.176999  & 10.548790 & 11.840776 & 7.200547  & 11.835658 & 11.535547 & 7.080118  & ⋯         & 9.061598  & 9.189459  & 8.844728  & 7.464440  & 6.726233  & 9.265911  & 10.740486 & 9.735582  & 10.781599 & 8.734304 \\\\\n",
       "\tA2ML1 &  3.945877 &  4.000621 &  3.767932 & 3.789729  &  3.543204 &  3.805520 & 4.336280  &  4.031757 &  4.166018 & 3.673146  & ⋯         & 4.231174  & 3.871651  & 3.287232  & 3.721093  & 3.723801  & 3.884499  &  3.694111 & 3.937682  &  3.600471 & 3.402861 \\\\\n",
       "\tA4GALT &  3.597277 &  3.863757 &  4.051844 & 4.113169  &  3.975144 &  3.991293 & 5.439960  &  4.696177 &  4.171788 & 4.041633  & ⋯         & 4.183089  & 4.699729  & 4.019537  & 3.739865  & 4.591953  & 4.997860  &  4.099630 & 5.001239  &  4.714710 & 4.145119 \\\\\n",
       "\tA4GNT &  3.714481 &  3.593169 &  3.241352 & 3.515850  &  3.364447 &  3.767865 & 3.768695  &  3.163977 &  3.423377 & 3.205154  & ⋯         & 3.896812  & 3.915653  & 3.351422  & 3.719759  & 3.641028  & 3.114521  &  3.560199 & 3.539738  &  3.760903 & 3.479266 \\\\\n",
       "\\end{tabular}\n"
      ],
      "text/markdown": [
       "\n",
       "| <!--/--> | A01 | A02 | A03 | A04 | A05 | A06 | A07 | A08 | A09 | A10 | ⋯ | C06 | C07 | C08 | C09 | C10 | C11 | C12 | D01 | D02 | D03 | \n",
       "|---|---|---|---|---|---|\n",
       "| A1BG |  4.124711 |  3.880633 |  4.864973 | 4.167882  |  4.317845 |  3.679057 | 4.092837  |  4.370571 |  4.252637 | 4.174694  | ⋯         | 3.804537  | 4.416981  | 4.169014  | 4.503313  | 4.146333  | 4.078398  |  4.011369 | 3.845128  |  3.600927 | 4.521857  | \n",
       "| A2BP1 |  3.960924 |  4.033715 |  3.721251 | 3.916073  |  4.338194 |  3.357396 | 3.872447  |  3.803388 |  3.484735 | 4.427405  | ⋯         | 4.991068  | 3.799913  | 4.117883  | 4.122134  | 4.221760  | 3.648326  |  3.675317 | 3.546925  |  3.788279 | 4.920841  | \n",
       "| A2M | 12.603155 | 10.859838 | 12.612923 | 9.176999  | 10.548790 | 11.840776 | 7.200547  | 11.835658 | 11.535547 | 7.080118  | ⋯         | 9.061598  | 9.189459  | 8.844728  | 7.464440  | 6.726233  | 9.265911  | 10.740486 | 9.735582  | 10.781599 | 8.734304  | \n",
       "| A2ML1 |  3.945877 |  4.000621 |  3.767932 | 3.789729  |  3.543204 |  3.805520 | 4.336280  |  4.031757 |  4.166018 | 3.673146  | ⋯         | 4.231174  | 3.871651  | 3.287232  | 3.721093  | 3.723801  | 3.884499  |  3.694111 | 3.937682  |  3.600471 | 3.402861  | \n",
       "| A4GALT |  3.597277 |  3.863757 |  4.051844 | 4.113169  |  3.975144 |  3.991293 | 5.439960  |  4.696177 |  4.171788 | 4.041633  | ⋯         | 4.183089  | 4.699729  | 4.019537  | 3.739865  | 4.591953  | 4.997860  |  4.099630 | 5.001239  |  4.714710 | 4.145119  | \n",
       "| A4GNT |  3.714481 |  3.593169 |  3.241352 | 3.515850  |  3.364447 |  3.767865 | 3.768695  |  3.163977 |  3.423377 | 3.205154  | ⋯         | 3.896812  | 3.915653  | 3.351422  | 3.719759  | 3.641028  | 3.114521  |  3.560199 | 3.539738  |  3.760903 | 3.479266  | \n",
       "\n",
       "\n"
      ],
      "text/plain": [
       "       A01       A02       A03       A04      A05       A06       A07     \n",
       "A1BG    4.124711  3.880633  4.864973 4.167882  4.317845  3.679057 4.092837\n",
       "A2BP1   3.960924  4.033715  3.721251 3.916073  4.338194  3.357396 3.872447\n",
       "A2M    12.603155 10.859838 12.612923 9.176999 10.548790 11.840776 7.200547\n",
       "A2ML1   3.945877  4.000621  3.767932 3.789729  3.543204  3.805520 4.336280\n",
       "A4GALT  3.597277  3.863757  4.051844 4.113169  3.975144  3.991293 5.439960\n",
       "A4GNT   3.714481  3.593169  3.241352 3.515850  3.364447  3.767865 3.768695\n",
       "       A08       A09       A10      ⋯ C06      C07      C08      C09     \n",
       "A1BG    4.370571  4.252637 4.174694 ⋯ 3.804537 4.416981 4.169014 4.503313\n",
       "A2BP1   3.803388  3.484735 4.427405 ⋯ 4.991068 3.799913 4.117883 4.122134\n",
       "A2M    11.835658 11.535547 7.080118 ⋯ 9.061598 9.189459 8.844728 7.464440\n",
       "A2ML1   4.031757  4.166018 3.673146 ⋯ 4.231174 3.871651 3.287232 3.721093\n",
       "A4GALT  4.696177  4.171788 4.041633 ⋯ 4.183089 4.699729 4.019537 3.739865\n",
       "A4GNT   3.163977  3.423377 3.205154 ⋯ 3.896812 3.915653 3.351422 3.719759\n",
       "       C10      C11      C12       D01      D02       D03     \n",
       "A1BG   4.146333 4.078398  4.011369 3.845128  3.600927 4.521857\n",
       "A2BP1  4.221760 3.648326  3.675317 3.546925  3.788279 4.920841\n",
       "A2M    6.726233 9.265911 10.740486 9.735582 10.781599 8.734304\n",
       "A2ML1  3.723801 3.884499  3.694111 3.937682  3.600471 3.402861\n",
       "A4GALT 4.591953 4.997860  4.099630 5.001239  4.714710 4.145119\n",
       "A4GNT  3.641028 3.114521  3.560199 3.539738  3.760903 3.479266"
      ]
     },
     "metadata": {},
     "output_type": "display_data"
    }
   ],
   "source": [
    "head(data)"
   ]
  },
  {
   "cell_type": "code",
   "execution_count": 5,
   "metadata": {},
   "outputs": [],
   "source": [
    "data_mtx <- as.matrix(data)"
   ]
  },
  {
   "cell_type": "markdown",
   "metadata": {},
   "source": [
    "## Load Bindea gene sets"
   ]
  },
  {
   "cell_type": "code",
   "execution_count": 7,
   "metadata": {},
   "outputs": [],
   "source": [
    "Bindea_GeneSets <- read.csv('../1.Data/BindeaImmuneCells_GeneSets.txt',\n",
    "                            sep='\\t',\n",
    "                            header=T)"
   ]
  },
  {
   "cell_type": "code",
   "execution_count": 9,
   "metadata": {},
   "outputs": [
    {
     "data": {
      "text/html": [
       "<table>\n",
       "<thead><tr><th scope=col>activated_Dendritic_cells</th><th scope=col>B_cells</th><th scope=col>CD8_T_cells</th><th scope=col>Citotoxic_cells</th><th scope=col>Dendritic_cells</th><th scope=col>Eosinophils</th><th scope=col>immature_Dendritic_cells</th><th scope=col>Macrophages</th><th scope=col>Mast_cells</th><th scope=col>Neutrophils</th><th scope=col>⋯</th><th scope=col>T_central_memory_cells</th><th scope=col>T_effector_memory_cells</th><th scope=col>T_follicular_helper_cells</th><th scope=col>T_gamma_delta_cells</th><th scope=col>Th1_cells</th><th scope=col>Th17_cells</th><th scope=col>Th2_cells</th><th scope=col>Treg_cells</th><th scope=col>Angiogenesis</th><th scope=col>Antigen_presentation_machinery</th></tr></thead>\n",
       "<tbody>\n",
       "\t<tr><td>CCL1    </td><td>ABCB4   </td><td>ABT1    </td><td>APBA2   </td><td>CCL13   </td><td>ABHD2   </td><td>ABCG2   </td><td>APOE    </td><td>ABCC4   </td><td>ALPL    </td><td>⋯       </td><td>AQP3    </td><td>AKT3    </td><td>B3GAT1  </td><td>C1orf61 </td><td>APBB2   </td><td>IL17A   </td><td>ADCY1   </td><td>FOXP3   </td><td>CDH5    </td><td>HLA-A   </td></tr>\n",
       "\t<tr><td>EBI3    </td><td>BACH2   </td><td>AES     </td><td>APOL3   </td><td>CCL17   </td><td>ACACB   </td><td>BLVRB   </td><td>ATG7    </td><td>ADCYAP1 </td><td>BST1    </td><td>⋯       </td><td>ATF7IP  </td><td>C7orf54 </td><td>BLR1    </td><td>CD160   </td><td>APOD    </td><td>IL17RA  </td><td>AHI1    </td><td>        </td><td>ELTD1   </td><td>HLA-B   </td></tr>\n",
       "\t<tr><td>INDO    </td><td>BCL11A  </td><td>APBA2   </td><td>CTSW    </td><td>CCL22   </td><td>C9orf156</td><td>CARD9   </td><td>BCAT1   </td><td>CALB2   </td><td>CD93    </td><td>⋯       </td><td>ATM     </td><td>CCR2    </td><td>C18orf1 </td><td>FEZ1    </td><td>ATP9A   </td><td>RORC    </td><td>ANK1    </td><td>        </td><td>CLEC14A </td><td>HLA-C   </td></tr>\n",
       "\t<tr><td>LAMP3   </td><td>BLK     </td><td>ARHGAP8 </td><td>DUSP2   </td><td>CD209   </td><td>CAT     </td><td>CD1A    </td><td>CCL7    </td><td>CEACAM8 </td><td>CEACAM3 </td><td>⋯       </td><td>CASP8   </td><td>DDX17   </td><td>CDK5R1  </td><td>TARP    </td><td>BST2    </td><td>        </td><td>BIRC5   </td><td>        </td><td>LDB2    </td><td>B2M     </td></tr>\n",
       "\t<tr><td>OAS3    </td><td>BLNK    </td><td>C12orf47</td><td>GNLY    </td><td>HSD11B1 </td><td>CCR3    </td><td>CD1B    </td><td>CD163   </td><td>CMA1    </td><td>CREB5   </td><td>⋯       </td><td>CDC14A  </td><td>EWSR1   </td><td>CHGB    </td><td>TRD     </td><td>BTG3    </td><td>        </td><td>CDC25C  </td><td>        </td><td>ECSCR   </td><td>TAP1    </td></tr>\n",
       "\t<tr><td>        </td><td>CCR9    </td><td>C19orf6 </td><td>GZMA    </td><td>NPR1    </td><td>CLC     </td><td>CD1C    </td><td>CD68    </td><td>CPA3    </td><td>CRISPLD2</td><td>⋯       </td><td>CEP68   </td><td>FLI1    </td><td>CHI3L2  </td><td>TRGV9   </td><td>CCL4    </td><td>        </td><td>CDC7    </td><td>        </td><td>MYCT1   </td><td>TAP2    </td></tr>\n",
       "</tbody>\n",
       "</table>\n"
      ],
      "text/latex": [
       "\\begin{tabular}{r|llllllllllllllllllllllllll}\n",
       " activated\\_Dendritic\\_cells & B\\_cells & CD8\\_T\\_cells & Citotoxic\\_cells & Dendritic\\_cells & Eosinophils & immature\\_Dendritic\\_cells & Macrophages & Mast\\_cells & Neutrophils & ⋯ & T\\_central\\_memory\\_cells & T\\_effector\\_memory\\_cells & T\\_follicular\\_helper\\_cells & T\\_gamma\\_delta\\_cells & Th1\\_cells & Th17\\_cells & Th2\\_cells & Treg\\_cells & Angiogenesis & Antigen\\_presentation\\_machinery\\\\\n",
       "\\hline\n",
       "\t CCL1     & ABCB4    & ABT1     & APBA2    & CCL13    & ABHD2    & ABCG2    & APOE     & ABCC4    & ALPL     & ⋯        & AQP3     & AKT3     & B3GAT1   & C1orf61  & APBB2    & IL17A    & ADCY1    & FOXP3    & CDH5     & HLA-A   \\\\\n",
       "\t EBI3     & BACH2    & AES      & APOL3    & CCL17    & ACACB    & BLVRB    & ATG7     & ADCYAP1  & BST1     & ⋯        & ATF7IP   & C7orf54  & BLR1     & CD160    & APOD     & IL17RA   & AHI1     &          & ELTD1    & HLA-B   \\\\\n",
       "\t INDO     & BCL11A   & APBA2    & CTSW     & CCL22    & C9orf156 & CARD9    & BCAT1    & CALB2    & CD93     & ⋯        & ATM      & CCR2     & C18orf1  & FEZ1     & ATP9A    & RORC     & ANK1     &          & CLEC14A  & HLA-C   \\\\\n",
       "\t LAMP3    & BLK      & ARHGAP8  & DUSP2    & CD209    & CAT      & CD1A     & CCL7     & CEACAM8  & CEACAM3  & ⋯        & CASP8    & DDX17    & CDK5R1   & TARP     & BST2     &          & BIRC5    &          & LDB2     & B2M     \\\\\n",
       "\t OAS3     & BLNK     & C12orf47 & GNLY     & HSD11B1  & CCR3     & CD1B     & CD163    & CMA1     & CREB5    & ⋯        & CDC14A   & EWSR1    & CHGB     & TRD      & BTG3     &          & CDC25C   &          & ECSCR    & TAP1    \\\\\n",
       "\t          & CCR9     & C19orf6  & GZMA     & NPR1     & CLC      & CD1C     & CD68     & CPA3     & CRISPLD2 & ⋯        & CEP68    & FLI1     & CHI3L2   & TRGV9    & CCL4     &          & CDC7     &          & MYCT1    & TAP2    \\\\\n",
       "\\end{tabular}\n"
      ],
      "text/markdown": [
       "\n",
       "activated_Dendritic_cells | B_cells | CD8_T_cells | Citotoxic_cells | Dendritic_cells | Eosinophils | immature_Dendritic_cells | Macrophages | Mast_cells | Neutrophils | ⋯ | T_central_memory_cells | T_effector_memory_cells | T_follicular_helper_cells | T_gamma_delta_cells | Th1_cells | Th17_cells | Th2_cells | Treg_cells | Angiogenesis | Antigen_presentation_machinery | \n",
       "|---|---|---|---|---|---|\n",
       "| CCL1     | ABCB4    | ABT1     | APBA2    | CCL13    | ABHD2    | ABCG2    | APOE     | ABCC4    | ALPL     | ⋯        | AQP3     | AKT3     | B3GAT1   | C1orf61  | APBB2    | IL17A    | ADCY1    | FOXP3    | CDH5     | HLA-A    | \n",
       "| EBI3     | BACH2    | AES      | APOL3    | CCL17    | ACACB    | BLVRB    | ATG7     | ADCYAP1  | BST1     | ⋯        | ATF7IP   | C7orf54  | BLR1     | CD160    | APOD     | IL17RA   | AHI1     |          | ELTD1    | HLA-B    | \n",
       "| INDO     | BCL11A   | APBA2    | CTSW     | CCL22    | C9orf156 | CARD9    | BCAT1    | CALB2    | CD93     | ⋯        | ATM      | CCR2     | C18orf1  | FEZ1     | ATP9A    | RORC     | ANK1     |          | CLEC14A  | HLA-C    | \n",
       "| LAMP3    | BLK      | ARHGAP8  | DUSP2    | CD209    | CAT      | CD1A     | CCL7     | CEACAM8  | CEACAM3  | ⋯        | CASP8    | DDX17    | CDK5R1   | TARP     | BST2     |          | BIRC5    |          | LDB2     | B2M      | \n",
       "| OAS3     | BLNK     | C12orf47 | GNLY     | HSD11B1  | CCR3     | CD1B     | CD163    | CMA1     | CREB5    | ⋯        | CDC14A   | EWSR1    | CHGB     | TRD      | BTG3     |          | CDC25C   |          | ECSCR    | TAP1     | \n",
       "|          | CCR9     | C19orf6  | GZMA     | NPR1     | CLC      | CD1C     | CD68     | CPA3     | CRISPLD2 | ⋯        | CEP68    | FLI1     | CHI3L2   | TRGV9    | CCL4     |          | CDC7     |          | MYCT1    | TAP2     | \n",
       "\n",
       "\n"
      ],
      "text/plain": [
       "  activated_Dendritic_cells B_cells CD8_T_cells Citotoxic_cells Dendritic_cells\n",
       "1 CCL1                      ABCB4   ABT1        APBA2           CCL13          \n",
       "2 EBI3                      BACH2   AES         APOL3           CCL17          \n",
       "3 INDO                      BCL11A  APBA2       CTSW            CCL22          \n",
       "4 LAMP3                     BLK     ARHGAP8     DUSP2           CD209          \n",
       "5 OAS3                      BLNK    C12orf47    GNLY            HSD11B1        \n",
       "6                           CCR9    C19orf6     GZMA            NPR1           \n",
       "  Eosinophils immature_Dendritic_cells Macrophages Mast_cells Neutrophils ⋯\n",
       "1 ABHD2       ABCG2                    APOE        ABCC4      ALPL        ⋯\n",
       "2 ACACB       BLVRB                    ATG7        ADCYAP1    BST1        ⋯\n",
       "3 C9orf156    CARD9                    BCAT1       CALB2      CD93        ⋯\n",
       "4 CAT         CD1A                     CCL7        CEACAM8    CEACAM3     ⋯\n",
       "5 CCR3        CD1B                     CD163       CMA1       CREB5       ⋯\n",
       "6 CLC         CD1C                     CD68        CPA3       CRISPLD2    ⋯\n",
       "  T_central_memory_cells T_effector_memory_cells T_follicular_helper_cells\n",
       "1 AQP3                   AKT3                    B3GAT1                   \n",
       "2 ATF7IP                 C7orf54                 BLR1                     \n",
       "3 ATM                    CCR2                    C18orf1                  \n",
       "4 CASP8                  DDX17                   CDK5R1                   \n",
       "5 CDC14A                 EWSR1                   CHGB                     \n",
       "6 CEP68                  FLI1                    CHI3L2                   \n",
       "  T_gamma_delta_cells Th1_cells Th17_cells Th2_cells Treg_cells Angiogenesis\n",
       "1 C1orf61             APBB2     IL17A      ADCY1     FOXP3      CDH5        \n",
       "2 CD160               APOD      IL17RA     AHI1                 ELTD1       \n",
       "3 FEZ1                ATP9A     RORC       ANK1                 CLEC14A     \n",
       "4 TARP                BST2                 BIRC5                LDB2        \n",
       "5 TRD                 BTG3                 CDC25C               ECSCR       \n",
       "6 TRGV9               CCL4                 CDC7                 MYCT1       \n",
       "  Antigen_presentation_machinery\n",
       "1 HLA-A                         \n",
       "2 HLA-B                         \n",
       "3 HLA-C                         \n",
       "4 B2M                           \n",
       "5 TAP1                          \n",
       "6 TAP2                          "
      ]
     },
     "metadata": {},
     "output_type": "display_data"
    }
   ],
   "source": [
    "head(Bindea_GeneSets)"
   ]
  },
  {
   "cell_type": "code",
   "execution_count": 10,
   "metadata": {},
   "outputs": [],
   "source": [
    "Bindea_GeneSets <- convertRowsToList(t(Bindea_GeneSets))"
   ]
  },
  {
   "cell_type": "markdown",
   "metadata": {},
   "source": [
    "## Run ssGSEA"
   ]
  },
  {
   "cell_type": "code",
   "execution_count": 11,
   "metadata": {},
   "outputs": [
    {
     "name": "stdout",
     "output_type": "stream",
     "text": [
      "Estimating ssGSEA scores for 26 gene sets.\n",
      "  |                                                                      |   0%Using parallel with 4 cores\n",
      "  |======================================================================| 100%\n"
     ]
    }
   ],
   "source": [
    "bin_NES <- gsva(data_mtx,\n",
    "                Bindea_GeneSets,\n",
    "                method='ssgsea',\n",
    "                min.sz=0,\n",
    "                max.sz=1000,\n",
    "                ssgsea.norm=T)"
   ]
  },
  {
   "cell_type": "code",
   "execution_count": 12,
   "metadata": {},
   "outputs": [],
   "source": [
    "bin_NES <- data.frame(\"Term\"=rownames(bin_NES),\n",
    "                      bin_NES)\n",
    "\n",
    "rownames(bin_NES) <- NULL"
   ]
  },
  {
   "cell_type": "code",
   "execution_count": 15,
   "metadata": {},
   "outputs": [
    {
     "data": {
      "text/html": [
       "<table>\n",
       "<thead><tr><th scope=col>Term</th><th scope=col>A01</th><th scope=col>A02</th><th scope=col>A03</th><th scope=col>A04</th><th scope=col>A05</th><th scope=col>A06</th><th scope=col>A07</th><th scope=col>A08</th><th scope=col>A09</th><th scope=col>⋯</th><th scope=col>C06</th><th scope=col>C07</th><th scope=col>C08</th><th scope=col>C09</th><th scope=col>C10</th><th scope=col>C11</th><th scope=col>C12</th><th scope=col>D01</th><th scope=col>D02</th><th scope=col>D03</th></tr></thead>\n",
       "<tbody>\n",
       "\t<tr><td>activated_Dendritic_cells</td><td>-0.066754509             </td><td> 0.097384283             </td><td>-0.072684444             </td><td> 0.08406037              </td><td>-0.039156324             </td><td>-0.03913688              </td><td> 0.03107886              </td><td> 0.047359206             </td><td> 0.009225672             </td><td>⋯                        </td><td>-0.138728449             </td><td>-0.11743575              </td><td>-0.09688468              </td><td>-0.006450510             </td><td>-0.11900309              </td><td>-0.11655420              </td><td>-0.173622562             </td><td>-0.139019418             </td><td>-0.11683955              </td><td>-0.12814512              </td></tr>\n",
       "\t<tr><td>B_cells                  </td><td>-0.003080459             </td><td> 0.018623922             </td><td> 0.022715570             </td><td> 0.02951553              </td><td>-0.010551928             </td><td>-0.05771865              </td><td> 0.01858166              </td><td>-0.033956971             </td><td>-0.073086897             </td><td>⋯                        </td><td>-0.047671127             </td><td> 0.00381040              </td><td>-0.04950963              </td><td>-0.002100965             </td><td> 0.02356159              </td><td> 0.10275271              </td><td> 0.051442694             </td><td>-0.005627768             </td><td> 0.02556495              </td><td>-0.03113372              </td></tr>\n",
       "\t<tr><td>CD8_T_cells              </td><td> 0.095100512             </td><td> 0.099430527             </td><td> 0.094088306             </td><td> 0.07429195              </td><td> 0.093516971             </td><td> 0.08977499              </td><td> 0.05386297              </td><td> 0.059920747             </td><td> 0.082284801             </td><td>⋯                        </td><td> 0.081629660             </td><td> 0.09933864              </td><td> 0.10938170              </td><td> 0.084270861             </td><td> 0.06676323              </td><td> 0.09050137              </td><td> 0.104727427             </td><td> 0.091541657             </td><td> 0.10927883              </td><td> 0.09812421              </td></tr>\n",
       "\t<tr><td>Citotoxic_cells          </td><td> 0.103809255             </td><td> 0.112686393             </td><td> 0.084147911             </td><td> 0.02977081              </td><td> 0.037928174             </td><td>-0.02408805              </td><td>-0.06285071              </td><td>-0.041938113             </td><td>-0.103344902             </td><td>⋯                        </td><td>-0.066424407             </td><td>-0.02344524              </td><td>-0.03938905              </td><td>-0.053673465             </td><td>-0.04709108              </td><td> 0.05630751              </td><td> 0.008552687             </td><td>-0.007122433             </td><td>-0.01273871              </td><td>-0.06110341              </td></tr>\n",
       "\t<tr><td>Dendritic_cells          </td><td>-0.176476428             </td><td>-0.136052028             </td><td>-0.175691922             </td><td>-0.14513787              </td><td>-0.110276254             </td><td>-0.11966672              </td><td>-0.14789081              </td><td>-0.109404501             </td><td>-0.114896146             </td><td>⋯                        </td><td>-0.102047487             </td><td>-0.01734816              </td><td> 0.01414666              </td><td>-0.065368738             </td><td>-0.12973470              </td><td>-0.03258076              </td><td>-0.057819789             </td><td>-0.085136366             </td><td>-0.08762304              </td><td>-0.05003171              </td></tr>\n",
       "\t<tr><td>Eosinophils              </td><td>-0.034222013             </td><td> 0.007538603             </td><td>-0.007610453             </td><td> 0.02250445              </td><td>-0.002669838             </td><td>-0.01267269              </td><td> 0.01926266              </td><td>-0.004099934             </td><td>-0.006889786             </td><td>⋯                        </td><td> 0.002467249             </td><td> 0.03968204              </td><td> 0.04808722              </td><td> 0.014791031             </td><td> 0.01835545              </td><td> 0.01526813              </td><td> 0.008219769             </td><td>-0.016815433             </td><td>-0.04023631              </td><td>-0.03714241              </td></tr>\n",
       "</tbody>\n",
       "</table>\n"
      ],
      "text/latex": [
       "\\begin{tabular}{r|lllllllllllllllllllllllllllllllllllllll}\n",
       " Term & A01 & A02 & A03 & A04 & A05 & A06 & A07 & A08 & A09 & ⋯ & C06 & C07 & C08 & C09 & C10 & C11 & C12 & D01 & D02 & D03\\\\\n",
       "\\hline\n",
       "\t activated\\_Dendritic\\_cells & -0.066754509                  &  0.097384283                  & -0.072684444                  &  0.08406037                   & -0.039156324                  & -0.03913688                   &  0.03107886                   &  0.047359206                  &  0.009225672                  & ⋯                             & -0.138728449                  & -0.11743575                   & -0.09688468                   & -0.006450510                  & -0.11900309                   & -0.11655420                   & -0.173622562                  & -0.139019418                  & -0.11683955                   & -0.12814512                  \\\\\n",
       "\t B\\_cells                   & -0.003080459                &  0.018623922                &  0.022715570                &  0.02951553                 & -0.010551928                & -0.05771865                 &  0.01858166                 & -0.033956971                & -0.073086897                & ⋯                           & -0.047671127                &  0.00381040                 & -0.04950963                 & -0.002100965                &  0.02356159                 &  0.10275271                 &  0.051442694                & -0.005627768                &  0.02556495                 & -0.03113372                \\\\\n",
       "\t CD8\\_T\\_cells               &  0.095100512                  &  0.099430527                  &  0.094088306                  &  0.07429195                   &  0.093516971                  &  0.08977499                   &  0.05386297                   &  0.059920747                  &  0.082284801                  & ⋯                             &  0.081629660                  &  0.09933864                   &  0.10938170                   &  0.084270861                  &  0.06676323                   &  0.09050137                   &  0.104727427                  &  0.091541657                  &  0.10927883                   &  0.09812421                  \\\\\n",
       "\t Citotoxic\\_cells           &  0.103809255                &  0.112686393                &  0.084147911                &  0.02977081                 &  0.037928174                & -0.02408805                 & -0.06285071                 & -0.041938113                & -0.103344902                & ⋯                           & -0.066424407                & -0.02344524                 & -0.03938905                 & -0.053673465                & -0.04709108                 &  0.05630751                 &  0.008552687                & -0.007122433                & -0.01273871                 & -0.06110341                \\\\\n",
       "\t Dendritic\\_cells           & -0.176476428                & -0.136052028                & -0.175691922                & -0.14513787                 & -0.110276254                & -0.11966672                 & -0.14789081                 & -0.109404501                & -0.114896146                & ⋯                           & -0.102047487                & -0.01734816                 &  0.01414666                 & -0.065368738                & -0.12973470                 & -0.03258076                 & -0.057819789                & -0.085136366                & -0.08762304                 & -0.05003171                \\\\\n",
       "\t Eosinophils               & -0.034222013              &  0.007538603              & -0.007610453              &  0.02250445               & -0.002669838              & -0.01267269               &  0.01926266               & -0.004099934              & -0.006889786              & ⋯                         &  0.002467249              &  0.03968204               &  0.04808722               &  0.014791031              &  0.01835545               &  0.01526813               &  0.008219769              & -0.016815433              & -0.04023631               & -0.03714241              \\\\\n",
       "\\end{tabular}\n"
      ],
      "text/markdown": [
       "\n",
       "Term | A01 | A02 | A03 | A04 | A05 | A06 | A07 | A08 | A09 | ⋯ | C06 | C07 | C08 | C09 | C10 | C11 | C12 | D01 | D02 | D03 | \n",
       "|---|---|---|---|---|---|\n",
       "| activated_Dendritic_cells | -0.066754509              |  0.097384283              | -0.072684444              |  0.08406037               | -0.039156324              | -0.03913688               |  0.03107886               |  0.047359206              |  0.009225672              | ⋯                         | -0.138728449              | -0.11743575               | -0.09688468               | -0.006450510              | -0.11900309               | -0.11655420               | -0.173622562              | -0.139019418              | -0.11683955               | -0.12814512               | \n",
       "| B_cells                   | -0.003080459              |  0.018623922              |  0.022715570              |  0.02951553               | -0.010551928              | -0.05771865               |  0.01858166               | -0.033956971              | -0.073086897              | ⋯                         | -0.047671127              |  0.00381040               | -0.04950963               | -0.002100965              |  0.02356159               |  0.10275271               |  0.051442694              | -0.005627768              |  0.02556495               | -0.03113372               | \n",
       "| CD8_T_cells               |  0.095100512              |  0.099430527              |  0.094088306              |  0.07429195               |  0.093516971              |  0.08977499               |  0.05386297               |  0.059920747              |  0.082284801              | ⋯                         |  0.081629660              |  0.09933864               |  0.10938170               |  0.084270861              |  0.06676323               |  0.09050137               |  0.104727427              |  0.091541657              |  0.10927883               |  0.09812421               | \n",
       "| Citotoxic_cells           |  0.103809255              |  0.112686393              |  0.084147911              |  0.02977081               |  0.037928174              | -0.02408805               | -0.06285071               | -0.041938113              | -0.103344902              | ⋯                         | -0.066424407              | -0.02344524               | -0.03938905               | -0.053673465              | -0.04709108               |  0.05630751               |  0.008552687              | -0.007122433              | -0.01273871               | -0.06110341               | \n",
       "| Dendritic_cells           | -0.176476428              | -0.136052028              | -0.175691922              | -0.14513787               | -0.110276254              | -0.11966672               | -0.14789081               | -0.109404501              | -0.114896146              | ⋯                         | -0.102047487              | -0.01734816               |  0.01414666               | -0.065368738              | -0.12973470               | -0.03258076               | -0.057819789              | -0.085136366              | -0.08762304               | -0.05003171               | \n",
       "| Eosinophils               | -0.034222013              |  0.007538603              | -0.007610453              |  0.02250445               | -0.002669838              | -0.01267269               |  0.01926266               | -0.004099934              | -0.006889786              | ⋯                         |  0.002467249              |  0.03968204               |  0.04808722               |  0.014791031              |  0.01835545               |  0.01526813               |  0.008219769              | -0.016815433              | -0.04023631               | -0.03714241               | \n",
       "\n",
       "\n"
      ],
      "text/plain": [
       "  Term                      A01          A02          A03          A04        \n",
       "1 activated_Dendritic_cells -0.066754509  0.097384283 -0.072684444  0.08406037\n",
       "2 B_cells                   -0.003080459  0.018623922  0.022715570  0.02951553\n",
       "3 CD8_T_cells                0.095100512  0.099430527  0.094088306  0.07429195\n",
       "4 Citotoxic_cells            0.103809255  0.112686393  0.084147911  0.02977081\n",
       "5 Dendritic_cells           -0.176476428 -0.136052028 -0.175691922 -0.14513787\n",
       "6 Eosinophils               -0.034222013  0.007538603 -0.007610453  0.02250445\n",
       "  A05          A06         A07         A08          A09          ⋯ C06         \n",
       "1 -0.039156324 -0.03913688  0.03107886  0.047359206  0.009225672 ⋯ -0.138728449\n",
       "2 -0.010551928 -0.05771865  0.01858166 -0.033956971 -0.073086897 ⋯ -0.047671127\n",
       "3  0.093516971  0.08977499  0.05386297  0.059920747  0.082284801 ⋯  0.081629660\n",
       "4  0.037928174 -0.02408805 -0.06285071 -0.041938113 -0.103344902 ⋯ -0.066424407\n",
       "5 -0.110276254 -0.11966672 -0.14789081 -0.109404501 -0.114896146 ⋯ -0.102047487\n",
       "6 -0.002669838 -0.01267269  0.01926266 -0.004099934 -0.006889786 ⋯  0.002467249\n",
       "  C07         C08         C09          C10         C11         C12         \n",
       "1 -0.11743575 -0.09688468 -0.006450510 -0.11900309 -0.11655420 -0.173622562\n",
       "2  0.00381040 -0.04950963 -0.002100965  0.02356159  0.10275271  0.051442694\n",
       "3  0.09933864  0.10938170  0.084270861  0.06676323  0.09050137  0.104727427\n",
       "4 -0.02344524 -0.03938905 -0.053673465 -0.04709108  0.05630751  0.008552687\n",
       "5 -0.01734816  0.01414666 -0.065368738 -0.12973470 -0.03258076 -0.057819789\n",
       "6  0.03968204  0.04808722  0.014791031  0.01835545  0.01526813  0.008219769\n",
       "  D01          D02         D03        \n",
       "1 -0.139019418 -0.11683955 -0.12814512\n",
       "2 -0.005627768  0.02556495 -0.03113372\n",
       "3  0.091541657  0.10927883  0.09812421\n",
       "4 -0.007122433 -0.01273871 -0.06110341\n",
       "5 -0.085136366 -0.08762304 -0.05003171\n",
       "6 -0.016815433 -0.04023631 -0.03714241"
      ]
     },
     "metadata": {},
     "output_type": "display_data"
    }
   ],
   "source": [
    "head(bin_NES)"
   ]
  },
  {
   "cell_type": "markdown",
   "metadata": {},
   "source": [
    "### Save NES"
   ]
  },
  {
   "cell_type": "code",
   "execution_count": 16,
   "metadata": {},
   "outputs": [],
   "source": [
    "write.table(bin_NES,\n",
    "            file='../../Data/3/BindeaImmuneCells_TreatmentNaive_NES.txt',\n",
    "            sep='\\t',\n",
    "            row.names=F,\n",
    "            col.names=T)"
   ]
  },
  {
   "cell_type": "markdown",
   "metadata": {},
   "source": [
    "# End script"
   ]
  }
 ],
 "metadata": {
  "kernelspec": {
   "display_name": "R",
   "language": "R",
   "name": "ir"
  },
  "language_info": {
   "codemirror_mode": "r",
   "file_extension": ".r",
   "mimetype": "text/x-r-source",
   "name": "R",
   "pygments_lexer": "r",
   "version": "3.5.0"
  }
 },
 "nbformat": 4,
 "nbformat_minor": 2
}

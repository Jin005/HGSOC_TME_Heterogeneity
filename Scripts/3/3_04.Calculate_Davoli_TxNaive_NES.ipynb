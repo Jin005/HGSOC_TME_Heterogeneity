{
 "cells": [
  {
   "cell_type": "markdown",
   "metadata": {},
   "source": [
    "# Calculate normalised enrichment scores of Davoli gene sets"
   ]
  },
  {
   "cell_type": "markdown",
   "metadata": {},
   "source": [
    "Script related to figure 3a, 3b, s3c \n",
    "\n",
    "### Aim:\n",
    "- Calculate NES of Davoli Gene Sets"
   ]
  },
  {
   "cell_type": "code",
   "execution_count": 1,
   "metadata": {},
   "outputs": [
    {
     "data": {
      "text/plain": [
       "R version 3.5.0 (2018-04-23)\n",
       "Platform: x86_64-apple-darwin15.6.0 (64-bit)\n",
       "Running under: macOS High Sierra 10.13.6\n",
       "\n",
       "Matrix products: default\n",
       "BLAS: /Library/Frameworks/R.framework/Versions/3.5/Resources/lib/libRblas.0.dylib\n",
       "LAPACK: /Library/Frameworks/R.framework/Versions/3.5/Resources/lib/libRlapack.dylib\n",
       "\n",
       "locale:\n",
       "[1] C/UTF-8/C/C/C/C\n",
       "\n",
       "attached base packages:\n",
       "[1] stats     graphics  grDevices utils     datasets  methods   base     \n",
       "\n",
       "loaded via a namespace (and not attached):\n",
       " [1] compiler_3.5.0  IRdisplay_0.6.1 pbdZMQ_0.3-3    tools_3.5.0    \n",
       " [5] htmltools_0.3.6 base64enc_0.1-3 crayon_1.3.4    Rcpp_1.0.1     \n",
       " [9] uuid_0.1-2      IRkernel_0.8.14 jsonlite_1.6    digest_0.6.18  \n",
       "[13] repr_0.17       evaluate_0.13  "
      ]
     },
     "metadata": {},
     "output_type": "display_data"
    }
   ],
   "source": [
    "sessionInfo()"
   ]
  },
  {
   "cell_type": "markdown",
   "metadata": {},
   "source": [
    "## Load packages"
   ]
  },
  {
   "cell_type": "code",
   "execution_count": 1,
   "metadata": {},
   "outputs": [
    {
     "name": "stderr",
     "output_type": "stream",
     "text": [
      "Warning message:\n",
      "“package ‘GSVA’ was built under R version 3.5.1”\n",
      "Attaching package: ‘BBmisc’\n",
      "\n",
      "The following object is masked from ‘package:base’:\n",
      "\n",
      "    isFALSE\n",
      "\n"
     ]
    }
   ],
   "source": [
    "library(GSVA)\n",
    "library(BBmisc)\n",
    "library(nortest)"
   ]
  },
  {
   "cell_type": "code",
   "execution_count": 2,
   "metadata": {},
   "outputs": [],
   "source": [
    "setwd(\"~/git_repos/HGSOC_TME_Heterogeneity/Scripts/3/\")"
   ]
  },
  {
   "cell_type": "markdown",
   "metadata": {},
   "source": [
    "## Load expression data"
   ]
  },
  {
   "cell_type": "code",
   "execution_count": null,
   "metadata": {},
   "outputs": [],
   "source": [
    "mix <- \"../../Data/1/TreatmentNaive_log2exp_loess_norm.txt\""
   ]
  },
  {
   "cell_type": "code",
   "execution_count": 3,
   "metadata": {},
   "outputs": [],
   "source": [
    "data <- read.csv(mix,\n",
    "                 sep='\\t',\n",
    "                 header=T,\n",
    "                 row.names='Hugo_Symbol')"
   ]
  },
  {
   "cell_type": "code",
   "execution_count": 4,
   "metadata": {},
   "outputs": [
    {
     "data": {
      "text/html": [
       "<table>\n",
       "<thead><tr><th></th><th scope=col>A01</th><th scope=col>A02</th><th scope=col>A03</th><th scope=col>A04</th><th scope=col>A05</th><th scope=col>A06</th><th scope=col>A07</th><th scope=col>A08</th><th scope=col>A09</th><th scope=col>A10</th><th scope=col>⋯</th><th scope=col>C06</th><th scope=col>C07</th><th scope=col>C08</th><th scope=col>C09</th><th scope=col>C10</th><th scope=col>C11</th><th scope=col>C12</th><th scope=col>D01</th><th scope=col>D02</th><th scope=col>D03</th></tr></thead>\n",
       "<tbody>\n",
       "\t<tr><th scope=row>A1BG</th><td> 4.124711</td><td> 3.880633</td><td> 4.864973</td><td>4.167882 </td><td> 4.317845</td><td> 3.679057</td><td>4.092837 </td><td> 4.370571</td><td> 4.252637</td><td>4.174694 </td><td>⋯        </td><td>3.804537 </td><td>4.416981 </td><td>4.169014 </td><td>4.503313 </td><td>4.146333 </td><td>4.078398 </td><td> 4.011369</td><td>3.845128 </td><td> 3.600927</td><td>4.521857 </td></tr>\n",
       "\t<tr><th scope=row>A2BP1</th><td> 3.960924</td><td> 4.033715</td><td> 3.721251</td><td>3.916073 </td><td> 4.338194</td><td> 3.357396</td><td>3.872447 </td><td> 3.803388</td><td> 3.484735</td><td>4.427405 </td><td>⋯        </td><td>4.991068 </td><td>3.799913 </td><td>4.117883 </td><td>4.122134 </td><td>4.221760 </td><td>3.648326 </td><td> 3.675317</td><td>3.546925 </td><td> 3.788279</td><td>4.920841 </td></tr>\n",
       "\t<tr><th scope=row>A2M</th><td>12.603155</td><td>10.859838</td><td>12.612923</td><td>9.176999 </td><td>10.548790</td><td>11.840776</td><td>7.200547 </td><td>11.835658</td><td>11.535547</td><td>7.080118 </td><td>⋯        </td><td>9.061598 </td><td>9.189459 </td><td>8.844728 </td><td>7.464440 </td><td>6.726233 </td><td>9.265911 </td><td>10.740486</td><td>9.735582 </td><td>10.781599</td><td>8.734304 </td></tr>\n",
       "\t<tr><th scope=row>A2ML1</th><td> 3.945877</td><td> 4.000621</td><td> 3.767932</td><td>3.789729 </td><td> 3.543204</td><td> 3.805520</td><td>4.336280 </td><td> 4.031757</td><td> 4.166018</td><td>3.673146 </td><td>⋯        </td><td>4.231174 </td><td>3.871651 </td><td>3.287232 </td><td>3.721093 </td><td>3.723801 </td><td>3.884499 </td><td> 3.694111</td><td>3.937682 </td><td> 3.600471</td><td>3.402861 </td></tr>\n",
       "\t<tr><th scope=row>A4GALT</th><td> 3.597277</td><td> 3.863757</td><td> 4.051844</td><td>4.113169 </td><td> 3.975144</td><td> 3.991293</td><td>5.439960 </td><td> 4.696177</td><td> 4.171788</td><td>4.041633 </td><td>⋯        </td><td>4.183089 </td><td>4.699729 </td><td>4.019537 </td><td>3.739865 </td><td>4.591953 </td><td>4.997860 </td><td> 4.099630</td><td>5.001239 </td><td> 4.714710</td><td>4.145119 </td></tr>\n",
       "\t<tr><th scope=row>A4GNT</th><td> 3.714481</td><td> 3.593169</td><td> 3.241352</td><td>3.515850 </td><td> 3.364447</td><td> 3.767865</td><td>3.768695 </td><td> 3.163977</td><td> 3.423377</td><td>3.205154 </td><td>⋯        </td><td>3.896812 </td><td>3.915653 </td><td>3.351422 </td><td>3.719759 </td><td>3.641028 </td><td>3.114521 </td><td> 3.560199</td><td>3.539738 </td><td> 3.760903</td><td>3.479266 </td></tr>\n",
       "</tbody>\n",
       "</table>\n"
      ],
      "text/latex": [
       "\\begin{tabular}{r|llllllllllllllllllllllllllllllllllllll}\n",
       "  & A01 & A02 & A03 & A04 & A05 & A06 & A07 & A08 & A09 & A10 & ⋯ & C06 & C07 & C08 & C09 & C10 & C11 & C12 & D01 & D02 & D03\\\\\n",
       "\\hline\n",
       "\tA1BG &  4.124711 &  3.880633 &  4.864973 & 4.167882  &  4.317845 &  3.679057 & 4.092837  &  4.370571 &  4.252637 & 4.174694  & ⋯         & 3.804537  & 4.416981  & 4.169014  & 4.503313  & 4.146333  & 4.078398  &  4.011369 & 3.845128  &  3.600927 & 4.521857 \\\\\n",
       "\tA2BP1 &  3.960924 &  4.033715 &  3.721251 & 3.916073  &  4.338194 &  3.357396 & 3.872447  &  3.803388 &  3.484735 & 4.427405  & ⋯         & 4.991068  & 3.799913  & 4.117883  & 4.122134  & 4.221760  & 3.648326  &  3.675317 & 3.546925  &  3.788279 & 4.920841 \\\\\n",
       "\tA2M & 12.603155 & 10.859838 & 12.612923 & 9.176999  & 10.548790 & 11.840776 & 7.200547  & 11.835658 & 11.535547 & 7.080118  & ⋯         & 9.061598  & 9.189459  & 8.844728  & 7.464440  & 6.726233  & 9.265911  & 10.740486 & 9.735582  & 10.781599 & 8.734304 \\\\\n",
       "\tA2ML1 &  3.945877 &  4.000621 &  3.767932 & 3.789729  &  3.543204 &  3.805520 & 4.336280  &  4.031757 &  4.166018 & 3.673146  & ⋯         & 4.231174  & 3.871651  & 3.287232  & 3.721093  & 3.723801  & 3.884499  &  3.694111 & 3.937682  &  3.600471 & 3.402861 \\\\\n",
       "\tA4GALT &  3.597277 &  3.863757 &  4.051844 & 4.113169  &  3.975144 &  3.991293 & 5.439960  &  4.696177 &  4.171788 & 4.041633  & ⋯         & 4.183089  & 4.699729  & 4.019537  & 3.739865  & 4.591953  & 4.997860  &  4.099630 & 5.001239  &  4.714710 & 4.145119 \\\\\n",
       "\tA4GNT &  3.714481 &  3.593169 &  3.241352 & 3.515850  &  3.364447 &  3.767865 & 3.768695  &  3.163977 &  3.423377 & 3.205154  & ⋯         & 3.896812  & 3.915653  & 3.351422  & 3.719759  & 3.641028  & 3.114521  &  3.560199 & 3.539738  &  3.760903 & 3.479266 \\\\\n",
       "\\end{tabular}\n"
      ],
      "text/markdown": [
       "\n",
       "| <!--/--> | A01 | A02 | A03 | A04 | A05 | A06 | A07 | A08 | A09 | A10 | ⋯ | C06 | C07 | C08 | C09 | C10 | C11 | C12 | D01 | D02 | D03 | \n",
       "|---|---|---|---|---|---|\n",
       "| A1BG |  4.124711 |  3.880633 |  4.864973 | 4.167882  |  4.317845 |  3.679057 | 4.092837  |  4.370571 |  4.252637 | 4.174694  | ⋯         | 3.804537  | 4.416981  | 4.169014  | 4.503313  | 4.146333  | 4.078398  |  4.011369 | 3.845128  |  3.600927 | 4.521857  | \n",
       "| A2BP1 |  3.960924 |  4.033715 |  3.721251 | 3.916073  |  4.338194 |  3.357396 | 3.872447  |  3.803388 |  3.484735 | 4.427405  | ⋯         | 4.991068  | 3.799913  | 4.117883  | 4.122134  | 4.221760  | 3.648326  |  3.675317 | 3.546925  |  3.788279 | 4.920841  | \n",
       "| A2M | 12.603155 | 10.859838 | 12.612923 | 9.176999  | 10.548790 | 11.840776 | 7.200547  | 11.835658 | 11.535547 | 7.080118  | ⋯         | 9.061598  | 9.189459  | 8.844728  | 7.464440  | 6.726233  | 9.265911  | 10.740486 | 9.735582  | 10.781599 | 8.734304  | \n",
       "| A2ML1 |  3.945877 |  4.000621 |  3.767932 | 3.789729  |  3.543204 |  3.805520 | 4.336280  |  4.031757 |  4.166018 | 3.673146  | ⋯         | 4.231174  | 3.871651  | 3.287232  | 3.721093  | 3.723801  | 3.884499  |  3.694111 | 3.937682  |  3.600471 | 3.402861  | \n",
       "| A4GALT |  3.597277 |  3.863757 |  4.051844 | 4.113169  |  3.975144 |  3.991293 | 5.439960  |  4.696177 |  4.171788 | 4.041633  | ⋯         | 4.183089  | 4.699729  | 4.019537  | 3.739865  | 4.591953  | 4.997860  |  4.099630 | 5.001239  |  4.714710 | 4.145119  | \n",
       "| A4GNT |  3.714481 |  3.593169 |  3.241352 | 3.515850  |  3.364447 |  3.767865 | 3.768695  |  3.163977 |  3.423377 | 3.205154  | ⋯         | 3.896812  | 3.915653  | 3.351422  | 3.719759  | 3.641028  | 3.114521  |  3.560199 | 3.539738  |  3.760903 | 3.479266  | \n",
       "\n",
       "\n"
      ],
      "text/plain": [
       "       A01       A02       A03       A04      A05       A06       A07     \n",
       "A1BG    4.124711  3.880633  4.864973 4.167882  4.317845  3.679057 4.092837\n",
       "A2BP1   3.960924  4.033715  3.721251 3.916073  4.338194  3.357396 3.872447\n",
       "A2M    12.603155 10.859838 12.612923 9.176999 10.548790 11.840776 7.200547\n",
       "A2ML1   3.945877  4.000621  3.767932 3.789729  3.543204  3.805520 4.336280\n",
       "A4GALT  3.597277  3.863757  4.051844 4.113169  3.975144  3.991293 5.439960\n",
       "A4GNT   3.714481  3.593169  3.241352 3.515850  3.364447  3.767865 3.768695\n",
       "       A08       A09       A10      ⋯ C06      C07      C08      C09     \n",
       "A1BG    4.370571  4.252637 4.174694 ⋯ 3.804537 4.416981 4.169014 4.503313\n",
       "A2BP1   3.803388  3.484735 4.427405 ⋯ 4.991068 3.799913 4.117883 4.122134\n",
       "A2M    11.835658 11.535547 7.080118 ⋯ 9.061598 9.189459 8.844728 7.464440\n",
       "A2ML1   4.031757  4.166018 3.673146 ⋯ 4.231174 3.871651 3.287232 3.721093\n",
       "A4GALT  4.696177  4.171788 4.041633 ⋯ 4.183089 4.699729 4.019537 3.739865\n",
       "A4GNT   3.163977  3.423377 3.205154 ⋯ 3.896812 3.915653 3.351422 3.719759\n",
       "       C10      C11      C12       D01      D02       D03     \n",
       "A1BG   4.146333 4.078398  4.011369 3.845128  3.600927 4.521857\n",
       "A2BP1  4.221760 3.648326  3.675317 3.546925  3.788279 4.920841\n",
       "A2M    6.726233 9.265911 10.740486 9.735582 10.781599 8.734304\n",
       "A2ML1  3.723801 3.884499  3.694111 3.937682  3.600471 3.402861\n",
       "A4GALT 4.591953 4.997860  4.099630 5.001239  4.714710 4.145119\n",
       "A4GNT  3.641028 3.114521  3.560199 3.539738  3.760903 3.479266"
      ]
     },
     "metadata": {},
     "output_type": "display_data"
    }
   ],
   "source": [
    "head(data)"
   ]
  },
  {
   "cell_type": "code",
   "execution_count": 5,
   "metadata": {},
   "outputs": [],
   "source": [
    "data_mtx <- as.matrix(data)"
   ]
  },
  {
   "cell_type": "markdown",
   "metadata": {},
   "source": [
    "## Load Davoli gene sets"
   ]
  },
  {
   "cell_type": "code",
   "execution_count": 6,
   "metadata": {},
   "outputs": [],
   "source": [
    "Davoli_GeneSets <- read.csv('../../Data/3/DavoliImmuneCells_GeneSets.txt',\n",
    "                            sep='\\t',\n",
    "                            header=T)"
   ]
  },
  {
   "cell_type": "code",
   "execution_count": 7,
   "metadata": {},
   "outputs": [
    {
     "data": {
      "text/html": [
       "<table>\n",
       "<thead><tr><th scope=col>CD4_mature</th><th scope=col>CD8_effector</th><th scope=col>NK_cells</th><th scope=col>B_cells</th><th scope=col>T_regs</th><th scope=col>Dendritics</th><th scope=col>CD8_effector_NK_cells</th><th scope=col>Macrophages</th><th scope=col>Macrophages_M2</th><th scope=col>Macrophages_M1</th></tr></thead>\n",
       "<tbody>\n",
       "\t<tr><td>IGFBP4  </td><td>GZMK    </td><td>NKG7    </td><td>BANK1   </td><td>IL2RA   </td><td>NR4A3   </td><td>NKG7    </td><td>CD5L    </td><td>HRH1    </td><td>CD40    </td></tr>\n",
       "\t<tr><td>ITM2A   </td><td>CD3E    </td><td>GZMA    </td><td>CD79A   </td><td>FOXP3   </td><td>HAVCR2  </td><td>CCL5    </td><td>FCGR3A  </td><td>NPL     </td><td>CXCL10  </td></tr>\n",
       "\t<tr><td>AMIGO2  </td><td>CD3G    </td><td>EOMES   </td><td>CD55    </td><td>CTLA4   </td><td>KMO     </td><td>KLRK1   </td><td>ITGB5   </td><td>PDCD1LG2</td><td>CXCL11  </td></tr>\n",
       "\t<tr><td>TRAT1   </td><td>CXCR3   </td><td>SAMD3   </td><td>CD19    </td><td>SLC35D1 </td><td>DNASE1L3</td><td>CCR5    </td><td>MERTK   </td><td>RENBP   </td><td>CXCL9   </td></tr>\n",
       "\t<tr><td>CD40LG  </td><td>CD3D    </td><td>TBX21   </td><td>CD79B   </td><td>GDPD3   </td><td>ANPEP   </td><td>CXCR6   </td><td>PILRA   </td><td>CFP     </td><td>SLAMF1  </td></tr>\n",
       "\t<tr><td>ICOS    </td><td>BCL11B  </td><td>KLRK1   </td><td>CXCR5   </td><td>CISH    </td><td>CXCL16  </td><td>CRTAM   </td><td>CCL8    </td><td>C1QC    </td><td>TNIP3   </td></tr>\n",
       "</tbody>\n",
       "</table>\n"
      ],
      "text/latex": [
       "\\begin{tabular}{r|llllllllll}\n",
       " CD4\\_mature & CD8\\_effector & NK\\_cells & B\\_cells & T\\_regs & Dendritics & CD8\\_effector\\_NK\\_cells & Macrophages & Macrophages\\_M2 & Macrophages\\_M1\\\\\n",
       "\\hline\n",
       "\t IGFBP4   & GZMK     & NKG7     & BANK1    & IL2RA    & NR4A3    & NKG7     & CD5L     & HRH1     & CD40    \\\\\n",
       "\t ITM2A    & CD3E     & GZMA     & CD79A    & FOXP3    & HAVCR2   & CCL5     & FCGR3A   & NPL      & CXCL10  \\\\\n",
       "\t AMIGO2   & CD3G     & EOMES    & CD55     & CTLA4    & KMO      & KLRK1    & ITGB5    & PDCD1LG2 & CXCL11  \\\\\n",
       "\t TRAT1    & CXCR3    & SAMD3    & CD19     & SLC35D1  & DNASE1L3 & CCR5     & MERTK    & RENBP    & CXCL9   \\\\\n",
       "\t CD40LG   & CD3D     & TBX21    & CD79B    & GDPD3    & ANPEP    & CXCR6    & PILRA    & CFP      & SLAMF1  \\\\\n",
       "\t ICOS     & BCL11B   & KLRK1    & CXCR5    & CISH     & CXCL16   & CRTAM    & CCL8     & C1QC     & TNIP3   \\\\\n",
       "\\end{tabular}\n"
      ],
      "text/markdown": [
       "\n",
       "CD4_mature | CD8_effector | NK_cells | B_cells | T_regs | Dendritics | CD8_effector_NK_cells | Macrophages | Macrophages_M2 | Macrophages_M1 | \n",
       "|---|---|---|---|---|---|\n",
       "| IGFBP4   | GZMK     | NKG7     | BANK1    | IL2RA    | NR4A3    | NKG7     | CD5L     | HRH1     | CD40     | \n",
       "| ITM2A    | CD3E     | GZMA     | CD79A    | FOXP3    | HAVCR2   | CCL5     | FCGR3A   | NPL      | CXCL10   | \n",
       "| AMIGO2   | CD3G     | EOMES    | CD55     | CTLA4    | KMO      | KLRK1    | ITGB5    | PDCD1LG2 | CXCL11   | \n",
       "| TRAT1    | CXCR3    | SAMD3    | CD19     | SLC35D1  | DNASE1L3 | CCR5     | MERTK    | RENBP    | CXCL9    | \n",
       "| CD40LG   | CD3D     | TBX21    | CD79B    | GDPD3    | ANPEP    | CXCR6    | PILRA    | CFP      | SLAMF1   | \n",
       "| ICOS     | BCL11B   | KLRK1    | CXCR5    | CISH     | CXCL16   | CRTAM    | CCL8     | C1QC     | TNIP3    | \n",
       "\n",
       "\n"
      ],
      "text/plain": [
       "  CD4_mature CD8_effector NK_cells B_cells T_regs  Dendritics\n",
       "1 IGFBP4     GZMK         NKG7     BANK1   IL2RA   NR4A3     \n",
       "2 ITM2A      CD3E         GZMA     CD79A   FOXP3   HAVCR2    \n",
       "3 AMIGO2     CD3G         EOMES    CD55    CTLA4   KMO       \n",
       "4 TRAT1      CXCR3        SAMD3    CD19    SLC35D1 DNASE1L3  \n",
       "5 CD40LG     CD3D         TBX21    CD79B   GDPD3   ANPEP     \n",
       "6 ICOS       BCL11B       KLRK1    CXCR5   CISH    CXCL16    \n",
       "  CD8_effector_NK_cells Macrophages Macrophages_M2 Macrophages_M1\n",
       "1 NKG7                  CD5L        HRH1           CD40          \n",
       "2 CCL5                  FCGR3A      NPL            CXCL10        \n",
       "3 KLRK1                 ITGB5       PDCD1LG2       CXCL11        \n",
       "4 CCR5                  MERTK       RENBP          CXCL9         \n",
       "5 CXCR6                 PILRA       CFP            SLAMF1        \n",
       "6 CRTAM                 CCL8        C1QC           TNIP3         "
      ]
     },
     "metadata": {},
     "output_type": "display_data"
    }
   ],
   "source": [
    "head(Davoli_GeneSets)"
   ]
  },
  {
   "cell_type": "code",
   "execution_count": 8,
   "metadata": {},
   "outputs": [],
   "source": [
    "Davoli_GeneSets <- convertRowsToList(t(Davoli_GeneSets))"
   ]
  },
  {
   "cell_type": "markdown",
   "metadata": {},
   "source": [
    "## Run ssGSEA"
   ]
  },
  {
   "cell_type": "code",
   "execution_count": 9,
   "metadata": {},
   "outputs": [
    {
     "name": "stdout",
     "output_type": "stream",
     "text": [
      "Estimating ssGSEA scores for 10 gene sets.\n",
      "  |                                                                      |   0%Using parallel with 4 cores\n",
      "  |======================================================================| 100%\n"
     ]
    }
   ],
   "source": [
    "dav_NES <- gsva(data_mtx,\n",
    "                Davoli_GeneSets,\n",
    "                method='ssgsea',\n",
    "                min.sz=0,\n",
    "                max.sz=1000,\n",
    "                ssgsea.norm=T)"
   ]
  },
  {
   "cell_type": "code",
   "execution_count": 10,
   "metadata": {},
   "outputs": [],
   "source": [
    "dav_NES <- data.frame(\"Term\"=rownames(dav_NES),\n",
    "                      dav_NES)\n",
    "\n",
    "rownames(dav_NES) <- NULL"
   ]
  },
  {
   "cell_type": "code",
   "execution_count": 11,
   "metadata": {},
   "outputs": [
    {
     "data": {
      "text/html": [
       "<table>\n",
       "<thead><tr><th scope=col>Term</th><th scope=col>A01</th><th scope=col>A02</th><th scope=col>A03</th><th scope=col>A04</th><th scope=col>A05</th><th scope=col>A06</th><th scope=col>A07</th><th scope=col>A08</th><th scope=col>A09</th><th scope=col>⋯</th><th scope=col>C06</th><th scope=col>C07</th><th scope=col>C08</th><th scope=col>C09</th><th scope=col>C10</th><th scope=col>C11</th><th scope=col>C12</th><th scope=col>D01</th><th scope=col>D02</th><th scope=col>D03</th></tr></thead>\n",
       "<tbody>\n",
       "\t<tr><td>CD4_mature  </td><td> 0.03171330 </td><td> 0.08534780 </td><td> 0.05925228 </td><td>-0.1841427  </td><td>-0.08385481 </td><td>-0.08344989 </td><td>-0.26511859 </td><td>-0.1338270  </td><td>-0.1496246  </td><td>⋯           </td><td>-0.12149324 </td><td> 0.08033915 </td><td> 0.06379554 </td><td>-0.1675156  </td><td>-0.2053709  </td><td>-0.01724997 </td><td>-0.05501176 </td><td>-0.06964093 </td><td>-0.02996956 </td><td>-0.1889748  </td></tr>\n",
       "\t<tr><td>CD8_effector</td><td> 0.05787009 </td><td> 0.32779054 </td><td> 0.16651728 </td><td>-0.1832590  </td><td>-0.11833173 </td><td>-0.13948994 </td><td>-0.13488185 </td><td>-0.2323746  </td><td>-0.3291204  </td><td>⋯           </td><td>-0.19956285 </td><td>-0.08498313 </td><td>-0.19995571 </td><td>-0.1321198  </td><td>-0.1478342  </td><td> 0.22028637 </td><td> 0.24264800 </td><td> 0.02341049 </td><td> 0.11291349 </td><td>-0.2543325  </td></tr>\n",
       "\t<tr><td>NK_cells    </td><td> 0.07118814 </td><td> 0.03306636 </td><td> 0.02472998 </td><td>-0.1440768  </td><td>-0.09349774 </td><td>-0.17915590 </td><td>-0.33886182 </td><td>-0.1722729  </td><td>-0.4669407  </td><td>⋯           </td><td>-0.21812813 </td><td>-0.20588056 </td><td>-0.34180988 </td><td>-0.1406785  </td><td>-0.1624774  </td><td> 0.03076433 </td><td>-0.02370745 </td><td>-0.18636158 </td><td>-0.15237634 </td><td>-0.2897320  </td></tr>\n",
       "\t<tr><td>B_cells     </td><td> 0.26910529 </td><td> 0.24726240 </td><td> 0.38066852 </td><td> 0.2189101  </td><td> 0.28200296 </td><td> 0.26059811 </td><td> 0.22956133 </td><td> 0.1858721  </td><td> 0.1244463  </td><td>⋯           </td><td> 0.24388547 </td><td> 0.19656176 </td><td> 0.19584711 </td><td> 0.2552737  </td><td> 0.1705388  </td><td> 0.32052432 </td><td> 0.20293988 </td><td> 0.15616868 </td><td> 0.19447470 </td><td> 0.2103323  </td></tr>\n",
       "\t<tr><td>T_regs      </td><td>-0.40859472 </td><td>-0.25067078 </td><td>-0.43183542 </td><td>-0.3210680  </td><td>-0.27625239 </td><td>-0.39934430 </td><td>-0.53016252 </td><td>-0.4562561  </td><td>-0.4193890  </td><td>⋯           </td><td>-0.32435973 </td><td>-0.20348069 </td><td>-0.32820624 </td><td>-0.2972649  </td><td>-0.4004642  </td><td>-0.35340494 </td><td>-0.43038203 </td><td>-0.32493302 </td><td>-0.33048827 </td><td>-0.3893563  </td></tr>\n",
       "\t<tr><td>Dendritics  </td><td> 0.27761069 </td><td> 0.32888577 </td><td> 0.39592483 </td><td> 0.3245376  </td><td> 0.28297402 </td><td> 0.16079259 </td><td> 0.08438121 </td><td> 0.1875269  </td><td> 0.2278258  </td><td>⋯           </td><td> 0.09318389 </td><td> 0.32864956 </td><td> 0.22305740 </td><td> 0.2103521  </td><td> 0.2590008  </td><td> 0.39835298 </td><td> 0.22869723 </td><td> 0.29998321 </td><td> 0.19822269 </td><td> 0.1174101  </td></tr>\n",
       "</tbody>\n",
       "</table>\n"
      ],
      "text/latex": [
       "\\begin{tabular}{r|lllllllllllllllllllllllllllllllllllllll}\n",
       " Term & A01 & A02 & A03 & A04 & A05 & A06 & A07 & A08 & A09 & ⋯ & C06 & C07 & C08 & C09 & C10 & C11 & C12 & D01 & D02 & D03\\\\\n",
       "\\hline\n",
       "\t CD4\\_mature   &  0.03171330    &  0.08534780    &  0.05925228    & -0.1841427     & -0.08385481    & -0.08344989    & -0.26511859    & -0.1338270     & -0.1496246     & ⋯              & -0.12149324    &  0.08033915    &  0.06379554    & -0.1675156     & -0.2053709     & -0.01724997    & -0.05501176    & -0.06964093    & -0.02996956    & -0.1889748    \\\\\n",
       "\t CD8\\_effector &  0.05787009    &  0.32779054    &  0.16651728    & -0.1832590     & -0.11833173    & -0.13948994    & -0.13488185    & -0.2323746     & -0.3291204     & ⋯              & -0.19956285    & -0.08498313    & -0.19995571    & -0.1321198     & -0.1478342     &  0.22028637    &  0.24264800    &  0.02341049    &  0.11291349    & -0.2543325    \\\\\n",
       "\t NK\\_cells     &  0.07118814    &  0.03306636    &  0.02472998    & -0.1440768     & -0.09349774    & -0.17915590    & -0.33886182    & -0.1722729     & -0.4669407     & ⋯              & -0.21812813    & -0.20588056    & -0.34180988    & -0.1406785     & -0.1624774     &  0.03076433    & -0.02370745    & -0.18636158    & -0.15237634    & -0.2897320    \\\\\n",
       "\t B\\_cells      &  0.26910529    &  0.24726240    &  0.38066852    &  0.2189101     &  0.28200296    &  0.26059811    &  0.22956133    &  0.1858721     &  0.1244463     & ⋯              &  0.24388547    &  0.19656176    &  0.19584711    &  0.2552737     &  0.1705388     &  0.32052432    &  0.20293988    &  0.15616868    &  0.19447470    &  0.2103323    \\\\\n",
       "\t T\\_regs       & -0.40859472    & -0.25067078    & -0.43183542    & -0.3210680     & -0.27625239    & -0.39934430    & -0.53016252    & -0.4562561     & -0.4193890     & ⋯              & -0.32435973    & -0.20348069    & -0.32820624    & -0.2972649     & -0.4004642     & -0.35340494    & -0.43038203    & -0.32493302    & -0.33048827    & -0.3893563    \\\\\n",
       "\t Dendritics   &  0.27761069  &  0.32888577  &  0.39592483  &  0.3245376   &  0.28297402  &  0.16079259  &  0.08438121  &  0.1875269   &  0.2278258   & ⋯            &  0.09318389  &  0.32864956  &  0.22305740  &  0.2103521   &  0.2590008   &  0.39835298  &  0.22869723  &  0.29998321  &  0.19822269  &  0.1174101  \\\\\n",
       "\\end{tabular}\n"
      ],
      "text/markdown": [
       "\n",
       "Term | A01 | A02 | A03 | A04 | A05 | A06 | A07 | A08 | A09 | ⋯ | C06 | C07 | C08 | C09 | C10 | C11 | C12 | D01 | D02 | D03 | \n",
       "|---|---|---|---|---|---|\n",
       "| CD4_mature   |  0.03171330  |  0.08534780  |  0.05925228  | -0.1841427   | -0.08385481  | -0.08344989  | -0.26511859  | -0.1338270   | -0.1496246   | ⋯            | -0.12149324  |  0.08033915  |  0.06379554  | -0.1675156   | -0.2053709   | -0.01724997  | -0.05501176  | -0.06964093  | -0.02996956  | -0.1889748   | \n",
       "| CD8_effector |  0.05787009  |  0.32779054  |  0.16651728  | -0.1832590   | -0.11833173  | -0.13948994  | -0.13488185  | -0.2323746   | -0.3291204   | ⋯            | -0.19956285  | -0.08498313  | -0.19995571  | -0.1321198   | -0.1478342   |  0.22028637  |  0.24264800  |  0.02341049  |  0.11291349  | -0.2543325   | \n",
       "| NK_cells     |  0.07118814  |  0.03306636  |  0.02472998  | -0.1440768   | -0.09349774  | -0.17915590  | -0.33886182  | -0.1722729   | -0.4669407   | ⋯            | -0.21812813  | -0.20588056  | -0.34180988  | -0.1406785   | -0.1624774   |  0.03076433  | -0.02370745  | -0.18636158  | -0.15237634  | -0.2897320   | \n",
       "| B_cells      |  0.26910529  |  0.24726240  |  0.38066852  |  0.2189101   |  0.28200296  |  0.26059811  |  0.22956133  |  0.1858721   |  0.1244463   | ⋯            |  0.24388547  |  0.19656176  |  0.19584711  |  0.2552737   |  0.1705388   |  0.32052432  |  0.20293988  |  0.15616868  |  0.19447470  |  0.2103323   | \n",
       "| T_regs       | -0.40859472  | -0.25067078  | -0.43183542  | -0.3210680   | -0.27625239  | -0.39934430  | -0.53016252  | -0.4562561   | -0.4193890   | ⋯            | -0.32435973  | -0.20348069  | -0.32820624  | -0.2972649   | -0.4004642   | -0.35340494  | -0.43038203  | -0.32493302  | -0.33048827  | -0.3893563   | \n",
       "| Dendritics   |  0.27761069  |  0.32888577  |  0.39592483  |  0.3245376   |  0.28297402  |  0.16079259  |  0.08438121  |  0.1875269   |  0.2278258   | ⋯            |  0.09318389  |  0.32864956  |  0.22305740  |  0.2103521   |  0.2590008   |  0.39835298  |  0.22869723  |  0.29998321  |  0.19822269  |  0.1174101   | \n",
       "\n",
       "\n"
      ],
      "text/plain": [
       "  Term         A01         A02         A03         A04        A05        \n",
       "1 CD4_mature    0.03171330  0.08534780  0.05925228 -0.1841427 -0.08385481\n",
       "2 CD8_effector  0.05787009  0.32779054  0.16651728 -0.1832590 -0.11833173\n",
       "3 NK_cells      0.07118814  0.03306636  0.02472998 -0.1440768 -0.09349774\n",
       "4 B_cells       0.26910529  0.24726240  0.38066852  0.2189101  0.28200296\n",
       "5 T_regs       -0.40859472 -0.25067078 -0.43183542 -0.3210680 -0.27625239\n",
       "6 Dendritics    0.27761069  0.32888577  0.39592483  0.3245376  0.28297402\n",
       "  A06         A07         A08        A09        ⋯ C06         C07        \n",
       "1 -0.08344989 -0.26511859 -0.1338270 -0.1496246 ⋯ -0.12149324  0.08033915\n",
       "2 -0.13948994 -0.13488185 -0.2323746 -0.3291204 ⋯ -0.19956285 -0.08498313\n",
       "3 -0.17915590 -0.33886182 -0.1722729 -0.4669407 ⋯ -0.21812813 -0.20588056\n",
       "4  0.26059811  0.22956133  0.1858721  0.1244463 ⋯  0.24388547  0.19656176\n",
       "5 -0.39934430 -0.53016252 -0.4562561 -0.4193890 ⋯ -0.32435973 -0.20348069\n",
       "6  0.16079259  0.08438121  0.1875269  0.2278258 ⋯  0.09318389  0.32864956\n",
       "  C08         C09        C10        C11         C12         D01        \n",
       "1  0.06379554 -0.1675156 -0.2053709 -0.01724997 -0.05501176 -0.06964093\n",
       "2 -0.19995571 -0.1321198 -0.1478342  0.22028637  0.24264800  0.02341049\n",
       "3 -0.34180988 -0.1406785 -0.1624774  0.03076433 -0.02370745 -0.18636158\n",
       "4  0.19584711  0.2552737  0.1705388  0.32052432  0.20293988  0.15616868\n",
       "5 -0.32820624 -0.2972649 -0.4004642 -0.35340494 -0.43038203 -0.32493302\n",
       "6  0.22305740  0.2103521  0.2590008  0.39835298  0.22869723  0.29998321\n",
       "  D02         D03       \n",
       "1 -0.02996956 -0.1889748\n",
       "2  0.11291349 -0.2543325\n",
       "3 -0.15237634 -0.2897320\n",
       "4  0.19447470  0.2103323\n",
       "5 -0.33048827 -0.3893563\n",
       "6  0.19822269  0.1174101"
      ]
     },
     "metadata": {},
     "output_type": "display_data"
    }
   ],
   "source": [
    "head(dav_NES)"
   ]
  },
  {
   "cell_type": "code",
   "execution_count": 12,
   "metadata": {},
   "outputs": [],
   "source": [
    "write.table(dav_NES,\n",
    "            file='../../Data/3/DavoliImmuneCells_TreatmentNaive_NES.txt',\n",
    "            sep='\\t',\n",
    "            row.names=F,\n",
    "            col.names=T)"
   ]
  },
  {
   "cell_type": "markdown",
   "metadata": {},
   "source": [
    "# End script"
   ]
  }
 ],
 "metadata": {
  "kernelspec": {
   "display_name": "R",
   "language": "R",
   "name": "ir"
  },
  "language_info": {
   "codemirror_mode": "r",
   "file_extension": ".r",
   "mimetype": "text/x-r-source",
   "name": "R",
   "pygments_lexer": "r",
   "version": "3.5.0"
  }
 },
 "nbformat": 4,
 "nbformat_minor": 2
}

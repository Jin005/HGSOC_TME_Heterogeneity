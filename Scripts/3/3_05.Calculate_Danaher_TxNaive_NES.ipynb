{
 "cells": [
  {
   "cell_type": "markdown",
   "metadata": {},
   "source": [
    "# Calculate normalised enrichment scores of Danaher gene sets"
   ]
  },
  {
   "cell_type": "markdown",
   "metadata": {},
   "source": [
    "Script related to figure 3a, 3b, s3c \n",
    "\n",
    "### Aim:\n",
    "- Calculate NES of Danaher Gene Sets"
   ]
  },
  {
   "cell_type": "code",
   "execution_count": 1,
   "metadata": {},
   "outputs": [
    {
     "data": {
      "text/plain": [
       "R version 3.5.0 (2018-04-23)\n",
       "Platform: x86_64-apple-darwin15.6.0 (64-bit)\n",
       "Running under: macOS High Sierra 10.13.6\n",
       "\n",
       "Matrix products: default\n",
       "BLAS: /Library/Frameworks/R.framework/Versions/3.5/Resources/lib/libRblas.0.dylib\n",
       "LAPACK: /Library/Frameworks/R.framework/Versions/3.5/Resources/lib/libRlapack.dylib\n",
       "\n",
       "locale:\n",
       "[1] C/UTF-8/C/C/C/C\n",
       "\n",
       "attached base packages:\n",
       "[1] stats     graphics  grDevices utils     datasets  methods   base     \n",
       "\n",
       "loaded via a namespace (and not attached):\n",
       " [1] compiler_3.5.0  IRdisplay_0.6.1 pbdZMQ_0.3-3    tools_3.5.0    \n",
       " [5] htmltools_0.3.6 base64enc_0.1-3 crayon_1.3.4    Rcpp_1.0.1     \n",
       " [9] uuid_0.1-2      IRkernel_0.8.14 jsonlite_1.6    digest_0.6.18  \n",
       "[13] repr_0.17       evaluate_0.13  "
      ]
     },
     "metadata": {},
     "output_type": "display_data"
    }
   ],
   "source": [
    "sessionInfo()"
   ]
  },
  {
   "cell_type": "markdown",
   "metadata": {},
   "source": [
    "## Load packages"
   ]
  },
  {
   "cell_type": "code",
   "execution_count": 1,
   "metadata": {},
   "outputs": [
    {
     "name": "stderr",
     "output_type": "stream",
     "text": [
      "Warning message:\n",
      "“package ‘GSVA’ was built under R version 3.5.1”\n",
      "Attaching package: ‘BBmisc’\n",
      "\n",
      "The following object is masked from ‘package:base’:\n",
      "\n",
      "    isFALSE\n",
      "\n"
     ]
    }
   ],
   "source": [
    "library(GSVA)\n",
    "library(BBmisc)\n",
    "library(nortest)"
   ]
  },
  {
   "cell_type": "code",
   "execution_count": 2,
   "metadata": {},
   "outputs": [],
   "source": [
    "setwd(\"~/git_repos/HGSOC_TME_Heterogeneity/Scripts/3/\")"
   ]
  },
  {
   "cell_type": "markdown",
   "metadata": {},
   "source": [
    "## Load expression data"
   ]
  },
  {
   "cell_type": "code",
   "execution_count": null,
   "metadata": {},
   "outputs": [],
   "source": [
    "mix <- \"../../Data/1/TreatmentNaive_log2exp_loess_norm.txt\""
   ]
  },
  {
   "cell_type": "code",
   "execution_count": 3,
   "metadata": {},
   "outputs": [],
   "source": [
    "data <- read.csv(mix,\n",
    "                 sep='\\t',\n",
    "                 header=T,\n",
    "                 row.names='Hugo_Symbol')"
   ]
  },
  {
   "cell_type": "code",
   "execution_count": 4,
   "metadata": {},
   "outputs": [
    {
     "data": {
      "text/html": [
       "<table>\n",
       "<thead><tr><th></th><th scope=col>A01</th><th scope=col>A02</th><th scope=col>A03</th><th scope=col>A04</th><th scope=col>A05</th><th scope=col>A06</th><th scope=col>A07</th><th scope=col>A08</th><th scope=col>A09</th><th scope=col>A10</th><th scope=col>⋯</th><th scope=col>C06</th><th scope=col>C07</th><th scope=col>C08</th><th scope=col>C09</th><th scope=col>C10</th><th scope=col>C11</th><th scope=col>C12</th><th scope=col>D01</th><th scope=col>D02</th><th scope=col>D03</th></tr></thead>\n",
       "<tbody>\n",
       "\t<tr><th scope=row>A1BG</th><td> 4.124711</td><td> 3.880633</td><td> 4.864973</td><td>4.167882 </td><td> 4.317845</td><td> 3.679057</td><td>4.092837 </td><td> 4.370571</td><td> 4.252637</td><td>4.174694 </td><td>⋯        </td><td>3.804537 </td><td>4.416981 </td><td>4.169014 </td><td>4.503313 </td><td>4.146333 </td><td>4.078398 </td><td> 4.011369</td><td>3.845128 </td><td> 3.600927</td><td>4.521857 </td></tr>\n",
       "\t<tr><th scope=row>A2BP1</th><td> 3.960924</td><td> 4.033715</td><td> 3.721251</td><td>3.916073 </td><td> 4.338194</td><td> 3.357396</td><td>3.872447 </td><td> 3.803388</td><td> 3.484735</td><td>4.427405 </td><td>⋯        </td><td>4.991068 </td><td>3.799913 </td><td>4.117883 </td><td>4.122134 </td><td>4.221760 </td><td>3.648326 </td><td> 3.675317</td><td>3.546925 </td><td> 3.788279</td><td>4.920841 </td></tr>\n",
       "\t<tr><th scope=row>A2M</th><td>12.603155</td><td>10.859838</td><td>12.612923</td><td>9.176999 </td><td>10.548790</td><td>11.840776</td><td>7.200547 </td><td>11.835658</td><td>11.535547</td><td>7.080118 </td><td>⋯        </td><td>9.061598 </td><td>9.189459 </td><td>8.844728 </td><td>7.464440 </td><td>6.726233 </td><td>9.265911 </td><td>10.740486</td><td>9.735582 </td><td>10.781599</td><td>8.734304 </td></tr>\n",
       "\t<tr><th scope=row>A2ML1</th><td> 3.945877</td><td> 4.000621</td><td> 3.767932</td><td>3.789729 </td><td> 3.543204</td><td> 3.805520</td><td>4.336280 </td><td> 4.031757</td><td> 4.166018</td><td>3.673146 </td><td>⋯        </td><td>4.231174 </td><td>3.871651 </td><td>3.287232 </td><td>3.721093 </td><td>3.723801 </td><td>3.884499 </td><td> 3.694111</td><td>3.937682 </td><td> 3.600471</td><td>3.402861 </td></tr>\n",
       "\t<tr><th scope=row>A4GALT</th><td> 3.597277</td><td> 3.863757</td><td> 4.051844</td><td>4.113169 </td><td> 3.975144</td><td> 3.991293</td><td>5.439960 </td><td> 4.696177</td><td> 4.171788</td><td>4.041633 </td><td>⋯        </td><td>4.183089 </td><td>4.699729 </td><td>4.019537 </td><td>3.739865 </td><td>4.591953 </td><td>4.997860 </td><td> 4.099630</td><td>5.001239 </td><td> 4.714710</td><td>4.145119 </td></tr>\n",
       "\t<tr><th scope=row>A4GNT</th><td> 3.714481</td><td> 3.593169</td><td> 3.241352</td><td>3.515850 </td><td> 3.364447</td><td> 3.767865</td><td>3.768695 </td><td> 3.163977</td><td> 3.423377</td><td>3.205154 </td><td>⋯        </td><td>3.896812 </td><td>3.915653 </td><td>3.351422 </td><td>3.719759 </td><td>3.641028 </td><td>3.114521 </td><td> 3.560199</td><td>3.539738 </td><td> 3.760903</td><td>3.479266 </td></tr>\n",
       "</tbody>\n",
       "</table>\n"
      ],
      "text/latex": [
       "\\begin{tabular}{r|llllllllllllllllllllllllllllllllllllll}\n",
       "  & A01 & A02 & A03 & A04 & A05 & A06 & A07 & A08 & A09 & A10 & ⋯ & C06 & C07 & C08 & C09 & C10 & C11 & C12 & D01 & D02 & D03\\\\\n",
       "\\hline\n",
       "\tA1BG &  4.124711 &  3.880633 &  4.864973 & 4.167882  &  4.317845 &  3.679057 & 4.092837  &  4.370571 &  4.252637 & 4.174694  & ⋯         & 3.804537  & 4.416981  & 4.169014  & 4.503313  & 4.146333  & 4.078398  &  4.011369 & 3.845128  &  3.600927 & 4.521857 \\\\\n",
       "\tA2BP1 &  3.960924 &  4.033715 &  3.721251 & 3.916073  &  4.338194 &  3.357396 & 3.872447  &  3.803388 &  3.484735 & 4.427405  & ⋯         & 4.991068  & 3.799913  & 4.117883  & 4.122134  & 4.221760  & 3.648326  &  3.675317 & 3.546925  &  3.788279 & 4.920841 \\\\\n",
       "\tA2M & 12.603155 & 10.859838 & 12.612923 & 9.176999  & 10.548790 & 11.840776 & 7.200547  & 11.835658 & 11.535547 & 7.080118  & ⋯         & 9.061598  & 9.189459  & 8.844728  & 7.464440  & 6.726233  & 9.265911  & 10.740486 & 9.735582  & 10.781599 & 8.734304 \\\\\n",
       "\tA2ML1 &  3.945877 &  4.000621 &  3.767932 & 3.789729  &  3.543204 &  3.805520 & 4.336280  &  4.031757 &  4.166018 & 3.673146  & ⋯         & 4.231174  & 3.871651  & 3.287232  & 3.721093  & 3.723801  & 3.884499  &  3.694111 & 3.937682  &  3.600471 & 3.402861 \\\\\n",
       "\tA4GALT &  3.597277 &  3.863757 &  4.051844 & 4.113169  &  3.975144 &  3.991293 & 5.439960  &  4.696177 &  4.171788 & 4.041633  & ⋯         & 4.183089  & 4.699729  & 4.019537  & 3.739865  & 4.591953  & 4.997860  &  4.099630 & 5.001239  &  4.714710 & 4.145119 \\\\\n",
       "\tA4GNT &  3.714481 &  3.593169 &  3.241352 & 3.515850  &  3.364447 &  3.767865 & 3.768695  &  3.163977 &  3.423377 & 3.205154  & ⋯         & 3.896812  & 3.915653  & 3.351422  & 3.719759  & 3.641028  & 3.114521  &  3.560199 & 3.539738  &  3.760903 & 3.479266 \\\\\n",
       "\\end{tabular}\n"
      ],
      "text/markdown": [
       "\n",
       "| <!--/--> | A01 | A02 | A03 | A04 | A05 | A06 | A07 | A08 | A09 | A10 | ⋯ | C06 | C07 | C08 | C09 | C10 | C11 | C12 | D01 | D02 | D03 | \n",
       "|---|---|---|---|---|---|\n",
       "| A1BG |  4.124711 |  3.880633 |  4.864973 | 4.167882  |  4.317845 |  3.679057 | 4.092837  |  4.370571 |  4.252637 | 4.174694  | ⋯         | 3.804537  | 4.416981  | 4.169014  | 4.503313  | 4.146333  | 4.078398  |  4.011369 | 3.845128  |  3.600927 | 4.521857  | \n",
       "| A2BP1 |  3.960924 |  4.033715 |  3.721251 | 3.916073  |  4.338194 |  3.357396 | 3.872447  |  3.803388 |  3.484735 | 4.427405  | ⋯         | 4.991068  | 3.799913  | 4.117883  | 4.122134  | 4.221760  | 3.648326  |  3.675317 | 3.546925  |  3.788279 | 4.920841  | \n",
       "| A2M | 12.603155 | 10.859838 | 12.612923 | 9.176999  | 10.548790 | 11.840776 | 7.200547  | 11.835658 | 11.535547 | 7.080118  | ⋯         | 9.061598  | 9.189459  | 8.844728  | 7.464440  | 6.726233  | 9.265911  | 10.740486 | 9.735582  | 10.781599 | 8.734304  | \n",
       "| A2ML1 |  3.945877 |  4.000621 |  3.767932 | 3.789729  |  3.543204 |  3.805520 | 4.336280  |  4.031757 |  4.166018 | 3.673146  | ⋯         | 4.231174  | 3.871651  | 3.287232  | 3.721093  | 3.723801  | 3.884499  |  3.694111 | 3.937682  |  3.600471 | 3.402861  | \n",
       "| A4GALT |  3.597277 |  3.863757 |  4.051844 | 4.113169  |  3.975144 |  3.991293 | 5.439960  |  4.696177 |  4.171788 | 4.041633  | ⋯         | 4.183089  | 4.699729  | 4.019537  | 3.739865  | 4.591953  | 4.997860  |  4.099630 | 5.001239  |  4.714710 | 4.145119  | \n",
       "| A4GNT |  3.714481 |  3.593169 |  3.241352 | 3.515850  |  3.364447 |  3.767865 | 3.768695  |  3.163977 |  3.423377 | 3.205154  | ⋯         | 3.896812  | 3.915653  | 3.351422  | 3.719759  | 3.641028  | 3.114521  |  3.560199 | 3.539738  |  3.760903 | 3.479266  | \n",
       "\n",
       "\n"
      ],
      "text/plain": [
       "       A01       A02       A03       A04      A05       A06       A07     \n",
       "A1BG    4.124711  3.880633  4.864973 4.167882  4.317845  3.679057 4.092837\n",
       "A2BP1   3.960924  4.033715  3.721251 3.916073  4.338194  3.357396 3.872447\n",
       "A2M    12.603155 10.859838 12.612923 9.176999 10.548790 11.840776 7.200547\n",
       "A2ML1   3.945877  4.000621  3.767932 3.789729  3.543204  3.805520 4.336280\n",
       "A4GALT  3.597277  3.863757  4.051844 4.113169  3.975144  3.991293 5.439960\n",
       "A4GNT   3.714481  3.593169  3.241352 3.515850  3.364447  3.767865 3.768695\n",
       "       A08       A09       A10      ⋯ C06      C07      C08      C09     \n",
       "A1BG    4.370571  4.252637 4.174694 ⋯ 3.804537 4.416981 4.169014 4.503313\n",
       "A2BP1   3.803388  3.484735 4.427405 ⋯ 4.991068 3.799913 4.117883 4.122134\n",
       "A2M    11.835658 11.535547 7.080118 ⋯ 9.061598 9.189459 8.844728 7.464440\n",
       "A2ML1   4.031757  4.166018 3.673146 ⋯ 4.231174 3.871651 3.287232 3.721093\n",
       "A4GALT  4.696177  4.171788 4.041633 ⋯ 4.183089 4.699729 4.019537 3.739865\n",
       "A4GNT   3.163977  3.423377 3.205154 ⋯ 3.896812 3.915653 3.351422 3.719759\n",
       "       C10      C11      C12       D01      D02       D03     \n",
       "A1BG   4.146333 4.078398  4.011369 3.845128  3.600927 4.521857\n",
       "A2BP1  4.221760 3.648326  3.675317 3.546925  3.788279 4.920841\n",
       "A2M    6.726233 9.265911 10.740486 9.735582 10.781599 8.734304\n",
       "A2ML1  3.723801 3.884499  3.694111 3.937682  3.600471 3.402861\n",
       "A4GALT 4.591953 4.997860  4.099630 5.001239  4.714710 4.145119\n",
       "A4GNT  3.641028 3.114521  3.560199 3.539738  3.760903 3.479266"
      ]
     },
     "metadata": {},
     "output_type": "display_data"
    }
   ],
   "source": [
    "head(data)"
   ]
  },
  {
   "cell_type": "code",
   "execution_count": 5,
   "metadata": {},
   "outputs": [],
   "source": [
    "data_mtx <- as.matrix(data)"
   ]
  },
  {
   "cell_type": "markdown",
   "metadata": {},
   "source": [
    "## Load Danaher gene sets"
   ]
  },
  {
   "cell_type": "code",
   "execution_count": 6,
   "metadata": {},
   "outputs": [],
   "source": [
    "Danaher_GeneSets <- read.csv('../../Data/3/DanaherImmuneCells_GeneSets.txt',\n",
    "                             sep='\\t',\n",
    "                             header=T)"
   ]
  },
  {
   "cell_type": "code",
   "execution_count": 7,
   "metadata": {},
   "outputs": [
    {
     "data": {
      "text/html": [
       "<table>\n",
       "<thead><tr><th scope=col>B.cells</th><th scope=col>CD45</th><th scope=col>CD8.T.cells</th><th scope=col>Cytotoxic.cells</th><th scope=col>DC</th><th scope=col>Exhausted.CD8</th><th scope=col>Macrophages</th><th scope=col>Mast.cells</th><th scope=col>Neutrophils</th><th scope=col>NK.CD56dim.cells</th><th scope=col>NK.cells</th><th scope=col>T.cells</th><th scope=col>Th1.cells</th><th scope=col>Treg</th></tr></thead>\n",
       "<tbody>\n",
       "\t<tr><td>BLK     </td><td>PTPRC   </td><td>CD8A    </td><td>CTSW    </td><td>CCL13   </td><td>CD244   </td><td>CD163   </td><td>MS4A2   </td><td>CSF3R   </td><td>IL21R   </td><td>NCR1    </td><td>CD3D    </td><td>TBX21   </td><td>FOXP3   </td></tr>\n",
       "\t<tr><td>CD19    </td><td>        </td><td>CD8B    </td><td>GNLY    </td><td>CD209   </td><td>EOMES   </td><td>CD68    </td><td>TPSAB1  </td><td>S100A12 </td><td>KIR2DL3 </td><td>XCL2    </td><td>CD3E    </td><td>        </td><td>        </td></tr>\n",
       "\t<tr><td>MS4A1   </td><td>        </td><td>        </td><td>GZMA    </td><td>HSD11B1 </td><td>LAG3    </td><td>CD84    </td><td>CPA3    </td><td>CEACAM3 </td><td>KIR3DL1 </td><td>XCL1    </td><td>CD3G    </td><td>        </td><td>        </td></tr>\n",
       "\t<tr><td>TNFRSF17</td><td>        </td><td>        </td><td>GZMB    </td><td>        </td><td>PTGER4  </td><td>MS4A4A  </td><td>HDC     </td><td>FCAR    </td><td>KIR3DL2 </td><td>        </td><td>CD6     </td><td>        </td><td>        </td></tr>\n",
       "\t<tr><td>FCRL2   </td><td>        </td><td>        </td><td>GZMH    </td><td>        </td><td>        </td><td>        </td><td>TPSB2   </td><td>FCGR3B  </td><td>        </td><td>        </td><td>SH2D1A  </td><td>        </td><td>        </td></tr>\n",
       "\t<tr><td>KIAA0125</td><td>        </td><td>        </td><td>KLRB1   </td><td>        </td><td>        </td><td>        </td><td>        </td><td>FPR1    </td><td>        </td><td>        </td><td>TRAT1   </td><td>        </td><td>        </td></tr>\n",
       "</tbody>\n",
       "</table>\n"
      ],
      "text/latex": [
       "\\begin{tabular}{r|llllllllllllll}\n",
       " B.cells & CD45 & CD8.T.cells & Cytotoxic.cells & DC & Exhausted.CD8 & Macrophages & Mast.cells & Neutrophils & NK.CD56dim.cells & NK.cells & T.cells & Th1.cells & Treg\\\\\n",
       "\\hline\n",
       "\t BLK      & PTPRC    & CD8A     & CTSW     & CCL13    & CD244    & CD163    & MS4A2    & CSF3R    & IL21R    & NCR1     & CD3D     & TBX21    & FOXP3   \\\\\n",
       "\t CD19     &          & CD8B     & GNLY     & CD209    & EOMES    & CD68     & TPSAB1   & S100A12  & KIR2DL3  & XCL2     & CD3E     &          &         \\\\\n",
       "\t MS4A1    &          &          & GZMA     & HSD11B1  & LAG3     & CD84     & CPA3     & CEACAM3  & KIR3DL1  & XCL1     & CD3G     &          &         \\\\\n",
       "\t TNFRSF17 &          &          & GZMB     &          & PTGER4   & MS4A4A   & HDC      & FCAR     & KIR3DL2  &          & CD6      &          &         \\\\\n",
       "\t FCRL2    &          &          & GZMH     &          &          &          & TPSB2    & FCGR3B   &          &          & SH2D1A   &          &         \\\\\n",
       "\t KIAA0125 &          &          & KLRB1    &          &          &          &          & FPR1     &          &          & TRAT1    &          &         \\\\\n",
       "\\end{tabular}\n"
      ],
      "text/markdown": [
       "\n",
       "B.cells | CD45 | CD8.T.cells | Cytotoxic.cells | DC | Exhausted.CD8 | Macrophages | Mast.cells | Neutrophils | NK.CD56dim.cells | NK.cells | T.cells | Th1.cells | Treg | \n",
       "|---|---|---|---|---|---|\n",
       "| BLK      | PTPRC    | CD8A     | CTSW     | CCL13    | CD244    | CD163    | MS4A2    | CSF3R    | IL21R    | NCR1     | CD3D     | TBX21    | FOXP3    | \n",
       "| CD19     |          | CD8B     | GNLY     | CD209    | EOMES    | CD68     | TPSAB1   | S100A12  | KIR2DL3  | XCL2     | CD3E     |          |          | \n",
       "| MS4A1    |          |          | GZMA     | HSD11B1  | LAG3     | CD84     | CPA3     | CEACAM3  | KIR3DL1  | XCL1     | CD3G     |          |          | \n",
       "| TNFRSF17 |          |          | GZMB     |          | PTGER4   | MS4A4A   | HDC      | FCAR     | KIR3DL2  |          | CD6      |          |          | \n",
       "| FCRL2    |          |          | GZMH     |          |          |          | TPSB2    | FCGR3B   |          |          | SH2D1A   |          |          | \n",
       "| KIAA0125 |          |          | KLRB1    |          |          |          |          | FPR1     |          |          | TRAT1    |          |          | \n",
       "\n",
       "\n"
      ],
      "text/plain": [
       "  B.cells  CD45  CD8.T.cells Cytotoxic.cells DC      Exhausted.CD8 Macrophages\n",
       "1 BLK      PTPRC CD8A        CTSW            CCL13   CD244         CD163      \n",
       "2 CD19           CD8B        GNLY            CD209   EOMES         CD68       \n",
       "3 MS4A1                      GZMA            HSD11B1 LAG3          CD84       \n",
       "4 TNFRSF17                   GZMB                    PTGER4        MS4A4A     \n",
       "5 FCRL2                      GZMH                                             \n",
       "6 KIAA0125                   KLRB1                                            \n",
       "  Mast.cells Neutrophils NK.CD56dim.cells NK.cells T.cells Th1.cells Treg \n",
       "1 MS4A2      CSF3R       IL21R            NCR1     CD3D    TBX21     FOXP3\n",
       "2 TPSAB1     S100A12     KIR2DL3          XCL2     CD3E                   \n",
       "3 CPA3       CEACAM3     KIR3DL1          XCL1     CD3G                   \n",
       "4 HDC        FCAR        KIR3DL2                   CD6                    \n",
       "5 TPSB2      FCGR3B                                SH2D1A                 \n",
       "6            FPR1                                  TRAT1                  "
      ]
     },
     "metadata": {},
     "output_type": "display_data"
    }
   ],
   "source": [
    "head(Danaher_GeneSets)"
   ]
  },
  {
   "cell_type": "code",
   "execution_count": 8,
   "metadata": {},
   "outputs": [],
   "source": [
    "Danaher_GeneSets <- convertRowsToList(t(Danaher_GeneSets))"
   ]
  },
  {
   "cell_type": "markdown",
   "metadata": {},
   "source": [
    "## Run ssGSEA"
   ]
  },
  {
   "cell_type": "code",
   "execution_count": 9,
   "metadata": {},
   "outputs": [
    {
     "name": "stdout",
     "output_type": "stream",
     "text": [
      "Estimating ssGSEA scores for 14 gene sets.\n",
      "  |                                                                      |   0%Using parallel with 4 cores\n",
      "  |======================================================================| 100%\n"
     ]
    }
   ],
   "source": [
    "dan_NES <- gsva(data_mtx,\n",
    "                Danaher_GeneSets,\n",
    "                method='ssgsea',\n",
    "                min.sz=0,\n",
    "                max.sz=1000,\n",
    "                ssgsea.norm=T)"
   ]
  },
  {
   "cell_type": "code",
   "execution_count": 10,
   "metadata": {},
   "outputs": [],
   "source": [
    "dan_NES <- data.frame(\"Term\"=rownames(dan_NES),\n",
    "                      dan_NES)\n",
    "\n",
    "rownames(dan_NES) <- NULL"
   ]
  },
  {
   "cell_type": "code",
   "execution_count": 11,
   "metadata": {},
   "outputs": [
    {
     "data": {
      "text/html": [
       "<table>\n",
       "<thead><tr><th scope=col>Term</th><th scope=col>A01</th><th scope=col>A02</th><th scope=col>A03</th><th scope=col>A04</th><th scope=col>A05</th><th scope=col>A06</th><th scope=col>A07</th><th scope=col>A08</th><th scope=col>A09</th><th scope=col>⋯</th><th scope=col>C06</th><th scope=col>C07</th><th scope=col>C08</th><th scope=col>C09</th><th scope=col>C10</th><th scope=col>C11</th><th scope=col>C12</th><th scope=col>D01</th><th scope=col>D02</th><th scope=col>D03</th></tr></thead>\n",
       "<tbody>\n",
       "\t<tr><td>B.cells        </td><td>-0.21810261    </td><td>-0.25335475    </td><td>-0.25329705    </td><td>-0.27594330    </td><td>-0.278792671   </td><td>-0.26363070    </td><td>-0.2885520     </td><td>-0.31224478    </td><td>-0.30345988    </td><td>⋯              </td><td>-0.26713176    </td><td>-0.29081847    </td><td>-0.29290030    </td><td>-0.27643295    </td><td>-0.2969665     </td><td>-0.09979159    </td><td>-0.18757817    </td><td>-0.20150193    </td><td>-0.18565465    </td><td>-0.20666753    </td></tr>\n",
       "\t<tr><td>CD45           </td><td> 0.49598435    </td><td> 0.49069879    </td><td> 0.49069879    </td><td> 0.37386738    </td><td> 0.453562603   </td><td> 0.45651428    </td><td> 0.2852485     </td><td> 0.36007002    </td><td> 0.30584157    </td><td>⋯              </td><td> 0.43461697    </td><td> 0.47298874    </td><td> 0.40372735    </td><td> 0.44477622    </td><td> 0.4188976     </td><td> 0.49090472    </td><td> 0.48156919    </td><td> 0.48706068    </td><td> 0.48500137    </td><td> 0.38608594    </td></tr>\n",
       "\t<tr><td>CD8.T.cells    </td><td>-0.44253789    </td><td>-0.33635556    </td><td>-0.45810935    </td><td>-0.42823210    </td><td>-0.372922238   </td><td>-0.48621331    </td><td>-0.4367254     </td><td>-0.45148510    </td><td>-0.48466856    </td><td>⋯              </td><td>-0.40361036    </td><td>-0.44692447    </td><td>-0.49666450    </td><td>-0.31303111    </td><td>-0.3606616     </td><td>-0.41661137    </td><td>-0.35611691    </td><td>-0.45677517    </td><td>-0.33679621    </td><td>-0.48221195    </td></tr>\n",
       "\t<tr><td>Cytotoxic.cells</td><td> 0.05947407    </td><td> 0.05165459    </td><td> 0.03771431    </td><td>-0.09735425    </td><td>-0.027969728   </td><td>-0.08358612    </td><td>-0.1698657     </td><td>-0.09678797    </td><td>-0.18403653    </td><td>⋯              </td><td>-0.18732346    </td><td>-0.14627329    </td><td>-0.17240717    </td><td>-0.13248797    </td><td>-0.1633762     </td><td>-0.03742641    </td><td>-0.03825606    </td><td>-0.05396364    </td><td>-0.06621261    </td><td>-0.13739278    </td></tr>\n",
       "\t<tr><td>DC             </td><td>-0.10055686    </td><td>-0.05334948    </td><td>-0.11470193    </td><td>-0.10683062    </td><td> 0.006505014   </td><td>-0.06672162    </td><td>-0.1095178     </td><td>-0.07157552    </td><td>-0.05224579    </td><td>⋯              </td><td> 0.01074269    </td><td> 0.07578441    </td><td> 0.04415781    </td><td>-0.01997997    </td><td>-0.0631386     </td><td> 0.00129932    </td><td> 0.04803797    </td><td>-0.04275848    </td><td>-0.04492763    </td><td>-0.03787834    </td></tr>\n",
       "\t<tr><td>Exhausted.CD8  </td><td>-0.11621618    </td><td>-0.10762734    </td><td>-0.10059042    </td><td>-0.16015861    </td><td>-0.113306535   </td><td>-0.14244392    </td><td>-0.1693537     </td><td>-0.09301236    </td><td>-0.18285099    </td><td>⋯              </td><td>-0.17781316    </td><td>-0.15275585    </td><td>-0.15469462    </td><td>-0.13958048    </td><td>-0.1510342     </td><td>-0.09902108    </td><td>-0.12238242    </td><td>-0.15427864    </td><td>-0.16620987    </td><td>-0.20799196    </td></tr>\n",
       "</tbody>\n",
       "</table>\n"
      ],
      "text/latex": [
       "\\begin{tabular}{r|lllllllllllllllllllllllllllllllllllllll}\n",
       " Term & A01 & A02 & A03 & A04 & A05 & A06 & A07 & A08 & A09 & ⋯ & C06 & C07 & C08 & C09 & C10 & C11 & C12 & D01 & D02 & D03\\\\\n",
       "\\hline\n",
       "\t B.cells         & -0.21810261     & -0.25335475     & -0.25329705     & -0.27594330     & -0.278792671    & -0.26363070     & -0.2885520      & -0.31224478     & -0.30345988     & ⋯               & -0.26713176     & -0.29081847     & -0.29290030     & -0.27643295     & -0.2969665      & -0.09979159     & -0.18757817     & -0.20150193     & -0.18565465     & -0.20666753    \\\\\n",
       "\t CD45            &  0.49598435     &  0.49069879     &  0.49069879     &  0.37386738     &  0.453562603    &  0.45651428     &  0.2852485      &  0.36007002     &  0.30584157     & ⋯               &  0.43461697     &  0.47298874     &  0.40372735     &  0.44477622     &  0.4188976      &  0.49090472     &  0.48156919     &  0.48706068     &  0.48500137     &  0.38608594    \\\\\n",
       "\t CD8.T.cells     & -0.44253789     & -0.33635556     & -0.45810935     & -0.42823210     & -0.372922238    & -0.48621331     & -0.4367254      & -0.45148510     & -0.48466856     & ⋯               & -0.40361036     & -0.44692447     & -0.49666450     & -0.31303111     & -0.3606616      & -0.41661137     & -0.35611691     & -0.45677517     & -0.33679621     & -0.48221195    \\\\\n",
       "\t Cytotoxic.cells &  0.05947407     &  0.05165459     &  0.03771431     & -0.09735425     & -0.027969728    & -0.08358612     & -0.1698657      & -0.09678797     & -0.18403653     & ⋯               & -0.18732346     & -0.14627329     & -0.17240717     & -0.13248797     & -0.1633762      & -0.03742641     & -0.03825606     & -0.05396364     & -0.06621261     & -0.13739278    \\\\\n",
       "\t DC              & -0.10055686     & -0.05334948     & -0.11470193     & -0.10683062     &  0.006505014    & -0.06672162     & -0.1095178      & -0.07157552     & -0.05224579     & ⋯               &  0.01074269     &  0.07578441     &  0.04415781     & -0.01997997     & -0.0631386      &  0.00129932     &  0.04803797     & -0.04275848     & -0.04492763     & -0.03787834    \\\\\n",
       "\t Exhausted.CD8   & -0.11621618     & -0.10762734     & -0.10059042     & -0.16015861     & -0.113306535    & -0.14244392     & -0.1693537      & -0.09301236     & -0.18285099     & ⋯               & -0.17781316     & -0.15275585     & -0.15469462     & -0.13958048     & -0.1510342      & -0.09902108     & -0.12238242     & -0.15427864     & -0.16620987     & -0.20799196    \\\\\n",
       "\\end{tabular}\n"
      ],
      "text/markdown": [
       "\n",
       "Term | A01 | A02 | A03 | A04 | A05 | A06 | A07 | A08 | A09 | ⋯ | C06 | C07 | C08 | C09 | C10 | C11 | C12 | D01 | D02 | D03 | \n",
       "|---|---|---|---|---|---|\n",
       "| B.cells         | -0.21810261     | -0.25335475     | -0.25329705     | -0.27594330     | -0.278792671    | -0.26363070     | -0.2885520      | -0.31224478     | -0.30345988     | ⋯               | -0.26713176     | -0.29081847     | -0.29290030     | -0.27643295     | -0.2969665      | -0.09979159     | -0.18757817     | -0.20150193     | -0.18565465     | -0.20666753     | \n",
       "| CD45            |  0.49598435     |  0.49069879     |  0.49069879     |  0.37386738     |  0.453562603    |  0.45651428     |  0.2852485      |  0.36007002     |  0.30584157     | ⋯               |  0.43461697     |  0.47298874     |  0.40372735     |  0.44477622     |  0.4188976      |  0.49090472     |  0.48156919     |  0.48706068     |  0.48500137     |  0.38608594     | \n",
       "| CD8.T.cells     | -0.44253789     | -0.33635556     | -0.45810935     | -0.42823210     | -0.372922238    | -0.48621331     | -0.4367254      | -0.45148510     | -0.48466856     | ⋯               | -0.40361036     | -0.44692447     | -0.49666450     | -0.31303111     | -0.3606616      | -0.41661137     | -0.35611691     | -0.45677517     | -0.33679621     | -0.48221195     | \n",
       "| Cytotoxic.cells |  0.05947407     |  0.05165459     |  0.03771431     | -0.09735425     | -0.027969728    | -0.08358612     | -0.1698657      | -0.09678797     | -0.18403653     | ⋯               | -0.18732346     | -0.14627329     | -0.17240717     | -0.13248797     | -0.1633762      | -0.03742641     | -0.03825606     | -0.05396364     | -0.06621261     | -0.13739278     | \n",
       "| DC              | -0.10055686     | -0.05334948     | -0.11470193     | -0.10683062     |  0.006505014    | -0.06672162     | -0.1095178      | -0.07157552     | -0.05224579     | ⋯               |  0.01074269     |  0.07578441     |  0.04415781     | -0.01997997     | -0.0631386      |  0.00129932     |  0.04803797     | -0.04275848     | -0.04492763     | -0.03787834     | \n",
       "| Exhausted.CD8   | -0.11621618     | -0.10762734     | -0.10059042     | -0.16015861     | -0.113306535    | -0.14244392     | -0.1693537      | -0.09301236     | -0.18285099     | ⋯               | -0.17781316     | -0.15275585     | -0.15469462     | -0.13958048     | -0.1510342      | -0.09902108     | -0.12238242     | -0.15427864     | -0.16620987     | -0.20799196     | \n",
       "\n",
       "\n"
      ],
      "text/plain": [
       "  Term            A01         A02         A03         A04         A05         \n",
       "1 B.cells         -0.21810261 -0.25335475 -0.25329705 -0.27594330 -0.278792671\n",
       "2 CD45             0.49598435  0.49069879  0.49069879  0.37386738  0.453562603\n",
       "3 CD8.T.cells     -0.44253789 -0.33635556 -0.45810935 -0.42823210 -0.372922238\n",
       "4 Cytotoxic.cells  0.05947407  0.05165459  0.03771431 -0.09735425 -0.027969728\n",
       "5 DC              -0.10055686 -0.05334948 -0.11470193 -0.10683062  0.006505014\n",
       "6 Exhausted.CD8   -0.11621618 -0.10762734 -0.10059042 -0.16015861 -0.113306535\n",
       "  A06         A07        A08         A09         ⋯ C06         C07        \n",
       "1 -0.26363070 -0.2885520 -0.31224478 -0.30345988 ⋯ -0.26713176 -0.29081847\n",
       "2  0.45651428  0.2852485  0.36007002  0.30584157 ⋯  0.43461697  0.47298874\n",
       "3 -0.48621331 -0.4367254 -0.45148510 -0.48466856 ⋯ -0.40361036 -0.44692447\n",
       "4 -0.08358612 -0.1698657 -0.09678797 -0.18403653 ⋯ -0.18732346 -0.14627329\n",
       "5 -0.06672162 -0.1095178 -0.07157552 -0.05224579 ⋯  0.01074269  0.07578441\n",
       "6 -0.14244392 -0.1693537 -0.09301236 -0.18285099 ⋯ -0.17781316 -0.15275585\n",
       "  C08         C09         C10        C11         C12         D01        \n",
       "1 -0.29290030 -0.27643295 -0.2969665 -0.09979159 -0.18757817 -0.20150193\n",
       "2  0.40372735  0.44477622  0.4188976  0.49090472  0.48156919  0.48706068\n",
       "3 -0.49666450 -0.31303111 -0.3606616 -0.41661137 -0.35611691 -0.45677517\n",
       "4 -0.17240717 -0.13248797 -0.1633762 -0.03742641 -0.03825606 -0.05396364\n",
       "5  0.04415781 -0.01997997 -0.0631386  0.00129932  0.04803797 -0.04275848\n",
       "6 -0.15469462 -0.13958048 -0.1510342 -0.09902108 -0.12238242 -0.15427864\n",
       "  D02         D03        \n",
       "1 -0.18565465 -0.20666753\n",
       "2  0.48500137  0.38608594\n",
       "3 -0.33679621 -0.48221195\n",
       "4 -0.06621261 -0.13739278\n",
       "5 -0.04492763 -0.03787834\n",
       "6 -0.16620987 -0.20799196"
      ]
     },
     "metadata": {},
     "output_type": "display_data"
    }
   ],
   "source": [
    "head(dan_NES)"
   ]
  },
  {
   "cell_type": "code",
   "execution_count": 13,
   "metadata": {},
   "outputs": [],
   "source": [
    "write.table(dan_NES,\n",
    "            file='../../Data/3/DanaherImmuneCells_TreatmentNaive_NES.txt',\n",
    "            sep='\\t',\n",
    "            row.names=F,\n",
    "            col.names=T)"
   ]
  },
  {
   "cell_type": "markdown",
   "metadata": {},
   "source": [
    "# End script"
   ]
  }
 ],
 "metadata": {
  "kernelspec": {
   "display_name": "R",
   "language": "R",
   "name": "ir"
  },
  "language_info": {
   "codemirror_mode": "r",
   "file_extension": ".r",
   "mimetype": "text/x-r-source",
   "name": "R",
   "pygments_lexer": "r",
   "version": "3.5.0"
  }
 },
 "nbformat": 4,
 "nbformat_minor": 2
}

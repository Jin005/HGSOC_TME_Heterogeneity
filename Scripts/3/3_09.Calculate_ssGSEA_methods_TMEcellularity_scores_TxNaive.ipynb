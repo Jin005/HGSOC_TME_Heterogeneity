{
 "cells": [
  {
   "cell_type": "markdown",
   "metadata": {},
   "source": [
    "# Calculate based ssGSEA methods TMEcellularity scores"
   ]
  },
  {
   "cell_type": "markdown",
   "metadata": {},
   "source": [
    "Script related to figure 3a-b\n",
    "\n",
    "### Aim:\n",
    "- Calculate purity scores for Bindea, Davoli, Danaher, and ConsensusTME"
   ]
  },
  {
   "cell_type": "code",
   "execution_count": 1,
   "metadata": {},
   "outputs": [
    {
     "data": {
      "text/plain": [
       "R version 3.5.0 (2018-04-23)\n",
       "Platform: x86_64-apple-darwin15.6.0 (64-bit)\n",
       "Running under: macOS High Sierra 10.13.6\n",
       "\n",
       "Matrix products: default\n",
       "BLAS: /Library/Frameworks/R.framework/Versions/3.5/Resources/lib/libRblas.0.dylib\n",
       "LAPACK: /Library/Frameworks/R.framework/Versions/3.5/Resources/lib/libRlapack.dylib\n",
       "\n",
       "locale:\n",
       "[1] C/UTF-8/C/C/C/C\n",
       "\n",
       "attached base packages:\n",
       "[1] stats     graphics  grDevices utils     datasets  methods   base     \n",
       "\n",
       "loaded via a namespace (and not attached):\n",
       " [1] compiler_3.5.0  IRdisplay_0.6.1 pbdZMQ_0.3-3    tools_3.5.0    \n",
       " [5] htmltools_0.3.6 base64enc_0.1-3 crayon_1.3.4    Rcpp_1.0.1     \n",
       " [9] uuid_0.1-2      IRkernel_0.8.14 jsonlite_1.6    digest_0.6.18  \n",
       "[13] repr_0.17       evaluate_0.13  "
      ]
     },
     "metadata": {},
     "output_type": "display_data"
    }
   ],
   "source": [
    "sessionInfo()"
   ]
  },
  {
   "cell_type": "markdown",
   "metadata": {},
   "source": [
    "## Load packages"
   ]
  },
  {
   "cell_type": "code",
   "execution_count": 1,
   "metadata": {},
   "outputs": [
    {
     "name": "stderr",
     "output_type": "stream",
     "text": [
      "Warning message:\n",
      "“package ‘GSVA’ was built under R version 3.5.1”\n",
      "Attaching package: ‘BBmisc’\n",
      "\n",
      "The following object is masked from ‘package:base’:\n",
      "\n",
      "    isFALSE\n",
      "\n"
     ]
    }
   ],
   "source": [
    "library(GSVA)\n",
    "library(BBmisc)\n",
    "library(nortest)"
   ]
  },
  {
   "cell_type": "code",
   "execution_count": 2,
   "metadata": {},
   "outputs": [],
   "source": [
    "setwd(\"~/git_repos/HGSOC_TME_Heterogeneity/Scripts/3/\")"
   ]
  },
  {
   "cell_type": "markdown",
   "metadata": {},
   "source": [
    "## Load expression data"
   ]
  },
  {
   "cell_type": "code",
   "execution_count": null,
   "metadata": {},
   "outputs": [],
   "source": [
    "mix <- \"../../Data/1/TreatmentNaive_log2exp_loess_norm.txt\""
   ]
  },
  {
   "cell_type": "code",
   "execution_count": 3,
   "metadata": {},
   "outputs": [],
   "source": [
    "data <- read.csv(mix,\n",
    "                 sep='\\t',\n",
    "                 header=T,\n",
    "                 row.names='Hugo_Symbol')"
   ]
  },
  {
   "cell_type": "code",
   "execution_count": 4,
   "metadata": {},
   "outputs": [
    {
     "data": {
      "text/html": [
       "<table>\n",
       "<thead><tr><th></th><th scope=col>A01</th><th scope=col>A02</th><th scope=col>A03</th><th scope=col>A04</th><th scope=col>A05</th><th scope=col>A06</th><th scope=col>A07</th><th scope=col>A08</th><th scope=col>A09</th><th scope=col>A10</th><th scope=col>⋯</th><th scope=col>C06</th><th scope=col>C07</th><th scope=col>C08</th><th scope=col>C09</th><th scope=col>C10</th><th scope=col>C11</th><th scope=col>C12</th><th scope=col>D01</th><th scope=col>D02</th><th scope=col>D03</th></tr></thead>\n",
       "<tbody>\n",
       "\t<tr><th scope=row>A1BG</th><td> 4.124711</td><td> 3.880633</td><td> 4.864973</td><td>4.167882 </td><td> 4.317845</td><td> 3.679057</td><td>4.092837 </td><td> 4.370571</td><td> 4.252637</td><td>4.174694 </td><td>⋯        </td><td>3.804537 </td><td>4.416981 </td><td>4.169014 </td><td>4.503313 </td><td>4.146333 </td><td>4.078398 </td><td> 4.011369</td><td>3.845128 </td><td> 3.600927</td><td>4.521857 </td></tr>\n",
       "\t<tr><th scope=row>A2BP1</th><td> 3.960924</td><td> 4.033715</td><td> 3.721251</td><td>3.916073 </td><td> 4.338194</td><td> 3.357396</td><td>3.872447 </td><td> 3.803388</td><td> 3.484735</td><td>4.427405 </td><td>⋯        </td><td>4.991068 </td><td>3.799913 </td><td>4.117883 </td><td>4.122134 </td><td>4.221760 </td><td>3.648326 </td><td> 3.675317</td><td>3.546925 </td><td> 3.788279</td><td>4.920841 </td></tr>\n",
       "\t<tr><th scope=row>A2M</th><td>12.603155</td><td>10.859838</td><td>12.612923</td><td>9.176999 </td><td>10.548790</td><td>11.840776</td><td>7.200547 </td><td>11.835658</td><td>11.535547</td><td>7.080118 </td><td>⋯        </td><td>9.061598 </td><td>9.189459 </td><td>8.844728 </td><td>7.464440 </td><td>6.726233 </td><td>9.265911 </td><td>10.740486</td><td>9.735582 </td><td>10.781599</td><td>8.734304 </td></tr>\n",
       "\t<tr><th scope=row>A2ML1</th><td> 3.945877</td><td> 4.000621</td><td> 3.767932</td><td>3.789729 </td><td> 3.543204</td><td> 3.805520</td><td>4.336280 </td><td> 4.031757</td><td> 4.166018</td><td>3.673146 </td><td>⋯        </td><td>4.231174 </td><td>3.871651 </td><td>3.287232 </td><td>3.721093 </td><td>3.723801 </td><td>3.884499 </td><td> 3.694111</td><td>3.937682 </td><td> 3.600471</td><td>3.402861 </td></tr>\n",
       "\t<tr><th scope=row>A4GALT</th><td> 3.597277</td><td> 3.863757</td><td> 4.051844</td><td>4.113169 </td><td> 3.975144</td><td> 3.991293</td><td>5.439960 </td><td> 4.696177</td><td> 4.171788</td><td>4.041633 </td><td>⋯        </td><td>4.183089 </td><td>4.699729 </td><td>4.019537 </td><td>3.739865 </td><td>4.591953 </td><td>4.997860 </td><td> 4.099630</td><td>5.001239 </td><td> 4.714710</td><td>4.145119 </td></tr>\n",
       "\t<tr><th scope=row>A4GNT</th><td> 3.714481</td><td> 3.593169</td><td> 3.241352</td><td>3.515850 </td><td> 3.364447</td><td> 3.767865</td><td>3.768695 </td><td> 3.163977</td><td> 3.423377</td><td>3.205154 </td><td>⋯        </td><td>3.896812 </td><td>3.915653 </td><td>3.351422 </td><td>3.719759 </td><td>3.641028 </td><td>3.114521 </td><td> 3.560199</td><td>3.539738 </td><td> 3.760903</td><td>3.479266 </td></tr>\n",
       "</tbody>\n",
       "</table>\n"
      ],
      "text/latex": [
       "\\begin{tabular}{r|llllllllllllllllllllllllllllllllllllll}\n",
       "  & A01 & A02 & A03 & A04 & A05 & A06 & A07 & A08 & A09 & A10 & ⋯ & C06 & C07 & C08 & C09 & C10 & C11 & C12 & D01 & D02 & D03\\\\\n",
       "\\hline\n",
       "\tA1BG &  4.124711 &  3.880633 &  4.864973 & 4.167882  &  4.317845 &  3.679057 & 4.092837  &  4.370571 &  4.252637 & 4.174694  & ⋯         & 3.804537  & 4.416981  & 4.169014  & 4.503313  & 4.146333  & 4.078398  &  4.011369 & 3.845128  &  3.600927 & 4.521857 \\\\\n",
       "\tA2BP1 &  3.960924 &  4.033715 &  3.721251 & 3.916073  &  4.338194 &  3.357396 & 3.872447  &  3.803388 &  3.484735 & 4.427405  & ⋯         & 4.991068  & 3.799913  & 4.117883  & 4.122134  & 4.221760  & 3.648326  &  3.675317 & 3.546925  &  3.788279 & 4.920841 \\\\\n",
       "\tA2M & 12.603155 & 10.859838 & 12.612923 & 9.176999  & 10.548790 & 11.840776 & 7.200547  & 11.835658 & 11.535547 & 7.080118  & ⋯         & 9.061598  & 9.189459  & 8.844728  & 7.464440  & 6.726233  & 9.265911  & 10.740486 & 9.735582  & 10.781599 & 8.734304 \\\\\n",
       "\tA2ML1 &  3.945877 &  4.000621 &  3.767932 & 3.789729  &  3.543204 &  3.805520 & 4.336280  &  4.031757 &  4.166018 & 3.673146  & ⋯         & 4.231174  & 3.871651  & 3.287232  & 3.721093  & 3.723801  & 3.884499  &  3.694111 & 3.937682  &  3.600471 & 3.402861 \\\\\n",
       "\tA4GALT &  3.597277 &  3.863757 &  4.051844 & 4.113169  &  3.975144 &  3.991293 & 5.439960  &  4.696177 &  4.171788 & 4.041633  & ⋯         & 4.183089  & 4.699729  & 4.019537  & 3.739865  & 4.591953  & 4.997860  &  4.099630 & 5.001239  &  4.714710 & 4.145119 \\\\\n",
       "\tA4GNT &  3.714481 &  3.593169 &  3.241352 & 3.515850  &  3.364447 &  3.767865 & 3.768695  &  3.163977 &  3.423377 & 3.205154  & ⋯         & 3.896812  & 3.915653  & 3.351422  & 3.719759  & 3.641028  & 3.114521  &  3.560199 & 3.539738  &  3.760903 & 3.479266 \\\\\n",
       "\\end{tabular}\n"
      ],
      "text/markdown": [
       "\n",
       "| <!--/--> | A01 | A02 | A03 | A04 | A05 | A06 | A07 | A08 | A09 | A10 | ⋯ | C06 | C07 | C08 | C09 | C10 | C11 | C12 | D01 | D02 | D03 | \n",
       "|---|---|---|---|---|---|\n",
       "| A1BG |  4.124711 |  3.880633 |  4.864973 | 4.167882  |  4.317845 |  3.679057 | 4.092837  |  4.370571 |  4.252637 | 4.174694  | ⋯         | 3.804537  | 4.416981  | 4.169014  | 4.503313  | 4.146333  | 4.078398  |  4.011369 | 3.845128  |  3.600927 | 4.521857  | \n",
       "| A2BP1 |  3.960924 |  4.033715 |  3.721251 | 3.916073  |  4.338194 |  3.357396 | 3.872447  |  3.803388 |  3.484735 | 4.427405  | ⋯         | 4.991068  | 3.799913  | 4.117883  | 4.122134  | 4.221760  | 3.648326  |  3.675317 | 3.546925  |  3.788279 | 4.920841  | \n",
       "| A2M | 12.603155 | 10.859838 | 12.612923 | 9.176999  | 10.548790 | 11.840776 | 7.200547  | 11.835658 | 11.535547 | 7.080118  | ⋯         | 9.061598  | 9.189459  | 8.844728  | 7.464440  | 6.726233  | 9.265911  | 10.740486 | 9.735582  | 10.781599 | 8.734304  | \n",
       "| A2ML1 |  3.945877 |  4.000621 |  3.767932 | 3.789729  |  3.543204 |  3.805520 | 4.336280  |  4.031757 |  4.166018 | 3.673146  | ⋯         | 4.231174  | 3.871651  | 3.287232  | 3.721093  | 3.723801  | 3.884499  |  3.694111 | 3.937682  |  3.600471 | 3.402861  | \n",
       "| A4GALT |  3.597277 |  3.863757 |  4.051844 | 4.113169  |  3.975144 |  3.991293 | 5.439960  |  4.696177 |  4.171788 | 4.041633  | ⋯         | 4.183089  | 4.699729  | 4.019537  | 3.739865  | 4.591953  | 4.997860  |  4.099630 | 5.001239  |  4.714710 | 4.145119  | \n",
       "| A4GNT |  3.714481 |  3.593169 |  3.241352 | 3.515850  |  3.364447 |  3.767865 | 3.768695  |  3.163977 |  3.423377 | 3.205154  | ⋯         | 3.896812  | 3.915653  | 3.351422  | 3.719759  | 3.641028  | 3.114521  |  3.560199 | 3.539738  |  3.760903 | 3.479266  | \n",
       "\n",
       "\n"
      ],
      "text/plain": [
       "       A01       A02       A03       A04      A05       A06       A07     \n",
       "A1BG    4.124711  3.880633  4.864973 4.167882  4.317845  3.679057 4.092837\n",
       "A2BP1   3.960924  4.033715  3.721251 3.916073  4.338194  3.357396 3.872447\n",
       "A2M    12.603155 10.859838 12.612923 9.176999 10.548790 11.840776 7.200547\n",
       "A2ML1   3.945877  4.000621  3.767932 3.789729  3.543204  3.805520 4.336280\n",
       "A4GALT  3.597277  3.863757  4.051844 4.113169  3.975144  3.991293 5.439960\n",
       "A4GNT   3.714481  3.593169  3.241352 3.515850  3.364447  3.767865 3.768695\n",
       "       A08       A09       A10      ⋯ C06      C07      C08      C09     \n",
       "A1BG    4.370571  4.252637 4.174694 ⋯ 3.804537 4.416981 4.169014 4.503313\n",
       "A2BP1   3.803388  3.484735 4.427405 ⋯ 4.991068 3.799913 4.117883 4.122134\n",
       "A2M    11.835658 11.535547 7.080118 ⋯ 9.061598 9.189459 8.844728 7.464440\n",
       "A2ML1   4.031757  4.166018 3.673146 ⋯ 4.231174 3.871651 3.287232 3.721093\n",
       "A4GALT  4.696177  4.171788 4.041633 ⋯ 4.183089 4.699729 4.019537 3.739865\n",
       "A4GNT   3.163977  3.423377 3.205154 ⋯ 3.896812 3.915653 3.351422 3.719759\n",
       "       C10      C11      C12       D01      D02       D03     \n",
       "A1BG   4.146333 4.078398  4.011369 3.845128  3.600927 4.521857\n",
       "A2BP1  4.221760 3.648326  3.675317 3.546925  3.788279 4.920841\n",
       "A2M    6.726233 9.265911 10.740486 9.735582 10.781599 8.734304\n",
       "A2ML1  3.723801 3.884499  3.694111 3.937682  3.600471 3.402861\n",
       "A4GALT 4.591953 4.997860  4.099630 5.001239  4.714710 4.145119\n",
       "A4GNT  3.641028 3.114521  3.560199 3.539738  3.760903 3.479266"
      ]
     },
     "metadata": {},
     "output_type": "display_data"
    }
   ],
   "source": [
    "head(data)"
   ]
  },
  {
   "cell_type": "code",
   "execution_count": 5,
   "metadata": {},
   "outputs": [],
   "source": [
    "data_mtx <- as.matrix(data)"
   ]
  },
  {
   "cell_type": "markdown",
   "metadata": {},
   "source": [
    "## Load Bindea TME cellularity gene set"
   ]
  },
  {
   "cell_type": "code",
   "execution_count": 6,
   "metadata": {},
   "outputs": [],
   "source": [
    "Bindea_TMEcell <- read.csv('../../Data/3/BindeaTMEcellularity_GeneSet.txt',\n",
    "                           sep='\\t',\n",
    "                           header=F,\n",
    "                           row.names=1)"
   ]
  },
  {
   "cell_type": "code",
   "execution_count": 7,
   "metadata": {},
   "outputs": [
    {
     "data": {
      "text/html": [
       "<table>\n",
       "<thead><tr><th></th><th scope=col>V2</th><th scope=col>V3</th><th scope=col>V4</th><th scope=col>V5</th><th scope=col>V6</th><th scope=col>V7</th><th scope=col>V8</th><th scope=col>V9</th><th scope=col>V10</th><th scope=col>V11</th><th scope=col>⋯</th><th scope=col>V541</th><th scope=col>V542</th><th scope=col>V543</th><th scope=col>V544</th><th scope=col>V545</th><th scope=col>V546</th><th scope=col>V547</th><th scope=col>V548</th><th scope=col>V549</th><th scope=col>V550</th></tr></thead>\n",
       "<tbody>\n",
       "\t<tr><th scope=row>Bindea_TMEcell</th><td>A2M    </td><td>ABCB4  </td><td>ABCC4  </td><td>ABCG2  </td><td>ABHD2  </td><td>ABT1   </td><td>ACACB  </td><td>ACVRL1 </td><td>ADARB1 </td><td>ADCY1  </td><td>⋯      </td><td>ZEB1   </td><td>ZFP36L2</td><td>ZNF205 </td><td>ZNF22  </td><td>ZNF423 </td><td>ZNF528 </td><td>ZNF609 </td><td>ZNF747 </td><td>ZNF764 </td><td>ZNF91  </td></tr>\n",
       "</tbody>\n",
       "</table>\n"
      ],
      "text/latex": [
       "\\begin{tabular}{r|lllllllllllllllllllllllllllllllllllllllllllllllllllllllllllllllllllllllllllllllllllllllllllllllllllllllllllllllllllllllllllllllllllllllllllllllllllllllllllllllllllllllllllllllllllllllllllllllllllllllllllllllllllllllllllllllllllllllllllllllllllllllllllllllllllllllllllllllllllllllllllllllllllllllllllllllllllllllllllllllllllllllllllllllllllllllllllllllllllllllllllllllllllllllllllllllllllllllllllllllllllllllllllllllllllllllllllllllllllllllllllllllllllllllllllllllllllllllllllllllllllllllllllllllllllllllllllllllllllllllllllllllllllllllllllllllllllll}\n",
       "  & V2 & V3 & V4 & V5 & V6 & V7 & V8 & V9 & V10 & V11 & ⋯ & V541 & V542 & V543 & V544 & V545 & V546 & V547 & V548 & V549 & V550\\\\\n",
       "\\hline\n",
       "\tBindea\\_TMEcell & A2M     & ABCB4   & ABCC4   & ABCG2   & ABHD2   & ABT1    & ACACB   & ACVRL1  & ADARB1  & ADCY1   & ⋯       & ZEB1    & ZFP36L2 & ZNF205  & ZNF22   & ZNF423  & ZNF528  & ZNF609  & ZNF747  & ZNF764  & ZNF91  \\\\\n",
       "\\end{tabular}\n"
      ],
      "text/markdown": [
       "\n",
       "| <!--/--> | V2 | V3 | V4 | V5 | V6 | V7 | V8 | V9 | V10 | V11 | ⋯ | V541 | V542 | V543 | V544 | V545 | V546 | V547 | V548 | V549 | V550 | \n",
       "|---|\n",
       "| Bindea_TMEcell | A2M     | ABCB4   | ABCC4   | ABCG2   | ABHD2   | ABT1    | ACACB   | ACVRL1  | ADARB1  | ADCY1   | ⋯       | ZEB1    | ZFP36L2 | ZNF205  | ZNF22   | ZNF423  | ZNF528  | ZNF609  | ZNF747  | ZNF764  | ZNF91   | \n",
       "\n",
       "\n"
      ],
      "text/plain": [
       "               V2  V3    V4    V5    V6    V7   V8    V9     V10    V11   ⋯\n",
       "Bindea_TMEcell A2M ABCB4 ABCC4 ABCG2 ABHD2 ABT1 ACACB ACVRL1 ADARB1 ADCY1 ⋯\n",
       "               V541 V542    V543   V544  V545   V546   V547   V548   V549  \n",
       "Bindea_TMEcell ZEB1 ZFP36L2 ZNF205 ZNF22 ZNF423 ZNF528 ZNF609 ZNF747 ZNF764\n",
       "               V550 \n",
       "Bindea_TMEcell ZNF91"
      ]
     },
     "metadata": {},
     "output_type": "display_data"
    }
   ],
   "source": [
    "head(Bindea_TMEcell)"
   ]
  },
  {
   "cell_type": "code",
   "execution_count": 8,
   "metadata": {},
   "outputs": [],
   "source": [
    "Bindea_TMEcell <- convertRowsToList(Bindea_TMEcell)"
   ]
  },
  {
   "cell_type": "markdown",
   "metadata": {},
   "source": [
    "## Load Davoli TME cellularity gene set"
   ]
  },
  {
   "cell_type": "code",
   "execution_count": 9,
   "metadata": {},
   "outputs": [],
   "source": [
    "Davoli_TMEcell <- read.csv('../../Data/3/DavoliTMEcellularity_GeneSet.txt',\n",
    "                           sep='\\t',\n",
    "                           header=F,\n",
    "                           row.names=1)"
   ]
  },
  {
   "cell_type": "code",
   "execution_count": 10,
   "metadata": {},
   "outputs": [
    {
     "data": {
      "text/html": [
       "<table>\n",
       "<thead><tr><th></th><th scope=col>V2</th><th scope=col>V3</th><th scope=col>V4</th><th scope=col>V5</th><th scope=col>V6</th><th scope=col>V7</th><th scope=col>V8</th><th scope=col>V9</th><th scope=col>V10</th><th scope=col>V11</th><th scope=col>⋯</th><th scope=col>V67</th><th scope=col>V68</th><th scope=col>V69</th><th scope=col>V70</th><th scope=col>V71</th><th scope=col>V72</th><th scope=col>V73</th><th scope=col>V74</th><th scope=col>V75</th><th scope=col>V76</th></tr></thead>\n",
       "<tbody>\n",
       "\t<tr><th scope=row>Davoli_TMEcell</th><td>AMIGO2  </td><td>ANPEP   </td><td>BANK1   </td><td>BCL11B  </td><td>C1QA    </td><td>C1QB    </td><td>C1QC    </td><td>CCL5    </td><td>CCL8    </td><td>CCR5    </td><td>⋯       </td><td>RCAN3   </td><td>RENBP   </td><td>SAMD3   </td><td>SERPINB9</td><td>SLAMF1  </td><td>SLC35D1 </td><td>STYK1   </td><td>TBX21   </td><td>TNIP3   </td><td>TRAT1   </td></tr>\n",
       "</tbody>\n",
       "</table>\n"
      ],
      "text/latex": [
       "\\begin{tabular}{r|lllllllllllllllllllllllllllllllllllllllllllllllllllllllllllllllllllllllllll}\n",
       "  & V2 & V3 & V4 & V5 & V6 & V7 & V8 & V9 & V10 & V11 & ⋯ & V67 & V68 & V69 & V70 & V71 & V72 & V73 & V74 & V75 & V76\\\\\n",
       "\\hline\n",
       "\tDavoli\\_TMEcell & AMIGO2   & ANPEP    & BANK1    & BCL11B   & C1QA     & C1QB     & C1QC     & CCL5     & CCL8     & CCR5     & ⋯        & RCAN3    & RENBP    & SAMD3    & SERPINB9 & SLAMF1   & SLC35D1  & STYK1    & TBX21    & TNIP3    & TRAT1   \\\\\n",
       "\\end{tabular}\n"
      ],
      "text/markdown": [
       "\n",
       "| <!--/--> | V2 | V3 | V4 | V5 | V6 | V7 | V8 | V9 | V10 | V11 | ⋯ | V67 | V68 | V69 | V70 | V71 | V72 | V73 | V74 | V75 | V76 | \n",
       "|---|\n",
       "| Davoli_TMEcell | AMIGO2   | ANPEP    | BANK1    | BCL11B   | C1QA     | C1QB     | C1QC     | CCL5     | CCL8     | CCR5     | ⋯        | RCAN3    | RENBP    | SAMD3    | SERPINB9 | SLAMF1   | SLC35D1  | STYK1    | TBX21    | TNIP3    | TRAT1    | \n",
       "\n",
       "\n"
      ],
      "text/plain": [
       "               V2     V3    V4    V5     V6   V7   V8   V9   V10  V11  ⋯ V67  \n",
       "Davoli_TMEcell AMIGO2 ANPEP BANK1 BCL11B C1QA C1QB C1QC CCL5 CCL8 CCR5 ⋯ RCAN3\n",
       "               V68   V69   V70      V71    V72     V73   V74   V75   V76  \n",
       "Davoli_TMEcell RENBP SAMD3 SERPINB9 SLAMF1 SLC35D1 STYK1 TBX21 TNIP3 TRAT1"
      ]
     },
     "metadata": {},
     "output_type": "display_data"
    }
   ],
   "source": [
    "head(Davoli_TMEcell)"
   ]
  },
  {
   "cell_type": "code",
   "execution_count": 11,
   "metadata": {},
   "outputs": [],
   "source": [
    "Davoli_TMEcell <- convertRowsToList(Davoli_TMEcell)"
   ]
  },
  {
   "cell_type": "markdown",
   "metadata": {},
   "source": [
    "## Load Danaher purity gene set"
   ]
  },
  {
   "cell_type": "code",
   "execution_count": 12,
   "metadata": {},
   "outputs": [],
   "source": [
    "Danaher_TMEcell <- read.csv('../../Data/3/DanaherTMEcellularity_GeneSet.txt',\n",
    "                            sep='\\t',\n",
    "                            header=F,\n",
    "                            row.names=1)"
   ]
  },
  {
   "cell_type": "code",
   "execution_count": 13,
   "metadata": {},
   "outputs": [
    {
     "data": {
      "text/html": [
       "<table>\n",
       "<thead><tr><th></th><th scope=col>V2</th><th scope=col>V3</th><th scope=col>V4</th><th scope=col>V5</th><th scope=col>V6</th><th scope=col>V7</th><th scope=col>V8</th><th scope=col>V9</th><th scope=col>V10</th><th scope=col>V11</th><th scope=col>⋯</th><th scope=col>V52</th><th scope=col>V53</th><th scope=col>V54</th><th scope=col>V55</th><th scope=col>V56</th><th scope=col>V57</th><th scope=col>V58</th><th scope=col>V59</th><th scope=col>V60</th><th scope=col>V61</th></tr></thead>\n",
       "<tbody>\n",
       "\t<tr><th scope=row>Danaher_TMEcell</th><td>BLK     </td><td>CCL13   </td><td>CD163   </td><td>CD19    </td><td>CD209   </td><td>CD244   </td><td>CD3D    </td><td>CD3E    </td><td>CD3G    </td><td>CD6     </td><td>⋯       </td><td>SIGLEC5 </td><td>SPIB    </td><td>TBX21   </td><td>TCL1A   </td><td>TNFRSF17</td><td>TPSAB1  </td><td>TPSB2   </td><td>TRAT1   </td><td>XCL1    </td><td>XCL2    </td></tr>\n",
       "</tbody>\n",
       "</table>\n"
      ],
      "text/latex": [
       "\\begin{tabular}{r|llllllllllllllllllllllllllllllllllllllllllllllllllllllllllll}\n",
       "  & V2 & V3 & V4 & V5 & V6 & V7 & V8 & V9 & V10 & V11 & ⋯ & V52 & V53 & V54 & V55 & V56 & V57 & V58 & V59 & V60 & V61\\\\\n",
       "\\hline\n",
       "\tDanaher\\_TMEcell & BLK      & CCL13    & CD163    & CD19     & CD209    & CD244    & CD3D     & CD3E     & CD3G     & CD6      & ⋯        & SIGLEC5  & SPIB     & TBX21    & TCL1A    & TNFRSF17 & TPSAB1   & TPSB2    & TRAT1    & XCL1     & XCL2    \\\\\n",
       "\\end{tabular}\n"
      ],
      "text/markdown": [
       "\n",
       "| <!--/--> | V2 | V3 | V4 | V5 | V6 | V7 | V8 | V9 | V10 | V11 | ⋯ | V52 | V53 | V54 | V55 | V56 | V57 | V58 | V59 | V60 | V61 | \n",
       "|---|\n",
       "| Danaher_TMEcell | BLK      | CCL13    | CD163    | CD19     | CD209    | CD244    | CD3D     | CD3E     | CD3G     | CD6      | ⋯        | SIGLEC5  | SPIB     | TBX21    | TCL1A    | TNFRSF17 | TPSAB1   | TPSB2    | TRAT1    | XCL1     | XCL2     | \n",
       "\n",
       "\n"
      ],
      "text/plain": [
       "                V2  V3    V4    V5   V6    V7    V8   V9   V10  V11 ⋯ V52    \n",
       "Danaher_TMEcell BLK CCL13 CD163 CD19 CD209 CD244 CD3D CD3E CD3G CD6 ⋯ SIGLEC5\n",
       "                V53  V54   V55   V56      V57    V58   V59   V60  V61 \n",
       "Danaher_TMEcell SPIB TBX21 TCL1A TNFRSF17 TPSAB1 TPSB2 TRAT1 XCL1 XCL2"
      ]
     },
     "metadata": {},
     "output_type": "display_data"
    }
   ],
   "source": [
    "head(Danaher_TMEcell)"
   ]
  },
  {
   "cell_type": "code",
   "execution_count": 14,
   "metadata": {},
   "outputs": [],
   "source": [
    "Danaher_TMEcell <- convertRowsToList(Danaher_TMEcell)"
   ]
  },
  {
   "cell_type": "markdown",
   "metadata": {},
   "source": [
    "## Load ConsensusTME purity gene set"
   ]
  },
  {
   "cell_type": "code",
   "execution_count": 15,
   "metadata": {},
   "outputs": [],
   "source": [
    "ConsensusTMEcell <- read.csv('../../Data/3/ConsensusTMEcellularity_GeneSet.txt',\n",
    "                             sep='\\t',\n",
    "                             header=F,\n",
    "                             row.names=1)"
   ]
  },
  {
   "cell_type": "code",
   "execution_count": 16,
   "metadata": {},
   "outputs": [
    {
     "data": {
      "text/html": [
       "<table>\n",
       "<thead><tr><th></th><th scope=col>V2</th><th scope=col>V3</th><th scope=col>V4</th><th scope=col>V5</th><th scope=col>V6</th><th scope=col>V7</th><th scope=col>V8</th><th scope=col>V9</th><th scope=col>V10</th><th scope=col>V11</th><th scope=col>⋯</th><th scope=col>V191</th><th scope=col>V192</th><th scope=col>V193</th><th scope=col>V194</th><th scope=col>V195</th><th scope=col>V196</th><th scope=col>V197</th><th scope=col>V198</th><th scope=col>V199</th><th scope=col>V200</th></tr></thead>\n",
       "<tbody>\n",
       "\t<tr><th scope=row>ConsensusTME_TMEcellularity</th><td>ABCA6   </td><td>ABHD2   </td><td>ACTR2   </td><td>AIF1    </td><td>AIM2    </td><td>AKAP13  </td><td>APOBEC3G</td><td>ARHGAP15</td><td>ASPN    </td><td>ATG7    </td><td>⋯       </td><td>TRAF3IP3</td><td>TRAT1   </td><td>TREM1   </td><td>TREM2   </td><td>VASP    </td><td>VNN2    </td><td>WAS     </td><td>WISP1   </td><td>WNT2    </td><td>ZAP70   </td></tr>\n",
       "</tbody>\n",
       "</table>\n"
      ],
      "text/latex": [
       "\\begin{tabular}{r|lllllllllllllllllllllllllllllllllllllllllllllllllllllllllllllllllllllllllllllllllllllllllllllllllllllllllllllllllllllllllllllllllllllllllllllllllllllllllllllllllllllllllllllllllllllllllllllllllllllll}\n",
       "  & V2 & V3 & V4 & V5 & V6 & V7 & V8 & V9 & V10 & V11 & ⋯ & V191 & V192 & V193 & V194 & V195 & V196 & V197 & V198 & V199 & V200\\\\\n",
       "\\hline\n",
       "\tConsensusTME\\_TMEcellularity & ABCA6    & ABHD2    & ACTR2    & AIF1     & AIM2     & AKAP13   & APOBEC3G & ARHGAP15 & ASPN     & ATG7     & ⋯        & TRAF3IP3 & TRAT1    & TREM1    & TREM2    & VASP     & VNN2     & WAS      & WISP1    & WNT2     & ZAP70   \\\\\n",
       "\\end{tabular}\n"
      ],
      "text/markdown": [
       "\n",
       "| <!--/--> | V2 | V3 | V4 | V5 | V6 | V7 | V8 | V9 | V10 | V11 | ⋯ | V191 | V192 | V193 | V194 | V195 | V196 | V197 | V198 | V199 | V200 | \n",
       "|---|\n",
       "| ConsensusTME_TMEcellularity | ABCA6    | ABHD2    | ACTR2    | AIF1     | AIM2     | AKAP13   | APOBEC3G | ARHGAP15 | ASPN     | ATG7     | ⋯        | TRAF3IP3 | TRAT1    | TREM1    | TREM2    | VASP     | VNN2     | WAS      | WISP1    | WNT2     | ZAP70    | \n",
       "\n",
       "\n"
      ],
      "text/plain": [
       "                            V2    V3    V4    V5   V6   V7     V8      \n",
       "ConsensusTME_TMEcellularity ABCA6 ABHD2 ACTR2 AIF1 AIM2 AKAP13 APOBEC3G\n",
       "                            V9       V10  V11  ⋯ V191     V192  V193  V194 \n",
       "ConsensusTME_TMEcellularity ARHGAP15 ASPN ATG7 ⋯ TRAF3IP3 TRAT1 TREM1 TREM2\n",
       "                            V195 V196 V197 V198  V199 V200 \n",
       "ConsensusTME_TMEcellularity VASP VNN2 WAS  WISP1 WNT2 ZAP70"
      ]
     },
     "metadata": {},
     "output_type": "display_data"
    }
   ],
   "source": [
    "head(ConsensusTMEcell)"
   ]
  },
  {
   "cell_type": "code",
   "execution_count": 17,
   "metadata": {},
   "outputs": [],
   "source": [
    "ConsensusTMEcell <- convertRowsToList(ConsensusTMEcell)"
   ]
  },
  {
   "cell_type": "markdown",
   "metadata": {},
   "source": [
    "## Run ssGSEA"
   ]
  },
  {
   "cell_type": "markdown",
   "metadata": {},
   "source": [
    "#### Bindea"
   ]
  },
  {
   "cell_type": "code",
   "execution_count": 18,
   "metadata": {},
   "outputs": [
    {
     "name": "stdout",
     "output_type": "stream",
     "text": [
      "Estimating ssGSEA scores for 1 gene sets.\n",
      "  |                                                                      |   0%Using parallel with 4 cores\n",
      "  |======================================================================| 100%\n"
     ]
    }
   ],
   "source": [
    "bin_NES <- gsva(data_mtx,\n",
    "                Bindea_TMEcell,\n",
    "                method='ssgsea',\n",
    "                min.sz=0,\n",
    "                max.sz=1100,\n",
    "                ssgsea.norm=T)"
   ]
  },
  {
   "cell_type": "code",
   "execution_count": 19,
   "metadata": {},
   "outputs": [],
   "source": [
    "bin_NES <- data.frame(\"Term\"=rownames(bin_NES),\n",
    "                      bin_NES)\n",
    "\n",
    "rownames(bin_NES) <- NULL"
   ]
  },
  {
   "cell_type": "code",
   "execution_count": 20,
   "metadata": {},
   "outputs": [
    {
     "data": {
      "text/html": [
       "<table>\n",
       "<thead><tr><th scope=col>Term</th><th scope=col>A01</th><th scope=col>A02</th><th scope=col>A03</th><th scope=col>A04</th><th scope=col>A05</th><th scope=col>A06</th><th scope=col>A07</th><th scope=col>A08</th><th scope=col>A09</th><th scope=col>⋯</th><th scope=col>C06</th><th scope=col>C07</th><th scope=col>C08</th><th scope=col>C09</th><th scope=col>C10</th><th scope=col>C11</th><th scope=col>C12</th><th scope=col>D01</th><th scope=col>D02</th><th scope=col>D03</th></tr></thead>\n",
       "<tbody>\n",
       "\t<tr><td>Bindea_TMEcell</td><td>0.7492009     </td><td>0.9917098     </td><td>1.059214      </td><td>0.809765      </td><td>0.7259042     </td><td>0.6248692     </td><td>0.5565453     </td><td>0.4461409     </td><td>0.2935909     </td><td>⋯             </td><td>0.5510645     </td><td>1.017515      </td><td>0.8860314     </td><td>0.713177      </td><td>0.7292359     </td><td>1.232066      </td><td>1.044897      </td><td>0.8746327     </td><td>0.9001704     </td><td>0.3629591     </td></tr>\n",
       "</tbody>\n",
       "</table>\n"
      ],
      "text/latex": [
       "\\begin{tabular}{r|lllllllllllllllllllllllllllllllllllllll}\n",
       " Term & A01 & A02 & A03 & A04 & A05 & A06 & A07 & A08 & A09 & ⋯ & C06 & C07 & C08 & C09 & C10 & C11 & C12 & D01 & D02 & D03\\\\\n",
       "\\hline\n",
       "\t Bindea\\_TMEcell & 0.7492009        & 0.9917098        & 1.059214         & 0.809765         & 0.7259042        & 0.6248692        & 0.5565453        & 0.4461409        & 0.2935909        & ⋯                & 0.5510645        & 1.017515         & 0.8860314        & 0.713177         & 0.7292359        & 1.232066         & 1.044897         & 0.8746327        & 0.9001704        & 0.3629591       \\\\\n",
       "\\end{tabular}\n"
      ],
      "text/markdown": [
       "\n",
       "Term | A01 | A02 | A03 | A04 | A05 | A06 | A07 | A08 | A09 | ⋯ | C06 | C07 | C08 | C09 | C10 | C11 | C12 | D01 | D02 | D03 | \n",
       "|---|\n",
       "| Bindea_TMEcell | 0.7492009      | 0.9917098      | 1.059214       | 0.809765       | 0.7259042      | 0.6248692      | 0.5565453      | 0.4461409      | 0.2935909      | ⋯              | 0.5510645      | 1.017515       | 0.8860314      | 0.713177       | 0.7292359      | 1.232066       | 1.044897       | 0.8746327      | 0.9001704      | 0.3629591      | \n",
       "\n",
       "\n"
      ],
      "text/plain": [
       "  Term           A01       A02       A03      A04      A05       A06      \n",
       "1 Bindea_TMEcell 0.7492009 0.9917098 1.059214 0.809765 0.7259042 0.6248692\n",
       "  A07       A08       A09       ⋯ C06       C07      C08       C09     \n",
       "1 0.5565453 0.4461409 0.2935909 ⋯ 0.5510645 1.017515 0.8860314 0.713177\n",
       "  C10       C11      C12      D01       D02       D03      \n",
       "1 0.7292359 1.232066 1.044897 0.8746327 0.9001704 0.3629591"
      ]
     },
     "metadata": {},
     "output_type": "display_data"
    }
   ],
   "source": [
    "head(bin_NES)"
   ]
  },
  {
   "cell_type": "code",
   "execution_count": 21,
   "metadata": {},
   "outputs": [],
   "source": [
    "write.table(bin_NES,\n",
    "            file='../..Data/3/BindeaTMEcellularity_TreatmentNaive_NES.txt',\n",
    "            sep='\\t',\n",
    "            row.names=F,\n",
    "            col.names=T)"
   ]
  },
  {
   "cell_type": "markdown",
   "metadata": {},
   "source": [
    "#### Davoli"
   ]
  },
  {
   "cell_type": "code",
   "execution_count": 22,
   "metadata": {},
   "outputs": [
    {
     "name": "stdout",
     "output_type": "stream",
     "text": [
      "Estimating ssGSEA scores for 1 gene sets.\n",
      "  |                                                                      |   0%Using parallel with 4 cores\n",
      "  |======================================================================| 100%\n"
     ]
    }
   ],
   "source": [
    "dav_NES <- gsva(data_mtx,\n",
    "                Davoli_TMEcell,\n",
    "                method='ssgsea',\n",
    "                min.sz=0,\n",
    "                max.sz=1100,\n",
    "                ssgsea.norm=T)"
   ]
  },
  {
   "cell_type": "code",
   "execution_count": 23,
   "metadata": {},
   "outputs": [],
   "source": [
    "dav_NES <- data.frame(\"Term\"=rownames(dav_NES),\n",
    "                      dav_NES)\n",
    "\n",
    "rownames(dav_NES) <- NULL"
   ]
  },
  {
   "cell_type": "code",
   "execution_count": 24,
   "metadata": {},
   "outputs": [
    {
     "data": {
      "text/html": [
       "<table>\n",
       "<thead><tr><th scope=col>Term</th><th scope=col>A01</th><th scope=col>A02</th><th scope=col>A03</th><th scope=col>A04</th><th scope=col>A05</th><th scope=col>A06</th><th scope=col>A07</th><th scope=col>A08</th><th scope=col>A09</th><th scope=col>⋯</th><th scope=col>C06</th><th scope=col>C07</th><th scope=col>C08</th><th scope=col>C09</th><th scope=col>C10</th><th scope=col>C11</th><th scope=col>C12</th><th scope=col>D01</th><th scope=col>D02</th><th scope=col>D03</th></tr></thead>\n",
       "<tbody>\n",
       "\t<tr><td>Davoli_TMEcell</td><td>0.009751339   </td><td>0.3633422     </td><td>0.2607868     </td><td>-0.1812392    </td><td>-0.1537246    </td><td>-0.3023574    </td><td>-0.6098606    </td><td>-0.5359914    </td><td>-0.6366578    </td><td>⋯             </td><td>-0.3959049    </td><td>-0.09227635   </td><td>-0.3343951    </td><td>-0.2892762    </td><td>-0.3820762    </td><td>0.1998811     </td><td>0.06194643    </td><td>-0.05174808   </td><td>0.05735878    </td><td>-0.6090584    </td></tr>\n",
       "</tbody>\n",
       "</table>\n"
      ],
      "text/latex": [
       "\\begin{tabular}{r|lllllllllllllllllllllllllllllllllllllll}\n",
       " Term & A01 & A02 & A03 & A04 & A05 & A06 & A07 & A08 & A09 & ⋯ & C06 & C07 & C08 & C09 & C10 & C11 & C12 & D01 & D02 & D03\\\\\n",
       "\\hline\n",
       "\t Davoli\\_TMEcell & 0.009751339      & 0.3633422        & 0.2607868        & -0.1812392       & -0.1537246       & -0.3023574       & -0.6098606       & -0.5359914       & -0.6366578       & ⋯                & -0.3959049       & -0.09227635      & -0.3343951       & -0.2892762       & -0.3820762       & 0.1998811        & 0.06194643       & -0.05174808      & 0.05735878       & -0.6090584      \\\\\n",
       "\\end{tabular}\n"
      ],
      "text/markdown": [
       "\n",
       "Term | A01 | A02 | A03 | A04 | A05 | A06 | A07 | A08 | A09 | ⋯ | C06 | C07 | C08 | C09 | C10 | C11 | C12 | D01 | D02 | D03 | \n",
       "|---|\n",
       "| Davoli_TMEcell | 0.009751339    | 0.3633422      | 0.2607868      | -0.1812392     | -0.1537246     | -0.3023574     | -0.6098606     | -0.5359914     | -0.6366578     | ⋯              | -0.3959049     | -0.09227635    | -0.3343951     | -0.2892762     | -0.3820762     | 0.1998811      | 0.06194643     | -0.05174808    | 0.05735878     | -0.6090584     | \n",
       "\n",
       "\n"
      ],
      "text/plain": [
       "  Term           A01         A02       A03       A04        A05       \n",
       "1 Davoli_TMEcell 0.009751339 0.3633422 0.2607868 -0.1812392 -0.1537246\n",
       "  A06        A07        A08        A09        ⋯ C06        C07        \n",
       "1 -0.3023574 -0.6098606 -0.5359914 -0.6366578 ⋯ -0.3959049 -0.09227635\n",
       "  C08        C09        C10        C11       C12        D01         D02       \n",
       "1 -0.3343951 -0.2892762 -0.3820762 0.1998811 0.06194643 -0.05174808 0.05735878\n",
       "  D03       \n",
       "1 -0.6090584"
      ]
     },
     "metadata": {},
     "output_type": "display_data"
    }
   ],
   "source": [
    "head(dav_NES)"
   ]
  },
  {
   "cell_type": "code",
   "execution_count": 25,
   "metadata": {},
   "outputs": [],
   "source": [
    "write.table(dav_NES,\n",
    "            file='../../Data/3/DavoliTMEcellularity_TreatmentNaive_NES.txt',\n",
    "            sep='\\t',\n",
    "            row.names=F,\n",
    "            col.names=T)"
   ]
  },
  {
   "cell_type": "markdown",
   "metadata": {},
   "source": [
    "#### Danaher"
   ]
  },
  {
   "cell_type": "code",
   "execution_count": 26,
   "metadata": {},
   "outputs": [
    {
     "name": "stdout",
     "output_type": "stream",
     "text": [
      "Estimating ssGSEA scores for 1 gene sets.\n",
      "  |                                                                      |   0%Using parallel with 4 cores\n",
      "  |======================================================================| 100%\n"
     ]
    }
   ],
   "source": [
    "dan_NES <- gsva(data_mtx,\n",
    "                Danaher_TMEcell,\n",
    "                method='ssgsea',\n",
    "                min.sz=0,\n",
    "                max.sz=1100,\n",
    "                ssgsea.norm=T)"
   ]
  },
  {
   "cell_type": "code",
   "execution_count": 27,
   "metadata": {},
   "outputs": [],
   "source": [
    "dan_NES <- data.frame(\"Term\"=rownames(dan_NES),\n",
    "                      dan_NES)\n",
    "\n",
    "rownames(dan_NES) <- NULL"
   ]
  },
  {
   "cell_type": "code",
   "execution_count": 28,
   "metadata": {},
   "outputs": [
    {
     "data": {
      "text/html": [
       "<table>\n",
       "<thead><tr><th scope=col>Term</th><th scope=col>A01</th><th scope=col>A02</th><th scope=col>A03</th><th scope=col>A04</th><th scope=col>A05</th><th scope=col>A06</th><th scope=col>A07</th><th scope=col>A08</th><th scope=col>A09</th><th scope=col>⋯</th><th scope=col>C06</th><th scope=col>C07</th><th scope=col>C08</th><th scope=col>C09</th><th scope=col>C10</th><th scope=col>C11</th><th scope=col>C12</th><th scope=col>D01</th><th scope=col>D02</th><th scope=col>D03</th></tr></thead>\n",
       "<tbody>\n",
       "\t<tr><td>Danaher_TMEcell</td><td>-0.498688      </td><td>-0.3783385     </td><td>-0.3498316     </td><td>-1.030722      </td><td>-0.7117401     </td><td>-0.8569472     </td><td>-1.169526      </td><td>-1.009881      </td><td>-1.186357      </td><td>⋯              </td><td>-0.962662      </td><td>-0.8875233     </td><td>-0.973798      </td><td>-0.8162896     </td><td>-1.042372      </td><td>-0.4629659     </td><td>-0.4122083     </td><td>-0.6209736     </td><td>-0.5146083     </td><td>-0.9819627     </td></tr>\n",
       "</tbody>\n",
       "</table>\n"
      ],
      "text/latex": [
       "\\begin{tabular}{r|lllllllllllllllllllllllllllllllllllllll}\n",
       " Term & A01 & A02 & A03 & A04 & A05 & A06 & A07 & A08 & A09 & ⋯ & C06 & C07 & C08 & C09 & C10 & C11 & C12 & D01 & D02 & D03\\\\\n",
       "\\hline\n",
       "\t Danaher\\_TMEcell & -0.498688         & -0.3783385        & -0.3498316        & -1.030722         & -0.7117401        & -0.8569472        & -1.169526         & -1.009881         & -1.186357         & ⋯                 & -0.962662         & -0.8875233        & -0.973798         & -0.8162896        & -1.042372         & -0.4629659        & -0.4122083        & -0.6209736        & -0.5146083        & -0.9819627       \\\\\n",
       "\\end{tabular}\n"
      ],
      "text/markdown": [
       "\n",
       "Term | A01 | A02 | A03 | A04 | A05 | A06 | A07 | A08 | A09 | ⋯ | C06 | C07 | C08 | C09 | C10 | C11 | C12 | D01 | D02 | D03 | \n",
       "|---|\n",
       "| Danaher_TMEcell | -0.498688       | -0.3783385      | -0.3498316      | -1.030722       | -0.7117401      | -0.8569472      | -1.169526       | -1.009881       | -1.186357       | ⋯               | -0.962662       | -0.8875233      | -0.973798       | -0.8162896      | -1.042372       | -0.4629659      | -0.4122083      | -0.6209736      | -0.5146083      | -0.9819627      | \n",
       "\n",
       "\n"
      ],
      "text/plain": [
       "  Term            A01       A02        A03        A04       A05       \n",
       "1 Danaher_TMEcell -0.498688 -0.3783385 -0.3498316 -1.030722 -0.7117401\n",
       "  A06        A07       A08       A09       ⋯ C06       C07        C08      \n",
       "1 -0.8569472 -1.169526 -1.009881 -1.186357 ⋯ -0.962662 -0.8875233 -0.973798\n",
       "  C09        C10       C11        C12        D01        D02        D03       \n",
       "1 -0.8162896 -1.042372 -0.4629659 -0.4122083 -0.6209736 -0.5146083 -0.9819627"
      ]
     },
     "metadata": {},
     "output_type": "display_data"
    }
   ],
   "source": [
    "head(dan_NES)"
   ]
  },
  {
   "cell_type": "code",
   "execution_count": 29,
   "metadata": {},
   "outputs": [],
   "source": [
    "write.table(dan_NES,\n",
    "            file='../../Data/3/DanaherTMEcellularity_TreatmentNaive_NES.txt',\n",
    "            sep='\\t',\n",
    "            row.names=F,\n",
    "            col.names=T)"
   ]
  },
  {
   "cell_type": "markdown",
   "metadata": {},
   "source": [
    "#### ConsensusTME"
   ]
  },
  {
   "cell_type": "code",
   "execution_count": 30,
   "metadata": {},
   "outputs": [
    {
     "name": "stdout",
     "output_type": "stream",
     "text": [
      "Estimating ssGSEA scores for 1 gene sets.\n",
      "  |                                                                      |   0%Using parallel with 4 cores\n",
      "  |======================================================================| 100%\n"
     ]
    }
   ],
   "source": [
    "con_NES <- gsva(data_mtx,\n",
    "                ConsensusTMEcell,\n",
    "                method='ssgsea',\n",
    "                min.sz=0,\n",
    "                max.sz=1100,\n",
    "                ssgsea.norm=T)"
   ]
  },
  {
   "cell_type": "code",
   "execution_count": 31,
   "metadata": {},
   "outputs": [],
   "source": [
    "con_NES <- data.frame(\"Term\"=rownames(con_NES),\n",
    "                      con_NES)\n",
    "\n",
    "rownames(con_NES) <- NULL"
   ]
  },
  {
   "cell_type": "code",
   "execution_count": 32,
   "metadata": {},
   "outputs": [
    {
     "data": {
      "text/html": [
       "<table>\n",
       "<thead><tr><th scope=col>Term</th><th scope=col>A01</th><th scope=col>A02</th><th scope=col>A03</th><th scope=col>A04</th><th scope=col>A05</th><th scope=col>A06</th><th scope=col>A07</th><th scope=col>A08</th><th scope=col>A09</th><th scope=col>⋯</th><th scope=col>C06</th><th scope=col>C07</th><th scope=col>C08</th><th scope=col>C09</th><th scope=col>C10</th><th scope=col>C11</th><th scope=col>C12</th><th scope=col>D01</th><th scope=col>D02</th><th scope=col>D03</th></tr></thead>\n",
       "<tbody>\n",
       "\t<tr><td>ConsensusTME_TMEcellularity</td><td>0.3673039                  </td><td>0.5373674                  </td><td>0.5578817                  </td><td>0.08469402                 </td><td>0.1413316                  </td><td>0.08238206                 </td><td>-0.1295567                 </td><td>-0.1038453                 </td><td>-0.2183373                 </td><td>⋯                          </td><td>0.01741573                 </td><td>0.3200996                  </td><td>0.06160396                 </td><td>0.187207                   </td><td>-0.005299474               </td><td>0.4506598                  </td><td>0.4181803                  </td><td>0.3261779                  </td><td>0.4520828                  </td><td>-0.1126742                 </td></tr>\n",
       "</tbody>\n",
       "</table>\n"
      ],
      "text/latex": [
       "\\begin{tabular}{r|lllllllllllllllllllllllllllllllllllllll}\n",
       " Term & A01 & A02 & A03 & A04 & A05 & A06 & A07 & A08 & A09 & ⋯ & C06 & C07 & C08 & C09 & C10 & C11 & C12 & D01 & D02 & D03\\\\\n",
       "\\hline\n",
       "\t ConsensusTME\\_TMEcellularity & 0.3673039                     & 0.5373674                     & 0.5578817                     & 0.08469402                    & 0.1413316                     & 0.08238206                    & -0.1295567                    & -0.1038453                    & -0.2183373                    & ⋯                             & 0.01741573                    & 0.3200996                     & 0.06160396                    & 0.187207                      & -0.005299474                  & 0.4506598                     & 0.4181803                     & 0.3261779                     & 0.4520828                     & -0.1126742                   \\\\\n",
       "\\end{tabular}\n"
      ],
      "text/markdown": [
       "\n",
       "Term | A01 | A02 | A03 | A04 | A05 | A06 | A07 | A08 | A09 | ⋯ | C06 | C07 | C08 | C09 | C10 | C11 | C12 | D01 | D02 | D03 | \n",
       "|---|\n",
       "| ConsensusTME_TMEcellularity | 0.3673039                   | 0.5373674                   | 0.5578817                   | 0.08469402                  | 0.1413316                   | 0.08238206                  | -0.1295567                  | -0.1038453                  | -0.2183373                  | ⋯                           | 0.01741573                  | 0.3200996                   | 0.06160396                  | 0.187207                    | -0.005299474                | 0.4506598                   | 0.4181803                   | 0.3261779                   | 0.4520828                   | -0.1126742                  | \n",
       "\n",
       "\n"
      ],
      "text/plain": [
       "  Term                        A01       A02       A03       A04       \n",
       "1 ConsensusTME_TMEcellularity 0.3673039 0.5373674 0.5578817 0.08469402\n",
       "  A05       A06        A07        A08        A09        ⋯ C06        C07      \n",
       "1 0.1413316 0.08238206 -0.1295567 -0.1038453 -0.2183373 ⋯ 0.01741573 0.3200996\n",
       "  C08        C09      C10          C11       C12       D01       D02      \n",
       "1 0.06160396 0.187207 -0.005299474 0.4506598 0.4181803 0.3261779 0.4520828\n",
       "  D03       \n",
       "1 -0.1126742"
      ]
     },
     "metadata": {},
     "output_type": "display_data"
    }
   ],
   "source": [
    "head(con_NES)"
   ]
  },
  {
   "cell_type": "code",
   "execution_count": 33,
   "metadata": {},
   "outputs": [],
   "source": [
    "write.table(con_NES,\n",
    "            file='../../Data/3/ConsensusTMEcellularity_TreatmentNaive_NES.txt',\n",
    "            sep='\\t',\n",
    "            row.names=F,\n",
    "            col.names=T)"
   ]
  },
  {
   "cell_type": "markdown",
   "metadata": {},
   "source": [
    "# End script"
   ]
  }
 ],
 "metadata": {
  "kernelspec": {
   "display_name": "R",
   "language": "R",
   "name": "ir"
  },
  "language_info": {
   "codemirror_mode": "r",
   "file_extension": ".r",
   "mimetype": "text/x-r-source",
   "name": "R",
   "pygments_lexer": "r",
   "version": "3.5.0"
  }
 },
 "nbformat": 4,
 "nbformat_minor": 2
}

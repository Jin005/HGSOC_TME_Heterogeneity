{
 "cells": [
  {
   "cell_type": "markdown",
   "metadata": {},
   "source": [
    "# Calculate MCP counter TME cellularity on treatment naive samples"
   ]
  },
  {
   "cell_type": "markdown",
   "metadata": {},
   "source": [
    "Script related to figure 3a-b \n",
    "\n",
    "### Aim:\n",
    "- Calculate MCP counter TME cellularity of samples"
   ]
  },
  {
   "cell_type": "code",
   "execution_count": 1,
   "metadata": {},
   "outputs": [
    {
     "name": "stdout",
     "output_type": "stream",
     "text": [
      "Python 3.6.8 :: Anaconda custom (64-bit)\r\n"
     ]
    }
   ],
   "source": [
    "!python --version"
   ]
  },
  {
   "cell_type": "markdown",
   "metadata": {},
   "source": [
    "## Import packages"
   ]
  },
  {
   "cell_type": "code",
   "execution_count": 1,
   "metadata": {},
   "outputs": [],
   "source": [
    "import pandas as pd"
   ]
  },
  {
   "cell_type": "code",
   "execution_count": 2,
   "metadata": {},
   "outputs": [],
   "source": [
    "home = \"~/git_repos/HGSOC_TME_Heterogeneity/\""
   ]
  },
  {
   "cell_type": "markdown",
   "metadata": {},
   "source": [
    "## Load MCP counter results"
   ]
  },
  {
   "cell_type": "code",
   "execution_count": 5,
   "metadata": {},
   "outputs": [],
   "source": [
    "mcp_results = home + 'Data/3/MCPcounterImmuneCells_TreatmentNaive_Results.txt'\n",
    "\n",
    "mcp_results = pd.read_csv(mcp_results,\n",
    "                          sep='\\t')"
   ]
  },
  {
   "cell_type": "code",
   "execution_count": 6,
   "metadata": {},
   "outputs": [
    {
     "data": {
      "text/html": [
       "<div>\n",
       "<style scoped>\n",
       "    .dataframe tbody tr th:only-of-type {\n",
       "        vertical-align: middle;\n",
       "    }\n",
       "\n",
       "    .dataframe tbody tr th {\n",
       "        vertical-align: top;\n",
       "    }\n",
       "\n",
       "    .dataframe thead th {\n",
       "        text-align: right;\n",
       "    }\n",
       "</style>\n",
       "<table border=\"1\" class=\"dataframe\">\n",
       "  <thead>\n",
       "    <tr style=\"text-align: right;\">\n",
       "      <th></th>\n",
       "      <th>A01</th>\n",
       "      <th>A02</th>\n",
       "      <th>A03</th>\n",
       "      <th>A04</th>\n",
       "      <th>A05</th>\n",
       "      <th>A06</th>\n",
       "      <th>A07</th>\n",
       "      <th>A08</th>\n",
       "      <th>A09</th>\n",
       "      <th>A10</th>\n",
       "      <th>...</th>\n",
       "      <th>C06</th>\n",
       "      <th>C07</th>\n",
       "      <th>C08</th>\n",
       "      <th>C09</th>\n",
       "      <th>C10</th>\n",
       "      <th>C11</th>\n",
       "      <th>C12</th>\n",
       "      <th>D01</th>\n",
       "      <th>D02</th>\n",
       "      <th>D03</th>\n",
       "    </tr>\n",
       "  </thead>\n",
       "  <tbody>\n",
       "    <tr>\n",
       "      <th>T cells</th>\n",
       "      <td>4.528487</td>\n",
       "      <td>5.207708</td>\n",
       "      <td>4.683623</td>\n",
       "      <td>4.609657</td>\n",
       "      <td>4.414914</td>\n",
       "      <td>4.199644</td>\n",
       "      <td>4.593121</td>\n",
       "      <td>4.254721</td>\n",
       "      <td>4.055357</td>\n",
       "      <td>4.658334</td>\n",
       "      <td>...</td>\n",
       "      <td>4.541452</td>\n",
       "      <td>4.662020</td>\n",
       "      <td>4.272964</td>\n",
       "      <td>4.653528</td>\n",
       "      <td>4.557505</td>\n",
       "      <td>5.281122</td>\n",
       "      <td>5.016379</td>\n",
       "      <td>4.551343</td>\n",
       "      <td>4.833545</td>\n",
       "      <td>4.343201</td>\n",
       "    </tr>\n",
       "    <tr>\n",
       "      <th>CD8 T cells</th>\n",
       "      <td>3.362125</td>\n",
       "      <td>3.340149</td>\n",
       "      <td>3.170813</td>\n",
       "      <td>3.210788</td>\n",
       "      <td>3.267672</td>\n",
       "      <td>3.141570</td>\n",
       "      <td>3.251608</td>\n",
       "      <td>3.181663</td>\n",
       "      <td>3.164478</td>\n",
       "      <td>3.618108</td>\n",
       "      <td>...</td>\n",
       "      <td>2.878650</td>\n",
       "      <td>3.171745</td>\n",
       "      <td>2.830048</td>\n",
       "      <td>3.357170</td>\n",
       "      <td>3.062634</td>\n",
       "      <td>3.138733</td>\n",
       "      <td>2.860706</td>\n",
       "      <td>3.219622</td>\n",
       "      <td>2.840067</td>\n",
       "      <td>2.810478</td>\n",
       "    </tr>\n",
       "    <tr>\n",
       "      <th>Cytotoxic lymphocytes</th>\n",
       "      <td>4.839624</td>\n",
       "      <td>4.830298</td>\n",
       "      <td>4.607910</td>\n",
       "      <td>4.295373</td>\n",
       "      <td>4.642049</td>\n",
       "      <td>4.386060</td>\n",
       "      <td>4.000044</td>\n",
       "      <td>4.588757</td>\n",
       "      <td>4.031320</td>\n",
       "      <td>4.245466</td>\n",
       "      <td>...</td>\n",
       "      <td>4.265814</td>\n",
       "      <td>4.001872</td>\n",
       "      <td>3.889891</td>\n",
       "      <td>4.239514</td>\n",
       "      <td>4.249442</td>\n",
       "      <td>4.613459</td>\n",
       "      <td>4.607575</td>\n",
       "      <td>4.331030</td>\n",
       "      <td>4.217703</td>\n",
       "      <td>4.114927</td>\n",
       "    </tr>\n",
       "    <tr>\n",
       "      <th>NK cells</th>\n",
       "      <td>4.044117</td>\n",
       "      <td>4.034815</td>\n",
       "      <td>4.192092</td>\n",
       "      <td>4.004696</td>\n",
       "      <td>4.145191</td>\n",
       "      <td>4.038369</td>\n",
       "      <td>3.972244</td>\n",
       "      <td>4.185339</td>\n",
       "      <td>3.796969</td>\n",
       "      <td>3.818561</td>\n",
       "      <td>...</td>\n",
       "      <td>4.074165</td>\n",
       "      <td>3.861065</td>\n",
       "      <td>4.096786</td>\n",
       "      <td>4.199403</td>\n",
       "      <td>4.016601</td>\n",
       "      <td>4.018716</td>\n",
       "      <td>4.005642</td>\n",
       "      <td>4.036763</td>\n",
       "      <td>3.940997</td>\n",
       "      <td>3.898257</td>\n",
       "    </tr>\n",
       "    <tr>\n",
       "      <th>B lineage</th>\n",
       "      <td>6.192896</td>\n",
       "      <td>6.174202</td>\n",
       "      <td>6.383181</td>\n",
       "      <td>5.801224</td>\n",
       "      <td>5.881343</td>\n",
       "      <td>5.424083</td>\n",
       "      <td>5.611007</td>\n",
       "      <td>5.250402</td>\n",
       "      <td>4.903956</td>\n",
       "      <td>6.366628</td>\n",
       "      <td>...</td>\n",
       "      <td>5.257515</td>\n",
       "      <td>5.498879</td>\n",
       "      <td>5.306347</td>\n",
       "      <td>5.182485</td>\n",
       "      <td>5.085177</td>\n",
       "      <td>7.219469</td>\n",
       "      <td>6.323789</td>\n",
       "      <td>5.284524</td>\n",
       "      <td>6.140568</td>\n",
       "      <td>5.183236</td>\n",
       "    </tr>\n",
       "  </tbody>\n",
       "</table>\n",
       "<p>5 rows × 38 columns</p>\n",
       "</div>"
      ],
      "text/plain": [
       "                            A01       A02       A03       A04       A05  \\\n",
       "T cells                4.528487  5.207708  4.683623  4.609657  4.414914   \n",
       "CD8 T cells            3.362125  3.340149  3.170813  3.210788  3.267672   \n",
       "Cytotoxic lymphocytes  4.839624  4.830298  4.607910  4.295373  4.642049   \n",
       "NK cells               4.044117  4.034815  4.192092  4.004696  4.145191   \n",
       "B lineage              6.192896  6.174202  6.383181  5.801224  5.881343   \n",
       "\n",
       "                            A06       A07       A08       A09       A10  ...  \\\n",
       "T cells                4.199644  4.593121  4.254721  4.055357  4.658334  ...   \n",
       "CD8 T cells            3.141570  3.251608  3.181663  3.164478  3.618108  ...   \n",
       "Cytotoxic lymphocytes  4.386060  4.000044  4.588757  4.031320  4.245466  ...   \n",
       "NK cells               4.038369  3.972244  4.185339  3.796969  3.818561  ...   \n",
       "B lineage              5.424083  5.611007  5.250402  4.903956  6.366628  ...   \n",
       "\n",
       "                            C06       C07       C08       C09       C10  \\\n",
       "T cells                4.541452  4.662020  4.272964  4.653528  4.557505   \n",
       "CD8 T cells            2.878650  3.171745  2.830048  3.357170  3.062634   \n",
       "Cytotoxic lymphocytes  4.265814  4.001872  3.889891  4.239514  4.249442   \n",
       "NK cells               4.074165  3.861065  4.096786  4.199403  4.016601   \n",
       "B lineage              5.257515  5.498879  5.306347  5.182485  5.085177   \n",
       "\n",
       "                            C11       C12       D01       D02       D03  \n",
       "T cells                5.281122  5.016379  4.551343  4.833545  4.343201  \n",
       "CD8 T cells            3.138733  2.860706  3.219622  2.840067  2.810478  \n",
       "Cytotoxic lymphocytes  4.613459  4.607575  4.331030  4.217703  4.114927  \n",
       "NK cells               4.018716  4.005642  4.036763  3.940997  3.898257  \n",
       "B lineage              7.219469  6.323789  5.284524  6.140568  5.183236  \n",
       "\n",
       "[5 rows x 38 columns]"
      ]
     },
     "execution_count": 6,
     "metadata": {},
     "output_type": "execute_result"
    }
   ],
   "source": [
    "mcp_results.head()"
   ]
  },
  {
   "cell_type": "markdown",
   "metadata": {},
   "source": [
    "### Add values per sample"
   ]
  },
  {
   "cell_type": "code",
   "execution_count": 7,
   "metadata": {},
   "outputs": [],
   "source": [
    "mcp_TMEcell = mcp_results.sum(axis='index')"
   ]
  },
  {
   "cell_type": "code",
   "execution_count": 8,
   "metadata": {},
   "outputs": [
    {
     "data": {
      "text/plain": [
       "A01    52.921805\n",
       "A02    54.331328\n",
       "A03    54.552966\n",
       "A04    50.375172\n",
       "A05    50.768222\n",
       "dtype: float64"
      ]
     },
     "execution_count": 8,
     "metadata": {},
     "output_type": "execute_result"
    }
   ],
   "source": [
    "mcp_TMEcell.head()"
   ]
  },
  {
   "cell_type": "code",
   "execution_count": 9,
   "metadata": {},
   "outputs": [],
   "source": [
    "mcp_TMEcell_df = pd.DataFrame({'Term':mcp_TMEcell.index,\n",
    "                               'MCP_TMEcellularity':mcp_TMEcell.values})\n",
    "\n",
    "mcp_TMEcell_df = mcp_TMEcell_df.T"
   ]
  },
  {
   "cell_type": "code",
   "execution_count": 10,
   "metadata": {},
   "outputs": [
    {
     "data": {
      "text/html": [
       "<div>\n",
       "<style scoped>\n",
       "    .dataframe tbody tr th:only-of-type {\n",
       "        vertical-align: middle;\n",
       "    }\n",
       "\n",
       "    .dataframe tbody tr th {\n",
       "        vertical-align: top;\n",
       "    }\n",
       "\n",
       "    .dataframe thead th {\n",
       "        text-align: right;\n",
       "    }\n",
       "</style>\n",
       "<table border=\"1\" class=\"dataframe\">\n",
       "  <thead>\n",
       "    <tr style=\"text-align: right;\">\n",
       "      <th></th>\n",
       "      <th>0</th>\n",
       "      <th>1</th>\n",
       "      <th>2</th>\n",
       "      <th>3</th>\n",
       "      <th>4</th>\n",
       "      <th>5</th>\n",
       "      <th>6</th>\n",
       "      <th>7</th>\n",
       "      <th>8</th>\n",
       "      <th>9</th>\n",
       "      <th>...</th>\n",
       "      <th>28</th>\n",
       "      <th>29</th>\n",
       "      <th>30</th>\n",
       "      <th>31</th>\n",
       "      <th>32</th>\n",
       "      <th>33</th>\n",
       "      <th>34</th>\n",
       "      <th>35</th>\n",
       "      <th>36</th>\n",
       "      <th>37</th>\n",
       "    </tr>\n",
       "  </thead>\n",
       "  <tbody>\n",
       "    <tr>\n",
       "      <th>Term</th>\n",
       "      <td>A01</td>\n",
       "      <td>A02</td>\n",
       "      <td>A03</td>\n",
       "      <td>A04</td>\n",
       "      <td>A05</td>\n",
       "      <td>A06</td>\n",
       "      <td>A07</td>\n",
       "      <td>A08</td>\n",
       "      <td>A09</td>\n",
       "      <td>A10</td>\n",
       "      <td>...</td>\n",
       "      <td>C06</td>\n",
       "      <td>C07</td>\n",
       "      <td>C08</td>\n",
       "      <td>C09</td>\n",
       "      <td>C10</td>\n",
       "      <td>C11</td>\n",
       "      <td>C12</td>\n",
       "      <td>D01</td>\n",
       "      <td>D02</td>\n",
       "      <td>D03</td>\n",
       "    </tr>\n",
       "    <tr>\n",
       "      <th>MCP_TMEcellularity</th>\n",
       "      <td>52.9218</td>\n",
       "      <td>54.3313</td>\n",
       "      <td>54.553</td>\n",
       "      <td>50.3752</td>\n",
       "      <td>50.7682</td>\n",
       "      <td>50.278</td>\n",
       "      <td>49.0193</td>\n",
       "      <td>47.9784</td>\n",
       "      <td>47.525</td>\n",
       "      <td>50.0291</td>\n",
       "      <td>...</td>\n",
       "      <td>50.5677</td>\n",
       "      <td>53.5541</td>\n",
       "      <td>51.8184</td>\n",
       "      <td>51.7158</td>\n",
       "      <td>50.8296</td>\n",
       "      <td>55.9712</td>\n",
       "      <td>55.0383</td>\n",
       "      <td>53.2303</td>\n",
       "      <td>54.1586</td>\n",
       "      <td>48.5016</td>\n",
       "    </tr>\n",
       "  </tbody>\n",
       "</table>\n",
       "<p>2 rows × 38 columns</p>\n",
       "</div>"
      ],
      "text/plain": [
       "                         0        1       2        3        4       5   \\\n",
       "Term                    A01      A02     A03      A04      A05     A06   \n",
       "MCP_TMEcellularity  52.9218  54.3313  54.553  50.3752  50.7682  50.278   \n",
       "\n",
       "                         6        7       8        9   ...       28       29  \\\n",
       "Term                    A07      A08     A09      A10  ...      C06      C07   \n",
       "MCP_TMEcellularity  49.0193  47.9784  47.525  50.0291  ...  50.5677  53.5541   \n",
       "\n",
       "                         30       31       32       33       34       35  \\\n",
       "Term                    C08      C09      C10      C11      C12      D01   \n",
       "MCP_TMEcellularity  51.8184  51.7158  50.8296  55.9712  55.0383  53.2303   \n",
       "\n",
       "                         36       37  \n",
       "Term                    D02      D03  \n",
       "MCP_TMEcellularity  54.1586  48.5016  \n",
       "\n",
       "[2 rows x 38 columns]"
      ]
     },
     "execution_count": 10,
     "metadata": {},
     "output_type": "execute_result"
    }
   ],
   "source": [
    "mcp_TMEcell_df"
   ]
  },
  {
   "cell_type": "markdown",
   "metadata": {},
   "source": [
    "#### Save file"
   ]
  },
  {
   "cell_type": "code",
   "execution_count": 11,
   "metadata": {},
   "outputs": [],
   "source": [
    "mcp_TMEcell_df.to_csv('../../Data/3/MCPcounterTMEcellularity_TreatmentNaive_Results.txt',\n",
    "                      sep='\\t',\n",
    "                      header=False,\n",
    "                      index=True)"
   ]
  },
  {
   "cell_type": "markdown",
   "metadata": {},
   "source": [
    "# End script"
   ]
  }
 ],
 "metadata": {
  "kernelspec": {
   "display_name": "Python 3",
   "language": "python",
   "name": "python3"
  },
  "language_info": {
   "codemirror_mode": {
    "name": "ipython",
    "version": 3
   },
   "file_extension": ".py",
   "mimetype": "text/x-python",
   "name": "python",
   "nbconvert_exporter": "python",
   "pygments_lexer": "ipython3",
   "version": "3.6.8"
  }
 },
 "nbformat": 4,
 "nbformat_minor": 2
}

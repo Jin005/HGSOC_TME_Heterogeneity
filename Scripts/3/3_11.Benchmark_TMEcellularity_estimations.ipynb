{
 "cells": [
  {
   "cell_type": "markdown",
   "metadata": {},
   "source": [
    "# Benchmark TME cellularity estimations"
   ]
  },
  {
   "cell_type": "markdown",
   "metadata": {},
   "source": [
    "Script related to figure 3a\n",
    "\n",
    "### Aim:\n",
    "- Benchmark TME cellularity scores using WES derived tumour cellularity as benchmark data set"
   ]
  },
  {
   "cell_type": "code",
   "execution_count": 1,
   "metadata": {},
   "outputs": [
    {
     "name": "stdout",
     "output_type": "stream",
     "text": [
      "Python 3.6.8 :: Anaconda custom (64-bit)\r\n"
     ]
    }
   ],
   "source": [
    "!python --version"
   ]
  },
  {
   "cell_type": "markdown",
   "metadata": {},
   "source": [
    "## Import packages"
   ]
  },
  {
   "cell_type": "code",
   "execution_count": 17,
   "metadata": {},
   "outputs": [],
   "source": [
    "import pandas as pd\n",
    "import seaborn as sns\n",
    "import matplotlib.pyplot as plt\n",
    "from scipy.stats import kendalltau"
   ]
  },
  {
   "cell_type": "code",
   "execution_count": 18,
   "metadata": {},
   "outputs": [],
   "source": [
    "import scipy"
   ]
  },
  {
   "cell_type": "code",
   "execution_count": 19,
   "metadata": {},
   "outputs": [
    {
     "data": {
      "text/plain": [
       "'1.4.1'"
      ]
     },
     "execution_count": 19,
     "metadata": {},
     "output_type": "execute_result"
    }
   ],
   "source": [
    "scipy.__version__"
   ]
  },
  {
   "cell_type": "code",
   "execution_count": 20,
   "metadata": {},
   "outputs": [],
   "source": [
    "home = \"~/git_repos/HGSOC_TME_Heterogeneity/\""
   ]
  },
  {
   "cell_type": "markdown",
   "metadata": {},
   "source": [
    "## Get sample labels"
   ]
  },
  {
   "cell_type": "markdown",
   "metadata": {},
   "source": [
    "### Load file"
   ]
  },
  {
   "cell_type": "code",
   "execution_count": 21,
   "metadata": {},
   "outputs": [
    {
     "name": "stdout",
     "output_type": "stream",
     "text": [
      "../../Data/1/TreatmentNaive_SampleLabels_WESTumourCellularity.txt\r\n"
     ]
    }
   ],
   "source": [
    "ls ../../Data/1/TreatmentNaive_SampleLabels_WESTumourCellularity.txt"
   ]
  },
  {
   "cell_type": "code",
   "execution_count": 22,
   "metadata": {},
   "outputs": [],
   "source": [
    "file_keys = home + 'Data/1/TreatmentNaive_SampleLabels_WESTumourCellularity.txt'\n",
    "\n",
    "sample_labels = pd.read_csv(file_keys,\n",
    "                            sep='\\t',\n",
    "                            index_col='Well')"
   ]
  },
  {
   "cell_type": "code",
   "execution_count": 23,
   "metadata": {},
   "outputs": [
    {
     "data": {
      "text/html": [
       "<div>\n",
       "<style scoped>\n",
       "    .dataframe tbody tr th:only-of-type {\n",
       "        vertical-align: middle;\n",
       "    }\n",
       "\n",
       "    .dataframe tbody tr th {\n",
       "        vertical-align: top;\n",
       "    }\n",
       "\n",
       "    .dataframe thead th {\n",
       "        text-align: right;\n",
       "    }\n",
       "</style>\n",
       "<table border=\"1\" class=\"dataframe\">\n",
       "  <thead>\n",
       "    <tr style=\"text-align: right;\">\n",
       "      <th></th>\n",
       "      <th>Label</th>\n",
       "      <th>Key</th>\n",
       "      <th>Case_mRNA</th>\n",
       "      <th>Site</th>\n",
       "      <th>Habitat</th>\n",
       "      <th>Case_WES</th>\n",
       "      <th>Tumour_WES</th>\n",
       "      <th>Colour</th>\n",
       "      <th>Site_marker</th>\n",
       "      <th>TumourCellularity_WES</th>\n",
       "    </tr>\n",
       "    <tr>\n",
       "      <th>Well</th>\n",
       "      <th></th>\n",
       "      <th></th>\n",
       "      <th></th>\n",
       "      <th></th>\n",
       "      <th></th>\n",
       "      <th></th>\n",
       "      <th></th>\n",
       "      <th></th>\n",
       "      <th></th>\n",
       "      <th></th>\n",
       "    </tr>\n",
       "  </thead>\n",
       "  <tbody>\n",
       "    <tr>\n",
       "      <th>A01</th>\n",
       "      <td>A01_3640_5_Omentum</td>\n",
       "      <td>case10_omentum_green</td>\n",
       "      <td>10</td>\n",
       "      <td>omentum</td>\n",
       "      <td>green</td>\n",
       "      <td>10.0</td>\n",
       "      <td>5</td>\n",
       "      <td>#ff7f00</td>\n",
       "      <td>^</td>\n",
       "      <td>0.5973</td>\n",
       "    </tr>\n",
       "    <tr>\n",
       "      <th>A02</th>\n",
       "      <td>A02_3640_7_Omentum</td>\n",
       "      <td>case10_omentum_blue</td>\n",
       "      <td>10</td>\n",
       "      <td>omentum</td>\n",
       "      <td>blue</td>\n",
       "      <td>10.0</td>\n",
       "      <td>7</td>\n",
       "      <td>#ff7f00</td>\n",
       "      <td>^</td>\n",
       "      <td>0.5065</td>\n",
       "    </tr>\n",
       "    <tr>\n",
       "      <th>A03</th>\n",
       "      <td>A03_3640_9_Paracolic_Gutter</td>\n",
       "      <td>case10_paracolic_yellow</td>\n",
       "      <td>10</td>\n",
       "      <td>other</td>\n",
       "      <td>yellow</td>\n",
       "      <td>10.0</td>\n",
       "      <td>8</td>\n",
       "      <td>#ff7f00</td>\n",
       "      <td>s</td>\n",
       "      <td>0.4551</td>\n",
       "    </tr>\n",
       "    <tr>\n",
       "      <th>A04</th>\n",
       "      <td>A04_3640_17_R_Adnexa</td>\n",
       "      <td>case10_Radnexa_yellow</td>\n",
       "      <td>10</td>\n",
       "      <td>ovary</td>\n",
       "      <td>yellow</td>\n",
       "      <td>10.0</td>\n",
       "      <td>17</td>\n",
       "      <td>#ff7f00</td>\n",
       "      <td>o</td>\n",
       "      <td>0.6496</td>\n",
       "    </tr>\n",
       "    <tr>\n",
       "      <th>A05</th>\n",
       "      <td>A05_3640_18_R_Adnexa</td>\n",
       "      <td>case10_Radnexa_blue</td>\n",
       "      <td>10</td>\n",
       "      <td>ovary</td>\n",
       "      <td>blue</td>\n",
       "      <td>10.0</td>\n",
       "      <td>18</td>\n",
       "      <td>#ff7f00</td>\n",
       "      <td>o</td>\n",
       "      <td>0.6706</td>\n",
       "    </tr>\n",
       "  </tbody>\n",
       "</table>\n",
       "</div>"
      ],
      "text/plain": [
       "                            Label                      Key  Case_mRNA  \\\n",
       "Well                                                                    \n",
       "A01            A01_3640_5_Omentum     case10_omentum_green         10   \n",
       "A02            A02_3640_7_Omentum      case10_omentum_blue         10   \n",
       "A03   A03_3640_9_Paracolic_Gutter  case10_paracolic_yellow         10   \n",
       "A04          A04_3640_17_R_Adnexa    case10_Radnexa_yellow         10   \n",
       "A05          A05_3640_18_R_Adnexa      case10_Radnexa_blue         10   \n",
       "\n",
       "         Site Habitat  Case_WES Tumour_WES   Colour Site_marker  \\\n",
       "Well                                                              \n",
       "A01   omentum   green      10.0          5  #ff7f00           ^   \n",
       "A02   omentum    blue      10.0          7  #ff7f00           ^   \n",
       "A03     other  yellow      10.0          8  #ff7f00           s   \n",
       "A04     ovary  yellow      10.0         17  #ff7f00           o   \n",
       "A05     ovary    blue      10.0         18  #ff7f00           o   \n",
       "\n",
       "      TumourCellularity_WES  \n",
       "Well                         \n",
       "A01                  0.5973  \n",
       "A02                  0.5065  \n",
       "A03                  0.4551  \n",
       "A04                  0.6496  \n",
       "A05                  0.6706  "
      ]
     },
     "execution_count": 23,
     "metadata": {},
     "output_type": "execute_result"
    }
   ],
   "source": [
    "sample_labels.head()"
   ]
  },
  {
   "cell_type": "markdown",
   "metadata": {},
   "source": [
    "## Load methods' TME cellularity estimates"
   ]
  },
  {
   "cell_type": "markdown",
   "metadata": {},
   "source": [
    "### Bindea"
   ]
  },
  {
   "cell_type": "code",
   "execution_count": 24,
   "metadata": {},
   "outputs": [
    {
     "name": "stdout",
     "output_type": "stream",
     "text": [
      "../../Data/3/BindeaTMEcellularity_TreatmentNaive_NES.txt\r\n"
     ]
    }
   ],
   "source": [
    "ls ../../Data/3/BindeaTMEcellularity_TreatmentNaive_NES.txt"
   ]
  },
  {
   "cell_type": "code",
   "execution_count": 25,
   "metadata": {},
   "outputs": [],
   "source": [
    "bin_TMEcell = pd.read_csv('../../Data/3/BindeaTMEcellularity_TreatmentNaive_NES.txt',\n",
    "                          sep='\\t',\n",
    "                          index_col='Term').T"
   ]
  },
  {
   "cell_type": "code",
   "execution_count": 26,
   "metadata": {},
   "outputs": [
    {
     "data": {
      "text/html": [
       "<div>\n",
       "<style scoped>\n",
       "    .dataframe tbody tr th:only-of-type {\n",
       "        vertical-align: middle;\n",
       "    }\n",
       "\n",
       "    .dataframe tbody tr th {\n",
       "        vertical-align: top;\n",
       "    }\n",
       "\n",
       "    .dataframe thead th {\n",
       "        text-align: right;\n",
       "    }\n",
       "</style>\n",
       "<table border=\"1\" class=\"dataframe\">\n",
       "  <thead>\n",
       "    <tr style=\"text-align: right;\">\n",
       "      <th>Term</th>\n",
       "      <th>Bindea_TMEcell</th>\n",
       "    </tr>\n",
       "  </thead>\n",
       "  <tbody>\n",
       "    <tr>\n",
       "      <th>A01</th>\n",
       "      <td>0.749201</td>\n",
       "    </tr>\n",
       "    <tr>\n",
       "      <th>A02</th>\n",
       "      <td>0.991710</td>\n",
       "    </tr>\n",
       "    <tr>\n",
       "      <th>A03</th>\n",
       "      <td>1.059214</td>\n",
       "    </tr>\n",
       "    <tr>\n",
       "      <th>A04</th>\n",
       "      <td>0.809765</td>\n",
       "    </tr>\n",
       "    <tr>\n",
       "      <th>A05</th>\n",
       "      <td>0.725904</td>\n",
       "    </tr>\n",
       "  </tbody>\n",
       "</table>\n",
       "</div>"
      ],
      "text/plain": [
       "Term  Bindea_TMEcell\n",
       "A01         0.749201\n",
       "A02         0.991710\n",
       "A03         1.059214\n",
       "A04         0.809765\n",
       "A05         0.725904"
      ]
     },
     "execution_count": 26,
     "metadata": {},
     "output_type": "execute_result"
    }
   ],
   "source": [
    "bin_TMEcell.head()"
   ]
  },
  {
   "cell_type": "markdown",
   "metadata": {},
   "source": [
    "### Davoli"
   ]
  },
  {
   "cell_type": "code",
   "execution_count": 27,
   "metadata": {},
   "outputs": [
    {
     "name": "stdout",
     "output_type": "stream",
     "text": [
      "../../Data/3/DavoliTMEcellularity_TreatmentNaive_NES.txt\r\n"
     ]
    }
   ],
   "source": [
    "ls ../../Data/3/DavoliTMEcellularity_TreatmentNaive_NES.txt"
   ]
  },
  {
   "cell_type": "code",
   "execution_count": 28,
   "metadata": {},
   "outputs": [],
   "source": [
    "dav_TMEcell = pd.read_csv('../../Data/3/DavoliTMEcellularity_TreatmentNaive_NES.txt',\n",
    "                          sep='\\t',\n",
    "                          index_col='Term').T"
   ]
  },
  {
   "cell_type": "code",
   "execution_count": 29,
   "metadata": {},
   "outputs": [
    {
     "data": {
      "text/html": [
       "<div>\n",
       "<style scoped>\n",
       "    .dataframe tbody tr th:only-of-type {\n",
       "        vertical-align: middle;\n",
       "    }\n",
       "\n",
       "    .dataframe tbody tr th {\n",
       "        vertical-align: top;\n",
       "    }\n",
       "\n",
       "    .dataframe thead th {\n",
       "        text-align: right;\n",
       "    }\n",
       "</style>\n",
       "<table border=\"1\" class=\"dataframe\">\n",
       "  <thead>\n",
       "    <tr style=\"text-align: right;\">\n",
       "      <th>Term</th>\n",
       "      <th>Davoli_TMEcell</th>\n",
       "    </tr>\n",
       "  </thead>\n",
       "  <tbody>\n",
       "    <tr>\n",
       "      <th>A01</th>\n",
       "      <td>0.009751</td>\n",
       "    </tr>\n",
       "    <tr>\n",
       "      <th>A02</th>\n",
       "      <td>0.363342</td>\n",
       "    </tr>\n",
       "    <tr>\n",
       "      <th>A03</th>\n",
       "      <td>0.260787</td>\n",
       "    </tr>\n",
       "    <tr>\n",
       "      <th>A04</th>\n",
       "      <td>-0.181239</td>\n",
       "    </tr>\n",
       "    <tr>\n",
       "      <th>A05</th>\n",
       "      <td>-0.153725</td>\n",
       "    </tr>\n",
       "  </tbody>\n",
       "</table>\n",
       "</div>"
      ],
      "text/plain": [
       "Term  Davoli_TMEcell\n",
       "A01         0.009751\n",
       "A02         0.363342\n",
       "A03         0.260787\n",
       "A04        -0.181239\n",
       "A05        -0.153725"
      ]
     },
     "execution_count": 29,
     "metadata": {},
     "output_type": "execute_result"
    }
   ],
   "source": [
    "dav_TMEcell.head()"
   ]
  },
  {
   "cell_type": "markdown",
   "metadata": {},
   "source": [
    "### Danaher"
   ]
  },
  {
   "cell_type": "code",
   "execution_count": 30,
   "metadata": {},
   "outputs": [
    {
     "name": "stdout",
     "output_type": "stream",
     "text": [
      "../../Data/3/DanaherTMEcellularity_TreatmentNaive_NES.txt\r\n"
     ]
    }
   ],
   "source": [
    "ls ../../Data/3/DanaherTMEcellularity_TreatmentNaive_NES.txt"
   ]
  },
  {
   "cell_type": "code",
   "execution_count": 31,
   "metadata": {},
   "outputs": [],
   "source": [
    "dan_TMEcell = pd.read_csv('../../Data/3/DanaherTMEcellularity_TreatmentNaive_NES.txt',\n",
    "                          sep='\\t',\n",
    "                          index_col='Term').T"
   ]
  },
  {
   "cell_type": "code",
   "execution_count": 32,
   "metadata": {},
   "outputs": [
    {
     "data": {
      "text/html": [
       "<div>\n",
       "<style scoped>\n",
       "    .dataframe tbody tr th:only-of-type {\n",
       "        vertical-align: middle;\n",
       "    }\n",
       "\n",
       "    .dataframe tbody tr th {\n",
       "        vertical-align: top;\n",
       "    }\n",
       "\n",
       "    .dataframe thead th {\n",
       "        text-align: right;\n",
       "    }\n",
       "</style>\n",
       "<table border=\"1\" class=\"dataframe\">\n",
       "  <thead>\n",
       "    <tr style=\"text-align: right;\">\n",
       "      <th>Term</th>\n",
       "      <th>Danaher_TMEcell</th>\n",
       "    </tr>\n",
       "  </thead>\n",
       "  <tbody>\n",
       "    <tr>\n",
       "      <th>A01</th>\n",
       "      <td>-0.498688</td>\n",
       "    </tr>\n",
       "    <tr>\n",
       "      <th>A02</th>\n",
       "      <td>-0.378338</td>\n",
       "    </tr>\n",
       "    <tr>\n",
       "      <th>A03</th>\n",
       "      <td>-0.349832</td>\n",
       "    </tr>\n",
       "    <tr>\n",
       "      <th>A04</th>\n",
       "      <td>-1.030722</td>\n",
       "    </tr>\n",
       "    <tr>\n",
       "      <th>A05</th>\n",
       "      <td>-0.711740</td>\n",
       "    </tr>\n",
       "  </tbody>\n",
       "</table>\n",
       "</div>"
      ],
      "text/plain": [
       "Term  Danaher_TMEcell\n",
       "A01         -0.498688\n",
       "A02         -0.378338\n",
       "A03         -0.349832\n",
       "A04         -1.030722\n",
       "A05         -0.711740"
      ]
     },
     "execution_count": 32,
     "metadata": {},
     "output_type": "execute_result"
    }
   ],
   "source": [
    "dan_TMEcell.head()"
   ]
  },
  {
   "cell_type": "markdown",
   "metadata": {},
   "source": [
    "### MCP counter"
   ]
  },
  {
   "cell_type": "code",
   "execution_count": 33,
   "metadata": {},
   "outputs": [
    {
     "name": "stdout",
     "output_type": "stream",
     "text": [
      "../../Data/3/MCPcounterTMEcellularity_TreatmentNaive_Results.txt\r\n"
     ]
    }
   ],
   "source": [
    "ls ../../Data/3/MCPcounterTMEcellularity_TreatmentNaive_Results.txt"
   ]
  },
  {
   "cell_type": "code",
   "execution_count": 34,
   "metadata": {},
   "outputs": [],
   "source": [
    "mcp_TMEcell = pd.read_csv('../../Data/3/MCPcounterTMEcellularity_TreatmentNaive_Results.txt',\n",
    "                          sep='\\t',\n",
    "                          index_col='Term').T"
   ]
  },
  {
   "cell_type": "code",
   "execution_count": 35,
   "metadata": {},
   "outputs": [
    {
     "data": {
      "text/html": [
       "<div>\n",
       "<style scoped>\n",
       "    .dataframe tbody tr th:only-of-type {\n",
       "        vertical-align: middle;\n",
       "    }\n",
       "\n",
       "    .dataframe tbody tr th {\n",
       "        vertical-align: top;\n",
       "    }\n",
       "\n",
       "    .dataframe thead th {\n",
       "        text-align: right;\n",
       "    }\n",
       "</style>\n",
       "<table border=\"1\" class=\"dataframe\">\n",
       "  <thead>\n",
       "    <tr style=\"text-align: right;\">\n",
       "      <th>Term</th>\n",
       "      <th>MCP_TMEcellularity</th>\n",
       "    </tr>\n",
       "  </thead>\n",
       "  <tbody>\n",
       "    <tr>\n",
       "      <th>A01</th>\n",
       "      <td>52.921805</td>\n",
       "    </tr>\n",
       "    <tr>\n",
       "      <th>A02</th>\n",
       "      <td>54.331328</td>\n",
       "    </tr>\n",
       "    <tr>\n",
       "      <th>A03</th>\n",
       "      <td>54.552966</td>\n",
       "    </tr>\n",
       "    <tr>\n",
       "      <th>A04</th>\n",
       "      <td>50.375172</td>\n",
       "    </tr>\n",
       "    <tr>\n",
       "      <th>A05</th>\n",
       "      <td>50.768222</td>\n",
       "    </tr>\n",
       "  </tbody>\n",
       "</table>\n",
       "</div>"
      ],
      "text/plain": [
       "Term  MCP_TMEcellularity\n",
       "A01            52.921805\n",
       "A02            54.331328\n",
       "A03            54.552966\n",
       "A04            50.375172\n",
       "A05            50.768222"
      ]
     },
     "execution_count": 35,
     "metadata": {},
     "output_type": "execute_result"
    }
   ],
   "source": [
    "mcp_TMEcell.head()"
   ]
  },
  {
   "cell_type": "code",
   "execution_count": 36,
   "metadata": {},
   "outputs": [],
   "source": [
    "mcp_TMEcell.rename(columns={'MCP_TMEcellularity':'MCP_TMEcell'},\n",
    "                   inplace=True)"
   ]
  },
  {
   "cell_type": "code",
   "execution_count": 37,
   "metadata": {},
   "outputs": [
    {
     "data": {
      "text/html": [
       "<div>\n",
       "<style scoped>\n",
       "    .dataframe tbody tr th:only-of-type {\n",
       "        vertical-align: middle;\n",
       "    }\n",
       "\n",
       "    .dataframe tbody tr th {\n",
       "        vertical-align: top;\n",
       "    }\n",
       "\n",
       "    .dataframe thead th {\n",
       "        text-align: right;\n",
       "    }\n",
       "</style>\n",
       "<table border=\"1\" class=\"dataframe\">\n",
       "  <thead>\n",
       "    <tr style=\"text-align: right;\">\n",
       "      <th>Term</th>\n",
       "      <th>MCP_TMEcell</th>\n",
       "    </tr>\n",
       "  </thead>\n",
       "  <tbody>\n",
       "    <tr>\n",
       "      <th>A01</th>\n",
       "      <td>52.921805</td>\n",
       "    </tr>\n",
       "    <tr>\n",
       "      <th>A02</th>\n",
       "      <td>54.331328</td>\n",
       "    </tr>\n",
       "    <tr>\n",
       "      <th>A03</th>\n",
       "      <td>54.552966</td>\n",
       "    </tr>\n",
       "    <tr>\n",
       "      <th>A04</th>\n",
       "      <td>50.375172</td>\n",
       "    </tr>\n",
       "    <tr>\n",
       "      <th>A05</th>\n",
       "      <td>50.768222</td>\n",
       "    </tr>\n",
       "  </tbody>\n",
       "</table>\n",
       "</div>"
      ],
      "text/plain": [
       "Term  MCP_TMEcell\n",
       "A01     52.921805\n",
       "A02     54.331328\n",
       "A03     54.552966\n",
       "A04     50.375172\n",
       "A05     50.768222"
      ]
     },
     "execution_count": 37,
     "metadata": {},
     "output_type": "execute_result"
    }
   ],
   "source": [
    "mcp_TMEcell.head()"
   ]
  },
  {
   "cell_type": "markdown",
   "metadata": {},
   "source": [
    "### CIBERSORT absolute"
   ]
  },
  {
   "cell_type": "code",
   "execution_count": 38,
   "metadata": {},
   "outputs": [
    {
     "name": "stdout",
     "output_type": "stream",
     "text": [
      "../../Data/3/CIBERSORT_absolute_TreatmentNaive_Results.txt\r\n"
     ]
    }
   ],
   "source": [
    "ls ../../Data/3/CIBERSORT_absolute_TreatmentNaive_Results.txt"
   ]
  },
  {
   "cell_type": "code",
   "execution_count": 39,
   "metadata": {},
   "outputs": [],
   "source": [
    "cib_abs_results = pd.read_csv('../../Data/3/CIBERSORT_absolute_TreatmentNaive_Results.txt',\n",
    "                              sep='\\t',\n",
    "                              index_col='Mixture')"
   ]
  },
  {
   "cell_type": "code",
   "execution_count": 40,
   "metadata": {},
   "outputs": [
    {
     "data": {
      "text/html": [
       "<div>\n",
       "<style scoped>\n",
       "    .dataframe tbody tr th:only-of-type {\n",
       "        vertical-align: middle;\n",
       "    }\n",
       "\n",
       "    .dataframe tbody tr th {\n",
       "        vertical-align: top;\n",
       "    }\n",
       "\n",
       "    .dataframe thead th {\n",
       "        text-align: right;\n",
       "    }\n",
       "</style>\n",
       "<table border=\"1\" class=\"dataframe\">\n",
       "  <thead>\n",
       "    <tr style=\"text-align: right;\">\n",
       "      <th></th>\n",
       "      <th>B cells naive</th>\n",
       "      <th>B cells memory</th>\n",
       "      <th>Plasma cells</th>\n",
       "      <th>T cells CD8</th>\n",
       "      <th>T cells CD4 naive</th>\n",
       "      <th>T cells CD4 memory resting</th>\n",
       "      <th>T cells CD4 memory activated</th>\n",
       "      <th>T cells follicular helper</th>\n",
       "      <th>T cells regulatory (Tregs)</th>\n",
       "      <th>T cells gamma delta</th>\n",
       "      <th>...</th>\n",
       "      <th>Dendritic cells resting</th>\n",
       "      <th>Dendritic cells activated</th>\n",
       "      <th>Mast cells resting</th>\n",
       "      <th>Mast cells activated</th>\n",
       "      <th>Eosinophils</th>\n",
       "      <th>Neutrophils</th>\n",
       "      <th>P-value</th>\n",
       "      <th>Correlation</th>\n",
       "      <th>RMSE</th>\n",
       "      <th>Absolute score (sig.score)</th>\n",
       "    </tr>\n",
       "    <tr>\n",
       "      <th>Mixture</th>\n",
       "      <th></th>\n",
       "      <th></th>\n",
       "      <th></th>\n",
       "      <th></th>\n",
       "      <th></th>\n",
       "      <th></th>\n",
       "      <th></th>\n",
       "      <th></th>\n",
       "      <th></th>\n",
       "      <th></th>\n",
       "      <th></th>\n",
       "      <th></th>\n",
       "      <th></th>\n",
       "      <th></th>\n",
       "      <th></th>\n",
       "      <th></th>\n",
       "      <th></th>\n",
       "      <th></th>\n",
       "      <th></th>\n",
       "      <th></th>\n",
       "      <th></th>\n",
       "    </tr>\n",
       "  </thead>\n",
       "  <tbody>\n",
       "    <tr>\n",
       "      <th>A01</th>\n",
       "      <td>0.021557</td>\n",
       "      <td>0.000000</td>\n",
       "      <td>0.315502</td>\n",
       "      <td>0.0</td>\n",
       "      <td>0.000000</td>\n",
       "      <td>0.088324</td>\n",
       "      <td>0.033568</td>\n",
       "      <td>0.0</td>\n",
       "      <td>0.00000</td>\n",
       "      <td>0.027776</td>\n",
       "      <td>...</td>\n",
       "      <td>0.014450</td>\n",
       "      <td>0.000000</td>\n",
       "      <td>0.041463</td>\n",
       "      <td>0.0</td>\n",
       "      <td>0.019144</td>\n",
       "      <td>0.018094</td>\n",
       "      <td>0.0</td>\n",
       "      <td>0.742259</td>\n",
       "      <td>0.689899</td>\n",
       "      <td>0.663951</td>\n",
       "    </tr>\n",
       "    <tr>\n",
       "      <th>A02</th>\n",
       "      <td>0.000083</td>\n",
       "      <td>0.000000</td>\n",
       "      <td>0.241360</td>\n",
       "      <td>0.0</td>\n",
       "      <td>0.000000</td>\n",
       "      <td>0.116493</td>\n",
       "      <td>0.007963</td>\n",
       "      <td>0.0</td>\n",
       "      <td>0.00000</td>\n",
       "      <td>0.102854</td>\n",
       "      <td>...</td>\n",
       "      <td>0.002606</td>\n",
       "      <td>0.027973</td>\n",
       "      <td>0.038371</td>\n",
       "      <td>0.0</td>\n",
       "      <td>0.023381</td>\n",
       "      <td>0.007771</td>\n",
       "      <td>0.0</td>\n",
       "      <td>0.594326</td>\n",
       "      <td>0.807266</td>\n",
       "      <td>0.637033</td>\n",
       "    </tr>\n",
       "    <tr>\n",
       "      <th>A03</th>\n",
       "      <td>0.000000</td>\n",
       "      <td>0.000000</td>\n",
       "      <td>0.286786</td>\n",
       "      <td>0.0</td>\n",
       "      <td>0.000000</td>\n",
       "      <td>0.188860</td>\n",
       "      <td>0.028038</td>\n",
       "      <td>0.0</td>\n",
       "      <td>0.00000</td>\n",
       "      <td>0.040406</td>\n",
       "      <td>...</td>\n",
       "      <td>0.006859</td>\n",
       "      <td>0.000000</td>\n",
       "      <td>0.027099</td>\n",
       "      <td>0.0</td>\n",
       "      <td>0.004736</td>\n",
       "      <td>0.015791</td>\n",
       "      <td>0.0</td>\n",
       "      <td>0.685774</td>\n",
       "      <td>0.740759</td>\n",
       "      <td>0.650632</td>\n",
       "    </tr>\n",
       "    <tr>\n",
       "      <th>A04</th>\n",
       "      <td>0.000000</td>\n",
       "      <td>0.027127</td>\n",
       "      <td>0.292471</td>\n",
       "      <td>0.0</td>\n",
       "      <td>0.032608</td>\n",
       "      <td>0.052369</td>\n",
       "      <td>0.000000</td>\n",
       "      <td>0.0</td>\n",
       "      <td>0.00518</td>\n",
       "      <td>0.000000</td>\n",
       "      <td>...</td>\n",
       "      <td>0.000000</td>\n",
       "      <td>0.052431</td>\n",
       "      <td>0.019916</td>\n",
       "      <td>0.0</td>\n",
       "      <td>0.003215</td>\n",
       "      <td>0.005984</td>\n",
       "      <td>0.0</td>\n",
       "      <td>0.673854</td>\n",
       "      <td>0.742165</td>\n",
       "      <td>0.580156</td>\n",
       "    </tr>\n",
       "    <tr>\n",
       "      <th>A05</th>\n",
       "      <td>0.000000</td>\n",
       "      <td>0.017532</td>\n",
       "      <td>0.298348</td>\n",
       "      <td>0.0</td>\n",
       "      <td>0.013684</td>\n",
       "      <td>0.104442</td>\n",
       "      <td>0.032678</td>\n",
       "      <td>0.0</td>\n",
       "      <td>0.00000</td>\n",
       "      <td>0.000000</td>\n",
       "      <td>...</td>\n",
       "      <td>0.000000</td>\n",
       "      <td>0.003416</td>\n",
       "      <td>0.025481</td>\n",
       "      <td>0.0</td>\n",
       "      <td>0.014741</td>\n",
       "      <td>0.000000</td>\n",
       "      <td>0.0</td>\n",
       "      <td>0.761541</td>\n",
       "      <td>0.668641</td>\n",
       "      <td>0.592368</td>\n",
       "    </tr>\n",
       "  </tbody>\n",
       "</table>\n",
       "<p>5 rows × 26 columns</p>\n",
       "</div>"
      ],
      "text/plain": [
       "         B cells naive  B cells memory  Plasma cells  T cells CD8  \\\n",
       "Mixture                                                             \n",
       "A01           0.021557        0.000000      0.315502          0.0   \n",
       "A02           0.000083        0.000000      0.241360          0.0   \n",
       "A03           0.000000        0.000000      0.286786          0.0   \n",
       "A04           0.000000        0.027127      0.292471          0.0   \n",
       "A05           0.000000        0.017532      0.298348          0.0   \n",
       "\n",
       "         T cells CD4 naive  T cells CD4 memory resting  \\\n",
       "Mixture                                                  \n",
       "A01               0.000000                    0.088324   \n",
       "A02               0.000000                    0.116493   \n",
       "A03               0.000000                    0.188860   \n",
       "A04               0.032608                    0.052369   \n",
       "A05               0.013684                    0.104442   \n",
       "\n",
       "         T cells CD4 memory activated  T cells follicular helper  \\\n",
       "Mixture                                                            \n",
       "A01                          0.033568                        0.0   \n",
       "A02                          0.007963                        0.0   \n",
       "A03                          0.028038                        0.0   \n",
       "A04                          0.000000                        0.0   \n",
       "A05                          0.032678                        0.0   \n",
       "\n",
       "         T cells regulatory (Tregs)  T cells gamma delta  ...  \\\n",
       "Mixture                                                   ...   \n",
       "A01                         0.00000             0.027776  ...   \n",
       "A02                         0.00000             0.102854  ...   \n",
       "A03                         0.00000             0.040406  ...   \n",
       "A04                         0.00518             0.000000  ...   \n",
       "A05                         0.00000             0.000000  ...   \n",
       "\n",
       "         Dendritic cells resting  Dendritic cells activated  \\\n",
       "Mixture                                                       \n",
       "A01                     0.014450                   0.000000   \n",
       "A02                     0.002606                   0.027973   \n",
       "A03                     0.006859                   0.000000   \n",
       "A04                     0.000000                   0.052431   \n",
       "A05                     0.000000                   0.003416   \n",
       "\n",
       "         Mast cells resting  Mast cells activated  Eosinophils  Neutrophils  \\\n",
       "Mixture                                                                       \n",
       "A01                0.041463                   0.0     0.019144     0.018094   \n",
       "A02                0.038371                   0.0     0.023381     0.007771   \n",
       "A03                0.027099                   0.0     0.004736     0.015791   \n",
       "A04                0.019916                   0.0     0.003215     0.005984   \n",
       "A05                0.025481                   0.0     0.014741     0.000000   \n",
       "\n",
       "         P-value  Correlation      RMSE  Absolute score (sig.score)  \n",
       "Mixture                                                              \n",
       "A01          0.0     0.742259  0.689899                    0.663951  \n",
       "A02          0.0     0.594326  0.807266                    0.637033  \n",
       "A03          0.0     0.685774  0.740759                    0.650632  \n",
       "A04          0.0     0.673854  0.742165                    0.580156  \n",
       "A05          0.0     0.761541  0.668641                    0.592368  \n",
       "\n",
       "[5 rows x 26 columns]"
      ]
     },
     "execution_count": 40,
     "metadata": {},
     "output_type": "execute_result"
    }
   ],
   "source": [
    "cib_abs_results.head()"
   ]
  },
  {
   "cell_type": "markdown",
   "metadata": {},
   "source": [
    "### Calculate samples TME cellularity based on CIBERSORT absolute score"
   ]
  },
  {
   "cell_type": "code",
   "execution_count": 41,
   "metadata": {},
   "outputs": [],
   "source": [
    "# Remove columns that are not cells\n",
    "cib_not_cells = ['P-value',\n",
    "                 'Correlation',\n",
    "                 'RMSE',\n",
    "                 'Absolute score (sig.score)']\n",
    "\n",
    "cib_abs_TMEcell = cib_abs_results.drop(labels=cib_not_cells,\n",
    "                                       axis='columns').sum(axis='columns')"
   ]
  },
  {
   "cell_type": "code",
   "execution_count": 42,
   "metadata": {},
   "outputs": [
    {
     "data": {
      "text/plain": [
       "Mixture\n",
       "A01    0.663951\n",
       "A02    0.637033\n",
       "A03    0.650632\n",
       "A04    0.580156\n",
       "A05    0.592368\n",
       "dtype: float64"
      ]
     },
     "execution_count": 42,
     "metadata": {},
     "output_type": "execute_result"
    }
   ],
   "source": [
    "cib_abs_TMEcell.head()"
   ]
  },
  {
   "cell_type": "code",
   "execution_count": 43,
   "metadata": {},
   "outputs": [],
   "source": [
    "cib_abs_TMEcell_df = pd.DataFrame({'Term':cib_abs_results.index,\n",
    "                                   'CIBERSORT_abs_TMEcell':cib_abs_TMEcell})\n",
    "\n",
    "cib_abs_TMEcell_df.set_index('Term',\n",
    "                             inplace=True)"
   ]
  },
  {
   "cell_type": "code",
   "execution_count": 44,
   "metadata": {},
   "outputs": [
    {
     "data": {
      "text/html": [
       "<div>\n",
       "<style scoped>\n",
       "    .dataframe tbody tr th:only-of-type {\n",
       "        vertical-align: middle;\n",
       "    }\n",
       "\n",
       "    .dataframe tbody tr th {\n",
       "        vertical-align: top;\n",
       "    }\n",
       "\n",
       "    .dataframe thead th {\n",
       "        text-align: right;\n",
       "    }\n",
       "</style>\n",
       "<table border=\"1\" class=\"dataframe\">\n",
       "  <thead>\n",
       "    <tr style=\"text-align: right;\">\n",
       "      <th></th>\n",
       "      <th>CIBERSORT_abs_TMEcell</th>\n",
       "    </tr>\n",
       "    <tr>\n",
       "      <th>Term</th>\n",
       "      <th></th>\n",
       "    </tr>\n",
       "  </thead>\n",
       "  <tbody>\n",
       "    <tr>\n",
       "      <th>A01</th>\n",
       "      <td>0.663951</td>\n",
       "    </tr>\n",
       "    <tr>\n",
       "      <th>A02</th>\n",
       "      <td>0.637033</td>\n",
       "    </tr>\n",
       "    <tr>\n",
       "      <th>A03</th>\n",
       "      <td>0.650632</td>\n",
       "    </tr>\n",
       "    <tr>\n",
       "      <th>A04</th>\n",
       "      <td>0.580156</td>\n",
       "    </tr>\n",
       "    <tr>\n",
       "      <th>A05</th>\n",
       "      <td>0.592368</td>\n",
       "    </tr>\n",
       "  </tbody>\n",
       "</table>\n",
       "</div>"
      ],
      "text/plain": [
       "      CIBERSORT_abs_TMEcell\n",
       "Term                       \n",
       "A01                0.663951\n",
       "A02                0.637033\n",
       "A03                0.650632\n",
       "A04                0.580156\n",
       "A05                0.592368"
      ]
     },
     "execution_count": 44,
     "metadata": {},
     "output_type": "execute_result"
    }
   ],
   "source": [
    "cib_abs_TMEcell_df.head()"
   ]
  },
  {
   "cell_type": "markdown",
   "metadata": {},
   "source": [
    "### CIBERSORT relative"
   ]
  },
  {
   "cell_type": "code",
   "execution_count": 45,
   "metadata": {},
   "outputs": [
    {
     "name": "stdout",
     "output_type": "stream",
     "text": [
      "../../Data/3/CIBERSORT_relative_TreatmentNaive_Results.txt\r\n"
     ]
    }
   ],
   "source": [
    "ls ../../Data/3/CIBERSORT_relative_TreatmentNaive_Results.txt"
   ]
  },
  {
   "cell_type": "code",
   "execution_count": 46,
   "metadata": {},
   "outputs": [],
   "source": [
    "cib_rel_results = pd.read_csv('../../Data/3/CIBERSORT_relative_TreatmentNaive_Results.txt',\n",
    "                              sep='\\t',\n",
    "                              index_col='Mixture')"
   ]
  },
  {
   "cell_type": "code",
   "execution_count": 47,
   "metadata": {},
   "outputs": [
    {
     "data": {
      "text/html": [
       "<div>\n",
       "<style scoped>\n",
       "    .dataframe tbody tr th:only-of-type {\n",
       "        vertical-align: middle;\n",
       "    }\n",
       "\n",
       "    .dataframe tbody tr th {\n",
       "        vertical-align: top;\n",
       "    }\n",
       "\n",
       "    .dataframe thead th {\n",
       "        text-align: right;\n",
       "    }\n",
       "</style>\n",
       "<table border=\"1\" class=\"dataframe\">\n",
       "  <thead>\n",
       "    <tr style=\"text-align: right;\">\n",
       "      <th></th>\n",
       "      <th>B cells naive</th>\n",
       "      <th>B cells memory</th>\n",
       "      <th>Plasma cells</th>\n",
       "      <th>T cells CD8</th>\n",
       "      <th>T cells CD4 naive</th>\n",
       "      <th>T cells CD4 memory resting</th>\n",
       "      <th>T cells CD4 memory activated</th>\n",
       "      <th>T cells follicular helper</th>\n",
       "      <th>T cells regulatory (Tregs)</th>\n",
       "      <th>T cells gamma delta</th>\n",
       "      <th>...</th>\n",
       "      <th>Macrophages M2</th>\n",
       "      <th>Dendritic cells resting</th>\n",
       "      <th>Dendritic cells activated</th>\n",
       "      <th>Mast cells resting</th>\n",
       "      <th>Mast cells activated</th>\n",
       "      <th>Eosinophils</th>\n",
       "      <th>Neutrophils</th>\n",
       "      <th>P-value</th>\n",
       "      <th>Correlation</th>\n",
       "      <th>RMSE</th>\n",
       "    </tr>\n",
       "    <tr>\n",
       "      <th>Mixture</th>\n",
       "      <th></th>\n",
       "      <th></th>\n",
       "      <th></th>\n",
       "      <th></th>\n",
       "      <th></th>\n",
       "      <th></th>\n",
       "      <th></th>\n",
       "      <th></th>\n",
       "      <th></th>\n",
       "      <th></th>\n",
       "      <th></th>\n",
       "      <th></th>\n",
       "      <th></th>\n",
       "      <th></th>\n",
       "      <th></th>\n",
       "      <th></th>\n",
       "      <th></th>\n",
       "      <th></th>\n",
       "      <th></th>\n",
       "      <th></th>\n",
       "      <th></th>\n",
       "    </tr>\n",
       "  </thead>\n",
       "  <tbody>\n",
       "    <tr>\n",
       "      <th>A01</th>\n",
       "      <td>0.032468</td>\n",
       "      <td>0.000000</td>\n",
       "      <td>0.475189</td>\n",
       "      <td>0.0</td>\n",
       "      <td>0.000000</td>\n",
       "      <td>0.133028</td>\n",
       "      <td>0.050558</td>\n",
       "      <td>0.0</td>\n",
       "      <td>0.000000</td>\n",
       "      <td>0.041834</td>\n",
       "      <td>...</td>\n",
       "      <td>0.004301</td>\n",
       "      <td>0.021764</td>\n",
       "      <td>0.000000</td>\n",
       "      <td>0.062449</td>\n",
       "      <td>0.0</td>\n",
       "      <td>0.028833</td>\n",
       "      <td>0.027253</td>\n",
       "      <td>0.0</td>\n",
       "      <td>0.742259</td>\n",
       "      <td>0.689899</td>\n",
       "    </tr>\n",
       "    <tr>\n",
       "      <th>A02</th>\n",
       "      <td>0.000130</td>\n",
       "      <td>0.000000</td>\n",
       "      <td>0.378881</td>\n",
       "      <td>0.0</td>\n",
       "      <td>0.000000</td>\n",
       "      <td>0.182869</td>\n",
       "      <td>0.012499</td>\n",
       "      <td>0.0</td>\n",
       "      <td>0.000000</td>\n",
       "      <td>0.161458</td>\n",
       "      <td>...</td>\n",
       "      <td>0.007450</td>\n",
       "      <td>0.004091</td>\n",
       "      <td>0.043911</td>\n",
       "      <td>0.060234</td>\n",
       "      <td>0.0</td>\n",
       "      <td>0.036704</td>\n",
       "      <td>0.012199</td>\n",
       "      <td>0.0</td>\n",
       "      <td>0.594326</td>\n",
       "      <td>0.807266</td>\n",
       "    </tr>\n",
       "    <tr>\n",
       "      <th>A03</th>\n",
       "      <td>0.000000</td>\n",
       "      <td>0.000000</td>\n",
       "      <td>0.440781</td>\n",
       "      <td>0.0</td>\n",
       "      <td>0.000000</td>\n",
       "      <td>0.290271</td>\n",
       "      <td>0.043093</td>\n",
       "      <td>0.0</td>\n",
       "      <td>0.000000</td>\n",
       "      <td>0.062102</td>\n",
       "      <td>...</td>\n",
       "      <td>0.008338</td>\n",
       "      <td>0.010542</td>\n",
       "      <td>0.000000</td>\n",
       "      <td>0.041650</td>\n",
       "      <td>0.0</td>\n",
       "      <td>0.007278</td>\n",
       "      <td>0.024270</td>\n",
       "      <td>0.0</td>\n",
       "      <td>0.685774</td>\n",
       "      <td>0.740759</td>\n",
       "    </tr>\n",
       "    <tr>\n",
       "      <th>A04</th>\n",
       "      <td>0.000000</td>\n",
       "      <td>0.046759</td>\n",
       "      <td>0.504124</td>\n",
       "      <td>0.0</td>\n",
       "      <td>0.056206</td>\n",
       "      <td>0.090266</td>\n",
       "      <td>0.000000</td>\n",
       "      <td>0.0</td>\n",
       "      <td>0.008929</td>\n",
       "      <td>0.000000</td>\n",
       "      <td>...</td>\n",
       "      <td>0.064709</td>\n",
       "      <td>0.000000</td>\n",
       "      <td>0.090374</td>\n",
       "      <td>0.034329</td>\n",
       "      <td>0.0</td>\n",
       "      <td>0.005541</td>\n",
       "      <td>0.010315</td>\n",
       "      <td>0.0</td>\n",
       "      <td>0.673854</td>\n",
       "      <td>0.742165</td>\n",
       "    </tr>\n",
       "    <tr>\n",
       "      <th>A05</th>\n",
       "      <td>0.000000</td>\n",
       "      <td>0.029596</td>\n",
       "      <td>0.503654</td>\n",
       "      <td>0.0</td>\n",
       "      <td>0.023101</td>\n",
       "      <td>0.176313</td>\n",
       "      <td>0.055165</td>\n",
       "      <td>0.0</td>\n",
       "      <td>0.000000</td>\n",
       "      <td>0.000000</td>\n",
       "      <td>...</td>\n",
       "      <td>0.024411</td>\n",
       "      <td>0.000000</td>\n",
       "      <td>0.005766</td>\n",
       "      <td>0.043016</td>\n",
       "      <td>0.0</td>\n",
       "      <td>0.024886</td>\n",
       "      <td>0.000000</td>\n",
       "      <td>0.0</td>\n",
       "      <td>0.761541</td>\n",
       "      <td>0.668641</td>\n",
       "    </tr>\n",
       "  </tbody>\n",
       "</table>\n",
       "<p>5 rows × 25 columns</p>\n",
       "</div>"
      ],
      "text/plain": [
       "         B cells naive  B cells memory  Plasma cells  T cells CD8  \\\n",
       "Mixture                                                             \n",
       "A01           0.032468        0.000000      0.475189          0.0   \n",
       "A02           0.000130        0.000000      0.378881          0.0   \n",
       "A03           0.000000        0.000000      0.440781          0.0   \n",
       "A04           0.000000        0.046759      0.504124          0.0   \n",
       "A05           0.000000        0.029596      0.503654          0.0   \n",
       "\n",
       "         T cells CD4 naive  T cells CD4 memory resting  \\\n",
       "Mixture                                                  \n",
       "A01               0.000000                    0.133028   \n",
       "A02               0.000000                    0.182869   \n",
       "A03               0.000000                    0.290271   \n",
       "A04               0.056206                    0.090266   \n",
       "A05               0.023101                    0.176313   \n",
       "\n",
       "         T cells CD4 memory activated  T cells follicular helper  \\\n",
       "Mixture                                                            \n",
       "A01                          0.050558                        0.0   \n",
       "A02                          0.012499                        0.0   \n",
       "A03                          0.043093                        0.0   \n",
       "A04                          0.000000                        0.0   \n",
       "A05                          0.055165                        0.0   \n",
       "\n",
       "         T cells regulatory (Tregs)  T cells gamma delta  ...  Macrophages M2  \\\n",
       "Mixture                                                   ...                   \n",
       "A01                        0.000000             0.041834  ...        0.004301   \n",
       "A02                        0.000000             0.161458  ...        0.007450   \n",
       "A03                        0.000000             0.062102  ...        0.008338   \n",
       "A04                        0.008929             0.000000  ...        0.064709   \n",
       "A05                        0.000000             0.000000  ...        0.024411   \n",
       "\n",
       "         Dendritic cells resting  Dendritic cells activated  \\\n",
       "Mixture                                                       \n",
       "A01                     0.021764                   0.000000   \n",
       "A02                     0.004091                   0.043911   \n",
       "A03                     0.010542                   0.000000   \n",
       "A04                     0.000000                   0.090374   \n",
       "A05                     0.000000                   0.005766   \n",
       "\n",
       "         Mast cells resting  Mast cells activated  Eosinophils  Neutrophils  \\\n",
       "Mixture                                                                       \n",
       "A01                0.062449                   0.0     0.028833     0.027253   \n",
       "A02                0.060234                   0.0     0.036704     0.012199   \n",
       "A03                0.041650                   0.0     0.007278     0.024270   \n",
       "A04                0.034329                   0.0     0.005541     0.010315   \n",
       "A05                0.043016                   0.0     0.024886     0.000000   \n",
       "\n",
       "         P-value  Correlation      RMSE  \n",
       "Mixture                                  \n",
       "A01          0.0     0.742259  0.689899  \n",
       "A02          0.0     0.594326  0.807266  \n",
       "A03          0.0     0.685774  0.740759  \n",
       "A04          0.0     0.673854  0.742165  \n",
       "A05          0.0     0.761541  0.668641  \n",
       "\n",
       "[5 rows x 25 columns]"
      ]
     },
     "execution_count": 47,
     "metadata": {},
     "output_type": "execute_result"
    }
   ],
   "source": [
    "cib_rel_results.head()"
   ]
  },
  {
   "cell_type": "code",
   "execution_count": 48,
   "metadata": {},
   "outputs": [],
   "source": [
    "# Remove columns that are not cells\n",
    "cib_not_cells = ['P-value',\n",
    "                 'Correlation',\n",
    "                 'RMSE']\n",
    "\n",
    "cib_rel_TMEcell = cib_rel_results.drop(labels=cib_not_cells,\n",
    "                                       axis='columns').sum(axis='columns')"
   ]
  },
  {
   "cell_type": "markdown",
   "metadata": {},
   "source": [
    "### Check samples total immune scores"
   ]
  },
  {
   "cell_type": "code",
   "execution_count": 49,
   "metadata": {},
   "outputs": [
    {
     "data": {
      "text/plain": [
       "{1.0}"
      ]
     },
     "execution_count": 49,
     "metadata": {},
     "output_type": "execute_result"
    }
   ],
   "source": [
    "set(cib_rel_TMEcell.round())"
   ]
  },
  {
   "cell_type": "markdown",
   "metadata": {},
   "source": [
    "### Calculate samples TME cellularity based on CIBERSORT absolute score"
   ]
  },
  {
   "cell_type": "markdown",
   "metadata": {},
   "source": [
    "#### Cibersort relative values add to 1, so we use here the p value as an indication of purity, since the p-value reflects the deconvolution goodness of fit which depends to some extent to the amount of infiltrating cells. https://cibersort.stanford.edu/manual.php"
   ]
  },
  {
   "cell_type": "code",
   "execution_count": 50,
   "metadata": {},
   "outputs": [],
   "source": [
    "# Multiply the p-value times -1 because the more tumour cellularity the higher the p-value\n",
    "cib_rel_TMEcell_df = pd.DataFrame({\n",
    "    'Term':cib_rel_results.index,\n",
    "    'CIBERSORT_rel_TMEcell':cib_rel_results['P-value']*-1\n",
    "})\n",
    "\n",
    "cib_rel_TMEcell_df.set_index('Term',\n",
    "                          inplace=True)"
   ]
  },
  {
   "cell_type": "code",
   "execution_count": 51,
   "metadata": {},
   "outputs": [
    {
     "data": {
      "text/html": [
       "<div>\n",
       "<style scoped>\n",
       "    .dataframe tbody tr th:only-of-type {\n",
       "        vertical-align: middle;\n",
       "    }\n",
       "\n",
       "    .dataframe tbody tr th {\n",
       "        vertical-align: top;\n",
       "    }\n",
       "\n",
       "    .dataframe thead th {\n",
       "        text-align: right;\n",
       "    }\n",
       "</style>\n",
       "<table border=\"1\" class=\"dataframe\">\n",
       "  <thead>\n",
       "    <tr style=\"text-align: right;\">\n",
       "      <th></th>\n",
       "      <th>CIBERSORT_rel_TMEcell</th>\n",
       "    </tr>\n",
       "    <tr>\n",
       "      <th>Term</th>\n",
       "      <th></th>\n",
       "    </tr>\n",
       "  </thead>\n",
       "  <tbody>\n",
       "    <tr>\n",
       "      <th>A01</th>\n",
       "      <td>-0.0</td>\n",
       "    </tr>\n",
       "    <tr>\n",
       "      <th>A02</th>\n",
       "      <td>-0.0</td>\n",
       "    </tr>\n",
       "    <tr>\n",
       "      <th>A03</th>\n",
       "      <td>-0.0</td>\n",
       "    </tr>\n",
       "    <tr>\n",
       "      <th>A04</th>\n",
       "      <td>-0.0</td>\n",
       "    </tr>\n",
       "    <tr>\n",
       "      <th>A05</th>\n",
       "      <td>-0.0</td>\n",
       "    </tr>\n",
       "  </tbody>\n",
       "</table>\n",
       "</div>"
      ],
      "text/plain": [
       "      CIBERSORT_rel_TMEcell\n",
       "Term                       \n",
       "A01                    -0.0\n",
       "A02                    -0.0\n",
       "A03                    -0.0\n",
       "A04                    -0.0\n",
       "A05                    -0.0"
      ]
     },
     "execution_count": 51,
     "metadata": {},
     "output_type": "execute_result"
    }
   ],
   "source": [
    "cib_rel_TMEcell_df.head()"
   ]
  },
  {
   "cell_type": "markdown",
   "metadata": {},
   "source": [
    "### xCELL TME cellularity"
   ]
  },
  {
   "cell_type": "code",
   "execution_count": 52,
   "metadata": {},
   "outputs": [
    {
     "name": "stdout",
     "output_type": "stream",
     "text": [
      "../../Data/3/xCell_TreatmentNaive_Results.txt\r\n"
     ]
    }
   ],
   "source": [
    "ls ../../Data/3/xCell_TreatmentNaive_Results.txt"
   ]
  },
  {
   "cell_type": "code",
   "execution_count": 53,
   "metadata": {},
   "outputs": [],
   "source": [
    "xcell_TMEcell = pd.read_csv('../../Data/3/xCell_TreatmentNaive_Results.txt',\n",
    "                            sep='\\t',\n",
    "                            index_col=0).T"
   ]
  },
  {
   "cell_type": "code",
   "execution_count": 54,
   "metadata": {},
   "outputs": [
    {
     "data": {
      "text/html": [
       "<div>\n",
       "<style scoped>\n",
       "    .dataframe tbody tr th:only-of-type {\n",
       "        vertical-align: middle;\n",
       "    }\n",
       "\n",
       "    .dataframe tbody tr th {\n",
       "        vertical-align: top;\n",
       "    }\n",
       "\n",
       "    .dataframe thead th {\n",
       "        text-align: right;\n",
       "    }\n",
       "</style>\n",
       "<table border=\"1\" class=\"dataframe\">\n",
       "  <thead>\n",
       "    <tr style=\"text-align: right;\">\n",
       "      <th></th>\n",
       "      <th>Adipocytes</th>\n",
       "      <th>Astrocytes</th>\n",
       "      <th>B-cells</th>\n",
       "      <th>Basophils</th>\n",
       "      <th>CD4+ T-cells</th>\n",
       "      <th>CD4+ Tcm</th>\n",
       "      <th>CD4+ Tem</th>\n",
       "      <th>CD4+ memory T-cells</th>\n",
       "      <th>CD4+ naive T-cells</th>\n",
       "      <th>CD8+ T-cells</th>\n",
       "      <th>...</th>\n",
       "      <th>cDC</th>\n",
       "      <th>iDC</th>\n",
       "      <th>ly Endothelial cells</th>\n",
       "      <th>mv Endothelial cells</th>\n",
       "      <th>naive B-cells</th>\n",
       "      <th>pDC</th>\n",
       "      <th>pro B-cells</th>\n",
       "      <th>ImmuneScore</th>\n",
       "      <th>StromaScore</th>\n",
       "      <th>MicroenvironmentScore</th>\n",
       "    </tr>\n",
       "  </thead>\n",
       "  <tbody>\n",
       "    <tr>\n",
       "      <th>A01</th>\n",
       "      <td>0.1906</td>\n",
       "      <td>0.0000</td>\n",
       "      <td>0.0000</td>\n",
       "      <td>0.0681</td>\n",
       "      <td>0.0926</td>\n",
       "      <td>0.0000</td>\n",
       "      <td>0.1002</td>\n",
       "      <td>0.1544</td>\n",
       "      <td>0.0267</td>\n",
       "      <td>0.0548</td>\n",
       "      <td>...</td>\n",
       "      <td>0.0689</td>\n",
       "      <td>0.0000</td>\n",
       "      <td>0.0702</td>\n",
       "      <td>0.0000</td>\n",
       "      <td>0.0000</td>\n",
       "      <td>0.0168</td>\n",
       "      <td>0.0128</td>\n",
       "      <td>0.4338</td>\n",
       "      <td>0.2100</td>\n",
       "      <td>0.6438</td>\n",
       "    </tr>\n",
       "    <tr>\n",
       "      <th>A02</th>\n",
       "      <td>0.2367</td>\n",
       "      <td>0.0000</td>\n",
       "      <td>0.0580</td>\n",
       "      <td>0.0000</td>\n",
       "      <td>0.2097</td>\n",
       "      <td>0.0584</td>\n",
       "      <td>0.1394</td>\n",
       "      <td>0.3051</td>\n",
       "      <td>0.0000</td>\n",
       "      <td>0.0687</td>\n",
       "      <td>...</td>\n",
       "      <td>0.0237</td>\n",
       "      <td>0.0006</td>\n",
       "      <td>0.0000</td>\n",
       "      <td>0.0000</td>\n",
       "      <td>0.0146</td>\n",
       "      <td>0.0650</td>\n",
       "      <td>0.0120</td>\n",
       "      <td>0.4595</td>\n",
       "      <td>0.1854</td>\n",
       "      <td>0.6449</td>\n",
       "    </tr>\n",
       "    <tr>\n",
       "      <th>A03</th>\n",
       "      <td>0.2781</td>\n",
       "      <td>0.0000</td>\n",
       "      <td>0.0555</td>\n",
       "      <td>0.0000</td>\n",
       "      <td>0.1427</td>\n",
       "      <td>0.0280</td>\n",
       "      <td>0.1078</td>\n",
       "      <td>0.1985</td>\n",
       "      <td>0.0000</td>\n",
       "      <td>0.0762</td>\n",
       "      <td>...</td>\n",
       "      <td>0.1065</td>\n",
       "      <td>0.0641</td>\n",
       "      <td>0.0790</td>\n",
       "      <td>0.0659</td>\n",
       "      <td>0.0000</td>\n",
       "      <td>0.0067</td>\n",
       "      <td>0.0597</td>\n",
       "      <td>0.5284</td>\n",
       "      <td>0.2632</td>\n",
       "      <td>0.7916</td>\n",
       "    </tr>\n",
       "    <tr>\n",
       "      <th>A04</th>\n",
       "      <td>0.0308</td>\n",
       "      <td>0.0068</td>\n",
       "      <td>0.0199</td>\n",
       "      <td>0.0500</td>\n",
       "      <td>0.1017</td>\n",
       "      <td>0.1867</td>\n",
       "      <td>0.0000</td>\n",
       "      <td>0.0400</td>\n",
       "      <td>0.0116</td>\n",
       "      <td>0.0000</td>\n",
       "      <td>...</td>\n",
       "      <td>0.0000</td>\n",
       "      <td>0.0000</td>\n",
       "      <td>0.0205</td>\n",
       "      <td>0.0329</td>\n",
       "      <td>0.0000</td>\n",
       "      <td>0.0000</td>\n",
       "      <td>0.0355</td>\n",
       "      <td>0.3285</td>\n",
       "      <td>0.0271</td>\n",
       "      <td>0.3556</td>\n",
       "    </tr>\n",
       "    <tr>\n",
       "      <th>A05</th>\n",
       "      <td>0.0350</td>\n",
       "      <td>0.0000</td>\n",
       "      <td>0.0336</td>\n",
       "      <td>0.0000</td>\n",
       "      <td>0.0987</td>\n",
       "      <td>0.0125</td>\n",
       "      <td>0.0430</td>\n",
       "      <td>0.1371</td>\n",
       "      <td>0.0000</td>\n",
       "      <td>0.0000</td>\n",
       "      <td>...</td>\n",
       "      <td>0.0146</td>\n",
       "      <td>0.0000</td>\n",
       "      <td>0.0328</td>\n",
       "      <td>0.0000</td>\n",
       "      <td>0.0000</td>\n",
       "      <td>0.0102</td>\n",
       "      <td>0.0348</td>\n",
       "      <td>0.3736</td>\n",
       "      <td>0.1007</td>\n",
       "      <td>0.4743</td>\n",
       "    </tr>\n",
       "  </tbody>\n",
       "</table>\n",
       "<p>5 rows × 67 columns</p>\n",
       "</div>"
      ],
      "text/plain": [
       "     Adipocytes  Astrocytes  B-cells  Basophils  CD4+ T-cells  CD4+ Tcm  \\\n",
       "A01      0.1906      0.0000   0.0000     0.0681        0.0926    0.0000   \n",
       "A02      0.2367      0.0000   0.0580     0.0000        0.2097    0.0584   \n",
       "A03      0.2781      0.0000   0.0555     0.0000        0.1427    0.0280   \n",
       "A04      0.0308      0.0068   0.0199     0.0500        0.1017    0.1867   \n",
       "A05      0.0350      0.0000   0.0336     0.0000        0.0987    0.0125   \n",
       "\n",
       "     CD4+ Tem  CD4+ memory T-cells  CD4+ naive T-cells  CD8+ T-cells  ...  \\\n",
       "A01    0.1002               0.1544              0.0267        0.0548  ...   \n",
       "A02    0.1394               0.3051              0.0000        0.0687  ...   \n",
       "A03    0.1078               0.1985              0.0000        0.0762  ...   \n",
       "A04    0.0000               0.0400              0.0116        0.0000  ...   \n",
       "A05    0.0430               0.1371              0.0000        0.0000  ...   \n",
       "\n",
       "        cDC     iDC  ly Endothelial cells  mv Endothelial cells  \\\n",
       "A01  0.0689  0.0000                0.0702                0.0000   \n",
       "A02  0.0237  0.0006                0.0000                0.0000   \n",
       "A03  0.1065  0.0641                0.0790                0.0659   \n",
       "A04  0.0000  0.0000                0.0205                0.0329   \n",
       "A05  0.0146  0.0000                0.0328                0.0000   \n",
       "\n",
       "     naive B-cells     pDC  pro B-cells  ImmuneScore  StromaScore  \\\n",
       "A01         0.0000  0.0168       0.0128       0.4338       0.2100   \n",
       "A02         0.0146  0.0650       0.0120       0.4595       0.1854   \n",
       "A03         0.0000  0.0067       0.0597       0.5284       0.2632   \n",
       "A04         0.0000  0.0000       0.0355       0.3285       0.0271   \n",
       "A05         0.0000  0.0102       0.0348       0.3736       0.1007   \n",
       "\n",
       "     MicroenvironmentScore  \n",
       "A01                 0.6438  \n",
       "A02                 0.6449  \n",
       "A03                 0.7916  \n",
       "A04                 0.3556  \n",
       "A05                 0.4743  \n",
       "\n",
       "[5 rows x 67 columns]"
      ]
     },
     "execution_count": 54,
     "metadata": {},
     "output_type": "execute_result"
    }
   ],
   "source": [
    "xcell_TMEcell.head()"
   ]
  },
  {
   "cell_type": "code",
   "execution_count": 55,
   "metadata": {},
   "outputs": [],
   "source": [
    "xcell_TMEcell = xcell_TMEcell.MicroenvironmentScore"
   ]
  },
  {
   "cell_type": "code",
   "execution_count": 56,
   "metadata": {},
   "outputs": [
    {
     "data": {
      "text/plain": [
       "A01    0.6438\n",
       "A02    0.6449\n",
       "A03    0.7916\n",
       "A04    0.3556\n",
       "A05    0.4743\n",
       "Name: MicroenvironmentScore, dtype: float64"
      ]
     },
     "execution_count": 56,
     "metadata": {},
     "output_type": "execute_result"
    }
   ],
   "source": [
    "xcell_TMEcell.head()"
   ]
  },
  {
   "cell_type": "code",
   "execution_count": 57,
   "metadata": {},
   "outputs": [],
   "source": [
    "xcell_TMEcell_df = pd.DataFrame({\n",
    "    'Index':xcell_TMEcell.index,\n",
    "    'xcell_TMEcell':xcell_TMEcell\n",
    "})\n",
    "\n",
    "xcell_TMEcell_df.set_index('Index',\n",
    "                           inplace=True)"
   ]
  },
  {
   "cell_type": "code",
   "execution_count": 58,
   "metadata": {},
   "outputs": [
    {
     "data": {
      "text/html": [
       "<div>\n",
       "<style scoped>\n",
       "    .dataframe tbody tr th:only-of-type {\n",
       "        vertical-align: middle;\n",
       "    }\n",
       "\n",
       "    .dataframe tbody tr th {\n",
       "        vertical-align: top;\n",
       "    }\n",
       "\n",
       "    .dataframe thead th {\n",
       "        text-align: right;\n",
       "    }\n",
       "</style>\n",
       "<table border=\"1\" class=\"dataframe\">\n",
       "  <thead>\n",
       "    <tr style=\"text-align: right;\">\n",
       "      <th></th>\n",
       "      <th>xcell_TMEcell</th>\n",
       "    </tr>\n",
       "    <tr>\n",
       "      <th>Index</th>\n",
       "      <th></th>\n",
       "    </tr>\n",
       "  </thead>\n",
       "  <tbody>\n",
       "    <tr>\n",
       "      <th>A01</th>\n",
       "      <td>0.6438</td>\n",
       "    </tr>\n",
       "    <tr>\n",
       "      <th>A02</th>\n",
       "      <td>0.6449</td>\n",
       "    </tr>\n",
       "    <tr>\n",
       "      <th>A03</th>\n",
       "      <td>0.7916</td>\n",
       "    </tr>\n",
       "    <tr>\n",
       "      <th>A04</th>\n",
       "      <td>0.3556</td>\n",
       "    </tr>\n",
       "    <tr>\n",
       "      <th>A05</th>\n",
       "      <td>0.4743</td>\n",
       "    </tr>\n",
       "  </tbody>\n",
       "</table>\n",
       "</div>"
      ],
      "text/plain": [
       "       xcell_TMEcell\n",
       "Index               \n",
       "A01           0.6438\n",
       "A02           0.6449\n",
       "A03           0.7916\n",
       "A04           0.3556\n",
       "A05           0.4743"
      ]
     },
     "execution_count": 58,
     "metadata": {},
     "output_type": "execute_result"
    }
   ],
   "source": [
    "xcell_TMEcell_df.head()"
   ]
  },
  {
   "cell_type": "markdown",
   "metadata": {},
   "source": [
    "### Consensus TME cellularity"
   ]
  },
  {
   "cell_type": "code",
   "execution_count": 59,
   "metadata": {},
   "outputs": [
    {
     "name": "stdout",
     "output_type": "stream",
     "text": [
      "../../Data/3/ConsensusTMEcellularity_TreatmentNaive_NES.txt\r\n"
     ]
    }
   ],
   "source": [
    "ls ../../Data/3/ConsensusTMEcellularity_TreatmentNaive_NES.txt"
   ]
  },
  {
   "cell_type": "code",
   "execution_count": 60,
   "metadata": {},
   "outputs": [],
   "source": [
    "con_TMEcell = pd.read_csv('../../Data/3/ConsensusTMEcellularity_TreatmentNaive_NES.txt',\n",
    "                          sep='\\t',\n",
    "                          index_col='Term').T"
   ]
  },
  {
   "cell_type": "code",
   "execution_count": 61,
   "metadata": {},
   "outputs": [
    {
     "data": {
      "text/html": [
       "<div>\n",
       "<style scoped>\n",
       "    .dataframe tbody tr th:only-of-type {\n",
       "        vertical-align: middle;\n",
       "    }\n",
       "\n",
       "    .dataframe tbody tr th {\n",
       "        vertical-align: top;\n",
       "    }\n",
       "\n",
       "    .dataframe thead th {\n",
       "        text-align: right;\n",
       "    }\n",
       "</style>\n",
       "<table border=\"1\" class=\"dataframe\">\n",
       "  <thead>\n",
       "    <tr style=\"text-align: right;\">\n",
       "      <th>Term</th>\n",
       "      <th>ConsensusTME_TMEcellularity</th>\n",
       "    </tr>\n",
       "  </thead>\n",
       "  <tbody>\n",
       "    <tr>\n",
       "      <th>A01</th>\n",
       "      <td>0.367304</td>\n",
       "    </tr>\n",
       "    <tr>\n",
       "      <th>A02</th>\n",
       "      <td>0.537367</td>\n",
       "    </tr>\n",
       "    <tr>\n",
       "      <th>A03</th>\n",
       "      <td>0.557882</td>\n",
       "    </tr>\n",
       "    <tr>\n",
       "      <th>A04</th>\n",
       "      <td>0.084694</td>\n",
       "    </tr>\n",
       "    <tr>\n",
       "      <th>A05</th>\n",
       "      <td>0.141332</td>\n",
       "    </tr>\n",
       "  </tbody>\n",
       "</table>\n",
       "</div>"
      ],
      "text/plain": [
       "Term  ConsensusTME_TMEcellularity\n",
       "A01                      0.367304\n",
       "A02                      0.537367\n",
       "A03                      0.557882\n",
       "A04                      0.084694\n",
       "A05                      0.141332"
      ]
     },
     "execution_count": 61,
     "metadata": {},
     "output_type": "execute_result"
    }
   ],
   "source": [
    "con_TMEcell.head()"
   ]
  },
  {
   "cell_type": "code",
   "execution_count": 62,
   "metadata": {},
   "outputs": [],
   "source": [
    "con_TMEcell.rename(columns={'ConsensusTME_TMEcellularity':'ConsensusTMEcell'},\n",
    "                   inplace=True)"
   ]
  },
  {
   "cell_type": "code",
   "execution_count": 63,
   "metadata": {},
   "outputs": [
    {
     "data": {
      "text/html": [
       "<div>\n",
       "<style scoped>\n",
       "    .dataframe tbody tr th:only-of-type {\n",
       "        vertical-align: middle;\n",
       "    }\n",
       "\n",
       "    .dataframe tbody tr th {\n",
       "        vertical-align: top;\n",
       "    }\n",
       "\n",
       "    .dataframe thead th {\n",
       "        text-align: right;\n",
       "    }\n",
       "</style>\n",
       "<table border=\"1\" class=\"dataframe\">\n",
       "  <thead>\n",
       "    <tr style=\"text-align: right;\">\n",
       "      <th>Term</th>\n",
       "      <th>ConsensusTMEcell</th>\n",
       "    </tr>\n",
       "  </thead>\n",
       "  <tbody>\n",
       "    <tr>\n",
       "      <th>A01</th>\n",
       "      <td>0.367304</td>\n",
       "    </tr>\n",
       "    <tr>\n",
       "      <th>A02</th>\n",
       "      <td>0.537367</td>\n",
       "    </tr>\n",
       "    <tr>\n",
       "      <th>A03</th>\n",
       "      <td>0.557882</td>\n",
       "    </tr>\n",
       "    <tr>\n",
       "      <th>A04</th>\n",
       "      <td>0.084694</td>\n",
       "    </tr>\n",
       "    <tr>\n",
       "      <th>A05</th>\n",
       "      <td>0.141332</td>\n",
       "    </tr>\n",
       "  </tbody>\n",
       "</table>\n",
       "</div>"
      ],
      "text/plain": [
       "Term  ConsensusTMEcell\n",
       "A01           0.367304\n",
       "A02           0.537367\n",
       "A03           0.557882\n",
       "A04           0.084694\n",
       "A05           0.141332"
      ]
     },
     "execution_count": 63,
     "metadata": {},
     "output_type": "execute_result"
    }
   ],
   "source": [
    "con_TMEcell.head()"
   ]
  },
  {
   "cell_type": "markdown",
   "metadata": {},
   "source": [
    "## Load WES CNA derived tumour cellularity"
   ]
  },
  {
   "cell_type": "markdown",
   "metadata": {},
   "source": [
    "### Load file"
   ]
  },
  {
   "cell_type": "code",
   "execution_count": 64,
   "metadata": {},
   "outputs": [
    {
     "name": "stdout",
     "output_type": "stream",
     "text": [
      "../../Data/1/TreatmentNaive_SampleLabels_WESTumourCellularity.txt\r\n"
     ]
    }
   ],
   "source": [
    "ls ../../Data/1/TreatmentNaive_SampleLabels_WESTumourCellularity.txt"
   ]
  },
  {
   "cell_type": "code",
   "execution_count": 65,
   "metadata": {},
   "outputs": [],
   "source": [
    "file_keys = home + 'Data/1/TreatmentNaive_SampleLabels_WESTumourCellularity.txt'\n",
    "\n",
    "sample_labels = pd.read_csv(file_keys,\n",
    "                            sep='\\t',\n",
    "                            index_col='Well')"
   ]
  },
  {
   "cell_type": "code",
   "execution_count": 66,
   "metadata": {},
   "outputs": [
    {
     "data": {
      "text/html": [
       "<div>\n",
       "<style scoped>\n",
       "    .dataframe tbody tr th:only-of-type {\n",
       "        vertical-align: middle;\n",
       "    }\n",
       "\n",
       "    .dataframe tbody tr th {\n",
       "        vertical-align: top;\n",
       "    }\n",
       "\n",
       "    .dataframe thead th {\n",
       "        text-align: right;\n",
       "    }\n",
       "</style>\n",
       "<table border=\"1\" class=\"dataframe\">\n",
       "  <thead>\n",
       "    <tr style=\"text-align: right;\">\n",
       "      <th></th>\n",
       "      <th>Label</th>\n",
       "      <th>Key</th>\n",
       "      <th>Case_mRNA</th>\n",
       "      <th>Site</th>\n",
       "      <th>Habitat</th>\n",
       "      <th>Case_WES</th>\n",
       "      <th>Tumour_WES</th>\n",
       "      <th>Colour</th>\n",
       "      <th>Site_marker</th>\n",
       "      <th>TumourCellularity_WES</th>\n",
       "    </tr>\n",
       "    <tr>\n",
       "      <th>Well</th>\n",
       "      <th></th>\n",
       "      <th></th>\n",
       "      <th></th>\n",
       "      <th></th>\n",
       "      <th></th>\n",
       "      <th></th>\n",
       "      <th></th>\n",
       "      <th></th>\n",
       "      <th></th>\n",
       "      <th></th>\n",
       "    </tr>\n",
       "  </thead>\n",
       "  <tbody>\n",
       "    <tr>\n",
       "      <th>A01</th>\n",
       "      <td>A01_3640_5_Omentum</td>\n",
       "      <td>case10_omentum_green</td>\n",
       "      <td>10</td>\n",
       "      <td>omentum</td>\n",
       "      <td>green</td>\n",
       "      <td>10.0</td>\n",
       "      <td>5</td>\n",
       "      <td>#ff7f00</td>\n",
       "      <td>^</td>\n",
       "      <td>0.5973</td>\n",
       "    </tr>\n",
       "    <tr>\n",
       "      <th>A02</th>\n",
       "      <td>A02_3640_7_Omentum</td>\n",
       "      <td>case10_omentum_blue</td>\n",
       "      <td>10</td>\n",
       "      <td>omentum</td>\n",
       "      <td>blue</td>\n",
       "      <td>10.0</td>\n",
       "      <td>7</td>\n",
       "      <td>#ff7f00</td>\n",
       "      <td>^</td>\n",
       "      <td>0.5065</td>\n",
       "    </tr>\n",
       "    <tr>\n",
       "      <th>A03</th>\n",
       "      <td>A03_3640_9_Paracolic_Gutter</td>\n",
       "      <td>case10_paracolic_yellow</td>\n",
       "      <td>10</td>\n",
       "      <td>other</td>\n",
       "      <td>yellow</td>\n",
       "      <td>10.0</td>\n",
       "      <td>8</td>\n",
       "      <td>#ff7f00</td>\n",
       "      <td>s</td>\n",
       "      <td>0.4551</td>\n",
       "    </tr>\n",
       "    <tr>\n",
       "      <th>A04</th>\n",
       "      <td>A04_3640_17_R_Adnexa</td>\n",
       "      <td>case10_Radnexa_yellow</td>\n",
       "      <td>10</td>\n",
       "      <td>ovary</td>\n",
       "      <td>yellow</td>\n",
       "      <td>10.0</td>\n",
       "      <td>17</td>\n",
       "      <td>#ff7f00</td>\n",
       "      <td>o</td>\n",
       "      <td>0.6496</td>\n",
       "    </tr>\n",
       "    <tr>\n",
       "      <th>A05</th>\n",
       "      <td>A05_3640_18_R_Adnexa</td>\n",
       "      <td>case10_Radnexa_blue</td>\n",
       "      <td>10</td>\n",
       "      <td>ovary</td>\n",
       "      <td>blue</td>\n",
       "      <td>10.0</td>\n",
       "      <td>18</td>\n",
       "      <td>#ff7f00</td>\n",
       "      <td>o</td>\n",
       "      <td>0.6706</td>\n",
       "    </tr>\n",
       "  </tbody>\n",
       "</table>\n",
       "</div>"
      ],
      "text/plain": [
       "                            Label                      Key  Case_mRNA  \\\n",
       "Well                                                                    \n",
       "A01            A01_3640_5_Omentum     case10_omentum_green         10   \n",
       "A02            A02_3640_7_Omentum      case10_omentum_blue         10   \n",
       "A03   A03_3640_9_Paracolic_Gutter  case10_paracolic_yellow         10   \n",
       "A04          A04_3640_17_R_Adnexa    case10_Radnexa_yellow         10   \n",
       "A05          A05_3640_18_R_Adnexa      case10_Radnexa_blue         10   \n",
       "\n",
       "         Site Habitat  Case_WES Tumour_WES   Colour Site_marker  \\\n",
       "Well                                                              \n",
       "A01   omentum   green      10.0          5  #ff7f00           ^   \n",
       "A02   omentum    blue      10.0          7  #ff7f00           ^   \n",
       "A03     other  yellow      10.0          8  #ff7f00           s   \n",
       "A04     ovary  yellow      10.0         17  #ff7f00           o   \n",
       "A05     ovary    blue      10.0         18  #ff7f00           o   \n",
       "\n",
       "      TumourCellularity_WES  \n",
       "Well                         \n",
       "A01                  0.5973  \n",
       "A02                  0.5065  \n",
       "A03                  0.4551  \n",
       "A04                  0.6496  \n",
       "A05                  0.6706  "
      ]
     },
     "execution_count": 66,
     "metadata": {},
     "output_type": "execute_result"
    }
   ],
   "source": [
    "sample_labels.head()"
   ]
  },
  {
   "cell_type": "code",
   "execution_count": 67,
   "metadata": {},
   "outputs": [],
   "source": [
    "WES_Tumcell = sample_labels.TumourCellularity_WES"
   ]
  },
  {
   "cell_type": "code",
   "execution_count": 68,
   "metadata": {},
   "outputs": [
    {
     "data": {
      "text/plain": [
       "Well\n",
       "A01    0.5973\n",
       "A02    0.5065\n",
       "A03    0.4551\n",
       "A04    0.6496\n",
       "A05    0.6706\n",
       "Name: TumourCellularity_WES, dtype: float64"
      ]
     },
     "execution_count": 68,
     "metadata": {},
     "output_type": "execute_result"
    }
   ],
   "source": [
    "WES_Tumcell.head()"
   ]
  },
  {
   "cell_type": "markdown",
   "metadata": {},
   "source": [
    "## Compare correlations"
   ]
  },
  {
   "cell_type": "code",
   "execution_count": 69,
   "metadata": {},
   "outputs": [],
   "source": [
    "cellularities_df = pd.concat([WES_Tumcell,\n",
    "                              bin_TMEcell,\n",
    "                              dav_TMEcell,\n",
    "                              dan_TMEcell,\n",
    "                              mcp_TMEcell,\n",
    "                              xcell_TMEcell_df,\n",
    "                              cib_rel_TMEcell_df,\n",
    "                              cib_abs_TMEcell_df,\n",
    "                              con_TMEcell],\n",
    "                              axis=1,\n",
    "                              join='inner').dropna(axis='index')"
   ]
  },
  {
   "cell_type": "code",
   "execution_count": 70,
   "metadata": {},
   "outputs": [
    {
     "data": {
      "text/html": [
       "<div>\n",
       "<style scoped>\n",
       "    .dataframe tbody tr th:only-of-type {\n",
       "        vertical-align: middle;\n",
       "    }\n",
       "\n",
       "    .dataframe tbody tr th {\n",
       "        vertical-align: top;\n",
       "    }\n",
       "\n",
       "    .dataframe thead th {\n",
       "        text-align: right;\n",
       "    }\n",
       "</style>\n",
       "<table border=\"1\" class=\"dataframe\">\n",
       "  <thead>\n",
       "    <tr style=\"text-align: right;\">\n",
       "      <th></th>\n",
       "      <th>TumourCellularity_WES</th>\n",
       "      <th>Bindea_TMEcell</th>\n",
       "      <th>Davoli_TMEcell</th>\n",
       "      <th>Danaher_TMEcell</th>\n",
       "      <th>MCP_TMEcell</th>\n",
       "      <th>xcell_TMEcell</th>\n",
       "      <th>CIBERSORT_rel_TMEcell</th>\n",
       "      <th>CIBERSORT_abs_TMEcell</th>\n",
       "      <th>ConsensusTMEcell</th>\n",
       "    </tr>\n",
       "  </thead>\n",
       "  <tbody>\n",
       "    <tr>\n",
       "      <th>A01</th>\n",
       "      <td>0.5973</td>\n",
       "      <td>0.749201</td>\n",
       "      <td>0.009751</td>\n",
       "      <td>-0.498688</td>\n",
       "      <td>52.921805</td>\n",
       "      <td>0.6438</td>\n",
       "      <td>-0.0</td>\n",
       "      <td>0.663951</td>\n",
       "      <td>0.367304</td>\n",
       "    </tr>\n",
       "    <tr>\n",
       "      <th>A02</th>\n",
       "      <td>0.5065</td>\n",
       "      <td>0.991710</td>\n",
       "      <td>0.363342</td>\n",
       "      <td>-0.378338</td>\n",
       "      <td>54.331328</td>\n",
       "      <td>0.6449</td>\n",
       "      <td>-0.0</td>\n",
       "      <td>0.637033</td>\n",
       "      <td>0.537367</td>\n",
       "    </tr>\n",
       "    <tr>\n",
       "      <th>A03</th>\n",
       "      <td>0.4551</td>\n",
       "      <td>1.059214</td>\n",
       "      <td>0.260787</td>\n",
       "      <td>-0.349832</td>\n",
       "      <td>54.552966</td>\n",
       "      <td>0.7916</td>\n",
       "      <td>-0.0</td>\n",
       "      <td>0.650632</td>\n",
       "      <td>0.557882</td>\n",
       "    </tr>\n",
       "    <tr>\n",
       "      <th>A04</th>\n",
       "      <td>0.6496</td>\n",
       "      <td>0.809765</td>\n",
       "      <td>-0.181239</td>\n",
       "      <td>-1.030722</td>\n",
       "      <td>50.375172</td>\n",
       "      <td>0.3556</td>\n",
       "      <td>-0.0</td>\n",
       "      <td>0.580156</td>\n",
       "      <td>0.084694</td>\n",
       "    </tr>\n",
       "    <tr>\n",
       "      <th>A05</th>\n",
       "      <td>0.6706</td>\n",
       "      <td>0.725904</td>\n",
       "      <td>-0.153725</td>\n",
       "      <td>-0.711740</td>\n",
       "      <td>50.768222</td>\n",
       "      <td>0.4743</td>\n",
       "      <td>-0.0</td>\n",
       "      <td>0.592368</td>\n",
       "      <td>0.141332</td>\n",
       "    </tr>\n",
       "  </tbody>\n",
       "</table>\n",
       "</div>"
      ],
      "text/plain": [
       "     TumourCellularity_WES  Bindea_TMEcell  Davoli_TMEcell  Danaher_TMEcell  \\\n",
       "A01                 0.5973        0.749201        0.009751        -0.498688   \n",
       "A02                 0.5065        0.991710        0.363342        -0.378338   \n",
       "A03                 0.4551        1.059214        0.260787        -0.349832   \n",
       "A04                 0.6496        0.809765       -0.181239        -1.030722   \n",
       "A05                 0.6706        0.725904       -0.153725        -0.711740   \n",
       "\n",
       "     MCP_TMEcell  xcell_TMEcell  CIBERSORT_rel_TMEcell  CIBERSORT_abs_TMEcell  \\\n",
       "A01    52.921805         0.6438                   -0.0               0.663951   \n",
       "A02    54.331328         0.6449                   -0.0               0.637033   \n",
       "A03    54.552966         0.7916                   -0.0               0.650632   \n",
       "A04    50.375172         0.3556                   -0.0               0.580156   \n",
       "A05    50.768222         0.4743                   -0.0               0.592368   \n",
       "\n",
       "     ConsensusTMEcell  \n",
       "A01          0.367304  \n",
       "A02          0.537367  \n",
       "A03          0.557882  \n",
       "A04          0.084694  \n",
       "A05          0.141332  "
      ]
     },
     "execution_count": 70,
     "metadata": {},
     "output_type": "execute_result"
    }
   ],
   "source": [
    "cellularities_df.head()"
   ]
  },
  {
   "cell_type": "code",
   "execution_count": 71,
   "metadata": {},
   "outputs": [],
   "source": [
    "if True in cellularities_df.isnull():\n",
    "    \n",
    "    raise ValueError('There is a Nan')"
   ]
  },
  {
   "cell_type": "code",
   "execution_count": 72,
   "metadata": {},
   "outputs": [],
   "source": [
    "cellularities_df.drop(\"CIBERSORT_rel_TMEcell\", axis=\"columns\", inplace=True)"
   ]
  },
  {
   "cell_type": "code",
   "execution_count": 73,
   "metadata": {},
   "outputs": [],
   "source": [
    "import scipy.stats\n",
    "from statsmodels.graphics.gofplots import qqplot"
   ]
  },
  {
   "cell_type": "code",
   "execution_count": 74,
   "metadata": {},
   "outputs": [
    {
     "data": {
      "text/plain": [
       "<matplotlib.axes._subplots.AxesSubplot at 0x1a1f293048>"
      ]
     },
     "execution_count": 74,
     "metadata": {},
     "output_type": "execute_result"
    },
    {
     "data": {
      "image/png": "[encoded data removed]",
      "text/plain": [
       "<Figure size 432x288 with 1 Axes>"
      ]
     },
     "metadata": {},
     "output_type": "display_data"
    }
   ],
   "source": [
    "cellularities_df[\"Danaher_TMEcell\"].dropna().plot(kind=\"kde\")\n",
    "cellularities_df[\"TumourCellularity_WES\"].dropna().plot(kind=\"kde\")"
   ]
  },
  {
   "cell_type": "code",
   "execution_count": 75,
   "metadata": {},
   "outputs": [
    {
     "data": {
      "image/png": "[encoded data removed]",
      "text/plain": [
       "<Figure size 432x288 with 1 Axes>"
      ]
     },
     "metadata": {},
     "output_type": "display_data"
    }
   ],
   "source": [
    "f = qqplot(cellularities_df[\"Danaher_TMEcell\"].dropna(),line='s')"
   ]
  },
  {
   "cell_type": "code",
   "execution_count": 76,
   "metadata": {},
   "outputs": [
    {
     "data": {
      "text/plain": [
       "AndersonResult(statistic=0.865927915700297, critical_values=array([0.528, 0.601, 0.721, 0.841, 1.   ]), significance_level=array([15. , 10. ,  5. ,  2.5,  1. ]))"
      ]
     },
     "execution_count": 76,
     "metadata": {},
     "output_type": "execute_result"
    }
   ],
   "source": [
    "scipy.stats.anderson(cellularities_df[\"Danaher_TMEcell\"].dropna(), 'norm')\n",
    "\n",
    "# Looks normal"
   ]
  },
  {
   "cell_type": "code",
   "execution_count": 77,
   "metadata": {},
   "outputs": [
    {
     "data": {
      "text/html": [
       "<div>\n",
       "<style scoped>\n",
       "    .dataframe tbody tr th:only-of-type {\n",
       "        vertical-align: middle;\n",
       "    }\n",
       "\n",
       "    .dataframe tbody tr th {\n",
       "        vertical-align: top;\n",
       "    }\n",
       "\n",
       "    .dataframe thead th {\n",
       "        text-align: right;\n",
       "    }\n",
       "</style>\n",
       "<table border=\"1\" class=\"dataframe\">\n",
       "  <thead>\n",
       "    <tr style=\"text-align: right;\">\n",
       "      <th></th>\n",
       "      <th>TumourCellularity_WES</th>\n",
       "      <th>Bindea_TMEcell</th>\n",
       "      <th>Davoli_TMEcell</th>\n",
       "      <th>Danaher_TMEcell</th>\n",
       "      <th>MCP_TMEcell</th>\n",
       "      <th>xcell_TMEcell</th>\n",
       "      <th>CIBERSORT_abs_TMEcell</th>\n",
       "      <th>ConsensusTMEcell</th>\n",
       "    </tr>\n",
       "  </thead>\n",
       "  <tbody>\n",
       "    <tr>\n",
       "      <th>A01</th>\n",
       "      <td>0.5973</td>\n",
       "      <td>0.749201</td>\n",
       "      <td>0.009751</td>\n",
       "      <td>-0.498688</td>\n",
       "      <td>52.921805</td>\n",
       "      <td>0.6438</td>\n",
       "      <td>0.663951</td>\n",
       "      <td>0.367304</td>\n",
       "    </tr>\n",
       "    <tr>\n",
       "      <th>A02</th>\n",
       "      <td>0.5065</td>\n",
       "      <td>0.991710</td>\n",
       "      <td>0.363342</td>\n",
       "      <td>-0.378338</td>\n",
       "      <td>54.331328</td>\n",
       "      <td>0.6449</td>\n",
       "      <td>0.637033</td>\n",
       "      <td>0.537367</td>\n",
       "    </tr>\n",
       "    <tr>\n",
       "      <th>A03</th>\n",
       "      <td>0.4551</td>\n",
       "      <td>1.059214</td>\n",
       "      <td>0.260787</td>\n",
       "      <td>-0.349832</td>\n",
       "      <td>54.552966</td>\n",
       "      <td>0.7916</td>\n",
       "      <td>0.650632</td>\n",
       "      <td>0.557882</td>\n",
       "    </tr>\n",
       "    <tr>\n",
       "      <th>A04</th>\n",
       "      <td>0.6496</td>\n",
       "      <td>0.809765</td>\n",
       "      <td>-0.181239</td>\n",
       "      <td>-1.030722</td>\n",
       "      <td>50.375172</td>\n",
       "      <td>0.3556</td>\n",
       "      <td>0.580156</td>\n",
       "      <td>0.084694</td>\n",
       "    </tr>\n",
       "    <tr>\n",
       "      <th>A05</th>\n",
       "      <td>0.6706</td>\n",
       "      <td>0.725904</td>\n",
       "      <td>-0.153725</td>\n",
       "      <td>-0.711740</td>\n",
       "      <td>50.768222</td>\n",
       "      <td>0.4743</td>\n",
       "      <td>0.592368</td>\n",
       "      <td>0.141332</td>\n",
       "    </tr>\n",
       "  </tbody>\n",
       "</table>\n",
       "</div>"
      ],
      "text/plain": [
       "     TumourCellularity_WES  Bindea_TMEcell  Davoli_TMEcell  Danaher_TMEcell  \\\n",
       "A01                 0.5973        0.749201        0.009751        -0.498688   \n",
       "A02                 0.5065        0.991710        0.363342        -0.378338   \n",
       "A03                 0.4551        1.059214        0.260787        -0.349832   \n",
       "A04                 0.6496        0.809765       -0.181239        -1.030722   \n",
       "A05                 0.6706        0.725904       -0.153725        -0.711740   \n",
       "\n",
       "     MCP_TMEcell  xcell_TMEcell  CIBERSORT_abs_TMEcell  ConsensusTMEcell  \n",
       "A01    52.921805         0.6438               0.663951          0.367304  \n",
       "A02    54.331328         0.6449               0.637033          0.537367  \n",
       "A03    54.552966         0.7916               0.650632          0.557882  \n",
       "A04    50.375172         0.3556               0.580156          0.084694  \n",
       "A05    50.768222         0.4743               0.592368          0.141332  "
      ]
     },
     "execution_count": 77,
     "metadata": {},
     "output_type": "execute_result"
    }
   ],
   "source": [
    "cellularities_df.head()"
   ]
  },
  {
   "cell_type": "code",
   "execution_count": 78,
   "metadata": {},
   "outputs": [
    {
     "name": "stdout",
     "output_type": "stream",
     "text": [
      "Bindea_TMEcell\n",
      "\n",
      "Normal\n",
      "HETEROscedastic\n",
      "\n",
      "KENDALL\n",
      "7.122056081351193e-07\n",
      "Davoli_TMEcell\n",
      "\n",
      "Normal\n",
      "HETEROscedastic\n",
      "\n",
      "KENDALL\n",
      "1.6912229241424596e-07\n",
      "Danaher_TMEcell\n",
      "\n",
      "NOT normal\n",
      "HETEROscedastic\n",
      "\n",
      "KENDALL\n",
      "1.630365470900112e-06\n",
      "MCP_TMEcell\n",
      "\n",
      "Normal\n",
      "HETEROscedastic\n",
      "\n",
      "KENDALL\n",
      "3.5019028537897913e-07\n",
      "xcell_TMEcell\n",
      "\n",
      "Normal\n",
      "HETEROscedastic\n",
      "\n",
      "KENDALL\n",
      "5.922815440129157e-08\n",
      "CIBERSORT_abs_TMEcell\n",
      "\n",
      "Normal\n",
      "HETEROscedastic\n",
      "\n",
      "KENDALL\n",
      "4.6618704897917253e-07\n",
      "ConsensusTMEcell\n",
      "\n",
      "Normal\n",
      "HETEROscedastic\n",
      "\n",
      "KENDALL\n",
      "8.022036861490288e-08\n"
     ]
    }
   ],
   "source": [
    "x = cellularities_df[\"TumourCellularity_WES\"]\n",
    "\n",
    "correlations = []\n",
    "for cellularity_estimate in cellularities_df:\n",
    "    \n",
    "    if cellularity_estimate != \"TumourCellularity_WES\":\n",
    "    \n",
    "        y = cellularities_df[cellularity_estimate]\n",
    "    \n",
    "        print(cellularity_estimate+\"\\n\")\n",
    "\n",
    "        n1 = scipy.stats.shapiro(x)[1]\n",
    "        n2 = scipy.stats.shapiro(y)[1]\n",
    "\n",
    "        n3 = scipy.stats.normaltest(x)[1]\n",
    "        n4 = scipy.stats.normaltest(y)[1]\n",
    "\n",
    "        n5 = scipy.stats.anderson(x)\n",
    "        n6 = scipy.stats.anderson(y)\n",
    "\n",
    "        if min([n1,n2,n3,n4]) < 0.05: # not normal\n",
    "            \n",
    "            print(\"NOT normal\")\n",
    "\n",
    "            h1 = scipy.stats.levene(x, y)[1]\n",
    "            \n",
    "            if h1 < 0.05:\n",
    "                print(\"HETEROscedastic\\n\")\n",
    "                #print(h1)\n",
    "            else:\n",
    "                print(\"HOMOscedastic\\n\")\n",
    "\n",
    "        else:\n",
    "            \n",
    "            print(\"Normal\")\n",
    "\n",
    "            h1 = scipy.stats.bartlett(x,y)[1]\n",
    "            \n",
    "            if h1 < 0.05:\n",
    "                print(\"HETEROscedastic\\n\")\n",
    "            else:\n",
    "                print(\"HOMOscedastic\\n\")\n",
    "\n",
    "        if min([n1,n2,n3,n4,h1]) < 0.05:\n",
    "\n",
    "            print(\"KENDALL\")\n",
    "\n",
    "            print(scipy.stats.kendalltau(x,y)[1])\n",
    "            \n",
    "            #print(x)\n",
    "            \n",
    "            #print(y)\n",
    "            \n",
    "            cor, p_val = scipy.stats.kendalltau(x,y, method=\"exact\")\n",
    "\n",
    "        else:\n",
    "\n",
    "            print(\"anderson\")\n",
    "\n",
    "            print(n5[0], n5[1])\n",
    "            print(n6[0], n6[1])\n",
    "            print(\"\\n\")\n",
    "\n",
    "            print(\"PEARSON\")\n",
    "            print(scipy.stats.pearsonr(x,y)[1])\n",
    "            \n",
    "            cor, p_val = scipy.stats.pearsonr(x,y)\n",
    "                \n",
    "            print(\"\\n\")\n",
    "            \n",
    "        correlations.append([cellularity_estimate,cor,p_val])"
   ]
  },
  {
   "cell_type": "code",
   "execution_count": 79,
   "metadata": {
    "scrolled": false
   },
   "outputs": [
    {
     "name": "stdout",
     "output_type": "stream",
     "text": [
      "Bindea_TMEcell\n",
      "\n",
      "Normal\n",
      "HETEROscedastic\n",
      "\n",
      "KENDALL\n",
      "7.122056081351193e-07\n",
      "Davoli_TMEcell\n",
      "\n",
      "Normal\n",
      "HETEROscedastic\n",
      "\n",
      "KENDALL\n",
      "1.6912229241424596e-07\n",
      "Danaher_TMEcell\n",
      "\n",
      "NOT normal\n",
      "HETEROscedastic\n",
      "\n",
      "KENDALL\n",
      "1.630365470900112e-06\n",
      "MCP_TMEcell\n",
      "\n",
      "Normal\n",
      "HETEROscedastic\n",
      "\n",
      "KENDALL\n",
      "3.5019028537897913e-07\n",
      "xcell_TMEcell\n",
      "\n",
      "Normal\n",
      "HETEROscedastic\n",
      "\n",
      "KENDALL\n",
      "5.922815440129157e-08\n",
      "CIBERSORT_abs_TMEcell\n",
      "\n",
      "Normal\n",
      "HETEROscedastic\n",
      "\n",
      "KENDALL\n",
      "4.6618704897917253e-07\n",
      "ConsensusTMEcell\n",
      "\n",
      "Normal\n",
      "HETEROscedastic\n",
      "\n",
      "KENDALL\n",
      "8.022036861490288e-08\n"
     ]
    }
   ],
   "source": [
    "x = cellularities_df[\"TumourCellularity_WES\"]\n",
    "\n",
    "correlations = []\n",
    "for cellularity_estimate in cellularities_df:\n",
    "    \n",
    "    if cellularity_estimate != \"TumourCellularity_WES\":\n",
    "    \n",
    "        y = cellularities_df[cellularity_estimate]\n",
    "    \n",
    "        print(cellularity_estimate+\"\\n\")\n",
    "\n",
    "        n1 = scipy.stats.shapiro(x)[1]\n",
    "        n2 = scipy.stats.shapiro(y)[1]\n",
    "\n",
    "        n3 = scipy.stats.normaltest(x)[1]\n",
    "        n4 = scipy.stats.normaltest(y)[1]\n",
    "\n",
    "        n5 = scipy.stats.anderson(x)\n",
    "        n6 = scipy.stats.anderson(y)\n",
    "\n",
    "        if min([n1,n2,n3,n4]) < 0.05: # not normal\n",
    "            \n",
    "            print(\"NOT normal\")\n",
    "\n",
    "            h1 = scipy.stats.levene(x, y)[1]\n",
    "            \n",
    "            if h1 < 0.05:\n",
    "                print(\"HETEROscedastic\\n\")\n",
    "                #print(h1)\n",
    "            else:\n",
    "                print(\"HOMOscedastic\\n\")\n",
    "\n",
    "        else:\n",
    "            \n",
    "            print(\"Normal\")\n",
    "\n",
    "            h1 = scipy.stats.bartlett(x,y)[1]\n",
    "            \n",
    "            if h1 < 0.05:\n",
    "                print(\"HETEROscedastic\\n\")\n",
    "            else:\n",
    "                print(\"HOMOscedastic\\n\")\n",
    "\n",
    "        if min([n1,n2,n3,n4,h1]) < 0.05:\n",
    "\n",
    "            print(\"KENDALL\")\n",
    "\n",
    "            print(scipy.stats.kendalltau(x,y)[1])\n",
    "            \n",
    "            #print(x)\n",
    "            \n",
    "            #print(y)\n",
    "            \n",
    "            cor, p_val = scipy.stats.kendalltau(x,y)\n",
    "\n",
    "        else:\n",
    "\n",
    "            print(\"anderson\")\n",
    "\n",
    "            print(n5[0], n5[1])\n",
    "            print(n6[0], n6[1])\n",
    "            print(\"\\n\")\n",
    "\n",
    "            print(\"PEARSON\")\n",
    "            print(scipy.stats.pearsonr(x,y)[1])\n",
    "            \n",
    "            cor, p_val = scipy.stats.pearsonr(x,y)\n",
    "                \n",
    "            print(\"\\n\")\n",
    "            \n",
    "        correlations.append([cellularity_estimate,cor,p_val])"
   ]
  },
  {
   "cell_type": "code",
   "execution_count": 80,
   "metadata": {},
   "outputs": [
    {
     "data": {
      "text/plain": [
       "[['Bindea_TMEcell', -0.5777777777777778, 7.122056081351193e-07],\n",
       " ['Davoli_TMEcell', -0.6095238095238096, 1.6912229241424596e-07],\n",
       " ['Danaher_TMEcell', -0.5587301587301587, 1.630365470900112e-06],\n",
       " ['MCP_TMEcell', -0.5936507936507937, 3.5019028537897913e-07],\n",
       " ['xcell_TMEcell', -0.6317460317460318, 5.922815440129157e-08],\n",
       " ['CIBERSORT_abs_TMEcell', -0.5873015873015873, 4.6618704897917253e-07],\n",
       " ['ConsensusTMEcell', -0.6253968253968255, 8.022036861490288e-08]]"
      ]
     },
     "execution_count": 80,
     "metadata": {},
     "output_type": "execute_result"
    }
   ],
   "source": [
    "correlations"
   ]
  },
  {
   "cell_type": "code",
   "execution_count": 81,
   "metadata": {},
   "outputs": [
    {
     "data": {
      "text/plain": [
       "[7.122056081351193e-07,\n",
       " 1.6912229241424596e-07,\n",
       " 1.630365470900112e-06,\n",
       " 3.5019028537897913e-07,\n",
       " 5.922815440129157e-08,\n",
       " 4.6618704897917253e-07,\n",
       " 8.022036861490288e-08]"
      ]
     },
     "execution_count": 81,
     "metadata": {},
     "output_type": "execute_result"
    }
   ],
   "source": [
    "pvals = [corr[2] for corr in correlations]\n",
    "\n",
    "pvals"
   ]
  },
  {
   "cell_type": "markdown",
   "metadata": {},
   "source": [
    "### Save data frame"
   ]
  },
  {
   "cell_type": "code",
   "execution_count": 83,
   "metadata": {},
   "outputs": [],
   "source": [
    "FILE = '../../Data/3/WES_TumourCellularity_mRNA_TMEcellularity_estimations.txt'\n",
    "\n",
    "cellularities_df.to_csv(FILE, sep='\\t')"
   ]
  },
  {
   "cell_type": "markdown",
   "metadata": {},
   "source": [
    "## Plot barplot correlations"
   ]
  },
  {
   "cell_type": "markdown",
   "metadata": {},
   "source": [
    "### Define method colour"
   ]
  },
  {
   "cell_type": "code",
   "execution_count": 84,
   "metadata": {},
   "outputs": [],
   "source": [
    "method_colours = dict({\n",
    "    'cib':      '#6FCCDD',\n",
    "    'mcp':      '#B9529F',\n",
    "    'danaher':  '#0E8040',\n",
    "    'xCELL':    '#F7931D',\n",
    "    'bindea':   '#F6EB16',\n",
    "    'davoli':   '#231F20',\n",
    "    'Consensus':'#3953A4',\n",
    "    'TIMER':    '#FF0000'\n",
    "})"
   ]
  },
  {
   "cell_type": "code",
   "execution_count": 85,
   "metadata": {},
   "outputs": [],
   "source": [
    "correlations_dict = {m[0]: {'cor': m[1]} for m in correlations}"
   ]
  },
  {
   "cell_type": "code",
   "execution_count": 86,
   "metadata": {},
   "outputs": [],
   "source": [
    "correlations_df = pd.DataFrame.from_dict(correlations_dict)\n",
    "\n",
    "correlations_df.sort_values(by=['cor'],\n",
    "                            axis='columns',\n",
    "                            inplace=True)"
   ]
  },
  {
   "cell_type": "code",
   "execution_count": 87,
   "metadata": {},
   "outputs": [
    {
     "data": {
      "text/html": [
       "<div>\n",
       "<style scoped>\n",
       "    .dataframe tbody tr th:only-of-type {\n",
       "        vertical-align: middle;\n",
       "    }\n",
       "\n",
       "    .dataframe tbody tr th {\n",
       "        vertical-align: top;\n",
       "    }\n",
       "\n",
       "    .dataframe thead th {\n",
       "        text-align: right;\n",
       "    }\n",
       "</style>\n",
       "<table border=\"1\" class=\"dataframe\">\n",
       "  <thead>\n",
       "    <tr style=\"text-align: right;\">\n",
       "      <th></th>\n",
       "      <th>xcell_TMEcell</th>\n",
       "      <th>ConsensusTMEcell</th>\n",
       "      <th>Davoli_TMEcell</th>\n",
       "      <th>MCP_TMEcell</th>\n",
       "      <th>CIBERSORT_abs_TMEcell</th>\n",
       "      <th>Bindea_TMEcell</th>\n",
       "      <th>Danaher_TMEcell</th>\n",
       "    </tr>\n",
       "  </thead>\n",
       "  <tbody>\n",
       "    <tr>\n",
       "      <th>cor</th>\n",
       "      <td>-0.631746</td>\n",
       "      <td>-0.625397</td>\n",
       "      <td>-0.609524</td>\n",
       "      <td>-0.593651</td>\n",
       "      <td>-0.587302</td>\n",
       "      <td>-0.577778</td>\n",
       "      <td>-0.55873</td>\n",
       "    </tr>\n",
       "  </tbody>\n",
       "</table>\n",
       "</div>"
      ],
      "text/plain": [
       "     xcell_TMEcell  ConsensusTMEcell  Davoli_TMEcell  MCP_TMEcell  \\\n",
       "cor      -0.631746         -0.625397       -0.609524    -0.593651   \n",
       "\n",
       "     CIBERSORT_abs_TMEcell  Bindea_TMEcell  Danaher_TMEcell  \n",
       "cor              -0.587302       -0.577778         -0.55873  "
      ]
     },
     "execution_count": 87,
     "metadata": {},
     "output_type": "execute_result"
    }
   ],
   "source": [
    "correlations_df"
   ]
  },
  {
   "cell_type": "code",
   "execution_count": 92,
   "metadata": {},
   "outputs": [
    {
     "data": {
      "text/plain": [
       "['#F7931D', '#3953A4', '#231F20', '#B9529F', '#6FCCDD', '#F6EB16', '#0E8040']"
      ]
     },
     "execution_count": 92,
     "metadata": {},
     "output_type": "execute_result"
    }
   ],
   "source": [
    "m_order = ['xCELL','Consensus','davoli','mcp','cib','bindea','danaher']\n",
    "bar_colors = [method_colours[col] for col in m_order]\n",
    "\n",
    "bar_colors"
   ]
  },
  {
   "cell_type": "code",
   "execution_count": 93,
   "metadata": {},
   "outputs": [
    {
     "data": {
      "image/png": "[encoded data removed]",
      "text/plain": [
       "<Figure size 360x360 with 1 Axes>"
      ]
     },
     "metadata": {},
     "output_type": "display_data"
    }
   ],
   "source": [
    "ax = correlations_df.plot(kind='bar',\n",
    "                          color=bar_colors,\n",
    "                          figsize=(5,5),\n",
    "                          ylim=(-1,1))"
   ]
  },
  {
   "cell_type": "code",
   "execution_count": 94,
   "metadata": {},
   "outputs": [],
   "source": [
    "fig = ax.get_figure()"
   ]
  },
  {
   "cell_type": "code",
   "execution_count": 96,
   "metadata": {},
   "outputs": [],
   "source": [
    "ls ../../Figures/main/3/panels/"
   ]
  },
  {
   "cell_type": "code",
   "execution_count": 97,
   "metadata": {},
   "outputs": [],
   "source": [
    "FILE = \"../../Figures/main/3/panels/3a_TxNaive_WES_TME_vs_RNA_TME_tau.pdf\"\n",
    "\n",
    "fig.savefig(FILE, bbox_tight=True)"
   ]
  },
  {
   "cell_type": "markdown",
   "metadata": {},
   "source": [
    "## Plot correlations"
   ]
  },
  {
   "cell_type": "code",
   "execution_count": 100,
   "metadata": {},
   "outputs": [
    {
     "data": {
      "text/html": [
       "<div>\n",
       "<style scoped>\n",
       "    .dataframe tbody tr th:only-of-type {\n",
       "        vertical-align: middle;\n",
       "    }\n",
       "\n",
       "    .dataframe tbody tr th {\n",
       "        vertical-align: top;\n",
       "    }\n",
       "\n",
       "    .dataframe thead th {\n",
       "        text-align: right;\n",
       "    }\n",
       "</style>\n",
       "<table border=\"1\" class=\"dataframe\">\n",
       "  <thead>\n",
       "    <tr style=\"text-align: right;\">\n",
       "      <th></th>\n",
       "      <th>TumourCellularity_WES</th>\n",
       "      <th>Bindea_TMEcell</th>\n",
       "      <th>Davoli_TMEcell</th>\n",
       "      <th>Danaher_TMEcell</th>\n",
       "      <th>MCP_TMEcell</th>\n",
       "      <th>xcell_TMEcell</th>\n",
       "      <th>CIBERSORT_abs_TMEcell</th>\n",
       "      <th>ConsensusTMEcell</th>\n",
       "    </tr>\n",
       "  </thead>\n",
       "  <tbody>\n",
       "    <tr>\n",
       "      <th>A01</th>\n",
       "      <td>0.5973</td>\n",
       "      <td>0.749201</td>\n",
       "      <td>0.009751</td>\n",
       "      <td>-0.498688</td>\n",
       "      <td>52.921805</td>\n",
       "      <td>0.6438</td>\n",
       "      <td>0.663951</td>\n",
       "      <td>0.367304</td>\n",
       "    </tr>\n",
       "    <tr>\n",
       "      <th>A02</th>\n",
       "      <td>0.5065</td>\n",
       "      <td>0.991710</td>\n",
       "      <td>0.363342</td>\n",
       "      <td>-0.378338</td>\n",
       "      <td>54.331328</td>\n",
       "      <td>0.6449</td>\n",
       "      <td>0.637033</td>\n",
       "      <td>0.537367</td>\n",
       "    </tr>\n",
       "    <tr>\n",
       "      <th>A03</th>\n",
       "      <td>0.4551</td>\n",
       "      <td>1.059214</td>\n",
       "      <td>0.260787</td>\n",
       "      <td>-0.349832</td>\n",
       "      <td>54.552966</td>\n",
       "      <td>0.7916</td>\n",
       "      <td>0.650632</td>\n",
       "      <td>0.557882</td>\n",
       "    </tr>\n",
       "    <tr>\n",
       "      <th>A04</th>\n",
       "      <td>0.6496</td>\n",
       "      <td>0.809765</td>\n",
       "      <td>-0.181239</td>\n",
       "      <td>-1.030722</td>\n",
       "      <td>50.375172</td>\n",
       "      <td>0.3556</td>\n",
       "      <td>0.580156</td>\n",
       "      <td>0.084694</td>\n",
       "    </tr>\n",
       "    <tr>\n",
       "      <th>A05</th>\n",
       "      <td>0.6706</td>\n",
       "      <td>0.725904</td>\n",
       "      <td>-0.153725</td>\n",
       "      <td>-0.711740</td>\n",
       "      <td>50.768222</td>\n",
       "      <td>0.4743</td>\n",
       "      <td>0.592368</td>\n",
       "      <td>0.141332</td>\n",
       "    </tr>\n",
       "  </tbody>\n",
       "</table>\n",
       "</div>"
      ],
      "text/plain": [
       "     TumourCellularity_WES  Bindea_TMEcell  Davoli_TMEcell  Danaher_TMEcell  \\\n",
       "A01                 0.5973        0.749201        0.009751        -0.498688   \n",
       "A02                 0.5065        0.991710        0.363342        -0.378338   \n",
       "A03                 0.4551        1.059214        0.260787        -0.349832   \n",
       "A04                 0.6496        0.809765       -0.181239        -1.030722   \n",
       "A05                 0.6706        0.725904       -0.153725        -0.711740   \n",
       "\n",
       "     MCP_TMEcell  xcell_TMEcell  CIBERSORT_abs_TMEcell  ConsensusTMEcell  \n",
       "A01    52.921805         0.6438               0.663951          0.367304  \n",
       "A02    54.331328         0.6449               0.637033          0.537367  \n",
       "A03    54.552966         0.7916               0.650632          0.557882  \n",
       "A04    50.375172         0.3556               0.580156          0.084694  \n",
       "A05    50.768222         0.4743               0.592368          0.141332  "
      ]
     },
     "execution_count": 100,
     "metadata": {},
     "output_type": "execute_result"
    }
   ],
   "source": [
    "cellularities_df.head()"
   ]
  },
  {
   "cell_type": "markdown",
   "metadata": {},
   "source": [
    "### Define method colour"
   ]
  },
  {
   "cell_type": "code",
   "execution_count": 101,
   "metadata": {},
   "outputs": [],
   "source": [
    "method_colours = dict({\n",
    "    'CIBERSORT_abs_TMEcell':'#6FCCDD',\n",
    "    'MCP_TMEcell':          '#B9529F',\n",
    "    'Danaher_TMEcell':      '#0E8040',\n",
    "    'xcell_TMEcell':        '#F7931D',\n",
    "    'Bindea_TMEcell':       '#F6EB16',\n",
    "    'Davoli_TMEcell':       '#231F20',\n",
    "    'ConsensusTMEcell':     '#3953A4',\n",
    "})"
   ]
  },
  {
   "cell_type": "code",
   "execution_count": 102,
   "metadata": {},
   "outputs": [],
   "source": [
    "cellularities_norm_dict = dict({m:None for m in cellularities_df})"
   ]
  },
  {
   "cell_type": "code",
   "execution_count": 103,
   "metadata": {},
   "outputs": [],
   "source": [
    "cellularities_norm_dict['TumourCellularity_WES'] = list(cellularities_df['TumourCellularity_WES'])\n",
    "cellularities_norm_dict['Samples'] = list(cellularities_df.index)"
   ]
  },
  {
   "cell_type": "code",
   "execution_count": 104,
   "metadata": {},
   "outputs": [
    {
     "data": {
      "image/png": "[encoded data removed]",
      "text/plain": [
       "<Figure size 576x576 with 1 Axes>"
      ]
     },
     "metadata": {},
     "output_type": "display_data"
    }
   ],
   "source": [
    "fig = plt.figure(figsize=(8,8))\n",
    "\n",
    "for m in method_colours:  \n",
    "    \n",
    "    rna = (cellularities_df[m] - cellularities_df[m].min()) / (cellularities_df[m].max() - cellularities_df[m].min())\n",
    "    wes = cellularities_df['TumourCellularity_WES']\n",
    "    \n",
    "    cellularities_norm_dict[m] = list(rna)\n",
    "    \n",
    "    ax = sns.regplot(\n",
    "        x=wes,\n",
    "        y=rna,\n",
    "        color=method_colours[m],\n",
    "        truncate=True,\n",
    "        scatter=True,\n",
    "        marker='.',\n",
    "        ci=None,\n",
    "        lowess=True\n",
    "    )"
   ]
  },
  {
   "cell_type": "code",
   "execution_count": 105,
   "metadata": {},
   "outputs": [],
   "source": [
    "cellularities_norm_df = pd.DataFrame.from_dict(cellularities_norm_dict)"
   ]
  },
  {
   "cell_type": "code",
   "execution_count": 106,
   "metadata": {},
   "outputs": [],
   "source": [
    "cellularities_norm_df.set_index('Samples',\n",
    "                                inplace=True)"
   ]
  },
  {
   "cell_type": "code",
   "execution_count": 107,
   "metadata": {},
   "outputs": [
    {
     "data": {
      "text/html": [
       "<div>\n",
       "<style scoped>\n",
       "    .dataframe tbody tr th:only-of-type {\n",
       "        vertical-align: middle;\n",
       "    }\n",
       "\n",
       "    .dataframe tbody tr th {\n",
       "        vertical-align: top;\n",
       "    }\n",
       "\n",
       "    .dataframe thead th {\n",
       "        text-align: right;\n",
       "    }\n",
       "</style>\n",
       "<table border=\"1\" class=\"dataframe\">\n",
       "  <thead>\n",
       "    <tr style=\"text-align: right;\">\n",
       "      <th></th>\n",
       "      <th>TumourCellularity_WES</th>\n",
       "      <th>Bindea_TMEcell</th>\n",
       "      <th>Davoli_TMEcell</th>\n",
       "      <th>Danaher_TMEcell</th>\n",
       "      <th>MCP_TMEcell</th>\n",
       "      <th>xcell_TMEcell</th>\n",
       "      <th>CIBERSORT_abs_TMEcell</th>\n",
       "      <th>ConsensusTMEcell</th>\n",
       "    </tr>\n",
       "    <tr>\n",
       "      <th>Samples</th>\n",
       "      <th></th>\n",
       "      <th></th>\n",
       "      <th></th>\n",
       "      <th></th>\n",
       "      <th></th>\n",
       "      <th></th>\n",
       "      <th></th>\n",
       "      <th></th>\n",
       "    </tr>\n",
       "  </thead>\n",
       "  <tbody>\n",
       "    <tr>\n",
       "      <th>A01</th>\n",
       "      <td>0.5973</td>\n",
       "      <td>0.517135</td>\n",
       "      <td>0.646409</td>\n",
       "      <td>0.689128</td>\n",
       "      <td>0.654520</td>\n",
       "      <td>0.792997</td>\n",
       "      <td>0.778520</td>\n",
       "      <td>0.737524</td>\n",
       "    </tr>\n",
       "    <tr>\n",
       "      <th>A02</th>\n",
       "      <td>0.5065</td>\n",
       "      <td>0.759644</td>\n",
       "      <td>1.000000</td>\n",
       "      <td>0.809477</td>\n",
       "      <td>0.814212</td>\n",
       "      <td>0.794538</td>\n",
       "      <td>0.638162</td>\n",
       "      <td>0.907588</td>\n",
       "    </tr>\n",
       "    <tr>\n",
       "      <th>A03</th>\n",
       "      <td>0.4551</td>\n",
       "      <td>0.827148</td>\n",
       "      <td>0.897445</td>\n",
       "      <td>0.837984</td>\n",
       "      <td>0.839322</td>\n",
       "      <td>1.000000</td>\n",
       "      <td>0.709069</td>\n",
       "      <td>0.928102</td>\n",
       "    </tr>\n",
       "    <tr>\n",
       "      <th>A04</th>\n",
       "      <td>0.6496</td>\n",
       "      <td>0.577699</td>\n",
       "      <td>0.455419</td>\n",
       "      <td>0.157094</td>\n",
       "      <td>0.365998</td>\n",
       "      <td>0.389356</td>\n",
       "      <td>0.341593</td>\n",
       "      <td>0.454914</td>\n",
       "    </tr>\n",
       "    <tr>\n",
       "      <th>A05</th>\n",
       "      <td>0.6706</td>\n",
       "      <td>0.493838</td>\n",
       "      <td>0.482933</td>\n",
       "      <td>0.476076</td>\n",
       "      <td>0.410529</td>\n",
       "      <td>0.555602</td>\n",
       "      <td>0.405267</td>\n",
       "      <td>0.511552</td>\n",
       "    </tr>\n",
       "  </tbody>\n",
       "</table>\n",
       "</div>"
      ],
      "text/plain": [
       "         TumourCellularity_WES  Bindea_TMEcell  Davoli_TMEcell  \\\n",
       "Samples                                                          \n",
       "A01                     0.5973        0.517135        0.646409   \n",
       "A02                     0.5065        0.759644        1.000000   \n",
       "A03                     0.4551        0.827148        0.897445   \n",
       "A04                     0.6496        0.577699        0.455419   \n",
       "A05                     0.6706        0.493838        0.482933   \n",
       "\n",
       "         Danaher_TMEcell  MCP_TMEcell  xcell_TMEcell  CIBERSORT_abs_TMEcell  \\\n",
       "Samples                                                                       \n",
       "A01             0.689128     0.654520       0.792997               0.778520   \n",
       "A02             0.809477     0.814212       0.794538               0.638162   \n",
       "A03             0.837984     0.839322       1.000000               0.709069   \n",
       "A04             0.157094     0.365998       0.389356               0.341593   \n",
       "A05             0.476076     0.410529       0.555602               0.405267   \n",
       "\n",
       "         ConsensusTMEcell  \n",
       "Samples                    \n",
       "A01              0.737524  \n",
       "A02              0.907588  \n",
       "A03              0.928102  \n",
       "A04              0.454914  \n",
       "A05              0.511552  "
      ]
     },
     "execution_count": 107,
     "metadata": {},
     "output_type": "execute_result"
    }
   ],
   "source": [
    "cellularities_norm_df.head()"
   ]
  },
  {
   "cell_type": "markdown",
   "metadata": {},
   "source": [
    "### Save normalised data frame"
   ]
  },
  {
   "cell_type": "code",
   "execution_count": null,
   "metadata": {},
   "outputs": [],
   "source": [
    "FILE = '../../Data/3/WES_TumourCellularity_mRNA_TMEcellularity_norm_estimations.txt'\n",
    "\n",
    "cellularities_norm_df.to_csv(FILE, sep='\\t')"
   ]
  },
  {
   "cell_type": "markdown",
   "metadata": {},
   "source": [
    "# End script"
   ]
  }
 ],
 "metadata": {
  "kernelspec": {
   "display_name": "Python 3",
   "language": "python",
   "name": "python3"
  },
  "language_info": {
   "codemirror_mode": {
    "name": "ipython",
    "version": 3
   },
   "file_extension": ".py",
   "mimetype": "text/x-python",
   "name": "python",
   "nbconvert_exporter": "python",
   "pygments_lexer": "ipython3",
   "version": "3.6.8"
  }
 },
 "nbformat": 4,
 "nbformat_minor": 2
}

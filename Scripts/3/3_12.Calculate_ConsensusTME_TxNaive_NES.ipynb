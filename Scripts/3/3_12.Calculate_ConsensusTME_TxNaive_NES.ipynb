{
 "cells": [
  {
   "cell_type": "markdown",
   "metadata": {},
   "source": [
    "# Calculate normalised enrichment scores of ConsensusTME gene sets"
   ]
  },
  {
   "cell_type": "markdown",
   "metadata": {},
   "source": [
    "Script related to figure 3a-d, s3c-f\n",
    "\n",
    "### Aim:\n",
    "- Calculate NES of ConsensusTME Gene Sets"
   ]
  },
  {
   "cell_type": "code",
   "execution_count": 1,
   "metadata": {},
   "outputs": [
    {
     "data": {
      "text/plain": [
       "R version 3.5.0 (2018-04-23)\n",
       "Platform: x86_64-apple-darwin15.6.0 (64-bit)\n",
       "Running under: macOS High Sierra 10.13.6\n",
       "\n",
       "Matrix products: default\n",
       "BLAS: /Library/Frameworks/R.framework/Versions/3.5/Resources/lib/libRblas.0.dylib\n",
       "LAPACK: /Library/Frameworks/R.framework/Versions/3.5/Resources/lib/libRlapack.dylib\n",
       "\n",
       "locale:\n",
       "[1] C/UTF-8/C/C/C/C\n",
       "\n",
       "attached base packages:\n",
       "[1] stats     graphics  grDevices utils     datasets  methods   base     \n",
       "\n",
       "loaded via a namespace (and not attached):\n",
       " [1] compiler_3.5.0  IRdisplay_0.6.1 pbdZMQ_0.3-3    tools_3.5.0    \n",
       " [5] htmltools_0.3.6 base64enc_0.1-3 crayon_1.3.4    Rcpp_1.0.1     \n",
       " [9] uuid_0.1-2      IRkernel_0.8.14 jsonlite_1.6    digest_0.6.18  \n",
       "[13] repr_0.17       evaluate_0.13  "
      ]
     },
     "metadata": {},
     "output_type": "display_data"
    }
   ],
   "source": [
    "sessionInfo()"
   ]
  },
  {
   "cell_type": "markdown",
   "metadata": {},
   "source": [
    "## Load packages"
   ]
  },
  {
   "cell_type": "code",
   "execution_count": 1,
   "metadata": {},
   "outputs": [
    {
     "name": "stderr",
     "output_type": "stream",
     "text": [
      "Warning message:\n",
      "“package ‘GSVA’ was built under R version 3.5.1”\n",
      "Attaching package: ‘BBmisc’\n",
      "\n",
      "The following object is masked from ‘package:base’:\n",
      "\n",
      "    isFALSE\n",
      "\n"
     ]
    }
   ],
   "source": [
    "library(GSVA)\n",
    "library(BBmisc)\n",
    "library(nortest)"
   ]
  },
  {
   "cell_type": "code",
   "execution_count": 2,
   "metadata": {},
   "outputs": [],
   "source": [
    "setwd(\"~/git_repos/HGSOC_TME_Heterogeneity/Scripts/3/\")"
   ]
  },
  {
   "cell_type": "markdown",
   "metadata": {},
   "source": [
    "## Load expression data"
   ]
  },
  {
   "cell_type": "code",
   "execution_count": null,
   "metadata": {},
   "outputs": [],
   "source": [
    "mix <- \"../../Data/1/TreatmentNaive_log2exp_loess_norm.txt\""
   ]
  },
  {
   "cell_type": "code",
   "execution_count": 3,
   "metadata": {},
   "outputs": [],
   "source": [
    "data <- read.csv(mix,\n",
    "                 sep='\\t',\n",
    "                 header=T,\n",
    "                 row.names='Hugo_Symbol')"
   ]
  },
  {
   "cell_type": "code",
   "execution_count": 4,
   "metadata": {},
   "outputs": [
    {
     "data": {
      "text/html": [
       "<table>\n",
       "<thead><tr><th></th><th scope=col>A01</th><th scope=col>A02</th><th scope=col>A03</th><th scope=col>A04</th><th scope=col>A05</th><th scope=col>A06</th><th scope=col>A07</th><th scope=col>A08</th><th scope=col>A09</th><th scope=col>A10</th><th scope=col>⋯</th><th scope=col>C06</th><th scope=col>C07</th><th scope=col>C08</th><th scope=col>C09</th><th scope=col>C10</th><th scope=col>C11</th><th scope=col>C12</th><th scope=col>D01</th><th scope=col>D02</th><th scope=col>D03</th></tr></thead>\n",
       "<tbody>\n",
       "\t<tr><th scope=row>A1BG</th><td> 4.124711</td><td> 3.880633</td><td> 4.864973</td><td>4.167882 </td><td> 4.317845</td><td> 3.679057</td><td>4.092837 </td><td> 4.370571</td><td> 4.252637</td><td>4.174694 </td><td>⋯        </td><td>3.804537 </td><td>4.416981 </td><td>4.169014 </td><td>4.503313 </td><td>4.146333 </td><td>4.078398 </td><td> 4.011369</td><td>3.845128 </td><td> 3.600927</td><td>4.521857 </td></tr>\n",
       "\t<tr><th scope=row>A2BP1</th><td> 3.960924</td><td> 4.033715</td><td> 3.721251</td><td>3.916073 </td><td> 4.338194</td><td> 3.357396</td><td>3.872447 </td><td> 3.803388</td><td> 3.484735</td><td>4.427405 </td><td>⋯        </td><td>4.991068 </td><td>3.799913 </td><td>4.117883 </td><td>4.122134 </td><td>4.221760 </td><td>3.648326 </td><td> 3.675317</td><td>3.546925 </td><td> 3.788279</td><td>4.920841 </td></tr>\n",
       "\t<tr><th scope=row>A2M</th><td>12.603155</td><td>10.859838</td><td>12.612923</td><td>9.176999 </td><td>10.548790</td><td>11.840776</td><td>7.200547 </td><td>11.835658</td><td>11.535547</td><td>7.080118 </td><td>⋯        </td><td>9.061598 </td><td>9.189459 </td><td>8.844728 </td><td>7.464440 </td><td>6.726233 </td><td>9.265911 </td><td>10.740486</td><td>9.735582 </td><td>10.781599</td><td>8.734304 </td></tr>\n",
       "\t<tr><th scope=row>A2ML1</th><td> 3.945877</td><td> 4.000621</td><td> 3.767932</td><td>3.789729 </td><td> 3.543204</td><td> 3.805520</td><td>4.336280 </td><td> 4.031757</td><td> 4.166018</td><td>3.673146 </td><td>⋯        </td><td>4.231174 </td><td>3.871651 </td><td>3.287232 </td><td>3.721093 </td><td>3.723801 </td><td>3.884499 </td><td> 3.694111</td><td>3.937682 </td><td> 3.600471</td><td>3.402861 </td></tr>\n",
       "\t<tr><th scope=row>A4GALT</th><td> 3.597277</td><td> 3.863757</td><td> 4.051844</td><td>4.113169 </td><td> 3.975144</td><td> 3.991293</td><td>5.439960 </td><td> 4.696177</td><td> 4.171788</td><td>4.041633 </td><td>⋯        </td><td>4.183089 </td><td>4.699729 </td><td>4.019537 </td><td>3.739865 </td><td>4.591953 </td><td>4.997860 </td><td> 4.099630</td><td>5.001239 </td><td> 4.714710</td><td>4.145119 </td></tr>\n",
       "\t<tr><th scope=row>A4GNT</th><td> 3.714481</td><td> 3.593169</td><td> 3.241352</td><td>3.515850 </td><td> 3.364447</td><td> 3.767865</td><td>3.768695 </td><td> 3.163977</td><td> 3.423377</td><td>3.205154 </td><td>⋯        </td><td>3.896812 </td><td>3.915653 </td><td>3.351422 </td><td>3.719759 </td><td>3.641028 </td><td>3.114521 </td><td> 3.560199</td><td>3.539738 </td><td> 3.760903</td><td>3.479266 </td></tr>\n",
       "</tbody>\n",
       "</table>\n"
      ],
      "text/latex": [
       "\\begin{tabular}{r|llllllllllllllllllllllllllllllllllllll}\n",
       "  & A01 & A02 & A03 & A04 & A05 & A06 & A07 & A08 & A09 & A10 & ⋯ & C06 & C07 & C08 & C09 & C10 & C11 & C12 & D01 & D02 & D03\\\\\n",
       "\\hline\n",
       "\tA1BG &  4.124711 &  3.880633 &  4.864973 & 4.167882  &  4.317845 &  3.679057 & 4.092837  &  4.370571 &  4.252637 & 4.174694  & ⋯         & 3.804537  & 4.416981  & 4.169014  & 4.503313  & 4.146333  & 4.078398  &  4.011369 & 3.845128  &  3.600927 & 4.521857 \\\\\n",
       "\tA2BP1 &  3.960924 &  4.033715 &  3.721251 & 3.916073  &  4.338194 &  3.357396 & 3.872447  &  3.803388 &  3.484735 & 4.427405  & ⋯         & 4.991068  & 3.799913  & 4.117883  & 4.122134  & 4.221760  & 3.648326  &  3.675317 & 3.546925  &  3.788279 & 4.920841 \\\\\n",
       "\tA2M & 12.603155 & 10.859838 & 12.612923 & 9.176999  & 10.548790 & 11.840776 & 7.200547  & 11.835658 & 11.535547 & 7.080118  & ⋯         & 9.061598  & 9.189459  & 8.844728  & 7.464440  & 6.726233  & 9.265911  & 10.740486 & 9.735582  & 10.781599 & 8.734304 \\\\\n",
       "\tA2ML1 &  3.945877 &  4.000621 &  3.767932 & 3.789729  &  3.543204 &  3.805520 & 4.336280  &  4.031757 &  4.166018 & 3.673146  & ⋯         & 4.231174  & 3.871651  & 3.287232  & 3.721093  & 3.723801  & 3.884499  &  3.694111 & 3.937682  &  3.600471 & 3.402861 \\\\\n",
       "\tA4GALT &  3.597277 &  3.863757 &  4.051844 & 4.113169  &  3.975144 &  3.991293 & 5.439960  &  4.696177 &  4.171788 & 4.041633  & ⋯         & 4.183089  & 4.699729  & 4.019537  & 3.739865  & 4.591953  & 4.997860  &  4.099630 & 5.001239  &  4.714710 & 4.145119 \\\\\n",
       "\tA4GNT &  3.714481 &  3.593169 &  3.241352 & 3.515850  &  3.364447 &  3.767865 & 3.768695  &  3.163977 &  3.423377 & 3.205154  & ⋯         & 3.896812  & 3.915653  & 3.351422  & 3.719759  & 3.641028  & 3.114521  &  3.560199 & 3.539738  &  3.760903 & 3.479266 \\\\\n",
       "\\end{tabular}\n"
      ],
      "text/markdown": [
       "\n",
       "| <!--/--> | A01 | A02 | A03 | A04 | A05 | A06 | A07 | A08 | A09 | A10 | ⋯ | C06 | C07 | C08 | C09 | C10 | C11 | C12 | D01 | D02 | D03 | \n",
       "|---|---|---|---|---|---|\n",
       "| A1BG |  4.124711 |  3.880633 |  4.864973 | 4.167882  |  4.317845 |  3.679057 | 4.092837  |  4.370571 |  4.252637 | 4.174694  | ⋯         | 3.804537  | 4.416981  | 4.169014  | 4.503313  | 4.146333  | 4.078398  |  4.011369 | 3.845128  |  3.600927 | 4.521857  | \n",
       "| A2BP1 |  3.960924 |  4.033715 |  3.721251 | 3.916073  |  4.338194 |  3.357396 | 3.872447  |  3.803388 |  3.484735 | 4.427405  | ⋯         | 4.991068  | 3.799913  | 4.117883  | 4.122134  | 4.221760  | 3.648326  |  3.675317 | 3.546925  |  3.788279 | 4.920841  | \n",
       "| A2M | 12.603155 | 10.859838 | 12.612923 | 9.176999  | 10.548790 | 11.840776 | 7.200547  | 11.835658 | 11.535547 | 7.080118  | ⋯         | 9.061598  | 9.189459  | 8.844728  | 7.464440  | 6.726233  | 9.265911  | 10.740486 | 9.735582  | 10.781599 | 8.734304  | \n",
       "| A2ML1 |  3.945877 |  4.000621 |  3.767932 | 3.789729  |  3.543204 |  3.805520 | 4.336280  |  4.031757 |  4.166018 | 3.673146  | ⋯         | 4.231174  | 3.871651  | 3.287232  | 3.721093  | 3.723801  | 3.884499  |  3.694111 | 3.937682  |  3.600471 | 3.402861  | \n",
       "| A4GALT |  3.597277 |  3.863757 |  4.051844 | 4.113169  |  3.975144 |  3.991293 | 5.439960  |  4.696177 |  4.171788 | 4.041633  | ⋯         | 4.183089  | 4.699729  | 4.019537  | 3.739865  | 4.591953  | 4.997860  |  4.099630 | 5.001239  |  4.714710 | 4.145119  | \n",
       "| A4GNT |  3.714481 |  3.593169 |  3.241352 | 3.515850  |  3.364447 |  3.767865 | 3.768695  |  3.163977 |  3.423377 | 3.205154  | ⋯         | 3.896812  | 3.915653  | 3.351422  | 3.719759  | 3.641028  | 3.114521  |  3.560199 | 3.539738  |  3.760903 | 3.479266  | \n",
       "\n",
       "\n"
      ],
      "text/plain": [
       "       A01       A02       A03       A04      A05       A06       A07     \n",
       "A1BG    4.124711  3.880633  4.864973 4.167882  4.317845  3.679057 4.092837\n",
       "A2BP1   3.960924  4.033715  3.721251 3.916073  4.338194  3.357396 3.872447\n",
       "A2M    12.603155 10.859838 12.612923 9.176999 10.548790 11.840776 7.200547\n",
       "A2ML1   3.945877  4.000621  3.767932 3.789729  3.543204  3.805520 4.336280\n",
       "A4GALT  3.597277  3.863757  4.051844 4.113169  3.975144  3.991293 5.439960\n",
       "A4GNT   3.714481  3.593169  3.241352 3.515850  3.364447  3.767865 3.768695\n",
       "       A08       A09       A10      ⋯ C06      C07      C08      C09     \n",
       "A1BG    4.370571  4.252637 4.174694 ⋯ 3.804537 4.416981 4.169014 4.503313\n",
       "A2BP1   3.803388  3.484735 4.427405 ⋯ 4.991068 3.799913 4.117883 4.122134\n",
       "A2M    11.835658 11.535547 7.080118 ⋯ 9.061598 9.189459 8.844728 7.464440\n",
       "A2ML1   4.031757  4.166018 3.673146 ⋯ 4.231174 3.871651 3.287232 3.721093\n",
       "A4GALT  4.696177  4.171788 4.041633 ⋯ 4.183089 4.699729 4.019537 3.739865\n",
       "A4GNT   3.163977  3.423377 3.205154 ⋯ 3.896812 3.915653 3.351422 3.719759\n",
       "       C10      C11      C12       D01      D02       D03     \n",
       "A1BG   4.146333 4.078398  4.011369 3.845128  3.600927 4.521857\n",
       "A2BP1  4.221760 3.648326  3.675317 3.546925  3.788279 4.920841\n",
       "A2M    6.726233 9.265911 10.740486 9.735582 10.781599 8.734304\n",
       "A2ML1  3.723801 3.884499  3.694111 3.937682  3.600471 3.402861\n",
       "A4GALT 4.591953 4.997860  4.099630 5.001239  4.714710 4.145119\n",
       "A4GNT  3.641028 3.114521  3.560199 3.539738  3.760903 3.479266"
      ]
     },
     "metadata": {},
     "output_type": "display_data"
    }
   ],
   "source": [
    "head(data)"
   ]
  },
  {
   "cell_type": "code",
   "execution_count": 5,
   "metadata": {},
   "outputs": [],
   "source": [
    "data_mtx <- as.matrix(data)"
   ]
  },
  {
   "cell_type": "markdown",
   "metadata": {},
   "source": [
    "## Load ConsensusTME gene sets"
   ]
  },
  {
   "cell_type": "code",
   "execution_count": 6,
   "metadata": {},
   "outputs": [],
   "source": [
    "ConTME_GeneSets <- read.csv('../../Data/3/ConsensusTME_GeneSets.txt',\n",
    "                            sep='\\t',\n",
    "                            header=T)"
   ]
  },
  {
   "cell_type": "code",
   "execution_count": 7,
   "metadata": {},
   "outputs": [
    {
     "data": {
      "text/html": [
       "<table>\n",
       "<thead><tr><th scope=col>B_cells</th><th scope=col>Cytotoxic_cells</th><th scope=col>Dendritic_cells</th><th scope=col>Endothelial</th><th scope=col>Eosinophils</th><th scope=col>Fibroblasts</th><th scope=col>Macrophages</th><th scope=col>Macrophages_M1</th><th scope=col>Macrophages_M2</th><th scope=col>Mast_cells</th><th scope=col>Monocytes</th><th scope=col>NK_cells</th><th scope=col>Neutrophils</th><th scope=col>Plasma_cells</th><th scope=col>T_cells_CD4</th><th scope=col>T_cells_CD8</th><th scope=col>T_cells_gamma_delta</th><th scope=col>T_regulatory_cells</th></tr></thead>\n",
       "<tbody>\n",
       "\t<tr><td>BLNK    </td><td>CTSW    </td><td>BCL2A1  </td><td>CD93    </td><td>ABHD2   </td><td>ABCA6   </td><td>ACTR2   </td><td>ACTR2   </td><td>AIF1    </td><td>ATP6V1C1</td><td>AIF1    </td><td>APOBEC3G</td><td>BCL2A1  </td><td>CD27    </td><td>AIM2    </td><td>BCL11B  </td><td>APOBEC3G</td><td>CCR7    </td></tr>\n",
       "\t<tr><td>CD1C    </td><td>GZMA    </td><td>BIRC3   </td><td>CDH5    </td><td>BCL2A1  </td><td>ASPN    </td><td>ATG7    </td><td>CCL19   </td><td>ATP6V1C1</td><td>CCL4    </td><td>AKAP13  </td><td>CCL4    </td><td>C5AR1   </td><td>CD38    </td><td>ARHGAP15</td><td>BIN2    </td><td>CCL4    </td><td>CD2     </td></tr>\n",
       "\t<tr><td>CD37    </td><td>GZMB    </td><td>CCL19   </td><td>EMCN    </td><td>CCL4    </td><td>COL3A1  </td><td>ATP6V1C1</td><td>CCL4    </td><td>CLEC10A </td><td>CD84    </td><td>C5AR1   </td><td>CCR5    </td><td>CSF2RB  </td><td>CYBA    </td><td>BATF    </td><td>CCL4    </td><td>CCR2    </td><td>CD247   </td></tr>\n",
       "\t<tr><td>CD53    </td><td>GZMH    </td><td>CCL4    </td><td>ERG     </td><td>CCR1    </td><td>DCN     </td><td>BCL2A1  </td><td>CCR1    </td><td>CLEC4A  </td><td>LCP2    </td><td>CCR2    </td><td>CD2     </td><td>CSF3R   </td><td>ENTPD1  </td><td>BCL11B  </td><td>CCR5    </td><td>CCR5    </td><td>CD27    </td></tr>\n",
       "\t<tr><td>CD69    </td><td>KLRB1   </td><td>CCR2    </td><td>KDR     </td><td>CD69    </td><td>GREM1   </td><td>C5AR1   </td><td>CCR7    </td><td>FGR     </td><td>MMP9    </td><td>CD244   </td><td>CD244   </td><td>FCGR3B  </td><td>HSPA6   </td><td>CCL4    </td><td>CCR7    </td><td>CD2     </td><td>CD37    </td></tr>\n",
       "\t<tr><td>CD80    </td><td>KLRK1   </td><td>CCR5    </td><td>PCDH12  </td><td>CSF2RB  </td><td>ISLR    </td><td>CCL19   </td><td>CD38    </td><td>HCK     </td><td>SAMSN1  </td><td>CD37    </td><td>CD247   </td><td>FPR1    </td><td>MTDH    </td><td>CCR2    </td><td>CD2     </td><td>CD244   </td><td>CD3E    </td></tr>\n",
       "</tbody>\n",
       "</table>\n"
      ],
      "text/latex": [
       "\\begin{tabular}{r|llllllllllllllllll}\n",
       " B\\_cells & Cytotoxic\\_cells & Dendritic\\_cells & Endothelial & Eosinophils & Fibroblasts & Macrophages & Macrophages\\_M1 & Macrophages\\_M2 & Mast\\_cells & Monocytes & NK\\_cells & Neutrophils & Plasma\\_cells & T\\_cells\\_CD4 & T\\_cells\\_CD8 & T\\_cells\\_gamma\\_delta & T\\_regulatory\\_cells\\\\\n",
       "\\hline\n",
       "\t BLNK     & CTSW     & BCL2A1   & CD93     & ABHD2    & ABCA6    & ACTR2    & ACTR2    & AIF1     & ATP6V1C1 & AIF1     & APOBEC3G & BCL2A1   & CD27     & AIM2     & BCL11B   & APOBEC3G & CCR7    \\\\\n",
       "\t CD1C     & GZMA     & BIRC3    & CDH5     & BCL2A1   & ASPN     & ATG7     & CCL19    & ATP6V1C1 & CCL4     & AKAP13   & CCL4     & C5AR1    & CD38     & ARHGAP15 & BIN2     & CCL4     & CD2     \\\\\n",
       "\t CD37     & GZMB     & CCL19    & EMCN     & CCL4     & COL3A1   & ATP6V1C1 & CCL4     & CLEC10A  & CD84     & C5AR1    & CCR5     & CSF2RB   & CYBA     & BATF     & CCL4     & CCR2     & CD247   \\\\\n",
       "\t CD53     & GZMH     & CCL4     & ERG      & CCR1     & DCN      & BCL2A1   & CCR1     & CLEC4A   & LCP2     & CCR2     & CD2      & CSF3R    & ENTPD1   & BCL11B   & CCR5     & CCR5     & CD27    \\\\\n",
       "\t CD69     & KLRB1    & CCR2     & KDR      & CD69     & GREM1    & C5AR1    & CCR7     & FGR      & MMP9     & CD244    & CD244    & FCGR3B   & HSPA6    & CCL4     & CCR7     & CD2      & CD37    \\\\\n",
       "\t CD80     & KLRK1    & CCR5     & PCDH12   & CSF2RB   & ISLR     & CCL19    & CD38     & HCK      & SAMSN1   & CD37     & CD247    & FPR1     & MTDH     & CCR2     & CD2      & CD244    & CD3E    \\\\\n",
       "\\end{tabular}\n"
      ],
      "text/markdown": [
       "\n",
       "B_cells | Cytotoxic_cells | Dendritic_cells | Endothelial | Eosinophils | Fibroblasts | Macrophages | Macrophages_M1 | Macrophages_M2 | Mast_cells | Monocytes | NK_cells | Neutrophils | Plasma_cells | T_cells_CD4 | T_cells_CD8 | T_cells_gamma_delta | T_regulatory_cells | \n",
       "|---|---|---|---|---|---|\n",
       "| BLNK     | CTSW     | BCL2A1   | CD93     | ABHD2    | ABCA6    | ACTR2    | ACTR2    | AIF1     | ATP6V1C1 | AIF1     | APOBEC3G | BCL2A1   | CD27     | AIM2     | BCL11B   | APOBEC3G | CCR7     | \n",
       "| CD1C     | GZMA     | BIRC3    | CDH5     | BCL2A1   | ASPN     | ATG7     | CCL19    | ATP6V1C1 | CCL4     | AKAP13   | CCL4     | C5AR1    | CD38     | ARHGAP15 | BIN2     | CCL4     | CD2      | \n",
       "| CD37     | GZMB     | CCL19    | EMCN     | CCL4     | COL3A1   | ATP6V1C1 | CCL4     | CLEC10A  | CD84     | C5AR1    | CCR5     | CSF2RB   | CYBA     | BATF     | CCL4     | CCR2     | CD247    | \n",
       "| CD53     | GZMH     | CCL4     | ERG      | CCR1     | DCN      | BCL2A1   | CCR1     | CLEC4A   | LCP2     | CCR2     | CD2      | CSF3R    | ENTPD1   | BCL11B   | CCR5     | CCR5     | CD27     | \n",
       "| CD69     | KLRB1    | CCR2     | KDR      | CD69     | GREM1    | C5AR1    | CCR7     | FGR      | MMP9     | CD244    | CD244    | FCGR3B   | HSPA6    | CCL4     | CCR7     | CD2      | CD37     | \n",
       "| CD80     | KLRK1    | CCR5     | PCDH12   | CSF2RB   | ISLR     | CCL19    | CD38     | HCK      | SAMSN1   | CD37     | CD247    | FPR1     | MTDH     | CCR2     | CD2      | CD244    | CD3E     | \n",
       "\n",
       "\n"
      ],
      "text/plain": [
       "  B_cells Cytotoxic_cells Dendritic_cells Endothelial Eosinophils Fibroblasts\n",
       "1 BLNK    CTSW            BCL2A1          CD93        ABHD2       ABCA6      \n",
       "2 CD1C    GZMA            BIRC3           CDH5        BCL2A1      ASPN       \n",
       "3 CD37    GZMB            CCL19           EMCN        CCL4        COL3A1     \n",
       "4 CD53    GZMH            CCL4            ERG         CCR1        DCN        \n",
       "5 CD69    KLRB1           CCR2            KDR         CD69        GREM1      \n",
       "6 CD80    KLRK1           CCR5            PCDH12      CSF2RB      ISLR       \n",
       "  Macrophages Macrophages_M1 Macrophages_M2 Mast_cells Monocytes NK_cells\n",
       "1 ACTR2       ACTR2          AIF1           ATP6V1C1   AIF1      APOBEC3G\n",
       "2 ATG7        CCL19          ATP6V1C1       CCL4       AKAP13    CCL4    \n",
       "3 ATP6V1C1    CCL4           CLEC10A        CD84       C5AR1     CCR5    \n",
       "4 BCL2A1      CCR1           CLEC4A         LCP2       CCR2      CD2     \n",
       "5 C5AR1       CCR7           FGR            MMP9       CD244     CD244   \n",
       "6 CCL19       CD38           HCK            SAMSN1     CD37      CD247   \n",
       "  Neutrophils Plasma_cells T_cells_CD4 T_cells_CD8 T_cells_gamma_delta\n",
       "1 BCL2A1      CD27         AIM2        BCL11B      APOBEC3G           \n",
       "2 C5AR1       CD38         ARHGAP15    BIN2        CCL4               \n",
       "3 CSF2RB      CYBA         BATF        CCL4        CCR2               \n",
       "4 CSF3R       ENTPD1       BCL11B      CCR5        CCR5               \n",
       "5 FCGR3B      HSPA6        CCL4        CCR7        CD2                \n",
       "6 FPR1        MTDH         CCR2        CD2         CD244              \n",
       "  T_regulatory_cells\n",
       "1 CCR7              \n",
       "2 CD2               \n",
       "3 CD247             \n",
       "4 CD27              \n",
       "5 CD37              \n",
       "6 CD3E              "
      ]
     },
     "metadata": {},
     "output_type": "display_data"
    }
   ],
   "source": [
    "head(ConTME_GeneSets)"
   ]
  },
  {
   "cell_type": "code",
   "execution_count": 8,
   "metadata": {},
   "outputs": [],
   "source": [
    "ConTME_GeneSets <- convertRowsToList(t(ConTME_GeneSets))"
   ]
  },
  {
   "cell_type": "markdown",
   "metadata": {},
   "source": [
    "## Run ssGSEA"
   ]
  },
  {
   "cell_type": "code",
   "execution_count": 9,
   "metadata": {},
   "outputs": [
    {
     "name": "stdout",
     "output_type": "stream",
     "text": [
      "Estimating ssGSEA scores for 18 gene sets.\n",
      "  |                                                                      |   0%Using parallel with 4 cores\n",
      "  |======================================================================| 100%\n"
     ]
    }
   ],
   "source": [
    "con_NES <- gsva(data_mtx,\n",
    "                ConTME_GeneSets,\n",
    "                method='ssgsea',\n",
    "                min.sz=0,\n",
    "                max.sz=1000,\n",
    "                ssgsea.norm=T)"
   ]
  },
  {
   "cell_type": "code",
   "execution_count": 10,
   "metadata": {},
   "outputs": [],
   "source": [
    "con_NES <- data.frame(\"Term\"=rownames(con_NES),\n",
    "                      con_NES)\n",
    "\n",
    "rownames(con_NES) <- NULL"
   ]
  },
  {
   "cell_type": "code",
   "execution_count": 11,
   "metadata": {},
   "outputs": [
    {
     "data": {
      "text/html": [
       "<table>\n",
       "<thead><tr><th scope=col>Term</th><th scope=col>A01</th><th scope=col>A02</th><th scope=col>A03</th><th scope=col>A04</th><th scope=col>A05</th><th scope=col>A06</th><th scope=col>A07</th><th scope=col>A08</th><th scope=col>A09</th><th scope=col>⋯</th><th scope=col>C06</th><th scope=col>C07</th><th scope=col>C08</th><th scope=col>C09</th><th scope=col>C10</th><th scope=col>C11</th><th scope=col>C12</th><th scope=col>D01</th><th scope=col>D02</th><th scope=col>D03</th></tr></thead>\n",
       "<tbody>\n",
       "\t<tr><td>B_cells        </td><td>0.03847931     </td><td>0.1549990      </td><td>0.1315862      </td><td> 0.08862296    </td><td>0.03877229     </td><td>-0.01751238    </td><td>-0.04707827    </td><td>-0.086647414   </td><td>-0.19937432    </td><td>⋯              </td><td> 0.01250423    </td><td> 0.11489017    </td><td>-0.03624780    </td><td> 0.01627768    </td><td>-0.01288170    </td><td> 0.14474920    </td><td> 0.12045088    </td><td> 0.10452696    </td><td> 0.08315162    </td><td>-0.065880578   </td></tr>\n",
       "\t<tr><td>Cytotoxic_cells</td><td>0.21014819     </td><td>0.1875674      </td><td>0.1536875      </td><td>-0.14416349    </td><td>0.00385764     </td><td>-0.15517350    </td><td>-0.29025097    </td><td>-0.170453505   </td><td>-0.41685911    </td><td>⋯              </td><td>-0.34590063    </td><td>-0.25087812    </td><td>-0.30483075    </td><td>-0.22186809    </td><td>-0.30561410    </td><td>-0.00397126    </td><td>-0.00266926    </td><td>-0.07507192    </td><td>-0.08618847    </td><td>-0.243335223   </td></tr>\n",
       "\t<tr><td>Dendritic_cells</td><td>0.18909641     </td><td>0.2267871      </td><td>0.2752798      </td><td> 0.04431845    </td><td>0.09400068     </td><td> 0.09265174    </td><td>-0.01060890    </td><td> 0.014540237   </td><td>-0.05380443    </td><td>⋯              </td><td> 0.02497896    </td><td> 0.13393122    </td><td> 0.03094155    </td><td> 0.07584708    </td><td> 0.02380026    </td><td> 0.16876260    </td><td> 0.15166472    </td><td> 0.14329850    </td><td> 0.21183219    </td><td> 0.002961015   </td></tr>\n",
       "\t<tr><td>Endothelial    </td><td>0.15780636     </td><td>0.1632387      </td><td>0.2085353      </td><td> 0.01686532    </td><td>0.03234967     </td><td> 0.05249416    </td><td>-0.08634282    </td><td> 0.001588116   </td><td>-0.04508628    </td><td>⋯              </td><td> 0.03781560    </td><td> 0.16182852    </td><td> 0.08495025    </td><td> 0.09548239    </td><td>-0.07743838    </td><td> 0.13262528    </td><td> 0.16642132    </td><td> 0.09170046    </td><td> 0.11939875    </td><td>-0.119858918   </td></tr>\n",
       "\t<tr><td>Eosinophils    </td><td>0.20082325     </td><td>0.1976900      </td><td>0.2719497      </td><td>-0.02236162    </td><td>0.08303401     </td><td> 0.07901006    </td><td>-0.05555490    </td><td>-0.011277352   </td><td>-0.04878391    </td><td>⋯              </td><td> 0.02971066    </td><td> 0.08064865    </td><td>-0.04818705    </td><td> 0.13406243    </td><td> 0.03213819    </td><td> 0.16638669    </td><td> 0.15893988    </td><td> 0.20794872    </td><td> 0.20548346    </td><td>-0.054183279   </td></tr>\n",
       "\t<tr><td>Fibroblasts    </td><td>0.13261514     </td><td>0.2166350      </td><td>0.2155019      </td><td> 0.01534575    </td><td>0.09724308     </td><td> 0.16575105    </td><td> 0.02957739    </td><td> 0.003008653   </td><td> 0.10290596    </td><td>⋯              </td><td> 0.32002944    </td><td> 0.50893683    </td><td> 0.50814238    </td><td> 0.28581643    </td><td> 0.15155832    </td><td> 0.26258405    </td><td> 0.25894289    </td><td> 0.24088605    </td><td> 0.19288074    </td><td> 0.098543741   </td></tr>\n",
       "</tbody>\n",
       "</table>\n"
      ],
      "text/latex": [
       "\\begin{tabular}{r|lllllllllllllllllllllllllllllllllllllll}\n",
       " Term & A01 & A02 & A03 & A04 & A05 & A06 & A07 & A08 & A09 & ⋯ & C06 & C07 & C08 & C09 & C10 & C11 & C12 & D01 & D02 & D03\\\\\n",
       "\\hline\n",
       "\t B\\_cells         & 0.03847931        & 0.1549990         & 0.1315862         &  0.08862296       & 0.03877229        & -0.01751238       & -0.04707827       & -0.086647414      & -0.19937432       & ⋯                 &  0.01250423       &  0.11489017       & -0.03624780       &  0.01627768       & -0.01288170       &  0.14474920       &  0.12045088       &  0.10452696       &  0.08315162       & -0.065880578     \\\\\n",
       "\t Cytotoxic\\_cells & 0.21014819        & 0.1875674         & 0.1536875         & -0.14416349       & 0.00385764        & -0.15517350       & -0.29025097       & -0.170453505      & -0.41685911       & ⋯                 & -0.34590063       & -0.25087812       & -0.30483075       & -0.22186809       & -0.30561410       & -0.00397126       & -0.00266926       & -0.07507192       & -0.08618847       & -0.243335223     \\\\\n",
       "\t Dendritic\\_cells & 0.18909641        & 0.2267871         & 0.2752798         &  0.04431845       & 0.09400068        &  0.09265174       & -0.01060890       &  0.014540237      & -0.05380443       & ⋯                 &  0.02497896       &  0.13393122       &  0.03094155       &  0.07584708       &  0.02380026       &  0.16876260       &  0.15166472       &  0.14329850       &  0.21183219       &  0.002961015     \\\\\n",
       "\t Endothelial     & 0.15780636      & 0.1632387       & 0.2085353       &  0.01686532     & 0.03234967      &  0.05249416     & -0.08634282     &  0.001588116    & -0.04508628     & ⋯               &  0.03781560     &  0.16182852     &  0.08495025     &  0.09548239     & -0.07743838     &  0.13262528     &  0.16642132     &  0.09170046     &  0.11939875     & -0.119858918   \\\\\n",
       "\t Eosinophils     & 0.20082325      & 0.1976900       & 0.2719497       & -0.02236162     & 0.08303401      &  0.07901006     & -0.05555490     & -0.011277352    & -0.04878391     & ⋯               &  0.02971066     &  0.08064865     & -0.04818705     &  0.13406243     &  0.03213819     &  0.16638669     &  0.15893988     &  0.20794872     &  0.20548346     & -0.054183279   \\\\\n",
       "\t Fibroblasts     & 0.13261514      & 0.2166350       & 0.2155019       &  0.01534575     & 0.09724308      &  0.16575105     &  0.02957739     &  0.003008653    &  0.10290596     & ⋯               &  0.32002944     &  0.50893683     &  0.50814238     &  0.28581643     &  0.15155832     &  0.26258405     &  0.25894289     &  0.24088605     &  0.19288074     &  0.098543741   \\\\\n",
       "\\end{tabular}\n"
      ],
      "text/markdown": [
       "\n",
       "Term | A01 | A02 | A03 | A04 | A05 | A06 | A07 | A08 | A09 | ⋯ | C06 | C07 | C08 | C09 | C10 | C11 | C12 | D01 | D02 | D03 | \n",
       "|---|---|---|---|---|---|\n",
       "| B_cells         | 0.03847931      | 0.1549990       | 0.1315862       |  0.08862296     | 0.03877229      | -0.01751238     | -0.04707827     | -0.086647414    | -0.19937432     | ⋯               |  0.01250423     |  0.11489017     | -0.03624780     |  0.01627768     | -0.01288170     |  0.14474920     |  0.12045088     |  0.10452696     |  0.08315162     | -0.065880578    | \n",
       "| Cytotoxic_cells | 0.21014819      | 0.1875674       | 0.1536875       | -0.14416349     | 0.00385764      | -0.15517350     | -0.29025097     | -0.170453505    | -0.41685911     | ⋯               | -0.34590063     | -0.25087812     | -0.30483075     | -0.22186809     | -0.30561410     | -0.00397126     | -0.00266926     | -0.07507192     | -0.08618847     | -0.243335223    | \n",
       "| Dendritic_cells | 0.18909641      | 0.2267871       | 0.2752798       |  0.04431845     | 0.09400068      |  0.09265174     | -0.01060890     |  0.014540237    | -0.05380443     | ⋯               |  0.02497896     |  0.13393122     |  0.03094155     |  0.07584708     |  0.02380026     |  0.16876260     |  0.15166472     |  0.14329850     |  0.21183219     |  0.002961015    | \n",
       "| Endothelial     | 0.15780636      | 0.1632387       | 0.2085353       |  0.01686532     | 0.03234967      |  0.05249416     | -0.08634282     |  0.001588116    | -0.04508628     | ⋯               |  0.03781560     |  0.16182852     |  0.08495025     |  0.09548239     | -0.07743838     |  0.13262528     |  0.16642132     |  0.09170046     |  0.11939875     | -0.119858918    | \n",
       "| Eosinophils     | 0.20082325      | 0.1976900       | 0.2719497       | -0.02236162     | 0.08303401      |  0.07901006     | -0.05555490     | -0.011277352    | -0.04878391     | ⋯               |  0.02971066     |  0.08064865     | -0.04818705     |  0.13406243     |  0.03213819     |  0.16638669     |  0.15893988     |  0.20794872     |  0.20548346     | -0.054183279    | \n",
       "| Fibroblasts     | 0.13261514      | 0.2166350       | 0.2155019       |  0.01534575     | 0.09724308      |  0.16575105     |  0.02957739     |  0.003008653    |  0.10290596     | ⋯               |  0.32002944     |  0.50893683     |  0.50814238     |  0.28581643     |  0.15155832     |  0.26258405     |  0.25894289     |  0.24088605     |  0.19288074     |  0.098543741    | \n",
       "\n",
       "\n"
      ],
      "text/plain": [
       "  Term            A01        A02       A03       A04         A05       \n",
       "1 B_cells         0.03847931 0.1549990 0.1315862  0.08862296 0.03877229\n",
       "2 Cytotoxic_cells 0.21014819 0.1875674 0.1536875 -0.14416349 0.00385764\n",
       "3 Dendritic_cells 0.18909641 0.2267871 0.2752798  0.04431845 0.09400068\n",
       "4 Endothelial     0.15780636 0.1632387 0.2085353  0.01686532 0.03234967\n",
       "5 Eosinophils     0.20082325 0.1976900 0.2719497 -0.02236162 0.08303401\n",
       "6 Fibroblasts     0.13261514 0.2166350 0.2155019  0.01534575 0.09724308\n",
       "  A06         A07         A08          A09         ⋯ C06         C07        \n",
       "1 -0.01751238 -0.04707827 -0.086647414 -0.19937432 ⋯  0.01250423  0.11489017\n",
       "2 -0.15517350 -0.29025097 -0.170453505 -0.41685911 ⋯ -0.34590063 -0.25087812\n",
       "3  0.09265174 -0.01060890  0.014540237 -0.05380443 ⋯  0.02497896  0.13393122\n",
       "4  0.05249416 -0.08634282  0.001588116 -0.04508628 ⋯  0.03781560  0.16182852\n",
       "5  0.07901006 -0.05555490 -0.011277352 -0.04878391 ⋯  0.02971066  0.08064865\n",
       "6  0.16575105  0.02957739  0.003008653  0.10290596 ⋯  0.32002944  0.50893683\n",
       "  C08         C09         C10         C11         C12         D01        \n",
       "1 -0.03624780  0.01627768 -0.01288170  0.14474920  0.12045088  0.10452696\n",
       "2 -0.30483075 -0.22186809 -0.30561410 -0.00397126 -0.00266926 -0.07507192\n",
       "3  0.03094155  0.07584708  0.02380026  0.16876260  0.15166472  0.14329850\n",
       "4  0.08495025  0.09548239 -0.07743838  0.13262528  0.16642132  0.09170046\n",
       "5 -0.04818705  0.13406243  0.03213819  0.16638669  0.15893988  0.20794872\n",
       "6  0.50814238  0.28581643  0.15155832  0.26258405  0.25894289  0.24088605\n",
       "  D02         D03         \n",
       "1  0.08315162 -0.065880578\n",
       "2 -0.08618847 -0.243335223\n",
       "3  0.21183219  0.002961015\n",
       "4  0.11939875 -0.119858918\n",
       "5  0.20548346 -0.054183279\n",
       "6  0.19288074  0.098543741"
      ]
     },
     "metadata": {},
     "output_type": "display_data"
    }
   ],
   "source": [
    "head(con_NES)"
   ]
  },
  {
   "cell_type": "markdown",
   "metadata": {},
   "source": [
    "### Save NES"
   ]
  },
  {
   "cell_type": "code",
   "execution_count": 12,
   "metadata": {},
   "outputs": [],
   "source": [
    "write.table(con_NES,\n",
    "            file='../../Data/3/ConsensusTME_TreatmentNaive_NES.txt',\n",
    "            sep='\\t',\n",
    "            row.names=F,\n",
    "            col.names=T)"
   ]
  },
  {
   "cell_type": "markdown",
   "metadata": {},
   "source": [
    "# End script"
   ]
  }
 ],
 "metadata": {
  "kernelspec": {
   "display_name": "R",
   "language": "R",
   "name": "ir"
  },
  "language_info": {
   "codemirror_mode": "r",
   "file_extension": ".r",
   "mimetype": "text/x-r-source",
   "name": "R",
   "pygments_lexer": "r",
   "version": "3.5.0"
  }
 },
 "nbformat": 4,
 "nbformat_minor": 2
}

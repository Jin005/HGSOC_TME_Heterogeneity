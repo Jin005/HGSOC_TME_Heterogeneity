{
 "cells": [
  {
   "cell_type": "markdown",
   "metadata": {},
   "source": [
    "# Benchmark T cell estimate scores"
   ]
  },
  {
   "cell_type": "markdown",
   "metadata": {},
   "source": [
    "Script related to figure 3a\n",
    "\n",
    "### Aim:\n",
    "- Benchmark T cell estimate scores using immunofluorscent stainings from FFPE samples as a benchmark data set"
   ]
  },
  {
   "cell_type": "code",
   "execution_count": 16,
   "metadata": {},
   "outputs": [
    {
     "name": "stdout",
     "output_type": "stream",
     "text": [
      "Python 3.6.8 :: Anaconda custom (64-bit)\r\n"
     ]
    }
   ],
   "source": [
    "!python --version"
   ]
  },
  {
   "cell_type": "markdown",
   "metadata": {},
   "source": [
    "## Import packages"
   ]
  },
  {
   "cell_type": "code",
   "execution_count": 17,
   "metadata": {},
   "outputs": [],
   "source": [
    "import numpy as np\n",
    "import pandas as pd\n",
    "import seaborn as sns\n",
    "from scipy.stats import zscore\n",
    "import matplotlib.pyplot as plt\n",
    "from scipy.stats import kendalltau\n",
    "from statsmodels.stats.multitest import multipletests"
   ]
  },
  {
   "cell_type": "code",
   "execution_count": 20,
   "metadata": {},
   "outputs": [],
   "source": [
    "home = \"~/git_repos/HGSOC_TME_Heterogeneity/\""
   ]
  },
  {
   "cell_type": "markdown",
   "metadata": {},
   "source": [
    "## Load T cell fractions"
   ]
  },
  {
   "cell_type": "code",
   "execution_count": 21,
   "metadata": {},
   "outputs": [
    {
     "name": "stdout",
     "output_type": "stream",
     "text": [
      "../../Data/2/T_cell_counts_fractions.txt\r\n"
     ]
    }
   ],
   "source": [
    "ls ../../Data/2/T_cell_counts_fractions.txt"
   ]
  },
  {
   "cell_type": "code",
   "execution_count": 22,
   "metadata": {},
   "outputs": [],
   "source": [
    "file_Tcells = home + 'Data/2/T_cell_counts_fractions.txt'\n",
    "\n",
    "Tcell_counts = pd.read_csv(file_Tcells,\n",
    "                           sep='\\t',\n",
    "                           index_col='Well')"
   ]
  },
  {
   "cell_type": "code",
   "execution_count": 23,
   "metadata": {},
   "outputs": [
    {
     "data": {
      "text/html": [
       "<div>\n",
       "<style scoped>\n",
       "    .dataframe tbody tr th:only-of-type {\n",
       "        vertical-align: middle;\n",
       "    }\n",
       "\n",
       "    .dataframe tbody tr th {\n",
       "        vertical-align: top;\n",
       "    }\n",
       "\n",
       "    .dataframe thead th {\n",
       "        text-align: right;\n",
       "    }\n",
       "</style>\n",
       "<table border=\"1\" class=\"dataframe\">\n",
       "  <thead>\n",
       "    <tr style=\"text-align: right;\">\n",
       "      <th></th>\n",
       "      <th>Case</th>\n",
       "      <th>Label</th>\n",
       "      <th>Site</th>\n",
       "      <th>Habitat</th>\n",
       "      <th>IF_index_file</th>\n",
       "      <th>CD8</th>\n",
       "      <th>FoxP3</th>\n",
       "      <th>CD4FoxP3</th>\n",
       "      <th>CD4</th>\n",
       "      <th>Cell_counts</th>\n",
       "      <th>CD8_fraction</th>\n",
       "      <th>CD4_fraction</th>\n",
       "      <th>CD4FoxP3_fraction</th>\n",
       "    </tr>\n",
       "    <tr>\n",
       "      <th>Well</th>\n",
       "      <th></th>\n",
       "      <th></th>\n",
       "      <th></th>\n",
       "      <th></th>\n",
       "      <th></th>\n",
       "      <th></th>\n",
       "      <th></th>\n",
       "      <th></th>\n",
       "      <th></th>\n",
       "      <th></th>\n",
       "      <th></th>\n",
       "      <th></th>\n",
       "      <th></th>\n",
       "    </tr>\n",
       "  </thead>\n",
       "  <tbody>\n",
       "    <tr>\n",
       "      <th>A01</th>\n",
       "      <td>10</td>\n",
       "      <td>omentum green</td>\n",
       "      <td>omentum</td>\n",
       "      <td>green</td>\n",
       "      <td>23.0</td>\n",
       "      <td>5216.0</td>\n",
       "      <td>430.0</td>\n",
       "      <td>81.0</td>\n",
       "      <td>2340.0</td>\n",
       "      <td>41027.0</td>\n",
       "      <td>0.127136</td>\n",
       "      <td>0.055061</td>\n",
       "      <td>0.001974</td>\n",
       "    </tr>\n",
       "    <tr>\n",
       "      <th>A01</th>\n",
       "      <td>10</td>\n",
       "      <td>omentum green</td>\n",
       "      <td>omentum</td>\n",
       "      <td>green</td>\n",
       "      <td>24.0</td>\n",
       "      <td>4956.0</td>\n",
       "      <td>404.0</td>\n",
       "      <td>47.0</td>\n",
       "      <td>761.0</td>\n",
       "      <td>33929.0</td>\n",
       "      <td>0.146070</td>\n",
       "      <td>0.021044</td>\n",
       "      <td>0.001385</td>\n",
       "    </tr>\n",
       "    <tr>\n",
       "      <th>A01</th>\n",
       "      <td>10</td>\n",
       "      <td>omentum green</td>\n",
       "      <td>omentum</td>\n",
       "      <td>green</td>\n",
       "      <td>25.0</td>\n",
       "      <td>2485.0</td>\n",
       "      <td>197.0</td>\n",
       "      <td>58.0</td>\n",
       "      <td>1824.0</td>\n",
       "      <td>20667.0</td>\n",
       "      <td>0.120240</td>\n",
       "      <td>0.085450</td>\n",
       "      <td>0.002806</td>\n",
       "    </tr>\n",
       "    <tr>\n",
       "      <th>A01</th>\n",
       "      <td>10</td>\n",
       "      <td>omentum green</td>\n",
       "      <td>omentum</td>\n",
       "      <td>green</td>\n",
       "      <td>26.0</td>\n",
       "      <td>1826.0</td>\n",
       "      <td>195.0</td>\n",
       "      <td>52.0</td>\n",
       "      <td>680.0</td>\n",
       "      <td>11491.0</td>\n",
       "      <td>0.158907</td>\n",
       "      <td>0.054651</td>\n",
       "      <td>0.004525</td>\n",
       "    </tr>\n",
       "    <tr>\n",
       "      <th>A01</th>\n",
       "      <td>10</td>\n",
       "      <td>omentum green</td>\n",
       "      <td>omentum</td>\n",
       "      <td>green</td>\n",
       "      <td>27.0</td>\n",
       "      <td>1961.0</td>\n",
       "      <td>183.0</td>\n",
       "      <td>49.0</td>\n",
       "      <td>892.0</td>\n",
       "      <td>19348.0</td>\n",
       "      <td>0.101354</td>\n",
       "      <td>0.043570</td>\n",
       "      <td>0.002533</td>\n",
       "    </tr>\n",
       "  </tbody>\n",
       "</table>\n",
       "</div>"
      ],
      "text/plain": [
       "      Case          Label     Site Habitat  IF_index_file     CD8  FoxP3  \\\n",
       "Well                                                                       \n",
       "A01     10  omentum green  omentum   green           23.0  5216.0  430.0   \n",
       "A01     10  omentum green  omentum   green           24.0  4956.0  404.0   \n",
       "A01     10  omentum green  omentum   green           25.0  2485.0  197.0   \n",
       "A01     10  omentum green  omentum   green           26.0  1826.0  195.0   \n",
       "A01     10  omentum green  omentum   green           27.0  1961.0  183.0   \n",
       "\n",
       "      CD4FoxP3     CD4  Cell_counts  CD8_fraction  CD4_fraction  \\\n",
       "Well                                                              \n",
       "A01       81.0  2340.0      41027.0      0.127136      0.055061   \n",
       "A01       47.0   761.0      33929.0      0.146070      0.021044   \n",
       "A01       58.0  1824.0      20667.0      0.120240      0.085450   \n",
       "A01       52.0   680.0      11491.0      0.158907      0.054651   \n",
       "A01       49.0   892.0      19348.0      0.101354      0.043570   \n",
       "\n",
       "      CD4FoxP3_fraction  \n",
       "Well                     \n",
       "A01            0.001974  \n",
       "A01            0.001385  \n",
       "A01            0.002806  \n",
       "A01            0.004525  \n",
       "A01            0.002533  "
      ]
     },
     "execution_count": 23,
     "metadata": {},
     "output_type": "execute_result"
    }
   ],
   "source": [
    "Tcell_counts.head()"
   ]
  },
  {
   "cell_type": "markdown",
   "metadata": {},
   "source": [
    "## Load methods' T cell estimates"
   ]
  },
  {
   "cell_type": "markdown",
   "metadata": {},
   "source": [
    "### Bindea"
   ]
  },
  {
   "cell_type": "code",
   "execution_count": 24,
   "metadata": {},
   "outputs": [
    {
     "name": "stdout",
     "output_type": "stream",
     "text": [
      "../../Data/3/BindeaImmuneCells_TreatmentNaive_NES.txt\r\n"
     ]
    }
   ],
   "source": [
    "ls ../../Data/3/BindeaImmuneCells_TreatmentNaive_NES.txt"
   ]
  },
  {
   "cell_type": "code",
   "execution_count": 25,
   "metadata": {},
   "outputs": [],
   "source": [
    "bin_estimates = pd.read_csv('../../Data/3/BindeaImmuneCells_TreatmentNaive_NES.txt',\n",
    "                            sep='\\t',\n",
    "                            index_col='Term').T"
   ]
  },
  {
   "cell_type": "code",
   "execution_count": 26,
   "metadata": {},
   "outputs": [
    {
     "data": {
      "text/html": [
       "<div>\n",
       "<style scoped>\n",
       "    .dataframe tbody tr th:only-of-type {\n",
       "        vertical-align: middle;\n",
       "    }\n",
       "\n",
       "    .dataframe tbody tr th {\n",
       "        vertical-align: top;\n",
       "    }\n",
       "\n",
       "    .dataframe thead th {\n",
       "        text-align: right;\n",
       "    }\n",
       "</style>\n",
       "<table border=\"1\" class=\"dataframe\">\n",
       "  <thead>\n",
       "    <tr style=\"text-align: right;\">\n",
       "      <th>Term</th>\n",
       "      <th>activated_Dendritic_cells</th>\n",
       "      <th>B_cells</th>\n",
       "      <th>CD8_T_cells</th>\n",
       "      <th>Citotoxic_cells</th>\n",
       "      <th>Dendritic_cells</th>\n",
       "      <th>Eosinophils</th>\n",
       "      <th>immature_Dendritic_cells</th>\n",
       "      <th>Macrophages</th>\n",
       "      <th>Mast_cells</th>\n",
       "      <th>Neutrophils</th>\n",
       "      <th>...</th>\n",
       "      <th>T_central_memory_cells</th>\n",
       "      <th>T_effector_memory_cells</th>\n",
       "      <th>T_follicular_helper_cells</th>\n",
       "      <th>T_gamma_delta_cells</th>\n",
       "      <th>Th1_cells</th>\n",
       "      <th>Th17_cells</th>\n",
       "      <th>Th2_cells</th>\n",
       "      <th>Treg_cells</th>\n",
       "      <th>Angiogenesis</th>\n",
       "      <th>Antigen_presentation_machinery</th>\n",
       "    </tr>\n",
       "  </thead>\n",
       "  <tbody>\n",
       "    <tr>\n",
       "      <th>A01</th>\n",
       "      <td>-0.066755</td>\n",
       "      <td>-0.003080</td>\n",
       "      <td>0.095101</td>\n",
       "      <td>0.103809</td>\n",
       "      <td>-0.176476</td>\n",
       "      <td>-0.034222</td>\n",
       "      <td>0.033066</td>\n",
       "      <td>0.173286</td>\n",
       "      <td>-0.169287</td>\n",
       "      <td>-0.115161</td>\n",
       "      <td>...</td>\n",
       "      <td>0.220941</td>\n",
       "      <td>0.170772</td>\n",
       "      <td>0.020390</td>\n",
       "      <td>-0.196153</td>\n",
       "      <td>0.010330</td>\n",
       "      <td>-0.274938</td>\n",
       "      <td>0.105946</td>\n",
       "      <td>-0.281775</td>\n",
       "      <td>0.045868</td>\n",
       "      <td>0.320893</td>\n",
       "    </tr>\n",
       "    <tr>\n",
       "      <th>A02</th>\n",
       "      <td>0.097384</td>\n",
       "      <td>0.018624</td>\n",
       "      <td>0.099431</td>\n",
       "      <td>0.112686</td>\n",
       "      <td>-0.136052</td>\n",
       "      <td>0.007539</td>\n",
       "      <td>0.070141</td>\n",
       "      <td>0.208467</td>\n",
       "      <td>-0.181064</td>\n",
       "      <td>-0.114372</td>\n",
       "      <td>...</td>\n",
       "      <td>0.268895</td>\n",
       "      <td>0.144795</td>\n",
       "      <td>0.002610</td>\n",
       "      <td>-0.282197</td>\n",
       "      <td>0.018971</td>\n",
       "      <td>-0.205360</td>\n",
       "      <td>0.057963</td>\n",
       "      <td>-0.285308</td>\n",
       "      <td>0.025539</td>\n",
       "      <td>0.434731</td>\n",
       "    </tr>\n",
       "    <tr>\n",
       "      <th>A03</th>\n",
       "      <td>-0.072684</td>\n",
       "      <td>0.022716</td>\n",
       "      <td>0.094088</td>\n",
       "      <td>0.084148</td>\n",
       "      <td>-0.175692</td>\n",
       "      <td>-0.007610</td>\n",
       "      <td>0.098385</td>\n",
       "      <td>0.226473</td>\n",
       "      <td>-0.137479</td>\n",
       "      <td>-0.071694</td>\n",
       "      <td>...</td>\n",
       "      <td>0.230666</td>\n",
       "      <td>0.155337</td>\n",
       "      <td>0.022060</td>\n",
       "      <td>-0.322293</td>\n",
       "      <td>0.017047</td>\n",
       "      <td>-0.199423</td>\n",
       "      <td>0.098247</td>\n",
       "      <td>-0.377414</td>\n",
       "      <td>0.076452</td>\n",
       "      <td>0.312686</td>\n",
       "    </tr>\n",
       "    <tr>\n",
       "      <th>A04</th>\n",
       "      <td>0.084060</td>\n",
       "      <td>0.029516</td>\n",
       "      <td>0.074292</td>\n",
       "      <td>0.029771</td>\n",
       "      <td>-0.145138</td>\n",
       "      <td>0.022504</td>\n",
       "      <td>0.070774</td>\n",
       "      <td>0.157651</td>\n",
       "      <td>-0.183030</td>\n",
       "      <td>-0.150046</td>\n",
       "      <td>...</td>\n",
       "      <td>0.308700</td>\n",
       "      <td>0.153818</td>\n",
       "      <td>0.025942</td>\n",
       "      <td>-0.298855</td>\n",
       "      <td>0.051499</td>\n",
       "      <td>-0.064348</td>\n",
       "      <td>0.051628</td>\n",
       "      <td>-0.471797</td>\n",
       "      <td>-0.048372</td>\n",
       "      <td>0.407055</td>\n",
       "    </tr>\n",
       "    <tr>\n",
       "      <th>A05</th>\n",
       "      <td>-0.039156</td>\n",
       "      <td>-0.010552</td>\n",
       "      <td>0.093517</td>\n",
       "      <td>0.037928</td>\n",
       "      <td>-0.110276</td>\n",
       "      <td>-0.002670</td>\n",
       "      <td>0.044335</td>\n",
       "      <td>0.188873</td>\n",
       "      <td>-0.174625</td>\n",
       "      <td>-0.171121</td>\n",
       "      <td>...</td>\n",
       "      <td>0.262037</td>\n",
       "      <td>0.154022</td>\n",
       "      <td>0.019352</td>\n",
       "      <td>-0.303325</td>\n",
       "      <td>0.029933</td>\n",
       "      <td>-0.189297</td>\n",
       "      <td>0.075237</td>\n",
       "      <td>-0.197050</td>\n",
       "      <td>-0.007485</td>\n",
       "      <td>0.363683</td>\n",
       "    </tr>\n",
       "  </tbody>\n",
       "</table>\n",
       "<p>5 rows × 26 columns</p>\n",
       "</div>"
      ],
      "text/plain": [
       "Term  activated_Dendritic_cells   B_cells  CD8_T_cells  Citotoxic_cells  \\\n",
       "A01                   -0.066755 -0.003080     0.095101         0.103809   \n",
       "A02                    0.097384  0.018624     0.099431         0.112686   \n",
       "A03                   -0.072684  0.022716     0.094088         0.084148   \n",
       "A04                    0.084060  0.029516     0.074292         0.029771   \n",
       "A05                   -0.039156 -0.010552     0.093517         0.037928   \n",
       "\n",
       "Term  Dendritic_cells  Eosinophils  immature_Dendritic_cells  Macrophages  \\\n",
       "A01         -0.176476    -0.034222                  0.033066     0.173286   \n",
       "A02         -0.136052     0.007539                  0.070141     0.208467   \n",
       "A03         -0.175692    -0.007610                  0.098385     0.226473   \n",
       "A04         -0.145138     0.022504                  0.070774     0.157651   \n",
       "A05         -0.110276    -0.002670                  0.044335     0.188873   \n",
       "\n",
       "Term  Mast_cells  Neutrophils  ...  T_central_memory_cells  \\\n",
       "A01    -0.169287    -0.115161  ...                0.220941   \n",
       "A02    -0.181064    -0.114372  ...                0.268895   \n",
       "A03    -0.137479    -0.071694  ...                0.230666   \n",
       "A04    -0.183030    -0.150046  ...                0.308700   \n",
       "A05    -0.174625    -0.171121  ...                0.262037   \n",
       "\n",
       "Term  T_effector_memory_cells  T_follicular_helper_cells  T_gamma_delta_cells  \\\n",
       "A01                  0.170772                   0.020390            -0.196153   \n",
       "A02                  0.144795                   0.002610            -0.282197   \n",
       "A03                  0.155337                   0.022060            -0.322293   \n",
       "A04                  0.153818                   0.025942            -0.298855   \n",
       "A05                  0.154022                   0.019352            -0.303325   \n",
       "\n",
       "Term  Th1_cells  Th17_cells  Th2_cells  Treg_cells  Angiogenesis  \\\n",
       "A01    0.010330   -0.274938   0.105946   -0.281775      0.045868   \n",
       "A02    0.018971   -0.205360   0.057963   -0.285308      0.025539   \n",
       "A03    0.017047   -0.199423   0.098247   -0.377414      0.076452   \n",
       "A04    0.051499   -0.064348   0.051628   -0.471797     -0.048372   \n",
       "A05    0.029933   -0.189297   0.075237   -0.197050     -0.007485   \n",
       "\n",
       "Term  Antigen_presentation_machinery  \n",
       "A01                         0.320893  \n",
       "A02                         0.434731  \n",
       "A03                         0.312686  \n",
       "A04                         0.407055  \n",
       "A05                         0.363683  \n",
       "\n",
       "[5 rows x 26 columns]"
      ]
     },
     "execution_count": 26,
     "metadata": {},
     "output_type": "execute_result"
    }
   ],
   "source": [
    "bin_estimates.head()"
   ]
  },
  {
   "cell_type": "code",
   "execution_count": 27,
   "metadata": {},
   "outputs": [
    {
     "data": {
      "text/plain": [
       "array(['activated_Dendritic_cells', 'B_cells', 'CD8_T_cells',\n",
       "       'Citotoxic_cells', 'Dendritic_cells', 'Eosinophils',\n",
       "       'immature_Dendritic_cells', 'Macrophages', 'Mast_cells',\n",
       "       'Neutrophils', 'NK_CD56bright_cells', 'NK_CD56dim_cells',\n",
       "       'NK_cells', 'plasmacytoid_Dendritic_cells', 'T_cells',\n",
       "       'T_helper_cells', 'T_central_memory_cells',\n",
       "       'T_effector_memory_cells', 'T_follicular_helper_cells',\n",
       "       'T_gamma_delta_cells', 'Th1_cells', 'Th17_cells', 'Th2_cells',\n",
       "       'Treg_cells', 'Angiogenesis', 'Antigen_presentation_machinery'],\n",
       "      dtype=object)"
      ]
     },
     "execution_count": 27,
     "metadata": {},
     "output_type": "execute_result"
    }
   ],
   "source": [
    "bin_estimates.columns.values"
   ]
  },
  {
   "cell_type": "markdown",
   "metadata": {},
   "source": [
    "### Davoli"
   ]
  },
  {
   "cell_type": "code",
   "execution_count": 28,
   "metadata": {},
   "outputs": [
    {
     "name": "stdout",
     "output_type": "stream",
     "text": [
      "../../Data/3/DavoliImmuneCells_TreatmentNaive_NES.txt\r\n"
     ]
    }
   ],
   "source": [
    "ls ../../Data/3/DavoliImmuneCells_TreatmentNaive_NES.txt"
   ]
  },
  {
   "cell_type": "code",
   "execution_count": 29,
   "metadata": {},
   "outputs": [],
   "source": [
    "dav_estimates = pd.read_csv('../../Data/3/DavoliImmuneCells_TreatmentNaive_NES.txt',\n",
    "                            sep='\\t',\n",
    "                            index_col='Term').T"
   ]
  },
  {
   "cell_type": "code",
   "execution_count": 30,
   "metadata": {},
   "outputs": [
    {
     "data": {
      "text/html": [
       "<div>\n",
       "<style scoped>\n",
       "    .dataframe tbody tr th:only-of-type {\n",
       "        vertical-align: middle;\n",
       "    }\n",
       "\n",
       "    .dataframe tbody tr th {\n",
       "        vertical-align: top;\n",
       "    }\n",
       "\n",
       "    .dataframe thead th {\n",
       "        text-align: right;\n",
       "    }\n",
       "</style>\n",
       "<table border=\"1\" class=\"dataframe\">\n",
       "  <thead>\n",
       "    <tr style=\"text-align: right;\">\n",
       "      <th>Term</th>\n",
       "      <th>CD4_mature</th>\n",
       "      <th>CD8_effector</th>\n",
       "      <th>NK_cells</th>\n",
       "      <th>B_cells</th>\n",
       "      <th>T_regs</th>\n",
       "      <th>Dendritics</th>\n",
       "      <th>CD8_effector_NK_cells</th>\n",
       "      <th>Macrophages</th>\n",
       "      <th>Macrophages_M2</th>\n",
       "      <th>Macrophages_M1</th>\n",
       "    </tr>\n",
       "  </thead>\n",
       "  <tbody>\n",
       "    <tr>\n",
       "      <th>A01</th>\n",
       "      <td>0.031713</td>\n",
       "      <td>0.057870</td>\n",
       "      <td>0.071188</td>\n",
       "      <td>0.269105</td>\n",
       "      <td>-0.408595</td>\n",
       "      <td>0.277611</td>\n",
       "      <td>-0.094438</td>\n",
       "      <td>0.050810</td>\n",
       "      <td>-0.097125</td>\n",
       "      <td>0.135013</td>\n",
       "    </tr>\n",
       "    <tr>\n",
       "      <th>A02</th>\n",
       "      <td>0.085348</td>\n",
       "      <td>0.327791</td>\n",
       "      <td>0.033066</td>\n",
       "      <td>0.247262</td>\n",
       "      <td>-0.250671</td>\n",
       "      <td>0.328886</td>\n",
       "      <td>-0.007935</td>\n",
       "      <td>0.307424</td>\n",
       "      <td>0.059936</td>\n",
       "      <td>0.352826</td>\n",
       "    </tr>\n",
       "    <tr>\n",
       "      <th>A03</th>\n",
       "      <td>0.059252</td>\n",
       "      <td>0.166517</td>\n",
       "      <td>0.024730</td>\n",
       "      <td>0.380669</td>\n",
       "      <td>-0.431835</td>\n",
       "      <td>0.395925</td>\n",
       "      <td>-0.073720</td>\n",
       "      <td>0.195761</td>\n",
       "      <td>0.037653</td>\n",
       "      <td>0.250368</td>\n",
       "    </tr>\n",
       "    <tr>\n",
       "      <th>A04</th>\n",
       "      <td>-0.184143</td>\n",
       "      <td>-0.183259</td>\n",
       "      <td>-0.144077</td>\n",
       "      <td>0.218910</td>\n",
       "      <td>-0.321068</td>\n",
       "      <td>0.324538</td>\n",
       "      <td>-0.263503</td>\n",
       "      <td>0.212472</td>\n",
       "      <td>0.046741</td>\n",
       "      <td>0.181477</td>\n",
       "    </tr>\n",
       "    <tr>\n",
       "      <th>A05</th>\n",
       "      <td>-0.083855</td>\n",
       "      <td>-0.118332</td>\n",
       "      <td>-0.093498</td>\n",
       "      <td>0.282003</td>\n",
       "      <td>-0.276252</td>\n",
       "      <td>0.282974</td>\n",
       "      <td>-0.253704</td>\n",
       "      <td>0.174884</td>\n",
       "      <td>-0.001540</td>\n",
       "      <td>0.174226</td>\n",
       "    </tr>\n",
       "  </tbody>\n",
       "</table>\n",
       "</div>"
      ],
      "text/plain": [
       "Term  CD4_mature  CD8_effector  NK_cells   B_cells    T_regs  Dendritics  \\\n",
       "A01     0.031713      0.057870  0.071188  0.269105 -0.408595    0.277611   \n",
       "A02     0.085348      0.327791  0.033066  0.247262 -0.250671    0.328886   \n",
       "A03     0.059252      0.166517  0.024730  0.380669 -0.431835    0.395925   \n",
       "A04    -0.184143     -0.183259 -0.144077  0.218910 -0.321068    0.324538   \n",
       "A05    -0.083855     -0.118332 -0.093498  0.282003 -0.276252    0.282974   \n",
       "\n",
       "Term  CD8_effector_NK_cells  Macrophages  Macrophages_M2  Macrophages_M1  \n",
       "A01               -0.094438     0.050810       -0.097125        0.135013  \n",
       "A02               -0.007935     0.307424        0.059936        0.352826  \n",
       "A03               -0.073720     0.195761        0.037653        0.250368  \n",
       "A04               -0.263503     0.212472        0.046741        0.181477  \n",
       "A05               -0.253704     0.174884       -0.001540        0.174226  "
      ]
     },
     "execution_count": 30,
     "metadata": {},
     "output_type": "execute_result"
    }
   ],
   "source": [
    "dav_estimates.head()"
   ]
  },
  {
   "cell_type": "markdown",
   "metadata": {},
   "source": [
    "### Danaher"
   ]
  },
  {
   "cell_type": "code",
   "execution_count": 31,
   "metadata": {},
   "outputs": [
    {
     "name": "stdout",
     "output_type": "stream",
     "text": [
      "../../Data/3/DanaherImmuneCells_TreatmentNaive_NES.txt\r\n"
     ]
    }
   ],
   "source": [
    "ls ../../Data/3/DanaherImmuneCells_TreatmentNaive_NES.txt"
   ]
  },
  {
   "cell_type": "code",
   "execution_count": 32,
   "metadata": {},
   "outputs": [],
   "source": [
    "dan_estimates = pd.read_csv('../../Data/3/DanaherImmuneCells_TreatmentNaive_NES.txt',\n",
    "                            sep='\\t',\n",
    "                            index_col='Term').T"
   ]
  },
  {
   "cell_type": "code",
   "execution_count": 33,
   "metadata": {},
   "outputs": [
    {
     "data": {
      "text/html": [
       "<div>\n",
       "<style scoped>\n",
       "    .dataframe tbody tr th:only-of-type {\n",
       "        vertical-align: middle;\n",
       "    }\n",
       "\n",
       "    .dataframe tbody tr th {\n",
       "        vertical-align: top;\n",
       "    }\n",
       "\n",
       "    .dataframe thead th {\n",
       "        text-align: right;\n",
       "    }\n",
       "</style>\n",
       "<table border=\"1\" class=\"dataframe\">\n",
       "  <thead>\n",
       "    <tr style=\"text-align: right;\">\n",
       "      <th>Term</th>\n",
       "      <th>B.cells</th>\n",
       "      <th>CD45</th>\n",
       "      <th>CD8.T.cells</th>\n",
       "      <th>Cytotoxic.cells</th>\n",
       "      <th>DC</th>\n",
       "      <th>Exhausted.CD8</th>\n",
       "      <th>Macrophages</th>\n",
       "      <th>Mast.cells</th>\n",
       "      <th>Neutrophils</th>\n",
       "      <th>NK.CD56dim.cells</th>\n",
       "      <th>NK.cells</th>\n",
       "      <th>T.cells</th>\n",
       "      <th>Th1.cells</th>\n",
       "      <th>Treg</th>\n",
       "    </tr>\n",
       "  </thead>\n",
       "  <tbody>\n",
       "    <tr>\n",
       "      <th>A01</th>\n",
       "      <td>-0.218103</td>\n",
       "      <td>0.495984</td>\n",
       "      <td>-0.442538</td>\n",
       "      <td>0.059474</td>\n",
       "      <td>-0.100557</td>\n",
       "      <td>-0.116216</td>\n",
       "      <td>0.136324</td>\n",
       "      <td>-0.310781</td>\n",
       "      <td>-0.094225</td>\n",
       "      <td>-0.335844</td>\n",
       "      <td>-0.144626</td>\n",
       "      <td>0.028620</td>\n",
       "      <td>-0.441481</td>\n",
       "      <td>-0.246328</td>\n",
       "    </tr>\n",
       "    <tr>\n",
       "      <th>A02</th>\n",
       "      <td>-0.253355</td>\n",
       "      <td>0.490699</td>\n",
       "      <td>-0.336356</td>\n",
       "      <td>0.051655</td>\n",
       "      <td>-0.053349</td>\n",
       "      <td>-0.107627</td>\n",
       "      <td>0.268013</td>\n",
       "      <td>-0.288674</td>\n",
       "      <td>-0.138786</td>\n",
       "      <td>-0.412935</td>\n",
       "      <td>-0.183767</td>\n",
       "      <td>0.169190</td>\n",
       "      <td>-0.451091</td>\n",
       "      <td>-0.249417</td>\n",
       "    </tr>\n",
       "    <tr>\n",
       "      <th>A03</th>\n",
       "      <td>-0.253297</td>\n",
       "      <td>0.490699</td>\n",
       "      <td>-0.458109</td>\n",
       "      <td>0.037714</td>\n",
       "      <td>-0.114702</td>\n",
       "      <td>-0.100590</td>\n",
       "      <td>0.293607</td>\n",
       "      <td>-0.206061</td>\n",
       "      <td>-0.047718</td>\n",
       "      <td>-0.262218</td>\n",
       "      <td>-0.190375</td>\n",
       "      <td>0.096373</td>\n",
       "      <td>-0.481089</td>\n",
       "      <td>-0.329935</td>\n",
       "    </tr>\n",
       "    <tr>\n",
       "      <th>A04</th>\n",
       "      <td>-0.275943</td>\n",
       "      <td>0.373867</td>\n",
       "      <td>-0.428232</td>\n",
       "      <td>-0.097354</td>\n",
       "      <td>-0.106831</td>\n",
       "      <td>-0.160159</td>\n",
       "      <td>0.147951</td>\n",
       "      <td>-0.302122</td>\n",
       "      <td>-0.217232</td>\n",
       "      <td>-0.339700</td>\n",
       "      <td>-0.129709</td>\n",
       "      <td>-0.144655</td>\n",
       "      <td>-0.494680</td>\n",
       "      <td>-0.412445</td>\n",
       "    </tr>\n",
       "    <tr>\n",
       "      <th>A05</th>\n",
       "      <td>-0.278793</td>\n",
       "      <td>0.453563</td>\n",
       "      <td>-0.372922</td>\n",
       "      <td>-0.027970</td>\n",
       "      <td>0.006505</td>\n",
       "      <td>-0.113307</td>\n",
       "      <td>0.176414</td>\n",
       "      <td>-0.298843</td>\n",
       "      <td>-0.177172</td>\n",
       "      <td>-0.231478</td>\n",
       "      <td>-0.143417</td>\n",
       "      <td>-0.083256</td>\n",
       "      <td>-0.490012</td>\n",
       "      <td>-0.172261</td>\n",
       "    </tr>\n",
       "  </tbody>\n",
       "</table>\n",
       "</div>"
      ],
      "text/plain": [
       "Term   B.cells      CD45  CD8.T.cells  Cytotoxic.cells        DC  \\\n",
       "A01  -0.218103  0.495984    -0.442538         0.059474 -0.100557   \n",
       "A02  -0.253355  0.490699    -0.336356         0.051655 -0.053349   \n",
       "A03  -0.253297  0.490699    -0.458109         0.037714 -0.114702   \n",
       "A04  -0.275943  0.373867    -0.428232        -0.097354 -0.106831   \n",
       "A05  -0.278793  0.453563    -0.372922        -0.027970  0.006505   \n",
       "\n",
       "Term  Exhausted.CD8  Macrophages  Mast.cells  Neutrophils  NK.CD56dim.cells  \\\n",
       "A01       -0.116216     0.136324   -0.310781    -0.094225         -0.335844   \n",
       "A02       -0.107627     0.268013   -0.288674    -0.138786         -0.412935   \n",
       "A03       -0.100590     0.293607   -0.206061    -0.047718         -0.262218   \n",
       "A04       -0.160159     0.147951   -0.302122    -0.217232         -0.339700   \n",
       "A05       -0.113307     0.176414   -0.298843    -0.177172         -0.231478   \n",
       "\n",
       "Term  NK.cells   T.cells  Th1.cells      Treg  \n",
       "A01  -0.144626  0.028620  -0.441481 -0.246328  \n",
       "A02  -0.183767  0.169190  -0.451091 -0.249417  \n",
       "A03  -0.190375  0.096373  -0.481089 -0.329935  \n",
       "A04  -0.129709 -0.144655  -0.494680 -0.412445  \n",
       "A05  -0.143417 -0.083256  -0.490012 -0.172261  "
      ]
     },
     "execution_count": 33,
     "metadata": {},
     "output_type": "execute_result"
    }
   ],
   "source": [
    "dan_estimates.head()"
   ]
  },
  {
   "cell_type": "markdown",
   "metadata": {},
   "source": [
    "### MCP counter"
   ]
  },
  {
   "cell_type": "code",
   "execution_count": 34,
   "metadata": {},
   "outputs": [
    {
     "name": "stdout",
     "output_type": "stream",
     "text": [
      "../../Data/3/MCPcounterImmuneCells_TreatmentNaive_Results.txt\r\n"
     ]
    }
   ],
   "source": [
    "ls ../../Data/3/MCPcounterImmuneCells_TreatmentNaive_Results.txt"
   ]
  },
  {
   "cell_type": "code",
   "execution_count": 35,
   "metadata": {},
   "outputs": [],
   "source": [
    "mcp_estimates = pd.read_csv('../../Data/3/MCPcounterImmuneCells_TreatmentNaive_Results.txt',\n",
    "                            sep='\\t',\n",
    "                            index_col='Term').T"
   ]
  },
  {
   "cell_type": "code",
   "execution_count": 36,
   "metadata": {},
   "outputs": [
    {
     "data": {
      "text/html": [
       "<div>\n",
       "<style scoped>\n",
       "    .dataframe tbody tr th:only-of-type {\n",
       "        vertical-align: middle;\n",
       "    }\n",
       "\n",
       "    .dataframe tbody tr th {\n",
       "        vertical-align: top;\n",
       "    }\n",
       "\n",
       "    .dataframe thead th {\n",
       "        text-align: right;\n",
       "    }\n",
       "</style>\n",
       "<table border=\"1\" class=\"dataframe\">\n",
       "  <thead>\n",
       "    <tr style=\"text-align: right;\">\n",
       "      <th>Term</th>\n",
       "      <th>T cells</th>\n",
       "      <th>CD8 T cells</th>\n",
       "      <th>Cytotoxic lymphocytes</th>\n",
       "      <th>NK cells</th>\n",
       "      <th>B lineage</th>\n",
       "      <th>Monocytic lineage</th>\n",
       "      <th>Myeloid dendritic cells</th>\n",
       "      <th>Neutrophils</th>\n",
       "      <th>Endothelial cells</th>\n",
       "      <th>Fibroblasts</th>\n",
       "    </tr>\n",
       "  </thead>\n",
       "  <tbody>\n",
       "    <tr>\n",
       "      <th>A01</th>\n",
       "      <td>4.528487</td>\n",
       "      <td>3.362125</td>\n",
       "      <td>4.839624</td>\n",
       "      <td>4.044117</td>\n",
       "      <td>6.192896</td>\n",
       "      <td>5.626397</td>\n",
       "      <td>4.664111</td>\n",
       "      <td>5.290259</td>\n",
       "      <td>5.056271</td>\n",
       "      <td>9.317519</td>\n",
       "    </tr>\n",
       "    <tr>\n",
       "      <th>A02</th>\n",
       "      <td>5.207708</td>\n",
       "      <td>3.340149</td>\n",
       "      <td>4.830298</td>\n",
       "      <td>4.034815</td>\n",
       "      <td>6.174202</td>\n",
       "      <td>6.374711</td>\n",
       "      <td>4.723943</td>\n",
       "      <td>5.321202</td>\n",
       "      <td>4.931474</td>\n",
       "      <td>9.392827</td>\n",
       "    </tr>\n",
       "    <tr>\n",
       "      <th>A03</th>\n",
       "      <td>4.683623</td>\n",
       "      <td>3.170813</td>\n",
       "      <td>4.607910</td>\n",
       "      <td>4.192092</td>\n",
       "      <td>6.383181</td>\n",
       "      <td>6.394080</td>\n",
       "      <td>4.835921</td>\n",
       "      <td>5.413047</td>\n",
       "      <td>5.308636</td>\n",
       "      <td>9.563665</td>\n",
       "    </tr>\n",
       "    <tr>\n",
       "      <th>A04</th>\n",
       "      <td>4.609657</td>\n",
       "      <td>3.210788</td>\n",
       "      <td>4.295373</td>\n",
       "      <td>4.004696</td>\n",
       "      <td>5.801224</td>\n",
       "      <td>5.295973</td>\n",
       "      <td>4.551980</td>\n",
       "      <td>5.036501</td>\n",
       "      <td>4.760726</td>\n",
       "      <td>8.808253</td>\n",
       "    </tr>\n",
       "    <tr>\n",
       "      <th>A05</th>\n",
       "      <td>4.414914</td>\n",
       "      <td>3.267672</td>\n",
       "      <td>4.642049</td>\n",
       "      <td>4.145191</td>\n",
       "      <td>5.881343</td>\n",
       "      <td>5.899579</td>\n",
       "      <td>4.395316</td>\n",
       "      <td>4.950237</td>\n",
       "      <td>4.899817</td>\n",
       "      <td>8.272105</td>\n",
       "    </tr>\n",
       "  </tbody>\n",
       "</table>\n",
       "</div>"
      ],
      "text/plain": [
       "Term   T cells  CD8 T cells  Cytotoxic lymphocytes  NK cells  B lineage  \\\n",
       "A01   4.528487     3.362125               4.839624  4.044117   6.192896   \n",
       "A02   5.207708     3.340149               4.830298  4.034815   6.174202   \n",
       "A03   4.683623     3.170813               4.607910  4.192092   6.383181   \n",
       "A04   4.609657     3.210788               4.295373  4.004696   5.801224   \n",
       "A05   4.414914     3.267672               4.642049  4.145191   5.881343   \n",
       "\n",
       "Term  Monocytic lineage  Myeloid dendritic cells  Neutrophils  \\\n",
       "A01            5.626397                 4.664111     5.290259   \n",
       "A02            6.374711                 4.723943     5.321202   \n",
       "A03            6.394080                 4.835921     5.413047   \n",
       "A04            5.295973                 4.551980     5.036501   \n",
       "A05            5.899579                 4.395316     4.950237   \n",
       "\n",
       "Term  Endothelial cells  Fibroblasts  \n",
       "A01            5.056271     9.317519  \n",
       "A02            4.931474     9.392827  \n",
       "A03            5.308636     9.563665  \n",
       "A04            4.760726     8.808253  \n",
       "A05            4.899817     8.272105  "
      ]
     },
     "execution_count": 36,
     "metadata": {},
     "output_type": "execute_result"
    }
   ],
   "source": [
    "mcp_estimates.head()"
   ]
  },
  {
   "cell_type": "markdown",
   "metadata": {},
   "source": [
    "### CIBERSORT absolute"
   ]
  },
  {
   "cell_type": "code",
   "execution_count": 37,
   "metadata": {},
   "outputs": [
    {
     "name": "stdout",
     "output_type": "stream",
     "text": [
      "../../Data/3/CIBERSORT_absolute_TreatmentNaive_Results.txt\r\n"
     ]
    }
   ],
   "source": [
    "ls ../../Data/3/CIBERSORT_absolute_TreatmentNaive_Results.txt"
   ]
  },
  {
   "cell_type": "code",
   "execution_count": 38,
   "metadata": {},
   "outputs": [],
   "source": [
    "cib_abs_results = pd.read_csv('../../Data/3/CIBERSORT_absolute_TreatmentNaive_Results.txt',\n",
    "                              sep='\\t',\n",
    "                              index_col='Mixture')"
   ]
  },
  {
   "cell_type": "code",
   "execution_count": 39,
   "metadata": {},
   "outputs": [
    {
     "data": {
      "text/html": [
       "<div>\n",
       "<style scoped>\n",
       "    .dataframe tbody tr th:only-of-type {\n",
       "        vertical-align: middle;\n",
       "    }\n",
       "\n",
       "    .dataframe tbody tr th {\n",
       "        vertical-align: top;\n",
       "    }\n",
       "\n",
       "    .dataframe thead th {\n",
       "        text-align: right;\n",
       "    }\n",
       "</style>\n",
       "<table border=\"1\" class=\"dataframe\">\n",
       "  <thead>\n",
       "    <tr style=\"text-align: right;\">\n",
       "      <th></th>\n",
       "      <th>B cells naive</th>\n",
       "      <th>B cells memory</th>\n",
       "      <th>Plasma cells</th>\n",
       "      <th>T cells CD8</th>\n",
       "      <th>T cells CD4 naive</th>\n",
       "      <th>T cells CD4 memory resting</th>\n",
       "      <th>T cells CD4 memory activated</th>\n",
       "      <th>T cells follicular helper</th>\n",
       "      <th>T cells regulatory (Tregs)</th>\n",
       "      <th>T cells gamma delta</th>\n",
       "      <th>...</th>\n",
       "      <th>Dendritic cells resting</th>\n",
       "      <th>Dendritic cells activated</th>\n",
       "      <th>Mast cells resting</th>\n",
       "      <th>Mast cells activated</th>\n",
       "      <th>Eosinophils</th>\n",
       "      <th>Neutrophils</th>\n",
       "      <th>P-value</th>\n",
       "      <th>Correlation</th>\n",
       "      <th>RMSE</th>\n",
       "      <th>Absolute score (sig.score)</th>\n",
       "    </tr>\n",
       "    <tr>\n",
       "      <th>Mixture</th>\n",
       "      <th></th>\n",
       "      <th></th>\n",
       "      <th></th>\n",
       "      <th></th>\n",
       "      <th></th>\n",
       "      <th></th>\n",
       "      <th></th>\n",
       "      <th></th>\n",
       "      <th></th>\n",
       "      <th></th>\n",
       "      <th></th>\n",
       "      <th></th>\n",
       "      <th></th>\n",
       "      <th></th>\n",
       "      <th></th>\n",
       "      <th></th>\n",
       "      <th></th>\n",
       "      <th></th>\n",
       "      <th></th>\n",
       "      <th></th>\n",
       "      <th></th>\n",
       "    </tr>\n",
       "  </thead>\n",
       "  <tbody>\n",
       "    <tr>\n",
       "      <th>A01</th>\n",
       "      <td>0.021557</td>\n",
       "      <td>0.000000</td>\n",
       "      <td>0.315502</td>\n",
       "      <td>0.0</td>\n",
       "      <td>0.000000</td>\n",
       "      <td>0.088324</td>\n",
       "      <td>0.033568</td>\n",
       "      <td>0.0</td>\n",
       "      <td>0.00000</td>\n",
       "      <td>0.027776</td>\n",
       "      <td>...</td>\n",
       "      <td>0.014450</td>\n",
       "      <td>0.000000</td>\n",
       "      <td>0.041463</td>\n",
       "      <td>0.0</td>\n",
       "      <td>0.019144</td>\n",
       "      <td>0.018094</td>\n",
       "      <td>0.0</td>\n",
       "      <td>0.742259</td>\n",
       "      <td>0.689899</td>\n",
       "      <td>0.663951</td>\n",
       "    </tr>\n",
       "    <tr>\n",
       "      <th>A02</th>\n",
       "      <td>0.000083</td>\n",
       "      <td>0.000000</td>\n",
       "      <td>0.241360</td>\n",
       "      <td>0.0</td>\n",
       "      <td>0.000000</td>\n",
       "      <td>0.116493</td>\n",
       "      <td>0.007963</td>\n",
       "      <td>0.0</td>\n",
       "      <td>0.00000</td>\n",
       "      <td>0.102854</td>\n",
       "      <td>...</td>\n",
       "      <td>0.002606</td>\n",
       "      <td>0.027973</td>\n",
       "      <td>0.038371</td>\n",
       "      <td>0.0</td>\n",
       "      <td>0.023381</td>\n",
       "      <td>0.007771</td>\n",
       "      <td>0.0</td>\n",
       "      <td>0.594326</td>\n",
       "      <td>0.807266</td>\n",
       "      <td>0.637033</td>\n",
       "    </tr>\n",
       "    <tr>\n",
       "      <th>A03</th>\n",
       "      <td>0.000000</td>\n",
       "      <td>0.000000</td>\n",
       "      <td>0.286786</td>\n",
       "      <td>0.0</td>\n",
       "      <td>0.000000</td>\n",
       "      <td>0.188860</td>\n",
       "      <td>0.028038</td>\n",
       "      <td>0.0</td>\n",
       "      <td>0.00000</td>\n",
       "      <td>0.040406</td>\n",
       "      <td>...</td>\n",
       "      <td>0.006859</td>\n",
       "      <td>0.000000</td>\n",
       "      <td>0.027099</td>\n",
       "      <td>0.0</td>\n",
       "      <td>0.004736</td>\n",
       "      <td>0.015791</td>\n",
       "      <td>0.0</td>\n",
       "      <td>0.685774</td>\n",
       "      <td>0.740759</td>\n",
       "      <td>0.650632</td>\n",
       "    </tr>\n",
       "    <tr>\n",
       "      <th>A04</th>\n",
       "      <td>0.000000</td>\n",
       "      <td>0.027127</td>\n",
       "      <td>0.292471</td>\n",
       "      <td>0.0</td>\n",
       "      <td>0.032608</td>\n",
       "      <td>0.052369</td>\n",
       "      <td>0.000000</td>\n",
       "      <td>0.0</td>\n",
       "      <td>0.00518</td>\n",
       "      <td>0.000000</td>\n",
       "      <td>...</td>\n",
       "      <td>0.000000</td>\n",
       "      <td>0.052431</td>\n",
       "      <td>0.019916</td>\n",
       "      <td>0.0</td>\n",
       "      <td>0.003215</td>\n",
       "      <td>0.005984</td>\n",
       "      <td>0.0</td>\n",
       "      <td>0.673854</td>\n",
       "      <td>0.742165</td>\n",
       "      <td>0.580156</td>\n",
       "    </tr>\n",
       "    <tr>\n",
       "      <th>A05</th>\n",
       "      <td>0.000000</td>\n",
       "      <td>0.017532</td>\n",
       "      <td>0.298348</td>\n",
       "      <td>0.0</td>\n",
       "      <td>0.013684</td>\n",
       "      <td>0.104442</td>\n",
       "      <td>0.032678</td>\n",
       "      <td>0.0</td>\n",
       "      <td>0.00000</td>\n",
       "      <td>0.000000</td>\n",
       "      <td>...</td>\n",
       "      <td>0.000000</td>\n",
       "      <td>0.003416</td>\n",
       "      <td>0.025481</td>\n",
       "      <td>0.0</td>\n",
       "      <td>0.014741</td>\n",
       "      <td>0.000000</td>\n",
       "      <td>0.0</td>\n",
       "      <td>0.761541</td>\n",
       "      <td>0.668641</td>\n",
       "      <td>0.592368</td>\n",
       "    </tr>\n",
       "  </tbody>\n",
       "</table>\n",
       "<p>5 rows × 26 columns</p>\n",
       "</div>"
      ],
      "text/plain": [
       "         B cells naive  B cells memory  Plasma cells  T cells CD8  \\\n",
       "Mixture                                                             \n",
       "A01           0.021557        0.000000      0.315502          0.0   \n",
       "A02           0.000083        0.000000      0.241360          0.0   \n",
       "A03           0.000000        0.000000      0.286786          0.0   \n",
       "A04           0.000000        0.027127      0.292471          0.0   \n",
       "A05           0.000000        0.017532      0.298348          0.0   \n",
       "\n",
       "         T cells CD4 naive  T cells CD4 memory resting  \\\n",
       "Mixture                                                  \n",
       "A01               0.000000                    0.088324   \n",
       "A02               0.000000                    0.116493   \n",
       "A03               0.000000                    0.188860   \n",
       "A04               0.032608                    0.052369   \n",
       "A05               0.013684                    0.104442   \n",
       "\n",
       "         T cells CD4 memory activated  T cells follicular helper  \\\n",
       "Mixture                                                            \n",
       "A01                          0.033568                        0.0   \n",
       "A02                          0.007963                        0.0   \n",
       "A03                          0.028038                        0.0   \n",
       "A04                          0.000000                        0.0   \n",
       "A05                          0.032678                        0.0   \n",
       "\n",
       "         T cells regulatory (Tregs)  T cells gamma delta  ...  \\\n",
       "Mixture                                                   ...   \n",
       "A01                         0.00000             0.027776  ...   \n",
       "A02                         0.00000             0.102854  ...   \n",
       "A03                         0.00000             0.040406  ...   \n",
       "A04                         0.00518             0.000000  ...   \n",
       "A05                         0.00000             0.000000  ...   \n",
       "\n",
       "         Dendritic cells resting  Dendritic cells activated  \\\n",
       "Mixture                                                       \n",
       "A01                     0.014450                   0.000000   \n",
       "A02                     0.002606                   0.027973   \n",
       "A03                     0.006859                   0.000000   \n",
       "A04                     0.000000                   0.052431   \n",
       "A05                     0.000000                   0.003416   \n",
       "\n",
       "         Mast cells resting  Mast cells activated  Eosinophils  Neutrophils  \\\n",
       "Mixture                                                                       \n",
       "A01                0.041463                   0.0     0.019144     0.018094   \n",
       "A02                0.038371                   0.0     0.023381     0.007771   \n",
       "A03                0.027099                   0.0     0.004736     0.015791   \n",
       "A04                0.019916                   0.0     0.003215     0.005984   \n",
       "A05                0.025481                   0.0     0.014741     0.000000   \n",
       "\n",
       "         P-value  Correlation      RMSE  Absolute score (sig.score)  \n",
       "Mixture                                                              \n",
       "A01          0.0     0.742259  0.689899                    0.663951  \n",
       "A02          0.0     0.594326  0.807266                    0.637033  \n",
       "A03          0.0     0.685774  0.740759                    0.650632  \n",
       "A04          0.0     0.673854  0.742165                    0.580156  \n",
       "A05          0.0     0.761541  0.668641                    0.592368  \n",
       "\n",
       "[5 rows x 26 columns]"
      ]
     },
     "execution_count": 39,
     "metadata": {},
     "output_type": "execute_result"
    }
   ],
   "source": [
    "cib_abs_results.head()"
   ]
  },
  {
   "cell_type": "markdown",
   "metadata": {},
   "source": [
    "### CIBERSORT relative"
   ]
  },
  {
   "cell_type": "code",
   "execution_count": 40,
   "metadata": {},
   "outputs": [
    {
     "name": "stdout",
     "output_type": "stream",
     "text": [
      "../../Data/3/CIBERSORT_relative_TreatmentNaive_Results.txt\r\n"
     ]
    }
   ],
   "source": [
    "ls ../../Data/3/CIBERSORT_relative_TreatmentNaive_Results.txt"
   ]
  },
  {
   "cell_type": "code",
   "execution_count": 41,
   "metadata": {},
   "outputs": [],
   "source": [
    "cib_rel_results = pd.read_csv('../../Data/3/CIBERSORT_relative_TreatmentNaive_Results.txt',\n",
    "                              sep='\\t',\n",
    "                              index_col='Mixture')"
   ]
  },
  {
   "cell_type": "code",
   "execution_count": 42,
   "metadata": {},
   "outputs": [
    {
     "data": {
      "text/html": [
       "<div>\n",
       "<style scoped>\n",
       "    .dataframe tbody tr th:only-of-type {\n",
       "        vertical-align: middle;\n",
       "    }\n",
       "\n",
       "    .dataframe tbody tr th {\n",
       "        vertical-align: top;\n",
       "    }\n",
       "\n",
       "    .dataframe thead th {\n",
       "        text-align: right;\n",
       "    }\n",
       "</style>\n",
       "<table border=\"1\" class=\"dataframe\">\n",
       "  <thead>\n",
       "    <tr style=\"text-align: right;\">\n",
       "      <th></th>\n",
       "      <th>B cells naive</th>\n",
       "      <th>B cells memory</th>\n",
       "      <th>Plasma cells</th>\n",
       "      <th>T cells CD8</th>\n",
       "      <th>T cells CD4 naive</th>\n",
       "      <th>T cells CD4 memory resting</th>\n",
       "      <th>T cells CD4 memory activated</th>\n",
       "      <th>T cells follicular helper</th>\n",
       "      <th>T cells regulatory (Tregs)</th>\n",
       "      <th>T cells gamma delta</th>\n",
       "      <th>...</th>\n",
       "      <th>Macrophages M2</th>\n",
       "      <th>Dendritic cells resting</th>\n",
       "      <th>Dendritic cells activated</th>\n",
       "      <th>Mast cells resting</th>\n",
       "      <th>Mast cells activated</th>\n",
       "      <th>Eosinophils</th>\n",
       "      <th>Neutrophils</th>\n",
       "      <th>P-value</th>\n",
       "      <th>Correlation</th>\n",
       "      <th>RMSE</th>\n",
       "    </tr>\n",
       "    <tr>\n",
       "      <th>Mixture</th>\n",
       "      <th></th>\n",
       "      <th></th>\n",
       "      <th></th>\n",
       "      <th></th>\n",
       "      <th></th>\n",
       "      <th></th>\n",
       "      <th></th>\n",
       "      <th></th>\n",
       "      <th></th>\n",
       "      <th></th>\n",
       "      <th></th>\n",
       "      <th></th>\n",
       "      <th></th>\n",
       "      <th></th>\n",
       "      <th></th>\n",
       "      <th></th>\n",
       "      <th></th>\n",
       "      <th></th>\n",
       "      <th></th>\n",
       "      <th></th>\n",
       "      <th></th>\n",
       "    </tr>\n",
       "  </thead>\n",
       "  <tbody>\n",
       "    <tr>\n",
       "      <th>A01</th>\n",
       "      <td>0.032468</td>\n",
       "      <td>0.000000</td>\n",
       "      <td>0.475189</td>\n",
       "      <td>0.0</td>\n",
       "      <td>0.000000</td>\n",
       "      <td>0.133028</td>\n",
       "      <td>0.050558</td>\n",
       "      <td>0.0</td>\n",
       "      <td>0.000000</td>\n",
       "      <td>0.041834</td>\n",
       "      <td>...</td>\n",
       "      <td>0.004301</td>\n",
       "      <td>0.021764</td>\n",
       "      <td>0.000000</td>\n",
       "      <td>0.062449</td>\n",
       "      <td>0.0</td>\n",
       "      <td>0.028833</td>\n",
       "      <td>0.027253</td>\n",
       "      <td>0.0</td>\n",
       "      <td>0.742259</td>\n",
       "      <td>0.689899</td>\n",
       "    </tr>\n",
       "    <tr>\n",
       "      <th>A02</th>\n",
       "      <td>0.000130</td>\n",
       "      <td>0.000000</td>\n",
       "      <td>0.378881</td>\n",
       "      <td>0.0</td>\n",
       "      <td>0.000000</td>\n",
       "      <td>0.182869</td>\n",
       "      <td>0.012499</td>\n",
       "      <td>0.0</td>\n",
       "      <td>0.000000</td>\n",
       "      <td>0.161458</td>\n",
       "      <td>...</td>\n",
       "      <td>0.007450</td>\n",
       "      <td>0.004091</td>\n",
       "      <td>0.043911</td>\n",
       "      <td>0.060234</td>\n",
       "      <td>0.0</td>\n",
       "      <td>0.036704</td>\n",
       "      <td>0.012199</td>\n",
       "      <td>0.0</td>\n",
       "      <td>0.594326</td>\n",
       "      <td>0.807266</td>\n",
       "    </tr>\n",
       "    <tr>\n",
       "      <th>A03</th>\n",
       "      <td>0.000000</td>\n",
       "      <td>0.000000</td>\n",
       "      <td>0.440781</td>\n",
       "      <td>0.0</td>\n",
       "      <td>0.000000</td>\n",
       "      <td>0.290271</td>\n",
       "      <td>0.043093</td>\n",
       "      <td>0.0</td>\n",
       "      <td>0.000000</td>\n",
       "      <td>0.062102</td>\n",
       "      <td>...</td>\n",
       "      <td>0.008338</td>\n",
       "      <td>0.010542</td>\n",
       "      <td>0.000000</td>\n",
       "      <td>0.041650</td>\n",
       "      <td>0.0</td>\n",
       "      <td>0.007278</td>\n",
       "      <td>0.024270</td>\n",
       "      <td>0.0</td>\n",
       "      <td>0.685774</td>\n",
       "      <td>0.740759</td>\n",
       "    </tr>\n",
       "    <tr>\n",
       "      <th>A04</th>\n",
       "      <td>0.000000</td>\n",
       "      <td>0.046759</td>\n",
       "      <td>0.504124</td>\n",
       "      <td>0.0</td>\n",
       "      <td>0.056206</td>\n",
       "      <td>0.090266</td>\n",
       "      <td>0.000000</td>\n",
       "      <td>0.0</td>\n",
       "      <td>0.008929</td>\n",
       "      <td>0.000000</td>\n",
       "      <td>...</td>\n",
       "      <td>0.064709</td>\n",
       "      <td>0.000000</td>\n",
       "      <td>0.090374</td>\n",
       "      <td>0.034329</td>\n",
       "      <td>0.0</td>\n",
       "      <td>0.005541</td>\n",
       "      <td>0.010315</td>\n",
       "      <td>0.0</td>\n",
       "      <td>0.673854</td>\n",
       "      <td>0.742165</td>\n",
       "    </tr>\n",
       "    <tr>\n",
       "      <th>A05</th>\n",
       "      <td>0.000000</td>\n",
       "      <td>0.029596</td>\n",
       "      <td>0.503654</td>\n",
       "      <td>0.0</td>\n",
       "      <td>0.023101</td>\n",
       "      <td>0.176313</td>\n",
       "      <td>0.055165</td>\n",
       "      <td>0.0</td>\n",
       "      <td>0.000000</td>\n",
       "      <td>0.000000</td>\n",
       "      <td>...</td>\n",
       "      <td>0.024411</td>\n",
       "      <td>0.000000</td>\n",
       "      <td>0.005766</td>\n",
       "      <td>0.043016</td>\n",
       "      <td>0.0</td>\n",
       "      <td>0.024886</td>\n",
       "      <td>0.000000</td>\n",
       "      <td>0.0</td>\n",
       "      <td>0.761541</td>\n",
       "      <td>0.668641</td>\n",
       "    </tr>\n",
       "  </tbody>\n",
       "</table>\n",
       "<p>5 rows × 25 columns</p>\n",
       "</div>"
      ],
      "text/plain": [
       "         B cells naive  B cells memory  Plasma cells  T cells CD8  \\\n",
       "Mixture                                                             \n",
       "A01           0.032468        0.000000      0.475189          0.0   \n",
       "A02           0.000130        0.000000      0.378881          0.0   \n",
       "A03           0.000000        0.000000      0.440781          0.0   \n",
       "A04           0.000000        0.046759      0.504124          0.0   \n",
       "A05           0.000000        0.029596      0.503654          0.0   \n",
       "\n",
       "         T cells CD4 naive  T cells CD4 memory resting  \\\n",
       "Mixture                                                  \n",
       "A01               0.000000                    0.133028   \n",
       "A02               0.000000                    0.182869   \n",
       "A03               0.000000                    0.290271   \n",
       "A04               0.056206                    0.090266   \n",
       "A05               0.023101                    0.176313   \n",
       "\n",
       "         T cells CD4 memory activated  T cells follicular helper  \\\n",
       "Mixture                                                            \n",
       "A01                          0.050558                        0.0   \n",
       "A02                          0.012499                        0.0   \n",
       "A03                          0.043093                        0.0   \n",
       "A04                          0.000000                        0.0   \n",
       "A05                          0.055165                        0.0   \n",
       "\n",
       "         T cells regulatory (Tregs)  T cells gamma delta  ...  Macrophages M2  \\\n",
       "Mixture                                                   ...                   \n",
       "A01                        0.000000             0.041834  ...        0.004301   \n",
       "A02                        0.000000             0.161458  ...        0.007450   \n",
       "A03                        0.000000             0.062102  ...        0.008338   \n",
       "A04                        0.008929             0.000000  ...        0.064709   \n",
       "A05                        0.000000             0.000000  ...        0.024411   \n",
       "\n",
       "         Dendritic cells resting  Dendritic cells activated  \\\n",
       "Mixture                                                       \n",
       "A01                     0.021764                   0.000000   \n",
       "A02                     0.004091                   0.043911   \n",
       "A03                     0.010542                   0.000000   \n",
       "A04                     0.000000                   0.090374   \n",
       "A05                     0.000000                   0.005766   \n",
       "\n",
       "         Mast cells resting  Mast cells activated  Eosinophils  Neutrophils  \\\n",
       "Mixture                                                                       \n",
       "A01                0.062449                   0.0     0.028833     0.027253   \n",
       "A02                0.060234                   0.0     0.036704     0.012199   \n",
       "A03                0.041650                   0.0     0.007278     0.024270   \n",
       "A04                0.034329                   0.0     0.005541     0.010315   \n",
       "A05                0.043016                   0.0     0.024886     0.000000   \n",
       "\n",
       "         P-value  Correlation      RMSE  \n",
       "Mixture                                  \n",
       "A01          0.0     0.742259  0.689899  \n",
       "A02          0.0     0.594326  0.807266  \n",
       "A03          0.0     0.685774  0.740759  \n",
       "A04          0.0     0.673854  0.742165  \n",
       "A05          0.0     0.761541  0.668641  \n",
       "\n",
       "[5 rows x 25 columns]"
      ]
     },
     "execution_count": 42,
     "metadata": {},
     "output_type": "execute_result"
    }
   ],
   "source": [
    "cib_rel_results.head()"
   ]
  },
  {
   "cell_type": "markdown",
   "metadata": {},
   "source": [
    "### xCELL"
   ]
  },
  {
   "cell_type": "code",
   "execution_count": 43,
   "metadata": {},
   "outputs": [
    {
     "name": "stdout",
     "output_type": "stream",
     "text": [
      "../../Data/3/xCell_TreatmentNaive_Results.txt\r\n"
     ]
    }
   ],
   "source": [
    "ls ../../Data/3/xCell_TreatmentNaive_Results.txt"
   ]
  },
  {
   "cell_type": "code",
   "execution_count": 44,
   "metadata": {},
   "outputs": [],
   "source": [
    "xcell_estimates = pd.read_csv('../../Data/3/xCell_TreatmentNaive_Results.txt',\n",
    "                              sep='\\t',\n",
    "                              index_col=0).T"
   ]
  },
  {
   "cell_type": "code",
   "execution_count": 45,
   "metadata": {},
   "outputs": [
    {
     "data": {
      "text/html": [
       "<div>\n",
       "<style scoped>\n",
       "    .dataframe tbody tr th:only-of-type {\n",
       "        vertical-align: middle;\n",
       "    }\n",
       "\n",
       "    .dataframe tbody tr th {\n",
       "        vertical-align: top;\n",
       "    }\n",
       "\n",
       "    .dataframe thead th {\n",
       "        text-align: right;\n",
       "    }\n",
       "</style>\n",
       "<table border=\"1\" class=\"dataframe\">\n",
       "  <thead>\n",
       "    <tr style=\"text-align: right;\">\n",
       "      <th></th>\n",
       "      <th>Adipocytes</th>\n",
       "      <th>Astrocytes</th>\n",
       "      <th>B-cells</th>\n",
       "      <th>Basophils</th>\n",
       "      <th>CD4+ T-cells</th>\n",
       "      <th>CD4+ Tcm</th>\n",
       "      <th>CD4+ Tem</th>\n",
       "      <th>CD4+ memory T-cells</th>\n",
       "      <th>CD4+ naive T-cells</th>\n",
       "      <th>CD8+ T-cells</th>\n",
       "      <th>...</th>\n",
       "      <th>cDC</th>\n",
       "      <th>iDC</th>\n",
       "      <th>ly Endothelial cells</th>\n",
       "      <th>mv Endothelial cells</th>\n",
       "      <th>naive B-cells</th>\n",
       "      <th>pDC</th>\n",
       "      <th>pro B-cells</th>\n",
       "      <th>ImmuneScore</th>\n",
       "      <th>StromaScore</th>\n",
       "      <th>MicroenvironmentScore</th>\n",
       "    </tr>\n",
       "  </thead>\n",
       "  <tbody>\n",
       "    <tr>\n",
       "      <th>A01</th>\n",
       "      <td>0.1906</td>\n",
       "      <td>0.0000</td>\n",
       "      <td>0.0000</td>\n",
       "      <td>0.0681</td>\n",
       "      <td>0.0926</td>\n",
       "      <td>0.0000</td>\n",
       "      <td>0.1002</td>\n",
       "      <td>0.1544</td>\n",
       "      <td>0.0267</td>\n",
       "      <td>0.0548</td>\n",
       "      <td>...</td>\n",
       "      <td>0.0689</td>\n",
       "      <td>0.0000</td>\n",
       "      <td>0.0702</td>\n",
       "      <td>0.0000</td>\n",
       "      <td>0.0000</td>\n",
       "      <td>0.0168</td>\n",
       "      <td>0.0128</td>\n",
       "      <td>0.4338</td>\n",
       "      <td>0.2100</td>\n",
       "      <td>0.6438</td>\n",
       "    </tr>\n",
       "    <tr>\n",
       "      <th>A02</th>\n",
       "      <td>0.2367</td>\n",
       "      <td>0.0000</td>\n",
       "      <td>0.0580</td>\n",
       "      <td>0.0000</td>\n",
       "      <td>0.2097</td>\n",
       "      <td>0.0584</td>\n",
       "      <td>0.1394</td>\n",
       "      <td>0.3051</td>\n",
       "      <td>0.0000</td>\n",
       "      <td>0.0687</td>\n",
       "      <td>...</td>\n",
       "      <td>0.0237</td>\n",
       "      <td>0.0006</td>\n",
       "      <td>0.0000</td>\n",
       "      <td>0.0000</td>\n",
       "      <td>0.0146</td>\n",
       "      <td>0.0650</td>\n",
       "      <td>0.0120</td>\n",
       "      <td>0.4595</td>\n",
       "      <td>0.1854</td>\n",
       "      <td>0.6449</td>\n",
       "    </tr>\n",
       "    <tr>\n",
       "      <th>A03</th>\n",
       "      <td>0.2781</td>\n",
       "      <td>0.0000</td>\n",
       "      <td>0.0555</td>\n",
       "      <td>0.0000</td>\n",
       "      <td>0.1427</td>\n",
       "      <td>0.0280</td>\n",
       "      <td>0.1078</td>\n",
       "      <td>0.1985</td>\n",
       "      <td>0.0000</td>\n",
       "      <td>0.0762</td>\n",
       "      <td>...</td>\n",
       "      <td>0.1065</td>\n",
       "      <td>0.0641</td>\n",
       "      <td>0.0790</td>\n",
       "      <td>0.0659</td>\n",
       "      <td>0.0000</td>\n",
       "      <td>0.0067</td>\n",
       "      <td>0.0597</td>\n",
       "      <td>0.5284</td>\n",
       "      <td>0.2632</td>\n",
       "      <td>0.7916</td>\n",
       "    </tr>\n",
       "    <tr>\n",
       "      <th>A04</th>\n",
       "      <td>0.0308</td>\n",
       "      <td>0.0068</td>\n",
       "      <td>0.0199</td>\n",
       "      <td>0.0500</td>\n",
       "      <td>0.1017</td>\n",
       "      <td>0.1867</td>\n",
       "      <td>0.0000</td>\n",
       "      <td>0.0400</td>\n",
       "      <td>0.0116</td>\n",
       "      <td>0.0000</td>\n",
       "      <td>...</td>\n",
       "      <td>0.0000</td>\n",
       "      <td>0.0000</td>\n",
       "      <td>0.0205</td>\n",
       "      <td>0.0329</td>\n",
       "      <td>0.0000</td>\n",
       "      <td>0.0000</td>\n",
       "      <td>0.0355</td>\n",
       "      <td>0.3285</td>\n",
       "      <td>0.0271</td>\n",
       "      <td>0.3556</td>\n",
       "    </tr>\n",
       "    <tr>\n",
       "      <th>A05</th>\n",
       "      <td>0.0350</td>\n",
       "      <td>0.0000</td>\n",
       "      <td>0.0336</td>\n",
       "      <td>0.0000</td>\n",
       "      <td>0.0987</td>\n",
       "      <td>0.0125</td>\n",
       "      <td>0.0430</td>\n",
       "      <td>0.1371</td>\n",
       "      <td>0.0000</td>\n",
       "      <td>0.0000</td>\n",
       "      <td>...</td>\n",
       "      <td>0.0146</td>\n",
       "      <td>0.0000</td>\n",
       "      <td>0.0328</td>\n",
       "      <td>0.0000</td>\n",
       "      <td>0.0000</td>\n",
       "      <td>0.0102</td>\n",
       "      <td>0.0348</td>\n",
       "      <td>0.3736</td>\n",
       "      <td>0.1007</td>\n",
       "      <td>0.4743</td>\n",
       "    </tr>\n",
       "  </tbody>\n",
       "</table>\n",
       "<p>5 rows × 67 columns</p>\n",
       "</div>"
      ],
      "text/plain": [
       "     Adipocytes  Astrocytes  B-cells  Basophils  CD4+ T-cells  CD4+ Tcm  \\\n",
       "A01      0.1906      0.0000   0.0000     0.0681        0.0926    0.0000   \n",
       "A02      0.2367      0.0000   0.0580     0.0000        0.2097    0.0584   \n",
       "A03      0.2781      0.0000   0.0555     0.0000        0.1427    0.0280   \n",
       "A04      0.0308      0.0068   0.0199     0.0500        0.1017    0.1867   \n",
       "A05      0.0350      0.0000   0.0336     0.0000        0.0987    0.0125   \n",
       "\n",
       "     CD4+ Tem  CD4+ memory T-cells  CD4+ naive T-cells  CD8+ T-cells  ...  \\\n",
       "A01    0.1002               0.1544              0.0267        0.0548  ...   \n",
       "A02    0.1394               0.3051              0.0000        0.0687  ...   \n",
       "A03    0.1078               0.1985              0.0000        0.0762  ...   \n",
       "A04    0.0000               0.0400              0.0116        0.0000  ...   \n",
       "A05    0.0430               0.1371              0.0000        0.0000  ...   \n",
       "\n",
       "        cDC     iDC  ly Endothelial cells  mv Endothelial cells  \\\n",
       "A01  0.0689  0.0000                0.0702                0.0000   \n",
       "A02  0.0237  0.0006                0.0000                0.0000   \n",
       "A03  0.1065  0.0641                0.0790                0.0659   \n",
       "A04  0.0000  0.0000                0.0205                0.0329   \n",
       "A05  0.0146  0.0000                0.0328                0.0000   \n",
       "\n",
       "     naive B-cells     pDC  pro B-cells  ImmuneScore  StromaScore  \\\n",
       "A01         0.0000  0.0168       0.0128       0.4338       0.2100   \n",
       "A02         0.0146  0.0650       0.0120       0.4595       0.1854   \n",
       "A03         0.0000  0.0067       0.0597       0.5284       0.2632   \n",
       "A04         0.0000  0.0000       0.0355       0.3285       0.0271   \n",
       "A05         0.0000  0.0102       0.0348       0.3736       0.1007   \n",
       "\n",
       "     MicroenvironmentScore  \n",
       "A01                 0.6438  \n",
       "A02                 0.6449  \n",
       "A03                 0.7916  \n",
       "A04                 0.3556  \n",
       "A05                 0.4743  \n",
       "\n",
       "[5 rows x 67 columns]"
      ]
     },
     "execution_count": 45,
     "metadata": {},
     "output_type": "execute_result"
    }
   ],
   "source": [
    "xcell_estimates.head()"
   ]
  },
  {
   "cell_type": "code",
   "execution_count": 46,
   "metadata": {},
   "outputs": [
    {
     "data": {
      "text/plain": [
       "array(['Adipocytes', 'Astrocytes', 'B-cells', 'Basophils', 'CD4+ T-cells',\n",
       "       'CD4+ Tcm', 'CD4+ Tem', 'CD4+ memory T-cells',\n",
       "       'CD4+ naive T-cells', 'CD8+ T-cells', 'CD8+ Tcm', 'CD8+ Tem',\n",
       "       'CD8+ naive T-cells', 'CLP', 'CMP', 'Chondrocytes',\n",
       "       'Class-switched memory B-cells', 'DC', 'Endothelial cells',\n",
       "       'Eosinophils', 'Epithelial cells', 'Erythrocytes', 'Fibroblasts',\n",
       "       'GMP', 'HSC', 'Hepatocytes', 'Keratinocytes', 'MEP', 'MPP', 'MSC',\n",
       "       'Macrophages', 'Macrophages M1', 'Macrophages M2', 'Mast cells',\n",
       "       'Megakaryocytes', 'Melanocytes', 'Memory B-cells',\n",
       "       'Mesangial cells', 'Monocytes', 'Myocytes', 'NK cells', 'NKT',\n",
       "       'Neurons', 'Neutrophils', 'Osteoblast', 'Pericytes',\n",
       "       'Plasma cells', 'Platelets', 'Preadipocytes', 'Sebocytes',\n",
       "       'Skeletal muscle', 'Smooth muscle', 'Tgd cells', 'Th1 cells',\n",
       "       'Th2 cells', 'Tregs', 'aDC', 'cDC', 'iDC', 'ly Endothelial cells',\n",
       "       'mv Endothelial cells', 'naive B-cells', 'pDC', 'pro B-cells',\n",
       "       'ImmuneScore', 'StromaScore', 'MicroenvironmentScore'],\n",
       "      dtype=object)"
      ]
     },
     "execution_count": 46,
     "metadata": {},
     "output_type": "execute_result"
    }
   ],
   "source": [
    "xcell_estimates.columns.values"
   ]
  },
  {
   "cell_type": "markdown",
   "metadata": {},
   "source": [
    "### TIMER"
   ]
  },
  {
   "cell_type": "code",
   "execution_count": 47,
   "metadata": {},
   "outputs": [
    {
     "name": "stdout",
     "output_type": "stream",
     "text": [
      "../../Data/3/TIMERImmuneCells_TxNaive_Results.csv\r\n"
     ]
    }
   ],
   "source": [
    "ls ../../Data/3/TIMERImmuneCells_TxNaive_Results.csv"
   ]
  },
  {
   "cell_type": "code",
   "execution_count": 48,
   "metadata": {},
   "outputs": [],
   "source": [
    "tim_estimates = pd.read_csv('../../Data/3/TIMERImmuneCells_TxNaive_Results.csv',\n",
    "                            sep=',',\n",
    "                            index_col='sampleID')"
   ]
  },
  {
   "cell_type": "code",
   "execution_count": 49,
   "metadata": {},
   "outputs": [
    {
     "data": {
      "text/html": [
       "<div>\n",
       "<style scoped>\n",
       "    .dataframe tbody tr th:only-of-type {\n",
       "        vertical-align: middle;\n",
       "    }\n",
       "\n",
       "    .dataframe tbody tr th {\n",
       "        vertical-align: top;\n",
       "    }\n",
       "\n",
       "    .dataframe thead th {\n",
       "        text-align: right;\n",
       "    }\n",
       "</style>\n",
       "<table border=\"1\" class=\"dataframe\">\n",
       "  <thead>\n",
       "    <tr style=\"text-align: right;\">\n",
       "      <th></th>\n",
       "      <th>B_cell</th>\n",
       "      <th>T_cell.CD4</th>\n",
       "      <th>T_cell.CD8</th>\n",
       "      <th>Neutrophil</th>\n",
       "      <th>Macrophage</th>\n",
       "      <th>DC</th>\n",
       "    </tr>\n",
       "    <tr>\n",
       "      <th>sampleID</th>\n",
       "      <th></th>\n",
       "      <th></th>\n",
       "      <th></th>\n",
       "      <th></th>\n",
       "      <th></th>\n",
       "      <th></th>\n",
       "    </tr>\n",
       "  </thead>\n",
       "  <tbody>\n",
       "    <tr>\n",
       "      <th>A01</th>\n",
       "      <td>0.092725</td>\n",
       "      <td>0.111783</td>\n",
       "      <td>0.232517</td>\n",
       "      <td>0.127759</td>\n",
       "      <td>0.070051</td>\n",
       "      <td>0.465537</td>\n",
       "    </tr>\n",
       "    <tr>\n",
       "      <th>A02</th>\n",
       "      <td>0.088487</td>\n",
       "      <td>0.119459</td>\n",
       "      <td>0.232331</td>\n",
       "      <td>0.126762</td>\n",
       "      <td>0.077563</td>\n",
       "      <td>0.466121</td>\n",
       "    </tr>\n",
       "    <tr>\n",
       "      <th>A03</th>\n",
       "      <td>0.094161</td>\n",
       "      <td>0.116386</td>\n",
       "      <td>0.230089</td>\n",
       "      <td>0.129606</td>\n",
       "      <td>0.080902</td>\n",
       "      <td>0.459321</td>\n",
       "    </tr>\n",
       "    <tr>\n",
       "      <th>A04</th>\n",
       "      <td>0.082317</td>\n",
       "      <td>0.124712</td>\n",
       "      <td>0.211901</td>\n",
       "      <td>0.123896</td>\n",
       "      <td>0.069127</td>\n",
       "      <td>0.467283</td>\n",
       "    </tr>\n",
       "    <tr>\n",
       "      <th>A05</th>\n",
       "      <td>0.091664</td>\n",
       "      <td>0.113799</td>\n",
       "      <td>0.220568</td>\n",
       "      <td>0.124662</td>\n",
       "      <td>0.077013</td>\n",
       "      <td>0.461357</td>\n",
       "    </tr>\n",
       "  </tbody>\n",
       "</table>\n",
       "</div>"
      ],
      "text/plain": [
       "            B_cell  T_cell.CD4  T_cell.CD8  Neutrophil  Macrophage        DC\n",
       "sampleID                                                                    \n",
       "A01       0.092725    0.111783    0.232517    0.127759    0.070051  0.465537\n",
       "A02       0.088487    0.119459    0.232331    0.126762    0.077563  0.466121\n",
       "A03       0.094161    0.116386    0.230089    0.129606    0.080902  0.459321\n",
       "A04       0.082317    0.124712    0.211901    0.123896    0.069127  0.467283\n",
       "A05       0.091664    0.113799    0.220568    0.124662    0.077013  0.461357"
      ]
     },
     "execution_count": 49,
     "metadata": {},
     "output_type": "execute_result"
    }
   ],
   "source": [
    "tim_estimates.head()"
   ]
  },
  {
   "cell_type": "markdown",
   "metadata": {},
   "source": [
    "### ConsensusTME"
   ]
  },
  {
   "cell_type": "code",
   "execution_count": 50,
   "metadata": {},
   "outputs": [
    {
     "name": "stdout",
     "output_type": "stream",
     "text": [
      "../../Data/3/ConsensusTME_TreatmentNaive_NES.txt\r\n"
     ]
    }
   ],
   "source": [
    "ls ../../Data/3/ConsensusTME_TreatmentNaive_NES.txt"
   ]
  },
  {
   "cell_type": "code",
   "execution_count": 51,
   "metadata": {},
   "outputs": [],
   "source": [
    "con_estimates = pd.read_csv('../../Data/3/ConsensusTME_TreatmentNaive_NES.txt',\n",
    "                            sep='\\t',\n",
    "                            index_col='Term').T"
   ]
  },
  {
   "cell_type": "code",
   "execution_count": 52,
   "metadata": {},
   "outputs": [
    {
     "data": {
      "text/html": [
       "<div>\n",
       "<style scoped>\n",
       "    .dataframe tbody tr th:only-of-type {\n",
       "        vertical-align: middle;\n",
       "    }\n",
       "\n",
       "    .dataframe tbody tr th {\n",
       "        vertical-align: top;\n",
       "    }\n",
       "\n",
       "    .dataframe thead th {\n",
       "        text-align: right;\n",
       "    }\n",
       "</style>\n",
       "<table border=\"1\" class=\"dataframe\">\n",
       "  <thead>\n",
       "    <tr style=\"text-align: right;\">\n",
       "      <th>Term</th>\n",
       "      <th>B_cells</th>\n",
       "      <th>Cytotoxic_cells</th>\n",
       "      <th>Dendritic_cells</th>\n",
       "      <th>Endothelial</th>\n",
       "      <th>Eosinophils</th>\n",
       "      <th>Fibroblasts</th>\n",
       "      <th>Macrophages</th>\n",
       "      <th>Macrophages_M1</th>\n",
       "      <th>Macrophages_M2</th>\n",
       "      <th>Mast_cells</th>\n",
       "      <th>Monocytes</th>\n",
       "      <th>NK_cells</th>\n",
       "      <th>Neutrophils</th>\n",
       "      <th>Plasma_cells</th>\n",
       "      <th>T_cells_CD4</th>\n",
       "      <th>T_cells_CD8</th>\n",
       "      <th>T_cells_gamma_delta</th>\n",
       "      <th>T_regulatory_cells</th>\n",
       "    </tr>\n",
       "  </thead>\n",
       "  <tbody>\n",
       "    <tr>\n",
       "      <th>A01</th>\n",
       "      <td>0.038479</td>\n",
       "      <td>0.210148</td>\n",
       "      <td>0.189096</td>\n",
       "      <td>0.157806</td>\n",
       "      <td>0.200823</td>\n",
       "      <td>0.132615</td>\n",
       "      <td>0.254307</td>\n",
       "      <td>0.105808</td>\n",
       "      <td>0.195547</td>\n",
       "      <td>0.013775</td>\n",
       "      <td>0.117728</td>\n",
       "      <td>-0.015117</td>\n",
       "      <td>0.127413</td>\n",
       "      <td>0.535331</td>\n",
       "      <td>-0.042384</td>\n",
       "      <td>-0.017664</td>\n",
       "      <td>-0.038414</td>\n",
       "      <td>-0.108068</td>\n",
       "    </tr>\n",
       "    <tr>\n",
       "      <th>A02</th>\n",
       "      <td>0.154999</td>\n",
       "      <td>0.187567</td>\n",
       "      <td>0.226787</td>\n",
       "      <td>0.163239</td>\n",
       "      <td>0.197690</td>\n",
       "      <td>0.216635</td>\n",
       "      <td>0.324191</td>\n",
       "      <td>0.243754</td>\n",
       "      <td>0.248203</td>\n",
       "      <td>0.245785</td>\n",
       "      <td>0.159470</td>\n",
       "      <td>0.033245</td>\n",
       "      <td>0.031610</td>\n",
       "      <td>0.531357</td>\n",
       "      <td>0.050694</td>\n",
       "      <td>0.060364</td>\n",
       "      <td>0.052337</td>\n",
       "      <td>0.054963</td>\n",
       "    </tr>\n",
       "    <tr>\n",
       "      <th>A03</th>\n",
       "      <td>0.131586</td>\n",
       "      <td>0.153687</td>\n",
       "      <td>0.275280</td>\n",
       "      <td>0.208535</td>\n",
       "      <td>0.271950</td>\n",
       "      <td>0.215502</td>\n",
       "      <td>0.297194</td>\n",
       "      <td>0.141092</td>\n",
       "      <td>0.244864</td>\n",
       "      <td>0.230612</td>\n",
       "      <td>0.216502</td>\n",
       "      <td>-0.008720</td>\n",
       "      <td>0.209621</td>\n",
       "      <td>0.438544</td>\n",
       "      <td>0.004308</td>\n",
       "      <td>-0.000962</td>\n",
       "      <td>-0.005596</td>\n",
       "      <td>-0.088210</td>\n",
       "    </tr>\n",
       "    <tr>\n",
       "      <th>A04</th>\n",
       "      <td>0.088623</td>\n",
       "      <td>-0.144163</td>\n",
       "      <td>0.044318</td>\n",
       "      <td>0.016865</td>\n",
       "      <td>-0.022362</td>\n",
       "      <td>0.015346</td>\n",
       "      <td>0.237463</td>\n",
       "      <td>0.125194</td>\n",
       "      <td>0.123689</td>\n",
       "      <td>-0.086646</td>\n",
       "      <td>0.088211</td>\n",
       "      <td>-0.251429</td>\n",
       "      <td>-0.099575</td>\n",
       "      <td>0.487098</td>\n",
       "      <td>-0.207399</td>\n",
       "      <td>-0.153047</td>\n",
       "      <td>-0.151517</td>\n",
       "      <td>-0.117862</td>\n",
       "    </tr>\n",
       "    <tr>\n",
       "      <th>A05</th>\n",
       "      <td>0.038772</td>\n",
       "      <td>0.003858</td>\n",
       "      <td>0.094001</td>\n",
       "      <td>0.032350</td>\n",
       "      <td>0.083034</td>\n",
       "      <td>0.097243</td>\n",
       "      <td>0.209476</td>\n",
       "      <td>0.049207</td>\n",
       "      <td>0.141662</td>\n",
       "      <td>-0.016800</td>\n",
       "      <td>0.070981</td>\n",
       "      <td>-0.192785</td>\n",
       "      <td>-0.052861</td>\n",
       "      <td>0.436365</td>\n",
       "      <td>-0.165377</td>\n",
       "      <td>-0.133178</td>\n",
       "      <td>-0.140392</td>\n",
       "      <td>-0.184319</td>\n",
       "    </tr>\n",
       "  </tbody>\n",
       "</table>\n",
       "</div>"
      ],
      "text/plain": [
       "Term   B_cells  Cytotoxic_cells  Dendritic_cells  Endothelial  Eosinophils  \\\n",
       "A01   0.038479         0.210148         0.189096     0.157806     0.200823   \n",
       "A02   0.154999         0.187567         0.226787     0.163239     0.197690   \n",
       "A03   0.131586         0.153687         0.275280     0.208535     0.271950   \n",
       "A04   0.088623        -0.144163         0.044318     0.016865    -0.022362   \n",
       "A05   0.038772         0.003858         0.094001     0.032350     0.083034   \n",
       "\n",
       "Term  Fibroblasts  Macrophages  Macrophages_M1  Macrophages_M2  Mast_cells  \\\n",
       "A01      0.132615     0.254307        0.105808        0.195547    0.013775   \n",
       "A02      0.216635     0.324191        0.243754        0.248203    0.245785   \n",
       "A03      0.215502     0.297194        0.141092        0.244864    0.230612   \n",
       "A04      0.015346     0.237463        0.125194        0.123689   -0.086646   \n",
       "A05      0.097243     0.209476        0.049207        0.141662   -0.016800   \n",
       "\n",
       "Term  Monocytes  NK_cells  Neutrophils  Plasma_cells  T_cells_CD4  \\\n",
       "A01    0.117728 -0.015117     0.127413      0.535331    -0.042384   \n",
       "A02    0.159470  0.033245     0.031610      0.531357     0.050694   \n",
       "A03    0.216502 -0.008720     0.209621      0.438544     0.004308   \n",
       "A04    0.088211 -0.251429    -0.099575      0.487098    -0.207399   \n",
       "A05    0.070981 -0.192785    -0.052861      0.436365    -0.165377   \n",
       "\n",
       "Term  T_cells_CD8  T_cells_gamma_delta  T_regulatory_cells  \n",
       "A01     -0.017664            -0.038414           -0.108068  \n",
       "A02      0.060364             0.052337            0.054963  \n",
       "A03     -0.000962            -0.005596           -0.088210  \n",
       "A04     -0.153047            -0.151517           -0.117862  \n",
       "A05     -0.133178            -0.140392           -0.184319  "
      ]
     },
     "execution_count": 52,
     "metadata": {},
     "output_type": "execute_result"
    }
   ],
   "source": [
    "con_estimates.head()"
   ]
  },
  {
   "cell_type": "markdown",
   "metadata": {},
   "source": [
    "### Estimate purity"
   ]
  },
  {
   "cell_type": "code",
   "execution_count": 53,
   "metadata": {},
   "outputs": [
    {
     "name": "stdout",
     "output_type": "stream",
     "text": [
      "../../Data/1/TreatmentNaive_log2exp_loess_norm_filtered_ESTIMATE.txt\r\n"
     ]
    }
   ],
   "source": [
    "ls ../../Data/1/TreatmentNaive_log2exp_loess_norm_filtered_ESTIMATE.txt"
   ]
  },
  {
   "cell_type": "code",
   "execution_count": 54,
   "metadata": {},
   "outputs": [
    {
     "data": {
      "text/html": [
       "<div>\n",
       "<style scoped>\n",
       "    .dataframe tbody tr th:only-of-type {\n",
       "        vertical-align: middle;\n",
       "    }\n",
       "\n",
       "    .dataframe tbody tr th {\n",
       "        vertical-align: top;\n",
       "    }\n",
       "\n",
       "    .dataframe thead th {\n",
       "        text-align: right;\n",
       "    }\n",
       "</style>\n",
       "<table border=\"1\" class=\"dataframe\">\n",
       "  <thead>\n",
       "    <tr style=\"text-align: right;\">\n",
       "      <th>NAME</th>\n",
       "      <th>StromalScore</th>\n",
       "      <th>ImmuneScore</th>\n",
       "      <th>ESTIMATEScore</th>\n",
       "      <th>TumorPurity</th>\n",
       "    </tr>\n",
       "  </thead>\n",
       "  <tbody>\n",
       "    <tr>\n",
       "      <th>A01</th>\n",
       "      <td>213.898</td>\n",
       "      <td>789.397</td>\n",
       "      <td>1003.3</td>\n",
       "      <td>0.730147</td>\n",
       "    </tr>\n",
       "    <tr>\n",
       "      <th>A02</th>\n",
       "      <td>441.185</td>\n",
       "      <td>1103.96</td>\n",
       "      <td>1545.15</td>\n",
       "      <td>0.673548</td>\n",
       "    </tr>\n",
       "    <tr>\n",
       "      <th>A03</th>\n",
       "      <td>627.162</td>\n",
       "      <td>996.57</td>\n",
       "      <td>1623.73</td>\n",
       "      <td>0.664978</td>\n",
       "    </tr>\n",
       "    <tr>\n",
       "      <th>A04</th>\n",
       "      <td>-257.879</td>\n",
       "      <td>119.238</td>\n",
       "      <td>-138.641</td>\n",
       "      <td>0.833913</td>\n",
       "    </tr>\n",
       "    <tr>\n",
       "      <th>A05</th>\n",
       "      <td>-105.932</td>\n",
       "      <td>354.124</td>\n",
       "      <td>248.192</td>\n",
       "      <td>0.801248</td>\n",
       "    </tr>\n",
       "  </tbody>\n",
       "</table>\n",
       "</div>"
      ],
      "text/plain": [
       "NAME StromalScore ImmuneScore ESTIMATEScore TumorPurity\n",
       "A01       213.898     789.397        1003.3    0.730147\n",
       "A02       441.185     1103.96       1545.15    0.673548\n",
       "A03       627.162      996.57       1623.73    0.664978\n",
       "A04      -257.879     119.238      -138.641    0.833913\n",
       "A05      -105.932     354.124       248.192    0.801248"
      ]
     },
     "execution_count": 54,
     "metadata": {},
     "output_type": "execute_result"
    }
   ],
   "source": [
    "FILE = \"../../Data/1/TreatmentNaive_log2exp_loess_norm_filtered_ESTIMATE.txt\"\n",
    "\n",
    "estimate = pd.read_csv(\n",
    "    FILE,\n",
    "    sep=\"\\t\",\n",
    "    skiprows=2,\n",
    "    index_col=\"NAME\"\n",
    ").T\n",
    "\n",
    "estimate.drop(\"Description\", inplace=True)\n",
    "\n",
    "estimate.head()"
   ]
  },
  {
   "cell_type": "markdown",
   "metadata": {},
   "source": [
    "### TITAN purity"
   ]
  },
  {
   "cell_type": "code",
   "execution_count": 55,
   "metadata": {},
   "outputs": [
    {
     "name": "stdout",
     "output_type": "stream",
     "text": [
      "../../Data/1/TreatmentNaive_SampleLabels_WESTumourCellularity.txt\r\n"
     ]
    }
   ],
   "source": [
    "ls ../../Data/1/TreatmentNaive_SampleLabels_WESTumourCellularity.txt"
   ]
  },
  {
   "cell_type": "code",
   "execution_count": 56,
   "metadata": {},
   "outputs": [
    {
     "data": {
      "text/html": [
       "<div>\n",
       "<style scoped>\n",
       "    .dataframe tbody tr th:only-of-type {\n",
       "        vertical-align: middle;\n",
       "    }\n",
       "\n",
       "    .dataframe tbody tr th {\n",
       "        vertical-align: top;\n",
       "    }\n",
       "\n",
       "    .dataframe thead th {\n",
       "        text-align: right;\n",
       "    }\n",
       "</style>\n",
       "<table border=\"1\" class=\"dataframe\">\n",
       "  <thead>\n",
       "    <tr style=\"text-align: right;\">\n",
       "      <th></th>\n",
       "      <th>Label</th>\n",
       "      <th>Key</th>\n",
       "      <th>Case_mRNA</th>\n",
       "      <th>Site</th>\n",
       "      <th>Habitat</th>\n",
       "      <th>Case_WES</th>\n",
       "      <th>Tumour_WES</th>\n",
       "      <th>Colour</th>\n",
       "      <th>Site_marker</th>\n",
       "      <th>TumourCellularity_WES</th>\n",
       "    </tr>\n",
       "    <tr>\n",
       "      <th>Well</th>\n",
       "      <th></th>\n",
       "      <th></th>\n",
       "      <th></th>\n",
       "      <th></th>\n",
       "      <th></th>\n",
       "      <th></th>\n",
       "      <th></th>\n",
       "      <th></th>\n",
       "      <th></th>\n",
       "      <th></th>\n",
       "    </tr>\n",
       "  </thead>\n",
       "  <tbody>\n",
       "    <tr>\n",
       "      <th>A01</th>\n",
       "      <td>A01_3640_5_Omentum</td>\n",
       "      <td>case10_omentum_green</td>\n",
       "      <td>10</td>\n",
       "      <td>omentum</td>\n",
       "      <td>green</td>\n",
       "      <td>10.0</td>\n",
       "      <td>5</td>\n",
       "      <td>#ff7f00</td>\n",
       "      <td>^</td>\n",
       "      <td>0.5973</td>\n",
       "    </tr>\n",
       "    <tr>\n",
       "      <th>A02</th>\n",
       "      <td>A02_3640_7_Omentum</td>\n",
       "      <td>case10_omentum_blue</td>\n",
       "      <td>10</td>\n",
       "      <td>omentum</td>\n",
       "      <td>blue</td>\n",
       "      <td>10.0</td>\n",
       "      <td>7</td>\n",
       "      <td>#ff7f00</td>\n",
       "      <td>^</td>\n",
       "      <td>0.5065</td>\n",
       "    </tr>\n",
       "    <tr>\n",
       "      <th>A03</th>\n",
       "      <td>A03_3640_9_Paracolic_Gutter</td>\n",
       "      <td>case10_paracolic_yellow</td>\n",
       "      <td>10</td>\n",
       "      <td>other</td>\n",
       "      <td>yellow</td>\n",
       "      <td>10.0</td>\n",
       "      <td>8</td>\n",
       "      <td>#ff7f00</td>\n",
       "      <td>s</td>\n",
       "      <td>0.4551</td>\n",
       "    </tr>\n",
       "    <tr>\n",
       "      <th>A04</th>\n",
       "      <td>A04_3640_17_R_Adnexa</td>\n",
       "      <td>case10_Radnexa_yellow</td>\n",
       "      <td>10</td>\n",
       "      <td>ovary</td>\n",
       "      <td>yellow</td>\n",
       "      <td>10.0</td>\n",
       "      <td>17</td>\n",
       "      <td>#ff7f00</td>\n",
       "      <td>o</td>\n",
       "      <td>0.6496</td>\n",
       "    </tr>\n",
       "    <tr>\n",
       "      <th>A05</th>\n",
       "      <td>A05_3640_18_R_Adnexa</td>\n",
       "      <td>case10_Radnexa_blue</td>\n",
       "      <td>10</td>\n",
       "      <td>ovary</td>\n",
       "      <td>blue</td>\n",
       "      <td>10.0</td>\n",
       "      <td>18</td>\n",
       "      <td>#ff7f00</td>\n",
       "      <td>o</td>\n",
       "      <td>0.6706</td>\n",
       "    </tr>\n",
       "  </tbody>\n",
       "</table>\n",
       "</div>"
      ],
      "text/plain": [
       "                            Label                      Key  Case_mRNA  \\\n",
       "Well                                                                    \n",
       "A01            A01_3640_5_Omentum     case10_omentum_green         10   \n",
       "A02            A02_3640_7_Omentum      case10_omentum_blue         10   \n",
       "A03   A03_3640_9_Paracolic_Gutter  case10_paracolic_yellow         10   \n",
       "A04          A04_3640_17_R_Adnexa    case10_Radnexa_yellow         10   \n",
       "A05          A05_3640_18_R_Adnexa      case10_Radnexa_blue         10   \n",
       "\n",
       "         Site Habitat  Case_WES Tumour_WES   Colour Site_marker  \\\n",
       "Well                                                              \n",
       "A01   omentum   green      10.0          5  #ff7f00           ^   \n",
       "A02   omentum    blue      10.0          7  #ff7f00           ^   \n",
       "A03     other  yellow      10.0          8  #ff7f00           s   \n",
       "A04     ovary  yellow      10.0         17  #ff7f00           o   \n",
       "A05     ovary    blue      10.0         18  #ff7f00           o   \n",
       "\n",
       "      TumourCellularity_WES  \n",
       "Well                         \n",
       "A01                  0.5973  \n",
       "A02                  0.5065  \n",
       "A03                  0.4551  \n",
       "A04                  0.6496  \n",
       "A05                  0.6706  "
      ]
     },
     "execution_count": 56,
     "metadata": {},
     "output_type": "execute_result"
    }
   ],
   "source": [
    "FILE = \"../../Data/1/TreatmentNaive_SampleLabels_WESTumourCellularity.txt\"\n",
    "\n",
    "titan = pd.read_csv(\n",
    "    FILE,\n",
    "    sep=\"\\t\",\n",
    "    index_col=\"Well\"\n",
    ")\n",
    "\n",
    "titan.head()"
   ]
  },
  {
   "cell_type": "markdown",
   "metadata": {},
   "source": [
    "## T cell correlations"
   ]
  },
  {
   "cell_type": "markdown",
   "metadata": {},
   "source": [
    "### Get total T cell fractions e.g. total CD8/total cells"
   ]
  },
  {
   "cell_type": "code",
   "execution_count": 57,
   "metadata": {},
   "outputs": [],
   "source": [
    "Tcell_counts_dict = {sample_well:{'CD8':{},\n",
    "                                  'CD4':{},\n",
    "                                  'CD4FoxP3':{}} for sample_well in Tcell_counts.index}"
   ]
  },
  {
   "cell_type": "code",
   "execution_count": 58,
   "metadata": {},
   "outputs": [],
   "source": [
    "for sample in Tcell_counts_dict:\n",
    "    \n",
    "    cd8 = Tcell_counts['CD8'][sample].sum()\n",
    "    cd4 = Tcell_counts['CD4'][sample].sum() - Tcell_counts['CD4FoxP3'][sample].sum()\n",
    "    tregs = Tcell_counts['CD4FoxP3'][sample].sum()\n",
    "    total_cells = Tcell_counts['Cell_counts'][sample].sum()\n",
    "        \n",
    "    Tcell_counts_dict[sample]['CD8'] = cd8/total_cells\n",
    "    Tcell_counts_dict[sample]['CD4'] = cd4/total_cells\n",
    "    Tcell_counts_dict[sample]['CD4FoxP3'] = tregs/total_cells"
   ]
  },
  {
   "cell_type": "code",
   "execution_count": 59,
   "metadata": {},
   "outputs": [],
   "source": [
    "Tcell_fractions_df = pd.DataFrame.from_dict(Tcell_counts_dict).T"
   ]
  },
  {
   "cell_type": "code",
   "execution_count": 60,
   "metadata": {},
   "outputs": [
    {
     "data": {
      "text/html": [
       "<div>\n",
       "<style scoped>\n",
       "    .dataframe tbody tr th:only-of-type {\n",
       "        vertical-align: middle;\n",
       "    }\n",
       "\n",
       "    .dataframe tbody tr th {\n",
       "        vertical-align: top;\n",
       "    }\n",
       "\n",
       "    .dataframe thead th {\n",
       "        text-align: right;\n",
       "    }\n",
       "</style>\n",
       "<table border=\"1\" class=\"dataframe\">\n",
       "  <thead>\n",
       "    <tr style=\"text-align: right;\">\n",
       "      <th></th>\n",
       "      <th>CD4</th>\n",
       "      <th>CD4FoxP3</th>\n",
       "      <th>CD8</th>\n",
       "    </tr>\n",
       "  </thead>\n",
       "  <tbody>\n",
       "    <tr>\n",
       "      <th>A01</th>\n",
       "      <td>0.048160</td>\n",
       "      <td>0.002097</td>\n",
       "      <td>0.127989</td>\n",
       "    </tr>\n",
       "    <tr>\n",
       "      <th>A02</th>\n",
       "      <td>0.051004</td>\n",
       "      <td>0.003280</td>\n",
       "      <td>0.110650</td>\n",
       "    </tr>\n",
       "    <tr>\n",
       "      <th>A03</th>\n",
       "      <td>0.031771</td>\n",
       "      <td>0.002473</td>\n",
       "      <td>0.061686</td>\n",
       "    </tr>\n",
       "    <tr>\n",
       "      <th>A04</th>\n",
       "      <td>0.029632</td>\n",
       "      <td>0.000922</td>\n",
       "      <td>0.050185</td>\n",
       "    </tr>\n",
       "    <tr>\n",
       "      <th>A05</th>\n",
       "      <td>0.008272</td>\n",
       "      <td>0.000008</td>\n",
       "      <td>0.017919</td>\n",
       "    </tr>\n",
       "  </tbody>\n",
       "</table>\n",
       "</div>"
      ],
      "text/plain": [
       "          CD4  CD4FoxP3       CD8\n",
       "A01  0.048160  0.002097  0.127989\n",
       "A02  0.051004  0.003280  0.110650\n",
       "A03  0.031771  0.002473  0.061686\n",
       "A04  0.029632  0.000922  0.050185\n",
       "A05  0.008272  0.000008  0.017919"
      ]
     },
     "execution_count": 60,
     "metadata": {},
     "output_type": "execute_result"
    }
   ],
   "source": [
    "Tcell_fractions_df.head()"
   ]
  },
  {
   "cell_type": "markdown",
   "metadata": {},
   "source": [
    "### CD8 dataframe"
   ]
  },
  {
   "cell_type": "code",
   "execution_count": 61,
   "metadata": {},
   "outputs": [],
   "source": [
    "cd8_dict = {\n",
    "    'CD8_fractions':Tcell_fractions_df['CD8'],\n",
    "    'CD8_bindea':bin_estimates['CD8_T_cells'],\n",
    "    'CD8_davoli':dav_estimates['CD8_effector'],\n",
    "    'CD8_danaher':dan_estimates['CD8.T.cells'],\n",
    "    'CD8_mcp':mcp_estimates['CD8 T cells'],\n",
    "    'CD8_cib_abs':cib_abs_results['T cells CD8'],\n",
    "    #'CD8_cib_rel':cib_rel_results['T cells CD8'], # not used anymore\n",
    "    'CD8_xCELL':xcell_estimates['CD8+ T-cells'],\n",
    "    'CD8_TIMER':tim_estimates['T_cell.CD8'],\n",
    "    'CD8_Consensus':con_estimates['T_cells_CD8'],\n",
    "    #'ESTIMATE':1-estimate['TumorPurity'], # inverse relation with purity Reviewer comment\n",
    "    #'TITAN':1-titan['TumourCellularity_WES'] # inverse relation with purity Reviewer comment\n",
    "}"
   ]
  },
  {
   "cell_type": "code",
   "execution_count": 62,
   "metadata": {},
   "outputs": [],
   "source": [
    "cd8_df = pd.DataFrame.from_dict(cd8_dict).dropna(axis='index')"
   ]
  },
  {
   "cell_type": "code",
   "execution_count": 63,
   "metadata": {},
   "outputs": [
    {
     "data": {
      "text/html": [
       "<div>\n",
       "<style scoped>\n",
       "    .dataframe tbody tr th:only-of-type {\n",
       "        vertical-align: middle;\n",
       "    }\n",
       "\n",
       "    .dataframe tbody tr th {\n",
       "        vertical-align: top;\n",
       "    }\n",
       "\n",
       "    .dataframe thead th {\n",
       "        text-align: right;\n",
       "    }\n",
       "</style>\n",
       "<table border=\"1\" class=\"dataframe\">\n",
       "  <thead>\n",
       "    <tr style=\"text-align: right;\">\n",
       "      <th></th>\n",
       "      <th>CD8_fractions</th>\n",
       "      <th>CD8_bindea</th>\n",
       "      <th>CD8_davoli</th>\n",
       "      <th>CD8_danaher</th>\n",
       "      <th>CD8_mcp</th>\n",
       "      <th>CD8_cib_abs</th>\n",
       "      <th>CD8_xCELL</th>\n",
       "      <th>CD8_TIMER</th>\n",
       "      <th>CD8_Consensus</th>\n",
       "    </tr>\n",
       "  </thead>\n",
       "  <tbody>\n",
       "    <tr>\n",
       "      <th>A01</th>\n",
       "      <td>0.127989</td>\n",
       "      <td>0.095101</td>\n",
       "      <td>0.057870</td>\n",
       "      <td>-0.442538</td>\n",
       "      <td>3.362125</td>\n",
       "      <td>0.0</td>\n",
       "      <td>0.0548</td>\n",
       "      <td>0.232517</td>\n",
       "      <td>-0.017664</td>\n",
       "    </tr>\n",
       "    <tr>\n",
       "      <th>A02</th>\n",
       "      <td>0.110650</td>\n",
       "      <td>0.099431</td>\n",
       "      <td>0.327791</td>\n",
       "      <td>-0.336356</td>\n",
       "      <td>3.340149</td>\n",
       "      <td>0.0</td>\n",
       "      <td>0.0687</td>\n",
       "      <td>0.232331</td>\n",
       "      <td>0.060364</td>\n",
       "    </tr>\n",
       "    <tr>\n",
       "      <th>A03</th>\n",
       "      <td>0.061686</td>\n",
       "      <td>0.094088</td>\n",
       "      <td>0.166517</td>\n",
       "      <td>-0.458109</td>\n",
       "      <td>3.170813</td>\n",
       "      <td>0.0</td>\n",
       "      <td>0.0762</td>\n",
       "      <td>0.230089</td>\n",
       "      <td>-0.000962</td>\n",
       "    </tr>\n",
       "    <tr>\n",
       "      <th>A04</th>\n",
       "      <td>0.050185</td>\n",
       "      <td>0.074292</td>\n",
       "      <td>-0.183259</td>\n",
       "      <td>-0.428232</td>\n",
       "      <td>3.210788</td>\n",
       "      <td>0.0</td>\n",
       "      <td>0.0000</td>\n",
       "      <td>0.211901</td>\n",
       "      <td>-0.153047</td>\n",
       "    </tr>\n",
       "    <tr>\n",
       "      <th>A05</th>\n",
       "      <td>0.017919</td>\n",
       "      <td>0.093517</td>\n",
       "      <td>-0.118332</td>\n",
       "      <td>-0.372922</td>\n",
       "      <td>3.267672</td>\n",
       "      <td>0.0</td>\n",
       "      <td>0.0000</td>\n",
       "      <td>0.220568</td>\n",
       "      <td>-0.133178</td>\n",
       "    </tr>\n",
       "  </tbody>\n",
       "</table>\n",
       "</div>"
      ],
      "text/plain": [
       "     CD8_fractions  CD8_bindea  CD8_davoli  CD8_danaher   CD8_mcp  \\\n",
       "A01       0.127989    0.095101    0.057870    -0.442538  3.362125   \n",
       "A02       0.110650    0.099431    0.327791    -0.336356  3.340149   \n",
       "A03       0.061686    0.094088    0.166517    -0.458109  3.170813   \n",
       "A04       0.050185    0.074292   -0.183259    -0.428232  3.210788   \n",
       "A05       0.017919    0.093517   -0.118332    -0.372922  3.267672   \n",
       "\n",
       "     CD8_cib_abs  CD8_xCELL  CD8_TIMER  CD8_Consensus  \n",
       "A01          0.0     0.0548   0.232517      -0.017664  \n",
       "A02          0.0     0.0687   0.232331       0.060364  \n",
       "A03          0.0     0.0762   0.230089      -0.000962  \n",
       "A04          0.0     0.0000   0.211901      -0.153047  \n",
       "A05          0.0     0.0000   0.220568      -0.133178  "
      ]
     },
     "execution_count": 63,
     "metadata": {},
     "output_type": "execute_result"
    }
   ],
   "source": [
    "cd8_df.head()"
   ]
  },
  {
   "cell_type": "code",
   "execution_count": 64,
   "metadata": {},
   "outputs": [],
   "source": [
    "import scipy.stats\n",
    "from statsmodels.graphics.gofplots import qqplot"
   ]
  },
  {
   "cell_type": "code",
   "execution_count": 65,
   "metadata": {},
   "outputs": [
    {
     "data": {
      "text/plain": [
       "<matplotlib.axes._subplots.AxesSubplot at 0x10a852940>"
      ]
     },
     "execution_count": 65,
     "metadata": {},
     "output_type": "execute_result"
    },
    {
     "data": {
      "image/png": "[encoded data removed]",
      "text/plain": [
       "<Figure size 432x288 with 1 Axes>"
      ]
     },
     "metadata": {},
     "output_type": "display_data"
    }
   ],
   "source": [
    "cd8_df[\"CD8_davoli\"].plot(kind=\"kde\")"
   ]
  },
  {
   "cell_type": "code",
   "execution_count": 66,
   "metadata": {},
   "outputs": [
    {
     "data": {
      "image/png": "[encoded data removed]",
      "text/plain": [
       "<Figure size 432x288 with 1 Axes>"
      ]
     },
     "metadata": {},
     "output_type": "display_data"
    }
   ],
   "source": [
    "f = qqplot(cd8_df[\"CD8_davoli\"].dropna(),line='s')"
   ]
  },
  {
   "cell_type": "code",
   "execution_count": 67,
   "metadata": {},
   "outputs": [
    {
     "name": "stdout",
     "output_type": "stream",
     "text": [
      "CD8_bindea\n",
      "\n",
      "Not normal\n",
      "HETEROscedastic\n",
      "\n",
      "KENDALL\n",
      "0.6008662216420089\n",
      "CD8_davoli\n",
      "\n",
      "Not normal\n",
      "HETEROscedastic\n",
      "\n",
      "KENDALL\n",
      "0.007054732853301524\n",
      "CD8_danaher\n",
      "\n",
      "Not normal\n",
      "HETEROscedastic\n",
      "\n",
      "KENDALL\n",
      "0.8752869537322376\n",
      "CD8_mcp\n",
      "\n",
      "Not normal\n",
      "HETEROscedastic\n",
      "\n",
      "KENDALL\n",
      "0.4964399910945456\n",
      "CD8_cib_abs\n",
      "\n",
      "Not normal\n",
      "HETEROscedastic\n",
      "\n",
      "KENDALL\n",
      "0.7047814994245565\n",
      "CD8_xCELL\n",
      "\n",
      "Not normal\n",
      "HOMOscedastic\n",
      "\n",
      "KENDALL\n",
      "0.00416350752694546\n",
      "CD8_TIMER\n",
      "\n",
      "Not normal\n",
      "HETEROscedastic\n",
      "\n",
      "KENDALL\n",
      "3.581733616584899e-05\n",
      "CD8_Consensus\n",
      "\n",
      "Not normal\n",
      "HETEROscedastic\n",
      "\n",
      "KENDALL\n",
      "2.8375771941040163e-06\n"
     ]
    }
   ],
   "source": [
    "x = cd8_df[\"CD8_fractions\"]\n",
    "\n",
    "cd8_correlations = []\n",
    "for cd8_estimate in cd8_df:\n",
    "    \n",
    "    if cd8_estimate != \"CD8_fractions\":\n",
    "    \n",
    "        y = cd8_df[cd8_estimate]\n",
    "        #y = (cd8_df[cd8_estimate] - cd8_df[cd8_estimate].min()) / (cd8_df[cd8_estimate].max() - cd8_df[cd8_estimate].min())\n",
    "    \n",
    "        print(cd8_estimate+\"\\n\")\n",
    "\n",
    "        n1 = scipy.stats.shapiro(x)[1]\n",
    "        n2 = scipy.stats.shapiro(y)[1]\n",
    "\n",
    "        n3 = scipy.stats.normaltest(x)[1]\n",
    "        n4 = scipy.stats.normaltest(y)[1]\n",
    "\n",
    "        n5 = scipy.stats.anderson(x)\n",
    "        n6 = scipy.stats.anderson(y)\n",
    "\n",
    "        if min([n1,n2,n3,n4]) < 0.05: # not normal\n",
    "            \n",
    "            print(\"Not normal\")\n",
    "\n",
    "            h1 = scipy.stats.levene(x, y)[1]\n",
    "            \n",
    "            if h1 < 0.05:\n",
    "                print(\"HETEROscedastic\\n\")\n",
    "                #print(h1)\n",
    "            else:\n",
    "                print(\"HOMOscedastic\\n\")\n",
    "\n",
    "        else:\n",
    "            \n",
    "            print(\"Normal\")\n",
    "\n",
    "            h1 = scipy.stats.bartlett(x,y)[1]\n",
    "            \n",
    "            if h1 < 0.05:\n",
    "                print(\"HETEROscedastic\\n\")\n",
    "            else:\n",
    "                print(\"HOMOscedastic\\n\")\n",
    "\n",
    "        if min([n1,n2,n3,n4,h1]) < 0.05:\n",
    "\n",
    "            print(\"KENDALL\")\n",
    "\n",
    "            print(kendalltau(x,y)[1])\n",
    "            \n",
    "            cor, p_val = scipy.stats.kendalltau(x,y)\n",
    "\n",
    "        else:\n",
    "\n",
    "            print(\"anderson\")\n",
    "\n",
    "            print(n5[0], n5[1])\n",
    "            print(n6[0], n6[1])\n",
    "            print(\"\\n\")\n",
    "\n",
    "            print(\"PEARSON\")\n",
    "            print(scipy.stats.pearsonr(x,y)[1])\n",
    "            \n",
    "            cor, p_val = scipy.stats.pearsonr(x,y)\n",
    "                \n",
    "            print(\"\\n\")\n",
    "                \n",
    "        cd8_correlations.append([cd8_estimate,cor,p_val])\n",
    "        "
   ]
  },
  {
   "cell_type": "code",
   "execution_count": 68,
   "metadata": {},
   "outputs": [
    {
     "data": {
      "text/plain": [
       "<function scipy.stats.stats.kendalltau>"
      ]
     },
     "execution_count": 68,
     "metadata": {},
     "output_type": "execute_result"
    }
   ],
   "source": [
    "scipy.stats.kendalltau"
   ]
  },
  {
   "cell_type": "code",
   "execution_count": 69,
   "metadata": {},
   "outputs": [
    {
     "data": {
      "text/plain": [
       "[['CD8_bindea', 0.060060060060060066, 0.6008662216420089],\n",
       " ['CD8_davoli', 0.30930930930930933, 0.007054732853301524],\n",
       " ['CD8_danaher', 0.018018018018018018, 0.8752869537322376],\n",
       " ['CD8_mcp', -0.07807807807807807, 0.4964399910945456],\n",
       " ['CD8_cib_abs', 0.04861089133580436, 0.7047814994245565],\n",
       " ['CD8_xCELL', 0.34196999003762196, 0.00416350752694546],\n",
       " ['CD8_TIMER', 0.4744744744744745, 3.581733616584899e-05],\n",
       " ['CD8_Consensus', 0.5375375375375375, 2.8375771941040163e-06]]"
      ]
     },
     "execution_count": 69,
     "metadata": {},
     "output_type": "execute_result"
    }
   ],
   "source": [
    "cd8_correlations"
   ]
  },
  {
   "cell_type": "code",
   "execution_count": 70,
   "metadata": {},
   "outputs": [
    {
     "data": {
      "text/plain": [
       "[0.6008662216420089,\n",
       " 0.007054732853301524,\n",
       " 0.8752869537322376,\n",
       " 0.4964399910945456,\n",
       " 0.7047814994245565,\n",
       " 0.00416350752694546,\n",
       " 3.581733616584899e-05,\n",
       " 2.8375771941040163e-06]"
      ]
     },
     "execution_count": 70,
     "metadata": {},
     "output_type": "execute_result"
    }
   ],
   "source": [
    "pvals = [corr[2] for corr in cd8_correlations]\n",
    "\n",
    "pvals"
   ]
  },
  {
   "cell_type": "code",
   "execution_count": 71,
   "metadata": {},
   "outputs": [
    {
     "name": "stdout",
     "output_type": "stream",
     "text": [
      "CD8_bindea Not significant\n",
      "CD8_davoli **\n",
      "CD8_danaher Not significant\n",
      "CD8_mcp Not significant\n",
      "CD8_cib_abs Not significant\n",
      "CD8_xCELL **\n",
      "CD8_TIMER ****\n",
      "CD8_Consensus ****\n"
     ]
    }
   ],
   "source": [
    "for i, corr in enumerate(cd8_correlations):\n",
    "    \n",
    "    pval = corr[2]\n",
    "    \n",
    "    if pval <= 0.0001:\n",
    "        print(cd8_correlations[i][0], \"****\")\n",
    "    elif pval <= 0.001:\n",
    "        print(cd8_correlations[i][0], \"***\")\n",
    "    elif pval <= 0.01:\n",
    "        print(cd8_correlations[i][0], \"**\")\n",
    "    elif pval <= 0.05:\n",
    "        print(cd8_correlations[i][0], \"*\")\n",
    "    elif pval <= 0.1:\n",
    "        print(cd8_correlations[i][0], \".\")\n",
    "    else:\n",
    "        print(cd8_correlations[i][0], \"Not significant\")"
   ]
  },
  {
   "cell_type": "markdown",
   "metadata": {},
   "source": [
    "### CD4 dataframe"
   ]
  },
  {
   "cell_type": "code",
   "execution_count": 72,
   "metadata": {},
   "outputs": [],
   "source": [
    "cd4_dict = {\n",
    "    'CD4_fractions':Tcell_fractions_df['CD4'],\n",
    "    'CD4_bindea':bin_estimates['T_helper_cells'],\n",
    "    'CD4_davoli':dav_estimates['CD4_mature'],\n",
    "    'CD4_cib_abs':cib_abs_results.iloc[:,4:7].sum(axis='columns'),\n",
    "    #'CD4_cib_rel':cib_rel_results.iloc[:,4:7].sum(axis='columns'),\n",
    "    'CD4_xCELL':xcell_estimates.iloc[:,4:9].sum(axis='columns'),\n",
    "    'CD4_TIMER':tim_estimates['T_cell.CD4'],\n",
    "    'CD4_Consensus':con_estimates['T_cells_CD4'],\n",
    "    #'ESTIMATE':1-estimate['TumorPurity'], # inverse relation with purity\n",
    "    #'TITAN':1-titan['TumourCellularity_WES'] # inverse relation with purity\n",
    "}"
   ]
  },
  {
   "cell_type": "code",
   "execution_count": 73,
   "metadata": {},
   "outputs": [],
   "source": [
    "cd4_df = pd.DataFrame.from_dict(cd4_dict).dropna(axis='index')"
   ]
  },
  {
   "cell_type": "code",
   "execution_count": 74,
   "metadata": {},
   "outputs": [
    {
     "data": {
      "text/html": [
       "<div>\n",
       "<style scoped>\n",
       "    .dataframe tbody tr th:only-of-type {\n",
       "        vertical-align: middle;\n",
       "    }\n",
       "\n",
       "    .dataframe tbody tr th {\n",
       "        vertical-align: top;\n",
       "    }\n",
       "\n",
       "    .dataframe thead th {\n",
       "        text-align: right;\n",
       "    }\n",
       "</style>\n",
       "<table border=\"1\" class=\"dataframe\">\n",
       "  <thead>\n",
       "    <tr style=\"text-align: right;\">\n",
       "      <th></th>\n",
       "      <th>CD4_fractions</th>\n",
       "      <th>CD4_bindea</th>\n",
       "      <th>CD4_davoli</th>\n",
       "      <th>CD4_cib_abs</th>\n",
       "      <th>CD4_xCELL</th>\n",
       "      <th>CD4_TIMER</th>\n",
       "      <th>CD4_Consensus</th>\n",
       "    </tr>\n",
       "  </thead>\n",
       "  <tbody>\n",
       "    <tr>\n",
       "      <th>A01</th>\n",
       "      <td>0.048160</td>\n",
       "      <td>0.293718</td>\n",
       "      <td>0.031713</td>\n",
       "      <td>0.121892</td>\n",
       "      <td>0.3739</td>\n",
       "      <td>0.111783</td>\n",
       "      <td>-0.042384</td>\n",
       "    </tr>\n",
       "    <tr>\n",
       "      <th>A02</th>\n",
       "      <td>0.051004</td>\n",
       "      <td>0.316855</td>\n",
       "      <td>0.085348</td>\n",
       "      <td>0.124456</td>\n",
       "      <td>0.7126</td>\n",
       "      <td>0.119459</td>\n",
       "      <td>0.050694</td>\n",
       "    </tr>\n",
       "    <tr>\n",
       "      <th>A03</th>\n",
       "      <td>0.031771</td>\n",
       "      <td>0.314145</td>\n",
       "      <td>0.059252</td>\n",
       "      <td>0.216898</td>\n",
       "      <td>0.4770</td>\n",
       "      <td>0.116386</td>\n",
       "      <td>0.004308</td>\n",
       "    </tr>\n",
       "    <tr>\n",
       "      <th>A04</th>\n",
       "      <td>0.029632</td>\n",
       "      <td>0.306107</td>\n",
       "      <td>-0.184143</td>\n",
       "      <td>0.084977</td>\n",
       "      <td>0.3400</td>\n",
       "      <td>0.124712</td>\n",
       "      <td>-0.207399</td>\n",
       "    </tr>\n",
       "    <tr>\n",
       "      <th>A05</th>\n",
       "      <td>0.008272</td>\n",
       "      <td>0.304819</td>\n",
       "      <td>-0.083855</td>\n",
       "      <td>0.150804</td>\n",
       "      <td>0.2913</td>\n",
       "      <td>0.113799</td>\n",
       "      <td>-0.165377</td>\n",
       "    </tr>\n",
       "  </tbody>\n",
       "</table>\n",
       "</div>"
      ],
      "text/plain": [
       "     CD4_fractions  CD4_bindea  CD4_davoli  CD4_cib_abs  CD4_xCELL  CD4_TIMER  \\\n",
       "A01       0.048160    0.293718    0.031713     0.121892     0.3739   0.111783   \n",
       "A02       0.051004    0.316855    0.085348     0.124456     0.7126   0.119459   \n",
       "A03       0.031771    0.314145    0.059252     0.216898     0.4770   0.116386   \n",
       "A04       0.029632    0.306107   -0.184143     0.084977     0.3400   0.124712   \n",
       "A05       0.008272    0.304819   -0.083855     0.150804     0.2913   0.113799   \n",
       "\n",
       "     CD4_Consensus  \n",
       "A01      -0.042384  \n",
       "A02       0.050694  \n",
       "A03       0.004308  \n",
       "A04      -0.207399  \n",
       "A05      -0.165377  "
      ]
     },
     "execution_count": 74,
     "metadata": {},
     "output_type": "execute_result"
    }
   ],
   "source": [
    "cd4_df.head()"
   ]
  },
  {
   "cell_type": "code",
   "execution_count": 75,
   "metadata": {},
   "outputs": [
    {
     "name": "stdout",
     "output_type": "stream",
     "text": [
      "CD4_bindea\n",
      "\n",
      "Not normal\n",
      "HOMOscedastic\n",
      "\n",
      "KENDALL\n",
      "0.4326102057526223\n",
      "CD4_davoli\n",
      "\n",
      "Not normal\n",
      "HETEROscedastic\n",
      "\n",
      "KENDALL\n",
      "0.21891631225440467\n",
      "CD4_cib_abs\n",
      "\n",
      "Not normal\n",
      "HETEROscedastic\n",
      "\n",
      "KENDALL\n",
      "0.3202253162144806\n",
      "CD4_xCELL\n",
      "\n",
      "Not normal\n",
      "HETEROscedastic\n",
      "\n",
      "KENDALL\n",
      "0.29541770152393165\n",
      "CD4_TIMER\n",
      "\n",
      "Not normal\n",
      "HETEROscedastic\n",
      "\n",
      "KENDALL\n",
      "0.7142093707713955\n",
      "CD4_Consensus\n",
      "\n",
      "Not normal\n",
      "HETEROscedastic\n",
      "\n",
      "KENDALL\n",
      "0.046812802555416436\n"
     ]
    }
   ],
   "source": [
    "x = cd4_df[\"CD4_fractions\"]\n",
    "\n",
    "cd4_correlations = []\n",
    "for cd4_estimate in cd4_df:\n",
    "    \n",
    "    if cd4_estimate != \"CD4_fractions\":\n",
    "    \n",
    "        y = cd4_df[cd4_estimate]\n",
    "        #y = (cd8_df[cd8_estimate] - cd8_df[cd8_estimate].min()) / (cd8_df[cd8_estimate].max() - cd8_df[cd8_estimate].min())\n",
    "    \n",
    "        print(cd4_estimate+\"\\n\")\n",
    "\n",
    "        n1 = scipy.stats.shapiro(x)[1]\n",
    "        n2 = scipy.stats.shapiro(y)[1]\n",
    "\n",
    "        n3 = scipy.stats.normaltest(x)[1]\n",
    "        n4 = scipy.stats.normaltest(y)[1]\n",
    "\n",
    "        n5 = scipy.stats.anderson(x)\n",
    "        n6 = scipy.stats.anderson(y)\n",
    "\n",
    "        if min([n1,n2,n3,n4]) < 0.05: # not normal\n",
    "            \n",
    "            print(\"Not normal\")\n",
    "\n",
    "            h1 = scipy.stats.levene(x, y)[1]\n",
    "            \n",
    "            if h1 < 0.05:\n",
    "                print(\"HETEROscedastic\\n\")\n",
    "                #print(h1)\n",
    "            else:\n",
    "                print(\"HOMOscedastic\\n\")\n",
    "\n",
    "        else:\n",
    "            \n",
    "            print(\"Normal\")\n",
    "\n",
    "            h1 = scipy.stats.bartlett(x,y)[1]\n",
    "            \n",
    "            if h1 < 0.05:\n",
    "                print(\"HETEROscedastic\\n\")\n",
    "            else:\n",
    "                print(\"HOMOscedastic\\n\")\n",
    "\n",
    "        if min([n1,n2,n3,n4,h1]) < 0.05:\n",
    "\n",
    "            print(\"KENDALL\")\n",
    "\n",
    "            print(kendalltau(x,y)[1])\n",
    "            \n",
    "            cor, p_val = scipy.stats.kendalltau(x,y)\n",
    "\n",
    "        else:\n",
    "\n",
    "            print(\"anderson\")\n",
    "\n",
    "            print(n5[0], n5[1])\n",
    "            print(n6[0], n6[1])\n",
    "            print(\"\\n\")\n",
    "\n",
    "            print(\"PEARSON\")\n",
    "            print(scipy.stats.pearsonr(x,y)[1])\n",
    "            \n",
    "            cor, p_val = scipy.stats.pearsonr(x,y)\n",
    "                \n",
    "            print(\"\\n\")\n",
    "                \n",
    "        cd4_correlations.append([cd4_estimate,cor,p_val])"
   ]
  },
  {
   "cell_type": "code",
   "execution_count": 76,
   "metadata": {},
   "outputs": [
    {
     "data": {
      "text/plain": [
       "[['CD4_bindea', 0.0900900900900901, 0.4326102057526223],\n",
       " ['CD4_davoli', 0.14114114114114115, 0.21891631225440467],\n",
       " ['CD4_cib_abs', -0.11411411411411412, 0.3202253162144806],\n",
       " ['CD4_xCELL', 0.12012012012012013, 0.29541770152393165],\n",
       " ['CD4_TIMER', -0.04204204204204204, 0.7142093707713955],\n",
       " ['CD4_Consensus', 0.22822822822822825, 0.046812802555416436]]"
      ]
     },
     "execution_count": 76,
     "metadata": {},
     "output_type": "execute_result"
    }
   ],
   "source": [
    "cd4_correlations"
   ]
  },
  {
   "cell_type": "code",
   "execution_count": 77,
   "metadata": {},
   "outputs": [
    {
     "data": {
      "text/plain": [
       "[0.4326102057526223,\n",
       " 0.21891631225440467,\n",
       " 0.3202253162144806,\n",
       " 0.29541770152393165,\n",
       " 0.7142093707713955,\n",
       " 0.046812802555416436]"
      ]
     },
     "execution_count": 77,
     "metadata": {},
     "output_type": "execute_result"
    }
   ],
   "source": [
    "pvals = [corr[2] for corr in cd4_correlations]\n",
    "\n",
    "pvals"
   ]
  },
  {
   "cell_type": "code",
   "execution_count": 78,
   "metadata": {},
   "outputs": [
    {
     "name": "stdout",
     "output_type": "stream",
     "text": [
      "CD4_bindea Not significant\n",
      "CD4_davoli Not significant\n",
      "CD4_cib_abs Not significant\n",
      "CD4_xCELL Not significant\n",
      "CD4_TIMER Not significant\n",
      "CD4_Consensus *\n"
     ]
    }
   ],
   "source": [
    "for i, pval in enumerate(pvals):\n",
    "    if pval <= 0.0001:\n",
    "        print(cd4_correlations[i][0], \"****\")\n",
    "    elif pval <= 0.001:\n",
    "        print(cd4_correlations[i][0], \"***\")\n",
    "    elif pval <= 0.01:\n",
    "        print(cd4_correlations[i][0], \"**\")\n",
    "    elif pval <= 0.05:\n",
    "        print(cd4_correlations[i][0], \"*\")\n",
    "    elif pval <= 0.1:\n",
    "        print(cd4_correlations[i][0], \".\")\n",
    "    else:\n",
    "        print(cd4_correlations[i][0], \"Not significant\")"
   ]
  },
  {
   "cell_type": "markdown",
   "metadata": {},
   "source": [
    "### Tregs dataframe"
   ]
  },
  {
   "cell_type": "code",
   "execution_count": 79,
   "metadata": {},
   "outputs": [],
   "source": [
    "CD4FoxP3_dict = {\n",
    "    'CD4FoxP3_fractions':Tcell_fractions_df['CD4FoxP3'],\n",
    "    'CD4FoxP3_bindea':bin_estimates['Treg_cells'],\n",
    "    'CD4FoxP3_davoli':dav_estimates['T_regs'],\n",
    "    'CD4FoxP3_danaher':dan_estimates['Treg'],\n",
    "    'CD4FoxP3_cib_abs':cib_abs_results['T cells regulatory (Tregs)'],\n",
    "    #'CD4FoxP3_cib_rel':cib_rel_results['T cells regulatory (Tregs)'],\n",
    "    'CD4FoxP3_xCELL':xcell_estimates['Tregs'],\n",
    "    'CD4FoxP3_Consensus':con_estimates['T_regulatory_cells'],\n",
    "    #'ESTIMATE':1-estimate['TumorPurity'], # inverse relation with purity\n",
    "    #'TITAN':1-titan['TumourCellularity_WES'] # inverse relation with purity\n",
    "}"
   ]
  },
  {
   "cell_type": "code",
   "execution_count": 80,
   "metadata": {},
   "outputs": [],
   "source": [
    "cd4foxp3_df = pd.DataFrame.from_dict(CD4FoxP3_dict).dropna(axis='index')"
   ]
  },
  {
   "cell_type": "code",
   "execution_count": 81,
   "metadata": {},
   "outputs": [
    {
     "data": {
      "text/html": [
       "<div>\n",
       "<style scoped>\n",
       "    .dataframe tbody tr th:only-of-type {\n",
       "        vertical-align: middle;\n",
       "    }\n",
       "\n",
       "    .dataframe tbody tr th {\n",
       "        vertical-align: top;\n",
       "    }\n",
       "\n",
       "    .dataframe thead th {\n",
       "        text-align: right;\n",
       "    }\n",
       "</style>\n",
       "<table border=\"1\" class=\"dataframe\">\n",
       "  <thead>\n",
       "    <tr style=\"text-align: right;\">\n",
       "      <th></th>\n",
       "      <th>CD4FoxP3_fractions</th>\n",
       "      <th>CD4FoxP3_bindea</th>\n",
       "      <th>CD4FoxP3_davoli</th>\n",
       "      <th>CD4FoxP3_danaher</th>\n",
       "      <th>CD4FoxP3_cib_abs</th>\n",
       "      <th>CD4FoxP3_xCELL</th>\n",
       "      <th>CD4FoxP3_Consensus</th>\n",
       "    </tr>\n",
       "    <tr>\n",
       "      <th>Mixture</th>\n",
       "      <th></th>\n",
       "      <th></th>\n",
       "      <th></th>\n",
       "      <th></th>\n",
       "      <th></th>\n",
       "      <th></th>\n",
       "      <th></th>\n",
       "    </tr>\n",
       "  </thead>\n",
       "  <tbody>\n",
       "    <tr>\n",
       "      <th>A01</th>\n",
       "      <td>0.002097</td>\n",
       "      <td>-0.281775</td>\n",
       "      <td>-0.408595</td>\n",
       "      <td>-0.246328</td>\n",
       "      <td>0.00000</td>\n",
       "      <td>0.0535</td>\n",
       "      <td>-0.108068</td>\n",
       "    </tr>\n",
       "    <tr>\n",
       "      <th>A02</th>\n",
       "      <td>0.003280</td>\n",
       "      <td>-0.285308</td>\n",
       "      <td>-0.250671</td>\n",
       "      <td>-0.249417</td>\n",
       "      <td>0.00000</td>\n",
       "      <td>0.1035</td>\n",
       "      <td>0.054963</td>\n",
       "    </tr>\n",
       "    <tr>\n",
       "      <th>A03</th>\n",
       "      <td>0.002473</td>\n",
       "      <td>-0.377414</td>\n",
       "      <td>-0.431835</td>\n",
       "      <td>-0.329935</td>\n",
       "      <td>0.00000</td>\n",
       "      <td>0.0452</td>\n",
       "      <td>-0.088210</td>\n",
       "    </tr>\n",
       "    <tr>\n",
       "      <th>A04</th>\n",
       "      <td>0.000922</td>\n",
       "      <td>-0.471797</td>\n",
       "      <td>-0.321068</td>\n",
       "      <td>-0.412445</td>\n",
       "      <td>0.00518</td>\n",
       "      <td>0.0958</td>\n",
       "      <td>-0.117862</td>\n",
       "    </tr>\n",
       "    <tr>\n",
       "      <th>A05</th>\n",
       "      <td>0.000008</td>\n",
       "      <td>-0.197050</td>\n",
       "      <td>-0.276252</td>\n",
       "      <td>-0.172261</td>\n",
       "      <td>0.00000</td>\n",
       "      <td>0.1198</td>\n",
       "      <td>-0.184319</td>\n",
       "    </tr>\n",
       "  </tbody>\n",
       "</table>\n",
       "</div>"
      ],
      "text/plain": [
       "         CD4FoxP3_fractions  CD4FoxP3_bindea  CD4FoxP3_davoli  \\\n",
       "Mixture                                                         \n",
       "A01                0.002097        -0.281775        -0.408595   \n",
       "A02                0.003280        -0.285308        -0.250671   \n",
       "A03                0.002473        -0.377414        -0.431835   \n",
       "A04                0.000922        -0.471797        -0.321068   \n",
       "A05                0.000008        -0.197050        -0.276252   \n",
       "\n",
       "         CD4FoxP3_danaher  CD4FoxP3_cib_abs  CD4FoxP3_xCELL  \\\n",
       "Mixture                                                       \n",
       "A01             -0.246328           0.00000          0.0535   \n",
       "A02             -0.249417           0.00000          0.1035   \n",
       "A03             -0.329935           0.00000          0.0452   \n",
       "A04             -0.412445           0.00518          0.0958   \n",
       "A05             -0.172261           0.00000          0.1198   \n",
       "\n",
       "         CD4FoxP3_Consensus  \n",
       "Mixture                      \n",
       "A01               -0.108068  \n",
       "A02                0.054963  \n",
       "A03               -0.088210  \n",
       "A04               -0.117862  \n",
       "A05               -0.184319  "
      ]
     },
     "execution_count": 81,
     "metadata": {},
     "output_type": "execute_result"
    }
   ],
   "source": [
    "cd4foxp3_df.head()"
   ]
  },
  {
   "cell_type": "code",
   "execution_count": 82,
   "metadata": {},
   "outputs": [
    {
     "name": "stdout",
     "output_type": "stream",
     "text": [
      "CD4FoxP3_bindea\n",
      "\n",
      "Not normal\n",
      "HETEROscedastic\n",
      "\n",
      "KENDALL\n",
      "0.513147846751079\n",
      "CD4FoxP3_davoli\n",
      "\n",
      "Not normal\n",
      "HETEROscedastic\n",
      "\n",
      "KENDALL\n",
      "0.9582772832988573\n",
      "CD4FoxP3_danaher\n",
      "\n",
      "Not normal\n",
      "HETEROscedastic\n",
      "\n",
      "KENDALL\n",
      "0.513147846751079\n",
      "CD4FoxP3_cib_abs\n",
      "\n",
      "Not normal\n",
      "HOMOscedastic\n",
      "\n",
      "KENDALL\n",
      "0.4789987995660788\n",
      "CD4FoxP3_xCELL\n",
      "\n",
      "Not normal\n",
      "HETEROscedastic\n",
      "\n",
      "KENDALL\n",
      "0.6840142529684263\n",
      "CD4FoxP3_Consensus\n",
      "\n",
      "Not normal\n",
      "HETEROscedastic\n",
      "\n",
      "KENDALL\n",
      "0.026188179371314374\n"
     ]
    }
   ],
   "source": [
    "x = cd4foxp3_df[\"CD4FoxP3_fractions\"]\n",
    "\n",
    "cd4foxp3_correlations = []\n",
    "for cd4foxp3_estimate in cd4foxp3_df:\n",
    "    \n",
    "    if cd4foxp3_estimate != \"CD4FoxP3_fractions\":\n",
    "    \n",
    "        y = cd4foxp3_df[cd4foxp3_estimate]\n",
    "        #y = (cd8_df[cd8_estimate] - cd8_df[cd8_estimate].min()) / (cd8_df[cd8_estimate].max() - cd8_df[cd8_estimate].min())\n",
    "    \n",
    "        print(cd4foxp3_estimate+\"\\n\")\n",
    "\n",
    "        n1 = scipy.stats.shapiro(x)[1]\n",
    "        n2 = scipy.stats.shapiro(y)[1]\n",
    "\n",
    "        n3 = scipy.stats.normaltest(x)[1]\n",
    "        n4 = scipy.stats.normaltest(y)[1]\n",
    "\n",
    "        n5 = scipy.stats.anderson(x)\n",
    "        n6 = scipy.stats.anderson(y)\n",
    "\n",
    "        if min([n1,n2,n3,n4]) < 0.05: # not normal\n",
    "            \n",
    "            print(\"Not normal\")\n",
    "\n",
    "            h1 = scipy.stats.levene(x, y)[1]\n",
    "            \n",
    "            if h1 < 0.05:\n",
    "                print(\"HETEROscedastic\\n\")\n",
    "                #print(h1)\n",
    "            else:\n",
    "                print(\"HOMOscedastic\\n\")\n",
    "\n",
    "        else:\n",
    "            \n",
    "            print(\"Normal\")\n",
    "\n",
    "            h1 = scipy.stats.bartlett(x,y)[1]\n",
    "            \n",
    "            if h1 < 0.05:\n",
    "                print(\"HETEROscedastic\\n\")\n",
    "            else:\n",
    "                print(\"HOMOscedastic\\n\")\n",
    "\n",
    "        if min([n1,n2,n3,n4,h1]) < 0.05:\n",
    "\n",
    "            print(\"KENDALL\")\n",
    "\n",
    "            print(kendalltau(x,y)[1])\n",
    "            \n",
    "            cor, p_val = scipy.stats.kendalltau(x,y)\n",
    "\n",
    "        else:\n",
    "\n",
    "            print(\"anderson\")\n",
    "\n",
    "            print(n5[0], n5[1])\n",
    "            print(n6[0], n6[1])\n",
    "            print(\"\\n\")\n",
    "\n",
    "            print(\"PEARSON\")\n",
    "            print(scipy.stats.pearsonr(x,y)[1])\n",
    "            \n",
    "            cor, p_val = scipy.stats.pearsonr(x,y)\n",
    "                \n",
    "            print(\"\\n\")\n",
    "                \n",
    "        cd4foxp3_correlations.append([cd4foxp3_estimate,cor,p_val])"
   ]
  },
  {
   "cell_type": "code",
   "execution_count": 83,
   "metadata": {},
   "outputs": [],
   "source": [
    "cd4foxp3_correlations.sort(key=lambda x: x[1])"
   ]
  },
  {
   "cell_type": "code",
   "execution_count": 84,
   "metadata": {},
   "outputs": [
    {
     "data": {
      "text/plain": [
       "[['CD4FoxP3_cib_abs', -0.0951017268828656, 0.4789987995660788],\n",
       " ['CD4FoxP3_davoli', -0.006006006006006007, 0.9582772832988573],\n",
       " ['CD4FoxP3_xCELL', 0.04729821182425404, 0.6840142529684263],\n",
       " ['CD4FoxP3_bindea', 0.07507507507507508, 0.513147846751079],\n",
       " ['CD4FoxP3_danaher', 0.07507507507507508, 0.513147846751079],\n",
       " ['CD4FoxP3_Consensus', 0.2552552552552552, 0.026188179371314374]]"
      ]
     },
     "execution_count": 84,
     "metadata": {},
     "output_type": "execute_result"
    }
   ],
   "source": [
    "cd4foxp3_correlations"
   ]
  },
  {
   "cell_type": "code",
   "execution_count": 85,
   "metadata": {},
   "outputs": [
    {
     "data": {
      "text/plain": [
       "[0.4789987995660788,\n",
       " 0.9582772832988573,\n",
       " 0.6840142529684263,\n",
       " 0.513147846751079,\n",
       " 0.513147846751079,\n",
       " 0.026188179371314374]"
      ]
     },
     "execution_count": 85,
     "metadata": {},
     "output_type": "execute_result"
    }
   ],
   "source": [
    "pvals = [corr[2] for corr in cd4foxp3_correlations]\n",
    "\n",
    "pvals"
   ]
  },
  {
   "cell_type": "code",
   "execution_count": 86,
   "metadata": {},
   "outputs": [
    {
     "name": "stdout",
     "output_type": "stream",
     "text": [
      "CD4FoxP3_cib_abs Not significant\n",
      "CD4FoxP3_davoli Not significant\n",
      "CD4FoxP3_xCELL Not significant\n",
      "CD4FoxP3_bindea Not significant\n",
      "CD4FoxP3_danaher Not significant\n",
      "CD4FoxP3_Consensus *\n"
     ]
    }
   ],
   "source": [
    "for i, pval in enumerate(pvals):\n",
    "    if pval <= 0.0001:\n",
    "        print(cd4foxp3_correlations[i][0], \"****\")\n",
    "    elif pval <= 0.001:\n",
    "        print(cd4foxp3_correlations[i][0], \"***\")\n",
    "    elif pval <= 0.01:\n",
    "        print(cd4foxp3_correlations[i][0], \"**\")\n",
    "    elif pval <= 0.05:\n",
    "        print(cd4foxp3_correlations[i][0], \"*\")\n",
    "    elif pval <= 0.1:\n",
    "        print(cd4foxp3_correlations[i][0], \".\")\n",
    "    else:\n",
    "        print(cd4foxp3_correlations[i][0], \"Not significant\")"
   ]
  },
  {
   "cell_type": "markdown",
   "metadata": {},
   "source": [
    "## Plot barplot correlations"
   ]
  },
  {
   "cell_type": "markdown",
   "metadata": {},
   "source": [
    "### Define method colour"
   ]
  },
  {
   "cell_type": "code",
   "execution_count": 87,
   "metadata": {},
   "outputs": [],
   "source": [
    "method_colours = dict({\n",
    "    'cib':      '#6FCCDD',\n",
    "    'mcp':      '#B9529F',\n",
    "    'danaher':  '#0E8040',\n",
    "    'xCELL':    '#F7931D',\n",
    "    'bindea':   '#F6EB16',\n",
    "    'davoli':   '#231F20',\n",
    "    'Consensus':'#3953A4',\n",
    "    'TIMER':    '#FF0000',\n",
    "    'ESTIMATE': 'grey',\n",
    "    'TITAN':    'k'\n",
    "})"
   ]
  },
  {
   "cell_type": "markdown",
   "metadata": {},
   "source": [
    "### CD8"
   ]
  },
  {
   "cell_type": "code",
   "execution_count": 88,
   "metadata": {},
   "outputs": [],
   "source": [
    "cd8_correlations_dict = {m[0]: {'tau': m[1]} for m in cd8_correlations}"
   ]
  },
  {
   "cell_type": "code",
   "execution_count": 89,
   "metadata": {},
   "outputs": [],
   "source": [
    "cd8_correlations_df = pd.DataFrame.from_dict(cd8_correlations_dict)\n",
    "\n",
    "cd8_correlations_df.sort_values(by=['tau'],\n",
    "                                axis='columns',\n",
    "                                inplace=True)"
   ]
  },
  {
   "cell_type": "code",
   "execution_count": 91,
   "metadata": {},
   "outputs": [
    {
     "data": {
      "text/html": [
       "<div>\n",
       "<style scoped>\n",
       "    .dataframe tbody tr th:only-of-type {\n",
       "        vertical-align: middle;\n",
       "    }\n",
       "\n",
       "    .dataframe tbody tr th {\n",
       "        vertical-align: top;\n",
       "    }\n",
       "\n",
       "    .dataframe thead th {\n",
       "        text-align: right;\n",
       "    }\n",
       "</style>\n",
       "<table border=\"1\" class=\"dataframe\">\n",
       "  <thead>\n",
       "    <tr style=\"text-align: right;\">\n",
       "      <th></th>\n",
       "      <th>CD8_mcp</th>\n",
       "      <th>CD8_danaher</th>\n",
       "      <th>CD8_cib_abs</th>\n",
       "      <th>CD8_bindea</th>\n",
       "      <th>CD8_davoli</th>\n",
       "      <th>CD8_xCELL</th>\n",
       "      <th>CD8_TIMER</th>\n",
       "      <th>CD8_Consensus</th>\n",
       "    </tr>\n",
       "  </thead>\n",
       "  <tbody>\n",
       "    <tr>\n",
       "      <th>tau</th>\n",
       "      <td>-0.078078</td>\n",
       "      <td>0.018018</td>\n",
       "      <td>0.048611</td>\n",
       "      <td>0.06006</td>\n",
       "      <td>0.309309</td>\n",
       "      <td>0.34197</td>\n",
       "      <td>0.474474</td>\n",
       "      <td>0.537538</td>\n",
       "    </tr>\n",
       "  </tbody>\n",
       "</table>\n",
       "</div>"
      ],
      "text/plain": [
       "      CD8_mcp  CD8_danaher  CD8_cib_abs  CD8_bindea  CD8_davoli  CD8_xCELL  \\\n",
       "tau -0.078078     0.018018     0.048611     0.06006    0.309309    0.34197   \n",
       "\n",
       "     CD8_TIMER  CD8_Consensus  \n",
       "tau   0.474474       0.537538  "
      ]
     },
     "execution_count": 91,
     "metadata": {},
     "output_type": "execute_result"
    }
   ],
   "source": [
    "cd8_correlations_df.head()"
   ]
  },
  {
   "cell_type": "code",
   "execution_count": 92,
   "metadata": {},
   "outputs": [
    {
     "data": {
      "text/plain": [
       "['#B9529F',\n",
       " '#0E8040',\n",
       " '#6FCCDD',\n",
       " '#F6EB16',\n",
       " '#231F20',\n",
       " '#F7931D',\n",
       " '#FF0000',\n",
       " '#3953A4']"
      ]
     },
     "execution_count": 92,
     "metadata": {},
     "output_type": "execute_result"
    }
   ],
   "source": [
    "bar_colors = []\n",
    "\n",
    "for col in cd8_correlations_df:\n",
    "    \n",
    "    if '_' in col: \n",
    "        \n",
    "        bar_colors.append(method_colours[col.split('_')[1]])\n",
    "        \n",
    "    else:\n",
    "        \n",
    "        bar_colors.append(method_colours[col])\n",
    "    \n",
    "bar_colors"
   ]
  },
  {
   "cell_type": "code",
   "execution_count": 93,
   "metadata": {},
   "outputs": [
    {
     "data": {
      "image/png": "[encoded data removed]",
      "text/plain": [
       "<Figure size 360x360 with 1 Axes>"
      ]
     },
     "metadata": {},
     "output_type": "display_data"
    }
   ],
   "source": [
    "ax = cd8_correlations_df.plot(kind='bar',\n",
    "                              color=bar_colors,\n",
    "                              figsize=(5,5),\n",
    "                              ylim=(-1,1),\n",
    "                              legend=False)"
   ]
  },
  {
   "cell_type": "code",
   "execution_count": 94,
   "metadata": {},
   "outputs": [],
   "source": [
    "fig = ax.get_figure()"
   ]
  },
  {
   "cell_type": "code",
   "execution_count": 96,
   "metadata": {},
   "outputs": [
    {
     "name": "stdout",
     "output_type": "stream",
     "text": [
      "3a_TxNaive_WES_TME_vs_RNA_TME_tau.pdf\r\n"
     ]
    }
   ],
   "source": [
    "ls ../../Figures/main/3/panels/"
   ]
  },
  {
   "cell_type": "code",
   "execution_count": 97,
   "metadata": {},
   "outputs": [],
   "source": [
    "FILE = \"../../Figures/main/3/panels/3a_TxNaive_CD8_IF_vs_RNA_CD8_tau.pdf\"\n",
    "\n",
    "fig.savefig(FILE, bbox_tight=True)"
   ]
  },
  {
   "cell_type": "markdown",
   "metadata": {},
   "source": [
    "### CD4"
   ]
  },
  {
   "cell_type": "code",
   "execution_count": 98,
   "metadata": {},
   "outputs": [],
   "source": [
    "cd4_correlations_dict = {m[0]: {'tau': m[1]} for m in cd4_correlations}"
   ]
  },
  {
   "cell_type": "code",
   "execution_count": 99,
   "metadata": {},
   "outputs": [],
   "source": [
    "cd4_correlations_df = pd.DataFrame.from_dict(cd4_correlations_dict)\n",
    "\n",
    "cd4_correlations_df.sort_values(by=['tau'],\n",
    "                                axis='columns',\n",
    "                                inplace=True)"
   ]
  },
  {
   "cell_type": "code",
   "execution_count": 103,
   "metadata": {},
   "outputs": [
    {
     "data": {
      "text/html": [
       "<div>\n",
       "<style scoped>\n",
       "    .dataframe tbody tr th:only-of-type {\n",
       "        vertical-align: middle;\n",
       "    }\n",
       "\n",
       "    .dataframe tbody tr th {\n",
       "        vertical-align: top;\n",
       "    }\n",
       "\n",
       "    .dataframe thead th {\n",
       "        text-align: right;\n",
       "    }\n",
       "</style>\n",
       "<table border=\"1\" class=\"dataframe\">\n",
       "  <thead>\n",
       "    <tr style=\"text-align: right;\">\n",
       "      <th></th>\n",
       "      <th>CD4_cib_abs</th>\n",
       "      <th>CD4_TIMER</th>\n",
       "      <th>CD4_bindea</th>\n",
       "      <th>CD4_xCELL</th>\n",
       "      <th>CD4_davoli</th>\n",
       "      <th>CD4_Consensus</th>\n",
       "    </tr>\n",
       "  </thead>\n",
       "  <tbody>\n",
       "    <tr>\n",
       "      <th>tau</th>\n",
       "      <td>-0.114114</td>\n",
       "      <td>-0.042042</td>\n",
       "      <td>0.09009</td>\n",
       "      <td>0.12012</td>\n",
       "      <td>0.141141</td>\n",
       "      <td>0.228228</td>\n",
       "    </tr>\n",
       "  </tbody>\n",
       "</table>\n",
       "</div>"
      ],
      "text/plain": [
       "     CD4_cib_abs  CD4_TIMER  CD4_bindea  CD4_xCELL  CD4_davoli  CD4_Consensus\n",
       "tau    -0.114114  -0.042042     0.09009    0.12012    0.141141       0.228228"
      ]
     },
     "execution_count": 103,
     "metadata": {},
     "output_type": "execute_result"
    }
   ],
   "source": [
    "cd4_correlations_df.head()"
   ]
  },
  {
   "cell_type": "code",
   "execution_count": 101,
   "metadata": {},
   "outputs": [
    {
     "data": {
      "text/plain": [
       "['#6FCCDD', '#FF0000', '#F6EB16', '#F7931D', '#231F20', '#3953A4']"
      ]
     },
     "execution_count": 101,
     "metadata": {},
     "output_type": "execute_result"
    }
   ],
   "source": [
    "bar_colors = []\n",
    "\n",
    "for col in cd4_correlations_df:\n",
    "    \n",
    "    if '_' in col: \n",
    "        \n",
    "        bar_colors.append(method_colours[col.split('_')[1]])\n",
    "        \n",
    "    else:\n",
    "        \n",
    "        bar_colors.append(method_colours[col])\n",
    "    \n",
    "bar_colors"
   ]
  },
  {
   "cell_type": "code",
   "execution_count": 102,
   "metadata": {},
   "outputs": [
    {
     "data": {
      "image/png": "[encoded data removed]",
      "text/plain": [
       "<Figure size 360x360 with 1 Axes>"
      ]
     },
     "metadata": {},
     "output_type": "display_data"
    }
   ],
   "source": [
    "ax = cd4_correlations_df.plot(kind='bar',\n",
    "                              color=bar_colors,\n",
    "                              figsize=(5,5),\n",
    "                              ylim=(-1,1))"
   ]
  },
  {
   "cell_type": "code",
   "execution_count": 104,
   "metadata": {},
   "outputs": [],
   "source": [
    "fig = ax.get_figure()"
   ]
  },
  {
   "cell_type": "code",
   "execution_count": 105,
   "metadata": {},
   "outputs": [],
   "source": [
    "FILE = \"../../Figures/main/3/panels/3a_TxNaive_CD4_IF_vs_CD4_TME_tau.pdf\"\n",
    "\n",
    "fig.savefig(FILE, bbox_tight=True)"
   ]
  },
  {
   "cell_type": "markdown",
   "metadata": {},
   "source": [
    "### CD4FoxP3"
   ]
  },
  {
   "cell_type": "code",
   "execution_count": 106,
   "metadata": {},
   "outputs": [],
   "source": [
    "cd4foxp3_correlations_dict = {m[0]: {'tau': m[1]} for m in cd4foxp3_correlations}"
   ]
  },
  {
   "cell_type": "code",
   "execution_count": 107,
   "metadata": {},
   "outputs": [],
   "source": [
    "cd4foxp3_correlations_df = pd.DataFrame.from_dict(cd4foxp3_correlations_dict)\n",
    "\n",
    "cd4foxp3_correlations_df.sort_values(by=['tau'],\n",
    "                                     axis='columns',\n",
    "                                     inplace=True)"
   ]
  },
  {
   "cell_type": "code",
   "execution_count": 108,
   "metadata": {},
   "outputs": [
    {
     "data": {
      "text/html": [
       "<div>\n",
       "<style scoped>\n",
       "    .dataframe tbody tr th:only-of-type {\n",
       "        vertical-align: middle;\n",
       "    }\n",
       "\n",
       "    .dataframe tbody tr th {\n",
       "        vertical-align: top;\n",
       "    }\n",
       "\n",
       "    .dataframe thead th {\n",
       "        text-align: right;\n",
       "    }\n",
       "</style>\n",
       "<table border=\"1\" class=\"dataframe\">\n",
       "  <thead>\n",
       "    <tr style=\"text-align: right;\">\n",
       "      <th></th>\n",
       "      <th>CD4FoxP3_cib_abs</th>\n",
       "      <th>CD4FoxP3_davoli</th>\n",
       "      <th>CD4FoxP3_xCELL</th>\n",
       "      <th>CD4FoxP3_bindea</th>\n",
       "      <th>CD4FoxP3_danaher</th>\n",
       "      <th>CD4FoxP3_Consensus</th>\n",
       "    </tr>\n",
       "  </thead>\n",
       "  <tbody>\n",
       "    <tr>\n",
       "      <th>tau</th>\n",
       "      <td>-0.095102</td>\n",
       "      <td>-0.006006</td>\n",
       "      <td>0.047298</td>\n",
       "      <td>0.075075</td>\n",
       "      <td>0.075075</td>\n",
       "      <td>0.255255</td>\n",
       "    </tr>\n",
       "  </tbody>\n",
       "</table>\n",
       "</div>"
      ],
      "text/plain": [
       "     CD4FoxP3_cib_abs  CD4FoxP3_davoli  CD4FoxP3_xCELL  CD4FoxP3_bindea  \\\n",
       "tau         -0.095102        -0.006006        0.047298         0.075075   \n",
       "\n",
       "     CD4FoxP3_danaher  CD4FoxP3_Consensus  \n",
       "tau          0.075075            0.255255  "
      ]
     },
     "execution_count": 108,
     "metadata": {},
     "output_type": "execute_result"
    }
   ],
   "source": [
    "cd4foxp3_correlations_df"
   ]
  },
  {
   "cell_type": "code",
   "execution_count": 110,
   "metadata": {},
   "outputs": [
    {
     "data": {
      "text/plain": [
       "['#6FCCDD', '#231F20', '#F7931D', '#F6EB16', '#0E8040', '#3953A4']"
      ]
     },
     "execution_count": 110,
     "metadata": {},
     "output_type": "execute_result"
    }
   ],
   "source": [
    "bar_colors = []\n",
    "\n",
    "for col in cd4foxp3_correlations_df:\n",
    "    \n",
    "    if '_' in col: \n",
    "        \n",
    "        bar_colors.append(method_colours[col.split('_')[1]])\n",
    "        \n",
    "    else:\n",
    "        \n",
    "        bar_colors.append(method_colours[col])\n",
    "    \n",
    "bar_colors"
   ]
  },
  {
   "cell_type": "code",
   "execution_count": 111,
   "metadata": {},
   "outputs": [
    {
     "data": {
      "image/png": "[encoded data removed]",
      "text/plain": [
       "<Figure size 360x360 with 1 Axes>"
      ]
     },
     "metadata": {},
     "output_type": "display_data"
    }
   ],
   "source": [
    "ax = cd4foxp3_correlations_df.plot(kind='bar',\n",
    "                                   color=bar_colors,\n",
    "                                   figsize=(5,5),\n",
    "                                   ylim=(-1,1))"
   ]
  },
  {
   "cell_type": "code",
   "execution_count": 112,
   "metadata": {},
   "outputs": [],
   "source": [
    "fig = ax.get_figure()"
   ]
  },
  {
   "cell_type": "code",
   "execution_count": 113,
   "metadata": {},
   "outputs": [],
   "source": [
    "FILE = \"../../Figures/main/3/panels/3a_TxNaive_CD4FoxP3_IF_vs_RNA_CD4FoxP3_tau.pdf\"\n",
    "\n",
    "fig.savefig(FILE, bbox_tight=True)"
   ]
  },
  {
   "cell_type": "markdown",
   "metadata": {},
   "source": [
    "# End script"
   ]
  }
 ],
 "metadata": {
  "kernelspec": {
   "display_name": "Python 3",
   "language": "python",
   "name": "python3"
  },
  "language_info": {
   "codemirror_mode": {
    "name": "ipython",
    "version": 3
   },
   "file_extension": ".py",
   "mimetype": "text/x-python",
   "name": "python",
   "nbconvert_exporter": "python",
   "pygments_lexer": "ipython3",
   "version": "3.6.8"
  }
 },
 "nbformat": 4,
 "nbformat_minor": 2
}

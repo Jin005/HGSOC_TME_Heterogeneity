{
 "cells": [
  {
   "cell_type": "markdown",
   "metadata": {},
   "source": [
    "# Plot cluster map of treatment naive samples ConsensusTME gene set NES"
   ]
  },
  {
   "cell_type": "markdown",
   "metadata": {},
   "source": [
    "Script related to figure s3d\n",
    "\n",
    "### Aim:\n",
    "- Plot clustermap of ConsensusTME NES as additional visualisation"
   ]
  },
  {
   "cell_type": "code",
   "execution_count": 1,
   "metadata": {},
   "outputs": [
    {
     "name": "stdout",
     "output_type": "stream",
     "text": [
      "Python 3.6.8 :: Anaconda custom (64-bit)\r\n"
     ]
    }
   ],
   "source": [
    "!python --version"
   ]
  },
  {
   "cell_type": "markdown",
   "metadata": {},
   "source": [
    "## Import packages"
   ]
  },
  {
   "cell_type": "code",
   "execution_count": 4,
   "metadata": {},
   "outputs": [],
   "source": [
    "import warnings\n",
    "import matplotlib\n",
    "import pandas as pd\n",
    "import seaborn as sns\n",
    "import matplotlib.cm as cm\n",
    "import matplotlib.pyplot as plt"
   ]
  },
  {
   "cell_type": "code",
   "execution_count": 5,
   "metadata": {},
   "outputs": [],
   "source": [
    "home = \"~/git_repos/HGSOC_TME_Heterogeneity/\""
   ]
  },
  {
   "cell_type": "markdown",
   "metadata": {},
   "source": [
    "## Get sample labels"
   ]
  },
  {
   "cell_type": "markdown",
   "metadata": {},
   "source": [
    "### Load file\n"
   ]
  },
  {
   "cell_type": "code",
   "execution_count": 6,
   "metadata": {},
   "outputs": [
    {
     "name": "stdout",
     "output_type": "stream",
     "text": [
      "../../Data/1/TreatmentNaive_SampleLabels_WESTumourCellularity.txt\r\n"
     ]
    }
   ],
   "source": [
    "ls ../../Data/1/TreatmentNaive_SampleLabels_WESTumourCellularity.txt"
   ]
  },
  {
   "cell_type": "code",
   "execution_count": 7,
   "metadata": {},
   "outputs": [],
   "source": [
    "file_keys = home + 'Data/1/TreatmentNaive_SampleLabels_WESTumourCellularity.txt'\n",
    "\n",
    "sample_labels = pd.read_csv(file_keys,\n",
    "                            sep='\\t',\n",
    "                            index_col='Well')"
   ]
  },
  {
   "cell_type": "code",
   "execution_count": 8,
   "metadata": {},
   "outputs": [
    {
     "data": {
      "text/html": [
       "<div>\n",
       "<style scoped>\n",
       "    .dataframe tbody tr th:only-of-type {\n",
       "        vertical-align: middle;\n",
       "    }\n",
       "\n",
       "    .dataframe tbody tr th {\n",
       "        vertical-align: top;\n",
       "    }\n",
       "\n",
       "    .dataframe thead th {\n",
       "        text-align: right;\n",
       "    }\n",
       "</style>\n",
       "<table border=\"1\" class=\"dataframe\">\n",
       "  <thead>\n",
       "    <tr style=\"text-align: right;\">\n",
       "      <th></th>\n",
       "      <th>Label</th>\n",
       "      <th>Key</th>\n",
       "      <th>Case_mRNA</th>\n",
       "      <th>Site</th>\n",
       "      <th>Habitat</th>\n",
       "      <th>Case_WES</th>\n",
       "      <th>Tumour_WES</th>\n",
       "      <th>Colour</th>\n",
       "      <th>Site_marker</th>\n",
       "      <th>TumourCellularity_WES</th>\n",
       "    </tr>\n",
       "    <tr>\n",
       "      <th>Well</th>\n",
       "      <th></th>\n",
       "      <th></th>\n",
       "      <th></th>\n",
       "      <th></th>\n",
       "      <th></th>\n",
       "      <th></th>\n",
       "      <th></th>\n",
       "      <th></th>\n",
       "      <th></th>\n",
       "      <th></th>\n",
       "    </tr>\n",
       "  </thead>\n",
       "  <tbody>\n",
       "    <tr>\n",
       "      <th>A01</th>\n",
       "      <td>A01_3640_5_Omentum</td>\n",
       "      <td>case10_omentum_green</td>\n",
       "      <td>10</td>\n",
       "      <td>omentum</td>\n",
       "      <td>green</td>\n",
       "      <td>10.0</td>\n",
       "      <td>5</td>\n",
       "      <td>#ff7f00</td>\n",
       "      <td>^</td>\n",
       "      <td>0.5973</td>\n",
       "    </tr>\n",
       "    <tr>\n",
       "      <th>A02</th>\n",
       "      <td>A02_3640_7_Omentum</td>\n",
       "      <td>case10_omentum_blue</td>\n",
       "      <td>10</td>\n",
       "      <td>omentum</td>\n",
       "      <td>blue</td>\n",
       "      <td>10.0</td>\n",
       "      <td>7</td>\n",
       "      <td>#ff7f00</td>\n",
       "      <td>^</td>\n",
       "      <td>0.5065</td>\n",
       "    </tr>\n",
       "    <tr>\n",
       "      <th>A03</th>\n",
       "      <td>A03_3640_9_Paracolic_Gutter</td>\n",
       "      <td>case10_paracolic_yellow</td>\n",
       "      <td>10</td>\n",
       "      <td>other</td>\n",
       "      <td>yellow</td>\n",
       "      <td>10.0</td>\n",
       "      <td>8</td>\n",
       "      <td>#ff7f00</td>\n",
       "      <td>s</td>\n",
       "      <td>0.4551</td>\n",
       "    </tr>\n",
       "    <tr>\n",
       "      <th>A04</th>\n",
       "      <td>A04_3640_17_R_Adnexa</td>\n",
       "      <td>case10_Radnexa_yellow</td>\n",
       "      <td>10</td>\n",
       "      <td>ovary</td>\n",
       "      <td>yellow</td>\n",
       "      <td>10.0</td>\n",
       "      <td>17</td>\n",
       "      <td>#ff7f00</td>\n",
       "      <td>o</td>\n",
       "      <td>0.6496</td>\n",
       "    </tr>\n",
       "    <tr>\n",
       "      <th>A05</th>\n",
       "      <td>A05_3640_18_R_Adnexa</td>\n",
       "      <td>case10_Radnexa_blue</td>\n",
       "      <td>10</td>\n",
       "      <td>ovary</td>\n",
       "      <td>blue</td>\n",
       "      <td>10.0</td>\n",
       "      <td>18</td>\n",
       "      <td>#ff7f00</td>\n",
       "      <td>o</td>\n",
       "      <td>0.6706</td>\n",
       "    </tr>\n",
       "  </tbody>\n",
       "</table>\n",
       "</div>"
      ],
      "text/plain": [
       "                            Label                      Key  Case_mRNA  \\\n",
       "Well                                                                    \n",
       "A01            A01_3640_5_Omentum     case10_omentum_green         10   \n",
       "A02            A02_3640_7_Omentum      case10_omentum_blue         10   \n",
       "A03   A03_3640_9_Paracolic_Gutter  case10_paracolic_yellow         10   \n",
       "A04          A04_3640_17_R_Adnexa    case10_Radnexa_yellow         10   \n",
       "A05          A05_3640_18_R_Adnexa      case10_Radnexa_blue         10   \n",
       "\n",
       "         Site Habitat  Case_WES Tumour_WES   Colour Site_marker  \\\n",
       "Well                                                              \n",
       "A01   omentum   green      10.0          5  #ff7f00           ^   \n",
       "A02   omentum    blue      10.0          7  #ff7f00           ^   \n",
       "A03     other  yellow      10.0          8  #ff7f00           s   \n",
       "A04     ovary  yellow      10.0         17  #ff7f00           o   \n",
       "A05     ovary    blue      10.0         18  #ff7f00           o   \n",
       "\n",
       "      TumourCellularity_WES  \n",
       "Well                         \n",
       "A01                  0.5973  \n",
       "A02                  0.5065  \n",
       "A03                  0.4551  \n",
       "A04                  0.6496  \n",
       "A05                  0.6706  "
      ]
     },
     "execution_count": 8,
     "metadata": {},
     "output_type": "execute_result"
    }
   ],
   "source": [
    "sample_labels.head()"
   ]
  },
  {
   "cell_type": "markdown",
   "metadata": {},
   "source": [
    "### Define sample colours"
   ]
  },
  {
   "cell_type": "code",
   "execution_count": 9,
   "metadata": {},
   "outputs": [],
   "source": [
    "case_mrna = list(set(sample_labels['Case_mRNA']))\n",
    "\n",
    "colours = sns.color_palette(\"Set1\", 8).as_hex()\n",
    "\n",
    "sample_labels['Colour'] = sample_labels['Case_mRNA'].replace(case_mrna, colours)"
   ]
  },
  {
   "cell_type": "markdown",
   "metadata": {},
   "source": [
    "## Load ssGSEA results"
   ]
  },
  {
   "cell_type": "code",
   "execution_count": 10,
   "metadata": {},
   "outputs": [
    {
     "name": "stdout",
     "output_type": "stream",
     "text": [
      "../../Data/3/ConsensusTME_TreatmentNaive_NES.txt\r\n"
     ]
    }
   ],
   "source": [
    "ls ../../Data/3/ConsensusTME_TreatmentNaive_NES.txt"
   ]
  },
  {
   "cell_type": "code",
   "execution_count": 12,
   "metadata": {},
   "outputs": [],
   "source": [
    "file_nes = home + '/Data/3/ConsensusTME_TreatmentNaive_NES.txt'\n",
    "\n",
    "data_nes = pd.read_csv(file_nes, sep='\\t')\n",
    "\n",
    "data_nes.set_index('Term',\n",
    "                   inplace=True)"
   ]
  },
  {
   "cell_type": "code",
   "execution_count": 13,
   "metadata": {},
   "outputs": [
    {
     "data": {
      "text/html": [
       "<div>\n",
       "<style scoped>\n",
       "    .dataframe tbody tr th:only-of-type {\n",
       "        vertical-align: middle;\n",
       "    }\n",
       "\n",
       "    .dataframe tbody tr th {\n",
       "        vertical-align: top;\n",
       "    }\n",
       "\n",
       "    .dataframe thead th {\n",
       "        text-align: right;\n",
       "    }\n",
       "</style>\n",
       "<table border=\"1\" class=\"dataframe\">\n",
       "  <thead>\n",
       "    <tr style=\"text-align: right;\">\n",
       "      <th></th>\n",
       "      <th>A01</th>\n",
       "      <th>A02</th>\n",
       "      <th>A03</th>\n",
       "      <th>A04</th>\n",
       "      <th>A05</th>\n",
       "      <th>A06</th>\n",
       "      <th>A07</th>\n",
       "      <th>A08</th>\n",
       "      <th>A09</th>\n",
       "      <th>A10</th>\n",
       "      <th>...</th>\n",
       "      <th>C06</th>\n",
       "      <th>C07</th>\n",
       "      <th>C08</th>\n",
       "      <th>C09</th>\n",
       "      <th>C10</th>\n",
       "      <th>C11</th>\n",
       "      <th>C12</th>\n",
       "      <th>D01</th>\n",
       "      <th>D02</th>\n",
       "      <th>D03</th>\n",
       "    </tr>\n",
       "    <tr>\n",
       "      <th>Term</th>\n",
       "      <th></th>\n",
       "      <th></th>\n",
       "      <th></th>\n",
       "      <th></th>\n",
       "      <th></th>\n",
       "      <th></th>\n",
       "      <th></th>\n",
       "      <th></th>\n",
       "      <th></th>\n",
       "      <th></th>\n",
       "      <th></th>\n",
       "      <th></th>\n",
       "      <th></th>\n",
       "      <th></th>\n",
       "      <th></th>\n",
       "      <th></th>\n",
       "      <th></th>\n",
       "      <th></th>\n",
       "      <th></th>\n",
       "      <th></th>\n",
       "      <th></th>\n",
       "    </tr>\n",
       "  </thead>\n",
       "  <tbody>\n",
       "    <tr>\n",
       "      <th>Plasma_cells</th>\n",
       "      <td>0.535331</td>\n",
       "      <td>0.531357</td>\n",
       "      <td>0.438544</td>\n",
       "      <td>0.487098</td>\n",
       "      <td>0.436365</td>\n",
       "      <td>0.331769</td>\n",
       "      <td>0.349640</td>\n",
       "      <td>0.328983</td>\n",
       "      <td>0.351515</td>\n",
       "      <td>0.311369</td>\n",
       "      <td>...</td>\n",
       "      <td>0.457048</td>\n",
       "      <td>0.485839</td>\n",
       "      <td>0.320825</td>\n",
       "      <td>0.396350</td>\n",
       "      <td>0.402529</td>\n",
       "      <td>0.505763</td>\n",
       "      <td>0.512908</td>\n",
       "      <td>0.449311</td>\n",
       "      <td>0.521564</td>\n",
       "      <td>0.382782</td>\n",
       "    </tr>\n",
       "    <tr>\n",
       "      <th>T_cells_CD4</th>\n",
       "      <td>-0.042384</td>\n",
       "      <td>0.050694</td>\n",
       "      <td>0.004308</td>\n",
       "      <td>-0.207399</td>\n",
       "      <td>-0.165377</td>\n",
       "      <td>-0.208819</td>\n",
       "      <td>-0.255628</td>\n",
       "      <td>-0.257014</td>\n",
       "      <td>-0.333821</td>\n",
       "      <td>-0.314090</td>\n",
       "      <td>...</td>\n",
       "      <td>-0.263731</td>\n",
       "      <td>-0.148920</td>\n",
       "      <td>-0.276321</td>\n",
       "      <td>-0.170624</td>\n",
       "      <td>-0.266695</td>\n",
       "      <td>0.002644</td>\n",
       "      <td>-0.044748</td>\n",
       "      <td>-0.136003</td>\n",
       "      <td>-0.058358</td>\n",
       "      <td>-0.254172</td>\n",
       "    </tr>\n",
       "    <tr>\n",
       "      <th>T_cells_CD8</th>\n",
       "      <td>-0.017664</td>\n",
       "      <td>0.060364</td>\n",
       "      <td>-0.000962</td>\n",
       "      <td>-0.153047</td>\n",
       "      <td>-0.133178</td>\n",
       "      <td>-0.183371</td>\n",
       "      <td>-0.250569</td>\n",
       "      <td>-0.248262</td>\n",
       "      <td>-0.325777</td>\n",
       "      <td>-0.280394</td>\n",
       "      <td>...</td>\n",
       "      <td>-0.250714</td>\n",
       "      <td>-0.179655</td>\n",
       "      <td>-0.287451</td>\n",
       "      <td>-0.188185</td>\n",
       "      <td>-0.219502</td>\n",
       "      <td>0.002935</td>\n",
       "      <td>-0.005583</td>\n",
       "      <td>-0.084019</td>\n",
       "      <td>-0.045147</td>\n",
       "      <td>-0.269410</td>\n",
       "    </tr>\n",
       "    <tr>\n",
       "      <th>T_cells_gamma_delta</th>\n",
       "      <td>-0.038414</td>\n",
       "      <td>0.052337</td>\n",
       "      <td>-0.005596</td>\n",
       "      <td>-0.151517</td>\n",
       "      <td>-0.140392</td>\n",
       "      <td>-0.208642</td>\n",
       "      <td>-0.297564</td>\n",
       "      <td>-0.266138</td>\n",
       "      <td>-0.367513</td>\n",
       "      <td>-0.289465</td>\n",
       "      <td>...</td>\n",
       "      <td>-0.346152</td>\n",
       "      <td>-0.189331</td>\n",
       "      <td>-0.311887</td>\n",
       "      <td>-0.237372</td>\n",
       "      <td>-0.251334</td>\n",
       "      <td>-0.058035</td>\n",
       "      <td>-0.047690</td>\n",
       "      <td>-0.156334</td>\n",
       "      <td>-0.051404</td>\n",
       "      <td>-0.335890</td>\n",
       "    </tr>\n",
       "    <tr>\n",
       "      <th>T_regulatory_cells</th>\n",
       "      <td>-0.108068</td>\n",
       "      <td>0.054963</td>\n",
       "      <td>-0.088210</td>\n",
       "      <td>-0.117862</td>\n",
       "      <td>-0.184319</td>\n",
       "      <td>-0.183183</td>\n",
       "      <td>-0.213260</td>\n",
       "      <td>-0.254521</td>\n",
       "      <td>-0.324164</td>\n",
       "      <td>-0.332699</td>\n",
       "      <td>...</td>\n",
       "      <td>-0.290274</td>\n",
       "      <td>-0.119889</td>\n",
       "      <td>-0.306815</td>\n",
       "      <td>-0.224312</td>\n",
       "      <td>-0.232095</td>\n",
       "      <td>0.037718</td>\n",
       "      <td>-0.043270</td>\n",
       "      <td>-0.188168</td>\n",
       "      <td>-0.111135</td>\n",
       "      <td>-0.293895</td>\n",
       "    </tr>\n",
       "  </tbody>\n",
       "</table>\n",
       "<p>5 rows × 38 columns</p>\n",
       "</div>"
      ],
      "text/plain": [
       "                          A01       A02       A03       A04       A05  \\\n",
       "Term                                                                    \n",
       "Plasma_cells         0.535331  0.531357  0.438544  0.487098  0.436365   \n",
       "T_cells_CD4         -0.042384  0.050694  0.004308 -0.207399 -0.165377   \n",
       "T_cells_CD8         -0.017664  0.060364 -0.000962 -0.153047 -0.133178   \n",
       "T_cells_gamma_delta -0.038414  0.052337 -0.005596 -0.151517 -0.140392   \n",
       "T_regulatory_cells  -0.108068  0.054963 -0.088210 -0.117862 -0.184319   \n",
       "\n",
       "                          A06       A07       A08       A09       A10  ...  \\\n",
       "Term                                                                   ...   \n",
       "Plasma_cells         0.331769  0.349640  0.328983  0.351515  0.311369  ...   \n",
       "T_cells_CD4         -0.208819 -0.255628 -0.257014 -0.333821 -0.314090  ...   \n",
       "T_cells_CD8         -0.183371 -0.250569 -0.248262 -0.325777 -0.280394  ...   \n",
       "T_cells_gamma_delta -0.208642 -0.297564 -0.266138 -0.367513 -0.289465  ...   \n",
       "T_regulatory_cells  -0.183183 -0.213260 -0.254521 -0.324164 -0.332699  ...   \n",
       "\n",
       "                          C06       C07       C08       C09       C10  \\\n",
       "Term                                                                    \n",
       "Plasma_cells         0.457048  0.485839  0.320825  0.396350  0.402529   \n",
       "T_cells_CD4         -0.263731 -0.148920 -0.276321 -0.170624 -0.266695   \n",
       "T_cells_CD8         -0.250714 -0.179655 -0.287451 -0.188185 -0.219502   \n",
       "T_cells_gamma_delta -0.346152 -0.189331 -0.311887 -0.237372 -0.251334   \n",
       "T_regulatory_cells  -0.290274 -0.119889 -0.306815 -0.224312 -0.232095   \n",
       "\n",
       "                          C11       C12       D01       D02       D03  \n",
       "Term                                                                   \n",
       "Plasma_cells         0.505763  0.512908  0.449311  0.521564  0.382782  \n",
       "T_cells_CD4          0.002644 -0.044748 -0.136003 -0.058358 -0.254172  \n",
       "T_cells_CD8          0.002935 -0.005583 -0.084019 -0.045147 -0.269410  \n",
       "T_cells_gamma_delta -0.058035 -0.047690 -0.156334 -0.051404 -0.335890  \n",
       "T_regulatory_cells   0.037718 -0.043270 -0.188168 -0.111135 -0.293895  \n",
       "\n",
       "[5 rows x 38 columns]"
      ]
     },
     "execution_count": 13,
     "metadata": {},
     "output_type": "execute_result"
    }
   ],
   "source": [
    "data_nes.tail()"
   ]
  },
  {
   "cell_type": "markdown",
   "metadata": {},
   "source": [
    "### Define gene set colors"
   ]
  },
  {
   "cell_type": "code",
   "execution_count": 14,
   "metadata": {},
   "outputs": [],
   "source": [
    "GREEN = '#007F00'\n",
    "RED = '#CC0000'\n",
    "GREY = '#D3D3D3'\n",
    "BLUE = '#0000E5'\n",
    "YELLOW = '#FFFF00'\n",
    "\n",
    "color_sets = {\n",
    "'Endothelial':                                  RED,\n",
    "'B_cells':                                      '#A6CDE1',\n",
    "'T_cells_CD8':                                  '#FFDD15',\n",
    "'Cytotoxic_cells':                              '#FFD400',\n",
    "'cytotoxic':                                    '#FFD400',\n",
    "'Dendritic_cells':                              '#A181BA',\n",
    "'Eosinophils':                                  '#D8AF62',\n",
    "'Macrophages':                                  '#F58A21',\n",
    "'Macrophages_M1':                               '#F58A21',\n",
    "'Macrophages_M2':                               '#F58A21',\n",
    "'Monocytes':                                    '#F58A21',\n",
    "'Mast_cells':                                   '#F7F29B',\n",
    "'NK_cells':                                     '#70B09D',\n",
    "'Neutrophils':                                  '#B05A28',\n",
    "'T_cells_gamma_delta':                          '#4F9F45',\n",
    "'T_cells_CD4':                                  '#EC1C24',\n",
    "'T_regulatory_cells':                           '#67B853',\n",
    "'Plasma_cells':                                 '#A6CDE1',\n",
    "'Fibroblasts':                                  BLUE,\n",
    "'TumourCellularity_mRNA':                       'k'\n",
    "}"
   ]
  },
  {
   "cell_type": "code",
   "execution_count": 15,
   "metadata": {},
   "outputs": [],
   "source": [
    "color_sets_df = pd.DataFrame.from_dict(color_sets, orient='index')"
   ]
  },
  {
   "cell_type": "code",
   "execution_count": 16,
   "metadata": {},
   "outputs": [
    {
     "data": {
      "text/html": [
       "<div>\n",
       "<style scoped>\n",
       "    .dataframe tbody tr th:only-of-type {\n",
       "        vertical-align: middle;\n",
       "    }\n",
       "\n",
       "    .dataframe tbody tr th {\n",
       "        vertical-align: top;\n",
       "    }\n",
       "\n",
       "    .dataframe thead th {\n",
       "        text-align: right;\n",
       "    }\n",
       "</style>\n",
       "<table border=\"1\" class=\"dataframe\">\n",
       "  <thead>\n",
       "    <tr style=\"text-align: right;\">\n",
       "      <th></th>\n",
       "      <th>0</th>\n",
       "    </tr>\n",
       "  </thead>\n",
       "  <tbody>\n",
       "    <tr>\n",
       "      <th>Endothelial</th>\n",
       "      <td>#CC0000</td>\n",
       "    </tr>\n",
       "    <tr>\n",
       "      <th>B_cells</th>\n",
       "      <td>#A6CDE1</td>\n",
       "    </tr>\n",
       "    <tr>\n",
       "      <th>T_cells_CD8</th>\n",
       "      <td>#FFDD15</td>\n",
       "    </tr>\n",
       "    <tr>\n",
       "      <th>Cytotoxic_cells</th>\n",
       "      <td>#FFD400</td>\n",
       "    </tr>\n",
       "    <tr>\n",
       "      <th>cytotoxic</th>\n",
       "      <td>#FFD400</td>\n",
       "    </tr>\n",
       "  </tbody>\n",
       "</table>\n",
       "</div>"
      ],
      "text/plain": [
       "                       0\n",
       "Endothelial      #CC0000\n",
       "B_cells          #A6CDE1\n",
       "T_cells_CD8      #FFDD15\n",
       "Cytotoxic_cells  #FFD400\n",
       "cytotoxic        #FFD400"
      ]
     },
     "execution_count": 16,
     "metadata": {},
     "output_type": "execute_result"
    }
   ],
   "source": [
    "color_sets_df.head()"
   ]
  },
  {
   "cell_type": "markdown",
   "metadata": {},
   "source": [
    "### Map tumour cellularity info to cmap (missing tumour cellularity set to red)"
   ]
  },
  {
   "cell_type": "code",
   "execution_count": 17,
   "metadata": {},
   "outputs": [],
   "source": [
    "median_tumcell = sample_labels['TumourCellularity_WES'].median()\n",
    "sample_labels['TumCell_WES_bin'] = sample_labels['TumourCellularity_WES'] > median_tumcell"
   ]
  },
  {
   "cell_type": "code",
   "execution_count": 18,
   "metadata": {},
   "outputs": [],
   "source": [
    "sample_labels['TumCell_WES_bin'].replace([True,False],\n",
    "                                         ['k','w'],\n",
    "                                         inplace=True)"
   ]
  },
  {
   "cell_type": "code",
   "execution_count": 19,
   "metadata": {},
   "outputs": [
    {
     "name": "stdout",
     "output_type": "stream",
     "text": [
      "NaN Runtimewarning Due To Samples With Missing Purity Caught and Accounted For\n"
     ]
    }
   ],
   "source": [
    "cmp = plt.cm.binary\n",
    "norm = matplotlib.colors.Normalize(vmin=sample_labels['TumourCellularity_WES'].min(),\n",
    "                                   vmax=sample_labels['TumourCellularity_WES'].max(),\n",
    "                                   clip=False)\n",
    "\n",
    "mapper = cm.ScalarMappable(norm=norm,\n",
    "                           cmap=cm.binary)\n",
    "\n",
    "with warnings.catch_warnings():\n",
    "    \n",
    "    warnings.simplefilter(\"ignore\")\n",
    "    tumcell_vals = mapper.to_rgba(sample_labels['TumourCellularity_WES'])\n",
    "    print ('NaN Runtimewarning Due To Samples With Missing Purity Caught and Accounted For')\n",
    "\n",
    "    na_ind = [i for i, x in enumerate(sample_labels['TumourCellularity_WES'].isna()) if x]\n",
    "\n",
    "tumcell_vals[na_ind] = [0,0,0,0]"
   ]
  },
  {
   "cell_type": "markdown",
   "metadata": {},
   "source": [
    "### Plot"
   ]
  },
  {
   "cell_type": "code",
   "execution_count": 20,
   "metadata": {},
   "outputs": [
    {
     "data": {
      "image/png": "[encoded data removed]",
      "text/plain": [
       "<Figure size 1440x1440 with 6 Axes>"
      ]
     },
     "metadata": {},
     "output_type": "display_data"
    }
   ],
   "source": [
    "g = sns.clustermap(data_nes,\n",
    "                   cmap='seismic',\n",
    "                   center=0,\n",
    "                   figsize = (20,20),\n",
    "                   col_colors=[tumcell_vals,\n",
    "                               sample_labels['Colour']],\n",
    "                   row_colors=color_sets_df[0],\n",
    "                  linewidths=0.0, rasterized=True)"
   ]
  },
  {
   "cell_type": "markdown",
   "metadata": {},
   "source": [
    "### Save plot"
   ]
  },
  {
   "cell_type": "code",
   "execution_count": 21,
   "metadata": {},
   "outputs": [],
   "source": [
    "FILE = \"../../Figures/supplementary/3/panels/s3d_TreatmentNaive_ConsensusTME_NES_clustermap.pdf\"\n",
    "\n",
    "g.savefig(FILE, bbox='tight')"
   ]
  },
  {
   "cell_type": "code",
   "execution_count": 22,
   "metadata": {},
   "outputs": [
    {
     "data": {
      "text/plain": [
       "(18, 38)"
      ]
     },
     "execution_count": 22,
     "metadata": {},
     "output_type": "execute_result"
    }
   ],
   "source": [
    "data_nes.shape"
   ]
  },
  {
   "cell_type": "markdown",
   "metadata": {},
   "source": [
    "# End script"
   ]
  }
 ],
 "metadata": {
  "kernelspec": {
   "display_name": "Python 3",
   "language": "python",
   "name": "python3"
  },
  "language_info": {
   "codemirror_mode": {
    "name": "ipython",
    "version": 3
   },
   "file_extension": ".py",
   "mimetype": "text/x-python",
   "name": "python",
   "nbconvert_exporter": "python",
   "pygments_lexer": "ipython3",
   "version": "3.6.8"
  }
 },
 "nbformat": 4,
 "nbformat_minor": 2
}

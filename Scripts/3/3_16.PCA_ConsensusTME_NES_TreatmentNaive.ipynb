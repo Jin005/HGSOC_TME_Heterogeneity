{
 "cells": [
  {
   "cell_type": "markdown",
   "metadata": {},
   "source": [
    "# Perform PCA of treatment naive samples ConsensusTME NES"
   ]
  },
  {
   "cell_type": "markdown",
   "metadata": {},
   "source": [
    "Script related to figure 3c, s3e-f\n",
    "\n",
    "### Aim:\n",
    "- See how ConsensusTME NES cluster across patients"
   ]
  },
  {
   "cell_type": "code",
   "execution_count": 1,
   "metadata": {},
   "outputs": [
    {
     "name": "stdout",
     "output_type": "stream",
     "text": [
      "Python 3.6.8 :: Anaconda custom (64-bit)\r\n"
     ]
    }
   ],
   "source": [
    "!python --version"
   ]
  },
  {
   "cell_type": "markdown",
   "metadata": {},
   "source": [
    "## Import packages"
   ]
  },
  {
   "cell_type": "code",
   "execution_count": 2,
   "metadata": {},
   "outputs": [],
   "source": [
    "import numpy as np\n",
    "import pandas as pd\n",
    "import seaborn as sns\n",
    "import matplotlib.pyplot as plt\n",
    "from sklearn.decomposition import PCA"
   ]
  },
  {
   "cell_type": "code",
   "execution_count": 3,
   "metadata": {},
   "outputs": [],
   "source": [
    "home = \"~/git_repos/HGSOC_TME_Heterogeneity/\""
   ]
  },
  {
   "cell_type": "markdown",
   "metadata": {},
   "source": [
    "## Get sample labels"
   ]
  },
  {
   "cell_type": "markdown",
   "metadata": {},
   "source": [
    "### Load file"
   ]
  },
  {
   "cell_type": "code",
   "execution_count": 4,
   "metadata": {},
   "outputs": [],
   "source": [
    "file_keys = home + 'Data/1/TreatmentNaive_SampleLabels_WESTumourCellularity.txt'\n",
    "\n",
    "sample_labels = pd.read_csv(file_keys,\n",
    "                            sep='\\t',\n",
    "                            index_col='Well')"
   ]
  },
  {
   "cell_type": "code",
   "execution_count": 5,
   "metadata": {},
   "outputs": [
    {
     "data": {
      "text/html": [
       "<div>\n",
       "<style scoped>\n",
       "    .dataframe tbody tr th:only-of-type {\n",
       "        vertical-align: middle;\n",
       "    }\n",
       "\n",
       "    .dataframe tbody tr th {\n",
       "        vertical-align: top;\n",
       "    }\n",
       "\n",
       "    .dataframe thead th {\n",
       "        text-align: right;\n",
       "    }\n",
       "</style>\n",
       "<table border=\"1\" class=\"dataframe\">\n",
       "  <thead>\n",
       "    <tr style=\"text-align: right;\">\n",
       "      <th></th>\n",
       "      <th>Label</th>\n",
       "      <th>Key</th>\n",
       "      <th>Case_mRNA</th>\n",
       "      <th>Site</th>\n",
       "      <th>Habitat</th>\n",
       "      <th>Case_WES</th>\n",
       "      <th>Tumour_WES</th>\n",
       "      <th>Colour</th>\n",
       "      <th>Site_marker</th>\n",
       "      <th>TumourCellularity_WES</th>\n",
       "    </tr>\n",
       "    <tr>\n",
       "      <th>Well</th>\n",
       "      <th></th>\n",
       "      <th></th>\n",
       "      <th></th>\n",
       "      <th></th>\n",
       "      <th></th>\n",
       "      <th></th>\n",
       "      <th></th>\n",
       "      <th></th>\n",
       "      <th></th>\n",
       "      <th></th>\n",
       "    </tr>\n",
       "  </thead>\n",
       "  <tbody>\n",
       "    <tr>\n",
       "      <th>A01</th>\n",
       "      <td>A01_3640_5_Omentum</td>\n",
       "      <td>case10_omentum_green</td>\n",
       "      <td>10</td>\n",
       "      <td>omentum</td>\n",
       "      <td>green</td>\n",
       "      <td>10.0</td>\n",
       "      <td>5</td>\n",
       "      <td>#ff7f00</td>\n",
       "      <td>^</td>\n",
       "      <td>0.5973</td>\n",
       "    </tr>\n",
       "    <tr>\n",
       "      <th>A02</th>\n",
       "      <td>A02_3640_7_Omentum</td>\n",
       "      <td>case10_omentum_blue</td>\n",
       "      <td>10</td>\n",
       "      <td>omentum</td>\n",
       "      <td>blue</td>\n",
       "      <td>10.0</td>\n",
       "      <td>7</td>\n",
       "      <td>#ff7f00</td>\n",
       "      <td>^</td>\n",
       "      <td>0.5065</td>\n",
       "    </tr>\n",
       "    <tr>\n",
       "      <th>A03</th>\n",
       "      <td>A03_3640_9_Paracolic_Gutter</td>\n",
       "      <td>case10_paracolic_yellow</td>\n",
       "      <td>10</td>\n",
       "      <td>other</td>\n",
       "      <td>yellow</td>\n",
       "      <td>10.0</td>\n",
       "      <td>8</td>\n",
       "      <td>#ff7f00</td>\n",
       "      <td>s</td>\n",
       "      <td>0.4551</td>\n",
       "    </tr>\n",
       "    <tr>\n",
       "      <th>A04</th>\n",
       "      <td>A04_3640_17_R_Adnexa</td>\n",
       "      <td>case10_Radnexa_yellow</td>\n",
       "      <td>10</td>\n",
       "      <td>ovary</td>\n",
       "      <td>yellow</td>\n",
       "      <td>10.0</td>\n",
       "      <td>17</td>\n",
       "      <td>#ff7f00</td>\n",
       "      <td>o</td>\n",
       "      <td>0.6496</td>\n",
       "    </tr>\n",
       "    <tr>\n",
       "      <th>A05</th>\n",
       "      <td>A05_3640_18_R_Adnexa</td>\n",
       "      <td>case10_Radnexa_blue</td>\n",
       "      <td>10</td>\n",
       "      <td>ovary</td>\n",
       "      <td>blue</td>\n",
       "      <td>10.0</td>\n",
       "      <td>18</td>\n",
       "      <td>#ff7f00</td>\n",
       "      <td>o</td>\n",
       "      <td>0.6706</td>\n",
       "    </tr>\n",
       "  </tbody>\n",
       "</table>\n",
       "</div>"
      ],
      "text/plain": [
       "                            Label                      Key  Case_mRNA  \\\n",
       "Well                                                                    \n",
       "A01            A01_3640_5_Omentum     case10_omentum_green         10   \n",
       "A02            A02_3640_7_Omentum      case10_omentum_blue         10   \n",
       "A03   A03_3640_9_Paracolic_Gutter  case10_paracolic_yellow         10   \n",
       "A04          A04_3640_17_R_Adnexa    case10_Radnexa_yellow         10   \n",
       "A05          A05_3640_18_R_Adnexa      case10_Radnexa_blue         10   \n",
       "\n",
       "         Site Habitat  Case_WES Tumour_WES   Colour Site_marker  \\\n",
       "Well                                                              \n",
       "A01   omentum   green      10.0          5  #ff7f00           ^   \n",
       "A02   omentum    blue      10.0          7  #ff7f00           ^   \n",
       "A03     other  yellow      10.0          8  #ff7f00           s   \n",
       "A04     ovary  yellow      10.0         17  #ff7f00           o   \n",
       "A05     ovary    blue      10.0         18  #ff7f00           o   \n",
       "\n",
       "      TumourCellularity_WES  \n",
       "Well                         \n",
       "A01                  0.5973  \n",
       "A02                  0.5065  \n",
       "A03                  0.4551  \n",
       "A04                  0.6496  \n",
       "A05                  0.6706  "
      ]
     },
     "execution_count": 5,
     "metadata": {},
     "output_type": "execute_result"
    }
   ],
   "source": [
    "sample_labels.head()"
   ]
  },
  {
   "cell_type": "markdown",
   "metadata": {},
   "source": [
    "### Define sample colours"
   ]
  },
  {
   "cell_type": "code",
   "execution_count": 6,
   "metadata": {},
   "outputs": [],
   "source": [
    "case_mrna = list(set(sample_labels['Case_mRNA']))\n",
    "\n",
    "colours = sns.color_palette(\"Set1\", 8).as_hex()\n",
    "\n",
    "sample_labels['Colour'] = sample_labels['Case_mRNA'].replace(case_mrna, colours)"
   ]
  },
  {
   "cell_type": "markdown",
   "metadata": {},
   "source": [
    "### Define sample markers"
   ]
  },
  {
   "cell_type": "code",
   "execution_count": 7,
   "metadata": {},
   "outputs": [],
   "source": [
    "sites = ['ovary','omentum','other']\n",
    "markers = ['o','^','s']\n",
    "\n",
    "sample_labels['Site_marker'] = sample_labels['Site'].replace(sites,markers)"
   ]
  },
  {
   "cell_type": "code",
   "execution_count": 8,
   "metadata": {},
   "outputs": [
    {
     "data": {
      "text/html": [
       "<div>\n",
       "<style scoped>\n",
       "    .dataframe tbody tr th:only-of-type {\n",
       "        vertical-align: middle;\n",
       "    }\n",
       "\n",
       "    .dataframe tbody tr th {\n",
       "        vertical-align: top;\n",
       "    }\n",
       "\n",
       "    .dataframe thead th {\n",
       "        text-align: right;\n",
       "    }\n",
       "</style>\n",
       "<table border=\"1\" class=\"dataframe\">\n",
       "  <thead>\n",
       "    <tr style=\"text-align: right;\">\n",
       "      <th></th>\n",
       "      <th>Label</th>\n",
       "      <th>Key</th>\n",
       "      <th>Case_mRNA</th>\n",
       "      <th>Site</th>\n",
       "      <th>Habitat</th>\n",
       "      <th>Case_WES</th>\n",
       "      <th>Tumour_WES</th>\n",
       "      <th>Colour</th>\n",
       "      <th>Site_marker</th>\n",
       "      <th>TumourCellularity_WES</th>\n",
       "    </tr>\n",
       "    <tr>\n",
       "      <th>Well</th>\n",
       "      <th></th>\n",
       "      <th></th>\n",
       "      <th></th>\n",
       "      <th></th>\n",
       "      <th></th>\n",
       "      <th></th>\n",
       "      <th></th>\n",
       "      <th></th>\n",
       "      <th></th>\n",
       "      <th></th>\n",
       "    </tr>\n",
       "  </thead>\n",
       "  <tbody>\n",
       "    <tr>\n",
       "      <th>A01</th>\n",
       "      <td>A01_3640_5_Omentum</td>\n",
       "      <td>case10_omentum_green</td>\n",
       "      <td>10</td>\n",
       "      <td>omentum</td>\n",
       "      <td>green</td>\n",
       "      <td>10.0</td>\n",
       "      <td>5</td>\n",
       "      <td>#ff7f00</td>\n",
       "      <td>^</td>\n",
       "      <td>0.5973</td>\n",
       "    </tr>\n",
       "    <tr>\n",
       "      <th>A02</th>\n",
       "      <td>A02_3640_7_Omentum</td>\n",
       "      <td>case10_omentum_blue</td>\n",
       "      <td>10</td>\n",
       "      <td>omentum</td>\n",
       "      <td>blue</td>\n",
       "      <td>10.0</td>\n",
       "      <td>7</td>\n",
       "      <td>#ff7f00</td>\n",
       "      <td>^</td>\n",
       "      <td>0.5065</td>\n",
       "    </tr>\n",
       "    <tr>\n",
       "      <th>A03</th>\n",
       "      <td>A03_3640_9_Paracolic_Gutter</td>\n",
       "      <td>case10_paracolic_yellow</td>\n",
       "      <td>10</td>\n",
       "      <td>other</td>\n",
       "      <td>yellow</td>\n",
       "      <td>10.0</td>\n",
       "      <td>8</td>\n",
       "      <td>#ff7f00</td>\n",
       "      <td>s</td>\n",
       "      <td>0.4551</td>\n",
       "    </tr>\n",
       "    <tr>\n",
       "      <th>A04</th>\n",
       "      <td>A04_3640_17_R_Adnexa</td>\n",
       "      <td>case10_Radnexa_yellow</td>\n",
       "      <td>10</td>\n",
       "      <td>ovary</td>\n",
       "      <td>yellow</td>\n",
       "      <td>10.0</td>\n",
       "      <td>17</td>\n",
       "      <td>#ff7f00</td>\n",
       "      <td>o</td>\n",
       "      <td>0.6496</td>\n",
       "    </tr>\n",
       "    <tr>\n",
       "      <th>A05</th>\n",
       "      <td>A05_3640_18_R_Adnexa</td>\n",
       "      <td>case10_Radnexa_blue</td>\n",
       "      <td>10</td>\n",
       "      <td>ovary</td>\n",
       "      <td>blue</td>\n",
       "      <td>10.0</td>\n",
       "      <td>18</td>\n",
       "      <td>#ff7f00</td>\n",
       "      <td>o</td>\n",
       "      <td>0.6706</td>\n",
       "    </tr>\n",
       "  </tbody>\n",
       "</table>\n",
       "</div>"
      ],
      "text/plain": [
       "                            Label                      Key  Case_mRNA  \\\n",
       "Well                                                                    \n",
       "A01            A01_3640_5_Omentum     case10_omentum_green         10   \n",
       "A02            A02_3640_7_Omentum      case10_omentum_blue         10   \n",
       "A03   A03_3640_9_Paracolic_Gutter  case10_paracolic_yellow         10   \n",
       "A04          A04_3640_17_R_Adnexa    case10_Radnexa_yellow         10   \n",
       "A05          A05_3640_18_R_Adnexa      case10_Radnexa_blue         10   \n",
       "\n",
       "         Site Habitat  Case_WES Tumour_WES   Colour Site_marker  \\\n",
       "Well                                                              \n",
       "A01   omentum   green      10.0          5  #ff7f00           ^   \n",
       "A02   omentum    blue      10.0          7  #ff7f00           ^   \n",
       "A03     other  yellow      10.0          8  #ff7f00           s   \n",
       "A04     ovary  yellow      10.0         17  #ff7f00           o   \n",
       "A05     ovary    blue      10.0         18  #ff7f00           o   \n",
       "\n",
       "      TumourCellularity_WES  \n",
       "Well                         \n",
       "A01                  0.5973  \n",
       "A02                  0.5065  \n",
       "A03                  0.4551  \n",
       "A04                  0.6496  \n",
       "A05                  0.6706  "
      ]
     },
     "execution_count": 8,
     "metadata": {},
     "output_type": "execute_result"
    }
   ],
   "source": [
    "sample_labels.head()"
   ]
  },
  {
   "cell_type": "markdown",
   "metadata": {},
   "source": [
    "## Load ssGSEA results"
   ]
  },
  {
   "cell_type": "code",
   "execution_count": 9,
   "metadata": {},
   "outputs": [],
   "source": [
    "file_nes = home + 'Data/3/ConsensusTME_TreatmentNaive_NES.txt'\n",
    "\n",
    "data_nes = pd.read_csv(file_nes,\n",
    "                       sep='\\t')\n",
    "\n",
    "data_nes.set_index('Term',\n",
    "                   inplace=True)"
   ]
  },
  {
   "cell_type": "code",
   "execution_count": 10,
   "metadata": {},
   "outputs": [
    {
     "data": {
      "text/html": [
       "<div>\n",
       "<style scoped>\n",
       "    .dataframe tbody tr th:only-of-type {\n",
       "        vertical-align: middle;\n",
       "    }\n",
       "\n",
       "    .dataframe tbody tr th {\n",
       "        vertical-align: top;\n",
       "    }\n",
       "\n",
       "    .dataframe thead th {\n",
       "        text-align: right;\n",
       "    }\n",
       "</style>\n",
       "<table border=\"1\" class=\"dataframe\">\n",
       "  <thead>\n",
       "    <tr style=\"text-align: right;\">\n",
       "      <th></th>\n",
       "      <th>A01</th>\n",
       "      <th>A02</th>\n",
       "      <th>A03</th>\n",
       "      <th>A04</th>\n",
       "      <th>A05</th>\n",
       "      <th>A06</th>\n",
       "      <th>A07</th>\n",
       "      <th>A08</th>\n",
       "      <th>A09</th>\n",
       "      <th>A10</th>\n",
       "      <th>...</th>\n",
       "      <th>C06</th>\n",
       "      <th>C07</th>\n",
       "      <th>C08</th>\n",
       "      <th>C09</th>\n",
       "      <th>C10</th>\n",
       "      <th>C11</th>\n",
       "      <th>C12</th>\n",
       "      <th>D01</th>\n",
       "      <th>D02</th>\n",
       "      <th>D03</th>\n",
       "    </tr>\n",
       "    <tr>\n",
       "      <th>Term</th>\n",
       "      <th></th>\n",
       "      <th></th>\n",
       "      <th></th>\n",
       "      <th></th>\n",
       "      <th></th>\n",
       "      <th></th>\n",
       "      <th></th>\n",
       "      <th></th>\n",
       "      <th></th>\n",
       "      <th></th>\n",
       "      <th></th>\n",
       "      <th></th>\n",
       "      <th></th>\n",
       "      <th></th>\n",
       "      <th></th>\n",
       "      <th></th>\n",
       "      <th></th>\n",
       "      <th></th>\n",
       "      <th></th>\n",
       "      <th></th>\n",
       "      <th></th>\n",
       "    </tr>\n",
       "  </thead>\n",
       "  <tbody>\n",
       "    <tr>\n",
       "      <th>B_cells</th>\n",
       "      <td>0.038479</td>\n",
       "      <td>0.154999</td>\n",
       "      <td>0.131586</td>\n",
       "      <td>0.088623</td>\n",
       "      <td>0.038772</td>\n",
       "      <td>-0.017512</td>\n",
       "      <td>-0.047078</td>\n",
       "      <td>-0.086647</td>\n",
       "      <td>-0.199374</td>\n",
       "      <td>-0.054448</td>\n",
       "      <td>...</td>\n",
       "      <td>0.012504</td>\n",
       "      <td>0.114890</td>\n",
       "      <td>-0.036248</td>\n",
       "      <td>0.016278</td>\n",
       "      <td>-0.012882</td>\n",
       "      <td>0.144749</td>\n",
       "      <td>0.120451</td>\n",
       "      <td>0.104527</td>\n",
       "      <td>0.083152</td>\n",
       "      <td>-0.065881</td>\n",
       "    </tr>\n",
       "    <tr>\n",
       "      <th>Cytotoxic_cells</th>\n",
       "      <td>0.210148</td>\n",
       "      <td>0.187567</td>\n",
       "      <td>0.153687</td>\n",
       "      <td>-0.144163</td>\n",
       "      <td>0.003858</td>\n",
       "      <td>-0.155173</td>\n",
       "      <td>-0.290251</td>\n",
       "      <td>-0.170454</td>\n",
       "      <td>-0.416859</td>\n",
       "      <td>-0.319623</td>\n",
       "      <td>...</td>\n",
       "      <td>-0.345901</td>\n",
       "      <td>-0.250878</td>\n",
       "      <td>-0.304831</td>\n",
       "      <td>-0.221868</td>\n",
       "      <td>-0.305614</td>\n",
       "      <td>-0.003971</td>\n",
       "      <td>-0.002669</td>\n",
       "      <td>-0.075072</td>\n",
       "      <td>-0.086188</td>\n",
       "      <td>-0.243335</td>\n",
       "    </tr>\n",
       "    <tr>\n",
       "      <th>Dendritic_cells</th>\n",
       "      <td>0.189096</td>\n",
       "      <td>0.226787</td>\n",
       "      <td>0.275280</td>\n",
       "      <td>0.044318</td>\n",
       "      <td>0.094001</td>\n",
       "      <td>0.092652</td>\n",
       "      <td>-0.010609</td>\n",
       "      <td>0.014540</td>\n",
       "      <td>-0.053804</td>\n",
       "      <td>-0.020696</td>\n",
       "      <td>...</td>\n",
       "      <td>0.024979</td>\n",
       "      <td>0.133931</td>\n",
       "      <td>0.030942</td>\n",
       "      <td>0.075847</td>\n",
       "      <td>0.023800</td>\n",
       "      <td>0.168763</td>\n",
       "      <td>0.151665</td>\n",
       "      <td>0.143299</td>\n",
       "      <td>0.211832</td>\n",
       "      <td>0.002961</td>\n",
       "    </tr>\n",
       "    <tr>\n",
       "      <th>Endothelial</th>\n",
       "      <td>0.157806</td>\n",
       "      <td>0.163239</td>\n",
       "      <td>0.208535</td>\n",
       "      <td>0.016865</td>\n",
       "      <td>0.032350</td>\n",
       "      <td>0.052494</td>\n",
       "      <td>-0.086343</td>\n",
       "      <td>0.001588</td>\n",
       "      <td>-0.045086</td>\n",
       "      <td>-0.030739</td>\n",
       "      <td>...</td>\n",
       "      <td>0.037816</td>\n",
       "      <td>0.161829</td>\n",
       "      <td>0.084950</td>\n",
       "      <td>0.095482</td>\n",
       "      <td>-0.077438</td>\n",
       "      <td>0.132625</td>\n",
       "      <td>0.166421</td>\n",
       "      <td>0.091700</td>\n",
       "      <td>0.119399</td>\n",
       "      <td>-0.119859</td>\n",
       "    </tr>\n",
       "    <tr>\n",
       "      <th>Eosinophils</th>\n",
       "      <td>0.200823</td>\n",
       "      <td>0.197690</td>\n",
       "      <td>0.271950</td>\n",
       "      <td>-0.022362</td>\n",
       "      <td>0.083034</td>\n",
       "      <td>0.079010</td>\n",
       "      <td>-0.055555</td>\n",
       "      <td>-0.011277</td>\n",
       "      <td>-0.048784</td>\n",
       "      <td>-0.128144</td>\n",
       "      <td>...</td>\n",
       "      <td>0.029711</td>\n",
       "      <td>0.080649</td>\n",
       "      <td>-0.048187</td>\n",
       "      <td>0.134062</td>\n",
       "      <td>0.032138</td>\n",
       "      <td>0.166387</td>\n",
       "      <td>0.158940</td>\n",
       "      <td>0.207949</td>\n",
       "      <td>0.205483</td>\n",
       "      <td>-0.054183</td>\n",
       "    </tr>\n",
       "  </tbody>\n",
       "</table>\n",
       "<p>5 rows × 38 columns</p>\n",
       "</div>"
      ],
      "text/plain": [
       "                      A01       A02       A03       A04       A05       A06  \\\n",
       "Term                                                                          \n",
       "B_cells          0.038479  0.154999  0.131586  0.088623  0.038772 -0.017512   \n",
       "Cytotoxic_cells  0.210148  0.187567  0.153687 -0.144163  0.003858 -0.155173   \n",
       "Dendritic_cells  0.189096  0.226787  0.275280  0.044318  0.094001  0.092652   \n",
       "Endothelial      0.157806  0.163239  0.208535  0.016865  0.032350  0.052494   \n",
       "Eosinophils      0.200823  0.197690  0.271950 -0.022362  0.083034  0.079010   \n",
       "\n",
       "                      A07       A08       A09       A10  ...       C06  \\\n",
       "Term                                                     ...             \n",
       "B_cells         -0.047078 -0.086647 -0.199374 -0.054448  ...  0.012504   \n",
       "Cytotoxic_cells -0.290251 -0.170454 -0.416859 -0.319623  ... -0.345901   \n",
       "Dendritic_cells -0.010609  0.014540 -0.053804 -0.020696  ...  0.024979   \n",
       "Endothelial     -0.086343  0.001588 -0.045086 -0.030739  ...  0.037816   \n",
       "Eosinophils     -0.055555 -0.011277 -0.048784 -0.128144  ...  0.029711   \n",
       "\n",
       "                      C07       C08       C09       C10       C11       C12  \\\n",
       "Term                                                                          \n",
       "B_cells          0.114890 -0.036248  0.016278 -0.012882  0.144749  0.120451   \n",
       "Cytotoxic_cells -0.250878 -0.304831 -0.221868 -0.305614 -0.003971 -0.002669   \n",
       "Dendritic_cells  0.133931  0.030942  0.075847  0.023800  0.168763  0.151665   \n",
       "Endothelial      0.161829  0.084950  0.095482 -0.077438  0.132625  0.166421   \n",
       "Eosinophils      0.080649 -0.048187  0.134062  0.032138  0.166387  0.158940   \n",
       "\n",
       "                      D01       D02       D03  \n",
       "Term                                           \n",
       "B_cells          0.104527  0.083152 -0.065881  \n",
       "Cytotoxic_cells -0.075072 -0.086188 -0.243335  \n",
       "Dendritic_cells  0.143299  0.211832  0.002961  \n",
       "Endothelial      0.091700  0.119399 -0.119859  \n",
       "Eosinophils      0.207949  0.205483 -0.054183  \n",
       "\n",
       "[5 rows x 38 columns]"
      ]
     },
     "execution_count": 10,
     "metadata": {},
     "output_type": "execute_result"
    }
   ],
   "source": [
    "data_nes.head()"
   ]
  },
  {
   "cell_type": "markdown",
   "metadata": {},
   "source": [
    "### Check empty cells"
   ]
  },
  {
   "cell_type": "code",
   "execution_count": 11,
   "metadata": {},
   "outputs": [
    {
     "data": {
      "text/plain": [
       "{0}"
      ]
     },
     "execution_count": 11,
     "metadata": {},
     "output_type": "execute_result"
    }
   ],
   "source": [
    "set(data_nes.isnull().sum())"
   ]
  },
  {
   "cell_type": "markdown",
   "metadata": {},
   "source": [
    "## Load mRNA tumour cellularity data"
   ]
  },
  {
   "cell_type": "code",
   "execution_count": 12,
   "metadata": {},
   "outputs": [],
   "source": [
    "mRNA_tumcell_file = home + 'Data/1/TreatmentNaive_log2exp_loess_norm_filtered_ESTIMATE.txt'\n",
    "\n",
    "mRNA_tumcell = pd.read_csv(mRNA_tumcell_file,\n",
    "                           skiprows=2,\n",
    "                           sep='\\t',\n",
    "                           index_col='NAME')\n",
    "\n",
    "del(mRNA_tumcell['Description'])"
   ]
  },
  {
   "cell_type": "code",
   "execution_count": 13,
   "metadata": {},
   "outputs": [
    {
     "data": {
      "text/html": [
       "<div>\n",
       "<style scoped>\n",
       "    .dataframe tbody tr th:only-of-type {\n",
       "        vertical-align: middle;\n",
       "    }\n",
       "\n",
       "    .dataframe tbody tr th {\n",
       "        vertical-align: top;\n",
       "    }\n",
       "\n",
       "    .dataframe thead th {\n",
       "        text-align: right;\n",
       "    }\n",
       "</style>\n",
       "<table border=\"1\" class=\"dataframe\">\n",
       "  <thead>\n",
       "    <tr style=\"text-align: right;\">\n",
       "      <th></th>\n",
       "      <th>A01</th>\n",
       "      <th>A02</th>\n",
       "      <th>A03</th>\n",
       "      <th>A04</th>\n",
       "      <th>A05</th>\n",
       "      <th>A06</th>\n",
       "      <th>A07</th>\n",
       "      <th>A08</th>\n",
       "      <th>A09</th>\n",
       "      <th>A10</th>\n",
       "      <th>...</th>\n",
       "      <th>C06</th>\n",
       "      <th>C07</th>\n",
       "      <th>C08</th>\n",
       "      <th>C09</th>\n",
       "      <th>C10</th>\n",
       "      <th>C11</th>\n",
       "      <th>C12</th>\n",
       "      <th>D01</th>\n",
       "      <th>D02</th>\n",
       "      <th>D03</th>\n",
       "    </tr>\n",
       "    <tr>\n",
       "      <th>NAME</th>\n",
       "      <th></th>\n",
       "      <th></th>\n",
       "      <th></th>\n",
       "      <th></th>\n",
       "      <th></th>\n",
       "      <th></th>\n",
       "      <th></th>\n",
       "      <th></th>\n",
       "      <th></th>\n",
       "      <th></th>\n",
       "      <th></th>\n",
       "      <th></th>\n",
       "      <th></th>\n",
       "      <th></th>\n",
       "      <th></th>\n",
       "      <th></th>\n",
       "      <th></th>\n",
       "      <th></th>\n",
       "      <th></th>\n",
       "      <th></th>\n",
       "      <th></th>\n",
       "    </tr>\n",
       "  </thead>\n",
       "  <tbody>\n",
       "    <tr>\n",
       "      <th>StromalScore</th>\n",
       "      <td>213.898183</td>\n",
       "      <td>441.185072</td>\n",
       "      <td>627.161634</td>\n",
       "      <td>-257.879171</td>\n",
       "      <td>-105.932457</td>\n",
       "      <td>-179.742309</td>\n",
       "      <td>-667.871861</td>\n",
       "      <td>-554.187271</td>\n",
       "      <td>-467.547274</td>\n",
       "      <td>-424.048973</td>\n",
       "      <td>...</td>\n",
       "      <td>276.215651</td>\n",
       "      <td>819.700176</td>\n",
       "      <td>542.094611</td>\n",
       "      <td>446.049523</td>\n",
       "      <td>100.214812</td>\n",
       "      <td>640.683420</td>\n",
       "      <td>1028.302292</td>\n",
       "      <td>631.494907</td>\n",
       "      <td>843.594952</td>\n",
       "      <td>-393.705822</td>\n",
       "    </tr>\n",
       "    <tr>\n",
       "      <th>ImmuneScore</th>\n",
       "      <td>789.397143</td>\n",
       "      <td>1103.963967</td>\n",
       "      <td>996.569838</td>\n",
       "      <td>119.238243</td>\n",
       "      <td>354.124225</td>\n",
       "      <td>197.378769</td>\n",
       "      <td>-395.243536</td>\n",
       "      <td>-16.422432</td>\n",
       "      <td>-469.452988</td>\n",
       "      <td>-563.011739</td>\n",
       "      <td>...</td>\n",
       "      <td>-18.442529</td>\n",
       "      <td>526.734281</td>\n",
       "      <td>-25.089182</td>\n",
       "      <td>238.412959</td>\n",
       "      <td>-60.730519</td>\n",
       "      <td>890.081437</td>\n",
       "      <td>776.296638</td>\n",
       "      <td>680.327079</td>\n",
       "      <td>892.726571</td>\n",
       "      <td>-226.504212</td>\n",
       "    </tr>\n",
       "    <tr>\n",
       "      <th>ESTIMATEScore</th>\n",
       "      <td>1003.295326</td>\n",
       "      <td>1545.149039</td>\n",
       "      <td>1623.731472</td>\n",
       "      <td>-138.640928</td>\n",
       "      <td>248.191767</td>\n",
       "      <td>17.636459</td>\n",
       "      <td>-1063.115397</td>\n",
       "      <td>-570.609703</td>\n",
       "      <td>-937.000262</td>\n",
       "      <td>-987.060713</td>\n",
       "      <td>...</td>\n",
       "      <td>257.773122</td>\n",
       "      <td>1346.434456</td>\n",
       "      <td>517.005428</td>\n",
       "      <td>684.462482</td>\n",
       "      <td>39.484294</td>\n",
       "      <td>1530.764858</td>\n",
       "      <td>1804.598930</td>\n",
       "      <td>1311.821985</td>\n",
       "      <td>1736.321523</td>\n",
       "      <td>-620.210034</td>\n",
       "    </tr>\n",
       "    <tr>\n",
       "      <th>TumorPurity</th>\n",
       "      <td>0.730147</td>\n",
       "      <td>0.673548</td>\n",
       "      <td>0.664978</td>\n",
       "      <td>0.833913</td>\n",
       "      <td>0.801248</td>\n",
       "      <td>0.821034</td>\n",
       "      <td>0.900910</td>\n",
       "      <td>0.867208</td>\n",
       "      <td>0.892722</td>\n",
       "      <td>0.896009</td>\n",
       "      <td>...</td>\n",
       "      <td>0.800405</td>\n",
       "      <td>0.694819</td>\n",
       "      <td>0.777021</td>\n",
       "      <td>0.761314</td>\n",
       "      <td>0.819199</td>\n",
       "      <td>0.675108</td>\n",
       "      <td>0.644917</td>\n",
       "      <td>0.698464</td>\n",
       "      <td>0.652544</td>\n",
       "      <td>0.870811</td>\n",
       "    </tr>\n",
       "  </tbody>\n",
       "</table>\n",
       "<p>4 rows × 38 columns</p>\n",
       "</div>"
      ],
      "text/plain": [
       "                       A01          A02          A03         A04         A05  \\\n",
       "NAME                                                                           \n",
       "StromalScore    213.898183   441.185072   627.161634 -257.879171 -105.932457   \n",
       "ImmuneScore     789.397143  1103.963967   996.569838  119.238243  354.124225   \n",
       "ESTIMATEScore  1003.295326  1545.149039  1623.731472 -138.640928  248.191767   \n",
       "TumorPurity       0.730147     0.673548     0.664978    0.833913    0.801248   \n",
       "\n",
       "                      A06          A07         A08         A09         A10  \\\n",
       "NAME                                                                         \n",
       "StromalScore  -179.742309  -667.871861 -554.187271 -467.547274 -424.048973   \n",
       "ImmuneScore    197.378769  -395.243536  -16.422432 -469.452988 -563.011739   \n",
       "ESTIMATEScore   17.636459 -1063.115397 -570.609703 -937.000262 -987.060713   \n",
       "TumorPurity      0.821034     0.900910    0.867208    0.892722    0.896009   \n",
       "\n",
       "               ...         C06          C07         C08         C09  \\\n",
       "NAME           ...                                                    \n",
       "StromalScore   ...  276.215651   819.700176  542.094611  446.049523   \n",
       "ImmuneScore    ...  -18.442529   526.734281  -25.089182  238.412959   \n",
       "ESTIMATEScore  ...  257.773122  1346.434456  517.005428  684.462482   \n",
       "TumorPurity    ...    0.800405     0.694819    0.777021    0.761314   \n",
       "\n",
       "                      C10          C11          C12          D01          D02  \\\n",
       "NAME                                                                            \n",
       "StromalScore   100.214812   640.683420  1028.302292   631.494907   843.594952   \n",
       "ImmuneScore    -60.730519   890.081437   776.296638   680.327079   892.726571   \n",
       "ESTIMATEScore   39.484294  1530.764858  1804.598930  1311.821985  1736.321523   \n",
       "TumorPurity      0.819199     0.675108     0.644917     0.698464     0.652544   \n",
       "\n",
       "                      D03  \n",
       "NAME                       \n",
       "StromalScore  -393.705822  \n",
       "ImmuneScore   -226.504212  \n",
       "ESTIMATEScore -620.210034  \n",
       "TumorPurity      0.870811  \n",
       "\n",
       "[4 rows x 38 columns]"
      ]
     },
     "execution_count": 13,
     "metadata": {},
     "output_type": "execute_result"
    }
   ],
   "source": [
    "mRNA_tumcell.head()"
   ]
  },
  {
   "cell_type": "markdown",
   "metadata": {},
   "source": [
    "### Add mRNA tumour cellularity to NES dataframe"
   ]
  },
  {
   "cell_type": "code",
   "execution_count": 14,
   "metadata": {},
   "outputs": [],
   "source": [
    "data_nes_t = data_nes.T "
   ]
  },
  {
   "cell_type": "markdown",
   "metadata": {},
   "source": [
    "#### Multiply tumour cellularity times a small number to reduce it's impact in the PCA"
   ]
  },
  {
   "cell_type": "code",
   "execution_count": 15,
   "metadata": {},
   "outputs": [],
   "source": [
    "data_nes_t['TumourCellularity_mRNA'] = mRNA_tumcell.loc['TumorPurity'] * 0.0001"
   ]
  },
  {
   "cell_type": "code",
   "execution_count": 16,
   "metadata": {},
   "outputs": [],
   "source": [
    "data_nes = data_nes_t.T"
   ]
  },
  {
   "cell_type": "code",
   "execution_count": 17,
   "metadata": {},
   "outputs": [
    {
     "data": {
      "text/html": [
       "<div>\n",
       "<style scoped>\n",
       "    .dataframe tbody tr th:only-of-type {\n",
       "        vertical-align: middle;\n",
       "    }\n",
       "\n",
       "    .dataframe tbody tr th {\n",
       "        vertical-align: top;\n",
       "    }\n",
       "\n",
       "    .dataframe thead th {\n",
       "        text-align: right;\n",
       "    }\n",
       "</style>\n",
       "<table border=\"1\" class=\"dataframe\">\n",
       "  <thead>\n",
       "    <tr style=\"text-align: right;\">\n",
       "      <th></th>\n",
       "      <th>A01</th>\n",
       "      <th>A02</th>\n",
       "      <th>A03</th>\n",
       "      <th>A04</th>\n",
       "      <th>A05</th>\n",
       "      <th>A06</th>\n",
       "      <th>A07</th>\n",
       "      <th>A08</th>\n",
       "      <th>A09</th>\n",
       "      <th>A10</th>\n",
       "      <th>...</th>\n",
       "      <th>C06</th>\n",
       "      <th>C07</th>\n",
       "      <th>C08</th>\n",
       "      <th>C09</th>\n",
       "      <th>C10</th>\n",
       "      <th>C11</th>\n",
       "      <th>C12</th>\n",
       "      <th>D01</th>\n",
       "      <th>D02</th>\n",
       "      <th>D03</th>\n",
       "    </tr>\n",
       "    <tr>\n",
       "      <th>Term</th>\n",
       "      <th></th>\n",
       "      <th></th>\n",
       "      <th></th>\n",
       "      <th></th>\n",
       "      <th></th>\n",
       "      <th></th>\n",
       "      <th></th>\n",
       "      <th></th>\n",
       "      <th></th>\n",
       "      <th></th>\n",
       "      <th></th>\n",
       "      <th></th>\n",
       "      <th></th>\n",
       "      <th></th>\n",
       "      <th></th>\n",
       "      <th></th>\n",
       "      <th></th>\n",
       "      <th></th>\n",
       "      <th></th>\n",
       "      <th></th>\n",
       "      <th></th>\n",
       "    </tr>\n",
       "  </thead>\n",
       "  <tbody>\n",
       "    <tr>\n",
       "      <th>T_cells_CD4</th>\n",
       "      <td>-0.042384</td>\n",
       "      <td>0.050694</td>\n",
       "      <td>0.004308</td>\n",
       "      <td>-0.207399</td>\n",
       "      <td>-0.165377</td>\n",
       "      <td>-0.208819</td>\n",
       "      <td>-0.255628</td>\n",
       "      <td>-0.257014</td>\n",
       "      <td>-0.333821</td>\n",
       "      <td>-0.314090</td>\n",
       "      <td>...</td>\n",
       "      <td>-0.263731</td>\n",
       "      <td>-0.148920</td>\n",
       "      <td>-0.276321</td>\n",
       "      <td>-0.170624</td>\n",
       "      <td>-0.266695</td>\n",
       "      <td>0.002644</td>\n",
       "      <td>-0.044748</td>\n",
       "      <td>-0.136003</td>\n",
       "      <td>-0.058358</td>\n",
       "      <td>-0.254172</td>\n",
       "    </tr>\n",
       "    <tr>\n",
       "      <th>T_cells_CD8</th>\n",
       "      <td>-0.017664</td>\n",
       "      <td>0.060364</td>\n",
       "      <td>-0.000962</td>\n",
       "      <td>-0.153047</td>\n",
       "      <td>-0.133178</td>\n",
       "      <td>-0.183371</td>\n",
       "      <td>-0.250569</td>\n",
       "      <td>-0.248262</td>\n",
       "      <td>-0.325777</td>\n",
       "      <td>-0.280394</td>\n",
       "      <td>...</td>\n",
       "      <td>-0.250714</td>\n",
       "      <td>-0.179655</td>\n",
       "      <td>-0.287451</td>\n",
       "      <td>-0.188185</td>\n",
       "      <td>-0.219502</td>\n",
       "      <td>0.002935</td>\n",
       "      <td>-0.005583</td>\n",
       "      <td>-0.084019</td>\n",
       "      <td>-0.045147</td>\n",
       "      <td>-0.269410</td>\n",
       "    </tr>\n",
       "    <tr>\n",
       "      <th>T_cells_gamma_delta</th>\n",
       "      <td>-0.038414</td>\n",
       "      <td>0.052337</td>\n",
       "      <td>-0.005596</td>\n",
       "      <td>-0.151517</td>\n",
       "      <td>-0.140392</td>\n",
       "      <td>-0.208642</td>\n",
       "      <td>-0.297564</td>\n",
       "      <td>-0.266138</td>\n",
       "      <td>-0.367513</td>\n",
       "      <td>-0.289465</td>\n",
       "      <td>...</td>\n",
       "      <td>-0.346152</td>\n",
       "      <td>-0.189331</td>\n",
       "      <td>-0.311887</td>\n",
       "      <td>-0.237372</td>\n",
       "      <td>-0.251334</td>\n",
       "      <td>-0.058035</td>\n",
       "      <td>-0.047690</td>\n",
       "      <td>-0.156334</td>\n",
       "      <td>-0.051404</td>\n",
       "      <td>-0.335890</td>\n",
       "    </tr>\n",
       "    <tr>\n",
       "      <th>T_regulatory_cells</th>\n",
       "      <td>-0.108068</td>\n",
       "      <td>0.054963</td>\n",
       "      <td>-0.088210</td>\n",
       "      <td>-0.117862</td>\n",
       "      <td>-0.184319</td>\n",
       "      <td>-0.183183</td>\n",
       "      <td>-0.213260</td>\n",
       "      <td>-0.254521</td>\n",
       "      <td>-0.324164</td>\n",
       "      <td>-0.332699</td>\n",
       "      <td>...</td>\n",
       "      <td>-0.290274</td>\n",
       "      <td>-0.119889</td>\n",
       "      <td>-0.306815</td>\n",
       "      <td>-0.224312</td>\n",
       "      <td>-0.232095</td>\n",
       "      <td>0.037718</td>\n",
       "      <td>-0.043270</td>\n",
       "      <td>-0.188168</td>\n",
       "      <td>-0.111135</td>\n",
       "      <td>-0.293895</td>\n",
       "    </tr>\n",
       "    <tr>\n",
       "      <th>TumourCellularity_mRNA</th>\n",
       "      <td>0.000073</td>\n",
       "      <td>0.000067</td>\n",
       "      <td>0.000066</td>\n",
       "      <td>0.000083</td>\n",
       "      <td>0.000080</td>\n",
       "      <td>0.000082</td>\n",
       "      <td>0.000090</td>\n",
       "      <td>0.000087</td>\n",
       "      <td>0.000089</td>\n",
       "      <td>0.000090</td>\n",
       "      <td>...</td>\n",
       "      <td>0.000080</td>\n",
       "      <td>0.000069</td>\n",
       "      <td>0.000078</td>\n",
       "      <td>0.000076</td>\n",
       "      <td>0.000082</td>\n",
       "      <td>0.000068</td>\n",
       "      <td>0.000064</td>\n",
       "      <td>0.000070</td>\n",
       "      <td>0.000065</td>\n",
       "      <td>0.000087</td>\n",
       "    </tr>\n",
       "  </tbody>\n",
       "</table>\n",
       "<p>5 rows × 38 columns</p>\n",
       "</div>"
      ],
      "text/plain": [
       "                             A01       A02       A03       A04       A05  \\\n",
       "Term                                                                       \n",
       "T_cells_CD4            -0.042384  0.050694  0.004308 -0.207399 -0.165377   \n",
       "T_cells_CD8            -0.017664  0.060364 -0.000962 -0.153047 -0.133178   \n",
       "T_cells_gamma_delta    -0.038414  0.052337 -0.005596 -0.151517 -0.140392   \n",
       "T_regulatory_cells     -0.108068  0.054963 -0.088210 -0.117862 -0.184319   \n",
       "TumourCellularity_mRNA  0.000073  0.000067  0.000066  0.000083  0.000080   \n",
       "\n",
       "                             A06       A07       A08       A09       A10  ...  \\\n",
       "Term                                                                      ...   \n",
       "T_cells_CD4            -0.208819 -0.255628 -0.257014 -0.333821 -0.314090  ...   \n",
       "T_cells_CD8            -0.183371 -0.250569 -0.248262 -0.325777 -0.280394  ...   \n",
       "T_cells_gamma_delta    -0.208642 -0.297564 -0.266138 -0.367513 -0.289465  ...   \n",
       "T_regulatory_cells     -0.183183 -0.213260 -0.254521 -0.324164 -0.332699  ...   \n",
       "TumourCellularity_mRNA  0.000082  0.000090  0.000087  0.000089  0.000090  ...   \n",
       "\n",
       "                             C06       C07       C08       C09       C10  \\\n",
       "Term                                                                       \n",
       "T_cells_CD4            -0.263731 -0.148920 -0.276321 -0.170624 -0.266695   \n",
       "T_cells_CD8            -0.250714 -0.179655 -0.287451 -0.188185 -0.219502   \n",
       "T_cells_gamma_delta    -0.346152 -0.189331 -0.311887 -0.237372 -0.251334   \n",
       "T_regulatory_cells     -0.290274 -0.119889 -0.306815 -0.224312 -0.232095   \n",
       "TumourCellularity_mRNA  0.000080  0.000069  0.000078  0.000076  0.000082   \n",
       "\n",
       "                             C11       C12       D01       D02       D03  \n",
       "Term                                                                      \n",
       "T_cells_CD4             0.002644 -0.044748 -0.136003 -0.058358 -0.254172  \n",
       "T_cells_CD8             0.002935 -0.005583 -0.084019 -0.045147 -0.269410  \n",
       "T_cells_gamma_delta    -0.058035 -0.047690 -0.156334 -0.051404 -0.335890  \n",
       "T_regulatory_cells      0.037718 -0.043270 -0.188168 -0.111135 -0.293895  \n",
       "TumourCellularity_mRNA  0.000068  0.000064  0.000070  0.000065  0.000087  \n",
       "\n",
       "[5 rows x 38 columns]"
      ]
     },
     "execution_count": 17,
     "metadata": {},
     "output_type": "execute_result"
    }
   ],
   "source": [
    "data_nes.tail()"
   ]
  },
  {
   "cell_type": "markdown",
   "metadata": {},
   "source": [
    "### Visulase NES"
   ]
  },
  {
   "cell_type": "markdown",
   "metadata": {},
   "source": [
    "#### Samples"
   ]
  },
  {
   "cell_type": "code",
   "execution_count": 18,
   "metadata": {},
   "outputs": [
    {
     "data": {
      "text/plain": [
       "<matplotlib.axes._subplots.AxesSubplot at 0x1a220cc208>"
      ]
     },
     "execution_count": 18,
     "metadata": {},
     "output_type": "execute_result"
    },
    {
     "data": {
      "image/png": "[encoded data removed]",
      "text/plain": [
       "<Figure size 288x360 with 1 Axes>"
      ]
     },
     "metadata": {},
     "output_type": "display_data"
    }
   ],
   "source": [
    "data_nes.plot(kind='box',\n",
    "              vert=False,\n",
    "              figsize=(4,5))"
   ]
  },
  {
   "cell_type": "markdown",
   "metadata": {},
   "source": [
    "#### Variables"
   ]
  },
  {
   "cell_type": "code",
   "execution_count": 19,
   "metadata": {},
   "outputs": [
    {
     "data": {
      "text/plain": [
       "<matplotlib.axes._subplots.AxesSubplot at 0x1a226d1710>"
      ]
     },
     "execution_count": 19,
     "metadata": {},
     "output_type": "execute_result"
    },
    {
     "data": {
      "image/png": "[encoded data removed]",
      "text/plain": [
       "<Figure size 432x576 with 1 Axes>"
      ]
     },
     "metadata": {},
     "output_type": "display_data"
    }
   ],
   "source": [
    "data_nes.transpose().plot(kind='box',\n",
    "                          vert=False,\n",
    "                          figsize=(6,8))"
   ]
  },
  {
   "cell_type": "markdown",
   "metadata": {},
   "source": [
    "## Calculate PCA"
   ]
  },
  {
   "cell_type": "code",
   "execution_count": 20,
   "metadata": {},
   "outputs": [],
   "source": [
    "pca = PCA(n_components=7)"
   ]
  },
  {
   "cell_type": "code",
   "execution_count": 21,
   "metadata": {},
   "outputs": [],
   "source": [
    "pca_nes = pca.fit_transform(data_nes.transpose())"
   ]
  },
  {
   "cell_type": "code",
   "execution_count": 22,
   "metadata": {},
   "outputs": [
    {
     "data": {
      "text/plain": [
       "38"
      ]
     },
     "execution_count": 22,
     "metadata": {},
     "output_type": "execute_result"
    }
   ],
   "source": [
    "len(pca_nes) # check number of data points"
   ]
  },
  {
   "cell_type": "markdown",
   "metadata": {},
   "source": [
    "#### Get PCA loadings"
   ]
  },
  {
   "cell_type": "code",
   "execution_count": 23,
   "metadata": {},
   "outputs": [
    {
     "data": {
      "text/plain": [
       "array([0.73060504, 0.10793798, 0.04648462, 0.03401486, 0.02050022,\n",
       "       0.01702731, 0.01237222])"
      ]
     },
     "execution_count": 23,
     "metadata": {},
     "output_type": "execute_result"
    }
   ],
   "source": [
    "var_exp = pca.explained_variance_ratio_\n",
    "var_exp"
   ]
  },
  {
   "cell_type": "markdown",
   "metadata": {},
   "source": [
    "## Plot PCA"
   ]
  },
  {
   "cell_type": "markdown",
   "metadata": {},
   "source": [
    "### Create custom colormaps (a.k.a. cmaps)"
   ]
  },
  {
   "cell_type": "code",
   "execution_count": 24,
   "metadata": {},
   "outputs": [],
   "source": [
    "def make_cmap(colors, position=None, bit=False):\n",
    "    \n",
    "    '''\n",
    "    make_cmap takes a list of tuples which contain RGB values. The RGB\n",
    "    values may either be in 8-bit [0 to 255] (in which bit must be set to\n",
    "    True when called) or arithmetic [0 to 1] (default). make_cmap returns\n",
    "    a cmap with equally spaced colors.\n",
    "    Arrange your tuples so that the first color is the lowest value for the\n",
    "    colorbar and the last is the highest.\n",
    "    position contains values from 0 to 1 to dictate the location of each color.\n",
    "    '''\n",
    "    import matplotlib as mpl\n",
    "    import numpy as np\n",
    "    bit_rgb = np.linspace(0,1,256)\n",
    "    if position == None:\n",
    "        position = np.linspace(0,1,len(colors))\n",
    "    else:\n",
    "        if len(position) != len(colors):\n",
    "            sys.exit(\"position length must be the same as colors\")\n",
    "        elif position[0] != 0 or position[-1] != 1:\n",
    "            sys.exit(\"position must start with 0 and end with 1\")\n",
    "    if bit:\n",
    "        for i in range(len(colors)):\n",
    "            colors[i] = (bit_rgb[colors[i][0]],\n",
    "                         bit_rgb[colors[i][1]],\n",
    "                         bit_rgb[colors[i][2]])\n",
    "    cdict = {'red':[], 'green':[], 'blue':[]}\n",
    "    for pos, color in zip(position, colors):\n",
    "        cdict['red'].append((pos, color[0], color[0]))\n",
    "        cdict['green'].append((pos, color[1], color[1]))\n",
    "        cdict['blue'].append((pos, color[2], color[2]))\n",
    "\n",
    "    cmap = mpl.colors.LinearSegmentedColormap('my_colormap',cdict,256)\n",
    "    \n",
    "    return cmap"
   ]
  },
  {
   "cell_type": "markdown",
   "metadata": {},
   "source": [
    "### Convert hex to rgb colour"
   ]
  },
  {
   "cell_type": "code",
   "execution_count": 25,
   "metadata": {},
   "outputs": [],
   "source": [
    "def hex_to_rgb(value):\n",
    "    \n",
    "    '''Return (red, green, blue) for the color given as #rrggbb.'''\n",
    "    \n",
    "    value = value.lstrip('#')\n",
    "    lv = len(value)\n",
    "    \n",
    "    return tuple(int(value[i:i + lv // 3], 16) for i in range(0, lv, lv // 3))"
   ]
  },
  {
   "cell_type": "markdown",
   "metadata": {},
   "source": [
    "### Define cmaps for patient kernel densities"
   ]
  },
  {
   "cell_type": "code",
   "execution_count": 26,
   "metadata": {},
   "outputs": [],
   "source": [
    "white = (255,255,255)\n",
    "\n",
    "reds    = make_cmap([white, hex_to_rgb('#e41a1c')], bit=True)\n",
    "blues   = make_cmap([white, hex_to_rgb('#377eb8')], bit=True)\n",
    "greens  = make_cmap([white, hex_to_rgb('#4eae4b')], bit=True)\n",
    "purples = make_cmap([white, hex_to_rgb('#994fa1')], bit=True)\n",
    "oranges = make_cmap([white, hex_to_rgb('#ff8101')], bit=True)\n",
    "yellows = make_cmap([white, hex_to_rgb('#fdfc33')], bit=True)\n",
    "browns  = make_cmap([white, hex_to_rgb('#a8572c')], bit=True)\n",
    "pinks   = make_cmap([white, hex_to_rgb('#f482be')], bit=True)\n",
    "\n",
    "reds_r    = make_cmap([hex_to_rgb('#e41a1c'), white], bit=True)\n",
    "blues_r   = make_cmap([hex_to_rgb('#377eb8'), white], bit=True)\n",
    "greens_r  = make_cmap([hex_to_rgb('#4eae4b'), white], bit=True)\n",
    "purples_r = make_cmap([hex_to_rgb('#994fa1'), white], bit=True)\n",
    "oranges_r = make_cmap([hex_to_rgb('#ff8101'), white], bit=True)\n",
    "yellows_r = make_cmap([hex_to_rgb('#fdfc33'), white], bit=True)\n",
    "browns_r  = make_cmap([hex_to_rgb('#a8572c'), white], bit=True)\n",
    "pinks_r   = make_cmap([hex_to_rgb('#f482be'), white], bit=True)"
   ]
  },
  {
   "cell_type": "markdown",
   "metadata": {},
   "source": [
    "### Colour-sample correspondence"
   ]
  },
  {
   "cell_type": "code",
   "execution_count": 27,
   "metadata": {},
   "outputs": [],
   "source": [
    "color_case_d = {1:reds,\n",
    "                4:blues,\n",
    "                5:greens,\n",
    "                6:purples,\n",
    "                10:oranges,\n",
    "                13:yellows,\n",
    "                16:browns,\n",
    "                17:pinks}\n",
    "\n",
    "color_case_dr = {1:reds_r,\n",
    "                 4:blues_r,\n",
    "                 5:greens_r,\n",
    "                 6:purples_r,\n",
    "                 10:oranges_r,\n",
    "                 13:yellows_r,\n",
    "                 16:browns_r,\n",
    "                 17:pinks_r}"
   ]
  },
  {
   "cell_type": "markdown",
   "metadata": {},
   "source": [
    "### Plot PCA"
   ]
  },
  {
   "cell_type": "code",
   "execution_count": 34,
   "metadata": {},
   "outputs": [],
   "source": [
    "pcx=1\n",
    "pcy=2"
   ]
  },
  {
   "cell_type": "code",
   "execution_count": 35,
   "metadata": {},
   "outputs": [
    {
     "data": {
      "image/png": "[encoded data removed]",
      "text/plain": [
       "<Figure size 360x360 with 1 Axes>"
      ]
     },
     "metadata": {},
     "output_type": "display_data"
    }
   ],
   "source": [
    "fig = plt.figure(figsize=(5, 5))\n",
    "\n",
    "plt.title('PCA')\n",
    "\n",
    "d_kde = {}\n",
    "for i in range(len(pca_nes[:, 0])):\n",
    "    \n",
    "    plt.scatter(pca_nes[:,pcx][i],\n",
    "                pca_nes[:,pcy][i],\n",
    "                c=list(sample_labels['Colour'])[i],\n",
    "                edgecolors=list(sample_labels['Colour'])[i],\n",
    "                marker=list(sample_labels['Site_marker'])[i],\n",
    "                zorder=1,\n",
    "                lw=1,\n",
    "                s=50)\n",
    "    \n",
    "    if list(sample_labels['Case_mRNA'])[i] not in d_kde:\n",
    "        \n",
    "        d_kde[list(sample_labels['Case_mRNA'])[i]] = {'x':[pca_nes[:,pcx][i]],\n",
    "                                                      'y':[pca_nes[:,pcy][i]]}\n",
    "    else:\n",
    "        \n",
    "        d_kde[list(sample_labels['Case_mRNA'])[i]]['x'].append(pca_nes[:,pcx][i])\n",
    "        d_kde[list(sample_labels['Case_mRNA'])[i]]['y'].append(pca_nes[:,pcy][i])\n",
    "      \n",
    "for j in d_kde:\n",
    "\n",
    "    sns.kdeplot(np.array(d_kde[j]['x']),\n",
    "                np.array(d_kde[j]['y']),\n",
    "                cmap=color_case_d[j],\n",
    "                n_levels=27,\n",
    "                alpha=.2,\n",
    "                zorder=0,\n",
    "                cut=3)\n",
    "   \n",
    "    sns.kdeplot(np.array(d_kde[j]['x']),\n",
    "                np.array(d_kde[j]['y']), \n",
    "                cmap=color_case_dr[j],\n",
    "                n_levels=1,\n",
    "                alpha=.7,\n",
    "                zorder=0,\n",
    "                cut=3)\n",
    "\n",
    "xlabel = 'PC%i(%i%s)' % (pcx+1,var_exp[pcx]*100,'%')\n",
    "ylabel = 'PC%i(%i%s)' % (pcy+1,var_exp[pcy]*100,'%')\n",
    "\n",
    "plt.xlabel(xlabel)\n",
    "plt.ylabel(ylabel)\n",
    "sns.despine(trim=True)"
   ]
  },
  {
   "cell_type": "markdown",
   "metadata": {},
   "source": [
    "### Save plot"
   ]
  },
  {
   "cell_type": "code",
   "execution_count": 36,
   "metadata": {},
   "outputs": [],
   "source": [
    "FILE = '../../Figures/main/3/panels/3c_TreatmentNaive_ConsensusTME_PCA_%s_%s.pdf' % (pcx,pcy)\n",
    "\n",
    "fig.savefig(FILE, bbox='tight')"
   ]
  },
  {
   "cell_type": "markdown",
   "metadata": {},
   "source": [
    "### Plot PCA loadings"
   ]
  },
  {
   "cell_type": "code",
   "execution_count": 31,
   "metadata": {},
   "outputs": [
    {
     "data": {
      "text/plain": [
       "[<matplotlib.lines.Line2D at 0x1a22c9e828>]"
      ]
     },
     "execution_count": 31,
     "metadata": {},
     "output_type": "execute_result"
    },
    {
     "data": {
      "image/png": "[encoded data removed]",
      "text/plain": [
       "<Figure size 432x288 with 1 Axes>"
      ]
     },
     "metadata": {},
     "output_type": "display_data"
    }
   ],
   "source": [
    "fig = plt.figure()\n",
    "\n",
    "plt.title('PCA loadings')\n",
    "\n",
    "plt.plot(var_exp, 'o', mfc='w', c='k', zorder=2, ms=7)\n",
    "plt.plot(var_exp, '-', c='k', zorder=1)"
   ]
  },
  {
   "cell_type": "code",
   "execution_count": 32,
   "metadata": {},
   "outputs": [
    {
     "data": {
      "text/plain": [
       "array([0.73060504, 0.10793798, 0.04648462, 0.03401486, 0.02050022,\n",
       "       0.01702731, 0.01237222])"
      ]
     },
     "execution_count": 32,
     "metadata": {},
     "output_type": "execute_result"
    }
   ],
   "source": [
    "var_exp"
   ]
  },
  {
   "cell_type": "markdown",
   "metadata": {},
   "source": [
    "### Save plot"
   ]
  },
  {
   "cell_type": "code",
   "execution_count": 33,
   "metadata": {},
   "outputs": [],
   "source": [
    "FILE = \"../../Figures/supplementary/3/panels/s3e_TreatmentNaive_ConsensusTME_PCA_loadings.pdf\"\n",
    "\n",
    "fig.savefig(FILE, bbox='tight')"
   ]
  },
  {
   "cell_type": "markdown",
   "metadata": {},
   "source": [
    "# End script"
   ]
  }
 ],
 "metadata": {
  "kernelspec": {
   "display_name": "Python 3",
   "language": "python",
   "name": "python3"
  },
  "language_info": {
   "codemirror_mode": {
    "name": "ipython",
    "version": 3
   },
   "file_extension": ".py",
   "mimetype": "text/x-python",
   "name": "python",
   "nbconvert_exporter": "python",
   "pygments_lexer": "ipython3",
   "version": "3.6.8"
  }
 },
 "nbformat": 4,
 "nbformat_minor": 2
}

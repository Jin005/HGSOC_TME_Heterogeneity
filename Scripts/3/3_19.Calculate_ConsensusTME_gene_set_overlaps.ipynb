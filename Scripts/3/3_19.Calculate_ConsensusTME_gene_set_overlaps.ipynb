{
 "cells": [
  {
   "cell_type": "markdown",
   "metadata": {},
   "source": [
    "# Calculate ConsensusTME gene set overlaps"
   ]
  },
  {
   "cell_type": "markdown",
   "metadata": {},
   "source": [
    "Script related to figure s1b\n",
    "\n",
    "### Aim:\n",
    "- Calculate clustermap of consensusTME gene set overlaps"
   ]
  },
  {
   "cell_type": "code",
   "execution_count": 1,
   "metadata": {},
   "outputs": [
    {
     "data": {
      "text/plain": [
       "R version 3.5.0 (2018-04-23)\n",
       "Platform: x86_64-apple-darwin15.6.0 (64-bit)\n",
       "Running under: macOS High Sierra 10.13.6\n",
       "\n",
       "Matrix products: default\n",
       "BLAS: /Library/Frameworks/R.framework/Versions/3.5/Resources/lib/libRblas.0.dylib\n",
       "LAPACK: /Library/Frameworks/R.framework/Versions/3.5/Resources/lib/libRlapack.dylib\n",
       "\n",
       "locale:\n",
       "[1] C/UTF-8/C/C/C/C\n",
       "\n",
       "attached base packages:\n",
       "[1] stats     graphics  grDevices utils     datasets  methods   base     \n",
       "\n",
       "loaded via a namespace (and not attached):\n",
       " [1] compiler_3.5.0  IRdisplay_0.6.1 pbdZMQ_0.3-3    tools_3.5.0    \n",
       " [5] htmltools_0.3.6 base64enc_0.1-3 crayon_1.3.4    Rcpp_1.0.1     \n",
       " [9] uuid_0.1-2      IRkernel_0.8.14 jsonlite_1.6    digest_0.6.18  \n",
       "[13] repr_0.17       evaluate_0.13  "
      ]
     },
     "metadata": {},
     "output_type": "display_data"
    }
   ],
   "source": [
    "sessionInfo()"
   ]
  },
  {
   "cell_type": "markdown",
   "metadata": {},
   "source": [
    "## Load packages"
   ]
  },
  {
   "cell_type": "code",
   "execution_count": 1,
   "metadata": {},
   "outputs": [
    {
     "name": "stderr",
     "output_type": "stream",
     "text": [
      "Warning message:\n",
      "“package ‘GSVA’ was built under R version 3.5.1”\n",
      "Attaching package: ‘BBmisc’\n",
      "\n",
      "The following object is masked from ‘package:base’:\n",
      "\n",
      "    isFALSE\n",
      "\n"
     ]
    }
   ],
   "source": [
    "library(GSVA)\n",
    "library(BBmisc)"
   ]
  },
  {
   "cell_type": "code",
   "execution_count": 2,
   "metadata": {},
   "outputs": [],
   "source": [
    "setwd(\"~/git_repos/HGSOC_TME_Heterogeneity/Scripts/3/\")"
   ]
  },
  {
   "cell_type": "markdown",
   "metadata": {},
   "source": [
    "## Load ConsensusTME gene sets"
   ]
  },
  {
   "cell_type": "code",
   "execution_count": 3,
   "metadata": {},
   "outputs": [],
   "source": [
    "ConsensusTME_geneSets <- read.csv('../../Data/3/ConsensusTME_GeneSets.txt',\n",
    "                                  sep='\\t',\n",
    "                                  header=T)"
   ]
  },
  {
   "cell_type": "code",
   "execution_count": 4,
   "metadata": {},
   "outputs": [
    {
     "data": {
      "text/html": [
       "<table>\n",
       "<thead><tr><th scope=col>B_cells</th><th scope=col>Cytotoxic_cells</th><th scope=col>Dendritic_cells</th><th scope=col>Endothelial</th><th scope=col>Eosinophils</th><th scope=col>Fibroblasts</th><th scope=col>Macrophages</th><th scope=col>Macrophages_M1</th><th scope=col>Macrophages_M2</th><th scope=col>Mast_cells</th><th scope=col>Monocytes</th><th scope=col>NK_cells</th><th scope=col>Neutrophils</th><th scope=col>Plasma_cells</th><th scope=col>T_cells_CD4</th><th scope=col>T_cells_CD8</th><th scope=col>T_cells_gamma_delta</th><th scope=col>T_regulatory_cells</th></tr></thead>\n",
       "<tbody>\n",
       "\t<tr><td>BLNK    </td><td>CTSW    </td><td>BCL2A1  </td><td>CD93    </td><td>ABHD2   </td><td>ABCA6   </td><td>ACTR2   </td><td>ACTR2   </td><td>AIF1    </td><td>ATP6V1C1</td><td>AIF1    </td><td>APOBEC3G</td><td>BCL2A1  </td><td>CD27    </td><td>AIM2    </td><td>BCL11B  </td><td>APOBEC3G</td><td>CCR7    </td></tr>\n",
       "\t<tr><td>CD1C    </td><td>GZMA    </td><td>BIRC3   </td><td>CDH5    </td><td>BCL2A1  </td><td>ASPN    </td><td>ATG7    </td><td>CCL19   </td><td>ATP6V1C1</td><td>CCL4    </td><td>AKAP13  </td><td>CCL4    </td><td>C5AR1   </td><td>CD38    </td><td>ARHGAP15</td><td>BIN2    </td><td>CCL4    </td><td>CD2     </td></tr>\n",
       "\t<tr><td>CD37    </td><td>GZMB    </td><td>CCL19   </td><td>EMCN    </td><td>CCL4    </td><td>COL3A1  </td><td>ATP6V1C1</td><td>CCL4    </td><td>CLEC10A </td><td>CD84    </td><td>C5AR1   </td><td>CCR5    </td><td>CSF2RB  </td><td>CYBA    </td><td>BATF    </td><td>CCL4    </td><td>CCR2    </td><td>CD247   </td></tr>\n",
       "\t<tr><td>CD53    </td><td>GZMH    </td><td>CCL4    </td><td>ERG     </td><td>CCR1    </td><td>DCN     </td><td>BCL2A1  </td><td>CCR1    </td><td>CLEC4A  </td><td>LCP2    </td><td>CCR2    </td><td>CD2     </td><td>CSF3R   </td><td>ENTPD1  </td><td>BCL11B  </td><td>CCR5    </td><td>CCR5    </td><td>CD27    </td></tr>\n",
       "\t<tr><td>CD69    </td><td>KLRB1   </td><td>CCR2    </td><td>KDR     </td><td>CD69    </td><td>GREM1   </td><td>C5AR1   </td><td>CCR7    </td><td>FGR     </td><td>MMP9    </td><td>CD244   </td><td>CD244   </td><td>FCGR3B  </td><td>HSPA6   </td><td>CCL4    </td><td>CCR7    </td><td>CD2     </td><td>CD37    </td></tr>\n",
       "\t<tr><td>CD80    </td><td>KLRK1   </td><td>CCR5    </td><td>PCDH12  </td><td>CSF2RB  </td><td>ISLR    </td><td>CCL19   </td><td>CD38    </td><td>HCK     </td><td>SAMSN1  </td><td>CD37    </td><td>CD247   </td><td>FPR1    </td><td>MTDH    </td><td>CCR2    </td><td>CD2     </td><td>CD244   </td><td>CD3E    </td></tr>\n",
       "</tbody>\n",
       "</table>\n"
      ],
      "text/latex": [
       "\\begin{tabular}{r|llllllllllllllllll}\n",
       " B\\_cells & Cytotoxic\\_cells & Dendritic\\_cells & Endothelial & Eosinophils & Fibroblasts & Macrophages & Macrophages\\_M1 & Macrophages\\_M2 & Mast\\_cells & Monocytes & NK\\_cells & Neutrophils & Plasma\\_cells & T\\_cells\\_CD4 & T\\_cells\\_CD8 & T\\_cells\\_gamma\\_delta & T\\_regulatory\\_cells\\\\\n",
       "\\hline\n",
       "\t BLNK     & CTSW     & BCL2A1   & CD93     & ABHD2    & ABCA6    & ACTR2    & ACTR2    & AIF1     & ATP6V1C1 & AIF1     & APOBEC3G & BCL2A1   & CD27     & AIM2     & BCL11B   & APOBEC3G & CCR7    \\\\\n",
       "\t CD1C     & GZMA     & BIRC3    & CDH5     & BCL2A1   & ASPN     & ATG7     & CCL19    & ATP6V1C1 & CCL4     & AKAP13   & CCL4     & C5AR1    & CD38     & ARHGAP15 & BIN2     & CCL4     & CD2     \\\\\n",
       "\t CD37     & GZMB     & CCL19    & EMCN     & CCL4     & COL3A1   & ATP6V1C1 & CCL4     & CLEC10A  & CD84     & C5AR1    & CCR5     & CSF2RB   & CYBA     & BATF     & CCL4     & CCR2     & CD247   \\\\\n",
       "\t CD53     & GZMH     & CCL4     & ERG      & CCR1     & DCN      & BCL2A1   & CCR1     & CLEC4A   & LCP2     & CCR2     & CD2      & CSF3R    & ENTPD1   & BCL11B   & CCR5     & CCR5     & CD27    \\\\\n",
       "\t CD69     & KLRB1    & CCR2     & KDR      & CD69     & GREM1    & C5AR1    & CCR7     & FGR      & MMP9     & CD244    & CD244    & FCGR3B   & HSPA6    & CCL4     & CCR7     & CD2      & CD37    \\\\\n",
       "\t CD80     & KLRK1    & CCR5     & PCDH12   & CSF2RB   & ISLR     & CCL19    & CD38     & HCK      & SAMSN1   & CD37     & CD247    & FPR1     & MTDH     & CCR2     & CD2      & CD244    & CD3E    \\\\\n",
       "\\end{tabular}\n"
      ],
      "text/markdown": [
       "\n",
       "B_cells | Cytotoxic_cells | Dendritic_cells | Endothelial | Eosinophils | Fibroblasts | Macrophages | Macrophages_M1 | Macrophages_M2 | Mast_cells | Monocytes | NK_cells | Neutrophils | Plasma_cells | T_cells_CD4 | T_cells_CD8 | T_cells_gamma_delta | T_regulatory_cells | \n",
       "|---|---|---|---|---|---|\n",
       "| BLNK     | CTSW     | BCL2A1   | CD93     | ABHD2    | ABCA6    | ACTR2    | ACTR2    | AIF1     | ATP6V1C1 | AIF1     | APOBEC3G | BCL2A1   | CD27     | AIM2     | BCL11B   | APOBEC3G | CCR7     | \n",
       "| CD1C     | GZMA     | BIRC3    | CDH5     | BCL2A1   | ASPN     | ATG7     | CCL19    | ATP6V1C1 | CCL4     | AKAP13   | CCL4     | C5AR1    | CD38     | ARHGAP15 | BIN2     | CCL4     | CD2      | \n",
       "| CD37     | GZMB     | CCL19    | EMCN     | CCL4     | COL3A1   | ATP6V1C1 | CCL4     | CLEC10A  | CD84     | C5AR1    | CCR5     | CSF2RB   | CYBA     | BATF     | CCL4     | CCR2     | CD247    | \n",
       "| CD53     | GZMH     | CCL4     | ERG      | CCR1     | DCN      | BCL2A1   | CCR1     | CLEC4A   | LCP2     | CCR2     | CD2      | CSF3R    | ENTPD1   | BCL11B   | CCR5     | CCR5     | CD27     | \n",
       "| CD69     | KLRB1    | CCR2     | KDR      | CD69     | GREM1    | C5AR1    | CCR7     | FGR      | MMP9     | CD244    | CD244    | FCGR3B   | HSPA6    | CCL4     | CCR7     | CD2      | CD37     | \n",
       "| CD80     | KLRK1    | CCR5     | PCDH12   | CSF2RB   | ISLR     | CCL19    | CD38     | HCK      | SAMSN1   | CD37     | CD247    | FPR1     | MTDH     | CCR2     | CD2      | CD244    | CD3E     | \n",
       "\n",
       "\n"
      ],
      "text/plain": [
       "  B_cells Cytotoxic_cells Dendritic_cells Endothelial Eosinophils Fibroblasts\n",
       "1 BLNK    CTSW            BCL2A1          CD93        ABHD2       ABCA6      \n",
       "2 CD1C    GZMA            BIRC3           CDH5        BCL2A1      ASPN       \n",
       "3 CD37    GZMB            CCL19           EMCN        CCL4        COL3A1     \n",
       "4 CD53    GZMH            CCL4            ERG         CCR1        DCN        \n",
       "5 CD69    KLRB1           CCR2            KDR         CD69        GREM1      \n",
       "6 CD80    KLRK1           CCR5            PCDH12      CSF2RB      ISLR       \n",
       "  Macrophages Macrophages_M1 Macrophages_M2 Mast_cells Monocytes NK_cells\n",
       "1 ACTR2       ACTR2          AIF1           ATP6V1C1   AIF1      APOBEC3G\n",
       "2 ATG7        CCL19          ATP6V1C1       CCL4       AKAP13    CCL4    \n",
       "3 ATP6V1C1    CCL4           CLEC10A        CD84       C5AR1     CCR5    \n",
       "4 BCL2A1      CCR1           CLEC4A         LCP2       CCR2      CD2     \n",
       "5 C5AR1       CCR7           FGR            MMP9       CD244     CD244   \n",
       "6 CCL19       CD38           HCK            SAMSN1     CD37      CD247   \n",
       "  Neutrophils Plasma_cells T_cells_CD4 T_cells_CD8 T_cells_gamma_delta\n",
       "1 BCL2A1      CD27         AIM2        BCL11B      APOBEC3G           \n",
       "2 C5AR1       CD38         ARHGAP15    BIN2        CCL4               \n",
       "3 CSF2RB      CYBA         BATF        CCL4        CCR2               \n",
       "4 CSF3R       ENTPD1       BCL11B      CCR5        CCR5               \n",
       "5 FCGR3B      HSPA6        CCL4        CCR7        CD2                \n",
       "6 FPR1        MTDH         CCR2        CD2         CD244              \n",
       "  T_regulatory_cells\n",
       "1 CCR7              \n",
       "2 CD2               \n",
       "3 CD247             \n",
       "4 CD27              \n",
       "5 CD37              \n",
       "6 CD3E              "
      ]
     },
     "metadata": {},
     "output_type": "display_data"
    }
   ],
   "source": [
    "head(ConsensusTME_geneSets)"
   ]
  },
  {
   "cell_type": "code",
   "execution_count": 5,
   "metadata": {},
   "outputs": [],
   "source": [
    "ConsensusTME_geneSets <- convertRowsToList(t(ConsensusTME_geneSets))"
   ]
  },
  {
   "cell_type": "markdown",
   "metadata": {},
   "source": [
    "## Compute gene sets overlap"
   ]
  },
  {
   "cell_type": "markdown",
   "metadata": {},
   "source": [
    "#### The overlap between two gene sets is calculated as the number of common genes between the two gene sets divided by the smallest size of the two gene sets.\n",
    "#### https://www.rdocumentation.org/packages/GSVA/versions/1.20.0/topics/computeGeneSetsOverlap"
   ]
  },
  {
   "cell_type": "code",
   "execution_count": 6,
   "metadata": {},
   "outputs": [],
   "source": [
    "geneSetOverlap <- computeGeneSetsOverlap(ConsensusTME_geneSets,\n",
    "                                         unique(unlist(ConsensusTME_geneSets)))"
   ]
  },
  {
   "cell_type": "code",
   "execution_count": 7,
   "metadata": {},
   "outputs": [
    {
     "data": {
      "text/html": [
       "<table>\n",
       "<thead><tr><th></th><th scope=col>B_cells</th><th scope=col>Cytotoxic_cells</th><th scope=col>Dendritic_cells</th><th scope=col>Endothelial</th><th scope=col>Eosinophils</th><th scope=col>Fibroblasts</th><th scope=col>Macrophages</th><th scope=col>Macrophages_M1</th><th scope=col>Macrophages_M2</th><th scope=col>Mast_cells</th><th scope=col>Monocytes</th><th scope=col>NK_cells</th><th scope=col>Neutrophils</th><th scope=col>Plasma_cells</th><th scope=col>T_cells_CD4</th><th scope=col>T_cells_CD8</th><th scope=col>T_cells_gamma_delta</th><th scope=col>T_regulatory_cells</th></tr></thead>\n",
       "<tbody>\n",
       "\t<tr><th scope=row>B_cells</th><td>1.00000000</td><td>0.1111111 </td><td>0.31578947</td><td>0.1111111 </td><td>0.20000000</td><td>0.07692308</td><td>0.15789474</td><td>0.21052632</td><td>0.10526316</td><td>0.250     </td><td>0.21052632</td><td>0.10526316</td><td>0.05263158</td><td>0.27272727</td><td>0.31578947</td><td>0.1578947 </td><td>0.10526316</td><td>0.21052632</td></tr>\n",
       "\t<tr><th scope=row>Cytotoxic_cells</th><td>0.11111111</td><td>1.0000000 </td><td>0.22222222</td><td>0.1111111 </td><td>0.11111111</td><td>0.11111111</td><td>0.11111111</td><td>0.11111111</td><td>0.11111111</td><td>0.125     </td><td>0.11111111</td><td>1.00000000</td><td>0.11111111</td><td>0.11111111</td><td>0.55555556</td><td>0.8888889 </td><td>0.77777778</td><td>0.11111111</td></tr>\n",
       "\t<tr><th scope=row>Dendritic_cells</th><td>0.31578947</td><td>0.2222222 </td><td>1.00000000</td><td>0.2222222 </td><td>0.33333333</td><td>0.07692308</td><td>0.46341463</td><td>0.51428571</td><td>0.50000000</td><td>0.375     </td><td>0.36000000</td><td>0.16000000</td><td>0.27272727</td><td>0.18181818</td><td>0.22000000</td><td>0.1600000 </td><td>0.18181818</td><td>0.20000000</td></tr>\n",
       "\t<tr><th scope=row>Endothelial</th><td>0.11111111</td><td>0.1111111 </td><td>0.22222222</td><td>1.0000000 </td><td>0.11111111</td><td>0.11111111</td><td>0.22222222</td><td>0.22222222</td><td>0.22222222</td><td>0.125     </td><td>0.11111111</td><td>0.11111111</td><td>0.11111111</td><td>0.11111111</td><td>0.11111111</td><td>0.0000000 </td><td>0.11111111</td><td>0.11111111</td></tr>\n",
       "\t<tr><th scope=row>Eosinophils</th><td>0.20000000</td><td>0.1111111 </td><td>0.33333333</td><td>0.1111111 </td><td>1.00000000</td><td>0.07692308</td><td>0.26666667</td><td>0.20000000</td><td>0.13333333</td><td>0.375     </td><td>0.26666667</td><td>0.13333333</td><td>0.26666667</td><td>0.18181818</td><td>0.33333333</td><td>0.2000000 </td><td>0.20000000</td><td>0.13333333</td></tr>\n",
       "\t<tr><th scope=row>Fibroblasts</th><td>0.07692308</td><td>0.1111111 </td><td>0.07692308</td><td>0.1111111 </td><td>0.07692308</td><td>1.00000000</td><td>0.07692308</td><td>0.07692308</td><td>0.07692308</td><td>0.125     </td><td>0.07692308</td><td>0.07692308</td><td>0.07692308</td><td>0.09090909</td><td>0.07692308</td><td>0.0000000 </td><td>0.07692308</td><td>0.07692308</td></tr>\n",
       "</tbody>\n",
       "</table>\n"
      ],
      "text/latex": [
       "\\begin{tabular}{r|llllllllllllllllll}\n",
       "  & B\\_cells & Cytotoxic\\_cells & Dendritic\\_cells & Endothelial & Eosinophils & Fibroblasts & Macrophages & Macrophages\\_M1 & Macrophages\\_M2 & Mast\\_cells & Monocytes & NK\\_cells & Neutrophils & Plasma\\_cells & T\\_cells\\_CD4 & T\\_cells\\_CD8 & T\\_cells\\_gamma\\_delta & T\\_regulatory\\_cells\\\\\n",
       "\\hline\n",
       "\tB\\_cells & 1.00000000 & 0.1111111  & 0.31578947 & 0.1111111  & 0.20000000 & 0.07692308 & 0.15789474 & 0.21052632 & 0.10526316 & 0.250      & 0.21052632 & 0.10526316 & 0.05263158 & 0.27272727 & 0.31578947 & 0.1578947  & 0.10526316 & 0.21052632\\\\\n",
       "\tCytotoxic\\_cells & 0.11111111 & 1.0000000  & 0.22222222 & 0.1111111  & 0.11111111 & 0.11111111 & 0.11111111 & 0.11111111 & 0.11111111 & 0.125      & 0.11111111 & 1.00000000 & 0.11111111 & 0.11111111 & 0.55555556 & 0.8888889  & 0.77777778 & 0.11111111\\\\\n",
       "\tDendritic\\_cells & 0.31578947 & 0.2222222  & 1.00000000 & 0.2222222  & 0.33333333 & 0.07692308 & 0.46341463 & 0.51428571 & 0.50000000 & 0.375      & 0.36000000 & 0.16000000 & 0.27272727 & 0.18181818 & 0.22000000 & 0.1600000  & 0.18181818 & 0.20000000\\\\\n",
       "\tEndothelial & 0.11111111 & 0.1111111  & 0.22222222 & 1.0000000  & 0.11111111 & 0.11111111 & 0.22222222 & 0.22222222 & 0.22222222 & 0.125      & 0.11111111 & 0.11111111 & 0.11111111 & 0.11111111 & 0.11111111 & 0.0000000  & 0.11111111 & 0.11111111\\\\\n",
       "\tEosinophils & 0.20000000 & 0.1111111  & 0.33333333 & 0.1111111  & 1.00000000 & 0.07692308 & 0.26666667 & 0.20000000 & 0.13333333 & 0.375      & 0.26666667 & 0.13333333 & 0.26666667 & 0.18181818 & 0.33333333 & 0.2000000  & 0.20000000 & 0.13333333\\\\\n",
       "\tFibroblasts & 0.07692308 & 0.1111111  & 0.07692308 & 0.1111111  & 0.07692308 & 1.00000000 & 0.07692308 & 0.07692308 & 0.07692308 & 0.125      & 0.07692308 & 0.07692308 & 0.07692308 & 0.09090909 & 0.07692308 & 0.0000000  & 0.07692308 & 0.07692308\\\\\n",
       "\\end{tabular}\n"
      ],
      "text/markdown": [
       "\n",
       "| <!--/--> | B_cells | Cytotoxic_cells | Dendritic_cells | Endothelial | Eosinophils | Fibroblasts | Macrophages | Macrophages_M1 | Macrophages_M2 | Mast_cells | Monocytes | NK_cells | Neutrophils | Plasma_cells | T_cells_CD4 | T_cells_CD8 | T_cells_gamma_delta | T_regulatory_cells | \n",
       "|---|---|---|---|---|---|\n",
       "| B_cells | 1.00000000 | 0.1111111  | 0.31578947 | 0.1111111  | 0.20000000 | 0.07692308 | 0.15789474 | 0.21052632 | 0.10526316 | 0.250      | 0.21052632 | 0.10526316 | 0.05263158 | 0.27272727 | 0.31578947 | 0.1578947  | 0.10526316 | 0.21052632 | \n",
       "| Cytotoxic_cells | 0.11111111 | 1.0000000  | 0.22222222 | 0.1111111  | 0.11111111 | 0.11111111 | 0.11111111 | 0.11111111 | 0.11111111 | 0.125      | 0.11111111 | 1.00000000 | 0.11111111 | 0.11111111 | 0.55555556 | 0.8888889  | 0.77777778 | 0.11111111 | \n",
       "| Dendritic_cells | 0.31578947 | 0.2222222  | 1.00000000 | 0.2222222  | 0.33333333 | 0.07692308 | 0.46341463 | 0.51428571 | 0.50000000 | 0.375      | 0.36000000 | 0.16000000 | 0.27272727 | 0.18181818 | 0.22000000 | 0.1600000  | 0.18181818 | 0.20000000 | \n",
       "| Endothelial | 0.11111111 | 0.1111111  | 0.22222222 | 1.0000000  | 0.11111111 | 0.11111111 | 0.22222222 | 0.22222222 | 0.22222222 | 0.125      | 0.11111111 | 0.11111111 | 0.11111111 | 0.11111111 | 0.11111111 | 0.0000000  | 0.11111111 | 0.11111111 | \n",
       "| Eosinophils | 0.20000000 | 0.1111111  | 0.33333333 | 0.1111111  | 1.00000000 | 0.07692308 | 0.26666667 | 0.20000000 | 0.13333333 | 0.375      | 0.26666667 | 0.13333333 | 0.26666667 | 0.18181818 | 0.33333333 | 0.2000000  | 0.20000000 | 0.13333333 | \n",
       "| Fibroblasts | 0.07692308 | 0.1111111  | 0.07692308 | 0.1111111  | 0.07692308 | 1.00000000 | 0.07692308 | 0.07692308 | 0.07692308 | 0.125      | 0.07692308 | 0.07692308 | 0.07692308 | 0.09090909 | 0.07692308 | 0.0000000  | 0.07692308 | 0.07692308 | \n",
       "\n",
       "\n"
      ],
      "text/plain": [
       "                B_cells    Cytotoxic_cells Dendritic_cells Endothelial\n",
       "B_cells         1.00000000 0.1111111       0.31578947      0.1111111  \n",
       "Cytotoxic_cells 0.11111111 1.0000000       0.22222222      0.1111111  \n",
       "Dendritic_cells 0.31578947 0.2222222       1.00000000      0.2222222  \n",
       "Endothelial     0.11111111 0.1111111       0.22222222      1.0000000  \n",
       "Eosinophils     0.20000000 0.1111111       0.33333333      0.1111111  \n",
       "Fibroblasts     0.07692308 0.1111111       0.07692308      0.1111111  \n",
       "                Eosinophils Fibroblasts Macrophages Macrophages_M1\n",
       "B_cells         0.20000000  0.07692308  0.15789474  0.21052632    \n",
       "Cytotoxic_cells 0.11111111  0.11111111  0.11111111  0.11111111    \n",
       "Dendritic_cells 0.33333333  0.07692308  0.46341463  0.51428571    \n",
       "Endothelial     0.11111111  0.11111111  0.22222222  0.22222222    \n",
       "Eosinophils     1.00000000  0.07692308  0.26666667  0.20000000    \n",
       "Fibroblasts     0.07692308  1.00000000  0.07692308  0.07692308    \n",
       "                Macrophages_M2 Mast_cells Monocytes  NK_cells   Neutrophils\n",
       "B_cells         0.10526316     0.250      0.21052632 0.10526316 0.05263158 \n",
       "Cytotoxic_cells 0.11111111     0.125      0.11111111 1.00000000 0.11111111 \n",
       "Dendritic_cells 0.50000000     0.375      0.36000000 0.16000000 0.27272727 \n",
       "Endothelial     0.22222222     0.125      0.11111111 0.11111111 0.11111111 \n",
       "Eosinophils     0.13333333     0.375      0.26666667 0.13333333 0.26666667 \n",
       "Fibroblasts     0.07692308     0.125      0.07692308 0.07692308 0.07692308 \n",
       "                Plasma_cells T_cells_CD4 T_cells_CD8 T_cells_gamma_delta\n",
       "B_cells         0.27272727   0.31578947  0.1578947   0.10526316         \n",
       "Cytotoxic_cells 0.11111111   0.55555556  0.8888889   0.77777778         \n",
       "Dendritic_cells 0.18181818   0.22000000  0.1600000   0.18181818         \n",
       "Endothelial     0.11111111   0.11111111  0.0000000   0.11111111         \n",
       "Eosinophils     0.18181818   0.33333333  0.2000000   0.20000000         \n",
       "Fibroblasts     0.09090909   0.07692308  0.0000000   0.07692308         \n",
       "                T_regulatory_cells\n",
       "B_cells         0.21052632        \n",
       "Cytotoxic_cells 0.11111111        \n",
       "Dendritic_cells 0.20000000        \n",
       "Endothelial     0.11111111        \n",
       "Eosinophils     0.13333333        \n",
       "Fibroblasts     0.07692308        "
      ]
     },
     "metadata": {},
     "output_type": "display_data"
    }
   ],
   "source": [
    "head(geneSetOverlap)"
   ]
  },
  {
   "cell_type": "code",
   "execution_count": 8,
   "metadata": {},
   "outputs": [],
   "source": [
    "write.table(geneSetOverlap,\n",
    "            file='../../Data/3/ConsensusTME_geneset_overlap.txt',\n",
    "            sep='\\t',\n",
    "            row.names=T,\n",
    "            col.names=T)"
   ]
  },
  {
   "cell_type": "markdown",
   "metadata": {},
   "source": [
    "# End script"
   ]
  }
 ],
 "metadata": {
  "kernelspec": {
   "display_name": "R",
   "language": "R",
   "name": "ir"
  },
  "language_info": {
   "codemirror_mode": "r",
   "file_extension": ".r",
   "mimetype": "text/x-r-source",
   "name": "R",
   "pygments_lexer": "r",
   "version": "3.5.0"
  }
 },
 "nbformat": 4,
 "nbformat_minor": 2
}

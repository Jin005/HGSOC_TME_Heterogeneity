{
 "cells": [
  {
   "cell_type": "markdown",
   "metadata": {},
   "source": [
    "# Plot clustermap ConsensusTME gene set overlaps"
   ]
  },
  {
   "cell_type": "markdown",
   "metadata": {},
   "source": [
    "Script related to figure s3B\n",
    "\n",
    "### Aim:\n",
    "- Plot clustermap of consensusTME gene set overlaps"
   ]
  },
  {
   "cell_type": "code",
   "execution_count": 1,
   "metadata": {},
   "outputs": [
    {
     "name": "stdout",
     "output_type": "stream",
     "text": [
      "Python 3.6.8 :: Anaconda custom (64-bit)\r\n"
     ]
    }
   ],
   "source": [
    "!python --version"
   ]
  },
  {
   "cell_type": "markdown",
   "metadata": {},
   "source": [
    "## Import packages"
   ]
  },
  {
   "cell_type": "code",
   "execution_count": 2,
   "metadata": {},
   "outputs": [],
   "source": [
    "import numpy as np\n",
    "import pandas as pd\n",
    "import seaborn as sns\n",
    "import matplotlib as mpl"
   ]
  },
  {
   "cell_type": "code",
   "execution_count": 3,
   "metadata": {},
   "outputs": [],
   "source": [
    "home = \"~/git_repos/HGSOC_TME_Heterogeneity/\""
   ]
  },
  {
   "cell_type": "markdown",
   "metadata": {},
   "source": [
    "## Load ConsensusTME overlap data"
   ]
  },
  {
   "cell_type": "code",
   "execution_count": 4,
   "metadata": {},
   "outputs": [],
   "source": [
    "file_consensus_overlap = home + 'Data/3/ConsensusTME_geneset_overlap.txt'\n",
    "\n",
    "consensus_overlap = pd.read_csv(file_consensus_overlap, sep='\\t')"
   ]
  },
  {
   "cell_type": "code",
   "execution_count": 5,
   "metadata": {},
   "outputs": [
    {
     "data": {
      "text/html": [
       "<div>\n",
       "<style scoped>\n",
       "    .dataframe tbody tr th:only-of-type {\n",
       "        vertical-align: middle;\n",
       "    }\n",
       "\n",
       "    .dataframe tbody tr th {\n",
       "        vertical-align: top;\n",
       "    }\n",
       "\n",
       "    .dataframe thead th {\n",
       "        text-align: right;\n",
       "    }\n",
       "</style>\n",
       "<table border=\"1\" class=\"dataframe\">\n",
       "  <thead>\n",
       "    <tr style=\"text-align: right;\">\n",
       "      <th></th>\n",
       "      <th>B_cells</th>\n",
       "      <th>Cytotoxic_cells</th>\n",
       "      <th>Dendritic_cells</th>\n",
       "      <th>Endothelial</th>\n",
       "      <th>Eosinophils</th>\n",
       "      <th>Fibroblasts</th>\n",
       "      <th>Macrophages</th>\n",
       "      <th>Macrophages_M1</th>\n",
       "      <th>Macrophages_M2</th>\n",
       "      <th>Mast_cells</th>\n",
       "      <th>Monocytes</th>\n",
       "      <th>NK_cells</th>\n",
       "      <th>Neutrophils</th>\n",
       "      <th>Plasma_cells</th>\n",
       "      <th>T_cells_CD4</th>\n",
       "      <th>T_cells_CD8</th>\n",
       "      <th>T_cells_gamma_delta</th>\n",
       "      <th>T_regulatory_cells</th>\n",
       "    </tr>\n",
       "  </thead>\n",
       "  <tbody>\n",
       "    <tr>\n",
       "      <th>B_cells</th>\n",
       "      <td>1.000000</td>\n",
       "      <td>0.111111</td>\n",
       "      <td>0.315789</td>\n",
       "      <td>0.111111</td>\n",
       "      <td>0.200000</td>\n",
       "      <td>0.076923</td>\n",
       "      <td>0.157895</td>\n",
       "      <td>0.210526</td>\n",
       "      <td>0.105263</td>\n",
       "      <td>0.250</td>\n",
       "      <td>0.210526</td>\n",
       "      <td>0.105263</td>\n",
       "      <td>0.052632</td>\n",
       "      <td>0.272727</td>\n",
       "      <td>0.315789</td>\n",
       "      <td>0.157895</td>\n",
       "      <td>0.105263</td>\n",
       "      <td>0.210526</td>\n",
       "    </tr>\n",
       "    <tr>\n",
       "      <th>Cytotoxic_cells</th>\n",
       "      <td>0.111111</td>\n",
       "      <td>1.000000</td>\n",
       "      <td>0.222222</td>\n",
       "      <td>0.111111</td>\n",
       "      <td>0.111111</td>\n",
       "      <td>0.111111</td>\n",
       "      <td>0.111111</td>\n",
       "      <td>0.111111</td>\n",
       "      <td>0.111111</td>\n",
       "      <td>0.125</td>\n",
       "      <td>0.111111</td>\n",
       "      <td>1.000000</td>\n",
       "      <td>0.111111</td>\n",
       "      <td>0.111111</td>\n",
       "      <td>0.555556</td>\n",
       "      <td>0.888889</td>\n",
       "      <td>0.777778</td>\n",
       "      <td>0.111111</td>\n",
       "    </tr>\n",
       "    <tr>\n",
       "      <th>Dendritic_cells</th>\n",
       "      <td>0.315789</td>\n",
       "      <td>0.222222</td>\n",
       "      <td>1.000000</td>\n",
       "      <td>0.222222</td>\n",
       "      <td>0.333333</td>\n",
       "      <td>0.076923</td>\n",
       "      <td>0.463415</td>\n",
       "      <td>0.514286</td>\n",
       "      <td>0.500000</td>\n",
       "      <td>0.375</td>\n",
       "      <td>0.360000</td>\n",
       "      <td>0.160000</td>\n",
       "      <td>0.272727</td>\n",
       "      <td>0.181818</td>\n",
       "      <td>0.220000</td>\n",
       "      <td>0.160000</td>\n",
       "      <td>0.181818</td>\n",
       "      <td>0.200000</td>\n",
       "    </tr>\n",
       "    <tr>\n",
       "      <th>Endothelial</th>\n",
       "      <td>0.111111</td>\n",
       "      <td>0.111111</td>\n",
       "      <td>0.222222</td>\n",
       "      <td>1.000000</td>\n",
       "      <td>0.111111</td>\n",
       "      <td>0.111111</td>\n",
       "      <td>0.222222</td>\n",
       "      <td>0.222222</td>\n",
       "      <td>0.222222</td>\n",
       "      <td>0.125</td>\n",
       "      <td>0.111111</td>\n",
       "      <td>0.111111</td>\n",
       "      <td>0.111111</td>\n",
       "      <td>0.111111</td>\n",
       "      <td>0.111111</td>\n",
       "      <td>0.000000</td>\n",
       "      <td>0.111111</td>\n",
       "      <td>0.111111</td>\n",
       "    </tr>\n",
       "    <tr>\n",
       "      <th>Eosinophils</th>\n",
       "      <td>0.200000</td>\n",
       "      <td>0.111111</td>\n",
       "      <td>0.333333</td>\n",
       "      <td>0.111111</td>\n",
       "      <td>1.000000</td>\n",
       "      <td>0.076923</td>\n",
       "      <td>0.266667</td>\n",
       "      <td>0.200000</td>\n",
       "      <td>0.133333</td>\n",
       "      <td>0.375</td>\n",
       "      <td>0.266667</td>\n",
       "      <td>0.133333</td>\n",
       "      <td>0.266667</td>\n",
       "      <td>0.181818</td>\n",
       "      <td>0.333333</td>\n",
       "      <td>0.200000</td>\n",
       "      <td>0.200000</td>\n",
       "      <td>0.133333</td>\n",
       "    </tr>\n",
       "  </tbody>\n",
       "</table>\n",
       "</div>"
      ],
      "text/plain": [
       "                  B_cells  Cytotoxic_cells  Dendritic_cells  Endothelial  \\\n",
       "B_cells          1.000000         0.111111         0.315789     0.111111   \n",
       "Cytotoxic_cells  0.111111         1.000000         0.222222     0.111111   \n",
       "Dendritic_cells  0.315789         0.222222         1.000000     0.222222   \n",
       "Endothelial      0.111111         0.111111         0.222222     1.000000   \n",
       "Eosinophils      0.200000         0.111111         0.333333     0.111111   \n",
       "\n",
       "                 Eosinophils  Fibroblasts  Macrophages  Macrophages_M1  \\\n",
       "B_cells             0.200000     0.076923     0.157895        0.210526   \n",
       "Cytotoxic_cells     0.111111     0.111111     0.111111        0.111111   \n",
       "Dendritic_cells     0.333333     0.076923     0.463415        0.514286   \n",
       "Endothelial         0.111111     0.111111     0.222222        0.222222   \n",
       "Eosinophils         1.000000     0.076923     0.266667        0.200000   \n",
       "\n",
       "                 Macrophages_M2  Mast_cells  Monocytes  NK_cells  Neutrophils  \\\n",
       "B_cells                0.105263       0.250   0.210526  0.105263     0.052632   \n",
       "Cytotoxic_cells        0.111111       0.125   0.111111  1.000000     0.111111   \n",
       "Dendritic_cells        0.500000       0.375   0.360000  0.160000     0.272727   \n",
       "Endothelial            0.222222       0.125   0.111111  0.111111     0.111111   \n",
       "Eosinophils            0.133333       0.375   0.266667  0.133333     0.266667   \n",
       "\n",
       "                 Plasma_cells  T_cells_CD4  T_cells_CD8  T_cells_gamma_delta  \\\n",
       "B_cells              0.272727     0.315789     0.157895             0.105263   \n",
       "Cytotoxic_cells      0.111111     0.555556     0.888889             0.777778   \n",
       "Dendritic_cells      0.181818     0.220000     0.160000             0.181818   \n",
       "Endothelial          0.111111     0.111111     0.000000             0.111111   \n",
       "Eosinophils          0.181818     0.333333     0.200000             0.200000   \n",
       "\n",
       "                 T_regulatory_cells  \n",
       "B_cells                    0.210526  \n",
       "Cytotoxic_cells            0.111111  \n",
       "Dendritic_cells            0.200000  \n",
       "Endothelial                0.111111  \n",
       "Eosinophils                0.133333  "
      ]
     },
     "execution_count": 5,
     "metadata": {},
     "output_type": "execute_result"
    }
   ],
   "source": [
    "consensus_overlap.head()"
   ]
  },
  {
   "cell_type": "markdown",
   "metadata": {},
   "source": [
    "## Plot clustermap"
   ]
  },
  {
   "cell_type": "markdown",
   "metadata": {},
   "source": [
    "### Generate discrete colormap"
   ]
  },
  {
   "cell_type": "code",
   "execution_count": 6,
   "metadata": {},
   "outputs": [],
   "source": [
    "def cmap_discretize(cmap, N):\n",
    "    \n",
    "    \"\"\"\n",
    "    Return a discrete colormap from the continuous colormap cmap.\n",
    "    \n",
    "    cmap: colormap instance, eg. cm.jet. \n",
    "    N: number of colors.\n",
    "    \"\"\"\n",
    "    \n",
    "    if type(cmap) == str:\n",
    "        \n",
    "        cmap = get_cmap(cmap)\n",
    "    \n",
    "    colors_i = np.concatenate((np.linspace(0,1.,N), (0.,0.,0.,0.)))\n",
    "    colors_rgba = cmap(colors_i)\n",
    "    indices = np.linspace(0,1.,N+1)\n",
    "    cdict = {}\n",
    "    \n",
    "    for ki, key in enumerate(('red','green','blue')):\n",
    "        \n",
    "        cdict[key] = [(indices[i],colors_rgba[i-1,ki],\n",
    "                       colors_rgba[i,ki]) for i in range(N+1)]\n",
    "        \n",
    "    # Return colormap object.\n",
    "    return mpl.colors.LinearSegmentedColormap(cmap.name+\"_%d\"%N,cdict,1024)"
   ]
  },
  {
   "cell_type": "code",
   "execution_count": 7,
   "metadata": {},
   "outputs": [],
   "source": [
    "discretized_cmap = cmap_discretize(mpl.cm.hot_r,10)"
   ]
  },
  {
   "cell_type": "markdown",
   "metadata": {},
   "source": [
    "### Define gene set colors"
   ]
  },
  {
   "cell_type": "code",
   "execution_count": 8,
   "metadata": {},
   "outputs": [],
   "source": [
    "GREEN = '#007F00'\n",
    "RED = '#CC0000'\n",
    "GREY = '#D3D3D3'\n",
    "BLUE = '#0000E5'\n",
    "YELLOW = '#FFFF00'\n",
    "\n",
    "color_sets = {\n",
    "'Endothelial':                                  RED,\n",
    "'B_cells':                                      '#A6CDE1',\n",
    "'T_cells_CD8':                                  '#FFDD15',\n",
    "'Cytotoxic_cells':                              '#FFD400',\n",
    "'Dendritic_cells':                              '#A181BA',\n",
    "'Eosinophils':                                  '#D8AF62',\n",
    "'Macrophages':                                  '#F58A21',\n",
    "'Macrophages_M1':                               '#F58A21',\n",
    "'Macrophages_M2':                               '#F58A21',\n",
    "'Monocytes':                                    '#F58A21',\n",
    "'Mast_cells':                                   '#F7F29B',\n",
    "'NK_cells':                                     '#70B09D',\n",
    "'Neutrophils':                                  '#B05A28',\n",
    "'T_cells_gamma_delta':                          '#4F9F45',\n",
    "'T_cells_CD4':                                  '#EC1C24',\n",
    "'T_regulatory_cells':                           '#67B853',\n",
    "'Plasma_cells':                                 '#A6CDE1',\n",
    "'Fibroblasts':                                  BLUE,\n",
    "'TumourCellularity_mRNA':                       'k'\n",
    "}"
   ]
  },
  {
   "cell_type": "code",
   "execution_count": 9,
   "metadata": {},
   "outputs": [],
   "source": [
    "color_sets_df = pd.DataFrame.from_dict(color_sets, orient='index')"
   ]
  },
  {
   "cell_type": "code",
   "execution_count": 10,
   "metadata": {},
   "outputs": [
    {
     "data": {
      "text/html": [
       "<div>\n",
       "<style scoped>\n",
       "    .dataframe tbody tr th:only-of-type {\n",
       "        vertical-align: middle;\n",
       "    }\n",
       "\n",
       "    .dataframe tbody tr th {\n",
       "        vertical-align: top;\n",
       "    }\n",
       "\n",
       "    .dataframe thead th {\n",
       "        text-align: right;\n",
       "    }\n",
       "</style>\n",
       "<table border=\"1\" class=\"dataframe\">\n",
       "  <thead>\n",
       "    <tr style=\"text-align: right;\">\n",
       "      <th></th>\n",
       "      <th>0</th>\n",
       "    </tr>\n",
       "  </thead>\n",
       "  <tbody>\n",
       "    <tr>\n",
       "      <th>Endothelial</th>\n",
       "      <td>#CC0000</td>\n",
       "    </tr>\n",
       "    <tr>\n",
       "      <th>B_cells</th>\n",
       "      <td>#A6CDE1</td>\n",
       "    </tr>\n",
       "    <tr>\n",
       "      <th>T_cells_CD8</th>\n",
       "      <td>#FFDD15</td>\n",
       "    </tr>\n",
       "    <tr>\n",
       "      <th>Cytotoxic_cells</th>\n",
       "      <td>#FFD400</td>\n",
       "    </tr>\n",
       "    <tr>\n",
       "      <th>Dendritic_cells</th>\n",
       "      <td>#A181BA</td>\n",
       "    </tr>\n",
       "  </tbody>\n",
       "</table>\n",
       "</div>"
      ],
      "text/plain": [
       "                       0\n",
       "Endothelial      #CC0000\n",
       "B_cells          #A6CDE1\n",
       "T_cells_CD8      #FFDD15\n",
       "Cytotoxic_cells  #FFD400\n",
       "Dendritic_cells  #A181BA"
      ]
     },
     "execution_count": 10,
     "metadata": {},
     "output_type": "execute_result"
    }
   ],
   "source": [
    "color_sets_df.head()"
   ]
  },
  {
   "cell_type": "markdown",
   "metadata": {},
   "source": [
    "### Plot"
   ]
  },
  {
   "cell_type": "code",
   "execution_count": 11,
   "metadata": {},
   "outputs": [
    {
     "data": {
      "image/png": "[encoded data removed]",
      "text/plain": [
       "<Figure size 1080x1080 with 6 Axes>"
      ]
     },
     "metadata": {},
     "output_type": "display_data"
    }
   ],
   "source": [
    "g = sns.clustermap(consensus_overlap,\n",
    "                   cmap=discretized_cmap,\n",
    "                   figsize=(15,15),\n",
    "                   #metric='correlation', # this owuld do correlation of correlation\n",
    "                   row_cluster=True,\n",
    "                   col_cluster=True,\n",
    "                   row_colors=color_sets_df[0],\n",
    "                   col_colors=color_sets_df[0],\n",
    "                   linewidths=0.0, rasterized=True)"
   ]
  },
  {
   "cell_type": "markdown",
   "metadata": {},
   "source": [
    "### Save plot"
   ]
  },
  {
   "cell_type": "code",
   "execution_count": 12,
   "metadata": {},
   "outputs": [],
   "source": [
    "FILE = \"../../Figures/supplementary/3/panels/s3b_ConsensusTME_overlap_clustermap\"\n",
    "\n",
    "g.savefig(FILE, bbox='tight')"
   ]
  },
  {
   "cell_type": "markdown",
   "metadata": {},
   "source": [
    "# End script"
   ]
  }
 ],
 "metadata": {
  "kernelspec": {
   "display_name": "Python 3",
   "language": "python",
   "name": "python3"
  },
  "language_info": {
   "codemirror_mode": {
    "name": "ipython",
    "version": 3
   },
   "file_extension": ".py",
   "mimetype": "text/x-python",
   "name": "python",
   "nbconvert_exporter": "python",
   "pygments_lexer": "ipython3",
   "version": "3.6.8"
  }
 },
 "nbformat": 4,
 "nbformat_minor": 2
}

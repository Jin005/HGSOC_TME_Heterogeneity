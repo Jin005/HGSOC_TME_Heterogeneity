{
 "cells": [
  {
   "cell_type": "markdown",
   "metadata": {},
   "source": [
    "# Differential expression analysis between samples with high and low tumour cellularity"
   ]
  },
  {
   "cell_type": "markdown",
   "metadata": {},
   "source": [
    "Script related to figure 3e\n",
    "\n",
    "### Aim:\n",
    "- Compare gene expression profiles between high and low tumour cellularity samples with and without patient dependecy"
   ]
  },
  {
   "cell_type": "code",
   "execution_count": 1,
   "metadata": {},
   "outputs": [
    {
     "data": {
      "text/plain": [
       "R version 3.5.0 (2018-04-23)\n",
       "Platform: x86_64-apple-darwin15.6.0 (64-bit)\n",
       "Running under: macOS High Sierra 10.13.6\n",
       "\n",
       "Matrix products: default\n",
       "BLAS: /Library/Frameworks/R.framework/Versions/3.5/Resources/lib/libRblas.0.dylib\n",
       "LAPACK: /Library/Frameworks/R.framework/Versions/3.5/Resources/lib/libRlapack.dylib\n",
       "\n",
       "locale:\n",
       "[1] C/UTF-8/C/C/C/C\n",
       "\n",
       "attached base packages:\n",
       "[1] stats     graphics  grDevices utils     datasets  methods   base     \n",
       "\n",
       "loaded via a namespace (and not attached):\n",
       " [1] compiler_3.5.0  IRdisplay_0.6.1 pbdZMQ_0.3-3    tools_3.5.0    \n",
       " [5] htmltools_0.3.6 base64enc_0.1-3 crayon_1.3.4    Rcpp_1.0.1     \n",
       " [9] uuid_0.1-2      IRkernel_0.8.14 jsonlite_1.6    digest_0.6.18  \n",
       "[13] repr_0.17       evaluate_0.13  "
      ]
     },
     "metadata": {},
     "output_type": "display_data"
    }
   ],
   "source": [
    "sessionInfo()"
   ]
  },
  {
   "cell_type": "markdown",
   "metadata": {},
   "source": [
    "## Install packages"
   ]
  },
  {
   "cell_type": "code",
   "execution_count": null,
   "metadata": {},
   "outputs": [],
   "source": [
    "#install.packages('DataCombine')"
   ]
  },
  {
   "cell_type": "markdown",
   "metadata": {},
   "source": [
    "## Load packages"
   ]
  },
  {
   "cell_type": "code",
   "execution_count": 1,
   "metadata": {},
   "outputs": [
    {
     "name": "stderr",
     "output_type": "stream",
     "text": [
      "Warning message:\n",
      "“package ‘limma’ was built under R version 3.5.1”Warning message:\n",
      "“package ‘ggplot2’ was built under R version 3.5.2”Warning message:\n",
      "“package ‘Biobase’ was built under R version 3.5.1”Loading required package: BiocGenerics\n",
      "Warning message:\n",
      "“package ‘BiocGenerics’ was built under R version 3.5.1”Loading required package: parallel\n",
      "\n",
      "Attaching package: ‘BiocGenerics’\n",
      "\n",
      "The following objects are masked from ‘package:parallel’:\n",
      "\n",
      "    clusterApply, clusterApplyLB, clusterCall, clusterEvalQ,\n",
      "    clusterExport, clusterMap, parApply, parCapply, parLapply,\n",
      "    parLapplyLB, parRapply, parSapply, parSapplyLB\n",
      "\n",
      "The following object is masked from ‘package:limma’:\n",
      "\n",
      "    plotMA\n",
      "\n",
      "The following objects are masked from ‘package:stats’:\n",
      "\n",
      "    IQR, mad, sd, var, xtabs\n",
      "\n",
      "The following objects are masked from ‘package:base’:\n",
      "\n",
      "    Filter, Find, Map, Position, Reduce, anyDuplicated, append,\n",
      "    as.data.frame, basename, cbind, colMeans, colSums, colnames,\n",
      "    dirname, do.call, duplicated, eval, evalq, get, grep, grepl,\n",
      "    intersect, is.unsorted, lapply, lengths, mapply, match, mget,\n",
      "    order, paste, pmax, pmax.int, pmin, pmin.int, rank, rbind,\n",
      "    rowMeans, rowSums, rownames, sapply, setdiff, sort, table, tapply,\n",
      "    union, unique, unsplit, which, which.max, which.min\n",
      "\n",
      "Welcome to Bioconductor\n",
      "\n",
      "    Vignettes contain introductory material; view with\n",
      "    'browseVignettes()'. To cite Bioconductor, see\n",
      "    'citation(\"Biobase\")', and for packages 'citation(\"pkgname\")'.\n",
      "\n"
     ]
    }
   ],
   "source": [
    "library(limma)\n",
    "library(ggplot2)\n",
    "library(ggrepel)\n",
    "library(Biobase)\n",
    "library(statmod)\n",
    "library(DataCombine)"
   ]
  },
  {
   "cell_type": "code",
   "execution_count": 2,
   "metadata": {},
   "outputs": [],
   "source": [
    "setwd(\"~/git_repos/HGSOC_TME_Heterogeneity/Scripts/3/\")"
   ]
  },
  {
   "cell_type": "markdown",
   "metadata": {},
   "source": [
    "## Load gene expression data"
   ]
  },
  {
   "cell_type": "code",
   "execution_count": null,
   "metadata": {},
   "outputs": [],
   "source": [
    "mix <- \"../../Data/1/TreatmentNaive_log2exp_loess_norm.txt\""
   ]
  },
  {
   "cell_type": "code",
   "execution_count": 3,
   "metadata": {},
   "outputs": [],
   "source": [
    "data <- read.csv(mix,\n",
    "                 sep='\\t',\n",
    "                 header=T,\n",
    "                 row.names='Hugo_Symbol')"
   ]
  },
  {
   "cell_type": "code",
   "execution_count": 4,
   "metadata": {},
   "outputs": [
    {
     "data": {
      "text/html": [
       "<table>\n",
       "<thead><tr><th></th><th scope=col>A01</th><th scope=col>A02</th><th scope=col>A03</th><th scope=col>A04</th><th scope=col>A05</th><th scope=col>A06</th><th scope=col>A07</th><th scope=col>A08</th><th scope=col>A09</th><th scope=col>A10</th><th scope=col>⋯</th><th scope=col>C06</th><th scope=col>C07</th><th scope=col>C08</th><th scope=col>C09</th><th scope=col>C10</th><th scope=col>C11</th><th scope=col>C12</th><th scope=col>D01</th><th scope=col>D02</th><th scope=col>D03</th></tr></thead>\n",
       "<tbody>\n",
       "\t<tr><th scope=row>A1BG</th><td> 4.124711</td><td> 3.880633</td><td> 4.864973</td><td>4.167882 </td><td> 4.317845</td><td> 3.679057</td><td>4.092837 </td><td> 4.370571</td><td> 4.252637</td><td>4.174694 </td><td>⋯        </td><td>3.804537 </td><td>4.416981 </td><td>4.169014 </td><td>4.503313 </td><td>4.146333 </td><td>4.078398 </td><td> 4.011369</td><td>3.845128 </td><td> 3.600927</td><td>4.521857 </td></tr>\n",
       "\t<tr><th scope=row>A2BP1</th><td> 3.960924</td><td> 4.033715</td><td> 3.721251</td><td>3.916073 </td><td> 4.338194</td><td> 3.357396</td><td>3.872447 </td><td> 3.803388</td><td> 3.484735</td><td>4.427405 </td><td>⋯        </td><td>4.991068 </td><td>3.799913 </td><td>4.117883 </td><td>4.122134 </td><td>4.221760 </td><td>3.648326 </td><td> 3.675317</td><td>3.546925 </td><td> 3.788279</td><td>4.920841 </td></tr>\n",
       "\t<tr><th scope=row>A2M</th><td>12.603155</td><td>10.859838</td><td>12.612923</td><td>9.176999 </td><td>10.548790</td><td>11.840776</td><td>7.200547 </td><td>11.835658</td><td>11.535547</td><td>7.080118 </td><td>⋯        </td><td>9.061598 </td><td>9.189459 </td><td>8.844728 </td><td>7.464440 </td><td>6.726233 </td><td>9.265911 </td><td>10.740486</td><td>9.735582 </td><td>10.781599</td><td>8.734304 </td></tr>\n",
       "\t<tr><th scope=row>A2ML1</th><td> 3.945877</td><td> 4.000621</td><td> 3.767932</td><td>3.789729 </td><td> 3.543204</td><td> 3.805520</td><td>4.336280 </td><td> 4.031757</td><td> 4.166018</td><td>3.673146 </td><td>⋯        </td><td>4.231174 </td><td>3.871651 </td><td>3.287232 </td><td>3.721093 </td><td>3.723801 </td><td>3.884499 </td><td> 3.694111</td><td>3.937682 </td><td> 3.600471</td><td>3.402861 </td></tr>\n",
       "\t<tr><th scope=row>A4GALT</th><td> 3.597277</td><td> 3.863757</td><td> 4.051844</td><td>4.113169 </td><td> 3.975144</td><td> 3.991293</td><td>5.439960 </td><td> 4.696177</td><td> 4.171788</td><td>4.041633 </td><td>⋯        </td><td>4.183089 </td><td>4.699729 </td><td>4.019537 </td><td>3.739865 </td><td>4.591953 </td><td>4.997860 </td><td> 4.099630</td><td>5.001239 </td><td> 4.714710</td><td>4.145119 </td></tr>\n",
       "\t<tr><th scope=row>A4GNT</th><td> 3.714481</td><td> 3.593169</td><td> 3.241352</td><td>3.515850 </td><td> 3.364447</td><td> 3.767865</td><td>3.768695 </td><td> 3.163977</td><td> 3.423377</td><td>3.205154 </td><td>⋯        </td><td>3.896812 </td><td>3.915653 </td><td>3.351422 </td><td>3.719759 </td><td>3.641028 </td><td>3.114521 </td><td> 3.560199</td><td>3.539738 </td><td> 3.760903</td><td>3.479266 </td></tr>\n",
       "</tbody>\n",
       "</table>\n"
      ],
      "text/latex": [
       "\\begin{tabular}{r|llllllllllllllllllllllllllllllllllllll}\n",
       "  & A01 & A02 & A03 & A04 & A05 & A06 & A07 & A08 & A09 & A10 & ⋯ & C06 & C07 & C08 & C09 & C10 & C11 & C12 & D01 & D02 & D03\\\\\n",
       "\\hline\n",
       "\tA1BG &  4.124711 &  3.880633 &  4.864973 & 4.167882  &  4.317845 &  3.679057 & 4.092837  &  4.370571 &  4.252637 & 4.174694  & ⋯         & 3.804537  & 4.416981  & 4.169014  & 4.503313  & 4.146333  & 4.078398  &  4.011369 & 3.845128  &  3.600927 & 4.521857 \\\\\n",
       "\tA2BP1 &  3.960924 &  4.033715 &  3.721251 & 3.916073  &  4.338194 &  3.357396 & 3.872447  &  3.803388 &  3.484735 & 4.427405  & ⋯         & 4.991068  & 3.799913  & 4.117883  & 4.122134  & 4.221760  & 3.648326  &  3.675317 & 3.546925  &  3.788279 & 4.920841 \\\\\n",
       "\tA2M & 12.603155 & 10.859838 & 12.612923 & 9.176999  & 10.548790 & 11.840776 & 7.200547  & 11.835658 & 11.535547 & 7.080118  & ⋯         & 9.061598  & 9.189459  & 8.844728  & 7.464440  & 6.726233  & 9.265911  & 10.740486 & 9.735582  & 10.781599 & 8.734304 \\\\\n",
       "\tA2ML1 &  3.945877 &  4.000621 &  3.767932 & 3.789729  &  3.543204 &  3.805520 & 4.336280  &  4.031757 &  4.166018 & 3.673146  & ⋯         & 4.231174  & 3.871651  & 3.287232  & 3.721093  & 3.723801  & 3.884499  &  3.694111 & 3.937682  &  3.600471 & 3.402861 \\\\\n",
       "\tA4GALT &  3.597277 &  3.863757 &  4.051844 & 4.113169  &  3.975144 &  3.991293 & 5.439960  &  4.696177 &  4.171788 & 4.041633  & ⋯         & 4.183089  & 4.699729  & 4.019537  & 3.739865  & 4.591953  & 4.997860  &  4.099630 & 5.001239  &  4.714710 & 4.145119 \\\\\n",
       "\tA4GNT &  3.714481 &  3.593169 &  3.241352 & 3.515850  &  3.364447 &  3.767865 & 3.768695  &  3.163977 &  3.423377 & 3.205154  & ⋯         & 3.896812  & 3.915653  & 3.351422  & 3.719759  & 3.641028  & 3.114521  &  3.560199 & 3.539738  &  3.760903 & 3.479266 \\\\\n",
       "\\end{tabular}\n"
      ],
      "text/markdown": [
       "\n",
       "| <!--/--> | A01 | A02 | A03 | A04 | A05 | A06 | A07 | A08 | A09 | A10 | ⋯ | C06 | C07 | C08 | C09 | C10 | C11 | C12 | D01 | D02 | D03 | \n",
       "|---|---|---|---|---|---|\n",
       "| A1BG |  4.124711 |  3.880633 |  4.864973 | 4.167882  |  4.317845 |  3.679057 | 4.092837  |  4.370571 |  4.252637 | 4.174694  | ⋯         | 3.804537  | 4.416981  | 4.169014  | 4.503313  | 4.146333  | 4.078398  |  4.011369 | 3.845128  |  3.600927 | 4.521857  | \n",
       "| A2BP1 |  3.960924 |  4.033715 |  3.721251 | 3.916073  |  4.338194 |  3.357396 | 3.872447  |  3.803388 |  3.484735 | 4.427405  | ⋯         | 4.991068  | 3.799913  | 4.117883  | 4.122134  | 4.221760  | 3.648326  |  3.675317 | 3.546925  |  3.788279 | 4.920841  | \n",
       "| A2M | 12.603155 | 10.859838 | 12.612923 | 9.176999  | 10.548790 | 11.840776 | 7.200547  | 11.835658 | 11.535547 | 7.080118  | ⋯         | 9.061598  | 9.189459  | 8.844728  | 7.464440  | 6.726233  | 9.265911  | 10.740486 | 9.735582  | 10.781599 | 8.734304  | \n",
       "| A2ML1 |  3.945877 |  4.000621 |  3.767932 | 3.789729  |  3.543204 |  3.805520 | 4.336280  |  4.031757 |  4.166018 | 3.673146  | ⋯         | 4.231174  | 3.871651  | 3.287232  | 3.721093  | 3.723801  | 3.884499  |  3.694111 | 3.937682  |  3.600471 | 3.402861  | \n",
       "| A4GALT |  3.597277 |  3.863757 |  4.051844 | 4.113169  |  3.975144 |  3.991293 | 5.439960  |  4.696177 |  4.171788 | 4.041633  | ⋯         | 4.183089  | 4.699729  | 4.019537  | 3.739865  | 4.591953  | 4.997860  |  4.099630 | 5.001239  |  4.714710 | 4.145119  | \n",
       "| A4GNT |  3.714481 |  3.593169 |  3.241352 | 3.515850  |  3.364447 |  3.767865 | 3.768695  |  3.163977 |  3.423377 | 3.205154  | ⋯         | 3.896812  | 3.915653  | 3.351422  | 3.719759  | 3.641028  | 3.114521  |  3.560199 | 3.539738  |  3.760903 | 3.479266  | \n",
       "\n",
       "\n"
      ],
      "text/plain": [
       "       A01       A02       A03       A04      A05       A06       A07     \n",
       "A1BG    4.124711  3.880633  4.864973 4.167882  4.317845  3.679057 4.092837\n",
       "A2BP1   3.960924  4.033715  3.721251 3.916073  4.338194  3.357396 3.872447\n",
       "A2M    12.603155 10.859838 12.612923 9.176999 10.548790 11.840776 7.200547\n",
       "A2ML1   3.945877  4.000621  3.767932 3.789729  3.543204  3.805520 4.336280\n",
       "A4GALT  3.597277  3.863757  4.051844 4.113169  3.975144  3.991293 5.439960\n",
       "A4GNT   3.714481  3.593169  3.241352 3.515850  3.364447  3.767865 3.768695\n",
       "       A08       A09       A10      ⋯ C06      C07      C08      C09     \n",
       "A1BG    4.370571  4.252637 4.174694 ⋯ 3.804537 4.416981 4.169014 4.503313\n",
       "A2BP1   3.803388  3.484735 4.427405 ⋯ 4.991068 3.799913 4.117883 4.122134\n",
       "A2M    11.835658 11.535547 7.080118 ⋯ 9.061598 9.189459 8.844728 7.464440\n",
       "A2ML1   4.031757  4.166018 3.673146 ⋯ 4.231174 3.871651 3.287232 3.721093\n",
       "A4GALT  4.696177  4.171788 4.041633 ⋯ 4.183089 4.699729 4.019537 3.739865\n",
       "A4GNT   3.163977  3.423377 3.205154 ⋯ 3.896812 3.915653 3.351422 3.719759\n",
       "       C10      C11      C12       D01      D02       D03     \n",
       "A1BG   4.146333 4.078398  4.011369 3.845128  3.600927 4.521857\n",
       "A2BP1  4.221760 3.648326  3.675317 3.546925  3.788279 4.920841\n",
       "A2M    6.726233 9.265911 10.740486 9.735582 10.781599 8.734304\n",
       "A2ML1  3.723801 3.884499  3.694111 3.937682  3.600471 3.402861\n",
       "A4GALT 4.591953 4.997860  4.099630 5.001239  4.714710 4.145119\n",
       "A4GNT  3.641028 3.114521  3.560199 3.539738  3.760903 3.479266"
      ]
     },
     "metadata": {},
     "output_type": "display_data"
    }
   ],
   "source": [
    "head(data)"
   ]
  },
  {
   "cell_type": "code",
   "execution_count": 5,
   "metadata": {},
   "outputs": [
    {
     "data": {
      "text/html": [
       "38"
      ],
      "text/latex": [
       "38"
      ],
      "text/markdown": [
       "38"
      ],
      "text/plain": [
       "[1] 38"
      ]
     },
     "metadata": {},
     "output_type": "display_data"
    }
   ],
   "source": [
    "length(data)"
   ]
  },
  {
   "cell_type": "markdown",
   "metadata": {},
   "source": [
    "### Remove samples B12 and C08 since they do not have matching WES data"
   ]
  },
  {
   "cell_type": "code",
   "execution_count": 6,
   "metadata": {},
   "outputs": [],
   "source": [
    "data <- subset(data,\n",
    "               select=-c(B12,C08))"
   ]
  },
  {
   "cell_type": "code",
   "execution_count": 7,
   "metadata": {},
   "outputs": [
    {
     "data": {
      "text/html": [
       "36"
      ],
      "text/latex": [
       "36"
      ],
      "text/markdown": [
       "36"
      ],
      "text/plain": [
       "[1] 36"
      ]
     },
     "metadata": {},
     "output_type": "display_data"
    }
   ],
   "source": [
    "length(data)"
   ]
  },
  {
   "cell_type": "markdown",
   "metadata": {},
   "source": [
    "### Convert dataframe to limma object"
   ]
  },
  {
   "cell_type": "code",
   "execution_count": 6,
   "metadata": {},
   "outputs": [],
   "source": [
    "eset <- new(\"ExpressionSet\",\n",
    "            exprs=as.matrix(data))"
   ]
  },
  {
   "cell_type": "markdown",
   "metadata": {},
   "source": [
    "### Check densities"
   ]
  },
  {
   "cell_type": "code",
   "execution_count": 7,
   "metadata": {},
   "outputs": [
    {
     "data": {
      "image/png": "[encoded data removed]",
      "text/plain": [
       "plot without title"
      ]
     },
     "metadata": {},
     "output_type": "display_data"
    }
   ],
   "source": [
    "plotDensities(eset,legend=F)"
   ]
  },
  {
   "cell_type": "markdown",
   "metadata": {},
   "source": [
    "## Get samples labels data"
   ]
  },
  {
   "cell_type": "code",
   "execution_count": 8,
   "metadata": {},
   "outputs": [],
   "source": [
    "file_keys = home + 'Data/1/TreatmentNaive_SampleLabels_WESTumourCellularity.txt'\n",
    "\n",
    "sample_labels <- read.csv(file_keys,\n",
    "                          sep='\\t',\n",
    "                          header=T,\n",
    "                          row.names='Well')"
   ]
  },
  {
   "cell_type": "code",
   "execution_count": 9,
   "metadata": {},
   "outputs": [
    {
     "data": {
      "text/html": [
       "<table>\n",
       "<thead><tr><th></th><th scope=col>Label</th><th scope=col>Key</th><th scope=col>Case_mRNA</th><th scope=col>Site</th><th scope=col>Habitat</th><th scope=col>Case_WES</th><th scope=col>Tumour_WES</th><th scope=col>Colour</th><th scope=col>Site_marker</th><th scope=col>TumourCellularity_WES</th></tr></thead>\n",
       "<tbody>\n",
       "\t<tr><th scope=row>A01</th><td>A01_3640_5_Omentum         </td><td>case10_omentum_green       </td><td>10                         </td><td>omentum                    </td><td>green                      </td><td>10                         </td><td>5                          </td><td>#ff7f00                    </td><td>^                          </td><td>0.5973                     </td></tr>\n",
       "\t<tr><th scope=row>A02</th><td>A02_3640_7_Omentum         </td><td>case10_omentum_blue        </td><td>10                         </td><td>omentum                    </td><td>blue                       </td><td>10                         </td><td>7                          </td><td>#ff7f00                    </td><td>^                          </td><td>0.5065                     </td></tr>\n",
       "\t<tr><th scope=row>A03</th><td>A03_3640_9_Paracolic_Gutter</td><td>case10_paracolic_yellow    </td><td>10                         </td><td>other                      </td><td>yellow                     </td><td>10                         </td><td>8                          </td><td>#ff7f00                    </td><td>s                          </td><td>0.4551                     </td></tr>\n",
       "\t<tr><th scope=row>A04</th><td>A04_3640_17_R_Adnexa       </td><td>case10_Radnexa_yellow      </td><td>10                         </td><td>ovary                      </td><td>yellow                     </td><td>10                         </td><td>17                         </td><td>#ff7f00                    </td><td>o                          </td><td>0.6496                     </td></tr>\n",
       "\t<tr><th scope=row>A05</th><td>A05_3640_18_R_Adnexa       </td><td>case10_Radnexa_blue        </td><td>10                         </td><td>ovary                      </td><td>blue                       </td><td>10                         </td><td>18                         </td><td>#ff7f00                    </td><td>o                          </td><td>0.6706                     </td></tr>\n",
       "\t<tr><th scope=row>A06</th><td>A06_3640_19_R_Adnexa       </td><td>case10_Radnexa_green       </td><td>10                         </td><td>ovary                      </td><td>green                      </td><td>10                         </td><td>19                         </td><td>#ff7f00                    </td><td>o                          </td><td>0.6695                     </td></tr>\n",
       "</tbody>\n",
       "</table>\n"
      ],
      "text/latex": [
       "\\begin{tabular}{r|llllllllll}\n",
       "  & Label & Key & Case\\_mRNA & Site & Habitat & Case\\_WES & Tumour\\_WES & Colour & Site\\_marker & TumourCellularity\\_WES\\\\\n",
       "\\hline\n",
       "\tA01 & A01\\_3640\\_5\\_Omentum          & case10\\_omentum\\_green          & 10                                & omentum                           & green                             & 10                                & 5                                 & \\#ff7f00                         & \\textasciicircum{}               & 0.5973                           \\\\\n",
       "\tA02 & A02\\_3640\\_7\\_Omentum          & case10\\_omentum\\_blue           & 10                                & omentum                           & blue                              & 10                                & 7                                 & \\#ff7f00                         & \\textasciicircum{}               & 0.5065                           \\\\\n",
       "\tA03 & A03\\_3640\\_9\\_Paracolic\\_Gutter & case10\\_paracolic\\_yellow         & 10                                  & other                               & yellow                              & 10                                  & 8                                   & \\#ff7f00                           & s                                   & 0.4551                             \\\\\n",
       "\tA04 & A04\\_3640\\_17\\_R\\_Adnexa        & case10\\_Radnexa\\_yellow           & 10                                  & ovary                               & yellow                              & 10                                  & 17                                  & \\#ff7f00                           & o                                   & 0.6496                             \\\\\n",
       "\tA05 & A05\\_3640\\_18\\_R\\_Adnexa        & case10\\_Radnexa\\_blue             & 10                                  & ovary                               & blue                                & 10                                  & 18                                  & \\#ff7f00                           & o                                   & 0.6706                             \\\\\n",
       "\tA06 & A06\\_3640\\_19\\_R\\_Adnexa        & case10\\_Radnexa\\_green            & 10                                  & ovary                               & green                               & 10                                  & 19                                  & \\#ff7f00                           & o                                   & 0.6695                             \\\\\n",
       "\\end{tabular}\n"
      ],
      "text/markdown": [
       "\n",
       "| <!--/--> | Label | Key | Case_mRNA | Site | Habitat | Case_WES | Tumour_WES | Colour | Site_marker | TumourCellularity_WES | \n",
       "|---|---|---|---|---|---|\n",
       "| A01 | A01_3640_5_Omentum          | case10_omentum_green        | 10                          | omentum                     | green                       | 10                          | 5                           | #ff7f00                     | ^                           | 0.5973                      | \n",
       "| A02 | A02_3640_7_Omentum          | case10_omentum_blue         | 10                          | omentum                     | blue                        | 10                          | 7                           | #ff7f00                     | ^                           | 0.5065                      | \n",
       "| A03 | A03_3640_9_Paracolic_Gutter | case10_paracolic_yellow     | 10                          | other                       | yellow                      | 10                          | 8                           | #ff7f00                     | s                           | 0.4551                      | \n",
       "| A04 | A04_3640_17_R_Adnexa        | case10_Radnexa_yellow       | 10                          | ovary                       | yellow                      | 10                          | 17                          | #ff7f00                     | o                           | 0.6496                      | \n",
       "| A05 | A05_3640_18_R_Adnexa        | case10_Radnexa_blue         | 10                          | ovary                       | blue                        | 10                          | 18                          | #ff7f00                     | o                           | 0.6706                      | \n",
       "| A06 | A06_3640_19_R_Adnexa        | case10_Radnexa_green        | 10                          | ovary                       | green                       | 10                          | 19                          | #ff7f00                     | o                           | 0.6695                      | \n",
       "\n",
       "\n"
      ],
      "text/plain": [
       "    Label                       Key                     Case_mRNA Site   \n",
       "A01 A01_3640_5_Omentum          case10_omentum_green    10        omentum\n",
       "A02 A02_3640_7_Omentum          case10_omentum_blue     10        omentum\n",
       "A03 A03_3640_9_Paracolic_Gutter case10_paracolic_yellow 10        other  \n",
       "A04 A04_3640_17_R_Adnexa        case10_Radnexa_yellow   10        ovary  \n",
       "A05 A05_3640_18_R_Adnexa        case10_Radnexa_blue     10        ovary  \n",
       "A06 A06_3640_19_R_Adnexa        case10_Radnexa_green    10        ovary  \n",
       "    Habitat Case_WES Tumour_WES Colour  Site_marker TumourCellularity_WES\n",
       "A01 green   10       5          #ff7f00 ^           0.5973               \n",
       "A02 blue    10       7          #ff7f00 ^           0.5065               \n",
       "A03 yellow  10       8          #ff7f00 s           0.4551               \n",
       "A04 yellow  10       17         #ff7f00 o           0.6496               \n",
       "A05 blue    10       18         #ff7f00 o           0.6706               \n",
       "A06 green   10       19         #ff7f00 o           0.6695               "
      ]
     },
     "metadata": {},
     "output_type": "display_data"
    }
   ],
   "source": [
    "head(sample_labels)"
   ]
  },
  {
   "cell_type": "code",
   "execution_count": 10,
   "metadata": {},
   "outputs": [
    {
     "data": {
      "image/png": "[encoded data removed]",
      "text/plain": [
       "plot without title"
      ]
     },
     "metadata": {},
     "output_type": "display_data"
    }
   ],
   "source": [
    "boxplot(sample_labels[,'TumourCellularity_WES'])"
   ]
  },
  {
   "cell_type": "markdown",
   "metadata": {},
   "source": [
    "### Remove samples B12 and C08 that do not have matching WES mRNA data"
   ]
  },
  {
   "cell_type": "code",
   "execution_count": 11,
   "metadata": {},
   "outputs": [
    {
     "data": {
      "text/html": [
       "<ol class=list-inline>\n",
       "\t<li>0.5973</li>\n",
       "\t<li>0.5065</li>\n",
       "\t<li>0.4551</li>\n",
       "\t<li>0.6496</li>\n",
       "\t<li>0.6706</li>\n",
       "\t<li>0.6695</li>\n",
       "\t<li>0.7275</li>\n",
       "\t<li>0.7929</li>\n",
       "\t<li>0.7211</li>\n",
       "\t<li>0.792</li>\n",
       "\t<li>0.7017</li>\n",
       "\t<li>0.5246</li>\n",
       "\t<li>0.8579</li>\n",
       "\t<li>0.7423</li>\n",
       "\t<li>0.7183</li>\n",
       "\t<li>0.7157</li>\n",
       "\t<li>0.6561</li>\n",
       "\t<li>0.6437</li>\n",
       "\t<li>0.6137</li>\n",
       "\t<li>0.6085</li>\n",
       "\t<li>0.5533</li>\n",
       "\t<li>0.5763</li>\n",
       "\t<li>&lt;NA&gt;</li>\n",
       "\t<li>0.6405</li>\n",
       "\t<li>0.6084</li>\n",
       "\t<li>0.5633</li>\n",
       "\t<li>0.5549</li>\n",
       "\t<li>0.465</li>\n",
       "\t<li>0.6625</li>\n",
       "\t<li>0.6217</li>\n",
       "\t<li>&lt;NA&gt;</li>\n",
       "\t<li>0.7377</li>\n",
       "\t<li>0.7359</li>\n",
       "\t<li>0.3932</li>\n",
       "\t<li>0.4936</li>\n",
       "\t<li>0.569</li>\n",
       "\t<li>0.5998</li>\n",
       "\t<li>0.801</li>\n",
       "</ol>\n"
      ],
      "text/latex": [
       "\\begin{enumerate*}\n",
       "\\item 0.5973\n",
       "\\item 0.5065\n",
       "\\item 0.4551\n",
       "\\item 0.6496\n",
       "\\item 0.6706\n",
       "\\item 0.6695\n",
       "\\item 0.7275\n",
       "\\item 0.7929\n",
       "\\item 0.7211\n",
       "\\item 0.792\n",
       "\\item 0.7017\n",
       "\\item 0.5246\n",
       "\\item 0.8579\n",
       "\\item 0.7423\n",
       "\\item 0.7183\n",
       "\\item 0.7157\n",
       "\\item 0.6561\n",
       "\\item 0.6437\n",
       "\\item 0.6137\n",
       "\\item 0.6085\n",
       "\\item 0.5533\n",
       "\\item 0.5763\n",
       "\\item <NA>\n",
       "\\item 0.6405\n",
       "\\item 0.6084\n",
       "\\item 0.5633\n",
       "\\item 0.5549\n",
       "\\item 0.465\n",
       "\\item 0.6625\n",
       "\\item 0.6217\n",
       "\\item <NA>\n",
       "\\item 0.7377\n",
       "\\item 0.7359\n",
       "\\item 0.3932\n",
       "\\item 0.4936\n",
       "\\item 0.569\n",
       "\\item 0.5998\n",
       "\\item 0.801\n",
       "\\end{enumerate*}\n"
      ],
      "text/markdown": [
       "1. 0.5973\n",
       "2. 0.5065\n",
       "3. 0.4551\n",
       "4. 0.6496\n",
       "5. 0.6706\n",
       "6. 0.6695\n",
       "7. 0.7275\n",
       "8. 0.7929\n",
       "9. 0.7211\n",
       "10. 0.792\n",
       "11. 0.7017\n",
       "12. 0.5246\n",
       "13. 0.8579\n",
       "14. 0.7423\n",
       "15. 0.7183\n",
       "16. 0.7157\n",
       "17. 0.6561\n",
       "18. 0.6437\n",
       "19. 0.6137\n",
       "20. 0.6085\n",
       "21. 0.5533\n",
       "22. 0.5763\n",
       "23. &lt;NA&gt;\n",
       "24. 0.6405\n",
       "25. 0.6084\n",
       "26. 0.5633\n",
       "27. 0.5549\n",
       "28. 0.465\n",
       "29. 0.6625\n",
       "30. 0.6217\n",
       "31. &lt;NA&gt;\n",
       "32. 0.7377\n",
       "33. 0.7359\n",
       "34. 0.3932\n",
       "35. 0.4936\n",
       "36. 0.569\n",
       "37. 0.5998\n",
       "38. 0.801\n",
       "\n",
       "\n"
      ],
      "text/plain": [
       " [1] 0.5973 0.5065 0.4551 0.6496 0.6706 0.6695 0.7275 0.7929 0.7211 0.7920\n",
       "[11] 0.7017 0.5246 0.8579 0.7423 0.7183 0.7157 0.6561 0.6437 0.6137 0.6085\n",
       "[21] 0.5533 0.5763     NA 0.6405 0.6084 0.5633 0.5549 0.4650 0.6625 0.6217\n",
       "[31]     NA 0.7377 0.7359 0.3932 0.4936 0.5690 0.5998 0.8010"
      ]
     },
     "metadata": {},
     "output_type": "display_data"
    }
   ],
   "source": [
    "sample_labels[,'TumourCellularity_WES']"
   ]
  },
  {
   "cell_type": "code",
   "execution_count": 12,
   "metadata": {},
   "outputs": [
    {
     "name": "stderr",
     "output_type": "stream",
     "text": [
      "No Var specified. Dropping all NAs from the data frame.\n",
      "\n",
      "2 rows dropped from the data frame because of missing values.\n"
     ]
    }
   ],
   "source": [
    "sample_labels_woNa <- DropNA(sample_labels)"
   ]
  },
  {
   "cell_type": "code",
   "execution_count": 13,
   "metadata": {},
   "outputs": [
    {
     "data": {
      "text/html": [
       "<ol class=list-inline>\n",
       "\t<li>0.5973</li>\n",
       "\t<li>0.5065</li>\n",
       "\t<li>0.4551</li>\n",
       "\t<li>0.6496</li>\n",
       "\t<li>0.6706</li>\n",
       "\t<li>0.6695</li>\n",
       "\t<li>0.7275</li>\n",
       "\t<li>0.7929</li>\n",
       "\t<li>0.7211</li>\n",
       "\t<li>0.792</li>\n",
       "\t<li>0.7017</li>\n",
       "\t<li>0.5246</li>\n",
       "\t<li>0.8579</li>\n",
       "\t<li>0.7423</li>\n",
       "\t<li>0.7183</li>\n",
       "\t<li>0.7157</li>\n",
       "\t<li>0.6561</li>\n",
       "\t<li>0.6437</li>\n",
       "\t<li>0.6137</li>\n",
       "\t<li>0.6085</li>\n",
       "\t<li>0.5533</li>\n",
       "\t<li>0.5763</li>\n",
       "\t<li>0.6405</li>\n",
       "\t<li>0.6084</li>\n",
       "\t<li>0.5633</li>\n",
       "\t<li>0.5549</li>\n",
       "\t<li>0.465</li>\n",
       "\t<li>0.6625</li>\n",
       "\t<li>0.6217</li>\n",
       "\t<li>0.7377</li>\n",
       "\t<li>0.7359</li>\n",
       "\t<li>0.3932</li>\n",
       "\t<li>0.4936</li>\n",
       "\t<li>0.569</li>\n",
       "\t<li>0.5998</li>\n",
       "\t<li>0.801</li>\n",
       "</ol>\n"
      ],
      "text/latex": [
       "\\begin{enumerate*}\n",
       "\\item 0.5973\n",
       "\\item 0.5065\n",
       "\\item 0.4551\n",
       "\\item 0.6496\n",
       "\\item 0.6706\n",
       "\\item 0.6695\n",
       "\\item 0.7275\n",
       "\\item 0.7929\n",
       "\\item 0.7211\n",
       "\\item 0.792\n",
       "\\item 0.7017\n",
       "\\item 0.5246\n",
       "\\item 0.8579\n",
       "\\item 0.7423\n",
       "\\item 0.7183\n",
       "\\item 0.7157\n",
       "\\item 0.6561\n",
       "\\item 0.6437\n",
       "\\item 0.6137\n",
       "\\item 0.6085\n",
       "\\item 0.5533\n",
       "\\item 0.5763\n",
       "\\item 0.6405\n",
       "\\item 0.6084\n",
       "\\item 0.5633\n",
       "\\item 0.5549\n",
       "\\item 0.465\n",
       "\\item 0.6625\n",
       "\\item 0.6217\n",
       "\\item 0.7377\n",
       "\\item 0.7359\n",
       "\\item 0.3932\n",
       "\\item 0.4936\n",
       "\\item 0.569\n",
       "\\item 0.5998\n",
       "\\item 0.801\n",
       "\\end{enumerate*}\n"
      ],
      "text/markdown": [
       "1. 0.5973\n",
       "2. 0.5065\n",
       "3. 0.4551\n",
       "4. 0.6496\n",
       "5. 0.6706\n",
       "6. 0.6695\n",
       "7. 0.7275\n",
       "8. 0.7929\n",
       "9. 0.7211\n",
       "10. 0.792\n",
       "11. 0.7017\n",
       "12. 0.5246\n",
       "13. 0.8579\n",
       "14. 0.7423\n",
       "15. 0.7183\n",
       "16. 0.7157\n",
       "17. 0.6561\n",
       "18. 0.6437\n",
       "19. 0.6137\n",
       "20. 0.6085\n",
       "21. 0.5533\n",
       "22. 0.5763\n",
       "23. 0.6405\n",
       "24. 0.6084\n",
       "25. 0.5633\n",
       "26. 0.5549\n",
       "27. 0.465\n",
       "28. 0.6625\n",
       "29. 0.6217\n",
       "30. 0.7377\n",
       "31. 0.7359\n",
       "32. 0.3932\n",
       "33. 0.4936\n",
       "34. 0.569\n",
       "35. 0.5998\n",
       "36. 0.801\n",
       "\n",
       "\n"
      ],
      "text/plain": [
       " [1] 0.5973 0.5065 0.4551 0.6496 0.6706 0.6695 0.7275 0.7929 0.7211 0.7920\n",
       "[11] 0.7017 0.5246 0.8579 0.7423 0.7183 0.7157 0.6561 0.6437 0.6137 0.6085\n",
       "[21] 0.5533 0.5763 0.6405 0.6084 0.5633 0.5549 0.4650 0.6625 0.6217 0.7377\n",
       "[31] 0.7359 0.3932 0.4936 0.5690 0.5998 0.8010"
      ]
     },
     "metadata": {},
     "output_type": "display_data"
    }
   ],
   "source": [
    "sample_labels_woNa[,'TumourCellularity_WES']"
   ]
  },
  {
   "cell_type": "markdown",
   "metadata": {},
   "source": [
    "### Define median tumour cellularity"
   ]
  },
  {
   "cell_type": "code",
   "execution_count": 14,
   "metadata": {},
   "outputs": [
    {
     "data": {
      "text/html": [
       "0.6421"
      ],
      "text/latex": [
       "0.6421"
      ],
      "text/markdown": [
       "0.6421"
      ],
      "text/plain": [
       "[1] 0.6421"
      ]
     },
     "metadata": {},
     "output_type": "display_data"
    }
   ],
   "source": [
    "med_tumCell <- median(sample_labels_woNa[,'TumourCellularity_WES'])\n",
    "med_tumCell"
   ]
  },
  {
   "cell_type": "code",
   "execution_count": 15,
   "metadata": {},
   "outputs": [],
   "source": [
    "tumcell <- as.data.frame(ifelse(sample_labels_woNa[,'TumourCellularity_WES'] > med_tumCell, 'high','low'))\n",
    "\n",
    "row.names(tumcell) <- row.names(sample_labels_woNa)\n",
    "\n",
    "colnames(tumcell)[1] <- 'TumourCellularity_WES_bin'"
   ]
  },
  {
   "cell_type": "code",
   "execution_count": 16,
   "metadata": {},
   "outputs": [
    {
     "data": {
      "text/html": [
       "<table>\n",
       "<thead><tr><th></th><th scope=col>TumourCellularity_WES_bin</th></tr></thead>\n",
       "<tbody>\n",
       "\t<tr><th scope=row>A01</th><td>low </td></tr>\n",
       "\t<tr><th scope=row>A02</th><td>low </td></tr>\n",
       "\t<tr><th scope=row>A03</th><td>low </td></tr>\n",
       "\t<tr><th scope=row>A04</th><td>high</td></tr>\n",
       "\t<tr><th scope=row>A05</th><td>high</td></tr>\n",
       "\t<tr><th scope=row>A06</th><td>high</td></tr>\n",
       "</tbody>\n",
       "</table>\n"
      ],
      "text/latex": [
       "\\begin{tabular}{r|l}\n",
       "  & TumourCellularity\\_WES\\_bin\\\\\n",
       "\\hline\n",
       "\tA01 & low \\\\\n",
       "\tA02 & low \\\\\n",
       "\tA03 & low \\\\\n",
       "\tA04 & high\\\\\n",
       "\tA05 & high\\\\\n",
       "\tA06 & high\\\\\n",
       "\\end{tabular}\n"
      ],
      "text/markdown": [
       "\n",
       "| <!--/--> | TumourCellularity_WES_bin | \n",
       "|---|---|---|---|---|---|\n",
       "| A01 | low  | \n",
       "| A02 | low  | \n",
       "| A03 | low  | \n",
       "| A04 | high | \n",
       "| A05 | high | \n",
       "| A06 | high | \n",
       "\n",
       "\n"
      ],
      "text/plain": [
       "    TumourCellularity_WES_bin\n",
       "A01 low                      \n",
       "A02 low                      \n",
       "A03 low                      \n",
       "A04 high                     \n",
       "A05 high                     \n",
       "A06 high                     "
      ]
     },
     "metadata": {},
     "output_type": "display_data"
    }
   ],
   "source": [
    "head(tumcell)"
   ]
  },
  {
   "cell_type": "code",
   "execution_count": 17,
   "metadata": {},
   "outputs": [],
   "source": [
    "sample_labels_woNa_tumcellbin <- merge(sample_labels_woNa,\n",
    "                                       tumcell,\n",
    "                                       by='row.names')"
   ]
  },
  {
   "cell_type": "code",
   "execution_count": 18,
   "metadata": {},
   "outputs": [],
   "source": [
    "row.names(sample_labels_woNa_tumcellbin) <- row.names(tumcell)\n",
    "sample_labels_woNa_tumcellbin$Row.names <- NULL"
   ]
  },
  {
   "cell_type": "code",
   "execution_count": 19,
   "metadata": {},
   "outputs": [
    {
     "data": {
      "text/html": [
       "<table>\n",
       "<thead><tr><th></th><th scope=col>Label</th><th scope=col>Key</th><th scope=col>Case_mRNA</th><th scope=col>Site</th><th scope=col>Habitat</th><th scope=col>Case_WES</th><th scope=col>Tumour_WES</th><th scope=col>Colour</th><th scope=col>Site_marker</th><th scope=col>TumourCellularity_WES</th><th scope=col>TumourCellularity_WES_bin</th></tr></thead>\n",
       "<tbody>\n",
       "\t<tr><th scope=row>A01</th><td>A01_3640_5_Omentum         </td><td>case10_omentum_green       </td><td>10                         </td><td>omentum                    </td><td>green                      </td><td>10                         </td><td>5                          </td><td>#ff7f00                    </td><td>^                          </td><td>0.5973                     </td><td>low                        </td></tr>\n",
       "\t<tr><th scope=row>A02</th><td>A02_3640_7_Omentum         </td><td>case10_omentum_blue        </td><td>10                         </td><td>omentum                    </td><td>blue                       </td><td>10                         </td><td>7                          </td><td>#ff7f00                    </td><td>^                          </td><td>0.5065                     </td><td>low                        </td></tr>\n",
       "\t<tr><th scope=row>A03</th><td>A03_3640_9_Paracolic_Gutter</td><td>case10_paracolic_yellow    </td><td>10                         </td><td>other                      </td><td>yellow                     </td><td>10                         </td><td>8                          </td><td>#ff7f00                    </td><td>s                          </td><td>0.4551                     </td><td>low                        </td></tr>\n",
       "\t<tr><th scope=row>A04</th><td>A04_3640_17_R_Adnexa       </td><td>case10_Radnexa_yellow      </td><td>10                         </td><td>ovary                      </td><td>yellow                     </td><td>10                         </td><td>17                         </td><td>#ff7f00                    </td><td>o                          </td><td>0.6496                     </td><td>high                       </td></tr>\n",
       "\t<tr><th scope=row>A05</th><td>A05_3640_18_R_Adnexa       </td><td>case10_Radnexa_blue        </td><td>10                         </td><td>ovary                      </td><td>blue                       </td><td>10                         </td><td>18                         </td><td>#ff7f00                    </td><td>o                          </td><td>0.6706                     </td><td>high                       </td></tr>\n",
       "\t<tr><th scope=row>A06</th><td>A06_3640_19_R_Adnexa       </td><td>case10_Radnexa_green       </td><td>10                         </td><td>ovary                      </td><td>green                      </td><td>10                         </td><td>19                         </td><td>#ff7f00                    </td><td>o                          </td><td>0.6695                     </td><td>high                       </td></tr>\n",
       "</tbody>\n",
       "</table>\n"
      ],
      "text/latex": [
       "\\begin{tabular}{r|lllllllllll}\n",
       "  & Label & Key & Case\\_mRNA & Site & Habitat & Case\\_WES & Tumour\\_WES & Colour & Site\\_marker & TumourCellularity\\_WES & TumourCellularity\\_WES\\_bin\\\\\n",
       "\\hline\n",
       "\tA01 & A01\\_3640\\_5\\_Omentum          & case10\\_omentum\\_green          & 10                                & omentum                           & green                             & 10                                & 5                                 & \\#ff7f00                         & \\textasciicircum{}               & 0.5973                            & low                              \\\\\n",
       "\tA02 & A02\\_3640\\_7\\_Omentum          & case10\\_omentum\\_blue           & 10                                & omentum                           & blue                              & 10                                & 7                                 & \\#ff7f00                         & \\textasciicircum{}               & 0.5065                            & low                              \\\\\n",
       "\tA03 & A03\\_3640\\_9\\_Paracolic\\_Gutter & case10\\_paracolic\\_yellow         & 10                                  & other                               & yellow                              & 10                                  & 8                                   & \\#ff7f00                           & s                                   & 0.4551                              & low                                \\\\\n",
       "\tA04 & A04\\_3640\\_17\\_R\\_Adnexa        & case10\\_Radnexa\\_yellow           & 10                                  & ovary                               & yellow                              & 10                                  & 17                                  & \\#ff7f00                           & o                                   & 0.6496                              & high                               \\\\\n",
       "\tA05 & A05\\_3640\\_18\\_R\\_Adnexa        & case10\\_Radnexa\\_blue             & 10                                  & ovary                               & blue                                & 10                                  & 18                                  & \\#ff7f00                           & o                                   & 0.6706                              & high                               \\\\\n",
       "\tA06 & A06\\_3640\\_19\\_R\\_Adnexa        & case10\\_Radnexa\\_green            & 10                                  & ovary                               & green                               & 10                                  & 19                                  & \\#ff7f00                           & o                                   & 0.6695                              & high                               \\\\\n",
       "\\end{tabular}\n"
      ],
      "text/markdown": [
       "\n",
       "| <!--/--> | Label | Key | Case_mRNA | Site | Habitat | Case_WES | Tumour_WES | Colour | Site_marker | TumourCellularity_WES | TumourCellularity_WES_bin | \n",
       "|---|---|---|---|---|---|\n",
       "| A01 | A01_3640_5_Omentum          | case10_omentum_green        | 10                          | omentum                     | green                       | 10                          | 5                           | #ff7f00                     | ^                           | 0.5973                      | low                         | \n",
       "| A02 | A02_3640_7_Omentum          | case10_omentum_blue         | 10                          | omentum                     | blue                        | 10                          | 7                           | #ff7f00                     | ^                           | 0.5065                      | low                         | \n",
       "| A03 | A03_3640_9_Paracolic_Gutter | case10_paracolic_yellow     | 10                          | other                       | yellow                      | 10                          | 8                           | #ff7f00                     | s                           | 0.4551                      | low                         | \n",
       "| A04 | A04_3640_17_R_Adnexa        | case10_Radnexa_yellow       | 10                          | ovary                       | yellow                      | 10                          | 17                          | #ff7f00                     | o                           | 0.6496                      | high                        | \n",
       "| A05 | A05_3640_18_R_Adnexa        | case10_Radnexa_blue         | 10                          | ovary                       | blue                        | 10                          | 18                          | #ff7f00                     | o                           | 0.6706                      | high                        | \n",
       "| A06 | A06_3640_19_R_Adnexa        | case10_Radnexa_green        | 10                          | ovary                       | green                       | 10                          | 19                          | #ff7f00                     | o                           | 0.6695                      | high                        | \n",
       "\n",
       "\n"
      ],
      "text/plain": [
       "    Label                       Key                     Case_mRNA Site   \n",
       "A01 A01_3640_5_Omentum          case10_omentum_green    10        omentum\n",
       "A02 A02_3640_7_Omentum          case10_omentum_blue     10        omentum\n",
       "A03 A03_3640_9_Paracolic_Gutter case10_paracolic_yellow 10        other  \n",
       "A04 A04_3640_17_R_Adnexa        case10_Radnexa_yellow   10        ovary  \n",
       "A05 A05_3640_18_R_Adnexa        case10_Radnexa_blue     10        ovary  \n",
       "A06 A06_3640_19_R_Adnexa        case10_Radnexa_green    10        ovary  \n",
       "    Habitat Case_WES Tumour_WES Colour  Site_marker TumourCellularity_WES\n",
       "A01 green   10       5          #ff7f00 ^           0.5973               \n",
       "A02 blue    10       7          #ff7f00 ^           0.5065               \n",
       "A03 yellow  10       8          #ff7f00 s           0.4551               \n",
       "A04 yellow  10       17         #ff7f00 o           0.6496               \n",
       "A05 blue    10       18         #ff7f00 o           0.6706               \n",
       "A06 green   10       19         #ff7f00 o           0.6695               \n",
       "    TumourCellularity_WES_bin\n",
       "A01 low                      \n",
       "A02 low                      \n",
       "A03 low                      \n",
       "A04 high                     \n",
       "A05 high                     \n",
       "A06 high                     "
      ]
     },
     "metadata": {},
     "output_type": "display_data"
    }
   ],
   "source": [
    "head(sample_labels_woNa_tumcellbin)"
   ]
  },
  {
   "cell_type": "markdown",
   "metadata": {},
   "source": [
    "### Tumour cellularity binary call as factor"
   ]
  },
  {
   "cell_type": "code",
   "execution_count": 20,
   "metadata": {},
   "outputs": [],
   "source": [
    "tumcellbin <- factor(sample_labels_woNa_tumcellbin$TumourCellularity_WES_bin)"
   ]
  },
  {
   "cell_type": "code",
   "execution_count": 21,
   "metadata": {},
   "outputs": [
    {
     "data": {
      "text/html": [
       "<ol class=list-inline>\n",
       "\t<li>low</li>\n",
       "\t<li>low</li>\n",
       "\t<li>low</li>\n",
       "\t<li>high</li>\n",
       "\t<li>high</li>\n",
       "\t<li>high</li>\n",
       "\t<li>high</li>\n",
       "\t<li>high</li>\n",
       "\t<li>high</li>\n",
       "\t<li>high</li>\n",
       "\t<li>high</li>\n",
       "\t<li>low</li>\n",
       "\t<li>high</li>\n",
       "\t<li>high</li>\n",
       "\t<li>high</li>\n",
       "\t<li>high</li>\n",
       "\t<li>high</li>\n",
       "\t<li>high</li>\n",
       "\t<li>low</li>\n",
       "\t<li>low</li>\n",
       "\t<li>low</li>\n",
       "\t<li>low</li>\n",
       "\t<li>low</li>\n",
       "\t<li>low</li>\n",
       "\t<li>low</li>\n",
       "\t<li>low</li>\n",
       "\t<li>low</li>\n",
       "\t<li>high</li>\n",
       "\t<li>low</li>\n",
       "\t<li>high</li>\n",
       "\t<li>high</li>\n",
       "\t<li>low</li>\n",
       "\t<li>low</li>\n",
       "\t<li>low</li>\n",
       "\t<li>low</li>\n",
       "\t<li>high</li>\n",
       "</ol>\n",
       "\n",
       "<details>\n",
       "\t<summary style=display:list-item;cursor:pointer>\n",
       "\t\t<strong>Levels</strong>:\n",
       "\t</summary>\n",
       "\t<ol class=list-inline>\n",
       "\t\t<li>'high'</li>\n",
       "\t\t<li>'low'</li>\n",
       "\t</ol>\n",
       "</details>"
      ],
      "text/latex": [
       "\\begin{enumerate*}\n",
       "\\item low\n",
       "\\item low\n",
       "\\item low\n",
       "\\item high\n",
       "\\item high\n",
       "\\item high\n",
       "\\item high\n",
       "\\item high\n",
       "\\item high\n",
       "\\item high\n",
       "\\item high\n",
       "\\item low\n",
       "\\item high\n",
       "\\item high\n",
       "\\item high\n",
       "\\item high\n",
       "\\item high\n",
       "\\item high\n",
       "\\item low\n",
       "\\item low\n",
       "\\item low\n",
       "\\item low\n",
       "\\item low\n",
       "\\item low\n",
       "\\item low\n",
       "\\item low\n",
       "\\item low\n",
       "\\item high\n",
       "\\item low\n",
       "\\item high\n",
       "\\item high\n",
       "\\item low\n",
       "\\item low\n",
       "\\item low\n",
       "\\item low\n",
       "\\item high\n",
       "\\end{enumerate*}\n",
       "\n",
       "\\emph{Levels}: \\begin{enumerate*}\n",
       "\\item 'high'\n",
       "\\item 'low'\n",
       "\\end{enumerate*}\n"
      ],
      "text/markdown": [
       "1. low\n",
       "2. low\n",
       "3. low\n",
       "4. high\n",
       "5. high\n",
       "6. high\n",
       "7. high\n",
       "8. high\n",
       "9. high\n",
       "10. high\n",
       "11. high\n",
       "12. low\n",
       "13. high\n",
       "14. high\n",
       "15. high\n",
       "16. high\n",
       "17. high\n",
       "18. high\n",
       "19. low\n",
       "20. low\n",
       "21. low\n",
       "22. low\n",
       "23. low\n",
       "24. low\n",
       "25. low\n",
       "26. low\n",
       "27. low\n",
       "28. high\n",
       "29. low\n",
       "30. high\n",
       "31. high\n",
       "32. low\n",
       "33. low\n",
       "34. low\n",
       "35. low\n",
       "36. high\n",
       "\n",
       "\n",
       "\n",
       "**Levels**: 1. 'high'\n",
       "2. 'low'\n",
       "\n",
       "\n"
      ],
      "text/plain": [
       " [1] low  low  low  high high high high high high high high low  high high high\n",
       "[16] high high high low  low  low  low  low  low  low  low  low  high low  high\n",
       "[31] high low  low  low  low  high\n",
       "Levels: high low"
      ]
     },
     "metadata": {},
     "output_type": "display_data"
    }
   ],
   "source": [
    "tumcellbin"
   ]
  },
  {
   "cell_type": "markdown",
   "metadata": {},
   "source": [
    "### Design matrix"
   ]
  },
  {
   "cell_type": "code",
   "execution_count": 22,
   "metadata": {},
   "outputs": [],
   "source": [
    "design <- model.matrix(~0+tumcellbin)\n",
    "colnames(design) <- levels(tumcellbin)"
   ]
  },
  {
   "cell_type": "code",
   "execution_count": 23,
   "metadata": {},
   "outputs": [
    {
     "data": {
      "text/html": [
       "<table>\n",
       "<thead><tr><th></th><th scope=col>high</th><th scope=col>low</th></tr></thead>\n",
       "<tbody>\n",
       "\t<tr><th scope=row>1</th><td>0</td><td>1</td></tr>\n",
       "\t<tr><th scope=row>2</th><td>0</td><td>1</td></tr>\n",
       "\t<tr><th scope=row>3</th><td>0</td><td>1</td></tr>\n",
       "\t<tr><th scope=row>4</th><td>1</td><td>0</td></tr>\n",
       "\t<tr><th scope=row>5</th><td>1</td><td>0</td></tr>\n",
       "\t<tr><th scope=row>6</th><td>1</td><td>0</td></tr>\n",
       "</tbody>\n",
       "</table>\n"
      ],
      "text/latex": [
       "\\begin{tabular}{r|ll}\n",
       "  & high & low\\\\\n",
       "\\hline\n",
       "\t1 & 0 & 1\\\\\n",
       "\t2 & 0 & 1\\\\\n",
       "\t3 & 0 & 1\\\\\n",
       "\t4 & 1 & 0\\\\\n",
       "\t5 & 1 & 0\\\\\n",
       "\t6 & 1 & 0\\\\\n",
       "\\end{tabular}\n"
      ],
      "text/markdown": [
       "\n",
       "| <!--/--> | high | low | \n",
       "|---|---|---|---|---|---|\n",
       "| 1 | 0 | 1 | \n",
       "| 2 | 0 | 1 | \n",
       "| 3 | 0 | 1 | \n",
       "| 4 | 1 | 0 | \n",
       "| 5 | 1 | 0 | \n",
       "| 6 | 1 | 0 | \n",
       "\n",
       "\n"
      ],
      "text/plain": [
       "  high low\n",
       "1 0    1  \n",
       "2 0    1  \n",
       "3 0    1  \n",
       "4 1    0  \n",
       "5 1    0  \n",
       "6 1    0  "
      ]
     },
     "metadata": {},
     "output_type": "display_data"
    }
   ],
   "source": [
    "head(design)"
   ]
  },
  {
   "cell_type": "markdown",
   "metadata": {},
   "source": [
    "## Estimate correlation between measurements on same subjects"
   ]
  },
  {
   "cell_type": "markdown",
   "metadata": {},
   "source": [
    "### Consider repeated measurements in the individuals"
   ]
  },
  {
   "cell_type": "code",
   "execution_count": 24,
   "metadata": {},
   "outputs": [
    {
     "data": {
      "text/html": [
       "0.17637271529942"
      ],
      "text/latex": [
       "0.17637271529942"
      ],
      "text/markdown": [
       "0.17637271529942"
      ],
      "text/plain": [
       "[1] 0.1763727"
      ]
     },
     "metadata": {},
     "output_type": "display_data"
    }
   ],
   "source": [
    "corfit <- duplicateCorrelation(eset,\n",
    "                               design,\n",
    "                               block=sample_labels_woNa_tumcellbin$Case_mRNA)\n",
    "\n",
    "corfit$consensus"
   ]
  },
  {
   "cell_type": "markdown",
   "metadata": {},
   "source": [
    "### Inter-subject correlation is input into the linear model fit"
   ]
  },
  {
   "cell_type": "code",
   "execution_count": 25,
   "metadata": {},
   "outputs": [],
   "source": [
    "fit <- lmFit(eset,\n",
    "             design,\n",
    "             block=sample_labels_woNa_tumcellbin$Case_mRNA,\n",
    "             correlation=corfit$consensus)"
   ]
  },
  {
   "cell_type": "code",
   "execution_count": 26,
   "metadata": {},
   "outputs": [
    {
     "data": {
      "text/html": [
       "<table>\n",
       "<thead><tr><th></th><th scope=col>High_vs_Low</th></tr></thead>\n",
       "<tbody>\n",
       "\t<tr><th scope=row>high</th><td> 1</td></tr>\n",
       "\t<tr><th scope=row>low</th><td>-1</td></tr>\n",
       "</tbody>\n",
       "</table>\n"
      ],
      "text/latex": [
       "\\begin{tabular}{r|l}\n",
       "  & High\\_vs\\_Low\\\\\n",
       "\\hline\n",
       "\thigh &  1\\\\\n",
       "\tlow & -1\\\\\n",
       "\\end{tabular}\n"
      ],
      "text/markdown": [
       "\n",
       "| <!--/--> | High_vs_Low | \n",
       "|---|---|\n",
       "| high |  1 | \n",
       "| low | -1 | \n",
       "\n",
       "\n"
      ],
      "text/plain": [
       "      Contrasts\n",
       "Levels High_vs_Low\n",
       "  high  1         \n",
       "  low  -1         "
      ]
     },
     "metadata": {},
     "output_type": "display_data"
    }
   ],
   "source": [
    "cm <- makeContrasts(\n",
    "      High_vs_Low = high-low,\n",
    "      levels=design)\n",
    "\n",
    "cm"
   ]
  },
  {
   "cell_type": "code",
   "execution_count": 27,
   "metadata": {},
   "outputs": [],
   "source": [
    "fit2 <- contrasts.fit(fit, cm)\n",
    "fit2 <- eBayes(fit2)"
   ]
  },
  {
   "cell_type": "code",
   "execution_count": 28,
   "metadata": {},
   "outputs": [
    {
     "data": {
      "text/html": [
       "<table>\n",
       "<thead><tr><th></th><th scope=col>logFC</th><th scope=col>AveExpr</th><th scope=col>t</th><th scope=col>P.Value</th><th scope=col>adj.P.Val</th><th scope=col>B</th></tr></thead>\n",
       "<tbody>\n",
       "\t<tr><th scope=row>CYBB</th><td>-1.870505   </td><td> 7.517236   </td><td>-7.383829   </td><td>9.506638e-09</td><td>0.0001394434</td><td>9.284987    </td></tr>\n",
       "\t<tr><th scope=row>VAMP5</th><td>-1.638811   </td><td> 7.159211   </td><td>-5.762822   </td><td>1.374465e-06</td><td>0.0100803241</td><td>5.020438    </td></tr>\n",
       "\t<tr><th scope=row>APOC1</th><td>-2.131354   </td><td>12.821060   </td><td>-5.479986   </td><td>3.302432e-06</td><td>0.0105828459</td><td>4.257513    </td></tr>\n",
       "\t<tr><th scope=row>IL7R</th><td>-3.111353   </td><td>10.072070   </td><td>-5.426074   </td><td>3.902423e-06</td><td>0.0105828459</td><td>4.111945    </td></tr>\n",
       "\t<tr><th scope=row>NKG7</th><td>-1.178869   </td><td> 6.407097   </td><td>-5.360814   </td><td>4.775790e-06</td><td>0.0105828459</td><td>3.935731    </td></tr>\n",
       "\t<tr><th scope=row>CD53</th><td>-1.710032   </td><td> 9.386776   </td><td>-5.338679   </td><td>5.114235e-06</td><td>0.0105828459</td><td>3.875965    </td></tr>\n",
       "\t<tr><th scope=row>PTPRC</th><td>-2.794075   </td><td>10.750614   </td><td>-5.322007   </td><td>5.384832e-06</td><td>0.0105828459</td><td>3.830953    </td></tr>\n",
       "\t<tr><th scope=row>BAIAP2L1</th><td> 1.462222   </td><td> 7.874020   </td><td> 5.290740   </td><td>5.931338e-06</td><td>0.0105828459</td><td>3.746542    </td></tr>\n",
       "\t<tr><th scope=row>LST1</th><td>-1.030270   </td><td> 6.549354   </td><td>-5.261441   </td><td>6.493429e-06</td><td>0.0105828459</td><td>3.667457    </td></tr>\n",
       "\t<tr><th scope=row>RARRES3</th><td>-1.987022   </td><td> 8.487008   </td><td>-5.205277   </td><td>7.723262e-06</td><td>0.0113284801</td><td>3.515899    </td></tr>\n",
       "</tbody>\n",
       "</table>\n"
      ],
      "text/latex": [
       "\\begin{tabular}{r|llllll}\n",
       "  & logFC & AveExpr & t & P.Value & adj.P.Val & B\\\\\n",
       "\\hline\n",
       "\tCYBB & -1.870505    &  7.517236    & -7.383829    & 9.506638e-09 & 0.0001394434 & 9.284987    \\\\\n",
       "\tVAMP5 & -1.638811    &  7.159211    & -5.762822    & 1.374465e-06 & 0.0100803241 & 5.020438    \\\\\n",
       "\tAPOC1 & -2.131354    & 12.821060    & -5.479986    & 3.302432e-06 & 0.0105828459 & 4.257513    \\\\\n",
       "\tIL7R & -3.111353    & 10.072070    & -5.426074    & 3.902423e-06 & 0.0105828459 & 4.111945    \\\\\n",
       "\tNKG7 & -1.178869    &  6.407097    & -5.360814    & 4.775790e-06 & 0.0105828459 & 3.935731    \\\\\n",
       "\tCD53 & -1.710032    &  9.386776    & -5.338679    & 5.114235e-06 & 0.0105828459 & 3.875965    \\\\\n",
       "\tPTPRC & -2.794075    & 10.750614    & -5.322007    & 5.384832e-06 & 0.0105828459 & 3.830953    \\\\\n",
       "\tBAIAP2L1 &  1.462222    &  7.874020    &  5.290740    & 5.931338e-06 & 0.0105828459 & 3.746542    \\\\\n",
       "\tLST1 & -1.030270    &  6.549354    & -5.261441    & 6.493429e-06 & 0.0105828459 & 3.667457    \\\\\n",
       "\tRARRES3 & -1.987022    &  8.487008    & -5.205277    & 7.723262e-06 & 0.0113284801 & 3.515899    \\\\\n",
       "\\end{tabular}\n"
      ],
      "text/markdown": [
       "\n",
       "| <!--/--> | logFC | AveExpr | t | P.Value | adj.P.Val | B | \n",
       "|---|---|---|---|---|---|---|---|---|---|\n",
       "| CYBB | -1.870505    |  7.517236    | -7.383829    | 9.506638e-09 | 0.0001394434 | 9.284987     | \n",
       "| VAMP5 | -1.638811    |  7.159211    | -5.762822    | 1.374465e-06 | 0.0100803241 | 5.020438     | \n",
       "| APOC1 | -2.131354    | 12.821060    | -5.479986    | 3.302432e-06 | 0.0105828459 | 4.257513     | \n",
       "| IL7R | -3.111353    | 10.072070    | -5.426074    | 3.902423e-06 | 0.0105828459 | 4.111945     | \n",
       "| NKG7 | -1.178869    |  6.407097    | -5.360814    | 4.775790e-06 | 0.0105828459 | 3.935731     | \n",
       "| CD53 | -1.710032    |  9.386776    | -5.338679    | 5.114235e-06 | 0.0105828459 | 3.875965     | \n",
       "| PTPRC | -2.794075    | 10.750614    | -5.322007    | 5.384832e-06 | 0.0105828459 | 3.830953     | \n",
       "| BAIAP2L1 |  1.462222    |  7.874020    |  5.290740    | 5.931338e-06 | 0.0105828459 | 3.746542     | \n",
       "| LST1 | -1.030270    |  6.549354    | -5.261441    | 6.493429e-06 | 0.0105828459 | 3.667457     | \n",
       "| RARRES3 | -1.987022    |  8.487008    | -5.205277    | 7.723262e-06 | 0.0113284801 | 3.515899     | \n",
       "\n",
       "\n"
      ],
      "text/plain": [
       "         logFC     AveExpr   t         P.Value      adj.P.Val    B       \n",
       "CYBB     -1.870505  7.517236 -7.383829 9.506638e-09 0.0001394434 9.284987\n",
       "VAMP5    -1.638811  7.159211 -5.762822 1.374465e-06 0.0100803241 5.020438\n",
       "APOC1    -2.131354 12.821060 -5.479986 3.302432e-06 0.0105828459 4.257513\n",
       "IL7R     -3.111353 10.072070 -5.426074 3.902423e-06 0.0105828459 4.111945\n",
       "NKG7     -1.178869  6.407097 -5.360814 4.775790e-06 0.0105828459 3.935731\n",
       "CD53     -1.710032  9.386776 -5.338679 5.114235e-06 0.0105828459 3.875965\n",
       "PTPRC    -2.794075 10.750614 -5.322007 5.384832e-06 0.0105828459 3.830953\n",
       "BAIAP2L1  1.462222  7.874020  5.290740 5.931338e-06 0.0105828459 3.746542\n",
       "LST1     -1.030270  6.549354 -5.261441 6.493429e-06 0.0105828459 3.667457\n",
       "RARRES3  -1.987022  8.487008 -5.205277 7.723262e-06 0.0113284801 3.515899"
      ]
     },
     "metadata": {},
     "output_type": "display_data"
    }
   ],
   "source": [
    "topTable(fit2,\n",
    "         coef=\"High_vs_Low\",\n",
    "         adjust='fdr')"
   ]
  },
  {
   "cell_type": "code",
   "execution_count": 29,
   "metadata": {},
   "outputs": [],
   "source": [
    "?decideTests"
   ]
  },
  {
   "cell_type": "code",
   "execution_count": null,
   "metadata": {},
   "outputs": [],
   "source": [
    "results <- decideTests(fit2,\n",
    "                       adjust.method='fdr')"
   ]
  },
  {
   "cell_type": "code",
   "execution_count": null,
   "metadata": {},
   "outputs": [],
   "source": [
    "head(results)"
   ]
  },
  {
   "cell_type": "code",
   "execution_count": null,
   "metadata": {},
   "outputs": [],
   "source": [
    "results[results[,'High_vs_Low'] == 1,]"
   ]
  },
  {
   "cell_type": "code",
   "execution_count": null,
   "metadata": {},
   "outputs": [],
   "source": [
    "length(results[results[,'High_vs_Low'] == -1,])"
   ]
  },
  {
   "cell_type": "code",
   "execution_count": null,
   "metadata": {},
   "outputs": [],
   "source": [
    "number_of_DE_genes <- length(results[results[,'High_vs_Low'] != 0,])"
   ]
  },
  {
   "cell_type": "code",
   "execution_count": null,
   "metadata": {
    "scrolled": true
   },
   "outputs": [],
   "source": [
    "vennDiagram(results)"
   ]
  },
  {
   "cell_type": "markdown",
   "metadata": {},
   "source": [
    "## Volcanoplot"
   ]
  },
  {
   "cell_type": "markdown",
   "metadata": {},
   "source": [
    "<p> Ref1: https://support.bioconductor.org/p/98442/ </p>\n",
    "<p> Ref2: https://support.bioconductor.org/p/62384/ </p>\n",
    "<p> Ref3: https://support.bioconductor.org/p/6124/ </p>"
   ]
  },
  {
   "cell_type": "markdown",
   "metadata": {},
   "source": [
    "### Plot limma's default volcano plot"
   ]
  },
  {
   "cell_type": "code",
   "execution_count": null,
   "metadata": {},
   "outputs": [],
   "source": [
    "\n",
    "volcanoplot(fit2,\n",
    "            style='p-value',\n",
    "            highlight=number_of_DE_genes,\n",
    "            names=row.names(results),\n",
    "            hl.col='blue',\n",
    "            cex=0.3)\n",
    "\n",
    "lp <- -log10(fit2$p.value[,\"High_vs_Low\"])\n",
    "ord <- order(lp, decreasing = TRUE)[1:32]\n",
    "points(fit2$coef[ord,\"High_vs_Low\"], lp[ord], pch = 16, cex = 0.3, col = 2)\n"
   ]
  },
  {
   "cell_type": "markdown",
   "metadata": {},
   "source": [
    "### Save beautified volcano plot"
   ]
  },
  {
   "cell_type": "code",
   "execution_count": null,
   "metadata": {},
   "outputs": [],
   "source": [
    "pure_de <- topTable(fit2, coef = 'High_vs_Low', number = Inf)\n",
    "\n",
    "purity.plot <- c()\n",
    "genes <- pure_de\n",
    "genes$Significant <- ifelse(genes$adj.P.Val < 0.05,\n",
    "                            ifelse(genes$logFC > 0,\n",
    "                                   'Up',\n",
    "                                   ifelse(genes$logFC < 0,'Down',\n",
    "                                          'Not_Sig')),\n",
    "                            'Not_Sig')"
   ]
  },
  {
   "cell_type": "code",
   "execution_count": null,
   "metadata": {},
   "outputs": [],
   "source": [
    "pdf('../../Figures/main/3/panels/3e_differential_expression_highlow_tumour_cellularity_patientdependent.pdf')\n",
    "\n",
    "pure.plot <- ggplot(genes, aes(x = logFC, y = -log10(P.Value))) +\n",
    "    geom_point(aes(size = Significant,\n",
    "               alpha = Significant,\n",
    "               colour = Significant,\n",
    "               shape = Significant,\n",
    "               stroke = 0\n",
    "             )) +\n",
    "    scale_color_manual(values = c('darkred','grey15','forestgreen'),guide = FALSE) +\n",
    "    scale_shape_manual(values = c(16,16,16),guide = FALSE) +\n",
    "    scale_size_manual(values = c(1,1,1),guide = FALSE) +\n",
    "    scale_alpha_manual(values = c(1,1,1),guide = FALSE) +\n",
    "    theme_classic() +\n",
    "    geom_text_repel(\n",
    "        data = subset(genes, Significant %in% c('Up', 'Down')),\n",
    "        aes(label = row.names(subset(genes, Significant %in% c('Up', 'Down')))),\n",
    "        size = 2.5,\n",
    "        box.padding = unit(0.15, \"lines\"),\n",
    "        point.padding = unit(0.1, \"lines\")\n",
    "      ) +\n",
    "     scale_x_continuous(limits = c(-4, 4), breaks = c(-3,-2,-1,0,1,2,3))\n",
    "pure.plot\n",
    "\n",
    "dev.off()"
   ]
  },
  {
   "cell_type": "markdown",
   "metadata": {},
   "source": [
    "### Sort genes by moderated t-statistic"
   ]
  },
  {
   "cell_type": "markdown",
   "metadata": {},
   "source": [
    "#### Number of genes (features)"
   ]
  },
  {
   "cell_type": "code",
   "execution_count": null,
   "metadata": {},
   "outputs": [],
   "source": [
    "dim(eset)"
   ]
  },
  {
   "cell_type": "code",
   "execution_count": null,
   "metadata": {},
   "outputs": [],
   "source": [
    "topTable(fit2,\n",
    "         coef=\"High_vs_Low\",\n",
    "         adjust='BH',\n",
    "         sort.by='t',\n",
    "         number=32)"
   ]
  },
  {
   "cell_type": "code",
   "execution_count": null,
   "metadata": {},
   "outputs": [],
   "source": [
    "de_statistics <- topTable(fit2,\n",
    "                          coef=\"High_vs_Low\",\n",
    "                          adjust='BH',\n",
    "                          sort.by='t',\n",
    "                          number=14668)"
   ]
  },
  {
   "cell_type": "markdown",
   "metadata": {},
   "source": [
    "### Save differential expression results"
   ]
  },
  {
   "cell_type": "code",
   "execution_count": null,
   "metadata": {},
   "outputs": [],
   "source": [
    "de_statistics <- data.frame(\"Hugo_symbol\"=rownames(de_statistics),\n",
    "                            de_statistics)\n",
    "\n",
    "rownames(de_statistics) <- NULL"
   ]
  },
  {
   "cell_type": "code",
   "execution_count": null,
   "metadata": {},
   "outputs": [],
   "source": [
    "write.table(de_statistics,\n",
    "            file='../../Data/3/Diff_exp_highlow_tum_cell_patientdependent.txt',\n",
    "            sep='\\t',\n",
    "            row.names=F,\n",
    "            col.names=T)"
   ]
  },
  {
   "cell_type": "markdown",
   "metadata": {},
   "source": [
    "### Save differentially expressed genes in high tumour cellularity tumours"
   ]
  },
  {
   "cell_type": "code",
   "execution_count": null,
   "metadata": {},
   "outputs": [],
   "source": [
    "hgenes <- row.names(as.data.frame(results[results[,'High_vs_Low'] == 1,]))"
   ]
  },
  {
   "cell_type": "code",
   "execution_count": null,
   "metadata": {},
   "outputs": [],
   "source": [
    "subset(de_statistics, de_statistics$Hugo_symbol %in% hgenes)"
   ]
  },
  {
   "cell_type": "code",
   "execution_count": null,
   "metadata": {},
   "outputs": [],
   "source": [
    "high_genes <- subset(de_statistics, de_statistics$Hugo_symbol %in% hgenes)"
   ]
  },
  {
   "cell_type": "code",
   "execution_count": null,
   "metadata": {},
   "outputs": [],
   "source": [
    "rownames(high_genes) <- NULL\n",
    "high_genes"
   ]
  },
  {
   "cell_type": "code",
   "execution_count": null,
   "metadata": {},
   "outputs": [],
   "source": [
    "write.table(high_genes,\n",
    "            file='../../Data/3/Diff_exp_high_tum_cell_patientdependent.txt',\n",
    "            sep='\\t',\n",
    "            row.names=F,\n",
    "            col.names=T)"
   ]
  },
  {
   "cell_type": "markdown",
   "metadata": {},
   "source": [
    "### Save differentially expressed genes in low tumour cellularity tumours"
   ]
  },
  {
   "cell_type": "code",
   "execution_count": null,
   "metadata": {},
   "outputs": [],
   "source": [
    "lgenes <- row.names(as.data.frame(results[results[,'High_vs_Low'] == -1,]))"
   ]
  },
  {
   "cell_type": "code",
   "execution_count": null,
   "metadata": {},
   "outputs": [],
   "source": [
    "head(subset(de_statistics, de_statistics$Hugo_symbol %in% lgenes))"
   ]
  },
  {
   "cell_type": "code",
   "execution_count": null,
   "metadata": {},
   "outputs": [],
   "source": [
    "low_genes <- subset(de_statistics, de_statistics$Hugo_symbol %in% lgenes)"
   ]
  },
  {
   "cell_type": "code",
   "execution_count": null,
   "metadata": {},
   "outputs": [],
   "source": [
    "rownames(low_genes) <- NULL\n",
    "head(low_genes)"
   ]
  },
  {
   "cell_type": "code",
   "execution_count": null,
   "metadata": {},
   "outputs": [],
   "source": [
    "write.table(low_genes,\n",
    "            file='../../Data/3/Diff_exp_low_tum_cell_patientdependent.txt',\n",
    "            sep='\\t',\n",
    "            row.names=F,\n",
    "            col.names=T)"
   ]
  },
  {
   "cell_type": "code",
   "execution_count": null,
   "metadata": {},
   "outputs": [],
   "source": [
    "low_genes$Hugo_symbol"
   ]
  },
  {
   "cell_type": "markdown",
   "metadata": {},
   "source": [
    "# End script"
   ]
  }
 ],
 "metadata": {
  "kernelspec": {
   "display_name": "R",
   "language": "R",
   "name": "ir"
  },
  "language_info": {
   "codemirror_mode": "r",
   "file_extension": ".r",
   "mimetype": "text/x-r-source",
   "name": "R",
   "pygments_lexer": "r",
   "version": "3.5.0"
  }
 },
 "nbformat": 4,
 "nbformat_minor": 2
}

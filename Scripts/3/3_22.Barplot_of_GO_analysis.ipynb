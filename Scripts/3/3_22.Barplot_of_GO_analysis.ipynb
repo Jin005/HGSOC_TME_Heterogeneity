{
 "cells": [
  {
   "cell_type": "markdown",
   "metadata": {},
   "source": [
    "# Barplot of gene ontology analysis"
   ]
  },
  {
   "cell_type": "markdown",
   "metadata": {},
   "source": [
    "Script related to figure 3f\n",
    "\n",
    "### Aim:\n",
    "- Plot gene ontology analysis results"
   ]
  },
  {
   "cell_type": "code",
   "execution_count": 1,
   "metadata": {},
   "outputs": [
    {
     "name": "stdout",
     "output_type": "stream",
     "text": [
      "Python 3.6.8 :: Anaconda custom (64-bit)\r\n"
     ]
    }
   ],
   "source": [
    "!python --version"
   ]
  },
  {
   "cell_type": "markdown",
   "metadata": {},
   "source": [
    "## Import packages"
   ]
  },
  {
   "cell_type": "code",
   "execution_count": 2,
   "metadata": {},
   "outputs": [],
   "source": [
    "import pandas as pd"
   ]
  },
  {
   "cell_type": "code",
   "execution_count": 3,
   "metadata": {},
   "outputs": [],
   "source": [
    "home = \"~/git_repos/HGSOC_TME_Heterogeneity/\""
   ]
  },
  {
   "cell_type": "markdown",
   "metadata": {},
   "source": [
    "## Load Gene Ontology analysis results"
   ]
  },
  {
   "cell_type": "code",
   "execution_count": 11,
   "metadata": {},
   "outputs": [
    {
     "data": {
      "text/html": [
       "<div>\n",
       "<style scoped>\n",
       "    .dataframe tbody tr th:only-of-type {\n",
       "        vertical-align: middle;\n",
       "    }\n",
       "\n",
       "    .dataframe tbody tr th {\n",
       "        vertical-align: top;\n",
       "    }\n",
       "\n",
       "    .dataframe thead th {\n",
       "        text-align: right;\n",
       "    }\n",
       "</style>\n",
       "<table border=\"1\" class=\"dataframe\">\n",
       "  <thead>\n",
       "    <tr style=\"text-align: right;\">\n",
       "      <th></th>\n",
       "      <th>Homo sapiens - REFLIST (20996)</th>\n",
       "      <th>upload_1 (30)</th>\n",
       "      <th>upload_1 (expected)</th>\n",
       "      <th>upload_1 (over/under)</th>\n",
       "      <th>upload_1 (fold Enrichment)</th>\n",
       "      <th>upload_1 (raw P-value)</th>\n",
       "      <th>upload_1 (FDR)</th>\n",
       "      <th>Unnamed: 8</th>\n",
       "      <th>Unnamed: 9</th>\n",
       "      <th>Unnamed: 10</th>\n",
       "      <th>Unnamed: 11</th>\n",
       "      <th>Unnamed: 12</th>\n",
       "    </tr>\n",
       "    <tr>\n",
       "      <th>GO biological process complete</th>\n",
       "      <th></th>\n",
       "      <th></th>\n",
       "      <th></th>\n",
       "      <th></th>\n",
       "      <th></th>\n",
       "      <th></th>\n",
       "      <th></th>\n",
       "      <th></th>\n",
       "      <th></th>\n",
       "      <th></th>\n",
       "      <th></th>\n",
       "      <th></th>\n",
       "    </tr>\n",
       "  </thead>\n",
       "  <tbody>\n",
       "    <tr>\n",
       "      <th>regulation of humoral immune response (GO:0002920)</th>\n",
       "      <td>134</td>\n",
       "      <td>4</td>\n",
       "      <td>0.19</td>\n",
       "      <td>+</td>\n",
       "      <td>20.89</td>\n",
       "      <td>4.260000e-05</td>\n",
       "      <td>0.044900</td>\n",
       "      <td>*</td>\n",
       "      <td>0.005100</td>\n",
       "      <td>-0.034900</td>\n",
       "      <td>-0.043900</td>\n",
       "      <td>-0.044800</td>\n",
       "    </tr>\n",
       "    <tr>\n",
       "      <th>response to interferon-gamma (GO:0034341)</th>\n",
       "      <td>182</td>\n",
       "      <td>5</td>\n",
       "      <td>0.26</td>\n",
       "      <td>+</td>\n",
       "      <td>19.23</td>\n",
       "      <td>6.270000e-06</td>\n",
       "      <td>0.011000</td>\n",
       "      <td>*</td>\n",
       "      <td>0.039000</td>\n",
       "      <td>-0.001000</td>\n",
       "      <td>-0.010000</td>\n",
       "      <td>-0.010900</td>\n",
       "    </tr>\n",
       "    <tr>\n",
       "      <th>myeloid leukocyte activation (GO:0002274)</th>\n",
       "      <td>573</td>\n",
       "      <td>9</td>\n",
       "      <td>0.82</td>\n",
       "      <td>+</td>\n",
       "      <td>10.99</td>\n",
       "      <td>7.630000e-08</td>\n",
       "      <td>0.000241</td>\n",
       "      <td>***</td>\n",
       "      <td>0.049759</td>\n",
       "      <td>0.009759</td>\n",
       "      <td>0.000759</td>\n",
       "      <td>-0.000141</td>\n",
       "    </tr>\n",
       "    <tr>\n",
       "      <th>innate immune response (GO:0045087)</th>\n",
       "      <td>744</td>\n",
       "      <td>10</td>\n",
       "      <td>1.06</td>\n",
       "      <td>+</td>\n",
       "      <td>9.41</td>\n",
       "      <td>5.190000e-08</td>\n",
       "      <td>0.000205</td>\n",
       "      <td>***</td>\n",
       "      <td>0.049795</td>\n",
       "      <td>0.009795</td>\n",
       "      <td>0.000795</td>\n",
       "      <td>-0.000105</td>\n",
       "    </tr>\n",
       "    <tr>\n",
       "      <th>leukocyte activation (GO:0045321)</th>\n",
       "      <td>900</td>\n",
       "      <td>11</td>\n",
       "      <td>1.29</td>\n",
       "      <td>+</td>\n",
       "      <td>8.55</td>\n",
       "      <td>2.440000e-08</td>\n",
       "      <td>0.000128</td>\n",
       "      <td>***</td>\n",
       "      <td>0.049872</td>\n",
       "      <td>0.009872</td>\n",
       "      <td>0.000872</td>\n",
       "      <td>-0.000028</td>\n",
       "    </tr>\n",
       "  </tbody>\n",
       "</table>\n",
       "</div>"
      ],
      "text/plain": [
       "                                                    Homo sapiens - REFLIST (20996)  \\\n",
       "GO biological process complete                                                       \n",
       "regulation of humoral immune response (GO:0002920)                             134   \n",
       "response to interferon-gamma (GO:0034341)                                      182   \n",
       "myeloid leukocyte activation (GO:0002274)                                      573   \n",
       "innate immune response (GO:0045087)                                            744   \n",
       "leukocyte activation (GO:0045321)                                              900   \n",
       "\n",
       "                                                    upload_1 (30)  \\\n",
       "GO biological process complete                                      \n",
       "regulation of humoral immune response (GO:0002920)              4   \n",
       "response to interferon-gamma (GO:0034341)                       5   \n",
       "myeloid leukocyte activation (GO:0002274)                       9   \n",
       "innate immune response (GO:0045087)                            10   \n",
       "leukocyte activation (GO:0045321)                              11   \n",
       "\n",
       "                                                    upload_1 (expected)  \\\n",
       "GO biological process complete                                            \n",
       "regulation of humoral immune response (GO:0002920)                 0.19   \n",
       "response to interferon-gamma (GO:0034341)                          0.26   \n",
       "myeloid leukocyte activation (GO:0002274)                          0.82   \n",
       "innate immune response (GO:0045087)                                1.06   \n",
       "leukocyte activation (GO:0045321)                                  1.29   \n",
       "\n",
       "                                                   upload_1 (over/under)  \\\n",
       "GO biological process complete                                             \n",
       "regulation of humoral immune response (GO:0002920)                     +   \n",
       "response to interferon-gamma (GO:0034341)                              +   \n",
       "myeloid leukocyte activation (GO:0002274)                              +   \n",
       "innate immune response (GO:0045087)                                    +   \n",
       "leukocyte activation (GO:0045321)                                      +   \n",
       "\n",
       "                                                    upload_1 (fold Enrichment)  \\\n",
       "GO biological process complete                                                   \n",
       "regulation of humoral immune response (GO:0002920)                       20.89   \n",
       "response to interferon-gamma (GO:0034341)                                19.23   \n",
       "myeloid leukocyte activation (GO:0002274)                                10.99   \n",
       "innate immune response (GO:0045087)                                       9.41   \n",
       "leukocyte activation (GO:0045321)                                         8.55   \n",
       "\n",
       "                                                    upload_1 (raw P-value)  \\\n",
       "GO biological process complete                                               \n",
       "regulation of humoral immune response (GO:0002920)            4.260000e-05   \n",
       "response to interferon-gamma (GO:0034341)                     6.270000e-06   \n",
       "myeloid leukocyte activation (GO:0002274)                     7.630000e-08   \n",
       "innate immune response (GO:0045087)                           5.190000e-08   \n",
       "leukocyte activation (GO:0045321)                             2.440000e-08   \n",
       "\n",
       "                                                    upload_1 (FDR) Unnamed: 8  \\\n",
       "GO biological process complete                                                  \n",
       "regulation of humoral immune response (GO:0002920)        0.044900          *   \n",
       "response to interferon-gamma (GO:0034341)                 0.011000          *   \n",
       "myeloid leukocyte activation (GO:0002274)                 0.000241        ***   \n",
       "innate immune response (GO:0045087)                       0.000205        ***   \n",
       "leukocyte activation (GO:0045321)                         0.000128        ***   \n",
       "\n",
       "                                                    Unnamed: 9  Unnamed: 10  \\\n",
       "GO biological process complete                                                \n",
       "regulation of humoral immune response (GO:0002920)    0.005100    -0.034900   \n",
       "response to interferon-gamma (GO:0034341)             0.039000    -0.001000   \n",
       "myeloid leukocyte activation (GO:0002274)             0.049759     0.009759   \n",
       "innate immune response (GO:0045087)                   0.049795     0.009795   \n",
       "leukocyte activation (GO:0045321)                     0.049872     0.009872   \n",
       "\n",
       "                                                    Unnamed: 11  Unnamed: 12  \n",
       "GO biological process complete                                                \n",
       "regulation of humoral immune response (GO:0002920)    -0.043900    -0.044800  \n",
       "response to interferon-gamma (GO:0034341)             -0.010000    -0.010900  \n",
       "myeloid leukocyte activation (GO:0002274)              0.000759    -0.000141  \n",
       "innate immune response (GO:0045087)                    0.000795    -0.000105  \n",
       "leukocyte activation (GO:0045321)                      0.000872    -0.000028  "
      ]
     },
     "execution_count": 11,
     "metadata": {},
     "output_type": "execute_result"
    }
   ],
   "source": [
    "file_GO_results = home + 'Data/3/Diff_exp_low_tum_cell_patientdependency_GO.txt'\n",
    "\n",
    "GO_results = pd.read_csv(file_GO_results,\n",
    "                         sep='\\t',\n",
    "                         skiprows=6,\n",
    "                         index_col='GO biological process complete')\n",
    "\n",
    "GO_results.head()"
   ]
  },
  {
   "cell_type": "markdown",
   "metadata": {},
   "source": [
    "## Barplot"
   ]
  },
  {
   "cell_type": "code",
   "execution_count": 13,
   "metadata": {},
   "outputs": [
    {
     "data": {
      "image/png": "[encoded data removed]",
      "text/plain": [
       "<Figure size 432x288 with 1 Axes>"
      ]
     },
     "metadata": {},
     "output_type": "display_data"
    }
   ],
   "source": [
    "bp = GO_results['upload_1 (fold Enrichment)'].plot(kind='barh')\n",
    "\n",
    "fig = bp.get_figure()"
   ]
  },
  {
   "cell_type": "code",
   "execution_count": 15,
   "metadata": {},
   "outputs": [],
   "source": [
    "FIGURE = \"../../Figures/main/3/panels/3f_Barplot_of_GO_analysis.pdf\"\n",
    "\n",
    "fig.savefig(FIGURE, bbox='tight')"
   ]
  },
  {
   "cell_type": "markdown",
   "metadata": {},
   "source": [
    "# End script"
   ]
  }
 ],
 "metadata": {
  "kernelspec": {
   "display_name": "Python 3",
   "language": "python",
   "name": "python3"
  },
  "language_info": {
   "codemirror_mode": {
    "name": "ipython",
    "version": 3
   },
   "file_extension": ".py",
   "mimetype": "text/x-python",
   "name": "python",
   "nbconvert_exporter": "python",
   "pygments_lexer": "ipython3",
   "version": "3.6.8"
  }
 },
 "nbformat": 4,
 "nbformat_minor": 2
}

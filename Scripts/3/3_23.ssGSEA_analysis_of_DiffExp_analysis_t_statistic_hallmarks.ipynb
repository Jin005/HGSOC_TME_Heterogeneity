{
 "cells": [
  {
   "cell_type": "markdown",
   "metadata": {},
   "source": [
    "# ssGSEA analysis of t-stastic derived from differential expression analysis using Hallmarks"
   ]
  },
  {
   "cell_type": "markdown",
   "metadata": {},
   "source": [
    "Script related to figure 3g\n",
    "\n",
    "### Aim:\n",
    "- Calculate NES of hallmark gene sets using t-statistic derived from differential expression analysis"
   ]
  },
  {
   "cell_type": "code",
   "execution_count": 1,
   "metadata": {},
   "outputs": [
    {
     "data": {
      "text/plain": [
       "R version 3.5.0 (2018-04-23)\n",
       "Platform: x86_64-apple-darwin15.6.0 (64-bit)\n",
       "Running under: macOS High Sierra 10.13.6\n",
       "\n",
       "Matrix products: default\n",
       "BLAS: /Library/Frameworks/R.framework/Versions/3.5/Resources/lib/libRblas.0.dylib\n",
       "LAPACK: /Library/Frameworks/R.framework/Versions/3.5/Resources/lib/libRlapack.dylib\n",
       "\n",
       "locale:\n",
       "[1] C/UTF-8/C/C/C/C\n",
       "\n",
       "attached base packages:\n",
       "[1] stats     graphics  grDevices utils     datasets  methods   base     \n",
       "\n",
       "loaded via a namespace (and not attached):\n",
       " [1] compiler_3.5.0  IRdisplay_0.6.1 pbdZMQ_0.3-3    tools_3.5.0    \n",
       " [5] htmltools_0.3.6 base64enc_0.1-3 crayon_1.3.4    Rcpp_1.0.1     \n",
       " [9] uuid_0.1-2      IRkernel_0.8.14 jsonlite_1.6    digest_0.6.18  \n",
       "[13] repr_0.17       evaluate_0.13  "
      ]
     },
     "metadata": {},
     "output_type": "display_data"
    }
   ],
   "source": [
    "sessionInfo()"
   ]
  },
  {
   "cell_type": "markdown",
   "metadata": {},
   "source": [
    "## Load packages"
   ]
  },
  {
   "cell_type": "code",
   "execution_count": 1,
   "metadata": {},
   "outputs": [
    {
     "name": "stderr",
     "output_type": "stream",
     "text": [
      "Warning message:\n",
      "“package ‘GSVA’ was built under R version 3.5.1”\n",
      "Attaching package: ‘BBmisc’\n",
      "\n",
      "The following object is masked from ‘package:base’:\n",
      "\n",
      "    isFALSE\n",
      "\n"
     ]
    }
   ],
   "source": [
    "library(GSVA)\n",
    "library(BBmisc)\n",
    "library(nortest)"
   ]
  },
  {
   "cell_type": "code",
   "execution_count": 2,
   "metadata": {},
   "outputs": [],
   "source": [
    "setwd(\"~/git_repos/HGSOC_TME_Heterogeneity/Scripts/3/\")"
   ]
  },
  {
   "cell_type": "markdown",
   "metadata": {},
   "source": [
    "## Load differential expression data"
   ]
  },
  {
   "cell_type": "code",
   "execution_count": null,
   "metadata": {},
   "outputs": [],
   "source": [
    "mix <- \"../../Data/1/TreatmentNaive_log2exp_loess_norm.txt\""
   ]
  },
  {
   "cell_type": "code",
   "execution_count": 3,
   "metadata": {},
   "outputs": [
    {
     "data": {
      "text/html": [
       "<table>\n",
       "<thead><tr><th></th><th scope=col>logFC</th><th scope=col>AveExpr</th><th scope=col>t</th><th scope=col>P.Value</th><th scope=col>adj.P.Val</th><th scope=col>B</th></tr></thead>\n",
       "<tbody>\n",
       "\t<tr><th scope=row>CYBB</th><td>-1.870505   </td><td> 7.517236   </td><td>-7.383829   </td><td>9.506638e-09</td><td>0.0001394434</td><td>9.284987    </td></tr>\n",
       "\t<tr><th scope=row>VAMP5</th><td>-1.638811   </td><td> 7.159211   </td><td>-5.762822   </td><td>1.374465e-06</td><td>0.0100803241</td><td>5.020438    </td></tr>\n",
       "\t<tr><th scope=row>APOC1</th><td>-2.131354   </td><td>12.821060   </td><td>-5.479986   </td><td>3.302432e-06</td><td>0.0105828459</td><td>4.257513    </td></tr>\n",
       "\t<tr><th scope=row>IL7R</th><td>-3.111353   </td><td>10.072070   </td><td>-5.426074   </td><td>3.902423e-06</td><td>0.0105828459</td><td>4.111945    </td></tr>\n",
       "\t<tr><th scope=row>NKG7</th><td>-1.178869   </td><td> 6.407097   </td><td>-5.360814   </td><td>4.775790e-06</td><td>0.0105828459</td><td>3.935731    </td></tr>\n",
       "\t<tr><th scope=row>CD53</th><td>-1.710032   </td><td> 9.386776   </td><td>-5.338679   </td><td>5.114235e-06</td><td>0.0105828459</td><td>3.875965    </td></tr>\n",
       "</tbody>\n",
       "</table>\n"
      ],
      "text/latex": [
       "\\begin{tabular}{r|llllll}\n",
       "  & logFC & AveExpr & t & P.Value & adj.P.Val & B\\\\\n",
       "\\hline\n",
       "\tCYBB & -1.870505    &  7.517236    & -7.383829    & 9.506638e-09 & 0.0001394434 & 9.284987    \\\\\n",
       "\tVAMP5 & -1.638811    &  7.159211    & -5.762822    & 1.374465e-06 & 0.0100803241 & 5.020438    \\\\\n",
       "\tAPOC1 & -2.131354    & 12.821060    & -5.479986    & 3.302432e-06 & 0.0105828459 & 4.257513    \\\\\n",
       "\tIL7R & -3.111353    & 10.072070    & -5.426074    & 3.902423e-06 & 0.0105828459 & 4.111945    \\\\\n",
       "\tNKG7 & -1.178869    &  6.407097    & -5.360814    & 4.775790e-06 & 0.0105828459 & 3.935731    \\\\\n",
       "\tCD53 & -1.710032    &  9.386776    & -5.338679    & 5.114235e-06 & 0.0105828459 & 3.875965    \\\\\n",
       "\\end{tabular}\n"
      ],
      "text/markdown": [
       "\n",
       "| <!--/--> | logFC | AveExpr | t | P.Value | adj.P.Val | B | \n",
       "|---|---|---|---|---|---|\n",
       "| CYBB | -1.870505    |  7.517236    | -7.383829    | 9.506638e-09 | 0.0001394434 | 9.284987     | \n",
       "| VAMP5 | -1.638811    |  7.159211    | -5.762822    | 1.374465e-06 | 0.0100803241 | 5.020438     | \n",
       "| APOC1 | -2.131354    | 12.821060    | -5.479986    | 3.302432e-06 | 0.0105828459 | 4.257513     | \n",
       "| IL7R | -3.111353    | 10.072070    | -5.426074    | 3.902423e-06 | 0.0105828459 | 4.111945     | \n",
       "| NKG7 | -1.178869    |  6.407097    | -5.360814    | 4.775790e-06 | 0.0105828459 | 3.935731     | \n",
       "| CD53 | -1.710032    |  9.386776    | -5.338679    | 5.114235e-06 | 0.0105828459 | 3.875965     | \n",
       "\n",
       "\n"
      ],
      "text/plain": [
       "      logFC     AveExpr   t         P.Value      adj.P.Val    B       \n",
       "CYBB  -1.870505  7.517236 -7.383829 9.506638e-09 0.0001394434 9.284987\n",
       "VAMP5 -1.638811  7.159211 -5.762822 1.374465e-06 0.0100803241 5.020438\n",
       "APOC1 -2.131354 12.821060 -5.479986 3.302432e-06 0.0105828459 4.257513\n",
       "IL7R  -3.111353 10.072070 -5.426074 3.902423e-06 0.0105828459 4.111945\n",
       "NKG7  -1.178869  6.407097 -5.360814 4.775790e-06 0.0105828459 3.935731\n",
       "CD53  -1.710032  9.386776 -5.338679 5.114235e-06 0.0105828459 3.875965"
      ]
     },
     "metadata": {},
     "output_type": "display_data"
    }
   ],
   "source": [
    "data <- read.csv(mix,\n",
    "                 sep='\\t',\n",
    "                 header=T,\n",
    "                 row.names='Hugo_symbol')\n",
    "\n",
    "head(data)"
   ]
  },
  {
   "cell_type": "markdown",
   "metadata": {},
   "source": [
    "### Select t-statistic"
   ]
  },
  {
   "cell_type": "code",
   "execution_count": 4,
   "metadata": {},
   "outputs": [
    {
     "data": {
      "text/html": [
       "<table>\n",
       "<thead><tr><th></th><th scope=col>t</th></tr></thead>\n",
       "<tbody>\n",
       "\t<tr><th scope=row>CYBB</th><td>-7.383829</td></tr>\n",
       "\t<tr><th scope=row>VAMP5</th><td>-5.762822</td></tr>\n",
       "\t<tr><th scope=row>APOC1</th><td>-5.479986</td></tr>\n",
       "\t<tr><th scope=row>IL7R</th><td>-5.426074</td></tr>\n",
       "\t<tr><th scope=row>NKG7</th><td>-5.360814</td></tr>\n",
       "\t<tr><th scope=row>CD53</th><td>-5.338679</td></tr>\n",
       "</tbody>\n",
       "</table>\n"
      ],
      "text/latex": [
       "\\begin{tabular}{r|l}\n",
       "  & t\\\\\n",
       "\\hline\n",
       "\tCYBB & -7.383829\\\\\n",
       "\tVAMP5 & -5.762822\\\\\n",
       "\tAPOC1 & -5.479986\\\\\n",
       "\tIL7R & -5.426074\\\\\n",
       "\tNKG7 & -5.360814\\\\\n",
       "\tCD53 & -5.338679\\\\\n",
       "\\end{tabular}\n"
      ],
      "text/markdown": [
       "\n",
       "| <!--/--> | t | \n",
       "|---|---|---|---|---|---|\n",
       "| CYBB | -7.383829 | \n",
       "| VAMP5 | -5.762822 | \n",
       "| APOC1 | -5.479986 | \n",
       "| IL7R | -5.426074 | \n",
       "| NKG7 | -5.360814 | \n",
       "| CD53 | -5.338679 | \n",
       "\n",
       "\n"
      ],
      "text/plain": [
       "      t        \n",
       "CYBB  -7.383829\n",
       "VAMP5 -5.762822\n",
       "APOC1 -5.479986\n",
       "IL7R  -5.426074\n",
       "NKG7  -5.360814\n",
       "CD53  -5.338679"
      ]
     },
     "metadata": {},
     "output_type": "display_data"
    }
   ],
   "source": [
    "data_t <- data['t']\n",
    "\n",
    "head(data_t)"
   ]
  },
  {
   "cell_type": "code",
   "execution_count": 5,
   "metadata": {},
   "outputs": [],
   "source": [
    "data_mtx <- as.matrix(data_t)"
   ]
  },
  {
   "cell_type": "markdown",
   "metadata": {},
   "source": [
    "## Load hallmark gene sets"
   ]
  },
  {
   "cell_type": "code",
   "execution_count": 6,
   "metadata": {},
   "outputs": [
    {
     "data": {
      "text/html": [
       "<table>\n",
       "<thead><tr><th></th><th scope=col>V2</th><th scope=col>V3</th><th scope=col>V4</th><th scope=col>V5</th><th scope=col>V6</th><th scope=col>V7</th><th scope=col>V8</th><th scope=col>V9</th><th scope=col>V10</th><th scope=col>V11</th><th scope=col>⋯</th><th scope=col>V193</th><th scope=col>V194</th><th scope=col>V195</th><th scope=col>V196</th><th scope=col>V197</th><th scope=col>V198</th><th scope=col>V199</th><th scope=col>V200</th><th scope=col>V201</th><th scope=col>V202</th></tr></thead>\n",
       "<tbody>\n",
       "\t<tr><th scope=row>HALLMARK_TNFA_SIGNALING_VIA_NFKB</th><td>http://www.broadinstitute.org/gsea/msigdb/cards/HALLMARK_TNFA_SIGNALING_VIA_NFKB   </td><td>JUNB                                                                               </td><td>CXCL2                                                                              </td><td>ATF3                                                                               </td><td>NFKBIA                                                                             </td><td>TNFAIP3                                                                            </td><td>PTGS2                                                                              </td><td>CXCL1                                                                              </td><td>IER3                                                                               </td><td>CD83                                                                               </td><td>⋯                                                                                  </td><td>EIF1                                                                               </td><td>BMP2                                                                               </td><td>DUSP4                                                                              </td><td>PDLIM5                                                                             </td><td>ICOSLG                                                                             </td><td>GFPT2                                                                              </td><td>KLF2                                                                               </td><td>TNC                                                                                </td><td>SERPINB8                                                                           </td><td>MXD1                                                                               </td></tr>\n",
       "\t<tr><th scope=row>HALLMARK_HYPOXIA</th><td>http://www.broadinstitute.org/gsea/msigdb/cards/HALLMARK_HYPOXIA                   </td><td>PGK1                                                                               </td><td>PDK1                                                                               </td><td>GBE1                                                                               </td><td>PFKL                                                                               </td><td>ALDOA                                                                              </td><td>ENO2                                                                               </td><td>PGM1                                                                               </td><td>NDRG1                                                                              </td><td>HK2                                                                                </td><td>⋯                                                                                  </td><td>HDLBP                                                                              </td><td>ILVBL                                                                              </td><td>NCAN                                                                               </td><td>TGM2                                                                               </td><td>ETS1                                                                               </td><td>HOXB9                                                                              </td><td>SELENBP1                                                                           </td><td>FOSL2                                                                              </td><td>SULT2B1                                                                            </td><td>TGFB3                                                                              </td></tr>\n",
       "\t<tr><th scope=row>HALLMARK_CHOLESTEROL_HOMEOSTASIS</th><td>http://www.broadinstitute.org/gsea/msigdb/cards/HALLMARK_CHOLESTEROL_HOMEOSTASIS   </td><td>FDPS                                                                               </td><td>CYP51A1                                                                            </td><td>IDI1                                                                               </td><td>FDFT1                                                                              </td><td>DHCR7                                                                              </td><td>SQLE                                                                               </td><td>HMGCS1                                                                             </td><td>NSDHL                                                                              </td><td>LSS                                                                                </td><td>⋯                                                                                  </td><td>                                                                                   </td><td>                                                                                   </td><td>                                                                                   </td><td>                                                                                   </td><td>                                                                                   </td><td>                                                                                   </td><td>                                                                                   </td><td>                                                                                   </td><td>                                                                                   </td><td>                                                                                   </td></tr>\n",
       "\t<tr><th scope=row>HALLMARK_MITOTIC_SPINDLE</th><td>http://www.broadinstitute.org/gsea/msigdb/cards/HALLMARK_MITOTIC_SPINDLE           </td><td>ARHGEF2                                                                            </td><td>CLASP1                                                                             </td><td>KIF11                                                                              </td><td>KIF23                                                                              </td><td>ALS2                                                                               </td><td>ARF6                                                                               </td><td>MYO9B                                                                              </td><td>MYH9                                                                               </td><td>TUBGCP3                                                                            </td><td>⋯                                                                                  </td><td>RHOT2                                                                              </td><td>SORBS2                                                                             </td><td>CDC42EP1                                                                           </td><td>VCL                                                                                </td><td>CLIP1                                                                              </td><td>STK38L                                                                             </td><td>YWHAE                                                                              </td><td>RAPGEF5                                                                            </td><td>CEP72                                                                              </td><td>CSNK1D                                                                             </td></tr>\n",
       "\t<tr><th scope=row>HALLMARK_WNT_BETA_CATENIN_SIGNALING</th><td>http://www.broadinstitute.org/gsea/msigdb/cards/HALLMARK_WNT_BETA_CATENIN_SIGNALING</td><td>MYC                                                                                </td><td>CTNNB1                                                                             </td><td>JAG2                                                                               </td><td>NOTCH1                                                                             </td><td>DLL1                                                                               </td><td>AXIN2                                                                              </td><td>PSEN2                                                                              </td><td>FZD1                                                                               </td><td>NOTCH4                                                                             </td><td>⋯                                                                                  </td><td>                                                                                   </td><td>                                                                                   </td><td>                                                                                   </td><td>                                                                                   </td><td>                                                                                   </td><td>                                                                                   </td><td>                                                                                   </td><td>                                                                                   </td><td>                                                                                   </td><td>                                                                                   </td></tr>\n",
       "\t<tr><th scope=row>HALLMARK_TGF_BETA_SIGNALING</th><td>http://www.broadinstitute.org/gsea/msigdb/cards/HALLMARK_TGF_BETA_SIGNALING        </td><td>TGFBR1                                                                             </td><td>SMAD7                                                                              </td><td>TGFB1                                                                              </td><td>SMURF2                                                                             </td><td>SMURF1                                                                             </td><td>BMPR2                                                                              </td><td>SKIL                                                                               </td><td>SKI                                                                                </td><td>ACVR1                                                                              </td><td>⋯                                                                                  </td><td>                                                                                   </td><td>                                                                                   </td><td>                                                                                   </td><td>                                                                                   </td><td>                                                                                   </td><td>                                                                                   </td><td>                                                                                   </td><td>                                                                                   </td><td>                                                                                   </td><td>                                                                                   </td></tr>\n",
       "</tbody>\n",
       "</table>\n"
      ],
      "text/latex": [
       "\\begin{tabular}{r|lllllllllllllllllllllllllllllllllllllllllllllllllllllllllllllllllllllllllllllllllllllllllllllllllllllllllllllllllllllllllllllllllllllllllllllllllllllllllllllllllllllllllllllllllllllllllllllllllllllllll}\n",
       "  & V2 & V3 & V4 & V5 & V6 & V7 & V8 & V9 & V10 & V11 & ⋯ & V193 & V194 & V195 & V196 & V197 & V198 & V199 & V200 & V201 & V202\\\\\n",
       "\\hline\n",
       "\tHALLMARK\\_TNFA\\_SIGNALING\\_VIA\\_NFKB & http://www.broadinstitute.org/gsea/msigdb/cards/HALLMARK\\_TNFA\\_SIGNALING\\_VIA\\_NFKB    & JUNB                                                                                        & CXCL2                                                                                       & ATF3                                                                                        & NFKBIA                                                                                      & TNFAIP3                                                                                     & PTGS2                                                                                       & CXCL1                                                                                       & IER3                                                                                        & CD83                                                                                        & ⋯                                                                                           & EIF1                                                                                        & BMP2                                                                                        & DUSP4                                                                                       & PDLIM5                                                                                      & ICOSLG                                                                                      & GFPT2                                                                                       & KLF2                                                                                        & TNC                                                                                         & SERPINB8                                                                                    & MXD1                                                                                       \\\\\n",
       "\tHALLMARK\\_HYPOXIA & http://www.broadinstitute.org/gsea/msigdb/cards/HALLMARK\\_HYPOXIA                    & PGK1                                                                                  & PDK1                                                                                  & GBE1                                                                                  & PFKL                                                                                  & ALDOA                                                                                 & ENO2                                                                                  & PGM1                                                                                  & NDRG1                                                                                 & HK2                                                                                   & ⋯                                                                                     & HDLBP                                                                                 & ILVBL                                                                                 & NCAN                                                                                  & TGM2                                                                                  & ETS1                                                                                  & HOXB9                                                                                 & SELENBP1                                                                              & FOSL2                                                                                 & SULT2B1                                                                               & TGFB3                                                                                \\\\\n",
       "\tHALLMARK\\_CHOLESTEROL\\_HOMEOSTASIS & http://www.broadinstitute.org/gsea/msigdb/cards/HALLMARK\\_CHOLESTEROL\\_HOMEOSTASIS    & FDPS                                                                                    & CYP51A1                                                                                 & IDI1                                                                                    & FDFT1                                                                                   & DHCR7                                                                                   & SQLE                                                                                    & HMGCS1                                                                                  & NSDHL                                                                                   & LSS                                                                                     & ⋯                                                                                       &                                                                                         &                                                                                         &                                                                                         &                                                                                         &                                                                                         &                                                                                         &                                                                                         &                                                                                         &                                                                                         &                                                                                        \\\\\n",
       "\tHALLMARK\\_MITOTIC\\_SPINDLE & http://www.broadinstitute.org/gsea/msigdb/cards/HALLMARK\\_MITOTIC\\_SPINDLE            & ARHGEF2                                                                                 & CLASP1                                                                                  & KIF11                                                                                   & KIF23                                                                                   & ALS2                                                                                    & ARF6                                                                                    & MYO9B                                                                                   & MYH9                                                                                    & TUBGCP3                                                                                 & ⋯                                                                                       & RHOT2                                                                                   & SORBS2                                                                                  & CDC42EP1                                                                                & VCL                                                                                     & CLIP1                                                                                   & STK38L                                                                                  & YWHAE                                                                                   & RAPGEF5                                                                                 & CEP72                                                                                   & CSNK1D                                                                                 \\\\\n",
       "\tHALLMARK\\_WNT\\_BETA\\_CATENIN\\_SIGNALING & http://www.broadinstitute.org/gsea/msigdb/cards/HALLMARK\\_WNT\\_BETA\\_CATENIN\\_SIGNALING & MYC                                                                                         & CTNNB1                                                                                      & JAG2                                                                                        & NOTCH1                                                                                      & DLL1                                                                                        & AXIN2                                                                                       & PSEN2                                                                                       & FZD1                                                                                        & NOTCH4                                                                                      & ⋯                                                                                           &                                                                                             &                                                                                             &                                                                                             &                                                                                             &                                                                                             &                                                                                             &                                                                                             &                                                                                             &                                                                                             &                                                                                            \\\\\n",
       "\tHALLMARK\\_TGF\\_BETA\\_SIGNALING & http://www.broadinstitute.org/gsea/msigdb/cards/HALLMARK\\_TGF\\_BETA\\_SIGNALING         & TGFBR1                                                                                    & SMAD7                                                                                     & TGFB1                                                                                     & SMURF2                                                                                    & SMURF1                                                                                    & BMPR2                                                                                     & SKIL                                                                                      & SKI                                                                                       & ACVR1                                                                                     & ⋯                                                                                         &                                                                                           &                                                                                           &                                                                                           &                                                                                           &                                                                                           &                                                                                           &                                                                                           &                                                                                           &                                                                                           &                                                                                          \\\\\n",
       "\\end{tabular}\n"
      ],
      "text/markdown": [
       "\n",
       "| <!--/--> | V2 | V3 | V4 | V5 | V6 | V7 | V8 | V9 | V10 | V11 | ⋯ | V193 | V194 | V195 | V196 | V197 | V198 | V199 | V200 | V201 | V202 | \n",
       "|---|---|---|---|---|---|\n",
       "| HALLMARK_TNFA_SIGNALING_VIA_NFKB | http://www.broadinstitute.org/gsea/msigdb/cards/HALLMARK_TNFA_SIGNALING_VIA_NFKB    | JUNB                                                                                | CXCL2                                                                               | ATF3                                                                                | NFKBIA                                                                              | TNFAIP3                                                                             | PTGS2                                                                               | CXCL1                                                                               | IER3                                                                                | CD83                                                                                | ⋯                                                                                   | EIF1                                                                                | BMP2                                                                                | DUSP4                                                                               | PDLIM5                                                                              | ICOSLG                                                                              | GFPT2                                                                               | KLF2                                                                                | TNC                                                                                 | SERPINB8                                                                            | MXD1                                                                                | \n",
       "| HALLMARK_HYPOXIA | http://www.broadinstitute.org/gsea/msigdb/cards/HALLMARK_HYPOXIA                    | PGK1                                                                                | PDK1                                                                                | GBE1                                                                                | PFKL                                                                                | ALDOA                                                                               | ENO2                                                                                | PGM1                                                                                | NDRG1                                                                               | HK2                                                                                 | ⋯                                                                                   | HDLBP                                                                               | ILVBL                                                                               | NCAN                                                                                | TGM2                                                                                | ETS1                                                                                | HOXB9                                                                               | SELENBP1                                                                            | FOSL2                                                                               | SULT2B1                                                                             | TGFB3                                                                               | \n",
       "| HALLMARK_CHOLESTEROL_HOMEOSTASIS | http://www.broadinstitute.org/gsea/msigdb/cards/HALLMARK_CHOLESTEROL_HOMEOSTASIS    | FDPS                                                                                | CYP51A1                                                                             | IDI1                                                                                | FDFT1                                                                               | DHCR7                                                                               | SQLE                                                                                | HMGCS1                                                                              | NSDHL                                                                               | LSS                                                                                 | ⋯                                                                                   |                                                                                     |                                                                                     |                                                                                     |                                                                                     |                                                                                     |                                                                                     |                                                                                     |                                                                                     |                                                                                     |                                                                                     | \n",
       "| HALLMARK_MITOTIC_SPINDLE | http://www.broadinstitute.org/gsea/msigdb/cards/HALLMARK_MITOTIC_SPINDLE            | ARHGEF2                                                                             | CLASP1                                                                              | KIF11                                                                               | KIF23                                                                               | ALS2                                                                                | ARF6                                                                                | MYO9B                                                                               | MYH9                                                                                | TUBGCP3                                                                             | ⋯                                                                                   | RHOT2                                                                               | SORBS2                                                                              | CDC42EP1                                                                            | VCL                                                                                 | CLIP1                                                                               | STK38L                                                                              | YWHAE                                                                               | RAPGEF5                                                                             | CEP72                                                                               | CSNK1D                                                                              | \n",
       "| HALLMARK_WNT_BETA_CATENIN_SIGNALING | http://www.broadinstitute.org/gsea/msigdb/cards/HALLMARK_WNT_BETA_CATENIN_SIGNALING | MYC                                                                                 | CTNNB1                                                                              | JAG2                                                                                | NOTCH1                                                                              | DLL1                                                                                | AXIN2                                                                               | PSEN2                                                                               | FZD1                                                                                | NOTCH4                                                                              | ⋯                                                                                   |                                                                                     |                                                                                     |                                                                                     |                                                                                     |                                                                                     |                                                                                     |                                                                                     |                                                                                     |                                                                                     |                                                                                     | \n",
       "| HALLMARK_TGF_BETA_SIGNALING | http://www.broadinstitute.org/gsea/msigdb/cards/HALLMARK_TGF_BETA_SIGNALING         | TGFBR1                                                                              | SMAD7                                                                               | TGFB1                                                                               | SMURF2                                                                              | SMURF1                                                                              | BMPR2                                                                               | SKIL                                                                                | SKI                                                                                 | ACVR1                                                                               | ⋯                                                                                   |                                                                                     |                                                                                     |                                                                                     |                                                                                     |                                                                                     |                                                                                     |                                                                                     |                                                                                     |                                                                                     |                                                                                     | \n",
       "\n",
       "\n"
      ],
      "text/plain": [
       "                                    V2                                                                                 \n",
       "HALLMARK_TNFA_SIGNALING_VIA_NFKB    http://www.broadinstitute.org/gsea/msigdb/cards/HALLMARK_TNFA_SIGNALING_VIA_NFKB   \n",
       "HALLMARK_HYPOXIA                    http://www.broadinstitute.org/gsea/msigdb/cards/HALLMARK_HYPOXIA                   \n",
       "HALLMARK_CHOLESTEROL_HOMEOSTASIS    http://www.broadinstitute.org/gsea/msigdb/cards/HALLMARK_CHOLESTEROL_HOMEOSTASIS   \n",
       "HALLMARK_MITOTIC_SPINDLE            http://www.broadinstitute.org/gsea/msigdb/cards/HALLMARK_MITOTIC_SPINDLE           \n",
       "HALLMARK_WNT_BETA_CATENIN_SIGNALING http://www.broadinstitute.org/gsea/msigdb/cards/HALLMARK_WNT_BETA_CATENIN_SIGNALING\n",
       "HALLMARK_TGF_BETA_SIGNALING         http://www.broadinstitute.org/gsea/msigdb/cards/HALLMARK_TGF_BETA_SIGNALING        \n",
       "                                    V3      V4      V5    V6     V7      V8   \n",
       "HALLMARK_TNFA_SIGNALING_VIA_NFKB    JUNB    CXCL2   ATF3  NFKBIA TNFAIP3 PTGS2\n",
       "HALLMARK_HYPOXIA                    PGK1    PDK1    GBE1  PFKL   ALDOA   ENO2 \n",
       "HALLMARK_CHOLESTEROL_HOMEOSTASIS    FDPS    CYP51A1 IDI1  FDFT1  DHCR7   SQLE \n",
       "HALLMARK_MITOTIC_SPINDLE            ARHGEF2 CLASP1  KIF11 KIF23  ALS2    ARF6 \n",
       "HALLMARK_WNT_BETA_CATENIN_SIGNALING MYC     CTNNB1  JAG2  NOTCH1 DLL1    AXIN2\n",
       "HALLMARK_TGF_BETA_SIGNALING         TGFBR1  SMAD7   TGFB1 SMURF2 SMURF1  BMPR2\n",
       "                                    V9     V10   V11     ⋯ V193  V194  \n",
       "HALLMARK_TNFA_SIGNALING_VIA_NFKB    CXCL1  IER3  CD83    ⋯ EIF1  BMP2  \n",
       "HALLMARK_HYPOXIA                    PGM1   NDRG1 HK2     ⋯ HDLBP ILVBL \n",
       "HALLMARK_CHOLESTEROL_HOMEOSTASIS    HMGCS1 NSDHL LSS     ⋯             \n",
       "HALLMARK_MITOTIC_SPINDLE            MYO9B  MYH9  TUBGCP3 ⋯ RHOT2 SORBS2\n",
       "HALLMARK_WNT_BETA_CATENIN_SIGNALING PSEN2  FZD1  NOTCH4  ⋯             \n",
       "HALLMARK_TGF_BETA_SIGNALING         SKIL   SKI   ACVR1   ⋯             \n",
       "                                    V195     V196   V197   V198   V199    \n",
       "HALLMARK_TNFA_SIGNALING_VIA_NFKB    DUSP4    PDLIM5 ICOSLG GFPT2  KLF2    \n",
       "HALLMARK_HYPOXIA                    NCAN     TGM2   ETS1   HOXB9  SELENBP1\n",
       "HALLMARK_CHOLESTEROL_HOMEOSTASIS                                          \n",
       "HALLMARK_MITOTIC_SPINDLE            CDC42EP1 VCL    CLIP1  STK38L YWHAE   \n",
       "HALLMARK_WNT_BETA_CATENIN_SIGNALING                                       \n",
       "HALLMARK_TGF_BETA_SIGNALING                                               \n",
       "                                    V200    V201     V202  \n",
       "HALLMARK_TNFA_SIGNALING_VIA_NFKB    TNC     SERPINB8 MXD1  \n",
       "HALLMARK_HYPOXIA                    FOSL2   SULT2B1  TGFB3 \n",
       "HALLMARK_CHOLESTEROL_HOMEOSTASIS                           \n",
       "HALLMARK_MITOTIC_SPINDLE            RAPGEF5 CEP72    CSNK1D\n",
       "HALLMARK_WNT_BETA_CATENIN_SIGNALING                        \n",
       "HALLMARK_TGF_BETA_SIGNALING                                "
      ]
     },
     "metadata": {},
     "output_type": "display_data"
    }
   ],
   "source": [
    "Hallmark_geneSets <- read.csv('../../Data/1/HallmarksStromaImmune_GeneSets.txt',\n",
    "                              sep='\\t',\n",
    "                              header=F,\n",
    "                              row.names=1)\n",
    "\n",
    "head(Hallmark_geneSets)"
   ]
  },
  {
   "cell_type": "markdown",
   "metadata": {},
   "source": [
    "### Remove website column"
   ]
  },
  {
   "cell_type": "code",
   "execution_count": 7,
   "metadata": {},
   "outputs": [],
   "source": [
    "Hallmark_geneSets <- Hallmark_geneSets[-1]"
   ]
  },
  {
   "cell_type": "code",
   "execution_count": 8,
   "metadata": {},
   "outputs": [
    {
     "data": {
      "text/html": [
       "<table>\n",
       "<thead><tr><th></th><th scope=col>V3</th><th scope=col>V4</th><th scope=col>V5</th><th scope=col>V6</th><th scope=col>V7</th><th scope=col>V8</th><th scope=col>V9</th><th scope=col>V10</th><th scope=col>V11</th><th scope=col>V12</th><th scope=col>⋯</th><th scope=col>V193</th><th scope=col>V194</th><th scope=col>V195</th><th scope=col>V196</th><th scope=col>V197</th><th scope=col>V198</th><th scope=col>V199</th><th scope=col>V200</th><th scope=col>V201</th><th scope=col>V202</th></tr></thead>\n",
       "<tbody>\n",
       "\t<tr><th scope=row>HALLMARK_TNFA_SIGNALING_VIA_NFKB</th><td>JUNB    </td><td>CXCL2   </td><td>ATF3    </td><td>NFKBIA  </td><td>TNFAIP3 </td><td>PTGS2   </td><td>CXCL1   </td><td>IER3    </td><td>CD83    </td><td>CCL20   </td><td>⋯       </td><td>EIF1    </td><td>BMP2    </td><td>DUSP4   </td><td>PDLIM5  </td><td>ICOSLG  </td><td>GFPT2   </td><td>KLF2    </td><td>TNC     </td><td>SERPINB8</td><td>MXD1    </td></tr>\n",
       "\t<tr><th scope=row>HALLMARK_HYPOXIA</th><td>PGK1    </td><td>PDK1    </td><td>GBE1    </td><td>PFKL    </td><td>ALDOA   </td><td>ENO2    </td><td>PGM1    </td><td>NDRG1   </td><td>HK2     </td><td>ALDOC   </td><td>⋯       </td><td>HDLBP   </td><td>ILVBL   </td><td>NCAN    </td><td>TGM2    </td><td>ETS1    </td><td>HOXB9   </td><td>SELENBP1</td><td>FOSL2   </td><td>SULT2B1 </td><td>TGFB3   </td></tr>\n",
       "\t<tr><th scope=row>HALLMARK_CHOLESTEROL_HOMEOSTASIS</th><td>FDPS    </td><td>CYP51A1 </td><td>IDI1    </td><td>FDFT1   </td><td>DHCR7   </td><td>SQLE    </td><td>HMGCS1  </td><td>NSDHL   </td><td>LSS     </td><td>MVD     </td><td>⋯       </td><td>        </td><td>        </td><td>        </td><td>        </td><td>        </td><td>        </td><td>        </td><td>        </td><td>        </td><td>        </td></tr>\n",
       "\t<tr><th scope=row>HALLMARK_MITOTIC_SPINDLE</th><td>ARHGEF2 </td><td>CLASP1  </td><td>KIF11   </td><td>KIF23   </td><td>ALS2    </td><td>ARF6    </td><td>MYO9B   </td><td>MYH9    </td><td>TUBGCP3 </td><td>CKAP5   </td><td>⋯       </td><td>RHOT2   </td><td>SORBS2  </td><td>CDC42EP1</td><td>VCL     </td><td>CLIP1   </td><td>STK38L  </td><td>YWHAE   </td><td>RAPGEF5 </td><td>CEP72   </td><td>CSNK1D  </td></tr>\n",
       "\t<tr><th scope=row>HALLMARK_WNT_BETA_CATENIN_SIGNALING</th><td>MYC     </td><td>CTNNB1  </td><td>JAG2    </td><td>NOTCH1  </td><td>DLL1    </td><td>AXIN2   </td><td>PSEN2   </td><td>FZD1    </td><td>NOTCH4  </td><td>LEF1    </td><td>⋯       </td><td>        </td><td>        </td><td>        </td><td>        </td><td>        </td><td>        </td><td>        </td><td>        </td><td>        </td><td>        </td></tr>\n",
       "\t<tr><th scope=row>HALLMARK_TGF_BETA_SIGNALING</th><td>TGFBR1  </td><td>SMAD7   </td><td>TGFB1   </td><td>SMURF2  </td><td>SMURF1  </td><td>BMPR2   </td><td>SKIL    </td><td>SKI     </td><td>ACVR1   </td><td>PMEPA1  </td><td>⋯       </td><td>        </td><td>        </td><td>        </td><td>        </td><td>        </td><td>        </td><td>        </td><td>        </td><td>        </td><td>        </td></tr>\n",
       "</tbody>\n",
       "</table>\n"
      ],
      "text/latex": [
       "\\begin{tabular}{r|llllllllllllllllllllllllllllllllllllllllllllllllllllllllllllllllllllllllllllllllllllllllllllllllllllllllllllllllllllllllllllllllllllllllllllllllllllllllllllllllllllllllllllllllllllllllllllllllllllllll}\n",
       "  & V3 & V4 & V5 & V6 & V7 & V8 & V9 & V10 & V11 & V12 & ⋯ & V193 & V194 & V195 & V196 & V197 & V198 & V199 & V200 & V201 & V202\\\\\n",
       "\\hline\n",
       "\tHALLMARK\\_TNFA\\_SIGNALING\\_VIA\\_NFKB & JUNB     & CXCL2    & ATF3     & NFKBIA   & TNFAIP3  & PTGS2    & CXCL1    & IER3     & CD83     & CCL20    & ⋯        & EIF1     & BMP2     & DUSP4    & PDLIM5   & ICOSLG   & GFPT2    & KLF2     & TNC      & SERPINB8 & MXD1    \\\\\n",
       "\tHALLMARK\\_HYPOXIA & PGK1     & PDK1     & GBE1     & PFKL     & ALDOA    & ENO2     & PGM1     & NDRG1    & HK2      & ALDOC    & ⋯        & HDLBP    & ILVBL    & NCAN     & TGM2     & ETS1     & HOXB9    & SELENBP1 & FOSL2    & SULT2B1  & TGFB3   \\\\\n",
       "\tHALLMARK\\_CHOLESTEROL\\_HOMEOSTASIS & FDPS     & CYP51A1  & IDI1     & FDFT1    & DHCR7    & SQLE     & HMGCS1   & NSDHL    & LSS      & MVD      & ⋯        &          &          &          &          &          &          &          &          &          &         \\\\\n",
       "\tHALLMARK\\_MITOTIC\\_SPINDLE & ARHGEF2  & CLASP1   & KIF11    & KIF23    & ALS2     & ARF6     & MYO9B    & MYH9     & TUBGCP3  & CKAP5    & ⋯        & RHOT2    & SORBS2   & CDC42EP1 & VCL      & CLIP1    & STK38L   & YWHAE    & RAPGEF5  & CEP72    & CSNK1D  \\\\\n",
       "\tHALLMARK\\_WNT\\_BETA\\_CATENIN\\_SIGNALING & MYC      & CTNNB1   & JAG2     & NOTCH1   & DLL1     & AXIN2    & PSEN2    & FZD1     & NOTCH4   & LEF1     & ⋯        &          &          &          &          &          &          &          &          &          &         \\\\\n",
       "\tHALLMARK\\_TGF\\_BETA\\_SIGNALING & TGFBR1   & SMAD7    & TGFB1    & SMURF2   & SMURF1   & BMPR2    & SKIL     & SKI      & ACVR1    & PMEPA1   & ⋯        &          &          &          &          &          &          &          &          &          &         \\\\\n",
       "\\end{tabular}\n"
      ],
      "text/markdown": [
       "\n",
       "| <!--/--> | V3 | V4 | V5 | V6 | V7 | V8 | V9 | V10 | V11 | V12 | ⋯ | V193 | V194 | V195 | V196 | V197 | V198 | V199 | V200 | V201 | V202 | \n",
       "|---|---|---|---|---|---|\n",
       "| HALLMARK_TNFA_SIGNALING_VIA_NFKB | JUNB     | CXCL2    | ATF3     | NFKBIA   | TNFAIP3  | PTGS2    | CXCL1    | IER3     | CD83     | CCL20    | ⋯        | EIF1     | BMP2     | DUSP4    | PDLIM5   | ICOSLG   | GFPT2    | KLF2     | TNC      | SERPINB8 | MXD1     | \n",
       "| HALLMARK_HYPOXIA | PGK1     | PDK1     | GBE1     | PFKL     | ALDOA    | ENO2     | PGM1     | NDRG1    | HK2      | ALDOC    | ⋯        | HDLBP    | ILVBL    | NCAN     | TGM2     | ETS1     | HOXB9    | SELENBP1 | FOSL2    | SULT2B1  | TGFB3    | \n",
       "| HALLMARK_CHOLESTEROL_HOMEOSTASIS | FDPS     | CYP51A1  | IDI1     | FDFT1    | DHCR7    | SQLE     | HMGCS1   | NSDHL    | LSS      | MVD      | ⋯        |          |          |          |          |          |          |          |          |          |          | \n",
       "| HALLMARK_MITOTIC_SPINDLE | ARHGEF2  | CLASP1   | KIF11    | KIF23    | ALS2     | ARF6     | MYO9B    | MYH9     | TUBGCP3  | CKAP5    | ⋯        | RHOT2    | SORBS2   | CDC42EP1 | VCL      | CLIP1    | STK38L   | YWHAE    | RAPGEF5  | CEP72    | CSNK1D   | \n",
       "| HALLMARK_WNT_BETA_CATENIN_SIGNALING | MYC      | CTNNB1   | JAG2     | NOTCH1   | DLL1     | AXIN2    | PSEN2    | FZD1     | NOTCH4   | LEF1     | ⋯        |          |          |          |          |          |          |          |          |          |          | \n",
       "| HALLMARK_TGF_BETA_SIGNALING | TGFBR1   | SMAD7    | TGFB1    | SMURF2   | SMURF1   | BMPR2    | SKIL     | SKI      | ACVR1    | PMEPA1   | ⋯        |          |          |          |          |          |          |          |          |          |          | \n",
       "\n",
       "\n"
      ],
      "text/plain": [
       "                                    V3      V4      V5    V6     V7      V8   \n",
       "HALLMARK_TNFA_SIGNALING_VIA_NFKB    JUNB    CXCL2   ATF3  NFKBIA TNFAIP3 PTGS2\n",
       "HALLMARK_HYPOXIA                    PGK1    PDK1    GBE1  PFKL   ALDOA   ENO2 \n",
       "HALLMARK_CHOLESTEROL_HOMEOSTASIS    FDPS    CYP51A1 IDI1  FDFT1  DHCR7   SQLE \n",
       "HALLMARK_MITOTIC_SPINDLE            ARHGEF2 CLASP1  KIF11 KIF23  ALS2    ARF6 \n",
       "HALLMARK_WNT_BETA_CATENIN_SIGNALING MYC     CTNNB1  JAG2  NOTCH1 DLL1    AXIN2\n",
       "HALLMARK_TGF_BETA_SIGNALING         TGFBR1  SMAD7   TGFB1 SMURF2 SMURF1  BMPR2\n",
       "                                    V9     V10   V11     V12    ⋯ V193  V194  \n",
       "HALLMARK_TNFA_SIGNALING_VIA_NFKB    CXCL1  IER3  CD83    CCL20  ⋯ EIF1  BMP2  \n",
       "HALLMARK_HYPOXIA                    PGM1   NDRG1 HK2     ALDOC  ⋯ HDLBP ILVBL \n",
       "HALLMARK_CHOLESTEROL_HOMEOSTASIS    HMGCS1 NSDHL LSS     MVD    ⋯             \n",
       "HALLMARK_MITOTIC_SPINDLE            MYO9B  MYH9  TUBGCP3 CKAP5  ⋯ RHOT2 SORBS2\n",
       "HALLMARK_WNT_BETA_CATENIN_SIGNALING PSEN2  FZD1  NOTCH4  LEF1   ⋯             \n",
       "HALLMARK_TGF_BETA_SIGNALING         SKIL   SKI   ACVR1   PMEPA1 ⋯             \n",
       "                                    V195     V196   V197   V198   V199    \n",
       "HALLMARK_TNFA_SIGNALING_VIA_NFKB    DUSP4    PDLIM5 ICOSLG GFPT2  KLF2    \n",
       "HALLMARK_HYPOXIA                    NCAN     TGM2   ETS1   HOXB9  SELENBP1\n",
       "HALLMARK_CHOLESTEROL_HOMEOSTASIS                                          \n",
       "HALLMARK_MITOTIC_SPINDLE            CDC42EP1 VCL    CLIP1  STK38L YWHAE   \n",
       "HALLMARK_WNT_BETA_CATENIN_SIGNALING                                       \n",
       "HALLMARK_TGF_BETA_SIGNALING                                               \n",
       "                                    V200    V201     V202  \n",
       "HALLMARK_TNFA_SIGNALING_VIA_NFKB    TNC     SERPINB8 MXD1  \n",
       "HALLMARK_HYPOXIA                    FOSL2   SULT2B1  TGFB3 \n",
       "HALLMARK_CHOLESTEROL_HOMEOSTASIS                           \n",
       "HALLMARK_MITOTIC_SPINDLE            RAPGEF5 CEP72    CSNK1D\n",
       "HALLMARK_WNT_BETA_CATENIN_SIGNALING                        \n",
       "HALLMARK_TGF_BETA_SIGNALING                                "
      ]
     },
     "metadata": {},
     "output_type": "display_data"
    }
   ],
   "source": [
    "head(Hallmark_geneSets)"
   ]
  },
  {
   "cell_type": "code",
   "execution_count": 9,
   "metadata": {},
   "outputs": [],
   "source": [
    "Hallmark_geneSets <- convertRowsToList(Hallmark_geneSets)"
   ]
  },
  {
   "cell_type": "markdown",
   "metadata": {},
   "source": [
    "## Run ssGSEA"
   ]
  },
  {
   "cell_type": "code",
   "execution_count": 10,
   "metadata": {},
   "outputs": [
    {
     "name": "stderr",
     "output_type": "stream",
     "text": [
      "Warning message in .local(expr, gset.idx.list, ...):\n",
      "“14668 genes with constant expression values throuhgout the samples.”"
     ]
    },
    {
     "name": "stdout",
     "output_type": "stream",
     "text": [
      "Estimating ssGSEA scores for 52 gene sets.\n",
      "  |                                                                      |   0%Using parallel with 4 cores\n",
      "  |======================================================================| 100%\n"
     ]
    }
   ],
   "source": [
    "hsi_NES <- gsva(data_mtx,\n",
    "                Hallmark_geneSets,\n",
    "                method='ssgsea',\n",
    "                min.sz=0,\n",
    "                max.sz=1000,\n",
    "                ssgsea.norm=T)"
   ]
  },
  {
   "cell_type": "code",
   "execution_count": 1,
   "metadata": {},
   "outputs": [
    {
     "ename": "ERROR",
     "evalue": "Error in head(hsi_NES): object 'hsi_NES' not found\n",
     "output_type": "error",
     "traceback": [
      "Error in head(hsi_NES): object 'hsi_NES' not found\nTraceback:\n",
      "1. head(hsi_NES)"
     ]
    }
   ],
   "source": [
    "head(hsi_NES)"
   ]
  },
  {
   "cell_type": "code",
   "execution_count": null,
   "metadata": {},
   "outputs": [],
   "source": [
    "hsi_NES <- data.frame(\"Term\"=rownames(hsi_NES),\n",
    "                      hsi_NES)\n",
    "\n",
    "rownames(hsi_NES) <- NULL\n",
    "\n",
    "head(hsi_NES)"
   ]
  },
  {
   "cell_type": "code",
   "execution_count": null,
   "metadata": {},
   "outputs": [],
   "source": [
    "colnames(hsi_NES)[2] <- \"Hallmark_NES\""
   ]
  },
  {
   "cell_type": "code",
   "execution_count": null,
   "metadata": {},
   "outputs": [],
   "source": [
    "write.table(hsi_NES,\n",
    "            file='../../Data/3/HallmarksStromaImmune_NES_after_DiffExp.txt',\n",
    "            sep='\\t',\n",
    "            row.names=F,\n",
    "            col.names=T)"
   ]
  },
  {
   "cell_type": "markdown",
   "metadata": {},
   "source": [
    "# End script"
   ]
  }
 ],
 "metadata": {
  "kernelspec": {
   "display_name": "R",
   "language": "R",
   "name": "ir"
  },
  "language_info": {
   "codemirror_mode": "r",
   "file_extension": ".r",
   "mimetype": "text/x-r-source",
   "name": "R",
   "pygments_lexer": "r",
   "version": "3.5.0"
  }
 },
 "nbformat": 4,
 "nbformat_minor": 2
}

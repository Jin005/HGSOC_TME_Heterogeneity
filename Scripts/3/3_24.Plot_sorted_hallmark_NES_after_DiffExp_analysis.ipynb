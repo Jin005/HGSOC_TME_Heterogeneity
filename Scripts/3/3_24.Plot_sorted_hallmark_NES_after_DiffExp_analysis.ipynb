{
 "cells": [
  {
   "cell_type": "markdown",
   "metadata": {},
   "source": [
    "# Plot of sorted hallmark NES values"
   ]
  },
  {
   "cell_type": "markdown",
   "metadata": {},
   "source": [
    "Script related to figure 3g\n",
    "\n",
    "### Aim:\n",
    "- Plot sorted hallmark NES derived from ssGSEA analysis on t-statistic values of differential expression analysis"
   ]
  },
  {
   "cell_type": "code",
   "execution_count": 1,
   "metadata": {},
   "outputs": [],
   "source": [
    "home = \"~/git_repos/HGSOC_TME_Heterogeneity/\""
   ]
  },
  {
   "cell_type": "markdown",
   "metadata": {},
   "source": [
    "## Import packages"
   ]
  },
  {
   "cell_type": "code",
   "execution_count": 3,
   "metadata": {},
   "outputs": [],
   "source": [
    "import numpy as np\n",
    "import pylab as pl\n",
    "import pandas as pd\n",
    "import seaborn as sns\n",
    "import scipy.stats as stats\n",
    "import matplotlib.pyplot as plt\n",
    "from scipy.stats import shapiro\n",
    "from scipy.stats import anderson\n",
    "from scipy.stats import normaltest\n",
    "from statsmodels.robust import mad\n",
    "from statsmodels.graphics.gofplots import qqplot"
   ]
  },
  {
   "cell_type": "code",
   "execution_count": 4,
   "metadata": {},
   "outputs": [],
   "source": [
    "home = \"~/git_repos/HGSOC_TME_Heterogeneity/\""
   ]
  },
  {
   "cell_type": "markdown",
   "metadata": {},
   "source": [
    "## Load hallmark NES after differential expression analysis"
   ]
  },
  {
   "cell_type": "code",
   "execution_count": 5,
   "metadata": {},
   "outputs": [
    {
     "name": "stdout",
     "output_type": "stream",
     "text": [
      "../../Data/3/HallmarksStromaImmune_NES_after_DiffExp.txt\r\n"
     ]
    }
   ],
   "source": [
    "ls ../../Data/3/HallmarksStromaImmune_NES_after_DiffExp.txt"
   ]
  },
  {
   "cell_type": "code",
   "execution_count": 6,
   "metadata": {},
   "outputs": [
    {
     "data": {
      "text/html": [
       "<div>\n",
       "<style scoped>\n",
       "    .dataframe tbody tr th:only-of-type {\n",
       "        vertical-align: middle;\n",
       "    }\n",
       "\n",
       "    .dataframe tbody tr th {\n",
       "        vertical-align: top;\n",
       "    }\n",
       "\n",
       "    .dataframe thead th {\n",
       "        text-align: right;\n",
       "    }\n",
       "</style>\n",
       "<table border=\"1\" class=\"dataframe\">\n",
       "  <thead>\n",
       "    <tr style=\"text-align: right;\">\n",
       "      <th></th>\n",
       "      <th>Hallmark_NES</th>\n",
       "    </tr>\n",
       "    <tr>\n",
       "      <th>Term</th>\n",
       "      <th></th>\n",
       "    </tr>\n",
       "  </thead>\n",
       "  <tbody>\n",
       "    <tr>\n",
       "      <th>HALLMARK_TNFA_SIGNALING_VIA_NFKB</th>\n",
       "      <td>-0.190627</td>\n",
       "    </tr>\n",
       "    <tr>\n",
       "      <th>HALLMARK_HYPOXIA</th>\n",
       "      <td>0.013684</td>\n",
       "    </tr>\n",
       "    <tr>\n",
       "      <th>HALLMARK_CHOLESTEROL_HOMEOSTASIS</th>\n",
       "      <td>-0.024618</td>\n",
       "    </tr>\n",
       "    <tr>\n",
       "      <th>HALLMARK_MITOTIC_SPINDLE</th>\n",
       "      <td>0.285642</td>\n",
       "    </tr>\n",
       "    <tr>\n",
       "      <th>HALLMARK_WNT_BETA_CATENIN_SIGNALING</th>\n",
       "      <td>0.411188</td>\n",
       "    </tr>\n",
       "  </tbody>\n",
       "</table>\n",
       "</div>"
      ],
      "text/plain": [
       "                                     Hallmark_NES\n",
       "Term                                             \n",
       "HALLMARK_TNFA_SIGNALING_VIA_NFKB        -0.190627\n",
       "HALLMARK_HYPOXIA                         0.013684\n",
       "HALLMARK_CHOLESTEROL_HOMEOSTASIS        -0.024618\n",
       "HALLMARK_MITOTIC_SPINDLE                 0.285642\n",
       "HALLMARK_WNT_BETA_CATENIN_SIGNALING      0.411188"
      ]
     },
     "execution_count": 6,
     "metadata": {},
     "output_type": "execute_result"
    }
   ],
   "source": [
    "file_hallmark_NES = home + 'Data/3/HallmarksStromaImmune_NES_after_DiffExp.txt'\n",
    "\n",
    "hallmark_NES = pd.read_csv(file_hallmark_NES,\n",
    "                           sep='\\t',\n",
    "                           index_col='Term')\n",
    "\n",
    "hallmark_NES.head()"
   ]
  },
  {
   "cell_type": "markdown",
   "metadata": {},
   "source": [
    "### Transform data to approach normal distribution"
   ]
  },
  {
   "cell_type": "code",
   "execution_count": 7,
   "metadata": {},
   "outputs": [
    {
     "data": {
      "text/html": [
       "<div>\n",
       "<style scoped>\n",
       "    .dataframe tbody tr th:only-of-type {\n",
       "        vertical-align: middle;\n",
       "    }\n",
       "\n",
       "    .dataframe tbody tr th {\n",
       "        vertical-align: top;\n",
       "    }\n",
       "\n",
       "    .dataframe thead th {\n",
       "        text-align: right;\n",
       "    }\n",
       "</style>\n",
       "<table border=\"1\" class=\"dataframe\">\n",
       "  <thead>\n",
       "    <tr style=\"text-align: right;\">\n",
       "      <th></th>\n",
       "      <th>Hallmark_NES</th>\n",
       "      <th>exponential_NES</th>\n",
       "    </tr>\n",
       "    <tr>\n",
       "      <th>Term</th>\n",
       "      <th></th>\n",
       "      <th></th>\n",
       "    </tr>\n",
       "  </thead>\n",
       "  <tbody>\n",
       "    <tr>\n",
       "      <th>HALLMARK_TNFA_SIGNALING_VIA_NFKB</th>\n",
       "      <td>-0.190627</td>\n",
       "      <td>0.826441</td>\n",
       "    </tr>\n",
       "    <tr>\n",
       "      <th>HALLMARK_HYPOXIA</th>\n",
       "      <td>0.013684</td>\n",
       "      <td>1.013778</td>\n",
       "    </tr>\n",
       "    <tr>\n",
       "      <th>HALLMARK_CHOLESTEROL_HOMEOSTASIS</th>\n",
       "      <td>-0.024618</td>\n",
       "      <td>0.975683</td>\n",
       "    </tr>\n",
       "    <tr>\n",
       "      <th>HALLMARK_MITOTIC_SPINDLE</th>\n",
       "      <td>0.285642</td>\n",
       "      <td>1.330616</td>\n",
       "    </tr>\n",
       "    <tr>\n",
       "      <th>HALLMARK_WNT_BETA_CATENIN_SIGNALING</th>\n",
       "      <td>0.411188</td>\n",
       "      <td>1.508609</td>\n",
       "    </tr>\n",
       "  </tbody>\n",
       "</table>\n",
       "</div>"
      ],
      "text/plain": [
       "                                     Hallmark_NES  exponential_NES\n",
       "Term                                                              \n",
       "HALLMARK_TNFA_SIGNALING_VIA_NFKB        -0.190627         0.826441\n",
       "HALLMARK_HYPOXIA                         0.013684         1.013778\n",
       "HALLMARK_CHOLESTEROL_HOMEOSTASIS        -0.024618         0.975683\n",
       "HALLMARK_MITOTIC_SPINDLE                 0.285642         1.330616\n",
       "HALLMARK_WNT_BETA_CATENIN_SIGNALING      0.411188         1.508609"
      ]
     },
     "execution_count": 7,
     "metadata": {},
     "output_type": "execute_result"
    }
   ],
   "source": [
    "hallmark_NES['exponential_NES'] = np.exp(hallmark_NES['Hallmark_NES'])\n",
    "\n",
    "hallmark_NES.head()"
   ]
  },
  {
   "cell_type": "markdown",
   "metadata": {},
   "source": [
    "## Evaluate normality distribution of NES data"
   ]
  },
  {
   "cell_type": "markdown",
   "metadata": {},
   "source": [
    "### Visual normality checks"
   ]
  },
  {
   "cell_type": "markdown",
   "metadata": {},
   "source": [
    "#### Density plot and histogram"
   ]
  },
  {
   "cell_type": "code",
   "execution_count": 8,
   "metadata": {},
   "outputs": [
    {
     "data": {
      "text/plain": [
       "<matplotlib.axes._subplots.AxesSubplot at 0x1a22109160>"
      ]
     },
     "execution_count": 8,
     "metadata": {},
     "output_type": "execute_result"
    },
    {
     "data": {
      "image/png": "[encoded data removed]",
      "text/plain": [
       "<Figure size 432x288 with 1 Axes>"
      ]
     },
     "metadata": {},
     "output_type": "display_data"
    }
   ],
   "source": [
    "hallmark_NES['exponential_NES'].plot(kind='KDE')"
   ]
  },
  {
   "cell_type": "code",
   "execution_count": 9,
   "metadata": {},
   "outputs": [
    {
     "data": {
      "text/plain": [
       "<matplotlib.axes._subplots.AxesSubplot at 0x1a2244b898>"
      ]
     },
     "execution_count": 9,
     "metadata": {},
     "output_type": "execute_result"
    },
    {
     "data": {
      "image/png": "[encoded data removed]",
      "text/plain": [
       "<Figure size 432x288 with 1 Axes>"
      ]
     },
     "metadata": {},
     "output_type": "display_data"
    }
   ],
   "source": [
    "hallmark_NES['exponential_NES'].plot(kind='hist',\n",
    "                                     bins=10)"
   ]
  },
  {
   "cell_type": "markdown",
   "metadata": {},
   "source": [
    "#### Q-Q plot"
   ]
  },
  {
   "cell_type": "code",
   "execution_count": 10,
   "metadata": {},
   "outputs": [
    {
     "data": {
      "image/png": "[encoded data removed]",
      "text/plain": [
       "<Figure size 432x288 with 1 Axes>"
      ]
     },
     "metadata": {},
     "output_type": "display_data"
    }
   ],
   "source": [
    "qqplot(hallmark_NES['exponential_NES'].sort_values(), line='s')\n",
    "\n",
    "plt.show()"
   ]
  },
  {
   "cell_type": "markdown",
   "metadata": {},
   "source": [
    "### Statistical Normality Tests"
   ]
  },
  {
   "cell_type": "markdown",
   "metadata": {},
   "source": [
    "#### Shapiro-Wilk test"
   ]
  },
  {
   "cell_type": "code",
   "execution_count": 11,
   "metadata": {},
   "outputs": [
    {
     "name": "stdout",
     "output_type": "stream",
     "text": [
      "p-value = 0.6430591344833374\n",
      "Sample looks Gaussian (fail to reject H0)\n"
     ]
    }
   ],
   "source": [
    "stat, p = shapiro(hallmark_NES['exponential_NES'])\n",
    "\n",
    "alpha = 0.05\n",
    "if p > alpha:\n",
    "    print('p-value = '+str(p))\n",
    "    print('Sample looks Gaussian (fail to reject H0)')\n",
    "else:\n",
    "    print('p-value = '+str(p))\n",
    "    print('Sample does not look Gaussian (reject H0)')"
   ]
  },
  {
   "cell_type": "markdown",
   "metadata": {},
   "source": [
    "#### D’Agostino’s K^2 test"
   ]
  },
  {
   "cell_type": "code",
   "execution_count": 12,
   "metadata": {},
   "outputs": [
    {
     "name": "stdout",
     "output_type": "stream",
     "text": [
      "p-value = 0.8422704913175552\n",
      "Sample looks Gaussian (fail to reject H0)\n"
     ]
    }
   ],
   "source": [
    "stat, p = normaltest(hallmark_NES['exponential_NES'])\n",
    "\n",
    "alpha = 0.05\n",
    "if p > alpha:\n",
    "    print('p-value = '+str(p))\n",
    "    print('Sample looks Gaussian (fail to reject H0)')\n",
    "else:\n",
    "    print('p-value = '+str(p))\n",
    "    print('Sample does not look Gaussian (reject H0)')"
   ]
  },
  {
   "cell_type": "markdown",
   "metadata": {},
   "source": [
    "#### Anderson-Darling test"
   ]
  },
  {
   "cell_type": "markdown",
   "metadata": {},
   "source": [
    "<p>\n",
    "Critical values in a statistical test are a range of pre-defined significance boundaries at which the H0 can be failed to be rejected if the calculated statistic is less than the critical value. Rather than just a single p-value, the test returns a critical value for a range of different commonly used significance levels.\n",
    "</p>\n",
    "<p>\n",
    "We can interpret the results by failing to reject the null hypothesis that the data is normal if the calculated test statistic is less than the critical value at a chosen significance level.\n",
    "</p>"
   ]
  },
  {
   "cell_type": "code",
   "execution_count": 13,
   "metadata": {},
   "outputs": [
    {
     "name": "stdout",
     "output_type": "stream",
     "text": [
      "Statistic: 0.326\n",
      "15.000: 0.539, data looks normal (fail to reject H0)\n",
      "10.000: 0.614, data looks normal (fail to reject H0)\n",
      "5.000: 0.737, data looks normal (fail to reject H0)\n",
      "2.500: 0.860, data looks normal (fail to reject H0)\n",
      "1.000: 1.023, data looks normal (fail to reject H0)\n"
     ]
    }
   ],
   "source": [
    "result = anderson(list(hallmark_NES['exponential_NES']),\n",
    "                  dist='norm')\n",
    "\n",
    "print('Statistic: %.3f' % result.statistic)\n",
    "p = 0\n",
    "for i in range(len(result.critical_values)):\n",
    "    sl, cv = result.significance_level[i], result.critical_values[i]\n",
    "    if result.statistic < result.critical_values[i]:\n",
    "        print('%.3f: %.3f, data looks normal (fail to reject H0)' % (sl, cv))\n",
    "    else:\n",
    "        print('%.3f: %.3f, data does not look normal (reject H0)' % (sl, cv))"
   ]
  },
  {
   "cell_type": "markdown",
   "metadata": {},
   "source": [
    "## Generate normal distribution for visual comparison"
   ]
  },
  {
   "cell_type": "code",
   "execution_count": 14,
   "metadata": {},
   "outputs": [],
   "source": [
    "Exp_NES_sorted = list(hallmark_NES['exponential_NES'].sort_values())\n",
    "\n",
    "fit = stats.norm.pdf(Exp_NES_sorted,\n",
    "                     np.mean(Exp_NES_sorted),\n",
    "                     np.std(Exp_NES_sorted))"
   ]
  },
  {
   "cell_type": "code",
   "execution_count": 15,
   "metadata": {},
   "outputs": [
    {
     "data": {
      "text/plain": [
       "-0.5860662273032939"
      ]
     },
     "execution_count": 15,
     "metadata": {},
     "output_type": "execute_result"
    }
   ],
   "source": [
    "MIN = min(hallmark_NES['Hallmark_NES'])\n",
    "\n",
    "MIN"
   ]
  },
  {
   "cell_type": "code",
   "execution_count": 16,
   "metadata": {},
   "outputs": [
    {
     "data": {
      "text/plain": [
       "0.413933772696706"
      ]
     },
     "execution_count": 16,
     "metadata": {},
     "output_type": "execute_result"
    }
   ],
   "source": [
    "MAX = max(hallmark_NES['Hallmark_NES'])\n",
    "\n",
    "MAX"
   ]
  },
  {
   "cell_type": "code",
   "execution_count": 17,
   "metadata": {},
   "outputs": [
    {
     "data": {
      "text/plain": [
       "11.999999999999998"
      ]
     },
     "execution_count": 17,
     "metadata": {},
     "output_type": "execute_result"
    }
   ],
   "source": [
    "num_ticks = round(round(MAX+0.1, 1) - round(MIN-0.1, 1), 1) / 0.1\n",
    "\n",
    "num_ticks"
   ]
  },
  {
   "cell_type": "code",
   "execution_count": 18,
   "metadata": {},
   "outputs": [
    {
     "data": {
      "text/plain": [
       "0.5565121768892656"
      ]
     },
     "execution_count": 18,
     "metadata": {},
     "output_type": "execute_result"
    }
   ],
   "source": [
    "MIN_exp = min(hallmark_NES['exponential_NES'])\n",
    "\n",
    "MIN_exp"
   ]
  },
  {
   "cell_type": "code",
   "execution_count": 19,
   "metadata": {},
   "outputs": [
    {
     "data": {
      "text/plain": [
       "1.5127569377542764"
      ]
     },
     "execution_count": 19,
     "metadata": {},
     "output_type": "execute_result"
    }
   ],
   "source": [
    "MAX_exp = max(hallmark_NES['exponential_NES'])\n",
    "\n",
    "MAX_exp"
   ]
  },
  {
   "cell_type": "code",
   "execution_count": 25,
   "metadata": {},
   "outputs": [
    {
     "data": {
      "text/plain": [
       "12"
      ]
     },
     "execution_count": 25,
     "metadata": {},
     "output_type": "execute_result"
    }
   ],
   "source": [
    "num_ticks = round(round(round(MAX+0.1, 1) - round(MIN-0.1, 1), 1) / 0.1)\n",
    "\n",
    "num_ticks"
   ]
  },
  {
   "cell_type": "code",
   "execution_count": 26,
   "metadata": {},
   "outputs": [
    {
     "data": {
      "text/plain": [
       "[-0.7, -0.6, -0.5, -0.4, -0.3, -0.2, -0.0, 0.1, 0.2, 0.3, 0.4, 0.5]"
      ]
     },
     "execution_count": 26,
     "metadata": {},
     "output_type": "execute_result"
    }
   ],
   "source": [
    "ticks_linear = [round(i, 1) for i in np.linspace(round(MIN-0.1, 1),round(MAX+0.1, 1), num_ticks)]\n",
    "\n",
    "ticks_linear"
   ]
  },
  {
   "cell_type": "code",
   "execution_count": 27,
   "metadata": {},
   "outputs": [
    {
     "data": {
      "text/plain": [
       "array([0.4965853 , 0.54881164, 0.60653066, 0.67032005, 0.74081822,\n",
       "       0.81873075, 1.        , 1.10517092, 1.22140276, 1.34985881,\n",
       "       1.4918247 , 1.64872127])"
      ]
     },
     "execution_count": 27,
     "metadata": {},
     "output_type": "execute_result"
    }
   ],
   "source": [
    "ticks_exp = np.exp(ticks_linear)\n",
    "\n",
    "ticks_exp"
   ]
  },
  {
   "cell_type": "code",
   "execution_count": 28,
   "metadata": {},
   "outputs": [
    {
     "name": "stderr",
     "output_type": "stream",
     "text": [
      "/anaconda3/lib/python3.6/site-packages/matplotlib/cbook/__init__.py:2446: UserWarning: Saw kwargs ['c', 'color'] which are all aliases for 'color'.  Kept value from 'color'\n",
      "  seen=seen, canon=canonical, used=seen[-1]))\n"
     ]
    },
    {
     "data": {
      "text/plain": [
       "[[Text(0,0,'-0.7'),\n",
       "  Text(0,0,'-0.6'),\n",
       "  Text(0,0,'-0.5'),\n",
       "  Text(0,0,'-0.4'),\n",
       "  Text(0,0,'-0.3'),\n",
       "  Text(0,0,'-0.2'),\n",
       "  Text(0,0,'-0.0'),\n",
       "  Text(0,0,'0.1'),\n",
       "  Text(0,0,'0.2'),\n",
       "  Text(0,0,'0.3'),\n",
       "  Text(0,0,'0.4'),\n",
       "  Text(0,0,'0.5')]]"
      ]
     },
     "execution_count": 28,
     "metadata": {},
     "output_type": "execute_result"
    },
    {
     "data": {
      "image/png": "[encoded data removed]",
      "text/plain": [
       "<Figure size 720x216 with 1 Axes>"
      ]
     },
     "metadata": {},
     "output_type": "display_data"
    }
   ],
   "source": [
    "fig = plt.figure(figsize=(10,3))\n",
    "\n",
    "ax = sns.kdeplot(hallmark_NES['exponential_NES'],\n",
    "                 cut=0,\n",
    "                 c='b')\n",
    "    \n",
    "pl.plot(Exp_NES_sorted,fit,'-',c='r')\n",
    "\n",
    "\n",
    "\n",
    "ax.set_xticks(ticks_exp)\n",
    "ax.set(xticklabels=ticks_linear)"
   ]
  },
  {
   "cell_type": "code",
   "execution_count": 29,
   "metadata": {},
   "outputs": [],
   "source": [
    "fig = ax.get_figure()\n",
    "\n",
    "FILE = \"../../Figures/main/3/panels/3g_hallmarks_NES_t_statistic_dist.pdf\"\n",
    "\n",
    "fig.savefig(FILE, bbox='tight')"
   ]
  },
  {
   "cell_type": "markdown",
   "metadata": {},
   "source": [
    "## Plot sorted NES"
   ]
  },
  {
   "cell_type": "markdown",
   "metadata": {},
   "source": [
    "### Define and find outliers using z-score and modified z-score"
   ]
  },
  {
   "cell_type": "code",
   "execution_count": 30,
   "metadata": {},
   "outputs": [],
   "source": [
    "def outliers_modified_z_score(ys, threshold=float):\n",
    "\n",
    "    median_y = np.median(ys)\n",
    "    median_absolute_deviation_y = np.median([np.abs(y - median_y) for y in ys])\n",
    "    modified_z_scores = [0.6745 * (y - median_y) / median_absolute_deviation_y\n",
    "                         for y in ys]\n",
    "    \n",
    "    return np.where(np.abs(modified_z_scores) > threshold)\n",
    "\n",
    "def outliers_z_score(ys, threshold=float):\n",
    "\n",
    "    mean_y = np.mean(ys)\n",
    "    stdev_y = np.std(ys)\n",
    "    z_scores = [(y - mean_y) / stdev_y for y in ys]\n",
    "    return np.where(np.abs(z_scores) > threshold)"
   ]
  },
  {
   "cell_type": "code",
   "execution_count": 31,
   "metadata": {},
   "outputs": [
    {
     "data": {
      "text/html": [
       "<div>\n",
       "<style scoped>\n",
       "    .dataframe tbody tr th:only-of-type {\n",
       "        vertical-align: middle;\n",
       "    }\n",
       "\n",
       "    .dataframe tbody tr th {\n",
       "        vertical-align: top;\n",
       "    }\n",
       "\n",
       "    .dataframe thead th {\n",
       "        text-align: right;\n",
       "    }\n",
       "</style>\n",
       "<table border=\"1\" class=\"dataframe\">\n",
       "  <thead>\n",
       "    <tr style=\"text-align: right;\">\n",
       "      <th></th>\n",
       "      <th>Hallmark_NES</th>\n",
       "      <th>exponential_NES</th>\n",
       "    </tr>\n",
       "    <tr>\n",
       "      <th>Term</th>\n",
       "      <th></th>\n",
       "      <th></th>\n",
       "    </tr>\n",
       "  </thead>\n",
       "  <tbody>\n",
       "    <tr>\n",
       "      <th>HALLMARK_WNT_BETA_CATENIN_SIGNALING</th>\n",
       "      <td>0.411188</td>\n",
       "      <td>1.508609</td>\n",
       "    </tr>\n",
       "    <tr>\n",
       "      <th>HALLMARK_G2M_CHECKPOINT</th>\n",
       "      <td>0.382139</td>\n",
       "      <td>1.465416</td>\n",
       "    </tr>\n",
       "    <tr>\n",
       "      <th>HALLMARK_INTERFERON_ALPHA_RESPONSE</th>\n",
       "      <td>-0.402744</td>\n",
       "      <td>0.668483</td>\n",
       "    </tr>\n",
       "    <tr>\n",
       "      <th>HALLMARK_INTERFERON_GAMMA_RESPONSE</th>\n",
       "      <td>-0.417773</td>\n",
       "      <td>0.658511</td>\n",
       "    </tr>\n",
       "    <tr>\n",
       "      <th>HALLMARK_MYC_TARGETS_V2</th>\n",
       "      <td>0.413934</td>\n",
       "      <td>1.512757</td>\n",
       "    </tr>\n",
       "    <tr>\n",
       "      <th>StromalSignature</th>\n",
       "      <td>-0.494474</td>\n",
       "      <td>0.609891</td>\n",
       "    </tr>\n",
       "    <tr>\n",
       "      <th>ImmuneSignature</th>\n",
       "      <td>-0.586066</td>\n",
       "      <td>0.556512</td>\n",
       "    </tr>\n",
       "  </tbody>\n",
       "</table>\n",
       "</div>"
      ],
      "text/plain": [
       "                                     Hallmark_NES  exponential_NES\n",
       "Term                                                              \n",
       "HALLMARK_WNT_BETA_CATENIN_SIGNALING      0.411188         1.508609\n",
       "HALLMARK_G2M_CHECKPOINT                  0.382139         1.465416\n",
       "HALLMARK_INTERFERON_ALPHA_RESPONSE      -0.402744         0.668483\n",
       "HALLMARK_INTERFERON_GAMMA_RESPONSE      -0.417773         0.658511\n",
       "HALLMARK_MYC_TARGETS_V2                  0.413934         1.512757\n",
       "StromalSignature                        -0.494474         0.609891\n",
       "ImmuneSignature                         -0.586066         0.556512"
      ]
     },
     "execution_count": 31,
     "metadata": {},
     "output_type": "execute_result"
    }
   ],
   "source": [
    "outliers = outliers_modified_z_score(hallmark_NES['exponential_NES'], 1.96)\n",
    "\n",
    "hallmark_NES.iloc[outliers]"
   ]
  },
  {
   "cell_type": "code",
   "execution_count": 32,
   "metadata": {},
   "outputs": [],
   "source": [
    "hallmark_NES['Term'] = hallmark_NES.index"
   ]
  },
  {
   "cell_type": "code",
   "execution_count": 33,
   "metadata": {},
   "outputs": [
    {
     "data": {
      "text/html": [
       "<div>\n",
       "<style scoped>\n",
       "    .dataframe tbody tr th:only-of-type {\n",
       "        vertical-align: middle;\n",
       "    }\n",
       "\n",
       "    .dataframe tbody tr th {\n",
       "        vertical-align: top;\n",
       "    }\n",
       "\n",
       "    .dataframe thead th {\n",
       "        text-align: right;\n",
       "    }\n",
       "</style>\n",
       "<table border=\"1\" class=\"dataframe\">\n",
       "  <thead>\n",
       "    <tr style=\"text-align: right;\">\n",
       "      <th></th>\n",
       "      <th>Hallmark_NES</th>\n",
       "      <th>exponential_NES</th>\n",
       "      <th>Term</th>\n",
       "    </tr>\n",
       "    <tr>\n",
       "      <th>Term</th>\n",
       "      <th></th>\n",
       "      <th></th>\n",
       "      <th></th>\n",
       "    </tr>\n",
       "  </thead>\n",
       "  <tbody>\n",
       "    <tr>\n",
       "      <th>HALLMARK_MYC_TARGETS_V2</th>\n",
       "      <td>0.413934</td>\n",
       "      <td>1.512757</td>\n",
       "      <td>HALLMARK_MYC_TARGETS_V2</td>\n",
       "    </tr>\n",
       "    <tr>\n",
       "      <th>HALLMARK_WNT_BETA_CATENIN_SIGNALING</th>\n",
       "      <td>0.411188</td>\n",
       "      <td>1.508609</td>\n",
       "      <td>HALLMARK_WNT_BETA_CATENIN_SIGNALING</td>\n",
       "    </tr>\n",
       "    <tr>\n",
       "      <th>HALLMARK_G2M_CHECKPOINT</th>\n",
       "      <td>0.382139</td>\n",
       "      <td>1.465416</td>\n",
       "      <td>HALLMARK_G2M_CHECKPOINT</td>\n",
       "    </tr>\n",
       "    <tr>\n",
       "      <th>HALLMARK_MITOTIC_SPINDLE</th>\n",
       "      <td>0.285642</td>\n",
       "      <td>1.330616</td>\n",
       "      <td>HALLMARK_MITOTIC_SPINDLE</td>\n",
       "    </tr>\n",
       "    <tr>\n",
       "      <th>HALLMARK_E2F_TARGETS</th>\n",
       "      <td>0.275921</td>\n",
       "      <td>1.317743</td>\n",
       "      <td>HALLMARK_E2F_TARGETS</td>\n",
       "    </tr>\n",
       "  </tbody>\n",
       "</table>\n",
       "</div>"
      ],
      "text/plain": [
       "                                     Hallmark_NES  exponential_NES  \\\n",
       "Term                                                                 \n",
       "HALLMARK_MYC_TARGETS_V2                  0.413934         1.512757   \n",
       "HALLMARK_WNT_BETA_CATENIN_SIGNALING      0.411188         1.508609   \n",
       "HALLMARK_G2M_CHECKPOINT                  0.382139         1.465416   \n",
       "HALLMARK_MITOTIC_SPINDLE                 0.285642         1.330616   \n",
       "HALLMARK_E2F_TARGETS                     0.275921         1.317743   \n",
       "\n",
       "                                                                    Term  \n",
       "Term                                                                      \n",
       "HALLMARK_MYC_TARGETS_V2                          HALLMARK_MYC_TARGETS_V2  \n",
       "HALLMARK_WNT_BETA_CATENIN_SIGNALING  HALLMARK_WNT_BETA_CATENIN_SIGNALING  \n",
       "HALLMARK_G2M_CHECKPOINT                          HALLMARK_G2M_CHECKPOINT  \n",
       "HALLMARK_MITOTIC_SPINDLE                        HALLMARK_MITOTIC_SPINDLE  \n",
       "HALLMARK_E2F_TARGETS                                HALLMARK_E2F_TARGETS  "
      ]
     },
     "execution_count": 33,
     "metadata": {},
     "output_type": "execute_result"
    }
   ],
   "source": [
    "hallmark_NES.sort_values(by='exponential_NES',\n",
    "                         ascending=False,\n",
    "                         inplace=True)\n",
    "\n",
    "hallmark_NES.head()"
   ]
  },
  {
   "cell_type": "code",
   "execution_count": 34,
   "metadata": {},
   "outputs": [],
   "source": [
    "med = hallmark_NES['exponential_NES'].median()\n",
    "MAD = mad(hallmark_NES['exponential_NES'])"
   ]
  },
  {
   "cell_type": "code",
   "execution_count": 36,
   "metadata": {},
   "outputs": [
    {
     "data": {
      "image/png": "[encoded data removed]",
      "text/plain": [
       "<Figure size 720x1080 with 1 Axes>"
      ]
     },
     "metadata": {},
     "output_type": "display_data"
    }
   ],
   "source": [
    "fig = plt.figure(figsize=(10,15))\n",
    "\n",
    "ax = sns.boxplot(x='exponential_NES',\n",
    "                 y='Term',\n",
    "                 data=hallmark_NES)\n",
    "\n",
    "plt.axvline(x=med,alpha=1,c='r')\n",
    "plt.axvline(x=med+(1.96*MAD),alpha=1,c='r',ls='--')\n",
    "plt.axvline(x=med-(1.96*MAD),alpha=1,c='r',ls='--')\n",
    "\n",
    "ax.set_xticks(ticks_exp)\n",
    "ax.set(xticklabels=ticks_linear)\n",
    "\n",
    "plt.show()"
   ]
  },
  {
   "cell_type": "code",
   "execution_count": 37,
   "metadata": {},
   "outputs": [],
   "source": [
    "fig = ax.get_figure()\n",
    "\n",
    "FILE = \"../../Figures/main/3/panels/3g_hallmarks_NES_t_statistic_medians.pdf\"\n",
    "\n",
    "fig.savefig(FILE, bbox='tight')"
   ]
  },
  {
   "cell_type": "markdown",
   "metadata": {},
   "source": [
    "# End script"
   ]
  }
 ],
 "metadata": {
  "kernelspec": {
   "display_name": "Python 3",
   "language": "python",
   "name": "python3"
  },
  "language_info": {
   "codemirror_mode": {
    "name": "ipython",
    "version": 3
   },
   "file_extension": ".py",
   "mimetype": "text/x-python",
   "name": "python",
   "nbconvert_exporter": "python",
   "pygments_lexer": "ipython3",
   "version": "3.6.8"
  }
 },
 "nbformat": 4,
 "nbformat_minor": 2
}

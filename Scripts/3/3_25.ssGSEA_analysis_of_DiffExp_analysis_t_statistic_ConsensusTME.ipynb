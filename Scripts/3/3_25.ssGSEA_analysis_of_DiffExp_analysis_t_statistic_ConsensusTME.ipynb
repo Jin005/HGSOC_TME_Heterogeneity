{
 "cells": [
  {
   "cell_type": "markdown",
   "metadata": {},
   "source": [
    "# ssGSEA analysis of t-stastic derived from differential expression analysis using ConsensusTME"
   ]
  },
  {
   "cell_type": "markdown",
   "metadata": {},
   "source": [
    "Script related to figure 3h\n",
    "\n",
    "### Aim:\n",
    "- Calculate NES of consensusTME gene sets using t-statistic derived from differential expression analysis"
   ]
  },
  {
   "cell_type": "code",
   "execution_count": 1,
   "metadata": {},
   "outputs": [
    {
     "data": {
      "text/plain": [
       "R version 3.5.0 (2018-04-23)\n",
       "Platform: x86_64-apple-darwin15.6.0 (64-bit)\n",
       "Running under: macOS High Sierra 10.13.6\n",
       "\n",
       "Matrix products: default\n",
       "BLAS: /Library/Frameworks/R.framework/Versions/3.5/Resources/lib/libRblas.0.dylib\n",
       "LAPACK: /Library/Frameworks/R.framework/Versions/3.5/Resources/lib/libRlapack.dylib\n",
       "\n",
       "locale:\n",
       "[1] C/UTF-8/C/C/C/C\n",
       "\n",
       "attached base packages:\n",
       "[1] stats     graphics  grDevices utils     datasets  methods   base     \n",
       "\n",
       "loaded via a namespace (and not attached):\n",
       " [1] compiler_3.5.0  IRdisplay_0.6.1 pbdZMQ_0.3-3    tools_3.5.0    \n",
       " [5] htmltools_0.3.6 base64enc_0.1-3 crayon_1.3.4    Rcpp_1.0.1     \n",
       " [9] uuid_0.1-2      IRkernel_0.8.14 jsonlite_1.6    digest_0.6.18  \n",
       "[13] repr_0.17       evaluate_0.13  "
      ]
     },
     "metadata": {},
     "output_type": "display_data"
    }
   ],
   "source": [
    "sessionInfo()"
   ]
  },
  {
   "cell_type": "markdown",
   "metadata": {},
   "source": [
    "## Load packages"
   ]
  },
  {
   "cell_type": "code",
   "execution_count": 1,
   "metadata": {},
   "outputs": [
    {
     "name": "stderr",
     "output_type": "stream",
     "text": [
      "Warning message:\n",
      "“package ‘GSVA’ was built under R version 3.5.1”\n",
      "Attaching package: ‘BBmisc’\n",
      "\n",
      "The following object is masked from ‘package:base’:\n",
      "\n",
      "    isFALSE\n",
      "\n"
     ]
    }
   ],
   "source": [
    "library(GSVA)\n",
    "library(BBmisc)\n",
    "library(nortest)"
   ]
  },
  {
   "cell_type": "code",
   "execution_count": 2,
   "metadata": {},
   "outputs": [],
   "source": [
    "setwd(\"~/git_repos/HGSOC_TME_Heterogeneity/Scripts/3/\")"
   ]
  },
  {
   "cell_type": "markdown",
   "metadata": {},
   "source": [
    "## Load differential expression data"
   ]
  },
  {
   "cell_type": "code",
   "execution_count": 3,
   "metadata": {},
   "outputs": [
    {
     "data": {
      "text/html": [
       "<table>\n",
       "<thead><tr><th></th><th scope=col>logFC</th><th scope=col>AveExpr</th><th scope=col>t</th><th scope=col>P.Value</th><th scope=col>adj.P.Val</th><th scope=col>B</th></tr></thead>\n",
       "<tbody>\n",
       "\t<tr><th scope=row>CYBB</th><td>-1.870505   </td><td> 7.517236   </td><td>-7.383829   </td><td>9.506638e-09</td><td>0.0001394434</td><td>9.284987    </td></tr>\n",
       "\t<tr><th scope=row>VAMP5</th><td>-1.638811   </td><td> 7.159211   </td><td>-5.762822   </td><td>1.374465e-06</td><td>0.0100803241</td><td>5.020438    </td></tr>\n",
       "\t<tr><th scope=row>APOC1</th><td>-2.131354   </td><td>12.821060   </td><td>-5.479986   </td><td>3.302432e-06</td><td>0.0105828459</td><td>4.257513    </td></tr>\n",
       "\t<tr><th scope=row>IL7R</th><td>-3.111353   </td><td>10.072070   </td><td>-5.426074   </td><td>3.902423e-06</td><td>0.0105828459</td><td>4.111945    </td></tr>\n",
       "\t<tr><th scope=row>NKG7</th><td>-1.178869   </td><td> 6.407097   </td><td>-5.360814   </td><td>4.775790e-06</td><td>0.0105828459</td><td>3.935731    </td></tr>\n",
       "\t<tr><th scope=row>CD53</th><td>-1.710032   </td><td> 9.386776   </td><td>-5.338679   </td><td>5.114235e-06</td><td>0.0105828459</td><td>3.875965    </td></tr>\n",
       "</tbody>\n",
       "</table>\n"
      ],
      "text/latex": [
       "\\begin{tabular}{r|llllll}\n",
       "  & logFC & AveExpr & t & P.Value & adj.P.Val & B\\\\\n",
       "\\hline\n",
       "\tCYBB & -1.870505    &  7.517236    & -7.383829    & 9.506638e-09 & 0.0001394434 & 9.284987    \\\\\n",
       "\tVAMP5 & -1.638811    &  7.159211    & -5.762822    & 1.374465e-06 & 0.0100803241 & 5.020438    \\\\\n",
       "\tAPOC1 & -2.131354    & 12.821060    & -5.479986    & 3.302432e-06 & 0.0105828459 & 4.257513    \\\\\n",
       "\tIL7R & -3.111353    & 10.072070    & -5.426074    & 3.902423e-06 & 0.0105828459 & 4.111945    \\\\\n",
       "\tNKG7 & -1.178869    &  6.407097    & -5.360814    & 4.775790e-06 & 0.0105828459 & 3.935731    \\\\\n",
       "\tCD53 & -1.710032    &  9.386776    & -5.338679    & 5.114235e-06 & 0.0105828459 & 3.875965    \\\\\n",
       "\\end{tabular}\n"
      ],
      "text/markdown": [
       "\n",
       "| <!--/--> | logFC | AveExpr | t | P.Value | adj.P.Val | B | \n",
       "|---|---|---|---|---|---|\n",
       "| CYBB | -1.870505    |  7.517236    | -7.383829    | 9.506638e-09 | 0.0001394434 | 9.284987     | \n",
       "| VAMP5 | -1.638811    |  7.159211    | -5.762822    | 1.374465e-06 | 0.0100803241 | 5.020438     | \n",
       "| APOC1 | -2.131354    | 12.821060    | -5.479986    | 3.302432e-06 | 0.0105828459 | 4.257513     | \n",
       "| IL7R | -3.111353    | 10.072070    | -5.426074    | 3.902423e-06 | 0.0105828459 | 4.111945     | \n",
       "| NKG7 | -1.178869    |  6.407097    | -5.360814    | 4.775790e-06 | 0.0105828459 | 3.935731     | \n",
       "| CD53 | -1.710032    |  9.386776    | -5.338679    | 5.114235e-06 | 0.0105828459 | 3.875965     | \n",
       "\n",
       "\n"
      ],
      "text/plain": [
       "      logFC     AveExpr   t         P.Value      adj.P.Val    B       \n",
       "CYBB  -1.870505  7.517236 -7.383829 9.506638e-09 0.0001394434 9.284987\n",
       "VAMP5 -1.638811  7.159211 -5.762822 1.374465e-06 0.0100803241 5.020438\n",
       "APOC1 -2.131354 12.821060 -5.479986 3.302432e-06 0.0105828459 4.257513\n",
       "IL7R  -3.111353 10.072070 -5.426074 3.902423e-06 0.0105828459 4.111945\n",
       "NKG7  -1.178869  6.407097 -5.360814 4.775790e-06 0.0105828459 3.935731\n",
       "CD53  -1.710032  9.386776 -5.338679 5.114235e-06 0.0105828459 3.875965"
      ]
     },
     "metadata": {},
     "output_type": "display_data"
    }
   ],
   "source": [
    "data <- read.csv('../../Data/3/Diff_exp_highlow_tum_cell_patientdependent.txt',\n",
    "                 sep='\\t',\n",
    "                 header=T,\n",
    "                 row.names='Hugo_symbol')\n",
    "\n",
    "head(data)"
   ]
  },
  {
   "cell_type": "markdown",
   "metadata": {},
   "source": [
    "### Select t-statistic"
   ]
  },
  {
   "cell_type": "code",
   "execution_count": 4,
   "metadata": {},
   "outputs": [
    {
     "data": {
      "text/html": [
       "<table>\n",
       "<thead><tr><th></th><th scope=col>t</th></tr></thead>\n",
       "<tbody>\n",
       "\t<tr><th scope=row>CYBB</th><td>-7.383829</td></tr>\n",
       "\t<tr><th scope=row>VAMP5</th><td>-5.762822</td></tr>\n",
       "\t<tr><th scope=row>APOC1</th><td>-5.479986</td></tr>\n",
       "\t<tr><th scope=row>IL7R</th><td>-5.426074</td></tr>\n",
       "\t<tr><th scope=row>NKG7</th><td>-5.360814</td></tr>\n",
       "\t<tr><th scope=row>CD53</th><td>-5.338679</td></tr>\n",
       "</tbody>\n",
       "</table>\n"
      ],
      "text/latex": [
       "\\begin{tabular}{r|l}\n",
       "  & t\\\\\n",
       "\\hline\n",
       "\tCYBB & -7.383829\\\\\n",
       "\tVAMP5 & -5.762822\\\\\n",
       "\tAPOC1 & -5.479986\\\\\n",
       "\tIL7R & -5.426074\\\\\n",
       "\tNKG7 & -5.360814\\\\\n",
       "\tCD53 & -5.338679\\\\\n",
       "\\end{tabular}\n"
      ],
      "text/markdown": [
       "\n",
       "| <!--/--> | t | \n",
       "|---|---|---|---|---|---|\n",
       "| CYBB | -7.383829 | \n",
       "| VAMP5 | -5.762822 | \n",
       "| APOC1 | -5.479986 | \n",
       "| IL7R | -5.426074 | \n",
       "| NKG7 | -5.360814 | \n",
       "| CD53 | -5.338679 | \n",
       "\n",
       "\n"
      ],
      "text/plain": [
       "      t        \n",
       "CYBB  -7.383829\n",
       "VAMP5 -5.762822\n",
       "APOC1 -5.479986\n",
       "IL7R  -5.426074\n",
       "NKG7  -5.360814\n",
       "CD53  -5.338679"
      ]
     },
     "metadata": {},
     "output_type": "display_data"
    }
   ],
   "source": [
    "data_t <- data['t']\n",
    "\n",
    "head(data_t)"
   ]
  },
  {
   "cell_type": "code",
   "execution_count": 5,
   "metadata": {},
   "outputs": [],
   "source": [
    "data_mtx <- as.matrix(data_t)"
   ]
  },
  {
   "cell_type": "markdown",
   "metadata": {},
   "source": [
    "## Load ConsensusTME gene sets"
   ]
  },
  {
   "cell_type": "code",
   "execution_count": 6,
   "metadata": {},
   "outputs": [
    {
     "data": {
      "text/html": [
       "<table>\n",
       "<thead><tr><th scope=col>B_cells</th><th scope=col>Cytotoxic_cells</th><th scope=col>Dendritic_cells</th><th scope=col>Endothelial</th><th scope=col>Eosinophils</th><th scope=col>Fibroblasts</th><th scope=col>Macrophages</th><th scope=col>Macrophages_M1</th><th scope=col>Macrophages_M2</th><th scope=col>Mast_cells</th><th scope=col>Monocytes</th><th scope=col>NK_cells</th><th scope=col>Neutrophils</th><th scope=col>Plasma_cells</th><th scope=col>T_cells_CD4</th><th scope=col>T_cells_CD8</th><th scope=col>T_cells_gamma_delta</th><th scope=col>T_regulatory_cells</th></tr></thead>\n",
       "<tbody>\n",
       "\t<tr><td>BLNK    </td><td>CTSW    </td><td>BCL2A1  </td><td>CD93    </td><td>ABHD2   </td><td>ABCA6   </td><td>ACTR2   </td><td>ACTR2   </td><td>AIF1    </td><td>ATP6V1C1</td><td>AIF1    </td><td>APOBEC3G</td><td>BCL2A1  </td><td>CD27    </td><td>AIM2    </td><td>BCL11B  </td><td>APOBEC3G</td><td>CCR7    </td></tr>\n",
       "\t<tr><td>CD1C    </td><td>GZMA    </td><td>BIRC3   </td><td>CDH5    </td><td>BCL2A1  </td><td>ASPN    </td><td>ATG7    </td><td>CCL19   </td><td>ATP6V1C1</td><td>CCL4    </td><td>AKAP13  </td><td>CCL4    </td><td>C5AR1   </td><td>CD38    </td><td>ARHGAP15</td><td>BIN2    </td><td>CCL4    </td><td>CD2     </td></tr>\n",
       "\t<tr><td>CD37    </td><td>GZMB    </td><td>CCL19   </td><td>EMCN    </td><td>CCL4    </td><td>COL3A1  </td><td>ATP6V1C1</td><td>CCL4    </td><td>CLEC10A </td><td>CD84    </td><td>C5AR1   </td><td>CCR5    </td><td>CSF2RB  </td><td>CYBA    </td><td>BATF    </td><td>CCL4    </td><td>CCR2    </td><td>CD247   </td></tr>\n",
       "\t<tr><td>CD53    </td><td>GZMH    </td><td>CCL4    </td><td>ERG     </td><td>CCR1    </td><td>DCN     </td><td>BCL2A1  </td><td>CCR1    </td><td>CLEC4A  </td><td>LCP2    </td><td>CCR2    </td><td>CD2     </td><td>CSF3R   </td><td>ENTPD1  </td><td>BCL11B  </td><td>CCR5    </td><td>CCR5    </td><td>CD27    </td></tr>\n",
       "\t<tr><td>CD69    </td><td>KLRB1   </td><td>CCR2    </td><td>KDR     </td><td>CD69    </td><td>GREM1   </td><td>C5AR1   </td><td>CCR7    </td><td>FGR     </td><td>MMP9    </td><td>CD244   </td><td>CD244   </td><td>FCGR3B  </td><td>HSPA6   </td><td>CCL4    </td><td>CCR7    </td><td>CD2     </td><td>CD37    </td></tr>\n",
       "\t<tr><td>CD80    </td><td>KLRK1   </td><td>CCR5    </td><td>PCDH12  </td><td>CSF2RB  </td><td>ISLR    </td><td>CCL19   </td><td>CD38    </td><td>HCK     </td><td>SAMSN1  </td><td>CD37    </td><td>CD247   </td><td>FPR1    </td><td>MTDH    </td><td>CCR2    </td><td>CD2     </td><td>CD244   </td><td>CD3E    </td></tr>\n",
       "</tbody>\n",
       "</table>\n"
      ],
      "text/latex": [
       "\\begin{tabular}{r|llllllllllllllllll}\n",
       " B\\_cells & Cytotoxic\\_cells & Dendritic\\_cells & Endothelial & Eosinophils & Fibroblasts & Macrophages & Macrophages\\_M1 & Macrophages\\_M2 & Mast\\_cells & Monocytes & NK\\_cells & Neutrophils & Plasma\\_cells & T\\_cells\\_CD4 & T\\_cells\\_CD8 & T\\_cells\\_gamma\\_delta & T\\_regulatory\\_cells\\\\\n",
       "\\hline\n",
       "\t BLNK     & CTSW     & BCL2A1   & CD93     & ABHD2    & ABCA6    & ACTR2    & ACTR2    & AIF1     & ATP6V1C1 & AIF1     & APOBEC3G & BCL2A1   & CD27     & AIM2     & BCL11B   & APOBEC3G & CCR7    \\\\\n",
       "\t CD1C     & GZMA     & BIRC3    & CDH5     & BCL2A1   & ASPN     & ATG7     & CCL19    & ATP6V1C1 & CCL4     & AKAP13   & CCL4     & C5AR1    & CD38     & ARHGAP15 & BIN2     & CCL4     & CD2     \\\\\n",
       "\t CD37     & GZMB     & CCL19    & EMCN     & CCL4     & COL3A1   & ATP6V1C1 & CCL4     & CLEC10A  & CD84     & C5AR1    & CCR5     & CSF2RB   & CYBA     & BATF     & CCL4     & CCR2     & CD247   \\\\\n",
       "\t CD53     & GZMH     & CCL4     & ERG      & CCR1     & DCN      & BCL2A1   & CCR1     & CLEC4A   & LCP2     & CCR2     & CD2      & CSF3R    & ENTPD1   & BCL11B   & CCR5     & CCR5     & CD27    \\\\\n",
       "\t CD69     & KLRB1    & CCR2     & KDR      & CD69     & GREM1    & C5AR1    & CCR7     & FGR      & MMP9     & CD244    & CD244    & FCGR3B   & HSPA6    & CCL4     & CCR7     & CD2      & CD37    \\\\\n",
       "\t CD80     & KLRK1    & CCR5     & PCDH12   & CSF2RB   & ISLR     & CCL19    & CD38     & HCK      & SAMSN1   & CD37     & CD247    & FPR1     & MTDH     & CCR2     & CD2      & CD244    & CD3E    \\\\\n",
       "\\end{tabular}\n"
      ],
      "text/markdown": [
       "\n",
       "B_cells | Cytotoxic_cells | Dendritic_cells | Endothelial | Eosinophils | Fibroblasts | Macrophages | Macrophages_M1 | Macrophages_M2 | Mast_cells | Monocytes | NK_cells | Neutrophils | Plasma_cells | T_cells_CD4 | T_cells_CD8 | T_cells_gamma_delta | T_regulatory_cells | \n",
       "|---|---|---|---|---|---|\n",
       "| BLNK     | CTSW     | BCL2A1   | CD93     | ABHD2    | ABCA6    | ACTR2    | ACTR2    | AIF1     | ATP6V1C1 | AIF1     | APOBEC3G | BCL2A1   | CD27     | AIM2     | BCL11B   | APOBEC3G | CCR7     | \n",
       "| CD1C     | GZMA     | BIRC3    | CDH5     | BCL2A1   | ASPN     | ATG7     | CCL19    | ATP6V1C1 | CCL4     | AKAP13   | CCL4     | C5AR1    | CD38     | ARHGAP15 | BIN2     | CCL4     | CD2      | \n",
       "| CD37     | GZMB     | CCL19    | EMCN     | CCL4     | COL3A1   | ATP6V1C1 | CCL4     | CLEC10A  | CD84     | C5AR1    | CCR5     | CSF2RB   | CYBA     | BATF     | CCL4     | CCR2     | CD247    | \n",
       "| CD53     | GZMH     | CCL4     | ERG      | CCR1     | DCN      | BCL2A1   | CCR1     | CLEC4A   | LCP2     | CCR2     | CD2      | CSF3R    | ENTPD1   | BCL11B   | CCR5     | CCR5     | CD27     | \n",
       "| CD69     | KLRB1    | CCR2     | KDR      | CD69     | GREM1    | C5AR1    | CCR7     | FGR      | MMP9     | CD244    | CD244    | FCGR3B   | HSPA6    | CCL4     | CCR7     | CD2      | CD37     | \n",
       "| CD80     | KLRK1    | CCR5     | PCDH12   | CSF2RB   | ISLR     | CCL19    | CD38     | HCK      | SAMSN1   | CD37     | CD247    | FPR1     | MTDH     | CCR2     | CD2      | CD244    | CD3E     | \n",
       "\n",
       "\n"
      ],
      "text/plain": [
       "  B_cells Cytotoxic_cells Dendritic_cells Endothelial Eosinophils Fibroblasts\n",
       "1 BLNK    CTSW            BCL2A1          CD93        ABHD2       ABCA6      \n",
       "2 CD1C    GZMA            BIRC3           CDH5        BCL2A1      ASPN       \n",
       "3 CD37    GZMB            CCL19           EMCN        CCL4        COL3A1     \n",
       "4 CD53    GZMH            CCL4            ERG         CCR1        DCN        \n",
       "5 CD69    KLRB1           CCR2            KDR         CD69        GREM1      \n",
       "6 CD80    KLRK1           CCR5            PCDH12      CSF2RB      ISLR       \n",
       "  Macrophages Macrophages_M1 Macrophages_M2 Mast_cells Monocytes NK_cells\n",
       "1 ACTR2       ACTR2          AIF1           ATP6V1C1   AIF1      APOBEC3G\n",
       "2 ATG7        CCL19          ATP6V1C1       CCL4       AKAP13    CCL4    \n",
       "3 ATP6V1C1    CCL4           CLEC10A        CD84       C5AR1     CCR5    \n",
       "4 BCL2A1      CCR1           CLEC4A         LCP2       CCR2      CD2     \n",
       "5 C5AR1       CCR7           FGR            MMP9       CD244     CD244   \n",
       "6 CCL19       CD38           HCK            SAMSN1     CD37      CD247   \n",
       "  Neutrophils Plasma_cells T_cells_CD4 T_cells_CD8 T_cells_gamma_delta\n",
       "1 BCL2A1      CD27         AIM2        BCL11B      APOBEC3G           \n",
       "2 C5AR1       CD38         ARHGAP15    BIN2        CCL4               \n",
       "3 CSF2RB      CYBA         BATF        CCL4        CCR2               \n",
       "4 CSF3R       ENTPD1       BCL11B      CCR5        CCR5               \n",
       "5 FCGR3B      HSPA6        CCL4        CCR7        CD2                \n",
       "6 FPR1        MTDH         CCR2        CD2         CD244              \n",
       "  T_regulatory_cells\n",
       "1 CCR7              \n",
       "2 CD2               \n",
       "3 CD247             \n",
       "4 CD27              \n",
       "5 CD37              \n",
       "6 CD3E              "
      ]
     },
     "metadata": {},
     "output_type": "display_data"
    }
   ],
   "source": [
    "ConTME_GeneSets <- read.csv('../../Data/3/ConsensusTME_GeneSets.txt',\n",
    "                            sep='\\t',\n",
    "                            header=T)\n",
    "\n",
    "head(ConTME_GeneSets)"
   ]
  },
  {
   "cell_type": "code",
   "execution_count": 7,
   "metadata": {},
   "outputs": [],
   "source": [
    "ConTME_GeneSets <- convertRowsToList(t(ConTME_GeneSets))"
   ]
  },
  {
   "cell_type": "markdown",
   "metadata": {},
   "source": [
    "## Run ssGSEA"
   ]
  },
  {
   "cell_type": "code",
   "execution_count": 8,
   "metadata": {},
   "outputs": [
    {
     "name": "stderr",
     "output_type": "stream",
     "text": [
      "Warning message in .local(expr, gset.idx.list, ...):\n",
      "“14668 genes with constant expression values throuhgout the samples.”"
     ]
    },
    {
     "name": "stdout",
     "output_type": "stream",
     "text": [
      "Estimating ssGSEA scores for 18 gene sets.\n",
      "  |                                                                      |   0%Using parallel with 4 cores\n",
      "  |======================================================================| 100%\n"
     ]
    }
   ],
   "source": [
    "con_NES <- gsva(data_mtx,\n",
    "                ConTME_GeneSets,\n",
    "                method='ssgsea',\n",
    "                min.sz=0,\n",
    "                max.sz=1000,\n",
    "                ssgsea.norm=T)"
   ]
  },
  {
   "cell_type": "code",
   "execution_count": 9,
   "metadata": {},
   "outputs": [
    {
     "data": {
      "text/html": [
       "<table>\n",
       "<thead><tr><th scope=col>Term</th><th scope=col>t</th></tr></thead>\n",
       "<tbody>\n",
       "\t<tr><td>B_cells        </td><td>-1.671425      </td></tr>\n",
       "\t<tr><td>Cytotoxic_cells</td><td>-1.858738      </td></tr>\n",
       "\t<tr><td>Dendritic_cells</td><td>-2.114059      </td></tr>\n",
       "\t<tr><td>Endothelial    </td><td>-1.740926      </td></tr>\n",
       "\t<tr><td>Eosinophils    </td><td>-1.811567      </td></tr>\n",
       "\t<tr><td>Fibroblasts    </td><td>-1.626924      </td></tr>\n",
       "</tbody>\n",
       "</table>\n"
      ],
      "text/latex": [
       "\\begin{tabular}{r|ll}\n",
       " Term & t\\\\\n",
       "\\hline\n",
       "\t B\\_cells         & -1.671425        \\\\\n",
       "\t Cytotoxic\\_cells & -1.858738        \\\\\n",
       "\t Dendritic\\_cells & -2.114059        \\\\\n",
       "\t Endothelial     & -1.740926      \\\\\n",
       "\t Eosinophils     & -1.811567      \\\\\n",
       "\t Fibroblasts     & -1.626924      \\\\\n",
       "\\end{tabular}\n"
      ],
      "text/markdown": [
       "\n",
       "Term | t | \n",
       "|---|---|---|---|---|---|\n",
       "| B_cells         | -1.671425       | \n",
       "| Cytotoxic_cells | -1.858738       | \n",
       "| Dendritic_cells | -2.114059       | \n",
       "| Endothelial     | -1.740926       | \n",
       "| Eosinophils     | -1.811567       | \n",
       "| Fibroblasts     | -1.626924       | \n",
       "\n",
       "\n"
      ],
      "text/plain": [
       "  Term            t        \n",
       "1 B_cells         -1.671425\n",
       "2 Cytotoxic_cells -1.858738\n",
       "3 Dendritic_cells -2.114059\n",
       "4 Endothelial     -1.740926\n",
       "5 Eosinophils     -1.811567\n",
       "6 Fibroblasts     -1.626924"
      ]
     },
     "metadata": {},
     "output_type": "display_data"
    }
   ],
   "source": [
    "con_NES <- data.frame(\"Term\"=rownames(con_NES),\n",
    "                      con_NES)\n",
    "\n",
    "rownames(con_NES) <- NULL\n",
    "\n",
    "head(con_NES)"
   ]
  },
  {
   "cell_type": "code",
   "execution_count": 10,
   "metadata": {},
   "outputs": [],
   "source": [
    "colnames(con_NES)[2] <- \"ConsensusTME_NES\""
   ]
  },
  {
   "cell_type": "code",
   "execution_count": 11,
   "metadata": {},
   "outputs": [],
   "source": [
    "write.table(con_NES,\n",
    "            file='../../Data/3/ConsensusTME_NES_after_DiffExp.txt',\n",
    "            sep='\\t',\n",
    "            row.names=F,\n",
    "            col.names=T)"
   ]
  },
  {
   "cell_type": "markdown",
   "metadata": {},
   "source": [
    "# End script"
   ]
  }
 ],
 "metadata": {
  "kernelspec": {
   "display_name": "R",
   "language": "R",
   "name": "ir"
  },
  "language_info": {
   "codemirror_mode": "r",
   "file_extension": ".r",
   "mimetype": "text/x-r-source",
   "name": "R",
   "pygments_lexer": "r",
   "version": "3.5.0"
  }
 },
 "nbformat": 4,
 "nbformat_minor": 2
}

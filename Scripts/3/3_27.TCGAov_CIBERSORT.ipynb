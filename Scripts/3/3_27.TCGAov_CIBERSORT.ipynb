{
 "cells": [
  {
   "cell_type": "markdown",
   "metadata": {},
   "source": [
    "# Run CIBERSORT on treatment naive samples"
   ]
  },
  {
   "cell_type": "markdown",
   "metadata": {},
   "source": [
    "Script related to figure 3b\n",
    "\n",
    "### Aim:\n",
    "- Estimate cells of the tumour microenvironment using CIBERSORT"
   ]
  },
  {
   "cell_type": "code",
   "execution_count": 1,
   "metadata": {},
   "outputs": [
    {
     "data": {
      "text/plain": [
       "R version 3.5.0 (2018-04-23)\n",
       "Platform: x86_64-apple-darwin15.6.0 (64-bit)\n",
       "Running under: macOS High Sierra 10.13.6\n",
       "\n",
       "Matrix products: default\n",
       "BLAS: /Library/Frameworks/R.framework/Versions/3.5/Resources/lib/libRblas.0.dylib\n",
       "LAPACK: /Library/Frameworks/R.framework/Versions/3.5/Resources/lib/libRlapack.dylib\n",
       "\n",
       "locale:\n",
       "[1] C/UTF-8/C/C/C/C\n",
       "\n",
       "attached base packages:\n",
       "[1] stats     graphics  grDevices utils     datasets  methods   base     \n",
       "\n",
       "loaded via a namespace (and not attached):\n",
       " [1] compiler_3.5.0  IRdisplay_0.6.1 pbdZMQ_0.3-3    tools_3.5.0    \n",
       " [5] htmltools_0.3.6 base64enc_0.1-3 crayon_1.3.4    Rcpp_1.0.1     \n",
       " [9] uuid_0.1-2      IRkernel_0.8.14 jsonlite_1.6    digest_0.6.18  \n",
       "[13] repr_0.17       evaluate_0.13  "
      ]
     },
     "metadata": {},
     "output_type": "display_data"
    }
   ],
   "source": [
    "sessionInfo()"
   ]
  },
  {
   "cell_type": "markdown",
   "metadata": {},
   "source": [
    "## Install packages"
   ]
  },
  {
   "cell_type": "code",
   "execution_count": null,
   "metadata": {},
   "outputs": [],
   "source": [
    "#install.packages('e1071')\n",
    "#install.packages('parallel')\n",
    "#install.packages('preprocessCore')"
   ]
  },
  {
   "cell_type": "markdown",
   "metadata": {},
   "source": [
    "## Load packages"
   ]
  },
  {
   "cell_type": "code",
   "execution_count": 1,
   "metadata": {},
   "outputs": [
    {
     "name": "stderr",
     "output_type": "stream",
     "text": [
      "Warning message:\n",
      "“'BiocInstaller' and 'biocLite()' are deprecated, use the 'BiocManager' CRAN\n",
      "  package instead.”Bioconductor version 3.8 (BiocInstaller 1.32.1), ?biocLite for help\n"
     ]
    }
   ],
   "source": [
    "source(\"http://bioconductor.org/biocLite.R\")"
   ]
  },
  {
   "cell_type": "code",
   "execution_count": 2,
   "metadata": {},
   "outputs": [
    {
     "name": "stderr",
     "output_type": "stream",
     "text": [
      "Warning message:\n",
      "“'biocLite' is deprecated.\n",
      "Use 'BiocManager::install' instead.\n",
      "See help(\"Deprecated\")”BioC_mirror: https://bioconductor.org\n",
      "Using Bioconductor 3.8 (BiocInstaller 1.32.1), R 3.5.0 (2018-04-23).\n",
      "Installing package(s) ‘preprocessCore’\n"
     ]
    },
    {
     "name": "stdout",
     "output_type": "stream",
     "text": [
      "\n",
      "The downloaded binary packages are in\n",
      "\t/var/folders/0x/_9tqxlf13mq9dnj3mvt0kr94vsllz0/T//RtmprO0IGw/downloaded_packages\n"
     ]
    },
    {
     "name": "stderr",
     "output_type": "stream",
     "text": [
      "Old packages: 'BH', 'BiocParallel', 'Biostrings', 'FNN', 'FlowSOM',\n",
      "  'GenomeInfoDb', 'GenomicAlignments', 'GenomicFeatures', 'Hmisc', 'IDPmisc',\n",
      "  'IRdisplay', 'IRkernel', 'R.utils', 'R6', 'RANN', 'RCurl', 'RcppEigen',\n",
      "  'Rhdf5lib', 'Rsamtools', 'TH.data', 'VGAM', 'VIM', 'XML', 'backports',\n",
      "  'bookdown', 'broom', 'callr', 'checkmate', 'class', 'clipr', 'clue',\n",
      "  'codetools', 'colorspace', 'cowplot', 'curl', 'cytofWorkflow', 'cytolib',\n",
      "  'data.table', 'destiny', 'dplyr', 'evaluate', 'flowClust', 'flowCore',\n",
      "  'flowStats', 'flowUtils', 'flowViz', 'flowWorkspace', 'forcats', 'formatR',\n",
      "  'gamlss.dist', 'ggthemes', 'git2r', 'gplots', 'haven', 'htmlTable', 'httpuv',\n",
      "  'httr', 'igraph', 'jsonlite', 'knitr', 'ks', 'laeken', 'later', 'limma',\n",
      "  'lme4', 'lmerTest', 'maptools', 'markdown', 'mgcv', 'multcomp', 'mvtnorm',\n",
      "  'ncdfFlow', 'openCyto', 'openssl', 'pheatmap', 'pillar', 'processx', 'proxy',\n",
      "  'ps', 'psych', 'purrr', 'quantreg', 'readr', 'readxl', 'registry', 'repr',\n",
      "  'rio', 'rlang', 'rmarkdown', 'rstudioapi', 'rtracklayer', 'stringi',\n",
      "  'stringr', 'survival', 'tibble', 'tidyr', 'tinytex', 'vegan', 'xfun', 'zip'\n"
     ]
    }
   ],
   "source": [
    "biocLite(\"preprocessCore\")"
   ]
  },
  {
   "cell_type": "code",
   "execution_count": 2,
   "metadata": {},
   "outputs": [],
   "source": [
    "setwd(\"~/git_repos/HGSOC_TME_Heterogeneity/Scripts/3/\")"
   ]
  },
  {
   "cell_type": "code",
   "execution_count": 4,
   "metadata": {},
   "outputs": [
    {
     "name": "stderr",
     "output_type": "stream",
     "text": [
      "Warning message:\n",
      "“package ‘e1071’ was built under R version 3.5.2”Warning message:\n",
      "“package ‘preprocessCore’ was built under R version 3.5.1”"
     ]
    }
   ],
   "source": [
    "source('./CIBERSORT.R')"
   ]
  },
  {
   "cell_type": "markdown",
   "metadata": {},
   "source": [
    "## CIBERSORT"
   ]
  },
  {
   "cell_type": "markdown",
   "metadata": {},
   "source": [
    "### Absolute method"
   ]
  },
  {
   "cell_type": "code",
   "execution_count": null,
   "metadata": {},
   "outputs": [],
   "source": [
    "sig <- \"../../Data/3/LM22.txt\"\n",
    "mix <- \"../../Data/1/TCGAov_RNAseq.txt\""
   ]
  },
  {
   "cell_type": "code",
   "execution_count": 5,
   "metadata": {},
   "outputs": [],
   "source": [
    "TCGAov_cib_a <- CIBERSORT(sig_matrix=sig,\n",
    "                          mixture_file=mix,\n",
    "                          perm=1000,\n",
    "                          QN=FALSE,       # Quantile norm true for microarray\n",
    "                          absolute=TRUE) # Absolute beta version method used"
   ]
  },
  {
   "cell_type": "markdown",
   "metadata": {},
   "source": [
    "#### Output file is by default stored in Scripts/3/ Rename and move to Data/3/CIBERSORT_absolute_TCGAov_Results.txt"
   ]
  },
  {
   "cell_type": "markdown",
   "metadata": {},
   "source": [
    "# End script"
   ]
  }
 ],
 "metadata": {
  "kernelspec": {
   "display_name": "R",
   "language": "R",
   "name": "ir"
  },
  "language_info": {
   "codemirror_mode": "r",
   "file_extension": ".r",
   "mimetype": "text/x-r-source",
   "name": "R",
   "pygments_lexer": "r",
   "version": "3.5.0"
  }
 },
 "nbformat": 4,
 "nbformat_minor": 2
}

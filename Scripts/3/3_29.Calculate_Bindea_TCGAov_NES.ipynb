{
 "cells": [
  {
   "cell_type": "markdown",
   "metadata": {},
   "source": [
    "# Calculate normalised enrichment scores of Bindea gene sets"
   ]
  },
  {
   "cell_type": "markdown",
   "metadata": {},
   "source": [
    "Script related to figure 3b\n",
    "\n",
    "### Aim:\n",
    "- Calculate TCGA OV NES of Bindea Gene Sets"
   ]
  },
  {
   "cell_type": "code",
   "execution_count": 1,
   "metadata": {},
   "outputs": [
    {
     "data": {
      "text/plain": [
       "R version 3.5.0 (2018-04-23)\n",
       "Platform: x86_64-apple-darwin15.6.0 (64-bit)\n",
       "Running under: macOS High Sierra 10.13.6\n",
       "\n",
       "Matrix products: default\n",
       "BLAS: /Library/Frameworks/R.framework/Versions/3.5/Resources/lib/libRblas.0.dylib\n",
       "LAPACK: /Library/Frameworks/R.framework/Versions/3.5/Resources/lib/libRlapack.dylib\n",
       "\n",
       "locale:\n",
       "[1] C/UTF-8/C/C/C/C\n",
       "\n",
       "attached base packages:\n",
       "[1] stats     graphics  grDevices utils     datasets  methods   base     \n",
       "\n",
       "loaded via a namespace (and not attached):\n",
       " [1] compiler_3.5.0  IRdisplay_0.6.1 pbdZMQ_0.3-3    tools_3.5.0    \n",
       " [5] htmltools_0.3.6 base64enc_0.1-3 crayon_1.3.4    Rcpp_1.0.1     \n",
       " [9] uuid_0.1-2      IRkernel_0.8.14 jsonlite_1.6    digest_0.6.18  \n",
       "[13] repr_0.17       evaluate_0.13  "
      ]
     },
     "metadata": {},
     "output_type": "display_data"
    }
   ],
   "source": [
    "sessionInfo()"
   ]
  },
  {
   "cell_type": "markdown",
   "metadata": {},
   "source": [
    "## Load packages"
   ]
  },
  {
   "cell_type": "code",
   "execution_count": 1,
   "metadata": {},
   "outputs": [
    {
     "name": "stderr",
     "output_type": "stream",
     "text": [
      "Warning message:\n",
      "“package ‘GSVA’ was built under R version 3.5.1”\n",
      "Attaching package: ‘BBmisc’\n",
      "\n",
      "The following object is masked from ‘package:base’:\n",
      "\n",
      "    isFALSE\n",
      "\n"
     ]
    }
   ],
   "source": [
    "library(GSVA)\n",
    "library(BBmisc)\n",
    "library(nortest)"
   ]
  },
  {
   "cell_type": "code",
   "execution_count": 2,
   "metadata": {},
   "outputs": [],
   "source": [
    "setwd(\"~/git_repos/HGSOC_TME_Heterogeneity/Scripts/3/\")"
   ]
  },
  {
   "cell_type": "markdown",
   "metadata": {},
   "source": [
    "## Load expression data"
   ]
  },
  {
   "cell_type": "code",
   "execution_count": null,
   "metadata": {},
   "outputs": [],
   "source": [
    "mix <- \"../../Data/1/TCGAov_RNAseq.txt\""
   ]
  },
  {
   "cell_type": "code",
   "execution_count": 3,
   "metadata": {},
   "outputs": [],
   "source": [
    "data <- read.csv(mix,\n",
    "                 sep='\\t',\n",
    "                 header=T,\n",
    "                 row.names='GeneSymbol')"
   ]
  },
  {
   "cell_type": "code",
   "execution_count": 4,
   "metadata": {},
   "outputs": [
    {
     "data": {
      "text/html": [
       "<table>\n",
       "<thead><tr><th></th><th scope=col>TCGA.04.1348.01</th><th scope=col>TCGA.04.1357.01</th><th scope=col>TCGA.04.1362.01</th><th scope=col>TCGA.04.1364.01</th><th scope=col>TCGA.04.1365.01</th><th scope=col>TCGA.04.1514.01</th><th scope=col>TCGA.04.1519.01</th><th scope=col>TCGA.09.0364.01</th><th scope=col>TCGA.09.0366.01</th><th scope=col>TCGA.09.0367.01</th><th scope=col>⋯</th><th scope=col>TCGA.61.2102.01</th><th scope=col>TCGA.61.2104.01</th><th scope=col>TCGA.61.2109.01</th><th scope=col>TCGA.61.2110.01</th><th scope=col>TCGA.61.2111.01</th><th scope=col>TCGA.61.2113.01</th><th scope=col>TCGA.OY.A56P.01</th><th scope=col>TCGA.OY.A56Q.01</th><th scope=col>TCGA.VG.A8LO.01</th><th scope=col>TCGA.WR.A838.01</th></tr></thead>\n",
       "<tbody>\n",
       "\t<tr><th scope=row>A1BG</th><td>  66.4695 </td><td>  65.5664 </td><td>  41.6412 </td><td> 187.0368 </td><td>  23.9295 </td><td>  32.8123 </td><td>  46.3418 </td><td> 162.8522 </td><td>   88.5518</td><td> 192.7354 </td><td>⋯         </td><td>   63.7012</td><td>  99.1485 </td><td>  38.3684 </td><td> 140.3668 </td><td>  94.7103 </td><td>  70.4394 </td><td>  43.1736 </td><td>   33.6854</td><td>  27.9604 </td><td>  16.2092 </td></tr>\n",
       "\t<tr><th scope=row>A1BG-AS1</th><td>  36.3243 </td><td>  28.1315 </td><td>  23.2465 </td><td> 114.6008 </td><td>  10.4957 </td><td>  20.1900 </td><td>  17.2007 </td><td>  83.0906 </td><td>   65.6758</td><td>  55.1265 </td><td>⋯         </td><td>   30.3602</td><td>  71.1797 </td><td>  26.0239 </td><td>  77.2415 </td><td>  61.4890 </td><td> 106.1623 </td><td>  47.8864 </td><td>   25.3482</td><td>  17.9853 </td><td>  42.9450 </td></tr>\n",
       "\t<tr><th scope=row>A1CF</th><td>   0.0000 </td><td>   0.0000 </td><td>   0.3310 </td><td>   0.0000 </td><td>   0.0000 </td><td>   0.0000 </td><td>   0.0000 </td><td>   0.9034 </td><td>    0.0000</td><td>   0.0000 </td><td>⋯         </td><td>    0.0000</td><td>   0.0000 </td><td>   0.0000 </td><td>   1.9057 </td><td>   0.0000 </td><td>   0.0000 </td><td>   0.0000 </td><td>    0.0000</td><td>   0.0000 </td><td>   0.0000 </td></tr>\n",
       "\t<tr><th scope=row>A2M</th><td>5899.8279 </td><td>9384.4401 </td><td>3350.4207 </td><td>1455.2316 </td><td>3999.3792 </td><td>3224.5797 </td><td>1986.1593 </td><td>1487.3247 </td><td>10557.8325</td><td>4603.9013 </td><td>⋯         </td><td>10264.1373</td><td>7220.7664 </td><td>7200.1144 </td><td>1819.9428 </td><td>6179.7358 </td><td>5365.7972 </td><td>8773.5936 </td><td>10006.7877</td><td>1888.1746 </td><td>4205.6055 </td></tr>\n",
       "\t<tr><th scope=row>A2M-AS1</th><td> 118.4566 </td><td> 111.0026 </td><td>  71.3613 </td><td>  67.8607 </td><td>  52.1501 </td><td> 224.7582 </td><td> 182.0650 </td><td> 120.2838 </td><td>   53.6419</td><td>  92.9112 </td><td>⋯         </td><td>  146.6130</td><td>  45.8648 </td><td>  64.4638 </td><td>  28.5565 </td><td> 100.6605 </td><td>  23.5625 </td><td>  84.2153 </td><td>  582.3492</td><td>  59.8084 </td><td> 143.4910 </td></tr>\n",
       "\t<tr><th scope=row>A2ML1</th><td>   7.5289 </td><td>  54.6875 </td><td>   5.6263 </td><td>   5.0883 </td><td>   3.3148 </td><td>   3.7421 </td><td>   6.2305 </td><td> 278.2486 </td><td>    4.7763</td><td> 653.6058 </td><td>⋯         </td><td>    1.7993</td><td>   4.6124 </td><td>   0.4768 </td><td>  17.1510 </td><td>  15.6109 </td><td>   2.4461 </td><td>  98.3162 </td><td>  269.5768</td><td>   4.5092 </td><td> 224.5290 </td></tr>\n",
       "</tbody>\n",
       "</table>\n"
      ],
      "text/latex": [
       "\\begin{tabular}{r|lllllllllllllllllllllllllllllllllllllllllllllllllllllllllllllllllllllllllllllllllllllllllllllllllllllllllllllllllllllllllllllllllllllllllllllllllllllllllllllllllllllllllllllllllllllllllllllllllllllllllllllllllllllllllllllllllllllllllllllllllllllllllllllllllllllllllllllllllllllllllllllllllllllllllllllllllll}\n",
       "  & TCGA.04.1348.01 & TCGA.04.1357.01 & TCGA.04.1362.01 & TCGA.04.1364.01 & TCGA.04.1365.01 & TCGA.04.1514.01 & TCGA.04.1519.01 & TCGA.09.0364.01 & TCGA.09.0366.01 & TCGA.09.0367.01 & ⋯ & TCGA.61.2102.01 & TCGA.61.2104.01 & TCGA.61.2109.01 & TCGA.61.2110.01 & TCGA.61.2111.01 & TCGA.61.2113.01 & TCGA.OY.A56P.01 & TCGA.OY.A56Q.01 & TCGA.VG.A8LO.01 & TCGA.WR.A838.01\\\\\n",
       "\\hline\n",
       "\tA1BG &   66.4695  &   65.5664  &   41.6412  &  187.0368  &   23.9295  &   32.8123  &   46.3418  &  162.8522  &    88.5518 &  192.7354  & ⋯          &    63.7012 &   99.1485  &   38.3684  &  140.3668  &   94.7103  &   70.4394  &   43.1736  &    33.6854 &   27.9604  &   16.2092 \\\\\n",
       "\tA1BG-AS1 &   36.3243  &   28.1315  &   23.2465  &  114.6008  &   10.4957  &   20.1900  &   17.2007  &   83.0906  &    65.6758 &   55.1265  & ⋯          &    30.3602 &   71.1797  &   26.0239  &   77.2415  &   61.4890  &  106.1623  &   47.8864  &    25.3482 &   17.9853  &   42.9450 \\\\\n",
       "\tA1CF &    0.0000  &    0.0000  &    0.3310  &    0.0000  &    0.0000  &    0.0000  &    0.0000  &    0.9034  &     0.0000 &    0.0000  & ⋯          &     0.0000 &    0.0000  &    0.0000  &    1.9057  &    0.0000  &    0.0000  &    0.0000  &     0.0000 &    0.0000  &    0.0000 \\\\\n",
       "\tA2M & 5899.8279  & 9384.4401  & 3350.4207  & 1455.2316  & 3999.3792  & 3224.5797  & 1986.1593  & 1487.3247  & 10557.8325 & 4603.9013  & ⋯          & 10264.1373 & 7220.7664  & 7200.1144  & 1819.9428  & 6179.7358  & 5365.7972  & 8773.5936  & 10006.7877 & 1888.1746  & 4205.6055 \\\\\n",
       "\tA2M-AS1 &  118.4566  &  111.0026  &   71.3613  &   67.8607  &   52.1501  &  224.7582  &  182.0650  &  120.2838  &    53.6419 &   92.9112  & ⋯          &   146.6130 &   45.8648  &   64.4638  &   28.5565  &  100.6605  &   23.5625  &   84.2153  &   582.3492 &   59.8084  &  143.4910 \\\\\n",
       "\tA2ML1 &    7.5289  &   54.6875  &    5.6263  &    5.0883  &    3.3148  &    3.7421  &    6.2305  &  278.2486  &     4.7763 &  653.6058  & ⋯          &     1.7993 &    4.6124  &    0.4768  &   17.1510  &   15.6109  &    2.4461  &   98.3162  &   269.5768 &    4.5092  &  224.5290 \\\\\n",
       "\\end{tabular}\n"
      ],
      "text/markdown": [
       "\n",
       "| <!--/--> | TCGA.04.1348.01 | TCGA.04.1357.01 | TCGA.04.1362.01 | TCGA.04.1364.01 | TCGA.04.1365.01 | TCGA.04.1514.01 | TCGA.04.1519.01 | TCGA.09.0364.01 | TCGA.09.0366.01 | TCGA.09.0367.01 | ⋯ | TCGA.61.2102.01 | TCGA.61.2104.01 | TCGA.61.2109.01 | TCGA.61.2110.01 | TCGA.61.2111.01 | TCGA.61.2113.01 | TCGA.OY.A56P.01 | TCGA.OY.A56Q.01 | TCGA.VG.A8LO.01 | TCGA.WR.A838.01 | \n",
       "|---|---|---|---|---|---|\n",
       "| A1BG |   66.4695  |   65.5664  |   41.6412  |  187.0368  |   23.9295  |   32.8123  |   46.3418  |  162.8522  |    88.5518 |  192.7354  | ⋯          |    63.7012 |   99.1485  |   38.3684  |  140.3668  |   94.7103  |   70.4394  |   43.1736  |    33.6854 |   27.9604  |   16.2092  | \n",
       "| A1BG-AS1 |   36.3243  |   28.1315  |   23.2465  |  114.6008  |   10.4957  |   20.1900  |   17.2007  |   83.0906  |    65.6758 |   55.1265  | ⋯          |    30.3602 |   71.1797  |   26.0239  |   77.2415  |   61.4890  |  106.1623  |   47.8864  |    25.3482 |   17.9853  |   42.9450  | \n",
       "| A1CF |    0.0000  |    0.0000  |    0.3310  |    0.0000  |    0.0000  |    0.0000  |    0.0000  |    0.9034  |     0.0000 |    0.0000  | ⋯          |     0.0000 |    0.0000  |    0.0000  |    1.9057  |    0.0000  |    0.0000  |    0.0000  |     0.0000 |    0.0000  |    0.0000  | \n",
       "| A2M | 5899.8279  | 9384.4401  | 3350.4207  | 1455.2316  | 3999.3792  | 3224.5797  | 1986.1593  | 1487.3247  | 10557.8325 | 4603.9013  | ⋯          | 10264.1373 | 7220.7664  | 7200.1144  | 1819.9428  | 6179.7358  | 5365.7972  | 8773.5936  | 10006.7877 | 1888.1746  | 4205.6055  | \n",
       "| A2M-AS1 |  118.4566  |  111.0026  |   71.3613  |   67.8607  |   52.1501  |  224.7582  |  182.0650  |  120.2838  |    53.6419 |   92.9112  | ⋯          |   146.6130 |   45.8648  |   64.4638  |   28.5565  |  100.6605  |   23.5625  |   84.2153  |   582.3492 |   59.8084  |  143.4910  | \n",
       "| A2ML1 |    7.5289  |   54.6875  |    5.6263  |    5.0883  |    3.3148  |    3.7421  |    6.2305  |  278.2486  |     4.7763 |  653.6058  | ⋯          |     1.7993 |    4.6124  |    0.4768  |   17.1510  |   15.6109  |    2.4461  |   98.3162  |   269.5768 |    4.5092  |  224.5290  | \n",
       "\n",
       "\n"
      ],
      "text/plain": [
       "         TCGA.04.1348.01 TCGA.04.1357.01 TCGA.04.1362.01 TCGA.04.1364.01\n",
       "A1BG       66.4695         65.5664         41.6412        187.0368      \n",
       "A1BG-AS1   36.3243         28.1315         23.2465        114.6008      \n",
       "A1CF        0.0000          0.0000          0.3310          0.0000      \n",
       "A2M      5899.8279       9384.4401       3350.4207       1455.2316      \n",
       "A2M-AS1   118.4566        111.0026         71.3613         67.8607      \n",
       "A2ML1       7.5289         54.6875          5.6263          5.0883      \n",
       "         TCGA.04.1365.01 TCGA.04.1514.01 TCGA.04.1519.01 TCGA.09.0364.01\n",
       "A1BG       23.9295         32.8123         46.3418        162.8522      \n",
       "A1BG-AS1   10.4957         20.1900         17.2007         83.0906      \n",
       "A1CF        0.0000          0.0000          0.0000          0.9034      \n",
       "A2M      3999.3792       3224.5797       1986.1593       1487.3247      \n",
       "A2M-AS1    52.1501        224.7582        182.0650        120.2838      \n",
       "A2ML1       3.3148          3.7421          6.2305        278.2486      \n",
       "         TCGA.09.0366.01 TCGA.09.0367.01 ⋯ TCGA.61.2102.01 TCGA.61.2104.01\n",
       "A1BG        88.5518       192.7354       ⋯    63.7012        99.1485      \n",
       "A1BG-AS1    65.6758        55.1265       ⋯    30.3602        71.1797      \n",
       "A1CF         0.0000         0.0000       ⋯     0.0000         0.0000      \n",
       "A2M      10557.8325      4603.9013       ⋯ 10264.1373      7220.7664      \n",
       "A2M-AS1     53.6419        92.9112       ⋯   146.6130        45.8648      \n",
       "A2ML1        4.7763       653.6058       ⋯     1.7993         4.6124      \n",
       "         TCGA.61.2109.01 TCGA.61.2110.01 TCGA.61.2111.01 TCGA.61.2113.01\n",
       "A1BG       38.3684        140.3668         94.7103         70.4394      \n",
       "A1BG-AS1   26.0239         77.2415         61.4890        106.1623      \n",
       "A1CF        0.0000          1.9057          0.0000          0.0000      \n",
       "A2M      7200.1144       1819.9428       6179.7358       5365.7972      \n",
       "A2M-AS1    64.4638         28.5565        100.6605         23.5625      \n",
       "A2ML1       0.4768         17.1510         15.6109          2.4461      \n",
       "         TCGA.OY.A56P.01 TCGA.OY.A56Q.01 TCGA.VG.A8LO.01 TCGA.WR.A838.01\n",
       "A1BG       43.1736          33.6854        27.9604         16.2092      \n",
       "A1BG-AS1   47.8864          25.3482        17.9853         42.9450      \n",
       "A1CF        0.0000           0.0000         0.0000          0.0000      \n",
       "A2M      8773.5936       10006.7877      1888.1746       4205.6055      \n",
       "A2M-AS1    84.2153         582.3492        59.8084        143.4910      \n",
       "A2ML1      98.3162         269.5768         4.5092        224.5290      "
      ]
     },
     "metadata": {},
     "output_type": "display_data"
    }
   ],
   "source": [
    "head(data)"
   ]
  },
  {
   "cell_type": "code",
   "execution_count": 5,
   "metadata": {},
   "outputs": [],
   "source": [
    "data_mtx <- as.matrix(data)"
   ]
  },
  {
   "cell_type": "markdown",
   "metadata": {},
   "source": [
    "## Load Bindea gene sets"
   ]
  },
  {
   "cell_type": "code",
   "execution_count": 6,
   "metadata": {},
   "outputs": [],
   "source": [
    "Bindea_GeneSets <- read.csv('../1.Data/BindeaImmuneCells_GeneSets.txt',\n",
    "                            sep='\\t',\n",
    "                            header=T)"
   ]
  },
  {
   "cell_type": "code",
   "execution_count": 7,
   "metadata": {},
   "outputs": [
    {
     "data": {
      "text/html": [
       "<table>\n",
       "<thead><tr><th scope=col>activated_Dendritic_cells</th><th scope=col>B_cells</th><th scope=col>CD8_T_cells</th><th scope=col>Citotoxic_cells</th><th scope=col>Dendritic_cells</th><th scope=col>Eosinophils</th><th scope=col>immature_Dendritic_cells</th><th scope=col>Macrophages</th><th scope=col>Mast_cells</th><th scope=col>Neutrophils</th><th scope=col>⋯</th><th scope=col>T_central_memory_cells</th><th scope=col>T_effector_memory_cells</th><th scope=col>T_follicular_helper_cells</th><th scope=col>T_gamma_delta_cells</th><th scope=col>Th1_cells</th><th scope=col>Th17_cells</th><th scope=col>Th2_cells</th><th scope=col>Treg_cells</th><th scope=col>Angiogenesis</th><th scope=col>Antigen_presentation_machinery</th></tr></thead>\n",
       "<tbody>\n",
       "\t<tr><td>CCL1    </td><td>ABCB4   </td><td>ABT1    </td><td>APBA2   </td><td>CCL13   </td><td>ABHD2   </td><td>ABCG2   </td><td>APOE    </td><td>ABCC4   </td><td>ALPL    </td><td>⋯       </td><td>AQP3    </td><td>AKT3    </td><td>B3GAT1  </td><td>C1orf61 </td><td>APBB2   </td><td>IL17A   </td><td>ADCY1   </td><td>FOXP3   </td><td>CDH5    </td><td>HLA-A   </td></tr>\n",
       "\t<tr><td>EBI3    </td><td>BACH2   </td><td>AES     </td><td>APOL3   </td><td>CCL17   </td><td>ACACB   </td><td>BLVRB   </td><td>ATG7    </td><td>ADCYAP1 </td><td>BST1    </td><td>⋯       </td><td>ATF7IP  </td><td>C7orf54 </td><td>BLR1    </td><td>CD160   </td><td>APOD    </td><td>IL17RA  </td><td>AHI1    </td><td>        </td><td>ELTD1   </td><td>HLA-B   </td></tr>\n",
       "\t<tr><td>INDO    </td><td>BCL11A  </td><td>APBA2   </td><td>CTSW    </td><td>CCL22   </td><td>C9orf156</td><td>CARD9   </td><td>BCAT1   </td><td>CALB2   </td><td>CD93    </td><td>⋯       </td><td>ATM     </td><td>CCR2    </td><td>C18orf1 </td><td>FEZ1    </td><td>ATP9A   </td><td>RORC    </td><td>ANK1    </td><td>        </td><td>CLEC14A </td><td>HLA-C   </td></tr>\n",
       "\t<tr><td>LAMP3   </td><td>BLK     </td><td>ARHGAP8 </td><td>DUSP2   </td><td>CD209   </td><td>CAT     </td><td>CD1A    </td><td>CCL7    </td><td>CEACAM8 </td><td>CEACAM3 </td><td>⋯       </td><td>CASP8   </td><td>DDX17   </td><td>CDK5R1  </td><td>TARP    </td><td>BST2    </td><td>        </td><td>BIRC5   </td><td>        </td><td>LDB2    </td><td>B2M     </td></tr>\n",
       "\t<tr><td>OAS3    </td><td>BLNK    </td><td>C12orf47</td><td>GNLY    </td><td>HSD11B1 </td><td>CCR3    </td><td>CD1B    </td><td>CD163   </td><td>CMA1    </td><td>CREB5   </td><td>⋯       </td><td>CDC14A  </td><td>EWSR1   </td><td>CHGB    </td><td>TRD     </td><td>BTG3    </td><td>        </td><td>CDC25C  </td><td>        </td><td>ECSCR   </td><td>TAP1    </td></tr>\n",
       "\t<tr><td>        </td><td>CCR9    </td><td>C19orf6 </td><td>GZMA    </td><td>NPR1    </td><td>CLC     </td><td>CD1C    </td><td>CD68    </td><td>CPA3    </td><td>CRISPLD2</td><td>⋯       </td><td>CEP68   </td><td>FLI1    </td><td>CHI3L2  </td><td>TRGV9   </td><td>CCL4    </td><td>        </td><td>CDC7    </td><td>        </td><td>MYCT1   </td><td>TAP2    </td></tr>\n",
       "</tbody>\n",
       "</table>\n"
      ],
      "text/latex": [
       "\\begin{tabular}{r|llllllllllllllllllllllllll}\n",
       " activated\\_Dendritic\\_cells & B\\_cells & CD8\\_T\\_cells & Citotoxic\\_cells & Dendritic\\_cells & Eosinophils & immature\\_Dendritic\\_cells & Macrophages & Mast\\_cells & Neutrophils & ⋯ & T\\_central\\_memory\\_cells & T\\_effector\\_memory\\_cells & T\\_follicular\\_helper\\_cells & T\\_gamma\\_delta\\_cells & Th1\\_cells & Th17\\_cells & Th2\\_cells & Treg\\_cells & Angiogenesis & Antigen\\_presentation\\_machinery\\\\\n",
       "\\hline\n",
       "\t CCL1     & ABCB4    & ABT1     & APBA2    & CCL13    & ABHD2    & ABCG2    & APOE     & ABCC4    & ALPL     & ⋯        & AQP3     & AKT3     & B3GAT1   & C1orf61  & APBB2    & IL17A    & ADCY1    & FOXP3    & CDH5     & HLA-A   \\\\\n",
       "\t EBI3     & BACH2    & AES      & APOL3    & CCL17    & ACACB    & BLVRB    & ATG7     & ADCYAP1  & BST1     & ⋯        & ATF7IP   & C7orf54  & BLR1     & CD160    & APOD     & IL17RA   & AHI1     &          & ELTD1    & HLA-B   \\\\\n",
       "\t INDO     & BCL11A   & APBA2    & CTSW     & CCL22    & C9orf156 & CARD9    & BCAT1    & CALB2    & CD93     & ⋯        & ATM      & CCR2     & C18orf1  & FEZ1     & ATP9A    & RORC     & ANK1     &          & CLEC14A  & HLA-C   \\\\\n",
       "\t LAMP3    & BLK      & ARHGAP8  & DUSP2    & CD209    & CAT      & CD1A     & CCL7     & CEACAM8  & CEACAM3  & ⋯        & CASP8    & DDX17    & CDK5R1   & TARP     & BST2     &          & BIRC5    &          & LDB2     & B2M     \\\\\n",
       "\t OAS3     & BLNK     & C12orf47 & GNLY     & HSD11B1  & CCR3     & CD1B     & CD163    & CMA1     & CREB5    & ⋯        & CDC14A   & EWSR1    & CHGB     & TRD      & BTG3     &          & CDC25C   &          & ECSCR    & TAP1    \\\\\n",
       "\t          & CCR9     & C19orf6  & GZMA     & NPR1     & CLC      & CD1C     & CD68     & CPA3     & CRISPLD2 & ⋯        & CEP68    & FLI1     & CHI3L2   & TRGV9    & CCL4     &          & CDC7     &          & MYCT1    & TAP2    \\\\\n",
       "\\end{tabular}\n"
      ],
      "text/markdown": [
       "\n",
       "activated_Dendritic_cells | B_cells | CD8_T_cells | Citotoxic_cells | Dendritic_cells | Eosinophils | immature_Dendritic_cells | Macrophages | Mast_cells | Neutrophils | ⋯ | T_central_memory_cells | T_effector_memory_cells | T_follicular_helper_cells | T_gamma_delta_cells | Th1_cells | Th17_cells | Th2_cells | Treg_cells | Angiogenesis | Antigen_presentation_machinery | \n",
       "|---|---|---|---|---|---|\n",
       "| CCL1     | ABCB4    | ABT1     | APBA2    | CCL13    | ABHD2    | ABCG2    | APOE     | ABCC4    | ALPL     | ⋯        | AQP3     | AKT3     | B3GAT1   | C1orf61  | APBB2    | IL17A    | ADCY1    | FOXP3    | CDH5     | HLA-A    | \n",
       "| EBI3     | BACH2    | AES      | APOL3    | CCL17    | ACACB    | BLVRB    | ATG7     | ADCYAP1  | BST1     | ⋯        | ATF7IP   | C7orf54  | BLR1     | CD160    | APOD     | IL17RA   | AHI1     |          | ELTD1    | HLA-B    | \n",
       "| INDO     | BCL11A   | APBA2    | CTSW     | CCL22    | C9orf156 | CARD9    | BCAT1    | CALB2    | CD93     | ⋯        | ATM      | CCR2     | C18orf1  | FEZ1     | ATP9A    | RORC     | ANK1     |          | CLEC14A  | HLA-C    | \n",
       "| LAMP3    | BLK      | ARHGAP8  | DUSP2    | CD209    | CAT      | CD1A     | CCL7     | CEACAM8  | CEACAM3  | ⋯        | CASP8    | DDX17    | CDK5R1   | TARP     | BST2     |          | BIRC5    |          | LDB2     | B2M      | \n",
       "| OAS3     | BLNK     | C12orf47 | GNLY     | HSD11B1  | CCR3     | CD1B     | CD163    | CMA1     | CREB5    | ⋯        | CDC14A   | EWSR1    | CHGB     | TRD      | BTG3     |          | CDC25C   |          | ECSCR    | TAP1     | \n",
       "|          | CCR9     | C19orf6  | GZMA     | NPR1     | CLC      | CD1C     | CD68     | CPA3     | CRISPLD2 | ⋯        | CEP68    | FLI1     | CHI3L2   | TRGV9    | CCL4     |          | CDC7     |          | MYCT1    | TAP2     | \n",
       "\n",
       "\n"
      ],
      "text/plain": [
       "  activated_Dendritic_cells B_cells CD8_T_cells Citotoxic_cells Dendritic_cells\n",
       "1 CCL1                      ABCB4   ABT1        APBA2           CCL13          \n",
       "2 EBI3                      BACH2   AES         APOL3           CCL17          \n",
       "3 INDO                      BCL11A  APBA2       CTSW            CCL22          \n",
       "4 LAMP3                     BLK     ARHGAP8     DUSP2           CD209          \n",
       "5 OAS3                      BLNK    C12orf47    GNLY            HSD11B1        \n",
       "6                           CCR9    C19orf6     GZMA            NPR1           \n",
       "  Eosinophils immature_Dendritic_cells Macrophages Mast_cells Neutrophils ⋯\n",
       "1 ABHD2       ABCG2                    APOE        ABCC4      ALPL        ⋯\n",
       "2 ACACB       BLVRB                    ATG7        ADCYAP1    BST1        ⋯\n",
       "3 C9orf156    CARD9                    BCAT1       CALB2      CD93        ⋯\n",
       "4 CAT         CD1A                     CCL7        CEACAM8    CEACAM3     ⋯\n",
       "5 CCR3        CD1B                     CD163       CMA1       CREB5       ⋯\n",
       "6 CLC         CD1C                     CD68        CPA3       CRISPLD2    ⋯\n",
       "  T_central_memory_cells T_effector_memory_cells T_follicular_helper_cells\n",
       "1 AQP3                   AKT3                    B3GAT1                   \n",
       "2 ATF7IP                 C7orf54                 BLR1                     \n",
       "3 ATM                    CCR2                    C18orf1                  \n",
       "4 CASP8                  DDX17                   CDK5R1                   \n",
       "5 CDC14A                 EWSR1                   CHGB                     \n",
       "6 CEP68                  FLI1                    CHI3L2                   \n",
       "  T_gamma_delta_cells Th1_cells Th17_cells Th2_cells Treg_cells Angiogenesis\n",
       "1 C1orf61             APBB2     IL17A      ADCY1     FOXP3      CDH5        \n",
       "2 CD160               APOD      IL17RA     AHI1                 ELTD1       \n",
       "3 FEZ1                ATP9A     RORC       ANK1                 CLEC14A     \n",
       "4 TARP                BST2                 BIRC5                LDB2        \n",
       "5 TRD                 BTG3                 CDC25C               ECSCR       \n",
       "6 TRGV9               CCL4                 CDC7                 MYCT1       \n",
       "  Antigen_presentation_machinery\n",
       "1 HLA-A                         \n",
       "2 HLA-B                         \n",
       "3 HLA-C                         \n",
       "4 B2M                           \n",
       "5 TAP1                          \n",
       "6 TAP2                          "
      ]
     },
     "metadata": {},
     "output_type": "display_data"
    }
   ],
   "source": [
    "head(Bindea_GeneSets)"
   ]
  },
  {
   "cell_type": "code",
   "execution_count": 8,
   "metadata": {},
   "outputs": [],
   "source": [
    "Bindea_GeneSets <- convertRowsToList(t(Bindea_GeneSets))"
   ]
  },
  {
   "cell_type": "markdown",
   "metadata": {},
   "source": [
    "## Run ssGSEA"
   ]
  },
  {
   "cell_type": "code",
   "execution_count": 9,
   "metadata": {},
   "outputs": [
    {
     "name": "stderr",
     "output_type": "stream",
     "text": [
      "Warning message in .local(expr, gset.idx.list, ...):\n",
      "“338 genes with constant expression values throuhgout the samples.”"
     ]
    },
    {
     "name": "stdout",
     "output_type": "stream",
     "text": [
      "Estimating ssGSEA scores for 26 gene sets.\n",
      "  |                                                                      |   0%Using parallel with 4 cores\n",
      "  |======================================================================| 100%\n"
     ]
    }
   ],
   "source": [
    "bin_NES <- gsva(data_mtx,\n",
    "                Bindea_GeneSets,\n",
    "                method='ssgsea',\n",
    "                min.sz=0,\n",
    "                max.sz=1000,\n",
    "                ssgsea.norm=T)"
   ]
  },
  {
   "cell_type": "code",
   "execution_count": 10,
   "metadata": {},
   "outputs": [],
   "source": [
    "bin_NES <- data.frame(\"Term\"=rownames(bin_NES),\n",
    "                      bin_NES)\n",
    "\n",
    "rownames(bin_NES) <- NULL"
   ]
  },
  {
   "cell_type": "code",
   "execution_count": 11,
   "metadata": {},
   "outputs": [
    {
     "data": {
      "text/html": [
       "<table>\n",
       "<thead><tr><th scope=col>Term</th><th scope=col>TCGA.04.1348.01</th><th scope=col>TCGA.04.1357.01</th><th scope=col>TCGA.04.1362.01</th><th scope=col>TCGA.04.1364.01</th><th scope=col>TCGA.04.1365.01</th><th scope=col>TCGA.04.1514.01</th><th scope=col>TCGA.04.1519.01</th><th scope=col>TCGA.09.0364.01</th><th scope=col>TCGA.09.0366.01</th><th scope=col>⋯</th><th scope=col>TCGA.61.2102.01</th><th scope=col>TCGA.61.2104.01</th><th scope=col>TCGA.61.2109.01</th><th scope=col>TCGA.61.2110.01</th><th scope=col>TCGA.61.2111.01</th><th scope=col>TCGA.61.2113.01</th><th scope=col>TCGA.OY.A56P.01</th><th scope=col>TCGA.OY.A56Q.01</th><th scope=col>TCGA.VG.A8LO.01</th><th scope=col>TCGA.WR.A838.01</th></tr></thead>\n",
       "<tbody>\n",
       "\t<tr><td>activated_Dendritic_cells</td><td> 0.12080193              </td><td>0.10556223               </td><td> 0.13333816              </td><td>-0.05315550              </td><td> 0.190243596             </td><td> 0.07906845              </td><td> 0.03492371              </td><td>-0.10237760              </td><td> 0.10161003              </td><td>⋯                        </td><td>-0.01959475              </td><td> 0.18322489              </td><td> 0.10781454              </td><td>-0.065679466             </td><td> 0.02578157              </td><td> 0.168298851             </td><td> 0.07877285              </td><td>-0.16003707              </td><td> 0.05411122              </td><td> 0.02013184              </td></tr>\n",
       "\t<tr><td>B_cells                  </td><td>-0.03962222              </td><td>0.02903597               </td><td>-0.09843530              </td><td>-0.07195296              </td><td>-0.091762622             </td><td>-0.10770259              </td><td>-0.08408320              </td><td>-0.09445385              </td><td>-0.07808819              </td><td>⋯                        </td><td>-0.13033419              </td><td>-0.02076153              </td><td>-0.03244857              </td><td>-0.029069976             </td><td>-0.04435688              </td><td>-0.086043574             </td><td>-0.07494591              </td><td>-0.07293641              </td><td>-0.09804945              </td><td>-0.08942158              </td></tr>\n",
       "\t<tr><td>CD8_T_cells              </td><td> 0.22723342              </td><td>0.26320113               </td><td> 0.20884786              </td><td> 0.19328751              </td><td> 0.209855174             </td><td> 0.19964907              </td><td> 0.19570424              </td><td> 0.19654905              </td><td> 0.18947288              </td><td>⋯                        </td><td> 0.18528949              </td><td> 0.19154989              </td><td> 0.19474076              </td><td> 0.171608853             </td><td> 0.21566246              </td><td> 0.182533036             </td><td> 0.14478878              </td><td> 0.16828649              </td><td> 0.18368081              </td><td> 0.21155103              </td></tr>\n",
       "\t<tr><td>Citotoxic_cells          </td><td> 0.03149694              </td><td>0.07878722               </td><td>-0.07434844              </td><td>-0.16349677              </td><td>-0.005047341             </td><td>-0.17442586              </td><td>-0.15453201              </td><td>-0.18036433              </td><td>-0.02391936              </td><td>⋯                        </td><td>-0.12771299              </td><td>-0.06213032              </td><td>-0.04333806              </td><td>-0.103947834             </td><td>-0.06120171              </td><td>-0.032273609             </td><td>-0.19110453              </td><td>-0.18296366              </td><td>-0.09313858              </td><td>-0.14620225              </td></tr>\n",
       "\t<tr><td>Dendritic_cells          </td><td>-0.01598181              </td><td>0.03919308               </td><td>-0.02865189              </td><td>-0.14344404              </td><td>-0.034157532             </td><td>-0.18025025              </td><td>-0.03126540              </td><td>-0.09952214              </td><td>-0.08081835              </td><td>⋯                        </td><td>-0.05318072              </td><td> 0.02456869              </td><td>-0.03191424              </td><td>-0.009081463             </td><td>-0.05925390              </td><td>-0.004000022             </td><td>-0.06908451              </td><td>-0.04662226              </td><td>-0.09573182              </td><td>-0.13796367              </td></tr>\n",
       "\t<tr><td>Eosinophils              </td><td> 0.08082758              </td><td>0.10824983               </td><td> 0.11646350              </td><td> 0.08816655              </td><td> 0.085352121             </td><td> 0.13576262              </td><td> 0.08916077              </td><td> 0.11674802              </td><td> 0.12588133              </td><td>⋯                        </td><td> 0.13083037              </td><td> 0.10553173              </td><td> 0.09535649              </td><td> 0.103924202             </td><td> 0.13292447              </td><td> 0.094407569             </td><td> 0.07948510              </td><td> 0.07270317              </td><td> 0.07892876              </td><td> 0.08980974              </td></tr>\n",
       "</tbody>\n",
       "</table>\n"
      ],
      "text/latex": [
       "\\begin{tabular}{r|llllllllllllllllllllllllllllllllllllllllllllllllllllllllllllllllllllllllllllllllllllllllllllllllllllllllllllllllllllllllllllllllllllllllllllllllllllllllllllllllllllllllllllllllllllllllllllllllllllllllllllllllllllllllllllllllllllllllllllllllllllllllllllllllllllllllllllllllllllllllllllllllllllllllllllllllllll}\n",
       " Term & TCGA.04.1348.01 & TCGA.04.1357.01 & TCGA.04.1362.01 & TCGA.04.1364.01 & TCGA.04.1365.01 & TCGA.04.1514.01 & TCGA.04.1519.01 & TCGA.09.0364.01 & TCGA.09.0366.01 & ⋯ & TCGA.61.2102.01 & TCGA.61.2104.01 & TCGA.61.2109.01 & TCGA.61.2110.01 & TCGA.61.2111.01 & TCGA.61.2113.01 & TCGA.OY.A56P.01 & TCGA.OY.A56Q.01 & TCGA.VG.A8LO.01 & TCGA.WR.A838.01\\\\\n",
       "\\hline\n",
       "\t activated\\_Dendritic\\_cells &  0.12080193                   & 0.10556223                    &  0.13333816                   & -0.05315550                   &  0.190243596                  &  0.07906845                   &  0.03492371                   & -0.10237760                   &  0.10161003                   & ⋯                             & -0.01959475                   &  0.18322489                   &  0.10781454                   & -0.065679466                  &  0.02578157                   &  0.168298851                  &  0.07877285                   & -0.16003707                   &  0.05411122                   &  0.02013184                  \\\\\n",
       "\t B\\_cells                   & -0.03962222                 & 0.02903597                  & -0.09843530                 & -0.07195296                 & -0.091762622                & -0.10770259                 & -0.08408320                 & -0.09445385                 & -0.07808819                 & ⋯                           & -0.13033419                 & -0.02076153                 & -0.03244857                 & -0.029069976                & -0.04435688                 & -0.086043574                & -0.07494591                 & -0.07293641                 & -0.09804945                 & -0.08942158                \\\\\n",
       "\t CD8\\_T\\_cells               &  0.22723342                   & 0.26320113                    &  0.20884786                   &  0.19328751                   &  0.209855174                  &  0.19964907                   &  0.19570424                   &  0.19654905                   &  0.18947288                   & ⋯                             &  0.18528949                   &  0.19154989                   &  0.19474076                   &  0.171608853                  &  0.21566246                   &  0.182533036                  &  0.14478878                   &  0.16828649                   &  0.18368081                   &  0.21155103                  \\\\\n",
       "\t Citotoxic\\_cells           &  0.03149694                 & 0.07878722                  & -0.07434844                 & -0.16349677                 & -0.005047341                & -0.17442586                 & -0.15453201                 & -0.18036433                 & -0.02391936                 & ⋯                           & -0.12771299                 & -0.06213032                 & -0.04333806                 & -0.103947834                & -0.06120171                 & -0.032273609                & -0.19110453                 & -0.18296366                 & -0.09313858                 & -0.14620225                \\\\\n",
       "\t Dendritic\\_cells           & -0.01598181                 & 0.03919308                  & -0.02865189                 & -0.14344404                 & -0.034157532                & -0.18025025                 & -0.03126540                 & -0.09952214                 & -0.08081835                 & ⋯                           & -0.05318072                 &  0.02456869                 & -0.03191424                 & -0.009081463                & -0.05925390                 & -0.004000022                & -0.06908451                 & -0.04662226                 & -0.09573182                 & -0.13796367                \\\\\n",
       "\t Eosinophils               &  0.08082758               & 0.10824983                &  0.11646350               &  0.08816655               &  0.085352121              &  0.13576262               &  0.08916077               &  0.11674802               &  0.12588133               & ⋯                         &  0.13083037               &  0.10553173               &  0.09535649               &  0.103924202              &  0.13292447               &  0.094407569              &  0.07948510               &  0.07270317               &  0.07892876               &  0.08980974              \\\\\n",
       "\\end{tabular}\n"
      ],
      "text/markdown": [
       "\n",
       "Term | TCGA.04.1348.01 | TCGA.04.1357.01 | TCGA.04.1362.01 | TCGA.04.1364.01 | TCGA.04.1365.01 | TCGA.04.1514.01 | TCGA.04.1519.01 | TCGA.09.0364.01 | TCGA.09.0366.01 | ⋯ | TCGA.61.2102.01 | TCGA.61.2104.01 | TCGA.61.2109.01 | TCGA.61.2110.01 | TCGA.61.2111.01 | TCGA.61.2113.01 | TCGA.OY.A56P.01 | TCGA.OY.A56Q.01 | TCGA.VG.A8LO.01 | TCGA.WR.A838.01 | \n",
       "|---|---|---|---|---|---|\n",
       "| activated_Dendritic_cells |  0.12080193               | 0.10556223                |  0.13333816               | -0.05315550               |  0.190243596              |  0.07906845               |  0.03492371               | -0.10237760               |  0.10161003               | ⋯                         | -0.01959475               |  0.18322489               |  0.10781454               | -0.065679466              |  0.02578157               |  0.168298851              |  0.07877285               | -0.16003707               |  0.05411122               |  0.02013184               | \n",
       "| B_cells                   | -0.03962222               | 0.02903597                | -0.09843530               | -0.07195296               | -0.091762622              | -0.10770259               | -0.08408320               | -0.09445385               | -0.07808819               | ⋯                         | -0.13033419               | -0.02076153               | -0.03244857               | -0.029069976              | -0.04435688               | -0.086043574              | -0.07494591               | -0.07293641               | -0.09804945               | -0.08942158               | \n",
       "| CD8_T_cells               |  0.22723342               | 0.26320113                |  0.20884786               |  0.19328751               |  0.209855174              |  0.19964907               |  0.19570424               |  0.19654905               |  0.18947288               | ⋯                         |  0.18528949               |  0.19154989               |  0.19474076               |  0.171608853              |  0.21566246               |  0.182533036              |  0.14478878               |  0.16828649               |  0.18368081               |  0.21155103               | \n",
       "| Citotoxic_cells           |  0.03149694               | 0.07878722                | -0.07434844               | -0.16349677               | -0.005047341              | -0.17442586               | -0.15453201               | -0.18036433               | -0.02391936               | ⋯                         | -0.12771299               | -0.06213032               | -0.04333806               | -0.103947834              | -0.06120171               | -0.032273609              | -0.19110453               | -0.18296366               | -0.09313858               | -0.14620225               | \n",
       "| Dendritic_cells           | -0.01598181               | 0.03919308                | -0.02865189               | -0.14344404               | -0.034157532              | -0.18025025               | -0.03126540               | -0.09952214               | -0.08081835               | ⋯                         | -0.05318072               |  0.02456869               | -0.03191424               | -0.009081463              | -0.05925390               | -0.004000022              | -0.06908451               | -0.04662226               | -0.09573182               | -0.13796367               | \n",
       "| Eosinophils               |  0.08082758               | 0.10824983                |  0.11646350               |  0.08816655               |  0.085352121              |  0.13576262               |  0.08916077               |  0.11674802               |  0.12588133               | ⋯                         |  0.13083037               |  0.10553173               |  0.09535649               |  0.103924202              |  0.13292447               |  0.094407569              |  0.07948510               |  0.07270317               |  0.07892876               |  0.08980974               | \n",
       "\n",
       "\n"
      ],
      "text/plain": [
       "  Term                      TCGA.04.1348.01 TCGA.04.1357.01 TCGA.04.1362.01\n",
       "1 activated_Dendritic_cells  0.12080193     0.10556223       0.13333816    \n",
       "2 B_cells                   -0.03962222     0.02903597      -0.09843530    \n",
       "3 CD8_T_cells                0.22723342     0.26320113       0.20884786    \n",
       "4 Citotoxic_cells            0.03149694     0.07878722      -0.07434844    \n",
       "5 Dendritic_cells           -0.01598181     0.03919308      -0.02865189    \n",
       "6 Eosinophils                0.08082758     0.10824983       0.11646350    \n",
       "  TCGA.04.1364.01 TCGA.04.1365.01 TCGA.04.1514.01 TCGA.04.1519.01\n",
       "1 -0.05315550      0.190243596     0.07906845      0.03492371    \n",
       "2 -0.07195296     -0.091762622    -0.10770259     -0.08408320    \n",
       "3  0.19328751      0.209855174     0.19964907      0.19570424    \n",
       "4 -0.16349677     -0.005047341    -0.17442586     -0.15453201    \n",
       "5 -0.14344404     -0.034157532    -0.18025025     -0.03126540    \n",
       "6  0.08816655      0.085352121     0.13576262      0.08916077    \n",
       "  TCGA.09.0364.01 TCGA.09.0366.01 ⋯ TCGA.61.2102.01 TCGA.61.2104.01\n",
       "1 -0.10237760      0.10161003     ⋯ -0.01959475      0.18322489    \n",
       "2 -0.09445385     -0.07808819     ⋯ -0.13033419     -0.02076153    \n",
       "3  0.19654905      0.18947288     ⋯  0.18528949      0.19154989    \n",
       "4 -0.18036433     -0.02391936     ⋯ -0.12771299     -0.06213032    \n",
       "5 -0.09952214     -0.08081835     ⋯ -0.05318072      0.02456869    \n",
       "6  0.11674802      0.12588133     ⋯  0.13083037      0.10553173    \n",
       "  TCGA.61.2109.01 TCGA.61.2110.01 TCGA.61.2111.01 TCGA.61.2113.01\n",
       "1  0.10781454     -0.065679466     0.02578157      0.168298851   \n",
       "2 -0.03244857     -0.029069976    -0.04435688     -0.086043574   \n",
       "3  0.19474076      0.171608853     0.21566246      0.182533036   \n",
       "4 -0.04333806     -0.103947834    -0.06120171     -0.032273609   \n",
       "5 -0.03191424     -0.009081463    -0.05925390     -0.004000022   \n",
       "6  0.09535649      0.103924202     0.13292447      0.094407569   \n",
       "  TCGA.OY.A56P.01 TCGA.OY.A56Q.01 TCGA.VG.A8LO.01 TCGA.WR.A838.01\n",
       "1  0.07877285     -0.16003707      0.05411122      0.02013184    \n",
       "2 -0.07494591     -0.07293641     -0.09804945     -0.08942158    \n",
       "3  0.14478878      0.16828649      0.18368081      0.21155103    \n",
       "4 -0.19110453     -0.18296366     -0.09313858     -0.14620225    \n",
       "5 -0.06908451     -0.04662226     -0.09573182     -0.13796367    \n",
       "6  0.07948510      0.07270317      0.07892876      0.08980974    "
      ]
     },
     "metadata": {},
     "output_type": "display_data"
    }
   ],
   "source": [
    "head(bin_NES)"
   ]
  },
  {
   "cell_type": "markdown",
   "metadata": {},
   "source": [
    "### Save NES"
   ]
  },
  {
   "cell_type": "code",
   "execution_count": 12,
   "metadata": {},
   "outputs": [],
   "source": [
    "write.table(bin_NES,\n",
    "            file='../1.Data/BindeaImmuneCells_TCGAov_NES.txt',\n",
    "            sep='\\t',\n",
    "            row.names=F,\n",
    "            col.names=T)"
   ]
  },
  {
   "cell_type": "markdown",
   "metadata": {},
   "source": [
    "# End script"
   ]
  }
 ],
 "metadata": {
  "kernelspec": {
   "display_name": "R",
   "language": "R",
   "name": "ir"
  },
  "language_info": {
   "codemirror_mode": "r",
   "file_extension": ".r",
   "mimetype": "text/x-r-source",
   "name": "R",
   "pygments_lexer": "r",
   "version": "3.5.0"
  }
 },
 "nbformat": 4,
 "nbformat_minor": 2
}

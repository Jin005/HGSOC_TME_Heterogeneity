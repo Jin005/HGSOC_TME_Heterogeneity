{
 "cells": [
  {
   "cell_type": "markdown",
   "metadata": {},
   "source": [
    "# Calculate normalised enrichment scores of Davoli gene sets"
   ]
  },
  {
   "cell_type": "markdown",
   "metadata": {},
   "source": [
    "Script related to figure 3b\n",
    "\n",
    "### Aim:\n",
    "- Calculate NES of Davoli Gene Sets"
   ]
  },
  {
   "cell_type": "markdown",
   "metadata": {},
   "source": [
    "## Load packages"
   ]
  },
  {
   "cell_type": "code",
   "execution_count": 1,
   "metadata": {},
   "outputs": [
    {
     "name": "stderr",
     "output_type": "stream",
     "text": [
      "Warning message:\n",
      "“package ‘GSVA’ was built under R version 3.5.1”\n",
      "Attaching package: ‘BBmisc’\n",
      "\n",
      "The following object is masked from ‘package:base’:\n",
      "\n",
      "    isFALSE\n",
      "\n"
     ]
    }
   ],
   "source": [
    "library(GSVA)\n",
    "library(BBmisc)\n",
    "library(nortest)"
   ]
  },
  {
   "cell_type": "code",
   "execution_count": 2,
   "metadata": {},
   "outputs": [],
   "source": [
    "setwd(\"~/Documents/PhD/Software/Scripts/OVCT/1.REBUTTAL/0.Figures/3/0.Scripts/\")"
   ]
  },
  {
   "cell_type": "markdown",
   "metadata": {},
   "source": [
    "## Load expression data"
   ]
  },
  {
   "cell_type": "code",
   "execution_count": 3,
   "metadata": {},
   "outputs": [],
   "source": [
    "data <- read.csv('../1.Data/TCGAov_RNAseq.txt',\n",
    "                 sep='\\t',\n",
    "                 header=T,\n",
    "                 row.names='GeneSymbol')"
   ]
  },
  {
   "cell_type": "code",
   "execution_count": 4,
   "metadata": {},
   "outputs": [
    {
     "data": {
      "text/html": [
       "<table>\n",
       "<thead><tr><th></th><th scope=col>TCGA.04.1348.01</th><th scope=col>TCGA.04.1357.01</th><th scope=col>TCGA.04.1362.01</th><th scope=col>TCGA.04.1364.01</th><th scope=col>TCGA.04.1365.01</th><th scope=col>TCGA.04.1514.01</th><th scope=col>TCGA.04.1519.01</th><th scope=col>TCGA.09.0364.01</th><th scope=col>TCGA.09.0366.01</th><th scope=col>TCGA.09.0367.01</th><th scope=col>⋯</th><th scope=col>TCGA.61.2102.01</th><th scope=col>TCGA.61.2104.01</th><th scope=col>TCGA.61.2109.01</th><th scope=col>TCGA.61.2110.01</th><th scope=col>TCGA.61.2111.01</th><th scope=col>TCGA.61.2113.01</th><th scope=col>TCGA.OY.A56P.01</th><th scope=col>TCGA.OY.A56Q.01</th><th scope=col>TCGA.VG.A8LO.01</th><th scope=col>TCGA.WR.A838.01</th></tr></thead>\n",
       "<tbody>\n",
       "\t<tr><th scope=row>A1BG</th><td>  66.4695 </td><td>  65.5664 </td><td>  41.6412 </td><td> 187.0368 </td><td>  23.9295 </td><td>  32.8123 </td><td>  46.3418 </td><td> 162.8522 </td><td>   88.5518</td><td> 192.7354 </td><td>⋯         </td><td>   63.7012</td><td>  99.1485 </td><td>  38.3684 </td><td> 140.3668 </td><td>  94.7103 </td><td>  70.4394 </td><td>  43.1736 </td><td>   33.6854</td><td>  27.9604 </td><td>  16.2092 </td></tr>\n",
       "\t<tr><th scope=row>A1BG-AS1</th><td>  36.3243 </td><td>  28.1315 </td><td>  23.2465 </td><td> 114.6008 </td><td>  10.4957 </td><td>  20.1900 </td><td>  17.2007 </td><td>  83.0906 </td><td>   65.6758</td><td>  55.1265 </td><td>⋯         </td><td>   30.3602</td><td>  71.1797 </td><td>  26.0239 </td><td>  77.2415 </td><td>  61.4890 </td><td> 106.1623 </td><td>  47.8864 </td><td>   25.3482</td><td>  17.9853 </td><td>  42.9450 </td></tr>\n",
       "\t<tr><th scope=row>A1CF</th><td>   0.0000 </td><td>   0.0000 </td><td>   0.3310 </td><td>   0.0000 </td><td>   0.0000 </td><td>   0.0000 </td><td>   0.0000 </td><td>   0.9034 </td><td>    0.0000</td><td>   0.0000 </td><td>⋯         </td><td>    0.0000</td><td>   0.0000 </td><td>   0.0000 </td><td>   1.9057 </td><td>   0.0000 </td><td>   0.0000 </td><td>   0.0000 </td><td>    0.0000</td><td>   0.0000 </td><td>   0.0000 </td></tr>\n",
       "\t<tr><th scope=row>A2M</th><td>5899.8279 </td><td>9384.4401 </td><td>3350.4207 </td><td>1455.2316 </td><td>3999.3792 </td><td>3224.5797 </td><td>1986.1593 </td><td>1487.3247 </td><td>10557.8325</td><td>4603.9013 </td><td>⋯         </td><td>10264.1373</td><td>7220.7664 </td><td>7200.1144 </td><td>1819.9428 </td><td>6179.7358 </td><td>5365.7972 </td><td>8773.5936 </td><td>10006.7877</td><td>1888.1746 </td><td>4205.6055 </td></tr>\n",
       "\t<tr><th scope=row>A2M-AS1</th><td> 118.4566 </td><td> 111.0026 </td><td>  71.3613 </td><td>  67.8607 </td><td>  52.1501 </td><td> 224.7582 </td><td> 182.0650 </td><td> 120.2838 </td><td>   53.6419</td><td>  92.9112 </td><td>⋯         </td><td>  146.6130</td><td>  45.8648 </td><td>  64.4638 </td><td>  28.5565 </td><td> 100.6605 </td><td>  23.5625 </td><td>  84.2153 </td><td>  582.3492</td><td>  59.8084 </td><td> 143.4910 </td></tr>\n",
       "\t<tr><th scope=row>A2ML1</th><td>   7.5289 </td><td>  54.6875 </td><td>   5.6263 </td><td>   5.0883 </td><td>   3.3148 </td><td>   3.7421 </td><td>   6.2305 </td><td> 278.2486 </td><td>    4.7763</td><td> 653.6058 </td><td>⋯         </td><td>    1.7993</td><td>   4.6124 </td><td>   0.4768 </td><td>  17.1510 </td><td>  15.6109 </td><td>   2.4461 </td><td>  98.3162 </td><td>  269.5768</td><td>   4.5092 </td><td> 224.5290 </td></tr>\n",
       "</tbody>\n",
       "</table>\n"
      ],
      "text/latex": [
       "\\begin{tabular}{r|lllllllllllllllllllllllllllllllllllllllllllllllllllllllllllllllllllllllllllllllllllllllllllllllllllllllllllllllllllllllllllllllllllllllllllllllllllllllllllllllllllllllllllllllllllllllllllllllllllllllllllllllllllllllllllllllllllllllllllllllllllllllllllllllllllllllllllllllllllllllllllllllllllllllllllllllllll}\n",
       "  & TCGA.04.1348.01 & TCGA.04.1357.01 & TCGA.04.1362.01 & TCGA.04.1364.01 & TCGA.04.1365.01 & TCGA.04.1514.01 & TCGA.04.1519.01 & TCGA.09.0364.01 & TCGA.09.0366.01 & TCGA.09.0367.01 & ⋯ & TCGA.61.2102.01 & TCGA.61.2104.01 & TCGA.61.2109.01 & TCGA.61.2110.01 & TCGA.61.2111.01 & TCGA.61.2113.01 & TCGA.OY.A56P.01 & TCGA.OY.A56Q.01 & TCGA.VG.A8LO.01 & TCGA.WR.A838.01\\\\\n",
       "\\hline\n",
       "\tA1BG &   66.4695  &   65.5664  &   41.6412  &  187.0368  &   23.9295  &   32.8123  &   46.3418  &  162.8522  &    88.5518 &  192.7354  & ⋯          &    63.7012 &   99.1485  &   38.3684  &  140.3668  &   94.7103  &   70.4394  &   43.1736  &    33.6854 &   27.9604  &   16.2092 \\\\\n",
       "\tA1BG-AS1 &   36.3243  &   28.1315  &   23.2465  &  114.6008  &   10.4957  &   20.1900  &   17.2007  &   83.0906  &    65.6758 &   55.1265  & ⋯          &    30.3602 &   71.1797  &   26.0239  &   77.2415  &   61.4890  &  106.1623  &   47.8864  &    25.3482 &   17.9853  &   42.9450 \\\\\n",
       "\tA1CF &    0.0000  &    0.0000  &    0.3310  &    0.0000  &    0.0000  &    0.0000  &    0.0000  &    0.9034  &     0.0000 &    0.0000  & ⋯          &     0.0000 &    0.0000  &    0.0000  &    1.9057  &    0.0000  &    0.0000  &    0.0000  &     0.0000 &    0.0000  &    0.0000 \\\\\n",
       "\tA2M & 5899.8279  & 9384.4401  & 3350.4207  & 1455.2316  & 3999.3792  & 3224.5797  & 1986.1593  & 1487.3247  & 10557.8325 & 4603.9013  & ⋯          & 10264.1373 & 7220.7664  & 7200.1144  & 1819.9428  & 6179.7358  & 5365.7972  & 8773.5936  & 10006.7877 & 1888.1746  & 4205.6055 \\\\\n",
       "\tA2M-AS1 &  118.4566  &  111.0026  &   71.3613  &   67.8607  &   52.1501  &  224.7582  &  182.0650  &  120.2838  &    53.6419 &   92.9112  & ⋯          &   146.6130 &   45.8648  &   64.4638  &   28.5565  &  100.6605  &   23.5625  &   84.2153  &   582.3492 &   59.8084  &  143.4910 \\\\\n",
       "\tA2ML1 &    7.5289  &   54.6875  &    5.6263  &    5.0883  &    3.3148  &    3.7421  &    6.2305  &  278.2486  &     4.7763 &  653.6058  & ⋯          &     1.7993 &    4.6124  &    0.4768  &   17.1510  &   15.6109  &    2.4461  &   98.3162  &   269.5768 &    4.5092  &  224.5290 \\\\\n",
       "\\end{tabular}\n"
      ],
      "text/markdown": [
       "\n",
       "| <!--/--> | TCGA.04.1348.01 | TCGA.04.1357.01 | TCGA.04.1362.01 | TCGA.04.1364.01 | TCGA.04.1365.01 | TCGA.04.1514.01 | TCGA.04.1519.01 | TCGA.09.0364.01 | TCGA.09.0366.01 | TCGA.09.0367.01 | ⋯ | TCGA.61.2102.01 | TCGA.61.2104.01 | TCGA.61.2109.01 | TCGA.61.2110.01 | TCGA.61.2111.01 | TCGA.61.2113.01 | TCGA.OY.A56P.01 | TCGA.OY.A56Q.01 | TCGA.VG.A8LO.01 | TCGA.WR.A838.01 | \n",
       "|---|---|---|---|---|---|\n",
       "| A1BG |   66.4695  |   65.5664  |   41.6412  |  187.0368  |   23.9295  |   32.8123  |   46.3418  |  162.8522  |    88.5518 |  192.7354  | ⋯          |    63.7012 |   99.1485  |   38.3684  |  140.3668  |   94.7103  |   70.4394  |   43.1736  |    33.6854 |   27.9604  |   16.2092  | \n",
       "| A1BG-AS1 |   36.3243  |   28.1315  |   23.2465  |  114.6008  |   10.4957  |   20.1900  |   17.2007  |   83.0906  |    65.6758 |   55.1265  | ⋯          |    30.3602 |   71.1797  |   26.0239  |   77.2415  |   61.4890  |  106.1623  |   47.8864  |    25.3482 |   17.9853  |   42.9450  | \n",
       "| A1CF |    0.0000  |    0.0000  |    0.3310  |    0.0000  |    0.0000  |    0.0000  |    0.0000  |    0.9034  |     0.0000 |    0.0000  | ⋯          |     0.0000 |    0.0000  |    0.0000  |    1.9057  |    0.0000  |    0.0000  |    0.0000  |     0.0000 |    0.0000  |    0.0000  | \n",
       "| A2M | 5899.8279  | 9384.4401  | 3350.4207  | 1455.2316  | 3999.3792  | 3224.5797  | 1986.1593  | 1487.3247  | 10557.8325 | 4603.9013  | ⋯          | 10264.1373 | 7220.7664  | 7200.1144  | 1819.9428  | 6179.7358  | 5365.7972  | 8773.5936  | 10006.7877 | 1888.1746  | 4205.6055  | \n",
       "| A2M-AS1 |  118.4566  |  111.0026  |   71.3613  |   67.8607  |   52.1501  |  224.7582  |  182.0650  |  120.2838  |    53.6419 |   92.9112  | ⋯          |   146.6130 |   45.8648  |   64.4638  |   28.5565  |  100.6605  |   23.5625  |   84.2153  |   582.3492 |   59.8084  |  143.4910  | \n",
       "| A2ML1 |    7.5289  |   54.6875  |    5.6263  |    5.0883  |    3.3148  |    3.7421  |    6.2305  |  278.2486  |     4.7763 |  653.6058  | ⋯          |     1.7993 |    4.6124  |    0.4768  |   17.1510  |   15.6109  |    2.4461  |   98.3162  |   269.5768 |    4.5092  |  224.5290  | \n",
       "\n",
       "\n"
      ],
      "text/plain": [
       "         TCGA.04.1348.01 TCGA.04.1357.01 TCGA.04.1362.01 TCGA.04.1364.01\n",
       "A1BG       66.4695         65.5664         41.6412        187.0368      \n",
       "A1BG-AS1   36.3243         28.1315         23.2465        114.6008      \n",
       "A1CF        0.0000          0.0000          0.3310          0.0000      \n",
       "A2M      5899.8279       9384.4401       3350.4207       1455.2316      \n",
       "A2M-AS1   118.4566        111.0026         71.3613         67.8607      \n",
       "A2ML1       7.5289         54.6875          5.6263          5.0883      \n",
       "         TCGA.04.1365.01 TCGA.04.1514.01 TCGA.04.1519.01 TCGA.09.0364.01\n",
       "A1BG       23.9295         32.8123         46.3418        162.8522      \n",
       "A1BG-AS1   10.4957         20.1900         17.2007         83.0906      \n",
       "A1CF        0.0000          0.0000          0.0000          0.9034      \n",
       "A2M      3999.3792       3224.5797       1986.1593       1487.3247      \n",
       "A2M-AS1    52.1501        224.7582        182.0650        120.2838      \n",
       "A2ML1       3.3148          3.7421          6.2305        278.2486      \n",
       "         TCGA.09.0366.01 TCGA.09.0367.01 ⋯ TCGA.61.2102.01 TCGA.61.2104.01\n",
       "A1BG        88.5518       192.7354       ⋯    63.7012        99.1485      \n",
       "A1BG-AS1    65.6758        55.1265       ⋯    30.3602        71.1797      \n",
       "A1CF         0.0000         0.0000       ⋯     0.0000         0.0000      \n",
       "A2M      10557.8325      4603.9013       ⋯ 10264.1373      7220.7664      \n",
       "A2M-AS1     53.6419        92.9112       ⋯   146.6130        45.8648      \n",
       "A2ML1        4.7763       653.6058       ⋯     1.7993         4.6124      \n",
       "         TCGA.61.2109.01 TCGA.61.2110.01 TCGA.61.2111.01 TCGA.61.2113.01\n",
       "A1BG       38.3684        140.3668         94.7103         70.4394      \n",
       "A1BG-AS1   26.0239         77.2415         61.4890        106.1623      \n",
       "A1CF        0.0000          1.9057          0.0000          0.0000      \n",
       "A2M      7200.1144       1819.9428       6179.7358       5365.7972      \n",
       "A2M-AS1    64.4638         28.5565        100.6605         23.5625      \n",
       "A2ML1       0.4768         17.1510         15.6109          2.4461      \n",
       "         TCGA.OY.A56P.01 TCGA.OY.A56Q.01 TCGA.VG.A8LO.01 TCGA.WR.A838.01\n",
       "A1BG       43.1736          33.6854        27.9604         16.2092      \n",
       "A1BG-AS1   47.8864          25.3482        17.9853         42.9450      \n",
       "A1CF        0.0000           0.0000         0.0000          0.0000      \n",
       "A2M      8773.5936       10006.7877      1888.1746       4205.6055      \n",
       "A2M-AS1    84.2153         582.3492        59.8084        143.4910      \n",
       "A2ML1      98.3162         269.5768         4.5092        224.5290      "
      ]
     },
     "metadata": {},
     "output_type": "display_data"
    }
   ],
   "source": [
    "head(data)"
   ]
  },
  {
   "cell_type": "code",
   "execution_count": 5,
   "metadata": {},
   "outputs": [],
   "source": [
    "data_mtx <- as.matrix(data)"
   ]
  },
  {
   "cell_type": "markdown",
   "metadata": {},
   "source": [
    "## Load Davoli gene sets"
   ]
  },
  {
   "cell_type": "code",
   "execution_count": 6,
   "metadata": {},
   "outputs": [],
   "source": [
    "Davoli_GeneSets <- read.csv('../1.Data/DavoliImmuneCells_GeneSets.txt',\n",
    "                            sep='\\t',\n",
    "                            header=T)"
   ]
  },
  {
   "cell_type": "code",
   "execution_count": 7,
   "metadata": {},
   "outputs": [
    {
     "data": {
      "text/html": [
       "<table>\n",
       "<thead><tr><th scope=col>CD4_mature</th><th scope=col>CD8_effector</th><th scope=col>NK_cells</th><th scope=col>B_cells</th><th scope=col>T_regs</th><th scope=col>Dendritics</th><th scope=col>CD8_effector_NK_cells</th><th scope=col>Macrophages</th><th scope=col>Macrophages_M2</th><th scope=col>Macrophages_M1</th></tr></thead>\n",
       "<tbody>\n",
       "\t<tr><td>IGFBP4  </td><td>GZMK    </td><td>NKG7    </td><td>BANK1   </td><td>IL2RA   </td><td>NR4A3   </td><td>NKG7    </td><td>CD5L    </td><td>HRH1    </td><td>CD40    </td></tr>\n",
       "\t<tr><td>ITM2A   </td><td>CD3E    </td><td>GZMA    </td><td>CD79A   </td><td>FOXP3   </td><td>HAVCR2  </td><td>CCL5    </td><td>FCGR3A  </td><td>NPL     </td><td>CXCL10  </td></tr>\n",
       "\t<tr><td>AMIGO2  </td><td>CD3G    </td><td>EOMES   </td><td>CD55    </td><td>CTLA4   </td><td>KMO     </td><td>KLRK1   </td><td>ITGB5   </td><td>PDCD1LG2</td><td>CXCL11  </td></tr>\n",
       "\t<tr><td>TRAT1   </td><td>CXCR3   </td><td>SAMD3   </td><td>CD19    </td><td>SLC35D1 </td><td>DNASE1L3</td><td>CCR5    </td><td>MERTK   </td><td>RENBP   </td><td>CXCL9   </td></tr>\n",
       "\t<tr><td>CD40LG  </td><td>CD3D    </td><td>TBX21   </td><td>CD79B   </td><td>GDPD3   </td><td>ANPEP   </td><td>CXCR6   </td><td>PILRA   </td><td>CFP     </td><td>SLAMF1  </td></tr>\n",
       "\t<tr><td>ICOS    </td><td>BCL11B  </td><td>KLRK1   </td><td>CXCR5   </td><td>CISH    </td><td>CXCL16  </td><td>CRTAM   </td><td>CCL8    </td><td>C1QC    </td><td>TNIP3   </td></tr>\n",
       "</tbody>\n",
       "</table>\n"
      ],
      "text/latex": [
       "\\begin{tabular}{r|llllllllll}\n",
       " CD4\\_mature & CD8\\_effector & NK\\_cells & B\\_cells & T\\_regs & Dendritics & CD8\\_effector\\_NK\\_cells & Macrophages & Macrophages\\_M2 & Macrophages\\_M1\\\\\n",
       "\\hline\n",
       "\t IGFBP4   & GZMK     & NKG7     & BANK1    & IL2RA    & NR4A3    & NKG7     & CD5L     & HRH1     & CD40    \\\\\n",
       "\t ITM2A    & CD3E     & GZMA     & CD79A    & FOXP3    & HAVCR2   & CCL5     & FCGR3A   & NPL      & CXCL10  \\\\\n",
       "\t AMIGO2   & CD3G     & EOMES    & CD55     & CTLA4    & KMO      & KLRK1    & ITGB5    & PDCD1LG2 & CXCL11  \\\\\n",
       "\t TRAT1    & CXCR3    & SAMD3    & CD19     & SLC35D1  & DNASE1L3 & CCR5     & MERTK    & RENBP    & CXCL9   \\\\\n",
       "\t CD40LG   & CD3D     & TBX21    & CD79B    & GDPD3    & ANPEP    & CXCR6    & PILRA    & CFP      & SLAMF1  \\\\\n",
       "\t ICOS     & BCL11B   & KLRK1    & CXCR5    & CISH     & CXCL16   & CRTAM    & CCL8     & C1QC     & TNIP3   \\\\\n",
       "\\end{tabular}\n"
      ],
      "text/markdown": [
       "\n",
       "CD4_mature | CD8_effector | NK_cells | B_cells | T_regs | Dendritics | CD8_effector_NK_cells | Macrophages | Macrophages_M2 | Macrophages_M1 | \n",
       "|---|---|---|---|---|---|\n",
       "| IGFBP4   | GZMK     | NKG7     | BANK1    | IL2RA    | NR4A3    | NKG7     | CD5L     | HRH1     | CD40     | \n",
       "| ITM2A    | CD3E     | GZMA     | CD79A    | FOXP3    | HAVCR2   | CCL5     | FCGR3A   | NPL      | CXCL10   | \n",
       "| AMIGO2   | CD3G     | EOMES    | CD55     | CTLA4    | KMO      | KLRK1    | ITGB5    | PDCD1LG2 | CXCL11   | \n",
       "| TRAT1    | CXCR3    | SAMD3    | CD19     | SLC35D1  | DNASE1L3 | CCR5     | MERTK    | RENBP    | CXCL9    | \n",
       "| CD40LG   | CD3D     | TBX21    | CD79B    | GDPD3    | ANPEP    | CXCR6    | PILRA    | CFP      | SLAMF1   | \n",
       "| ICOS     | BCL11B   | KLRK1    | CXCR5    | CISH     | CXCL16   | CRTAM    | CCL8     | C1QC     | TNIP3    | \n",
       "\n",
       "\n"
      ],
      "text/plain": [
       "  CD4_mature CD8_effector NK_cells B_cells T_regs  Dendritics\n",
       "1 IGFBP4     GZMK         NKG7     BANK1   IL2RA   NR4A3     \n",
       "2 ITM2A      CD3E         GZMA     CD79A   FOXP3   HAVCR2    \n",
       "3 AMIGO2     CD3G         EOMES    CD55    CTLA4   KMO       \n",
       "4 TRAT1      CXCR3        SAMD3    CD19    SLC35D1 DNASE1L3  \n",
       "5 CD40LG     CD3D         TBX21    CD79B   GDPD3   ANPEP     \n",
       "6 ICOS       BCL11B       KLRK1    CXCR5   CISH    CXCL16    \n",
       "  CD8_effector_NK_cells Macrophages Macrophages_M2 Macrophages_M1\n",
       "1 NKG7                  CD5L        HRH1           CD40          \n",
       "2 CCL5                  FCGR3A      NPL            CXCL10        \n",
       "3 KLRK1                 ITGB5       PDCD1LG2       CXCL11        \n",
       "4 CCR5                  MERTK       RENBP          CXCL9         \n",
       "5 CXCR6                 PILRA       CFP            SLAMF1        \n",
       "6 CRTAM                 CCL8        C1QC           TNIP3         "
      ]
     },
     "metadata": {},
     "output_type": "display_data"
    }
   ],
   "source": [
    "head(Davoli_GeneSets)"
   ]
  },
  {
   "cell_type": "code",
   "execution_count": 8,
   "metadata": {},
   "outputs": [],
   "source": [
    "Davoli_GeneSets <- convertRowsToList(t(Davoli_GeneSets))"
   ]
  },
  {
   "cell_type": "markdown",
   "metadata": {},
   "source": [
    "## Run ssGSEA"
   ]
  },
  {
   "cell_type": "code",
   "execution_count": 9,
   "metadata": {},
   "outputs": [
    {
     "name": "stderr",
     "output_type": "stream",
     "text": [
      "Warning message in .local(expr, gset.idx.list, ...):\n",
      "“338 genes with constant expression values throuhgout the samples.”"
     ]
    },
    {
     "name": "stdout",
     "output_type": "stream",
     "text": [
      "Estimating ssGSEA scores for 10 gene sets.\n",
      "  |                                                                      |   0%Using parallel with 4 cores\n",
      "  |======================================================================| 100%\n"
     ]
    }
   ],
   "source": [
    "dav_NES <- gsva(data_mtx,\n",
    "                Davoli_GeneSets,\n",
    "                method='ssgsea',\n",
    "                min.sz=0,\n",
    "                max.sz=1000,\n",
    "                ssgsea.norm=T)"
   ]
  },
  {
   "cell_type": "code",
   "execution_count": 10,
   "metadata": {},
   "outputs": [],
   "source": [
    "dav_NES <- data.frame(\"Term\"=rownames(dav_NES),\n",
    "                      dav_NES)\n",
    "\n",
    "rownames(dav_NES) <- NULL"
   ]
  },
  {
   "cell_type": "code",
   "execution_count": 11,
   "metadata": {},
   "outputs": [
    {
     "data": {
      "text/html": [
       "<table>\n",
       "<thead><tr><th scope=col>Term</th><th scope=col>TCGA.04.1348.01</th><th scope=col>TCGA.04.1357.01</th><th scope=col>TCGA.04.1362.01</th><th scope=col>TCGA.04.1364.01</th><th scope=col>TCGA.04.1365.01</th><th scope=col>TCGA.04.1514.01</th><th scope=col>TCGA.04.1519.01</th><th scope=col>TCGA.09.0364.01</th><th scope=col>TCGA.09.0366.01</th><th scope=col>⋯</th><th scope=col>TCGA.61.2102.01</th><th scope=col>TCGA.61.2104.01</th><th scope=col>TCGA.61.2109.01</th><th scope=col>TCGA.61.2110.01</th><th scope=col>TCGA.61.2111.01</th><th scope=col>TCGA.61.2113.01</th><th scope=col>TCGA.OY.A56P.01</th><th scope=col>TCGA.OY.A56Q.01</th><th scope=col>TCGA.VG.A8LO.01</th><th scope=col>TCGA.WR.A838.01</th></tr></thead>\n",
       "<tbody>\n",
       "\t<tr><td>CD4_mature  </td><td> 0.02265669 </td><td> 0.103612227</td><td>-0.12438993 </td><td>-0.18234025 </td><td>-0.042293275</td><td>-0.14808391 </td><td>-0.1375435  </td><td> 0.01857297 </td><td>-0.01069310 </td><td>⋯           </td><td>-0.12802152 </td><td>-0.03786386 </td><td>-0.09317690 </td><td>-0.04245323 </td><td> 0.047212514</td><td> 0.03428932 </td><td>-0.0200634  </td><td>-0.1272490  </td><td>-0.17205742 </td><td>-0.1126078  </td></tr>\n",
       "\t<tr><td>CD8_effector</td><td>-0.13368553 </td><td> 0.051357614</td><td>-0.36916463 </td><td>-0.43643981 </td><td>-0.155226885</td><td>-0.35410255 </td><td>-0.3838640  </td><td>-0.49862807 </td><td>-0.30384723 </td><td>⋯           </td><td>-0.36537758 </td><td>-0.20613263 </td><td>-0.30806190 </td><td>-0.30443879 </td><td>-0.227476773</td><td>-0.18449612 </td><td>-0.4205513  </td><td>-0.4335972  </td><td>-0.33091110 </td><td>-0.4033532  </td></tr>\n",
       "\t<tr><td>NK_cells    </td><td>-0.13978084 </td><td> 0.004286589</td><td>-0.34615870 </td><td>-0.46778579 </td><td>-0.146162797</td><td>-0.43557802 </td><td>-0.3459202  </td><td>-0.45813226 </td><td>-0.26908391 </td><td>⋯           </td><td>-0.34796424 </td><td>-0.21765991 </td><td>-0.27754995 </td><td>-0.34013617 </td><td>-0.214511937</td><td>-0.21929784 </td><td>-0.3416847  </td><td>-0.3388995  </td><td>-0.29454537 </td><td>-0.4642053  </td></tr>\n",
       "\t<tr><td>B_cells     </td><td>-0.04505504 </td><td> 0.148263482</td><td>-0.20913977 </td><td>-0.12764664 </td><td>-0.005805204</td><td>-0.23730475 </td><td>-0.1064157  </td><td>-0.25773288 </td><td>-0.08392624 </td><td>⋯           </td><td>-0.26345766 </td><td>-0.06680312 </td><td>-0.02780864 </td><td>-0.22141425 </td><td>-0.004317166</td><td>-0.04005944 </td><td>-0.2281134  </td><td>-0.1003784  </td><td>-0.04649263 </td><td>-0.1644587  </td></tr>\n",
       "\t<tr><td>T_regs      </td><td>-0.01413145 </td><td>-0.014679610</td><td>-0.09584074 </td><td>-0.22223507 </td><td>-0.108217982</td><td>-0.10345609 </td><td>-0.1644248  </td><td>-0.22916455 </td><td>-0.07340285 </td><td>⋯           </td><td>-0.08857946 </td><td>-0.10176519 </td><td>-0.14442465 </td><td>-0.18657969 </td><td>-0.039621788</td><td>-0.09868318 </td><td>-0.2325628  </td><td>-0.2043412  </td><td>-0.11378940 </td><td>-0.2411155  </td></tr>\n",
       "\t<tr><td>Dendritics  </td><td> 0.13264289 </td><td> 0.148267989</td><td>-0.04967173 </td><td>-0.09767746 </td><td> 0.122147563</td><td>-0.04896112 </td><td>-0.0425053  </td><td>-0.21520918 </td><td> 0.12586748 </td><td>⋯           </td><td>-0.07825406 </td><td> 0.09799198 </td><td> 0.10921682 </td><td>-0.06850645 </td><td> 0.012631425</td><td> 0.12386804 </td><td>-0.1286216  </td><td>-0.2255113  </td><td> 0.02633151 </td><td> 0.0137360  </td></tr>\n",
       "</tbody>\n",
       "</table>\n"
      ],
      "text/latex": [
       "\\begin{tabular}{r|llllllllllllllllllllllllllllllllllllllllllllllllllllllllllllllllllllllllllllllllllllllllllllllllllllllllllllllllllllllllllllllllllllllllllllllllllllllllllllllllllllllllllllllllllllllllllllllllllllllllllllllllllllllllllllllllllllllllllllllllllllllllllllllllllllllllllllllllllllllllllllllllllllllllllllllllllll}\n",
       " Term & TCGA.04.1348.01 & TCGA.04.1357.01 & TCGA.04.1362.01 & TCGA.04.1364.01 & TCGA.04.1365.01 & TCGA.04.1514.01 & TCGA.04.1519.01 & TCGA.09.0364.01 & TCGA.09.0366.01 & ⋯ & TCGA.61.2102.01 & TCGA.61.2104.01 & TCGA.61.2109.01 & TCGA.61.2110.01 & TCGA.61.2111.01 & TCGA.61.2113.01 & TCGA.OY.A56P.01 & TCGA.OY.A56Q.01 & TCGA.VG.A8LO.01 & TCGA.WR.A838.01\\\\\n",
       "\\hline\n",
       "\t CD4\\_mature   &  0.02265669    &  0.103612227   & -0.12438993    & -0.18234025    & -0.042293275   & -0.14808391    & -0.1375435     &  0.01857297    & -0.01069310    & ⋯              & -0.12802152    & -0.03786386    & -0.09317690    & -0.04245323    &  0.047212514   &  0.03428932    & -0.0200634     & -0.1272490     & -0.17205742    & -0.1126078    \\\\\n",
       "\t CD8\\_effector & -0.13368553    &  0.051357614   & -0.36916463    & -0.43643981    & -0.155226885   & -0.35410255    & -0.3838640     & -0.49862807    & -0.30384723    & ⋯              & -0.36537758    & -0.20613263    & -0.30806190    & -0.30443879    & -0.227476773   & -0.18449612    & -0.4205513     & -0.4335972     & -0.33091110    & -0.4033532    \\\\\n",
       "\t NK\\_cells     & -0.13978084    &  0.004286589   & -0.34615870    & -0.46778579    & -0.146162797   & -0.43557802    & -0.3459202     & -0.45813226    & -0.26908391    & ⋯              & -0.34796424    & -0.21765991    & -0.27754995    & -0.34013617    & -0.214511937   & -0.21929784    & -0.3416847     & -0.3388995     & -0.29454537    & -0.4642053    \\\\\n",
       "\t B\\_cells      & -0.04505504    &  0.148263482   & -0.20913977    & -0.12764664    & -0.005805204   & -0.23730475    & -0.1064157     & -0.25773288    & -0.08392624    & ⋯              & -0.26345766    & -0.06680312    & -0.02780864    & -0.22141425    & -0.004317166   & -0.04005944    & -0.2281134     & -0.1003784     & -0.04649263    & -0.1644587    \\\\\n",
       "\t T\\_regs       & -0.01413145    & -0.014679610   & -0.09584074    & -0.22223507    & -0.108217982   & -0.10345609    & -0.1644248     & -0.22916455    & -0.07340285    & ⋯              & -0.08857946    & -0.10176519    & -0.14442465    & -0.18657969    & -0.039621788   & -0.09868318    & -0.2325628     & -0.2043412     & -0.11378940    & -0.2411155    \\\\\n",
       "\t Dendritics   &  0.13264289  &  0.148267989 & -0.04967173  & -0.09767746  &  0.122147563 & -0.04896112  & -0.0425053   & -0.21520918  &  0.12586748  & ⋯            & -0.07825406  &  0.09799198  &  0.10921682  & -0.06850645  &  0.012631425 &  0.12386804  & -0.1286216   & -0.2255113   &  0.02633151  &  0.0137360  \\\\\n",
       "\\end{tabular}\n"
      ],
      "text/markdown": [
       "\n",
       "Term | TCGA.04.1348.01 | TCGA.04.1357.01 | TCGA.04.1362.01 | TCGA.04.1364.01 | TCGA.04.1365.01 | TCGA.04.1514.01 | TCGA.04.1519.01 | TCGA.09.0364.01 | TCGA.09.0366.01 | ⋯ | TCGA.61.2102.01 | TCGA.61.2104.01 | TCGA.61.2109.01 | TCGA.61.2110.01 | TCGA.61.2111.01 | TCGA.61.2113.01 | TCGA.OY.A56P.01 | TCGA.OY.A56Q.01 | TCGA.VG.A8LO.01 | TCGA.WR.A838.01 | \n",
       "|---|---|---|---|---|---|\n",
       "| CD4_mature   |  0.02265669  |  0.103612227 | -0.12438993  | -0.18234025  | -0.042293275 | -0.14808391  | -0.1375435   |  0.01857297  | -0.01069310  | ⋯            | -0.12802152  | -0.03786386  | -0.09317690  | -0.04245323  |  0.047212514 |  0.03428932  | -0.0200634   | -0.1272490   | -0.17205742  | -0.1126078   | \n",
       "| CD8_effector | -0.13368553  |  0.051357614 | -0.36916463  | -0.43643981  | -0.155226885 | -0.35410255  | -0.3838640   | -0.49862807  | -0.30384723  | ⋯            | -0.36537758  | -0.20613263  | -0.30806190  | -0.30443879  | -0.227476773 | -0.18449612  | -0.4205513   | -0.4335972   | -0.33091110  | -0.4033532   | \n",
       "| NK_cells     | -0.13978084  |  0.004286589 | -0.34615870  | -0.46778579  | -0.146162797 | -0.43557802  | -0.3459202   | -0.45813226  | -0.26908391  | ⋯            | -0.34796424  | -0.21765991  | -0.27754995  | -0.34013617  | -0.214511937 | -0.21929784  | -0.3416847   | -0.3388995   | -0.29454537  | -0.4642053   | \n",
       "| B_cells      | -0.04505504  |  0.148263482 | -0.20913977  | -0.12764664  | -0.005805204 | -0.23730475  | -0.1064157   | -0.25773288  | -0.08392624  | ⋯            | -0.26345766  | -0.06680312  | -0.02780864  | -0.22141425  | -0.004317166 | -0.04005944  | -0.2281134   | -0.1003784   | -0.04649263  | -0.1644587   | \n",
       "| T_regs       | -0.01413145  | -0.014679610 | -0.09584074  | -0.22223507  | -0.108217982 | -0.10345609  | -0.1644248   | -0.22916455  | -0.07340285  | ⋯            | -0.08857946  | -0.10176519  | -0.14442465  | -0.18657969  | -0.039621788 | -0.09868318  | -0.2325628   | -0.2043412   | -0.11378940  | -0.2411155   | \n",
       "| Dendritics   |  0.13264289  |  0.148267989 | -0.04967173  | -0.09767746  |  0.122147563 | -0.04896112  | -0.0425053   | -0.21520918  |  0.12586748  | ⋯            | -0.07825406  |  0.09799198  |  0.10921682  | -0.06850645  |  0.012631425 |  0.12386804  | -0.1286216   | -0.2255113   |  0.02633151  |  0.0137360   | \n",
       "\n",
       "\n"
      ],
      "text/plain": [
       "  Term         TCGA.04.1348.01 TCGA.04.1357.01 TCGA.04.1362.01 TCGA.04.1364.01\n",
       "1 CD4_mature    0.02265669      0.103612227    -0.12438993     -0.18234025    \n",
       "2 CD8_effector -0.13368553      0.051357614    -0.36916463     -0.43643981    \n",
       "3 NK_cells     -0.13978084      0.004286589    -0.34615870     -0.46778579    \n",
       "4 B_cells      -0.04505504      0.148263482    -0.20913977     -0.12764664    \n",
       "5 T_regs       -0.01413145     -0.014679610    -0.09584074     -0.22223507    \n",
       "6 Dendritics    0.13264289      0.148267989    -0.04967173     -0.09767746    \n",
       "  TCGA.04.1365.01 TCGA.04.1514.01 TCGA.04.1519.01 TCGA.09.0364.01\n",
       "1 -0.042293275    -0.14808391     -0.1375435       0.01857297    \n",
       "2 -0.155226885    -0.35410255     -0.3838640      -0.49862807    \n",
       "3 -0.146162797    -0.43557802     -0.3459202      -0.45813226    \n",
       "4 -0.005805204    -0.23730475     -0.1064157      -0.25773288    \n",
       "5 -0.108217982    -0.10345609     -0.1644248      -0.22916455    \n",
       "6  0.122147563    -0.04896112     -0.0425053      -0.21520918    \n",
       "  TCGA.09.0366.01 ⋯ TCGA.61.2102.01 TCGA.61.2104.01 TCGA.61.2109.01\n",
       "1 -0.01069310     ⋯ -0.12802152     -0.03786386     -0.09317690    \n",
       "2 -0.30384723     ⋯ -0.36537758     -0.20613263     -0.30806190    \n",
       "3 -0.26908391     ⋯ -0.34796424     -0.21765991     -0.27754995    \n",
       "4 -0.08392624     ⋯ -0.26345766     -0.06680312     -0.02780864    \n",
       "5 -0.07340285     ⋯ -0.08857946     -0.10176519     -0.14442465    \n",
       "6  0.12586748     ⋯ -0.07825406      0.09799198      0.10921682    \n",
       "  TCGA.61.2110.01 TCGA.61.2111.01 TCGA.61.2113.01 TCGA.OY.A56P.01\n",
       "1 -0.04245323      0.047212514     0.03428932     -0.0200634     \n",
       "2 -0.30443879     -0.227476773    -0.18449612     -0.4205513     \n",
       "3 -0.34013617     -0.214511937    -0.21929784     -0.3416847     \n",
       "4 -0.22141425     -0.004317166    -0.04005944     -0.2281134     \n",
       "5 -0.18657969     -0.039621788    -0.09868318     -0.2325628     \n",
       "6 -0.06850645      0.012631425     0.12386804     -0.1286216     \n",
       "  TCGA.OY.A56Q.01 TCGA.VG.A8LO.01 TCGA.WR.A838.01\n",
       "1 -0.1272490      -0.17205742     -0.1126078     \n",
       "2 -0.4335972      -0.33091110     -0.4033532     \n",
       "3 -0.3388995      -0.29454537     -0.4642053     \n",
       "4 -0.1003784      -0.04649263     -0.1644587     \n",
       "5 -0.2043412      -0.11378940     -0.2411155     \n",
       "6 -0.2255113       0.02633151      0.0137360     "
      ]
     },
     "metadata": {},
     "output_type": "display_data"
    }
   ],
   "source": [
    "head(dav_NES)"
   ]
  },
  {
   "cell_type": "code",
   "execution_count": 12,
   "metadata": {},
   "outputs": [],
   "source": [
    "write.table(dav_NES,\n",
    "            file='../1.Data/DavoliImmuneCells_TCGAov_NES.txt',\n",
    "            sep='\\t',\n",
    "            row.names=F,\n",
    "            col.names=T)"
   ]
  },
  {
   "cell_type": "markdown",
   "metadata": {},
   "source": [
    "# End script"
   ]
  }
 ],
 "metadata": {
  "kernelspec": {
   "display_name": "R",
   "language": "R",
   "name": "ir"
  },
  "language_info": {
   "codemirror_mode": "r",
   "file_extension": ".r",
   "mimetype": "text/x-r-source",
   "name": "R",
   "pygments_lexer": "r",
   "version": "3.5.0"
  }
 },
 "nbformat": 4,
 "nbformat_minor": 2
}

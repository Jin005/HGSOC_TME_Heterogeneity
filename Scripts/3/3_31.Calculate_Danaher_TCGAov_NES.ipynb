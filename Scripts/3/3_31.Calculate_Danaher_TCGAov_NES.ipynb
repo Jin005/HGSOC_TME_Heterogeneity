{
 "cells": [
  {
   "cell_type": "markdown",
   "metadata": {},
   "source": [
    "# Calculate normalised enrichment scores of Danaher gene sets"
   ]
  },
  {
   "cell_type": "markdown",
   "metadata": {},
   "source": [
    "Script related to figure 3b\n",
    "\n",
    "### Aim:\n",
    "- Calculate TCGA NES of Danaher Gene Sets"
   ]
  },
  {
   "cell_type": "code",
   "execution_count": 1,
   "metadata": {},
   "outputs": [
    {
     "data": {
      "text/plain": [
       "R version 3.5.0 (2018-04-23)\n",
       "Platform: x86_64-apple-darwin15.6.0 (64-bit)\n",
       "Running under: macOS High Sierra 10.13.6\n",
       "\n",
       "Matrix products: default\n",
       "BLAS: /Library/Frameworks/R.framework/Versions/3.5/Resources/lib/libRblas.0.dylib\n",
       "LAPACK: /Library/Frameworks/R.framework/Versions/3.5/Resources/lib/libRlapack.dylib\n",
       "\n",
       "locale:\n",
       "[1] C/UTF-8/C/C/C/C\n",
       "\n",
       "attached base packages:\n",
       "[1] stats     graphics  grDevices utils     datasets  methods   base     \n",
       "\n",
       "loaded via a namespace (and not attached):\n",
       " [1] compiler_3.5.0  IRdisplay_0.6.1 pbdZMQ_0.3-3    tools_3.5.0    \n",
       " [5] htmltools_0.3.6 base64enc_0.1-3 crayon_1.3.4    Rcpp_1.0.1     \n",
       " [9] uuid_0.1-2      IRkernel_0.8.14 jsonlite_1.6    digest_0.6.18  \n",
       "[13] repr_0.17       evaluate_0.13  "
      ]
     },
     "metadata": {},
     "output_type": "display_data"
    }
   ],
   "source": [
    "sessionInfo()"
   ]
  },
  {
   "cell_type": "markdown",
   "metadata": {},
   "source": [
    "## Load packages"
   ]
  },
  {
   "cell_type": "code",
   "execution_count": 1,
   "metadata": {},
   "outputs": [
    {
     "name": "stderr",
     "output_type": "stream",
     "text": [
      "Warning message:\n",
      "“package ‘GSVA’ was built under R version 3.5.1”\n",
      "Attaching package: ‘BBmisc’\n",
      "\n",
      "The following object is masked from ‘package:base’:\n",
      "\n",
      "    isFALSE\n",
      "\n"
     ]
    }
   ],
   "source": [
    "library(GSVA)\n",
    "library(BBmisc)\n",
    "library(nortest)"
   ]
  },
  {
   "cell_type": "code",
   "execution_count": 2,
   "metadata": {},
   "outputs": [],
   "source": [
    "setwd(\"~/git_repos/HGSOC_TME_Heterogeneity/Scripts/3/\")"
   ]
  },
  {
   "cell_type": "markdown",
   "metadata": {},
   "source": [
    "## Load expression data"
   ]
  },
  {
   "cell_type": "code",
   "execution_count": null,
   "metadata": {},
   "outputs": [],
   "source": [
    "mix <- \"../../Data/1/TCGAov_RNAseq.txt\""
   ]
  },
  {
   "cell_type": "code",
   "execution_count": 3,
   "metadata": {},
   "outputs": [],
   "source": [
    "data <- read.csv(mix,\n",
    "                 sep='\\t',\n",
    "                 header=T,\n",
    "                 row.names='GeneSymbol')"
   ]
  },
  {
   "cell_type": "code",
   "execution_count": 4,
   "metadata": {},
   "outputs": [
    {
     "data": {
      "text/html": [
       "<table>\n",
       "<thead><tr><th></th><th scope=col>TCGA.04.1348.01</th><th scope=col>TCGA.04.1357.01</th><th scope=col>TCGA.04.1362.01</th><th scope=col>TCGA.04.1364.01</th><th scope=col>TCGA.04.1365.01</th><th scope=col>TCGA.04.1514.01</th><th scope=col>TCGA.04.1519.01</th><th scope=col>TCGA.09.0364.01</th><th scope=col>TCGA.09.0366.01</th><th scope=col>TCGA.09.0367.01</th><th scope=col>⋯</th><th scope=col>TCGA.61.2102.01</th><th scope=col>TCGA.61.2104.01</th><th scope=col>TCGA.61.2109.01</th><th scope=col>TCGA.61.2110.01</th><th scope=col>TCGA.61.2111.01</th><th scope=col>TCGA.61.2113.01</th><th scope=col>TCGA.OY.A56P.01</th><th scope=col>TCGA.OY.A56Q.01</th><th scope=col>TCGA.VG.A8LO.01</th><th scope=col>TCGA.WR.A838.01</th></tr></thead>\n",
       "<tbody>\n",
       "\t<tr><th scope=row>A1BG</th><td>  66.4695 </td><td>  65.5664 </td><td>  41.6412 </td><td> 187.0368 </td><td>  23.9295 </td><td>  32.8123 </td><td>  46.3418 </td><td> 162.8522 </td><td>   88.5518</td><td> 192.7354 </td><td>⋯         </td><td>   63.7012</td><td>  99.1485 </td><td>  38.3684 </td><td> 140.3668 </td><td>  94.7103 </td><td>  70.4394 </td><td>  43.1736 </td><td>   33.6854</td><td>  27.9604 </td><td>  16.2092 </td></tr>\n",
       "\t<tr><th scope=row>A1BG-AS1</th><td>  36.3243 </td><td>  28.1315 </td><td>  23.2465 </td><td> 114.6008 </td><td>  10.4957 </td><td>  20.1900 </td><td>  17.2007 </td><td>  83.0906 </td><td>   65.6758</td><td>  55.1265 </td><td>⋯         </td><td>   30.3602</td><td>  71.1797 </td><td>  26.0239 </td><td>  77.2415 </td><td>  61.4890 </td><td> 106.1623 </td><td>  47.8864 </td><td>   25.3482</td><td>  17.9853 </td><td>  42.9450 </td></tr>\n",
       "\t<tr><th scope=row>A1CF</th><td>   0.0000 </td><td>   0.0000 </td><td>   0.3310 </td><td>   0.0000 </td><td>   0.0000 </td><td>   0.0000 </td><td>   0.0000 </td><td>   0.9034 </td><td>    0.0000</td><td>   0.0000 </td><td>⋯         </td><td>    0.0000</td><td>   0.0000 </td><td>   0.0000 </td><td>   1.9057 </td><td>   0.0000 </td><td>   0.0000 </td><td>   0.0000 </td><td>    0.0000</td><td>   0.0000 </td><td>   0.0000 </td></tr>\n",
       "\t<tr><th scope=row>A2M</th><td>5899.8279 </td><td>9384.4401 </td><td>3350.4207 </td><td>1455.2316 </td><td>3999.3792 </td><td>3224.5797 </td><td>1986.1593 </td><td>1487.3247 </td><td>10557.8325</td><td>4603.9013 </td><td>⋯         </td><td>10264.1373</td><td>7220.7664 </td><td>7200.1144 </td><td>1819.9428 </td><td>6179.7358 </td><td>5365.7972 </td><td>8773.5936 </td><td>10006.7877</td><td>1888.1746 </td><td>4205.6055 </td></tr>\n",
       "\t<tr><th scope=row>A2M-AS1</th><td> 118.4566 </td><td> 111.0026 </td><td>  71.3613 </td><td>  67.8607 </td><td>  52.1501 </td><td> 224.7582 </td><td> 182.0650 </td><td> 120.2838 </td><td>   53.6419</td><td>  92.9112 </td><td>⋯         </td><td>  146.6130</td><td>  45.8648 </td><td>  64.4638 </td><td>  28.5565 </td><td> 100.6605 </td><td>  23.5625 </td><td>  84.2153 </td><td>  582.3492</td><td>  59.8084 </td><td> 143.4910 </td></tr>\n",
       "\t<tr><th scope=row>A2ML1</th><td>   7.5289 </td><td>  54.6875 </td><td>   5.6263 </td><td>   5.0883 </td><td>   3.3148 </td><td>   3.7421 </td><td>   6.2305 </td><td> 278.2486 </td><td>    4.7763</td><td> 653.6058 </td><td>⋯         </td><td>    1.7993</td><td>   4.6124 </td><td>   0.4768 </td><td>  17.1510 </td><td>  15.6109 </td><td>   2.4461 </td><td>  98.3162 </td><td>  269.5768</td><td>   4.5092 </td><td> 224.5290 </td></tr>\n",
       "</tbody>\n",
       "</table>\n"
      ],
      "text/latex": [
       "\\begin{tabular}{r|lllllllllllllllllllllllllllllllllllllllllllllllllllllllllllllllllllllllllllllllllllllllllllllllllllllllllllllllllllllllllllllllllllllllllllllllllllllllllllllllllllllllllllllllllllllllllllllllllllllllllllllllllllllllllllllllllllllllllllllllllllllllllllllllllllllllllllllllllllllllllllllllllllllllllllllllllll}\n",
       "  & TCGA.04.1348.01 & TCGA.04.1357.01 & TCGA.04.1362.01 & TCGA.04.1364.01 & TCGA.04.1365.01 & TCGA.04.1514.01 & TCGA.04.1519.01 & TCGA.09.0364.01 & TCGA.09.0366.01 & TCGA.09.0367.01 & ⋯ & TCGA.61.2102.01 & TCGA.61.2104.01 & TCGA.61.2109.01 & TCGA.61.2110.01 & TCGA.61.2111.01 & TCGA.61.2113.01 & TCGA.OY.A56P.01 & TCGA.OY.A56Q.01 & TCGA.VG.A8LO.01 & TCGA.WR.A838.01\\\\\n",
       "\\hline\n",
       "\tA1BG &   66.4695  &   65.5664  &   41.6412  &  187.0368  &   23.9295  &   32.8123  &   46.3418  &  162.8522  &    88.5518 &  192.7354  & ⋯          &    63.7012 &   99.1485  &   38.3684  &  140.3668  &   94.7103  &   70.4394  &   43.1736  &    33.6854 &   27.9604  &   16.2092 \\\\\n",
       "\tA1BG-AS1 &   36.3243  &   28.1315  &   23.2465  &  114.6008  &   10.4957  &   20.1900  &   17.2007  &   83.0906  &    65.6758 &   55.1265  & ⋯          &    30.3602 &   71.1797  &   26.0239  &   77.2415  &   61.4890  &  106.1623  &   47.8864  &    25.3482 &   17.9853  &   42.9450 \\\\\n",
       "\tA1CF &    0.0000  &    0.0000  &    0.3310  &    0.0000  &    0.0000  &    0.0000  &    0.0000  &    0.9034  &     0.0000 &    0.0000  & ⋯          &     0.0000 &    0.0000  &    0.0000  &    1.9057  &    0.0000  &    0.0000  &    0.0000  &     0.0000 &    0.0000  &    0.0000 \\\\\n",
       "\tA2M & 5899.8279  & 9384.4401  & 3350.4207  & 1455.2316  & 3999.3792  & 3224.5797  & 1986.1593  & 1487.3247  & 10557.8325 & 4603.9013  & ⋯          & 10264.1373 & 7220.7664  & 7200.1144  & 1819.9428  & 6179.7358  & 5365.7972  & 8773.5936  & 10006.7877 & 1888.1746  & 4205.6055 \\\\\n",
       "\tA2M-AS1 &  118.4566  &  111.0026  &   71.3613  &   67.8607  &   52.1501  &  224.7582  &  182.0650  &  120.2838  &    53.6419 &   92.9112  & ⋯          &   146.6130 &   45.8648  &   64.4638  &   28.5565  &  100.6605  &   23.5625  &   84.2153  &   582.3492 &   59.8084  &  143.4910 \\\\\n",
       "\tA2ML1 &    7.5289  &   54.6875  &    5.6263  &    5.0883  &    3.3148  &    3.7421  &    6.2305  &  278.2486  &     4.7763 &  653.6058  & ⋯          &     1.7993 &    4.6124  &    0.4768  &   17.1510  &   15.6109  &    2.4461  &   98.3162  &   269.5768 &    4.5092  &  224.5290 \\\\\n",
       "\\end{tabular}\n"
      ],
      "text/markdown": [
       "\n",
       "| <!--/--> | TCGA.04.1348.01 | TCGA.04.1357.01 | TCGA.04.1362.01 | TCGA.04.1364.01 | TCGA.04.1365.01 | TCGA.04.1514.01 | TCGA.04.1519.01 | TCGA.09.0364.01 | TCGA.09.0366.01 | TCGA.09.0367.01 | ⋯ | TCGA.61.2102.01 | TCGA.61.2104.01 | TCGA.61.2109.01 | TCGA.61.2110.01 | TCGA.61.2111.01 | TCGA.61.2113.01 | TCGA.OY.A56P.01 | TCGA.OY.A56Q.01 | TCGA.VG.A8LO.01 | TCGA.WR.A838.01 | \n",
       "|---|---|---|---|---|---|\n",
       "| A1BG |   66.4695  |   65.5664  |   41.6412  |  187.0368  |   23.9295  |   32.8123  |   46.3418  |  162.8522  |    88.5518 |  192.7354  | ⋯          |    63.7012 |   99.1485  |   38.3684  |  140.3668  |   94.7103  |   70.4394  |   43.1736  |    33.6854 |   27.9604  |   16.2092  | \n",
       "| A1BG-AS1 |   36.3243  |   28.1315  |   23.2465  |  114.6008  |   10.4957  |   20.1900  |   17.2007  |   83.0906  |    65.6758 |   55.1265  | ⋯          |    30.3602 |   71.1797  |   26.0239  |   77.2415  |   61.4890  |  106.1623  |   47.8864  |    25.3482 |   17.9853  |   42.9450  | \n",
       "| A1CF |    0.0000  |    0.0000  |    0.3310  |    0.0000  |    0.0000  |    0.0000  |    0.0000  |    0.9034  |     0.0000 |    0.0000  | ⋯          |     0.0000 |    0.0000  |    0.0000  |    1.9057  |    0.0000  |    0.0000  |    0.0000  |     0.0000 |    0.0000  |    0.0000  | \n",
       "| A2M | 5899.8279  | 9384.4401  | 3350.4207  | 1455.2316  | 3999.3792  | 3224.5797  | 1986.1593  | 1487.3247  | 10557.8325 | 4603.9013  | ⋯          | 10264.1373 | 7220.7664  | 7200.1144  | 1819.9428  | 6179.7358  | 5365.7972  | 8773.5936  | 10006.7877 | 1888.1746  | 4205.6055  | \n",
       "| A2M-AS1 |  118.4566  |  111.0026  |   71.3613  |   67.8607  |   52.1501  |  224.7582  |  182.0650  |  120.2838  |    53.6419 |   92.9112  | ⋯          |   146.6130 |   45.8648  |   64.4638  |   28.5565  |  100.6605  |   23.5625  |   84.2153  |   582.3492 |   59.8084  |  143.4910  | \n",
       "| A2ML1 |    7.5289  |   54.6875  |    5.6263  |    5.0883  |    3.3148  |    3.7421  |    6.2305  |  278.2486  |     4.7763 |  653.6058  | ⋯          |     1.7993 |    4.6124  |    0.4768  |   17.1510  |   15.6109  |    2.4461  |   98.3162  |   269.5768 |    4.5092  |  224.5290  | \n",
       "\n",
       "\n"
      ],
      "text/plain": [
       "         TCGA.04.1348.01 TCGA.04.1357.01 TCGA.04.1362.01 TCGA.04.1364.01\n",
       "A1BG       66.4695         65.5664         41.6412        187.0368      \n",
       "A1BG-AS1   36.3243         28.1315         23.2465        114.6008      \n",
       "A1CF        0.0000          0.0000          0.3310          0.0000      \n",
       "A2M      5899.8279       9384.4401       3350.4207       1455.2316      \n",
       "A2M-AS1   118.4566        111.0026         71.3613         67.8607      \n",
       "A2ML1       7.5289         54.6875          5.6263          5.0883      \n",
       "         TCGA.04.1365.01 TCGA.04.1514.01 TCGA.04.1519.01 TCGA.09.0364.01\n",
       "A1BG       23.9295         32.8123         46.3418        162.8522      \n",
       "A1BG-AS1   10.4957         20.1900         17.2007         83.0906      \n",
       "A1CF        0.0000          0.0000          0.0000          0.9034      \n",
       "A2M      3999.3792       3224.5797       1986.1593       1487.3247      \n",
       "A2M-AS1    52.1501        224.7582        182.0650        120.2838      \n",
       "A2ML1       3.3148          3.7421          6.2305        278.2486      \n",
       "         TCGA.09.0366.01 TCGA.09.0367.01 ⋯ TCGA.61.2102.01 TCGA.61.2104.01\n",
       "A1BG        88.5518       192.7354       ⋯    63.7012        99.1485      \n",
       "A1BG-AS1    65.6758        55.1265       ⋯    30.3602        71.1797      \n",
       "A1CF         0.0000         0.0000       ⋯     0.0000         0.0000      \n",
       "A2M      10557.8325      4603.9013       ⋯ 10264.1373      7220.7664      \n",
       "A2M-AS1     53.6419        92.9112       ⋯   146.6130        45.8648      \n",
       "A2ML1        4.7763       653.6058       ⋯     1.7993         4.6124      \n",
       "         TCGA.61.2109.01 TCGA.61.2110.01 TCGA.61.2111.01 TCGA.61.2113.01\n",
       "A1BG       38.3684        140.3668         94.7103         70.4394      \n",
       "A1BG-AS1   26.0239         77.2415         61.4890        106.1623      \n",
       "A1CF        0.0000          1.9057          0.0000          0.0000      \n",
       "A2M      7200.1144       1819.9428       6179.7358       5365.7972      \n",
       "A2M-AS1    64.4638         28.5565        100.6605         23.5625      \n",
       "A2ML1       0.4768         17.1510         15.6109          2.4461      \n",
       "         TCGA.OY.A56P.01 TCGA.OY.A56Q.01 TCGA.VG.A8LO.01 TCGA.WR.A838.01\n",
       "A1BG       43.1736          33.6854        27.9604         16.2092      \n",
       "A1BG-AS1   47.8864          25.3482        17.9853         42.9450      \n",
       "A1CF        0.0000           0.0000         0.0000          0.0000      \n",
       "A2M      8773.5936       10006.7877      1888.1746       4205.6055      \n",
       "A2M-AS1    84.2153         582.3492        59.8084        143.4910      \n",
       "A2ML1      98.3162         269.5768         4.5092        224.5290      "
      ]
     },
     "metadata": {},
     "output_type": "display_data"
    }
   ],
   "source": [
    "head(data)"
   ]
  },
  {
   "cell_type": "code",
   "execution_count": 5,
   "metadata": {},
   "outputs": [],
   "source": [
    "data_mtx <- as.matrix(data)"
   ]
  },
  {
   "cell_type": "markdown",
   "metadata": {},
   "source": [
    "## Load Danaher gene sets"
   ]
  },
  {
   "cell_type": "code",
   "execution_count": 6,
   "metadata": {},
   "outputs": [],
   "source": [
    "Danaher_GeneSets <- read.csv('../../Data/3/DanaherImmuneCells_GeneSets.txt',\n",
    "                             sep='\\t',\n",
    "                             header=T)"
   ]
  },
  {
   "cell_type": "code",
   "execution_count": 7,
   "metadata": {},
   "outputs": [
    {
     "data": {
      "text/html": [
       "<table>\n",
       "<thead><tr><th scope=col>B.cells</th><th scope=col>CD45</th><th scope=col>CD8.T.cells</th><th scope=col>Cytotoxic.cells</th><th scope=col>DC</th><th scope=col>Exhausted.CD8</th><th scope=col>Macrophages</th><th scope=col>Mast.cells</th><th scope=col>Neutrophils</th><th scope=col>NK.CD56dim.cells</th><th scope=col>NK.cells</th><th scope=col>T.cells</th><th scope=col>Th1.cells</th><th scope=col>Treg</th></tr></thead>\n",
       "<tbody>\n",
       "\t<tr><td>BLK     </td><td>PTPRC   </td><td>CD8A    </td><td>CTSW    </td><td>CCL13   </td><td>CD244   </td><td>CD163   </td><td>MS4A2   </td><td>CSF3R   </td><td>IL21R   </td><td>NCR1    </td><td>CD3D    </td><td>TBX21   </td><td>FOXP3   </td></tr>\n",
       "\t<tr><td>CD19    </td><td>        </td><td>CD8B    </td><td>GNLY    </td><td>CD209   </td><td>EOMES   </td><td>CD68    </td><td>TPSAB1  </td><td>S100A12 </td><td>KIR2DL3 </td><td>XCL2    </td><td>CD3E    </td><td>        </td><td>        </td></tr>\n",
       "\t<tr><td>MS4A1   </td><td>        </td><td>        </td><td>GZMA    </td><td>HSD11B1 </td><td>LAG3    </td><td>CD84    </td><td>CPA3    </td><td>CEACAM3 </td><td>KIR3DL1 </td><td>XCL1    </td><td>CD3G    </td><td>        </td><td>        </td></tr>\n",
       "\t<tr><td>TNFRSF17</td><td>        </td><td>        </td><td>GZMB    </td><td>        </td><td>PTGER4  </td><td>MS4A4A  </td><td>HDC     </td><td>FCAR    </td><td>KIR3DL2 </td><td>        </td><td>CD6     </td><td>        </td><td>        </td></tr>\n",
       "\t<tr><td>FCRL2   </td><td>        </td><td>        </td><td>GZMH    </td><td>        </td><td>        </td><td>        </td><td>TPSB2   </td><td>FCGR3B  </td><td>        </td><td>        </td><td>SH2D1A  </td><td>        </td><td>        </td></tr>\n",
       "\t<tr><td>KIAA0125</td><td>        </td><td>        </td><td>KLRB1   </td><td>        </td><td>        </td><td>        </td><td>        </td><td>FPR1    </td><td>        </td><td>        </td><td>TRAT1   </td><td>        </td><td>        </td></tr>\n",
       "</tbody>\n",
       "</table>\n"
      ],
      "text/latex": [
       "\\begin{tabular}{r|llllllllllllll}\n",
       " B.cells & CD45 & CD8.T.cells & Cytotoxic.cells & DC & Exhausted.CD8 & Macrophages & Mast.cells & Neutrophils & NK.CD56dim.cells & NK.cells & T.cells & Th1.cells & Treg\\\\\n",
       "\\hline\n",
       "\t BLK      & PTPRC    & CD8A     & CTSW     & CCL13    & CD244    & CD163    & MS4A2    & CSF3R    & IL21R    & NCR1     & CD3D     & TBX21    & FOXP3   \\\\\n",
       "\t CD19     &          & CD8B     & GNLY     & CD209    & EOMES    & CD68     & TPSAB1   & S100A12  & KIR2DL3  & XCL2     & CD3E     &          &         \\\\\n",
       "\t MS4A1    &          &          & GZMA     & HSD11B1  & LAG3     & CD84     & CPA3     & CEACAM3  & KIR3DL1  & XCL1     & CD3G     &          &         \\\\\n",
       "\t TNFRSF17 &          &          & GZMB     &          & PTGER4   & MS4A4A   & HDC      & FCAR     & KIR3DL2  &          & CD6      &          &         \\\\\n",
       "\t FCRL2    &          &          & GZMH     &          &          &          & TPSB2    & FCGR3B   &          &          & SH2D1A   &          &         \\\\\n",
       "\t KIAA0125 &          &          & KLRB1    &          &          &          &          & FPR1     &          &          & TRAT1    &          &         \\\\\n",
       "\\end{tabular}\n"
      ],
      "text/markdown": [
       "\n",
       "B.cells | CD45 | CD8.T.cells | Cytotoxic.cells | DC | Exhausted.CD8 | Macrophages | Mast.cells | Neutrophils | NK.CD56dim.cells | NK.cells | T.cells | Th1.cells | Treg | \n",
       "|---|---|---|---|---|---|\n",
       "| BLK      | PTPRC    | CD8A     | CTSW     | CCL13    | CD244    | CD163    | MS4A2    | CSF3R    | IL21R    | NCR1     | CD3D     | TBX21    | FOXP3    | \n",
       "| CD19     |          | CD8B     | GNLY     | CD209    | EOMES    | CD68     | TPSAB1   | S100A12  | KIR2DL3  | XCL2     | CD3E     |          |          | \n",
       "| MS4A1    |          |          | GZMA     | HSD11B1  | LAG3     | CD84     | CPA3     | CEACAM3  | KIR3DL1  | XCL1     | CD3G     |          |          | \n",
       "| TNFRSF17 |          |          | GZMB     |          | PTGER4   | MS4A4A   | HDC      | FCAR     | KIR3DL2  |          | CD6      |          |          | \n",
       "| FCRL2    |          |          | GZMH     |          |          |          | TPSB2    | FCGR3B   |          |          | SH2D1A   |          |          | \n",
       "| KIAA0125 |          |          | KLRB1    |          |          |          |          | FPR1     |          |          | TRAT1    |          |          | \n",
       "\n",
       "\n"
      ],
      "text/plain": [
       "  B.cells  CD45  CD8.T.cells Cytotoxic.cells DC      Exhausted.CD8 Macrophages\n",
       "1 BLK      PTPRC CD8A        CTSW            CCL13   CD244         CD163      \n",
       "2 CD19           CD8B        GNLY            CD209   EOMES         CD68       \n",
       "3 MS4A1                      GZMA            HSD11B1 LAG3          CD84       \n",
       "4 TNFRSF17                   GZMB                    PTGER4        MS4A4A     \n",
       "5 FCRL2                      GZMH                                             \n",
       "6 KIAA0125                   KLRB1                                            \n",
       "  Mast.cells Neutrophils NK.CD56dim.cells NK.cells T.cells Th1.cells Treg \n",
       "1 MS4A2      CSF3R       IL21R            NCR1     CD3D    TBX21     FOXP3\n",
       "2 TPSAB1     S100A12     KIR2DL3          XCL2     CD3E                   \n",
       "3 CPA3       CEACAM3     KIR3DL1          XCL1     CD3G                   \n",
       "4 HDC        FCAR        KIR3DL2                   CD6                    \n",
       "5 TPSB2      FCGR3B                                SH2D1A                 \n",
       "6            FPR1                                  TRAT1                  "
      ]
     },
     "metadata": {},
     "output_type": "display_data"
    }
   ],
   "source": [
    "head(Danaher_GeneSets)"
   ]
  },
  {
   "cell_type": "code",
   "execution_count": 8,
   "metadata": {},
   "outputs": [],
   "source": [
    "Danaher_GeneSets <- convertRowsToList(t(Danaher_GeneSets))"
   ]
  },
  {
   "cell_type": "markdown",
   "metadata": {},
   "source": [
    "## Run ssGSEA"
   ]
  },
  {
   "cell_type": "code",
   "execution_count": 9,
   "metadata": {},
   "outputs": [
    {
     "name": "stderr",
     "output_type": "stream",
     "text": [
      "Warning message in .local(expr, gset.idx.list, ...):\n",
      "“338 genes with constant expression values throuhgout the samples.”"
     ]
    },
    {
     "name": "stdout",
     "output_type": "stream",
     "text": [
      "Estimating ssGSEA scores for 14 gene sets.\n",
      "  |                                                                      |   0%Using parallel with 4 cores\n",
      "  |======================================================================| 100%\n"
     ]
    }
   ],
   "source": [
    "dan_NES <- gsva(data_mtx,\n",
    "                Danaher_GeneSets,\n",
    "                method='ssgsea',\n",
    "                min.sz=0,\n",
    "                max.sz=1000,\n",
    "                ssgsea.norm=T)"
   ]
  },
  {
   "cell_type": "code",
   "execution_count": 10,
   "metadata": {},
   "outputs": [],
   "source": [
    "dan_NES <- data.frame(\"Term\"=rownames(dan_NES),\n",
    "                      dan_NES)\n",
    "\n",
    "rownames(dan_NES) <- NULL"
   ]
  },
  {
   "cell_type": "code",
   "execution_count": 11,
   "metadata": {},
   "outputs": [
    {
     "data": {
      "text/html": [
       "<table>\n",
       "<thead><tr><th scope=col>Term</th><th scope=col>TCGA.04.1348.01</th><th scope=col>TCGA.04.1357.01</th><th scope=col>TCGA.04.1362.01</th><th scope=col>TCGA.04.1364.01</th><th scope=col>TCGA.04.1365.01</th><th scope=col>TCGA.04.1514.01</th><th scope=col>TCGA.04.1519.01</th><th scope=col>TCGA.09.0364.01</th><th scope=col>TCGA.09.0366.01</th><th scope=col>⋯</th><th scope=col>TCGA.61.2102.01</th><th scope=col>TCGA.61.2104.01</th><th scope=col>TCGA.61.2109.01</th><th scope=col>TCGA.61.2110.01</th><th scope=col>TCGA.61.2111.01</th><th scope=col>TCGA.61.2113.01</th><th scope=col>TCGA.OY.A56P.01</th><th scope=col>TCGA.OY.A56Q.01</th><th scope=col>TCGA.VG.A8LO.01</th><th scope=col>TCGA.WR.A838.01</th></tr></thead>\n",
       "<tbody>\n",
       "\t<tr><td>B.cells        </td><td>-0.213771868   </td><td>-0.08940436    </td><td>-0.343641848   </td><td>-0.1893439     </td><td>-0.23129310    </td><td>-0.2873839     </td><td>-0.2200140     </td><td>-0.3480379     </td><td>-0.33877468    </td><td>⋯              </td><td>-0.341824823   </td><td>-0.1768512     </td><td>-0.16194461    </td><td>-0.11755471    </td><td>-0.18095568    </td><td>-0.23100966    </td><td>-0.2574459     </td><td>-0.3009135     </td><td>-0.25201020    </td><td>-0.2935001     </td></tr>\n",
       "\t<tr><td>CD45           </td><td> 0.237833263   </td><td> 0.42271477    </td><td> 0.006612357   </td><td>-0.2482014     </td><td> 0.17573000    </td><td>-0.2068874     </td><td>-0.1653089     </td><td>-0.2396847     </td><td> 0.31696995    </td><td>⋯              </td><td> 0.010526873   </td><td> 0.2230216     </td><td> 0.08691282    </td><td>-0.03057554    </td><td> 0.16647270    </td><td> 0.22720059    </td><td>-0.1511320     </td><td>-0.1361617     </td><td>-0.08924037    </td><td>-0.2201121     </td></tr>\n",
       "\t<tr><td>CD8.T.cells    </td><td> 0.038573990   </td><td> 0.23643827    </td><td>-0.226109820   </td><td>-0.2394391     </td><td>-0.02170060    </td><td>-0.2229383     </td><td>-0.2539014     </td><td>-0.2649932     </td><td>-0.14371555    </td><td>⋯              </td><td>-0.209541112   </td><td>-0.1471957     </td><td>-0.20819160    </td><td>-0.27474502    </td><td>-0.07453824    </td><td>-0.13273094    </td><td>-0.2388512     </td><td>-0.2670440     </td><td>-0.22388449    </td><td>-0.2727810     </td></tr>\n",
       "\t<tr><td>Cytotoxic.cells</td><td>-0.004140244   </td><td> 0.07281704    </td><td>-0.209049699   </td><td>-0.3349683     </td><td>-0.03764848    </td><td>-0.3387267     </td><td>-0.2523178     </td><td>-0.3662480     </td><td>-0.16691094    </td><td>⋯              </td><td>-0.285398898   </td><td>-0.1534489     </td><td>-0.14751043    </td><td>-0.23587506    </td><td>-0.17941478    </td><td>-0.17689138    </td><td>-0.3563356     </td><td>-0.3311566     </td><td>-0.22302406    </td><td>-0.3592876     </td></tr>\n",
       "\t<tr><td>DC             </td><td>-0.136734293   </td><td>-0.14755621    </td><td>-0.232154900   </td><td>-0.2631513     </td><td>-0.18063379    </td><td>-0.2249112     </td><td>-0.1992590     </td><td>-0.2168254     </td><td>-0.23532651    </td><td>⋯              </td><td> 0.001286832   </td><td>-0.1382849     </td><td>-0.19356849    </td><td>-0.17074381    </td><td>-0.20615901    </td><td>-0.06518246    </td><td>-0.3101320     </td><td>-0.2962973     </td><td>-0.32487374    </td><td>-0.2708916     </td></tr>\n",
       "\t<tr><td>Exhausted.CD8  </td><td>-0.062459317   </td><td> 0.03239466    </td><td>-0.209199849   </td><td>-0.3106540     </td><td>-0.03781317    </td><td>-0.2521386     </td><td>-0.2443495     </td><td>-0.2861368     </td><td>-0.05061062    </td><td>⋯              </td><td>-0.227463099   </td><td>-0.1089329     </td><td>-0.19558487    </td><td>-0.23015889    </td><td>-0.17268619    </td><td>-0.09331210    </td><td>-0.1974754     </td><td>-0.1833277     </td><td>-0.23594305    </td><td>-0.2300015     </td></tr>\n",
       "</tbody>\n",
       "</table>\n"
      ],
      "text/latex": [
       "\\begin{tabular}{r|llllllllllllllllllllllllllllllllllllllllllllllllllllllllllllllllllllllllllllllllllllllllllllllllllllllllllllllllllllllllllllllllllllllllllllllllllllllllllllllllllllllllllllllllllllllllllllllllllllllllllllllllllllllllllllllllllllllllllllllllllllllllllllllllllllllllllllllllllllllllllllllllllllllllllllllllllll}\n",
       " Term & TCGA.04.1348.01 & TCGA.04.1357.01 & TCGA.04.1362.01 & TCGA.04.1364.01 & TCGA.04.1365.01 & TCGA.04.1514.01 & TCGA.04.1519.01 & TCGA.09.0364.01 & TCGA.09.0366.01 & ⋯ & TCGA.61.2102.01 & TCGA.61.2104.01 & TCGA.61.2109.01 & TCGA.61.2110.01 & TCGA.61.2111.01 & TCGA.61.2113.01 & TCGA.OY.A56P.01 & TCGA.OY.A56Q.01 & TCGA.VG.A8LO.01 & TCGA.WR.A838.01\\\\\n",
       "\\hline\n",
       "\t B.cells         & -0.213771868    & -0.08940436     & -0.343641848    & -0.1893439      & -0.23129310     & -0.2873839      & -0.2200140      & -0.3480379      & -0.33877468     & ⋯               & -0.341824823    & -0.1768512      & -0.16194461     & -0.11755471     & -0.18095568     & -0.23100966     & -0.2574459      & -0.3009135      & -0.25201020     & -0.2935001     \\\\\n",
       "\t CD45            &  0.237833263    &  0.42271477     &  0.006612357    & -0.2482014      &  0.17573000     & -0.2068874      & -0.1653089      & -0.2396847      &  0.31696995     & ⋯               &  0.010526873    &  0.2230216      &  0.08691282     & -0.03057554     &  0.16647270     &  0.22720059     & -0.1511320      & -0.1361617      & -0.08924037     & -0.2201121     \\\\\n",
       "\t CD8.T.cells     &  0.038573990    &  0.23643827     & -0.226109820    & -0.2394391      & -0.02170060     & -0.2229383      & -0.2539014      & -0.2649932      & -0.14371555     & ⋯               & -0.209541112    & -0.1471957      & -0.20819160     & -0.27474502     & -0.07453824     & -0.13273094     & -0.2388512      & -0.2670440      & -0.22388449     & -0.2727810     \\\\\n",
       "\t Cytotoxic.cells & -0.004140244    &  0.07281704     & -0.209049699    & -0.3349683      & -0.03764848     & -0.3387267      & -0.2523178      & -0.3662480      & -0.16691094     & ⋯               & -0.285398898    & -0.1534489      & -0.14751043     & -0.23587506     & -0.17941478     & -0.17689138     & -0.3563356      & -0.3311566      & -0.22302406     & -0.3592876     \\\\\n",
       "\t DC              & -0.136734293    & -0.14755621     & -0.232154900    & -0.2631513      & -0.18063379     & -0.2249112      & -0.1992590      & -0.2168254      & -0.23532651     & ⋯               &  0.001286832    & -0.1382849      & -0.19356849     & -0.17074381     & -0.20615901     & -0.06518246     & -0.3101320      & -0.2962973      & -0.32487374     & -0.2708916     \\\\\n",
       "\t Exhausted.CD8   & -0.062459317    &  0.03239466     & -0.209199849    & -0.3106540      & -0.03781317     & -0.2521386      & -0.2443495      & -0.2861368      & -0.05061062     & ⋯               & -0.227463099    & -0.1089329      & -0.19558487     & -0.23015889     & -0.17268619     & -0.09331210     & -0.1974754      & -0.1833277      & -0.23594305     & -0.2300015     \\\\\n",
       "\\end{tabular}\n"
      ],
      "text/markdown": [
       "\n",
       "Term | TCGA.04.1348.01 | TCGA.04.1357.01 | TCGA.04.1362.01 | TCGA.04.1364.01 | TCGA.04.1365.01 | TCGA.04.1514.01 | TCGA.04.1519.01 | TCGA.09.0364.01 | TCGA.09.0366.01 | ⋯ | TCGA.61.2102.01 | TCGA.61.2104.01 | TCGA.61.2109.01 | TCGA.61.2110.01 | TCGA.61.2111.01 | TCGA.61.2113.01 | TCGA.OY.A56P.01 | TCGA.OY.A56Q.01 | TCGA.VG.A8LO.01 | TCGA.WR.A838.01 | \n",
       "|---|---|---|---|---|---|\n",
       "| B.cells         | -0.213771868    | -0.08940436     | -0.343641848    | -0.1893439      | -0.23129310     | -0.2873839      | -0.2200140      | -0.3480379      | -0.33877468     | ⋯               | -0.341824823    | -0.1768512      | -0.16194461     | -0.11755471     | -0.18095568     | -0.23100966     | -0.2574459      | -0.3009135      | -0.25201020     | -0.2935001      | \n",
       "| CD45            |  0.237833263    |  0.42271477     |  0.006612357    | -0.2482014      |  0.17573000     | -0.2068874      | -0.1653089      | -0.2396847      |  0.31696995     | ⋯               |  0.010526873    |  0.2230216      |  0.08691282     | -0.03057554     |  0.16647270     |  0.22720059     | -0.1511320      | -0.1361617      | -0.08924037     | -0.2201121      | \n",
       "| CD8.T.cells     |  0.038573990    |  0.23643827     | -0.226109820    | -0.2394391      | -0.02170060     | -0.2229383      | -0.2539014      | -0.2649932      | -0.14371555     | ⋯               | -0.209541112    | -0.1471957      | -0.20819160     | -0.27474502     | -0.07453824     | -0.13273094     | -0.2388512      | -0.2670440      | -0.22388449     | -0.2727810      | \n",
       "| Cytotoxic.cells | -0.004140244    |  0.07281704     | -0.209049699    | -0.3349683      | -0.03764848     | -0.3387267      | -0.2523178      | -0.3662480      | -0.16691094     | ⋯               | -0.285398898    | -0.1534489      | -0.14751043     | -0.23587506     | -0.17941478     | -0.17689138     | -0.3563356      | -0.3311566      | -0.22302406     | -0.3592876      | \n",
       "| DC              | -0.136734293    | -0.14755621     | -0.232154900    | -0.2631513      | -0.18063379     | -0.2249112      | -0.1992590      | -0.2168254      | -0.23532651     | ⋯               |  0.001286832    | -0.1382849      | -0.19356849     | -0.17074381     | -0.20615901     | -0.06518246     | -0.3101320      | -0.2962973      | -0.32487374     | -0.2708916      | \n",
       "| Exhausted.CD8   | -0.062459317    |  0.03239466     | -0.209199849    | -0.3106540      | -0.03781317     | -0.2521386      | -0.2443495      | -0.2861368      | -0.05061062     | ⋯               | -0.227463099    | -0.1089329      | -0.19558487     | -0.23015889     | -0.17268619     | -0.09331210     | -0.1974754      | -0.1833277      | -0.23594305     | -0.2300015      | \n",
       "\n",
       "\n"
      ],
      "text/plain": [
       "  Term            TCGA.04.1348.01 TCGA.04.1357.01 TCGA.04.1362.01\n",
       "1 B.cells         -0.213771868    -0.08940436     -0.343641848   \n",
       "2 CD45             0.237833263     0.42271477      0.006612357   \n",
       "3 CD8.T.cells      0.038573990     0.23643827     -0.226109820   \n",
       "4 Cytotoxic.cells -0.004140244     0.07281704     -0.209049699   \n",
       "5 DC              -0.136734293    -0.14755621     -0.232154900   \n",
       "6 Exhausted.CD8   -0.062459317     0.03239466     -0.209199849   \n",
       "  TCGA.04.1364.01 TCGA.04.1365.01 TCGA.04.1514.01 TCGA.04.1519.01\n",
       "1 -0.1893439      -0.23129310     -0.2873839      -0.2200140     \n",
       "2 -0.2482014       0.17573000     -0.2068874      -0.1653089     \n",
       "3 -0.2394391      -0.02170060     -0.2229383      -0.2539014     \n",
       "4 -0.3349683      -0.03764848     -0.3387267      -0.2523178     \n",
       "5 -0.2631513      -0.18063379     -0.2249112      -0.1992590     \n",
       "6 -0.3106540      -0.03781317     -0.2521386      -0.2443495     \n",
       "  TCGA.09.0364.01 TCGA.09.0366.01 ⋯ TCGA.61.2102.01 TCGA.61.2104.01\n",
       "1 -0.3480379      -0.33877468     ⋯ -0.341824823    -0.1768512     \n",
       "2 -0.2396847       0.31696995     ⋯  0.010526873     0.2230216     \n",
       "3 -0.2649932      -0.14371555     ⋯ -0.209541112    -0.1471957     \n",
       "4 -0.3662480      -0.16691094     ⋯ -0.285398898    -0.1534489     \n",
       "5 -0.2168254      -0.23532651     ⋯  0.001286832    -0.1382849     \n",
       "6 -0.2861368      -0.05061062     ⋯ -0.227463099    -0.1089329     \n",
       "  TCGA.61.2109.01 TCGA.61.2110.01 TCGA.61.2111.01 TCGA.61.2113.01\n",
       "1 -0.16194461     -0.11755471     -0.18095568     -0.23100966    \n",
       "2  0.08691282     -0.03057554      0.16647270      0.22720059    \n",
       "3 -0.20819160     -0.27474502     -0.07453824     -0.13273094    \n",
       "4 -0.14751043     -0.23587506     -0.17941478     -0.17689138    \n",
       "5 -0.19356849     -0.17074381     -0.20615901     -0.06518246    \n",
       "6 -0.19558487     -0.23015889     -0.17268619     -0.09331210    \n",
       "  TCGA.OY.A56P.01 TCGA.OY.A56Q.01 TCGA.VG.A8LO.01 TCGA.WR.A838.01\n",
       "1 -0.2574459      -0.3009135      -0.25201020     -0.2935001     \n",
       "2 -0.1511320      -0.1361617      -0.08924037     -0.2201121     \n",
       "3 -0.2388512      -0.2670440      -0.22388449     -0.2727810     \n",
       "4 -0.3563356      -0.3311566      -0.22302406     -0.3592876     \n",
       "5 -0.3101320      -0.2962973      -0.32487374     -0.2708916     \n",
       "6 -0.1974754      -0.1833277      -0.23594305     -0.2300015     "
      ]
     },
     "metadata": {},
     "output_type": "display_data"
    }
   ],
   "source": [
    "head(dan_NES)"
   ]
  },
  {
   "cell_type": "code",
   "execution_count": 12,
   "metadata": {},
   "outputs": [],
   "source": [
    "write.table(dan_NES,\n",
    "            file='../../Data/3/DanaherImmuneCells_TCGAov_NES.txt',\n",
    "            sep='\\t',\n",
    "            row.names=F,\n",
    "            col.names=T)"
   ]
  },
  {
   "cell_type": "markdown",
   "metadata": {},
   "source": [
    "# End script"
   ]
  }
 ],
 "metadata": {
  "kernelspec": {
   "display_name": "R",
   "language": "R",
   "name": "ir"
  },
  "language_info": {
   "codemirror_mode": "r",
   "file_extension": ".r",
   "mimetype": "text/x-r-source",
   "name": "R",
   "pygments_lexer": "r",
   "version": "3.5.0"
  }
 },
 "nbformat": 4,
 "nbformat_minor": 2
}

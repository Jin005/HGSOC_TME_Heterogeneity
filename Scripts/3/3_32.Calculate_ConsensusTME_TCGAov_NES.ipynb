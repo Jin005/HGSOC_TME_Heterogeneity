{
 "cells": [
  {
   "cell_type": "markdown",
   "metadata": {},
   "source": [
    "# Calculate normalised enrichment scores of ConsensusTME gene sets"
   ]
  },
  {
   "cell_type": "markdown",
   "metadata": {},
   "source": [
    "Script related to figure 3b\n",
    "\n",
    "### Aim:\n",
    "- Calculate TCGA OV NES of ConsensusTME Gene Sets"
   ]
  },
  {
   "cell_type": "code",
   "execution_count": 1,
   "metadata": {},
   "outputs": [
    {
     "data": {
      "text/plain": [
       "R version 3.5.0 (2018-04-23)\n",
       "Platform: x86_64-apple-darwin15.6.0 (64-bit)\n",
       "Running under: macOS High Sierra 10.13.6\n",
       "\n",
       "Matrix products: default\n",
       "BLAS: /Library/Frameworks/R.framework/Versions/3.5/Resources/lib/libRblas.0.dylib\n",
       "LAPACK: /Library/Frameworks/R.framework/Versions/3.5/Resources/lib/libRlapack.dylib\n",
       "\n",
       "locale:\n",
       "[1] C/UTF-8/C/C/C/C\n",
       "\n",
       "attached base packages:\n",
       "[1] stats     graphics  grDevices utils     datasets  methods   base     \n",
       "\n",
       "loaded via a namespace (and not attached):\n",
       " [1] compiler_3.5.0  IRdisplay_0.6.1 pbdZMQ_0.3-3    tools_3.5.0    \n",
       " [5] htmltools_0.3.6 base64enc_0.1-3 crayon_1.3.4    Rcpp_1.0.1     \n",
       " [9] uuid_0.1-2      IRkernel_0.8.14 jsonlite_1.6    digest_0.6.18  \n",
       "[13] repr_0.17       evaluate_0.13  "
      ]
     },
     "metadata": {},
     "output_type": "display_data"
    }
   ],
   "source": [
    "sessionInfo()"
   ]
  },
  {
   "cell_type": "markdown",
   "metadata": {},
   "source": [
    "## Load packages"
   ]
  },
  {
   "cell_type": "code",
   "execution_count": 1,
   "metadata": {},
   "outputs": [
    {
     "name": "stderr",
     "output_type": "stream",
     "text": [
      "Warning message:\n",
      "“package ‘GSVA’ was built under R version 3.5.1”\n",
      "Attaching package: ‘BBmisc’\n",
      "\n",
      "The following object is masked from ‘package:base’:\n",
      "\n",
      "    isFALSE\n",
      "\n"
     ]
    }
   ],
   "source": [
    "library(GSVA)\n",
    "library(BBmisc)\n",
    "library(nortest)"
   ]
  },
  {
   "cell_type": "code",
   "execution_count": 2,
   "metadata": {},
   "outputs": [],
   "source": [
    "setwd(\"~/git_repos/HGSOC_TME_Heterogeneity/Scripts/3/\")"
   ]
  },
  {
   "cell_type": "markdown",
   "metadata": {},
   "source": [
    "## Load expression data"
   ]
  },
  {
   "cell_type": "code",
   "execution_count": null,
   "metadata": {},
   "outputs": [],
   "source": [
    "mix <- \"../../Data/1/TCGAov_RNAseq.txt\""
   ]
  },
  {
   "cell_type": "code",
   "execution_count": 3,
   "metadata": {},
   "outputs": [],
   "source": [
    "data <- read.csv(mix,\n",
    "                 sep='\\t',\n",
    "                 header=T,\n",
    "                 row.names='GeneSymbol')"
   ]
  },
  {
   "cell_type": "code",
   "execution_count": 4,
   "metadata": {},
   "outputs": [
    {
     "data": {
      "text/html": [
       "<table>\n",
       "<thead><tr><th></th><th scope=col>TCGA.04.1348.01</th><th scope=col>TCGA.04.1357.01</th><th scope=col>TCGA.04.1362.01</th><th scope=col>TCGA.04.1364.01</th><th scope=col>TCGA.04.1365.01</th><th scope=col>TCGA.04.1514.01</th><th scope=col>TCGA.04.1519.01</th><th scope=col>TCGA.09.0364.01</th><th scope=col>TCGA.09.0366.01</th><th scope=col>TCGA.09.0367.01</th><th scope=col>⋯</th><th scope=col>TCGA.61.2102.01</th><th scope=col>TCGA.61.2104.01</th><th scope=col>TCGA.61.2109.01</th><th scope=col>TCGA.61.2110.01</th><th scope=col>TCGA.61.2111.01</th><th scope=col>TCGA.61.2113.01</th><th scope=col>TCGA.OY.A56P.01</th><th scope=col>TCGA.OY.A56Q.01</th><th scope=col>TCGA.VG.A8LO.01</th><th scope=col>TCGA.WR.A838.01</th></tr></thead>\n",
       "<tbody>\n",
       "\t<tr><th scope=row>A1BG</th><td>  66.4695 </td><td>  65.5664 </td><td>  41.6412 </td><td> 187.0368 </td><td>  23.9295 </td><td>  32.8123 </td><td>  46.3418 </td><td> 162.8522 </td><td>   88.5518</td><td> 192.7354 </td><td>⋯         </td><td>   63.7012</td><td>  99.1485 </td><td>  38.3684 </td><td> 140.3668 </td><td>  94.7103 </td><td>  70.4394 </td><td>  43.1736 </td><td>   33.6854</td><td>  27.9604 </td><td>  16.2092 </td></tr>\n",
       "\t<tr><th scope=row>A1BG-AS1</th><td>  36.3243 </td><td>  28.1315 </td><td>  23.2465 </td><td> 114.6008 </td><td>  10.4957 </td><td>  20.1900 </td><td>  17.2007 </td><td>  83.0906 </td><td>   65.6758</td><td>  55.1265 </td><td>⋯         </td><td>   30.3602</td><td>  71.1797 </td><td>  26.0239 </td><td>  77.2415 </td><td>  61.4890 </td><td> 106.1623 </td><td>  47.8864 </td><td>   25.3482</td><td>  17.9853 </td><td>  42.9450 </td></tr>\n",
       "\t<tr><th scope=row>A1CF</th><td>   0.0000 </td><td>   0.0000 </td><td>   0.3310 </td><td>   0.0000 </td><td>   0.0000 </td><td>   0.0000 </td><td>   0.0000 </td><td>   0.9034 </td><td>    0.0000</td><td>   0.0000 </td><td>⋯         </td><td>    0.0000</td><td>   0.0000 </td><td>   0.0000 </td><td>   1.9057 </td><td>   0.0000 </td><td>   0.0000 </td><td>   0.0000 </td><td>    0.0000</td><td>   0.0000 </td><td>   0.0000 </td></tr>\n",
       "\t<tr><th scope=row>A2M</th><td>5899.8279 </td><td>9384.4401 </td><td>3350.4207 </td><td>1455.2316 </td><td>3999.3792 </td><td>3224.5797 </td><td>1986.1593 </td><td>1487.3247 </td><td>10557.8325</td><td>4603.9013 </td><td>⋯         </td><td>10264.1373</td><td>7220.7664 </td><td>7200.1144 </td><td>1819.9428 </td><td>6179.7358 </td><td>5365.7972 </td><td>8773.5936 </td><td>10006.7877</td><td>1888.1746 </td><td>4205.6055 </td></tr>\n",
       "\t<tr><th scope=row>A2M-AS1</th><td> 118.4566 </td><td> 111.0026 </td><td>  71.3613 </td><td>  67.8607 </td><td>  52.1501 </td><td> 224.7582 </td><td> 182.0650 </td><td> 120.2838 </td><td>   53.6419</td><td>  92.9112 </td><td>⋯         </td><td>  146.6130</td><td>  45.8648 </td><td>  64.4638 </td><td>  28.5565 </td><td> 100.6605 </td><td>  23.5625 </td><td>  84.2153 </td><td>  582.3492</td><td>  59.8084 </td><td> 143.4910 </td></tr>\n",
       "\t<tr><th scope=row>A2ML1</th><td>   7.5289 </td><td>  54.6875 </td><td>   5.6263 </td><td>   5.0883 </td><td>   3.3148 </td><td>   3.7421 </td><td>   6.2305 </td><td> 278.2486 </td><td>    4.7763</td><td> 653.6058 </td><td>⋯         </td><td>    1.7993</td><td>   4.6124 </td><td>   0.4768 </td><td>  17.1510 </td><td>  15.6109 </td><td>   2.4461 </td><td>  98.3162 </td><td>  269.5768</td><td>   4.5092 </td><td> 224.5290 </td></tr>\n",
       "</tbody>\n",
       "</table>\n"
      ],
      "text/latex": [
       "\\begin{tabular}{r|lllllllllllllllllllllllllllllllllllllllllllllllllllllllllllllllllllllllllllllllllllllllllllllllllllllllllllllllllllllllllllllllllllllllllllllllllllllllllllllllllllllllllllllllllllllllllllllllllllllllllllllllllllllllllllllllllllllllllllllllllllllllllllllllllllllllllllllllllllllllllllllllllllllllllllllllllll}\n",
       "  & TCGA.04.1348.01 & TCGA.04.1357.01 & TCGA.04.1362.01 & TCGA.04.1364.01 & TCGA.04.1365.01 & TCGA.04.1514.01 & TCGA.04.1519.01 & TCGA.09.0364.01 & TCGA.09.0366.01 & TCGA.09.0367.01 & ⋯ & TCGA.61.2102.01 & TCGA.61.2104.01 & TCGA.61.2109.01 & TCGA.61.2110.01 & TCGA.61.2111.01 & TCGA.61.2113.01 & TCGA.OY.A56P.01 & TCGA.OY.A56Q.01 & TCGA.VG.A8LO.01 & TCGA.WR.A838.01\\\\\n",
       "\\hline\n",
       "\tA1BG &   66.4695  &   65.5664  &   41.6412  &  187.0368  &   23.9295  &   32.8123  &   46.3418  &  162.8522  &    88.5518 &  192.7354  & ⋯          &    63.7012 &   99.1485  &   38.3684  &  140.3668  &   94.7103  &   70.4394  &   43.1736  &    33.6854 &   27.9604  &   16.2092 \\\\\n",
       "\tA1BG-AS1 &   36.3243  &   28.1315  &   23.2465  &  114.6008  &   10.4957  &   20.1900  &   17.2007  &   83.0906  &    65.6758 &   55.1265  & ⋯          &    30.3602 &   71.1797  &   26.0239  &   77.2415  &   61.4890  &  106.1623  &   47.8864  &    25.3482 &   17.9853  &   42.9450 \\\\\n",
       "\tA1CF &    0.0000  &    0.0000  &    0.3310  &    0.0000  &    0.0000  &    0.0000  &    0.0000  &    0.9034  &     0.0000 &    0.0000  & ⋯          &     0.0000 &    0.0000  &    0.0000  &    1.9057  &    0.0000  &    0.0000  &    0.0000  &     0.0000 &    0.0000  &    0.0000 \\\\\n",
       "\tA2M & 5899.8279  & 9384.4401  & 3350.4207  & 1455.2316  & 3999.3792  & 3224.5797  & 1986.1593  & 1487.3247  & 10557.8325 & 4603.9013  & ⋯          & 10264.1373 & 7220.7664  & 7200.1144  & 1819.9428  & 6179.7358  & 5365.7972  & 8773.5936  & 10006.7877 & 1888.1746  & 4205.6055 \\\\\n",
       "\tA2M-AS1 &  118.4566  &  111.0026  &   71.3613  &   67.8607  &   52.1501  &  224.7582  &  182.0650  &  120.2838  &    53.6419 &   92.9112  & ⋯          &   146.6130 &   45.8648  &   64.4638  &   28.5565  &  100.6605  &   23.5625  &   84.2153  &   582.3492 &   59.8084  &  143.4910 \\\\\n",
       "\tA2ML1 &    7.5289  &   54.6875  &    5.6263  &    5.0883  &    3.3148  &    3.7421  &    6.2305  &  278.2486  &     4.7763 &  653.6058  & ⋯          &     1.7993 &    4.6124  &    0.4768  &   17.1510  &   15.6109  &    2.4461  &   98.3162  &   269.5768 &    4.5092  &  224.5290 \\\\\n",
       "\\end{tabular}\n"
      ],
      "text/markdown": [
       "\n",
       "| <!--/--> | TCGA.04.1348.01 | TCGA.04.1357.01 | TCGA.04.1362.01 | TCGA.04.1364.01 | TCGA.04.1365.01 | TCGA.04.1514.01 | TCGA.04.1519.01 | TCGA.09.0364.01 | TCGA.09.0366.01 | TCGA.09.0367.01 | ⋯ | TCGA.61.2102.01 | TCGA.61.2104.01 | TCGA.61.2109.01 | TCGA.61.2110.01 | TCGA.61.2111.01 | TCGA.61.2113.01 | TCGA.OY.A56P.01 | TCGA.OY.A56Q.01 | TCGA.VG.A8LO.01 | TCGA.WR.A838.01 | \n",
       "|---|---|---|---|---|---|\n",
       "| A1BG |   66.4695  |   65.5664  |   41.6412  |  187.0368  |   23.9295  |   32.8123  |   46.3418  |  162.8522  |    88.5518 |  192.7354  | ⋯          |    63.7012 |   99.1485  |   38.3684  |  140.3668  |   94.7103  |   70.4394  |   43.1736  |    33.6854 |   27.9604  |   16.2092  | \n",
       "| A1BG-AS1 |   36.3243  |   28.1315  |   23.2465  |  114.6008  |   10.4957  |   20.1900  |   17.2007  |   83.0906  |    65.6758 |   55.1265  | ⋯          |    30.3602 |   71.1797  |   26.0239  |   77.2415  |   61.4890  |  106.1623  |   47.8864  |    25.3482 |   17.9853  |   42.9450  | \n",
       "| A1CF |    0.0000  |    0.0000  |    0.3310  |    0.0000  |    0.0000  |    0.0000  |    0.0000  |    0.9034  |     0.0000 |    0.0000  | ⋯          |     0.0000 |    0.0000  |    0.0000  |    1.9057  |    0.0000  |    0.0000  |    0.0000  |     0.0000 |    0.0000  |    0.0000  | \n",
       "| A2M | 5899.8279  | 9384.4401  | 3350.4207  | 1455.2316  | 3999.3792  | 3224.5797  | 1986.1593  | 1487.3247  | 10557.8325 | 4603.9013  | ⋯          | 10264.1373 | 7220.7664  | 7200.1144  | 1819.9428  | 6179.7358  | 5365.7972  | 8773.5936  | 10006.7877 | 1888.1746  | 4205.6055  | \n",
       "| A2M-AS1 |  118.4566  |  111.0026  |   71.3613  |   67.8607  |   52.1501  |  224.7582  |  182.0650  |  120.2838  |    53.6419 |   92.9112  | ⋯          |   146.6130 |   45.8648  |   64.4638  |   28.5565  |  100.6605  |   23.5625  |   84.2153  |   582.3492 |   59.8084  |  143.4910  | \n",
       "| A2ML1 |    7.5289  |   54.6875  |    5.6263  |    5.0883  |    3.3148  |    3.7421  |    6.2305  |  278.2486  |     4.7763 |  653.6058  | ⋯          |     1.7993 |    4.6124  |    0.4768  |   17.1510  |   15.6109  |    2.4461  |   98.3162  |   269.5768 |    4.5092  |  224.5290  | \n",
       "\n",
       "\n"
      ],
      "text/plain": [
       "         TCGA.04.1348.01 TCGA.04.1357.01 TCGA.04.1362.01 TCGA.04.1364.01\n",
       "A1BG       66.4695         65.5664         41.6412        187.0368      \n",
       "A1BG-AS1   36.3243         28.1315         23.2465        114.6008      \n",
       "A1CF        0.0000          0.0000          0.3310          0.0000      \n",
       "A2M      5899.8279       9384.4401       3350.4207       1455.2316      \n",
       "A2M-AS1   118.4566        111.0026         71.3613         67.8607      \n",
       "A2ML1       7.5289         54.6875          5.6263          5.0883      \n",
       "         TCGA.04.1365.01 TCGA.04.1514.01 TCGA.04.1519.01 TCGA.09.0364.01\n",
       "A1BG       23.9295         32.8123         46.3418        162.8522      \n",
       "A1BG-AS1   10.4957         20.1900         17.2007         83.0906      \n",
       "A1CF        0.0000          0.0000          0.0000          0.9034      \n",
       "A2M      3999.3792       3224.5797       1986.1593       1487.3247      \n",
       "A2M-AS1    52.1501        224.7582        182.0650        120.2838      \n",
       "A2ML1       3.3148          3.7421          6.2305        278.2486      \n",
       "         TCGA.09.0366.01 TCGA.09.0367.01 ⋯ TCGA.61.2102.01 TCGA.61.2104.01\n",
       "A1BG        88.5518       192.7354       ⋯    63.7012        99.1485      \n",
       "A1BG-AS1    65.6758        55.1265       ⋯    30.3602        71.1797      \n",
       "A1CF         0.0000         0.0000       ⋯     0.0000         0.0000      \n",
       "A2M      10557.8325      4603.9013       ⋯ 10264.1373      7220.7664      \n",
       "A2M-AS1     53.6419        92.9112       ⋯   146.6130        45.8648      \n",
       "A2ML1        4.7763       653.6058       ⋯     1.7993         4.6124      \n",
       "         TCGA.61.2109.01 TCGA.61.2110.01 TCGA.61.2111.01 TCGA.61.2113.01\n",
       "A1BG       38.3684        140.3668         94.7103         70.4394      \n",
       "A1BG-AS1   26.0239         77.2415         61.4890        106.1623      \n",
       "A1CF        0.0000          1.9057          0.0000          0.0000      \n",
       "A2M      7200.1144       1819.9428       6179.7358       5365.7972      \n",
       "A2M-AS1    64.4638         28.5565        100.6605         23.5625      \n",
       "A2ML1       0.4768         17.1510         15.6109          2.4461      \n",
       "         TCGA.OY.A56P.01 TCGA.OY.A56Q.01 TCGA.VG.A8LO.01 TCGA.WR.A838.01\n",
       "A1BG       43.1736          33.6854        27.9604         16.2092      \n",
       "A1BG-AS1   47.8864          25.3482        17.9853         42.9450      \n",
       "A1CF        0.0000           0.0000         0.0000          0.0000      \n",
       "A2M      8773.5936       10006.7877      1888.1746       4205.6055      \n",
       "A2M-AS1    84.2153         582.3492        59.8084        143.4910      \n",
       "A2ML1      98.3162         269.5768         4.5092        224.5290      "
      ]
     },
     "metadata": {},
     "output_type": "display_data"
    }
   ],
   "source": [
    "head(data)"
   ]
  },
  {
   "cell_type": "code",
   "execution_count": 5,
   "metadata": {},
   "outputs": [],
   "source": [
    "data_mtx <- as.matrix(data)"
   ]
  },
  {
   "cell_type": "markdown",
   "metadata": {},
   "source": [
    "## Load ConsensusTME gene sets"
   ]
  },
  {
   "cell_type": "code",
   "execution_count": 6,
   "metadata": {},
   "outputs": [],
   "source": [
    "ConTME_GeneSets <- read.csv('../../Data/3/ConsensusTME_GeneSets.txt',\n",
    "                            sep='\\t',\n",
    "                            header=T)"
   ]
  },
  {
   "cell_type": "code",
   "execution_count": 7,
   "metadata": {},
   "outputs": [
    {
     "data": {
      "text/html": [
       "<table>\n",
       "<thead><tr><th scope=col>B_cells</th><th scope=col>Cytotoxic_cells</th><th scope=col>Dendritic_cells</th><th scope=col>Endothelial</th><th scope=col>Eosinophils</th><th scope=col>Fibroblasts</th><th scope=col>Macrophages</th><th scope=col>Macrophages_M1</th><th scope=col>Macrophages_M2</th><th scope=col>Mast_cells</th><th scope=col>Monocytes</th><th scope=col>NK_cells</th><th scope=col>Neutrophils</th><th scope=col>Plasma_cells</th><th scope=col>T_cells_CD4</th><th scope=col>T_cells_CD8</th><th scope=col>T_cells_gamma_delta</th><th scope=col>T_regulatory_cells</th></tr></thead>\n",
       "<tbody>\n",
       "\t<tr><td>BLNK    </td><td>CTSW    </td><td>BCL2A1  </td><td>CD93    </td><td>ABHD2   </td><td>ABCA6   </td><td>ACTR2   </td><td>ACTR2   </td><td>AIF1    </td><td>ATP6V1C1</td><td>AIF1    </td><td>APOBEC3G</td><td>BCL2A1  </td><td>CD27    </td><td>AIM2    </td><td>BCL11B  </td><td>APOBEC3G</td><td>CCR7    </td></tr>\n",
       "\t<tr><td>CD1C    </td><td>GZMA    </td><td>BIRC3   </td><td>CDH5    </td><td>BCL2A1  </td><td>ASPN    </td><td>ATG7    </td><td>CCL19   </td><td>ATP6V1C1</td><td>CCL4    </td><td>AKAP13  </td><td>CCL4    </td><td>C5AR1   </td><td>CD38    </td><td>ARHGAP15</td><td>BIN2    </td><td>CCL4    </td><td>CD2     </td></tr>\n",
       "\t<tr><td>CD37    </td><td>GZMB    </td><td>CCL19   </td><td>EMCN    </td><td>CCL4    </td><td>COL3A1  </td><td>ATP6V1C1</td><td>CCL4    </td><td>CLEC10A </td><td>CD84    </td><td>C5AR1   </td><td>CCR5    </td><td>CSF2RB  </td><td>CYBA    </td><td>BATF    </td><td>CCL4    </td><td>CCR2    </td><td>CD247   </td></tr>\n",
       "\t<tr><td>CD53    </td><td>GZMH    </td><td>CCL4    </td><td>ERG     </td><td>CCR1    </td><td>DCN     </td><td>BCL2A1  </td><td>CCR1    </td><td>CLEC4A  </td><td>LCP2    </td><td>CCR2    </td><td>CD2     </td><td>CSF3R   </td><td>ENTPD1  </td><td>BCL11B  </td><td>CCR5    </td><td>CCR5    </td><td>CD27    </td></tr>\n",
       "\t<tr><td>CD69    </td><td>KLRB1   </td><td>CCR2    </td><td>KDR     </td><td>CD69    </td><td>GREM1   </td><td>C5AR1   </td><td>CCR7    </td><td>FGR     </td><td>MMP9    </td><td>CD244   </td><td>CD244   </td><td>FCGR3B  </td><td>HSPA6   </td><td>CCL4    </td><td>CCR7    </td><td>CD2     </td><td>CD37    </td></tr>\n",
       "\t<tr><td>CD80    </td><td>KLRK1   </td><td>CCR5    </td><td>PCDH12  </td><td>CSF2RB  </td><td>ISLR    </td><td>CCL19   </td><td>CD38    </td><td>HCK     </td><td>SAMSN1  </td><td>CD37    </td><td>CD247   </td><td>FPR1    </td><td>MTDH    </td><td>CCR2    </td><td>CD2     </td><td>CD244   </td><td>CD3E    </td></tr>\n",
       "</tbody>\n",
       "</table>\n"
      ],
      "text/latex": [
       "\\begin{tabular}{r|llllllllllllllllll}\n",
       " B\\_cells & Cytotoxic\\_cells & Dendritic\\_cells & Endothelial & Eosinophils & Fibroblasts & Macrophages & Macrophages\\_M1 & Macrophages\\_M2 & Mast\\_cells & Monocytes & NK\\_cells & Neutrophils & Plasma\\_cells & T\\_cells\\_CD4 & T\\_cells\\_CD8 & T\\_cells\\_gamma\\_delta & T\\_regulatory\\_cells\\\\\n",
       "\\hline\n",
       "\t BLNK     & CTSW     & BCL2A1   & CD93     & ABHD2    & ABCA6    & ACTR2    & ACTR2    & AIF1     & ATP6V1C1 & AIF1     & APOBEC3G & BCL2A1   & CD27     & AIM2     & BCL11B   & APOBEC3G & CCR7    \\\\\n",
       "\t CD1C     & GZMA     & BIRC3    & CDH5     & BCL2A1   & ASPN     & ATG7     & CCL19    & ATP6V1C1 & CCL4     & AKAP13   & CCL4     & C5AR1    & CD38     & ARHGAP15 & BIN2     & CCL4     & CD2     \\\\\n",
       "\t CD37     & GZMB     & CCL19    & EMCN     & CCL4     & COL3A1   & ATP6V1C1 & CCL4     & CLEC10A  & CD84     & C5AR1    & CCR5     & CSF2RB   & CYBA     & BATF     & CCL4     & CCR2     & CD247   \\\\\n",
       "\t CD53     & GZMH     & CCL4     & ERG      & CCR1     & DCN      & BCL2A1   & CCR1     & CLEC4A   & LCP2     & CCR2     & CD2      & CSF3R    & ENTPD1   & BCL11B   & CCR5     & CCR5     & CD27    \\\\\n",
       "\t CD69     & KLRB1    & CCR2     & KDR      & CD69     & GREM1    & C5AR1    & CCR7     & FGR      & MMP9     & CD244    & CD244    & FCGR3B   & HSPA6    & CCL4     & CCR7     & CD2      & CD37    \\\\\n",
       "\t CD80     & KLRK1    & CCR5     & PCDH12   & CSF2RB   & ISLR     & CCL19    & CD38     & HCK      & SAMSN1   & CD37     & CD247    & FPR1     & MTDH     & CCR2     & CD2      & CD244    & CD3E    \\\\\n",
       "\\end{tabular}\n"
      ],
      "text/markdown": [
       "\n",
       "B_cells | Cytotoxic_cells | Dendritic_cells | Endothelial | Eosinophils | Fibroblasts | Macrophages | Macrophages_M1 | Macrophages_M2 | Mast_cells | Monocytes | NK_cells | Neutrophils | Plasma_cells | T_cells_CD4 | T_cells_CD8 | T_cells_gamma_delta | T_regulatory_cells | \n",
       "|---|---|---|---|---|---|\n",
       "| BLNK     | CTSW     | BCL2A1   | CD93     | ABHD2    | ABCA6    | ACTR2    | ACTR2    | AIF1     | ATP6V1C1 | AIF1     | APOBEC3G | BCL2A1   | CD27     | AIM2     | BCL11B   | APOBEC3G | CCR7     | \n",
       "| CD1C     | GZMA     | BIRC3    | CDH5     | BCL2A1   | ASPN     | ATG7     | CCL19    | ATP6V1C1 | CCL4     | AKAP13   | CCL4     | C5AR1    | CD38     | ARHGAP15 | BIN2     | CCL4     | CD2      | \n",
       "| CD37     | GZMB     | CCL19    | EMCN     | CCL4     | COL3A1   | ATP6V1C1 | CCL4     | CLEC10A  | CD84     | C5AR1    | CCR5     | CSF2RB   | CYBA     | BATF     | CCL4     | CCR2     | CD247    | \n",
       "| CD53     | GZMH     | CCL4     | ERG      | CCR1     | DCN      | BCL2A1   | CCR1     | CLEC4A   | LCP2     | CCR2     | CD2      | CSF3R    | ENTPD1   | BCL11B   | CCR5     | CCR5     | CD27     | \n",
       "| CD69     | KLRB1    | CCR2     | KDR      | CD69     | GREM1    | C5AR1    | CCR7     | FGR      | MMP9     | CD244    | CD244    | FCGR3B   | HSPA6    | CCL4     | CCR7     | CD2      | CD37     | \n",
       "| CD80     | KLRK1    | CCR5     | PCDH12   | CSF2RB   | ISLR     | CCL19    | CD38     | HCK      | SAMSN1   | CD37     | CD247    | FPR1     | MTDH     | CCR2     | CD2      | CD244    | CD3E     | \n",
       "\n",
       "\n"
      ],
      "text/plain": [
       "  B_cells Cytotoxic_cells Dendritic_cells Endothelial Eosinophils Fibroblasts\n",
       "1 BLNK    CTSW            BCL2A1          CD93        ABHD2       ABCA6      \n",
       "2 CD1C    GZMA            BIRC3           CDH5        BCL2A1      ASPN       \n",
       "3 CD37    GZMB            CCL19           EMCN        CCL4        COL3A1     \n",
       "4 CD53    GZMH            CCL4            ERG         CCR1        DCN        \n",
       "5 CD69    KLRB1           CCR2            KDR         CD69        GREM1      \n",
       "6 CD80    KLRK1           CCR5            PCDH12      CSF2RB      ISLR       \n",
       "  Macrophages Macrophages_M1 Macrophages_M2 Mast_cells Monocytes NK_cells\n",
       "1 ACTR2       ACTR2          AIF1           ATP6V1C1   AIF1      APOBEC3G\n",
       "2 ATG7        CCL19          ATP6V1C1       CCL4       AKAP13    CCL4    \n",
       "3 ATP6V1C1    CCL4           CLEC10A        CD84       C5AR1     CCR5    \n",
       "4 BCL2A1      CCR1           CLEC4A         LCP2       CCR2      CD2     \n",
       "5 C5AR1       CCR7           FGR            MMP9       CD244     CD244   \n",
       "6 CCL19       CD38           HCK            SAMSN1     CD37      CD247   \n",
       "  Neutrophils Plasma_cells T_cells_CD4 T_cells_CD8 T_cells_gamma_delta\n",
       "1 BCL2A1      CD27         AIM2        BCL11B      APOBEC3G           \n",
       "2 C5AR1       CD38         ARHGAP15    BIN2        CCL4               \n",
       "3 CSF2RB      CYBA         BATF        CCL4        CCR2               \n",
       "4 CSF3R       ENTPD1       BCL11B      CCR5        CCR5               \n",
       "5 FCGR3B      HSPA6        CCL4        CCR7        CD2                \n",
       "6 FPR1        MTDH         CCR2        CD2         CD244              \n",
       "  T_regulatory_cells\n",
       "1 CCR7              \n",
       "2 CD2               \n",
       "3 CD247             \n",
       "4 CD27              \n",
       "5 CD37              \n",
       "6 CD3E              "
      ]
     },
     "metadata": {},
     "output_type": "display_data"
    }
   ],
   "source": [
    "head(ConTME_GeneSets)"
   ]
  },
  {
   "cell_type": "code",
   "execution_count": 8,
   "metadata": {},
   "outputs": [],
   "source": [
    "ConTME_GeneSets <- convertRowsToList(t(ConTME_GeneSets))"
   ]
  },
  {
   "cell_type": "markdown",
   "metadata": {},
   "source": [
    "## Run ssGSEA"
   ]
  },
  {
   "cell_type": "code",
   "execution_count": 9,
   "metadata": {},
   "outputs": [
    {
     "name": "stderr",
     "output_type": "stream",
     "text": [
      "Warning message in .local(expr, gset.idx.list, ...):\n",
      "“338 genes with constant expression values throuhgout the samples.”"
     ]
    },
    {
     "name": "stdout",
     "output_type": "stream",
     "text": [
      "Estimating ssGSEA scores for 18 gene sets.\n",
      "  |                                                                      |   0%Using parallel with 4 cores\n",
      "  |======================================================================| 100%\n"
     ]
    }
   ],
   "source": [
    "con_NES <- gsva(data_mtx,\n",
    "                ConTME_GeneSets,\n",
    "                method='ssgsea',\n",
    "                min.sz=0,\n",
    "                max.sz=1000,\n",
    "                ssgsea.norm=T)"
   ]
  },
  {
   "cell_type": "code",
   "execution_count": 10,
   "metadata": {},
   "outputs": [],
   "source": [
    "con_NES <- data.frame(\"Term\"=rownames(con_NES),\n",
    "                      con_NES)\n",
    "\n",
    "rownames(con_NES) <- NULL"
   ]
  },
  {
   "cell_type": "code",
   "execution_count": 11,
   "metadata": {},
   "outputs": [
    {
     "data": {
      "text/html": [
       "<table>\n",
       "<thead><tr><th scope=col>Term</th><th scope=col>TCGA.04.1348.01</th><th scope=col>TCGA.04.1357.01</th><th scope=col>TCGA.04.1362.01</th><th scope=col>TCGA.04.1364.01</th><th scope=col>TCGA.04.1365.01</th><th scope=col>TCGA.04.1514.01</th><th scope=col>TCGA.04.1519.01</th><th scope=col>TCGA.09.0364.01</th><th scope=col>TCGA.09.0366.01</th><th scope=col>⋯</th><th scope=col>TCGA.61.2102.01</th><th scope=col>TCGA.61.2104.01</th><th scope=col>TCGA.61.2109.01</th><th scope=col>TCGA.61.2110.01</th><th scope=col>TCGA.61.2111.01</th><th scope=col>TCGA.61.2113.01</th><th scope=col>TCGA.OY.A56P.01</th><th scope=col>TCGA.OY.A56Q.01</th><th scope=col>TCGA.VG.A8LO.01</th><th scope=col>TCGA.WR.A838.01</th></tr></thead>\n",
       "<tbody>\n",
       "\t<tr><td>B_cells        </td><td> 0.11609382    </td><td>0.22290548     </td><td>-0.05337479    </td><td>-0.2420562     </td><td> 0.04399216    </td><td>-0.22959159    </td><td>-0.14949609    </td><td>-0.195321321   </td><td> 0.1985960     </td><td>⋯              </td><td>-0.03760044    </td><td> 0.09318269    </td><td> 0.013940235   </td><td>-0.09427961    </td><td> 0.10628745    </td><td> 0.06997789    </td><td>-0.14213896    </td><td>-0.1848621     </td><td>-0.06796385    </td><td>-0.16457015    </td></tr>\n",
       "\t<tr><td>Cytotoxic_cells</td><td> 0.01519822    </td><td>0.14255561     </td><td>-0.31383134    </td><td>-0.4792572     </td><td>-0.05918070    </td><td>-0.50135244    </td><td>-0.37791805    </td><td>-0.531799891   </td><td>-0.2320777     </td><td>⋯              </td><td>-0.41457034    </td><td>-0.20378344    </td><td>-0.232954372   </td><td>-0.34666043    </td><td>-0.25780100    </td><td>-0.24272572    </td><td>-0.52377136    </td><td>-0.4904037     </td><td>-0.31050044    </td><td>-0.53384083    </td></tr>\n",
       "\t<tr><td>Dendritic_cells</td><td> 0.17787153    </td><td>0.26478408     </td><td>-0.01250251    </td><td>-0.2414475     </td><td> 0.12695363    </td><td>-0.21268284    </td><td>-0.13440659    </td><td>-0.231657069   </td><td> 0.2262739     </td><td>⋯              </td><td> 0.02038188    </td><td> 0.14266558    </td><td> 0.015431621   </td><td>-0.06713982    </td><td> 0.03522807    </td><td> 0.12372735    </td><td>-0.17542054    </td><td>-0.1550452     </td><td>-0.10624514    </td><td>-0.18362574    </td></tr>\n",
       "\t<tr><td>Endothelial    </td><td>-0.02197883    </td><td>0.01835045     </td><td>-0.10314986    </td><td>-0.1330033     </td><td>-0.03542567    </td><td>-0.03784834    </td><td>-0.17278292    </td><td>-0.118947740   </td><td>-0.0334327     </td><td>⋯              </td><td> 0.21094340    </td><td>-0.00492446    </td><td>-0.098267914   </td><td>-0.16081016    </td><td>-0.01614860    </td><td> 0.10565120    </td><td>-0.13273756    </td><td>-0.0738101     </td><td>-0.17564988    </td><td>-0.12621419    </td></tr>\n",
       "\t<tr><td>Eosinophils    </td><td> 0.16327315    </td><td>0.25433465     </td><td>-0.01236931    </td><td>-0.1773189     </td><td> 0.13760869    </td><td>-0.14256235    </td><td>-0.10732840    </td><td>-0.146863847   </td><td> 0.2055240     </td><td>⋯              </td><td> 0.01980439    </td><td> 0.10607730    </td><td> 0.048563111   </td><td> 0.01011209    </td><td> 0.02630588    </td><td> 0.15959726    </td><td>-0.06902823    </td><td>-0.1627376     </td><td>-0.03584268    </td><td>-0.14502728    </td></tr>\n",
       "\t<tr><td>Fibroblasts    </td><td>-0.02636739    </td><td>0.12083934     </td><td>-0.08078278    </td><td>-0.1019093     </td><td>-0.02378641    </td><td> 0.04346422    </td><td> 0.01001716    </td><td> 0.002227394   </td><td>-0.1421594     </td><td>⋯              </td><td> 0.25215143    </td><td> 0.04334572    </td><td>-0.003044061   </td><td> 0.07866700    </td><td> 0.12107945    </td><td> 0.23471212    </td><td>-0.01592671    </td><td>-0.1975909     </td><td>-0.02591576    </td><td>-0.03654063    </td></tr>\n",
       "</tbody>\n",
       "</table>\n"
      ],
      "text/latex": [
       "\\begin{tabular}{r|llllllllllllllllllllllllllllllllllllllllllllllllllllllllllllllllllllllllllllllllllllllllllllllllllllllllllllllllllllllllllllllllllllllllllllllllllllllllllllllllllllllllllllllllllllllllllllllllllllllllllllllllllllllllllllllllllllllllllllllllllllllllllllllllllllllllllllllllllllllllllllllllllllllllllllllllllll}\n",
       " Term & TCGA.04.1348.01 & TCGA.04.1357.01 & TCGA.04.1362.01 & TCGA.04.1364.01 & TCGA.04.1365.01 & TCGA.04.1514.01 & TCGA.04.1519.01 & TCGA.09.0364.01 & TCGA.09.0366.01 & ⋯ & TCGA.61.2102.01 & TCGA.61.2104.01 & TCGA.61.2109.01 & TCGA.61.2110.01 & TCGA.61.2111.01 & TCGA.61.2113.01 & TCGA.OY.A56P.01 & TCGA.OY.A56Q.01 & TCGA.VG.A8LO.01 & TCGA.WR.A838.01\\\\\n",
       "\\hline\n",
       "\t B\\_cells         &  0.11609382       & 0.22290548        & -0.05337479       & -0.2420562        &  0.04399216       & -0.22959159       & -0.14949609       & -0.195321321      &  0.1985960        & ⋯                 & -0.03760044       &  0.09318269       &  0.013940235      & -0.09427961       &  0.10628745       &  0.06997789       & -0.14213896       & -0.1848621        & -0.06796385       & -0.16457015      \\\\\n",
       "\t Cytotoxic\\_cells &  0.01519822       & 0.14255561        & -0.31383134       & -0.4792572        & -0.05918070       & -0.50135244       & -0.37791805       & -0.531799891      & -0.2320777        & ⋯                 & -0.41457034       & -0.20378344       & -0.232954372      & -0.34666043       & -0.25780100       & -0.24272572       & -0.52377136       & -0.4904037        & -0.31050044       & -0.53384083      \\\\\n",
       "\t Dendritic\\_cells &  0.17787153       & 0.26478408        & -0.01250251       & -0.2414475        &  0.12695363       & -0.21268284       & -0.13440659       & -0.231657069      &  0.2262739        & ⋯                 &  0.02038188       &  0.14266558       &  0.015431621      & -0.06713982       &  0.03522807       &  0.12372735       & -0.17542054       & -0.1550452        & -0.10624514       & -0.18362574      \\\\\n",
       "\t Endothelial     & -0.02197883     & 0.01835045      & -0.10314986     & -0.1330033      & -0.03542567     & -0.03784834     & -0.17278292     & -0.118947740    & -0.0334327      & ⋯               &  0.21094340     & -0.00492446     & -0.098267914    & -0.16081016     & -0.01614860     &  0.10565120     & -0.13273756     & -0.0738101      & -0.17564988     & -0.12621419    \\\\\n",
       "\t Eosinophils     &  0.16327315     & 0.25433465      & -0.01236931     & -0.1773189      &  0.13760869     & -0.14256235     & -0.10732840     & -0.146863847    &  0.2055240      & ⋯               &  0.01980439     &  0.10607730     &  0.048563111    &  0.01011209     &  0.02630588     &  0.15959726     & -0.06902823     & -0.1627376      & -0.03584268     & -0.14502728    \\\\\n",
       "\t Fibroblasts     & -0.02636739     & 0.12083934      & -0.08078278     & -0.1019093      & -0.02378641     &  0.04346422     &  0.01001716     &  0.002227394    & -0.1421594      & ⋯               &  0.25215143     &  0.04334572     & -0.003044061    &  0.07866700     &  0.12107945     &  0.23471212     & -0.01592671     & -0.1975909      & -0.02591576     & -0.03654063    \\\\\n",
       "\\end{tabular}\n"
      ],
      "text/markdown": [
       "\n",
       "Term | TCGA.04.1348.01 | TCGA.04.1357.01 | TCGA.04.1362.01 | TCGA.04.1364.01 | TCGA.04.1365.01 | TCGA.04.1514.01 | TCGA.04.1519.01 | TCGA.09.0364.01 | TCGA.09.0366.01 | ⋯ | TCGA.61.2102.01 | TCGA.61.2104.01 | TCGA.61.2109.01 | TCGA.61.2110.01 | TCGA.61.2111.01 | TCGA.61.2113.01 | TCGA.OY.A56P.01 | TCGA.OY.A56Q.01 | TCGA.VG.A8LO.01 | TCGA.WR.A838.01 | \n",
       "|---|---|---|---|---|---|\n",
       "| B_cells         |  0.11609382     | 0.22290548      | -0.05337479     | -0.2420562      |  0.04399216     | -0.22959159     | -0.14949609     | -0.195321321    |  0.1985960      | ⋯               | -0.03760044     |  0.09318269     |  0.013940235    | -0.09427961     |  0.10628745     |  0.06997789     | -0.14213896     | -0.1848621      | -0.06796385     | -0.16457015     | \n",
       "| Cytotoxic_cells |  0.01519822     | 0.14255561      | -0.31383134     | -0.4792572      | -0.05918070     | -0.50135244     | -0.37791805     | -0.531799891    | -0.2320777      | ⋯               | -0.41457034     | -0.20378344     | -0.232954372    | -0.34666043     | -0.25780100     | -0.24272572     | -0.52377136     | -0.4904037      | -0.31050044     | -0.53384083     | \n",
       "| Dendritic_cells |  0.17787153     | 0.26478408      | -0.01250251     | -0.2414475      |  0.12695363     | -0.21268284     | -0.13440659     | -0.231657069    |  0.2262739      | ⋯               |  0.02038188     |  0.14266558     |  0.015431621    | -0.06713982     |  0.03522807     |  0.12372735     | -0.17542054     | -0.1550452      | -0.10624514     | -0.18362574     | \n",
       "| Endothelial     | -0.02197883     | 0.01835045      | -0.10314986     | -0.1330033      | -0.03542567     | -0.03784834     | -0.17278292     | -0.118947740    | -0.0334327      | ⋯               |  0.21094340     | -0.00492446     | -0.098267914    | -0.16081016     | -0.01614860     |  0.10565120     | -0.13273756     | -0.0738101      | -0.17564988     | -0.12621419     | \n",
       "| Eosinophils     |  0.16327315     | 0.25433465      | -0.01236931     | -0.1773189      |  0.13760869     | -0.14256235     | -0.10732840     | -0.146863847    |  0.2055240      | ⋯               |  0.01980439     |  0.10607730     |  0.048563111    |  0.01011209     |  0.02630588     |  0.15959726     | -0.06902823     | -0.1627376      | -0.03584268     | -0.14502728     | \n",
       "| Fibroblasts     | -0.02636739     | 0.12083934      | -0.08078278     | -0.1019093      | -0.02378641     |  0.04346422     |  0.01001716     |  0.002227394    | -0.1421594      | ⋯               |  0.25215143     |  0.04334572     | -0.003044061    |  0.07866700     |  0.12107945     |  0.23471212     | -0.01592671     | -0.1975909      | -0.02591576     | -0.03654063     | \n",
       "\n",
       "\n"
      ],
      "text/plain": [
       "  Term            TCGA.04.1348.01 TCGA.04.1357.01 TCGA.04.1362.01\n",
       "1 B_cells          0.11609382     0.22290548      -0.05337479    \n",
       "2 Cytotoxic_cells  0.01519822     0.14255561      -0.31383134    \n",
       "3 Dendritic_cells  0.17787153     0.26478408      -0.01250251    \n",
       "4 Endothelial     -0.02197883     0.01835045      -0.10314986    \n",
       "5 Eosinophils      0.16327315     0.25433465      -0.01236931    \n",
       "6 Fibroblasts     -0.02636739     0.12083934      -0.08078278    \n",
       "  TCGA.04.1364.01 TCGA.04.1365.01 TCGA.04.1514.01 TCGA.04.1519.01\n",
       "1 -0.2420562       0.04399216     -0.22959159     -0.14949609    \n",
       "2 -0.4792572      -0.05918070     -0.50135244     -0.37791805    \n",
       "3 -0.2414475       0.12695363     -0.21268284     -0.13440659    \n",
       "4 -0.1330033      -0.03542567     -0.03784834     -0.17278292    \n",
       "5 -0.1773189       0.13760869     -0.14256235     -0.10732840    \n",
       "6 -0.1019093      -0.02378641      0.04346422      0.01001716    \n",
       "  TCGA.09.0364.01 TCGA.09.0366.01 ⋯ TCGA.61.2102.01 TCGA.61.2104.01\n",
       "1 -0.195321321     0.1985960      ⋯ -0.03760044      0.09318269    \n",
       "2 -0.531799891    -0.2320777      ⋯ -0.41457034     -0.20378344    \n",
       "3 -0.231657069     0.2262739      ⋯  0.02038188      0.14266558    \n",
       "4 -0.118947740    -0.0334327      ⋯  0.21094340     -0.00492446    \n",
       "5 -0.146863847     0.2055240      ⋯  0.01980439      0.10607730    \n",
       "6  0.002227394    -0.1421594      ⋯  0.25215143      0.04334572    \n",
       "  TCGA.61.2109.01 TCGA.61.2110.01 TCGA.61.2111.01 TCGA.61.2113.01\n",
       "1  0.013940235    -0.09427961      0.10628745      0.06997789    \n",
       "2 -0.232954372    -0.34666043     -0.25780100     -0.24272572    \n",
       "3  0.015431621    -0.06713982      0.03522807      0.12372735    \n",
       "4 -0.098267914    -0.16081016     -0.01614860      0.10565120    \n",
       "5  0.048563111     0.01011209      0.02630588      0.15959726    \n",
       "6 -0.003044061     0.07866700      0.12107945      0.23471212    \n",
       "  TCGA.OY.A56P.01 TCGA.OY.A56Q.01 TCGA.VG.A8LO.01 TCGA.WR.A838.01\n",
       "1 -0.14213896     -0.1848621      -0.06796385     -0.16457015    \n",
       "2 -0.52377136     -0.4904037      -0.31050044     -0.53384083    \n",
       "3 -0.17542054     -0.1550452      -0.10624514     -0.18362574    \n",
       "4 -0.13273756     -0.0738101      -0.17564988     -0.12621419    \n",
       "5 -0.06902823     -0.1627376      -0.03584268     -0.14502728    \n",
       "6 -0.01592671     -0.1975909      -0.02591576     -0.03654063    "
      ]
     },
     "metadata": {},
     "output_type": "display_data"
    }
   ],
   "source": [
    "head(con_NES)"
   ]
  },
  {
   "cell_type": "markdown",
   "metadata": {},
   "source": [
    "### Save NES"
   ]
  },
  {
   "cell_type": "code",
   "execution_count": 12,
   "metadata": {},
   "outputs": [],
   "source": [
    "write.table(con_NES,\n",
    "            file='../../Data/3/ConsensusTME_TCGAov_NES.txt',\n",
    "            sep='\\t',\n",
    "            row.names=F,\n",
    "            col.names=T)"
   ]
  },
  {
   "cell_type": "markdown",
   "metadata": {},
   "source": [
    "# End script"
   ]
  }
 ],
 "metadata": {
  "kernelspec": {
   "display_name": "R",
   "language": "R",
   "name": "ir"
  },
  "language_info": {
   "codemirror_mode": "r",
   "file_extension": ".r",
   "mimetype": "text/x-r-source",
   "name": "R",
   "pygments_lexer": "r",
   "version": "3.5.0"
  }
 },
 "nbformat": 4,
 "nbformat_minor": 2
}

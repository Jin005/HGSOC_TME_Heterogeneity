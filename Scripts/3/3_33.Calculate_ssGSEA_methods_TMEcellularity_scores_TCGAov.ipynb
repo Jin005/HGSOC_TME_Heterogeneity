{
 "cells": [
  {
   "cell_type": "markdown",
   "metadata": {},
   "source": [
    "# Calculate based ssGSEA methods TMEcellularity scores"
   ]
  },
  {
   "cell_type": "markdown",
   "metadata": {},
   "source": [
    "Script related to figure 3b\n",
    "\n",
    "### Aim:\n",
    "- Calculate purity scores for Bindea, Davoli, Danaher, and ConsensusTME"
   ]
  },
  {
   "cell_type": "code",
   "execution_count": 1,
   "metadata": {},
   "outputs": [
    {
     "data": {
      "text/plain": [
       "R version 3.5.0 (2018-04-23)\n",
       "Platform: x86_64-apple-darwin15.6.0 (64-bit)\n",
       "Running under: macOS High Sierra 10.13.6\n",
       "\n",
       "Matrix products: default\n",
       "BLAS: /Library/Frameworks/R.framework/Versions/3.5/Resources/lib/libRblas.0.dylib\n",
       "LAPACK: /Library/Frameworks/R.framework/Versions/3.5/Resources/lib/libRlapack.dylib\n",
       "\n",
       "locale:\n",
       "[1] C/UTF-8/C/C/C/C\n",
       "\n",
       "attached base packages:\n",
       "[1] stats     graphics  grDevices utils     datasets  methods   base     \n",
       "\n",
       "loaded via a namespace (and not attached):\n",
       " [1] compiler_3.5.0  IRdisplay_0.6.1 pbdZMQ_0.3-3    tools_3.5.0    \n",
       " [5] htmltools_0.3.6 base64enc_0.1-3 crayon_1.3.4    Rcpp_1.0.1     \n",
       " [9] uuid_0.1-2      IRkernel_0.8.14 jsonlite_1.6    digest_0.6.18  \n",
       "[13] repr_0.17       evaluate_0.13  "
      ]
     },
     "metadata": {},
     "output_type": "display_data"
    }
   ],
   "source": [
    "sessionInfo()"
   ]
  },
  {
   "cell_type": "markdown",
   "metadata": {},
   "source": [
    "## Load packages"
   ]
  },
  {
   "cell_type": "code",
   "execution_count": 1,
   "metadata": {},
   "outputs": [
    {
     "name": "stderr",
     "output_type": "stream",
     "text": [
      "Warning message:\n",
      "“package ‘GSVA’ was built under R version 3.5.1”\n",
      "Attaching package: ‘BBmisc’\n",
      "\n",
      "The following object is masked from ‘package:base’:\n",
      "\n",
      "    isFALSE\n",
      "\n"
     ]
    }
   ],
   "source": [
    "library(GSVA)\n",
    "library(BBmisc)\n",
    "library(nortest)"
   ]
  },
  {
   "cell_type": "code",
   "execution_count": 2,
   "metadata": {},
   "outputs": [],
   "source": [
    "setwd(\"~/git_repos/HGSOC_TME_Heterogeneity/Scripts/3/\")"
   ]
  },
  {
   "cell_type": "markdown",
   "metadata": {},
   "source": [
    "## Load expression data"
   ]
  },
  {
   "cell_type": "code",
   "execution_count": null,
   "metadata": {},
   "outputs": [],
   "source": [
    "mix <- \"../../Data/1/TCGAov_RNAseq.txt\""
   ]
  },
  {
   "cell_type": "code",
   "execution_count": 3,
   "metadata": {},
   "outputs": [],
   "source": [
    "data <- read.csv(mix,\n",
    "                 sep='\\t',\n",
    "                 header=T,\n",
    "                 row.names='GeneSymbol')"
   ]
  },
  {
   "cell_type": "code",
   "execution_count": 4,
   "metadata": {},
   "outputs": [
    {
     "data": {
      "text/html": [
       "<table>\n",
       "<thead><tr><th></th><th scope=col>TCGA.04.1348.01</th><th scope=col>TCGA.04.1357.01</th><th scope=col>TCGA.04.1362.01</th><th scope=col>TCGA.04.1364.01</th><th scope=col>TCGA.04.1365.01</th><th scope=col>TCGA.04.1514.01</th><th scope=col>TCGA.04.1519.01</th><th scope=col>TCGA.09.0364.01</th><th scope=col>TCGA.09.0366.01</th><th scope=col>TCGA.09.0367.01</th><th scope=col>⋯</th><th scope=col>TCGA.61.2102.01</th><th scope=col>TCGA.61.2104.01</th><th scope=col>TCGA.61.2109.01</th><th scope=col>TCGA.61.2110.01</th><th scope=col>TCGA.61.2111.01</th><th scope=col>TCGA.61.2113.01</th><th scope=col>TCGA.OY.A56P.01</th><th scope=col>TCGA.OY.A56Q.01</th><th scope=col>TCGA.VG.A8LO.01</th><th scope=col>TCGA.WR.A838.01</th></tr></thead>\n",
       "<tbody>\n",
       "\t<tr><th scope=row>A1BG</th><td>  66.4695 </td><td>  65.5664 </td><td>  41.6412 </td><td> 187.0368 </td><td>  23.9295 </td><td>  32.8123 </td><td>  46.3418 </td><td> 162.8522 </td><td>   88.5518</td><td> 192.7354 </td><td>⋯         </td><td>   63.7012</td><td>  99.1485 </td><td>  38.3684 </td><td> 140.3668 </td><td>  94.7103 </td><td>  70.4394 </td><td>  43.1736 </td><td>   33.6854</td><td>  27.9604 </td><td>  16.2092 </td></tr>\n",
       "\t<tr><th scope=row>A1BG-AS1</th><td>  36.3243 </td><td>  28.1315 </td><td>  23.2465 </td><td> 114.6008 </td><td>  10.4957 </td><td>  20.1900 </td><td>  17.2007 </td><td>  83.0906 </td><td>   65.6758</td><td>  55.1265 </td><td>⋯         </td><td>   30.3602</td><td>  71.1797 </td><td>  26.0239 </td><td>  77.2415 </td><td>  61.4890 </td><td> 106.1623 </td><td>  47.8864 </td><td>   25.3482</td><td>  17.9853 </td><td>  42.9450 </td></tr>\n",
       "\t<tr><th scope=row>A1CF</th><td>   0.0000 </td><td>   0.0000 </td><td>   0.3310 </td><td>   0.0000 </td><td>   0.0000 </td><td>   0.0000 </td><td>   0.0000 </td><td>   0.9034 </td><td>    0.0000</td><td>   0.0000 </td><td>⋯         </td><td>    0.0000</td><td>   0.0000 </td><td>   0.0000 </td><td>   1.9057 </td><td>   0.0000 </td><td>   0.0000 </td><td>   0.0000 </td><td>    0.0000</td><td>   0.0000 </td><td>   0.0000 </td></tr>\n",
       "\t<tr><th scope=row>A2M</th><td>5899.8279 </td><td>9384.4401 </td><td>3350.4207 </td><td>1455.2316 </td><td>3999.3792 </td><td>3224.5797 </td><td>1986.1593 </td><td>1487.3247 </td><td>10557.8325</td><td>4603.9013 </td><td>⋯         </td><td>10264.1373</td><td>7220.7664 </td><td>7200.1144 </td><td>1819.9428 </td><td>6179.7358 </td><td>5365.7972 </td><td>8773.5936 </td><td>10006.7877</td><td>1888.1746 </td><td>4205.6055 </td></tr>\n",
       "\t<tr><th scope=row>A2M-AS1</th><td> 118.4566 </td><td> 111.0026 </td><td>  71.3613 </td><td>  67.8607 </td><td>  52.1501 </td><td> 224.7582 </td><td> 182.0650 </td><td> 120.2838 </td><td>   53.6419</td><td>  92.9112 </td><td>⋯         </td><td>  146.6130</td><td>  45.8648 </td><td>  64.4638 </td><td>  28.5565 </td><td> 100.6605 </td><td>  23.5625 </td><td>  84.2153 </td><td>  582.3492</td><td>  59.8084 </td><td> 143.4910 </td></tr>\n",
       "\t<tr><th scope=row>A2ML1</th><td>   7.5289 </td><td>  54.6875 </td><td>   5.6263 </td><td>   5.0883 </td><td>   3.3148 </td><td>   3.7421 </td><td>   6.2305 </td><td> 278.2486 </td><td>    4.7763</td><td> 653.6058 </td><td>⋯         </td><td>    1.7993</td><td>   4.6124 </td><td>   0.4768 </td><td>  17.1510 </td><td>  15.6109 </td><td>   2.4461 </td><td>  98.3162 </td><td>  269.5768</td><td>   4.5092 </td><td> 224.5290 </td></tr>\n",
       "</tbody>\n",
       "</table>\n"
      ],
      "text/latex": [
       "\\begin{tabular}{r|lllllllllllllllllllllllllllllllllllllllllllllllllllllllllllllllllllllllllllllllllllllllllllllllllllllllllllllllllllllllllllllllllllllllllllllllllllllllllllllllllllllllllllllllllllllllllllllllllllllllllllllllllllllllllllllllllllllllllllllllllllllllllllllllllllllllllllllllllllllllllllllllllllllllllllllllllll}\n",
       "  & TCGA.04.1348.01 & TCGA.04.1357.01 & TCGA.04.1362.01 & TCGA.04.1364.01 & TCGA.04.1365.01 & TCGA.04.1514.01 & TCGA.04.1519.01 & TCGA.09.0364.01 & TCGA.09.0366.01 & TCGA.09.0367.01 & ⋯ & TCGA.61.2102.01 & TCGA.61.2104.01 & TCGA.61.2109.01 & TCGA.61.2110.01 & TCGA.61.2111.01 & TCGA.61.2113.01 & TCGA.OY.A56P.01 & TCGA.OY.A56Q.01 & TCGA.VG.A8LO.01 & TCGA.WR.A838.01\\\\\n",
       "\\hline\n",
       "\tA1BG &   66.4695  &   65.5664  &   41.6412  &  187.0368  &   23.9295  &   32.8123  &   46.3418  &  162.8522  &    88.5518 &  192.7354  & ⋯          &    63.7012 &   99.1485  &   38.3684  &  140.3668  &   94.7103  &   70.4394  &   43.1736  &    33.6854 &   27.9604  &   16.2092 \\\\\n",
       "\tA1BG-AS1 &   36.3243  &   28.1315  &   23.2465  &  114.6008  &   10.4957  &   20.1900  &   17.2007  &   83.0906  &    65.6758 &   55.1265  & ⋯          &    30.3602 &   71.1797  &   26.0239  &   77.2415  &   61.4890  &  106.1623  &   47.8864  &    25.3482 &   17.9853  &   42.9450 \\\\\n",
       "\tA1CF &    0.0000  &    0.0000  &    0.3310  &    0.0000  &    0.0000  &    0.0000  &    0.0000  &    0.9034  &     0.0000 &    0.0000  & ⋯          &     0.0000 &    0.0000  &    0.0000  &    1.9057  &    0.0000  &    0.0000  &    0.0000  &     0.0000 &    0.0000  &    0.0000 \\\\\n",
       "\tA2M & 5899.8279  & 9384.4401  & 3350.4207  & 1455.2316  & 3999.3792  & 3224.5797  & 1986.1593  & 1487.3247  & 10557.8325 & 4603.9013  & ⋯          & 10264.1373 & 7220.7664  & 7200.1144  & 1819.9428  & 6179.7358  & 5365.7972  & 8773.5936  & 10006.7877 & 1888.1746  & 4205.6055 \\\\\n",
       "\tA2M-AS1 &  118.4566  &  111.0026  &   71.3613  &   67.8607  &   52.1501  &  224.7582  &  182.0650  &  120.2838  &    53.6419 &   92.9112  & ⋯          &   146.6130 &   45.8648  &   64.4638  &   28.5565  &  100.6605  &   23.5625  &   84.2153  &   582.3492 &   59.8084  &  143.4910 \\\\\n",
       "\tA2ML1 &    7.5289  &   54.6875  &    5.6263  &    5.0883  &    3.3148  &    3.7421  &    6.2305  &  278.2486  &     4.7763 &  653.6058  & ⋯          &     1.7993 &    4.6124  &    0.4768  &   17.1510  &   15.6109  &    2.4461  &   98.3162  &   269.5768 &    4.5092  &  224.5290 \\\\\n",
       "\\end{tabular}\n"
      ],
      "text/markdown": [
       "\n",
       "| <!--/--> | TCGA.04.1348.01 | TCGA.04.1357.01 | TCGA.04.1362.01 | TCGA.04.1364.01 | TCGA.04.1365.01 | TCGA.04.1514.01 | TCGA.04.1519.01 | TCGA.09.0364.01 | TCGA.09.0366.01 | TCGA.09.0367.01 | ⋯ | TCGA.61.2102.01 | TCGA.61.2104.01 | TCGA.61.2109.01 | TCGA.61.2110.01 | TCGA.61.2111.01 | TCGA.61.2113.01 | TCGA.OY.A56P.01 | TCGA.OY.A56Q.01 | TCGA.VG.A8LO.01 | TCGA.WR.A838.01 | \n",
       "|---|---|---|---|---|---|\n",
       "| A1BG |   66.4695  |   65.5664  |   41.6412  |  187.0368  |   23.9295  |   32.8123  |   46.3418  |  162.8522  |    88.5518 |  192.7354  | ⋯          |    63.7012 |   99.1485  |   38.3684  |  140.3668  |   94.7103  |   70.4394  |   43.1736  |    33.6854 |   27.9604  |   16.2092  | \n",
       "| A1BG-AS1 |   36.3243  |   28.1315  |   23.2465  |  114.6008  |   10.4957  |   20.1900  |   17.2007  |   83.0906  |    65.6758 |   55.1265  | ⋯          |    30.3602 |   71.1797  |   26.0239  |   77.2415  |   61.4890  |  106.1623  |   47.8864  |    25.3482 |   17.9853  |   42.9450  | \n",
       "| A1CF |    0.0000  |    0.0000  |    0.3310  |    0.0000  |    0.0000  |    0.0000  |    0.0000  |    0.9034  |     0.0000 |    0.0000  | ⋯          |     0.0000 |    0.0000  |    0.0000  |    1.9057  |    0.0000  |    0.0000  |    0.0000  |     0.0000 |    0.0000  |    0.0000  | \n",
       "| A2M | 5899.8279  | 9384.4401  | 3350.4207  | 1455.2316  | 3999.3792  | 3224.5797  | 1986.1593  | 1487.3247  | 10557.8325 | 4603.9013  | ⋯          | 10264.1373 | 7220.7664  | 7200.1144  | 1819.9428  | 6179.7358  | 5365.7972  | 8773.5936  | 10006.7877 | 1888.1746  | 4205.6055  | \n",
       "| A2M-AS1 |  118.4566  |  111.0026  |   71.3613  |   67.8607  |   52.1501  |  224.7582  |  182.0650  |  120.2838  |    53.6419 |   92.9112  | ⋯          |   146.6130 |   45.8648  |   64.4638  |   28.5565  |  100.6605  |   23.5625  |   84.2153  |   582.3492 |   59.8084  |  143.4910  | \n",
       "| A2ML1 |    7.5289  |   54.6875  |    5.6263  |    5.0883  |    3.3148  |    3.7421  |    6.2305  |  278.2486  |     4.7763 |  653.6058  | ⋯          |     1.7993 |    4.6124  |    0.4768  |   17.1510  |   15.6109  |    2.4461  |   98.3162  |   269.5768 |    4.5092  |  224.5290  | \n",
       "\n",
       "\n"
      ],
      "text/plain": [
       "         TCGA.04.1348.01 TCGA.04.1357.01 TCGA.04.1362.01 TCGA.04.1364.01\n",
       "A1BG       66.4695         65.5664         41.6412        187.0368      \n",
       "A1BG-AS1   36.3243         28.1315         23.2465        114.6008      \n",
       "A1CF        0.0000          0.0000          0.3310          0.0000      \n",
       "A2M      5899.8279       9384.4401       3350.4207       1455.2316      \n",
       "A2M-AS1   118.4566        111.0026         71.3613         67.8607      \n",
       "A2ML1       7.5289         54.6875          5.6263          5.0883      \n",
       "         TCGA.04.1365.01 TCGA.04.1514.01 TCGA.04.1519.01 TCGA.09.0364.01\n",
       "A1BG       23.9295         32.8123         46.3418        162.8522      \n",
       "A1BG-AS1   10.4957         20.1900         17.2007         83.0906      \n",
       "A1CF        0.0000          0.0000          0.0000          0.9034      \n",
       "A2M      3999.3792       3224.5797       1986.1593       1487.3247      \n",
       "A2M-AS1    52.1501        224.7582        182.0650        120.2838      \n",
       "A2ML1       3.3148          3.7421          6.2305        278.2486      \n",
       "         TCGA.09.0366.01 TCGA.09.0367.01 ⋯ TCGA.61.2102.01 TCGA.61.2104.01\n",
       "A1BG        88.5518       192.7354       ⋯    63.7012        99.1485      \n",
       "A1BG-AS1    65.6758        55.1265       ⋯    30.3602        71.1797      \n",
       "A1CF         0.0000         0.0000       ⋯     0.0000         0.0000      \n",
       "A2M      10557.8325      4603.9013       ⋯ 10264.1373      7220.7664      \n",
       "A2M-AS1     53.6419        92.9112       ⋯   146.6130        45.8648      \n",
       "A2ML1        4.7763       653.6058       ⋯     1.7993         4.6124      \n",
       "         TCGA.61.2109.01 TCGA.61.2110.01 TCGA.61.2111.01 TCGA.61.2113.01\n",
       "A1BG       38.3684        140.3668         94.7103         70.4394      \n",
       "A1BG-AS1   26.0239         77.2415         61.4890        106.1623      \n",
       "A1CF        0.0000          1.9057          0.0000          0.0000      \n",
       "A2M      7200.1144       1819.9428       6179.7358       5365.7972      \n",
       "A2M-AS1    64.4638         28.5565        100.6605         23.5625      \n",
       "A2ML1       0.4768         17.1510         15.6109          2.4461      \n",
       "         TCGA.OY.A56P.01 TCGA.OY.A56Q.01 TCGA.VG.A8LO.01 TCGA.WR.A838.01\n",
       "A1BG       43.1736          33.6854        27.9604         16.2092      \n",
       "A1BG-AS1   47.8864          25.3482        17.9853         42.9450      \n",
       "A1CF        0.0000           0.0000         0.0000          0.0000      \n",
       "A2M      8773.5936       10006.7877      1888.1746       4205.6055      \n",
       "A2M-AS1    84.2153         582.3492        59.8084        143.4910      \n",
       "A2ML1      98.3162         269.5768         4.5092        224.5290      "
      ]
     },
     "metadata": {},
     "output_type": "display_data"
    }
   ],
   "source": [
    "head(data)"
   ]
  },
  {
   "cell_type": "code",
   "execution_count": 5,
   "metadata": {},
   "outputs": [],
   "source": [
    "data_mtx <- as.matrix(data)"
   ]
  },
  {
   "cell_type": "markdown",
   "metadata": {},
   "source": [
    "## Load Bindea TME cellularity gene set"
   ]
  },
  {
   "cell_type": "code",
   "execution_count": 6,
   "metadata": {},
   "outputs": [],
   "source": [
    "Bindea_TMEcell <- read.csv('../../Data/3/BindeaTMEcellularity_GeneSet.txt',\n",
    "                           sep='\\t',\n",
    "                           header=F,\n",
    "                           row.names=1)"
   ]
  },
  {
   "cell_type": "code",
   "execution_count": 7,
   "metadata": {},
   "outputs": [
    {
     "data": {
      "text/html": [
       "<table>\n",
       "<thead><tr><th></th><th scope=col>V2</th><th scope=col>V3</th><th scope=col>V4</th><th scope=col>V5</th><th scope=col>V6</th><th scope=col>V7</th><th scope=col>V8</th><th scope=col>V9</th><th scope=col>V10</th><th scope=col>V11</th><th scope=col>⋯</th><th scope=col>V541</th><th scope=col>V542</th><th scope=col>V543</th><th scope=col>V544</th><th scope=col>V545</th><th scope=col>V546</th><th scope=col>V547</th><th scope=col>V548</th><th scope=col>V549</th><th scope=col>V550</th></tr></thead>\n",
       "<tbody>\n",
       "\t<tr><th scope=row>Bindea_TMEcell</th><td>A2M    </td><td>ABCB4  </td><td>ABCC4  </td><td>ABCG2  </td><td>ABHD2  </td><td>ABT1   </td><td>ACACB  </td><td>ACVRL1 </td><td>ADARB1 </td><td>ADCY1  </td><td>⋯      </td><td>ZEB1   </td><td>ZFP36L2</td><td>ZNF205 </td><td>ZNF22  </td><td>ZNF423 </td><td>ZNF528 </td><td>ZNF609 </td><td>ZNF747 </td><td>ZNF764 </td><td>ZNF91  </td></tr>\n",
       "</tbody>\n",
       "</table>\n"
      ],
      "text/latex": [
       "\\begin{tabular}{r|lllllllllllllllllllllllllllllllllllllllllllllllllllllllllllllllllllllllllllllllllllllllllllllllllllllllllllllllllllllllllllllllllllllllllllllllllllllllllllllllllllllllllllllllllllllllllllllllllllllllllllllllllllllllllllllllllllllllllllllllllllllllllllllllllllllllllllllllllllllllllllllllllllllllllllllllllllllllllllllllllllllllllllllllllllllllllllllllllllllllllllllllllllllllllllllllllllllllllllllllllllllllllllllllllllllllllllllllllllllllllllllllllllllllllllllllllllllllllllllllllllllllllllllllllllllllllllllllllllllllllllllllllllllllllllllllllllll}\n",
       "  & V2 & V3 & V4 & V5 & V6 & V7 & V8 & V9 & V10 & V11 & ⋯ & V541 & V542 & V543 & V544 & V545 & V546 & V547 & V548 & V549 & V550\\\\\n",
       "\\hline\n",
       "\tBindea\\_TMEcell & A2M     & ABCB4   & ABCC4   & ABCG2   & ABHD2   & ABT1    & ACACB   & ACVRL1  & ADARB1  & ADCY1   & ⋯       & ZEB1    & ZFP36L2 & ZNF205  & ZNF22   & ZNF423  & ZNF528  & ZNF609  & ZNF747  & ZNF764  & ZNF91  \\\\\n",
       "\\end{tabular}\n"
      ],
      "text/markdown": [
       "\n",
       "| <!--/--> | V2 | V3 | V4 | V5 | V6 | V7 | V8 | V9 | V10 | V11 | ⋯ | V541 | V542 | V543 | V544 | V545 | V546 | V547 | V548 | V549 | V550 | \n",
       "|---|\n",
       "| Bindea_TMEcell | A2M     | ABCB4   | ABCC4   | ABCG2   | ABHD2   | ABT1    | ACACB   | ACVRL1  | ADARB1  | ADCY1   | ⋯       | ZEB1    | ZFP36L2 | ZNF205  | ZNF22   | ZNF423  | ZNF528  | ZNF609  | ZNF747  | ZNF764  | ZNF91   | \n",
       "\n",
       "\n"
      ],
      "text/plain": [
       "               V2  V3    V4    V5    V6    V7   V8    V9     V10    V11   ⋯\n",
       "Bindea_TMEcell A2M ABCB4 ABCC4 ABCG2 ABHD2 ABT1 ACACB ACVRL1 ADARB1 ADCY1 ⋯\n",
       "               V541 V542    V543   V544  V545   V546   V547   V548   V549  \n",
       "Bindea_TMEcell ZEB1 ZFP36L2 ZNF205 ZNF22 ZNF423 ZNF528 ZNF609 ZNF747 ZNF764\n",
       "               V550 \n",
       "Bindea_TMEcell ZNF91"
      ]
     },
     "metadata": {},
     "output_type": "display_data"
    }
   ],
   "source": [
    "head(Bindea_TMEcell)"
   ]
  },
  {
   "cell_type": "code",
   "execution_count": 8,
   "metadata": {},
   "outputs": [],
   "source": [
    "Bindea_TMEcell <- convertRowsToList(Bindea_TMEcell)"
   ]
  },
  {
   "cell_type": "markdown",
   "metadata": {},
   "source": [
    "## Load Davoli TME cellularity gene set"
   ]
  },
  {
   "cell_type": "code",
   "execution_count": 9,
   "metadata": {},
   "outputs": [],
   "source": [
    "Davoli_TMEcell <- read.csv('../../Data/3/DavoliTMEcellularity_GeneSet.txt',\n",
    "                           sep='\\t',\n",
    "                           header=F,\n",
    "                           row.names=1)"
   ]
  },
  {
   "cell_type": "code",
   "execution_count": 10,
   "metadata": {},
   "outputs": [
    {
     "data": {
      "text/html": [
       "<table>\n",
       "<thead><tr><th></th><th scope=col>V2</th><th scope=col>V3</th><th scope=col>V4</th><th scope=col>V5</th><th scope=col>V6</th><th scope=col>V7</th><th scope=col>V8</th><th scope=col>V9</th><th scope=col>V10</th><th scope=col>V11</th><th scope=col>⋯</th><th scope=col>V67</th><th scope=col>V68</th><th scope=col>V69</th><th scope=col>V70</th><th scope=col>V71</th><th scope=col>V72</th><th scope=col>V73</th><th scope=col>V74</th><th scope=col>V75</th><th scope=col>V76</th></tr></thead>\n",
       "<tbody>\n",
       "\t<tr><th scope=row>Davoli_TMEcell</th><td>AMIGO2  </td><td>ANPEP   </td><td>BANK1   </td><td>BCL11B  </td><td>C1QA    </td><td>C1QB    </td><td>C1QC    </td><td>CCL5    </td><td>CCL8    </td><td>CCR5    </td><td>⋯       </td><td>RCAN3   </td><td>RENBP   </td><td>SAMD3   </td><td>SERPINB9</td><td>SLAMF1  </td><td>SLC35D1 </td><td>STYK1   </td><td>TBX21   </td><td>TNIP3   </td><td>TRAT1   </td></tr>\n",
       "</tbody>\n",
       "</table>\n"
      ],
      "text/latex": [
       "\\begin{tabular}{r|lllllllllllllllllllllllllllllllllllllllllllllllllllllllllllllllllllllllllll}\n",
       "  & V2 & V3 & V4 & V5 & V6 & V7 & V8 & V9 & V10 & V11 & ⋯ & V67 & V68 & V69 & V70 & V71 & V72 & V73 & V74 & V75 & V76\\\\\n",
       "\\hline\n",
       "\tDavoli\\_TMEcell & AMIGO2   & ANPEP    & BANK1    & BCL11B   & C1QA     & C1QB     & C1QC     & CCL5     & CCL8     & CCR5     & ⋯        & RCAN3    & RENBP    & SAMD3    & SERPINB9 & SLAMF1   & SLC35D1  & STYK1    & TBX21    & TNIP3    & TRAT1   \\\\\n",
       "\\end{tabular}\n"
      ],
      "text/markdown": [
       "\n",
       "| <!--/--> | V2 | V3 | V4 | V5 | V6 | V7 | V8 | V9 | V10 | V11 | ⋯ | V67 | V68 | V69 | V70 | V71 | V72 | V73 | V74 | V75 | V76 | \n",
       "|---|\n",
       "| Davoli_TMEcell | AMIGO2   | ANPEP    | BANK1    | BCL11B   | C1QA     | C1QB     | C1QC     | CCL5     | CCL8     | CCR5     | ⋯        | RCAN3    | RENBP    | SAMD3    | SERPINB9 | SLAMF1   | SLC35D1  | STYK1    | TBX21    | TNIP3    | TRAT1    | \n",
       "\n",
       "\n"
      ],
      "text/plain": [
       "               V2     V3    V4    V5     V6   V7   V8   V9   V10  V11  ⋯ V67  \n",
       "Davoli_TMEcell AMIGO2 ANPEP BANK1 BCL11B C1QA C1QB C1QC CCL5 CCL8 CCR5 ⋯ RCAN3\n",
       "               V68   V69   V70      V71    V72     V73   V74   V75   V76  \n",
       "Davoli_TMEcell RENBP SAMD3 SERPINB9 SLAMF1 SLC35D1 STYK1 TBX21 TNIP3 TRAT1"
      ]
     },
     "metadata": {},
     "output_type": "display_data"
    }
   ],
   "source": [
    "head(Davoli_TMEcell)"
   ]
  },
  {
   "cell_type": "code",
   "execution_count": 11,
   "metadata": {},
   "outputs": [],
   "source": [
    "Davoli_TMEcell <- convertRowsToList(Davoli_TMEcell)"
   ]
  },
  {
   "cell_type": "markdown",
   "metadata": {},
   "source": [
    "## Load Danaher purity gene set"
   ]
  },
  {
   "cell_type": "code",
   "execution_count": 12,
   "metadata": {},
   "outputs": [],
   "source": [
    "Danaher_TMEcell <- read.csv('../../Data/3/DanaherTMEcellularity_GeneSet.txt',\n",
    "                            sep='\\t',\n",
    "                            header=F,\n",
    "                            row.names=1)"
   ]
  },
  {
   "cell_type": "code",
   "execution_count": 13,
   "metadata": {},
   "outputs": [
    {
     "data": {
      "text/html": [
       "<table>\n",
       "<thead><tr><th></th><th scope=col>V2</th><th scope=col>V3</th><th scope=col>V4</th><th scope=col>V5</th><th scope=col>V6</th><th scope=col>V7</th><th scope=col>V8</th><th scope=col>V9</th><th scope=col>V10</th><th scope=col>V11</th><th scope=col>⋯</th><th scope=col>V52</th><th scope=col>V53</th><th scope=col>V54</th><th scope=col>V55</th><th scope=col>V56</th><th scope=col>V57</th><th scope=col>V58</th><th scope=col>V59</th><th scope=col>V60</th><th scope=col>V61</th></tr></thead>\n",
       "<tbody>\n",
       "\t<tr><th scope=row>Danaher_TMEcell</th><td>BLK     </td><td>CCL13   </td><td>CD163   </td><td>CD19    </td><td>CD209   </td><td>CD244   </td><td>CD3D    </td><td>CD3E    </td><td>CD3G    </td><td>CD6     </td><td>⋯       </td><td>SIGLEC5 </td><td>SPIB    </td><td>TBX21   </td><td>TCL1A   </td><td>TNFRSF17</td><td>TPSAB1  </td><td>TPSB2   </td><td>TRAT1   </td><td>XCL1    </td><td>XCL2    </td></tr>\n",
       "</tbody>\n",
       "</table>\n"
      ],
      "text/latex": [
       "\\begin{tabular}{r|llllllllllllllllllllllllllllllllllllllllllllllllllllllllllll}\n",
       "  & V2 & V3 & V4 & V5 & V6 & V7 & V8 & V9 & V10 & V11 & ⋯ & V52 & V53 & V54 & V55 & V56 & V57 & V58 & V59 & V60 & V61\\\\\n",
       "\\hline\n",
       "\tDanaher\\_TMEcell & BLK      & CCL13    & CD163    & CD19     & CD209    & CD244    & CD3D     & CD3E     & CD3G     & CD6      & ⋯        & SIGLEC5  & SPIB     & TBX21    & TCL1A    & TNFRSF17 & TPSAB1   & TPSB2    & TRAT1    & XCL1     & XCL2    \\\\\n",
       "\\end{tabular}\n"
      ],
      "text/markdown": [
       "\n",
       "| <!--/--> | V2 | V3 | V4 | V5 | V6 | V7 | V8 | V9 | V10 | V11 | ⋯ | V52 | V53 | V54 | V55 | V56 | V57 | V58 | V59 | V60 | V61 | \n",
       "|---|\n",
       "| Danaher_TMEcell | BLK      | CCL13    | CD163    | CD19     | CD209    | CD244    | CD3D     | CD3E     | CD3G     | CD6      | ⋯        | SIGLEC5  | SPIB     | TBX21    | TCL1A    | TNFRSF17 | TPSAB1   | TPSB2    | TRAT1    | XCL1     | XCL2     | \n",
       "\n",
       "\n"
      ],
      "text/plain": [
       "                V2  V3    V4    V5   V6    V7    V8   V9   V10  V11 ⋯ V52    \n",
       "Danaher_TMEcell BLK CCL13 CD163 CD19 CD209 CD244 CD3D CD3E CD3G CD6 ⋯ SIGLEC5\n",
       "                V53  V54   V55   V56      V57    V58   V59   V60  V61 \n",
       "Danaher_TMEcell SPIB TBX21 TCL1A TNFRSF17 TPSAB1 TPSB2 TRAT1 XCL1 XCL2"
      ]
     },
     "metadata": {},
     "output_type": "display_data"
    }
   ],
   "source": [
    "head(Danaher_TMEcell)"
   ]
  },
  {
   "cell_type": "code",
   "execution_count": 14,
   "metadata": {},
   "outputs": [],
   "source": [
    "Danaher_TMEcell <- convertRowsToList(Danaher_TMEcell)"
   ]
  },
  {
   "cell_type": "markdown",
   "metadata": {},
   "source": [
    "## Load ConsensusTME purity gene set"
   ]
  },
  {
   "cell_type": "code",
   "execution_count": 15,
   "metadata": {},
   "outputs": [],
   "source": [
    "ConsensusTMEcell <- read.csv('../../Data/3/ConsensusTMEcellularity_GeneSet.txt',\n",
    "                             sep='\\t',\n",
    "                             header=F,\n",
    "                             row.names=1)"
   ]
  },
  {
   "cell_type": "code",
   "execution_count": 16,
   "metadata": {},
   "outputs": [
    {
     "data": {
      "text/html": [
       "<table>\n",
       "<thead><tr><th></th><th scope=col>V2</th><th scope=col>V3</th><th scope=col>V4</th><th scope=col>V5</th><th scope=col>V6</th><th scope=col>V7</th><th scope=col>V8</th><th scope=col>V9</th><th scope=col>V10</th><th scope=col>V11</th><th scope=col>⋯</th><th scope=col>V191</th><th scope=col>V192</th><th scope=col>V193</th><th scope=col>V194</th><th scope=col>V195</th><th scope=col>V196</th><th scope=col>V197</th><th scope=col>V198</th><th scope=col>V199</th><th scope=col>V200</th></tr></thead>\n",
       "<tbody>\n",
       "\t<tr><th scope=row>ConsensusTME_TMEcellularity</th><td>ABCA6   </td><td>ABHD2   </td><td>ACTR2   </td><td>AIF1    </td><td>AIM2    </td><td>AKAP13  </td><td>APOBEC3G</td><td>ARHGAP15</td><td>ASPN    </td><td>ATG7    </td><td>⋯       </td><td>TRAF3IP3</td><td>TRAT1   </td><td>TREM1   </td><td>TREM2   </td><td>VASP    </td><td>VNN2    </td><td>WAS     </td><td>WISP1   </td><td>WNT2    </td><td>ZAP70   </td></tr>\n",
       "</tbody>\n",
       "</table>\n"
      ],
      "text/latex": [
       "\\begin{tabular}{r|lllllllllllllllllllllllllllllllllllllllllllllllllllllllllllllllllllllllllllllllllllllllllllllllllllllllllllllllllllllllllllllllllllllllllllllllllllllllllllllllllllllllllllllllllllllllllllllllllllllll}\n",
       "  & V2 & V3 & V4 & V5 & V6 & V7 & V8 & V9 & V10 & V11 & ⋯ & V191 & V192 & V193 & V194 & V195 & V196 & V197 & V198 & V199 & V200\\\\\n",
       "\\hline\n",
       "\tConsensusTME\\_TMEcellularity & ABCA6    & ABHD2    & ACTR2    & AIF1     & AIM2     & AKAP13   & APOBEC3G & ARHGAP15 & ASPN     & ATG7     & ⋯        & TRAF3IP3 & TRAT1    & TREM1    & TREM2    & VASP     & VNN2     & WAS      & WISP1    & WNT2     & ZAP70   \\\\\n",
       "\\end{tabular}\n"
      ],
      "text/markdown": [
       "\n",
       "| <!--/--> | V2 | V3 | V4 | V5 | V6 | V7 | V8 | V9 | V10 | V11 | ⋯ | V191 | V192 | V193 | V194 | V195 | V196 | V197 | V198 | V199 | V200 | \n",
       "|---|\n",
       "| ConsensusTME_TMEcellularity | ABCA6    | ABHD2    | ACTR2    | AIF1     | AIM2     | AKAP13   | APOBEC3G | ARHGAP15 | ASPN     | ATG7     | ⋯        | TRAF3IP3 | TRAT1    | TREM1    | TREM2    | VASP     | VNN2     | WAS      | WISP1    | WNT2     | ZAP70    | \n",
       "\n",
       "\n"
      ],
      "text/plain": [
       "                            V2    V3    V4    V5   V6   V7     V8      \n",
       "ConsensusTME_TMEcellularity ABCA6 ABHD2 ACTR2 AIF1 AIM2 AKAP13 APOBEC3G\n",
       "                            V9       V10  V11  ⋯ V191     V192  V193  V194 \n",
       "ConsensusTME_TMEcellularity ARHGAP15 ASPN ATG7 ⋯ TRAF3IP3 TRAT1 TREM1 TREM2\n",
       "                            V195 V196 V197 V198  V199 V200 \n",
       "ConsensusTME_TMEcellularity VASP VNN2 WAS  WISP1 WNT2 ZAP70"
      ]
     },
     "metadata": {},
     "output_type": "display_data"
    }
   ],
   "source": [
    "head(ConsensusTMEcell)"
   ]
  },
  {
   "cell_type": "code",
   "execution_count": 17,
   "metadata": {},
   "outputs": [],
   "source": [
    "ConsensusTMEcell <- convertRowsToList(ConsensusTMEcell)"
   ]
  },
  {
   "cell_type": "markdown",
   "metadata": {},
   "source": [
    "## Run ssGSEA"
   ]
  },
  {
   "cell_type": "markdown",
   "metadata": {},
   "source": [
    "#### Bindea"
   ]
  },
  {
   "cell_type": "code",
   "execution_count": 18,
   "metadata": {},
   "outputs": [
    {
     "name": "stderr",
     "output_type": "stream",
     "text": [
      "Warning message in .local(expr, gset.idx.list, ...):\n",
      "“338 genes with constant expression values throuhgout the samples.”"
     ]
    },
    {
     "name": "stdout",
     "output_type": "stream",
     "text": [
      "Estimating ssGSEA scores for 1 gene sets.\n",
      "  |                                                                      |   0%Using parallel with 4 cores\n",
      "  |======================================================================| 100%\n"
     ]
    }
   ],
   "source": [
    "bin_NES <- gsva(data_mtx,\n",
    "                Bindea_TMEcell,\n",
    "                method='ssgsea',\n",
    "                min.sz=0,\n",
    "                max.sz=1100,\n",
    "                ssgsea.norm=T)"
   ]
  },
  {
   "cell_type": "code",
   "execution_count": 19,
   "metadata": {},
   "outputs": [],
   "source": [
    "bin_NES <- data.frame(\"Term\"=rownames(bin_NES),\n",
    "                      bin_NES)\n",
    "\n",
    "rownames(bin_NES) <- NULL"
   ]
  },
  {
   "cell_type": "code",
   "execution_count": 20,
   "metadata": {},
   "outputs": [
    {
     "data": {
      "text/html": [
       "<table>\n",
       "<thead><tr><th scope=col>Term</th><th scope=col>TCGA.04.1348.01</th><th scope=col>TCGA.04.1357.01</th><th scope=col>TCGA.04.1362.01</th><th scope=col>TCGA.04.1364.01</th><th scope=col>TCGA.04.1365.01</th><th scope=col>TCGA.04.1514.01</th><th scope=col>TCGA.04.1519.01</th><th scope=col>TCGA.09.0364.01</th><th scope=col>TCGA.09.0366.01</th><th scope=col>⋯</th><th scope=col>TCGA.61.2102.01</th><th scope=col>TCGA.61.2104.01</th><th scope=col>TCGA.61.2109.01</th><th scope=col>TCGA.61.2110.01</th><th scope=col>TCGA.61.2111.01</th><th scope=col>TCGA.61.2113.01</th><th scope=col>TCGA.OY.A56P.01</th><th scope=col>TCGA.OY.A56Q.01</th><th scope=col>TCGA.VG.A8LO.01</th><th scope=col>TCGA.WR.A838.01</th></tr></thead>\n",
       "<tbody>\n",
       "\t<tr><td>Bindea_TMEcell</td><td>0.7232356     </td><td>1.022811      </td><td>0.5347471     </td><td>0.3110132     </td><td>0.7186156     </td><td>0.4524902     </td><td>0.4034813     </td><td>0.3175915     </td><td>0.6883937     </td><td>⋯             </td><td>0.7706213     </td><td>0.6830099     </td><td>0.5379009     </td><td>0.5738575     </td><td>0.6737607     </td><td>0.8239319     </td><td>0.3792633     </td><td>0.3534607     </td><td>0.433556      </td><td>0.3293046     </td></tr>\n",
       "</tbody>\n",
       "</table>\n"
      ],
      "text/latex": [
       "\\begin{tabular}{r|llllllllllllllllllllllllllllllllllllllllllllllllllllllllllllllllllllllllllllllllllllllllllllllllllllllllllllllllllllllllllllllllllllllllllllllllllllllllllllllllllllllllllllllllllllllllllllllllllllllllllllllllllllllllllllllllllllllllllllllllllllllllllllllllllllllllllllllllllllllllllllllllllllllllllllllllllll}\n",
       " Term & TCGA.04.1348.01 & TCGA.04.1357.01 & TCGA.04.1362.01 & TCGA.04.1364.01 & TCGA.04.1365.01 & TCGA.04.1514.01 & TCGA.04.1519.01 & TCGA.09.0364.01 & TCGA.09.0366.01 & ⋯ & TCGA.61.2102.01 & TCGA.61.2104.01 & TCGA.61.2109.01 & TCGA.61.2110.01 & TCGA.61.2111.01 & TCGA.61.2113.01 & TCGA.OY.A56P.01 & TCGA.OY.A56Q.01 & TCGA.VG.A8LO.01 & TCGA.WR.A838.01\\\\\n",
       "\\hline\n",
       "\t Bindea\\_TMEcell & 0.7232356        & 1.022811         & 0.5347471        & 0.3110132        & 0.7186156        & 0.4524902        & 0.4034813        & 0.3175915        & 0.6883937        & ⋯                & 0.7706213        & 0.6830099        & 0.5379009        & 0.5738575        & 0.6737607        & 0.8239319        & 0.3792633        & 0.3534607        & 0.433556         & 0.3293046       \\\\\n",
       "\\end{tabular}\n"
      ],
      "text/markdown": [
       "\n",
       "Term | TCGA.04.1348.01 | TCGA.04.1357.01 | TCGA.04.1362.01 | TCGA.04.1364.01 | TCGA.04.1365.01 | TCGA.04.1514.01 | TCGA.04.1519.01 | TCGA.09.0364.01 | TCGA.09.0366.01 | ⋯ | TCGA.61.2102.01 | TCGA.61.2104.01 | TCGA.61.2109.01 | TCGA.61.2110.01 | TCGA.61.2111.01 | TCGA.61.2113.01 | TCGA.OY.A56P.01 | TCGA.OY.A56Q.01 | TCGA.VG.A8LO.01 | TCGA.WR.A838.01 | \n",
       "|---|\n",
       "| Bindea_TMEcell | 0.7232356      | 1.022811       | 0.5347471      | 0.3110132      | 0.7186156      | 0.4524902      | 0.4034813      | 0.3175915      | 0.6883937      | ⋯              | 0.7706213      | 0.6830099      | 0.5379009      | 0.5738575      | 0.6737607      | 0.8239319      | 0.3792633      | 0.3534607      | 0.433556       | 0.3293046      | \n",
       "\n",
       "\n"
      ],
      "text/plain": [
       "  Term           TCGA.04.1348.01 TCGA.04.1357.01 TCGA.04.1362.01\n",
       "1 Bindea_TMEcell 0.7232356       1.022811        0.5347471      \n",
       "  TCGA.04.1364.01 TCGA.04.1365.01 TCGA.04.1514.01 TCGA.04.1519.01\n",
       "1 0.3110132       0.7186156       0.4524902       0.4034813      \n",
       "  TCGA.09.0364.01 TCGA.09.0366.01 ⋯ TCGA.61.2102.01 TCGA.61.2104.01\n",
       "1 0.3175915       0.6883937       ⋯ 0.7706213       0.6830099      \n",
       "  TCGA.61.2109.01 TCGA.61.2110.01 TCGA.61.2111.01 TCGA.61.2113.01\n",
       "1 0.5379009       0.5738575       0.6737607       0.8239319      \n",
       "  TCGA.OY.A56P.01 TCGA.OY.A56Q.01 TCGA.VG.A8LO.01 TCGA.WR.A838.01\n",
       "1 0.3792633       0.3534607       0.433556        0.3293046      "
      ]
     },
     "metadata": {},
     "output_type": "display_data"
    }
   ],
   "source": [
    "head(bin_NES)"
   ]
  },
  {
   "cell_type": "code",
   "execution_count": 21,
   "metadata": {},
   "outputs": [],
   "source": [
    "write.table(bin_NES,\n",
    "            file='../../Data/3/BindeaTMEcellularity_TCGAov_NES.txt',\n",
    "            sep='\\t',\n",
    "            row.names=F,\n",
    "            col.names=T)"
   ]
  },
  {
   "cell_type": "markdown",
   "metadata": {},
   "source": [
    "#### Davoli"
   ]
  },
  {
   "cell_type": "code",
   "execution_count": 22,
   "metadata": {},
   "outputs": [
    {
     "name": "stderr",
     "output_type": "stream",
     "text": [
      "Warning message in .local(expr, gset.idx.list, ...):\n",
      "“338 genes with constant expression values throuhgout the samples.”"
     ]
    },
    {
     "name": "stdout",
     "output_type": "stream",
     "text": [
      "Estimating ssGSEA scores for 1 gene sets.\n",
      "  |                                                                      |   0%Using parallel with 4 cores\n",
      "  |======================================================================| 100%\n"
     ]
    }
   ],
   "source": [
    "dav_NES <- gsva(data_mtx,\n",
    "                Davoli_TMEcell,\n",
    "                method='ssgsea',\n",
    "                min.sz=0,\n",
    "                max.sz=1100,\n",
    "                ssgsea.norm=T)"
   ]
  },
  {
   "cell_type": "code",
   "execution_count": 23,
   "metadata": {},
   "outputs": [],
   "source": [
    "dav_NES <- data.frame(\"Term\"=rownames(dav_NES),\n",
    "                      dav_NES)\n",
    "\n",
    "rownames(dav_NES) <- NULL"
   ]
  },
  {
   "cell_type": "code",
   "execution_count": 24,
   "metadata": {},
   "outputs": [
    {
     "data": {
      "text/html": [
       "<table>\n",
       "<thead><tr><th scope=col>Term</th><th scope=col>TCGA.04.1348.01</th><th scope=col>TCGA.04.1357.01</th><th scope=col>TCGA.04.1362.01</th><th scope=col>TCGA.04.1364.01</th><th scope=col>TCGA.04.1365.01</th><th scope=col>TCGA.04.1514.01</th><th scope=col>TCGA.04.1519.01</th><th scope=col>TCGA.09.0364.01</th><th scope=col>TCGA.09.0366.01</th><th scope=col>⋯</th><th scope=col>TCGA.61.2102.01</th><th scope=col>TCGA.61.2104.01</th><th scope=col>TCGA.61.2109.01</th><th scope=col>TCGA.61.2110.01</th><th scope=col>TCGA.61.2111.01</th><th scope=col>TCGA.61.2113.01</th><th scope=col>TCGA.OY.A56P.01</th><th scope=col>TCGA.OY.A56Q.01</th><th scope=col>TCGA.VG.A8LO.01</th><th scope=col>TCGA.WR.A838.01</th></tr></thead>\n",
       "<tbody>\n",
       "\t<tr><td>Davoli_TMEcell</td><td>0.1532845     </td><td>0.3756873     </td><td>-0.2540212    </td><td>-0.5310531    </td><td>0.07847188    </td><td>-0.4942905    </td><td>-0.3853437    </td><td>-0.5954481    </td><td>-0.02651432   </td><td>⋯             </td><td>-0.2525507    </td><td>0.04738229    </td><td>-0.1776927    </td><td>-0.3375489    </td><td>-0.0941406    </td><td>0.05417709    </td><td>-0.4878406    </td><td>-0.5095475    </td><td>-0.2837717    </td><td>-0.4875616    </td></tr>\n",
       "</tbody>\n",
       "</table>\n"
      ],
      "text/latex": [
       "\\begin{tabular}{r|llllllllllllllllllllllllllllllllllllllllllllllllllllllllllllllllllllllllllllllllllllllllllllllllllllllllllllllllllllllllllllllllllllllllllllllllllllllllllllllllllllllllllllllllllllllllllllllllllllllllllllllllllllllllllllllllllllllllllllllllllllllllllllllllllllllllllllllllllllllllllllllllllllllllllllllllllll}\n",
       " Term & TCGA.04.1348.01 & TCGA.04.1357.01 & TCGA.04.1362.01 & TCGA.04.1364.01 & TCGA.04.1365.01 & TCGA.04.1514.01 & TCGA.04.1519.01 & TCGA.09.0364.01 & TCGA.09.0366.01 & ⋯ & TCGA.61.2102.01 & TCGA.61.2104.01 & TCGA.61.2109.01 & TCGA.61.2110.01 & TCGA.61.2111.01 & TCGA.61.2113.01 & TCGA.OY.A56P.01 & TCGA.OY.A56Q.01 & TCGA.VG.A8LO.01 & TCGA.WR.A838.01\\\\\n",
       "\\hline\n",
       "\t Davoli\\_TMEcell & 0.1532845        & 0.3756873        & -0.2540212       & -0.5310531       & 0.07847188       & -0.4942905       & -0.3853437       & -0.5954481       & -0.02651432      & ⋯                & -0.2525507       & 0.04738229       & -0.1776927       & -0.3375489       & -0.0941406       & 0.05417709       & -0.4878406       & -0.5095475       & -0.2837717       & -0.4875616      \\\\\n",
       "\\end{tabular}\n"
      ],
      "text/markdown": [
       "\n",
       "Term | TCGA.04.1348.01 | TCGA.04.1357.01 | TCGA.04.1362.01 | TCGA.04.1364.01 | TCGA.04.1365.01 | TCGA.04.1514.01 | TCGA.04.1519.01 | TCGA.09.0364.01 | TCGA.09.0366.01 | ⋯ | TCGA.61.2102.01 | TCGA.61.2104.01 | TCGA.61.2109.01 | TCGA.61.2110.01 | TCGA.61.2111.01 | TCGA.61.2113.01 | TCGA.OY.A56P.01 | TCGA.OY.A56Q.01 | TCGA.VG.A8LO.01 | TCGA.WR.A838.01 | \n",
       "|---|\n",
       "| Davoli_TMEcell | 0.1532845      | 0.3756873      | -0.2540212     | -0.5310531     | 0.07847188     | -0.4942905     | -0.3853437     | -0.5954481     | -0.02651432    | ⋯              | -0.2525507     | 0.04738229     | -0.1776927     | -0.3375489     | -0.0941406     | 0.05417709     | -0.4878406     | -0.5095475     | -0.2837717     | -0.4875616     | \n",
       "\n",
       "\n"
      ],
      "text/plain": [
       "  Term           TCGA.04.1348.01 TCGA.04.1357.01 TCGA.04.1362.01\n",
       "1 Davoli_TMEcell 0.1532845       0.3756873       -0.2540212     \n",
       "  TCGA.04.1364.01 TCGA.04.1365.01 TCGA.04.1514.01 TCGA.04.1519.01\n",
       "1 -0.5310531      0.07847188      -0.4942905      -0.3853437     \n",
       "  TCGA.09.0364.01 TCGA.09.0366.01 ⋯ TCGA.61.2102.01 TCGA.61.2104.01\n",
       "1 -0.5954481      -0.02651432     ⋯ -0.2525507      0.04738229     \n",
       "  TCGA.61.2109.01 TCGA.61.2110.01 TCGA.61.2111.01 TCGA.61.2113.01\n",
       "1 -0.1776927      -0.3375489      -0.0941406      0.05417709     \n",
       "  TCGA.OY.A56P.01 TCGA.OY.A56Q.01 TCGA.VG.A8LO.01 TCGA.WR.A838.01\n",
       "1 -0.4878406      -0.5095475      -0.2837717      -0.4875616     "
      ]
     },
     "metadata": {},
     "output_type": "display_data"
    }
   ],
   "source": [
    "head(dav_NES)"
   ]
  },
  {
   "cell_type": "code",
   "execution_count": 25,
   "metadata": {},
   "outputs": [],
   "source": [
    "write.table(dav_NES,\n",
    "            file='../../Data/3/DavoliTMEcellularity_TCGAov_NES.txt',\n",
    "            sep='\\t',\n",
    "            row.names=F,\n",
    "            col.names=T)"
   ]
  },
  {
   "cell_type": "markdown",
   "metadata": {},
   "source": [
    "#### Danaher"
   ]
  },
  {
   "cell_type": "code",
   "execution_count": 26,
   "metadata": {},
   "outputs": [
    {
     "name": "stderr",
     "output_type": "stream",
     "text": [
      "Warning message in .local(expr, gset.idx.list, ...):\n",
      "“338 genes with constant expression values throuhgout the samples.”"
     ]
    },
    {
     "name": "stdout",
     "output_type": "stream",
     "text": [
      "Estimating ssGSEA scores for 1 gene sets.\n",
      "  |                                                                      |   0%Using parallel with 4 cores\n",
      "  |======================================================================| 100%\n"
     ]
    }
   ],
   "source": [
    "dan_NES <- gsva(data_mtx,\n",
    "                Danaher_TMEcell,\n",
    "                method='ssgsea',\n",
    "                min.sz=0,\n",
    "                max.sz=1100,\n",
    "                ssgsea.norm=T)"
   ]
  },
  {
   "cell_type": "code",
   "execution_count": 27,
   "metadata": {},
   "outputs": [],
   "source": [
    "dan_NES <- data.frame(\"Term\"=rownames(dan_NES),\n",
    "                      dan_NES)\n",
    "\n",
    "rownames(dan_NES) <- NULL"
   ]
  },
  {
   "cell_type": "code",
   "execution_count": 28,
   "metadata": {},
   "outputs": [
    {
     "data": {
      "text/html": [
       "<table>\n",
       "<thead><tr><th scope=col>Term</th><th scope=col>TCGA.04.1348.01</th><th scope=col>TCGA.04.1357.01</th><th scope=col>TCGA.04.1362.01</th><th scope=col>TCGA.04.1364.01</th><th scope=col>TCGA.04.1365.01</th><th scope=col>TCGA.04.1514.01</th><th scope=col>TCGA.04.1519.01</th><th scope=col>TCGA.09.0364.01</th><th scope=col>TCGA.09.0366.01</th><th scope=col>⋯</th><th scope=col>TCGA.61.2102.01</th><th scope=col>TCGA.61.2104.01</th><th scope=col>TCGA.61.2109.01</th><th scope=col>TCGA.61.2110.01</th><th scope=col>TCGA.61.2111.01</th><th scope=col>TCGA.61.2113.01</th><th scope=col>TCGA.OY.A56P.01</th><th scope=col>TCGA.OY.A56Q.01</th><th scope=col>TCGA.VG.A8LO.01</th><th scope=col>TCGA.WR.A838.01</th></tr></thead>\n",
       "<tbody>\n",
       "\t<tr><td>Danaher_TMEcell</td><td>-0.2815311     </td><td>-0.0626237     </td><td>-0.6841806     </td><td>-0.8771487     </td><td>-0.3380261     </td><td>-0.901362      </td><td>-0.7510459     </td><td>-0.978688      </td><td>-0.4207622     </td><td>⋯              </td><td>-0.6622266     </td><td>-0.4253173     </td><td>-0.5426976     </td><td>-0.6055369     </td><td>-0.4281354     </td><td>-0.3967194     </td><td>-0.8627661     </td><td>-0.8463669     </td><td>-0.7679065     </td><td>-0.9588643     </td></tr>\n",
       "</tbody>\n",
       "</table>\n"
      ],
      "text/latex": [
       "\\begin{tabular}{r|llllllllllllllllllllllllllllllllllllllllllllllllllllllllllllllllllllllllllllllllllllllllllllllllllllllllllllllllllllllllllllllllllllllllllllllllllllllllllllllllllllllllllllllllllllllllllllllllllllllllllllllllllllllllllllllllllllllllllllllllllllllllllllllllllllllllllllllllllllllllllllllllllllllllllllllllllll}\n",
       " Term & TCGA.04.1348.01 & TCGA.04.1357.01 & TCGA.04.1362.01 & TCGA.04.1364.01 & TCGA.04.1365.01 & TCGA.04.1514.01 & TCGA.04.1519.01 & TCGA.09.0364.01 & TCGA.09.0366.01 & ⋯ & TCGA.61.2102.01 & TCGA.61.2104.01 & TCGA.61.2109.01 & TCGA.61.2110.01 & TCGA.61.2111.01 & TCGA.61.2113.01 & TCGA.OY.A56P.01 & TCGA.OY.A56Q.01 & TCGA.VG.A8LO.01 & TCGA.WR.A838.01\\\\\n",
       "\\hline\n",
       "\t Danaher\\_TMEcell & -0.2815311        & -0.0626237        & -0.6841806        & -0.8771487        & -0.3380261        & -0.901362         & -0.7510459        & -0.978688         & -0.4207622        & ⋯                 & -0.6622266        & -0.4253173        & -0.5426976        & -0.6055369        & -0.4281354        & -0.3967194        & -0.8627661        & -0.8463669        & -0.7679065        & -0.9588643       \\\\\n",
       "\\end{tabular}\n"
      ],
      "text/markdown": [
       "\n",
       "Term | TCGA.04.1348.01 | TCGA.04.1357.01 | TCGA.04.1362.01 | TCGA.04.1364.01 | TCGA.04.1365.01 | TCGA.04.1514.01 | TCGA.04.1519.01 | TCGA.09.0364.01 | TCGA.09.0366.01 | ⋯ | TCGA.61.2102.01 | TCGA.61.2104.01 | TCGA.61.2109.01 | TCGA.61.2110.01 | TCGA.61.2111.01 | TCGA.61.2113.01 | TCGA.OY.A56P.01 | TCGA.OY.A56Q.01 | TCGA.VG.A8LO.01 | TCGA.WR.A838.01 | \n",
       "|---|\n",
       "| Danaher_TMEcell | -0.2815311      | -0.0626237      | -0.6841806      | -0.8771487      | -0.3380261      | -0.901362       | -0.7510459      | -0.978688       | -0.4207622      | ⋯               | -0.6622266      | -0.4253173      | -0.5426976      | -0.6055369      | -0.4281354      | -0.3967194      | -0.8627661      | -0.8463669      | -0.7679065      | -0.9588643      | \n",
       "\n",
       "\n"
      ],
      "text/plain": [
       "  Term            TCGA.04.1348.01 TCGA.04.1357.01 TCGA.04.1362.01\n",
       "1 Danaher_TMEcell -0.2815311      -0.0626237      -0.6841806     \n",
       "  TCGA.04.1364.01 TCGA.04.1365.01 TCGA.04.1514.01 TCGA.04.1519.01\n",
       "1 -0.8771487      -0.3380261      -0.901362       -0.7510459     \n",
       "  TCGA.09.0364.01 TCGA.09.0366.01 ⋯ TCGA.61.2102.01 TCGA.61.2104.01\n",
       "1 -0.978688       -0.4207622      ⋯ -0.6622266      -0.4253173     \n",
       "  TCGA.61.2109.01 TCGA.61.2110.01 TCGA.61.2111.01 TCGA.61.2113.01\n",
       "1 -0.5426976      -0.6055369      -0.4281354      -0.3967194     \n",
       "  TCGA.OY.A56P.01 TCGA.OY.A56Q.01 TCGA.VG.A8LO.01 TCGA.WR.A838.01\n",
       "1 -0.8627661      -0.8463669      -0.7679065      -0.9588643     "
      ]
     },
     "metadata": {},
     "output_type": "display_data"
    }
   ],
   "source": [
    "head(dan_NES)"
   ]
  },
  {
   "cell_type": "code",
   "execution_count": 29,
   "metadata": {},
   "outputs": [],
   "source": [
    "write.table(dan_NES,\n",
    "            file='../../Data/3/DanaherTMEcellularity_TCGAov_NES.txt',\n",
    "            sep='\\t',\n",
    "            row.names=F,\n",
    "            col.names=T)"
   ]
  },
  {
   "cell_type": "markdown",
   "metadata": {},
   "source": [
    "#### ConsensusTME"
   ]
  },
  {
   "cell_type": "code",
   "execution_count": 30,
   "metadata": {},
   "outputs": [
    {
     "name": "stderr",
     "output_type": "stream",
     "text": [
      "Warning message in .local(expr, gset.idx.list, ...):\n",
      "“338 genes with constant expression values throuhgout the samples.”"
     ]
    },
    {
     "name": "stdout",
     "output_type": "stream",
     "text": [
      "Estimating ssGSEA scores for 1 gene sets.\n",
      "  |                                                                      |   0%Using parallel with 4 cores\n",
      "  |======================================================================| 100%\n"
     ]
    }
   ],
   "source": [
    "con_NES <- gsva(data_mtx,\n",
    "                ConsensusTMEcell,\n",
    "                method='ssgsea',\n",
    "                min.sz=0,\n",
    "                max.sz=1100,\n",
    "                ssgsea.norm=T)"
   ]
  },
  {
   "cell_type": "code",
   "execution_count": 31,
   "metadata": {},
   "outputs": [],
   "source": [
    "con_NES <- data.frame(\"Term\"=rownames(con_NES),\n",
    "                      con_NES)\n",
    "\n",
    "rownames(con_NES) <- NULL"
   ]
  },
  {
   "cell_type": "code",
   "execution_count": 32,
   "metadata": {},
   "outputs": [
    {
     "data": {
      "text/html": [
       "<table>\n",
       "<thead><tr><th scope=col>Term</th><th scope=col>TCGA.04.1348.01</th><th scope=col>TCGA.04.1357.01</th><th scope=col>TCGA.04.1362.01</th><th scope=col>TCGA.04.1364.01</th><th scope=col>TCGA.04.1365.01</th><th scope=col>TCGA.04.1514.01</th><th scope=col>TCGA.04.1519.01</th><th scope=col>TCGA.09.0364.01</th><th scope=col>TCGA.09.0366.01</th><th scope=col>⋯</th><th scope=col>TCGA.61.2102.01</th><th scope=col>TCGA.61.2104.01</th><th scope=col>TCGA.61.2109.01</th><th scope=col>TCGA.61.2110.01</th><th scope=col>TCGA.61.2111.01</th><th scope=col>TCGA.61.2113.01</th><th scope=col>TCGA.OY.A56P.01</th><th scope=col>TCGA.OY.A56Q.01</th><th scope=col>TCGA.VG.A8LO.01</th><th scope=col>TCGA.WR.A838.01</th></tr></thead>\n",
       "<tbody>\n",
       "\t<tr><td>ConsensusTME_TMEcellularity</td><td>0.3012972                  </td><td>0.5125812                  </td><td>-0.01010583                </td><td>-0.3239443                 </td><td>0.2317494                  </td><td>-0.3067751                 </td><td>-0.2038634                 </td><td>-0.3396519                 </td><td>0.3721918                  </td><td>⋯                          </td><td>0.09065798                 </td><td>0.2304181                  </td><td>0.05127847                 </td><td>-0.07465664                </td><td>0.09162138                 </td><td>0.2482765                  </td><td>-0.241627                  </td><td>-0.2770736                 </td><td>-0.1382935                 </td><td>-0.2683264                 </td></tr>\n",
       "</tbody>\n",
       "</table>\n"
      ],
      "text/latex": [
       "\\begin{tabular}{r|llllllllllllllllllllllllllllllllllllllllllllllllllllllllllllllllllllllllllllllllllllllllllllllllllllllllllllllllllllllllllllllllllllllllllllllllllllllllllllllllllllllllllllllllllllllllllllllllllllllllllllllllllllllllllllllllllllllllllllllllllllllllllllllllllllllllllllllllllllllllllllllllllllllllllllllllllll}\n",
       " Term & TCGA.04.1348.01 & TCGA.04.1357.01 & TCGA.04.1362.01 & TCGA.04.1364.01 & TCGA.04.1365.01 & TCGA.04.1514.01 & TCGA.04.1519.01 & TCGA.09.0364.01 & TCGA.09.0366.01 & ⋯ & TCGA.61.2102.01 & TCGA.61.2104.01 & TCGA.61.2109.01 & TCGA.61.2110.01 & TCGA.61.2111.01 & TCGA.61.2113.01 & TCGA.OY.A56P.01 & TCGA.OY.A56Q.01 & TCGA.VG.A8LO.01 & TCGA.WR.A838.01\\\\\n",
       "\\hline\n",
       "\t ConsensusTME\\_TMEcellularity & 0.3012972                     & 0.5125812                     & -0.01010583                   & -0.3239443                    & 0.2317494                     & -0.3067751                    & -0.2038634                    & -0.3396519                    & 0.3721918                     & ⋯                             & 0.09065798                    & 0.2304181                     & 0.05127847                    & -0.07465664                   & 0.09162138                    & 0.2482765                     & -0.241627                     & -0.2770736                    & -0.1382935                    & -0.2683264                   \\\\\n",
       "\\end{tabular}\n"
      ],
      "text/markdown": [
       "\n",
       "Term | TCGA.04.1348.01 | TCGA.04.1357.01 | TCGA.04.1362.01 | TCGA.04.1364.01 | TCGA.04.1365.01 | TCGA.04.1514.01 | TCGA.04.1519.01 | TCGA.09.0364.01 | TCGA.09.0366.01 | ⋯ | TCGA.61.2102.01 | TCGA.61.2104.01 | TCGA.61.2109.01 | TCGA.61.2110.01 | TCGA.61.2111.01 | TCGA.61.2113.01 | TCGA.OY.A56P.01 | TCGA.OY.A56Q.01 | TCGA.VG.A8LO.01 | TCGA.WR.A838.01 | \n",
       "|---|\n",
       "| ConsensusTME_TMEcellularity | 0.3012972                   | 0.5125812                   | -0.01010583                 | -0.3239443                  | 0.2317494                   | -0.3067751                  | -0.2038634                  | -0.3396519                  | 0.3721918                   | ⋯                           | 0.09065798                  | 0.2304181                   | 0.05127847                  | -0.07465664                 | 0.09162138                  | 0.2482765                   | -0.241627                   | -0.2770736                  | -0.1382935                  | -0.2683264                  | \n",
       "\n",
       "\n"
      ],
      "text/plain": [
       "  Term                        TCGA.04.1348.01 TCGA.04.1357.01 TCGA.04.1362.01\n",
       "1 ConsensusTME_TMEcellularity 0.3012972       0.5125812       -0.01010583    \n",
       "  TCGA.04.1364.01 TCGA.04.1365.01 TCGA.04.1514.01 TCGA.04.1519.01\n",
       "1 -0.3239443      0.2317494       -0.3067751      -0.2038634     \n",
       "  TCGA.09.0364.01 TCGA.09.0366.01 ⋯ TCGA.61.2102.01 TCGA.61.2104.01\n",
       "1 -0.3396519      0.3721918       ⋯ 0.09065798      0.2304181      \n",
       "  TCGA.61.2109.01 TCGA.61.2110.01 TCGA.61.2111.01 TCGA.61.2113.01\n",
       "1 0.05127847      -0.07465664     0.09162138      0.2482765      \n",
       "  TCGA.OY.A56P.01 TCGA.OY.A56Q.01 TCGA.VG.A8LO.01 TCGA.WR.A838.01\n",
       "1 -0.241627       -0.2770736      -0.1382935      -0.2683264     "
      ]
     },
     "metadata": {},
     "output_type": "display_data"
    }
   ],
   "source": [
    "head(con_NES)"
   ]
  },
  {
   "cell_type": "code",
   "execution_count": 33,
   "metadata": {},
   "outputs": [],
   "source": [
    "write.table(con_NES,\n",
    "            file='../../Data/3/ConsensusTMEcellularity_TCGAov_NES.txt',\n",
    "            sep='\\t',\n",
    "            row.names=F,\n",
    "            col.names=T)"
   ]
  },
  {
   "cell_type": "markdown",
   "metadata": {},
   "source": [
    "# End script"
   ]
  }
 ],
 "metadata": {
  "kernelspec": {
   "display_name": "R",
   "language": "R",
   "name": "ir"
  },
  "language_info": {
   "codemirror_mode": "r",
   "file_extension": ".r",
   "mimetype": "text/x-r-source",
   "name": "R",
   "pygments_lexer": "r",
   "version": "3.5.0"
  }
 },
 "nbformat": 4,
 "nbformat_minor": 2
}

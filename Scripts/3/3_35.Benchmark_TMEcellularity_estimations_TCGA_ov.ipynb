{
 "cells": [
  {
   "cell_type": "markdown",
   "metadata": {},
   "source": [
    "# Benchmark TME cellularity estimations on TCGAov data"
   ]
  },
  {
   "cell_type": "markdown",
   "metadata": {},
   "source": [
    "Script related to figure 3b\n",
    "\n",
    "### Aim:\n",
    "- Benchmark TME cellularity scores using WES derived tumour cellularity as benchmark data set"
   ]
  },
  {
   "cell_type": "code",
   "execution_count": 1,
   "metadata": {},
   "outputs": [
    {
     "name": "stdout",
     "output_type": "stream",
     "text": [
      "Python 3.6.8 :: Anaconda custom (64-bit)\r\n"
     ]
    }
   ],
   "source": [
    "!python --version"
   ]
  },
  {
   "cell_type": "markdown",
   "metadata": {},
   "source": [
    "## Import packages"
   ]
  },
  {
   "cell_type": "code",
   "execution_count": 2,
   "metadata": {},
   "outputs": [],
   "source": [
    "import pandas as pd\n",
    "import seaborn as sns\n",
    "import matplotlib.pyplot as plt\n",
    "from scipy.stats import kendalltau"
   ]
  },
  {
   "cell_type": "code",
   "execution_count": 3,
   "metadata": {},
   "outputs": [],
   "source": [
    "home = \"~/git_repos/HGSOC_TME_Heterogeneity/\""
   ]
  },
  {
   "cell_type": "markdown",
   "metadata": {},
   "source": [
    "## Load TCGAov ABSOLUTE tumour cellularity values"
   ]
  },
  {
   "cell_type": "code",
   "execution_count": 4,
   "metadata": {},
   "outputs": [],
   "source": [
    "TCGA_ABSOLUTE = home + 'Data/3/TCGA_mastercalls.abs_tables_JSedit.fixed.txt'\n",
    "\n",
    "TCGA_ABSOLUTE = pd.read_csv(TCGA_ABSOLUTE,\n",
    "                            sep='\\t',\n",
    "                            index_col='array')"
   ]
  },
  {
   "cell_type": "code",
   "execution_count": 5,
   "metadata": {},
   "outputs": [
    {
     "data": {
      "text/html": [
       "<div>\n",
       "<style scoped>\n",
       "    .dataframe tbody tr th:only-of-type {\n",
       "        vertical-align: middle;\n",
       "    }\n",
       "\n",
       "    .dataframe tbody tr th {\n",
       "        vertical-align: top;\n",
       "    }\n",
       "\n",
       "    .dataframe thead th {\n",
       "        text-align: right;\n",
       "    }\n",
       "</style>\n",
       "<table border=\"1\" class=\"dataframe\">\n",
       "  <thead>\n",
       "    <tr style=\"text-align: right;\">\n",
       "      <th></th>\n",
       "      <th>sample</th>\n",
       "      <th>call status</th>\n",
       "      <th>purity</th>\n",
       "      <th>ploidy</th>\n",
       "      <th>Genome doublings</th>\n",
       "      <th>Coverage for 80% power</th>\n",
       "      <th>Cancer DNA fraction</th>\n",
       "      <th>Subclonal genome fraction</th>\n",
       "      <th>solution</th>\n",
       "    </tr>\n",
       "    <tr>\n",
       "      <th>array</th>\n",
       "      <th></th>\n",
       "      <th></th>\n",
       "      <th></th>\n",
       "      <th></th>\n",
       "      <th></th>\n",
       "      <th></th>\n",
       "      <th></th>\n",
       "      <th></th>\n",
       "      <th></th>\n",
       "    </tr>\n",
       "  </thead>\n",
       "  <tbody>\n",
       "    <tr>\n",
       "      <th>TCGA-OR-A5J1-01</th>\n",
       "      <td>TCGA-OR-A5J1-01A-11D-A29H-01</td>\n",
       "      <td>called</td>\n",
       "      <td>0.90</td>\n",
       "      <td>2.00</td>\n",
       "      <td>0.0</td>\n",
       "      <td>9.0</td>\n",
       "      <td>0.90</td>\n",
       "      <td>0.02</td>\n",
       "      <td>new</td>\n",
       "    </tr>\n",
       "    <tr>\n",
       "      <th>TCGA-OR-A5J2-01</th>\n",
       "      <td>TCGA-OR-A5J2-01A-11D-A29H-01</td>\n",
       "      <td>called</td>\n",
       "      <td>0.89</td>\n",
       "      <td>1.30</td>\n",
       "      <td>0.0</td>\n",
       "      <td>6.0</td>\n",
       "      <td>0.84</td>\n",
       "      <td>0.16</td>\n",
       "      <td>new</td>\n",
       "    </tr>\n",
       "    <tr>\n",
       "      <th>TCGA-OR-A5J3-01</th>\n",
       "      <td>TCGA-OR-A5J3-01A-11D-A29H-01</td>\n",
       "      <td>called</td>\n",
       "      <td>0.93</td>\n",
       "      <td>1.27</td>\n",
       "      <td>0.0</td>\n",
       "      <td>5.0</td>\n",
       "      <td>0.89</td>\n",
       "      <td>0.11</td>\n",
       "      <td>new</td>\n",
       "    </tr>\n",
       "    <tr>\n",
       "      <th>TCGA-OR-A5J4-01</th>\n",
       "      <td>TCGA-OR-A5J4-01A-11D-A29H-01</td>\n",
       "      <td>called</td>\n",
       "      <td>0.87</td>\n",
       "      <td>2.60</td>\n",
       "      <td>1.0</td>\n",
       "      <td>12.0</td>\n",
       "      <td>0.89</td>\n",
       "      <td>0.08</td>\n",
       "      <td>new</td>\n",
       "    </tr>\n",
       "    <tr>\n",
       "      <th>TCGA-OR-A5J5-01</th>\n",
       "      <td>TCGA-OR-A5J5-01A-11D-A29H-01</td>\n",
       "      <td>called</td>\n",
       "      <td>0.93</td>\n",
       "      <td>2.79</td>\n",
       "      <td>1.0</td>\n",
       "      <td>12.0</td>\n",
       "      <td>0.95</td>\n",
       "      <td>0.15</td>\n",
       "      <td>new</td>\n",
       "    </tr>\n",
       "  </tbody>\n",
       "</table>\n",
       "</div>"
      ],
      "text/plain": [
       "                                       sample call status  purity  ploidy  \\\n",
       "array                                                                       \n",
       "TCGA-OR-A5J1-01  TCGA-OR-A5J1-01A-11D-A29H-01      called    0.90    2.00   \n",
       "TCGA-OR-A5J2-01  TCGA-OR-A5J2-01A-11D-A29H-01      called    0.89    1.30   \n",
       "TCGA-OR-A5J3-01  TCGA-OR-A5J3-01A-11D-A29H-01      called    0.93    1.27   \n",
       "TCGA-OR-A5J4-01  TCGA-OR-A5J4-01A-11D-A29H-01      called    0.87    2.60   \n",
       "TCGA-OR-A5J5-01  TCGA-OR-A5J5-01A-11D-A29H-01      called    0.93    2.79   \n",
       "\n",
       "                 Genome doublings  Coverage for 80% power  \\\n",
       "array                                                       \n",
       "TCGA-OR-A5J1-01               0.0                     9.0   \n",
       "TCGA-OR-A5J2-01               0.0                     6.0   \n",
       "TCGA-OR-A5J3-01               0.0                     5.0   \n",
       "TCGA-OR-A5J4-01               1.0                    12.0   \n",
       "TCGA-OR-A5J5-01               1.0                    12.0   \n",
       "\n",
       "                 Cancer DNA fraction  Subclonal genome fraction solution  \n",
       "array                                                                     \n",
       "TCGA-OR-A5J1-01                 0.90                       0.02      new  \n",
       "TCGA-OR-A5J2-01                 0.84                       0.16      new  \n",
       "TCGA-OR-A5J3-01                 0.89                       0.11      new  \n",
       "TCGA-OR-A5J4-01                 0.89                       0.08      new  \n",
       "TCGA-OR-A5J5-01                 0.95                       0.15      new  "
      ]
     },
     "execution_count": 5,
     "metadata": {},
     "output_type": "execute_result"
    }
   ],
   "source": [
    "TCGA_ABSOLUTE.head()"
   ]
  },
  {
   "cell_type": "code",
   "execution_count": 6,
   "metadata": {},
   "outputs": [
    {
     "data": {
      "text/plain": [
       "called             9847\n",
       "legacy_call         558\n",
       "maf_call            146\n",
       "snp_call             56\n",
       "legacy_maf_call      35\n",
       "Name: call status, dtype: int64"
      ]
     },
     "execution_count": 6,
     "metadata": {},
     "output_type": "execute_result"
    }
   ],
   "source": [
    "TCGA_ABSOLUTE['call status'].value_counts()"
   ]
  },
  {
   "cell_type": "markdown",
   "metadata": {},
   "source": [
    "#### Note: All calls are equaly valid, so we include them all."
   ]
  },
  {
   "cell_type": "markdown",
   "metadata": {},
   "source": [
    "### Select purity (tumour cellularity) column"
   ]
  },
  {
   "cell_type": "code",
   "execution_count": 7,
   "metadata": {},
   "outputs": [],
   "source": [
    "TCGA_ABSOLUTE = TCGA_ABSOLUTE.purity"
   ]
  },
  {
   "cell_type": "code",
   "execution_count": 8,
   "metadata": {},
   "outputs": [
    {
     "data": {
      "text/plain": [
       "array\n",
       "TCGA-OR-A5J1-01    0.90\n",
       "TCGA-OR-A5J2-01    0.89\n",
       "TCGA-OR-A5J3-01    0.93\n",
       "TCGA-OR-A5J4-01    0.87\n",
       "TCGA-OR-A5J5-01    0.93\n",
       "Name: purity, dtype: float64"
      ]
     },
     "execution_count": 8,
     "metadata": {},
     "output_type": "execute_result"
    }
   ],
   "source": [
    "TCGA_ABSOLUTE.head()"
   ]
  },
  {
   "cell_type": "code",
   "execution_count": 9,
   "metadata": {},
   "outputs": [
    {
     "data": {
      "text/plain": [
       "array\n",
       "TCGA.OR.A5J1.01    0.90\n",
       "TCGA.OR.A5J2.01    0.89\n",
       "TCGA.OR.A5J3.01    0.93\n",
       "TCGA.OR.A5J4.01    0.87\n",
       "TCGA.OR.A5J5.01    0.93\n",
       "Name: purity, dtype: float64"
      ]
     },
     "execution_count": 9,
     "metadata": {},
     "output_type": "execute_result"
    }
   ],
   "source": [
    "TCGA_ABSOLUTE.index = TCGA_ABSOLUTE.index.str.replace('-','.',regex=True)\n",
    "\n",
    "TCGA_ABSOLUTE.head()"
   ]
  },
  {
   "cell_type": "markdown",
   "metadata": {},
   "source": [
    "## Load methods' TME cellularity estimates"
   ]
  },
  {
   "cell_type": "markdown",
   "metadata": {},
   "source": [
    "### Bindea"
   ]
  },
  {
   "cell_type": "code",
   "execution_count": 10,
   "metadata": {},
   "outputs": [],
   "source": [
    "bin_TMEcell = pd.read_csv('../../Data/3/BindeaTMEcellularity_TCGAov_NES.txt',\n",
    "                          sep='\\t',\n",
    "                          index_col='Term').T"
   ]
  },
  {
   "cell_type": "code",
   "execution_count": 11,
   "metadata": {},
   "outputs": [
    {
     "data": {
      "text/html": [
       "<div>\n",
       "<style scoped>\n",
       "    .dataframe tbody tr th:only-of-type {\n",
       "        vertical-align: middle;\n",
       "    }\n",
       "\n",
       "    .dataframe tbody tr th {\n",
       "        vertical-align: top;\n",
       "    }\n",
       "\n",
       "    .dataframe thead th {\n",
       "        text-align: right;\n",
       "    }\n",
       "</style>\n",
       "<table border=\"1\" class=\"dataframe\">\n",
       "  <thead>\n",
       "    <tr style=\"text-align: right;\">\n",
       "      <th>Term</th>\n",
       "      <th>Bindea_TMEcell</th>\n",
       "    </tr>\n",
       "  </thead>\n",
       "  <tbody>\n",
       "    <tr>\n",
       "      <th>TCGA.04.1348.01</th>\n",
       "      <td>0.723236</td>\n",
       "    </tr>\n",
       "    <tr>\n",
       "      <th>TCGA.04.1357.01</th>\n",
       "      <td>1.022811</td>\n",
       "    </tr>\n",
       "    <tr>\n",
       "      <th>TCGA.04.1362.01</th>\n",
       "      <td>0.534747</td>\n",
       "    </tr>\n",
       "    <tr>\n",
       "      <th>TCGA.04.1364.01</th>\n",
       "      <td>0.311013</td>\n",
       "    </tr>\n",
       "    <tr>\n",
       "      <th>TCGA.04.1365.01</th>\n",
       "      <td>0.718616</td>\n",
       "    </tr>\n",
       "  </tbody>\n",
       "</table>\n",
       "</div>"
      ],
      "text/plain": [
       "Term             Bindea_TMEcell\n",
       "TCGA.04.1348.01        0.723236\n",
       "TCGA.04.1357.01        1.022811\n",
       "TCGA.04.1362.01        0.534747\n",
       "TCGA.04.1364.01        0.311013\n",
       "TCGA.04.1365.01        0.718616"
      ]
     },
     "execution_count": 11,
     "metadata": {},
     "output_type": "execute_result"
    }
   ],
   "source": [
    "bin_TMEcell.head()"
   ]
  },
  {
   "cell_type": "markdown",
   "metadata": {},
   "source": [
    "### Davoli"
   ]
  },
  {
   "cell_type": "code",
   "execution_count": 12,
   "metadata": {},
   "outputs": [],
   "source": [
    "dav_TMEcell = pd.read_csv('../../Data/3/DavoliTMEcellularity_TCGAov_NES.txt',\n",
    "                          sep='\\t',\n",
    "                          index_col='Term').T"
   ]
  },
  {
   "cell_type": "code",
   "execution_count": 13,
   "metadata": {},
   "outputs": [
    {
     "data": {
      "text/html": [
       "<div>\n",
       "<style scoped>\n",
       "    .dataframe tbody tr th:only-of-type {\n",
       "        vertical-align: middle;\n",
       "    }\n",
       "\n",
       "    .dataframe tbody tr th {\n",
       "        vertical-align: top;\n",
       "    }\n",
       "\n",
       "    .dataframe thead th {\n",
       "        text-align: right;\n",
       "    }\n",
       "</style>\n",
       "<table border=\"1\" class=\"dataframe\">\n",
       "  <thead>\n",
       "    <tr style=\"text-align: right;\">\n",
       "      <th>Term</th>\n",
       "      <th>Davoli_TMEcell</th>\n",
       "    </tr>\n",
       "  </thead>\n",
       "  <tbody>\n",
       "    <tr>\n",
       "      <th>TCGA.04.1348.01</th>\n",
       "      <td>0.153285</td>\n",
       "    </tr>\n",
       "    <tr>\n",
       "      <th>TCGA.04.1357.01</th>\n",
       "      <td>0.375687</td>\n",
       "    </tr>\n",
       "    <tr>\n",
       "      <th>TCGA.04.1362.01</th>\n",
       "      <td>-0.254021</td>\n",
       "    </tr>\n",
       "    <tr>\n",
       "      <th>TCGA.04.1364.01</th>\n",
       "      <td>-0.531053</td>\n",
       "    </tr>\n",
       "    <tr>\n",
       "      <th>TCGA.04.1365.01</th>\n",
       "      <td>0.078472</td>\n",
       "    </tr>\n",
       "  </tbody>\n",
       "</table>\n",
       "</div>"
      ],
      "text/plain": [
       "Term             Davoli_TMEcell\n",
       "TCGA.04.1348.01        0.153285\n",
       "TCGA.04.1357.01        0.375687\n",
       "TCGA.04.1362.01       -0.254021\n",
       "TCGA.04.1364.01       -0.531053\n",
       "TCGA.04.1365.01        0.078472"
      ]
     },
     "execution_count": 13,
     "metadata": {},
     "output_type": "execute_result"
    }
   ],
   "source": [
    "dav_TMEcell.head()"
   ]
  },
  {
   "cell_type": "markdown",
   "metadata": {},
   "source": [
    "### Danaher"
   ]
  },
  {
   "cell_type": "code",
   "execution_count": 14,
   "metadata": {},
   "outputs": [],
   "source": [
    "dan_TMEcell = pd.read_csv('../../Data/3/DanaherTMEcellularity_TCGAov_NES.txt',\n",
    "                          sep='\\t',\n",
    "                          index_col='Term').T"
   ]
  },
  {
   "cell_type": "code",
   "execution_count": 15,
   "metadata": {},
   "outputs": [
    {
     "data": {
      "text/html": [
       "<div>\n",
       "<style scoped>\n",
       "    .dataframe tbody tr th:only-of-type {\n",
       "        vertical-align: middle;\n",
       "    }\n",
       "\n",
       "    .dataframe tbody tr th {\n",
       "        vertical-align: top;\n",
       "    }\n",
       "\n",
       "    .dataframe thead th {\n",
       "        text-align: right;\n",
       "    }\n",
       "</style>\n",
       "<table border=\"1\" class=\"dataframe\">\n",
       "  <thead>\n",
       "    <tr style=\"text-align: right;\">\n",
       "      <th>Term</th>\n",
       "      <th>Danaher_TMEcell</th>\n",
       "    </tr>\n",
       "  </thead>\n",
       "  <tbody>\n",
       "    <tr>\n",
       "      <th>TCGA.04.1348.01</th>\n",
       "      <td>-0.281531</td>\n",
       "    </tr>\n",
       "    <tr>\n",
       "      <th>TCGA.04.1357.01</th>\n",
       "      <td>-0.062624</td>\n",
       "    </tr>\n",
       "    <tr>\n",
       "      <th>TCGA.04.1362.01</th>\n",
       "      <td>-0.684181</td>\n",
       "    </tr>\n",
       "    <tr>\n",
       "      <th>TCGA.04.1364.01</th>\n",
       "      <td>-0.877149</td>\n",
       "    </tr>\n",
       "    <tr>\n",
       "      <th>TCGA.04.1365.01</th>\n",
       "      <td>-0.338026</td>\n",
       "    </tr>\n",
       "  </tbody>\n",
       "</table>\n",
       "</div>"
      ],
      "text/plain": [
       "Term             Danaher_TMEcell\n",
       "TCGA.04.1348.01        -0.281531\n",
       "TCGA.04.1357.01        -0.062624\n",
       "TCGA.04.1362.01        -0.684181\n",
       "TCGA.04.1364.01        -0.877149\n",
       "TCGA.04.1365.01        -0.338026"
      ]
     },
     "execution_count": 15,
     "metadata": {},
     "output_type": "execute_result"
    }
   ],
   "source": [
    "dan_TMEcell.head()"
   ]
  },
  {
   "cell_type": "markdown",
   "metadata": {},
   "source": [
    "### MCP counter"
   ]
  },
  {
   "cell_type": "code",
   "execution_count": 16,
   "metadata": {},
   "outputs": [],
   "source": [
    "mcp_TMEcell = pd.read_csv('../../Data/3/MCPcounterTMEcellularity_TCGAov_Results.txt',\n",
    "                          sep='\\t',\n",
    "                          index_col='Term').T"
   ]
  },
  {
   "cell_type": "code",
   "execution_count": 17,
   "metadata": {},
   "outputs": [
    {
     "data": {
      "text/html": [
       "<div>\n",
       "<style scoped>\n",
       "    .dataframe tbody tr th:only-of-type {\n",
       "        vertical-align: middle;\n",
       "    }\n",
       "\n",
       "    .dataframe tbody tr th {\n",
       "        vertical-align: top;\n",
       "    }\n",
       "\n",
       "    .dataframe thead th {\n",
       "        text-align: right;\n",
       "    }\n",
       "</style>\n",
       "<table border=\"1\" class=\"dataframe\">\n",
       "  <thead>\n",
       "    <tr style=\"text-align: right;\">\n",
       "      <th>Term</th>\n",
       "      <th>MCP_TMEcellularity</th>\n",
       "    </tr>\n",
       "  </thead>\n",
       "  <tbody>\n",
       "    <tr>\n",
       "      <th>TCGA.04.1348.01</th>\n",
       "      <td>6952.395676</td>\n",
       "    </tr>\n",
       "    <tr>\n",
       "      <th>TCGA.04.1357.01</th>\n",
       "      <td>12192.969025</td>\n",
       "    </tr>\n",
       "    <tr>\n",
       "      <th>TCGA.04.1362.01</th>\n",
       "      <td>4465.014345</td>\n",
       "    </tr>\n",
       "    <tr>\n",
       "      <th>TCGA.04.1364.01</th>\n",
       "      <td>3388.718674</td>\n",
       "    </tr>\n",
       "    <tr>\n",
       "      <th>TCGA.04.1365.01</th>\n",
       "      <td>4937.825784</td>\n",
       "    </tr>\n",
       "  </tbody>\n",
       "</table>\n",
       "</div>"
      ],
      "text/plain": [
       "Term             MCP_TMEcellularity\n",
       "TCGA.04.1348.01         6952.395676\n",
       "TCGA.04.1357.01        12192.969025\n",
       "TCGA.04.1362.01         4465.014345\n",
       "TCGA.04.1364.01         3388.718674\n",
       "TCGA.04.1365.01         4937.825784"
      ]
     },
     "execution_count": 17,
     "metadata": {},
     "output_type": "execute_result"
    }
   ],
   "source": [
    "mcp_TMEcell.head()"
   ]
  },
  {
   "cell_type": "code",
   "execution_count": 18,
   "metadata": {},
   "outputs": [],
   "source": [
    "mcp_TMEcell.rename(columns={'MCP_TMEcellularity':'MCP_TMEcell'},\n",
    "                   inplace=True)"
   ]
  },
  {
   "cell_type": "code",
   "execution_count": 19,
   "metadata": {},
   "outputs": [
    {
     "data": {
      "text/html": [
       "<div>\n",
       "<style scoped>\n",
       "    .dataframe tbody tr th:only-of-type {\n",
       "        vertical-align: middle;\n",
       "    }\n",
       "\n",
       "    .dataframe tbody tr th {\n",
       "        vertical-align: top;\n",
       "    }\n",
       "\n",
       "    .dataframe thead th {\n",
       "        text-align: right;\n",
       "    }\n",
       "</style>\n",
       "<table border=\"1\" class=\"dataframe\">\n",
       "  <thead>\n",
       "    <tr style=\"text-align: right;\">\n",
       "      <th>Term</th>\n",
       "      <th>MCP_TMEcell</th>\n",
       "    </tr>\n",
       "  </thead>\n",
       "  <tbody>\n",
       "    <tr>\n",
       "      <th>TCGA.04.1348.01</th>\n",
       "      <td>6952.395676</td>\n",
       "    </tr>\n",
       "    <tr>\n",
       "      <th>TCGA.04.1357.01</th>\n",
       "      <td>12192.969025</td>\n",
       "    </tr>\n",
       "    <tr>\n",
       "      <th>TCGA.04.1362.01</th>\n",
       "      <td>4465.014345</td>\n",
       "    </tr>\n",
       "    <tr>\n",
       "      <th>TCGA.04.1364.01</th>\n",
       "      <td>3388.718674</td>\n",
       "    </tr>\n",
       "    <tr>\n",
       "      <th>TCGA.04.1365.01</th>\n",
       "      <td>4937.825784</td>\n",
       "    </tr>\n",
       "  </tbody>\n",
       "</table>\n",
       "</div>"
      ],
      "text/plain": [
       "Term              MCP_TMEcell\n",
       "TCGA.04.1348.01   6952.395676\n",
       "TCGA.04.1357.01  12192.969025\n",
       "TCGA.04.1362.01   4465.014345\n",
       "TCGA.04.1364.01   3388.718674\n",
       "TCGA.04.1365.01   4937.825784"
      ]
     },
     "execution_count": 19,
     "metadata": {},
     "output_type": "execute_result"
    }
   ],
   "source": [
    "mcp_TMEcell.head()"
   ]
  },
  {
   "cell_type": "markdown",
   "metadata": {},
   "source": [
    "### CIBERSORT absolute"
   ]
  },
  {
   "cell_type": "code",
   "execution_count": 20,
   "metadata": {},
   "outputs": [],
   "source": [
    "cib_abs_results = pd.read_csv('../../Data/3/CIBERSORT_absolute_TCGAov_Results.txt',\n",
    "                              sep='\\t',\n",
    "                              index_col='Mixture')"
   ]
  },
  {
   "cell_type": "code",
   "execution_count": 21,
   "metadata": {},
   "outputs": [
    {
     "data": {
      "text/html": [
       "<div>\n",
       "<style scoped>\n",
       "    .dataframe tbody tr th:only-of-type {\n",
       "        vertical-align: middle;\n",
       "    }\n",
       "\n",
       "    .dataframe tbody tr th {\n",
       "        vertical-align: top;\n",
       "    }\n",
       "\n",
       "    .dataframe thead th {\n",
       "        text-align: right;\n",
       "    }\n",
       "</style>\n",
       "<table border=\"1\" class=\"dataframe\">\n",
       "  <thead>\n",
       "    <tr style=\"text-align: right;\">\n",
       "      <th></th>\n",
       "      <th>B cells naive</th>\n",
       "      <th>B cells memory</th>\n",
       "      <th>Plasma cells</th>\n",
       "      <th>T cells CD8</th>\n",
       "      <th>T cells CD4 naive</th>\n",
       "      <th>T cells CD4 memory resting</th>\n",
       "      <th>T cells CD4 memory activated</th>\n",
       "      <th>T cells follicular helper</th>\n",
       "      <th>T cells regulatory (Tregs)</th>\n",
       "      <th>T cells gamma delta</th>\n",
       "      <th>...</th>\n",
       "      <th>Dendritic cells resting</th>\n",
       "      <th>Dendritic cells activated</th>\n",
       "      <th>Mast cells resting</th>\n",
       "      <th>Mast cells activated</th>\n",
       "      <th>Eosinophils</th>\n",
       "      <th>Neutrophils</th>\n",
       "      <th>P-value</th>\n",
       "      <th>Correlation</th>\n",
       "      <th>RMSE</th>\n",
       "      <th>Absolute score (sig.score)</th>\n",
       "    </tr>\n",
       "    <tr>\n",
       "      <th>Mixture</th>\n",
       "      <th></th>\n",
       "      <th></th>\n",
       "      <th></th>\n",
       "      <th></th>\n",
       "      <th></th>\n",
       "      <th></th>\n",
       "      <th></th>\n",
       "      <th></th>\n",
       "      <th></th>\n",
       "      <th></th>\n",
       "      <th></th>\n",
       "      <th></th>\n",
       "      <th></th>\n",
       "      <th></th>\n",
       "      <th></th>\n",
       "      <th></th>\n",
       "      <th></th>\n",
       "      <th></th>\n",
       "      <th></th>\n",
       "      <th></th>\n",
       "      <th></th>\n",
       "    </tr>\n",
       "  </thead>\n",
       "  <tbody>\n",
       "    <tr>\n",
       "      <th>TCGA-04-1348-01</th>\n",
       "      <td>0.000795</td>\n",
       "      <td>0.000830</td>\n",
       "      <td>0.000000</td>\n",
       "      <td>0.025868</td>\n",
       "      <td>0.0</td>\n",
       "      <td>0.038003</td>\n",
       "      <td>0.0</td>\n",
       "      <td>0.043519</td>\n",
       "      <td>0.026832</td>\n",
       "      <td>0.0</td>\n",
       "      <td>...</td>\n",
       "      <td>0.000000</td>\n",
       "      <td>0.000000</td>\n",
       "      <td>0.000000</td>\n",
       "      <td>0.014234</td>\n",
       "      <td>0.0</td>\n",
       "      <td>0.000000</td>\n",
       "      <td>0.009</td>\n",
       "      <td>0.272048</td>\n",
       "      <td>0.984897</td>\n",
       "      <td>0.364292</td>\n",
       "    </tr>\n",
       "    <tr>\n",
       "      <th>TCGA-04-1357-01</th>\n",
       "      <td>0.015474</td>\n",
       "      <td>0.000000</td>\n",
       "      <td>0.000000</td>\n",
       "      <td>0.083101</td>\n",
       "      <td>0.0</td>\n",
       "      <td>0.120940</td>\n",
       "      <td>0.0</td>\n",
       "      <td>0.053592</td>\n",
       "      <td>0.052900</td>\n",
       "      <td>0.0</td>\n",
       "      <td>...</td>\n",
       "      <td>0.001035</td>\n",
       "      <td>0.000000</td>\n",
       "      <td>0.014600</td>\n",
       "      <td>0.000000</td>\n",
       "      <td>0.0</td>\n",
       "      <td>0.000000</td>\n",
       "      <td>0.006</td>\n",
       "      <td>0.304838</td>\n",
       "      <td>0.963618</td>\n",
       "      <td>0.605621</td>\n",
       "    </tr>\n",
       "    <tr>\n",
       "      <th>TCGA-04-1362-01</th>\n",
       "      <td>0.008684</td>\n",
       "      <td>0.000000</td>\n",
       "      <td>0.000058</td>\n",
       "      <td>0.000000</td>\n",
       "      <td>0.0</td>\n",
       "      <td>0.049975</td>\n",
       "      <td>0.0</td>\n",
       "      <td>0.010518</td>\n",
       "      <td>0.000000</td>\n",
       "      <td>0.0</td>\n",
       "      <td>...</td>\n",
       "      <td>0.000000</td>\n",
       "      <td>0.017518</td>\n",
       "      <td>0.000000</td>\n",
       "      <td>0.001998</td>\n",
       "      <td>0.0</td>\n",
       "      <td>0.000000</td>\n",
       "      <td>0.402</td>\n",
       "      <td>0.036200</td>\n",
       "      <td>1.074131</td>\n",
       "      <td>0.180222</td>\n",
       "    </tr>\n",
       "    <tr>\n",
       "      <th>TCGA-04-1364-01</th>\n",
       "      <td>0.018040</td>\n",
       "      <td>0.000000</td>\n",
       "      <td>0.001023</td>\n",
       "      <td>0.000000</td>\n",
       "      <td>0.0</td>\n",
       "      <td>0.004297</td>\n",
       "      <td>0.0</td>\n",
       "      <td>0.001651</td>\n",
       "      <td>0.002840</td>\n",
       "      <td>0.0</td>\n",
       "      <td>...</td>\n",
       "      <td>0.000000</td>\n",
       "      <td>0.000000</td>\n",
       "      <td>0.000046</td>\n",
       "      <td>0.000000</td>\n",
       "      <td>0.0</td>\n",
       "      <td>0.000000</td>\n",
       "      <td>0.557</td>\n",
       "      <td>0.014525</td>\n",
       "      <td>1.118393</td>\n",
       "      <td>0.050569</td>\n",
       "    </tr>\n",
       "    <tr>\n",
       "      <th>TCGA-04-1365-01</th>\n",
       "      <td>0.001747</td>\n",
       "      <td>0.000229</td>\n",
       "      <td>0.000000</td>\n",
       "      <td>0.000000</td>\n",
       "      <td>0.0</td>\n",
       "      <td>0.072325</td>\n",
       "      <td>0.0</td>\n",
       "      <td>0.048944</td>\n",
       "      <td>0.020026</td>\n",
       "      <td>0.0</td>\n",
       "      <td>...</td>\n",
       "      <td>0.000000</td>\n",
       "      <td>0.000000</td>\n",
       "      <td>0.002676</td>\n",
       "      <td>0.000000</td>\n",
       "      <td>0.0</td>\n",
       "      <td>0.000605</td>\n",
       "      <td>0.010</td>\n",
       "      <td>0.263271</td>\n",
       "      <td>0.992150</td>\n",
       "      <td>0.335663</td>\n",
       "    </tr>\n",
       "  </tbody>\n",
       "</table>\n",
       "<p>5 rows × 26 columns</p>\n",
       "</div>"
      ],
      "text/plain": [
       "                 B cells naive  B cells memory  Plasma cells  T cells CD8  \\\n",
       "Mixture                                                                     \n",
       "TCGA-04-1348-01       0.000795        0.000830      0.000000     0.025868   \n",
       "TCGA-04-1357-01       0.015474        0.000000      0.000000     0.083101   \n",
       "TCGA-04-1362-01       0.008684        0.000000      0.000058     0.000000   \n",
       "TCGA-04-1364-01       0.018040        0.000000      0.001023     0.000000   \n",
       "TCGA-04-1365-01       0.001747        0.000229      0.000000     0.000000   \n",
       "\n",
       "                 T cells CD4 naive  T cells CD4 memory resting  \\\n",
       "Mixture                                                          \n",
       "TCGA-04-1348-01                0.0                    0.038003   \n",
       "TCGA-04-1357-01                0.0                    0.120940   \n",
       "TCGA-04-1362-01                0.0                    0.049975   \n",
       "TCGA-04-1364-01                0.0                    0.004297   \n",
       "TCGA-04-1365-01                0.0                    0.072325   \n",
       "\n",
       "                 T cells CD4 memory activated  T cells follicular helper  \\\n",
       "Mixture                                                                    \n",
       "TCGA-04-1348-01                           0.0                   0.043519   \n",
       "TCGA-04-1357-01                           0.0                   0.053592   \n",
       "TCGA-04-1362-01                           0.0                   0.010518   \n",
       "TCGA-04-1364-01                           0.0                   0.001651   \n",
       "TCGA-04-1365-01                           0.0                   0.048944   \n",
       "\n",
       "                 T cells regulatory (Tregs)  T cells gamma delta  ...  \\\n",
       "Mixture                                                           ...   \n",
       "TCGA-04-1348-01                    0.026832                  0.0  ...   \n",
       "TCGA-04-1357-01                    0.052900                  0.0  ...   \n",
       "TCGA-04-1362-01                    0.000000                  0.0  ...   \n",
       "TCGA-04-1364-01                    0.002840                  0.0  ...   \n",
       "TCGA-04-1365-01                    0.020026                  0.0  ...   \n",
       "\n",
       "                 Dendritic cells resting  Dendritic cells activated  \\\n",
       "Mixture                                                               \n",
       "TCGA-04-1348-01                 0.000000                   0.000000   \n",
       "TCGA-04-1357-01                 0.001035                   0.000000   \n",
       "TCGA-04-1362-01                 0.000000                   0.017518   \n",
       "TCGA-04-1364-01                 0.000000                   0.000000   \n",
       "TCGA-04-1365-01                 0.000000                   0.000000   \n",
       "\n",
       "                 Mast cells resting  Mast cells activated  Eosinophils  \\\n",
       "Mixture                                                                  \n",
       "TCGA-04-1348-01            0.000000              0.014234          0.0   \n",
       "TCGA-04-1357-01            0.014600              0.000000          0.0   \n",
       "TCGA-04-1362-01            0.000000              0.001998          0.0   \n",
       "TCGA-04-1364-01            0.000046              0.000000          0.0   \n",
       "TCGA-04-1365-01            0.002676              0.000000          0.0   \n",
       "\n",
       "                 Neutrophils  P-value  Correlation      RMSE  \\\n",
       "Mixture                                                        \n",
       "TCGA-04-1348-01     0.000000    0.009     0.272048  0.984897   \n",
       "TCGA-04-1357-01     0.000000    0.006     0.304838  0.963618   \n",
       "TCGA-04-1362-01     0.000000    0.402     0.036200  1.074131   \n",
       "TCGA-04-1364-01     0.000000    0.557     0.014525  1.118393   \n",
       "TCGA-04-1365-01     0.000605    0.010     0.263271  0.992150   \n",
       "\n",
       "                 Absolute score (sig.score)  \n",
       "Mixture                                      \n",
       "TCGA-04-1348-01                    0.364292  \n",
       "TCGA-04-1357-01                    0.605621  \n",
       "TCGA-04-1362-01                    0.180222  \n",
       "TCGA-04-1364-01                    0.050569  \n",
       "TCGA-04-1365-01                    0.335663  \n",
       "\n",
       "[5 rows x 26 columns]"
      ]
     },
     "execution_count": 21,
     "metadata": {},
     "output_type": "execute_result"
    }
   ],
   "source": [
    "cib_abs_results.head()"
   ]
  },
  {
   "cell_type": "markdown",
   "metadata": {},
   "source": [
    "### Calculate samples TME cellularity based on CIBERSORT absolute score"
   ]
  },
  {
   "cell_type": "code",
   "execution_count": 22,
   "metadata": {},
   "outputs": [],
   "source": [
    "# Remove columns that are not cells\n",
    "cib_not_cells = ['P-value',\n",
    "                 'Correlation',\n",
    "                 'RMSE',\n",
    "                 'Absolute score (sig.score)']\n",
    "\n",
    "cib_abs_TMEcell = cib_abs_results.drop(labels=cib_not_cells,\n",
    "                                       axis='columns').sum(axis='columns')"
   ]
  },
  {
   "cell_type": "code",
   "execution_count": 23,
   "metadata": {},
   "outputs": [
    {
     "data": {
      "text/plain": [
       "Mixture\n",
       "TCGA-04-1348-01    0.364292\n",
       "TCGA-04-1357-01    0.605621\n",
       "TCGA-04-1362-01    0.180222\n",
       "TCGA-04-1364-01    0.050569\n",
       "TCGA-04-1365-01    0.335663\n",
       "dtype: float64"
      ]
     },
     "execution_count": 23,
     "metadata": {},
     "output_type": "execute_result"
    }
   ],
   "source": [
    "cib_abs_TMEcell.head()"
   ]
  },
  {
   "cell_type": "code",
   "execution_count": 24,
   "metadata": {},
   "outputs": [],
   "source": [
    "cib_abs_TMEcell_df = pd.DataFrame({'Term':cib_abs_results.index,\n",
    "                                   'CIBERSORT_abs_TMEcell':cib_abs_TMEcell})\n",
    "\n",
    "cib_abs_TMEcell_df.set_index('Term',\n",
    "                             inplace=True)"
   ]
  },
  {
   "cell_type": "code",
   "execution_count": 25,
   "metadata": {},
   "outputs": [
    {
     "data": {
      "text/html": [
       "<div>\n",
       "<style scoped>\n",
       "    .dataframe tbody tr th:only-of-type {\n",
       "        vertical-align: middle;\n",
       "    }\n",
       "\n",
       "    .dataframe tbody tr th {\n",
       "        vertical-align: top;\n",
       "    }\n",
       "\n",
       "    .dataframe thead th {\n",
       "        text-align: right;\n",
       "    }\n",
       "</style>\n",
       "<table border=\"1\" class=\"dataframe\">\n",
       "  <thead>\n",
       "    <tr style=\"text-align: right;\">\n",
       "      <th></th>\n",
       "      <th>CIBERSORT_abs_TMEcell</th>\n",
       "    </tr>\n",
       "    <tr>\n",
       "      <th>Term</th>\n",
       "      <th></th>\n",
       "    </tr>\n",
       "  </thead>\n",
       "  <tbody>\n",
       "    <tr>\n",
       "      <th>TCGA-04-1348-01</th>\n",
       "      <td>0.364292</td>\n",
       "    </tr>\n",
       "    <tr>\n",
       "      <th>TCGA-04-1357-01</th>\n",
       "      <td>0.605621</td>\n",
       "    </tr>\n",
       "    <tr>\n",
       "      <th>TCGA-04-1362-01</th>\n",
       "      <td>0.180222</td>\n",
       "    </tr>\n",
       "    <tr>\n",
       "      <th>TCGA-04-1364-01</th>\n",
       "      <td>0.050569</td>\n",
       "    </tr>\n",
       "    <tr>\n",
       "      <th>TCGA-04-1365-01</th>\n",
       "      <td>0.335663</td>\n",
       "    </tr>\n",
       "  </tbody>\n",
       "</table>\n",
       "</div>"
      ],
      "text/plain": [
       "                 CIBERSORT_abs_TMEcell\n",
       "Term                                  \n",
       "TCGA-04-1348-01               0.364292\n",
       "TCGA-04-1357-01               0.605621\n",
       "TCGA-04-1362-01               0.180222\n",
       "TCGA-04-1364-01               0.050569\n",
       "TCGA-04-1365-01               0.335663"
      ]
     },
     "execution_count": 25,
     "metadata": {},
     "output_type": "execute_result"
    }
   ],
   "source": [
    "cib_abs_TMEcell_df.head()"
   ]
  },
  {
   "cell_type": "code",
   "execution_count": 26,
   "metadata": {},
   "outputs": [
    {
     "data": {
      "text/html": [
       "<div>\n",
       "<style scoped>\n",
       "    .dataframe tbody tr th:only-of-type {\n",
       "        vertical-align: middle;\n",
       "    }\n",
       "\n",
       "    .dataframe tbody tr th {\n",
       "        vertical-align: top;\n",
       "    }\n",
       "\n",
       "    .dataframe thead th {\n",
       "        text-align: right;\n",
       "    }\n",
       "</style>\n",
       "<table border=\"1\" class=\"dataframe\">\n",
       "  <thead>\n",
       "    <tr style=\"text-align: right;\">\n",
       "      <th></th>\n",
       "      <th>CIBERSORT_abs_TMEcell</th>\n",
       "    </tr>\n",
       "    <tr>\n",
       "      <th>Term</th>\n",
       "      <th></th>\n",
       "    </tr>\n",
       "  </thead>\n",
       "  <tbody>\n",
       "    <tr>\n",
       "      <th>TCGA.04.1348.01</th>\n",
       "      <td>0.364292</td>\n",
       "    </tr>\n",
       "    <tr>\n",
       "      <th>TCGA.04.1357.01</th>\n",
       "      <td>0.605621</td>\n",
       "    </tr>\n",
       "    <tr>\n",
       "      <th>TCGA.04.1362.01</th>\n",
       "      <td>0.180222</td>\n",
       "    </tr>\n",
       "    <tr>\n",
       "      <th>TCGA.04.1364.01</th>\n",
       "      <td>0.050569</td>\n",
       "    </tr>\n",
       "    <tr>\n",
       "      <th>TCGA.04.1365.01</th>\n",
       "      <td>0.335663</td>\n",
       "    </tr>\n",
       "  </tbody>\n",
       "</table>\n",
       "</div>"
      ],
      "text/plain": [
       "                 CIBERSORT_abs_TMEcell\n",
       "Term                                  \n",
       "TCGA.04.1348.01               0.364292\n",
       "TCGA.04.1357.01               0.605621\n",
       "TCGA.04.1362.01               0.180222\n",
       "TCGA.04.1364.01               0.050569\n",
       "TCGA.04.1365.01               0.335663"
      ]
     },
     "execution_count": 26,
     "metadata": {},
     "output_type": "execute_result"
    }
   ],
   "source": [
    "cib_abs_TMEcell_df.index = cib_abs_TMEcell_df.index.str.replace('-','.',regex=True)\n",
    "\n",
    "cib_abs_TMEcell_df.head()"
   ]
  },
  {
   "cell_type": "markdown",
   "metadata": {},
   "source": [
    "### xCELL TME cellularity"
   ]
  },
  {
   "cell_type": "code",
   "execution_count": 29,
   "metadata": {},
   "outputs": [],
   "source": [
    "xcell_TMEcell = pd.read_csv('../../Data/3/xCell_TCGAov_RNAseq_Results.txt',\n",
    "                            sep='\\t',\n",
    "                            index_col=0).T"
   ]
  },
  {
   "cell_type": "code",
   "execution_count": 30,
   "metadata": {},
   "outputs": [
    {
     "data": {
      "text/html": [
       "<div>\n",
       "<style scoped>\n",
       "    .dataframe tbody tr th:only-of-type {\n",
       "        vertical-align: middle;\n",
       "    }\n",
       "\n",
       "    .dataframe tbody tr th {\n",
       "        vertical-align: top;\n",
       "    }\n",
       "\n",
       "    .dataframe thead th {\n",
       "        text-align: right;\n",
       "    }\n",
       "</style>\n",
       "<table border=\"1\" class=\"dataframe\">\n",
       "  <thead>\n",
       "    <tr style=\"text-align: right;\">\n",
       "      <th>Term</th>\n",
       "      <th>Adipocytes</th>\n",
       "      <th>Astrocytes</th>\n",
       "      <th>B-cells</th>\n",
       "      <th>Basophils</th>\n",
       "      <th>CD4+ T-cells</th>\n",
       "      <th>CD4+ Tcm</th>\n",
       "      <th>CD4+ Tem</th>\n",
       "      <th>CD4+ memory T-cells</th>\n",
       "      <th>CD4+ naive T-cells</th>\n",
       "      <th>CD8+ T-cells</th>\n",
       "      <th>...</th>\n",
       "      <th>cDC</th>\n",
       "      <th>iDC</th>\n",
       "      <th>ly Endothelial cells</th>\n",
       "      <th>mv Endothelial cells</th>\n",
       "      <th>naive B-cells</th>\n",
       "      <th>pDC</th>\n",
       "      <th>pro B-cells</th>\n",
       "      <th>ImmuneScore</th>\n",
       "      <th>StromaScore</th>\n",
       "      <th>MicroenvironmentScore</th>\n",
       "    </tr>\n",
       "  </thead>\n",
       "  <tbody>\n",
       "    <tr>\n",
       "      <th>TCGA.04.1348.01</th>\n",
       "      <td>0.0000</td>\n",
       "      <td>0.0494</td>\n",
       "      <td>0.0535</td>\n",
       "      <td>0.1007</td>\n",
       "      <td>0.0</td>\n",
       "      <td>0.0000</td>\n",
       "      <td>0.0000</td>\n",
       "      <td>0.0074</td>\n",
       "      <td>0.0000</td>\n",
       "      <td>0.0264</td>\n",
       "      <td>...</td>\n",
       "      <td>0.0287</td>\n",
       "      <td>0.0</td>\n",
       "      <td>0.0000</td>\n",
       "      <td>0.0098</td>\n",
       "      <td>0.0</td>\n",
       "      <td>0.0199</td>\n",
       "      <td>0.0442</td>\n",
       "      <td>0.1219</td>\n",
       "      <td>0.0030</td>\n",
       "      <td>0.1249</td>\n",
       "    </tr>\n",
       "    <tr>\n",
       "      <th>TCGA.04.1357.01</th>\n",
       "      <td>0.0000</td>\n",
       "      <td>0.0301</td>\n",
       "      <td>0.1330</td>\n",
       "      <td>0.0486</td>\n",
       "      <td>0.0</td>\n",
       "      <td>0.0034</td>\n",
       "      <td>0.0458</td>\n",
       "      <td>0.0087</td>\n",
       "      <td>0.0227</td>\n",
       "      <td>0.1359</td>\n",
       "      <td>...</td>\n",
       "      <td>0.1140</td>\n",
       "      <td>0.0</td>\n",
       "      <td>0.0000</td>\n",
       "      <td>0.0037</td>\n",
       "      <td>0.0</td>\n",
       "      <td>0.0382</td>\n",
       "      <td>0.0015</td>\n",
       "      <td>0.2847</td>\n",
       "      <td>0.0238</td>\n",
       "      <td>0.3085</td>\n",
       "    </tr>\n",
       "    <tr>\n",
       "      <th>TCGA.04.1362.01</th>\n",
       "      <td>0.0000</td>\n",
       "      <td>0.0506</td>\n",
       "      <td>0.0039</td>\n",
       "      <td>0.0393</td>\n",
       "      <td>0.0</td>\n",
       "      <td>0.0239</td>\n",
       "      <td>0.0000</td>\n",
       "      <td>0.0000</td>\n",
       "      <td>0.0000</td>\n",
       "      <td>0.0000</td>\n",
       "      <td>...</td>\n",
       "      <td>0.0125</td>\n",
       "      <td>0.0</td>\n",
       "      <td>0.0019</td>\n",
       "      <td>0.0032</td>\n",
       "      <td>0.0</td>\n",
       "      <td>0.0070</td>\n",
       "      <td>0.0116</td>\n",
       "      <td>0.0303</td>\n",
       "      <td>0.0022</td>\n",
       "      <td>0.0325</td>\n",
       "    </tr>\n",
       "    <tr>\n",
       "      <th>TCGA.04.1364.01</th>\n",
       "      <td>0.0016</td>\n",
       "      <td>0.0654</td>\n",
       "      <td>0.0000</td>\n",
       "      <td>0.0452</td>\n",
       "      <td>0.0</td>\n",
       "      <td>0.0038</td>\n",
       "      <td>0.0000</td>\n",
       "      <td>0.0000</td>\n",
       "      <td>0.0000</td>\n",
       "      <td>0.0000</td>\n",
       "      <td>...</td>\n",
       "      <td>0.0000</td>\n",
       "      <td>0.0</td>\n",
       "      <td>0.0021</td>\n",
       "      <td>0.0117</td>\n",
       "      <td>0.0</td>\n",
       "      <td>0.0000</td>\n",
       "      <td>0.0390</td>\n",
       "      <td>0.0057</td>\n",
       "      <td>0.0018</td>\n",
       "      <td>0.0075</td>\n",
       "    </tr>\n",
       "    <tr>\n",
       "      <th>TCGA.04.1365.01</th>\n",
       "      <td>0.0000</td>\n",
       "      <td>0.0612</td>\n",
       "      <td>0.0179</td>\n",
       "      <td>0.0906</td>\n",
       "      <td>0.0</td>\n",
       "      <td>0.0000</td>\n",
       "      <td>0.0000</td>\n",
       "      <td>0.0121</td>\n",
       "      <td>0.0000</td>\n",
       "      <td>0.0000</td>\n",
       "      <td>...</td>\n",
       "      <td>0.0289</td>\n",
       "      <td>0.0</td>\n",
       "      <td>0.0000</td>\n",
       "      <td>0.0039</td>\n",
       "      <td>0.0</td>\n",
       "      <td>0.0155</td>\n",
       "      <td>0.0276</td>\n",
       "      <td>0.0631</td>\n",
       "      <td>0.0006</td>\n",
       "      <td>0.0637</td>\n",
       "    </tr>\n",
       "  </tbody>\n",
       "</table>\n",
       "<p>5 rows × 67 columns</p>\n",
       "</div>"
      ],
      "text/plain": [
       "Term             Adipocytes  Astrocytes  B-cells  Basophils  CD4+ T-cells  \\\n",
       "TCGA.04.1348.01      0.0000      0.0494   0.0535     0.1007           0.0   \n",
       "TCGA.04.1357.01      0.0000      0.0301   0.1330     0.0486           0.0   \n",
       "TCGA.04.1362.01      0.0000      0.0506   0.0039     0.0393           0.0   \n",
       "TCGA.04.1364.01      0.0016      0.0654   0.0000     0.0452           0.0   \n",
       "TCGA.04.1365.01      0.0000      0.0612   0.0179     0.0906           0.0   \n",
       "\n",
       "Term             CD4+ Tcm  CD4+ Tem  CD4+ memory T-cells  CD4+ naive T-cells  \\\n",
       "TCGA.04.1348.01    0.0000    0.0000               0.0074              0.0000   \n",
       "TCGA.04.1357.01    0.0034    0.0458               0.0087              0.0227   \n",
       "TCGA.04.1362.01    0.0239    0.0000               0.0000              0.0000   \n",
       "TCGA.04.1364.01    0.0038    0.0000               0.0000              0.0000   \n",
       "TCGA.04.1365.01    0.0000    0.0000               0.0121              0.0000   \n",
       "\n",
       "Term             CD8+ T-cells  ...     cDC  iDC  ly Endothelial cells  \\\n",
       "TCGA.04.1348.01        0.0264  ...  0.0287  0.0                0.0000   \n",
       "TCGA.04.1357.01        0.1359  ...  0.1140  0.0                0.0000   \n",
       "TCGA.04.1362.01        0.0000  ...  0.0125  0.0                0.0019   \n",
       "TCGA.04.1364.01        0.0000  ...  0.0000  0.0                0.0021   \n",
       "TCGA.04.1365.01        0.0000  ...  0.0289  0.0                0.0000   \n",
       "\n",
       "Term             mv Endothelial cells  naive B-cells     pDC  pro B-cells  \\\n",
       "TCGA.04.1348.01                0.0098            0.0  0.0199       0.0442   \n",
       "TCGA.04.1357.01                0.0037            0.0  0.0382       0.0015   \n",
       "TCGA.04.1362.01                0.0032            0.0  0.0070       0.0116   \n",
       "TCGA.04.1364.01                0.0117            0.0  0.0000       0.0390   \n",
       "TCGA.04.1365.01                0.0039            0.0  0.0155       0.0276   \n",
       "\n",
       "Term             ImmuneScore  StromaScore  MicroenvironmentScore  \n",
       "TCGA.04.1348.01       0.1219       0.0030                 0.1249  \n",
       "TCGA.04.1357.01       0.2847       0.0238                 0.3085  \n",
       "TCGA.04.1362.01       0.0303       0.0022                 0.0325  \n",
       "TCGA.04.1364.01       0.0057       0.0018                 0.0075  \n",
       "TCGA.04.1365.01       0.0631       0.0006                 0.0637  \n",
       "\n",
       "[5 rows x 67 columns]"
      ]
     },
     "execution_count": 30,
     "metadata": {},
     "output_type": "execute_result"
    }
   ],
   "source": [
    "xcell_TMEcell.head()"
   ]
  },
  {
   "cell_type": "code",
   "execution_count": 31,
   "metadata": {},
   "outputs": [],
   "source": [
    "xcell_TMEcell = xcell_TMEcell.MicroenvironmentScore"
   ]
  },
  {
   "cell_type": "code",
   "execution_count": 32,
   "metadata": {},
   "outputs": [
    {
     "data": {
      "text/plain": [
       "TCGA.04.1348.01    0.1249\n",
       "TCGA.04.1357.01    0.3085\n",
       "TCGA.04.1362.01    0.0325\n",
       "TCGA.04.1364.01    0.0075\n",
       "TCGA.04.1365.01    0.0637\n",
       "Name: MicroenvironmentScore, dtype: float64"
      ]
     },
     "execution_count": 32,
     "metadata": {},
     "output_type": "execute_result"
    }
   ],
   "source": [
    "xcell_TMEcell.head()"
   ]
  },
  {
   "cell_type": "code",
   "execution_count": 33,
   "metadata": {},
   "outputs": [],
   "source": [
    "xcell_TMEcell_df = pd.DataFrame({\n",
    "    'Index':xcell_TMEcell.index,\n",
    "    'xcell_TMEcell':xcell_TMEcell\n",
    "})\n",
    "\n",
    "xcell_TMEcell_df.set_index('Index',\n",
    "                           inplace=True)"
   ]
  },
  {
   "cell_type": "code",
   "execution_count": 34,
   "metadata": {},
   "outputs": [
    {
     "data": {
      "text/html": [
       "<div>\n",
       "<style scoped>\n",
       "    .dataframe tbody tr th:only-of-type {\n",
       "        vertical-align: middle;\n",
       "    }\n",
       "\n",
       "    .dataframe tbody tr th {\n",
       "        vertical-align: top;\n",
       "    }\n",
       "\n",
       "    .dataframe thead th {\n",
       "        text-align: right;\n",
       "    }\n",
       "</style>\n",
       "<table border=\"1\" class=\"dataframe\">\n",
       "  <thead>\n",
       "    <tr style=\"text-align: right;\">\n",
       "      <th></th>\n",
       "      <th>xcell_TMEcell</th>\n",
       "    </tr>\n",
       "    <tr>\n",
       "      <th>Index</th>\n",
       "      <th></th>\n",
       "    </tr>\n",
       "  </thead>\n",
       "  <tbody>\n",
       "    <tr>\n",
       "      <th>TCGA.04.1348.01</th>\n",
       "      <td>0.1249</td>\n",
       "    </tr>\n",
       "    <tr>\n",
       "      <th>TCGA.04.1357.01</th>\n",
       "      <td>0.3085</td>\n",
       "    </tr>\n",
       "    <tr>\n",
       "      <th>TCGA.04.1362.01</th>\n",
       "      <td>0.0325</td>\n",
       "    </tr>\n",
       "    <tr>\n",
       "      <th>TCGA.04.1364.01</th>\n",
       "      <td>0.0075</td>\n",
       "    </tr>\n",
       "    <tr>\n",
       "      <th>TCGA.04.1365.01</th>\n",
       "      <td>0.0637</td>\n",
       "    </tr>\n",
       "  </tbody>\n",
       "</table>\n",
       "</div>"
      ],
      "text/plain": [
       "                 xcell_TMEcell\n",
       "Index                         \n",
       "TCGA.04.1348.01         0.1249\n",
       "TCGA.04.1357.01         0.3085\n",
       "TCGA.04.1362.01         0.0325\n",
       "TCGA.04.1364.01         0.0075\n",
       "TCGA.04.1365.01         0.0637"
      ]
     },
     "execution_count": 34,
     "metadata": {},
     "output_type": "execute_result"
    }
   ],
   "source": [
    "xcell_TMEcell_df.head()"
   ]
  },
  {
   "cell_type": "markdown",
   "metadata": {},
   "source": [
    "### Consensus TME cellularity"
   ]
  },
  {
   "cell_type": "code",
   "execution_count": 35,
   "metadata": {},
   "outputs": [],
   "source": [
    "con_TMEcell = pd.read_csv('../../Data/3/ConsensusTMEcellularity_TCGAov_NES.txt',\n",
    "                          sep='\\t',\n",
    "                          index_col='Term').T"
   ]
  },
  {
   "cell_type": "code",
   "execution_count": 36,
   "metadata": {},
   "outputs": [
    {
     "data": {
      "text/html": [
       "<div>\n",
       "<style scoped>\n",
       "    .dataframe tbody tr th:only-of-type {\n",
       "        vertical-align: middle;\n",
       "    }\n",
       "\n",
       "    .dataframe tbody tr th {\n",
       "        vertical-align: top;\n",
       "    }\n",
       "\n",
       "    .dataframe thead th {\n",
       "        text-align: right;\n",
       "    }\n",
       "</style>\n",
       "<table border=\"1\" class=\"dataframe\">\n",
       "  <thead>\n",
       "    <tr style=\"text-align: right;\">\n",
       "      <th>Term</th>\n",
       "      <th>ConsensusTME_TMEcellularity</th>\n",
       "    </tr>\n",
       "  </thead>\n",
       "  <tbody>\n",
       "    <tr>\n",
       "      <th>TCGA.04.1348.01</th>\n",
       "      <td>0.301297</td>\n",
       "    </tr>\n",
       "    <tr>\n",
       "      <th>TCGA.04.1357.01</th>\n",
       "      <td>0.512581</td>\n",
       "    </tr>\n",
       "    <tr>\n",
       "      <th>TCGA.04.1362.01</th>\n",
       "      <td>-0.010106</td>\n",
       "    </tr>\n",
       "    <tr>\n",
       "      <th>TCGA.04.1364.01</th>\n",
       "      <td>-0.323944</td>\n",
       "    </tr>\n",
       "    <tr>\n",
       "      <th>TCGA.04.1365.01</th>\n",
       "      <td>0.231749</td>\n",
       "    </tr>\n",
       "  </tbody>\n",
       "</table>\n",
       "</div>"
      ],
      "text/plain": [
       "Term             ConsensusTME_TMEcellularity\n",
       "TCGA.04.1348.01                     0.301297\n",
       "TCGA.04.1357.01                     0.512581\n",
       "TCGA.04.1362.01                    -0.010106\n",
       "TCGA.04.1364.01                    -0.323944\n",
       "TCGA.04.1365.01                     0.231749"
      ]
     },
     "execution_count": 36,
     "metadata": {},
     "output_type": "execute_result"
    }
   ],
   "source": [
    "con_TMEcell.head()"
   ]
  },
  {
   "cell_type": "code",
   "execution_count": 37,
   "metadata": {},
   "outputs": [],
   "source": [
    "con_TMEcell.rename(columns={'ConsensusTME_TMEcellularity':'ConsensusTMEcell'},\n",
    "                   inplace=True)"
   ]
  },
  {
   "cell_type": "code",
   "execution_count": 38,
   "metadata": {},
   "outputs": [
    {
     "data": {
      "text/html": [
       "<div>\n",
       "<style scoped>\n",
       "    .dataframe tbody tr th:only-of-type {\n",
       "        vertical-align: middle;\n",
       "    }\n",
       "\n",
       "    .dataframe tbody tr th {\n",
       "        vertical-align: top;\n",
       "    }\n",
       "\n",
       "    .dataframe thead th {\n",
       "        text-align: right;\n",
       "    }\n",
       "</style>\n",
       "<table border=\"1\" class=\"dataframe\">\n",
       "  <thead>\n",
       "    <tr style=\"text-align: right;\">\n",
       "      <th>Term</th>\n",
       "      <th>ConsensusTMEcell</th>\n",
       "    </tr>\n",
       "  </thead>\n",
       "  <tbody>\n",
       "    <tr>\n",
       "      <th>TCGA.04.1348.01</th>\n",
       "      <td>0.301297</td>\n",
       "    </tr>\n",
       "    <tr>\n",
       "      <th>TCGA.04.1357.01</th>\n",
       "      <td>0.512581</td>\n",
       "    </tr>\n",
       "    <tr>\n",
       "      <th>TCGA.04.1362.01</th>\n",
       "      <td>-0.010106</td>\n",
       "    </tr>\n",
       "    <tr>\n",
       "      <th>TCGA.04.1364.01</th>\n",
       "      <td>-0.323944</td>\n",
       "    </tr>\n",
       "    <tr>\n",
       "      <th>TCGA.04.1365.01</th>\n",
       "      <td>0.231749</td>\n",
       "    </tr>\n",
       "  </tbody>\n",
       "</table>\n",
       "</div>"
      ],
      "text/plain": [
       "Term             ConsensusTMEcell\n",
       "TCGA.04.1348.01          0.301297\n",
       "TCGA.04.1357.01          0.512581\n",
       "TCGA.04.1362.01         -0.010106\n",
       "TCGA.04.1364.01         -0.323944\n",
       "TCGA.04.1365.01          0.231749"
      ]
     },
     "execution_count": 38,
     "metadata": {},
     "output_type": "execute_result"
    }
   ],
   "source": [
    "con_TMEcell.head()"
   ]
  },
  {
   "cell_type": "markdown",
   "metadata": {},
   "source": [
    "## Intersect TCGAov samples with ABOLUTE Tumour cellularity and RNA TME cellularity"
   ]
  },
  {
   "cell_type": "code",
   "execution_count": 39,
   "metadata": {},
   "outputs": [
    {
     "data": {
      "text/plain": [
       "307"
      ]
     },
     "execution_count": 39,
     "metadata": {},
     "output_type": "execute_result"
    }
   ],
   "source": [
    "len(con_TMEcell)"
   ]
  },
  {
   "cell_type": "code",
   "execution_count": 40,
   "metadata": {},
   "outputs": [
    {
     "data": {
      "text/plain": [
       "10786"
      ]
     },
     "execution_count": 40,
     "metadata": {},
     "output_type": "execute_result"
    }
   ],
   "source": [
    "len(TCGA_ABSOLUTE)"
   ]
  },
  {
   "cell_type": "code",
   "execution_count": 41,
   "metadata": {},
   "outputs": [
    {
     "data": {
      "text/plain": [
       "297"
      ]
     },
     "execution_count": 41,
     "metadata": {},
     "output_type": "execute_result"
    }
   ],
   "source": [
    "overlap_samples = set(TCGA_ABSOLUTE.index) & set(con_TMEcell.index)\n",
    "\n",
    "len(overlap_samples)"
   ]
  },
  {
   "cell_type": "markdown",
   "metadata": {},
   "source": [
    "### Set samples to the ones that overlap"
   ]
  },
  {
   "cell_type": "code",
   "execution_count": 42,
   "metadata": {},
   "outputs": [],
   "source": [
    "TCGAov_ABSOLUTE = pd.DataFrame(TCGA_ABSOLUTE[TCGA_ABSOLUTE.index.isin(overlap_samples)]).sort_index()\n",
    "bin_TMEcell = bin_TMEcell[bin_TMEcell.index.isin(overlap_samples)].sort_index()\n",
    "dav_TMEcell = dav_TMEcell[dav_TMEcell.index.isin(overlap_samples)].sort_index()\n",
    "dan_TMEcell = dan_TMEcell[dan_TMEcell.index.isin(overlap_samples)].sort_index()\n",
    "mcp_TMEcell = mcp_TMEcell[mcp_TMEcell.index.isin(overlap_samples)].sort_index()\n",
    "cib_TMEcell = cib_abs_TMEcell_df[cib_abs_TMEcell_df.index.isin(overlap_samples)].sort_index()\n",
    "xce_TMEcell = xcell_TMEcell_df[xcell_TMEcell_df.index.isin(overlap_samples)].sort_index()\n",
    "con_TMEcell = con_TMEcell[con_TMEcell.index.isin(overlap_samples)].sort_index()"
   ]
  },
  {
   "cell_type": "code",
   "execution_count": 43,
   "metadata": {},
   "outputs": [
    {
     "data": {
      "text/html": [
       "<div>\n",
       "<style scoped>\n",
       "    .dataframe tbody tr th:only-of-type {\n",
       "        vertical-align: middle;\n",
       "    }\n",
       "\n",
       "    .dataframe tbody tr th {\n",
       "        vertical-align: top;\n",
       "    }\n",
       "\n",
       "    .dataframe thead th {\n",
       "        text-align: right;\n",
       "    }\n",
       "</style>\n",
       "<table border=\"1\" class=\"dataframe\">\n",
       "  <thead>\n",
       "    <tr style=\"text-align: right;\">\n",
       "      <th>Term</th>\n",
       "      <th>ConsensusTMEcell</th>\n",
       "    </tr>\n",
       "  </thead>\n",
       "  <tbody>\n",
       "    <tr>\n",
       "      <th>TCGA.04.1348.01</th>\n",
       "      <td>0.301297</td>\n",
       "    </tr>\n",
       "    <tr>\n",
       "      <th>TCGA.04.1357.01</th>\n",
       "      <td>0.512581</td>\n",
       "    </tr>\n",
       "    <tr>\n",
       "      <th>TCGA.04.1362.01</th>\n",
       "      <td>-0.010106</td>\n",
       "    </tr>\n",
       "    <tr>\n",
       "      <th>TCGA.04.1364.01</th>\n",
       "      <td>-0.323944</td>\n",
       "    </tr>\n",
       "    <tr>\n",
       "      <th>TCGA.04.1365.01</th>\n",
       "      <td>0.231749</td>\n",
       "    </tr>\n",
       "  </tbody>\n",
       "</table>\n",
       "</div>"
      ],
      "text/plain": [
       "Term             ConsensusTMEcell\n",
       "TCGA.04.1348.01          0.301297\n",
       "TCGA.04.1357.01          0.512581\n",
       "TCGA.04.1362.01         -0.010106\n",
       "TCGA.04.1364.01         -0.323944\n",
       "TCGA.04.1365.01          0.231749"
      ]
     },
     "execution_count": 43,
     "metadata": {},
     "output_type": "execute_result"
    }
   ],
   "source": [
    "con_TMEcell.head()"
   ]
  },
  {
   "cell_type": "code",
   "execution_count": 44,
   "metadata": {},
   "outputs": [
    {
     "data": {
      "text/plain": [
       "297"
      ]
     },
     "execution_count": 44,
     "metadata": {},
     "output_type": "execute_result"
    }
   ],
   "source": [
    "len(TCGAov_ABSOLUTE)"
   ]
  },
  {
   "cell_type": "markdown",
   "metadata": {},
   "source": [
    "## Compare correlations"
   ]
  },
  {
   "cell_type": "code",
   "execution_count": 45,
   "metadata": {},
   "outputs": [],
   "source": [
    "cellularities_df = pd.concat([TCGAov_ABSOLUTE,\n",
    "                              bin_TMEcell,\n",
    "                              dav_TMEcell,\n",
    "                              dan_TMEcell,\n",
    "                              mcp_TMEcell,\n",
    "                              xce_TMEcell,\n",
    "                              cib_TMEcell,\n",
    "                              con_TMEcell],\n",
    "                              axis='columns',\n",
    "                              join='inner')"
   ]
  },
  {
   "cell_type": "code",
   "execution_count": 46,
   "metadata": {},
   "outputs": [
    {
     "data": {
      "text/html": [
       "<div>\n",
       "<style scoped>\n",
       "    .dataframe tbody tr th:only-of-type {\n",
       "        vertical-align: middle;\n",
       "    }\n",
       "\n",
       "    .dataframe tbody tr th {\n",
       "        vertical-align: top;\n",
       "    }\n",
       "\n",
       "    .dataframe thead th {\n",
       "        text-align: right;\n",
       "    }\n",
       "</style>\n",
       "<table border=\"1\" class=\"dataframe\">\n",
       "  <thead>\n",
       "    <tr style=\"text-align: right;\">\n",
       "      <th></th>\n",
       "      <th>purity</th>\n",
       "      <th>Bindea_TMEcell</th>\n",
       "      <th>Davoli_TMEcell</th>\n",
       "      <th>Danaher_TMEcell</th>\n",
       "      <th>MCP_TMEcell</th>\n",
       "      <th>xcell_TMEcell</th>\n",
       "      <th>CIBERSORT_abs_TMEcell</th>\n",
       "      <th>ConsensusTMEcell</th>\n",
       "    </tr>\n",
       "  </thead>\n",
       "  <tbody>\n",
       "    <tr>\n",
       "      <th>TCGA.61.2113.01</th>\n",
       "      <td>0.49</td>\n",
       "      <td>0.823932</td>\n",
       "      <td>0.054177</td>\n",
       "      <td>-0.396719</td>\n",
       "      <td>50960.515249</td>\n",
       "      <td>0.1242</td>\n",
       "      <td>0.370066</td>\n",
       "      <td>0.248276</td>\n",
       "    </tr>\n",
       "    <tr>\n",
       "      <th>TCGA.OY.A56P.01</th>\n",
       "      <td>0.96</td>\n",
       "      <td>0.379263</td>\n",
       "      <td>-0.487841</td>\n",
       "      <td>-0.862766</td>\n",
       "      <td>7606.585967</td>\n",
       "      <td>0.0525</td>\n",
       "      <td>0.050431</td>\n",
       "      <td>-0.241627</td>\n",
       "    </tr>\n",
       "    <tr>\n",
       "      <th>TCGA.OY.A56Q.01</th>\n",
       "      <td>0.98</td>\n",
       "      <td>0.353461</td>\n",
       "      <td>-0.509548</td>\n",
       "      <td>-0.846367</td>\n",
       "      <td>1629.012154</td>\n",
       "      <td>0.0620</td>\n",
       "      <td>0.046361</td>\n",
       "      <td>-0.277074</td>\n",
       "    </tr>\n",
       "    <tr>\n",
       "      <th>TCGA.VG.A8LO.01</th>\n",
       "      <td>0.93</td>\n",
       "      <td>0.433556</td>\n",
       "      <td>-0.283772</td>\n",
       "      <td>-0.767907</td>\n",
       "      <td>8728.703190</td>\n",
       "      <td>0.0736</td>\n",
       "      <td>0.093726</td>\n",
       "      <td>-0.138293</td>\n",
       "    </tr>\n",
       "    <tr>\n",
       "      <th>TCGA.WR.A838.01</th>\n",
       "      <td>0.95</td>\n",
       "      <td>0.329305</td>\n",
       "      <td>-0.487562</td>\n",
       "      <td>-0.958864</td>\n",
       "      <td>6448.605191</td>\n",
       "      <td>0.0347</td>\n",
       "      <td>0.063276</td>\n",
       "      <td>-0.268326</td>\n",
       "    </tr>\n",
       "  </tbody>\n",
       "</table>\n",
       "</div>"
      ],
      "text/plain": [
       "                 purity  Bindea_TMEcell  Davoli_TMEcell  Danaher_TMEcell  \\\n",
       "TCGA.61.2113.01    0.49        0.823932        0.054177        -0.396719   \n",
       "TCGA.OY.A56P.01    0.96        0.379263       -0.487841        -0.862766   \n",
       "TCGA.OY.A56Q.01    0.98        0.353461       -0.509548        -0.846367   \n",
       "TCGA.VG.A8LO.01    0.93        0.433556       -0.283772        -0.767907   \n",
       "TCGA.WR.A838.01    0.95        0.329305       -0.487562        -0.958864   \n",
       "\n",
       "                  MCP_TMEcell  xcell_TMEcell  CIBERSORT_abs_TMEcell  \\\n",
       "TCGA.61.2113.01  50960.515249         0.1242               0.370066   \n",
       "TCGA.OY.A56P.01   7606.585967         0.0525               0.050431   \n",
       "TCGA.OY.A56Q.01   1629.012154         0.0620               0.046361   \n",
       "TCGA.VG.A8LO.01   8728.703190         0.0736               0.093726   \n",
       "TCGA.WR.A838.01   6448.605191         0.0347               0.063276   \n",
       "\n",
       "                 ConsensusTMEcell  \n",
       "TCGA.61.2113.01          0.248276  \n",
       "TCGA.OY.A56P.01         -0.241627  \n",
       "TCGA.OY.A56Q.01         -0.277074  \n",
       "TCGA.VG.A8LO.01         -0.138293  \n",
       "TCGA.WR.A838.01         -0.268326  "
      ]
     },
     "execution_count": 46,
     "metadata": {},
     "output_type": "execute_result"
    }
   ],
   "source": [
    "cellularities_df.tail()"
   ]
  },
  {
   "cell_type": "code",
   "execution_count": 47,
   "metadata": {},
   "outputs": [
    {
     "data": {
      "text/plain": [
       "297"
      ]
     },
     "execution_count": 47,
     "metadata": {},
     "output_type": "execute_result"
    }
   ],
   "source": [
    "len(cellularities_df)"
   ]
  },
  {
   "cell_type": "markdown",
   "metadata": {},
   "source": [
    "### Check and drop nans"
   ]
  },
  {
   "cell_type": "code",
   "execution_count": 48,
   "metadata": {},
   "outputs": [],
   "source": [
    "if True in cellularities_df.isnull().values:\n",
    "    \n",
    "    cellularities_df.dropna(axis='index',\n",
    "                            how='any',\n",
    "                            inplace=True)"
   ]
  },
  {
   "cell_type": "code",
   "execution_count": 49,
   "metadata": {},
   "outputs": [
    {
     "data": {
      "text/plain": [
       "False"
      ]
     },
     "execution_count": 49,
     "metadata": {},
     "output_type": "execute_result"
    }
   ],
   "source": [
    "True in cellularities_df.isnull().values"
   ]
  },
  {
   "cell_type": "code",
   "execution_count": 50,
   "metadata": {},
   "outputs": [],
   "source": [
    "import scipy.stats"
   ]
  },
  {
   "cell_type": "code",
   "execution_count": 51,
   "metadata": {},
   "outputs": [
    {
     "name": "stdout",
     "output_type": "stream",
     "text": [
      "Bindea_TMEcell\n",
      "\n",
      "NOT normal\n",
      "HETEROscedastic\n",
      "\n",
      "KENDALL\n",
      "5.988771024039335e-43\n",
      "Davoli_TMEcell\n",
      "\n",
      "NOT normal\n",
      "HETEROscedastic\n",
      "\n",
      "KENDALL\n",
      "2.780194559132955e-34\n",
      "Danaher_TMEcell\n",
      "\n",
      "NOT normal\n",
      "HETEROscedastic\n",
      "\n",
      "KENDALL\n",
      "1.989000708458872e-33\n",
      "MCP_TMEcell\n",
      "\n",
      "NOT normal\n",
      "HETEROscedastic\n",
      "\n",
      "KENDALL\n",
      "5.9828139478996295e-27\n",
      "xcell_TMEcell\n",
      "\n",
      "NOT normal\n",
      "HETEROscedastic\n",
      "\n",
      "KENDALL\n",
      "5.827348506182833e-32\n",
      "CIBERSORT_abs_TMEcell\n",
      "\n",
      "NOT normal\n",
      "HOMOscedastic\n",
      "\n",
      "KENDALL\n",
      "1.9370447466438095e-39\n",
      "ConsensusTMEcell\n",
      "\n",
      "NOT normal\n",
      "HETEROscedastic\n",
      "\n",
      "KENDALL\n",
      "3.7616137360608453e-42\n"
     ]
    }
   ],
   "source": [
    "x = cellularities_df[\"purity\"]\n",
    "\n",
    "correlations = []\n",
    "for cellularity_estimate in cellularities_df:\n",
    "    \n",
    "    if cellularity_estimate != \"purity\":\n",
    "    \n",
    "        y = cellularities_df[cellularity_estimate]\n",
    "    \n",
    "        print(cellularity_estimate+\"\\n\")\n",
    "\n",
    "        n1 = scipy.stats.shapiro(x)[1]\n",
    "        n2 = scipy.stats.shapiro(y)[1]\n",
    "\n",
    "        n3 = scipy.stats.normaltest(x)[1]\n",
    "        n4 = scipy.stats.normaltest(y)[1]\n",
    "\n",
    "        n5 = scipy.stats.anderson(x)\n",
    "        n6 = scipy.stats.anderson(y)\n",
    "\n",
    "        if min([n1,n2,n3,n4]) < 0.05: # not normal\n",
    "            \n",
    "            print(\"NOT normal\")\n",
    "\n",
    "            h1 = scipy.stats.levene(x, y)[1]\n",
    "            \n",
    "            if h1 < 0.05:\n",
    "                print(\"HETEROscedastic\\n\")\n",
    "                #print(h1)\n",
    "            else:\n",
    "                print(\"HOMOscedastic\\n\")\n",
    "\n",
    "        else:\n",
    "            \n",
    "            print(\"Normal\")\n",
    "\n",
    "            h1 = scipy.stats.bartlett(x,y)[1]\n",
    "            \n",
    "            if h1 < 0.05:\n",
    "                print(\"HETEROscedastic\\n\")\n",
    "            else:\n",
    "                print(\"HOMOscedastic\\n\")\n",
    "\n",
    "        if min([n1,n2,n3,n4,h1]) < 0.05:\n",
    "\n",
    "            print(\"KENDALL\")\n",
    "\n",
    "            print(scipy.stats.kendalltau(x,y)[1])\n",
    "            \n",
    "            cor, p_val = scipy.stats.kendalltau(x,y)\n",
    "\n",
    "        else:\n",
    "\n",
    "            print(\"anderson\")\n",
    "\n",
    "            print(n5[0], n5[1])\n",
    "            print(n6[0], n6[1])\n",
    "            print(\"\\n\")\n",
    "\n",
    "            print(\"PEARSON\")\n",
    "            print(scipy.stats.pearsonr(x,y)[1])\n",
    "            \n",
    "            cor, p_val = scipy.stats.pearsonr(x,y)\n",
    "                \n",
    "            print(\"\\n\")\n",
    "            \n",
    "        correlations.append([cellularity_estimate,cor,p_val])"
   ]
  },
  {
   "cell_type": "code",
   "execution_count": 52,
   "metadata": {},
   "outputs": [
    {
     "data": {
      "text/plain": [
       "<matplotlib.axes._subplots.AxesSubplot at 0x1a22e34ac8>"
      ]
     },
     "execution_count": 52,
     "metadata": {},
     "output_type": "execute_result"
    },
    {
     "data": {
      "image/png": "[encoded data removed]",
      "text/plain": [
       "<Figure size 432x288 with 1 Axes>"
      ]
     },
     "metadata": {},
     "output_type": "display_data"
    }
   ],
   "source": [
    "cellularities_df[\"purity\"].plot(kind=\"kde\")"
   ]
  },
  {
   "cell_type": "code",
   "execution_count": 53,
   "metadata": {},
   "outputs": [
    {
     "data": {
      "text/plain": [
       "(0.9457369446754456, 6.359704762814999e-09)"
      ]
     },
     "execution_count": 53,
     "metadata": {},
     "output_type": "execute_result"
    }
   ],
   "source": [
    "scipy.stats.shapiro(cellularities_df[\"purity\"].values)"
   ]
  },
  {
   "cell_type": "code",
   "execution_count": 54,
   "metadata": {},
   "outputs": [],
   "source": [
    "correlations.sort(key=lambda x: x[1])"
   ]
  },
  {
   "cell_type": "code",
   "execution_count": 55,
   "metadata": {},
   "outputs": [
    {
     "data": {
      "text/plain": [
       "[['Bindea_TMEcell', -0.5436716044609848, 5.988771024039335e-43],\n",
       " ['ConsensusTMEcell', -0.538380626514282, 3.7616137360608453e-42],\n",
       " ['CIBERSORT_abs_TMEcell', -0.5200039263243942, 1.9370447466438095e-39],\n",
       " ['Davoli_TMEcell', -0.48315604419557046, 2.780194559132955e-34],\n",
       " ['Danaher_TMEcell', -0.4767785261348125, 1.989000708458872e-33],\n",
       " ['xcell_TMEcell', -0.4657058920059598, 5.827348506182833e-32],\n",
       " ['MCP_TMEcell', -0.4253804546525557, 5.9828139478996295e-27]]"
      ]
     },
     "execution_count": 55,
     "metadata": {},
     "output_type": "execute_result"
    }
   ],
   "source": [
    "correlations"
   ]
  },
  {
   "cell_type": "code",
   "execution_count": 56,
   "metadata": {},
   "outputs": [
    {
     "data": {
      "text/plain": [
       "[5.988771024039335e-43,\n",
       " 3.7616137360608453e-42,\n",
       " 1.9370447466438095e-39,\n",
       " 2.780194559132955e-34,\n",
       " 1.989000708458872e-33,\n",
       " 5.827348506182833e-32,\n",
       " 5.9828139478996295e-27]"
      ]
     },
     "execution_count": 56,
     "metadata": {},
     "output_type": "execute_result"
    }
   ],
   "source": [
    "pvals = [corr[2] for corr in correlations]\n",
    "\n",
    "pvals"
   ]
  },
  {
   "cell_type": "code",
   "execution_count": 57,
   "metadata": {},
   "outputs": [
    {
     "name": "stdout",
     "output_type": "stream",
     "text": [
      "Bindea_TMEcell ****\n",
      "ConsensusTMEcell ****\n",
      "CIBERSORT_abs_TMEcell ****\n",
      "Davoli_TMEcell ****\n",
      "Danaher_TMEcell ****\n",
      "xcell_TMEcell ****\n",
      "MCP_TMEcell ****\n"
     ]
    }
   ],
   "source": [
    "for i, pval in enumerate(pvals):\n",
    "    if pval <= 0.0001:\n",
    "        print(correlations[i][0], \"****\")\n",
    "    elif pval <= 0.001:\n",
    "        print(correlations[i][0], \"***\")\n",
    "    elif pval <= 0.01:\n",
    "        print(correlations[i][0], \"**\")\n",
    "    elif pval <= 0.05:\n",
    "        print(correlations[i][0], \"*\")\n",
    "    elif pval <= 0.1:\n",
    "        print(correlations[i][0], \".\")\n",
    "    else:\n",
    "        print(correlations[i][0], \"Not significant\")"
   ]
  },
  {
   "cell_type": "markdown",
   "metadata": {},
   "source": [
    "## Plot barplot correlations"
   ]
  },
  {
   "cell_type": "markdown",
   "metadata": {},
   "source": [
    "### Define method colour"
   ]
  },
  {
   "cell_type": "code",
   "execution_count": 58,
   "metadata": {},
   "outputs": [],
   "source": [
    "method_colours = dict({\n",
    "    'CIBERSORT_abs_TMEcell': '#6FCCDD',\n",
    "    'MCP_TMEcell':           '#B9529F',\n",
    "    'Danaher_TMEcell':       '#0E8040',\n",
    "    'xcell_TMEcell':         '#F7931D',\n",
    "    'Bindea_TMEcell':        '#F6EB16',\n",
    "    'Davoli_TMEcell':        '#231F20',\n",
    "    'ConsensusTMEcell':      '#3953A4',\n",
    "    'TIMER':                 '#FF0000'\n",
    "})"
   ]
  },
  {
   "cell_type": "code",
   "execution_count": 59,
   "metadata": {},
   "outputs": [],
   "source": [
    "correlations_dict = {m[0]: {'tau': m[1]} for m in correlations}"
   ]
  },
  {
   "cell_type": "code",
   "execution_count": 60,
   "metadata": {},
   "outputs": [],
   "source": [
    "correlations_df = pd.DataFrame.from_dict(correlations_dict)\n",
    "\n",
    "correlations_df.sort_values(by=['tau'],\n",
    "                            axis='columns',\n",
    "                            inplace=True)"
   ]
  },
  {
   "cell_type": "code",
   "execution_count": 61,
   "metadata": {},
   "outputs": [
    {
     "data": {
      "text/html": [
       "<div>\n",
       "<style scoped>\n",
       "    .dataframe tbody tr th:only-of-type {\n",
       "        vertical-align: middle;\n",
       "    }\n",
       "\n",
       "    .dataframe tbody tr th {\n",
       "        vertical-align: top;\n",
       "    }\n",
       "\n",
       "    .dataframe thead th {\n",
       "        text-align: right;\n",
       "    }\n",
       "</style>\n",
       "<table border=\"1\" class=\"dataframe\">\n",
       "  <thead>\n",
       "    <tr style=\"text-align: right;\">\n",
       "      <th></th>\n",
       "      <th>Bindea_TMEcell</th>\n",
       "      <th>ConsensusTMEcell</th>\n",
       "      <th>CIBERSORT_abs_TMEcell</th>\n",
       "      <th>Davoli_TMEcell</th>\n",
       "      <th>Danaher_TMEcell</th>\n",
       "      <th>xcell_TMEcell</th>\n",
       "      <th>MCP_TMEcell</th>\n",
       "    </tr>\n",
       "  </thead>\n",
       "  <tbody>\n",
       "    <tr>\n",
       "      <th>tau</th>\n",
       "      <td>-0.543672</td>\n",
       "      <td>-0.538381</td>\n",
       "      <td>-0.520004</td>\n",
       "      <td>-0.483156</td>\n",
       "      <td>-0.476779</td>\n",
       "      <td>-0.465706</td>\n",
       "      <td>-0.42538</td>\n",
       "    </tr>\n",
       "  </tbody>\n",
       "</table>\n",
       "</div>"
      ],
      "text/plain": [
       "     Bindea_TMEcell  ConsensusTMEcell  CIBERSORT_abs_TMEcell  Davoli_TMEcell  \\\n",
       "tau       -0.543672         -0.538381              -0.520004       -0.483156   \n",
       "\n",
       "     Danaher_TMEcell  xcell_TMEcell  MCP_TMEcell  \n",
       "tau        -0.476779      -0.465706     -0.42538  "
      ]
     },
     "execution_count": 61,
     "metadata": {},
     "output_type": "execute_result"
    }
   ],
   "source": [
    "correlations_df"
   ]
  },
  {
   "cell_type": "code",
   "execution_count": 63,
   "metadata": {},
   "outputs": [
    {
     "data": {
      "text/plain": [
       "['#F6EB16', '#3953A4', '#6FCCDD', '#231F20', '#0E8040', '#F7931D', '#B9529F']"
      ]
     },
     "execution_count": 63,
     "metadata": {},
     "output_type": "execute_result"
    }
   ],
   "source": [
    "bar_colors = [method_colours[col] for col in correlations_df.columns.values]\n",
    "\n",
    "bar_colors"
   ]
  },
  {
   "cell_type": "code",
   "execution_count": 64,
   "metadata": {},
   "outputs": [
    {
     "data": {
      "image/png": "[encoded data removed]",
      "text/plain": [
       "<Figure size 360x360 with 1 Axes>"
      ]
     },
     "metadata": {},
     "output_type": "display_data"
    }
   ],
   "source": [
    "ax = correlations_df.plot(kind='bar',\n",
    "                          color=bar_colors,\n",
    "                          figsize=(5,5),\n",
    "                          ylim=(-1,1))"
   ]
  },
  {
   "cell_type": "code",
   "execution_count": 65,
   "metadata": {},
   "outputs": [],
   "source": [
    "fig = ax.get_figure()"
   ]
  },
  {
   "cell_type": "code",
   "execution_count": 66,
   "metadata": {},
   "outputs": [],
   "source": [
    "FILE = \"../../Figures/main/3/panels/3b_TCGAov_WES_TME_vs_RNA_TME_tau.pdf\""
   ]
  },
  {
   "cell_type": "code",
   "execution_count": 67,
   "metadata": {},
   "outputs": [],
   "source": [
    "fig.savefig(FILE, bbox_tight=True)"
   ]
  },
  {
   "cell_type": "markdown",
   "metadata": {},
   "source": [
    "# End script"
   ]
  }
 ],
 "metadata": {
  "kernelspec": {
   "display_name": "Python 3",
   "language": "python",
   "name": "python3"
  },
  "language_info": {
   "codemirror_mode": {
    "name": "ipython",
    "version": 3
   },
   "file_extension": ".py",
   "mimetype": "text/x-python",
   "name": "python",
   "nbconvert_exporter": "python",
   "pygments_lexer": "ipython3",
   "version": "3.6.8"
  }
 },
 "nbformat": 4,
 "nbformat_minor": 2
}

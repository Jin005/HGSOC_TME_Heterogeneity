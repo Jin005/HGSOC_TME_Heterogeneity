{
 "cells": [
  {
   "cell_type": "markdown",
   "metadata": {},
   "source": [
    "# Benchmark TME cellularity estimations on TCGAov leukocyte data"
   ]
  },
  {
   "cell_type": "markdown",
   "metadata": {},
   "source": [
    "Script related to figure s3c\n",
    "\n",
    "### Aim:\n",
    "- Benchmark TME cellularity scores using leukocyte methylation data for TCGAov data"
   ]
  },
  {
   "cell_type": "code",
   "execution_count": 1,
   "metadata": {},
   "outputs": [
    {
     "data": {
      "text/plain": [
       "R version 3.5.0 (2018-04-23)\n",
       "Platform: x86_64-apple-darwin15.6.0 (64-bit)\n",
       "Running under: macOS High Sierra 10.13.6\n",
       "\n",
       "Matrix products: default\n",
       "BLAS: /Library/Frameworks/R.framework/Versions/3.5/Resources/lib/libRblas.0.dylib\n",
       "LAPACK: /Library/Frameworks/R.framework/Versions/3.5/Resources/lib/libRlapack.dylib\n",
       "\n",
       "locale:\n",
       "[1] C/UTF-8/C/C/C/C\n",
       "\n",
       "attached base packages:\n",
       "[1] stats     graphics  grDevices utils     datasets  methods   base     \n",
       "\n",
       "loaded via a namespace (and not attached):\n",
       " [1] compiler_3.5.0  IRdisplay_0.6.1 pbdZMQ_0.3-3    tools_3.5.0    \n",
       " [5] htmltools_0.3.6 base64enc_0.1-3 crayon_1.3.4    Rcpp_1.0.1     \n",
       " [9] uuid_0.1-2      IRkernel_0.8.14 jsonlite_1.6    digest_0.6.18  \n",
       "[13] repr_0.17       evaluate_0.13  "
      ]
     },
     "metadata": {},
     "output_type": "display_data"
    }
   ],
   "source": [
    "sessionInfo()"
   ]
  },
  {
   "cell_type": "markdown",
   "metadata": {},
   "source": [
    "## Load packages"
   ]
  },
  {
   "cell_type": "code",
   "execution_count": 1,
   "metadata": {},
   "outputs": [
    {
     "name": "stderr",
     "output_type": "stream",
     "text": [
      "Loading required package: carData\n",
      "\n",
      "Attaching package: ‘faraway’\n",
      "\n",
      "The following objects are masked from ‘package:car’:\n",
      "\n",
      "    logit, vif\n",
      "\n"
     ]
    }
   ],
   "source": [
    "library(car)\n",
    "library(MASS)\n",
    "library(leaps)\n",
    "library(faraway)"
   ]
  },
  {
   "cell_type": "code",
   "execution_count": 2,
   "metadata": {},
   "outputs": [],
   "source": [
    "setwd(\"~/git_repos/HGSOC_TME_Heterogeneity/Scripts/3/\")"
   ]
  },
  {
   "cell_type": "markdown",
   "metadata": {},
   "source": [
    "## Load TME cell estimations with Leukocyte methylation scores"
   ]
  },
  {
   "cell_type": "markdown",
   "metadata": {},
   "source": [
    "### Bindea"
   ]
  },
  {
   "cell_type": "code",
   "execution_count": 3,
   "metadata": {},
   "outputs": [
    {
     "data": {
      "text/html": [
       "<table>\n",
       "<thead><tr><th></th><th scope=col>LeukocyteMeth_score</th><th scope=col>activated_Dendritic_cells</th><th scope=col>B_cells</th><th scope=col>CD8_T_cells</th><th scope=col>Citotoxic_cells</th><th scope=col>Dendritic_cells</th><th scope=col>Eosinophils</th><th scope=col>immature_Dendritic_cells</th><th scope=col>Macrophages</th><th scope=col>Mast_cells</th><th scope=col>⋯</th><th scope=col>T_cells</th><th scope=col>T_helper_cells</th><th scope=col>T_central_memory_cells</th><th scope=col>T_effector_memory_cells</th><th scope=col>T_follicular_helper_cells</th><th scope=col>T_gamma_delta_cells</th><th scope=col>Th1_cells</th><th scope=col>Th17_cells</th><th scope=col>Th2_cells</th><th scope=col>Treg_cells</th></tr></thead>\n",
       "<tbody>\n",
       "\t<tr><th scope=row>TCGA.04.1348.01</th><td>0.15094874   </td><td> 0.12080193  </td><td>-0.03962222  </td><td>0.2272334    </td><td> 0.031496941 </td><td>-0.01598181  </td><td>0.08082758   </td><td> 0.07030963  </td><td>0.15797988   </td><td>-0.1377551   </td><td>⋯            </td><td>-0.0005959854</td><td>0.2547060    </td><td>0.1524806    </td><td>0.1089959    </td><td> 0.0057093916</td><td>-0.2363975   </td><td> 0.0299348681</td><td>-0.04188863  </td><td>0.067943526  </td><td>-0.02857762  </td></tr>\n",
       "\t<tr><th scope=row>TCGA.04.1357.01</th><td>0.26794368   </td><td> 0.10556223  </td><td> 0.02903597  </td><td>0.2632011    </td><td> 0.078787221 </td><td> 0.03919308  </td><td>0.10824983   </td><td> 0.10624845  </td><td>0.20255229   </td><td>-0.1380420   </td><td>⋯            </td><td> 0.1622301652</td><td>0.2568730    </td><td>0.1676826    </td><td>0.1400404    </td><td> 0.0544864070</td><td>-0.1751537   </td><td> 0.0423904455</td><td> 0.01457536  </td><td>0.006401573  </td><td>-0.03299969  </td></tr>\n",
       "\t<tr><th scope=row>TCGA.04.1362.01</th><td>0.08407051   </td><td> 0.13333816  </td><td>-0.09843530  </td><td>0.2088479    </td><td>-0.074348441 </td><td>-0.02865189  </td><td>0.11646350   </td><td> 0.05582148  </td><td>0.13828568   </td><td>-0.1291366   </td><td>⋯            </td><td>-0.1391578587</td><td>0.2453089    </td><td>0.1745741    </td><td>0.1161305    </td><td>-0.0045865726</td><td>-0.2304435   </td><td> 0.0012755485</td><td>-0.12826950  </td><td>0.024894442  </td><td>-0.10347643  </td></tr>\n",
       "\t<tr><th scope=row>TCGA.04.1364.01</th><td>0.03346511   </td><td>-0.05315550  </td><td>-0.07195296  </td><td>0.1932875    </td><td>-0.163496772 </td><td>-0.14344404  </td><td>0.08816655   </td><td>-0.01111126  </td><td>0.03698071   </td><td>-0.1116353   </td><td>⋯            </td><td>-0.2018524589</td><td>0.2623100    </td><td>0.1059633    </td><td>0.1152970    </td><td> 0.0004536352</td><td>-0.2127128   </td><td>-0.0003751269</td><td>-0.13651830  </td><td>0.069309195  </td><td>-0.22607831  </td></tr>\n",
       "\t<tr><th scope=row>TCGA.04.1365.01</th><td>0.14147110   </td><td> 0.19024360  </td><td>-0.09176262  </td><td>0.2098552    </td><td>-0.005047341 </td><td>-0.03415753  </td><td>0.08535212   </td><td> 0.07629611  </td><td>0.17567990   </td><td>-0.1509403   </td><td>⋯            </td><td>-0.0162935621</td><td>0.2732386    </td><td>0.1358809    </td><td>0.1195484    </td><td> 0.0289440950</td><td>-0.2462615   </td><td> 0.0330778960</td><td>-0.10256425  </td><td>0.083254652  </td><td>-0.08197412  </td></tr>\n",
       "\t<tr><th scope=row>TCGA.04.1514.01</th><td>0.03777766   </td><td> 0.07906845  </td><td>-0.10770259  </td><td>0.1996491    </td><td>-0.174425859 </td><td>-0.18025025  </td><td>0.13576262   </td><td>-0.00195733  </td><td>0.06424089   </td><td>-0.1276029   </td><td>⋯            </td><td>-0.1877361625</td><td>0.2657698    </td><td>0.1792246    </td><td>0.1068518    </td><td> 0.0229988609</td><td>-0.2774123   </td><td>-0.0357998783</td><td>-0.08160326  </td><td>0.073988042  </td><td>-0.19965644  </td></tr>\n",
       "</tbody>\n",
       "</table>\n"
      ],
      "text/latex": [
       "\\begin{tabular}{r|lllllllllllllllllllllllll}\n",
       "  & LeukocyteMeth\\_score & activated\\_Dendritic\\_cells & B\\_cells & CD8\\_T\\_cells & Citotoxic\\_cells & Dendritic\\_cells & Eosinophils & immature\\_Dendritic\\_cells & Macrophages & Mast\\_cells & ⋯ & T\\_cells & T\\_helper\\_cells & T\\_central\\_memory\\_cells & T\\_effector\\_memory\\_cells & T\\_follicular\\_helper\\_cells & T\\_gamma\\_delta\\_cells & Th1\\_cells & Th17\\_cells & Th2\\_cells & Treg\\_cells\\\\\n",
       "\\hline\n",
       "\tTCGA.04.1348.01 & 0.15094874    &  0.12080193   & -0.03962222   & 0.2272334     &  0.031496941  & -0.01598181   & 0.08082758    &  0.07030963   & 0.15797988    & -0.1377551    & ⋯             & -0.0005959854 & 0.2547060     & 0.1524806     & 0.1089959     &  0.0057093916 & -0.2363975    &  0.0299348681 & -0.04188863   & 0.067943526   & -0.02857762  \\\\\n",
       "\tTCGA.04.1357.01 & 0.26794368    &  0.10556223   &  0.02903597   & 0.2632011     &  0.078787221  &  0.03919308   & 0.10824983    &  0.10624845   & 0.20255229    & -0.1380420    & ⋯             &  0.1622301652 & 0.2568730     & 0.1676826     & 0.1400404     &  0.0544864070 & -0.1751537    &  0.0423904455 &  0.01457536   & 0.006401573   & -0.03299969  \\\\\n",
       "\tTCGA.04.1362.01 & 0.08407051    &  0.13333816   & -0.09843530   & 0.2088479     & -0.074348441  & -0.02865189   & 0.11646350    &  0.05582148   & 0.13828568    & -0.1291366    & ⋯             & -0.1391578587 & 0.2453089     & 0.1745741     & 0.1161305     & -0.0045865726 & -0.2304435    &  0.0012755485 & -0.12826950   & 0.024894442   & -0.10347643  \\\\\n",
       "\tTCGA.04.1364.01 & 0.03346511    & -0.05315550   & -0.07195296   & 0.1932875     & -0.163496772  & -0.14344404   & 0.08816655    & -0.01111126   & 0.03698071    & -0.1116353    & ⋯             & -0.2018524589 & 0.2623100     & 0.1059633     & 0.1152970     &  0.0004536352 & -0.2127128    & -0.0003751269 & -0.13651830   & 0.069309195   & -0.22607831  \\\\\n",
       "\tTCGA.04.1365.01 & 0.14147110    &  0.19024360   & -0.09176262   & 0.2098552     & -0.005047341  & -0.03415753   & 0.08535212    &  0.07629611   & 0.17567990    & -0.1509403    & ⋯             & -0.0162935621 & 0.2732386     & 0.1358809     & 0.1195484     &  0.0289440950 & -0.2462615    &  0.0330778960 & -0.10256425   & 0.083254652   & -0.08197412  \\\\\n",
       "\tTCGA.04.1514.01 & 0.03777766    &  0.07906845   & -0.10770259   & 0.1996491     & -0.174425859  & -0.18025025   & 0.13576262    & -0.00195733   & 0.06424089    & -0.1276029    & ⋯             & -0.1877361625 & 0.2657698     & 0.1792246     & 0.1068518     &  0.0229988609 & -0.2774123    & -0.0357998783 & -0.08160326   & 0.073988042   & -0.19965644  \\\\\n",
       "\\end{tabular}\n"
      ],
      "text/markdown": [
       "\n",
       "| <!--/--> | LeukocyteMeth_score | activated_Dendritic_cells | B_cells | CD8_T_cells | Citotoxic_cells | Dendritic_cells | Eosinophils | immature_Dendritic_cells | Macrophages | Mast_cells | ⋯ | T_cells | T_helper_cells | T_central_memory_cells | T_effector_memory_cells | T_follicular_helper_cells | T_gamma_delta_cells | Th1_cells | Th17_cells | Th2_cells | Treg_cells | \n",
       "|---|---|---|---|---|---|\n",
       "| TCGA.04.1348.01 | 0.15094874    |  0.12080193   | -0.03962222   | 0.2272334     |  0.031496941  | -0.01598181   | 0.08082758    |  0.07030963   | 0.15797988    | -0.1377551    | ⋯             | -0.0005959854 | 0.2547060     | 0.1524806     | 0.1089959     |  0.0057093916 | -0.2363975    |  0.0299348681 | -0.04188863   | 0.067943526   | -0.02857762   | \n",
       "| TCGA.04.1357.01 | 0.26794368    |  0.10556223   |  0.02903597   | 0.2632011     |  0.078787221  |  0.03919308   | 0.10824983    |  0.10624845   | 0.20255229    | -0.1380420    | ⋯             |  0.1622301652 | 0.2568730     | 0.1676826     | 0.1400404     |  0.0544864070 | -0.1751537    |  0.0423904455 |  0.01457536   | 0.006401573   | -0.03299969   | \n",
       "| TCGA.04.1362.01 | 0.08407051    |  0.13333816   | -0.09843530   | 0.2088479     | -0.074348441  | -0.02865189   | 0.11646350    |  0.05582148   | 0.13828568    | -0.1291366    | ⋯             | -0.1391578587 | 0.2453089     | 0.1745741     | 0.1161305     | -0.0045865726 | -0.2304435    |  0.0012755485 | -0.12826950   | 0.024894442   | -0.10347643   | \n",
       "| TCGA.04.1364.01 | 0.03346511    | -0.05315550   | -0.07195296   | 0.1932875     | -0.163496772  | -0.14344404   | 0.08816655    | -0.01111126   | 0.03698071    | -0.1116353    | ⋯             | -0.2018524589 | 0.2623100     | 0.1059633     | 0.1152970     |  0.0004536352 | -0.2127128    | -0.0003751269 | -0.13651830   | 0.069309195   | -0.22607831   | \n",
       "| TCGA.04.1365.01 | 0.14147110    |  0.19024360   | -0.09176262   | 0.2098552     | -0.005047341  | -0.03415753   | 0.08535212    |  0.07629611   | 0.17567990    | -0.1509403    | ⋯             | -0.0162935621 | 0.2732386     | 0.1358809     | 0.1195484     |  0.0289440950 | -0.2462615    |  0.0330778960 | -0.10256425   | 0.083254652   | -0.08197412   | \n",
       "| TCGA.04.1514.01 | 0.03777766    |  0.07906845   | -0.10770259   | 0.1996491     | -0.174425859  | -0.18025025   | 0.13576262    | -0.00195733   | 0.06424089    | -0.1276029    | ⋯             | -0.1877361625 | 0.2657698     | 0.1792246     | 0.1068518     |  0.0229988609 | -0.2774123    | -0.0357998783 | -0.08160326   | 0.073988042   | -0.19965644   | \n",
       "\n",
       "\n"
      ],
      "text/plain": [
       "                LeukocyteMeth_score activated_Dendritic_cells B_cells    \n",
       "TCGA.04.1348.01 0.15094874           0.12080193               -0.03962222\n",
       "TCGA.04.1357.01 0.26794368           0.10556223                0.02903597\n",
       "TCGA.04.1362.01 0.08407051           0.13333816               -0.09843530\n",
       "TCGA.04.1364.01 0.03346511          -0.05315550               -0.07195296\n",
       "TCGA.04.1365.01 0.14147110           0.19024360               -0.09176262\n",
       "TCGA.04.1514.01 0.03777766           0.07906845               -0.10770259\n",
       "                CD8_T_cells Citotoxic_cells Dendritic_cells Eosinophils\n",
       "TCGA.04.1348.01 0.2272334    0.031496941    -0.01598181     0.08082758 \n",
       "TCGA.04.1357.01 0.2632011    0.078787221     0.03919308     0.10824983 \n",
       "TCGA.04.1362.01 0.2088479   -0.074348441    -0.02865189     0.11646350 \n",
       "TCGA.04.1364.01 0.1932875   -0.163496772    -0.14344404     0.08816655 \n",
       "TCGA.04.1365.01 0.2098552   -0.005047341    -0.03415753     0.08535212 \n",
       "TCGA.04.1514.01 0.1996491   -0.174425859    -0.18025025     0.13576262 \n",
       "                immature_Dendritic_cells Macrophages Mast_cells ⋯ T_cells      \n",
       "TCGA.04.1348.01  0.07030963              0.15797988  -0.1377551 ⋯ -0.0005959854\n",
       "TCGA.04.1357.01  0.10624845              0.20255229  -0.1380420 ⋯  0.1622301652\n",
       "TCGA.04.1362.01  0.05582148              0.13828568  -0.1291366 ⋯ -0.1391578587\n",
       "TCGA.04.1364.01 -0.01111126              0.03698071  -0.1116353 ⋯ -0.2018524589\n",
       "TCGA.04.1365.01  0.07629611              0.17567990  -0.1509403 ⋯ -0.0162935621\n",
       "TCGA.04.1514.01 -0.00195733              0.06424089  -0.1276029 ⋯ -0.1877361625\n",
       "                T_helper_cells T_central_memory_cells T_effector_memory_cells\n",
       "TCGA.04.1348.01 0.2547060      0.1524806              0.1089959              \n",
       "TCGA.04.1357.01 0.2568730      0.1676826              0.1400404              \n",
       "TCGA.04.1362.01 0.2453089      0.1745741              0.1161305              \n",
       "TCGA.04.1364.01 0.2623100      0.1059633              0.1152970              \n",
       "TCGA.04.1365.01 0.2732386      0.1358809              0.1195484              \n",
       "TCGA.04.1514.01 0.2657698      0.1792246              0.1068518              \n",
       "                T_follicular_helper_cells T_gamma_delta_cells Th1_cells    \n",
       "TCGA.04.1348.01  0.0057093916             -0.2363975           0.0299348681\n",
       "TCGA.04.1357.01  0.0544864070             -0.1751537           0.0423904455\n",
       "TCGA.04.1362.01 -0.0045865726             -0.2304435           0.0012755485\n",
       "TCGA.04.1364.01  0.0004536352             -0.2127128          -0.0003751269\n",
       "TCGA.04.1365.01  0.0289440950             -0.2462615           0.0330778960\n",
       "TCGA.04.1514.01  0.0229988609             -0.2774123          -0.0357998783\n",
       "                Th17_cells  Th2_cells   Treg_cells \n",
       "TCGA.04.1348.01 -0.04188863 0.067943526 -0.02857762\n",
       "TCGA.04.1357.01  0.01457536 0.006401573 -0.03299969\n",
       "TCGA.04.1362.01 -0.12826950 0.024894442 -0.10347643\n",
       "TCGA.04.1364.01 -0.13651830 0.069309195 -0.22607831\n",
       "TCGA.04.1365.01 -0.10256425 0.083254652 -0.08197412\n",
       "TCGA.04.1514.01 -0.08160326 0.073988042 -0.19965644"
      ]
     },
     "metadata": {},
     "output_type": "display_data"
    }
   ],
   "source": [
    "bin_data <- read.csv('../../Data/3/LeukocyteScore_Bindea_TMEcells.txt',\n",
    "                     sep='\\t',\n",
    "                     header=T,\n",
    "                     row.names='X')\n",
    "\n",
    "head(bin_data)"
   ]
  },
  {
   "cell_type": "code",
   "execution_count": 4,
   "metadata": {},
   "outputs": [
    {
     "data": {
      "text/html": [
       "<ol class=list-inline>\n",
       "\t<li>'LeukocyteMeth_score'</li>\n",
       "\t<li>'activated_Dendritic_cells'</li>\n",
       "\t<li>'B_cells'</li>\n",
       "\t<li>'CD8_T_cells'</li>\n",
       "\t<li>'Citotoxic_cells'</li>\n",
       "\t<li>'Dendritic_cells'</li>\n",
       "\t<li>'Eosinophils'</li>\n",
       "\t<li>'immature_Dendritic_cells'</li>\n",
       "\t<li>'Macrophages'</li>\n",
       "\t<li>'Mast_cells'</li>\n",
       "\t<li>'Neutrophils'</li>\n",
       "\t<li>'NK_CD56bright_cells'</li>\n",
       "\t<li>'NK_CD56dim_cells'</li>\n",
       "\t<li>'NK_cells'</li>\n",
       "\t<li>'plasmacytoid_Dendritic_cells'</li>\n",
       "\t<li>'T_cells'</li>\n",
       "\t<li>'T_helper_cells'</li>\n",
       "\t<li>'T_central_memory_cells'</li>\n",
       "\t<li>'T_effector_memory_cells'</li>\n",
       "\t<li>'T_follicular_helper_cells'</li>\n",
       "\t<li>'T_gamma_delta_cells'</li>\n",
       "\t<li>'Th1_cells'</li>\n",
       "\t<li>'Th17_cells'</li>\n",
       "\t<li>'Th2_cells'</li>\n",
       "\t<li>'Treg_cells'</li>\n",
       "</ol>\n"
      ],
      "text/latex": [
       "\\begin{enumerate*}\n",
       "\\item 'LeukocyteMeth\\_score'\n",
       "\\item 'activated\\_Dendritic\\_cells'\n",
       "\\item 'B\\_cells'\n",
       "\\item 'CD8\\_T\\_cells'\n",
       "\\item 'Citotoxic\\_cells'\n",
       "\\item 'Dendritic\\_cells'\n",
       "\\item 'Eosinophils'\n",
       "\\item 'immature\\_Dendritic\\_cells'\n",
       "\\item 'Macrophages'\n",
       "\\item 'Mast\\_cells'\n",
       "\\item 'Neutrophils'\n",
       "\\item 'NK\\_CD56bright\\_cells'\n",
       "\\item 'NK\\_CD56dim\\_cells'\n",
       "\\item 'NK\\_cells'\n",
       "\\item 'plasmacytoid\\_Dendritic\\_cells'\n",
       "\\item 'T\\_cells'\n",
       "\\item 'T\\_helper\\_cells'\n",
       "\\item 'T\\_central\\_memory\\_cells'\n",
       "\\item 'T\\_effector\\_memory\\_cells'\n",
       "\\item 'T\\_follicular\\_helper\\_cells'\n",
       "\\item 'T\\_gamma\\_delta\\_cells'\n",
       "\\item 'Th1\\_cells'\n",
       "\\item 'Th17\\_cells'\n",
       "\\item 'Th2\\_cells'\n",
       "\\item 'Treg\\_cells'\n",
       "\\end{enumerate*}\n"
      ],
      "text/markdown": [
       "1. 'LeukocyteMeth_score'\n",
       "2. 'activated_Dendritic_cells'\n",
       "3. 'B_cells'\n",
       "4. 'CD8_T_cells'\n",
       "5. 'Citotoxic_cells'\n",
       "6. 'Dendritic_cells'\n",
       "7. 'Eosinophils'\n",
       "8. 'immature_Dendritic_cells'\n",
       "9. 'Macrophages'\n",
       "10. 'Mast_cells'\n",
       "11. 'Neutrophils'\n",
       "12. 'NK_CD56bright_cells'\n",
       "13. 'NK_CD56dim_cells'\n",
       "14. 'NK_cells'\n",
       "15. 'plasmacytoid_Dendritic_cells'\n",
       "16. 'T_cells'\n",
       "17. 'T_helper_cells'\n",
       "18. 'T_central_memory_cells'\n",
       "19. 'T_effector_memory_cells'\n",
       "20. 'T_follicular_helper_cells'\n",
       "21. 'T_gamma_delta_cells'\n",
       "22. 'Th1_cells'\n",
       "23. 'Th17_cells'\n",
       "24. 'Th2_cells'\n",
       "25. 'Treg_cells'\n",
       "\n",
       "\n"
      ],
      "text/plain": [
       " [1] \"LeukocyteMeth_score\"          \"activated_Dendritic_cells\"   \n",
       " [3] \"B_cells\"                      \"CD8_T_cells\"                 \n",
       " [5] \"Citotoxic_cells\"              \"Dendritic_cells\"             \n",
       " [7] \"Eosinophils\"                  \"immature_Dendritic_cells\"    \n",
       " [9] \"Macrophages\"                  \"Mast_cells\"                  \n",
       "[11] \"Neutrophils\"                  \"NK_CD56bright_cells\"         \n",
       "[13] \"NK_CD56dim_cells\"             \"NK_cells\"                    \n",
       "[15] \"plasmacytoid_Dendritic_cells\" \"T_cells\"                     \n",
       "[17] \"T_helper_cells\"               \"T_central_memory_cells\"      \n",
       "[19] \"T_effector_memory_cells\"      \"T_follicular_helper_cells\"   \n",
       "[21] \"T_gamma_delta_cells\"          \"Th1_cells\"                   \n",
       "[23] \"Th17_cells\"                   \"Th2_cells\"                   \n",
       "[25] \"Treg_cells\"                  "
      ]
     },
     "metadata": {},
     "output_type": "display_data"
    }
   ],
   "source": [
    "colnames(bin_data)"
   ]
  },
  {
   "cell_type": "code",
   "execution_count": 5,
   "metadata": {},
   "outputs": [
    {
     "data": {
      "text/html": [
       "<ol class=list-inline>\n",
       "\t<li>305</li>\n",
       "\t<li>25</li>\n",
       "</ol>\n"
      ],
      "text/latex": [
       "\\begin{enumerate*}\n",
       "\\item 305\n",
       "\\item 25\n",
       "\\end{enumerate*}\n"
      ],
      "text/markdown": [
       "1. 305\n",
       "2. 25\n",
       "\n",
       "\n"
      ],
      "text/plain": [
       "[1] 305  25"
      ]
     },
     "metadata": {},
     "output_type": "display_data"
    }
   ],
   "source": [
    "dim(bin_data)"
   ]
  },
  {
   "cell_type": "markdown",
   "metadata": {},
   "source": [
    "### Davoli"
   ]
  },
  {
   "cell_type": "code",
   "execution_count": 6,
   "metadata": {},
   "outputs": [
    {
     "data": {
      "text/html": [
       "<table>\n",
       "<thead><tr><th></th><th scope=col>LeukocyteMeth_score</th><th scope=col>CD4_mature</th><th scope=col>CD8_effector</th><th scope=col>NK_cells</th><th scope=col>B_cells</th><th scope=col>T_regs</th><th scope=col>Dendritics</th><th scope=col>CD8_effector_NK_cells</th><th scope=col>Macrophages</th><th scope=col>Macrophages_M2</th><th scope=col>Macrophages_M1</th></tr></thead>\n",
       "<tbody>\n",
       "\t<tr><th scope=row>TCGA.04.1348.01</th><td>0.15094874  </td><td> 0.02265669 </td><td>-0.13368553 </td><td>-0.139780840</td><td>-0.045055042</td><td>-0.01413145 </td><td> 0.13264289 </td><td>-0.01007489 </td><td> 0.413100804</td><td> 0.26219802 </td><td> 0.3699730  </td></tr>\n",
       "\t<tr><th scope=row>TCGA.04.1357.01</th><td>0.26794368  </td><td> 0.10361223 </td><td> 0.05135761 </td><td> 0.004286589</td><td> 0.148263482</td><td>-0.01467961 </td><td> 0.14826799 </td><td> 0.12913414 </td><td> 0.450267807</td><td> 0.30454248 </td><td> 0.4334608  </td></tr>\n",
       "\t<tr><th scope=row>TCGA.04.1362.01</th><td>0.08407051  </td><td>-0.12438993 </td><td>-0.36916463 </td><td>-0.346158705</td><td>-0.209139765</td><td>-0.09584074 </td><td>-0.04967173 </td><td>-0.21720120 </td><td> 0.333927607</td><td> 0.16942322 </td><td> 0.1708495  </td></tr>\n",
       "\t<tr><th scope=row>TCGA.04.1364.01</th><td>0.03346511  </td><td>-0.18234025 </td><td>-0.43643981 </td><td>-0.467785794</td><td>-0.127646643</td><td>-0.22223507 </td><td>-0.09767746 </td><td>-0.35831776 </td><td>-0.022455228</td><td>-0.08036410 </td><td>-0.1122478  </td></tr>\n",
       "\t<tr><th scope=row>TCGA.04.1365.01</th><td>0.14147110  </td><td>-0.04229328 </td><td>-0.15522688 </td><td>-0.146162797</td><td>-0.005805204</td><td>-0.10821798 </td><td> 0.12214756 </td><td>-0.04539836 </td><td> 0.390748172</td><td> 0.21386171 </td><td> 0.3483508  </td></tr>\n",
       "\t<tr><th scope=row>TCGA.04.1514.01</th><td>0.03777766  </td><td>-0.14808391 </td><td>-0.35410255 </td><td>-0.435578023</td><td>-0.237304750</td><td>-0.10345609 </td><td>-0.04896112 </td><td>-0.31855763 </td><td> 0.001551493</td><td>-0.09999489 </td><td>-0.1151634  </td></tr>\n",
       "</tbody>\n",
       "</table>\n"
      ],
      "text/latex": [
       "\\begin{tabular}{r|lllllllllll}\n",
       "  & LeukocyteMeth\\_score & CD4\\_mature & CD8\\_effector & NK\\_cells & B\\_cells & T\\_regs & Dendritics & CD8\\_effector\\_NK\\_cells & Macrophages & Macrophages\\_M2 & Macrophages\\_M1\\\\\n",
       "\\hline\n",
       "\tTCGA.04.1348.01 & 0.15094874   &  0.02265669  & -0.13368553  & -0.139780840 & -0.045055042 & -0.01413145  &  0.13264289  & -0.01007489  &  0.413100804 &  0.26219802  &  0.3699730  \\\\\n",
       "\tTCGA.04.1357.01 & 0.26794368   &  0.10361223  &  0.05135761  &  0.004286589 &  0.148263482 & -0.01467961  &  0.14826799  &  0.12913414  &  0.450267807 &  0.30454248  &  0.4334608  \\\\\n",
       "\tTCGA.04.1362.01 & 0.08407051   & -0.12438993  & -0.36916463  & -0.346158705 & -0.209139765 & -0.09584074  & -0.04967173  & -0.21720120  &  0.333927607 &  0.16942322  &  0.1708495  \\\\\n",
       "\tTCGA.04.1364.01 & 0.03346511   & -0.18234025  & -0.43643981  & -0.467785794 & -0.127646643 & -0.22223507  & -0.09767746  & -0.35831776  & -0.022455228 & -0.08036410  & -0.1122478  \\\\\n",
       "\tTCGA.04.1365.01 & 0.14147110   & -0.04229328  & -0.15522688  & -0.146162797 & -0.005805204 & -0.10821798  &  0.12214756  & -0.04539836  &  0.390748172 &  0.21386171  &  0.3483508  \\\\\n",
       "\tTCGA.04.1514.01 & 0.03777766   & -0.14808391  & -0.35410255  & -0.435578023 & -0.237304750 & -0.10345609  & -0.04896112  & -0.31855763  &  0.001551493 & -0.09999489  & -0.1151634  \\\\\n",
       "\\end{tabular}\n"
      ],
      "text/markdown": [
       "\n",
       "| <!--/--> | LeukocyteMeth_score | CD4_mature | CD8_effector | NK_cells | B_cells | T_regs | Dendritics | CD8_effector_NK_cells | Macrophages | Macrophages_M2 | Macrophages_M1 | \n",
       "|---|---|---|---|---|---|\n",
       "| TCGA.04.1348.01 | 0.15094874   |  0.02265669  | -0.13368553  | -0.139780840 | -0.045055042 | -0.01413145  |  0.13264289  | -0.01007489  |  0.413100804 |  0.26219802  |  0.3699730   | \n",
       "| TCGA.04.1357.01 | 0.26794368   |  0.10361223  |  0.05135761  |  0.004286589 |  0.148263482 | -0.01467961  |  0.14826799  |  0.12913414  |  0.450267807 |  0.30454248  |  0.4334608   | \n",
       "| TCGA.04.1362.01 | 0.08407051   | -0.12438993  | -0.36916463  | -0.346158705 | -0.209139765 | -0.09584074  | -0.04967173  | -0.21720120  |  0.333927607 |  0.16942322  |  0.1708495   | \n",
       "| TCGA.04.1364.01 | 0.03346511   | -0.18234025  | -0.43643981  | -0.467785794 | -0.127646643 | -0.22223507  | -0.09767746  | -0.35831776  | -0.022455228 | -0.08036410  | -0.1122478   | \n",
       "| TCGA.04.1365.01 | 0.14147110   | -0.04229328  | -0.15522688  | -0.146162797 | -0.005805204 | -0.10821798  |  0.12214756  | -0.04539836  |  0.390748172 |  0.21386171  |  0.3483508   | \n",
       "| TCGA.04.1514.01 | 0.03777766   | -0.14808391  | -0.35410255  | -0.435578023 | -0.237304750 | -0.10345609  | -0.04896112  | -0.31855763  |  0.001551493 | -0.09999489  | -0.1151634   | \n",
       "\n",
       "\n"
      ],
      "text/plain": [
       "                LeukocyteMeth_score CD4_mature  CD8_effector NK_cells    \n",
       "TCGA.04.1348.01 0.15094874           0.02265669 -0.13368553  -0.139780840\n",
       "TCGA.04.1357.01 0.26794368           0.10361223  0.05135761   0.004286589\n",
       "TCGA.04.1362.01 0.08407051          -0.12438993 -0.36916463  -0.346158705\n",
       "TCGA.04.1364.01 0.03346511          -0.18234025 -0.43643981  -0.467785794\n",
       "TCGA.04.1365.01 0.14147110          -0.04229328 -0.15522688  -0.146162797\n",
       "TCGA.04.1514.01 0.03777766          -0.14808391 -0.35410255  -0.435578023\n",
       "                B_cells      T_regs      Dendritics  CD8_effector_NK_cells\n",
       "TCGA.04.1348.01 -0.045055042 -0.01413145  0.13264289 -0.01007489          \n",
       "TCGA.04.1357.01  0.148263482 -0.01467961  0.14826799  0.12913414          \n",
       "TCGA.04.1362.01 -0.209139765 -0.09584074 -0.04967173 -0.21720120          \n",
       "TCGA.04.1364.01 -0.127646643 -0.22223507 -0.09767746 -0.35831776          \n",
       "TCGA.04.1365.01 -0.005805204 -0.10821798  0.12214756 -0.04539836          \n",
       "TCGA.04.1514.01 -0.237304750 -0.10345609 -0.04896112 -0.31855763          \n",
       "                Macrophages  Macrophages_M2 Macrophages_M1\n",
       "TCGA.04.1348.01  0.413100804  0.26219802     0.3699730    \n",
       "TCGA.04.1357.01  0.450267807  0.30454248     0.4334608    \n",
       "TCGA.04.1362.01  0.333927607  0.16942322     0.1708495    \n",
       "TCGA.04.1364.01 -0.022455228 -0.08036410    -0.1122478    \n",
       "TCGA.04.1365.01  0.390748172  0.21386171     0.3483508    \n",
       "TCGA.04.1514.01  0.001551493 -0.09999489    -0.1151634    "
      ]
     },
     "metadata": {},
     "output_type": "display_data"
    }
   ],
   "source": [
    "dav_data <- read.csv('../../Data/3/LeukocyteScore_Davoli_TMEcells.txt',\n",
    "                     sep='\\t',\n",
    "                     header=T,\n",
    "                     row.names='X')\n",
    "\n",
    "head(dav_data)"
   ]
  },
  {
   "cell_type": "code",
   "execution_count": 7,
   "metadata": {},
   "outputs": [
    {
     "data": {
      "text/html": [
       "<ol class=list-inline>\n",
       "\t<li>'LeukocyteMeth_score'</li>\n",
       "\t<li>'CD4_mature'</li>\n",
       "\t<li>'CD8_effector'</li>\n",
       "\t<li>'NK_cells'</li>\n",
       "\t<li>'B_cells'</li>\n",
       "\t<li>'T_regs'</li>\n",
       "\t<li>'Dendritics'</li>\n",
       "\t<li>'CD8_effector_NK_cells'</li>\n",
       "\t<li>'Macrophages'</li>\n",
       "\t<li>'Macrophages_M2'</li>\n",
       "\t<li>'Macrophages_M1'</li>\n",
       "</ol>\n"
      ],
      "text/latex": [
       "\\begin{enumerate*}\n",
       "\\item 'LeukocyteMeth\\_score'\n",
       "\\item 'CD4\\_mature'\n",
       "\\item 'CD8\\_effector'\n",
       "\\item 'NK\\_cells'\n",
       "\\item 'B\\_cells'\n",
       "\\item 'T\\_regs'\n",
       "\\item 'Dendritics'\n",
       "\\item 'CD8\\_effector\\_NK\\_cells'\n",
       "\\item 'Macrophages'\n",
       "\\item 'Macrophages\\_M2'\n",
       "\\item 'Macrophages\\_M1'\n",
       "\\end{enumerate*}\n"
      ],
      "text/markdown": [
       "1. 'LeukocyteMeth_score'\n",
       "2. 'CD4_mature'\n",
       "3. 'CD8_effector'\n",
       "4. 'NK_cells'\n",
       "5. 'B_cells'\n",
       "6. 'T_regs'\n",
       "7. 'Dendritics'\n",
       "8. 'CD8_effector_NK_cells'\n",
       "9. 'Macrophages'\n",
       "10. 'Macrophages_M2'\n",
       "11. 'Macrophages_M1'\n",
       "\n",
       "\n"
      ],
      "text/plain": [
       " [1] \"LeukocyteMeth_score\"   \"CD4_mature\"            \"CD8_effector\"         \n",
       " [4] \"NK_cells\"              \"B_cells\"               \"T_regs\"               \n",
       " [7] \"Dendritics\"            \"CD8_effector_NK_cells\" \"Macrophages\"          \n",
       "[10] \"Macrophages_M2\"        \"Macrophages_M1\"       "
      ]
     },
     "metadata": {},
     "output_type": "display_data"
    }
   ],
   "source": [
    "colnames(dav_data)"
   ]
  },
  {
   "cell_type": "code",
   "execution_count": 8,
   "metadata": {},
   "outputs": [
    {
     "data": {
      "text/html": [
       "<ol class=list-inline>\n",
       "\t<li>305</li>\n",
       "\t<li>11</li>\n",
       "</ol>\n"
      ],
      "text/latex": [
       "\\begin{enumerate*}\n",
       "\\item 305\n",
       "\\item 11\n",
       "\\end{enumerate*}\n"
      ],
      "text/markdown": [
       "1. 305\n",
       "2. 11\n",
       "\n",
       "\n"
      ],
      "text/plain": [
       "[1] 305  11"
      ]
     },
     "metadata": {},
     "output_type": "display_data"
    }
   ],
   "source": [
    "dim(dav_data)"
   ]
  },
  {
   "cell_type": "markdown",
   "metadata": {},
   "source": [
    "### Danaher"
   ]
  },
  {
   "cell_type": "code",
   "execution_count": 9,
   "metadata": {},
   "outputs": [
    {
     "data": {
      "text/html": [
       "<table>\n",
       "<thead><tr><th></th><th scope=col>LeukocyteMeth_score</th><th scope=col>B.cells</th><th scope=col>CD45</th><th scope=col>CD8.T.cells</th><th scope=col>Cytotoxic.cells</th><th scope=col>DC</th><th scope=col>Exhausted.CD8</th><th scope=col>Macrophages</th><th scope=col>Mast.cells</th><th scope=col>Neutrophils</th><th scope=col>NK.CD56dim.cells</th><th scope=col>NK.cells</th><th scope=col>T.cells</th><th scope=col>Th1.cells</th><th scope=col>Treg</th></tr></thead>\n",
       "<tbody>\n",
       "\t<tr><th scope=row>TCGA.04.1348.01</th><td>0.15094874  </td><td>-0.21377187 </td><td> 0.237833263</td><td> 0.03857399 </td><td>-0.004140244</td><td>-0.1367343  </td><td>-0.06245932 </td><td> 0.2105348  </td><td>-0.3071445  </td><td>-0.1885067  </td><td>-0.2363422  </td><td>-0.2043080  </td><td>-0.04364003 </td><td>-0.1831358  </td><td>-0.02734871 </td></tr>\n",
       "\t<tr><th scope=row>TCGA.04.1357.01</th><td>0.26794368  </td><td>-0.08940436 </td><td> 0.422714769</td><td> 0.23643827 </td><td> 0.072817038</td><td>-0.1475562  </td><td> 0.03239466 </td><td> 0.2311399  </td><td>-0.3179682  </td><td>-0.1602179  </td><td>-0.2190440  </td><td>-0.1668824  </td><td> 0.09784111 </td><td>-0.1087601  </td><td>-0.03158062 </td></tr>\n",
       "\t<tr><th scope=row>TCGA.04.1362.01</th><td>0.08407051  </td><td>-0.34364185 </td><td> 0.006612357</td><td>-0.22610982 </td><td>-0.209049699</td><td>-0.2321549  </td><td>-0.20919985 </td><td> 0.0509568  </td><td>-0.3356827  </td><td>-0.2121856  </td><td>-0.3636091  </td><td>-0.3125212  </td><td>-0.23293336 </td><td>-0.3198265  </td><td>-0.09902666 </td></tr>\n",
       "\t<tr><th scope=row>TCGA.04.1364.01</th><td>0.03346511  </td><td>-0.18934390 </td><td>-0.248201439</td><td>-0.23943913 </td><td>-0.334968312</td><td>-0.2631513  </td><td>-0.31065397 </td><td>-0.1877227  </td><td>-0.3866473  </td><td>-0.3229375  </td><td>-0.4504338  </td><td>-0.2919417  </td><td>-0.31326032 </td><td>-0.5289886  </td><td>-0.21635633 </td></tr>\n",
       "\t<tr><th scope=row>TCGA.04.1365.01</th><td>0.14147110  </td><td>-0.23129310 </td><td> 0.175730004</td><td>-0.02170060 </td><td>-0.037648485</td><td>-0.1806338  </td><td>-0.03781317 </td><td> 0.1635445  </td><td>-0.3390506  </td><td>-0.1458923  </td><td>-0.2582365  </td><td>-0.2590599  </td><td>-0.04973714 </td><td>-0.1999048  </td><td>-0.07844901 </td></tr>\n",
       "\t<tr><th scope=row>TCGA.04.1514.01</th><td>0.03777766  </td><td>-0.28738393 </td><td>-0.206887431</td><td>-0.22293833 </td><td>-0.338726748</td><td>-0.2249112  </td><td>-0.25213861 </td><td>-0.1572274  </td><td>-0.3872197  </td><td>-0.3122133  </td><td>-0.4357587  </td><td>-0.4259567  </td><td>-0.31991352 </td><td>-0.3520419  </td><td>-0.19107067 </td></tr>\n",
       "</tbody>\n",
       "</table>\n"
      ],
      "text/latex": [
       "\\begin{tabular}{r|lllllllllllllll}\n",
       "  & LeukocyteMeth\\_score & B.cells & CD45 & CD8.T.cells & Cytotoxic.cells & DC & Exhausted.CD8 & Macrophages & Mast.cells & Neutrophils & NK.CD56dim.cells & NK.cells & T.cells & Th1.cells & Treg\\\\\n",
       "\\hline\n",
       "\tTCGA.04.1348.01 & 0.15094874   & -0.21377187  &  0.237833263 &  0.03857399  & -0.004140244 & -0.1367343   & -0.06245932  &  0.2105348   & -0.3071445   & -0.1885067   & -0.2363422   & -0.2043080   & -0.04364003  & -0.1831358   & -0.02734871 \\\\\n",
       "\tTCGA.04.1357.01 & 0.26794368   & -0.08940436  &  0.422714769 &  0.23643827  &  0.072817038 & -0.1475562   &  0.03239466  &  0.2311399   & -0.3179682   & -0.1602179   & -0.2190440   & -0.1668824   &  0.09784111  & -0.1087601   & -0.03158062 \\\\\n",
       "\tTCGA.04.1362.01 & 0.08407051   & -0.34364185  &  0.006612357 & -0.22610982  & -0.209049699 & -0.2321549   & -0.20919985  &  0.0509568   & -0.3356827   & -0.2121856   & -0.3636091   & -0.3125212   & -0.23293336  & -0.3198265   & -0.09902666 \\\\\n",
       "\tTCGA.04.1364.01 & 0.03346511   & -0.18934390  & -0.248201439 & -0.23943913  & -0.334968312 & -0.2631513   & -0.31065397  & -0.1877227   & -0.3866473   & -0.3229375   & -0.4504338   & -0.2919417   & -0.31326032  & -0.5289886   & -0.21635633 \\\\\n",
       "\tTCGA.04.1365.01 & 0.14147110   & -0.23129310  &  0.175730004 & -0.02170060  & -0.037648485 & -0.1806338   & -0.03781317  &  0.1635445   & -0.3390506   & -0.1458923   & -0.2582365   & -0.2590599   & -0.04973714  & -0.1999048   & -0.07844901 \\\\\n",
       "\tTCGA.04.1514.01 & 0.03777766   & -0.28738393  & -0.206887431 & -0.22293833  & -0.338726748 & -0.2249112   & -0.25213861  & -0.1572274   & -0.3872197   & -0.3122133   & -0.4357587   & -0.4259567   & -0.31991352  & -0.3520419   & -0.19107067 \\\\\n",
       "\\end{tabular}\n"
      ],
      "text/markdown": [
       "\n",
       "| <!--/--> | LeukocyteMeth_score | B.cells | CD45 | CD8.T.cells | Cytotoxic.cells | DC | Exhausted.CD8 | Macrophages | Mast.cells | Neutrophils | NK.CD56dim.cells | NK.cells | T.cells | Th1.cells | Treg | \n",
       "|---|---|---|---|---|---|\n",
       "| TCGA.04.1348.01 | 0.15094874   | -0.21377187  |  0.237833263 |  0.03857399  | -0.004140244 | -0.1367343   | -0.06245932  |  0.2105348   | -0.3071445   | -0.1885067   | -0.2363422   | -0.2043080   | -0.04364003  | -0.1831358   | -0.02734871  | \n",
       "| TCGA.04.1357.01 | 0.26794368   | -0.08940436  |  0.422714769 |  0.23643827  |  0.072817038 | -0.1475562   |  0.03239466  |  0.2311399   | -0.3179682   | -0.1602179   | -0.2190440   | -0.1668824   |  0.09784111  | -0.1087601   | -0.03158062  | \n",
       "| TCGA.04.1362.01 | 0.08407051   | -0.34364185  |  0.006612357 | -0.22610982  | -0.209049699 | -0.2321549   | -0.20919985  |  0.0509568   | -0.3356827   | -0.2121856   | -0.3636091   | -0.3125212   | -0.23293336  | -0.3198265   | -0.09902666  | \n",
       "| TCGA.04.1364.01 | 0.03346511   | -0.18934390  | -0.248201439 | -0.23943913  | -0.334968312 | -0.2631513   | -0.31065397  | -0.1877227   | -0.3866473   | -0.3229375   | -0.4504338   | -0.2919417   | -0.31326032  | -0.5289886   | -0.21635633  | \n",
       "| TCGA.04.1365.01 | 0.14147110   | -0.23129310  |  0.175730004 | -0.02170060  | -0.037648485 | -0.1806338   | -0.03781317  |  0.1635445   | -0.3390506   | -0.1458923   | -0.2582365   | -0.2590599   | -0.04973714  | -0.1999048   | -0.07844901  | \n",
       "| TCGA.04.1514.01 | 0.03777766   | -0.28738393  | -0.206887431 | -0.22293833  | -0.338726748 | -0.2249112   | -0.25213861  | -0.1572274   | -0.3872197   | -0.3122133   | -0.4357587   | -0.4259567   | -0.31991352  | -0.3520419   | -0.19107067  | \n",
       "\n",
       "\n"
      ],
      "text/plain": [
       "                LeukocyteMeth_score B.cells     CD45         CD8.T.cells\n",
       "TCGA.04.1348.01 0.15094874          -0.21377187  0.237833263  0.03857399\n",
       "TCGA.04.1357.01 0.26794368          -0.08940436  0.422714769  0.23643827\n",
       "TCGA.04.1362.01 0.08407051          -0.34364185  0.006612357 -0.22610982\n",
       "TCGA.04.1364.01 0.03346511          -0.18934390 -0.248201439 -0.23943913\n",
       "TCGA.04.1365.01 0.14147110          -0.23129310  0.175730004 -0.02170060\n",
       "TCGA.04.1514.01 0.03777766          -0.28738393 -0.206887431 -0.22293833\n",
       "                Cytotoxic.cells DC         Exhausted.CD8 Macrophages Mast.cells\n",
       "TCGA.04.1348.01 -0.004140244    -0.1367343 -0.06245932    0.2105348  -0.3071445\n",
       "TCGA.04.1357.01  0.072817038    -0.1475562  0.03239466    0.2311399  -0.3179682\n",
       "TCGA.04.1362.01 -0.209049699    -0.2321549 -0.20919985    0.0509568  -0.3356827\n",
       "TCGA.04.1364.01 -0.334968312    -0.2631513 -0.31065397   -0.1877227  -0.3866473\n",
       "TCGA.04.1365.01 -0.037648485    -0.1806338 -0.03781317    0.1635445  -0.3390506\n",
       "TCGA.04.1514.01 -0.338726748    -0.2249112 -0.25213861   -0.1572274  -0.3872197\n",
       "                Neutrophils NK.CD56dim.cells NK.cells   T.cells     Th1.cells \n",
       "TCGA.04.1348.01 -0.1885067  -0.2363422       -0.2043080 -0.04364003 -0.1831358\n",
       "TCGA.04.1357.01 -0.1602179  -0.2190440       -0.1668824  0.09784111 -0.1087601\n",
       "TCGA.04.1362.01 -0.2121856  -0.3636091       -0.3125212 -0.23293336 -0.3198265\n",
       "TCGA.04.1364.01 -0.3229375  -0.4504338       -0.2919417 -0.31326032 -0.5289886\n",
       "TCGA.04.1365.01 -0.1458923  -0.2582365       -0.2590599 -0.04973714 -0.1999048\n",
       "TCGA.04.1514.01 -0.3122133  -0.4357587       -0.4259567 -0.31991352 -0.3520419\n",
       "                Treg       \n",
       "TCGA.04.1348.01 -0.02734871\n",
       "TCGA.04.1357.01 -0.03158062\n",
       "TCGA.04.1362.01 -0.09902666\n",
       "TCGA.04.1364.01 -0.21635633\n",
       "TCGA.04.1365.01 -0.07844901\n",
       "TCGA.04.1514.01 -0.19107067"
      ]
     },
     "metadata": {},
     "output_type": "display_data"
    }
   ],
   "source": [
    "dan_data <- read.csv('../../Data/3/LeukocyteScore_Danaher_TMEcells.txt',\n",
    "                     sep='\\t',\n",
    "                     header=T,\n",
    "                     row.names='X')\n",
    "\n",
    "head(dan_data)"
   ]
  },
  {
   "cell_type": "code",
   "execution_count": 10,
   "metadata": {},
   "outputs": [
    {
     "data": {
      "text/html": [
       "<ol class=list-inline>\n",
       "\t<li>'LeukocyteMeth_score'</li>\n",
       "\t<li>'B.cells'</li>\n",
       "\t<li>'CD45'</li>\n",
       "\t<li>'CD8.T.cells'</li>\n",
       "\t<li>'Cytotoxic.cells'</li>\n",
       "\t<li>'DC'</li>\n",
       "\t<li>'Exhausted.CD8'</li>\n",
       "\t<li>'Macrophages'</li>\n",
       "\t<li>'Mast.cells'</li>\n",
       "\t<li>'Neutrophils'</li>\n",
       "\t<li>'NK.CD56dim.cells'</li>\n",
       "\t<li>'NK.cells'</li>\n",
       "\t<li>'T.cells'</li>\n",
       "\t<li>'Th1.cells'</li>\n",
       "\t<li>'Treg'</li>\n",
       "</ol>\n"
      ],
      "text/latex": [
       "\\begin{enumerate*}\n",
       "\\item 'LeukocyteMeth\\_score'\n",
       "\\item 'B.cells'\n",
       "\\item 'CD45'\n",
       "\\item 'CD8.T.cells'\n",
       "\\item 'Cytotoxic.cells'\n",
       "\\item 'DC'\n",
       "\\item 'Exhausted.CD8'\n",
       "\\item 'Macrophages'\n",
       "\\item 'Mast.cells'\n",
       "\\item 'Neutrophils'\n",
       "\\item 'NK.CD56dim.cells'\n",
       "\\item 'NK.cells'\n",
       "\\item 'T.cells'\n",
       "\\item 'Th1.cells'\n",
       "\\item 'Treg'\n",
       "\\end{enumerate*}\n"
      ],
      "text/markdown": [
       "1. 'LeukocyteMeth_score'\n",
       "2. 'B.cells'\n",
       "3. 'CD45'\n",
       "4. 'CD8.T.cells'\n",
       "5. 'Cytotoxic.cells'\n",
       "6. 'DC'\n",
       "7. 'Exhausted.CD8'\n",
       "8. 'Macrophages'\n",
       "9. 'Mast.cells'\n",
       "10. 'Neutrophils'\n",
       "11. 'NK.CD56dim.cells'\n",
       "12. 'NK.cells'\n",
       "13. 'T.cells'\n",
       "14. 'Th1.cells'\n",
       "15. 'Treg'\n",
       "\n",
       "\n"
      ],
      "text/plain": [
       " [1] \"LeukocyteMeth_score\" \"B.cells\"             \"CD45\"               \n",
       " [4] \"CD8.T.cells\"         \"Cytotoxic.cells\"     \"DC\"                 \n",
       " [7] \"Exhausted.CD8\"       \"Macrophages\"         \"Mast.cells\"         \n",
       "[10] \"Neutrophils\"         \"NK.CD56dim.cells\"    \"NK.cells\"           \n",
       "[13] \"T.cells\"             \"Th1.cells\"           \"Treg\"               "
      ]
     },
     "metadata": {},
     "output_type": "display_data"
    }
   ],
   "source": [
    "colnames(dan_data)"
   ]
  },
  {
   "cell_type": "code",
   "execution_count": 11,
   "metadata": {},
   "outputs": [
    {
     "data": {
      "text/html": [
       "<ol class=list-inline>\n",
       "\t<li>305</li>\n",
       "\t<li>15</li>\n",
       "</ol>\n"
      ],
      "text/latex": [
       "\\begin{enumerate*}\n",
       "\\item 305\n",
       "\\item 15\n",
       "\\end{enumerate*}\n"
      ],
      "text/markdown": [
       "1. 305\n",
       "2. 15\n",
       "\n",
       "\n"
      ],
      "text/plain": [
       "[1] 305  15"
      ]
     },
     "metadata": {},
     "output_type": "display_data"
    }
   ],
   "source": [
    "dim(dan_data)"
   ]
  },
  {
   "cell_type": "markdown",
   "metadata": {},
   "source": [
    "### ConsensusTME"
   ]
  },
  {
   "cell_type": "code",
   "execution_count": 12,
   "metadata": {},
   "outputs": [
    {
     "data": {
      "text/html": [
       "<table>\n",
       "<thead><tr><th></th><th scope=col>LeukocyteMeth_score</th><th scope=col>B_cells</th><th scope=col>Cytotoxic_cells</th><th scope=col>Dendritic_cells</th><th scope=col>Endothelial</th><th scope=col>Eosinophils</th><th scope=col>Fibroblasts</th><th scope=col>Macrophages</th><th scope=col>Macrophages_M1</th><th scope=col>Macrophages_M2</th><th scope=col>Mast_cells</th><th scope=col>Monocytes</th><th scope=col>NK_cells</th><th scope=col>Neutrophils</th><th scope=col>Plasma_cells</th><th scope=col>T_cells_CD4</th><th scope=col>T_cells_CD8</th><th scope=col>T_cells_gamma_delta</th><th scope=col>T_regulatory_cells</th></tr></thead>\n",
       "<tbody>\n",
       "\t<tr><th scope=row>TCGA.04.1348.01</th><td>0.15094874 </td><td> 0.11609382</td><td> 0.01519822</td><td> 0.17787153</td><td>-0.02197883</td><td> 0.16327315</td><td>-0.02636739</td><td> 0.30835996</td><td> 0.26594722</td><td> 0.26372822</td><td> 0.22779935</td><td> 0.15637171</td><td> 0.04008748</td><td>-0.04270634</td><td>0.3281884  </td><td> 0.08150827</td><td> 0.09753041</td><td> 0.06461224</td><td> 0.1113211 </td></tr>\n",
       "\t<tr><th scope=row>TCGA.04.1357.01</th><td>0.26794368 </td><td> 0.22290548</td><td> 0.14255561</td><td> 0.26478408</td><td> 0.01835045</td><td> 0.25433465</td><td> 0.12083934</td><td> 0.33543100</td><td> 0.32518087</td><td> 0.35331336</td><td> 0.31541603</td><td> 0.23793736</td><td> 0.20089126</td><td> 0.02280329</td><td>0.3925301  </td><td> 0.23510870</td><td> 0.24758509</td><td> 0.21513726</td><td> 0.2640703 </td></tr>\n",
       "\t<tr><th scope=row>TCGA.04.1362.01</th><td>0.08407051 </td><td>-0.05337479</td><td>-0.31383134</td><td>-0.01250251</td><td>-0.10314986</td><td>-0.01236931</td><td>-0.08078278</td><td> 0.14003631</td><td> 0.07572393</td><td> 0.07619906</td><td>-0.02492258</td><td> 0.03764975</td><td>-0.19824721</td><td>-0.15723850</td><td>0.2362371  </td><td>-0.12795204</td><td>-0.12669652</td><td>-0.17325147</td><td>-0.1712345 </td></tr>\n",
       "\t<tr><th scope=row>TCGA.04.1364.01</th><td>0.03346511 </td><td>-0.24205622</td><td>-0.47925724</td><td>-0.24144746</td><td>-0.13300333</td><td>-0.17731889</td><td>-0.10190933</td><td>-0.04109388</td><td>-0.12067643</td><td>-0.09100734</td><td>-0.12599570</td><td>-0.19670629</td><td>-0.39921650</td><td>-0.36128105</td><td>0.1175052  </td><td>-0.29898201</td><td>-0.28334875</td><td>-0.28693058</td><td>-0.3985474 </td></tr>\n",
       "\t<tr><th scope=row>TCGA.04.1365.01</th><td>0.14147110 </td><td> 0.04399216</td><td>-0.05918070</td><td> 0.12695363</td><td>-0.03542567</td><td> 0.13760869</td><td>-0.02378641</td><td> 0.26573980</td><td> 0.24497140</td><td> 0.21709724</td><td> 0.19281831</td><td> 0.12738330</td><td>-0.01475235</td><td>-0.02982533</td><td>0.3333733  </td><td> 0.02708843</td><td> 0.03979512</td><td> 0.03105127</td><td> 0.0398150 </td></tr>\n",
       "\t<tr><th scope=row>TCGA.04.1514.01</th><td>0.03777766 </td><td>-0.22959159</td><td>-0.50135244</td><td>-0.21268284</td><td>-0.03784834</td><td>-0.14256235</td><td> 0.04346422</td><td>-0.05456973</td><td>-0.11654632</td><td>-0.16530375</td><td>-0.25167799</td><td>-0.19286174</td><td>-0.40757855</td><td>-0.33511077</td><td>0.1331253  </td><td>-0.28737986</td><td>-0.27382453</td><td>-0.31684395</td><td>-0.3782873 </td></tr>\n",
       "</tbody>\n",
       "</table>\n"
      ],
      "text/latex": [
       "\\begin{tabular}{r|lllllllllllllllllll}\n",
       "  & LeukocyteMeth\\_score & B\\_cells & Cytotoxic\\_cells & Dendritic\\_cells & Endothelial & Eosinophils & Fibroblasts & Macrophages & Macrophages\\_M1 & Macrophages\\_M2 & Mast\\_cells & Monocytes & NK\\_cells & Neutrophils & Plasma\\_cells & T\\_cells\\_CD4 & T\\_cells\\_CD8 & T\\_cells\\_gamma\\_delta & T\\_regulatory\\_cells\\\\\n",
       "\\hline\n",
       "\tTCGA.04.1348.01 & 0.15094874  &  0.11609382 &  0.01519822 &  0.17787153 & -0.02197883 &  0.16327315 & -0.02636739 &  0.30835996 &  0.26594722 &  0.26372822 &  0.22779935 &  0.15637171 &  0.04008748 & -0.04270634 & 0.3281884   &  0.08150827 &  0.09753041 &  0.06461224 &  0.1113211 \\\\\n",
       "\tTCGA.04.1357.01 & 0.26794368  &  0.22290548 &  0.14255561 &  0.26478408 &  0.01835045 &  0.25433465 &  0.12083934 &  0.33543100 &  0.32518087 &  0.35331336 &  0.31541603 &  0.23793736 &  0.20089126 &  0.02280329 & 0.3925301   &  0.23510870 &  0.24758509 &  0.21513726 &  0.2640703 \\\\\n",
       "\tTCGA.04.1362.01 & 0.08407051  & -0.05337479 & -0.31383134 & -0.01250251 & -0.10314986 & -0.01236931 & -0.08078278 &  0.14003631 &  0.07572393 &  0.07619906 & -0.02492258 &  0.03764975 & -0.19824721 & -0.15723850 & 0.2362371   & -0.12795204 & -0.12669652 & -0.17325147 & -0.1712345 \\\\\n",
       "\tTCGA.04.1364.01 & 0.03346511  & -0.24205622 & -0.47925724 & -0.24144746 & -0.13300333 & -0.17731889 & -0.10190933 & -0.04109388 & -0.12067643 & -0.09100734 & -0.12599570 & -0.19670629 & -0.39921650 & -0.36128105 & 0.1175052   & -0.29898201 & -0.28334875 & -0.28693058 & -0.3985474 \\\\\n",
       "\tTCGA.04.1365.01 & 0.14147110  &  0.04399216 & -0.05918070 &  0.12695363 & -0.03542567 &  0.13760869 & -0.02378641 &  0.26573980 &  0.24497140 &  0.21709724 &  0.19281831 &  0.12738330 & -0.01475235 & -0.02982533 & 0.3333733   &  0.02708843 &  0.03979512 &  0.03105127 &  0.0398150 \\\\\n",
       "\tTCGA.04.1514.01 & 0.03777766  & -0.22959159 & -0.50135244 & -0.21268284 & -0.03784834 & -0.14256235 &  0.04346422 & -0.05456973 & -0.11654632 & -0.16530375 & -0.25167799 & -0.19286174 & -0.40757855 & -0.33511077 & 0.1331253   & -0.28737986 & -0.27382453 & -0.31684395 & -0.3782873 \\\\\n",
       "\\end{tabular}\n"
      ],
      "text/markdown": [
       "\n",
       "| <!--/--> | LeukocyteMeth_score | B_cells | Cytotoxic_cells | Dendritic_cells | Endothelial | Eosinophils | Fibroblasts | Macrophages | Macrophages_M1 | Macrophages_M2 | Mast_cells | Monocytes | NK_cells | Neutrophils | Plasma_cells | T_cells_CD4 | T_cells_CD8 | T_cells_gamma_delta | T_regulatory_cells | \n",
       "|---|---|---|---|---|---|\n",
       "| TCGA.04.1348.01 | 0.15094874  |  0.11609382 |  0.01519822 |  0.17787153 | -0.02197883 |  0.16327315 | -0.02636739 |  0.30835996 |  0.26594722 |  0.26372822 |  0.22779935 |  0.15637171 |  0.04008748 | -0.04270634 | 0.3281884   |  0.08150827 |  0.09753041 |  0.06461224 |  0.1113211  | \n",
       "| TCGA.04.1357.01 | 0.26794368  |  0.22290548 |  0.14255561 |  0.26478408 |  0.01835045 |  0.25433465 |  0.12083934 |  0.33543100 |  0.32518087 |  0.35331336 |  0.31541603 |  0.23793736 |  0.20089126 |  0.02280329 | 0.3925301   |  0.23510870 |  0.24758509 |  0.21513726 |  0.2640703  | \n",
       "| TCGA.04.1362.01 | 0.08407051  | -0.05337479 | -0.31383134 | -0.01250251 | -0.10314986 | -0.01236931 | -0.08078278 |  0.14003631 |  0.07572393 |  0.07619906 | -0.02492258 |  0.03764975 | -0.19824721 | -0.15723850 | 0.2362371   | -0.12795204 | -0.12669652 | -0.17325147 | -0.1712345  | \n",
       "| TCGA.04.1364.01 | 0.03346511  | -0.24205622 | -0.47925724 | -0.24144746 | -0.13300333 | -0.17731889 | -0.10190933 | -0.04109388 | -0.12067643 | -0.09100734 | -0.12599570 | -0.19670629 | -0.39921650 | -0.36128105 | 0.1175052   | -0.29898201 | -0.28334875 | -0.28693058 | -0.3985474  | \n",
       "| TCGA.04.1365.01 | 0.14147110  |  0.04399216 | -0.05918070 |  0.12695363 | -0.03542567 |  0.13760869 | -0.02378641 |  0.26573980 |  0.24497140 |  0.21709724 |  0.19281831 |  0.12738330 | -0.01475235 | -0.02982533 | 0.3333733   |  0.02708843 |  0.03979512 |  0.03105127 |  0.0398150  | \n",
       "| TCGA.04.1514.01 | 0.03777766  | -0.22959159 | -0.50135244 | -0.21268284 | -0.03784834 | -0.14256235 |  0.04346422 | -0.05456973 | -0.11654632 | -0.16530375 | -0.25167799 | -0.19286174 | -0.40757855 | -0.33511077 | 0.1331253   | -0.28737986 | -0.27382453 | -0.31684395 | -0.3782873  | \n",
       "\n",
       "\n"
      ],
      "text/plain": [
       "                LeukocyteMeth_score B_cells     Cytotoxic_cells Dendritic_cells\n",
       "TCGA.04.1348.01 0.15094874           0.11609382  0.01519822      0.17787153    \n",
       "TCGA.04.1357.01 0.26794368           0.22290548  0.14255561      0.26478408    \n",
       "TCGA.04.1362.01 0.08407051          -0.05337479 -0.31383134     -0.01250251    \n",
       "TCGA.04.1364.01 0.03346511          -0.24205622 -0.47925724     -0.24144746    \n",
       "TCGA.04.1365.01 0.14147110           0.04399216 -0.05918070      0.12695363    \n",
       "TCGA.04.1514.01 0.03777766          -0.22959159 -0.50135244     -0.21268284    \n",
       "                Endothelial Eosinophils Fibroblasts Macrophages Macrophages_M1\n",
       "TCGA.04.1348.01 -0.02197883  0.16327315 -0.02636739  0.30835996  0.26594722   \n",
       "TCGA.04.1357.01  0.01835045  0.25433465  0.12083934  0.33543100  0.32518087   \n",
       "TCGA.04.1362.01 -0.10314986 -0.01236931 -0.08078278  0.14003631  0.07572393   \n",
       "TCGA.04.1364.01 -0.13300333 -0.17731889 -0.10190933 -0.04109388 -0.12067643   \n",
       "TCGA.04.1365.01 -0.03542567  0.13760869 -0.02378641  0.26573980  0.24497140   \n",
       "TCGA.04.1514.01 -0.03784834 -0.14256235  0.04346422 -0.05456973 -0.11654632   \n",
       "                Macrophages_M2 Mast_cells  Monocytes   NK_cells    Neutrophils\n",
       "TCGA.04.1348.01  0.26372822     0.22779935  0.15637171  0.04008748 -0.04270634\n",
       "TCGA.04.1357.01  0.35331336     0.31541603  0.23793736  0.20089126  0.02280329\n",
       "TCGA.04.1362.01  0.07619906    -0.02492258  0.03764975 -0.19824721 -0.15723850\n",
       "TCGA.04.1364.01 -0.09100734    -0.12599570 -0.19670629 -0.39921650 -0.36128105\n",
       "TCGA.04.1365.01  0.21709724     0.19281831  0.12738330 -0.01475235 -0.02982533\n",
       "TCGA.04.1514.01 -0.16530375    -0.25167799 -0.19286174 -0.40757855 -0.33511077\n",
       "                Plasma_cells T_cells_CD4 T_cells_CD8 T_cells_gamma_delta\n",
       "TCGA.04.1348.01 0.3281884     0.08150827  0.09753041  0.06461224        \n",
       "TCGA.04.1357.01 0.3925301     0.23510870  0.24758509  0.21513726        \n",
       "TCGA.04.1362.01 0.2362371    -0.12795204 -0.12669652 -0.17325147        \n",
       "TCGA.04.1364.01 0.1175052    -0.29898201 -0.28334875 -0.28693058        \n",
       "TCGA.04.1365.01 0.3333733     0.02708843  0.03979512  0.03105127        \n",
       "TCGA.04.1514.01 0.1331253    -0.28737986 -0.27382453 -0.31684395        \n",
       "                T_regulatory_cells\n",
       "TCGA.04.1348.01  0.1113211        \n",
       "TCGA.04.1357.01  0.2640703        \n",
       "TCGA.04.1362.01 -0.1712345        \n",
       "TCGA.04.1364.01 -0.3985474        \n",
       "TCGA.04.1365.01  0.0398150        \n",
       "TCGA.04.1514.01 -0.3782873        "
      ]
     },
     "metadata": {},
     "output_type": "display_data"
    }
   ],
   "source": [
    "con_data <- read.csv('../../Data/3/LeukocyteScore_ConsensusTME_TMEcells.txt',\n",
    "                     sep='\\t',\n",
    "                     header=T,\n",
    "                     row.names='X')\n",
    "\n",
    "head(con_data)"
   ]
  },
  {
   "cell_type": "code",
   "execution_count": 13,
   "metadata": {},
   "outputs": [
    {
     "data": {
      "text/html": [
       "<ol class=list-inline>\n",
       "\t<li>'LeukocyteMeth_score'</li>\n",
       "\t<li>'B_cells'</li>\n",
       "\t<li>'Cytotoxic_cells'</li>\n",
       "\t<li>'Dendritic_cells'</li>\n",
       "\t<li>'Endothelial'</li>\n",
       "\t<li>'Eosinophils'</li>\n",
       "\t<li>'Fibroblasts'</li>\n",
       "\t<li>'Macrophages'</li>\n",
       "\t<li>'Macrophages_M1'</li>\n",
       "\t<li>'Macrophages_M2'</li>\n",
       "\t<li>'Mast_cells'</li>\n",
       "\t<li>'Monocytes'</li>\n",
       "\t<li>'NK_cells'</li>\n",
       "\t<li>'Neutrophils'</li>\n",
       "\t<li>'Plasma_cells'</li>\n",
       "\t<li>'T_cells_CD4'</li>\n",
       "\t<li>'T_cells_CD8'</li>\n",
       "\t<li>'T_cells_gamma_delta'</li>\n",
       "\t<li>'T_regulatory_cells'</li>\n",
       "</ol>\n"
      ],
      "text/latex": [
       "\\begin{enumerate*}\n",
       "\\item 'LeukocyteMeth\\_score'\n",
       "\\item 'B\\_cells'\n",
       "\\item 'Cytotoxic\\_cells'\n",
       "\\item 'Dendritic\\_cells'\n",
       "\\item 'Endothelial'\n",
       "\\item 'Eosinophils'\n",
       "\\item 'Fibroblasts'\n",
       "\\item 'Macrophages'\n",
       "\\item 'Macrophages\\_M1'\n",
       "\\item 'Macrophages\\_M2'\n",
       "\\item 'Mast\\_cells'\n",
       "\\item 'Monocytes'\n",
       "\\item 'NK\\_cells'\n",
       "\\item 'Neutrophils'\n",
       "\\item 'Plasma\\_cells'\n",
       "\\item 'T\\_cells\\_CD4'\n",
       "\\item 'T\\_cells\\_CD8'\n",
       "\\item 'T\\_cells\\_gamma\\_delta'\n",
       "\\item 'T\\_regulatory\\_cells'\n",
       "\\end{enumerate*}\n"
      ],
      "text/markdown": [
       "1. 'LeukocyteMeth_score'\n",
       "2. 'B_cells'\n",
       "3. 'Cytotoxic_cells'\n",
       "4. 'Dendritic_cells'\n",
       "5. 'Endothelial'\n",
       "6. 'Eosinophils'\n",
       "7. 'Fibroblasts'\n",
       "8. 'Macrophages'\n",
       "9. 'Macrophages_M1'\n",
       "10. 'Macrophages_M2'\n",
       "11. 'Mast_cells'\n",
       "12. 'Monocytes'\n",
       "13. 'NK_cells'\n",
       "14. 'Neutrophils'\n",
       "15. 'Plasma_cells'\n",
       "16. 'T_cells_CD4'\n",
       "17. 'T_cells_CD8'\n",
       "18. 'T_cells_gamma_delta'\n",
       "19. 'T_regulatory_cells'\n",
       "\n",
       "\n"
      ],
      "text/plain": [
       " [1] \"LeukocyteMeth_score\" \"B_cells\"             \"Cytotoxic_cells\"    \n",
       " [4] \"Dendritic_cells\"     \"Endothelial\"         \"Eosinophils\"        \n",
       " [7] \"Fibroblasts\"         \"Macrophages\"         \"Macrophages_M1\"     \n",
       "[10] \"Macrophages_M2\"      \"Mast_cells\"          \"Monocytes\"          \n",
       "[13] \"NK_cells\"            \"Neutrophils\"         \"Plasma_cells\"       \n",
       "[16] \"T_cells_CD4\"         \"T_cells_CD8\"         \"T_cells_gamma_delta\"\n",
       "[19] \"T_regulatory_cells\" "
      ]
     },
     "metadata": {},
     "output_type": "display_data"
    }
   ],
   "source": [
    "colnames(con_data)"
   ]
  },
  {
   "cell_type": "markdown",
   "metadata": {},
   "source": [
    "#### Remove non-leukocyte cells\n",
    "<p> \n",
    "Our response variable is leukocyte methylation data, so any non-relevant predictor variables (i.e. cells other than leukocytes) are excluded from the analysis.\n",
    "</p>"
   ]
  },
  {
   "cell_type": "code",
   "execution_count": 14,
   "metadata": {},
   "outputs": [
    {
     "data": {
      "text/html": [
       "<ol class=list-inline>\n",
       "\t<li>'LeukocyteMeth_score'</li>\n",
       "\t<li>'B_cells'</li>\n",
       "\t<li>'Cytotoxic_cells'</li>\n",
       "\t<li>'Dendritic_cells'</li>\n",
       "\t<li>'Endothelial'</li>\n",
       "\t<li>'Eosinophils'</li>\n",
       "\t<li>'Fibroblasts'</li>\n",
       "\t<li>'Macrophages'</li>\n",
       "\t<li>'Macrophages_M1'</li>\n",
       "\t<li>'Macrophages_M2'</li>\n",
       "\t<li>'Mast_cells'</li>\n",
       "\t<li>'Monocytes'</li>\n",
       "\t<li>'NK_cells'</li>\n",
       "\t<li>'Neutrophils'</li>\n",
       "\t<li>'Plasma_cells'</li>\n",
       "\t<li>'T_cells_CD4'</li>\n",
       "\t<li>'T_cells_CD8'</li>\n",
       "\t<li>'T_cells_gamma_delta'</li>\n",
       "\t<li>'T_regulatory_cells'</li>\n",
       "</ol>\n"
      ],
      "text/latex": [
       "\\begin{enumerate*}\n",
       "\\item 'LeukocyteMeth\\_score'\n",
       "\\item 'B\\_cells'\n",
       "\\item 'Cytotoxic\\_cells'\n",
       "\\item 'Dendritic\\_cells'\n",
       "\\item 'Endothelial'\n",
       "\\item 'Eosinophils'\n",
       "\\item 'Fibroblasts'\n",
       "\\item 'Macrophages'\n",
       "\\item 'Macrophages\\_M1'\n",
       "\\item 'Macrophages\\_M2'\n",
       "\\item 'Mast\\_cells'\n",
       "\\item 'Monocytes'\n",
       "\\item 'NK\\_cells'\n",
       "\\item 'Neutrophils'\n",
       "\\item 'Plasma\\_cells'\n",
       "\\item 'T\\_cells\\_CD4'\n",
       "\\item 'T\\_cells\\_CD8'\n",
       "\\item 'T\\_cells\\_gamma\\_delta'\n",
       "\\item 'T\\_regulatory\\_cells'\n",
       "\\end{enumerate*}\n"
      ],
      "text/markdown": [
       "1. 'LeukocyteMeth_score'\n",
       "2. 'B_cells'\n",
       "3. 'Cytotoxic_cells'\n",
       "4. 'Dendritic_cells'\n",
       "5. 'Endothelial'\n",
       "6. 'Eosinophils'\n",
       "7. 'Fibroblasts'\n",
       "8. 'Macrophages'\n",
       "9. 'Macrophages_M1'\n",
       "10. 'Macrophages_M2'\n",
       "11. 'Mast_cells'\n",
       "12. 'Monocytes'\n",
       "13. 'NK_cells'\n",
       "14. 'Neutrophils'\n",
       "15. 'Plasma_cells'\n",
       "16. 'T_cells_CD4'\n",
       "17. 'T_cells_CD8'\n",
       "18. 'T_cells_gamma_delta'\n",
       "19. 'T_regulatory_cells'\n",
       "\n",
       "\n"
      ],
      "text/plain": [
       " [1] \"LeukocyteMeth_score\" \"B_cells\"             \"Cytotoxic_cells\"    \n",
       " [4] \"Dendritic_cells\"     \"Endothelial\"         \"Eosinophils\"        \n",
       " [7] \"Fibroblasts\"         \"Macrophages\"         \"Macrophages_M1\"     \n",
       "[10] \"Macrophages_M2\"      \"Mast_cells\"          \"Monocytes\"          \n",
       "[13] \"NK_cells\"            \"Neutrophils\"         \"Plasma_cells\"       \n",
       "[16] \"T_cells_CD4\"         \"T_cells_CD8\"         \"T_cells_gamma_delta\"\n",
       "[19] \"T_regulatory_cells\" "
      ]
     },
     "metadata": {},
     "output_type": "display_data"
    }
   ],
   "source": [
    "drops <- c('endothelial','fibroblasts')\n",
    "con_data <- con_data[ , !(names(con_data) %in% drops)]\n",
    "\n",
    "colnames(con_data)"
   ]
  },
  {
   "cell_type": "code",
   "execution_count": 15,
   "metadata": {},
   "outputs": [
    {
     "data": {
      "text/html": [
       "<ol class=list-inline>\n",
       "\t<li>305</li>\n",
       "\t<li>19</li>\n",
       "</ol>\n"
      ],
      "text/latex": [
       "\\begin{enumerate*}\n",
       "\\item 305\n",
       "\\item 19\n",
       "\\end{enumerate*}\n"
      ],
      "text/markdown": [
       "1. 305\n",
       "2. 19\n",
       "\n",
       "\n"
      ],
      "text/plain": [
       "[1] 305  19"
      ]
     },
     "metadata": {},
     "output_type": "display_data"
    }
   ],
   "source": [
    "dim(con_data)"
   ]
  },
  {
   "cell_type": "markdown",
   "metadata": {},
   "source": [
    "### CIBERSORT"
   ]
  },
  {
   "cell_type": "code",
   "execution_count": 16,
   "metadata": {},
   "outputs": [
    {
     "data": {
      "text/html": [
       "<table>\n",
       "<thead><tr><th></th><th scope=col>LeukocyteMeth_score</th><th scope=col>B.cells.naive</th><th scope=col>B.cells.memory</th><th scope=col>Plasma.cells</th><th scope=col>T.cells.CD8</th><th scope=col>T.cells.CD4.naive</th><th scope=col>T.cells.CD4.memory.resting</th><th scope=col>T.cells.CD4.memory.activated</th><th scope=col>T.cells.follicular.helper</th><th scope=col>T.cells.regulatory..Tregs.</th><th scope=col>⋯</th><th scope=col>Monocytes</th><th scope=col>Macrophages.M0</th><th scope=col>Macrophages.M1</th><th scope=col>Macrophages.M2</th><th scope=col>Dendritic.cells.resting</th><th scope=col>Dendritic.cells.activated</th><th scope=col>Mast.cells.resting</th><th scope=col>Mast.cells.activated</th><th scope=col>Eosinophils</th><th scope=col>Neutrophils</th></tr></thead>\n",
       "<tbody>\n",
       "\t<tr><th scope=row>TCGA.04.1348.01</th><td>0.15094874  </td><td>0.000795189 </td><td>0.0008304125</td><td>0.000000e+00</td><td>0.02586837  </td><td>0           </td><td>0.038002807 </td><td>0           </td><td>0.043519385 </td><td>0.026831901 </td><td>⋯           </td><td>0.005155625 </td><td>0.10498343  </td><td>0.02423711  </td><td>0.062197526 </td><td>0.000000000 </td><td>0.00000000  </td><td>0.000000e+00</td><td>0.014233638 </td><td>0.000000000 </td><td>0.000000000 </td></tr>\n",
       "\t<tr><th scope=row>TCGA.04.1357.01</th><td>0.26794368  </td><td>0.015474451 </td><td>0.0000000000</td><td>0.000000e+00</td><td>0.08310068  </td><td>0           </td><td>0.120940104 </td><td>0           </td><td>0.053591895 </td><td>0.052899699 </td><td>⋯           </td><td>0.006448388 </td><td>0.05762259  </td><td>0.06234337  </td><td>0.124706843 </td><td>0.001035095 </td><td>0.00000000  </td><td>1.460025e-02</td><td>0.000000000 </td><td>0.000000000 </td><td>0.000000000 </td></tr>\n",
       "\t<tr><th scope=row>TCGA.04.1362.01</th><td>0.08407051  </td><td>0.008684441 </td><td>0.0000000000</td><td>5.751311e-05</td><td>0.00000000  </td><td>0           </td><td>0.049975061 </td><td>0           </td><td>0.010517768 </td><td>0.000000000 </td><td>⋯           </td><td>0.016485859 </td><td>0.00000000  </td><td>0.00450224  </td><td>0.058744928 </td><td>0.000000000 </td><td>0.01751784  </td><td>0.000000e+00</td><td>0.001998067 </td><td>0.000000000 </td><td>0.000000000 </td></tr>\n",
       "\t<tr><th scope=row>TCGA.04.1364.01</th><td>0.03346511  </td><td>0.018039723 </td><td>0.0000000000</td><td>1.023013e-03</td><td>0.00000000  </td><td>0           </td><td>0.004297134 </td><td>0           </td><td>0.001651301 </td><td>0.002840003 </td><td>⋯           </td><td>0.000000000 </td><td>0.01707628  </td><td>0.00000000  </td><td>0.005596468 </td><td>0.000000000 </td><td>0.00000000  </td><td>4.552176e-05</td><td>0.000000000 </td><td>0.000000000 </td><td>0.000000000 </td></tr>\n",
       "\t<tr><th scope=row>TCGA.04.1365.01</th><td>0.14147110  </td><td>0.001747266 </td><td>0.0002290281</td><td>0.000000e+00</td><td>0.00000000  </td><td>0           </td><td>0.072325307 </td><td>0           </td><td>0.048944230 </td><td>0.020026142 </td><td>⋯           </td><td>0.003811225 </td><td>0.08054884  </td><td>0.05469904  </td><td>0.034942770 </td><td>0.000000000 </td><td>0.00000000  </td><td>2.676272e-03</td><td>0.000000000 </td><td>0.000000000 </td><td>0.000605261 </td></tr>\n",
       "\t<tr><th scope=row>TCGA.04.1514.01</th><td>0.03777766  </td><td>0.000000000 </td><td>0.0000000000</td><td>0.000000e+00</td><td>0.00000000  </td><td>0           </td><td>0.018580530 </td><td>0           </td><td>0.016439241 </td><td>0.005836911 </td><td>⋯           </td><td>0.007142607 </td><td>0.01378685  </td><td>0.00000000  </td><td>0.000000000 </td><td>0.000000000 </td><td>0.00000000  </td><td>0.000000e+00</td><td>0.000000000 </td><td>0.003241758 </td><td>0.000000000 </td></tr>\n",
       "</tbody>\n",
       "</table>\n"
      ],
      "text/latex": [
       "\\begin{tabular}{r|lllllllllllllllllllllll}\n",
       "  & LeukocyteMeth\\_score & B.cells.naive & B.cells.memory & Plasma.cells & T.cells.CD8 & T.cells.CD4.naive & T.cells.CD4.memory.resting & T.cells.CD4.memory.activated & T.cells.follicular.helper & T.cells.regulatory..Tregs. & ⋯ & Monocytes & Macrophages.M0 & Macrophages.M1 & Macrophages.M2 & Dendritic.cells.resting & Dendritic.cells.activated & Mast.cells.resting & Mast.cells.activated & Eosinophils & Neutrophils\\\\\n",
       "\\hline\n",
       "\tTCGA.04.1348.01 & 0.15094874   & 0.000795189  & 0.0008304125 & 0.000000e+00 & 0.02586837   & 0            & 0.038002807  & 0            & 0.043519385  & 0.026831901  & ⋯            & 0.005155625  & 0.10498343   & 0.02423711   & 0.062197526  & 0.000000000  & 0.00000000   & 0.000000e+00 & 0.014233638  & 0.000000000  & 0.000000000 \\\\\n",
       "\tTCGA.04.1357.01 & 0.26794368   & 0.015474451  & 0.0000000000 & 0.000000e+00 & 0.08310068   & 0            & 0.120940104  & 0            & 0.053591895  & 0.052899699  & ⋯            & 0.006448388  & 0.05762259   & 0.06234337   & 0.124706843  & 0.001035095  & 0.00000000   & 1.460025e-02 & 0.000000000  & 0.000000000  & 0.000000000 \\\\\n",
       "\tTCGA.04.1362.01 & 0.08407051   & 0.008684441  & 0.0000000000 & 5.751311e-05 & 0.00000000   & 0            & 0.049975061  & 0            & 0.010517768  & 0.000000000  & ⋯            & 0.016485859  & 0.00000000   & 0.00450224   & 0.058744928  & 0.000000000  & 0.01751784   & 0.000000e+00 & 0.001998067  & 0.000000000  & 0.000000000 \\\\\n",
       "\tTCGA.04.1364.01 & 0.03346511   & 0.018039723  & 0.0000000000 & 1.023013e-03 & 0.00000000   & 0            & 0.004297134  & 0            & 0.001651301  & 0.002840003  & ⋯            & 0.000000000  & 0.01707628   & 0.00000000   & 0.005596468  & 0.000000000  & 0.00000000   & 4.552176e-05 & 0.000000000  & 0.000000000  & 0.000000000 \\\\\n",
       "\tTCGA.04.1365.01 & 0.14147110   & 0.001747266  & 0.0002290281 & 0.000000e+00 & 0.00000000   & 0            & 0.072325307  & 0            & 0.048944230  & 0.020026142  & ⋯            & 0.003811225  & 0.08054884   & 0.05469904   & 0.034942770  & 0.000000000  & 0.00000000   & 2.676272e-03 & 0.000000000  & 0.000000000  & 0.000605261 \\\\\n",
       "\tTCGA.04.1514.01 & 0.03777766   & 0.000000000  & 0.0000000000 & 0.000000e+00 & 0.00000000   & 0            & 0.018580530  & 0            & 0.016439241  & 0.005836911  & ⋯            & 0.007142607  & 0.01378685   & 0.00000000   & 0.000000000  & 0.000000000  & 0.00000000   & 0.000000e+00 & 0.000000000  & 0.003241758  & 0.000000000 \\\\\n",
       "\\end{tabular}\n"
      ],
      "text/markdown": [
       "\n",
       "| <!--/--> | LeukocyteMeth_score | B.cells.naive | B.cells.memory | Plasma.cells | T.cells.CD8 | T.cells.CD4.naive | T.cells.CD4.memory.resting | T.cells.CD4.memory.activated | T.cells.follicular.helper | T.cells.regulatory..Tregs. | ⋯ | Monocytes | Macrophages.M0 | Macrophages.M1 | Macrophages.M2 | Dendritic.cells.resting | Dendritic.cells.activated | Mast.cells.resting | Mast.cells.activated | Eosinophils | Neutrophils | \n",
       "|---|---|---|---|---|---|\n",
       "| TCGA.04.1348.01 | 0.15094874   | 0.000795189  | 0.0008304125 | 0.000000e+00 | 0.02586837   | 0            | 0.038002807  | 0            | 0.043519385  | 0.026831901  | ⋯            | 0.005155625  | 0.10498343   | 0.02423711   | 0.062197526  | 0.000000000  | 0.00000000   | 0.000000e+00 | 0.014233638  | 0.000000000  | 0.000000000  | \n",
       "| TCGA.04.1357.01 | 0.26794368   | 0.015474451  | 0.0000000000 | 0.000000e+00 | 0.08310068   | 0            | 0.120940104  | 0            | 0.053591895  | 0.052899699  | ⋯            | 0.006448388  | 0.05762259   | 0.06234337   | 0.124706843  | 0.001035095  | 0.00000000   | 1.460025e-02 | 0.000000000  | 0.000000000  | 0.000000000  | \n",
       "| TCGA.04.1362.01 | 0.08407051   | 0.008684441  | 0.0000000000 | 5.751311e-05 | 0.00000000   | 0            | 0.049975061  | 0            | 0.010517768  | 0.000000000  | ⋯            | 0.016485859  | 0.00000000   | 0.00450224   | 0.058744928  | 0.000000000  | 0.01751784   | 0.000000e+00 | 0.001998067  | 0.000000000  | 0.000000000  | \n",
       "| TCGA.04.1364.01 | 0.03346511   | 0.018039723  | 0.0000000000 | 1.023013e-03 | 0.00000000   | 0            | 0.004297134  | 0            | 0.001651301  | 0.002840003  | ⋯            | 0.000000000  | 0.01707628   | 0.00000000   | 0.005596468  | 0.000000000  | 0.00000000   | 4.552176e-05 | 0.000000000  | 0.000000000  | 0.000000000  | \n",
       "| TCGA.04.1365.01 | 0.14147110   | 0.001747266  | 0.0002290281 | 0.000000e+00 | 0.00000000   | 0            | 0.072325307  | 0            | 0.048944230  | 0.020026142  | ⋯            | 0.003811225  | 0.08054884   | 0.05469904   | 0.034942770  | 0.000000000  | 0.00000000   | 2.676272e-03 | 0.000000000  | 0.000000000  | 0.000605261  | \n",
       "| TCGA.04.1514.01 | 0.03777766   | 0.000000000  | 0.0000000000 | 0.000000e+00 | 0.00000000   | 0            | 0.018580530  | 0            | 0.016439241  | 0.005836911  | ⋯            | 0.007142607  | 0.01378685   | 0.00000000   | 0.000000000  | 0.000000000  | 0.00000000   | 0.000000e+00 | 0.000000000  | 0.003241758  | 0.000000000  | \n",
       "\n",
       "\n"
      ],
      "text/plain": [
       "                LeukocyteMeth_score B.cells.naive B.cells.memory Plasma.cells\n",
       "TCGA.04.1348.01 0.15094874          0.000795189   0.0008304125   0.000000e+00\n",
       "TCGA.04.1357.01 0.26794368          0.015474451   0.0000000000   0.000000e+00\n",
       "TCGA.04.1362.01 0.08407051          0.008684441   0.0000000000   5.751311e-05\n",
       "TCGA.04.1364.01 0.03346511          0.018039723   0.0000000000   1.023013e-03\n",
       "TCGA.04.1365.01 0.14147110          0.001747266   0.0002290281   0.000000e+00\n",
       "TCGA.04.1514.01 0.03777766          0.000000000   0.0000000000   0.000000e+00\n",
       "                T.cells.CD8 T.cells.CD4.naive T.cells.CD4.memory.resting\n",
       "TCGA.04.1348.01 0.02586837  0                 0.038002807               \n",
       "TCGA.04.1357.01 0.08310068  0                 0.120940104               \n",
       "TCGA.04.1362.01 0.00000000  0                 0.049975061               \n",
       "TCGA.04.1364.01 0.00000000  0                 0.004297134               \n",
       "TCGA.04.1365.01 0.00000000  0                 0.072325307               \n",
       "TCGA.04.1514.01 0.00000000  0                 0.018580530               \n",
       "                T.cells.CD4.memory.activated T.cells.follicular.helper\n",
       "TCGA.04.1348.01 0                            0.043519385              \n",
       "TCGA.04.1357.01 0                            0.053591895              \n",
       "TCGA.04.1362.01 0                            0.010517768              \n",
       "TCGA.04.1364.01 0                            0.001651301              \n",
       "TCGA.04.1365.01 0                            0.048944230              \n",
       "TCGA.04.1514.01 0                            0.016439241              \n",
       "                T.cells.regulatory..Tregs. ⋯ Monocytes   Macrophages.M0\n",
       "TCGA.04.1348.01 0.026831901                ⋯ 0.005155625 0.10498343    \n",
       "TCGA.04.1357.01 0.052899699                ⋯ 0.006448388 0.05762259    \n",
       "TCGA.04.1362.01 0.000000000                ⋯ 0.016485859 0.00000000    \n",
       "TCGA.04.1364.01 0.002840003                ⋯ 0.000000000 0.01707628    \n",
       "TCGA.04.1365.01 0.020026142                ⋯ 0.003811225 0.08054884    \n",
       "TCGA.04.1514.01 0.005836911                ⋯ 0.007142607 0.01378685    \n",
       "                Macrophages.M1 Macrophages.M2 Dendritic.cells.resting\n",
       "TCGA.04.1348.01 0.02423711     0.062197526    0.000000000            \n",
       "TCGA.04.1357.01 0.06234337     0.124706843    0.001035095            \n",
       "TCGA.04.1362.01 0.00450224     0.058744928    0.000000000            \n",
       "TCGA.04.1364.01 0.00000000     0.005596468    0.000000000            \n",
       "TCGA.04.1365.01 0.05469904     0.034942770    0.000000000            \n",
       "TCGA.04.1514.01 0.00000000     0.000000000    0.000000000            \n",
       "                Dendritic.cells.activated Mast.cells.resting\n",
       "TCGA.04.1348.01 0.00000000                0.000000e+00      \n",
       "TCGA.04.1357.01 0.00000000                1.460025e-02      \n",
       "TCGA.04.1362.01 0.01751784                0.000000e+00      \n",
       "TCGA.04.1364.01 0.00000000                4.552176e-05      \n",
       "TCGA.04.1365.01 0.00000000                2.676272e-03      \n",
       "TCGA.04.1514.01 0.00000000                0.000000e+00      \n",
       "                Mast.cells.activated Eosinophils Neutrophils\n",
       "TCGA.04.1348.01 0.014233638          0.000000000 0.000000000\n",
       "TCGA.04.1357.01 0.000000000          0.000000000 0.000000000\n",
       "TCGA.04.1362.01 0.001998067          0.000000000 0.000000000\n",
       "TCGA.04.1364.01 0.000000000          0.000000000 0.000000000\n",
       "TCGA.04.1365.01 0.000000000          0.000000000 0.000605261\n",
       "TCGA.04.1514.01 0.000000000          0.003241758 0.000000000"
      ]
     },
     "metadata": {},
     "output_type": "display_data"
    }
   ],
   "source": [
    "cib_data <- read.csv('../../Data/3/LeukocyteScore_cibersort_TMEcells.txt',\n",
    "                     sep='\\t',\n",
    "                     header=T,\n",
    "                     row.names='X')\n",
    "\n",
    "head(cib_data)"
   ]
  },
  {
   "cell_type": "code",
   "execution_count": 17,
   "metadata": {},
   "outputs": [
    {
     "data": {
      "text/html": [
       "<ol class=list-inline>\n",
       "\t<li>'LeukocyteMeth_score'</li>\n",
       "\t<li>'B.cells.naive'</li>\n",
       "\t<li>'B.cells.memory'</li>\n",
       "\t<li>'Plasma.cells'</li>\n",
       "\t<li>'T.cells.CD8'</li>\n",
       "\t<li>'T.cells.CD4.naive'</li>\n",
       "\t<li>'T.cells.CD4.memory.resting'</li>\n",
       "\t<li>'T.cells.CD4.memory.activated'</li>\n",
       "\t<li>'T.cells.follicular.helper'</li>\n",
       "\t<li>'T.cells.regulatory..Tregs.'</li>\n",
       "\t<li>'T.cells.gamma.delta'</li>\n",
       "\t<li>'NK.cells.resting'</li>\n",
       "\t<li>'NK.cells.activated'</li>\n",
       "\t<li>'Monocytes'</li>\n",
       "\t<li>'Macrophages.M0'</li>\n",
       "\t<li>'Macrophages.M1'</li>\n",
       "\t<li>'Macrophages.M2'</li>\n",
       "\t<li>'Dendritic.cells.resting'</li>\n",
       "\t<li>'Dendritic.cells.activated'</li>\n",
       "\t<li>'Mast.cells.resting'</li>\n",
       "\t<li>'Mast.cells.activated'</li>\n",
       "\t<li>'Eosinophils'</li>\n",
       "\t<li>'Neutrophils'</li>\n",
       "</ol>\n"
      ],
      "text/latex": [
       "\\begin{enumerate*}\n",
       "\\item 'LeukocyteMeth\\_score'\n",
       "\\item 'B.cells.naive'\n",
       "\\item 'B.cells.memory'\n",
       "\\item 'Plasma.cells'\n",
       "\\item 'T.cells.CD8'\n",
       "\\item 'T.cells.CD4.naive'\n",
       "\\item 'T.cells.CD4.memory.resting'\n",
       "\\item 'T.cells.CD4.memory.activated'\n",
       "\\item 'T.cells.follicular.helper'\n",
       "\\item 'T.cells.regulatory..Tregs.'\n",
       "\\item 'T.cells.gamma.delta'\n",
       "\\item 'NK.cells.resting'\n",
       "\\item 'NK.cells.activated'\n",
       "\\item 'Monocytes'\n",
       "\\item 'Macrophages.M0'\n",
       "\\item 'Macrophages.M1'\n",
       "\\item 'Macrophages.M2'\n",
       "\\item 'Dendritic.cells.resting'\n",
       "\\item 'Dendritic.cells.activated'\n",
       "\\item 'Mast.cells.resting'\n",
       "\\item 'Mast.cells.activated'\n",
       "\\item 'Eosinophils'\n",
       "\\item 'Neutrophils'\n",
       "\\end{enumerate*}\n"
      ],
      "text/markdown": [
       "1. 'LeukocyteMeth_score'\n",
       "2. 'B.cells.naive'\n",
       "3. 'B.cells.memory'\n",
       "4. 'Plasma.cells'\n",
       "5. 'T.cells.CD8'\n",
       "6. 'T.cells.CD4.naive'\n",
       "7. 'T.cells.CD4.memory.resting'\n",
       "8. 'T.cells.CD4.memory.activated'\n",
       "9. 'T.cells.follicular.helper'\n",
       "10. 'T.cells.regulatory..Tregs.'\n",
       "11. 'T.cells.gamma.delta'\n",
       "12. 'NK.cells.resting'\n",
       "13. 'NK.cells.activated'\n",
       "14. 'Monocytes'\n",
       "15. 'Macrophages.M0'\n",
       "16. 'Macrophages.M1'\n",
       "17. 'Macrophages.M2'\n",
       "18. 'Dendritic.cells.resting'\n",
       "19. 'Dendritic.cells.activated'\n",
       "20. 'Mast.cells.resting'\n",
       "21. 'Mast.cells.activated'\n",
       "22. 'Eosinophils'\n",
       "23. 'Neutrophils'\n",
       "\n",
       "\n"
      ],
      "text/plain": [
       " [1] \"LeukocyteMeth_score\"          \"B.cells.naive\"               \n",
       " [3] \"B.cells.memory\"               \"Plasma.cells\"                \n",
       " [5] \"T.cells.CD8\"                  \"T.cells.CD4.naive\"           \n",
       " [7] \"T.cells.CD4.memory.resting\"   \"T.cells.CD4.memory.activated\"\n",
       " [9] \"T.cells.follicular.helper\"    \"T.cells.regulatory..Tregs.\"  \n",
       "[11] \"T.cells.gamma.delta\"          \"NK.cells.resting\"            \n",
       "[13] \"NK.cells.activated\"           \"Monocytes\"                   \n",
       "[15] \"Macrophages.M0\"               \"Macrophages.M1\"              \n",
       "[17] \"Macrophages.M2\"               \"Dendritic.cells.resting\"     \n",
       "[19] \"Dendritic.cells.activated\"    \"Mast.cells.resting\"          \n",
       "[21] \"Mast.cells.activated\"         \"Eosinophils\"                 \n",
       "[23] \"Neutrophils\"                 "
      ]
     },
     "metadata": {},
     "output_type": "display_data"
    }
   ],
   "source": [
    "colnames(cib_data)"
   ]
  },
  {
   "cell_type": "code",
   "execution_count": 18,
   "metadata": {},
   "outputs": [
    {
     "data": {
      "text/html": [
       "<ol class=list-inline>\n",
       "\t<li>305</li>\n",
       "\t<li>23</li>\n",
       "</ol>\n"
      ],
      "text/latex": [
       "\\begin{enumerate*}\n",
       "\\item 305\n",
       "\\item 23\n",
       "\\end{enumerate*}\n"
      ],
      "text/markdown": [
       "1. 305\n",
       "2. 23\n",
       "\n",
       "\n"
      ],
      "text/plain": [
       "[1] 305  23"
      ]
     },
     "metadata": {},
     "output_type": "display_data"
    }
   ],
   "source": [
    "dim(cib_data)"
   ]
  },
  {
   "cell_type": "markdown",
   "metadata": {},
   "source": [
    "### MCPcounter"
   ]
  },
  {
   "cell_type": "code",
   "execution_count": 19,
   "metadata": {},
   "outputs": [
    {
     "data": {
      "text/html": [
       "<table>\n",
       "<thead><tr><th></th><th scope=col>LeukocyteMeth_score</th><th scope=col>T.cells</th><th scope=col>CD8.T.cells</th><th scope=col>Cytotoxic.lymphocytes</th><th scope=col>NK.cells</th><th scope=col>B.lineage</th><th scope=col>Monocytic.lineage</th><th scope=col>Myeloid.dendritic.cells</th><th scope=col>Neutrophils</th><th scope=col>Endothelial.cells</th><th scope=col>Fibroblasts</th></tr></thead>\n",
       "<tbody>\n",
       "\t<tr><th scope=row>TCGA.04.1348.01</th><td>0.15094874</td><td>140.37951 </td><td> 82.0113  </td><td>122.44650 </td><td> 5.310562 </td><td> 61.40764 </td><td>552.41961 </td><td> 34.31030 </td><td>185.0318  </td><td>227.8419  </td><td> 5541.237 </td></tr>\n",
       "\t<tr><th scope=row>TCGA.04.1357.01</th><td>0.26794368</td><td>284.69122 </td><td>326.8229  </td><td>289.74794 </td><td>10.823550 </td><td>220.78453 </td><td>897.16706 </td><td>154.29686 </td><td>245.2691  </td><td>204.5117  </td><td> 9558.854 </td></tr>\n",
       "\t<tr><th scope=row>TCGA.04.1362.01</th><td>0.08407051</td><td>217.39259 </td><td>  5.2953  </td><td> 20.04664 </td><td> 5.088475 </td><td> 38.76356 </td><td>313.79614 </td><td> 12.97356 </td><td>193.2578  </td><td>257.9961  </td><td> 3400.404 </td></tr>\n",
       "\t<tr><th scope=row>TCGA.04.1364.01</th><td>0.03346511</td><td> 41.82687 </td><td> 19.9291  </td><td>  1.87780 </td><td> 4.187238 </td><td> 98.47945 </td><td>114.84979 </td><td>  5.85152 </td><td>158.8109  </td><td>236.2052  </td><td> 2706.701 </td></tr>\n",
       "\t<tr><th scope=row>TCGA.04.1365.01</th><td>0.14147110</td><td>167.17966 </td><td> 66.2950  </td><td>107.27739 </td><td> 7.533512 </td><td> 92.02199 </td><td>462.09216 </td><td> 40.43996 </td><td>185.9475  </td><td>201.2723  </td><td> 3607.766 </td></tr>\n",
       "\t<tr><th scope=row>TCGA.04.1514.01</th><td>0.03777766</td><td> 80.24919 </td><td>  4.3178  </td><td> 11.22624 </td><td> 1.619175 </td><td>155.47641 </td><td> 87.30159 </td><td> 11.28382 </td><td>281.8845  </td><td>363.7016  </td><td>13060.485 </td></tr>\n",
       "</tbody>\n",
       "</table>\n"
      ],
      "text/latex": [
       "\\begin{tabular}{r|lllllllllll}\n",
       "  & LeukocyteMeth\\_score & T.cells & CD8.T.cells & Cytotoxic.lymphocytes & NK.cells & B.lineage & Monocytic.lineage & Myeloid.dendritic.cells & Neutrophils & Endothelial.cells & Fibroblasts\\\\\n",
       "\\hline\n",
       "\tTCGA.04.1348.01 & 0.15094874 & 140.37951  &  82.0113   & 122.44650  &  5.310562  &  61.40764  & 552.41961  &  34.31030  & 185.0318   & 227.8419   &  5541.237 \\\\\n",
       "\tTCGA.04.1357.01 & 0.26794368 & 284.69122  & 326.8229   & 289.74794  & 10.823550  & 220.78453  & 897.16706  & 154.29686  & 245.2691   & 204.5117   &  9558.854 \\\\\n",
       "\tTCGA.04.1362.01 & 0.08407051 & 217.39259  &   5.2953   &  20.04664  &  5.088475  &  38.76356  & 313.79614  &  12.97356  & 193.2578   & 257.9961   &  3400.404 \\\\\n",
       "\tTCGA.04.1364.01 & 0.03346511 &  41.82687  &  19.9291   &   1.87780  &  4.187238  &  98.47945  & 114.84979  &   5.85152  & 158.8109   & 236.2052   &  2706.701 \\\\\n",
       "\tTCGA.04.1365.01 & 0.14147110 & 167.17966  &  66.2950   & 107.27739  &  7.533512  &  92.02199  & 462.09216  &  40.43996  & 185.9475   & 201.2723   &  3607.766 \\\\\n",
       "\tTCGA.04.1514.01 & 0.03777766 &  80.24919  &   4.3178   &  11.22624  &  1.619175  & 155.47641  &  87.30159  &  11.28382  & 281.8845   & 363.7016   & 13060.485 \\\\\n",
       "\\end{tabular}\n"
      ],
      "text/markdown": [
       "\n",
       "| <!--/--> | LeukocyteMeth_score | T.cells | CD8.T.cells | Cytotoxic.lymphocytes | NK.cells | B.lineage | Monocytic.lineage | Myeloid.dendritic.cells | Neutrophils | Endothelial.cells | Fibroblasts | \n",
       "|---|---|---|---|---|---|\n",
       "| TCGA.04.1348.01 | 0.15094874 | 140.37951  |  82.0113   | 122.44650  |  5.310562  |  61.40764  | 552.41961  |  34.31030  | 185.0318   | 227.8419   |  5541.237  | \n",
       "| TCGA.04.1357.01 | 0.26794368 | 284.69122  | 326.8229   | 289.74794  | 10.823550  | 220.78453  | 897.16706  | 154.29686  | 245.2691   | 204.5117   |  9558.854  | \n",
       "| TCGA.04.1362.01 | 0.08407051 | 217.39259  |   5.2953   |  20.04664  |  5.088475  |  38.76356  | 313.79614  |  12.97356  | 193.2578   | 257.9961   |  3400.404  | \n",
       "| TCGA.04.1364.01 | 0.03346511 |  41.82687  |  19.9291   |   1.87780  |  4.187238  |  98.47945  | 114.84979  |   5.85152  | 158.8109   | 236.2052   |  2706.701  | \n",
       "| TCGA.04.1365.01 | 0.14147110 | 167.17966  |  66.2950   | 107.27739  |  7.533512  |  92.02199  | 462.09216  |  40.43996  | 185.9475   | 201.2723   |  3607.766  | \n",
       "| TCGA.04.1514.01 | 0.03777766 |  80.24919  |   4.3178   |  11.22624  |  1.619175  | 155.47641  |  87.30159  |  11.28382  | 281.8845   | 363.7016   | 13060.485  | \n",
       "\n",
       "\n"
      ],
      "text/plain": [
       "                LeukocyteMeth_score T.cells   CD8.T.cells Cytotoxic.lymphocytes\n",
       "TCGA.04.1348.01 0.15094874          140.37951  82.0113    122.44650            \n",
       "TCGA.04.1357.01 0.26794368          284.69122 326.8229    289.74794            \n",
       "TCGA.04.1362.01 0.08407051          217.39259   5.2953     20.04664            \n",
       "TCGA.04.1364.01 0.03346511           41.82687  19.9291      1.87780            \n",
       "TCGA.04.1365.01 0.14147110          167.17966  66.2950    107.27739            \n",
       "TCGA.04.1514.01 0.03777766           80.24919   4.3178     11.22624            \n",
       "                NK.cells  B.lineage Monocytic.lineage Myeloid.dendritic.cells\n",
       "TCGA.04.1348.01  5.310562  61.40764 552.41961          34.31030              \n",
       "TCGA.04.1357.01 10.823550 220.78453 897.16706         154.29686              \n",
       "TCGA.04.1362.01  5.088475  38.76356 313.79614          12.97356              \n",
       "TCGA.04.1364.01  4.187238  98.47945 114.84979           5.85152              \n",
       "TCGA.04.1365.01  7.533512  92.02199 462.09216          40.43996              \n",
       "TCGA.04.1514.01  1.619175 155.47641  87.30159          11.28382              \n",
       "                Neutrophils Endothelial.cells Fibroblasts\n",
       "TCGA.04.1348.01 185.0318    227.8419           5541.237  \n",
       "TCGA.04.1357.01 245.2691    204.5117           9558.854  \n",
       "TCGA.04.1362.01 193.2578    257.9961           3400.404  \n",
       "TCGA.04.1364.01 158.8109    236.2052           2706.701  \n",
       "TCGA.04.1365.01 185.9475    201.2723           3607.766  \n",
       "TCGA.04.1514.01 281.8845    363.7016          13060.485  "
      ]
     },
     "metadata": {},
     "output_type": "display_data"
    }
   ],
   "source": [
    "mcp_data <- read.csv('../../Data/3/LeukocyteScore_mcp_TMEcells.txt',\n",
    "                     sep='\\t',\n",
    "                     header=T,\n",
    "                     row.names='X')\n",
    "\n",
    "head(mcp_data)"
   ]
  },
  {
   "cell_type": "code",
   "execution_count": 20,
   "metadata": {},
   "outputs": [
    {
     "data": {
      "text/html": [
       "<ol class=list-inline>\n",
       "\t<li>'LeukocyteMeth_score'</li>\n",
       "\t<li>'T.cells'</li>\n",
       "\t<li>'CD8.T.cells'</li>\n",
       "\t<li>'Cytotoxic.lymphocytes'</li>\n",
       "\t<li>'NK.cells'</li>\n",
       "\t<li>'B.lineage'</li>\n",
       "\t<li>'Monocytic.lineage'</li>\n",
       "\t<li>'Myeloid.dendritic.cells'</li>\n",
       "\t<li>'Neutrophils'</li>\n",
       "\t<li>'Endothelial.cells'</li>\n",
       "\t<li>'Fibroblasts'</li>\n",
       "</ol>\n"
      ],
      "text/latex": [
       "\\begin{enumerate*}\n",
       "\\item 'LeukocyteMeth\\_score'\n",
       "\\item 'T.cells'\n",
       "\\item 'CD8.T.cells'\n",
       "\\item 'Cytotoxic.lymphocytes'\n",
       "\\item 'NK.cells'\n",
       "\\item 'B.lineage'\n",
       "\\item 'Monocytic.lineage'\n",
       "\\item 'Myeloid.dendritic.cells'\n",
       "\\item 'Neutrophils'\n",
       "\\item 'Endothelial.cells'\n",
       "\\item 'Fibroblasts'\n",
       "\\end{enumerate*}\n"
      ],
      "text/markdown": [
       "1. 'LeukocyteMeth_score'\n",
       "2. 'T.cells'\n",
       "3. 'CD8.T.cells'\n",
       "4. 'Cytotoxic.lymphocytes'\n",
       "5. 'NK.cells'\n",
       "6. 'B.lineage'\n",
       "7. 'Monocytic.lineage'\n",
       "8. 'Myeloid.dendritic.cells'\n",
       "9. 'Neutrophils'\n",
       "10. 'Endothelial.cells'\n",
       "11. 'Fibroblasts'\n",
       "\n",
       "\n"
      ],
      "text/plain": [
       " [1] \"LeukocyteMeth_score\"     \"T.cells\"                \n",
       " [3] \"CD8.T.cells\"             \"Cytotoxic.lymphocytes\"  \n",
       " [5] \"NK.cells\"                \"B.lineage\"              \n",
       " [7] \"Monocytic.lineage\"       \"Myeloid.dendritic.cells\"\n",
       " [9] \"Neutrophils\"             \"Endothelial.cells\"      \n",
       "[11] \"Fibroblasts\"            "
      ]
     },
     "metadata": {},
     "output_type": "display_data"
    }
   ],
   "source": [
    "colnames(mcp_data)"
   ]
  },
  {
   "cell_type": "markdown",
   "metadata": {},
   "source": [
    "#### Remove non-leukocyte cells"
   ]
  },
  {
   "cell_type": "code",
   "execution_count": 21,
   "metadata": {},
   "outputs": [
    {
     "data": {
      "text/html": [
       "<ol class=list-inline>\n",
       "\t<li>'LeukocyteMeth_score'</li>\n",
       "\t<li>'T.cells'</li>\n",
       "\t<li>'CD8.T.cells'</li>\n",
       "\t<li>'Cytotoxic.lymphocytes'</li>\n",
       "\t<li>'NK.cells'</li>\n",
       "\t<li>'B.lineage'</li>\n",
       "\t<li>'Monocytic.lineage'</li>\n",
       "\t<li>'Myeloid.dendritic.cells'</li>\n",
       "\t<li>'Neutrophils'</li>\n",
       "</ol>\n"
      ],
      "text/latex": [
       "\\begin{enumerate*}\n",
       "\\item 'LeukocyteMeth\\_score'\n",
       "\\item 'T.cells'\n",
       "\\item 'CD8.T.cells'\n",
       "\\item 'Cytotoxic.lymphocytes'\n",
       "\\item 'NK.cells'\n",
       "\\item 'B.lineage'\n",
       "\\item 'Monocytic.lineage'\n",
       "\\item 'Myeloid.dendritic.cells'\n",
       "\\item 'Neutrophils'\n",
       "\\end{enumerate*}\n"
      ],
      "text/markdown": [
       "1. 'LeukocyteMeth_score'\n",
       "2. 'T.cells'\n",
       "3. 'CD8.T.cells'\n",
       "4. 'Cytotoxic.lymphocytes'\n",
       "5. 'NK.cells'\n",
       "6. 'B.lineage'\n",
       "7. 'Monocytic.lineage'\n",
       "8. 'Myeloid.dendritic.cells'\n",
       "9. 'Neutrophils'\n",
       "\n",
       "\n"
      ],
      "text/plain": [
       "[1] \"LeukocyteMeth_score\"     \"T.cells\"                \n",
       "[3] \"CD8.T.cells\"             \"Cytotoxic.lymphocytes\"  \n",
       "[5] \"NK.cells\"                \"B.lineage\"              \n",
       "[7] \"Monocytic.lineage\"       \"Myeloid.dendritic.cells\"\n",
       "[9] \"Neutrophils\"            "
      ]
     },
     "metadata": {},
     "output_type": "display_data"
    }
   ],
   "source": [
    "drops <- c('Endothelial.cells','Fibroblasts')\n",
    "mcp_data <- mcp_data[ , !(names(mcp_data) %in% drops)]\n",
    "\n",
    "colnames(mcp_data)"
   ]
  },
  {
   "cell_type": "code",
   "execution_count": 22,
   "metadata": {},
   "outputs": [
    {
     "data": {
      "text/html": [
       "<ol class=list-inline>\n",
       "\t<li>305</li>\n",
       "\t<li>9</li>\n",
       "</ol>\n"
      ],
      "text/latex": [
       "\\begin{enumerate*}\n",
       "\\item 305\n",
       "\\item 9\n",
       "\\end{enumerate*}\n"
      ],
      "text/markdown": [
       "1. 305\n",
       "2. 9\n",
       "\n",
       "\n"
      ],
      "text/plain": [
       "[1] 305   9"
      ]
     },
     "metadata": {},
     "output_type": "display_data"
    }
   ],
   "source": [
    "dim(mcp_data)"
   ]
  },
  {
   "cell_type": "markdown",
   "metadata": {},
   "source": [
    "### TIMER"
   ]
  },
  {
   "cell_type": "code",
   "execution_count": 23,
   "metadata": {},
   "outputs": [
    {
     "data": {
      "text/html": [
       "<table>\n",
       "<thead><tr><th></th><th scope=col>LeukocyteMeth_score</th><th scope=col>B_cell</th><th scope=col>T_cell.CD4</th><th scope=col>T_cell.CD8</th><th scope=col>Neutrophil</th><th scope=col>Macrophage</th><th scope=col>DC</th></tr></thead>\n",
       "<tbody>\n",
       "\t<tr><th scope=row>TCGA.04.1348.01</th><td>0.15094874</td><td>0.28486857</td><td>0.20634290</td><td>0.13801796</td><td>0.18701448</td><td>0.00000000</td><td>0.5759300 </td></tr>\n",
       "\t<tr><th scope=row>TCGA.04.1357.01</th><td>0.26794368</td><td>0.60525898</td><td>0.25946178</td><td>0.02422188</td><td>0.10000450</td><td>0.00000000</td><td>0.8067421 </td></tr>\n",
       "\t<tr><th scope=row>TCGA.04.1362.01</th><td>0.08407051</td><td>0.15997653</td><td>0.14442067</td><td>0.26335778</td><td>0.10042916</td><td>0.10724381</td><td>0.3387293 </td></tr>\n",
       "\t<tr><th scope=row>TCGA.04.1364.01</th><td>0.03346511</td><td>0.14925784</td><td>0.21527554</td><td>0.02234241</td><td>0.00000000</td><td>0.04167787</td><td>0.1693009 </td></tr>\n",
       "\t<tr><th scope=row>TCGA.04.1365.01</th><td>0.14147110</td><td>0.04125805</td><td>0.08668255</td><td>0.28274628</td><td>0.19528997</td><td>0.00000000</td><td>0.5331854 </td></tr>\n",
       "\t<tr><th scope=row>TCGA.04.1514.01</th><td>0.03777766</td><td>0.00000000</td><td>0.08187040</td><td>0.11963303</td><td>0.03853453</td><td>0.16070039</td><td>0.1446298 </td></tr>\n",
       "</tbody>\n",
       "</table>\n"
      ],
      "text/latex": [
       "\\begin{tabular}{r|lllllll}\n",
       "  & LeukocyteMeth\\_score & B\\_cell & T\\_cell.CD4 & T\\_cell.CD8 & Neutrophil & Macrophage & DC\\\\\n",
       "\\hline\n",
       "\tTCGA.04.1348.01 & 0.15094874 & 0.28486857 & 0.20634290 & 0.13801796 & 0.18701448 & 0.00000000 & 0.5759300 \\\\\n",
       "\tTCGA.04.1357.01 & 0.26794368 & 0.60525898 & 0.25946178 & 0.02422188 & 0.10000450 & 0.00000000 & 0.8067421 \\\\\n",
       "\tTCGA.04.1362.01 & 0.08407051 & 0.15997653 & 0.14442067 & 0.26335778 & 0.10042916 & 0.10724381 & 0.3387293 \\\\\n",
       "\tTCGA.04.1364.01 & 0.03346511 & 0.14925784 & 0.21527554 & 0.02234241 & 0.00000000 & 0.04167787 & 0.1693009 \\\\\n",
       "\tTCGA.04.1365.01 & 0.14147110 & 0.04125805 & 0.08668255 & 0.28274628 & 0.19528997 & 0.00000000 & 0.5331854 \\\\\n",
       "\tTCGA.04.1514.01 & 0.03777766 & 0.00000000 & 0.08187040 & 0.11963303 & 0.03853453 & 0.16070039 & 0.1446298 \\\\\n",
       "\\end{tabular}\n"
      ],
      "text/markdown": [
       "\n",
       "| <!--/--> | LeukocyteMeth_score | B_cell | T_cell.CD4 | T_cell.CD8 | Neutrophil | Macrophage | DC | \n",
       "|---|---|---|---|---|---|\n",
       "| TCGA.04.1348.01 | 0.15094874 | 0.28486857 | 0.20634290 | 0.13801796 | 0.18701448 | 0.00000000 | 0.5759300  | \n",
       "| TCGA.04.1357.01 | 0.26794368 | 0.60525898 | 0.25946178 | 0.02422188 | 0.10000450 | 0.00000000 | 0.8067421  | \n",
       "| TCGA.04.1362.01 | 0.08407051 | 0.15997653 | 0.14442067 | 0.26335778 | 0.10042916 | 0.10724381 | 0.3387293  | \n",
       "| TCGA.04.1364.01 | 0.03346511 | 0.14925784 | 0.21527554 | 0.02234241 | 0.00000000 | 0.04167787 | 0.1693009  | \n",
       "| TCGA.04.1365.01 | 0.14147110 | 0.04125805 | 0.08668255 | 0.28274628 | 0.19528997 | 0.00000000 | 0.5331854  | \n",
       "| TCGA.04.1514.01 | 0.03777766 | 0.00000000 | 0.08187040 | 0.11963303 | 0.03853453 | 0.16070039 | 0.1446298  | \n",
       "\n",
       "\n"
      ],
      "text/plain": [
       "                LeukocyteMeth_score B_cell     T_cell.CD4 T_cell.CD8 Neutrophil\n",
       "TCGA.04.1348.01 0.15094874          0.28486857 0.20634290 0.13801796 0.18701448\n",
       "TCGA.04.1357.01 0.26794368          0.60525898 0.25946178 0.02422188 0.10000450\n",
       "TCGA.04.1362.01 0.08407051          0.15997653 0.14442067 0.26335778 0.10042916\n",
       "TCGA.04.1364.01 0.03346511          0.14925784 0.21527554 0.02234241 0.00000000\n",
       "TCGA.04.1365.01 0.14147110          0.04125805 0.08668255 0.28274628 0.19528997\n",
       "TCGA.04.1514.01 0.03777766          0.00000000 0.08187040 0.11963303 0.03853453\n",
       "                Macrophage DC       \n",
       "TCGA.04.1348.01 0.00000000 0.5759300\n",
       "TCGA.04.1357.01 0.00000000 0.8067421\n",
       "TCGA.04.1362.01 0.10724381 0.3387293\n",
       "TCGA.04.1364.01 0.04167787 0.1693009\n",
       "TCGA.04.1365.01 0.00000000 0.5331854\n",
       "TCGA.04.1514.01 0.16070039 0.1446298"
      ]
     },
     "metadata": {},
     "output_type": "display_data"
    }
   ],
   "source": [
    "tim_data <- read.csv('../../Data/3/LeukocyteScore_timer_TMEcells.txt',\n",
    "                     sep='\\t',\n",
    "                     header=T,\n",
    "                     row.names='sampleID')\n",
    "\n",
    "head(tim_data)"
   ]
  },
  {
   "cell_type": "code",
   "execution_count": 24,
   "metadata": {},
   "outputs": [
    {
     "data": {
      "text/html": [
       "<ol class=list-inline>\n",
       "\t<li>'LeukocyteMeth_score'</li>\n",
       "\t<li>'B_cell'</li>\n",
       "\t<li>'T_cell.CD4'</li>\n",
       "\t<li>'T_cell.CD8'</li>\n",
       "\t<li>'Neutrophil'</li>\n",
       "\t<li>'Macrophage'</li>\n",
       "\t<li>'DC'</li>\n",
       "</ol>\n"
      ],
      "text/latex": [
       "\\begin{enumerate*}\n",
       "\\item 'LeukocyteMeth\\_score'\n",
       "\\item 'B\\_cell'\n",
       "\\item 'T\\_cell.CD4'\n",
       "\\item 'T\\_cell.CD8'\n",
       "\\item 'Neutrophil'\n",
       "\\item 'Macrophage'\n",
       "\\item 'DC'\n",
       "\\end{enumerate*}\n"
      ],
      "text/markdown": [
       "1. 'LeukocyteMeth_score'\n",
       "2. 'B_cell'\n",
       "3. 'T_cell.CD4'\n",
       "4. 'T_cell.CD8'\n",
       "5. 'Neutrophil'\n",
       "6. 'Macrophage'\n",
       "7. 'DC'\n",
       "\n",
       "\n"
      ],
      "text/plain": [
       "[1] \"LeukocyteMeth_score\" \"B_cell\"              \"T_cell.CD4\"         \n",
       "[4] \"T_cell.CD8\"          \"Neutrophil\"          \"Macrophage\"         \n",
       "[7] \"DC\"                 "
      ]
     },
     "metadata": {},
     "output_type": "display_data"
    }
   ],
   "source": [
    "colnames(tim_data)"
   ]
  },
  {
   "cell_type": "code",
   "execution_count": 25,
   "metadata": {},
   "outputs": [
    {
     "data": {
      "text/html": [
       "<ol class=list-inline>\n",
       "\t<li>305</li>\n",
       "\t<li>7</li>\n",
       "</ol>\n"
      ],
      "text/latex": [
       "\\begin{enumerate*}\n",
       "\\item 305\n",
       "\\item 7\n",
       "\\end{enumerate*}\n"
      ],
      "text/markdown": [
       "1. 305\n",
       "2. 7\n",
       "\n",
       "\n"
      ],
      "text/plain": [
       "[1] 305   7"
      ]
     },
     "metadata": {},
     "output_type": "display_data"
    }
   ],
   "source": [
    "dim(tim_data)"
   ]
  },
  {
   "cell_type": "markdown",
   "metadata": {},
   "source": [
    "### xCELL"
   ]
  },
  {
   "cell_type": "code",
   "execution_count": 26,
   "metadata": {},
   "outputs": [
    {
     "data": {
      "text/html": [
       "<table>\n",
       "<thead><tr><th></th><th scope=col>LeukocyteMeth_score</th><th scope=col>Adipocytes</th><th scope=col>Astrocytes</th><th scope=col>B.cells</th><th scope=col>Basophils</th><th scope=col>CD4..T.cells</th><th scope=col>CD4..Tcm</th><th scope=col>CD4..Tem</th><th scope=col>CD4..memory.T.cells</th><th scope=col>CD4..naive.T.cells</th><th scope=col>⋯</th><th scope=col>Th2.cells</th><th scope=col>Tregs</th><th scope=col>aDC</th><th scope=col>cDC</th><th scope=col>iDC</th><th scope=col>ly.Endothelial.cells</th><th scope=col>mv.Endothelial.cells</th><th scope=col>naive.B.cells</th><th scope=col>pDC</th><th scope=col>pro.B.cells</th></tr></thead>\n",
       "<tbody>\n",
       "\t<tr><th scope=row>TCGA.04.1348.01</th><td>0.15094874</td><td>0.0000    </td><td>0.0494    </td><td>0.0535    </td><td>0.1007    </td><td>0         </td><td>0.0000    </td><td>0.0000    </td><td>0.0074    </td><td>0.0000    </td><td>⋯         </td><td>0.1211    </td><td>0.0000    </td><td>0.3265    </td><td>0.0287    </td><td>0.0000    </td><td>0.0000    </td><td>0.0098    </td><td>0         </td><td>0.0199    </td><td>0.0442    </td></tr>\n",
       "\t<tr><th scope=row>TCGA.04.1357.01</th><td>0.26794368</td><td>0.0000    </td><td>0.0301    </td><td>0.1330    </td><td>0.0486    </td><td>0         </td><td>0.0034    </td><td>0.0458    </td><td>0.0087    </td><td>0.0227    </td><td>⋯         </td><td>0.0081    </td><td>0.0057    </td><td>0.3852    </td><td>0.1140    </td><td>0.0000    </td><td>0.0000    </td><td>0.0037    </td><td>0         </td><td>0.0382    </td><td>0.0015    </td></tr>\n",
       "\t<tr><th scope=row>TCGA.04.1362.01</th><td>0.08407051</td><td>0.0000    </td><td>0.0506    </td><td>0.0039    </td><td>0.0393    </td><td>0         </td><td>0.0239    </td><td>0.0000    </td><td>0.0000    </td><td>0.0000    </td><td>⋯         </td><td>0.0780    </td><td>0.0000    </td><td>0.1563    </td><td>0.0125    </td><td>0.0000    </td><td>0.0019    </td><td>0.0032    </td><td>0         </td><td>0.0070    </td><td>0.0116    </td></tr>\n",
       "\t<tr><th scope=row>TCGA.04.1364.01</th><td>0.03346511</td><td>0.0016    </td><td>0.0654    </td><td>0.0000    </td><td>0.0452    </td><td>0         </td><td>0.0038    </td><td>0.0000    </td><td>0.0000    </td><td>0.0000    </td><td>⋯         </td><td>0.1076    </td><td>0.0000    </td><td>0.0000    </td><td>0.0000    </td><td>0.0000    </td><td>0.0021    </td><td>0.0117    </td><td>0         </td><td>0.0000    </td><td>0.0390    </td></tr>\n",
       "\t<tr><th scope=row>TCGA.04.1365.01</th><td>0.14147110</td><td>0.0000    </td><td>0.0612    </td><td>0.0179    </td><td>0.0906    </td><td>0         </td><td>0.0000    </td><td>0.0000    </td><td>0.0121    </td><td>0.0000    </td><td>⋯         </td><td>0.1709    </td><td>0.0000    </td><td>0.2709    </td><td>0.0289    </td><td>0.0000    </td><td>0.0000    </td><td>0.0039    </td><td>0         </td><td>0.0155    </td><td>0.0276    </td></tr>\n",
       "\t<tr><th scope=row>TCGA.04.1514.01</th><td>0.03777766</td><td>0.0000    </td><td>0.1008    </td><td>0.0088    </td><td>0.0453    </td><td>0         </td><td>0.0245    </td><td>0.0000    </td><td>0.0000    </td><td>0.0000    </td><td>⋯         </td><td>0.0388    </td><td>0.0000    </td><td>0.0000    </td><td>0.0043    </td><td>0.0571    </td><td>0.0007    </td><td>0.0000    </td><td>0         </td><td>0.0000    </td><td>0.0212    </td></tr>\n",
       "</tbody>\n",
       "</table>\n"
      ],
      "text/latex": [
       "\\begin{tabular}{r|lllllllllllllllllllllllllllllllllllllllllllllllllllllllllllllllll}\n",
       "  & LeukocyteMeth\\_score & Adipocytes & Astrocytes & B.cells & Basophils & CD4..T.cells & CD4..Tcm & CD4..Tem & CD4..memory.T.cells & CD4..naive.T.cells & ⋯ & Th2.cells & Tregs & aDC & cDC & iDC & ly.Endothelial.cells & mv.Endothelial.cells & naive.B.cells & pDC & pro.B.cells\\\\\n",
       "\\hline\n",
       "\tTCGA.04.1348.01 & 0.15094874 & 0.0000     & 0.0494     & 0.0535     & 0.1007     & 0          & 0.0000     & 0.0000     & 0.0074     & 0.0000     & ⋯          & 0.1211     & 0.0000     & 0.3265     & 0.0287     & 0.0000     & 0.0000     & 0.0098     & 0          & 0.0199     & 0.0442    \\\\\n",
       "\tTCGA.04.1357.01 & 0.26794368 & 0.0000     & 0.0301     & 0.1330     & 0.0486     & 0          & 0.0034     & 0.0458     & 0.0087     & 0.0227     & ⋯          & 0.0081     & 0.0057     & 0.3852     & 0.1140     & 0.0000     & 0.0000     & 0.0037     & 0          & 0.0382     & 0.0015    \\\\\n",
       "\tTCGA.04.1362.01 & 0.08407051 & 0.0000     & 0.0506     & 0.0039     & 0.0393     & 0          & 0.0239     & 0.0000     & 0.0000     & 0.0000     & ⋯          & 0.0780     & 0.0000     & 0.1563     & 0.0125     & 0.0000     & 0.0019     & 0.0032     & 0          & 0.0070     & 0.0116    \\\\\n",
       "\tTCGA.04.1364.01 & 0.03346511 & 0.0016     & 0.0654     & 0.0000     & 0.0452     & 0          & 0.0038     & 0.0000     & 0.0000     & 0.0000     & ⋯          & 0.1076     & 0.0000     & 0.0000     & 0.0000     & 0.0000     & 0.0021     & 0.0117     & 0          & 0.0000     & 0.0390    \\\\\n",
       "\tTCGA.04.1365.01 & 0.14147110 & 0.0000     & 0.0612     & 0.0179     & 0.0906     & 0          & 0.0000     & 0.0000     & 0.0121     & 0.0000     & ⋯          & 0.1709     & 0.0000     & 0.2709     & 0.0289     & 0.0000     & 0.0000     & 0.0039     & 0          & 0.0155     & 0.0276    \\\\\n",
       "\tTCGA.04.1514.01 & 0.03777766 & 0.0000     & 0.1008     & 0.0088     & 0.0453     & 0          & 0.0245     & 0.0000     & 0.0000     & 0.0000     & ⋯          & 0.0388     & 0.0000     & 0.0000     & 0.0043     & 0.0571     & 0.0007     & 0.0000     & 0          & 0.0000     & 0.0212    \\\\\n",
       "\\end{tabular}\n"
      ],
      "text/markdown": [
       "\n",
       "| <!--/--> | LeukocyteMeth_score | Adipocytes | Astrocytes | B.cells | Basophils | CD4..T.cells | CD4..Tcm | CD4..Tem | CD4..memory.T.cells | CD4..naive.T.cells | ⋯ | Th2.cells | Tregs | aDC | cDC | iDC | ly.Endothelial.cells | mv.Endothelial.cells | naive.B.cells | pDC | pro.B.cells | \n",
       "|---|---|---|---|---|---|\n",
       "| TCGA.04.1348.01 | 0.15094874 | 0.0000     | 0.0494     | 0.0535     | 0.1007     | 0          | 0.0000     | 0.0000     | 0.0074     | 0.0000     | ⋯          | 0.1211     | 0.0000     | 0.3265     | 0.0287     | 0.0000     | 0.0000     | 0.0098     | 0          | 0.0199     | 0.0442     | \n",
       "| TCGA.04.1357.01 | 0.26794368 | 0.0000     | 0.0301     | 0.1330     | 0.0486     | 0          | 0.0034     | 0.0458     | 0.0087     | 0.0227     | ⋯          | 0.0081     | 0.0057     | 0.3852     | 0.1140     | 0.0000     | 0.0000     | 0.0037     | 0          | 0.0382     | 0.0015     | \n",
       "| TCGA.04.1362.01 | 0.08407051 | 0.0000     | 0.0506     | 0.0039     | 0.0393     | 0          | 0.0239     | 0.0000     | 0.0000     | 0.0000     | ⋯          | 0.0780     | 0.0000     | 0.1563     | 0.0125     | 0.0000     | 0.0019     | 0.0032     | 0          | 0.0070     | 0.0116     | \n",
       "| TCGA.04.1364.01 | 0.03346511 | 0.0016     | 0.0654     | 0.0000     | 0.0452     | 0          | 0.0038     | 0.0000     | 0.0000     | 0.0000     | ⋯          | 0.1076     | 0.0000     | 0.0000     | 0.0000     | 0.0000     | 0.0021     | 0.0117     | 0          | 0.0000     | 0.0390     | \n",
       "| TCGA.04.1365.01 | 0.14147110 | 0.0000     | 0.0612     | 0.0179     | 0.0906     | 0          | 0.0000     | 0.0000     | 0.0121     | 0.0000     | ⋯          | 0.1709     | 0.0000     | 0.2709     | 0.0289     | 0.0000     | 0.0000     | 0.0039     | 0          | 0.0155     | 0.0276     | \n",
       "| TCGA.04.1514.01 | 0.03777766 | 0.0000     | 0.1008     | 0.0088     | 0.0453     | 0          | 0.0245     | 0.0000     | 0.0000     | 0.0000     | ⋯          | 0.0388     | 0.0000     | 0.0000     | 0.0043     | 0.0571     | 0.0007     | 0.0000     | 0          | 0.0000     | 0.0212     | \n",
       "\n",
       "\n"
      ],
      "text/plain": [
       "                LeukocyteMeth_score Adipocytes Astrocytes B.cells Basophils\n",
       "TCGA.04.1348.01 0.15094874          0.0000     0.0494     0.0535  0.1007   \n",
       "TCGA.04.1357.01 0.26794368          0.0000     0.0301     0.1330  0.0486   \n",
       "TCGA.04.1362.01 0.08407051          0.0000     0.0506     0.0039  0.0393   \n",
       "TCGA.04.1364.01 0.03346511          0.0016     0.0654     0.0000  0.0452   \n",
       "TCGA.04.1365.01 0.14147110          0.0000     0.0612     0.0179  0.0906   \n",
       "TCGA.04.1514.01 0.03777766          0.0000     0.1008     0.0088  0.0453   \n",
       "                CD4..T.cells CD4..Tcm CD4..Tem CD4..memory.T.cells\n",
       "TCGA.04.1348.01 0            0.0000   0.0000   0.0074             \n",
       "TCGA.04.1357.01 0            0.0034   0.0458   0.0087             \n",
       "TCGA.04.1362.01 0            0.0239   0.0000   0.0000             \n",
       "TCGA.04.1364.01 0            0.0038   0.0000   0.0000             \n",
       "TCGA.04.1365.01 0            0.0000   0.0000   0.0121             \n",
       "TCGA.04.1514.01 0            0.0245   0.0000   0.0000             \n",
       "                CD4..naive.T.cells ⋯ Th2.cells Tregs  aDC    cDC    iDC   \n",
       "TCGA.04.1348.01 0.0000             ⋯ 0.1211    0.0000 0.3265 0.0287 0.0000\n",
       "TCGA.04.1357.01 0.0227             ⋯ 0.0081    0.0057 0.3852 0.1140 0.0000\n",
       "TCGA.04.1362.01 0.0000             ⋯ 0.0780    0.0000 0.1563 0.0125 0.0000\n",
       "TCGA.04.1364.01 0.0000             ⋯ 0.1076    0.0000 0.0000 0.0000 0.0000\n",
       "TCGA.04.1365.01 0.0000             ⋯ 0.1709    0.0000 0.2709 0.0289 0.0000\n",
       "TCGA.04.1514.01 0.0000             ⋯ 0.0388    0.0000 0.0000 0.0043 0.0571\n",
       "                ly.Endothelial.cells mv.Endothelial.cells naive.B.cells pDC   \n",
       "TCGA.04.1348.01 0.0000               0.0098               0             0.0199\n",
       "TCGA.04.1357.01 0.0000               0.0037               0             0.0382\n",
       "TCGA.04.1362.01 0.0019               0.0032               0             0.0070\n",
       "TCGA.04.1364.01 0.0021               0.0117               0             0.0000\n",
       "TCGA.04.1365.01 0.0000               0.0039               0             0.0155\n",
       "TCGA.04.1514.01 0.0007               0.0000               0             0.0000\n",
       "                pro.B.cells\n",
       "TCGA.04.1348.01 0.0442     \n",
       "TCGA.04.1357.01 0.0015     \n",
       "TCGA.04.1362.01 0.0116     \n",
       "TCGA.04.1364.01 0.0390     \n",
       "TCGA.04.1365.01 0.0276     \n",
       "TCGA.04.1514.01 0.0212     "
      ]
     },
     "metadata": {},
     "output_type": "display_data"
    }
   ],
   "source": [
    "xce_data <- read.csv('../../Data/3/LeukocyteScore_xcell_TMEcells.txt',\n",
    "                     sep='\\t',\n",
    "                     header=T,\n",
    "                     row.names='X')\n",
    "\n",
    "head(xce_data)"
   ]
  },
  {
   "cell_type": "code",
   "execution_count": 27,
   "metadata": {},
   "outputs": [
    {
     "data": {
      "text/html": [
       "<ol class=list-inline>\n",
       "\t<li>'LeukocyteMeth_score'</li>\n",
       "\t<li>'Adipocytes'</li>\n",
       "\t<li>'Astrocytes'</li>\n",
       "\t<li>'B.cells'</li>\n",
       "\t<li>'Basophils'</li>\n",
       "\t<li>'CD4..T.cells'</li>\n",
       "\t<li>'CD4..Tcm'</li>\n",
       "\t<li>'CD4..Tem'</li>\n",
       "\t<li>'CD4..memory.T.cells'</li>\n",
       "\t<li>'CD4..naive.T.cells'</li>\n",
       "\t<li>'CD8..T.cells'</li>\n",
       "\t<li>'CD8..Tcm'</li>\n",
       "\t<li>'CD8..Tem'</li>\n",
       "\t<li>'CD8..naive.T.cells'</li>\n",
       "\t<li>'CLP'</li>\n",
       "\t<li>'CMP'</li>\n",
       "\t<li>'Chondrocytes'</li>\n",
       "\t<li>'Class.switched.memory.B.cells'</li>\n",
       "\t<li>'DC'</li>\n",
       "\t<li>'Endothelial.cells'</li>\n",
       "\t<li>'Eosinophils'</li>\n",
       "\t<li>'Epithelial.cells'</li>\n",
       "\t<li>'Erythrocytes'</li>\n",
       "\t<li>'Fibroblasts'</li>\n",
       "\t<li>'GMP'</li>\n",
       "\t<li>'HSC'</li>\n",
       "\t<li>'Hepatocytes'</li>\n",
       "\t<li>'Keratinocytes'</li>\n",
       "\t<li>'MEP'</li>\n",
       "\t<li>'MPP'</li>\n",
       "\t<li>'MSC'</li>\n",
       "\t<li>'Macrophages'</li>\n",
       "\t<li>'Macrophages.M1'</li>\n",
       "\t<li>'Macrophages.M2'</li>\n",
       "\t<li>'Mast.cells'</li>\n",
       "\t<li>'Megakaryocytes'</li>\n",
       "\t<li>'Melanocytes'</li>\n",
       "\t<li>'Memory.B.cells'</li>\n",
       "\t<li>'Mesangial.cells'</li>\n",
       "\t<li>'Monocytes'</li>\n",
       "\t<li>'Myocytes'</li>\n",
       "\t<li>'NK.cells'</li>\n",
       "\t<li>'NKT'</li>\n",
       "\t<li>'Neurons'</li>\n",
       "\t<li>'Neutrophils'</li>\n",
       "\t<li>'Osteoblast'</li>\n",
       "\t<li>'Pericytes'</li>\n",
       "\t<li>'Plasma.cells'</li>\n",
       "\t<li>'Platelets'</li>\n",
       "\t<li>'Preadipocytes'</li>\n",
       "\t<li>'Sebocytes'</li>\n",
       "\t<li>'Skeletal.muscle'</li>\n",
       "\t<li>'Smooth.muscle'</li>\n",
       "\t<li>'Tgd.cells'</li>\n",
       "\t<li>'Th1.cells'</li>\n",
       "\t<li>'Th2.cells'</li>\n",
       "\t<li>'Tregs'</li>\n",
       "\t<li>'aDC'</li>\n",
       "\t<li>'cDC'</li>\n",
       "\t<li>'iDC'</li>\n",
       "\t<li>'ly.Endothelial.cells'</li>\n",
       "\t<li>'mv.Endothelial.cells'</li>\n",
       "\t<li>'naive.B.cells'</li>\n",
       "\t<li>'pDC'</li>\n",
       "\t<li>'pro.B.cells'</li>\n",
       "</ol>\n"
      ],
      "text/latex": [
       "\\begin{enumerate*}\n",
       "\\item 'LeukocyteMeth\\_score'\n",
       "\\item 'Adipocytes'\n",
       "\\item 'Astrocytes'\n",
       "\\item 'B.cells'\n",
       "\\item 'Basophils'\n",
       "\\item 'CD4..T.cells'\n",
       "\\item 'CD4..Tcm'\n",
       "\\item 'CD4..Tem'\n",
       "\\item 'CD4..memory.T.cells'\n",
       "\\item 'CD4..naive.T.cells'\n",
       "\\item 'CD8..T.cells'\n",
       "\\item 'CD8..Tcm'\n",
       "\\item 'CD8..Tem'\n",
       "\\item 'CD8..naive.T.cells'\n",
       "\\item 'CLP'\n",
       "\\item 'CMP'\n",
       "\\item 'Chondrocytes'\n",
       "\\item 'Class.switched.memory.B.cells'\n",
       "\\item 'DC'\n",
       "\\item 'Endothelial.cells'\n",
       "\\item 'Eosinophils'\n",
       "\\item 'Epithelial.cells'\n",
       "\\item 'Erythrocytes'\n",
       "\\item 'Fibroblasts'\n",
       "\\item 'GMP'\n",
       "\\item 'HSC'\n",
       "\\item 'Hepatocytes'\n",
       "\\item 'Keratinocytes'\n",
       "\\item 'MEP'\n",
       "\\item 'MPP'\n",
       "\\item 'MSC'\n",
       "\\item 'Macrophages'\n",
       "\\item 'Macrophages.M1'\n",
       "\\item 'Macrophages.M2'\n",
       "\\item 'Mast.cells'\n",
       "\\item 'Megakaryocytes'\n",
       "\\item 'Melanocytes'\n",
       "\\item 'Memory.B.cells'\n",
       "\\item 'Mesangial.cells'\n",
       "\\item 'Monocytes'\n",
       "\\item 'Myocytes'\n",
       "\\item 'NK.cells'\n",
       "\\item 'NKT'\n",
       "\\item 'Neurons'\n",
       "\\item 'Neutrophils'\n",
       "\\item 'Osteoblast'\n",
       "\\item 'Pericytes'\n",
       "\\item 'Plasma.cells'\n",
       "\\item 'Platelets'\n",
       "\\item 'Preadipocytes'\n",
       "\\item 'Sebocytes'\n",
       "\\item 'Skeletal.muscle'\n",
       "\\item 'Smooth.muscle'\n",
       "\\item 'Tgd.cells'\n",
       "\\item 'Th1.cells'\n",
       "\\item 'Th2.cells'\n",
       "\\item 'Tregs'\n",
       "\\item 'aDC'\n",
       "\\item 'cDC'\n",
       "\\item 'iDC'\n",
       "\\item 'ly.Endothelial.cells'\n",
       "\\item 'mv.Endothelial.cells'\n",
       "\\item 'naive.B.cells'\n",
       "\\item 'pDC'\n",
       "\\item 'pro.B.cells'\n",
       "\\end{enumerate*}\n"
      ],
      "text/markdown": [
       "1. 'LeukocyteMeth_score'\n",
       "2. 'Adipocytes'\n",
       "3. 'Astrocytes'\n",
       "4. 'B.cells'\n",
       "5. 'Basophils'\n",
       "6. 'CD4..T.cells'\n",
       "7. 'CD4..Tcm'\n",
       "8. 'CD4..Tem'\n",
       "9. 'CD4..memory.T.cells'\n",
       "10. 'CD4..naive.T.cells'\n",
       "11. 'CD8..T.cells'\n",
       "12. 'CD8..Tcm'\n",
       "13. 'CD8..Tem'\n",
       "14. 'CD8..naive.T.cells'\n",
       "15. 'CLP'\n",
       "16. 'CMP'\n",
       "17. 'Chondrocytes'\n",
       "18. 'Class.switched.memory.B.cells'\n",
       "19. 'DC'\n",
       "20. 'Endothelial.cells'\n",
       "21. 'Eosinophils'\n",
       "22. 'Epithelial.cells'\n",
       "23. 'Erythrocytes'\n",
       "24. 'Fibroblasts'\n",
       "25. 'GMP'\n",
       "26. 'HSC'\n",
       "27. 'Hepatocytes'\n",
       "28. 'Keratinocytes'\n",
       "29. 'MEP'\n",
       "30. 'MPP'\n",
       "31. 'MSC'\n",
       "32. 'Macrophages'\n",
       "33. 'Macrophages.M1'\n",
       "34. 'Macrophages.M2'\n",
       "35. 'Mast.cells'\n",
       "36. 'Megakaryocytes'\n",
       "37. 'Melanocytes'\n",
       "38. 'Memory.B.cells'\n",
       "39. 'Mesangial.cells'\n",
       "40. 'Monocytes'\n",
       "41. 'Myocytes'\n",
       "42. 'NK.cells'\n",
       "43. 'NKT'\n",
       "44. 'Neurons'\n",
       "45. 'Neutrophils'\n",
       "46. 'Osteoblast'\n",
       "47. 'Pericytes'\n",
       "48. 'Plasma.cells'\n",
       "49. 'Platelets'\n",
       "50. 'Preadipocytes'\n",
       "51. 'Sebocytes'\n",
       "52. 'Skeletal.muscle'\n",
       "53. 'Smooth.muscle'\n",
       "54. 'Tgd.cells'\n",
       "55. 'Th1.cells'\n",
       "56. 'Th2.cells'\n",
       "57. 'Tregs'\n",
       "58. 'aDC'\n",
       "59. 'cDC'\n",
       "60. 'iDC'\n",
       "61. 'ly.Endothelial.cells'\n",
       "62. 'mv.Endothelial.cells'\n",
       "63. 'naive.B.cells'\n",
       "64. 'pDC'\n",
       "65. 'pro.B.cells'\n",
       "\n",
       "\n"
      ],
      "text/plain": [
       " [1] \"LeukocyteMeth_score\"           \"Adipocytes\"                   \n",
       " [3] \"Astrocytes\"                    \"B.cells\"                      \n",
       " [5] \"Basophils\"                     \"CD4..T.cells\"                 \n",
       " [7] \"CD4..Tcm\"                      \"CD4..Tem\"                     \n",
       " [9] \"CD4..memory.T.cells\"           \"CD4..naive.T.cells\"           \n",
       "[11] \"CD8..T.cells\"                  \"CD8..Tcm\"                     \n",
       "[13] \"CD8..Tem\"                      \"CD8..naive.T.cells\"           \n",
       "[15] \"CLP\"                           \"CMP\"                          \n",
       "[17] \"Chondrocytes\"                  \"Class.switched.memory.B.cells\"\n",
       "[19] \"DC\"                            \"Endothelial.cells\"            \n",
       "[21] \"Eosinophils\"                   \"Epithelial.cells\"             \n",
       "[23] \"Erythrocytes\"                  \"Fibroblasts\"                  \n",
       "[25] \"GMP\"                           \"HSC\"                          \n",
       "[27] \"Hepatocytes\"                   \"Keratinocytes\"                \n",
       "[29] \"MEP\"                           \"MPP\"                          \n",
       "[31] \"MSC\"                           \"Macrophages\"                  \n",
       "[33] \"Macrophages.M1\"                \"Macrophages.M2\"               \n",
       "[35] \"Mast.cells\"                    \"Megakaryocytes\"               \n",
       "[37] \"Melanocytes\"                   \"Memory.B.cells\"               \n",
       "[39] \"Mesangial.cells\"               \"Monocytes\"                    \n",
       "[41] \"Myocytes\"                      \"NK.cells\"                     \n",
       "[43] \"NKT\"                           \"Neurons\"                      \n",
       "[45] \"Neutrophils\"                   \"Osteoblast\"                   \n",
       "[47] \"Pericytes\"                     \"Plasma.cells\"                 \n",
       "[49] \"Platelets\"                     \"Preadipocytes\"                \n",
       "[51] \"Sebocytes\"                     \"Skeletal.muscle\"              \n",
       "[53] \"Smooth.muscle\"                 \"Tgd.cells\"                    \n",
       "[55] \"Th1.cells\"                     \"Th2.cells\"                    \n",
       "[57] \"Tregs\"                         \"aDC\"                          \n",
       "[59] \"cDC\"                           \"iDC\"                          \n",
       "[61] \"ly.Endothelial.cells\"          \"mv.Endothelial.cells\"         \n",
       "[63] \"naive.B.cells\"                 \"pDC\"                          \n",
       "[65] \"pro.B.cells\"                  "
      ]
     },
     "metadata": {},
     "output_type": "display_data"
    }
   ],
   "source": [
    "colnames(xce_data)"
   ]
  },
  {
   "cell_type": "markdown",
   "metadata": {},
   "source": [
    "#### Remove non-leukocyte cells"
   ]
  },
  {
   "cell_type": "code",
   "execution_count": 28,
   "metadata": {},
   "outputs": [
    {
     "data": {
      "text/html": [
       "<ol class=list-inline>\n",
       "\t<li>'LeukocyteMeth_score'</li>\n",
       "\t<li>'B.cells'</li>\n",
       "\t<li>'Basophils'</li>\n",
       "\t<li>'CD4..T.cells'</li>\n",
       "\t<li>'CD4..Tcm'</li>\n",
       "\t<li>'CD4..Tem'</li>\n",
       "\t<li>'CD4..memory.T.cells'</li>\n",
       "\t<li>'CD4..naive.T.cells'</li>\n",
       "\t<li>'CD8..T.cells'</li>\n",
       "\t<li>'CD8..Tcm'</li>\n",
       "\t<li>'CD8..Tem'</li>\n",
       "\t<li>'CD8..naive.T.cells'</li>\n",
       "\t<li>'Class.switched.memory.B.cells'</li>\n",
       "\t<li>'DC'</li>\n",
       "\t<li>'Eosinophils'</li>\n",
       "\t<li>'GMP'</li>\n",
       "\t<li>'Macrophages'</li>\n",
       "\t<li>'Macrophages.M1'</li>\n",
       "\t<li>'Macrophages.M2'</li>\n",
       "\t<li>'Mast.cells'</li>\n",
       "\t<li>'Memory.B.cells'</li>\n",
       "\t<li>'Monocytes'</li>\n",
       "\t<li>'NK.cells'</li>\n",
       "\t<li>'NKT'</li>\n",
       "\t<li>'Neutrophils'</li>\n",
       "\t<li>'Plasma.cells'</li>\n",
       "\t<li>'Tgd.cells'</li>\n",
       "\t<li>'Th1.cells'</li>\n",
       "\t<li>'Th2.cells'</li>\n",
       "\t<li>'Tregs'</li>\n",
       "\t<li>'aDC'</li>\n",
       "\t<li>'cDC'</li>\n",
       "\t<li>'iDC'</li>\n",
       "\t<li>'naive.B.cells'</li>\n",
       "\t<li>'pDC'</li>\n",
       "\t<li>'pro.B.cells'</li>\n",
       "</ol>\n"
      ],
      "text/latex": [
       "\\begin{enumerate*}\n",
       "\\item 'LeukocyteMeth\\_score'\n",
       "\\item 'B.cells'\n",
       "\\item 'Basophils'\n",
       "\\item 'CD4..T.cells'\n",
       "\\item 'CD4..Tcm'\n",
       "\\item 'CD4..Tem'\n",
       "\\item 'CD4..memory.T.cells'\n",
       "\\item 'CD4..naive.T.cells'\n",
       "\\item 'CD8..T.cells'\n",
       "\\item 'CD8..Tcm'\n",
       "\\item 'CD8..Tem'\n",
       "\\item 'CD8..naive.T.cells'\n",
       "\\item 'Class.switched.memory.B.cells'\n",
       "\\item 'DC'\n",
       "\\item 'Eosinophils'\n",
       "\\item 'GMP'\n",
       "\\item 'Macrophages'\n",
       "\\item 'Macrophages.M1'\n",
       "\\item 'Macrophages.M2'\n",
       "\\item 'Mast.cells'\n",
       "\\item 'Memory.B.cells'\n",
       "\\item 'Monocytes'\n",
       "\\item 'NK.cells'\n",
       "\\item 'NKT'\n",
       "\\item 'Neutrophils'\n",
       "\\item 'Plasma.cells'\n",
       "\\item 'Tgd.cells'\n",
       "\\item 'Th1.cells'\n",
       "\\item 'Th2.cells'\n",
       "\\item 'Tregs'\n",
       "\\item 'aDC'\n",
       "\\item 'cDC'\n",
       "\\item 'iDC'\n",
       "\\item 'naive.B.cells'\n",
       "\\item 'pDC'\n",
       "\\item 'pro.B.cells'\n",
       "\\end{enumerate*}\n"
      ],
      "text/markdown": [
       "1. 'LeukocyteMeth_score'\n",
       "2. 'B.cells'\n",
       "3. 'Basophils'\n",
       "4. 'CD4..T.cells'\n",
       "5. 'CD4..Tcm'\n",
       "6. 'CD4..Tem'\n",
       "7. 'CD4..memory.T.cells'\n",
       "8. 'CD4..naive.T.cells'\n",
       "9. 'CD8..T.cells'\n",
       "10. 'CD8..Tcm'\n",
       "11. 'CD8..Tem'\n",
       "12. 'CD8..naive.T.cells'\n",
       "13. 'Class.switched.memory.B.cells'\n",
       "14. 'DC'\n",
       "15. 'Eosinophils'\n",
       "16. 'GMP'\n",
       "17. 'Macrophages'\n",
       "18. 'Macrophages.M1'\n",
       "19. 'Macrophages.M2'\n",
       "20. 'Mast.cells'\n",
       "21. 'Memory.B.cells'\n",
       "22. 'Monocytes'\n",
       "23. 'NK.cells'\n",
       "24. 'NKT'\n",
       "25. 'Neutrophils'\n",
       "26. 'Plasma.cells'\n",
       "27. 'Tgd.cells'\n",
       "28. 'Th1.cells'\n",
       "29. 'Th2.cells'\n",
       "30. 'Tregs'\n",
       "31. 'aDC'\n",
       "32. 'cDC'\n",
       "33. 'iDC'\n",
       "34. 'naive.B.cells'\n",
       "35. 'pDC'\n",
       "36. 'pro.B.cells'\n",
       "\n",
       "\n"
      ],
      "text/plain": [
       " [1] \"LeukocyteMeth_score\"           \"B.cells\"                      \n",
       " [3] \"Basophils\"                     \"CD4..T.cells\"                 \n",
       " [5] \"CD4..Tcm\"                      \"CD4..Tem\"                     \n",
       " [7] \"CD4..memory.T.cells\"           \"CD4..naive.T.cells\"           \n",
       " [9] \"CD8..T.cells\"                  \"CD8..Tcm\"                     \n",
       "[11] \"CD8..Tem\"                      \"CD8..naive.T.cells\"           \n",
       "[13] \"Class.switched.memory.B.cells\" \"DC\"                           \n",
       "[15] \"Eosinophils\"                   \"GMP\"                          \n",
       "[17] \"Macrophages\"                   \"Macrophages.M1\"               \n",
       "[19] \"Macrophages.M2\"                \"Mast.cells\"                   \n",
       "[21] \"Memory.B.cells\"                \"Monocytes\"                    \n",
       "[23] \"NK.cells\"                      \"NKT\"                          \n",
       "[25] \"Neutrophils\"                   \"Plasma.cells\"                 \n",
       "[27] \"Tgd.cells\"                     \"Th1.cells\"                    \n",
       "[29] \"Th2.cells\"                     \"Tregs\"                        \n",
       "[31] \"aDC\"                           \"cDC\"                          \n",
       "[33] \"iDC\"                           \"naive.B.cells\"                \n",
       "[35] \"pDC\"                           \"pro.B.cells\"                  "
      ]
     },
     "metadata": {},
     "output_type": "display_data"
    }
   ],
   "source": [
    "drops <- c('Adipocytes','Astrocytes','Chondrocytes','CLP','CMP','Endothelial.cells','Epithelial.cells','Erythrocytes',\n",
    "           'Fibroblasts','Hepatocytes','HSC','Keratinocytes','ly.Endothelial.cells','Megakaryocytes','Melanocytes','MEP',\n",
    "           'Mesangial.cells','MPP','MSC','mv.Endothelial.cells','Myocytes','Neurons','Osteoblast','Pericytes','Platelets',\n",
    "           'Preadipocytes','Sebocytes','Skeletal.muscle','Smooth.muscle','ImmuneScore','StromaScore','MicroenvironmentScore')\n",
    "\n",
    "xce_data <- xce_data[ , !(names(xce_data) %in% drops)]\n",
    "\n",
    "colnames(xce_data)\n"
   ]
  },
  {
   "cell_type": "code",
   "execution_count": 29,
   "metadata": {},
   "outputs": [
    {
     "data": {
      "text/html": [
       "<ol class=list-inline>\n",
       "\t<li>305</li>\n",
       "\t<li>36</li>\n",
       "</ol>\n"
      ],
      "text/latex": [
       "\\begin{enumerate*}\n",
       "\\item 305\n",
       "\\item 36\n",
       "\\end{enumerate*}\n"
      ],
      "text/markdown": [
       "1. 305\n",
       "2. 36\n",
       "\n",
       "\n"
      ],
      "text/plain": [
       "[1] 305  36"
      ]
     },
     "metadata": {},
     "output_type": "display_data"
    }
   ],
   "source": [
    "dim(xce_data)"
   ]
  },
  {
   "cell_type": "markdown",
   "metadata": {},
   "source": [
    "## Do multiple regression analysis"
   ]
  },
  {
   "cell_type": "code",
   "execution_count": 30,
   "metadata": {},
   "outputs": [],
   "source": [
    "bin_m1<-lm(LeukocyteMeth_score~., data=bin_data)\n",
    "dav_m1<-lm(LeukocyteMeth_score~., data=dav_data)\n",
    "dan_m1<-lm(LeukocyteMeth_score~., data=dan_data)\n",
    "con_m1<-lm(LeukocyteMeth_score~., data=con_data)\n",
    "cib_m1<-lm(LeukocyteMeth_score~., data=cib_data)\n",
    "mcp_m1<-lm(LeukocyteMeth_score~., data=mcp_data)\n",
    "tim_m1<-lm(LeukocyteMeth_score~., data=tim_data)\n",
    "xce_m1<-lm(LeukocyteMeth_score~., data=xce_data)"
   ]
  },
  {
   "cell_type": "markdown",
   "metadata": {},
   "source": [
    "### Evaluate normality of residuals"
   ]
  },
  {
   "cell_type": "code",
   "execution_count": 31,
   "metadata": {},
   "outputs": [],
   "source": [
    "p_values = c(\n",
    "    shapiro.test(bin_m1$res)$p,\n",
    "    shapiro.test(dav_m1$res)$p,\n",
    "    shapiro.test(dan_m1$res)$p,\n",
    "    shapiro.test(con_m1$res)$p,\n",
    "    shapiro.test(cib_m1$res)$p,\n",
    "    shapiro.test(mcp_m1$res)$p,\n",
    "    shapiro.test(tim_m1$res)$p,\n",
    "    shapiro.test(xce_m1$res)$p\n",
    ")\n",
    "\n",
    "adj.p_values <- c(p.adjust(p_values, method='fdr', n=length(p_values)))"
   ]
  },
  {
   "cell_type": "code",
   "execution_count": 32,
   "metadata": {},
   "outputs": [
    {
     "data": {
      "text/html": [
       "<table>\n",
       "<thead><tr><th scope=col>Method</th><th scope=col>Norm_Res_Adj_pvals</th></tr></thead>\n",
       "<tbody>\n",
       "\t<tr><td>Bindea      </td><td>1.536639e-09</td></tr>\n",
       "\t<tr><td>Davoli      </td><td>6.610000e-09</td></tr>\n",
       "\t<tr><td>Danaher     </td><td>3.596906e-08</td></tr>\n",
       "\t<tr><td>ConsensusTME</td><td>6.610000e-09</td></tr>\n",
       "\t<tr><td>Cibersort   </td><td>5.103905e-08</td></tr>\n",
       "\t<tr><td>MCP         </td><td>3.082377e-11</td></tr>\n",
       "\t<tr><td>TIMER       </td><td>1.939403e-04</td></tr>\n",
       "\t<tr><td>xCell       </td><td>4.462045e-08</td></tr>\n",
       "</tbody>\n",
       "</table>\n"
      ],
      "text/latex": [
       "\\begin{tabular}{r|ll}\n",
       " Method & Norm\\_Res\\_Adj\\_pvals\\\\\n",
       "\\hline\n",
       "\t Bindea       & 1.536639e-09\\\\\n",
       "\t Davoli       & 6.610000e-09\\\\\n",
       "\t Danaher      & 3.596906e-08\\\\\n",
       "\t ConsensusTME & 6.610000e-09\\\\\n",
       "\t Cibersort    & 5.103905e-08\\\\\n",
       "\t MCP          & 3.082377e-11\\\\\n",
       "\t TIMER        & 1.939403e-04\\\\\n",
       "\t xCell        & 4.462045e-08\\\\\n",
       "\\end{tabular}\n"
      ],
      "text/markdown": [
       "\n",
       "Method | Norm_Res_Adj_pvals | \n",
       "|---|---|---|---|---|---|---|---|\n",
       "| Bindea       | 1.536639e-09 | \n",
       "| Davoli       | 6.610000e-09 | \n",
       "| Danaher      | 3.596906e-08 | \n",
       "| ConsensusTME | 6.610000e-09 | \n",
       "| Cibersort    | 5.103905e-08 | \n",
       "| MCP          | 3.082377e-11 | \n",
       "| TIMER        | 1.939403e-04 | \n",
       "| xCell        | 4.462045e-08 | \n",
       "\n",
       "\n"
      ],
      "text/plain": [
       "  Method       Norm_Res_Adj_pvals\n",
       "1 Bindea       1.536639e-09      \n",
       "2 Davoli       6.610000e-09      \n",
       "3 Danaher      3.596906e-08      \n",
       "4 ConsensusTME 6.610000e-09      \n",
       "5 Cibersort    5.103905e-08      \n",
       "6 MCP          3.082377e-11      \n",
       "7 TIMER        1.939403e-04      \n",
       "8 xCell        4.462045e-08      "
      ]
     },
     "metadata": {},
     "output_type": "display_data"
    }
   ],
   "source": [
    "methods <- c(\n",
    "    'Bindea',\n",
    "    'Davoli',\n",
    "    'Danaher',\n",
    "    'ConsensusTME',\n",
    "    'Cibersort',\n",
    "    'MCP',\n",
    "    'TIMER',\n",
    "    'xCell'\n",
    ")\n",
    "\n",
    "adjpvals <- data.frame(\n",
    "    'Method'=methods,\n",
    "    'Norm_Res_Adj_pvals'=adj.p_values\n",
    ")\n",
    "\n",
    "adjpvals"
   ]
  },
  {
   "cell_type": "markdown",
   "metadata": {},
   "source": [
    "### Note: Normality of residuals assumption"
   ]
  },
  {
   "cell_type": "markdown",
   "metadata": {},
   "source": [
    "<p>\n",
    "    Since n is large (n=305), due to the central limit theorem, normality assumptions are not strictly required.</p>\n",
    "<p>    \n",
    "    See: https://www.ncbi.nlm.nih.gov/pubmed/11910059 </p>\n",
    "<p>\n",
    "    However, we can test both scenarios:</p>\n",
    "<p>    \n",
    "    1) Residuals' normality assumption is completely ignored</p>\n",
    "<p>        \n",
    "    2) Residuals' normality assumption is approached</p>"
   ]
  },
  {
   "cell_type": "markdown",
   "metadata": {},
   "source": [
    "## 1) Normality of residuals is ignored"
   ]
  },
  {
   "cell_type": "code",
   "execution_count": 33,
   "metadata": {},
   "outputs": [],
   "source": [
    "methods <- c(\n",
    "    'Bindea',\n",
    "    'Davoli',\n",
    "    'Danaher',\n",
    "    'ConsensusTME',\n",
    "    'Cibersort',\n",
    "    'MCP',\n",
    "    'TIMER',\n",
    "    'xCell'\n",
    ")\n",
    "\n",
    "adjrsqr <- c(\n",
    "    summary(bin_m1)$adj.r.squared,\n",
    "    summary(dav_m1)$adj.r.squared,\n",
    "    summary(dan_m1)$adj.r.squared,\n",
    "    summary(con_m1)$adj.r.squared,\n",
    "    summary(cib_m1)$adj.r.squared,\n",
    "    summary(mcp_m1)$adj.r.squared,\n",
    "    summary(tim_m1)$adj.r.squared,\n",
    "    summary(xce_m1)$adj.r.squared   \n",
    ")\n",
    "\n",
    "aic <- AIC(\n",
    "    bin_m1,\n",
    "    dav_m1,\n",
    "    dan_m1,\n",
    "    con_m1,\n",
    "    cib_m1,\n",
    "    mcp_m1,\n",
    "    tim_m1,\n",
    "    xce_m1\n",
    ")$AIC\n",
    "\n",
    "bic <- BIC(\n",
    "    bin_m1,\n",
    "    dav_m1,\n",
    "    dan_m1,\n",
    "    con_m1,\n",
    "    cib_m1,\n",
    "    mcp_m1,\n",
    "    tim_m1,\n",
    "    xce_m1\n",
    ")$BIC"
   ]
  },
  {
   "cell_type": "code",
   "execution_count": 34,
   "metadata": {},
   "outputs": [
    {
     "data": {
      "text/html": [
       "<table>\n",
       "<thead><tr><th scope=col>Method</th><th scope=col>Norm_Res_Adj_pvals</th><th scope=col>Adj.r.sqr</th><th scope=col>AIC</th><th scope=col>BIC</th></tr></thead>\n",
       "<tbody>\n",
       "\t<tr><td>Bindea      </td><td>1.536639e-09</td><td>0.6272973   </td><td> -994.4575  </td><td>-897.7294   </td></tr>\n",
       "\t<tr><td>Davoli      </td><td>6.610000e-09</td><td>0.6118627   </td><td> -995.2002  </td><td>-950.5565   </td></tr>\n",
       "\t<tr><td>Danaher     </td><td>3.596906e-08</td><td>0.6316077   </td><td>-1007.3026  </td><td>-947.7776   </td></tr>\n",
       "\t<tr><td>ConsensusTME</td><td>6.610000e-09</td><td>0.6656041   </td><td>-1033.0697  </td><td>-958.6635   </td></tr>\n",
       "\t<tr><td>Cibersort   </td><td>5.103905e-08</td><td>0.6948601   </td><td>-1057.2899  </td><td>-968.0024   </td></tr>\n",
       "\t<tr><td>MCP         </td><td>3.082377e-11</td><td>0.5515239   </td><td> -953.0610  </td><td>-915.8579   </td></tr>\n",
       "\t<tr><td>TIMER       </td><td>1.939403e-04</td><td>0.5909792   </td><td> -983.0944  </td><td>-953.3319   </td></tr>\n",
       "\t<tr><td>xCell       </td><td>4.462045e-08</td><td>0.6699459   </td><td>-1021.7463  </td><td>-884.0948   </td></tr>\n",
       "</tbody>\n",
       "</table>\n"
      ],
      "text/latex": [
       "\\begin{tabular}{r|lllll}\n",
       " Method & Norm\\_Res\\_Adj\\_pvals & Adj.r.sqr & AIC & BIC\\\\\n",
       "\\hline\n",
       "\t Bindea       & 1.536639e-09 & 0.6272973    &  -994.4575   & -897.7294   \\\\\n",
       "\t Davoli       & 6.610000e-09 & 0.6118627    &  -995.2002   & -950.5565   \\\\\n",
       "\t Danaher      & 3.596906e-08 & 0.6316077    & -1007.3026   & -947.7776   \\\\\n",
       "\t ConsensusTME & 6.610000e-09 & 0.6656041    & -1033.0697   & -958.6635   \\\\\n",
       "\t Cibersort    & 5.103905e-08 & 0.6948601    & -1057.2899   & -968.0024   \\\\\n",
       "\t MCP          & 3.082377e-11 & 0.5515239    &  -953.0610   & -915.8579   \\\\\n",
       "\t TIMER        & 1.939403e-04 & 0.5909792    &  -983.0944   & -953.3319   \\\\\n",
       "\t xCell        & 4.462045e-08 & 0.6699459    & -1021.7463   & -884.0948   \\\\\n",
       "\\end{tabular}\n"
      ],
      "text/markdown": [
       "\n",
       "Method | Norm_Res_Adj_pvals | Adj.r.sqr | AIC | BIC | \n",
       "|---|---|---|---|---|---|---|---|\n",
       "| Bindea       | 1.536639e-09 | 0.6272973    |  -994.4575   | -897.7294    | \n",
       "| Davoli       | 6.610000e-09 | 0.6118627    |  -995.2002   | -950.5565    | \n",
       "| Danaher      | 3.596906e-08 | 0.6316077    | -1007.3026   | -947.7776    | \n",
       "| ConsensusTME | 6.610000e-09 | 0.6656041    | -1033.0697   | -958.6635    | \n",
       "| Cibersort    | 5.103905e-08 | 0.6948601    | -1057.2899   | -968.0024    | \n",
       "| MCP          | 3.082377e-11 | 0.5515239    |  -953.0610   | -915.8579    | \n",
       "| TIMER        | 1.939403e-04 | 0.5909792    |  -983.0944   | -953.3319    | \n",
       "| xCell        | 4.462045e-08 | 0.6699459    | -1021.7463   | -884.0948    | \n",
       "\n",
       "\n"
      ],
      "text/plain": [
       "  Method       Norm_Res_Adj_pvals Adj.r.sqr AIC        BIC      \n",
       "1 Bindea       1.536639e-09       0.6272973  -994.4575 -897.7294\n",
       "2 Davoli       6.610000e-09       0.6118627  -995.2002 -950.5565\n",
       "3 Danaher      3.596906e-08       0.6316077 -1007.3026 -947.7776\n",
       "4 ConsensusTME 6.610000e-09       0.6656041 -1033.0697 -958.6635\n",
       "5 Cibersort    5.103905e-08       0.6948601 -1057.2899 -968.0024\n",
       "6 MCP          3.082377e-11       0.5515239  -953.0610 -915.8579\n",
       "7 TIMER        1.939403e-04       0.5909792  -983.0944 -953.3319\n",
       "8 xCell        4.462045e-08       0.6699459 -1021.7463 -884.0948"
      ]
     },
     "metadata": {},
     "output_type": "display_data"
    }
   ],
   "source": [
    "adjrsqr <- data.frame(\n",
    "    'Method'=methods,\n",
    "    'Norm_Res_Adj_pvals'=adj.p_values,\n",
    "    'Adj.r.sqr'=adjrsqr,\n",
    "    'AIC'=aic,\n",
    "    'BIC'=bic\n",
    ")\n",
    "\n",
    "adjrsqr"
   ]
  },
  {
   "cell_type": "markdown",
   "metadata": {},
   "source": [
    "### Save dataframe"
   ]
  },
  {
   "cell_type": "code",
   "execution_count": 35,
   "metadata": {},
   "outputs": [],
   "source": [
    "write.table(adjrsqr,\n",
    "            file='../../Data/3/TCGAov_methods_benchamrk_res_notNormal.txt',\n",
    "            sep='\\t',\n",
    "            row.names=F,\n",
    "            col.names=T)"
   ]
  },
  {
   "cell_type": "markdown",
   "metadata": {},
   "source": [
    "## 2) Normality of residuals is approached"
   ]
  },
  {
   "cell_type": "markdown",
   "metadata": {},
   "source": [
    "### Transfrom response variable using boxcox method"
   ]
  },
  {
   "cell_type": "code",
   "execution_count": null,
   "metadata": {},
   "outputs": [],
   "source": [
    "# conseusns boxcox\n",
    "con_m1_bxcx<-boxcox(con_m1,plotit=F)\n",
    "lambda_con <- con_m1_bxcx$x[con_m1_bxcx$y==max(con_m1_bxcx$y)]\n",
    "\n",
    "# bindea boxcox\n",
    "bin_m1_bxcx<-boxcox(bin_m1,plotit=F)\n",
    "lambda_bin <- bin_m1_bxcx$x[bin_m1_bxcx$y==max(bin_m1_bxcx$y)]\n",
    "\n",
    "# davoli boxcox\n",
    "dav_m1_bxcx<-boxcox(dav_m1,plotit=F)\n",
    "lambda_dav <- dav_m1_bxcx$x[dav_m1_bxcx$y==max(dav_m1_bxcx$y)]\n",
    "\n",
    "# danaher boxcox\n",
    "dan_m1_bxcx<-boxcox(dan_m1,plotit=F)\n",
    "lambda_dan <- dan_m1_bxcx$x[dan_m1_bxcx$y==max(dan_m1_bxcx$y)]\n",
    "\n",
    "# mcp boxcox\n",
    "mcp_m1_bxcx<-boxcox(mcp_m1,plotit=F)\n",
    "lambda_mcp <- mcp_m1_bxcx$x[mcp_m1_bxcx$y==max(mcp_m1_bxcx$y)]\n",
    "\n",
    "# cibersort boxcox\n",
    "cib_m1_bxcx<-boxcox(cib_m1,plotit=F)\n",
    "lambda_cib <- cib_m1_bxcx$x[cib_m1_bxcx$y==max(cib_m1_bxcx$y)]\n",
    "\n",
    "# timer boxcox\n",
    "tim_m1_bxcx<-boxcox(tim_m1,plotit=F)\n",
    "lambda_tim <- tim_m1_bxcx$x[tim_m1_bxcx$y==max(tim_m1_bxcx$y)]\n",
    "\n",
    "# xcell boxcox\n",
    "xce_m1_bxcx<-boxcox(xce_m1,plotit=F)\n",
    "lambda_xce <- xce_m1_bxcx$x[xce_m1_bxcx$y==max(xce_m1_bxcx$y)]"
   ]
  },
  {
   "cell_type": "code",
   "execution_count": null,
   "metadata": {},
   "outputs": [],
   "source": [
    "lambda<-median(c(\n",
    "    lambda_con,\n",
    "    lambda_bin,\n",
    "    lambda_dav,\n",
    "    lambda_dan,\n",
    "    lambda_mcp,\n",
    "    lambda_cib,\n",
    "    lambda_tim,\n",
    "    lambda_xce))\n",
    "\n",
    "lambda"
   ]
  },
  {
   "cell_type": "markdown",
   "metadata": {},
   "source": [
    "### Save untransformed leukocyte methylation score"
   ]
  },
  {
   "cell_type": "code",
   "execution_count": 36,
   "metadata": {},
   "outputs": [],
   "source": [
    "con_y<-con_data$LeukocyteMeth_score\n",
    "bin_y<-bin_data$LeukocyteMeth_score\n",
    "dan_y<-dan_data$LeukocyteMeth_score\n",
    "dav_y<-dav_data$LeukocyteMeth_score\n",
    "mcp_y<-mcp_data$LeukocyteMeth_score\n",
    "cib_y<-cib_data$LeukocyteMeth_score\n",
    "tim_y<-tim_data$LeukocyteMeth_score\n",
    "xce_y<-xce_data$LeukocyteMeth_score"
   ]
  },
  {
   "cell_type": "markdown",
   "metadata": {},
   "source": [
    "### Transform and assign response variable\n",
    "#### For lamda != 0 use: (y^lambda -1) / lambda\n",
    "#### For lambda == 0 use: log(y)"
   ]
  },
  {
   "cell_type": "code",
   "execution_count": null,
   "metadata": {},
   "outputs": [],
   "source": [
    "con_data$LeukocyteMeth_score<-(con_y^lambda - 1) / lambda\n",
    "bin_data$LeukocyteMeth_score<-(bin_y^lambda - 1) / lambda\n",
    "dav_data$LeukocyteMeth_score<-(dav_y^lambda - 1) / lambda\n",
    "dan_data$LeukocyteMeth_score<-(dan_y^lambda - 1) / lambda\n",
    "mcp_data$LeukocyteMeth_score<-(mcp_y^lambda - 1) / lambda\n",
    "cib_data$LeukocyteMeth_score<-(cib_y^lambda - 1) / lambda\n",
    "tim_data$LeukocyteMeth_score<-(tim_y^lambda - 1) / lambda\n",
    "xce_data$LeukocyteMeth_score<-(xce_y^lambda - 1) / lambda"
   ]
  },
  {
   "cell_type": "code",
   "execution_count": 37,
   "metadata": {},
   "outputs": [],
   "source": [
    "con_data$LeukocyteMeth_score<-(con_y^(1/3))\n",
    "bin_data$LeukocyteMeth_score<-(bin_y^(1/3))\n",
    "dav_data$LeukocyteMeth_score<-(dav_y^(1/3))\n",
    "dan_data$LeukocyteMeth_score<-(dan_y^(1/3))\n",
    "mcp_data$LeukocyteMeth_score<-(mcp_y^(1/3))\n",
    "cib_data$LeukocyteMeth_score<-(cib_y^(1/3))\n",
    "tim_data$LeukocyteMeth_score<-(tim_y^(1/3))\n",
    "xce_data$LeukocyteMeth_score<-(xce_y^(1/3))"
   ]
  },
  {
   "cell_type": "markdown",
   "metadata": {},
   "source": [
    "## Perform multiple linear regression with transformed response variable"
   ]
  },
  {
   "cell_type": "code",
   "execution_count": 38,
   "metadata": {},
   "outputs": [],
   "source": [
    "bin_m1_lambda<-lm(LeukocyteMeth_score~., data=bin_data)\n",
    "dav_m1_lambda<-lm(LeukocyteMeth_score~., data=dav_data)\n",
    "dan_m1_lambda<-lm(LeukocyteMeth_score~., data=dan_data)\n",
    "con_m1_lambda<-lm(LeukocyteMeth_score~., data=con_data)\n",
    "cib_m1_lambda<-lm(LeukocyteMeth_score~., data=cib_data)\n",
    "mcp_m1_lambda<-lm(LeukocyteMeth_score~., data=mcp_data)\n",
    "tim_m1_lambda<-lm(LeukocyteMeth_score~., data=tim_data)\n",
    "xce_m1_lambda<-lm(LeukocyteMeth_score~., data=xce_data)"
   ]
  },
  {
   "cell_type": "markdown",
   "metadata": {},
   "source": [
    "### Evaluate normality of residuals"
   ]
  },
  {
   "cell_type": "code",
   "execution_count": 39,
   "metadata": {},
   "outputs": [],
   "source": [
    "p_values_lambda = c(\n",
    "    shapiro.test(bin_m1_lambda$res)$p,\n",
    "    shapiro.test(dav_m1_lambda$res)$p,\n",
    "    shapiro.test(dan_m1_lambda$res)$p,\n",
    "    shapiro.test(con_m1_lambda$res)$p,\n",
    "    shapiro.test(cib_m1_lambda$res)$p,\n",
    "    shapiro.test(mcp_m1_lambda$res)$p,\n",
    "    shapiro.test(tim_m1_lambda$res)$p,\n",
    "    shapiro.test(xce_m1_lambda$res)$p\n",
    ")\n",
    "\n",
    "adj.p_values_lambda <- c(p.adjust(\n",
    "    p_values_lambda,\n",
    "    method='fdr',\n",
    "    n=length(p_values_lambda)))"
   ]
  },
  {
   "cell_type": "code",
   "execution_count": 40,
   "metadata": {},
   "outputs": [
    {
     "data": {
      "text/html": [
       "<table>\n",
       "<thead><tr><th scope=col>Method</th><th scope=col>Norm_Res_Adj_pvals_lambda</th></tr></thead>\n",
       "<tbody>\n",
       "\t<tr><td>Bindea      </td><td>0.008881381 </td></tr>\n",
       "\t<tr><td>Davoli      </td><td>0.006043508 </td></tr>\n",
       "\t<tr><td>Danaher     </td><td>0.016790879 </td></tr>\n",
       "\t<tr><td>ConsensusTME</td><td>0.116255555 </td></tr>\n",
       "\t<tr><td>Cibersort   </td><td>0.068940401 </td></tr>\n",
       "\t<tr><td>MCP         </td><td>0.001291623 </td></tr>\n",
       "\t<tr><td>TIMER       </td><td>0.876255432 </td></tr>\n",
       "\t<tr><td>xCell       </td><td>0.112684625 </td></tr>\n",
       "</tbody>\n",
       "</table>\n"
      ],
      "text/latex": [
       "\\begin{tabular}{r|ll}\n",
       " Method & Norm\\_Res\\_Adj\\_pvals\\_lambda\\\\\n",
       "\\hline\n",
       "\t Bindea       & 0.008881381 \\\\\n",
       "\t Davoli       & 0.006043508 \\\\\n",
       "\t Danaher      & 0.016790879 \\\\\n",
       "\t ConsensusTME & 0.116255555 \\\\\n",
       "\t Cibersort    & 0.068940401 \\\\\n",
       "\t MCP          & 0.001291623 \\\\\n",
       "\t TIMER        & 0.876255432 \\\\\n",
       "\t xCell        & 0.112684625 \\\\\n",
       "\\end{tabular}\n"
      ],
      "text/markdown": [
       "\n",
       "Method | Norm_Res_Adj_pvals_lambda | \n",
       "|---|---|---|---|---|---|---|---|\n",
       "| Bindea       | 0.008881381  | \n",
       "| Davoli       | 0.006043508  | \n",
       "| Danaher      | 0.016790879  | \n",
       "| ConsensusTME | 0.116255555  | \n",
       "| Cibersort    | 0.068940401  | \n",
       "| MCP          | 0.001291623  | \n",
       "| TIMER        | 0.876255432  | \n",
       "| xCell        | 0.112684625  | \n",
       "\n",
       "\n"
      ],
      "text/plain": [
       "  Method       Norm_Res_Adj_pvals_lambda\n",
       "1 Bindea       0.008881381              \n",
       "2 Davoli       0.006043508              \n",
       "3 Danaher      0.016790879              \n",
       "4 ConsensusTME 0.116255555              \n",
       "5 Cibersort    0.068940401              \n",
       "6 MCP          0.001291623              \n",
       "7 TIMER        0.876255432              \n",
       "8 xCell        0.112684625              "
      ]
     },
     "metadata": {},
     "output_type": "display_data"
    }
   ],
   "source": [
    "methods <- c(\n",
    "    'Bindea',\n",
    "    'Davoli',\n",
    "    'Danaher',\n",
    "    'ConsensusTME',\n",
    "    'Cibersort',\n",
    "    'MCP',\n",
    "    'TIMER',\n",
    "    'xCell'\n",
    ")\n",
    "\n",
    "adjpvals_lambda <- data.frame(\n",
    "    'Method'=methods,\n",
    "    'Norm_Res_Adj_pvals_lambda'=adj.p_values_lambda\n",
    ")\n",
    "\n",
    "adjpvals_lambda"
   ]
  },
  {
   "cell_type": "code",
   "execution_count": 41,
   "metadata": {},
   "outputs": [],
   "source": [
    "methods <- c(\n",
    "    'Bindea',\n",
    "    'Davoli',\n",
    "    'Danaher',\n",
    "    'ConsensusTME',\n",
    "    'Cibersort',\n",
    "    'MCP',\n",
    "    'TIMER',\n",
    "    'xCell'\n",
    ")\n",
    "\n",
    "adjrsqr_lambda <- c(\n",
    "    summary(bin_m1_lambda)$adj.r.squared,\n",
    "    summary(dav_m1_lambda)$adj.r.squared,\n",
    "    summary(dan_m1_lambda)$adj.r.squared,\n",
    "    summary(con_m1_lambda)$adj.r.squared,\n",
    "    summary(cib_m1_lambda)$adj.r.squared,\n",
    "    summary(mcp_m1_lambda)$adj.r.squared,\n",
    "    summary(tim_m1_lambda)$adj.r.squared,\n",
    "    summary(xce_m1_lambda)$adj.r.squared   \n",
    ")\n",
    "\n",
    "aic_lambda <- AIC(\n",
    "    bin_m1_lambda,\n",
    "    dav_m1_lambda,\n",
    "    dan_m1_lambda,\n",
    "    con_m1_lambda,\n",
    "    cib_m1_lambda,\n",
    "    mcp_m1_lambda,\n",
    "    tim_m1_lambda,\n",
    "    xce_m1_lambda\n",
    ")$AIC\n",
    "\n",
    "bic_lambda <- BIC(\n",
    "    bin_m1_lambda,\n",
    "    dav_m1_lambda,\n",
    "    dan_m1_lambda,\n",
    "    con_m1_lambda,\n",
    "    cib_m1_lambda,\n",
    "    mcp_m1_lambda,\n",
    "    tim_m1_lambda,\n",
    "    xce_m1_lambda\n",
    ")$BIC"
   ]
  },
  {
   "cell_type": "code",
   "execution_count": 42,
   "metadata": {},
   "outputs": [
    {
     "data": {
      "text/html": [
       "<table>\n",
       "<thead><tr><th scope=col>Method</th><th scope=col>Norm_Res_Adj_pvals_lambda</th><th scope=col>Adj.r.sqr</th><th scope=col>AIC</th><th scope=col>BIC</th></tr></thead>\n",
       "<tbody>\n",
       "\t<tr><td>Bindea      </td><td>0.008881381 </td><td>0.6831239   </td><td>-855.3969   </td><td>-758.6688   </td></tr>\n",
       "\t<tr><td>Davoli      </td><td>0.006043508 </td><td>0.6700824   </td><td>-856.2147   </td><td>-811.5709   </td></tr>\n",
       "\t<tr><td>Danaher     </td><td>0.016790879 </td><td>0.6733055   </td><td>-855.3871   </td><td>-795.8621   </td></tr>\n",
       "\t<tr><td>ConsensusTME</td><td>0.116255555 </td><td>0.7095478   </td><td>-887.4872   </td><td>-813.0810   </td></tr>\n",
       "\t<tr><td>Cibersort   </td><td>0.068940401 </td><td>0.6817078   </td><td>-855.8661   </td><td>-766.5786   </td></tr>\n",
       "\t<tr><td>MCP         </td><td>0.001291623 </td><td>0.5341770   </td><td>-752.9332   </td><td>-715.7300   </td></tr>\n",
       "\t<tr><td>TIMER       </td><td>0.876255432 </td><td>0.5983720   </td><td>-800.1046   </td><td>-770.3421   </td></tr>\n",
       "\t<tr><td>xCell       </td><td>0.112684625 </td><td>0.6622572   </td><td>-826.1698   </td><td>-688.5182   </td></tr>\n",
       "</tbody>\n",
       "</table>\n"
      ],
      "text/latex": [
       "\\begin{tabular}{r|lllll}\n",
       " Method & Norm\\_Res\\_Adj\\_pvals\\_lambda & Adj.r.sqr & AIC & BIC\\\\\n",
       "\\hline\n",
       "\t Bindea       & 0.008881381  & 0.6831239    & -855.3969    & -758.6688   \\\\\n",
       "\t Davoli       & 0.006043508  & 0.6700824    & -856.2147    & -811.5709   \\\\\n",
       "\t Danaher      & 0.016790879  & 0.6733055    & -855.3871    & -795.8621   \\\\\n",
       "\t ConsensusTME & 0.116255555  & 0.7095478    & -887.4872    & -813.0810   \\\\\n",
       "\t Cibersort    & 0.068940401  & 0.6817078    & -855.8661    & -766.5786   \\\\\n",
       "\t MCP          & 0.001291623  & 0.5341770    & -752.9332    & -715.7300   \\\\\n",
       "\t TIMER        & 0.876255432  & 0.5983720    & -800.1046    & -770.3421   \\\\\n",
       "\t xCell        & 0.112684625  & 0.6622572    & -826.1698    & -688.5182   \\\\\n",
       "\\end{tabular}\n"
      ],
      "text/markdown": [
       "\n",
       "Method | Norm_Res_Adj_pvals_lambda | Adj.r.sqr | AIC | BIC | \n",
       "|---|---|---|---|---|---|---|---|\n",
       "| Bindea       | 0.008881381  | 0.6831239    | -855.3969    | -758.6688    | \n",
       "| Davoli       | 0.006043508  | 0.6700824    | -856.2147    | -811.5709    | \n",
       "| Danaher      | 0.016790879  | 0.6733055    | -855.3871    | -795.8621    | \n",
       "| ConsensusTME | 0.116255555  | 0.7095478    | -887.4872    | -813.0810    | \n",
       "| Cibersort    | 0.068940401  | 0.6817078    | -855.8661    | -766.5786    | \n",
       "| MCP          | 0.001291623  | 0.5341770    | -752.9332    | -715.7300    | \n",
       "| TIMER        | 0.876255432  | 0.5983720    | -800.1046    | -770.3421    | \n",
       "| xCell        | 0.112684625  | 0.6622572    | -826.1698    | -688.5182    | \n",
       "\n",
       "\n"
      ],
      "text/plain": [
       "  Method       Norm_Res_Adj_pvals_lambda Adj.r.sqr AIC       BIC      \n",
       "1 Bindea       0.008881381               0.6831239 -855.3969 -758.6688\n",
       "2 Davoli       0.006043508               0.6700824 -856.2147 -811.5709\n",
       "3 Danaher      0.016790879               0.6733055 -855.3871 -795.8621\n",
       "4 ConsensusTME 0.116255555               0.7095478 -887.4872 -813.0810\n",
       "5 Cibersort    0.068940401               0.6817078 -855.8661 -766.5786\n",
       "6 MCP          0.001291623               0.5341770 -752.9332 -715.7300\n",
       "7 TIMER        0.876255432               0.5983720 -800.1046 -770.3421\n",
       "8 xCell        0.112684625               0.6622572 -826.1698 -688.5182"
      ]
     },
     "metadata": {},
     "output_type": "display_data"
    }
   ],
   "source": [
    "results_lambda <- data.frame(\n",
    "    'Method'   = methods,\n",
    "    'Norm_Res_Adj_pvals_lambda'= adj.p_values_lambda,\n",
    "    'Adj.r.sqr'= adjrsqr_lambda,\n",
    "    'AIC'      = aic_lambda,\n",
    "    'BIC'      = bic_lambda\n",
    ")\n",
    "\n",
    "results_lambda"
   ]
  },
  {
   "cell_type": "code",
   "execution_count": null,
   "metadata": {},
   "outputs": [],
   "source": [
    "summary(con_m1)"
   ]
  },
  {
   "cell_type": "code",
   "execution_count": null,
   "metadata": {},
   "outputs": [],
   "source": [
    "library( broom )"
   ]
  },
  {
   "cell_type": "code",
   "execution_count": null,
   "metadata": {},
   "outputs": [],
   "source": [
    "write.table( tidy( con_m1 ) , \"../../Data/3/ConsensusTME_notNormal.txt\" , sep='\\t')\n",
    "#write.csv( glance( con_m1_lambda ) , \"an.csv\" )"
   ]
  },
  {
   "cell_type": "markdown",
   "metadata": {},
   "source": [
    "### Save dataframe"
   ]
  },
  {
   "cell_type": "code",
   "execution_count": null,
   "metadata": {},
   "outputs": [],
   "source": [
    "write.table(results_lambda,\n",
    "            file='../../Data/3/TCGAov_methods_benchamrk_res_nearNormal.txt',\n",
    "            sep='\\t',\n",
    "            row.names=F,\n",
    "            col.names=T)"
   ]
  },
  {
   "cell_type": "markdown",
   "metadata": {},
   "source": [
    "# End script"
   ]
  }
 ],
 "metadata": {
  "kernelspec": {
   "display_name": "R",
   "language": "R",
   "name": "ir"
  },
  "language_info": {
   "codemirror_mode": "r",
   "file_extension": ".r",
   "mimetype": "text/x-r-source",
   "name": "R",
   "pygments_lexer": "r",
   "version": "3.5.0"
  }
 },
 "nbformat": 4,
 "nbformat_minor": 2
}

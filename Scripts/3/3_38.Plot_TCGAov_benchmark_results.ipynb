{
 "cells": [
  {
   "cell_type": "markdown",
   "metadata": {},
   "source": [
    "# Plot TCGAov leukocte methylation benchmark results"
   ]
  },
  {
   "cell_type": "markdown",
   "metadata": {},
   "source": [
    "Script related to figure s3c\n",
    "\n",
    "### Aim:\n",
    "- Plot TCGAov leukocyte methylation benchmark results (adjusted R squared, AIC, BIC)."
   ]
  },
  {
   "cell_type": "code",
   "execution_count": 1,
   "metadata": {},
   "outputs": [
    {
     "name": "stdout",
     "output_type": "stream",
     "text": [
      "Python 3.6.8 :: Anaconda custom (64-bit)\r\n"
     ]
    }
   ],
   "source": [
    "!python --version"
   ]
  },
  {
   "cell_type": "markdown",
   "metadata": {},
   "source": [
    "## Import packages"
   ]
  },
  {
   "cell_type": "code",
   "execution_count": 2,
   "metadata": {},
   "outputs": [],
   "source": [
    "import pandas as pd"
   ]
  },
  {
   "cell_type": "code",
   "execution_count": 3,
   "metadata": {},
   "outputs": [],
   "source": [
    "home = \"~/git_repos/HGSOC_TME_Heterogeneity/\""
   ]
  },
  {
   "cell_type": "markdown",
   "metadata": {},
   "source": [
    "## Load benchmark results with residuals' distribution ~ normal"
   ]
  },
  {
   "cell_type": "code",
   "execution_count": 4,
   "metadata": {},
   "outputs": [
    {
     "data": {
      "text/html": [
       "<div>\n",
       "<style scoped>\n",
       "    .dataframe tbody tr th:only-of-type {\n",
       "        vertical-align: middle;\n",
       "    }\n",
       "\n",
       "    .dataframe tbody tr th {\n",
       "        vertical-align: top;\n",
       "    }\n",
       "\n",
       "    .dataframe thead th {\n",
       "        text-align: right;\n",
       "    }\n",
       "</style>\n",
       "<table border=\"1\" class=\"dataframe\">\n",
       "  <thead>\n",
       "    <tr style=\"text-align: right;\">\n",
       "      <th></th>\n",
       "      <th>Norm_Res_Adj_pvals_lambda</th>\n",
       "      <th>Adj.r.sqr</th>\n",
       "      <th>AIC</th>\n",
       "      <th>BIC</th>\n",
       "    </tr>\n",
       "    <tr>\n",
       "      <th>Method</th>\n",
       "      <th></th>\n",
       "      <th></th>\n",
       "      <th></th>\n",
       "      <th></th>\n",
       "    </tr>\n",
       "  </thead>\n",
       "  <tbody>\n",
       "    <tr>\n",
       "      <th>Bindea</th>\n",
       "      <td>0.006853</td>\n",
       "      <td>0.683030</td>\n",
       "      <td>-208.592699</td>\n",
       "      <td>-111.864593</td>\n",
       "    </tr>\n",
       "    <tr>\n",
       "      <th>Davoli</th>\n",
       "      <td>0.004479</td>\n",
       "      <td>0.669651</td>\n",
       "      <td>-209.101940</td>\n",
       "      <td>-164.458198</td>\n",
       "    </tr>\n",
       "    <tr>\n",
       "      <th>Danaher</th>\n",
       "      <td>0.011153</td>\n",
       "      <td>0.673419</td>\n",
       "      <td>-208.778923</td>\n",
       "      <td>-149.253935</td>\n",
       "    </tr>\n",
       "    <tr>\n",
       "      <th>ConsensusTME</th>\n",
       "      <td>0.102456</td>\n",
       "      <td>0.709829</td>\n",
       "      <td>-241.068273</td>\n",
       "      <td>-166.662037</td>\n",
       "    </tr>\n",
       "    <tr>\n",
       "      <th>Cibersort</th>\n",
       "      <td>0.061818</td>\n",
       "      <td>0.683550</td>\n",
       "      <td>-210.923001</td>\n",
       "      <td>-121.635518</td>\n",
       "    </tr>\n",
       "    <tr>\n",
       "      <th>MCP</th>\n",
       "      <td>0.001183</td>\n",
       "      <td>0.535940</td>\n",
       "      <td>-107.375917</td>\n",
       "      <td>-70.172800</td>\n",
       "    </tr>\n",
       "    <tr>\n",
       "      <th>TIMER</th>\n",
       "      <td>0.854018</td>\n",
       "      <td>0.599400</td>\n",
       "      <td>-154.172243</td>\n",
       "      <td>-124.409749</td>\n",
       "    </tr>\n",
       "    <tr>\n",
       "      <th>xCell</th>\n",
       "      <td>0.082213</td>\n",
       "      <td>0.663169</td>\n",
       "      <td>-180.280052</td>\n",
       "      <td>-42.628516</td>\n",
       "    </tr>\n",
       "  </tbody>\n",
       "</table>\n",
       "</div>"
      ],
      "text/plain": [
       "              Norm_Res_Adj_pvals_lambda  Adj.r.sqr         AIC         BIC\n",
       "Method                                                                    \n",
       "Bindea                         0.006853   0.683030 -208.592699 -111.864593\n",
       "Davoli                         0.004479   0.669651 -209.101940 -164.458198\n",
       "Danaher                        0.011153   0.673419 -208.778923 -149.253935\n",
       "ConsensusTME                   0.102456   0.709829 -241.068273 -166.662037\n",
       "Cibersort                      0.061818   0.683550 -210.923001 -121.635518\n",
       "MCP                            0.001183   0.535940 -107.375917  -70.172800\n",
       "TIMER                          0.854018   0.599400 -154.172243 -124.409749\n",
       "xCell                          0.082213   0.663169 -180.280052  -42.628516"
      ]
     },
     "execution_count": 4,
     "metadata": {},
     "output_type": "execute_result"
    }
   ],
   "source": [
    "file_bench_normres = home + 'Data/3/TCGAov_methods_benchamrk_res_nearNormal.txt'\n",
    "\n",
    "bench_normres = pd.read_csv(\n",
    "    file_bench_normres,\n",
    "    sep='\\t',\n",
    "    index_col='Method'\n",
    ")\n",
    "\n",
    "bench_normres"
   ]
  },
  {
   "cell_type": "markdown",
   "metadata": {},
   "source": [
    "## Load benchmark results with residuals' distribution != normal"
   ]
  },
  {
   "cell_type": "code",
   "execution_count": 5,
   "metadata": {},
   "outputs": [
    {
     "data": {
      "text/html": [
       "<div>\n",
       "<style scoped>\n",
       "    .dataframe tbody tr th:only-of-type {\n",
       "        vertical-align: middle;\n",
       "    }\n",
       "\n",
       "    .dataframe tbody tr th {\n",
       "        vertical-align: top;\n",
       "    }\n",
       "\n",
       "    .dataframe thead th {\n",
       "        text-align: right;\n",
       "    }\n",
       "</style>\n",
       "<table border=\"1\" class=\"dataframe\">\n",
       "  <thead>\n",
       "    <tr style=\"text-align: right;\">\n",
       "      <th></th>\n",
       "      <th>Norm_Res_Adj_pvals</th>\n",
       "      <th>Adj.r.sqr</th>\n",
       "      <th>AIC</th>\n",
       "      <th>BIC</th>\n",
       "    </tr>\n",
       "    <tr>\n",
       "      <th>Method</th>\n",
       "      <th></th>\n",
       "      <th></th>\n",
       "      <th></th>\n",
       "      <th></th>\n",
       "    </tr>\n",
       "  </thead>\n",
       "  <tbody>\n",
       "    <tr>\n",
       "      <th>Bindea</th>\n",
       "      <td>1.536639e-09</td>\n",
       "      <td>0.627297</td>\n",
       "      <td>-994.457537</td>\n",
       "      <td>-897.729431</td>\n",
       "    </tr>\n",
       "    <tr>\n",
       "      <th>Davoli</th>\n",
       "      <td>6.610000e-09</td>\n",
       "      <td>0.611863</td>\n",
       "      <td>-995.200219</td>\n",
       "      <td>-950.556477</td>\n",
       "    </tr>\n",
       "    <tr>\n",
       "      <th>Danaher</th>\n",
       "      <td>3.596906e-08</td>\n",
       "      <td>0.631608</td>\n",
       "      <td>-1007.302576</td>\n",
       "      <td>-947.777587</td>\n",
       "    </tr>\n",
       "    <tr>\n",
       "      <th>ConsensusTME</th>\n",
       "      <td>6.610000e-09</td>\n",
       "      <td>0.665604</td>\n",
       "      <td>-1033.069741</td>\n",
       "      <td>-958.663505</td>\n",
       "    </tr>\n",
       "    <tr>\n",
       "      <th>Cibersort</th>\n",
       "      <td>5.103905e-08</td>\n",
       "      <td>0.694860</td>\n",
       "      <td>-1057.289929</td>\n",
       "      <td>-968.002446</td>\n",
       "    </tr>\n",
       "    <tr>\n",
       "      <th>MCP</th>\n",
       "      <td>3.082377e-11</td>\n",
       "      <td>0.551524</td>\n",
       "      <td>-953.060998</td>\n",
       "      <td>-915.857880</td>\n",
       "    </tr>\n",
       "    <tr>\n",
       "      <th>TIMER</th>\n",
       "      <td>1.939403e-04</td>\n",
       "      <td>0.590979</td>\n",
       "      <td>-983.094373</td>\n",
       "      <td>-953.331878</td>\n",
       "    </tr>\n",
       "    <tr>\n",
       "      <th>xCell</th>\n",
       "      <td>4.462045e-08</td>\n",
       "      <td>0.669946</td>\n",
       "      <td>-1021.746329</td>\n",
       "      <td>-884.094793</td>\n",
       "    </tr>\n",
       "  </tbody>\n",
       "</table>\n",
       "</div>"
      ],
      "text/plain": [
       "              Norm_Res_Adj_pvals  Adj.r.sqr          AIC         BIC\n",
       "Method                                                              \n",
       "Bindea              1.536639e-09   0.627297  -994.457537 -897.729431\n",
       "Davoli              6.610000e-09   0.611863  -995.200219 -950.556477\n",
       "Danaher             3.596906e-08   0.631608 -1007.302576 -947.777587\n",
       "ConsensusTME        6.610000e-09   0.665604 -1033.069741 -958.663505\n",
       "Cibersort           5.103905e-08   0.694860 -1057.289929 -968.002446\n",
       "MCP                 3.082377e-11   0.551524  -953.060998 -915.857880\n",
       "TIMER               1.939403e-04   0.590979  -983.094373 -953.331878\n",
       "xCell               4.462045e-08   0.669946 -1021.746329 -884.094793"
      ]
     },
     "execution_count": 5,
     "metadata": {},
     "output_type": "execute_result"
    }
   ],
   "source": [
    "file_bench_notnormres = home + 'Data/3/TCGAov_methods_benchamrk_res_notNormal.txt'\n",
    "\n",
    "bench_notnormres = pd.read_csv(\n",
    "    file_bench_notnormres,\n",
    "    sep='\\t',\n",
    "    index_col='Method'\n",
    ")\n",
    "\n",
    "bench_notnormres"
   ]
  },
  {
   "cell_type": "markdown",
   "metadata": {},
   "source": [
    "## Plot barplot correlations"
   ]
  },
  {
   "cell_type": "markdown",
   "metadata": {},
   "source": [
    "### Define method colour"
   ]
  },
  {
   "cell_type": "code",
   "execution_count": 6,
   "metadata": {},
   "outputs": [],
   "source": [
    "method_colours = dict({\n",
    "    'Cibersort'    : '#6FCCDD',\n",
    "    'MCP'          : '#B9529F',\n",
    "    'Danaher'      : '#0E8040',\n",
    "    'xCell'        : '#F7931D',\n",
    "    'Bindea'       : '#F6EB16',\n",
    "    'Davoli'       : '#231F20',\n",
    "    'ConsensusTME' : '#3953A4',\n",
    "    'TIMER'        : '#FF0000'\n",
    "})"
   ]
  },
  {
   "cell_type": "markdown",
   "metadata": {},
   "source": [
    "## Plot results of benchmark where resiudals distribution ~ normality"
   ]
  },
  {
   "cell_type": "markdown",
   "metadata": {},
   "source": [
    "### Adjusted R squared"
   ]
  },
  {
   "cell_type": "code",
   "execution_count": 7,
   "metadata": {},
   "outputs": [],
   "source": [
    "bar_colors = [method_colours[c] for c in bench_normres[\"Adj.r.sqr\"].sort_values().index]"
   ]
  },
  {
   "cell_type": "code",
   "execution_count": 8,
   "metadata": {},
   "outputs": [],
   "source": [
    "ax = bench_normres['Adj.r.sqr'].sort_values().plot(\n",
    "    kind=\"bar\",\n",
    "    color=bar_colors,\n",
    "    figsize=(5,5),\n",
    "    title=\"Adj.r.sqr norm res\",\n",
    "    ylim=(0,1)\n",
    ")"
   ]
  },
  {
   "cell_type": "code",
   "execution_count": 9,
   "metadata": {},
   "outputs": [],
   "source": [
    "fig = ax.get_figure()\n",
    "\n",
    "fig.savefig('../../Figures/supplementary/3/panels/3b_TCGAov_adjrsqr_normres.pdf',\n",
    "            bbox_tight=True)"
   ]
  },
  {
   "cell_type": "markdown",
   "metadata": {},
   "source": [
    "### AIC"
   ]
  },
  {
   "cell_type": "code",
   "execution_count": 10,
   "metadata": {},
   "outputs": [],
   "source": [
    "bar_colors = [method_colours[c] for c in bench_normres[\"AIC\"].sort_values().index]"
   ]
  },
  {
   "cell_type": "code",
   "execution_count": 11,
   "metadata": {},
   "outputs": [
    {
     "data": {
      "image/png": "[encoded data removed]",
      "text/plain": [
       "<Figure size 360x360 with 1 Axes>"
      ]
     },
     "metadata": {},
     "output_type": "display_data"
    }
   ],
   "source": [
    "ax = bench_normres[\"AIC\"].sort_values().plot(\n",
    "    kind=\"bar\",\n",
    "    color=bar_colors,\n",
    "    figsize=(5,5),\n",
    "    title=\"AIC norm res\"\n",
    ")"
   ]
  },
  {
   "cell_type": "code",
   "execution_count": 12,
   "metadata": {},
   "outputs": [],
   "source": [
    "fig = ax.get_figure()\n",
    "\n",
    "fig.savefig('../../Figures/supplementary/3/panels/3b_TCGAov_aic_normres.pdf',\n",
    "            bbox_tight=True)"
   ]
  },
  {
   "cell_type": "markdown",
   "metadata": {},
   "source": [
    "### BIC"
   ]
  },
  {
   "cell_type": "code",
   "execution_count": 13,
   "metadata": {},
   "outputs": [],
   "source": [
    "bar_colors = [method_colours[c] for c in bench_normres[\"BIC\"].sort_values().index]"
   ]
  },
  {
   "cell_type": "code",
   "execution_count": 14,
   "metadata": {},
   "outputs": [
    {
     "data": {
      "image/png": "[encoded data removed]",
      "text/plain": [
       "<Figure size 360x360 with 1 Axes>"
      ]
     },
     "metadata": {},
     "output_type": "display_data"
    }
   ],
   "source": [
    "ax = bench_normres[\"BIC\"].sort_values().plot(\n",
    "    kind=\"bar\",\n",
    "    color=bar_colors,\n",
    "    figsize=(5,5),\n",
    "    title=\"BIC norm res\"\n",
    ")"
   ]
  },
  {
   "cell_type": "code",
   "execution_count": 15,
   "metadata": {},
   "outputs": [],
   "source": [
    "fig = ax.get_figure()\n",
    "\n",
    "fig.savefig('../../Figures/supplementary/3/panels/3b_TCGAov_bic_normres.pdf',\n",
    "            bbox_tight=True)"
   ]
  },
  {
   "cell_type": "markdown",
   "metadata": {},
   "source": [
    "## Plot results of benchmark where resiudals distribution != normality"
   ]
  },
  {
   "cell_type": "markdown",
   "metadata": {},
   "source": [
    "### Adjusted R squared"
   ]
  },
  {
   "cell_type": "code",
   "execution_count": 19,
   "metadata": {},
   "outputs": [],
   "source": [
    "bar_colors = [method_colours[c] for c in bench_notnormres[\"Adj.r.sqr\"].sort_values().index]"
   ]
  },
  {
   "cell_type": "code",
   "execution_count": 20,
   "metadata": {},
   "outputs": [
    {
     "data": {
      "image/png": "[encoded data removed]",
      "text/plain": [
       "<Figure size 360x360 with 1 Axes>"
      ]
     },
     "metadata": {},
     "output_type": "display_data"
    }
   ],
   "source": [
    "ax = bench_notnormres['Adj.r.sqr'].sort_values().plot(\n",
    "    kind=\"bar\",\n",
    "    color=bar_colors,\n",
    "    figsize=(5,5),\n",
    "    title=\"Adj.r.sqr not norm res\",\n",
    "    ylim=(0,1)\n",
    ")"
   ]
  },
  {
   "cell_type": "code",
   "execution_count": 21,
   "metadata": {},
   "outputs": [],
   "source": [
    "fig = ax.get_figure()\n",
    "\n",
    "fig.savefig('../../Figures/supplementary/3/panels/s3c_TCGAov_adjrsqr_notnormres.pdf',\n",
    "            bbox_tight=True)"
   ]
  },
  {
   "cell_type": "markdown",
   "metadata": {},
   "source": [
    "### AIC"
   ]
  },
  {
   "cell_type": "code",
   "execution_count": 22,
   "metadata": {},
   "outputs": [],
   "source": [
    "bar_colors = [method_colours[c] for c in bench_notnormres[\"AIC\"].sort_values().index]"
   ]
  },
  {
   "cell_type": "code",
   "execution_count": 23,
   "metadata": {},
   "outputs": [
    {
     "data": {
      "image/png": "[encoded data removed]",
      "text/plain": [
       "<Figure size 360x360 with 1 Axes>"
      ]
     },
     "metadata": {},
     "output_type": "display_data"
    }
   ],
   "source": [
    "ax = bench_notnormres[\"AIC\"].sort_values().plot(\n",
    "    kind=\"bar\",\n",
    "    color=bar_colors,\n",
    "    figsize=(5,5),\n",
    "    title=\"AIC not norm res\"\n",
    ")"
   ]
  },
  {
   "cell_type": "code",
   "execution_count": 24,
   "metadata": {},
   "outputs": [],
   "source": [
    "fig = ax.get_figure()\n",
    "\n",
    "fig.savefig('../../Figures/supplementary/3/panels/s3c_TCGAov_aic_notnormres.pdf',\n",
    "            bbox_tight=True)"
   ]
  },
  {
   "cell_type": "markdown",
   "metadata": {},
   "source": [
    "### BIC"
   ]
  },
  {
   "cell_type": "code",
   "execution_count": 25,
   "metadata": {},
   "outputs": [],
   "source": [
    "bar_colors = [method_colours[c] for c in bench_notnormres[\"BIC\"].sort_values().index]"
   ]
  },
  {
   "cell_type": "code",
   "execution_count": 26,
   "metadata": {},
   "outputs": [
    {
     "data": {
      "image/png": "[encoded data removed]",
      "text/plain": [
       "<Figure size 360x360 with 1 Axes>"
      ]
     },
     "metadata": {},
     "output_type": "display_data"
    }
   ],
   "source": [
    "ax = bench_notnormres[\"BIC\"].sort_values().plot(\n",
    "    kind=\"bar\",\n",
    "    color=bar_colors,\n",
    "    figsize=(5,5),\n",
    "    title=\"BIC not norm res\"\n",
    ")"
   ]
  },
  {
   "cell_type": "code",
   "execution_count": 27,
   "metadata": {},
   "outputs": [],
   "source": [
    "fig = ax.get_figure()\n",
    "\n",
    "fig.savefig('../../Figures/supplementary/3/s3c_TCGAov_bic_notnormres.pdf',\n",
    "            bbox_tight=True)"
   ]
  },
  {
   "cell_type": "markdown",
   "metadata": {},
   "source": [
    "# End script"
   ]
  }
 ],
 "metadata": {
  "kernelspec": {
   "display_name": "Python 3",
   "language": "python",
   "name": "python3"
  },
  "language_info": {
   "codemirror_mode": {
    "name": "ipython",
    "version": 3
   },
   "file_extension": ".py",
   "mimetype": "text/x-python",
   "name": "python",
   "nbconvert_exporter": "python",
   "pygments_lexer": "ipython3",
   "version": "3.6.8"
  }
 },
 "nbformat": 4,
 "nbformat_minor": 2
}

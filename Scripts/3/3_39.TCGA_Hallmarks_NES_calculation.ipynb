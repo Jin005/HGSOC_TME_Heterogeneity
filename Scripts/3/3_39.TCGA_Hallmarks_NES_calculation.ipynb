{
 "cells": [
  {
   "cell_type": "markdown",
   "metadata": {},
   "source": [
    "# TCGA_Hallmarks_NES_calculation"
   ]
  },
  {
   "cell_type": "markdown",
   "metadata": {},
   "source": [
    "Script related to figure s3g\n",
    "\n",
    "### Aim:\n",
    "- Calculate TCGA hallmarks NES"
   ]
  },
  {
   "cell_type": "code",
   "execution_count": 1,
   "metadata": {},
   "outputs": [
    {
     "data": {
      "text/plain": [
       "R version 3.5.0 (2018-04-23)\n",
       "Platform: x86_64-apple-darwin15.6.0 (64-bit)\n",
       "Running under: macOS High Sierra 10.13.6\n",
       "\n",
       "Matrix products: default\n",
       "BLAS: /Library/Frameworks/R.framework/Versions/3.5/Resources/lib/libRblas.0.dylib\n",
       "LAPACK: /Library/Frameworks/R.framework/Versions/3.5/Resources/lib/libRlapack.dylib\n",
       "\n",
       "locale:\n",
       "[1] C/UTF-8/C/C/C/C\n",
       "\n",
       "attached base packages:\n",
       "[1] stats     graphics  grDevices utils     datasets  methods   base     \n",
       "\n",
       "loaded via a namespace (and not attached):\n",
       " [1] compiler_3.5.0  IRdisplay_0.6.1 pbdZMQ_0.3-3    tools_3.5.0    \n",
       " [5] htmltools_0.3.6 base64enc_0.1-3 crayon_1.3.4    Rcpp_1.0.1     \n",
       " [9] uuid_0.1-2      IRkernel_0.8.14 jsonlite_1.6    digest_0.6.18  \n",
       "[13] repr_0.17       evaluate_0.13  "
      ]
     },
     "metadata": {},
     "output_type": "display_data"
    }
   ],
   "source": [
    "sessionInfo()"
   ]
  },
  {
   "cell_type": "markdown",
   "metadata": {},
   "source": [
    "## Load packages"
   ]
  },
  {
   "cell_type": "code",
   "execution_count": 1,
   "metadata": {},
   "outputs": [
    {
     "name": "stderr",
     "output_type": "stream",
     "text": [
      "Warning message:\n",
      "“package ‘GSVA’ was built under R version 3.5.1”\n",
      "Attaching package: ‘BBmisc’\n",
      "\n",
      "The following object is masked from ‘package:base’:\n",
      "\n",
      "    isFALSE\n",
      "\n"
     ]
    }
   ],
   "source": [
    "library(GSVA)\n",
    "library(BBmisc)\n",
    "library(nortest)"
   ]
  },
  {
   "cell_type": "code",
   "execution_count": 2,
   "metadata": {},
   "outputs": [],
   "source": [
    "setwd(\"~/git_repos/HGSOC_TME_Heterogeneity/Scripts/3/\")"
   ]
  },
  {
   "cell_type": "code",
   "execution_count": 3,
   "metadata": {},
   "outputs": [],
   "source": [
    "data <- read.csv('../../Data/1/TCGAov_RNAseq.txt',\n",
    "                 sep='\\t',\n",
    "                 header=T,\n",
    "                 row.names='GeneSymbol')"
   ]
  },
  {
   "cell_type": "code",
   "execution_count": 4,
   "metadata": {},
   "outputs": [
    {
     "data": {
      "text/html": [
       "<table>\n",
       "<thead><tr><th></th><th scope=col>TCGA.04.1348.01</th><th scope=col>TCGA.04.1357.01</th><th scope=col>TCGA.04.1362.01</th><th scope=col>TCGA.04.1364.01</th><th scope=col>TCGA.04.1365.01</th><th scope=col>TCGA.04.1514.01</th><th scope=col>TCGA.04.1519.01</th><th scope=col>TCGA.09.0364.01</th><th scope=col>TCGA.09.0366.01</th><th scope=col>TCGA.09.0367.01</th><th scope=col>⋯</th><th scope=col>TCGA.61.2102.01</th><th scope=col>TCGA.61.2104.01</th><th scope=col>TCGA.61.2109.01</th><th scope=col>TCGA.61.2110.01</th><th scope=col>TCGA.61.2111.01</th><th scope=col>TCGA.61.2113.01</th><th scope=col>TCGA.OY.A56P.01</th><th scope=col>TCGA.OY.A56Q.01</th><th scope=col>TCGA.VG.A8LO.01</th><th scope=col>TCGA.WR.A838.01</th></tr></thead>\n",
       "<tbody>\n",
       "\t<tr><th scope=row>A1BG</th><td>  66.4695 </td><td>  65.5664 </td><td>  41.6412 </td><td> 187.0368 </td><td>  23.9295 </td><td>  32.8123 </td><td>  46.3418 </td><td> 162.8522 </td><td>   88.5518</td><td> 192.7354 </td><td>⋯         </td><td>   63.7012</td><td>  99.1485 </td><td>  38.3684 </td><td> 140.3668 </td><td>  94.7103 </td><td>  70.4394 </td><td>  43.1736 </td><td>   33.6854</td><td>  27.9604 </td><td>  16.2092 </td></tr>\n",
       "\t<tr><th scope=row>A1BG-AS1</th><td>  36.3243 </td><td>  28.1315 </td><td>  23.2465 </td><td> 114.6008 </td><td>  10.4957 </td><td>  20.1900 </td><td>  17.2007 </td><td>  83.0906 </td><td>   65.6758</td><td>  55.1265 </td><td>⋯         </td><td>   30.3602</td><td>  71.1797 </td><td>  26.0239 </td><td>  77.2415 </td><td>  61.4890 </td><td> 106.1623 </td><td>  47.8864 </td><td>   25.3482</td><td>  17.9853 </td><td>  42.9450 </td></tr>\n",
       "\t<tr><th scope=row>A1CF</th><td>   0.0000 </td><td>   0.0000 </td><td>   0.3310 </td><td>   0.0000 </td><td>   0.0000 </td><td>   0.0000 </td><td>   0.0000 </td><td>   0.9034 </td><td>    0.0000</td><td>   0.0000 </td><td>⋯         </td><td>    0.0000</td><td>   0.0000 </td><td>   0.0000 </td><td>   1.9057 </td><td>   0.0000 </td><td>   0.0000 </td><td>   0.0000 </td><td>    0.0000</td><td>   0.0000 </td><td>   0.0000 </td></tr>\n",
       "\t<tr><th scope=row>A2M</th><td>5899.8279 </td><td>9384.4401 </td><td>3350.4207 </td><td>1455.2316 </td><td>3999.3792 </td><td>3224.5797 </td><td>1986.1593 </td><td>1487.3247 </td><td>10557.8325</td><td>4603.9013 </td><td>⋯         </td><td>10264.1373</td><td>7220.7664 </td><td>7200.1144 </td><td>1819.9428 </td><td>6179.7358 </td><td>5365.7972 </td><td>8773.5936 </td><td>10006.7877</td><td>1888.1746 </td><td>4205.6055 </td></tr>\n",
       "\t<tr><th scope=row>A2M-AS1</th><td> 118.4566 </td><td> 111.0026 </td><td>  71.3613 </td><td>  67.8607 </td><td>  52.1501 </td><td> 224.7582 </td><td> 182.0650 </td><td> 120.2838 </td><td>   53.6419</td><td>  92.9112 </td><td>⋯         </td><td>  146.6130</td><td>  45.8648 </td><td>  64.4638 </td><td>  28.5565 </td><td> 100.6605 </td><td>  23.5625 </td><td>  84.2153 </td><td>  582.3492</td><td>  59.8084 </td><td> 143.4910 </td></tr>\n",
       "\t<tr><th scope=row>A2ML1</th><td>   7.5289 </td><td>  54.6875 </td><td>   5.6263 </td><td>   5.0883 </td><td>   3.3148 </td><td>   3.7421 </td><td>   6.2305 </td><td> 278.2486 </td><td>    4.7763</td><td> 653.6058 </td><td>⋯         </td><td>    1.7993</td><td>   4.6124 </td><td>   0.4768 </td><td>  17.1510 </td><td>  15.6109 </td><td>   2.4461 </td><td>  98.3162 </td><td>  269.5768</td><td>   4.5092 </td><td> 224.5290 </td></tr>\n",
       "</tbody>\n",
       "</table>\n"
      ],
      "text/latex": [
       "\\begin{tabular}{r|lllllllllllllllllllllllllllllllllllllllllllllllllllllllllllllllllllllllllllllllllllllllllllllllllllllllllllllllllllllllllllllllllllllllllllllllllllllllllllllllllllllllllllllllllllllllllllllllllllllllllllllllllllllllllllllllllllllllllllllllllllllllllllllllllllllllllllllllllllllllllllllllllllllllllllllllllll}\n",
       "  & TCGA.04.1348.01 & TCGA.04.1357.01 & TCGA.04.1362.01 & TCGA.04.1364.01 & TCGA.04.1365.01 & TCGA.04.1514.01 & TCGA.04.1519.01 & TCGA.09.0364.01 & TCGA.09.0366.01 & TCGA.09.0367.01 & ⋯ & TCGA.61.2102.01 & TCGA.61.2104.01 & TCGA.61.2109.01 & TCGA.61.2110.01 & TCGA.61.2111.01 & TCGA.61.2113.01 & TCGA.OY.A56P.01 & TCGA.OY.A56Q.01 & TCGA.VG.A8LO.01 & TCGA.WR.A838.01\\\\\n",
       "\\hline\n",
       "\tA1BG &   66.4695  &   65.5664  &   41.6412  &  187.0368  &   23.9295  &   32.8123  &   46.3418  &  162.8522  &    88.5518 &  192.7354  & ⋯          &    63.7012 &   99.1485  &   38.3684  &  140.3668  &   94.7103  &   70.4394  &   43.1736  &    33.6854 &   27.9604  &   16.2092 \\\\\n",
       "\tA1BG-AS1 &   36.3243  &   28.1315  &   23.2465  &  114.6008  &   10.4957  &   20.1900  &   17.2007  &   83.0906  &    65.6758 &   55.1265  & ⋯          &    30.3602 &   71.1797  &   26.0239  &   77.2415  &   61.4890  &  106.1623  &   47.8864  &    25.3482 &   17.9853  &   42.9450 \\\\\n",
       "\tA1CF &    0.0000  &    0.0000  &    0.3310  &    0.0000  &    0.0000  &    0.0000  &    0.0000  &    0.9034  &     0.0000 &    0.0000  & ⋯          &     0.0000 &    0.0000  &    0.0000  &    1.9057  &    0.0000  &    0.0000  &    0.0000  &     0.0000 &    0.0000  &    0.0000 \\\\\n",
       "\tA2M & 5899.8279  & 9384.4401  & 3350.4207  & 1455.2316  & 3999.3792  & 3224.5797  & 1986.1593  & 1487.3247  & 10557.8325 & 4603.9013  & ⋯          & 10264.1373 & 7220.7664  & 7200.1144  & 1819.9428  & 6179.7358  & 5365.7972  & 8773.5936  & 10006.7877 & 1888.1746  & 4205.6055 \\\\\n",
       "\tA2M-AS1 &  118.4566  &  111.0026  &   71.3613  &   67.8607  &   52.1501  &  224.7582  &  182.0650  &  120.2838  &    53.6419 &   92.9112  & ⋯          &   146.6130 &   45.8648  &   64.4638  &   28.5565  &  100.6605  &   23.5625  &   84.2153  &   582.3492 &   59.8084  &  143.4910 \\\\\n",
       "\tA2ML1 &    7.5289  &   54.6875  &    5.6263  &    5.0883  &    3.3148  &    3.7421  &    6.2305  &  278.2486  &     4.7763 &  653.6058  & ⋯          &     1.7993 &    4.6124  &    0.4768  &   17.1510  &   15.6109  &    2.4461  &   98.3162  &   269.5768 &    4.5092  &  224.5290 \\\\\n",
       "\\end{tabular}\n"
      ],
      "text/markdown": [
       "\n",
       "| <!--/--> | TCGA.04.1348.01 | TCGA.04.1357.01 | TCGA.04.1362.01 | TCGA.04.1364.01 | TCGA.04.1365.01 | TCGA.04.1514.01 | TCGA.04.1519.01 | TCGA.09.0364.01 | TCGA.09.0366.01 | TCGA.09.0367.01 | ⋯ | TCGA.61.2102.01 | TCGA.61.2104.01 | TCGA.61.2109.01 | TCGA.61.2110.01 | TCGA.61.2111.01 | TCGA.61.2113.01 | TCGA.OY.A56P.01 | TCGA.OY.A56Q.01 | TCGA.VG.A8LO.01 | TCGA.WR.A838.01 | \n",
       "|---|---|---|---|---|---|\n",
       "| A1BG |   66.4695  |   65.5664  |   41.6412  |  187.0368  |   23.9295  |   32.8123  |   46.3418  |  162.8522  |    88.5518 |  192.7354  | ⋯          |    63.7012 |   99.1485  |   38.3684  |  140.3668  |   94.7103  |   70.4394  |   43.1736  |    33.6854 |   27.9604  |   16.2092  | \n",
       "| A1BG-AS1 |   36.3243  |   28.1315  |   23.2465  |  114.6008  |   10.4957  |   20.1900  |   17.2007  |   83.0906  |    65.6758 |   55.1265  | ⋯          |    30.3602 |   71.1797  |   26.0239  |   77.2415  |   61.4890  |  106.1623  |   47.8864  |    25.3482 |   17.9853  |   42.9450  | \n",
       "| A1CF |    0.0000  |    0.0000  |    0.3310  |    0.0000  |    0.0000  |    0.0000  |    0.0000  |    0.9034  |     0.0000 |    0.0000  | ⋯          |     0.0000 |    0.0000  |    0.0000  |    1.9057  |    0.0000  |    0.0000  |    0.0000  |     0.0000 |    0.0000  |    0.0000  | \n",
       "| A2M | 5899.8279  | 9384.4401  | 3350.4207  | 1455.2316  | 3999.3792  | 3224.5797  | 1986.1593  | 1487.3247  | 10557.8325 | 4603.9013  | ⋯          | 10264.1373 | 7220.7664  | 7200.1144  | 1819.9428  | 6179.7358  | 5365.7972  | 8773.5936  | 10006.7877 | 1888.1746  | 4205.6055  | \n",
       "| A2M-AS1 |  118.4566  |  111.0026  |   71.3613  |   67.8607  |   52.1501  |  224.7582  |  182.0650  |  120.2838  |    53.6419 |   92.9112  | ⋯          |   146.6130 |   45.8648  |   64.4638  |   28.5565  |  100.6605  |   23.5625  |   84.2153  |   582.3492 |   59.8084  |  143.4910  | \n",
       "| A2ML1 |    7.5289  |   54.6875  |    5.6263  |    5.0883  |    3.3148  |    3.7421  |    6.2305  |  278.2486  |     4.7763 |  653.6058  | ⋯          |     1.7993 |    4.6124  |    0.4768  |   17.1510  |   15.6109  |    2.4461  |   98.3162  |   269.5768 |    4.5092  |  224.5290  | \n",
       "\n",
       "\n"
      ],
      "text/plain": [
       "         TCGA.04.1348.01 TCGA.04.1357.01 TCGA.04.1362.01 TCGA.04.1364.01\n",
       "A1BG       66.4695         65.5664         41.6412        187.0368      \n",
       "A1BG-AS1   36.3243         28.1315         23.2465        114.6008      \n",
       "A1CF        0.0000          0.0000          0.3310          0.0000      \n",
       "A2M      5899.8279       9384.4401       3350.4207       1455.2316      \n",
       "A2M-AS1   118.4566        111.0026         71.3613         67.8607      \n",
       "A2ML1       7.5289         54.6875          5.6263          5.0883      \n",
       "         TCGA.04.1365.01 TCGA.04.1514.01 TCGA.04.1519.01 TCGA.09.0364.01\n",
       "A1BG       23.9295         32.8123         46.3418        162.8522      \n",
       "A1BG-AS1   10.4957         20.1900         17.2007         83.0906      \n",
       "A1CF        0.0000          0.0000          0.0000          0.9034      \n",
       "A2M      3999.3792       3224.5797       1986.1593       1487.3247      \n",
       "A2M-AS1    52.1501        224.7582        182.0650        120.2838      \n",
       "A2ML1       3.3148          3.7421          6.2305        278.2486      \n",
       "         TCGA.09.0366.01 TCGA.09.0367.01 ⋯ TCGA.61.2102.01 TCGA.61.2104.01\n",
       "A1BG        88.5518       192.7354       ⋯    63.7012        99.1485      \n",
       "A1BG-AS1    65.6758        55.1265       ⋯    30.3602        71.1797      \n",
       "A1CF         0.0000         0.0000       ⋯     0.0000         0.0000      \n",
       "A2M      10557.8325      4603.9013       ⋯ 10264.1373      7220.7664      \n",
       "A2M-AS1     53.6419        92.9112       ⋯   146.6130        45.8648      \n",
       "A2ML1        4.7763       653.6058       ⋯     1.7993         4.6124      \n",
       "         TCGA.61.2109.01 TCGA.61.2110.01 TCGA.61.2111.01 TCGA.61.2113.01\n",
       "A1BG       38.3684        140.3668         94.7103         70.4394      \n",
       "A1BG-AS1   26.0239         77.2415         61.4890        106.1623      \n",
       "A1CF        0.0000          1.9057          0.0000          0.0000      \n",
       "A2M      7200.1144       1819.9428       6179.7358       5365.7972      \n",
       "A2M-AS1    64.4638         28.5565        100.6605         23.5625      \n",
       "A2ML1       0.4768         17.1510         15.6109          2.4461      \n",
       "         TCGA.OY.A56P.01 TCGA.OY.A56Q.01 TCGA.VG.A8LO.01 TCGA.WR.A838.01\n",
       "A1BG       43.1736          33.6854        27.9604         16.2092      \n",
       "A1BG-AS1   47.8864          25.3482        17.9853         42.9450      \n",
       "A1CF        0.0000           0.0000         0.0000          0.0000      \n",
       "A2M      8773.5936       10006.7877      1888.1746       4205.6055      \n",
       "A2M-AS1    84.2153         582.3492        59.8084        143.4910      \n",
       "A2ML1      98.3162         269.5768         4.5092        224.5290      "
      ]
     },
     "metadata": {},
     "output_type": "display_data"
    }
   ],
   "source": [
    "head(data)"
   ]
  },
  {
   "cell_type": "code",
   "execution_count": 5,
   "metadata": {},
   "outputs": [],
   "source": [
    "data_mtx <- as.matrix(data)"
   ]
  },
  {
   "cell_type": "code",
   "execution_count": 6,
   "metadata": {},
   "outputs": [],
   "source": [
    "Hallmark_geneSets <- read.csv('../../Data/1/HallmarksStromaImmune_GeneSets.txt',\n",
    "                              sep='\\t',\n",
    "                              header=F,\n",
    "                              row.names=1)"
   ]
  },
  {
   "cell_type": "code",
   "execution_count": 7,
   "metadata": {},
   "outputs": [
    {
     "data": {
      "text/html": [
       "<table>\n",
       "<thead><tr><th></th><th scope=col>V2</th><th scope=col>V3</th><th scope=col>V4</th><th scope=col>V5</th><th scope=col>V6</th><th scope=col>V7</th><th scope=col>V8</th><th scope=col>V9</th><th scope=col>V10</th><th scope=col>V11</th><th scope=col>⋯</th><th scope=col>V193</th><th scope=col>V194</th><th scope=col>V195</th><th scope=col>V196</th><th scope=col>V197</th><th scope=col>V198</th><th scope=col>V199</th><th scope=col>V200</th><th scope=col>V201</th><th scope=col>V202</th></tr></thead>\n",
       "<tbody>\n",
       "\t<tr><th scope=row>HALLMARK_TNFA_SIGNALING_VIA_NFKB</th><td>http://www.broadinstitute.org/gsea/msigdb/cards/HALLMARK_TNFA_SIGNALING_VIA_NFKB   </td><td>JUNB                                                                               </td><td>CXCL2                                                                              </td><td>ATF3                                                                               </td><td>NFKBIA                                                                             </td><td>TNFAIP3                                                                            </td><td>PTGS2                                                                              </td><td>CXCL1                                                                              </td><td>IER3                                                                               </td><td>CD83                                                                               </td><td>⋯                                                                                  </td><td>EIF1                                                                               </td><td>BMP2                                                                               </td><td>DUSP4                                                                              </td><td>PDLIM5                                                                             </td><td>ICOSLG                                                                             </td><td>GFPT2                                                                              </td><td>KLF2                                                                               </td><td>TNC                                                                                </td><td>SERPINB8                                                                           </td><td>MXD1                                                                               </td></tr>\n",
       "\t<tr><th scope=row>HALLMARK_HYPOXIA</th><td>http://www.broadinstitute.org/gsea/msigdb/cards/HALLMARK_HYPOXIA                   </td><td>PGK1                                                                               </td><td>PDK1                                                                               </td><td>GBE1                                                                               </td><td>PFKL                                                                               </td><td>ALDOA                                                                              </td><td>ENO2                                                                               </td><td>PGM1                                                                               </td><td>NDRG1                                                                              </td><td>HK2                                                                                </td><td>⋯                                                                                  </td><td>HDLBP                                                                              </td><td>ILVBL                                                                              </td><td>NCAN                                                                               </td><td>TGM2                                                                               </td><td>ETS1                                                                               </td><td>HOXB9                                                                              </td><td>SELENBP1                                                                           </td><td>FOSL2                                                                              </td><td>SULT2B1                                                                            </td><td>TGFB3                                                                              </td></tr>\n",
       "\t<tr><th scope=row>HALLMARK_CHOLESTEROL_HOMEOSTASIS</th><td>http://www.broadinstitute.org/gsea/msigdb/cards/HALLMARK_CHOLESTEROL_HOMEOSTASIS   </td><td>FDPS                                                                               </td><td>CYP51A1                                                                            </td><td>IDI1                                                                               </td><td>FDFT1                                                                              </td><td>DHCR7                                                                              </td><td>SQLE                                                                               </td><td>HMGCS1                                                                             </td><td>NSDHL                                                                              </td><td>LSS                                                                                </td><td>⋯                                                                                  </td><td>                                                                                   </td><td>                                                                                   </td><td>                                                                                   </td><td>                                                                                   </td><td>                                                                                   </td><td>                                                                                   </td><td>                                                                                   </td><td>                                                                                   </td><td>                                                                                   </td><td>                                                                                   </td></tr>\n",
       "\t<tr><th scope=row>HALLMARK_MITOTIC_SPINDLE</th><td>http://www.broadinstitute.org/gsea/msigdb/cards/HALLMARK_MITOTIC_SPINDLE           </td><td>ARHGEF2                                                                            </td><td>CLASP1                                                                             </td><td>KIF11                                                                              </td><td>KIF23                                                                              </td><td>ALS2                                                                               </td><td>ARF6                                                                               </td><td>MYO9B                                                                              </td><td>MYH9                                                                               </td><td>TUBGCP3                                                                            </td><td>⋯                                                                                  </td><td>RHOT2                                                                              </td><td>SORBS2                                                                             </td><td>CDC42EP1                                                                           </td><td>VCL                                                                                </td><td>CLIP1                                                                              </td><td>STK38L                                                                             </td><td>YWHAE                                                                              </td><td>RAPGEF5                                                                            </td><td>CEP72                                                                              </td><td>CSNK1D                                                                             </td></tr>\n",
       "\t<tr><th scope=row>HALLMARK_WNT_BETA_CATENIN_SIGNALING</th><td>http://www.broadinstitute.org/gsea/msigdb/cards/HALLMARK_WNT_BETA_CATENIN_SIGNALING</td><td>MYC                                                                                </td><td>CTNNB1                                                                             </td><td>JAG2                                                                               </td><td>NOTCH1                                                                             </td><td>DLL1                                                                               </td><td>AXIN2                                                                              </td><td>PSEN2                                                                              </td><td>FZD1                                                                               </td><td>NOTCH4                                                                             </td><td>⋯                                                                                  </td><td>                                                                                   </td><td>                                                                                   </td><td>                                                                                   </td><td>                                                                                   </td><td>                                                                                   </td><td>                                                                                   </td><td>                                                                                   </td><td>                                                                                   </td><td>                                                                                   </td><td>                                                                                   </td></tr>\n",
       "\t<tr><th scope=row>HALLMARK_TGF_BETA_SIGNALING</th><td>http://www.broadinstitute.org/gsea/msigdb/cards/HALLMARK_TGF_BETA_SIGNALING        </td><td>TGFBR1                                                                             </td><td>SMAD7                                                                              </td><td>TGFB1                                                                              </td><td>SMURF2                                                                             </td><td>SMURF1                                                                             </td><td>BMPR2                                                                              </td><td>SKIL                                                                               </td><td>SKI                                                                                </td><td>ACVR1                                                                              </td><td>⋯                                                                                  </td><td>                                                                                   </td><td>                                                                                   </td><td>                                                                                   </td><td>                                                                                   </td><td>                                                                                   </td><td>                                                                                   </td><td>                                                                                   </td><td>                                                                                   </td><td>                                                                                   </td><td>                                                                                   </td></tr>\n",
       "</tbody>\n",
       "</table>\n"
      ],
      "text/latex": [
       "\\begin{tabular}{r|lllllllllllllllllllllllllllllllllllllllllllllllllllllllllllllllllllllllllllllllllllllllllllllllllllllllllllllllllllllllllllllllllllllllllllllllllllllllllllllllllllllllllllllllllllllllllllllllllllllllll}\n",
       "  & V2 & V3 & V4 & V5 & V6 & V7 & V8 & V9 & V10 & V11 & ⋯ & V193 & V194 & V195 & V196 & V197 & V198 & V199 & V200 & V201 & V202\\\\\n",
       "\\hline\n",
       "\tHALLMARK\\_TNFA\\_SIGNALING\\_VIA\\_NFKB & http://www.broadinstitute.org/gsea/msigdb/cards/HALLMARK\\_TNFA\\_SIGNALING\\_VIA\\_NFKB    & JUNB                                                                                        & CXCL2                                                                                       & ATF3                                                                                        & NFKBIA                                                                                      & TNFAIP3                                                                                     & PTGS2                                                                                       & CXCL1                                                                                       & IER3                                                                                        & CD83                                                                                        & ⋯                                                                                           & EIF1                                                                                        & BMP2                                                                                        & DUSP4                                                                                       & PDLIM5                                                                                      & ICOSLG                                                                                      & GFPT2                                                                                       & KLF2                                                                                        & TNC                                                                                         & SERPINB8                                                                                    & MXD1                                                                                       \\\\\n",
       "\tHALLMARK\\_HYPOXIA & http://www.broadinstitute.org/gsea/msigdb/cards/HALLMARK\\_HYPOXIA                    & PGK1                                                                                  & PDK1                                                                                  & GBE1                                                                                  & PFKL                                                                                  & ALDOA                                                                                 & ENO2                                                                                  & PGM1                                                                                  & NDRG1                                                                                 & HK2                                                                                   & ⋯                                                                                     & HDLBP                                                                                 & ILVBL                                                                                 & NCAN                                                                                  & TGM2                                                                                  & ETS1                                                                                  & HOXB9                                                                                 & SELENBP1                                                                              & FOSL2                                                                                 & SULT2B1                                                                               & TGFB3                                                                                \\\\\n",
       "\tHALLMARK\\_CHOLESTEROL\\_HOMEOSTASIS & http://www.broadinstitute.org/gsea/msigdb/cards/HALLMARK\\_CHOLESTEROL\\_HOMEOSTASIS    & FDPS                                                                                    & CYP51A1                                                                                 & IDI1                                                                                    & FDFT1                                                                                   & DHCR7                                                                                   & SQLE                                                                                    & HMGCS1                                                                                  & NSDHL                                                                                   & LSS                                                                                     & ⋯                                                                                       &                                                                                         &                                                                                         &                                                                                         &                                                                                         &                                                                                         &                                                                                         &                                                                                         &                                                                                         &                                                                                         &                                                                                        \\\\\n",
       "\tHALLMARK\\_MITOTIC\\_SPINDLE & http://www.broadinstitute.org/gsea/msigdb/cards/HALLMARK\\_MITOTIC\\_SPINDLE            & ARHGEF2                                                                                 & CLASP1                                                                                  & KIF11                                                                                   & KIF23                                                                                   & ALS2                                                                                    & ARF6                                                                                    & MYO9B                                                                                   & MYH9                                                                                    & TUBGCP3                                                                                 & ⋯                                                                                       & RHOT2                                                                                   & SORBS2                                                                                  & CDC42EP1                                                                                & VCL                                                                                     & CLIP1                                                                                   & STK38L                                                                                  & YWHAE                                                                                   & RAPGEF5                                                                                 & CEP72                                                                                   & CSNK1D                                                                                 \\\\\n",
       "\tHALLMARK\\_WNT\\_BETA\\_CATENIN\\_SIGNALING & http://www.broadinstitute.org/gsea/msigdb/cards/HALLMARK\\_WNT\\_BETA\\_CATENIN\\_SIGNALING & MYC                                                                                         & CTNNB1                                                                                      & JAG2                                                                                        & NOTCH1                                                                                      & DLL1                                                                                        & AXIN2                                                                                       & PSEN2                                                                                       & FZD1                                                                                        & NOTCH4                                                                                      & ⋯                                                                                           &                                                                                             &                                                                                             &                                                                                             &                                                                                             &                                                                                             &                                                                                             &                                                                                             &                                                                                             &                                                                                             &                                                                                            \\\\\n",
       "\tHALLMARK\\_TGF\\_BETA\\_SIGNALING & http://www.broadinstitute.org/gsea/msigdb/cards/HALLMARK\\_TGF\\_BETA\\_SIGNALING         & TGFBR1                                                                                    & SMAD7                                                                                     & TGFB1                                                                                     & SMURF2                                                                                    & SMURF1                                                                                    & BMPR2                                                                                     & SKIL                                                                                      & SKI                                                                                       & ACVR1                                                                                     & ⋯                                                                                         &                                                                                           &                                                                                           &                                                                                           &                                                                                           &                                                                                           &                                                                                           &                                                                                           &                                                                                           &                                                                                           &                                                                                          \\\\\n",
       "\\end{tabular}\n"
      ],
      "text/markdown": [
       "\n",
       "| <!--/--> | V2 | V3 | V4 | V5 | V6 | V7 | V8 | V9 | V10 | V11 | ⋯ | V193 | V194 | V195 | V196 | V197 | V198 | V199 | V200 | V201 | V202 | \n",
       "|---|---|---|---|---|---|\n",
       "| HALLMARK_TNFA_SIGNALING_VIA_NFKB | http://www.broadinstitute.org/gsea/msigdb/cards/HALLMARK_TNFA_SIGNALING_VIA_NFKB    | JUNB                                                                                | CXCL2                                                                               | ATF3                                                                                | NFKBIA                                                                              | TNFAIP3                                                                             | PTGS2                                                                               | CXCL1                                                                               | IER3                                                                                | CD83                                                                                | ⋯                                                                                   | EIF1                                                                                | BMP2                                                                                | DUSP4                                                                               | PDLIM5                                                                              | ICOSLG                                                                              | GFPT2                                                                               | KLF2                                                                                | TNC                                                                                 | SERPINB8                                                                            | MXD1                                                                                | \n",
       "| HALLMARK_HYPOXIA | http://www.broadinstitute.org/gsea/msigdb/cards/HALLMARK_HYPOXIA                    | PGK1                                                                                | PDK1                                                                                | GBE1                                                                                | PFKL                                                                                | ALDOA                                                                               | ENO2                                                                                | PGM1                                                                                | NDRG1                                                                               | HK2                                                                                 | ⋯                                                                                   | HDLBP                                                                               | ILVBL                                                                               | NCAN                                                                                | TGM2                                                                                | ETS1                                                                                | HOXB9                                                                               | SELENBP1                                                                            | FOSL2                                                                               | SULT2B1                                                                             | TGFB3                                                                               | \n",
       "| HALLMARK_CHOLESTEROL_HOMEOSTASIS | http://www.broadinstitute.org/gsea/msigdb/cards/HALLMARK_CHOLESTEROL_HOMEOSTASIS    | FDPS                                                                                | CYP51A1                                                                             | IDI1                                                                                | FDFT1                                                                               | DHCR7                                                                               | SQLE                                                                                | HMGCS1                                                                              | NSDHL                                                                               | LSS                                                                                 | ⋯                                                                                   |                                                                                     |                                                                                     |                                                                                     |                                                                                     |                                                                                     |                                                                                     |                                                                                     |                                                                                     |                                                                                     |                                                                                     | \n",
       "| HALLMARK_MITOTIC_SPINDLE | http://www.broadinstitute.org/gsea/msigdb/cards/HALLMARK_MITOTIC_SPINDLE            | ARHGEF2                                                                             | CLASP1                                                                              | KIF11                                                                               | KIF23                                                                               | ALS2                                                                                | ARF6                                                                                | MYO9B                                                                               | MYH9                                                                                | TUBGCP3                                                                             | ⋯                                                                                   | RHOT2                                                                               | SORBS2                                                                              | CDC42EP1                                                                            | VCL                                                                                 | CLIP1                                                                               | STK38L                                                                              | YWHAE                                                                               | RAPGEF5                                                                             | CEP72                                                                               | CSNK1D                                                                              | \n",
       "| HALLMARK_WNT_BETA_CATENIN_SIGNALING | http://www.broadinstitute.org/gsea/msigdb/cards/HALLMARK_WNT_BETA_CATENIN_SIGNALING | MYC                                                                                 | CTNNB1                                                                              | JAG2                                                                                | NOTCH1                                                                              | DLL1                                                                                | AXIN2                                                                               | PSEN2                                                                               | FZD1                                                                                | NOTCH4                                                                              | ⋯                                                                                   |                                                                                     |                                                                                     |                                                                                     |                                                                                     |                                                                                     |                                                                                     |                                                                                     |                                                                                     |                                                                                     |                                                                                     | \n",
       "| HALLMARK_TGF_BETA_SIGNALING | http://www.broadinstitute.org/gsea/msigdb/cards/HALLMARK_TGF_BETA_SIGNALING         | TGFBR1                                                                              | SMAD7                                                                               | TGFB1                                                                               | SMURF2                                                                              | SMURF1                                                                              | BMPR2                                                                               | SKIL                                                                                | SKI                                                                                 | ACVR1                                                                               | ⋯                                                                                   |                                                                                     |                                                                                     |                                                                                     |                                                                                     |                                                                                     |                                                                                     |                                                                                     |                                                                                     |                                                                                     |                                                                                     | \n",
       "\n",
       "\n"
      ],
      "text/plain": [
       "                                    V2                                                                                 \n",
       "HALLMARK_TNFA_SIGNALING_VIA_NFKB    http://www.broadinstitute.org/gsea/msigdb/cards/HALLMARK_TNFA_SIGNALING_VIA_NFKB   \n",
       "HALLMARK_HYPOXIA                    http://www.broadinstitute.org/gsea/msigdb/cards/HALLMARK_HYPOXIA                   \n",
       "HALLMARK_CHOLESTEROL_HOMEOSTASIS    http://www.broadinstitute.org/gsea/msigdb/cards/HALLMARK_CHOLESTEROL_HOMEOSTASIS   \n",
       "HALLMARK_MITOTIC_SPINDLE            http://www.broadinstitute.org/gsea/msigdb/cards/HALLMARK_MITOTIC_SPINDLE           \n",
       "HALLMARK_WNT_BETA_CATENIN_SIGNALING http://www.broadinstitute.org/gsea/msigdb/cards/HALLMARK_WNT_BETA_CATENIN_SIGNALING\n",
       "HALLMARK_TGF_BETA_SIGNALING         http://www.broadinstitute.org/gsea/msigdb/cards/HALLMARK_TGF_BETA_SIGNALING        \n",
       "                                    V3      V4      V5    V6     V7      V8   \n",
       "HALLMARK_TNFA_SIGNALING_VIA_NFKB    JUNB    CXCL2   ATF3  NFKBIA TNFAIP3 PTGS2\n",
       "HALLMARK_HYPOXIA                    PGK1    PDK1    GBE1  PFKL   ALDOA   ENO2 \n",
       "HALLMARK_CHOLESTEROL_HOMEOSTASIS    FDPS    CYP51A1 IDI1  FDFT1  DHCR7   SQLE \n",
       "HALLMARK_MITOTIC_SPINDLE            ARHGEF2 CLASP1  KIF11 KIF23  ALS2    ARF6 \n",
       "HALLMARK_WNT_BETA_CATENIN_SIGNALING MYC     CTNNB1  JAG2  NOTCH1 DLL1    AXIN2\n",
       "HALLMARK_TGF_BETA_SIGNALING         TGFBR1  SMAD7   TGFB1 SMURF2 SMURF1  BMPR2\n",
       "                                    V9     V10   V11     ⋯ V193  V194  \n",
       "HALLMARK_TNFA_SIGNALING_VIA_NFKB    CXCL1  IER3  CD83    ⋯ EIF1  BMP2  \n",
       "HALLMARK_HYPOXIA                    PGM1   NDRG1 HK2     ⋯ HDLBP ILVBL \n",
       "HALLMARK_CHOLESTEROL_HOMEOSTASIS    HMGCS1 NSDHL LSS     ⋯             \n",
       "HALLMARK_MITOTIC_SPINDLE            MYO9B  MYH9  TUBGCP3 ⋯ RHOT2 SORBS2\n",
       "HALLMARK_WNT_BETA_CATENIN_SIGNALING PSEN2  FZD1  NOTCH4  ⋯             \n",
       "HALLMARK_TGF_BETA_SIGNALING         SKIL   SKI   ACVR1   ⋯             \n",
       "                                    V195     V196   V197   V198   V199    \n",
       "HALLMARK_TNFA_SIGNALING_VIA_NFKB    DUSP4    PDLIM5 ICOSLG GFPT2  KLF2    \n",
       "HALLMARK_HYPOXIA                    NCAN     TGM2   ETS1   HOXB9  SELENBP1\n",
       "HALLMARK_CHOLESTEROL_HOMEOSTASIS                                          \n",
       "HALLMARK_MITOTIC_SPINDLE            CDC42EP1 VCL    CLIP1  STK38L YWHAE   \n",
       "HALLMARK_WNT_BETA_CATENIN_SIGNALING                                       \n",
       "HALLMARK_TGF_BETA_SIGNALING                                               \n",
       "                                    V200    V201     V202  \n",
       "HALLMARK_TNFA_SIGNALING_VIA_NFKB    TNC     SERPINB8 MXD1  \n",
       "HALLMARK_HYPOXIA                    FOSL2   SULT2B1  TGFB3 \n",
       "HALLMARK_CHOLESTEROL_HOMEOSTASIS                           \n",
       "HALLMARK_MITOTIC_SPINDLE            RAPGEF5 CEP72    CSNK1D\n",
       "HALLMARK_WNT_BETA_CATENIN_SIGNALING                        \n",
       "HALLMARK_TGF_BETA_SIGNALING                                "
      ]
     },
     "metadata": {},
     "output_type": "display_data"
    }
   ],
   "source": [
    "head(Hallmark_geneSets)"
   ]
  },
  {
   "cell_type": "code",
   "execution_count": 8,
   "metadata": {},
   "outputs": [],
   "source": [
    "Hallmark_geneSets <- Hallmark_geneSets[-1]"
   ]
  },
  {
   "cell_type": "code",
   "execution_count": 9,
   "metadata": {},
   "outputs": [
    {
     "data": {
      "text/html": [
       "<table>\n",
       "<thead><tr><th></th><th scope=col>V3</th><th scope=col>V4</th><th scope=col>V5</th><th scope=col>V6</th><th scope=col>V7</th><th scope=col>V8</th><th scope=col>V9</th><th scope=col>V10</th><th scope=col>V11</th><th scope=col>V12</th><th scope=col>⋯</th><th scope=col>V193</th><th scope=col>V194</th><th scope=col>V195</th><th scope=col>V196</th><th scope=col>V197</th><th scope=col>V198</th><th scope=col>V199</th><th scope=col>V200</th><th scope=col>V201</th><th scope=col>V202</th></tr></thead>\n",
       "<tbody>\n",
       "\t<tr><th scope=row>HALLMARK_TNFA_SIGNALING_VIA_NFKB</th><td>JUNB    </td><td>CXCL2   </td><td>ATF3    </td><td>NFKBIA  </td><td>TNFAIP3 </td><td>PTGS2   </td><td>CXCL1   </td><td>IER3    </td><td>CD83    </td><td>CCL20   </td><td>⋯       </td><td>EIF1    </td><td>BMP2    </td><td>DUSP4   </td><td>PDLIM5  </td><td>ICOSLG  </td><td>GFPT2   </td><td>KLF2    </td><td>TNC     </td><td>SERPINB8</td><td>MXD1    </td></tr>\n",
       "\t<tr><th scope=row>HALLMARK_HYPOXIA</th><td>PGK1    </td><td>PDK1    </td><td>GBE1    </td><td>PFKL    </td><td>ALDOA   </td><td>ENO2    </td><td>PGM1    </td><td>NDRG1   </td><td>HK2     </td><td>ALDOC   </td><td>⋯       </td><td>HDLBP   </td><td>ILVBL   </td><td>NCAN    </td><td>TGM2    </td><td>ETS1    </td><td>HOXB9   </td><td>SELENBP1</td><td>FOSL2   </td><td>SULT2B1 </td><td>TGFB3   </td></tr>\n",
       "\t<tr><th scope=row>HALLMARK_CHOLESTEROL_HOMEOSTASIS</th><td>FDPS    </td><td>CYP51A1 </td><td>IDI1    </td><td>FDFT1   </td><td>DHCR7   </td><td>SQLE    </td><td>HMGCS1  </td><td>NSDHL   </td><td>LSS     </td><td>MVD     </td><td>⋯       </td><td>        </td><td>        </td><td>        </td><td>        </td><td>        </td><td>        </td><td>        </td><td>        </td><td>        </td><td>        </td></tr>\n",
       "\t<tr><th scope=row>HALLMARK_MITOTIC_SPINDLE</th><td>ARHGEF2 </td><td>CLASP1  </td><td>KIF11   </td><td>KIF23   </td><td>ALS2    </td><td>ARF6    </td><td>MYO9B   </td><td>MYH9    </td><td>TUBGCP3 </td><td>CKAP5   </td><td>⋯       </td><td>RHOT2   </td><td>SORBS2  </td><td>CDC42EP1</td><td>VCL     </td><td>CLIP1   </td><td>STK38L  </td><td>YWHAE   </td><td>RAPGEF5 </td><td>CEP72   </td><td>CSNK1D  </td></tr>\n",
       "\t<tr><th scope=row>HALLMARK_WNT_BETA_CATENIN_SIGNALING</th><td>MYC     </td><td>CTNNB1  </td><td>JAG2    </td><td>NOTCH1  </td><td>DLL1    </td><td>AXIN2   </td><td>PSEN2   </td><td>FZD1    </td><td>NOTCH4  </td><td>LEF1    </td><td>⋯       </td><td>        </td><td>        </td><td>        </td><td>        </td><td>        </td><td>        </td><td>        </td><td>        </td><td>        </td><td>        </td></tr>\n",
       "\t<tr><th scope=row>HALLMARK_TGF_BETA_SIGNALING</th><td>TGFBR1  </td><td>SMAD7   </td><td>TGFB1   </td><td>SMURF2  </td><td>SMURF1  </td><td>BMPR2   </td><td>SKIL    </td><td>SKI     </td><td>ACVR1   </td><td>PMEPA1  </td><td>⋯       </td><td>        </td><td>        </td><td>        </td><td>        </td><td>        </td><td>        </td><td>        </td><td>        </td><td>        </td><td>        </td></tr>\n",
       "</tbody>\n",
       "</table>\n"
      ],
      "text/latex": [
       "\\begin{tabular}{r|llllllllllllllllllllllllllllllllllllllllllllllllllllllllllllllllllllllllllllllllllllllllllllllllllllllllllllllllllllllllllllllllllllllllllllllllllllllllllllllllllllllllllllllllllllllllllllllllllllllll}\n",
       "  & V3 & V4 & V5 & V6 & V7 & V8 & V9 & V10 & V11 & V12 & ⋯ & V193 & V194 & V195 & V196 & V197 & V198 & V199 & V200 & V201 & V202\\\\\n",
       "\\hline\n",
       "\tHALLMARK\\_TNFA\\_SIGNALING\\_VIA\\_NFKB & JUNB     & CXCL2    & ATF3     & NFKBIA   & TNFAIP3  & PTGS2    & CXCL1    & IER3     & CD83     & CCL20    & ⋯        & EIF1     & BMP2     & DUSP4    & PDLIM5   & ICOSLG   & GFPT2    & KLF2     & TNC      & SERPINB8 & MXD1    \\\\\n",
       "\tHALLMARK\\_HYPOXIA & PGK1     & PDK1     & GBE1     & PFKL     & ALDOA    & ENO2     & PGM1     & NDRG1    & HK2      & ALDOC    & ⋯        & HDLBP    & ILVBL    & NCAN     & TGM2     & ETS1     & HOXB9    & SELENBP1 & FOSL2    & SULT2B1  & TGFB3   \\\\\n",
       "\tHALLMARK\\_CHOLESTEROL\\_HOMEOSTASIS & FDPS     & CYP51A1  & IDI1     & FDFT1    & DHCR7    & SQLE     & HMGCS1   & NSDHL    & LSS      & MVD      & ⋯        &          &          &          &          &          &          &          &          &          &         \\\\\n",
       "\tHALLMARK\\_MITOTIC\\_SPINDLE & ARHGEF2  & CLASP1   & KIF11    & KIF23    & ALS2     & ARF6     & MYO9B    & MYH9     & TUBGCP3  & CKAP5    & ⋯        & RHOT2    & SORBS2   & CDC42EP1 & VCL      & CLIP1    & STK38L   & YWHAE    & RAPGEF5  & CEP72    & CSNK1D  \\\\\n",
       "\tHALLMARK\\_WNT\\_BETA\\_CATENIN\\_SIGNALING & MYC      & CTNNB1   & JAG2     & NOTCH1   & DLL1     & AXIN2    & PSEN2    & FZD1     & NOTCH4   & LEF1     & ⋯        &          &          &          &          &          &          &          &          &          &         \\\\\n",
       "\tHALLMARK\\_TGF\\_BETA\\_SIGNALING & TGFBR1   & SMAD7    & TGFB1    & SMURF2   & SMURF1   & BMPR2    & SKIL     & SKI      & ACVR1    & PMEPA1   & ⋯        &          &          &          &          &          &          &          &          &          &         \\\\\n",
       "\\end{tabular}\n"
      ],
      "text/markdown": [
       "\n",
       "| <!--/--> | V3 | V4 | V5 | V6 | V7 | V8 | V9 | V10 | V11 | V12 | ⋯ | V193 | V194 | V195 | V196 | V197 | V198 | V199 | V200 | V201 | V202 | \n",
       "|---|---|---|---|---|---|\n",
       "| HALLMARK_TNFA_SIGNALING_VIA_NFKB | JUNB     | CXCL2    | ATF3     | NFKBIA   | TNFAIP3  | PTGS2    | CXCL1    | IER3     | CD83     | CCL20    | ⋯        | EIF1     | BMP2     | DUSP4    | PDLIM5   | ICOSLG   | GFPT2    | KLF2     | TNC      | SERPINB8 | MXD1     | \n",
       "| HALLMARK_HYPOXIA | PGK1     | PDK1     | GBE1     | PFKL     | ALDOA    | ENO2     | PGM1     | NDRG1    | HK2      | ALDOC    | ⋯        | HDLBP    | ILVBL    | NCAN     | TGM2     | ETS1     | HOXB9    | SELENBP1 | FOSL2    | SULT2B1  | TGFB3    | \n",
       "| HALLMARK_CHOLESTEROL_HOMEOSTASIS | FDPS     | CYP51A1  | IDI1     | FDFT1    | DHCR7    | SQLE     | HMGCS1   | NSDHL    | LSS      | MVD      | ⋯        |          |          |          |          |          |          |          |          |          |          | \n",
       "| HALLMARK_MITOTIC_SPINDLE | ARHGEF2  | CLASP1   | KIF11    | KIF23    | ALS2     | ARF6     | MYO9B    | MYH9     | TUBGCP3  | CKAP5    | ⋯        | RHOT2    | SORBS2   | CDC42EP1 | VCL      | CLIP1    | STK38L   | YWHAE    | RAPGEF5  | CEP72    | CSNK1D   | \n",
       "| HALLMARK_WNT_BETA_CATENIN_SIGNALING | MYC      | CTNNB1   | JAG2     | NOTCH1   | DLL1     | AXIN2    | PSEN2    | FZD1     | NOTCH4   | LEF1     | ⋯        |          |          |          |          |          |          |          |          |          |          | \n",
       "| HALLMARK_TGF_BETA_SIGNALING | TGFBR1   | SMAD7    | TGFB1    | SMURF2   | SMURF1   | BMPR2    | SKIL     | SKI      | ACVR1    | PMEPA1   | ⋯        |          |          |          |          |          |          |          |          |          |          | \n",
       "\n",
       "\n"
      ],
      "text/plain": [
       "                                    V3      V4      V5    V6     V7      V8   \n",
       "HALLMARK_TNFA_SIGNALING_VIA_NFKB    JUNB    CXCL2   ATF3  NFKBIA TNFAIP3 PTGS2\n",
       "HALLMARK_HYPOXIA                    PGK1    PDK1    GBE1  PFKL   ALDOA   ENO2 \n",
       "HALLMARK_CHOLESTEROL_HOMEOSTASIS    FDPS    CYP51A1 IDI1  FDFT1  DHCR7   SQLE \n",
       "HALLMARK_MITOTIC_SPINDLE            ARHGEF2 CLASP1  KIF11 KIF23  ALS2    ARF6 \n",
       "HALLMARK_WNT_BETA_CATENIN_SIGNALING MYC     CTNNB1  JAG2  NOTCH1 DLL1    AXIN2\n",
       "HALLMARK_TGF_BETA_SIGNALING         TGFBR1  SMAD7   TGFB1 SMURF2 SMURF1  BMPR2\n",
       "                                    V9     V10   V11     V12    ⋯ V193  V194  \n",
       "HALLMARK_TNFA_SIGNALING_VIA_NFKB    CXCL1  IER3  CD83    CCL20  ⋯ EIF1  BMP2  \n",
       "HALLMARK_HYPOXIA                    PGM1   NDRG1 HK2     ALDOC  ⋯ HDLBP ILVBL \n",
       "HALLMARK_CHOLESTEROL_HOMEOSTASIS    HMGCS1 NSDHL LSS     MVD    ⋯             \n",
       "HALLMARK_MITOTIC_SPINDLE            MYO9B  MYH9  TUBGCP3 CKAP5  ⋯ RHOT2 SORBS2\n",
       "HALLMARK_WNT_BETA_CATENIN_SIGNALING PSEN2  FZD1  NOTCH4  LEF1   ⋯             \n",
       "HALLMARK_TGF_BETA_SIGNALING         SKIL   SKI   ACVR1   PMEPA1 ⋯             \n",
       "                                    V195     V196   V197   V198   V199    \n",
       "HALLMARK_TNFA_SIGNALING_VIA_NFKB    DUSP4    PDLIM5 ICOSLG GFPT2  KLF2    \n",
       "HALLMARK_HYPOXIA                    NCAN     TGM2   ETS1   HOXB9  SELENBP1\n",
       "HALLMARK_CHOLESTEROL_HOMEOSTASIS                                          \n",
       "HALLMARK_MITOTIC_SPINDLE            CDC42EP1 VCL    CLIP1  STK38L YWHAE   \n",
       "HALLMARK_WNT_BETA_CATENIN_SIGNALING                                       \n",
       "HALLMARK_TGF_BETA_SIGNALING                                               \n",
       "                                    V200    V201     V202  \n",
       "HALLMARK_TNFA_SIGNALING_VIA_NFKB    TNC     SERPINB8 MXD1  \n",
       "HALLMARK_HYPOXIA                    FOSL2   SULT2B1  TGFB3 \n",
       "HALLMARK_CHOLESTEROL_HOMEOSTASIS                           \n",
       "HALLMARK_MITOTIC_SPINDLE            RAPGEF5 CEP72    CSNK1D\n",
       "HALLMARK_WNT_BETA_CATENIN_SIGNALING                        \n",
       "HALLMARK_TGF_BETA_SIGNALING                                "
      ]
     },
     "metadata": {},
     "output_type": "display_data"
    }
   ],
   "source": [
    "head(Hallmark_geneSets)"
   ]
  },
  {
   "cell_type": "code",
   "execution_count": 10,
   "metadata": {},
   "outputs": [],
   "source": [
    "Hallmark_geneSets <- convertRowsToList(Hallmark_geneSets)"
   ]
  },
  {
   "cell_type": "code",
   "execution_count": 11,
   "metadata": {},
   "outputs": [
    {
     "name": "stderr",
     "output_type": "stream",
     "text": [
      "Warning message in .local(expr, gset.idx.list, ...):\n",
      "“338 genes with constant expression values throuhgout the samples.”"
     ]
    },
    {
     "name": "stdout",
     "output_type": "stream",
     "text": [
      "Estimating ssGSEA scores for 52 gene sets.\n",
      "  |                                                                      |   0%Using parallel with 4 cores\n",
      "  |======================================================================| 100%\n"
     ]
    }
   ],
   "source": [
    "hsi_NES <- gsva(data_mtx,\n",
    "                Hallmark_geneSets,\n",
    "                method='ssgsea',\n",
    "                min.sz=0,\n",
    "                max.sz=1000,\n",
    "                ssgsea.norm=T)"
   ]
  },
  {
   "cell_type": "code",
   "execution_count": 12,
   "metadata": {},
   "outputs": [],
   "source": [
    "hsi_NES <- data.frame(\"Term\"=rownames(hsi_NES),\n",
    "                      hsi_NES)\n",
    "\n",
    "rownames(hsi_NES) <- NULL"
   ]
  },
  {
   "cell_type": "code",
   "execution_count": 13,
   "metadata": {},
   "outputs": [
    {
     "data": {
      "text/html": [
       "<table>\n",
       "<thead><tr><th scope=col>Term</th><th scope=col>TCGA.04.1348.01</th><th scope=col>TCGA.04.1357.01</th><th scope=col>TCGA.04.1362.01</th><th scope=col>TCGA.04.1364.01</th><th scope=col>TCGA.04.1365.01</th><th scope=col>TCGA.04.1514.01</th><th scope=col>TCGA.04.1519.01</th><th scope=col>TCGA.09.0364.01</th><th scope=col>TCGA.09.0366.01</th><th scope=col>⋯</th><th scope=col>TCGA.61.2102.01</th><th scope=col>TCGA.61.2104.01</th><th scope=col>TCGA.61.2109.01</th><th scope=col>TCGA.61.2110.01</th><th scope=col>TCGA.61.2111.01</th><th scope=col>TCGA.61.2113.01</th><th scope=col>TCGA.OY.A56P.01</th><th scope=col>TCGA.OY.A56Q.01</th><th scope=col>TCGA.VG.A8LO.01</th><th scope=col>TCGA.WR.A838.01</th></tr></thead>\n",
       "<tbody>\n",
       "\t<tr><td>HALLMARK_TNFA_SIGNALING_VIA_NFKB   </td><td>0.4135076                          </td><td>0.3815939                          </td><td>0.3926226                          </td><td>0.2323723                          </td><td>0.3758730                          </td><td>0.2598795                          </td><td>0.2713037                          </td><td>0.1626862                          </td><td>0.4179557                          </td><td>⋯                                  </td><td>0.3120871                          </td><td>0.4260576                          </td><td>0.3664718                          </td><td>0.2828402                          </td><td>0.3253221                          </td><td>0.4657757                          </td><td>0.2317061                          </td><td>0.1541163                          </td><td>0.3250998                          </td><td>0.2707500                          </td></tr>\n",
       "\t<tr><td>HALLMARK_HYPOXIA                   </td><td>0.3853903                          </td><td>0.3595335                          </td><td>0.3717941                          </td><td>0.3447506                          </td><td>0.3980746                          </td><td>0.3719009                          </td><td>0.3461878                          </td><td>0.2898088                          </td><td>0.4013578                          </td><td>⋯                                  </td><td>0.4071586                          </td><td>0.3606321                          </td><td>0.3947787                          </td><td>0.3657881                          </td><td>0.3757698                          </td><td>0.4593939                          </td><td>0.3415513                          </td><td>0.2912492                          </td><td>0.3526980                          </td><td>0.3406164                          </td></tr>\n",
       "\t<tr><td>HALLMARK_CHOLESTEROL_HOMEOSTASIS   </td><td>0.4770949                          </td><td>0.4269293                          </td><td>0.4462245                          </td><td>0.4662101                          </td><td>0.4731517                          </td><td>0.4151925                          </td><td>0.4239398                          </td><td>0.4261344                          </td><td>0.4259422                          </td><td>⋯                                  </td><td>0.4176919                          </td><td>0.4799393                          </td><td>0.4549610                          </td><td>0.4044108                          </td><td>0.4395699                          </td><td>0.4665223                          </td><td>0.3567554                          </td><td>0.3503447                          </td><td>0.4510203                          </td><td>0.3984776                          </td></tr>\n",
       "\t<tr><td>HALLMARK_MITOTIC_SPINDLE           </td><td>0.5344019                          </td><td>0.4672820                          </td><td>0.5133319                          </td><td>0.5496255                          </td><td>0.5434503                          </td><td>0.5471210                          </td><td>0.4704768                          </td><td>0.5515066                          </td><td>0.4570623                          </td><td>⋯                                  </td><td>0.5522846                          </td><td>0.4963472                          </td><td>0.5353623                          </td><td>0.4995424                          </td><td>0.5317816                          </td><td>0.5784247                          </td><td>0.5682453                          </td><td>0.5248388                          </td><td>0.5387706                          </td><td>0.5551333                          </td></tr>\n",
       "\t<tr><td>HALLMARK_WNT_BETA_CATENIN_SIGNALING</td><td>0.2775478                          </td><td>0.2940325                          </td><td>0.3067881                          </td><td>0.3415397                          </td><td>0.3517504                          </td><td>0.4276304                          </td><td>0.3563603                          </td><td>0.4140771                          </td><td>0.3686600                          </td><td>⋯                                  </td><td>0.4445251                          </td><td>0.3795205                          </td><td>0.3370293                          </td><td>0.3447636                          </td><td>0.3727482                          </td><td>0.3895140                          </td><td>0.4175961                          </td><td>0.4287844                          </td><td>0.3232789                          </td><td>0.3987617                          </td></tr>\n",
       "\t<tr><td>HALLMARK_TGF_BETA_SIGNALING        </td><td>0.5004228                          </td><td>0.5412242                          </td><td>0.5573136                          </td><td>0.5259441                          </td><td>0.5198802                          </td><td>0.5822179                          </td><td>0.5121674                          </td><td>0.4967842                          </td><td>0.5610706                          </td><td>⋯                                  </td><td>0.5991747                          </td><td>0.5365324                          </td><td>0.5238909                          </td><td>0.5056704                          </td><td>0.5829953                          </td><td>0.6275223                          </td><td>0.5476635                          </td><td>0.5235076                          </td><td>0.5202442                          </td><td>0.5095698                          </td></tr>\n",
       "</tbody>\n",
       "</table>\n"
      ],
      "text/latex": [
       "\\begin{tabular}{r|llllllllllllllllllllllllllllllllllllllllllllllllllllllllllllllllllllllllllllllllllllllllllllllllllllllllllllllllllllllllllllllllllllllllllllllllllllllllllllllllllllllllllllllllllllllllllllllllllllllllllllllllllllllllllllllllllllllllllllllllllllllllllllllllllllllllllllllllllllllllllllllllllllllllllllllllllll}\n",
       " Term & TCGA.04.1348.01 & TCGA.04.1357.01 & TCGA.04.1362.01 & TCGA.04.1364.01 & TCGA.04.1365.01 & TCGA.04.1514.01 & TCGA.04.1519.01 & TCGA.09.0364.01 & TCGA.09.0366.01 & ⋯ & TCGA.61.2102.01 & TCGA.61.2104.01 & TCGA.61.2109.01 & TCGA.61.2110.01 & TCGA.61.2111.01 & TCGA.61.2113.01 & TCGA.OY.A56P.01 & TCGA.OY.A56Q.01 & TCGA.VG.A8LO.01 & TCGA.WR.A838.01\\\\\n",
       "\\hline\n",
       "\t HALLMARK\\_TNFA\\_SIGNALING\\_VIA\\_NFKB    & 0.4135076                                   & 0.3815939                                   & 0.3926226                                   & 0.2323723                                   & 0.3758730                                   & 0.2598795                                   & 0.2713037                                   & 0.1626862                                   & 0.4179557                                   & ⋯                                           & 0.3120871                                   & 0.4260576                                   & 0.3664718                                   & 0.2828402                                   & 0.3253221                                   & 0.4657757                                   & 0.2317061                                   & 0.1541163                                   & 0.3250998                                   & 0.2707500                                  \\\\\n",
       "\t HALLMARK\\_HYPOXIA                    & 0.3853903                             & 0.3595335                             & 0.3717941                             & 0.3447506                             & 0.3980746                             & 0.3719009                             & 0.3461878                             & 0.2898088                             & 0.4013578                             & ⋯                                     & 0.4071586                             & 0.3606321                             & 0.3947787                             & 0.3657881                             & 0.3757698                             & 0.4593939                             & 0.3415513                             & 0.2912492                             & 0.3526980                             & 0.3406164                            \\\\\n",
       "\t HALLMARK\\_CHOLESTEROL\\_HOMEOSTASIS    & 0.4770949                               & 0.4269293                               & 0.4462245                               & 0.4662101                               & 0.4731517                               & 0.4151925                               & 0.4239398                               & 0.4261344                               & 0.4259422                               & ⋯                                       & 0.4176919                               & 0.4799393                               & 0.4549610                               & 0.4044108                               & 0.4395699                               & 0.4665223                               & 0.3567554                               & 0.3503447                               & 0.4510203                               & 0.3984776                              \\\\\n",
       "\t HALLMARK\\_MITOTIC\\_SPINDLE            & 0.5344019                               & 0.4672820                               & 0.5133319                               & 0.5496255                               & 0.5434503                               & 0.5471210                               & 0.4704768                               & 0.5515066                               & 0.4570623                               & ⋯                                       & 0.5522846                               & 0.4963472                               & 0.5353623                               & 0.4995424                               & 0.5317816                               & 0.5784247                               & 0.5682453                               & 0.5248388                               & 0.5387706                               & 0.5551333                              \\\\\n",
       "\t HALLMARK\\_WNT\\_BETA\\_CATENIN\\_SIGNALING & 0.2775478                                   & 0.2940325                                   & 0.3067881                                   & 0.3415397                                   & 0.3517504                                   & 0.4276304                                   & 0.3563603                                   & 0.4140771                                   & 0.3686600                                   & ⋯                                           & 0.4445251                                   & 0.3795205                                   & 0.3370293                                   & 0.3447636                                   & 0.3727482                                   & 0.3895140                                   & 0.4175961                                   & 0.4287844                                   & 0.3232789                                   & 0.3987617                                  \\\\\n",
       "\t HALLMARK\\_TGF\\_BETA\\_SIGNALING         & 0.5004228                                 & 0.5412242                                 & 0.5573136                                 & 0.5259441                                 & 0.5198802                                 & 0.5822179                                 & 0.5121674                                 & 0.4967842                                 & 0.5610706                                 & ⋯                                         & 0.5991747                                 & 0.5365324                                 & 0.5238909                                 & 0.5056704                                 & 0.5829953                                 & 0.6275223                                 & 0.5476635                                 & 0.5235076                                 & 0.5202442                                 & 0.5095698                                \\\\\n",
       "\\end{tabular}\n"
      ],
      "text/markdown": [
       "\n",
       "Term | TCGA.04.1348.01 | TCGA.04.1357.01 | TCGA.04.1362.01 | TCGA.04.1364.01 | TCGA.04.1365.01 | TCGA.04.1514.01 | TCGA.04.1519.01 | TCGA.09.0364.01 | TCGA.09.0366.01 | ⋯ | TCGA.61.2102.01 | TCGA.61.2104.01 | TCGA.61.2109.01 | TCGA.61.2110.01 | TCGA.61.2111.01 | TCGA.61.2113.01 | TCGA.OY.A56P.01 | TCGA.OY.A56Q.01 | TCGA.VG.A8LO.01 | TCGA.WR.A838.01 | \n",
       "|---|---|---|---|---|---|\n",
       "| HALLMARK_TNFA_SIGNALING_VIA_NFKB    | 0.4135076                           | 0.3815939                           | 0.3926226                           | 0.2323723                           | 0.3758730                           | 0.2598795                           | 0.2713037                           | 0.1626862                           | 0.4179557                           | ⋯                                   | 0.3120871                           | 0.4260576                           | 0.3664718                           | 0.2828402                           | 0.3253221                           | 0.4657757                           | 0.2317061                           | 0.1541163                           | 0.3250998                           | 0.2707500                           | \n",
       "| HALLMARK_HYPOXIA                    | 0.3853903                           | 0.3595335                           | 0.3717941                           | 0.3447506                           | 0.3980746                           | 0.3719009                           | 0.3461878                           | 0.2898088                           | 0.4013578                           | ⋯                                   | 0.4071586                           | 0.3606321                           | 0.3947787                           | 0.3657881                           | 0.3757698                           | 0.4593939                           | 0.3415513                           | 0.2912492                           | 0.3526980                           | 0.3406164                           | \n",
       "| HALLMARK_CHOLESTEROL_HOMEOSTASIS    | 0.4770949                           | 0.4269293                           | 0.4462245                           | 0.4662101                           | 0.4731517                           | 0.4151925                           | 0.4239398                           | 0.4261344                           | 0.4259422                           | ⋯                                   | 0.4176919                           | 0.4799393                           | 0.4549610                           | 0.4044108                           | 0.4395699                           | 0.4665223                           | 0.3567554                           | 0.3503447                           | 0.4510203                           | 0.3984776                           | \n",
       "| HALLMARK_MITOTIC_SPINDLE            | 0.5344019                           | 0.4672820                           | 0.5133319                           | 0.5496255                           | 0.5434503                           | 0.5471210                           | 0.4704768                           | 0.5515066                           | 0.4570623                           | ⋯                                   | 0.5522846                           | 0.4963472                           | 0.5353623                           | 0.4995424                           | 0.5317816                           | 0.5784247                           | 0.5682453                           | 0.5248388                           | 0.5387706                           | 0.5551333                           | \n",
       "| HALLMARK_WNT_BETA_CATENIN_SIGNALING | 0.2775478                           | 0.2940325                           | 0.3067881                           | 0.3415397                           | 0.3517504                           | 0.4276304                           | 0.3563603                           | 0.4140771                           | 0.3686600                           | ⋯                                   | 0.4445251                           | 0.3795205                           | 0.3370293                           | 0.3447636                           | 0.3727482                           | 0.3895140                           | 0.4175961                           | 0.4287844                           | 0.3232789                           | 0.3987617                           | \n",
       "| HALLMARK_TGF_BETA_SIGNALING         | 0.5004228                           | 0.5412242                           | 0.5573136                           | 0.5259441                           | 0.5198802                           | 0.5822179                           | 0.5121674                           | 0.4967842                           | 0.5610706                           | ⋯                                   | 0.5991747                           | 0.5365324                           | 0.5238909                           | 0.5056704                           | 0.5829953                           | 0.6275223                           | 0.5476635                           | 0.5235076                           | 0.5202442                           | 0.5095698                           | \n",
       "\n",
       "\n"
      ],
      "text/plain": [
       "  Term                                TCGA.04.1348.01 TCGA.04.1357.01\n",
       "1 HALLMARK_TNFA_SIGNALING_VIA_NFKB    0.4135076       0.3815939      \n",
       "2 HALLMARK_HYPOXIA                    0.3853903       0.3595335      \n",
       "3 HALLMARK_CHOLESTEROL_HOMEOSTASIS    0.4770949       0.4269293      \n",
       "4 HALLMARK_MITOTIC_SPINDLE            0.5344019       0.4672820      \n",
       "5 HALLMARK_WNT_BETA_CATENIN_SIGNALING 0.2775478       0.2940325      \n",
       "6 HALLMARK_TGF_BETA_SIGNALING         0.5004228       0.5412242      \n",
       "  TCGA.04.1362.01 TCGA.04.1364.01 TCGA.04.1365.01 TCGA.04.1514.01\n",
       "1 0.3926226       0.2323723       0.3758730       0.2598795      \n",
       "2 0.3717941       0.3447506       0.3980746       0.3719009      \n",
       "3 0.4462245       0.4662101       0.4731517       0.4151925      \n",
       "4 0.5133319       0.5496255       0.5434503       0.5471210      \n",
       "5 0.3067881       0.3415397       0.3517504       0.4276304      \n",
       "6 0.5573136       0.5259441       0.5198802       0.5822179      \n",
       "  TCGA.04.1519.01 TCGA.09.0364.01 TCGA.09.0366.01 ⋯ TCGA.61.2102.01\n",
       "1 0.2713037       0.1626862       0.4179557       ⋯ 0.3120871      \n",
       "2 0.3461878       0.2898088       0.4013578       ⋯ 0.4071586      \n",
       "3 0.4239398       0.4261344       0.4259422       ⋯ 0.4176919      \n",
       "4 0.4704768       0.5515066       0.4570623       ⋯ 0.5522846      \n",
       "5 0.3563603       0.4140771       0.3686600       ⋯ 0.4445251      \n",
       "6 0.5121674       0.4967842       0.5610706       ⋯ 0.5991747      \n",
       "  TCGA.61.2104.01 TCGA.61.2109.01 TCGA.61.2110.01 TCGA.61.2111.01\n",
       "1 0.4260576       0.3664718       0.2828402       0.3253221      \n",
       "2 0.3606321       0.3947787       0.3657881       0.3757698      \n",
       "3 0.4799393       0.4549610       0.4044108       0.4395699      \n",
       "4 0.4963472       0.5353623       0.4995424       0.5317816      \n",
       "5 0.3795205       0.3370293       0.3447636       0.3727482      \n",
       "6 0.5365324       0.5238909       0.5056704       0.5829953      \n",
       "  TCGA.61.2113.01 TCGA.OY.A56P.01 TCGA.OY.A56Q.01 TCGA.VG.A8LO.01\n",
       "1 0.4657757       0.2317061       0.1541163       0.3250998      \n",
       "2 0.4593939       0.3415513       0.2912492       0.3526980      \n",
       "3 0.4665223       0.3567554       0.3503447       0.4510203      \n",
       "4 0.5784247       0.5682453       0.5248388       0.5387706      \n",
       "5 0.3895140       0.4175961       0.4287844       0.3232789      \n",
       "6 0.6275223       0.5476635       0.5235076       0.5202442      \n",
       "  TCGA.WR.A838.01\n",
       "1 0.2707500      \n",
       "2 0.3406164      \n",
       "3 0.3984776      \n",
       "4 0.5551333      \n",
       "5 0.3987617      \n",
       "6 0.5095698      "
      ]
     },
     "metadata": {},
     "output_type": "display_data"
    }
   ],
   "source": [
    "head(hsi_NES)"
   ]
  },
  {
   "cell_type": "code",
   "execution_count": 14,
   "metadata": {},
   "outputs": [],
   "source": [
    "write.table(hsi_NES,\n",
    "            file='../../Data/3/HallmarksStromaImmune_NES_TCGAOV.txt',\n",
    "            sep='\\t',\n",
    "            row.names=F,\n",
    "            col.names=T)"
   ]
  },
  {
   "cell_type": "markdown",
   "metadata": {},
   "source": [
    "# End script"
   ]
  }
 ],
 "metadata": {
  "kernelspec": {
   "display_name": "R",
   "language": "R",
   "name": "ir"
  },
  "language_info": {
   "codemirror_mode": "r",
   "file_extension": ".r",
   "mimetype": "text/x-r-source",
   "name": "R",
   "pygments_lexer": "r",
   "version": "3.5.0"
  }
 },
 "nbformat": 4,
 "nbformat_minor": 2
}

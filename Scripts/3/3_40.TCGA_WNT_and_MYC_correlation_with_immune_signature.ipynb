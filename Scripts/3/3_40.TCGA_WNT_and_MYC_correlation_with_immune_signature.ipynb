{
 "cells": [
  {
   "cell_type": "markdown",
   "metadata": {},
   "source": [
    "# TCGA correlation of WNT and MYC signaling with Immune signaling\n"
   ]
  },
  {
   "cell_type": "markdown",
   "metadata": {},
   "source": [
    "Script related to figure s3g\n",
    "\n",
    "### Aim:\n",
    "- Correlate TCGA MYC and WNT siganling with immune signaling"
   ]
  },
  {
   "cell_type": "code",
   "execution_count": 2,
   "metadata": {},
   "outputs": [
    {
     "name": "stdout",
     "output_type": "stream",
     "text": [
      "Python 3.6.8 :: Anaconda custom (64-bit)\r\n"
     ]
    }
   ],
   "source": [
    "!python --version"
   ]
  },
  {
   "cell_type": "code",
   "execution_count": 3,
   "metadata": {},
   "outputs": [],
   "source": [
    "import pandas as pd\n",
    "import seaborn as sns\n",
    "import matplotlib.pyplot as plt\n",
    "from scipy.stats import kendalltau, spearmanr"
   ]
  },
  {
   "cell_type": "code",
   "execution_count": 4,
   "metadata": {},
   "outputs": [],
   "source": [
    "home = \"~/git_repos/HGSOC_TME_Heterogeneity/\""
   ]
  },
  {
   "cell_type": "code",
   "execution_count": 8,
   "metadata": {},
   "outputs": [],
   "source": [
    "file_nes = home + 'Data/3/HallmarksStromaImmune_NES_TCGAOV.txt'\n",
    "\n",
    "data_nes = pd.read_csv(file_nes,\n",
    "                       sep='\\t')\n",
    "\n",
    "data_nes.set_index('Term',\n",
    "                   inplace=True)"
   ]
  },
  {
   "cell_type": "code",
   "execution_count": 9,
   "metadata": {},
   "outputs": [
    {
     "data": {
      "text/plain": [
       "Index(['HALLMARK_TNFA_SIGNALING_VIA_NFKB', 'HALLMARK_HYPOXIA',\n",
       "       'HALLMARK_CHOLESTEROL_HOMEOSTASIS', 'HALLMARK_MITOTIC_SPINDLE',\n",
       "       'HALLMARK_WNT_BETA_CATENIN_SIGNALING', 'HALLMARK_TGF_BETA_SIGNALING',\n",
       "       'HALLMARK_IL6_JAK_STAT3_SIGNALING', 'HALLMARK_DNA_REPAIR',\n",
       "       'HALLMARK_G2M_CHECKPOINT', 'HALLMARK_APOPTOSIS',\n",
       "       'HALLMARK_NOTCH_SIGNALING', 'HALLMARK_ADIPOGENESIS',\n",
       "       'HALLMARK_ESTROGEN_RESPONSE_EARLY', 'HALLMARK_ESTROGEN_RESPONSE_LATE',\n",
       "       'HALLMARK_ANDROGEN_RESPONSE', 'HALLMARK_MYOGENESIS',\n",
       "       'HALLMARK_PROTEIN_SECRETION', 'HALLMARK_INTERFERON_ALPHA_RESPONSE',\n",
       "       'HALLMARK_INTERFERON_GAMMA_RESPONSE', 'HALLMARK_APICAL_JUNCTION',\n",
       "       'HALLMARK_APICAL_SURFACE', 'HALLMARK_HEDGEHOG_SIGNALING',\n",
       "       'HALLMARK_COMPLEMENT', 'HALLMARK_UNFOLDED_PROTEIN_RESPONSE',\n",
       "       'HALLMARK_PI3K_AKT_MTOR_SIGNALING', 'HALLMARK_MTORC1_SIGNALING',\n",
       "       'HALLMARK_E2F_TARGETS', 'HALLMARK_MYC_TARGETS_V1',\n",
       "       'HALLMARK_MYC_TARGETS_V2', 'HALLMARK_EPITHELIAL_MESENCHYMAL_TRANSITION',\n",
       "       'HALLMARK_INFLAMMATORY_RESPONSE', 'HALLMARK_XENOBIOTIC_METABOLISM',\n",
       "       'HALLMARK_FATTY_ACID_METABOLISM', 'HALLMARK_OXIDATIVE_PHOSPHORYLATION',\n",
       "       'HALLMARK_GLYCOLYSIS', 'HALLMARK_REACTIVE_OXIGEN_SPECIES_PATHWAY',\n",
       "       'HALLMARK_P53_PATHWAY', 'HALLMARK_UV_RESPONSE_UP',\n",
       "       'HALLMARK_UV_RESPONSE_DN', 'HALLMARK_ANGIOGENESIS',\n",
       "       'HALLMARK_HEME_METABOLISM', 'HALLMARK_COAGULATION',\n",
       "       'HALLMARK_IL2_STAT5_SIGNALING', 'HALLMARK_BILE_ACID_METABOLISM',\n",
       "       'HALLMARK_PEROXISOME', 'HALLMARK_ALLOGRAFT_REJECTION',\n",
       "       'HALLMARK_SPERMATOGENESIS', 'HALLMARK_KRAS_SIGNALING_UP',\n",
       "       'HALLMARK_KRAS_SIGNALING_DN', 'HALLMARK_PANCREAS_BETA_CELLS',\n",
       "       'StromalSignature', 'ImmuneSignature'],\n",
       "      dtype='object', name='Term')"
      ]
     },
     "execution_count": 9,
     "metadata": {},
     "output_type": "execute_result"
    }
   ],
   "source": [
    "data_nes.index"
   ]
  },
  {
   "cell_type": "code",
   "execution_count": 10,
   "metadata": {},
   "outputs": [],
   "source": [
    "data_nes_t = data_nes.T"
   ]
  },
  {
   "cell_type": "code",
   "execution_count": 11,
   "metadata": {},
   "outputs": [],
   "source": [
    "wnt = \"HALLMARK_WNT_BETA_CATENIN_SIGNALING\"\n",
    "myc1 = \"HALLMARK_MYC_TARGETS_V1\"\n",
    "myc2 = \"HALLMARK_MYC_TARGETS_V2\"\n",
    "sper = \"HALLMARK_SPERMATOGENESIS\"\n",
    "per = \"HALLMARK_PEROXISOME\"\n",
    "psec = \"HALLMARK_PROTEIN_SECRETION\"\n",
    "g2m = \"HALLMARK_G2M_CHECKPOINT\"\n",
    "e2f = \"HALLMARK_E2F_TARGETS\"\n",
    "y = \"ImmuneSignature\""
   ]
  },
  {
   "cell_type": "code",
   "execution_count": 18,
   "metadata": {},
   "outputs": [
    {
     "data": {
      "image/png": "[encoded data removed]",
      "text/plain": [
       "<Figure size 360x360 with 1 Axes>"
      ]
     },
     "metadata": {},
     "output_type": "display_data"
    }
   ],
   "source": [
    "g = sns.lmplot(x=wnt,\n",
    "               y=y,\n",
    "               data=data_nes_t,\n",
    "               truncate=True,\n",
    "               scatter_kws={'color':'k',\n",
    "                            'marker':\".\",\n",
    "                            's':3},\n",
    "               line_kws={'color':'k',\n",
    "                         'zorder':0})\n",
    "\n",
    "sns.despine(trim=False)"
   ]
  },
  {
   "cell_type": "code",
   "execution_count": 19,
   "metadata": {},
   "outputs": [],
   "source": [
    "g.savefig(\"../../Figures/supplementary/3/panels/s3g_Immune_WNT_RNA.pdf\")"
   ]
  },
  {
   "cell_type": "code",
   "execution_count": 14,
   "metadata": {},
   "outputs": [],
   "source": [
    "import scipy.stats"
   ]
  },
  {
   "cell_type": "code",
   "execution_count": 20,
   "metadata": {},
   "outputs": [
    {
     "name": "stdout",
     "output_type": "stream",
     "text": [
      "HALLMARK_WNT_BETA_CATENIN_SIGNALING\n",
      "\n",
      "NOT normal\n",
      "HETEROscedastic\n",
      "\n",
      "KENDALL\n",
      "KendalltauResult(correlation=-0.16965787400736626, pvalue=9.263586085970709e-06)\n"
     ]
    }
   ],
   "source": [
    "y_values = data_nes_t[\"ImmuneSignature\"]\n",
    "\n",
    "x = wnt\n",
    "\n",
    "x_values = data_nes_t[x]\n",
    "\n",
    "print(x+\"\\n\")\n",
    "\n",
    "n1 = scipy.stats.shapiro(x_values)[1]\n",
    "n2 = scipy.stats.shapiro(y_values)[1]\n",
    "\n",
    "n3 = scipy.stats.normaltest(x_values)[1]\n",
    "n4 = scipy.stats.normaltest(y_values)[1]\n",
    "\n",
    "n5 = scipy.stats.anderson(x_values)\n",
    "n6 = scipy.stats.anderson(y_values)\n",
    "\n",
    "if min([n1,n2,n3,n4]) < 0.05: # not normal\n",
    "\n",
    "    print(\"NOT normal\")\n",
    "\n",
    "    h1 = scipy.stats.levene(x_values, y_values)[1]\n",
    "\n",
    "    if h1 < 0.05:\n",
    "        print(\"HETEROscedastic\\n\")\n",
    "        #print(h1)\n",
    "    else:\n",
    "        print(\"HOMOscedastic\\n\")\n",
    "\n",
    "else:\n",
    "\n",
    "    print(\"Normal\")\n",
    "\n",
    "    h1 = scipy.stats.bartlett(x_values,y_values)[1]\n",
    "\n",
    "    if h1 < 0.05:\n",
    "        print(\"HETEROscedastic\\n\")\n",
    "    else:\n",
    "        print(\"HOMOscedastic\\n\")\n",
    "\n",
    "if min([n1,n2,n3,n4,h1]) < 0.05:\n",
    "\n",
    "    print(\"KENDALL\")\n",
    "\n",
    "    print(scipy.stats.kendalltau(x_values,y_values,method=\"asymptotic\"))\n",
    "\n",
    "    cor, p_val = scipy.stats.kendalltau(x_values,y_values)\n",
    "\n",
    "else:\n",
    "\n",
    "    print(\"anderson\")\n",
    "\n",
    "    print(n5[0], n5[1])\n",
    "    print(n6[0], n6[1])\n",
    "    print(\"\\n\")\n",
    "\n",
    "    print(\"PEARSON\")\n",
    "    print(scipy.stats.pearsonr(x_values,y_values))\n",
    "\n",
    "    cor, p_val = scipy.stats.pearsonr(x_values,y_values)\n",
    "\n",
    "    print(\"\\n\")"
   ]
  },
  {
   "cell_type": "markdown",
   "metadata": {},
   "source": [
    "# End script"
   ]
  }
 ],
 "metadata": {
  "kernelspec": {
   "display_name": "Python 3",
   "language": "python",
   "name": "python3"
  },
  "language_info": {
   "codemirror_mode": {
    "name": "ipython",
    "version": 3
   },
   "file_extension": ".py",
   "mimetype": "text/x-python",
   "name": "python",
   "nbconvert_exporter": "python",
   "pygments_lexer": "ipython3",
   "version": "3.6.8"
  }
 },
 "nbformat": 4,
 "nbformat_minor": 2
}

{
 "cells": [
  {
   "cell_type": "markdown",
   "metadata": {},
   "source": [
    "# Plot cluster map of samples mRNA"
   ]
  },
  {
   "cell_type": "markdown",
   "metadata": {},
   "source": [
    "Script related to figure s1a\n",
    "\n",
    "### Aim:\n",
    "- Plot clustermap of transcriptomes as additional visualisation"
   ]
  },
  {
   "cell_type": "code",
   "execution_count": 3,
   "metadata": {},
   "outputs": [
    {
     "name": "stdout",
     "output_type": "stream",
     "text": [
      "Python 3.6.8 :: Anaconda custom (64-bit)\r\n"
     ]
    }
   ],
   "source": [
    "!python --version"
   ]
  },
  {
   "cell_type": "markdown",
   "metadata": {},
   "source": [
    "## Import packages"
   ]
  },
  {
   "cell_type": "code",
   "execution_count": 1,
   "metadata": {},
   "outputs": [],
   "source": [
    "import pandas as pd\n",
    "import seaborn as sns"
   ]
  },
  {
   "cell_type": "code",
   "execution_count": 4,
   "metadata": {},
   "outputs": [],
   "source": [
    "home = \"~/git_repos/HGSOC_TME_Heterogeneity/\""
   ]
  },
  {
   "cell_type": "markdown",
   "metadata": {},
   "source": [
    "## Get sample labels"
   ]
  },
  {
   "cell_type": "markdown",
   "metadata": {},
   "source": [
    "### Load file"
   ]
  },
  {
   "cell_type": "code",
   "execution_count": 5,
   "metadata": {},
   "outputs": [],
   "source": [
    "file_keys = home + 'Data/1/TreatmentNaive_SampleLabels_WESTumourCellularity.txt'\n",
    "\n",
    "sample_labels = pd.read_csv(file_keys, sep='\\t', index_col='Well')"
   ]
  },
  {
   "cell_type": "code",
   "execution_count": 6,
   "metadata": {},
   "outputs": [
    {
     "data": {
      "text/html": [
       "<div>\n",
       "<style scoped>\n",
       "    .dataframe tbody tr th:only-of-type {\n",
       "        vertical-align: middle;\n",
       "    }\n",
       "\n",
       "    .dataframe tbody tr th {\n",
       "        vertical-align: top;\n",
       "    }\n",
       "\n",
       "    .dataframe thead th {\n",
       "        text-align: right;\n",
       "    }\n",
       "</style>\n",
       "<table border=\"1\" class=\"dataframe\">\n",
       "  <thead>\n",
       "    <tr style=\"text-align: right;\">\n",
       "      <th></th>\n",
       "      <th>Label</th>\n",
       "      <th>Key</th>\n",
       "      <th>Case_mRNA</th>\n",
       "      <th>Site</th>\n",
       "      <th>Habitat</th>\n",
       "      <th>Case_WES</th>\n",
       "      <th>Tumour_WES</th>\n",
       "      <th>Colour</th>\n",
       "      <th>Site_marker</th>\n",
       "      <th>TumourCellularity_WES</th>\n",
       "    </tr>\n",
       "    <tr>\n",
       "      <th>Well</th>\n",
       "      <th></th>\n",
       "      <th></th>\n",
       "      <th></th>\n",
       "      <th></th>\n",
       "      <th></th>\n",
       "      <th></th>\n",
       "      <th></th>\n",
       "      <th></th>\n",
       "      <th></th>\n",
       "      <th></th>\n",
       "    </tr>\n",
       "  </thead>\n",
       "  <tbody>\n",
       "    <tr>\n",
       "      <th>A01</th>\n",
       "      <td>A01_3640_5_Omentum</td>\n",
       "      <td>case10_omentum_green</td>\n",
       "      <td>10</td>\n",
       "      <td>omentum</td>\n",
       "      <td>green</td>\n",
       "      <td>10.0</td>\n",
       "      <td>5</td>\n",
       "      <td>#ff7f00</td>\n",
       "      <td>^</td>\n",
       "      <td>0.5973</td>\n",
       "    </tr>\n",
       "    <tr>\n",
       "      <th>A02</th>\n",
       "      <td>A02_3640_7_Omentum</td>\n",
       "      <td>case10_omentum_blue</td>\n",
       "      <td>10</td>\n",
       "      <td>omentum</td>\n",
       "      <td>blue</td>\n",
       "      <td>10.0</td>\n",
       "      <td>7</td>\n",
       "      <td>#ff7f00</td>\n",
       "      <td>^</td>\n",
       "      <td>0.5065</td>\n",
       "    </tr>\n",
       "    <tr>\n",
       "      <th>A03</th>\n",
       "      <td>A03_3640_9_Paracolic_Gutter</td>\n",
       "      <td>case10_paracolic_yellow</td>\n",
       "      <td>10</td>\n",
       "      <td>other</td>\n",
       "      <td>yellow</td>\n",
       "      <td>10.0</td>\n",
       "      <td>8</td>\n",
       "      <td>#ff7f00</td>\n",
       "      <td>s</td>\n",
       "      <td>0.4551</td>\n",
       "    </tr>\n",
       "    <tr>\n",
       "      <th>A04</th>\n",
       "      <td>A04_3640_17_R_Adnexa</td>\n",
       "      <td>case10_Radnexa_yellow</td>\n",
       "      <td>10</td>\n",
       "      <td>ovary</td>\n",
       "      <td>yellow</td>\n",
       "      <td>10.0</td>\n",
       "      <td>17</td>\n",
       "      <td>#ff7f00</td>\n",
       "      <td>o</td>\n",
       "      <td>0.6496</td>\n",
       "    </tr>\n",
       "    <tr>\n",
       "      <th>A05</th>\n",
       "      <td>A05_3640_18_R_Adnexa</td>\n",
       "      <td>case10_Radnexa_blue</td>\n",
       "      <td>10</td>\n",
       "      <td>ovary</td>\n",
       "      <td>blue</td>\n",
       "      <td>10.0</td>\n",
       "      <td>18</td>\n",
       "      <td>#ff7f00</td>\n",
       "      <td>o</td>\n",
       "      <td>0.6706</td>\n",
       "    </tr>\n",
       "  </tbody>\n",
       "</table>\n",
       "</div>"
      ],
      "text/plain": [
       "                            Label                      Key  Case_mRNA  \\\n",
       "Well                                                                    \n",
       "A01            A01_3640_5_Omentum     case10_omentum_green         10   \n",
       "A02            A02_3640_7_Omentum      case10_omentum_blue         10   \n",
       "A03   A03_3640_9_Paracolic_Gutter  case10_paracolic_yellow         10   \n",
       "A04          A04_3640_17_R_Adnexa    case10_Radnexa_yellow         10   \n",
       "A05          A05_3640_18_R_Adnexa      case10_Radnexa_blue         10   \n",
       "\n",
       "         Site Habitat  Case_WES Tumour_WES   Colour Site_marker  \\\n",
       "Well                                                              \n",
       "A01   omentum   green      10.0          5  #ff7f00           ^   \n",
       "A02   omentum    blue      10.0          7  #ff7f00           ^   \n",
       "A03     other  yellow      10.0          8  #ff7f00           s   \n",
       "A04     ovary  yellow      10.0         17  #ff7f00           o   \n",
       "A05     ovary    blue      10.0         18  #ff7f00           o   \n",
       "\n",
       "      TumourCellularity_WES  \n",
       "Well                         \n",
       "A01                  0.5973  \n",
       "A02                  0.5065  \n",
       "A03                  0.4551  \n",
       "A04                  0.6496  \n",
       "A05                  0.6706  "
      ]
     },
     "execution_count": 6,
     "metadata": {},
     "output_type": "execute_result"
    }
   ],
   "source": [
    "sample_labels.head()"
   ]
  },
  {
   "cell_type": "markdown",
   "metadata": {},
   "source": [
    "### Define sample colours"
   ]
  },
  {
   "cell_type": "code",
   "execution_count": 7,
   "metadata": {},
   "outputs": [],
   "source": [
    "case_mrna = list(set(sample_labels['Case_mRNA']))\n",
    "\n",
    "colours = sns.color_palette(\"Set1\", 8).as_hex()\n",
    "\n",
    "sample_labels['Colour'] = sample_labels['Case_mRNA'].replace(case_mrna, colours)"
   ]
  },
  {
   "cell_type": "markdown",
   "metadata": {},
   "source": [
    "### Define sample markers"
   ]
  },
  {
   "cell_type": "code",
   "execution_count": 8,
   "metadata": {},
   "outputs": [],
   "source": [
    "sites = ['ovary','omentum','other']\n",
    "markers = ['o','^','s']\n",
    "\n",
    "sample_labels['Site_marker'] = sample_labels['Site'].replace(sites,markers)"
   ]
  },
  {
   "cell_type": "code",
   "execution_count": 9,
   "metadata": {},
   "outputs": [
    {
     "data": {
      "text/html": [
       "<div>\n",
       "<style scoped>\n",
       "    .dataframe tbody tr th:only-of-type {\n",
       "        vertical-align: middle;\n",
       "    }\n",
       "\n",
       "    .dataframe tbody tr th {\n",
       "        vertical-align: top;\n",
       "    }\n",
       "\n",
       "    .dataframe thead th {\n",
       "        text-align: right;\n",
       "    }\n",
       "</style>\n",
       "<table border=\"1\" class=\"dataframe\">\n",
       "  <thead>\n",
       "    <tr style=\"text-align: right;\">\n",
       "      <th></th>\n",
       "      <th>Label</th>\n",
       "      <th>Key</th>\n",
       "      <th>Case_mRNA</th>\n",
       "      <th>Site</th>\n",
       "      <th>Habitat</th>\n",
       "      <th>Case_WES</th>\n",
       "      <th>Tumour_WES</th>\n",
       "      <th>Colour</th>\n",
       "      <th>Site_marker</th>\n",
       "      <th>TumourCellularity_WES</th>\n",
       "    </tr>\n",
       "    <tr>\n",
       "      <th>Well</th>\n",
       "      <th></th>\n",
       "      <th></th>\n",
       "      <th></th>\n",
       "      <th></th>\n",
       "      <th></th>\n",
       "      <th></th>\n",
       "      <th></th>\n",
       "      <th></th>\n",
       "      <th></th>\n",
       "      <th></th>\n",
       "    </tr>\n",
       "  </thead>\n",
       "  <tbody>\n",
       "    <tr>\n",
       "      <th>A01</th>\n",
       "      <td>A01_3640_5_Omentum</td>\n",
       "      <td>case10_omentum_green</td>\n",
       "      <td>10</td>\n",
       "      <td>omentum</td>\n",
       "      <td>green</td>\n",
       "      <td>10.0</td>\n",
       "      <td>5</td>\n",
       "      <td>#ff7f00</td>\n",
       "      <td>^</td>\n",
       "      <td>0.5973</td>\n",
       "    </tr>\n",
       "    <tr>\n",
       "      <th>A02</th>\n",
       "      <td>A02_3640_7_Omentum</td>\n",
       "      <td>case10_omentum_blue</td>\n",
       "      <td>10</td>\n",
       "      <td>omentum</td>\n",
       "      <td>blue</td>\n",
       "      <td>10.0</td>\n",
       "      <td>7</td>\n",
       "      <td>#ff7f00</td>\n",
       "      <td>^</td>\n",
       "      <td>0.5065</td>\n",
       "    </tr>\n",
       "    <tr>\n",
       "      <th>A03</th>\n",
       "      <td>A03_3640_9_Paracolic_Gutter</td>\n",
       "      <td>case10_paracolic_yellow</td>\n",
       "      <td>10</td>\n",
       "      <td>other</td>\n",
       "      <td>yellow</td>\n",
       "      <td>10.0</td>\n",
       "      <td>8</td>\n",
       "      <td>#ff7f00</td>\n",
       "      <td>s</td>\n",
       "      <td>0.4551</td>\n",
       "    </tr>\n",
       "    <tr>\n",
       "      <th>A04</th>\n",
       "      <td>A04_3640_17_R_Adnexa</td>\n",
       "      <td>case10_Radnexa_yellow</td>\n",
       "      <td>10</td>\n",
       "      <td>ovary</td>\n",
       "      <td>yellow</td>\n",
       "      <td>10.0</td>\n",
       "      <td>17</td>\n",
       "      <td>#ff7f00</td>\n",
       "      <td>o</td>\n",
       "      <td>0.6496</td>\n",
       "    </tr>\n",
       "    <tr>\n",
       "      <th>A05</th>\n",
       "      <td>A05_3640_18_R_Adnexa</td>\n",
       "      <td>case10_Radnexa_blue</td>\n",
       "      <td>10</td>\n",
       "      <td>ovary</td>\n",
       "      <td>blue</td>\n",
       "      <td>10.0</td>\n",
       "      <td>18</td>\n",
       "      <td>#ff7f00</td>\n",
       "      <td>o</td>\n",
       "      <td>0.6706</td>\n",
       "    </tr>\n",
       "  </tbody>\n",
       "</table>\n",
       "</div>"
      ],
      "text/plain": [
       "                            Label                      Key  Case_mRNA  \\\n",
       "Well                                                                    \n",
       "A01            A01_3640_5_Omentum     case10_omentum_green         10   \n",
       "A02            A02_3640_7_Omentum      case10_omentum_blue         10   \n",
       "A03   A03_3640_9_Paracolic_Gutter  case10_paracolic_yellow         10   \n",
       "A04          A04_3640_17_R_Adnexa    case10_Radnexa_yellow         10   \n",
       "A05          A05_3640_18_R_Adnexa      case10_Radnexa_blue         10   \n",
       "\n",
       "         Site Habitat  Case_WES Tumour_WES   Colour Site_marker  \\\n",
       "Well                                                              \n",
       "A01   omentum   green      10.0          5  #ff7f00           ^   \n",
       "A02   omentum    blue      10.0          7  #ff7f00           ^   \n",
       "A03     other  yellow      10.0          8  #ff7f00           s   \n",
       "A04     ovary  yellow      10.0         17  #ff7f00           o   \n",
       "A05     ovary    blue      10.0         18  #ff7f00           o   \n",
       "\n",
       "      TumourCellularity_WES  \n",
       "Well                         \n",
       "A01                  0.5973  \n",
       "A02                  0.5065  \n",
       "A03                  0.4551  \n",
       "A04                  0.6496  \n",
       "A05                  0.6706  "
      ]
     },
     "execution_count": 9,
     "metadata": {},
     "output_type": "execute_result"
    }
   ],
   "source": [
    "sample_labels.head()"
   ]
  },
  {
   "cell_type": "markdown",
   "metadata": {},
   "source": [
    "## Load expression data"
   ]
  },
  {
   "cell_type": "code",
   "execution_count": 10,
   "metadata": {},
   "outputs": [],
   "source": [
    "data_file = home + \"Data/1/TreatmentNaive_log2exp_loess_norm.txt\"\n",
    "\n",
    "data = pd.read_csv(data_file, sep='\\t', index_col='Hugo_Symbol')"
   ]
  },
  {
   "cell_type": "code",
   "execution_count": 11,
   "metadata": {},
   "outputs": [
    {
     "data": {
      "text/html": [
       "<div>\n",
       "<style scoped>\n",
       "    .dataframe tbody tr th:only-of-type {\n",
       "        vertical-align: middle;\n",
       "    }\n",
       "\n",
       "    .dataframe tbody tr th {\n",
       "        vertical-align: top;\n",
       "    }\n",
       "\n",
       "    .dataframe thead th {\n",
       "        text-align: right;\n",
       "    }\n",
       "</style>\n",
       "<table border=\"1\" class=\"dataframe\">\n",
       "  <thead>\n",
       "    <tr style=\"text-align: right;\">\n",
       "      <th></th>\n",
       "      <th>A01</th>\n",
       "      <th>A02</th>\n",
       "      <th>A03</th>\n",
       "      <th>A04</th>\n",
       "      <th>A05</th>\n",
       "      <th>A06</th>\n",
       "      <th>A07</th>\n",
       "      <th>A08</th>\n",
       "      <th>A09</th>\n",
       "      <th>A10</th>\n",
       "      <th>...</th>\n",
       "      <th>C06</th>\n",
       "      <th>C07</th>\n",
       "      <th>C08</th>\n",
       "      <th>C09</th>\n",
       "      <th>C10</th>\n",
       "      <th>C11</th>\n",
       "      <th>C12</th>\n",
       "      <th>D01</th>\n",
       "      <th>D02</th>\n",
       "      <th>D03</th>\n",
       "    </tr>\n",
       "    <tr>\n",
       "      <th>Hugo_Symbol</th>\n",
       "      <th></th>\n",
       "      <th></th>\n",
       "      <th></th>\n",
       "      <th></th>\n",
       "      <th></th>\n",
       "      <th></th>\n",
       "      <th></th>\n",
       "      <th></th>\n",
       "      <th></th>\n",
       "      <th></th>\n",
       "      <th></th>\n",
       "      <th></th>\n",
       "      <th></th>\n",
       "      <th></th>\n",
       "      <th></th>\n",
       "      <th></th>\n",
       "      <th></th>\n",
       "      <th></th>\n",
       "      <th></th>\n",
       "      <th></th>\n",
       "      <th></th>\n",
       "    </tr>\n",
       "  </thead>\n",
       "  <tbody>\n",
       "    <tr>\n",
       "      <th>A1BG</th>\n",
       "      <td>4.124711</td>\n",
       "      <td>3.880633</td>\n",
       "      <td>4.864973</td>\n",
       "      <td>4.167882</td>\n",
       "      <td>4.317845</td>\n",
       "      <td>3.679057</td>\n",
       "      <td>4.092837</td>\n",
       "      <td>4.370571</td>\n",
       "      <td>4.252637</td>\n",
       "      <td>4.174694</td>\n",
       "      <td>...</td>\n",
       "      <td>3.804537</td>\n",
       "      <td>4.416981</td>\n",
       "      <td>4.169014</td>\n",
       "      <td>4.503313</td>\n",
       "      <td>4.146333</td>\n",
       "      <td>4.078398</td>\n",
       "      <td>4.011369</td>\n",
       "      <td>3.845128</td>\n",
       "      <td>3.600927</td>\n",
       "      <td>4.521857</td>\n",
       "    </tr>\n",
       "    <tr>\n",
       "      <th>A2BP1</th>\n",
       "      <td>3.960924</td>\n",
       "      <td>4.033715</td>\n",
       "      <td>3.721251</td>\n",
       "      <td>3.916073</td>\n",
       "      <td>4.338194</td>\n",
       "      <td>3.357396</td>\n",
       "      <td>3.872447</td>\n",
       "      <td>3.803388</td>\n",
       "      <td>3.484735</td>\n",
       "      <td>4.427405</td>\n",
       "      <td>...</td>\n",
       "      <td>4.991068</td>\n",
       "      <td>3.799913</td>\n",
       "      <td>4.117883</td>\n",
       "      <td>4.122134</td>\n",
       "      <td>4.221760</td>\n",
       "      <td>3.648326</td>\n",
       "      <td>3.675317</td>\n",
       "      <td>3.546925</td>\n",
       "      <td>3.788279</td>\n",
       "      <td>4.920841</td>\n",
       "    </tr>\n",
       "    <tr>\n",
       "      <th>A2M</th>\n",
       "      <td>12.603155</td>\n",
       "      <td>10.859838</td>\n",
       "      <td>12.612923</td>\n",
       "      <td>9.176999</td>\n",
       "      <td>10.548790</td>\n",
       "      <td>11.840776</td>\n",
       "      <td>7.200547</td>\n",
       "      <td>11.835658</td>\n",
       "      <td>11.535547</td>\n",
       "      <td>7.080118</td>\n",
       "      <td>...</td>\n",
       "      <td>9.061598</td>\n",
       "      <td>9.189459</td>\n",
       "      <td>8.844728</td>\n",
       "      <td>7.464440</td>\n",
       "      <td>6.726233</td>\n",
       "      <td>9.265911</td>\n",
       "      <td>10.740486</td>\n",
       "      <td>9.735582</td>\n",
       "      <td>10.781599</td>\n",
       "      <td>8.734304</td>\n",
       "    </tr>\n",
       "    <tr>\n",
       "      <th>A2ML1</th>\n",
       "      <td>3.945877</td>\n",
       "      <td>4.000621</td>\n",
       "      <td>3.767932</td>\n",
       "      <td>3.789729</td>\n",
       "      <td>3.543204</td>\n",
       "      <td>3.805520</td>\n",
       "      <td>4.336280</td>\n",
       "      <td>4.031757</td>\n",
       "      <td>4.166018</td>\n",
       "      <td>3.673146</td>\n",
       "      <td>...</td>\n",
       "      <td>4.231174</td>\n",
       "      <td>3.871651</td>\n",
       "      <td>3.287232</td>\n",
       "      <td>3.721093</td>\n",
       "      <td>3.723801</td>\n",
       "      <td>3.884499</td>\n",
       "      <td>3.694111</td>\n",
       "      <td>3.937682</td>\n",
       "      <td>3.600471</td>\n",
       "      <td>3.402861</td>\n",
       "    </tr>\n",
       "    <tr>\n",
       "      <th>A4GALT</th>\n",
       "      <td>3.597277</td>\n",
       "      <td>3.863757</td>\n",
       "      <td>4.051844</td>\n",
       "      <td>4.113169</td>\n",
       "      <td>3.975144</td>\n",
       "      <td>3.991293</td>\n",
       "      <td>5.439960</td>\n",
       "      <td>4.696177</td>\n",
       "      <td>4.171788</td>\n",
       "      <td>4.041633</td>\n",
       "      <td>...</td>\n",
       "      <td>4.183089</td>\n",
       "      <td>4.699729</td>\n",
       "      <td>4.019537</td>\n",
       "      <td>3.739865</td>\n",
       "      <td>4.591953</td>\n",
       "      <td>4.997860</td>\n",
       "      <td>4.099630</td>\n",
       "      <td>5.001239</td>\n",
       "      <td>4.714710</td>\n",
       "      <td>4.145119</td>\n",
       "    </tr>\n",
       "  </tbody>\n",
       "</table>\n",
       "<p>5 rows × 38 columns</p>\n",
       "</div>"
      ],
      "text/plain": [
       "                   A01        A02        A03       A04        A05        A06  \\\n",
       "Hugo_Symbol                                                                    \n",
       "A1BG          4.124711   3.880633   4.864973  4.167882   4.317845   3.679057   \n",
       "A2BP1         3.960924   4.033715   3.721251  3.916073   4.338194   3.357396   \n",
       "A2M          12.603155  10.859838  12.612923  9.176999  10.548790  11.840776   \n",
       "A2ML1         3.945877   4.000621   3.767932  3.789729   3.543204   3.805520   \n",
       "A4GALT        3.597277   3.863757   4.051844  4.113169   3.975144   3.991293   \n",
       "\n",
       "                  A07        A08        A09       A10  ...       C06  \\\n",
       "Hugo_Symbol                                            ...             \n",
       "A1BG         4.092837   4.370571   4.252637  4.174694  ...  3.804537   \n",
       "A2BP1        3.872447   3.803388   3.484735  4.427405  ...  4.991068   \n",
       "A2M          7.200547  11.835658  11.535547  7.080118  ...  9.061598   \n",
       "A2ML1        4.336280   4.031757   4.166018  3.673146  ...  4.231174   \n",
       "A4GALT       5.439960   4.696177   4.171788  4.041633  ...  4.183089   \n",
       "\n",
       "                  C07       C08       C09       C10       C11        C12  \\\n",
       "Hugo_Symbol                                                                \n",
       "A1BG         4.416981  4.169014  4.503313  4.146333  4.078398   4.011369   \n",
       "A2BP1        3.799913  4.117883  4.122134  4.221760  3.648326   3.675317   \n",
       "A2M          9.189459  8.844728  7.464440  6.726233  9.265911  10.740486   \n",
       "A2ML1        3.871651  3.287232  3.721093  3.723801  3.884499   3.694111   \n",
       "A4GALT       4.699729  4.019537  3.739865  4.591953  4.997860   4.099630   \n",
       "\n",
       "                  D01        D02       D03  \n",
       "Hugo_Symbol                                 \n",
       "A1BG         3.845128   3.600927  4.521857  \n",
       "A2BP1        3.546925   3.788279  4.920841  \n",
       "A2M          9.735582  10.781599  8.734304  \n",
       "A2ML1        3.937682   3.600471  3.402861  \n",
       "A4GALT       5.001239   4.714710  4.145119  \n",
       "\n",
       "[5 rows x 38 columns]"
      ]
     },
     "execution_count": 11,
     "metadata": {},
     "output_type": "execute_result"
    }
   ],
   "source": [
    "data.head()"
   ]
  },
  {
   "cell_type": "markdown",
   "metadata": {},
   "source": [
    "### Select 100 most variable genes"
   ]
  },
  {
   "cell_type": "code",
   "execution_count": 12,
   "metadata": {},
   "outputs": [],
   "source": [
    "most_var_genes = data.mad(axis=\"columns\").sort_values(ascending=False).head(n=100).index"
   ]
  },
  {
   "cell_type": "code",
   "execution_count": 13,
   "metadata": {},
   "outputs": [
    {
     "data": {
      "text/plain": [
       "100"
      ]
     },
     "execution_count": 13,
     "metadata": {},
     "output_type": "execute_result"
    }
   ],
   "source": [
    "data = data.loc[most_var_genes]\n",
    "\n",
    "len(data)"
   ]
  },
  {
   "cell_type": "markdown",
   "metadata": {},
   "source": [
    "## Perform sample correlation clustermap"
   ]
  },
  {
   "cell_type": "code",
   "execution_count": 14,
   "metadata": {},
   "outputs": [],
   "source": [
    "data_corr = data.corr()"
   ]
  },
  {
   "cell_type": "markdown",
   "metadata": {},
   "source": [
    "### Add binary tumour cellularity info"
   ]
  },
  {
   "cell_type": "code",
   "execution_count": 15,
   "metadata": {},
   "outputs": [],
   "source": [
    "median_tumcell = sample_labels['TumourCellularity_WES'].median()\n",
    "sample_labels['TumCell_WES_bin'] = sample_labels['TumourCellularity_WES'] > median_tumcell"
   ]
  },
  {
   "cell_type": "code",
   "execution_count": 16,
   "metadata": {},
   "outputs": [],
   "source": [
    "sample_labels['TumCell_WES_bin'].replace([True,False],\n",
    "                                         ['k','w'],\n",
    "                                         inplace=True)"
   ]
  },
  {
   "cell_type": "markdown",
   "metadata": {},
   "source": [
    "### Plot"
   ]
  },
  {
   "cell_type": "code",
   "execution_count": 17,
   "metadata": {},
   "outputs": [
    {
     "data": {
      "image/png": "[encoded data removed]",
      "text/plain": [
       "<Figure size 720x720 with 6 Axes>"
      ]
     },
     "metadata": {},
     "output_type": "display_data"
    }
   ],
   "source": [
    "g = sns.clustermap(data_corr,\n",
    "                   cmap='seismic',\n",
    "                   metric='correlation',\n",
    "                   row_colors=[sample_labels['TumCell_WES_bin'],\n",
    "                               sample_labels['Colour']],\n",
    "                   col_colors=[sample_labels['TumCell_WES_bin'],\n",
    "                               sample_labels['Colour']],\n",
    "                   linewidths=0.0, rasterized=True\n",
    "                  )"
   ]
  },
  {
   "cell_type": "code",
   "execution_count": 18,
   "metadata": {},
   "outputs": [
    {
     "data": {
      "text/plain": [
       "(38, 38)"
      ]
     },
     "execution_count": 18,
     "metadata": {},
     "output_type": "execute_result"
    }
   ],
   "source": [
    "data_corr.shape"
   ]
  },
  {
   "cell_type": "markdown",
   "metadata": {},
   "source": [
    "### Save plot"
   ]
  },
  {
   "cell_type": "code",
   "execution_count": 19,
   "metadata": {},
   "outputs": [
    {
     "name": "stdout",
     "output_type": "stream",
     "text": [
      "OVCT_Fig_s1.pdf  OVCT_Fig_s1.png  README.md        \u001b[34mpanels\u001b[m\u001b[m/\r\n"
     ]
    }
   ],
   "source": [
    "ls ../../Figures/supplementary/1/"
   ]
  },
  {
   "cell_type": "code",
   "execution_count": 20,
   "metadata": {},
   "outputs": [],
   "source": [
    "FILE = \"../../Figures/supplementary/1/panels/s1a_TreatmentNaive_mRNA_clustermap.pdf\"\n",
    "\n",
    "g.savefig(FILE, bbox='tight')"
   ]
  },
  {
   "cell_type": "markdown",
   "metadata": {},
   "source": [
    "# End script"
   ]
  },
  {
   "cell_type": "markdown",
   "metadata": {},
   "source": [
    "### Check MYC TFs levels pure vs impure"
   ]
  },
  {
   "cell_type": "code",
   "execution_count": 10,
   "metadata": {},
   "outputs": [],
   "source": [
    "data2 = data.loc[[\"MYC\", \"MYCN\"]]"
   ]
  },
  {
   "cell_type": "code",
   "execution_count": 11,
   "metadata": {},
   "outputs": [
    {
     "data": {
      "text/html": [
       "<div>\n",
       "<style scoped>\n",
       "    .dataframe tbody tr th:only-of-type {\n",
       "        vertical-align: middle;\n",
       "    }\n",
       "\n",
       "    .dataframe tbody tr th {\n",
       "        vertical-align: top;\n",
       "    }\n",
       "\n",
       "    .dataframe thead th {\n",
       "        text-align: right;\n",
       "    }\n",
       "</style>\n",
       "<table border=\"1\" class=\"dataframe\">\n",
       "  <thead>\n",
       "    <tr style=\"text-align: right;\">\n",
       "      <th></th>\n",
       "      <th>A01</th>\n",
       "      <th>A02</th>\n",
       "      <th>A03</th>\n",
       "      <th>A04</th>\n",
       "      <th>A05</th>\n",
       "      <th>A06</th>\n",
       "      <th>A07</th>\n",
       "      <th>A08</th>\n",
       "      <th>A09</th>\n",
       "      <th>A10</th>\n",
       "      <th>...</th>\n",
       "      <th>C06</th>\n",
       "      <th>C07</th>\n",
       "      <th>C08</th>\n",
       "      <th>C09</th>\n",
       "      <th>C10</th>\n",
       "      <th>C11</th>\n",
       "      <th>C12</th>\n",
       "      <th>D01</th>\n",
       "      <th>D02</th>\n",
       "      <th>D03</th>\n",
       "    </tr>\n",
       "    <tr>\n",
       "      <th>Hugo_Symbol</th>\n",
       "      <th></th>\n",
       "      <th></th>\n",
       "      <th></th>\n",
       "      <th></th>\n",
       "      <th></th>\n",
       "      <th></th>\n",
       "      <th></th>\n",
       "      <th></th>\n",
       "      <th></th>\n",
       "      <th></th>\n",
       "      <th></th>\n",
       "      <th></th>\n",
       "      <th></th>\n",
       "      <th></th>\n",
       "      <th></th>\n",
       "      <th></th>\n",
       "      <th></th>\n",
       "      <th></th>\n",
       "      <th></th>\n",
       "      <th></th>\n",
       "      <th></th>\n",
       "    </tr>\n",
       "  </thead>\n",
       "  <tbody>\n",
       "    <tr>\n",
       "      <th>MYC</th>\n",
       "      <td>4.843392</td>\n",
       "      <td>6.038506</td>\n",
       "      <td>6.965184</td>\n",
       "      <td>9.935970</td>\n",
       "      <td>6.268605</td>\n",
       "      <td>8.039895</td>\n",
       "      <td>8.469310</td>\n",
       "      <td>8.484019</td>\n",
       "      <td>9.243982</td>\n",
       "      <td>4.002891</td>\n",
       "      <td>...</td>\n",
       "      <td>6.435030</td>\n",
       "      <td>7.453884</td>\n",
       "      <td>8.404310</td>\n",
       "      <td>5.842657</td>\n",
       "      <td>7.605144</td>\n",
       "      <td>8.525180</td>\n",
       "      <td>7.788009</td>\n",
       "      <td>6.538921</td>\n",
       "      <td>7.035180</td>\n",
       "      <td>7.765808</td>\n",
       "    </tr>\n",
       "    <tr>\n",
       "      <th>MYCN</th>\n",
       "      <td>9.062404</td>\n",
       "      <td>8.220615</td>\n",
       "      <td>8.304376</td>\n",
       "      <td>7.638647</td>\n",
       "      <td>8.176380</td>\n",
       "      <td>7.985389</td>\n",
       "      <td>6.318084</td>\n",
       "      <td>7.498702</td>\n",
       "      <td>7.870420</td>\n",
       "      <td>9.493306</td>\n",
       "      <td>...</td>\n",
       "      <td>5.524765</td>\n",
       "      <td>6.500060</td>\n",
       "      <td>6.864434</td>\n",
       "      <td>6.047344</td>\n",
       "      <td>5.111534</td>\n",
       "      <td>5.388277</td>\n",
       "      <td>6.265220</td>\n",
       "      <td>7.038426</td>\n",
       "      <td>6.486038</td>\n",
       "      <td>7.127229</td>\n",
       "    </tr>\n",
       "  </tbody>\n",
       "</table>\n",
       "<p>2 rows × 38 columns</p>\n",
       "</div>"
      ],
      "text/plain": [
       "                  A01       A02       A03       A04       A05       A06  \\\n",
       "Hugo_Symbol                                                               \n",
       "MYC          4.843392  6.038506  6.965184  9.935970  6.268605  8.039895   \n",
       "MYCN         9.062404  8.220615  8.304376  7.638647  8.176380  7.985389   \n",
       "\n",
       "                  A07       A08       A09       A10  ...       C06       C07  \\\n",
       "Hugo_Symbol                                          ...                       \n",
       "MYC          8.469310  8.484019  9.243982  4.002891  ...  6.435030  7.453884   \n",
       "MYCN         6.318084  7.498702  7.870420  9.493306  ...  5.524765  6.500060   \n",
       "\n",
       "                  C08       C09       C10       C11       C12       D01  \\\n",
       "Hugo_Symbol                                                               \n",
       "MYC          8.404310  5.842657  7.605144  8.525180  7.788009  6.538921   \n",
       "MYCN         6.864434  6.047344  5.111534  5.388277  6.265220  7.038426   \n",
       "\n",
       "                  D02       D03  \n",
       "Hugo_Symbol                      \n",
       "MYC          7.035180  7.765808  \n",
       "MYCN         6.486038  7.127229  \n",
       "\n",
       "[2 rows x 38 columns]"
      ]
     },
     "execution_count": 11,
     "metadata": {},
     "output_type": "execute_result"
    }
   ],
   "source": [
    "data2"
   ]
  },
  {
   "cell_type": "code",
   "execution_count": 15,
   "metadata": {},
   "outputs": [],
   "source": [
    "MYC_DF = pd.concat([\n",
    "    sample_labels['TumCell_WES_bin'],\n",
    "    data2.T],\n",
    "    axis=\"columns\"\n",
    ")\n",
    "    "
   ]
  },
  {
   "cell_type": "code",
   "execution_count": 16,
   "metadata": {},
   "outputs": [
    {
     "data": {
      "text/html": [
       "<div>\n",
       "<style scoped>\n",
       "    .dataframe tbody tr th:only-of-type {\n",
       "        vertical-align: middle;\n",
       "    }\n",
       "\n",
       "    .dataframe tbody tr th {\n",
       "        vertical-align: top;\n",
       "    }\n",
       "\n",
       "    .dataframe thead th {\n",
       "        text-align: right;\n",
       "    }\n",
       "</style>\n",
       "<table border=\"1\" class=\"dataframe\">\n",
       "  <thead>\n",
       "    <tr style=\"text-align: right;\">\n",
       "      <th></th>\n",
       "      <th>TumCell_WES_bin</th>\n",
       "      <th>MYC</th>\n",
       "      <th>MYCN</th>\n",
       "    </tr>\n",
       "    <tr>\n",
       "      <th>Well</th>\n",
       "      <th></th>\n",
       "      <th></th>\n",
       "      <th></th>\n",
       "    </tr>\n",
       "  </thead>\n",
       "  <tbody>\n",
       "    <tr>\n",
       "      <th>A01</th>\n",
       "      <td>w</td>\n",
       "      <td>4.843392</td>\n",
       "      <td>9.062404</td>\n",
       "    </tr>\n",
       "    <tr>\n",
       "      <th>A02</th>\n",
       "      <td>w</td>\n",
       "      <td>6.038506</td>\n",
       "      <td>8.220615</td>\n",
       "    </tr>\n",
       "    <tr>\n",
       "      <th>A03</th>\n",
       "      <td>w</td>\n",
       "      <td>6.965184</td>\n",
       "      <td>8.304376</td>\n",
       "    </tr>\n",
       "    <tr>\n",
       "      <th>A04</th>\n",
       "      <td>k</td>\n",
       "      <td>9.935970</td>\n",
       "      <td>7.638647</td>\n",
       "    </tr>\n",
       "    <tr>\n",
       "      <th>A05</th>\n",
       "      <td>k</td>\n",
       "      <td>6.268605</td>\n",
       "      <td>8.176380</td>\n",
       "    </tr>\n",
       "  </tbody>\n",
       "</table>\n",
       "</div>"
      ],
      "text/plain": [
       "     TumCell_WES_bin       MYC      MYCN\n",
       "Well                                    \n",
       "A01                w  4.843392  9.062404\n",
       "A02                w  6.038506  8.220615\n",
       "A03                w  6.965184  8.304376\n",
       "A04                k  9.935970  7.638647\n",
       "A05                k  6.268605  8.176380"
      ]
     },
     "execution_count": 16,
     "metadata": {},
     "output_type": "execute_result"
    }
   ],
   "source": [
    "MYC_DF.head()"
   ]
  },
  {
   "cell_type": "code",
   "execution_count": 17,
   "metadata": {},
   "outputs": [
    {
     "data": {
      "text/plain": [
       "(38, 3)"
      ]
     },
     "execution_count": 17,
     "metadata": {},
     "output_type": "execute_result"
    }
   ],
   "source": [
    "MYC_DF.shape"
   ]
  },
  {
   "cell_type": "code",
   "execution_count": 18,
   "metadata": {},
   "outputs": [],
   "source": [
    "MYC_DF[\"TumCell_WES_bin\"].replace({\"w\":\"impure\", \"k\":\"pure\"}, inplace=True)"
   ]
  },
  {
   "cell_type": "code",
   "execution_count": 19,
   "metadata": {},
   "outputs": [
    {
     "data": {
      "text/plain": [
       "4.49795399684967"
      ]
     },
     "execution_count": 19,
     "metadata": {},
     "output_type": "execute_result"
    }
   ],
   "source": [
    "MYC_DF[\"MYCN\"].min()"
   ]
  },
  {
   "cell_type": "code",
   "execution_count": 20,
   "metadata": {},
   "outputs": [],
   "source": [
    "MYC_DF.dropna(inplace=True)"
   ]
  },
  {
   "cell_type": "code",
   "execution_count": 21,
   "metadata": {},
   "outputs": [
    {
     "data": {
      "text/plain": [
       "Index(['A01', 'A02', 'A03', 'A04', 'A05', 'A06', 'A07', 'A08', 'A09', 'A10',\n",
       "       'A11', 'B01', 'B02', 'B03', 'B04', 'B05', 'B06', 'B07', 'B08', 'B09',\n",
       "       'B10', 'B11', 'B12', 'C01', 'C02', 'C03', 'C04', 'C05', 'C06', 'C07',\n",
       "       'C08', 'C09', 'C10', 'C11', 'C12', 'D01', 'D02', 'D03'],\n",
       "      dtype='object', name='Well')"
      ]
     },
     "execution_count": 21,
     "metadata": {},
     "output_type": "execute_result"
    }
   ],
   "source": [
    "MYC_DF.index"
   ]
  },
  {
   "cell_type": "code",
   "execution_count": 22,
   "metadata": {},
   "outputs": [],
   "source": [
    "MYC_DF.drop(['B12', 'C08'], inplace=True)"
   ]
  },
  {
   "cell_type": "code",
   "execution_count": 23,
   "metadata": {},
   "outputs": [
    {
     "data": {
      "text/plain": [
       "('B12', 'C08')"
      ]
     },
     "execution_count": 23,
     "metadata": {},
     "output_type": "execute_result"
    }
   ],
   "source": [
    "'B12', 'C08'"
   ]
  },
  {
   "cell_type": "code",
   "execution_count": 24,
   "metadata": {},
   "outputs": [
    {
     "data": {
      "image/png": "[encoded data removed]",
      "text/plain": [
       "<Figure size 432x288 with 1 Axes>"
      ]
     },
     "metadata": {},
     "output_type": "display_data"
    }
   ],
   "source": [
    "bx = sns.boxplot(data=MYC_DF,\n",
    "            x=\"TumCell_WES_bin\",\n",
    "            y=\"MYC\",\n",
    "           notch=True)"
   ]
  },
  {
   "cell_type": "code",
   "execution_count": 25,
   "metadata": {},
   "outputs": [
    {
     "data": {
      "text/plain": [
       "18"
      ]
     },
     "execution_count": 25,
     "metadata": {},
     "output_type": "execute_result"
    }
   ],
   "source": [
    "len(MYC_DF[MYC_DF[\"TumCell_WES_bin\"]==\"impure\"])"
   ]
  },
  {
   "cell_type": "code",
   "execution_count": 26,
   "metadata": {},
   "outputs": [],
   "source": [
    "bx = bx.get_figure()"
   ]
  },
  {
   "cell_type": "code",
   "execution_count": null,
   "metadata": {},
   "outputs": [],
   "source": [
    "bx.savefig(\"../2.Plots/MYC_TumorPurity.pdf\")"
   ]
  },
  {
   "cell_type": "code",
   "execution_count": null,
   "metadata": {},
   "outputs": [],
   "source": [
    "bx = sns.boxplot(data=MYC_DF,\n",
    "            x=\"TumCell_WES_bin\",\n",
    "            y=\"MYCN\",\n",
    "           notch=True)"
   ]
  },
  {
   "cell_type": "code",
   "execution_count": null,
   "metadata": {},
   "outputs": [],
   "source": [
    "bx = bx.get_figure()\n",
    "bx.savefig(\"../2.Plots/MYCN_TumorPurity.pdf\")"
   ]
  },
  {
   "cell_type": "code",
   "execution_count": 29,
   "metadata": {},
   "outputs": [
    {
     "data": {
      "text/html": [
       "<div>\n",
       "<style scoped>\n",
       "    .dataframe tbody tr th:only-of-type {\n",
       "        vertical-align: middle;\n",
       "    }\n",
       "\n",
       "    .dataframe tbody tr th {\n",
       "        vertical-align: top;\n",
       "    }\n",
       "\n",
       "    .dataframe thead th {\n",
       "        text-align: right;\n",
       "    }\n",
       "</style>\n",
       "<table border=\"1\" class=\"dataframe\">\n",
       "  <thead>\n",
       "    <tr style=\"text-align: right;\">\n",
       "      <th></th>\n",
       "      <th>TumourCellularity_WES</th>\n",
       "      <th>MYC</th>\n",
       "      <th>MYCN</th>\n",
       "    </tr>\n",
       "    <tr>\n",
       "      <th>Well</th>\n",
       "      <th></th>\n",
       "      <th></th>\n",
       "      <th></th>\n",
       "    </tr>\n",
       "  </thead>\n",
       "  <tbody>\n",
       "    <tr>\n",
       "      <th>A01</th>\n",
       "      <td>0.5973</td>\n",
       "      <td>4.843392</td>\n",
       "      <td>9.062404</td>\n",
       "    </tr>\n",
       "    <tr>\n",
       "      <th>A02</th>\n",
       "      <td>0.5065</td>\n",
       "      <td>6.038506</td>\n",
       "      <td>8.220615</td>\n",
       "    </tr>\n",
       "    <tr>\n",
       "      <th>A03</th>\n",
       "      <td>0.4551</td>\n",
       "      <td>6.965184</td>\n",
       "      <td>8.304376</td>\n",
       "    </tr>\n",
       "    <tr>\n",
       "      <th>A04</th>\n",
       "      <td>0.6496</td>\n",
       "      <td>9.935970</td>\n",
       "      <td>7.638647</td>\n",
       "    </tr>\n",
       "    <tr>\n",
       "      <th>A05</th>\n",
       "      <td>0.6706</td>\n",
       "      <td>6.268605</td>\n",
       "      <td>8.176380</td>\n",
       "    </tr>\n",
       "  </tbody>\n",
       "</table>\n",
       "</div>"
      ],
      "text/plain": [
       "      TumourCellularity_WES       MYC      MYCN\n",
       "Well                                           \n",
       "A01                  0.5973  4.843392  9.062404\n",
       "A02                  0.5065  6.038506  8.220615\n",
       "A03                  0.4551  6.965184  8.304376\n",
       "A04                  0.6496  9.935970  7.638647\n",
       "A05                  0.6706  6.268605  8.176380"
      ]
     },
     "execution_count": 29,
     "metadata": {},
     "output_type": "execute_result"
    }
   ],
   "source": [
    "MYC_DF_scatter = pd.concat([\n",
    "    sample_labels['TumourCellularity_WES'],\n",
    "    data2.T],\n",
    "    axis=\"columns\"\n",
    ")\n",
    "\n",
    "MYC_DF_scatter.dropna(inplace=True)\n",
    "\n",
    "MYC_DF_scatter.head()"
   ]
  },
  {
   "cell_type": "code",
   "execution_count": 30,
   "metadata": {},
   "outputs": [
    {
     "data": {
      "text/plain": [
       "(36, 3)"
      ]
     },
     "execution_count": 30,
     "metadata": {},
     "output_type": "execute_result"
    }
   ],
   "source": [
    "MYC_DF_scatter.shape"
   ]
  },
  {
   "cell_type": "code",
   "execution_count": 31,
   "metadata": {},
   "outputs": [
    {
     "data": {
      "image/png": "[encoded data removed]",
      "text/plain": [
       "<Figure size 360x360 with 1 Axes>"
      ]
     },
     "metadata": {},
     "output_type": "display_data"
    }
   ],
   "source": [
    "ax = sns.lmplot(data=MYC_DF_scatter, x=\"TumourCellularity_WES\", y=\"MYC\")"
   ]
  },
  {
   "cell_type": "code",
   "execution_count": null,
   "metadata": {},
   "outputs": [],
   "source": [
    "set(MYC_DF.index) ^ set(MYC_DF_scatter.index)"
   ]
  },
  {
   "cell_type": "code",
   "execution_count": null,
   "metadata": {},
   "outputs": [],
   "source": [
    "ax.savefig(\"../2.Plots/MYC_TumorPurity_scatter.pdf\")"
   ]
  },
  {
   "cell_type": "code",
   "execution_count": null,
   "metadata": {},
   "outputs": [],
   "source": [
    "ax = sns.lmplot(data=MYC_DF_scatter, x=\"TumourCellularity_WES\", y=\"MYCN\")"
   ]
  },
  {
   "cell_type": "code",
   "execution_count": null,
   "metadata": {},
   "outputs": [],
   "source": [
    "ax.savefig(\"../2.Plots/MYCN_TumorPurity_scatter.pdf\")"
   ]
  },
  {
   "cell_type": "code",
   "execution_count": 33,
   "metadata": {},
   "outputs": [
    {
     "data": {
      "text/html": [
       "<div>\n",
       "<style scoped>\n",
       "    .dataframe tbody tr th:only-of-type {\n",
       "        vertical-align: middle;\n",
       "    }\n",
       "\n",
       "    .dataframe tbody tr th {\n",
       "        vertical-align: top;\n",
       "    }\n",
       "\n",
       "    .dataframe thead th {\n",
       "        text-align: right;\n",
       "    }\n",
       "</style>\n",
       "<table border=\"1\" class=\"dataframe\">\n",
       "  <thead>\n",
       "    <tr style=\"text-align: right;\">\n",
       "      <th></th>\n",
       "      <th>TumourCellularity_WES</th>\n",
       "      <th>MYC</th>\n",
       "      <th>MYCN</th>\n",
       "    </tr>\n",
       "    <tr>\n",
       "      <th>Well</th>\n",
       "      <th></th>\n",
       "      <th></th>\n",
       "      <th></th>\n",
       "    </tr>\n",
       "  </thead>\n",
       "  <tbody>\n",
       "    <tr>\n",
       "      <th>A01</th>\n",
       "      <td>0.5973</td>\n",
       "      <td>4.843392</td>\n",
       "      <td>9.062404</td>\n",
       "    </tr>\n",
       "    <tr>\n",
       "      <th>A02</th>\n",
       "      <td>0.5065</td>\n",
       "      <td>6.038506</td>\n",
       "      <td>8.220615</td>\n",
       "    </tr>\n",
       "    <tr>\n",
       "      <th>A03</th>\n",
       "      <td>0.4551</td>\n",
       "      <td>6.965184</td>\n",
       "      <td>8.304376</td>\n",
       "    </tr>\n",
       "    <tr>\n",
       "      <th>A04</th>\n",
       "      <td>0.6496</td>\n",
       "      <td>9.935970</td>\n",
       "      <td>7.638647</td>\n",
       "    </tr>\n",
       "    <tr>\n",
       "      <th>A05</th>\n",
       "      <td>0.6706</td>\n",
       "      <td>6.268605</td>\n",
       "      <td>8.176380</td>\n",
       "    </tr>\n",
       "  </tbody>\n",
       "</table>\n",
       "</div>"
      ],
      "text/plain": [
       "      TumourCellularity_WES       MYC      MYCN\n",
       "Well                                           \n",
       "A01                  0.5973  4.843392  9.062404\n",
       "A02                  0.5065  6.038506  8.220615\n",
       "A03                  0.4551  6.965184  8.304376\n",
       "A04                  0.6496  9.935970  7.638647\n",
       "A05                  0.6706  6.268605  8.176380"
      ]
     },
     "execution_count": 33,
     "metadata": {},
     "output_type": "execute_result"
    }
   ],
   "source": [
    "MYC_DF_scatter.head()"
   ]
  },
  {
   "cell_type": "code",
   "execution_count": 36,
   "metadata": {},
   "outputs": [],
   "source": [
    "from scipy.stats import spearmanr, kendalltau, ttest_ind, levene, shapiro\n",
    "import scipy.stats"
   ]
  },
  {
   "cell_type": "code",
   "execution_count": 38,
   "metadata": {},
   "outputs": [
    {
     "name": "stdout",
     "output_type": "stream",
     "text": [
      "MYC\n",
      "\n",
      "Normal\n",
      "HETEROscedastic\n",
      "\n",
      "KENDALL\n",
      "0.8487665010168555\n",
      "MYCN\n",
      "\n",
      "Normal\n",
      "HETEROscedastic\n",
      "\n",
      "KENDALL\n",
      "0.7029175632453668\n"
     ]
    }
   ],
   "source": [
    "x = MYC_DF_scatter[\"TumourCellularity_WES\"]\n",
    "\n",
    "correlations = []\n",
    "for myc in MYC_DF_scatter:\n",
    "    \n",
    "    if myc != \"TumourCellularity_WES\":\n",
    "    \n",
    "        y = MYC_DF_scatter[myc]\n",
    "    \n",
    "        print(myc+\"\\n\")\n",
    "\n",
    "        n1 = scipy.stats.shapiro(x)[1]\n",
    "        n2 = scipy.stats.shapiro(y)[1]\n",
    "\n",
    "        n3 = scipy.stats.normaltest(x)[1]\n",
    "        n4 = scipy.stats.normaltest(y)[1]\n",
    "\n",
    "        n5 = scipy.stats.anderson(x)\n",
    "        n6 = scipy.stats.anderson(y)\n",
    "\n",
    "        if min([n1,n2,n3,n4]) < 0.05: # not normal\n",
    "            \n",
    "            print(\"NOT normal\")\n",
    "\n",
    "            h1 = scipy.stats.levene(x, y)[1]\n",
    "            \n",
    "            if h1 < 0.05:\n",
    "                print(\"HETEROscedastic\\n\")\n",
    "                #print(h1)\n",
    "            else:\n",
    "                print(\"HOMOscedastic\\n\")\n",
    "\n",
    "        else:\n",
    "            \n",
    "            print(\"Normal\")\n",
    "\n",
    "            h1 = scipy.stats.bartlett(x,y)[1]\n",
    "            \n",
    "            if h1 < 0.05:\n",
    "                print(\"HETEROscedastic\\n\")\n",
    "            else:\n",
    "                print(\"HOMOscedastic\\n\")\n",
    "\n",
    "        if min([n1,n2,n3,n4,h1]) < 0.05:\n",
    "\n",
    "            print(\"KENDALL\")\n",
    "\n",
    "            print(scipy.stats.kendalltau(x,y)[1])\n",
    "            \n",
    "            cor, p_val = scipy.stats.kendalltau(x,y)\n",
    "\n",
    "        else:\n",
    "\n",
    "            print(\"anderson\")\n",
    "\n",
    "            print(n5[0], n5[1])\n",
    "            print(n6[0], n6[1])\n",
    "            print(\"\\n\")\n",
    "\n",
    "            print(\"PEARSON\")\n",
    "            print(scipy.stats.pearsonr(x,y)[1])\n",
    "            \n",
    "            cor, p_val = scipy.stats.pearsonr(x,y)\n",
    "                \n",
    "            print(\"\\n\")\n",
    "            \n",
    "        correlations.append([myc,cor,p_val])"
   ]
  },
  {
   "cell_type": "code",
   "execution_count": 39,
   "metadata": {},
   "outputs": [
    {
     "data": {
      "text/plain": [
       "[['MYC', 0.022222222222222227, 0.8487665010168555],\n",
       " ['MYCN', 0.04444444444444445, 0.7029175632453668]]"
      ]
     },
     "execution_count": 39,
     "metadata": {},
     "output_type": "execute_result"
    }
   ],
   "source": [
    "correlations"
   ]
  },
  {
   "cell_type": "code",
   "execution_count": 46,
   "metadata": {},
   "outputs": [
    {
     "data": {
      "text/plain": [
       "(0.9358838200569153, 0.24609717726707458)"
      ]
     },
     "execution_count": 46,
     "metadata": {},
     "output_type": "execute_result"
    }
   ],
   "source": [
    "scipy.stats.shapiro(MYC_DF[MYC_DF[\"TumCell_WES_bin\"]==\"impure\"][\"MYC\"].values)\n",
    "\n",
    "# Looks normal"
   ]
  },
  {
   "cell_type": "code",
   "execution_count": 45,
   "metadata": {},
   "outputs": [
    {
     "data": {
      "text/plain": [
       "(0.9647953510284424, 0.6960864067077637)"
      ]
     },
     "execution_count": 45,
     "metadata": {},
     "output_type": "execute_result"
    }
   ],
   "source": [
    "scipy.stats.shapiro(MYC_DF[MYC_DF[\"TumCell_WES_bin\"]==\"pure\"][\"MYC\"].values)\n",
    "\n",
    "# Looks normal"
   ]
  },
  {
   "cell_type": "code",
   "execution_count": 44,
   "metadata": {},
   "outputs": [
    {
     "name": "stderr",
     "output_type": "stream",
     "text": [
      "/anaconda3/lib/python3.6/site-packages/scipy/stats/stats.py:1394: UserWarning: kurtosistest only valid for n>=20 ... continuing anyway, n=18\n",
      "  \"anyway, n=%i\" % int(n))\n"
     ]
    },
    {
     "data": {
      "text/plain": [
       "NormaltestResult(statistic=0.043764898180800704, pvalue=0.9783552348396798)"
      ]
     },
     "execution_count": 44,
     "metadata": {},
     "output_type": "execute_result"
    }
   ],
   "source": [
    "scipy.stats.normaltest(MYC_DF[MYC_DF[\"TumCell_WES_bin\"]==\"pure\"][\"MYC\"].values)\n",
    "\n",
    "# looks normal"
   ]
  },
  {
   "cell_type": "code",
   "execution_count": 47,
   "metadata": {},
   "outputs": [
    {
     "name": "stderr",
     "output_type": "stream",
     "text": [
      "/anaconda3/lib/python3.6/site-packages/scipy/stats/stats.py:1394: UserWarning: kurtosistest only valid for n>=20 ... continuing anyway, n=18\n",
      "  \"anyway, n=%i\" % int(n))\n"
     ]
    },
    {
     "data": {
      "text/plain": [
       "NormaltestResult(statistic=4.3956747471166295, pvalue=0.11104304349990697)"
      ]
     },
     "execution_count": 47,
     "metadata": {},
     "output_type": "execute_result"
    }
   ],
   "source": [
    "scipy.stats.normaltest(MYC_DF[MYC_DF[\"TumCell_WES_bin\"]==\"impure\"][\"MYC\"].values)\n",
    "\n",
    "# looks normal"
   ]
  },
  {
   "cell_type": "code",
   "execution_count": 48,
   "metadata": {},
   "outputs": [
    {
     "data": {
      "text/plain": [
       "BartlettResult(statistic=4.176877707660865, pvalue=0.04097913006013317)"
      ]
     },
     "execution_count": 48,
     "metadata": {},
     "output_type": "execute_result"
    }
   ],
   "source": [
    "scipy.stats.bartlett(\n",
    "    MYC_DF[MYC_DF[\"TumCell_WES_bin\"]==\"impure\"][\"MYC\"].values,\n",
    "    MYC_DF[MYC_DF[\"TumCell_WES_bin\"]==\"pure\"][\"MYC\"].values\n",
    ")\n",
    "\n",
    "# heteroscedasti"
   ]
  },
  {
   "cell_type": "code",
   "execution_count": 49,
   "metadata": {},
   "outputs": [
    {
     "data": {
      "text/plain": [
       "Ttest_indResult(statistic=-1.1505214945577384, pvalue=0.25973342674886485)"
      ]
     },
     "execution_count": 49,
     "metadata": {},
     "output_type": "execute_result"
    }
   ],
   "source": [
    "ttest_ind(\n",
    "    MYC_DF[MYC_DF[\"TumCell_WES_bin\"]==\"impure\"][\"MYC\"].values,\n",
    "    MYC_DF[MYC_DF[\"TumCell_WES_bin\"]==\"pure\"][\"MYC\"].values,\n",
    "    equal_var=False\n",
    ")"
   ]
  },
  {
   "cell_type": "code",
   "execution_count": null,
   "metadata": {},
   "outputs": [],
   "source": [
    "MYC_DF[MYC_DF[\"TumCell_WES_bin\"]==\"impure\"][\"MYC\"]"
   ]
  },
  {
   "cell_type": "code",
   "execution_count": null,
   "metadata": {},
   "outputs": [],
   "source": []
  },
  {
   "cell_type": "code",
   "execution_count": null,
   "metadata": {},
   "outputs": [],
   "source": [
    "### HLA stuff"
   ]
  },
  {
   "cell_type": "code",
   "execution_count": null,
   "metadata": {},
   "outputs": [],
   "source": [
    "import fnmatch"
   ]
  },
  {
   "cell_type": "code",
   "execution_count": null,
   "metadata": {},
   "outputs": [],
   "source": [
    "data.head()"
   ]
  },
  {
   "cell_type": "code",
   "execution_count": null,
   "metadata": {},
   "outputs": [],
   "source": [
    "HLAs = data[data.index.str.contains('HLA', regex=False)]"
   ]
  },
  {
   "cell_type": "code",
   "execution_count": null,
   "metadata": {},
   "outputs": [],
   "source": [
    "HLAs_corr = HLAs.corr()"
   ]
  },
  {
   "cell_type": "code",
   "execution_count": null,
   "metadata": {},
   "outputs": [],
   "source": [
    "g = sns.clustermap(HLAs_corr,\n",
    "                   cmap='seismic',\n",
    "                   metric='correlation',\n",
    "                   row_colors=[sample_labels['TumCell_WES_bin'],\n",
    "                               sample_labels['Colour']],\n",
    "                   col_colors=[sample_labels['TumCell_WES_bin'],\n",
    "                               sample_labels['Colour']])"
   ]
  },
  {
   "cell_type": "code",
   "execution_count": null,
   "metadata": {},
   "outputs": [],
   "source": [
    "g = sns.clustermap(HLAs,\n",
    "                   cmap='seismic',\n",
    "                   metric='correlation',\n",
    "                   col_colors=[sample_labels['TumCell_WES_bin'],\n",
    "                               sample_labels['Colour']])"
   ]
  },
  {
   "cell_type": "code",
   "execution_count": null,
   "metadata": {},
   "outputs": [],
   "source": [
    "g = sns.clustermap(HLAs,\n",
    "                   cmap='seismic',\n",
    "                   metric='correlation',\n",
    "                   col_colors=[sample_labels['TumCell_WES_bin'],\n",
    "                               sample_labels['Colour']],\n",
    "                  z_score=\"rows\")"
   ]
  },
  {
   "cell_type": "code",
   "execution_count": null,
   "metadata": {},
   "outputs": [],
   "source": [
    "HLAsABC = data[data.index.str.contains('HLA-A|HLA-B|HLA-C', regex=True)]"
   ]
  },
  {
   "cell_type": "code",
   "execution_count": null,
   "metadata": {},
   "outputs": [],
   "source": [
    "HLAsABC_corr = HLAsABC.corr()"
   ]
  },
  {
   "cell_type": "code",
   "execution_count": null,
   "metadata": {},
   "outputs": [],
   "source": [
    "g = sns.clustermap(HLAsABC_corr,\n",
    "                   cmap='seismic',\n",
    "                   metric='correlation',\n",
    "                   row_colors=[sample_labels['TumCell_WES_bin'],\n",
    "                               sample_labels['Colour']],\n",
    "                   col_colors=[sample_labels['TumCell_WES_bin'],\n",
    "                               sample_labels['Colour']])"
   ]
  },
  {
   "cell_type": "code",
   "execution_count": null,
   "metadata": {},
   "outputs": [],
   "source": [
    "g = sns.clustermap(HLAsABC,\n",
    "                   cmap='seismic',\n",
    "                   metric='correlation',\n",
    "                   col_colors=[sample_labels['TumCell_WES_bin'],\n",
    "                               sample_labels['Colour']])"
   ]
  },
  {
   "cell_type": "code",
   "execution_count": null,
   "metadata": {},
   "outputs": [],
   "source": [
    "g.savefig('../2.Plots/x_HLA-ABC_expression.pdf',\n",
    "          bbox='tight')"
   ]
  },
  {
   "cell_type": "code",
   "execution_count": null,
   "metadata": {},
   "outputs": [],
   "source": []
  }
 ],
 "metadata": {
  "kernelspec": {
   "display_name": "Python 3",
   "language": "python",
   "name": "python3"
  },
  "language_info": {
   "codemirror_mode": {
    "name": "ipython",
    "version": 3
   },
   "file_extension": ".py",
   "mimetype": "text/x-python",
   "name": "python",
   "nbconvert_exporter": "python",
   "pygments_lexer": "ipython3",
   "version": "3.6.8"
  }
 },
 "nbformat": 4,
 "nbformat_minor": 2
}

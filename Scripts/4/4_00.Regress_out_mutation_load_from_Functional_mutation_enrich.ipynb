{
 "cells": [
  {
   "cell_type": "markdown",
   "metadata": {},
   "source": [
    "# Regress out mutation load from functional mutation enrichment"
   ]
  },
  {
   "cell_type": "markdown",
   "metadata": {},
   "source": [
    "Script related to figure 4d, s4k and s4l\n",
    "\n",
    "### Aim:\n",
    "- Regress-out mutational load per sample from mutation enrichment score per sample"
   ]
  },
  {
   "cell_type": "code",
   "execution_count": 1,
   "metadata": {},
   "outputs": [
    {
     "data": {
      "text/plain": [
       "R version 3.5.0 (2018-04-23)\n",
       "Platform: x86_64-apple-darwin15.6.0 (64-bit)\n",
       "Running under: macOS High Sierra 10.13.6\n",
       "\n",
       "Matrix products: default\n",
       "BLAS: /Library/Frameworks/R.framework/Versions/3.5/Resources/lib/libRblas.0.dylib\n",
       "LAPACK: /Library/Frameworks/R.framework/Versions/3.5/Resources/lib/libRlapack.dylib\n",
       "\n",
       "locale:\n",
       "[1] C/UTF-8/C/C/C/C\n",
       "\n",
       "attached base packages:\n",
       "[1] stats     graphics  grDevices utils     datasets  methods   base     \n",
       "\n",
       "loaded via a namespace (and not attached):\n",
       " [1] compiler_3.5.0  IRdisplay_0.6.1 pbdZMQ_0.3-3    tools_3.5.0    \n",
       " [5] htmltools_0.3.6 base64enc_0.1-3 crayon_1.3.4    Rcpp_1.0.1     \n",
       " [9] uuid_0.1-2      IRkernel_0.8.14 jsonlite_1.6    digest_0.6.18  \n",
       "[13] repr_0.17       evaluate_0.13  "
      ]
     },
     "metadata": {},
     "output_type": "display_data"
    }
   ],
   "source": [
    "sessionInfo()"
   ]
  },
  {
   "cell_type": "markdown",
   "metadata": {},
   "source": [
    "## Install packages"
   ]
  },
  {
   "cell_type": "code",
   "execution_count": null,
   "metadata": {},
   "outputs": [],
   "source": [
    "#install.packages(\"lmtest\")"
   ]
  },
  {
   "cell_type": "markdown",
   "metadata": {},
   "source": [
    "## Load packages"
   ]
  },
  {
   "cell_type": "code",
   "execution_count": 2,
   "metadata": {},
   "outputs": [
    {
     "name": "stderr",
     "output_type": "stream",
     "text": [
      "Warning message:\n",
      "“package ‘lmtest’ was built under R version 3.5.2”Loading required package: zoo\n",
      "\n",
      "Attaching package: ‘zoo’\n",
      "\n",
      "The following objects are masked from ‘package:base’:\n",
      "\n",
      "    as.Date, as.Date.numeric\n",
      "\n"
     ]
    }
   ],
   "source": [
    "library(lmtest)"
   ]
  },
  {
   "cell_type": "code",
   "execution_count": null,
   "metadata": {},
   "outputs": [],
   "source": [
    "setwd(\"~/git_repos/HGSOC_TME_Heterogeneity/\")"
   ]
  },
  {
   "cell_type": "markdown",
   "metadata": {},
   "source": [
    "# Load data"
   ]
  },
  {
   "cell_type": "code",
   "execution_count": 10,
   "metadata": {},
   "outputs": [],
   "source": [
    "mutpath <- read.csv(\"../../Data/4/hallmark_mutation_load.txt\",\n",
    "                   row.names=\"X\")"
   ]
  },
  {
   "cell_type": "code",
   "execution_count": 11,
   "metadata": {},
   "outputs": [],
   "source": [
    "mutpath <- t(mutpath)"
   ]
  },
  {
   "cell_type": "code",
   "execution_count": 12,
   "metadata": {},
   "outputs": [
    {
     "data": {
      "text/html": [
       "<table>\n",
       "<thead><tr><th></th><th scope=col>HALLMARK_TNFA_SIGNALING_VIA_NFKB</th><th scope=col>HALLMARK_HYPOXIA</th><th scope=col>HALLMARK_CHOLESTEROL_HOMEOSTASIS</th><th scope=col>HALLMARK_MITOTIC_SPINDLE</th><th scope=col>HALLMARK_WNT_BETA_CATENIN_SIGNALING</th><th scope=col>HALLMARK_TGF_BETA_SIGNALING</th><th scope=col>HALLMARK_IL6_JAK_STAT3_SIGNALING</th><th scope=col>HALLMARK_DNA_REPAIR</th><th scope=col>HALLMARK_G2M_CHECKPOINT</th><th scope=col>HALLMARK_APOPTOSIS</th><th scope=col>⋯</th><th scope=col>HALLMARK_IL2_STAT5_SIGNALING</th><th scope=col>HALLMARK_BILE_ACID_METABOLISM</th><th scope=col>HALLMARK_PEROXISOME</th><th scope=col>HALLMARK_ALLOGRAFT_REJECTION</th><th scope=col>HALLMARK_SPERMATOGENESIS</th><th scope=col>HALLMARK_KRAS_SIGNALING_UP</th><th scope=col>HALLMARK_KRAS_SIGNALING_DN</th><th scope=col>HALLMARK_PANCREAS_BETA_CELLS</th><th scope=col>StromalSignature</th><th scope=col>ImmuneSignature</th></tr></thead>\n",
       "<tbody>\n",
       "\t<tr><th scope=row>RG10T17</th><td>3</td><td>2</td><td>2</td><td>4</td><td>1</td><td>0</td><td>0</td><td>1</td><td>5</td><td>0</td><td>⋯</td><td>2</td><td>1</td><td>0</td><td>4</td><td>1</td><td>1</td><td>2</td><td>0</td><td>0</td><td>2</td></tr>\n",
       "\t<tr><th scope=row>RG10T18</th><td>3</td><td>1</td><td>2</td><td>3</td><td>1</td><td>0</td><td>0</td><td>1</td><td>3</td><td>0</td><td>⋯</td><td>2</td><td>2</td><td>0</td><td>3</td><td>1</td><td>0</td><td>1</td><td>0</td><td>1</td><td>1</td></tr>\n",
       "\t<tr><th scope=row>RG10T19</th><td>2</td><td>1</td><td>2</td><td>4</td><td>1</td><td>0</td><td>0</td><td>1</td><td>5</td><td>0</td><td>⋯</td><td>2</td><td>1</td><td>0</td><td>3</td><td>1</td><td>1</td><td>1</td><td>0</td><td>0</td><td>1</td></tr>\n",
       "\t<tr><th scope=row>RG10T5</th><td>2</td><td>1</td><td>2</td><td>3</td><td>1</td><td>0</td><td>0</td><td>1</td><td>4</td><td>0</td><td>⋯</td><td>2</td><td>1</td><td>0</td><td>3</td><td>1</td><td>1</td><td>3</td><td>0</td><td>0</td><td>1</td></tr>\n",
       "\t<tr><th scope=row>RG10T7</th><td>2</td><td>1</td><td>2</td><td>4</td><td>1</td><td>0</td><td>0</td><td>1</td><td>5</td><td>0</td><td>⋯</td><td>2</td><td>1</td><td>0</td><td>3</td><td>1</td><td>1</td><td>4</td><td>0</td><td>0</td><td>1</td></tr>\n",
       "\t<tr><th scope=row>RG10T8</th><td>2</td><td>1</td><td>2</td><td>4</td><td>1</td><td>0</td><td>0</td><td>1</td><td>4</td><td>0</td><td>⋯</td><td>2</td><td>2</td><td>1</td><td>3</td><td>1</td><td>0</td><td>1</td><td>0</td><td>0</td><td>1</td></tr>\n",
       "</tbody>\n",
       "</table>\n"
      ],
      "text/latex": [
       "\\begin{tabular}{r|llllllllllllllllllllllllllllllllllllllllllllllllllll}\n",
       "  & HALLMARK\\_TNFA\\_SIGNALING\\_VIA\\_NFKB & HALLMARK\\_HYPOXIA & HALLMARK\\_CHOLESTEROL\\_HOMEOSTASIS & HALLMARK\\_MITOTIC\\_SPINDLE & HALLMARK\\_WNT\\_BETA\\_CATENIN\\_SIGNALING & HALLMARK\\_TGF\\_BETA\\_SIGNALING & HALLMARK\\_IL6\\_JAK\\_STAT3\\_SIGNALING & HALLMARK\\_DNA\\_REPAIR & HALLMARK\\_G2M\\_CHECKPOINT & HALLMARK\\_APOPTOSIS & ⋯ & HALLMARK\\_IL2\\_STAT5\\_SIGNALING & HALLMARK\\_BILE\\_ACID\\_METABOLISM & HALLMARK\\_PEROXISOME & HALLMARK\\_ALLOGRAFT\\_REJECTION & HALLMARK\\_SPERMATOGENESIS & HALLMARK\\_KRAS\\_SIGNALING\\_UP & HALLMARK\\_KRAS\\_SIGNALING\\_DN & HALLMARK\\_PANCREAS\\_BETA\\_CELLS & StromalSignature & ImmuneSignature\\\\\n",
       "\\hline\n",
       "\tRG10T17 & 3 & 2 & 2 & 4 & 1 & 0 & 0 & 1 & 5 & 0 & ⋯ & 2 & 1 & 0 & 4 & 1 & 1 & 2 & 0 & 0 & 2\\\\\n",
       "\tRG10T18 & 3 & 1 & 2 & 3 & 1 & 0 & 0 & 1 & 3 & 0 & ⋯ & 2 & 2 & 0 & 3 & 1 & 0 & 1 & 0 & 1 & 1\\\\\n",
       "\tRG10T19 & 2 & 1 & 2 & 4 & 1 & 0 & 0 & 1 & 5 & 0 & ⋯ & 2 & 1 & 0 & 3 & 1 & 1 & 1 & 0 & 0 & 1\\\\\n",
       "\tRG10T5 & 2 & 1 & 2 & 3 & 1 & 0 & 0 & 1 & 4 & 0 & ⋯ & 2 & 1 & 0 & 3 & 1 & 1 & 3 & 0 & 0 & 1\\\\\n",
       "\tRG10T7 & 2 & 1 & 2 & 4 & 1 & 0 & 0 & 1 & 5 & 0 & ⋯ & 2 & 1 & 0 & 3 & 1 & 1 & 4 & 0 & 0 & 1\\\\\n",
       "\tRG10T8 & 2 & 1 & 2 & 4 & 1 & 0 & 0 & 1 & 4 & 0 & ⋯ & 2 & 2 & 1 & 3 & 1 & 0 & 1 & 0 & 0 & 1\\\\\n",
       "\\end{tabular}\n"
      ],
      "text/markdown": [
       "\n",
       "| <!--/--> | HALLMARK_TNFA_SIGNALING_VIA_NFKB | HALLMARK_HYPOXIA | HALLMARK_CHOLESTEROL_HOMEOSTASIS | HALLMARK_MITOTIC_SPINDLE | HALLMARK_WNT_BETA_CATENIN_SIGNALING | HALLMARK_TGF_BETA_SIGNALING | HALLMARK_IL6_JAK_STAT3_SIGNALING | HALLMARK_DNA_REPAIR | HALLMARK_G2M_CHECKPOINT | HALLMARK_APOPTOSIS | ⋯ | HALLMARK_IL2_STAT5_SIGNALING | HALLMARK_BILE_ACID_METABOLISM | HALLMARK_PEROXISOME | HALLMARK_ALLOGRAFT_REJECTION | HALLMARK_SPERMATOGENESIS | HALLMARK_KRAS_SIGNALING_UP | HALLMARK_KRAS_SIGNALING_DN | HALLMARK_PANCREAS_BETA_CELLS | StromalSignature | ImmuneSignature | \n",
       "|---|---|---|---|---|---|\n",
       "| RG10T17 | 3 | 2 | 2 | 4 | 1 | 0 | 0 | 1 | 5 | 0 | ⋯ | 2 | 1 | 0 | 4 | 1 | 1 | 2 | 0 | 0 | 2 | \n",
       "| RG10T18 | 3 | 1 | 2 | 3 | 1 | 0 | 0 | 1 | 3 | 0 | ⋯ | 2 | 2 | 0 | 3 | 1 | 0 | 1 | 0 | 1 | 1 | \n",
       "| RG10T19 | 2 | 1 | 2 | 4 | 1 | 0 | 0 | 1 | 5 | 0 | ⋯ | 2 | 1 | 0 | 3 | 1 | 1 | 1 | 0 | 0 | 1 | \n",
       "| RG10T5 | 2 | 1 | 2 | 3 | 1 | 0 | 0 | 1 | 4 | 0 | ⋯ | 2 | 1 | 0 | 3 | 1 | 1 | 3 | 0 | 0 | 1 | \n",
       "| RG10T7 | 2 | 1 | 2 | 4 | 1 | 0 | 0 | 1 | 5 | 0 | ⋯ | 2 | 1 | 0 | 3 | 1 | 1 | 4 | 0 | 0 | 1 | \n",
       "| RG10T8 | 2 | 1 | 2 | 4 | 1 | 0 | 0 | 1 | 4 | 0 | ⋯ | 2 | 2 | 1 | 3 | 1 | 0 | 1 | 0 | 0 | 1 | \n",
       "\n",
       "\n"
      ],
      "text/plain": [
       "        HALLMARK_TNFA_SIGNALING_VIA_NFKB HALLMARK_HYPOXIA\n",
       "RG10T17 3                                2               \n",
       "RG10T18 3                                1               \n",
       "RG10T19 2                                1               \n",
       "RG10T5  2                                1               \n",
       "RG10T7  2                                1               \n",
       "RG10T8  2                                1               \n",
       "        HALLMARK_CHOLESTEROL_HOMEOSTASIS HALLMARK_MITOTIC_SPINDLE\n",
       "RG10T17 2                                4                       \n",
       "RG10T18 2                                3                       \n",
       "RG10T19 2                                4                       \n",
       "RG10T5  2                                3                       \n",
       "RG10T7  2                                4                       \n",
       "RG10T8  2                                4                       \n",
       "        HALLMARK_WNT_BETA_CATENIN_SIGNALING HALLMARK_TGF_BETA_SIGNALING\n",
       "RG10T17 1                                   0                          \n",
       "RG10T18 1                                   0                          \n",
       "RG10T19 1                                   0                          \n",
       "RG10T5  1                                   0                          \n",
       "RG10T7  1                                   0                          \n",
       "RG10T8  1                                   0                          \n",
       "        HALLMARK_IL6_JAK_STAT3_SIGNALING HALLMARK_DNA_REPAIR\n",
       "RG10T17 0                                1                  \n",
       "RG10T18 0                                1                  \n",
       "RG10T19 0                                1                  \n",
       "RG10T5  0                                1                  \n",
       "RG10T7  0                                1                  \n",
       "RG10T8  0                                1                  \n",
       "        HALLMARK_G2M_CHECKPOINT HALLMARK_APOPTOSIS ⋯\n",
       "RG10T17 5                       0                  ⋯\n",
       "RG10T18 3                       0                  ⋯\n",
       "RG10T19 5                       0                  ⋯\n",
       "RG10T5  4                       0                  ⋯\n",
       "RG10T7  5                       0                  ⋯\n",
       "RG10T8  4                       0                  ⋯\n",
       "        HALLMARK_IL2_STAT5_SIGNALING HALLMARK_BILE_ACID_METABOLISM\n",
       "RG10T17 2                            1                            \n",
       "RG10T18 2                            2                            \n",
       "RG10T19 2                            1                            \n",
       "RG10T5  2                            1                            \n",
       "RG10T7  2                            1                            \n",
       "RG10T8  2                            2                            \n",
       "        HALLMARK_PEROXISOME HALLMARK_ALLOGRAFT_REJECTION\n",
       "RG10T17 0                   4                           \n",
       "RG10T18 0                   3                           \n",
       "RG10T19 0                   3                           \n",
       "RG10T5  0                   3                           \n",
       "RG10T7  0                   3                           \n",
       "RG10T8  1                   3                           \n",
       "        HALLMARK_SPERMATOGENESIS HALLMARK_KRAS_SIGNALING_UP\n",
       "RG10T17 1                        1                         \n",
       "RG10T18 1                        0                         \n",
       "RG10T19 1                        1                         \n",
       "RG10T5  1                        1                         \n",
       "RG10T7  1                        1                         \n",
       "RG10T8  1                        0                         \n",
       "        HALLMARK_KRAS_SIGNALING_DN HALLMARK_PANCREAS_BETA_CELLS\n",
       "RG10T17 2                          0                           \n",
       "RG10T18 1                          0                           \n",
       "RG10T19 1                          0                           \n",
       "RG10T5  3                          0                           \n",
       "RG10T7  4                          0                           \n",
       "RG10T8  1                          0                           \n",
       "        StromalSignature ImmuneSignature\n",
       "RG10T17 0                2              \n",
       "RG10T18 1                1              \n",
       "RG10T19 0                1              \n",
       "RG10T5  0                1              \n",
       "RG10T7  0                1              \n",
       "RG10T8  0                1              "
      ]
     },
     "metadata": {},
     "output_type": "display_data"
    }
   ],
   "source": [
    "head(mutpath)"
   ]
  },
  {
   "cell_type": "code",
   "execution_count": 6,
   "metadata": {},
   "outputs": [
    {
     "data": {
      "text/html": [
       "<ol class=list-inline>\n",
       "\t<li>'HALLMARK_TNFA_SIGNALING_VIA_NFKB'</li>\n",
       "\t<li>'HALLMARK_HYPOXIA'</li>\n",
       "\t<li>'HALLMARK_CHOLESTEROL_HOMEOSTASIS'</li>\n",
       "\t<li>'HALLMARK_MITOTIC_SPINDLE'</li>\n",
       "\t<li>'HALLMARK_WNT_BETA_CATENIN_SIGNALING'</li>\n",
       "\t<li>'HALLMARK_TGF_BETA_SIGNALING'</li>\n",
       "\t<li>'HALLMARK_IL6_JAK_STAT3_SIGNALING'</li>\n",
       "\t<li>'HALLMARK_DNA_REPAIR'</li>\n",
       "\t<li>'HALLMARK_G2M_CHECKPOINT'</li>\n",
       "\t<li>'HALLMARK_APOPTOSIS'</li>\n",
       "\t<li>'HALLMARK_NOTCH_SIGNALING'</li>\n",
       "\t<li>'HALLMARK_ADIPOGENESIS'</li>\n",
       "\t<li>'HALLMARK_ESTROGEN_RESPONSE_EARLY'</li>\n",
       "\t<li>'HALLMARK_ESTROGEN_RESPONSE_LATE'</li>\n",
       "\t<li>'HALLMARK_ANDROGEN_RESPONSE'</li>\n",
       "\t<li>'HALLMARK_MYOGENESIS'</li>\n",
       "\t<li>'HALLMARK_PROTEIN_SECRETION'</li>\n",
       "\t<li>'HALLMARK_INTERFERON_ALPHA_RESPONSE'</li>\n",
       "\t<li>'HALLMARK_INTERFERON_GAMMA_RESPONSE'</li>\n",
       "\t<li>'HALLMARK_APICAL_JUNCTION'</li>\n",
       "\t<li>'HALLMARK_APICAL_SURFACE'</li>\n",
       "\t<li>'HALLMARK_HEDGEHOG_SIGNALING'</li>\n",
       "\t<li>'HALLMARK_COMPLEMENT'</li>\n",
       "\t<li>'HALLMARK_UNFOLDED_PROTEIN_RESPONSE'</li>\n",
       "\t<li>'HALLMARK_PI3K_AKT_MTOR_SIGNALING'</li>\n",
       "\t<li>'HALLMARK_MTORC1_SIGNALING'</li>\n",
       "\t<li>'HALLMARK_E2F_TARGETS'</li>\n",
       "\t<li>'HALLMARK_MYC_TARGETS_V1'</li>\n",
       "\t<li>'HALLMARK_MYC_TARGETS_V2'</li>\n",
       "\t<li>'HALLMARK_EPITHELIAL_MESENCHYMAL_TRANSITION'</li>\n",
       "\t<li>'HALLMARK_INFLAMMATORY_RESPONSE'</li>\n",
       "\t<li>'HALLMARK_XENOBIOTIC_METABOLISM'</li>\n",
       "\t<li>'HALLMARK_FATTY_ACID_METABOLISM'</li>\n",
       "\t<li>'HALLMARK_OXIDATIVE_PHOSPHORYLATION'</li>\n",
       "\t<li>'HALLMARK_GLYCOLYSIS'</li>\n",
       "\t<li>'HALLMARK_REACTIVE_OXIGEN_SPECIES_PATHWAY'</li>\n",
       "\t<li>'HALLMARK_P53_PATHWAY'</li>\n",
       "\t<li>'HALLMARK_UV_RESPONSE_UP'</li>\n",
       "\t<li>'HALLMARK_UV_RESPONSE_DN'</li>\n",
       "\t<li>'HALLMARK_ANGIOGENESIS'</li>\n",
       "\t<li>'HALLMARK_HEME_METABOLISM'</li>\n",
       "\t<li>'HALLMARK_COAGULATION'</li>\n",
       "\t<li>'HALLMARK_IL2_STAT5_SIGNALING'</li>\n",
       "\t<li>'HALLMARK_BILE_ACID_METABOLISM'</li>\n",
       "\t<li>'HALLMARK_PEROXISOME'</li>\n",
       "\t<li>'HALLMARK_ALLOGRAFT_REJECTION'</li>\n",
       "\t<li>'HALLMARK_SPERMATOGENESIS'</li>\n",
       "\t<li>'HALLMARK_KRAS_SIGNALING_UP'</li>\n",
       "\t<li>'HALLMARK_KRAS_SIGNALING_DN'</li>\n",
       "\t<li>'HALLMARK_PANCREAS_BETA_CELLS'</li>\n",
       "\t<li>'StromalSignature'</li>\n",
       "\t<li>'ImmuneSignature'</li>\n",
       "</ol>\n"
      ],
      "text/latex": [
       "\\begin{enumerate*}\n",
       "\\item 'HALLMARK\\_TNFA\\_SIGNALING\\_VIA\\_NFKB'\n",
       "\\item 'HALLMARK\\_HYPOXIA'\n",
       "\\item 'HALLMARK\\_CHOLESTEROL\\_HOMEOSTASIS'\n",
       "\\item 'HALLMARK\\_MITOTIC\\_SPINDLE'\n",
       "\\item 'HALLMARK\\_WNT\\_BETA\\_CATENIN\\_SIGNALING'\n",
       "\\item 'HALLMARK\\_TGF\\_BETA\\_SIGNALING'\n",
       "\\item 'HALLMARK\\_IL6\\_JAK\\_STAT3\\_SIGNALING'\n",
       "\\item 'HALLMARK\\_DNA\\_REPAIR'\n",
       "\\item 'HALLMARK\\_G2M\\_CHECKPOINT'\n",
       "\\item 'HALLMARK\\_APOPTOSIS'\n",
       "\\item 'HALLMARK\\_NOTCH\\_SIGNALING'\n",
       "\\item 'HALLMARK\\_ADIPOGENESIS'\n",
       "\\item 'HALLMARK\\_ESTROGEN\\_RESPONSE\\_EARLY'\n",
       "\\item 'HALLMARK\\_ESTROGEN\\_RESPONSE\\_LATE'\n",
       "\\item 'HALLMARK\\_ANDROGEN\\_RESPONSE'\n",
       "\\item 'HALLMARK\\_MYOGENESIS'\n",
       "\\item 'HALLMARK\\_PROTEIN\\_SECRETION'\n",
       "\\item 'HALLMARK\\_INTERFERON\\_ALPHA\\_RESPONSE'\n",
       "\\item 'HALLMARK\\_INTERFERON\\_GAMMA\\_RESPONSE'\n",
       "\\item 'HALLMARK\\_APICAL\\_JUNCTION'\n",
       "\\item 'HALLMARK\\_APICAL\\_SURFACE'\n",
       "\\item 'HALLMARK\\_HEDGEHOG\\_SIGNALING'\n",
       "\\item 'HALLMARK\\_COMPLEMENT'\n",
       "\\item 'HALLMARK\\_UNFOLDED\\_PROTEIN\\_RESPONSE'\n",
       "\\item 'HALLMARK\\_PI3K\\_AKT\\_MTOR\\_SIGNALING'\n",
       "\\item 'HALLMARK\\_MTORC1\\_SIGNALING'\n",
       "\\item 'HALLMARK\\_E2F\\_TARGETS'\n",
       "\\item 'HALLMARK\\_MYC\\_TARGETS\\_V1'\n",
       "\\item 'HALLMARK\\_MYC\\_TARGETS\\_V2'\n",
       "\\item 'HALLMARK\\_EPITHELIAL\\_MESENCHYMAL\\_TRANSITION'\n",
       "\\item 'HALLMARK\\_INFLAMMATORY\\_RESPONSE'\n",
       "\\item 'HALLMARK\\_XENOBIOTIC\\_METABOLISM'\n",
       "\\item 'HALLMARK\\_FATTY\\_ACID\\_METABOLISM'\n",
       "\\item 'HALLMARK\\_OXIDATIVE\\_PHOSPHORYLATION'\n",
       "\\item 'HALLMARK\\_GLYCOLYSIS'\n",
       "\\item 'HALLMARK\\_REACTIVE\\_OXIGEN\\_SPECIES\\_PATHWAY'\n",
       "\\item 'HALLMARK\\_P53\\_PATHWAY'\n",
       "\\item 'HALLMARK\\_UV\\_RESPONSE\\_UP'\n",
       "\\item 'HALLMARK\\_UV\\_RESPONSE\\_DN'\n",
       "\\item 'HALLMARK\\_ANGIOGENESIS'\n",
       "\\item 'HALLMARK\\_HEME\\_METABOLISM'\n",
       "\\item 'HALLMARK\\_COAGULATION'\n",
       "\\item 'HALLMARK\\_IL2\\_STAT5\\_SIGNALING'\n",
       "\\item 'HALLMARK\\_BILE\\_ACID\\_METABOLISM'\n",
       "\\item 'HALLMARK\\_PEROXISOME'\n",
       "\\item 'HALLMARK\\_ALLOGRAFT\\_REJECTION'\n",
       "\\item 'HALLMARK\\_SPERMATOGENESIS'\n",
       "\\item 'HALLMARK\\_KRAS\\_SIGNALING\\_UP'\n",
       "\\item 'HALLMARK\\_KRAS\\_SIGNALING\\_DN'\n",
       "\\item 'HALLMARK\\_PANCREAS\\_BETA\\_CELLS'\n",
       "\\item 'StromalSignature'\n",
       "\\item 'ImmuneSignature'\n",
       "\\end{enumerate*}\n"
      ],
      "text/markdown": [
       "1. 'HALLMARK_TNFA_SIGNALING_VIA_NFKB'\n",
       "2. 'HALLMARK_HYPOXIA'\n",
       "3. 'HALLMARK_CHOLESTEROL_HOMEOSTASIS'\n",
       "4. 'HALLMARK_MITOTIC_SPINDLE'\n",
       "5. 'HALLMARK_WNT_BETA_CATENIN_SIGNALING'\n",
       "6. 'HALLMARK_TGF_BETA_SIGNALING'\n",
       "7. 'HALLMARK_IL6_JAK_STAT3_SIGNALING'\n",
       "8. 'HALLMARK_DNA_REPAIR'\n",
       "9. 'HALLMARK_G2M_CHECKPOINT'\n",
       "10. 'HALLMARK_APOPTOSIS'\n",
       "11. 'HALLMARK_NOTCH_SIGNALING'\n",
       "12. 'HALLMARK_ADIPOGENESIS'\n",
       "13. 'HALLMARK_ESTROGEN_RESPONSE_EARLY'\n",
       "14. 'HALLMARK_ESTROGEN_RESPONSE_LATE'\n",
       "15. 'HALLMARK_ANDROGEN_RESPONSE'\n",
       "16. 'HALLMARK_MYOGENESIS'\n",
       "17. 'HALLMARK_PROTEIN_SECRETION'\n",
       "18. 'HALLMARK_INTERFERON_ALPHA_RESPONSE'\n",
       "19. 'HALLMARK_INTERFERON_GAMMA_RESPONSE'\n",
       "20. 'HALLMARK_APICAL_JUNCTION'\n",
       "21. 'HALLMARK_APICAL_SURFACE'\n",
       "22. 'HALLMARK_HEDGEHOG_SIGNALING'\n",
       "23. 'HALLMARK_COMPLEMENT'\n",
       "24. 'HALLMARK_UNFOLDED_PROTEIN_RESPONSE'\n",
       "25. 'HALLMARK_PI3K_AKT_MTOR_SIGNALING'\n",
       "26. 'HALLMARK_MTORC1_SIGNALING'\n",
       "27. 'HALLMARK_E2F_TARGETS'\n",
       "28. 'HALLMARK_MYC_TARGETS_V1'\n",
       "29. 'HALLMARK_MYC_TARGETS_V2'\n",
       "30. 'HALLMARK_EPITHELIAL_MESENCHYMAL_TRANSITION'\n",
       "31. 'HALLMARK_INFLAMMATORY_RESPONSE'\n",
       "32. 'HALLMARK_XENOBIOTIC_METABOLISM'\n",
       "33. 'HALLMARK_FATTY_ACID_METABOLISM'\n",
       "34. 'HALLMARK_OXIDATIVE_PHOSPHORYLATION'\n",
       "35. 'HALLMARK_GLYCOLYSIS'\n",
       "36. 'HALLMARK_REACTIVE_OXIGEN_SPECIES_PATHWAY'\n",
       "37. 'HALLMARK_P53_PATHWAY'\n",
       "38. 'HALLMARK_UV_RESPONSE_UP'\n",
       "39. 'HALLMARK_UV_RESPONSE_DN'\n",
       "40. 'HALLMARK_ANGIOGENESIS'\n",
       "41. 'HALLMARK_HEME_METABOLISM'\n",
       "42. 'HALLMARK_COAGULATION'\n",
       "43. 'HALLMARK_IL2_STAT5_SIGNALING'\n",
       "44. 'HALLMARK_BILE_ACID_METABOLISM'\n",
       "45. 'HALLMARK_PEROXISOME'\n",
       "46. 'HALLMARK_ALLOGRAFT_REJECTION'\n",
       "47. 'HALLMARK_SPERMATOGENESIS'\n",
       "48. 'HALLMARK_KRAS_SIGNALING_UP'\n",
       "49. 'HALLMARK_KRAS_SIGNALING_DN'\n",
       "50. 'HALLMARK_PANCREAS_BETA_CELLS'\n",
       "51. 'StromalSignature'\n",
       "52. 'ImmuneSignature'\n",
       "\n",
       "\n"
      ],
      "text/plain": [
       " [1] \"HALLMARK_TNFA_SIGNALING_VIA_NFKB\"          \n",
       " [2] \"HALLMARK_HYPOXIA\"                          \n",
       " [3] \"HALLMARK_CHOLESTEROL_HOMEOSTASIS\"          \n",
       " [4] \"HALLMARK_MITOTIC_SPINDLE\"                  \n",
       " [5] \"HALLMARK_WNT_BETA_CATENIN_SIGNALING\"       \n",
       " [6] \"HALLMARK_TGF_BETA_SIGNALING\"               \n",
       " [7] \"HALLMARK_IL6_JAK_STAT3_SIGNALING\"          \n",
       " [8] \"HALLMARK_DNA_REPAIR\"                       \n",
       " [9] \"HALLMARK_G2M_CHECKPOINT\"                   \n",
       "[10] \"HALLMARK_APOPTOSIS\"                        \n",
       "[11] \"HALLMARK_NOTCH_SIGNALING\"                  \n",
       "[12] \"HALLMARK_ADIPOGENESIS\"                     \n",
       "[13] \"HALLMARK_ESTROGEN_RESPONSE_EARLY\"          \n",
       "[14] \"HALLMARK_ESTROGEN_RESPONSE_LATE\"           \n",
       "[15] \"HALLMARK_ANDROGEN_RESPONSE\"                \n",
       "[16] \"HALLMARK_MYOGENESIS\"                       \n",
       "[17] \"HALLMARK_PROTEIN_SECRETION\"                \n",
       "[18] \"HALLMARK_INTERFERON_ALPHA_RESPONSE\"        \n",
       "[19] \"HALLMARK_INTERFERON_GAMMA_RESPONSE\"        \n",
       "[20] \"HALLMARK_APICAL_JUNCTION\"                  \n",
       "[21] \"HALLMARK_APICAL_SURFACE\"                   \n",
       "[22] \"HALLMARK_HEDGEHOG_SIGNALING\"               \n",
       "[23] \"HALLMARK_COMPLEMENT\"                       \n",
       "[24] \"HALLMARK_UNFOLDED_PROTEIN_RESPONSE\"        \n",
       "[25] \"HALLMARK_PI3K_AKT_MTOR_SIGNALING\"          \n",
       "[26] \"HALLMARK_MTORC1_SIGNALING\"                 \n",
       "[27] \"HALLMARK_E2F_TARGETS\"                      \n",
       "[28] \"HALLMARK_MYC_TARGETS_V1\"                   \n",
       "[29] \"HALLMARK_MYC_TARGETS_V2\"                   \n",
       "[30] \"HALLMARK_EPITHELIAL_MESENCHYMAL_TRANSITION\"\n",
       "[31] \"HALLMARK_INFLAMMATORY_RESPONSE\"            \n",
       "[32] \"HALLMARK_XENOBIOTIC_METABOLISM\"            \n",
       "[33] \"HALLMARK_FATTY_ACID_METABOLISM\"            \n",
       "[34] \"HALLMARK_OXIDATIVE_PHOSPHORYLATION\"        \n",
       "[35] \"HALLMARK_GLYCOLYSIS\"                       \n",
       "[36] \"HALLMARK_REACTIVE_OXIGEN_SPECIES_PATHWAY\"  \n",
       "[37] \"HALLMARK_P53_PATHWAY\"                      \n",
       "[38] \"HALLMARK_UV_RESPONSE_UP\"                   \n",
       "[39] \"HALLMARK_UV_RESPONSE_DN\"                   \n",
       "[40] \"HALLMARK_ANGIOGENESIS\"                     \n",
       "[41] \"HALLMARK_HEME_METABOLISM\"                  \n",
       "[42] \"HALLMARK_COAGULATION\"                      \n",
       "[43] \"HALLMARK_IL2_STAT5_SIGNALING\"              \n",
       "[44] \"HALLMARK_BILE_ACID_METABOLISM\"             \n",
       "[45] \"HALLMARK_PEROXISOME\"                       \n",
       "[46] \"HALLMARK_ALLOGRAFT_REJECTION\"              \n",
       "[47] \"HALLMARK_SPERMATOGENESIS\"                  \n",
       "[48] \"HALLMARK_KRAS_SIGNALING_UP\"                \n",
       "[49] \"HALLMARK_KRAS_SIGNALING_DN\"                \n",
       "[50] \"HALLMARK_PANCREAS_BETA_CELLS\"              \n",
       "[51] \"StromalSignature\"                          \n",
       "[52] \"ImmuneSignature\"                           "
      ]
     },
     "metadata": {},
     "output_type": "display_data"
    }
   ],
   "source": [
    "colnames(mutpath)"
   ]
  },
  {
   "cell_type": "code",
   "execution_count": 7,
   "metadata": {},
   "outputs": [
    {
     "name": "stderr",
     "output_type": "stream",
     "text": [
      "Warning message in read.table(file = file, header = header, sep = sep, quote = quote, :\n",
      "“incomplete final line found by readTableHeader on '../../Data/4/ovct_wes_purity.csv'”"
     ]
    },
    {
     "data": {
      "text/html": [
       "<table>\n",
       "<thead><tr><th></th><th scope=col>ovct_wes_purity</th><th scope=col>ovct_wes_purity_val</th></tr></thead>\n",
       "<tbody>\n",
       "\t<tr><th scope=row>RG10T17</th><td>High  </td><td>0.6496</td></tr>\n",
       "\t<tr><th scope=row>RG10T18</th><td>High  </td><td>0.6706</td></tr>\n",
       "\t<tr><th scope=row>RG10T19</th><td>High  </td><td>0.6695</td></tr>\n",
       "\t<tr><th scope=row>RG10T5</th><td>Low   </td><td>0.5973</td></tr>\n",
       "\t<tr><th scope=row>RG10T7</th><td>Low   </td><td>0.5065</td></tr>\n",
       "\t<tr><th scope=row>RG10T8</th><td>Low   </td><td>0.4551</td></tr>\n",
       "</tbody>\n",
       "</table>\n"
      ],
      "text/latex": [
       "\\begin{tabular}{r|ll}\n",
       "  & ovct\\_wes\\_purity & ovct\\_wes\\_purity\\_val\\\\\n",
       "\\hline\n",
       "\tRG10T17 & High   & 0.6496\\\\\n",
       "\tRG10T18 & High   & 0.6706\\\\\n",
       "\tRG10T19 & High   & 0.6695\\\\\n",
       "\tRG10T5 & Low    & 0.5973\\\\\n",
       "\tRG10T7 & Low    & 0.5065\\\\\n",
       "\tRG10T8 & Low    & 0.4551\\\\\n",
       "\\end{tabular}\n"
      ],
      "text/markdown": [
       "\n",
       "| <!--/--> | ovct_wes_purity | ovct_wes_purity_val | \n",
       "|---|---|---|---|---|---|\n",
       "| RG10T17 | High   | 0.6496 | \n",
       "| RG10T18 | High   | 0.6706 | \n",
       "| RG10T19 | High   | 0.6695 | \n",
       "| RG10T5 | Low    | 0.5973 | \n",
       "| RG10T7 | Low    | 0.5065 | \n",
       "| RG10T8 | Low    | 0.4551 | \n",
       "\n",
       "\n"
      ],
      "text/plain": [
       "        ovct_wes_purity ovct_wes_purity_val\n",
       "RG10T17 High            0.6496             \n",
       "RG10T18 High            0.6706             \n",
       "RG10T19 High            0.6695             \n",
       "RG10T5  Low             0.5973             \n",
       "RG10T7  Low             0.5065             \n",
       "RG10T8  Low             0.4551             "
      ]
     },
     "metadata": {},
     "output_type": "display_data"
    }
   ],
   "source": [
    "purity <- read.csv(\"../../Data/4/ovct_wes_purity.csv\",\n",
    "                  row.names=\"X\")\n",
    "\n",
    "purity <- t(purity)\n",
    "\n",
    "head(purity)"
   ]
  },
  {
   "cell_type": "code",
   "execution_count": 8,
   "metadata": {},
   "outputs": [
    {
     "data": {
      "text/html": [
       "<ol class=list-inline>\n",
       "\t<li>50</li>\n",
       "\t<li>2</li>\n",
       "</ol>\n"
      ],
      "text/latex": [
       "\\begin{enumerate*}\n",
       "\\item 50\n",
       "\\item 2\n",
       "\\end{enumerate*}\n"
      ],
      "text/markdown": [
       "1. 50\n",
       "2. 2\n",
       "\n",
       "\n"
      ],
      "text/plain": [
       "[1] 50  2"
      ]
     },
     "metadata": {},
     "output_type": "display_data"
    }
   ],
   "source": [
    "dim(purity)"
   ]
  },
  {
   "cell_type": "code",
   "execution_count": 9,
   "metadata": {},
   "outputs": [
    {
     "name": "stderr",
     "output_type": "stream",
     "text": [
      "Warning message in read.table(file = file, header = header, sep = sep, quote = quote, :\n",
      "“incomplete final line found by readTableHeader on '../../Data/4/mutation_load_per_sample2.csv'”"
     ]
    },
    {
     "data": {
      "text/html": [
       "<table>\n",
       "<thead><tr><th></th><th scope=col>mutation_load_per_sample</th></tr></thead>\n",
       "<tbody>\n",
       "\t<tr><th scope=row>RG10T17</th><td>250</td></tr>\n",
       "\t<tr><th scope=row>RG10T18</th><td>226</td></tr>\n",
       "\t<tr><th scope=row>RG10T19</th><td>222</td></tr>\n",
       "\t<tr><th scope=row>RG10T5</th><td>230</td></tr>\n",
       "\t<tr><th scope=row>RG10T7</th><td>235</td></tr>\n",
       "\t<tr><th scope=row>RG10T8</th><td>225</td></tr>\n",
       "</tbody>\n",
       "</table>\n"
      ],
      "text/latex": [
       "\\begin{tabular}{r|l}\n",
       "  & mutation\\_load\\_per\\_sample\\\\\n",
       "\\hline\n",
       "\tRG10T17 & 250\\\\\n",
       "\tRG10T18 & 226\\\\\n",
       "\tRG10T19 & 222\\\\\n",
       "\tRG10T5 & 230\\\\\n",
       "\tRG10T7 & 235\\\\\n",
       "\tRG10T8 & 225\\\\\n",
       "\\end{tabular}\n"
      ],
      "text/markdown": [
       "\n",
       "| <!--/--> | mutation_load_per_sample | \n",
       "|---|---|---|---|---|---|\n",
       "| RG10T17 | 250 | \n",
       "| RG10T18 | 226 | \n",
       "| RG10T19 | 222 | \n",
       "| RG10T5 | 230 | \n",
       "| RG10T7 | 235 | \n",
       "| RG10T8 | 225 | \n",
       "\n",
       "\n"
      ],
      "text/plain": [
       "        mutation_load_per_sample\n",
       "RG10T17 250                     \n",
       "RG10T18 226                     \n",
       "RG10T19 222                     \n",
       "RG10T5  230                     \n",
       "RG10T7  235                     \n",
       "RG10T8  225                     "
      ]
     },
     "metadata": {},
     "output_type": "display_data"
    }
   ],
   "source": [
    "mutload <- read.csv(\"../../Data/4/mutation_load_per_sample2.csv\",\n",
    "                    row.names=\"X\")\n",
    "\n",
    "mutload <- t(mutload)\n",
    "\n",
    "head(mutload)"
   ]
  },
  {
   "cell_type": "code",
   "execution_count": 10,
   "metadata": {},
   "outputs": [
    {
     "data": {
      "text/html": [
       "<ol class=list-inline>\n",
       "\t<li>50</li>\n",
       "\t<li>1</li>\n",
       "</ol>\n"
      ],
      "text/latex": [
       "\\begin{enumerate*}\n",
       "\\item 50\n",
       "\\item 1\n",
       "\\end{enumerate*}\n"
      ],
      "text/markdown": [
       "1. 50\n",
       "2. 1\n",
       "\n",
       "\n"
      ],
      "text/plain": [
       "[1] 50  1"
      ]
     },
     "metadata": {},
     "output_type": "display_data"
    }
   ],
   "source": [
    "dim(mutload)"
   ]
  },
  {
   "cell_type": "code",
   "execution_count": 11,
   "metadata": {},
   "outputs": [
    {
     "data": {
      "text/html": [
       "<ol class=list-inline>\n",
       "\t<li>50</li>\n",
       "\t<li>52</li>\n",
       "</ol>\n"
      ],
      "text/latex": [
       "\\begin{enumerate*}\n",
       "\\item 50\n",
       "\\item 52\n",
       "\\end{enumerate*}\n"
      ],
      "text/markdown": [
       "1. 50\n",
       "2. 52\n",
       "\n",
       "\n"
      ],
      "text/plain": [
       "[1] 50 52"
      ]
     },
     "metadata": {},
     "output_type": "display_data"
    }
   ],
   "source": [
    "dim(mutpath)"
   ]
  },
  {
   "cell_type": "code",
   "execution_count": 13,
   "metadata": {},
   "outputs": [
    {
     "data": {
      "text/html": [
       "<table>\n",
       "<thead><tr><th></th><th scope=col>patient_id</th></tr></thead>\n",
       "<tbody>\n",
       "\t<tr><th scope=row>RG20T8</th><td>#8DA0CA</td></tr>\n",
       "\t<tr><th scope=row>RG20T14</th><td>#8DA0CA</td></tr>\n",
       "\t<tr><th scope=row>RG20T10</th><td>#8DA0CA</td></tr>\n",
       "\t<tr><th scope=row>RG1T6</th><td>#e41a1c</td></tr>\n",
       "\t<tr><th scope=row>RG20T12</th><td>#8DA0CA</td></tr>\n",
       "\t<tr><th scope=row>RG17T19</th><td>#f781bf</td></tr>\n",
       "</tbody>\n",
       "</table>\n"
      ],
      "text/latex": [
       "\\begin{tabular}{r|l}\n",
       "  & patient\\_id\\\\\n",
       "\\hline\n",
       "\tRG20T8 & \\#8DA0CA\\\\\n",
       "\tRG20T14 & \\#8DA0CA\\\\\n",
       "\tRG20T10 & \\#8DA0CA\\\\\n",
       "\tRG1T6 & \\#e41a1c\\\\\n",
       "\tRG20T12 & \\#8DA0CA\\\\\n",
       "\tRG17T19 & \\#f781bf\\\\\n",
       "\\end{tabular}\n"
      ],
      "text/markdown": [
       "\n",
       "| <!--/--> | patient_id | \n",
       "|---|---|---|---|---|---|\n",
       "| RG20T8 | #8DA0CA | \n",
       "| RG20T14 | #8DA0CA | \n",
       "| RG20T10 | #8DA0CA | \n",
       "| RG1T6 | #e41a1c | \n",
       "| RG20T12 | #8DA0CA | \n",
       "| RG17T19 | #f781bf | \n",
       "\n",
       "\n"
      ],
      "text/plain": [
       "        patient_id\n",
       "RG20T8  #8DA0CA   \n",
       "RG20T14 #8DA0CA   \n",
       "RG20T10 #8DA0CA   \n",
       "RG1T6   #e41a1c   \n",
       "RG20T12 #8DA0CA   \n",
       "RG17T19 #f781bf   "
      ]
     },
     "metadata": {},
     "output_type": "display_data"
    }
   ],
   "source": [
    "patient_id <- read.csv(\"../../Data/4/Patient_ID.csv\", row.names=\"X\")\n",
    "\n",
    "head(patient_id)\n"
   ]
  },
  {
   "cell_type": "code",
   "execution_count": 14,
   "metadata": {},
   "outputs": [
    {
     "name": "stdout",
     "output_type": "stream",
     "text": [
      "'data.frame':\t50 obs. of  1 variable:\n",
      " $ patient_id: Factor w/ 10 levels \"#377eb8\",\"#4daf4a\",..: 4 4 4 7 4 8 5 5 7 6 ...\n"
     ]
    }
   ],
   "source": [
    "str(patient_id)"
   ]
  },
  {
   "cell_type": "code",
   "execution_count": 15,
   "metadata": {},
   "outputs": [
    {
     "data": {
      "text/html": [
       "52"
      ],
      "text/latex": [
       "52"
      ],
      "text/markdown": [
       "52"
      ],
      "text/plain": [
       "[1] 52"
      ]
     },
     "metadata": {},
     "output_type": "display_data"
    }
   ],
   "source": [
    "dim(mutpath)[2]"
   ]
  },
  {
   "cell_type": "code",
   "execution_count": 16,
   "metadata": {},
   "outputs": [
    {
     "name": "stdout",
     "output_type": "stream",
     "text": [
      "[1] \"HALLMARK_CHOLESTEROL_HOMEOSTASIS\"\n",
      "[1] 0.04871907\n",
      "[1] \"HALLMARK_MITOTIC_SPINDLE\"\n",
      "[1] 0.01968923\n",
      "[1] \"HALLMARK_WNT_BETA_CATENIN_SIGNALING\"\n",
      "[1] 0.0007433433\n",
      "[1] \"HALLMARK_APOPTOSIS\"\n",
      "[1] 1.644844e-05\n",
      "[1] \"HALLMARK_NOTCH_SIGNALING\"\n",
      "[1] 0.00787585\n",
      "[1] \"HALLMARK_APICAL_JUNCTION\"\n",
      "[1] 0.01145181\n",
      "[1] \"HALLMARK_HEDGEHOG_SIGNALING\"\n",
      "[1] 0.0314063\n",
      "[1] \"HALLMARK_COMPLEMENT\"\n",
      "[1] 0.008036277\n",
      "[1] \"HALLMARK_MTORC1_SIGNALING\"\n",
      "[1] 0.01116351\n",
      "[1] \"HALLMARK_XENOBIOTIC_METABOLISM\"\n",
      "[1] 0.02482434\n",
      "[1] \"HALLMARK_REACTIVE_OXIGEN_SPECIES_PATHWAY\"\n",
      "[1] 1.681517e-05\n",
      "[1] \"HALLMARK_HEME_METABOLISM\"\n",
      "[1] 0.006385252\n",
      "[1] \"HALLMARK_BILE_ACID_METABOLISM\"\n",
      "[1] 0.006732046\n",
      "[1] \"StromalSignature\"\n",
      "[1] 0.0001783432\n"
     ]
    }
   ],
   "source": [
    "pathways <- c()\n",
    "p_vals <- c()\n",
    "\n",
    "for(i in 1:dim(mutpath)[2]) { \n",
    "    \n",
    "    mod1 <- lm(purity[,\"ovct_wes_purity_val\"] ~ mutpath[,i]+mutload[,\"mutation_load_per_sample\"]+patient_id[,\"patient_id\"])\n",
    "    \n",
    "    mod2 <- lm(purity[,\"ovct_wes_purity_val\"] ~ mutload[,\"mutation_load_per_sample\"]+patient_id[,\"patient_id\"])\n",
    "    \n",
    "    pathways <- append(pathways, colnames(mutpath)[i])\n",
    "    p_vals <- append(p_vals, lrtest(mod1, mod2)[2,\"Pr(>Chisq)\"])\n",
    "    \n",
    "    if (lrtest(mod1, mod2)[2,\"Pr(>Chisq)\"] < 0.05){\n",
    "    \n",
    "        print(colnames(mutpath)[i])\n",
    "        print(lrtest(mod1, mod2)[2,\"Pr(>Chisq)\"])}\n",
    "}"
   ]
  },
  {
   "cell_type": "code",
   "execution_count": 17,
   "metadata": {},
   "outputs": [
    {
     "data": {
      "text/html": [
       "52"
      ],
      "text/latex": [
       "52"
      ],
      "text/markdown": [
       "52"
      ],
      "text/plain": [
       "[1] 52"
      ]
     },
     "metadata": {},
     "output_type": "display_data"
    }
   ],
   "source": [
    "length(pathways)"
   ]
  },
  {
   "cell_type": "code",
   "execution_count": 18,
   "metadata": {},
   "outputs": [],
   "source": [
    "fdrs <- p.adjust(p_vals, method = \"fdr\", n = length(p_vals))"
   ]
  },
  {
   "cell_type": "code",
   "execution_count": 19,
   "metadata": {},
   "outputs": [
    {
     "name": "stdout",
     "output_type": "stream",
     "text": [
      "[1] \"HALLMARK_WNT_BETA_CATENIN_SIGNALING\"\n",
      "[1] 0.009663463\n",
      "[1] \"HALLMARK_APOPTOSIS\"\n",
      "[1] 0.0004371944\n",
      "[1] \"HALLMARK_REACTIVE_OXIGEN_SPECIES_PATHWAY\"\n",
      "[1] 0.0004371944\n",
      "[1] \"StromalSignature\"\n",
      "[1] 0.003091282\n"
     ]
    }
   ],
   "source": [
    "for(i in 1:length(fdrs)) { \n",
    "    \n",
    "    fdr <- fdrs[i]\n",
    "    \n",
    "    if (fdr < 0.01){\n",
    "    \n",
    "        print(pathways[i])\n",
    "        print(fdr)}\n",
    "}"
   ]
  },
  {
   "cell_type": "code",
   "execution_count": 20,
   "metadata": {},
   "outputs": [
    {
     "data": {
      "text/html": [
       "<ol class=list-inline>\n",
       "\t<li>0.506472025507342</li>\n",
       "\t<li>0.283354779653118</li>\n",
       "\t<li>0.180956545476606</li>\n",
       "\t<li>0.0930763493287892</li>\n",
       "\t<li>0.00966346309340001</li>\n",
       "\t<li>0.627807398781305</li>\n",
       "\t<li>0.566730474572587</li>\n",
       "\t<li>0.283354779653118</li>\n",
       "\t<li>0.317654767002214</li>\n",
       "\t<li>0.000437194399505997</li>\n",
       "\t<li>0.0522357994588568</li>\n",
       "\t<li>0.992688623205974</li>\n",
       "\t<li>0.812726041304171</li>\n",
       "\t<li>0.506472025507342</li>\n",
       "\t<li>0.487380191669779</li>\n",
       "\t<li>0.752907041411146</li>\n",
       "\t<li>0.566730474572587</li>\n",
       "\t<li>0.88937681383387</li>\n",
       "\t<li>0.890385287040464</li>\n",
       "\t<li>0.0595494194959582</li>\n",
       "\t<li>0.921961219887991</li>\n",
       "\t<li>0.125625189167021</li>\n",
       "\t<li>0.0522357994588568</li>\n",
       "\t<li>0.854112060447471</li>\n",
       "\t<li>0.513559023650596</li>\n",
       "\t<li>0.0595494194959582</li>\n",
       "\t<li>0.961384805279074</li>\n",
       "\t<li>0.589955140960686</li>\n",
       "\t<li>0.921961219887991</li>\n",
       "\t<li>0.973718336156186</li>\n",
       "\t<li>0.566730474572587</li>\n",
       "\t<li>0.107572120751493</li>\n",
       "\t<li>0.921961219887991</li>\n",
       "\t<li>0.506472025507342</li>\n",
       "\t<li>0.566730474572587</li>\n",
       "\t<li>0.000437194399505997</li>\n",
       "\t<li>0.234287138103394</li>\n",
       "\t<li>0.921961219887991</li>\n",
       "\t<li>0.506472025507342</li>\n",
       "\t<li>0.854112060447471</li>\n",
       "\t<li>0.0522357994588568</li>\n",
       "\t<li>0.921961219887991</li>\n",
       "\t<li>0.921961219887991</li>\n",
       "\t<li>0.0522357994588568</li>\n",
       "\t<li>0.921961219887991</li>\n",
       "\t<li>0.487380191669779</li>\n",
       "\t<li>0.761562273628208</li>\n",
       "\t<li>0.506472025507342</li>\n",
       "\t<li>0.992688623205974</li>\n",
       "\t<li>0.921961219887991</li>\n",
       "\t<li>0.00309128237917259</li>\n",
       "\t<li>0.854112060447471</li>\n",
       "</ol>\n"
      ],
      "text/latex": [
       "\\begin{enumerate*}\n",
       "\\item 0.506472025507342\n",
       "\\item 0.283354779653118\n",
       "\\item 0.180956545476606\n",
       "\\item 0.0930763493287892\n",
       "\\item 0.00966346309340001\n",
       "\\item 0.627807398781305\n",
       "\\item 0.566730474572587\n",
       "\\item 0.283354779653118\n",
       "\\item 0.317654767002214\n",
       "\\item 0.000437194399505997\n",
       "\\item 0.0522357994588568\n",
       "\\item 0.992688623205974\n",
       "\\item 0.812726041304171\n",
       "\\item 0.506472025507342\n",
       "\\item 0.487380191669779\n",
       "\\item 0.752907041411146\n",
       "\\item 0.566730474572587\n",
       "\\item 0.88937681383387\n",
       "\\item 0.890385287040464\n",
       "\\item 0.0595494194959582\n",
       "\\item 0.921961219887991\n",
       "\\item 0.125625189167021\n",
       "\\item 0.0522357994588568\n",
       "\\item 0.854112060447471\n",
       "\\item 0.513559023650596\n",
       "\\item 0.0595494194959582\n",
       "\\item 0.961384805279074\n",
       "\\item 0.589955140960686\n",
       "\\item 0.921961219887991\n",
       "\\item 0.973718336156186\n",
       "\\item 0.566730474572587\n",
       "\\item 0.107572120751493\n",
       "\\item 0.921961219887991\n",
       "\\item 0.506472025507342\n",
       "\\item 0.566730474572587\n",
       "\\item 0.000437194399505997\n",
       "\\item 0.234287138103394\n",
       "\\item 0.921961219887991\n",
       "\\item 0.506472025507342\n",
       "\\item 0.854112060447471\n",
       "\\item 0.0522357994588568\n",
       "\\item 0.921961219887991\n",
       "\\item 0.921961219887991\n",
       "\\item 0.0522357994588568\n",
       "\\item 0.921961219887991\n",
       "\\item 0.487380191669779\n",
       "\\item 0.761562273628208\n",
       "\\item 0.506472025507342\n",
       "\\item 0.992688623205974\n",
       "\\item 0.921961219887991\n",
       "\\item 0.00309128237917259\n",
       "\\item 0.854112060447471\n",
       "\\end{enumerate*}\n"
      ],
      "text/markdown": [
       "1. 0.506472025507342\n",
       "2. 0.283354779653118\n",
       "3. 0.180956545476606\n",
       "4. 0.0930763493287892\n",
       "5. 0.00966346309340001\n",
       "6. 0.627807398781305\n",
       "7. 0.566730474572587\n",
       "8. 0.283354779653118\n",
       "9. 0.317654767002214\n",
       "10. 0.000437194399505997\n",
       "11. 0.0522357994588568\n",
       "12. 0.992688623205974\n",
       "13. 0.812726041304171\n",
       "14. 0.506472025507342\n",
       "15. 0.487380191669779\n",
       "16. 0.752907041411146\n",
       "17. 0.566730474572587\n",
       "18. 0.88937681383387\n",
       "19. 0.890385287040464\n",
       "20. 0.0595494194959582\n",
       "21. 0.921961219887991\n",
       "22. 0.125625189167021\n",
       "23. 0.0522357994588568\n",
       "24. 0.854112060447471\n",
       "25. 0.513559023650596\n",
       "26. 0.0595494194959582\n",
       "27. 0.961384805279074\n",
       "28. 0.589955140960686\n",
       "29. 0.921961219887991\n",
       "30. 0.973718336156186\n",
       "31. 0.566730474572587\n",
       "32. 0.107572120751493\n",
       "33. 0.921961219887991\n",
       "34. 0.506472025507342\n",
       "35. 0.566730474572587\n",
       "36. 0.000437194399505997\n",
       "37. 0.234287138103394\n",
       "38. 0.921961219887991\n",
       "39. 0.506472025507342\n",
       "40. 0.854112060447471\n",
       "41. 0.0522357994588568\n",
       "42. 0.921961219887991\n",
       "43. 0.921961219887991\n",
       "44. 0.0522357994588568\n",
       "45. 0.921961219887991\n",
       "46. 0.487380191669779\n",
       "47. 0.761562273628208\n",
       "48. 0.506472025507342\n",
       "49. 0.992688623205974\n",
       "50. 0.921961219887991\n",
       "51. 0.00309128237917259\n",
       "52. 0.854112060447471\n",
       "\n",
       "\n"
      ],
      "text/plain": [
       " [1] 0.5064720255 0.2833547797 0.1809565455 0.0930763493 0.0096634631\n",
       " [6] 0.6278073988 0.5667304746 0.2833547797 0.3176547670 0.0004371944\n",
       "[11] 0.0522357995 0.9926886232 0.8127260413 0.5064720255 0.4873801917\n",
       "[16] 0.7529070414 0.5667304746 0.8893768138 0.8903852870 0.0595494195\n",
       "[21] 0.9219612199 0.1256251892 0.0522357995 0.8541120604 0.5135590237\n",
       "[26] 0.0595494195 0.9613848053 0.5899551410 0.9219612199 0.9737183362\n",
       "[31] 0.5667304746 0.1075721208 0.9219612199 0.5064720255 0.5667304746\n",
       "[36] 0.0004371944 0.2342871381 0.9219612199 0.5064720255 0.8541120604\n",
       "[41] 0.0522357995 0.9219612199 0.9219612199 0.0522357995 0.9219612199\n",
       "[46] 0.4873801917 0.7615622736 0.5064720255 0.9926886232 0.9219612199\n",
       "[51] 0.0030912824 0.8541120604"
      ]
     },
     "metadata": {},
     "output_type": "display_data"
    }
   ],
   "source": [
    "fdrs"
   ]
  },
  {
   "cell_type": "code",
   "execution_count": 21,
   "metadata": {},
   "outputs": [],
   "source": [
    "fdrs_df <- data.frame(\"hallmarks\" = pathways , \"fdr\" = fdrs)"
   ]
  },
  {
   "cell_type": "code",
   "execution_count": 22,
   "metadata": {},
   "outputs": [
    {
     "data": {
      "text/html": [
       "<table>\n",
       "<thead><tr><th></th><th scope=col>hallmarks</th><th scope=col>fdr</th></tr></thead>\n",
       "<tbody>\n",
       "\t<tr><th scope=row>47</th><td>HALLMARK_SPERMATOGENESIS    </td><td>0.761562274                 </td></tr>\n",
       "\t<tr><th scope=row>48</th><td>HALLMARK_KRAS_SIGNALING_UP  </td><td>0.506472026                 </td></tr>\n",
       "\t<tr><th scope=row>49</th><td>HALLMARK_KRAS_SIGNALING_DN  </td><td>0.992688623                 </td></tr>\n",
       "\t<tr><th scope=row>50</th><td>HALLMARK_PANCREAS_BETA_CELLS</td><td>0.921961220                 </td></tr>\n",
       "\t<tr><th scope=row>51</th><td>StromalSignature            </td><td>0.003091282                 </td></tr>\n",
       "\t<tr><th scope=row>52</th><td>ImmuneSignature             </td><td>0.854112060                 </td></tr>\n",
       "</tbody>\n",
       "</table>\n"
      ],
      "text/latex": [
       "\\begin{tabular}{r|ll}\n",
       "  & hallmarks & fdr\\\\\n",
       "\\hline\n",
       "\t47 & HALLMARK\\_SPERMATOGENESIS     & 0.761562274                   \\\\\n",
       "\t48 & HALLMARK\\_KRAS\\_SIGNALING\\_UP   & 0.506472026                       \\\\\n",
       "\t49 & HALLMARK\\_KRAS\\_SIGNALING\\_DN   & 0.992688623                       \\\\\n",
       "\t50 & HALLMARK\\_PANCREAS\\_BETA\\_CELLS & 0.921961220                       \\\\\n",
       "\t51 & StromalSignature             & 0.003091282                 \\\\\n",
       "\t52 & ImmuneSignature              & 0.854112060                 \\\\\n",
       "\\end{tabular}\n"
      ],
      "text/markdown": [
       "\n",
       "| <!--/--> | hallmarks | fdr | \n",
       "|---|---|---|---|---|---|\n",
       "| 47 | HALLMARK_SPERMATOGENESIS     | 0.761562274                  | \n",
       "| 48 | HALLMARK_KRAS_SIGNALING_UP   | 0.506472026                  | \n",
       "| 49 | HALLMARK_KRAS_SIGNALING_DN   | 0.992688623                  | \n",
       "| 50 | HALLMARK_PANCREAS_BETA_CELLS | 0.921961220                  | \n",
       "| 51 | StromalSignature             | 0.003091282                  | \n",
       "| 52 | ImmuneSignature              | 0.854112060                  | \n",
       "\n",
       "\n"
      ],
      "text/plain": [
       "   hallmarks                    fdr        \n",
       "47 HALLMARK_SPERMATOGENESIS     0.761562274\n",
       "48 HALLMARK_KRAS_SIGNALING_UP   0.506472026\n",
       "49 HALLMARK_KRAS_SIGNALING_DN   0.992688623\n",
       "50 HALLMARK_PANCREAS_BETA_CELLS 0.921961220\n",
       "51 StromalSignature             0.003091282\n",
       "52 ImmuneSignature              0.854112060"
      ]
     },
     "metadata": {},
     "output_type": "display_data"
    }
   ],
   "source": [
    "tail(fdrs_df)"
   ]
  },
  {
   "cell_type": "code",
   "execution_count": 23,
   "metadata": {},
   "outputs": [
    {
     "data": {
      "text/html": [
       "<ol class=list-inline>\n",
       "\t<li>52</li>\n",
       "\t<li>2</li>\n",
       "</ol>\n"
      ],
      "text/latex": [
       "\\begin{enumerate*}\n",
       "\\item 52\n",
       "\\item 2\n",
       "\\end{enumerate*}\n"
      ],
      "text/markdown": [
       "1. 52\n",
       "2. 2\n",
       "\n",
       "\n"
      ],
      "text/plain": [
       "[1] 52  2"
      ]
     },
     "metadata": {},
     "output_type": "display_data"
    }
   ],
   "source": [
    "dim(fdrs_df)"
   ]
  },
  {
   "cell_type": "code",
   "execution_count": 24,
   "metadata": {},
   "outputs": [],
   "source": [
    "write.table(fdrs_df, \"../../Data/4/fdrs_df.csv\", sep=\",\", row.names = FALSE)"
   ]
  },
  {
   "cell_type": "markdown",
   "metadata": {},
   "source": [
    "# End script"
   ]
  }
 ],
 "metadata": {
  "kernelspec": {
   "display_name": "R",
   "language": "R",
   "name": "ir"
  },
  "language_info": {
   "codemirror_mode": "r",
   "file_extension": ".r",
   "mimetype": "text/x-r-source",
   "name": "R",
   "pygments_lexer": "r",
   "version": "3.5.0"
  }
 },
 "nbformat": 4,
 "nbformat_minor": 2
}

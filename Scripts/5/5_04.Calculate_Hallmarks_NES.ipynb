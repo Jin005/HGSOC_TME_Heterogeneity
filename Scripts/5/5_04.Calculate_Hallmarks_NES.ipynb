{
 "cells": [
  {
   "cell_type": "markdown",
   "metadata": {},
   "source": [
    "# Calculate normalised enrichment scores of hallmarks"
   ]
  },
  {
   "cell_type": "markdown",
   "metadata": {},
   "source": [
    "Script related to figure 5\n",
    "\n",
    "Aim:\n",
    "- Calculate NES of Hallmark Gene Sets"
   ]
  },
  {
   "cell_type": "markdown",
   "metadata": {},
   "source": [
    "## Install packages"
   ]
  },
  {
   "cell_type": "code",
   "execution_count": null,
   "metadata": {},
   "outputs": [],
   "source": [
    "#source(\"https://bioconductor.org/biocLite.R\")"
   ]
  },
  {
   "cell_type": "code",
   "execution_count": null,
   "metadata": {},
   "outputs": [],
   "source": [
    "#biocLite(\"GSVA\")"
   ]
  },
  {
   "cell_type": "code",
   "execution_count": null,
   "metadata": {},
   "outputs": [],
   "source": [
    "#biocLite(\"BBmisc\")"
   ]
  },
  {
   "cell_type": "code",
   "execution_count": null,
   "metadata": {},
   "outputs": [],
   "source": [
    "#biocLite(\"nortest\")"
   ]
  },
  {
   "cell_type": "markdown",
   "metadata": {},
   "source": [
    "## Load packages"
   ]
  },
  {
   "cell_type": "code",
   "execution_count": 1,
   "metadata": {},
   "outputs": [
    {
     "name": "stderr",
     "output_type": "stream",
     "text": [
      "Warning message:\n",
      "“package ‘GSVA’ was built under R version 3.5.1”\n",
      "Attaching package: ‘BBmisc’\n",
      "\n",
      "The following object is masked from ‘package:base’:\n",
      "\n",
      "    isFALSE\n",
      "\n"
     ]
    }
   ],
   "source": [
    "library(GSVA)\n",
    "library(BBmisc)\n",
    "library(nortest)"
   ]
  },
  {
   "cell_type": "code",
   "execution_count": 2,
   "metadata": {},
   "outputs": [],
   "source": [
    "setwd(\"~/Documents/PhD/Software/Scripts/OVCT/1.REBUTTAL/0.Figures/5/0.Scripts/\")"
   ]
  },
  {
   "cell_type": "markdown",
   "metadata": {},
   "source": [
    "## Load expression data"
   ]
  },
  {
   "cell_type": "code",
   "execution_count": 3,
   "metadata": {},
   "outputs": [],
   "source": [
    "data <- read.csv('../1.Data/NACT_log2exp_loess_norm.txt',\n",
    "                 sep='\\t',\n",
    "                 header=T,\n",
    "                 row.names='Hugo_Symbol')"
   ]
  },
  {
   "cell_type": "code",
   "execution_count": 4,
   "metadata": {},
   "outputs": [
    {
     "data": {
      "text/html": [
       "<table>\n",
       "<thead><tr><th></th><th scope=col>A01</th><th scope=col>A02</th><th scope=col>A03</th><th scope=col>A04</th><th scope=col>A05</th><th scope=col>A06</th><th scope=col>A07</th><th scope=col>A08</th><th scope=col>A09</th><th scope=col>A10</th><th scope=col>⋯</th><th scope=col>D12</th><th scope=col>E01</th><th scope=col>E02</th><th scope=col>E03</th><th scope=col>E04</th><th scope=col>E05</th><th scope=col>E06</th><th scope=col>E07</th><th scope=col>E08</th><th scope=col>E09</th></tr></thead>\n",
       "<tbody>\n",
       "\t<tr><th scope=row>A1BG</th><td>3.878105</td><td>3.954775</td><td>3.854334</td><td>3.974302</td><td>3.760565</td><td>3.757145</td><td>3.734362</td><td>3.935987</td><td>3.807211</td><td>3.514725</td><td>⋯       </td><td>3.919331</td><td>3.896646</td><td>4.027690</td><td>3.685888</td><td>3.765937</td><td>4.086110</td><td>4.000239</td><td>3.662362</td><td>3.896871</td><td>3.654871</td></tr>\n",
       "\t<tr><th scope=row>A2BP1</th><td>2.862997</td><td>3.279474</td><td>3.957806</td><td>3.993876</td><td>3.641308</td><td>3.249292</td><td>3.347323</td><td>3.358668</td><td>3.616479</td><td>3.572950</td><td>⋯       </td><td>3.490291</td><td>4.059473</td><td>3.679676</td><td>3.418869</td><td>2.924245</td><td>3.346328</td><td>3.899451</td><td>3.933936</td><td>4.425151</td><td>3.723115</td></tr>\n",
       "\t<tr><th scope=row>A2M</th><td>5.516461</td><td>5.882656</td><td>6.421447</td><td>5.980470</td><td>5.049547</td><td>5.220719</td><td>5.492205</td><td>6.471173</td><td>5.341425</td><td>5.482726</td><td>⋯       </td><td>6.366298</td><td>6.483692</td><td>5.784733</td><td>4.950854</td><td>6.164623</td><td>4.974455</td><td>6.709993</td><td>6.645714</td><td>6.391323</td><td>6.134008</td></tr>\n",
       "\t<tr><th scope=row>A2ML1</th><td>3.958668</td><td>4.100177</td><td>3.250522</td><td>3.396357</td><td>3.851866</td><td>4.052745</td><td>3.635604</td><td>3.143886</td><td>3.999510</td><td>3.988277</td><td>⋯       </td><td>3.300078</td><td>3.488284</td><td>3.120832</td><td>3.868837</td><td>3.519030</td><td>3.891299</td><td>3.151470</td><td>3.353788</td><td>3.617326</td><td>3.950268</td></tr>\n",
       "\t<tr><th scope=row>A4GALT</th><td>3.087003</td><td>2.995708</td><td>3.395173</td><td>2.859539</td><td>2.976988</td><td>3.332730</td><td>3.317251</td><td>3.490682</td><td>3.087911</td><td>3.153865</td><td>⋯       </td><td>3.440970</td><td>3.364598</td><td>3.214461</td><td>2.922184</td><td>3.054724</td><td>2.811116</td><td>2.929423</td><td>3.364648</td><td>3.325120</td><td>3.196659</td></tr>\n",
       "\t<tr><th scope=row>A4GNT</th><td>3.048008</td><td>3.623636</td><td>3.348870</td><td>3.562907</td><td>3.620267</td><td>3.860816</td><td>3.424986</td><td>3.407024</td><td>3.285399</td><td>3.292239</td><td>⋯       </td><td>3.248061</td><td>3.458406</td><td>3.667137</td><td>3.574454</td><td>3.636023</td><td>3.457226</td><td>3.509265</td><td>3.593513</td><td>3.984337</td><td>3.447052</td></tr>\n",
       "</tbody>\n",
       "</table>\n"
      ],
      "text/latex": [
       "\\begin{tabular}{r|llllllllllllllllllllllllllllllllllllllllllllllllllllllll}\n",
       "  & A01 & A02 & A03 & A04 & A05 & A06 & A07 & A08 & A09 & A10 & ⋯ & D12 & E01 & E02 & E03 & E04 & E05 & E06 & E07 & E08 & E09\\\\\n",
       "\\hline\n",
       "\tA1BG & 3.878105 & 3.954775 & 3.854334 & 3.974302 & 3.760565 & 3.757145 & 3.734362 & 3.935987 & 3.807211 & 3.514725 & ⋯        & 3.919331 & 3.896646 & 4.027690 & 3.685888 & 3.765937 & 4.086110 & 4.000239 & 3.662362 & 3.896871 & 3.654871\\\\\n",
       "\tA2BP1 & 2.862997 & 3.279474 & 3.957806 & 3.993876 & 3.641308 & 3.249292 & 3.347323 & 3.358668 & 3.616479 & 3.572950 & ⋯        & 3.490291 & 4.059473 & 3.679676 & 3.418869 & 2.924245 & 3.346328 & 3.899451 & 3.933936 & 4.425151 & 3.723115\\\\\n",
       "\tA2M & 5.516461 & 5.882656 & 6.421447 & 5.980470 & 5.049547 & 5.220719 & 5.492205 & 6.471173 & 5.341425 & 5.482726 & ⋯        & 6.366298 & 6.483692 & 5.784733 & 4.950854 & 6.164623 & 4.974455 & 6.709993 & 6.645714 & 6.391323 & 6.134008\\\\\n",
       "\tA2ML1 & 3.958668 & 4.100177 & 3.250522 & 3.396357 & 3.851866 & 4.052745 & 3.635604 & 3.143886 & 3.999510 & 3.988277 & ⋯        & 3.300078 & 3.488284 & 3.120832 & 3.868837 & 3.519030 & 3.891299 & 3.151470 & 3.353788 & 3.617326 & 3.950268\\\\\n",
       "\tA4GALT & 3.087003 & 2.995708 & 3.395173 & 2.859539 & 2.976988 & 3.332730 & 3.317251 & 3.490682 & 3.087911 & 3.153865 & ⋯        & 3.440970 & 3.364598 & 3.214461 & 2.922184 & 3.054724 & 2.811116 & 2.929423 & 3.364648 & 3.325120 & 3.196659\\\\\n",
       "\tA4GNT & 3.048008 & 3.623636 & 3.348870 & 3.562907 & 3.620267 & 3.860816 & 3.424986 & 3.407024 & 3.285399 & 3.292239 & ⋯        & 3.248061 & 3.458406 & 3.667137 & 3.574454 & 3.636023 & 3.457226 & 3.509265 & 3.593513 & 3.984337 & 3.447052\\\\\n",
       "\\end{tabular}\n"
      ],
      "text/markdown": [
       "\n",
       "| <!--/--> | A01 | A02 | A03 | A04 | A05 | A06 | A07 | A08 | A09 | A10 | ⋯ | D12 | E01 | E02 | E03 | E04 | E05 | E06 | E07 | E08 | E09 | \n",
       "|---|---|---|---|---|---|\n",
       "| A1BG | 3.878105 | 3.954775 | 3.854334 | 3.974302 | 3.760565 | 3.757145 | 3.734362 | 3.935987 | 3.807211 | 3.514725 | ⋯        | 3.919331 | 3.896646 | 4.027690 | 3.685888 | 3.765937 | 4.086110 | 4.000239 | 3.662362 | 3.896871 | 3.654871 | \n",
       "| A2BP1 | 2.862997 | 3.279474 | 3.957806 | 3.993876 | 3.641308 | 3.249292 | 3.347323 | 3.358668 | 3.616479 | 3.572950 | ⋯        | 3.490291 | 4.059473 | 3.679676 | 3.418869 | 2.924245 | 3.346328 | 3.899451 | 3.933936 | 4.425151 | 3.723115 | \n",
       "| A2M | 5.516461 | 5.882656 | 6.421447 | 5.980470 | 5.049547 | 5.220719 | 5.492205 | 6.471173 | 5.341425 | 5.482726 | ⋯        | 6.366298 | 6.483692 | 5.784733 | 4.950854 | 6.164623 | 4.974455 | 6.709993 | 6.645714 | 6.391323 | 6.134008 | \n",
       "| A2ML1 | 3.958668 | 4.100177 | 3.250522 | 3.396357 | 3.851866 | 4.052745 | 3.635604 | 3.143886 | 3.999510 | 3.988277 | ⋯        | 3.300078 | 3.488284 | 3.120832 | 3.868837 | 3.519030 | 3.891299 | 3.151470 | 3.353788 | 3.617326 | 3.950268 | \n",
       "| A4GALT | 3.087003 | 2.995708 | 3.395173 | 2.859539 | 2.976988 | 3.332730 | 3.317251 | 3.490682 | 3.087911 | 3.153865 | ⋯        | 3.440970 | 3.364598 | 3.214461 | 2.922184 | 3.054724 | 2.811116 | 2.929423 | 3.364648 | 3.325120 | 3.196659 | \n",
       "| A4GNT | 3.048008 | 3.623636 | 3.348870 | 3.562907 | 3.620267 | 3.860816 | 3.424986 | 3.407024 | 3.285399 | 3.292239 | ⋯        | 3.248061 | 3.458406 | 3.667137 | 3.574454 | 3.636023 | 3.457226 | 3.509265 | 3.593513 | 3.984337 | 3.447052 | \n",
       "\n",
       "\n"
      ],
      "text/plain": [
       "       A01      A02      A03      A04      A05      A06      A07      A08     \n",
       "A1BG   3.878105 3.954775 3.854334 3.974302 3.760565 3.757145 3.734362 3.935987\n",
       "A2BP1  2.862997 3.279474 3.957806 3.993876 3.641308 3.249292 3.347323 3.358668\n",
       "A2M    5.516461 5.882656 6.421447 5.980470 5.049547 5.220719 5.492205 6.471173\n",
       "A2ML1  3.958668 4.100177 3.250522 3.396357 3.851866 4.052745 3.635604 3.143886\n",
       "A4GALT 3.087003 2.995708 3.395173 2.859539 2.976988 3.332730 3.317251 3.490682\n",
       "A4GNT  3.048008 3.623636 3.348870 3.562907 3.620267 3.860816 3.424986 3.407024\n",
       "       A09      A10      ⋯ D12      E01      E02      E03      E04     \n",
       "A1BG   3.807211 3.514725 ⋯ 3.919331 3.896646 4.027690 3.685888 3.765937\n",
       "A2BP1  3.616479 3.572950 ⋯ 3.490291 4.059473 3.679676 3.418869 2.924245\n",
       "A2M    5.341425 5.482726 ⋯ 6.366298 6.483692 5.784733 4.950854 6.164623\n",
       "A2ML1  3.999510 3.988277 ⋯ 3.300078 3.488284 3.120832 3.868837 3.519030\n",
       "A4GALT 3.087911 3.153865 ⋯ 3.440970 3.364598 3.214461 2.922184 3.054724\n",
       "A4GNT  3.285399 3.292239 ⋯ 3.248061 3.458406 3.667137 3.574454 3.636023\n",
       "       E05      E06      E07      E08      E09     \n",
       "A1BG   4.086110 4.000239 3.662362 3.896871 3.654871\n",
       "A2BP1  3.346328 3.899451 3.933936 4.425151 3.723115\n",
       "A2M    4.974455 6.709993 6.645714 6.391323 6.134008\n",
       "A2ML1  3.891299 3.151470 3.353788 3.617326 3.950268\n",
       "A4GALT 2.811116 2.929423 3.364648 3.325120 3.196659\n",
       "A4GNT  3.457226 3.509265 3.593513 3.984337 3.447052"
      ]
     },
     "metadata": {},
     "output_type": "display_data"
    }
   ],
   "source": [
    "head(data)"
   ]
  },
  {
   "cell_type": "code",
   "execution_count": 5,
   "metadata": {},
   "outputs": [],
   "source": [
    "data_mtx <- as.matrix(data)"
   ]
  },
  {
   "cell_type": "markdown",
   "metadata": {},
   "source": [
    "## Load hallmark gene sets"
   ]
  },
  {
   "cell_type": "code",
   "execution_count": 6,
   "metadata": {},
   "outputs": [],
   "source": [
    "Hallmark_geneSets <- read.csv('../1.Data/HallmarksStromaImmune_GeneSets.txt',\n",
    "                              sep='\\t',\n",
    "                              header=F,\n",
    "                              row.names=1)"
   ]
  },
  {
   "cell_type": "code",
   "execution_count": 7,
   "metadata": {},
   "outputs": [
    {
     "data": {
      "text/html": [
       "<table>\n",
       "<thead><tr><th></th><th scope=col>V2</th><th scope=col>V3</th><th scope=col>V4</th><th scope=col>V5</th><th scope=col>V6</th><th scope=col>V7</th><th scope=col>V8</th><th scope=col>V9</th><th scope=col>V10</th><th scope=col>V11</th><th scope=col>⋯</th><th scope=col>V193</th><th scope=col>V194</th><th scope=col>V195</th><th scope=col>V196</th><th scope=col>V197</th><th scope=col>V198</th><th scope=col>V199</th><th scope=col>V200</th><th scope=col>V201</th><th scope=col>V202</th></tr></thead>\n",
       "<tbody>\n",
       "\t<tr><th scope=row>HALLMARK_TNFA_SIGNALING_VIA_NFKB</th><td>http://www.broadinstitute.org/gsea/msigdb/cards/HALLMARK_TNFA_SIGNALING_VIA_NFKB   </td><td>JUNB                                                                               </td><td>CXCL2                                                                              </td><td>ATF3                                                                               </td><td>NFKBIA                                                                             </td><td>TNFAIP3                                                                            </td><td>PTGS2                                                                              </td><td>CXCL1                                                                              </td><td>IER3                                                                               </td><td>CD83                                                                               </td><td>⋯                                                                                  </td><td>EIF1                                                                               </td><td>BMP2                                                                               </td><td>DUSP4                                                                              </td><td>PDLIM5                                                                             </td><td>ICOSLG                                                                             </td><td>GFPT2                                                                              </td><td>KLF2                                                                               </td><td>TNC                                                                                </td><td>SERPINB8                                                                           </td><td>MXD1                                                                               </td></tr>\n",
       "\t<tr><th scope=row>HALLMARK_HYPOXIA</th><td>http://www.broadinstitute.org/gsea/msigdb/cards/HALLMARK_HYPOXIA                   </td><td>PGK1                                                                               </td><td>PDK1                                                                               </td><td>GBE1                                                                               </td><td>PFKL                                                                               </td><td>ALDOA                                                                              </td><td>ENO2                                                                               </td><td>PGM1                                                                               </td><td>NDRG1                                                                              </td><td>HK2                                                                                </td><td>⋯                                                                                  </td><td>HDLBP                                                                              </td><td>ILVBL                                                                              </td><td>NCAN                                                                               </td><td>TGM2                                                                               </td><td>ETS1                                                                               </td><td>HOXB9                                                                              </td><td>SELENBP1                                                                           </td><td>FOSL2                                                                              </td><td>SULT2B1                                                                            </td><td>TGFB3                                                                              </td></tr>\n",
       "\t<tr><th scope=row>HALLMARK_CHOLESTEROL_HOMEOSTASIS</th><td>http://www.broadinstitute.org/gsea/msigdb/cards/HALLMARK_CHOLESTEROL_HOMEOSTASIS   </td><td>FDPS                                                                               </td><td>CYP51A1                                                                            </td><td>IDI1                                                                               </td><td>FDFT1                                                                              </td><td>DHCR7                                                                              </td><td>SQLE                                                                               </td><td>HMGCS1                                                                             </td><td>NSDHL                                                                              </td><td>LSS                                                                                </td><td>⋯                                                                                  </td><td>                                                                                   </td><td>                                                                                   </td><td>                                                                                   </td><td>                                                                                   </td><td>                                                                                   </td><td>                                                                                   </td><td>                                                                                   </td><td>                                                                                   </td><td>                                                                                   </td><td>                                                                                   </td></tr>\n",
       "\t<tr><th scope=row>HALLMARK_MITOTIC_SPINDLE</th><td>http://www.broadinstitute.org/gsea/msigdb/cards/HALLMARK_MITOTIC_SPINDLE           </td><td>ARHGEF2                                                                            </td><td>CLASP1                                                                             </td><td>KIF11                                                                              </td><td>KIF23                                                                              </td><td>ALS2                                                                               </td><td>ARF6                                                                               </td><td>MYO9B                                                                              </td><td>MYH9                                                                               </td><td>TUBGCP3                                                                            </td><td>⋯                                                                                  </td><td>RHOT2                                                                              </td><td>SORBS2                                                                             </td><td>CDC42EP1                                                                           </td><td>VCL                                                                                </td><td>CLIP1                                                                              </td><td>STK38L                                                                             </td><td>YWHAE                                                                              </td><td>RAPGEF5                                                                            </td><td>CEP72                                                                              </td><td>CSNK1D                                                                             </td></tr>\n",
       "\t<tr><th scope=row>HALLMARK_WNT_BETA_CATENIN_SIGNALING</th><td>http://www.broadinstitute.org/gsea/msigdb/cards/HALLMARK_WNT_BETA_CATENIN_SIGNALING</td><td>MYC                                                                                </td><td>CTNNB1                                                                             </td><td>JAG2                                                                               </td><td>NOTCH1                                                                             </td><td>DLL1                                                                               </td><td>AXIN2                                                                              </td><td>PSEN2                                                                              </td><td>FZD1                                                                               </td><td>NOTCH4                                                                             </td><td>⋯                                                                                  </td><td>                                                                                   </td><td>                                                                                   </td><td>                                                                                   </td><td>                                                                                   </td><td>                                                                                   </td><td>                                                                                   </td><td>                                                                                   </td><td>                                                                                   </td><td>                                                                                   </td><td>                                                                                   </td></tr>\n",
       "\t<tr><th scope=row>HALLMARK_TGF_BETA_SIGNALING</th><td>http://www.broadinstitute.org/gsea/msigdb/cards/HALLMARK_TGF_BETA_SIGNALING        </td><td>TGFBR1                                                                             </td><td>SMAD7                                                                              </td><td>TGFB1                                                                              </td><td>SMURF2                                                                             </td><td>SMURF1                                                                             </td><td>BMPR2                                                                              </td><td>SKIL                                                                               </td><td>SKI                                                                                </td><td>ACVR1                                                                              </td><td>⋯                                                                                  </td><td>                                                                                   </td><td>                                                                                   </td><td>                                                                                   </td><td>                                                                                   </td><td>                                                                                   </td><td>                                                                                   </td><td>                                                                                   </td><td>                                                                                   </td><td>                                                                                   </td><td>                                                                                   </td></tr>\n",
       "</tbody>\n",
       "</table>\n"
      ],
      "text/latex": [
       "\\begin{tabular}{r|lllllllllllllllllllllllllllllllllllllllllllllllllllllllllllllllllllllllllllllllllllllllllllllllllllllllllllllllllllllllllllllllllllllllllllllllllllllllllllllllllllllllllllllllllllllllllllllllllllllllll}\n",
       "  & V2 & V3 & V4 & V5 & V6 & V7 & V8 & V9 & V10 & V11 & ⋯ & V193 & V194 & V195 & V196 & V197 & V198 & V199 & V200 & V201 & V202\\\\\n",
       "\\hline\n",
       "\tHALLMARK\\_TNFA\\_SIGNALING\\_VIA\\_NFKB & http://www.broadinstitute.org/gsea/msigdb/cards/HALLMARK\\_TNFA\\_SIGNALING\\_VIA\\_NFKB    & JUNB                                                                                        & CXCL2                                                                                       & ATF3                                                                                        & NFKBIA                                                                                      & TNFAIP3                                                                                     & PTGS2                                                                                       & CXCL1                                                                                       & IER3                                                                                        & CD83                                                                                        & ⋯                                                                                           & EIF1                                                                                        & BMP2                                                                                        & DUSP4                                                                                       & PDLIM5                                                                                      & ICOSLG                                                                                      & GFPT2                                                                                       & KLF2                                                                                        & TNC                                                                                         & SERPINB8                                                                                    & MXD1                                                                                       \\\\\n",
       "\tHALLMARK\\_HYPOXIA & http://www.broadinstitute.org/gsea/msigdb/cards/HALLMARK\\_HYPOXIA                    & PGK1                                                                                  & PDK1                                                                                  & GBE1                                                                                  & PFKL                                                                                  & ALDOA                                                                                 & ENO2                                                                                  & PGM1                                                                                  & NDRG1                                                                                 & HK2                                                                                   & ⋯                                                                                     & HDLBP                                                                                 & ILVBL                                                                                 & NCAN                                                                                  & TGM2                                                                                  & ETS1                                                                                  & HOXB9                                                                                 & SELENBP1                                                                              & FOSL2                                                                                 & SULT2B1                                                                               & TGFB3                                                                                \\\\\n",
       "\tHALLMARK\\_CHOLESTEROL\\_HOMEOSTASIS & http://www.broadinstitute.org/gsea/msigdb/cards/HALLMARK\\_CHOLESTEROL\\_HOMEOSTASIS    & FDPS                                                                                    & CYP51A1                                                                                 & IDI1                                                                                    & FDFT1                                                                                   & DHCR7                                                                                   & SQLE                                                                                    & HMGCS1                                                                                  & NSDHL                                                                                   & LSS                                                                                     & ⋯                                                                                       &                                                                                         &                                                                                         &                                                                                         &                                                                                         &                                                                                         &                                                                                         &                                                                                         &                                                                                         &                                                                                         &                                                                                        \\\\\n",
       "\tHALLMARK\\_MITOTIC\\_SPINDLE & http://www.broadinstitute.org/gsea/msigdb/cards/HALLMARK\\_MITOTIC\\_SPINDLE            & ARHGEF2                                                                                 & CLASP1                                                                                  & KIF11                                                                                   & KIF23                                                                                   & ALS2                                                                                    & ARF6                                                                                    & MYO9B                                                                                   & MYH9                                                                                    & TUBGCP3                                                                                 & ⋯                                                                                       & RHOT2                                                                                   & SORBS2                                                                                  & CDC42EP1                                                                                & VCL                                                                                     & CLIP1                                                                                   & STK38L                                                                                  & YWHAE                                                                                   & RAPGEF5                                                                                 & CEP72                                                                                   & CSNK1D                                                                                 \\\\\n",
       "\tHALLMARK\\_WNT\\_BETA\\_CATENIN\\_SIGNALING & http://www.broadinstitute.org/gsea/msigdb/cards/HALLMARK\\_WNT\\_BETA\\_CATENIN\\_SIGNALING & MYC                                                                                         & CTNNB1                                                                                      & JAG2                                                                                        & NOTCH1                                                                                      & DLL1                                                                                        & AXIN2                                                                                       & PSEN2                                                                                       & FZD1                                                                                        & NOTCH4                                                                                      & ⋯                                                                                           &                                                                                             &                                                                                             &                                                                                             &                                                                                             &                                                                                             &                                                                                             &                                                                                             &                                                                                             &                                                                                             &                                                                                            \\\\\n",
       "\tHALLMARK\\_TGF\\_BETA\\_SIGNALING & http://www.broadinstitute.org/gsea/msigdb/cards/HALLMARK\\_TGF\\_BETA\\_SIGNALING         & TGFBR1                                                                                    & SMAD7                                                                                     & TGFB1                                                                                     & SMURF2                                                                                    & SMURF1                                                                                    & BMPR2                                                                                     & SKIL                                                                                      & SKI                                                                                       & ACVR1                                                                                     & ⋯                                                                                         &                                                                                           &                                                                                           &                                                                                           &                                                                                           &                                                                                           &                                                                                           &                                                                                           &                                                                                           &                                                                                           &                                                                                          \\\\\n",
       "\\end{tabular}\n"
      ],
      "text/markdown": [
       "\n",
       "| <!--/--> | V2 | V3 | V4 | V5 | V6 | V7 | V8 | V9 | V10 | V11 | ⋯ | V193 | V194 | V195 | V196 | V197 | V198 | V199 | V200 | V201 | V202 | \n",
       "|---|---|---|---|---|---|\n",
       "| HALLMARK_TNFA_SIGNALING_VIA_NFKB | http://www.broadinstitute.org/gsea/msigdb/cards/HALLMARK_TNFA_SIGNALING_VIA_NFKB    | JUNB                                                                                | CXCL2                                                                               | ATF3                                                                                | NFKBIA                                                                              | TNFAIP3                                                                             | PTGS2                                                                               | CXCL1                                                                               | IER3                                                                                | CD83                                                                                | ⋯                                                                                   | EIF1                                                                                | BMP2                                                                                | DUSP4                                                                               | PDLIM5                                                                              | ICOSLG                                                                              | GFPT2                                                                               | KLF2                                                                                | TNC                                                                                 | SERPINB8                                                                            | MXD1                                                                                | \n",
       "| HALLMARK_HYPOXIA | http://www.broadinstitute.org/gsea/msigdb/cards/HALLMARK_HYPOXIA                    | PGK1                                                                                | PDK1                                                                                | GBE1                                                                                | PFKL                                                                                | ALDOA                                                                               | ENO2                                                                                | PGM1                                                                                | NDRG1                                                                               | HK2                                                                                 | ⋯                                                                                   | HDLBP                                                                               | ILVBL                                                                               | NCAN                                                                                | TGM2                                                                                | ETS1                                                                                | HOXB9                                                                               | SELENBP1                                                                            | FOSL2                                                                               | SULT2B1                                                                             | TGFB3                                                                               | \n",
       "| HALLMARK_CHOLESTEROL_HOMEOSTASIS | http://www.broadinstitute.org/gsea/msigdb/cards/HALLMARK_CHOLESTEROL_HOMEOSTASIS    | FDPS                                                                                | CYP51A1                                                                             | IDI1                                                                                | FDFT1                                                                               | DHCR7                                                                               | SQLE                                                                                | HMGCS1                                                                              | NSDHL                                                                               | LSS                                                                                 | ⋯                                                                                   |                                                                                     |                                                                                     |                                                                                     |                                                                                     |                                                                                     |                                                                                     |                                                                                     |                                                                                     |                                                                                     |                                                                                     | \n",
       "| HALLMARK_MITOTIC_SPINDLE | http://www.broadinstitute.org/gsea/msigdb/cards/HALLMARK_MITOTIC_SPINDLE            | ARHGEF2                                                                             | CLASP1                                                                              | KIF11                                                                               | KIF23                                                                               | ALS2                                                                                | ARF6                                                                                | MYO9B                                                                               | MYH9                                                                                | TUBGCP3                                                                             | ⋯                                                                                   | RHOT2                                                                               | SORBS2                                                                              | CDC42EP1                                                                            | VCL                                                                                 | CLIP1                                                                               | STK38L                                                                              | YWHAE                                                                               | RAPGEF5                                                                             | CEP72                                                                               | CSNK1D                                                                              | \n",
       "| HALLMARK_WNT_BETA_CATENIN_SIGNALING | http://www.broadinstitute.org/gsea/msigdb/cards/HALLMARK_WNT_BETA_CATENIN_SIGNALING | MYC                                                                                 | CTNNB1                                                                              | JAG2                                                                                | NOTCH1                                                                              | DLL1                                                                                | AXIN2                                                                               | PSEN2                                                                               | FZD1                                                                                | NOTCH4                                                                              | ⋯                                                                                   |                                                                                     |                                                                                     |                                                                                     |                                                                                     |                                                                                     |                                                                                     |                                                                                     |                                                                                     |                                                                                     |                                                                                     | \n",
       "| HALLMARK_TGF_BETA_SIGNALING | http://www.broadinstitute.org/gsea/msigdb/cards/HALLMARK_TGF_BETA_SIGNALING         | TGFBR1                                                                              | SMAD7                                                                               | TGFB1                                                                               | SMURF2                                                                              | SMURF1                                                                              | BMPR2                                                                               | SKIL                                                                                | SKI                                                                                 | ACVR1                                                                               | ⋯                                                                                   |                                                                                     |                                                                                     |                                                                                     |                                                                                     |                                                                                     |                                                                                     |                                                                                     |                                                                                     |                                                                                     |                                                                                     | \n",
       "\n",
       "\n"
      ],
      "text/plain": [
       "                                    V2                                                                                 \n",
       "HALLMARK_TNFA_SIGNALING_VIA_NFKB    http://www.broadinstitute.org/gsea/msigdb/cards/HALLMARK_TNFA_SIGNALING_VIA_NFKB   \n",
       "HALLMARK_HYPOXIA                    http://www.broadinstitute.org/gsea/msigdb/cards/HALLMARK_HYPOXIA                   \n",
       "HALLMARK_CHOLESTEROL_HOMEOSTASIS    http://www.broadinstitute.org/gsea/msigdb/cards/HALLMARK_CHOLESTEROL_HOMEOSTASIS   \n",
       "HALLMARK_MITOTIC_SPINDLE            http://www.broadinstitute.org/gsea/msigdb/cards/HALLMARK_MITOTIC_SPINDLE           \n",
       "HALLMARK_WNT_BETA_CATENIN_SIGNALING http://www.broadinstitute.org/gsea/msigdb/cards/HALLMARK_WNT_BETA_CATENIN_SIGNALING\n",
       "HALLMARK_TGF_BETA_SIGNALING         http://www.broadinstitute.org/gsea/msigdb/cards/HALLMARK_TGF_BETA_SIGNALING        \n",
       "                                    V3      V4      V5    V6     V7      V8   \n",
       "HALLMARK_TNFA_SIGNALING_VIA_NFKB    JUNB    CXCL2   ATF3  NFKBIA TNFAIP3 PTGS2\n",
       "HALLMARK_HYPOXIA                    PGK1    PDK1    GBE1  PFKL   ALDOA   ENO2 \n",
       "HALLMARK_CHOLESTEROL_HOMEOSTASIS    FDPS    CYP51A1 IDI1  FDFT1  DHCR7   SQLE \n",
       "HALLMARK_MITOTIC_SPINDLE            ARHGEF2 CLASP1  KIF11 KIF23  ALS2    ARF6 \n",
       "HALLMARK_WNT_BETA_CATENIN_SIGNALING MYC     CTNNB1  JAG2  NOTCH1 DLL1    AXIN2\n",
       "HALLMARK_TGF_BETA_SIGNALING         TGFBR1  SMAD7   TGFB1 SMURF2 SMURF1  BMPR2\n",
       "                                    V9     V10   V11     ⋯ V193  V194  \n",
       "HALLMARK_TNFA_SIGNALING_VIA_NFKB    CXCL1  IER3  CD83    ⋯ EIF1  BMP2  \n",
       "HALLMARK_HYPOXIA                    PGM1   NDRG1 HK2     ⋯ HDLBP ILVBL \n",
       "HALLMARK_CHOLESTEROL_HOMEOSTASIS    HMGCS1 NSDHL LSS     ⋯             \n",
       "HALLMARK_MITOTIC_SPINDLE            MYO9B  MYH9  TUBGCP3 ⋯ RHOT2 SORBS2\n",
       "HALLMARK_WNT_BETA_CATENIN_SIGNALING PSEN2  FZD1  NOTCH4  ⋯             \n",
       "HALLMARK_TGF_BETA_SIGNALING         SKIL   SKI   ACVR1   ⋯             \n",
       "                                    V195     V196   V197   V198   V199    \n",
       "HALLMARK_TNFA_SIGNALING_VIA_NFKB    DUSP4    PDLIM5 ICOSLG GFPT2  KLF2    \n",
       "HALLMARK_HYPOXIA                    NCAN     TGM2   ETS1   HOXB9  SELENBP1\n",
       "HALLMARK_CHOLESTEROL_HOMEOSTASIS                                          \n",
       "HALLMARK_MITOTIC_SPINDLE            CDC42EP1 VCL    CLIP1  STK38L YWHAE   \n",
       "HALLMARK_WNT_BETA_CATENIN_SIGNALING                                       \n",
       "HALLMARK_TGF_BETA_SIGNALING                                               \n",
       "                                    V200    V201     V202  \n",
       "HALLMARK_TNFA_SIGNALING_VIA_NFKB    TNC     SERPINB8 MXD1  \n",
       "HALLMARK_HYPOXIA                    FOSL2   SULT2B1  TGFB3 \n",
       "HALLMARK_CHOLESTEROL_HOMEOSTASIS                           \n",
       "HALLMARK_MITOTIC_SPINDLE            RAPGEF5 CEP72    CSNK1D\n",
       "HALLMARK_WNT_BETA_CATENIN_SIGNALING                        \n",
       "HALLMARK_TGF_BETA_SIGNALING                                "
      ]
     },
     "metadata": {},
     "output_type": "display_data"
    }
   ],
   "source": [
    "head(Hallmark_geneSets)"
   ]
  },
  {
   "cell_type": "markdown",
   "metadata": {},
   "source": [
    "### Remove website column"
   ]
  },
  {
   "cell_type": "code",
   "execution_count": 8,
   "metadata": {},
   "outputs": [],
   "source": [
    "Hallmark_geneSets <- Hallmark_geneSets[-1]"
   ]
  },
  {
   "cell_type": "code",
   "execution_count": 9,
   "metadata": {},
   "outputs": [
    {
     "data": {
      "text/html": [
       "<table>\n",
       "<thead><tr><th></th><th scope=col>V3</th><th scope=col>V4</th><th scope=col>V5</th><th scope=col>V6</th><th scope=col>V7</th><th scope=col>V8</th><th scope=col>V9</th><th scope=col>V10</th><th scope=col>V11</th><th scope=col>V12</th><th scope=col>⋯</th><th scope=col>V193</th><th scope=col>V194</th><th scope=col>V195</th><th scope=col>V196</th><th scope=col>V197</th><th scope=col>V198</th><th scope=col>V199</th><th scope=col>V200</th><th scope=col>V201</th><th scope=col>V202</th></tr></thead>\n",
       "<tbody>\n",
       "\t<tr><th scope=row>HALLMARK_TNFA_SIGNALING_VIA_NFKB</th><td>JUNB    </td><td>CXCL2   </td><td>ATF3    </td><td>NFKBIA  </td><td>TNFAIP3 </td><td>PTGS2   </td><td>CXCL1   </td><td>IER3    </td><td>CD83    </td><td>CCL20   </td><td>⋯       </td><td>EIF1    </td><td>BMP2    </td><td>DUSP4   </td><td>PDLIM5  </td><td>ICOSLG  </td><td>GFPT2   </td><td>KLF2    </td><td>TNC     </td><td>SERPINB8</td><td>MXD1    </td></tr>\n",
       "\t<tr><th scope=row>HALLMARK_HYPOXIA</th><td>PGK1    </td><td>PDK1    </td><td>GBE1    </td><td>PFKL    </td><td>ALDOA   </td><td>ENO2    </td><td>PGM1    </td><td>NDRG1   </td><td>HK2     </td><td>ALDOC   </td><td>⋯       </td><td>HDLBP   </td><td>ILVBL   </td><td>NCAN    </td><td>TGM2    </td><td>ETS1    </td><td>HOXB9   </td><td>SELENBP1</td><td>FOSL2   </td><td>SULT2B1 </td><td>TGFB3   </td></tr>\n",
       "\t<tr><th scope=row>HALLMARK_CHOLESTEROL_HOMEOSTASIS</th><td>FDPS    </td><td>CYP51A1 </td><td>IDI1    </td><td>FDFT1   </td><td>DHCR7   </td><td>SQLE    </td><td>HMGCS1  </td><td>NSDHL   </td><td>LSS     </td><td>MVD     </td><td>⋯       </td><td>        </td><td>        </td><td>        </td><td>        </td><td>        </td><td>        </td><td>        </td><td>        </td><td>        </td><td>        </td></tr>\n",
       "\t<tr><th scope=row>HALLMARK_MITOTIC_SPINDLE</th><td>ARHGEF2 </td><td>CLASP1  </td><td>KIF11   </td><td>KIF23   </td><td>ALS2    </td><td>ARF6    </td><td>MYO9B   </td><td>MYH9    </td><td>TUBGCP3 </td><td>CKAP5   </td><td>⋯       </td><td>RHOT2   </td><td>SORBS2  </td><td>CDC42EP1</td><td>VCL     </td><td>CLIP1   </td><td>STK38L  </td><td>YWHAE   </td><td>RAPGEF5 </td><td>CEP72   </td><td>CSNK1D  </td></tr>\n",
       "\t<tr><th scope=row>HALLMARK_WNT_BETA_CATENIN_SIGNALING</th><td>MYC     </td><td>CTNNB1  </td><td>JAG2    </td><td>NOTCH1  </td><td>DLL1    </td><td>AXIN2   </td><td>PSEN2   </td><td>FZD1    </td><td>NOTCH4  </td><td>LEF1    </td><td>⋯       </td><td>        </td><td>        </td><td>        </td><td>        </td><td>        </td><td>        </td><td>        </td><td>        </td><td>        </td><td>        </td></tr>\n",
       "\t<tr><th scope=row>HALLMARK_TGF_BETA_SIGNALING</th><td>TGFBR1  </td><td>SMAD7   </td><td>TGFB1   </td><td>SMURF2  </td><td>SMURF1  </td><td>BMPR2   </td><td>SKIL    </td><td>SKI     </td><td>ACVR1   </td><td>PMEPA1  </td><td>⋯       </td><td>        </td><td>        </td><td>        </td><td>        </td><td>        </td><td>        </td><td>        </td><td>        </td><td>        </td><td>        </td></tr>\n",
       "</tbody>\n",
       "</table>\n"
      ],
      "text/latex": [
       "\\begin{tabular}{r|llllllllllllllllllllllllllllllllllllllllllllllllllllllllllllllllllllllllllllllllllllllllllllllllllllllllllllllllllllllllllllllllllllllllllllllllllllllllllllllllllllllllllllllllllllllllllllllllllllllll}\n",
       "  & V3 & V4 & V5 & V6 & V7 & V8 & V9 & V10 & V11 & V12 & ⋯ & V193 & V194 & V195 & V196 & V197 & V198 & V199 & V200 & V201 & V202\\\\\n",
       "\\hline\n",
       "\tHALLMARK\\_TNFA\\_SIGNALING\\_VIA\\_NFKB & JUNB     & CXCL2    & ATF3     & NFKBIA   & TNFAIP3  & PTGS2    & CXCL1    & IER3     & CD83     & CCL20    & ⋯        & EIF1     & BMP2     & DUSP4    & PDLIM5   & ICOSLG   & GFPT2    & KLF2     & TNC      & SERPINB8 & MXD1    \\\\\n",
       "\tHALLMARK\\_HYPOXIA & PGK1     & PDK1     & GBE1     & PFKL     & ALDOA    & ENO2     & PGM1     & NDRG1    & HK2      & ALDOC    & ⋯        & HDLBP    & ILVBL    & NCAN     & TGM2     & ETS1     & HOXB9    & SELENBP1 & FOSL2    & SULT2B1  & TGFB3   \\\\\n",
       "\tHALLMARK\\_CHOLESTEROL\\_HOMEOSTASIS & FDPS     & CYP51A1  & IDI1     & FDFT1    & DHCR7    & SQLE     & HMGCS1   & NSDHL    & LSS      & MVD      & ⋯        &          &          &          &          &          &          &          &          &          &         \\\\\n",
       "\tHALLMARK\\_MITOTIC\\_SPINDLE & ARHGEF2  & CLASP1   & KIF11    & KIF23    & ALS2     & ARF6     & MYO9B    & MYH9     & TUBGCP3  & CKAP5    & ⋯        & RHOT2    & SORBS2   & CDC42EP1 & VCL      & CLIP1    & STK38L   & YWHAE    & RAPGEF5  & CEP72    & CSNK1D  \\\\\n",
       "\tHALLMARK\\_WNT\\_BETA\\_CATENIN\\_SIGNALING & MYC      & CTNNB1   & JAG2     & NOTCH1   & DLL1     & AXIN2    & PSEN2    & FZD1     & NOTCH4   & LEF1     & ⋯        &          &          &          &          &          &          &          &          &          &         \\\\\n",
       "\tHALLMARK\\_TGF\\_BETA\\_SIGNALING & TGFBR1   & SMAD7    & TGFB1    & SMURF2   & SMURF1   & BMPR2    & SKIL     & SKI      & ACVR1    & PMEPA1   & ⋯        &          &          &          &          &          &          &          &          &          &         \\\\\n",
       "\\end{tabular}\n"
      ],
      "text/markdown": [
       "\n",
       "| <!--/--> | V3 | V4 | V5 | V6 | V7 | V8 | V9 | V10 | V11 | V12 | ⋯ | V193 | V194 | V195 | V196 | V197 | V198 | V199 | V200 | V201 | V202 | \n",
       "|---|---|---|---|---|---|\n",
       "| HALLMARK_TNFA_SIGNALING_VIA_NFKB | JUNB     | CXCL2    | ATF3     | NFKBIA   | TNFAIP3  | PTGS2    | CXCL1    | IER3     | CD83     | CCL20    | ⋯        | EIF1     | BMP2     | DUSP4    | PDLIM5   | ICOSLG   | GFPT2    | KLF2     | TNC      | SERPINB8 | MXD1     | \n",
       "| HALLMARK_HYPOXIA | PGK1     | PDK1     | GBE1     | PFKL     | ALDOA    | ENO2     | PGM1     | NDRG1    | HK2      | ALDOC    | ⋯        | HDLBP    | ILVBL    | NCAN     | TGM2     | ETS1     | HOXB9    | SELENBP1 | FOSL2    | SULT2B1  | TGFB3    | \n",
       "| HALLMARK_CHOLESTEROL_HOMEOSTASIS | FDPS     | CYP51A1  | IDI1     | FDFT1    | DHCR7    | SQLE     | HMGCS1   | NSDHL    | LSS      | MVD      | ⋯        |          |          |          |          |          |          |          |          |          |          | \n",
       "| HALLMARK_MITOTIC_SPINDLE | ARHGEF2  | CLASP1   | KIF11    | KIF23    | ALS2     | ARF6     | MYO9B    | MYH9     | TUBGCP3  | CKAP5    | ⋯        | RHOT2    | SORBS2   | CDC42EP1 | VCL      | CLIP1    | STK38L   | YWHAE    | RAPGEF5  | CEP72    | CSNK1D   | \n",
       "| HALLMARK_WNT_BETA_CATENIN_SIGNALING | MYC      | CTNNB1   | JAG2     | NOTCH1   | DLL1     | AXIN2    | PSEN2    | FZD1     | NOTCH4   | LEF1     | ⋯        |          |          |          |          |          |          |          |          |          |          | \n",
       "| HALLMARK_TGF_BETA_SIGNALING | TGFBR1   | SMAD7    | TGFB1    | SMURF2   | SMURF1   | BMPR2    | SKIL     | SKI      | ACVR1    | PMEPA1   | ⋯        |          |          |          |          |          |          |          |          |          |          | \n",
       "\n",
       "\n"
      ],
      "text/plain": [
       "                                    V3      V4      V5    V6     V7      V8   \n",
       "HALLMARK_TNFA_SIGNALING_VIA_NFKB    JUNB    CXCL2   ATF3  NFKBIA TNFAIP3 PTGS2\n",
       "HALLMARK_HYPOXIA                    PGK1    PDK1    GBE1  PFKL   ALDOA   ENO2 \n",
       "HALLMARK_CHOLESTEROL_HOMEOSTASIS    FDPS    CYP51A1 IDI1  FDFT1  DHCR7   SQLE \n",
       "HALLMARK_MITOTIC_SPINDLE            ARHGEF2 CLASP1  KIF11 KIF23  ALS2    ARF6 \n",
       "HALLMARK_WNT_BETA_CATENIN_SIGNALING MYC     CTNNB1  JAG2  NOTCH1 DLL1    AXIN2\n",
       "HALLMARK_TGF_BETA_SIGNALING         TGFBR1  SMAD7   TGFB1 SMURF2 SMURF1  BMPR2\n",
       "                                    V9     V10   V11     V12    ⋯ V193  V194  \n",
       "HALLMARK_TNFA_SIGNALING_VIA_NFKB    CXCL1  IER3  CD83    CCL20  ⋯ EIF1  BMP2  \n",
       "HALLMARK_HYPOXIA                    PGM1   NDRG1 HK2     ALDOC  ⋯ HDLBP ILVBL \n",
       "HALLMARK_CHOLESTEROL_HOMEOSTASIS    HMGCS1 NSDHL LSS     MVD    ⋯             \n",
       "HALLMARK_MITOTIC_SPINDLE            MYO9B  MYH9  TUBGCP3 CKAP5  ⋯ RHOT2 SORBS2\n",
       "HALLMARK_WNT_BETA_CATENIN_SIGNALING PSEN2  FZD1  NOTCH4  LEF1   ⋯             \n",
       "HALLMARK_TGF_BETA_SIGNALING         SKIL   SKI   ACVR1   PMEPA1 ⋯             \n",
       "                                    V195     V196   V197   V198   V199    \n",
       "HALLMARK_TNFA_SIGNALING_VIA_NFKB    DUSP4    PDLIM5 ICOSLG GFPT2  KLF2    \n",
       "HALLMARK_HYPOXIA                    NCAN     TGM2   ETS1   HOXB9  SELENBP1\n",
       "HALLMARK_CHOLESTEROL_HOMEOSTASIS                                          \n",
       "HALLMARK_MITOTIC_SPINDLE            CDC42EP1 VCL    CLIP1  STK38L YWHAE   \n",
       "HALLMARK_WNT_BETA_CATENIN_SIGNALING                                       \n",
       "HALLMARK_TGF_BETA_SIGNALING                                               \n",
       "                                    V200    V201     V202  \n",
       "HALLMARK_TNFA_SIGNALING_VIA_NFKB    TNC     SERPINB8 MXD1  \n",
       "HALLMARK_HYPOXIA                    FOSL2   SULT2B1  TGFB3 \n",
       "HALLMARK_CHOLESTEROL_HOMEOSTASIS                           \n",
       "HALLMARK_MITOTIC_SPINDLE            RAPGEF5 CEP72    CSNK1D\n",
       "HALLMARK_WNT_BETA_CATENIN_SIGNALING                        \n",
       "HALLMARK_TGF_BETA_SIGNALING                                "
      ]
     },
     "metadata": {},
     "output_type": "display_data"
    }
   ],
   "source": [
    "head(Hallmark_geneSets)"
   ]
  },
  {
   "cell_type": "code",
   "execution_count": 10,
   "metadata": {},
   "outputs": [],
   "source": [
    "Hallmark_geneSets <- convertRowsToList(Hallmark_geneSets)"
   ]
  },
  {
   "cell_type": "markdown",
   "metadata": {},
   "source": [
    "## Run ssGSEA"
   ]
  },
  {
   "cell_type": "code",
   "execution_count": 11,
   "metadata": {},
   "outputs": [
    {
     "name": "stdout",
     "output_type": "stream",
     "text": [
      "Estimating ssGSEA scores for 52 gene sets.\n",
      "  |                                                                      |   0%Using parallel with 4 cores\n",
      "  |======================================================================| 100%\n"
     ]
    }
   ],
   "source": [
    "hsi_NES <- gsva(data_mtx,\n",
    "                Hallmark_geneSets,\n",
    "                method='ssgsea',\n",
    "                min.sz=0,\n",
    "                max.sz=1000,\n",
    "                ssgsea.norm=T)"
   ]
  },
  {
   "cell_type": "code",
   "execution_count": 12,
   "metadata": {},
   "outputs": [],
   "source": [
    "hsi_NES <- data.frame(\"Term\"=rownames(hsi_NES),\n",
    "                      hsi_NES)\n",
    "\n",
    "rownames(hsi_NES) <- NULL"
   ]
  },
  {
   "cell_type": "code",
   "execution_count": 13,
   "metadata": {},
   "outputs": [
    {
     "data": {
      "text/html": [
       "<table>\n",
       "<thead><tr><th scope=col>Term</th><th scope=col>A01</th><th scope=col>A02</th><th scope=col>A03</th><th scope=col>A04</th><th scope=col>A05</th><th scope=col>A06</th><th scope=col>A07</th><th scope=col>A08</th><th scope=col>A09</th><th scope=col>⋯</th><th scope=col>D12</th><th scope=col>E01</th><th scope=col>E02</th><th scope=col>E03</th><th scope=col>E04</th><th scope=col>E05</th><th scope=col>E06</th><th scope=col>E07</th><th scope=col>E08</th><th scope=col>E09</th></tr></thead>\n",
       "<tbody>\n",
       "\t<tr><td>HALLMARK_TNFA_SIGNALING_VIA_NFKB   </td><td>0.0926960                          </td><td>0.1591093                          </td><td>0.2215598                          </td><td>0.2100237                          </td><td>0.09978517                         </td><td>0.1187583                          </td><td>0.1002122                          </td><td>0.2721521                          </td><td>0.1083679                          </td><td>⋯                                  </td><td>0.1666821                          </td><td>0.1807696                          </td><td>0.1820443                          </td><td>0.1234199                          </td><td>0.1676604                          </td><td>0.1779336                          </td><td>0.1751811                          </td><td>0.2492464                          </td><td>0.1636048                          </td><td>0.2836392                          </td></tr>\n",
       "\t<tr><td>HALLMARK_HYPOXIA                   </td><td>0.1860102                          </td><td>0.1961426                          </td><td>0.2148187                          </td><td>0.2371678                          </td><td>0.19277033                         </td><td>0.2044226                          </td><td>0.1652828                          </td><td>0.2789231                          </td><td>0.2016450                          </td><td>⋯                                  </td><td>0.2131122                          </td><td>0.2310517                          </td><td>0.2215236                          </td><td>0.2385993                          </td><td>0.2434623                          </td><td>0.2326888                          </td><td>0.2046919                          </td><td>0.2583826                          </td><td>0.2319074                          </td><td>0.2869075                          </td></tr>\n",
       "\t<tr><td>HALLMARK_CHOLESTEROL_HOMEOSTASIS   </td><td>0.2552083                          </td><td>0.2826803                          </td><td>0.2850831                          </td><td>0.2602984                          </td><td>0.32126744                         </td><td>0.3091210                          </td><td>0.2929426                          </td><td>0.3134857                          </td><td>0.2860836                          </td><td>⋯                                  </td><td>0.3228807                          </td><td>0.2627185                          </td><td>0.2923381                          </td><td>0.3817930                          </td><td>0.2370003                          </td><td>0.2921315                          </td><td>0.2675328                          </td><td>0.3016029                          </td><td>0.2954059                          </td><td>0.3932177                          </td></tr>\n",
       "\t<tr><td>HALLMARK_MITOTIC_SPINDLE           </td><td>0.3052184                          </td><td>0.3177047                          </td><td>0.2938264                          </td><td>0.2553056                          </td><td>0.27867295                         </td><td>0.3025065                          </td><td>0.2982894                          </td><td>0.2652115                          </td><td>0.3381897                          </td><td>⋯                                  </td><td>0.2921907                          </td><td>0.3121702                          </td><td>0.3174071                          </td><td>0.4003975                          </td><td>0.3246699                          </td><td>0.3052702                          </td><td>0.3060010                          </td><td>0.2979996                          </td><td>0.3027196                          </td><td>0.3030475                          </td></tr>\n",
       "\t<tr><td>HALLMARK_WNT_BETA_CATENIN_SIGNALING</td><td>0.2187753                          </td><td>0.2380172                          </td><td>0.2122143                          </td><td>0.2564853                          </td><td>0.25254138                         </td><td>0.2506696                          </td><td>0.2429414                          </td><td>0.1736671                          </td><td>0.2621903                          </td><td>⋯                                  </td><td>0.2452698                          </td><td>0.2896214                          </td><td>0.2339765                          </td><td>0.2963233                          </td><td>0.1771043                          </td><td>0.2331267                          </td><td>0.2239699                          </td><td>0.2270519                          </td><td>0.2614035                          </td><td>0.2358323                          </td></tr>\n",
       "\t<tr><td>HALLMARK_TGF_BETA_SIGNALING        </td><td>0.3193089                          </td><td>0.3908194                          </td><td>0.3235186                          </td><td>0.2752020                          </td><td>0.27484413                         </td><td>0.3213644                          </td><td>0.2681703                          </td><td>0.3914349                          </td><td>0.3035025                          </td><td>⋯                                  </td><td>0.3050877                          </td><td>0.3612737                          </td><td>0.2940621                          </td><td>0.3551027                          </td><td>0.2684762                          </td><td>0.3816920                          </td><td>0.2739358                          </td><td>0.3232454                          </td><td>0.2877121                          </td><td>0.4241100                          </td></tr>\n",
       "</tbody>\n",
       "</table>\n"
      ],
      "text/latex": [
       "\\begin{tabular}{r|lllllllllllllllllllllllllllllllllllllllllllllllllllllllll}\n",
       " Term & A01 & A02 & A03 & A04 & A05 & A06 & A07 & A08 & A09 & ⋯ & D12 & E01 & E02 & E03 & E04 & E05 & E06 & E07 & E08 & E09\\\\\n",
       "\\hline\n",
       "\t HALLMARK\\_TNFA\\_SIGNALING\\_VIA\\_NFKB    & 0.0926960                                   & 0.1591093                                   & 0.2215598                                   & 0.2100237                                   & 0.09978517                                  & 0.1187583                                   & 0.1002122                                   & 0.2721521                                   & 0.1083679                                   & ⋯                                           & 0.1666821                                   & 0.1807696                                   & 0.1820443                                   & 0.1234199                                   & 0.1676604                                   & 0.1779336                                   & 0.1751811                                   & 0.2492464                                   & 0.1636048                                   & 0.2836392                                  \\\\\n",
       "\t HALLMARK\\_HYPOXIA                    & 0.1860102                             & 0.1961426                             & 0.2148187                             & 0.2371678                             & 0.19277033                            & 0.2044226                             & 0.1652828                             & 0.2789231                             & 0.2016450                             & ⋯                                     & 0.2131122                             & 0.2310517                             & 0.2215236                             & 0.2385993                             & 0.2434623                             & 0.2326888                             & 0.2046919                             & 0.2583826                             & 0.2319074                             & 0.2869075                            \\\\\n",
       "\t HALLMARK\\_CHOLESTEROL\\_HOMEOSTASIS    & 0.2552083                               & 0.2826803                               & 0.2850831                               & 0.2602984                               & 0.32126744                              & 0.3091210                               & 0.2929426                               & 0.3134857                               & 0.2860836                               & ⋯                                       & 0.3228807                               & 0.2627185                               & 0.2923381                               & 0.3817930                               & 0.2370003                               & 0.2921315                               & 0.2675328                               & 0.3016029                               & 0.2954059                               & 0.3932177                              \\\\\n",
       "\t HALLMARK\\_MITOTIC\\_SPINDLE            & 0.3052184                               & 0.3177047                               & 0.2938264                               & 0.2553056                               & 0.27867295                              & 0.3025065                               & 0.2982894                               & 0.2652115                               & 0.3381897                               & ⋯                                       & 0.2921907                               & 0.3121702                               & 0.3174071                               & 0.4003975                               & 0.3246699                               & 0.3052702                               & 0.3060010                               & 0.2979996                               & 0.3027196                               & 0.3030475                              \\\\\n",
       "\t HALLMARK\\_WNT\\_BETA\\_CATENIN\\_SIGNALING & 0.2187753                                   & 0.2380172                                   & 0.2122143                                   & 0.2564853                                   & 0.25254138                                  & 0.2506696                                   & 0.2429414                                   & 0.1736671                                   & 0.2621903                                   & ⋯                                           & 0.2452698                                   & 0.2896214                                   & 0.2339765                                   & 0.2963233                                   & 0.1771043                                   & 0.2331267                                   & 0.2239699                                   & 0.2270519                                   & 0.2614035                                   & 0.2358323                                  \\\\\n",
       "\t HALLMARK\\_TGF\\_BETA\\_SIGNALING         & 0.3193089                                 & 0.3908194                                 & 0.3235186                                 & 0.2752020                                 & 0.27484413                                & 0.3213644                                 & 0.2681703                                 & 0.3914349                                 & 0.3035025                                 & ⋯                                         & 0.3050877                                 & 0.3612737                                 & 0.2940621                                 & 0.3551027                                 & 0.2684762                                 & 0.3816920                                 & 0.2739358                                 & 0.3232454                                 & 0.2877121                                 & 0.4241100                                \\\\\n",
       "\\end{tabular}\n"
      ],
      "text/markdown": [
       "\n",
       "Term | A01 | A02 | A03 | A04 | A05 | A06 | A07 | A08 | A09 | ⋯ | D12 | E01 | E02 | E03 | E04 | E05 | E06 | E07 | E08 | E09 | \n",
       "|---|---|---|---|---|---|\n",
       "| HALLMARK_TNFA_SIGNALING_VIA_NFKB    | 0.0926960                           | 0.1591093                           | 0.2215598                           | 0.2100237                           | 0.09978517                          | 0.1187583                           | 0.1002122                           | 0.2721521                           | 0.1083679                           | ⋯                                   | 0.1666821                           | 0.1807696                           | 0.1820443                           | 0.1234199                           | 0.1676604                           | 0.1779336                           | 0.1751811                           | 0.2492464                           | 0.1636048                           | 0.2836392                           | \n",
       "| HALLMARK_HYPOXIA                    | 0.1860102                           | 0.1961426                           | 0.2148187                           | 0.2371678                           | 0.19277033                          | 0.2044226                           | 0.1652828                           | 0.2789231                           | 0.2016450                           | ⋯                                   | 0.2131122                           | 0.2310517                           | 0.2215236                           | 0.2385993                           | 0.2434623                           | 0.2326888                           | 0.2046919                           | 0.2583826                           | 0.2319074                           | 0.2869075                           | \n",
       "| HALLMARK_CHOLESTEROL_HOMEOSTASIS    | 0.2552083                           | 0.2826803                           | 0.2850831                           | 0.2602984                           | 0.32126744                          | 0.3091210                           | 0.2929426                           | 0.3134857                           | 0.2860836                           | ⋯                                   | 0.3228807                           | 0.2627185                           | 0.2923381                           | 0.3817930                           | 0.2370003                           | 0.2921315                           | 0.2675328                           | 0.3016029                           | 0.2954059                           | 0.3932177                           | \n",
       "| HALLMARK_MITOTIC_SPINDLE            | 0.3052184                           | 0.3177047                           | 0.2938264                           | 0.2553056                           | 0.27867295                          | 0.3025065                           | 0.2982894                           | 0.2652115                           | 0.3381897                           | ⋯                                   | 0.2921907                           | 0.3121702                           | 0.3174071                           | 0.4003975                           | 0.3246699                           | 0.3052702                           | 0.3060010                           | 0.2979996                           | 0.3027196                           | 0.3030475                           | \n",
       "| HALLMARK_WNT_BETA_CATENIN_SIGNALING | 0.2187753                           | 0.2380172                           | 0.2122143                           | 0.2564853                           | 0.25254138                          | 0.2506696                           | 0.2429414                           | 0.1736671                           | 0.2621903                           | ⋯                                   | 0.2452698                           | 0.2896214                           | 0.2339765                           | 0.2963233                           | 0.1771043                           | 0.2331267                           | 0.2239699                           | 0.2270519                           | 0.2614035                           | 0.2358323                           | \n",
       "| HALLMARK_TGF_BETA_SIGNALING         | 0.3193089                           | 0.3908194                           | 0.3235186                           | 0.2752020                           | 0.27484413                          | 0.3213644                           | 0.2681703                           | 0.3914349                           | 0.3035025                           | ⋯                                   | 0.3050877                           | 0.3612737                           | 0.2940621                           | 0.3551027                           | 0.2684762                           | 0.3816920                           | 0.2739358                           | 0.3232454                           | 0.2877121                           | 0.4241100                           | \n",
       "\n",
       "\n"
      ],
      "text/plain": [
       "  Term                                A01       A02       A03       A04      \n",
       "1 HALLMARK_TNFA_SIGNALING_VIA_NFKB    0.0926960 0.1591093 0.2215598 0.2100237\n",
       "2 HALLMARK_HYPOXIA                    0.1860102 0.1961426 0.2148187 0.2371678\n",
       "3 HALLMARK_CHOLESTEROL_HOMEOSTASIS    0.2552083 0.2826803 0.2850831 0.2602984\n",
       "4 HALLMARK_MITOTIC_SPINDLE            0.3052184 0.3177047 0.2938264 0.2553056\n",
       "5 HALLMARK_WNT_BETA_CATENIN_SIGNALING 0.2187753 0.2380172 0.2122143 0.2564853\n",
       "6 HALLMARK_TGF_BETA_SIGNALING         0.3193089 0.3908194 0.3235186 0.2752020\n",
       "  A05        A06       A07       A08       A09       ⋯ D12       E01      \n",
       "1 0.09978517 0.1187583 0.1002122 0.2721521 0.1083679 ⋯ 0.1666821 0.1807696\n",
       "2 0.19277033 0.2044226 0.1652828 0.2789231 0.2016450 ⋯ 0.2131122 0.2310517\n",
       "3 0.32126744 0.3091210 0.2929426 0.3134857 0.2860836 ⋯ 0.3228807 0.2627185\n",
       "4 0.27867295 0.3025065 0.2982894 0.2652115 0.3381897 ⋯ 0.2921907 0.3121702\n",
       "5 0.25254138 0.2506696 0.2429414 0.1736671 0.2621903 ⋯ 0.2452698 0.2896214\n",
       "6 0.27484413 0.3213644 0.2681703 0.3914349 0.3035025 ⋯ 0.3050877 0.3612737\n",
       "  E02       E03       E04       E05       E06       E07       E08      \n",
       "1 0.1820443 0.1234199 0.1676604 0.1779336 0.1751811 0.2492464 0.1636048\n",
       "2 0.2215236 0.2385993 0.2434623 0.2326888 0.2046919 0.2583826 0.2319074\n",
       "3 0.2923381 0.3817930 0.2370003 0.2921315 0.2675328 0.3016029 0.2954059\n",
       "4 0.3174071 0.4003975 0.3246699 0.3052702 0.3060010 0.2979996 0.3027196\n",
       "5 0.2339765 0.2963233 0.1771043 0.2331267 0.2239699 0.2270519 0.2614035\n",
       "6 0.2940621 0.3551027 0.2684762 0.3816920 0.2739358 0.3232454 0.2877121\n",
       "  E09      \n",
       "1 0.2836392\n",
       "2 0.2869075\n",
       "3 0.3932177\n",
       "4 0.3030475\n",
       "5 0.2358323\n",
       "6 0.4241100"
      ]
     },
     "metadata": {},
     "output_type": "display_data"
    }
   ],
   "source": [
    "head(hsi_NES)"
   ]
  },
  {
   "cell_type": "code",
   "execution_count": 14,
   "metadata": {},
   "outputs": [],
   "source": [
    "write.table(hsi_NES,\n",
    "            file='../1.Data/HallmarksStromaImmune_NACT_NES.txt',\n",
    "            sep='\\t',\n",
    "            row.names=F,\n",
    "            col.names=T)"
   ]
  },
  {
   "cell_type": "markdown",
   "metadata": {},
   "source": [
    "# End script"
   ]
  }
 ],
 "metadata": {
  "kernelspec": {
   "display_name": "R",
   "language": "R",
   "name": "ir"
  },
  "language_info": {
   "codemirror_mode": "r",
   "file_extension": ".r",
   "mimetype": "text/x-r-source",
   "name": "R",
   "pygments_lexer": "r",
   "version": "3.5.0"
  }
 },
 "nbformat": 4,
 "nbformat_minor": 2
}

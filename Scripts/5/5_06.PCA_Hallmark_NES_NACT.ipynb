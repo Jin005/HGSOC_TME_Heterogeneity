{
 "cells": [
  {
   "cell_type": "markdown",
   "metadata": {},
   "source": [
    "# Perform PCA of NACT samples hallmark NES"
   ]
  },
  {
   "cell_type": "markdown",
   "metadata": {},
   "source": [
    "Script related to figure 5c\n",
    "\n",
    "Aim:\n",
    "- See how Hallmark NES cluster across patients"
   ]
  },
  {
   "cell_type": "markdown",
   "metadata": {},
   "source": [
    "## Import packages"
   ]
  },
  {
   "cell_type": "code",
   "execution_count": 1,
   "metadata": {},
   "outputs": [],
   "source": [
    "import numpy as np\n",
    "import pandas as pd\n",
    "import seaborn as sns\n",
    "import matplotlib.pyplot as plt\n",
    "from sklearn.decomposition import PCA"
   ]
  },
  {
   "cell_type": "code",
   "execution_count": 2,
   "metadata": {},
   "outputs": [],
   "source": [
    "home='~/Documents/PhD/Software/Scripts/OVCT/1.REBUTTAL/0.Figures/5' # home"
   ]
  },
  {
   "cell_type": "markdown",
   "metadata": {},
   "source": [
    "## Get sample labels"
   ]
  },
  {
   "cell_type": "markdown",
   "metadata": {},
   "source": [
    "### Load file"
   ]
  },
  {
   "cell_type": "code",
   "execution_count": 3,
   "metadata": {},
   "outputs": [],
   "source": [
    "file_keys = home+'/1.Data/NACT_SampleLabels.txt'\n",
    "\n",
    "sample_labels = pd.read_csv(file_keys,\n",
    "                            sep='\\t',\n",
    "                            index_col='Well')"
   ]
  },
  {
   "cell_type": "code",
   "execution_count": 4,
   "metadata": {},
   "outputs": [
    {
     "data": {
      "text/html": [
       "<div>\n",
       "<style scoped>\n",
       "    .dataframe tbody tr th:only-of-type {\n",
       "        vertical-align: middle;\n",
       "    }\n",
       "\n",
       "    .dataframe tbody tr th {\n",
       "        vertical-align: top;\n",
       "    }\n",
       "\n",
       "    .dataframe thead th {\n",
       "        text-align: right;\n",
       "    }\n",
       "</style>\n",
       "<table border=\"1\" class=\"dataframe\">\n",
       "  <thead>\n",
       "    <tr style=\"text-align: right;\">\n",
       "      <th></th>\n",
       "      <th>Name</th>\n",
       "      <th>Case_mRNA</th>\n",
       "      <th>NACT</th>\n",
       "      <th>Site</th>\n",
       "      <th>Bounds</th>\n",
       "    </tr>\n",
       "    <tr>\n",
       "      <th>Well</th>\n",
       "      <th></th>\n",
       "      <th></th>\n",
       "      <th></th>\n",
       "      <th></th>\n",
       "      <th></th>\n",
       "    </tr>\n",
       "  </thead>\n",
       "  <tbody>\n",
       "    <tr>\n",
       "      <th>A01</th>\n",
       "      <td>A01_3368A_Liver</td>\n",
       "      <td>3368</td>\n",
       "      <td>Untreated</td>\n",
       "      <td>other</td>\n",
       "      <td>in</td>\n",
       "    </tr>\n",
       "    <tr>\n",
       "      <th>A02</th>\n",
       "      <td>A02_3368B_Liver</td>\n",
       "      <td>3368</td>\n",
       "      <td>Treated</td>\n",
       "      <td>other</td>\n",
       "      <td>out</td>\n",
       "    </tr>\n",
       "    <tr>\n",
       "      <th>A03</th>\n",
       "      <td>A03_0371A_R_diaphragm</td>\n",
       "      <td>371</td>\n",
       "      <td>Untreated</td>\n",
       "      <td>other</td>\n",
       "      <td>out</td>\n",
       "    </tr>\n",
       "    <tr>\n",
       "      <th>A04</th>\n",
       "      <td>A04_0371B_R_diaphragm</td>\n",
       "      <td>371</td>\n",
       "      <td>Treated</td>\n",
       "      <td>other</td>\n",
       "      <td>out</td>\n",
       "    </tr>\n",
       "    <tr>\n",
       "      <th>A05</th>\n",
       "      <td>A05_9717A_R_ovary</td>\n",
       "      <td>9717</td>\n",
       "      <td>Untreated</td>\n",
       "      <td>ovary</td>\n",
       "      <td>in</td>\n",
       "    </tr>\n",
       "  </tbody>\n",
       "</table>\n",
       "</div>"
      ],
      "text/plain": [
       "                       Name  Case_mRNA       NACT   Site Bounds\n",
       "Well                                                           \n",
       "A01         A01_3368A_Liver       3368  Untreated  other     in\n",
       "A02         A02_3368B_Liver       3368    Treated  other    out\n",
       "A03   A03_0371A_R_diaphragm        371  Untreated  other    out\n",
       "A04   A04_0371B_R_diaphragm        371    Treated  other    out\n",
       "A05       A05_9717A_R_ovary       9717  Untreated  ovary     in"
      ]
     },
     "execution_count": 4,
     "metadata": {},
     "output_type": "execute_result"
    }
   ],
   "source": [
    "sample_labels.head()"
   ]
  },
  {
   "cell_type": "markdown",
   "metadata": {},
   "source": [
    "### Define sample colours"
   ]
  },
  {
   "cell_type": "code",
   "execution_count": 5,
   "metadata": {},
   "outputs": [],
   "source": [
    "case_mrna = list(set(sample_labels['Case_mRNA']))\n",
    "\n",
    "colours = sns.color_palette(\"husl\", len(case_mrna)).as_hex()\n",
    "\n",
    "sample_labels['Colour'] = sample_labels['Case_mRNA'].replace(case_mrna, colours)"
   ]
  },
  {
   "cell_type": "markdown",
   "metadata": {},
   "source": [
    "### Define sample markers"
   ]
  },
  {
   "cell_type": "code",
   "execution_count": 6,
   "metadata": {},
   "outputs": [],
   "source": [
    "sites = ['ovary','omentum','other']\n",
    "markers = ['o','^','s']\n",
    "\n",
    "sample_labels['Site_marker'] = sample_labels['Site'].replace(sites,markers)"
   ]
  },
  {
   "cell_type": "code",
   "execution_count": 7,
   "metadata": {},
   "outputs": [
    {
     "data": {
      "text/html": [
       "<div>\n",
       "<style scoped>\n",
       "    .dataframe tbody tr th:only-of-type {\n",
       "        vertical-align: middle;\n",
       "    }\n",
       "\n",
       "    .dataframe tbody tr th {\n",
       "        vertical-align: top;\n",
       "    }\n",
       "\n",
       "    .dataframe thead th {\n",
       "        text-align: right;\n",
       "    }\n",
       "</style>\n",
       "<table border=\"1\" class=\"dataframe\">\n",
       "  <thead>\n",
       "    <tr style=\"text-align: right;\">\n",
       "      <th></th>\n",
       "      <th>Name</th>\n",
       "      <th>Case_mRNA</th>\n",
       "      <th>NACT</th>\n",
       "      <th>Site</th>\n",
       "      <th>Bounds</th>\n",
       "      <th>Colour</th>\n",
       "      <th>Site_marker</th>\n",
       "    </tr>\n",
       "    <tr>\n",
       "      <th>Well</th>\n",
       "      <th></th>\n",
       "      <th></th>\n",
       "      <th></th>\n",
       "      <th></th>\n",
       "      <th></th>\n",
       "      <th></th>\n",
       "      <th></th>\n",
       "    </tr>\n",
       "  </thead>\n",
       "  <tbody>\n",
       "    <tr>\n",
       "      <th>A01</th>\n",
       "      <td>A01_3368A_Liver</td>\n",
       "      <td>3368</td>\n",
       "      <td>Untreated</td>\n",
       "      <td>other</td>\n",
       "      <td>in</td>\n",
       "      <td>#62ae31</td>\n",
       "      <td>s</td>\n",
       "    </tr>\n",
       "    <tr>\n",
       "      <th>A02</th>\n",
       "      <td>A02_3368B_Liver</td>\n",
       "      <td>3368</td>\n",
       "      <td>Treated</td>\n",
       "      <td>other</td>\n",
       "      <td>out</td>\n",
       "      <td>#62ae31</td>\n",
       "      <td>s</td>\n",
       "    </tr>\n",
       "    <tr>\n",
       "      <th>A03</th>\n",
       "      <td>A03_0371A_R_diaphragm</td>\n",
       "      <td>371</td>\n",
       "      <td>Untreated</td>\n",
       "      <td>other</td>\n",
       "      <td>out</td>\n",
       "      <td>#f45deb</td>\n",
       "      <td>s</td>\n",
       "    </tr>\n",
       "    <tr>\n",
       "      <th>A04</th>\n",
       "      <td>A04_0371B_R_diaphragm</td>\n",
       "      <td>371</td>\n",
       "      <td>Treated</td>\n",
       "      <td>other</td>\n",
       "      <td>out</td>\n",
       "      <td>#f45deb</td>\n",
       "      <td>s</td>\n",
       "    </tr>\n",
       "    <tr>\n",
       "      <th>A05</th>\n",
       "      <td>A05_9717A_R_ovary</td>\n",
       "      <td>9717</td>\n",
       "      <td>Untreated</td>\n",
       "      <td>ovary</td>\n",
       "      <td>in</td>\n",
       "      <td>#f564d1</td>\n",
       "      <td>o</td>\n",
       "    </tr>\n",
       "  </tbody>\n",
       "</table>\n",
       "</div>"
      ],
      "text/plain": [
       "                       Name  Case_mRNA       NACT   Site Bounds   Colour  \\\n",
       "Well                                                                       \n",
       "A01         A01_3368A_Liver       3368  Untreated  other     in  #62ae31   \n",
       "A02         A02_3368B_Liver       3368    Treated  other    out  #62ae31   \n",
       "A03   A03_0371A_R_diaphragm        371  Untreated  other    out  #f45deb   \n",
       "A04   A04_0371B_R_diaphragm        371    Treated  other    out  #f45deb   \n",
       "A05       A05_9717A_R_ovary       9717  Untreated  ovary     in  #f564d1   \n",
       "\n",
       "     Site_marker  \n",
       "Well              \n",
       "A01            s  \n",
       "A02            s  \n",
       "A03            s  \n",
       "A04            s  \n",
       "A05            o  "
      ]
     },
     "execution_count": 7,
     "metadata": {},
     "output_type": "execute_result"
    }
   ],
   "source": [
    "sample_labels.head()"
   ]
  },
  {
   "cell_type": "markdown",
   "metadata": {},
   "source": [
    "## Load ssGSEA results"
   ]
  },
  {
   "cell_type": "code",
   "execution_count": 8,
   "metadata": {},
   "outputs": [],
   "source": [
    "file_nes = home+'/1.Data/HallmarksStromaImmune_NACT_NES.txt'\n",
    "\n",
    "data_nes = pd.read_csv(file_nes,\n",
    "                       sep='\\t')\n",
    "\n",
    "data_nes.set_index('Term',\n",
    "                   inplace=True)"
   ]
  },
  {
   "cell_type": "code",
   "execution_count": 9,
   "metadata": {},
   "outputs": [
    {
     "data": {
      "text/html": [
       "<div>\n",
       "<style scoped>\n",
       "    .dataframe tbody tr th:only-of-type {\n",
       "        vertical-align: middle;\n",
       "    }\n",
       "\n",
       "    .dataframe tbody tr th {\n",
       "        vertical-align: top;\n",
       "    }\n",
       "\n",
       "    .dataframe thead th {\n",
       "        text-align: right;\n",
       "    }\n",
       "</style>\n",
       "<table border=\"1\" class=\"dataframe\">\n",
       "  <thead>\n",
       "    <tr style=\"text-align: right;\">\n",
       "      <th></th>\n",
       "      <th>A01</th>\n",
       "      <th>A02</th>\n",
       "      <th>A03</th>\n",
       "      <th>A04</th>\n",
       "      <th>A05</th>\n",
       "      <th>A06</th>\n",
       "      <th>A07</th>\n",
       "      <th>A08</th>\n",
       "      <th>A09</th>\n",
       "      <th>A10</th>\n",
       "      <th>...</th>\n",
       "      <th>D12</th>\n",
       "      <th>E01</th>\n",
       "      <th>E02</th>\n",
       "      <th>E03</th>\n",
       "      <th>E04</th>\n",
       "      <th>E05</th>\n",
       "      <th>E06</th>\n",
       "      <th>E07</th>\n",
       "      <th>E08</th>\n",
       "      <th>E09</th>\n",
       "    </tr>\n",
       "    <tr>\n",
       "      <th>Term</th>\n",
       "      <th></th>\n",
       "      <th></th>\n",
       "      <th></th>\n",
       "      <th></th>\n",
       "      <th></th>\n",
       "      <th></th>\n",
       "      <th></th>\n",
       "      <th></th>\n",
       "      <th></th>\n",
       "      <th></th>\n",
       "      <th></th>\n",
       "      <th></th>\n",
       "      <th></th>\n",
       "      <th></th>\n",
       "      <th></th>\n",
       "      <th></th>\n",
       "      <th></th>\n",
       "      <th></th>\n",
       "      <th></th>\n",
       "      <th></th>\n",
       "      <th></th>\n",
       "    </tr>\n",
       "  </thead>\n",
       "  <tbody>\n",
       "    <tr>\n",
       "      <th>HALLMARK_TNFA_SIGNALING_VIA_NFKB</th>\n",
       "      <td>0.092696</td>\n",
       "      <td>0.159109</td>\n",
       "      <td>0.221560</td>\n",
       "      <td>0.210024</td>\n",
       "      <td>0.099785</td>\n",
       "      <td>0.118758</td>\n",
       "      <td>0.100212</td>\n",
       "      <td>0.272152</td>\n",
       "      <td>0.108368</td>\n",
       "      <td>0.099014</td>\n",
       "      <td>...</td>\n",
       "      <td>0.166682</td>\n",
       "      <td>0.180770</td>\n",
       "      <td>0.182044</td>\n",
       "      <td>0.123420</td>\n",
       "      <td>0.167660</td>\n",
       "      <td>0.177934</td>\n",
       "      <td>0.175181</td>\n",
       "      <td>0.249246</td>\n",
       "      <td>0.163605</td>\n",
       "      <td>0.283639</td>\n",
       "    </tr>\n",
       "    <tr>\n",
       "      <th>HALLMARK_HYPOXIA</th>\n",
       "      <td>0.186010</td>\n",
       "      <td>0.196143</td>\n",
       "      <td>0.214819</td>\n",
       "      <td>0.237168</td>\n",
       "      <td>0.192770</td>\n",
       "      <td>0.204423</td>\n",
       "      <td>0.165283</td>\n",
       "      <td>0.278923</td>\n",
       "      <td>0.201645</td>\n",
       "      <td>0.195268</td>\n",
       "      <td>...</td>\n",
       "      <td>0.213112</td>\n",
       "      <td>0.231052</td>\n",
       "      <td>0.221524</td>\n",
       "      <td>0.238599</td>\n",
       "      <td>0.243462</td>\n",
       "      <td>0.232689</td>\n",
       "      <td>0.204692</td>\n",
       "      <td>0.258383</td>\n",
       "      <td>0.231907</td>\n",
       "      <td>0.286908</td>\n",
       "    </tr>\n",
       "    <tr>\n",
       "      <th>HALLMARK_CHOLESTEROL_HOMEOSTASIS</th>\n",
       "      <td>0.255208</td>\n",
       "      <td>0.282680</td>\n",
       "      <td>0.285083</td>\n",
       "      <td>0.260298</td>\n",
       "      <td>0.321267</td>\n",
       "      <td>0.309121</td>\n",
       "      <td>0.292943</td>\n",
       "      <td>0.313486</td>\n",
       "      <td>0.286084</td>\n",
       "      <td>0.277111</td>\n",
       "      <td>...</td>\n",
       "      <td>0.322881</td>\n",
       "      <td>0.262719</td>\n",
       "      <td>0.292338</td>\n",
       "      <td>0.381793</td>\n",
       "      <td>0.237000</td>\n",
       "      <td>0.292132</td>\n",
       "      <td>0.267533</td>\n",
       "      <td>0.301603</td>\n",
       "      <td>0.295406</td>\n",
       "      <td>0.393218</td>\n",
       "    </tr>\n",
       "    <tr>\n",
       "      <th>HALLMARK_MITOTIC_SPINDLE</th>\n",
       "      <td>0.305218</td>\n",
       "      <td>0.317705</td>\n",
       "      <td>0.293826</td>\n",
       "      <td>0.255306</td>\n",
       "      <td>0.278673</td>\n",
       "      <td>0.302507</td>\n",
       "      <td>0.298289</td>\n",
       "      <td>0.265211</td>\n",
       "      <td>0.338190</td>\n",
       "      <td>0.302091</td>\n",
       "      <td>...</td>\n",
       "      <td>0.292191</td>\n",
       "      <td>0.312170</td>\n",
       "      <td>0.317407</td>\n",
       "      <td>0.400398</td>\n",
       "      <td>0.324670</td>\n",
       "      <td>0.305270</td>\n",
       "      <td>0.306001</td>\n",
       "      <td>0.298000</td>\n",
       "      <td>0.302720</td>\n",
       "      <td>0.303047</td>\n",
       "    </tr>\n",
       "    <tr>\n",
       "      <th>HALLMARK_WNT_BETA_CATENIN_SIGNALING</th>\n",
       "      <td>0.218775</td>\n",
       "      <td>0.238017</td>\n",
       "      <td>0.212214</td>\n",
       "      <td>0.256485</td>\n",
       "      <td>0.252541</td>\n",
       "      <td>0.250670</td>\n",
       "      <td>0.242941</td>\n",
       "      <td>0.173667</td>\n",
       "      <td>0.262190</td>\n",
       "      <td>0.294071</td>\n",
       "      <td>...</td>\n",
       "      <td>0.245270</td>\n",
       "      <td>0.289621</td>\n",
       "      <td>0.233977</td>\n",
       "      <td>0.296323</td>\n",
       "      <td>0.177104</td>\n",
       "      <td>0.233127</td>\n",
       "      <td>0.223970</td>\n",
       "      <td>0.227052</td>\n",
       "      <td>0.261404</td>\n",
       "      <td>0.235832</td>\n",
       "    </tr>\n",
       "  </tbody>\n",
       "</table>\n",
       "<p>5 rows × 56 columns</p>\n",
       "</div>"
      ],
      "text/plain": [
       "                                          A01       A02       A03       A04  \\\n",
       "Term                                                                          \n",
       "HALLMARK_TNFA_SIGNALING_VIA_NFKB     0.092696  0.159109  0.221560  0.210024   \n",
       "HALLMARK_HYPOXIA                     0.186010  0.196143  0.214819  0.237168   \n",
       "HALLMARK_CHOLESTEROL_HOMEOSTASIS     0.255208  0.282680  0.285083  0.260298   \n",
       "HALLMARK_MITOTIC_SPINDLE             0.305218  0.317705  0.293826  0.255306   \n",
       "HALLMARK_WNT_BETA_CATENIN_SIGNALING  0.218775  0.238017  0.212214  0.256485   \n",
       "\n",
       "                                          A05       A06       A07       A08  \\\n",
       "Term                                                                          \n",
       "HALLMARK_TNFA_SIGNALING_VIA_NFKB     0.099785  0.118758  0.100212  0.272152   \n",
       "HALLMARK_HYPOXIA                     0.192770  0.204423  0.165283  0.278923   \n",
       "HALLMARK_CHOLESTEROL_HOMEOSTASIS     0.321267  0.309121  0.292943  0.313486   \n",
       "HALLMARK_MITOTIC_SPINDLE             0.278673  0.302507  0.298289  0.265211   \n",
       "HALLMARK_WNT_BETA_CATENIN_SIGNALING  0.252541  0.250670  0.242941  0.173667   \n",
       "\n",
       "                                          A09       A10  ...       D12  \\\n",
       "Term                                                     ...             \n",
       "HALLMARK_TNFA_SIGNALING_VIA_NFKB     0.108368  0.099014  ...  0.166682   \n",
       "HALLMARK_HYPOXIA                     0.201645  0.195268  ...  0.213112   \n",
       "HALLMARK_CHOLESTEROL_HOMEOSTASIS     0.286084  0.277111  ...  0.322881   \n",
       "HALLMARK_MITOTIC_SPINDLE             0.338190  0.302091  ...  0.292191   \n",
       "HALLMARK_WNT_BETA_CATENIN_SIGNALING  0.262190  0.294071  ...  0.245270   \n",
       "\n",
       "                                          E01       E02       E03       E04  \\\n",
       "Term                                                                          \n",
       "HALLMARK_TNFA_SIGNALING_VIA_NFKB     0.180770  0.182044  0.123420  0.167660   \n",
       "HALLMARK_HYPOXIA                     0.231052  0.221524  0.238599  0.243462   \n",
       "HALLMARK_CHOLESTEROL_HOMEOSTASIS     0.262719  0.292338  0.381793  0.237000   \n",
       "HALLMARK_MITOTIC_SPINDLE             0.312170  0.317407  0.400398  0.324670   \n",
       "HALLMARK_WNT_BETA_CATENIN_SIGNALING  0.289621  0.233977  0.296323  0.177104   \n",
       "\n",
       "                                          E05       E06       E07       E08  \\\n",
       "Term                                                                          \n",
       "HALLMARK_TNFA_SIGNALING_VIA_NFKB     0.177934  0.175181  0.249246  0.163605   \n",
       "HALLMARK_HYPOXIA                     0.232689  0.204692  0.258383  0.231907   \n",
       "HALLMARK_CHOLESTEROL_HOMEOSTASIS     0.292132  0.267533  0.301603  0.295406   \n",
       "HALLMARK_MITOTIC_SPINDLE             0.305270  0.306001  0.298000  0.302720   \n",
       "HALLMARK_WNT_BETA_CATENIN_SIGNALING  0.233127  0.223970  0.227052  0.261404   \n",
       "\n",
       "                                          E09  \n",
       "Term                                           \n",
       "HALLMARK_TNFA_SIGNALING_VIA_NFKB     0.283639  \n",
       "HALLMARK_HYPOXIA                     0.286908  \n",
       "HALLMARK_CHOLESTEROL_HOMEOSTASIS     0.393218  \n",
       "HALLMARK_MITOTIC_SPINDLE             0.303047  \n",
       "HALLMARK_WNT_BETA_CATENIN_SIGNALING  0.235832  \n",
       "\n",
       "[5 rows x 56 columns]"
      ]
     },
     "execution_count": 9,
     "metadata": {},
     "output_type": "execute_result"
    }
   ],
   "source": [
    "data_nes.head()"
   ]
  },
  {
   "cell_type": "markdown",
   "metadata": {},
   "source": [
    "### Check empty cells"
   ]
  },
  {
   "cell_type": "code",
   "execution_count": 10,
   "metadata": {},
   "outputs": [
    {
     "data": {
      "text/plain": [
       "{0}"
      ]
     },
     "execution_count": 10,
     "metadata": {},
     "output_type": "execute_result"
    }
   ],
   "source": [
    "set(data_nes.isnull().sum())"
   ]
  },
  {
   "cell_type": "markdown",
   "metadata": {},
   "source": [
    "## Load mRNA tumour cellularity data"
   ]
  },
  {
   "cell_type": "code",
   "execution_count": 11,
   "metadata": {},
   "outputs": [
    {
     "data": {
      "text/html": [
       "<div>\n",
       "<style scoped>\n",
       "    .dataframe tbody tr th:only-of-type {\n",
       "        vertical-align: middle;\n",
       "    }\n",
       "\n",
       "    .dataframe tbody tr th {\n",
       "        vertical-align: top;\n",
       "    }\n",
       "\n",
       "    .dataframe thead th {\n",
       "        text-align: right;\n",
       "    }\n",
       "</style>\n",
       "<table border=\"1\" class=\"dataframe\">\n",
       "  <thead>\n",
       "    <tr style=\"text-align: right;\">\n",
       "      <th></th>\n",
       "      <th>A01</th>\n",
       "      <th>A02</th>\n",
       "      <th>A03</th>\n",
       "      <th>A04</th>\n",
       "      <th>A05</th>\n",
       "      <th>A06</th>\n",
       "      <th>A07</th>\n",
       "      <th>A08</th>\n",
       "      <th>A09</th>\n",
       "      <th>A10</th>\n",
       "      <th>...</th>\n",
       "      <th>D12</th>\n",
       "      <th>E01</th>\n",
       "      <th>E02</th>\n",
       "      <th>E03</th>\n",
       "      <th>E04</th>\n",
       "      <th>E05</th>\n",
       "      <th>E06</th>\n",
       "      <th>E07</th>\n",
       "      <th>E08</th>\n",
       "      <th>E09</th>\n",
       "    </tr>\n",
       "    <tr>\n",
       "      <th>NAME</th>\n",
       "      <th></th>\n",
       "      <th></th>\n",
       "      <th></th>\n",
       "      <th></th>\n",
       "      <th></th>\n",
       "      <th></th>\n",
       "      <th></th>\n",
       "      <th></th>\n",
       "      <th></th>\n",
       "      <th></th>\n",
       "      <th></th>\n",
       "      <th></th>\n",
       "      <th></th>\n",
       "      <th></th>\n",
       "      <th></th>\n",
       "      <th></th>\n",
       "      <th></th>\n",
       "      <th></th>\n",
       "      <th></th>\n",
       "      <th></th>\n",
       "      <th></th>\n",
       "    </tr>\n",
       "  </thead>\n",
       "  <tbody>\n",
       "    <tr>\n",
       "      <th>StromalScore</th>\n",
       "      <td>150.243978</td>\n",
       "      <td>100.962227</td>\n",
       "      <td>967.051900</td>\n",
       "      <td>808.453034</td>\n",
       "      <td>-65.569315</td>\n",
       "      <td>489.893858</td>\n",
       "      <td>490.720381</td>\n",
       "      <td>1061.377025</td>\n",
       "      <td>235.450362</td>\n",
       "      <td>418.150347</td>\n",
       "      <td>...</td>\n",
       "      <td>263.744096</td>\n",
       "      <td>464.939728</td>\n",
       "      <td>802.734452</td>\n",
       "      <td>153.081049</td>\n",
       "      <td>1103.804616</td>\n",
       "      <td>579.702569</td>\n",
       "      <td>788.616732</td>\n",
       "      <td>1237.456125</td>\n",
       "      <td>887.344608</td>\n",
       "      <td>501.153545</td>\n",
       "    </tr>\n",
       "    <tr>\n",
       "      <th>ImmuneScore</th>\n",
       "      <td>176.145317</td>\n",
       "      <td>526.978700</td>\n",
       "      <td>1297.193578</td>\n",
       "      <td>1203.727348</td>\n",
       "      <td>131.468582</td>\n",
       "      <td>650.323221</td>\n",
       "      <td>407.055460</td>\n",
       "      <td>1082.029608</td>\n",
       "      <td>88.028614</td>\n",
       "      <td>282.209677</td>\n",
       "      <td>...</td>\n",
       "      <td>481.526245</td>\n",
       "      <td>516.592649</td>\n",
       "      <td>582.005013</td>\n",
       "      <td>29.396052</td>\n",
       "      <td>908.321033</td>\n",
       "      <td>258.334588</td>\n",
       "      <td>849.462145</td>\n",
       "      <td>1496.053219</td>\n",
       "      <td>969.848566</td>\n",
       "      <td>621.394231</td>\n",
       "    </tr>\n",
       "    <tr>\n",
       "      <th>ESTIMATEScore</th>\n",
       "      <td>326.389295</td>\n",
       "      <td>627.940928</td>\n",
       "      <td>2264.245478</td>\n",
       "      <td>2012.180381</td>\n",
       "      <td>65.899267</td>\n",
       "      <td>1140.217080</td>\n",
       "      <td>897.775841</td>\n",
       "      <td>2143.406633</td>\n",
       "      <td>323.478976</td>\n",
       "      <td>700.360025</td>\n",
       "      <td>...</td>\n",
       "      <td>745.270341</td>\n",
       "      <td>981.532377</td>\n",
       "      <td>1384.739465</td>\n",
       "      <td>182.477100</td>\n",
       "      <td>2012.125649</td>\n",
       "      <td>838.037157</td>\n",
       "      <td>1638.078877</td>\n",
       "      <td>2733.509343</td>\n",
       "      <td>1857.193174</td>\n",
       "      <td>1122.547776</td>\n",
       "    </tr>\n",
       "    <tr>\n",
       "      <th>TumorPurity</th>\n",
       "      <td>0.794327</td>\n",
       "      <td>0.766668</td>\n",
       "      <td>0.591924</td>\n",
       "      <td>0.621334</td>\n",
       "      <td>0.816969</td>\n",
       "      <td>0.716267</td>\n",
       "      <td>0.740642</td>\n",
       "      <td>0.606127</td>\n",
       "      <td>0.794586</td>\n",
       "      <td>0.759799</td>\n",
       "      <td>...</td>\n",
       "      <td>0.755497</td>\n",
       "      <td>0.732326</td>\n",
       "      <td>0.690764</td>\n",
       "      <td>0.806982</td>\n",
       "      <td>0.621341</td>\n",
       "      <td>0.746506</td>\n",
       "      <td>0.663403</td>\n",
       "      <td>0.535046</td>\n",
       "      <td>0.638998</td>\n",
       "      <td>0.718075</td>\n",
       "    </tr>\n",
       "  </tbody>\n",
       "</table>\n",
       "<p>4 rows × 56 columns</p>\n",
       "</div>"
      ],
      "text/plain": [
       "                      A01         A02          A03          A04         A05  \\\n",
       "NAME                                                                          \n",
       "StromalScore   150.243978  100.962227   967.051900   808.453034  -65.569315   \n",
       "ImmuneScore    176.145317  526.978700  1297.193578  1203.727348  131.468582   \n",
       "ESTIMATEScore  326.389295  627.940928  2264.245478  2012.180381   65.899267   \n",
       "TumorPurity      0.794327    0.766668     0.591924     0.621334    0.816969   \n",
       "\n",
       "                       A06         A07          A08         A09         A10  \\\n",
       "NAME                                                                          \n",
       "StromalScore    489.893858  490.720381  1061.377025  235.450362  418.150347   \n",
       "ImmuneScore     650.323221  407.055460  1082.029608   88.028614  282.209677   \n",
       "ESTIMATEScore  1140.217080  897.775841  2143.406633  323.478976  700.360025   \n",
       "TumorPurity       0.716267    0.740642     0.606127    0.794586    0.759799   \n",
       "\n",
       "               ...         D12         E01          E02         E03  \\\n",
       "NAME           ...                                                    \n",
       "StromalScore   ...  263.744096  464.939728   802.734452  153.081049   \n",
       "ImmuneScore    ...  481.526245  516.592649   582.005013   29.396052   \n",
       "ESTIMATEScore  ...  745.270341  981.532377  1384.739465  182.477100   \n",
       "TumorPurity    ...    0.755497    0.732326     0.690764    0.806982   \n",
       "\n",
       "                       E04         E05          E06          E07          E08  \\\n",
       "NAME                                                                            \n",
       "StromalScore   1103.804616  579.702569   788.616732  1237.456125   887.344608   \n",
       "ImmuneScore     908.321033  258.334588   849.462145  1496.053219   969.848566   \n",
       "ESTIMATEScore  2012.125649  838.037157  1638.078877  2733.509343  1857.193174   \n",
       "TumorPurity       0.621341    0.746506     0.663403     0.535046     0.638998   \n",
       "\n",
       "                       E09  \n",
       "NAME                        \n",
       "StromalScore    501.153545  \n",
       "ImmuneScore     621.394231  \n",
       "ESTIMATEScore  1122.547776  \n",
       "TumorPurity       0.718075  \n",
       "\n",
       "[4 rows x 56 columns]"
      ]
     },
     "execution_count": 11,
     "metadata": {},
     "output_type": "execute_result"
    }
   ],
   "source": [
    "mRNA_tumcell_file = home+'/1.Data/NACT_log2exp_loess_norm_filtered_ESTIMATE.txt'\n",
    "\n",
    "mRNA_tumcell = pd.read_csv(mRNA_tumcell_file,\n",
    "                           skiprows=2,\n",
    "                           sep='\\t',\n",
    "                           index_col='NAME')\n",
    "\n",
    "del(mRNA_tumcell['Description'])\n",
    "\n",
    "mRNA_tumcell.head()"
   ]
  },
  {
   "cell_type": "markdown",
   "metadata": {},
   "source": [
    "### Add mRNA tumour cellularity to NES dataframe"
   ]
  },
  {
   "cell_type": "code",
   "execution_count": 12,
   "metadata": {},
   "outputs": [],
   "source": [
    "data_nes_t = data_nes.T"
   ]
  },
  {
   "cell_type": "markdown",
   "metadata": {},
   "source": [
    "#### Multiply tumour cellularity times a small number to reduce it's impact in the PCA"
   ]
  },
  {
   "cell_type": "code",
   "execution_count": 13,
   "metadata": {},
   "outputs": [],
   "source": [
    "data_nes_t['TumourCellularity_mRNA'] = mRNA_tumcell.loc['TumorPurity'] * 0.0001"
   ]
  },
  {
   "cell_type": "code",
   "execution_count": 14,
   "metadata": {},
   "outputs": [],
   "source": [
    "data_nes = data_nes_t.T"
   ]
  },
  {
   "cell_type": "code",
   "execution_count": 15,
   "metadata": {},
   "outputs": [
    {
     "data": {
      "text/html": [
       "<div>\n",
       "<style scoped>\n",
       "    .dataframe tbody tr th:only-of-type {\n",
       "        vertical-align: middle;\n",
       "    }\n",
       "\n",
       "    .dataframe tbody tr th {\n",
       "        vertical-align: top;\n",
       "    }\n",
       "\n",
       "    .dataframe thead th {\n",
       "        text-align: right;\n",
       "    }\n",
       "</style>\n",
       "<table border=\"1\" class=\"dataframe\">\n",
       "  <thead>\n",
       "    <tr style=\"text-align: right;\">\n",
       "      <th></th>\n",
       "      <th>A01</th>\n",
       "      <th>A02</th>\n",
       "      <th>A03</th>\n",
       "      <th>A04</th>\n",
       "      <th>A05</th>\n",
       "      <th>A06</th>\n",
       "      <th>A07</th>\n",
       "      <th>A08</th>\n",
       "      <th>A09</th>\n",
       "      <th>A10</th>\n",
       "      <th>...</th>\n",
       "      <th>D12</th>\n",
       "      <th>E01</th>\n",
       "      <th>E02</th>\n",
       "      <th>E03</th>\n",
       "      <th>E04</th>\n",
       "      <th>E05</th>\n",
       "      <th>E06</th>\n",
       "      <th>E07</th>\n",
       "      <th>E08</th>\n",
       "      <th>E09</th>\n",
       "    </tr>\n",
       "    <tr>\n",
       "      <th>Term</th>\n",
       "      <th></th>\n",
       "      <th></th>\n",
       "      <th></th>\n",
       "      <th></th>\n",
       "      <th></th>\n",
       "      <th></th>\n",
       "      <th></th>\n",
       "      <th></th>\n",
       "      <th></th>\n",
       "      <th></th>\n",
       "      <th></th>\n",
       "      <th></th>\n",
       "      <th></th>\n",
       "      <th></th>\n",
       "      <th></th>\n",
       "      <th></th>\n",
       "      <th></th>\n",
       "      <th></th>\n",
       "      <th></th>\n",
       "      <th></th>\n",
       "      <th></th>\n",
       "    </tr>\n",
       "  </thead>\n",
       "  <tbody>\n",
       "    <tr>\n",
       "      <th>HALLMARK_KRAS_SIGNALING_DN</th>\n",
       "      <td>-0.111366</td>\n",
       "      <td>-0.116319</td>\n",
       "      <td>-0.122007</td>\n",
       "      <td>-0.096597</td>\n",
       "      <td>-0.106269</td>\n",
       "      <td>-0.118997</td>\n",
       "      <td>-0.102549</td>\n",
       "      <td>-0.109274</td>\n",
       "      <td>-0.136147</td>\n",
       "      <td>-0.115405</td>\n",
       "      <td>...</td>\n",
       "      <td>-0.139325</td>\n",
       "      <td>-0.162815</td>\n",
       "      <td>-0.121599</td>\n",
       "      <td>-0.190920</td>\n",
       "      <td>-0.141080</td>\n",
       "      <td>-0.111751</td>\n",
       "      <td>-0.141831</td>\n",
       "      <td>-0.126286</td>\n",
       "      <td>-0.127925</td>\n",
       "      <td>-0.167178</td>\n",
       "    </tr>\n",
       "    <tr>\n",
       "      <th>HALLMARK_PANCREAS_BETA_CELLS</th>\n",
       "      <td>-0.146457</td>\n",
       "      <td>-0.171530</td>\n",
       "      <td>-0.229520</td>\n",
       "      <td>-0.139607</td>\n",
       "      <td>-0.137008</td>\n",
       "      <td>-0.151976</td>\n",
       "      <td>-0.239809</td>\n",
       "      <td>-0.162335</td>\n",
       "      <td>-0.164499</td>\n",
       "      <td>-0.187457</td>\n",
       "      <td>...</td>\n",
       "      <td>-0.228200</td>\n",
       "      <td>-0.152731</td>\n",
       "      <td>-0.218332</td>\n",
       "      <td>-0.196034</td>\n",
       "      <td>-0.157134</td>\n",
       "      <td>-0.126800</td>\n",
       "      <td>-0.179381</td>\n",
       "      <td>-0.216867</td>\n",
       "      <td>-0.193094</td>\n",
       "      <td>-0.209325</td>\n",
       "    </tr>\n",
       "    <tr>\n",
       "      <th>StromalSignature</th>\n",
       "      <td>0.068301</td>\n",
       "      <td>0.070667</td>\n",
       "      <td>0.269651</td>\n",
       "      <td>0.224186</td>\n",
       "      <td>0.023423</td>\n",
       "      <td>0.157401</td>\n",
       "      <td>0.155407</td>\n",
       "      <td>0.292664</td>\n",
       "      <td>0.095977</td>\n",
       "      <td>0.135368</td>\n",
       "      <td>...</td>\n",
       "      <td>0.104112</td>\n",
       "      <td>0.155909</td>\n",
       "      <td>0.228005</td>\n",
       "      <td>0.088713</td>\n",
       "      <td>0.296492</td>\n",
       "      <td>0.180196</td>\n",
       "      <td>0.221126</td>\n",
       "      <td>0.332099</td>\n",
       "      <td>0.245865</td>\n",
       "      <td>0.172484</td>\n",
       "    </tr>\n",
       "    <tr>\n",
       "      <th>ImmuneSignature</th>\n",
       "      <td>0.074691</td>\n",
       "      <td>0.169467</td>\n",
       "      <td>0.345730</td>\n",
       "      <td>0.317359</td>\n",
       "      <td>0.069114</td>\n",
       "      <td>0.197182</td>\n",
       "      <td>0.135779</td>\n",
       "      <td>0.299572</td>\n",
       "      <td>0.063372</td>\n",
       "      <td>0.103880</td>\n",
       "      <td>...</td>\n",
       "      <td>0.153753</td>\n",
       "      <td>0.167914</td>\n",
       "      <td>0.175292</td>\n",
       "      <td>0.058984</td>\n",
       "      <td>0.256096</td>\n",
       "      <td>0.108475</td>\n",
       "      <td>0.235833</td>\n",
       "      <td>0.393539</td>\n",
       "      <td>0.265829</td>\n",
       "      <td>0.201392</td>\n",
       "    </tr>\n",
       "    <tr>\n",
       "      <th>TumourCellularity_mRNA</th>\n",
       "      <td>0.000079</td>\n",
       "      <td>0.000077</td>\n",
       "      <td>0.000059</td>\n",
       "      <td>0.000062</td>\n",
       "      <td>0.000082</td>\n",
       "      <td>0.000072</td>\n",
       "      <td>0.000074</td>\n",
       "      <td>0.000061</td>\n",
       "      <td>0.000079</td>\n",
       "      <td>0.000076</td>\n",
       "      <td>...</td>\n",
       "      <td>0.000076</td>\n",
       "      <td>0.000073</td>\n",
       "      <td>0.000069</td>\n",
       "      <td>0.000081</td>\n",
       "      <td>0.000062</td>\n",
       "      <td>0.000075</td>\n",
       "      <td>0.000066</td>\n",
       "      <td>0.000054</td>\n",
       "      <td>0.000064</td>\n",
       "      <td>0.000072</td>\n",
       "    </tr>\n",
       "  </tbody>\n",
       "</table>\n",
       "<p>5 rows × 56 columns</p>\n",
       "</div>"
      ],
      "text/plain": [
       "                                   A01       A02       A03       A04  \\\n",
       "Term                                                                   \n",
       "HALLMARK_KRAS_SIGNALING_DN   -0.111366 -0.116319 -0.122007 -0.096597   \n",
       "HALLMARK_PANCREAS_BETA_CELLS -0.146457 -0.171530 -0.229520 -0.139607   \n",
       "StromalSignature              0.068301  0.070667  0.269651  0.224186   \n",
       "ImmuneSignature               0.074691  0.169467  0.345730  0.317359   \n",
       "TumourCellularity_mRNA        0.000079  0.000077  0.000059  0.000062   \n",
       "\n",
       "                                   A05       A06       A07       A08  \\\n",
       "Term                                                                   \n",
       "HALLMARK_KRAS_SIGNALING_DN   -0.106269 -0.118997 -0.102549 -0.109274   \n",
       "HALLMARK_PANCREAS_BETA_CELLS -0.137008 -0.151976 -0.239809 -0.162335   \n",
       "StromalSignature              0.023423  0.157401  0.155407  0.292664   \n",
       "ImmuneSignature               0.069114  0.197182  0.135779  0.299572   \n",
       "TumourCellularity_mRNA        0.000082  0.000072  0.000074  0.000061   \n",
       "\n",
       "                                   A09       A10  ...       D12       E01  \\\n",
       "Term                                              ...                       \n",
       "HALLMARK_KRAS_SIGNALING_DN   -0.136147 -0.115405  ... -0.139325 -0.162815   \n",
       "HALLMARK_PANCREAS_BETA_CELLS -0.164499 -0.187457  ... -0.228200 -0.152731   \n",
       "StromalSignature              0.095977  0.135368  ...  0.104112  0.155909   \n",
       "ImmuneSignature               0.063372  0.103880  ...  0.153753  0.167914   \n",
       "TumourCellularity_mRNA        0.000079  0.000076  ...  0.000076  0.000073   \n",
       "\n",
       "                                   E02       E03       E04       E05  \\\n",
       "Term                                                                   \n",
       "HALLMARK_KRAS_SIGNALING_DN   -0.121599 -0.190920 -0.141080 -0.111751   \n",
       "HALLMARK_PANCREAS_BETA_CELLS -0.218332 -0.196034 -0.157134 -0.126800   \n",
       "StromalSignature              0.228005  0.088713  0.296492  0.180196   \n",
       "ImmuneSignature               0.175292  0.058984  0.256096  0.108475   \n",
       "TumourCellularity_mRNA        0.000069  0.000081  0.000062  0.000075   \n",
       "\n",
       "                                   E06       E07       E08       E09  \n",
       "Term                                                                  \n",
       "HALLMARK_KRAS_SIGNALING_DN   -0.141831 -0.126286 -0.127925 -0.167178  \n",
       "HALLMARK_PANCREAS_BETA_CELLS -0.179381 -0.216867 -0.193094 -0.209325  \n",
       "StromalSignature              0.221126  0.332099  0.245865  0.172484  \n",
       "ImmuneSignature               0.235833  0.393539  0.265829  0.201392  \n",
       "TumourCellularity_mRNA        0.000066  0.000054  0.000064  0.000072  \n",
       "\n",
       "[5 rows x 56 columns]"
      ]
     },
     "execution_count": 15,
     "metadata": {},
     "output_type": "execute_result"
    }
   ],
   "source": [
    "data_nes.tail()"
   ]
  },
  {
   "cell_type": "markdown",
   "metadata": {},
   "source": [
    "### Visulase NES"
   ]
  },
  {
   "cell_type": "markdown",
   "metadata": {},
   "source": [
    "#### Samples"
   ]
  },
  {
   "cell_type": "code",
   "execution_count": 16,
   "metadata": {},
   "outputs": [
    {
     "data": {
      "text/plain": [
       "<matplotlib.axes._subplots.AxesSubplot at 0x10c71b860>"
      ]
     },
     "execution_count": 16,
     "metadata": {},
     "output_type": "execute_result"
    },
    {
     "data": {
      "image/png": "[encoded data removed]",
      "text/plain": [
       "<Figure size 288x360 with 1 Axes>"
      ]
     },
     "metadata": {},
     "output_type": "display_data"
    }
   ],
   "source": [
    "data_nes.plot(kind='box',\n",
    "              vert=False,\n",
    "              figsize=(4,5))"
   ]
  },
  {
   "cell_type": "markdown",
   "metadata": {},
   "source": [
    "#### Variables"
   ]
  },
  {
   "cell_type": "code",
   "execution_count": 17,
   "metadata": {},
   "outputs": [
    {
     "data": {
      "text/plain": [
       "<matplotlib.axes._subplots.AxesSubplot at 0x10c745710>"
      ]
     },
     "execution_count": 17,
     "metadata": {},
     "output_type": "execute_result"
    },
    {
     "data": {
      "image/png": "[encoded data removed]",
      "text/plain": [
       "<Figure size 432x576 with 1 Axes>"
      ]
     },
     "metadata": {},
     "output_type": "display_data"
    }
   ],
   "source": [
    "data_nes.transpose().plot(kind='box',\n",
    "                          vert=False,\n",
    "                          figsize=(6,8))"
   ]
  },
  {
   "cell_type": "markdown",
   "metadata": {},
   "source": [
    "## Calculate and plot PCA"
   ]
  },
  {
   "cell_type": "markdown",
   "metadata": {},
   "source": [
    "### Create custom colormaps (a.k.a. cmaps)"
   ]
  },
  {
   "cell_type": "code",
   "execution_count": 18,
   "metadata": {},
   "outputs": [],
   "source": [
    "def make_cmap(colors, position=None, bit=False):\n",
    "    \n",
    "    '''\n",
    "    make_cmap takes a list of tuples which contain RGB values. The RGB\n",
    "    values may either be in 8-bit [0 to 255] (in which bit must be set to\n",
    "    True when called) or arithmetic [0 to 1] (default). make_cmap returns\n",
    "    a cmap with equally spaced colors.\n",
    "    Arrange your tuples so that the first color is the lowest value for the\n",
    "    colorbar and the last is the highest.\n",
    "    position contains values from 0 to 1 to dictate the location of each color.\n",
    "    '''\n",
    "    import matplotlib as mpl\n",
    "    import numpy as np\n",
    "    bit_rgb = np.linspace(0,1,256)\n",
    "    if position == None:\n",
    "        position = np.linspace(0,1,len(colors))\n",
    "    else:\n",
    "        if len(position) != len(colors):\n",
    "            sys.exit(\"position length must be the same as colors\")\n",
    "        elif position[0] != 0 or position[-1] != 1:\n",
    "            sys.exit(\"position must start with 0 and end with 1\")\n",
    "    if bit:\n",
    "        for i in range(len(colors)):\n",
    "            colors[i] = (bit_rgb[colors[i][0]],\n",
    "                         bit_rgb[colors[i][1]],\n",
    "                         bit_rgb[colors[i][2]])\n",
    "    cdict = {'red':[], 'green':[], 'blue':[]}\n",
    "    for pos, color in zip(position, colors):\n",
    "        cdict['red'].append((pos, color[0], color[0]))\n",
    "        cdict['green'].append((pos, color[1], color[1]))\n",
    "        cdict['blue'].append((pos, color[2], color[2]))\n",
    "\n",
    "    cmap = mpl.colors.LinearSegmentedColormap('my_colormap',cdict,256)\n",
    "    \n",
    "    return cmap"
   ]
  },
  {
   "cell_type": "markdown",
   "metadata": {},
   "source": [
    "### Convert hex to rgb colour"
   ]
  },
  {
   "cell_type": "code",
   "execution_count": 19,
   "metadata": {},
   "outputs": [],
   "source": [
    "def hex_to_rgb(value):\n",
    "    \n",
    "    '''Return (red, green, blue) for the color given as #rrggbb.'''\n",
    "    \n",
    "    value = value.lstrip('#')\n",
    "    lv = len(value)\n",
    "    \n",
    "    return tuple(int(value[i:i + lv // 3], 16) for i in range(0, lv, lv // 3))"
   ]
  },
  {
   "cell_type": "markdown",
   "metadata": {},
   "source": [
    "### Define cmaps for patient treatment kernel densities"
   ]
  },
  {
   "cell_type": "code",
   "execution_count": 20,
   "metadata": {},
   "outputs": [],
   "source": [
    "NACT_colours = []\n",
    "for sample in sample_labels.index:\n",
    "    \n",
    "    if sample_labels['NACT'][sample] == 'Untreated':\n",
    "        NACT_colours.append('w')\n",
    "    \n",
    "    elif sample_labels['NACT'][sample] == 'Treated':\n",
    "        NACT_colours.append(sample_labels['Colour'][sample])\n",
    "    \n",
    "    elif np.isnan(NACT_colours['NACT'][sample]):\n",
    "        NACT_colours.append('w')\n",
    "    \n",
    "    else:\n",
    "        raise ValueError()"
   ]
  },
  {
   "cell_type": "code",
   "execution_count": 21,
   "metadata": {},
   "outputs": [],
   "source": [
    "NACT_colours_df = pd.DataFrame({'wells': sample_labels.index,\n",
    "                                'NACT_colour':pd.Series(NACT_colours)})\n",
    "\n",
    "NACT_colours_df.set_index('wells',\n",
    "                          inplace=True)\n",
    "\n",
    "sample_labels['NACT_colour'] = NACT_colours_df"
   ]
  },
  {
   "cell_type": "code",
   "execution_count": 22,
   "metadata": {},
   "outputs": [],
   "source": [
    "white = (255,255,255)\n",
    "\n",
    "reds = make_cmap([white, hex_to_rgb('#e41a1c')], bit=True)\n",
    "blues = make_cmap([white, hex_to_rgb('#377eb8')], bit=True)\n",
    "reds_r = make_cmap([hex_to_rgb('#e41a1c'), white], bit=True)\n",
    "blues_r = make_cmap([hex_to_rgb('#377eb8'), white], bit=True)"
   ]
  },
  {
   "cell_type": "markdown",
   "metadata": {},
   "source": [
    "### Colour-treatment correspondence"
   ]
  },
  {
   "cell_type": "code",
   "execution_count": 23,
   "metadata": {},
   "outputs": [],
   "source": [
    "NACT_colour_d = {'Treated':reds,\n",
    "                 'Untreated':blues}\n",
    "\n",
    "NACT_colour_dr = {'Treated':reds_r,\n",
    "                  'Untreated':blues_r}"
   ]
  },
  {
   "cell_type": "code",
   "execution_count": 24,
   "metadata": {},
   "outputs": [
    {
     "data": {
      "text/html": [
       "<div>\n",
       "<style scoped>\n",
       "    .dataframe tbody tr th:only-of-type {\n",
       "        vertical-align: middle;\n",
       "    }\n",
       "\n",
       "    .dataframe tbody tr th {\n",
       "        vertical-align: top;\n",
       "    }\n",
       "\n",
       "    .dataframe thead th {\n",
       "        text-align: right;\n",
       "    }\n",
       "</style>\n",
       "<table border=\"1\" class=\"dataframe\">\n",
       "  <thead>\n",
       "    <tr style=\"text-align: right;\">\n",
       "      <th></th>\n",
       "      <th>Name</th>\n",
       "      <th>Case_mRNA</th>\n",
       "      <th>NACT</th>\n",
       "      <th>Site</th>\n",
       "      <th>Bounds</th>\n",
       "      <th>Colour</th>\n",
       "      <th>Site_marker</th>\n",
       "      <th>NACT_colour</th>\n",
       "    </tr>\n",
       "    <tr>\n",
       "      <th>Well</th>\n",
       "      <th></th>\n",
       "      <th></th>\n",
       "      <th></th>\n",
       "      <th></th>\n",
       "      <th></th>\n",
       "      <th></th>\n",
       "      <th></th>\n",
       "      <th></th>\n",
       "    </tr>\n",
       "  </thead>\n",
       "  <tbody>\n",
       "    <tr>\n",
       "      <th>A01</th>\n",
       "      <td>A01_3368A_Liver</td>\n",
       "      <td>3368</td>\n",
       "      <td>Untreated</td>\n",
       "      <td>other</td>\n",
       "      <td>in</td>\n",
       "      <td>#62ae31</td>\n",
       "      <td>s</td>\n",
       "      <td>w</td>\n",
       "    </tr>\n",
       "    <tr>\n",
       "      <th>A02</th>\n",
       "      <td>A02_3368B_Liver</td>\n",
       "      <td>3368</td>\n",
       "      <td>Treated</td>\n",
       "      <td>other</td>\n",
       "      <td>out</td>\n",
       "      <td>#62ae31</td>\n",
       "      <td>s</td>\n",
       "      <td>#62ae31</td>\n",
       "    </tr>\n",
       "    <tr>\n",
       "      <th>A03</th>\n",
       "      <td>A03_0371A_R_diaphragm</td>\n",
       "      <td>371</td>\n",
       "      <td>Untreated</td>\n",
       "      <td>other</td>\n",
       "      <td>out</td>\n",
       "      <td>#f45deb</td>\n",
       "      <td>s</td>\n",
       "      <td>w</td>\n",
       "    </tr>\n",
       "    <tr>\n",
       "      <th>A04</th>\n",
       "      <td>A04_0371B_R_diaphragm</td>\n",
       "      <td>371</td>\n",
       "      <td>Treated</td>\n",
       "      <td>other</td>\n",
       "      <td>out</td>\n",
       "      <td>#f45deb</td>\n",
       "      <td>s</td>\n",
       "      <td>#f45deb</td>\n",
       "    </tr>\n",
       "    <tr>\n",
       "      <th>A05</th>\n",
       "      <td>A05_9717A_R_ovary</td>\n",
       "      <td>9717</td>\n",
       "      <td>Untreated</td>\n",
       "      <td>ovary</td>\n",
       "      <td>in</td>\n",
       "      <td>#f564d1</td>\n",
       "      <td>o</td>\n",
       "      <td>w</td>\n",
       "    </tr>\n",
       "  </tbody>\n",
       "</table>\n",
       "</div>"
      ],
      "text/plain": [
       "                       Name  Case_mRNA       NACT   Site Bounds   Colour  \\\n",
       "Well                                                                       \n",
       "A01         A01_3368A_Liver       3368  Untreated  other     in  #62ae31   \n",
       "A02         A02_3368B_Liver       3368    Treated  other    out  #62ae31   \n",
       "A03   A03_0371A_R_diaphragm        371  Untreated  other    out  #f45deb   \n",
       "A04   A04_0371B_R_diaphragm        371    Treated  other    out  #f45deb   \n",
       "A05       A05_9717A_R_ovary       9717  Untreated  ovary     in  #f564d1   \n",
       "\n",
       "     Site_marker NACT_colour  \n",
       "Well                          \n",
       "A01            s           w  \n",
       "A02            s     #62ae31  \n",
       "A03            s           w  \n",
       "A04            s     #f45deb  \n",
       "A05            o           w  "
      ]
     },
     "execution_count": 24,
     "metadata": {},
     "output_type": "execute_result"
    }
   ],
   "source": [
    "sample_labels.head()"
   ]
  },
  {
   "cell_type": "markdown",
   "metadata": {},
   "source": [
    "### Separate matched and unmatched samples"
   ]
  },
  {
   "cell_type": "code",
   "execution_count": 25,
   "metadata": {},
   "outputs": [],
   "source": [
    "matched = [3368,371,9717,8674,2359,564,7765,6965,9347]\n",
    "\n",
    "matched_df = sample_labels[sample_labels['Case_mRNA'].isin(matched)]\n",
    "\n",
    "unmatched_df = sample_labels[~sample_labels['Case_mRNA'].isin(matched)]"
   ]
  },
  {
   "cell_type": "code",
   "execution_count": 26,
   "metadata": {},
   "outputs": [],
   "source": [
    "matched_nes_df = data_nes[matched_df.index]\n",
    "\n",
    "unmatched_nes_df = data_nes[unmatched_df.index]"
   ]
  },
  {
   "cell_type": "markdown",
   "metadata": {},
   "source": [
    "## Calculate matched PCA"
   ]
  },
  {
   "cell_type": "code",
   "execution_count": 27,
   "metadata": {},
   "outputs": [],
   "source": [
    "pca = PCA(n_components=7)"
   ]
  },
  {
   "cell_type": "code",
   "execution_count": 28,
   "metadata": {},
   "outputs": [],
   "source": [
    "pca_nes = pca.fit_transform(matched_nes_df.transpose())"
   ]
  },
  {
   "cell_type": "code",
   "execution_count": 29,
   "metadata": {},
   "outputs": [
    {
     "data": {
      "text/plain": [
       "18"
      ]
     },
     "execution_count": 29,
     "metadata": {},
     "output_type": "execute_result"
    }
   ],
   "source": [
    "len(pca_nes) # check number of data points"
   ]
  },
  {
   "cell_type": "markdown",
   "metadata": {},
   "source": [
    "#### Get PCA loadings"
   ]
  },
  {
   "cell_type": "code",
   "execution_count": 30,
   "metadata": {},
   "outputs": [
    {
     "data": {
      "text/plain": [
       "array([0.52168758, 0.18232385, 0.06376437, 0.04266055, 0.03745434,\n",
       "       0.0276436 , 0.02494436])"
      ]
     },
     "execution_count": 30,
     "metadata": {},
     "output_type": "execute_result"
    }
   ],
   "source": [
    "var_exp = pca.explained_variance_ratio_\n",
    "var_exp"
   ]
  },
  {
   "cell_type": "markdown",
   "metadata": {},
   "source": [
    "### Plot PCA"
   ]
  },
  {
   "cell_type": "code",
   "execution_count": 31,
   "metadata": {},
   "outputs": [],
   "source": [
    "pcx=0\n",
    "pcy=1"
   ]
  },
  {
   "cell_type": "code",
   "execution_count": 33,
   "metadata": {},
   "outputs": [
    {
     "data": {
      "image/png": "[encoded data removed]",
      "text/plain": [
       "<Figure size 360x360 with 1 Axes>"
      ]
     },
     "metadata": {},
     "output_type": "display_data"
    }
   ],
   "source": [
    "fig = plt.figure(figsize=(5, 5))\n",
    "\n",
    "plt.title('t-SNE')\n",
    "\n",
    "d_kde = {}\n",
    "for i in range(len(pca_nes[:, 0])):\n",
    "    \n",
    "    plt.scatter(pca_nes[:, pcx][i],\n",
    "                pca_nes[:, pcy][i],\n",
    "                c=list(sample_labels['NACT_colour'])[i],\n",
    "                edgecolors=list(sample_labels['Colour'])[i],\n",
    "                marker=list(sample_labels['Site_marker'])[i],\n",
    "                zorder=1,\n",
    "                lw=1,\n",
    "                s=50)\n",
    "    \n",
    "    if list(sample_labels['NACT'])[i] not in d_kde:\n",
    "        \n",
    "        d_kde[list(sample_labels['NACT'])[i]] = {'x':[pca_nes[:, pcx][i]],\n",
    "                                                 'y':[pca_nes[:, pcy][i]]}\n",
    "                                                 \n",
    "    else:\n",
    "        \n",
    "        d_kde[list(sample_labels['NACT'])[i]]['x'].append(pca_nes[:, pcx][i])\n",
    "        d_kde[list(sample_labels['NACT'])[i]]['y'].append(pca_nes[:, pcy][i])\n",
    "        \n",
    "for j in d_kde:\n",
    "\n",
    "    sns.kdeplot(np.array(d_kde[j]['x']),\n",
    "                np.array(d_kde[j]['y']),\n",
    "                cmap=NACT_colour_d[j],\n",
    "                n_levels=27,\n",
    "                alpha=.2,\n",
    "                zorder=0,\n",
    "                cut=3)\n",
    "    \n",
    "    sns.kdeplot(np.array(d_kde[j]['x']),\n",
    "                np.array(d_kde[j]['y']),\n",
    "                cmap=NACT_colour_dr[j],\n",
    "                n_levels=1,\n",
    "                alpha=.7,\n",
    "                zorder=0,\n",
    "                cut=3)\n",
    "\n",
    "xlabel = 'PC%i(%i%s)' % (pcx+1,var_exp[pcx]*100,'%')\n",
    "ylabel = 'PC%i(%i%s)' % (pcy+1,var_exp[pcy]*100,'%')\n",
    "\n",
    "plt.xlabel(xlabel)\n",
    "plt.ylabel(ylabel)\n",
    "sns.despine(trim=True)"
   ]
  },
  {
   "cell_type": "markdown",
   "metadata": {},
   "source": [
    "### Save plot"
   ]
  },
  {
   "cell_type": "code",
   "execution_count": 34,
   "metadata": {},
   "outputs": [],
   "source": [
    "file_name = '../2.Plots/5_c_NACT_matched_Hallmarks_PCA_%s_%s.pdf' % (pcx,pcy)\n",
    "\n",
    "fig.savefig(file_name,\n",
    "            bbox='tight')"
   ]
  },
  {
   "cell_type": "markdown",
   "metadata": {},
   "source": [
    "### Plot PCA loadings"
   ]
  },
  {
   "cell_type": "code",
   "execution_count": 35,
   "metadata": {},
   "outputs": [
    {
     "data": {
      "text/plain": [
       "[<matplotlib.lines.Line2D at 0x1a209ae7b8>]"
      ]
     },
     "execution_count": 35,
     "metadata": {},
     "output_type": "execute_result"
    },
    {
     "data": {
      "image/png": "[encoded data removed]",
      "text/plain": [
       "<Figure size 432x288 with 1 Axes>"
      ]
     },
     "metadata": {},
     "output_type": "display_data"
    }
   ],
   "source": [
    "fig = plt.figure()\n",
    "\n",
    "plt.title('PCA loadings')\n",
    "\n",
    "plt.plot(var_exp, 'o', mfc='w', c='k', zorder=2, ms=7)\n",
    "plt.plot(var_exp, '--', c='k', zorder=1)"
   ]
  },
  {
   "cell_type": "markdown",
   "metadata": {},
   "source": [
    "### Save plot"
   ]
  },
  {
   "cell_type": "code",
   "execution_count": 36,
   "metadata": {},
   "outputs": [],
   "source": [
    "file_name = '../2.Plots/s5_c_NACT_matched_Hallmarks_PCA_loadings.pdf'\n",
    "\n",
    "fig.savefig(file_name,\n",
    "            bbox='tight')"
   ]
  },
  {
   "cell_type": "markdown",
   "metadata": {},
   "source": [
    "## Calculate unmatched PCA"
   ]
  },
  {
   "cell_type": "code",
   "execution_count": 37,
   "metadata": {},
   "outputs": [],
   "source": [
    "pca = PCA(n_components=7)"
   ]
  },
  {
   "cell_type": "code",
   "execution_count": 38,
   "metadata": {},
   "outputs": [],
   "source": [
    "pca_nes = pca.fit_transform(unmatched_nes_df.transpose())"
   ]
  },
  {
   "cell_type": "code",
   "execution_count": 39,
   "metadata": {},
   "outputs": [
    {
     "data": {
      "text/plain": [
       "38"
      ]
     },
     "execution_count": 39,
     "metadata": {},
     "output_type": "execute_result"
    }
   ],
   "source": [
    "len(pca_nes) # check number of data points"
   ]
  },
  {
   "cell_type": "markdown",
   "metadata": {},
   "source": [
    "#### Get PCA loadings"
   ]
  },
  {
   "cell_type": "code",
   "execution_count": 40,
   "metadata": {},
   "outputs": [
    {
     "data": {
      "text/plain": [
       "array([0.31899095, 0.21610916, 0.14162667, 0.09714883, 0.03541112,\n",
       "       0.03046341, 0.01964912])"
      ]
     },
     "execution_count": 40,
     "metadata": {},
     "output_type": "execute_result"
    }
   ],
   "source": [
    "var_exp = pca.explained_variance_ratio_\n",
    "var_exp"
   ]
  },
  {
   "cell_type": "markdown",
   "metadata": {},
   "source": [
    "### Plot PCA"
   ]
  },
  {
   "cell_type": "code",
   "execution_count": 41,
   "metadata": {},
   "outputs": [],
   "source": [
    "pcx=0\n",
    "pcy=1"
   ]
  },
  {
   "cell_type": "code",
   "execution_count": 42,
   "metadata": {},
   "outputs": [
    {
     "data": {
      "image/png": "[encoded data removed]",
      "text/plain": [
       "<Figure size 360x360 with 1 Axes>"
      ]
     },
     "metadata": {},
     "output_type": "display_data"
    }
   ],
   "source": [
    "fig = plt.figure(figsize=(5, 5))\n",
    "\n",
    "plt.title('t-SNE')\n",
    "\n",
    "d_kde = {}\n",
    "for i in range(len(pca_nes[:, 0])):\n",
    "    \n",
    "    plt.scatter(pca_nes[:, pcx][i],\n",
    "                pca_nes[:, pcy][i],\n",
    "                c=list(sample_labels['NACT_colour'])[i],\n",
    "                edgecolors=list(sample_labels['Colour'])[i],\n",
    "                marker=list(sample_labels['Site_marker'])[i],\n",
    "                zorder=1,\n",
    "                lw=1,\n",
    "                s=50)\n",
    "    \n",
    "    if list(sample_labels['NACT'])[i] not in d_kde:\n",
    "        \n",
    "        d_kde[list(sample_labels['NACT'])[i]] = {'x':[pca_nes[:, pcx][i]],\n",
    "                                                 'y':[pca_nes[:, pcy][i]]}\n",
    "                                                 \n",
    "    else:\n",
    "        \n",
    "        d_kde[list(sample_labels['NACT'])[i]]['x'].append(pca_nes[:, pcx][i])\n",
    "        d_kde[list(sample_labels['NACT'])[i]]['y'].append(pca_nes[:, pcy][i])\n",
    "        \n",
    "for j in d_kde:\n",
    "\n",
    "    sns.kdeplot(np.array(d_kde[j]['x']),\n",
    "                np.array(d_kde[j]['y']),\n",
    "                cmap=NACT_colour_d[j],\n",
    "                n_levels=27,\n",
    "                alpha=.2,\n",
    "                zorder=0,\n",
    "                cut=3)\n",
    "    \n",
    "    sns.kdeplot(np.array(d_kde[j]['x']),\n",
    "                np.array(d_kde[j]['y']),\n",
    "                cmap=NACT_colour_dr[j],\n",
    "                n_levels=1,\n",
    "                alpha=.7,\n",
    "                zorder=0,\n",
    "                cut=3)\n",
    "\n",
    "xlabel = 'PC%i(%i%s)' % (pcx+1,var_exp[pcx]*100,'%')\n",
    "ylabel = 'PC%i(%i%s)' % (pcy+1,var_exp[pcy]*100,'%')\n",
    "\n",
    "plt.xlabel(xlabel)\n",
    "plt.ylabel(ylabel)\n",
    "sns.despine(trim=True)"
   ]
  },
  {
   "cell_type": "markdown",
   "metadata": {},
   "source": [
    "### Save plot"
   ]
  },
  {
   "cell_type": "code",
   "execution_count": 43,
   "metadata": {},
   "outputs": [],
   "source": [
    "file_name = '../2.Plots/5_c_NACT_unmatched_Hallmarks_PCA_%s_%s.pdf' % (pcx,pcy)\n",
    "\n",
    "fig.savefig(file_name,\n",
    "            bbox='tight')"
   ]
  },
  {
   "cell_type": "markdown",
   "metadata": {},
   "source": [
    "### Plot PCA loadings"
   ]
  },
  {
   "cell_type": "code",
   "execution_count": 44,
   "metadata": {},
   "outputs": [
    {
     "data": {
      "text/plain": [
       "[<matplotlib.lines.Line2D at 0x1a20ad4588>]"
      ]
     },
     "execution_count": 44,
     "metadata": {},
     "output_type": "execute_result"
    },
    {
     "data": {
      "image/png": "[encoded data removed]",
      "text/plain": [
       "<Figure size 432x288 with 1 Axes>"
      ]
     },
     "metadata": {},
     "output_type": "display_data"
    }
   ],
   "source": [
    "fig = plt.figure()\n",
    "\n",
    "plt.title('PCA loadings')\n",
    "\n",
    "plt.plot(var_exp, 'o', mfc='w', c='k', zorder=2, ms=7)\n",
    "plt.plot(var_exp, '--', c='k', zorder=1)"
   ]
  },
  {
   "cell_type": "markdown",
   "metadata": {},
   "source": [
    "### Save plot"
   ]
  },
  {
   "cell_type": "code",
   "execution_count": 45,
   "metadata": {},
   "outputs": [],
   "source": [
    "file_name = '../2.Plots/s5_c_NACT_unmatched_Hallmarks_PCA_loadings.pdf'\n",
    "\n",
    "fig.savefig(file_name,\n",
    "            bbox='tight')"
   ]
  },
  {
   "cell_type": "markdown",
   "metadata": {},
   "source": [
    "# End script"
   ]
  }
 ],
 "metadata": {
  "kernelspec": {
   "display_name": "Python 3",
   "language": "python",
   "name": "python3"
  },
  "language_info": {
   "codemirror_mode": {
    "name": "ipython",
    "version": 3
   },
   "file_extension": ".py",
   "mimetype": "text/x-python",
   "name": "python",
   "nbconvert_exporter": "python",
   "pygments_lexer": "ipython3",
   "version": "3.6.8"
  }
 },
 "nbformat": 4,
 "nbformat_minor": 2
}

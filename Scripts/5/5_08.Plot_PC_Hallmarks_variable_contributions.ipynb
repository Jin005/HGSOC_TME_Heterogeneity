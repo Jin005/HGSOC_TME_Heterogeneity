{
 "cells": [
  {
   "cell_type": "markdown",
   "metadata": {},
   "source": [
    "# Plot PC loadings contributions"
   ]
  },
  {
   "cell_type": "markdown",
   "metadata": {},
   "source": [
    "Script related to figure s5\n",
    "\n",
    "Aim:\n",
    "- Plot Hallmarks NES PCA loadings contributions"
   ]
  },
  {
   "cell_type": "markdown",
   "metadata": {},
   "source": [
    "## Import packages"
   ]
  },
  {
   "cell_type": "code",
   "execution_count": 1,
   "metadata": {},
   "outputs": [],
   "source": [
    "import pandas as pd\n",
    "import seaborn as sns\n",
    "import matplotlib.pyplot as plt\n",
    "from sklearn.decomposition import PCA\n",
    "from pandas.api.types import CategoricalDtype"
   ]
  },
  {
   "cell_type": "code",
   "execution_count": 2,
   "metadata": {},
   "outputs": [],
   "source": [
    "home='~/Documents/PhD/Software/Scripts/OVCT/1.REBUTTAL/0.Figures/5' # home"
   ]
  },
  {
   "cell_type": "markdown",
   "metadata": {},
   "source": [
    "## Get sample labels"
   ]
  },
  {
   "cell_type": "markdown",
   "metadata": {},
   "source": [
    "### Load file"
   ]
  },
  {
   "cell_type": "code",
   "execution_count": 3,
   "metadata": {},
   "outputs": [],
   "source": [
    "file_keys = home+'/1.Data/NACT_SampleLabels.txt'\n",
    "\n",
    "sample_labels = pd.read_csv(file_keys,\n",
    "                            sep='\\t',\n",
    "                            index_col='Well')"
   ]
  },
  {
   "cell_type": "code",
   "execution_count": 4,
   "metadata": {},
   "outputs": [
    {
     "data": {
      "text/html": [
       "<div>\n",
       "<style scoped>\n",
       "    .dataframe tbody tr th:only-of-type {\n",
       "        vertical-align: middle;\n",
       "    }\n",
       "\n",
       "    .dataframe tbody tr th {\n",
       "        vertical-align: top;\n",
       "    }\n",
       "\n",
       "    .dataframe thead th {\n",
       "        text-align: right;\n",
       "    }\n",
       "</style>\n",
       "<table border=\"1\" class=\"dataframe\">\n",
       "  <thead>\n",
       "    <tr style=\"text-align: right;\">\n",
       "      <th></th>\n",
       "      <th>Name</th>\n",
       "      <th>Case_mRNA</th>\n",
       "      <th>NACT</th>\n",
       "      <th>Site</th>\n",
       "      <th>Bounds</th>\n",
       "    </tr>\n",
       "    <tr>\n",
       "      <th>Well</th>\n",
       "      <th></th>\n",
       "      <th></th>\n",
       "      <th></th>\n",
       "      <th></th>\n",
       "      <th></th>\n",
       "    </tr>\n",
       "  </thead>\n",
       "  <tbody>\n",
       "    <tr>\n",
       "      <th>A01</th>\n",
       "      <td>A01_3368A_Liver</td>\n",
       "      <td>3368</td>\n",
       "      <td>Untreated</td>\n",
       "      <td>other</td>\n",
       "      <td>in</td>\n",
       "    </tr>\n",
       "    <tr>\n",
       "      <th>A02</th>\n",
       "      <td>A02_3368B_Liver</td>\n",
       "      <td>3368</td>\n",
       "      <td>Treated</td>\n",
       "      <td>other</td>\n",
       "      <td>out</td>\n",
       "    </tr>\n",
       "    <tr>\n",
       "      <th>A03</th>\n",
       "      <td>A03_0371A_R_diaphragm</td>\n",
       "      <td>371</td>\n",
       "      <td>Untreated</td>\n",
       "      <td>other</td>\n",
       "      <td>out</td>\n",
       "    </tr>\n",
       "    <tr>\n",
       "      <th>A04</th>\n",
       "      <td>A04_0371B_R_diaphragm</td>\n",
       "      <td>371</td>\n",
       "      <td>Treated</td>\n",
       "      <td>other</td>\n",
       "      <td>out</td>\n",
       "    </tr>\n",
       "    <tr>\n",
       "      <th>A05</th>\n",
       "      <td>A05_9717A_R_ovary</td>\n",
       "      <td>9717</td>\n",
       "      <td>Untreated</td>\n",
       "      <td>ovary</td>\n",
       "      <td>in</td>\n",
       "    </tr>\n",
       "  </tbody>\n",
       "</table>\n",
       "</div>"
      ],
      "text/plain": [
       "                       Name  Case_mRNA       NACT   Site Bounds\n",
       "Well                                                           \n",
       "A01         A01_3368A_Liver       3368  Untreated  other     in\n",
       "A02         A02_3368B_Liver       3368    Treated  other    out\n",
       "A03   A03_0371A_R_diaphragm        371  Untreated  other    out\n",
       "A04   A04_0371B_R_diaphragm        371    Treated  other    out\n",
       "A05       A05_9717A_R_ovary       9717  Untreated  ovary     in"
      ]
     },
     "execution_count": 4,
     "metadata": {},
     "output_type": "execute_result"
    }
   ],
   "source": [
    "sample_labels.head()"
   ]
  },
  {
   "cell_type": "markdown",
   "metadata": {},
   "source": [
    "## Load ssGSEA results"
   ]
  },
  {
   "cell_type": "code",
   "execution_count": 5,
   "metadata": {},
   "outputs": [],
   "source": [
    "file_nes = home+'/1.Data/HallmarksStromaImmune_NACT_NES.txt'\n",
    "\n",
    "data_nes = pd.read_csv(file_nes,\n",
    "                       sep='\\t')\n",
    "\n",
    "data_nes.set_index('Term',\n",
    "                   inplace=True)"
   ]
  },
  {
   "cell_type": "code",
   "execution_count": 6,
   "metadata": {},
   "outputs": [
    {
     "data": {
      "text/html": [
       "<div>\n",
       "<style scoped>\n",
       "    .dataframe tbody tr th:only-of-type {\n",
       "        vertical-align: middle;\n",
       "    }\n",
       "\n",
       "    .dataframe tbody tr th {\n",
       "        vertical-align: top;\n",
       "    }\n",
       "\n",
       "    .dataframe thead th {\n",
       "        text-align: right;\n",
       "    }\n",
       "</style>\n",
       "<table border=\"1\" class=\"dataframe\">\n",
       "  <thead>\n",
       "    <tr style=\"text-align: right;\">\n",
       "      <th></th>\n",
       "      <th>A01</th>\n",
       "      <th>A02</th>\n",
       "      <th>A03</th>\n",
       "      <th>A04</th>\n",
       "      <th>A05</th>\n",
       "      <th>A06</th>\n",
       "      <th>A07</th>\n",
       "      <th>A08</th>\n",
       "      <th>A09</th>\n",
       "      <th>A10</th>\n",
       "      <th>...</th>\n",
       "      <th>D12</th>\n",
       "      <th>E01</th>\n",
       "      <th>E02</th>\n",
       "      <th>E03</th>\n",
       "      <th>E04</th>\n",
       "      <th>E05</th>\n",
       "      <th>E06</th>\n",
       "      <th>E07</th>\n",
       "      <th>E08</th>\n",
       "      <th>E09</th>\n",
       "    </tr>\n",
       "    <tr>\n",
       "      <th>Term</th>\n",
       "      <th></th>\n",
       "      <th></th>\n",
       "      <th></th>\n",
       "      <th></th>\n",
       "      <th></th>\n",
       "      <th></th>\n",
       "      <th></th>\n",
       "      <th></th>\n",
       "      <th></th>\n",
       "      <th></th>\n",
       "      <th></th>\n",
       "      <th></th>\n",
       "      <th></th>\n",
       "      <th></th>\n",
       "      <th></th>\n",
       "      <th></th>\n",
       "      <th></th>\n",
       "      <th></th>\n",
       "      <th></th>\n",
       "      <th></th>\n",
       "      <th></th>\n",
       "    </tr>\n",
       "  </thead>\n",
       "  <tbody>\n",
       "    <tr>\n",
       "      <th>HALLMARK_TNFA_SIGNALING_VIA_NFKB</th>\n",
       "      <td>0.092696</td>\n",
       "      <td>0.159109</td>\n",
       "      <td>0.221560</td>\n",
       "      <td>0.210024</td>\n",
       "      <td>0.099785</td>\n",
       "      <td>0.118758</td>\n",
       "      <td>0.100212</td>\n",
       "      <td>0.272152</td>\n",
       "      <td>0.108368</td>\n",
       "      <td>0.099014</td>\n",
       "      <td>...</td>\n",
       "      <td>0.166682</td>\n",
       "      <td>0.180770</td>\n",
       "      <td>0.182044</td>\n",
       "      <td>0.123420</td>\n",
       "      <td>0.167660</td>\n",
       "      <td>0.177934</td>\n",
       "      <td>0.175181</td>\n",
       "      <td>0.249246</td>\n",
       "      <td>0.163605</td>\n",
       "      <td>0.283639</td>\n",
       "    </tr>\n",
       "    <tr>\n",
       "      <th>HALLMARK_HYPOXIA</th>\n",
       "      <td>0.186010</td>\n",
       "      <td>0.196143</td>\n",
       "      <td>0.214819</td>\n",
       "      <td>0.237168</td>\n",
       "      <td>0.192770</td>\n",
       "      <td>0.204423</td>\n",
       "      <td>0.165283</td>\n",
       "      <td>0.278923</td>\n",
       "      <td>0.201645</td>\n",
       "      <td>0.195268</td>\n",
       "      <td>...</td>\n",
       "      <td>0.213112</td>\n",
       "      <td>0.231052</td>\n",
       "      <td>0.221524</td>\n",
       "      <td>0.238599</td>\n",
       "      <td>0.243462</td>\n",
       "      <td>0.232689</td>\n",
       "      <td>0.204692</td>\n",
       "      <td>0.258383</td>\n",
       "      <td>0.231907</td>\n",
       "      <td>0.286908</td>\n",
       "    </tr>\n",
       "    <tr>\n",
       "      <th>HALLMARK_CHOLESTEROL_HOMEOSTASIS</th>\n",
       "      <td>0.255208</td>\n",
       "      <td>0.282680</td>\n",
       "      <td>0.285083</td>\n",
       "      <td>0.260298</td>\n",
       "      <td>0.321267</td>\n",
       "      <td>0.309121</td>\n",
       "      <td>0.292943</td>\n",
       "      <td>0.313486</td>\n",
       "      <td>0.286084</td>\n",
       "      <td>0.277111</td>\n",
       "      <td>...</td>\n",
       "      <td>0.322881</td>\n",
       "      <td>0.262719</td>\n",
       "      <td>0.292338</td>\n",
       "      <td>0.381793</td>\n",
       "      <td>0.237000</td>\n",
       "      <td>0.292132</td>\n",
       "      <td>0.267533</td>\n",
       "      <td>0.301603</td>\n",
       "      <td>0.295406</td>\n",
       "      <td>0.393218</td>\n",
       "    </tr>\n",
       "    <tr>\n",
       "      <th>HALLMARK_MITOTIC_SPINDLE</th>\n",
       "      <td>0.305218</td>\n",
       "      <td>0.317705</td>\n",
       "      <td>0.293826</td>\n",
       "      <td>0.255306</td>\n",
       "      <td>0.278673</td>\n",
       "      <td>0.302507</td>\n",
       "      <td>0.298289</td>\n",
       "      <td>0.265211</td>\n",
       "      <td>0.338190</td>\n",
       "      <td>0.302091</td>\n",
       "      <td>...</td>\n",
       "      <td>0.292191</td>\n",
       "      <td>0.312170</td>\n",
       "      <td>0.317407</td>\n",
       "      <td>0.400398</td>\n",
       "      <td>0.324670</td>\n",
       "      <td>0.305270</td>\n",
       "      <td>0.306001</td>\n",
       "      <td>0.298000</td>\n",
       "      <td>0.302720</td>\n",
       "      <td>0.303047</td>\n",
       "    </tr>\n",
       "    <tr>\n",
       "      <th>HALLMARK_WNT_BETA_CATENIN_SIGNALING</th>\n",
       "      <td>0.218775</td>\n",
       "      <td>0.238017</td>\n",
       "      <td>0.212214</td>\n",
       "      <td>0.256485</td>\n",
       "      <td>0.252541</td>\n",
       "      <td>0.250670</td>\n",
       "      <td>0.242941</td>\n",
       "      <td>0.173667</td>\n",
       "      <td>0.262190</td>\n",
       "      <td>0.294071</td>\n",
       "      <td>...</td>\n",
       "      <td>0.245270</td>\n",
       "      <td>0.289621</td>\n",
       "      <td>0.233977</td>\n",
       "      <td>0.296323</td>\n",
       "      <td>0.177104</td>\n",
       "      <td>0.233127</td>\n",
       "      <td>0.223970</td>\n",
       "      <td>0.227052</td>\n",
       "      <td>0.261404</td>\n",
       "      <td>0.235832</td>\n",
       "    </tr>\n",
       "  </tbody>\n",
       "</table>\n",
       "<p>5 rows × 56 columns</p>\n",
       "</div>"
      ],
      "text/plain": [
       "                                          A01       A02       A03       A04  \\\n",
       "Term                                                                          \n",
       "HALLMARK_TNFA_SIGNALING_VIA_NFKB     0.092696  0.159109  0.221560  0.210024   \n",
       "HALLMARK_HYPOXIA                     0.186010  0.196143  0.214819  0.237168   \n",
       "HALLMARK_CHOLESTEROL_HOMEOSTASIS     0.255208  0.282680  0.285083  0.260298   \n",
       "HALLMARK_MITOTIC_SPINDLE             0.305218  0.317705  0.293826  0.255306   \n",
       "HALLMARK_WNT_BETA_CATENIN_SIGNALING  0.218775  0.238017  0.212214  0.256485   \n",
       "\n",
       "                                          A05       A06       A07       A08  \\\n",
       "Term                                                                          \n",
       "HALLMARK_TNFA_SIGNALING_VIA_NFKB     0.099785  0.118758  0.100212  0.272152   \n",
       "HALLMARK_HYPOXIA                     0.192770  0.204423  0.165283  0.278923   \n",
       "HALLMARK_CHOLESTEROL_HOMEOSTASIS     0.321267  0.309121  0.292943  0.313486   \n",
       "HALLMARK_MITOTIC_SPINDLE             0.278673  0.302507  0.298289  0.265211   \n",
       "HALLMARK_WNT_BETA_CATENIN_SIGNALING  0.252541  0.250670  0.242941  0.173667   \n",
       "\n",
       "                                          A09       A10  ...       D12  \\\n",
       "Term                                                     ...             \n",
       "HALLMARK_TNFA_SIGNALING_VIA_NFKB     0.108368  0.099014  ...  0.166682   \n",
       "HALLMARK_HYPOXIA                     0.201645  0.195268  ...  0.213112   \n",
       "HALLMARK_CHOLESTEROL_HOMEOSTASIS     0.286084  0.277111  ...  0.322881   \n",
       "HALLMARK_MITOTIC_SPINDLE             0.338190  0.302091  ...  0.292191   \n",
       "HALLMARK_WNT_BETA_CATENIN_SIGNALING  0.262190  0.294071  ...  0.245270   \n",
       "\n",
       "                                          E01       E02       E03       E04  \\\n",
       "Term                                                                          \n",
       "HALLMARK_TNFA_SIGNALING_VIA_NFKB     0.180770  0.182044  0.123420  0.167660   \n",
       "HALLMARK_HYPOXIA                     0.231052  0.221524  0.238599  0.243462   \n",
       "HALLMARK_CHOLESTEROL_HOMEOSTASIS     0.262719  0.292338  0.381793  0.237000   \n",
       "HALLMARK_MITOTIC_SPINDLE             0.312170  0.317407  0.400398  0.324670   \n",
       "HALLMARK_WNT_BETA_CATENIN_SIGNALING  0.289621  0.233977  0.296323  0.177104   \n",
       "\n",
       "                                          E05       E06       E07       E08  \\\n",
       "Term                                                                          \n",
       "HALLMARK_TNFA_SIGNALING_VIA_NFKB     0.177934  0.175181  0.249246  0.163605   \n",
       "HALLMARK_HYPOXIA                     0.232689  0.204692  0.258383  0.231907   \n",
       "HALLMARK_CHOLESTEROL_HOMEOSTASIS     0.292132  0.267533  0.301603  0.295406   \n",
       "HALLMARK_MITOTIC_SPINDLE             0.305270  0.306001  0.298000  0.302720   \n",
       "HALLMARK_WNT_BETA_CATENIN_SIGNALING  0.233127  0.223970  0.227052  0.261404   \n",
       "\n",
       "                                          E09  \n",
       "Term                                           \n",
       "HALLMARK_TNFA_SIGNALING_VIA_NFKB     0.283639  \n",
       "HALLMARK_HYPOXIA                     0.286908  \n",
       "HALLMARK_CHOLESTEROL_HOMEOSTASIS     0.393218  \n",
       "HALLMARK_MITOTIC_SPINDLE             0.303047  \n",
       "HALLMARK_WNT_BETA_CATENIN_SIGNALING  0.235832  \n",
       "\n",
       "[5 rows x 56 columns]"
      ]
     },
     "execution_count": 6,
     "metadata": {},
     "output_type": "execute_result"
    }
   ],
   "source": [
    "data_nes.head()"
   ]
  },
  {
   "cell_type": "markdown",
   "metadata": {},
   "source": [
    "### Check empty cells"
   ]
  },
  {
   "cell_type": "code",
   "execution_count": 7,
   "metadata": {},
   "outputs": [
    {
     "data": {
      "text/plain": [
       "{0}"
      ]
     },
     "execution_count": 7,
     "metadata": {},
     "output_type": "execute_result"
    }
   ],
   "source": [
    "set(data_nes.isnull().sum())"
   ]
  },
  {
   "cell_type": "markdown",
   "metadata": {},
   "source": [
    "## Load mRNA tumour cellularity data"
   ]
  },
  {
   "cell_type": "code",
   "execution_count": 8,
   "metadata": {},
   "outputs": [],
   "source": [
    "mRNA_tumcell_file = home+'/1.Data/NACT_log2exp_loess_norm_filtered_ESTIMATE.txt'\n",
    "\n",
    "mRNA_tumcell = pd.read_csv(mRNA_tumcell_file,\n",
    "                           skiprows=2,\n",
    "                           sep='\\t',\n",
    "                           index_col='NAME')\n",
    "\n",
    "del(mRNA_tumcell['Description'])"
   ]
  },
  {
   "cell_type": "code",
   "execution_count": 9,
   "metadata": {},
   "outputs": [
    {
     "data": {
      "text/html": [
       "<div>\n",
       "<style scoped>\n",
       "    .dataframe tbody tr th:only-of-type {\n",
       "        vertical-align: middle;\n",
       "    }\n",
       "\n",
       "    .dataframe tbody tr th {\n",
       "        vertical-align: top;\n",
       "    }\n",
       "\n",
       "    .dataframe thead th {\n",
       "        text-align: right;\n",
       "    }\n",
       "</style>\n",
       "<table border=\"1\" class=\"dataframe\">\n",
       "  <thead>\n",
       "    <tr style=\"text-align: right;\">\n",
       "      <th></th>\n",
       "      <th>A01</th>\n",
       "      <th>A02</th>\n",
       "      <th>A03</th>\n",
       "      <th>A04</th>\n",
       "      <th>A05</th>\n",
       "      <th>A06</th>\n",
       "      <th>A07</th>\n",
       "      <th>A08</th>\n",
       "      <th>A09</th>\n",
       "      <th>A10</th>\n",
       "      <th>...</th>\n",
       "      <th>D12</th>\n",
       "      <th>E01</th>\n",
       "      <th>E02</th>\n",
       "      <th>E03</th>\n",
       "      <th>E04</th>\n",
       "      <th>E05</th>\n",
       "      <th>E06</th>\n",
       "      <th>E07</th>\n",
       "      <th>E08</th>\n",
       "      <th>E09</th>\n",
       "    </tr>\n",
       "    <tr>\n",
       "      <th>NAME</th>\n",
       "      <th></th>\n",
       "      <th></th>\n",
       "      <th></th>\n",
       "      <th></th>\n",
       "      <th></th>\n",
       "      <th></th>\n",
       "      <th></th>\n",
       "      <th></th>\n",
       "      <th></th>\n",
       "      <th></th>\n",
       "      <th></th>\n",
       "      <th></th>\n",
       "      <th></th>\n",
       "      <th></th>\n",
       "      <th></th>\n",
       "      <th></th>\n",
       "      <th></th>\n",
       "      <th></th>\n",
       "      <th></th>\n",
       "      <th></th>\n",
       "      <th></th>\n",
       "    </tr>\n",
       "  </thead>\n",
       "  <tbody>\n",
       "    <tr>\n",
       "      <th>StromalScore</th>\n",
       "      <td>150.243978</td>\n",
       "      <td>100.962227</td>\n",
       "      <td>967.051900</td>\n",
       "      <td>808.453034</td>\n",
       "      <td>-65.569315</td>\n",
       "      <td>489.893858</td>\n",
       "      <td>490.720381</td>\n",
       "      <td>1061.377025</td>\n",
       "      <td>235.450362</td>\n",
       "      <td>418.150347</td>\n",
       "      <td>...</td>\n",
       "      <td>263.744096</td>\n",
       "      <td>464.939728</td>\n",
       "      <td>802.734452</td>\n",
       "      <td>153.081049</td>\n",
       "      <td>1103.804616</td>\n",
       "      <td>579.702569</td>\n",
       "      <td>788.616732</td>\n",
       "      <td>1237.456125</td>\n",
       "      <td>887.344608</td>\n",
       "      <td>501.153545</td>\n",
       "    </tr>\n",
       "    <tr>\n",
       "      <th>ImmuneScore</th>\n",
       "      <td>176.145317</td>\n",
       "      <td>526.978700</td>\n",
       "      <td>1297.193578</td>\n",
       "      <td>1203.727348</td>\n",
       "      <td>131.468582</td>\n",
       "      <td>650.323221</td>\n",
       "      <td>407.055460</td>\n",
       "      <td>1082.029608</td>\n",
       "      <td>88.028614</td>\n",
       "      <td>282.209677</td>\n",
       "      <td>...</td>\n",
       "      <td>481.526245</td>\n",
       "      <td>516.592649</td>\n",
       "      <td>582.005013</td>\n",
       "      <td>29.396052</td>\n",
       "      <td>908.321033</td>\n",
       "      <td>258.334588</td>\n",
       "      <td>849.462145</td>\n",
       "      <td>1496.053219</td>\n",
       "      <td>969.848566</td>\n",
       "      <td>621.394231</td>\n",
       "    </tr>\n",
       "    <tr>\n",
       "      <th>ESTIMATEScore</th>\n",
       "      <td>326.389295</td>\n",
       "      <td>627.940928</td>\n",
       "      <td>2264.245478</td>\n",
       "      <td>2012.180381</td>\n",
       "      <td>65.899267</td>\n",
       "      <td>1140.217080</td>\n",
       "      <td>897.775841</td>\n",
       "      <td>2143.406633</td>\n",
       "      <td>323.478976</td>\n",
       "      <td>700.360025</td>\n",
       "      <td>...</td>\n",
       "      <td>745.270341</td>\n",
       "      <td>981.532377</td>\n",
       "      <td>1384.739465</td>\n",
       "      <td>182.477100</td>\n",
       "      <td>2012.125649</td>\n",
       "      <td>838.037157</td>\n",
       "      <td>1638.078877</td>\n",
       "      <td>2733.509343</td>\n",
       "      <td>1857.193174</td>\n",
       "      <td>1122.547776</td>\n",
       "    </tr>\n",
       "    <tr>\n",
       "      <th>TumorPurity</th>\n",
       "      <td>0.794327</td>\n",
       "      <td>0.766668</td>\n",
       "      <td>0.591924</td>\n",
       "      <td>0.621334</td>\n",
       "      <td>0.816969</td>\n",
       "      <td>0.716267</td>\n",
       "      <td>0.740642</td>\n",
       "      <td>0.606127</td>\n",
       "      <td>0.794586</td>\n",
       "      <td>0.759799</td>\n",
       "      <td>...</td>\n",
       "      <td>0.755497</td>\n",
       "      <td>0.732326</td>\n",
       "      <td>0.690764</td>\n",
       "      <td>0.806982</td>\n",
       "      <td>0.621341</td>\n",
       "      <td>0.746506</td>\n",
       "      <td>0.663403</td>\n",
       "      <td>0.535046</td>\n",
       "      <td>0.638998</td>\n",
       "      <td>0.718075</td>\n",
       "    </tr>\n",
       "  </tbody>\n",
       "</table>\n",
       "<p>4 rows × 56 columns</p>\n",
       "</div>"
      ],
      "text/plain": [
       "                      A01         A02          A03          A04         A05  \\\n",
       "NAME                                                                          \n",
       "StromalScore   150.243978  100.962227   967.051900   808.453034  -65.569315   \n",
       "ImmuneScore    176.145317  526.978700  1297.193578  1203.727348  131.468582   \n",
       "ESTIMATEScore  326.389295  627.940928  2264.245478  2012.180381   65.899267   \n",
       "TumorPurity      0.794327    0.766668     0.591924     0.621334    0.816969   \n",
       "\n",
       "                       A06         A07          A08         A09         A10  \\\n",
       "NAME                                                                          \n",
       "StromalScore    489.893858  490.720381  1061.377025  235.450362  418.150347   \n",
       "ImmuneScore     650.323221  407.055460  1082.029608   88.028614  282.209677   \n",
       "ESTIMATEScore  1140.217080  897.775841  2143.406633  323.478976  700.360025   \n",
       "TumorPurity       0.716267    0.740642     0.606127    0.794586    0.759799   \n",
       "\n",
       "               ...         D12         E01          E02         E03  \\\n",
       "NAME           ...                                                    \n",
       "StromalScore   ...  263.744096  464.939728   802.734452  153.081049   \n",
       "ImmuneScore    ...  481.526245  516.592649   582.005013   29.396052   \n",
       "ESTIMATEScore  ...  745.270341  981.532377  1384.739465  182.477100   \n",
       "TumorPurity    ...    0.755497    0.732326     0.690764    0.806982   \n",
       "\n",
       "                       E04         E05          E06          E07          E08  \\\n",
       "NAME                                                                            \n",
       "StromalScore   1103.804616  579.702569   788.616732  1237.456125   887.344608   \n",
       "ImmuneScore     908.321033  258.334588   849.462145  1496.053219   969.848566   \n",
       "ESTIMATEScore  2012.125649  838.037157  1638.078877  2733.509343  1857.193174   \n",
       "TumorPurity       0.621341    0.746506     0.663403     0.535046     0.638998   \n",
       "\n",
       "                       E09  \n",
       "NAME                        \n",
       "StromalScore    501.153545  \n",
       "ImmuneScore     621.394231  \n",
       "ESTIMATEScore  1122.547776  \n",
       "TumorPurity       0.718075  \n",
       "\n",
       "[4 rows x 56 columns]"
      ]
     },
     "execution_count": 9,
     "metadata": {},
     "output_type": "execute_result"
    }
   ],
   "source": [
    "mRNA_tumcell.head().head()"
   ]
  },
  {
   "cell_type": "markdown",
   "metadata": {},
   "source": [
    "### Add mRNA purity to NES dataframe"
   ]
  },
  {
   "cell_type": "code",
   "execution_count": 10,
   "metadata": {},
   "outputs": [],
   "source": [
    "data_nes_t = data_nes.T "
   ]
  },
  {
   "cell_type": "markdown",
   "metadata": {},
   "source": [
    "#### Multiply purity times a small number to reduce it's impact in the PCA"
   ]
  },
  {
   "cell_type": "code",
   "execution_count": 11,
   "metadata": {},
   "outputs": [],
   "source": [
    "data_nes_t['TumourCellularity_mRNA'] = mRNA_tumcell.loc['TumorPurity'] * 0.0001"
   ]
  },
  {
   "cell_type": "code",
   "execution_count": 12,
   "metadata": {},
   "outputs": [],
   "source": [
    "data_nes = data_nes_t.T "
   ]
  },
  {
   "cell_type": "code",
   "execution_count": 13,
   "metadata": {},
   "outputs": [
    {
     "data": {
      "text/html": [
       "<div>\n",
       "<style scoped>\n",
       "    .dataframe tbody tr th:only-of-type {\n",
       "        vertical-align: middle;\n",
       "    }\n",
       "\n",
       "    .dataframe tbody tr th {\n",
       "        vertical-align: top;\n",
       "    }\n",
       "\n",
       "    .dataframe thead th {\n",
       "        text-align: right;\n",
       "    }\n",
       "</style>\n",
       "<table border=\"1\" class=\"dataframe\">\n",
       "  <thead>\n",
       "    <tr style=\"text-align: right;\">\n",
       "      <th></th>\n",
       "      <th>A01</th>\n",
       "      <th>A02</th>\n",
       "      <th>A03</th>\n",
       "      <th>A04</th>\n",
       "      <th>A05</th>\n",
       "      <th>A06</th>\n",
       "      <th>A07</th>\n",
       "      <th>A08</th>\n",
       "      <th>A09</th>\n",
       "      <th>A10</th>\n",
       "      <th>...</th>\n",
       "      <th>D12</th>\n",
       "      <th>E01</th>\n",
       "      <th>E02</th>\n",
       "      <th>E03</th>\n",
       "      <th>E04</th>\n",
       "      <th>E05</th>\n",
       "      <th>E06</th>\n",
       "      <th>E07</th>\n",
       "      <th>E08</th>\n",
       "      <th>E09</th>\n",
       "    </tr>\n",
       "    <tr>\n",
       "      <th>Term</th>\n",
       "      <th></th>\n",
       "      <th></th>\n",
       "      <th></th>\n",
       "      <th></th>\n",
       "      <th></th>\n",
       "      <th></th>\n",
       "      <th></th>\n",
       "      <th></th>\n",
       "      <th></th>\n",
       "      <th></th>\n",
       "      <th></th>\n",
       "      <th></th>\n",
       "      <th></th>\n",
       "      <th></th>\n",
       "      <th></th>\n",
       "      <th></th>\n",
       "      <th></th>\n",
       "      <th></th>\n",
       "      <th></th>\n",
       "      <th></th>\n",
       "      <th></th>\n",
       "    </tr>\n",
       "  </thead>\n",
       "  <tbody>\n",
       "    <tr>\n",
       "      <th>HALLMARK_KRAS_SIGNALING_DN</th>\n",
       "      <td>-0.111366</td>\n",
       "      <td>-0.116319</td>\n",
       "      <td>-0.122007</td>\n",
       "      <td>-0.096597</td>\n",
       "      <td>-0.106269</td>\n",
       "      <td>-0.118997</td>\n",
       "      <td>-0.102549</td>\n",
       "      <td>-0.109274</td>\n",
       "      <td>-0.136147</td>\n",
       "      <td>-0.115405</td>\n",
       "      <td>...</td>\n",
       "      <td>-0.139325</td>\n",
       "      <td>-0.162815</td>\n",
       "      <td>-0.121599</td>\n",
       "      <td>-0.190920</td>\n",
       "      <td>-0.141080</td>\n",
       "      <td>-0.111751</td>\n",
       "      <td>-0.141831</td>\n",
       "      <td>-0.126286</td>\n",
       "      <td>-0.127925</td>\n",
       "      <td>-0.167178</td>\n",
       "    </tr>\n",
       "    <tr>\n",
       "      <th>HALLMARK_PANCREAS_BETA_CELLS</th>\n",
       "      <td>-0.146457</td>\n",
       "      <td>-0.171530</td>\n",
       "      <td>-0.229520</td>\n",
       "      <td>-0.139607</td>\n",
       "      <td>-0.137008</td>\n",
       "      <td>-0.151976</td>\n",
       "      <td>-0.239809</td>\n",
       "      <td>-0.162335</td>\n",
       "      <td>-0.164499</td>\n",
       "      <td>-0.187457</td>\n",
       "      <td>...</td>\n",
       "      <td>-0.228200</td>\n",
       "      <td>-0.152731</td>\n",
       "      <td>-0.218332</td>\n",
       "      <td>-0.196034</td>\n",
       "      <td>-0.157134</td>\n",
       "      <td>-0.126800</td>\n",
       "      <td>-0.179381</td>\n",
       "      <td>-0.216867</td>\n",
       "      <td>-0.193094</td>\n",
       "      <td>-0.209325</td>\n",
       "    </tr>\n",
       "    <tr>\n",
       "      <th>StromalSignature</th>\n",
       "      <td>0.068301</td>\n",
       "      <td>0.070667</td>\n",
       "      <td>0.269651</td>\n",
       "      <td>0.224186</td>\n",
       "      <td>0.023423</td>\n",
       "      <td>0.157401</td>\n",
       "      <td>0.155407</td>\n",
       "      <td>0.292664</td>\n",
       "      <td>0.095977</td>\n",
       "      <td>0.135368</td>\n",
       "      <td>...</td>\n",
       "      <td>0.104112</td>\n",
       "      <td>0.155909</td>\n",
       "      <td>0.228005</td>\n",
       "      <td>0.088713</td>\n",
       "      <td>0.296492</td>\n",
       "      <td>0.180196</td>\n",
       "      <td>0.221126</td>\n",
       "      <td>0.332099</td>\n",
       "      <td>0.245865</td>\n",
       "      <td>0.172484</td>\n",
       "    </tr>\n",
       "    <tr>\n",
       "      <th>ImmuneSignature</th>\n",
       "      <td>0.074691</td>\n",
       "      <td>0.169467</td>\n",
       "      <td>0.345730</td>\n",
       "      <td>0.317359</td>\n",
       "      <td>0.069114</td>\n",
       "      <td>0.197182</td>\n",
       "      <td>0.135779</td>\n",
       "      <td>0.299572</td>\n",
       "      <td>0.063372</td>\n",
       "      <td>0.103880</td>\n",
       "      <td>...</td>\n",
       "      <td>0.153753</td>\n",
       "      <td>0.167914</td>\n",
       "      <td>0.175292</td>\n",
       "      <td>0.058984</td>\n",
       "      <td>0.256096</td>\n",
       "      <td>0.108475</td>\n",
       "      <td>0.235833</td>\n",
       "      <td>0.393539</td>\n",
       "      <td>0.265829</td>\n",
       "      <td>0.201392</td>\n",
       "    </tr>\n",
       "    <tr>\n",
       "      <th>TumourCellularity_mRNA</th>\n",
       "      <td>0.000079</td>\n",
       "      <td>0.000077</td>\n",
       "      <td>0.000059</td>\n",
       "      <td>0.000062</td>\n",
       "      <td>0.000082</td>\n",
       "      <td>0.000072</td>\n",
       "      <td>0.000074</td>\n",
       "      <td>0.000061</td>\n",
       "      <td>0.000079</td>\n",
       "      <td>0.000076</td>\n",
       "      <td>...</td>\n",
       "      <td>0.000076</td>\n",
       "      <td>0.000073</td>\n",
       "      <td>0.000069</td>\n",
       "      <td>0.000081</td>\n",
       "      <td>0.000062</td>\n",
       "      <td>0.000075</td>\n",
       "      <td>0.000066</td>\n",
       "      <td>0.000054</td>\n",
       "      <td>0.000064</td>\n",
       "      <td>0.000072</td>\n",
       "    </tr>\n",
       "  </tbody>\n",
       "</table>\n",
       "<p>5 rows × 56 columns</p>\n",
       "</div>"
      ],
      "text/plain": [
       "                                   A01       A02       A03       A04  \\\n",
       "Term                                                                   \n",
       "HALLMARK_KRAS_SIGNALING_DN   -0.111366 -0.116319 -0.122007 -0.096597   \n",
       "HALLMARK_PANCREAS_BETA_CELLS -0.146457 -0.171530 -0.229520 -0.139607   \n",
       "StromalSignature              0.068301  0.070667  0.269651  0.224186   \n",
       "ImmuneSignature               0.074691  0.169467  0.345730  0.317359   \n",
       "TumourCellularity_mRNA        0.000079  0.000077  0.000059  0.000062   \n",
       "\n",
       "                                   A05       A06       A07       A08  \\\n",
       "Term                                                                   \n",
       "HALLMARK_KRAS_SIGNALING_DN   -0.106269 -0.118997 -0.102549 -0.109274   \n",
       "HALLMARK_PANCREAS_BETA_CELLS -0.137008 -0.151976 -0.239809 -0.162335   \n",
       "StromalSignature              0.023423  0.157401  0.155407  0.292664   \n",
       "ImmuneSignature               0.069114  0.197182  0.135779  0.299572   \n",
       "TumourCellularity_mRNA        0.000082  0.000072  0.000074  0.000061   \n",
       "\n",
       "                                   A09       A10  ...       D12       E01  \\\n",
       "Term                                              ...                       \n",
       "HALLMARK_KRAS_SIGNALING_DN   -0.136147 -0.115405  ... -0.139325 -0.162815   \n",
       "HALLMARK_PANCREAS_BETA_CELLS -0.164499 -0.187457  ... -0.228200 -0.152731   \n",
       "StromalSignature              0.095977  0.135368  ...  0.104112  0.155909   \n",
       "ImmuneSignature               0.063372  0.103880  ...  0.153753  0.167914   \n",
       "TumourCellularity_mRNA        0.000079  0.000076  ...  0.000076  0.000073   \n",
       "\n",
       "                                   E02       E03       E04       E05  \\\n",
       "Term                                                                   \n",
       "HALLMARK_KRAS_SIGNALING_DN   -0.121599 -0.190920 -0.141080 -0.111751   \n",
       "HALLMARK_PANCREAS_BETA_CELLS -0.218332 -0.196034 -0.157134 -0.126800   \n",
       "StromalSignature              0.228005  0.088713  0.296492  0.180196   \n",
       "ImmuneSignature               0.175292  0.058984  0.256096  0.108475   \n",
       "TumourCellularity_mRNA        0.000069  0.000081  0.000062  0.000075   \n",
       "\n",
       "                                   E06       E07       E08       E09  \n",
       "Term                                                                  \n",
       "HALLMARK_KRAS_SIGNALING_DN   -0.141831 -0.126286 -0.127925 -0.167178  \n",
       "HALLMARK_PANCREAS_BETA_CELLS -0.179381 -0.216867 -0.193094 -0.209325  \n",
       "StromalSignature              0.221126  0.332099  0.245865  0.172484  \n",
       "ImmuneSignature               0.235833  0.393539  0.265829  0.201392  \n",
       "TumourCellularity_mRNA        0.000066  0.000054  0.000064  0.000072  \n",
       "\n",
       "[5 rows x 56 columns]"
      ]
     },
     "execution_count": 13,
     "metadata": {},
     "output_type": "execute_result"
    }
   ],
   "source": [
    "data_nes.tail()"
   ]
  },
  {
   "cell_type": "markdown",
   "metadata": {},
   "source": [
    "### Visulase NES"
   ]
  },
  {
   "cell_type": "markdown",
   "metadata": {},
   "source": [
    "#### Samples"
   ]
  },
  {
   "cell_type": "code",
   "execution_count": 14,
   "metadata": {},
   "outputs": [
    {
     "data": {
      "text/plain": [
       "<matplotlib.axes._subplots.AxesSubplot at 0x10698fba8>"
      ]
     },
     "execution_count": 14,
     "metadata": {},
     "output_type": "execute_result"
    },
    {
     "data": {
      "image/png": "[encoded data removed]",
      "text/plain": [
       "<Figure size 288x360 with 1 Axes>"
      ]
     },
     "metadata": {},
     "output_type": "display_data"
    }
   ],
   "source": [
    "data_nes.plot(kind='box',\n",
    "              vert=False,\n",
    "              figsize=(4,5))"
   ]
  },
  {
   "cell_type": "markdown",
   "metadata": {},
   "source": [
    "#### Variables"
   ]
  },
  {
   "cell_type": "code",
   "execution_count": 15,
   "metadata": {
    "scrolled": true
   },
   "outputs": [
    {
     "data": {
      "text/plain": [
       "<matplotlib.axes._subplots.AxesSubplot at 0x1a1c8db518>"
      ]
     },
     "execution_count": 15,
     "metadata": {},
     "output_type": "execute_result"
    },
    {
     "data": {
      "image/png": "[encoded data removed]",
      "text/plain": [
       "<Figure size 432x576 with 1 Axes>"
      ]
     },
     "metadata": {},
     "output_type": "display_data"
    }
   ],
   "source": [
    "data_nes.transpose().plot(kind='box',\n",
    "                          vert=False,\n",
    "                          figsize=(6,8))"
   ]
  },
  {
   "cell_type": "markdown",
   "metadata": {},
   "source": [
    "## Plot features PCs contributions"
   ]
  },
  {
   "cell_type": "markdown",
   "metadata": {},
   "source": [
    "### Define gene set colors"
   ]
  },
  {
   "cell_type": "code",
   "execution_count": 16,
   "metadata": {},
   "outputs": [],
   "source": [
    "GREEN = '#007F00'\n",
    "RED = '#CC0000'\n",
    "GREY = '#D3D3D3'\n",
    "BLUE = '#0000E5'\n",
    "YELLOW = '#FFFF00'\n",
    "\n",
    "color_sets = {\n",
    "'HALLMARK_INTERFERON_ALPHA_RESPONSE':           GREEN,\n",
    "'HALLMARK_INTERFERON_GAMMA_RESPONSE':           GREEN,\n",
    "'ImmuneSignature':                              GREEN,\n",
    "'HALLMARK_E2F_TARGETS':                         RED,\n",
    "'HALLMARK_SPERMATOGENESIS':                     GREY,\n",
    "'HALLMARK_INFLAMMATORY_RESPONSE':               GREEN,\n",
    "'HALLMARK_G2M_CHECKPOINT':                      RED,\n",
    "'HALLMARK_PANCREAS_BETA_CELLS':                 GREY,\n",
    "'HALLMARK_OXIDATIVE_PHOSPHORYLATION':           GREY,\n",
    "'HALLMARK_MYC_TARGETS_V1':                      RED,\n",
    "'HALLMARK_FATTY_ACID_METABOLISM':               GREY,\n",
    "'HALLMARK_PEROXISOME':                          GREY,\n",
    "'HALLMARK_DNA_REPAIR':                          RED,\n",
    "'HALLMARK_UNFOLDED_PROTEIN_RESPONSE':           'purple',\n",
    "'HALLMARK_KRAS_SIGNALING_DN':                   RED,\n",
    "'HALLMARK_REACTIVE_OXIGEN_SPECIES_PATHWAY':     'purple',\n",
    "'HALLMARK_CHOLESTEROL_HOMEOSTASIS':             GREY,\n",
    "'HALLMARK_COMPLEMENT':                          GREEN,\n",
    "'HALLMARK_MTORC1_SIGNALING':                    RED,\n",
    "'HALLMARK_IL2_STAT5_SIGNALING':                 GREEN,\n",
    "'HALLMARK_ADIPOGENESIS':                        GREY,\n",
    "'HALLMARK_KRAS_SIGNALING_UP':                   RED,\n",
    "'HALLMARK_HEME_METABOLISM':                     GREY,\n",
    "'HALLMARK_PI3K_AKT_MTOR_SIGNALING':             RED,\n",
    "'HALLMARK_ANDROGEN_RESPONSE':                   GREY,\n",
    "'HALLMARK_PROTEIN_SECRETION':                   GREY,\n",
    "'HALLMARK_P53_PATHWAY':                         RED,\n",
    "'HALLMARK_UV_RESPONSE_UP':                      'purple',\n",
    "'HALLMARK_MYC_TARGETS_V2':                      RED,\n",
    "'StromalSignature':                             BLUE,\n",
    "'HALLMARK_MITOTIC_SPINDLE':                     RED,\n",
    "'HALLMARK_GLYCOLYSIS':                          RED,\n",
    "'HALLMARK_APICAL_JUNCTION':                     BLUE,\n",
    "'HALLMARK_HYPOXIA':                             'purple',\n",
    "'HALLMARK_TNFA_SIGNALING_VIA_NFKB':             GREEN,\n",
    "'HALLMARK_APOPTOSIS':                           GREY,\n",
    "'HALLMARK_APICAL_SURFACE':                      GREY,\n",
    "'HALLMARK_UV_RESPONSE_DN':                      'purple',\n",
    "'HALLMARK_TGF_BETA_SIGNALING':                  'purple',\n",
    "'HALLMARK_EPITHELIAL_MESENCHYMAL_TRANSITION':   BLUE,\n",
    "'HALLMARK_NOTCH_SIGNALING':                     RED,\n",
    "'HALLMARK_WNT_BETA_CATENIN_SIGNALING':          RED,\n",
    "'HALLMARK_ALLOGRAFT_REJECTION':                 GREEN,\n",
    "'HALLMARK_XENOBIOTIC_METABOLISM':               GREY,\n",
    "'HALLMARK_ANGIOGENESIS':                        BLUE,\n",
    "'HALLMARK_BILE_ACID_METABOLISM':                GREY,\n",
    "'HALLMARK_COAGULATION':                         GREY,\n",
    "'HALLMARK_ESTROGEN_RESPONSE_EARLY':             GREY,\n",
    "'HALLMARK_ESTROGEN_RESPONSE_LATE':              GREY,\n",
    "'HALLMARK_HEDGEHOG_SIGNALING':                  RED,\n",
    "'HALLMARK_IL6_JAK_STAT3_SIGNALING':             GREEN,\n",
    "'HALLMARK_MYOGENESIS':                          GREY,\n",
    "'TumourCellularity_mRNA':                       'k'\n",
    "}"
   ]
  },
  {
   "cell_type": "markdown",
   "metadata": {},
   "source": [
    "### Separate matched and unmatched samples"
   ]
  },
  {
   "cell_type": "code",
   "execution_count": 17,
   "metadata": {},
   "outputs": [],
   "source": [
    "matched = [3368,371,9717,8674,2359,564,7765,6965,9347]\n",
    "\n",
    "matched_df = sample_labels[sample_labels['Case_mRNA'].isin(matched)]\n",
    "\n",
    "unmatched_df = sample_labels[~sample_labels['Case_mRNA'].isin(matched)]"
   ]
  },
  {
   "cell_type": "code",
   "execution_count": 18,
   "metadata": {},
   "outputs": [],
   "source": [
    "matched_nes_df = data_nes[matched_df.index]\n",
    "\n",
    "unmatched_nes_df = data_nes[unmatched_df.index]"
   ]
  },
  {
   "cell_type": "markdown",
   "metadata": {},
   "source": [
    "### Save matched and unmatched hallmark NES"
   ]
  },
  {
   "cell_type": "code",
   "execution_count": null,
   "metadata": {},
   "outputs": [],
   "source": [
    "matched_nes_df.to_csv('../1.Data/HallmarksStromaImmune_NACT_matched_NES.txt',\n",
    "                      sep='\\t')"
   ]
  },
  {
   "cell_type": "code",
   "execution_count": null,
   "metadata": {},
   "outputs": [],
   "source": [
    "unmatched_nes_df.to_csv('../1.Data/HallmarksStromaImmune_NACT_unmatched_NES.txt',\n",
    "                        sep='\\t')"
   ]
  },
  {
   "cell_type": "markdown",
   "metadata": {},
   "source": [
    "## Calculate matched PCA"
   ]
  },
  {
   "cell_type": "code",
   "execution_count": 19,
   "metadata": {},
   "outputs": [],
   "source": [
    "pca = PCA(n_components=7)"
   ]
  },
  {
   "cell_type": "code",
   "execution_count": 20,
   "metadata": {},
   "outputs": [],
   "source": [
    "pca_nes = pca.fit_transform(matched_nes_df.transpose())"
   ]
  },
  {
   "cell_type": "code",
   "execution_count": 21,
   "metadata": {},
   "outputs": [
    {
     "data": {
      "text/plain": [
       "18"
      ]
     },
     "execution_count": 21,
     "metadata": {},
     "output_type": "execute_result"
    }
   ],
   "source": [
    "len(pca_nes) # check number of data points"
   ]
  },
  {
   "cell_type": "code",
   "execution_count": 22,
   "metadata": {},
   "outputs": [],
   "source": [
    "var_exp = sorted(pca.explained_variance_ratio_, reverse=True)"
   ]
  },
  {
   "cell_type": "markdown",
   "metadata": {},
   "source": [
    "### Dump components relations with features"
   ]
  },
  {
   "cell_type": "code",
   "execution_count": 23,
   "metadata": {},
   "outputs": [],
   "source": [
    "components = pd.DataFrame(pca.components_,\n",
    "                          columns=data_nes.transpose().columns)"
   ]
  },
  {
   "cell_type": "code",
   "execution_count": 24,
   "metadata": {},
   "outputs": [
    {
     "data": {
      "text/html": [
       "<div>\n",
       "<style scoped>\n",
       "    .dataframe tbody tr th:only-of-type {\n",
       "        vertical-align: middle;\n",
       "    }\n",
       "\n",
       "    .dataframe tbody tr th {\n",
       "        vertical-align: top;\n",
       "    }\n",
       "\n",
       "    .dataframe thead th {\n",
       "        text-align: right;\n",
       "    }\n",
       "</style>\n",
       "<table border=\"1\" class=\"dataframe\">\n",
       "  <thead>\n",
       "    <tr style=\"text-align: right;\">\n",
       "      <th>Term</th>\n",
       "      <th>HALLMARK_TNFA_SIGNALING_VIA_NFKB</th>\n",
       "      <th>HALLMARK_HYPOXIA</th>\n",
       "      <th>HALLMARK_CHOLESTEROL_HOMEOSTASIS</th>\n",
       "      <th>HALLMARK_MITOTIC_SPINDLE</th>\n",
       "      <th>HALLMARK_WNT_BETA_CATENIN_SIGNALING</th>\n",
       "      <th>HALLMARK_TGF_BETA_SIGNALING</th>\n",
       "      <th>HALLMARK_IL6_JAK_STAT3_SIGNALING</th>\n",
       "      <th>HALLMARK_DNA_REPAIR</th>\n",
       "      <th>HALLMARK_G2M_CHECKPOINT</th>\n",
       "      <th>HALLMARK_APOPTOSIS</th>\n",
       "      <th>...</th>\n",
       "      <th>HALLMARK_BILE_ACID_METABOLISM</th>\n",
       "      <th>HALLMARK_PEROXISOME</th>\n",
       "      <th>HALLMARK_ALLOGRAFT_REJECTION</th>\n",
       "      <th>HALLMARK_SPERMATOGENESIS</th>\n",
       "      <th>HALLMARK_KRAS_SIGNALING_UP</th>\n",
       "      <th>HALLMARK_KRAS_SIGNALING_DN</th>\n",
       "      <th>HALLMARK_PANCREAS_BETA_CELLS</th>\n",
       "      <th>StromalSignature</th>\n",
       "      <th>ImmuneSignature</th>\n",
       "      <th>TumourCellularity_mRNA</th>\n",
       "    </tr>\n",
       "  </thead>\n",
       "  <tbody>\n",
       "    <tr>\n",
       "      <th>0</th>\n",
       "      <td>-0.259410</td>\n",
       "      <td>-0.112656</td>\n",
       "      <td>-0.030129</td>\n",
       "      <td>0.008677</td>\n",
       "      <td>0.076517</td>\n",
       "      <td>-0.105509</td>\n",
       "      <td>-0.202778</td>\n",
       "      <td>-0.000908</td>\n",
       "      <td>0.087049</td>\n",
       "      <td>-0.140535</td>\n",
       "      <td>...</td>\n",
       "      <td>-0.057594</td>\n",
       "      <td>-0.013277</td>\n",
       "      <td>-0.209434</td>\n",
       "      <td>0.077004</td>\n",
       "      <td>-0.155825</td>\n",
       "      <td>0.031212</td>\n",
       "      <td>0.003793</td>\n",
       "      <td>-0.334310</td>\n",
       "      <td>-0.438957</td>\n",
       "      <td>0.000034</td>\n",
       "    </tr>\n",
       "    <tr>\n",
       "      <th>1</th>\n",
       "      <td>-0.037033</td>\n",
       "      <td>0.017334</td>\n",
       "      <td>0.143957</td>\n",
       "      <td>0.181590</td>\n",
       "      <td>0.009712</td>\n",
       "      <td>0.074727</td>\n",
       "      <td>0.048049</td>\n",
       "      <td>0.207364</td>\n",
       "      <td>0.433047</td>\n",
       "      <td>0.078384</td>\n",
       "      <td>...</td>\n",
       "      <td>-0.095865</td>\n",
       "      <td>0.044840</td>\n",
       "      <td>0.078547</td>\n",
       "      <td>0.013921</td>\n",
       "      <td>-0.019258</td>\n",
       "      <td>-0.107871</td>\n",
       "      <td>-0.195049</td>\n",
       "      <td>-0.109249</td>\n",
       "      <td>-0.066437</td>\n",
       "      <td>0.000010</td>\n",
       "    </tr>\n",
       "    <tr>\n",
       "      <th>2</th>\n",
       "      <td>0.157669</td>\n",
       "      <td>0.000133</td>\n",
       "      <td>0.010972</td>\n",
       "      <td>-0.158320</td>\n",
       "      <td>-0.023859</td>\n",
       "      <td>-0.047592</td>\n",
       "      <td>0.094143</td>\n",
       "      <td>-0.085460</td>\n",
       "      <td>-0.053082</td>\n",
       "      <td>-0.015806</td>\n",
       "      <td>...</td>\n",
       "      <td>-0.005979</td>\n",
       "      <td>0.067273</td>\n",
       "      <td>0.080658</td>\n",
       "      <td>0.105277</td>\n",
       "      <td>0.031800</td>\n",
       "      <td>0.158704</td>\n",
       "      <td>0.180289</td>\n",
       "      <td>-0.289622</td>\n",
       "      <td>0.161874</td>\n",
       "      <td>0.000003</td>\n",
       "    </tr>\n",
       "    <tr>\n",
       "      <th>3</th>\n",
       "      <td>-0.313670</td>\n",
       "      <td>-0.163528</td>\n",
       "      <td>-0.021165</td>\n",
       "      <td>0.066182</td>\n",
       "      <td>0.203646</td>\n",
       "      <td>-0.274316</td>\n",
       "      <td>0.061289</td>\n",
       "      <td>-0.076103</td>\n",
       "      <td>-0.039681</td>\n",
       "      <td>0.064755</td>\n",
       "      <td>...</td>\n",
       "      <td>-0.053496</td>\n",
       "      <td>0.007618</td>\n",
       "      <td>0.011605</td>\n",
       "      <td>-0.072817</td>\n",
       "      <td>-0.044432</td>\n",
       "      <td>-0.124975</td>\n",
       "      <td>-0.043376</td>\n",
       "      <td>0.137366</td>\n",
       "      <td>0.013483</td>\n",
       "      <td>-0.000007</td>\n",
       "    </tr>\n",
       "    <tr>\n",
       "      <th>4</th>\n",
       "      <td>-0.221030</td>\n",
       "      <td>-0.088184</td>\n",
       "      <td>-0.040130</td>\n",
       "      <td>0.039807</td>\n",
       "      <td>0.355034</td>\n",
       "      <td>-0.365942</td>\n",
       "      <td>-0.070629</td>\n",
       "      <td>0.001966</td>\n",
       "      <td>-0.090572</td>\n",
       "      <td>-0.129435</td>\n",
       "      <td>...</td>\n",
       "      <td>0.058318</td>\n",
       "      <td>0.179656</td>\n",
       "      <td>-0.023850</td>\n",
       "      <td>0.143900</td>\n",
       "      <td>0.027053</td>\n",
       "      <td>0.003288</td>\n",
       "      <td>-0.189982</td>\n",
       "      <td>0.193265</td>\n",
       "      <td>0.024468</td>\n",
       "      <td>-0.000009</td>\n",
       "    </tr>\n",
       "  </tbody>\n",
       "</table>\n",
       "<p>5 rows × 53 columns</p>\n",
       "</div>"
      ],
      "text/plain": [
       "Term  HALLMARK_TNFA_SIGNALING_VIA_NFKB  HALLMARK_HYPOXIA  \\\n",
       "0                            -0.259410         -0.112656   \n",
       "1                            -0.037033          0.017334   \n",
       "2                             0.157669          0.000133   \n",
       "3                            -0.313670         -0.163528   \n",
       "4                            -0.221030         -0.088184   \n",
       "\n",
       "Term  HALLMARK_CHOLESTEROL_HOMEOSTASIS  HALLMARK_MITOTIC_SPINDLE  \\\n",
       "0                            -0.030129                  0.008677   \n",
       "1                             0.143957                  0.181590   \n",
       "2                             0.010972                 -0.158320   \n",
       "3                            -0.021165                  0.066182   \n",
       "4                            -0.040130                  0.039807   \n",
       "\n",
       "Term  HALLMARK_WNT_BETA_CATENIN_SIGNALING  HALLMARK_TGF_BETA_SIGNALING  \\\n",
       "0                                0.076517                    -0.105509   \n",
       "1                                0.009712                     0.074727   \n",
       "2                               -0.023859                    -0.047592   \n",
       "3                                0.203646                    -0.274316   \n",
       "4                                0.355034                    -0.365942   \n",
       "\n",
       "Term  HALLMARK_IL6_JAK_STAT3_SIGNALING  HALLMARK_DNA_REPAIR  \\\n",
       "0                            -0.202778            -0.000908   \n",
       "1                             0.048049             0.207364   \n",
       "2                             0.094143            -0.085460   \n",
       "3                             0.061289            -0.076103   \n",
       "4                            -0.070629             0.001966   \n",
       "\n",
       "Term  HALLMARK_G2M_CHECKPOINT  HALLMARK_APOPTOSIS  ...  \\\n",
       "0                    0.087049           -0.140535  ...   \n",
       "1                    0.433047            0.078384  ...   \n",
       "2                   -0.053082           -0.015806  ...   \n",
       "3                   -0.039681            0.064755  ...   \n",
       "4                   -0.090572           -0.129435  ...   \n",
       "\n",
       "Term  HALLMARK_BILE_ACID_METABOLISM  HALLMARK_PEROXISOME  \\\n",
       "0                         -0.057594            -0.013277   \n",
       "1                         -0.095865             0.044840   \n",
       "2                         -0.005979             0.067273   \n",
       "3                         -0.053496             0.007618   \n",
       "4                          0.058318             0.179656   \n",
       "\n",
       "Term  HALLMARK_ALLOGRAFT_REJECTION  HALLMARK_SPERMATOGENESIS  \\\n",
       "0                        -0.209434                  0.077004   \n",
       "1                         0.078547                  0.013921   \n",
       "2                         0.080658                  0.105277   \n",
       "3                         0.011605                 -0.072817   \n",
       "4                        -0.023850                  0.143900   \n",
       "\n",
       "Term  HALLMARK_KRAS_SIGNALING_UP  HALLMARK_KRAS_SIGNALING_DN  \\\n",
       "0                      -0.155825                    0.031212   \n",
       "1                      -0.019258                   -0.107871   \n",
       "2                       0.031800                    0.158704   \n",
       "3                      -0.044432                   -0.124975   \n",
       "4                       0.027053                    0.003288   \n",
       "\n",
       "Term  HALLMARK_PANCREAS_BETA_CELLS  StromalSignature  ImmuneSignature  \\\n",
       "0                         0.003793         -0.334310        -0.438957   \n",
       "1                        -0.195049         -0.109249        -0.066437   \n",
       "2                         0.180289         -0.289622         0.161874   \n",
       "3                        -0.043376          0.137366         0.013483   \n",
       "4                        -0.189982          0.193265         0.024468   \n",
       "\n",
       "Term  TumourCellularity_mRNA  \n",
       "0                   0.000034  \n",
       "1                   0.000010  \n",
       "2                   0.000003  \n",
       "3                  -0.000007  \n",
       "4                  -0.000009  \n",
       "\n",
       "[5 rows x 53 columns]"
      ]
     },
     "execution_count": 24,
     "metadata": {},
     "output_type": "execute_result"
    }
   ],
   "source": [
    "components.head()"
   ]
  },
  {
   "cell_type": "markdown",
   "metadata": {},
   "source": [
    "### PCs barplots"
   ]
  },
  {
   "cell_type": "code",
   "execution_count": 25,
   "metadata": {},
   "outputs": [],
   "source": [
    "feature_names = pd.Series(components.columns.values,name='features')"
   ]
  },
  {
   "cell_type": "code",
   "execution_count": 26,
   "metadata": {},
   "outputs": [],
   "source": [
    "PCs = pca.components_\n",
    "\n",
    "pc_df = pd.DataFrame(PCs).T\n",
    "pc_df = pd.concat([feature_names,pc_df],axis=1)\n",
    "\n",
    "pc_df.set_index('features',inplace=True)"
   ]
  },
  {
   "cell_type": "code",
   "execution_count": 27,
   "metadata": {},
   "outputs": [],
   "source": [
    "fcolors = []\n",
    "for f in pc_df.index:\n",
    "    fcolors.append(color_sets[f])"
   ]
  },
  {
   "cell_type": "code",
   "execution_count": 28,
   "metadata": {},
   "outputs": [],
   "source": [
    "fcolors_df = pd.DataFrame({'index':pc_df.index,\n",
    "                           'color':pd.Series(fcolors)})\n",
    "\n",
    "fcolors_df.set_index('index',inplace=True)"
   ]
  },
  {
   "cell_type": "code",
   "execution_count": 29,
   "metadata": {},
   "outputs": [],
   "source": [
    "pc_df = pd.concat([pc_df,fcolors_df],axis=1)"
   ]
  },
  {
   "cell_type": "markdown",
   "metadata": {},
   "source": [
    "### Hallmarks colours"
   ]
  },
  {
   "cell_type": "code",
   "execution_count": 30,
   "metadata": {},
   "outputs": [],
   "source": [
    "colours = ['#0000E5','#007F00','#CC0000','#D3D3D3','k','purple']\n",
    "categories = ['stroma','immune','oncogenic','other','tumour_cellularity','stress']\n",
    "\n",
    "pc_df['category'] = pc_df.color.replace(colours,\n",
    "                                        categories)\n",
    "\n",
    "cat_order = ['tumour_cellularity','oncogenic','stress','immune','stroma','other']\n",
    "\n",
    "cat_type = CategoricalDtype(categories=cat_order,\n",
    "                            ordered=True)"
   ]
  },
  {
   "cell_type": "markdown",
   "metadata": {},
   "source": [
    "### Sort features within PCs"
   ]
  },
  {
   "cell_type": "code",
   "execution_count": 31,
   "metadata": {},
   "outputs": [],
   "source": [
    "pc_df['category'] = pc_df['category'].astype(cat_type)\n",
    "\n",
    "pc_df0 = pc_df.sort_values(by=['category',0],\n",
    "                           inplace=False)  \n",
    "\n",
    "pc_df0['feature'] = pc_df0.index\n",
    "\n",
    "pc_df1 = pc_df.sort_values(by=['category',1],\n",
    "                           inplace=False)\n",
    "\n",
    "pc_df1['feature'] = pc_df1.index\n",
    "\n",
    "pc_df2 = pc_df.sort_values(by=['category',2],\n",
    "                           inplace=False)\n",
    "\n",
    "pc_df2['feature'] = pc_df2.index\n",
    "\n",
    "pc_df3 = pc_df.sort_values(by=['category',3],\n",
    "                           inplace=False)  \n",
    "\n",
    "pc_df3['feature'] = pc_df3.index\n",
    "\n",
    "pc_df4 = pc_df.sort_values(by=['category',4],\n",
    "                           inplace=False)  \n",
    "\n",
    "pc_df4['feature'] = pc_df4.index\n",
    "\n",
    "pc_df5 = pc_df.sort_values(by=['category',5],\n",
    "                           inplace=False)  \n",
    "\n",
    "pc_df5['feature'] = pc_df5.index\n",
    "\n",
    "pc_df6 = pc_df.sort_values(by=['category',6],\n",
    "                           inplace=False) \n",
    "\n",
    "pc_df6['feature'] = pc_df6.index"
   ]
  },
  {
   "cell_type": "markdown",
   "metadata": {},
   "source": [
    "### Plot"
   ]
  },
  {
   "cell_type": "code",
   "execution_count": 33,
   "metadata": {},
   "outputs": [
    {
     "data": {
      "text/plain": [
       "[]"
      ]
     },
     "execution_count": 33,
     "metadata": {},
     "output_type": "execute_result"
    },
    {
     "data": {
      "image/png": "[encoded data removed]",
      "text/plain": [
       "<Figure size 288x792 with 7 Axes>"
      ]
     },
     "metadata": {},
     "output_type": "display_data"
    }
   ],
   "source": [
    "y_anotate=0.4\n",
    "\n",
    "fig,(ax0,ax1,ax2,ax3,ax4,ax5,ax6) = plt.subplots(nrows=7,\n",
    "                                                 ncols=1,\n",
    "                                                 figsize=(4, 11),\n",
    "                                                 sharex=True,\n",
    "                                                 sharey=True)                                               \n",
    "\n",
    "sns.barplot(x='feature',\n",
    "            y=0,\n",
    "            data=pc_df0,\n",
    "            palette=pc_df0.color,\n",
    "            ax=ax0)\n",
    "\n",
    "ax0.text(x=0,\n",
    "         y=y_anotate,\n",
    "         s=str(round(var_exp[0]*100,2))+'%')\n",
    "ax0.set_ylabel(\"PC1\")\n",
    "ax0.set_xlabel('')\n",
    "ax0.set_ylim([-0.5,0.5])\n",
    "sns.despine(bottom=True,trim=True,offset=5)\n",
    "\n",
    "\n",
    "sns.barplot(x='feature',\n",
    "            y=1,\n",
    "            data=pc_df1,\n",
    "            palette=pc_df1.color,\n",
    "            ax=ax1)\n",
    "\n",
    "ax1.text(x=0,\n",
    "         y=y_anotate,\n",
    "         s=str(round(var_exp[1]*100,2))+'%')\n",
    "ax1.set_ylabel(\"PC2\")\n",
    "ax1.set_xlabel('')\n",
    "\n",
    "\n",
    "sns.barplot(x='feature',\n",
    "            y=2,\n",
    "            data=pc_df2,\n",
    "            palette=pc_df2.color,\n",
    "            ax=ax2)\n",
    "\n",
    "ax2.text(x=0,\n",
    "         y=y_anotate,\n",
    "         s=str(round(var_exp[2]*100,2))+'%')\n",
    "ax2.set_ylabel(\"PC3\")\n",
    "ax2.set_xlabel('')\n",
    "\n",
    "\n",
    "sns.barplot(x='feature',\n",
    "            y=3,\n",
    "            data=pc_df3,\n",
    "            palette=pc_df3.color,\n",
    "            ax=ax3)\n",
    "\n",
    "ax3.text(x=0,\n",
    "         y=y_anotate,\n",
    "         s=str(round(var_exp[3]*100,2))+'%')\n",
    "ax3.set_ylabel(\"PC4\")\n",
    "ax3.set_xlabel('')\n",
    "\n",
    "\n",
    "sns.barplot(x='feature',\n",
    "            y=4,\n",
    "            data=pc_df4,\n",
    "            palette=pc_df4.color,\n",
    "            ax=ax4)\n",
    "\n",
    "ax4.text(x=0,\n",
    "         y=y_anotate,\n",
    "         s=str(round(var_exp[4]*100,2))+'%')\n",
    "ax4.set_ylabel(\"PC5\")\n",
    "ax4.set_xlabel('')\n",
    "\n",
    "\n",
    "sns.barplot(x='feature',\n",
    "            y=5,\n",
    "            data=pc_df5,\n",
    "            palette=pc_df5.color,\n",
    "            ax=ax5)\n",
    "\n",
    "ax5.text(x=0,\n",
    "         y=y_anotate,\n",
    "         s=str(round(var_exp[5]*100,2))+'%')\n",
    "ax5.set_ylabel(\"PC6\")\n",
    "ax5.set_xlabel('')\n",
    "\n",
    "sns.barplot(x='feature',\n",
    "            y=6,\n",
    "            data=pc_df6,\n",
    "            palette=pc_df6.color,\n",
    "            ax=ax6)\n",
    "\n",
    "ax6.text(x=0,y=y_anotate,\n",
    "         s=str(round(var_exp[6]*100,2))+'%')\n",
    "ax6.set_ylabel(\"PC7\")\n",
    "ax6.set_xlabel('')\n",
    "\n",
    "# Finalize the plot\n",
    "sns.despine(bottom=True,trim=True,offset=5)\n",
    "plt.setp(fig.axes,xticks=[])"
   ]
  },
  {
   "cell_type": "markdown",
   "metadata": {},
   "source": [
    "### Save plot"
   ]
  },
  {
   "cell_type": "code",
   "execution_count": null,
   "metadata": {},
   "outputs": [],
   "source": [
    "file_name = '../2.Plots/s5_c_NACT_matched_Hallmark_PCs_loadings.pdf'\n",
    "\n",
    "fig.savefig(file_name,\n",
    "            bbox='tight')"
   ]
  },
  {
   "cell_type": "code",
   "execution_count": 34,
   "metadata": {},
   "outputs": [],
   "source": [
    "matched_stress = pc_df0[pc_df0[\"category\"] == \"stress\"][0]\n",
    "matched_immune = pc_df0[pc_df0[\"category\"] == \"immune\"][0]\n",
    "matched_stroma = pc_df0[pc_df0[\"category\"] == \"stroma\"][0]"
   ]
  },
  {
   "cell_type": "markdown",
   "metadata": {},
   "source": [
    "## Calculate unmatched PCA"
   ]
  },
  {
   "cell_type": "code",
   "execution_count": 35,
   "metadata": {},
   "outputs": [],
   "source": [
    "pca = PCA(n_components=7)"
   ]
  },
  {
   "cell_type": "code",
   "execution_count": 36,
   "metadata": {},
   "outputs": [],
   "source": [
    "pca_nes = pca.fit_transform(unmatched_nes_df.transpose())"
   ]
  },
  {
   "cell_type": "code",
   "execution_count": 37,
   "metadata": {},
   "outputs": [
    {
     "data": {
      "text/plain": [
       "38"
      ]
     },
     "execution_count": 37,
     "metadata": {},
     "output_type": "execute_result"
    }
   ],
   "source": [
    "len(pca_nes) # check number of data points"
   ]
  },
  {
   "cell_type": "code",
   "execution_count": 38,
   "metadata": {},
   "outputs": [],
   "source": [
    "var_exp = sorted(pca.explained_variance_ratio_, reverse=True)"
   ]
  },
  {
   "cell_type": "markdown",
   "metadata": {},
   "source": [
    "### Dump components relations with features"
   ]
  },
  {
   "cell_type": "code",
   "execution_count": 39,
   "metadata": {},
   "outputs": [],
   "source": [
    "components = pd.DataFrame(pca.components_,\n",
    "                          columns=data_nes.transpose().columns)"
   ]
  },
  {
   "cell_type": "code",
   "execution_count": 40,
   "metadata": {},
   "outputs": [
    {
     "data": {
      "text/html": [
       "<div>\n",
       "<style scoped>\n",
       "    .dataframe tbody tr th:only-of-type {\n",
       "        vertical-align: middle;\n",
       "    }\n",
       "\n",
       "    .dataframe tbody tr th {\n",
       "        vertical-align: top;\n",
       "    }\n",
       "\n",
       "    .dataframe thead th {\n",
       "        text-align: right;\n",
       "    }\n",
       "</style>\n",
       "<table border=\"1\" class=\"dataframe\">\n",
       "  <thead>\n",
       "    <tr style=\"text-align: right;\">\n",
       "      <th>Term</th>\n",
       "      <th>HALLMARK_TNFA_SIGNALING_VIA_NFKB</th>\n",
       "      <th>HALLMARK_HYPOXIA</th>\n",
       "      <th>HALLMARK_CHOLESTEROL_HOMEOSTASIS</th>\n",
       "      <th>HALLMARK_MITOTIC_SPINDLE</th>\n",
       "      <th>HALLMARK_WNT_BETA_CATENIN_SIGNALING</th>\n",
       "      <th>HALLMARK_TGF_BETA_SIGNALING</th>\n",
       "      <th>HALLMARK_IL6_JAK_STAT3_SIGNALING</th>\n",
       "      <th>HALLMARK_DNA_REPAIR</th>\n",
       "      <th>HALLMARK_G2M_CHECKPOINT</th>\n",
       "      <th>HALLMARK_APOPTOSIS</th>\n",
       "      <th>...</th>\n",
       "      <th>HALLMARK_BILE_ACID_METABOLISM</th>\n",
       "      <th>HALLMARK_PEROXISOME</th>\n",
       "      <th>HALLMARK_ALLOGRAFT_REJECTION</th>\n",
       "      <th>HALLMARK_SPERMATOGENESIS</th>\n",
       "      <th>HALLMARK_KRAS_SIGNALING_UP</th>\n",
       "      <th>HALLMARK_KRAS_SIGNALING_DN</th>\n",
       "      <th>HALLMARK_PANCREAS_BETA_CELLS</th>\n",
       "      <th>StromalSignature</th>\n",
       "      <th>ImmuneSignature</th>\n",
       "      <th>TumourCellularity_mRNA</th>\n",
       "    </tr>\n",
       "  </thead>\n",
       "  <tbody>\n",
       "    <tr>\n",
       "      <th>0</th>\n",
       "      <td>-0.269423</td>\n",
       "      <td>-0.130122</td>\n",
       "      <td>0.026158</td>\n",
       "      <td>0.024647</td>\n",
       "      <td>0.000912</td>\n",
       "      <td>-0.108252</td>\n",
       "      <td>-0.233156</td>\n",
       "      <td>0.033632</td>\n",
       "      <td>0.116258</td>\n",
       "      <td>-0.133944</td>\n",
       "      <td>...</td>\n",
       "      <td>-0.008876</td>\n",
       "      <td>-0.032706</td>\n",
       "      <td>-0.199412</td>\n",
       "      <td>0.024886</td>\n",
       "      <td>-0.148326</td>\n",
       "      <td>0.011204</td>\n",
       "      <td>0.037248</td>\n",
       "      <td>-0.367998</td>\n",
       "      <td>-0.401150</td>\n",
       "      <td>0.000033</td>\n",
       "    </tr>\n",
       "    <tr>\n",
       "      <th>1</th>\n",
       "      <td>-0.091434</td>\n",
       "      <td>-0.106604</td>\n",
       "      <td>-0.232474</td>\n",
       "      <td>-0.214954</td>\n",
       "      <td>-0.170931</td>\n",
       "      <td>-0.248924</td>\n",
       "      <td>0.002412</td>\n",
       "      <td>-0.174453</td>\n",
       "      <td>-0.301876</td>\n",
       "      <td>-0.155838</td>\n",
       "      <td>...</td>\n",
       "      <td>0.036429</td>\n",
       "      <td>-0.058782</td>\n",
       "      <td>-0.003909</td>\n",
       "      <td>0.023265</td>\n",
       "      <td>-0.014159</td>\n",
       "      <td>0.185148</td>\n",
       "      <td>0.113654</td>\n",
       "      <td>0.111218</td>\n",
       "      <td>0.109671</td>\n",
       "      <td>-0.000012</td>\n",
       "    </tr>\n",
       "    <tr>\n",
       "      <th>2</th>\n",
       "      <td>0.227621</td>\n",
       "      <td>0.217186</td>\n",
       "      <td>0.101469</td>\n",
       "      <td>-0.035953</td>\n",
       "      <td>0.007197</td>\n",
       "      <td>0.237330</td>\n",
       "      <td>-0.136459</td>\n",
       "      <td>-0.015270</td>\n",
       "      <td>-0.164894</td>\n",
       "      <td>0.042526</td>\n",
       "      <td>...</td>\n",
       "      <td>0.037845</td>\n",
       "      <td>-0.039292</td>\n",
       "      <td>-0.221847</td>\n",
       "      <td>-0.083759</td>\n",
       "      <td>0.038763</td>\n",
       "      <td>-0.047330</td>\n",
       "      <td>0.086526</td>\n",
       "      <td>0.047064</td>\n",
       "      <td>-0.222452</td>\n",
       "      <td>0.000009</td>\n",
       "    </tr>\n",
       "    <tr>\n",
       "      <th>3</th>\n",
       "      <td>0.229854</td>\n",
       "      <td>0.004306</td>\n",
       "      <td>0.085502</td>\n",
       "      <td>-0.162917</td>\n",
       "      <td>-0.004602</td>\n",
       "      <td>0.077655</td>\n",
       "      <td>0.098014</td>\n",
       "      <td>-0.054597</td>\n",
       "      <td>-0.305833</td>\n",
       "      <td>0.033218</td>\n",
       "      <td>...</td>\n",
       "      <td>0.156386</td>\n",
       "      <td>0.051928</td>\n",
       "      <td>0.029176</td>\n",
       "      <td>-0.093136</td>\n",
       "      <td>-0.092922</td>\n",
       "      <td>0.033717</td>\n",
       "      <td>0.141789</td>\n",
       "      <td>-0.333156</td>\n",
       "      <td>0.063888</td>\n",
       "      <td>0.000013</td>\n",
       "    </tr>\n",
       "    <tr>\n",
       "      <th>4</th>\n",
       "      <td>0.277632</td>\n",
       "      <td>0.081962</td>\n",
       "      <td>0.140692</td>\n",
       "      <td>0.015696</td>\n",
       "      <td>0.047852</td>\n",
       "      <td>-0.141835</td>\n",
       "      <td>0.137864</td>\n",
       "      <td>0.061840</td>\n",
       "      <td>0.139323</td>\n",
       "      <td>0.038013</td>\n",
       "      <td>...</td>\n",
       "      <td>0.040000</td>\n",
       "      <td>0.049685</td>\n",
       "      <td>0.060367</td>\n",
       "      <td>0.164028</td>\n",
       "      <td>0.109431</td>\n",
       "      <td>0.053582</td>\n",
       "      <td>0.151341</td>\n",
       "      <td>-0.251689</td>\n",
       "      <td>0.161098</td>\n",
       "      <td>0.000002</td>\n",
       "    </tr>\n",
       "  </tbody>\n",
       "</table>\n",
       "<p>5 rows × 53 columns</p>\n",
       "</div>"
      ],
      "text/plain": [
       "Term  HALLMARK_TNFA_SIGNALING_VIA_NFKB  HALLMARK_HYPOXIA  \\\n",
       "0                            -0.269423         -0.130122   \n",
       "1                            -0.091434         -0.106604   \n",
       "2                             0.227621          0.217186   \n",
       "3                             0.229854          0.004306   \n",
       "4                             0.277632          0.081962   \n",
       "\n",
       "Term  HALLMARK_CHOLESTEROL_HOMEOSTASIS  HALLMARK_MITOTIC_SPINDLE  \\\n",
       "0                             0.026158                  0.024647   \n",
       "1                            -0.232474                 -0.214954   \n",
       "2                             0.101469                 -0.035953   \n",
       "3                             0.085502                 -0.162917   \n",
       "4                             0.140692                  0.015696   \n",
       "\n",
       "Term  HALLMARK_WNT_BETA_CATENIN_SIGNALING  HALLMARK_TGF_BETA_SIGNALING  \\\n",
       "0                                0.000912                    -0.108252   \n",
       "1                               -0.170931                    -0.248924   \n",
       "2                                0.007197                     0.237330   \n",
       "3                               -0.004602                     0.077655   \n",
       "4                                0.047852                    -0.141835   \n",
       "\n",
       "Term  HALLMARK_IL6_JAK_STAT3_SIGNALING  HALLMARK_DNA_REPAIR  \\\n",
       "0                            -0.233156             0.033632   \n",
       "1                             0.002412            -0.174453   \n",
       "2                            -0.136459            -0.015270   \n",
       "3                             0.098014            -0.054597   \n",
       "4                             0.137864             0.061840   \n",
       "\n",
       "Term  HALLMARK_G2M_CHECKPOINT  HALLMARK_APOPTOSIS  ...  \\\n",
       "0                    0.116258           -0.133944  ...   \n",
       "1                   -0.301876           -0.155838  ...   \n",
       "2                   -0.164894            0.042526  ...   \n",
       "3                   -0.305833            0.033218  ...   \n",
       "4                    0.139323            0.038013  ...   \n",
       "\n",
       "Term  HALLMARK_BILE_ACID_METABOLISM  HALLMARK_PEROXISOME  \\\n",
       "0                         -0.008876            -0.032706   \n",
       "1                          0.036429            -0.058782   \n",
       "2                          0.037845            -0.039292   \n",
       "3                          0.156386             0.051928   \n",
       "4                          0.040000             0.049685   \n",
       "\n",
       "Term  HALLMARK_ALLOGRAFT_REJECTION  HALLMARK_SPERMATOGENESIS  \\\n",
       "0                        -0.199412                  0.024886   \n",
       "1                        -0.003909                  0.023265   \n",
       "2                        -0.221847                 -0.083759   \n",
       "3                         0.029176                 -0.093136   \n",
       "4                         0.060367                  0.164028   \n",
       "\n",
       "Term  HALLMARK_KRAS_SIGNALING_UP  HALLMARK_KRAS_SIGNALING_DN  \\\n",
       "0                      -0.148326                    0.011204   \n",
       "1                      -0.014159                    0.185148   \n",
       "2                       0.038763                   -0.047330   \n",
       "3                      -0.092922                    0.033717   \n",
       "4                       0.109431                    0.053582   \n",
       "\n",
       "Term  HALLMARK_PANCREAS_BETA_CELLS  StromalSignature  ImmuneSignature  \\\n",
       "0                         0.037248         -0.367998        -0.401150   \n",
       "1                         0.113654          0.111218         0.109671   \n",
       "2                         0.086526          0.047064        -0.222452   \n",
       "3                         0.141789         -0.333156         0.063888   \n",
       "4                         0.151341         -0.251689         0.161098   \n",
       "\n",
       "Term  TumourCellularity_mRNA  \n",
       "0                   0.000033  \n",
       "1                  -0.000012  \n",
       "2                   0.000009  \n",
       "3                   0.000013  \n",
       "4                   0.000002  \n",
       "\n",
       "[5 rows x 53 columns]"
      ]
     },
     "execution_count": 40,
     "metadata": {},
     "output_type": "execute_result"
    }
   ],
   "source": [
    "components.head()"
   ]
  },
  {
   "cell_type": "markdown",
   "metadata": {},
   "source": [
    "### PCs barplots"
   ]
  },
  {
   "cell_type": "code",
   "execution_count": 41,
   "metadata": {},
   "outputs": [],
   "source": [
    "feature_names = pd.Series(components.columns.values,name='features')"
   ]
  },
  {
   "cell_type": "code",
   "execution_count": 42,
   "metadata": {},
   "outputs": [],
   "source": [
    "PCs = pca.components_\n",
    "\n",
    "pc_df = pd.DataFrame(PCs).T\n",
    "pc_df = pd.concat([feature_names,pc_df],axis=1)\n",
    "\n",
    "pc_df.set_index('features',inplace=True)"
   ]
  },
  {
   "cell_type": "code",
   "execution_count": 43,
   "metadata": {},
   "outputs": [],
   "source": [
    "fcolors = []\n",
    "for f in pc_df.index:\n",
    "    fcolors.append(color_sets[f])"
   ]
  },
  {
   "cell_type": "code",
   "execution_count": 44,
   "metadata": {},
   "outputs": [],
   "source": [
    "fcolors_df = pd.DataFrame({'index':pc_df.index,\n",
    "                           'color':pd.Series(fcolors)})\n",
    "\n",
    "fcolors_df.set_index('index',inplace=True)"
   ]
  },
  {
   "cell_type": "code",
   "execution_count": 45,
   "metadata": {},
   "outputs": [],
   "source": [
    "pc_df = pd.concat([pc_df,fcolors_df],axis=1)"
   ]
  },
  {
   "cell_type": "markdown",
   "metadata": {},
   "source": [
    "### Hallmarks colours"
   ]
  },
  {
   "cell_type": "code",
   "execution_count": 46,
   "metadata": {},
   "outputs": [],
   "source": [
    "colours = ['#0000E5','#007F00','#CC0000','#D3D3D3','k','purple']\n",
    "categories = ['stroma','immune','oncogenic','other','tumour_cellularity','stress']\n",
    "\n",
    "pc_df['category'] = pc_df.color.replace(colours,\n",
    "                                        categories)\n",
    "\n",
    "cat_order = ['tumour_cellularity','oncogenic','stress','immune','stroma','other']\n",
    "\n",
    "cat_type = CategoricalDtype(categories=cat_order,\n",
    "                            ordered=True)"
   ]
  },
  {
   "cell_type": "markdown",
   "metadata": {},
   "source": [
    "### Sort features within PCs"
   ]
  },
  {
   "cell_type": "code",
   "execution_count": 47,
   "metadata": {},
   "outputs": [],
   "source": [
    "pc_df['category'] = pc_df['category'].astype(cat_type)\n",
    "\n",
    "pc_df0 = pc_df.sort_values(by=['category',0],\n",
    "                           inplace=False)  \n",
    "\n",
    "pc_df0['feature'] = pc_df0.index\n",
    "\n",
    "pc_df1 = pc_df.sort_values(by=['category',1],\n",
    "                           inplace=False)\n",
    "\n",
    "pc_df1['feature'] = pc_df1.index\n",
    "\n",
    "pc_df2 = pc_df.sort_values(by=['category',2],\n",
    "                           inplace=False)\n",
    "\n",
    "pc_df2['feature'] = pc_df2.index\n",
    "\n",
    "pc_df3 = pc_df.sort_values(by=['category',3],\n",
    "                           inplace=False)  \n",
    "\n",
    "pc_df3['feature'] = pc_df3.index\n",
    "\n",
    "pc_df4 = pc_df.sort_values(by=['category',4],\n",
    "                           inplace=False)  \n",
    "\n",
    "pc_df4['feature'] = pc_df4.index\n",
    "\n",
    "pc_df5 = pc_df.sort_values(by=['category',5],\n",
    "                           inplace=False)  \n",
    "\n",
    "pc_df5['feature'] = pc_df5.index\n",
    "\n",
    "pc_df6 = pc_df.sort_values(by=['category',6],\n",
    "                           inplace=False) \n",
    "\n",
    "pc_df6['feature'] = pc_df6.index"
   ]
  },
  {
   "cell_type": "markdown",
   "metadata": {},
   "source": [
    "### Plot"
   ]
  },
  {
   "cell_type": "code",
   "execution_count": 48,
   "metadata": {},
   "outputs": [
    {
     "data": {
      "text/plain": [
       "[]"
      ]
     },
     "execution_count": 48,
     "metadata": {},
     "output_type": "execute_result"
    },
    {
     "data": {
      "image/png": "[encoded data removed]",
      "text/plain": [
       "<Figure size 288x792 with 7 Axes>"
      ]
     },
     "metadata": {},
     "output_type": "display_data"
    }
   ],
   "source": [
    "y_anotate=0.4\n",
    "\n",
    "fig,(ax0,ax1,ax2,ax3,ax4,ax5,ax6) = plt.subplots(nrows=7,\n",
    "                                                 ncols=1,\n",
    "                                                 figsize=(4, 11),\n",
    "                                                 sharex=True,\n",
    "                                                 sharey=True)                                               \n",
    "\n",
    "sns.barplot(x='feature',\n",
    "            y=0,\n",
    "            data=pc_df0,\n",
    "            palette=pc_df0.color,\n",
    "            ax=ax0)\n",
    "\n",
    "ax0.text(x=0,\n",
    "         y=y_anotate,\n",
    "         s=str(round(var_exp[0]*100,2))+'%')\n",
    "ax0.set_ylabel(\"PC1\")\n",
    "ax0.set_xlabel('')\n",
    "ax0.set_ylim([-0.5,0.5])\n",
    "sns.despine(bottom=True,trim=True,offset=5)\n",
    "\n",
    "\n",
    "sns.barplot(x='feature',\n",
    "            y=1,\n",
    "            data=pc_df1,\n",
    "            palette=pc_df1.color,\n",
    "            ax=ax1)\n",
    "\n",
    "ax1.text(x=0,\n",
    "         y=y_anotate,\n",
    "         s=str(round(var_exp[1]*100,2))+'%')\n",
    "ax1.set_ylabel(\"PC2\")\n",
    "ax1.set_xlabel('')\n",
    "\n",
    "\n",
    "sns.barplot(x='feature',\n",
    "            y=2,\n",
    "            data=pc_df2,\n",
    "            palette=pc_df2.color,\n",
    "            ax=ax2)\n",
    "\n",
    "ax2.text(x=0,\n",
    "         y=y_anotate,\n",
    "         s=str(round(var_exp[2]*100,2))+'%')\n",
    "ax2.set_ylabel(\"PC3\")\n",
    "ax2.set_xlabel('')\n",
    "\n",
    "\n",
    "sns.barplot(x='feature',\n",
    "            y=3,\n",
    "            data=pc_df3,\n",
    "            palette=pc_df3.color,\n",
    "            ax=ax3)\n",
    "\n",
    "ax3.text(x=0,\n",
    "         y=y_anotate,\n",
    "         s=str(round(var_exp[3]*100,2))+'%')\n",
    "ax3.set_ylabel(\"PC4\")\n",
    "ax3.set_xlabel('')\n",
    "\n",
    "\n",
    "sns.barplot(x='feature',\n",
    "            y=4,\n",
    "            data=pc_df4,\n",
    "            palette=pc_df4.color,\n",
    "            ax=ax4)\n",
    "\n",
    "ax4.text(x=0,\n",
    "         y=y_anotate,\n",
    "         s=str(round(var_exp[4]*100,2))+'%')\n",
    "ax4.set_ylabel(\"PC5\")\n",
    "ax4.set_xlabel('')\n",
    "\n",
    "\n",
    "sns.barplot(x='feature',\n",
    "            y=5,\n",
    "            data=pc_df5,\n",
    "            palette=pc_df5.color,\n",
    "            ax=ax5)\n",
    "\n",
    "ax5.text(x=0,\n",
    "         y=y_anotate,\n",
    "         s=str(round(var_exp[5]*100,2))+'%')\n",
    "ax5.set_ylabel(\"PC6\")\n",
    "ax5.set_xlabel('')\n",
    "\n",
    "sns.barplot(x='feature',\n",
    "            y=6,\n",
    "            data=pc_df6,\n",
    "            palette=pc_df6.color,\n",
    "            ax=ax6)\n",
    "\n",
    "ax6.text(x=0,y=y_anotate,\n",
    "         s=str(round(var_exp[6]*100,2))+'%')\n",
    "ax6.set_ylabel(\"PC7\")\n",
    "ax6.set_xlabel('')\n",
    "\n",
    "# Finalize the plot\n",
    "sns.despine(bottom=True,trim=True,offset=5)\n",
    "plt.setp(fig.axes,xticks=[])"
   ]
  },
  {
   "cell_type": "markdown",
   "metadata": {},
   "source": [
    "### Save plot"
   ]
  },
  {
   "cell_type": "code",
   "execution_count": null,
   "metadata": {},
   "outputs": [],
   "source": [
    "file_name = '../2.Plots/s5_c_NACT_unmatched_Hallmark_PCs_loadings.pdf'\n",
    "\n",
    "fig.savefig(file_name,\n",
    "            bbox='tight')"
   ]
  },
  {
   "cell_type": "markdown",
   "metadata": {},
   "source": [
    "# End script"
   ]
  },
  {
   "cell_type": "code",
   "execution_count": 49,
   "metadata": {},
   "outputs": [],
   "source": [
    "unmatched_stress = pc_df0[pc_df0[\"category\"] == \"stress\"][0]\n",
    "unmatched_immune = pc_df0[pc_df0[\"category\"] == \"immune\"][0]\n",
    "unmatched_stroma = pc_df0[pc_df0[\"category\"] == \"stroma\"][0]"
   ]
  },
  {
   "cell_type": "code",
   "execution_count": 50,
   "metadata": {},
   "outputs": [],
   "source": [
    "stress_df = pd.DataFrame({\n",
    "    \"matched\": matched_stress,\n",
    "    \"unmatched\": unmatched_stress\n",
    "})"
   ]
  },
  {
   "cell_type": "code",
   "execution_count": 51,
   "metadata": {},
   "outputs": [
    {
     "data": {
      "text/plain": [
       "<matplotlib.axes._subplots.AxesSubplot at 0x1a1ce18e80>"
      ]
     },
     "execution_count": 51,
     "metadata": {},
     "output_type": "execute_result"
    },
    {
     "data": {
      "image/png": "[encoded data removed]",
      "text/plain": [
       "<Figure size 432x288 with 1 Axes>"
      ]
     },
     "metadata": {},
     "output_type": "display_data"
    }
   ],
   "source": [
    "stress_df.plot(kind=\"box\", notch=True)"
   ]
  },
  {
   "cell_type": "code",
   "execution_count": 52,
   "metadata": {},
   "outputs": [],
   "source": [
    "immune_df = pd.DataFrame({\n",
    "    \"matched\": matched_immune,\n",
    "    \"unmatched\": unmatched_immune\n",
    "})"
   ]
  },
  {
   "cell_type": "code",
   "execution_count": 53,
   "metadata": {},
   "outputs": [
    {
     "data": {
      "text/plain": [
       "<matplotlib.axes._subplots.AxesSubplot at 0x1a1d048048>"
      ]
     },
     "execution_count": 53,
     "metadata": {},
     "output_type": "execute_result"
    },
    {
     "data": {
      "image/png": "[encoded data removed]",
      "text/plain": [
       "<Figure size 432x288 with 1 Axes>"
      ]
     },
     "metadata": {},
     "output_type": "display_data"
    }
   ],
   "source": [
    "immune_df.plot(kind=\"box\", notch=True)"
   ]
  },
  {
   "cell_type": "code",
   "execution_count": 54,
   "metadata": {},
   "outputs": [],
   "source": [
    "stroma_df = pd.DataFrame({\n",
    "    \"matched\": matched_stroma,\n",
    "    \"unmatched\": unmatched_stroma\n",
    "})"
   ]
  },
  {
   "cell_type": "code",
   "execution_count": 55,
   "metadata": {},
   "outputs": [
    {
     "data": {
      "text/plain": [
       "<matplotlib.axes._subplots.AxesSubplot at 0x1a1da5bac8>"
      ]
     },
     "execution_count": 55,
     "metadata": {},
     "output_type": "execute_result"
    },
    {
     "data": {
      "image/png": "[encoded data removed]",
      "text/plain": [
       "<Figure size 432x288 with 1 Axes>"
      ]
     },
     "metadata": {},
     "output_type": "display_data"
    }
   ],
   "source": [
    "stroma_df.plot(kind=\"box\", notch=False)"
   ]
  },
  {
   "cell_type": "code",
   "execution_count": 56,
   "metadata": {},
   "outputs": [],
   "source": [
    "import scipy.stats\n"
   ]
  },
  {
   "cell_type": "code",
   "execution_count": 57,
   "metadata": {},
   "outputs": [
    {
     "data": {
      "text/plain": [
       "Ttest_indResult(statistic=0.0, pvalue=1.0)"
      ]
     },
     "execution_count": 57,
     "metadata": {},
     "output_type": "execute_result"
    }
   ],
   "source": [
    "scipy.stats.ttest_ind(matched_stress, matched_stress)"
   ]
  },
  {
   "cell_type": "code",
   "execution_count": 58,
   "metadata": {},
   "outputs": [
    {
     "data": {
      "text/plain": [
       "Ttest_indResult(statistic=0.0, pvalue=1.0)"
      ]
     },
     "execution_count": 58,
     "metadata": {},
     "output_type": "execute_result"
    }
   ],
   "source": [
    "scipy.stats.ttest_ind(matched_immune, matched_immune)"
   ]
  },
  {
   "cell_type": "code",
   "execution_count": 59,
   "metadata": {},
   "outputs": [
    {
     "data": {
      "text/plain": [
       "Ttest_indResult(statistic=0.0, pvalue=1.0)"
      ]
     },
     "execution_count": 59,
     "metadata": {},
     "output_type": "execute_result"
    }
   ],
   "source": [
    "scipy.stats.ttest_ind(matched_stroma, matched_stroma)"
   ]
  },
  {
   "cell_type": "code",
   "execution_count": 60,
   "metadata": {},
   "outputs": [
    {
     "data": {
      "text/plain": [
       "<seaborn.axisgrid.FacetGrid at 0x1a1d49f438>"
      ]
     },
     "execution_count": 60,
     "metadata": {},
     "output_type": "execute_result"
    },
    {
     "data": {
      "image/png": "[encoded data removed]",
      "text/plain": [
       "<Figure size 360x360 with 1 Axes>"
      ]
     },
     "metadata": {},
     "output_type": "display_data"
    }
   ],
   "source": [
    "sns.lmplot(\n",
    "    x=\"HALLMARK_WNT_BETA_CATENIN_SIGNALING\",\n",
    "    y=\"ImmuneSignature\",\n",
    "    data=matched_nes_df.T)"
   ]
  },
  {
   "cell_type": "code",
   "execution_count": 61,
   "metadata": {},
   "outputs": [],
   "source": [
    "wnt=\"HALLMARK_WNT_BETA_CATENIN_SIGNALING\"\n",
    "mycv2=\"HALLMARK_MYC_TARGETS_V2\"\n",
    "y=\"ImmuneSignature\""
   ]
  },
  {
   "cell_type": "code",
   "execution_count": 69,
   "metadata": {},
   "outputs": [
    {
     "data": {
      "image/png": "[encoded data removed]",
      "text/plain": [
       "<Figure size 360x360 with 1 Axes>"
      ]
     },
     "metadata": {},
     "output_type": "display_data"
    }
   ],
   "source": [
    "x = mycv2\n",
    "\n",
    "df = matched_nes_df.T\n",
    "\n",
    "g = sns.lmplot(x=x,\n",
    "               y=y,\n",
    "               data=df,\n",
    "               truncate=True,\n",
    "               scatter_kws={'color':'None'},\n",
    "               line_kws={'color':'k',\n",
    "                         'zorder':0})\n",
    "\n",
    "for sample in df.index:\n",
    "    \n",
    "    x_tumcell = df[x][sample]\n",
    "    y_tumcell = df[y][sample]\n",
    "    \n",
    "    treatment = sample_labels[\"NACT\"][sample]\n",
    "    \n",
    "    colour = \"b\" if treatment == \"Untreated\" else \"r\"\n",
    "    \n",
    "    site = sample_labels[\"Site\"][sample]\n",
    "    \n",
    "    if site == \"ovary\":\n",
    "        marker = \"o\"\n",
    "    elif site == \"omentum\":\n",
    "        marker = \"^\"\n",
    "    else:\n",
    "        marker = \"s\"\n",
    "    \n",
    "    plt.scatter(x_tumcell,\n",
    "                y_tumcell,\n",
    "                marker=marker,\n",
    "                c=colour,\n",
    "                zorder=1)\n",
    "    \n",
    "axes = g.axes\n",
    "\n",
    "axes[0,0].set_xlim(0.15,0.35)\n",
    "axes[0,0].set_ylim(-0.1,0.4)\n",
    "    \n",
    "sns.despine(trim=False)"
   ]
  },
  {
   "cell_type": "code",
   "execution_count": null,
   "metadata": {},
   "outputs": [],
   "source": [
    "g.savefig('../2.Plots/s5_d_'+x+'_Immune_corr_unmatched.pdf',\n",
    "          bbox='tight')"
   ]
  },
  {
   "cell_type": "code",
   "execution_count": 70,
   "metadata": {},
   "outputs": [
    {
     "data": {
      "text/plain": [
       "KendalltauResult(correlation=-0.3856209150326798, pvalue=0.02543150936259153)"
      ]
     },
     "execution_count": 70,
     "metadata": {},
     "output_type": "execute_result"
    }
   ],
   "source": [
    "scipy.stats.kendalltau(\n",
    "    list(df.dropna()[x]),\n",
    "    list(df.dropna()[y]),method=\"asymptotic\")"
   ]
  },
  {
   "cell_type": "code",
   "execution_count": 70,
   "metadata": {},
   "outputs": [
    {
     "name": "stdout",
     "output_type": "stream",
     "text": [
      "HALLMARK_MYC_TARGETS_V2\n",
      "\n",
      "Normal\n",
      "HETEROscedastic\n",
      "\n",
      "KENDALL\n",
      "KendalltauResult(correlation=-0.15789473684210528, pvalue=0.16287071087412586)\n",
      "HALLMARK_WNT_BETA_CATENIN_SIGNALING\n",
      "\n",
      "Normal\n",
      "HETEROscedastic\n",
      "\n",
      "KENDALL\n",
      "KendalltauResult(correlation=0.052631578947368425, pvalue=0.6418165399455933)\n"
     ]
    }
   ],
   "source": [
    "df = unmatched_nes_df.T\n",
    "\n",
    "correlations = []\n",
    "for hallmark in set([wnt,mycv2]):\n",
    "    \n",
    "    x = hallmark\n",
    "\n",
    "    print(hallmark+\"\\n\")\n",
    "\n",
    "    x_values = df[x].values\n",
    "    y_values = df[\"ImmuneSignature\"].values\n",
    "\n",
    "    n1 = scipy.stats.shapiro(x_values)[1]\n",
    "    n2 = scipy.stats.shapiro(y_values)[1]\n",
    "\n",
    "    n3 = scipy.stats.normaltest(x_values)[1]\n",
    "    n4 = scipy.stats.normaltest(y_values)[1]\n",
    "\n",
    "    n5 = scipy.stats.anderson(x_values)\n",
    "    n6 = scipy.stats.anderson(y_values)\n",
    "\n",
    "    if min([n1,n2]) < 0.05: # it's not normal\n",
    "\n",
    "        print(\"NOT normal\")\n",
    "\n",
    "        h1 = scipy.stats.levene(x_values, y_values)[1]\n",
    "\n",
    "        if h1 < 0.05:\n",
    "            print(\"HETEROscedastic\\n\")\n",
    "            #print(h1)\n",
    "        else:\n",
    "            print(\"HOMOscedastic\\n\")\n",
    "\n",
    "    else:\n",
    "\n",
    "        print(\"Normal\")\n",
    "\n",
    "        h1 = scipy.stats.bartlett(x_values,y_values)[1]\n",
    "\n",
    "        if h1 < 0.05:\n",
    "            print(\"HETEROscedastic\\n\")\n",
    "        else:\n",
    "            print(\"HOMOscedastic\\n\")\n",
    "\n",
    "    if min([n1,n2,h1]) < 0.05:\n",
    "\n",
    "        print(\"KENDALL\")\n",
    "\n",
    "        print(scipy.stats.kendalltau(x_values,y_values))\n",
    "\n",
    "        cor, p_val = scipy.stats.kendalltau(x_values,y_values)\n",
    "\n",
    "    else:\n",
    "\n",
    "        print(\"anderson\")\n",
    "\n",
    "        print(n5[0], n5[1])\n",
    "        print(n6[0], n6[1])\n",
    "        print(\"\\n\")\n",
    "\n",
    "        print(\"PEARSON\")\n",
    "        print(scipy.stats.pearsonr(x_values,y_values))\n",
    "\n",
    "        print(\"\\n\")\n",
    "\n",
    "        cor, p_val = scipy.stats.pearsonr(x_values,y_values)\n",
    "\n",
    "    correlations.append((hallmark,cor,p_val))"
   ]
  },
  {
   "cell_type": "code",
   "execution_count": 66,
   "metadata": {},
   "outputs": [
    {
     "data": {
      "text/plain": [
       "(0.9672152996063232, 0.3223339021205902)"
      ]
     },
     "execution_count": 66,
     "metadata": {},
     "output_type": "execute_result"
    }
   ],
   "source": [
    "scipy.stats.shapiro(df.dropna()[x])"
   ]
  },
  {
   "cell_type": "code",
   "execution_count": 67,
   "metadata": {},
   "outputs": [
    {
     "data": {
      "text/plain": [
       "(0.961296796798706, 0.20915579795837402)"
      ]
     },
     "execution_count": 67,
     "metadata": {},
     "output_type": "execute_result"
    }
   ],
   "source": [
    "scipy.stats.shapiro(df.dropna()[y])"
   ]
  },
  {
   "cell_type": "code",
   "execution_count": null,
   "metadata": {},
   "outputs": [],
   "source": []
  }
 ],
 "metadata": {
  "kernelspec": {
   "display_name": "Python 3",
   "language": "python",
   "name": "python3"
  },
  "language_info": {
   "codemirror_mode": {
    "name": "ipython",
    "version": 3
   },
   "file_extension": ".py",
   "mimetype": "text/x-python",
   "name": "python",
   "nbconvert_exporter": "python",
   "pygments_lexer": "ipython3",
   "version": "3.6.8"
  }
 },
 "nbformat": 4,
 "nbformat_minor": 2
}

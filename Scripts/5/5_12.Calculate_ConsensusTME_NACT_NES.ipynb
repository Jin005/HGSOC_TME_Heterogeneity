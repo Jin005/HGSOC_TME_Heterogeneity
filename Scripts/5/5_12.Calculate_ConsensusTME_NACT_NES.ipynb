{
 "cells": [
  {
   "cell_type": "markdown",
   "metadata": {},
   "source": [
    "# Calculate normalised enrichment scores of ConsensusTME gene sets"
   ]
  },
  {
   "cell_type": "markdown",
   "metadata": {},
   "source": [
    "Script related to figure 5d\n",
    "\n",
    "Aim:\n",
    "- Calculate NES of ConsensusTME Gene Sets"
   ]
  },
  {
   "cell_type": "markdown",
   "metadata": {},
   "source": [
    "## Load packages"
   ]
  },
  {
   "cell_type": "code",
   "execution_count": 1,
   "metadata": {},
   "outputs": [
    {
     "name": "stderr",
     "output_type": "stream",
     "text": [
      "Warning message:\n",
      "“package ‘GSVA’ was built under R version 3.5.1”\n",
      "Attaching package: ‘BBmisc’\n",
      "\n",
      "The following object is masked from ‘package:base’:\n",
      "\n",
      "    isFALSE\n",
      "\n"
     ]
    }
   ],
   "source": [
    "library(GSVA)\n",
    "library(BBmisc)\n",
    "library(nortest)"
   ]
  },
  {
   "cell_type": "code",
   "execution_count": 2,
   "metadata": {},
   "outputs": [],
   "source": [
    "setwd(\"~/Documents/PhD/Software/Scripts/OVCT/1.REBUTTAL/0.Figures/5/0.Scripts/\")"
   ]
  },
  {
   "cell_type": "markdown",
   "metadata": {},
   "source": [
    "## Load expression data"
   ]
  },
  {
   "cell_type": "code",
   "execution_count": 3,
   "metadata": {},
   "outputs": [],
   "source": [
    "data <- read.csv('../1.Data/NACT_log2exp_loess_norm.txt',\n",
    "                 sep='\\t',\n",
    "                 header=T,\n",
    "                 row.names='Hugo_Symbol')"
   ]
  },
  {
   "cell_type": "code",
   "execution_count": 4,
   "metadata": {},
   "outputs": [
    {
     "data": {
      "text/html": [
       "<table>\n",
       "<thead><tr><th></th><th scope=col>A01</th><th scope=col>A02</th><th scope=col>A03</th><th scope=col>A04</th><th scope=col>A05</th><th scope=col>A06</th><th scope=col>A07</th><th scope=col>A08</th><th scope=col>A09</th><th scope=col>A10</th><th scope=col>⋯</th><th scope=col>D12</th><th scope=col>E01</th><th scope=col>E02</th><th scope=col>E03</th><th scope=col>E04</th><th scope=col>E05</th><th scope=col>E06</th><th scope=col>E07</th><th scope=col>E08</th><th scope=col>E09</th></tr></thead>\n",
       "<tbody>\n",
       "\t<tr><th scope=row>A1BG</th><td>3.878105</td><td>3.954775</td><td>3.854334</td><td>3.974302</td><td>3.760565</td><td>3.757145</td><td>3.734362</td><td>3.935987</td><td>3.807211</td><td>3.514725</td><td>⋯       </td><td>3.919331</td><td>3.896646</td><td>4.027690</td><td>3.685888</td><td>3.765937</td><td>4.086110</td><td>4.000239</td><td>3.662362</td><td>3.896871</td><td>3.654871</td></tr>\n",
       "\t<tr><th scope=row>A2BP1</th><td>2.862997</td><td>3.279474</td><td>3.957806</td><td>3.993876</td><td>3.641308</td><td>3.249292</td><td>3.347323</td><td>3.358668</td><td>3.616479</td><td>3.572950</td><td>⋯       </td><td>3.490291</td><td>4.059473</td><td>3.679676</td><td>3.418869</td><td>2.924245</td><td>3.346328</td><td>3.899451</td><td>3.933936</td><td>4.425151</td><td>3.723115</td></tr>\n",
       "\t<tr><th scope=row>A2M</th><td>5.516461</td><td>5.882656</td><td>6.421447</td><td>5.980470</td><td>5.049547</td><td>5.220719</td><td>5.492205</td><td>6.471173</td><td>5.341425</td><td>5.482726</td><td>⋯       </td><td>6.366298</td><td>6.483692</td><td>5.784733</td><td>4.950854</td><td>6.164623</td><td>4.974455</td><td>6.709993</td><td>6.645714</td><td>6.391323</td><td>6.134008</td></tr>\n",
       "\t<tr><th scope=row>A2ML1</th><td>3.958668</td><td>4.100177</td><td>3.250522</td><td>3.396357</td><td>3.851866</td><td>4.052745</td><td>3.635604</td><td>3.143886</td><td>3.999510</td><td>3.988277</td><td>⋯       </td><td>3.300078</td><td>3.488284</td><td>3.120832</td><td>3.868837</td><td>3.519030</td><td>3.891299</td><td>3.151470</td><td>3.353788</td><td>3.617326</td><td>3.950268</td></tr>\n",
       "\t<tr><th scope=row>A4GALT</th><td>3.087003</td><td>2.995708</td><td>3.395173</td><td>2.859539</td><td>2.976988</td><td>3.332730</td><td>3.317251</td><td>3.490682</td><td>3.087911</td><td>3.153865</td><td>⋯       </td><td>3.440970</td><td>3.364598</td><td>3.214461</td><td>2.922184</td><td>3.054724</td><td>2.811116</td><td>2.929423</td><td>3.364648</td><td>3.325120</td><td>3.196659</td></tr>\n",
       "\t<tr><th scope=row>A4GNT</th><td>3.048008</td><td>3.623636</td><td>3.348870</td><td>3.562907</td><td>3.620267</td><td>3.860816</td><td>3.424986</td><td>3.407024</td><td>3.285399</td><td>3.292239</td><td>⋯       </td><td>3.248061</td><td>3.458406</td><td>3.667137</td><td>3.574454</td><td>3.636023</td><td>3.457226</td><td>3.509265</td><td>3.593513</td><td>3.984337</td><td>3.447052</td></tr>\n",
       "</tbody>\n",
       "</table>\n"
      ],
      "text/latex": [
       "\\begin{tabular}{r|llllllllllllllllllllllllllllllllllllllllllllllllllllllll}\n",
       "  & A01 & A02 & A03 & A04 & A05 & A06 & A07 & A08 & A09 & A10 & ⋯ & D12 & E01 & E02 & E03 & E04 & E05 & E06 & E07 & E08 & E09\\\\\n",
       "\\hline\n",
       "\tA1BG & 3.878105 & 3.954775 & 3.854334 & 3.974302 & 3.760565 & 3.757145 & 3.734362 & 3.935987 & 3.807211 & 3.514725 & ⋯        & 3.919331 & 3.896646 & 4.027690 & 3.685888 & 3.765937 & 4.086110 & 4.000239 & 3.662362 & 3.896871 & 3.654871\\\\\n",
       "\tA2BP1 & 2.862997 & 3.279474 & 3.957806 & 3.993876 & 3.641308 & 3.249292 & 3.347323 & 3.358668 & 3.616479 & 3.572950 & ⋯        & 3.490291 & 4.059473 & 3.679676 & 3.418869 & 2.924245 & 3.346328 & 3.899451 & 3.933936 & 4.425151 & 3.723115\\\\\n",
       "\tA2M & 5.516461 & 5.882656 & 6.421447 & 5.980470 & 5.049547 & 5.220719 & 5.492205 & 6.471173 & 5.341425 & 5.482726 & ⋯        & 6.366298 & 6.483692 & 5.784733 & 4.950854 & 6.164623 & 4.974455 & 6.709993 & 6.645714 & 6.391323 & 6.134008\\\\\n",
       "\tA2ML1 & 3.958668 & 4.100177 & 3.250522 & 3.396357 & 3.851866 & 4.052745 & 3.635604 & 3.143886 & 3.999510 & 3.988277 & ⋯        & 3.300078 & 3.488284 & 3.120832 & 3.868837 & 3.519030 & 3.891299 & 3.151470 & 3.353788 & 3.617326 & 3.950268\\\\\n",
       "\tA4GALT & 3.087003 & 2.995708 & 3.395173 & 2.859539 & 2.976988 & 3.332730 & 3.317251 & 3.490682 & 3.087911 & 3.153865 & ⋯        & 3.440970 & 3.364598 & 3.214461 & 2.922184 & 3.054724 & 2.811116 & 2.929423 & 3.364648 & 3.325120 & 3.196659\\\\\n",
       "\tA4GNT & 3.048008 & 3.623636 & 3.348870 & 3.562907 & 3.620267 & 3.860816 & 3.424986 & 3.407024 & 3.285399 & 3.292239 & ⋯        & 3.248061 & 3.458406 & 3.667137 & 3.574454 & 3.636023 & 3.457226 & 3.509265 & 3.593513 & 3.984337 & 3.447052\\\\\n",
       "\\end{tabular}\n"
      ],
      "text/markdown": [
       "\n",
       "| <!--/--> | A01 | A02 | A03 | A04 | A05 | A06 | A07 | A08 | A09 | A10 | ⋯ | D12 | E01 | E02 | E03 | E04 | E05 | E06 | E07 | E08 | E09 | \n",
       "|---|---|---|---|---|---|\n",
       "| A1BG | 3.878105 | 3.954775 | 3.854334 | 3.974302 | 3.760565 | 3.757145 | 3.734362 | 3.935987 | 3.807211 | 3.514725 | ⋯        | 3.919331 | 3.896646 | 4.027690 | 3.685888 | 3.765937 | 4.086110 | 4.000239 | 3.662362 | 3.896871 | 3.654871 | \n",
       "| A2BP1 | 2.862997 | 3.279474 | 3.957806 | 3.993876 | 3.641308 | 3.249292 | 3.347323 | 3.358668 | 3.616479 | 3.572950 | ⋯        | 3.490291 | 4.059473 | 3.679676 | 3.418869 | 2.924245 | 3.346328 | 3.899451 | 3.933936 | 4.425151 | 3.723115 | \n",
       "| A2M | 5.516461 | 5.882656 | 6.421447 | 5.980470 | 5.049547 | 5.220719 | 5.492205 | 6.471173 | 5.341425 | 5.482726 | ⋯        | 6.366298 | 6.483692 | 5.784733 | 4.950854 | 6.164623 | 4.974455 | 6.709993 | 6.645714 | 6.391323 | 6.134008 | \n",
       "| A2ML1 | 3.958668 | 4.100177 | 3.250522 | 3.396357 | 3.851866 | 4.052745 | 3.635604 | 3.143886 | 3.999510 | 3.988277 | ⋯        | 3.300078 | 3.488284 | 3.120832 | 3.868837 | 3.519030 | 3.891299 | 3.151470 | 3.353788 | 3.617326 | 3.950268 | \n",
       "| A4GALT | 3.087003 | 2.995708 | 3.395173 | 2.859539 | 2.976988 | 3.332730 | 3.317251 | 3.490682 | 3.087911 | 3.153865 | ⋯        | 3.440970 | 3.364598 | 3.214461 | 2.922184 | 3.054724 | 2.811116 | 2.929423 | 3.364648 | 3.325120 | 3.196659 | \n",
       "| A4GNT | 3.048008 | 3.623636 | 3.348870 | 3.562907 | 3.620267 | 3.860816 | 3.424986 | 3.407024 | 3.285399 | 3.292239 | ⋯        | 3.248061 | 3.458406 | 3.667137 | 3.574454 | 3.636023 | 3.457226 | 3.509265 | 3.593513 | 3.984337 | 3.447052 | \n",
       "\n",
       "\n"
      ],
      "text/plain": [
       "       A01      A02      A03      A04      A05      A06      A07      A08     \n",
       "A1BG   3.878105 3.954775 3.854334 3.974302 3.760565 3.757145 3.734362 3.935987\n",
       "A2BP1  2.862997 3.279474 3.957806 3.993876 3.641308 3.249292 3.347323 3.358668\n",
       "A2M    5.516461 5.882656 6.421447 5.980470 5.049547 5.220719 5.492205 6.471173\n",
       "A2ML1  3.958668 4.100177 3.250522 3.396357 3.851866 4.052745 3.635604 3.143886\n",
       "A4GALT 3.087003 2.995708 3.395173 2.859539 2.976988 3.332730 3.317251 3.490682\n",
       "A4GNT  3.048008 3.623636 3.348870 3.562907 3.620267 3.860816 3.424986 3.407024\n",
       "       A09      A10      ⋯ D12      E01      E02      E03      E04     \n",
       "A1BG   3.807211 3.514725 ⋯ 3.919331 3.896646 4.027690 3.685888 3.765937\n",
       "A2BP1  3.616479 3.572950 ⋯ 3.490291 4.059473 3.679676 3.418869 2.924245\n",
       "A2M    5.341425 5.482726 ⋯ 6.366298 6.483692 5.784733 4.950854 6.164623\n",
       "A2ML1  3.999510 3.988277 ⋯ 3.300078 3.488284 3.120832 3.868837 3.519030\n",
       "A4GALT 3.087911 3.153865 ⋯ 3.440970 3.364598 3.214461 2.922184 3.054724\n",
       "A4GNT  3.285399 3.292239 ⋯ 3.248061 3.458406 3.667137 3.574454 3.636023\n",
       "       E05      E06      E07      E08      E09     \n",
       "A1BG   4.086110 4.000239 3.662362 3.896871 3.654871\n",
       "A2BP1  3.346328 3.899451 3.933936 4.425151 3.723115\n",
       "A2M    4.974455 6.709993 6.645714 6.391323 6.134008\n",
       "A2ML1  3.891299 3.151470 3.353788 3.617326 3.950268\n",
       "A4GALT 2.811116 2.929423 3.364648 3.325120 3.196659\n",
       "A4GNT  3.457226 3.509265 3.593513 3.984337 3.447052"
      ]
     },
     "metadata": {},
     "output_type": "display_data"
    }
   ],
   "source": [
    "head(data)"
   ]
  },
  {
   "cell_type": "code",
   "execution_count": 5,
   "metadata": {},
   "outputs": [],
   "source": [
    "data_mtx <- as.matrix(data)"
   ]
  },
  {
   "cell_type": "markdown",
   "metadata": {},
   "source": [
    "## Load ConsensusTME gene sets"
   ]
  },
  {
   "cell_type": "code",
   "execution_count": 6,
   "metadata": {},
   "outputs": [],
   "source": [
    "ConTME_GeneSets <- read.csv('../1.Data/ConsensusTME_GeneSets.txt',\n",
    "                            sep='\\t',\n",
    "                            header=T)"
   ]
  },
  {
   "cell_type": "code",
   "execution_count": 7,
   "metadata": {},
   "outputs": [
    {
     "data": {
      "text/html": [
       "<table>\n",
       "<thead><tr><th scope=col>B_cells</th><th scope=col>Cytotoxic_cells</th><th scope=col>Dendritic_cells</th><th scope=col>Endothelial</th><th scope=col>Eosinophils</th><th scope=col>Fibroblasts</th><th scope=col>Macrophages</th><th scope=col>Macrophages_M1</th><th scope=col>Macrophages_M2</th><th scope=col>Mast_cells</th><th scope=col>Monocytes</th><th scope=col>NK_cells</th><th scope=col>Neutrophils</th><th scope=col>Plasma_cells</th><th scope=col>T_cells_CD4</th><th scope=col>T_cells_CD8</th><th scope=col>T_cells_gamma_delta</th><th scope=col>T_regulatory_cells</th></tr></thead>\n",
       "<tbody>\n",
       "\t<tr><td>BLNK    </td><td>CTSW    </td><td>BCL2A1  </td><td>CD93    </td><td>ABHD2   </td><td>ABCA6   </td><td>ACTR2   </td><td>ACTR2   </td><td>AIF1    </td><td>ATP6V1C1</td><td>AIF1    </td><td>APOBEC3G</td><td>BCL2A1  </td><td>CD27    </td><td>AIM2    </td><td>BCL11B  </td><td>APOBEC3G</td><td>CCR7    </td></tr>\n",
       "\t<tr><td>CD1C    </td><td>GZMA    </td><td>BIRC3   </td><td>CDH5    </td><td>BCL2A1  </td><td>ASPN    </td><td>ATG7    </td><td>CCL19   </td><td>ATP6V1C1</td><td>CCL4    </td><td>AKAP13  </td><td>CCL4    </td><td>C5AR1   </td><td>CD38    </td><td>ARHGAP15</td><td>BIN2    </td><td>CCL4    </td><td>CD2     </td></tr>\n",
       "\t<tr><td>CD37    </td><td>GZMB    </td><td>CCL19   </td><td>EMCN    </td><td>CCL4    </td><td>COL3A1  </td><td>ATP6V1C1</td><td>CCL4    </td><td>CLEC10A </td><td>CD84    </td><td>C5AR1   </td><td>CCR5    </td><td>CSF2RB  </td><td>CYBA    </td><td>BATF    </td><td>CCL4    </td><td>CCR2    </td><td>CD247   </td></tr>\n",
       "\t<tr><td>CD53    </td><td>GZMH    </td><td>CCL4    </td><td>ERG     </td><td>CCR1    </td><td>DCN     </td><td>BCL2A1  </td><td>CCR1    </td><td>CLEC4A  </td><td>LCP2    </td><td>CCR2    </td><td>CD2     </td><td>CSF3R   </td><td>ENTPD1  </td><td>BCL11B  </td><td>CCR5    </td><td>CCR5    </td><td>CD27    </td></tr>\n",
       "\t<tr><td>CD69    </td><td>KLRB1   </td><td>CCR2    </td><td>KDR     </td><td>CD69    </td><td>GREM1   </td><td>C5AR1   </td><td>CCR7    </td><td>FGR     </td><td>MMP9    </td><td>CD244   </td><td>CD244   </td><td>FCGR3B  </td><td>HSPA6   </td><td>CCL4    </td><td>CCR7    </td><td>CD2     </td><td>CD37    </td></tr>\n",
       "\t<tr><td>CD80    </td><td>KLRK1   </td><td>CCR5    </td><td>PCDH12  </td><td>CSF2RB  </td><td>ISLR    </td><td>CCL19   </td><td>CD38    </td><td>HCK     </td><td>SAMSN1  </td><td>CD37    </td><td>CD247   </td><td>FPR1    </td><td>MTDH    </td><td>CCR2    </td><td>CD2     </td><td>CD244   </td><td>CD3E    </td></tr>\n",
       "</tbody>\n",
       "</table>\n"
      ],
      "text/latex": [
       "\\begin{tabular}{r|llllllllllllllllll}\n",
       " B\\_cells & Cytotoxic\\_cells & Dendritic\\_cells & Endothelial & Eosinophils & Fibroblasts & Macrophages & Macrophages\\_M1 & Macrophages\\_M2 & Mast\\_cells & Monocytes & NK\\_cells & Neutrophils & Plasma\\_cells & T\\_cells\\_CD4 & T\\_cells\\_CD8 & T\\_cells\\_gamma\\_delta & T\\_regulatory\\_cells\\\\\n",
       "\\hline\n",
       "\t BLNK     & CTSW     & BCL2A1   & CD93     & ABHD2    & ABCA6    & ACTR2    & ACTR2    & AIF1     & ATP6V1C1 & AIF1     & APOBEC3G & BCL2A1   & CD27     & AIM2     & BCL11B   & APOBEC3G & CCR7    \\\\\n",
       "\t CD1C     & GZMA     & BIRC3    & CDH5     & BCL2A1   & ASPN     & ATG7     & CCL19    & ATP6V1C1 & CCL4     & AKAP13   & CCL4     & C5AR1    & CD38     & ARHGAP15 & BIN2     & CCL4     & CD2     \\\\\n",
       "\t CD37     & GZMB     & CCL19    & EMCN     & CCL4     & COL3A1   & ATP6V1C1 & CCL4     & CLEC10A  & CD84     & C5AR1    & CCR5     & CSF2RB   & CYBA     & BATF     & CCL4     & CCR2     & CD247   \\\\\n",
       "\t CD53     & GZMH     & CCL4     & ERG      & CCR1     & DCN      & BCL2A1   & CCR1     & CLEC4A   & LCP2     & CCR2     & CD2      & CSF3R    & ENTPD1   & BCL11B   & CCR5     & CCR5     & CD27    \\\\\n",
       "\t CD69     & KLRB1    & CCR2     & KDR      & CD69     & GREM1    & C5AR1    & CCR7     & FGR      & MMP9     & CD244    & CD244    & FCGR3B   & HSPA6    & CCL4     & CCR7     & CD2      & CD37    \\\\\n",
       "\t CD80     & KLRK1    & CCR5     & PCDH12   & CSF2RB   & ISLR     & CCL19    & CD38     & HCK      & SAMSN1   & CD37     & CD247    & FPR1     & MTDH     & CCR2     & CD2      & CD244    & CD3E    \\\\\n",
       "\\end{tabular}\n"
      ],
      "text/markdown": [
       "\n",
       "B_cells | Cytotoxic_cells | Dendritic_cells | Endothelial | Eosinophils | Fibroblasts | Macrophages | Macrophages_M1 | Macrophages_M2 | Mast_cells | Monocytes | NK_cells | Neutrophils | Plasma_cells | T_cells_CD4 | T_cells_CD8 | T_cells_gamma_delta | T_regulatory_cells | \n",
       "|---|---|---|---|---|---|\n",
       "| BLNK     | CTSW     | BCL2A1   | CD93     | ABHD2    | ABCA6    | ACTR2    | ACTR2    | AIF1     | ATP6V1C1 | AIF1     | APOBEC3G | BCL2A1   | CD27     | AIM2     | BCL11B   | APOBEC3G | CCR7     | \n",
       "| CD1C     | GZMA     | BIRC3    | CDH5     | BCL2A1   | ASPN     | ATG7     | CCL19    | ATP6V1C1 | CCL4     | AKAP13   | CCL4     | C5AR1    | CD38     | ARHGAP15 | BIN2     | CCL4     | CD2      | \n",
       "| CD37     | GZMB     | CCL19    | EMCN     | CCL4     | COL3A1   | ATP6V1C1 | CCL4     | CLEC10A  | CD84     | C5AR1    | CCR5     | CSF2RB   | CYBA     | BATF     | CCL4     | CCR2     | CD247    | \n",
       "| CD53     | GZMH     | CCL4     | ERG      | CCR1     | DCN      | BCL2A1   | CCR1     | CLEC4A   | LCP2     | CCR2     | CD2      | CSF3R    | ENTPD1   | BCL11B   | CCR5     | CCR5     | CD27     | \n",
       "| CD69     | KLRB1    | CCR2     | KDR      | CD69     | GREM1    | C5AR1    | CCR7     | FGR      | MMP9     | CD244    | CD244    | FCGR3B   | HSPA6    | CCL4     | CCR7     | CD2      | CD37     | \n",
       "| CD80     | KLRK1    | CCR5     | PCDH12   | CSF2RB   | ISLR     | CCL19    | CD38     | HCK      | SAMSN1   | CD37     | CD247    | FPR1     | MTDH     | CCR2     | CD2      | CD244    | CD3E     | \n",
       "\n",
       "\n"
      ],
      "text/plain": [
       "  B_cells Cytotoxic_cells Dendritic_cells Endothelial Eosinophils Fibroblasts\n",
       "1 BLNK    CTSW            BCL2A1          CD93        ABHD2       ABCA6      \n",
       "2 CD1C    GZMA            BIRC3           CDH5        BCL2A1      ASPN       \n",
       "3 CD37    GZMB            CCL19           EMCN        CCL4        COL3A1     \n",
       "4 CD53    GZMH            CCL4            ERG         CCR1        DCN        \n",
       "5 CD69    KLRB1           CCR2            KDR         CD69        GREM1      \n",
       "6 CD80    KLRK1           CCR5            PCDH12      CSF2RB      ISLR       \n",
       "  Macrophages Macrophages_M1 Macrophages_M2 Mast_cells Monocytes NK_cells\n",
       "1 ACTR2       ACTR2          AIF1           ATP6V1C1   AIF1      APOBEC3G\n",
       "2 ATG7        CCL19          ATP6V1C1       CCL4       AKAP13    CCL4    \n",
       "3 ATP6V1C1    CCL4           CLEC10A        CD84       C5AR1     CCR5    \n",
       "4 BCL2A1      CCR1           CLEC4A         LCP2       CCR2      CD2     \n",
       "5 C5AR1       CCR7           FGR            MMP9       CD244     CD244   \n",
       "6 CCL19       CD38           HCK            SAMSN1     CD37      CD247   \n",
       "  Neutrophils Plasma_cells T_cells_CD4 T_cells_CD8 T_cells_gamma_delta\n",
       "1 BCL2A1      CD27         AIM2        BCL11B      APOBEC3G           \n",
       "2 C5AR1       CD38         ARHGAP15    BIN2        CCL4               \n",
       "3 CSF2RB      CYBA         BATF        CCL4        CCR2               \n",
       "4 CSF3R       ENTPD1       BCL11B      CCR5        CCR5               \n",
       "5 FCGR3B      HSPA6        CCL4        CCR7        CD2                \n",
       "6 FPR1        MTDH         CCR2        CD2         CD244              \n",
       "  T_regulatory_cells\n",
       "1 CCR7              \n",
       "2 CD2               \n",
       "3 CD247             \n",
       "4 CD27              \n",
       "5 CD37              \n",
       "6 CD3E              "
      ]
     },
     "metadata": {},
     "output_type": "display_data"
    }
   ],
   "source": [
    "head(ConTME_GeneSets)"
   ]
  },
  {
   "cell_type": "code",
   "execution_count": 8,
   "metadata": {},
   "outputs": [],
   "source": [
    "ConTME_GeneSets <- convertRowsToList(t(ConTME_GeneSets))"
   ]
  },
  {
   "cell_type": "markdown",
   "metadata": {},
   "source": [
    "## Run ssGSEA"
   ]
  },
  {
   "cell_type": "code",
   "execution_count": 9,
   "metadata": {},
   "outputs": [
    {
     "name": "stdout",
     "output_type": "stream",
     "text": [
      "Estimating ssGSEA scores for 18 gene sets.\n",
      "  |                                                                      |   0%Using parallel with 4 cores\n",
      "  |======================================================================| 100%\n"
     ]
    }
   ],
   "source": [
    "con_NES <- gsva(data_mtx,\n",
    "                ConTME_GeneSets,\n",
    "                method='ssgsea',\n",
    "                min.sz=0,\n",
    "                max.sz=1000,\n",
    "                ssgsea.norm=T)"
   ]
  },
  {
   "cell_type": "code",
   "execution_count": 10,
   "metadata": {},
   "outputs": [],
   "source": [
    "con_NES <- data.frame(\"Term\"=rownames(con_NES),\n",
    "                      con_NES)\n",
    "\n",
    "rownames(con_NES) <- NULL"
   ]
  },
  {
   "cell_type": "code",
   "execution_count": 11,
   "metadata": {},
   "outputs": [
    {
     "data": {
      "text/html": [
       "<table>\n",
       "<thead><tr><th scope=col>Term</th><th scope=col>A01</th><th scope=col>A02</th><th scope=col>A03</th><th scope=col>A04</th><th scope=col>A05</th><th scope=col>A06</th><th scope=col>A07</th><th scope=col>A08</th><th scope=col>A09</th><th scope=col>⋯</th><th scope=col>D12</th><th scope=col>E01</th><th scope=col>E02</th><th scope=col>E03</th><th scope=col>E04</th><th scope=col>E05</th><th scope=col>E06</th><th scope=col>E07</th><th scope=col>E08</th><th scope=col>E09</th></tr></thead>\n",
       "<tbody>\n",
       "\t<tr><td>B_cells        </td><td> 0.25447672    </td><td> 0.183183189   </td><td>0.3284338      </td><td>0.2229200      </td><td> 0.15844626    </td><td> 0.20860760    </td><td> 0.15361592    </td><td>0.2414991      </td><td> 0.22717137    </td><td>⋯              </td><td> 0.2823974     </td><td> 0.2002388     </td><td>0.26857241     </td><td> 0.13562496    </td><td>0.23782882     </td><td> 0.17423512    </td><td>0.34660122     </td><td>0.4513493      </td><td>0.34505896     </td><td>0.2619221527   </td></tr>\n",
       "\t<tr><td>Cytotoxic_cells</td><td> 0.16012391    </td><td> 0.086828263   </td><td>0.2507825      </td><td>0.4692830      </td><td> 0.14999672    </td><td> 0.28042125    </td><td> 0.18301517    </td><td>0.1361316      </td><td>-0.01399558    </td><td>⋯              </td><td> 0.1198117     </td><td> 0.1284513     </td><td>0.05374303     </td><td>-0.06138098    </td><td>0.26491631     </td><td> 0.13040588    </td><td>0.05608712     </td><td>0.4264933      </td><td>0.24274575     </td><td>0.0008346503   </td></tr>\n",
       "\t<tr><td>Dendritic_cells</td><td> 0.23412023    </td><td> 0.242725487   </td><td>0.3582899      </td><td>0.2496676      </td><td> 0.09665491    </td><td> 0.21956787    </td><td> 0.18651974    </td><td>0.2442185      </td><td> 0.17539398    </td><td>⋯              </td><td> 0.1954552     </td><td> 0.2137587     </td><td>0.30044669     </td><td> 0.17586393    </td><td>0.35204164     </td><td> 0.07857399    </td><td>0.34477161     </td><td>0.4794158      </td><td>0.39638114     </td><td>0.2371647262   </td></tr>\n",
       "\t<tr><td>Endothelial    </td><td> 0.14187053    </td><td>-0.031062250   </td><td>0.3597786      </td><td>0.3859543      </td><td>-0.03893381    </td><td> 0.29585502    </td><td>-0.02317958    </td><td>0.3432952      </td><td> 0.14379032    </td><td>⋯              </td><td> 0.2144537     </td><td> 0.2635381     </td><td>0.23067552     </td><td> 0.18290761    </td><td>0.46795313     </td><td> 0.11595867    </td><td>0.19206498     </td><td>0.3398055      </td><td>0.23310990     </td><td>0.2310856050   </td></tr>\n",
       "\t<tr><td>Eosinophils    </td><td>-0.10418995    </td><td>-0.001941604   </td><td>0.1182762      </td><td>0.2921859      </td><td>-0.13614199    </td><td>-0.12774415    </td><td> 0.02233556    </td><td>0.3038642      </td><td>-0.06958962    </td><td>⋯              </td><td>-0.1781867     </td><td>-0.1532976     </td><td>0.10477415     </td><td>-0.22399896    </td><td>0.08358773     </td><td>-0.06498723    </td><td>0.08610898     </td><td>0.3512280      </td><td>0.08096882     </td><td>0.0073986064   </td></tr>\n",
       "\t<tr><td>Fibroblasts    </td><td> 0.09241945    </td><td> 0.093466634   </td><td>0.3042505      </td><td>0.4993913      </td><td> 0.03414850    </td><td> 0.03049037    </td><td> 0.27570475    </td><td>0.4757870      </td><td> 0.19722210    </td><td>⋯              </td><td> 0.1540819     </td><td> 0.3040583     </td><td>0.25677527     </td><td> 0.17897586    </td><td>0.54311788     </td><td> 0.45560626    </td><td>0.15016240     </td><td>0.3947316      </td><td>0.20592659     </td><td>0.4713517510   </td></tr>\n",
       "</tbody>\n",
       "</table>\n"
      ],
      "text/latex": [
       "\\begin{tabular}{r|lllllllllllllllllllllllllllllllllllllllllllllllllllllllll}\n",
       " Term & A01 & A02 & A03 & A04 & A05 & A06 & A07 & A08 & A09 & ⋯ & D12 & E01 & E02 & E03 & E04 & E05 & E06 & E07 & E08 & E09\\\\\n",
       "\\hline\n",
       "\t B\\_cells         &  0.25447672       &  0.183183189      & 0.3284338         & 0.2229200         &  0.15844626       &  0.20860760       &  0.15361592       & 0.2414991         &  0.22717137       & ⋯                 &  0.2823974        &  0.2002388        & 0.26857241        &  0.13562496       & 0.23782882        &  0.17423512       & 0.34660122        & 0.4513493         & 0.34505896        & 0.2619221527     \\\\\n",
       "\t Cytotoxic\\_cells &  0.16012391       &  0.086828263      & 0.2507825         & 0.4692830         &  0.14999672       &  0.28042125       &  0.18301517       & 0.1361316         & -0.01399558       & ⋯                 &  0.1198117        &  0.1284513        & 0.05374303        & -0.06138098       & 0.26491631        &  0.13040588       & 0.05608712        & 0.4264933         & 0.24274575        & 0.0008346503     \\\\\n",
       "\t Dendritic\\_cells &  0.23412023       &  0.242725487      & 0.3582899         & 0.2496676         &  0.09665491       &  0.21956787       &  0.18651974       & 0.2442185         &  0.17539398       & ⋯                 &  0.1954552        &  0.2137587        & 0.30044669        &  0.17586393       & 0.35204164        &  0.07857399       & 0.34477161        & 0.4794158         & 0.39638114        & 0.2371647262     \\\\\n",
       "\t Endothelial     &  0.14187053     & -0.031062250    & 0.3597786       & 0.3859543       & -0.03893381     &  0.29585502     & -0.02317958     & 0.3432952       &  0.14379032     & ⋯               &  0.2144537      &  0.2635381      & 0.23067552      &  0.18290761     & 0.46795313      &  0.11595867     & 0.19206498      & 0.3398055       & 0.23310990      & 0.2310856050   \\\\\n",
       "\t Eosinophils     & -0.10418995     & -0.001941604    & 0.1182762       & 0.2921859       & -0.13614199     & -0.12774415     &  0.02233556     & 0.3038642       & -0.06958962     & ⋯               & -0.1781867      & -0.1532976      & 0.10477415      & -0.22399896     & 0.08358773      & -0.06498723     & 0.08610898      & 0.3512280       & 0.08096882      & 0.0073986064   \\\\\n",
       "\t Fibroblasts     &  0.09241945     &  0.093466634    & 0.3042505       & 0.4993913       &  0.03414850     &  0.03049037     &  0.27570475     & 0.4757870       &  0.19722210     & ⋯               &  0.1540819      &  0.3040583      & 0.25677527      &  0.17897586     & 0.54311788      &  0.45560626     & 0.15016240      & 0.3947316       & 0.20592659      & 0.4713517510   \\\\\n",
       "\\end{tabular}\n"
      ],
      "text/markdown": [
       "\n",
       "Term | A01 | A02 | A03 | A04 | A05 | A06 | A07 | A08 | A09 | ⋯ | D12 | E01 | E02 | E03 | E04 | E05 | E06 | E07 | E08 | E09 | \n",
       "|---|---|---|---|---|---|\n",
       "| B_cells         |  0.25447672     |  0.183183189    | 0.3284338       | 0.2229200       |  0.15844626     |  0.20860760     |  0.15361592     | 0.2414991       |  0.22717137     | ⋯               |  0.2823974      |  0.2002388      | 0.26857241      |  0.13562496     | 0.23782882      |  0.17423512     | 0.34660122      | 0.4513493       | 0.34505896      | 0.2619221527    | \n",
       "| Cytotoxic_cells |  0.16012391     |  0.086828263    | 0.2507825       | 0.4692830       |  0.14999672     |  0.28042125     |  0.18301517     | 0.1361316       | -0.01399558     | ⋯               |  0.1198117      |  0.1284513      | 0.05374303      | -0.06138098     | 0.26491631      |  0.13040588     | 0.05608712      | 0.4264933       | 0.24274575      | 0.0008346503    | \n",
       "| Dendritic_cells |  0.23412023     |  0.242725487    | 0.3582899       | 0.2496676       |  0.09665491     |  0.21956787     |  0.18651974     | 0.2442185       |  0.17539398     | ⋯               |  0.1954552      |  0.2137587      | 0.30044669      |  0.17586393     | 0.35204164      |  0.07857399     | 0.34477161      | 0.4794158       | 0.39638114      | 0.2371647262    | \n",
       "| Endothelial     |  0.14187053     | -0.031062250    | 0.3597786       | 0.3859543       | -0.03893381     |  0.29585502     | -0.02317958     | 0.3432952       |  0.14379032     | ⋯               |  0.2144537      |  0.2635381      | 0.23067552      |  0.18290761     | 0.46795313      |  0.11595867     | 0.19206498      | 0.3398055       | 0.23310990      | 0.2310856050    | \n",
       "| Eosinophils     | -0.10418995     | -0.001941604    | 0.1182762       | 0.2921859       | -0.13614199     | -0.12774415     |  0.02233556     | 0.3038642       | -0.06958962     | ⋯               | -0.1781867      | -0.1532976      | 0.10477415      | -0.22399896     | 0.08358773      | -0.06498723     | 0.08610898      | 0.3512280       | 0.08096882      | 0.0073986064    | \n",
       "| Fibroblasts     |  0.09241945     |  0.093466634    | 0.3042505       | 0.4993913       |  0.03414850     |  0.03049037     |  0.27570475     | 0.4757870       |  0.19722210     | ⋯               |  0.1540819      |  0.3040583      | 0.25677527      |  0.17897586     | 0.54311788      |  0.45560626     | 0.15016240      | 0.3947316       | 0.20592659      | 0.4713517510    | \n",
       "\n",
       "\n"
      ],
      "text/plain": [
       "  Term            A01         A02          A03       A04       A05        \n",
       "1 B_cells          0.25447672  0.183183189 0.3284338 0.2229200  0.15844626\n",
       "2 Cytotoxic_cells  0.16012391  0.086828263 0.2507825 0.4692830  0.14999672\n",
       "3 Dendritic_cells  0.23412023  0.242725487 0.3582899 0.2496676  0.09665491\n",
       "4 Endothelial      0.14187053 -0.031062250 0.3597786 0.3859543 -0.03893381\n",
       "5 Eosinophils     -0.10418995 -0.001941604 0.1182762 0.2921859 -0.13614199\n",
       "6 Fibroblasts      0.09241945  0.093466634 0.3042505 0.4993913  0.03414850\n",
       "  A06         A07         A08       A09         ⋯ D12        E01       \n",
       "1  0.20860760  0.15361592 0.2414991  0.22717137 ⋯  0.2823974  0.2002388\n",
       "2  0.28042125  0.18301517 0.1361316 -0.01399558 ⋯  0.1198117  0.1284513\n",
       "3  0.21956787  0.18651974 0.2442185  0.17539398 ⋯  0.1954552  0.2137587\n",
       "4  0.29585502 -0.02317958 0.3432952  0.14379032 ⋯  0.2144537  0.2635381\n",
       "5 -0.12774415  0.02233556 0.3038642 -0.06958962 ⋯ -0.1781867 -0.1532976\n",
       "6  0.03049037  0.27570475 0.4757870  0.19722210 ⋯  0.1540819  0.3040583\n",
       "  E02        E03         E04        E05         E06        E07       E08       \n",
       "1 0.26857241  0.13562496 0.23782882  0.17423512 0.34660122 0.4513493 0.34505896\n",
       "2 0.05374303 -0.06138098 0.26491631  0.13040588 0.05608712 0.4264933 0.24274575\n",
       "3 0.30044669  0.17586393 0.35204164  0.07857399 0.34477161 0.4794158 0.39638114\n",
       "4 0.23067552  0.18290761 0.46795313  0.11595867 0.19206498 0.3398055 0.23310990\n",
       "5 0.10477415 -0.22399896 0.08358773 -0.06498723 0.08610898 0.3512280 0.08096882\n",
       "6 0.25677527  0.17897586 0.54311788  0.45560626 0.15016240 0.3947316 0.20592659\n",
       "  E09         \n",
       "1 0.2619221527\n",
       "2 0.0008346503\n",
       "3 0.2371647262\n",
       "4 0.2310856050\n",
       "5 0.0073986064\n",
       "6 0.4713517510"
      ]
     },
     "metadata": {},
     "output_type": "display_data"
    }
   ],
   "source": [
    "head(con_NES)"
   ]
  },
  {
   "cell_type": "code",
   "execution_count": 12,
   "metadata": {},
   "outputs": [
    {
     "data": {
      "text/html": [
       "<table>\n",
       "<thead><tr><th scope=col>Term</th><th scope=col>A01</th><th scope=col>A02</th><th scope=col>A03</th><th scope=col>A04</th><th scope=col>A05</th><th scope=col>A06</th><th scope=col>A07</th><th scope=col>A08</th><th scope=col>A09</th><th scope=col>⋯</th><th scope=col>D12</th><th scope=col>E01</th><th scope=col>E02</th><th scope=col>E03</th><th scope=col>E04</th><th scope=col>E05</th><th scope=col>E06</th><th scope=col>E07</th><th scope=col>E08</th><th scope=col>E09</th></tr></thead>\n",
       "<tbody>\n",
       "\t<tr><td>B_cells        </td><td> 0.25447672    </td><td> 0.183183189   </td><td>0.3284338      </td><td>0.2229200      </td><td> 0.15844626    </td><td> 0.20860760    </td><td> 0.15361592    </td><td>0.2414991      </td><td> 0.22717137    </td><td>⋯              </td><td> 0.2823974     </td><td> 0.2002388     </td><td>0.26857241     </td><td> 0.13562496    </td><td>0.23782882     </td><td> 0.17423512    </td><td>0.34660122     </td><td>0.4513493      </td><td>0.34505896     </td><td>0.2619221527   </td></tr>\n",
       "\t<tr><td>Cytotoxic_cells</td><td> 0.16012391    </td><td> 0.086828263   </td><td>0.2507825      </td><td>0.4692830      </td><td> 0.14999672    </td><td> 0.28042125    </td><td> 0.18301517    </td><td>0.1361316      </td><td>-0.01399558    </td><td>⋯              </td><td> 0.1198117     </td><td> 0.1284513     </td><td>0.05374303     </td><td>-0.06138098    </td><td>0.26491631     </td><td> 0.13040588    </td><td>0.05608712     </td><td>0.4264933      </td><td>0.24274575     </td><td>0.0008346503   </td></tr>\n",
       "\t<tr><td>Dendritic_cells</td><td> 0.23412023    </td><td> 0.242725487   </td><td>0.3582899      </td><td>0.2496676      </td><td> 0.09665491    </td><td> 0.21956787    </td><td> 0.18651974    </td><td>0.2442185      </td><td> 0.17539398    </td><td>⋯              </td><td> 0.1954552     </td><td> 0.2137587     </td><td>0.30044669     </td><td> 0.17586393    </td><td>0.35204164     </td><td> 0.07857399    </td><td>0.34477161     </td><td>0.4794158      </td><td>0.39638114     </td><td>0.2371647262   </td></tr>\n",
       "\t<tr><td>Endothelial    </td><td> 0.14187053    </td><td>-0.031062250   </td><td>0.3597786      </td><td>0.3859543      </td><td>-0.03893381    </td><td> 0.29585502    </td><td>-0.02317958    </td><td>0.3432952      </td><td> 0.14379032    </td><td>⋯              </td><td> 0.2144537     </td><td> 0.2635381     </td><td>0.23067552     </td><td> 0.18290761    </td><td>0.46795313     </td><td> 0.11595867    </td><td>0.19206498     </td><td>0.3398055      </td><td>0.23310990     </td><td>0.2310856050   </td></tr>\n",
       "\t<tr><td>Eosinophils    </td><td>-0.10418995    </td><td>-0.001941604   </td><td>0.1182762      </td><td>0.2921859      </td><td>-0.13614199    </td><td>-0.12774415    </td><td> 0.02233556    </td><td>0.3038642      </td><td>-0.06958962    </td><td>⋯              </td><td>-0.1781867     </td><td>-0.1532976     </td><td>0.10477415     </td><td>-0.22399896    </td><td>0.08358773     </td><td>-0.06498723    </td><td>0.08610898     </td><td>0.3512280      </td><td>0.08096882     </td><td>0.0073986064   </td></tr>\n",
       "\t<tr><td>Fibroblasts    </td><td> 0.09241945    </td><td> 0.093466634   </td><td>0.3042505      </td><td>0.4993913      </td><td> 0.03414850    </td><td> 0.03049037    </td><td> 0.27570475    </td><td>0.4757870      </td><td> 0.19722210    </td><td>⋯              </td><td> 0.1540819     </td><td> 0.3040583     </td><td>0.25677527     </td><td> 0.17897586    </td><td>0.54311788     </td><td> 0.45560626    </td><td>0.15016240     </td><td>0.3947316      </td><td>0.20592659     </td><td>0.4713517510   </td></tr>\n",
       "</tbody>\n",
       "</table>\n"
      ],
      "text/latex": [
       "\\begin{tabular}{r|lllllllllllllllllllllllllllllllllllllllllllllllllllllllll}\n",
       " Term & A01 & A02 & A03 & A04 & A05 & A06 & A07 & A08 & A09 & ⋯ & D12 & E01 & E02 & E03 & E04 & E05 & E06 & E07 & E08 & E09\\\\\n",
       "\\hline\n",
       "\t B\\_cells         &  0.25447672       &  0.183183189      & 0.3284338         & 0.2229200         &  0.15844626       &  0.20860760       &  0.15361592       & 0.2414991         &  0.22717137       & ⋯                 &  0.2823974        &  0.2002388        & 0.26857241        &  0.13562496       & 0.23782882        &  0.17423512       & 0.34660122        & 0.4513493         & 0.34505896        & 0.2619221527     \\\\\n",
       "\t Cytotoxic\\_cells &  0.16012391       &  0.086828263      & 0.2507825         & 0.4692830         &  0.14999672       &  0.28042125       &  0.18301517       & 0.1361316         & -0.01399558       & ⋯                 &  0.1198117        &  0.1284513        & 0.05374303        & -0.06138098       & 0.26491631        &  0.13040588       & 0.05608712        & 0.4264933         & 0.24274575        & 0.0008346503     \\\\\n",
       "\t Dendritic\\_cells &  0.23412023       &  0.242725487      & 0.3582899         & 0.2496676         &  0.09665491       &  0.21956787       &  0.18651974       & 0.2442185         &  0.17539398       & ⋯                 &  0.1954552        &  0.2137587        & 0.30044669        &  0.17586393       & 0.35204164        &  0.07857399       & 0.34477161        & 0.4794158         & 0.39638114        & 0.2371647262     \\\\\n",
       "\t Endothelial     &  0.14187053     & -0.031062250    & 0.3597786       & 0.3859543       & -0.03893381     &  0.29585502     & -0.02317958     & 0.3432952       &  0.14379032     & ⋯               &  0.2144537      &  0.2635381      & 0.23067552      &  0.18290761     & 0.46795313      &  0.11595867     & 0.19206498      & 0.3398055       & 0.23310990      & 0.2310856050   \\\\\n",
       "\t Eosinophils     & -0.10418995     & -0.001941604    & 0.1182762       & 0.2921859       & -0.13614199     & -0.12774415     &  0.02233556     & 0.3038642       & -0.06958962     & ⋯               & -0.1781867      & -0.1532976      & 0.10477415      & -0.22399896     & 0.08358773      & -0.06498723     & 0.08610898      & 0.3512280       & 0.08096882      & 0.0073986064   \\\\\n",
       "\t Fibroblasts     &  0.09241945     &  0.093466634    & 0.3042505       & 0.4993913       &  0.03414850     &  0.03049037     &  0.27570475     & 0.4757870       &  0.19722210     & ⋯               &  0.1540819      &  0.3040583      & 0.25677527      &  0.17897586     & 0.54311788      &  0.45560626     & 0.15016240      & 0.3947316       & 0.20592659      & 0.4713517510   \\\\\n",
       "\\end{tabular}\n"
      ],
      "text/markdown": [
       "\n",
       "Term | A01 | A02 | A03 | A04 | A05 | A06 | A07 | A08 | A09 | ⋯ | D12 | E01 | E02 | E03 | E04 | E05 | E06 | E07 | E08 | E09 | \n",
       "|---|---|---|---|---|---|\n",
       "| B_cells         |  0.25447672     |  0.183183189    | 0.3284338       | 0.2229200       |  0.15844626     |  0.20860760     |  0.15361592     | 0.2414991       |  0.22717137     | ⋯               |  0.2823974      |  0.2002388      | 0.26857241      |  0.13562496     | 0.23782882      |  0.17423512     | 0.34660122      | 0.4513493       | 0.34505896      | 0.2619221527    | \n",
       "| Cytotoxic_cells |  0.16012391     |  0.086828263    | 0.2507825       | 0.4692830       |  0.14999672     |  0.28042125     |  0.18301517     | 0.1361316       | -0.01399558     | ⋯               |  0.1198117      |  0.1284513      | 0.05374303      | -0.06138098     | 0.26491631      |  0.13040588     | 0.05608712      | 0.4264933       | 0.24274575      | 0.0008346503    | \n",
       "| Dendritic_cells |  0.23412023     |  0.242725487    | 0.3582899       | 0.2496676       |  0.09665491     |  0.21956787     |  0.18651974     | 0.2442185       |  0.17539398     | ⋯               |  0.1954552      |  0.2137587      | 0.30044669      |  0.17586393     | 0.35204164      |  0.07857399     | 0.34477161      | 0.4794158       | 0.39638114      | 0.2371647262    | \n",
       "| Endothelial     |  0.14187053     | -0.031062250    | 0.3597786       | 0.3859543       | -0.03893381     |  0.29585502     | -0.02317958     | 0.3432952       |  0.14379032     | ⋯               |  0.2144537      |  0.2635381      | 0.23067552      |  0.18290761     | 0.46795313      |  0.11595867     | 0.19206498      | 0.3398055       | 0.23310990      | 0.2310856050    | \n",
       "| Eosinophils     | -0.10418995     | -0.001941604    | 0.1182762       | 0.2921859       | -0.13614199     | -0.12774415     |  0.02233556     | 0.3038642       | -0.06958962     | ⋯               | -0.1781867      | -0.1532976      | 0.10477415      | -0.22399896     | 0.08358773      | -0.06498723     | 0.08610898      | 0.3512280       | 0.08096882      | 0.0073986064    | \n",
       "| Fibroblasts     |  0.09241945     |  0.093466634    | 0.3042505       | 0.4993913       |  0.03414850     |  0.03049037     |  0.27570475     | 0.4757870       |  0.19722210     | ⋯               |  0.1540819      |  0.3040583      | 0.25677527      |  0.17897586     | 0.54311788      |  0.45560626     | 0.15016240      | 0.3947316       | 0.20592659      | 0.4713517510    | \n",
       "\n",
       "\n"
      ],
      "text/plain": [
       "  Term            A01         A02          A03       A04       A05        \n",
       "1 B_cells          0.25447672  0.183183189 0.3284338 0.2229200  0.15844626\n",
       "2 Cytotoxic_cells  0.16012391  0.086828263 0.2507825 0.4692830  0.14999672\n",
       "3 Dendritic_cells  0.23412023  0.242725487 0.3582899 0.2496676  0.09665491\n",
       "4 Endothelial      0.14187053 -0.031062250 0.3597786 0.3859543 -0.03893381\n",
       "5 Eosinophils     -0.10418995 -0.001941604 0.1182762 0.2921859 -0.13614199\n",
       "6 Fibroblasts      0.09241945  0.093466634 0.3042505 0.4993913  0.03414850\n",
       "  A06         A07         A08       A09         ⋯ D12        E01       \n",
       "1  0.20860760  0.15361592 0.2414991  0.22717137 ⋯  0.2823974  0.2002388\n",
       "2  0.28042125  0.18301517 0.1361316 -0.01399558 ⋯  0.1198117  0.1284513\n",
       "3  0.21956787  0.18651974 0.2442185  0.17539398 ⋯  0.1954552  0.2137587\n",
       "4  0.29585502 -0.02317958 0.3432952  0.14379032 ⋯  0.2144537  0.2635381\n",
       "5 -0.12774415  0.02233556 0.3038642 -0.06958962 ⋯ -0.1781867 -0.1532976\n",
       "6  0.03049037  0.27570475 0.4757870  0.19722210 ⋯  0.1540819  0.3040583\n",
       "  E02        E03         E04        E05         E06        E07       E08       \n",
       "1 0.26857241  0.13562496 0.23782882  0.17423512 0.34660122 0.4513493 0.34505896\n",
       "2 0.05374303 -0.06138098 0.26491631  0.13040588 0.05608712 0.4264933 0.24274575\n",
       "3 0.30044669  0.17586393 0.35204164  0.07857399 0.34477161 0.4794158 0.39638114\n",
       "4 0.23067552  0.18290761 0.46795313  0.11595867 0.19206498 0.3398055 0.23310990\n",
       "5 0.10477415 -0.22399896 0.08358773 -0.06498723 0.08610898 0.3512280 0.08096882\n",
       "6 0.25677527  0.17897586 0.54311788  0.45560626 0.15016240 0.3947316 0.20592659\n",
       "  E09         \n",
       "1 0.2619221527\n",
       "2 0.0008346503\n",
       "3 0.2371647262\n",
       "4 0.2310856050\n",
       "5 0.0073986064\n",
       "6 0.4713517510"
      ]
     },
     "metadata": {},
     "output_type": "display_data"
    }
   ],
   "source": [
    "head(con_NES)"
   ]
  },
  {
   "cell_type": "markdown",
   "metadata": {},
   "source": [
    "### Save NES"
   ]
  },
  {
   "cell_type": "code",
   "execution_count": 13,
   "metadata": {},
   "outputs": [],
   "source": [
    "write.table(con_NES,\n",
    "            file='../1.Data/ConsensusTME_NACT_NES.txt',\n",
    "            sep='\\t',\n",
    "            row.names=F,\n",
    "            col.names=T)"
   ]
  },
  {
   "cell_type": "markdown",
   "metadata": {},
   "source": [
    "# End script"
   ]
  }
 ],
 "metadata": {
  "kernelspec": {
   "display_name": "R",
   "language": "R",
   "name": "ir"
  },
  "language_info": {
   "codemirror_mode": "r",
   "file_extension": ".r",
   "mimetype": "text/x-r-source",
   "name": "R",
   "pygments_lexer": "r",
   "version": "3.5.0"
  }
 },
 "nbformat": 4,
 "nbformat_minor": 2
}

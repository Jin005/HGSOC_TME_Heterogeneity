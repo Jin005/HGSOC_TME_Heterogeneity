{
 "cells": [
  {
   "cell_type": "markdown",
   "metadata": {},
   "source": [
    "# Perform PCA of NACT samples ConsensusTME NES"
   ]
  },
  {
   "cell_type": "markdown",
   "metadata": {},
   "source": [
    "Script related to figure 5e\n",
    "\n",
    "### Aim:\n",
    "- See how ConsensusTME NES cluster across patients"
   ]
  },
  {
   "cell_type": "code",
   "execution_count": 1,
   "metadata": {},
   "outputs": [
    {
     "name": "stdout",
     "output_type": "stream",
     "text": [
      "Python 3.6.8 :: Anaconda custom (64-bit)\r\n"
     ]
    }
   ],
   "source": [
    "!python --version"
   ]
  },
  {
   "cell_type": "markdown",
   "metadata": {},
   "source": [
    "## Import packages"
   ]
  },
  {
   "cell_type": "code",
   "execution_count": 2,
   "metadata": {},
   "outputs": [],
   "source": [
    "import numpy as np\n",
    "import pandas as pd\n",
    "import seaborn as sns\n",
    "import matplotlib.pyplot as plt\n",
    "from sklearn.decomposition import PCA"
   ]
  },
  {
   "cell_type": "code",
   "execution_count": 3,
   "metadata": {},
   "outputs": [],
   "source": [
    "home = '~/git_repos/HGSOC_TME_Heterogeneity/'"
   ]
  },
  {
   "cell_type": "markdown",
   "metadata": {},
   "source": [
    "## Get sample labels"
   ]
  },
  {
   "cell_type": "markdown",
   "metadata": {},
   "source": [
    "### Load file"
   ]
  },
  {
   "cell_type": "code",
   "execution_count": 4,
   "metadata": {},
   "outputs": [],
   "source": [
    "file_keys = home + 'Data/5/NACT_SampleLabels.txt'\n",
    "\n",
    "sample_labels = pd.read_csv(file_keys,\n",
    "                            sep='\\t',\n",
    "                            index_col='Well')"
   ]
  },
  {
   "cell_type": "code",
   "execution_count": 5,
   "metadata": {},
   "outputs": [
    {
     "data": {
      "text/html": [
       "<div>\n",
       "<style scoped>\n",
       "    .dataframe tbody tr th:only-of-type {\n",
       "        vertical-align: middle;\n",
       "    }\n",
       "\n",
       "    .dataframe tbody tr th {\n",
       "        vertical-align: top;\n",
       "    }\n",
       "\n",
       "    .dataframe thead th {\n",
       "        text-align: right;\n",
       "    }\n",
       "</style>\n",
       "<table border=\"1\" class=\"dataframe\">\n",
       "  <thead>\n",
       "    <tr style=\"text-align: right;\">\n",
       "      <th></th>\n",
       "      <th>Name</th>\n",
       "      <th>Case_mRNA</th>\n",
       "      <th>NACT</th>\n",
       "      <th>Site</th>\n",
       "      <th>Bounds</th>\n",
       "    </tr>\n",
       "    <tr>\n",
       "      <th>Well</th>\n",
       "      <th></th>\n",
       "      <th></th>\n",
       "      <th></th>\n",
       "      <th></th>\n",
       "      <th></th>\n",
       "    </tr>\n",
       "  </thead>\n",
       "  <tbody>\n",
       "    <tr>\n",
       "      <th>A01</th>\n",
       "      <td>A01_3368A_Liver</td>\n",
       "      <td>3368</td>\n",
       "      <td>Untreated</td>\n",
       "      <td>other</td>\n",
       "      <td>in</td>\n",
       "    </tr>\n",
       "    <tr>\n",
       "      <th>A02</th>\n",
       "      <td>A02_3368B_Liver</td>\n",
       "      <td>3368</td>\n",
       "      <td>Treated</td>\n",
       "      <td>other</td>\n",
       "      <td>out</td>\n",
       "    </tr>\n",
       "    <tr>\n",
       "      <th>A03</th>\n",
       "      <td>A03_0371A_R_diaphragm</td>\n",
       "      <td>371</td>\n",
       "      <td>Untreated</td>\n",
       "      <td>other</td>\n",
       "      <td>out</td>\n",
       "    </tr>\n",
       "    <tr>\n",
       "      <th>A04</th>\n",
       "      <td>A04_0371B_R_diaphragm</td>\n",
       "      <td>371</td>\n",
       "      <td>Treated</td>\n",
       "      <td>other</td>\n",
       "      <td>out</td>\n",
       "    </tr>\n",
       "    <tr>\n",
       "      <th>A05</th>\n",
       "      <td>A05_9717A_R_ovary</td>\n",
       "      <td>9717</td>\n",
       "      <td>Untreated</td>\n",
       "      <td>ovary</td>\n",
       "      <td>in</td>\n",
       "    </tr>\n",
       "  </tbody>\n",
       "</table>\n",
       "</div>"
      ],
      "text/plain": [
       "                       Name  Case_mRNA       NACT   Site Bounds\n",
       "Well                                                           \n",
       "A01         A01_3368A_Liver       3368  Untreated  other     in\n",
       "A02         A02_3368B_Liver       3368    Treated  other    out\n",
       "A03   A03_0371A_R_diaphragm        371  Untreated  other    out\n",
       "A04   A04_0371B_R_diaphragm        371    Treated  other    out\n",
       "A05       A05_9717A_R_ovary       9717  Untreated  ovary     in"
      ]
     },
     "execution_count": 5,
     "metadata": {},
     "output_type": "execute_result"
    }
   ],
   "source": [
    "sample_labels.head()"
   ]
  },
  {
   "cell_type": "markdown",
   "metadata": {},
   "source": [
    "### Define sample colours"
   ]
  },
  {
   "cell_type": "code",
   "execution_count": 6,
   "metadata": {},
   "outputs": [],
   "source": [
    "case_mrna = list(set(sample_labels['Case_mRNA']))\n",
    "\n",
    "colours = sns.color_palette(\"husl\", len(case_mrna)).as_hex()\n",
    "\n",
    "sample_labels['Colour'] = sample_labels['Case_mRNA'].replace(case_mrna, colours)"
   ]
  },
  {
   "cell_type": "markdown",
   "metadata": {},
   "source": [
    "### Define sample markers"
   ]
  },
  {
   "cell_type": "code",
   "execution_count": 7,
   "metadata": {},
   "outputs": [],
   "source": [
    "sites = ['ovary','omentum','other']\n",
    "markers = ['o','^','s']\n",
    "\n",
    "sample_labels['Site_marker'] = sample_labels['Site'].replace(sites,markers)"
   ]
  },
  {
   "cell_type": "code",
   "execution_count": 8,
   "metadata": {},
   "outputs": [
    {
     "data": {
      "text/html": [
       "<div>\n",
       "<style scoped>\n",
       "    .dataframe tbody tr th:only-of-type {\n",
       "        vertical-align: middle;\n",
       "    }\n",
       "\n",
       "    .dataframe tbody tr th {\n",
       "        vertical-align: top;\n",
       "    }\n",
       "\n",
       "    .dataframe thead th {\n",
       "        text-align: right;\n",
       "    }\n",
       "</style>\n",
       "<table border=\"1\" class=\"dataframe\">\n",
       "  <thead>\n",
       "    <tr style=\"text-align: right;\">\n",
       "      <th></th>\n",
       "      <th>Name</th>\n",
       "      <th>Case_mRNA</th>\n",
       "      <th>NACT</th>\n",
       "      <th>Site</th>\n",
       "      <th>Bounds</th>\n",
       "      <th>Colour</th>\n",
       "      <th>Site_marker</th>\n",
       "    </tr>\n",
       "    <tr>\n",
       "      <th>Well</th>\n",
       "      <th></th>\n",
       "      <th></th>\n",
       "      <th></th>\n",
       "      <th></th>\n",
       "      <th></th>\n",
       "      <th></th>\n",
       "      <th></th>\n",
       "    </tr>\n",
       "  </thead>\n",
       "  <tbody>\n",
       "    <tr>\n",
       "      <th>A01</th>\n",
       "      <td>A01_3368A_Liver</td>\n",
       "      <td>3368</td>\n",
       "      <td>Untreated</td>\n",
       "      <td>other</td>\n",
       "      <td>in</td>\n",
       "      <td>#62ae31</td>\n",
       "      <td>s</td>\n",
       "    </tr>\n",
       "    <tr>\n",
       "      <th>A02</th>\n",
       "      <td>A02_3368B_Liver</td>\n",
       "      <td>3368</td>\n",
       "      <td>Treated</td>\n",
       "      <td>other</td>\n",
       "      <td>out</td>\n",
       "      <td>#62ae31</td>\n",
       "      <td>s</td>\n",
       "    </tr>\n",
       "    <tr>\n",
       "      <th>A03</th>\n",
       "      <td>A03_0371A_R_diaphragm</td>\n",
       "      <td>371</td>\n",
       "      <td>Untreated</td>\n",
       "      <td>other</td>\n",
       "      <td>out</td>\n",
       "      <td>#f45deb</td>\n",
       "      <td>s</td>\n",
       "    </tr>\n",
       "    <tr>\n",
       "      <th>A04</th>\n",
       "      <td>A04_0371B_R_diaphragm</td>\n",
       "      <td>371</td>\n",
       "      <td>Treated</td>\n",
       "      <td>other</td>\n",
       "      <td>out</td>\n",
       "      <td>#f45deb</td>\n",
       "      <td>s</td>\n",
       "    </tr>\n",
       "    <tr>\n",
       "      <th>A05</th>\n",
       "      <td>A05_9717A_R_ovary</td>\n",
       "      <td>9717</td>\n",
       "      <td>Untreated</td>\n",
       "      <td>ovary</td>\n",
       "      <td>in</td>\n",
       "      <td>#f564d1</td>\n",
       "      <td>o</td>\n",
       "    </tr>\n",
       "  </tbody>\n",
       "</table>\n",
       "</div>"
      ],
      "text/plain": [
       "                       Name  Case_mRNA       NACT   Site Bounds   Colour  \\\n",
       "Well                                                                       \n",
       "A01         A01_3368A_Liver       3368  Untreated  other     in  #62ae31   \n",
       "A02         A02_3368B_Liver       3368    Treated  other    out  #62ae31   \n",
       "A03   A03_0371A_R_diaphragm        371  Untreated  other    out  #f45deb   \n",
       "A04   A04_0371B_R_diaphragm        371    Treated  other    out  #f45deb   \n",
       "A05       A05_9717A_R_ovary       9717  Untreated  ovary     in  #f564d1   \n",
       "\n",
       "     Site_marker  \n",
       "Well              \n",
       "A01            s  \n",
       "A02            s  \n",
       "A03            s  \n",
       "A04            s  \n",
       "A05            o  "
      ]
     },
     "execution_count": 8,
     "metadata": {},
     "output_type": "execute_result"
    }
   ],
   "source": [
    "sample_labels.head()"
   ]
  },
  {
   "cell_type": "markdown",
   "metadata": {},
   "source": [
    "## Load ssGSEA results"
   ]
  },
  {
   "cell_type": "code",
   "execution_count": 9,
   "metadata": {},
   "outputs": [],
   "source": [
    "file_nes = home + 'Data/5/ConsensusTME_NACT_NES.txt'\n",
    "\n",
    "data_nes = pd.read_csv(file_nes,\n",
    "                       sep='\\t')\n",
    "\n",
    "data_nes.set_index('Term',\n",
    "                   inplace=True)"
   ]
  },
  {
   "cell_type": "code",
   "execution_count": 10,
   "metadata": {},
   "outputs": [
    {
     "data": {
      "text/html": [
       "<div>\n",
       "<style scoped>\n",
       "    .dataframe tbody tr th:only-of-type {\n",
       "        vertical-align: middle;\n",
       "    }\n",
       "\n",
       "    .dataframe tbody tr th {\n",
       "        vertical-align: top;\n",
       "    }\n",
       "\n",
       "    .dataframe thead th {\n",
       "        text-align: right;\n",
       "    }\n",
       "</style>\n",
       "<table border=\"1\" class=\"dataframe\">\n",
       "  <thead>\n",
       "    <tr style=\"text-align: right;\">\n",
       "      <th></th>\n",
       "      <th>A01</th>\n",
       "      <th>A02</th>\n",
       "      <th>A03</th>\n",
       "      <th>A04</th>\n",
       "      <th>A05</th>\n",
       "      <th>A06</th>\n",
       "      <th>A07</th>\n",
       "      <th>A08</th>\n",
       "      <th>A09</th>\n",
       "      <th>A10</th>\n",
       "      <th>...</th>\n",
       "      <th>D12</th>\n",
       "      <th>E01</th>\n",
       "      <th>E02</th>\n",
       "      <th>E03</th>\n",
       "      <th>E04</th>\n",
       "      <th>E05</th>\n",
       "      <th>E06</th>\n",
       "      <th>E07</th>\n",
       "      <th>E08</th>\n",
       "      <th>E09</th>\n",
       "    </tr>\n",
       "    <tr>\n",
       "      <th>Term</th>\n",
       "      <th></th>\n",
       "      <th></th>\n",
       "      <th></th>\n",
       "      <th></th>\n",
       "      <th></th>\n",
       "      <th></th>\n",
       "      <th></th>\n",
       "      <th></th>\n",
       "      <th></th>\n",
       "      <th></th>\n",
       "      <th></th>\n",
       "      <th></th>\n",
       "      <th></th>\n",
       "      <th></th>\n",
       "      <th></th>\n",
       "      <th></th>\n",
       "      <th></th>\n",
       "      <th></th>\n",
       "      <th></th>\n",
       "      <th></th>\n",
       "      <th></th>\n",
       "    </tr>\n",
       "  </thead>\n",
       "  <tbody>\n",
       "    <tr>\n",
       "      <th>B_cells</th>\n",
       "      <td>0.254477</td>\n",
       "      <td>0.183183</td>\n",
       "      <td>0.328434</td>\n",
       "      <td>0.222920</td>\n",
       "      <td>0.158446</td>\n",
       "      <td>0.208608</td>\n",
       "      <td>0.153616</td>\n",
       "      <td>0.241499</td>\n",
       "      <td>0.227171</td>\n",
       "      <td>0.243108</td>\n",
       "      <td>...</td>\n",
       "      <td>0.282397</td>\n",
       "      <td>0.200239</td>\n",
       "      <td>0.268572</td>\n",
       "      <td>0.135625</td>\n",
       "      <td>0.237829</td>\n",
       "      <td>0.174235</td>\n",
       "      <td>0.346601</td>\n",
       "      <td>0.451349</td>\n",
       "      <td>0.345059</td>\n",
       "      <td>0.261922</td>\n",
       "    </tr>\n",
       "    <tr>\n",
       "      <th>Cytotoxic_cells</th>\n",
       "      <td>0.160124</td>\n",
       "      <td>0.086828</td>\n",
       "      <td>0.250783</td>\n",
       "      <td>0.469283</td>\n",
       "      <td>0.149997</td>\n",
       "      <td>0.280421</td>\n",
       "      <td>0.183015</td>\n",
       "      <td>0.136132</td>\n",
       "      <td>-0.013996</td>\n",
       "      <td>-0.005431</td>\n",
       "      <td>...</td>\n",
       "      <td>0.119812</td>\n",
       "      <td>0.128451</td>\n",
       "      <td>0.053743</td>\n",
       "      <td>-0.061381</td>\n",
       "      <td>0.264916</td>\n",
       "      <td>0.130406</td>\n",
       "      <td>0.056087</td>\n",
       "      <td>0.426493</td>\n",
       "      <td>0.242746</td>\n",
       "      <td>0.000835</td>\n",
       "    </tr>\n",
       "    <tr>\n",
       "      <th>Dendritic_cells</th>\n",
       "      <td>0.234120</td>\n",
       "      <td>0.242725</td>\n",
       "      <td>0.358290</td>\n",
       "      <td>0.249668</td>\n",
       "      <td>0.096655</td>\n",
       "      <td>0.219568</td>\n",
       "      <td>0.186520</td>\n",
       "      <td>0.244219</td>\n",
       "      <td>0.175394</td>\n",
       "      <td>0.125974</td>\n",
       "      <td>...</td>\n",
       "      <td>0.195455</td>\n",
       "      <td>0.213759</td>\n",
       "      <td>0.300447</td>\n",
       "      <td>0.175864</td>\n",
       "      <td>0.352042</td>\n",
       "      <td>0.078574</td>\n",
       "      <td>0.344772</td>\n",
       "      <td>0.479416</td>\n",
       "      <td>0.396381</td>\n",
       "      <td>0.237165</td>\n",
       "    </tr>\n",
       "    <tr>\n",
       "      <th>Endothelial</th>\n",
       "      <td>0.141871</td>\n",
       "      <td>-0.031062</td>\n",
       "      <td>0.359779</td>\n",
       "      <td>0.385954</td>\n",
       "      <td>-0.038934</td>\n",
       "      <td>0.295855</td>\n",
       "      <td>-0.023180</td>\n",
       "      <td>0.343295</td>\n",
       "      <td>0.143790</td>\n",
       "      <td>0.186743</td>\n",
       "      <td>...</td>\n",
       "      <td>0.214454</td>\n",
       "      <td>0.263538</td>\n",
       "      <td>0.230676</td>\n",
       "      <td>0.182908</td>\n",
       "      <td>0.467953</td>\n",
       "      <td>0.115959</td>\n",
       "      <td>0.192065</td>\n",
       "      <td>0.339805</td>\n",
       "      <td>0.233110</td>\n",
       "      <td>0.231086</td>\n",
       "    </tr>\n",
       "    <tr>\n",
       "      <th>Eosinophils</th>\n",
       "      <td>-0.104190</td>\n",
       "      <td>-0.001942</td>\n",
       "      <td>0.118276</td>\n",
       "      <td>0.292186</td>\n",
       "      <td>-0.136142</td>\n",
       "      <td>-0.127744</td>\n",
       "      <td>0.022336</td>\n",
       "      <td>0.303864</td>\n",
       "      <td>-0.069590</td>\n",
       "      <td>0.074915</td>\n",
       "      <td>...</td>\n",
       "      <td>-0.178187</td>\n",
       "      <td>-0.153298</td>\n",
       "      <td>0.104774</td>\n",
       "      <td>-0.223999</td>\n",
       "      <td>0.083588</td>\n",
       "      <td>-0.064987</td>\n",
       "      <td>0.086109</td>\n",
       "      <td>0.351228</td>\n",
       "      <td>0.080969</td>\n",
       "      <td>0.007399</td>\n",
       "    </tr>\n",
       "  </tbody>\n",
       "</table>\n",
       "<p>5 rows × 56 columns</p>\n",
       "</div>"
      ],
      "text/plain": [
       "                      A01       A02       A03       A04       A05       A06  \\\n",
       "Term                                                                          \n",
       "B_cells          0.254477  0.183183  0.328434  0.222920  0.158446  0.208608   \n",
       "Cytotoxic_cells  0.160124  0.086828  0.250783  0.469283  0.149997  0.280421   \n",
       "Dendritic_cells  0.234120  0.242725  0.358290  0.249668  0.096655  0.219568   \n",
       "Endothelial      0.141871 -0.031062  0.359779  0.385954 -0.038934  0.295855   \n",
       "Eosinophils     -0.104190 -0.001942  0.118276  0.292186 -0.136142 -0.127744   \n",
       "\n",
       "                      A07       A08       A09       A10  ...       D12  \\\n",
       "Term                                                     ...             \n",
       "B_cells          0.153616  0.241499  0.227171  0.243108  ...  0.282397   \n",
       "Cytotoxic_cells  0.183015  0.136132 -0.013996 -0.005431  ...  0.119812   \n",
       "Dendritic_cells  0.186520  0.244219  0.175394  0.125974  ...  0.195455   \n",
       "Endothelial     -0.023180  0.343295  0.143790  0.186743  ...  0.214454   \n",
       "Eosinophils      0.022336  0.303864 -0.069590  0.074915  ... -0.178187   \n",
       "\n",
       "                      E01       E02       E03       E04       E05       E06  \\\n",
       "Term                                                                          \n",
       "B_cells          0.200239  0.268572  0.135625  0.237829  0.174235  0.346601   \n",
       "Cytotoxic_cells  0.128451  0.053743 -0.061381  0.264916  0.130406  0.056087   \n",
       "Dendritic_cells  0.213759  0.300447  0.175864  0.352042  0.078574  0.344772   \n",
       "Endothelial      0.263538  0.230676  0.182908  0.467953  0.115959  0.192065   \n",
       "Eosinophils     -0.153298  0.104774 -0.223999  0.083588 -0.064987  0.086109   \n",
       "\n",
       "                      E07       E08       E09  \n",
       "Term                                           \n",
       "B_cells          0.451349  0.345059  0.261922  \n",
       "Cytotoxic_cells  0.426493  0.242746  0.000835  \n",
       "Dendritic_cells  0.479416  0.396381  0.237165  \n",
       "Endothelial      0.339805  0.233110  0.231086  \n",
       "Eosinophils      0.351228  0.080969  0.007399  \n",
       "\n",
       "[5 rows x 56 columns]"
      ]
     },
     "execution_count": 10,
     "metadata": {},
     "output_type": "execute_result"
    }
   ],
   "source": [
    "data_nes.head()"
   ]
  },
  {
   "cell_type": "markdown",
   "metadata": {},
   "source": [
    "### Check empty cells"
   ]
  },
  {
   "cell_type": "code",
   "execution_count": 11,
   "metadata": {},
   "outputs": [
    {
     "data": {
      "text/plain": [
       "{0}"
      ]
     },
     "execution_count": 11,
     "metadata": {},
     "output_type": "execute_result"
    }
   ],
   "source": [
    "set(data_nes.isnull().sum())"
   ]
  },
  {
   "cell_type": "markdown",
   "metadata": {},
   "source": [
    "## Load mRNA tumour cellularity data"
   ]
  },
  {
   "cell_type": "code",
   "execution_count": 12,
   "metadata": {},
   "outputs": [
    {
     "data": {
      "text/html": [
       "<div>\n",
       "<style scoped>\n",
       "    .dataframe tbody tr th:only-of-type {\n",
       "        vertical-align: middle;\n",
       "    }\n",
       "\n",
       "    .dataframe tbody tr th {\n",
       "        vertical-align: top;\n",
       "    }\n",
       "\n",
       "    .dataframe thead th {\n",
       "        text-align: right;\n",
       "    }\n",
       "</style>\n",
       "<table border=\"1\" class=\"dataframe\">\n",
       "  <thead>\n",
       "    <tr style=\"text-align: right;\">\n",
       "      <th></th>\n",
       "      <th>A01</th>\n",
       "      <th>A02</th>\n",
       "      <th>A03</th>\n",
       "      <th>A04</th>\n",
       "      <th>A05</th>\n",
       "      <th>A06</th>\n",
       "      <th>A07</th>\n",
       "      <th>A08</th>\n",
       "      <th>A09</th>\n",
       "      <th>A10</th>\n",
       "      <th>...</th>\n",
       "      <th>D12</th>\n",
       "      <th>E01</th>\n",
       "      <th>E02</th>\n",
       "      <th>E03</th>\n",
       "      <th>E04</th>\n",
       "      <th>E05</th>\n",
       "      <th>E06</th>\n",
       "      <th>E07</th>\n",
       "      <th>E08</th>\n",
       "      <th>E09</th>\n",
       "    </tr>\n",
       "    <tr>\n",
       "      <th>NAME</th>\n",
       "      <th></th>\n",
       "      <th></th>\n",
       "      <th></th>\n",
       "      <th></th>\n",
       "      <th></th>\n",
       "      <th></th>\n",
       "      <th></th>\n",
       "      <th></th>\n",
       "      <th></th>\n",
       "      <th></th>\n",
       "      <th></th>\n",
       "      <th></th>\n",
       "      <th></th>\n",
       "      <th></th>\n",
       "      <th></th>\n",
       "      <th></th>\n",
       "      <th></th>\n",
       "      <th></th>\n",
       "      <th></th>\n",
       "      <th></th>\n",
       "      <th></th>\n",
       "    </tr>\n",
       "  </thead>\n",
       "  <tbody>\n",
       "    <tr>\n",
       "      <th>StromalScore</th>\n",
       "      <td>150.243978</td>\n",
       "      <td>100.962227</td>\n",
       "      <td>967.051900</td>\n",
       "      <td>808.453034</td>\n",
       "      <td>-65.569315</td>\n",
       "      <td>489.893858</td>\n",
       "      <td>490.720381</td>\n",
       "      <td>1061.377025</td>\n",
       "      <td>235.450362</td>\n",
       "      <td>418.150347</td>\n",
       "      <td>...</td>\n",
       "      <td>263.744096</td>\n",
       "      <td>464.939728</td>\n",
       "      <td>802.734452</td>\n",
       "      <td>153.081049</td>\n",
       "      <td>1103.804616</td>\n",
       "      <td>579.702569</td>\n",
       "      <td>788.616732</td>\n",
       "      <td>1237.456125</td>\n",
       "      <td>887.344608</td>\n",
       "      <td>501.153545</td>\n",
       "    </tr>\n",
       "    <tr>\n",
       "      <th>ImmuneScore</th>\n",
       "      <td>176.145317</td>\n",
       "      <td>526.978700</td>\n",
       "      <td>1297.193578</td>\n",
       "      <td>1203.727348</td>\n",
       "      <td>131.468582</td>\n",
       "      <td>650.323221</td>\n",
       "      <td>407.055460</td>\n",
       "      <td>1082.029608</td>\n",
       "      <td>88.028614</td>\n",
       "      <td>282.209677</td>\n",
       "      <td>...</td>\n",
       "      <td>481.526245</td>\n",
       "      <td>516.592649</td>\n",
       "      <td>582.005013</td>\n",
       "      <td>29.396052</td>\n",
       "      <td>908.321033</td>\n",
       "      <td>258.334588</td>\n",
       "      <td>849.462145</td>\n",
       "      <td>1496.053219</td>\n",
       "      <td>969.848566</td>\n",
       "      <td>621.394231</td>\n",
       "    </tr>\n",
       "    <tr>\n",
       "      <th>ESTIMATEScore</th>\n",
       "      <td>326.389295</td>\n",
       "      <td>627.940928</td>\n",
       "      <td>2264.245478</td>\n",
       "      <td>2012.180381</td>\n",
       "      <td>65.899267</td>\n",
       "      <td>1140.217080</td>\n",
       "      <td>897.775841</td>\n",
       "      <td>2143.406633</td>\n",
       "      <td>323.478976</td>\n",
       "      <td>700.360025</td>\n",
       "      <td>...</td>\n",
       "      <td>745.270341</td>\n",
       "      <td>981.532377</td>\n",
       "      <td>1384.739465</td>\n",
       "      <td>182.477100</td>\n",
       "      <td>2012.125649</td>\n",
       "      <td>838.037157</td>\n",
       "      <td>1638.078877</td>\n",
       "      <td>2733.509343</td>\n",
       "      <td>1857.193174</td>\n",
       "      <td>1122.547776</td>\n",
       "    </tr>\n",
       "    <tr>\n",
       "      <th>TumorPurity</th>\n",
       "      <td>0.794327</td>\n",
       "      <td>0.766668</td>\n",
       "      <td>0.591924</td>\n",
       "      <td>0.621334</td>\n",
       "      <td>0.816969</td>\n",
       "      <td>0.716267</td>\n",
       "      <td>0.740642</td>\n",
       "      <td>0.606127</td>\n",
       "      <td>0.794586</td>\n",
       "      <td>0.759799</td>\n",
       "      <td>...</td>\n",
       "      <td>0.755497</td>\n",
       "      <td>0.732326</td>\n",
       "      <td>0.690764</td>\n",
       "      <td>0.806982</td>\n",
       "      <td>0.621341</td>\n",
       "      <td>0.746506</td>\n",
       "      <td>0.663403</td>\n",
       "      <td>0.535046</td>\n",
       "      <td>0.638998</td>\n",
       "      <td>0.718075</td>\n",
       "    </tr>\n",
       "  </tbody>\n",
       "</table>\n",
       "<p>4 rows × 56 columns</p>\n",
       "</div>"
      ],
      "text/plain": [
       "                      A01         A02          A03          A04         A05  \\\n",
       "NAME                                                                          \n",
       "StromalScore   150.243978  100.962227   967.051900   808.453034  -65.569315   \n",
       "ImmuneScore    176.145317  526.978700  1297.193578  1203.727348  131.468582   \n",
       "ESTIMATEScore  326.389295  627.940928  2264.245478  2012.180381   65.899267   \n",
       "TumorPurity      0.794327    0.766668     0.591924     0.621334    0.816969   \n",
       "\n",
       "                       A06         A07          A08         A09         A10  \\\n",
       "NAME                                                                          \n",
       "StromalScore    489.893858  490.720381  1061.377025  235.450362  418.150347   \n",
       "ImmuneScore     650.323221  407.055460  1082.029608   88.028614  282.209677   \n",
       "ESTIMATEScore  1140.217080  897.775841  2143.406633  323.478976  700.360025   \n",
       "TumorPurity       0.716267    0.740642     0.606127    0.794586    0.759799   \n",
       "\n",
       "               ...         D12         E01          E02         E03  \\\n",
       "NAME           ...                                                    \n",
       "StromalScore   ...  263.744096  464.939728   802.734452  153.081049   \n",
       "ImmuneScore    ...  481.526245  516.592649   582.005013   29.396052   \n",
       "ESTIMATEScore  ...  745.270341  981.532377  1384.739465  182.477100   \n",
       "TumorPurity    ...    0.755497    0.732326     0.690764    0.806982   \n",
       "\n",
       "                       E04         E05          E06          E07          E08  \\\n",
       "NAME                                                                            \n",
       "StromalScore   1103.804616  579.702569   788.616732  1237.456125   887.344608   \n",
       "ImmuneScore     908.321033  258.334588   849.462145  1496.053219   969.848566   \n",
       "ESTIMATEScore  2012.125649  838.037157  1638.078877  2733.509343  1857.193174   \n",
       "TumorPurity       0.621341    0.746506     0.663403     0.535046     0.638998   \n",
       "\n",
       "                       E09  \n",
       "NAME                        \n",
       "StromalScore    501.153545  \n",
       "ImmuneScore     621.394231  \n",
       "ESTIMATEScore  1122.547776  \n",
       "TumorPurity       0.718075  \n",
       "\n",
       "[4 rows x 56 columns]"
      ]
     },
     "execution_count": 12,
     "metadata": {},
     "output_type": "execute_result"
    }
   ],
   "source": [
    "mRNA_tumcell_file = home + 'Data/5/NACT_log2exp_loess_norm_filtered_ESTIMATE.txt'\n",
    "\n",
    "mRNA_tumcell = pd.read_csv(mRNA_tumcell_file,\n",
    "                           skiprows=2,\n",
    "                           sep='\\t',\n",
    "                           index_col='NAME')\n",
    "\n",
    "del(mRNA_tumcell['Description'])\n",
    "\n",
    "mRNA_tumcell.head()"
   ]
  },
  {
   "cell_type": "markdown",
   "metadata": {},
   "source": [
    "### Add mRNA tumour cellularity to NES dataframe"
   ]
  },
  {
   "cell_type": "code",
   "execution_count": 13,
   "metadata": {},
   "outputs": [],
   "source": [
    "data_nes_t = data_nes.T"
   ]
  },
  {
   "cell_type": "markdown",
   "metadata": {},
   "source": [
    "#### Multiply tumour cellularity times a small number to reduce it's impact in the PCA"
   ]
  },
  {
   "cell_type": "code",
   "execution_count": 14,
   "metadata": {},
   "outputs": [],
   "source": [
    "data_nes_t['TumourCellularity_mRNA'] = mRNA_tumcell.loc['TumorPurity'] * 0.0001"
   ]
  },
  {
   "cell_type": "code",
   "execution_count": 15,
   "metadata": {},
   "outputs": [],
   "source": [
    "data_nes = data_nes_t.T"
   ]
  },
  {
   "cell_type": "code",
   "execution_count": 16,
   "metadata": {},
   "outputs": [
    {
     "data": {
      "text/html": [
       "<div>\n",
       "<style scoped>\n",
       "    .dataframe tbody tr th:only-of-type {\n",
       "        vertical-align: middle;\n",
       "    }\n",
       "\n",
       "    .dataframe tbody tr th {\n",
       "        vertical-align: top;\n",
       "    }\n",
       "\n",
       "    .dataframe thead th {\n",
       "        text-align: right;\n",
       "    }\n",
       "</style>\n",
       "<table border=\"1\" class=\"dataframe\">\n",
       "  <thead>\n",
       "    <tr style=\"text-align: right;\">\n",
       "      <th></th>\n",
       "      <th>A01</th>\n",
       "      <th>A02</th>\n",
       "      <th>A03</th>\n",
       "      <th>A04</th>\n",
       "      <th>A05</th>\n",
       "      <th>A06</th>\n",
       "      <th>A07</th>\n",
       "      <th>A08</th>\n",
       "      <th>A09</th>\n",
       "      <th>A10</th>\n",
       "      <th>...</th>\n",
       "      <th>D12</th>\n",
       "      <th>E01</th>\n",
       "      <th>E02</th>\n",
       "      <th>E03</th>\n",
       "      <th>E04</th>\n",
       "      <th>E05</th>\n",
       "      <th>E06</th>\n",
       "      <th>E07</th>\n",
       "      <th>E08</th>\n",
       "      <th>E09</th>\n",
       "    </tr>\n",
       "    <tr>\n",
       "      <th>Term</th>\n",
       "      <th></th>\n",
       "      <th></th>\n",
       "      <th></th>\n",
       "      <th></th>\n",
       "      <th></th>\n",
       "      <th></th>\n",
       "      <th></th>\n",
       "      <th></th>\n",
       "      <th></th>\n",
       "      <th></th>\n",
       "      <th></th>\n",
       "      <th></th>\n",
       "      <th></th>\n",
       "      <th></th>\n",
       "      <th></th>\n",
       "      <th></th>\n",
       "      <th></th>\n",
       "      <th></th>\n",
       "      <th></th>\n",
       "      <th></th>\n",
       "      <th></th>\n",
       "    </tr>\n",
       "  </thead>\n",
       "  <tbody>\n",
       "    <tr>\n",
       "      <th>T_cells_CD4</th>\n",
       "      <td>-0.151260</td>\n",
       "      <td>-0.172278</td>\n",
       "      <td>0.154900</td>\n",
       "      <td>0.069036</td>\n",
       "      <td>-0.212100</td>\n",
       "      <td>-0.143919</td>\n",
       "      <td>-0.146261</td>\n",
       "      <td>-0.001396</td>\n",
       "      <td>-0.258183</td>\n",
       "      <td>-0.120923</td>\n",
       "      <td>...</td>\n",
       "      <td>-0.199379</td>\n",
       "      <td>-0.213471</td>\n",
       "      <td>-0.171529</td>\n",
       "      <td>-0.244783</td>\n",
       "      <td>-0.033248</td>\n",
       "      <td>-0.194803</td>\n",
       "      <td>-0.077282</td>\n",
       "      <td>0.163015</td>\n",
       "      <td>-0.007922</td>\n",
       "      <td>-0.093441</td>\n",
       "    </tr>\n",
       "    <tr>\n",
       "      <th>T_cells_CD8</th>\n",
       "      <td>-0.124588</td>\n",
       "      <td>-0.099327</td>\n",
       "      <td>0.098996</td>\n",
       "      <td>0.082092</td>\n",
       "      <td>-0.169720</td>\n",
       "      <td>-0.144463</td>\n",
       "      <td>-0.167269</td>\n",
       "      <td>-0.004968</td>\n",
       "      <td>-0.159959</td>\n",
       "      <td>-0.155491</td>\n",
       "      <td>...</td>\n",
       "      <td>-0.087820</td>\n",
       "      <td>-0.106419</td>\n",
       "      <td>-0.118318</td>\n",
       "      <td>-0.247615</td>\n",
       "      <td>0.025758</td>\n",
       "      <td>-0.182130</td>\n",
       "      <td>-0.034114</td>\n",
       "      <td>0.168739</td>\n",
       "      <td>0.004279</td>\n",
       "      <td>-0.072557</td>\n",
       "    </tr>\n",
       "    <tr>\n",
       "      <th>T_cells_gamma_delta</th>\n",
       "      <td>-0.121056</td>\n",
       "      <td>-0.110020</td>\n",
       "      <td>0.020995</td>\n",
       "      <td>0.065898</td>\n",
       "      <td>-0.180424</td>\n",
       "      <td>-0.120656</td>\n",
       "      <td>-0.143999</td>\n",
       "      <td>-0.051105</td>\n",
       "      <td>-0.231617</td>\n",
       "      <td>-0.171884</td>\n",
       "      <td>...</td>\n",
       "      <td>-0.089236</td>\n",
       "      <td>-0.112779</td>\n",
       "      <td>-0.147467</td>\n",
       "      <td>-0.258662</td>\n",
       "      <td>-0.023540</td>\n",
       "      <td>-0.152077</td>\n",
       "      <td>-0.047563</td>\n",
       "      <td>0.172180</td>\n",
       "      <td>-0.019459</td>\n",
       "      <td>-0.113018</td>\n",
       "    </tr>\n",
       "    <tr>\n",
       "      <th>T_regulatory_cells</th>\n",
       "      <td>-0.171317</td>\n",
       "      <td>-0.176621</td>\n",
       "      <td>0.124944</td>\n",
       "      <td>0.077918</td>\n",
       "      <td>-0.287924</td>\n",
       "      <td>-0.195206</td>\n",
       "      <td>-0.345462</td>\n",
       "      <td>0.040120</td>\n",
       "      <td>-0.353342</td>\n",
       "      <td>-0.133729</td>\n",
       "      <td>...</td>\n",
       "      <td>-0.229964</td>\n",
       "      <td>-0.182788</td>\n",
       "      <td>-0.230199</td>\n",
       "      <td>-0.264175</td>\n",
       "      <td>-0.043436</td>\n",
       "      <td>-0.208631</td>\n",
       "      <td>-0.065168</td>\n",
       "      <td>0.105513</td>\n",
       "      <td>-0.091520</td>\n",
       "      <td>-0.187371</td>\n",
       "    </tr>\n",
       "    <tr>\n",
       "      <th>TumourCellularity_mRNA</th>\n",
       "      <td>0.000079</td>\n",
       "      <td>0.000077</td>\n",
       "      <td>0.000059</td>\n",
       "      <td>0.000062</td>\n",
       "      <td>0.000082</td>\n",
       "      <td>0.000072</td>\n",
       "      <td>0.000074</td>\n",
       "      <td>0.000061</td>\n",
       "      <td>0.000079</td>\n",
       "      <td>0.000076</td>\n",
       "      <td>...</td>\n",
       "      <td>0.000076</td>\n",
       "      <td>0.000073</td>\n",
       "      <td>0.000069</td>\n",
       "      <td>0.000081</td>\n",
       "      <td>0.000062</td>\n",
       "      <td>0.000075</td>\n",
       "      <td>0.000066</td>\n",
       "      <td>0.000054</td>\n",
       "      <td>0.000064</td>\n",
       "      <td>0.000072</td>\n",
       "    </tr>\n",
       "  </tbody>\n",
       "</table>\n",
       "<p>5 rows × 56 columns</p>\n",
       "</div>"
      ],
      "text/plain": [
       "                             A01       A02       A03       A04       A05  \\\n",
       "Term                                                                       \n",
       "T_cells_CD4            -0.151260 -0.172278  0.154900  0.069036 -0.212100   \n",
       "T_cells_CD8            -0.124588 -0.099327  0.098996  0.082092 -0.169720   \n",
       "T_cells_gamma_delta    -0.121056 -0.110020  0.020995  0.065898 -0.180424   \n",
       "T_regulatory_cells     -0.171317 -0.176621  0.124944  0.077918 -0.287924   \n",
       "TumourCellularity_mRNA  0.000079  0.000077  0.000059  0.000062  0.000082   \n",
       "\n",
       "                             A06       A07       A08       A09       A10  ...  \\\n",
       "Term                                                                      ...   \n",
       "T_cells_CD4            -0.143919 -0.146261 -0.001396 -0.258183 -0.120923  ...   \n",
       "T_cells_CD8            -0.144463 -0.167269 -0.004968 -0.159959 -0.155491  ...   \n",
       "T_cells_gamma_delta    -0.120656 -0.143999 -0.051105 -0.231617 -0.171884  ...   \n",
       "T_regulatory_cells     -0.195206 -0.345462  0.040120 -0.353342 -0.133729  ...   \n",
       "TumourCellularity_mRNA  0.000072  0.000074  0.000061  0.000079  0.000076  ...   \n",
       "\n",
       "                             D12       E01       E02       E03       E04  \\\n",
       "Term                                                                       \n",
       "T_cells_CD4            -0.199379 -0.213471 -0.171529 -0.244783 -0.033248   \n",
       "T_cells_CD8            -0.087820 -0.106419 -0.118318 -0.247615  0.025758   \n",
       "T_cells_gamma_delta    -0.089236 -0.112779 -0.147467 -0.258662 -0.023540   \n",
       "T_regulatory_cells     -0.229964 -0.182788 -0.230199 -0.264175 -0.043436   \n",
       "TumourCellularity_mRNA  0.000076  0.000073  0.000069  0.000081  0.000062   \n",
       "\n",
       "                             E05       E06       E07       E08       E09  \n",
       "Term                                                                      \n",
       "T_cells_CD4            -0.194803 -0.077282  0.163015 -0.007922 -0.093441  \n",
       "T_cells_CD8            -0.182130 -0.034114  0.168739  0.004279 -0.072557  \n",
       "T_cells_gamma_delta    -0.152077 -0.047563  0.172180 -0.019459 -0.113018  \n",
       "T_regulatory_cells     -0.208631 -0.065168  0.105513 -0.091520 -0.187371  \n",
       "TumourCellularity_mRNA  0.000075  0.000066  0.000054  0.000064  0.000072  \n",
       "\n",
       "[5 rows x 56 columns]"
      ]
     },
     "execution_count": 16,
     "metadata": {},
     "output_type": "execute_result"
    }
   ],
   "source": [
    "data_nes.tail()"
   ]
  },
  {
   "cell_type": "markdown",
   "metadata": {},
   "source": [
    "### Visulase NES"
   ]
  },
  {
   "cell_type": "markdown",
   "metadata": {},
   "source": [
    "#### Samples"
   ]
  },
  {
   "cell_type": "code",
   "execution_count": 17,
   "metadata": {},
   "outputs": [
    {
     "data": {
      "text/plain": [
       "<matplotlib.axes._subplots.AxesSubplot at 0x1a224fc4a8>"
      ]
     },
     "execution_count": 17,
     "metadata": {},
     "output_type": "execute_result"
    },
    {
     "data": {
      "image/png": "[encoded data removed]",
      "text/plain": [
       "<Figure size 288x360 with 1 Axes>"
      ]
     },
     "metadata": {},
     "output_type": "display_data"
    }
   ],
   "source": [
    "data_nes.plot(kind='box',\n",
    "              vert=False,\n",
    "              figsize=(4,5))"
   ]
  },
  {
   "cell_type": "markdown",
   "metadata": {},
   "source": [
    "#### Variables"
   ]
  },
  {
   "cell_type": "code",
   "execution_count": 18,
   "metadata": {},
   "outputs": [
    {
     "data": {
      "text/plain": [
       "<matplotlib.axes._subplots.AxesSubplot at 0x1a22c568d0>"
      ]
     },
     "execution_count": 18,
     "metadata": {},
     "output_type": "execute_result"
    },
    {
     "data": {
      "image/png": "[encoded data removed]",
      "text/plain": [
       "<Figure size 432x576 with 1 Axes>"
      ]
     },
     "metadata": {},
     "output_type": "display_data"
    }
   ],
   "source": [
    "data_nes.transpose().plot(kind='box',\n",
    "                          vert=False,\n",
    "                          figsize=(6,8))"
   ]
  },
  {
   "cell_type": "markdown",
   "metadata": {},
   "source": [
    "## Calculate and plot PCA"
   ]
  },
  {
   "cell_type": "markdown",
   "metadata": {},
   "source": [
    "### Create custom colormaps (a.k.a. cmaps)"
   ]
  },
  {
   "cell_type": "code",
   "execution_count": 19,
   "metadata": {},
   "outputs": [],
   "source": [
    "def make_cmap(colors, position=None, bit=False):\n",
    "    \n",
    "    '''\n",
    "    make_cmap takes a list of tuples which contain RGB values. The RGB\n",
    "    values may either be in 8-bit [0 to 255] (in which bit must be set to\n",
    "    True when called) or arithmetic [0 to 1] (default). make_cmap returns\n",
    "    a cmap with equally spaced colors.\n",
    "    Arrange your tuples so that the first color is the lowest value for the\n",
    "    colorbar and the last is the highest.\n",
    "    position contains values from 0 to 1 to dictate the location of each color.\n",
    "    '''\n",
    "    import matplotlib as mpl\n",
    "    import numpy as np\n",
    "    bit_rgb = np.linspace(0,1,256)\n",
    "    if position == None:\n",
    "        position = np.linspace(0,1,len(colors))\n",
    "    else:\n",
    "        if len(position) != len(colors):\n",
    "            sys.exit(\"position length must be the same as colors\")\n",
    "        elif position[0] != 0 or position[-1] != 1:\n",
    "            sys.exit(\"position must start with 0 and end with 1\")\n",
    "    if bit:\n",
    "        for i in range(len(colors)):\n",
    "            colors[i] = (bit_rgb[colors[i][0]],\n",
    "                         bit_rgb[colors[i][1]],\n",
    "                         bit_rgb[colors[i][2]])\n",
    "    cdict = {'red':[], 'green':[], 'blue':[]}\n",
    "    for pos, color in zip(position, colors):\n",
    "        cdict['red'].append((pos, color[0], color[0]))\n",
    "        cdict['green'].append((pos, color[1], color[1]))\n",
    "        cdict['blue'].append((pos, color[2], color[2]))\n",
    "\n",
    "    cmap = mpl.colors.LinearSegmentedColormap('my_colormap',cdict,256)\n",
    "    \n",
    "    return cmap"
   ]
  },
  {
   "cell_type": "markdown",
   "metadata": {},
   "source": [
    "### Convert hex to rgb colour"
   ]
  },
  {
   "cell_type": "code",
   "execution_count": 20,
   "metadata": {},
   "outputs": [],
   "source": [
    "def hex_to_rgb(value):\n",
    "    \n",
    "    '''Return (red, green, blue) for the color given as #rrggbb.'''\n",
    "    \n",
    "    value = value.lstrip('#')\n",
    "    lv = len(value)\n",
    "    \n",
    "    return tuple(int(value[i:i + lv // 3], 16) for i in range(0, lv, lv // 3))"
   ]
  },
  {
   "cell_type": "markdown",
   "metadata": {},
   "source": [
    "### Define cmaps for patient treatment kernel densities"
   ]
  },
  {
   "cell_type": "code",
   "execution_count": 21,
   "metadata": {},
   "outputs": [],
   "source": [
    "NACT_colours = []\n",
    "for sample in sample_labels.index:\n",
    "    \n",
    "    if sample_labels['NACT'][sample] == 'Untreated':\n",
    "        NACT_colours.append('w')\n",
    "    \n",
    "    elif sample_labels['NACT'][sample] == 'Treated':\n",
    "        NACT_colours.append(sample_labels['Colour'][sample])\n",
    "    \n",
    "    elif np.isnan(NACT_colours['NACT'][sample]):\n",
    "        NACT_colours.append('w')\n",
    "    \n",
    "    else:\n",
    "        raise ValueError()"
   ]
  },
  {
   "cell_type": "code",
   "execution_count": 22,
   "metadata": {},
   "outputs": [],
   "source": [
    "NACT_colours_df = pd.DataFrame({'wells': sample_labels.index,\n",
    "                                'NACT_colour':pd.Series(NACT_colours)})\n",
    "\n",
    "NACT_colours_df.set_index('wells',\n",
    "                          inplace=True)\n",
    "\n",
    "sample_labels['NACT_colour'] = NACT_colours_df"
   ]
  },
  {
   "cell_type": "code",
   "execution_count": 23,
   "metadata": {},
   "outputs": [],
   "source": [
    "white = (255,255,255)\n",
    "\n",
    "reds = make_cmap([white, hex_to_rgb('#e41a1c')], bit=True)\n",
    "blues = make_cmap([white, hex_to_rgb('#377eb8')], bit=True)\n",
    "reds_r = make_cmap([hex_to_rgb('#e41a1c'), white], bit=True)\n",
    "blues_r = make_cmap([hex_to_rgb('#377eb8'), white], bit=True)"
   ]
  },
  {
   "cell_type": "markdown",
   "metadata": {},
   "source": [
    "### Colour-treatment correspondence"
   ]
  },
  {
   "cell_type": "code",
   "execution_count": 24,
   "metadata": {},
   "outputs": [],
   "source": [
    "NACT_colour_d = {'Treated':reds,\n",
    "                 'Untreated':blues}\n",
    "\n",
    "NACT_colour_dr = {'Treated':reds_r,\n",
    "                  'Untreated':blues_r}"
   ]
  },
  {
   "cell_type": "code",
   "execution_count": 25,
   "metadata": {},
   "outputs": [
    {
     "data": {
      "text/html": [
       "<div>\n",
       "<style scoped>\n",
       "    .dataframe tbody tr th:only-of-type {\n",
       "        vertical-align: middle;\n",
       "    }\n",
       "\n",
       "    .dataframe tbody tr th {\n",
       "        vertical-align: top;\n",
       "    }\n",
       "\n",
       "    .dataframe thead th {\n",
       "        text-align: right;\n",
       "    }\n",
       "</style>\n",
       "<table border=\"1\" class=\"dataframe\">\n",
       "  <thead>\n",
       "    <tr style=\"text-align: right;\">\n",
       "      <th></th>\n",
       "      <th>Name</th>\n",
       "      <th>Case_mRNA</th>\n",
       "      <th>NACT</th>\n",
       "      <th>Site</th>\n",
       "      <th>Bounds</th>\n",
       "      <th>Colour</th>\n",
       "      <th>Site_marker</th>\n",
       "      <th>NACT_colour</th>\n",
       "    </tr>\n",
       "    <tr>\n",
       "      <th>Well</th>\n",
       "      <th></th>\n",
       "      <th></th>\n",
       "      <th></th>\n",
       "      <th></th>\n",
       "      <th></th>\n",
       "      <th></th>\n",
       "      <th></th>\n",
       "      <th></th>\n",
       "    </tr>\n",
       "  </thead>\n",
       "  <tbody>\n",
       "    <tr>\n",
       "      <th>A01</th>\n",
       "      <td>A01_3368A_Liver</td>\n",
       "      <td>3368</td>\n",
       "      <td>Untreated</td>\n",
       "      <td>other</td>\n",
       "      <td>in</td>\n",
       "      <td>#62ae31</td>\n",
       "      <td>s</td>\n",
       "      <td>w</td>\n",
       "    </tr>\n",
       "    <tr>\n",
       "      <th>A02</th>\n",
       "      <td>A02_3368B_Liver</td>\n",
       "      <td>3368</td>\n",
       "      <td>Treated</td>\n",
       "      <td>other</td>\n",
       "      <td>out</td>\n",
       "      <td>#62ae31</td>\n",
       "      <td>s</td>\n",
       "      <td>#62ae31</td>\n",
       "    </tr>\n",
       "    <tr>\n",
       "      <th>A03</th>\n",
       "      <td>A03_0371A_R_diaphragm</td>\n",
       "      <td>371</td>\n",
       "      <td>Untreated</td>\n",
       "      <td>other</td>\n",
       "      <td>out</td>\n",
       "      <td>#f45deb</td>\n",
       "      <td>s</td>\n",
       "      <td>w</td>\n",
       "    </tr>\n",
       "    <tr>\n",
       "      <th>A04</th>\n",
       "      <td>A04_0371B_R_diaphragm</td>\n",
       "      <td>371</td>\n",
       "      <td>Treated</td>\n",
       "      <td>other</td>\n",
       "      <td>out</td>\n",
       "      <td>#f45deb</td>\n",
       "      <td>s</td>\n",
       "      <td>#f45deb</td>\n",
       "    </tr>\n",
       "    <tr>\n",
       "      <th>A05</th>\n",
       "      <td>A05_9717A_R_ovary</td>\n",
       "      <td>9717</td>\n",
       "      <td>Untreated</td>\n",
       "      <td>ovary</td>\n",
       "      <td>in</td>\n",
       "      <td>#f564d1</td>\n",
       "      <td>o</td>\n",
       "      <td>w</td>\n",
       "    </tr>\n",
       "  </tbody>\n",
       "</table>\n",
       "</div>"
      ],
      "text/plain": [
       "                       Name  Case_mRNA       NACT   Site Bounds   Colour  \\\n",
       "Well                                                                       \n",
       "A01         A01_3368A_Liver       3368  Untreated  other     in  #62ae31   \n",
       "A02         A02_3368B_Liver       3368    Treated  other    out  #62ae31   \n",
       "A03   A03_0371A_R_diaphragm        371  Untreated  other    out  #f45deb   \n",
       "A04   A04_0371B_R_diaphragm        371    Treated  other    out  #f45deb   \n",
       "A05       A05_9717A_R_ovary       9717  Untreated  ovary     in  #f564d1   \n",
       "\n",
       "     Site_marker NACT_colour  \n",
       "Well                          \n",
       "A01            s           w  \n",
       "A02            s     #62ae31  \n",
       "A03            s           w  \n",
       "A04            s     #f45deb  \n",
       "A05            o           w  "
      ]
     },
     "execution_count": 25,
     "metadata": {},
     "output_type": "execute_result"
    }
   ],
   "source": [
    "sample_labels.head()"
   ]
  },
  {
   "cell_type": "markdown",
   "metadata": {},
   "source": [
    "### Separate matched and unmatched samples"
   ]
  },
  {
   "cell_type": "code",
   "execution_count": 26,
   "metadata": {},
   "outputs": [],
   "source": [
    "matched = [3368,371,9717,8674,2359,564,7765,6965,9347]\n",
    "\n",
    "matched_df = sample_labels[sample_labels['Case_mRNA'].isin(matched)]\n",
    "\n",
    "unmatched_df = sample_labels[~sample_labels['Case_mRNA'].isin(matched)]"
   ]
  },
  {
   "cell_type": "code",
   "execution_count": 27,
   "metadata": {},
   "outputs": [],
   "source": [
    "matched_nes_df = data_nes[matched_df.index]\n",
    "\n",
    "unmatched_nes_df = data_nes[unmatched_df.index]"
   ]
  },
  {
   "cell_type": "markdown",
   "metadata": {},
   "source": [
    "## Calculate matched PCA"
   ]
  },
  {
   "cell_type": "code",
   "execution_count": 28,
   "metadata": {},
   "outputs": [],
   "source": [
    "pca = PCA(n_components=7)"
   ]
  },
  {
   "cell_type": "code",
   "execution_count": 29,
   "metadata": {},
   "outputs": [],
   "source": [
    "pca_nes = pca.fit_transform(matched_nes_df.transpose())"
   ]
  },
  {
   "cell_type": "code",
   "execution_count": 30,
   "metadata": {},
   "outputs": [
    {
     "data": {
      "text/plain": [
       "18"
      ]
     },
     "execution_count": 30,
     "metadata": {},
     "output_type": "execute_result"
    }
   ],
   "source": [
    "len(pca_nes) # check number of data points"
   ]
  },
  {
   "cell_type": "markdown",
   "metadata": {},
   "source": [
    "#### Get PCA loadings"
   ]
  },
  {
   "cell_type": "code",
   "execution_count": 31,
   "metadata": {},
   "outputs": [
    {
     "data": {
      "text/plain": [
       "array([0.66381668, 0.10193908, 0.08387656, 0.03952195, 0.03438551,\n",
       "       0.02178922, 0.01656684])"
      ]
     },
     "execution_count": 31,
     "metadata": {},
     "output_type": "execute_result"
    }
   ],
   "source": [
    "var_exp = pca.explained_variance_ratio_\n",
    "var_exp"
   ]
  },
  {
   "cell_type": "markdown",
   "metadata": {},
   "source": [
    "### Plot PCA"
   ]
  },
  {
   "cell_type": "code",
   "execution_count": 32,
   "metadata": {},
   "outputs": [],
   "source": [
    "pcx=0\n",
    "pcy=1"
   ]
  },
  {
   "cell_type": "code",
   "execution_count": 33,
   "metadata": {},
   "outputs": [
    {
     "data": {
      "image/png": "[encoded data removed]",
      "text/plain": [
       "<Figure size 360x360 with 1 Axes>"
      ]
     },
     "metadata": {},
     "output_type": "display_data"
    }
   ],
   "source": [
    "fig = plt.figure(figsize=(5, 5))\n",
    "\n",
    "plt.title('t-SNE')\n",
    "\n",
    "d_kde = {}\n",
    "for i in range(len(pca_nes[:, 0])):\n",
    "    \n",
    "    plt.scatter(pca_nes[:, pcx][i],\n",
    "                pca_nes[:, pcy][i],\n",
    "                c=list(sample_labels['NACT_colour'])[i],\n",
    "                edgecolors=list(sample_labels['Colour'])[i],\n",
    "                marker=list(sample_labels['Site_marker'])[i],\n",
    "                zorder=1,\n",
    "                lw=1,\n",
    "                s=50)\n",
    "    \n",
    "    if list(sample_labels['NACT'])[i] not in d_kde:\n",
    "        \n",
    "        d_kde[list(sample_labels['NACT'])[i]] = {'x':[pca_nes[:, pcx][i]],\n",
    "                                                 'y':[pca_nes[:, pcy][i]]}\n",
    "                                                 \n",
    "    else:\n",
    "        \n",
    "        d_kde[list(sample_labels['NACT'])[i]]['x'].append(pca_nes[:, pcx][i])\n",
    "        d_kde[list(sample_labels['NACT'])[i]]['y'].append(pca_nes[:, pcy][i])\n",
    "        \n",
    "for j in d_kde:\n",
    "\n",
    "    sns.kdeplot(np.array(d_kde[j]['x']),\n",
    "                np.array(d_kde[j]['y']),\n",
    "                cmap=NACT_colour_d[j],\n",
    "                n_levels=27,\n",
    "                alpha=.2,\n",
    "                zorder=0,\n",
    "                cut=3)\n",
    "    \n",
    "    sns.kdeplot(np.array(d_kde[j]['x']),\n",
    "                np.array(d_kde[j]['y']),\n",
    "                cmap=NACT_colour_dr[j],\n",
    "                n_levels=1,\n",
    "                alpha=.7,\n",
    "                zorder=0,\n",
    "                cut=3)\n",
    "\n",
    "xlabel = 'PC%i(%i%s)' % (pcx+1,var_exp[pcx]*100,'%')\n",
    "ylabel = 'PC%i(%i%s)' % (pcy+1,var_exp[pcy]*100,'%')\n",
    "\n",
    "plt.xlabel(xlabel)\n",
    "plt.ylabel(ylabel)\n",
    "sns.despine(trim=True)"
   ]
  },
  {
   "cell_type": "markdown",
   "metadata": {},
   "source": [
    "### Save plot"
   ]
  },
  {
   "cell_type": "code",
   "execution_count": 34,
   "metadata": {},
   "outputs": [],
   "source": [
    "file_name = '../../Figures/main/5/panels/5e_NACT_matched_consensusTME_PCA_%s_%s.pdf' % (pcx,pcy)\n",
    "\n",
    "fig.savefig(file_name, bbox='tight')"
   ]
  },
  {
   "cell_type": "markdown",
   "metadata": {},
   "source": [
    "### Plot PCA loadings"
   ]
  },
  {
   "cell_type": "code",
   "execution_count": 35,
   "metadata": {},
   "outputs": [
    {
     "data": {
      "text/plain": [
       "[<matplotlib.lines.Line2D at 0x1a23150908>]"
      ]
     },
     "execution_count": 35,
     "metadata": {},
     "output_type": "execute_result"
    },
    {
     "data": {
      "image/png": "[encoded data removed]",
      "text/plain": [
       "<Figure size 432x288 with 1 Axes>"
      ]
     },
     "metadata": {},
     "output_type": "display_data"
    }
   ],
   "source": [
    "fig = plt.figure()\n",
    "\n",
    "plt.title('PCA loadings')\n",
    "\n",
    "plt.plot(var_exp, 'o', mfc='w', c='k', zorder=2, ms=7)\n",
    "plt.plot(var_exp, '-', c='k', zorder=1)"
   ]
  },
  {
   "cell_type": "markdown",
   "metadata": {},
   "source": [
    "### Save plot"
   ]
  },
  {
   "cell_type": "code",
   "execution_count": 36,
   "metadata": {},
   "outputs": [],
   "source": [
    "file_name = '../../Figures/supplementary/5/panels/s5f_NACT_matched_consensusTME_PCA_loadings.pdf'\n",
    "\n",
    "fig.savefig(file_name, bbox='tight')"
   ]
  },
  {
   "cell_type": "markdown",
   "metadata": {},
   "source": [
    "## Calculate unmatched PCA"
   ]
  },
  {
   "cell_type": "code",
   "execution_count": 37,
   "metadata": {},
   "outputs": [],
   "source": [
    "pca = PCA(n_components=7)"
   ]
  },
  {
   "cell_type": "code",
   "execution_count": 38,
   "metadata": {},
   "outputs": [],
   "source": [
    "pca_nes = pca.fit_transform(unmatched_nes_df.transpose())"
   ]
  },
  {
   "cell_type": "code",
   "execution_count": 39,
   "metadata": {},
   "outputs": [
    {
     "data": {
      "text/plain": [
       "38"
      ]
     },
     "execution_count": 39,
     "metadata": {},
     "output_type": "execute_result"
    }
   ],
   "source": [
    "len(pca_nes) # check number of data points"
   ]
  },
  {
   "cell_type": "markdown",
   "metadata": {},
   "source": [
    "#### Get PCA loadings"
   ]
  },
  {
   "cell_type": "code",
   "execution_count": 40,
   "metadata": {},
   "outputs": [
    {
     "data": {
      "text/plain": [
       "array([0.58139212, 0.10453163, 0.0762314 , 0.06810188, 0.04344725,\n",
       "       0.03410704, 0.02790092])"
      ]
     },
     "execution_count": 40,
     "metadata": {},
     "output_type": "execute_result"
    }
   ],
   "source": [
    "var_exp = pca.explained_variance_ratio_\n",
    "var_exp"
   ]
  },
  {
   "cell_type": "markdown",
   "metadata": {},
   "source": [
    "### Plot PCA"
   ]
  },
  {
   "cell_type": "code",
   "execution_count": 41,
   "metadata": {},
   "outputs": [],
   "source": [
    "pcx=0\n",
    "pcy=1"
   ]
  },
  {
   "cell_type": "code",
   "execution_count": 42,
   "metadata": {},
   "outputs": [
    {
     "data": {
      "image/png": "[encoded data removed]",
      "text/plain": [
       "<Figure size 360x360 with 1 Axes>"
      ]
     },
     "metadata": {},
     "output_type": "display_data"
    }
   ],
   "source": [
    "fig = plt.figure(figsize=(5, 5))\n",
    "\n",
    "plt.title('t-SNE')\n",
    "\n",
    "d_kde = {}\n",
    "for i in range(len(pca_nes[:, 0])):\n",
    "    \n",
    "    plt.scatter(pca_nes[:, pcx][i],\n",
    "                pca_nes[:, pcy][i],\n",
    "                c=list(sample_labels['NACT_colour'])[i],\n",
    "                edgecolors=list(sample_labels['Colour'])[i],\n",
    "                marker=list(sample_labels['Site_marker'])[i],\n",
    "                zorder=1,\n",
    "                lw=1,\n",
    "                s=50)\n",
    "    \n",
    "    if list(sample_labels['NACT'])[i] not in d_kde:\n",
    "        \n",
    "        d_kde[list(sample_labels['NACT'])[i]] = {'x':[pca_nes[:, pcx][i]],\n",
    "                                                 'y':[pca_nes[:, pcy][i]]}\n",
    "                                                 \n",
    "    else:\n",
    "        \n",
    "        d_kde[list(sample_labels['NACT'])[i]]['x'].append(pca_nes[:, pcx][i])\n",
    "        d_kde[list(sample_labels['NACT'])[i]]['y'].append(pca_nes[:, pcy][i])\n",
    "        \n",
    "for j in d_kde:\n",
    "\n",
    "    sns.kdeplot(np.array(d_kde[j]['x']),\n",
    "                np.array(d_kde[j]['y']),\n",
    "                cmap=NACT_colour_d[j],\n",
    "                n_levels=27,\n",
    "                alpha=.2,\n",
    "                zorder=0,\n",
    "                cut=3)\n",
    "    \n",
    "    sns.kdeplot(np.array(d_kde[j]['x']),\n",
    "                np.array(d_kde[j]['y']),\n",
    "                cmap=NACT_colour_dr[j],\n",
    "                n_levels=1,\n",
    "                alpha=.7,\n",
    "                zorder=0,\n",
    "                cut=3)\n",
    "\n",
    "xlabel = 'PC%i(%i%s)' % (pcx+1,var_exp[pcx]*100,'%')\n",
    "ylabel = 'PC%i(%i%s)' % (pcy+1,var_exp[pcy]*100,'%')\n",
    "\n",
    "plt.xlabel(xlabel)\n",
    "plt.ylabel(ylabel)\n",
    "sns.despine(trim=True)"
   ]
  },
  {
   "cell_type": "markdown",
   "metadata": {},
   "source": [
    "### Save plot"
   ]
  },
  {
   "cell_type": "code",
   "execution_count": 43,
   "metadata": {},
   "outputs": [],
   "source": [
    "file_name = '../../Figures/main/5/panels/5e_NACT_unmatched_consensusTME_PCA_%s_%s.pdf' % (pcx,pcy)\n",
    "\n",
    "fig.savefig(file_name, bbox='tight')"
   ]
  },
  {
   "cell_type": "markdown",
   "metadata": {},
   "source": [
    "### Plot PCA loadings"
   ]
  },
  {
   "cell_type": "code",
   "execution_count": 44,
   "metadata": {},
   "outputs": [
    {
     "data": {
      "text/plain": [
       "[<matplotlib.lines.Line2D at 0x1a2330f160>]"
      ]
     },
     "execution_count": 44,
     "metadata": {},
     "output_type": "execute_result"
    },
    {
     "data": {
      "image/png": "[encoded data removed]",
      "text/plain": [
       "<Figure size 432x288 with 1 Axes>"
      ]
     },
     "metadata": {},
     "output_type": "display_data"
    }
   ],
   "source": [
    "fig = plt.figure()\n",
    "\n",
    "plt.title('PCA loadings')\n",
    "\n",
    "plt.plot(var_exp, 'o', mfc='w', c='k', zorder=2, ms=7)\n",
    "plt.plot(var_exp, '-', c='k', zorder=1)"
   ]
  },
  {
   "cell_type": "markdown",
   "metadata": {},
   "source": [
    "### Save plot"
   ]
  },
  {
   "cell_type": "code",
   "execution_count": 45,
   "metadata": {},
   "outputs": [],
   "source": [
    "file_name = '../../Figures/supplementary/5/panels/s5f_NACT_unmatched_consensusTME_PCA_loadings.pdf'\n",
    "\n",
    "fig.savefig(file_name, bbox='tight')"
   ]
  },
  {
   "cell_type": "markdown",
   "metadata": {},
   "source": [
    "# End script"
   ]
  }
 ],
 "metadata": {
  "kernelspec": {
   "display_name": "Python 3",
   "language": "python",
   "name": "python3"
  },
  "language_info": {
   "codemirror_mode": {
    "name": "ipython",
    "version": 3
   },
   "file_extension": ".py",
   "mimetype": "text/x-python",
   "name": "python",
   "nbconvert_exporter": "python",
   "pygments_lexer": "ipython3",
   "version": "3.6.8"
  }
 },
 "nbformat": 4,
 "nbformat_minor": 2
}

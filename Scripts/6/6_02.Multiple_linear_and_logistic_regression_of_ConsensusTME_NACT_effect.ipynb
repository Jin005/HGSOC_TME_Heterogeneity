{
 "cells": [
  {
   "cell_type": "markdown",
   "metadata": {},
   "source": [
    "# Multivariate analyses for TME cell comparison"
   ]
  },
  {
   "cell_type": "markdown",
   "metadata": {},
   "source": [
    "Script related to figure 6b, s6a-b\n",
    "\n",
    "### Aim:\n",
    "- Perform multiple linear regression for TME cell subset variable comparison\n",
    "- Perform logistic regression of TME cell subsets and variable comparison"
   ]
  },
  {
   "cell_type": "code",
   "execution_count": 1,
   "metadata": {},
   "outputs": [
    {
     "data": {
      "text/plain": [
       "R version 3.5.0 (2018-04-23)\n",
       "Platform: x86_64-apple-darwin15.6.0 (64-bit)\n",
       "Running under: macOS High Sierra 10.13.6\n",
       "\n",
       "Matrix products: default\n",
       "BLAS: /Library/Frameworks/R.framework/Versions/3.5/Resources/lib/libRblas.0.dylib\n",
       "LAPACK: /Library/Frameworks/R.framework/Versions/3.5/Resources/lib/libRlapack.dylib\n",
       "\n",
       "locale:\n",
       "[1] C/UTF-8/C/C/C/C\n",
       "\n",
       "attached base packages:\n",
       "[1] stats     graphics  grDevices utils     datasets  methods   base     \n",
       "\n",
       "loaded via a namespace (and not attached):\n",
       " [1] compiler_3.5.0  IRdisplay_0.6.1 pbdZMQ_0.3-3    tools_3.5.0    \n",
       " [5] htmltools_0.4.0 base64enc_0.1-3 crayon_1.3.4    Rcpp_1.0.4.6   \n",
       " [9] uuid_0.1-4      IRkernel_0.8.14 jsonlite_1.6.1  digest_0.6.25  \n",
       "[13] repr_0.17       rlang_0.4.6     evaluate_0.14  "
      ]
     },
     "metadata": {},
     "output_type": "display_data"
    }
   ],
   "source": [
    "sessionInfo()"
   ]
  },
  {
   "cell_type": "markdown",
   "metadata": {},
   "source": [
    "## Load packages"
   ]
  },
  {
   "cell_type": "code",
   "execution_count": 2,
   "metadata": {},
   "outputs": [],
   "source": [
    "setwd(\"~/git_repos/HGSOC_TME_Heterogeneity/\")"
   ]
  },
  {
   "cell_type": "markdown",
   "metadata": {},
   "source": [
    "## Load sample labels"
   ]
  },
  {
   "cell_type": "code",
   "execution_count": 3,
   "metadata": {},
   "outputs": [],
   "source": [
    "samples <- read.table('Data/5/NACT_SampleLabels.txt',\n",
    "                      sep='\\t',\n",
    "                      header=T,\n",
    "                      row.names='Well')"
   ]
  },
  {
   "cell_type": "code",
   "execution_count": 4,
   "metadata": {},
   "outputs": [],
   "source": [
    "matched <- c(3368,371,9717,8674,2359,564,7765,6965,9347)\n",
    "\n",
    "samples$Matched <- samples$Case_mRNA %in% matched"
   ]
  },
  {
   "cell_type": "code",
   "execution_count": 5,
   "metadata": {},
   "outputs": [
    {
     "data": {
      "text/html": [
       "<table>\n",
       "<thead><tr><th></th><th scope=col>Name</th><th scope=col>Case_mRNA</th><th scope=col>NACT</th><th scope=col>Site</th><th scope=col>Bounds</th><th scope=col>Matched</th></tr></thead>\n",
       "<tbody>\n",
       "\t<tr><th scope=row>A01</th><td>A01_3368A_Liver      </td><td>3368                 </td><td>Untreated            </td><td>other                </td><td>in                   </td><td>TRUE                 </td></tr>\n",
       "\t<tr><th scope=row>A02</th><td>A02_3368B_Liver      </td><td>3368                 </td><td>Treated              </td><td>other                </td><td>out                  </td><td>TRUE                 </td></tr>\n",
       "\t<tr><th scope=row>A03</th><td>A03_0371A_R_diaphragm</td><td> 371                 </td><td>Untreated            </td><td>other                </td><td>out                  </td><td>TRUE                 </td></tr>\n",
       "\t<tr><th scope=row>A04</th><td>A04_0371B_R_diaphragm</td><td> 371                 </td><td>Treated              </td><td>other                </td><td>out                  </td><td>TRUE                 </td></tr>\n",
       "\t<tr><th scope=row>A05</th><td>A05_9717A_R_ovary    </td><td>9717                 </td><td>Untreated            </td><td>ovary                </td><td>in                   </td><td>TRUE                 </td></tr>\n",
       "\t<tr><th scope=row>A06</th><td>A06_9717B_R_ovary    </td><td>9717                 </td><td>Treated              </td><td>ovary                </td><td>out                  </td><td>TRUE                 </td></tr>\n",
       "</tbody>\n",
       "</table>\n"
      ],
      "text/latex": [
       "\\begin{tabular}{r|llllll}\n",
       "  & Name & Case\\_mRNA & NACT & Site & Bounds & Matched\\\\\n",
       "\\hline\n",
       "\tA01 & A01\\_3368A\\_Liver       & 3368                      & Untreated                 & other                     & in                        & TRUE                     \\\\\n",
       "\tA02 & A02\\_3368B\\_Liver       & 3368                      & Treated                   & other                     & out                       & TRUE                     \\\\\n",
       "\tA03 & A03\\_0371A\\_R\\_diaphragm &  371                        & Untreated                   & other                       & out                         & TRUE                       \\\\\n",
       "\tA04 & A04\\_0371B\\_R\\_diaphragm &  371                        & Treated                     & other                       & out                         & TRUE                       \\\\\n",
       "\tA05 & A05\\_9717A\\_R\\_ovary     & 9717                        & Untreated                   & ovary                       & in                          & TRUE                       \\\\\n",
       "\tA06 & A06\\_9717B\\_R\\_ovary     & 9717                        & Treated                     & ovary                       & out                         & TRUE                       \\\\\n",
       "\\end{tabular}\n"
      ],
      "text/markdown": [
       "\n",
       "| <!--/--> | Name | Case_mRNA | NACT | Site | Bounds | Matched | \n",
       "|---|---|---|---|---|---|\n",
       "| A01 | A01_3368A_Liver       | 3368                  | Untreated             | other                 | in                    | TRUE                  | \n",
       "| A02 | A02_3368B_Liver       | 3368                  | Treated               | other                 | out                   | TRUE                  | \n",
       "| A03 | A03_0371A_R_diaphragm |  371                  | Untreated             | other                 | out                   | TRUE                  | \n",
       "| A04 | A04_0371B_R_diaphragm |  371                  | Treated               | other                 | out                   | TRUE                  | \n",
       "| A05 | A05_9717A_R_ovary     | 9717                  | Untreated             | ovary                 | in                    | TRUE                  | \n",
       "| A06 | A06_9717B_R_ovary     | 9717                  | Treated               | ovary                 | out                   | TRUE                  | \n",
       "\n",
       "\n"
      ],
      "text/plain": [
       "    Name                  Case_mRNA NACT      Site  Bounds Matched\n",
       "A01 A01_3368A_Liver       3368      Untreated other in     TRUE   \n",
       "A02 A02_3368B_Liver       3368      Treated   other out    TRUE   \n",
       "A03 A03_0371A_R_diaphragm  371      Untreated other out    TRUE   \n",
       "A04 A04_0371B_R_diaphragm  371      Treated   other out    TRUE   \n",
       "A05 A05_9717A_R_ovary     9717      Untreated ovary in     TRUE   \n",
       "A06 A06_9717B_R_ovary     9717      Treated   ovary out    TRUE   "
      ]
     },
     "metadata": {},
     "output_type": "display_data"
    }
   ],
   "source": [
    "head(samples)"
   ]
  },
  {
   "cell_type": "markdown",
   "metadata": {},
   "source": [
    "## Load ConsensusTME NES"
   ]
  },
  {
   "cell_type": "code",
   "execution_count": 6,
   "metadata": {},
   "outputs": [
    {
     "data": {
      "text/html": [
       "<table>\n",
       "<thead><tr><th></th><th scope=col>B_cells</th><th scope=col>Cytotoxic_cells</th><th scope=col>Dendritic_cells</th><th scope=col>Endothelial</th><th scope=col>Eosinophils</th><th scope=col>Fibroblasts</th><th scope=col>Macrophages</th><th scope=col>Macrophages_M1</th><th scope=col>Macrophages_M2</th><th scope=col>Mast_cells</th><th scope=col>Monocytes</th><th scope=col>NK_cells</th><th scope=col>Neutrophils</th><th scope=col>Plasma_cells</th><th scope=col>T_cells_CD4</th><th scope=col>T_cells_CD8</th><th scope=col>T_cells_gamma_delta</th><th scope=col>T_regulatory_cells</th></tr></thead>\n",
       "<tbody>\n",
       "\t<tr><th scope=row>A01</th><td>0.2544767   </td><td>0.16012391  </td><td>0.23412023  </td><td> 0.14187053 </td><td>-0.104189950</td><td>0.09241945  </td><td>0.2670112   </td><td>0.1720899   </td><td>0.1814478   </td><td> 0.02192616 </td><td>0.2304878   </td><td>-0.02041523 </td><td>0.1091831   </td><td>0.3268816   </td><td>-0.1512603  </td><td>-0.12458821 </td><td>-0.12105553 </td><td>-0.17131674 </td></tr>\n",
       "\t<tr><th scope=row>A02</th><td>0.1831832   </td><td>0.08682826  </td><td>0.24272549  </td><td>-0.03106225 </td><td>-0.001941604</td><td>0.09346663  </td><td>0.2836625   </td><td>0.1048446   </td><td>0.1960520   </td><td>-0.11581174 </td><td>0.2591486   </td><td>-0.02526795 </td><td>0.2488612   </td><td>0.4832443   </td><td>-0.1722784  </td><td>-0.09932701 </td><td>-0.11002029 </td><td>-0.17662104 </td></tr>\n",
       "\t<tr><th scope=row>A03</th><td>0.3284338   </td><td>0.25078253  </td><td>0.35828990  </td><td> 0.35977859 </td><td> 0.118276210</td><td>0.30425047  </td><td>0.4091265   </td><td>0.2950658   </td><td>0.3210669   </td><td> 0.04103930 </td><td>0.3858617   </td><td> 0.02020867 </td><td>0.3013136   </td><td>0.4849676   </td><td> 0.1548997  </td><td> 0.09899607 </td><td> 0.02099488 </td><td> 0.12494436 </td></tr>\n",
       "\t<tr><th scope=row>A04</th><td>0.2229200   </td><td>0.46928297  </td><td>0.24966760  </td><td> 0.38595430 </td><td> 0.292185918</td><td>0.49939131  </td><td>0.2848222   </td><td>0.2185944   </td><td>0.3128521   </td><td> 0.30652579 </td><td>0.3205545   </td><td> 0.17078484 </td><td>0.4332402   </td><td>0.5125873   </td><td> 0.0690361  </td><td> 0.08209151 </td><td> 0.06589801 </td><td> 0.07791841 </td></tr>\n",
       "\t<tr><th scope=row>A05</th><td>0.1584463   </td><td>0.14999672  </td><td>0.09665491  </td><td>-0.03893381 </td><td>-0.136141994</td><td>0.03414850  </td><td>0.2307931   </td><td>0.1273806   </td><td>0.2043502   </td><td>-0.15383368 </td><td>0.2006747   </td><td>-0.09731896 </td><td>0.2647767   </td><td>0.2534280   </td><td>-0.2120999  </td><td>-0.16972010 </td><td>-0.18042408 </td><td>-0.28792353 </td></tr>\n",
       "\t<tr><th scope=row>A06</th><td>0.2086076   </td><td>0.28042125  </td><td>0.21956787  </td><td> 0.29585502 </td><td>-0.127744151</td><td>0.03049037  </td><td>0.3885820   </td><td>0.2812594   </td><td>0.3980291   </td><td>-0.07557768 </td><td>0.2615250   </td><td>-0.01597149 </td><td>0.2808125   </td><td>0.3320963   </td><td>-0.1439186  </td><td>-0.14446257 </td><td>-0.12065637 </td><td>-0.19520560 </td></tr>\n",
       "</tbody>\n",
       "</table>\n"
      ],
      "text/latex": [
       "\\begin{tabular}{r|llllllllllllllllll}\n",
       "  & B\\_cells & Cytotoxic\\_cells & Dendritic\\_cells & Endothelial & Eosinophils & Fibroblasts & Macrophages & Macrophages\\_M1 & Macrophages\\_M2 & Mast\\_cells & Monocytes & NK\\_cells & Neutrophils & Plasma\\_cells & T\\_cells\\_CD4 & T\\_cells\\_CD8 & T\\_cells\\_gamma\\_delta & T\\_regulatory\\_cells\\\\\n",
       "\\hline\n",
       "\tA01 & 0.2544767    & 0.16012391   & 0.23412023   &  0.14187053  & -0.104189950 & 0.09241945   & 0.2670112    & 0.1720899    & 0.1814478    &  0.02192616  & 0.2304878    & -0.02041523  & 0.1091831    & 0.3268816    & -0.1512603   & -0.12458821  & -0.12105553  & -0.17131674 \\\\\n",
       "\tA02 & 0.1831832    & 0.08682826   & 0.24272549   & -0.03106225  & -0.001941604 & 0.09346663   & 0.2836625    & 0.1048446    & 0.1960520    & -0.11581174  & 0.2591486    & -0.02526795  & 0.2488612    & 0.4832443    & -0.1722784   & -0.09932701  & -0.11002029  & -0.17662104 \\\\\n",
       "\tA03 & 0.3284338    & 0.25078253   & 0.35828990   &  0.35977859  &  0.118276210 & 0.30425047   & 0.4091265    & 0.2950658    & 0.3210669    &  0.04103930  & 0.3858617    &  0.02020867  & 0.3013136    & 0.4849676    &  0.1548997   &  0.09899607  &  0.02099488  &  0.12494436 \\\\\n",
       "\tA04 & 0.2229200    & 0.46928297   & 0.24966760   &  0.38595430  &  0.292185918 & 0.49939131   & 0.2848222    & 0.2185944    & 0.3128521    &  0.30652579  & 0.3205545    &  0.17078484  & 0.4332402    & 0.5125873    &  0.0690361   &  0.08209151  &  0.06589801  &  0.07791841 \\\\\n",
       "\tA05 & 0.1584463    & 0.14999672   & 0.09665491   & -0.03893381  & -0.136141994 & 0.03414850   & 0.2307931    & 0.1273806    & 0.2043502    & -0.15383368  & 0.2006747    & -0.09731896  & 0.2647767    & 0.2534280    & -0.2120999   & -0.16972010  & -0.18042408  & -0.28792353 \\\\\n",
       "\tA06 & 0.2086076    & 0.28042125   & 0.21956787   &  0.29585502  & -0.127744151 & 0.03049037   & 0.3885820    & 0.2812594    & 0.3980291    & -0.07557768  & 0.2615250    & -0.01597149  & 0.2808125    & 0.3320963    & -0.1439186   & -0.14446257  & -0.12065637  & -0.19520560 \\\\\n",
       "\\end{tabular}\n"
      ],
      "text/markdown": [
       "\n",
       "| <!--/--> | B_cells | Cytotoxic_cells | Dendritic_cells | Endothelial | Eosinophils | Fibroblasts | Macrophages | Macrophages_M1 | Macrophages_M2 | Mast_cells | Monocytes | NK_cells | Neutrophils | Plasma_cells | T_cells_CD4 | T_cells_CD8 | T_cells_gamma_delta | T_regulatory_cells | \n",
       "|---|---|---|---|---|---|\n",
       "| A01 | 0.2544767    | 0.16012391   | 0.23412023   |  0.14187053  | -0.104189950 | 0.09241945   | 0.2670112    | 0.1720899    | 0.1814478    |  0.02192616  | 0.2304878    | -0.02041523  | 0.1091831    | 0.3268816    | -0.1512603   | -0.12458821  | -0.12105553  | -0.17131674  | \n",
       "| A02 | 0.1831832    | 0.08682826   | 0.24272549   | -0.03106225  | -0.001941604 | 0.09346663   | 0.2836625    | 0.1048446    | 0.1960520    | -0.11581174  | 0.2591486    | -0.02526795  | 0.2488612    | 0.4832443    | -0.1722784   | -0.09932701  | -0.11002029  | -0.17662104  | \n",
       "| A03 | 0.3284338    | 0.25078253   | 0.35828990   |  0.35977859  |  0.118276210 | 0.30425047   | 0.4091265    | 0.2950658    | 0.3210669    |  0.04103930  | 0.3858617    |  0.02020867  | 0.3013136    | 0.4849676    |  0.1548997   |  0.09899607  |  0.02099488  |  0.12494436  | \n",
       "| A04 | 0.2229200    | 0.46928297   | 0.24966760   |  0.38595430  |  0.292185918 | 0.49939131   | 0.2848222    | 0.2185944    | 0.3128521    |  0.30652579  | 0.3205545    |  0.17078484  | 0.4332402    | 0.5125873    |  0.0690361   |  0.08209151  |  0.06589801  |  0.07791841  | \n",
       "| A05 | 0.1584463    | 0.14999672   | 0.09665491   | -0.03893381  | -0.136141994 | 0.03414850   | 0.2307931    | 0.1273806    | 0.2043502    | -0.15383368  | 0.2006747    | -0.09731896  | 0.2647767    | 0.2534280    | -0.2120999   | -0.16972010  | -0.18042408  | -0.28792353  | \n",
       "| A06 | 0.2086076    | 0.28042125   | 0.21956787   |  0.29585502  | -0.127744151 | 0.03049037   | 0.3885820    | 0.2812594    | 0.3980291    | -0.07557768  | 0.2615250    | -0.01597149  | 0.2808125    | 0.3320963    | -0.1439186   | -0.14446257  | -0.12065637  | -0.19520560  | \n",
       "\n",
       "\n"
      ],
      "text/plain": [
       "    B_cells   Cytotoxic_cells Dendritic_cells Endothelial Eosinophils \n",
       "A01 0.2544767 0.16012391      0.23412023       0.14187053 -0.104189950\n",
       "A02 0.1831832 0.08682826      0.24272549      -0.03106225 -0.001941604\n",
       "A03 0.3284338 0.25078253      0.35828990       0.35977859  0.118276210\n",
       "A04 0.2229200 0.46928297      0.24966760       0.38595430  0.292185918\n",
       "A05 0.1584463 0.14999672      0.09665491      -0.03893381 -0.136141994\n",
       "A06 0.2086076 0.28042125      0.21956787       0.29585502 -0.127744151\n",
       "    Fibroblasts Macrophages Macrophages_M1 Macrophages_M2 Mast_cells  Monocytes\n",
       "A01 0.09241945  0.2670112   0.1720899      0.1814478       0.02192616 0.2304878\n",
       "A02 0.09346663  0.2836625   0.1048446      0.1960520      -0.11581174 0.2591486\n",
       "A03 0.30425047  0.4091265   0.2950658      0.3210669       0.04103930 0.3858617\n",
       "A04 0.49939131  0.2848222   0.2185944      0.3128521       0.30652579 0.3205545\n",
       "A05 0.03414850  0.2307931   0.1273806      0.2043502      -0.15383368 0.2006747\n",
       "A06 0.03049037  0.3885820   0.2812594      0.3980291      -0.07557768 0.2615250\n",
       "    NK_cells    Neutrophils Plasma_cells T_cells_CD4 T_cells_CD8\n",
       "A01 -0.02041523 0.1091831   0.3268816    -0.1512603  -0.12458821\n",
       "A02 -0.02526795 0.2488612   0.4832443    -0.1722784  -0.09932701\n",
       "A03  0.02020867 0.3013136   0.4849676     0.1548997   0.09899607\n",
       "A04  0.17078484 0.4332402   0.5125873     0.0690361   0.08209151\n",
       "A05 -0.09731896 0.2647767   0.2534280    -0.2120999  -0.16972010\n",
       "A06 -0.01597149 0.2808125   0.3320963    -0.1439186  -0.14446257\n",
       "    T_cells_gamma_delta T_regulatory_cells\n",
       "A01 -0.12105553         -0.17131674       \n",
       "A02 -0.11002029         -0.17662104       \n",
       "A03  0.02099488          0.12494436       \n",
       "A04  0.06589801          0.07791841       \n",
       "A05 -0.18042408         -0.28792353       \n",
       "A06 -0.12065637         -0.19520560       "
      ]
     },
     "metadata": {},
     "output_type": "display_data"
    }
   ],
   "source": [
    "consensus_data <- read.table('Data/5/ConsensusTME_NACT_NES.txt',\n",
    "                             sep='\\t',\n",
    "                             header=T,\n",
    "                             row.names='Term')\n",
    "\n",
    "consensus_data <- t(consensus_data)\n",
    "head(consensus_data)"
   ]
  },
  {
   "cell_type": "markdown",
   "metadata": {},
   "source": [
    "### Split matched and unmatched samples data"
   ]
  },
  {
   "cell_type": "code",
   "execution_count": 7,
   "metadata": {},
   "outputs": [],
   "source": [
    "matched   <- consensus_data[which(samples$Matched == TRUE ),]\n",
    "\n",
    "unmatched <- consensus_data[which(samples$Matched == FALSE),]"
   ]
  },
  {
   "cell_type": "code",
   "execution_count": 8,
   "metadata": {},
   "outputs": [
    {
     "data": {
      "text/html": [
       "<ol class=list-inline>\n",
       "\t<li>18</li>\n",
       "\t<li>18</li>\n",
       "</ol>\n"
      ],
      "text/latex": [
       "\\begin{enumerate*}\n",
       "\\item 18\n",
       "\\item 18\n",
       "\\end{enumerate*}\n"
      ],
      "text/markdown": [
       "1. 18\n",
       "2. 18\n",
       "\n",
       "\n"
      ],
      "text/plain": [
       "[1] 18 18"
      ]
     },
     "metadata": {},
     "output_type": "display_data"
    }
   ],
   "source": [
    "dim(matched)"
   ]
  },
  {
   "cell_type": "code",
   "execution_count": 9,
   "metadata": {},
   "outputs": [
    {
     "data": {
      "text/html": [
       "<ol class=list-inline>\n",
       "\t<li>38</li>\n",
       "\t<li>18</li>\n",
       "</ol>\n"
      ],
      "text/latex": [
       "\\begin{enumerate*}\n",
       "\\item 38\n",
       "\\item 18\n",
       "\\end{enumerate*}\n"
      ],
      "text/markdown": [
       "1. 38\n",
       "2. 18\n",
       "\n",
       "\n"
      ],
      "text/plain": [
       "[1] 38 18"
      ]
     },
     "metadata": {},
     "output_type": "display_data"
    }
   ],
   "source": [
    "dim(unmatched)"
   ]
  },
  {
   "cell_type": "code",
   "execution_count": 10,
   "metadata": {},
   "outputs": [
    {
     "data": {
      "text/html": [
       "19"
      ],
      "text/latex": [
       "19"
      ],
      "text/markdown": [
       "19"
      ],
      "text/plain": [
       "[1] 19"
      ]
     },
     "metadata": {},
     "output_type": "display_data"
    }
   ],
   "source": [
    "38/2"
   ]
  },
  {
   "cell_type": "code",
   "execution_count": 11,
   "metadata": {},
   "outputs": [
    {
     "data": {
      "text/html": [
       "<table>\n",
       "<thead><tr><th></th><th scope=col>B_cells</th><th scope=col>Cytotoxic_cells</th><th scope=col>Dendritic_cells</th><th scope=col>Endothelial</th><th scope=col>Eosinophils</th><th scope=col>Fibroblasts</th><th scope=col>Macrophages</th><th scope=col>Macrophages_M1</th><th scope=col>Macrophages_M2</th><th scope=col>Mast_cells</th><th scope=col>Monocytes</th><th scope=col>NK_cells</th><th scope=col>Neutrophils</th><th scope=col>Plasma_cells</th><th scope=col>T_cells_CD4</th><th scope=col>T_cells_CD8</th><th scope=col>T_cells_gamma_delta</th><th scope=col>T_regulatory_cells</th></tr></thead>\n",
       "<tbody>\n",
       "\t<tr><th scope=row>B02</th><td>0.2402263   </td><td> 0.04165139 </td><td>0.1960428   </td><td> 0.13219214 </td><td>-0.03672601 </td><td> 0.26149548 </td><td>0.3296904   </td><td>0.2648137   </td><td>0.2625680   </td><td> 0.11898768 </td><td>0.2465675   </td><td>-0.114436017</td><td>0.2835240   </td><td>0.3383852   </td><td>-0.16099866 </td><td>-0.10924458 </td><td>-0.10747554 </td><td>-0.29836380 </td></tr>\n",
       "\t<tr><th scope=row>B03</th><td>0.2835227   </td><td> 0.33674780 </td><td>0.4122715   </td><td> 0.22910920 </td><td> 0.22940228 </td><td> 0.28277541 </td><td>0.4041324   </td><td>0.3839678   </td><td>0.4119708   </td><td> 0.05383048 </td><td>0.2921816   </td><td> 0.127573340</td><td>0.3570923   </td><td>0.6466582   </td><td> 0.03783387 </td><td> 0.14070057 </td><td> 0.11995260 </td><td> 0.15591034 </td></tr>\n",
       "\t<tr><th scope=row>B04</th><td>0.2839035   </td><td> 0.29739252 </td><td>0.4115423   </td><td> 0.32445657 </td><td> 0.23703105 </td><td> 0.16866140 </td><td>0.4024553   </td><td>0.3650535   </td><td>0.4139615   </td><td> 0.11777950 </td><td>0.3647248   </td><td> 0.091471933</td><td>0.3717044   </td><td>0.5847199   </td><td> 0.09239342 </td><td> 0.12828607 </td><td> 0.07697151 </td><td> 0.18938231 </td></tr>\n",
       "\t<tr><th scope=row>B05</th><td>0.2040914   </td><td> 0.10670975 </td><td>0.2725495   </td><td> 0.17986191 </td><td> 0.42209691 </td><td> 0.23263157 </td><td>0.3496187   </td><td>0.2867881   </td><td>0.2484168   </td><td> 0.02069893 </td><td>0.3050340   </td><td> 0.004476703</td><td>0.4952381   </td><td>0.5587154   </td><td> 0.11541886 </td><td> 0.05464495 </td><td>-0.01055403 </td><td> 0.20189863 </td></tr>\n",
       "\t<tr><th scope=row>B06</th><td>0.1358404   </td><td>-0.06047101 </td><td>0.1364558   </td><td>-0.01334995 </td><td>-0.06623356 </td><td>-0.03450019 </td><td>0.3311684   </td><td>0.2358284   </td><td>0.1790985   </td><td>-0.01447437 </td><td>0.2186006   </td><td>-0.174316371</td><td>0.1910897   </td><td>0.1703691   </td><td>-0.20636331 </td><td>-0.20507770 </td><td>-0.20014783 </td><td>-0.35279681 </td></tr>\n",
       "\t<tr><th scope=row>B07</th><td>0.2521700   </td><td> 0.18689107 </td><td>0.2492469   </td><td> 0.20180648 </td><td> 0.02932837 </td><td> 0.16933787 </td><td>0.3171786   </td><td>0.1382779   </td><td>0.2975472   </td><td>-0.06294442 </td><td>0.2755501   </td><td> 0.040335033</td><td>0.2423303   </td><td>0.5589227   </td><td>-0.07622513 </td><td>-0.01944428 </td><td>-0.08464659 </td><td>-0.07293489 </td></tr>\n",
       "</tbody>\n",
       "</table>\n"
      ],
      "text/latex": [
       "\\begin{tabular}{r|llllllllllllllllll}\n",
       "  & B\\_cells & Cytotoxic\\_cells & Dendritic\\_cells & Endothelial & Eosinophils & Fibroblasts & Macrophages & Macrophages\\_M1 & Macrophages\\_M2 & Mast\\_cells & Monocytes & NK\\_cells & Neutrophils & Plasma\\_cells & T\\_cells\\_CD4 & T\\_cells\\_CD8 & T\\_cells\\_gamma\\_delta & T\\_regulatory\\_cells\\\\\n",
       "\\hline\n",
       "\tB02 & 0.2402263    &  0.04165139  & 0.1960428    &  0.13219214  & -0.03672601  &  0.26149548  & 0.3296904    & 0.2648137    & 0.2625680    &  0.11898768  & 0.2465675    & -0.114436017 & 0.2835240    & 0.3383852    & -0.16099866  & -0.10924458  & -0.10747554  & -0.29836380 \\\\\n",
       "\tB03 & 0.2835227    &  0.33674780  & 0.4122715    &  0.22910920  &  0.22940228  &  0.28277541  & 0.4041324    & 0.3839678    & 0.4119708    &  0.05383048  & 0.2921816    &  0.127573340 & 0.3570923    & 0.6466582    &  0.03783387  &  0.14070057  &  0.11995260  &  0.15591034 \\\\\n",
       "\tB04 & 0.2839035    &  0.29739252  & 0.4115423    &  0.32445657  &  0.23703105  &  0.16866140  & 0.4024553    & 0.3650535    & 0.4139615    &  0.11777950  & 0.3647248    &  0.091471933 & 0.3717044    & 0.5847199    &  0.09239342  &  0.12828607  &  0.07697151  &  0.18938231 \\\\\n",
       "\tB05 & 0.2040914    &  0.10670975  & 0.2725495    &  0.17986191  &  0.42209691  &  0.23263157  & 0.3496187    & 0.2867881    & 0.2484168    &  0.02069893  & 0.3050340    &  0.004476703 & 0.4952381    & 0.5587154    &  0.11541886  &  0.05464495  & -0.01055403  &  0.20189863 \\\\\n",
       "\tB06 & 0.1358404    & -0.06047101  & 0.1364558    & -0.01334995  & -0.06623356  & -0.03450019  & 0.3311684    & 0.2358284    & 0.1790985    & -0.01447437  & 0.2186006    & -0.174316371 & 0.1910897    & 0.1703691    & -0.20636331  & -0.20507770  & -0.20014783  & -0.35279681 \\\\\n",
       "\tB07 & 0.2521700    &  0.18689107  & 0.2492469    &  0.20180648  &  0.02932837  &  0.16933787  & 0.3171786    & 0.1382779    & 0.2975472    & -0.06294442  & 0.2755501    &  0.040335033 & 0.2423303    & 0.5589227    & -0.07622513  & -0.01944428  & -0.08464659  & -0.07293489 \\\\\n",
       "\\end{tabular}\n"
      ],
      "text/markdown": [
       "\n",
       "| <!--/--> | B_cells | Cytotoxic_cells | Dendritic_cells | Endothelial | Eosinophils | Fibroblasts | Macrophages | Macrophages_M1 | Macrophages_M2 | Mast_cells | Monocytes | NK_cells | Neutrophils | Plasma_cells | T_cells_CD4 | T_cells_CD8 | T_cells_gamma_delta | T_regulatory_cells | \n",
       "|---|---|---|---|---|---|\n",
       "| B02 | 0.2402263    |  0.04165139  | 0.1960428    |  0.13219214  | -0.03672601  |  0.26149548  | 0.3296904    | 0.2648137    | 0.2625680    |  0.11898768  | 0.2465675    | -0.114436017 | 0.2835240    | 0.3383852    | -0.16099866  | -0.10924458  | -0.10747554  | -0.29836380  | \n",
       "| B03 | 0.2835227    |  0.33674780  | 0.4122715    |  0.22910920  |  0.22940228  |  0.28277541  | 0.4041324    | 0.3839678    | 0.4119708    |  0.05383048  | 0.2921816    |  0.127573340 | 0.3570923    | 0.6466582    |  0.03783387  |  0.14070057  |  0.11995260  |  0.15591034  | \n",
       "| B04 | 0.2839035    |  0.29739252  | 0.4115423    |  0.32445657  |  0.23703105  |  0.16866140  | 0.4024553    | 0.3650535    | 0.4139615    |  0.11777950  | 0.3647248    |  0.091471933 | 0.3717044    | 0.5847199    |  0.09239342  |  0.12828607  |  0.07697151  |  0.18938231  | \n",
       "| B05 | 0.2040914    |  0.10670975  | 0.2725495    |  0.17986191  |  0.42209691  |  0.23263157  | 0.3496187    | 0.2867881    | 0.2484168    |  0.02069893  | 0.3050340    |  0.004476703 | 0.4952381    | 0.5587154    |  0.11541886  |  0.05464495  | -0.01055403  |  0.20189863  | \n",
       "| B06 | 0.1358404    | -0.06047101  | 0.1364558    | -0.01334995  | -0.06623356  | -0.03450019  | 0.3311684    | 0.2358284    | 0.1790985    | -0.01447437  | 0.2186006    | -0.174316371 | 0.1910897    | 0.1703691    | -0.20636331  | -0.20507770  | -0.20014783  | -0.35279681  | \n",
       "| B07 | 0.2521700    |  0.18689107  | 0.2492469    |  0.20180648  |  0.02932837  |  0.16933787  | 0.3171786    | 0.1382779    | 0.2975472    | -0.06294442  | 0.2755501    |  0.040335033 | 0.2423303    | 0.5589227    | -0.07622513  | -0.01944428  | -0.08464659  | -0.07293489  | \n",
       "\n",
       "\n"
      ],
      "text/plain": [
       "    B_cells   Cytotoxic_cells Dendritic_cells Endothelial Eosinophils\n",
       "B02 0.2402263  0.04165139     0.1960428        0.13219214 -0.03672601\n",
       "B03 0.2835227  0.33674780     0.4122715        0.22910920  0.22940228\n",
       "B04 0.2839035  0.29739252     0.4115423        0.32445657  0.23703105\n",
       "B05 0.2040914  0.10670975     0.2725495        0.17986191  0.42209691\n",
       "B06 0.1358404 -0.06047101     0.1364558       -0.01334995 -0.06623356\n",
       "B07 0.2521700  0.18689107     0.2492469        0.20180648  0.02932837\n",
       "    Fibroblasts Macrophages Macrophages_M1 Macrophages_M2 Mast_cells  Monocytes\n",
       "B02  0.26149548 0.3296904   0.2648137      0.2625680       0.11898768 0.2465675\n",
       "B03  0.28277541 0.4041324   0.3839678      0.4119708       0.05383048 0.2921816\n",
       "B04  0.16866140 0.4024553   0.3650535      0.4139615       0.11777950 0.3647248\n",
       "B05  0.23263157 0.3496187   0.2867881      0.2484168       0.02069893 0.3050340\n",
       "B06 -0.03450019 0.3311684   0.2358284      0.1790985      -0.01447437 0.2186006\n",
       "B07  0.16933787 0.3171786   0.1382779      0.2975472      -0.06294442 0.2755501\n",
       "    NK_cells     Neutrophils Plasma_cells T_cells_CD4 T_cells_CD8\n",
       "B02 -0.114436017 0.2835240   0.3383852    -0.16099866 -0.10924458\n",
       "B03  0.127573340 0.3570923   0.6466582     0.03783387  0.14070057\n",
       "B04  0.091471933 0.3717044   0.5847199     0.09239342  0.12828607\n",
       "B05  0.004476703 0.4952381   0.5587154     0.11541886  0.05464495\n",
       "B06 -0.174316371 0.1910897   0.1703691    -0.20636331 -0.20507770\n",
       "B07  0.040335033 0.2423303   0.5589227    -0.07622513 -0.01944428\n",
       "    T_cells_gamma_delta T_regulatory_cells\n",
       "B02 -0.10747554         -0.29836380       \n",
       "B03  0.11995260          0.15591034       \n",
       "B04  0.07697151          0.18938231       \n",
       "B05 -0.01055403          0.20189863       \n",
       "B06 -0.20014783         -0.35279681       \n",
       "B07 -0.08464659         -0.07293489       "
      ]
     },
     "metadata": {},
     "output_type": "display_data"
    }
   ],
   "source": [
    "tail(matched)"
   ]
  },
  {
   "cell_type": "markdown",
   "metadata": {},
   "source": [
    "### Remove columns not needed"
   ]
  },
  {
   "cell_type": "code",
   "execution_count": 12,
   "metadata": {},
   "outputs": [],
   "source": [
    "matched    <- subset(\n",
    "    cbind(matched, samples[which(samples$Matched == TRUE),]),\n",
    "          select=-c(Name,Case_mRNA,Site,Bounds,Matched)\n",
    ")\n",
    "\n",
    "unmatched  <- subset(\n",
    "    cbind(unmatched, samples[which(samples$Matched == FALSE),]),\n",
    "    select=-c(Name,Case_mRNA,Site,Bounds,Matched)\n",
    ")"
   ]
  },
  {
   "cell_type": "code",
   "execution_count": 13,
   "metadata": {},
   "outputs": [
    {
     "data": {
      "text/html": [
       "<table>\n",
       "<thead><tr><th></th><th scope=col>B_cells</th><th scope=col>Cytotoxic_cells</th><th scope=col>Dendritic_cells</th><th scope=col>Endothelial</th><th scope=col>Eosinophils</th><th scope=col>Fibroblasts</th><th scope=col>Macrophages</th><th scope=col>Macrophages_M1</th><th scope=col>Macrophages_M2</th><th scope=col>Mast_cells</th><th scope=col>Monocytes</th><th scope=col>NK_cells</th><th scope=col>Neutrophils</th><th scope=col>Plasma_cells</th><th scope=col>T_cells_CD4</th><th scope=col>T_cells_CD8</th><th scope=col>T_cells_gamma_delta</th><th scope=col>T_regulatory_cells</th><th scope=col>NACT</th></tr></thead>\n",
       "<tbody>\n",
       "\t<tr><th scope=row>A01</th><td>0.2544767   </td><td>0.16012391  </td><td>0.23412023  </td><td> 0.14187053 </td><td>-0.104189950</td><td>0.09241945  </td><td>0.2670112   </td><td>0.1720899   </td><td>0.1814478   </td><td> 0.02192616 </td><td>0.2304878   </td><td>-0.02041523 </td><td>0.1091831   </td><td>0.3268816   </td><td>-0.1512603  </td><td>-0.12458821 </td><td>-0.12105553 </td><td>-0.17131674 </td><td>Untreated   </td></tr>\n",
       "\t<tr><th scope=row>A02</th><td>0.1831832   </td><td>0.08682826  </td><td>0.24272549  </td><td>-0.03106225 </td><td>-0.001941604</td><td>0.09346663  </td><td>0.2836625   </td><td>0.1048446   </td><td>0.1960520   </td><td>-0.11581174 </td><td>0.2591486   </td><td>-0.02526795 </td><td>0.2488612   </td><td>0.4832443   </td><td>-0.1722784  </td><td>-0.09932701 </td><td>-0.11002029 </td><td>-0.17662104 </td><td>Treated     </td></tr>\n",
       "\t<tr><th scope=row>A03</th><td>0.3284338   </td><td>0.25078253  </td><td>0.35828990  </td><td> 0.35977859 </td><td> 0.118276210</td><td>0.30425047  </td><td>0.4091265   </td><td>0.2950658   </td><td>0.3210669   </td><td> 0.04103930 </td><td>0.3858617   </td><td> 0.02020867 </td><td>0.3013136   </td><td>0.4849676   </td><td> 0.1548997  </td><td> 0.09899607 </td><td> 0.02099488 </td><td> 0.12494436 </td><td>Untreated   </td></tr>\n",
       "\t<tr><th scope=row>A04</th><td>0.2229200   </td><td>0.46928297  </td><td>0.24966760  </td><td> 0.38595430 </td><td> 0.292185918</td><td>0.49939131  </td><td>0.2848222   </td><td>0.2185944   </td><td>0.3128521   </td><td> 0.30652579 </td><td>0.3205545   </td><td> 0.17078484 </td><td>0.4332402   </td><td>0.5125873   </td><td> 0.0690361  </td><td> 0.08209151 </td><td> 0.06589801 </td><td> 0.07791841 </td><td>Treated     </td></tr>\n",
       "\t<tr><th scope=row>A05</th><td>0.1584463   </td><td>0.14999672  </td><td>0.09665491  </td><td>-0.03893381 </td><td>-0.136141994</td><td>0.03414850  </td><td>0.2307931   </td><td>0.1273806   </td><td>0.2043502   </td><td>-0.15383368 </td><td>0.2006747   </td><td>-0.09731896 </td><td>0.2647767   </td><td>0.2534280   </td><td>-0.2120999  </td><td>-0.16972010 </td><td>-0.18042408 </td><td>-0.28792353 </td><td>Untreated   </td></tr>\n",
       "\t<tr><th scope=row>A06</th><td>0.2086076   </td><td>0.28042125  </td><td>0.21956787  </td><td> 0.29585502 </td><td>-0.127744151</td><td>0.03049037  </td><td>0.3885820   </td><td>0.2812594   </td><td>0.3980291   </td><td>-0.07557768 </td><td>0.2615250   </td><td>-0.01597149 </td><td>0.2808125   </td><td>0.3320963   </td><td>-0.1439186  </td><td>-0.14446257 </td><td>-0.12065637 </td><td>-0.19520560 </td><td>Treated     </td></tr>\n",
       "</tbody>\n",
       "</table>\n"
      ],
      "text/latex": [
       "\\begin{tabular}{r|lllllllllllllllllll}\n",
       "  & B\\_cells & Cytotoxic\\_cells & Dendritic\\_cells & Endothelial & Eosinophils & Fibroblasts & Macrophages & Macrophages\\_M1 & Macrophages\\_M2 & Mast\\_cells & Monocytes & NK\\_cells & Neutrophils & Plasma\\_cells & T\\_cells\\_CD4 & T\\_cells\\_CD8 & T\\_cells\\_gamma\\_delta & T\\_regulatory\\_cells & NACT\\\\\n",
       "\\hline\n",
       "\tA01 & 0.2544767    & 0.16012391   & 0.23412023   &  0.14187053  & -0.104189950 & 0.09241945   & 0.2670112    & 0.1720899    & 0.1814478    &  0.02192616  & 0.2304878    & -0.02041523  & 0.1091831    & 0.3268816    & -0.1512603   & -0.12458821  & -0.12105553  & -0.17131674  & Untreated   \\\\\n",
       "\tA02 & 0.1831832    & 0.08682826   & 0.24272549   & -0.03106225  & -0.001941604 & 0.09346663   & 0.2836625    & 0.1048446    & 0.1960520    & -0.11581174  & 0.2591486    & -0.02526795  & 0.2488612    & 0.4832443    & -0.1722784   & -0.09932701  & -0.11002029  & -0.17662104  & Treated     \\\\\n",
       "\tA03 & 0.3284338    & 0.25078253   & 0.35828990   &  0.35977859  &  0.118276210 & 0.30425047   & 0.4091265    & 0.2950658    & 0.3210669    &  0.04103930  & 0.3858617    &  0.02020867  & 0.3013136    & 0.4849676    &  0.1548997   &  0.09899607  &  0.02099488  &  0.12494436  & Untreated   \\\\\n",
       "\tA04 & 0.2229200    & 0.46928297   & 0.24966760   &  0.38595430  &  0.292185918 & 0.49939131   & 0.2848222    & 0.2185944    & 0.3128521    &  0.30652579  & 0.3205545    &  0.17078484  & 0.4332402    & 0.5125873    &  0.0690361   &  0.08209151  &  0.06589801  &  0.07791841  & Treated     \\\\\n",
       "\tA05 & 0.1584463    & 0.14999672   & 0.09665491   & -0.03893381  & -0.136141994 & 0.03414850   & 0.2307931    & 0.1273806    & 0.2043502    & -0.15383368  & 0.2006747    & -0.09731896  & 0.2647767    & 0.2534280    & -0.2120999   & -0.16972010  & -0.18042408  & -0.28792353  & Untreated   \\\\\n",
       "\tA06 & 0.2086076    & 0.28042125   & 0.21956787   &  0.29585502  & -0.127744151 & 0.03049037   & 0.3885820    & 0.2812594    & 0.3980291    & -0.07557768  & 0.2615250    & -0.01597149  & 0.2808125    & 0.3320963    & -0.1439186   & -0.14446257  & -0.12065637  & -0.19520560  & Treated     \\\\\n",
       "\\end{tabular}\n"
      ],
      "text/markdown": [
       "\n",
       "| <!--/--> | B_cells | Cytotoxic_cells | Dendritic_cells | Endothelial | Eosinophils | Fibroblasts | Macrophages | Macrophages_M1 | Macrophages_M2 | Mast_cells | Monocytes | NK_cells | Neutrophils | Plasma_cells | T_cells_CD4 | T_cells_CD8 | T_cells_gamma_delta | T_regulatory_cells | NACT | \n",
       "|---|---|---|---|---|---|\n",
       "| A01 | 0.2544767    | 0.16012391   | 0.23412023   |  0.14187053  | -0.104189950 | 0.09241945   | 0.2670112    | 0.1720899    | 0.1814478    |  0.02192616  | 0.2304878    | -0.02041523  | 0.1091831    | 0.3268816    | -0.1512603   | -0.12458821  | -0.12105553  | -0.17131674  | Untreated    | \n",
       "| A02 | 0.1831832    | 0.08682826   | 0.24272549   | -0.03106225  | -0.001941604 | 0.09346663   | 0.2836625    | 0.1048446    | 0.1960520    | -0.11581174  | 0.2591486    | -0.02526795  | 0.2488612    | 0.4832443    | -0.1722784   | -0.09932701  | -0.11002029  | -0.17662104  | Treated      | \n",
       "| A03 | 0.3284338    | 0.25078253   | 0.35828990   |  0.35977859  |  0.118276210 | 0.30425047   | 0.4091265    | 0.2950658    | 0.3210669    |  0.04103930  | 0.3858617    |  0.02020867  | 0.3013136    | 0.4849676    |  0.1548997   |  0.09899607  |  0.02099488  |  0.12494436  | Untreated    | \n",
       "| A04 | 0.2229200    | 0.46928297   | 0.24966760   |  0.38595430  |  0.292185918 | 0.49939131   | 0.2848222    | 0.2185944    | 0.3128521    |  0.30652579  | 0.3205545    |  0.17078484  | 0.4332402    | 0.5125873    |  0.0690361   |  0.08209151  |  0.06589801  |  0.07791841  | Treated      | \n",
       "| A05 | 0.1584463    | 0.14999672   | 0.09665491   | -0.03893381  | -0.136141994 | 0.03414850   | 0.2307931    | 0.1273806    | 0.2043502    | -0.15383368  | 0.2006747    | -0.09731896  | 0.2647767    | 0.2534280    | -0.2120999   | -0.16972010  | -0.18042408  | -0.28792353  | Untreated    | \n",
       "| A06 | 0.2086076    | 0.28042125   | 0.21956787   |  0.29585502  | -0.127744151 | 0.03049037   | 0.3885820    | 0.2812594    | 0.3980291    | -0.07557768  | 0.2615250    | -0.01597149  | 0.2808125    | 0.3320963    | -0.1439186   | -0.14446257  | -0.12065637  | -0.19520560  | Treated      | \n",
       "\n",
       "\n"
      ],
      "text/plain": [
       "    B_cells   Cytotoxic_cells Dendritic_cells Endothelial Eosinophils \n",
       "A01 0.2544767 0.16012391      0.23412023       0.14187053 -0.104189950\n",
       "A02 0.1831832 0.08682826      0.24272549      -0.03106225 -0.001941604\n",
       "A03 0.3284338 0.25078253      0.35828990       0.35977859  0.118276210\n",
       "A04 0.2229200 0.46928297      0.24966760       0.38595430  0.292185918\n",
       "A05 0.1584463 0.14999672      0.09665491      -0.03893381 -0.136141994\n",
       "A06 0.2086076 0.28042125      0.21956787       0.29585502 -0.127744151\n",
       "    Fibroblasts Macrophages Macrophages_M1 Macrophages_M2 Mast_cells  Monocytes\n",
       "A01 0.09241945  0.2670112   0.1720899      0.1814478       0.02192616 0.2304878\n",
       "A02 0.09346663  0.2836625   0.1048446      0.1960520      -0.11581174 0.2591486\n",
       "A03 0.30425047  0.4091265   0.2950658      0.3210669       0.04103930 0.3858617\n",
       "A04 0.49939131  0.2848222   0.2185944      0.3128521       0.30652579 0.3205545\n",
       "A05 0.03414850  0.2307931   0.1273806      0.2043502      -0.15383368 0.2006747\n",
       "A06 0.03049037  0.3885820   0.2812594      0.3980291      -0.07557768 0.2615250\n",
       "    NK_cells    Neutrophils Plasma_cells T_cells_CD4 T_cells_CD8\n",
       "A01 -0.02041523 0.1091831   0.3268816    -0.1512603  -0.12458821\n",
       "A02 -0.02526795 0.2488612   0.4832443    -0.1722784  -0.09932701\n",
       "A03  0.02020867 0.3013136   0.4849676     0.1548997   0.09899607\n",
       "A04  0.17078484 0.4332402   0.5125873     0.0690361   0.08209151\n",
       "A05 -0.09731896 0.2647767   0.2534280    -0.2120999  -0.16972010\n",
       "A06 -0.01597149 0.2808125   0.3320963    -0.1439186  -0.14446257\n",
       "    T_cells_gamma_delta T_regulatory_cells NACT     \n",
       "A01 -0.12105553         -0.17131674        Untreated\n",
       "A02 -0.11002029         -0.17662104        Treated  \n",
       "A03  0.02099488          0.12494436        Untreated\n",
       "A04  0.06589801          0.07791841        Treated  \n",
       "A05 -0.18042408         -0.28792353        Untreated\n",
       "A06 -0.12065637         -0.19520560        Treated  "
      ]
     },
     "metadata": {},
     "output_type": "display_data"
    }
   ],
   "source": [
    "head(matched)"
   ]
  },
  {
   "cell_type": "code",
   "execution_count": 14,
   "metadata": {},
   "outputs": [
    {
     "name": "stdout",
     "output_type": "stream",
     "text": [
      "'data.frame':\t18 obs. of  19 variables:\n",
      " $ B_cells            : num  0.254 0.183 0.328 0.223 0.158 ...\n",
      " $ Cytotoxic_cells    : num  0.1601 0.0868 0.2508 0.4693 0.15 ...\n",
      " $ Dendritic_cells    : num  0.2341 0.2427 0.3583 0.2497 0.0967 ...\n",
      " $ Endothelial        : num  0.1419 -0.0311 0.3598 0.386 -0.0389 ...\n",
      " $ Eosinophils        : num  -0.10419 -0.00194 0.11828 0.29219 -0.13614 ...\n",
      " $ Fibroblasts        : num  0.0924 0.0935 0.3043 0.4994 0.0341 ...\n",
      " $ Macrophages        : num  0.267 0.284 0.409 0.285 0.231 ...\n",
      " $ Macrophages_M1     : num  0.172 0.105 0.295 0.219 0.127 ...\n",
      " $ Macrophages_M2     : num  0.181 0.196 0.321 0.313 0.204 ...\n",
      " $ Mast_cells         : num  0.0219 -0.1158 0.041 0.3065 -0.1538 ...\n",
      " $ Monocytes          : num  0.23 0.259 0.386 0.321 0.201 ...\n",
      " $ NK_cells           : num  -0.0204 -0.0253 0.0202 0.1708 -0.0973 ...\n",
      " $ Neutrophils        : num  0.109 0.249 0.301 0.433 0.265 ...\n",
      " $ Plasma_cells       : num  0.327 0.483 0.485 0.513 0.253 ...\n",
      " $ T_cells_CD4        : num  -0.151 -0.172 0.155 0.069 -0.212 ...\n",
      " $ T_cells_CD8        : num  -0.1246 -0.0993 0.099 0.0821 -0.1697 ...\n",
      " $ T_cells_gamma_delta: num  -0.1211 -0.11 0.021 0.0659 -0.1804 ...\n",
      " $ T_regulatory_cells : num  -0.1713 -0.1766 0.1249 0.0779 -0.2879 ...\n",
      " $ NACT               : Factor w/ 2 levels \"Treated\",\"Untreated\": 2 1 2 1 2 1 2 1 2 1 ...\n"
     ]
    }
   ],
   "source": [
    "str(matched)"
   ]
  },
  {
   "cell_type": "markdown",
   "metadata": {},
   "source": [
    "## Performed matched analysis"
   ]
  },
  {
   "cell_type": "markdown",
   "metadata": {},
   "source": [
    "### Stroma"
   ]
  },
  {
   "cell_type": "code",
   "execution_count": 15,
   "metadata": {},
   "outputs": [],
   "source": [
    "stroma_matched_fit = lm(Endothelial+Fibroblasts~NACT, data = matched)"
   ]
  },
  {
   "cell_type": "code",
   "execution_count": 16,
   "metadata": {},
   "outputs": [
    {
     "data": {
      "text/plain": [
       "\n",
       "Call:\n",
       "lm(formula = Endothelial + Fibroblasts ~ NACT, data = matched)\n",
       "\n",
       "Residuals:\n",
       "     Min       1Q   Median       3Q      Max \n",
       "-0.43621 -0.16107 -0.02201  0.17561  0.38673 \n",
       "\n",
       "Coefficients:\n",
       "              Estimate Std. Error t value Pr(>|t|)    \n",
       "(Intercept)    0.49862    0.08485   5.876 2.34e-05 ***\n",
       "NACTUntreated -0.18880    0.12000  -1.573    0.135    \n",
       "---\n",
       "Signif. codes:  0 ‘***’ 0.001 ‘**’ 0.01 ‘*’ 0.05 ‘.’ 0.1 ‘ ’ 1\n",
       "\n",
       "Residual standard error: 0.2545 on 16 degrees of freedom\n",
       "Multiple R-squared:  0.134,\tAdjusted R-squared:  0.07986 \n",
       "F-statistic: 2.476 on 1 and 16 DF,  p-value: 0.1352\n"
      ]
     },
     "metadata": {},
     "output_type": "display_data"
    }
   ],
   "source": [
    "summary(stroma_matched_fit)"
   ]
  },
  {
   "cell_type": "markdown",
   "metadata": {},
   "source": [
    "### Innate"
   ]
  },
  {
   "cell_type": "code",
   "execution_count": 17,
   "metadata": {},
   "outputs": [],
   "source": [
    "innate_matched_fit = lm(\n",
    "    Dendritic_cells+Eosinophils+Macrophages+Macrophages_M1+Macrophages_M2+Mast_cells+Monocytes+Neutrophils+NK_cells~NACT,\n",
    "    data = matched\n",
    ")"
   ]
  },
  {
   "cell_type": "code",
   "execution_count": 18,
   "metadata": {},
   "outputs": [
    {
     "data": {
      "text/plain": [
       "\n",
       "Call:\n",
       "lm(formula = Dendritic_cells + Eosinophils + Macrophages + Macrophages_M1 + \n",
       "    Macrophages_M2 + Mast_cells + Monocytes + Neutrophils + NK_cells ~ \n",
       "    NACT, data = matched)\n",
       "\n",
       "Residuals:\n",
       "    Min      1Q  Median      3Q     Max \n",
       "-0.8658 -0.5103 -0.1213  0.4850  1.3331 \n",
       "\n",
       "Coefficients:\n",
       "              Estimate Std. Error t value Pr(>|t|)    \n",
       "(Intercept)     2.0581     0.2143   9.603 4.81e-08 ***\n",
       "NACTUntreated  -0.6155     0.3031  -2.031   0.0593 .  \n",
       "---\n",
       "Signif. codes:  0 ‘***’ 0.001 ‘**’ 0.01 ‘*’ 0.05 ‘.’ 0.1 ‘ ’ 1\n",
       "\n",
       "Residual standard error: 0.643 on 16 degrees of freedom\n",
       "Multiple R-squared:  0.2049,\tAdjusted R-squared:  0.1552 \n",
       "F-statistic: 4.123 on 1 and 16 DF,  p-value: 0.05926\n"
      ]
     },
     "metadata": {},
     "output_type": "display_data"
    }
   ],
   "source": [
    "summary(innate_matched_fit)"
   ]
  },
  {
   "cell_type": "code",
   "execution_count": 19,
   "metadata": {},
   "outputs": [
    {
     "data": {
      "text/plain": [
       "\n",
       "\tShapiro-Wilk normality test\n",
       "\n",
       "data:  innate_matched_fit$res\n",
       "W = 0.92952, p-value = 0.1904\n"
      ]
     },
     "metadata": {},
     "output_type": "display_data"
    }
   ],
   "source": [
    "shapiro.test(innate_matched_fit$res)"
   ]
  },
  {
   "cell_type": "markdown",
   "metadata": {},
   "source": [
    "### Adaptive"
   ]
  },
  {
   "cell_type": "code",
   "execution_count": 20,
   "metadata": {},
   "outputs": [],
   "source": [
    "adaptive_matched_fit = lm(\n",
    "    B_cells+Plasma_cells+T_cells_CD4+T_cells_CD8+T_cells_gamma_delta+T_regulatory_cells~NACT,\n",
    "    data = matched\n",
    ")"
   ]
  },
  {
   "cell_type": "code",
   "execution_count": 21,
   "metadata": {},
   "outputs": [
    {
     "data": {
      "text/plain": [
       "\n",
       "Call:\n",
       "lm(formula = B_cells + Plasma_cells + T_cells_CD4 + T_cells_CD8 + \n",
       "    T_cells_gamma_delta + T_regulatory_cells ~ NACT, data = matched)\n",
       "\n",
       "Residuals:\n",
       "     Min       1Q   Median       3Q      Max \n",
       "-0.73667 -0.50628 -0.06466  0.34615  1.27717 \n",
       "\n",
       "Coefficients:\n",
       "              Estimate Std. Error t value Pr(>|t|)   \n",
       "(Intercept)     0.6218     0.2074   2.998  0.00851 **\n",
       "NACTUntreated  -0.5433     0.2933  -1.852  0.08250 . \n",
       "---\n",
       "Signif. codes:  0 ‘***’ 0.001 ‘**’ 0.01 ‘*’ 0.05 ‘.’ 0.1 ‘ ’ 1\n",
       "\n",
       "Residual standard error: 0.6222 on 16 degrees of freedom\n",
       "Multiple R-squared:  0.1766,\tAdjusted R-squared:  0.1251 \n",
       "F-statistic: 3.432 on 1 and 16 DF,  p-value: 0.0825\n"
      ]
     },
     "metadata": {},
     "output_type": "display_data"
    }
   ],
   "source": [
    "summary(adaptive_matched_fit)"
   ]
  },
  {
   "cell_type": "code",
   "execution_count": 22,
   "metadata": {},
   "outputs": [
    {
     "data": {
      "text/plain": [
       "\n",
       "\tShapiro-Wilk normality test\n",
       "\n",
       "data:  adaptive_matched_fit$res\n",
       "W = 0.90692, p-value = 0.07593\n"
      ]
     },
     "metadata": {},
     "output_type": "display_data"
    }
   ],
   "source": [
    "shapiro.test(adaptive_matched_fit$res)"
   ]
  },
  {
   "cell_type": "markdown",
   "metadata": {},
   "source": [
    "### Cytotoxic cells"
   ]
  },
  {
   "cell_type": "code",
   "execution_count": 23,
   "metadata": {},
   "outputs": [],
   "source": [
    "nk_cytotoxic_matched_fit = lm(\n",
    "    NK_cells + Cytotoxic_cells ~ NACT,\n",
    "    data = matched\n",
    ")"
   ]
  },
  {
   "cell_type": "code",
   "execution_count": 24,
   "metadata": {},
   "outputs": [
    {
     "data": {
      "text/plain": [
       "\n",
       "Call:\n",
       "lm(formula = NK_cells + Cytotoxic_cells ~ NACT, data = matched)\n",
       "\n",
       "Residuals:\n",
       "     Min       1Q   Median       3Q      Max \n",
       "-0.30923 -0.17137 -0.01125  0.17253  0.38298 \n",
       "\n",
       "Coefficients:\n",
       "              Estimate Std. Error t value Pr(>|t|)   \n",
       "(Intercept)    0.25709    0.07211   3.565  0.00258 **\n",
       "NACTUntreated -0.21762    0.10198  -2.134  0.04868 * \n",
       "---\n",
       "Signif. codes:  0 ‘***’ 0.001 ‘**’ 0.01 ‘*’ 0.05 ‘.’ 0.1 ‘ ’ 1\n",
       "\n",
       "Residual standard error: 0.2163 on 16 degrees of freedom\n",
       "Multiple R-squared:  0.2215,\tAdjusted R-squared:  0.1729 \n",
       "F-statistic: 4.554 on 1 and 16 DF,  p-value: 0.04868\n"
      ]
     },
     "metadata": {},
     "output_type": "display_data"
    }
   ],
   "source": [
    "summary(nk_cytotoxic_matched_fit)"
   ]
  },
  {
   "cell_type": "code",
   "execution_count": 25,
   "metadata": {},
   "outputs": [],
   "source": [
    "cd8_cytotoxic_matched_fit = lm(\n",
    "    T_cells_CD8 + Cytotoxic_cells ~ NACT,\n",
    "    data = matched\n",
    ")"
   ]
  },
  {
   "cell_type": "code",
   "execution_count": 26,
   "metadata": {},
   "outputs": [
    {
     "data": {
      "text/plain": [
       "\n",
       "Call:\n",
       "lm(formula = T_cells_CD8 + Cytotoxic_cells ~ NACT, data = matched)\n",
       "\n",
       "Residuals:\n",
       "     Min       1Q   Median       3Q      Max \n",
       "-0.36561 -0.11931 -0.04218  0.14316  0.40437 \n",
       "\n",
       "Coefficients:\n",
       "              Estimate Std. Error t value Pr(>|t|)  \n",
       "(Intercept)    0.20468    0.07646   2.677   0.0165 *\n",
       "NACTUntreated -0.18338    0.10813  -1.696   0.1093  \n",
       "---\n",
       "Signif. codes:  0 ‘***’ 0.001 ‘**’ 0.01 ‘*’ 0.05 ‘.’ 0.1 ‘ ’ 1\n",
       "\n",
       "Residual standard error: 0.2294 on 16 degrees of freedom\n",
       "Multiple R-squared:  0.1524,\tAdjusted R-squared:  0.09938 \n",
       "F-statistic: 2.876 on 1 and 16 DF,  p-value: 0.1093\n"
      ]
     },
     "metadata": {},
     "output_type": "display_data"
    }
   ],
   "source": [
    "summary(cd8_cytotoxic_matched_fit)"
   ]
  },
  {
   "cell_type": "markdown",
   "metadata": {},
   "source": [
    "## Perform unmatched analysis"
   ]
  },
  {
   "cell_type": "code",
   "execution_count": 27,
   "metadata": {},
   "outputs": [
    {
     "data": {
      "text/html": [
       "<table>\n",
       "<thead><tr><th></th><th scope=col>B_cells</th><th scope=col>Cytotoxic_cells</th><th scope=col>Dendritic_cells</th><th scope=col>Endothelial</th><th scope=col>Eosinophils</th><th scope=col>Fibroblasts</th><th scope=col>Macrophages</th><th scope=col>Macrophages_M1</th><th scope=col>Macrophages_M2</th><th scope=col>Mast_cells</th><th scope=col>Monocytes</th><th scope=col>NK_cells</th><th scope=col>Neutrophils</th><th scope=col>Plasma_cells</th><th scope=col>T_cells_CD4</th><th scope=col>T_cells_CD8</th><th scope=col>T_cells_gamma_delta</th><th scope=col>T_regulatory_cells</th><th scope=col>NACT</th></tr></thead>\n",
       "<tbody>\n",
       "\t<tr><th scope=row>B08</th><td>0.2498001    </td><td> 0.1454555298</td><td> 0.22403339  </td><td>0.20216359   </td><td>-0.152162396 </td><td>-0.03651893  </td><td>0.3484167    </td><td> 0.2567119   </td><td>0.20275182   </td><td>-0.01906826  </td><td>0.23239805   </td><td>-0.06910932  </td><td>0.18625729   </td><td>0.4655307    </td><td>-0.16401822  </td><td>-0.10329955  </td><td>-0.106470526 </td><td>-0.16558988  </td><td>Untreated    </td></tr>\n",
       "\t<tr><th scope=row>B09</th><td>0.1933006    </td><td> 0.0100639843</td><td> 0.16839998  </td><td>0.08350335   </td><td> 0.050037526 </td><td> 0.14307024  </td><td>0.2745897    </td><td> 0.1688296   </td><td>0.17643015   </td><td>-0.05040785  </td><td>0.21282044   </td><td>-0.15095151  </td><td>0.25534965   </td><td>0.5082110    </td><td>-0.18604703  </td><td>-0.16329057  </td><td>-0.195857597 </td><td>-0.18388259  </td><td>Treated      </td></tr>\n",
       "\t<tr><th scope=row>B10</th><td>0.2696923    </td><td> 0.1626807887</td><td> 0.33781042  </td><td>0.36189287   </td><td> 0.315413070 </td><td> 0.23546584  </td><td>0.4502848    </td><td> 0.2421547   </td><td>0.43870926   </td><td> 0.36489011  </td><td>0.38368471   </td><td>-0.06494259  </td><td>0.41151377   </td><td>0.6145221    </td><td>-0.06454531  </td><td> 0.05888267  </td><td> 0.002355267 </td><td>-0.05396421  </td><td>Untreated    </td></tr>\n",
       "\t<tr><th scope=row>B11</th><td>0.3080569    </td><td> 0.0433975608</td><td> 0.24843782  </td><td>0.27937426   </td><td> 0.154183957 </td><td> 0.26661771  </td><td>0.2910163    </td><td> 0.2152640   </td><td>0.21200374   </td><td> 0.10240685  </td><td>0.26178467   </td><td>-0.03505903  </td><td>0.25641958   </td><td>0.4577898    </td><td>-0.08345257  </td><td>-0.06288239  </td><td>-0.079102146 </td><td>-0.09249925  </td><td>Treated      </td></tr>\n",
       "\t<tr><th scope=row>B12</th><td>0.1218557    </td><td>-0.0101676989</td><td>-0.04453268  </td><td>0.10808702   </td><td>-0.314087264 </td><td> 0.05244197  </td><td>0.1840254    </td><td>-0.0043899   </td><td>0.09819619   </td><td>-0.31202210  </td><td>0.06983559   </td><td>-0.23581790  </td><td>0.04428593   </td><td>0.3212982    </td><td>-0.31160618  </td><td>-0.24535552  </td><td>-0.305152598 </td><td>-0.27984613  </td><td>Untreated    </td></tr>\n",
       "\t<tr><th scope=row>C01</th><td>0.2401842    </td><td> 0.0009513548</td><td> 0.15064419  </td><td>0.23364429   </td><td>-0.008568283 </td><td> 0.22263256  </td><td>0.2327631    </td><td> 0.1524298   </td><td>0.21435683   </td><td>-0.08310467  </td><td>0.19027735   </td><td>-0.11658550  </td><td>0.24027765   </td><td>0.3913319    </td><td>-0.22732101  </td><td>-0.21474312  </td><td>-0.188621872 </td><td>-0.23188398  </td><td>Treated      </td></tr>\n",
       "</tbody>\n",
       "</table>\n"
      ],
      "text/latex": [
       "\\begin{tabular}{r|lllllllllllllllllll}\n",
       "  & B\\_cells & Cytotoxic\\_cells & Dendritic\\_cells & Endothelial & Eosinophils & Fibroblasts & Macrophages & Macrophages\\_M1 & Macrophages\\_M2 & Mast\\_cells & Monocytes & NK\\_cells & Neutrophils & Plasma\\_cells & T\\_cells\\_CD4 & T\\_cells\\_CD8 & T\\_cells\\_gamma\\_delta & T\\_regulatory\\_cells & NACT\\\\\n",
       "\\hline\n",
       "\tB08 & 0.2498001     &  0.1454555298 &  0.22403339   & 0.20216359    & -0.152162396  & -0.03651893   & 0.3484167     &  0.2567119    & 0.20275182    & -0.01906826   & 0.23239805    & -0.06910932   & 0.18625729    & 0.4655307     & -0.16401822   & -0.10329955   & -0.106470526  & -0.16558988   & Untreated    \\\\\n",
       "\tB09 & 0.1933006     &  0.0100639843 &  0.16839998   & 0.08350335    &  0.050037526  &  0.14307024   & 0.2745897     &  0.1688296    & 0.17643015    & -0.05040785   & 0.21282044    & -0.15095151   & 0.25534965    & 0.5082110     & -0.18604703   & -0.16329057   & -0.195857597  & -0.18388259   & Treated      \\\\\n",
       "\tB10 & 0.2696923     &  0.1626807887 &  0.33781042   & 0.36189287    &  0.315413070  &  0.23546584   & 0.4502848     &  0.2421547    & 0.43870926    &  0.36489011   & 0.38368471    & -0.06494259   & 0.41151377    & 0.6145221     & -0.06454531   &  0.05888267   &  0.002355267  & -0.05396421   & Untreated    \\\\\n",
       "\tB11 & 0.3080569     &  0.0433975608 &  0.24843782   & 0.27937426    &  0.154183957  &  0.26661771   & 0.2910163     &  0.2152640    & 0.21200374    &  0.10240685   & 0.26178467    & -0.03505903   & 0.25641958    & 0.4577898     & -0.08345257   & -0.06288239   & -0.079102146  & -0.09249925   & Treated      \\\\\n",
       "\tB12 & 0.1218557     & -0.0101676989 & -0.04453268   & 0.10808702    & -0.314087264  &  0.05244197   & 0.1840254     & -0.0043899    & 0.09819619    & -0.31202210   & 0.06983559    & -0.23581790   & 0.04428593    & 0.3212982     & -0.31160618   & -0.24535552   & -0.305152598  & -0.27984613   & Untreated    \\\\\n",
       "\tC01 & 0.2401842     &  0.0009513548 &  0.15064419   & 0.23364429    & -0.008568283  &  0.22263256   & 0.2327631     &  0.1524298    & 0.21435683    & -0.08310467   & 0.19027735    & -0.11658550   & 0.24027765    & 0.3913319     & -0.22732101   & -0.21474312   & -0.188621872  & -0.23188398   & Treated      \\\\\n",
       "\\end{tabular}\n"
      ],
      "text/markdown": [
       "\n",
       "| <!--/--> | B_cells | Cytotoxic_cells | Dendritic_cells | Endothelial | Eosinophils | Fibroblasts | Macrophages | Macrophages_M1 | Macrophages_M2 | Mast_cells | Monocytes | NK_cells | Neutrophils | Plasma_cells | T_cells_CD4 | T_cells_CD8 | T_cells_gamma_delta | T_regulatory_cells | NACT | \n",
       "|---|---|---|---|---|---|\n",
       "| B08 | 0.2498001     |  0.1454555298 |  0.22403339   | 0.20216359    | -0.152162396  | -0.03651893   | 0.3484167     |  0.2567119    | 0.20275182    | -0.01906826   | 0.23239805    | -0.06910932   | 0.18625729    | 0.4655307     | -0.16401822   | -0.10329955   | -0.106470526  | -0.16558988   | Untreated     | \n",
       "| B09 | 0.1933006     |  0.0100639843 |  0.16839998   | 0.08350335    |  0.050037526  |  0.14307024   | 0.2745897     |  0.1688296    | 0.17643015    | -0.05040785   | 0.21282044    | -0.15095151   | 0.25534965    | 0.5082110     | -0.18604703   | -0.16329057   | -0.195857597  | -0.18388259   | Treated       | \n",
       "| B10 | 0.2696923     |  0.1626807887 |  0.33781042   | 0.36189287    |  0.315413070  |  0.23546584   | 0.4502848     |  0.2421547    | 0.43870926    |  0.36489011   | 0.38368471    | -0.06494259   | 0.41151377    | 0.6145221     | -0.06454531   |  0.05888267   |  0.002355267  | -0.05396421   | Untreated     | \n",
       "| B11 | 0.3080569     |  0.0433975608 |  0.24843782   | 0.27937426    |  0.154183957  |  0.26661771   | 0.2910163     |  0.2152640    | 0.21200374    |  0.10240685   | 0.26178467    | -0.03505903   | 0.25641958    | 0.4577898     | -0.08345257   | -0.06288239   | -0.079102146  | -0.09249925   | Treated       | \n",
       "| B12 | 0.1218557     | -0.0101676989 | -0.04453268   | 0.10808702    | -0.314087264  |  0.05244197   | 0.1840254     | -0.0043899    | 0.09819619    | -0.31202210   | 0.06983559    | -0.23581790   | 0.04428593    | 0.3212982     | -0.31160618   | -0.24535552   | -0.305152598  | -0.27984613   | Untreated     | \n",
       "| C01 | 0.2401842     |  0.0009513548 |  0.15064419   | 0.23364429    | -0.008568283  |  0.22263256   | 0.2327631     |  0.1524298    | 0.21435683    | -0.08310467   | 0.19027735    | -0.11658550   | 0.24027765    | 0.3913319     | -0.22732101   | -0.21474312   | -0.188621872  | -0.23188398   | Treated       | \n",
       "\n",
       "\n"
      ],
      "text/plain": [
       "    B_cells   Cytotoxic_cells Dendritic_cells Endothelial Eosinophils \n",
       "B08 0.2498001  0.1454555298    0.22403339     0.20216359  -0.152162396\n",
       "B09 0.1933006  0.0100639843    0.16839998     0.08350335   0.050037526\n",
       "B10 0.2696923  0.1626807887    0.33781042     0.36189287   0.315413070\n",
       "B11 0.3080569  0.0433975608    0.24843782     0.27937426   0.154183957\n",
       "B12 0.1218557 -0.0101676989   -0.04453268     0.10808702  -0.314087264\n",
       "C01 0.2401842  0.0009513548    0.15064419     0.23364429  -0.008568283\n",
       "    Fibroblasts Macrophages Macrophages_M1 Macrophages_M2 Mast_cells \n",
       "B08 -0.03651893 0.3484167    0.2567119     0.20275182     -0.01906826\n",
       "B09  0.14307024 0.2745897    0.1688296     0.17643015     -0.05040785\n",
       "B10  0.23546584 0.4502848    0.2421547     0.43870926      0.36489011\n",
       "B11  0.26661771 0.2910163    0.2152640     0.21200374      0.10240685\n",
       "B12  0.05244197 0.1840254   -0.0043899     0.09819619     -0.31202210\n",
       "C01  0.22263256 0.2327631    0.1524298     0.21435683     -0.08310467\n",
       "    Monocytes  NK_cells    Neutrophils Plasma_cells T_cells_CD4 T_cells_CD8\n",
       "B08 0.23239805 -0.06910932 0.18625729  0.4655307    -0.16401822 -0.10329955\n",
       "B09 0.21282044 -0.15095151 0.25534965  0.5082110    -0.18604703 -0.16329057\n",
       "B10 0.38368471 -0.06494259 0.41151377  0.6145221    -0.06454531  0.05888267\n",
       "B11 0.26178467 -0.03505903 0.25641958  0.4577898    -0.08345257 -0.06288239\n",
       "B12 0.06983559 -0.23581790 0.04428593  0.3212982    -0.31160618 -0.24535552\n",
       "C01 0.19027735 -0.11658550 0.24027765  0.3913319    -0.22732101 -0.21474312\n",
       "    T_cells_gamma_delta T_regulatory_cells NACT     \n",
       "B08 -0.106470526        -0.16558988        Untreated\n",
       "B09 -0.195857597        -0.18388259        Treated  \n",
       "B10  0.002355267        -0.05396421        Untreated\n",
       "B11 -0.079102146        -0.09249925        Treated  \n",
       "B12 -0.305152598        -0.27984613        Untreated\n",
       "C01 -0.188621872        -0.23188398        Treated  "
      ]
     },
     "metadata": {},
     "output_type": "display_data"
    }
   ],
   "source": [
    "head(unmatched)"
   ]
  },
  {
   "cell_type": "code",
   "execution_count": 28,
   "metadata": {},
   "outputs": [
    {
     "name": "stdout",
     "output_type": "stream",
     "text": [
      "'data.frame':\t38 obs. of  19 variables:\n",
      " $ B_cells            : num  0.25 0.193 0.27 0.308 0.122 ...\n",
      " $ Cytotoxic_cells    : num  0.1455 0.0101 0.1627 0.0434 -0.0102 ...\n",
      " $ Dendritic_cells    : num  0.224 0.1684 0.3378 0.2484 -0.0445 ...\n",
      " $ Endothelial        : num  0.2022 0.0835 0.3619 0.2794 0.1081 ...\n",
      " $ Eosinophils        : num  -0.152 0.05 0.315 0.154 -0.314 ...\n",
      " $ Fibroblasts        : num  -0.0365 0.1431 0.2355 0.2666 0.0524 ...\n",
      " $ Macrophages        : num  0.348 0.275 0.45 0.291 0.184 ...\n",
      " $ Macrophages_M1     : num  0.25671 0.16883 0.24215 0.21526 -0.00439 ...\n",
      " $ Macrophages_M2     : num  0.2028 0.1764 0.4387 0.212 0.0982 ...\n",
      " $ Mast_cells         : num  -0.0191 -0.0504 0.3649 0.1024 -0.312 ...\n",
      " $ Monocytes          : num  0.2324 0.2128 0.3837 0.2618 0.0698 ...\n",
      " $ NK_cells           : num  -0.0691 -0.151 -0.0649 -0.0351 -0.2358 ...\n",
      " $ Neutrophils        : num  0.1863 0.2553 0.4115 0.2564 0.0443 ...\n",
      " $ Plasma_cells       : num  0.466 0.508 0.615 0.458 0.321 ...\n",
      " $ T_cells_CD4        : num  -0.164 -0.186 -0.0645 -0.0835 -0.3116 ...\n",
      " $ T_cells_CD8        : num  -0.1033 -0.1633 0.0589 -0.0629 -0.2454 ...\n",
      " $ T_cells_gamma_delta: num  -0.10647 -0.19586 0.00236 -0.0791 -0.30515 ...\n",
      " $ T_regulatory_cells : num  -0.1656 -0.1839 -0.054 -0.0925 -0.2798 ...\n",
      " $ NACT               : Factor w/ 2 levels \"Treated\",\"Untreated\": 2 1 2 1 2 1 2 1 2 1 ...\n"
     ]
    }
   ],
   "source": [
    "str(unmatched)"
   ]
  },
  {
   "cell_type": "markdown",
   "metadata": {},
   "source": [
    "### Stroma"
   ]
  },
  {
   "cell_type": "code",
   "execution_count": 29,
   "metadata": {},
   "outputs": [],
   "source": [
    "stroma_unmatched_fit = lm(\n",
    "    Endothelial+Fibroblasts~NACT,\n",
    "    data = unmatched\n",
    ")"
   ]
  },
  {
   "cell_type": "code",
   "execution_count": 30,
   "metadata": {},
   "outputs": [
    {
     "data": {
      "text/plain": [
       "\n",
       "Call:\n",
       "lm(formula = Endothelial + Fibroblasts ~ NACT, data = unmatched)\n",
       "\n",
       "Residuals:\n",
       "     Min       1Q   Median       3Q      Max \n",
       "-0.32276 -0.13467  0.00037  0.13271  0.54451 \n",
       "\n",
       "Coefficients:\n",
       "              Estimate Std. Error t value Pr(>|t|)    \n",
       "(Intercept)    0.50000    0.04792  10.434 1.97e-12 ***\n",
       "NACTUntreated -0.03344    0.06777  -0.493    0.625    \n",
       "---\n",
       "Signif. codes:  0 ‘***’ 0.001 ‘**’ 0.01 ‘*’ 0.05 ‘.’ 0.1 ‘ ’ 1\n",
       "\n",
       "Residual standard error: 0.2089 on 36 degrees of freedom\n",
       "Multiple R-squared:  0.006717,\tAdjusted R-squared:  -0.02087 \n",
       "F-statistic: 0.2434 on 1 and 36 DF,  p-value: 0.6247\n"
      ]
     },
     "metadata": {},
     "output_type": "display_data"
    }
   ],
   "source": [
    "summary(stroma_unmatched_fit)"
   ]
  },
  {
   "cell_type": "markdown",
   "metadata": {},
   "source": [
    "### Innate"
   ]
  },
  {
   "cell_type": "code",
   "execution_count": 31,
   "metadata": {},
   "outputs": [],
   "source": [
    "innate_unmatched_fit = lm(\n",
    "    Dendritic_cells+Eosinophils+Macrophages+Macrophages_M1+Macrophages_M2+Mast_cells+Monocytes+Neutrophils+NK_cells~NACT,\n",
    "    data = unmatched\n",
    ")"
   ]
  },
  {
   "cell_type": "code",
   "execution_count": 32,
   "metadata": {},
   "outputs": [
    {
     "data": {
      "text/plain": [
       "\n",
       "Call:\n",
       "lm(formula = Dendritic_cells + Eosinophils + Macrophages + Macrophages_M1 + \n",
       "    Macrophages_M2 + Mast_cells + Monocytes + Neutrophils + NK_cells ~ \n",
       "    NACT, data = unmatched)\n",
       "\n",
       "Residuals:\n",
       "     Min       1Q   Median       3Q      Max \n",
       "-2.43880 -0.45544 -0.06431  0.45560  1.94775 \n",
       "\n",
       "Coefficients:\n",
       "              Estimate Std. Error t value Pr(>|t|)    \n",
       "(Intercept)     1.7878     0.1890   9.458  2.7e-11 ***\n",
       "NACTUntreated   0.1365     0.2673   0.511    0.613    \n",
       "---\n",
       "Signif. codes:  0 ‘***’ 0.001 ‘**’ 0.01 ‘*’ 0.05 ‘.’ 0.1 ‘ ’ 1\n",
       "\n",
       "Residual standard error: 0.824 on 36 degrees of freedom\n",
       "Multiple R-squared:  0.007188,\tAdjusted R-squared:  -0.02039 \n",
       "F-statistic: 0.2606 on 1 and 36 DF,  p-value: 0.6128\n"
      ]
     },
     "metadata": {},
     "output_type": "display_data"
    }
   ],
   "source": [
    "summary(innate_unmatched_fit)"
   ]
  },
  {
   "cell_type": "markdown",
   "metadata": {},
   "source": [
    "### Adaptive"
   ]
  },
  {
   "cell_type": "code",
   "execution_count": 33,
   "metadata": {},
   "outputs": [],
   "source": [
    "adaptive_unmatched_fit = lm(\n",
    "    B_cells+Plasma_cells+T_cells_CD4+T_cells_CD8+T_cells_gamma_delta+T_regulatory_cells~NACT,\n",
    "    data = unmatched\n",
    ")"
   ]
  },
  {
   "cell_type": "code",
   "execution_count": 34,
   "metadata": {},
   "outputs": [
    {
     "data": {
      "text/plain": [
       "\n",
       "Call:\n",
       "lm(formula = B_cells + Plasma_cells + T_cells_CD4 + T_cells_CD8 + \n",
       "    T_cells_gamma_delta + T_regulatory_cells ~ NACT, data = unmatched)\n",
       "\n",
       "Residuals:\n",
       "     Min       1Q   Median       3Q      Max \n",
       "-1.05756 -0.19507 -0.04827  0.24821  1.31449 \n",
       "\n",
       "Coefficients:\n",
       "              Estimate Std. Error t value Pr(>|t|)    \n",
       "(Intercept)    0.38501    0.10735   3.586 0.000988 ***\n",
       "NACTUntreated -0.02626    0.15181  -0.173 0.863665    \n",
       "---\n",
       "Signif. codes:  0 ‘***’ 0.001 ‘**’ 0.01 ‘*’ 0.05 ‘.’ 0.1 ‘ ’ 1\n",
       "\n",
       "Residual standard error: 0.4679 on 36 degrees of freedom\n",
       "Multiple R-squared:  0.0008301,\tAdjusted R-squared:  -0.02692 \n",
       "F-statistic: 0.02991 on 1 and 36 DF,  p-value: 0.8637\n"
      ]
     },
     "metadata": {},
     "output_type": "display_data"
    }
   ],
   "source": [
    "summary(adaptive_unmatched_fit)"
   ]
  },
  {
   "cell_type": "markdown",
   "metadata": {},
   "source": [
    "### Cytotoxic cells"
   ]
  },
  {
   "cell_type": "code",
   "execution_count": 35,
   "metadata": {},
   "outputs": [],
   "source": [
    "nk_cytotoxic_unmatched_fit = lm(\n",
    "    NK_cells + Cytotoxic_cells ~ NACT,\n",
    "    data = unmatched\n",
    ")"
   ]
  },
  {
   "cell_type": "code",
   "execution_count": 36,
   "metadata": {},
   "outputs": [
    {
     "data": {
      "text/plain": [
       "\n",
       "Call:\n",
       "lm(formula = NK_cells + Cytotoxic_cells ~ NACT, data = unmatched)\n",
       "\n",
       "Residuals:\n",
       "     Min       1Q   Median       3Q      Max \n",
       "-0.40568 -0.11764 -0.00656  0.11725  0.48066 \n",
       "\n",
       "Coefficients:\n",
       "              Estimate Std. Error t value Pr(>|t|)  \n",
       "(Intercept)   0.076446   0.041933   1.823   0.0766 .\n",
       "NACTUntreated 0.007952   0.059303   0.134   0.8941  \n",
       "---\n",
       "Signif. codes:  0 ‘***’ 0.001 ‘**’ 0.01 ‘*’ 0.05 ‘.’ 0.1 ‘ ’ 1\n",
       "\n",
       "Residual standard error: 0.1828 on 36 degrees of freedom\n",
       "Multiple R-squared:  0.0004992,\tAdjusted R-squared:  -0.02726 \n",
       "F-statistic: 0.01798 on 1 and 36 DF,  p-value: 0.8941\n"
      ]
     },
     "metadata": {},
     "output_type": "display_data"
    }
   ],
   "source": [
    "summary(nk_cytotoxic_unmatched_fit)"
   ]
  },
  {
   "cell_type": "code",
   "execution_count": 37,
   "metadata": {},
   "outputs": [],
   "source": [
    "cd8_cytotoxic_unmatched_fit = lm(\n",
    "    T_cells_CD8 + Cytotoxic_cells ~ NACT,\n",
    "    data = unmatched\n",
    ")"
   ]
  },
  {
   "cell_type": "code",
   "execution_count": 38,
   "metadata": {},
   "outputs": [
    {
     "data": {
      "text/plain": [
       "\n",
       "Call:\n",
       "lm(formula = T_cells_CD8 + Cytotoxic_cells ~ NACT, data = unmatched)\n",
       "\n",
       "Residuals:\n",
       "     Min       1Q   Median       3Q      Max \n",
       "-0.37292 -0.10133 -0.03833  0.14373  0.53131 \n",
       "\n",
       "Coefficients:\n",
       "              Estimate Std. Error t value Pr(>|t|)\n",
       "(Intercept)    0.06392    0.04137   1.545    0.131\n",
       "NACTUntreated  0.01300    0.05850   0.222    0.825\n",
       "\n",
       "Residual standard error: 0.1803 on 36 degrees of freedom\n",
       "Multiple R-squared:  0.001369,\tAdjusted R-squared:  -0.02637 \n",
       "F-statistic: 0.04937 on 1 and 36 DF,  p-value: 0.8254\n"
      ]
     },
     "metadata": {},
     "output_type": "display_data"
    }
   ],
   "source": [
    "summary(cd8_cytotoxic_unmatched_fit)"
   ]
  },
  {
   "cell_type": "markdown",
   "metadata": {},
   "source": [
    "# Logistic regression"
   ]
  },
  {
   "cell_type": "code",
   "execution_count": 8,
   "metadata": {
    "collapsed": true
   },
   "outputs": [
    {
     "name": "stderr",
     "output_type": "stream",
     "text": [
      "Downloading GitHub repo cardiomoon/ggiraphExtra@master\n"
     ]
    },
    {
     "name": "stdout",
     "output_type": "stream",
     "text": [
      "flextable   (0.5.2 -> 0.5.10) [CRAN]\n",
      "gdtools     (NA    -> 0.2.2 ) [CRAN]\n",
      "officer     (0.3.3 -> 0.3.11) [CRAN]\n",
      "pillar      (1.3.1 -> 1.4.4 ) [CRAN]\n",
      "pkgbuild    (1.0.2 -> 1.0.8 ) [CRAN]\n",
      "sjmisc      (2.7.9 -> 2.8.4 ) [CRAN]\n",
      "systemfonts (NA    -> 0.2.2 ) [CRAN]\n",
      "tibble      (2.1.1 -> 3.0.1 ) [CRAN]\n",
      "tidyr       (0.8.3 -> 1.1.0 ) [CRAN]\n",
      "tidyselect  (0.2.5 -> 1.1.0 ) [CRAN]\n",
      "tinytex     (0.12  -> 0.23  ) [CRAN]\n",
      "vctrs       (NA    -> 0.3.0 ) [CRAN]\n",
      "withr       (2.1.2 -> 2.2.0 ) [CRAN]\n",
      "xfun        (0.6   -> 0.14  ) [CRAN]\n",
      "xml2        (1.2.0 -> 1.3.2 ) [CRAN]\n"
     ]
    },
    {
     "name": "stderr",
     "output_type": "stream",
     "text": [
      "Installing 15 packages: flextable, gdtools, officer, pillar, pkgbuild, sjmisc, systemfonts, tibble, tidyr, tidyselect, tinytex, vctrs, withr, xfun, xml2\n"
     ]
    },
    {
     "name": "stdout",
     "output_type": "stream",
     "text": [
      "\n",
      "  There are binary versions available but the source versions are later:\n",
      "            binary source needs_compilation\n",
      "flextable    0.5.9 0.5.10             FALSE\n",
      "gdtools      0.2.1  0.2.2              TRUE\n",
      "officer      0.3.8 0.3.11             FALSE\n",
      "pillar       1.4.3  1.4.4             FALSE\n",
      "pkgbuild     1.0.6  1.0.8             FALSE\n",
      "sjmisc       2.8.3  2.8.4             FALSE\n",
      "systemfonts  0.1.1  0.2.2              TRUE\n",
      "tibble       2.1.3  3.0.1              TRUE\n",
      "tidyr        1.0.2  1.1.0              TRUE\n",
      "tidyselect   1.0.0  1.1.0             FALSE\n",
      "tinytex       0.20   0.23             FALSE\n",
      "vctrs        0.2.4  0.3.0              TRUE\n",
      "withr        2.1.2  2.2.0             FALSE\n",
      "xfun          0.12   0.14             FALSE\n",
      "xml2         1.2.5  1.3.2              TRUE\n",
      "\n"
     ]
    },
    {
     "name": "stderr",
     "output_type": "stream",
     "text": [
      "installing the source packages ‘flextable’, ‘gdtools’, ‘officer’, ‘pillar’, ‘pkgbuild’, ‘sjmisc’, ‘systemfonts’, ‘tibble’, ‘tidyr’, ‘tidyselect’, ‘tinytex’, ‘vctrs’, ‘withr’, ‘xfun’, ‘xml2’\n",
      "\n"
     ]
    },
    {
     "ename": "ERROR",
     "evalue": "Error in i.p(...): (converted from warning) installation of package ‘systemfonts’ had non-zero exit status\n",
     "output_type": "error",
     "traceback": [
      "Error in i.p(...): (converted from warning) installation of package ‘systemfonts’ had non-zero exit status\nTraceback:\n",
      "1. devtools::install_github(\"cardiomoon/ggiraphExtra\", force = TRUE)",
      "2. install_remotes(remotes, auth_token = auth_token, host = host, \n .     dependencies = dependencies, upgrade = upgrade, force = force, \n .     quiet = quiet, build = build, build_opts = build_opts, repos = repos, \n .     type = type, ...)",
      "3. vapply(remotes, install_remote, ..., FUN.VALUE = character(1))",
      "4. FUN(X[[i]], ...)",
      "5. install(source, dependencies = dependencies, upgrade = upgrade, \n .     force = force, quiet = quiet, build = build, build_opts = build_opts, \n .     repos = repos, type = type, ...)",
      "6. install_deps(pkgdir, dependencies = dependencies, quiet = quiet, \n .     build = build, build_opts = build_opts, upgrade = upgrade, \n .     repos = repos, type = type, ...)",
      "7. update(packages, dependencies = dep_deps, quiet = quiet, upgrade = upgrade, \n .     build = build, build_opts = build_opts, ...)",
      "8. update.package_deps(packages, dependencies = dep_deps, quiet = quiet, \n .     upgrade = upgrade, build = build, build_opts = build_opts, \n .     ...)",
      "9. install_packages(object$package[object$is_cran & behind], repos = attr(object, \n .     \"repos\"), type = attr(object, \"type\"), dependencies = dependencies, \n .     quiet = quiet, ...)",
      "10. do.call(safe_install_packages, c(list(packages, repos = repos, \n  .     type = type, dependencies = dependencies, quiet = quiet), \n  .     args))",
      "11. (function (...) \n  . {\n  .     lib <- paste(.libPaths(), collapse = \":\")\n  .     if (has_package(\"crancache\") && has_package(\"callr\")) {\n  .         i.p <- \"crancache\" %::% \"install_packages\"\n  .     }\n  .     else {\n  .         i.p <- utils::install.packages\n  .     }\n  .     with_envvar(c(R_LIBS = lib, R_LIBS_USER = lib, R_LIBS_SITE = lib), \n  .         if (should_error_for_warnings()) {\n  .             with_options(list(warn = 2), with_rprofile_user(\"options(warn = 2)\", \n  .                 i.p(...)))\n  .         }\n  .         else {\n  .             i.p(...)\n  .         })\n  . })(c(\"flextable\", \"gdtools\", \"officer\", \"pillar\", \"pkgbuild\", \n  . \"sjmisc\", \"systemfonts\", \"tibble\", \"tidyr\", \"tidyselect\", \"tinytex\", \n  . \"vctrs\", \"withr\", \"xfun\", \"xml2\"), repos = c(CRAN = \"https://cran.r-project.org\"), \n  .     type = \"both\", dependencies = NA, quiet = FALSE)",
      "12. with_envvar(c(R_LIBS = lib, R_LIBS_USER = lib, R_LIBS_SITE = lib), \n  .     if (should_error_for_warnings()) {\n  .         with_options(list(warn = 2), with_rprofile_user(\"options(warn = 2)\", \n  .             i.p(...)))\n  .     } else {\n  .         i.p(...)\n  .     })",
      "13. force(code)",
      "14. with_options(list(warn = 2), with_rprofile_user(\"options(warn = 2)\", \n  .     i.p(...)))",
      "15. force(code)",
      "16. with_rprofile_user(\"options(warn = 2)\", i.p(...))",
      "17. with_envvar(c(R_PROFILE_USER = temp_rprofile), {\n  .     force(code)\n  . })",
      "18. force(code)",
      "19. force(code)",
      "20. i.p(...)",
      "21. warning(gettextf(\"installation of package %s had non-zero exit status\", \n  .     sQuote(update[i, 1L])), domain = NA)",
      "22. .signalSimpleWarning(\"installation of package ‘systemfonts’ had non-zero exit status\", \n  .     quote(i.p(...)))",
      "23. withRestarts({\n  .     .Internal(.signalCondition(simpleWarning(msg, call), msg, \n  .         call))\n  .     .Internal(.dfltWarn(msg, call))\n  . }, muffleWarning = function() NULL)",
      "24. withOneRestart(expr, restarts[[1L]])",
      "25. doWithOneRestart(return(expr), restart)"
     ]
    }
   ],
   "source": [
    "devtools::install_github(\"cardiomoon/ggiraphExtra\", force = TRUE)"
   ]
  },
  {
   "cell_type": "code",
   "execution_count": 9,
   "metadata": {},
   "outputs": [
    {
     "name": "stdout",
     "output_type": "stream",
     "text": [
      "\n",
      "  There is a binary version available but the source version is later:\n",
      "      binary source needs_compilation\n",
      "rlang  0.4.5  0.4.6              TRUE\n",
      "\n"
     ]
    },
    {
     "name": "stderr",
     "output_type": "stream",
     "text": [
      "installing the source package ‘rlang’\n",
      "\n"
     ]
    }
   ],
   "source": [
    "install.packages(\"rlang\")"
   ]
  },
  {
   "cell_type": "code",
   "execution_count": null,
   "metadata": {},
   "outputs": [],
   "source": [
    "#install.packages(\"ggplot2\", repos = c(\"http://rstudio.org/_packages\", \"http://cran.rstudio.com\"))"
   ]
  },
  {
   "cell_type": "code",
   "execution_count": 10,
   "metadata": {},
   "outputs": [],
   "source": [
    "library(ggplot2)"
   ]
  },
  {
   "cell_type": "code",
   "execution_count": 50,
   "metadata": {},
   "outputs": [
    {
     "data": {
      "text/plain": [
       "\n",
       "Call:\n",
       "lm(formula = NK_cells + Cytotoxic_cells ~ NACT, data = matched)\n",
       "\n",
       "Residuals:\n",
       "     Min       1Q   Median       3Q      Max \n",
       "-0.30923 -0.17137 -0.01125  0.17253  0.38298 \n",
       "\n",
       "Coefficients:\n",
       "              Estimate Std. Error t value Pr(>|t|)   \n",
       "(Intercept)    0.25709    0.07211   3.565  0.00258 **\n",
       "NACTUntreated -0.21762    0.10198  -2.134  0.04868 * \n",
       "---\n",
       "Signif. codes:  0 ‘***’ 0.001 ‘**’ 0.01 ‘*’ 0.05 ‘.’ 0.1 ‘ ’ 1\n",
       "\n",
       "Residual standard error: 0.2163 on 16 degrees of freedom\n",
       "Multiple R-squared:  0.2215,\tAdjusted R-squared:  0.1729 \n",
       "F-statistic: 4.554 on 1 and 16 DF,  p-value: 0.04868\n"
      ]
     },
     "metadata": {},
     "output_type": "display_data"
    }
   ],
   "source": [
    "summary(nk_cytotoxic_matched_fit)"
   ]
  },
  {
   "cell_type": "code",
   "execution_count": 51,
   "metadata": {},
   "outputs": [],
   "source": [
    "equation1=function(x){coef(nk_cytotoxic_matched_fit)[2]*x+coef(nk_cytotoxic_matched_fit)[1]}\n",
    "equation2=function(x){coef(nk_cytotoxic_matched_fit)[2]*x+coef(nk_cytotoxic_matched_fit)[1]+coef(nk_cytotoxic_matched_fit)[3]}\n"
   ]
  },
  {
   "cell_type": "code",
   "execution_count": 52,
   "metadata": {},
   "outputs": [
    {
     "name": "stderr",
     "output_type": "stream",
     "text": [
      "Warning message:\n",
      "“Removed 202 row(s) containing missing values (geom_path).”"
     ]
    },
    {
     "data": {},
     "metadata": {},
     "output_type": "display_data"
    },
    {
     "data": {
      "image/png": "[encoded data removed]",
      "text/plain": [
       "plot without title"
      ]
     },
     "metadata": {},
     "output_type": "display_data"
    }
   ],
   "source": [
    "ggplot(matched,aes(y=NACT,x=NK_cells,color=Cytotoxic_cells))+geom_point()+\n",
    "       stat_function(fun=equation1,geom=\"line\",color=scales::hue_pal()(2)[1])+\n",
    "       stat_function(fun=equation2,geom=\"line\",color=scales::hue_pal()(2)[2])"
   ]
  },
  {
   "cell_type": "code",
   "execution_count": 53,
   "metadata": {},
   "outputs": [],
   "source": [
    "nk_cytotoxic_matched_fit_glm <- glm(formula = NACT ~ NK_cells + Cytotoxic_cells,\n",
    "                                    family = binomial, data = matched)"
   ]
  },
  {
   "cell_type": "code",
   "execution_count": 54,
   "metadata": {},
   "outputs": [],
   "source": [
    "nk_cytotoxic_unmatched_fit_glm <- glm(formula = NACT ~ NK_cells + Cytotoxic_cells,\n",
    "                                    family = binomial, data = unmatched)"
   ]
  },
  {
   "cell_type": "code",
   "execution_count": 55,
   "metadata": {},
   "outputs": [
    {
     "data": {
      "text/plain": [
       "\n",
       "Call:\n",
       "glm(formula = NACT ~ NK_cells + Cytotoxic_cells, family = binomial, \n",
       "    data = matched)\n",
       "\n",
       "Deviance Residuals: \n",
       "     Min        1Q    Median        3Q       Max  \n",
       "-1.64410  -0.74293   0.02327   0.51782   2.13516  \n",
       "\n",
       "Coefficients:\n",
       "                Estimate Std. Error z value Pr(>|z|)  \n",
       "(Intercept)       -2.204      1.665  -1.324   0.1856  \n",
       "NK_cells         -31.552     14.867  -2.122   0.0338 *\n",
       "Cytotoxic_cells    9.815      8.072   1.216   0.2240  \n",
       "---\n",
       "Signif. codes:  0 ‘***’ 0.001 ‘**’ 0.01 ‘*’ 0.05 ‘.’ 0.1 ‘ ’ 1\n",
       "\n",
       "(Dispersion parameter for binomial family taken to be 1)\n",
       "\n",
       "    Null deviance: 24.953  on 17  degrees of freedom\n",
       "Residual deviance: 16.104  on 15  degrees of freedom\n",
       "AIC: 22.104\n",
       "\n",
       "Number of Fisher Scoring iterations: 5\n"
      ]
     },
     "metadata": {},
     "output_type": "display_data"
    }
   ],
   "source": [
    "summary(nk_cytotoxic_matched_fit_glm)"
   ]
  },
  {
   "cell_type": "code",
   "execution_count": 16,
   "metadata": {},
   "outputs": [
    {
     "name": "stderr",
     "output_type": "stream",
     "text": [
      "Downloading GitHub repo davidgohel/gdtools@master\n"
     ]
    },
    {
     "name": "stdout",
     "output_type": "stream",
     "text": [
      "systemfonts (NA -> 0.2.2) [CRAN]\n"
     ]
    },
    {
     "name": "stderr",
     "output_type": "stream",
     "text": [
      "Installing 1 packages: systemfonts\n"
     ]
    },
    {
     "name": "stdout",
     "output_type": "stream",
     "text": [
      "\n",
      "  There is a binary version available but the source version is later:\n",
      "            binary source needs_compilation\n",
      "systemfonts  0.1.1  0.2.2              TRUE\n",
      "\n"
     ]
    },
    {
     "name": "stderr",
     "output_type": "stream",
     "text": [
      "installing the source package ‘systemfonts’\n",
      "\n"
     ]
    },
    {
     "ename": "ERROR",
     "evalue": "Error in i.p(...): (converted from warning) installation of package ‘systemfonts’ had non-zero exit status\n",
     "output_type": "error",
     "traceback": [
      "Error in i.p(...): (converted from warning) installation of package ‘systemfonts’ had non-zero exit status\nTraceback:\n",
      "1. devtools::install_github(\"davidgohel/gdtools\")",
      "2. install_remotes(remotes, auth_token = auth_token, host = host, \n .     dependencies = dependencies, upgrade = upgrade, force = force, \n .     quiet = quiet, build = build, build_opts = build_opts, repos = repos, \n .     type = type, ...)",
      "3. vapply(remotes, install_remote, ..., FUN.VALUE = character(1))",
      "4. FUN(X[[i]], ...)",
      "5. install(source, dependencies = dependencies, upgrade = upgrade, \n .     force = force, quiet = quiet, build = build, build_opts = build_opts, \n .     repos = repos, type = type, ...)",
      "6. install_deps(pkgdir, dependencies = dependencies, quiet = quiet, \n .     build = build, build_opts = build_opts, upgrade = upgrade, \n .     repos = repos, type = type, ...)",
      "7. update(packages, dependencies = dep_deps, quiet = quiet, upgrade = upgrade, \n .     build = build, build_opts = build_opts, ...)",
      "8. update.package_deps(packages, dependencies = dep_deps, quiet = quiet, \n .     upgrade = upgrade, build = build, build_opts = build_opts, \n .     ...)",
      "9. install_packages(object$package[object$is_cran & behind], repos = attr(object, \n .     \"repos\"), type = attr(object, \"type\"), dependencies = dependencies, \n .     quiet = quiet, ...)",
      "10. do.call(safe_install_packages, c(list(packages, repos = repos, \n  .     type = type, dependencies = dependencies, quiet = quiet), \n  .     args))",
      "11. (function (...) \n  . {\n  .     lib <- paste(.libPaths(), collapse = \":\")\n  .     if (has_package(\"crancache\") && has_package(\"callr\")) {\n  .         i.p <- \"crancache\" %::% \"install_packages\"\n  .     }\n  .     else {\n  .         i.p <- utils::install.packages\n  .     }\n  .     with_envvar(c(R_LIBS = lib, R_LIBS_USER = lib, R_LIBS_SITE = lib), \n  .         if (should_error_for_warnings()) {\n  .             with_options(list(warn = 2), with_rprofile_user(\"options(warn = 2)\", \n  .                 i.p(...)))\n  .         }\n  .         else {\n  .             i.p(...)\n  .         })\n  . })(\"systemfonts\", repos = c(CRAN = \"https://cran.r-project.org\"), \n  .     type = \"both\", dependencies = NA, quiet = FALSE)",
      "12. with_envvar(c(R_LIBS = lib, R_LIBS_USER = lib, R_LIBS_SITE = lib), \n  .     if (should_error_for_warnings()) {\n  .         with_options(list(warn = 2), with_rprofile_user(\"options(warn = 2)\", \n  .             i.p(...)))\n  .     } else {\n  .         i.p(...)\n  .     })",
      "13. force(code)",
      "14. with_options(list(warn = 2), with_rprofile_user(\"options(warn = 2)\", \n  .     i.p(...)))",
      "15. force(code)",
      "16. with_rprofile_user(\"options(warn = 2)\", i.p(...))",
      "17. with_envvar(c(R_PROFILE_USER = temp_rprofile), {\n  .     force(code)\n  . })",
      "18. force(code)",
      "19. force(code)",
      "20. i.p(...)",
      "21. warning(gettextf(\"installation of package %s had non-zero exit status\", \n  .     sQuote(update[i, 1L])), domain = NA)",
      "22. .signalSimpleWarning(\"installation of package ‘systemfonts’ had non-zero exit status\", \n  .     quote(i.p(...)))",
      "23. withRestarts({\n  .     .Internal(.signalCondition(simpleWarning(msg, call), msg, \n  .         call))\n  .     .Internal(.dfltWarn(msg, call))\n  . }, muffleWarning = function() NULL)",
      "24. withOneRestart(expr, restarts[[1L]])",
      "25. doWithOneRestart(return(expr), restart)"
     ]
    }
   ],
   "source": [
    "devtools::install_github(\"davidgohel/gdtools\")"
   ]
  },
  {
   "cell_type": "code",
   "execution_count": 15,
   "metadata": {},
   "outputs": [
    {
     "ename": "ERROR",
     "evalue": "Error in library(gdtools): there is no package called ‘gdtools’\n",
     "output_type": "error",
     "traceback": [
      "Error in library(gdtools): there is no package called ‘gdtools’\nTraceback:\n",
      "1. library(gdtools)",
      "2. stop(txt, domain = NA)"
     ]
    }
   ],
   "source": [
    "library(gdtools)"
   ]
  },
  {
   "cell_type": "code",
   "execution_count": 11,
   "metadata": {},
   "outputs": [],
   "source": [
    "library(plyr)"
   ]
  },
  {
   "cell_type": "code",
   "execution_count": 12,
   "metadata": {},
   "outputs": [
    {
     "name": "stderr",
     "output_type": "stream",
     "text": [
      "Warning message:\n",
      "“package ‘ggiraph’ was built under R version 3.5.2”"
     ]
    },
    {
     "ename": "ERROR",
     "evalue": "Error: package or namespace load failed for ‘ggiraph’ in loadNamespace(j <- i[[1L]], c(lib.loc, .libPaths()), versionCheck = vI[[j]]):\n there is no package called ‘gdtools’\n",
     "output_type": "error",
     "traceback": [
      "Error: package or namespace load failed for ‘ggiraph’ in loadNamespace(j <- i[[1L]], c(lib.loc, .libPaths()), versionCheck = vI[[j]]):\n there is no package called ‘gdtools’\nTraceback:\n",
      "1. library(ggiraph)",
      "2. tryCatch({\n .     attr(package, \"LibPath\") <- which.lib.loc\n .     ns <- loadNamespace(package, lib.loc)\n .     env <- attachNamespace(ns, pos = pos, deps)\n . }, error = function(e) {\n .     P <- if (!is.null(cc <- conditionCall(e))) \n .         paste(\" in\", deparse(cc)[1L])\n .     else \"\"\n .     msg <- gettextf(\"package or namespace load failed for %s%s:\\n %s\", \n .         sQuote(package), P, conditionMessage(e))\n .     if (logical.return) \n .         message(paste(\"Error:\", msg), domain = NA)\n .     else stop(msg, call. = FALSE, domain = NA)\n . })",
      "3. tryCatchList(expr, classes, parentenv, handlers)",
      "4. tryCatchOne(expr, names, parentenv, handlers[[1L]])",
      "5. value[[3L]](cond)",
      "6. stop(msg, call. = FALSE, domain = NA)"
     ]
    }
   ],
   "source": [
    "library(ggiraph)"
   ]
  },
  {
   "cell_type": "code",
   "execution_count": 61,
   "metadata": {},
   "outputs": [
    {
     "ename": "ERROR",
     "evalue": "Error: package or namespace load failed for ‘ggiraphExtra’ in loadNamespace(j <- i[[1L]], c(lib.loc, .libPaths()), versionCheck = vI[[j]]):\n there is no package called ‘gdtools’\n",
     "output_type": "error",
     "traceback": [
      "Error: package or namespace load failed for ‘ggiraphExtra’ in loadNamespace(j <- i[[1L]], c(lib.loc, .libPaths()), versionCheck = vI[[j]]):\n there is no package called ‘gdtools’\nTraceback:\n",
      "1. library(ggiraphExtra)",
      "2. tryCatch({\n .     attr(package, \"LibPath\") <- which.lib.loc\n .     ns <- loadNamespace(package, lib.loc)\n .     env <- attachNamespace(ns, pos = pos, deps)\n . }, error = function(e) {\n .     P <- if (!is.null(cc <- conditionCall(e))) \n .         paste(\" in\", deparse(cc)[1L])\n .     else \"\"\n .     msg <- gettextf(\"package or namespace load failed for %s%s:\\n %s\", \n .         sQuote(package), P, conditionMessage(e))\n .     if (logical.return) \n .         message(paste(\"Error:\", msg), domain = NA)\n .     else stop(msg, call. = FALSE, domain = NA)\n . })",
      "3. tryCatchList(expr, classes, parentenv, handlers)",
      "4. tryCatchOne(expr, names, parentenv, handlers[[1L]])",
      "5. value[[3L]](cond)",
      "6. stop(msg, call. = FALSE, domain = NA)"
     ]
    }
   ],
   "source": [
    "#library(ggiraphExtra)"
   ]
  },
  {
   "cell_type": "code",
   "execution_count": 63,
   "metadata": {},
   "outputs": [
    {
     "data": {
      "text/html": [
       "<dl class=dl-horizontal>\n",
       "\t<dt>Treated</dt>\n",
       "\t\t<dd>9</dd>\n",
       "\t<dt>Untreated</dt>\n",
       "\t\t<dd>9</dd>\n",
       "</dl>\n"
      ],
      "text/latex": [
       "\\begin{description*}\n",
       "\\item[Treated] 9\n",
       "\\item[Untreated] 9\n",
       "\\end{description*}\n"
      ],
      "text/markdown": [
       "Treated\n",
       ":   9Untreated\n",
       ":   9\n",
       "\n"
      ],
      "text/plain": [
       "  Treated Untreated \n",
       "        9         9 "
      ]
     },
     "metadata": {},
     "output_type": "display_data"
    }
   ],
   "source": [
    "summary(matched$NACT)"
   ]
  },
  {
   "cell_type": "code",
   "execution_count": 64,
   "metadata": {},
   "outputs": [],
   "source": [
    "cd8_cytotoxic_matched_fit_glm <- glm(formula = NACT ~ T_cells_CD8 + Cytotoxic_cells,\n",
    "                                     family = binomial, data = matched)"
   ]
  },
  {
   "cell_type": "code",
   "execution_count": 65,
   "metadata": {},
   "outputs": [],
   "source": [
    "cd8_cytotoxic_unmatched_fit_glm <- glm(formula = NACT ~ T_cells_CD8 + Cytotoxic_cells,\n",
    "                                    family = binomial, data = unmatched)"
   ]
  },
  {
   "cell_type": "code",
   "execution_count": 66,
   "metadata": {},
   "outputs": [
    {
     "ename": "ERROR",
     "evalue": "Error in ggPredict(cd8_cytotoxic_matched_fit_glm, se = FALSE, interactive = FALSE, : could not find function \"ggPredict\"\n",
     "output_type": "error",
     "traceback": [
      "Error in ggPredict(cd8_cytotoxic_matched_fit_glm, se = FALSE, interactive = FALSE, : could not find function \"ggPredict\"\nTraceback:\n"
     ]
    }
   ],
   "source": [
    "ggPredict(cd8_cytotoxic_matched_fit_glm,se=FALSE,interactive=FALSE,digits=100,\n",
    "          colorn=100,jitter=TRUE)\n"
   ]
  },
  {
   "cell_type": "code",
   "execution_count": 127,
   "metadata": {},
   "outputs": [
    {
     "data": {
      "text/html": [
       "<strong>pdf:</strong> 3"
      ],
      "text/latex": [
       "\\textbf{pdf:} 3"
      ],
      "text/markdown": [
       "**pdf:** 3"
      ],
      "text/plain": [
       "pdf \n",
       "  3 "
      ]
     },
     "metadata": {},
     "output_type": "display_data"
    },
    {
     "data": {},
     "metadata": {},
     "output_type": "display_data"
    },
    {
     "data": {
      "text/html": [
       "<strong>pdf:</strong> 2"
      ],
      "text/latex": [
       "\\textbf{pdf:} 2"
      ],
      "text/markdown": [
       "**pdf:** 2"
      ],
      "text/plain": [
       "pdf \n",
       "  2 "
      ]
     },
     "metadata": {},
     "output_type": "display_data"
    }
   ],
   "source": [
    "dev.copy(pdf,'../2.Plots/nk_cytotoxic_unmatched.pdf')\n",
    "\n",
    "ggPredict(nk_cytotoxic_unmatched_fit_glm,se=FALSE,interactive=FALSE,digits=100,\n",
    "          colorn=100,jitter=TRUE)\n",
    "\n",
    "dev.off()"
   ]
  },
  {
   "cell_type": "code",
   "execution_count": 58,
   "metadata": {},
   "outputs": [],
   "source": [
    "?ggPredict"
   ]
  },
  {
   "cell_type": "code",
   "execution_count": 42,
   "metadata": {},
   "outputs": [],
   "source": [
    "cd8_cytotoxic_matched_fit_glm <- glm(formula = NACT ~ T_cells_CD8 + Cytotoxic_cells,\n",
    "                                    family = binomial, data = matched)"
   ]
  },
  {
   "cell_type": "code",
   "execution_count": 88,
   "metadata": {},
   "outputs": [
    {
     "data": {},
     "metadata": {},
     "output_type": "display_data"
    },
    {
     "data": {
      "image/png": "[encoded data removed]",
      "text/plain": [
       "plot without title"
      ]
     },
     "metadata": {},
     "output_type": "display_data"
    }
   ],
   "source": [
    "ggPredict(cd8_cytotoxic_matched_fit_glm,se=FALSE,interactive=FALSE,digits=3,\n",
    "         colorn=10,jitter=TRUE)"
   ]
  },
  {
   "cell_type": "code",
   "execution_count": 48,
   "metadata": {},
   "outputs": [],
   "source": [
    "endo_fibro_matched_fit_glm <- glm(formula = NACT ~ Endothelial+Fibroblasts,\n",
    "                                    family = binomial, data = matched)"
   ]
  },
  {
   "cell_type": "code",
   "execution_count": 49,
   "metadata": {},
   "outputs": [
    {
     "data": {},
     "metadata": {},
     "output_type": "display_data"
    },
    {
     "data": {
      "image/png": "[encoded data removed]",
      "text/plain": [
       "plot without title"
      ]
     },
     "metadata": {},
     "output_type": "display_data"
    }
   ],
   "source": [
    "ggPredict(endo_fibro_matched_fit_glm,se=FALSE,interactive=FALSE,digits=3)"
   ]
  },
  {
   "cell_type": "code",
   "execution_count": 68,
   "metadata": {},
   "outputs": [
    {
     "ename": "ERROR",
     "evalue": "Error in ggPredict(cd8_cytotoxic_matched_fit, interactive = FALSE): object 'cd8_cytotoxic_matched_fit' not found\n",
     "output_type": "error",
     "traceback": [
      "Error in ggPredict(cd8_cytotoxic_matched_fit, interactive = FALSE): object 'cd8_cytotoxic_matched_fit' not found\nTraceback:\n",
      "1. ggPredict(cd8_cytotoxic_matched_fit, interactive = FALSE)"
     ]
    }
   ],
   "source": [
    "ggPredict(cd8_cytotoxic_matched_fit, interactive = FALSE)"
   ]
  },
  {
   "cell_type": "code",
   "execution_count": 63,
   "metadata": {},
   "outputs": [
    {
     "data": {
      "text/plain": [
       "\n",
       "Call:\n",
       "lm(formula = NK_cells + Cytotoxic_cells ~ NACT, data = matched)\n",
       "\n",
       "Residuals:\n",
       "     Min       1Q   Median       3Q      Max \n",
       "-0.30923 -0.17137 -0.01125  0.17253  0.38298 \n",
       "\n",
       "Coefficients:\n",
       "              Estimate Std. Error t value Pr(>|t|)   \n",
       "(Intercept)    0.25709    0.07211   3.565  0.00258 **\n",
       "NACTUntreated -0.21762    0.10198  -2.134  0.04868 * \n",
       "---\n",
       "Signif. codes:  0 ‘***’ 0.001 ‘**’ 0.01 ‘*’ 0.05 ‘.’ 0.1 ‘ ’ 1\n",
       "\n",
       "Residual standard error: 0.2163 on 16 degrees of freedom\n",
       "Multiple R-squared:  0.2215,\tAdjusted R-squared:  0.1729 \n",
       "F-statistic: 4.554 on 1 and 16 DF,  p-value: 0.04868\n"
      ]
     },
     "metadata": {},
     "output_type": "display_data"
    }
   ],
   "source": [
    "summary(nk_cytotoxic_matched_fit)"
   ]
  },
  {
   "cell_type": "code",
   "execution_count": 65,
   "metadata": {},
   "outputs": [
    {
     "data": {
      "text/html": [
       "FALSE"
      ],
      "text/latex": [
       "FALSE"
      ],
      "text/markdown": [
       "FALSE"
      ],
      "text/plain": [
       "[1] FALSE"
      ]
     },
     "metadata": {},
     "output_type": "display_data"
    }
   ],
   "source": [
    "is.factor(matched$NK_cells)"
   ]
  },
  {
   "cell_type": "code",
   "execution_count": null,
   "metadata": {},
   "outputs": [],
   "source": [
    "nk_cytotoxic_matched_fit"
   ]
  },
  {
   "cell_type": "code",
   "execution_count": 80,
   "metadata": {},
   "outputs": [],
   "source": [
    "nk_matched_fit <- lm(formula = NK_cells ~ NACT, data = matched)"
   ]
  },
  {
   "cell_type": "code",
   "execution_count": 84,
   "metadata": {},
   "outputs": [
    {
     "name": "stderr",
     "output_type": "stream",
     "text": [
      "Warning message in anova.lmlist(object, ...):\n",
      "“models with response ‘\"NK_cells + Cytotoxic_cells\"’ removed because response differs from model 1”"
     ]
    },
    {
     "data": {
      "text/html": [
       "<table>\n",
       "<thead><tr><th></th><th scope=col>Df</th><th scope=col>Sum Sq</th><th scope=col>Mean Sq</th><th scope=col>F value</th><th scope=col>Pr(&gt;F)</th></tr></thead>\n",
       "<tbody>\n",
       "\t<tr><th scope=row>NACT</th><td> 1         </td><td>0.05390713 </td><td>0.053907134</td><td>8.244065   </td><td>0.01108248 </td></tr>\n",
       "\t<tr><th scope=row>Residuals</th><td>16         </td><td>0.10462244 </td><td>0.006538902</td><td>      NA   </td><td>        NA </td></tr>\n",
       "</tbody>\n",
       "</table>\n"
      ],
      "text/latex": [
       "\\begin{tabular}{r|lllll}\n",
       "  & Df & Sum Sq & Mean Sq & F value & Pr(>F)\\\\\n",
       "\\hline\n",
       "\tNACT &  1          & 0.05390713  & 0.053907134 & 8.244065    & 0.01108248 \\\\\n",
       "\tResiduals & 16          & 0.10462244  & 0.006538902 &       NA    &         NA \\\\\n",
       "\\end{tabular}\n"
      ],
      "text/markdown": [
       "\n",
       "| <!--/--> | Df | Sum Sq | Mean Sq | F value | Pr(>F) | \n",
       "|---|---|\n",
       "| NACT |  1          | 0.05390713  | 0.053907134 | 8.244065    | 0.01108248  | \n",
       "| Residuals | 16          | 0.10462244  | 0.006538902 |       NA    |         NA  | \n",
       "\n",
       "\n"
      ],
      "text/plain": [
       "          Df Sum Sq     Mean Sq     F value  Pr(>F)    \n",
       "NACT       1 0.05390713 0.053907134 8.244065 0.01108248\n",
       "Residuals 16 0.10462244 0.006538902       NA         NA"
      ]
     },
     "metadata": {},
     "output_type": "display_data"
    }
   ],
   "source": [
    "anova(nk_matched_fit,nk_cytotoxic_matched_fit)"
   ]
  },
  {
   "cell_type": "code",
   "execution_count": 130,
   "metadata": {},
   "outputs": [
    {
     "data": {
      "text/plain": [
       "\n",
       "Call:\n",
       "glm(formula = NACT ~ NK_cells + Cytotoxic_cells, family = binomial, \n",
       "    data = matched)\n",
       "\n",
       "Deviance Residuals: \n",
       "     Min        1Q    Median        3Q       Max  \n",
       "-1.64410  -0.74293   0.02327   0.51782   2.13516  \n",
       "\n",
       "Coefficients:\n",
       "                Estimate Std. Error z value Pr(>|z|)  \n",
       "(Intercept)       -2.204      1.665  -1.324   0.1856  \n",
       "NK_cells         -31.552     14.867  -2.122   0.0338 *\n",
       "Cytotoxic_cells    9.815      8.072   1.216   0.2240  \n",
       "---\n",
       "Signif. codes:  0 ‘***’ 0.001 ‘**’ 0.01 ‘*’ 0.05 ‘.’ 0.1 ‘ ’ 1\n",
       "\n",
       "(Dispersion parameter for binomial family taken to be 1)\n",
       "\n",
       "    Null deviance: 24.953  on 17  degrees of freedom\n",
       "Residual deviance: 16.104  on 15  degrees of freedom\n",
       "AIC: 22.104\n",
       "\n",
       "Number of Fisher Scoring iterations: 5\n"
      ]
     },
     "metadata": {},
     "output_type": "display_data"
    }
   ],
   "source": [
    "summary(nk_cytotoxic_matched_fit_glm)"
   ]
  },
  {
   "cell_type": "code",
   "execution_count": 141,
   "metadata": {},
   "outputs": [
    {
     "data": {
      "text/html": [
       "<table>\n",
       "<thead><tr><th scope=col>Resid. Df</th><th scope=col>Resid. Dev</th><th scope=col>Df</th><th scope=col>Deviance</th><th scope=col>Pr(&gt;Chi)</th></tr></thead>\n",
       "<tbody>\n",
       "\t<tr><td>15        </td><td>16.10359  </td><td>NA        </td><td>       NA </td><td>        NA</td></tr>\n",
       "\t<tr><td>17        </td><td>24.95330  </td><td>-2        </td><td>-8.849705 </td><td>0.01197598</td></tr>\n",
       "</tbody>\n",
       "</table>\n"
      ],
      "text/latex": [
       "\\begin{tabular}{r|lllll}\n",
       " Resid. Df & Resid. Dev & Df & Deviance & Pr(>Chi)\\\\\n",
       "\\hline\n",
       "\t 15         & 16.10359   & NA         &        NA  &         NA\\\\\n",
       "\t 17         & 24.95330   & -2         & -8.849705  & 0.01197598\\\\\n",
       "\\end{tabular}\n"
      ],
      "text/markdown": [
       "\n",
       "Resid. Df | Resid. Dev | Df | Deviance | Pr(>Chi) | \n",
       "|---|---|\n",
       "| 15         | 16.10359   | NA         |        NA  |         NA | \n",
       "| 17         | 24.95330   | -2         | -8.849705  | 0.01197598 | \n",
       "\n",
       "\n"
      ],
      "text/plain": [
       "  Resid. Df Resid. Dev Df Deviance  Pr(>Chi)  \n",
       "1 15        16.10359   NA        NA         NA\n",
       "2 17        24.95330   -2 -8.849705 0.01197598"
      ]
     },
     "metadata": {},
     "output_type": "display_data"
    }
   ],
   "source": [
    "anova(nk_cytotoxic_matched_fit_glm,\n",
    "      update(nk_cytotoxic_matched_fit_glm, ~1),\n",
    "      test=\"Chisq\")"
   ]
  },
  {
   "cell_type": "code",
   "execution_count": 142,
   "metadata": {},
   "outputs": [
    {
     "data": {
      "text/html": [
       "<table>\n",
       "<thead><tr><th scope=col>Resid. Df</th><th scope=col>Resid. Dev</th><th scope=col>Df</th><th scope=col>Deviance</th><th scope=col>Pr(&gt;Chi)</th></tr></thead>\n",
       "<tbody>\n",
       "\t<tr><td>15       </td><td>22.03441 </td><td>NA       </td><td>       NA</td><td>       NA</td></tr>\n",
       "\t<tr><td>17       </td><td>24.95330 </td><td>-2       </td><td>-2.918893</td><td>0.2323649</td></tr>\n",
       "</tbody>\n",
       "</table>\n"
      ],
      "text/latex": [
       "\\begin{tabular}{r|lllll}\n",
       " Resid. Df & Resid. Dev & Df & Deviance & Pr(>Chi)\\\\\n",
       "\\hline\n",
       "\t 15        & 22.03441  & NA        &        NA &        NA\\\\\n",
       "\t 17        & 24.95330  & -2        & -2.918893 & 0.2323649\\\\\n",
       "\\end{tabular}\n"
      ],
      "text/markdown": [
       "\n",
       "Resid. Df | Resid. Dev | Df | Deviance | Pr(>Chi) | \n",
       "|---|---|\n",
       "| 15        | 22.03441  | NA        |        NA |        NA | \n",
       "| 17        | 24.95330  | -2        | -2.918893 | 0.2323649 | \n",
       "\n",
       "\n"
      ],
      "text/plain": [
       "  Resid. Df Resid. Dev Df Deviance  Pr(>Chi) \n",
       "1 15        22.03441   NA        NA        NA\n",
       "2 17        24.95330   -2 -2.918893 0.2323649"
      ]
     },
     "metadata": {},
     "output_type": "display_data"
    }
   ],
   "source": [
    "anova(cd8_cytotoxic_matched_fit_glm,\n",
    "      update(cd8_cytotoxic_matched_fit_glm, ~1),\n",
    "      test=\"Chisq\")"
   ]
  },
  {
   "cell_type": "code",
   "execution_count": 143,
   "metadata": {},
   "outputs": [
    {
     "data": {
      "text/html": [
       "<table>\n",
       "<thead><tr><th scope=col>Resid. Df</th><th scope=col>Resid. Dev</th><th scope=col>Df</th><th scope=col>Deviance</th><th scope=col>Pr(&gt;Chi)</th></tr></thead>\n",
       "<tbody>\n",
       "\t<tr><td>35       </td><td>51.94732 </td><td>NA       </td><td>       NA</td><td>     NA  </td></tr>\n",
       "\t<tr><td>37       </td><td>52.67919 </td><td>-2       </td><td>-0.731864</td><td>0.69355  </td></tr>\n",
       "</tbody>\n",
       "</table>\n"
      ],
      "text/latex": [
       "\\begin{tabular}{r|lllll}\n",
       " Resid. Df & Resid. Dev & Df & Deviance & Pr(>Chi)\\\\\n",
       "\\hline\n",
       "\t 35        & 51.94732  & NA        &        NA &      NA  \\\\\n",
       "\t 37        & 52.67919  & -2        & -0.731864 & 0.69355  \\\\\n",
       "\\end{tabular}\n"
      ],
      "text/markdown": [
       "\n",
       "Resid. Df | Resid. Dev | Df | Deviance | Pr(>Chi) | \n",
       "|---|---|\n",
       "| 35        | 51.94732  | NA        |        NA |      NA   | \n",
       "| 37        | 52.67919  | -2        | -0.731864 | 0.69355   | \n",
       "\n",
       "\n"
      ],
      "text/plain": [
       "  Resid. Df Resid. Dev Df Deviance  Pr(>Chi)\n",
       "1 35        51.94732   NA        NA      NA \n",
       "2 37        52.67919   -2 -0.731864 0.69355 "
      ]
     },
     "metadata": {},
     "output_type": "display_data"
    }
   ],
   "source": [
    "anova(nk_cytotoxic_unmatched_fit_glm,\n",
    "      update(nk_cytotoxic_unmatched_fit_glm, ~1),\n",
    "      test=\"Chisq\")"
   ]
  },
  {
   "cell_type": "code",
   "execution_count": 144,
   "metadata": {},
   "outputs": [
    {
     "data": {
      "text/html": [
       "<table>\n",
       "<thead><tr><th scope=col>Resid. Df</th><th scope=col>Resid. Dev</th><th scope=col>Df</th><th scope=col>Deviance</th><th scope=col>Pr(&gt;Chi)</th></tr></thead>\n",
       "<tbody>\n",
       "\t<tr><td>35        </td><td>51.68731  </td><td>NA        </td><td>        NA</td><td>       NA </td></tr>\n",
       "\t<tr><td>37        </td><td>52.67919  </td><td>-2        </td><td>-0.9918745</td><td>0.6089998 </td></tr>\n",
       "</tbody>\n",
       "</table>\n"
      ],
      "text/latex": [
       "\\begin{tabular}{r|lllll}\n",
       " Resid. Df & Resid. Dev & Df & Deviance & Pr(>Chi)\\\\\n",
       "\\hline\n",
       "\t 35         & 51.68731   & NA         &         NA &        NA \\\\\n",
       "\t 37         & 52.67919   & -2         & -0.9918745 & 0.6089998 \\\\\n",
       "\\end{tabular}\n"
      ],
      "text/markdown": [
       "\n",
       "Resid. Df | Resid. Dev | Df | Deviance | Pr(>Chi) | \n",
       "|---|---|\n",
       "| 35         | 51.68731   | NA         |         NA |        NA  | \n",
       "| 37         | 52.67919   | -2         | -0.9918745 | 0.6089998  | \n",
       "\n",
       "\n"
      ],
      "text/plain": [
       "  Resid. Df Resid. Dev Df Deviance   Pr(>Chi) \n",
       "1 35        51.68731   NA         NA        NA\n",
       "2 37        52.67919   -2 -0.9918745 0.6089998"
      ]
     },
     "metadata": {},
     "output_type": "display_data"
    }
   ],
   "source": [
    "anova(cd8_cytotoxic_unmatched_fit_glm,\n",
    "      update(cd8_cytotoxic_unmatched_fit_glm, ~1),\n",
    "      test=\"Chisq\")"
   ]
  },
  {
   "cell_type": "code",
   "execution_count": 145,
   "metadata": {},
   "outputs": [],
   "source": [
    "help(summary.lm)"
   ]
  },
  {
   "cell_type": "code",
   "execution_count": null,
   "metadata": {},
   "outputs": [],
   "source": []
  }
 ],
 "metadata": {
  "kernelspec": {
   "display_name": "R",
   "language": "R",
   "name": "ir"
  },
  "language_info": {
   "codemirror_mode": "r",
   "file_extension": ".r",
   "mimetype": "text/x-r-source",
   "name": "R",
   "pygments_lexer": "r",
   "version": "3.5.0"
  }
 },
 "nbformat": 4,
 "nbformat_minor": 2
}

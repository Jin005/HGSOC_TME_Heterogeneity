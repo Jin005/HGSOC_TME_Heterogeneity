{
 "cells": [
  {
   "cell_type": "markdown",
   "metadata": {},
   "source": [
    "# Multivariate analysis for CD8 and NK cell activation"
   ]
  },
  {
   "cell_type": "markdown",
   "metadata": {},
   "source": [
    "Script related to figure 6b\n",
    "\n",
    "### Aim:\n",
    "- Perform multivariate T test for potential activation of CD8 and NK cells"
   ]
  },
  {
   "cell_type": "code",
   "execution_count": 1,
   "metadata": {},
   "outputs": [
    {
     "data": {
      "text/plain": [
       "R version 3.5.0 (2018-04-23)\n",
       "Platform: x86_64-apple-darwin15.6.0 (64-bit)\n",
       "Running under: macOS High Sierra 10.13.6\n",
       "\n",
       "Matrix products: default\n",
       "BLAS: /Library/Frameworks/R.framework/Versions/3.5/Resources/lib/libRblas.0.dylib\n",
       "LAPACK: /Library/Frameworks/R.framework/Versions/3.5/Resources/lib/libRlapack.dylib\n",
       "\n",
       "locale:\n",
       "[1] C/UTF-8/C/C/C/C\n",
       "\n",
       "attached base packages:\n",
       "[1] stats     graphics  grDevices utils     datasets  methods   base     \n",
       "\n",
       "loaded via a namespace (and not attached):\n",
       " [1] compiler_3.5.0  IRdisplay_0.6.1 pbdZMQ_0.3-3    tools_3.5.0    \n",
       " [5] htmltools_0.4.0 base64enc_0.1-3 crayon_1.3.4    Rcpp_1.0.4.6   \n",
       " [9] uuid_0.1-4      IRkernel_0.8.14 jsonlite_1.6.1  digest_0.6.25  \n",
       "[13] repr_0.17       rlang_0.4.6     evaluate_0.14  "
      ]
     },
     "metadata": {},
     "output_type": "display_data"
    }
   ],
   "source": [
    "sessionInfo()"
   ]
  },
  {
   "cell_type": "markdown",
   "metadata": {},
   "source": [
    "## Load packages"
   ]
  },
  {
   "cell_type": "code",
   "execution_count": 12,
   "metadata": {},
   "outputs": [
    {
     "name": "stderr",
     "output_type": "stream",
     "text": [
      "Loading required package: corpcor\n"
     ]
    }
   ],
   "source": [
    "library(Hotelling)"
   ]
  },
  {
   "cell_type": "code",
   "execution_count": 3,
   "metadata": {},
   "outputs": [],
   "source": [
    "?Hotelling"
   ]
  },
  {
   "cell_type": "code",
   "execution_count": 2,
   "metadata": {},
   "outputs": [],
   "source": [
    "setwd(\"~/git_repos/HGSOC_TME_Heterogeneity/\")"
   ]
  },
  {
   "cell_type": "markdown",
   "metadata": {},
   "source": [
    "## Load sample labels"
   ]
  },
  {
   "cell_type": "code",
   "execution_count": 3,
   "metadata": {},
   "outputs": [],
   "source": [
    "samples <- read.table('Data/5/NACT_SampleLabels.txt',\n",
    "                      sep='\\t',\n",
    "                      header=T,\n",
    "                      row.names='Well')"
   ]
  },
  {
   "cell_type": "code",
   "execution_count": 4,
   "metadata": {},
   "outputs": [],
   "source": [
    "matched <- c(3368,371,9717,8674,2359,564,7765,6965,9347)\n",
    "\n",
    "samples$Matched <- samples$Case_mRNA %in% matched"
   ]
  },
  {
   "cell_type": "code",
   "execution_count": 5,
   "metadata": {},
   "outputs": [
    {
     "data": {
      "text/html": [
       "<table>\n",
       "<thead><tr><th></th><th scope=col>Name</th><th scope=col>Case_mRNA</th><th scope=col>NACT</th><th scope=col>Site</th><th scope=col>Bounds</th><th scope=col>Matched</th></tr></thead>\n",
       "<tbody>\n",
       "\t<tr><th scope=row>A01</th><td>A01_3368A_Liver      </td><td>3368                 </td><td>Untreated            </td><td>other                </td><td>in                   </td><td>TRUE                 </td></tr>\n",
       "\t<tr><th scope=row>A02</th><td>A02_3368B_Liver      </td><td>3368                 </td><td>Treated              </td><td>other                </td><td>out                  </td><td>TRUE                 </td></tr>\n",
       "\t<tr><th scope=row>A03</th><td>A03_0371A_R_diaphragm</td><td> 371                 </td><td>Untreated            </td><td>other                </td><td>out                  </td><td>TRUE                 </td></tr>\n",
       "\t<tr><th scope=row>A04</th><td>A04_0371B_R_diaphragm</td><td> 371                 </td><td>Treated              </td><td>other                </td><td>out                  </td><td>TRUE                 </td></tr>\n",
       "\t<tr><th scope=row>A05</th><td>A05_9717A_R_ovary    </td><td>9717                 </td><td>Untreated            </td><td>ovary                </td><td>in                   </td><td>TRUE                 </td></tr>\n",
       "\t<tr><th scope=row>A06</th><td>A06_9717B_R_ovary    </td><td>9717                 </td><td>Treated              </td><td>ovary                </td><td>out                  </td><td>TRUE                 </td></tr>\n",
       "</tbody>\n",
       "</table>\n"
      ],
      "text/latex": [
       "\\begin{tabular}{r|llllll}\n",
       "  & Name & Case\\_mRNA & NACT & Site & Bounds & Matched\\\\\n",
       "\\hline\n",
       "\tA01 & A01\\_3368A\\_Liver       & 3368                      & Untreated                 & other                     & in                        & TRUE                     \\\\\n",
       "\tA02 & A02\\_3368B\\_Liver       & 3368                      & Treated                   & other                     & out                       & TRUE                     \\\\\n",
       "\tA03 & A03\\_0371A\\_R\\_diaphragm &  371                        & Untreated                   & other                       & out                         & TRUE                       \\\\\n",
       "\tA04 & A04\\_0371B\\_R\\_diaphragm &  371                        & Treated                     & other                       & out                         & TRUE                       \\\\\n",
       "\tA05 & A05\\_9717A\\_R\\_ovary     & 9717                        & Untreated                   & ovary                       & in                          & TRUE                       \\\\\n",
       "\tA06 & A06\\_9717B\\_R\\_ovary     & 9717                        & Treated                     & ovary                       & out                         & TRUE                       \\\\\n",
       "\\end{tabular}\n"
      ],
      "text/markdown": [
       "\n",
       "| <!--/--> | Name | Case_mRNA | NACT | Site | Bounds | Matched | \n",
       "|---|---|---|---|---|---|\n",
       "| A01 | A01_3368A_Liver       | 3368                  | Untreated             | other                 | in                    | TRUE                  | \n",
       "| A02 | A02_3368B_Liver       | 3368                  | Treated               | other                 | out                   | TRUE                  | \n",
       "| A03 | A03_0371A_R_diaphragm |  371                  | Untreated             | other                 | out                   | TRUE                  | \n",
       "| A04 | A04_0371B_R_diaphragm |  371                  | Treated               | other                 | out                   | TRUE                  | \n",
       "| A05 | A05_9717A_R_ovary     | 9717                  | Untreated             | ovary                 | in                    | TRUE                  | \n",
       "| A06 | A06_9717B_R_ovary     | 9717                  | Treated               | ovary                 | out                   | TRUE                  | \n",
       "\n",
       "\n"
      ],
      "text/plain": [
       "    Name                  Case_mRNA NACT      Site  Bounds Matched\n",
       "A01 A01_3368A_Liver       3368      Untreated other in     TRUE   \n",
       "A02 A02_3368B_Liver       3368      Treated   other out    TRUE   \n",
       "A03 A03_0371A_R_diaphragm  371      Untreated other out    TRUE   \n",
       "A04 A04_0371B_R_diaphragm  371      Treated   other out    TRUE   \n",
       "A05 A05_9717A_R_ovary     9717      Untreated ovary in     TRUE   \n",
       "A06 A06_9717B_R_ovary     9717      Treated   ovary out    TRUE   "
      ]
     },
     "metadata": {},
     "output_type": "display_data"
    }
   ],
   "source": [
    "head(samples)"
   ]
  },
  {
   "cell_type": "markdown",
   "metadata": {},
   "source": [
    "## Load ConsensusTME NES"
   ]
  },
  {
   "cell_type": "code",
   "execution_count": 6,
   "metadata": {},
   "outputs": [
    {
     "data": {
      "text/html": [
       "<table>\n",
       "<thead><tr><th></th><th scope=col>B_cells</th><th scope=col>Cytotoxic_cells</th><th scope=col>Dendritic_cells</th><th scope=col>Endothelial</th><th scope=col>Eosinophils</th><th scope=col>Fibroblasts</th><th scope=col>Macrophages</th><th scope=col>Macrophages_M1</th><th scope=col>Macrophages_M2</th><th scope=col>Mast_cells</th><th scope=col>Monocytes</th><th scope=col>NK_cells</th><th scope=col>Neutrophils</th><th scope=col>Plasma_cells</th><th scope=col>T_cells_CD4</th><th scope=col>T_cells_CD8</th><th scope=col>T_cells_gamma_delta</th><th scope=col>T_regulatory_cells</th></tr></thead>\n",
       "<tbody>\n",
       "\t<tr><th scope=row>A01</th><td>0.2544767   </td><td>0.16012391  </td><td>0.23412023  </td><td> 0.14187053 </td><td>-0.104189950</td><td>0.09241945  </td><td>0.2670112   </td><td>0.1720899   </td><td>0.1814478   </td><td> 0.02192616 </td><td>0.2304878   </td><td>-0.02041523 </td><td>0.1091831   </td><td>0.3268816   </td><td>-0.1512603  </td><td>-0.12458821 </td><td>-0.12105553 </td><td>-0.17131674 </td></tr>\n",
       "\t<tr><th scope=row>A02</th><td>0.1831832   </td><td>0.08682826  </td><td>0.24272549  </td><td>-0.03106225 </td><td>-0.001941604</td><td>0.09346663  </td><td>0.2836625   </td><td>0.1048446   </td><td>0.1960520   </td><td>-0.11581174 </td><td>0.2591486   </td><td>-0.02526795 </td><td>0.2488612   </td><td>0.4832443   </td><td>-0.1722784  </td><td>-0.09932701 </td><td>-0.11002029 </td><td>-0.17662104 </td></tr>\n",
       "\t<tr><th scope=row>A03</th><td>0.3284338   </td><td>0.25078253  </td><td>0.35828990  </td><td> 0.35977859 </td><td> 0.118276210</td><td>0.30425047  </td><td>0.4091265   </td><td>0.2950658   </td><td>0.3210669   </td><td> 0.04103930 </td><td>0.3858617   </td><td> 0.02020867 </td><td>0.3013136   </td><td>0.4849676   </td><td> 0.1548997  </td><td> 0.09899607 </td><td> 0.02099488 </td><td> 0.12494436 </td></tr>\n",
       "\t<tr><th scope=row>A04</th><td>0.2229200   </td><td>0.46928297  </td><td>0.24966760  </td><td> 0.38595430 </td><td> 0.292185918</td><td>0.49939131  </td><td>0.2848222   </td><td>0.2185944   </td><td>0.3128521   </td><td> 0.30652579 </td><td>0.3205545   </td><td> 0.17078484 </td><td>0.4332402   </td><td>0.5125873   </td><td> 0.0690361  </td><td> 0.08209151 </td><td> 0.06589801 </td><td> 0.07791841 </td></tr>\n",
       "\t<tr><th scope=row>A05</th><td>0.1584463   </td><td>0.14999672  </td><td>0.09665491  </td><td>-0.03893381 </td><td>-0.136141994</td><td>0.03414850  </td><td>0.2307931   </td><td>0.1273806   </td><td>0.2043502   </td><td>-0.15383368 </td><td>0.2006747   </td><td>-0.09731896 </td><td>0.2647767   </td><td>0.2534280   </td><td>-0.2120999  </td><td>-0.16972010 </td><td>-0.18042408 </td><td>-0.28792353 </td></tr>\n",
       "\t<tr><th scope=row>A06</th><td>0.2086076   </td><td>0.28042125  </td><td>0.21956787  </td><td> 0.29585502 </td><td>-0.127744151</td><td>0.03049037  </td><td>0.3885820   </td><td>0.2812594   </td><td>0.3980291   </td><td>-0.07557768 </td><td>0.2615250   </td><td>-0.01597149 </td><td>0.2808125   </td><td>0.3320963   </td><td>-0.1439186  </td><td>-0.14446257 </td><td>-0.12065637 </td><td>-0.19520560 </td></tr>\n",
       "</tbody>\n",
       "</table>\n"
      ],
      "text/latex": [
       "\\begin{tabular}{r|llllllllllllllllll}\n",
       "  & B\\_cells & Cytotoxic\\_cells & Dendritic\\_cells & Endothelial & Eosinophils & Fibroblasts & Macrophages & Macrophages\\_M1 & Macrophages\\_M2 & Mast\\_cells & Monocytes & NK\\_cells & Neutrophils & Plasma\\_cells & T\\_cells\\_CD4 & T\\_cells\\_CD8 & T\\_cells\\_gamma\\_delta & T\\_regulatory\\_cells\\\\\n",
       "\\hline\n",
       "\tA01 & 0.2544767    & 0.16012391   & 0.23412023   &  0.14187053  & -0.104189950 & 0.09241945   & 0.2670112    & 0.1720899    & 0.1814478    &  0.02192616  & 0.2304878    & -0.02041523  & 0.1091831    & 0.3268816    & -0.1512603   & -0.12458821  & -0.12105553  & -0.17131674 \\\\\n",
       "\tA02 & 0.1831832    & 0.08682826   & 0.24272549   & -0.03106225  & -0.001941604 & 0.09346663   & 0.2836625    & 0.1048446    & 0.1960520    & -0.11581174  & 0.2591486    & -0.02526795  & 0.2488612    & 0.4832443    & -0.1722784   & -0.09932701  & -0.11002029  & -0.17662104 \\\\\n",
       "\tA03 & 0.3284338    & 0.25078253   & 0.35828990   &  0.35977859  &  0.118276210 & 0.30425047   & 0.4091265    & 0.2950658    & 0.3210669    &  0.04103930  & 0.3858617    &  0.02020867  & 0.3013136    & 0.4849676    &  0.1548997   &  0.09899607  &  0.02099488  &  0.12494436 \\\\\n",
       "\tA04 & 0.2229200    & 0.46928297   & 0.24966760   &  0.38595430  &  0.292185918 & 0.49939131   & 0.2848222    & 0.2185944    & 0.3128521    &  0.30652579  & 0.3205545    &  0.17078484  & 0.4332402    & 0.5125873    &  0.0690361   &  0.08209151  &  0.06589801  &  0.07791841 \\\\\n",
       "\tA05 & 0.1584463    & 0.14999672   & 0.09665491   & -0.03893381  & -0.136141994 & 0.03414850   & 0.2307931    & 0.1273806    & 0.2043502    & -0.15383368  & 0.2006747    & -0.09731896  & 0.2647767    & 0.2534280    & -0.2120999   & -0.16972010  & -0.18042408  & -0.28792353 \\\\\n",
       "\tA06 & 0.2086076    & 0.28042125   & 0.21956787   &  0.29585502  & -0.127744151 & 0.03049037   & 0.3885820    & 0.2812594    & 0.3980291    & -0.07557768  & 0.2615250    & -0.01597149  & 0.2808125    & 0.3320963    & -0.1439186   & -0.14446257  & -0.12065637  & -0.19520560 \\\\\n",
       "\\end{tabular}\n"
      ],
      "text/markdown": [
       "\n",
       "| <!--/--> | B_cells | Cytotoxic_cells | Dendritic_cells | Endothelial | Eosinophils | Fibroblasts | Macrophages | Macrophages_M1 | Macrophages_M2 | Mast_cells | Monocytes | NK_cells | Neutrophils | Plasma_cells | T_cells_CD4 | T_cells_CD8 | T_cells_gamma_delta | T_regulatory_cells | \n",
       "|---|---|---|---|---|---|\n",
       "| A01 | 0.2544767    | 0.16012391   | 0.23412023   |  0.14187053  | -0.104189950 | 0.09241945   | 0.2670112    | 0.1720899    | 0.1814478    |  0.02192616  | 0.2304878    | -0.02041523  | 0.1091831    | 0.3268816    | -0.1512603   | -0.12458821  | -0.12105553  | -0.17131674  | \n",
       "| A02 | 0.1831832    | 0.08682826   | 0.24272549   | -0.03106225  | -0.001941604 | 0.09346663   | 0.2836625    | 0.1048446    | 0.1960520    | -0.11581174  | 0.2591486    | -0.02526795  | 0.2488612    | 0.4832443    | -0.1722784   | -0.09932701  | -0.11002029  | -0.17662104  | \n",
       "| A03 | 0.3284338    | 0.25078253   | 0.35828990   |  0.35977859  |  0.118276210 | 0.30425047   | 0.4091265    | 0.2950658    | 0.3210669    |  0.04103930  | 0.3858617    |  0.02020867  | 0.3013136    | 0.4849676    |  0.1548997   |  0.09899607  |  0.02099488  |  0.12494436  | \n",
       "| A04 | 0.2229200    | 0.46928297   | 0.24966760   |  0.38595430  |  0.292185918 | 0.49939131   | 0.2848222    | 0.2185944    | 0.3128521    |  0.30652579  | 0.3205545    |  0.17078484  | 0.4332402    | 0.5125873    |  0.0690361   |  0.08209151  |  0.06589801  |  0.07791841  | \n",
       "| A05 | 0.1584463    | 0.14999672   | 0.09665491   | -0.03893381  | -0.136141994 | 0.03414850   | 0.2307931    | 0.1273806    | 0.2043502    | -0.15383368  | 0.2006747    | -0.09731896  | 0.2647767    | 0.2534280    | -0.2120999   | -0.16972010  | -0.18042408  | -0.28792353  | \n",
       "| A06 | 0.2086076    | 0.28042125   | 0.21956787   |  0.29585502  | -0.127744151 | 0.03049037   | 0.3885820    | 0.2812594    | 0.3980291    | -0.07557768  | 0.2615250    | -0.01597149  | 0.2808125    | 0.3320963    | -0.1439186   | -0.14446257  | -0.12065637  | -0.19520560  | \n",
       "\n",
       "\n"
      ],
      "text/plain": [
       "    B_cells   Cytotoxic_cells Dendritic_cells Endothelial Eosinophils \n",
       "A01 0.2544767 0.16012391      0.23412023       0.14187053 -0.104189950\n",
       "A02 0.1831832 0.08682826      0.24272549      -0.03106225 -0.001941604\n",
       "A03 0.3284338 0.25078253      0.35828990       0.35977859  0.118276210\n",
       "A04 0.2229200 0.46928297      0.24966760       0.38595430  0.292185918\n",
       "A05 0.1584463 0.14999672      0.09665491      -0.03893381 -0.136141994\n",
       "A06 0.2086076 0.28042125      0.21956787       0.29585502 -0.127744151\n",
       "    Fibroblasts Macrophages Macrophages_M1 Macrophages_M2 Mast_cells  Monocytes\n",
       "A01 0.09241945  0.2670112   0.1720899      0.1814478       0.02192616 0.2304878\n",
       "A02 0.09346663  0.2836625   0.1048446      0.1960520      -0.11581174 0.2591486\n",
       "A03 0.30425047  0.4091265   0.2950658      0.3210669       0.04103930 0.3858617\n",
       "A04 0.49939131  0.2848222   0.2185944      0.3128521       0.30652579 0.3205545\n",
       "A05 0.03414850  0.2307931   0.1273806      0.2043502      -0.15383368 0.2006747\n",
       "A06 0.03049037  0.3885820   0.2812594      0.3980291      -0.07557768 0.2615250\n",
       "    NK_cells    Neutrophils Plasma_cells T_cells_CD4 T_cells_CD8\n",
       "A01 -0.02041523 0.1091831   0.3268816    -0.1512603  -0.12458821\n",
       "A02 -0.02526795 0.2488612   0.4832443    -0.1722784  -0.09932701\n",
       "A03  0.02020867 0.3013136   0.4849676     0.1548997   0.09899607\n",
       "A04  0.17078484 0.4332402   0.5125873     0.0690361   0.08209151\n",
       "A05 -0.09731896 0.2647767   0.2534280    -0.2120999  -0.16972010\n",
       "A06 -0.01597149 0.2808125   0.3320963    -0.1439186  -0.14446257\n",
       "    T_cells_gamma_delta T_regulatory_cells\n",
       "A01 -0.12105553         -0.17131674       \n",
       "A02 -0.11002029         -0.17662104       \n",
       "A03  0.02099488          0.12494436       \n",
       "A04  0.06589801          0.07791841       \n",
       "A05 -0.18042408         -0.28792353       \n",
       "A06 -0.12065637         -0.19520560       "
      ]
     },
     "metadata": {},
     "output_type": "display_data"
    }
   ],
   "source": [
    "consensus_data <- read.table('Data/5/ConsensusTME_NACT_NES.txt',\n",
    "                             sep='\\t',\n",
    "                             header=T,\n",
    "                             row.names='Term')\n",
    "\n",
    "consensus_data <- t(consensus_data)\n",
    "head(consensus_data)"
   ]
  },
  {
   "cell_type": "markdown",
   "metadata": {},
   "source": [
    "### Split matched and unmatched samples data"
   ]
  },
  {
   "cell_type": "code",
   "execution_count": 7,
   "metadata": {},
   "outputs": [],
   "source": [
    "matched   <- consensus_data[which(samples$Matched == TRUE ),]\n",
    "\n",
    "unmatched <- consensus_data[which(samples$Matched == FALSE),]"
   ]
  },
  {
   "cell_type": "code",
   "execution_count": 8,
   "metadata": {},
   "outputs": [
    {
     "data": {
      "text/html": [
       "<table>\n",
       "<thead><tr><th></th><th scope=col>B_cells</th><th scope=col>Cytotoxic_cells</th><th scope=col>Dendritic_cells</th><th scope=col>Endothelial</th><th scope=col>Eosinophils</th><th scope=col>Fibroblasts</th><th scope=col>Macrophages</th><th scope=col>Macrophages_M1</th><th scope=col>Macrophages_M2</th><th scope=col>Mast_cells</th><th scope=col>Monocytes</th><th scope=col>NK_cells</th><th scope=col>Neutrophils</th><th scope=col>Plasma_cells</th><th scope=col>T_cells_CD4</th><th scope=col>T_cells_CD8</th><th scope=col>T_cells_gamma_delta</th><th scope=col>T_regulatory_cells</th></tr></thead>\n",
       "<tbody>\n",
       "\t<tr><th scope=row>B02</th><td>0.2402263   </td><td> 0.04165139 </td><td>0.1960428   </td><td> 0.13219214 </td><td>-0.03672601 </td><td> 0.26149548 </td><td>0.3296904   </td><td>0.2648137   </td><td>0.2625680   </td><td> 0.11898768 </td><td>0.2465675   </td><td>-0.114436017</td><td>0.2835240   </td><td>0.3383852   </td><td>-0.16099866 </td><td>-0.10924458 </td><td>-0.10747554 </td><td>-0.29836380 </td></tr>\n",
       "\t<tr><th scope=row>B03</th><td>0.2835227   </td><td> 0.33674780 </td><td>0.4122715   </td><td> 0.22910920 </td><td> 0.22940228 </td><td> 0.28277541 </td><td>0.4041324   </td><td>0.3839678   </td><td>0.4119708   </td><td> 0.05383048 </td><td>0.2921816   </td><td> 0.127573340</td><td>0.3570923   </td><td>0.6466582   </td><td> 0.03783387 </td><td> 0.14070057 </td><td> 0.11995260 </td><td> 0.15591034 </td></tr>\n",
       "\t<tr><th scope=row>B04</th><td>0.2839035   </td><td> 0.29739252 </td><td>0.4115423   </td><td> 0.32445657 </td><td> 0.23703105 </td><td> 0.16866140 </td><td>0.4024553   </td><td>0.3650535   </td><td>0.4139615   </td><td> 0.11777950 </td><td>0.3647248   </td><td> 0.091471933</td><td>0.3717044   </td><td>0.5847199   </td><td> 0.09239342 </td><td> 0.12828607 </td><td> 0.07697151 </td><td> 0.18938231 </td></tr>\n",
       "\t<tr><th scope=row>B05</th><td>0.2040914   </td><td> 0.10670975 </td><td>0.2725495   </td><td> 0.17986191 </td><td> 0.42209691 </td><td> 0.23263157 </td><td>0.3496187   </td><td>0.2867881   </td><td>0.2484168   </td><td> 0.02069893 </td><td>0.3050340   </td><td> 0.004476703</td><td>0.4952381   </td><td>0.5587154   </td><td> 0.11541886 </td><td> 0.05464495 </td><td>-0.01055403 </td><td> 0.20189863 </td></tr>\n",
       "\t<tr><th scope=row>B06</th><td>0.1358404   </td><td>-0.06047101 </td><td>0.1364558   </td><td>-0.01334995 </td><td>-0.06623356 </td><td>-0.03450019 </td><td>0.3311684   </td><td>0.2358284   </td><td>0.1790985   </td><td>-0.01447437 </td><td>0.2186006   </td><td>-0.174316371</td><td>0.1910897   </td><td>0.1703691   </td><td>-0.20636331 </td><td>-0.20507770 </td><td>-0.20014783 </td><td>-0.35279681 </td></tr>\n",
       "\t<tr><th scope=row>B07</th><td>0.2521700   </td><td> 0.18689107 </td><td>0.2492469   </td><td> 0.20180648 </td><td> 0.02932837 </td><td> 0.16933787 </td><td>0.3171786   </td><td>0.1382779   </td><td>0.2975472   </td><td>-0.06294442 </td><td>0.2755501   </td><td> 0.040335033</td><td>0.2423303   </td><td>0.5589227   </td><td>-0.07622513 </td><td>-0.01944428 </td><td>-0.08464659 </td><td>-0.07293489 </td></tr>\n",
       "</tbody>\n",
       "</table>\n"
      ],
      "text/latex": [
       "\\begin{tabular}{r|llllllllllllllllll}\n",
       "  & B\\_cells & Cytotoxic\\_cells & Dendritic\\_cells & Endothelial & Eosinophils & Fibroblasts & Macrophages & Macrophages\\_M1 & Macrophages\\_M2 & Mast\\_cells & Monocytes & NK\\_cells & Neutrophils & Plasma\\_cells & T\\_cells\\_CD4 & T\\_cells\\_CD8 & T\\_cells\\_gamma\\_delta & T\\_regulatory\\_cells\\\\\n",
       "\\hline\n",
       "\tB02 & 0.2402263    &  0.04165139  & 0.1960428    &  0.13219214  & -0.03672601  &  0.26149548  & 0.3296904    & 0.2648137    & 0.2625680    &  0.11898768  & 0.2465675    & -0.114436017 & 0.2835240    & 0.3383852    & -0.16099866  & -0.10924458  & -0.10747554  & -0.29836380 \\\\\n",
       "\tB03 & 0.2835227    &  0.33674780  & 0.4122715    &  0.22910920  &  0.22940228  &  0.28277541  & 0.4041324    & 0.3839678    & 0.4119708    &  0.05383048  & 0.2921816    &  0.127573340 & 0.3570923    & 0.6466582    &  0.03783387  &  0.14070057  &  0.11995260  &  0.15591034 \\\\\n",
       "\tB04 & 0.2839035    &  0.29739252  & 0.4115423    &  0.32445657  &  0.23703105  &  0.16866140  & 0.4024553    & 0.3650535    & 0.4139615    &  0.11777950  & 0.3647248    &  0.091471933 & 0.3717044    & 0.5847199    &  0.09239342  &  0.12828607  &  0.07697151  &  0.18938231 \\\\\n",
       "\tB05 & 0.2040914    &  0.10670975  & 0.2725495    &  0.17986191  &  0.42209691  &  0.23263157  & 0.3496187    & 0.2867881    & 0.2484168    &  0.02069893  & 0.3050340    &  0.004476703 & 0.4952381    & 0.5587154    &  0.11541886  &  0.05464495  & -0.01055403  &  0.20189863 \\\\\n",
       "\tB06 & 0.1358404    & -0.06047101  & 0.1364558    & -0.01334995  & -0.06623356  & -0.03450019  & 0.3311684    & 0.2358284    & 0.1790985    & -0.01447437  & 0.2186006    & -0.174316371 & 0.1910897    & 0.1703691    & -0.20636331  & -0.20507770  & -0.20014783  & -0.35279681 \\\\\n",
       "\tB07 & 0.2521700    &  0.18689107  & 0.2492469    &  0.20180648  &  0.02932837  &  0.16933787  & 0.3171786    & 0.1382779    & 0.2975472    & -0.06294442  & 0.2755501    &  0.040335033 & 0.2423303    & 0.5589227    & -0.07622513  & -0.01944428  & -0.08464659  & -0.07293489 \\\\\n",
       "\\end{tabular}\n"
      ],
      "text/markdown": [
       "\n",
       "| <!--/--> | B_cells | Cytotoxic_cells | Dendritic_cells | Endothelial | Eosinophils | Fibroblasts | Macrophages | Macrophages_M1 | Macrophages_M2 | Mast_cells | Monocytes | NK_cells | Neutrophils | Plasma_cells | T_cells_CD4 | T_cells_CD8 | T_cells_gamma_delta | T_regulatory_cells | \n",
       "|---|---|---|---|---|---|\n",
       "| B02 | 0.2402263    |  0.04165139  | 0.1960428    |  0.13219214  | -0.03672601  |  0.26149548  | 0.3296904    | 0.2648137    | 0.2625680    |  0.11898768  | 0.2465675    | -0.114436017 | 0.2835240    | 0.3383852    | -0.16099866  | -0.10924458  | -0.10747554  | -0.29836380  | \n",
       "| B03 | 0.2835227    |  0.33674780  | 0.4122715    |  0.22910920  |  0.22940228  |  0.28277541  | 0.4041324    | 0.3839678    | 0.4119708    |  0.05383048  | 0.2921816    |  0.127573340 | 0.3570923    | 0.6466582    |  0.03783387  |  0.14070057  |  0.11995260  |  0.15591034  | \n",
       "| B04 | 0.2839035    |  0.29739252  | 0.4115423    |  0.32445657  |  0.23703105  |  0.16866140  | 0.4024553    | 0.3650535    | 0.4139615    |  0.11777950  | 0.3647248    |  0.091471933 | 0.3717044    | 0.5847199    |  0.09239342  |  0.12828607  |  0.07697151  |  0.18938231  | \n",
       "| B05 | 0.2040914    |  0.10670975  | 0.2725495    |  0.17986191  |  0.42209691  |  0.23263157  | 0.3496187    | 0.2867881    | 0.2484168    |  0.02069893  | 0.3050340    |  0.004476703 | 0.4952381    | 0.5587154    |  0.11541886  |  0.05464495  | -0.01055403  |  0.20189863  | \n",
       "| B06 | 0.1358404    | -0.06047101  | 0.1364558    | -0.01334995  | -0.06623356  | -0.03450019  | 0.3311684    | 0.2358284    | 0.1790985    | -0.01447437  | 0.2186006    | -0.174316371 | 0.1910897    | 0.1703691    | -0.20636331  | -0.20507770  | -0.20014783  | -0.35279681  | \n",
       "| B07 | 0.2521700    |  0.18689107  | 0.2492469    |  0.20180648  |  0.02932837  |  0.16933787  | 0.3171786    | 0.1382779    | 0.2975472    | -0.06294442  | 0.2755501    |  0.040335033 | 0.2423303    | 0.5589227    | -0.07622513  | -0.01944428  | -0.08464659  | -0.07293489  | \n",
       "\n",
       "\n"
      ],
      "text/plain": [
       "    B_cells   Cytotoxic_cells Dendritic_cells Endothelial Eosinophils\n",
       "B02 0.2402263  0.04165139     0.1960428        0.13219214 -0.03672601\n",
       "B03 0.2835227  0.33674780     0.4122715        0.22910920  0.22940228\n",
       "B04 0.2839035  0.29739252     0.4115423        0.32445657  0.23703105\n",
       "B05 0.2040914  0.10670975     0.2725495        0.17986191  0.42209691\n",
       "B06 0.1358404 -0.06047101     0.1364558       -0.01334995 -0.06623356\n",
       "B07 0.2521700  0.18689107     0.2492469        0.20180648  0.02932837\n",
       "    Fibroblasts Macrophages Macrophages_M1 Macrophages_M2 Mast_cells  Monocytes\n",
       "B02  0.26149548 0.3296904   0.2648137      0.2625680       0.11898768 0.2465675\n",
       "B03  0.28277541 0.4041324   0.3839678      0.4119708       0.05383048 0.2921816\n",
       "B04  0.16866140 0.4024553   0.3650535      0.4139615       0.11777950 0.3647248\n",
       "B05  0.23263157 0.3496187   0.2867881      0.2484168       0.02069893 0.3050340\n",
       "B06 -0.03450019 0.3311684   0.2358284      0.1790985      -0.01447437 0.2186006\n",
       "B07  0.16933787 0.3171786   0.1382779      0.2975472      -0.06294442 0.2755501\n",
       "    NK_cells     Neutrophils Plasma_cells T_cells_CD4 T_cells_CD8\n",
       "B02 -0.114436017 0.2835240   0.3383852    -0.16099866 -0.10924458\n",
       "B03  0.127573340 0.3570923   0.6466582     0.03783387  0.14070057\n",
       "B04  0.091471933 0.3717044   0.5847199     0.09239342  0.12828607\n",
       "B05  0.004476703 0.4952381   0.5587154     0.11541886  0.05464495\n",
       "B06 -0.174316371 0.1910897   0.1703691    -0.20636331 -0.20507770\n",
       "B07  0.040335033 0.2423303   0.5589227    -0.07622513 -0.01944428\n",
       "    T_cells_gamma_delta T_regulatory_cells\n",
       "B02 -0.10747554         -0.29836380       \n",
       "B03  0.11995260          0.15591034       \n",
       "B04  0.07697151          0.18938231       \n",
       "B05 -0.01055403          0.20189863       \n",
       "B06 -0.20014783         -0.35279681       \n",
       "B07 -0.08464659         -0.07293489       "
      ]
     },
     "metadata": {},
     "output_type": "display_data"
    }
   ],
   "source": [
    "tail(matched)"
   ]
  },
  {
   "cell_type": "markdown",
   "metadata": {},
   "source": [
    "### Remove columns not needed"
   ]
  },
  {
   "cell_type": "code",
   "execution_count": 9,
   "metadata": {},
   "outputs": [],
   "source": [
    "matched    <- subset(\n",
    "    cbind(matched, samples[which(samples$Matched == TRUE),]),\n",
    "          select=-c(Name,Case_mRNA,Site,Bounds,Matched)\n",
    ")\n",
    "\n",
    "unmatched  <- subset(\n",
    "    cbind(unmatched, samples[which(samples$Matched == FALSE),]),\n",
    "    select=-c(Name,Case_mRNA,Site,Bounds,Matched)\n",
    ")"
   ]
  },
  {
   "cell_type": "markdown",
   "metadata": {},
   "source": [
    "## Performed matched analysis"
   ]
  },
  {
   "cell_type": "code",
   "execution_count": 10,
   "metadata": {},
   "outputs": [
    {
     "data": {
      "text/html": [
       "<table>\n",
       "<thead><tr><th></th><th scope=col>B_cells</th><th scope=col>Cytotoxic_cells</th><th scope=col>Dendritic_cells</th><th scope=col>Endothelial</th><th scope=col>Eosinophils</th><th scope=col>Fibroblasts</th><th scope=col>Macrophages</th><th scope=col>Macrophages_M1</th><th scope=col>Macrophages_M2</th><th scope=col>Mast_cells</th><th scope=col>Monocytes</th><th scope=col>NK_cells</th><th scope=col>Neutrophils</th><th scope=col>Plasma_cells</th><th scope=col>T_cells_CD4</th><th scope=col>T_cells_CD8</th><th scope=col>T_cells_gamma_delta</th><th scope=col>T_regulatory_cells</th><th scope=col>NACT</th></tr></thead>\n",
       "<tbody>\n",
       "\t<tr><th scope=row>A01</th><td>0.2544767   </td><td>0.16012391  </td><td>0.23412023  </td><td> 0.14187053 </td><td>-0.104189950</td><td>0.09241945  </td><td>0.2670112   </td><td>0.1720899   </td><td>0.1814478   </td><td> 0.02192616 </td><td>0.2304878   </td><td>-0.02041523 </td><td>0.1091831   </td><td>0.3268816   </td><td>-0.1512603  </td><td>-0.12458821 </td><td>-0.12105553 </td><td>-0.17131674 </td><td>Untreated   </td></tr>\n",
       "\t<tr><th scope=row>A02</th><td>0.1831832   </td><td>0.08682826  </td><td>0.24272549  </td><td>-0.03106225 </td><td>-0.001941604</td><td>0.09346663  </td><td>0.2836625   </td><td>0.1048446   </td><td>0.1960520   </td><td>-0.11581174 </td><td>0.2591486   </td><td>-0.02526795 </td><td>0.2488612   </td><td>0.4832443   </td><td>-0.1722784  </td><td>-0.09932701 </td><td>-0.11002029 </td><td>-0.17662104 </td><td>Treated     </td></tr>\n",
       "\t<tr><th scope=row>A03</th><td>0.3284338   </td><td>0.25078253  </td><td>0.35828990  </td><td> 0.35977859 </td><td> 0.118276210</td><td>0.30425047  </td><td>0.4091265   </td><td>0.2950658   </td><td>0.3210669   </td><td> 0.04103930 </td><td>0.3858617   </td><td> 0.02020867 </td><td>0.3013136   </td><td>0.4849676   </td><td> 0.1548997  </td><td> 0.09899607 </td><td> 0.02099488 </td><td> 0.12494436 </td><td>Untreated   </td></tr>\n",
       "\t<tr><th scope=row>A04</th><td>0.2229200   </td><td>0.46928297  </td><td>0.24966760  </td><td> 0.38595430 </td><td> 0.292185918</td><td>0.49939131  </td><td>0.2848222   </td><td>0.2185944   </td><td>0.3128521   </td><td> 0.30652579 </td><td>0.3205545   </td><td> 0.17078484 </td><td>0.4332402   </td><td>0.5125873   </td><td> 0.0690361  </td><td> 0.08209151 </td><td> 0.06589801 </td><td> 0.07791841 </td><td>Treated     </td></tr>\n",
       "\t<tr><th scope=row>A05</th><td>0.1584463   </td><td>0.14999672  </td><td>0.09665491  </td><td>-0.03893381 </td><td>-0.136141994</td><td>0.03414850  </td><td>0.2307931   </td><td>0.1273806   </td><td>0.2043502   </td><td>-0.15383368 </td><td>0.2006747   </td><td>-0.09731896 </td><td>0.2647767   </td><td>0.2534280   </td><td>-0.2120999  </td><td>-0.16972010 </td><td>-0.18042408 </td><td>-0.28792353 </td><td>Untreated   </td></tr>\n",
       "\t<tr><th scope=row>A06</th><td>0.2086076   </td><td>0.28042125  </td><td>0.21956787  </td><td> 0.29585502 </td><td>-0.127744151</td><td>0.03049037  </td><td>0.3885820   </td><td>0.2812594   </td><td>0.3980291   </td><td>-0.07557768 </td><td>0.2615250   </td><td>-0.01597149 </td><td>0.2808125   </td><td>0.3320963   </td><td>-0.1439186  </td><td>-0.14446257 </td><td>-0.12065637 </td><td>-0.19520560 </td><td>Treated     </td></tr>\n",
       "</tbody>\n",
       "</table>\n"
      ],
      "text/latex": [
       "\\begin{tabular}{r|lllllllllllllllllll}\n",
       "  & B\\_cells & Cytotoxic\\_cells & Dendritic\\_cells & Endothelial & Eosinophils & Fibroblasts & Macrophages & Macrophages\\_M1 & Macrophages\\_M2 & Mast\\_cells & Monocytes & NK\\_cells & Neutrophils & Plasma\\_cells & T\\_cells\\_CD4 & T\\_cells\\_CD8 & T\\_cells\\_gamma\\_delta & T\\_regulatory\\_cells & NACT\\\\\n",
       "\\hline\n",
       "\tA01 & 0.2544767    & 0.16012391   & 0.23412023   &  0.14187053  & -0.104189950 & 0.09241945   & 0.2670112    & 0.1720899    & 0.1814478    &  0.02192616  & 0.2304878    & -0.02041523  & 0.1091831    & 0.3268816    & -0.1512603   & -0.12458821  & -0.12105553  & -0.17131674  & Untreated   \\\\\n",
       "\tA02 & 0.1831832    & 0.08682826   & 0.24272549   & -0.03106225  & -0.001941604 & 0.09346663   & 0.2836625    & 0.1048446    & 0.1960520    & -0.11581174  & 0.2591486    & -0.02526795  & 0.2488612    & 0.4832443    & -0.1722784   & -0.09932701  & -0.11002029  & -0.17662104  & Treated     \\\\\n",
       "\tA03 & 0.3284338    & 0.25078253   & 0.35828990   &  0.35977859  &  0.118276210 & 0.30425047   & 0.4091265    & 0.2950658    & 0.3210669    &  0.04103930  & 0.3858617    &  0.02020867  & 0.3013136    & 0.4849676    &  0.1548997   &  0.09899607  &  0.02099488  &  0.12494436  & Untreated   \\\\\n",
       "\tA04 & 0.2229200    & 0.46928297   & 0.24966760   &  0.38595430  &  0.292185918 & 0.49939131   & 0.2848222    & 0.2185944    & 0.3128521    &  0.30652579  & 0.3205545    &  0.17078484  & 0.4332402    & 0.5125873    &  0.0690361   &  0.08209151  &  0.06589801  &  0.07791841  & Treated     \\\\\n",
       "\tA05 & 0.1584463    & 0.14999672   & 0.09665491   & -0.03893381  & -0.136141994 & 0.03414850   & 0.2307931    & 0.1273806    & 0.2043502    & -0.15383368  & 0.2006747    & -0.09731896  & 0.2647767    & 0.2534280    & -0.2120999   & -0.16972010  & -0.18042408  & -0.28792353  & Untreated   \\\\\n",
       "\tA06 & 0.2086076    & 0.28042125   & 0.21956787   &  0.29585502  & -0.127744151 & 0.03049037   & 0.3885820    & 0.2812594    & 0.3980291    & -0.07557768  & 0.2615250    & -0.01597149  & 0.2808125    & 0.3320963    & -0.1439186   & -0.14446257  & -0.12065637  & -0.19520560  & Treated     \\\\\n",
       "\\end{tabular}\n"
      ],
      "text/markdown": [
       "\n",
       "| <!--/--> | B_cells | Cytotoxic_cells | Dendritic_cells | Endothelial | Eosinophils | Fibroblasts | Macrophages | Macrophages_M1 | Macrophages_M2 | Mast_cells | Monocytes | NK_cells | Neutrophils | Plasma_cells | T_cells_CD4 | T_cells_CD8 | T_cells_gamma_delta | T_regulatory_cells | NACT | \n",
       "|---|---|---|---|---|---|\n",
       "| A01 | 0.2544767    | 0.16012391   | 0.23412023   |  0.14187053  | -0.104189950 | 0.09241945   | 0.2670112    | 0.1720899    | 0.1814478    |  0.02192616  | 0.2304878    | -0.02041523  | 0.1091831    | 0.3268816    | -0.1512603   | -0.12458821  | -0.12105553  | -0.17131674  | Untreated    | \n",
       "| A02 | 0.1831832    | 0.08682826   | 0.24272549   | -0.03106225  | -0.001941604 | 0.09346663   | 0.2836625    | 0.1048446    | 0.1960520    | -0.11581174  | 0.2591486    | -0.02526795  | 0.2488612    | 0.4832443    | -0.1722784   | -0.09932701  | -0.11002029  | -0.17662104  | Treated      | \n",
       "| A03 | 0.3284338    | 0.25078253   | 0.35828990   |  0.35977859  |  0.118276210 | 0.30425047   | 0.4091265    | 0.2950658    | 0.3210669    |  0.04103930  | 0.3858617    |  0.02020867  | 0.3013136    | 0.4849676    |  0.1548997   |  0.09899607  |  0.02099488  |  0.12494436  | Untreated    | \n",
       "| A04 | 0.2229200    | 0.46928297   | 0.24966760   |  0.38595430  |  0.292185918 | 0.49939131   | 0.2848222    | 0.2185944    | 0.3128521    |  0.30652579  | 0.3205545    |  0.17078484  | 0.4332402    | 0.5125873    |  0.0690361   |  0.08209151  |  0.06589801  |  0.07791841  | Treated      | \n",
       "| A05 | 0.1584463    | 0.14999672   | 0.09665491   | -0.03893381  | -0.136141994 | 0.03414850   | 0.2307931    | 0.1273806    | 0.2043502    | -0.15383368  | 0.2006747    | -0.09731896  | 0.2647767    | 0.2534280    | -0.2120999   | -0.16972010  | -0.18042408  | -0.28792353  | Untreated    | \n",
       "| A06 | 0.2086076    | 0.28042125   | 0.21956787   |  0.29585502  | -0.127744151 | 0.03049037   | 0.3885820    | 0.2812594    | 0.3980291    | -0.07557768  | 0.2615250    | -0.01597149  | 0.2808125    | 0.3320963    | -0.1439186   | -0.14446257  | -0.12065637  | -0.19520560  | Treated      | \n",
       "\n",
       "\n"
      ],
      "text/plain": [
       "    B_cells   Cytotoxic_cells Dendritic_cells Endothelial Eosinophils \n",
       "A01 0.2544767 0.16012391      0.23412023       0.14187053 -0.104189950\n",
       "A02 0.1831832 0.08682826      0.24272549      -0.03106225 -0.001941604\n",
       "A03 0.3284338 0.25078253      0.35828990       0.35977859  0.118276210\n",
       "A04 0.2229200 0.46928297      0.24966760       0.38595430  0.292185918\n",
       "A05 0.1584463 0.14999672      0.09665491      -0.03893381 -0.136141994\n",
       "A06 0.2086076 0.28042125      0.21956787       0.29585502 -0.127744151\n",
       "    Fibroblasts Macrophages Macrophages_M1 Macrophages_M2 Mast_cells  Monocytes\n",
       "A01 0.09241945  0.2670112   0.1720899      0.1814478       0.02192616 0.2304878\n",
       "A02 0.09346663  0.2836625   0.1048446      0.1960520      -0.11581174 0.2591486\n",
       "A03 0.30425047  0.4091265   0.2950658      0.3210669       0.04103930 0.3858617\n",
       "A04 0.49939131  0.2848222   0.2185944      0.3128521       0.30652579 0.3205545\n",
       "A05 0.03414850  0.2307931   0.1273806      0.2043502      -0.15383368 0.2006747\n",
       "A06 0.03049037  0.3885820   0.2812594      0.3980291      -0.07557768 0.2615250\n",
       "    NK_cells    Neutrophils Plasma_cells T_cells_CD4 T_cells_CD8\n",
       "A01 -0.02041523 0.1091831   0.3268816    -0.1512603  -0.12458821\n",
       "A02 -0.02526795 0.2488612   0.4832443    -0.1722784  -0.09932701\n",
       "A03  0.02020867 0.3013136   0.4849676     0.1548997   0.09899607\n",
       "A04  0.17078484 0.4332402   0.5125873     0.0690361   0.08209151\n",
       "A05 -0.09731896 0.2647767   0.2534280    -0.2120999  -0.16972010\n",
       "A06 -0.01597149 0.2808125   0.3320963    -0.1439186  -0.14446257\n",
       "    T_cells_gamma_delta T_regulatory_cells NACT     \n",
       "A01 -0.12105553         -0.17131674        Untreated\n",
       "A02 -0.11002029         -0.17662104        Treated  \n",
       "A03  0.02099488          0.12494436        Untreated\n",
       "A04  0.06589801          0.07791841        Treated  \n",
       "A05 -0.18042408         -0.28792353        Untreated\n",
       "A06 -0.12065637         -0.19520560        Treated  "
      ]
     },
     "metadata": {},
     "output_type": "display_data"
    }
   ],
   "source": [
    "head(matched)"
   ]
  },
  {
   "cell_type": "code",
   "execution_count": 13,
   "metadata": {},
   "outputs": [
    {
     "name": "stdout",
     "output_type": "stream",
     "text": [
      "  |======================================================================| 100%"
     ]
    }
   ],
   "source": [
    "cd8_matched_fit = hotelling.test(T_cells_CD8*Cytotoxic_cells~NACT, data = matched, perm = TRUE)"
   ]
  },
  {
   "cell_type": "code",
   "execution_count": 14,
   "metadata": {},
   "outputs": [
    {
     "data": {
      "text/plain": [
       "Test stat:  1.3546 \n",
       "Numerator df:  2 \n",
       "Denominator df:  15 \n",
       "Permutation P-value:  0.2813 \n",
       "Number of permutations : 10000 "
      ]
     },
     "metadata": {},
     "output_type": "display_data"
    }
   ],
   "source": [
    "cd8_matched_fit"
   ]
  },
  {
   "cell_type": "code",
   "execution_count": 15,
   "metadata": {},
   "outputs": [
    {
     "data": {
      "text/html": [
       "<strong>pdf:</strong> 2"
      ],
      "text/latex": [
       "\\textbf{pdf:} 2"
      ],
      "text/markdown": [
       "**pdf:** 2"
      ],
      "text/plain": [
       "pdf \n",
       "  2 "
      ]
     },
     "metadata": {},
     "output_type": "display_data"
    }
   ],
   "source": [
    "pdf('Figures/main/6/panels/6b_cd8_cytotoxic_matched.pdf')\n",
    "\n",
    "plot(cd8_matched_fit,\n",
    "     freq=TRUE,\n",
    "     breaks=30,\n",
    "     col=\"#FFDD15\",\n",
    "     xlim=c(0,25)\n",
    "    )\n",
    "\n",
    "dev.off()"
   ]
  },
  {
   "cell_type": "code",
   "execution_count": 16,
   "metadata": {},
   "outputs": [
    {
     "name": "stdout",
     "output_type": "stream",
     "text": [
      "  |======================================================================| 100%"
     ]
    }
   ],
   "source": [
    "nk_matched_fit = hotelling.test(NK_cells*Cytotoxic_cells~NACT, data = matched, perm = TRUE)"
   ]
  },
  {
   "cell_type": "code",
   "execution_count": 17,
   "metadata": {},
   "outputs": [
    {
     "data": {
      "text/plain": [
       "Test stat:  5.4825 \n",
       "Numerator df:  2 \n",
       "Denominator df:  15 \n",
       "Permutation P-value:  0.0238 \n",
       "Number of permutations : 10000 "
      ]
     },
     "metadata": {},
     "output_type": "display_data"
    }
   ],
   "source": [
    "nk_matched_fit"
   ]
  },
  {
   "cell_type": "code",
   "execution_count": 18,
   "metadata": {},
   "outputs": [
    {
     "data": {
      "text/html": [
       "<strong>pdf:</strong> 2"
      ],
      "text/latex": [
       "\\textbf{pdf:} 2"
      ],
      "text/markdown": [
       "**pdf:** 2"
      ],
      "text/plain": [
       "pdf \n",
       "  2 "
      ]
     },
     "metadata": {},
     "output_type": "display_data"
    }
   ],
   "source": [
    "pdf('Figures/main/6/panels/6b_nk_cytotoxic_matched.pdf')\n",
    "\n",
    "plot(nk_matched_fit,\n",
    "     freq=TRUE,\n",
    "     breaks=30,\n",
    "     col=\"#70B09D\",\n",
    "     xlim=c(0,25)\n",
    "    )\n",
    "\n",
    "dev.off()"
   ]
  },
  {
   "cell_type": "markdown",
   "metadata": {},
   "source": [
    "## Performed unmatched analysis"
   ]
  },
  {
   "cell_type": "code",
   "execution_count": 19,
   "metadata": {},
   "outputs": [
    {
     "data": {
      "text/html": [
       "<table>\n",
       "<thead><tr><th></th><th scope=col>B_cells</th><th scope=col>Cytotoxic_cells</th><th scope=col>Dendritic_cells</th><th scope=col>Endothelial</th><th scope=col>Eosinophils</th><th scope=col>Fibroblasts</th><th scope=col>Macrophages</th><th scope=col>Macrophages_M1</th><th scope=col>Macrophages_M2</th><th scope=col>Mast_cells</th><th scope=col>Monocytes</th><th scope=col>NK_cells</th><th scope=col>Neutrophils</th><th scope=col>Plasma_cells</th><th scope=col>T_cells_CD4</th><th scope=col>T_cells_CD8</th><th scope=col>T_cells_gamma_delta</th><th scope=col>T_regulatory_cells</th><th scope=col>NACT</th></tr></thead>\n",
       "<tbody>\n",
       "\t<tr><th scope=row>B08</th><td>0.2498001    </td><td> 0.1454555298</td><td> 0.22403339  </td><td>0.20216359   </td><td>-0.152162396 </td><td>-0.03651893  </td><td>0.3484167    </td><td> 0.2567119   </td><td>0.20275182   </td><td>-0.01906826  </td><td>0.23239805   </td><td>-0.06910932  </td><td>0.18625729   </td><td>0.4655307    </td><td>-0.16401822  </td><td>-0.10329955  </td><td>-0.106470526 </td><td>-0.16558988  </td><td>Untreated    </td></tr>\n",
       "\t<tr><th scope=row>B09</th><td>0.1933006    </td><td> 0.0100639843</td><td> 0.16839998  </td><td>0.08350335   </td><td> 0.050037526 </td><td> 0.14307024  </td><td>0.2745897    </td><td> 0.1688296   </td><td>0.17643015   </td><td>-0.05040785  </td><td>0.21282044   </td><td>-0.15095151  </td><td>0.25534965   </td><td>0.5082110    </td><td>-0.18604703  </td><td>-0.16329057  </td><td>-0.195857597 </td><td>-0.18388259  </td><td>Treated      </td></tr>\n",
       "\t<tr><th scope=row>B10</th><td>0.2696923    </td><td> 0.1626807887</td><td> 0.33781042  </td><td>0.36189287   </td><td> 0.315413070 </td><td> 0.23546584  </td><td>0.4502848    </td><td> 0.2421547   </td><td>0.43870926   </td><td> 0.36489011  </td><td>0.38368471   </td><td>-0.06494259  </td><td>0.41151377   </td><td>0.6145221    </td><td>-0.06454531  </td><td> 0.05888267  </td><td> 0.002355267 </td><td>-0.05396421  </td><td>Untreated    </td></tr>\n",
       "\t<tr><th scope=row>B11</th><td>0.3080569    </td><td> 0.0433975608</td><td> 0.24843782  </td><td>0.27937426   </td><td> 0.154183957 </td><td> 0.26661771  </td><td>0.2910163    </td><td> 0.2152640   </td><td>0.21200374   </td><td> 0.10240685  </td><td>0.26178467   </td><td>-0.03505903  </td><td>0.25641958   </td><td>0.4577898    </td><td>-0.08345257  </td><td>-0.06288239  </td><td>-0.079102146 </td><td>-0.09249925  </td><td>Treated      </td></tr>\n",
       "\t<tr><th scope=row>B12</th><td>0.1218557    </td><td>-0.0101676989</td><td>-0.04453268  </td><td>0.10808702   </td><td>-0.314087264 </td><td> 0.05244197  </td><td>0.1840254    </td><td>-0.0043899   </td><td>0.09819619   </td><td>-0.31202210  </td><td>0.06983559   </td><td>-0.23581790  </td><td>0.04428593   </td><td>0.3212982    </td><td>-0.31160618  </td><td>-0.24535552  </td><td>-0.305152598 </td><td>-0.27984613  </td><td>Untreated    </td></tr>\n",
       "\t<tr><th scope=row>C01</th><td>0.2401842    </td><td> 0.0009513548</td><td> 0.15064419  </td><td>0.23364429   </td><td>-0.008568283 </td><td> 0.22263256  </td><td>0.2327631    </td><td> 0.1524298   </td><td>0.21435683   </td><td>-0.08310467  </td><td>0.19027735   </td><td>-0.11658550  </td><td>0.24027765   </td><td>0.3913319    </td><td>-0.22732101  </td><td>-0.21474312  </td><td>-0.188621872 </td><td>-0.23188398  </td><td>Treated      </td></tr>\n",
       "</tbody>\n",
       "</table>\n"
      ],
      "text/latex": [
       "\\begin{tabular}{r|lllllllllllllllllll}\n",
       "  & B\\_cells & Cytotoxic\\_cells & Dendritic\\_cells & Endothelial & Eosinophils & Fibroblasts & Macrophages & Macrophages\\_M1 & Macrophages\\_M2 & Mast\\_cells & Monocytes & NK\\_cells & Neutrophils & Plasma\\_cells & T\\_cells\\_CD4 & T\\_cells\\_CD8 & T\\_cells\\_gamma\\_delta & T\\_regulatory\\_cells & NACT\\\\\n",
       "\\hline\n",
       "\tB08 & 0.2498001     &  0.1454555298 &  0.22403339   & 0.20216359    & -0.152162396  & -0.03651893   & 0.3484167     &  0.2567119    & 0.20275182    & -0.01906826   & 0.23239805    & -0.06910932   & 0.18625729    & 0.4655307     & -0.16401822   & -0.10329955   & -0.106470526  & -0.16558988   & Untreated    \\\\\n",
       "\tB09 & 0.1933006     &  0.0100639843 &  0.16839998   & 0.08350335    &  0.050037526  &  0.14307024   & 0.2745897     &  0.1688296    & 0.17643015    & -0.05040785   & 0.21282044    & -0.15095151   & 0.25534965    & 0.5082110     & -0.18604703   & -0.16329057   & -0.195857597  & -0.18388259   & Treated      \\\\\n",
       "\tB10 & 0.2696923     &  0.1626807887 &  0.33781042   & 0.36189287    &  0.315413070  &  0.23546584   & 0.4502848     &  0.2421547    & 0.43870926    &  0.36489011   & 0.38368471    & -0.06494259   & 0.41151377    & 0.6145221     & -0.06454531   &  0.05888267   &  0.002355267  & -0.05396421   & Untreated    \\\\\n",
       "\tB11 & 0.3080569     &  0.0433975608 &  0.24843782   & 0.27937426    &  0.154183957  &  0.26661771   & 0.2910163     &  0.2152640    & 0.21200374    &  0.10240685   & 0.26178467    & -0.03505903   & 0.25641958    & 0.4577898     & -0.08345257   & -0.06288239   & -0.079102146  & -0.09249925   & Treated      \\\\\n",
       "\tB12 & 0.1218557     & -0.0101676989 & -0.04453268   & 0.10808702    & -0.314087264  &  0.05244197   & 0.1840254     & -0.0043899    & 0.09819619    & -0.31202210   & 0.06983559    & -0.23581790   & 0.04428593    & 0.3212982     & -0.31160618   & -0.24535552   & -0.305152598  & -0.27984613   & Untreated    \\\\\n",
       "\tC01 & 0.2401842     &  0.0009513548 &  0.15064419   & 0.23364429    & -0.008568283  &  0.22263256   & 0.2327631     &  0.1524298    & 0.21435683    & -0.08310467   & 0.19027735    & -0.11658550   & 0.24027765    & 0.3913319     & -0.22732101   & -0.21474312   & -0.188621872  & -0.23188398   & Treated      \\\\\n",
       "\\end{tabular}\n"
      ],
      "text/markdown": [
       "\n",
       "| <!--/--> | B_cells | Cytotoxic_cells | Dendritic_cells | Endothelial | Eosinophils | Fibroblasts | Macrophages | Macrophages_M1 | Macrophages_M2 | Mast_cells | Monocytes | NK_cells | Neutrophils | Plasma_cells | T_cells_CD4 | T_cells_CD8 | T_cells_gamma_delta | T_regulatory_cells | NACT | \n",
       "|---|---|---|---|---|---|\n",
       "| B08 | 0.2498001     |  0.1454555298 |  0.22403339   | 0.20216359    | -0.152162396  | -0.03651893   | 0.3484167     |  0.2567119    | 0.20275182    | -0.01906826   | 0.23239805    | -0.06910932   | 0.18625729    | 0.4655307     | -0.16401822   | -0.10329955   | -0.106470526  | -0.16558988   | Untreated     | \n",
       "| B09 | 0.1933006     |  0.0100639843 |  0.16839998   | 0.08350335    |  0.050037526  |  0.14307024   | 0.2745897     |  0.1688296    | 0.17643015    | -0.05040785   | 0.21282044    | -0.15095151   | 0.25534965    | 0.5082110     | -0.18604703   | -0.16329057   | -0.195857597  | -0.18388259   | Treated       | \n",
       "| B10 | 0.2696923     |  0.1626807887 |  0.33781042   | 0.36189287    |  0.315413070  |  0.23546584   | 0.4502848     |  0.2421547    | 0.43870926    |  0.36489011   | 0.38368471    | -0.06494259   | 0.41151377    | 0.6145221     | -0.06454531   |  0.05888267   |  0.002355267  | -0.05396421   | Untreated     | \n",
       "| B11 | 0.3080569     |  0.0433975608 |  0.24843782   | 0.27937426    |  0.154183957  |  0.26661771   | 0.2910163     |  0.2152640    | 0.21200374    |  0.10240685   | 0.26178467    | -0.03505903   | 0.25641958    | 0.4577898     | -0.08345257   | -0.06288239   | -0.079102146  | -0.09249925   | Treated       | \n",
       "| B12 | 0.1218557     | -0.0101676989 | -0.04453268   | 0.10808702    | -0.314087264  |  0.05244197   | 0.1840254     | -0.0043899    | 0.09819619    | -0.31202210   | 0.06983559    | -0.23581790   | 0.04428593    | 0.3212982     | -0.31160618   | -0.24535552   | -0.305152598  | -0.27984613   | Untreated     | \n",
       "| C01 | 0.2401842     |  0.0009513548 |  0.15064419   | 0.23364429    | -0.008568283  |  0.22263256   | 0.2327631     |  0.1524298    | 0.21435683    | -0.08310467   | 0.19027735    | -0.11658550   | 0.24027765    | 0.3913319     | -0.22732101   | -0.21474312   | -0.188621872  | -0.23188398   | Treated       | \n",
       "\n",
       "\n"
      ],
      "text/plain": [
       "    B_cells   Cytotoxic_cells Dendritic_cells Endothelial Eosinophils \n",
       "B08 0.2498001  0.1454555298    0.22403339     0.20216359  -0.152162396\n",
       "B09 0.1933006  0.0100639843    0.16839998     0.08350335   0.050037526\n",
       "B10 0.2696923  0.1626807887    0.33781042     0.36189287   0.315413070\n",
       "B11 0.3080569  0.0433975608    0.24843782     0.27937426   0.154183957\n",
       "B12 0.1218557 -0.0101676989   -0.04453268     0.10808702  -0.314087264\n",
       "C01 0.2401842  0.0009513548    0.15064419     0.23364429  -0.008568283\n",
       "    Fibroblasts Macrophages Macrophages_M1 Macrophages_M2 Mast_cells \n",
       "B08 -0.03651893 0.3484167    0.2567119     0.20275182     -0.01906826\n",
       "B09  0.14307024 0.2745897    0.1688296     0.17643015     -0.05040785\n",
       "B10  0.23546584 0.4502848    0.2421547     0.43870926      0.36489011\n",
       "B11  0.26661771 0.2910163    0.2152640     0.21200374      0.10240685\n",
       "B12  0.05244197 0.1840254   -0.0043899     0.09819619     -0.31202210\n",
       "C01  0.22263256 0.2327631    0.1524298     0.21435683     -0.08310467\n",
       "    Monocytes  NK_cells    Neutrophils Plasma_cells T_cells_CD4 T_cells_CD8\n",
       "B08 0.23239805 -0.06910932 0.18625729  0.4655307    -0.16401822 -0.10329955\n",
       "B09 0.21282044 -0.15095151 0.25534965  0.5082110    -0.18604703 -0.16329057\n",
       "B10 0.38368471 -0.06494259 0.41151377  0.6145221    -0.06454531  0.05888267\n",
       "B11 0.26178467 -0.03505903 0.25641958  0.4577898    -0.08345257 -0.06288239\n",
       "B12 0.06983559 -0.23581790 0.04428593  0.3212982    -0.31160618 -0.24535552\n",
       "C01 0.19027735 -0.11658550 0.24027765  0.3913319    -0.22732101 -0.21474312\n",
       "    T_cells_gamma_delta T_regulatory_cells NACT     \n",
       "B08 -0.106470526        -0.16558988        Untreated\n",
       "B09 -0.195857597        -0.18388259        Treated  \n",
       "B10  0.002355267        -0.05396421        Untreated\n",
       "B11 -0.079102146        -0.09249925        Treated  \n",
       "B12 -0.305152598        -0.27984613        Untreated\n",
       "C01 -0.188621872        -0.23188398        Treated  "
      ]
     },
     "metadata": {},
     "output_type": "display_data"
    }
   ],
   "source": [
    "head(unmatched)"
   ]
  },
  {
   "cell_type": "code",
   "execution_count": 21,
   "metadata": {},
   "outputs": [
    {
     "name": "stdout",
     "output_type": "stream",
     "text": [
      "  |======================================================================| 100%"
     ]
    }
   ],
   "source": [
    "cd8_unmatched_fit = hotelling.test(T_cells_CD8*Cytotoxic_cells~NACT, data = unmatched, perm = TRUE)"
   ]
  },
  {
   "cell_type": "code",
   "execution_count": 22,
   "metadata": {},
   "outputs": [
    {
     "data": {
      "text/plain": [
       "Test stat:  0.46294 \n",
       "Numerator df:  2 \n",
       "Denominator df:  35 \n",
       "Permutation P-value:  0.6383 \n",
       "Number of permutations : 10000 "
      ]
     },
     "metadata": {},
     "output_type": "display_data"
    }
   ],
   "source": [
    "cd8_unmatched_fit"
   ]
  },
  {
   "cell_type": "code",
   "execution_count": 23,
   "metadata": {},
   "outputs": [
    {
     "data": {
      "text/html": [
       "<strong>pdf:</strong> 2"
      ],
      "text/latex": [
       "\\textbf{pdf:} 2"
      ],
      "text/markdown": [
       "**pdf:** 2"
      ],
      "text/plain": [
       "pdf \n",
       "  2 "
      ]
     },
     "metadata": {},
     "output_type": "display_data"
    }
   ],
   "source": [
    "pdf('Figures/main/6/panels/6b_cd8_cytotoxic_unmatched.pdf')\n",
    "\n",
    "plot(cd8_unmatched_fit,\n",
    "     freq=TRUE,\n",
    "     breaks=30,\n",
    "     col=\"#FFDD15\",\n",
    "     xlim=c(0,25)\n",
    "    )\n",
    "\n",
    "dev.off()"
   ]
  },
  {
   "cell_type": "code",
   "execution_count": 25,
   "metadata": {},
   "outputs": [
    {
     "name": "stdout",
     "output_type": "stream",
     "text": [
      "  |======================================================================| 100%"
     ]
    }
   ],
   "source": [
    "nk_unmatched_fit = hotelling.test(NK_cells*Cytotoxic_cells~NACT, data = unmatched, perm = TRUE)"
   ]
  },
  {
   "cell_type": "code",
   "execution_count": 26,
   "metadata": {},
   "outputs": [
    {
     "data": {
      "text/plain": [
       "Test stat:  0.34055 \n",
       "Numerator df:  2 \n",
       "Denominator df:  35 \n",
       "Permutation P-value:  0.7166 \n",
       "Number of permutations : 10000 "
      ]
     },
     "metadata": {},
     "output_type": "display_data"
    }
   ],
   "source": [
    "nk_unmatched_fit"
   ]
  },
  {
   "cell_type": "code",
   "execution_count": 27,
   "metadata": {},
   "outputs": [
    {
     "data": {
      "text/html": [
       "<strong>pdf:</strong> 2"
      ],
      "text/latex": [
       "\\textbf{pdf:} 2"
      ],
      "text/markdown": [
       "**pdf:** 2"
      ],
      "text/plain": [
       "pdf \n",
       "  2 "
      ]
     },
     "metadata": {},
     "output_type": "display_data"
    }
   ],
   "source": [
    "pdf('Figures/main/6/panels/6b_nk_cytotoxic_unmatched.pdf')\n",
    "\n",
    "plot(nk_unmatched_fit,\n",
    "     freq=TRUE,\n",
    "     breaks=30,\n",
    "     col=\"#70B09D\",\n",
    "     xlim=c(0,25)\n",
    "    )\n",
    "\n",
    "dev.off()"
   ]
  },
  {
   "cell_type": "markdown",
   "metadata": {},
   "source": [
    "# End script"
   ]
  }
 ],
 "metadata": {
  "kernelspec": {
   "display_name": "R",
   "language": "R",
   "name": "ir"
  },
  "language_info": {
   "codemirror_mode": "r",
   "file_extension": ".r",
   "mimetype": "text/x-r-source",
   "name": "R",
   "pygments_lexer": "r",
   "version": "3.5.0"
  }
 },
 "nbformat": 4,
 "nbformat_minor": 2
}

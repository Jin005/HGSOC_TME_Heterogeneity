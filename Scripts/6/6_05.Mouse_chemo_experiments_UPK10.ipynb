{
 "cells": [
  {
   "cell_type": "markdown",
   "metadata": {},
   "source": [
    "# Anlyse and plot immune populations in mouse UPK10 experiment"
   ]
  },
  {
   "cell_type": "markdown",
   "metadata": {},
   "source": [
    "Script related to figure 6c, s6f\n",
    "\n",
    "### Aim:\n",
    "- Analyse immune population in mouse experiments between control and cisplatin treated mice"
   ]
  },
  {
   "cell_type": "code",
   "execution_count": 1,
   "metadata": {},
   "outputs": [
    {
     "name": "stdout",
     "output_type": "stream",
     "text": [
      "Python 3.6.8 :: Anaconda custom (64-bit)\r\n"
     ]
    }
   ],
   "source": [
    "!python --version"
   ]
  },
  {
   "cell_type": "markdown",
   "metadata": {},
   "source": [
    "## Import packages"
   ]
  },
  {
   "cell_type": "code",
   "execution_count": 2,
   "metadata": {},
   "outputs": [],
   "source": [
    "import scipy.stats\n",
    "import pandas as pd\n",
    "import seaborn as sns\n",
    "import matplotlib.pyplot as plt\n",
    "from matplotlib.lines import Line2D\n",
    "from statsmodels.stats.multitest import multipletests"
   ]
  },
  {
   "cell_type": "code",
   "execution_count": 3,
   "metadata": {},
   "outputs": [],
   "source": [
    "home = '~/git_repos/HGSOC_TME_Heterogeneity/'"
   ]
  },
  {
   "cell_type": "code",
   "execution_count": 4,
   "metadata": {},
   "outputs": [
    {
     "data": {
      "text/plain": [
       "'1.4.1'"
      ]
     },
     "execution_count": 4,
     "metadata": {},
     "output_type": "execute_result"
    }
   ],
   "source": [
    "scipy.__version__"
   ]
  },
  {
   "cell_type": "markdown",
   "metadata": {},
   "source": [
    "## Get mouse tumour phenotype data"
   ]
  },
  {
   "cell_type": "code",
   "execution_count": 6,
   "metadata": {},
   "outputs": [
    {
     "data": {
      "text/html": [
       "<div>\n",
       "<style scoped>\n",
       "    .dataframe tbody tr th:only-of-type {\n",
       "        vertical-align: middle;\n",
       "    }\n",
       "\n",
       "    .dataframe tbody tr th {\n",
       "        vertical-align: top;\n",
       "    }\n",
       "\n",
       "    .dataframe thead th {\n",
       "        text-align: right;\n",
       "    }\n",
       "</style>\n",
       "<table border=\"1\" class=\"dataframe\">\n",
       "  <thead>\n",
       "    <tr style=\"text-align: right;\">\n",
       "      <th></th>\n",
       "      <th>Sample</th>\n",
       "      <th>NK % of CD45 live</th>\n",
       "      <th>NK % of live</th>\n",
       "      <th>% NK GrB+</th>\n",
       "      <th>CD4 % of CD45 live</th>\n",
       "      <th>CD4 % of live</th>\n",
       "      <th>%Treg of CD4</th>\n",
       "      <th>%Tcon of CD4</th>\n",
       "      <th>CD8 % of CD45 live</th>\n",
       "      <th>CD8 % of live</th>\n",
       "      <th>%CD8 GrB+</th>\n",
       "      <th>CD11b % of CD45 live</th>\n",
       "      <th>CD11b % of live</th>\n",
       "    </tr>\n",
       "  </thead>\n",
       "  <tbody>\n",
       "    <tr>\n",
       "      <th>0</th>\n",
       "      <td>1: Saline_Tube_001_011.fcs</td>\n",
       "      <td>0.672</td>\n",
       "      <td>0.309</td>\n",
       "      <td>2.28</td>\n",
       "      <td>2.400</td>\n",
       "      <td>1.100</td>\n",
       "      <td>41.3</td>\n",
       "      <td>55.3</td>\n",
       "      <td>2.94</td>\n",
       "      <td>1.350</td>\n",
       "      <td>6.00</td>\n",
       "      <td>86.8</td>\n",
       "      <td>40.00</td>\n",
       "    </tr>\n",
       "    <tr>\n",
       "      <th>1</th>\n",
       "      <td>2: Saline_Tube_002_012.fcs</td>\n",
       "      <td>0.828</td>\n",
       "      <td>0.444</td>\n",
       "      <td>2.80</td>\n",
       "      <td>3.850</td>\n",
       "      <td>2.060</td>\n",
       "      <td>50.9</td>\n",
       "      <td>45.3</td>\n",
       "      <td>5.97</td>\n",
       "      <td>3.200</td>\n",
       "      <td>14.90</td>\n",
       "      <td>84.7</td>\n",
       "      <td>45.40</td>\n",
       "    </tr>\n",
       "    <tr>\n",
       "      <th>2</th>\n",
       "      <td>3: Saline_Tube_003_013.fcs</td>\n",
       "      <td>0.548</td>\n",
       "      <td>0.229</td>\n",
       "      <td>1.59</td>\n",
       "      <td>1.820</td>\n",
       "      <td>0.762</td>\n",
       "      <td>33.3</td>\n",
       "      <td>62.6</td>\n",
       "      <td>3.52</td>\n",
       "      <td>1.470</td>\n",
       "      <td>7.44</td>\n",
       "      <td>88.0</td>\n",
       "      <td>36.80</td>\n",
       "    </tr>\n",
       "    <tr>\n",
       "      <th>3</th>\n",
       "      <td>4: Saline_Tube_004_014.fcs</td>\n",
       "      <td>1.130</td>\n",
       "      <td>0.665</td>\n",
       "      <td>2.89</td>\n",
       "      <td>4.410</td>\n",
       "      <td>2.600</td>\n",
       "      <td>49.9</td>\n",
       "      <td>46.3</td>\n",
       "      <td>8.77</td>\n",
       "      <td>5.160</td>\n",
       "      <td>7.50</td>\n",
       "      <td>76.3</td>\n",
       "      <td>44.90</td>\n",
       "    </tr>\n",
       "    <tr>\n",
       "      <th>4</th>\n",
       "      <td>5: Saline_Tube_005_015.fcs</td>\n",
       "      <td>0.540</td>\n",
       "      <td>0.333</td>\n",
       "      <td>3.11</td>\n",
       "      <td>0.816</td>\n",
       "      <td>0.503</td>\n",
       "      <td>49.8</td>\n",
       "      <td>47.0</td>\n",
       "      <td>2.61</td>\n",
       "      <td>1.610</td>\n",
       "      <td>13.10</td>\n",
       "      <td>92.7</td>\n",
       "      <td>57.10</td>\n",
       "    </tr>\n",
       "    <tr>\n",
       "      <th>5</th>\n",
       "      <td>6: Saline_Tube_006_016.fcs</td>\n",
       "      <td>0.466</td>\n",
       "      <td>0.216</td>\n",
       "      <td>3.33</td>\n",
       "      <td>1.880</td>\n",
       "      <td>0.872</td>\n",
       "      <td>35.7</td>\n",
       "      <td>61.6</td>\n",
       "      <td>5.39</td>\n",
       "      <td>2.500</td>\n",
       "      <td>7.76</td>\n",
       "      <td>83.6</td>\n",
       "      <td>38.80</td>\n",
       "    </tr>\n",
       "    <tr>\n",
       "      <th>6</th>\n",
       "      <td>7: Saline_Tube_007_017.fcs</td>\n",
       "      <td>1.240</td>\n",
       "      <td>0.624</td>\n",
       "      <td>2.02</td>\n",
       "      <td>3.270</td>\n",
       "      <td>1.640</td>\n",
       "      <td>47.8</td>\n",
       "      <td>48.5</td>\n",
       "      <td>6.12</td>\n",
       "      <td>3.070</td>\n",
       "      <td>5.39</td>\n",
       "      <td>82.9</td>\n",
       "      <td>41.60</td>\n",
       "    </tr>\n",
       "    <tr>\n",
       "      <th>7</th>\n",
       "      <td>8: Cisplatin_Tube_001_018.fcs</td>\n",
       "      <td>5.020</td>\n",
       "      <td>0.482</td>\n",
       "      <td>2.51</td>\n",
       "      <td>3.300</td>\n",
       "      <td>0.317</td>\n",
       "      <td>14.6</td>\n",
       "      <td>80.3</td>\n",
       "      <td>4.39</td>\n",
       "      <td>0.421</td>\n",
       "      <td>7.18</td>\n",
       "      <td>40.5</td>\n",
       "      <td>3.89</td>\n",
       "    </tr>\n",
       "    <tr>\n",
       "      <th>8</th>\n",
       "      <td>9: Cisplatin_Tube_002_019.fcs</td>\n",
       "      <td>2.580</td>\n",
       "      <td>1.610</td>\n",
       "      <td>2.09</td>\n",
       "      <td>8.600</td>\n",
       "      <td>5.370</td>\n",
       "      <td>64.0</td>\n",
       "      <td>33.5</td>\n",
       "      <td>10.00</td>\n",
       "      <td>6.250</td>\n",
       "      <td>12.90</td>\n",
       "      <td>72.4</td>\n",
       "      <td>45.30</td>\n",
       "    </tr>\n",
       "    <tr>\n",
       "      <th>9</th>\n",
       "      <td>10: Cisplatin_Tube_003_020.fcs</td>\n",
       "      <td>0.668</td>\n",
       "      <td>0.161</td>\n",
       "      <td>11.50</td>\n",
       "      <td>1.280</td>\n",
       "      <td>0.309</td>\n",
       "      <td>20.5</td>\n",
       "      <td>75.2</td>\n",
       "      <td>3.79</td>\n",
       "      <td>0.912</td>\n",
       "      <td>4.84</td>\n",
       "      <td>88.2</td>\n",
       "      <td>21.30</td>\n",
       "    </tr>\n",
       "    <tr>\n",
       "      <th>10</th>\n",
       "      <td>11: Cisplatin_Tube_004_021.fcs</td>\n",
       "      <td>3.020</td>\n",
       "      <td>1.430</td>\n",
       "      <td>3.74</td>\n",
       "      <td>4.140</td>\n",
       "      <td>1.950</td>\n",
       "      <td>42.3</td>\n",
       "      <td>54.7</td>\n",
       "      <td>7.06</td>\n",
       "      <td>3.330</td>\n",
       "      <td>19.00</td>\n",
       "      <td>76.3</td>\n",
       "      <td>36.00</td>\n",
       "    </tr>\n",
       "    <tr>\n",
       "      <th>11</th>\n",
       "      <td>12: Cisplatin_Tube_005_022.fcs</td>\n",
       "      <td>0.501</td>\n",
       "      <td>0.248</td>\n",
       "      <td>8.11</td>\n",
       "      <td>0.913</td>\n",
       "      <td>0.453</td>\n",
       "      <td>19.8</td>\n",
       "      <td>75.6</td>\n",
       "      <td>3.78</td>\n",
       "      <td>1.870</td>\n",
       "      <td>6.26</td>\n",
       "      <td>91.5</td>\n",
       "      <td>45.40</td>\n",
       "    </tr>\n",
       "    <tr>\n",
       "      <th>12</th>\n",
       "      <td>13: Cisplatin_Tube_006_023.fcs</td>\n",
       "      <td>1.790</td>\n",
       "      <td>0.664</td>\n",
       "      <td>8.69</td>\n",
       "      <td>5.160</td>\n",
       "      <td>1.920</td>\n",
       "      <td>47.7</td>\n",
       "      <td>49.1</td>\n",
       "      <td>11.40</td>\n",
       "      <td>4.230</td>\n",
       "      <td>13.80</td>\n",
       "      <td>70.1</td>\n",
       "      <td>26.10</td>\n",
       "    </tr>\n",
       "  </tbody>\n",
       "</table>\n",
       "</div>"
      ],
      "text/plain": [
       "                            Sample  NK % of CD45 live  NK % of live  \\\n",
       "0       1: Saline_Tube_001_011.fcs              0.672         0.309   \n",
       "1       2: Saline_Tube_002_012.fcs              0.828         0.444   \n",
       "2       3: Saline_Tube_003_013.fcs              0.548         0.229   \n",
       "3       4: Saline_Tube_004_014.fcs              1.130         0.665   \n",
       "4       5: Saline_Tube_005_015.fcs              0.540         0.333   \n",
       "5       6: Saline_Tube_006_016.fcs              0.466         0.216   \n",
       "6       7: Saline_Tube_007_017.fcs              1.240         0.624   \n",
       "7    8: Cisplatin_Tube_001_018.fcs              5.020         0.482   \n",
       "8    9: Cisplatin_Tube_002_019.fcs              2.580         1.610   \n",
       "9   10: Cisplatin_Tube_003_020.fcs              0.668         0.161   \n",
       "10  11: Cisplatin_Tube_004_021.fcs              3.020         1.430   \n",
       "11  12: Cisplatin_Tube_005_022.fcs              0.501         0.248   \n",
       "12  13: Cisplatin_Tube_006_023.fcs              1.790         0.664   \n",
       "\n",
       "    % NK GrB+  CD4 % of CD45 live  CD4 % of live  %Treg of CD4  %Tcon of CD4  \\\n",
       "0        2.28               2.400          1.100          41.3          55.3   \n",
       "1        2.80               3.850          2.060          50.9          45.3   \n",
       "2        1.59               1.820          0.762          33.3          62.6   \n",
       "3        2.89               4.410          2.600          49.9          46.3   \n",
       "4        3.11               0.816          0.503          49.8          47.0   \n",
       "5        3.33               1.880          0.872          35.7          61.6   \n",
       "6        2.02               3.270          1.640          47.8          48.5   \n",
       "7        2.51               3.300          0.317          14.6          80.3   \n",
       "8        2.09               8.600          5.370          64.0          33.5   \n",
       "9       11.50               1.280          0.309          20.5          75.2   \n",
       "10       3.74               4.140          1.950          42.3          54.7   \n",
       "11       8.11               0.913          0.453          19.8          75.6   \n",
       "12       8.69               5.160          1.920          47.7          49.1   \n",
       "\n",
       "    CD8 % of CD45 live  CD8 % of live  %CD8 GrB+  CD11b % of CD45 live  \\\n",
       "0                 2.94          1.350       6.00                  86.8   \n",
       "1                 5.97          3.200      14.90                  84.7   \n",
       "2                 3.52          1.470       7.44                  88.0   \n",
       "3                 8.77          5.160       7.50                  76.3   \n",
       "4                 2.61          1.610      13.10                  92.7   \n",
       "5                 5.39          2.500       7.76                  83.6   \n",
       "6                 6.12          3.070       5.39                  82.9   \n",
       "7                 4.39          0.421       7.18                  40.5   \n",
       "8                10.00          6.250      12.90                  72.4   \n",
       "9                 3.79          0.912       4.84                  88.2   \n",
       "10                7.06          3.330      19.00                  76.3   \n",
       "11                3.78          1.870       6.26                  91.5   \n",
       "12               11.40          4.230      13.80                  70.1   \n",
       "\n",
       "    CD11b % of live  \n",
       "0             40.00  \n",
       "1             45.40  \n",
       "2             36.80  \n",
       "3             44.90  \n",
       "4             57.10  \n",
       "5             38.80  \n",
       "6             41.60  \n",
       "7              3.89  \n",
       "8             45.30  \n",
       "9             21.30  \n",
       "10            36.00  \n",
       "11            45.40  \n",
       "12            26.10  "
      ]
     },
     "execution_count": 6,
     "metadata": {},
     "output_type": "execute_result"
    }
   ],
   "source": [
    "file_name = home + 'Data/6/UPK10_cisplatin_4-8-19.txt'\n",
    "\n",
    "mouse_tumour = pd.read_csv(\n",
    "    file_name,\n",
    "    sep='\\t',\n",
    "    header=0\n",
    ").dropna(axis=\"columns\", how=\"all\").dropna(axis=\"rows\", how=\"all\")\n",
    "\n",
    "mouse_tumour"
   ]
  },
  {
   "cell_type": "code",
   "execution_count": 7,
   "metadata": {},
   "outputs": [
    {
     "data": {
      "text/plain": [
       "0     PBS\n",
       "1     PBS\n",
       "2     PBS\n",
       "3     PBS\n",
       "4     PBS\n",
       "5     PBS\n",
       "6     PBS\n",
       "7     Cis\n",
       "8     Cis\n",
       "9     Cis\n",
       "10    Cis\n",
       "11    Cis\n",
       "12    Cis\n",
       "dtype: object"
      ]
     },
     "execution_count": 7,
     "metadata": {},
     "output_type": "execute_result"
    }
   ],
   "source": [
    "treatment = []\n",
    "for name in mouse_tumour[\"Sample\"]:\n",
    "    \n",
    "    if \"Saline\" in name:\n",
    "    \n",
    "        treatment.append(\"PBS\")\n",
    "    \n",
    "    elif \"Cisplatin\" in name:\n",
    "        \n",
    "        treatment.append(\"Cis\")\n",
    "        \n",
    "    else:\n",
    "        raise ValueError()\n",
    "\n",
    "pd.Series(treatment)"
   ]
  },
  {
   "cell_type": "code",
   "execution_count": 8,
   "metadata": {},
   "outputs": [
    {
     "data": {
      "text/plain": [
       "0     PBS\n",
       "1     PBS\n",
       "2     PBS\n",
       "3     PBS\n",
       "4     PBS\n",
       "5     PBS\n",
       "6     PBS\n",
       "7     Cis\n",
       "8     Cis\n",
       "9     Cis\n",
       "10    Cis\n",
       "11    Cis\n",
       "12    Cis\n",
       "Name: Treatment, dtype: object"
      ]
     },
     "execution_count": 8,
     "metadata": {},
     "output_type": "execute_result"
    }
   ],
   "source": [
    "mouse_tumour[\"Treatment\"] = pd.Series(treatment)\n",
    "\n",
    "mouse_tumour[\"Treatment\"]"
   ]
  },
  {
   "cell_type": "markdown",
   "metadata": {},
   "source": [
    "<p> Mann-Whitney cannot be used because use only when the number of observation in each sample is > 20 and you have 2 independent samples of ranks. Mann-Whitney U is significant if the u-obtained is LESS THAN or equal to the critical value of U. https://docs.scipy.org/doc/scipy/reference/generated/scipy.stats.mannwhitneyu.html</p>"
   ]
  },
  {
   "cell_type": "code",
   "execution_count": 9,
   "metadata": {},
   "outputs": [
    {
     "name": "stdout",
     "output_type": "stream",
     "text": [
      "NK % of CD45 live\n",
      "Normal\n",
      "equal_var=False\n",
      "0.08265263394691877\n",
      "\n",
      "NK % of live\n",
      "Normal\n",
      "equal_var=False\n",
      "0.21340497957869917\n",
      "\n",
      "% NK GrB+\n",
      "Normal\n",
      "equal_var=False\n",
      "0.07504693402444121\n",
      "\n",
      "CD4 % of CD45 live\n",
      "Normal\n",
      "equal_var=True\n",
      "0.30726099848636057\n",
      "\n",
      "CD4 % of live\n",
      "Not normal\n",
      "equal_var=True\n",
      "0.6619109691843945\n",
      "\n",
      "%Treg of CD4\n",
      "Normal\n",
      "equal_var=False\n",
      "0.312787816020862\n",
      "\n",
      "%Tcon of CD4\n",
      "Normal\n",
      "equal_var=False\n",
      "0.30430007376588697\n",
      "\n",
      "CD8 % of CD45 live\n",
      "Normal\n",
      "equal_var=True\n",
      "0.2952150688582632\n",
      "\n",
      "CD8 % of live\n",
      "Normal\n",
      "equal_var=True\n",
      "0.8348805390816679\n",
      "\n",
      "%CD8 GrB+\n",
      "Normal\n",
      "equal_var=True\n",
      "0.4950778751603322\n",
      "\n",
      "CD11b % of CD45 live\n",
      "Normal\n",
      "equal_var=False\n",
      "0.17606037198622554\n",
      "\n",
      "CD11b % of live\n",
      "Normal\n",
      "equal_var=True\n",
      "0.06008523105012416\n",
      "\n"
     ]
    }
   ],
   "source": [
    "for variable in mouse_tumour.columns.values:\n",
    "    \n",
    "    if variable not in set([\"Sample\", \"Treatment\"]):\n",
    "        \n",
    "        print(variable)\n",
    "        \n",
    "        n1 = scipy.stats.shapiro(mouse_tumour[mouse_tumour[\"Treatment\"]==\"PBS\"][variable])[1]\n",
    "        n2 = scipy.stats.shapiro(mouse_tumour[mouse_tumour[\"Treatment\"]==\"Cis\"][variable])[1]\n",
    "        \n",
    "        #n3 = scipy.stats.normaltest(mouse_tumour[mouse_tumour[\"Treatment\"]==\"PBS\"][variable])[1]\n",
    "        #n4 = scipy.stats.normaltest(mouse_tumour[mouse_tumour[\"Treatment\"]==\"Cis\"][variable])[1]\n",
    "        \n",
    "        if min(n1,n2) < 0.05:\n",
    "            \n",
    "            print(\"Not normal\")\n",
    "        \n",
    "            eq_var = scipy.stats.levene(\n",
    "                mouse_tumour[mouse_tumour[\"Treatment\"]==\"PBS\"][variable],\n",
    "                mouse_tumour[mouse_tumour[\"Treatment\"]==\"Cis\"][variable],\n",
    "            )[1]\n",
    "            \n",
    "        else:\n",
    "            \n",
    "            print(\"Normal\")\n",
    "            \n",
    "            eq_var = scipy.stats.bartlett(\n",
    "                mouse_tumour[mouse_tumour[\"Treatment\"]==\"PBS\"][variable],\n",
    "                mouse_tumour[mouse_tumour[\"Treatment\"]==\"Cis\"][variable],\n",
    "            )[1]\n",
    "         \n",
    "        if eq_var > 0.05:\n",
    "            \n",
    "            print(\"equal_var=True\")\n",
    "            \n",
    "            diff_pval = scipy.stats.ttest_ind(\n",
    "                a=mouse_tumour[mouse_tumour[\"Treatment\"]==\"PBS\"][variable],\n",
    "                b=mouse_tumour[mouse_tumour[\"Treatment\"]==\"Cis\"][variable],\n",
    "                equal_var=True\n",
    "            )[1]\n",
    "            \n",
    "            print(diff_pval)\n",
    "            print(\"\")\n",
    "            \n",
    "        else:\n",
    "            \n",
    "            print(\"equal_var=False\")\n",
    "            \n",
    "            diff_pval = scipy.stats.ttest_ind(\n",
    "                a=mouse_tumour[mouse_tumour[\"Treatment\"]==\"PBS\"][variable],\n",
    "                b=mouse_tumour[mouse_tumour[\"Treatment\"]==\"Cis\"][variable],\n",
    "                equal_var=False\n",
    "            )[1]\n",
    "            \n",
    "            print(diff_pval)\n",
    "            print(\"\")\n"
   ]
  },
  {
   "cell_type": "markdown",
   "metadata": {},
   "source": [
    "## Plot"
   ]
  },
  {
   "cell_type": "code",
   "execution_count": 10,
   "metadata": {},
   "outputs": [],
   "source": [
    "data = mouse_tumour"
   ]
  },
  {
   "cell_type": "code",
   "execution_count": 17,
   "metadata": {},
   "outputs": [],
   "source": [
    "VARS1 = [\"CD8 % of live\", # 0.8348805390816679\n",
    "        \"NK % of live\", # 0.16137003325264232\n",
    "        \"CD8 % of CD45 live\", # 0.2952150688582632\n",
    "        \"NK % of CD45 live\", # 0.08265263394691877 --close to Significant\n",
    "        \"%CD8 GrB+\", # 0.4950778751603322\n",
    "        \"% NK GrB+\"] # 0.07504693402444121 --close to Significant"
   ]
  },
  {
   "cell_type": "code",
   "execution_count": 18,
   "metadata": {},
   "outputs": [],
   "source": [
    "VARS2 = [\"CD4 % of live\", # 0.6619109691843945\n",
    "        \"CD11b % of live\", # 0.06008523105012416\n",
    "        \"CD4 % of CD45 live\", # 0.30726099848636057\n",
    "        \"CD11b % of CD45 live\", # 0.12482229982596929\n",
    "        \"%Tcon of CD4\", # 0.30430007376588697\n",
    "        \"%Treg of CD4\" # 0.312787816020862\n",
    "       ]"
   ]
  },
  {
   "cell_type": "code",
   "execution_count": 38,
   "metadata": {},
   "outputs": [],
   "source": [
    "def violintplots(var, data):\n",
    "    \n",
    "    variable = var\n",
    "    \n",
    "    fig, ax = plt.subplots()\n",
    "    fig.set_size_inches(3,3)\n",
    "\n",
    "    sns.violinplot(x=\"Treatment\",\n",
    "                   y=variable,\n",
    "                   data=data,\n",
    "                   inner=None,\n",
    "                   hue=\"Treatment\",\n",
    "                   split=True,\n",
    "                   scale=\"count\",\n",
    "                   scale_hue=False,\n",
    "                   zorder=0,\n",
    "                   width=0.7\n",
    "                   )\n",
    "\n",
    "    sns.stripplot(x='Treatment',\n",
    "                  y=variable,\n",
    "                  data=data,\n",
    "                  hue=\"Treatment\",\n",
    "                  jitter=0, zorder=2)\n",
    "\n",
    "    ax.get_legend().remove()\n",
    "\n",
    "    \"\"\"if \"% of live\" in variable:\n",
    "        plt.ylim([0,10])\n",
    "    elif \"CD45\" in variable:\n",
    "        plt.ylim([0,20])\n",
    "    elif \"of CD4\" in variable:\n",
    "        plt.ylim([0,100])    \n",
    "    elif \"GrB\" in variable:\n",
    "        plt.ylim([0,30])\"\"\"\n",
    "    \n",
    "    return fig"
   ]
  },
  {
   "cell_type": "markdown",
   "metadata": {},
   "source": [
    "### Figure 6c"
   ]
  },
  {
   "cell_type": "code",
   "execution_count": 39,
   "metadata": {},
   "outputs": [
    {
     "data": {
      "image/png": "[encoded data removed]",
      "text/plain": [
       "<Figure size 216x216 with 1 Axes>"
      ]
     },
     "metadata": {},
     "output_type": "display_data"
    },
    {
     "data": {
      "image/png": "[encoded data removed]",
      "text/plain": [
       "<Figure size 216x216 with 1 Axes>"
      ]
     },
     "metadata": {},
     "output_type": "display_data"
    },
    {
     "data": {
      "image/png": "[encoded data removed]",
      "text/plain": [
       "<Figure size 216x216 with 1 Axes>"
      ]
     },
     "metadata": {},
     "output_type": "display_data"
    },
    {
     "data": {
      "image/png": "[encoded data removed]",
      "text/plain": [
       "<Figure size 216x216 with 1 Axes>"
      ]
     },
     "metadata": {},
     "output_type": "display_data"
    },
    {
     "data": {
      "image/png": "[encoded data removed]",
      "text/plain": [
       "<Figure size 216x216 with 1 Axes>"
      ]
     },
     "metadata": {},
     "output_type": "display_data"
    },
    {
     "data": {
      "image/png": "[encoded data removed]",
      "text/plain": [
       "<Figure size 216x216 with 1 Axes>"
      ]
     },
     "metadata": {},
     "output_type": "display_data"
    }
   ],
   "source": [
    "for var in VARS1:\n",
    "    \n",
    "    fig = violintplots(var, data)\n",
    "    \n",
    "    var_cell = var.replace(\" \", \"\")\n",
    "    \n",
    "    file_name = \"../../Figures/main/6/panels/6c_NACT_mouse_tumor_%s_comparison_UPK10.pdf\" % var_cell\n",
    "    \n",
    "    fig.savefig(file_name)"
   ]
  },
  {
   "cell_type": "markdown",
   "metadata": {},
   "source": [
    "### Figure s6f"
   ]
  },
  {
   "cell_type": "code",
   "execution_count": 40,
   "metadata": {},
   "outputs": [
    {
     "data": {
      "image/png": "[encoded data removed]",
      "text/plain": [
       "<Figure size 216x216 with 1 Axes>"
      ]
     },
     "metadata": {},
     "output_type": "display_data"
    },
    {
     "data": {
      "image/png": "[encoded data removed]",
      "text/plain": [
       "<Figure size 216x216 with 1 Axes>"
      ]
     },
     "metadata": {},
     "output_type": "display_data"
    },
    {
     "data": {
      "image/png": "[encoded data removed]",
      "text/plain": [
       "<Figure size 216x216 with 1 Axes>"
      ]
     },
     "metadata": {},
     "output_type": "display_data"
    },
    {
     "data": {
      "image/png": "[encoded data removed]",
      "text/plain": [
       "<Figure size 216x216 with 1 Axes>"
      ]
     },
     "metadata": {},
     "output_type": "display_data"
    },
    {
     "data": {
      "image/png": "[encoded data removed]",
      "text/plain": [
       "<Figure size 216x216 with 1 Axes>"
      ]
     },
     "metadata": {},
     "output_type": "display_data"
    },
    {
     "data": {
      "image/png": "[encoded data removed]",
      "text/plain": [
       "<Figure size 216x216 with 1 Axes>"
      ]
     },
     "metadata": {},
     "output_type": "display_data"
    }
   ],
   "source": [
    "for var in VARS2:\n",
    "    \n",
    "    fig = violintplots(var, data)\n",
    "    \n",
    "    var_cell = var.replace(\" \", \"\")\n",
    "    \n",
    "    file_name = \"../../Figures/main/6/panels/s6f_NACT_mouse_tumor_%s_comparison_UPK10.pdf\" % var_cell\n",
    "    \n",
    "    fig.savefig(file_name)"
   ]
  },
  {
   "cell_type": "markdown",
   "metadata": {},
   "source": [
    "# End script"
   ]
  }
 ],
 "metadata": {
  "kernelspec": {
   "display_name": "Python 3",
   "language": "python",
   "name": "python3"
  },
  "language_info": {
   "codemirror_mode": {
    "name": "ipython",
    "version": 3
   },
   "file_extension": ".py",
   "mimetype": "text/x-python",
   "name": "python",
   "nbconvert_exporter": "python",
   "pygments_lexer": "ipython3",
   "version": "3.6.8"
  }
 },
 "nbformat": 4,
 "nbformat_minor": 2
}

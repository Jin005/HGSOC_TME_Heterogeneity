{
 "cells": [
  {
   "cell_type": "markdown",
   "metadata": {},
   "source": [
    "# Compare Tcellularity and immune NACT NES through paired analysis"
   ]
  },
  {
   "cell_type": "markdown",
   "metadata": {},
   "source": [
    "Script related to figure s7a\n",
    "\n",
    "### Aim:\n",
    "- Compare gene sets NES (matched and unmatched) using paired analysis"
   ]
  },
  {
   "cell_type": "code",
   "execution_count": 1,
   "metadata": {},
   "outputs": [
    {
     "name": "stdout",
     "output_type": "stream",
     "text": [
      "Python 3.6.8 :: Anaconda custom (64-bit)\r\n"
     ]
    }
   ],
   "source": [
    "!python --version"
   ]
  },
  {
   "cell_type": "markdown",
   "metadata": {},
   "source": [
    "## Import packages"
   ]
  },
  {
   "cell_type": "code",
   "execution_count": 47,
   "metadata": {},
   "outputs": [],
   "source": [
    "import numpy as np\n",
    "import pandas as pd\n",
    "import seaborn as sns\n",
    "import matplotlib.pyplot as plt\n",
    "\n",
    "from scipy.stats import shapiro, kstest, ttest_rel, wilcoxon, mannwhitneyu, ttest_ind, bartlett, levene"
   ]
  },
  {
   "cell_type": "code",
   "execution_count": 2,
   "metadata": {},
   "outputs": [],
   "source": [
    "home = '~/git_repos/HGSOC_TME_Heterogeneity/'"
   ]
  },
  {
   "cell_type": "markdown",
   "metadata": {},
   "source": [
    "## Get sample labels"
   ]
  },
  {
   "cell_type": "markdown",
   "metadata": {},
   "source": [
    "### Load file"
   ]
  },
  {
   "cell_type": "code",
   "execution_count": 4,
   "metadata": {},
   "outputs": [
    {
     "data": {
      "text/html": [
       "<div>\n",
       "<style scoped>\n",
       "    .dataframe tbody tr th:only-of-type {\n",
       "        vertical-align: middle;\n",
       "    }\n",
       "\n",
       "    .dataframe tbody tr th {\n",
       "        vertical-align: top;\n",
       "    }\n",
       "\n",
       "    .dataframe thead th {\n",
       "        text-align: right;\n",
       "    }\n",
       "</style>\n",
       "<table border=\"1\" class=\"dataframe\">\n",
       "  <thead>\n",
       "    <tr style=\"text-align: right;\">\n",
       "      <th></th>\n",
       "      <th>Name</th>\n",
       "      <th>Case_mRNA</th>\n",
       "      <th>NACT</th>\n",
       "      <th>Site</th>\n",
       "      <th>Bounds</th>\n",
       "    </tr>\n",
       "    <tr>\n",
       "      <th>Well</th>\n",
       "      <th></th>\n",
       "      <th></th>\n",
       "      <th></th>\n",
       "      <th></th>\n",
       "      <th></th>\n",
       "    </tr>\n",
       "  </thead>\n",
       "  <tbody>\n",
       "    <tr>\n",
       "      <th>A01</th>\n",
       "      <td>A01_3368A_Liver</td>\n",
       "      <td>3368</td>\n",
       "      <td>Untreated</td>\n",
       "      <td>other</td>\n",
       "      <td>in</td>\n",
       "    </tr>\n",
       "    <tr>\n",
       "      <th>A02</th>\n",
       "      <td>A02_3368B_Liver</td>\n",
       "      <td>3368</td>\n",
       "      <td>Treated</td>\n",
       "      <td>other</td>\n",
       "      <td>out</td>\n",
       "    </tr>\n",
       "    <tr>\n",
       "      <th>A03</th>\n",
       "      <td>A03_0371A_R_diaphragm</td>\n",
       "      <td>371</td>\n",
       "      <td>Untreated</td>\n",
       "      <td>other</td>\n",
       "      <td>out</td>\n",
       "    </tr>\n",
       "    <tr>\n",
       "      <th>A04</th>\n",
       "      <td>A04_0371B_R_diaphragm</td>\n",
       "      <td>371</td>\n",
       "      <td>Treated</td>\n",
       "      <td>other</td>\n",
       "      <td>out</td>\n",
       "    </tr>\n",
       "    <tr>\n",
       "      <th>A05</th>\n",
       "      <td>A05_9717A_R_ovary</td>\n",
       "      <td>9717</td>\n",
       "      <td>Untreated</td>\n",
       "      <td>ovary</td>\n",
       "      <td>in</td>\n",
       "    </tr>\n",
       "  </tbody>\n",
       "</table>\n",
       "</div>"
      ],
      "text/plain": [
       "                       Name  Case_mRNA       NACT   Site Bounds\n",
       "Well                                                           \n",
       "A01         A01_3368A_Liver       3368  Untreated  other     in\n",
       "A02         A02_3368B_Liver       3368    Treated  other    out\n",
       "A03   A03_0371A_R_diaphragm        371  Untreated  other    out\n",
       "A04   A04_0371B_R_diaphragm        371    Treated  other    out\n",
       "A05       A05_9717A_R_ovary       9717  Untreated  ovary     in"
      ]
     },
     "execution_count": 4,
     "metadata": {},
     "output_type": "execute_result"
    }
   ],
   "source": [
    "file_keys = home + 'Data/5/NACT_SampleLabels.txt'\n",
    "\n",
    "sample_labels = pd.read_csv(file_keys,\n",
    "                            sep='\\t',\n",
    "                            index_col='Well')\n",
    "\n",
    "sample_labels.head()"
   ]
  },
  {
   "cell_type": "code",
   "execution_count": 5,
   "metadata": {},
   "outputs": [
    {
     "data": {
      "text/plain": [
       "28"
      ]
     },
     "execution_count": 5,
     "metadata": {},
     "output_type": "execute_result"
    }
   ],
   "source": [
    "len(set(sample_labels.Case_mRNA))"
   ]
  },
  {
   "cell_type": "code",
   "execution_count": 6,
   "metadata": {},
   "outputs": [
    {
     "data": {
      "text/html": [
       "<div>\n",
       "<style scoped>\n",
       "    .dataframe tbody tr th:only-of-type {\n",
       "        vertical-align: middle;\n",
       "    }\n",
       "\n",
       "    .dataframe tbody tr th {\n",
       "        vertical-align: top;\n",
       "    }\n",
       "\n",
       "    .dataframe thead th {\n",
       "        text-align: right;\n",
       "    }\n",
       "</style>\n",
       "<table border=\"1\" class=\"dataframe\">\n",
       "  <thead>\n",
       "    <tr style=\"text-align: right;\">\n",
       "      <th></th>\n",
       "      <th>Name</th>\n",
       "      <th>Case_mRNA</th>\n",
       "      <th>NACT</th>\n",
       "      <th>Site</th>\n",
       "      <th>Bounds</th>\n",
       "      <th>Matched</th>\n",
       "    </tr>\n",
       "    <tr>\n",
       "      <th>Well</th>\n",
       "      <th></th>\n",
       "      <th></th>\n",
       "      <th></th>\n",
       "      <th></th>\n",
       "      <th></th>\n",
       "      <th></th>\n",
       "    </tr>\n",
       "  </thead>\n",
       "  <tbody>\n",
       "    <tr>\n",
       "      <th>A01</th>\n",
       "      <td>A01_3368A_Liver</td>\n",
       "      <td>3368</td>\n",
       "      <td>Untreated</td>\n",
       "      <td>other</td>\n",
       "      <td>in</td>\n",
       "      <td>True</td>\n",
       "    </tr>\n",
       "    <tr>\n",
       "      <th>A02</th>\n",
       "      <td>A02_3368B_Liver</td>\n",
       "      <td>3368</td>\n",
       "      <td>Treated</td>\n",
       "      <td>other</td>\n",
       "      <td>out</td>\n",
       "      <td>True</td>\n",
       "    </tr>\n",
       "    <tr>\n",
       "      <th>A03</th>\n",
       "      <td>A03_0371A_R_diaphragm</td>\n",
       "      <td>371</td>\n",
       "      <td>Untreated</td>\n",
       "      <td>other</td>\n",
       "      <td>out</td>\n",
       "      <td>True</td>\n",
       "    </tr>\n",
       "    <tr>\n",
       "      <th>A04</th>\n",
       "      <td>A04_0371B_R_diaphragm</td>\n",
       "      <td>371</td>\n",
       "      <td>Treated</td>\n",
       "      <td>other</td>\n",
       "      <td>out</td>\n",
       "      <td>True</td>\n",
       "    </tr>\n",
       "    <tr>\n",
       "      <th>A05</th>\n",
       "      <td>A05_9717A_R_ovary</td>\n",
       "      <td>9717</td>\n",
       "      <td>Untreated</td>\n",
       "      <td>ovary</td>\n",
       "      <td>in</td>\n",
       "      <td>True</td>\n",
       "    </tr>\n",
       "  </tbody>\n",
       "</table>\n",
       "</div>"
      ],
      "text/plain": [
       "                       Name  Case_mRNA       NACT   Site Bounds  Matched\n",
       "Well                                                                    \n",
       "A01         A01_3368A_Liver       3368  Untreated  other     in     True\n",
       "A02         A02_3368B_Liver       3368    Treated  other    out     True\n",
       "A03   A03_0371A_R_diaphragm        371  Untreated  other    out     True\n",
       "A04   A04_0371B_R_diaphragm        371    Treated  other    out     True\n",
       "A05       A05_9717A_R_ovary       9717  Untreated  ovary     in     True"
      ]
     },
     "execution_count": 6,
     "metadata": {},
     "output_type": "execute_result"
    }
   ],
   "source": [
    "matched = [3368,371,9717,8674,2359,564,7765,6965,9347]\n",
    "\n",
    "sample_labels['Matched']=sample_labels['Case_mRNA'].isin(matched)\n",
    "\n",
    "sample_labels.head()"
   ]
  },
  {
   "cell_type": "markdown",
   "metadata": {},
   "source": [
    "## Load hallmark ssGSEA results"
   ]
  },
  {
   "cell_type": "code",
   "execution_count": 7,
   "metadata": {},
   "outputs": [
    {
     "data": {
      "text/html": [
       "<div>\n",
       "<style scoped>\n",
       "    .dataframe tbody tr th:only-of-type {\n",
       "        vertical-align: middle;\n",
       "    }\n",
       "\n",
       "    .dataframe tbody tr th {\n",
       "        vertical-align: top;\n",
       "    }\n",
       "\n",
       "    .dataframe thead th {\n",
       "        text-align: right;\n",
       "    }\n",
       "</style>\n",
       "<table border=\"1\" class=\"dataframe\">\n",
       "  <thead>\n",
       "    <tr style=\"text-align: right;\">\n",
       "      <th></th>\n",
       "      <th>A01</th>\n",
       "      <th>A02</th>\n",
       "      <th>A03</th>\n",
       "      <th>A04</th>\n",
       "      <th>A05</th>\n",
       "      <th>A06</th>\n",
       "      <th>A07</th>\n",
       "      <th>A08</th>\n",
       "      <th>A09</th>\n",
       "      <th>A10</th>\n",
       "      <th>...</th>\n",
       "      <th>D12</th>\n",
       "      <th>E01</th>\n",
       "      <th>E02</th>\n",
       "      <th>E03</th>\n",
       "      <th>E04</th>\n",
       "      <th>E05</th>\n",
       "      <th>E06</th>\n",
       "      <th>E07</th>\n",
       "      <th>E08</th>\n",
       "      <th>E09</th>\n",
       "    </tr>\n",
       "    <tr>\n",
       "      <th>Term</th>\n",
       "      <th></th>\n",
       "      <th></th>\n",
       "      <th></th>\n",
       "      <th></th>\n",
       "      <th></th>\n",
       "      <th></th>\n",
       "      <th></th>\n",
       "      <th></th>\n",
       "      <th></th>\n",
       "      <th></th>\n",
       "      <th></th>\n",
       "      <th></th>\n",
       "      <th></th>\n",
       "      <th></th>\n",
       "      <th></th>\n",
       "      <th></th>\n",
       "      <th></th>\n",
       "      <th></th>\n",
       "      <th></th>\n",
       "      <th></th>\n",
       "      <th></th>\n",
       "    </tr>\n",
       "  </thead>\n",
       "  <tbody>\n",
       "    <tr>\n",
       "      <th>HALLMARK_TNFA_SIGNALING_VIA_NFKB</th>\n",
       "      <td>0.092696</td>\n",
       "      <td>0.159109</td>\n",
       "      <td>0.221560</td>\n",
       "      <td>0.210024</td>\n",
       "      <td>0.099785</td>\n",
       "      <td>0.118758</td>\n",
       "      <td>0.100212</td>\n",
       "      <td>0.272152</td>\n",
       "      <td>0.108368</td>\n",
       "      <td>0.099014</td>\n",
       "      <td>...</td>\n",
       "      <td>0.166682</td>\n",
       "      <td>0.180770</td>\n",
       "      <td>0.182044</td>\n",
       "      <td>0.123420</td>\n",
       "      <td>0.167660</td>\n",
       "      <td>0.177934</td>\n",
       "      <td>0.175181</td>\n",
       "      <td>0.249246</td>\n",
       "      <td>0.163605</td>\n",
       "      <td>0.283639</td>\n",
       "    </tr>\n",
       "    <tr>\n",
       "      <th>HALLMARK_HYPOXIA</th>\n",
       "      <td>0.186010</td>\n",
       "      <td>0.196143</td>\n",
       "      <td>0.214819</td>\n",
       "      <td>0.237168</td>\n",
       "      <td>0.192770</td>\n",
       "      <td>0.204423</td>\n",
       "      <td>0.165283</td>\n",
       "      <td>0.278923</td>\n",
       "      <td>0.201645</td>\n",
       "      <td>0.195268</td>\n",
       "      <td>...</td>\n",
       "      <td>0.213112</td>\n",
       "      <td>0.231052</td>\n",
       "      <td>0.221524</td>\n",
       "      <td>0.238599</td>\n",
       "      <td>0.243462</td>\n",
       "      <td>0.232689</td>\n",
       "      <td>0.204692</td>\n",
       "      <td>0.258383</td>\n",
       "      <td>0.231907</td>\n",
       "      <td>0.286908</td>\n",
       "    </tr>\n",
       "    <tr>\n",
       "      <th>HALLMARK_CHOLESTEROL_HOMEOSTASIS</th>\n",
       "      <td>0.255208</td>\n",
       "      <td>0.282680</td>\n",
       "      <td>0.285083</td>\n",
       "      <td>0.260298</td>\n",
       "      <td>0.321267</td>\n",
       "      <td>0.309121</td>\n",
       "      <td>0.292943</td>\n",
       "      <td>0.313486</td>\n",
       "      <td>0.286084</td>\n",
       "      <td>0.277111</td>\n",
       "      <td>...</td>\n",
       "      <td>0.322881</td>\n",
       "      <td>0.262719</td>\n",
       "      <td>0.292338</td>\n",
       "      <td>0.381793</td>\n",
       "      <td>0.237000</td>\n",
       "      <td>0.292132</td>\n",
       "      <td>0.267533</td>\n",
       "      <td>0.301603</td>\n",
       "      <td>0.295406</td>\n",
       "      <td>0.393218</td>\n",
       "    </tr>\n",
       "    <tr>\n",
       "      <th>HALLMARK_MITOTIC_SPINDLE</th>\n",
       "      <td>0.305218</td>\n",
       "      <td>0.317705</td>\n",
       "      <td>0.293826</td>\n",
       "      <td>0.255306</td>\n",
       "      <td>0.278673</td>\n",
       "      <td>0.302507</td>\n",
       "      <td>0.298289</td>\n",
       "      <td>0.265211</td>\n",
       "      <td>0.338190</td>\n",
       "      <td>0.302091</td>\n",
       "      <td>...</td>\n",
       "      <td>0.292191</td>\n",
       "      <td>0.312170</td>\n",
       "      <td>0.317407</td>\n",
       "      <td>0.400398</td>\n",
       "      <td>0.324670</td>\n",
       "      <td>0.305270</td>\n",
       "      <td>0.306001</td>\n",
       "      <td>0.298000</td>\n",
       "      <td>0.302720</td>\n",
       "      <td>0.303047</td>\n",
       "    </tr>\n",
       "    <tr>\n",
       "      <th>HALLMARK_WNT_BETA_CATENIN_SIGNALING</th>\n",
       "      <td>0.218775</td>\n",
       "      <td>0.238017</td>\n",
       "      <td>0.212214</td>\n",
       "      <td>0.256485</td>\n",
       "      <td>0.252541</td>\n",
       "      <td>0.250670</td>\n",
       "      <td>0.242941</td>\n",
       "      <td>0.173667</td>\n",
       "      <td>0.262190</td>\n",
       "      <td>0.294071</td>\n",
       "      <td>...</td>\n",
       "      <td>0.245270</td>\n",
       "      <td>0.289621</td>\n",
       "      <td>0.233977</td>\n",
       "      <td>0.296323</td>\n",
       "      <td>0.177104</td>\n",
       "      <td>0.233127</td>\n",
       "      <td>0.223970</td>\n",
       "      <td>0.227052</td>\n",
       "      <td>0.261404</td>\n",
       "      <td>0.235832</td>\n",
       "    </tr>\n",
       "  </tbody>\n",
       "</table>\n",
       "<p>5 rows × 56 columns</p>\n",
       "</div>"
      ],
      "text/plain": [
       "                                          A01       A02       A03       A04  \\\n",
       "Term                                                                          \n",
       "HALLMARK_TNFA_SIGNALING_VIA_NFKB     0.092696  0.159109  0.221560  0.210024   \n",
       "HALLMARK_HYPOXIA                     0.186010  0.196143  0.214819  0.237168   \n",
       "HALLMARK_CHOLESTEROL_HOMEOSTASIS     0.255208  0.282680  0.285083  0.260298   \n",
       "HALLMARK_MITOTIC_SPINDLE             0.305218  0.317705  0.293826  0.255306   \n",
       "HALLMARK_WNT_BETA_CATENIN_SIGNALING  0.218775  0.238017  0.212214  0.256485   \n",
       "\n",
       "                                          A05       A06       A07       A08  \\\n",
       "Term                                                                          \n",
       "HALLMARK_TNFA_SIGNALING_VIA_NFKB     0.099785  0.118758  0.100212  0.272152   \n",
       "HALLMARK_HYPOXIA                     0.192770  0.204423  0.165283  0.278923   \n",
       "HALLMARK_CHOLESTEROL_HOMEOSTASIS     0.321267  0.309121  0.292943  0.313486   \n",
       "HALLMARK_MITOTIC_SPINDLE             0.278673  0.302507  0.298289  0.265211   \n",
       "HALLMARK_WNT_BETA_CATENIN_SIGNALING  0.252541  0.250670  0.242941  0.173667   \n",
       "\n",
       "                                          A09       A10  ...       D12  \\\n",
       "Term                                                     ...             \n",
       "HALLMARK_TNFA_SIGNALING_VIA_NFKB     0.108368  0.099014  ...  0.166682   \n",
       "HALLMARK_HYPOXIA                     0.201645  0.195268  ...  0.213112   \n",
       "HALLMARK_CHOLESTEROL_HOMEOSTASIS     0.286084  0.277111  ...  0.322881   \n",
       "HALLMARK_MITOTIC_SPINDLE             0.338190  0.302091  ...  0.292191   \n",
       "HALLMARK_WNT_BETA_CATENIN_SIGNALING  0.262190  0.294071  ...  0.245270   \n",
       "\n",
       "                                          E01       E02       E03       E04  \\\n",
       "Term                                                                          \n",
       "HALLMARK_TNFA_SIGNALING_VIA_NFKB     0.180770  0.182044  0.123420  0.167660   \n",
       "HALLMARK_HYPOXIA                     0.231052  0.221524  0.238599  0.243462   \n",
       "HALLMARK_CHOLESTEROL_HOMEOSTASIS     0.262719  0.292338  0.381793  0.237000   \n",
       "HALLMARK_MITOTIC_SPINDLE             0.312170  0.317407  0.400398  0.324670   \n",
       "HALLMARK_WNT_BETA_CATENIN_SIGNALING  0.289621  0.233977  0.296323  0.177104   \n",
       "\n",
       "                                          E05       E06       E07       E08  \\\n",
       "Term                                                                          \n",
       "HALLMARK_TNFA_SIGNALING_VIA_NFKB     0.177934  0.175181  0.249246  0.163605   \n",
       "HALLMARK_HYPOXIA                     0.232689  0.204692  0.258383  0.231907   \n",
       "HALLMARK_CHOLESTEROL_HOMEOSTASIS     0.292132  0.267533  0.301603  0.295406   \n",
       "HALLMARK_MITOTIC_SPINDLE             0.305270  0.306001  0.298000  0.302720   \n",
       "HALLMARK_WNT_BETA_CATENIN_SIGNALING  0.233127  0.223970  0.227052  0.261404   \n",
       "\n",
       "                                          E09  \n",
       "Term                                           \n",
       "HALLMARK_TNFA_SIGNALING_VIA_NFKB     0.283639  \n",
       "HALLMARK_HYPOXIA                     0.286908  \n",
       "HALLMARK_CHOLESTEROL_HOMEOSTASIS     0.393218  \n",
       "HALLMARK_MITOTIC_SPINDLE             0.303047  \n",
       "HALLMARK_WNT_BETA_CATENIN_SIGNALING  0.235832  \n",
       "\n",
       "[5 rows x 56 columns]"
      ]
     },
     "execution_count": 7,
     "metadata": {},
     "output_type": "execute_result"
    }
   ],
   "source": [
    "file_nes = home + 'Data/5/HallmarksStromaImmune_NACT_NES.txt'\n",
    "\n",
    "data_nes = pd.read_csv(file_nes, sep='\\t')\n",
    "\n",
    "data_nes.set_index('Term', inplace=True)\n",
    "\n",
    "data_nes.head()"
   ]
  },
  {
   "cell_type": "markdown",
   "metadata": {},
   "source": [
    "### Check empty cells"
   ]
  },
  {
   "cell_type": "code",
   "execution_count": 8,
   "metadata": {},
   "outputs": [
    {
     "data": {
      "text/plain": [
       "{0}"
      ]
     },
     "execution_count": 8,
     "metadata": {},
     "output_type": "execute_result"
    }
   ],
   "source": [
    "set(data_nes.isnull().sum())"
   ]
  },
  {
   "cell_type": "markdown",
   "metadata": {},
   "source": [
    "## Load mRNA tumour cellularity data"
   ]
  },
  {
   "cell_type": "code",
   "execution_count": 9,
   "metadata": {},
   "outputs": [
    {
     "data": {
      "text/html": [
       "<div>\n",
       "<style scoped>\n",
       "    .dataframe tbody tr th:only-of-type {\n",
       "        vertical-align: middle;\n",
       "    }\n",
       "\n",
       "    .dataframe tbody tr th {\n",
       "        vertical-align: top;\n",
       "    }\n",
       "\n",
       "    .dataframe thead th {\n",
       "        text-align: right;\n",
       "    }\n",
       "</style>\n",
       "<table border=\"1\" class=\"dataframe\">\n",
       "  <thead>\n",
       "    <tr style=\"text-align: right;\">\n",
       "      <th></th>\n",
       "      <th>A01</th>\n",
       "      <th>A02</th>\n",
       "      <th>A03</th>\n",
       "      <th>A04</th>\n",
       "      <th>A05</th>\n",
       "      <th>A06</th>\n",
       "      <th>A07</th>\n",
       "      <th>A08</th>\n",
       "      <th>A09</th>\n",
       "      <th>A10</th>\n",
       "      <th>...</th>\n",
       "      <th>D12</th>\n",
       "      <th>E01</th>\n",
       "      <th>E02</th>\n",
       "      <th>E03</th>\n",
       "      <th>E04</th>\n",
       "      <th>E05</th>\n",
       "      <th>E06</th>\n",
       "      <th>E07</th>\n",
       "      <th>E08</th>\n",
       "      <th>E09</th>\n",
       "    </tr>\n",
       "    <tr>\n",
       "      <th>NAME</th>\n",
       "      <th></th>\n",
       "      <th></th>\n",
       "      <th></th>\n",
       "      <th></th>\n",
       "      <th></th>\n",
       "      <th></th>\n",
       "      <th></th>\n",
       "      <th></th>\n",
       "      <th></th>\n",
       "      <th></th>\n",
       "      <th></th>\n",
       "      <th></th>\n",
       "      <th></th>\n",
       "      <th></th>\n",
       "      <th></th>\n",
       "      <th></th>\n",
       "      <th></th>\n",
       "      <th></th>\n",
       "      <th></th>\n",
       "      <th></th>\n",
       "      <th></th>\n",
       "    </tr>\n",
       "  </thead>\n",
       "  <tbody>\n",
       "    <tr>\n",
       "      <th>StromalScore</th>\n",
       "      <td>150.243978</td>\n",
       "      <td>100.962227</td>\n",
       "      <td>967.051900</td>\n",
       "      <td>808.453034</td>\n",
       "      <td>-65.569315</td>\n",
       "      <td>489.893858</td>\n",
       "      <td>490.720381</td>\n",
       "      <td>1061.377025</td>\n",
       "      <td>235.450362</td>\n",
       "      <td>418.150347</td>\n",
       "      <td>...</td>\n",
       "      <td>263.744096</td>\n",
       "      <td>464.939728</td>\n",
       "      <td>802.734452</td>\n",
       "      <td>153.081049</td>\n",
       "      <td>1103.804616</td>\n",
       "      <td>579.702569</td>\n",
       "      <td>788.616732</td>\n",
       "      <td>1237.456125</td>\n",
       "      <td>887.344608</td>\n",
       "      <td>501.153545</td>\n",
       "    </tr>\n",
       "    <tr>\n",
       "      <th>ImmuneScore</th>\n",
       "      <td>176.145317</td>\n",
       "      <td>526.978700</td>\n",
       "      <td>1297.193578</td>\n",
       "      <td>1203.727348</td>\n",
       "      <td>131.468582</td>\n",
       "      <td>650.323221</td>\n",
       "      <td>407.055460</td>\n",
       "      <td>1082.029608</td>\n",
       "      <td>88.028614</td>\n",
       "      <td>282.209677</td>\n",
       "      <td>...</td>\n",
       "      <td>481.526245</td>\n",
       "      <td>516.592649</td>\n",
       "      <td>582.005013</td>\n",
       "      <td>29.396052</td>\n",
       "      <td>908.321033</td>\n",
       "      <td>258.334588</td>\n",
       "      <td>849.462145</td>\n",
       "      <td>1496.053219</td>\n",
       "      <td>969.848566</td>\n",
       "      <td>621.394231</td>\n",
       "    </tr>\n",
       "    <tr>\n",
       "      <th>ESTIMATEScore</th>\n",
       "      <td>326.389295</td>\n",
       "      <td>627.940928</td>\n",
       "      <td>2264.245478</td>\n",
       "      <td>2012.180381</td>\n",
       "      <td>65.899267</td>\n",
       "      <td>1140.217080</td>\n",
       "      <td>897.775841</td>\n",
       "      <td>2143.406633</td>\n",
       "      <td>323.478976</td>\n",
       "      <td>700.360025</td>\n",
       "      <td>...</td>\n",
       "      <td>745.270341</td>\n",
       "      <td>981.532377</td>\n",
       "      <td>1384.739465</td>\n",
       "      <td>182.477100</td>\n",
       "      <td>2012.125649</td>\n",
       "      <td>838.037157</td>\n",
       "      <td>1638.078877</td>\n",
       "      <td>2733.509343</td>\n",
       "      <td>1857.193174</td>\n",
       "      <td>1122.547776</td>\n",
       "    </tr>\n",
       "    <tr>\n",
       "      <th>TumorPurity</th>\n",
       "      <td>0.794327</td>\n",
       "      <td>0.766668</td>\n",
       "      <td>0.591924</td>\n",
       "      <td>0.621334</td>\n",
       "      <td>0.816969</td>\n",
       "      <td>0.716267</td>\n",
       "      <td>0.740642</td>\n",
       "      <td>0.606127</td>\n",
       "      <td>0.794586</td>\n",
       "      <td>0.759799</td>\n",
       "      <td>...</td>\n",
       "      <td>0.755497</td>\n",
       "      <td>0.732326</td>\n",
       "      <td>0.690764</td>\n",
       "      <td>0.806982</td>\n",
       "      <td>0.621341</td>\n",
       "      <td>0.746506</td>\n",
       "      <td>0.663403</td>\n",
       "      <td>0.535046</td>\n",
       "      <td>0.638998</td>\n",
       "      <td>0.718075</td>\n",
       "    </tr>\n",
       "  </tbody>\n",
       "</table>\n",
       "<p>4 rows × 56 columns</p>\n",
       "</div>"
      ],
      "text/plain": [
       "                      A01         A02          A03          A04         A05  \\\n",
       "NAME                                                                          \n",
       "StromalScore   150.243978  100.962227   967.051900   808.453034  -65.569315   \n",
       "ImmuneScore    176.145317  526.978700  1297.193578  1203.727348  131.468582   \n",
       "ESTIMATEScore  326.389295  627.940928  2264.245478  2012.180381   65.899267   \n",
       "TumorPurity      0.794327    0.766668     0.591924     0.621334    0.816969   \n",
       "\n",
       "                       A06         A07          A08         A09         A10  \\\n",
       "NAME                                                                          \n",
       "StromalScore    489.893858  490.720381  1061.377025  235.450362  418.150347   \n",
       "ImmuneScore     650.323221  407.055460  1082.029608   88.028614  282.209677   \n",
       "ESTIMATEScore  1140.217080  897.775841  2143.406633  323.478976  700.360025   \n",
       "TumorPurity       0.716267    0.740642     0.606127    0.794586    0.759799   \n",
       "\n",
       "               ...         D12         E01          E02         E03  \\\n",
       "NAME           ...                                                    \n",
       "StromalScore   ...  263.744096  464.939728   802.734452  153.081049   \n",
       "ImmuneScore    ...  481.526245  516.592649   582.005013   29.396052   \n",
       "ESTIMATEScore  ...  745.270341  981.532377  1384.739465  182.477100   \n",
       "TumorPurity    ...    0.755497    0.732326     0.690764    0.806982   \n",
       "\n",
       "                       E04         E05          E06          E07          E08  \\\n",
       "NAME                                                                            \n",
       "StromalScore   1103.804616  579.702569   788.616732  1237.456125   887.344608   \n",
       "ImmuneScore     908.321033  258.334588   849.462145  1496.053219   969.848566   \n",
       "ESTIMATEScore  2012.125649  838.037157  1638.078877  2733.509343  1857.193174   \n",
       "TumorPurity       0.621341    0.746506     0.663403     0.535046     0.638998   \n",
       "\n",
       "                       E09  \n",
       "NAME                        \n",
       "StromalScore    501.153545  \n",
       "ImmuneScore     621.394231  \n",
       "ESTIMATEScore  1122.547776  \n",
       "TumorPurity       0.718075  \n",
       "\n",
       "[4 rows x 56 columns]"
      ]
     },
     "execution_count": 9,
     "metadata": {},
     "output_type": "execute_result"
    }
   ],
   "source": [
    "mRNA_tumcell_file = home + 'Data/5/NACT_log2exp_loess_norm_filtered_ESTIMATE.txt'\n",
    "\n",
    "mRNA_tumcell = pd.read_csv(mRNA_tumcell_file,\n",
    "                           skiprows=2,\n",
    "                           sep='\\t',\n",
    "                           index_col='NAME')\n",
    "\n",
    "del(mRNA_tumcell['Description'])\n",
    "\n",
    "mRNA_tumcell.head()"
   ]
  },
  {
   "cell_type": "markdown",
   "metadata": {},
   "source": [
    "### Add mRNA tumour cellularity to NES dataframe"
   ]
  },
  {
   "cell_type": "code",
   "execution_count": 10,
   "metadata": {},
   "outputs": [],
   "source": [
    "data_nes_t = data_nes.T"
   ]
  },
  {
   "cell_type": "code",
   "execution_count": 11,
   "metadata": {},
   "outputs": [],
   "source": [
    "data_nes_t['TumourCellularity_mRNA'] = mRNA_tumcell.loc['TumorPurity']"
   ]
  },
  {
   "cell_type": "code",
   "execution_count": 12,
   "metadata": {},
   "outputs": [],
   "source": [
    "data_nes = data_nes_t.T"
   ]
  },
  {
   "cell_type": "code",
   "execution_count": 13,
   "metadata": {},
   "outputs": [
    {
     "data": {
      "text/html": [
       "<div>\n",
       "<style scoped>\n",
       "    .dataframe tbody tr th:only-of-type {\n",
       "        vertical-align: middle;\n",
       "    }\n",
       "\n",
       "    .dataframe tbody tr th {\n",
       "        vertical-align: top;\n",
       "    }\n",
       "\n",
       "    .dataframe thead th {\n",
       "        text-align: right;\n",
       "    }\n",
       "</style>\n",
       "<table border=\"1\" class=\"dataframe\">\n",
       "  <thead>\n",
       "    <tr style=\"text-align: right;\">\n",
       "      <th></th>\n",
       "      <th>A01</th>\n",
       "      <th>A02</th>\n",
       "      <th>A03</th>\n",
       "      <th>A04</th>\n",
       "      <th>A05</th>\n",
       "      <th>A06</th>\n",
       "      <th>A07</th>\n",
       "      <th>A08</th>\n",
       "      <th>A09</th>\n",
       "      <th>A10</th>\n",
       "      <th>...</th>\n",
       "      <th>D12</th>\n",
       "      <th>E01</th>\n",
       "      <th>E02</th>\n",
       "      <th>E03</th>\n",
       "      <th>E04</th>\n",
       "      <th>E05</th>\n",
       "      <th>E06</th>\n",
       "      <th>E07</th>\n",
       "      <th>E08</th>\n",
       "      <th>E09</th>\n",
       "    </tr>\n",
       "    <tr>\n",
       "      <th>Term</th>\n",
       "      <th></th>\n",
       "      <th></th>\n",
       "      <th></th>\n",
       "      <th></th>\n",
       "      <th></th>\n",
       "      <th></th>\n",
       "      <th></th>\n",
       "      <th></th>\n",
       "      <th></th>\n",
       "      <th></th>\n",
       "      <th></th>\n",
       "      <th></th>\n",
       "      <th></th>\n",
       "      <th></th>\n",
       "      <th></th>\n",
       "      <th></th>\n",
       "      <th></th>\n",
       "      <th></th>\n",
       "      <th></th>\n",
       "      <th></th>\n",
       "      <th></th>\n",
       "    </tr>\n",
       "  </thead>\n",
       "  <tbody>\n",
       "    <tr>\n",
       "      <th>HALLMARK_KRAS_SIGNALING_DN</th>\n",
       "      <td>-0.111366</td>\n",
       "      <td>-0.116319</td>\n",
       "      <td>-0.122007</td>\n",
       "      <td>-0.096597</td>\n",
       "      <td>-0.106269</td>\n",
       "      <td>-0.118997</td>\n",
       "      <td>-0.102549</td>\n",
       "      <td>-0.109274</td>\n",
       "      <td>-0.136147</td>\n",
       "      <td>-0.115405</td>\n",
       "      <td>...</td>\n",
       "      <td>-0.139325</td>\n",
       "      <td>-0.162815</td>\n",
       "      <td>-0.121599</td>\n",
       "      <td>-0.190920</td>\n",
       "      <td>-0.141080</td>\n",
       "      <td>-0.111751</td>\n",
       "      <td>-0.141831</td>\n",
       "      <td>-0.126286</td>\n",
       "      <td>-0.127925</td>\n",
       "      <td>-0.167178</td>\n",
       "    </tr>\n",
       "    <tr>\n",
       "      <th>HALLMARK_PANCREAS_BETA_CELLS</th>\n",
       "      <td>-0.146457</td>\n",
       "      <td>-0.171530</td>\n",
       "      <td>-0.229520</td>\n",
       "      <td>-0.139607</td>\n",
       "      <td>-0.137008</td>\n",
       "      <td>-0.151976</td>\n",
       "      <td>-0.239809</td>\n",
       "      <td>-0.162335</td>\n",
       "      <td>-0.164499</td>\n",
       "      <td>-0.187457</td>\n",
       "      <td>...</td>\n",
       "      <td>-0.228200</td>\n",
       "      <td>-0.152731</td>\n",
       "      <td>-0.218332</td>\n",
       "      <td>-0.196034</td>\n",
       "      <td>-0.157134</td>\n",
       "      <td>-0.126800</td>\n",
       "      <td>-0.179381</td>\n",
       "      <td>-0.216867</td>\n",
       "      <td>-0.193094</td>\n",
       "      <td>-0.209325</td>\n",
       "    </tr>\n",
       "    <tr>\n",
       "      <th>StromalSignature</th>\n",
       "      <td>0.068301</td>\n",
       "      <td>0.070667</td>\n",
       "      <td>0.269651</td>\n",
       "      <td>0.224186</td>\n",
       "      <td>0.023423</td>\n",
       "      <td>0.157401</td>\n",
       "      <td>0.155407</td>\n",
       "      <td>0.292664</td>\n",
       "      <td>0.095977</td>\n",
       "      <td>0.135368</td>\n",
       "      <td>...</td>\n",
       "      <td>0.104112</td>\n",
       "      <td>0.155909</td>\n",
       "      <td>0.228005</td>\n",
       "      <td>0.088713</td>\n",
       "      <td>0.296492</td>\n",
       "      <td>0.180196</td>\n",
       "      <td>0.221126</td>\n",
       "      <td>0.332099</td>\n",
       "      <td>0.245865</td>\n",
       "      <td>0.172484</td>\n",
       "    </tr>\n",
       "    <tr>\n",
       "      <th>ImmuneSignature</th>\n",
       "      <td>0.074691</td>\n",
       "      <td>0.169467</td>\n",
       "      <td>0.345730</td>\n",
       "      <td>0.317359</td>\n",
       "      <td>0.069114</td>\n",
       "      <td>0.197182</td>\n",
       "      <td>0.135779</td>\n",
       "      <td>0.299572</td>\n",
       "      <td>0.063372</td>\n",
       "      <td>0.103880</td>\n",
       "      <td>...</td>\n",
       "      <td>0.153753</td>\n",
       "      <td>0.167914</td>\n",
       "      <td>0.175292</td>\n",
       "      <td>0.058984</td>\n",
       "      <td>0.256096</td>\n",
       "      <td>0.108475</td>\n",
       "      <td>0.235833</td>\n",
       "      <td>0.393539</td>\n",
       "      <td>0.265829</td>\n",
       "      <td>0.201392</td>\n",
       "    </tr>\n",
       "    <tr>\n",
       "      <th>TumourCellularity_mRNA</th>\n",
       "      <td>0.794327</td>\n",
       "      <td>0.766668</td>\n",
       "      <td>0.591924</td>\n",
       "      <td>0.621334</td>\n",
       "      <td>0.816969</td>\n",
       "      <td>0.716267</td>\n",
       "      <td>0.740642</td>\n",
       "      <td>0.606127</td>\n",
       "      <td>0.794586</td>\n",
       "      <td>0.759799</td>\n",
       "      <td>...</td>\n",
       "      <td>0.755497</td>\n",
       "      <td>0.732326</td>\n",
       "      <td>0.690764</td>\n",
       "      <td>0.806982</td>\n",
       "      <td>0.621341</td>\n",
       "      <td>0.746506</td>\n",
       "      <td>0.663403</td>\n",
       "      <td>0.535046</td>\n",
       "      <td>0.638998</td>\n",
       "      <td>0.718075</td>\n",
       "    </tr>\n",
       "  </tbody>\n",
       "</table>\n",
       "<p>5 rows × 56 columns</p>\n",
       "</div>"
      ],
      "text/plain": [
       "                                   A01       A02       A03       A04  \\\n",
       "Term                                                                   \n",
       "HALLMARK_KRAS_SIGNALING_DN   -0.111366 -0.116319 -0.122007 -0.096597   \n",
       "HALLMARK_PANCREAS_BETA_CELLS -0.146457 -0.171530 -0.229520 -0.139607   \n",
       "StromalSignature              0.068301  0.070667  0.269651  0.224186   \n",
       "ImmuneSignature               0.074691  0.169467  0.345730  0.317359   \n",
       "TumourCellularity_mRNA        0.794327  0.766668  0.591924  0.621334   \n",
       "\n",
       "                                   A05       A06       A07       A08  \\\n",
       "Term                                                                   \n",
       "HALLMARK_KRAS_SIGNALING_DN   -0.106269 -0.118997 -0.102549 -0.109274   \n",
       "HALLMARK_PANCREAS_BETA_CELLS -0.137008 -0.151976 -0.239809 -0.162335   \n",
       "StromalSignature              0.023423  0.157401  0.155407  0.292664   \n",
       "ImmuneSignature               0.069114  0.197182  0.135779  0.299572   \n",
       "TumourCellularity_mRNA        0.816969  0.716267  0.740642  0.606127   \n",
       "\n",
       "                                   A09       A10  ...       D12       E01  \\\n",
       "Term                                              ...                       \n",
       "HALLMARK_KRAS_SIGNALING_DN   -0.136147 -0.115405  ... -0.139325 -0.162815   \n",
       "HALLMARK_PANCREAS_BETA_CELLS -0.164499 -0.187457  ... -0.228200 -0.152731   \n",
       "StromalSignature              0.095977  0.135368  ...  0.104112  0.155909   \n",
       "ImmuneSignature               0.063372  0.103880  ...  0.153753  0.167914   \n",
       "TumourCellularity_mRNA        0.794586  0.759799  ...  0.755497  0.732326   \n",
       "\n",
       "                                   E02       E03       E04       E05  \\\n",
       "Term                                                                   \n",
       "HALLMARK_KRAS_SIGNALING_DN   -0.121599 -0.190920 -0.141080 -0.111751   \n",
       "HALLMARK_PANCREAS_BETA_CELLS -0.218332 -0.196034 -0.157134 -0.126800   \n",
       "StromalSignature              0.228005  0.088713  0.296492  0.180196   \n",
       "ImmuneSignature               0.175292  0.058984  0.256096  0.108475   \n",
       "TumourCellularity_mRNA        0.690764  0.806982  0.621341  0.746506   \n",
       "\n",
       "                                   E06       E07       E08       E09  \n",
       "Term                                                                  \n",
       "HALLMARK_KRAS_SIGNALING_DN   -0.141831 -0.126286 -0.127925 -0.167178  \n",
       "HALLMARK_PANCREAS_BETA_CELLS -0.179381 -0.216867 -0.193094 -0.209325  \n",
       "StromalSignature              0.221126  0.332099  0.245865  0.172484  \n",
       "ImmuneSignature               0.235833  0.393539  0.265829  0.201392  \n",
       "TumourCellularity_mRNA        0.663403  0.535046  0.638998  0.718075  \n",
       "\n",
       "[5 rows x 56 columns]"
      ]
     },
     "execution_count": 13,
     "metadata": {},
     "output_type": "execute_result"
    }
   ],
   "source": [
    "data_nes.tail()"
   ]
  },
  {
   "cell_type": "code",
   "execution_count": 15,
   "metadata": {},
   "outputs": [
    {
     "data": {
      "text/html": [
       "<div>\n",
       "<style scoped>\n",
       "    .dataframe tbody tr th:only-of-type {\n",
       "        vertical-align: middle;\n",
       "    }\n",
       "\n",
       "    .dataframe tbody tr th {\n",
       "        vertical-align: top;\n",
       "    }\n",
       "\n",
       "    .dataframe thead th {\n",
       "        text-align: right;\n",
       "    }\n",
       "</style>\n",
       "<table border=\"1\" class=\"dataframe\">\n",
       "  <thead>\n",
       "    <tr style=\"text-align: right;\">\n",
       "      <th>Term</th>\n",
       "      <th>HALLMARK_TNFA_SIGNALING_VIA_NFKB</th>\n",
       "      <th>HALLMARK_HYPOXIA</th>\n",
       "      <th>HALLMARK_CHOLESTEROL_HOMEOSTASIS</th>\n",
       "      <th>HALLMARK_MITOTIC_SPINDLE</th>\n",
       "      <th>HALLMARK_WNT_BETA_CATENIN_SIGNALING</th>\n",
       "      <th>HALLMARK_TGF_BETA_SIGNALING</th>\n",
       "      <th>HALLMARK_IL6_JAK_STAT3_SIGNALING</th>\n",
       "      <th>HALLMARK_DNA_REPAIR</th>\n",
       "      <th>HALLMARK_G2M_CHECKPOINT</th>\n",
       "      <th>HALLMARK_APOPTOSIS</th>\n",
       "      <th>...</th>\n",
       "      <th>HALLMARK_BILE_ACID_METABOLISM</th>\n",
       "      <th>HALLMARK_PEROXISOME</th>\n",
       "      <th>HALLMARK_ALLOGRAFT_REJECTION</th>\n",
       "      <th>HALLMARK_SPERMATOGENESIS</th>\n",
       "      <th>HALLMARK_KRAS_SIGNALING_UP</th>\n",
       "      <th>HALLMARK_KRAS_SIGNALING_DN</th>\n",
       "      <th>HALLMARK_PANCREAS_BETA_CELLS</th>\n",
       "      <th>StromalSignature</th>\n",
       "      <th>ImmuneSignature</th>\n",
       "      <th>TumourCellularity_mRNA</th>\n",
       "    </tr>\n",
       "  </thead>\n",
       "  <tbody>\n",
       "    <tr>\n",
       "      <th>A01</th>\n",
       "      <td>0.092696</td>\n",
       "      <td>0.186010</td>\n",
       "      <td>0.255208</td>\n",
       "      <td>0.305218</td>\n",
       "      <td>0.218775</td>\n",
       "      <td>0.319309</td>\n",
       "      <td>0.063204</td>\n",
       "      <td>0.283149</td>\n",
       "      <td>0.366102</td>\n",
       "      <td>0.293164</td>\n",
       "      <td>...</td>\n",
       "      <td>0.017703</td>\n",
       "      <td>0.157014</td>\n",
       "      <td>0.101102</td>\n",
       "      <td>0.059223</td>\n",
       "      <td>0.168870</td>\n",
       "      <td>-0.111366</td>\n",
       "      <td>-0.146457</td>\n",
       "      <td>0.068301</td>\n",
       "      <td>0.074691</td>\n",
       "      <td>0.794327</td>\n",
       "    </tr>\n",
       "    <tr>\n",
       "      <th>A02</th>\n",
       "      <td>0.159109</td>\n",
       "      <td>0.196143</td>\n",
       "      <td>0.282680</td>\n",
       "      <td>0.317705</td>\n",
       "      <td>0.238017</td>\n",
       "      <td>0.390819</td>\n",
       "      <td>0.120196</td>\n",
       "      <td>0.355469</td>\n",
       "      <td>0.367244</td>\n",
       "      <td>0.323681</td>\n",
       "      <td>...</td>\n",
       "      <td>0.013351</td>\n",
       "      <td>0.210357</td>\n",
       "      <td>0.187103</td>\n",
       "      <td>0.088553</td>\n",
       "      <td>0.199723</td>\n",
       "      <td>-0.116319</td>\n",
       "      <td>-0.171530</td>\n",
       "      <td>0.070667</td>\n",
       "      <td>0.169467</td>\n",
       "      <td>0.766668</td>\n",
       "    </tr>\n",
       "    <tr>\n",
       "      <th>A03</th>\n",
       "      <td>0.221560</td>\n",
       "      <td>0.214819</td>\n",
       "      <td>0.285083</td>\n",
       "      <td>0.293826</td>\n",
       "      <td>0.212214</td>\n",
       "      <td>0.323519</td>\n",
       "      <td>0.219716</td>\n",
       "      <td>0.279329</td>\n",
       "      <td>0.272018</td>\n",
       "      <td>0.368760</td>\n",
       "      <td>...</td>\n",
       "      <td>0.068881</td>\n",
       "      <td>0.159303</td>\n",
       "      <td>0.240944</td>\n",
       "      <td>-0.013733</td>\n",
       "      <td>0.262265</td>\n",
       "      <td>-0.122007</td>\n",
       "      <td>-0.229520</td>\n",
       "      <td>0.269651</td>\n",
       "      <td>0.345730</td>\n",
       "      <td>0.591924</td>\n",
       "    </tr>\n",
       "    <tr>\n",
       "      <th>A04</th>\n",
       "      <td>0.210024</td>\n",
       "      <td>0.237168</td>\n",
       "      <td>0.260298</td>\n",
       "      <td>0.255306</td>\n",
       "      <td>0.256485</td>\n",
       "      <td>0.275202</td>\n",
       "      <td>0.167111</td>\n",
       "      <td>0.246652</td>\n",
       "      <td>0.212474</td>\n",
       "      <td>0.323310</td>\n",
       "      <td>...</td>\n",
       "      <td>0.069575</td>\n",
       "      <td>0.211824</td>\n",
       "      <td>0.206219</td>\n",
       "      <td>0.075459</td>\n",
       "      <td>0.241376</td>\n",
       "      <td>-0.096597</td>\n",
       "      <td>-0.139607</td>\n",
       "      <td>0.224186</td>\n",
       "      <td>0.317359</td>\n",
       "      <td>0.621334</td>\n",
       "    </tr>\n",
       "    <tr>\n",
       "      <th>A05</th>\n",
       "      <td>0.099785</td>\n",
       "      <td>0.192770</td>\n",
       "      <td>0.321267</td>\n",
       "      <td>0.278673</td>\n",
       "      <td>0.252541</td>\n",
       "      <td>0.274844</td>\n",
       "      <td>0.080244</td>\n",
       "      <td>0.286553</td>\n",
       "      <td>0.344719</td>\n",
       "      <td>0.301616</td>\n",
       "      <td>...</td>\n",
       "      <td>0.046353</td>\n",
       "      <td>0.200961</td>\n",
       "      <td>0.113492</td>\n",
       "      <td>0.074904</td>\n",
       "      <td>0.125993</td>\n",
       "      <td>-0.106269</td>\n",
       "      <td>-0.137008</td>\n",
       "      <td>0.023423</td>\n",
       "      <td>0.069114</td>\n",
       "      <td>0.816969</td>\n",
       "    </tr>\n",
       "  </tbody>\n",
       "</table>\n",
       "<p>5 rows × 53 columns</p>\n",
       "</div>"
      ],
      "text/plain": [
       "Term  HALLMARK_TNFA_SIGNALING_VIA_NFKB  HALLMARK_HYPOXIA  \\\n",
       "A01                           0.092696          0.186010   \n",
       "A02                           0.159109          0.196143   \n",
       "A03                           0.221560          0.214819   \n",
       "A04                           0.210024          0.237168   \n",
       "A05                           0.099785          0.192770   \n",
       "\n",
       "Term  HALLMARK_CHOLESTEROL_HOMEOSTASIS  HALLMARK_MITOTIC_SPINDLE  \\\n",
       "A01                           0.255208                  0.305218   \n",
       "A02                           0.282680                  0.317705   \n",
       "A03                           0.285083                  0.293826   \n",
       "A04                           0.260298                  0.255306   \n",
       "A05                           0.321267                  0.278673   \n",
       "\n",
       "Term  HALLMARK_WNT_BETA_CATENIN_SIGNALING  HALLMARK_TGF_BETA_SIGNALING  \\\n",
       "A01                              0.218775                     0.319309   \n",
       "A02                              0.238017                     0.390819   \n",
       "A03                              0.212214                     0.323519   \n",
       "A04                              0.256485                     0.275202   \n",
       "A05                              0.252541                     0.274844   \n",
       "\n",
       "Term  HALLMARK_IL6_JAK_STAT3_SIGNALING  HALLMARK_DNA_REPAIR  \\\n",
       "A01                           0.063204             0.283149   \n",
       "A02                           0.120196             0.355469   \n",
       "A03                           0.219716             0.279329   \n",
       "A04                           0.167111             0.246652   \n",
       "A05                           0.080244             0.286553   \n",
       "\n",
       "Term  HALLMARK_G2M_CHECKPOINT  HALLMARK_APOPTOSIS  ...  \\\n",
       "A01                  0.366102            0.293164  ...   \n",
       "A02                  0.367244            0.323681  ...   \n",
       "A03                  0.272018            0.368760  ...   \n",
       "A04                  0.212474            0.323310  ...   \n",
       "A05                  0.344719            0.301616  ...   \n",
       "\n",
       "Term  HALLMARK_BILE_ACID_METABOLISM  HALLMARK_PEROXISOME  \\\n",
       "A01                        0.017703             0.157014   \n",
       "A02                        0.013351             0.210357   \n",
       "A03                        0.068881             0.159303   \n",
       "A04                        0.069575             0.211824   \n",
       "A05                        0.046353             0.200961   \n",
       "\n",
       "Term  HALLMARK_ALLOGRAFT_REJECTION  HALLMARK_SPERMATOGENESIS  \\\n",
       "A01                       0.101102                  0.059223   \n",
       "A02                       0.187103                  0.088553   \n",
       "A03                       0.240944                 -0.013733   \n",
       "A04                       0.206219                  0.075459   \n",
       "A05                       0.113492                  0.074904   \n",
       "\n",
       "Term  HALLMARK_KRAS_SIGNALING_UP  HALLMARK_KRAS_SIGNALING_DN  \\\n",
       "A01                     0.168870                   -0.111366   \n",
       "A02                     0.199723                   -0.116319   \n",
       "A03                     0.262265                   -0.122007   \n",
       "A04                     0.241376                   -0.096597   \n",
       "A05                     0.125993                   -0.106269   \n",
       "\n",
       "Term  HALLMARK_PANCREAS_BETA_CELLS  StromalSignature  ImmuneSignature  \\\n",
       "A01                      -0.146457          0.068301         0.074691   \n",
       "A02                      -0.171530          0.070667         0.169467   \n",
       "A03                      -0.229520          0.269651         0.345730   \n",
       "A04                      -0.139607          0.224186         0.317359   \n",
       "A05                      -0.137008          0.023423         0.069114   \n",
       "\n",
       "Term  TumourCellularity_mRNA  \n",
       "A01                 0.794327  \n",
       "A02                 0.766668  \n",
       "A03                 0.591924  \n",
       "A04                 0.621334  \n",
       "A05                 0.816969  \n",
       "\n",
       "[5 rows x 53 columns]"
      ]
     },
     "execution_count": 15,
     "metadata": {},
     "output_type": "execute_result"
    }
   ],
   "source": [
    "data_nes.T.head()"
   ]
  },
  {
   "cell_type": "code",
   "execution_count": 16,
   "metadata": {},
   "outputs": [],
   "source": [
    "#score = \"ImmuneSignature\"\n",
    "score = \"TumourCellularity_mRNA\""
   ]
  },
  {
   "cell_type": "code",
   "execution_count": 17,
   "metadata": {},
   "outputs": [
    {
     "data": {
      "text/html": [
       "<div>\n",
       "<style scoped>\n",
       "    .dataframe tbody tr th:only-of-type {\n",
       "        vertical-align: middle;\n",
       "    }\n",
       "\n",
       "    .dataframe tbody tr th {\n",
       "        vertical-align: top;\n",
       "    }\n",
       "\n",
       "    .dataframe thead th {\n",
       "        text-align: right;\n",
       "    }\n",
       "</style>\n",
       "<table border=\"1\" class=\"dataframe\">\n",
       "  <thead>\n",
       "    <tr style=\"text-align: right;\">\n",
       "      <th></th>\n",
       "      <th>Matched</th>\n",
       "      <th>NACT</th>\n",
       "      <th>TumourCellularity_mRNA</th>\n",
       "    </tr>\n",
       "    <tr>\n",
       "      <th>Well</th>\n",
       "      <th></th>\n",
       "      <th></th>\n",
       "      <th></th>\n",
       "    </tr>\n",
       "  </thead>\n",
       "  <tbody>\n",
       "    <tr>\n",
       "      <th>A01</th>\n",
       "      <td>True</td>\n",
       "      <td>Untreated</td>\n",
       "      <td>0.794327</td>\n",
       "    </tr>\n",
       "    <tr>\n",
       "      <th>A02</th>\n",
       "      <td>True</td>\n",
       "      <td>Treated</td>\n",
       "      <td>0.766668</td>\n",
       "    </tr>\n",
       "    <tr>\n",
       "      <th>A03</th>\n",
       "      <td>True</td>\n",
       "      <td>Untreated</td>\n",
       "      <td>0.591924</td>\n",
       "    </tr>\n",
       "    <tr>\n",
       "      <th>A04</th>\n",
       "      <td>True</td>\n",
       "      <td>Treated</td>\n",
       "      <td>0.621334</td>\n",
       "    </tr>\n",
       "    <tr>\n",
       "      <th>A05</th>\n",
       "      <td>True</td>\n",
       "      <td>Untreated</td>\n",
       "      <td>0.816969</td>\n",
       "    </tr>\n",
       "  </tbody>\n",
       "</table>\n",
       "</div>"
      ],
      "text/plain": [
       "      Matched       NACT  TumourCellularity_mRNA\n",
       "Well                                            \n",
       "A01      True  Untreated                0.794327\n",
       "A02      True    Treated                0.766668\n",
       "A03      True  Untreated                0.591924\n",
       "A04      True    Treated                0.621334\n",
       "A05      True  Untreated                0.816969"
      ]
     },
     "execution_count": 17,
     "metadata": {},
     "output_type": "execute_result"
    }
   ],
   "source": [
    "im_nes_df = pd.concat(\n",
    "    [sample_labels['Matched'],\n",
    "    sample_labels['NACT'],\n",
    "    data_nes.T[score]],\n",
    "    axis=1\n",
    ")\n",
    "\n",
    "im_nes_df.head()"
   ]
  },
  {
   "cell_type": "code",
   "execution_count": 18,
   "metadata": {},
   "outputs": [],
   "source": [
    "untreated_df = im_nes_df[im_nes_df[\"NACT\"] == \"Untreated\"]\n",
    "treated_df = im_nes_df[im_nes_df[\"NACT\"] == \"Treated\"]"
   ]
  },
  {
   "cell_type": "code",
   "execution_count": 22,
   "metadata": {},
   "outputs": [
    {
     "data": {
      "text/plain": [
       "BartlettResult(statistic=1.0636895859970412, pvalue=0.3023751819154189)"
      ]
     },
     "execution_count": 22,
     "metadata": {},
     "output_type": "execute_result"
    }
   ],
   "source": [
    "bartlett(\n",
    "    untreated_df[untreated_df[\"Matched\"] == True][score],\n",
    "    untreated_df[untreated_df[\"Matched\"] == False][score]\n",
    ")\n",
    "# same variance"
   ]
  },
  {
   "cell_type": "code",
   "execution_count": 23,
   "metadata": {},
   "outputs": [
    {
     "data": {
      "text/plain": [
       "LeveneResult(statistic=0.5368938398490323, pvalue=0.4702777014377597)"
      ]
     },
     "execution_count": 23,
     "metadata": {},
     "output_type": "execute_result"
    }
   ],
   "source": [
    "levene(\n",
    "    untreated_df[untreated_df[\"Matched\"] == True][score],\n",
    "    untreated_df[untreated_df[\"Matched\"] == False][score]\n",
    ")\n",
    "# same variance"
   ]
  },
  {
   "cell_type": "code",
   "execution_count": 24,
   "metadata": {},
   "outputs": [
    {
     "data": {
      "text/plain": [
       "(0.8408161401748657, 0.058974139392375946)"
      ]
     },
     "execution_count": 24,
     "metadata": {},
     "output_type": "execute_result"
    }
   ],
   "source": [
    "shapiro(untreated_df[untreated_df[\"Matched\"] == True][score])"
   ]
  },
  {
   "cell_type": "code",
   "execution_count": 25,
   "metadata": {},
   "outputs": [
    {
     "data": {
      "text/plain": [
       "(0.9127862453460693, 0.0832914263010025)"
      ]
     },
     "execution_count": 25,
     "metadata": {},
     "output_type": "execute_result"
    }
   ],
   "source": [
    "shapiro(untreated_df[untreated_df[\"Matched\"] == False][score])"
   ]
  },
  {
   "cell_type": "code",
   "execution_count": 28,
   "metadata": {},
   "outputs": [
    {
     "data": {
      "text/plain": [
       "KstestResult(statistic=0.24387978698439655, pvalue=0.5901700775401482)"
      ]
     },
     "execution_count": 28,
     "metadata": {},
     "output_type": "execute_result"
    }
   ],
   "source": [
    "mean = np.mean(untreated_df[untreated_df[\"Matched\"]==True][score])\n",
    "std = np.std(untreated_df[untreated_df[\"Matched\"]==True][score])\n",
    "\n",
    "kstest(list(untreated_df[untreated_df[\"Matched\"]==True][score]),\n",
    "       'norm', args=(mean,std))\n"
   ]
  },
  {
   "cell_type": "code",
   "execution_count": 29,
   "metadata": {},
   "outputs": [
    {
     "data": {
      "text/plain": [
       "KstestResult(statistic=0.11720971345690101, pvalue=0.9565382413024685)"
      ]
     },
     "execution_count": 29,
     "metadata": {},
     "output_type": "execute_result"
    }
   ],
   "source": [
    "mean = np.mean(untreated_df[untreated_df[\"Matched\"]==False][score])\n",
    "std = np.std(untreated_df[untreated_df[\"Matched\"]==False][score])\n",
    "\n",
    "kstest(list(untreated_df[untreated_df[\"Matched\"]==False][score]),\n",
    "       'norm', args=(mean,std))\n"
   ]
  },
  {
   "cell_type": "code",
   "execution_count": 30,
   "metadata": {},
   "outputs": [
    {
     "data": {
      "text/plain": [
       "Ttest_indResult(statistic=1.1819797214105436, pvalue=0.2479116008203142)"
      ]
     },
     "execution_count": 30,
     "metadata": {},
     "output_type": "execute_result"
    }
   ],
   "source": [
    "ttest_ind(\n",
    "    untreated_df[untreated_df[\"Matched\"]==True][score],\n",
    "    untreated_df[untreated_df[\"Matched\"]==False][score],\n",
    "    equal_var=True\n",
    ")\n"
   ]
  },
  {
   "cell_type": "code",
   "execution_count": 31,
   "metadata": {},
   "outputs": [
    {
     "data": {
      "text/plain": [
       "MannwhitneyuResult(statistic=114.0, pvalue=0.16839692203854006)"
      ]
     },
     "execution_count": 31,
     "metadata": {},
     "output_type": "execute_result"
    }
   ],
   "source": [
    "mannwhitneyu(\n",
    "    untreated_df[untreated_df[\"Matched\"] == True][score],\n",
    "    untreated_df[untreated_df[\"Matched\"] == False][score], alternative='two-sided'\n",
    ")"
   ]
  },
  {
   "cell_type": "code",
   "execution_count": 32,
   "metadata": {},
   "outputs": [
    {
     "data": {
      "text/plain": [
       "'TumourCellularity_mRNA'"
      ]
     },
     "execution_count": 32,
     "metadata": {},
     "output_type": "execute_result"
    }
   ],
   "source": [
    "score"
   ]
  },
  {
   "cell_type": "code",
   "execution_count": 33,
   "metadata": {},
   "outputs": [],
   "source": [
    "# treated"
   ]
  },
  {
   "cell_type": "code",
   "execution_count": 34,
   "metadata": {},
   "outputs": [
    {
     "data": {
      "text/plain": [
       "BartlettResult(statistic=0.19061320081116814, pvalue=0.662406745157833)"
      ]
     },
     "execution_count": 34,
     "metadata": {},
     "output_type": "execute_result"
    }
   ],
   "source": [
    "bartlett(\n",
    "    treated_df[treated_df[\"Matched\"] == True][score],\n",
    "    treated_df[treated_df[\"Matched\"] == False][score]\n",
    ")\n",
    "# same variance"
   ]
  },
  {
   "cell_type": "code",
   "execution_count": 35,
   "metadata": {},
   "outputs": [
    {
     "data": {
      "text/plain": [
       "LeveneResult(statistic=0.6341060735084465, pvalue=0.43306435953738565)"
      ]
     },
     "execution_count": 35,
     "metadata": {},
     "output_type": "execute_result"
    }
   ],
   "source": [
    "levene(\n",
    "    treated_df[treated_df[\"Matched\"] == True][score],\n",
    "    treated_df[treated_df[\"Matched\"] == False][score]\n",
    ")\n",
    "# same variance"
   ]
  },
  {
   "cell_type": "code",
   "execution_count": 36,
   "metadata": {},
   "outputs": [
    {
     "data": {
      "text/plain": [
       "(0.7960711717605591, 0.01841529831290245)"
      ]
     },
     "execution_count": 36,
     "metadata": {},
     "output_type": "execute_result"
    }
   ],
   "source": [
    "shapiro(treated_df[treated_df[\"Matched\"] == True][score])"
   ]
  },
  {
   "cell_type": "code",
   "execution_count": 37,
   "metadata": {},
   "outputs": [
    {
     "data": {
      "text/plain": [
       "(0.9190979599952698, 0.10890509188175201)"
      ]
     },
     "execution_count": 37,
     "metadata": {},
     "output_type": "execute_result"
    }
   ],
   "source": [
    "shapiro(treated_df[treated_df[\"Matched\"] == False][score])"
   ]
  },
  {
   "cell_type": "code",
   "execution_count": 38,
   "metadata": {},
   "outputs": [
    {
     "data": {
      "text/plain": [
       "KstestResult(statistic=0.31746318823051045, pvalue=0.2635841803177216)"
      ]
     },
     "execution_count": 38,
     "metadata": {},
     "output_type": "execute_result"
    }
   ],
   "source": [
    "mean = np.mean(treated_df[treated_df[\"Matched\"]==True][score])\n",
    "std = np.std(treated_df[treated_df[\"Matched\"]==True][score])\n",
    "\n",
    "kstest(list(treated_df[treated_df[\"Matched\"]==True][score]),\n",
    "       'norm', args=(mean,std))"
   ]
  },
  {
   "cell_type": "code",
   "execution_count": 39,
   "metadata": {},
   "outputs": [
    {
     "data": {
      "text/plain": [
       "KstestResult(statistic=0.18384400644042248, pvalue=0.49218133352564)"
      ]
     },
     "execution_count": 39,
     "metadata": {},
     "output_type": "execute_result"
    }
   ],
   "source": [
    "mean = np.mean(treated_df[treated_df[\"Matched\"]==False][score])\n",
    "std = np.std(treated_df[treated_df[\"Matched\"]==False][score])\n",
    "\n",
    "kstest(list(treated_df[treated_df[\"Matched\"]==False][score]),\n",
    "       'norm', args=(mean,std))"
   ]
  },
  {
   "cell_type": "code",
   "execution_count": 40,
   "metadata": {},
   "outputs": [
    {
     "data": {
      "text/plain": [
       "Ttest_indResult(statistic=-1.5265797639975707, pvalue=0.13893996517390572)"
      ]
     },
     "execution_count": 40,
     "metadata": {},
     "output_type": "execute_result"
    }
   ],
   "source": [
    "ttest_ind(\n",
    "    treated_df[treated_df[\"Matched\"] == True][score],\n",
    "    treated_df[treated_df[\"Matched\"] == False][score],\n",
    "    equal_var=True\n",
    ")"
   ]
  },
  {
   "cell_type": "code",
   "execution_count": 41,
   "metadata": {},
   "outputs": [
    {
     "data": {
      "text/plain": [
       "MannwhitneyuResult(statistic=55.0, pvalue=0.07000458192059181)"
      ]
     },
     "execution_count": 41,
     "metadata": {},
     "output_type": "execute_result"
    }
   ],
   "source": [
    "mannwhitneyu(\n",
    "    treated_df[treated_df[\"Matched\"] == True][score],\n",
    "    treated_df[treated_df[\"Matched\"] == False][score]\n",
    ")"
   ]
  },
  {
   "cell_type": "code",
   "execution_count": 42,
   "metadata": {},
   "outputs": [],
   "source": [
    "def boxplot(data_toplot, score, ylim=None):\n",
    "    \n",
    "    fig, ax = plt.subplots()\n",
    "    fig.set_size_inches(3,3)\n",
    "\n",
    "    sns.violinplot(x=\"Matched\",\n",
    "                   y=score,\n",
    "                   data=data_toplot,\n",
    "                   inner=None,\n",
    "                   hue=\"Matched\",\n",
    "                   split=False,\n",
    "                   scale=\"count\",\n",
    "                   scale_hue=False,\n",
    "                   zorder=0)\n",
    "\n",
    "    sns.boxplot(x='Matched',\n",
    "                y=score,\n",
    "                data=data_toplot,\n",
    "                notch=True,\n",
    "                fliersize=0,\n",
    "                width=0.5,\n",
    "                hue=\"Matched\",\n",
    "                zorder=1,\n",
    "                whis=0)\n",
    "\n",
    "    \n",
    "    \n",
    "    if ylim != None:\n",
    "        plt.ylim(ylim)\n",
    "        \n",
    "    #sns.despine(trim=True,offset=10)\n",
    "    ax.get_legend().remove()\n",
    "    \n",
    "    return fig"
   ]
  },
  {
   "cell_type": "code",
   "execution_count": 43,
   "metadata": {},
   "outputs": [],
   "source": [
    "score = \"ImmuneSignature\""
   ]
  },
  {
   "cell_type": "code",
   "execution_count": 51,
   "metadata": {},
   "outputs": [
    {
     "data": {
      "text/html": [
       "<div>\n",
       "<style scoped>\n",
       "    .dataframe tbody tr th:only-of-type {\n",
       "        vertical-align: middle;\n",
       "    }\n",
       "\n",
       "    .dataframe tbody tr th {\n",
       "        vertical-align: top;\n",
       "    }\n",
       "\n",
       "    .dataframe thead th {\n",
       "        text-align: right;\n",
       "    }\n",
       "</style>\n",
       "<table border=\"1\" class=\"dataframe\">\n",
       "  <thead>\n",
       "    <tr style=\"text-align: right;\">\n",
       "      <th></th>\n",
       "      <th>Matched</th>\n",
       "      <th>NACT</th>\n",
       "      <th>ImmuneSignature</th>\n",
       "    </tr>\n",
       "    <tr>\n",
       "      <th>Well</th>\n",
       "      <th></th>\n",
       "      <th></th>\n",
       "      <th></th>\n",
       "    </tr>\n",
       "  </thead>\n",
       "  <tbody>\n",
       "    <tr>\n",
       "      <th>A01</th>\n",
       "      <td>Matched</td>\n",
       "      <td>Untreated</td>\n",
       "      <td>0.074691</td>\n",
       "    </tr>\n",
       "    <tr>\n",
       "      <th>A02</th>\n",
       "      <td>Matched</td>\n",
       "      <td>Treated</td>\n",
       "      <td>0.169467</td>\n",
       "    </tr>\n",
       "    <tr>\n",
       "      <th>A03</th>\n",
       "      <td>Matched</td>\n",
       "      <td>Untreated</td>\n",
       "      <td>0.345730</td>\n",
       "    </tr>\n",
       "    <tr>\n",
       "      <th>A04</th>\n",
       "      <td>Matched</td>\n",
       "      <td>Treated</td>\n",
       "      <td>0.317359</td>\n",
       "    </tr>\n",
       "    <tr>\n",
       "      <th>A05</th>\n",
       "      <td>Matched</td>\n",
       "      <td>Untreated</td>\n",
       "      <td>0.069114</td>\n",
       "    </tr>\n",
       "  </tbody>\n",
       "</table>\n",
       "</div>"
      ],
      "text/plain": [
       "      Matched       NACT  ImmuneSignature\n",
       "Well                                     \n",
       "A01   Matched  Untreated         0.074691\n",
       "A02   Matched    Treated         0.169467\n",
       "A03   Matched  Untreated         0.345730\n",
       "A04   Matched    Treated         0.317359\n",
       "A05   Matched  Untreated         0.069114"
      ]
     },
     "execution_count": 51,
     "metadata": {},
     "output_type": "execute_result"
    }
   ],
   "source": [
    "im_nes_df = pd.concat(\n",
    "    [sample_labels['Matched'],\n",
    "    sample_labels['NACT'],\n",
    "    data_nes.T[score]],\n",
    "    axis=1\n",
    ")\n",
    "\n",
    "im_nes_df[\"Matched\"].replace([True,False], [\"Matched\",\"Unmatched\"], inplace=True)\n",
    "\n",
    "im_nes_df.head()"
   ]
  },
  {
   "cell_type": "code",
   "execution_count": 52,
   "metadata": {},
   "outputs": [],
   "source": [
    "df = im_nes_df[im_nes_df[\"NACT\"] == \"Treated\"]"
   ]
  },
  {
   "cell_type": "code",
   "execution_count": 53,
   "metadata": {},
   "outputs": [
    {
     "data": {
      "image/png": "[encoded data removed]",
      "text/plain": [
       "<Figure size 216x216 with 1 Axes>"
      ]
     },
     "metadata": {},
     "output_type": "display_data"
    }
   ],
   "source": [
    "fig = boxplot(df, score, ylim=[-0.2,0.6])"
   ]
  },
  {
   "cell_type": "code",
   "execution_count": 49,
   "metadata": {},
   "outputs": [
    {
     "data": {
      "text/plain": [
       "'ImmuneSignature'"
      ]
     },
     "execution_count": 49,
     "metadata": {},
     "output_type": "execute_result"
    }
   ],
   "source": [
    "score"
   ]
  },
  {
   "cell_type": "code",
   "execution_count": 55,
   "metadata": {},
   "outputs": [],
   "source": [
    "fig.savefig(\"../../Figures/supplementary/7/panels/s7a_post-NACT_\"+score+\".pdf\")"
   ]
  },
  {
   "cell_type": "code",
   "execution_count": 56,
   "metadata": {},
   "outputs": [],
   "source": [
    "df = im_nes_df[im_nes_df[\"NACT\"] == \"Untreated\"]"
   ]
  },
  {
   "cell_type": "code",
   "execution_count": 57,
   "metadata": {},
   "outputs": [
    {
     "data": {
      "image/png": "[encoded data removed]",
      "text/plain": [
       "<Figure size 216x216 with 1 Axes>"
      ]
     },
     "metadata": {},
     "output_type": "display_data"
    }
   ],
   "source": [
    "fig = boxplot(df, score, ylim=[-0.2,0.6])"
   ]
  },
  {
   "cell_type": "code",
   "execution_count": 58,
   "metadata": {},
   "outputs": [],
   "source": [
    "fig.savefig(\"../../Figures/supplementary/7/panels/s7a_pre-NACT_\"+score+\".pdf\")"
   ]
  },
  {
   "cell_type": "code",
   "execution_count": 59,
   "metadata": {},
   "outputs": [],
   "source": [
    "score = \"TumourCellularity_mRNA\""
   ]
  },
  {
   "cell_type": "code",
   "execution_count": 60,
   "metadata": {},
   "outputs": [
    {
     "data": {
      "text/html": [
       "<div>\n",
       "<style scoped>\n",
       "    .dataframe tbody tr th:only-of-type {\n",
       "        vertical-align: middle;\n",
       "    }\n",
       "\n",
       "    .dataframe tbody tr th {\n",
       "        vertical-align: top;\n",
       "    }\n",
       "\n",
       "    .dataframe thead th {\n",
       "        text-align: right;\n",
       "    }\n",
       "</style>\n",
       "<table border=\"1\" class=\"dataframe\">\n",
       "  <thead>\n",
       "    <tr style=\"text-align: right;\">\n",
       "      <th></th>\n",
       "      <th>Matched</th>\n",
       "      <th>NACT</th>\n",
       "      <th>TumourCellularity_mRNA</th>\n",
       "    </tr>\n",
       "    <tr>\n",
       "      <th>Well</th>\n",
       "      <th></th>\n",
       "      <th></th>\n",
       "      <th></th>\n",
       "    </tr>\n",
       "  </thead>\n",
       "  <tbody>\n",
       "    <tr>\n",
       "      <th>A01</th>\n",
       "      <td>Matched</td>\n",
       "      <td>Untreated</td>\n",
       "      <td>0.794327</td>\n",
       "    </tr>\n",
       "    <tr>\n",
       "      <th>A02</th>\n",
       "      <td>Matched</td>\n",
       "      <td>Treated</td>\n",
       "      <td>0.766668</td>\n",
       "    </tr>\n",
       "    <tr>\n",
       "      <th>A03</th>\n",
       "      <td>Matched</td>\n",
       "      <td>Untreated</td>\n",
       "      <td>0.591924</td>\n",
       "    </tr>\n",
       "    <tr>\n",
       "      <th>A04</th>\n",
       "      <td>Matched</td>\n",
       "      <td>Treated</td>\n",
       "      <td>0.621334</td>\n",
       "    </tr>\n",
       "    <tr>\n",
       "      <th>A05</th>\n",
       "      <td>Matched</td>\n",
       "      <td>Untreated</td>\n",
       "      <td>0.816969</td>\n",
       "    </tr>\n",
       "  </tbody>\n",
       "</table>\n",
       "</div>"
      ],
      "text/plain": [
       "      Matched       NACT  TumourCellularity_mRNA\n",
       "Well                                            \n",
       "A01   Matched  Untreated                0.794327\n",
       "A02   Matched    Treated                0.766668\n",
       "A03   Matched  Untreated                0.591924\n",
       "A04   Matched    Treated                0.621334\n",
       "A05   Matched  Untreated                0.816969"
      ]
     },
     "execution_count": 60,
     "metadata": {},
     "output_type": "execute_result"
    }
   ],
   "source": [
    "im_nes_df = pd.concat(\n",
    "    [sample_labels['Matched'],\n",
    "    sample_labels['NACT'],\n",
    "    data_nes.T[score]],\n",
    "    axis=1\n",
    ")\n",
    "\n",
    "im_nes_df[\"Matched\"].replace([True,False], [\"Matched\",\"Unmatched\"], inplace=True)\n",
    "\n",
    "im_nes_df.head()"
   ]
  },
  {
   "cell_type": "code",
   "execution_count": 71,
   "metadata": {},
   "outputs": [],
   "source": [
    "df = im_nes_df[im_nes_df[\"NACT\"] == \"Treated\"]"
   ]
  },
  {
   "cell_type": "code",
   "execution_count": 72,
   "metadata": {},
   "outputs": [
    {
     "data": {
      "image/png": "[encoded data removed]",
      "text/plain": [
       "<Figure size 216x216 with 1 Axes>"
      ]
     },
     "metadata": {},
     "output_type": "display_data"
    }
   ],
   "source": [
    "fig = boxplot(df, score, ylim=[0.4,1])"
   ]
  },
  {
   "cell_type": "code",
   "execution_count": 73,
   "metadata": {},
   "outputs": [],
   "source": [
    "fig.savefig(\"../../Figures/supplementary/7/panels/s7a_post-NACT_\"+score+\".pdf\")"
   ]
  },
  {
   "cell_type": "code",
   "execution_count": 74,
   "metadata": {},
   "outputs": [],
   "source": [
    "df = im_nes_df[im_nes_df[\"NACT\"] == \"Untreated\"]"
   ]
  },
  {
   "cell_type": "code",
   "execution_count": 75,
   "metadata": {},
   "outputs": [
    {
     "data": {
      "image/png": "[encoded data removed]",
      "text/plain": [
       "<Figure size 216x216 with 1 Axes>"
      ]
     },
     "metadata": {},
     "output_type": "display_data"
    }
   ],
   "source": [
    "fig = boxplot(df, score, ylim=[0.4,1])"
   ]
  },
  {
   "cell_type": "code",
   "execution_count": 76,
   "metadata": {},
   "outputs": [],
   "source": [
    "fig.savefig(\"../../Figures/supplementary/7/panels/s7a_pre-NACT_\"+score+\".pdf\")"
   ]
  },
  {
   "cell_type": "markdown",
   "metadata": {},
   "source": [
    "# End script"
   ]
  }
 ],
 "metadata": {
  "kernelspec": {
   "display_name": "Python 3",
   "language": "python",
   "name": "python3"
  },
  "language_info": {
   "codemirror_mode": {
    "name": "ipython",
    "version": 3
   },
   "file_extension": ".py",
   "mimetype": "text/x-python",
   "name": "python",
   "nbconvert_exporter": "python",
   "pygments_lexer": "ipython3",
   "version": "3.6.8"
  }
 },
 "nbformat": 4,
 "nbformat_minor": 2
}

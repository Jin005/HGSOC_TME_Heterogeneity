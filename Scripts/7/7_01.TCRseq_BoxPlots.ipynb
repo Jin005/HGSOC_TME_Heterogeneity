{
 "cells": [
  {
   "cell_type": "markdown",
   "metadata": {},
   "source": [
    "# TCRseq BoxPlots"
   ]
  },
  {
   "cell_type": "markdown",
   "metadata": {},
   "source": [
    "Script related to figure 7a\n",
    "\n",
    "### Aim:\n",
    "- Compare TCR seq clonality and T cell counts in matched and un matched pre/post samples"
   ]
  },
  {
   "cell_type": "code",
   "execution_count": 1,
   "metadata": {},
   "outputs": [
    {
     "name": "stdout",
     "output_type": "stream",
     "text": [
      "Python 3.6.8 :: Anaconda custom (64-bit)\r\n"
     ]
    }
   ],
   "source": [
    "!python --version"
   ]
  },
  {
   "cell_type": "markdown",
   "metadata": {},
   "source": [
    "## Import packages"
   ]
  },
  {
   "cell_type": "code",
   "execution_count": 2,
   "metadata": {},
   "outputs": [],
   "source": [
    "import scipy.stats\n",
    "import pandas as pd\n",
    "import seaborn as sns\n",
    "import matplotlib.pyplot as plt\n",
    "from matplotlib.lines import Line2D"
   ]
  },
  {
   "cell_type": "code",
   "execution_count": 3,
   "metadata": {},
   "outputs": [],
   "source": [
    "home = '~/git_repos/HGSOC_TME_Heterogeneity/'"
   ]
  },
  {
   "cell_type": "markdown",
   "metadata": {},
   "source": [
    "## Get sample labels and TCRseq data"
   ]
  },
  {
   "cell_type": "markdown",
   "metadata": {},
   "source": [
    "### Load samples' metadata"
   ]
  },
  {
   "cell_type": "code",
   "execution_count": 5,
   "metadata": {},
   "outputs": [
    {
     "data": {
      "text/html": [
       "<div>\n",
       "<style scoped>\n",
       "    .dataframe tbody tr th:only-of-type {\n",
       "        vertical-align: middle;\n",
       "    }\n",
       "\n",
       "    .dataframe tbody tr th {\n",
       "        vertical-align: top;\n",
       "    }\n",
       "\n",
       "    .dataframe thead th {\n",
       "        text-align: right;\n",
       "    }\n",
       "</style>\n",
       "<table border=\"1\" class=\"dataframe\">\n",
       "  <thead>\n",
       "    <tr style=\"text-align: right;\">\n",
       "      <th></th>\n",
       "      <th>Subject ID</th>\n",
       "      <th>Sample ID</th>\n",
       "      <th>Progression Free Survival (Days)</th>\n",
       "      <th>PFS Censored Status (0 = PF, 1=Progressed)</th>\n",
       "      <th>Overall Survival (Days)</th>\n",
       "      <th>OS Censored Status (0 = Alive, 1=Dead)</th>\n",
       "      <th>Type of Chemo</th>\n",
       "      <th>Number of Cycles</th>\n",
       "      <th>Platinum Sensitive</th>\n",
       "      <th>Age</th>\n",
       "      <th>C1D1</th>\n",
       "      <th>Date Last F/u</th>\n",
       "      <th>Status</th>\n",
       "      <th>Date of recurrence</th>\n",
       "      <th>Stage</th>\n",
       "      <th>Site Matched</th>\n",
       "      <th>Comments</th>\n",
       "    </tr>\n",
       "  </thead>\n",
       "  <tbody>\n",
       "    <tr>\n",
       "      <th>0</th>\n",
       "      <td>3368</td>\n",
       "      <td>3368A</td>\n",
       "      <td>771</td>\n",
       "      <td>0</td>\n",
       "      <td>1995</td>\n",
       "      <td>0</td>\n",
       "      <td>Carbo/taxol</td>\n",
       "      <td>6</td>\n",
       "      <td>Y</td>\n",
       "      <td>54</td>\n",
       "      <td>09/11/10</td>\n",
       "      <td>26/04/16</td>\n",
       "      <td>AWD</td>\n",
       "      <td>19/12/12</td>\n",
       "      <td>IIIC</td>\n",
       "      <td>Y</td>\n",
       "      <td>NaN</td>\n",
       "    </tr>\n",
       "    <tr>\n",
       "      <th>1</th>\n",
       "      <td>3368</td>\n",
       "      <td>3368B</td>\n",
       "      <td>771</td>\n",
       "      <td>0</td>\n",
       "      <td>1995</td>\n",
       "      <td>0</td>\n",
       "      <td>Carbo/taxol</td>\n",
       "      <td>6</td>\n",
       "      <td>Y</td>\n",
       "      <td>55</td>\n",
       "      <td>09/11/10</td>\n",
       "      <td>26/04/16</td>\n",
       "      <td>AWD</td>\n",
       "      <td>19/12/12</td>\n",
       "      <td>IIIC</td>\n",
       "      <td>Y</td>\n",
       "      <td>NaN</td>\n",
       "    </tr>\n",
       "    <tr>\n",
       "      <th>2</th>\n",
       "      <td>7362</td>\n",
       "      <td>7362A</td>\n",
       "      <td>351</td>\n",
       "      <td>1</td>\n",
       "      <td>449</td>\n",
       "      <td>1</td>\n",
       "      <td>Carbo/taxol</td>\n",
       "      <td>6</td>\n",
       "      <td>N</td>\n",
       "      <td>76</td>\n",
       "      <td>04/10/10</td>\n",
       "      <td>27/12/11</td>\n",
       "      <td>DOD</td>\n",
       "      <td>20/09/11</td>\n",
       "      <td>IIIC</td>\n",
       "      <td>Y</td>\n",
       "      <td>NaN</td>\n",
       "    </tr>\n",
       "    <tr>\n",
       "      <th>3</th>\n",
       "      <td>7362</td>\n",
       "      <td>7362B</td>\n",
       "      <td>351</td>\n",
       "      <td>1</td>\n",
       "      <td>449</td>\n",
       "      <td>1</td>\n",
       "      <td>Carbo/taxol</td>\n",
       "      <td>6</td>\n",
       "      <td>N</td>\n",
       "      <td>77</td>\n",
       "      <td>04/10/10</td>\n",
       "      <td>27/12/11</td>\n",
       "      <td>DOD</td>\n",
       "      <td>20/09/11</td>\n",
       "      <td>IIIC</td>\n",
       "      <td>Y</td>\n",
       "      <td>NaN</td>\n",
       "    </tr>\n",
       "    <tr>\n",
       "      <th>4</th>\n",
       "      <td>371</td>\n",
       "      <td>0371A</td>\n",
       "      <td>900</td>\n",
       "      <td>1</td>\n",
       "      <td>1682</td>\n",
       "      <td>0</td>\n",
       "      <td>Carbo/taxol</td>\n",
       "      <td>3</td>\n",
       "      <td>Y</td>\n",
       "      <td>68</td>\n",
       "      <td>01/08/11</td>\n",
       "      <td>09/03/16</td>\n",
       "      <td>AWD</td>\n",
       "      <td>17/01/14</td>\n",
       "      <td>IV</td>\n",
       "      <td>Y</td>\n",
       "      <td>NaN</td>\n",
       "    </tr>\n",
       "  </tbody>\n",
       "</table>\n",
       "</div>"
      ],
      "text/plain": [
       "   Subject ID Sample ID  Progression Free Survival (Days)  \\\n",
       "0        3368     3368A                               771   \n",
       "1        3368     3368B                               771   \n",
       "2        7362     7362A                               351   \n",
       "3        7362     7362B                               351   \n",
       "4         371     0371A                               900   \n",
       "\n",
       "   PFS Censored Status (0 = PF, 1=Progressed)  Overall Survival (Days)  \\\n",
       "0                                           0                     1995   \n",
       "1                                           0                     1995   \n",
       "2                                           1                      449   \n",
       "3                                           1                      449   \n",
       "4                                           1                     1682   \n",
       "\n",
       "   OS Censored Status (0 = Alive, 1=Dead) Type of Chemo  Number of Cycles  \\\n",
       "0                                       0   Carbo/taxol                 6   \n",
       "1                                       0   Carbo/taxol                 6   \n",
       "2                                       1   Carbo/taxol                 6   \n",
       "3                                       1   Carbo/taxol                 6   \n",
       "4                                       0   Carbo/taxol                 3   \n",
       "\n",
       "  Platinum Sensitive  Age       C1D1 Date Last F/u Status Date of recurrence  \\\n",
       "0                  Y    54  09/11/10      26/04/16    AWD           19/12/12   \n",
       "1                  Y    55  09/11/10      26/04/16    AWD           19/12/12   \n",
       "2                  N    76  04/10/10      27/12/11    DOD           20/09/11   \n",
       "3                  N    77  04/10/10      27/12/11    DOD           20/09/11   \n",
       "4                  Y    68  01/08/11      09/03/16    AWD           17/01/14   \n",
       "\n",
       "  Stage Site Matched Comments  \n",
       "0  IIIC            Y      NaN  \n",
       "1  IIIC            Y      NaN  \n",
       "2  IIIC            Y      NaN  \n",
       "3  IIIC            Y      NaN  \n",
       "4    IV            Y      NaN  "
      ]
     },
     "execution_count": 5,
     "metadata": {},
     "output_type": "execute_result"
    }
   ],
   "source": [
    "file_keys = home + 'Data/7/Metadata_TCRseq_Greenbaum.Callahan_2.6.17.tsv'\n",
    "\n",
    "sample_labels = pd.read_csv(file_keys,\n",
    "                            sep='\\t',\n",
    "                            skiprows=1)\n",
    "\n",
    "sample_labels.head()"
   ]
  },
  {
   "cell_type": "markdown",
   "metadata": {},
   "source": [
    "###  Load TCRseq data"
   ]
  },
  {
   "cell_type": "code",
   "execution_count": 7,
   "metadata": {},
   "outputs": [
    {
     "data": {
      "text/html": [
       "<div>\n",
       "<style scoped>\n",
       "    .dataframe tbody tr th:only-of-type {\n",
       "        vertical-align: middle;\n",
       "    }\n",
       "\n",
       "    .dataframe tbody tr th {\n",
       "        vertical-align: top;\n",
       "    }\n",
       "\n",
       "    .dataframe thead th {\n",
       "        text-align: right;\n",
       "    }\n",
       "</style>\n",
       "<table border=\"1\" class=\"dataframe\">\n",
       "  <thead>\n",
       "    <tr style=\"text-align: right;\">\n",
       "      <th></th>\n",
       "      <th>sample_cells</th>\n",
       "      <th>total_t_cells</th>\n",
       "      <th>fraction_productive_of_cells</th>\n",
       "      <th>productive_rearrangements</th>\n",
       "      <th>productive_clonality</th>\n",
       "      <th>max_productive_frequency</th>\n",
       "      <th>sample_clonality</th>\n",
       "    </tr>\n",
       "    <tr>\n",
       "      <th>sample_name</th>\n",
       "      <th></th>\n",
       "      <th></th>\n",
       "      <th></th>\n",
       "      <th></th>\n",
       "      <th></th>\n",
       "      <th></th>\n",
       "      <th></th>\n",
       "    </tr>\n",
       "  </thead>\n",
       "  <tbody>\n",
       "    <tr>\n",
       "      <th>6229A</th>\n",
       "      <td>145614</td>\n",
       "      <td>2402.0</td>\n",
       "      <td>0.016496</td>\n",
       "      <td>1044</td>\n",
       "      <td>0.2386</td>\n",
       "      <td>0.133169949</td>\n",
       "      <td>0.2178</td>\n",
       "    </tr>\n",
       "    <tr>\n",
       "      <th>3935B2</th>\n",
       "      <td>49578</td>\n",
       "      <td>3795.0</td>\n",
       "      <td>0.076538</td>\n",
       "      <td>2529</td>\n",
       "      <td>0.1499</td>\n",
       "      <td>0.0600402541</td>\n",
       "      <td>0.1401</td>\n",
       "    </tr>\n",
       "    <tr>\n",
       "      <th>3397B</th>\n",
       "      <td>19843</td>\n",
       "      <td>1679.0</td>\n",
       "      <td>0.084607</td>\n",
       "      <td>1040</td>\n",
       "      <td>0.1046</td>\n",
       "      <td>0.0341284275</td>\n",
       "      <td>0.1045</td>\n",
       "    </tr>\n",
       "    <tr>\n",
       "      <th>3418B</th>\n",
       "      <td>93494</td>\n",
       "      <td>3472.0</td>\n",
       "      <td>0.037137</td>\n",
       "      <td>1412</td>\n",
       "      <td>0.1188</td>\n",
       "      <td>0.0267541278</td>\n",
       "      <td>0.1125</td>\n",
       "    </tr>\n",
       "    <tr>\n",
       "      <th>4425A</th>\n",
       "      <td>4758</td>\n",
       "      <td>312.0</td>\n",
       "      <td>0.065537</td>\n",
       "      <td>219</td>\n",
       "      <td>0.0819</td>\n",
       "      <td>0.0548156947</td>\n",
       "      <td>0.0753</td>\n",
       "    </tr>\n",
       "  </tbody>\n",
       "</table>\n",
       "</div>"
      ],
      "text/plain": [
       "             sample_cells  total_t_cells  fraction_productive_of_cells  \\\n",
       "sample_name                                                              \n",
       "6229A              145614         2402.0                      0.016496   \n",
       "3935B2              49578         3795.0                      0.076538   \n",
       "3397B               19843         1679.0                      0.084607   \n",
       "3418B               93494         3472.0                      0.037137   \n",
       "4425A                4758          312.0                      0.065537   \n",
       "\n",
       "            productive_rearrangements productive_clonality  \\\n",
       "sample_name                                                  \n",
       "6229A                            1044               0.2386   \n",
       "3935B2                           2529               0.1499   \n",
       "3397B                            1040               0.1046   \n",
       "3418B                            1412               0.1188   \n",
       "4425A                             219               0.0819   \n",
       "\n",
       "            max_productive_frequency  sample_clonality  \n",
       "sample_name                                             \n",
       "6229A                    0.133169949            0.2178  \n",
       "3935B2                  0.0600402541            0.1401  \n",
       "3397B                   0.0341284275            0.1045  \n",
       "3418B                   0.0267541278            0.1125  \n",
       "4425A                   0.0548156947            0.0753  "
      ]
     },
     "execution_count": 7,
     "metadata": {},
     "output_type": "execute_result"
    }
   ],
   "source": [
    "file_tcr = home + 'Data/7/SampleOverview_04-08-2019_8-43-51_AM.tsv'\n",
    "\n",
    "tcr_seq = pd.read_csv(file_tcr, sep='\\t')\n",
    "\n",
    "tcr_seq.set_index('sample_name', inplace=True)\n",
    "\n",
    "tcr_seq.head()"
   ]
  },
  {
   "cell_type": "code",
   "execution_count": 8,
   "metadata": {},
   "outputs": [
    {
     "data": {
      "text/plain": [
       "array(['sample_cells', 'total_t_cells', 'fraction_productive_of_cells',\n",
       "       'productive_rearrangements', 'productive_clonality',\n",
       "       'max_productive_frequency', 'sample_clonality'], dtype=object)"
      ]
     },
     "execution_count": 8,
     "metadata": {},
     "output_type": "execute_result"
    }
   ],
   "source": [
    "tcr_seq.columns.values"
   ]
  },
  {
   "cell_type": "code",
   "execution_count": 9,
   "metadata": {},
   "outputs": [],
   "source": [
    "tcr_seq[\"fraction_t_cells_of_nucleated_cells\"] = tcr_seq[\"total_t_cells\"]/tcr_seq[\"sample_cells\"]\n"
   ]
  },
  {
   "cell_type": "markdown",
   "metadata": {},
   "source": [
    "## Split data into pre (A) and post (B) NACT"
   ]
  },
  {
   "cell_type": "markdown",
   "metadata": {},
   "source": [
    "### Exclude samples from analysis (based on adaptive biotech recommendation)"
   ]
  },
  {
   "cell_type": "code",
   "execution_count": 10,
   "metadata": {},
   "outputs": [],
   "source": [
    "exc_patients = {'0511', # due low T cell count (clonality unreliable)\n",
    "                '2050', # due low T cell count (clonality unreliable)\n",
    "                '2058', # due low nucleated and T cell count (seq unreliable)\n",
    "                '2359', # due lack of pre-treatment sample\n",
    "                '2945', # due low nucleated cell count\n",
    "                '3582', # due low nucleated and T cell count (seq unreliable)\n",
    "                '4997', # due low nucleated and T cell count (seq unreliable)\n",
    "                '5219', # due low T cell count (clonality unreliable)\n",
    "                '5660', # due low nucleated cell count\n",
    "                '6902', # due low nucleated and T cell count (seq unreliable)\n",
    "                '7678'} # due low nucleated and T cell count (seq unreliable)"
   ]
  },
  {
   "cell_type": "code",
   "execution_count": 11,
   "metadata": {},
   "outputs": [],
   "source": [
    "def restart_dict(mdata):\n",
    "    \n",
    "    data_dict = {'matched_site': {}, 'non_matched_site': {}}\n",
    "    \n",
    "    for i, patient in enumerate(mdata['Subject ID']):\n",
    "\n",
    "        if str(patient) not in exc_patients:\n",
    "\n",
    "            if mdata['Site Matched'][i] == 'Y':\n",
    "                \n",
    "                data_dict['matched_site'][str(patient)] = {}\n",
    "                \n",
    "            elif mdata['Site Matched'][i] == 'N':\n",
    "                \n",
    "                data_dict['non_matched_site'][str(patient)] = {}\n",
    "                \n",
    "            else:\n",
    "                \n",
    "                raise ValueError()\n",
    "                \n",
    "    return data_dict"
   ]
  },
  {
   "cell_type": "code",
   "execution_count": 12,
   "metadata": {},
   "outputs": [],
   "source": [
    "def assign_score_to_patient(samples_data, score, data_dict):\n",
    "    \n",
    "    for i, sample in enumerate(samples_data['Sample ID']):\n",
    "\n",
    "        patient = str(samples_data['Subject ID'][i])\n",
    "\n",
    "        if patient not in exc_patients:\n",
    "\n",
    "            for match in data_dict:\n",
    "                if patient in data_dict[match]:\n",
    "                    if sample not in data_dict[match][patient]:\n",
    "                        data_dict[match][patient][sample] = tcr_seq[score][sample]\n",
    "                    else:\n",
    "                        raise ValueError('sample already in patient')\n",
    "\n",
    "    return data_dict"
   ]
  },
  {
   "cell_type": "code",
   "execution_count": 13,
   "metadata": {},
   "outputs": [],
   "source": [
    "def matched_unmatched(data_dict):\n",
    "    \n",
    "    # matched\n",
    "    matched_pre = []\n",
    "    matched_post = []\n",
    "\n",
    "    # unmatched\n",
    "    unmatched_pre = []\n",
    "    unmatched_post = []\n",
    "\n",
    "    for site in ['matched_site','non_matched_site']:\n",
    "        for patient in data_dict[site]:\n",
    "\n",
    "            if patient != '3935':\n",
    "\n",
    "                for sample in data_dict[site][patient]:\n",
    "\n",
    "                    if 'A' in sample:\n",
    "                        if site == 'matched_site':\n",
    "                            matched_pre.append(float(data_dict[site][patient][sample]))\n",
    "                        elif site == 'non_matched_site':\n",
    "                            unmatched_pre.append(float(data_dict[site][patient][sample]))\n",
    "                    if 'B' in sample:\n",
    "                        if site == 'matched_site':\n",
    "                            matched_post.append(float(data_dict[site][patient][sample]))\n",
    "                        elif site == 'non_matched_site':\n",
    "                            unmatched_post.append(float(data_dict[site][patient][sample]))\n",
    "                            \n",
    "    return matched_pre, matched_post, unmatched_pre, unmatched_post"
   ]
  },
  {
   "cell_type": "code",
   "execution_count": 14,
   "metadata": {},
   "outputs": [],
   "source": [
    "def matched_df(a, b):\n",
    "    \n",
    "    a_b = []\n",
    "    a_b_labels = []\n",
    "    for i in range(len(a)):\n",
    "\n",
    "        ai = a[i]\n",
    "        bi = b[i]\n",
    "\n",
    "        a_b.append(ai)\n",
    "        a_b.append(bi)\n",
    "\n",
    "        a_b_labels.append('pre')\n",
    "        a_b_labels.append('post')\n",
    "    \n",
    "    data_toplot_matched = pd.DataFrame({'pre_post':pd.Series(a_b),\n",
    "                                        'pre_post_labels':pd.Series(a_b_labels)})\n",
    "    \n",
    "    return data_toplot_matched"
   ]
  },
  {
   "cell_type": "code",
   "execution_count": 15,
   "metadata": {},
   "outputs": [],
   "source": [
    "def unmatched_df(c, d):\n",
    "    \n",
    "    c_d = []\n",
    "    c_d_labels = []\n",
    "    for i in range(len(c)):\n",
    "\n",
    "        ci = c[i]\n",
    "        di = d[i]\n",
    "\n",
    "        c_d.append(ci)\n",
    "        c_d.append(di)\n",
    "\n",
    "        c_d_labels.append('pre')\n",
    "        c_d_labels.append('post')\n",
    "    \n",
    "    data_toplot_unmatched = pd.DataFrame({'pre_post':pd.Series(c_d),\n",
    "                                          'pre_post_labels':pd.Series(c_d_labels)})\n",
    "    \n",
    "    return data_toplot_unmatched"
   ]
  },
  {
   "cell_type": "code",
   "execution_count": 16,
   "metadata": {},
   "outputs": [],
   "source": [
    "def boxplot(data_toplot, ylim):\n",
    "    \n",
    "    fig, ax = plt.subplots()\n",
    "    fig.set_size_inches(3,3)\n",
    "\n",
    "    sns.violinplot(x=\"pre_post_labels\",\n",
    "                   y=\"pre_post\",\n",
    "                   data=data_toplot,\n",
    "                   inner=None,\n",
    "                   hue=\"pre_post_labels\",\n",
    "                   split=True,\n",
    "                   scale=\"count\",\n",
    "                   scale_hue=False,\n",
    "                   zorder=0)\n",
    "\n",
    "    sns.boxplot(x='pre_post_labels',\n",
    "                y=\"pre_post\",\n",
    "                data=data_toplot,\n",
    "                notch=True,\n",
    "                fliersize=0,\n",
    "                width=0.5,\n",
    "                hue=\"pre_post_labels\",\n",
    "                zorder=1)\n",
    "\n",
    "    for i,s in enumerate(data_toplot.index):\n",
    "\n",
    "        y = data_toplot['pre_post'][i]\n",
    "\n",
    "        if i%2 == 0:\n",
    "            x = -0.125\n",
    "            line = [(x,y)]\n",
    "\n",
    "        else:\n",
    "            x = 1.125\n",
    "            line.append((x,y))\n",
    "            (xs, ys) = zip(*line)\n",
    "\n",
    "            ax.add_line(Line2D(xs, ys, ls='-', linewidth=1, color='k',alpha=1,zorder=2))\n",
    "    \n",
    "    if ylim != None:\n",
    "        plt.ylim(ylim)\n",
    "        \n",
    "    #sns.despine(trim=True,offset=10)\n",
    "    ax.get_legend().remove()\n",
    "    \n",
    "    return fig"
   ]
  },
  {
   "cell_type": "markdown",
   "metadata": {},
   "source": [
    "### Statistical analysis"
   ]
  },
  {
   "cell_type": "code",
   "execution_count": 17,
   "metadata": {},
   "outputs": [],
   "source": [
    "def compare_related_samples(a,b):\n",
    "\n",
    "    normally_distr = None\n",
    "    equal_variance = None\n",
    "\n",
    "    #### Normality assumptions\n",
    "    normaltest_a = scipy.stats.mstats.normaltest(a)[1]\n",
    "    normaltest_b = scipy.stats.mstats.normaltest(b)[1]\n",
    "\n",
    "    shapiro_a = scipy.stats.shapiro(a)[1]\n",
    "    shapiro_b = scipy.stats.shapiro(b)[1]\n",
    "\n",
    "    normality = sorted([normaltest_a,normaltest_b,shapiro_a,shapiro_b])[0]\n",
    "\n",
    "    if normality <= 0.05:\n",
    "\n",
    "        normally_distr = False\n",
    "\n",
    "    else:\n",
    "\n",
    "        normally_distr = True\n",
    "\n",
    "    #### Equal variance\n",
    "    if normally_distr == True:\n",
    "        \n",
    "        print(\"BARTLETT\")\n",
    "\n",
    "        variance = scipy.stats.bartlett(a,b)[1]\n",
    "\n",
    "        if variance <= 0.05:\n",
    "\n",
    "            equal_variance = False\n",
    "\n",
    "        else:\n",
    "\n",
    "            equal_variance = True\n",
    "            \n",
    "    else:\n",
    "        print(\"LEVENE\")\n",
    "        variance = scipy.stats.levene(a,b)[1]\n",
    "\n",
    "        if variance <= 0.05:\n",
    "\n",
    "            equal_variance = False\n",
    "\n",
    "        else:\n",
    "\n",
    "            equal_variance = True\n",
    "\n",
    "    #### Comparison test\n",
    "    if normally_distr == True and equal_variance == True:\n",
    "\n",
    "        print(\"PAIRED T-TEST\")\n",
    "        p_val = scipy.stats.ttest_rel(a,b)[1]\n",
    "\n",
    "    else:\n",
    "\n",
    "        print(\"WILCOXON\")\n",
    "        p_val = scipy.stats.wilcoxon(a,b)[1]\n",
    "        \n",
    "    return \"normal data:\",normally_distr,\"equal_variance:\",equal_variance,\"significance:\",p_val,\"n=\",len(a)+len(b)"
   ]
  },
  {
   "cell_type": "code",
   "execution_count": 18,
   "metadata": {},
   "outputs": [],
   "source": [
    "def compare_batches(a , b):\n",
    "    \n",
    "    normally_distr = None\n",
    "    equal_variance = None\n",
    "\n",
    "    #### Normality assumptions\n",
    "    normaltest_a = scipy.stats.mstats.normaltest(a)[1]\n",
    "    normaltest_b = scipy.stats.mstats.normaltest(b)[1]\n",
    "\n",
    "    shapiro_a = scipy.stats.shapiro(a)[1]\n",
    "    shapiro_b = scipy.stats.shapiro(b)[1]\n",
    "\n",
    "    normality = sorted([normaltest_a,normaltest_b,shapiro_a,shapiro_b])[0]\n",
    "\n",
    "    if normality <= 0.05:\n",
    "\n",
    "        normally_distr = False\n",
    "\n",
    "    else:\n",
    "\n",
    "        normally_distr = True\n",
    "\n",
    "    #### Equal variance\n",
    "    if normally_distr == True:\n",
    "        \n",
    "        print(\"BARTLETT\")\n",
    "        variance = scipy.stats.bartlett(a,b)[1]\n",
    "\n",
    "        if variance <= 0.05:\n",
    "\n",
    "            equal_variance = False\n",
    "\n",
    "        else:\n",
    "\n",
    "            equal_variance = True\n",
    "            \n",
    "    else:\n",
    "        print(\"LEVENE\")\n",
    "        variance = scipy.stats.levene(a,b)[1]\n",
    "\n",
    "        if variance <= 0.05:\n",
    "\n",
    "            equal_variance = False\n",
    "\n",
    "        else:\n",
    "\n",
    "            equal_variance = True\n",
    "\n",
    "    #### Comparison test\n",
    "    if normally_distr == True:\n",
    "        \n",
    "        if equal_variance == True:\n",
    "            \n",
    "            print(\"PAIRED T-TEST\")\n",
    "            p_val = scipy.stats.ttest_ind(a, b, equal_var=True)[1]\n",
    "            \n",
    "        else:\n",
    "            \n",
    "            print(\"WILCOXON\")\n",
    "            p_val = scipy.stats.ttest_ind(a, b, equal_var=False)[1]\n",
    "\n",
    "    else:\n",
    "        print(\"MANN-WHITNEY\")\n",
    "        p_val = scipy.stats.mannwhitneyu(a,b,alternative=\"two-sided\")[1]\n",
    "        \n",
    "    return \"normal data:\",normally_distr,\"equal_variance:\",equal_variance,\"significance:\",p_val"
   ]
  },
  {
   "cell_type": "markdown",
   "metadata": {},
   "source": [
    "## Fraction T Cells of Nucleated Cells\n",
    "\n",
    "<b>\n",
    "Fraction T Cells of Nucleated Cells </b>\n",
    "<p>\n",
    "The fraction of T cells within the total nucleated cell count (T cells and non-T cells). This value is calculated by dividing the number of Productive Templates by Nucleated Cells (a measure based on the amplification of reference gene primers rather than DNA absorbance).</p>\n",
    "\n",
    "<b>\n",
    "Nucleated Cells </b>\n",
    "<p>\n",
    "The total number of nucleated cells (includes immune and other cells). This value is based on the amplification of reference gene primers in the assay.\n",
    "\n",
    "</p>"
   ]
  },
  {
   "cell_type": "code",
   "execution_count": 19,
   "metadata": {},
   "outputs": [],
   "source": [
    "data_dict = restart_dict(sample_labels)"
   ]
  },
  {
   "cell_type": "code",
   "execution_count": 20,
   "metadata": {},
   "outputs": [],
   "source": [
    "score = \"fraction_t_cells_of_nucleated_cells\""
   ]
  },
  {
   "cell_type": "code",
   "execution_count": 21,
   "metadata": {},
   "outputs": [],
   "source": [
    "data_dict = assign_score_to_patient(sample_labels, score, data_dict)"
   ]
  },
  {
   "cell_type": "code",
   "execution_count": 22,
   "metadata": {},
   "outputs": [],
   "source": [
    "matched_pre, matched_post, unmatched_pre, unmatched_post = matched_unmatched(data_dict)"
   ]
  },
  {
   "cell_type": "code",
   "execution_count": 23,
   "metadata": {},
   "outputs": [],
   "source": [
    "matched_TcellFraction = matched_df(matched_pre, matched_post)"
   ]
  },
  {
   "cell_type": "code",
   "execution_count": 24,
   "metadata": {},
   "outputs": [],
   "source": [
    "unmatched_TcellFraction = unmatched_df(unmatched_pre, unmatched_post)"
   ]
  },
  {
   "cell_type": "code",
   "execution_count": 25,
   "metadata": {},
   "outputs": [
    {
     "data": {
      "text/html": [
       "<div>\n",
       "<style scoped>\n",
       "    .dataframe tbody tr th:only-of-type {\n",
       "        vertical-align: middle;\n",
       "    }\n",
       "\n",
       "    .dataframe tbody tr th {\n",
       "        vertical-align: top;\n",
       "    }\n",
       "\n",
       "    .dataframe thead th {\n",
       "        text-align: right;\n",
       "    }\n",
       "</style>\n",
       "<table border=\"1\" class=\"dataframe\">\n",
       "  <thead>\n",
       "    <tr style=\"text-align: right;\">\n",
       "      <th></th>\n",
       "      <th>pre_post</th>\n",
       "      <th>pre_post_labels</th>\n",
       "    </tr>\n",
       "  </thead>\n",
       "  <tbody>\n",
       "    <tr>\n",
       "      <th>0</th>\n",
       "      <td>0.009942</td>\n",
       "      <td>pre</td>\n",
       "    </tr>\n",
       "    <tr>\n",
       "      <th>1</th>\n",
       "      <td>0.057733</td>\n",
       "      <td>post</td>\n",
       "    </tr>\n",
       "    <tr>\n",
       "      <th>2</th>\n",
       "      <td>0.148697</td>\n",
       "      <td>pre</td>\n",
       "    </tr>\n",
       "    <tr>\n",
       "      <th>3</th>\n",
       "      <td>0.223224</td>\n",
       "      <td>post</td>\n",
       "    </tr>\n",
       "    <tr>\n",
       "      <th>4</th>\n",
       "      <td>0.580096</td>\n",
       "      <td>pre</td>\n",
       "    </tr>\n",
       "    <tr>\n",
       "      <th>5</th>\n",
       "      <td>0.259682</td>\n",
       "      <td>post</td>\n",
       "    </tr>\n",
       "    <tr>\n",
       "      <th>6</th>\n",
       "      <td>0.008012</td>\n",
       "      <td>pre</td>\n",
       "    </tr>\n",
       "    <tr>\n",
       "      <th>7</th>\n",
       "      <td>0.046783</td>\n",
       "      <td>post</td>\n",
       "    </tr>\n",
       "    <tr>\n",
       "      <th>8</th>\n",
       "      <td>0.077409</td>\n",
       "      <td>pre</td>\n",
       "    </tr>\n",
       "    <tr>\n",
       "      <th>9</th>\n",
       "      <td>0.133679</td>\n",
       "      <td>post</td>\n",
       "    </tr>\n",
       "    <tr>\n",
       "      <th>10</th>\n",
       "      <td>0.050057</td>\n",
       "      <td>pre</td>\n",
       "    </tr>\n",
       "    <tr>\n",
       "      <th>11</th>\n",
       "      <td>0.114364</td>\n",
       "      <td>post</td>\n",
       "    </tr>\n",
       "    <tr>\n",
       "      <th>12</th>\n",
       "      <td>0.113947</td>\n",
       "      <td>pre</td>\n",
       "    </tr>\n",
       "    <tr>\n",
       "      <th>13</th>\n",
       "      <td>0.113024</td>\n",
       "      <td>post</td>\n",
       "    </tr>\n",
       "    <tr>\n",
       "      <th>14</th>\n",
       "      <td>0.055193</td>\n",
       "      <td>pre</td>\n",
       "    </tr>\n",
       "    <tr>\n",
       "      <th>15</th>\n",
       "      <td>0.154926</td>\n",
       "      <td>post</td>\n",
       "    </tr>\n",
       "    <tr>\n",
       "      <th>16</th>\n",
       "      <td>0.050182</td>\n",
       "      <td>pre</td>\n",
       "    </tr>\n",
       "    <tr>\n",
       "      <th>17</th>\n",
       "      <td>0.561523</td>\n",
       "      <td>post</td>\n",
       "    </tr>\n",
       "    <tr>\n",
       "      <th>18</th>\n",
       "      <td>0.205423</td>\n",
       "      <td>pre</td>\n",
       "    </tr>\n",
       "    <tr>\n",
       "      <th>19</th>\n",
       "      <td>0.182015</td>\n",
       "      <td>post</td>\n",
       "    </tr>\n",
       "    <tr>\n",
       "      <th>20</th>\n",
       "      <td>0.425163</td>\n",
       "      <td>pre</td>\n",
       "    </tr>\n",
       "    <tr>\n",
       "      <th>21</th>\n",
       "      <td>0.384672</td>\n",
       "      <td>post</td>\n",
       "    </tr>\n",
       "    <tr>\n",
       "      <th>22</th>\n",
       "      <td>0.045213</td>\n",
       "      <td>pre</td>\n",
       "    </tr>\n",
       "    <tr>\n",
       "      <th>23</th>\n",
       "      <td>0.269280</td>\n",
       "      <td>post</td>\n",
       "    </tr>\n",
       "    <tr>\n",
       "      <th>24</th>\n",
       "      <td>0.033345</td>\n",
       "      <td>pre</td>\n",
       "    </tr>\n",
       "    <tr>\n",
       "      <th>25</th>\n",
       "      <td>0.100797</td>\n",
       "      <td>post</td>\n",
       "    </tr>\n",
       "    <tr>\n",
       "      <th>26</th>\n",
       "      <td>0.070349</td>\n",
       "      <td>pre</td>\n",
       "    </tr>\n",
       "    <tr>\n",
       "      <th>27</th>\n",
       "      <td>0.228887</td>\n",
       "      <td>post</td>\n",
       "    </tr>\n",
       "    <tr>\n",
       "      <th>28</th>\n",
       "      <td>0.292586</td>\n",
       "      <td>pre</td>\n",
       "    </tr>\n",
       "    <tr>\n",
       "      <th>29</th>\n",
       "      <td>0.283542</td>\n",
       "      <td>post</td>\n",
       "    </tr>\n",
       "    <tr>\n",
       "      <th>30</th>\n",
       "      <td>0.036647</td>\n",
       "      <td>pre</td>\n",
       "    </tr>\n",
       "    <tr>\n",
       "      <th>31</th>\n",
       "      <td>0.136767</td>\n",
       "      <td>post</td>\n",
       "    </tr>\n",
       "  </tbody>\n",
       "</table>\n",
       "</div>"
      ],
      "text/plain": [
       "    pre_post pre_post_labels\n",
       "0   0.009942             pre\n",
       "1   0.057733            post\n",
       "2   0.148697             pre\n",
       "3   0.223224            post\n",
       "4   0.580096             pre\n",
       "5   0.259682            post\n",
       "6   0.008012             pre\n",
       "7   0.046783            post\n",
       "8   0.077409             pre\n",
       "9   0.133679            post\n",
       "10  0.050057             pre\n",
       "11  0.114364            post\n",
       "12  0.113947             pre\n",
       "13  0.113024            post\n",
       "14  0.055193             pre\n",
       "15  0.154926            post\n",
       "16  0.050182             pre\n",
       "17  0.561523            post\n",
       "18  0.205423             pre\n",
       "19  0.182015            post\n",
       "20  0.425163             pre\n",
       "21  0.384672            post\n",
       "22  0.045213             pre\n",
       "23  0.269280            post\n",
       "24  0.033345             pre\n",
       "25  0.100797            post\n",
       "26  0.070349             pre\n",
       "27  0.228887            post\n",
       "28  0.292586             pre\n",
       "29  0.283542            post\n",
       "30  0.036647             pre\n",
       "31  0.136767            post"
      ]
     },
     "execution_count": 25,
     "metadata": {},
     "output_type": "execute_result"
    }
   ],
   "source": [
    "matched_TcellFraction"
   ]
  },
  {
   "cell_type": "code",
   "execution_count": 26,
   "metadata": {},
   "outputs": [
    {
     "data": {
      "image/png": "[encoded data removed]",
      "text/plain": [
       "<Figure size 216x216 with 1 Axes>"
      ]
     },
     "metadata": {},
     "output_type": "display_data"
    }
   ],
   "source": [
    "fig = boxplot(matched_TcellFraction, ylim=[-0,1])"
   ]
  },
  {
   "cell_type": "code",
   "execution_count": 27,
   "metadata": {},
   "outputs": [
    {
     "name": "stdout",
     "output_type": "stream",
     "text": [
      "LEVENE\n",
      "WILCOXON\n"
     ]
    },
    {
     "name": "stderr",
     "output_type": "stream",
     "text": [
      "/anaconda3/lib/python3.6/site-packages/scipy/stats/mstats_basic.py:2469: UserWarning: kurtosistest only valid for n>=20 ... continuing anyway, n=16\n",
      "  np.min(n))\n",
      "/anaconda3/lib/python3.6/site-packages/scipy/stats/mstats_basic.py:2469: UserWarning: kurtosistest only valid for n>=20 ... continuing anyway, n=16\n",
      "  np.min(n))\n"
     ]
    },
    {
     "data": {
      "text/plain": [
       "('normal data:',\n",
       " False,\n",
       " 'equal_variance:',\n",
       " True,\n",
       " 'significance:',\n",
       " 0.029873144019229032,\n",
       " 'n=',\n",
       " 32)"
      ]
     },
     "execution_count": 27,
     "metadata": {},
     "output_type": "execute_result"
    }
   ],
   "source": [
    "compare_related_samples(matched_pre, matched_post)"
   ]
  },
  {
   "cell_type": "code",
   "execution_count": 29,
   "metadata": {},
   "outputs": [],
   "source": [
    "fig.savefig('../../Figures/main/7/panels/7a_NACT_paired_matched_TcellFraction_comparison.pdf')"
   ]
  },
  {
   "cell_type": "code",
   "execution_count": 30,
   "metadata": {},
   "outputs": [
    {
     "data": {
      "image/png": "[encoded data removed]",
      "text/plain": [
       "<Figure size 216x216 with 1 Axes>"
      ]
     },
     "metadata": {},
     "output_type": "display_data"
    }
   ],
   "source": [
    "fig = boxplot(unmatched_TcellFraction, ylim=[0,1])"
   ]
  },
  {
   "cell_type": "code",
   "execution_count": 31,
   "metadata": {},
   "outputs": [
    {
     "name": "stdout",
     "output_type": "stream",
     "text": [
      "LEVENE\n",
      "WILCOXON\n"
     ]
    },
    {
     "data": {
      "text/plain": [
       "('normal data:',\n",
       " False,\n",
       " 'equal_variance:',\n",
       " True,\n",
       " 'significance:',\n",
       " 0.04955245211417102,\n",
       " 'n=',\n",
       " 42)"
      ]
     },
     "execution_count": 31,
     "metadata": {},
     "output_type": "execute_result"
    }
   ],
   "source": [
    "compare_related_samples(unmatched_pre, unmatched_post)"
   ]
  },
  {
   "cell_type": "code",
   "execution_count": 32,
   "metadata": {},
   "outputs": [],
   "source": [
    "fig.savefig('../../Figures/main/7/panels/7a_NACT_paired_unmatched_TcellFraction_comparison.pdf')"
   ]
  },
  {
   "cell_type": "markdown",
   "metadata": {},
   "source": [
    "### Compare batches"
   ]
  },
  {
   "cell_type": "code",
   "execution_count": 33,
   "metadata": {},
   "outputs": [
    {
     "name": "stdout",
     "output_type": "stream",
     "text": [
      "LEVENE\n",
      "MANN-WHITNEY\n"
     ]
    },
    {
     "name": "stderr",
     "output_type": "stream",
     "text": [
      "/anaconda3/lib/python3.6/site-packages/scipy/stats/mstats_basic.py:2469: UserWarning: kurtosistest only valid for n>=20 ... continuing anyway, n=16\n",
      "  np.min(n))\n"
     ]
    },
    {
     "data": {
      "text/plain": [
       "('normal data:',\n",
       " False,\n",
       " 'equal_variance:',\n",
       " True,\n",
       " 'significance:',\n",
       " 0.4903314427479487)"
      ]
     },
     "execution_count": 33,
     "metadata": {},
     "output_type": "execute_result"
    }
   ],
   "source": [
    "compare_batches(matched_pre, unmatched_pre)"
   ]
  },
  {
   "cell_type": "code",
   "execution_count": 34,
   "metadata": {},
   "outputs": [
    {
     "name": "stdout",
     "output_type": "stream",
     "text": [
      "LEVENE\n",
      "MANN-WHITNEY\n"
     ]
    },
    {
     "name": "stderr",
     "output_type": "stream",
     "text": [
      "/anaconda3/lib/python3.6/site-packages/scipy/stats/mstats_basic.py:2469: UserWarning: kurtosistest only valid for n>=20 ... continuing anyway, n=16\n",
      "  np.min(n))\n"
     ]
    },
    {
     "data": {
      "text/plain": [
       "('normal data:',\n",
       " False,\n",
       " 'equal_variance:',\n",
       " True,\n",
       " 'significance:',\n",
       " 7.184934096641021e-05)"
      ]
     },
     "execution_count": 34,
     "metadata": {},
     "output_type": "execute_result"
    }
   ],
   "source": [
    "compare_batches(matched_post, unmatched_post)"
   ]
  },
  {
   "cell_type": "code",
   "execution_count": 35,
   "metadata": {},
   "outputs": [],
   "source": [
    "def boxplot2(data_toplot, score, ylim=None):\n",
    "    \n",
    "    fig, ax = plt.subplots()\n",
    "    fig.set_size_inches(3,3)\n",
    "\n",
    "    sns.violinplot(x=\"Matched\",\n",
    "                   y=score,\n",
    "                   data=data_toplot,\n",
    "                   inner=None,\n",
    "                   hue=\"Matched\",\n",
    "                   split=False,\n",
    "                   scale=\"count\",\n",
    "                   scale_hue=False,\n",
    "                   zorder=0)\n",
    "\n",
    "    sns.boxplot(x='Matched',\n",
    "                y=score,\n",
    "                data=data_toplot,\n",
    "                notch=True,\n",
    "                fliersize=0,\n",
    "                width=0.5,\n",
    "                hue=\"Matched\",\n",
    "                zorder=1,\n",
    "                whis=0)\n",
    "\n",
    "    \n",
    "    \n",
    "    if ylim != None:\n",
    "        plt.ylim(ylim)\n",
    "        \n",
    "    #sns.despine(trim=True,offset=10)\n",
    "    ax.get_legend().remove()\n",
    "    \n",
    "    return fig"
   ]
  },
  {
   "cell_type": "code",
   "execution_count": 36,
   "metadata": {},
   "outputs": [
    {
     "name": "stderr",
     "output_type": "stream",
     "text": [
      "/anaconda3/lib/python3.6/site-packages/ipykernel_launcher.py:2: SettingWithCopyWarning: \n",
      "A value is trying to be set on a copy of a slice from a DataFrame.\n",
      "Try using .loc[row_indexer,col_indexer] = value instead\n",
      "\n",
      "See the caveats in the documentation: http://pandas.pydata.org/pandas-docs/stable/indexing.html#indexing-view-versus-copy\n",
      "  \n"
     ]
    },
    {
     "data": {
      "text/html": [
       "<div>\n",
       "<style scoped>\n",
       "    .dataframe tbody tr th:only-of-type {\n",
       "        vertical-align: middle;\n",
       "    }\n",
       "\n",
       "    .dataframe tbody tr th {\n",
       "        vertical-align: top;\n",
       "    }\n",
       "\n",
       "    .dataframe thead th {\n",
       "        text-align: right;\n",
       "    }\n",
       "</style>\n",
       "<table border=\"1\" class=\"dataframe\">\n",
       "  <thead>\n",
       "    <tr style=\"text-align: right;\">\n",
       "      <th></th>\n",
       "      <th>pre_post</th>\n",
       "      <th>pre_post_labels</th>\n",
       "      <th>Matched</th>\n",
       "    </tr>\n",
       "  </thead>\n",
       "  <tbody>\n",
       "    <tr>\n",
       "      <th>1</th>\n",
       "      <td>0.057733</td>\n",
       "      <td>post</td>\n",
       "      <td>Matched</td>\n",
       "    </tr>\n",
       "    <tr>\n",
       "      <th>3</th>\n",
       "      <td>0.223224</td>\n",
       "      <td>post</td>\n",
       "      <td>Matched</td>\n",
       "    </tr>\n",
       "    <tr>\n",
       "      <th>5</th>\n",
       "      <td>0.259682</td>\n",
       "      <td>post</td>\n",
       "      <td>Matched</td>\n",
       "    </tr>\n",
       "    <tr>\n",
       "      <th>7</th>\n",
       "      <td>0.046783</td>\n",
       "      <td>post</td>\n",
       "      <td>Matched</td>\n",
       "    </tr>\n",
       "    <tr>\n",
       "      <th>9</th>\n",
       "      <td>0.133679</td>\n",
       "      <td>post</td>\n",
       "      <td>Matched</td>\n",
       "    </tr>\n",
       "  </tbody>\n",
       "</table>\n",
       "</div>"
      ],
      "text/plain": [
       "   pre_post pre_post_labels  Matched\n",
       "1  0.057733            post  Matched\n",
       "3  0.223224            post  Matched\n",
       "5  0.259682            post  Matched\n",
       "7  0.046783            post  Matched\n",
       "9  0.133679            post  Matched"
      ]
     },
     "execution_count": 36,
     "metadata": {},
     "output_type": "execute_result"
    }
   ],
   "source": [
    "matched_df2 = matched_TcellFraction[matched_TcellFraction[\"pre_post_labels\"] == \"post\"]\n",
    "matched_df2[\"Matched\"] = \"Matched\"\n",
    "matched_df2.head()"
   ]
  },
  {
   "cell_type": "code",
   "execution_count": 37,
   "metadata": {},
   "outputs": [
    {
     "name": "stderr",
     "output_type": "stream",
     "text": [
      "/anaconda3/lib/python3.6/site-packages/ipykernel_launcher.py:2: SettingWithCopyWarning: \n",
      "A value is trying to be set on a copy of a slice from a DataFrame.\n",
      "Try using .loc[row_indexer,col_indexer] = value instead\n",
      "\n",
      "See the caveats in the documentation: http://pandas.pydata.org/pandas-docs/stable/indexing.html#indexing-view-versus-copy\n",
      "  \n"
     ]
    },
    {
     "data": {
      "text/html": [
       "<div>\n",
       "<style scoped>\n",
       "    .dataframe tbody tr th:only-of-type {\n",
       "        vertical-align: middle;\n",
       "    }\n",
       "\n",
       "    .dataframe tbody tr th {\n",
       "        vertical-align: top;\n",
       "    }\n",
       "\n",
       "    .dataframe thead th {\n",
       "        text-align: right;\n",
       "    }\n",
       "</style>\n",
       "<table border=\"1\" class=\"dataframe\">\n",
       "  <thead>\n",
       "    <tr style=\"text-align: right;\">\n",
       "      <th></th>\n",
       "      <th>pre_post</th>\n",
       "      <th>pre_post_labels</th>\n",
       "      <th>Matched</th>\n",
       "    </tr>\n",
       "  </thead>\n",
       "  <tbody>\n",
       "    <tr>\n",
       "      <th>1</th>\n",
       "      <td>0.029426</td>\n",
       "      <td>post</td>\n",
       "      <td>Unmatched</td>\n",
       "    </tr>\n",
       "    <tr>\n",
       "      <th>3</th>\n",
       "      <td>0.029159</td>\n",
       "      <td>post</td>\n",
       "      <td>Unmatched</td>\n",
       "    </tr>\n",
       "    <tr>\n",
       "      <th>5</th>\n",
       "      <td>0.016002</td>\n",
       "      <td>post</td>\n",
       "      <td>Unmatched</td>\n",
       "    </tr>\n",
       "    <tr>\n",
       "      <th>7</th>\n",
       "      <td>0.044182</td>\n",
       "      <td>post</td>\n",
       "      <td>Unmatched</td>\n",
       "    </tr>\n",
       "    <tr>\n",
       "      <th>9</th>\n",
       "      <td>0.016517</td>\n",
       "      <td>post</td>\n",
       "      <td>Unmatched</td>\n",
       "    </tr>\n",
       "  </tbody>\n",
       "</table>\n",
       "</div>"
      ],
      "text/plain": [
       "   pre_post pre_post_labels    Matched\n",
       "1  0.029426            post  Unmatched\n",
       "3  0.029159            post  Unmatched\n",
       "5  0.016002            post  Unmatched\n",
       "7  0.044182            post  Unmatched\n",
       "9  0.016517            post  Unmatched"
      ]
     },
     "execution_count": 37,
     "metadata": {},
     "output_type": "execute_result"
    }
   ],
   "source": [
    "unmatched_df2 = unmatched_TcellFraction[unmatched_TcellFraction[\"pre_post_labels\"] == \"post\"]\n",
    "unmatched_df2[\"Matched\"] = \"Unmatched\"\n",
    "unmatched_df2.head()"
   ]
  },
  {
   "cell_type": "code",
   "execution_count": 38,
   "metadata": {},
   "outputs": [
    {
     "data": {
      "text/html": [
       "<div>\n",
       "<style scoped>\n",
       "    .dataframe tbody tr th:only-of-type {\n",
       "        vertical-align: middle;\n",
       "    }\n",
       "\n",
       "    .dataframe tbody tr th {\n",
       "        vertical-align: top;\n",
       "    }\n",
       "\n",
       "    .dataframe thead th {\n",
       "        text-align: right;\n",
       "    }\n",
       "</style>\n",
       "<table border=\"1\" class=\"dataframe\">\n",
       "  <thead>\n",
       "    <tr style=\"text-align: right;\">\n",
       "      <th></th>\n",
       "      <th>Fraction_of_Tcells</th>\n",
       "      <th>pre_post_labels</th>\n",
       "      <th>Matched</th>\n",
       "    </tr>\n",
       "  </thead>\n",
       "  <tbody>\n",
       "    <tr>\n",
       "      <th>1</th>\n",
       "      <td>0.057733</td>\n",
       "      <td>post</td>\n",
       "      <td>Matched</td>\n",
       "    </tr>\n",
       "    <tr>\n",
       "      <th>3</th>\n",
       "      <td>0.223224</td>\n",
       "      <td>post</td>\n",
       "      <td>Matched</td>\n",
       "    </tr>\n",
       "    <tr>\n",
       "      <th>5</th>\n",
       "      <td>0.259682</td>\n",
       "      <td>post</td>\n",
       "      <td>Matched</td>\n",
       "    </tr>\n",
       "    <tr>\n",
       "      <th>7</th>\n",
       "      <td>0.046783</td>\n",
       "      <td>post</td>\n",
       "      <td>Matched</td>\n",
       "    </tr>\n",
       "    <tr>\n",
       "      <th>9</th>\n",
       "      <td>0.133679</td>\n",
       "      <td>post</td>\n",
       "      <td>Matched</td>\n",
       "    </tr>\n",
       "  </tbody>\n",
       "</table>\n",
       "</div>"
      ],
      "text/plain": [
       "   Fraction_of_Tcells pre_post_labels  Matched\n",
       "1            0.057733            post  Matched\n",
       "3            0.223224            post  Matched\n",
       "5            0.259682            post  Matched\n",
       "7            0.046783            post  Matched\n",
       "9            0.133679            post  Matched"
      ]
     },
     "execution_count": 38,
     "metadata": {},
     "output_type": "execute_result"
    }
   ],
   "source": [
    "df = matched_df2.append(unmatched_df2)\n",
    "\n",
    "df.rename(columns={\"pre_post\": \"Fraction_of_Tcells\"}, inplace=True)\n",
    "\n",
    "df.head()"
   ]
  },
  {
   "cell_type": "code",
   "execution_count": 39,
   "metadata": {},
   "outputs": [
    {
     "data": {
      "image/png": "[encoded data removed]",
      "text/plain": [
       "<Figure size 216x216 with 1 Axes>"
      ]
     },
     "metadata": {},
     "output_type": "display_data"
    }
   ],
   "source": [
    "fig = boxplot2(df, \"Fraction_of_Tcells\", ylim=[0,1])"
   ]
  },
  {
   "cell_type": "code",
   "execution_count": 40,
   "metadata": {},
   "outputs": [],
   "source": [
    "fig.savefig(\"../../Figures/supplementary/7/panels/s7c_postNACT_TcellFraction.pdf\")"
   ]
  },
  {
   "cell_type": "code",
   "execution_count": 41,
   "metadata": {},
   "outputs": [
    {
     "data": {
      "text/plain": [
       "21"
      ]
     },
     "execution_count": 41,
     "metadata": {},
     "output_type": "execute_result"
    }
   ],
   "source": [
    "len(df[df.Matched == \"Unmatched\"])"
   ]
  },
  {
   "cell_type": "markdown",
   "metadata": {},
   "source": [
    "## Productive clonality\n",
    "\n",
    "<p>\n",
    "Clonality measure for the sample calculated over all Productive Rearrangements. </p>\n",
    "\n",
    "<p>\n",
    "Values for clonality range from 0 to 1. Values near 1 represent samples with one or a few predominant rearrangements (monoclonal or oligoclonal samples) dominating the observed repertoire. Clonality values near 0 represent more polyclonal samples.</p>\n",
    "\n",
    "<p>\n",
    "Productive Clonality is calculated by normalizing Productive Entropy using the total number of unique Productive Rearrangements and subtracting the result from 1.</p>\n"
   ]
  },
  {
   "cell_type": "code",
   "execution_count": 42,
   "metadata": {},
   "outputs": [],
   "source": [
    "data_dict = restart_dict(sample_labels)"
   ]
  },
  {
   "cell_type": "code",
   "execution_count": 43,
   "metadata": {},
   "outputs": [],
   "source": [
    "score = \"productive_clonality\""
   ]
  },
  {
   "cell_type": "code",
   "execution_count": 44,
   "metadata": {},
   "outputs": [],
   "source": [
    "data_dict = assign_score_to_patient(sample_labels, score, data_dict)"
   ]
  },
  {
   "cell_type": "code",
   "execution_count": 45,
   "metadata": {},
   "outputs": [],
   "source": [
    "matched_pre, matched_post, unmatched_pre, unmatched_post = matched_unmatched(data_dict)"
   ]
  },
  {
   "cell_type": "code",
   "execution_count": 46,
   "metadata": {},
   "outputs": [],
   "source": [
    "matched_TcellProdClonality = matched_df(matched_pre, matched_post)"
   ]
  },
  {
   "cell_type": "code",
   "execution_count": 47,
   "metadata": {},
   "outputs": [],
   "source": [
    "unmatched_TcellProdClonality = unmatched_df(unmatched_pre, unmatched_post)"
   ]
  },
  {
   "cell_type": "code",
   "execution_count": 48,
   "metadata": {},
   "outputs": [
    {
     "data": {
      "image/png": "[encoded data removed]",
      "text/plain": [
       "<Figure size 216x216 with 1 Axes>"
      ]
     },
     "metadata": {},
     "output_type": "display_data"
    }
   ],
   "source": [
    "fig = boxplot(matched_TcellProdClonality, ylim=[0,0.5])"
   ]
  },
  {
   "cell_type": "code",
   "execution_count": 49,
   "metadata": {},
   "outputs": [
    {
     "name": "stdout",
     "output_type": "stream",
     "text": [
      "BARTLETT\n",
      "PAIRED T-TEST\n"
     ]
    },
    {
     "name": "stderr",
     "output_type": "stream",
     "text": [
      "/anaconda3/lib/python3.6/site-packages/scipy/stats/mstats_basic.py:2469: UserWarning: kurtosistest only valid for n>=20 ... continuing anyway, n=16\n",
      "  np.min(n))\n",
      "/anaconda3/lib/python3.6/site-packages/scipy/stats/mstats_basic.py:2469: UserWarning: kurtosistest only valid for n>=20 ... continuing anyway, n=16\n",
      "  np.min(n))\n"
     ]
    },
    {
     "data": {
      "text/plain": [
       "('normal data:',\n",
       " True,\n",
       " 'equal_variance:',\n",
       " True,\n",
       " 'significance:',\n",
       " 0.0010924190209392406,\n",
       " 'n=',\n",
       " 32)"
      ]
     },
     "execution_count": 49,
     "metadata": {},
     "output_type": "execute_result"
    }
   ],
   "source": [
    "compare_related_samples(matched_pre, matched_post)"
   ]
  },
  {
   "cell_type": "code",
   "execution_count": 50,
   "metadata": {},
   "outputs": [],
   "source": [
    "fig.savefig('../../Figures/main/7/panels/7a_NACT_paired_matched_TcellProdClonality_comparison.pdf')"
   ]
  },
  {
   "cell_type": "code",
   "execution_count": 51,
   "metadata": {},
   "outputs": [
    {
     "data": {
      "image/png": "[encoded data removed]",
      "text/plain": [
       "<Figure size 216x216 with 1 Axes>"
      ]
     },
     "metadata": {},
     "output_type": "display_data"
    }
   ],
   "source": [
    "fig = boxplot(unmatched_TcellProdClonality, ylim=[0,0.5])"
   ]
  },
  {
   "cell_type": "code",
   "execution_count": 52,
   "metadata": {},
   "outputs": [
    {
     "name": "stdout",
     "output_type": "stream",
     "text": [
      "LEVENE\n",
      "WILCOXON\n"
     ]
    },
    {
     "data": {
      "text/plain": [
       "('normal data:',\n",
       " False,\n",
       " 'equal_variance:',\n",
       " True,\n",
       " 'significance:',\n",
       " 0.19243418492041608,\n",
       " 'n=',\n",
       " 42)"
      ]
     },
     "execution_count": 52,
     "metadata": {},
     "output_type": "execute_result"
    }
   ],
   "source": [
    "compare_related_samples(unmatched_pre, unmatched_post)"
   ]
  },
  {
   "cell_type": "code",
   "execution_count": 53,
   "metadata": {},
   "outputs": [],
   "source": [
    "fig.savefig('../../Figures/main/7/panels/7a_NACT_paired_unmatched_TcellProdClonality_comparison.pdf')"
   ]
  },
  {
   "cell_type": "markdown",
   "metadata": {},
   "source": [
    "### Compare batches"
   ]
  },
  {
   "cell_type": "code",
   "execution_count": 54,
   "metadata": {},
   "outputs": [
    {
     "name": "stdout",
     "output_type": "stream",
     "text": [
      "LEVENE\n",
      "MANN-WHITNEY\n"
     ]
    },
    {
     "name": "stderr",
     "output_type": "stream",
     "text": [
      "/anaconda3/lib/python3.6/site-packages/scipy/stats/mstats_basic.py:2469: UserWarning: kurtosistest only valid for n>=20 ... continuing anyway, n=16\n",
      "  np.min(n))\n"
     ]
    },
    {
     "data": {
      "text/plain": [
       "('normal data:',\n",
       " False,\n",
       " 'equal_variance:',\n",
       " True,\n",
       " 'significance:',\n",
       " 0.17734130123863223)"
      ]
     },
     "execution_count": 54,
     "metadata": {},
     "output_type": "execute_result"
    }
   ],
   "source": [
    "compare_batches(matched_pre, unmatched_pre)"
   ]
  },
  {
   "cell_type": "code",
   "execution_count": 55,
   "metadata": {},
   "outputs": [
    {
     "name": "stdout",
     "output_type": "stream",
     "text": [
      "LEVENE\n",
      "MANN-WHITNEY\n"
     ]
    },
    {
     "name": "stderr",
     "output_type": "stream",
     "text": [
      "/anaconda3/lib/python3.6/site-packages/scipy/stats/mstats_basic.py:2469: UserWarning: kurtosistest only valid for n>=20 ... continuing anyway, n=16\n",
      "  np.min(n))\n"
     ]
    },
    {
     "data": {
      "text/plain": [
       "('normal data:',\n",
       " False,\n",
       " 'equal_variance:',\n",
       " True,\n",
       " 'significance:',\n",
       " 0.5098156379703556)"
      ]
     },
     "execution_count": 55,
     "metadata": {},
     "output_type": "execute_result"
    }
   ],
   "source": [
    "compare_batches(matched_post, unmatched_post)"
   ]
  },
  {
   "cell_type": "code",
   "execution_count": 56,
   "metadata": {},
   "outputs": [
    {
     "name": "stderr",
     "output_type": "stream",
     "text": [
      "/anaconda3/lib/python3.6/site-packages/ipykernel_launcher.py:2: SettingWithCopyWarning: \n",
      "A value is trying to be set on a copy of a slice from a DataFrame.\n",
      "Try using .loc[row_indexer,col_indexer] = value instead\n",
      "\n",
      "See the caveats in the documentation: http://pandas.pydata.org/pandas-docs/stable/indexing.html#indexing-view-versus-copy\n",
      "  \n"
     ]
    },
    {
     "data": {
      "text/html": [
       "<div>\n",
       "<style scoped>\n",
       "    .dataframe tbody tr th:only-of-type {\n",
       "        vertical-align: middle;\n",
       "    }\n",
       "\n",
       "    .dataframe tbody tr th {\n",
       "        vertical-align: top;\n",
       "    }\n",
       "\n",
       "    .dataframe thead th {\n",
       "        text-align: right;\n",
       "    }\n",
       "</style>\n",
       "<table border=\"1\" class=\"dataframe\">\n",
       "  <thead>\n",
       "    <tr style=\"text-align: right;\">\n",
       "      <th></th>\n",
       "      <th>pre_post</th>\n",
       "      <th>pre_post_labels</th>\n",
       "      <th>Matched</th>\n",
       "    </tr>\n",
       "  </thead>\n",
       "  <tbody>\n",
       "    <tr>\n",
       "      <th>1</th>\n",
       "      <td>0.1804</td>\n",
       "      <td>post</td>\n",
       "      <td>Matched</td>\n",
       "    </tr>\n",
       "    <tr>\n",
       "      <th>3</th>\n",
       "      <td>0.2360</td>\n",
       "      <td>post</td>\n",
       "      <td>Matched</td>\n",
       "    </tr>\n",
       "    <tr>\n",
       "      <th>5</th>\n",
       "      <td>0.1182</td>\n",
       "      <td>post</td>\n",
       "      <td>Matched</td>\n",
       "    </tr>\n",
       "    <tr>\n",
       "      <th>7</th>\n",
       "      <td>0.1470</td>\n",
       "      <td>post</td>\n",
       "      <td>Matched</td>\n",
       "    </tr>\n",
       "    <tr>\n",
       "      <th>9</th>\n",
       "      <td>0.1662</td>\n",
       "      <td>post</td>\n",
       "      <td>Matched</td>\n",
       "    </tr>\n",
       "  </tbody>\n",
       "</table>\n",
       "</div>"
      ],
      "text/plain": [
       "   pre_post pre_post_labels  Matched\n",
       "1    0.1804            post  Matched\n",
       "3    0.2360            post  Matched\n",
       "5    0.1182            post  Matched\n",
       "7    0.1470            post  Matched\n",
       "9    0.1662            post  Matched"
      ]
     },
     "execution_count": 56,
     "metadata": {},
     "output_type": "execute_result"
    }
   ],
   "source": [
    "matched_df2 = matched_TcellProdClonality[matched_TcellProdClonality[\"pre_post_labels\"] == \"post\"]\n",
    "matched_df2[\"Matched\"] = \"Matched\"\n",
    "matched_df2.head()"
   ]
  },
  {
   "cell_type": "code",
   "execution_count": 57,
   "metadata": {},
   "outputs": [
    {
     "name": "stderr",
     "output_type": "stream",
     "text": [
      "/anaconda3/lib/python3.6/site-packages/ipykernel_launcher.py:2: SettingWithCopyWarning: \n",
      "A value is trying to be set on a copy of a slice from a DataFrame.\n",
      "Try using .loc[row_indexer,col_indexer] = value instead\n",
      "\n",
      "See the caveats in the documentation: http://pandas.pydata.org/pandas-docs/stable/indexing.html#indexing-view-versus-copy\n",
      "  \n"
     ]
    },
    {
     "data": {
      "text/html": [
       "<div>\n",
       "<style scoped>\n",
       "    .dataframe tbody tr th:only-of-type {\n",
       "        vertical-align: middle;\n",
       "    }\n",
       "\n",
       "    .dataframe tbody tr th {\n",
       "        vertical-align: top;\n",
       "    }\n",
       "\n",
       "    .dataframe thead th {\n",
       "        text-align: right;\n",
       "    }\n",
       "</style>\n",
       "<table border=\"1\" class=\"dataframe\">\n",
       "  <thead>\n",
       "    <tr style=\"text-align: right;\">\n",
       "      <th></th>\n",
       "      <th>pre_post</th>\n",
       "      <th>pre_post_labels</th>\n",
       "      <th>Matched</th>\n",
       "    </tr>\n",
       "  </thead>\n",
       "  <tbody>\n",
       "    <tr>\n",
       "      <th>1</th>\n",
       "      <td>0.1752</td>\n",
       "      <td>post</td>\n",
       "      <td>Unmatched</td>\n",
       "    </tr>\n",
       "    <tr>\n",
       "      <th>3</th>\n",
       "      <td>0.1794</td>\n",
       "      <td>post</td>\n",
       "      <td>Unmatched</td>\n",
       "    </tr>\n",
       "    <tr>\n",
       "      <th>5</th>\n",
       "      <td>0.1431</td>\n",
       "      <td>post</td>\n",
       "      <td>Unmatched</td>\n",
       "    </tr>\n",
       "    <tr>\n",
       "      <th>7</th>\n",
       "      <td>0.1276</td>\n",
       "      <td>post</td>\n",
       "      <td>Unmatched</td>\n",
       "    </tr>\n",
       "    <tr>\n",
       "      <th>9</th>\n",
       "      <td>0.1052</td>\n",
       "      <td>post</td>\n",
       "      <td>Unmatched</td>\n",
       "    </tr>\n",
       "  </tbody>\n",
       "</table>\n",
       "</div>"
      ],
      "text/plain": [
       "   pre_post pre_post_labels    Matched\n",
       "1    0.1752            post  Unmatched\n",
       "3    0.1794            post  Unmatched\n",
       "5    0.1431            post  Unmatched\n",
       "7    0.1276            post  Unmatched\n",
       "9    0.1052            post  Unmatched"
      ]
     },
     "execution_count": 57,
     "metadata": {},
     "output_type": "execute_result"
    }
   ],
   "source": [
    "unmatched_df2 = unmatched_TcellProdClonality[unmatched_TcellProdClonality[\"pre_post_labels\"] == \"post\"]\n",
    "unmatched_df2[\"Matched\"] = \"Unmatched\"\n",
    "unmatched_df2.head()"
   ]
  },
  {
   "cell_type": "code",
   "execution_count": 58,
   "metadata": {},
   "outputs": [
    {
     "data": {
      "text/html": [
       "<div>\n",
       "<style scoped>\n",
       "    .dataframe tbody tr th:only-of-type {\n",
       "        vertical-align: middle;\n",
       "    }\n",
       "\n",
       "    .dataframe tbody tr th {\n",
       "        vertical-align: top;\n",
       "    }\n",
       "\n",
       "    .dataframe thead th {\n",
       "        text-align: right;\n",
       "    }\n",
       "</style>\n",
       "<table border=\"1\" class=\"dataframe\">\n",
       "  <thead>\n",
       "    <tr style=\"text-align: right;\">\n",
       "      <th></th>\n",
       "      <th>TcellProdClon</th>\n",
       "      <th>pre_post_labels</th>\n",
       "      <th>Matched</th>\n",
       "    </tr>\n",
       "  </thead>\n",
       "  <tbody>\n",
       "    <tr>\n",
       "      <th>1</th>\n",
       "      <td>0.1804</td>\n",
       "      <td>post</td>\n",
       "      <td>Matched</td>\n",
       "    </tr>\n",
       "    <tr>\n",
       "      <th>3</th>\n",
       "      <td>0.2360</td>\n",
       "      <td>post</td>\n",
       "      <td>Matched</td>\n",
       "    </tr>\n",
       "    <tr>\n",
       "      <th>5</th>\n",
       "      <td>0.1182</td>\n",
       "      <td>post</td>\n",
       "      <td>Matched</td>\n",
       "    </tr>\n",
       "    <tr>\n",
       "      <th>7</th>\n",
       "      <td>0.1470</td>\n",
       "      <td>post</td>\n",
       "      <td>Matched</td>\n",
       "    </tr>\n",
       "    <tr>\n",
       "      <th>9</th>\n",
       "      <td>0.1662</td>\n",
       "      <td>post</td>\n",
       "      <td>Matched</td>\n",
       "    </tr>\n",
       "  </tbody>\n",
       "</table>\n",
       "</div>"
      ],
      "text/plain": [
       "   TcellProdClon pre_post_labels  Matched\n",
       "1         0.1804            post  Matched\n",
       "3         0.2360            post  Matched\n",
       "5         0.1182            post  Matched\n",
       "7         0.1470            post  Matched\n",
       "9         0.1662            post  Matched"
      ]
     },
     "execution_count": 58,
     "metadata": {},
     "output_type": "execute_result"
    }
   ],
   "source": [
    "df = matched_df2.append(unmatched_df2)\n",
    "\n",
    "df.rename(columns={\"pre_post\": \"TcellProdClon\"}, inplace=True)\n",
    "\n",
    "df.head()"
   ]
  },
  {
   "cell_type": "code",
   "execution_count": 59,
   "metadata": {},
   "outputs": [
    {
     "data": {
      "image/png": "[encoded data removed]",
      "text/plain": [
       "<Figure size 216x216 with 1 Axes>"
      ]
     },
     "metadata": {},
     "output_type": "display_data"
    }
   ],
   "source": [
    "fig = boxplot2(df, \"TcellProdClon\", ylim=[0,0.5])"
   ]
  },
  {
   "cell_type": "code",
   "execution_count": 60,
   "metadata": {},
   "outputs": [],
   "source": [
    "fig.savefig(\"../../Figures/supplementary/7/panels/s7c_postNACT_TcellProdClon.pdf\")"
   ]
  },
  {
   "cell_type": "code",
   "execution_count": 61,
   "metadata": {},
   "outputs": [
    {
     "data": {
      "text/plain": [
       "21"
      ]
     },
     "execution_count": 61,
     "metadata": {},
     "output_type": "execute_result"
    }
   ],
   "source": [
    "len(df[df.Matched == \"Unmatched\"])"
   ]
  },
  {
   "cell_type": "markdown",
   "metadata": {},
   "source": [
    "## Max Productive Frequency\n",
    "\n",
    "<p>\n",
    "The maximum Productive Frequency value found within a sample.</p>\n",
    "\n",
    "<b>\n",
    "Productive Frequency </b>\n",
    "<p>\n",
    "The frequency of a specific productive rearrangement among all Productive Rearrangements within a sample. Calculated as the Templates for a specific rearrangement divided by the Sum of Productive Templates for a sample. When the counting method is v1 or v2, reads are used in place of templates to estimate this value.</p>\n",
    "\n",
    "<b>\n",
    "Templates </b>\n",
    "<p>\n",
    "The total number of templates for a specific rearrangement in the sample.</p>\n",
    "\n",
    "<p>\n",
    "Template data is not available for samples with Counting Method equal to v1.</p>\n",
    "\n",
    "<b>\n",
    "Total Productive Templates (Sum) </b>\n",
    "<p>\n",
    "The sum of template counts for all productive rearrangements in the sample. Expect this value to be different than Total T or B cells, due to rounding of template counts for individual rearrangements. This value is not available for samples with Counting Method equal to v1. When using the v2 Counting Method, contact our Technical Support team for more details.</p>"
   ]
  },
  {
   "cell_type": "code",
   "execution_count": 62,
   "metadata": {},
   "outputs": [],
   "source": [
    "data_dict = restart_dict(sample_labels)"
   ]
  },
  {
   "cell_type": "code",
   "execution_count": 63,
   "metadata": {},
   "outputs": [],
   "source": [
    "score = \"max_productive_frequency\""
   ]
  },
  {
   "cell_type": "code",
   "execution_count": 64,
   "metadata": {},
   "outputs": [],
   "source": [
    "data_dict = assign_score_to_patient(sample_labels, score, data_dict)"
   ]
  },
  {
   "cell_type": "code",
   "execution_count": 65,
   "metadata": {},
   "outputs": [],
   "source": [
    "matched_pre, matched_post, unmatched_pre, unmatched_post = matched_unmatched(data_dict)"
   ]
  },
  {
   "cell_type": "code",
   "execution_count": 66,
   "metadata": {},
   "outputs": [],
   "source": [
    "matched_MaxProdFreq = matched_df(matched_pre, matched_post)"
   ]
  },
  {
   "cell_type": "code",
   "execution_count": 67,
   "metadata": {},
   "outputs": [],
   "source": [
    "unmatched_MaxProdFreq = unmatched_df(unmatched_pre, unmatched_post)"
   ]
  },
  {
   "cell_type": "code",
   "execution_count": 68,
   "metadata": {},
   "outputs": [
    {
     "data": {
      "image/png": "[encoded data removed]",
      "text/plain": [
       "<Figure size 216x216 with 1 Axes>"
      ]
     },
     "metadata": {},
     "output_type": "display_data"
    }
   ],
   "source": [
    "fig = boxplot(matched_MaxProdFreq, ylim=[0,0.4])"
   ]
  },
  {
   "cell_type": "code",
   "execution_count": 69,
   "metadata": {},
   "outputs": [
    {
     "name": "stdout",
     "output_type": "stream",
     "text": [
      "BARTLETT\n",
      "PAIRED T-TEST\n"
     ]
    },
    {
     "name": "stderr",
     "output_type": "stream",
     "text": [
      "/anaconda3/lib/python3.6/site-packages/scipy/stats/mstats_basic.py:2469: UserWarning: kurtosistest only valid for n>=20 ... continuing anyway, n=16\n",
      "  np.min(n))\n",
      "/anaconda3/lib/python3.6/site-packages/scipy/stats/mstats_basic.py:2469: UserWarning: kurtosistest only valid for n>=20 ... continuing anyway, n=16\n",
      "  np.min(n))\n"
     ]
    },
    {
     "data": {
      "text/plain": [
       "('normal data:',\n",
       " True,\n",
       " 'equal_variance:',\n",
       " True,\n",
       " 'significance:',\n",
       " 0.42011010449144826,\n",
       " 'n=',\n",
       " 32)"
      ]
     },
     "execution_count": 69,
     "metadata": {},
     "output_type": "execute_result"
    }
   ],
   "source": [
    "compare_related_samples(matched_pre, matched_post)"
   ]
  },
  {
   "cell_type": "code",
   "execution_count": 70,
   "metadata": {},
   "outputs": [],
   "source": [
    "fig.savefig('../../Figures/main/7/panels/7a_NACT_paired_matched_MaxProdFreq_comparison.pdf')"
   ]
  },
  {
   "cell_type": "code",
   "execution_count": 71,
   "metadata": {},
   "outputs": [
    {
     "data": {
      "image/png": "[encoded data removed]",
      "text/plain": [
       "<Figure size 216x216 with 1 Axes>"
      ]
     },
     "metadata": {},
     "output_type": "display_data"
    }
   ],
   "source": [
    "fig = boxplot(unmatched_MaxProdFreq, ylim=[0,0.4])"
   ]
  },
  {
   "cell_type": "code",
   "execution_count": 72,
   "metadata": {},
   "outputs": [
    {
     "name": "stdout",
     "output_type": "stream",
     "text": [
      "LEVENE\n",
      "WILCOXON\n"
     ]
    },
    {
     "data": {
      "text/plain": [
       "('normal data:',\n",
       " False,\n",
       " 'equal_variance:',\n",
       " True,\n",
       " 'significance:',\n",
       " 0.8483946983538319,\n",
       " 'n=',\n",
       " 42)"
      ]
     },
     "execution_count": 72,
     "metadata": {},
     "output_type": "execute_result"
    }
   ],
   "source": [
    "compare_related_samples(unmatched_pre, unmatched_post)"
   ]
  },
  {
   "cell_type": "code",
   "execution_count": 73,
   "metadata": {},
   "outputs": [],
   "source": [
    "fig.savefig('../../Figures/main/7/panels/7a_NACT_paired_unmatched_MaxProdFreq_comparison.pdf')"
   ]
  },
  {
   "cell_type": "markdown",
   "metadata": {},
   "source": [
    "### Compare batches"
   ]
  },
  {
   "cell_type": "code",
   "execution_count": 74,
   "metadata": {},
   "outputs": [
    {
     "name": "stdout",
     "output_type": "stream",
     "text": [
      "LEVENE\n",
      "MANN-WHITNEY\n"
     ]
    },
    {
     "name": "stderr",
     "output_type": "stream",
     "text": [
      "/anaconda3/lib/python3.6/site-packages/scipy/stats/mstats_basic.py:2469: UserWarning: kurtosistest only valid for n>=20 ... continuing anyway, n=16\n",
      "  np.min(n))\n"
     ]
    },
    {
     "data": {
      "text/plain": [
       "('normal data:',\n",
       " False,\n",
       " 'equal_variance:',\n",
       " True,\n",
       " 'significance:',\n",
       " 0.035728644278742644)"
      ]
     },
     "execution_count": 74,
     "metadata": {},
     "output_type": "execute_result"
    }
   ],
   "source": [
    "compare_batches(matched_pre, unmatched_pre)"
   ]
  },
  {
   "cell_type": "code",
   "execution_count": 75,
   "metadata": {},
   "outputs": [
    {
     "name": "stdout",
     "output_type": "stream",
     "text": [
      "LEVENE\n",
      "MANN-WHITNEY\n"
     ]
    },
    {
     "name": "stderr",
     "output_type": "stream",
     "text": [
      "/anaconda3/lib/python3.6/site-packages/scipy/stats/mstats_basic.py:2469: UserWarning: kurtosistest only valid for n>=20 ... continuing anyway, n=16\n",
      "  np.min(n))\n"
     ]
    },
    {
     "data": {
      "text/plain": [
       "('normal data:',\n",
       " False,\n",
       " 'equal_variance:',\n",
       " True,\n",
       " 'significance:',\n",
       " 0.05156862404704739)"
      ]
     },
     "execution_count": 75,
     "metadata": {},
     "output_type": "execute_result"
    }
   ],
   "source": [
    "compare_batches(matched_post, unmatched_post)"
   ]
  },
  {
   "cell_type": "code",
   "execution_count": 76,
   "metadata": {},
   "outputs": [
    {
     "data": {
      "text/plain": [
       "21"
      ]
     },
     "execution_count": 76,
     "metadata": {},
     "output_type": "execute_result"
    }
   ],
   "source": [
    "len(unmatched_post)"
   ]
  },
  {
   "cell_type": "code",
   "execution_count": 77,
   "metadata": {},
   "outputs": [
    {
     "name": "stderr",
     "output_type": "stream",
     "text": [
      "/anaconda3/lib/python3.6/site-packages/ipykernel_launcher.py:2: SettingWithCopyWarning: \n",
      "A value is trying to be set on a copy of a slice from a DataFrame.\n",
      "Try using .loc[row_indexer,col_indexer] = value instead\n",
      "\n",
      "See the caveats in the documentation: http://pandas.pydata.org/pandas-docs/stable/indexing.html#indexing-view-versus-copy\n",
      "  \n"
     ]
    },
    {
     "data": {
      "text/html": [
       "<div>\n",
       "<style scoped>\n",
       "    .dataframe tbody tr th:only-of-type {\n",
       "        vertical-align: middle;\n",
       "    }\n",
       "\n",
       "    .dataframe tbody tr th {\n",
       "        vertical-align: top;\n",
       "    }\n",
       "\n",
       "    .dataframe thead th {\n",
       "        text-align: right;\n",
       "    }\n",
       "</style>\n",
       "<table border=\"1\" class=\"dataframe\">\n",
       "  <thead>\n",
       "    <tr style=\"text-align: right;\">\n",
       "      <th></th>\n",
       "      <th>pre_post</th>\n",
       "      <th>pre_post_labels</th>\n",
       "      <th>Matched</th>\n",
       "    </tr>\n",
       "  </thead>\n",
       "  <tbody>\n",
       "    <tr>\n",
       "      <th>1</th>\n",
       "      <td>0.049055</td>\n",
       "      <td>post</td>\n",
       "      <td>Matched</td>\n",
       "    </tr>\n",
       "    <tr>\n",
       "      <th>3</th>\n",
       "      <td>0.074201</td>\n",
       "      <td>post</td>\n",
       "      <td>Matched</td>\n",
       "    </tr>\n",
       "    <tr>\n",
       "      <th>5</th>\n",
       "      <td>0.024536</td>\n",
       "      <td>post</td>\n",
       "      <td>Matched</td>\n",
       "    </tr>\n",
       "    <tr>\n",
       "      <th>7</th>\n",
       "      <td>0.038200</td>\n",
       "      <td>post</td>\n",
       "      <td>Matched</td>\n",
       "    </tr>\n",
       "    <tr>\n",
       "      <th>9</th>\n",
       "      <td>0.036464</td>\n",
       "      <td>post</td>\n",
       "      <td>Matched</td>\n",
       "    </tr>\n",
       "  </tbody>\n",
       "</table>\n",
       "</div>"
      ],
      "text/plain": [
       "   pre_post pre_post_labels  Matched\n",
       "1  0.049055            post  Matched\n",
       "3  0.074201            post  Matched\n",
       "5  0.024536            post  Matched\n",
       "7  0.038200            post  Matched\n",
       "9  0.036464            post  Matched"
      ]
     },
     "execution_count": 77,
     "metadata": {},
     "output_type": "execute_result"
    }
   ],
   "source": [
    "matched_df2 = matched_MaxProdFreq[matched_MaxProdFreq[\"pre_post_labels\"] == \"post\"]\n",
    "matched_df2[\"Matched\"] = \"Matched\"\n",
    "matched_df2.head()"
   ]
  },
  {
   "cell_type": "code",
   "execution_count": 78,
   "metadata": {},
   "outputs": [
    {
     "name": "stderr",
     "output_type": "stream",
     "text": [
      "/anaconda3/lib/python3.6/site-packages/ipykernel_launcher.py:2: SettingWithCopyWarning: \n",
      "A value is trying to be set on a copy of a slice from a DataFrame.\n",
      "Try using .loc[row_indexer,col_indexer] = value instead\n",
      "\n",
      "See the caveats in the documentation: http://pandas.pydata.org/pandas-docs/stable/indexing.html#indexing-view-versus-copy\n",
      "  \n"
     ]
    },
    {
     "data": {
      "text/html": [
       "<div>\n",
       "<style scoped>\n",
       "    .dataframe tbody tr th:only-of-type {\n",
       "        vertical-align: middle;\n",
       "    }\n",
       "\n",
       "    .dataframe tbody tr th {\n",
       "        vertical-align: top;\n",
       "    }\n",
       "\n",
       "    .dataframe thead th {\n",
       "        text-align: right;\n",
       "    }\n",
       "</style>\n",
       "<table border=\"1\" class=\"dataframe\">\n",
       "  <thead>\n",
       "    <tr style=\"text-align: right;\">\n",
       "      <th></th>\n",
       "      <th>pre_post</th>\n",
       "      <th>pre_post_labels</th>\n",
       "      <th>Matched</th>\n",
       "    </tr>\n",
       "  </thead>\n",
       "  <tbody>\n",
       "    <tr>\n",
       "      <th>1</th>\n",
       "      <td>0.097324</td>\n",
       "      <td>post</td>\n",
       "      <td>Unmatched</td>\n",
       "    </tr>\n",
       "    <tr>\n",
       "      <th>3</th>\n",
       "      <td>0.082473</td>\n",
       "      <td>post</td>\n",
       "      <td>Unmatched</td>\n",
       "    </tr>\n",
       "    <tr>\n",
       "      <th>5</th>\n",
       "      <td>0.185136</td>\n",
       "      <td>post</td>\n",
       "      <td>Unmatched</td>\n",
       "    </tr>\n",
       "    <tr>\n",
       "      <th>7</th>\n",
       "      <td>0.019810</td>\n",
       "      <td>post</td>\n",
       "      <td>Unmatched</td>\n",
       "    </tr>\n",
       "    <tr>\n",
       "      <th>9</th>\n",
       "      <td>0.070919</td>\n",
       "      <td>post</td>\n",
       "      <td>Unmatched</td>\n",
       "    </tr>\n",
       "  </tbody>\n",
       "</table>\n",
       "</div>"
      ],
      "text/plain": [
       "   pre_post pre_post_labels    Matched\n",
       "1  0.097324            post  Unmatched\n",
       "3  0.082473            post  Unmatched\n",
       "5  0.185136            post  Unmatched\n",
       "7  0.019810            post  Unmatched\n",
       "9  0.070919            post  Unmatched"
      ]
     },
     "execution_count": 78,
     "metadata": {},
     "output_type": "execute_result"
    }
   ],
   "source": [
    "unmatched_df2 = unmatched_MaxProdFreq[unmatched_MaxProdFreq[\"pre_post_labels\"] == \"post\"]\n",
    "unmatched_df2[\"Matched\"] = \"Unmatched\"\n",
    "unmatched_df2.head()"
   ]
  },
  {
   "cell_type": "code",
   "execution_count": 79,
   "metadata": {},
   "outputs": [
    {
     "data": {
      "text/html": [
       "<div>\n",
       "<style scoped>\n",
       "    .dataframe tbody tr th:only-of-type {\n",
       "        vertical-align: middle;\n",
       "    }\n",
       "\n",
       "    .dataframe tbody tr th {\n",
       "        vertical-align: top;\n",
       "    }\n",
       "\n",
       "    .dataframe thead th {\n",
       "        text-align: right;\n",
       "    }\n",
       "</style>\n",
       "<table border=\"1\" class=\"dataframe\">\n",
       "  <thead>\n",
       "    <tr style=\"text-align: right;\">\n",
       "      <th></th>\n",
       "      <th>MaxProdFreq</th>\n",
       "      <th>pre_post_labels</th>\n",
       "      <th>Matched</th>\n",
       "    </tr>\n",
       "  </thead>\n",
       "  <tbody>\n",
       "    <tr>\n",
       "      <th>1</th>\n",
       "      <td>0.049055</td>\n",
       "      <td>post</td>\n",
       "      <td>Matched</td>\n",
       "    </tr>\n",
       "    <tr>\n",
       "      <th>3</th>\n",
       "      <td>0.074201</td>\n",
       "      <td>post</td>\n",
       "      <td>Matched</td>\n",
       "    </tr>\n",
       "    <tr>\n",
       "      <th>5</th>\n",
       "      <td>0.024536</td>\n",
       "      <td>post</td>\n",
       "      <td>Matched</td>\n",
       "    </tr>\n",
       "    <tr>\n",
       "      <th>7</th>\n",
       "      <td>0.038200</td>\n",
       "      <td>post</td>\n",
       "      <td>Matched</td>\n",
       "    </tr>\n",
       "    <tr>\n",
       "      <th>9</th>\n",
       "      <td>0.036464</td>\n",
       "      <td>post</td>\n",
       "      <td>Matched</td>\n",
       "    </tr>\n",
       "  </tbody>\n",
       "</table>\n",
       "</div>"
      ],
      "text/plain": [
       "   MaxProdFreq pre_post_labels  Matched\n",
       "1     0.049055            post  Matched\n",
       "3     0.074201            post  Matched\n",
       "5     0.024536            post  Matched\n",
       "7     0.038200            post  Matched\n",
       "9     0.036464            post  Matched"
      ]
     },
     "execution_count": 79,
     "metadata": {},
     "output_type": "execute_result"
    }
   ],
   "source": [
    "df = matched_df2.append(unmatched_df2)\n",
    "\n",
    "df.rename(columns={\"pre_post\": \"MaxProdFreq\"}, inplace=True)\n",
    "\n",
    "df.head()"
   ]
  },
  {
   "cell_type": "code",
   "execution_count": 80,
   "metadata": {},
   "outputs": [
    {
     "data": {
      "image/png": "[encoded data removed]",
      "text/plain": [
       "<Figure size 216x216 with 1 Axes>"
      ]
     },
     "metadata": {},
     "output_type": "display_data"
    }
   ],
   "source": [
    "fig = boxplot2(df, \"MaxProdFreq\", ylim=[0,0.4])"
   ]
  },
  {
   "cell_type": "code",
   "execution_count": 81,
   "metadata": {},
   "outputs": [],
   "source": [
    "fig.savefig(\"../../Figures/main/7/panels/s7c_postNACT_MaxProdFreq.pdf\")"
   ]
  },
  {
   "cell_type": "code",
   "execution_count": 82,
   "metadata": {},
   "outputs": [
    {
     "data": {
      "text/plain": [
       "21"
      ]
     },
     "execution_count": 82,
     "metadata": {},
     "output_type": "execute_result"
    }
   ],
   "source": [
    "len(df[df.Matched == \"Unmatched\"])"
   ]
  },
  {
   "cell_type": "markdown",
   "metadata": {},
   "source": [
    "# End script"
   ]
  }
 ],
 "metadata": {
  "kernelspec": {
   "display_name": "Python 3",
   "language": "python",
   "name": "python3"
  },
  "language_info": {
   "codemirror_mode": {
    "name": "ipython",
    "version": 3
   },
   "file_extension": ".py",
   "mimetype": "text/x-python",
   "name": "python",
   "nbconvert_exporter": "python",
   "pygments_lexer": "ipython3",
   "version": "3.6.8"
  }
 },
 "nbformat": 4,
 "nbformat_minor": 2
}

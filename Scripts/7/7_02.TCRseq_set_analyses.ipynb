{
 "cells": [
  {
   "cell_type": "markdown",
   "metadata": {},
   "source": [
    "# TCRseq set sequence analysis"
   ]
  },
  {
   "cell_type": "markdown",
   "metadata": {},
   "source": [
    "Script related to figures 7b-d\n",
    "\n",
    "### Aim:\n",
    "- Compare TCR sequences between samples"
   ]
  },
  {
   "cell_type": "code",
   "execution_count": 1,
   "metadata": {},
   "outputs": [
    {
     "name": "stdout",
     "output_type": "stream",
     "text": [
      "Python 3.6.8 :: Anaconda custom (64-bit)\r\n"
     ]
    }
   ],
   "source": [
    "!python --version"
   ]
  },
  {
   "cell_type": "markdown",
   "metadata": {},
   "source": [
    "## Import packages"
   ]
  },
  {
   "cell_type": "code",
   "execution_count": 3,
   "metadata": {},
   "outputs": [],
   "source": [
    "import scipy.stats\n",
    "import numpy as np\n",
    "import pandas as pd\n",
    "import seaborn as sns\n",
    "import matplotlib.pyplot as plt"
   ]
  },
  {
   "cell_type": "code",
   "execution_count": 4,
   "metadata": {},
   "outputs": [],
   "source": [
    "home = '~/git_repos/HGSOC_TME_Heterogeneity/'"
   ]
  },
  {
   "cell_type": "markdown",
   "metadata": {},
   "source": [
    "## Load TCRseq data"
   ]
  },
  {
   "cell_type": "code",
   "execution_count": 5,
   "metadata": {},
   "outputs": [
    {
     "name": "stdout",
     "output_type": "stream",
     "text": [
      "0371A.tsv  1573A.tsv  2585A.tsv  3418A.tsv  4997A.tsv  6902A.tsv  7818B.tsv\r\n",
      "0371B.tsv  1573B.tsv  2585B.tsv  3418B.tsv  4997B.tsv  6965A.tsv  7858A.tsv\r\n",
      "0481A.tsv  1941A.tsv  2703A.tsv  3582A.tsv  5219A.tsv  6965B.tsv  7858B.tsv\r\n",
      "0481B.tsv  1941B.tsv  2703B.tsv  3582B.tsv  5219B.tsv  6986A.tsv  8089A.tsv\r\n",
      "0511A.tsv  2050A.tsv  2945A.tsv  3935A.tsv  5244A.tsv  6986B.tsv  8089B.tsv\r\n",
      "0511B.tsv  2050B.tsv  2945B.tsv  3935B1.tsv 5244B.tsv  7362A.tsv  8674A.tsv\r\n",
      "0564A.tsv  2058A.tsv  3114A.tsv  3935B2.tsv 5441A.tsv  7362B.tsv  8674B.tsv\r\n",
      "0564B.tsv  2058B.tsv  3114B.tsv  3935B3.tsv 5441B.tsv  7626A.tsv  9347A.tsv\r\n",
      "0762A.tsv  2131M.tsv  3328A.tsv  4160A.tsv  5660A.tsv  7626B.tsv  9347B.tsv\r\n",
      "0762B.tsv  2220A.tsv  3328B.tsv  4160B.tsv  5660B.tsv  7678A.tsv  9717A.tsv\r\n",
      "0824A.tsv  2220B.tsv  3368A.tsv  4240A.tsv  6229A.tsv  7678B.tsv  9717B.tsv\r\n",
      "0824B.tsv  2359B.tsv  3368B.tsv  4240B.tsv  6229B.tsv  7765A.tsv  9883A.tsv\r\n",
      "1545A.tsv  2568A.tsv  3397A.tsv  4425A.tsv  6648A.tsv  7765B.tsv  9883B.tsv\r\n",
      "1545B.tsv  2568B.tsv  3397B.tsv  4425B.tsv  6648B.tsv  7818A.tsv\r\n"
     ]
    }
   ],
   "source": [
    "!ls \"../../Data/7/NACT_TCRseq/\""
   ]
  },
  {
   "cell_type": "markdown",
   "metadata": {},
   "source": [
    "### Exclude samples from analysis (based on adaptive biotech recommendation)"
   ]
  },
  {
   "cell_type": "code",
   "execution_count": 6,
   "metadata": {},
   "outputs": [
    {
     "data": {
      "text/html": [
       "<div>\n",
       "<style scoped>\n",
       "    .dataframe tbody tr th:only-of-type {\n",
       "        vertical-align: middle;\n",
       "    }\n",
       "\n",
       "    .dataframe tbody tr th {\n",
       "        vertical-align: top;\n",
       "    }\n",
       "\n",
       "    .dataframe thead th {\n",
       "        text-align: right;\n",
       "    }\n",
       "</style>\n",
       "<table border=\"1\" class=\"dataframe\">\n",
       "  <thead>\n",
       "    <tr style=\"text-align: right;\">\n",
       "      <th></th>\n",
       "      <th>Subject ID</th>\n",
       "      <th>Sample ID</th>\n",
       "      <th>Progression Free Survival (Days)</th>\n",
       "      <th>PFS Censored Status (0 = PF, 1=Progressed)</th>\n",
       "      <th>Overall Survival (Days)</th>\n",
       "      <th>OS Censored Status (0 = Alive, 1=Dead)</th>\n",
       "      <th>Type of Chemo</th>\n",
       "      <th>Number of Cycles</th>\n",
       "      <th>Platinum Sensitive</th>\n",
       "      <th>Age</th>\n",
       "      <th>C1D1</th>\n",
       "      <th>Date Last F/u</th>\n",
       "      <th>Status</th>\n",
       "      <th>Date of recurrence</th>\n",
       "      <th>Stage</th>\n",
       "      <th>Site Matched</th>\n",
       "      <th>Comments</th>\n",
       "    </tr>\n",
       "  </thead>\n",
       "  <tbody>\n",
       "    <tr>\n",
       "      <th>0</th>\n",
       "      <td>3368</td>\n",
       "      <td>3368A</td>\n",
       "      <td>771</td>\n",
       "      <td>0</td>\n",
       "      <td>1995</td>\n",
       "      <td>0</td>\n",
       "      <td>Carbo/taxol</td>\n",
       "      <td>6</td>\n",
       "      <td>Y</td>\n",
       "      <td>54</td>\n",
       "      <td>09/11/10</td>\n",
       "      <td>26/04/16</td>\n",
       "      <td>AWD</td>\n",
       "      <td>19/12/12</td>\n",
       "      <td>IIIC</td>\n",
       "      <td>Y</td>\n",
       "      <td>NaN</td>\n",
       "    </tr>\n",
       "    <tr>\n",
       "      <th>1</th>\n",
       "      <td>3368</td>\n",
       "      <td>3368B</td>\n",
       "      <td>771</td>\n",
       "      <td>0</td>\n",
       "      <td>1995</td>\n",
       "      <td>0</td>\n",
       "      <td>Carbo/taxol</td>\n",
       "      <td>6</td>\n",
       "      <td>Y</td>\n",
       "      <td>55</td>\n",
       "      <td>09/11/10</td>\n",
       "      <td>26/04/16</td>\n",
       "      <td>AWD</td>\n",
       "      <td>19/12/12</td>\n",
       "      <td>IIIC</td>\n",
       "      <td>Y</td>\n",
       "      <td>NaN</td>\n",
       "    </tr>\n",
       "    <tr>\n",
       "      <th>2</th>\n",
       "      <td>7362</td>\n",
       "      <td>7362A</td>\n",
       "      <td>351</td>\n",
       "      <td>1</td>\n",
       "      <td>449</td>\n",
       "      <td>1</td>\n",
       "      <td>Carbo/taxol</td>\n",
       "      <td>6</td>\n",
       "      <td>N</td>\n",
       "      <td>76</td>\n",
       "      <td>04/10/10</td>\n",
       "      <td>27/12/11</td>\n",
       "      <td>DOD</td>\n",
       "      <td>20/09/11</td>\n",
       "      <td>IIIC</td>\n",
       "      <td>Y</td>\n",
       "      <td>NaN</td>\n",
       "    </tr>\n",
       "    <tr>\n",
       "      <th>3</th>\n",
       "      <td>7362</td>\n",
       "      <td>7362B</td>\n",
       "      <td>351</td>\n",
       "      <td>1</td>\n",
       "      <td>449</td>\n",
       "      <td>1</td>\n",
       "      <td>Carbo/taxol</td>\n",
       "      <td>6</td>\n",
       "      <td>N</td>\n",
       "      <td>77</td>\n",
       "      <td>04/10/10</td>\n",
       "      <td>27/12/11</td>\n",
       "      <td>DOD</td>\n",
       "      <td>20/09/11</td>\n",
       "      <td>IIIC</td>\n",
       "      <td>Y</td>\n",
       "      <td>NaN</td>\n",
       "    </tr>\n",
       "    <tr>\n",
       "      <th>4</th>\n",
       "      <td>371</td>\n",
       "      <td>0371A</td>\n",
       "      <td>900</td>\n",
       "      <td>1</td>\n",
       "      <td>1682</td>\n",
       "      <td>0</td>\n",
       "      <td>Carbo/taxol</td>\n",
       "      <td>3</td>\n",
       "      <td>Y</td>\n",
       "      <td>68</td>\n",
       "      <td>01/08/11</td>\n",
       "      <td>09/03/16</td>\n",
       "      <td>AWD</td>\n",
       "      <td>17/01/14</td>\n",
       "      <td>IV</td>\n",
       "      <td>Y</td>\n",
       "      <td>NaN</td>\n",
       "    </tr>\n",
       "  </tbody>\n",
       "</table>\n",
       "</div>"
      ],
      "text/plain": [
       "   Subject ID Sample ID  Progression Free Survival (Days)  \\\n",
       "0        3368     3368A                               771   \n",
       "1        3368     3368B                               771   \n",
       "2        7362     7362A                               351   \n",
       "3        7362     7362B                               351   \n",
       "4         371     0371A                               900   \n",
       "\n",
       "   PFS Censored Status (0 = PF, 1=Progressed)  Overall Survival (Days)  \\\n",
       "0                                           0                     1995   \n",
       "1                                           0                     1995   \n",
       "2                                           1                      449   \n",
       "3                                           1                      449   \n",
       "4                                           1                     1682   \n",
       "\n",
       "   OS Censored Status (0 = Alive, 1=Dead) Type of Chemo  Number of Cycles  \\\n",
       "0                                       0   Carbo/taxol                 6   \n",
       "1                                       0   Carbo/taxol                 6   \n",
       "2                                       1   Carbo/taxol                 6   \n",
       "3                                       1   Carbo/taxol                 6   \n",
       "4                                       0   Carbo/taxol                 3   \n",
       "\n",
       "  Platinum Sensitive  Age       C1D1 Date Last F/u Status Date of recurrence  \\\n",
       "0                  Y    54  09/11/10      26/04/16    AWD           19/12/12   \n",
       "1                  Y    55  09/11/10      26/04/16    AWD           19/12/12   \n",
       "2                  N    76  04/10/10      27/12/11    DOD           20/09/11   \n",
       "3                  N    77  04/10/10      27/12/11    DOD           20/09/11   \n",
       "4                  Y    68  01/08/11      09/03/16    AWD           17/01/14   \n",
       "\n",
       "  Stage Site Matched Comments  \n",
       "0  IIIC            Y      NaN  \n",
       "1  IIIC            Y      NaN  \n",
       "2  IIIC            Y      NaN  \n",
       "3  IIIC            Y      NaN  \n",
       "4    IV            Y      NaN  "
      ]
     },
     "execution_count": 6,
     "metadata": {},
     "output_type": "execute_result"
    }
   ],
   "source": [
    "file_keys = home + 'Data/7/Metadata_TCRseq_Greenbaum.Callahan_2.6.17.tsv'\n",
    "\n",
    "sample_labels = pd.read_csv(file_keys,\n",
    "                            sep='\\t',\n",
    "                            skiprows=1)\n",
    "\n",
    "sample_labels.head()"
   ]
  },
  {
   "cell_type": "code",
   "execution_count": 7,
   "metadata": {},
   "outputs": [],
   "source": [
    "exc_patients = {'0511', # due low T cell count (clonality unreliable)\n",
    "                '2050', # due low T cell count (clonality unreliable)\n",
    "                '2058', # due low nucleated and T cell count (seq unreliable)\n",
    "                '2359', # due lack of pre-treatment sample\n",
    "                '2945', # due low nucleated cell count\n",
    "                '3582', # due low nucleated and T cell count (seq unreliable)\n",
    "                '4997', # due low nucleated and T cell count (seq unreliable)\n",
    "                '5219', # due low T cell count (clonality unreliable)\n",
    "                '5660', # due low nucleated cell count\n",
    "                '6902', # due low nucleated and T cell count (seq unreliable)\n",
    "                '7678', # due low nucleated and T cell count (seq unreliable)\n",
    "                '3935'} # 3 samples"
   ]
  },
  {
   "cell_type": "code",
   "execution_count": 8,
   "metadata": {},
   "outputs": [],
   "source": [
    "exc_samples = set()\n",
    "for sample in sample_labels[\"Sample ID\"]:\n",
    "    \n",
    "    if sample[:4] in exc_patients:\n",
    "        \n",
    "        exc_samples.add(sample)"
   ]
  },
  {
   "cell_type": "code",
   "execution_count": 10,
   "metadata": {},
   "outputs": [
    {
     "name": "stderr",
     "output_type": "stream",
     "text": [
      "/anaconda3/lib/python3.6/site-packages/IPython/core/interactiveshell.py:2728: DtypeWarning: Columns (31) have mixed types. Specify dtype option on import or set low_memory=False.\n",
      "  interactivity=interactivity, compiler=compiler, result=result)\n",
      "/anaconda3/lib/python3.6/site-packages/IPython/core/interactiveshell.py:2728: DtypeWarning: Columns (10,31,36,41) have mixed types. Specify dtype option on import or set low_memory=False.\n",
      "  interactivity=interactivity, compiler=compiler, result=result)\n",
      "/anaconda3/lib/python3.6/site-packages/IPython/core/interactiveshell.py:2728: DtypeWarning: Columns (31,41) have mixed types. Specify dtype option on import or set low_memory=False.\n",
      "  interactivity=interactivity, compiler=compiler, result=result)\n",
      "/anaconda3/lib/python3.6/site-packages/IPython/core/interactiveshell.py:2728: DtypeWarning: Columns (10,31,41) have mixed types. Specify dtype option on import or set low_memory=False.\n",
      "  interactivity=interactivity, compiler=compiler, result=result)\n",
      "/anaconda3/lib/python3.6/site-packages/IPython/core/interactiveshell.py:2728: DtypeWarning: Columns (29,30,31,41) have mixed types. Specify dtype option on import or set low_memory=False.\n",
      "  interactivity=interactivity, compiler=compiler, result=result)\n",
      "/anaconda3/lib/python3.6/site-packages/IPython/core/interactiveshell.py:2728: DtypeWarning: Columns (10,29,30,31,41) have mixed types. Specify dtype option on import or set low_memory=False.\n",
      "  interactivity=interactivity, compiler=compiler, result=result)\n"
     ]
    }
   ],
   "source": [
    "samples_to_analyse_dict = {}\n",
    "for s in sample_labels[\"Sample ID\"]:\n",
    "    \n",
    "    if s not in exc_samples:        \n",
    "                       \n",
    "        samples_to_analyse_dict[s] = pd.read_csv(\n",
    "            \"../../Data/7/NACT_TCRseq/\"+s+\".tsv\",\n",
    "            sep=\"\\t\")\n"
   ]
  },
  {
   "cell_type": "code",
   "execution_count": 11,
   "metadata": {},
   "outputs": [
    {
     "data": {
      "text/plain": [
       "72"
      ]
     },
     "execution_count": 11,
     "metadata": {},
     "output_type": "execute_result"
    }
   ],
   "source": [
    "len(samples_to_analyse_dict)"
   ]
  },
  {
   "cell_type": "code",
   "execution_count": 14,
   "metadata": {},
   "outputs": [],
   "source": [
    "for s in samples_to_analyse_dict:\n",
    "    \n",
    "    samples_to_analyse_dict[s] = samples_to_analyse_dict[s].drop(\n",
    "        \n",
    "        samples_to_analyse_dict[s][(samples_to_analyse_dict[s][\"frame_type\"] != \"In\")].index\n",
    "    )\n"
   ]
  },
  {
   "cell_type": "markdown",
   "metadata": {},
   "source": [
    "## How many different sequences/dna/tcrs do we have?"
   ]
  },
  {
   "cell_type": "code",
   "execution_count": 15,
   "metadata": {},
   "outputs": [],
   "source": [
    "pre_rearrangement = []\n",
    "pre_amino_acid = []\n",
    "\n",
    "post_rearrangement = []\n",
    "post_amino_acid = []\n",
    "\n",
    "for s in samples_to_analyse_dict:\n",
    "\n",
    "    if \"A\" in s:\n",
    "    \n",
    "        dna = list(samples_to_analyse_dict[s][\"rearrangement\"])\n",
    "        tcr = list(samples_to_analyse_dict[s][\"amino_acid\"])\n",
    "        \n",
    "        pre_rearrangement += dna\n",
    "        pre_amino_acid += tcr\n",
    "        \n",
    "    elif \"B\" in s:\n",
    "        \n",
    "        dna = list(samples_to_analyse_dict[s][\"rearrangement\"])\n",
    "        tcr = list(samples_to_analyse_dict[s][\"amino_acid\"])\n",
    "        \n",
    "        post_rearrangement += dna\n",
    "        post_amino_acid += tcr"
   ]
  },
  {
   "cell_type": "code",
   "execution_count": 16,
   "metadata": {},
   "outputs": [
    {
     "data": {
      "text/plain": [
       "155177"
      ]
     },
     "execution_count": 16,
     "metadata": {},
     "output_type": "execute_result"
    }
   ],
   "source": [
    "len(pre_rearrangement)"
   ]
  },
  {
   "cell_type": "code",
   "execution_count": 17,
   "metadata": {},
   "outputs": [
    {
     "data": {
      "text/plain": [
       "155177"
      ]
     },
     "execution_count": 17,
     "metadata": {},
     "output_type": "execute_result"
    }
   ],
   "source": [
    "len(pre_amino_acid)"
   ]
  },
  {
   "cell_type": "code",
   "execution_count": 18,
   "metadata": {},
   "outputs": [
    {
     "data": {
      "text/plain": [
       "154014"
      ]
     },
     "execution_count": 18,
     "metadata": {},
     "output_type": "execute_result"
    }
   ],
   "source": [
    "len(post_rearrangement)"
   ]
  },
  {
   "cell_type": "code",
   "execution_count": 19,
   "metadata": {},
   "outputs": [
    {
     "data": {
      "text/plain": [
       "154014"
      ]
     },
     "execution_count": 19,
     "metadata": {},
     "output_type": "execute_result"
    }
   ],
   "source": [
    "len(post_amino_acid)"
   ]
  },
  {
   "cell_type": "code",
   "execution_count": 20,
   "metadata": {},
   "outputs": [
    {
     "data": {
      "text/plain": [
       "155108"
      ]
     },
     "execution_count": 20,
     "metadata": {},
     "output_type": "execute_result"
    }
   ],
   "source": [
    "len(set(pre_rearrangement))"
   ]
  },
  {
   "cell_type": "code",
   "execution_count": 21,
   "metadata": {},
   "outputs": [
    {
     "data": {
      "text/plain": [
       "150462"
      ]
     },
     "execution_count": 21,
     "metadata": {},
     "output_type": "execute_result"
    }
   ],
   "source": [
    "len(set(pre_amino_acid))"
   ]
  },
  {
   "cell_type": "code",
   "execution_count": 22,
   "metadata": {},
   "outputs": [
    {
     "data": {
      "text/plain": [
       "153898"
      ]
     },
     "execution_count": 22,
     "metadata": {},
     "output_type": "execute_result"
    }
   ],
   "source": [
    "len(set(post_rearrangement))"
   ]
  },
  {
   "cell_type": "code",
   "execution_count": 23,
   "metadata": {},
   "outputs": [
    {
     "data": {
      "text/plain": [
       "147815"
      ]
     },
     "execution_count": 23,
     "metadata": {},
     "output_type": "execute_result"
    }
   ],
   "source": [
    "len(set(post_amino_acid))"
   ]
  },
  {
   "cell_type": "code",
   "execution_count": 24,
   "metadata": {},
   "outputs": [
    {
     "data": {
      "text/html": [
       "<div>\n",
       "<style scoped>\n",
       "    .dataframe tbody tr th:only-of-type {\n",
       "        vertical-align: middle;\n",
       "    }\n",
       "\n",
       "    .dataframe tbody tr th {\n",
       "        vertical-align: top;\n",
       "    }\n",
       "\n",
       "    .dataframe thead th {\n",
       "        text-align: right;\n",
       "    }\n",
       "</style>\n",
       "<table border=\"1\" class=\"dataframe\">\n",
       "  <thead>\n",
       "    <tr style=\"text-align: right;\">\n",
       "      <th></th>\n",
       "      <th>pre</th>\n",
       "      <th>post</th>\n",
       "    </tr>\n",
       "  </thead>\n",
       "  <tbody>\n",
       "    <tr>\n",
       "      <th>dna</th>\n",
       "      <td>155108</td>\n",
       "      <td>153898</td>\n",
       "    </tr>\n",
       "    <tr>\n",
       "      <th>seqs</th>\n",
       "      <td>155177</td>\n",
       "      <td>155177</td>\n",
       "    </tr>\n",
       "    <tr>\n",
       "      <th>tcr</th>\n",
       "      <td>150462</td>\n",
       "      <td>147815</td>\n",
       "    </tr>\n",
       "  </tbody>\n",
       "</table>\n",
       "</div>"
      ],
      "text/plain": [
       "         pre    post\n",
       "dna   155108  153898\n",
       "seqs  155177  155177\n",
       "tcr   150462  147815"
      ]
     },
     "execution_count": 24,
     "metadata": {},
     "output_type": "execute_result"
    }
   ],
   "source": [
    "overall_tcrs = pd.DataFrame({\n",
    "    \"pre\": {\"seqs\":len(pre_rearrangement),\n",
    "            \"dna\":len(set(pre_rearrangement)),\n",
    "            \"tcr\":len(set(pre_amino_acid))},\n",
    "    \"post\": {\"seqs\":len(pre_rearrangement),\n",
    "             \"dna\":len(set(post_rearrangement)),\n",
    "             \"tcr\":len(set(post_amino_acid))}\n",
    "})\n",
    "\n",
    "overall_tcrs"
   ]
  },
  {
   "cell_type": "code",
   "execution_count": 25,
   "metadata": {},
   "outputs": [
    {
     "data": {
      "image/png": "[encoded data removed]",
      "text/plain": [
       "<Figure size 432x288 with 1 Axes>"
      ]
     },
     "metadata": {},
     "output_type": "display_data"
    }
   ],
   "source": [
    "overall_tcrs_plt = overall_tcrs.plot(kind=\"bar\", log=False)"
   ]
  },
  {
   "cell_type": "code",
   "execution_count": 27,
   "metadata": {},
   "outputs": [],
   "source": [
    "pre_prod_frq = []\n",
    "post_prod_frq = []\n",
    "\n",
    "for s in samples_to_analyse_dict:\n",
    "\n",
    "    if \"A\" in s:\n",
    "    \n",
    "        prod_frq = list(samples_to_analyse_dict[s][\"productive_frequency\"])\n",
    "        \n",
    "        pre_prod_frq += prod_frq\n",
    "        \n",
    "    elif \"B\" in s:\n",
    "        \n",
    "        prod_frq = list(samples_to_analyse_dict[s][\"productive_frequency\"])\n",
    "        \n",
    "        post_prod_frq += prod_frq"
   ]
  },
  {
   "cell_type": "code",
   "execution_count": 28,
   "metadata": {},
   "outputs": [
    {
     "data": {
      "text/plain": [
       "0.2959783864763532"
      ]
     },
     "execution_count": 28,
     "metadata": {},
     "output_type": "execute_result"
    }
   ],
   "source": [
    "max(pre_prod_frq)"
   ]
  },
  {
   "cell_type": "code",
   "execution_count": 29,
   "metadata": {},
   "outputs": [
    {
     "data": {
      "text/plain": [
       "-5.559921978610032"
      ]
     },
     "execution_count": 29,
     "metadata": {},
     "output_type": "execute_result"
    }
   ],
   "source": [
    "np.log10(2.7547235474227957e-06)"
   ]
  },
  {
   "cell_type": "code",
   "execution_count": 30,
   "metadata": {},
   "outputs": [
    {
     "data": {
      "text/plain": [
       "0.18513603185136032"
      ]
     },
     "execution_count": 30,
     "metadata": {},
     "output_type": "execute_result"
    }
   ],
   "source": [
    "max(post_prod_frq)"
   ]
  },
  {
   "cell_type": "code",
   "execution_count": 31,
   "metadata": {},
   "outputs": [
    {
     "data": {
      "text/plain": [
       "-0.7325090490410342"
      ]
     },
     "execution_count": 31,
     "metadata": {},
     "output_type": "execute_result"
    }
   ],
   "source": [
    "np.log10(max(post_prod_frq))"
   ]
  },
  {
   "cell_type": "code",
   "execution_count": 32,
   "metadata": {},
   "outputs": [
    {
     "data": {
      "text/html": [
       "<div>\n",
       "<style scoped>\n",
       "    .dataframe tbody tr th:only-of-type {\n",
       "        vertical-align: middle;\n",
       "    }\n",
       "\n",
       "    .dataframe tbody tr th {\n",
       "        vertical-align: top;\n",
       "    }\n",
       "\n",
       "    .dataframe thead th {\n",
       "        text-align: right;\n",
       "    }\n",
       "</style>\n",
       "<table border=\"1\" class=\"dataframe\">\n",
       "  <thead>\n",
       "    <tr style=\"text-align: right;\">\n",
       "      <th></th>\n",
       "      <th>pre</th>\n",
       "      <th>post</th>\n",
       "    </tr>\n",
       "  </thead>\n",
       "  <tbody>\n",
       "    <tr>\n",
       "      <th>155172</th>\n",
       "      <td>0.035346</td>\n",
       "      <td>NaN</td>\n",
       "    </tr>\n",
       "    <tr>\n",
       "      <th>155173</th>\n",
       "      <td>0.005372</td>\n",
       "      <td>NaN</td>\n",
       "    </tr>\n",
       "    <tr>\n",
       "      <th>155174</th>\n",
       "      <td>0.006016</td>\n",
       "      <td>NaN</td>\n",
       "    </tr>\n",
       "    <tr>\n",
       "      <th>155175</th>\n",
       "      <td>0.011281</td>\n",
       "      <td>NaN</td>\n",
       "    </tr>\n",
       "    <tr>\n",
       "      <th>155176</th>\n",
       "      <td>0.012462</td>\n",
       "      <td>NaN</td>\n",
       "    </tr>\n",
       "  </tbody>\n",
       "</table>\n",
       "</div>"
      ],
      "text/plain": [
       "             pre  post\n",
       "155172  0.035346   NaN\n",
       "155173  0.005372   NaN\n",
       "155174  0.006016   NaN\n",
       "155175  0.011281   NaN\n",
       "155176  0.012462   NaN"
      ]
     },
     "execution_count": 32,
     "metadata": {},
     "output_type": "execute_result"
    }
   ],
   "source": [
    "prod_frqs = pd.DataFrame({\n",
    "    \"pre\": pd.Series(pre_prod_frq),\n",
    "    \"post\": pd.Series(post_prod_frq)\n",
    "})\n",
    "\n",
    "prod_frqs.tail()"
   ]
  },
  {
   "cell_type": "code",
   "execution_count": 33,
   "metadata": {},
   "outputs": [
    {
     "data": {
      "text/plain": [
       "pre     0.295978\n",
       "post    0.185136\n",
       "dtype: float64"
      ]
     },
     "execution_count": 33,
     "metadata": {},
     "output_type": "execute_result"
    }
   ],
   "source": [
    "(prod_frqs).max()"
   ]
  },
  {
   "cell_type": "code",
   "execution_count": 34,
   "metadata": {},
   "outputs": [
    {
     "data": {
      "image/png": "[encoded data removed]",
      "text/plain": [
       "<Figure size 432x288 with 1 Axes>"
      ]
     },
     "metadata": {},
     "output_type": "display_data"
    }
   ],
   "source": [
    "overall_prdfrq_plt = np.log10(prod_frqs).plot(kind=\"box\", notch=True)"
   ]
  },
  {
   "cell_type": "code",
   "execution_count": 35,
   "metadata": {},
   "outputs": [
    {
     "data": {
      "text/plain": [
       "NormaltestResult(statistic=518971.4610212952, pvalue=0.0)"
      ]
     },
     "execution_count": 35,
     "metadata": {},
     "output_type": "execute_result"
    }
   ],
   "source": [
    "scipy.stats.mstats.normaltest(prod_frqs[\"pre\"])\n"
   ]
  },
  {
   "cell_type": "code",
   "execution_count": 36,
   "metadata": {},
   "outputs": [
    {
     "data": {
      "text/plain": [
       "MannwhitneyuResult(statistic=9077066983.0, pvalue=0.0)"
      ]
     },
     "execution_count": 36,
     "metadata": {},
     "output_type": "execute_result"
    }
   ],
   "source": [
    "scipy.stats.mannwhitneyu(prod_frqs[\"pre\"],prod_frqs[\"post\"])"
   ]
  },
  {
   "cell_type": "code",
   "execution_count": 37,
   "metadata": {},
   "outputs": [
    {
     "data": {
      "text/plain": [
       "<matplotlib.axes._subplots.AxesSubplot at 0x1a2a5eb588>"
      ]
     },
     "execution_count": 37,
     "metadata": {},
     "output_type": "execute_result"
    },
    {
     "data": {
      "image/png": "[encoded data removed]",
      "text/plain": [
       "<Figure size 432x288 with 1 Axes>"
      ]
     },
     "metadata": {},
     "output_type": "display_data"
    }
   ],
   "source": [
    "pd.Series(pre_rearrangement).value_counts().value_counts().plot(kind=\"bar\", log=True)"
   ]
  },
  {
   "cell_type": "code",
   "execution_count": 38,
   "metadata": {},
   "outputs": [
    {
     "data": {
      "text/plain": [
       "1    153790\n",
       "2       100\n",
       "3         8\n",
       "dtype: int64"
      ]
     },
     "execution_count": 38,
     "metadata": {},
     "output_type": "execute_result"
    }
   ],
   "source": [
    "pd.Series(post_rearrangement).value_counts().value_counts()#.plot(kind=\"bar\", log=True)"
   ]
  },
  {
   "cell_type": "code",
   "execution_count": 39,
   "metadata": {},
   "outputs": [
    {
     "data": {
      "text/plain": [
       "<matplotlib.axes._subplots.AxesSubplot at 0x1a2ba38a20>"
      ]
     },
     "execution_count": 39,
     "metadata": {},
     "output_type": "execute_result"
    },
    {
     "data": {
      "image/png": "[encoded data removed]",
      "text/plain": [
       "<Figure size 432x288 with 1 Axes>"
      ]
     },
     "metadata": {},
     "output_type": "display_data"
    }
   ],
   "source": [
    "pd.Series(pre_amino_acid).value_counts().value_counts().plot(kind=\"bar\", log=True)"
   ]
  },
  {
   "cell_type": "code",
   "execution_count": 40,
   "metadata": {},
   "outputs": [
    {
     "data": {
      "text/plain": [
       "<matplotlib.axes._subplots.AxesSubplot at 0x1a2d489b00>"
      ]
     },
     "execution_count": 40,
     "metadata": {},
     "output_type": "execute_result"
    },
    {
     "data": {
      "image/png": "[encoded data removed]",
      "text/plain": [
       "<Figure size 432x288 with 1 Axes>"
      ]
     },
     "metadata": {},
     "output_type": "display_data"
    }
   ],
   "source": [
    "pd.Series(post_amino_acid).value_counts().value_counts().plot(kind=\"bar\", log=True)"
   ]
  },
  {
   "cell_type": "code",
   "execution_count": 41,
   "metadata": {},
   "outputs": [],
   "source": [
    "pre_rearrangement2 = []\n",
    "pre_amino_acid2 = []\n",
    "\n",
    "post_rearrangement2 = []\n",
    "post_amino_acid2 = []\n",
    "\n",
    "for s in samples_to_analyse_dict:\n",
    "\n",
    "    if \"A\" in s:\n",
    "    \n",
    "        dna = list(set(samples_to_analyse_dict[s][\"rearrangement\"]))\n",
    "        tcr = list(set(samples_to_analyse_dict[s][\"amino_acid\"]))\n",
    "        \n",
    "        pre_rearrangement2 += dna\n",
    "        pre_amino_acid2 += tcr\n",
    "        \n",
    "    elif \"B\" in s:\n",
    "        \n",
    "        dna = list(set(samples_to_analyse_dict[s][\"rearrangement\"]))\n",
    "        tcr = list(set(samples_to_analyse_dict[s][\"amino_acid\"]))\n",
    "        \n",
    "        post_rearrangement2 += dna\n",
    "        post_amino_acid2 += tcr"
   ]
  },
  {
   "cell_type": "code",
   "execution_count": 42,
   "metadata": {},
   "outputs": [
    {
     "data": {
      "text/plain": [
       "155177"
      ]
     },
     "execution_count": 42,
     "metadata": {},
     "output_type": "execute_result"
    }
   ],
   "source": [
    "len(pre_rearrangement2)"
   ]
  },
  {
   "cell_type": "code",
   "execution_count": 43,
   "metadata": {},
   "outputs": [
    {
     "data": {
      "text/plain": [
       "151710"
      ]
     },
     "execution_count": 43,
     "metadata": {},
     "output_type": "execute_result"
    }
   ],
   "source": [
    "len(post_amino_acid2)"
   ]
  },
  {
   "cell_type": "code",
   "execution_count": 44,
   "metadata": {},
   "outputs": [
    {
     "data": {
      "text/plain": [
       "9"
      ]
     },
     "execution_count": 44,
     "metadata": {},
     "output_type": "execute_result"
    }
   ],
   "source": [
    "n=0\n",
    "for lst in post_amino_acid2:\n",
    "    if \"CASSLGPNTEAFF\" in lst:\n",
    "        n+=1\n",
    "n"
   ]
  },
  {
   "cell_type": "code",
   "execution_count": 45,
   "metadata": {
    "collapsed": true
   },
   "outputs": [
    {
     "name": "stdout",
     "output_type": "stream",
     "text": [
      "Empty DataFrame\n",
      "Columns: [rearrangement, amino_acid, frame_type, rearrangement_type, templates, reads, frequency, productive_frequency, cdr3_length, v_family, v_gene, v_allele, d_family, d_gene, d_allele, j_family, j_gene, j_allele, v_deletions, d5_deletions, d3_deletions, j_deletions, n2_insertions, n1_insertions, v_index, n1_index, n2_index, d_index, j_index, v_family_ties, v_gene_ties, v_allele_ties, d_family_ties, d_gene_ties, d_allele_ties, j_family_ties, j_gene_ties, j_allele_ties, sequence_tags, v_shm_count, v_shm_indexes, antibody, bio_identity, v_resolved, d_resolved, j_resolved, sample_name, species, locus, product_subtype, kit_pool, sku, test_name, sample_catalog_tags, sample_rich_tags, sample_rich_tags_json, kit_control, total_templates, productive_templates, outofframe_templates, stop_templates, dj_templates, total_rearrangements, productive_rearrangements, outofframe_rearrangements, stop_rearrangements, dj_rearrangements, total_reads, total_productive_reads, total_outofframe_reads, total_stop_reads, total_dj_reads, productive_clonality, productive_entropy, sample_clonality, sample_entropy, sample_amount_ng, sample_cells_mass_estimate, fraction_productive_of_cells_mass_estimate, sample_cells, fraction_productive_of_cells, max_productive_frequency, max_frequency, counting_method, primer_set, sequence_result_status, release_date, upload_date, sample_tags, fraction_productive, order_name, kit_id, total_t_cells, total_templates_agg]\n",
      "Index: []\n",
      "\n",
      "[0 rows x 94 columns]\n",
      "Empty DataFrame\n",
      "Columns: [rearrangement, amino_acid, frame_type, rearrangement_type, templates, reads, frequency, productive_frequency, cdr3_length, v_family, v_gene, v_allele, d_family, d_gene, d_allele, j_family, j_gene, j_allele, v_deletions, d5_deletions, d3_deletions, j_deletions, n2_insertions, n1_insertions, v_index, n1_index, n2_index, d_index, j_index, v_family_ties, v_gene_ties, v_allele_ties, d_family_ties, d_gene_ties, d_allele_ties, j_family_ties, j_gene_ties, j_allele_ties, sequence_tags, v_shm_count, v_shm_indexes, antibody, bio_identity, v_resolved, d_resolved, j_resolved, sample_name, species, locus, product_subtype, kit_pool, sku, test_name, sample_catalog_tags, sample_rich_tags, sample_rich_tags_json, kit_control, total_templates, productive_templates, outofframe_templates, stop_templates, dj_templates, total_rearrangements, productive_rearrangements, outofframe_rearrangements, stop_rearrangements, dj_rearrangements, total_reads, total_productive_reads, total_outofframe_reads, total_stop_reads, total_dj_reads, productive_clonality, productive_entropy, sample_clonality, sample_entropy, sample_amount_ng, sample_cells_mass_estimate, fraction_productive_of_cells_mass_estimate, sample_cells, fraction_productive_of_cells, max_productive_frequency, max_frequency, counting_method, primer_set, sequence_result_status, release_date, upload_date, sample_tags, fraction_productive, order_name, kit_id, total_t_cells, total_templates_agg]\n",
      "Index: []\n",
      "\n",
      "[0 rows x 94 columns]\n",
      "Empty DataFrame\n",
      "Columns: [rearrangement, amino_acid, frame_type, rearrangement_type, templates, reads, frequency, productive_frequency, cdr3_length, v_family, v_gene, v_allele, d_family, d_gene, d_allele, j_family, j_gene, j_allele, v_deletions, d5_deletions, d3_deletions, j_deletions, n2_insertions, n1_insertions, v_index, n1_index, n2_index, d_index, j_index, v_family_ties, v_gene_ties, v_allele_ties, d_family_ties, d_gene_ties, d_allele_ties, j_family_ties, j_gene_ties, j_allele_ties, sequence_tags, v_shm_count, v_shm_indexes, antibody, bio_identity, v_resolved, d_resolved, j_resolved, sample_name, species, locus, product_subtype, kit_pool, sku, test_name, sample_catalog_tags, sample_rich_tags, sample_rich_tags_json, kit_control, total_templates, productive_templates, outofframe_templates, stop_templates, dj_templates, total_rearrangements, productive_rearrangements, outofframe_rearrangements, stop_rearrangements, dj_rearrangements, total_reads, total_productive_reads, total_outofframe_reads, total_stop_reads, total_dj_reads, productive_clonality, productive_entropy, sample_clonality, sample_entropy, sample_amount_ng, sample_cells_mass_estimate, fraction_productive_of_cells_mass_estimate, sample_cells, fraction_productive_of_cells, max_productive_frequency, max_frequency, counting_method, primer_set, sequence_result_status, release_date, upload_date, sample_tags, fraction_productive, order_name, kit_id, total_t_cells, total_templates_agg]\n",
      "Index: []\n",
      "\n",
      "[0 rows x 94 columns]\n",
      "                                          rearrangement     amino_acid  \\\n",
      "4251  AACCCAGGGACTCAGCTGTGTATTTTTGTGCCAGCAGCCTTGGGCC...  CASSLGPNTEAFF   \n",
      "7635  AACCCAGGGACTCAGCTGTGTAYTTYTGTGCCAGCAGTTTGGGCCC...  CASSLGPNTEAFF   \n",
      "9346  AACCCAGGGACTCAGCTGTGTAYTTYTGTGCCAGCAGTTTAGGGCC...  CASSLGPNTEAFF   \n",
      "\n",
      "     frame_type rearrangement_type  templates  reads  frequency  \\\n",
      "4251         In                VDJ          1     43   0.000011   \n",
      "7635         In                VDJ          1    106   0.000027   \n",
      "9346         In                VDJ         35   3443   0.000885   \n",
      "\n",
      "      productive_frequency  cdr3_length v_family  ...       primer_set  \\\n",
      "4251              0.000013           39  TCRBV12  ...  Human-TCRB-PD2x   \n",
      "7635              0.000032           39  TCRBV12  ...  Human-TCRB-PD2x   \n",
      "9346              0.001045           39  TCRBV12  ...  Human-TCRB-PD2x   \n",
      "\n",
      "      sequence_result_status         release_date          upload_date  \\\n",
      "4251               Published  08/10/2016 11:24:40  07/08/2016 11:12:52   \n",
      "7635               Published  08/10/2016 11:24:40  07/08/2016 11:12:52   \n",
      "9346               Published  08/10/2016 11:24:40  07/08/2016 11:12:52   \n",
      "\n",
      "                                            sample_tags fraction_productive  \\\n",
      "4251  Age (Range):65+ Years (Old Age),Age:77 Years,C...            0.846609   \n",
      "7635  Age (Range):65+ Years (Old Age),Age:77 Years,C...            0.846609   \n",
      "9346  Age (Range):65+ Years (Old Age),Age:77 Years,C...            0.846609   \n",
      "\n",
      "                 order_name  kit_id  total_t_cells  total_templates_agg  \n",
      "4251  MSKCC- Snyder- P01-01     NaN        37689.0                  NaN  \n",
      "7635  MSKCC- Snyder- P01-01     NaN        37689.0                  NaN  \n",
      "9346  MSKCC- Snyder- P01-01     NaN        37689.0                  NaN  \n",
      "\n",
      "[3 rows x 94 columns]\n",
      "                                          rearrangement     amino_acid  \\\n",
      "7610  AACCCAGGGACTCAGCTGTGTATTTTTGTGCCAGCAGTTTGGGACC...  CASSLGPNTEAFF   \n",
      "\n",
      "     frame_type rearrangement_type  templates  reads  frequency  \\\n",
      "7610         In                VDJ          5    224   0.000474   \n",
      "\n",
      "      productive_frequency  cdr3_length v_family  ...       primer_set  \\\n",
      "7610              0.000557           39  TCRBV12  ...  Human-TCRB-PD2x   \n",
      "\n",
      "      sequence_result_status         release_date          upload_date  \\\n",
      "7610               Published  08/10/2016 11:24:40  07/05/2016 03:54:50   \n",
      "\n",
      "                                            sample_tags fraction_productive  \\\n",
      "7610  Age (Range):65+ Years (Old Age),Age:68 Years,C...            0.850679   \n",
      "\n",
      "                 order_name  kit_id  total_t_cells  total_templates_agg  \n",
      "7610  MSKCC- Snyder- P01-01     NaN        10527.0                  NaN  \n",
      "\n",
      "[1 rows x 94 columns]\n",
      "                                          rearrangement     amino_acid  \\\n",
      "9704  AACCCAGGGACTCAGCTGTGTATTTTTGTGCCAGCAGTTTGGGACC...  CASSLGPNTEAFF   \n",
      "\n",
      "     frame_type rearrangement_type  templates  reads  frequency  \\\n",
      "9704         In                VDJ          7    137   0.000351   \n",
      "\n",
      "      productive_frequency  cdr3_length v_family  ...       primer_set  \\\n",
      "9704              0.000411           39  TCRBV12  ...  Human-TCRB-PD2x   \n",
      "\n",
      "      sequence_result_status         release_date          upload_date  \\\n",
      "9704               Published  08/10/2016 11:24:40  07/05/2016 03:54:30   \n",
      "\n",
      "                                            sample_tags fraction_productive  \\\n",
      "9704  Age (Range):65+ Years (Old Age),Age:69 Years,C...             0.85434   \n",
      "\n",
      "                 order_name  kit_id  total_t_cells  total_templates_agg  \n",
      "9704  MSKCC- Snyder- P01-01     NaN        17614.0                  NaN  \n",
      "\n",
      "[1 rows x 94 columns]\n",
      "Empty DataFrame\n",
      "Columns: [rearrangement, amino_acid, frame_type, rearrangement_type, templates, reads, frequency, productive_frequency, cdr3_length, v_family, v_gene, v_allele, d_family, d_gene, d_allele, j_family, j_gene, j_allele, v_deletions, d5_deletions, d3_deletions, j_deletions, n2_insertions, n1_insertions, v_index, n1_index, n2_index, d_index, j_index, v_family_ties, v_gene_ties, v_allele_ties, d_family_ties, d_gene_ties, d_allele_ties, j_family_ties, j_gene_ties, j_allele_ties, sequence_tags, v_shm_count, v_shm_indexes, antibody, bio_identity, v_resolved, d_resolved, j_resolved, sample_name, species, locus, product_subtype, kit_pool, sku, test_name, sample_catalog_tags, sample_rich_tags, sample_rich_tags_json, kit_control, total_templates, productive_templates, outofframe_templates, stop_templates, dj_templates, total_rearrangements, productive_rearrangements, outofframe_rearrangements, stop_rearrangements, dj_rearrangements, total_reads, total_productive_reads, total_outofframe_reads, total_stop_reads, total_dj_reads, productive_clonality, productive_entropy, sample_clonality, sample_entropy, sample_amount_ng, sample_cells_mass_estimate, fraction_productive_of_cells_mass_estimate, sample_cells, fraction_productive_of_cells, max_productive_frequency, max_frequency, counting_method, primer_set, sequence_result_status, release_date, upload_date, sample_tags, fraction_productive, order_name, kit_id, total_t_cells, total_templates_agg]\n",
      "Index: []\n",
      "\n",
      "[0 rows x 94 columns]\n",
      "Empty DataFrame\n",
      "Columns: [rearrangement, amino_acid, frame_type, rearrangement_type, templates, reads, frequency, productive_frequency, cdr3_length, v_family, v_gene, v_allele, d_family, d_gene, d_allele, j_family, j_gene, j_allele, v_deletions, d5_deletions, d3_deletions, j_deletions, n2_insertions, n1_insertions, v_index, n1_index, n2_index, d_index, j_index, v_family_ties, v_gene_ties, v_allele_ties, d_family_ties, d_gene_ties, d_allele_ties, j_family_ties, j_gene_ties, j_allele_ties, sequence_tags, v_shm_count, v_shm_indexes, antibody, bio_identity, v_resolved, d_resolved, j_resolved, sample_name, species, locus, product_subtype, kit_pool, sku, test_name, sample_catalog_tags, sample_rich_tags, sample_rich_tags_json, kit_control, total_templates, productive_templates, outofframe_templates, stop_templates, dj_templates, total_rearrangements, productive_rearrangements, outofframe_rearrangements, stop_rearrangements, dj_rearrangements, total_reads, total_productive_reads, total_outofframe_reads, total_stop_reads, total_dj_reads, productive_clonality, productive_entropy, sample_clonality, sample_entropy, sample_amount_ng, sample_cells_mass_estimate, fraction_productive_of_cells_mass_estimate, sample_cells, fraction_productive_of_cells, max_productive_frequency, max_frequency, counting_method, primer_set, sequence_result_status, release_date, upload_date, sample_tags, fraction_productive, order_name, kit_id, total_t_cells, total_templates_agg]\n",
      "Index: []\n",
      "\n",
      "[0 rows x 94 columns]\n",
      "Empty DataFrame\n",
      "Columns: [rearrangement, amino_acid, frame_type, rearrangement_type, templates, reads, frequency, productive_frequency, cdr3_length, v_family, v_gene, v_allele, d_family, d_gene, d_allele, j_family, j_gene, j_allele, v_deletions, d5_deletions, d3_deletions, j_deletions, n2_insertions, n1_insertions, v_index, n1_index, n2_index, d_index, j_index, v_family_ties, v_gene_ties, v_allele_ties, d_family_ties, d_gene_ties, d_allele_ties, j_family_ties, j_gene_ties, j_allele_ties, sequence_tags, v_shm_count, v_shm_indexes, antibody, bio_identity, v_resolved, d_resolved, j_resolved, sample_name, species, locus, product_subtype, kit_pool, sku, test_name, sample_catalog_tags, sample_rich_tags, sample_rich_tags_json, kit_control, total_templates, productive_templates, outofframe_templates, stop_templates, dj_templates, total_rearrangements, productive_rearrangements, outofframe_rearrangements, stop_rearrangements, dj_rearrangements, total_reads, total_productive_reads, total_outofframe_reads, total_stop_reads, total_dj_reads, productive_clonality, productive_entropy, sample_clonality, sample_entropy, sample_amount_ng, sample_cells_mass_estimate, fraction_productive_of_cells_mass_estimate, sample_cells, fraction_productive_of_cells, max_productive_frequency, max_frequency, counting_method, primer_set, sequence_result_status, release_date, upload_date, sample_tags, fraction_productive, order_name, kit_id, total_t_cells, total_templates_agg]\n",
      "Index: []\n",
      "\n",
      "[0 rows x 94 columns]\n",
      "                                          rearrangement     amino_acid  \\\n",
      "2123  AAYCMRGRGACWCAGCWSKGTATTTYTGTGCCAGCAGTTTGGGCCC...  CASSLGPNTEAFF   \n",
      "\n",
      "     frame_type rearrangement_type  templates  reads  frequency  \\\n",
      "2123         In                VDJ          4    314   0.000707   \n",
      "\n",
      "      productive_frequency  cdr3_length    v_family  ...       primer_set  \\\n",
      "2123              0.000831           39  unresolved  ...  Human-TCRB-PD2x   \n",
      "\n",
      "      sequence_result_status         release_date          upload_date  \\\n",
      "2123               Published  08/10/2016 11:24:40  07/05/2016 03:54:55   \n",
      "\n",
      "                                            sample_tags fraction_productive  \\\n",
      "2123  Age (Range):65+ Years (Old Age),Age:66 Years,C...            0.850319   \n",
      "\n",
      "                 order_name  kit_id  total_t_cells  total_templates_agg  \n",
      "2123  MSKCC- Snyder- P01-01     NaN         5381.0                  NaN  \n",
      "\n",
      "[1 rows x 94 columns]\n",
      "Empty DataFrame\n",
      "Columns: [rearrangement, amino_acid, frame_type, rearrangement_type, templates, reads, frequency, productive_frequency, cdr3_length, v_family, v_gene, v_allele, d_family, d_gene, d_allele, j_family, j_gene, j_allele, v_deletions, d5_deletions, d3_deletions, j_deletions, n2_insertions, n1_insertions, v_index, n1_index, n2_index, d_index, j_index, v_family_ties, v_gene_ties, v_allele_ties, d_family_ties, d_gene_ties, d_allele_ties, j_family_ties, j_gene_ties, j_allele_ties, sequence_tags, v_shm_count, v_shm_indexes, antibody, bio_identity, v_resolved, d_resolved, j_resolved, sample_name, species, locus, product_subtype, kit_pool, sku, test_name, sample_catalog_tags, sample_rich_tags, sample_rich_tags_json, kit_control, total_templates, productive_templates, outofframe_templates, stop_templates, dj_templates, total_rearrangements, productive_rearrangements, outofframe_rearrangements, stop_rearrangements, dj_rearrangements, total_reads, total_productive_reads, total_outofframe_reads, total_stop_reads, total_dj_reads, productive_clonality, productive_entropy, sample_clonality, sample_entropy, sample_amount_ng, sample_cells_mass_estimate, fraction_productive_of_cells_mass_estimate, sample_cells, fraction_productive_of_cells, max_productive_frequency, max_frequency, counting_method, primer_set, sequence_result_status, release_date, upload_date, sample_tags, fraction_productive, order_name, kit_id, total_t_cells, total_templates_agg]\n",
      "Index: []\n",
      "\n",
      "[0 rows x 94 columns]\n",
      "Empty DataFrame\n",
      "Columns: [rearrangement, amino_acid, frame_type, rearrangement_type, templates, reads, frequency, productive_frequency, cdr3_length, v_family, v_gene, v_allele, d_family, d_gene, d_allele, j_family, j_gene, j_allele, v_deletions, d5_deletions, d3_deletions, j_deletions, n2_insertions, n1_insertions, v_index, n1_index, n2_index, d_index, j_index, v_family_ties, v_gene_ties, v_allele_ties, d_family_ties, d_gene_ties, d_allele_ties, j_family_ties, j_gene_ties, j_allele_ties, sequence_tags, v_shm_count, v_shm_indexes, antibody, bio_identity, v_resolved, d_resolved, j_resolved, sample_name, species, locus, product_subtype, kit_pool, sku, test_name, sample_catalog_tags, sample_rich_tags, sample_rich_tags_json, kit_control, total_templates, productive_templates, outofframe_templates, stop_templates, dj_templates, total_rearrangements, productive_rearrangements, outofframe_rearrangements, stop_rearrangements, dj_rearrangements, total_reads, total_productive_reads, total_outofframe_reads, total_stop_reads, total_dj_reads, productive_clonality, productive_entropy, sample_clonality, sample_entropy, sample_amount_ng, sample_cells_mass_estimate, fraction_productive_of_cells_mass_estimate, sample_cells, fraction_productive_of_cells, max_productive_frequency, max_frequency, counting_method, primer_set, sequence_result_status, release_date, upload_date, sample_tags, fraction_productive, order_name, kit_id, total_t_cells, total_templates_agg]\n",
      "Index: []\n",
      "\n",
      "[0 rows x 94 columns]\n",
      "Empty DataFrame\n",
      "Columns: [rearrangement, amino_acid, frame_type, rearrangement_type, templates, reads, frequency, productive_frequency, cdr3_length, v_family, v_gene, v_allele, d_family, d_gene, d_allele, j_family, j_gene, j_allele, v_deletions, d5_deletions, d3_deletions, j_deletions, n2_insertions, n1_insertions, v_index, n1_index, n2_index, d_index, j_index, v_family_ties, v_gene_ties, v_allele_ties, d_family_ties, d_gene_ties, d_allele_ties, j_family_ties, j_gene_ties, j_allele_ties, sequence_tags, v_shm_count, v_shm_indexes, antibody, bio_identity, v_resolved, d_resolved, j_resolved, sample_name, species, locus, product_subtype, kit_pool, sku, test_name, sample_catalog_tags, sample_rich_tags, sample_rich_tags_json, kit_control, total_templates, productive_templates, outofframe_templates, stop_templates, dj_templates, total_rearrangements, productive_rearrangements, outofframe_rearrangements, stop_rearrangements, dj_rearrangements, total_reads, total_productive_reads, total_outofframe_reads, total_stop_reads, total_dj_reads, productive_clonality, productive_entropy, sample_clonality, sample_entropy, sample_amount_ng, sample_cells_mass_estimate, fraction_productive_of_cells_mass_estimate, sample_cells, fraction_productive_of_cells, max_productive_frequency, max_frequency, counting_method, primer_set, sequence_result_status, release_date, upload_date, sample_tags, fraction_productive, order_name, kit_id, total_t_cells, total_templates_agg]\n",
      "Index: []\n",
      "\n",
      "[0 rows x 94 columns]\n",
      "Empty DataFrame\n",
      "Columns: [rearrangement, amino_acid, frame_type, rearrangement_type, templates, reads, frequency, productive_frequency, cdr3_length, v_family, v_gene, v_allele, d_family, d_gene, d_allele, j_family, j_gene, j_allele, v_deletions, d5_deletions, d3_deletions, j_deletions, n2_insertions, n1_insertions, v_index, n1_index, n2_index, d_index, j_index, v_family_ties, v_gene_ties, v_allele_ties, d_family_ties, d_gene_ties, d_allele_ties, j_family_ties, j_gene_ties, j_allele_ties, sequence_tags, v_shm_count, v_shm_indexes, antibody, bio_identity, v_resolved, d_resolved, j_resolved, sample_name, species, locus, product_subtype, kit_pool, sku, test_name, sample_catalog_tags, sample_rich_tags, sample_rich_tags_json, kit_control, total_templates, productive_templates, outofframe_templates, stop_templates, dj_templates, total_rearrangements, productive_rearrangements, outofframe_rearrangements, stop_rearrangements, dj_rearrangements, total_reads, total_productive_reads, total_outofframe_reads, total_stop_reads, total_dj_reads, productive_clonality, productive_entropy, sample_clonality, sample_entropy, sample_amount_ng, sample_cells_mass_estimate, fraction_productive_of_cells_mass_estimate, sample_cells, fraction_productive_of_cells, max_productive_frequency, max_frequency, counting_method, primer_set, sequence_result_status, release_date, upload_date, sample_tags, fraction_productive, order_name, kit_id, total_t_cells, total_templates_agg]\n",
      "Index: []\n",
      "\n",
      "[0 rows x 94 columns]\n",
      "Empty DataFrame\n",
      "Columns: [rearrangement, amino_acid, frame_type, rearrangement_type, templates, reads, frequency, productive_frequency, cdr3_length, v_family, v_gene, v_allele, d_family, d_gene, d_allele, j_family, j_gene, j_allele, v_deletions, d5_deletions, d3_deletions, j_deletions, n2_insertions, n1_insertions, v_index, n1_index, n2_index, d_index, j_index, v_family_ties, v_gene_ties, v_allele_ties, d_family_ties, d_gene_ties, d_allele_ties, j_family_ties, j_gene_ties, j_allele_ties, sequence_tags, v_shm_count, v_shm_indexes, antibody, bio_identity, v_resolved, d_resolved, j_resolved, sample_name, species, locus, product_subtype, kit_pool, sku, test_name, sample_catalog_tags, sample_rich_tags, sample_rich_tags_json, kit_control, total_templates, productive_templates, outofframe_templates, stop_templates, dj_templates, total_rearrangements, productive_rearrangements, outofframe_rearrangements, stop_rearrangements, dj_rearrangements, total_reads, total_productive_reads, total_outofframe_reads, total_stop_reads, total_dj_reads, productive_clonality, productive_entropy, sample_clonality, sample_entropy, sample_amount_ng, sample_cells_mass_estimate, fraction_productive_of_cells_mass_estimate, sample_cells, fraction_productive_of_cells, max_productive_frequency, max_frequency, counting_method, primer_set, sequence_result_status, release_date, upload_date, sample_tags, fraction_productive, order_name, kit_id, total_t_cells, total_templates_agg]\n",
      "Index: []\n",
      "\n",
      "[0 rows x 94 columns]\n",
      "Empty DataFrame\n",
      "Columns: [rearrangement, amino_acid, frame_type, rearrangement_type, templates, reads, frequency, productive_frequency, cdr3_length, v_family, v_gene, v_allele, d_family, d_gene, d_allele, j_family, j_gene, j_allele, v_deletions, d5_deletions, d3_deletions, j_deletions, n2_insertions, n1_insertions, v_index, n1_index, n2_index, d_index, j_index, v_family_ties, v_gene_ties, v_allele_ties, d_family_ties, d_gene_ties, d_allele_ties, j_family_ties, j_gene_ties, j_allele_ties, sequence_tags, v_shm_count, v_shm_indexes, antibody, bio_identity, v_resolved, d_resolved, j_resolved, sample_name, species, locus, product_subtype, kit_pool, sku, test_name, sample_catalog_tags, sample_rich_tags, sample_rich_tags_json, kit_control, total_templates, productive_templates, outofframe_templates, stop_templates, dj_templates, total_rearrangements, productive_rearrangements, outofframe_rearrangements, stop_rearrangements, dj_rearrangements, total_reads, total_productive_reads, total_outofframe_reads, total_stop_reads, total_dj_reads, productive_clonality, productive_entropy, sample_clonality, sample_entropy, sample_amount_ng, sample_cells_mass_estimate, fraction_productive_of_cells_mass_estimate, sample_cells, fraction_productive_of_cells, max_productive_frequency, max_frequency, counting_method, primer_set, sequence_result_status, release_date, upload_date, sample_tags, fraction_productive, order_name, kit_id, total_t_cells, total_templates_agg]\n",
      "Index: []\n",
      "\n",
      "[0 rows x 94 columns]\n",
      "Empty DataFrame\n",
      "Columns: [rearrangement, amino_acid, frame_type, rearrangement_type, templates, reads, frequency, productive_frequency, cdr3_length, v_family, v_gene, v_allele, d_family, d_gene, d_allele, j_family, j_gene, j_allele, v_deletions, d5_deletions, d3_deletions, j_deletions, n2_insertions, n1_insertions, v_index, n1_index, n2_index, d_index, j_index, v_family_ties, v_gene_ties, v_allele_ties, d_family_ties, d_gene_ties, d_allele_ties, j_family_ties, j_gene_ties, j_allele_ties, sequence_tags, v_shm_count, v_shm_indexes, antibody, bio_identity, v_resolved, d_resolved, j_resolved, sample_name, species, locus, product_subtype, kit_pool, sku, test_name, sample_catalog_tags, sample_rich_tags, sample_rich_tags_json, kit_control, total_templates, productive_templates, outofframe_templates, stop_templates, dj_templates, total_rearrangements, productive_rearrangements, outofframe_rearrangements, stop_rearrangements, dj_rearrangements, total_reads, total_productive_reads, total_outofframe_reads, total_stop_reads, total_dj_reads, productive_clonality, productive_entropy, sample_clonality, sample_entropy, sample_amount_ng, sample_cells_mass_estimate, fraction_productive_of_cells_mass_estimate, sample_cells, fraction_productive_of_cells, max_productive_frequency, max_frequency, counting_method, primer_set, sequence_result_status, release_date, upload_date, sample_tags, fraction_productive, order_name, kit_id, total_t_cells, total_templates_agg]\n",
      "Index: []\n",
      "\n",
      "[0 rows x 94 columns]\n",
      "Empty DataFrame\n",
      "Columns: [rearrangement, amino_acid, frame_type, rearrangement_type, templates, reads, frequency, productive_frequency, cdr3_length, v_family, v_gene, v_allele, d_family, d_gene, d_allele, j_family, j_gene, j_allele, v_deletions, d5_deletions, d3_deletions, j_deletions, n2_insertions, n1_insertions, v_index, n1_index, n2_index, d_index, j_index, v_family_ties, v_gene_ties, v_allele_ties, d_family_ties, d_gene_ties, d_allele_ties, j_family_ties, j_gene_ties, j_allele_ties, sequence_tags, v_shm_count, v_shm_indexes, antibody, bio_identity, v_resolved, d_resolved, j_resolved, sample_name, species, locus, product_subtype, kit_pool, sku, test_name, sample_catalog_tags, sample_rich_tags, sample_rich_tags_json, kit_control, total_templates, productive_templates, outofframe_templates, stop_templates, dj_templates, total_rearrangements, productive_rearrangements, outofframe_rearrangements, stop_rearrangements, dj_rearrangements, total_reads, total_productive_reads, total_outofframe_reads, total_stop_reads, total_dj_reads, productive_clonality, productive_entropy, sample_clonality, sample_entropy, sample_amount_ng, sample_cells_mass_estimate, fraction_productive_of_cells_mass_estimate, sample_cells, fraction_productive_of_cells, max_productive_frequency, max_frequency, counting_method, primer_set, sequence_result_status, release_date, upload_date, sample_tags, fraction_productive, order_name, kit_id, total_t_cells, total_templates_agg]\n",
      "Index: []\n",
      "\n",
      "[0 rows x 94 columns]\n",
      "Empty DataFrame\n",
      "Columns: [rearrangement, amino_acid, frame_type, rearrangement_type, templates, reads, frequency, productive_frequency, cdr3_length, v_family, v_gene, v_allele, d_family, d_gene, d_allele, j_family, j_gene, j_allele, v_deletions, d5_deletions, d3_deletions, j_deletions, n2_insertions, n1_insertions, v_index, n1_index, n2_index, d_index, j_index, v_family_ties, v_gene_ties, v_allele_ties, d_family_ties, d_gene_ties, d_allele_ties, j_family_ties, j_gene_ties, j_allele_ties, sequence_tags, v_shm_count, v_shm_indexes, antibody, bio_identity, v_resolved, d_resolved, j_resolved, sample_name, species, locus, product_subtype, kit_pool, sku, test_name, sample_catalog_tags, sample_rich_tags, sample_rich_tags_json, kit_control, total_templates, productive_templates, outofframe_templates, stop_templates, dj_templates, total_rearrangements, productive_rearrangements, outofframe_rearrangements, stop_rearrangements, dj_rearrangements, total_reads, total_productive_reads, total_outofframe_reads, total_stop_reads, total_dj_reads, productive_clonality, productive_entropy, sample_clonality, sample_entropy, sample_amount_ng, sample_cells_mass_estimate, fraction_productive_of_cells_mass_estimate, sample_cells, fraction_productive_of_cells, max_productive_frequency, max_frequency, counting_method, primer_set, sequence_result_status, release_date, upload_date, sample_tags, fraction_productive, order_name, kit_id, total_t_cells, total_templates_agg]\n",
      "Index: []\n",
      "\n",
      "[0 rows x 94 columns]\n",
      "Empty DataFrame\n",
      "Columns: [rearrangement, amino_acid, frame_type, rearrangement_type, templates, reads, frequency, productive_frequency, cdr3_length, v_family, v_gene, v_allele, d_family, d_gene, d_allele, j_family, j_gene, j_allele, v_deletions, d5_deletions, d3_deletions, j_deletions, n2_insertions, n1_insertions, v_index, n1_index, n2_index, d_index, j_index, v_family_ties, v_gene_ties, v_allele_ties, d_family_ties, d_gene_ties, d_allele_ties, j_family_ties, j_gene_ties, j_allele_ties, sequence_tags, v_shm_count, v_shm_indexes, antibody, bio_identity, v_resolved, d_resolved, j_resolved, sample_name, species, locus, product_subtype, kit_pool, sku, test_name, sample_catalog_tags, sample_rich_tags, sample_rich_tags_json, kit_control, total_templates, productive_templates, outofframe_templates, stop_templates, dj_templates, total_rearrangements, productive_rearrangements, outofframe_rearrangements, stop_rearrangements, dj_rearrangements, total_reads, total_productive_reads, total_outofframe_reads, total_stop_reads, total_dj_reads, productive_clonality, productive_entropy, sample_clonality, sample_entropy, sample_amount_ng, sample_cells_mass_estimate, fraction_productive_of_cells_mass_estimate, sample_cells, fraction_productive_of_cells, max_productive_frequency, max_frequency, counting_method, primer_set, sequence_result_status, release_date, upload_date, sample_tags, fraction_productive, order_name, kit_id, total_t_cells, total_templates_agg]\n",
      "Index: []\n",
      "\n",
      "[0 rows x 94 columns]\n",
      "                                           rearrangement     amino_acid  \\\n",
      "10713  CCCAACCAGACAGCTCTTTACTTCTGTGCCAGCAGTTTGGGTCCGA...  CASSLGPNTEAFF   \n",
      "11876  CCCAACCAGACMKCTCTKTACTTCTGTGCCAGCAGTTTAGGACCGA...  CASSLGPNTEAFF   \n",
      "\n",
      "      frame_type rearrangement_type  templates  reads  frequency  \\\n",
      "10713         In                VDJ          1      9   0.000034   \n",
      "11876         In                VDJ          1     16   0.000061   \n",
      "\n",
      "       productive_frequency  cdr3_length    v_family  ...       primer_set  \\\n",
      "10713              0.000042           39     TCRBV24  ...  Human-TCRB-PD2x   \n",
      "11876              0.000074           39  unresolved  ...  Human-TCRB-PD2x   \n",
      "\n",
      "       sequence_result_status         release_date          upload_date  \\\n",
      "10713               Published  08/10/2016 11:24:40  07/05/2016 03:54:42   \n",
      "11876               Published  08/10/2016 11:24:40  07/05/2016 03:54:42   \n",
      "\n",
      "                                             sample_tags fraction_productive  \\\n",
      "10713  Age (Range):45-65 Years (Late Adulthood),Age:4...            0.822326   \n",
      "11876  Age (Range):45-65 Years (Late Adulthood),Age:4...            0.822326   \n",
      "\n",
      "                  order_name  kit_id  total_t_cells  total_templates_agg  \n",
      "10713  MSKCC- Snyder- P01-01     NaN        19319.0                  NaN  \n",
      "11876  MSKCC- Snyder- P01-01     NaN        19319.0                  NaN  \n",
      "\n",
      "[2 rows x 94 columns]\n",
      "                                           rearrangement     amino_acid  \\\n",
      "27904  CCCAACCAGACMKCTCTKTACTTCTGTGCCAGCAGTTTAGGCCCGA...  CASSLGPNTEAFF   \n",
      "\n",
      "      frame_type rearrangement_type  templates  reads  frequency  \\\n",
      "27904         In                VDJ          1     21   0.000003   \n",
      "\n",
      "       productive_frequency  cdr3_length    v_family  ...       primer_set  \\\n",
      "27904              0.000004           39  unresolved  ...  Human-TCRB-PD2x   \n",
      "\n",
      "       sequence_result_status         release_date          upload_date  \\\n",
      "27904               Published  08/10/2016 11:24:40  07/08/2016 11:12:40   \n",
      "\n",
      "                                             sample_tags fraction_productive  \\\n",
      "27904  Age (Range):45-65 Years (Late Adulthood),Age:4...            0.821456   \n",
      "\n",
      "                  order_name  kit_id  total_t_cells  total_templates_agg  \n",
      "27904  MSKCC- Snyder- P01-01     NaN        92221.0                  NaN  \n",
      "\n",
      "[1 rows x 94 columns]\n",
      "Empty DataFrame\n",
      "Columns: [rearrangement, amino_acid, frame_type, rearrangement_type, templates, reads, frequency, productive_frequency, cdr3_length, v_family, v_gene, v_allele, d_family, d_gene, d_allele, j_family, j_gene, j_allele, v_deletions, d5_deletions, d3_deletions, j_deletions, n2_insertions, n1_insertions, v_index, n1_index, n2_index, d_index, j_index, v_family_ties, v_gene_ties, v_allele_ties, d_family_ties, d_gene_ties, d_allele_ties, j_family_ties, j_gene_ties, j_allele_ties, sequence_tags, v_shm_count, v_shm_indexes, antibody, bio_identity, v_resolved, d_resolved, j_resolved, sample_name, species, locus, product_subtype, kit_pool, sku, test_name, sample_catalog_tags, sample_rich_tags, sample_rich_tags_json, kit_control, total_templates, productive_templates, outofframe_templates, stop_templates, dj_templates, total_rearrangements, productive_rearrangements, outofframe_rearrangements, stop_rearrangements, dj_rearrangements, total_reads, total_productive_reads, total_outofframe_reads, total_stop_reads, total_dj_reads, productive_clonality, productive_entropy, sample_clonality, sample_entropy, sample_amount_ng, sample_cells_mass_estimate, fraction_productive_of_cells_mass_estimate, sample_cells, fraction_productive_of_cells, max_productive_frequency, max_frequency, counting_method, primer_set, sequence_result_status, release_date, upload_date, sample_tags, fraction_productive, order_name, kit_id, total_t_cells, total_templates_agg]\n",
      "Index: []\n",
      "\n",
      "[0 rows x 94 columns]\n"
     ]
    },
    {
     "name": "stdout",
     "output_type": "stream",
     "text": [
      "Empty DataFrame\n",
      "Columns: [rearrangement, amino_acid, frame_type, rearrangement_type, templates, reads, frequency, productive_frequency, cdr3_length, v_family, v_gene, v_allele, d_family, d_gene, d_allele, j_family, j_gene, j_allele, v_deletions, d5_deletions, d3_deletions, j_deletions, n2_insertions, n1_insertions, v_index, n1_index, n2_index, d_index, j_index, v_family_ties, v_gene_ties, v_allele_ties, d_family_ties, d_gene_ties, d_allele_ties, j_family_ties, j_gene_ties, j_allele_ties, sequence_tags, v_shm_count, v_shm_indexes, antibody, bio_identity, v_resolved, d_resolved, j_resolved, sample_name, species, locus, product_subtype, kit_pool, sku, test_name, sample_catalog_tags, sample_rich_tags, sample_rich_tags_json, kit_control, total_templates, productive_templates, outofframe_templates, stop_templates, dj_templates, total_rearrangements, productive_rearrangements, outofframe_rearrangements, stop_rearrangements, dj_rearrangements, total_reads, total_productive_reads, total_outofframe_reads, total_stop_reads, total_dj_reads, productive_clonality, productive_entropy, sample_clonality, sample_entropy, sample_amount_ng, sample_cells_mass_estimate, fraction_productive_of_cells_mass_estimate, sample_cells, fraction_productive_of_cells, max_productive_frequency, max_frequency, counting_method, primer_set, sequence_result_status, release_date, upload_date, sample_tags, fraction_productive, order_name, kit_id, total_t_cells, total_templates_agg]\n",
      "Index: []\n",
      "\n",
      "[0 rows x 94 columns]\n",
      "Empty DataFrame\n",
      "Columns: [rearrangement, amino_acid, frame_type, rearrangement_type, templates, reads, frequency, productive_frequency, cdr3_length, v_family, v_gene, v_allele, d_family, d_gene, d_allele, j_family, j_gene, j_allele, v_deletions, d5_deletions, d3_deletions, j_deletions, n2_insertions, n1_insertions, v_index, n1_index, n2_index, d_index, j_index, v_family_ties, v_gene_ties, v_allele_ties, d_family_ties, d_gene_ties, d_allele_ties, j_family_ties, j_gene_ties, j_allele_ties, sequence_tags, v_shm_count, v_shm_indexes, antibody, bio_identity, v_resolved, d_resolved, j_resolved, sample_name, species, locus, product_subtype, kit_pool, sku, test_name, sample_catalog_tags, sample_rich_tags, sample_rich_tags_json, kit_control, total_templates, productive_templates, outofframe_templates, stop_templates, dj_templates, total_rearrangements, productive_rearrangements, outofframe_rearrangements, stop_rearrangements, dj_rearrangements, total_reads, total_productive_reads, total_outofframe_reads, total_stop_reads, total_dj_reads, productive_clonality, productive_entropy, sample_clonality, sample_entropy, sample_amount_ng, sample_cells_mass_estimate, fraction_productive_of_cells_mass_estimate, sample_cells, fraction_productive_of_cells, max_productive_frequency, max_frequency, counting_method, primer_set, sequence_result_status, release_date, upload_date, sample_tags, fraction_productive, order_name, kit_id, total_t_cells, total_templates_agg]\n",
      "Index: []\n",
      "\n",
      "[0 rows x 94 columns]\n",
      "Empty DataFrame\n",
      "Columns: [rearrangement, amino_acid, frame_type, rearrangement_type, templates, reads, frequency, productive_frequency, cdr3_length, v_family, v_gene, v_allele, d_family, d_gene, d_allele, j_family, j_gene, j_allele, v_deletions, d5_deletions, d3_deletions, j_deletions, n2_insertions, n1_insertions, v_index, n1_index, n2_index, d_index, j_index, v_family_ties, v_gene_ties, v_allele_ties, d_family_ties, d_gene_ties, d_allele_ties, j_family_ties, j_gene_ties, j_allele_ties, sequence_tags, v_shm_count, v_shm_indexes, antibody, bio_identity, v_resolved, d_resolved, j_resolved, sample_name, species, locus, product_subtype, kit_pool, sku, test_name, sample_catalog_tags, sample_rich_tags, sample_rich_tags_json, kit_control, total_templates, productive_templates, outofframe_templates, stop_templates, dj_templates, total_rearrangements, productive_rearrangements, outofframe_rearrangements, stop_rearrangements, dj_rearrangements, total_reads, total_productive_reads, total_outofframe_reads, total_stop_reads, total_dj_reads, productive_clonality, productive_entropy, sample_clonality, sample_entropy, sample_amount_ng, sample_cells_mass_estimate, fraction_productive_of_cells_mass_estimate, sample_cells, fraction_productive_of_cells, max_productive_frequency, max_frequency, counting_method, primer_set, sequence_result_status, release_date, upload_date, sample_tags, fraction_productive, order_name, kit_id, total_t_cells, total_templates_agg]\n",
      "Index: []\n",
      "\n",
      "[0 rows x 94 columns]\n",
      "Empty DataFrame\n",
      "Columns: [rearrangement, amino_acid, frame_type, rearrangement_type, templates, reads, frequency, productive_frequency, cdr3_length, v_family, v_gene, v_allele, d_family, d_gene, d_allele, j_family, j_gene, j_allele, v_deletions, d5_deletions, d3_deletions, j_deletions, n2_insertions, n1_insertions, v_index, n1_index, n2_index, d_index, j_index, v_family_ties, v_gene_ties, v_allele_ties, d_family_ties, d_gene_ties, d_allele_ties, j_family_ties, j_gene_ties, j_allele_ties, sequence_tags, v_shm_count, v_shm_indexes, antibody, bio_identity, v_resolved, d_resolved, j_resolved, sample_name, species, locus, product_subtype, kit_pool, sku, test_name, sample_catalog_tags, sample_rich_tags, sample_rich_tags_json, kit_control, total_templates, productive_templates, outofframe_templates, stop_templates, dj_templates, total_rearrangements, productive_rearrangements, outofframe_rearrangements, stop_rearrangements, dj_rearrangements, total_reads, total_productive_reads, total_outofframe_reads, total_stop_reads, total_dj_reads, productive_clonality, productive_entropy, sample_clonality, sample_entropy, sample_amount_ng, sample_cells_mass_estimate, fraction_productive_of_cells_mass_estimate, sample_cells, fraction_productive_of_cells, max_productive_frequency, max_frequency, counting_method, primer_set, sequence_result_status, release_date, upload_date, sample_tags, fraction_productive, order_name, kit_id, total_t_cells, total_templates_agg]\n",
      "Index: []\n",
      "\n",
      "[0 rows x 94 columns]\n",
      "                                          rearrangement     amino_acid  \\\n",
      "2618  AACCCAGGGACTCAGCTGTGTATTTTTGTGCCAGCAGTTTGGGCCC...  CASSLGPNTEAFF   \n",
      "\n",
      "     frame_type rearrangement_type  templates  reads  frequency  \\\n",
      "2618         In                VDJ          2     87   0.000592   \n",
      "\n",
      "      productive_frequency  cdr3_length v_family  ...       primer_set  \\\n",
      "2618              0.000713           39  TCRBV12  ...  Human-TCRB-PD2x   \n",
      "\n",
      "      sequence_result_status         release_date          upload_date  \\\n",
      "2618               Published  08/10/2016 11:24:40  07/05/2016 03:54:53   \n",
      "\n",
      "                                      sample_tags fraction_productive  \\\n",
      "2618  Preservation Type:FFPE,Tissue Source:Tissue            0.830526   \n",
      "\n",
      "                 order_name  kit_id  total_t_cells  total_templates_agg  \n",
      "2618  MSKCC- Snyder- P01-01     NaN         3881.0                  NaN  \n",
      "\n",
      "[1 rows x 94 columns]\n",
      "Empty DataFrame\n",
      "Columns: [rearrangement, amino_acid, frame_type, rearrangement_type, templates, reads, frequency, productive_frequency, cdr3_length, v_family, v_gene, v_allele, d_family, d_gene, d_allele, j_family, j_gene, j_allele, v_deletions, d5_deletions, d3_deletions, j_deletions, n2_insertions, n1_insertions, v_index, n1_index, n2_index, d_index, j_index, v_family_ties, v_gene_ties, v_allele_ties, d_family_ties, d_gene_ties, d_allele_ties, j_family_ties, j_gene_ties, j_allele_ties, sequence_tags, v_shm_count, v_shm_indexes, antibody, bio_identity, v_resolved, d_resolved, j_resolved, sample_name, species, locus, product_subtype, kit_pool, sku, test_name, sample_catalog_tags, sample_rich_tags, sample_rich_tags_json, kit_control, total_templates, productive_templates, outofframe_templates, stop_templates, dj_templates, total_rearrangements, productive_rearrangements, outofframe_rearrangements, stop_rearrangements, dj_rearrangements, total_reads, total_productive_reads, total_outofframe_reads, total_stop_reads, total_dj_reads, productive_clonality, productive_entropy, sample_clonality, sample_entropy, sample_amount_ng, sample_cells_mass_estimate, fraction_productive_of_cells_mass_estimate, sample_cells, fraction_productive_of_cells, max_productive_frequency, max_frequency, counting_method, primer_set, sequence_result_status, release_date, upload_date, sample_tags, fraction_productive, order_name, kit_id, total_t_cells, total_templates_agg]\n",
      "Index: []\n",
      "\n",
      "[0 rows x 94 columns]\n",
      "Empty DataFrame\n",
      "Columns: [rearrangement, amino_acid, frame_type, rearrangement_type, templates, reads, frequency, productive_frequency, cdr3_length, v_family, v_gene, v_allele, d_family, d_gene, d_allele, j_family, j_gene, j_allele, v_deletions, d5_deletions, d3_deletions, j_deletions, n2_insertions, n1_insertions, v_index, n1_index, n2_index, d_index, j_index, v_family_ties, v_gene_ties, v_allele_ties, d_family_ties, d_gene_ties, d_allele_ties, j_family_ties, j_gene_ties, j_allele_ties, sequence_tags, v_shm_count, v_shm_indexes, antibody, bio_identity, v_resolved, d_resolved, j_resolved, sample_name, species, locus, product_subtype, kit_pool, sku, test_name, sample_catalog_tags, sample_rich_tags, sample_rich_tags_json, kit_control, total_templates, productive_templates, outofframe_templates, stop_templates, dj_templates, total_rearrangements, productive_rearrangements, outofframe_rearrangements, stop_rearrangements, dj_rearrangements, total_reads, total_productive_reads, total_outofframe_reads, total_stop_reads, total_dj_reads, productive_clonality, productive_entropy, sample_clonality, sample_entropy, sample_amount_ng, sample_cells_mass_estimate, fraction_productive_of_cells_mass_estimate, sample_cells, fraction_productive_of_cells, max_productive_frequency, max_frequency, counting_method, primer_set, sequence_result_status, release_date, upload_date, sample_tags, fraction_productive, order_name, kit_id, total_t_cells, total_templates_agg]\n",
      "Index: []\n",
      "\n",
      "[0 rows x 94 columns]\n",
      "Empty DataFrame\n",
      "Columns: [rearrangement, amino_acid, frame_type, rearrangement_type, templates, reads, frequency, productive_frequency, cdr3_length, v_family, v_gene, v_allele, d_family, d_gene, d_allele, j_family, j_gene, j_allele, v_deletions, d5_deletions, d3_deletions, j_deletions, n2_insertions, n1_insertions, v_index, n1_index, n2_index, d_index, j_index, v_family_ties, v_gene_ties, v_allele_ties, d_family_ties, d_gene_ties, d_allele_ties, j_family_ties, j_gene_ties, j_allele_ties, sequence_tags, v_shm_count, v_shm_indexes, antibody, bio_identity, v_resolved, d_resolved, j_resolved, sample_name, species, locus, product_subtype, kit_pool, sku, test_name, sample_catalog_tags, sample_rich_tags, sample_rich_tags_json, kit_control, total_templates, productive_templates, outofframe_templates, stop_templates, dj_templates, total_rearrangements, productive_rearrangements, outofframe_rearrangements, stop_rearrangements, dj_rearrangements, total_reads, total_productive_reads, total_outofframe_reads, total_stop_reads, total_dj_reads, productive_clonality, productive_entropy, sample_clonality, sample_entropy, sample_amount_ng, sample_cells_mass_estimate, fraction_productive_of_cells_mass_estimate, sample_cells, fraction_productive_of_cells, max_productive_frequency, max_frequency, counting_method, primer_set, sequence_result_status, release_date, upload_date, sample_tags, fraction_productive, order_name, kit_id, total_t_cells, total_templates_agg]\n",
      "Index: []\n",
      "\n",
      "[0 rows x 94 columns]\n",
      "                                          rearrangement     amino_acid  \\\n",
      "2383  AGGACTCSGCCGTGTATCTCTGTGCCAGCAGCTTAGGACCGAACAC...  CASSLGPNTEAFF   \n",
      "7905  AACCCAGGGACTCAGCTGTGTATTTTTGTGCCAGCAGTTTAGGGCC...  CASSLGPNTEAFF   \n",
      "\n",
      "     frame_type rearrangement_type  templates  reads  frequency  \\\n",
      "2383         In                VDJ          1     41   0.000014   \n",
      "7905         In                VDJ          1    176   0.000058   \n",
      "\n",
      "      productive_frequency  cdr3_length v_family  ...       primer_set  \\\n",
      "2383              0.000016           39  TCRBV07  ...  Human-TCRB-PD2x   \n",
      "7905              0.000070           39  TCRBV12  ...  Human-TCRB-PD2x   \n",
      "\n",
      "      sequence_result_status         release_date          upload_date  \\\n",
      "2383               Published  08/10/2016 11:24:40  07/08/2016 11:12:44   \n",
      "7905               Published  08/10/2016 11:24:40  07/08/2016 11:12:44   \n",
      "\n",
      "                                      sample_tags fraction_productive  \\\n",
      "2383  Preservation Type:FFPE,Tissue Source:Tissue            0.828183   \n",
      "7905  Preservation Type:FFPE,Tissue Source:Tissue            0.828183   \n",
      "\n",
      "                 order_name  kit_id  total_t_cells  total_templates_agg  \n",
      "2383  MSKCC- Snyder- P01-01     NaN        22841.0                  NaN  \n",
      "7905  MSKCC- Snyder- P01-01     NaN        22841.0                  NaN  \n",
      "\n",
      "[2 rows x 94 columns]\n",
      "Empty DataFrame\n",
      "Columns: [rearrangement, amino_acid, frame_type, rearrangement_type, templates, reads, frequency, productive_frequency, cdr3_length, v_family, v_gene, v_allele, d_family, d_gene, d_allele, j_family, j_gene, j_allele, v_deletions, d5_deletions, d3_deletions, j_deletions, n2_insertions, n1_insertions, v_index, n1_index, n2_index, d_index, j_index, v_family_ties, v_gene_ties, v_allele_ties, d_family_ties, d_gene_ties, d_allele_ties, j_family_ties, j_gene_ties, j_allele_ties, sequence_tags, v_shm_count, v_shm_indexes, antibody, bio_identity, v_resolved, d_resolved, j_resolved, sample_name, species, locus, product_subtype, kit_pool, sku, test_name, sample_catalog_tags, sample_rich_tags, sample_rich_tags_json, kit_control, total_templates, productive_templates, outofframe_templates, stop_templates, dj_templates, total_rearrangements, productive_rearrangements, outofframe_rearrangements, stop_rearrangements, dj_rearrangements, total_reads, total_productive_reads, total_outofframe_reads, total_stop_reads, total_dj_reads, productive_clonality, productive_entropy, sample_clonality, sample_entropy, sample_amount_ng, sample_cells_mass_estimate, fraction_productive_of_cells_mass_estimate, sample_cells, fraction_productive_of_cells, max_productive_frequency, max_frequency, counting_method, primer_set, sequence_result_status, release_date, upload_date, sample_tags, fraction_productive, order_name, kit_id, total_t_cells, total_templates_agg]\n",
      "Index: []\n",
      "\n",
      "[0 rows x 94 columns]\n",
      "Empty DataFrame\n",
      "Columns: [rearrangement, amino_acid, frame_type, rearrangement_type, templates, reads, frequency, productive_frequency, cdr3_length, v_family, v_gene, v_allele, d_family, d_gene, d_allele, j_family, j_gene, j_allele, v_deletions, d5_deletions, d3_deletions, j_deletions, n2_insertions, n1_insertions, v_index, n1_index, n2_index, d_index, j_index, v_family_ties, v_gene_ties, v_allele_ties, d_family_ties, d_gene_ties, d_allele_ties, j_family_ties, j_gene_ties, j_allele_ties, sequence_tags, v_shm_count, v_shm_indexes, antibody, bio_identity, v_resolved, d_resolved, j_resolved, sample_name, species, locus, product_subtype, kit_pool, sku, test_name, sample_catalog_tags, sample_rich_tags, sample_rich_tags_json, kit_control, total_templates, productive_templates, outofframe_templates, stop_templates, dj_templates, total_rearrangements, productive_rearrangements, outofframe_rearrangements, stop_rearrangements, dj_rearrangements, total_reads, total_productive_reads, total_outofframe_reads, total_stop_reads, total_dj_reads, productive_clonality, productive_entropy, sample_clonality, sample_entropy, sample_amount_ng, sample_cells_mass_estimate, fraction_productive_of_cells_mass_estimate, sample_cells, fraction_productive_of_cells, max_productive_frequency, max_frequency, counting_method, primer_set, sequence_result_status, release_date, upload_date, sample_tags, fraction_productive, order_name, kit_id, total_t_cells, total_templates_agg]\n",
      "Index: []\n",
      "\n",
      "[0 rows x 94 columns]\n",
      "Empty DataFrame\n",
      "Columns: [rearrangement, amino_acid, frame_type, rearrangement_type, templates, reads, frequency, productive_frequency, cdr3_length, v_family, v_gene, v_allele, d_family, d_gene, d_allele, j_family, j_gene, j_allele, v_deletions, d5_deletions, d3_deletions, j_deletions, n2_insertions, n1_insertions, v_index, n1_index, n2_index, d_index, j_index, v_family_ties, v_gene_ties, v_allele_ties, d_family_ties, d_gene_ties, d_allele_ties, j_family_ties, j_gene_ties, j_allele_ties, sequence_tags, v_shm_count, v_shm_indexes, antibody, bio_identity, v_resolved, d_resolved, j_resolved, sample_name, species, locus, product_subtype, kit_pool, sku, test_name, sample_catalog_tags, sample_rich_tags, sample_rich_tags_json, kit_control, total_templates, productive_templates, outofframe_templates, stop_templates, dj_templates, total_rearrangements, productive_rearrangements, outofframe_rearrangements, stop_rearrangements, dj_rearrangements, total_reads, total_productive_reads, total_outofframe_reads, total_stop_reads, total_dj_reads, productive_clonality, productive_entropy, sample_clonality, sample_entropy, sample_amount_ng, sample_cells_mass_estimate, fraction_productive_of_cells_mass_estimate, sample_cells, fraction_productive_of_cells, max_productive_frequency, max_frequency, counting_method, primer_set, sequence_result_status, release_date, upload_date, sample_tags, fraction_productive, order_name, kit_id, total_t_cells, total_templates_agg]\n",
      "Index: []\n",
      "\n",
      "[0 rows x 94 columns]\n",
      "Empty DataFrame\n",
      "Columns: [rearrangement, amino_acid, frame_type, rearrangement_type, templates, reads, frequency, productive_frequency, cdr3_length, v_family, v_gene, v_allele, d_family, d_gene, d_allele, j_family, j_gene, j_allele, v_deletions, d5_deletions, d3_deletions, j_deletions, n2_insertions, n1_insertions, v_index, n1_index, n2_index, d_index, j_index, v_family_ties, v_gene_ties, v_allele_ties, d_family_ties, d_gene_ties, d_allele_ties, j_family_ties, j_gene_ties, j_allele_ties, sequence_tags, v_shm_count, v_shm_indexes, antibody, bio_identity, v_resolved, d_resolved, j_resolved, sample_name, species, locus, product_subtype, kit_pool, sku, test_name, sample_catalog_tags, sample_rich_tags, sample_rich_tags_json, kit_control, total_templates, productive_templates, outofframe_templates, stop_templates, dj_templates, total_rearrangements, productive_rearrangements, outofframe_rearrangements, stop_rearrangements, dj_rearrangements, total_reads, total_productive_reads, total_outofframe_reads, total_stop_reads, total_dj_reads, productive_clonality, productive_entropy, sample_clonality, sample_entropy, sample_amount_ng, sample_cells_mass_estimate, fraction_productive_of_cells_mass_estimate, sample_cells, fraction_productive_of_cells, max_productive_frequency, max_frequency, counting_method, primer_set, sequence_result_status, release_date, upload_date, sample_tags, fraction_productive, order_name, kit_id, total_t_cells, total_templates_agg]\n",
      "Index: []\n",
      "\n",
      "[0 rows x 94 columns]\n",
      "Empty DataFrame\n",
      "Columns: [rearrangement, amino_acid, frame_type, rearrangement_type, templates, reads, frequency, productive_frequency, cdr3_length, v_family, v_gene, v_allele, d_family, d_gene, d_allele, j_family, j_gene, j_allele, v_deletions, d5_deletions, d3_deletions, j_deletions, n2_insertions, n1_insertions, v_index, n1_index, n2_index, d_index, j_index, v_family_ties, v_gene_ties, v_allele_ties, d_family_ties, d_gene_ties, d_allele_ties, j_family_ties, j_gene_ties, j_allele_ties, sequence_tags, v_shm_count, v_shm_indexes, antibody, bio_identity, v_resolved, d_resolved, j_resolved, sample_name, species, locus, product_subtype, kit_pool, sku, test_name, sample_catalog_tags, sample_rich_tags, sample_rich_tags_json, kit_control, total_templates, productive_templates, outofframe_templates, stop_templates, dj_templates, total_rearrangements, productive_rearrangements, outofframe_rearrangements, stop_rearrangements, dj_rearrangements, total_reads, total_productive_reads, total_outofframe_reads, total_stop_reads, total_dj_reads, productive_clonality, productive_entropy, sample_clonality, sample_entropy, sample_amount_ng, sample_cells_mass_estimate, fraction_productive_of_cells_mass_estimate, sample_cells, fraction_productive_of_cells, max_productive_frequency, max_frequency, counting_method, primer_set, sequence_result_status, release_date, upload_date, sample_tags, fraction_productive, order_name, kit_id, total_t_cells, total_templates_agg]\n",
      "Index: []\n",
      "\n",
      "[0 rows x 94 columns]\n",
      "Empty DataFrame\n",
      "Columns: [rearrangement, amino_acid, frame_type, rearrangement_type, templates, reads, frequency, productive_frequency, cdr3_length, v_family, v_gene, v_allele, d_family, d_gene, d_allele, j_family, j_gene, j_allele, v_deletions, d5_deletions, d3_deletions, j_deletions, n2_insertions, n1_insertions, v_index, n1_index, n2_index, d_index, j_index, v_family_ties, v_gene_ties, v_allele_ties, d_family_ties, d_gene_ties, d_allele_ties, j_family_ties, j_gene_ties, j_allele_ties, sequence_tags, v_shm_count, v_shm_indexes, antibody, bio_identity, v_resolved, d_resolved, j_resolved, sample_name, species, locus, product_subtype, kit_pool, sku, test_name, sample_catalog_tags, sample_rich_tags, sample_rich_tags_json, kit_control, total_templates, productive_templates, outofframe_templates, stop_templates, dj_templates, total_rearrangements, productive_rearrangements, outofframe_rearrangements, stop_rearrangements, dj_rearrangements, total_reads, total_productive_reads, total_outofframe_reads, total_stop_reads, total_dj_reads, productive_clonality, productive_entropy, sample_clonality, sample_entropy, sample_amount_ng, sample_cells_mass_estimate, fraction_productive_of_cells_mass_estimate, sample_cells, fraction_productive_of_cells, max_productive_frequency, max_frequency, counting_method, primer_set, sequence_result_status, release_date, upload_date, sample_tags, fraction_productive, order_name, kit_id, total_t_cells, total_templates_agg]\n",
      "Index: []\n",
      "\n",
      "[0 rows x 94 columns]\n",
      "Empty DataFrame\n",
      "Columns: [rearrangement, amino_acid, frame_type, rearrangement_type, templates, reads, frequency, productive_frequency, cdr3_length, v_family, v_gene, v_allele, d_family, d_gene, d_allele, j_family, j_gene, j_allele, v_deletions, d5_deletions, d3_deletions, j_deletions, n2_insertions, n1_insertions, v_index, n1_index, n2_index, d_index, j_index, v_family_ties, v_gene_ties, v_allele_ties, d_family_ties, d_gene_ties, d_allele_ties, j_family_ties, j_gene_ties, j_allele_ties, sequence_tags, v_shm_count, v_shm_indexes, antibody, bio_identity, v_resolved, d_resolved, j_resolved, sample_name, species, locus, product_subtype, kit_pool, sku, test_name, sample_catalog_tags, sample_rich_tags, sample_rich_tags_json, kit_control, total_templates, productive_templates, outofframe_templates, stop_templates, dj_templates, total_rearrangements, productive_rearrangements, outofframe_rearrangements, stop_rearrangements, dj_rearrangements, total_reads, total_productive_reads, total_outofframe_reads, total_stop_reads, total_dj_reads, productive_clonality, productive_entropy, sample_clonality, sample_entropy, sample_amount_ng, sample_cells_mass_estimate, fraction_productive_of_cells_mass_estimate, sample_cells, fraction_productive_of_cells, max_productive_frequency, max_frequency, counting_method, primer_set, sequence_result_status, release_date, upload_date, sample_tags, fraction_productive, order_name, kit_id, total_t_cells, total_templates_agg]\n",
      "Index: []\n",
      "\n",
      "[0 rows x 94 columns]\n",
      "Empty DataFrame\n",
      "Columns: [rearrangement, amino_acid, frame_type, rearrangement_type, templates, reads, frequency, productive_frequency, cdr3_length, v_family, v_gene, v_allele, d_family, d_gene, d_allele, j_family, j_gene, j_allele, v_deletions, d5_deletions, d3_deletions, j_deletions, n2_insertions, n1_insertions, v_index, n1_index, n2_index, d_index, j_index, v_family_ties, v_gene_ties, v_allele_ties, d_family_ties, d_gene_ties, d_allele_ties, j_family_ties, j_gene_ties, j_allele_ties, sequence_tags, v_shm_count, v_shm_indexes, antibody, bio_identity, v_resolved, d_resolved, j_resolved, sample_name, species, locus, product_subtype, kit_pool, sku, test_name, sample_catalog_tags, sample_rich_tags, sample_rich_tags_json, kit_control, total_templates, productive_templates, outofframe_templates, stop_templates, dj_templates, total_rearrangements, productive_rearrangements, outofframe_rearrangements, stop_rearrangements, dj_rearrangements, total_reads, total_productive_reads, total_outofframe_reads, total_stop_reads, total_dj_reads, productive_clonality, productive_entropy, sample_clonality, sample_entropy, sample_amount_ng, sample_cells_mass_estimate, fraction_productive_of_cells_mass_estimate, sample_cells, fraction_productive_of_cells, max_productive_frequency, max_frequency, counting_method, primer_set, sequence_result_status, release_date, upload_date, sample_tags, fraction_productive, order_name, kit_id, total_t_cells, total_templates_agg]\n",
      "Index: []\n",
      "\n",
      "[0 rows x 94 columns]\n",
      "Empty DataFrame\n",
      "Columns: [rearrangement, amino_acid, frame_type, rearrangement_type, templates, reads, frequency, productive_frequency, cdr3_length, v_family, v_gene, v_allele, d_family, d_gene, d_allele, j_family, j_gene, j_allele, v_deletions, d5_deletions, d3_deletions, j_deletions, n2_insertions, n1_insertions, v_index, n1_index, n2_index, d_index, j_index, v_family_ties, v_gene_ties, v_allele_ties, d_family_ties, d_gene_ties, d_allele_ties, j_family_ties, j_gene_ties, j_allele_ties, sequence_tags, v_shm_count, v_shm_indexes, antibody, bio_identity, v_resolved, d_resolved, j_resolved, sample_name, species, locus, product_subtype, kit_pool, sku, test_name, sample_catalog_tags, sample_rich_tags, sample_rich_tags_json, kit_control, total_templates, productive_templates, outofframe_templates, stop_templates, dj_templates, total_rearrangements, productive_rearrangements, outofframe_rearrangements, stop_rearrangements, dj_rearrangements, total_reads, total_productive_reads, total_outofframe_reads, total_stop_reads, total_dj_reads, productive_clonality, productive_entropy, sample_clonality, sample_entropy, sample_amount_ng, sample_cells_mass_estimate, fraction_productive_of_cells_mass_estimate, sample_cells, fraction_productive_of_cells, max_productive_frequency, max_frequency, counting_method, primer_set, sequence_result_status, release_date, upload_date, sample_tags, fraction_productive, order_name, kit_id, total_t_cells, total_templates_agg]\n",
      "Index: []\n",
      "\n",
      "[0 rows x 94 columns]\n",
      "Empty DataFrame\n",
      "Columns: [rearrangement, amino_acid, frame_type, rearrangement_type, templates, reads, frequency, productive_frequency, cdr3_length, v_family, v_gene, v_allele, d_family, d_gene, d_allele, j_family, j_gene, j_allele, v_deletions, d5_deletions, d3_deletions, j_deletions, n2_insertions, n1_insertions, v_index, n1_index, n2_index, d_index, j_index, v_family_ties, v_gene_ties, v_allele_ties, d_family_ties, d_gene_ties, d_allele_ties, j_family_ties, j_gene_ties, j_allele_ties, sequence_tags, v_shm_count, v_shm_indexes, antibody, bio_identity, v_resolved, d_resolved, j_resolved, sample_name, species, locus, product_subtype, kit_pool, sku, test_name, sample_catalog_tags, sample_rich_tags, sample_rich_tags_json, kit_control, total_templates, productive_templates, outofframe_templates, stop_templates, dj_templates, total_rearrangements, productive_rearrangements, outofframe_rearrangements, stop_rearrangements, dj_rearrangements, total_reads, total_productive_reads, total_outofframe_reads, total_stop_reads, total_dj_reads, productive_clonality, productive_entropy, sample_clonality, sample_entropy, sample_amount_ng, sample_cells_mass_estimate, fraction_productive_of_cells_mass_estimate, sample_cells, fraction_productive_of_cells, max_productive_frequency, max_frequency, counting_method, primer_set, sequence_result_status, release_date, upload_date, sample_tags, fraction_productive, order_name, kit_id, total_t_cells, total_templates_agg]\n",
      "Index: []\n",
      "\n",
      "[0 rows x 94 columns]\n",
      "                                          rearrangement     amino_acid  \\\n",
      "3267  AACCCAGGGACTCAGCTGTGTATTTTTGTGCCAGCAGTTTAGGGCC...  CASSLGPNTEAFF   \n",
      "\n",
      "     frame_type rearrangement_type  templates  reads  frequency  \\\n",
      "3267         In                VDJ          1      7    0.00004   \n",
      "\n",
      "      productive_frequency  cdr3_length v_family  ...       primer_set  \\\n",
      "3267              0.000049           39  TCRBV12  ...  Human-TCRB-PD2x   \n",
      "\n",
      "      sequence_result_status         release_date          upload_date  \\\n",
      "3267               Published  09/16/2016 03:39:39  09/06/2016 10:39:20   \n",
      "\n",
      "                                            sample_tags fraction_productive  \\\n",
      "3267  Age (Range):45-65 Years (Late Adulthood),Age:5...            0.811009   \n",
      "\n",
      "                 order_name  kit_id  total_t_cells  total_templates_agg  \n",
      "3267  MSKCC- Snyder- P01-02     NaN         9235.0                  NaN  \n",
      "\n",
      "[1 rows x 94 columns]\n",
      "Empty DataFrame\n",
      "Columns: [rearrangement, amino_acid, frame_type, rearrangement_type, templates, reads, frequency, productive_frequency, cdr3_length, v_family, v_gene, v_allele, d_family, d_gene, d_allele, j_family, j_gene, j_allele, v_deletions, d5_deletions, d3_deletions, j_deletions, n2_insertions, n1_insertions, v_index, n1_index, n2_index, d_index, j_index, v_family_ties, v_gene_ties, v_allele_ties, d_family_ties, d_gene_ties, d_allele_ties, j_family_ties, j_gene_ties, j_allele_ties, sequence_tags, v_shm_count, v_shm_indexes, antibody, bio_identity, v_resolved, d_resolved, j_resolved, sample_name, species, locus, product_subtype, kit_pool, sku, test_name, sample_catalog_tags, sample_rich_tags, sample_rich_tags_json, kit_control, total_templates, productive_templates, outofframe_templates, stop_templates, dj_templates, total_rearrangements, productive_rearrangements, outofframe_rearrangements, stop_rearrangements, dj_rearrangements, total_reads, total_productive_reads, total_outofframe_reads, total_stop_reads, total_dj_reads, productive_clonality, productive_entropy, sample_clonality, sample_entropy, sample_amount_ng, sample_cells_mass_estimate, fraction_productive_of_cells_mass_estimate, sample_cells, fraction_productive_of_cells, max_productive_frequency, max_frequency, counting_method, primer_set, sequence_result_status, release_date, upload_date, sample_tags, fraction_productive, order_name, kit_id, total_t_cells, total_templates_agg]\n",
      "Index: []\n",
      "\n",
      "[0 rows x 94 columns]\n",
      "Empty DataFrame\n",
      "Columns: [rearrangement, amino_acid, frame_type, rearrangement_type, templates, reads, frequency, productive_frequency, cdr3_length, v_family, v_gene, v_allele, d_family, d_gene, d_allele, j_family, j_gene, j_allele, v_deletions, d5_deletions, d3_deletions, j_deletions, n2_insertions, n1_insertions, v_index, n1_index, n2_index, d_index, j_index, v_family_ties, v_gene_ties, v_allele_ties, d_family_ties, d_gene_ties, d_allele_ties, j_family_ties, j_gene_ties, j_allele_ties, sequence_tags, v_shm_count, v_shm_indexes, antibody, bio_identity, v_resolved, d_resolved, j_resolved, sample_name, species, locus, product_subtype, kit_pool, sku, test_name, sample_catalog_tags, sample_rich_tags, sample_rich_tags_json, kit_control, total_templates, productive_templates, outofframe_templates, stop_templates, dj_templates, total_rearrangements, productive_rearrangements, outofframe_rearrangements, stop_rearrangements, dj_rearrangements, total_reads, total_productive_reads, total_outofframe_reads, total_stop_reads, total_dj_reads, productive_clonality, productive_entropy, sample_clonality, sample_entropy, sample_amount_ng, sample_cells_mass_estimate, fraction_productive_of_cells_mass_estimate, sample_cells, fraction_productive_of_cells, max_productive_frequency, max_frequency, counting_method, primer_set, sequence_result_status, release_date, upload_date, sample_tags, fraction_productive, order_name, kit_id, total_t_cells, total_templates_agg]\n",
      "Index: []\n",
      "\n",
      "[0 rows x 94 columns]\n",
      "Empty DataFrame\n",
      "Columns: [rearrangement, amino_acid, frame_type, rearrangement_type, templates, reads, frequency, productive_frequency, cdr3_length, v_family, v_gene, v_allele, d_family, d_gene, d_allele, j_family, j_gene, j_allele, v_deletions, d5_deletions, d3_deletions, j_deletions, n2_insertions, n1_insertions, v_index, n1_index, n2_index, d_index, j_index, v_family_ties, v_gene_ties, v_allele_ties, d_family_ties, d_gene_ties, d_allele_ties, j_family_ties, j_gene_ties, j_allele_ties, sequence_tags, v_shm_count, v_shm_indexes, antibody, bio_identity, v_resolved, d_resolved, j_resolved, sample_name, species, locus, product_subtype, kit_pool, sku, test_name, sample_catalog_tags, sample_rich_tags, sample_rich_tags_json, kit_control, total_templates, productive_templates, outofframe_templates, stop_templates, dj_templates, total_rearrangements, productive_rearrangements, outofframe_rearrangements, stop_rearrangements, dj_rearrangements, total_reads, total_productive_reads, total_outofframe_reads, total_stop_reads, total_dj_reads, productive_clonality, productive_entropy, sample_clonality, sample_entropy, sample_amount_ng, sample_cells_mass_estimate, fraction_productive_of_cells_mass_estimate, sample_cells, fraction_productive_of_cells, max_productive_frequency, max_frequency, counting_method, primer_set, sequence_result_status, release_date, upload_date, sample_tags, fraction_productive, order_name, kit_id, total_t_cells, total_templates_agg]\n",
      "Index: []\n",
      "\n",
      "[0 rows x 94 columns]\n",
      "Empty DataFrame\n",
      "Columns: [rearrangement, amino_acid, frame_type, rearrangement_type, templates, reads, frequency, productive_frequency, cdr3_length, v_family, v_gene, v_allele, d_family, d_gene, d_allele, j_family, j_gene, j_allele, v_deletions, d5_deletions, d3_deletions, j_deletions, n2_insertions, n1_insertions, v_index, n1_index, n2_index, d_index, j_index, v_family_ties, v_gene_ties, v_allele_ties, d_family_ties, d_gene_ties, d_allele_ties, j_family_ties, j_gene_ties, j_allele_ties, sequence_tags, v_shm_count, v_shm_indexes, antibody, bio_identity, v_resolved, d_resolved, j_resolved, sample_name, species, locus, product_subtype, kit_pool, sku, test_name, sample_catalog_tags, sample_rich_tags, sample_rich_tags_json, kit_control, total_templates, productive_templates, outofframe_templates, stop_templates, dj_templates, total_rearrangements, productive_rearrangements, outofframe_rearrangements, stop_rearrangements, dj_rearrangements, total_reads, total_productive_reads, total_outofframe_reads, total_stop_reads, total_dj_reads, productive_clonality, productive_entropy, sample_clonality, sample_entropy, sample_amount_ng, sample_cells_mass_estimate, fraction_productive_of_cells_mass_estimate, sample_cells, fraction_productive_of_cells, max_productive_frequency, max_frequency, counting_method, primer_set, sequence_result_status, release_date, upload_date, sample_tags, fraction_productive, order_name, kit_id, total_t_cells, total_templates_agg]\n",
      "Index: []\n",
      "\n",
      "[0 rows x 94 columns]\n",
      "                                          rearrangement     amino_acid  \\\n",
      "4150  AACCCAGGGACTCAGCTGTGTATTTTTGTGCCAGCAGTCTAGGGCC...  CASSLGPNTEAFF   \n",
      "6291  AACCCAGGGACTCAGCTGTGTATTTTTGTGCCAGCAGTCTGGGGCC...  CASSLGPNTEAFF   \n",
      "\n",
      "     frame_type rearrangement_type  templates  reads  frequency  \\\n",
      "4150         In                VDJ          1     12   0.000016   \n",
      "6291         In                VDJ          1     26   0.000034   \n",
      "\n",
      "      productive_frequency  cdr3_length v_family  ...       primer_set  \\\n",
      "4150              0.000021           39  TCRBV12  ...  Human-TCRB-PD2x   \n",
      "6291              0.000045           39  TCRBV12  ...  Human-TCRB-PD2x   \n",
      "\n",
      "      sequence_result_status         release_date          upload_date  \\\n",
      "4150               Published  09/16/2016 03:39:39  09/09/2016 09:50:26   \n",
      "6291               Published  09/16/2016 03:39:39  09/09/2016 09:50:26   \n",
      "\n",
      "                                            sample_tags fraction_productive  \\\n",
      "4150  Age (Range):65+ Years (Old Age),Age:73 Years,C...            0.760993   \n",
      "6291  Age (Range):65+ Years (Old Age),Age:73 Years,C...            0.760993   \n",
      "\n",
      "                 order_name  kit_id  total_t_cells  total_templates_agg  \n",
      "4150  MSKCC- Snyder- P01-02     NaN        19695.0                  NaN  \n",
      "6291  MSKCC- Snyder- P01-02     NaN        19695.0                  NaN  \n",
      "\n",
      "[2 rows x 94 columns]\n",
      "Empty DataFrame\n",
      "Columns: [rearrangement, amino_acid, frame_type, rearrangement_type, templates, reads, frequency, productive_frequency, cdr3_length, v_family, v_gene, v_allele, d_family, d_gene, d_allele, j_family, j_gene, j_allele, v_deletions, d5_deletions, d3_deletions, j_deletions, n2_insertions, n1_insertions, v_index, n1_index, n2_index, d_index, j_index, v_family_ties, v_gene_ties, v_allele_ties, d_family_ties, d_gene_ties, d_allele_ties, j_family_ties, j_gene_ties, j_allele_ties, sequence_tags, v_shm_count, v_shm_indexes, antibody, bio_identity, v_resolved, d_resolved, j_resolved, sample_name, species, locus, product_subtype, kit_pool, sku, test_name, sample_catalog_tags, sample_rich_tags, sample_rich_tags_json, kit_control, total_templates, productive_templates, outofframe_templates, stop_templates, dj_templates, total_rearrangements, productive_rearrangements, outofframe_rearrangements, stop_rearrangements, dj_rearrangements, total_reads, total_productive_reads, total_outofframe_reads, total_stop_reads, total_dj_reads, productive_clonality, productive_entropy, sample_clonality, sample_entropy, sample_amount_ng, sample_cells_mass_estimate, fraction_productive_of_cells_mass_estimate, sample_cells, fraction_productive_of_cells, max_productive_frequency, max_frequency, counting_method, primer_set, sequence_result_status, release_date, upload_date, sample_tags, fraction_productive, order_name, kit_id, total_t_cells, total_templates_agg]\n",
      "Index: []\n",
      "\n",
      "[0 rows x 94 columns]\n",
      "Empty DataFrame\n",
      "Columns: [rearrangement, amino_acid, frame_type, rearrangement_type, templates, reads, frequency, productive_frequency, cdr3_length, v_family, v_gene, v_allele, d_family, d_gene, d_allele, j_family, j_gene, j_allele, v_deletions, d5_deletions, d3_deletions, j_deletions, n2_insertions, n1_insertions, v_index, n1_index, n2_index, d_index, j_index, v_family_ties, v_gene_ties, v_allele_ties, d_family_ties, d_gene_ties, d_allele_ties, j_family_ties, j_gene_ties, j_allele_ties, sequence_tags, v_shm_count, v_shm_indexes, antibody, bio_identity, v_resolved, d_resolved, j_resolved, sample_name, species, locus, product_subtype, kit_pool, sku, test_name, sample_catalog_tags, sample_rich_tags, sample_rich_tags_json, kit_control, total_templates, productive_templates, outofframe_templates, stop_templates, dj_templates, total_rearrangements, productive_rearrangements, outofframe_rearrangements, stop_rearrangements, dj_rearrangements, total_reads, total_productive_reads, total_outofframe_reads, total_stop_reads, total_dj_reads, productive_clonality, productive_entropy, sample_clonality, sample_entropy, sample_amount_ng, sample_cells_mass_estimate, fraction_productive_of_cells_mass_estimate, sample_cells, fraction_productive_of_cells, max_productive_frequency, max_frequency, counting_method, primer_set, sequence_result_status, release_date, upload_date, sample_tags, fraction_productive, order_name, kit_id, total_t_cells, total_templates_agg]\n",
      "Index: []\n",
      "\n",
      "[0 rows x 94 columns]\n",
      "Empty DataFrame\n",
      "Columns: [rearrangement, amino_acid, frame_type, rearrangement_type, templates, reads, frequency, productive_frequency, cdr3_length, v_family, v_gene, v_allele, d_family, d_gene, d_allele, j_family, j_gene, j_allele, v_deletions, d5_deletions, d3_deletions, j_deletions, n2_insertions, n1_insertions, v_index, n1_index, n2_index, d_index, j_index, v_family_ties, v_gene_ties, v_allele_ties, d_family_ties, d_gene_ties, d_allele_ties, j_family_ties, j_gene_ties, j_allele_ties, sequence_tags, v_shm_count, v_shm_indexes, antibody, bio_identity, v_resolved, d_resolved, j_resolved, sample_name, species, locus, product_subtype, kit_pool, sku, test_name, sample_catalog_tags, sample_rich_tags, sample_rich_tags_json, kit_control, total_templates, productive_templates, outofframe_templates, stop_templates, dj_templates, total_rearrangements, productive_rearrangements, outofframe_rearrangements, stop_rearrangements, dj_rearrangements, total_reads, total_productive_reads, total_outofframe_reads, total_stop_reads, total_dj_reads, productive_clonality, productive_entropy, sample_clonality, sample_entropy, sample_amount_ng, sample_cells_mass_estimate, fraction_productive_of_cells_mass_estimate, sample_cells, fraction_productive_of_cells, max_productive_frequency, max_frequency, counting_method, primer_set, sequence_result_status, release_date, upload_date, sample_tags, fraction_productive, order_name, kit_id, total_t_cells, total_templates_agg]\n",
      "Index: []\n",
      "\n",
      "[0 rows x 94 columns]\n"
     ]
    },
    {
     "name": "stdout",
     "output_type": "stream",
     "text": [
      "Empty DataFrame\n",
      "Columns: [rearrangement, amino_acid, frame_type, rearrangement_type, templates, reads, frequency, productive_frequency, cdr3_length, v_family, v_gene, v_allele, d_family, d_gene, d_allele, j_family, j_gene, j_allele, v_deletions, d5_deletions, d3_deletions, j_deletions, n2_insertions, n1_insertions, v_index, n1_index, n2_index, d_index, j_index, v_family_ties, v_gene_ties, v_allele_ties, d_family_ties, d_gene_ties, d_allele_ties, j_family_ties, j_gene_ties, j_allele_ties, sequence_tags, v_shm_count, v_shm_indexes, antibody, bio_identity, v_resolved, d_resolved, j_resolved, sample_name, species, locus, product_subtype, kit_pool, sku, test_name, sample_catalog_tags, sample_rich_tags, sample_rich_tags_json, kit_control, total_templates, productive_templates, outofframe_templates, stop_templates, dj_templates, total_rearrangements, productive_rearrangements, outofframe_rearrangements, stop_rearrangements, dj_rearrangements, total_reads, total_productive_reads, total_outofframe_reads, total_stop_reads, total_dj_reads, productive_clonality, productive_entropy, sample_clonality, sample_entropy, sample_amount_ng, sample_cells_mass_estimate, fraction_productive_of_cells_mass_estimate, sample_cells, fraction_productive_of_cells, max_productive_frequency, max_frequency, counting_method, primer_set, sequence_result_status, release_date, upload_date, sample_tags, fraction_productive, order_name, kit_id, total_t_cells, total_templates_agg]\n",
      "Index: []\n",
      "\n",
      "[0 rows x 94 columns]\n",
      "Empty DataFrame\n",
      "Columns: [rearrangement, amino_acid, frame_type, rearrangement_type, templates, reads, frequency, productive_frequency, cdr3_length, v_family, v_gene, v_allele, d_family, d_gene, d_allele, j_family, j_gene, j_allele, v_deletions, d5_deletions, d3_deletions, j_deletions, n2_insertions, n1_insertions, v_index, n1_index, n2_index, d_index, j_index, v_family_ties, v_gene_ties, v_allele_ties, d_family_ties, d_gene_ties, d_allele_ties, j_family_ties, j_gene_ties, j_allele_ties, sequence_tags, v_shm_count, v_shm_indexes, antibody, bio_identity, v_resolved, d_resolved, j_resolved, sample_name, species, locus, product_subtype, kit_pool, sku, test_name, sample_catalog_tags, sample_rich_tags, sample_rich_tags_json, kit_control, total_templates, productive_templates, outofframe_templates, stop_templates, dj_templates, total_rearrangements, productive_rearrangements, outofframe_rearrangements, stop_rearrangements, dj_rearrangements, total_reads, total_productive_reads, total_outofframe_reads, total_stop_reads, total_dj_reads, productive_clonality, productive_entropy, sample_clonality, sample_entropy, sample_amount_ng, sample_cells_mass_estimate, fraction_productive_of_cells_mass_estimate, sample_cells, fraction_productive_of_cells, max_productive_frequency, max_frequency, counting_method, primer_set, sequence_result_status, release_date, upload_date, sample_tags, fraction_productive, order_name, kit_id, total_t_cells, total_templates_agg]\n",
      "Index: []\n",
      "\n",
      "[0 rows x 94 columns]\n",
      "Empty DataFrame\n",
      "Columns: [rearrangement, amino_acid, frame_type, rearrangement_type, templates, reads, frequency, productive_frequency, cdr3_length, v_family, v_gene, v_allele, d_family, d_gene, d_allele, j_family, j_gene, j_allele, v_deletions, d5_deletions, d3_deletions, j_deletions, n2_insertions, n1_insertions, v_index, n1_index, n2_index, d_index, j_index, v_family_ties, v_gene_ties, v_allele_ties, d_family_ties, d_gene_ties, d_allele_ties, j_family_ties, j_gene_ties, j_allele_ties, sequence_tags, v_shm_count, v_shm_indexes, antibody, bio_identity, v_resolved, d_resolved, j_resolved, sample_name, species, locus, product_subtype, kit_pool, sku, test_name, sample_catalog_tags, sample_rich_tags, sample_rich_tags_json, kit_control, total_templates, productive_templates, outofframe_templates, stop_templates, dj_templates, total_rearrangements, productive_rearrangements, outofframe_rearrangements, stop_rearrangements, dj_rearrangements, total_reads, total_productive_reads, total_outofframe_reads, total_stop_reads, total_dj_reads, productive_clonality, productive_entropy, sample_clonality, sample_entropy, sample_amount_ng, sample_cells_mass_estimate, fraction_productive_of_cells_mass_estimate, sample_cells, fraction_productive_of_cells, max_productive_frequency, max_frequency, counting_method, primer_set, sequence_result_status, release_date, upload_date, sample_tags, fraction_productive, order_name, kit_id, total_t_cells, total_templates_agg]\n",
      "Index: []\n",
      "\n",
      "[0 rows x 94 columns]\n",
      "Empty DataFrame\n",
      "Columns: [rearrangement, amino_acid, frame_type, rearrangement_type, templates, reads, frequency, productive_frequency, cdr3_length, v_family, v_gene, v_allele, d_family, d_gene, d_allele, j_family, j_gene, j_allele, v_deletions, d5_deletions, d3_deletions, j_deletions, n2_insertions, n1_insertions, v_index, n1_index, n2_index, d_index, j_index, v_family_ties, v_gene_ties, v_allele_ties, d_family_ties, d_gene_ties, d_allele_ties, j_family_ties, j_gene_ties, j_allele_ties, sequence_tags, v_shm_count, v_shm_indexes, antibody, bio_identity, v_resolved, d_resolved, j_resolved, sample_name, species, locus, product_subtype, kit_pool, sku, test_name, sample_catalog_tags, sample_rich_tags, sample_rich_tags_json, kit_control, total_templates, productive_templates, outofframe_templates, stop_templates, dj_templates, total_rearrangements, productive_rearrangements, outofframe_rearrangements, stop_rearrangements, dj_rearrangements, total_reads, total_productive_reads, total_outofframe_reads, total_stop_reads, total_dj_reads, productive_clonality, productive_entropy, sample_clonality, sample_entropy, sample_amount_ng, sample_cells_mass_estimate, fraction_productive_of_cells_mass_estimate, sample_cells, fraction_productive_of_cells, max_productive_frequency, max_frequency, counting_method, primer_set, sequence_result_status, release_date, upload_date, sample_tags, fraction_productive, order_name, kit_id, total_t_cells, total_templates_agg]\n",
      "Index: []\n",
      "\n",
      "[0 rows x 94 columns]\n",
      "Empty DataFrame\n",
      "Columns: [rearrangement, amino_acid, frame_type, rearrangement_type, templates, reads, frequency, productive_frequency, cdr3_length, v_family, v_gene, v_allele, d_family, d_gene, d_allele, j_family, j_gene, j_allele, v_deletions, d5_deletions, d3_deletions, j_deletions, n2_insertions, n1_insertions, v_index, n1_index, n2_index, d_index, j_index, v_family_ties, v_gene_ties, v_allele_ties, d_family_ties, d_gene_ties, d_allele_ties, j_family_ties, j_gene_ties, j_allele_ties, sequence_tags, v_shm_count, v_shm_indexes, antibody, bio_identity, v_resolved, d_resolved, j_resolved, sample_name, species, locus, product_subtype, kit_pool, sku, test_name, sample_catalog_tags, sample_rich_tags, sample_rich_tags_json, kit_control, total_templates, productive_templates, outofframe_templates, stop_templates, dj_templates, total_rearrangements, productive_rearrangements, outofframe_rearrangements, stop_rearrangements, dj_rearrangements, total_reads, total_productive_reads, total_outofframe_reads, total_stop_reads, total_dj_reads, productive_clonality, productive_entropy, sample_clonality, sample_entropy, sample_amount_ng, sample_cells_mass_estimate, fraction_productive_of_cells_mass_estimate, sample_cells, fraction_productive_of_cells, max_productive_frequency, max_frequency, counting_method, primer_set, sequence_result_status, release_date, upload_date, sample_tags, fraction_productive, order_name, kit_id, total_t_cells, total_templates_agg]\n",
      "Index: []\n",
      "\n",
      "[0 rows x 94 columns]\n",
      "Empty DataFrame\n",
      "Columns: [rearrangement, amino_acid, frame_type, rearrangement_type, templates, reads, frequency, productive_frequency, cdr3_length, v_family, v_gene, v_allele, d_family, d_gene, d_allele, j_family, j_gene, j_allele, v_deletions, d5_deletions, d3_deletions, j_deletions, n2_insertions, n1_insertions, v_index, n1_index, n2_index, d_index, j_index, v_family_ties, v_gene_ties, v_allele_ties, d_family_ties, d_gene_ties, d_allele_ties, j_family_ties, j_gene_ties, j_allele_ties, sequence_tags, v_shm_count, v_shm_indexes, antibody, bio_identity, v_resolved, d_resolved, j_resolved, sample_name, species, locus, product_subtype, kit_pool, sku, test_name, sample_catalog_tags, sample_rich_tags, sample_rich_tags_json, kit_control, total_templates, productive_templates, outofframe_templates, stop_templates, dj_templates, total_rearrangements, productive_rearrangements, outofframe_rearrangements, stop_rearrangements, dj_rearrangements, total_reads, total_productive_reads, total_outofframe_reads, total_stop_reads, total_dj_reads, productive_clonality, productive_entropy, sample_clonality, sample_entropy, sample_amount_ng, sample_cells_mass_estimate, fraction_productive_of_cells_mass_estimate, sample_cells, fraction_productive_of_cells, max_productive_frequency, max_frequency, counting_method, primer_set, sequence_result_status, release_date, upload_date, sample_tags, fraction_productive, order_name, kit_id, total_t_cells, total_templates_agg]\n",
      "Index: []\n",
      "\n",
      "[0 rows x 94 columns]\n",
      "Empty DataFrame\n",
      "Columns: [rearrangement, amino_acid, frame_type, rearrangement_type, templates, reads, frequency, productive_frequency, cdr3_length, v_family, v_gene, v_allele, d_family, d_gene, d_allele, j_family, j_gene, j_allele, v_deletions, d5_deletions, d3_deletions, j_deletions, n2_insertions, n1_insertions, v_index, n1_index, n2_index, d_index, j_index, v_family_ties, v_gene_ties, v_allele_ties, d_family_ties, d_gene_ties, d_allele_ties, j_family_ties, j_gene_ties, j_allele_ties, sequence_tags, v_shm_count, v_shm_indexes, antibody, bio_identity, v_resolved, d_resolved, j_resolved, sample_name, species, locus, product_subtype, kit_pool, sku, test_name, sample_catalog_tags, sample_rich_tags, sample_rich_tags_json, kit_control, total_templates, productive_templates, outofframe_templates, stop_templates, dj_templates, total_rearrangements, productive_rearrangements, outofframe_rearrangements, stop_rearrangements, dj_rearrangements, total_reads, total_productive_reads, total_outofframe_reads, total_stop_reads, total_dj_reads, productive_clonality, productive_entropy, sample_clonality, sample_entropy, sample_amount_ng, sample_cells_mass_estimate, fraction_productive_of_cells_mass_estimate, sample_cells, fraction_productive_of_cells, max_productive_frequency, max_frequency, counting_method, primer_set, sequence_result_status, release_date, upload_date, sample_tags, fraction_productive, order_name, kit_id, total_t_cells, total_templates_agg]\n",
      "Index: []\n",
      "\n",
      "[0 rows x 94 columns]\n",
      "Empty DataFrame\n",
      "Columns: [rearrangement, amino_acid, frame_type, rearrangement_type, templates, reads, frequency, productive_frequency, cdr3_length, v_family, v_gene, v_allele, d_family, d_gene, d_allele, j_family, j_gene, j_allele, v_deletions, d5_deletions, d3_deletions, j_deletions, n2_insertions, n1_insertions, v_index, n1_index, n2_index, d_index, j_index, v_family_ties, v_gene_ties, v_allele_ties, d_family_ties, d_gene_ties, d_allele_ties, j_family_ties, j_gene_ties, j_allele_ties, sequence_tags, v_shm_count, v_shm_indexes, antibody, bio_identity, v_resolved, d_resolved, j_resolved, sample_name, species, locus, product_subtype, kit_pool, sku, test_name, sample_catalog_tags, sample_rich_tags, sample_rich_tags_json, kit_control, total_templates, productive_templates, outofframe_templates, stop_templates, dj_templates, total_rearrangements, productive_rearrangements, outofframe_rearrangements, stop_rearrangements, dj_rearrangements, total_reads, total_productive_reads, total_outofframe_reads, total_stop_reads, total_dj_reads, productive_clonality, productive_entropy, sample_clonality, sample_entropy, sample_amount_ng, sample_cells_mass_estimate, fraction_productive_of_cells_mass_estimate, sample_cells, fraction_productive_of_cells, max_productive_frequency, max_frequency, counting_method, primer_set, sequence_result_status, release_date, upload_date, sample_tags, fraction_productive, order_name, kit_id, total_t_cells, total_templates_agg]\n",
      "Index: []\n",
      "\n",
      "[0 rows x 94 columns]\n",
      "Empty DataFrame\n",
      "Columns: [rearrangement, amino_acid, frame_type, rearrangement_type, templates, reads, frequency, productive_frequency, cdr3_length, v_family, v_gene, v_allele, d_family, d_gene, d_allele, j_family, j_gene, j_allele, v_deletions, d5_deletions, d3_deletions, j_deletions, n2_insertions, n1_insertions, v_index, n1_index, n2_index, d_index, j_index, v_family_ties, v_gene_ties, v_allele_ties, d_family_ties, d_gene_ties, d_allele_ties, j_family_ties, j_gene_ties, j_allele_ties, sequence_tags, v_shm_count, v_shm_indexes, antibody, bio_identity, v_resolved, d_resolved, j_resolved, sample_name, species, locus, product_subtype, kit_pool, sku, test_name, sample_catalog_tags, sample_rich_tags, sample_rich_tags_json, kit_control, total_templates, productive_templates, outofframe_templates, stop_templates, dj_templates, total_rearrangements, productive_rearrangements, outofframe_rearrangements, stop_rearrangements, dj_rearrangements, total_reads, total_productive_reads, total_outofframe_reads, total_stop_reads, total_dj_reads, productive_clonality, productive_entropy, sample_clonality, sample_entropy, sample_amount_ng, sample_cells_mass_estimate, fraction_productive_of_cells_mass_estimate, sample_cells, fraction_productive_of_cells, max_productive_frequency, max_frequency, counting_method, primer_set, sequence_result_status, release_date, upload_date, sample_tags, fraction_productive, order_name, kit_id, total_t_cells, total_templates_agg]\n",
      "Index: []\n",
      "\n",
      "[0 rows x 94 columns]\n",
      "Empty DataFrame\n",
      "Columns: [rearrangement, amino_acid, frame_type, rearrangement_type, templates, reads, frequency, productive_frequency, cdr3_length, v_family, v_gene, v_allele, d_family, d_gene, d_allele, j_family, j_gene, j_allele, v_deletions, d5_deletions, d3_deletions, j_deletions, n2_insertions, n1_insertions, v_index, n1_index, n2_index, d_index, j_index, v_family_ties, v_gene_ties, v_allele_ties, d_family_ties, d_gene_ties, d_allele_ties, j_family_ties, j_gene_ties, j_allele_ties, sequence_tags, v_shm_count, v_shm_indexes, antibody, bio_identity, v_resolved, d_resolved, j_resolved, sample_name, species, locus, product_subtype, kit_pool, sku, test_name, sample_catalog_tags, sample_rich_tags, sample_rich_tags_json, kit_control, total_templates, productive_templates, outofframe_templates, stop_templates, dj_templates, total_rearrangements, productive_rearrangements, outofframe_rearrangements, stop_rearrangements, dj_rearrangements, total_reads, total_productive_reads, total_outofframe_reads, total_stop_reads, total_dj_reads, productive_clonality, productive_entropy, sample_clonality, sample_entropy, sample_amount_ng, sample_cells_mass_estimate, fraction_productive_of_cells_mass_estimate, sample_cells, fraction_productive_of_cells, max_productive_frequency, max_frequency, counting_method, primer_set, sequence_result_status, release_date, upload_date, sample_tags, fraction_productive, order_name, kit_id, total_t_cells, total_templates_agg]\n",
      "Index: []\n",
      "\n",
      "[0 rows x 94 columns]\n",
      "Empty DataFrame\n",
      "Columns: [rearrangement, amino_acid, frame_type, rearrangement_type, templates, reads, frequency, productive_frequency, cdr3_length, v_family, v_gene, v_allele, d_family, d_gene, d_allele, j_family, j_gene, j_allele, v_deletions, d5_deletions, d3_deletions, j_deletions, n2_insertions, n1_insertions, v_index, n1_index, n2_index, d_index, j_index, v_family_ties, v_gene_ties, v_allele_ties, d_family_ties, d_gene_ties, d_allele_ties, j_family_ties, j_gene_ties, j_allele_ties, sequence_tags, v_shm_count, v_shm_indexes, antibody, bio_identity, v_resolved, d_resolved, j_resolved, sample_name, species, locus, product_subtype, kit_pool, sku, test_name, sample_catalog_tags, sample_rich_tags, sample_rich_tags_json, kit_control, total_templates, productive_templates, outofframe_templates, stop_templates, dj_templates, total_rearrangements, productive_rearrangements, outofframe_rearrangements, stop_rearrangements, dj_rearrangements, total_reads, total_productive_reads, total_outofframe_reads, total_stop_reads, total_dj_reads, productive_clonality, productive_entropy, sample_clonality, sample_entropy, sample_amount_ng, sample_cells_mass_estimate, fraction_productive_of_cells_mass_estimate, sample_cells, fraction_productive_of_cells, max_productive_frequency, max_frequency, counting_method, primer_set, sequence_result_status, release_date, upload_date, sample_tags, fraction_productive, order_name, kit_id, total_t_cells, total_templates_agg]\n",
      "Index: []\n",
      "\n",
      "[0 rows x 94 columns]\n",
      "Empty DataFrame\n",
      "Columns: [rearrangement, amino_acid, frame_type, rearrangement_type, templates, reads, frequency, productive_frequency, cdr3_length, v_family, v_gene, v_allele, d_family, d_gene, d_allele, j_family, j_gene, j_allele, v_deletions, d5_deletions, d3_deletions, j_deletions, n2_insertions, n1_insertions, v_index, n1_index, n2_index, d_index, j_index, v_family_ties, v_gene_ties, v_allele_ties, d_family_ties, d_gene_ties, d_allele_ties, j_family_ties, j_gene_ties, j_allele_ties, sequence_tags, v_shm_count, v_shm_indexes, antibody, bio_identity, v_resolved, d_resolved, j_resolved, sample_name, species, locus, product_subtype, kit_pool, sku, test_name, sample_catalog_tags, sample_rich_tags, sample_rich_tags_json, kit_control, total_templates, productive_templates, outofframe_templates, stop_templates, dj_templates, total_rearrangements, productive_rearrangements, outofframe_rearrangements, stop_rearrangements, dj_rearrangements, total_reads, total_productive_reads, total_outofframe_reads, total_stop_reads, total_dj_reads, productive_clonality, productive_entropy, sample_clonality, sample_entropy, sample_amount_ng, sample_cells_mass_estimate, fraction_productive_of_cells_mass_estimate, sample_cells, fraction_productive_of_cells, max_productive_frequency, max_frequency, counting_method, primer_set, sequence_result_status, release_date, upload_date, sample_tags, fraction_productive, order_name, kit_id, total_t_cells, total_templates_agg]\n",
      "Index: []\n",
      "\n",
      "[0 rows x 94 columns]\n",
      "Empty DataFrame\n",
      "Columns: [rearrangement, amino_acid, frame_type, rearrangement_type, templates, reads, frequency, productive_frequency, cdr3_length, v_family, v_gene, v_allele, d_family, d_gene, d_allele, j_family, j_gene, j_allele, v_deletions, d5_deletions, d3_deletions, j_deletions, n2_insertions, n1_insertions, v_index, n1_index, n2_index, d_index, j_index, v_family_ties, v_gene_ties, v_allele_ties, d_family_ties, d_gene_ties, d_allele_ties, j_family_ties, j_gene_ties, j_allele_ties, sequence_tags, v_shm_count, v_shm_indexes, antibody, bio_identity, v_resolved, d_resolved, j_resolved, sample_name, species, locus, product_subtype, kit_pool, sku, test_name, sample_catalog_tags, sample_rich_tags, sample_rich_tags_json, kit_control, total_templates, productive_templates, outofframe_templates, stop_templates, dj_templates, total_rearrangements, productive_rearrangements, outofframe_rearrangements, stop_rearrangements, dj_rearrangements, total_reads, total_productive_reads, total_outofframe_reads, total_stop_reads, total_dj_reads, productive_clonality, productive_entropy, sample_clonality, sample_entropy, sample_amount_ng, sample_cells_mass_estimate, fraction_productive_of_cells_mass_estimate, sample_cells, fraction_productive_of_cells, max_productive_frequency, max_frequency, counting_method, primer_set, sequence_result_status, release_date, upload_date, sample_tags, fraction_productive, order_name, kit_id, total_t_cells, total_templates_agg]\n",
      "Index: []\n",
      "\n",
      "[0 rows x 94 columns]\n",
      "                                         rearrangement     amino_acid  \\\n",
      "899  AACCCAGGGACTCAGCTGTGTATTTTTGTGCCAGCAGTTTAGGCCC...  CASSLGPNTEAFF   \n",
      "\n",
      "    frame_type rearrangement_type  templates  reads  frequency  \\\n",
      "899         In                VDJ          1     27   0.000477   \n",
      "\n",
      "     productive_frequency  cdr3_length v_family  ...       primer_set  \\\n",
      "899              0.000578           39  TCRBV12  ...  Human-TCRB-PD2x   \n",
      "\n",
      "     sequence_result_status         release_date          upload_date  \\\n",
      "899               Published  09/16/2016 03:39:39  09/06/2016 10:38:08   \n",
      "\n",
      "                                           sample_tags fraction_productive  \\\n",
      "899  Age (Range):45-65 Years (Late Adulthood),Age:5...            0.825982   \n",
      "\n",
      "                order_name  kit_id  total_t_cells  total_templates_agg  \n",
      "899  MSKCC- Snyder- P01-02     NaN         2066.0                  NaN  \n",
      "\n",
      "[1 rows x 94 columns]\n",
      "                                         rearrangement     amino_acid  \\\n",
      "727  AACCCAGGGACTCAGCTGTGTATTTTTGTGCCAGCAGTTTAGGGCC...  CASSLGPNTEAFF   \n",
      "962  AACCCAGGGACTCAGCTGTGTAYTTYTGTGCCAGCAGTTTAGGCCC...  CASSLGPNTEAFF   \n",
      "\n",
      "    frame_type rearrangement_type  templates  reads  frequency  \\\n",
      "727         In                VDJ          1     42   0.000060   \n",
      "962         In                VDJ          1     86   0.000123   \n",
      "\n",
      "     productive_frequency  cdr3_length v_family  ...       primer_set  \\\n",
      "727              0.000072           39  TCRBV12  ...  Human-TCRB-PD2x   \n",
      "962              0.000148           39  TCRBV12  ...  Human-TCRB-PD2x   \n",
      "\n",
      "     sequence_result_status         release_date          upload_date  \\\n",
      "727               Published  09/16/2016 03:39:39  09/09/2016 09:50:34   \n",
      "962               Published  09/16/2016 03:39:39  09/09/2016 09:50:34   \n",
      "\n",
      "                                           sample_tags fraction_productive  \\\n",
      "727  Age (Range):45-65 Years (Late Adulthood),Age:5...            0.833431   \n",
      "962  Age (Range):45-65 Years (Late Adulthood),Age:5...            0.833431   \n",
      "\n",
      "                order_name  kit_id  total_t_cells  total_templates_agg  \n",
      "727  MSKCC- Snyder- P01-02     NaN         4447.0                  NaN  \n",
      "962  MSKCC- Snyder- P01-02     NaN         4447.0                  NaN  \n",
      "\n",
      "[2 rows x 94 columns]\n",
      "                                           rearrangement     amino_acid  \\\n",
      "16062  GGGGGACTTGGCTGTGTATCTCTGTGCCAGCAGCTTAGGGCCGAAC...  CASSLGPNTEAFF   \n",
      "\n",
      "      frame_type rearrangement_type  templates  reads  frequency  \\\n",
      "16062         In                VDJ          1     17   0.000006   \n",
      "\n",
      "       productive_frequency  cdr3_length v_family  ...       primer_set  \\\n",
      "16062              0.000008           39  TCRBV07  ...  Human-TCRB-PD2x   \n",
      "\n",
      "       sequence_result_status         release_date          upload_date  \\\n",
      "16062               Published  09/16/2016 03:39:39  09/09/2016 09:50:23   \n",
      "\n",
      "                                             sample_tags fraction_productive  \\\n",
      "16062  Age (Range):65+ Years (Old Age),Age:72 Years,C...            0.813173   \n",
      "\n",
      "                  order_name  kit_id  total_t_cells  total_templates_agg  \n",
      "16062  MSKCC- Snyder- P01-02     NaN       124737.0                  NaN  \n",
      "\n",
      "[1 rows x 94 columns]\n",
      "Empty DataFrame\n",
      "Columns: [rearrangement, amino_acid, frame_type, rearrangement_type, templates, reads, frequency, productive_frequency, cdr3_length, v_family, v_gene, v_allele, d_family, d_gene, d_allele, j_family, j_gene, j_allele, v_deletions, d5_deletions, d3_deletions, j_deletions, n2_insertions, n1_insertions, v_index, n1_index, n2_index, d_index, j_index, v_family_ties, v_gene_ties, v_allele_ties, d_family_ties, d_gene_ties, d_allele_ties, j_family_ties, j_gene_ties, j_allele_ties, sequence_tags, v_shm_count, v_shm_indexes, antibody, bio_identity, v_resolved, d_resolved, j_resolved, sample_name, species, locus, product_subtype, kit_pool, sku, test_name, sample_catalog_tags, sample_rich_tags, sample_rich_tags_json, kit_control, total_templates, productive_templates, outofframe_templates, stop_templates, dj_templates, total_rearrangements, productive_rearrangements, outofframe_rearrangements, stop_rearrangements, dj_rearrangements, total_reads, total_productive_reads, total_outofframe_reads, total_stop_reads, total_dj_reads, productive_clonality, productive_entropy, sample_clonality, sample_entropy, sample_amount_ng, sample_cells_mass_estimate, fraction_productive_of_cells_mass_estimate, sample_cells, fraction_productive_of_cells, max_productive_frequency, max_frequency, counting_method, primer_set, sequence_result_status, release_date, upload_date, sample_tags, fraction_productive, order_name, kit_id, total_t_cells, total_templates_agg]\n",
      "Index: []\n",
      "\n",
      "[0 rows x 94 columns]\n",
      "Empty DataFrame\n",
      "Columns: [rearrangement, amino_acid, frame_type, rearrangement_type, templates, reads, frequency, productive_frequency, cdr3_length, v_family, v_gene, v_allele, d_family, d_gene, d_allele, j_family, j_gene, j_allele, v_deletions, d5_deletions, d3_deletions, j_deletions, n2_insertions, n1_insertions, v_index, n1_index, n2_index, d_index, j_index, v_family_ties, v_gene_ties, v_allele_ties, d_family_ties, d_gene_ties, d_allele_ties, j_family_ties, j_gene_ties, j_allele_ties, sequence_tags, v_shm_count, v_shm_indexes, antibody, bio_identity, v_resolved, d_resolved, j_resolved, sample_name, species, locus, product_subtype, kit_pool, sku, test_name, sample_catalog_tags, sample_rich_tags, sample_rich_tags_json, kit_control, total_templates, productive_templates, outofframe_templates, stop_templates, dj_templates, total_rearrangements, productive_rearrangements, outofframe_rearrangements, stop_rearrangements, dj_rearrangements, total_reads, total_productive_reads, total_outofframe_reads, total_stop_reads, total_dj_reads, productive_clonality, productive_entropy, sample_clonality, sample_entropy, sample_amount_ng, sample_cells_mass_estimate, fraction_productive_of_cells_mass_estimate, sample_cells, fraction_productive_of_cells, max_productive_frequency, max_frequency, counting_method, primer_set, sequence_result_status, release_date, upload_date, sample_tags, fraction_productive, order_name, kit_id, total_t_cells, total_templates_agg]\n",
      "Index: []\n",
      "\n",
      "[0 rows x 94 columns]\n",
      "Empty DataFrame\n",
      "Columns: [rearrangement, amino_acid, frame_type, rearrangement_type, templates, reads, frequency, productive_frequency, cdr3_length, v_family, v_gene, v_allele, d_family, d_gene, d_allele, j_family, j_gene, j_allele, v_deletions, d5_deletions, d3_deletions, j_deletions, n2_insertions, n1_insertions, v_index, n1_index, n2_index, d_index, j_index, v_family_ties, v_gene_ties, v_allele_ties, d_family_ties, d_gene_ties, d_allele_ties, j_family_ties, j_gene_ties, j_allele_ties, sequence_tags, v_shm_count, v_shm_indexes, antibody, bio_identity, v_resolved, d_resolved, j_resolved, sample_name, species, locus, product_subtype, kit_pool, sku, test_name, sample_catalog_tags, sample_rich_tags, sample_rich_tags_json, kit_control, total_templates, productive_templates, outofframe_templates, stop_templates, dj_templates, total_rearrangements, productive_rearrangements, outofframe_rearrangements, stop_rearrangements, dj_rearrangements, total_reads, total_productive_reads, total_outofframe_reads, total_stop_reads, total_dj_reads, productive_clonality, productive_entropy, sample_clonality, sample_entropy, sample_amount_ng, sample_cells_mass_estimate, fraction_productive_of_cells_mass_estimate, sample_cells, fraction_productive_of_cells, max_productive_frequency, max_frequency, counting_method, primer_set, sequence_result_status, release_date, upload_date, sample_tags, fraction_productive, order_name, kit_id, total_t_cells, total_templates_agg]\n",
      "Index: []\n",
      "\n",
      "[0 rows x 94 columns]\n",
      "Empty DataFrame\n",
      "Columns: [rearrangement, amino_acid, frame_type, rearrangement_type, templates, reads, frequency, productive_frequency, cdr3_length, v_family, v_gene, v_allele, d_family, d_gene, d_allele, j_family, j_gene, j_allele, v_deletions, d5_deletions, d3_deletions, j_deletions, n2_insertions, n1_insertions, v_index, n1_index, n2_index, d_index, j_index, v_family_ties, v_gene_ties, v_allele_ties, d_family_ties, d_gene_ties, d_allele_ties, j_family_ties, j_gene_ties, j_allele_ties, sequence_tags, v_shm_count, v_shm_indexes, antibody, bio_identity, v_resolved, d_resolved, j_resolved, sample_name, species, locus, product_subtype, kit_pool, sku, test_name, sample_catalog_tags, sample_rich_tags, sample_rich_tags_json, kit_control, total_templates, productive_templates, outofframe_templates, stop_templates, dj_templates, total_rearrangements, productive_rearrangements, outofframe_rearrangements, stop_rearrangements, dj_rearrangements, total_reads, total_productive_reads, total_outofframe_reads, total_stop_reads, total_dj_reads, productive_clonality, productive_entropy, sample_clonality, sample_entropy, sample_amount_ng, sample_cells_mass_estimate, fraction_productive_of_cells_mass_estimate, sample_cells, fraction_productive_of_cells, max_productive_frequency, max_frequency, counting_method, primer_set, sequence_result_status, release_date, upload_date, sample_tags, fraction_productive, order_name, kit_id, total_t_cells, total_templates_agg]\n",
      "Index: []\n",
      "\n",
      "[0 rows x 94 columns]\n",
      "                                          rearrangement     amino_acid  \\\n",
      "1820  GACTCGGCCGTGTATCTCTGTGCCAGCAGCCTGGGACCGAACACTG...  CASSLGPNTEAFF   \n",
      "\n",
      "     frame_type rearrangement_type  templates  reads  frequency  \\\n",
      "1820         In                VDJ          1     24   0.000054   \n",
      "\n",
      "      productive_frequency  cdr3_length v_family  ...       primer_set  \\\n",
      "1820              0.000067           39  TCRBV07  ...  Human-TCRB-PD2x   \n",
      "\n",
      "      sequence_result_status         release_date          upload_date  \\\n",
      "1820               Published  09/16/2016 03:39:39  09/09/2016 06:25:02   \n",
      "\n",
      "                                            sample_tags fraction_productive  \\\n",
      "1820  Age (Range):45-65 Years (Late Adulthood),Age:5...            0.798733   \n",
      "\n",
      "                 order_name  kit_id  total_t_cells  total_templates_agg  \n",
      "1820  MSKCC- Snyder- P01-02     NaN        10666.0                  NaN  \n",
      "\n",
      "[1 rows x 94 columns]\n"
     ]
    }
   ],
   "source": [
    "for s in samples_to_analyse_dict:\n",
    "    df = samples_to_analyse_dict[s][samples_to_analyse_dict[s][\"amino_acid\"] == 'CASSLGPNTEAFF']\n",
    "    \n",
    "    print(df)"
   ]
  },
  {
   "cell_type": "code",
   "execution_count": 46,
   "metadata": {},
   "outputs": [
    {
     "data": {
      "text/plain": [
       "<matplotlib.axes._subplots.AxesSubplot at 0x1a2d4a76d8>"
      ]
     },
     "execution_count": 46,
     "metadata": {},
     "output_type": "execute_result"
    },
    {
     "data": {
      "image/png": "[encoded data removed]",
      "text/plain": [
       "<Figure size 432x288 with 1 Axes>"
      ]
     },
     "metadata": {},
     "output_type": "display_data"
    }
   ],
   "source": [
    "pd.Series(pre_rearrangement2).value_counts().value_counts().plot(kind=\"bar\", log=True)"
   ]
  },
  {
   "cell_type": "code",
   "execution_count": 47,
   "metadata": {},
   "outputs": [
    {
     "data": {
      "text/plain": [
       "<matplotlib.axes._subplots.AxesSubplot at 0x1a2f17def0>"
      ]
     },
     "execution_count": 47,
     "metadata": {},
     "output_type": "execute_result"
    },
    {
     "data": {
      "image/png": "[encoded data removed]",
      "text/plain": [
       "<Figure size 432x288 with 1 Axes>"
      ]
     },
     "metadata": {},
     "output_type": "display_data"
    }
   ],
   "source": [
    "pd.Series(post_rearrangement2).value_counts().value_counts().plot(kind=\"bar\", log=True)"
   ]
  },
  {
   "cell_type": "code",
   "execution_count": 48,
   "metadata": {},
   "outputs": [
    {
     "data": {
      "text/html": [
       "<div>\n",
       "<style scoped>\n",
       "    .dataframe tbody tr th:only-of-type {\n",
       "        vertical-align: middle;\n",
       "    }\n",
       "\n",
       "    .dataframe tbody tr th {\n",
       "        vertical-align: top;\n",
       "    }\n",
       "\n",
       "    .dataframe thead th {\n",
       "        text-align: right;\n",
       "    }\n",
       "</style>\n",
       "<table border=\"1\" class=\"dataframe\">\n",
       "  <thead>\n",
       "    <tr style=\"text-align: right;\">\n",
       "      <th></th>\n",
       "      <th>pre_amino_acid2</th>\n",
       "      <th>post_amino_acid2</th>\n",
       "    </tr>\n",
       "  </thead>\n",
       "  <tbody>\n",
       "    <tr>\n",
       "      <th>0</th>\n",
       "      <td>CASSPSGGGTDTQYF</td>\n",
       "      <td>CASAVAGGSETQYF</td>\n",
       "    </tr>\n",
       "    <tr>\n",
       "      <th>1</th>\n",
       "      <td>CAWRGGSSYEQYF</td>\n",
       "      <td>CASSLGQGSEVDIQYF</td>\n",
       "    </tr>\n",
       "    <tr>\n",
       "      <th>2</th>\n",
       "      <td>CASSQLYGQETQYF</td>\n",
       "      <td>CSAKAEPDHEQYF</td>\n",
       "    </tr>\n",
       "    <tr>\n",
       "      <th>3</th>\n",
       "      <td>CASSRRGGETQYF</td>\n",
       "      <td>CASSLERGSDTQYF</td>\n",
       "    </tr>\n",
       "    <tr>\n",
       "      <th>4</th>\n",
       "      <td>CASSQGPRTNTEAFF</td>\n",
       "      <td>CASSVLAGGGDTQYF</td>\n",
       "    </tr>\n",
       "  </tbody>\n",
       "</table>\n",
       "</div>"
      ],
      "text/plain": [
       "   pre_amino_acid2  post_amino_acid2\n",
       "0  CASSPSGGGTDTQYF    CASAVAGGSETQYF\n",
       "1    CAWRGGSSYEQYF  CASSLGQGSEVDIQYF\n",
       "2   CASSQLYGQETQYF     CSAKAEPDHEQYF\n",
       "3    CASSRRGGETQYF    CASSLERGSDTQYF\n",
       "4  CASSQGPRTNTEAFF   CASSVLAGGGDTQYF"
      ]
     },
     "execution_count": 48,
     "metadata": {},
     "output_type": "execute_result"
    }
   ],
   "source": [
    "df = pd.DataFrame({\n",
    "    \"pre_amino_acid2\": pd.Series(pre_amino_acid2),\n",
    "    \"post_amino_acid2\": pd.Series(post_amino_acid2)\n",
    "})\n",
    "\n",
    "df.head()"
   ]
  },
  {
   "cell_type": "code",
   "execution_count": 49,
   "metadata": {},
   "outputs": [
    {
     "name": "stderr",
     "output_type": "stream",
     "text": [
      "/anaconda3/lib/python3.6/site-packages/matplotlib/axes/_base.py:3449: UserWarning: Attempted to set non-positive ylimits for log-scale axis; invalid limits will be ignored.\n",
      "  'Attempted to set non-positive ylimits for log-scale axis; '\n"
     ]
    },
    {
     "data": {
      "image/png": "[encoded data removed]",
      "text/plain": [
       "<Figure size 432x288 with 1 Axes>"
      ]
     },
     "metadata": {},
     "output_type": "display_data"
    }
   ],
   "source": [
    "pre_amino_acid2_plt = pd.Series(pre_amino_acid2).value_counts().value_counts().plot(kind=\"bar\",\n",
    "                                                                                    log=True,\n",
    "                                                                                    ylim=[0,100000])"
   ]
  },
  {
   "cell_type": "code",
   "execution_count": 51,
   "metadata": {},
   "outputs": [],
   "source": [
    "pre_amino_acid2_plt = pre_amino_acid2_plt.get_figure()"
   ]
  },
  {
   "cell_type": "code",
   "execution_count": 52,
   "metadata": {},
   "outputs": [],
   "source": [
    "pre_amino_acid2_plt.savefig(\"../../Figures/main/7/panels/7c_overlapping_tcrs_across_preNACT_samples.pdf\")"
   ]
  },
  {
   "cell_type": "code",
   "execution_count": 53,
   "metadata": {},
   "outputs": [
    {
     "data": {
      "text/plain": [
       "CASSLGPNTEAFF           9\n",
       "CASSPTGNTEAFF           7\n",
       "CASSAGPYNSPLHF          7\n",
       "CASSLAGSTDTQYF          7\n",
       "CASSFVSGTDTQYF          7\n",
       "CASSLAGNTEAFF           7\n",
       "CASSPGQGNTEAFF          7\n",
       "CSVGTGGTNEKLFF          7\n",
       "CASSPTATNEKLFF          6\n",
       "CASSLGVNTEAFF           6\n",
       "CASSDSSGSTDTQYF         6\n",
       "CASSLGNTEAFF            6\n",
       "CASSFLAGTDTQYF          6\n",
       "CASSLGQGNTEAFF          6\n",
       "CASSLAGGGTDTQYF         6\n",
       "CASSLAGGTDTQYF          6\n",
       "CASSHSYEQYF             6\n",
       "CASSQGGNQPQHF           5\n",
       "CASSLNTGELFF            5\n",
       "CASSPGLNTEAFF           5\n",
       "CASSLTGNTEAFF           5\n",
       "CASSRQGNYGYTF           5\n",
       "CASSQGENTEAFF           5\n",
       "CASSPGQGNQPQHF          5\n",
       "CASSRGGTDTQYF           5\n",
       "CASSPTGGTDTQYF          5\n",
       "CASSIRSSYEQYF           5\n",
       "CASSLGLAGGTDTQYF        5\n",
       "CASSQTYEQYF             5\n",
       "CASSLGGTDTQYF           5\n",
       "                       ..\n",
       "CASSSRKRQANASGANVLTF    1\n",
       "CASSLSANTGELFF          1\n",
       "CASSYQGDYGYTF           1\n",
       "CASSQAGAALDGYTF         1\n",
       "CASSHSTRANTEAFF         1\n",
       "CAWSVLGGRETQYF          1\n",
       "CAWTGMSTDTQYF           1\n",
       "CSADFDESQETQYF          1\n",
       "CASSQFPGTGFYEQYF        1\n",
       "CASSLVPPSVRNTEAFF       1\n",
       "CASSRQPRGASKNIQYF       1\n",
       "CASSRDRVDNEQFF          1\n",
       "CASSTRQGGDYEQYF         1\n",
       "CASSPTGTGEEKLFF         1\n",
       "CASSQDPVQGRNGYTF        1\n",
       "CASSFTRQEQYF            1\n",
       "CASSEARAGSIMGQFF        1\n",
       "CASSTSGRSYEQYF          1\n",
       "CASSQGRGVHGYTF          1\n",
       "CASRGLPPGHSNTEAFF       1\n",
       "CAISAGTSGYYEQYF         1\n",
       "CASSFDLGARRYNEQFF       1\n",
       "CASSLEYSANYGYTF         1\n",
       "CASSDVQGTIEKLFF         1\n",
       "CASSQEVSRGQPQHF         1\n",
       "CASSLLAGGEQFF           1\n",
       "CSARHGTNYGYTF           1\n",
       "CASSPLLGTQYF            1\n",
       "CASGLGWIRTGNTIYF        1\n",
       "CASSLWESGANVLTF         1\n",
       "Length: 147815, dtype: int64"
      ]
     },
     "execution_count": 53,
     "metadata": {},
     "output_type": "execute_result"
    }
   ],
   "source": [
    "pd.Series(post_amino_acid2).value_counts()#.value_counts()"
   ]
  },
  {
   "cell_type": "code",
   "execution_count": 54,
   "metadata": {},
   "outputs": [
    {
     "name": "stderr",
     "output_type": "stream",
     "text": [
      "/anaconda3/lib/python3.6/site-packages/matplotlib/axes/_base.py:3449: UserWarning: Attempted to set non-positive ylimits for log-scale axis; invalid limits will be ignored.\n",
      "  'Attempted to set non-positive ylimits for log-scale axis; '\n"
     ]
    },
    {
     "data": {
      "image/png": "[encoded data removed]",
      "text/plain": [
       "<Figure size 432x288 with 1 Axes>"
      ]
     },
     "metadata": {},
     "output_type": "display_data"
    }
   ],
   "source": [
    "post_amino_acid2_plt = pd.Series(post_amino_acid2).value_counts().value_counts().plot(kind=\"bar\",\n",
    "                                                                                      log=True,\n",
    "                                                                                      ylim=[0,100000])"
   ]
  },
  {
   "cell_type": "code",
   "execution_count": 55,
   "metadata": {},
   "outputs": [],
   "source": [
    "post_amino_acid2_plt = post_amino_acid2_plt.get_figure()"
   ]
  },
  {
   "cell_type": "code",
   "execution_count": 56,
   "metadata": {},
   "outputs": [],
   "source": [
    "post_amino_acid2_plt.savefig(\"../../Figures/main/7/panels/7c_overlapping_tcrs_across_postNACT_samples.pdf\")"
   ]
  },
  {
   "cell_type": "code",
   "execution_count": 57,
   "metadata": {},
   "outputs": [
    {
     "data": {
      "text/plain": [
       "1    144605\n",
       "2      2718\n",
       "3       370\n",
       "4        78\n",
       "5        27\n",
       "6         9\n",
       "7         7\n",
       "9         1\n",
       "dtype: int64"
      ]
     },
     "execution_count": 57,
     "metadata": {},
     "output_type": "execute_result"
    }
   ],
   "source": [
    "pd.Series(post_amino_acid2).value_counts().value_counts()"
   ]
  },
  {
   "cell_type": "code",
   "execution_count": 58,
   "metadata": {},
   "outputs": [],
   "source": [
    "post_amino_acid2_dict = dict(pd.Series(post_amino_acid2).value_counts().value_counts())"
   ]
  },
  {
   "cell_type": "code",
   "execution_count": 59,
   "metadata": {},
   "outputs": [],
   "source": [
    "post_amino_acid2_dict[8] = 0 # no sequences were found 8 times"
   ]
  },
  {
   "cell_type": "code",
   "execution_count": 60,
   "metadata": {},
   "outputs": [
    {
     "data": {
      "text/plain": [
       "{1: 144605, 2: 2718, 3: 370, 4: 78, 5: 27, 6: 9, 7: 7, 8: 0, 9: 1}"
      ]
     },
     "execution_count": 60,
     "metadata": {},
     "output_type": "execute_result"
    }
   ],
   "source": [
    "post_amino_acid2_dict"
   ]
  },
  {
   "cell_type": "code",
   "execution_count": 61,
   "metadata": {},
   "outputs": [],
   "source": [
    "pre_amino_acid2_dict = dict(pd.Series(pre_amino_acid2).value_counts().value_counts())"
   ]
  },
  {
   "cell_type": "code",
   "execution_count": 62,
   "metadata": {},
   "outputs": [
    {
     "data": {
      "text/plain": [
       "{1: 147946, 2: 2237, 3: 221, 4: 45, 5: 8, 6: 3, 7: 1, 8: 1}"
      ]
     },
     "execution_count": 62,
     "metadata": {},
     "output_type": "execute_result"
    }
   ],
   "source": [
    "pre_amino_acid2_dict"
   ]
  },
  {
   "cell_type": "code",
   "execution_count": 63,
   "metadata": {},
   "outputs": [],
   "source": [
    "pre_amino_acid2_dict[9] = 0"
   ]
  },
  {
   "cell_type": "code",
   "execution_count": 64,
   "metadata": {},
   "outputs": [
    {
     "data": {
      "text/plain": [
       "{1: 147946, 2: 2237, 3: 221, 4: 45, 5: 8, 6: 3, 7: 1, 8: 1, 9: 0}"
      ]
     },
     "execution_count": 64,
     "metadata": {},
     "output_type": "execute_result"
    }
   ],
   "source": [
    "pre_amino_acid2_dict"
   ]
  },
  {
   "cell_type": "code",
   "execution_count": 65,
   "metadata": {},
   "outputs": [
    {
     "data": {
      "text/plain": [
       "{1: 147946, 2: 2237, 3: 221, 4: 45, 5: 8, 6: 3, 7: 1, 8: 1, 9: 0}"
      ]
     },
     "execution_count": 65,
     "metadata": {},
     "output_type": "execute_result"
    }
   ],
   "source": [
    "pre_amino_acid2_dict"
   ]
  },
  {
   "cell_type": "code",
   "execution_count": 66,
   "metadata": {},
   "outputs": [
    {
     "data": {
      "text/plain": [
       "[147947, 2238, 222, 46, 9, 4, 2, 2, 1]"
      ]
     },
     "execution_count": 66,
     "metadata": {},
     "output_type": "execute_result"
    }
   ],
   "source": [
    "f_pre = [pre_amino_acid2_dict[k+1]+1 for k in range(len(pre_amino_acid2_dict))] # to keep order or categores\n",
    "f_pre "
   ]
  },
  {
   "cell_type": "code",
   "execution_count": 67,
   "metadata": {},
   "outputs": [
    {
     "data": {
      "text/plain": [
       "{1: 144605, 2: 2718, 3: 370, 4: 78, 5: 27, 6: 9, 7: 7, 8: 0, 9: 1}"
      ]
     },
     "execution_count": 67,
     "metadata": {},
     "output_type": "execute_result"
    }
   ],
   "source": [
    "post_amino_acid2_dict"
   ]
  },
  {
   "cell_type": "code",
   "execution_count": 68,
   "metadata": {},
   "outputs": [
    {
     "data": {
      "text/plain": [
       "[144606, 2719, 371, 79, 28, 10, 8, 1, 2]"
      ]
     },
     "execution_count": 68,
     "metadata": {},
     "output_type": "execute_result"
    }
   ],
   "source": [
    "f_post = [post_amino_acid2_dict[k+1]+1 for k in range(len(post_amino_acid2_dict))] # to keep order or categores\n",
    "f_post "
   ]
  },
  {
   "cell_type": "code",
   "execution_count": 69,
   "metadata": {},
   "outputs": [
    {
     "data": {
      "text/plain": [
       "Power_divergenceResult(statistic=371.11582762180535, pvalue=2.802523771414885e-75)"
      ]
     },
     "execution_count": 69,
     "metadata": {},
     "output_type": "execute_result"
    }
   ],
   "source": [
    "scipy.stats.chisquare(f_obs=f_post, f_exp=f_pre)"
   ]
  },
  {
   "cell_type": "markdown",
   "metadata": {},
   "source": [
    "# SEPARATE SAMPLES BETWEEN MATCHED UN MATCHED AND COMPARE"
   ]
  },
  {
   "cell_type": "code",
   "execution_count": 70,
   "metadata": {},
   "outputs": [
    {
     "data": {
      "text/html": [
       "<div>\n",
       "<style scoped>\n",
       "    .dataframe tbody tr th:only-of-type {\n",
       "        vertical-align: middle;\n",
       "    }\n",
       "\n",
       "    .dataframe tbody tr th {\n",
       "        vertical-align: top;\n",
       "    }\n",
       "\n",
       "    .dataframe thead th {\n",
       "        text-align: right;\n",
       "    }\n",
       "</style>\n",
       "<table border=\"1\" class=\"dataframe\">\n",
       "  <thead>\n",
       "    <tr style=\"text-align: right;\">\n",
       "      <th></th>\n",
       "      <th>Subject ID</th>\n",
       "      <th>Sample ID</th>\n",
       "      <th>Progression Free Survival (Days)</th>\n",
       "      <th>PFS Censored Status (0 = PF, 1=Progressed)</th>\n",
       "      <th>Overall Survival (Days)</th>\n",
       "      <th>OS Censored Status (0 = Alive, 1=Dead)</th>\n",
       "      <th>Type of Chemo</th>\n",
       "      <th>Number of Cycles</th>\n",
       "      <th>Platinum Sensitive</th>\n",
       "      <th>Age</th>\n",
       "      <th>C1D1</th>\n",
       "      <th>Date Last F/u</th>\n",
       "      <th>Status</th>\n",
       "      <th>Date of recurrence</th>\n",
       "      <th>Stage</th>\n",
       "      <th>Site Matched</th>\n",
       "      <th>Comments</th>\n",
       "    </tr>\n",
       "  </thead>\n",
       "  <tbody>\n",
       "    <tr>\n",
       "      <th>0</th>\n",
       "      <td>3368</td>\n",
       "      <td>3368A</td>\n",
       "      <td>771</td>\n",
       "      <td>0</td>\n",
       "      <td>1995</td>\n",
       "      <td>0</td>\n",
       "      <td>Carbo/taxol</td>\n",
       "      <td>6</td>\n",
       "      <td>Y</td>\n",
       "      <td>54</td>\n",
       "      <td>09/11/10</td>\n",
       "      <td>26/04/16</td>\n",
       "      <td>AWD</td>\n",
       "      <td>19/12/12</td>\n",
       "      <td>IIIC</td>\n",
       "      <td>Y</td>\n",
       "      <td>NaN</td>\n",
       "    </tr>\n",
       "    <tr>\n",
       "      <th>1</th>\n",
       "      <td>3368</td>\n",
       "      <td>3368B</td>\n",
       "      <td>771</td>\n",
       "      <td>0</td>\n",
       "      <td>1995</td>\n",
       "      <td>0</td>\n",
       "      <td>Carbo/taxol</td>\n",
       "      <td>6</td>\n",
       "      <td>Y</td>\n",
       "      <td>55</td>\n",
       "      <td>09/11/10</td>\n",
       "      <td>26/04/16</td>\n",
       "      <td>AWD</td>\n",
       "      <td>19/12/12</td>\n",
       "      <td>IIIC</td>\n",
       "      <td>Y</td>\n",
       "      <td>NaN</td>\n",
       "    </tr>\n",
       "    <tr>\n",
       "      <th>2</th>\n",
       "      <td>7362</td>\n",
       "      <td>7362A</td>\n",
       "      <td>351</td>\n",
       "      <td>1</td>\n",
       "      <td>449</td>\n",
       "      <td>1</td>\n",
       "      <td>Carbo/taxol</td>\n",
       "      <td>6</td>\n",
       "      <td>N</td>\n",
       "      <td>76</td>\n",
       "      <td>04/10/10</td>\n",
       "      <td>27/12/11</td>\n",
       "      <td>DOD</td>\n",
       "      <td>20/09/11</td>\n",
       "      <td>IIIC</td>\n",
       "      <td>Y</td>\n",
       "      <td>NaN</td>\n",
       "    </tr>\n",
       "    <tr>\n",
       "      <th>3</th>\n",
       "      <td>7362</td>\n",
       "      <td>7362B</td>\n",
       "      <td>351</td>\n",
       "      <td>1</td>\n",
       "      <td>449</td>\n",
       "      <td>1</td>\n",
       "      <td>Carbo/taxol</td>\n",
       "      <td>6</td>\n",
       "      <td>N</td>\n",
       "      <td>77</td>\n",
       "      <td>04/10/10</td>\n",
       "      <td>27/12/11</td>\n",
       "      <td>DOD</td>\n",
       "      <td>20/09/11</td>\n",
       "      <td>IIIC</td>\n",
       "      <td>Y</td>\n",
       "      <td>NaN</td>\n",
       "    </tr>\n",
       "    <tr>\n",
       "      <th>4</th>\n",
       "      <td>371</td>\n",
       "      <td>0371A</td>\n",
       "      <td>900</td>\n",
       "      <td>1</td>\n",
       "      <td>1682</td>\n",
       "      <td>0</td>\n",
       "      <td>Carbo/taxol</td>\n",
       "      <td>3</td>\n",
       "      <td>Y</td>\n",
       "      <td>68</td>\n",
       "      <td>01/08/11</td>\n",
       "      <td>09/03/16</td>\n",
       "      <td>AWD</td>\n",
       "      <td>17/01/14</td>\n",
       "      <td>IV</td>\n",
       "      <td>Y</td>\n",
       "      <td>NaN</td>\n",
       "    </tr>\n",
       "  </tbody>\n",
       "</table>\n",
       "</div>"
      ],
      "text/plain": [
       "   Subject ID Sample ID  Progression Free Survival (Days)  \\\n",
       "0        3368     3368A                               771   \n",
       "1        3368     3368B                               771   \n",
       "2        7362     7362A                               351   \n",
       "3        7362     7362B                               351   \n",
       "4         371     0371A                               900   \n",
       "\n",
       "   PFS Censored Status (0 = PF, 1=Progressed)  Overall Survival (Days)  \\\n",
       "0                                           0                     1995   \n",
       "1                                           0                     1995   \n",
       "2                                           1                      449   \n",
       "3                                           1                      449   \n",
       "4                                           1                     1682   \n",
       "\n",
       "   OS Censored Status (0 = Alive, 1=Dead) Type of Chemo  Number of Cycles  \\\n",
       "0                                       0   Carbo/taxol                 6   \n",
       "1                                       0   Carbo/taxol                 6   \n",
       "2                                       1   Carbo/taxol                 6   \n",
       "3                                       1   Carbo/taxol                 6   \n",
       "4                                       0   Carbo/taxol                 3   \n",
       "\n",
       "  Platinum Sensitive  Age       C1D1 Date Last F/u Status Date of recurrence  \\\n",
       "0                  Y    54  09/11/10      26/04/16    AWD           19/12/12   \n",
       "1                  Y    55  09/11/10      26/04/16    AWD           19/12/12   \n",
       "2                  N    76  04/10/10      27/12/11    DOD           20/09/11   \n",
       "3                  N    77  04/10/10      27/12/11    DOD           20/09/11   \n",
       "4                  Y    68  01/08/11      09/03/16    AWD           17/01/14   \n",
       "\n",
       "  Stage Site Matched Comments  \n",
       "0  IIIC            Y      NaN  \n",
       "1  IIIC            Y      NaN  \n",
       "2  IIIC            Y      NaN  \n",
       "3  IIIC            Y      NaN  \n",
       "4    IV            Y      NaN  "
      ]
     },
     "execution_count": 70,
     "metadata": {},
     "output_type": "execute_result"
    }
   ],
   "source": [
    "sample_labels.head()"
   ]
  },
  {
   "cell_type": "code",
   "execution_count": 71,
   "metadata": {},
   "outputs": [],
   "source": [
    "sample_labels.set_index(\"Sample ID\", inplace=True)"
   ]
  },
  {
   "cell_type": "code",
   "execution_count": 72,
   "metadata": {},
   "outputs": [
    {
     "data": {
      "text/plain": [
       "'Y'"
      ]
     },
     "execution_count": 72,
     "metadata": {},
     "output_type": "execute_result"
    }
   ],
   "source": [
    "sample_labels.loc[\"0371A\", \"Site Matched\"]"
   ]
  },
  {
   "cell_type": "code",
   "execution_count": 73,
   "metadata": {},
   "outputs": [],
   "source": [
    "pre_rearrangement2_MATCHED = []\n",
    "pre_amino_acid2_MATCHED = []\n",
    "\n",
    "post_rearrangement2_MATCHED = []\n",
    "post_amino_acid2_MATCHED = []\n",
    "\n",
    "pre_rearrangement2_UNMATCHED = []\n",
    "pre_amino_acid2_UNMATCHED = []\n",
    "\n",
    "post_rearrangement2_UNMATCHED = []\n",
    "post_amino_acid2_UNMATCHED = []\n",
    "\n",
    "for s in samples_to_analyse_dict:\n",
    "\n",
    "    dna = list(set(samples_to_analyse_dict[s][\"rearrangement\"]))\n",
    "    tcr = list(set(samples_to_analyse_dict[s][\"amino_acid\"]))\n",
    "    \n",
    "    if \"A\" in s:\n",
    "        \n",
    "        if sample_labels.loc[s, \"Site Matched\"] == \"Y\":\n",
    "        \n",
    "            pre_rearrangement2_MATCHED += dna\n",
    "            pre_amino_acid2_MATCHED += tcr\n",
    "            \n",
    "        else:\n",
    "            \n",
    "            pre_rearrangement2_UNMATCHED += dna\n",
    "            pre_amino_acid2_UNMATCHED += tcr\n",
    "        \n",
    "    elif \"B\" in s:\n",
    "        \n",
    "        if sample_labels.loc[s, \"Site Matched\"] == \"Y\":\n",
    "        \n",
    "            post_rearrangement2_MATCHED += dna\n",
    "            post_amino_acid2_MATCHED += tcr\n",
    "            \n",
    "        else:\n",
    "            \n",
    "            post_rearrangement2_UNMATCHED += dna\n",
    "            post_amino_acid2_UNMATCHED += tcr\n"
   ]
  },
  {
   "cell_type": "code",
   "execution_count": 74,
   "metadata": {},
   "outputs": [
    {
     "data": {
      "text/plain": [
       "137653"
      ]
     },
     "execution_count": 74,
     "metadata": {},
     "output_type": "execute_result"
    }
   ],
   "source": [
    "len(set(pre_rearrangement2_MATCHED) | set(post_rearrangement2_MATCHED)) # union"
   ]
  },
  {
   "cell_type": "code",
   "execution_count": 75,
   "metadata": {},
   "outputs": [
    {
     "data": {
      "text/plain": [
       "7005"
      ]
     },
     "execution_count": 75,
     "metadata": {},
     "output_type": "execute_result"
    }
   ],
   "source": [
    "len(set(pre_rearrangement2_MATCHED) & set(post_rearrangement2_MATCHED)) # intersection"
   ]
  },
  {
   "cell_type": "code",
   "execution_count": 76,
   "metadata": {},
   "outputs": [
    {
     "data": {
      "text/plain": [
       "161032"
      ]
     },
     "execution_count": 76,
     "metadata": {},
     "output_type": "execute_result"
    }
   ],
   "source": [
    "len(set(pre_rearrangement2_UNMATCHED) | set(post_rearrangement2_UNMATCHED)) # union"
   ]
  },
  {
   "cell_type": "code",
   "execution_count": 77,
   "metadata": {},
   "outputs": [
    {
     "data": {
      "text/plain": [
       "3397"
      ]
     },
     "execution_count": 77,
     "metadata": {},
     "output_type": "execute_result"
    }
   ],
   "source": [
    "len(set(pre_rearrangement2_UNMATCHED) & set(post_rearrangement2_UNMATCHED)) # intersection"
   ]
  },
  {
   "cell_type": "markdown",
   "metadata": {},
   "source": [
    "Rearrengements\n",
    "          MATCHED  UNMATCHED\n",
    "UNION     137653    161032\n",
    "INTER     7005      3397"
   ]
  },
  {
   "cell_type": "code",
   "execution_count": 78,
   "metadata": {},
   "outputs": [
    {
     "data": {
      "text/plain": [
       "(0.41453471025518523, 0.0)"
      ]
     },
     "execution_count": 78,
     "metadata": {},
     "output_type": "execute_result"
    }
   ],
   "source": [
    "scipy.stats.fisher_exact([[137653, 161032] , [7005, 3397]])"
   ]
  },
  {
   "cell_type": "code",
   "execution_count": 79,
   "metadata": {},
   "outputs": [
    {
     "data": {
      "text/plain": [
       "129881"
      ]
     },
     "execution_count": 79,
     "metadata": {},
     "output_type": "execute_result"
    }
   ],
   "source": [
    "len(set(pre_amino_acid2_MATCHED) | set(post_amino_acid2_MATCHED)) # union"
   ]
  },
  {
   "cell_type": "code",
   "execution_count": 80,
   "metadata": {},
   "outputs": [
    {
     "data": {
      "text/plain": [
       "11032"
      ]
     },
     "execution_count": 80,
     "metadata": {},
     "output_type": "execute_result"
    }
   ],
   "source": [
    "len(set(pre_amino_acid2_MATCHED) & set(post_amino_acid2_MATCHED)) # intersection"
   ]
  },
  {
   "cell_type": "code",
   "execution_count": 81,
   "metadata": {},
   "outputs": [
    {
     "data": {
      "text/plain": [
       "153886"
      ]
     },
     "execution_count": 81,
     "metadata": {},
     "output_type": "execute_result"
    }
   ],
   "source": [
    "len(set(pre_amino_acid2_UNMATCHED) | set(post_amino_acid2_UNMATCHED)) # union"
   ]
  },
  {
   "cell_type": "code",
   "execution_count": 82,
   "metadata": {},
   "outputs": [
    {
     "data": {
      "text/plain": [
       "6524"
      ]
     },
     "execution_count": 82,
     "metadata": {},
     "output_type": "execute_result"
    }
   ],
   "source": [
    "len(set(pre_amino_acid2_UNMATCHED) & set(post_amino_acid2_UNMATCHED)) # intersection"
   ]
  },
  {
   "cell_type": "markdown",
   "metadata": {},
   "source": [
    "Amino acid\n",
    "          MATCHED  UNMATCHED\n",
    "UNION     129881    153886\n",
    "INTER     11032      6524"
   ]
  },
  {
   "cell_type": "code",
   "execution_count": 83,
   "metadata": {},
   "outputs": [
    {
     "data": {
      "text/plain": [
       "(0.4991214242516264, 0.0)"
      ]
     },
     "execution_count": 83,
     "metadata": {},
     "output_type": "execute_result"
    }
   ],
   "source": [
    "scipy.stats.fisher_exact([[129881, 153886] , [11032, 6524]])"
   ]
  },
  {
   "cell_type": "code",
   "execution_count": 84,
   "metadata": {},
   "outputs": [
    {
     "data": {
      "text/plain": [
       "(1934.1050155533221, 0.0, 1, array([[132702.97743949, 151064.02256051],\n",
       "        [  8210.02256051,   9345.97743949]]))"
      ]
     },
     "execution_count": 84,
     "metadata": {},
     "output_type": "execute_result"
    }
   ],
   "source": [
    "scipy.stats.chi2_contingency([[129881, 153886] , [11032, 6524]])"
   ]
  },
  {
   "cell_type": "code",
   "execution_count": 85,
   "metadata": {},
   "outputs": [],
   "source": [
    "import sys"
   ]
  },
  {
   "cell_type": "code",
   "execution_count": 86,
   "metadata": {},
   "outputs": [
    {
     "data": {
      "text/plain": [
       "sys.float_info(max=1.7976931348623157e+308, max_exp=1024, max_10_exp=308, min=2.2250738585072014e-308, min_exp=-1021, min_10_exp=-307, dig=15, mant_dig=53, epsilon=2.220446049250313e-16, radix=2, rounds=1)"
      ]
     },
     "execution_count": 86,
     "metadata": {},
     "output_type": "execute_result"
    }
   ],
   "source": [
    "sys.float_info"
   ]
  },
  {
   "cell_type": "markdown",
   "metadata": {},
   "source": [
    "## Venn diagrams"
   ]
  },
  {
   "cell_type": "code",
   "execution_count": 87,
   "metadata": {},
   "outputs": [],
   "source": [
    "import matplotlib.pyplot as plt\n",
    "from matplotlib_venn import venn2\n"
   ]
  },
  {
   "cell_type": "code",
   "execution_count": 88,
   "metadata": {},
   "outputs": [
    {
     "data": {
      "image/png": "[encoded data removed]",
      "text/plain": [
       "<Figure size 360x360 with 1 Axes>"
      ]
     },
     "metadata": {},
     "output_type": "display_data"
    }
   ],
   "source": [
    "fig, ax = plt.subplots()\n",
    "fig.set_size_inches(5,5)\n",
    "\n",
    "venn2([set(pre_amino_acid2_MATCHED), set(post_amino_acid2_MATCHED)])\n",
    "\n",
    "plt.show()\n"
   ]
  },
  {
   "cell_type": "code",
   "execution_count": 89,
   "metadata": {},
   "outputs": [],
   "source": [
    "fig.savefig(\"../../Figures/main/7/panels/7b_Matched_SampleWise_Venn.pdf\")"
   ]
  },
  {
   "cell_type": "code",
   "execution_count": 90,
   "metadata": {},
   "outputs": [
    {
     "data": {
      "text/plain": [
       "0.42928724299871185"
      ]
     },
     "execution_count": 90,
     "metadata": {},
     "output_type": "execute_result"
    }
   ],
   "source": [
    "(31292+11031)/(87557+11032)"
   ]
  },
  {
   "cell_type": "code",
   "execution_count": 91,
   "metadata": {},
   "outputs": [
    {
     "data": {
      "image/png": "[encoded data removed]",
      "text/plain": [
       "<Figure size 360x360 with 1 Axes>"
      ]
     },
     "metadata": {},
     "output_type": "display_data"
    }
   ],
   "source": [
    "fig, ax = plt.subplots()\n",
    "fig.set_size_inches(5,5)\n",
    "\n",
    "venn2([set(pre_amino_acid2_UNMATCHED), set(post_amino_acid2_UNMATCHED)])\n",
    "plt.show()"
   ]
  },
  {
   "cell_type": "code",
   "execution_count": 92,
   "metadata": {},
   "outputs": [],
   "source": [
    "fig.savefig(\"../../Figures/main/7/panels/7b_3_Unmatched_SampleWise_Venn.pdf\")"
   ]
  },
  {
   "cell_type": "code",
   "execution_count": 93,
   "metadata": {},
   "outputs": [
    {
     "data": {
      "image/png": "[encoded data removed]",
      "text/plain": [
       "<Figure size 360x360 with 1 Axes>"
      ]
     },
     "metadata": {},
     "output_type": "display_data"
    }
   ],
   "source": [
    "fig, ax = plt.subplots()\n",
    "fig.set_size_inches(5,5)\n",
    "\n",
    "venn2([set(post_amino_acid2_MATCHED), set(post_amino_acid2_UNMATCHED)])\n",
    "plt.show()"
   ]
  },
  {
   "cell_type": "code",
   "execution_count": 94,
   "metadata": {},
   "outputs": [],
   "source": [
    "fig.savefig(\"../../Figures/main/7/panels/7b_PostMatchedUnmatched_SampleWise_Venn.pdf\")"
   ]
  },
  {
   "cell_type": "markdown",
   "metadata": {},
   "source": [
    "# Check shared and not-shared TCRs per patient"
   ]
  },
  {
   "cell_type": "code",
   "execution_count": 95,
   "metadata": {},
   "outputs": [],
   "source": [
    "pre_rearrangement3_MATCHED = dict()\n",
    "pre_amino_acid3_MATCHED = dict()\n",
    "\n",
    "post_rearrangement3_MATCHED = dict()\n",
    "post_amino_acid3_MATCHED = dict()\n",
    "\n",
    "pre_rearrangement3_UNMATCHED = dict()\n",
    "pre_amino_acid3_UNMATCHED = dict()\n",
    "\n",
    "post_rearrangement3_UNMATCHED = dict()\n",
    "post_amino_acid3_UNMATCHED = dict()\n",
    "\n",
    "for s in samples_to_analyse_dict:\n",
    "\n",
    "    dna = list(set(samples_to_analyse_dict[s][\"rearrangement\"]))\n",
    "    tcr = list(set(samples_to_analyse_dict[s][\"amino_acid\"]))\n",
    "    \n",
    "    if \"A\" in s:\n",
    "        \n",
    "        if sample_labels.loc[s, \"Site Matched\"] == \"Y\":\n",
    "        \n",
    "            pre_rearrangement3_MATCHED[s[:4]] = dna\n",
    "            pre_amino_acid3_MATCHED[s[:4]] = tcr\n",
    "            \n",
    "        else:\n",
    "            \n",
    "            pre_rearrangement3_UNMATCHED[s[:4]] = dna\n",
    "            pre_amino_acid3_UNMATCHED[s[:4]] = tcr\n",
    "        \n",
    "    elif \"B\" in s:\n",
    "        \n",
    "        if sample_labels.loc[s, \"Site Matched\"] == \"Y\":\n",
    "        \n",
    "            post_rearrangement3_MATCHED[s[:4]] = dna\n",
    "            post_amino_acid3_MATCHED[s[:4]] = tcr\n",
    "            \n",
    "        else:\n",
    "            \n",
    "            post_rearrangement3_UNMATCHED[s[:4]] = dna\n",
    "            post_amino_acid3_UNMATCHED[s[:4]] = tcr"
   ]
  },
  {
   "cell_type": "code",
   "execution_count": 96,
   "metadata": {},
   "outputs": [
    {
     "data": {
      "text/plain": [
       "dict_keys(['3368', '7362', '0371', '9717', '8674', '4240', '0564', '3114', '2585', '7765', '6965', '2703', '9347', '0762', '0824', '7626'])"
      ]
     },
     "execution_count": 96,
     "metadata": {},
     "output_type": "execute_result"
    }
   ],
   "source": [
    "pre_rearrangement3_MATCHED.keys()"
   ]
  },
  {
   "cell_type": "code",
   "execution_count": 97,
   "metadata": {},
   "outputs": [],
   "source": [
    "matched_shared_rearrangement = []\n",
    "matched_different_pre_rearrangement = []\n",
    "matched_different_post_rearrangement = []\n",
    "\n",
    "unmatched_shared_rearrangement = []\n",
    "unmatched_different_pre_rearrangement = []\n",
    "unmatched_different_post_rearrangement = []\n",
    "\n",
    "matched_shared_aminoacid = []\n",
    "matched_different_pre_aminoacid = []\n",
    "matched_different_post_aminoacid = []\n",
    "\n",
    "unmatched_shared_aminoacid = []\n",
    "unmatched_different_pre_aminoacid = []\n",
    "unmatched_different_post_aminoacid = []\n",
    "\n",
    "samples = set()\n",
    "\n",
    "for s in sample_labels[\"Subject ID\"]:\n",
    "    \n",
    "    s = str(s)\n",
    "    \n",
    "    if len(s) < 4:\n",
    "        s = \"0\"+s\n",
    "    \n",
    "    if s not in samples:\n",
    "        \n",
    "        samples.add(s)\n",
    "    \n",
    "        if s in pre_rearrangement3_MATCHED:\n",
    "\n",
    "            #print('hu')\n",
    "\n",
    "            shared_dna = len(set(pre_rearrangement3_MATCHED[s]) & set(post_rearrangement3_MATCHED[s]))\n",
    "            pre_dna    = len(set(pre_rearrangement3_MATCHED[s]) - set(post_rearrangement3_MATCHED[s]))\n",
    "            post_dna   = len(set(post_rearrangement3_MATCHED[s]) - set(pre_rearrangement3_MATCHED[s]))\n",
    "\n",
    "            matched_shared_rearrangement.append(shared_dna)\n",
    "            matched_different_pre_rearrangement.append(pre_dna)\n",
    "            matched_different_post_rearrangement.append(post_dna)\n",
    "\n",
    "            shared_tcr = len(set(pre_amino_acid3_MATCHED[s]) & set(post_amino_acid3_MATCHED[s]))\n",
    "            pre_tcr    = len(set(pre_amino_acid3_MATCHED[s]) - set(post_amino_acid3_MATCHED[s]))\n",
    "            post_tcr   = len(set(post_amino_acid3_MATCHED[s]) - set(pre_amino_acid3_MATCHED[s]))\n",
    "\n",
    "            matched_shared_aminoacid.append(shared_tcr)\n",
    "            matched_different_pre_aminoacid.append(pre_tcr)\n",
    "            matched_different_post_aminoacid.append(post_tcr)\n",
    "\n",
    "        elif s in pre_rearrangement3_UNMATCHED:\n",
    "\n",
    "            shared_dna = len(set(pre_rearrangement3_UNMATCHED[s]) & set(post_rearrangement3_UNMATCHED[s]))\n",
    "            pre_dna    = len(set(pre_rearrangement3_UNMATCHED[s]) - set(post_rearrangement3_UNMATCHED[s]))\n",
    "            post_dna   = len(set(post_rearrangement3_UNMATCHED[s]) - set(pre_rearrangement3_UNMATCHED[s]))\n",
    "\n",
    "            unmatched_shared_rearrangement.append(shared_dna)\n",
    "            unmatched_different_pre_rearrangement.append(pre_dna)\n",
    "            unmatched_different_post_rearrangement.append(post_dna)\n",
    "\n",
    "            shared_tcr = len(set(pre_amino_acid3_UNMATCHED[s]) & set(post_amino_acid3_UNMATCHED[s]))\n",
    "            pre_tcr    = len(set(pre_amino_acid3_UNMATCHED[s]) - set(post_amino_acid3_UNMATCHED[s]))\n",
    "            post_tcr   = len(set(post_amino_acid3_UNMATCHED[s]) - set(pre_amino_acid3_UNMATCHED[s]))\n",
    "\n",
    "            unmatched_shared_aminoacid.append(shared_tcr)\n",
    "            unmatched_different_pre_aminoacid.append(pre_tcr)\n",
    "            unmatched_different_post_aminoacid.append(post_tcr)\n",
    "        "
   ]
  },
  {
   "cell_type": "code",
   "execution_count": 98,
   "metadata": {},
   "outputs": [],
   "source": [
    "dna_seq = pd.DataFrame({\n",
    "    \"matched_shared\": pd.Series(matched_shared_rearrangement),\n",
    "    \"matched_pre\": pd.Series(matched_different_pre_rearrangement),\n",
    "    \"matched_post\": pd.Series(matched_different_post_rearrangement),\n",
    "    \"unmatched_shared\": pd.Series(unmatched_shared_rearrangement),\n",
    "    \"unmatched_pre\": pd.Series(unmatched_different_pre_rearrangement),\n",
    "    \"unmatched_post\": pd.Series(unmatched_different_post_rearrangement),\n",
    "})"
   ]
  },
  {
   "cell_type": "code",
   "execution_count": 99,
   "metadata": {},
   "outputs": [
    {
     "data": {
      "text/plain": [
       "<matplotlib.axes._subplots.AxesSubplot at 0x1a3336ccc0>"
      ]
     },
     "execution_count": 99,
     "metadata": {},
     "output_type": "execute_result"
    },
    {
     "data": {
      "image/png": "[encoded data removed]",
      "text/plain": [
       "<Figure size 432x288 with 1 Axes>"
      ]
     },
     "metadata": {},
     "output_type": "display_data"
    }
   ],
   "source": [
    "np.log10(dna_seq).plot(kind=\"box\", notch=True)"
   ]
  },
  {
   "cell_type": "code",
   "execution_count": 100,
   "metadata": {},
   "outputs": [],
   "source": [
    "tcr_seq = pd.DataFrame({\n",
    "    \"matched_shared\": pd.Series(matched_shared_aminoacid),\n",
    "    \"matched_pre\": pd.Series(matched_different_pre_aminoacid),\n",
    "    \"matched_post\": pd.Series(matched_different_post_aminoacid),\n",
    "    \"unmatched_shared\": pd.Series(unmatched_shared_aminoacid),\n",
    "    \"unmatched_pre\": pd.Series(unmatched_different_pre_aminoacid),\n",
    "    \"unmatched_post\": pd.Series(unmatched_different_post_aminoacid),\n",
    "})"
   ]
  },
  {
   "cell_type": "code",
   "execution_count": 101,
   "metadata": {},
   "outputs": [
    {
     "data": {
      "image/png": "[encoded data removed]",
      "text/plain": [
       "<Figure size 432x288 with 1 Axes>"
      ]
     },
     "metadata": {},
     "output_type": "display_data"
    }
   ],
   "source": [
    "tcr_seq_plt = np.log10(tcr_seq).plot(kind=\"box\", notch=True)"
   ]
  },
  {
   "cell_type": "code",
   "execution_count": 102,
   "metadata": {},
   "outputs": [
    {
     "data": {
      "text/html": [
       "<div>\n",
       "<style scoped>\n",
       "    .dataframe tbody tr th:only-of-type {\n",
       "        vertical-align: middle;\n",
       "    }\n",
       "\n",
       "    .dataframe tbody tr th {\n",
       "        vertical-align: top;\n",
       "    }\n",
       "\n",
       "    .dataframe thead th {\n",
       "        text-align: right;\n",
       "    }\n",
       "</style>\n",
       "<table border=\"1\" class=\"dataframe\">\n",
       "  <thead>\n",
       "    <tr style=\"text-align: right;\">\n",
       "      <th></th>\n",
       "      <th>matched_shared</th>\n",
       "      <th>matched_pre</th>\n",
       "      <th>matched_post</th>\n",
       "      <th>unmatched_shared</th>\n",
       "      <th>unmatched_pre</th>\n",
       "      <th>unmatched_post</th>\n",
       "    </tr>\n",
       "  </thead>\n",
       "  <tbody>\n",
       "    <tr>\n",
       "      <th>0</th>\n",
       "      <td>40.0</td>\n",
       "      <td>79.0</td>\n",
       "      <td>4791.0</td>\n",
       "      <td>67</td>\n",
       "      <td>217</td>\n",
       "      <td>632</td>\n",
       "    </tr>\n",
       "    <tr>\n",
       "      <th>1</th>\n",
       "      <td>264.0</td>\n",
       "      <td>143.0</td>\n",
       "      <td>7121.0</td>\n",
       "      <td>282</td>\n",
       "      <td>483</td>\n",
       "      <td>2148</td>\n",
       "    </tr>\n",
       "    <tr>\n",
       "      <th>2</th>\n",
       "      <td>1572.0</td>\n",
       "      <td>4990.0</td>\n",
       "      <td>6698.0</td>\n",
       "      <td>33</td>\n",
       "      <td>3167</td>\n",
       "      <td>47</td>\n",
       "    </tr>\n",
       "    <tr>\n",
       "      <th>3</th>\n",
       "      <td>136.0</td>\n",
       "      <td>247.0</td>\n",
       "      <td>1734.0</td>\n",
       "      <td>312</td>\n",
       "      <td>726</td>\n",
       "      <td>2995</td>\n",
       "    </tr>\n",
       "    <tr>\n",
       "      <th>4</th>\n",
       "      <td>467.0</td>\n",
       "      <td>913.0</td>\n",
       "      <td>1620.0</td>\n",
       "      <td>39</td>\n",
       "      <td>164</td>\n",
       "      <td>708</td>\n",
       "    </tr>\n",
       "  </tbody>\n",
       "</table>\n",
       "</div>"
      ],
      "text/plain": [
       "   matched_shared  matched_pre  matched_post  unmatched_shared  unmatched_pre  \\\n",
       "0            40.0         79.0        4791.0                67            217   \n",
       "1           264.0        143.0        7121.0               282            483   \n",
       "2          1572.0       4990.0        6698.0                33           3167   \n",
       "3           136.0        247.0        1734.0               312            726   \n",
       "4           467.0        913.0        1620.0                39            164   \n",
       "\n",
       "   unmatched_post  \n",
       "0             632  \n",
       "1            2148  \n",
       "2              47  \n",
       "3            2995  \n",
       "4             708  "
      ]
     },
     "execution_count": 102,
     "metadata": {},
     "output_type": "execute_result"
    }
   ],
   "source": [
    "tcr_seq.head()"
   ]
  },
  {
   "cell_type": "code",
   "execution_count": 103,
   "metadata": {},
   "outputs": [],
   "source": [
    "values = []\n",
    "labels = []\n",
    "for c in tcr_seq:\n",
    "    \n",
    "    values += list(tcr_seq[c].dropna())\n",
    "    \n",
    "    for i in range(len(tcr_seq[c].dropna())):\n",
    "        labels.append(c)"
   ]
  },
  {
   "cell_type": "code",
   "execution_count": 104,
   "metadata": {},
   "outputs": [
    {
     "data": {
      "text/plain": [
       "True"
      ]
     },
     "execution_count": 104,
     "metadata": {},
     "output_type": "execute_result"
    }
   ],
   "source": [
    "len(values) == len(labels)"
   ]
  },
  {
   "cell_type": "code",
   "execution_count": 105,
   "metadata": {},
   "outputs": [
    {
     "data": {
      "text/html": [
       "<div>\n",
       "<style scoped>\n",
       "    .dataframe tbody tr th:only-of-type {\n",
       "        vertical-align: middle;\n",
       "    }\n",
       "\n",
       "    .dataframe tbody tr th {\n",
       "        vertical-align: top;\n",
       "    }\n",
       "\n",
       "    .dataframe thead th {\n",
       "        text-align: right;\n",
       "    }\n",
       "</style>\n",
       "<table border=\"1\" class=\"dataframe\">\n",
       "  <thead>\n",
       "    <tr style=\"text-align: right;\">\n",
       "      <th></th>\n",
       "      <th>tcr_label</th>\n",
       "      <th>tcr_value</th>\n",
       "    </tr>\n",
       "  </thead>\n",
       "  <tbody>\n",
       "    <tr>\n",
       "      <th>0</th>\n",
       "      <td>matched_shared</td>\n",
       "      <td>1.602060</td>\n",
       "    </tr>\n",
       "    <tr>\n",
       "      <th>1</th>\n",
       "      <td>matched_shared</td>\n",
       "      <td>2.421604</td>\n",
       "    </tr>\n",
       "    <tr>\n",
       "      <th>2</th>\n",
       "      <td>matched_shared</td>\n",
       "      <td>3.196453</td>\n",
       "    </tr>\n",
       "    <tr>\n",
       "      <th>3</th>\n",
       "      <td>matched_shared</td>\n",
       "      <td>2.133539</td>\n",
       "    </tr>\n",
       "    <tr>\n",
       "      <th>4</th>\n",
       "      <td>matched_shared</td>\n",
       "      <td>2.669317</td>\n",
       "    </tr>\n",
       "  </tbody>\n",
       "</table>\n",
       "</div>"
      ],
      "text/plain": [
       "        tcr_label  tcr_value\n",
       "0  matched_shared   1.602060\n",
       "1  matched_shared   2.421604\n",
       "2  matched_shared   3.196453\n",
       "3  matched_shared   2.133539\n",
       "4  matched_shared   2.669317"
      ]
     },
     "execution_count": 105,
     "metadata": {},
     "output_type": "execute_result"
    }
   ],
   "source": [
    "tcr_seq_sns = pd.DataFrame({\n",
    "    \"tcr_label\": pd.Series(labels),\n",
    "    \"tcr_value\": pd.Series(np.log10(values))\n",
    "})\n",
    "\n",
    "tcr_seq_sns.head()"
   ]
  },
  {
   "cell_type": "code",
   "execution_count": 106,
   "metadata": {},
   "outputs": [
    {
     "data": {
      "text/html": [
       "<div>\n",
       "<style scoped>\n",
       "    .dataframe tbody tr th:only-of-type {\n",
       "        vertical-align: middle;\n",
       "    }\n",
       "\n",
       "    .dataframe tbody tr th {\n",
       "        vertical-align: top;\n",
       "    }\n",
       "\n",
       "    .dataframe thead th {\n",
       "        text-align: right;\n",
       "    }\n",
       "</style>\n",
       "<table border=\"1\" class=\"dataframe\">\n",
       "  <thead>\n",
       "    <tr style=\"text-align: right;\">\n",
       "      <th></th>\n",
       "      <th>matched_shared</th>\n",
       "      <th>matched_pre</th>\n",
       "      <th>matched_post</th>\n",
       "      <th>unmatched_shared</th>\n",
       "      <th>unmatched_pre</th>\n",
       "      <th>unmatched_post</th>\n",
       "    </tr>\n",
       "  </thead>\n",
       "  <tbody>\n",
       "    <tr>\n",
       "      <th>0</th>\n",
       "      <td>40.0</td>\n",
       "      <td>79.0</td>\n",
       "      <td>4791.0</td>\n",
       "      <td>67</td>\n",
       "      <td>217</td>\n",
       "      <td>632</td>\n",
       "    </tr>\n",
       "    <tr>\n",
       "      <th>1</th>\n",
       "      <td>264.0</td>\n",
       "      <td>143.0</td>\n",
       "      <td>7121.0</td>\n",
       "      <td>282</td>\n",
       "      <td>483</td>\n",
       "      <td>2148</td>\n",
       "    </tr>\n",
       "    <tr>\n",
       "      <th>2</th>\n",
       "      <td>1572.0</td>\n",
       "      <td>4990.0</td>\n",
       "      <td>6698.0</td>\n",
       "      <td>33</td>\n",
       "      <td>3167</td>\n",
       "      <td>47</td>\n",
       "    </tr>\n",
       "    <tr>\n",
       "      <th>3</th>\n",
       "      <td>136.0</td>\n",
       "      <td>247.0</td>\n",
       "      <td>1734.0</td>\n",
       "      <td>312</td>\n",
       "      <td>726</td>\n",
       "      <td>2995</td>\n",
       "    </tr>\n",
       "    <tr>\n",
       "      <th>4</th>\n",
       "      <td>467.0</td>\n",
       "      <td>913.0</td>\n",
       "      <td>1620.0</td>\n",
       "      <td>39</td>\n",
       "      <td>164</td>\n",
       "      <td>708</td>\n",
       "    </tr>\n",
       "    <tr>\n",
       "      <th>5</th>\n",
       "      <td>91.0</td>\n",
       "      <td>1014.0</td>\n",
       "      <td>495.0</td>\n",
       "      <td>1576</td>\n",
       "      <td>3100</td>\n",
       "      <td>8570</td>\n",
       "    </tr>\n",
       "    <tr>\n",
       "      <th>6</th>\n",
       "      <td>973.0</td>\n",
       "      <td>8852.0</td>\n",
       "      <td>2083.0</td>\n",
       "      <td>61</td>\n",
       "      <td>46</td>\n",
       "      <td>6566</td>\n",
       "    </tr>\n",
       "    <tr>\n",
       "      <th>7</th>\n",
       "      <td>40.0</td>\n",
       "      <td>135.0</td>\n",
       "      <td>819.0</td>\n",
       "      <td>91</td>\n",
       "      <td>48</td>\n",
       "      <td>6176</td>\n",
       "    </tr>\n",
       "    <tr>\n",
       "      <th>8</th>\n",
       "      <td>40.0</td>\n",
       "      <td>49.0</td>\n",
       "      <td>3492.0</td>\n",
       "      <td>492</td>\n",
       "      <td>7003</td>\n",
       "      <td>3717</td>\n",
       "    </tr>\n",
       "    <tr>\n",
       "      <th>9</th>\n",
       "      <td>913.0</td>\n",
       "      <td>1419.0</td>\n",
       "      <td>6564.0</td>\n",
       "      <td>182</td>\n",
       "      <td>391</td>\n",
       "      <td>1220</td>\n",
       "    </tr>\n",
       "    <tr>\n",
       "      <th>10</th>\n",
       "      <td>3068.0</td>\n",
       "      <td>7694.0</td>\n",
       "      <td>29446.0</td>\n",
       "      <td>217</td>\n",
       "      <td>5818</td>\n",
       "      <td>260</td>\n",
       "    </tr>\n",
       "    <tr>\n",
       "      <th>11</th>\n",
       "      <td>74.0</td>\n",
       "      <td>133.0</td>\n",
       "      <td>9385.0</td>\n",
       "      <td>27</td>\n",
       "      <td>59</td>\n",
       "      <td>1667</td>\n",
       "    </tr>\n",
       "    <tr>\n",
       "      <th>12</th>\n",
       "      <td>513.0</td>\n",
       "      <td>1374.0</td>\n",
       "      <td>2322.0</td>\n",
       "      <td>394</td>\n",
       "      <td>4153</td>\n",
       "      <td>645</td>\n",
       "    </tr>\n",
       "    <tr>\n",
       "      <th>13</th>\n",
       "      <td>52.0</td>\n",
       "      <td>66.0</td>\n",
       "      <td>2209.0</td>\n",
       "      <td>98</td>\n",
       "      <td>121</td>\n",
       "      <td>1482</td>\n",
       "    </tr>\n",
       "    <tr>\n",
       "      <th>14</th>\n",
       "      <td>966.0</td>\n",
       "      <td>3173.0</td>\n",
       "      <td>5017.0</td>\n",
       "      <td>194</td>\n",
       "      <td>8992</td>\n",
       "      <td>318</td>\n",
       "    </tr>\n",
       "    <tr>\n",
       "      <th>15</th>\n",
       "      <td>1131.0</td>\n",
       "      <td>2026.0</td>\n",
       "      <td>6084.0</td>\n",
       "      <td>151</td>\n",
       "      <td>470</td>\n",
       "      <td>1440</td>\n",
       "    </tr>\n",
       "    <tr>\n",
       "      <th>16</th>\n",
       "      <td>NaN</td>\n",
       "      <td>NaN</td>\n",
       "      <td>NaN</td>\n",
       "      <td>277</td>\n",
       "      <td>849</td>\n",
       "      <td>1469</td>\n",
       "    </tr>\n",
       "    <tr>\n",
       "      <th>17</th>\n",
       "      <td>NaN</td>\n",
       "      <td>NaN</td>\n",
       "      <td>NaN</td>\n",
       "      <td>514</td>\n",
       "      <td>69347</td>\n",
       "      <td>380</td>\n",
       "    </tr>\n",
       "    <tr>\n",
       "      <th>18</th>\n",
       "      <td>NaN</td>\n",
       "      <td>NaN</td>\n",
       "      <td>NaN</td>\n",
       "      <td>157</td>\n",
       "      <td>228</td>\n",
       "      <td>2505</td>\n",
       "    </tr>\n",
       "    <tr>\n",
       "      <th>19</th>\n",
       "      <td>NaN</td>\n",
       "      <td>NaN</td>\n",
       "      <td>NaN</td>\n",
       "      <td>48</td>\n",
       "      <td>95</td>\n",
       "      <td>3333</td>\n",
       "    </tr>\n",
       "  </tbody>\n",
       "</table>\n",
       "</div>"
      ],
      "text/plain": [
       "    matched_shared  matched_pre  matched_post  unmatched_shared  \\\n",
       "0             40.0         79.0        4791.0                67   \n",
       "1            264.0        143.0        7121.0               282   \n",
       "2           1572.0       4990.0        6698.0                33   \n",
       "3            136.0        247.0        1734.0               312   \n",
       "4            467.0        913.0        1620.0                39   \n",
       "5             91.0       1014.0         495.0              1576   \n",
       "6            973.0       8852.0        2083.0                61   \n",
       "7             40.0        135.0         819.0                91   \n",
       "8             40.0         49.0        3492.0               492   \n",
       "9            913.0       1419.0        6564.0               182   \n",
       "10          3068.0       7694.0       29446.0               217   \n",
       "11            74.0        133.0        9385.0                27   \n",
       "12           513.0       1374.0        2322.0               394   \n",
       "13            52.0         66.0        2209.0                98   \n",
       "14           966.0       3173.0        5017.0               194   \n",
       "15          1131.0       2026.0        6084.0               151   \n",
       "16             NaN          NaN           NaN               277   \n",
       "17             NaN          NaN           NaN               514   \n",
       "18             NaN          NaN           NaN               157   \n",
       "19             NaN          NaN           NaN                48   \n",
       "\n",
       "    unmatched_pre  unmatched_post  \n",
       "0             217             632  \n",
       "1             483            2148  \n",
       "2            3167              47  \n",
       "3             726            2995  \n",
       "4             164             708  \n",
       "5            3100            8570  \n",
       "6              46            6566  \n",
       "7              48            6176  \n",
       "8            7003            3717  \n",
       "9             391            1220  \n",
       "10           5818             260  \n",
       "11             59            1667  \n",
       "12           4153             645  \n",
       "13            121            1482  \n",
       "14           8992             318  \n",
       "15            470            1440  \n",
       "16            849            1469  \n",
       "17          69347             380  \n",
       "18            228            2505  \n",
       "19             95            3333  "
      ]
     },
     "execution_count": 106,
     "metadata": {},
     "output_type": "execute_result"
    }
   ],
   "source": [
    "tcr_seq"
   ]
  },
  {
   "cell_type": "code",
   "execution_count": 107,
   "metadata": {},
   "outputs": [
    {
     "data": {
      "text/plain": [
       "unmatched_post      20\n",
       "unmatched_pre       20\n",
       "unmatched_shared    20\n",
       "matched_post        16\n",
       "matched_pre         16\n",
       "matched_shared      16\n",
       "Name: tcr_label, dtype: int64"
      ]
     },
     "execution_count": 107,
     "metadata": {},
     "output_type": "execute_result"
    }
   ],
   "source": [
    "tcr_seq_sns[\"tcr_label\"].value_counts()"
   ]
  },
  {
   "cell_type": "code",
   "execution_count": 108,
   "metadata": {},
   "outputs": [],
   "source": [
    "flierprops = dict(markersize=5,\n",
    "                  linestyle=\"-\", marker=\"o\")"
   ]
  },
  {
   "cell_type": "code",
   "execution_count": 109,
   "metadata": {},
   "outputs": [
    {
     "data": {
      "text/plain": [
       "(0, 6)"
      ]
     },
     "execution_count": 109,
     "metadata": {},
     "output_type": "execute_result"
    },
    {
     "data": {
      "image/png": "[encoded data removed]",
      "text/plain": [
       "<Figure size 648x216 with 1 Axes>"
      ]
     },
     "metadata": {},
     "output_type": "display_data"
    }
   ],
   "source": [
    "fig, ax = plt.subplots()\n",
    "fig.set_size_inches(9,3)\n",
    "\n",
    "\"\"\"sns.violinplot(x=\"tcr_label\",\n",
    "               y=\"tcr_value\",\n",
    "               data=tcr_seq_sns,\n",
    "               inner=None,\n",
    "               split=False,\n",
    "               scale=\"count\",\n",
    "               zorder=0,\n",
    "               width=0.7,\n",
    "               alpha=0.3)\"\"\"\n",
    "\n",
    "sns.boxplot(x=\"tcr_label\",\n",
    "            y=\"tcr_value\",\n",
    "            data=tcr_seq_sns,\n",
    "            notch=True,\n",
    "            width=0.5,\n",
    "            zorder=1,\n",
    "            flierprops=flierprops)\n",
    "\n",
    "plt.ylim([0,6])"
   ]
  },
  {
   "cell_type": "code",
   "execution_count": 110,
   "metadata": {},
   "outputs": [],
   "source": [
    "fig.savefig(\"../../Figures/main/7/panels/7d_overlapping_tcrs_pre_postNACT.pdf\")"
   ]
  },
  {
   "cell_type": "code",
   "execution_count": 111,
   "metadata": {},
   "outputs": [
    {
     "data": {
      "text/plain": [
       "FriedmanchisquareResult(statistic=26.375, pvalue=1.873878895066732e-06)"
      ]
     },
     "execution_count": 111,
     "metadata": {},
     "output_type": "execute_result"
    }
   ],
   "source": [
    "scipy.stats.friedmanchisquare(\n",
    "    tcr_seq[\"matched_shared\"].dropna(),\n",
    "    tcr_seq[\"matched_pre\"].dropna(),\n",
    "    tcr_seq[\"matched_post\"].dropna()\n",
    ")"
   ]
  },
  {
   "cell_type": "code",
   "execution_count": 112,
   "metadata": {},
   "outputs": [],
   "source": [
    "import scipy as sp\n",
    "import scipy.stats as st\n",
    "import itertools as it"
   ]
  },
  {
   "cell_type": "code",
   "execution_count": 113,
   "metadata": {},
   "outputs": [],
   "source": [
    "def friedman_test(*args):\n",
    "    \"\"\"\n",
    "        Performs a Friedman ranking test.\n",
    "        Tests the hypothesis that in a set of k dependent samples groups (where k >= 2) at least two of the groups represent populations with different median values.\n",
    "        \n",
    "        Parameters\n",
    "        ----------\n",
    "        sample1, sample2, ... : array_like\n",
    "            The sample measurements for each group.\n",
    "            \n",
    "        Returns\n",
    "        -------\n",
    "        F-value : float\n",
    "            The computed F-value of the test.\n",
    "        p-value : float\n",
    "            The associated p-value from the F-distribution.\n",
    "        rankings : array_like\n",
    "            The ranking for each group.\n",
    "        pivots : array_like\n",
    "            The pivotal quantities for each group.\n",
    "            \n",
    "        References\n",
    "        ----------\n",
    "        M. Friedman, The use of ranks to avoid the assumption of normality implicit in the analysis of variance, Journal of the American Statistical Association 32 (1937) 674–701.\n",
    "        D.J. Sheskin, Handbook of parametric and nonparametric statistical procedures. crc Press, 2003, Test 25: The Friedman Two-Way Analysis of Variance by Ranks\n",
    "    \"\"\"\n",
    "    k = len(args)\n",
    "    if k < 2: raise ValueError('Less than 2 levels')\n",
    "    n = len(args[0])\n",
    "    if len(set([len(v) for v in args])) != 1: raise ValueError('Unequal number of samples')\n",
    "\n",
    "    rankings = []\n",
    "    for i in range(n):\n",
    "        row = [col[i] for col in args]\n",
    "        row_sort = sorted(row)\n",
    "        rankings.append([row_sort.index(v) + 1 + (row_sort.count(v)-1)/2. for v in row])\n",
    "\n",
    "    rankings_avg = [sp.mean([case[j] for case in rankings]) for j in range(k)]\n",
    "    rankings_cmp = [r/sp.sqrt(k*(k+1)/(6.*n)) for r in rankings_avg]\n",
    "\n",
    "    chi2 = ((12*n)/float((k*(k+1))))*((sp.sum(r**2 for r in rankings_avg))-((k*(k+1)**2)/float(4)))\n",
    "    iman_davenport = ((n-1)*chi2)/float((n*(k-1)-chi2))\n",
    "\n",
    "    p_value = 1 - st.f.cdf(iman_davenport, k-1, (k-1)*(n-1))\n",
    "\n",
    "    return iman_davenport, p_value, rankings_avg, rankings_cmp"
   ]
  },
  {
   "cell_type": "code",
   "execution_count": 114,
   "metadata": {},
   "outputs": [
    {
     "name": "stderr",
     "output_type": "stream",
     "text": [
      "/anaconda3/lib/python3.6/site-packages/ipykernel_launcher.py:38: DeprecationWarning: scipy.mean is deprecated and will be removed in SciPy 2.0.0, use numpy.mean instead\n",
      "/anaconda3/lib/python3.6/site-packages/ipykernel_launcher.py:39: DeprecationWarning: scipy.sqrt is deprecated and will be removed in SciPy 2.0.0, use numpy.lib.scimath.sqrt instead\n",
      "/anaconda3/lib/python3.6/site-packages/ipykernel_launcher.py:41: DeprecationWarning: scipy.sum is deprecated and will be removed in SciPy 2.0.0, use numpy.sum instead\n"
     ]
    },
    {
     "data": {
      "text/plain": [
       "3.9122324269058595e-08"
      ]
     },
     "execution_count": 114,
     "metadata": {},
     "output_type": "execute_result"
    }
   ],
   "source": [
    "iman_davenport, p_value, rankings_avg, rankings_cmp = friedman_test(\n",
    "    tcr_seq[\"unmatched_shared\"].dropna(),\n",
    "    tcr_seq[\"unmatched_pre\"].dropna(),\n",
    "    tcr_seq[\"unmatched_post\"].dropna()\n",
    ")\n",
    "\n",
    "p_value"
   ]
  },
  {
   "cell_type": "code",
   "execution_count": 115,
   "metadata": {},
   "outputs": [],
   "source": [
    "def nemenyi_multitest(ranks):\n",
    "    \"\"\"\n",
    "        Performs a Nemenyi post-hoc test using the pivot quantities obtained by a ranking test.\n",
    "        Tests the hypothesis that the ranking of each pair of groups are different.\n",
    "        \n",
    "        Parameters\n",
    "        ----------\n",
    "        pivots : dictionary_like\n",
    "            A dictionary with format 'groupname':'pivotal quantity' \n",
    "            \n",
    "        Returns\n",
    "        ----------\n",
    "        Comparions : array-like\n",
    "            Strings identifier of each comparison with format 'group_i vs group_j'\n",
    "        Z-values : array-like\n",
    "            The computed Z-value statistic for each comparison.\n",
    "        p-values : array-like\n",
    "            The associated p-value from the Z-distribution wich depends on the index of the comparison\n",
    "        Adjusted p-values : array-like\n",
    "            The associated adjusted p-values wich can be compared with a significance level\n",
    "            \n",
    "        References\n",
    "        ----------\n",
    "        Bonferroni-Dunn: O.J. Dunn, Multiple comparisons among means, Journal of the American Statistical Association 56 (1961) 52–64.\n",
    "    \"\"\"\n",
    "    k = len(ranks)\n",
    "    values = list(ranks.values())\n",
    "    keys = list(ranks.keys())\n",
    "    versus = list(it.combinations(range(k), 2))\n",
    "\n",
    "    comparisons = [keys[vs[0]] + \" vs \" + keys[vs[1]] for vs in versus]\n",
    "    z_values = [abs(values[vs[0]] - values[vs[1]]) for vs in versus]\n",
    "    p_values = [2*(1-st.norm.cdf(abs(z))) for z in z_values]\n",
    "    # Sort values by p_value so that p_0 < p_1\n",
    "    p_values, z_values, comparisons = map(list, zip(*sorted(zip(p_values, z_values, comparisons), key=lambda t: t[0])))\n",
    "    m = int(k*(k-1)/2.)\n",
    "    adj_p_values = [min(m*p_value,1) for p_value in p_values]\n",
    "    \n",
    "    return comparisons, z_values, p_values, adj_p_values"
   ]
  },
  {
   "cell_type": "code",
   "execution_count": 116,
   "metadata": {},
   "outputs": [],
   "source": [
    "comp_dict = {\n",
    "    \"shared\":rankings_cmp[0],\n",
    "    \"pre\":rankings_cmp[1],\n",
    "    \"post\":rankings_cmp[2]\n",
    "}"
   ]
  },
  {
   "cell_type": "code",
   "execution_count": 117,
   "metadata": {},
   "outputs": [
    {
     "data": {
      "text/plain": [
       "(['shared vs post', 'shared vs pre', 'pre vs post'],\n",
       " [4.743416490252569, 3.320391543176799, 1.4230249470757697],\n",
       " [2.10143595591461e-06, 0.000898912788114048, 0.1547289234853788],\n",
       " [6.30430786774383e-06, 0.002696738364342144, 0.46418677045613643])"
      ]
     },
     "execution_count": 117,
     "metadata": {},
     "output_type": "execute_result"
    }
   ],
   "source": [
    "nemenyi_multitest(comp_dict)"
   ]
  },
  {
   "cell_type": "code",
   "execution_count": 118,
   "metadata": {},
   "outputs": [
    {
     "data": {
      "text/plain": [
       "[1.15, 2.2, 2.65]"
      ]
     },
     "execution_count": 118,
     "metadata": {},
     "output_type": "execute_result"
    }
   ],
   "source": [
    "rankings_avg"
   ]
  },
  {
   "cell_type": "markdown",
   "metadata": {},
   "source": [
    "# Check freq of each TCR and divide into shared, pre, post | matched, unmatched"
   ]
  },
  {
   "cell_type": "code",
   "execution_count": 120,
   "metadata": {},
   "outputs": [],
   "source": [
    "pre_rearrangement3_MATCHED = dict()\n",
    "pre_amino_acid3_MATCHED = dict()\n",
    "pre_prodfrq3_MATCHED = dict()\n",
    "\n",
    "post_rearrangement3_MATCHED = dict()\n",
    "post_amino_acid3_MATCHED = dict()\n",
    "post_prodfrq3_MATCHED = dict()\n",
    "\n",
    "pre_rearrangement3_UNMATCHED = dict()\n",
    "pre_amino_acid3_UNMATCHED = dict()\n",
    "pre_prodfrq3_UNMATCHED = dict()\n",
    "\n",
    "post_rearrangement3_UNMATCHED = dict()\n",
    "post_amino_acid3_UNMATCHED = dict()\n",
    "post_prodfrq3_UNMATCHED = dict()\n",
    "\n",
    "for s in samples_to_analyse_dict:\n",
    "\n",
    "    dna = list(samples_to_analyse_dict[s][\"rearrangement\"])\n",
    "    tcr = list(samples_to_analyse_dict[s][\"amino_acid\"])\n",
    "    frq = list(samples_to_analyse_dict[s][\"productive_frequency\"])\n",
    "    \n",
    "    if \"A\" in s:\n",
    "        \n",
    "        if sample_labels.loc[s, \"Site Matched\"] == \"Y\":\n",
    "        \n",
    "            pre_rearrangement3_MATCHED[s[:4]] = dna\n",
    "            pre_amino_acid3_MATCHED[s[:4]] = tcr\n",
    "            pre_prodfrq3_MATCHED[s[:4]] = frq\n",
    "\n",
    "            \n",
    "        else:\n",
    "            \n",
    "            pre_rearrangement3_UNMATCHED[s[:4]] = dna\n",
    "            pre_amino_acid3_UNMATCHED[s[:4]] = tcr\n",
    "            pre_prodfrq3_UNMATCHED[s[:4]] = frq\n",
    "\n",
    "        \n",
    "    elif \"B\" in s:\n",
    "        \n",
    "        if sample_labels.loc[s, \"Site Matched\"] == \"Y\":\n",
    "        \n",
    "            post_rearrangement3_MATCHED[s[:4]] = dna\n",
    "            post_amino_acid3_MATCHED[s[:4]] = tcr\n",
    "            post_prodfrq3_MATCHED[s[:4]] = frq\n",
    "            \n",
    "        else:\n",
    "            \n",
    "            post_rearrangement3_UNMATCHED[s[:4]] = dna\n",
    "            post_amino_acid3_UNMATCHED[s[:4]] = tcr\n",
    "            post_prodfrq3_UNMATCHED[s[:4]] = frq\n"
   ]
  },
  {
   "cell_type": "code",
   "execution_count": 121,
   "metadata": {},
   "outputs": [
    {
     "data": {
      "text/plain": [
       "'8089'"
      ]
     },
     "execution_count": 121,
     "metadata": {},
     "output_type": "execute_result"
    }
   ],
   "source": [
    "s[:4]"
   ]
  },
  {
   "cell_type": "code",
   "execution_count": 122,
   "metadata": {
    "scrolled": true
   },
   "outputs": [
    {
     "data": {
      "text/plain": [
       "[3.088534237805905e-05,\n",
       " 3.088534237805905e-05,\n",
       " 3.6500859174069786e-05,\n",
       " 3.930861757207516e-05,\n",
       " 3.930861757207516e-05,\n",
       " 4.211637597008053e-05,\n",
       " 4.211637597008053e-05]"
      ]
     },
     "execution_count": 122,
     "metadata": {},
     "output_type": "execute_result"
    }
   ],
   "source": [
    "post_prodfrq3_UNMATCHED['8089'][:7]"
   ]
  },
  {
   "cell_type": "code",
   "execution_count": 123,
   "metadata": {},
   "outputs": [],
   "source": [
    "matched_shared_rearrangement4 = []\n",
    "matched_different_pre_rearrangement4 = []\n",
    "matched_different_post_rearrangement4 = []\n",
    "\n",
    "unmatched_shared_rearrangement4 = []\n",
    "unmatched_different_pre_rearrangement4 = []\n",
    "unmatched_different_post_rearrangement4 = []\n",
    "\n",
    "matched_shared_aminoacid4 = []\n",
    "matched_different_pre_aminoacid4 = []\n",
    "matched_different_post_aminoacid4 = []\n",
    "\n",
    "unmatched_shared_aminoacid4 = []\n",
    "unmatched_different_pre_aminoacid4 = []\n",
    "unmatched_different_post_aminoacid4 = []\n",
    "\n",
    "samples = set()\n",
    "\n",
    "for sub in sample_labels[\"Subject ID\"]:\n",
    "    \n",
    "    sub = str(sub)\n",
    "    \n",
    "    if len(sub) < 4:\n",
    "        sub = \"0\"+sub\n",
    "    \n",
    "    if sub not in samples:\n",
    "        \n",
    "        samples.add(sub)\n",
    "    \n",
    "        if sub in pre_rearrangement3_MATCHED:\n",
    "\n",
    "            #print('hu')\n",
    "\n",
    "            shared_dna = set(pre_rearrangement3_MATCHED[sub]) & set(post_rearrangement3_MATCHED[sub])\n",
    "            pre_dna    = set(pre_rearrangement3_MATCHED[sub]) - set(post_rearrangement3_MATCHED[sub])\n",
    "            post_dna   = set(post_rearrangement3_MATCHED[sub]) - set(pre_rearrangement3_MATCHED[sub])\n",
    "            \n",
    "            matched_shared_rearrangement4 += list(shared_dna)\n",
    "            matched_different_pre_rearrangement4 += list(pre_dna)\n",
    "            matched_different_post_rearrangement4 += list(post_dna)\n",
    "\n",
    "            shared_tcr = set(pre_amino_acid3_MATCHED[sub]) & set(post_amino_acid3_MATCHED[sub])\n",
    "            pre_tcr    = set(pre_amino_acid3_MATCHED[sub]) - set(post_amino_acid3_MATCHED[sub])\n",
    "            post_tcr   = set(post_amino_acid3_MATCHED[sub]) - set(pre_amino_acid3_MATCHED[sub])\n",
    "\n",
    "            matched_shared_aminoacid4 += list(shared_tcr)\n",
    "            matched_different_pre_aminoacid4 += list(pre_tcr)\n",
    "            matched_different_post_aminoacid4 += list(post_tcr)\n",
    "\n",
    "        elif sub in pre_rearrangement3_UNMATCHED:\n",
    "\n",
    "            shared_dna = set(pre_rearrangement3_UNMATCHED[sub]) & set(post_rearrangement3_UNMATCHED[sub])\n",
    "            pre_dna    = set(pre_rearrangement3_UNMATCHED[sub]) - set(post_rearrangement3_UNMATCHED[sub])\n",
    "            post_dna   = set(post_rearrangement3_UNMATCHED[sub]) - set(pre_rearrangement3_UNMATCHED[sub])\n",
    "\n",
    "            unmatched_shared_rearrangement4 += list(shared_dna)\n",
    "            unmatched_different_pre_rearrangement4 += list(pre_dna)\n",
    "            unmatched_different_post_rearrangement4 += list(post_dna)\n",
    "\n",
    "            shared_tcr = set(pre_amino_acid3_UNMATCHED[sub]) & set(post_amino_acid3_UNMATCHED[sub])\n",
    "            pre_tcr    = set(pre_amino_acid3_UNMATCHED[sub]) - set(post_amino_acid3_UNMATCHED[sub])\n",
    "            post_tcr   = set(post_amino_acid3_UNMATCHED[sub]) - set(pre_amino_acid3_UNMATCHED[sub])\n",
    "\n",
    "            unmatched_shared_aminoacid4 += list(shared_tcr)\n",
    "            unmatched_different_pre_aminoacid4 += list(pre_tcr)\n",
    "            unmatched_different_post_aminoacid4 += list(post_tcr)\n",
    "            "
   ]
  },
  {
   "cell_type": "code",
   "execution_count": 124,
   "metadata": {},
   "outputs": [],
   "source": [
    "matched_shared_pre_rearrangement4_frq = []       # 1\n",
    "matched_different_pre_rearrangement4_frq = []    # 2\n",
    "\n",
    "matched_shared_post_rearrangement4_frq = []      # 3\n",
    "matched_different_post_rearrangement4_frq = []   # 4\n",
    "\n",
    "unmatched_shared_pre_rearrangement4_frq = []     # 5\n",
    "unmatched_different_pre_rearrangement4_frq = []  # 6\n",
    "\n",
    "unmatched_shared_post_rearrangement4_frq = []    # 7\n",
    "unmatched_different_post_rearrangement4_frq = [] # 8\n",
    "\n",
    "matched_shared_pre_aminoacid4_frq = []           # 9\n",
    "matched_different_pre_aminoacid4_frq = []        # 10\n",
    "\n",
    "matched_shared_post_aminoacid4_frq = []          # 11 \n",
    "matched_different_post_aminoacid4_frq = []       # 12 \n",
    "\n",
    "unmatched_shared_pre_aminoacid4_frq = []         # 13\n",
    "unmatched_different_pre_aminoacid4_frq = []      # 14\n",
    "\n",
    "unmatched_shared_post_aminoacid4_frq = []        # 15\n",
    "unmatched_different_post_aminoacid4_frq = []     # 16\n",
    "\n",
    "for subject in pre_rearrangement3_MATCHED:\n",
    "    for i, d in enumerate(pre_rearrangement3_MATCHED[subject]):     \n",
    "        if d in matched_shared_rearrangement4: # 1\n",
    "            matched_shared_pre_rearrangement4_frq.append(pre_prodfrq3_MATCHED[subject][i])\n",
    "        elif d in matched_different_pre_rearrangement4: # 2\n",
    "            matched_different_pre_rearrangement4_frq.append(pre_prodfrq3_MATCHED[subject][i])       \n",
    "        else:\n",
    "            raise ValueError(1)\n",
    "        \n",
    "for subject in post_rearrangement3_MATCHED: \n",
    "    for i, d in enumerate(post_rearrangement3_MATCHED[subject]):        \n",
    "        if d in matched_shared_rearrangement4: # 3\n",
    "            matched_shared_post_rearrangement4_frq.append(post_prodfrq3_MATCHED[subject][i])\n",
    "        elif d in matched_different_post_rearrangement4: # 4\n",
    "            matched_different_post_rearrangement4_frq.append(post_prodfrq3_MATCHED[subject][i])\n",
    "        else:\n",
    "            raise ValueError()\n",
    "            \n",
    "for subject in pre_rearrangement3_UNMATCHED:    \n",
    "    for i, d in enumerate(pre_rearrangement3_UNMATCHED[subject]):        \n",
    "        if d in unmatched_shared_rearrangement4: # 5\n",
    "            unmatched_shared_pre_rearrangement4_frq.append(pre_prodfrq3_UNMATCHED[subject][i])\n",
    "        elif d in unmatched_different_pre_rearrangement4: # 6\n",
    "            unmatched_different_pre_rearrangement4_frq.append(pre_prodfrq3_UNMATCHED[subject][i])\n",
    "        else:\n",
    "            raise ValueError()\n",
    "        \n",
    "for subject in post_rearrangement3_UNMATCHED:    \n",
    "    for i, d in enumerate(post_rearrangement3_UNMATCHED[subject]):        \n",
    "        if d in unmatched_shared_rearrangement4: # 7\n",
    "            unmatched_shared_post_rearrangement4_frq.append(post_prodfrq3_UNMATCHED[subject][i])\n",
    "        elif d in unmatched_different_post_rearrangement4: # 8\n",
    "            unmatched_different_post_rearrangement4_frq.append(post_prodfrq3_UNMATCHED[subject][i])\n",
    "        else:\n",
    "            raise ValueError()\n",
    "            \n",
    "for subject in pre_amino_acid3_MATCHED:    \n",
    "    for i, d in enumerate(pre_amino_acid3_MATCHED[subject]):        \n",
    "        if d in matched_shared_aminoacid4: # 9\n",
    "            matched_shared_pre_aminoacid4_frq.append(pre_prodfrq3_MATCHED[subject][i])\n",
    "        elif d in matched_different_pre_aminoacid4: # 10\n",
    "            matched_different_pre_aminoacid4_frq.append(pre_prodfrq3_MATCHED[subject][i])\n",
    "        else:\n",
    "            raise ValueError()    \n",
    "            \n",
    "for subject in post_amino_acid3_MATCHED:    \n",
    "    for i, d in enumerate(post_amino_acid3_MATCHED[subject]):        \n",
    "        if d in matched_shared_aminoacid4: # 11\n",
    "            matched_shared_post_aminoacid4_frq.append(post_prodfrq3_MATCHED[subject][i])\n",
    "        elif d in matched_different_post_aminoacid4: # 12\n",
    "            matched_different_post_aminoacid4_frq.append(post_prodfrq3_MATCHED[subject][i])\n",
    "        else:\n",
    "            raise ValueError()\n",
    "            \n",
    "for subject in pre_amino_acid3_UNMATCHED:    \n",
    "    for i, d in enumerate(pre_amino_acid3_UNMATCHED[subject]):        \n",
    "        if d in unmatched_shared_aminoacid4: # 13\n",
    "            unmatched_shared_pre_aminoacid4_frq.append(pre_prodfrq3_UNMATCHED[subject][i])\n",
    "        elif d in unmatched_different_pre_aminoacid4: # 14\n",
    "            unmatched_different_pre_aminoacid4_frq.append(pre_prodfrq3_UNMATCHED[subject][i])\n",
    "        else:\n",
    "            raise ValueError()\n",
    "            \n",
    "for subject in post_amino_acid3_UNMATCHED:    \n",
    "    for i, d in enumerate(post_amino_acid3_UNMATCHED[subject]):        \n",
    "        if d in unmatched_shared_aminoacid4: # 15\n",
    "            unmatched_shared_post_aminoacid4_frq.append(post_prodfrq3_UNMATCHED[subject][i])\n",
    "        elif d in unmatched_different_post_aminoacid4: # 16\n",
    "            unmatched_different_post_aminoacid4_frq.append(post_prodfrq3_UNMATCHED[subject][i])\n",
    "        else:\n",
    "            raise ValueError()"
   ]
  },
  {
   "cell_type": "code",
   "execution_count": 125,
   "metadata": {},
   "outputs": [],
   "source": [
    "dna_frq = pd.DataFrame({\n",
    "    \"matched_shared_pre\": pd.Series(matched_shared_pre_rearrangement4_frq),\n",
    "    \"matched_shared_post\": pd.Series(matched_shared_post_rearrangement4_frq),\n",
    "    \"matched_pre\": pd.Series(matched_different_pre_rearrangement4_frq),\n",
    "    \"matched_post\": pd.Series(matched_different_post_rearrangement4_frq),\n",
    "    \"unmatched_shared_pre\": pd.Series(unmatched_shared_pre_rearrangement4_frq),\n",
    "    \"unmatched_shared_post\": pd.Series(unmatched_shared_post_rearrangement4_frq),\n",
    "    \"unmatched_pre\": pd.Series(unmatched_different_pre_rearrangement4_frq),\n",
    "    \"unmatched_post\": pd.Series(unmatched_different_post_rearrangement4_frq),\n",
    "})"
   ]
  },
  {
   "cell_type": "code",
   "execution_count": 126,
   "metadata": {},
   "outputs": [
    {
     "data": {
      "text/plain": [
       "<matplotlib.axes._subplots.AxesSubplot at 0x1a31f8e860>"
      ]
     },
     "execution_count": 126,
     "metadata": {},
     "output_type": "execute_result"
    },
    {
     "data": {
      "image/png": "[encoded data removed]",
      "text/plain": [
       "<Figure size 432x288 with 1 Axes>"
      ]
     },
     "metadata": {},
     "output_type": "display_data"
    }
   ],
   "source": [
    "np.log10(dna_frq).plot(kind=\"box\", notch=True)"
   ]
  },
  {
   "cell_type": "code",
   "execution_count": 127,
   "metadata": {},
   "outputs": [
    {
     "data": {
      "text/plain": [
       "<matplotlib.axes._subplots.AxesSubplot at 0x1a3b73f0b8>"
      ]
     },
     "execution_count": 127,
     "metadata": {},
     "output_type": "execute_result"
    },
    {
     "data": {
      "image/png": "[encoded data removed]",
      "text/plain": [
       "<Figure size 432x288 with 1 Axes>"
      ]
     },
     "metadata": {},
     "output_type": "display_data"
    }
   ],
   "source": [
    "(dna_frq).plot(kind=\"box\", notch=True)"
   ]
  },
  {
   "cell_type": "code",
   "execution_count": 128,
   "metadata": {},
   "outputs": [],
   "source": [
    "tcr_frq = pd.DataFrame({\n",
    "    \"matched_shared_pre\": pd.Series(matched_shared_pre_aminoacid4_frq),\n",
    "    \"matched_shared_post\": pd.Series(matched_shared_post_aminoacid4_frq),\n",
    "    \"matched_pre\": pd.Series(matched_different_pre_aminoacid4_frq),\n",
    "    \"matched_post\": pd.Series(matched_different_post_aminoacid4_frq),\n",
    "    \"unmatched_shared_pre\": pd.Series(unmatched_shared_pre_aminoacid4_frq),\n",
    "    \"unmatched_shared_post\": pd.Series(unmatched_shared_post_aminoacid4_frq),\n",
    "    \"unmatched_pre\": pd.Series(unmatched_different_pre_aminoacid4_frq),\n",
    "    \"unmatched_post\": pd.Series(unmatched_different_post_aminoacid4_frq),\n",
    "})"
   ]
  },
  {
   "cell_type": "code",
   "execution_count": 129,
   "metadata": {},
   "outputs": [
    {
     "data": {
      "text/plain": [
       "<matplotlib.axes._subplots.AxesSubplot at 0x1a35df3f28>"
      ]
     },
     "execution_count": 129,
     "metadata": {},
     "output_type": "execute_result"
    },
    {
     "data": {
      "image/png": "[encoded data removed]",
      "text/plain": [
       "<Figure size 432x288 with 1 Axes>"
      ]
     },
     "metadata": {},
     "output_type": "display_data"
    }
   ],
   "source": [
    "np.log10(tcr_frq).plot(kind=\"box\", notch=True)"
   ]
  },
  {
   "cell_type": "code",
   "execution_count": 130,
   "metadata": {},
   "outputs": [
    {
     "data": {
      "text/plain": [
       "6993"
      ]
     },
     "execution_count": 130,
     "metadata": {},
     "output_type": "execute_result"
    }
   ],
   "source": [
    "len(dna_frq[\"matched_shared_pre\"].dropna())"
   ]
  },
  {
   "cell_type": "code",
   "execution_count": 131,
   "metadata": {},
   "outputs": [
    {
     "data": {
      "text/plain": [
       "6994"
      ]
     },
     "execution_count": 131,
     "metadata": {},
     "output_type": "execute_result"
    }
   ],
   "source": [
    "len(dna_frq[\"matched_shared_post\"].dropna())"
   ]
  },
  {
   "cell_type": "code",
   "execution_count": 132,
   "metadata": {},
   "outputs": [
    {
     "data": {
      "text/html": [
       "<div>\n",
       "<style scoped>\n",
       "    .dataframe tbody tr th:only-of-type {\n",
       "        vertical-align: middle;\n",
       "    }\n",
       "\n",
       "    .dataframe tbody tr th {\n",
       "        vertical-align: top;\n",
       "    }\n",
       "\n",
       "    .dataframe thead th {\n",
       "        text-align: right;\n",
       "    }\n",
       "</style>\n",
       "<table border=\"1\" class=\"dataframe\">\n",
       "  <thead>\n",
       "    <tr style=\"text-align: right;\">\n",
       "      <th></th>\n",
       "      <th>matched_shared_pre</th>\n",
       "      <th>matched_shared_post</th>\n",
       "      <th>matched_pre</th>\n",
       "      <th>matched_post</th>\n",
       "      <th>unmatched_shared_pre</th>\n",
       "      <th>unmatched_shared_post</th>\n",
       "      <th>unmatched_pre</th>\n",
       "      <th>unmatched_post</th>\n",
       "    </tr>\n",
       "  </thead>\n",
       "  <tbody>\n",
       "    <tr>\n",
       "      <th>0</th>\n",
       "      <td>0.005302</td>\n",
       "      <td>0.000117</td>\n",
       "      <td>0.006322</td>\n",
       "      <td>0.000057</td>\n",
       "      <td>0.001167</td>\n",
       "      <td>0.002295</td>\n",
       "      <td>0.001773</td>\n",
       "      <td>0.000931</td>\n",
       "    </tr>\n",
       "    <tr>\n",
       "      <th>1</th>\n",
       "      <td>0.002284</td>\n",
       "      <td>0.000164</td>\n",
       "      <td>0.002651</td>\n",
       "      <td>0.000120</td>\n",
       "      <td>0.002053</td>\n",
       "      <td>0.003053</td>\n",
       "      <td>0.002147</td>\n",
       "      <td>0.000866</td>\n",
       "    </tr>\n",
       "    <tr>\n",
       "      <th>2</th>\n",
       "      <td>0.016069</td>\n",
       "      <td>0.000378</td>\n",
       "      <td>0.017578</td>\n",
       "      <td>0.000030</td>\n",
       "      <td>0.005087</td>\n",
       "      <td>0.013337</td>\n",
       "      <td>0.005694</td>\n",
       "      <td>0.000433</td>\n",
       "    </tr>\n",
       "    <tr>\n",
       "      <th>3</th>\n",
       "      <td>0.042049</td>\n",
       "      <td>0.000040</td>\n",
       "      <td>0.001835</td>\n",
       "      <td>0.000030</td>\n",
       "      <td>0.008214</td>\n",
       "      <td>0.008011</td>\n",
       "      <td>0.000887</td>\n",
       "      <td>0.000411</td>\n",
       "    </tr>\n",
       "    <tr>\n",
       "      <th>4</th>\n",
       "      <td>0.002406</td>\n",
       "      <td>0.000060</td>\n",
       "      <td>0.001958</td>\n",
       "      <td>0.000030</td>\n",
       "      <td>0.015588</td>\n",
       "      <td>0.000368</td>\n",
       "      <td>0.000887</td>\n",
       "      <td>0.000368</td>\n",
       "    </tr>\n",
       "  </tbody>\n",
       "</table>\n",
       "</div>"
      ],
      "text/plain": [
       "   matched_shared_pre  matched_shared_post  matched_pre  matched_post  \\\n",
       "0            0.005302             0.000117     0.006322      0.000057   \n",
       "1            0.002284             0.000164     0.002651      0.000120   \n",
       "2            0.016069             0.000378     0.017578      0.000030   \n",
       "3            0.042049             0.000040     0.001835      0.000030   \n",
       "4            0.002406             0.000060     0.001958      0.000030   \n",
       "\n",
       "   unmatched_shared_pre  unmatched_shared_post  unmatched_pre  unmatched_post  \n",
       "0              0.001167               0.002295       0.001773        0.000931  \n",
       "1              0.002053               0.003053       0.002147        0.000866  \n",
       "2              0.005087               0.013337       0.005694        0.000433  \n",
       "3              0.008214               0.008011       0.000887        0.000411  \n",
       "4              0.015588               0.000368       0.000887        0.000368  "
      ]
     },
     "execution_count": 132,
     "metadata": {},
     "output_type": "execute_result"
    }
   ],
   "source": [
    "tcr_frq.head()"
   ]
  },
  {
   "cell_type": "code",
   "execution_count": 133,
   "metadata": {},
   "outputs": [],
   "source": [
    "values = []\n",
    "labels = []\n",
    "for c in tcr_frq:\n",
    "    \n",
    "    values += list(tcr_frq[c].dropna())\n",
    "    \n",
    "    for i in range(len(tcr_frq[c].dropna())):\n",
    "        labels.append(c)"
   ]
  },
  {
   "cell_type": "code",
   "execution_count": 134,
   "metadata": {},
   "outputs": [
    {
     "data": {
      "text/plain": [
       "True"
      ]
     },
     "execution_count": 134,
     "metadata": {},
     "output_type": "execute_result"
    }
   ],
   "source": [
    "len(values) == len(labels)"
   ]
  },
  {
   "cell_type": "code",
   "execution_count": 135,
   "metadata": {},
   "outputs": [
    {
     "data": {
      "text/html": [
       "<div>\n",
       "<style scoped>\n",
       "    .dataframe tbody tr th:only-of-type {\n",
       "        vertical-align: middle;\n",
       "    }\n",
       "\n",
       "    .dataframe tbody tr th {\n",
       "        vertical-align: top;\n",
       "    }\n",
       "\n",
       "    .dataframe thead th {\n",
       "        text-align: right;\n",
       "    }\n",
       "</style>\n",
       "<table border=\"1\" class=\"dataframe\">\n",
       "  <thead>\n",
       "    <tr style=\"text-align: right;\">\n",
       "      <th></th>\n",
       "      <th>tcr_label</th>\n",
       "      <th>tcr_value</th>\n",
       "    </tr>\n",
       "  </thead>\n",
       "  <tbody>\n",
       "    <tr>\n",
       "      <th>0</th>\n",
       "      <td>matched_shared_pre</td>\n",
       "      <td>-2.275559</td>\n",
       "    </tr>\n",
       "    <tr>\n",
       "      <th>1</th>\n",
       "      <td>matched_shared_pre</td>\n",
       "      <td>-2.641315</td>\n",
       "    </tr>\n",
       "    <tr>\n",
       "      <th>2</th>\n",
       "      <td>matched_shared_pre</td>\n",
       "      <td>-1.794007</td>\n",
       "    </tr>\n",
       "    <tr>\n",
       "      <th>3</th>\n",
       "      <td>matched_shared_pre</td>\n",
       "      <td>-1.376244</td>\n",
       "    </tr>\n",
       "    <tr>\n",
       "      <th>4</th>\n",
       "      <td>matched_shared_pre</td>\n",
       "      <td>-2.618651</td>\n",
       "    </tr>\n",
       "  </tbody>\n",
       "</table>\n",
       "</div>"
      ],
      "text/plain": [
       "            tcr_label  tcr_value\n",
       "0  matched_shared_pre  -2.275559\n",
       "1  matched_shared_pre  -2.641315\n",
       "2  matched_shared_pre  -1.794007\n",
       "3  matched_shared_pre  -1.376244\n",
       "4  matched_shared_pre  -2.618651"
      ]
     },
     "execution_count": 135,
     "metadata": {},
     "output_type": "execute_result"
    }
   ],
   "source": [
    "tcr_frq_sns = pd.DataFrame({\n",
    "    \"tcr_label\": pd.Series(labels),\n",
    "    \"tcr_value\": pd.Series(np.log10(values))\n",
    "})\n",
    "\n",
    "tcr_frq_sns.head()"
   ]
  },
  {
   "cell_type": "code",
   "execution_count": 136,
   "metadata": {},
   "outputs": [
    {
     "data": {
      "text/plain": [
       "(-6, 0)"
      ]
     },
     "execution_count": 136,
     "metadata": {},
     "output_type": "execute_result"
    },
    {
     "data": {
      "image/png": "[encoded data removed]",
      "text/plain": [
       "<Figure size 1512x216 with 1 Axes>"
      ]
     },
     "metadata": {},
     "output_type": "display_data"
    }
   ],
   "source": [
    "fig, ax = plt.subplots()\n",
    "fig.set_size_inches(21,3)\n",
    "\n",
    "sns.violinplot(x=\"tcr_label\",\n",
    "               y=\"tcr_value\",\n",
    "               data=tcr_frq_sns,\n",
    "               inner=\"quartile\",\n",
    "               split=False,\n",
    "               scale=\"count\",\n",
    "               zorder=0,\n",
    "               width=0.7,\n",
    "               alpha=0.3)\n",
    "\n",
    "sns.boxplot(x=\"tcr_label\",\n",
    "            y=\"tcr_value\",\n",
    "            data=tcr_frq_sns,\n",
    "            notch=True,\n",
    "            width=0.5,\n",
    "            zorder=1,\n",
    "            flierprops=flierprops)\n",
    "\n",
    "plt.ylim([-6,0])"
   ]
  },
  {
   "cell_type": "code",
   "execution_count": 137,
   "metadata": {},
   "outputs": [],
   "source": [
    "fig.savefig(\"../../Figures/main/7/panels/7d_overlapping_tcrs_freqs_pre_postNACT2.pdf\")"
   ]
  },
  {
   "cell_type": "code",
   "execution_count": 138,
   "metadata": {},
   "outputs": [
    {
     "data": {
      "text/plain": [
       "unmatched_pre            106341\n",
       "matched_post              90069\n",
       "unmatched_post            46603\n",
       "matched_pre               32245\n",
       "matched_shared_post       11626\n",
       "matched_shared_pre        10775\n",
       "unmatched_shared_pre       5816\n",
       "unmatched_shared_post      5716\n",
       "Name: tcr_label, dtype: int64"
      ]
     },
     "execution_count": 138,
     "metadata": {},
     "output_type": "execute_result"
    }
   ],
   "source": [
    "(tcr_frq_sns[\"tcr_label\"].value_counts())"
   ]
  },
  {
   "cell_type": "markdown",
   "metadata": {},
   "source": [
    "# End script"
   ]
  }
 ],
 "metadata": {
  "kernelspec": {
   "display_name": "Python 3",
   "language": "python",
   "name": "python3"
  },
  "language_info": {
   "codemirror_mode": {
    "name": "ipython",
    "version": 3
   },
   "file_extension": ".py",
   "mimetype": "text/x-python",
   "name": "python",
   "nbconvert_exporter": "python",
   "pygments_lexer": "ipython3",
   "version": "3.6.8"
  }
 },
 "nbformat": 4,
 "nbformat_minor": 2
}
